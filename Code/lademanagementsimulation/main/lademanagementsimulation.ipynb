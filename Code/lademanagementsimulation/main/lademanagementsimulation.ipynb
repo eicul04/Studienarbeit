{
 "cells": [
  {
   "cell_type": "markdown",
   "metadata": {
    "pycharm": {
     "name": "#%% md\n"
    }
   },
   "source": [
    "# Lademanagementsimulation   \n"
   ]
  },
  {
   "cell_type": "markdown",
   "metadata": {},
   "source": [
    "### Simulations Parameter"
   ]
  },
  {
   "cell_type": "code",
   "execution_count": 1,
   "metadata": {
    "pycharm": {
     "name": "#%%\n"
    }
   },
   "outputs": [],
   "source": [
    "solarpeakleistung = 125 #Einheit Kilowattpeak (kWP)\n",
    "anzahl_bevs_pro_tag = 10\n",
    "ladeleistung_pro_bev = 11 #Einheit kW\n",
    "maximale_ladezeit = 30 #Einheit Minuten\n",
    "minute_interval = 15 #Einheit Minuten"
   ]
  },
  {
   "cell_type": "markdown",
   "metadata": {},
   "source": [
    "### Simulations Eingangsdaten"
   ]
  },
  {
   "cell_type": "code",
   "execution_count": 2,
   "metadata": {
    "pycharm": {
     "is_executing": true,
     "name": "#%%\n"
    }
   },
   "outputs": [
    {
     "data": {
      "text/html": [
       "\n",
       "        <iframe\n",
       "            width=\"100%\"\n",
       "            height=\"650\"\n",
       "            src=\"http://127.0.0.1:8050/\"\n",
       "            frameborder=\"0\"\n",
       "            allowfullscreen\n",
       "            \n",
       "        ></iframe>\n",
       "        "
      ],
      "text/plain": [
       "<IPython.lib.display.IFrame at 0x245d708afd0>"
      ]
     },
     "metadata": {},
     "output_type": "display_data"
    }
   ],
   "source": [
    "import simulationInputDataVisualisation\n",
    "simulationInputDataVisualisation.create_jupyter_dash_app(solarpeakleistung)"
   ]
  },
  {
   "cell_type": "markdown",
   "metadata": {},
   "source": [
    "### Verteilungsalgorithmus Polling - FIFO\n",
    "- der Algorithmus weist den BEVs jeweils ein Zustand zu, die Zustände sind wartend (BEV parkt und will laden), ladend (BEV wird mit Solarenergie geladen), nicht parkend (BEV befindet sich nicht im Lademanagmentsystem)\n",
    "- pro BEV Ladeleistung von z.B. 2kW (ladeleistung_pro_bev), wenn verfügbarer Solarstrom > Ladeleistung, dann wird der Solarstrom auf mehrere BEVs verteilt\n",
    "- aktuell wartende Verbraucher werden in einer Warteliste (Pollingliste) abgearbeitet, nach einem variablen Zeitintervall (maximale_ladezeit, z.B. 30min) wird Verbraucher wieder hinten an die Warteliste angefügt. \n",
    "- dabei wird immer das erste BEV der Warteliste auf die Ladeliste genommen, unabhängig von der Länge der Parkzeit\n",
    "- Wenn im Tagesverlauf die Anzahl bereits ladender BEVs größer wird als die Anzahl möglich ladender BEVs, wird das erste BEV der Ladeliste wieder nach hinten an die Warteliste gesetzt"
   ]
  },
  {
   "cell_type": "markdown",
   "metadata": {},
   "source": [
    "### Verteilungsalgorithmus Polling - mit gleichmäßiger Verteilung\n",
    "- wie FIFO Abarbeitung der BEVs auf der Warteliste\n",
    "- allerdings werden BEVs nach dem sie einmal aufgeladen wurden auf eine neue Warteliste gesetzt mit geringerer Priorität => so soll gewährleistet werden, dass erstmal alle BEVs einmal aufgeladen werden, bevor BEVs mehrmals geladen werden "
   ]
  },
  {
   "cell_type": "markdown",
   "metadata": {},
   "source": [
    "### Prognose (Berücksichtigung der Parkdauer - Optimale Ausnutzung)\n",
    "- Ziel ist das möglichst alle gleich viel bekommen und der Solarstrom optimal ausgenutzt wird ⇒ nichts geht verloren\n",
    "- Berechnung des Ladeintervalls:\n",
    "    - Wann sind während des angegebenen Parkintervalls am wenigsten andere BEVs am Warten? (Minimum Anzahl wartender BEVs in Parkintevall)\n",
    "    - Ladestart: sobald Minimum Anzahl wartender BEVs in Parkintevall erreicht wird\n",
    "    - Ladeende: nach fester Zeit oder nachdem Anzahl wartender BEVs nicht mehr Minimum Anzahl wartender BEVs entspricht\n",
    "- Solarleistung wird zu jedem Zeitpunkt gleichmäßig unter ladenden BEVs verteilt, also Ladeleistung = Verfügbare Solarleistung / Ladende BEVs"
   ]
  },
  {
   "cell_type": "markdown",
   "metadata": {},
   "source": [
    "### Prognose (Berücksichtigung der Parkdauer - Belohnung)\n",
    "- Ziel: länger parkende BEVs sollen belohnt werden und mehr Solarenergie garantiert bekommen\n",
    "- Möglichkeiten: mehr Solarenergie oder längeres Ladeintervall"
   ]
  },
  {
   "cell_type": "code",
   "execution_count": 3,
   "metadata": {
    "pycharm": {
     "is_executing": true
    }
   },
   "outputs": [
    {
     "name": "stdout",
     "output_type": "stream",
     "text": [
      "{0: [(13.0, 7.3), 'wartend', []], 1: [(8.5, 4.3), 'nicht parkend', []], 2: [(8.5, 5.6), 'nicht parkend', []], 3: [(12.5, 4.8), 'wartend', []], 4: [(13.0, 4.1), 'wartend', []], 5: [(9.0, 5.0), 'nicht parkend', []], 6: [(8.5, 4.9), 'nicht parkend', []], 7: [(8.0, 7.7), 'nicht parkend', []], 8: [(13.0, 6.0), 'wartend', []], 9: [(8.5, 5.0), 'nicht parkend', []]} Start: BEVs_dict\n",
      "für BEV mit ID 0\n",
      "{480: -2.0, 495: 1.38, 510: 1.2, 525: 2.38, 540: 3.17, 555: 4.56, 570: 6.16, 585: 7.6, 600: 8.5, 615: 8.87, 630: 8.7, 645: 8.39, 660: 8.33, 675: 8.52, 690: 8.96, 705: 9.3, 720: 9.17, 735: 8.58, 750: 6.45, 765: 5.58, 780: 4.0, 795: 4.01, 810: 5.6, 825: 6.03, 840: 7.0, 855: 7.7, 870: 6.35, 885: 4.82, 900: 3.6, 915: 2.69, 930: 2.08, 945: 2.24, 960: 2.25} available_solar_power_per_bev_per_minute_dict\n",
      "[780] parking_interval_in_minutes_as_list\n",
      "{780: 4.0} available_solar_power_per_bev_in_parking_interval_dict\n",
      "0.06666666666666667 Fairer Anteil für BEV\n"
     ]
    },
    {
     "ename": "TypeError",
     "evalue": "get_parking_interval_in_minutes_as_list() missing 1 required positional argument: 'minute_interval'",
     "output_type": "error",
     "traceback": [
      "\u001B[1;31m---------------------------------------------------------------------------\u001B[0m",
      "\u001B[1;31mTypeError\u001B[0m                                 Traceback (most recent call last)",
      "Input \u001B[1;32mIn [3]\u001B[0m, in \u001B[0;36m<module>\u001B[1;34m\u001B[0m\n\u001B[0;32m     13\u001B[0m algorithm \u001B[38;5;241m=\u001B[39m distributionAlgorithmPolling\u001B[38;5;241m.\u001B[39mAlgorithm\u001B[38;5;241m.\u001B[39mPOLLING_FIFO\n\u001B[0;32m     14\u001B[0m \u001B[38;5;66;03m# algorithm = distributionAlgorithmPolling.Algorithm.POLLING_EVEN_DISTRIBUTION\u001B[39;00m\n\u001B[0;32m     15\u001B[0m \u001B[38;5;66;03m# distributionAlgorithmPolling.start_simulation(solarpeakleistung, maximale_ladezeit, ladeleistung_pro_bev, simulation_day, bev_data, table_dict, simulation_data, algorithm)\u001B[39;00m\n\u001B[1;32m---> 17\u001B[0m \u001B[43mdistributionAlgorithmForecast\u001B[49m\u001B[38;5;241;43m.\u001B[39;49m\u001B[43mstart_algorithm\u001B[49m\u001B[43m(\u001B[49m\u001B[43msimulation_data\u001B[49m\u001B[43m,\u001B[49m\u001B[43m \u001B[49m\u001B[43msimulation_day\u001B[49m\u001B[43m,\u001B[49m\u001B[43m \u001B[49m\u001B[43mmaximale_ladezeit\u001B[49m\u001B[43m,\u001B[49m\u001B[43m \u001B[49m\u001B[43msolarpeakleistung\u001B[49m\u001B[43m,\u001B[49m\u001B[43m \u001B[49m\n\u001B[0;32m     18\u001B[0m \u001B[43m                    \u001B[49m\u001B[43mbev_data\u001B[49m\u001B[43m,\u001B[49m\u001B[43m \u001B[49m\u001B[43mtable_dict\u001B[49m\u001B[43m,\u001B[49m\u001B[43m \u001B[49m\u001B[43mladeleistung_pro_bev\u001B[49m\u001B[43m,\u001B[49m\u001B[43m \u001B[49m\u001B[43mminute_interval\u001B[49m\u001B[43m)\u001B[49m\n",
      "File \u001B[1;32mD:\\Duales Studium\\DHBW\\Studienarbeit\\Code\\lademanagementsimulation\\main\\distributionAlgorithmForecast.py:33\u001B[0m, in \u001B[0;36mstart_algorithm\u001B[1;34m(simulation_data, simulation_day, maximum_charging_time, solar_peak_power, bev_data, table_dict, charging_power_per_bev, minute_interval)\u001B[0m\n\u001B[0;32m     31\u001B[0m \u001B[38;5;28;01mfor\u001B[39;00m minute_interval \u001B[38;5;129;01min\u001B[39;00m day_in_minute_interval_steps:\n\u001B[0;32m     32\u001B[0m     init_simulation_data(minute_interval, solar_peak_power, simulation_day, bev_data, table_dict, simulation_data)\n\u001B[1;32m---> 33\u001B[0m \u001B[43mdetermine_charging_distribution\u001B[49m\u001B[43m(\u001B[49m\u001B[43mcharging_power_per_bev\u001B[49m\u001B[43m,\u001B[49m\u001B[43m \u001B[49m\u001B[43mmaximum_charging_time\u001B[49m\u001B[43m,\u001B[49m\u001B[43m \u001B[49m\u001B[43msimulation_data\u001B[49m\u001B[43m,\u001B[49m\u001B[43m \u001B[49m\u001B[43msimulation_day\u001B[49m\u001B[43m,\u001B[49m\n\u001B[0;32m     34\u001B[0m \u001B[43m                                \u001B[49m\u001B[43msolar_peak_power\u001B[49m\u001B[43m,\u001B[49m\u001B[43m \u001B[49m\u001B[43mminute_interval\u001B[49m\u001B[43m)\u001B[49m\n",
      "File \u001B[1;32mD:\\Duales Studium\\DHBW\\Studienarbeit\\Code\\lademanagementsimulation\\main\\distributionAlgorithmForecast.py:51\u001B[0m, in \u001B[0;36mdetermine_charging_distribution\u001B[1;34m(charging_power_per_bev, maximum_charging_time, simulation_data, simulation_day, solar_peak_power, minute_interval)\u001B[0m\n\u001B[0;32m     49\u001B[0m fair_share \u001B[38;5;241m=\u001B[39m calculate_fair_share(available_solar_power_per_bev_in_parking_interval_dict)\n\u001B[0;32m     50\u001B[0m \u001B[38;5;28mprint\u001B[39m(fair_share, \u001B[38;5;124m\"\u001B[39m\u001B[38;5;124mFairer Anteil für BEV\u001B[39m\u001B[38;5;124m\"\u001B[39m)\n\u001B[1;32m---> 51\u001B[0m \u001B[43mset_initial_charging_times\u001B[49m\u001B[43m(\u001B[49m\u001B[43msimulation_day\u001B[49m\u001B[43m,\u001B[49m\u001B[43m \u001B[49m\u001B[43mmaximum_charging_time\u001B[49m\u001B[43m,\u001B[49m\u001B[43m \u001B[49m\u001B[43mcharging_power_per_bev\u001B[49m\u001B[43m,\u001B[49m\u001B[43m \u001B[49m\u001B[43msolar_peak_power\u001B[49m\u001B[43m,\u001B[49m\n\u001B[0;32m     52\u001B[0m \u001B[43m                           \u001B[49m\u001B[43mavailable_solar_power_per_bev_in_parking_interval_dict\u001B[49m\u001B[43m,\u001B[49m\u001B[43m \u001B[49m\u001B[43mid_bev\u001B[49m\u001B[43m)\u001B[49m\n",
      "File \u001B[1;32mD:\\Duales Studium\\DHBW\\Studienarbeit\\Code\\lademanagementsimulation\\main\\distributionAlgorithmForecast.py:64\u001B[0m, in \u001B[0;36mset_initial_charging_times\u001B[1;34m(simulation_day, maximum_charging_time, charging_power_per_bev, solar_peak_power, available_solar_power_per_bev_in_parking_interval_dict, id_bev)\u001B[0m\n\u001B[0;32m     61\u001B[0m minute_when_max_available_solar_power_per_bev \u001B[38;5;241m=\u001B[39m get_minute_when_max_available_solar_power_per_bev(\n\u001B[0;32m     62\u001B[0m     available_solar_power_per_bev_in_parking_interval_dict)\n\u001B[0;32m     63\u001B[0m \u001B[38;5;66;03m# Wie lange muss BEV um Maximum herum tanken, um fairen Anteil zu erhalten?\u001B[39;00m\n\u001B[1;32m---> 64\u001B[0m \u001B[43mget_necessary_charging_period\u001B[49m\u001B[43m(\u001B[49m\u001B[43mid_bev\u001B[49m\u001B[43m,\u001B[49m\u001B[43m \u001B[49m\u001B[43mcharging_power_per_bev\u001B[49m\u001B[43m,\u001B[49m\u001B[43m \u001B[49m\u001B[43msolar_peak_power\u001B[49m\u001B[43m,\u001B[49m\u001B[43m \u001B[49m\u001B[43msimulation_day\u001B[49m\u001B[43m)\u001B[49m\n\u001B[0;32m     65\u001B[0m charging_start \u001B[38;5;241m=\u001B[39m get_charging_start(minute_when_max_available_solar_power_per_bev, maximum_charging_time)\n\u001B[0;32m     66\u001B[0m charging_end \u001B[38;5;241m=\u001B[39m get_charging_end(minute_when_max_available_solar_power_per_bev, maximum_charging_time)\n",
      "File \u001B[1;32mD:\\Duales Studium\\DHBW\\Studienarbeit\\Code\\lademanagementsimulation\\main\\distributionAlgorithmForecast.py:131\u001B[0m, in \u001B[0;36mget_necessary_charging_period\u001B[1;34m(id_bev, charging_power_pro_bev, solar_peak_power, simulation_day)\u001B[0m\n\u001B[0;32m    129\u001B[0m \u001B[38;5;28;01mdef\u001B[39;00m \u001B[38;5;21mget_necessary_charging_period\u001B[39m(id_bev, charging_power_pro_bev,\n\u001B[0;32m    130\u001B[0m                                   solar_peak_power, simulation_day):\n\u001B[1;32m--> 131\u001B[0m     \u001B[43mget_possible_charging_interval\u001B[49m\u001B[43m(\u001B[49m\u001B[43mid_bev\u001B[49m\u001B[43m,\u001B[49m\u001B[43m \u001B[49m\u001B[43mcharging_power_pro_bev\u001B[49m\u001B[43m,\u001B[49m\n\u001B[0;32m    132\u001B[0m \u001B[43m                                   \u001B[49m\u001B[43msolar_peak_power\u001B[49m\u001B[43m,\u001B[49m\u001B[43m \u001B[49m\u001B[43msimulation_day\u001B[49m\u001B[43m)\u001B[49m\n",
      "File \u001B[1;32mD:\\Duales Studium\\DHBW\\Studienarbeit\\Code\\lademanagementsimulation\\main\\distributionAlgorithmForecast.py:158\u001B[0m, in \u001B[0;36mget_possible_charging_interval\u001B[1;34m(id_bev, charging_power_per_bev, solar_peak_power, simulation_day)\u001B[0m\n\u001B[0;32m    157\u001B[0m \u001B[38;5;28;01mdef\u001B[39;00m \u001B[38;5;21mget_possible_charging_interval\u001B[39m(id_bev, charging_power_per_bev, solar_peak_power, simulation_day):\n\u001B[1;32m--> 158\u001B[0m     forecast_dict \u001B[38;5;241m=\u001B[39m \u001B[43mget_forecast_dict\u001B[49m\u001B[43m(\u001B[49m\u001B[43mid_bev\u001B[49m\u001B[43m,\u001B[49m\u001B[43m \u001B[49m\u001B[43mcharging_power_per_bev\u001B[49m\u001B[43m,\u001B[49m\u001B[43m \u001B[49m\u001B[43msolar_peak_power\u001B[49m\u001B[43m,\u001B[49m\u001B[43m \u001B[49m\u001B[43msimulation_day\u001B[49m\u001B[43m)\u001B[49m\n\u001B[0;32m    159\u001B[0m     possible_charging_intervals_list \u001B[38;5;241m=\u001B[39m []\n\u001B[0;32m    160\u001B[0m     possible_charging_interval_list \u001B[38;5;241m=\u001B[39m []\n",
      "File \u001B[1;32mD:\\Duales Studium\\DHBW\\Studienarbeit\\Code\\lademanagementsimulation\\main\\distributionAlgorithmForecast.py:139\u001B[0m, in \u001B[0;36mget_forecast_dict\u001B[1;34m(id_bev, charging_power_per_bev, solar_peak_power, simulation_day)\u001B[0m\n\u001B[0;32m    137\u001B[0m parking_start \u001B[38;5;241m=\u001B[39m get_parking_start(simulation_day, id_bev)\n\u001B[0;32m    138\u001B[0m parking_end \u001B[38;5;241m=\u001B[39m get_parking_end(simulation_day, id_bev)\n\u001B[1;32m--> 139\u001B[0m parking_interval_in_minutes_as_list \u001B[38;5;241m=\u001B[39m \u001B[43mget_parking_interval_in_minutes_as_list\u001B[49m\u001B[43m(\u001B[49m\u001B[43mparking_start\u001B[49m\u001B[43m,\u001B[49m\u001B[43m \u001B[49m\u001B[43mparking_end\u001B[49m\u001B[43m)\u001B[49m\n\u001B[0;32m    140\u001B[0m \u001B[38;5;28;01mfor\u001B[39;00m minute \u001B[38;5;129;01min\u001B[39;00m parking_interval_in_minutes_as_list:\n\u001B[0;32m    141\u001B[0m     number_of_free_charging_stations \u001B[38;5;241m=\u001B[39m get_number_of_free_charging_stations(minute, charging_power_per_bev,\n\u001B[0;32m    142\u001B[0m                                                                             solar_peak_power, simulation_day)\n",
      "\u001B[1;31mTypeError\u001B[0m: get_parking_interval_in_minutes_as_list() missing 1 required positional argument: 'minute_interval'"
     ]
    }
   ],
   "source": [
    "import distributionAlgorithmPolling\n",
    "import simulationClasses\n",
    "import simulationData\n",
    "import simulationOutputDataVisualisation\n",
    "import distributionAlgorithmForecast\n",
    "\n",
    "simulation_day = simulationClasses.SimulationDay(anzahl_bevs_pro_tag)\n",
    "bev_data = simulationData.BevData()\n",
    "table_dict = simulationData.TableDict()\n",
    "simulation_data = simulationData.SimulationData()\n",
    "\n",
    "# Auswahl des Algorithmus\n",
    "algorithm = distributionAlgorithmPolling.Algorithm.POLLING_FIFO\n",
    "# algorithm = distributionAlgorithmPolling.Algorithm.POLLING_EVEN_DISTRIBUTION\n",
    "# distributionAlgorithmPolling.start_simulation(solarpeakleistung, maximale_ladezeit, ladeleistung_pro_bev, simulation_day, bev_data, table_dict, simulation_data, algorithm)\n",
    "\n",
    "distributionAlgorithmForecast.start_algorithm(simulation_data, simulation_day, maximale_ladezeit, solarpeakleistung, \n",
    "                    bev_data, table_dict, ladeleistung_pro_bev, minute_interval)"
   ]
  },
  {
   "cell_type": "markdown",
   "metadata": {},
   "source": [
    "### Ergebnis Algorithmus"
   ]
  },
  {
   "cell_type": "code",
   "execution_count": null,
   "metadata": {
    "pycharm": {
     "is_executing": true
    }
   },
   "outputs": [],
   "source": [
    "simulationOutputDataVisualisation.print_algorithm_result(bev_data, simulation_data, anzahl_bevs_pro_tag)"
   ]
  },
  {
   "cell_type": "markdown",
   "metadata": {},
   "source": [
    "### Tabellarische Übersicht Park- und Ladeverlauf der BEVs"
   ]
  },
  {
   "cell_type": "code",
   "execution_count": null,
   "metadata": {
    "pycharm": {
     "is_executing": true
    }
   },
   "outputs": [],
   "source": [
    "simulationOutputDataVisualisation.create_tabular_overview_per_minute_slider(table_dict)"
   ]
  },
  {
   "cell_type": "code",
   "execution_count": null,
   "metadata": {
    "pycharm": {
     "is_executing": true
    }
   },
   "outputs": [],
   "source": [
    "import figureGeneration\n",
    "\n",
    "figureGeneration.create_charging_power_figure(simulation_day)"
   ]
  },
  {
   "cell_type": "code",
   "execution_count": null,
   "metadata": {
    "pycharm": {
     "is_executing": true
    }
   },
   "outputs": [],
   "source": [
    "figureGeneration.create_bev_number_figure(simulation_data)"
   ]
  }
 ],
 "metadata": {
  "kernelspec": {
   "display_name": "Python 3 (ipykernel)",
   "language": "python",
   "name": "python3"
  },
  "language_info": {
   "codemirror_mode": {
    "name": "ipython",
    "version": 3
   },
   "file_extension": ".py",
   "mimetype": "text/x-python",
   "name": "python",
   "nbconvert_exporter": "python",
   "pygments_lexer": "ipython3",
   "version": "3.9.5"
  }
 },
 "nbformat": 4,
 "nbformat_minor": 4
}