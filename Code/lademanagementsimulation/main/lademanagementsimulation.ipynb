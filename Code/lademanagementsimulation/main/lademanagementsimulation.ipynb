{
 "cells": [
  {
   "cell_type": "markdown",
   "metadata": {
    "pycharm": {
     "name": "#%% md\n"
    }
   },
   "source": [
    "# Lademanagementsimulation   \n"
   ]
  },
  {
   "cell_type": "markdown",
   "metadata": {},
   "source": [
    "### Simulations Parameter"
   ]
  },
  {
   "cell_type": "code",
   "execution_count": 1,
   "metadata": {
    "pycharm": {
     "name": "#%%\n"
    }
   },
   "outputs": [],
   "source": [
    "solarpeakleistung = 125 #Einheit Kilowattpeak (kWP)\n",
    "anzahl_bevs_pro_tag = 50\n",
    "ladeleistung_pro_bev = 11 #Einheit kW\n",
    "maximale_ladezeit = 30 #Einheit Minuten\n",
    "minute_interval = 15 #Einheit Minuten"
   ]
  },
  {
   "cell_type": "markdown",
   "metadata": {},
   "source": [
    "### Simulations Eingangsdaten"
   ]
  },
  {
   "cell_type": "code",
   "execution_count": 2,
   "metadata": {
    "pycharm": {
     "name": "#%%\n"
    }
   },
   "outputs": [
    {
     "data": {
      "text/html": [
       "\n",
       "        <iframe\n",
       "            width=\"100%\"\n",
       "            height=\"650\"\n",
       "            src=\"http://127.0.0.1:8050/\"\n",
       "            frameborder=\"0\"\n",
       "            allowfullscreen\n",
       "            \n",
       "        ></iframe>\n",
       "        "
      ],
      "text/plain": [
       "<IPython.lib.display.IFrame at 0x276e61cafd0>"
      ]
     },
     "metadata": {},
     "output_type": "display_data"
    }
   ],
   "source": [
    "import simulationInputDataVisualisation\n",
    "simulationInputDataVisualisation.create_jupyter_dash_app(solarpeakleistung)"
   ]
  },
  {
   "cell_type": "markdown",
   "metadata": {},
   "source": [
    "### Verteilungsalgorithmus"
   ]
  },
  {
   "cell_type": "code",
   "execution_count": 3,
   "metadata": {
    "pycharm": {
     "is_executing": true
    }
   },
   "outputs": [
    {
     "name": "stdout",
     "output_type": "stream",
     "text": [
      "\n",
      "\n",
      "Minute:  480\n",
      "Charging BEVs after updating parking end:  []\n",
      "Waiting BEVs:  [4, 8, 11, 17, 18, 22, 39, 42]\n",
      "Charging BEVs list before saving:  []\n",
      "Charging BEV Liste vor residual berechnung:  []\n",
      "Charging BEVs:  []\n",
      "\n",
      "\n",
      "Minute:  495\n",
      "Charging BEVs after updating parking end:  []\n",
      "Waiting BEVs:  [4, 8, 11, 17, 18, 22, 39, 42]\n",
      "Charging BEVs list before saving:  [4]\n",
      "Number of charging BEVs 1\n",
      "Charging power per bev  3.25\n",
      "Charging BEV Liste vor residual berechnung:  [4]\n",
      "Charging time (after updating) for ID BEV 4:  0\n",
      "Charging BEVs:  [4]\n",
      "\n",
      "\n",
      "Minute:  510\n",
      "11.7 parking end\n",
      "510 current minute\n",
      "Charging BEVs after updating parking end:  [4]\n",
      "Waiting BEVs:  [8, 11, 17, 18, 22, 39, 42, 5, 14, 16, 20, 25, 27, 28, 34, 36, 37, 38, 40, 44, 47, 48, 49]\n",
      "Calculate charging time for ID BEV  4\n",
      "Update Charging energy of BEVs which were added in interval\n",
      "For ID BEV 4\n",
      "solar_energy_fueled_so_far:  0\n",
      "updated with charging energy:  0.8125\n",
      "Calculate charging time for ID BEV  4\n",
      "Charging BEVs list before saving:  [4]\n",
      "Number of charging BEVs 1\n",
      "Charging power per bev  8.5\n",
      "Charging BEV Liste vor residual berechnung:  [4]\n",
      "Charging time (after updating) for ID BEV 4:  15\n",
      "Charging BEVs:  [4]\n",
      "\n",
      "\n",
      "Minute:  525\n",
      "11.7 parking end\n",
      "525 current minute\n",
      "Charging BEVs after updating parking end:  [4]\n",
      "Waiting BEVs:  [8, 11, 17, 18, 22, 39, 42, 5, 14, 16, 20, 25, 27, 28, 34, 36, 37, 38, 40, 44, 47, 48, 49]\n",
      "Calculate charging time for ID BEV  4\n",
      "Update Charging energy of BEVs which were added in interval\n",
      "For ID BEV 4\n",
      "solar_energy_fueled_so_far:  0.8125\n",
      "updated with charging energy:  2.125\n",
      "Calculate charging time for ID BEV  4\n",
      "Charging BEVs list before saving:  [4, 8]\n",
      "Number of charging BEVs 2\n",
      "Charging power per bev  6.875\n",
      "Number of charging BEVs 2\n",
      "Charging power per bev  6.875\n",
      "Charging BEV Liste vor residual berechnung:  [4, 8]\n",
      "Die Restladezeit des BEVS 4 endet vor dem nächsten Interval\n",
      "final charging time 34.60363636363638\n",
      "Residual charging_time:  4.603636363636363\n",
      "residual_solar_energy_till_charging_end:  0.5274999999999999\n",
      "For ID BEV 4\n",
      "solar_energy_fueled_so_far:  2.9375\n",
      "updated with charging energy:  0.5274999999999999\n",
      "Number of charging BEVs 2\n",
      "Charging power per bev  6.875\n",
      "Charging time (after updating) for ID BEV 8:  0\n",
      "Charging time (after updating) for ID BEV 11:  0\n",
      "Charging BEVs:  [8, 11]\n",
      "\n",
      "\n",
      "Minute:  540\n",
      "11.4 parking end\n",
      "540 current minute\n",
      "12.9 parking end\n",
      "540 current minute\n",
      "Charging BEVs after updating parking end:  [8, 11]\n",
      "Waiting BEVs:  [17, 18, 22, 39, 42, 5, 14, 16, 20, 25, 27, 28, 34, 36, 37, 38, 40, 44, 47, 48, 49, 1, 2, 3, 9, 12, 13, 21, 31, 41, 43, 46]\n",
      "Calculate charging time for ID BEV  8\n",
      "Update Charging energy of BEVs which were added in interval\n",
      "For ID BEV 8\n",
      "solar_energy_fueled_so_far:  0\n",
      "updated with charging energy:  1.71875\n",
      "Calculate charging time for ID BEV  11\n",
      "Update Charging energy of BEVs which came between intervals\n",
      "charging interval zur Energie Berechnung:  10.396363636363617\n",
      "For ID BEV 11\n",
      "solar_energy_fueled_so_far:  0\n",
      "updated with charging energy:  1.1912499999999977\n",
      "Calculate charging time for ID BEV  8\n",
      "Calculate charging time for ID BEV  11\n",
      "Charging BEVs list before saving:  [8, 11]\n",
      "Number of charging BEVs 2\n",
      "Charging power per bev  9.5\n",
      "Number of charging BEVs 2\n",
      "Charging power per bev  9.5\n",
      "Charging BEV Liste vor residual berechnung:  [8, 11]\n",
      "Die Restladezeit des BEVS 8 endet vor dem nächsten Interval\n",
      "final charging time 23.78684210526319\n",
      "Residual charging_time:  8.786842105263158\n",
      "residual_solar_energy_till_charging_end:  1.39125\n",
      "For ID BEV 8\n",
      "solar_energy_fueled_so_far:  1.71875\n",
      "updated with charging energy:  1.39125\n",
      "Number of charging BEVs 2\n",
      "Charging power per bev  9.5\n",
      "Charging time (after updating) for ID BEV 11:  10.396363636363617\n",
      "Charging time (after updating) for ID BEV 17:  0\n",
      "Charging BEVs:  [11, 17]\n",
      "\n",
      "\n",
      "Minute:  555\n",
      "12.9 parking end\n",
      "555 current minute\n",
      "13.0 parking end\n",
      "555 current minute\n",
      "Charging BEVs after updating parking end:  [11, 17]\n",
      "Waiting BEVs:  [18, 22, 39, 42, 5, 14, 16, 20, 25, 27, 28, 34, 36, 37, 38, 40, 44, 47, 48, 49, 1, 2, 3, 9, 12, 13, 21, 31, 41, 43, 46]\n",
      "Calculate charging time for ID BEV  11\n",
      "Update Charging energy of BEVs which came between intervals\n",
      "charging interval zur Energie Berechnung:  10.396363636363617\n",
      "For ID BEV 11\n",
      "solar_energy_fueled_so_far:  1.1912499999999977\n",
      "updated with charging energy:  1.646090909090906\n",
      "Calculate charging time for ID BEV  17\n",
      "Update Charging energy of BEVs which came between intervals\n",
      "charging interval zur Energie Berechnung:  6.21315789473681\n",
      "For ID BEV 17\n",
      "solar_energy_fueled_so_far:  0\n",
      "updated with charging energy:  0.9837499999999949\n",
      "Calculate charging time for ID BEV  11\n",
      "Calculate charging time for ID BEV  17\n",
      "Charging BEVs list before saving:  [11, 17, 18]\n",
      "Number of charging BEVs 3\n",
      "Charging power per bev  9.0\n",
      "Number of charging BEVs 3\n",
      "Charging power per bev  9.0\n",
      "Number of charging BEVs 3\n",
      "Charging power per bev  9.0\n",
      "Charging BEV Liste vor residual berechnung:  [11, 17, 18]\n",
      "Die Restladezeit des BEVS 11 endet vor dem nächsten Interval\n",
      "final charging time 40.38075757575757\n",
      "Residual charging_time:  14.984393939393975\n",
      "residual_solar_energy_till_charging_end:  2.2476590909090963\n",
      "For ID BEV 11\n",
      "solar_energy_fueled_so_far:  2.8373409090909036\n",
      "updated with charging energy:  2.2476590909090963\n",
      "Number of charging BEVs 3\n",
      "Charging power per bev  9.0\n",
      "Charging time (after updating) for ID BEV 17:  6.21315789473681\n",
      "Charging time (after updating) for ID BEV 18:  0\n",
      "Charging time (after updating) for ID BEV 22:  0\n",
      "Charging BEVs:  [17, 18, 22]\n",
      "\n",
      "\n",
      "Minute:  570\n",
      "13.0 parking end\n",
      "570 current minute\n",
      "14.9 parking end\n",
      "570 current minute\n",
      "15.7 parking end\n",
      "570 current minute\n",
      "Charging BEVs after updating parking end:  [17, 18, 22]\n",
      "Waiting BEVs:  [39, 42, 5, 14, 16, 20, 25, 27, 28, 34, 36, 37, 38, 40, 44, 47, 48, 49, 1, 2, 3, 9, 12, 13, 21, 31, 41, 43, 46, 6, 32, 33]\n",
      "Calculate charging time for ID BEV  17\n",
      "Update Charging energy of BEVs which came between intervals\n",
      "charging interval zur Energie Berechnung:  6.21315789473681\n",
      "For ID BEV 17\n",
      "solar_energy_fueled_so_far:  0.9837499999999949\n",
      "updated with charging energy:  0.9319736842105214\n",
      "Calculate charging time for ID BEV  18\n",
      "Update Charging energy of BEVs which were added in interval\n",
      "For ID BEV 18\n",
      "solar_energy_fueled_so_far:  0\n",
      "updated with charging energy:  2.25\n",
      "Calculate charging time for ID BEV  22\n",
      "Update Charging energy of BEVs which came between intervals\n",
      "charging interval zur Energie Berechnung:  0.015606060606046412\n",
      "For ID BEV 22\n",
      "solar_energy_fueled_so_far:  0\n",
      "updated with charging energy:  0.002340909090906962\n",
      "Calculate charging time for ID BEV  17\n",
      "Calculate charging time for ID BEV  18\n",
      "Calculate charging time for ID BEV  22\n",
      "Charging BEVs list before saving:  [17, 18, 22, 39]\n",
      "Number of charging BEVs 4\n",
      "Charging power per bev  8.75\n",
      "Number of charging BEVs 4\n",
      "Charging power per bev  8.75\n",
      "Number of charging BEVs 4\n",
      "Charging power per bev  8.75\n",
      "Number of charging BEVs 4\n",
      "Charging power per bev  8.75\n",
      "Charging BEV Liste vor residual berechnung:  [17, 18, 22, 39]\n",
      "Charging time (after updating) for ID BEV 17:  21.21315789473681\n",
      "Charging time (after updating) for ID BEV 18:  15\n",
      "Charging time (after updating) for ID BEV 22:  0.015606060606046412\n",
      "Charging time (after updating) for ID BEV 39:  0\n",
      "Charging BEVs:  [17, 18, 22, 39]\n",
      "\n",
      "\n",
      "Minute:  585\n",
      "13.0 parking end\n",
      "585 current minute\n",
      "14.9 parking end\n",
      "585 current minute\n",
      "15.7 parking end\n",
      "585 current minute\n",
      "12.5 parking end\n",
      "585 current minute\n",
      "Charging BEVs after updating parking end:  [17, 18, 22, 39]\n",
      "Waiting BEVs:  [42, 5, 14, 16, 20, 25, 27, 28, 34, 36, 37, 38, 40, 44, 47, 48, 49, 1, 2, 3, 9, 12, 13, 21, 31, 41, 43, 46, 6, 32, 33]\n",
      "Calculate charging time for ID BEV  17\n",
      "Update Charging energy of BEVs which came between intervals\n",
      "charging interval zur Energie Berechnung:  6.21315789473681\n",
      "For ID BEV 17\n",
      "solar_energy_fueled_so_far:  1.9157236842105163\n",
      "updated with charging energy:  0.9060855263157848\n",
      "Calculate charging time for ID BEV  18\n",
      "Update Charging energy of BEVs which were added in interval\n",
      "For ID BEV 18\n",
      "solar_energy_fueled_so_far:  2.25\n",
      "updated with charging energy:  2.1875\n",
      "Calculate charging time for ID BEV  22\n",
      "Update Charging energy of BEVs which came between intervals\n",
      "charging interval zur Energie Berechnung:  0.015606060606046412\n",
      "For ID BEV 22\n",
      "solar_energy_fueled_so_far:  0.002340909090906962\n",
      "updated with charging energy:  0.0022758838383817688\n",
      "Calculate charging time for ID BEV  39\n",
      "Update Charging energy of BEVs which were added in interval\n",
      "For ID BEV 39\n",
      "solar_energy_fueled_so_far:  0\n",
      "updated with charging energy:  2.1875\n",
      "Calculate charging time for ID BEV  17\n",
      "Calculate charging time for ID BEV  18\n",
      "Calculate charging time for ID BEV  22\n",
      "Calculate charging time for ID BEV  39\n",
      "Charging BEVs list before saving:  [17, 18, 22, 39]\n",
      "Number of charging BEVs 4\n",
      "Charging power per bev  10.75\n",
      "Number of charging BEVs 4\n",
      "Charging power per bev  10.75\n",
      "Number of charging BEVs 4\n",
      "Charging power per bev  10.75\n",
      "Number of charging BEVs 4\n",
      "Charging power per bev  10.75\n",
      "Charging BEV Liste vor residual berechnung:  [17, 18, 22, 39]\n",
      "Die Restladezeit des BEVS 17 endet vor dem nächsten Interval\n",
      "final charging time 48.84492044063654\n",
      "Residual charging_time:  12.631762545899713\n",
      "residual_solar_energy_till_charging_end:  2.2631907894736987\n",
      "For ID BEV 17\n",
      "solar_energy_fueled_so_far:  2.8218092105263013\n",
      "updated with charging energy:  2.2631907894736987\n",
      "Number of charging BEVs 4\n",
      "Charging power per bev  10.75\n",
      "Die Restladezeit des BEVS 39 endet vor dem nächsten Interval\n",
      "final charging time 28.130232558139483\n",
      "Residual charging_time:  13.130232558139536\n",
      "residual_solar_energy_till_charging_end:  2.3525\n",
      "For ID BEV 39\n",
      "solar_energy_fueled_so_far:  2.1875\n",
      "updated with charging energy:  2.3525\n",
      "Number of charging BEVs 4\n",
      "Charging power per bev  10.75\n",
      "Charging time (after updating) for ID BEV 18:  30\n",
      "Charging time (after updating) for ID BEV 22:  15.015606060606046\n",
      "Charging time (after updating) for ID BEV 42:  0\n",
      "Charging time (after updating) for ID BEV 5:  0\n",
      "Charging BEVs:  [18, 22, 42, 5]\n",
      "\n",
      "\n",
      "Minute:  600\n",
      "14.9 parking end\n",
      "600 current minute\n",
      "15.7 parking end\n",
      "600 current minute\n",
      "15.5 parking end\n",
      "600 current minute\n",
      "11.9 parking end\n",
      "600 current minute\n",
      "Charging BEVs after updating parking end:  [18, 22, 42, 5]\n",
      "Waiting BEVs:  [14, 16, 20, 25, 27, 28, 34, 36, 37, 38, 40, 44, 47, 48, 49, 1, 2, 3, 9, 12, 13, 21, 31, 41, 43, 46, 6, 32, 33]\n",
      "Calculate charging time for ID BEV  18\n",
      "Update Charging energy of BEVs which were added in interval\n",
      "For ID BEV 18\n"
     ]
    },
    {
     "name": "stdout",
     "output_type": "stream",
     "text": [
      "solar_energy_fueled_so_far:  4.4375\n",
      "updated with charging energy:  2.6875\n",
      "Calculate charging time for ID BEV  22\n",
      "Update Charging energy of BEVs which came between intervals\n",
      "charging interval zur Energie Berechnung:  0.015606060606046412\n",
      "For ID BEV 22\n",
      "solar_energy_fueled_so_far:  0.004616792929288731\n",
      "updated with charging energy:  0.002796085858583316\n",
      "Calculate charging time for ID BEV  42\n",
      "Update Charging energy of BEVs which came between intervals\n",
      "charging interval zur Energie Berechnung:  2.3682374541002673\n",
      "For ID BEV 42\n",
      "solar_energy_fueled_so_far:  0\n",
      "updated with charging energy:  0.4243092105262979\n",
      "Calculate charging time for ID BEV  5\n",
      "Update Charging energy of BEVs which came between intervals\n",
      "charging interval zur Energie Berechnung:  1.8697674418605175\n",
      "For ID BEV 5\n",
      "solar_energy_fueled_so_far:  0\n",
      "updated with charging energy:  0.3350000000000094\n",
      "Calculate charging time for ID BEV  18\n",
      "Calculate charging time for ID BEV  22\n",
      "Calculate charging time for ID BEV  42\n",
      "Calculate charging time for ID BEV  5\n",
      "Charging BEVs list before saving:  [18, 22, 42, 5, 14]\n",
      "Number of charging BEVs 5\n",
      "Charging power per bev  10.2\n",
      "Number of charging BEVs 5\n",
      "Charging power per bev  10.2\n",
      "Number of charging BEVs 5\n",
      "Charging power per bev  10.2\n",
      "Number of charging BEVs 5\n",
      "Charging power per bev  10.2\n",
      "Number of charging BEVs 5\n",
      "Charging power per bev  10.2\n",
      "Charging BEV Liste vor residual berechnung:  [18, 22, 42, 5, 14]\n",
      "Charging time (after updating) for ID BEV 18:  45\n",
      "Charging time (after updating) for ID BEV 22:  30.015606060606046\n",
      "Charging time (after updating) for ID BEV 42:  2.3682374541002673\n",
      "Charging time (after updating) for ID BEV 5:  1.8697674418605175\n",
      "Charging time (after updating) for ID BEV 14:  0\n",
      "Charging BEVs:  [18, 22, 42, 5, 14]\n",
      "\n",
      "\n",
      "Minute:  615\n",
      "14.9 parking end\n",
      "615 current minute\n",
      "15.7 parking end\n",
      "615 current minute\n",
      "15.5 parking end\n",
      "615 current minute\n",
      "11.9 parking end\n",
      "615 current minute\n",
      "15.2 parking end\n",
      "615 current minute\n",
      "Charging BEVs after updating parking end:  [18, 22, 42, 5, 14]\n",
      "Waiting BEVs:  [16, 20, 25, 27, 28, 34, 36, 37, 38, 40, 44, 47, 48, 49, 1, 2, 3, 9, 12, 13, 21, 31, 41, 43, 46, 6, 32, 33]\n",
      "Calculate charging time for ID BEV  18\n",
      "Update Charging energy of BEVs which were added in interval\n",
      "For ID BEV 18\n",
      "solar_energy_fueled_so_far:  7.125\n",
      "updated with charging energy:  2.55\n",
      "Calculate charging time for ID BEV  22\n",
      "Update Charging energy of BEVs which came between intervals\n",
      "charging interval zur Energie Berechnung:  0.015606060606046412\n",
      "For ID BEV 22\n",
      "solar_energy_fueled_so_far:  0.007412878787872047\n",
      "updated with charging energy:  0.0026530303030278903\n",
      "Calculate charging time for ID BEV  42\n",
      "Update Charging energy of BEVs which came between intervals\n",
      "charging interval zur Energie Berechnung:  2.3682374541002673\n",
      "For ID BEV 42\n",
      "solar_energy_fueled_so_far:  0.4243092105262979\n",
      "updated with charging energy:  0.40260036719704545\n",
      "Calculate charging time for ID BEV  5\n",
      "Update Charging energy of BEVs which came between intervals\n",
      "charging interval zur Energie Berechnung:  1.8697674418605175\n",
      "For ID BEV 5\n",
      "solar_energy_fueled_so_far:  0.3350000000000094\n",
      "updated with charging energy:  0.31786046511628796\n",
      "Calculate charging time for ID BEV  14\n",
      "Update Charging energy of BEVs which were added in interval\n",
      "For ID BEV 14\n",
      "solar_energy_fueled_so_far:  0\n",
      "updated with charging energy:  2.55\n",
      "Calculate charging time for ID BEV  18\n",
      "Calculate charging time for ID BEV  22\n",
      "Calculate charging time for ID BEV  42\n",
      "Calculate charging time for ID BEV  5\n",
      "Calculate charging time for ID BEV  14\n",
      "Charging BEVs list before saving:  [18, 22, 42, 5, 14]\n",
      "Number of charging BEVs 5\n",
      "Charging power per bev  10.15\n",
      "Number of charging BEVs 5\n",
      "Charging power per bev  10.15\n",
      "Number of charging BEVs 5\n",
      "Charging power per bev  10.15\n",
      "Number of charging BEVs 5\n",
      "Charging power per bev  10.15\n",
      "Number of charging BEVs 5\n",
      "Charging power per bev  10.15\n",
      "Charging BEV Liste vor residual berechnung:  [18, 22, 42, 5, 14]\n",
      "Charging time (after updating) for ID BEV 18:  60\n",
      "Charging time (after updating) for ID BEV 22:  45.015606060606046\n",
      "Charging time (after updating) for ID BEV 42:  17.368237454100267\n",
      "Charging time (after updating) for ID BEV 5:  16.869767441860517\n",
      "Charging time (after updating) for ID BEV 14:  15\n",
      "Charging BEVs:  [18, 22, 42, 5, 14]\n",
      "\n",
      "\n",
      "Minute:  630\n",
      "14.9 parking end\n",
      "630 current minute\n",
      "15.7 parking end\n",
      "630 current minute\n",
      "15.5 parking end\n",
      "630 current minute\n",
      "11.9 parking end\n",
      "630 current minute\n",
      "15.2 parking end\n",
      "630 current minute\n",
      "Charging BEVs after updating parking end:  [18, 22, 42, 5, 14]\n",
      "Waiting BEVs:  [16, 20, 25, 27, 28, 34, 36, 37, 38, 40, 44, 47, 48, 49, 1, 2, 3, 9, 12, 13, 21, 31, 41, 43, 46, 6, 32, 33]\n",
      "Calculate charging time for ID BEV  18\n",
      "Update Charging energy of BEVs which were added in interval\n",
      "For ID BEV 18\n",
      "solar_energy_fueled_so_far:  9.675\n",
      "updated with charging energy:  2.5375\n",
      "Calculate charging time for ID BEV  22\n",
      "Update Charging energy of BEVs which came between intervals\n",
      "charging interval zur Energie Berechnung:  0.015606060606046412\n",
      "For ID BEV 22\n",
      "solar_energy_fueled_so_far:  0.010065909090899937\n",
      "updated with charging energy:  0.002640025252522852\n",
      "Calculate charging time for ID BEV  42\n",
      "Update Charging energy of BEVs which came between intervals\n",
      "charging interval zur Energie Berechnung:  2.3682374541002673\n",
      "For ID BEV 42\n",
      "solar_energy_fueled_so_far:  0.8269095777233433\n",
      "updated with charging energy:  0.40062683598529525\n",
      "Calculate charging time for ID BEV  5\n",
      "Update Charging energy of BEVs which came between intervals\n",
      "charging interval zur Energie Berechnung:  1.8697674418605175\n",
      "For ID BEV 5\n",
      "solar_energy_fueled_so_far:  0.6528604651162974\n",
      "updated with charging energy:  0.3163023255814042\n",
      "Calculate charging time for ID BEV  14\n",
      "Update Charging energy of BEVs which were added in interval\n",
      "For ID BEV 14\n",
      "solar_energy_fueled_so_far:  2.55\n",
      "updated with charging energy:  2.5375\n",
      "Calculate charging time for ID BEV  18\n",
      "Calculate charging time for ID BEV  22\n",
      "Calculate charging time for ID BEV  42\n",
      "Calculate charging time for ID BEV  5\n",
      "Calculate charging time for ID BEV  14\n",
      "Charging BEVs list before saving:  [18, 22, 42, 5, 14]\n",
      "Number of charging BEVs 5\n",
      "Charging power per bev  10.1\n",
      "Number of charging BEVs 5\n",
      "Charging power per bev  10.1\n",
      "Number of charging BEVs 5\n",
      "Charging power per bev  10.1\n",
      "Number of charging BEVs 5\n",
      "Charging power per bev  10.1\n",
      "Number of charging BEVs 5\n",
      "Charging power per bev  10.1\n",
      "Charging BEV Liste vor residual berechnung:  [18, 22, 42, 5, 14]\n",
      "Die Restladezeit des BEVS 14 endet vor dem nächsten Interval\n",
      "final charging time 42.78712871287132\n",
      "Residual charging_time:  12.787128712871286\n",
      "residual_solar_energy_till_charging_end:  2.1525\n",
      "For ID BEV 14\n",
      "solar_energy_fueled_so_far:  5.0875\n",
      "updated with charging energy:  2.1525\n",
      "Number of charging BEVs 5\n",
      "Charging power per bev  10.1\n",
      "Charging time (after updating) for ID BEV 18:  75\n",
      "Charging time (after updating) for ID BEV 22:  60.015606060606046\n",
      "Charging time (after updating) for ID BEV 42:  32.36823745410027\n",
      "Charging time (after updating) for ID BEV 5:  31.869767441860517\n",
      "Charging time (after updating) for ID BEV 16:  0\n",
      "Charging BEVs:  [18, 22, 42, 5, 16]\n",
      "\n",
      "\n",
      "Minute:  645\n",
      "14.9 parking end\n",
      "645 current minute\n",
      "15.7 parking end\n",
      "645 current minute\n",
      "15.5 parking end\n",
      "645 current minute\n",
      "11.9 parking end\n",
      "645 current minute\n",
      "16.3 parking end\n",
      "645 current minute\n",
      "Charging BEVs after updating parking end:  [18, 22, 42, 5, 16]\n",
      "Waiting BEVs:  [20, 25, 27, 28, 34, 36, 37, 38, 40, 44, 47, 48, 49, 1, 2, 3, 9, 12, 13, 21, 31, 41, 43, 46, 6, 32, 33]\n",
      "Calculate charging time for ID BEV  18\n",
      "Update Charging energy of BEVs which were added in interval\n",
      "For ID BEV 18\n",
      "solar_energy_fueled_so_far:  12.2125\n",
      "updated with charging energy:  2.525\n",
      "Calculate charging time for ID BEV  22\n",
      "Update Charging energy of BEVs which came between intervals\n",
      "charging interval zur Energie Berechnung:  0.015606060606046412\n",
      "For ID BEV 22\n",
      "solar_energy_fueled_so_far:  0.012705934343422789\n",
      "updated with charging energy:  0.002627020202017813\n",
      "Calculate charging time for ID BEV  42\n",
      "Update Charging energy of BEVs which came between intervals\n",
      "charging interval zur Energie Berechnung:  2.3682374541002673\n",
      "For ID BEV 42\n",
      "solar_energy_fueled_so_far:  1.2275364137086386\n",
      "updated with charging energy:  0.398653304773545\n",
      "Calculate charging time for ID BEV  5\n",
      "Update Charging energy of BEVs which came between intervals\n",
      "charging interval zur Energie Berechnung:  1.8697674418605175\n",
      "For ID BEV 5\n",
      "solar_energy_fueled_so_far:  0.9691627906977016\n",
      "updated with charging energy:  0.31474418604652044\n",
      "Calculate charging time for ID BEV  16\n",
      "Update Charging energy of BEVs which came between intervals\n",
      "charging interval zur Energie Berechnung:  2.212871287128678\n",
      "For ID BEV 16\n",
      "solar_energy_fueled_so_far:  0\n",
      "updated with charging energy:  0.37249999999999406\n",
      "Calculate charging time for ID BEV  18\n",
      "Calculate charging time for ID BEV  22\n",
      "Calculate charging time for ID BEV  42\n",
      "Calculate charging time for ID BEV  5\n",
      "Calculate charging time for ID BEV  16\n",
      "Charging BEVs list before saving:  [18, 22, 42, 5, 16]\n",
      "Number of charging BEVs 5\n",
      "Charging power per bev  10.05\n",
      "Number of charging BEVs 5\n",
      "Charging power per bev  10.05\n",
      "Number of charging BEVs 5\n",
      "Charging power per bev  10.05\n",
      "Number of charging BEVs 5\n"
     ]
    },
    {
     "name": "stdout",
     "output_type": "stream",
     "text": [
      "Charging power per bev  10.05\n",
      "Number of charging BEVs 5\n",
      "Charging power per bev  10.05\n",
      "Charging BEV Liste vor residual berechnung:  [18, 22, 42, 5, 16]\n",
      "Charging time (after updating) for ID BEV 18:  90\n",
      "Charging time (after updating) for ID BEV 22:  75.01560606060605\n",
      "Charging time (after updating) for ID BEV 42:  47.36823745410027\n",
      "Charging time (after updating) for ID BEV 5:  46.86976744186052\n",
      "Charging time (after updating) for ID BEV 16:  2.212871287128678\n",
      "Charging BEVs:  [18, 22, 42, 5, 16]\n",
      "\n",
      "\n",
      "Minute:  660\n",
      "14.9 parking end\n",
      "660 current minute\n",
      "15.7 parking end\n",
      "660 current minute\n",
      "15.5 parking end\n",
      "660 current minute\n",
      "11.9 parking end\n",
      "660 current minute\n",
      "16.3 parking end\n",
      "660 current minute\n",
      "Charging BEVs after updating parking end:  [18, 22, 42, 5, 16]\n",
      "Waiting BEVs:  [20, 25, 27, 28, 34, 36, 37, 38, 40, 44, 47, 48, 49, 1, 2, 3, 9, 12, 13, 21, 31, 41, 43, 46, 6, 32, 33]\n",
      "Calculate charging time for ID BEV  18\n",
      "Update Charging energy of BEVs which were added in interval\n",
      "For ID BEV 18\n",
      "solar_energy_fueled_so_far:  14.7375\n",
      "updated with charging energy:  2.5125\n",
      "Calculate charging time for ID BEV  22\n",
      "Update Charging energy of BEVs which came between intervals\n",
      "charging interval zur Energie Berechnung:  0.015606060606046412\n",
      "For ID BEV 22\n",
      "solar_energy_fueled_so_far:  0.015332954545440602\n",
      "updated with charging energy:  0.0026140151515127745\n",
      "Calculate charging time for ID BEV  42\n",
      "Update Charging energy of BEVs which came between intervals\n",
      "charging interval zur Energie Berechnung:  2.3682374541002673\n",
      "For ID BEV 42\n",
      "solar_energy_fueled_so_far:  1.6261897184821836\n",
      "updated with charging energy:  0.3966797735617948\n",
      "Calculate charging time for ID BEV  5\n",
      "Update Charging energy of BEVs which came between intervals\n",
      "charging interval zur Energie Berechnung:  1.8697674418605175\n",
      "For ID BEV 5\n",
      "solar_energy_fueled_so_far:  1.283906976744222\n",
      "updated with charging energy:  0.31318604651163673\n",
      "Calculate charging time for ID BEV  16\n",
      "Update Charging energy of BEVs which came between intervals\n",
      "charging interval zur Energie Berechnung:  2.212871287128678\n",
      "For ID BEV 16\n",
      "solar_energy_fueled_so_far:  0.37249999999999406\n",
      "updated with charging energy:  0.37065594059405355\n",
      "Calculate charging time for ID BEV  18\n",
      "Calculate charging time for ID BEV  22\n",
      "Calculate charging time for ID BEV  42\n",
      "Calculate charging time for ID BEV  5\n",
      "Calculate charging time for ID BEV  16\n",
      "Charging BEVs list before saving:  [18, 22, 42, 5, 16]\n",
      "Number of charging BEVs 5\n",
      "Charging power per bev  10.0\n",
      "Number of charging BEVs 5\n",
      "Charging power per bev  10.0\n",
      "Number of charging BEVs 5\n",
      "Charging power per bev  10.0\n",
      "Number of charging BEVs 5\n",
      "Charging power per bev  10.0\n",
      "Number of charging BEVs 5\n",
      "Charging power per bev  10.0\n",
      "Charging BEV Liste vor residual berechnung:  [18, 22, 42, 5, 16]\n",
      "Die Restladezeit des BEVS 5 endet vor dem nächsten Interval\n",
      "final charging time 75.0722093023254\n",
      "Residual charging_time:  13.202441860464846\n",
      "residual_solar_energy_till_charging_end:  2.200406976744141\n",
      "For ID BEV 5\n",
      "solar_energy_fueled_so_far:  1.5970930232558587\n",
      "updated with charging energy:  2.200406976744141\n",
      "Number of charging BEVs 5\n",
      "Charging power per bev  10.0\n",
      "Charging time (after updating) for ID BEV 18:  105\n",
      "Charging time (after updating) for ID BEV 22:  90.01560606060605\n",
      "Charging time (after updating) for ID BEV 42:  62.36823745410027\n",
      "Charging time (after updating) for ID BEV 16:  17.212871287128678\n",
      "Charging time (after updating) for ID BEV 20:  0\n",
      "Charging BEVs:  [18, 22, 42, 16, 20]\n",
      "\n",
      "\n",
      "Minute:  675\n",
      "14.9 parking end\n",
      "675 current minute\n",
      "15.7 parking end\n",
      "675 current minute\n",
      "15.5 parking end\n",
      "675 current minute\n",
      "16.3 parking end\n",
      "675 current minute\n",
      "13.2 parking end\n",
      "675 current minute\n",
      "Charging BEVs after updating parking end:  [18, 22, 42, 16, 20]\n",
      "Waiting BEVs:  [25, 27, 28, 34, 36, 37, 38, 40, 44, 47, 48, 49, 1, 2, 3, 9, 12, 13, 21, 31, 41, 43, 46, 6, 32, 33]\n",
      "Calculate charging time for ID BEV  18\n",
      "Update Charging energy of BEVs which were added in interval\n",
      "For ID BEV 18\n",
      "solar_energy_fueled_so_far:  17.25\n",
      "updated with charging energy:  2.5\n",
      "Calculate charging time for ID BEV  22\n",
      "Update Charging energy of BEVs which came between intervals\n",
      "charging interval zur Energie Berechnung:  0.015606060606046412\n",
      "For ID BEV 22\n",
      "solar_energy_fueled_so_far:  0.017946969696953377\n",
      "updated with charging energy:  0.0026010101010077355\n",
      "Calculate charging time for ID BEV  42\n",
      "Update Charging energy of BEVs which came between intervals\n",
      "charging interval zur Energie Berechnung:  2.3682374541002673\n",
      "For ID BEV 42\n",
      "solar_energy_fueled_so_far:  2.0228694920439785\n",
      "updated with charging energy:  0.3947062423500446\n",
      "Calculate charging time for ID BEV  16\n",
      "Update Charging energy of BEVs which came between intervals\n",
      "charging interval zur Energie Berechnung:  2.212871287128678\n",
      "For ID BEV 16\n",
      "solar_energy_fueled_so_far:  0.7431559405940475\n",
      "updated with charging energy:  0.368811881188113\n",
      "Calculate charging time for ID BEV  20\n",
      "Update Charging energy of BEVs which came between intervals\n",
      "charging interval zur Energie Berechnung:  1.7975581395351128\n",
      "For ID BEV 20\n",
      "solar_energy_fueled_so_far:  0\n",
      "updated with charging energy:  0.29959302325585213\n",
      "Calculate charging time for ID BEV  18\n",
      "Calculate charging time for ID BEV  22\n",
      "Calculate charging time for ID BEV  42\n",
      "Calculate charging time for ID BEV  16\n",
      "Calculate charging time for ID BEV  20\n",
      "Charging BEVs list before saving:  [18, 22, 42, 16, 20]\n",
      "Number of charging BEVs 5\n",
      "Charging power per bev  10.25\n",
      "Number of charging BEVs 5\n",
      "Charging power per bev  10.25\n",
      "Number of charging BEVs 5\n",
      "Charging power per bev  10.25\n",
      "Number of charging BEVs 5\n",
      "Charging power per bev  10.25\n",
      "Number of charging BEVs 5\n",
      "Charging power per bev  10.25\n",
      "Charging BEV Liste vor residual berechnung:  [18, 22, 42, 16, 20]\n",
      "Charging time (after updating) for ID BEV 18:  120\n",
      "Charging time (after updating) for ID BEV 22:  105.01560606060605\n",
      "Charging time (after updating) for ID BEV 42:  77.36823745410027\n",
      "Charging time (after updating) for ID BEV 16:  32.21287128712868\n",
      "Charging time (after updating) for ID BEV 20:  1.7975581395351128\n",
      "Charging BEVs:  [18, 22, 42, 16, 20]\n",
      "\n",
      "\n",
      "Minute:  690\n",
      "14.9 parking end\n",
      "690 current minute\n",
      "15.7 parking end\n",
      "690 current minute\n",
      "15.5 parking end\n",
      "690 current minute\n",
      "16.3 parking end\n",
      "690 current minute\n",
      "13.2 parking end\n",
      "690 current minute\n",
      "Charging BEVs after updating parking end:  [18, 22, 42, 16, 20]\n",
      "Waiting BEVs:  [25, 27, 28, 34, 36, 37, 38, 40, 44, 47, 48, 49, 1, 2, 3, 9, 12, 13, 21, 31, 41, 43, 46, 6, 32, 33]\n",
      "Calculate charging time for ID BEV  18\n",
      "Update Charging energy of BEVs which were added in interval\n",
      "For ID BEV 18\n",
      "solar_energy_fueled_so_far:  19.75\n",
      "updated with charging energy:  2.5625\n",
      "Calculate charging time for ID BEV  22\n",
      "Update Charging energy of BEVs which came between intervals\n",
      "charging interval zur Energie Berechnung:  0.015606060606046412\n",
      "For ID BEV 22\n",
      "solar_energy_fueled_so_far:  0.02054797979796111\n",
      "updated with charging energy:  0.0026660353535329293\n",
      "Calculate charging time for ID BEV  42\n",
      "Update Charging energy of BEVs which came between intervals\n",
      "charging interval zur Energie Berechnung:  2.3682374541002673\n",
      "For ID BEV 42\n",
      "solar_energy_fueled_so_far:  2.417575734394023\n",
      "updated with charging energy:  0.40457389840879565\n",
      "Calculate charging time for ID BEV  16\n",
      "Update Charging energy of BEVs which came between intervals\n",
      "charging interval zur Energie Berechnung:  2.212871287128678\n",
      "For ID BEV 16\n",
      "solar_energy_fueled_so_far:  1.1119678217821605\n",
      "updated with charging energy:  0.37803217821781576\n",
      "Calculate charging time for ID BEV  20\n",
      "Update Charging energy of BEVs which came between intervals\n",
      "charging interval zur Energie Berechnung:  1.7975581395351128\n",
      "For ID BEV 20\n",
      "solar_energy_fueled_so_far:  0.29959302325585213\n",
      "updated with charging energy:  0.3070828488372484\n",
      "Calculate charging time for ID BEV  18\n",
      "Calculate charging time for ID BEV  22\n",
      "Calculate charging time for ID BEV  42\n",
      "Calculate charging time for ID BEV  16\n",
      "Calculate charging time for ID BEV  20\n",
      "Charging BEVs list before saving:  [18, 22, 42, 16, 20]\n",
      "Number of charging BEVs 5\n",
      "Charging power per bev  10.5\n",
      "Number of charging BEVs 5\n",
      "Charging power per bev  10.5\n",
      "Number of charging BEVs 5\n",
      "Charging power per bev  10.5\n",
      "Number of charging BEVs 5\n",
      "Charging power per bev  10.5\n",
      "Number of charging BEVs 5\n",
      "Charging power per bev  10.5\n",
      "Charging BEV Liste vor residual berechnung:  [18, 22, 42, 16, 20]\n",
      "Charging time (after updating) for ID BEV 18:  135\n",
      "Charging time (after updating) for ID BEV 22:  120.01560606060605\n",
      "Charging time (after updating) for ID BEV 42:  92.36823745410027\n",
      "Charging time (after updating) for ID BEV 16:  47.21287128712868\n",
      "Charging time (after updating) for ID BEV 20:  16.797558139535113\n",
      "Charging BEVs:  [18, 22, 42, 16, 20]\n",
      "\n",
      "\n",
      "Minute:  705\n",
      "14.9 parking end\n",
      "705 current minute\n",
      "15.7 parking end\n",
      "705 current minute\n"
     ]
    },
    {
     "name": "stdout",
     "output_type": "stream",
     "text": [
      "15.5 parking end\n",
      "705 current minute\n",
      "16.3 parking end\n",
      "705 current minute\n",
      "13.2 parking end\n",
      "705 current minute\n",
      "Charging BEVs after updating parking end:  [18, 22, 42, 16, 20]\n",
      "Waiting BEVs:  [25, 27, 28, 34, 36, 37, 38, 40, 44, 47, 48, 49, 1, 2, 3, 9, 12, 13, 21, 31, 41, 43, 46, 6, 32, 33]\n",
      "Calculate charging time for ID BEV  18\n",
      "Update Charging energy of BEVs which were added in interval\n",
      "For ID BEV 18\n",
      "solar_energy_fueled_so_far:  22.3125\n",
      "updated with charging energy:  2.625\n",
      "Calculate charging time for ID BEV  22\n",
      "Update Charging energy of BEVs which came between intervals\n",
      "charging interval zur Energie Berechnung:  0.015606060606046412\n",
      "For ID BEV 22\n",
      "solar_energy_fueled_so_far:  0.02321401515149404\n",
      "updated with charging energy:  0.0027310606060581225\n",
      "Calculate charging time for ID BEV  42\n",
      "Update Charging energy of BEVs which came between intervals\n",
      "charging interval zur Energie Berechnung:  2.3682374541002673\n",
      "For ID BEV 42\n",
      "solar_energy_fueled_so_far:  2.8221496328028186\n",
      "updated with charging energy:  0.41444155446754677\n",
      "Calculate charging time for ID BEV  16\n",
      "Update Charging energy of BEVs which came between intervals\n",
      "charging interval zur Energie Berechnung:  2.212871287128678\n",
      "For ID BEV 16\n",
      "solar_energy_fueled_so_far:  1.4899999999999762\n",
      "updated with charging energy:  0.3872524752475186\n",
      "Calculate charging time for ID BEV  20\n",
      "Update Charging energy of BEVs which came between intervals\n",
      "charging interval zur Energie Berechnung:  1.7975581395351128\n",
      "For ID BEV 20\n",
      "solar_energy_fueled_so_far:  0.6066758720931005\n",
      "updated with charging energy:  0.3145726744186447\n",
      "Calculate charging time for ID BEV  18\n",
      "Calculate charging time for ID BEV  22\n",
      "Calculate charging time for ID BEV  42\n",
      "Calculate charging time for ID BEV  16\n",
      "Calculate charging time for ID BEV  20\n",
      "Charging BEVs list before saving:  [18, 22, 42, 16, 20]\n",
      "Number of charging BEVs 5\n",
      "Charging power per bev  10.75\n",
      "Number of charging BEVs 5\n",
      "Charging power per bev  10.75\n",
      "Number of charging BEVs 5\n",
      "Charging power per bev  10.75\n",
      "Number of charging BEVs 5\n",
      "Charging power per bev  10.75\n",
      "Number of charging BEVs 5\n",
      "Charging power per bev  10.75\n",
      "Charging BEV Liste vor residual berechnung:  [18, 22, 42, 16, 20]\n",
      "Charging time (after updating) for ID BEV 18:  150\n",
      "Charging time (after updating) for ID BEV 22:  135.01560606060605\n",
      "Charging time (after updating) for ID BEV 42:  107.36823745410027\n",
      "Charging time (after updating) for ID BEV 16:  62.21287128712868\n",
      "Charging time (after updating) for ID BEV 20:  31.797558139535113\n",
      "Charging BEVs:  [18, 22, 42, 16, 20]\n",
      "\n",
      "\n",
      "Minute:  720\n",
      "14.9 parking end\n",
      "720 current minute\n",
      "15.7 parking end\n",
      "720 current minute\n",
      "15.5 parking end\n",
      "720 current minute\n",
      "16.3 parking end\n",
      "720 current minute\n",
      "13.2 parking end\n",
      "720 current minute\n",
      "Charging BEVs after updating parking end:  [18, 22, 42, 16, 20]\n",
      "Waiting BEVs:  [25, 27, 28, 34, 36, 37, 38, 40, 44, 47, 48, 49, 1, 2, 3, 9, 12, 13, 21, 31, 41, 43, 46, 6, 32, 33, 7, 15, 23]\n",
      "Calculate charging time for ID BEV  18\n",
      "Update Charging energy of BEVs which were added in interval\n",
      "For ID BEV 18\n",
      "solar_energy_fueled_so_far:  24.9375\n",
      "updated with charging energy:  2.6875\n",
      "Calculate charging time for ID BEV  22\n",
      "Update Charging energy of BEVs which came between intervals\n",
      "charging interval zur Energie Berechnung:  0.015606060606046412\n",
      "For ID BEV 22\n",
      "solar_energy_fueled_so_far:  0.025945075757552165\n",
      "updated with charging energy:  0.002796085858583316\n",
      "Calculate charging time for ID BEV  42\n",
      "Update Charging energy of BEVs which came between intervals\n",
      "charging interval zur Energie Berechnung:  2.3682374541002673\n",
      "For ID BEV 42\n",
      "solar_energy_fueled_so_far:  3.236591187270365\n",
      "updated with charging energy:  0.4243092105262979\n",
      "Calculate charging time for ID BEV  16\n",
      "Update Charging energy of BEVs which came between intervals\n",
      "charging interval zur Energie Berechnung:  2.212871287128678\n",
      "For ID BEV 16\n",
      "solar_energy_fueled_so_far:  1.8772524752474948\n",
      "updated with charging energy:  0.39647277227722144\n",
      "Calculate charging time for ID BEV  20\n",
      "Update Charging energy of BEVs which came between intervals\n",
      "charging interval zur Energie Berechnung:  1.7975581395351128\n",
      "For ID BEV 20\n",
      "solar_energy_fueled_so_far:  0.9212485465117453\n",
      "updated with charging energy:  0.32206250000004105\n",
      "Calculate charging time for ID BEV  18\n",
      "Calculate charging time for ID BEV  22\n",
      "Calculate charging time for ID BEV  42\n",
      "Calculate charging time for ID BEV  16\n",
      "Calculate charging time for ID BEV  20\n",
      "Charging BEVs list before saving:  [18, 22, 42, 16, 20]\n",
      "Number of charging BEVs 5\n",
      "Charging power per bev  11.0\n",
      "Number of charging BEVs 5\n",
      "Charging power per bev  11.0\n",
      "Number of charging BEVs 5\n",
      "Charging power per bev  11.0\n",
      "Number of charging BEVs 5\n",
      "Charging power per bev  11.0\n",
      "Number of charging BEVs 5\n",
      "Charging power per bev  11.0\n",
      "Charging BEV Liste vor residual berechnung:  [18, 22, 42, 16, 20]\n",
      "Charging time (after updating) for ID BEV 18:  165\n",
      "Charging time (after updating) for ID BEV 22:  150.01560606060605\n",
      "Charging time (after updating) for ID BEV 42:  122.36823745410027\n",
      "Charging time (after updating) for ID BEV 16:  77.21287128712868\n",
      "Charging time (after updating) for ID BEV 20:  46.79755813953511\n",
      "Charging BEVs:  [18, 22, 42, 16, 20]\n",
      "\n",
      "\n",
      "Minute:  735\n",
      "14.9 parking end\n",
      "735 current minute\n",
      "15.7 parking end\n",
      "735 current minute\n",
      "15.5 parking end\n",
      "735 current minute\n",
      "16.3 parking end\n",
      "735 current minute\n",
      "13.2 parking end\n",
      "735 current minute\n",
      "Charging BEVs after updating parking end:  [18, 22, 42, 16, 20]\n",
      "Waiting BEVs:  [25, 27, 28, 36, 37, 38, 40, 44, 47, 48, 49, 1, 2, 3, 9, 12, 13, 21, 31, 41, 43, 46, 6, 32, 33, 7, 15, 23]\n",
      "Calculate charging time for ID BEV  18\n",
      "Update Charging energy of BEVs which were added in interval\n",
      "For ID BEV 18\n",
      "solar_energy_fueled_so_far:  27.625\n",
      "updated with charging energy:  2.75\n",
      "Calculate charging time for ID BEV  22\n",
      "Update Charging energy of BEVs which came between intervals\n",
      "charging interval zur Energie Berechnung:  0.015606060606046412\n",
      "For ID BEV 22\n",
      "solar_energy_fueled_so_far:  0.02874116161613548\n",
      "updated with charging energy:  0.002861111111108509\n",
      "Calculate charging time for ID BEV  42\n",
      "Update Charging energy of BEVs which came between intervals\n",
      "charging interval zur Energie Berechnung:  2.3682374541002673\n",
      "For ID BEV 42\n",
      "solar_energy_fueled_so_far:  3.660900397796663\n",
      "updated with charging energy:  0.434176866585049\n",
      "Calculate charging time for ID BEV  16\n",
      "Update Charging energy of BEVs which came between intervals\n",
      "charging interval zur Energie Berechnung:  2.212871287128678\n",
      "For ID BEV 16\n",
      "solar_energy_fueled_so_far:  2.273725247524716\n",
      "updated with charging energy:  0.4056930693069243\n",
      "Calculate charging time for ID BEV  20\n",
      "Update Charging energy of BEVs which came between intervals\n",
      "charging interval zur Energie Berechnung:  1.7975581395351128\n",
      "For ID BEV 20\n",
      "solar_energy_fueled_so_far:  1.2433110465117863\n",
      "updated with charging energy:  0.3295523255814373\n",
      "Calculate charging time for ID BEV  18\n",
      "Calculate charging time for ID BEV  22\n",
      "Calculate charging time for ID BEV  42\n",
      "Calculate charging time for ID BEV  16\n",
      "Calculate charging time for ID BEV  20\n",
      "Charging BEVs list before saving:  [18, 22, 42, 16, 20]\n",
      "Number of charging BEVs 5\n",
      "Charging power per bev  10.05\n",
      "Number of charging BEVs 5\n",
      "Charging power per bev  10.05\n",
      "Number of charging BEVs 5\n",
      "Charging power per bev  10.05\n",
      "Number of charging BEVs 5\n",
      "Charging power per bev  10.05\n",
      "Number of charging BEVs 5\n",
      "Charging power per bev  10.05\n",
      "Charging BEV Liste vor residual berechnung:  [18, 22, 42, 16, 20]\n",
      "Charging time (after updating) for ID BEV 18:  180\n",
      "Charging time (after updating) for ID BEV 22:  165.01560606060605\n",
      "Charging time (after updating) for ID BEV 42:  137.36823745410027\n",
      "Charging time (after updating) for ID BEV 16:  92.21287128712868\n",
      "Charging time (after updating) for ID BEV 20:  61.79755813953511\n",
      "Charging BEVs:  [18, 22, 42, 16, 20]\n",
      "\n",
      "\n",
      "Minute:  750\n",
      "14.9 parking end\n",
      "750 current minute\n",
      "15.7 parking end\n",
      "750 current minute\n",
      "15.5 parking end\n",
      "750 current minute\n",
      "16.3 parking end\n",
      "750 current minute\n",
      "13.2 parking end\n",
      "750 current minute\n",
      "Charging BEVs after updating parking end:  [18, 22, 42, 16, 20]\n",
      "Waiting BEVs:  [25, 27, 28, 36, 37, 38, 40, 44, 47, 49, 1, 2, 3, 9, 12, 13, 21, 31, 41, 43, 46, 6, 32, 33, 7, 15, 23, 0, 10, 26, 30, 45]\n",
      "Calculate charging time for ID BEV  18\n",
      "Update Charging energy of BEVs which were added in interval\n",
      "For ID BEV 18\n",
      "solar_energy_fueled_so_far:  30.375\n",
      "updated with charging energy:  2.5125\n",
      "Calculate charging time for ID BEV  22\n",
      "Update Charging energy of BEVs which came between intervals\n",
      "charging interval zur Energie Berechnung:  0.015606060606046412\n",
      "For ID BEV 22\n",
      "solar_energy_fueled_so_far:  0.03160227272724399\n",
      "updated with charging energy:  0.0026140151515127745\n",
      "Calculate charging time for ID BEV  42\n",
      "Update Charging energy of BEVs which came between intervals\n",
      "charging interval zur Energie Berechnung:  2.3682374541002673\n",
      "For ID BEV 42\n",
      "solar_energy_fueled_so_far:  4.095077264381712\n",
      "updated with charging energy:  0.3966797735617948\n",
      "Calculate charging time for ID BEV  16\n",
      "Update Charging energy of BEVs which came between intervals\n",
      "charging interval zur Energie Berechnung:  2.212871287128678\n",
      "For ID BEV 16\n",
      "solar_energy_fueled_so_far:  2.67941831683164\n",
      "updated with charging energy:  0.37065594059405355\n",
      "Calculate charging time for ID BEV  20\n",
      "Update Charging energy of BEVs which came between intervals\n",
      "charging interval zur Energie Berechnung:  1.7975581395351128\n",
      "For ID BEV 20\n",
      "solar_energy_fueled_so_far:  1.5728633720932237\n",
      "updated with charging energy:  0.3010909883721314\n",
      "Calculate charging time for ID BEV  18\n",
      "Calculate charging time for ID BEV  22\n",
      "Calculate charging time for ID BEV  42\n",
      "Calculate charging time for ID BEV  16\n",
      "Calculate charging time for ID BEV  20\n",
      "Charging BEVs list before saving:  [18, 22, 42, 16, 20]\n",
      "Number of charging BEVs 5\n",
      "Charging power per bev  9.1\n",
      "Number of charging BEVs 5\n",
      "Charging power per bev  9.1\n",
      "Number of charging BEVs 5\n",
      "Charging power per bev  9.1\n",
      "Number of charging BEVs 5\n"
     ]
    },
    {
     "name": "stdout",
     "output_type": "stream",
     "text": [
      "Charging power per bev  9.1\n",
      "Number of charging BEVs 5\n",
      "Charging power per bev  9.1\n",
      "Charging BEV Liste vor residual berechnung:  [18, 22, 42, 16, 20]\n",
      "Charging time (after updating) for ID BEV 18:  195\n",
      "Charging time (after updating) for ID BEV 22:  180.01560606060605\n",
      "Charging time (after updating) for ID BEV 42:  152.36823745410027\n",
      "Charging time (after updating) for ID BEV 16:  107.21287128712868\n",
      "Charging time (after updating) for ID BEV 20:  76.79755813953511\n",
      "Charging BEVs:  [18, 22, 42, 16, 20]\n",
      "\n",
      "\n",
      "Minute:  765\n",
      "14.9 parking end\n",
      "765 current minute\n",
      "15.7 parking end\n",
      "765 current minute\n",
      "15.5 parking end\n",
      "765 current minute\n",
      "16.3 parking end\n",
      "765 current minute\n",
      "13.2 parking end\n",
      "765 current minute\n",
      "Charging BEVs after updating parking end:  [18, 22, 42, 16, 20]\n",
      "Waiting BEVs:  [25, 27, 28, 36, 37, 38, 40, 44, 47, 49, 1, 2, 3, 9, 12, 13, 21, 31, 41, 43, 6, 32, 33, 7, 15, 23, 0, 10, 26, 30, 45]\n",
      "Calculate charging time for ID BEV  18\n",
      "Update Charging energy of BEVs which were added in interval\n",
      "For ID BEV 18\n",
      "solar_energy_fueled_so_far:  32.8875\n",
      "updated with charging energy:  2.275\n",
      "Calculate charging time for ID BEV  22\n",
      "Update Charging energy of BEVs which came between intervals\n",
      "charging interval zur Energie Berechnung:  0.015606060606046412\n",
      "For ID BEV 22\n",
      "solar_energy_fueled_so_far:  0.03421628787875676\n",
      "updated with charging energy:  0.0023669191919170394\n",
      "Calculate charging time for ID BEV  42\n",
      "Update Charging energy of BEVs which came between intervals\n",
      "charging interval zur Energie Berechnung:  2.3682374541002673\n",
      "For ID BEV 42\n",
      "solar_energy_fueled_so_far:  4.491757037943507\n",
      "updated with charging energy:  0.3591826805385405\n",
      "Calculate charging time for ID BEV  16\n",
      "Update Charging energy of BEVs which came between intervals\n",
      "charging interval zur Energie Berechnung:  2.212871287128678\n",
      "For ID BEV 16\n",
      "solar_energy_fueled_so_far:  3.0500742574256936\n",
      "updated with charging energy:  0.3356188118811828\n",
      "Calculate charging time for ID BEV  20\n",
      "Update Charging energy of BEVs which came between intervals\n",
      "charging interval zur Energie Berechnung:  1.7975581395351128\n",
      "For ID BEV 20\n",
      "solar_energy_fueled_so_far:  1.873954360465355\n",
      "updated with charging energy:  0.2726296511628254\n",
      "Calculate charging time for ID BEV  18\n",
      "Calculate charging time for ID BEV  22\n",
      "Calculate charging time for ID BEV  42\n",
      "Calculate charging time for ID BEV  16\n",
      "Calculate charging time for ID BEV  20\n",
      "Charging BEVs list before saving:  [18, 22, 42, 16, 20]\n",
      "Number of charging BEVs 5\n",
      "Charging power per bev  8.15\n",
      "Number of charging BEVs 5\n",
      "Charging power per bev  8.15\n",
      "Number of charging BEVs 5\n",
      "Charging power per bev  8.15\n",
      "Number of charging BEVs 5\n",
      "Charging power per bev  8.15\n",
      "Number of charging BEVs 5\n",
      "Charging power per bev  8.15\n",
      "Charging BEV Liste vor residual berechnung:  [18, 22, 42, 16, 20]\n",
      "Charging time (after updating) for ID BEV 18:  210\n",
      "Charging time (after updating) for ID BEV 22:  195.01560606060605\n",
      "Charging time (after updating) for ID BEV 42:  167.36823745410027\n",
      "Charging time (after updating) for ID BEV 16:  122.21287128712868\n",
      "Charging time (after updating) for ID BEV 20:  91.79755813953511\n",
      "Charging BEVs:  [18, 22, 42, 16, 20]\n",
      "\n",
      "\n",
      "Minute:  780\n",
      "14.9 parking end\n",
      "780 current minute\n",
      "15.7 parking end\n",
      "780 current minute\n",
      "15.5 parking end\n",
      "780 current minute\n",
      "16.3 parking end\n",
      "780 current minute\n",
      "13.2 parking end\n",
      "780 current minute\n",
      "Charging BEVs after updating parking end:  [18, 22, 42, 16, 20]\n",
      "Waiting BEVs:  [25, 27, 28, 36, 37, 38, 40, 44, 47, 49, 1, 2, 3, 9, 12, 21, 31, 41, 43, 6, 32, 33, 7, 15, 23, 0, 10, 26, 30, 45, 24, 29, 35]\n",
      "Calculate charging time for ID BEV  18\n",
      "Update Charging energy of BEVs which were added in interval\n",
      "For ID BEV 18\n",
      "solar_energy_fueled_so_far:  35.1625\n",
      "updated with charging energy:  2.0375\n",
      "Calculate charging time for ID BEV  22\n",
      "Update Charging energy of BEVs which came between intervals\n",
      "charging interval zur Energie Berechnung:  0.015606060606046412\n",
      "For ID BEV 22\n",
      "solar_energy_fueled_so_far:  0.0365832070706738\n",
      "updated with charging energy:  0.002119823232321305\n",
      "Calculate charging time for ID BEV  42\n",
      "Update Charging energy of BEVs which came between intervals\n",
      "charging interval zur Energie Berechnung:  2.3682374541002673\n",
      "For ID BEV 42\n",
      "solar_energy_fueled_so_far:  4.8509397184820475\n",
      "updated with charging energy:  0.3216855875152863\n",
      "Calculate charging time for ID BEV  16\n",
      "Update Charging energy of BEVs which came between intervals\n",
      "charging interval zur Energie Berechnung:  2.212871287128678\n",
      "For ID BEV 16\n",
      "solar_energy_fueled_so_far:  3.3856930693068765\n",
      "updated with charging energy:  0.3005816831683121\n",
      "Calculate charging time for ID BEV  20\n",
      "Update Charging energy of BEVs which came between intervals\n",
      "charging interval zur Energie Berechnung:  1.7975581395351128\n",
      "For ID BEV 20\n",
      "solar_energy_fueled_so_far:  2.1465840116281805\n",
      "updated with charging energy:  0.24416831395351948\n",
      "Calculate charging time for ID BEV  18\n",
      "Calculate charging time for ID BEV  22\n",
      "Calculate charging time for ID BEV  42\n",
      "Calculate charging time for ID BEV  16\n",
      "Calculate charging time for ID BEV  20\n",
      "Charging BEVs list before saving:  [18, 22, 42, 16, 20]\n",
      "Number of charging BEVs 5\n",
      "Charging power per bev  7.2\n",
      "Number of charging BEVs 5\n",
      "Charging power per bev  7.2\n",
      "Number of charging BEVs 5\n",
      "Charging power per bev  7.2\n",
      "Number of charging BEVs 5\n",
      "Charging power per bev  7.2\n",
      "Number of charging BEVs 5\n",
      "Charging power per bev  7.2\n",
      "Charging BEV Liste vor residual berechnung:  [18, 22, 42, 16, 20]\n",
      "For ID BEV:  20\n",
      "parking end 792\n",
      "minute 780\n",
      "Residual parking time:  12\n",
      "residual_solar_energy_till_parking_end 1.4400000000000002\n",
      "For ID BEV 20\n",
      "solar_energy_fueled_so_far:  2.3907523255817\n",
      "updated with charging energy:  1.4400000000000002\n",
      "Number of charging BEVs 5\n",
      "Charging power per bev  7.2\n",
      "set charging time after parking time over:  118.79755813953511\n",
      "Charging time (after updating) for ID BEV 18:  225\n",
      "Charging time (after updating) for ID BEV 22:  210.01560606060605\n",
      "Charging time (after updating) for ID BEV 42:  182.36823745410027\n",
      "Charging time (after updating) for ID BEV 16:  137.21287128712868\n",
      "Charging time (after updating) for ID BEV 25:  0\n",
      "Charging BEVs:  [18, 22, 42, 16, 25]\n",
      "\n",
      "\n",
      "Minute:  795\n",
      "14.9 parking end\n",
      "795 current minute\n",
      "15.7 parking end\n",
      "795 current minute\n",
      "15.5 parking end\n",
      "795 current minute\n",
      "16.3 parking end\n",
      "795 current minute\n",
      "15.3 parking end\n",
      "795 current minute\n",
      "Charging BEVs after updating parking end:  [18, 22, 42, 16, 25]\n",
      "Waiting BEVs:  [27, 36, 37, 38, 40, 44, 47, 49, 1, 2, 3, 9, 12, 21, 31, 41, 43, 6, 32, 33, 7, 15, 23, 0, 10, 26, 30, 45, 24, 29, 35]\n",
      "Calculate charging time for ID BEV  18\n",
      "Update Charging energy of BEVs which were added in interval\n",
      "For ID BEV 18\n",
      "solar_energy_fueled_so_far:  37.2\n",
      "updated with charging energy:  1.8\n",
      "Calculate charging time for ID BEV  22\n",
      "Update Charging energy of BEVs which came between intervals\n",
      "charging interval zur Energie Berechnung:  0.015606060606046412\n",
      "For ID BEV 22\n",
      "solar_energy_fueled_so_far:  0.03870303030299511\n",
      "updated with charging energy:  0.0018727272727255698\n",
      "Calculate charging time for ID BEV  42\n",
      "Update Charging energy of BEVs which came between intervals\n",
      "charging interval zur Energie Berechnung:  2.3682374541002673\n",
      "For ID BEV 42\n",
      "solar_energy_fueled_so_far:  5.172625305997334\n",
      "updated with charging energy:  0.2841884944920321\n",
      "Calculate charging time for ID BEV  16\n",
      "Update Charging energy of BEVs which came between intervals\n",
      "charging interval zur Energie Berechnung:  2.212871287128678\n",
      "For ID BEV 16\n",
      "solar_energy_fueled_so_far:  3.6862747524751884\n",
      "updated with charging energy:  0.26554455445544134\n",
      "Calculate charging time for ID BEV  25\n",
      "Update Charging energy of BEVs which came between intervals\n",
      "charging interval zur Energie Berechnung:  3\n",
      "For ID BEV 25\n",
      "solar_energy_fueled_so_far:  0\n",
      "updated with charging energy:  0.36000000000000004\n",
      "Calculate charging time for ID BEV  18\n",
      "Calculate charging time for ID BEV  22\n",
      "Calculate charging time for ID BEV  42\n",
      "Calculate charging time for ID BEV  16\n",
      "Calculate charging time for ID BEV  25\n",
      "Charging BEVs list before saving:  [18, 22, 42, 16, 25]\n",
      "Number of charging BEVs 5\n",
      "Charging power per bev  7.5\n",
      "Number of charging BEVs 5\n",
      "Charging power per bev  7.5\n",
      "Number of charging BEVs 5\n",
      "Charging power per bev  7.5\n",
      "Number of charging BEVs 5\n",
      "Charging power per bev  7.5\n",
      "Number of charging BEVs 5\n",
      "Charging power per bev  7.5\n",
      "Charging BEV Liste vor residual berechnung:  [18, 22, 42, 16, 25]\n",
      "Charging time (after updating) for ID BEV 18:  240\n",
      "Charging time (after updating) for ID BEV 22:  225.01560606060605\n",
      "Charging time (after updating) for ID BEV 42:  197.36823745410027\n",
      "Charging time (after updating) for ID BEV 16:  152.21287128712868\n",
      "Charging time (after updating) for ID BEV 25:  3\n",
      "Charging BEVs:  [18, 22, 42, 16, 25]\n",
      "\n",
      "\n",
      "Minute:  810\n",
      "14.9 parking end\n",
      "810 current minute\n",
      "15.7 parking end\n",
      "810 current minute\n",
      "15.5 parking end\n",
      "810 current minute\n",
      "16.3 parking end\n",
      "810 current minute\n",
      "15.3 parking end\n",
      "810 current minute\n",
      "Charging BEVs after updating parking end:  [18, 22, 42, 16, 25]\n",
      "Waiting BEVs:  [27, 36, 38, 40, 44, 47, 49, 1, 2, 3, 9, 12, 21, 31, 41, 43, 6, 32, 33, 7, 15, 23, 0, 10, 26, 30, 45, 24, 29, 35, 19]\n"
     ]
    },
    {
     "name": "stdout",
     "output_type": "stream",
     "text": [
      "Calculate charging time for ID BEV  18\n",
      "Update Charging energy of BEVs which were added in interval\n",
      "For ID BEV 18\n",
      "solar_energy_fueled_so_far:  39.0\n",
      "updated with charging energy:  1.875\n",
      "Calculate charging time for ID BEV  22\n",
      "Update Charging energy of BEVs which came between intervals\n",
      "charging interval zur Energie Berechnung:  0.015606060606046412\n",
      "For ID BEV 22\n",
      "solar_energy_fueled_so_far:  0.040575757575720676\n",
      "updated with charging energy:  0.0019507575757558018\n",
      "Calculate charging time for ID BEV  42\n",
      "Update Charging energy of BEVs which came between intervals\n",
      "charging interval zur Energie Berechnung:  2.3682374541002673\n",
      "For ID BEV 42\n",
      "solar_energy_fueled_so_far:  5.456813800489366\n",
      "updated with charging energy:  0.2960296817625334\n",
      "Calculate charging time for ID BEV  16\n",
      "Update Charging energy of BEVs which came between intervals\n",
      "charging interval zur Energie Berechnung:  2.212871287128678\n",
      "For ID BEV 16\n",
      "solar_energy_fueled_so_far:  3.9518193069306298\n",
      "updated with charging energy:  0.27660891089108475\n",
      "Calculate charging time for ID BEV  25\n",
      "Update Charging energy of BEVs which came between intervals\n",
      "charging interval zur Energie Berechnung:  3\n",
      "For ID BEV 25\n",
      "solar_energy_fueled_so_far:  0.36000000000000004\n",
      "updated with charging energy:  0.375\n",
      "Calculate charging time for ID BEV  18\n",
      "Calculate charging time for ID BEV  22\n",
      "Calculate charging time for ID BEV  42\n",
      "Calculate charging time for ID BEV  16\n",
      "Calculate charging time for ID BEV  25\n",
      "Charging BEVs list before saving:  [18, 22, 42, 16, 25]\n",
      "Number of charging BEVs 5\n",
      "Charging power per bev  7.8\n",
      "Number of charging BEVs 5\n",
      "Charging power per bev  7.8\n",
      "Number of charging BEVs 5\n",
      "Charging power per bev  7.8\n",
      "Number of charging BEVs 5\n",
      "Charging power per bev  7.8\n",
      "Number of charging BEVs 5\n",
      "Charging power per bev  7.8\n",
      "Charging BEV Liste vor residual berechnung:  [18, 22, 42, 16, 25]\n",
      "Die Restladezeit des BEVS 42 endet vor dem nächsten Interval\n",
      "final charging time 225.28867220600875\n",
      "Residual charging_time:  12.920434751908468\n",
      "residual_solar_energy_till_charging_end:  1.6796565177481009\n",
      "For ID BEV 42\n",
      "solar_energy_fueled_so_far:  5.752843482251899\n",
      "updated with charging energy:  1.6796565177481009\n",
      "Number of charging BEVs 5\n",
      "Charging power per bev  7.8\n",
      "Charging time (after updating) for ID BEV 18:  255\n",
      "Charging time (after updating) for ID BEV 22:  240.01560606060605\n",
      "Charging time (after updating) for ID BEV 16:  167.21287128712868\n",
      "Charging time (after updating) for ID BEV 25:  18\n",
      "Charging time (after updating) for ID BEV 27:  0\n",
      "Charging BEVs:  [18, 22, 16, 25, 27]\n",
      "\n",
      "\n",
      "Minute:  825\n",
      "14.9 parking end\n",
      "825 current minute\n",
      "15.7 parking end\n",
      "825 current minute\n",
      "16.3 parking end\n",
      "825 current minute\n",
      "15.3 parking end\n",
      "825 current minute\n",
      "16.0 parking end\n",
      "825 current minute\n",
      "Charging BEVs after updating parking end:  [18, 22, 16, 25, 27]\n",
      "Waiting BEVs:  [36, 38, 40, 44, 47, 49, 1, 2, 3, 9, 12, 21, 31, 41, 43, 6, 32, 33, 7, 15, 23, 0, 10, 26, 30, 45, 24, 29, 35, 19]\n",
      "Calculate charging time for ID BEV  18\n",
      "Update Charging energy of BEVs which were added in interval\n",
      "For ID BEV 18\n",
      "solar_energy_fueled_so_far:  40.875\n",
      "updated with charging energy:  1.95\n",
      "Calculate charging time for ID BEV  22\n",
      "Update Charging energy of BEVs which came between intervals\n",
      "charging interval zur Energie Berechnung:  0.015606060606046412\n",
      "For ID BEV 22\n",
      "solar_energy_fueled_so_far:  0.04252651515147648\n",
      "updated with charging energy:  0.0020287878787860337\n",
      "Calculate charging time for ID BEV  16\n",
      "Update Charging energy of BEVs which came between intervals\n",
      "charging interval zur Energie Berechnung:  2.212871287128678\n",
      "For ID BEV 16\n",
      "solar_energy_fueled_so_far:  4.2284282178217145\n",
      "updated with charging energy:  0.2876732673267281\n",
      "Calculate charging time for ID BEV  25\n",
      "Update Charging energy of BEVs which came between intervals\n",
      "charging interval zur Energie Berechnung:  3\n",
      "For ID BEV 25\n",
      "solar_energy_fueled_so_far:  0.7350000000000001\n",
      "updated with charging energy:  0.39\n",
      "Calculate charging time for ID BEV  27\n",
      "Update Charging energy of BEVs which came between intervals\n",
      "charging interval zur Energie Berechnung:  2.0795652480915123\n",
      "For ID BEV 27\n",
      "solar_energy_fueled_so_far:  0\n",
      "updated with charging energy:  0.2703434822518966\n",
      "Calculate charging time for ID BEV  18\n",
      "Calculate charging time for ID BEV  22\n",
      "Calculate charging time for ID BEV  16\n",
      "Calculate charging time for ID BEV  25\n",
      "Calculate charging time for ID BEV  27\n",
      "Charging BEVs list before saving:  [18, 22, 16, 25, 27]\n",
      "Number of charging BEVs 5\n",
      "Charging power per bev  8.1\n",
      "Number of charging BEVs 5\n",
      "Charging power per bev  8.1\n",
      "Number of charging BEVs 5\n",
      "Charging power per bev  8.1\n",
      "Number of charging BEVs 5\n",
      "Charging power per bev  8.1\n",
      "Number of charging BEVs 5\n",
      "Charging power per bev  8.1\n",
      "Charging BEV Liste vor residual berechnung:  [18, 22, 16, 25, 27]\n",
      "Charging time (after updating) for ID BEV 18:  270\n",
      "Charging time (after updating) for ID BEV 22:  255.01560606060605\n",
      "Charging time (after updating) for ID BEV 16:  182.21287128712868\n",
      "Charging time (after updating) for ID BEV 25:  33\n",
      "Charging time (after updating) for ID BEV 27:  2.0795652480915123\n",
      "Charging BEVs:  [18, 22, 16, 25, 27]\n",
      "\n",
      "\n",
      "Minute:  840\n",
      "14.9 parking end\n",
      "840 current minute\n",
      "15.7 parking end\n",
      "840 current minute\n",
      "16.3 parking end\n",
      "840 current minute\n",
      "15.3 parking end\n",
      "840 current minute\n",
      "16.0 parking end\n",
      "840 current minute\n",
      "Charging BEVs after updating parking end:  [18, 22, 16, 25, 27]\n",
      "Waiting BEVs:  [36, 38, 40, 44, 47, 49, 1, 2, 3, 31, 41, 43, 6, 32, 33, 7, 15, 23, 0, 10, 26, 30, 45, 24, 29, 35, 19]\n",
      "Calculate charging time for ID BEV  18\n",
      "Update Charging energy of BEVs which were added in interval\n",
      "For ID BEV 18\n",
      "solar_energy_fueled_so_far:  42.825\n",
      "updated with charging energy:  2.025\n",
      "Calculate charging time for ID BEV  22\n",
      "Update Charging energy of BEVs which came between intervals\n",
      "charging interval zur Energie Berechnung:  0.015606060606046412\n",
      "For ID BEV 22\n",
      "solar_energy_fueled_so_far:  0.04455530303026251\n",
      "updated with charging energy:  0.002106818181816266\n",
      "Calculate charging time for ID BEV  16\n",
      "Update Charging energy of BEVs which came between intervals\n",
      "charging interval zur Energie Berechnung:  2.212871287128678\n",
      "For ID BEV 16\n",
      "solar_energy_fueled_so_far:  4.516101485148442\n",
      "updated with charging energy:  0.2987376237623715\n",
      "Calculate charging time for ID BEV  25\n",
      "Update Charging energy of BEVs which came between intervals\n",
      "charging interval zur Energie Berechnung:  3\n",
      "For ID BEV 25\n",
      "solar_energy_fueled_so_far:  1.125\n",
      "updated with charging energy:  0.405\n",
      "Calculate charging time for ID BEV  27\n",
      "Update Charging energy of BEVs which came between intervals\n",
      "charging interval zur Energie Berechnung:  2.0795652480915123\n",
      "For ID BEV 27\n",
      "solar_energy_fueled_so_far:  0.2703434822518966\n",
      "updated with charging energy:  0.2807413084923541\n",
      "Calculate charging time for ID BEV  18\n",
      "Calculate charging time for ID BEV  22\n",
      "Calculate charging time for ID BEV  16\n",
      "Calculate charging time for ID BEV  25\n",
      "Calculate charging time for ID BEV  27\n",
      "Charging BEVs list before saving:  [18, 22, 16, 25, 27]\n",
      "Number of charging BEVs 5\n",
      "Charging power per bev  8.4\n",
      "Number of charging BEVs 5\n",
      "Charging power per bev  8.4\n",
      "Number of charging BEVs 5\n",
      "Charging power per bev  8.4\n",
      "Number of charging BEVs 5\n",
      "Charging power per bev  8.4\n",
      "Number of charging BEVs 5\n",
      "Charging power per bev  8.4\n",
      "Charging BEV Liste vor residual berechnung:  [18, 22, 16, 25, 27]\n",
      "Charging time (after updating) for ID BEV 18:  285\n",
      "Charging time (after updating) for ID BEV 22:  270.01560606060605\n",
      "Charging time (after updating) for ID BEV 16:  197.21287128712868\n",
      "Charging time (after updating) for ID BEV 25:  48\n",
      "Charging time (after updating) for ID BEV 27:  17.079565248091512\n",
      "Charging BEVs:  [18, 22, 16, 25, 27]\n",
      "\n",
      "\n",
      "Minute:  855\n",
      "14.9 parking end\n",
      "855 current minute\n",
      "15.7 parking end\n",
      "855 current minute\n",
      "16.3 parking end\n",
      "855 current minute\n",
      "15.3 parking end\n",
      "855 current minute\n",
      "16.0 parking end\n",
      "855 current minute\n",
      "Charging BEVs after updating parking end:  [18, 22, 16, 25, 27]\n",
      "Waiting BEVs:  [36, 38, 40, 44, 47, 49, 1, 2, 3, 31, 41, 43, 6, 32, 33, 7, 15, 23, 0, 10, 26, 30, 45, 24, 29, 35, 19]\n",
      "Calculate charging time for ID BEV  18\n",
      "Update Charging energy of BEVs which were added in interval\n",
      "For ID BEV 18\n",
      "solar_energy_fueled_so_far:  44.85\n",
      "updated with charging energy:  2.1\n",
      "Calculate charging time for ID BEV  22\n",
      "Update Charging energy of BEVs which came between intervals\n",
      "charging interval zur Energie Berechnung:  0.015606060606046412\n",
      "For ID BEV 22\n",
      "solar_energy_fueled_so_far:  0.04666212121207878\n",
      "updated with charging energy:  0.002184848484846498\n",
      "Calculate charging time for ID BEV  16\n",
      "Update Charging energy of BEVs which came between intervals\n",
      "charging interval zur Energie Berechnung:  2.212871287128678\n",
      "For ID BEV 16\n",
      "solar_energy_fueled_so_far:  4.814839108910814\n",
      "updated with charging energy:  0.3098019801980149\n",
      "Calculate charging time for ID BEV  25\n",
      "Update Charging energy of BEVs which came between intervals\n",
      "charging interval zur Energie Berechnung:  3\n",
      "For ID BEV 25\n",
      "solar_energy_fueled_so_far:  1.53\n",
      "updated with charging energy:  0.42000000000000004\n",
      "Calculate charging time for ID BEV  27\n",
      "Update Charging energy of BEVs which came between intervals\n",
      "charging interval zur Energie Berechnung:  2.0795652480915123\n",
      "For ID BEV 27\n",
      "solar_energy_fueled_so_far:  0.5510847907442507\n",
      "updated with charging energy:  0.2911391347328117\n",
      "Calculate charging time for ID BEV  18\n",
      "Calculate charging time for ID BEV  22\n",
      "Calculate charging time for ID BEV  16\n",
      "Calculate charging time for ID BEV  25\n",
      "Calculate charging time for ID BEV  27\n",
      "Charging BEVs list before saving:  [18, 22, 16, 25, 27]\n",
      "Number of charging BEVs 5\n",
      "Charging power per bev  7.2\n",
      "Number of charging BEVs 5\n",
      "Charging power per bev  7.2\n",
      "Number of charging BEVs 5\n",
      "Charging power per bev  7.2\n",
      "Number of charging BEVs 5\n",
      "Charging power per bev  7.2\n",
      "Number of charging BEVs 5\n",
      "Charging power per bev  7.2\n",
      "Charging BEV Liste vor residual berechnung:  [18, 22, 16, 25, 27]\n",
      "Charging time (after updating) for ID BEV 18:  300\n",
      "Charging time (after updating) for ID BEV 22:  285.01560606060605\n",
      "Charging time (after updating) for ID BEV 16:  212.21287128712868\n",
      "Charging time (after updating) for ID BEV 25:  63\n",
      "Charging time (after updating) for ID BEV 27:  32.07956524809151\n",
      "Charging BEVs:  [18, 22, 16, 25, 27]\n",
      "\n",
      "\n",
      "Minute:  870\n",
      "14.9 parking end\n",
      "870 current minute\n",
      "15.7 parking end\n",
      "870 current minute\n",
      "16.3 parking end\n",
      "870 current minute\n",
      "15.3 parking end\n",
      "870 current minute\n",
      "16.0 parking end\n",
      "870 current minute\n",
      "Charging BEVs after updating parking end:  [18, 22, 16, 25, 27]\n",
      "Waiting BEVs:  [36, 38, 44, 47, 49, 1, 2, 3, 41, 43, 6, 32, 33, 7, 15, 23, 0, 10, 26, 30, 45, 24, 29, 35, 19]\n",
      "Calculate charging time for ID BEV  18\n",
      "Update Charging energy of BEVs which were added in interval\n",
      "For ID BEV 18\n",
      "solar_energy_fueled_so_far:  46.95\n",
      "updated with charging energy:  1.8\n",
      "Calculate charging time for ID BEV  22\n",
      "Update Charging energy of BEVs which came between intervals\n",
      "charging interval zur Energie Berechnung:  0.015606060606046412\n",
      "For ID BEV 22\n",
      "solar_energy_fueled_so_far:  0.04884696969692528\n",
      "updated with charging energy:  0.0018727272727255698\n",
      "Calculate charging time for ID BEV  16\n",
      "Update Charging energy of BEVs which came between intervals\n",
      "charging interval zur Energie Berechnung:  2.212871287128678\n",
      "For ID BEV 16\n",
      "solar_energy_fueled_so_far:  5.124641089108828\n",
      "updated with charging energy:  0.26554455445544134\n",
      "Calculate charging time for ID BEV  25\n",
      "Update Charging energy of BEVs which came between intervals\n",
      "charging interval zur Energie Berechnung:  3\n",
      "For ID BEV 25\n",
      "solar_energy_fueled_so_far:  1.9500000000000002\n",
      "updated with charging energy:  0.36000000000000004\n",
      "Calculate charging time for ID BEV  27\n",
      "Update Charging energy of BEVs which came between intervals\n",
      "charging interval zur Energie Berechnung:  2.0795652480915123\n",
      "For ID BEV 27\n",
      "solar_energy_fueled_so_far:  0.8422239254770624\n",
      "updated with charging energy:  0.24954782977098147\n",
      "Calculate charging time for ID BEV  18\n",
      "Calculate charging time for ID BEV  22\n",
      "Calculate charging time for ID BEV  16\n",
      "Calculate charging time for ID BEV  25\n",
      "Calculate charging time for ID BEV  27\n",
      "Charging BEVs list before saving:  [18, 22, 16, 25, 27]\n",
      "Number of charging BEVs 5\n"
     ]
    },
    {
     "name": "stdout",
     "output_type": "stream",
     "text": [
      "Charging power per bev  6.0\n",
      "Number of charging BEVs 5\n",
      "Charging power per bev  6.0\n",
      "Number of charging BEVs 5\n",
      "Charging power per bev  6.0\n",
      "Number of charging BEVs 5\n",
      "Charging power per bev  6.0\n",
      "Number of charging BEVs 5\n",
      "Charging power per bev  6.0\n",
      "Charging BEV Liste vor residual berechnung:  [18, 22, 16, 25, 27]\n",
      "Charging time (after updating) for ID BEV 18:  315\n",
      "Charging time (after updating) for ID BEV 22:  300.01560606060605\n",
      "Charging time (after updating) for ID BEV 16:  227.21287128712868\n",
      "Charging time (after updating) for ID BEV 25:  78\n",
      "Charging time (after updating) for ID BEV 27:  47.07956524809151\n",
      "Charging BEVs:  [18, 22, 16, 25, 27]\n",
      "\n",
      "\n",
      "Minute:  885\n",
      "14.9 parking end\n",
      "885 current minute\n",
      "15.7 parking end\n",
      "885 current minute\n",
      "16.3 parking end\n",
      "885 current minute\n",
      "15.3 parking end\n",
      "885 current minute\n",
      "16.0 parking end\n",
      "885 current minute\n",
      "Charging BEVs after updating parking end:  [18, 22, 16, 25, 27]\n",
      "Waiting BEVs:  [36, 38, 44, 47, 2, 3, 41, 43, 6, 33, 7, 15, 23, 0, 10, 26, 30, 45, 24, 29, 35, 19]\n",
      "Calculate charging time for ID BEV  18\n",
      "Update Charging energy of BEVs which were added in interval\n",
      "For ID BEV 18\n",
      "solar_energy_fueled_so_far:  48.75\n",
      "updated with charging energy:  1.5\n",
      "Calculate charging time for ID BEV  22\n",
      "Update Charging energy of BEVs which came between intervals\n",
      "charging interval zur Energie Berechnung:  0.015606060606046412\n",
      "For ID BEV 22\n",
      "solar_energy_fueled_so_far:  0.05071969696965085\n",
      "updated with charging energy:  0.0015606060606046415\n",
      "Calculate charging time for ID BEV  16\n",
      "Update Charging energy of BEVs which came between intervals\n",
      "charging interval zur Energie Berechnung:  2.212871287128678\n",
      "For ID BEV 16\n",
      "solar_energy_fueled_so_far:  5.390185643564269\n",
      "updated with charging energy:  0.22128712871286776\n",
      "Calculate charging time for ID BEV  25\n",
      "Update Charging energy of BEVs which came between intervals\n",
      "charging interval zur Energie Berechnung:  3\n",
      "For ID BEV 25\n",
      "solar_energy_fueled_so_far:  2.31\n",
      "updated with charging energy:  0.30000000000000004\n",
      "Calculate charging time for ID BEV  27\n",
      "Update Charging energy of BEVs which came between intervals\n",
      "charging interval zur Energie Berechnung:  2.0795652480915123\n",
      "For ID BEV 27\n",
      "solar_energy_fueled_so_far:  1.091771755248044\n",
      "updated with charging energy:  0.20795652480915122\n",
      "Calculate charging time for ID BEV  18\n",
      "Calculate charging time for ID BEV  22\n",
      "Calculate charging time for ID BEV  16\n",
      "Calculate charging time for ID BEV  25\n",
      "Calculate charging time for ID BEV  27\n",
      "Charging BEVs list before saving:  [18, 22, 16, 25, 27]\n",
      "Number of charging BEVs 5\n",
      "Charging power per bev  4.8\n",
      "Number of charging BEVs 5\n",
      "Charging power per bev  4.8\n",
      "Number of charging BEVs 5\n",
      "Charging power per bev  4.8\n",
      "Number of charging BEVs 5\n",
      "Charging power per bev  4.8\n",
      "Number of charging BEVs 5\n",
      "Charging power per bev  4.8\n",
      "Charging BEV Liste vor residual berechnung:  [18, 22, 16, 25, 27]\n",
      "For ID BEV:  18\n",
      "parking end 894\n",
      "minute 885\n",
      "Residual parking time:  9\n",
      "residual_solar_energy_till_parking_end 0.72\n",
      "For ID BEV 18\n",
      "solar_energy_fueled_so_far:  50.25\n",
      "updated with charging energy:  0.72\n",
      "Number of charging BEVs 5\n",
      "Charging power per bev  4.8\n",
      "set charging time after parking time over:  339\n",
      "Charging time (after updating) for ID BEV 22:  315.01560606060605\n",
      "Charging time (after updating) for ID BEV 16:  242.21287128712868\n",
      "Charging time (after updating) for ID BEV 25:  93\n",
      "Charging time (after updating) for ID BEV 27:  62.07956524809151\n",
      "Charging time (after updating) for ID BEV 36:  0\n",
      "Charging BEVs:  [22, 16, 25, 27, 36]\n",
      "\n",
      "\n",
      "Minute:  900\n",
      "15.7 parking end\n",
      "900 current minute\n",
      "16.3 parking end\n",
      "900 current minute\n",
      "15.3 parking end\n",
      "900 current minute\n",
      "16.0 parking end\n",
      "900 current minute\n",
      "15.3 parking end\n",
      "900 current minute\n",
      "Charging BEVs after updating parking end:  [22, 16, 25, 27, 36]\n",
      "Waiting BEVs:  [38, 44, 47, 2, 3, 41, 43, 6, 33, 7, 15, 23, 0, 10, 26, 30, 45, 24, 29, 35, 19]\n",
      "Calculate charging time for ID BEV  22\n",
      "Update Charging energy of BEVs which came between intervals\n",
      "charging interval zur Energie Berechnung:  0.015606060606046412\n",
      "For ID BEV 22\n",
      "solar_energy_fueled_so_far:  0.052280303030255486\n",
      "updated with charging energy:  0.001248484848483713\n",
      "Calculate charging time for ID BEV  16\n",
      "Update Charging energy of BEVs which came between intervals\n",
      "charging interval zur Energie Berechnung:  2.212871287128678\n",
      "For ID BEV 16\n",
      "solar_energy_fueled_so_far:  5.611472772277137\n",
      "updated with charging energy:  0.17702970297029422\n",
      "Calculate charging time for ID BEV  25\n",
      "Update Charging energy of BEVs which came between intervals\n",
      "charging interval zur Energie Berechnung:  3\n",
      "For ID BEV 25\n",
      "solar_energy_fueled_so_far:  2.6100000000000003\n",
      "updated with charging energy:  0.24\n",
      "Calculate charging time for ID BEV  27\n",
      "Update Charging energy of BEVs which came between intervals\n",
      "charging interval zur Energie Berechnung:  2.0795652480915123\n",
      "For ID BEV 27\n",
      "solar_energy_fueled_so_far:  1.2997282800571952\n",
      "updated with charging energy:  0.16636521984732097\n",
      "Calculate charging time for ID BEV  36\n",
      "Update Charging energy of BEVs which came between intervals\n",
      "charging interval zur Energie Berechnung:  6\n",
      "For ID BEV 36\n",
      "solar_energy_fueled_so_far:  0\n",
      "updated with charging energy:  0.48\n",
      "Calculate charging time for ID BEV  22\n",
      "Calculate charging time for ID BEV  16\n",
      "Calculate charging time for ID BEV  25\n",
      "Calculate charging time for ID BEV  27\n",
      "Calculate charging time for ID BEV  36\n",
      "Charging BEVs list before saving:  [22, 16, 25, 27, 36]\n",
      "Number of charging BEVs 5\n",
      "Charging power per bev  3.6\n",
      "Number of charging BEVs 5\n",
      "Charging power per bev  3.6\n",
      "Number of charging BEVs 5\n",
      "Charging power per bev  3.6\n",
      "Number of charging BEVs 5\n",
      "Charging power per bev  3.6\n",
      "Number of charging BEVs 5\n",
      "Charging power per bev  3.6\n",
      "Charging BEV Liste vor residual berechnung:  [22, 16, 25, 27, 36]\n",
      "Charging time (after updating) for ID BEV 22:  330.01560606060605\n",
      "Charging time (after updating) for ID BEV 16:  257.2128712871287\n",
      "Charging time (after updating) for ID BEV 25:  108\n",
      "Charging time (after updating) for ID BEV 27:  77.07956524809151\n",
      "Charging time (after updating) for ID BEV 36:  6\n",
      "Charging BEVs:  [22, 16, 25, 27, 36]\n",
      "\n",
      "\n",
      "Minute:  915\n",
      "15.7 parking end\n",
      "915 current minute\n",
      "16.3 parking end\n",
      "915 current minute\n",
      "15.3 parking end\n",
      "915 current minute\n",
      "16.0 parking end\n",
      "915 current minute\n",
      "15.3 parking end\n",
      "915 current minute\n",
      "Charging BEVs after updating parking end:  [22, 16, 25, 27, 36]\n",
      "Waiting BEVs:  [38, 44, 47, 2, 3, 41, 6, 33, 7, 15, 23, 0, 10, 26, 30, 45, 24, 29, 35, 19]\n",
      "Calculate charging time for ID BEV  22\n",
      "Update Charging energy of BEVs which came between intervals\n",
      "charging interval zur Energie Berechnung:  0.015606060606046412\n",
      "For ID BEV 22\n",
      "solar_energy_fueled_so_far:  0.0535287878787392\n",
      "updated with charging energy:  0.0009363636363627849\n",
      "Calculate charging time for ID BEV  16\n",
      "Update Charging energy of BEVs which came between intervals\n",
      "charging interval zur Energie Berechnung:  2.212871287128678\n",
      "For ID BEV 16\n",
      "solar_energy_fueled_so_far:  5.788502475247432\n",
      "updated with charging energy:  0.13277227722772067\n",
      "Calculate charging time for ID BEV  25\n",
      "Update Charging energy of BEVs which came between intervals\n",
      "charging interval zur Energie Berechnung:  3\n",
      "For ID BEV 25\n",
      "solar_energy_fueled_so_far:  2.8500000000000005\n",
      "updated with charging energy:  0.18000000000000002\n",
      "Calculate charging time for ID BEV  27\n",
      "Update Charging energy of BEVs which came between intervals\n",
      "charging interval zur Energie Berechnung:  2.0795652480915123\n",
      "For ID BEV 27\n",
      "solar_energy_fueled_so_far:  1.466093499904516\n",
      "updated with charging energy:  0.12477391488549074\n",
      "Calculate charging time for ID BEV  36\n",
      "Update Charging energy of BEVs which came between intervals\n",
      "charging interval zur Energie Berechnung:  6\n",
      "For ID BEV 36\n",
      "solar_energy_fueled_so_far:  0.48\n",
      "updated with charging energy:  0.36000000000000004\n",
      "Calculate charging time for ID BEV  22\n",
      "Calculate charging time for ID BEV  16\n",
      "Calculate charging time for ID BEV  25\n",
      "Calculate charging time for ID BEV  27\n",
      "Calculate charging time for ID BEV  36\n",
      "Charging BEVs list before saving:  [22, 16, 25, 27, 36]\n",
      "Number of charging BEVs 5\n",
      "Charging power per bev  3.15\n",
      "Number of charging BEVs 5\n",
      "Charging power per bev  3.15\n",
      "Number of charging BEVs 5\n",
      "Charging power per bev  3.15\n",
      "Number of charging BEVs 5\n",
      "Charging power per bev  3.15\n",
      "Number of charging BEVs 5\n",
      "Charging power per bev  3.15\n",
      "Charging BEV Liste vor residual berechnung:  [22, 16, 25, 27, 36]\n",
      "For ID BEV:  25\n",
      "parking end 918\n",
      "minute 915\n",
      "Residual parking time:  3\n",
      "residual_solar_energy_till_parking_end 0.1575\n",
      "For ID BEV 25\n",
      "solar_energy_fueled_so_far:  3.0300000000000007\n",
      "updated with charging energy:  0.1575\n",
      "Number of charging BEVs 5\n",
      "Charging power per bev  3.15\n",
      "set charging time after parking time over:  126\n",
      "For ID BEV:  36\n",
      "parking end 918\n",
      "minute 915\n",
      "Residual parking time:  3\n",
      "residual_solar_energy_till_parking_end 0.1575\n",
      "For ID BEV 36\n",
      "solar_energy_fueled_so_far:  0.8400000000000001\n",
      "updated with charging energy:  0.1575\n",
      "Number of charging BEVs 5\n",
      "Charging power per bev  3.15\n",
      "set charging time after parking time over:  24\n",
      "Charging time (after updating) for ID BEV 22:  345.01560606060605\n",
      "Charging time (after updating) for ID BEV 16:  272.2128712871287\n",
      "Charging time (after updating) for ID BEV 27:  92.07956524809151\n",
      "Charging time (after updating) for ID BEV 38:  0\n",
      "Charging time (after updating) for ID BEV 44:  0\n",
      "Charging BEVs:  [22, 16, 27, 38, 44]\n",
      "\n",
      "\n",
      "Minute:  930\n",
      "15.7 parking end\n",
      "930 current minute\n",
      "16.3 parking end\n",
      "930 current minute\n",
      "16.0 parking end\n",
      "930 current minute\n",
      "15.4 parking end\n",
      "930 current minute\n",
      "15.9 parking end\n",
      "930 current minute\n",
      "Charging BEVs after updating parking end:  [22, 16, 27, 38, 44]\n",
      "Waiting BEVs:  [47, 2, 41, 6, 33, 7, 15, 23, 0, 10, 26, 30, 45, 24, 29, 35, 19]\n",
      "Calculate charging time for ID BEV  22\n",
      "Update Charging energy of BEVs which came between intervals\n",
      "charging interval zur Energie Berechnung:  0.015606060606046412\n",
      "For ID BEV 22\n",
      "solar_energy_fueled_so_far:  0.054465151515101985\n",
      "updated with charging energy:  0.0008193181818174367\n",
      "Calculate charging time for ID BEV  16\n",
      "Update Charging energy of BEVs which came between intervals\n",
      "charging interval zur Energie Berechnung:  2.212871287128678\n",
      "For ID BEV 16\n",
      "solar_energy_fueled_so_far:  5.921274752475153\n",
      "updated with charging energy:  0.11617574257425559\n",
      "Calculate charging time for ID BEV  27\n",
      "Update Charging energy of BEVs which came between intervals\n",
      "charging interval zur Energie Berechnung:  2.0795652480915123\n",
      "For ID BEV 27\n",
      "solar_energy_fueled_so_far:  1.5908674147900068\n",
      "updated with charging energy:  0.10917717552480438\n",
      "Calculate charging time for ID BEV  38\n",
      "Update Charging energy of BEVs which came between intervals\n",
      "charging interval zur Energie Berechnung:  12\n",
      "For ID BEV 38\n",
      "solar_energy_fueled_so_far:  0\n",
      "updated with charging energy:  0.63\n",
      "Calculate charging time for ID BEV  44\n",
      "Update Charging energy of BEVs which came between intervals\n",
      "charging interval zur Energie Berechnung:  12\n",
      "For ID BEV 44\n",
      "solar_energy_fueled_so_far:  0\n",
      "updated with charging energy:  0.63\n",
      "Calculate charging time for ID BEV  22\n",
      "Calculate charging time for ID BEV  16\n",
      "Calculate charging time for ID BEV  27\n",
      "Calculate charging time for ID BEV  38\n",
      "Calculate charging time for ID BEV  44\n",
      "Charging BEVs list before saving:  [22, 16, 27, 38, 44]\n",
      "Number of charging BEVs 5\n"
     ]
    },
    {
     "name": "stdout",
     "output_type": "stream",
     "text": [
      "Charging power per bev  2.7\n",
      "Number of charging BEVs 5\n",
      "Charging power per bev  2.7\n",
      "Number of charging BEVs 5\n",
      "Charging power per bev  2.7\n",
      "Number of charging BEVs 5\n",
      "Charging power per bev  2.7\n",
      "Number of charging BEVs 5\n",
      "Charging power per bev  2.7\n",
      "Charging BEV Liste vor residual berechnung:  [22, 16, 27, 38, 44]\n",
      "For ID BEV:  22\n",
      "parking end 942\n",
      "minute 930\n",
      "Residual parking time:  12\n",
      "residual_solar_energy_till_parking_end 0.54\n",
      "For ID BEV 22\n",
      "solar_energy_fueled_so_far:  0.05528446969691942\n",
      "updated with charging energy:  0.54\n",
      "Number of charging BEVs 5\n",
      "Charging power per bev  2.7\n",
      "set charging time after parking time over:  372.01560606060605\n",
      "For ID BEV:  47\n",
      "parking end 942\n",
      "minute 930\n",
      "Residual parking time:  12\n",
      "residual_solar_energy_till_parking_end 0.54\n",
      "For ID BEV 47\n",
      "solar_energy_fueled_so_far:  0\n",
      "updated with charging energy:  0.54\n",
      "Number of charging BEVs 5\n",
      "Charging power per bev  2.7\n",
      "set charging time after parking time over:  0\n",
      "Charging time (after updating) for ID BEV 16:  287.2128712871287\n",
      "Charging time (after updating) for ID BEV 27:  107.07956524809151\n",
      "Charging time (after updating) for ID BEV 38:  12\n",
      "Charging time (after updating) for ID BEV 44:  12\n",
      "Charging time (after updating) for ID BEV 2:  0\n",
      "Charging BEVs:  [16, 27, 38, 44, 2]\n",
      "\n",
      "\n",
      "Minute:  945\n",
      "16.3 parking end\n",
      "945 current minute\n",
      "16.0 parking end\n",
      "945 current minute\n",
      "15.4 parking end\n",
      "945 current minute\n",
      "15.9 parking end\n",
      "945 current minute\n",
      "16.5 parking end\n",
      "945 current minute\n",
      "Charging BEVs after updating parking end:  [16, 27, 38, 44, 2]\n",
      "Waiting BEVs:  [6, 33, 7, 15, 23, 0, 10, 26, 30, 45, 24, 29, 35, 19]\n",
      "Calculate charging time for ID BEV  16\n",
      "Update Charging energy of BEVs which came between intervals\n",
      "charging interval zur Energie Berechnung:  2.212871287128678\n",
      "For ID BEV 16\n",
      "solar_energy_fueled_so_far:  6.037450495049408\n",
      "updated with charging energy:  0.0995792079207905\n",
      "Calculate charging time for ID BEV  27\n",
      "Update Charging energy of BEVs which came between intervals\n",
      "charging interval zur Energie Berechnung:  2.0795652480915123\n",
      "For ID BEV 27\n",
      "solar_energy_fueled_so_far:  1.7000445903148111\n",
      "updated with charging energy:  0.09358043616411806\n",
      "Calculate charging time for ID BEV  38\n",
      "Update Charging energy of BEVs which came between intervals\n",
      "charging interval zur Energie Berechnung:  12\n",
      "For ID BEV 38\n",
      "solar_energy_fueled_so_far:  0.63\n",
      "updated with charging energy:  0.54\n",
      "Calculate charging time for ID BEV  44\n",
      "Update Charging energy of BEVs which came between intervals\n",
      "charging interval zur Energie Berechnung:  12\n",
      "For ID BEV 44\n",
      "solar_energy_fueled_so_far:  0.63\n",
      "updated with charging energy:  0.54\n",
      "Calculate charging time for ID BEV  2\n",
      "Update Charging energy of BEVs which came between intervals\n",
      "charging interval zur Energie Berechnung:  3\n",
      "For ID BEV 2\n",
      "solar_energy_fueled_so_far:  0\n",
      "updated with charging energy:  0.135\n",
      "Calculate charging time for ID BEV  16\n",
      "Calculate charging time for ID BEV  27\n",
      "Calculate charging time for ID BEV  38\n",
      "Calculate charging time for ID BEV  44\n",
      "Calculate charging time for ID BEV  2\n",
      "Charging BEVs list before saving:  [16, 27, 38, 44, 2]\n",
      "Number of charging BEVs 5\n",
      "Charging power per bev  2.25\n",
      "Number of charging BEVs 5\n",
      "Charging power per bev  2.25\n",
      "Number of charging BEVs 5\n",
      "Charging power per bev  2.25\n",
      "Number of charging BEVs 5\n",
      "Charging power per bev  2.25\n",
      "Number of charging BEVs 5\n",
      "Charging power per bev  2.25\n",
      "Charging BEV Liste vor residual berechnung:  [16, 27, 38, 44, 2]\n",
      "For ID BEV:  44\n",
      "parking end 954\n",
      "minute 945\n",
      "Residual parking time:  9\n",
      "residual_solar_energy_till_parking_end 0.33749999999999997\n",
      "For ID BEV 44\n",
      "solar_energy_fueled_so_far:  1.17\n",
      "updated with charging energy:  0.33749999999999997\n",
      "Number of charging BEVs 5\n",
      "Charging power per bev  2.25\n",
      "set charging time after parking time over:  36\n",
      "Charging time (after updating) for ID BEV 16:  302.2128712871287\n",
      "Charging time (after updating) for ID BEV 27:  122.07956524809151\n",
      "Charging time (after updating) for ID BEV 38:  27\n",
      "Charging time (after updating) for ID BEV 2:  3\n",
      "Charging time (after updating) for ID BEV 6:  0\n",
      "Charging BEVs:  [16, 27, 38, 2, 6]\n",
      "\n",
      "\n",
      "Minute:  960\n",
      "16.3 parking end\n",
      "960 current minute\n",
      "16.0 parking end\n",
      "960 current minute\n",
      "stop parking at interval_minute for  27\n",
      "15.4 parking end\n",
      "960 current minute\n",
      "16.5 parking end\n",
      "960 current minute\n",
      "16.9 parking end\n",
      "960 current minute\n",
      "Charging BEVs after updating parking end:  [16, 38, 2, 6]\n",
      "Waiting BEVs:  [33, 7, 15, 23, 0, 10, 26, 30, 45, 24, 29, 35, 19]\n",
      "Calculate charging time for ID BEV  16\n",
      "Update Charging energy of BEVs which came between intervals\n",
      "charging interval zur Energie Berechnung:  2.212871287128678\n",
      "For ID BEV 16\n",
      "solar_energy_fueled_so_far:  6.137029702970199\n",
      "updated with charging energy:  0.08298267326732542\n",
      "Calculate charging time for ID BEV  38\n",
      "Update Charging energy of BEVs which came between intervals\n",
      "charging interval zur Energie Berechnung:  12\n",
      "For ID BEV 38\n",
      "solar_energy_fueled_so_far:  1.17\n",
      "updated with charging energy:  0.45\n",
      "Calculate charging time for ID BEV  2\n",
      "Update Charging energy of BEVs which came between intervals\n",
      "charging interval zur Energie Berechnung:  3\n",
      "For ID BEV 2\n",
      "solar_energy_fueled_so_far:  0.135\n",
      "updated with charging energy:  0.1125\n",
      "Calculate charging time for ID BEV  6\n",
      "Update Charging energy of BEVs which came between intervals\n",
      "charging interval zur Energie Berechnung:  6\n",
      "For ID BEV 6\n",
      "solar_energy_fueled_so_far:  0\n",
      "updated with charging energy:  0.225\n",
      "Calculate charging time for ID BEV  16\n",
      "Calculate charging time for ID BEV  38\n",
      "Calculate charging time for ID BEV  2\n",
      "Calculate charging time for ID BEV  6\n",
      "Charging BEVs list before saving:  [16, 38, 2, 6]\n",
      "Number of charging BEVs 4\n",
      "Charging power per bev  2.25\n",
      "Number of charging BEVs 4\n",
      "Charging power per bev  2.25\n",
      "Number of charging BEVs 4\n",
      "Charging power per bev  2.25\n",
      "Number of charging BEVs 4\n",
      "Charging power per bev  2.25\n",
      "Charging BEV Liste vor residual berechnung:  [16, 38, 2, 6]\n",
      "Charging time (after updating) for ID BEV 16:  317.2128712871287\n",
      "Charging time (after updating) for ID BEV 38:  42\n",
      "Charging time (after updating) for ID BEV 2:  18\n",
      "Charging time (after updating) for ID BEV 6:  6\n",
      "Charging BEVs:  [16, 38, 2, 6]\n",
      "Calculate charging time for ID BEV  16\n",
      "Update Charging energy of BEVs which came between intervals\n",
      "charging interval zur Energie Berechnung:  2.212871287128678\n",
      "For ID BEV 16\n",
      "solar_energy_fueled_so_far:  6.220012376237524\n",
      "updated with charging energy:  0.08298267326732542\n",
      "Calculate charging time for ID BEV  38\n",
      "Update Charging energy of BEVs which came between intervals\n",
      "charging interval zur Energie Berechnung:  12\n",
      "For ID BEV 38\n",
      "solar_energy_fueled_so_far:  1.6199999999999999\n",
      "updated with charging energy:  0.45\n",
      "Calculate charging time for ID BEV  2\n",
      "Update Charging energy of BEVs which came between intervals\n",
      "charging interval zur Energie Berechnung:  3\n",
      "For ID BEV 2\n",
      "solar_energy_fueled_so_far:  0.2475\n",
      "updated with charging energy:  0.1125\n",
      "Calculate charging time for ID BEV  6\n",
      "Update Charging energy of BEVs which came between intervals\n",
      "charging interval zur Energie Berechnung:  6\n",
      "For ID BEV 6\n",
      "solar_energy_fueled_so_far:  0.225\n",
      "updated with charging energy:  0.225\n"
     ]
    }
   ],
   "source": [
    "import distributionAlgorithmPolling\n",
    "import simulationClasses\n",
    "import simulationData\n",
    "import simulationOutputDataVisualisation\n",
    "import distributionAlgorithmForecast\n",
    "import distributionAlgorithmForecastPolling\n",
    "\n",
    "simulation_day = simulationClasses.SimulationDay(anzahl_bevs_pro_tag)\n",
    "bev_data = simulationData.BevData()\n",
    "table_dict = simulationData.TableDict()\n",
    "simulation_data = simulationData.SimulationData()\n",
    "\n",
    "# Auswahl des Algorithmus\n",
    "# algorithm = distributionAlgorithmPolling.Algorithm.POLLING_FIFO\n",
    "# algorithm = distributionAlgorithmPolling.Algorithm.POLLING_EVEN_DISTRIBUTION\n",
    "# distributionAlgorithmPolling.start_simulation(solarpeakleistung, maximale_ladezeit, ladeleistung_pro_bev, simulation_day, bev_data, table_dict, simulation_data, algorithm, minute_interval)\n",
    "\n",
    "#distributionAlgorithmForecast.start_algorithm(simulation_data, simulation_day, maximale_ladezeit, solarpeakleistung, \n",
    "  #                  bev_data, table_dict, ladeleistung_pro_bev, minute_interval)\n",
    "\n",
    "distributionAlgorithmForecastPolling.start_simulation(solarpeakleistung, ladeleistung_pro_bev,\n",
    "                     simulation_day, bev_data, table_dict, simulation_data, minute_interval)"
   ]
  },
  {
   "cell_type": "markdown",
   "metadata": {},
   "source": [
    "### Ergebnis Algorithmus"
   ]
  },
  {
   "cell_type": "code",
   "execution_count": 4,
   "metadata": {
    "pycharm": {
     "is_executing": true
    }
   },
   "outputs": [
    {
     "data": {
      "text/markdown": [
       ">**Ergebnis**<br>Geladene BEVs: 20 von 50<br>Unterbrochene Aufladevorgänge 0<br>Aufgeladene Solarenergie insgesamt: 111.49 kWh<br>Ungenutzte Solarenergie insgesamt: 0 kWh"
      ],
      "text/plain": [
       "<IPython.core.display.Markdown object>"
      ]
     },
     "execution_count": 4,
     "metadata": {},
     "output_type": "execute_result"
    }
   ],
   "source": [
    "simulationOutputDataVisualisation.print_algorithm_result(bev_data, simulation_data, anzahl_bevs_pro_tag)"
   ]
  },
  {
   "cell_type": "markdown",
   "metadata": {},
   "source": [
    "### Tabellarische Übersicht Park- und Ladeverlauf der BEVs"
   ]
  },
  {
   "cell_type": "code",
   "execution_count": 5,
   "metadata": {
    "pycharm": {
     "is_executing": true
    }
   },
   "outputs": [
    {
     "data": {
      "application/vnd.jupyter.widget-view+json": {
       "model_id": "6e960e89d09b4c5fb2212610e8df01b6",
       "version_major": 2,
       "version_minor": 0
      },
      "text/plain": [
       "interactive(children=(IntSlider(value=480, description='Minute: ', max=960, min=480, step=15), Output()), _dom…"
      ]
     },
     "metadata": {},
     "output_type": "display_data"
    }
   ],
   "source": [
    "simulationOutputDataVisualisation.create_tabular_overview_per_minute_slider(table_dict, minute_interval)"
   ]
  },
  {
   "cell_type": "code",
   "execution_count": 6,
   "metadata": {
    "pycharm": {
     "is_executing": true
    }
   },
   "outputs": [
    {
     "name": "stdout",
     "output_type": "stream",
     "text": [
      "charging_power_per_bev_per_minute_dict {4: {495: 3.25, 510: 8.5, 525: 6.875, 529.6036363636364: 6.875}, 8: {525: 6.875, 540: 9.5, 548.7868421052632: 9.5}, 11: {540: 9.5, 555: 9.0, 569.984393939394: 9.0}, 17: {555: 9.0, 570: 8.75, 585: 10.75, 597.6317625458997: 10.75}, 18: {555: 9.0, 570: 8.75, 585: 10.75, 600: 10.2, 615: 10.15, 630: 10.1, 645: 10.05, 660: 10.0, 675: 10.25, 690: 10.5, 705: 10.75, 720: 11.0, 735: 10.05, 750: 9.1, 765: 8.15, 780: 7.2, 795: 7.5, 810: 7.8, 825: 8.1, 840: 8.4, 855: 7.2, 870: 6.0, 885: 4.8, 894: 4.8}, 22: {570: 8.75, 585: 10.75, 600: 10.2, 615: 10.15, 630: 10.1, 645: 10.05, 660: 10.0, 675: 10.25, 690: 10.5, 705: 10.75, 720: 11.0, 735: 10.05, 750: 9.1, 765: 8.15, 780: 7.2, 795: 7.5, 810: 7.8, 825: 8.1, 840: 8.4, 855: 7.2, 870: 6.0, 885: 4.8, 900: 3.6, 915: 3.15, 930: 2.7, 942: 2.7}, 39: {570: 8.75, 585: 10.75, 598.1302325581395: 10.75}, 42: {600: 10.2, 615: 10.15, 630: 10.1, 645: 10.05, 660: 10.0, 675: 10.25, 690: 10.5, 705: 10.75, 720: 11.0, 735: 10.05, 750: 9.1, 765: 8.15, 780: 7.2, 795: 7.5, 810: 7.8, 822.9204347519085: 7.8}, 5: {600: 10.2, 615: 10.15, 630: 10.1, 645: 10.05, 660: 10.0, 673.2024418604649: 10.0}, 14: {600: 10.2, 615: 10.15, 630: 10.1, 642.7871287128713: 10.1}, 16: {645: 10.05, 660: 10.0, 675: 10.25, 690: 10.5, 705: 10.75, 720: 11.0, 735: 10.05, 750: 9.1, 765: 8.15, 780: 7.2, 795: 7.5, 810: 7.8, 825: 8.1, 840: 8.4, 855: 7.2, 870: 6.0, 885: 4.8, 900: 3.6, 915: 3.15, 930: 2.7, 945: 2.25, 960: 2.25}, 20: {675: 10.25, 690: 10.5, 705: 10.75, 720: 11.0, 735: 10.05, 750: 9.1, 765: 8.15, 780: 7.2, 792: 7.2}, 25: {795: 7.5, 810: 7.8, 825: 8.1, 840: 8.4, 855: 7.2, 870: 6.0, 885: 4.8, 900: 3.6, 915: 3.15, 918: 3.15}, 27: {825: 8.1, 840: 8.4, 855: 7.2, 870: 6.0, 885: 4.8, 900: 3.6, 915: 3.15, 930: 2.7, 945: 2.25}, 36: {900: 3.6, 915: 3.15, 918: 3.15}, 38: {930: 2.7, 945: 2.25, 960: 2.25}, 44: {930: 2.7, 945: 2.25, 954: 2.25}, 47: {930: 2.7, 942: 2.7}, 2: {945: 2.25, 960: 2.25}, 6: {960: 2.25}}\n",
      "{4: {495: 3.25, 510: 8.5, 525: 6.875, 529.6036363636364: 6.875}, 8: {525: 13.75, 540: 9.5, 548.7868421052632: 9.5}, 11: {540: 19.0, 555: 9.0, 569.984393939394: 9.0}, 17: {555: 18.0, 570: 8.75, 585: 10.75, 597.6317625458997: 10.75}, 18: {555: 27.0, 570: 17.5, 585: 21.5, 600: 10.2, 615: 10.15, 630: 10.1, 645: 10.05, 660: 10.0, 675: 10.25, 690: 10.5, 705: 10.75, 720: 11.0, 735: 10.05, 750: 9.1, 765: 8.15, 780: 7.2, 795: 7.5, 810: 7.8, 825: 8.1, 840: 8.4, 855: 7.2, 870: 6.0, 885: 4.8, 894: 4.8}, 22: {570: 26.25, 585: 32.25, 600: 20.4, 615: 20.3, 630: 20.2, 645: 20.1, 660: 20.0, 675: 20.5, 690: 21.0, 705: 21.5, 720: 22.0, 735: 20.1, 750: 18.2, 765: 16.3, 780: 14.4, 795: 15.0, 810: 15.6, 825: 16.2, 840: 16.8, 855: 14.4, 870: 12.0, 885: 9.6, 900: 3.6, 915: 3.15, 930: 2.7, 942: 2.7}, 39: {570: 35.0, 585: 43.0, 598.1302325581395: 10.75}, 42: {600: 30.599999999999998, 615: 30.450000000000003, 630: 30.299999999999997, 645: 30.150000000000002, 660: 30.0, 675: 30.75, 690: 31.5, 705: 32.25, 720: 33.0, 735: 30.150000000000002, 750: 27.299999999999997, 765: 24.450000000000003, 780: 21.6, 795: 22.5, 810: 23.4, 822.9204347519085: 7.8}, 5: {600: 40.8, 615: 40.6, 630: 40.4, 645: 40.2, 660: 40.0, 673.2024418604649: 10.0}, 14: {600: 51.0, 615: 50.75, 630: 50.5, 642.7871287128713: 10.1}, 16: {645: 50.25, 660: 50.0, 675: 41.0, 690: 42.0, 705: 43.0, 720: 44.0, 735: 40.2, 750: 36.4, 765: 32.6, 780: 28.8, 795: 30.0, 810: 31.2, 825: 24.299999999999997, 840: 25.200000000000003, 855: 21.6, 870: 18.0, 885: 14.399999999999999, 900: 7.2, 915: 6.3, 930: 5.4, 945: 2.25, 960: 2.25}, 20: {675: 51.25, 690: 52.5, 705: 53.75, 720: 55.0, 735: 50.25, 750: 45.5, 765: 40.75, 780: 36.0, 792: 7.2}, 25: {795: 37.5, 810: 39.0, 825: 32.4, 840: 33.6, 855: 28.8, 870: 24.0, 885: 19.2, 900: 10.8, 915: 9.45, 918: 3.15}, 27: {825: 40.5, 840: 42.0, 855: 36.0, 870: 30.0, 885: 24.0, 900: 14.4, 915: 12.6, 930: 8.100000000000001, 945: 4.5}, 36: {900: 18.0, 915: 15.75, 918: 6.3}, 38: {930: 10.8, 945: 6.75, 960: 4.5}, 44: {930: 13.5, 945: 9.0, 954: 2.25}, 47: {930: 16.2, 942: 5.4}, 2: {945: 11.25, 960: 6.75}, 6: {960: 9.0}} charging_power_per_bev_per_minute_dict_manipulated_for_visualisation\n",
      "Dataframe for BEV with ID:  4\n",
      "            Ladeleistung\n",
      "495.000000         0.000\n",
      "495.000000         3.250\n",
      "510.000000         8.500\n",
      "525.000000         6.875\n",
      "529.603636         6.875\n",
      "529.603636         0.000\n",
      "Dataframe for BEV with ID:  8\n",
      "            Ladeleistung\n",
      "525.000000          0.00\n",
      "525.000000         13.75\n",
      "540.000000          9.50\n",
      "548.786842          9.50\n",
      "548.786842          0.00\n",
      "Dataframe for BEV with ID:  11\n",
      "            Ladeleistung\n",
      "540.000000           0.0\n",
      "540.000000          19.0\n",
      "555.000000           9.0\n",
      "569.984394           9.0\n",
      "569.984394           0.0\n",
      "Dataframe for BEV with ID:  17\n",
      "            Ladeleistung\n",
      "555.000000          0.00\n",
      "555.000000         18.00\n",
      "570.000000          8.75\n",
      "585.000000         10.75\n",
      "597.631763         10.75\n",
      "597.631763          0.00\n",
      "Dataframe for BEV with ID:  18\n",
      "     Ladeleistung\n",
      "555          0.00\n",
      "555         27.00\n",
      "570         17.50\n",
      "585         21.50\n",
      "600         10.20\n",
      "615         10.15\n",
      "630         10.10\n",
      "645         10.05\n",
      "660         10.00\n",
      "675         10.25\n",
      "690         10.50\n",
      "705         10.75\n",
      "720         11.00\n",
      "735         10.05\n",
      "750          9.10\n",
      "765          8.15\n",
      "780          7.20\n",
      "795          7.50\n",
      "810          7.80\n",
      "825          8.10\n",
      "840          8.40\n",
      "855          7.20\n",
      "870          6.00\n",
      "885          4.80\n",
      "894          4.80\n",
      "894          0.00\n",
      "Dataframe for BEV with ID:  22\n",
      "     Ladeleistung\n",
      "570          0.00\n",
      "570         26.25\n",
      "585         32.25\n",
      "600         20.40\n",
      "615         20.30\n",
      "630         20.20\n",
      "645         20.10\n",
      "660         20.00\n",
      "675         20.50\n",
      "690         21.00\n",
      "705         21.50\n",
      "720         22.00\n",
      "735         20.10\n",
      "750         18.20\n",
      "765         16.30\n",
      "780         14.40\n",
      "795         15.00\n",
      "810         15.60\n",
      "825         16.20\n",
      "840         16.80\n",
      "855         14.40\n",
      "870         12.00\n",
      "885          9.60\n",
      "900          3.60\n",
      "915          3.15\n",
      "930          2.70\n",
      "942          2.70\n",
      "942          0.00\n",
      "Dataframe for BEV with ID:  39\n",
      "            Ladeleistung\n",
      "570.000000          0.00\n",
      "570.000000         35.00\n",
      "585.000000         43.00\n",
      "598.130233         10.75\n",
      "598.130233          0.00\n",
      "Dataframe for BEV with ID:  42\n",
      "            Ladeleistung\n",
      "600.000000          0.00\n",
      "600.000000         30.60\n",
      "615.000000         30.45\n",
      "630.000000         30.30\n",
      "645.000000         30.15\n",
      "660.000000         30.00\n",
      "675.000000         30.75\n",
      "690.000000         31.50\n",
      "705.000000         32.25\n",
      "720.000000         33.00\n",
      "735.000000         30.15\n",
      "750.000000         27.30\n",
      "765.000000         24.45\n",
      "780.000000         21.60\n",
      "795.000000         22.50\n",
      "810.000000         23.40\n",
      "822.920435          7.80\n",
      "822.920435          0.00\n",
      "Dataframe for BEV with ID:  5\n",
      "            Ladeleistung\n",
      "600.000000           0.0\n",
      "600.000000          40.8\n",
      "615.000000          40.6\n",
      "630.000000          40.4\n",
      "645.000000          40.2\n",
      "660.000000          40.0\n",
      "673.202442          10.0\n",
      "673.202442           0.0\n",
      "Dataframe for BEV with ID:  14\n",
      "            Ladeleistung\n",
      "600.000000          0.00\n",
      "600.000000         51.00\n",
      "615.000000         50.75\n",
      "630.000000         50.50\n",
      "642.787129         10.10\n",
      "642.787129          0.00\n",
      "Dataframe for BEV with ID:  16\n",
      "     Ladeleistung\n",
      "645          0.00\n",
      "645         50.25\n",
      "660         50.00\n",
      "675         41.00\n",
      "690         42.00\n",
      "705         43.00\n",
      "720         44.00\n",
      "735         40.20\n",
      "750         36.40\n",
      "765         32.60\n",
      "780         28.80\n",
      "795         30.00\n",
      "810         31.20\n",
      "825         24.30\n",
      "840         25.20\n",
      "855         21.60\n",
      "870         18.00\n",
      "885         14.40\n",
      "900          7.20\n",
      "915          6.30\n",
      "930          5.40\n",
      "945          2.25\n",
      "960          2.25\n",
      "960          0.00\n",
      "Dataframe for BEV with ID:  20\n",
      "     Ladeleistung\n",
      "675          0.00\n",
      "675         51.25\n",
      "690         52.50\n",
      "705         53.75\n",
      "720         55.00\n",
      "735         50.25\n",
      "750         45.50\n",
      "765         40.75\n",
      "780         36.00\n",
      "792          7.20\n",
      "792          0.00\n",
      "Dataframe for BEV with ID:  25\n",
      "     Ladeleistung\n",
      "795          0.00\n",
      "795         37.50\n",
      "810         39.00\n",
      "825         32.40\n",
      "840         33.60\n",
      "855         28.80\n",
      "870         24.00\n",
      "885         19.20\n",
      "900         10.80\n",
      "915          9.45\n",
      "918          3.15\n",
      "918          0.00\n",
      "Dataframe for BEV with ID:  27\n",
      "     Ladeleistung\n",
      "825           0.0\n",
      "825          40.5\n",
      "840          42.0\n",
      "855          36.0\n",
      "870          30.0\n",
      "885          24.0\n",
      "900          14.4\n",
      "915          12.6\n",
      "930           8.1\n",
      "945           4.5\n",
      "945           0.0\n",
      "Dataframe for BEV with ID:  36\n",
      "     Ladeleistung\n",
      "900          0.00\n",
      "900         18.00\n",
      "915         15.75\n",
      "918          6.30\n",
      "918          0.00\n",
      "Dataframe for BEV with ID:  38\n",
      "     Ladeleistung\n",
      "930          0.00\n",
      "930         10.80\n",
      "945          6.75\n",
      "960          4.50\n",
      "960          0.00\n",
      "Dataframe for BEV with ID:  44\n",
      "     Ladeleistung\n",
      "930          0.00\n",
      "930         13.50\n",
      "945          9.00\n",
      "954          2.25\n",
      "954          0.00\n",
      "Dataframe for BEV with ID:  47\n",
      "     Ladeleistung\n",
      "930           0.0\n",
      "930          16.2\n",
      "942           5.4\n",
      "942           0.0\n",
      "Dataframe for BEV with ID:  2\n",
      "     Ladeleistung\n",
      "945          0.00\n",
      "945         11.25\n",
      "960          6.75\n",
      "960          0.00\n",
      "Dataframe for BEV with ID:  6\n",
      "     Ladeleistung\n",
      "960           0.0\n",
      "960           9.0\n",
      "960           0.0\n"
     ]
    },
    {
     "data": {
      "application/vnd.plotly.v1+json": {
       "config": {
        "plotlyServerURL": "https://plot.ly"
       },
       "data": [
        {
         "line": {
          "color": "orange"
         },
         "name": "Verfügbare Solarleistung",
         "type": "scatter",
         "x": [
          480,
          495,
          510,
          525,
          540,
          555,
          570,
          585,
          600,
          615,
          630,
          645,
          660,
          675,
          690,
          705,
          720,
          735,
          750,
          765,
          780,
          795,
          810,
          825,
          840,
          855,
          870,
          885,
          900,
          915,
          930,
          945,
          960
         ],
         "y": [
          -2,
          3.25,
          8.5,
          13.749999999999998,
          19,
          27,
          35,
          43,
          51,
          50.75,
          50.5,
          50.25,
          50,
          51.25,
          52.5,
          53.75,
          55,
          50.25,
          45.5,
          40.75,
          36,
          37.5,
          39,
          40.5,
          42,
          36,
          30,
          24,
          18,
          15.75,
          13.5,
          11.25,
          9
         ]
        },
        {
         "line": {
          "color": "green"
         },
         "mode": "lines",
         "name": "ID BEV 4",
         "type": "scatter",
         "x": [
          495,
          495,
          510,
          525,
          529.6036363636364,
          529.6036363636364
         ],
         "y": [
          0,
          3.25,
          8.5,
          6.875,
          6.875,
          0
         ]
        },
        {
         "line": {
          "color": "green"
         },
         "mode": "lines",
         "name": "ID BEV 8",
         "type": "scatter",
         "x": [
          525,
          525,
          540,
          548.7868421052632,
          548.7868421052632
         ],
         "y": [
          0,
          13.75,
          9.5,
          9.5,
          0
         ]
        },
        {
         "line": {
          "color": "green"
         },
         "mode": "lines",
         "name": "ID BEV 11",
         "type": "scatter",
         "x": [
          540,
          540,
          555,
          569.984393939394,
          569.984393939394
         ],
         "y": [
          0,
          19,
          9,
          9,
          0
         ]
        },
        {
         "line": {
          "color": "green"
         },
         "mode": "lines",
         "name": "ID BEV 17",
         "type": "scatter",
         "x": [
          555,
          555,
          570,
          585,
          597.6317625458997,
          597.6317625458997
         ],
         "y": [
          0,
          18,
          8.75,
          10.75,
          10.75,
          0
         ]
        },
        {
         "line": {
          "color": "green"
         },
         "mode": "lines",
         "name": "ID BEV 18",
         "type": "scatter",
         "x": [
          555,
          555,
          570,
          585,
          600,
          615,
          630,
          645,
          660,
          675,
          690,
          705,
          720,
          735,
          750,
          765,
          780,
          795,
          810,
          825,
          840,
          855,
          870,
          885,
          894,
          894
         ],
         "y": [
          0,
          27,
          17.5,
          21.5,
          10.2,
          10.15,
          10.1,
          10.05,
          10,
          10.25,
          10.5,
          10.75,
          11,
          10.05,
          9.1,
          8.15,
          7.2,
          7.5,
          7.8,
          8.1,
          8.4,
          7.2,
          6,
          4.8,
          4.8,
          0
         ]
        },
        {
         "line": {
          "color": "green"
         },
         "mode": "lines",
         "name": "ID BEV 22",
         "type": "scatter",
         "x": [
          570,
          570,
          585,
          600,
          615,
          630,
          645,
          660,
          675,
          690,
          705,
          720,
          735,
          750,
          765,
          780,
          795,
          810,
          825,
          840,
          855,
          870,
          885,
          900,
          915,
          930,
          942,
          942
         ],
         "y": [
          0,
          26.25,
          32.25,
          20.4,
          20.3,
          20.2,
          20.1,
          20,
          20.5,
          21,
          21.5,
          22,
          20.1,
          18.2,
          16.3,
          14.4,
          15,
          15.6,
          16.2,
          16.8,
          14.4,
          12,
          9.6,
          3.6,
          3.15,
          2.7,
          2.7,
          0
         ]
        },
        {
         "line": {
          "color": "green"
         },
         "mode": "lines",
         "name": "ID BEV 39",
         "type": "scatter",
         "x": [
          570,
          570,
          585,
          598.1302325581395,
          598.1302325581395
         ],
         "y": [
          0,
          35,
          43,
          10.75,
          0
         ]
        },
        {
         "line": {
          "color": "green"
         },
         "mode": "lines",
         "name": "ID BEV 42",
         "type": "scatter",
         "x": [
          600,
          600,
          615,
          630,
          645,
          660,
          675,
          690,
          705,
          720,
          735,
          750,
          765,
          780,
          795,
          810,
          822.9204347519085,
          822.9204347519085
         ],
         "y": [
          0,
          30.599999999999998,
          30.450000000000003,
          30.299999999999997,
          30.150000000000002,
          30,
          30.75,
          31.5,
          32.25,
          33,
          30.150000000000002,
          27.299999999999997,
          24.450000000000003,
          21.6,
          22.5,
          23.4,
          7.8,
          0
         ]
        },
        {
         "line": {
          "color": "green"
         },
         "mode": "lines",
         "name": "ID BEV 5",
         "type": "scatter",
         "x": [
          600,
          600,
          615,
          630,
          645,
          660,
          673.2024418604649,
          673.2024418604649
         ],
         "y": [
          0,
          40.8,
          40.6,
          40.4,
          40.2,
          40,
          10,
          0
         ]
        },
        {
         "line": {
          "color": "green"
         },
         "mode": "lines",
         "name": "ID BEV 14",
         "type": "scatter",
         "x": [
          600,
          600,
          615,
          630,
          642.7871287128713,
          642.7871287128713
         ],
         "y": [
          0,
          51,
          50.75,
          50.5,
          10.1,
          0
         ]
        },
        {
         "line": {
          "color": "green"
         },
         "mode": "lines",
         "name": "ID BEV 16",
         "type": "scatter",
         "x": [
          645,
          645,
          660,
          675,
          690,
          705,
          720,
          735,
          750,
          765,
          780,
          795,
          810,
          825,
          840,
          855,
          870,
          885,
          900,
          915,
          930,
          945,
          960,
          960
         ],
         "y": [
          0,
          50.25,
          50,
          41,
          42,
          43,
          44,
          40.2,
          36.4,
          32.6,
          28.8,
          30,
          31.2,
          24.299999999999997,
          25.200000000000003,
          21.6,
          18,
          14.399999999999999,
          7.2,
          6.3,
          5.4,
          2.25,
          2.25,
          0
         ]
        },
        {
         "line": {
          "color": "green"
         },
         "mode": "lines",
         "name": "ID BEV 20",
         "type": "scatter",
         "x": [
          675,
          675,
          690,
          705,
          720,
          735,
          750,
          765,
          780,
          792,
          792
         ],
         "y": [
          0,
          51.25,
          52.5,
          53.75,
          55,
          50.25,
          45.5,
          40.75,
          36,
          7.2,
          0
         ]
        },
        {
         "line": {
          "color": "green"
         },
         "mode": "lines",
         "name": "ID BEV 25",
         "type": "scatter",
         "x": [
          795,
          795,
          810,
          825,
          840,
          855,
          870,
          885,
          900,
          915,
          918,
          918
         ],
         "y": [
          0,
          37.5,
          39,
          32.4,
          33.6,
          28.8,
          24,
          19.2,
          10.8,
          9.45,
          3.15,
          0
         ]
        },
        {
         "line": {
          "color": "green"
         },
         "mode": "lines",
         "name": "ID BEV 27",
         "type": "scatter",
         "x": [
          825,
          825,
          840,
          855,
          870,
          885,
          900,
          915,
          930,
          945,
          945
         ],
         "y": [
          0,
          40.5,
          42,
          36,
          30,
          24,
          14.4,
          12.6,
          8.100000000000001,
          4.5,
          0
         ]
        },
        {
         "line": {
          "color": "green"
         },
         "mode": "lines",
         "name": "ID BEV 36",
         "type": "scatter",
         "x": [
          900,
          900,
          915,
          918,
          918
         ],
         "y": [
          0,
          18,
          15.75,
          6.3,
          0
         ]
        },
        {
         "line": {
          "color": "green"
         },
         "mode": "lines",
         "name": "ID BEV 38",
         "type": "scatter",
         "x": [
          930,
          930,
          945,
          960,
          960
         ],
         "y": [
          0,
          10.8,
          6.75,
          4.5,
          0
         ]
        },
        {
         "line": {
          "color": "green"
         },
         "mode": "lines",
         "name": "ID BEV 44",
         "type": "scatter",
         "x": [
          930,
          930,
          945,
          954,
          954
         ],
         "y": [
          0,
          13.5,
          9,
          2.25,
          0
         ]
        },
        {
         "line": {
          "color": "green"
         },
         "mode": "lines",
         "name": "ID BEV 47",
         "type": "scatter",
         "x": [
          930,
          930,
          942,
          942
         ],
         "y": [
          0,
          16.2,
          5.4,
          0
         ]
        },
        {
         "line": {
          "color": "green"
         },
         "mode": "lines",
         "name": "ID BEV 2",
         "type": "scatter",
         "x": [
          945,
          945,
          960,
          960
         ],
         "y": [
          0,
          11.25,
          6.75,
          0
         ]
        },
        {
         "line": {
          "color": "green"
         },
         "mode": "lines",
         "name": "ID BEV 6",
         "type": "scatter",
         "x": [
          960,
          960,
          960
         ],
         "y": [
          0,
          9,
          0
         ]
        }
       ],
       "layout": {
        "template": {
         "data": {
          "bar": [
           {
            "error_x": {
             "color": "#2a3f5f"
            },
            "error_y": {
             "color": "#2a3f5f"
            },
            "marker": {
             "line": {
              "color": "white",
              "width": 0.5
             },
             "pattern": {
              "fillmode": "overlay",
              "size": 10,
              "solidity": 0.2
             }
            },
            "type": "bar"
           }
          ],
          "barpolar": [
           {
            "marker": {
             "line": {
              "color": "white",
              "width": 0.5
             },
             "pattern": {
              "fillmode": "overlay",
              "size": 10,
              "solidity": 0.2
             }
            },
            "type": "barpolar"
           }
          ],
          "carpet": [
           {
            "aaxis": {
             "endlinecolor": "#2a3f5f",
             "gridcolor": "#C8D4E3",
             "linecolor": "#C8D4E3",
             "minorgridcolor": "#C8D4E3",
             "startlinecolor": "#2a3f5f"
            },
            "baxis": {
             "endlinecolor": "#2a3f5f",
             "gridcolor": "#C8D4E3",
             "linecolor": "#C8D4E3",
             "minorgridcolor": "#C8D4E3",
             "startlinecolor": "#2a3f5f"
            },
            "type": "carpet"
           }
          ],
          "choropleth": [
           {
            "colorbar": {
             "outlinewidth": 0,
             "ticks": ""
            },
            "type": "choropleth"
           }
          ],
          "contour": [
           {
            "colorbar": {
             "outlinewidth": 0,
             "ticks": ""
            },
            "colorscale": [
             [
              0,
              "#0d0887"
             ],
             [
              0.1111111111111111,
              "#46039f"
             ],
             [
              0.2222222222222222,
              "#7201a8"
             ],
             [
              0.3333333333333333,
              "#9c179e"
             ],
             [
              0.4444444444444444,
              "#bd3786"
             ],
             [
              0.5555555555555556,
              "#d8576b"
             ],
             [
              0.6666666666666666,
              "#ed7953"
             ],
             [
              0.7777777777777778,
              "#fb9f3a"
             ],
             [
              0.8888888888888888,
              "#fdca26"
             ],
             [
              1,
              "#f0f921"
             ]
            ],
            "type": "contour"
           }
          ],
          "contourcarpet": [
           {
            "colorbar": {
             "outlinewidth": 0,
             "ticks": ""
            },
            "type": "contourcarpet"
           }
          ],
          "heatmap": [
           {
            "colorbar": {
             "outlinewidth": 0,
             "ticks": ""
            },
            "colorscale": [
             [
              0,
              "#0d0887"
             ],
             [
              0.1111111111111111,
              "#46039f"
             ],
             [
              0.2222222222222222,
              "#7201a8"
             ],
             [
              0.3333333333333333,
              "#9c179e"
             ],
             [
              0.4444444444444444,
              "#bd3786"
             ],
             [
              0.5555555555555556,
              "#d8576b"
             ],
             [
              0.6666666666666666,
              "#ed7953"
             ],
             [
              0.7777777777777778,
              "#fb9f3a"
             ],
             [
              0.8888888888888888,
              "#fdca26"
             ],
             [
              1,
              "#f0f921"
             ]
            ],
            "type": "heatmap"
           }
          ],
          "heatmapgl": [
           {
            "colorbar": {
             "outlinewidth": 0,
             "ticks": ""
            },
            "colorscale": [
             [
              0,
              "#0d0887"
             ],
             [
              0.1111111111111111,
              "#46039f"
             ],
             [
              0.2222222222222222,
              "#7201a8"
             ],
             [
              0.3333333333333333,
              "#9c179e"
             ],
             [
              0.4444444444444444,
              "#bd3786"
             ],
             [
              0.5555555555555556,
              "#d8576b"
             ],
             [
              0.6666666666666666,
              "#ed7953"
             ],
             [
              0.7777777777777778,
              "#fb9f3a"
             ],
             [
              0.8888888888888888,
              "#fdca26"
             ],
             [
              1,
              "#f0f921"
             ]
            ],
            "type": "heatmapgl"
           }
          ],
          "histogram": [
           {
            "marker": {
             "pattern": {
              "fillmode": "overlay",
              "size": 10,
              "solidity": 0.2
             }
            },
            "type": "histogram"
           }
          ],
          "histogram2d": [
           {
            "colorbar": {
             "outlinewidth": 0,
             "ticks": ""
            },
            "colorscale": [
             [
              0,
              "#0d0887"
             ],
             [
              0.1111111111111111,
              "#46039f"
             ],
             [
              0.2222222222222222,
              "#7201a8"
             ],
             [
              0.3333333333333333,
              "#9c179e"
             ],
             [
              0.4444444444444444,
              "#bd3786"
             ],
             [
              0.5555555555555556,
              "#d8576b"
             ],
             [
              0.6666666666666666,
              "#ed7953"
             ],
             [
              0.7777777777777778,
              "#fb9f3a"
             ],
             [
              0.8888888888888888,
              "#fdca26"
             ],
             [
              1,
              "#f0f921"
             ]
            ],
            "type": "histogram2d"
           }
          ],
          "histogram2dcontour": [
           {
            "colorbar": {
             "outlinewidth": 0,
             "ticks": ""
            },
            "colorscale": [
             [
              0,
              "#0d0887"
             ],
             [
              0.1111111111111111,
              "#46039f"
             ],
             [
              0.2222222222222222,
              "#7201a8"
             ],
             [
              0.3333333333333333,
              "#9c179e"
             ],
             [
              0.4444444444444444,
              "#bd3786"
             ],
             [
              0.5555555555555556,
              "#d8576b"
             ],
             [
              0.6666666666666666,
              "#ed7953"
             ],
             [
              0.7777777777777778,
              "#fb9f3a"
             ],
             [
              0.8888888888888888,
              "#fdca26"
             ],
             [
              1,
              "#f0f921"
             ]
            ],
            "type": "histogram2dcontour"
           }
          ],
          "mesh3d": [
           {
            "colorbar": {
             "outlinewidth": 0,
             "ticks": ""
            },
            "type": "mesh3d"
           }
          ],
          "parcoords": [
           {
            "line": {
             "colorbar": {
              "outlinewidth": 0,
              "ticks": ""
             }
            },
            "type": "parcoords"
           }
          ],
          "pie": [
           {
            "automargin": true,
            "type": "pie"
           }
          ],
          "scatter": [
           {
            "marker": {
             "colorbar": {
              "outlinewidth": 0,
              "ticks": ""
             }
            },
            "type": "scatter"
           }
          ],
          "scatter3d": [
           {
            "line": {
             "colorbar": {
              "outlinewidth": 0,
              "ticks": ""
             }
            },
            "marker": {
             "colorbar": {
              "outlinewidth": 0,
              "ticks": ""
             }
            },
            "type": "scatter3d"
           }
          ],
          "scattercarpet": [
           {
            "marker": {
             "colorbar": {
              "outlinewidth": 0,
              "ticks": ""
             }
            },
            "type": "scattercarpet"
           }
          ],
          "scattergeo": [
           {
            "marker": {
             "colorbar": {
              "outlinewidth": 0,
              "ticks": ""
             }
            },
            "type": "scattergeo"
           }
          ],
          "scattergl": [
           {
            "marker": {
             "colorbar": {
              "outlinewidth": 0,
              "ticks": ""
             }
            },
            "type": "scattergl"
           }
          ],
          "scattermapbox": [
           {
            "marker": {
             "colorbar": {
              "outlinewidth": 0,
              "ticks": ""
             }
            },
            "type": "scattermapbox"
           }
          ],
          "scatterpolar": [
           {
            "marker": {
             "colorbar": {
              "outlinewidth": 0,
              "ticks": ""
             }
            },
            "type": "scatterpolar"
           }
          ],
          "scatterpolargl": [
           {
            "marker": {
             "colorbar": {
              "outlinewidth": 0,
              "ticks": ""
             }
            },
            "type": "scatterpolargl"
           }
          ],
          "scatterternary": [
           {
            "marker": {
             "colorbar": {
              "outlinewidth": 0,
              "ticks": ""
             }
            },
            "type": "scatterternary"
           }
          ],
          "surface": [
           {
            "colorbar": {
             "outlinewidth": 0,
             "ticks": ""
            },
            "colorscale": [
             [
              0,
              "#0d0887"
             ],
             [
              0.1111111111111111,
              "#46039f"
             ],
             [
              0.2222222222222222,
              "#7201a8"
             ],
             [
              0.3333333333333333,
              "#9c179e"
             ],
             [
              0.4444444444444444,
              "#bd3786"
             ],
             [
              0.5555555555555556,
              "#d8576b"
             ],
             [
              0.6666666666666666,
              "#ed7953"
             ],
             [
              0.7777777777777778,
              "#fb9f3a"
             ],
             [
              0.8888888888888888,
              "#fdca26"
             ],
             [
              1,
              "#f0f921"
             ]
            ],
            "type": "surface"
           }
          ],
          "table": [
           {
            "cells": {
             "fill": {
              "color": "#EBF0F8"
             },
             "line": {
              "color": "white"
             }
            },
            "header": {
             "fill": {
              "color": "#C8D4E3"
             },
             "line": {
              "color": "white"
             }
            },
            "type": "table"
           }
          ]
         },
         "layout": {
          "annotationdefaults": {
           "arrowcolor": "#2a3f5f",
           "arrowhead": 0,
           "arrowwidth": 1
          },
          "autotypenumbers": "strict",
          "coloraxis": {
           "colorbar": {
            "outlinewidth": 0,
            "ticks": ""
           }
          },
          "colorscale": {
           "diverging": [
            [
             0,
             "#8e0152"
            ],
            [
             0.1,
             "#c51b7d"
            ],
            [
             0.2,
             "#de77ae"
            ],
            [
             0.3,
             "#f1b6da"
            ],
            [
             0.4,
             "#fde0ef"
            ],
            [
             0.5,
             "#f7f7f7"
            ],
            [
             0.6,
             "#e6f5d0"
            ],
            [
             0.7,
             "#b8e186"
            ],
            [
             0.8,
             "#7fbc41"
            ],
            [
             0.9,
             "#4d9221"
            ],
            [
             1,
             "#276419"
            ]
           ],
           "sequential": [
            [
             0,
             "#0d0887"
            ],
            [
             0.1111111111111111,
             "#46039f"
            ],
            [
             0.2222222222222222,
             "#7201a8"
            ],
            [
             0.3333333333333333,
             "#9c179e"
            ],
            [
             0.4444444444444444,
             "#bd3786"
            ],
            [
             0.5555555555555556,
             "#d8576b"
            ],
            [
             0.6666666666666666,
             "#ed7953"
            ],
            [
             0.7777777777777778,
             "#fb9f3a"
            ],
            [
             0.8888888888888888,
             "#fdca26"
            ],
            [
             1,
             "#f0f921"
            ]
           ],
           "sequentialminus": [
            [
             0,
             "#0d0887"
            ],
            [
             0.1111111111111111,
             "#46039f"
            ],
            [
             0.2222222222222222,
             "#7201a8"
            ],
            [
             0.3333333333333333,
             "#9c179e"
            ],
            [
             0.4444444444444444,
             "#bd3786"
            ],
            [
             0.5555555555555556,
             "#d8576b"
            ],
            [
             0.6666666666666666,
             "#ed7953"
            ],
            [
             0.7777777777777778,
             "#fb9f3a"
            ],
            [
             0.8888888888888888,
             "#fdca26"
            ],
            [
             1,
             "#f0f921"
            ]
           ]
          },
          "colorway": [
           "#636efa",
           "#EF553B",
           "#00cc96",
           "#ab63fa",
           "#FFA15A",
           "#19d3f3",
           "#FF6692",
           "#B6E880",
           "#FF97FF",
           "#FECB52"
          ],
          "font": {
           "color": "#2a3f5f"
          },
          "geo": {
           "bgcolor": "white",
           "lakecolor": "white",
           "landcolor": "white",
           "showlakes": true,
           "showland": true,
           "subunitcolor": "#C8D4E3"
          },
          "hoverlabel": {
           "align": "left"
          },
          "hovermode": "closest",
          "mapbox": {
           "style": "light"
          },
          "paper_bgcolor": "white",
          "plot_bgcolor": "white",
          "polar": {
           "angularaxis": {
            "gridcolor": "#EBF0F8",
            "linecolor": "#EBF0F8",
            "ticks": ""
           },
           "bgcolor": "white",
           "radialaxis": {
            "gridcolor": "#EBF0F8",
            "linecolor": "#EBF0F8",
            "ticks": ""
           }
          },
          "scene": {
           "xaxis": {
            "backgroundcolor": "white",
            "gridcolor": "#DFE8F3",
            "gridwidth": 2,
            "linecolor": "#EBF0F8",
            "showbackground": true,
            "ticks": "",
            "zerolinecolor": "#EBF0F8"
           },
           "yaxis": {
            "backgroundcolor": "white",
            "gridcolor": "#DFE8F3",
            "gridwidth": 2,
            "linecolor": "#EBF0F8",
            "showbackground": true,
            "ticks": "",
            "zerolinecolor": "#EBF0F8"
           },
           "zaxis": {
            "backgroundcolor": "white",
            "gridcolor": "#DFE8F3",
            "gridwidth": 2,
            "linecolor": "#EBF0F8",
            "showbackground": true,
            "ticks": "",
            "zerolinecolor": "#EBF0F8"
           }
          },
          "shapedefaults": {
           "line": {
            "color": "#2a3f5f"
           }
          },
          "ternary": {
           "aaxis": {
            "gridcolor": "#DFE8F3",
            "linecolor": "#A2B1C6",
            "ticks": ""
           },
           "baxis": {
            "gridcolor": "#DFE8F3",
            "linecolor": "#A2B1C6",
            "ticks": ""
           },
           "bgcolor": "white",
           "caxis": {
            "gridcolor": "#DFE8F3",
            "linecolor": "#A2B1C6",
            "ticks": ""
           }
          },
          "title": {
           "x": 0.05
          },
          "xaxis": {
           "automargin": true,
           "gridcolor": "#EBF0F8",
           "linecolor": "#EBF0F8",
           "ticks": "",
           "title": {
            "standoff": 15
           },
           "zerolinecolor": "#EBF0F8",
           "zerolinewidth": 2
          },
          "yaxis": {
           "automargin": true,
           "gridcolor": "#EBF0F8",
           "linecolor": "#EBF0F8",
           "ticks": "",
           "title": {
            "standoff": 15
           },
           "zerolinecolor": "#EBF0F8",
           "zerolinewidth": 2
          }
         }
        },
        "title": {
         "font": {
          "size": 24
         },
         "text": "Ladeleistung pro Ladezeitraum eines BEVs",
         "x": 0.5,
         "xanchor": "center"
        },
        "xaxis": {
         "range": [
          480,
          960
         ],
         "showgrid": true,
         "title": {
          "text": "Minuten"
         }
        },
        "yaxis": {
         "range": [
          0,
          60
         ],
         "title": {
          "text": "Energie in kW"
         }
        }
       }
      },
      "text/html": [
       "<div>                            <div id=\"d9b22916-8f50-4747-90b0-d76eb1f67db3\" class=\"plotly-graph-div\" style=\"height:525px; width:100%;\"></div>            <script type=\"text/javascript\">                require([\"plotly\"], function(Plotly) {                    window.PLOTLYENV=window.PLOTLYENV || {};                                    if (document.getElementById(\"d9b22916-8f50-4747-90b0-d76eb1f67db3\")) {                    Plotly.newPlot(                        \"d9b22916-8f50-4747-90b0-d76eb1f67db3\",                        [{\"line\":{\"color\":\"orange\"},\"name\":\"Verf\\u00fcgbare Solarleistung\",\"x\":[480,495,510,525,540,555,570,585,600,615,630,645,660,675,690,705,720,735,750,765,780,795,810,825,840,855,870,885,900,915,930,945,960],\"y\":[-2.0,3.25,8.5,13.749999999999998,19.0,27.0,35.0,43.0,51.0,50.75,50.5,50.25,50.0,51.25,52.5,53.75,55.0,50.25,45.5,40.75,36.0,37.5,39.0,40.5,42.0,36.0,30.0,24.0,18.0,15.75,13.5,11.25,9.0],\"type\":\"scatter\"},{\"line\":{\"color\":\"green\"},\"mode\":\"lines\",\"name\":\"ID BEV 4\",\"x\":[495.0,495.0,510.0,525.0,529.6036363636364,529.6036363636364],\"y\":[0.0,3.25,8.5,6.875,6.875,0.0],\"type\":\"scatter\"},{\"line\":{\"color\":\"green\"},\"mode\":\"lines\",\"name\":\"ID BEV 8\",\"x\":[525.0,525.0,540.0,548.7868421052632,548.7868421052632],\"y\":[0.0,13.75,9.5,9.5,0.0],\"type\":\"scatter\"},{\"line\":{\"color\":\"green\"},\"mode\":\"lines\",\"name\":\"ID BEV 11\",\"x\":[540.0,540.0,555.0,569.984393939394,569.984393939394],\"y\":[0.0,19.0,9.0,9.0,0.0],\"type\":\"scatter\"},{\"line\":{\"color\":\"green\"},\"mode\":\"lines\",\"name\":\"ID BEV 17\",\"x\":[555.0,555.0,570.0,585.0,597.6317625458997,597.6317625458997],\"y\":[0.0,18.0,8.75,10.75,10.75,0.0],\"type\":\"scatter\"},{\"line\":{\"color\":\"green\"},\"mode\":\"lines\",\"name\":\"ID BEV 18\",\"x\":[555,555,570,585,600,615,630,645,660,675,690,705,720,735,750,765,780,795,810,825,840,855,870,885,894,894],\"y\":[0.0,27.0,17.5,21.5,10.2,10.15,10.1,10.05,10.0,10.25,10.5,10.75,11.0,10.05,9.1,8.15,7.2,7.5,7.8,8.1,8.4,7.2,6.0,4.8,4.8,0.0],\"type\":\"scatter\"},{\"line\":{\"color\":\"green\"},\"mode\":\"lines\",\"name\":\"ID BEV 22\",\"x\":[570,570,585,600,615,630,645,660,675,690,705,720,735,750,765,780,795,810,825,840,855,870,885,900,915,930,942,942],\"y\":[0.0,26.25,32.25,20.4,20.3,20.2,20.1,20.0,20.5,21.0,21.5,22.0,20.1,18.2,16.3,14.4,15.0,15.6,16.2,16.8,14.4,12.0,9.6,3.6,3.15,2.7,2.7,0.0],\"type\":\"scatter\"},{\"line\":{\"color\":\"green\"},\"mode\":\"lines\",\"name\":\"ID BEV 39\",\"x\":[570.0,570.0,585.0,598.1302325581395,598.1302325581395],\"y\":[0.0,35.0,43.0,10.75,0.0],\"type\":\"scatter\"},{\"line\":{\"color\":\"green\"},\"mode\":\"lines\",\"name\":\"ID BEV 42\",\"x\":[600.0,600.0,615.0,630.0,645.0,660.0,675.0,690.0,705.0,720.0,735.0,750.0,765.0,780.0,795.0,810.0,822.9204347519085,822.9204347519085],\"y\":[0.0,30.599999999999998,30.450000000000003,30.299999999999997,30.150000000000002,30.0,30.75,31.5,32.25,33.0,30.150000000000002,27.299999999999997,24.450000000000003,21.6,22.5,23.4,7.8,0.0],\"type\":\"scatter\"},{\"line\":{\"color\":\"green\"},\"mode\":\"lines\",\"name\":\"ID BEV 5\",\"x\":[600.0,600.0,615.0,630.0,645.0,660.0,673.2024418604649,673.2024418604649],\"y\":[0.0,40.8,40.6,40.4,40.2,40.0,10.0,0.0],\"type\":\"scatter\"},{\"line\":{\"color\":\"green\"},\"mode\":\"lines\",\"name\":\"ID BEV 14\",\"x\":[600.0,600.0,615.0,630.0,642.7871287128713,642.7871287128713],\"y\":[0.0,51.0,50.75,50.5,10.1,0.0],\"type\":\"scatter\"},{\"line\":{\"color\":\"green\"},\"mode\":\"lines\",\"name\":\"ID BEV 16\",\"x\":[645,645,660,675,690,705,720,735,750,765,780,795,810,825,840,855,870,885,900,915,930,945,960,960],\"y\":[0.0,50.25,50.0,41.0,42.0,43.0,44.0,40.2,36.4,32.6,28.8,30.0,31.2,24.299999999999997,25.200000000000003,21.6,18.0,14.399999999999999,7.2,6.3,5.4,2.25,2.25,0.0],\"type\":\"scatter\"},{\"line\":{\"color\":\"green\"},\"mode\":\"lines\",\"name\":\"ID BEV 20\",\"x\":[675,675,690,705,720,735,750,765,780,792,792],\"y\":[0.0,51.25,52.5,53.75,55.0,50.25,45.5,40.75,36.0,7.2,0.0],\"type\":\"scatter\"},{\"line\":{\"color\":\"green\"},\"mode\":\"lines\",\"name\":\"ID BEV 25\",\"x\":[795,795,810,825,840,855,870,885,900,915,918,918],\"y\":[0.0,37.5,39.0,32.4,33.6,28.8,24.0,19.2,10.8,9.45,3.15,0.0],\"type\":\"scatter\"},{\"line\":{\"color\":\"green\"},\"mode\":\"lines\",\"name\":\"ID BEV 27\",\"x\":[825,825,840,855,870,885,900,915,930,945,945],\"y\":[0.0,40.5,42.0,36.0,30.0,24.0,14.4,12.6,8.100000000000001,4.5,0.0],\"type\":\"scatter\"},{\"line\":{\"color\":\"green\"},\"mode\":\"lines\",\"name\":\"ID BEV 36\",\"x\":[900,900,915,918,918],\"y\":[0.0,18.0,15.75,6.3,0.0],\"type\":\"scatter\"},{\"line\":{\"color\":\"green\"},\"mode\":\"lines\",\"name\":\"ID BEV 38\",\"x\":[930,930,945,960,960],\"y\":[0.0,10.8,6.75,4.5,0.0],\"type\":\"scatter\"},{\"line\":{\"color\":\"green\"},\"mode\":\"lines\",\"name\":\"ID BEV 44\",\"x\":[930,930,945,954,954],\"y\":[0.0,13.5,9.0,2.25,0.0],\"type\":\"scatter\"},{\"line\":{\"color\":\"green\"},\"mode\":\"lines\",\"name\":\"ID BEV 47\",\"x\":[930,930,942,942],\"y\":[0.0,16.2,5.4,0.0],\"type\":\"scatter\"},{\"line\":{\"color\":\"green\"},\"mode\":\"lines\",\"name\":\"ID BEV 2\",\"x\":[945,945,960,960],\"y\":[0.0,11.25,6.75,0.0],\"type\":\"scatter\"},{\"line\":{\"color\":\"green\"},\"mode\":\"lines\",\"name\":\"ID BEV 6\",\"x\":[960,960,960],\"y\":[0.0,9.0,0.0],\"type\":\"scatter\"}],                        {\"template\":{\"data\":{\"barpolar\":[{\"marker\":{\"line\":{\"color\":\"white\",\"width\":0.5},\"pattern\":{\"fillmode\":\"overlay\",\"size\":10,\"solidity\":0.2}},\"type\":\"barpolar\"}],\"bar\":[{\"error_x\":{\"color\":\"#2a3f5f\"},\"error_y\":{\"color\":\"#2a3f5f\"},\"marker\":{\"line\":{\"color\":\"white\",\"width\":0.5},\"pattern\":{\"fillmode\":\"overlay\",\"size\":10,\"solidity\":0.2}},\"type\":\"bar\"}],\"carpet\":[{\"aaxis\":{\"endlinecolor\":\"#2a3f5f\",\"gridcolor\":\"#C8D4E3\",\"linecolor\":\"#C8D4E3\",\"minorgridcolor\":\"#C8D4E3\",\"startlinecolor\":\"#2a3f5f\"},\"baxis\":{\"endlinecolor\":\"#2a3f5f\",\"gridcolor\":\"#C8D4E3\",\"linecolor\":\"#C8D4E3\",\"minorgridcolor\":\"#C8D4E3\",\"startlinecolor\":\"#2a3f5f\"},\"type\":\"carpet\"}],\"choropleth\":[{\"colorbar\":{\"outlinewidth\":0,\"ticks\":\"\"},\"type\":\"choropleth\"}],\"contourcarpet\":[{\"colorbar\":{\"outlinewidth\":0,\"ticks\":\"\"},\"type\":\"contourcarpet\"}],\"contour\":[{\"colorbar\":{\"outlinewidth\":0,\"ticks\":\"\"},\"colorscale\":[[0.0,\"#0d0887\"],[0.1111111111111111,\"#46039f\"],[0.2222222222222222,\"#7201a8\"],[0.3333333333333333,\"#9c179e\"],[0.4444444444444444,\"#bd3786\"],[0.5555555555555556,\"#d8576b\"],[0.6666666666666666,\"#ed7953\"],[0.7777777777777778,\"#fb9f3a\"],[0.8888888888888888,\"#fdca26\"],[1.0,\"#f0f921\"]],\"type\":\"contour\"}],\"heatmapgl\":[{\"colorbar\":{\"outlinewidth\":0,\"ticks\":\"\"},\"colorscale\":[[0.0,\"#0d0887\"],[0.1111111111111111,\"#46039f\"],[0.2222222222222222,\"#7201a8\"],[0.3333333333333333,\"#9c179e\"],[0.4444444444444444,\"#bd3786\"],[0.5555555555555556,\"#d8576b\"],[0.6666666666666666,\"#ed7953\"],[0.7777777777777778,\"#fb9f3a\"],[0.8888888888888888,\"#fdca26\"],[1.0,\"#f0f921\"]],\"type\":\"heatmapgl\"}],\"heatmap\":[{\"colorbar\":{\"outlinewidth\":0,\"ticks\":\"\"},\"colorscale\":[[0.0,\"#0d0887\"],[0.1111111111111111,\"#46039f\"],[0.2222222222222222,\"#7201a8\"],[0.3333333333333333,\"#9c179e\"],[0.4444444444444444,\"#bd3786\"],[0.5555555555555556,\"#d8576b\"],[0.6666666666666666,\"#ed7953\"],[0.7777777777777778,\"#fb9f3a\"],[0.8888888888888888,\"#fdca26\"],[1.0,\"#f0f921\"]],\"type\":\"heatmap\"}],\"histogram2dcontour\":[{\"colorbar\":{\"outlinewidth\":0,\"ticks\":\"\"},\"colorscale\":[[0.0,\"#0d0887\"],[0.1111111111111111,\"#46039f\"],[0.2222222222222222,\"#7201a8\"],[0.3333333333333333,\"#9c179e\"],[0.4444444444444444,\"#bd3786\"],[0.5555555555555556,\"#d8576b\"],[0.6666666666666666,\"#ed7953\"],[0.7777777777777778,\"#fb9f3a\"],[0.8888888888888888,\"#fdca26\"],[1.0,\"#f0f921\"]],\"type\":\"histogram2dcontour\"}],\"histogram2d\":[{\"colorbar\":{\"outlinewidth\":0,\"ticks\":\"\"},\"colorscale\":[[0.0,\"#0d0887\"],[0.1111111111111111,\"#46039f\"],[0.2222222222222222,\"#7201a8\"],[0.3333333333333333,\"#9c179e\"],[0.4444444444444444,\"#bd3786\"],[0.5555555555555556,\"#d8576b\"],[0.6666666666666666,\"#ed7953\"],[0.7777777777777778,\"#fb9f3a\"],[0.8888888888888888,\"#fdca26\"],[1.0,\"#f0f921\"]],\"type\":\"histogram2d\"}],\"histogram\":[{\"marker\":{\"pattern\":{\"fillmode\":\"overlay\",\"size\":10,\"solidity\":0.2}},\"type\":\"histogram\"}],\"mesh3d\":[{\"colorbar\":{\"outlinewidth\":0,\"ticks\":\"\"},\"type\":\"mesh3d\"}],\"parcoords\":[{\"line\":{\"colorbar\":{\"outlinewidth\":0,\"ticks\":\"\"}},\"type\":\"parcoords\"}],\"pie\":[{\"automargin\":true,\"type\":\"pie\"}],\"scatter3d\":[{\"line\":{\"colorbar\":{\"outlinewidth\":0,\"ticks\":\"\"}},\"marker\":{\"colorbar\":{\"outlinewidth\":0,\"ticks\":\"\"}},\"type\":\"scatter3d\"}],\"scattercarpet\":[{\"marker\":{\"colorbar\":{\"outlinewidth\":0,\"ticks\":\"\"}},\"type\":\"scattercarpet\"}],\"scattergeo\":[{\"marker\":{\"colorbar\":{\"outlinewidth\":0,\"ticks\":\"\"}},\"type\":\"scattergeo\"}],\"scattergl\":[{\"marker\":{\"colorbar\":{\"outlinewidth\":0,\"ticks\":\"\"}},\"type\":\"scattergl\"}],\"scattermapbox\":[{\"marker\":{\"colorbar\":{\"outlinewidth\":0,\"ticks\":\"\"}},\"type\":\"scattermapbox\"}],\"scatterpolargl\":[{\"marker\":{\"colorbar\":{\"outlinewidth\":0,\"ticks\":\"\"}},\"type\":\"scatterpolargl\"}],\"scatterpolar\":[{\"marker\":{\"colorbar\":{\"outlinewidth\":0,\"ticks\":\"\"}},\"type\":\"scatterpolar\"}],\"scatter\":[{\"marker\":{\"colorbar\":{\"outlinewidth\":0,\"ticks\":\"\"}},\"type\":\"scatter\"}],\"scatterternary\":[{\"marker\":{\"colorbar\":{\"outlinewidth\":0,\"ticks\":\"\"}},\"type\":\"scatterternary\"}],\"surface\":[{\"colorbar\":{\"outlinewidth\":0,\"ticks\":\"\"},\"colorscale\":[[0.0,\"#0d0887\"],[0.1111111111111111,\"#46039f\"],[0.2222222222222222,\"#7201a8\"],[0.3333333333333333,\"#9c179e\"],[0.4444444444444444,\"#bd3786\"],[0.5555555555555556,\"#d8576b\"],[0.6666666666666666,\"#ed7953\"],[0.7777777777777778,\"#fb9f3a\"],[0.8888888888888888,\"#fdca26\"],[1.0,\"#f0f921\"]],\"type\":\"surface\"}],\"table\":[{\"cells\":{\"fill\":{\"color\":\"#EBF0F8\"},\"line\":{\"color\":\"white\"}},\"header\":{\"fill\":{\"color\":\"#C8D4E3\"},\"line\":{\"color\":\"white\"}},\"type\":\"table\"}]},\"layout\":{\"annotationdefaults\":{\"arrowcolor\":\"#2a3f5f\",\"arrowhead\":0,\"arrowwidth\":1},\"autotypenumbers\":\"strict\",\"coloraxis\":{\"colorbar\":{\"outlinewidth\":0,\"ticks\":\"\"}},\"colorscale\":{\"diverging\":[[0,\"#8e0152\"],[0.1,\"#c51b7d\"],[0.2,\"#de77ae\"],[0.3,\"#f1b6da\"],[0.4,\"#fde0ef\"],[0.5,\"#f7f7f7\"],[0.6,\"#e6f5d0\"],[0.7,\"#b8e186\"],[0.8,\"#7fbc41\"],[0.9,\"#4d9221\"],[1,\"#276419\"]],\"sequential\":[[0.0,\"#0d0887\"],[0.1111111111111111,\"#46039f\"],[0.2222222222222222,\"#7201a8\"],[0.3333333333333333,\"#9c179e\"],[0.4444444444444444,\"#bd3786\"],[0.5555555555555556,\"#d8576b\"],[0.6666666666666666,\"#ed7953\"],[0.7777777777777778,\"#fb9f3a\"],[0.8888888888888888,\"#fdca26\"],[1.0,\"#f0f921\"]],\"sequentialminus\":[[0.0,\"#0d0887\"],[0.1111111111111111,\"#46039f\"],[0.2222222222222222,\"#7201a8\"],[0.3333333333333333,\"#9c179e\"],[0.4444444444444444,\"#bd3786\"],[0.5555555555555556,\"#d8576b\"],[0.6666666666666666,\"#ed7953\"],[0.7777777777777778,\"#fb9f3a\"],[0.8888888888888888,\"#fdca26\"],[1.0,\"#f0f921\"]]},\"colorway\":[\"#636efa\",\"#EF553B\",\"#00cc96\",\"#ab63fa\",\"#FFA15A\",\"#19d3f3\",\"#FF6692\",\"#B6E880\",\"#FF97FF\",\"#FECB52\"],\"font\":{\"color\":\"#2a3f5f\"},\"geo\":{\"bgcolor\":\"white\",\"lakecolor\":\"white\",\"landcolor\":\"white\",\"showlakes\":true,\"showland\":true,\"subunitcolor\":\"#C8D4E3\"},\"hoverlabel\":{\"align\":\"left\"},\"hovermode\":\"closest\",\"mapbox\":{\"style\":\"light\"},\"paper_bgcolor\":\"white\",\"plot_bgcolor\":\"white\",\"polar\":{\"angularaxis\":{\"gridcolor\":\"#EBF0F8\",\"linecolor\":\"#EBF0F8\",\"ticks\":\"\"},\"bgcolor\":\"white\",\"radialaxis\":{\"gridcolor\":\"#EBF0F8\",\"linecolor\":\"#EBF0F8\",\"ticks\":\"\"}},\"scene\":{\"xaxis\":{\"backgroundcolor\":\"white\",\"gridcolor\":\"#DFE8F3\",\"gridwidth\":2,\"linecolor\":\"#EBF0F8\",\"showbackground\":true,\"ticks\":\"\",\"zerolinecolor\":\"#EBF0F8\"},\"yaxis\":{\"backgroundcolor\":\"white\",\"gridcolor\":\"#DFE8F3\",\"gridwidth\":2,\"linecolor\":\"#EBF0F8\",\"showbackground\":true,\"ticks\":\"\",\"zerolinecolor\":\"#EBF0F8\"},\"zaxis\":{\"backgroundcolor\":\"white\",\"gridcolor\":\"#DFE8F3\",\"gridwidth\":2,\"linecolor\":\"#EBF0F8\",\"showbackground\":true,\"ticks\":\"\",\"zerolinecolor\":\"#EBF0F8\"}},\"shapedefaults\":{\"line\":{\"color\":\"#2a3f5f\"}},\"ternary\":{\"aaxis\":{\"gridcolor\":\"#DFE8F3\",\"linecolor\":\"#A2B1C6\",\"ticks\":\"\"},\"baxis\":{\"gridcolor\":\"#DFE8F3\",\"linecolor\":\"#A2B1C6\",\"ticks\":\"\"},\"bgcolor\":\"white\",\"caxis\":{\"gridcolor\":\"#DFE8F3\",\"linecolor\":\"#A2B1C6\",\"ticks\":\"\"}},\"title\":{\"x\":0.05},\"xaxis\":{\"automargin\":true,\"gridcolor\":\"#EBF0F8\",\"linecolor\":\"#EBF0F8\",\"ticks\":\"\",\"title\":{\"standoff\":15},\"zerolinecolor\":\"#EBF0F8\",\"zerolinewidth\":2},\"yaxis\":{\"automargin\":true,\"gridcolor\":\"#EBF0F8\",\"linecolor\":\"#EBF0F8\",\"ticks\":\"\",\"title\":{\"standoff\":15},\"zerolinecolor\":\"#EBF0F8\",\"zerolinewidth\":2}}},\"xaxis\":{\"range\":[480,960],\"showgrid\":true,\"title\":{\"text\":\"Minuten\"}},\"yaxis\":{\"range\":[0,60],\"title\":{\"text\":\"Energie in kW\"}},\"title\":{\"font\":{\"size\":24},\"text\":\"Ladeleistung pro Ladezeitraum eines BEVs\",\"x\":0.5,\"xanchor\":\"center\"}},                        {\"responsive\": true}                    ).then(function(){\n",
       "                            \n",
       "var gd = document.getElementById('d9b22916-8f50-4747-90b0-d76eb1f67db3');\n",
       "var x = new MutationObserver(function (mutations, observer) {{\n",
       "        var display = window.getComputedStyle(gd).display;\n",
       "        if (!display || display === 'none') {{\n",
       "            console.log([gd, 'removed!']);\n",
       "            Plotly.purge(gd);\n",
       "            observer.disconnect();\n",
       "        }}\n",
       "}});\n",
       "\n",
       "// Listen for the removal of the full notebook cells\n",
       "var notebookContainer = gd.closest('#notebook-container');\n",
       "if (notebookContainer) {{\n",
       "    x.observe(notebookContainer, {childList: true});\n",
       "}}\n",
       "\n",
       "// Listen for the clearing of the current output cell\n",
       "var outputEl = gd.closest('.output');\n",
       "if (outputEl) {{\n",
       "    x.observe(outputEl, {childList: true});\n",
       "}}\n",
       "\n",
       "                        })                };                });            </script>        </div>"
      ]
     },
     "metadata": {},
     "output_type": "display_data"
    }
   ],
   "source": [
    "import figureGeneration\n",
    "\n",
    "figureGeneration.create_charging_power_figure(simulation_day, solarpeakleistung, bev_data, minute_interval)"
   ]
  },
  {
   "cell_type": "code",
   "execution_count": 7,
   "metadata": {
    "pycharm": {
     "is_executing": true
    }
   },
   "outputs": [
    {
     "data": {
      "application/vnd.plotly.v1+json": {
       "config": {
        "plotlyServerURL": "https://plot.ly"
       },
       "data": [
        {
         "line": {
          "color": "red"
         },
         "name": "Wartende BEVs",
         "type": "scatter",
         "x": [
          480,
          495,
          510,
          525,
          540,
          555,
          570,
          585,
          600,
          615,
          630,
          645,
          660,
          675,
          690,
          705,
          720,
          735,
          750,
          765,
          780,
          795,
          810,
          825,
          840,
          855,
          870,
          885,
          900,
          915,
          930,
          945,
          960
         ],
         "y": [
          8,
          8,
          23,
          23,
          32,
          31,
          32,
          31,
          29,
          28,
          28,
          27,
          27,
          26,
          26,
          26,
          29,
          28,
          32,
          31,
          33,
          31,
          31,
          30,
          27,
          27,
          25,
          22,
          21,
          20,
          17,
          14,
          13
         ]
        },
        {
         "line": {
          "color": "blue"
         },
         "name": "Ladende BEVs",
         "type": "scatter",
         "x": [
          480,
          495,
          510,
          525,
          540,
          555,
          570,
          585,
          600,
          615,
          630,
          645,
          660,
          675,
          690,
          705,
          720,
          735,
          750,
          765,
          780,
          795,
          810,
          825,
          840,
          855,
          870,
          885,
          900,
          915,
          930,
          945,
          960
         ],
         "y": [
          0,
          1,
          1,
          2,
          2,
          3,
          4,
          4,
          5,
          5,
          5,
          5,
          5,
          5,
          5,
          5,
          5,
          5,
          5,
          5,
          5,
          5,
          5,
          5,
          5,
          5,
          5,
          5,
          5,
          5,
          5,
          5,
          4
         ]
        }
       ],
       "layout": {
        "legend": {
         "tracegroupgap": 0
        },
        "margin": {
         "t": 60
        },
        "template": {
         "data": {
          "bar": [
           {
            "error_x": {
             "color": "#2a3f5f"
            },
            "error_y": {
             "color": "#2a3f5f"
            },
            "marker": {
             "line": {
              "color": "white",
              "width": 0.5
             },
             "pattern": {
              "fillmode": "overlay",
              "size": 10,
              "solidity": 0.2
             }
            },
            "type": "bar"
           }
          ],
          "barpolar": [
           {
            "marker": {
             "line": {
              "color": "white",
              "width": 0.5
             },
             "pattern": {
              "fillmode": "overlay",
              "size": 10,
              "solidity": 0.2
             }
            },
            "type": "barpolar"
           }
          ],
          "carpet": [
           {
            "aaxis": {
             "endlinecolor": "#2a3f5f",
             "gridcolor": "#C8D4E3",
             "linecolor": "#C8D4E3",
             "minorgridcolor": "#C8D4E3",
             "startlinecolor": "#2a3f5f"
            },
            "baxis": {
             "endlinecolor": "#2a3f5f",
             "gridcolor": "#C8D4E3",
             "linecolor": "#C8D4E3",
             "minorgridcolor": "#C8D4E3",
             "startlinecolor": "#2a3f5f"
            },
            "type": "carpet"
           }
          ],
          "choropleth": [
           {
            "colorbar": {
             "outlinewidth": 0,
             "ticks": ""
            },
            "type": "choropleth"
           }
          ],
          "contour": [
           {
            "colorbar": {
             "outlinewidth": 0,
             "ticks": ""
            },
            "colorscale": [
             [
              0,
              "#0d0887"
             ],
             [
              0.1111111111111111,
              "#46039f"
             ],
             [
              0.2222222222222222,
              "#7201a8"
             ],
             [
              0.3333333333333333,
              "#9c179e"
             ],
             [
              0.4444444444444444,
              "#bd3786"
             ],
             [
              0.5555555555555556,
              "#d8576b"
             ],
             [
              0.6666666666666666,
              "#ed7953"
             ],
             [
              0.7777777777777778,
              "#fb9f3a"
             ],
             [
              0.8888888888888888,
              "#fdca26"
             ],
             [
              1,
              "#f0f921"
             ]
            ],
            "type": "contour"
           }
          ],
          "contourcarpet": [
           {
            "colorbar": {
             "outlinewidth": 0,
             "ticks": ""
            },
            "type": "contourcarpet"
           }
          ],
          "heatmap": [
           {
            "colorbar": {
             "outlinewidth": 0,
             "ticks": ""
            },
            "colorscale": [
             [
              0,
              "#0d0887"
             ],
             [
              0.1111111111111111,
              "#46039f"
             ],
             [
              0.2222222222222222,
              "#7201a8"
             ],
             [
              0.3333333333333333,
              "#9c179e"
             ],
             [
              0.4444444444444444,
              "#bd3786"
             ],
             [
              0.5555555555555556,
              "#d8576b"
             ],
             [
              0.6666666666666666,
              "#ed7953"
             ],
             [
              0.7777777777777778,
              "#fb9f3a"
             ],
             [
              0.8888888888888888,
              "#fdca26"
             ],
             [
              1,
              "#f0f921"
             ]
            ],
            "type": "heatmap"
           }
          ],
          "heatmapgl": [
           {
            "colorbar": {
             "outlinewidth": 0,
             "ticks": ""
            },
            "colorscale": [
             [
              0,
              "#0d0887"
             ],
             [
              0.1111111111111111,
              "#46039f"
             ],
             [
              0.2222222222222222,
              "#7201a8"
             ],
             [
              0.3333333333333333,
              "#9c179e"
             ],
             [
              0.4444444444444444,
              "#bd3786"
             ],
             [
              0.5555555555555556,
              "#d8576b"
             ],
             [
              0.6666666666666666,
              "#ed7953"
             ],
             [
              0.7777777777777778,
              "#fb9f3a"
             ],
             [
              0.8888888888888888,
              "#fdca26"
             ],
             [
              1,
              "#f0f921"
             ]
            ],
            "type": "heatmapgl"
           }
          ],
          "histogram": [
           {
            "marker": {
             "pattern": {
              "fillmode": "overlay",
              "size": 10,
              "solidity": 0.2
             }
            },
            "type": "histogram"
           }
          ],
          "histogram2d": [
           {
            "colorbar": {
             "outlinewidth": 0,
             "ticks": ""
            },
            "colorscale": [
             [
              0,
              "#0d0887"
             ],
             [
              0.1111111111111111,
              "#46039f"
             ],
             [
              0.2222222222222222,
              "#7201a8"
             ],
             [
              0.3333333333333333,
              "#9c179e"
             ],
             [
              0.4444444444444444,
              "#bd3786"
             ],
             [
              0.5555555555555556,
              "#d8576b"
             ],
             [
              0.6666666666666666,
              "#ed7953"
             ],
             [
              0.7777777777777778,
              "#fb9f3a"
             ],
             [
              0.8888888888888888,
              "#fdca26"
             ],
             [
              1,
              "#f0f921"
             ]
            ],
            "type": "histogram2d"
           }
          ],
          "histogram2dcontour": [
           {
            "colorbar": {
             "outlinewidth": 0,
             "ticks": ""
            },
            "colorscale": [
             [
              0,
              "#0d0887"
             ],
             [
              0.1111111111111111,
              "#46039f"
             ],
             [
              0.2222222222222222,
              "#7201a8"
             ],
             [
              0.3333333333333333,
              "#9c179e"
             ],
             [
              0.4444444444444444,
              "#bd3786"
             ],
             [
              0.5555555555555556,
              "#d8576b"
             ],
             [
              0.6666666666666666,
              "#ed7953"
             ],
             [
              0.7777777777777778,
              "#fb9f3a"
             ],
             [
              0.8888888888888888,
              "#fdca26"
             ],
             [
              1,
              "#f0f921"
             ]
            ],
            "type": "histogram2dcontour"
           }
          ],
          "mesh3d": [
           {
            "colorbar": {
             "outlinewidth": 0,
             "ticks": ""
            },
            "type": "mesh3d"
           }
          ],
          "parcoords": [
           {
            "line": {
             "colorbar": {
              "outlinewidth": 0,
              "ticks": ""
             }
            },
            "type": "parcoords"
           }
          ],
          "pie": [
           {
            "automargin": true,
            "type": "pie"
           }
          ],
          "scatter": [
           {
            "marker": {
             "colorbar": {
              "outlinewidth": 0,
              "ticks": ""
             }
            },
            "type": "scatter"
           }
          ],
          "scatter3d": [
           {
            "line": {
             "colorbar": {
              "outlinewidth": 0,
              "ticks": ""
             }
            },
            "marker": {
             "colorbar": {
              "outlinewidth": 0,
              "ticks": ""
             }
            },
            "type": "scatter3d"
           }
          ],
          "scattercarpet": [
           {
            "marker": {
             "colorbar": {
              "outlinewidth": 0,
              "ticks": ""
             }
            },
            "type": "scattercarpet"
           }
          ],
          "scattergeo": [
           {
            "marker": {
             "colorbar": {
              "outlinewidth": 0,
              "ticks": ""
             }
            },
            "type": "scattergeo"
           }
          ],
          "scattergl": [
           {
            "marker": {
             "colorbar": {
              "outlinewidth": 0,
              "ticks": ""
             }
            },
            "type": "scattergl"
           }
          ],
          "scattermapbox": [
           {
            "marker": {
             "colorbar": {
              "outlinewidth": 0,
              "ticks": ""
             }
            },
            "type": "scattermapbox"
           }
          ],
          "scatterpolar": [
           {
            "marker": {
             "colorbar": {
              "outlinewidth": 0,
              "ticks": ""
             }
            },
            "type": "scatterpolar"
           }
          ],
          "scatterpolargl": [
           {
            "marker": {
             "colorbar": {
              "outlinewidth": 0,
              "ticks": ""
             }
            },
            "type": "scatterpolargl"
           }
          ],
          "scatterternary": [
           {
            "marker": {
             "colorbar": {
              "outlinewidth": 0,
              "ticks": ""
             }
            },
            "type": "scatterternary"
           }
          ],
          "surface": [
           {
            "colorbar": {
             "outlinewidth": 0,
             "ticks": ""
            },
            "colorscale": [
             [
              0,
              "#0d0887"
             ],
             [
              0.1111111111111111,
              "#46039f"
             ],
             [
              0.2222222222222222,
              "#7201a8"
             ],
             [
              0.3333333333333333,
              "#9c179e"
             ],
             [
              0.4444444444444444,
              "#bd3786"
             ],
             [
              0.5555555555555556,
              "#d8576b"
             ],
             [
              0.6666666666666666,
              "#ed7953"
             ],
             [
              0.7777777777777778,
              "#fb9f3a"
             ],
             [
              0.8888888888888888,
              "#fdca26"
             ],
             [
              1,
              "#f0f921"
             ]
            ],
            "type": "surface"
           }
          ],
          "table": [
           {
            "cells": {
             "fill": {
              "color": "#EBF0F8"
             },
             "line": {
              "color": "white"
             }
            },
            "header": {
             "fill": {
              "color": "#C8D4E3"
             },
             "line": {
              "color": "white"
             }
            },
            "type": "table"
           }
          ]
         },
         "layout": {
          "annotationdefaults": {
           "arrowcolor": "#2a3f5f",
           "arrowhead": 0,
           "arrowwidth": 1
          },
          "autotypenumbers": "strict",
          "coloraxis": {
           "colorbar": {
            "outlinewidth": 0,
            "ticks": ""
           }
          },
          "colorscale": {
           "diverging": [
            [
             0,
             "#8e0152"
            ],
            [
             0.1,
             "#c51b7d"
            ],
            [
             0.2,
             "#de77ae"
            ],
            [
             0.3,
             "#f1b6da"
            ],
            [
             0.4,
             "#fde0ef"
            ],
            [
             0.5,
             "#f7f7f7"
            ],
            [
             0.6,
             "#e6f5d0"
            ],
            [
             0.7,
             "#b8e186"
            ],
            [
             0.8,
             "#7fbc41"
            ],
            [
             0.9,
             "#4d9221"
            ],
            [
             1,
             "#276419"
            ]
           ],
           "sequential": [
            [
             0,
             "#0d0887"
            ],
            [
             0.1111111111111111,
             "#46039f"
            ],
            [
             0.2222222222222222,
             "#7201a8"
            ],
            [
             0.3333333333333333,
             "#9c179e"
            ],
            [
             0.4444444444444444,
             "#bd3786"
            ],
            [
             0.5555555555555556,
             "#d8576b"
            ],
            [
             0.6666666666666666,
             "#ed7953"
            ],
            [
             0.7777777777777778,
             "#fb9f3a"
            ],
            [
             0.8888888888888888,
             "#fdca26"
            ],
            [
             1,
             "#f0f921"
            ]
           ],
           "sequentialminus": [
            [
             0,
             "#0d0887"
            ],
            [
             0.1111111111111111,
             "#46039f"
            ],
            [
             0.2222222222222222,
             "#7201a8"
            ],
            [
             0.3333333333333333,
             "#9c179e"
            ],
            [
             0.4444444444444444,
             "#bd3786"
            ],
            [
             0.5555555555555556,
             "#d8576b"
            ],
            [
             0.6666666666666666,
             "#ed7953"
            ],
            [
             0.7777777777777778,
             "#fb9f3a"
            ],
            [
             0.8888888888888888,
             "#fdca26"
            ],
            [
             1,
             "#f0f921"
            ]
           ]
          },
          "colorway": [
           "#636efa",
           "#EF553B",
           "#00cc96",
           "#ab63fa",
           "#FFA15A",
           "#19d3f3",
           "#FF6692",
           "#B6E880",
           "#FF97FF",
           "#FECB52"
          ],
          "font": {
           "color": "#2a3f5f"
          },
          "geo": {
           "bgcolor": "white",
           "lakecolor": "white",
           "landcolor": "white",
           "showlakes": true,
           "showland": true,
           "subunitcolor": "#C8D4E3"
          },
          "hoverlabel": {
           "align": "left"
          },
          "hovermode": "closest",
          "mapbox": {
           "style": "light"
          },
          "paper_bgcolor": "white",
          "plot_bgcolor": "white",
          "polar": {
           "angularaxis": {
            "gridcolor": "#EBF0F8",
            "linecolor": "#EBF0F8",
            "ticks": ""
           },
           "bgcolor": "white",
           "radialaxis": {
            "gridcolor": "#EBF0F8",
            "linecolor": "#EBF0F8",
            "ticks": ""
           }
          },
          "scene": {
           "xaxis": {
            "backgroundcolor": "white",
            "gridcolor": "#DFE8F3",
            "gridwidth": 2,
            "linecolor": "#EBF0F8",
            "showbackground": true,
            "ticks": "",
            "zerolinecolor": "#EBF0F8"
           },
           "yaxis": {
            "backgroundcolor": "white",
            "gridcolor": "#DFE8F3",
            "gridwidth": 2,
            "linecolor": "#EBF0F8",
            "showbackground": true,
            "ticks": "",
            "zerolinecolor": "#EBF0F8"
           },
           "zaxis": {
            "backgroundcolor": "white",
            "gridcolor": "#DFE8F3",
            "gridwidth": 2,
            "linecolor": "#EBF0F8",
            "showbackground": true,
            "ticks": "",
            "zerolinecolor": "#EBF0F8"
           }
          },
          "shapedefaults": {
           "line": {
            "color": "#2a3f5f"
           }
          },
          "ternary": {
           "aaxis": {
            "gridcolor": "#DFE8F3",
            "linecolor": "#A2B1C6",
            "ticks": ""
           },
           "baxis": {
            "gridcolor": "#DFE8F3",
            "linecolor": "#A2B1C6",
            "ticks": ""
           },
           "bgcolor": "white",
           "caxis": {
            "gridcolor": "#DFE8F3",
            "linecolor": "#A2B1C6",
            "ticks": ""
           }
          },
          "title": {
           "x": 0.05
          },
          "xaxis": {
           "automargin": true,
           "gridcolor": "#EBF0F8",
           "linecolor": "#EBF0F8",
           "ticks": "",
           "title": {
            "standoff": 15
           },
           "zerolinecolor": "#EBF0F8",
           "zerolinewidth": 2
          },
          "yaxis": {
           "automargin": true,
           "gridcolor": "#EBF0F8",
           "linecolor": "#EBF0F8",
           "ticks": "",
           "title": {
            "standoff": 15
           },
           "zerolinecolor": "#EBF0F8",
           "zerolinewidth": 2
          }
         }
        },
        "title": {
         "font": {
          "size": 24
         },
         "text": "Anzahl wartender und ladender BEVs im Tagesverlauf",
         "x": 0.5,
         "xanchor": "center"
        },
        "xaxis": {
         "anchor": "y",
         "domain": [
          0,
          1
         ],
         "title": {
          "text": "Minuten"
         }
        },
        "yaxis": {
         "anchor": "x",
         "domain": [
          0,
          1
         ],
         "title": {
          "text": "Anzahl BEVs"
         }
        }
       }
      },
      "text/html": [
       "<div>                            <div id=\"b57d0070-8dac-47ba-83bd-b443141f4ea9\" class=\"plotly-graph-div\" style=\"height:525px; width:100%;\"></div>            <script type=\"text/javascript\">                require([\"plotly\"], function(Plotly) {                    window.PLOTLYENV=window.PLOTLYENV || {};                                    if (document.getElementById(\"b57d0070-8dac-47ba-83bd-b443141f4ea9\")) {                    Plotly.newPlot(                        \"b57d0070-8dac-47ba-83bd-b443141f4ea9\",                        [{\"line\":{\"color\":\"red\"},\"name\":\"Wartende BEVs\",\"x\":[480,495,510,525,540,555,570,585,600,615,630,645,660,675,690,705,720,735,750,765,780,795,810,825,840,855,870,885,900,915,930,945,960],\"y\":[8,8,23,23,32,31,32,31,29,28,28,27,27,26,26,26,29,28,32,31,33,31,31,30,27,27,25,22,21,20,17,14,13],\"type\":\"scatter\"},{\"line\":{\"color\":\"blue\"},\"name\":\"Ladende BEVs\",\"x\":[480,495,510,525,540,555,570,585,600,615,630,645,660,675,690,705,720,735,750,765,780,795,810,825,840,855,870,885,900,915,930,945,960],\"y\":[0,1,1,2,2,3,4,4,5,5,5,5,5,5,5,5,5,5,5,5,5,5,5,5,5,5,5,5,5,5,5,5,4],\"type\":\"scatter\"}],                        {\"template\":{\"data\":{\"barpolar\":[{\"marker\":{\"line\":{\"color\":\"white\",\"width\":0.5},\"pattern\":{\"fillmode\":\"overlay\",\"size\":10,\"solidity\":0.2}},\"type\":\"barpolar\"}],\"bar\":[{\"error_x\":{\"color\":\"#2a3f5f\"},\"error_y\":{\"color\":\"#2a3f5f\"},\"marker\":{\"line\":{\"color\":\"white\",\"width\":0.5},\"pattern\":{\"fillmode\":\"overlay\",\"size\":10,\"solidity\":0.2}},\"type\":\"bar\"}],\"carpet\":[{\"aaxis\":{\"endlinecolor\":\"#2a3f5f\",\"gridcolor\":\"#C8D4E3\",\"linecolor\":\"#C8D4E3\",\"minorgridcolor\":\"#C8D4E3\",\"startlinecolor\":\"#2a3f5f\"},\"baxis\":{\"endlinecolor\":\"#2a3f5f\",\"gridcolor\":\"#C8D4E3\",\"linecolor\":\"#C8D4E3\",\"minorgridcolor\":\"#C8D4E3\",\"startlinecolor\":\"#2a3f5f\"},\"type\":\"carpet\"}],\"choropleth\":[{\"colorbar\":{\"outlinewidth\":0,\"ticks\":\"\"},\"type\":\"choropleth\"}],\"contourcarpet\":[{\"colorbar\":{\"outlinewidth\":0,\"ticks\":\"\"},\"type\":\"contourcarpet\"}],\"contour\":[{\"colorbar\":{\"outlinewidth\":0,\"ticks\":\"\"},\"colorscale\":[[0.0,\"#0d0887\"],[0.1111111111111111,\"#46039f\"],[0.2222222222222222,\"#7201a8\"],[0.3333333333333333,\"#9c179e\"],[0.4444444444444444,\"#bd3786\"],[0.5555555555555556,\"#d8576b\"],[0.6666666666666666,\"#ed7953\"],[0.7777777777777778,\"#fb9f3a\"],[0.8888888888888888,\"#fdca26\"],[1.0,\"#f0f921\"]],\"type\":\"contour\"}],\"heatmapgl\":[{\"colorbar\":{\"outlinewidth\":0,\"ticks\":\"\"},\"colorscale\":[[0.0,\"#0d0887\"],[0.1111111111111111,\"#46039f\"],[0.2222222222222222,\"#7201a8\"],[0.3333333333333333,\"#9c179e\"],[0.4444444444444444,\"#bd3786\"],[0.5555555555555556,\"#d8576b\"],[0.6666666666666666,\"#ed7953\"],[0.7777777777777778,\"#fb9f3a\"],[0.8888888888888888,\"#fdca26\"],[1.0,\"#f0f921\"]],\"type\":\"heatmapgl\"}],\"heatmap\":[{\"colorbar\":{\"outlinewidth\":0,\"ticks\":\"\"},\"colorscale\":[[0.0,\"#0d0887\"],[0.1111111111111111,\"#46039f\"],[0.2222222222222222,\"#7201a8\"],[0.3333333333333333,\"#9c179e\"],[0.4444444444444444,\"#bd3786\"],[0.5555555555555556,\"#d8576b\"],[0.6666666666666666,\"#ed7953\"],[0.7777777777777778,\"#fb9f3a\"],[0.8888888888888888,\"#fdca26\"],[1.0,\"#f0f921\"]],\"type\":\"heatmap\"}],\"histogram2dcontour\":[{\"colorbar\":{\"outlinewidth\":0,\"ticks\":\"\"},\"colorscale\":[[0.0,\"#0d0887\"],[0.1111111111111111,\"#46039f\"],[0.2222222222222222,\"#7201a8\"],[0.3333333333333333,\"#9c179e\"],[0.4444444444444444,\"#bd3786\"],[0.5555555555555556,\"#d8576b\"],[0.6666666666666666,\"#ed7953\"],[0.7777777777777778,\"#fb9f3a\"],[0.8888888888888888,\"#fdca26\"],[1.0,\"#f0f921\"]],\"type\":\"histogram2dcontour\"}],\"histogram2d\":[{\"colorbar\":{\"outlinewidth\":0,\"ticks\":\"\"},\"colorscale\":[[0.0,\"#0d0887\"],[0.1111111111111111,\"#46039f\"],[0.2222222222222222,\"#7201a8\"],[0.3333333333333333,\"#9c179e\"],[0.4444444444444444,\"#bd3786\"],[0.5555555555555556,\"#d8576b\"],[0.6666666666666666,\"#ed7953\"],[0.7777777777777778,\"#fb9f3a\"],[0.8888888888888888,\"#fdca26\"],[1.0,\"#f0f921\"]],\"type\":\"histogram2d\"}],\"histogram\":[{\"marker\":{\"pattern\":{\"fillmode\":\"overlay\",\"size\":10,\"solidity\":0.2}},\"type\":\"histogram\"}],\"mesh3d\":[{\"colorbar\":{\"outlinewidth\":0,\"ticks\":\"\"},\"type\":\"mesh3d\"}],\"parcoords\":[{\"line\":{\"colorbar\":{\"outlinewidth\":0,\"ticks\":\"\"}},\"type\":\"parcoords\"}],\"pie\":[{\"automargin\":true,\"type\":\"pie\"}],\"scatter3d\":[{\"line\":{\"colorbar\":{\"outlinewidth\":0,\"ticks\":\"\"}},\"marker\":{\"colorbar\":{\"outlinewidth\":0,\"ticks\":\"\"}},\"type\":\"scatter3d\"}],\"scattercarpet\":[{\"marker\":{\"colorbar\":{\"outlinewidth\":0,\"ticks\":\"\"}},\"type\":\"scattercarpet\"}],\"scattergeo\":[{\"marker\":{\"colorbar\":{\"outlinewidth\":0,\"ticks\":\"\"}},\"type\":\"scattergeo\"}],\"scattergl\":[{\"marker\":{\"colorbar\":{\"outlinewidth\":0,\"ticks\":\"\"}},\"type\":\"scattergl\"}],\"scattermapbox\":[{\"marker\":{\"colorbar\":{\"outlinewidth\":0,\"ticks\":\"\"}},\"type\":\"scattermapbox\"}],\"scatterpolargl\":[{\"marker\":{\"colorbar\":{\"outlinewidth\":0,\"ticks\":\"\"}},\"type\":\"scatterpolargl\"}],\"scatterpolar\":[{\"marker\":{\"colorbar\":{\"outlinewidth\":0,\"ticks\":\"\"}},\"type\":\"scatterpolar\"}],\"scatter\":[{\"marker\":{\"colorbar\":{\"outlinewidth\":0,\"ticks\":\"\"}},\"type\":\"scatter\"}],\"scatterternary\":[{\"marker\":{\"colorbar\":{\"outlinewidth\":0,\"ticks\":\"\"}},\"type\":\"scatterternary\"}],\"surface\":[{\"colorbar\":{\"outlinewidth\":0,\"ticks\":\"\"},\"colorscale\":[[0.0,\"#0d0887\"],[0.1111111111111111,\"#46039f\"],[0.2222222222222222,\"#7201a8\"],[0.3333333333333333,\"#9c179e\"],[0.4444444444444444,\"#bd3786\"],[0.5555555555555556,\"#d8576b\"],[0.6666666666666666,\"#ed7953\"],[0.7777777777777778,\"#fb9f3a\"],[0.8888888888888888,\"#fdca26\"],[1.0,\"#f0f921\"]],\"type\":\"surface\"}],\"table\":[{\"cells\":{\"fill\":{\"color\":\"#EBF0F8\"},\"line\":{\"color\":\"white\"}},\"header\":{\"fill\":{\"color\":\"#C8D4E3\"},\"line\":{\"color\":\"white\"}},\"type\":\"table\"}]},\"layout\":{\"annotationdefaults\":{\"arrowcolor\":\"#2a3f5f\",\"arrowhead\":0,\"arrowwidth\":1},\"autotypenumbers\":\"strict\",\"coloraxis\":{\"colorbar\":{\"outlinewidth\":0,\"ticks\":\"\"}},\"colorscale\":{\"diverging\":[[0,\"#8e0152\"],[0.1,\"#c51b7d\"],[0.2,\"#de77ae\"],[0.3,\"#f1b6da\"],[0.4,\"#fde0ef\"],[0.5,\"#f7f7f7\"],[0.6,\"#e6f5d0\"],[0.7,\"#b8e186\"],[0.8,\"#7fbc41\"],[0.9,\"#4d9221\"],[1,\"#276419\"]],\"sequential\":[[0.0,\"#0d0887\"],[0.1111111111111111,\"#46039f\"],[0.2222222222222222,\"#7201a8\"],[0.3333333333333333,\"#9c179e\"],[0.4444444444444444,\"#bd3786\"],[0.5555555555555556,\"#d8576b\"],[0.6666666666666666,\"#ed7953\"],[0.7777777777777778,\"#fb9f3a\"],[0.8888888888888888,\"#fdca26\"],[1.0,\"#f0f921\"]],\"sequentialminus\":[[0.0,\"#0d0887\"],[0.1111111111111111,\"#46039f\"],[0.2222222222222222,\"#7201a8\"],[0.3333333333333333,\"#9c179e\"],[0.4444444444444444,\"#bd3786\"],[0.5555555555555556,\"#d8576b\"],[0.6666666666666666,\"#ed7953\"],[0.7777777777777778,\"#fb9f3a\"],[0.8888888888888888,\"#fdca26\"],[1.0,\"#f0f921\"]]},\"colorway\":[\"#636efa\",\"#EF553B\",\"#00cc96\",\"#ab63fa\",\"#FFA15A\",\"#19d3f3\",\"#FF6692\",\"#B6E880\",\"#FF97FF\",\"#FECB52\"],\"font\":{\"color\":\"#2a3f5f\"},\"geo\":{\"bgcolor\":\"white\",\"lakecolor\":\"white\",\"landcolor\":\"white\",\"showlakes\":true,\"showland\":true,\"subunitcolor\":\"#C8D4E3\"},\"hoverlabel\":{\"align\":\"left\"},\"hovermode\":\"closest\",\"mapbox\":{\"style\":\"light\"},\"paper_bgcolor\":\"white\",\"plot_bgcolor\":\"white\",\"polar\":{\"angularaxis\":{\"gridcolor\":\"#EBF0F8\",\"linecolor\":\"#EBF0F8\",\"ticks\":\"\"},\"bgcolor\":\"white\",\"radialaxis\":{\"gridcolor\":\"#EBF0F8\",\"linecolor\":\"#EBF0F8\",\"ticks\":\"\"}},\"scene\":{\"xaxis\":{\"backgroundcolor\":\"white\",\"gridcolor\":\"#DFE8F3\",\"gridwidth\":2,\"linecolor\":\"#EBF0F8\",\"showbackground\":true,\"ticks\":\"\",\"zerolinecolor\":\"#EBF0F8\"},\"yaxis\":{\"backgroundcolor\":\"white\",\"gridcolor\":\"#DFE8F3\",\"gridwidth\":2,\"linecolor\":\"#EBF0F8\",\"showbackground\":true,\"ticks\":\"\",\"zerolinecolor\":\"#EBF0F8\"},\"zaxis\":{\"backgroundcolor\":\"white\",\"gridcolor\":\"#DFE8F3\",\"gridwidth\":2,\"linecolor\":\"#EBF0F8\",\"showbackground\":true,\"ticks\":\"\",\"zerolinecolor\":\"#EBF0F8\"}},\"shapedefaults\":{\"line\":{\"color\":\"#2a3f5f\"}},\"ternary\":{\"aaxis\":{\"gridcolor\":\"#DFE8F3\",\"linecolor\":\"#A2B1C6\",\"ticks\":\"\"},\"baxis\":{\"gridcolor\":\"#DFE8F3\",\"linecolor\":\"#A2B1C6\",\"ticks\":\"\"},\"bgcolor\":\"white\",\"caxis\":{\"gridcolor\":\"#DFE8F3\",\"linecolor\":\"#A2B1C6\",\"ticks\":\"\"}},\"title\":{\"x\":0.05},\"xaxis\":{\"automargin\":true,\"gridcolor\":\"#EBF0F8\",\"linecolor\":\"#EBF0F8\",\"ticks\":\"\",\"title\":{\"standoff\":15},\"zerolinecolor\":\"#EBF0F8\",\"zerolinewidth\":2},\"yaxis\":{\"automargin\":true,\"gridcolor\":\"#EBF0F8\",\"linecolor\":\"#EBF0F8\",\"ticks\":\"\",\"title\":{\"standoff\":15},\"zerolinecolor\":\"#EBF0F8\",\"zerolinewidth\":2}}},\"xaxis\":{\"anchor\":\"y\",\"domain\":[0.0,1.0],\"title\":{\"text\":\"Minuten\"}},\"yaxis\":{\"anchor\":\"x\",\"domain\":[0.0,1.0],\"title\":{\"text\":\"Anzahl BEVs\"}},\"legend\":{\"tracegroupgap\":0},\"margin\":{\"t\":60},\"title\":{\"font\":{\"size\":24},\"text\":\"Anzahl wartender und ladender BEVs im Tagesverlauf\",\"x\":0.5,\"xanchor\":\"center\"}},                        {\"responsive\": true}                    ).then(function(){\n",
       "                            \n",
       "var gd = document.getElementById('b57d0070-8dac-47ba-83bd-b443141f4ea9');\n",
       "var x = new MutationObserver(function (mutations, observer) {{\n",
       "        var display = window.getComputedStyle(gd).display;\n",
       "        if (!display || display === 'none') {{\n",
       "            console.log([gd, 'removed!']);\n",
       "            Plotly.purge(gd);\n",
       "            observer.disconnect();\n",
       "        }}\n",
       "}});\n",
       "\n",
       "// Listen for the removal of the full notebook cells\n",
       "var notebookContainer = gd.closest('#notebook-container');\n",
       "if (notebookContainer) {{\n",
       "    x.observe(notebookContainer, {childList: true});\n",
       "}}\n",
       "\n",
       "// Listen for the clearing of the current output cell\n",
       "var outputEl = gd.closest('.output');\n",
       "if (outputEl) {{\n",
       "    x.observe(outputEl, {childList: true});\n",
       "}}\n",
       "\n",
       "                        })                };                });            </script>        </div>"
      ]
     },
     "metadata": {},
     "output_type": "display_data"
    }
   ],
   "source": [
    "figureGeneration.create_bev_number_figure(simulation_data)"
   ]
  }
 ],
 "metadata": {
  "kernelspec": {
   "display_name": "Python 3 (ipykernel)",
   "language": "python",
   "name": "python3"
  },
  "language_info": {
   "codemirror_mode": {
    "name": "ipython",
    "version": 3
   },
   "file_extension": ".py",
   "mimetype": "text/x-python",
   "name": "python",
   "nbconvert_exporter": "python",
   "pygments_lexer": "ipython3",
   "version": "3.9.5"
  }
 },
 "nbformat": 4,
 "nbformat_minor": 4
}