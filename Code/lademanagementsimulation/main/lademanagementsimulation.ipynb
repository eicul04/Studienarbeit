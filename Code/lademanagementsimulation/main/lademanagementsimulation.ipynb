{
 "cells": [
  {
   "cell_type": "markdown",
   "metadata": {
    "pycharm": {
     "name": "#%% md\n"
    }
   },
   "source": [
    "# Lademanagementsimulation   \n"
   ]
  },
  {
   "cell_type": "markdown",
   "metadata": {},
   "source": [
    "### Simulations Parameter"
   ]
  },
  {
   "cell_type": "code",
   "execution_count": 1,
   "metadata": {
    "pycharm": {
     "is_executing": true,
     "name": "#%%\n"
    }
   },
   "outputs": [],
   "source": [
    "solarpeakleistung = 125 #Einheit Kilowattpeak (kWP)\n",
    "anzahl_bevs_pro_tag = 50\n",
    "ladeleistung_pro_bev = 11 #Einheit kW\n",
    "maximale_ladezeit = 30 #Einheit Minuten\n",
    "minute_interval = 15 #Einheit Minuten"
   ]
  },
  {
   "cell_type": "markdown",
   "metadata": {},
   "source": [
    "### Simulations Eingangsdaten"
   ]
  },
  {
   "cell_type": "code",
   "execution_count": 2,
   "metadata": {
    "pycharm": {
     "is_executing": true,
     "name": "#%%\n"
    }
   },
   "outputs": [
    {
     "data": {
      "text/html": [
       "\n",
       "        <iframe\n",
       "            width=\"100%\"\n",
       "            height=\"650\"\n",
       "            src=\"http://127.0.0.1:8050/\"\n",
       "            frameborder=\"0\"\n",
       "            allowfullscreen\n",
       "            \n",
       "        ></iframe>\n",
       "        "
      ],
      "text/plain": [
       "<IPython.lib.display.IFrame at 0x23421b35d60>"
      ]
     },
     "metadata": {},
     "output_type": "display_data"
    }
   ],
   "source": [
    "import simulationInputDataVisualisation\n",
    "simulationInputDataVisualisation.create_jupyter_dash_app(solarpeakleistung)"
   ]
  },
  {
   "cell_type": "markdown",
   "metadata": {},
   "source": [
    "### Verteilungsalgorithmus"
   ]
  },
  {
   "cell_type": "code",
   "execution_count": 3,
   "metadata": {
    "pycharm": {
     "is_executing": true
    }
   },
   "outputs": [
    {
     "name": "stdout",
     "output_type": "stream",
     "text": [
      "START POST OPTIMIZATION\n"
     ]
    },
    {
     "ename": "TypeError",
     "evalue": "object of type 'SimulationDay' has no len()",
     "output_type": "error",
     "traceback": [
      "\u001B[1;31m---------------------------------------------------------------------------\u001B[0m",
      "\u001B[1;31mTypeError\u001B[0m                                 Traceback (most recent call last)",
      "Input \u001B[1;32mIn [3]\u001B[0m, in \u001B[0;36m<module>\u001B[1;34m\u001B[0m\n\u001B[0;32m     13\u001B[0m day_in_minute_interval_steps \u001B[38;5;241m=\u001B[39m \u001B[38;5;28mlist\u001B[39m(np\u001B[38;5;241m.\u001B[39maround(np\u001B[38;5;241m.\u001B[39marange(\u001B[38;5;241m480\u001B[39m, \u001B[38;5;241m960\u001B[39m \u001B[38;5;241m+\u001B[39m \u001B[38;5;241m1\u001B[39m, minute_interval), \u001B[38;5;241m1\u001B[39m))\n\u001B[0;32m     14\u001B[0m distributionAlgorithmForecastPolling\u001B[38;5;241m.\u001B[39minit_simulation(day_in_minute_interval_steps, minute_interval, simulation_data, \n\u001B[0;32m     15\u001B[0m                                                    simulation_day, solarpeakleistung)\n\u001B[1;32m---> 17\u001B[0m \u001B[43mpostOptimization\u001B[49m\u001B[38;5;241;43m.\u001B[39;49m\u001B[43mstart_post_optimization\u001B[49m\u001B[43m(\u001B[49m\u001B[43mminute_interval\u001B[49m\u001B[43m,\u001B[49m\u001B[43m \u001B[49m\u001B[43msimulation_day\u001B[49m\u001B[43m,\u001B[49m\u001B[43m \u001B[49m\u001B[43msolarpeakleistung\u001B[49m\u001B[43m,\u001B[49m\u001B[43m \u001B[49m\u001B[43mbev_data\u001B[49m\u001B[43m,\u001B[49m\u001B[43m \u001B[49m\u001B[43mtable_dict\u001B[49m\u001B[43m,\u001B[49m\u001B[43m \u001B[49m\u001B[43msimulation_data\u001B[49m\u001B[43m,\u001B[49m\n\u001B[0;32m     18\u001B[0m \u001B[43m                \u001B[49m\u001B[43mladeleistung_pro_bev\u001B[49m\u001B[43m)\u001B[49m\n\u001B[0;32m     20\u001B[0m distributionAlgorithmForecastPolling\u001B[38;5;241m.\u001B[39mstart_simulation(solarpeakleistung, ladeleistung_pro_bev,\n\u001B[0;32m     21\u001B[0m                      simulation_day, bev_data, table_dict, simulation_data, minute_interval)\n",
      "File \u001B[1;32mD:\\Duales Studium\\DHBW\\Studienarbeit\\Code\\lademanagementsimulation\\main\\postOptimization.py:45\u001B[0m, in \u001B[0;36mstart_post_optimization\u001B[1;34m(minute_interval, simulation_day, solar_peak_power, bev_data, table_dict, simulation_data, charging_power_pro_bev)\u001B[0m\n\u001B[0;32m     42\u001B[0m available_solar_power_last_interval \u001B[38;5;241m=\u001B[39m get_available_solar_power_linear_interpolated(solar_peak_power,\n\u001B[0;32m     43\u001B[0m                                                                                     minute \u001B[38;5;241m+\u001B[39m minute_interval \u001B[38;5;241m/\u001B[39m \u001B[38;5;241m2\u001B[39m)\n\u001B[0;32m     44\u001B[0m \u001B[38;5;28;01mif\u001B[39;00m minute \u001B[38;5;241m<\u001B[39m \u001B[38;5;241m960\u001B[39m:\n\u001B[1;32m---> 45\u001B[0m     \u001B[43mupdate_fueled_solar_energy_optimization\u001B[49m\u001B[43m(\u001B[49m\u001B[43mavailable_solar_power_last_interval\u001B[49m\u001B[43m,\u001B[49m\u001B[43m \u001B[49m\u001B[43msimulation_day\u001B[49m\u001B[43m,\u001B[49m\n\u001B[0;32m     46\u001B[0m \u001B[43m                                            \u001B[49m\u001B[43mminute_interval\u001B[49m\u001B[43m,\u001B[49m\n\u001B[0;32m     47\u001B[0m \u001B[43m                                            \u001B[49m\u001B[43mminute\u001B[49m\u001B[43m,\u001B[49m\u001B[43m \u001B[49m\u001B[43msimulation_data\u001B[49m\u001B[43m)\u001B[49m\n\u001B[0;32m     48\u001B[0m     update_charging_time_optimization(minute, simulation_day)\n\u001B[0;32m     49\u001B[0m update_charging_bevs_for_next_interval_optimization(available_solar_power, minute, charging_power_pro_bev,\n\u001B[0;32m     50\u001B[0m                                                     simulation_day,\n\u001B[0;32m     51\u001B[0m                                                     bev_data, simulation_data, minute_interval,\n\u001B[0;32m     52\u001B[0m                                                     solar_peak_power)\n",
      "File \u001B[1;32mD:\\Duales Studium\\DHBW\\Studienarbeit\\Code\\lademanagementsimulation\\main\\postOptimization.py:114\u001B[0m, in \u001B[0;36mupdate_fueled_solar_energy_optimization\u001B[1;34m(available_solar_power_last_interval, simulation_day, minute_interval, minute, simulation_data)\u001B[0m\n\u001B[0;32m    109\u001B[0m \u001B[38;5;28;01mdef\u001B[39;00m \u001B[38;5;21mupdate_fueled_solar_energy_optimization\u001B[39m(available_solar_power_last_interval, simulation_day, minute_interval,\n\u001B[0;32m    110\u001B[0m                                             minute,\n\u001B[0;32m    111\u001B[0m                                             simulation_data):\n\u001B[0;32m    112\u001B[0m     \u001B[38;5;66;03m# Number of charging bevs für das letzte Intervall bekommen\u001B[39;00m\n\u001B[0;32m    113\u001B[0m     last_interval \u001B[38;5;241m=\u001B[39m minute \u001B[38;5;241m+\u001B[39m minute_interval\n\u001B[1;32m--> 114\u001B[0m     number_of_charging_bevs_of_last_interval \u001B[38;5;241m=\u001B[39m \u001B[38;5;28;43mlen\u001B[39;49m\u001B[43m(\u001B[49m\u001B[43msimulation_data\u001B[49m\u001B[38;5;241;43m.\u001B[39;49m\u001B[43mcharging_list_per_minute_dict\u001B[49m\u001B[43m[\u001B[49m\u001B[43mlast_interval\u001B[49m\u001B[43m]\u001B[49m\u001B[43m)\u001B[49m\n\u001B[0;32m    115\u001B[0m     \u001B[38;5;28;01mif\u001B[39;00m number_of_charging_bevs_of_last_interval \u001B[38;5;241m!=\u001B[39m \u001B[38;5;241m0\u001B[39m:\n\u001B[0;32m    116\u001B[0m         charging_power_per_bev \u001B[38;5;241m=\u001B[39m get_charging_power_per_bev(available_solar_power_last_interval,\n\u001B[0;32m    117\u001B[0m                                                             number_of_charging_bevs_of_last_interval)\n",
      "\u001B[1;31mTypeError\u001B[0m: object of type 'SimulationDay' has no len()"
     ]
    }
   ],
   "source": [
    "import simulationClasses\n",
    "import simulationData\n",
    "import simulationOutputDataVisualisation\n",
    "import distributionAlgorithmForecastPolling\n",
    "import postOptimization\n",
    "import numpy as np\n",
    "\n",
    "simulation_day = simulationClasses.SimulationDay(anzahl_bevs_pro_tag)\n",
    "bev_data = simulationData.BevData()\n",
    "table_dict = simulationData.TableDict()\n",
    "simulation_data = simulationData.SimulationData()\n",
    "    \n",
    "day_in_minute_interval_steps = list(np.around(np.arange(480, 960 + 1, minute_interval), 1))\n",
    "distributionAlgorithmForecastPolling.init_simulation(day_in_minute_interval_steps, minute_interval, simulation_data, \n",
    "                                                   simulation_day, solarpeakleistung)\n",
    "\n",
    "postOptimization.start_post_optimization(minute_interval, simulation_day, solarpeakleistung, bev_data, table_dict, simulation_data,\n",
    "                ladeleistung_pro_bev)\n",
    "\n",
    "distributionAlgorithmForecastPolling.start_simulation(solarpeakleistung, ladeleistung_pro_bev,\n",
    "                     simulation_day, bev_data, table_dict, simulation_data, minute_interval)"
   ]
  },
  {
   "cell_type": "markdown",
   "metadata": {},
   "source": [
    "### Ergebnis Algorithmus"
   ]
  },
  {
   "cell_type": "code",
   "execution_count": null,
   "metadata": {
    "pycharm": {
     "is_executing": true
    }
   },
   "outputs": [],
   "source": [
    "simulationOutputDataVisualisation.print_algorithm_result(bev_data, simulation_data, anzahl_bevs_pro_tag, solarpeakleistung, minute_interval)"
   ]
  },
  {
   "cell_type": "markdown",
   "metadata": {},
   "source": [
    "### Tabellarische Übersicht Park- und Ladeverlauf der BEVs"
   ]
  },
  {
   "cell_type": "code",
   "execution_count": null,
   "metadata": {
    "pycharm": {
     "is_executing": true
    }
   },
   "outputs": [],
   "source": [
    "simulationOutputDataVisualisation.create_tabular_overview_per_minute_slider(table_dict, minute_interval)"
   ]
  },
  {
   "cell_type": "code",
   "execution_count": null,
   "metadata": {
    "pycharm": {
     "is_executing": true
    }
   },
   "outputs": [],
   "source": [
    "import figureGeneration\n",
    "\n",
    "figureGeneration.create_bev_number_figure(simulation_data)"
   ]
  },
  {
   "cell_type": "code",
   "execution_count": null,
   "metadata": {
    "pycharm": {
     "is_executing": true
    }
   },
   "outputs": [],
   "source": [
    "figureGeneration.create_charging_power_figure(simulation_day, solarpeakleistung, bev_data, minute_interval)"
   ]
  }
 ],
 "metadata": {
  "kernelspec": {
   "display_name": "Python 3 (ipykernel)",
   "language": "python",
   "name": "python3"
  },
  "language_info": {
   "codemirror_mode": {
    "name": "ipython",
    "version": 3
   },
   "file_extension": ".py",
   "mimetype": "text/x-python",
   "name": "python",
   "nbconvert_exporter": "python",
   "pygments_lexer": "ipython3",
   "version": "3.9.5"
  }
 },
 "nbformat": 4,
 "nbformat_minor": 4
}