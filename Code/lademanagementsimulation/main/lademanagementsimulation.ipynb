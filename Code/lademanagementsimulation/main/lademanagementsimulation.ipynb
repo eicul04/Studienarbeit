{
 "cells": [
  {
   "cell_type": "markdown",
   "metadata": {
    "pycharm": {
     "name": "#%% md\n"
    }
   },
   "source": [
    "# Lademanagementsimulation   \n"
   ]
  },
  {
   "cell_type": "markdown",
   "metadata": {},
   "source": [
    "### Simulations Parameter"
   ]
  },
  {
   "cell_type": "code",
   "execution_count": 1,
   "metadata": {
    "pycharm": {
     "name": "#%%\n"
    }
   },
   "outputs": [],
   "source": [
    "solarpeakleistung = 125 #Einheit Kilowattpeak (kWP)\n",
    "anzahl_bevs_pro_tag = 100\n",
    "ladeleistung_pro_bev = 11 #Einheit kW\n",
    "maximale_ladezeit = 30 #Einheit Minuten"
   ]
  },
  {
   "cell_type": "markdown",
   "metadata": {},
   "source": [
    "### Simulations Eingangsdaten"
   ]
  },
  {
   "cell_type": "code",
   "execution_count": 2,
   "metadata": {
    "pycharm": {
     "name": "#%%\n"
    }
   },
   "outputs": [],
   "source": [
    "import simulationInputDataVisualisation\n",
    "simulationInputDataVisualisation.create_jupyter_dash_app(solarpeakleistung)"
   ]
  },
  {
   "cell_type": "markdown",
   "metadata": {},
   "source": [
    "### Verteilungsalgorithmus Polling - FIFO\n",
    "- der Algorithmus weist den BEVs jeweils ein Zustand zu, die Zustände sind wartend (BEV parkt und will laden), ladend (BEV wird mit Solarenergie geladen), nicht parkend (BEV befindet sich nicht im Lademanagmentsystem)\n",
    "- pro BEV Ladeleistung von z.B. 2kW (ladeleistung_pro_bev), wenn verfügbarer Solarstrom > Ladeleistung, dann wird der Solarstrom auf mehrere BEVs verteilt\n",
    "- aktuell wartende Verbraucher werden in einer Warteliste (Pollingliste) abgearbeitet, nach einem variablen Zeitintervall (maximale_ladezeit, z.B. 30min) wird Verbraucher wieder hinten an die Warteliste angefügt. \n",
    "- dabei wird immer das erste BEV der Warteliste auf die Ladeliste genommen, unabhängig von der Länge der Parkzeit\n",
    "- Wenn im Tagesverlauf die Anzahl bereits ladender BEVs größer wird als die Anzahl möglich ladender BEVs, wird das erste BEV der Ladeliste wieder nach hinten an die Warteliste gesetzt"
   ]
  },
  {
   "cell_type": "markdown",
   "metadata": {},
   "source": [
    "### Verteilungsalgorithmus Polling - mit gleichmäßiger Verteilung\n",
    "- wie FIFO Abarbeitung der BEVs auf der Warteliste\n",
    "- allerdings werden BEVs nach dem sie einmal aufgeladen wurden auf eine neue Warteliste gesetzt mit geringerer Priorität => so soll gewährleistet werden, dass erstmal alle BEVs einmal aufgeladen werden, bevor BEVs mehrmals geladen werden "
   ]
  },
  {
   "cell_type": "markdown",
   "metadata": {},
   "source": [
    "### Prognose (Berücksichtigung der Parkdauer - Optimale Ausnutzung)\n",
    "- Ziel ist das möglichst alle gleich viel bekommen und der Solarstrom optimal ausgenutzt wird ⇒ nichts geht verloren\n",
    "- Berechnung des Ladeintervalls:\n",
    "    - Wann sind während des angegebenen Parkintervalls am wenigsten andere BEVs am Warten? (Minimum Anzahl wartender BEVs in Parkintevall)\n",
    "    - Ladestart: sobald Minimum Anzahl wartender BEVs in Parkintevall erreicht wird\n",
    "    - Ladeende: nach fester Zeit oder nachdem Anzahl wartender BEVs nicht mehr Minimum Anzahl wartender BEVs entspricht\n",
    "- Solarleistung wird zu jedem Zeitpunkt gleichmäßig unter ladenden BEVs verteilt, also Ladeleistung = Verfügbare Solarleistung / Ladende BEVs"
   ]
  },
  {
   "cell_type": "markdown",
   "metadata": {},
   "source": [
    "### Prognose (Berücksichtigung der Parkdauer - Belohnung)\n",
    "- Ziel: länger parkende BEVs sollen belohnt werden und mehr Solarenergie garantiert bekommen\n",
    "- Möglichkeiten: mehr Solarenergie oder längeres Ladeintervall"
   ]
  },
  {
   "cell_type": "code",
   "execution_count": 3,
   "metadata": {},
   "outputs": [
    {
     "name": "stdout",
     "output_type": "stream",
     "text": [
      "{0: [(8.0, 6.1), 'nicht parkend', [(699, 30, 0)]], 1: [(12.5, 3.9), 'wartend', [(735, 30, 0)]], 2: [(12.5, 4.9), 'wartend', [(831, 30, 0)]], 3: [(13.0, 5.6), 'wartend', [(832, 30, 0)]], 4: [(8.0, 6.5), 'nicht parkend', [(693, 30, 0)]], 5: [(13.5, 6.4), 'wartend', [(833, 30, 0)]], 6: [(8.5, 5.5), 'nicht parkend', [(694, 30, 0)]], 7: [(8.5, 6.3), 'nicht parkend', [(695, 30, 0)]], 8: [(9.0, 6.3), 'nicht parkend', [(696, 30, 0)]], 9: [(9.0, 3.4), 'nicht parkend', [(700, 30, 0)]], 10: [(8.5, 5.8), 'nicht parkend', [(701, 30, 0)]], 11: [(8.5, 4.7), 'nicht parkend', [(702, 30, 0)]], 12: [(8.0, 6.3), 'nicht parkend', [(703, 30, 0)]], 13: [(9.0, 8.0), 'wartend', [(704, 30, 0)]], 14: [(14.5, 7.7), 'wartend', [(855, 30, 0)]], 15: [(12.0, 5.1), 'wartend', [(711, 30, 0)]], 16: [(11.5, 4.6), 'wartend', [(697, 30, 0)]], 17: [(8.0, 4.7), 'nicht parkend', [(698, 30, 0)]], 18: [(8.5, 7.7), 'wartend', [(687, 30, 0)]], 19: [(12.0, 5.3), 'wartend', [(712, 30, 0)]], 20: [(8.5, 5.2), 'nicht parkend', [(688, 30, 0)]], 21: [(8.5, 6.9), 'nicht parkend', [(689, 30, 0)]], 22: [(8.5, 3.2), 'nicht parkend', [(686, 30, 0)]], 23: [(12.0, 5.6), 'wartend', [(705, 30, 0)]], 24: [(8.0, 3.4), 'nicht parkend', [(595, 30, 0)]], 25: [(8.5, 6.0), 'nicht parkend', [(690, 30, 0)]], 26: [(8.5, 4.4), 'nicht parkend', [(691, 30, 0)]], 27: [(9.5, 7.8), 'wartend', [(692, 30, 0)]], 28: [(13.5, 5.0), 'wartend', [(819, 30, 0)]], 29: [(8.0, 3.8), 'nicht parkend', [(681, 30, 0)]], 30: [(12.0, 5.3), 'wartend', [(706, 30, 0)]], 31: [(12.0, 5.2), 'wartend', [(707, 30, 0)]], 32: [(13.5, 3.0), 'wartend', [(820, 30, 0)]], 33: [(13.0, 5.1), 'wartend', [(821, 30, 0)]], 34: [(9.0, 7.9), 'wartend', [(682, 30, 0)]], 35: [(8.5, 5.0), 'nicht parkend', [(683, 30, 0)]], 36: [(12.5, 6.9), 'wartend', [(736, 30, 0)]], 37: [(12.0, 3.5), 'nicht parkend', [(708, 30, 0)]], 38: [(8.0, 3.3), 'nicht parkend', [(596, 30, 0)]], 39: [(9.0, 7.7), 'wartend', [(684, 30, 0)]], 40: [(13.0, 4.3), 'wartend', [(822, 30, 0)]], 41: [(12.5, 3.4), 'nicht parkend', [(823, 30, 0)]], 42: [(8.0, 5.8), 'nicht parkend', [(685, 30, 0)]], 43: [(12.5, 6.2), 'wartend', [(824, 30, 0)]], 44: [(8.5, 6.7), 'nicht parkend', [(673, 30, 0)]], 45: [(9.0, 3.7), 'nicht parkend', [(674, 30, 0)]], 46: [(8.0, 4.3), 'nicht parkend', [(677, 30, 0)]], 47: [(8.0, 7.2), 'nicht parkend', [(678, 30, 0)]], 48: [(9.0, 7.3), 'wartend', [(679, 30, 0)]], 49: [(9.0, 5.3), 'nicht parkend', [(680, 30, 0)]], 50: [(8.0, 6.4), 'nicht parkend', [(670, 30, 0)]], 51: [(12.0, 7.7), 'wartend', [(713, 30, 0)]], 52: [(9.0, 4.6), 'nicht parkend', [(671, 30, 0)]], 53: [(12.5, 6.7), 'wartend', [(825, 30, 0)]], 54: [(8.5, 6.4), 'nicht parkend', [(672, 30, 0)]], 55: [(8.5, 3.4), 'nicht parkend', [(675, 30, 0)]], 56: [(8.5, 8.0), 'wartend', [(676, 30, 0)]], 57: [(8.0, 7.8), 'nicht parkend', [(669, 30, 0)]], 58: [(8.5, 4.6), 'nicht parkend', [(597, 30, 0)]], 59: [(13.5, 4.7), 'wartend', [(826, 30, 0)]], 60: [(8.5, 6.9), 'nicht parkend', [(598, 30, 0)]], 61: [(12.5, 4.1), 'wartend', [(827, 30, 0)]], 62: [(9.0, 3.1), 'nicht parkend', [(599, 30, 0)]], 63: [(12.0, 5.0), 'wartend', [(714, 30, 0)]], 64: [(9.0, 4.2), 'nicht parkend', [(600, 30, 0)]], 65: [(8.0, 7.2), 'nicht parkend', [(601, 30, 0)]], 66: [(12.5, 3.1), 'nicht parkend', [(828, 30, 0)]], 67: [(8.5, 7.5), 'nicht parkend', [(602, 30, 0)]], 68: [(9.0, 6.2), 'nicht parkend', [(603, 30, 0)]], 69: [(9.0, 6.4), 'nicht parkend', [(604, 30, 0)]], 70: [(8.0, 6.7), 'nicht parkend', [(605, 30, 0)]], 71: [(8.0, 7.1), 'nicht parkend', [(606, 30, 0)]], 72: [(9.0, 5.1), 'nicht parkend', [(607, 30, 0)]], 73: [(8.5, 6.3), 'nicht parkend', [(608, 30, 0)]], 74: [(12.5, 4.0), 'wartend', [(834, 30, 0)]], 75: [(8.5, 5.6), 'nicht parkend', [(609, 30, 0)]], 76: [(8.5, 7.1), 'nicht parkend', [(610, 30, 0)]], 77: [(8.5, 3.9), 'nicht parkend', [(611, 30, 0)]], 78: [(8.5, 4.2), 'nicht parkend', [(667, 30, 0)]], 79: [(9.5, 5.0), 'nicht parkend', [(668, 30, 0)]], 80: [(8.5, 6.3), 'nicht parkend', [(584, 30, 0)]], 81: [(8.0, 4.1), 'nicht parkend', [(591, 30, 0)]], 82: [(10.0, 7.9), 'wartend', [(592, 30, 0)]], 83: [(8.5, 6.1), 'nicht parkend', [(593, 30, 0)]], 84: [(9.0, 5.2), 'nicht parkend', [(594, 30, 0)]], 85: [(8.5, 4.0), 'nicht parkend', [(612, 30, 0)]], 86: [(8.5, 3.7), 'nicht parkend', [(613, 30, 0)]], 87: [(8.0, 5.9), 'nicht parkend', [(614, 30, 0)]], 88: [(8.5, 4.6), 'nicht parkend', [(615, 30, 0)]], 89: [(12.5, 7.3), 'wartend', [(835, 30, 0)]], 90: [(13.0, 6.5), 'wartend', [(836, 30, 0)]], 91: [(8.5, 5.9), 'nicht parkend', [(663, 30, 0)]], 92: [(8.5, 7.6), 'wartend', [(664, 30, 0)]], 93: [(10.0, 5.7), 'nicht parkend', [(665, 30, 0)]], 94: [(8.5, 6.9), 'nicht parkend', [(666, 30, 0)]], 95: [(8.5, 3.5), 'nicht parkend', [(582, 30, 0)]], 96: [(12.5, 6.1), 'wartend', [(837, 30, 0)]], 97: [(8.5, 6.1), 'nicht parkend', [(715, 30, 0)]], 98: [(13.0, 4.9), 'wartend', [(838, 30, 0)]], 99: [(12.5, 5.8), 'wartend', [(843, 30, 0)]]}\n"
     ]
    }
   ],
   "source": [
    "import distributionAlgorithmPolling\n",
    "import simulationClasses\n",
    "import simulationData\n",
    "import simulationOutputDataVisualisation\n",
    "import distributionAlgorithmForecast\n",
    "\n",
    "simulation_day = simulationClasses.SimulationDay(anzahl_bevs_pro_tag)\n",
    "bev_data = simulationData.BevData()\n",
    "table_dict = simulationData.TableDict()\n",
    "simulation_data = simulationData.SimulationData()\n",
    "\n",
    "# Auswahl des Algorithmus\n",
    "algorithm = distributionAlgorithmPolling.Algorithm.POLLING_FIFO\n",
    "# algorithm = distributionAlgorithmPolling.Algorithm.POLLING_EVEN_DISTRIBUTION\n",
    "# distributionAlgorithmPolling.start_simulation(solarpeakleistung, maximale_ladezeit, ladeleistung_pro_bev, simulation_day, bev_data, table_dict, simulation_data, algorithm)\n",
    "\n",
    "distributionAlgorithmForecast.start_algorithm(simulation_data, simulation_day, maximale_ladezeit, solarpeakleistung, \n",
    "                    bev_data, table_dict, ladeleistung_pro_bev)"
   ]
  },
  {
   "cell_type": "markdown",
   "metadata": {},
   "source": [
    "### Ergebnis Algorithmus"
   ]
  },
  {
   "cell_type": "code",
   "execution_count": 4,
   "metadata": {},
   "outputs": [
    {
     "data": {
      "text/plain": "<IPython.core.display.Markdown object>",
      "text/markdown": ">**Ergebnis**<br>Geladene BEVs: 0 von 100<br>Unterbrochene Aufladevorgänge 0<br>Aufgeladene Solarenergie insgesamt: 0 kWh<br>Ungenutzte Solarenergie insgesamt: 0 kWh"
     },
     "execution_count": 4,
     "metadata": {},
     "output_type": "execute_result"
    }
   ],
   "source": [
    "simulationOutputDataVisualisation.print_algorithm_result(bev_data, simulation_data, anzahl_bevs_pro_tag)"
   ]
  },
  {
   "cell_type": "markdown",
   "metadata": {},
   "source": [
    "### Tabellarische Übersicht Park- und Ladeverlauf der BEVs"
   ]
  },
  {
   "cell_type": "code",
   "execution_count": null,
   "metadata": {
    "pycharm": {
     "is_executing": true
    }
   },
   "outputs": [
    {
     "data": {
      "text/plain": "interactive(children=(IntSlider(value=480, description='Minute: ', max=960, min=480), Output()), _dom_classes=…",
      "application/vnd.jupyter.widget-view+json": {
       "version_major": 2,
       "version_minor": 0,
       "model_id": "805bc3a08efc42ac962ffb4a9152112c"
      }
     },
     "metadata": {},
     "output_type": "display_data"
    }
   ],
   "source": [
    "simulationOutputDataVisualisation.create_tabular_overview_per_minute_slider(table_dict)"
   ]
  },
  {
   "cell_type": "code",
   "execution_count": 6,
   "metadata": {},
   "outputs": [],
   "source": [
    "import figureGeneration\n",
    "\n",
    "figureGeneration.create_charging_power_figure(simulation_day)"
   ]
  },
  {
   "cell_type": "code",
   "execution_count": 7,
   "metadata": {},
   "outputs": [],
   "source": [
    "figureGeneration.create_bev_number_figure(simulation_data)"
   ]
  }
 ],
 "metadata": {
  "kernelspec": {
   "display_name": "Python 3 (ipykernel)",
   "language": "python",
   "name": "python3"
  },
  "language_info": {
   "codemirror_mode": {
    "name": "ipython",
    "version": 3
   },
   "file_extension": ".py",
   "mimetype": "text/x-python",
   "name": "python",
   "nbconvert_exporter": "python",
   "pygments_lexer": "ipython3",
   "version": "3.9.5"
  }
 },
 "nbformat": 4,
 "nbformat_minor": 4
}