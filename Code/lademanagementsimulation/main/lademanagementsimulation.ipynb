{
 "cells": [
  {
   "cell_type": "markdown",
   "metadata": {
    "pycharm": {
     "name": "#%% md\n"
    }
   },
   "source": [
    "# Lademanagementsimulation   \n"
   ]
  },
  {
   "cell_type": "markdown",
   "metadata": {},
   "source": [
    "### Simulations Parameter"
   ]
  },
  {
   "cell_type": "code",
   "execution_count": 1,
   "metadata": {
    "pycharm": {
     "name": "#%%\n"
    }
   },
   "outputs": [],
   "source": [
    "solarpeakleistung = 125 #Einheit Kilowattpeak (kWP)\n",
    "anzahl_bevs_pro_tag = 50\n",
    "ladeleistung_pro_bev = 11 #Einheit kW\n",
    "maximale_ladezeit = 30 #Einheit Minuten\n",
    "minute_interval = 15 #Einheit Minuten"
   ]
  },
  {
   "cell_type": "markdown",
   "metadata": {},
   "source": [
    "### Simulations Eingangsdaten"
   ]
  },
  {
   "cell_type": "code",
   "execution_count": 2,
   "metadata": {
    "pycharm": {
     "name": "#%%\n"
    }
   },
   "outputs": [
    {
     "data": {
      "text/html": [
       "\n",
       "        <iframe\n",
       "            width=\"100%\"\n",
       "            height=\"650\"\n",
       "            src=\"http://127.0.0.1:8050/\"\n",
       "            frameborder=\"0\"\n",
       "            allowfullscreen\n",
       "            \n",
       "        ></iframe>\n",
       "        "
      ],
      "text/plain": [
       "<IPython.lib.display.IFrame at 0x1b69dd6af70>"
      ]
     },
     "metadata": {},
     "output_type": "display_data"
    }
   ],
   "source": [
    "import simulationInputDataVisualisation\n",
    "simulationInputDataVisualisation.create_jupyter_dash_app(solarpeakleistung)"
   ]
  },
  {
   "cell_type": "markdown",
   "metadata": {},
   "source": [
    "### Verteilungsalgorithmus"
   ]
  },
  {
   "cell_type": "code",
   "execution_count": 3,
   "metadata": {},
   "outputs": [
    {
     "name": "stdout",
     "output_type": "stream",
     "text": [
      "\n",
      "\n",
      "Minute:  480\n",
      "Charging BEVs after updating parking end:  []\n",
      "Waiting BEVs:  [1, 9, 10, 11, 21, 25, 28, 32, 42]\n",
      "New calculated number of charging stations:  1\n",
      "Charging BEVs list before saving:  [1]\n",
      "Number of charging BEVs 1\n",
      "Charging BEV Liste vor Residual time Berechnung:  [1]\n",
      "Restladeenergie bis zur fairen Ladeenergie for BEV mit ID 1:  4.1775\n",
      "Charging BEVs:  [1]\n",
      "\n",
      "\n",
      "Minute:  495\n",
      "Charging BEVs after updating parking end:  [1]\n",
      "Waiting BEVs:  [9, 10, 11, 21, 25, 28, 32, 42]\n",
      "New calculated number of charging stations:  1\n",
      "Charging BEVs list before saving:  [1]\n",
      "Number of charging BEVs 1\n",
      "Charging BEV Liste vor Residual time Berechnung:  [1]\n",
      "Restladeenergie bis zur fairen Ladeenergie for BEV mit ID 1:  4.0225\n",
      "Charging BEVs:  [1]\n",
      "\n",
      "\n",
      "Minute:  510\n",
      "Charging BEVs after updating parking end:  [1]\n",
      "Waiting BEVs:  [9, 10, 11, 21, 25, 28, 32, 42, 0, 8, 12, 17, 19, 20, 24, 30, 31, 34, 39, 40, 41, 46, 48]\n",
      "New calculated number of charging stations:  2\n",
      "Charging BEVs list before saving:  [1, 9]\n",
      "Number of charging BEVs 2\n",
      "Number of charging BEVs 2\n",
      "Charging BEV Liste vor Residual time Berechnung:  [1, 9]\n",
      "Restladeenergie bis zur fairen Ladeenergie for BEV mit ID 1:  2.555\n",
      "Restladeenergie bis zur fairen Ladeenergie for BEV mit ID 9:  7.02\n",
      "Charging BEVs:  [1, 9]\n",
      "\n",
      "\n",
      "Minute:  525\n",
      "Charging BEVs after updating parking end:  [1, 9]\n",
      "Waiting BEVs:  [10, 11, 21, 25, 28, 32, 42, 0, 8, 12, 17, 19, 20, 24, 30, 31, 34, 39, 40, 41, 46, 48]\n",
      "New calculated number of charging stations:  2\n",
      "Charging BEVs list before saving:  [1, 9]\n",
      "Number of charging BEVs 2\n",
      "Number of charging BEVs 2\n",
      "Charging BEV Liste vor Residual time Berechnung:  [1, 9]\n",
      "Restladeenergie bis zur fairen Ladeenergie for BEV mit ID 1:  1.165\n",
      "Die Restladezeit des BEVS 1 endet vor dem nächsten Interval\n",
      "Restladezeit:  8.534798534798536\n",
      "Number of charging BEVs 2\n",
      "Ausgewähltes BEV das frei gewordenen Platz belegen darf:  10\n",
      "Ladestart für ausgewähltes BEV:  533.5347985347985\n",
      "Restladeenergie bis zur fairen Ladeenergie for BEV mit ID 9:  5.63\n",
      "Charging BEVs:  [1, 9]\n",
      "\n",
      "\n",
      "Minute:  540\n",
      "Charging BEVs after updating parking end:  [9, 10]\n",
      "Waiting BEVs:  [11, 21, 25, 28, 32, 42, 0, 8, 12, 17, 19, 20, 24, 30, 31, 34, 39, 40, 41, 46, 48, 13, 14, 36, 37, 43, 44]\n",
      "New calculated number of charging stations:  3\n",
      "Charging BEVs list before saving:  [9, 10, 11]\n",
      "Number of charging BEVs 3\n",
      "Number of charging BEVs 3\n",
      "Number of charging BEVs 3\n",
      "Charging BEV Liste vor Residual time Berechnung:  [9, 10, 11]\n",
      "Restladeenergie bis zur fairen Ladeenergie for BEV mit ID 9:  3.5824999999999996\n",
      "Restladeenergie bis zur fairen Ladeenergie for BEV mit ID 10:  7.017499999999992\n",
      "Restladeenergie bis zur fairen Ladeenergie for BEV mit ID 11:  6.6975\n",
      "Charging BEVs:  [9, 10, 11]\n",
      "\n",
      "\n",
      "Minute:  555\n",
      "Charging BEVs after updating parking end:  [9, 10, 11]\n",
      "Waiting BEVs:  [21, 25, 28, 32, 42, 0, 8, 12, 17, 19, 20, 24, 30, 31, 34, 39, 40, 41, 46, 48, 13, 14, 36, 37, 43, 44]\n",
      "New calculated number of charging stations:  3\n",
      "Charging BEVs list before saving:  [9, 10, 11]\n",
      "Number of charging BEVs 3\n",
      "Number of charging BEVs 3\n",
      "Number of charging BEVs 3\n",
      "Charging BEV Liste vor Residual time Berechnung:  [9, 10, 11]\n",
      "Restladeenergie bis zur fairen Ladeenergie for BEV mit ID 9:  1.6658333333333326\n",
      "Die Restladezeit des BEVS 9 endet vor dem nächsten Interval\n",
      "Restladezeit:  9.672580645161286\n",
      "Number of charging BEVs 3\n",
      "Ausgewähltes BEV das frei gewordenen Platz belegen darf:  21\n",
      "Ladestart für ausgewähltes BEV:  564.6725806451612\n",
      "Restladeenergie bis zur fairen Ladeenergie for BEV mit ID 10:  6.19139092389091\n",
      "Restladeenergie bis zur fairen Ladeenergie for BEV mit ID 11:  4.780833333333333\n",
      "Charging BEVs:  [9, 10, 11]\n",
      "\n",
      "\n",
      "Minute:  570\n",
      "Charging BEVs after updating parking end:  [10, 11, 21]\n",
      "Waiting BEVs:  [25, 28, 32, 42, 0, 8, 12, 17, 19, 20, 24, 30, 31, 34, 39, 40, 41, 46, 48, 13, 14, 36, 37, 43, 44, 15, 29, 38, 47]\n",
      "New calculated number of charging stations:  4\n",
      "Charging BEVs list before saving:  [10, 11, 21, 25]\n",
      "Number of charging BEVs 4\n",
      "Number of charging BEVs 4\n",
      "Number of charging BEVs 4\n",
      "Number of charging BEVs 4\n",
      "Charging BEV Liste vor Residual time Berechnung:  [10, 11, 21, 25]\n",
      "Restladeenergie bis zur fairen Ladeenergie for BEV mit ID 10:  5.077939560439537\n",
      "Restladeenergie bis zur fairen Ladeenergie for BEV mit ID 11:  2.1975\n",
      "Die Restladezeit des BEVS 11 endet vor dem nächsten Interval\n",
      "Restladezeit:  13.523076923076921\n",
      "Number of charging BEVs 4\n",
      "Ausgewähltes BEV das frei gewordenen Platz belegen darf:  28\n",
      "Ladestart für ausgewähltes BEV:  583.5230769230769\n",
      "Restladeenergie bis zur fairen Ladeenergie for BEV mit ID 21:  6.982499999999992\n",
      "Restladeenergie bis zur fairen Ladeenergie for BEV mit ID 25:  5.3525\n",
      "Charging BEVs:  [10, 11, 21, 25]\n",
      "\n",
      "\n",
      "Minute:  585\n",
      "Charging BEVs after updating parking end:  [10, 21, 25, 28]\n",
      "Waiting BEVs:  [32, 42, 0, 8, 12, 17, 19, 20, 24, 30, 31, 34, 39, 40, 41, 46, 48, 13, 14, 36, 37, 43, 44, 15, 29, 38, 47]\n",
      "New calculated number of charging stations:  5\n",
      "Charging BEVs list before saving:  [10, 21, 25, 28, 32]\n",
      "Number of charging BEVs 5\n",
      "Number of charging BEVs 5\n",
      "Number of charging BEVs 5\n",
      "Number of charging BEVs 5\n",
      "Number of charging BEVs 5\n",
      "Charging BEV Liste vor Residual time Berechnung:  [10, 21, 25, 28, 32]\n",
      "Restladeenergie bis zur fairen Ladeenergie for BEV mit ID 10:  4.027344322344291\n",
      "Restladeenergie bis zur fairen Ladeenergie for BEV mit ID 21:  6.116794354838694\n",
      "Restladeenergie bis zur fairen Ladeenergie for BEV mit ID 25:  2.915\n",
      "Restladeenergie bis zur fairen Ladeenergie for BEV mit ID 28:  5.907500000000001\n",
      "Restladeenergie bis zur fairen Ladeenergie for BEV mit ID 32:  5.9174999999999995\n",
      "Charging BEVs:  [10, 21, 25, 28, 32]\n",
      "\n",
      "\n",
      "Minute:  600\n",
      "Charging BEVs after updating parking end:  [10, 21, 25, 28, 32]\n",
      "Waiting BEVs:  [42, 0, 8, 12, 17, 19, 20, 24, 30, 31, 34, 39, 40, 41, 46, 48, 13, 14, 36, 37, 43, 44, 15, 29, 38, 47]\n",
      "New calculated number of charging stations:  5\n",
      "Charging BEVs list before saving:  [10, 21, 25, 28, 32]\n",
      "Number of charging BEVs 5\n",
      "Number of charging BEVs 5\n",
      "Number of charging BEVs 5\n",
      "Number of charging BEVs 5\n",
      "Number of charging BEVs 5\n",
      "Charging BEV Liste vor Residual time Berechnung:  [10, 21, 25, 28, 32]\n",
      "Restladeenergie bis zur fairen Ladeenergie for BEV mit ID 10:  3.0144627594627194\n",
      "Restladeenergie bis zur fairen Ladeenergie for BEV mit ID 21:  5.282165322580623\n",
      "Restladeenergie bis zur fairen Ladeenergie for BEV mit ID 25:  0.5650000000000004\n",
      "Die Restladezeit des BEVS 25 endet vor dem nächsten Interval\n",
      "Restladezeit:  3.3313679245283043\n",
      "Number of charging BEVs 5\n",
      "Ausgewähltes BEV das frei gewordenen Platz belegen darf:  42\n",
      "Ladestart für ausgewähltes BEV:  603.3313679245283\n",
      "Restladeenergie bis zur fairen Ladeenergie for BEV mit ID 28:  5.676115384615386\n",
      "Restladeenergie bis zur fairen Ladeenergie for BEV mit ID 32:  3.5674999999999994\n",
      "Charging BEVs:  [10, 21, 25, 28, 32]\n",
      "\n",
      "\n",
      "Minute:  615\n",
      "Charging BEVs after updating parking end:  [10, 21, 28, 32, 42]\n",
      "Waiting BEVs:  [0, 8, 12, 17, 19, 20, 24, 30, 31, 34, 39, 40, 41, 46, 48, 13, 14, 36, 37, 43, 44, 15, 29, 38, 47]\n",
      "New calculated number of charging stations:  5\n",
      "Charging BEVs list before saving:  [10, 21, 28, 32, 42]\n",
      "Number of charging BEVs 5\n",
      "Number of charging BEVs 5\n",
      "Number of charging BEVs 5\n",
      "Number of charging BEVs 5\n",
      "Number of charging BEVs 5\n",
      "Charging BEV Liste vor Residual time Berechnung:  [10, 21, 28, 32, 42]\n",
      "Restladeenergie bis zur fairen Ladeenergie for BEV mit ID 10:  1.9179645909645417\n",
      "Die Restladezeit des BEVS 10 endet vor dem nächsten Interval\n",
      "Restladezeit:  11.366838745344975\n",
      "Number of charging BEVs 5\n",
      "Ausgewähltes BEV das frei gewordenen Platz belegen darf:  0\n",
      "Ladestart für ausgewähltes BEV:  626.3668387453449\n",
      "Restladeenergie bis zur fairen Ladeenergie for BEV mit ID 21:  4.378634999999971\n",
      "Restladeenergie bis zur fairen Ladeenergie for BEV mit ID 28:  5.425629230769234\n",
      "Restladeenergie bis zur fairen Ladeenergie for BEV mit ID 32:  1.0234999999999994\n",
      "Die Restladezeit des BEVS 32 endet vor dem nächsten Interval\n",
      "Restladezeit:  6.06578427499012\n",
      "Number of charging BEVs 5\n",
      "Ausgewähltes BEV das frei gewordenen Platz belegen darf:  8\n",
      "Ladestart für ausgewähltes BEV:  621.0657842749902\n",
      "Restladeenergie bis zur fairen Ladeenergie for BEV mit ID 42:  3.6560000000000006\n",
      "Charging BEVs:  [10, 21, 28, 32, 42]\n",
      "\n",
      "\n",
      "Minute:  630\n",
      "Charging BEVs after updating parking end:  [21, 28, 42, 0, 8]\n",
      "Waiting BEVs:  [12, 17, 19, 20, 24, 30, 31, 34, 39, 40, 41, 46, 48, 13, 14, 36, 37, 43, 44, 15, 29, 38, 47]\n",
      "New calculated number of charging stations:  5\n",
      "Charging BEVs list before saving:  [21, 28, 42, 0, 8]\n",
      "Number of charging BEVs 5\n",
      "Number of charging BEVs 5\n",
      "Number of charging BEVs 5\n",
      "Number of charging BEVs 5\n",
      "Number of charging BEVs 5\n",
      "Charging BEV Liste vor Residual time Berechnung:  [21, 28, 42, 0, 8]\n",
      "Restladeenergie bis zur fairen Ladeenergie for BEV mit ID 21:  3.4797217741935116\n",
      "Restladeenergie bis zur fairen Ladeenergie for BEV mit ID 28:  5.17642307692308\n",
      "Restladeenergie bis zur fairen Ladeenergie for BEV mit ID 42:  1.687112814465411\n"
     ]
    },
    {
     "name": "stdout",
     "output_type": "stream",
     "text": [
      "Die Restladezeit des BEVS 42 endet vor dem nächsten Interval\n",
      "Restladezeit:  10.046324818174341\n",
      "Number of charging BEVs 5\n",
      "Ausgewähltes BEV das frei gewordenen Platz belegen darf:  12\n",
      "Ladestart für ausgewähltes BEV:  640.0463248181743\n",
      "Restladeenergie bis zur fairen Ladeenergie for BEV mit ID 0:  6.561964590964533\n",
      "Restladeenergie bis zur fairen Ladeenergie for BEV mit ID 8:  5.010000000000007\n",
      "Charging BEVs:  [21, 28, 42, 0, 8]\n",
      "\n",
      "\n",
      "Minute:  645\n",
      "Charging BEVs after updating parking end:  [21, 28, 0, 8, 12]\n",
      "Waiting BEVs:  [17, 19, 20, 24, 30, 31, 34, 39, 40, 41, 46, 48, 13, 14, 36, 37, 43, 44, 15, 29, 38, 47]\n",
      "New calculated number of charging stations:  5\n",
      "Charging BEVs list before saving:  [21, 28, 0, 8, 12]\n",
      "Number of charging BEVs 5\n",
      "Number of charging BEVs 5\n",
      "Number of charging BEVs 5\n",
      "Number of charging BEVs 5\n",
      "Number of charging BEVs 5\n",
      "Charging BEV Liste vor Residual time Berechnung:  [21, 28, 0, 8, 12]\n",
      "Restladeenergie bis zur fairen Ladeenergie for BEV mit ID 21:  2.5850704838709238\n",
      "Restladeenergie bis zur fairen Ladeenergie for BEV mit ID 28:  4.928398461538466\n",
      "Restladeenergie bis zur fairen Ladeenergie for BEV mit ID 0:  5.95183571093279\n",
      "Restladeenergie bis zur fairen Ladeenergie for BEV mit ID 8:  3.509647372580022\n",
      "Restladeenergie bis zur fairen Ladeenergie for BEV mit ID 12:  5.685612814465404\n",
      "Charging BEVs:  [21, 28, 0, 8, 12]\n",
      "\n",
      "\n",
      "Minute:  660\n",
      "Charging BEVs after updating parking end:  [21, 28, 0, 8, 12]\n",
      "Waiting BEVs:  [17, 19, 20, 24, 30, 31, 34, 39, 40, 41, 46, 48, 13, 14, 36, 37, 43, 44, 15, 29, 38, 47]\n",
      "New calculated number of charging stations:  5\n",
      "Charging BEVs list before saving:  [21, 28, 0, 8, 12]\n",
      "Number of charging BEVs 5\n",
      "Number of charging BEVs 5\n",
      "Number of charging BEVs 5\n",
      "Number of charging BEVs 5\n",
      "Number of charging BEVs 5\n",
      "Charging BEV Liste vor Residual time Berechnung:  [21, 28, 0, 8, 12]\n",
      "Restladeenergie bis zur fairen Ladeenergie for BEV mit ID 21:  1.6950362903225296\n",
      "Die Restladezeit des BEVS 21 endet vor dem nächsten Interval\n",
      "Restladezeit:  10.04565166133463\n",
      "Number of charging BEVs 5\n",
      "Ausgewähltes BEV das frei gewordenen Platz belegen darf:  17\n",
      "Ladestart für ausgewähltes BEV:  670.0456516613347\n",
      "Restladeenergie bis zur fairen Ladeenergie for BEV mit ID 28:  4.681653846153852\n",
      "Restladeenergie bis zur fairen Ladeenergie for BEV mit ID 0:  5.344855570655081\n",
      "Restladeenergie bis zur fairen Ladeenergie for BEV mit ID 8:  2.017037732121713\n",
      "Die Restladezeit des BEVS 8 endet vor dem nächsten Interval\n",
      "Restladezeit:  11.953996832013313\n",
      "Number of charging BEVs 5\n",
      "Ausgewähltes BEV das frei gewordenen Platz belegen darf:  19\n",
      "Ladestart für ausgewähltes BEV:  671.9539968320133\n",
      "Restladeenergie bis zur fairen Ladeenergie for BEV mit ID 12:  4.85801881408839\n",
      "Charging BEVs:  [21, 28, 0, 8, 12]\n",
      "\n",
      "\n",
      "Minute:  675\n",
      "Charging BEVs after updating parking end:  [28, 0, 12, 17, 19]\n",
      "Waiting BEVs:  [20, 24, 30, 31, 34, 39, 40, 41, 46, 48, 13, 14, 36, 37, 43, 44, 15, 29, 38, 47]\n",
      "New calculated number of charging stations:  5\n",
      "Charging BEVs list before saving:  [28, 0, 12, 17, 19]\n",
      "Number of charging BEVs 5\n",
      "Number of charging BEVs 5\n",
      "Number of charging BEVs 5\n",
      "Number of charging BEVs 5\n",
      "Number of charging BEVs 5\n",
      "Charging BEV Liste vor Residual time Berechnung:  [28, 0, 12, 17, 19]\n",
      "Restladeenergie bis zur fairen Ladeenergie for BEV mit ID 28:  4.432447692307698\n",
      "Restladeenergie bis zur fairen Ladeenergie for BEV mit ID 0:  4.7318201616196145\n",
      "Restladeenergie bis zur fairen Ladeenergie for BEV mit ID 12:  4.022168688408334\n",
      "Restladeenergie bis zur fairen Ladeenergie for BEV mit ID 17:  5.131536290322535\n",
      "Restladeenergie bis zur fairen Ladeenergie for BEV mit ID 19:  6.9560377321217155\n",
      "Charging BEVs:  [28, 0, 12, 17, 19]\n",
      "\n",
      "\n",
      "Minute:  690\n",
      "Charging BEVs after updating parking end:  [28, 0, 12, 17, 19]\n",
      "Waiting BEVs:  [20, 24, 30, 31, 34, 39, 40, 41, 46, 48, 13, 14, 36, 37, 43, 44, 15, 29, 38, 47]\n",
      "New calculated number of charging stations:  5\n",
      "Charging BEVs list before saving:  [28, 0, 12, 17, 19]\n",
      "Number of charging BEVs 5\n",
      "Number of charging BEVs 5\n",
      "Number of charging BEVs 5\n",
      "Number of charging BEVs 5\n",
      "Number of charging BEVs 5\n",
      "Charging BEV Liste vor Residual time Berechnung:  [28, 0, 12, 17, 19]\n",
      "Restladeenergie bis zur fairen Ladeenergie for BEV mit ID 28:  4.177038461538468\n",
      "Restladeenergie bis zur fairen Ladeenergie for BEV mit ID 0:  4.103525475314596\n",
      "Restladeenergie bis zur fairen Ladeenergie for BEV mit ID 12:  3.165513126964609\n",
      "Restladeenergie bis zur fairen Ladeenergie for BEV mit ID 17:  4.274764317622676\n",
      "Restladeenergie bis zur fairen Ladeenergie for BEV mit ID 19:  6.429282250937888\n",
      "Charging BEVs:  [28, 0, 12, 17, 19]\n",
      "\n",
      "\n",
      "Minute:  705\n",
      "Charging BEVs after updating parking end:  [28, 0, 12, 17, 19]\n",
      "Waiting BEVs:  [20, 24, 30, 31, 34, 39, 41, 46, 48, 13, 14, 36, 37, 43, 44, 15, 29, 38, 47]\n",
      "New calculated number of charging stations:  5\n",
      "Charging BEVs list before saving:  [28, 0, 12, 17, 19]\n",
      "Number of charging BEVs 5\n",
      "Number of charging BEVs 5\n",
      "Number of charging BEVs 5\n",
      "Number of charging BEVs 5\n",
      "Number of charging BEVs 5\n",
      "Charging BEV Liste vor Residual time Berechnung:  [28, 0, 12, 17, 19]\n",
      "Restladeenergie bis zur fairen Ladeenergie for BEV mit ID 28:  3.9155246153846233\n",
      "Restladeenergie bis zur fairen Ladeenergie for BEV mit ID 0:  3.460213722490337\n",
      "Restladeenergie bis zur fairen Ladeenergie for BEV mit ID 12:  2.2883823747693377\n",
      "Die Restladezeit des BEVS 12 endet vor dem nächsten Interval\n",
      "Restladezeit:  12.62439706566387\n",
      "Number of charging BEVs 5\n",
      "Ausgewähltes BEV das frei gewordenen Platz belegen darf:  20\n",
      "Ladestart für ausgewähltes BEV:  717.6243970656639\n",
      "Restladeenergie bis zur fairen Ladeenergie for BEV mit ID 17:  3.397514371789666\n",
      "Restladeenergie bis zur fairen Ladeenergie for BEV mit ID 19:  5.889936623326382\n",
      "Charging BEVs:  [28, 0, 12, 17, 19]\n",
      "\n",
      "\n",
      "Minute:  720\n",
      "Charging BEVs after updating parking end:  [28, 0, 17, 19, 20]\n",
      "Waiting BEVs:  [24, 30, 31, 34, 39, 46, 48, 13, 14, 36, 37, 43, 44, 15, 29, 38, 47, 5, 7, 33]\n",
      "New calculated number of charging stations:  5\n",
      "Charging BEVs list before saving:  [28, 0, 17, 19, 20]\n",
      "Number of charging BEVs 5\n",
      "Number of charging BEVs 5\n",
      "Number of charging BEVs 5\n",
      "Number of charging BEVs 5\n",
      "Number of charging BEVs 5\n",
      "Charging BEV Liste vor Residual time Berechnung:  [28, 0, 17, 19, 20]\n",
      "Restladeenergie bis zur fairen Ladeenergie for BEV mit ID 28:  3.647807692307701\n",
      "Restladeenergie bis zur fairen Ladeenergie for BEV mit ID 0:  2.801642692396526\n",
      "Restladeenergie bis zur fairen Ladeenergie for BEV mit ID 17:  2.4994561629342615\n",
      "Die Restladezeit des BEVS 17 endet vor dem nächsten Interval\n",
      "Restladezeit:  14.250035136455312\n",
      "Number of charging BEVs 5\n",
      "Ausgewähltes BEV das frei gewordenen Platz belegen darf:  24\n",
      "Ladestart für ausgewähltes BEV:  734.2500351364553\n",
      "Restladeenergie bis zur fairen Ladeenergie for BEV mit ID 19:  5.337797782409332\n",
      "Restladeenergie bis zur fairen Ladeenergie for BEV mit ID 20:  5.801882374769335\n",
      "Charging BEVs:  [28, 0, 17, 19, 20]\n",
      "\n",
      "\n",
      "Minute:  735\n",
      "Charging BEVs after updating parking end:  [28, 0, 19, 20, 24]\n",
      "Waiting BEVs:  [30, 31, 34, 46, 48, 13, 14, 36, 37, 43, 44, 15, 29, 38, 47, 5, 7, 33]\n",
      "New calculated number of charging stations:  5\n",
      "Charging BEVs list before saving:  [28, 0, 19, 20, 24]\n",
      "Number of charging BEVs 5\n",
      "Number of charging BEVs 5\n",
      "Number of charging BEVs 5\n",
      "Number of charging BEVs 5\n",
      "Number of charging BEVs 5\n",
      "Charging BEV Liste vor Residual time Berechnung:  [28, 0, 19, 20, 24]\n",
      "Restladeenergie bis zur fairen Ladeenergie for BEV mit ID 28:  3.3887553846153944\n",
      "Restladeenergie bis zur fairen Ladeenergie for BEV mit ID 0:  2.1643862083300256\n",
      "Die Restladezeit des BEVS 0 endet vor dem nächsten Interval\n",
      "Restladezeit:  13.561317094799659\n",
      "Number of charging BEVs 5\n",
      "Ausgewähltes BEV das frei gewordenen Platz belegen darf:  30\n",
      "Ladestart für ausgewähltes BEV:  748.5613170947996\n",
      "Restladeenergie bis zur fairen Ladeenergie for BEV mit ID 19:  4.80352882674447\n",
      "Restladeenergie bis zur fairen Ladeenergie for BEV mit ID 20:  5.385201620086775\n",
      "Restladeenergie bis zur fairen Ladeenergie for BEV mit ID 24:  8.173456162934254\n",
      "Charging BEVs:  [28, 0, 19, 20, 24]\n",
      "\n",
      "\n",
      "Minute:  750\n",
      "Charging BEVs after updating parking end:  [28, 19, 20, 24, 30]\n",
      "Waiting BEVs:  [31, 34, 46, 48, 13, 14, 36, 37, 43, 44, 15, 29, 38, 47, 5, 7, 33, 6, 18, 22, 23, 27, 49]\n",
      "New calculated number of charging stations:  4\n",
      "Charging BEVs list before saving:  [28, 19, 20, 24, 30]\n",
      "Number of charging BEVs 5\n",
      "Number of charging BEVs 5\n",
      "Number of charging BEVs 5\n",
      "Number of charging BEVs 5\n",
      "Number of charging BEVs 5\n",
      "Charging BEV Liste vor Residual time Berechnung:  [28, 19, 20, 24, 30]\n",
      "Restladeenergie bis zur fairen Ladeenergie for BEV mit ID 28:  3.153038461538472\n"
     ]
    },
    {
     "name": "stdout",
     "output_type": "stream",
     "text": [
      "Restladeenergie bis zur fairen Ladeenergie for BEV mit ID 19:  4.317386721133798\n",
      "Restladeenergie bis zur fairen Ladeenergie for BEV mit ID 20:  5.006055391766727\n",
      "Restladeenergie bis zur fairen Ladeenergie for BEV mit ID 24:  8.053761770712514\n",
      "Restladeenergie bis zur fairen Ladeenergie for BEV mit ID 30:  7.89288620833002\n",
      "Charging BEVs:  [28, 19, 20, 24, 30]\n",
      "\n",
      "\n",
      "Minute:  765\n",
      "Charging BEVs after updating parking end:  [28, 19, 20, 24, 30]\n",
      "Waiting BEVs:  [34, 46, 48, 13, 14, 36, 37, 43, 15, 29, 38, 5, 7, 33, 6, 18, 22, 23, 27, 49]\n",
      "New calculated number of charging stations:  4\n",
      "Charging BEVs list before saving:  [28, 19, 20, 24, 30]\n",
      "Number of charging BEVs 5\n",
      "Number of charging BEVs 5\n",
      "Number of charging BEVs 5\n",
      "Number of charging BEVs 5\n",
      "Number of charging BEVs 5\n",
      "Charging BEV Liste vor Residual time Berechnung:  [28, 19, 20, 24, 30]\n",
      "Restladeenergie bis zur fairen Ladeenergie for BEV mit ID 28:  2.9407553846153958\n",
      "Restladeenergie bis zur fairen Ladeenergie for BEV mit ID 19:  3.8795745324551807\n",
      "Restladeenergie bis zur fairen Ladeenergie for BEV mit ID 20:  4.664602063338146\n",
      "Restladeenergie bis zur fairen Ladeenergie for BEV mit ID 24:  7.945966820992352\n",
      "Restladeenergie bis zur fairen Ladeenergie for BEV mit ID 30:  7.686099518755885\n",
      "Charging BEVs:  [28, 19, 20, 24, 30]\n",
      "\n",
      "\n",
      "Minute:  780\n",
      "Charging BEVs after updating parking end:  [28, 19, 20, 24, 30]\n",
      "Waiting BEVs:  [34, 46, 48, 13, 14, 36, 37, 43, 15, 29, 38, 5, 7, 33, 6, 18, 22, 23, 27, 49, 2, 3, 4, 16, 26, 35, 45]\n",
      "New calculated number of charging stations:  4\n",
      "Charging BEVs list before saving:  [28, 19, 20, 24, 30]\n",
      "Number of charging BEVs 5\n",
      "Number of charging BEVs 5\n",
      "Number of charging BEVs 5\n",
      "Number of charging BEVs 5\n",
      "Number of charging BEVs 5\n",
      "Charging BEV Liste vor Residual time Berechnung:  [28, 19, 20, 24, 30]\n",
      "Restladeenergie bis zur fairen Ladeenergie for BEV mit ID 28:  2.751807692307704\n",
      "Restladeenergie bis zur fairen Ladeenergie for BEV mit ID 19:  3.489889193830753\n",
      "Restladeenergie bis zur fairen Ladeenergie for BEV mit ID 20:  4.360683261272075\n",
      "Restladeenergie bis zur fairen Ladeenergie for BEV mit ID 24:  7.850021316116195\n",
      "Restladeenergie bis zur fairen Ladeenergie for BEV mit ID 30:  7.502044019083916\n",
      "Die Restparkzeit von BEV  28 endet vor dem nächsten Intervall\n",
      "Number of charging BEVs 5\n",
      "Ausgewähltes BEV das frei gewordenen Platz belegen darf:  34\n",
      "Ladestart für ausgewähltes BEV:  786\n",
      "Charging BEVs:  [28, 19, 20, 24, 30]\n",
      "\n",
      "\n",
      "Minute:  795\n",
      "Charging BEVs after updating parking end:  [19, 20, 24, 30, 34]\n",
      "Waiting BEVs:  [48, 13, 14, 36, 43, 15, 29, 38, 5, 7, 33, 6, 18, 22, 23, 27, 49, 2, 3, 4, 16, 26, 35, 45]\n",
      "New calculated number of charging stations:  4\n",
      "Charging BEVs list before saving:  [19, 20, 24, 30, 34]\n",
      "Number of charging BEVs 5\n",
      "Number of charging BEVs 5\n",
      "Number of charging BEVs 5\n",
      "Number of charging BEVs 5\n",
      "Number of charging BEVs 5\n",
      "Charging BEV Liste vor Residual time Berechnung:  [19, 20, 24, 30, 34]\n",
      "Restladeenergie bis zur fairen Ladeenergie for BEV mit ID 19:  3.116753805752386\n",
      "Restladeenergie bis zur fairen Ladeenergie for BEV mit ID 20:  4.069671901815897\n",
      "Restladeenergie bis zur fairen Ladeenergie for BEV mit ID 24:  7.758150620331965\n",
      "Restladeenergie bis zur fairen Ladeenergie for BEV mit ID 30:  7.32580536319687\n",
      "Restladeenergie bis zur fairen Ladeenergie for BEV mit ID 34:  7.505\n",
      "Die Restparkzeit von BEV  20 endet vor dem nächsten Intervall\n",
      "Number of charging BEVs 5\n",
      "Ausgewähltes BEV das frei gewordenen Platz belegen darf:  48\n",
      "Ladestart für ausgewähltes BEV:  798\n",
      "Charging BEVs:  [19, 20, 24, 30, 34]\n",
      "\n",
      "\n",
      "Minute:  810\n",
      "Charging BEVs after updating parking end:  [19, 24, 30, 34, 48]\n",
      "Waiting BEVs:  [13, 14, 36, 43, 15, 29, 38, 5, 7, 33, 6, 18, 22, 23, 27, 49, 2, 3, 4, 16, 26, 35, 45]\n",
      "New calculated number of charging stations:  4\n",
      "Charging BEVs list before saving:  [19, 24, 30, 34, 48]\n",
      "Number of charging BEVs 5\n",
      "Number of charging BEVs 5\n",
      "Number of charging BEVs 5\n",
      "Number of charging BEVs 5\n",
      "Number of charging BEVs 5\n",
      "Charging BEV Liste vor Residual time Berechnung:  [19, 24, 30, 34, 48]\n",
      "Restladeenergie bis zur fairen Ladeenergie for BEV mit ID 19:  2.728388401834086\n",
      "Restladeenergie bis zur fairen Ladeenergie for BEV mit ID 24:  7.662530100230012\n",
      "Restladeenergie bis zur fairen Ladeenergie for BEV mit ID 30:  7.142373292783821\n",
      "Restladeenergie bis zur fairen Ladeenergie for BEV mit ID 34:  6.3575\n",
      "Restladeenergie bis zur fairen Ladeenergie for BEV mit ID 48:  5.31\n",
      "Charging BEVs:  [19, 24, 30, 34, 48]\n",
      "\n",
      "\n",
      "Minute:  825\n",
      "Charging BEVs after updating parking end:  [19, 24, 30, 34, 48]\n",
      "Waiting BEVs:  [13, 14, 36, 43, 15, 29, 38, 5, 7, 33, 6, 18, 22, 23, 27, 49, 2, 3, 4, 16, 26, 35, 45]\n",
      "New calculated number of charging stations:  4\n",
      "Charging BEVs list before saving:  [19, 24, 30, 34, 48]\n",
      "Number of charging BEVs 5\n",
      "Number of charging BEVs 5\n",
      "Number of charging BEVs 5\n",
      "Number of charging BEVs 5\n",
      "Number of charging BEVs 5\n",
      "Charging BEV Liste vor Residual time Berechnung:  [19, 24, 30, 34, 48]\n",
      "Restladeenergie bis zur fairen Ladeenergie for BEV mit ID 19:  2.324792982075852\n",
      "Restladeenergie bis zur fairen Ladeenergie for BEV mit ID 24:  7.563159755810335\n",
      "Restladeenergie bis zur fairen Ladeenergie for BEV mit ID 30:  6.951747807844771\n",
      "Restladeenergie bis zur fairen Ladeenergie for BEV mit ID 34:  5.165\n",
      "Restladeenergie bis zur fairen Ladeenergie for BEV mit ID 48:  3.7199999999999998\n",
      "Charging BEVs:  [19, 24, 30, 34, 48]\n",
      "\n",
      "\n",
      "Minute:  840\n",
      "stop parking at interval_minute for  48\n",
      "Charging BEVs after updating parking end:  [19, 24, 30, 34]\n",
      "Waiting BEVs:  [13, 14, 36, 43, 15, 38, 5, 7, 33, 6, 18, 22, 23, 27, 49, 2, 3, 4, 16, 26, 35, 45]\n",
      "New calculated number of charging stations:  4\n",
      "Charging BEVs list before saving:  [19, 24, 30, 34]\n",
      "Number of charging BEVs 4\n",
      "Number of charging BEVs 4\n",
      "Number of charging BEVs 4\n",
      "Number of charging BEVs 4\n",
      "Charging BEV Liste vor Residual time Berechnung:  [19, 24, 30, 34]\n",
      "Restladeenergie bis zur fairen Ladeenergie for BEV mit ID 19:  1.9059675464776848\n",
      "Die Restladezeit des BEVS 19 endet vor dem nächsten Interval\n",
      "Restladezeit:  11.72903105524729\n",
      "Number of charging BEVs 4\n",
      "Ausgewähltes BEV das frei gewordenen Platz belegen darf:  13\n",
      "Ladestart für ausgewähltes BEV:  851.7290310552473\n",
      "Restladeenergie bis zur fairen Ladeenergie for BEV mit ID 24:  7.460039587072934\n",
      "Restladeenergie bis zur fairen Ladeenergie for BEV mit ID 30:  6.753928908379718\n",
      "Restladeenergie bis zur fairen Ladeenergie for BEV mit ID 34:  3.9275\n",
      "Charging BEVs:  [19, 24, 30, 34]\n",
      "\n",
      "\n",
      "Minute:  855\n",
      "Charging BEVs after updating parking end:  [24, 30, 34, 13]\n",
      "Waiting BEVs:  [14, 36, 43, 15, 38, 5, 7, 33, 6, 18, 22, 23, 27, 49, 2, 3, 4, 16, 26, 35, 45]\n",
      "New calculated number of charging stations:  3\n",
      "Charging BEVs list before saving:  [24, 30, 34, 13]\n",
      "Number of charging BEVs 4\n",
      "Number of charging BEVs 4\n",
      "Number of charging BEVs 4\n",
      "Number of charging BEVs 4\n",
      "Charging BEV Liste vor Residual time Berechnung:  [24, 30, 34, 13]\n",
      "Restladeenergie bis zur fairen Ladeenergie for BEV mit ID 24:  7.338170296746915\n",
      "Restladeenergie bis zur fairen Ladeenergie for BEV mit ID 30:  6.520142936284657\n",
      "Restladeenergie bis zur fairen Ladeenergie for BEV mit ID 34:  2.465\n",
      "Restladeenergie bis zur fairen Ladeenergie for BEV mit ID 13:  7.790967546477692\n",
      "Charging BEVs:  [24, 30, 34, 13]\n",
      "\n",
      "\n",
      "Minute:  870\n",
      "Charging BEVs after updating parking end:  [24, 30, 34, 13]\n",
      "Waiting BEVs:  [14, 36, 43, 15, 38, 5, 7, 33, 6, 18, 22, 23, 27, 49, 2, 3, 4, 16, 26, 35, 45]\n",
      "New calculated number of charging stations:  3\n",
      "Charging BEVs list before saving:  [24, 30, 34, 13]\n",
      "Number of charging BEVs 4\n",
      "Number of charging BEVs 4\n",
      "Number of charging BEVs 4\n",
      "Number of charging BEVs 4\n",
      "Charging BEV Liste vor Residual time Berechnung:  [24, 30, 34, 13]\n",
      "Restladeenergie bis zur fairen Ladeenergie for BEV mit ID 24:  7.235050128009514\n",
      "Restladeenergie bis zur fairen Ladeenergie for BEV mit ID 30:  6.322324036819604\n",
      "Restladeenergie bis zur fairen Ladeenergie for BEV mit ID 34:  1.2275\n",
      "Die Restladezeit des BEVS 34 endet vor dem nächsten Interval\n",
      "Restladezeit:  10.911111111111111\n",
      "Number of charging BEVs 4\n",
      "Ausgewähltes BEV das frei gewordenen Platz belegen darf:  14\n",
      "Ladestart für ausgewähltes BEV:  880.9111111111112\n",
      "Restladeenergie bis zur fairen Ladeenergie for BEV mit ID 13:  7.3412093165742\n",
      "Charging BEVs:  [24, 30, 34, 13]\n",
      "\n",
      "\n",
      "Minute:  885\n",
      "Charging BEVs after updating parking end:  [24, 30, 13, 14]\n",
      "Waiting BEVs:  [36, 43, 15, 38, 5, 7, 33, 6, 18, 22, 23, 27, 49, 2, 3, 4, 16, 26, 35, 45]\n",
      "New calculated number of charging stations:  2\n",
      "Charging BEVs list before saving:  [24, 30, 13, 14]\n",
      "Number of charging BEVs 4\n",
      "Number of charging BEVs 4\n",
      "Number of charging BEVs 4\n",
      "Number of charging BEVs 4\n",
      "Charging BEV Liste vor Residual time Berechnung:  [24, 30, 13, 14]\n",
      "Restladeenergie bis zur fairen Ladeenergie for BEV mit ID 24:  7.150679080860732\n",
      "Restladeenergie bis zur fairen Ladeenergie for BEV mit ID 30:  6.160472209984562\n"
     ]
    },
    {
     "name": "stdout",
     "output_type": "stream",
     "text": [
      "Restladeenergie bis zur fairen Ladeenergie for BEV mit ID 13:  6.973225310289525\n",
      "Restladeenergie bis zur fairen Ladeenergie for BEV mit ID 14:  7.862500000000004\n",
      "Charging BEVs:  [24, 30, 13, 14]\n",
      "\n",
      "\n",
      "Minute:  900\n",
      "Charging BEVs after updating parking end:  [24, 30, 13, 14]\n",
      "Waiting BEVs:  [38, 5, 7, 33, 6, 18, 22, 23, 27, 49, 2, 3, 4, 16, 26, 35, 45]\n",
      "New calculated number of charging stations:  2\n",
      "Charging BEVs list before saving:  [24, 30, 13, 14]\n",
      "Number of charging BEVs 4\n",
      "Number of charging BEVs 4\n",
      "Number of charging BEVs 4\n",
      "Number of charging BEVs 4\n",
      "Charging BEV Liste vor Residual time Berechnung:  [24, 30, 13, 14]\n",
      "Restladeenergie bis zur fairen Ladeenergie for BEV mit ID 24:  7.085057155300568\n",
      "Restladeenergie bis zur fairen Ladeenergie for BEV mit ID 30:  6.034587455779528\n",
      "Restladeenergie bis zur fairen Ladeenergie for BEV mit ID 13:  6.687015527623666\n",
      "Restladeenergie bis zur fairen Ladeenergie for BEV mit ID 14:  7.504722222222231\n",
      "Die Restparkzeit von BEV  30 endet vor dem nächsten Intervall\n",
      "Number of charging BEVs 4\n",
      "Ausgewähltes BEV das frei gewordenen Platz belegen darf:  38\n",
      "Ladestart für ausgewähltes BEV:  906\n",
      "Charging BEVs:  [24, 30, 13, 14]\n",
      "\n",
      "\n",
      "Minute:  915\n",
      "Charging BEVs after updating parking end:  [24, 13, 14, 38]\n",
      "Waiting BEVs:  [7, 33, 6, 18, 22, 23, 27, 49, 2, 3, 4, 16, 26, 35, 45]\n",
      "New calculated number of charging stations:  2\n",
      "Charging BEVs list before saving:  [24, 13, 14, 38]\n",
      "Number of charging BEVs 4\n",
      "Number of charging BEVs 4\n",
      "Number of charging BEVs 4\n",
      "Number of charging BEVs 4\n",
      "Charging BEV Liste vor Residual time Berechnung:  [24, 13, 14, 38]\n",
      "Restladeenergie bis zur fairen Ladeenergie for BEV mit ID 24:  7.032309626564588\n",
      "Restladeenergie bis zur fairen Ladeenergie for BEV mit ID 13:  6.456957378509395\n",
      "Restladeenergie bis zur fairen Ladeenergie for BEV mit ID 14:  7.217137037037048\n",
      "Restladeenergie bis zur fairen Ladeenergie for BEV mit ID 38:  7.239499999999999\n",
      "Charging BEVs:  [24, 13, 14, 38]\n",
      "\n",
      "\n",
      "Minute:  930\n",
      "stop parking at interval_minute for  24\n",
      "Charging BEVs after updating parking end:  [13, 14, 38]\n",
      "Waiting BEVs:  [7, 33, 6, 18, 22, 23, 27, 49, 2, 3, 4, 16, 26, 35, 45]\n",
      "New calculated number of charging stations:  2\n",
      "Charging BEVs list before saving:  [13, 14, 38]\n",
      "Number of charging BEVs 3\n",
      "Number of charging BEVs 3\n",
      "Number of charging BEVs 3\n",
      "Charging BEV Liste vor Residual time Berechnung:  [13, 14, 38]\n",
      "Restladeenergie bis zur fairen Ladeenergie for BEV mit ID 13:  6.257700853624879\n",
      "Restladeenergie bis zur fairen Ladeenergie for BEV mit ID 14:  6.968055555555569\n",
      "Restladeenergie bis zur fairen Ladeenergie for BEV mit ID 38:  6.691249999999998\n",
      "Charging BEVs:  [13, 14, 38]\n",
      "\n",
      "\n",
      "Minute:  945\n",
      "Charging BEVs after updating parking end:  [13, 14, 38]\n",
      "Waiting BEVs:  [7, 33, 6, 18, 22, 27, 49, 2, 3, 4, 16, 26, 35, 45]\n",
      "New calculated number of charging stations:  1\n",
      "Charging BEVs list before saving:  [13, 14, 38]\n",
      "Number of charging BEVs 3\n",
      "Number of charging BEVs 3\n",
      "Number of charging BEVs 3\n",
      "Charging BEV Liste vor Residual time Berechnung:  [13, 14, 38]\n",
      "Restladeenergie bis zur fairen Ladeenergie for BEV mit ID 13:  6.032730878424668\n",
      "Restladeenergie bis zur fairen Ladeenergie for BEV mit ID 14:  6.686830864197548\n",
      "Restladeenergie bis zur fairen Ladeenergie for BEV mit ID 38:  6.072249999999999\n",
      "Die Restparkzeit von BEV  14 endet vor dem nächsten Intervall\n",
      "Number of charging BEVs 3\n",
      "Ausgewähltes BEV das frei gewordenen Platz belegen darf:  7\n",
      "Ladestart für ausgewähltes BEV:  948\n",
      "Charging BEVs:  [13, 14, 38]\n",
      "\n",
      "\n",
      "Minute:  960\n",
      "Charging BEVs after updating parking end:  [13, 38, 7]\n",
      "Waiting BEVs:  [33, 6, 18, 22, 27, 49, 2, 3, 4, 16, 26, 35, 45]\n",
      "New calculated number of charging stations:  1\n",
      "Charging BEVs list before saving:  [13, 38, 7]\n",
      "Number of charging BEVs 3\n",
      "Number of charging BEVs 3\n",
      "Number of charging BEVs 3\n",
      "Charging BEV Liste vor Residual time Berechnung:  [13, 38, 7]\n",
      "Restladeenergie bis zur fairen Ladeenergie for BEV mit ID 13:  5.848829735530796\n",
      "Restladeenergie bis zur fairen Ladeenergie for BEV mit ID 38:  5.566249999999998\n",
      "Restladeenergie bis zur fairen Ladeenergie for BEV mit ID 7:  3.510333333333333\n",
      "Die Restparkzeit von BEV  13 endet vor dem nächsten Intervall\n",
      "Number of charging BEVs 3\n",
      "Ausgewähltes BEV das frei gewordenen Platz belegen darf:  33\n",
      "Ladestart für ausgewähltes BEV:  972\n",
      "Charging BEVs:  [13, 38, 7]\n"
     ]
    }
   ],
   "source": [
    "import distributionAlgorithmPolling\n",
    "import simulationClasses\n",
    "import simulationData\n",
    "import simulationOutputDataVisualisation\n",
    "import distributionAlgorithmForecast\n",
    "import distributionAlgorithmForecastPolling\n",
    "\n",
    "simulation_day = simulationClasses.SimulationDay(anzahl_bevs_pro_tag)\n",
    "bev_data = simulationData.BevData()\n",
    "table_dict = simulationData.TableDict()\n",
    "simulation_data = simulationData.SimulationData()\n",
    "\n",
    "# Auswahl des Algorithmus\n",
    "# algorithm = distributionAlgorithmPolling.Algorithm.POLLING_FIFO\n",
    "# algorithm = distributionAlgorithmPolling.Algorithm.POLLING_EVEN_DISTRIBUTION\n",
    "# distributionAlgorithmPolling.start_simulation(solarpeakleistung, maximale_ladezeit, ladeleistung_pro_bev, simulation_day, bev_data, table_dict, simulation_data, algorithm, minute_interval)\n",
    "\n",
    "#distributionAlgorithmForecast.start_algorithm(simulation_data, simulation_day, maximale_ladezeit, solarpeakleistung, \n",
    "  #                  bev_data, table_dict, ladeleistung_pro_bev, minute_interval)\n",
    "\n",
    "distributionAlgorithmForecastPolling.start_simulation(solarpeakleistung, ladeleistung_pro_bev,\n",
    "                     simulation_day, bev_data, table_dict, simulation_data, minute_interval)"
   ]
  },
  {
   "cell_type": "markdown",
   "metadata": {},
   "source": [
    "### Ergebnis Algorithmus"
   ]
  },
  {
   "cell_type": "code",
   "execution_count": 4,
   "metadata": {},
   "outputs": [
    {
     "data": {
      "text/markdown": [
       ">**Ergebnis**<br>Geladene BEVs: 24 von 50<br>Aufgeladene Solarenergie insgesamt: 114.22 kWh<br>Ungenutzte Solarenergie insgesamt: 0 kWh"
      ],
      "text/plain": [
       "<IPython.core.display.Markdown object>"
      ]
     },
     "execution_count": 4,
     "metadata": {},
     "output_type": "execute_result"
    }
   ],
   "source": [
    "simulationOutputDataVisualisation.print_algorithm_result(bev_data, simulation_data, anzahl_bevs_pro_tag)"
   ]
  },
  {
   "cell_type": "markdown",
   "metadata": {},
   "source": [
    "### Tabellarische Übersicht Park- und Ladeverlauf der BEVs"
   ]
  },
  {
   "cell_type": "code",
   "execution_count": 5,
   "metadata": {
    "pycharm": {
     "is_executing": true
    }
   },
   "outputs": [
    {
     "data": {
      "application/vnd.jupyter.widget-view+json": {
       "model_id": "5590bad0a58a49c1816defbccadf9025",
       "version_major": 2,
       "version_minor": 0
      },
      "text/plain": [
       "interactive(children=(IntSlider(value=480, description='Minute: ', max=960, min=480, step=15), Output()), _dom…"
      ]
     },
     "metadata": {},
     "output_type": "display_data"
    }
   ],
   "source": [
    "simulationOutputDataVisualisation.create_tabular_overview_per_minute_slider(table_dict, minute_interval)"
   ]
  },
  {
   "cell_type": "code",
   "execution_count": 6,
   "metadata": {},
   "outputs": [
    {
     "data": {
      "application/vnd.plotly.v1+json": {
       "config": {
        "plotlyServerURL": "https://plot.ly"
       },
       "data": [
        {
         "line": {
          "color": "orange"
         },
         "name": "Verfügbare Solarleistung",
         "type": "scatter",
         "x": [
          480,
          495,
          510,
          525,
          540,
          555,
          570,
          585,
          600,
          615,
          630,
          645,
          660,
          675,
          690,
          705,
          720,
          735,
          750,
          765,
          780,
          795,
          810,
          825,
          840,
          855,
          870,
          885,
          900,
          915,
          930,
          945,
          960
         ],
         "y": [
          -2,
          3.25,
          8.5,
          13.749999999999998,
          19,
          27,
          35,
          43,
          51,
          50.75,
          50.5,
          50.25,
          50,
          51.25,
          52.5,
          53.75,
          55,
          50.25,
          45.5,
          40.75,
          36,
          37.5,
          39,
          40.5,
          42,
          36,
          30,
          24,
          18,
          15.75,
          13.5,
          11.25,
          9
         ]
        },
        {
         "line": {
          "color": "green"
         },
         "mode": "lines",
         "name": "ID BEV 1",
         "type": "scatter",
         "x": [
          480,
          480,
          495,
          510,
          525,
          533.5347985347985,
          533.5347985347985
         ],
         "y": [
          0,
          -2,
          3.25,
          4.25,
          6.875,
          8.19,
          0
         ]
        },
        {
         "line": {
          "color": "green"
         },
         "mode": "lines",
         "name": "ID BEV 9",
         "type": "scatter",
         "x": [
          510,
          510,
          525,
          540,
          555,
          564.6725806451612,
          564.6725806451612
         ],
         "y": [
          0,
          8.5,
          13.75,
          6.333333333333333,
          9,
          10.333333333333334,
          0
         ]
        },
        {
         "line": {
          "color": "green"
         },
         "mode": "lines",
         "name": "ID BEV 10",
         "type": "scatter",
         "x": [
          533.5347985347985,
          533.5347985347985,
          540,
          555,
          570,
          585,
          600,
          615,
          626.3668387453449,
          626.3668387453449
         ],
         "y": [
          0,
          16.38,
          12.666666666666666,
          18,
          8.75,
          8.6,
          10.2,
          10.15,
          10.123999999999999,
          0
         ]
        },
        {
         "line": {
          "color": "green"
         },
         "mode": "lines",
         "name": "ID BEV 11",
         "type": "scatter",
         "x": [
          540,
          540,
          555,
          570,
          583.5230769230769,
          583.5230769230769
         ],
         "y": [
          0,
          19,
          27,
          17.5,
          9.75,
          0
         ]
        },
        {
         "line": {
          "color": "green"
         },
         "mode": "lines",
         "name": "ID BEV 21",
         "type": "scatter",
         "x": [
          564.6725806451612,
          564.6725806451612,
          570,
          585,
          600,
          615,
          630,
          645,
          660,
          670.0456516613347,
          670.0456516613347
         ],
         "y": [
          0,
          20.666666666666668,
          26.25,
          17.2,
          20.4,
          20.3,
          10.1,
          10.05,
          10,
          10.123999999999999,
          0
         ]
        },
        {
         "line": {
          "color": "green"
         },
         "mode": "lines",
         "name": "ID BEV 25",
         "type": "scatter",
         "x": [
          570,
          570,
          585,
          600,
          603.3313679245283,
          603.3313679245283
         ],
         "y": [
          0,
          35,
          25.799999999999997,
          30.599999999999998,
          10.176,
          0
         ]
        },
        {
         "line": {
          "color": "green"
         },
         "mode": "lines",
         "name": "ID BEV 28",
         "type": "scatter",
         "x": [
          583.5230769230769,
          583.5230769230769,
          585,
          600,
          615,
          630,
          645,
          660,
          675,
          690,
          705,
          720,
          735,
          750,
          765,
          780,
          786,
          786
         ],
         "y": [
          0,
          19.5,
          34.4,
          40.8,
          30.450000000000003,
          20.2,
          20.1,
          20,
          10.25,
          10.5,
          10.75,
          11,
          10.05,
          9.1,
          8.15,
          7.2,
          7.35,
          0
         ]
        },
        {
         "line": {
          "color": "green"
         },
         "mode": "lines",
         "name": "ID BEV 32",
         "type": "scatter",
         "x": [
          585,
          585,
          600,
          615,
          621.0657842749902,
          621.0657842749902
         ],
         "y": [
          0,
          43,
          51,
          40.6,
          10.123999999999999,
          0
         ]
        },
        {
         "line": {
          "color": "green"
         },
         "mode": "lines",
         "name": "ID BEV 42",
         "type": "scatter",
         "x": [
          603.3313679245283,
          603.3313679245283,
          615,
          630,
          640.0463248181743,
          640.0463248181743
         ],
         "y": [
          0,
          20.352,
          50.75,
          30.299999999999997,
          10.076,
          0
         ]
        },
        {
         "line": {
          "color": "green"
         },
         "mode": "lines",
         "name": "ID BEV 0",
         "type": "scatter",
         "x": [
          626.3668387453449,
          626.3668387453449,
          630,
          645,
          660,
          675,
          690,
          705,
          720,
          735,
          748.5613170947996,
          748.5613170947996
         ],
         "y": [
          0,
          20.247999999999998,
          40.4,
          30.150000000000002,
          30,
          20.5,
          21,
          21.5,
          22,
          20.1,
          9.576,
          0
         ]
        },
        {
         "line": {
          "color": "green"
         },
         "mode": "lines",
         "name": "ID BEV 8",
         "type": "scatter",
         "x": [
          621.0657842749902,
          621.0657842749902,
          630,
          645,
          660,
          671.9539968320133,
          671.9539968320133
         ],
         "y": [
          0,
          20.247999999999998,
          50.5,
          40.2,
          40,
          10.123999999999999,
          0
         ]
        },
        {
         "line": {
          "color": "green"
         },
         "mode": "lines",
         "name": "ID BEV 12",
         "type": "scatter",
         "x": [
          640.0463248181743,
          640.0463248181743,
          645,
          660,
          675,
          690,
          705,
          717.6243970656639,
          717.6243970656639
         ],
         "y": [
          0,
          20.152,
          50.25,
          50,
          30.75,
          31.5,
          32.25,
          10.876000000000001,
          0
         ]
        },
        {
         "line": {
          "color": "green"
         },
         "mode": "lines",
         "name": "ID BEV 17",
         "type": "scatter",
         "x": [
          670.0456516613347,
          670.0456516613347,
          675,
          690,
          705,
          720,
          734.2500351364553,
          734.2500351364553
         ],
         "y": [
          0,
          20.247999999999998,
          41,
          42,
          43,
          33,
          10.524,
          0
         ]
        },
        {
         "line": {
          "color": "green"
         },
         "mode": "lines",
         "name": "ID BEV 19",
         "type": "scatter",
         "x": [
          671.9539968320133,
          671.9539968320133,
          675,
          690,
          705,
          720,
          735,
          750,
          765,
          780,
          795,
          810,
          825,
          840,
          851.7290310552473,
          851.7290310552473
         ],
         "y": [
          0,
          20.247999999999998,
          51.25,
          52.5,
          53.75,
          44,
          30.150000000000002,
          18.2,
          16.3,
          14.4,
          7.5,
          7.8,
          8.1,
          10.5,
          9.75,
          0
         ]
        },
        {
         "line": {
          "color": "green"
         },
         "mode": "lines",
         "name": "ID BEV 20",
         "type": "scatter",
         "x": [
          717.6243970656639,
          717.6243970656639,
          720,
          735,
          750,
          765,
          780,
          795,
          798,
          798
         ],
         "y": [
          0,
          21.752000000000002,
          55,
          40.2,
          27.299999999999997,
          24.450000000000003,
          21.6,
          15,
          7.65,
          0
         ]
        },
        {
         "line": {
          "color": "green"
         },
         "mode": "lines",
         "name": "ID BEV 24",
         "type": "scatter",
         "x": [
          734.2500351364553,
          734.2500351364553,
          735,
          750,
          765,
          780,
          795,
          810,
          825,
          840,
          855,
          870,
          885,
          900,
          915,
          915
         ],
         "y": [
          0,
          21.048,
          50.25,
          36.4,
          32.6,
          28.8,
          22.5,
          15.6,
          16.2,
          21,
          9,
          7.5,
          6,
          4.5,
          3.9375,
          0
         ]
        },
        {
         "line": {
          "color": "green"
         },
         "mode": "lines",
         "name": "ID BEV 30",
         "type": "scatter",
         "x": [
          748.5613170947996,
          748.5613170947996,
          750,
          765,
          780,
          795,
          810,
          825,
          840,
          855,
          870,
          885,
          900,
          906,
          906
         ],
         "y": [
          0,
          19.152,
          45.5,
          40.75,
          36,
          30,
          23.4,
          24.299999999999997,
          31.5,
          18,
          15,
          12,
          9,
          4.22,
          0
         ]
        },
        {
         "line": {
          "color": "green"
         },
         "mode": "lines",
         "name": "ID BEV 34",
         "type": "scatter",
         "x": [
          786,
          786,
          795,
          810,
          825,
          840,
          855,
          870,
          880.9111111111112,
          880.9111111111112
         ],
         "y": [
          0,
          14.7,
          37.5,
          31.2,
          32.4,
          42,
          27,
          22.5,
          6.75,
          0
         ]
        },
        {
         "line": {
          "color": "green"
         },
         "mode": "lines",
         "name": "ID BEV 48",
         "type": "scatter",
         "x": [
          798,
          798,
          810,
          825,
          825
         ],
         "y": [
          0,
          15.3,
          39,
          40.5,
          0
         ]
        },
        {
         "line": {
          "color": "green"
         },
         "mode": "lines",
         "name": "ID BEV 13",
         "type": "scatter",
         "x": [
          851.7290310552473,
          851.7290310552473,
          855,
          870,
          885,
          900,
          915,
          930,
          945,
          960,
          972,
          972
         ],
         "y": [
          0,
          19.5,
          36,
          30,
          18,
          13.5,
          7.875,
          4.5,
          3.75,
          3,
          2.6266666666666665,
          0
         ]
        },
        {
         "line": {
          "color": "green"
         },
         "mode": "lines",
         "name": "ID BEV 14",
         "type": "scatter",
         "x": [
          880.9111111111112,
          880.9111111111112,
          885,
          900,
          915,
          930,
          945,
          948,
          948
         ],
         "y": [
          0,
          13.5,
          24,
          18,
          11.8125,
          9,
          7.5,
          3.373333333333333,
          0
         ]
        },
        {
         "line": {
          "color": "green"
         },
         "mode": "lines",
         "name": "ID BEV 38",
         "type": "scatter",
         "x": [
          906,
          906,
          915,
          930,
          945,
          960,
          960
         ],
         "y": [
          0,
          8.44,
          15.75,
          13.5,
          11.25,
          6,
          0
         ]
        },
        {
         "line": {
          "color": "green"
         },
         "mode": "lines",
         "name": "ID BEV 7",
         "type": "scatter",
         "x": [
          948,
          948,
          960,
          960
         ],
         "y": [
          0,
          6.746666666666666,
          9,
          0
         ]
        },
        {
         "line": {
          "color": "green"
         },
         "mode": "lines",
         "name": "ID BEV 33",
         "type": "scatter",
         "x": [
          972,
          972,
          972
         ],
         "y": [
          0,
          5.253333333333333,
          0
         ]
        }
       ],
       "layout": {
        "template": {
         "data": {
          "bar": [
           {
            "error_x": {
             "color": "#2a3f5f"
            },
            "error_y": {
             "color": "#2a3f5f"
            },
            "marker": {
             "line": {
              "color": "white",
              "width": 0.5
             },
             "pattern": {
              "fillmode": "overlay",
              "size": 10,
              "solidity": 0.2
             }
            },
            "type": "bar"
           }
          ],
          "barpolar": [
           {
            "marker": {
             "line": {
              "color": "white",
              "width": 0.5
             },
             "pattern": {
              "fillmode": "overlay",
              "size": 10,
              "solidity": 0.2
             }
            },
            "type": "barpolar"
           }
          ],
          "carpet": [
           {
            "aaxis": {
             "endlinecolor": "#2a3f5f",
             "gridcolor": "#C8D4E3",
             "linecolor": "#C8D4E3",
             "minorgridcolor": "#C8D4E3",
             "startlinecolor": "#2a3f5f"
            },
            "baxis": {
             "endlinecolor": "#2a3f5f",
             "gridcolor": "#C8D4E3",
             "linecolor": "#C8D4E3",
             "minorgridcolor": "#C8D4E3",
             "startlinecolor": "#2a3f5f"
            },
            "type": "carpet"
           }
          ],
          "choropleth": [
           {
            "colorbar": {
             "outlinewidth": 0,
             "ticks": ""
            },
            "type": "choropleth"
           }
          ],
          "contour": [
           {
            "colorbar": {
             "outlinewidth": 0,
             "ticks": ""
            },
            "colorscale": [
             [
              0,
              "#0d0887"
             ],
             [
              0.1111111111111111,
              "#46039f"
             ],
             [
              0.2222222222222222,
              "#7201a8"
             ],
             [
              0.3333333333333333,
              "#9c179e"
             ],
             [
              0.4444444444444444,
              "#bd3786"
             ],
             [
              0.5555555555555556,
              "#d8576b"
             ],
             [
              0.6666666666666666,
              "#ed7953"
             ],
             [
              0.7777777777777778,
              "#fb9f3a"
             ],
             [
              0.8888888888888888,
              "#fdca26"
             ],
             [
              1,
              "#f0f921"
             ]
            ],
            "type": "contour"
           }
          ],
          "contourcarpet": [
           {
            "colorbar": {
             "outlinewidth": 0,
             "ticks": ""
            },
            "type": "contourcarpet"
           }
          ],
          "heatmap": [
           {
            "colorbar": {
             "outlinewidth": 0,
             "ticks": ""
            },
            "colorscale": [
             [
              0,
              "#0d0887"
             ],
             [
              0.1111111111111111,
              "#46039f"
             ],
             [
              0.2222222222222222,
              "#7201a8"
             ],
             [
              0.3333333333333333,
              "#9c179e"
             ],
             [
              0.4444444444444444,
              "#bd3786"
             ],
             [
              0.5555555555555556,
              "#d8576b"
             ],
             [
              0.6666666666666666,
              "#ed7953"
             ],
             [
              0.7777777777777778,
              "#fb9f3a"
             ],
             [
              0.8888888888888888,
              "#fdca26"
             ],
             [
              1,
              "#f0f921"
             ]
            ],
            "type": "heatmap"
           }
          ],
          "heatmapgl": [
           {
            "colorbar": {
             "outlinewidth": 0,
             "ticks": ""
            },
            "colorscale": [
             [
              0,
              "#0d0887"
             ],
             [
              0.1111111111111111,
              "#46039f"
             ],
             [
              0.2222222222222222,
              "#7201a8"
             ],
             [
              0.3333333333333333,
              "#9c179e"
             ],
             [
              0.4444444444444444,
              "#bd3786"
             ],
             [
              0.5555555555555556,
              "#d8576b"
             ],
             [
              0.6666666666666666,
              "#ed7953"
             ],
             [
              0.7777777777777778,
              "#fb9f3a"
             ],
             [
              0.8888888888888888,
              "#fdca26"
             ],
             [
              1,
              "#f0f921"
             ]
            ],
            "type": "heatmapgl"
           }
          ],
          "histogram": [
           {
            "marker": {
             "pattern": {
              "fillmode": "overlay",
              "size": 10,
              "solidity": 0.2
             }
            },
            "type": "histogram"
           }
          ],
          "histogram2d": [
           {
            "colorbar": {
             "outlinewidth": 0,
             "ticks": ""
            },
            "colorscale": [
             [
              0,
              "#0d0887"
             ],
             [
              0.1111111111111111,
              "#46039f"
             ],
             [
              0.2222222222222222,
              "#7201a8"
             ],
             [
              0.3333333333333333,
              "#9c179e"
             ],
             [
              0.4444444444444444,
              "#bd3786"
             ],
             [
              0.5555555555555556,
              "#d8576b"
             ],
             [
              0.6666666666666666,
              "#ed7953"
             ],
             [
              0.7777777777777778,
              "#fb9f3a"
             ],
             [
              0.8888888888888888,
              "#fdca26"
             ],
             [
              1,
              "#f0f921"
             ]
            ],
            "type": "histogram2d"
           }
          ],
          "histogram2dcontour": [
           {
            "colorbar": {
             "outlinewidth": 0,
             "ticks": ""
            },
            "colorscale": [
             [
              0,
              "#0d0887"
             ],
             [
              0.1111111111111111,
              "#46039f"
             ],
             [
              0.2222222222222222,
              "#7201a8"
             ],
             [
              0.3333333333333333,
              "#9c179e"
             ],
             [
              0.4444444444444444,
              "#bd3786"
             ],
             [
              0.5555555555555556,
              "#d8576b"
             ],
             [
              0.6666666666666666,
              "#ed7953"
             ],
             [
              0.7777777777777778,
              "#fb9f3a"
             ],
             [
              0.8888888888888888,
              "#fdca26"
             ],
             [
              1,
              "#f0f921"
             ]
            ],
            "type": "histogram2dcontour"
           }
          ],
          "mesh3d": [
           {
            "colorbar": {
             "outlinewidth": 0,
             "ticks": ""
            },
            "type": "mesh3d"
           }
          ],
          "parcoords": [
           {
            "line": {
             "colorbar": {
              "outlinewidth": 0,
              "ticks": ""
             }
            },
            "type": "parcoords"
           }
          ],
          "pie": [
           {
            "automargin": true,
            "type": "pie"
           }
          ],
          "scatter": [
           {
            "marker": {
             "colorbar": {
              "outlinewidth": 0,
              "ticks": ""
             }
            },
            "type": "scatter"
           }
          ],
          "scatter3d": [
           {
            "line": {
             "colorbar": {
              "outlinewidth": 0,
              "ticks": ""
             }
            },
            "marker": {
             "colorbar": {
              "outlinewidth": 0,
              "ticks": ""
             }
            },
            "type": "scatter3d"
           }
          ],
          "scattercarpet": [
           {
            "marker": {
             "colorbar": {
              "outlinewidth": 0,
              "ticks": ""
             }
            },
            "type": "scattercarpet"
           }
          ],
          "scattergeo": [
           {
            "marker": {
             "colorbar": {
              "outlinewidth": 0,
              "ticks": ""
             }
            },
            "type": "scattergeo"
           }
          ],
          "scattergl": [
           {
            "marker": {
             "colorbar": {
              "outlinewidth": 0,
              "ticks": ""
             }
            },
            "type": "scattergl"
           }
          ],
          "scattermapbox": [
           {
            "marker": {
             "colorbar": {
              "outlinewidth": 0,
              "ticks": ""
             }
            },
            "type": "scattermapbox"
           }
          ],
          "scatterpolar": [
           {
            "marker": {
             "colorbar": {
              "outlinewidth": 0,
              "ticks": ""
             }
            },
            "type": "scatterpolar"
           }
          ],
          "scatterpolargl": [
           {
            "marker": {
             "colorbar": {
              "outlinewidth": 0,
              "ticks": ""
             }
            },
            "type": "scatterpolargl"
           }
          ],
          "scatterternary": [
           {
            "marker": {
             "colorbar": {
              "outlinewidth": 0,
              "ticks": ""
             }
            },
            "type": "scatterternary"
           }
          ],
          "surface": [
           {
            "colorbar": {
             "outlinewidth": 0,
             "ticks": ""
            },
            "colorscale": [
             [
              0,
              "#0d0887"
             ],
             [
              0.1111111111111111,
              "#46039f"
             ],
             [
              0.2222222222222222,
              "#7201a8"
             ],
             [
              0.3333333333333333,
              "#9c179e"
             ],
             [
              0.4444444444444444,
              "#bd3786"
             ],
             [
              0.5555555555555556,
              "#d8576b"
             ],
             [
              0.6666666666666666,
              "#ed7953"
             ],
             [
              0.7777777777777778,
              "#fb9f3a"
             ],
             [
              0.8888888888888888,
              "#fdca26"
             ],
             [
              1,
              "#f0f921"
             ]
            ],
            "type": "surface"
           }
          ],
          "table": [
           {
            "cells": {
             "fill": {
              "color": "#EBF0F8"
             },
             "line": {
              "color": "white"
             }
            },
            "header": {
             "fill": {
              "color": "#C8D4E3"
             },
             "line": {
              "color": "white"
             }
            },
            "type": "table"
           }
          ]
         },
         "layout": {
          "annotationdefaults": {
           "arrowcolor": "#2a3f5f",
           "arrowhead": 0,
           "arrowwidth": 1
          },
          "autotypenumbers": "strict",
          "coloraxis": {
           "colorbar": {
            "outlinewidth": 0,
            "ticks": ""
           }
          },
          "colorscale": {
           "diverging": [
            [
             0,
             "#8e0152"
            ],
            [
             0.1,
             "#c51b7d"
            ],
            [
             0.2,
             "#de77ae"
            ],
            [
             0.3,
             "#f1b6da"
            ],
            [
             0.4,
             "#fde0ef"
            ],
            [
             0.5,
             "#f7f7f7"
            ],
            [
             0.6,
             "#e6f5d0"
            ],
            [
             0.7,
             "#b8e186"
            ],
            [
             0.8,
             "#7fbc41"
            ],
            [
             0.9,
             "#4d9221"
            ],
            [
             1,
             "#276419"
            ]
           ],
           "sequential": [
            [
             0,
             "#0d0887"
            ],
            [
             0.1111111111111111,
             "#46039f"
            ],
            [
             0.2222222222222222,
             "#7201a8"
            ],
            [
             0.3333333333333333,
             "#9c179e"
            ],
            [
             0.4444444444444444,
             "#bd3786"
            ],
            [
             0.5555555555555556,
             "#d8576b"
            ],
            [
             0.6666666666666666,
             "#ed7953"
            ],
            [
             0.7777777777777778,
             "#fb9f3a"
            ],
            [
             0.8888888888888888,
             "#fdca26"
            ],
            [
             1,
             "#f0f921"
            ]
           ],
           "sequentialminus": [
            [
             0,
             "#0d0887"
            ],
            [
             0.1111111111111111,
             "#46039f"
            ],
            [
             0.2222222222222222,
             "#7201a8"
            ],
            [
             0.3333333333333333,
             "#9c179e"
            ],
            [
             0.4444444444444444,
             "#bd3786"
            ],
            [
             0.5555555555555556,
             "#d8576b"
            ],
            [
             0.6666666666666666,
             "#ed7953"
            ],
            [
             0.7777777777777778,
             "#fb9f3a"
            ],
            [
             0.8888888888888888,
             "#fdca26"
            ],
            [
             1,
             "#f0f921"
            ]
           ]
          },
          "colorway": [
           "#636efa",
           "#EF553B",
           "#00cc96",
           "#ab63fa",
           "#FFA15A",
           "#19d3f3",
           "#FF6692",
           "#B6E880",
           "#FF97FF",
           "#FECB52"
          ],
          "font": {
           "color": "#2a3f5f"
          },
          "geo": {
           "bgcolor": "white",
           "lakecolor": "white",
           "landcolor": "white",
           "showlakes": true,
           "showland": true,
           "subunitcolor": "#C8D4E3"
          },
          "hoverlabel": {
           "align": "left"
          },
          "hovermode": "closest",
          "mapbox": {
           "style": "light"
          },
          "paper_bgcolor": "white",
          "plot_bgcolor": "white",
          "polar": {
           "angularaxis": {
            "gridcolor": "#EBF0F8",
            "linecolor": "#EBF0F8",
            "ticks": ""
           },
           "bgcolor": "white",
           "radialaxis": {
            "gridcolor": "#EBF0F8",
            "linecolor": "#EBF0F8",
            "ticks": ""
           }
          },
          "scene": {
           "xaxis": {
            "backgroundcolor": "white",
            "gridcolor": "#DFE8F3",
            "gridwidth": 2,
            "linecolor": "#EBF0F8",
            "showbackground": true,
            "ticks": "",
            "zerolinecolor": "#EBF0F8"
           },
           "yaxis": {
            "backgroundcolor": "white",
            "gridcolor": "#DFE8F3",
            "gridwidth": 2,
            "linecolor": "#EBF0F8",
            "showbackground": true,
            "ticks": "",
            "zerolinecolor": "#EBF0F8"
           },
           "zaxis": {
            "backgroundcolor": "white",
            "gridcolor": "#DFE8F3",
            "gridwidth": 2,
            "linecolor": "#EBF0F8",
            "showbackground": true,
            "ticks": "",
            "zerolinecolor": "#EBF0F8"
           }
          },
          "shapedefaults": {
           "line": {
            "color": "#2a3f5f"
           }
          },
          "ternary": {
           "aaxis": {
            "gridcolor": "#DFE8F3",
            "linecolor": "#A2B1C6",
            "ticks": ""
           },
           "baxis": {
            "gridcolor": "#DFE8F3",
            "linecolor": "#A2B1C6",
            "ticks": ""
           },
           "bgcolor": "white",
           "caxis": {
            "gridcolor": "#DFE8F3",
            "linecolor": "#A2B1C6",
            "ticks": ""
           }
          },
          "title": {
           "x": 0.05
          },
          "xaxis": {
           "automargin": true,
           "gridcolor": "#EBF0F8",
           "linecolor": "#EBF0F8",
           "ticks": "",
           "title": {
            "standoff": 15
           },
           "zerolinecolor": "#EBF0F8",
           "zerolinewidth": 2
          },
          "yaxis": {
           "automargin": true,
           "gridcolor": "#EBF0F8",
           "linecolor": "#EBF0F8",
           "ticks": "",
           "title": {
            "standoff": 15
           },
           "zerolinecolor": "#EBF0F8",
           "zerolinewidth": 2
          }
         }
        },
        "title": {
         "font": {
          "size": 24
         },
         "text": "Ladeleistung pro Ladezeitraum eines BEVs",
         "x": 0.5,
         "xanchor": "center"
        },
        "xaxis": {
         "range": [
          480,
          960
         ],
         "showgrid": true,
         "title": {
          "text": "Minuten"
         }
        },
        "yaxis": {
         "range": [
          0,
          60
         ],
         "title": {
          "text": "Energie in kW"
         }
        }
       }
      },
      "text/html": [
       "<div>                            <div id=\"8aa2a0aa-0ee9-4483-8f44-37382665846f\" class=\"plotly-graph-div\" style=\"height:525px; width:100%;\"></div>            <script type=\"text/javascript\">                require([\"plotly\"], function(Plotly) {                    window.PLOTLYENV=window.PLOTLYENV || {};                                    if (document.getElementById(\"8aa2a0aa-0ee9-4483-8f44-37382665846f\")) {                    Plotly.newPlot(                        \"8aa2a0aa-0ee9-4483-8f44-37382665846f\",                        [{\"line\":{\"color\":\"orange\"},\"name\":\"Verf\\u00fcgbare Solarleistung\",\"x\":[480,495,510,525,540,555,570,585,600,615,630,645,660,675,690,705,720,735,750,765,780,795,810,825,840,855,870,885,900,915,930,945,960],\"y\":[-2.0,3.25,8.5,13.749999999999998,19.0,27.0,35.0,43.0,51.0,50.75,50.5,50.25,50.0,51.25,52.5,53.75,55.0,50.25,45.5,40.75,36.0,37.5,39.0,40.5,42.0,36.0,30.0,24.0,18.0,15.75,13.5,11.25,9.0],\"type\":\"scatter\"},{\"line\":{\"color\":\"green\"},\"mode\":\"lines\",\"name\":\"ID BEV 1\",\"x\":[480.0,480.0,495.0,510.0,525.0,533.5347985347985,533.5347985347985],\"y\":[0.0,-2.0,3.25,4.25,6.875,8.19,0.0],\"type\":\"scatter\"},{\"line\":{\"color\":\"green\"},\"mode\":\"lines\",\"name\":\"ID BEV 9\",\"x\":[510.0,510.0,525.0,540.0,555.0,564.6725806451612,564.6725806451612],\"y\":[0.0,8.5,13.75,6.333333333333333,9.0,10.333333333333334,0.0],\"type\":\"scatter\"},{\"line\":{\"color\":\"green\"},\"mode\":\"lines\",\"name\":\"ID BEV 10\",\"x\":[533.5347985347985,533.5347985347985,540.0,555.0,570.0,585.0,600.0,615.0,626.3668387453449,626.3668387453449],\"y\":[0.0,16.38,12.666666666666666,18.0,8.75,8.6,10.2,10.15,10.123999999999999,0.0],\"type\":\"scatter\"},{\"line\":{\"color\":\"green\"},\"mode\":\"lines\",\"name\":\"ID BEV 11\",\"x\":[540.0,540.0,555.0,570.0,583.5230769230769,583.5230769230769],\"y\":[0.0,19.0,27.0,17.5,9.75,0.0],\"type\":\"scatter\"},{\"line\":{\"color\":\"green\"},\"mode\":\"lines\",\"name\":\"ID BEV 21\",\"x\":[564.6725806451612,564.6725806451612,570.0,585.0,600.0,615.0,630.0,645.0,660.0,670.0456516613347,670.0456516613347],\"y\":[0.0,20.666666666666668,26.25,17.2,20.4,20.3,10.1,10.05,10.0,10.123999999999999,0.0],\"type\":\"scatter\"},{\"line\":{\"color\":\"green\"},\"mode\":\"lines\",\"name\":\"ID BEV 25\",\"x\":[570.0,570.0,585.0,600.0,603.3313679245283,603.3313679245283],\"y\":[0.0,35.0,25.799999999999997,30.599999999999998,10.176,0.0],\"type\":\"scatter\"},{\"line\":{\"color\":\"green\"},\"mode\":\"lines\",\"name\":\"ID BEV 28\",\"x\":[583.5230769230769,583.5230769230769,585.0,600.0,615.0,630.0,645.0,660.0,675.0,690.0,705.0,720.0,735.0,750.0,765.0,780.0,786.0,786.0],\"y\":[0.0,19.5,34.4,40.8,30.450000000000003,20.2,20.1,20.0,10.25,10.5,10.75,11.0,10.05,9.1,8.15,7.2,7.35,0.0],\"type\":\"scatter\"},{\"line\":{\"color\":\"green\"},\"mode\":\"lines\",\"name\":\"ID BEV 32\",\"x\":[585.0,585.0,600.0,615.0,621.0657842749902,621.0657842749902],\"y\":[0.0,43.0,51.0,40.6,10.123999999999999,0.0],\"type\":\"scatter\"},{\"line\":{\"color\":\"green\"},\"mode\":\"lines\",\"name\":\"ID BEV 42\",\"x\":[603.3313679245283,603.3313679245283,615.0,630.0,640.0463248181743,640.0463248181743],\"y\":[0.0,20.352,50.75,30.299999999999997,10.076,0.0],\"type\":\"scatter\"},{\"line\":{\"color\":\"green\"},\"mode\":\"lines\",\"name\":\"ID BEV 0\",\"x\":[626.3668387453449,626.3668387453449,630.0,645.0,660.0,675.0,690.0,705.0,720.0,735.0,748.5613170947996,748.5613170947996],\"y\":[0.0,20.247999999999998,40.4,30.150000000000002,30.0,20.5,21.0,21.5,22.0,20.1,9.576,0.0],\"type\":\"scatter\"},{\"line\":{\"color\":\"green\"},\"mode\":\"lines\",\"name\":\"ID BEV 8\",\"x\":[621.0657842749902,621.0657842749902,630.0,645.0,660.0,671.9539968320133,671.9539968320133],\"y\":[0.0,20.247999999999998,50.5,40.2,40.0,10.123999999999999,0.0],\"type\":\"scatter\"},{\"line\":{\"color\":\"green\"},\"mode\":\"lines\",\"name\":\"ID BEV 12\",\"x\":[640.0463248181743,640.0463248181743,645.0,660.0,675.0,690.0,705.0,717.6243970656639,717.6243970656639],\"y\":[0.0,20.152,50.25,50.0,30.75,31.5,32.25,10.876000000000001,0.0],\"type\":\"scatter\"},{\"line\":{\"color\":\"green\"},\"mode\":\"lines\",\"name\":\"ID BEV 17\",\"x\":[670.0456516613347,670.0456516613347,675.0,690.0,705.0,720.0,734.2500351364553,734.2500351364553],\"y\":[0.0,20.247999999999998,41.0,42.0,43.0,33.0,10.524,0.0],\"type\":\"scatter\"},{\"line\":{\"color\":\"green\"},\"mode\":\"lines\",\"name\":\"ID BEV 19\",\"x\":[671.9539968320133,671.9539968320133,675.0,690.0,705.0,720.0,735.0,750.0,765.0,780.0,795.0,810.0,825.0,840.0,851.7290310552473,851.7290310552473],\"y\":[0.0,20.247999999999998,51.25,52.5,53.75,44.0,30.150000000000002,18.2,16.3,14.4,7.5,7.8,8.1,10.5,9.75,0.0],\"type\":\"scatter\"},{\"line\":{\"color\":\"green\"},\"mode\":\"lines\",\"name\":\"ID BEV 20\",\"x\":[717.6243970656639,717.6243970656639,720.0,735.0,750.0,765.0,780.0,795.0,798.0,798.0],\"y\":[0.0,21.752000000000002,55.0,40.2,27.299999999999997,24.450000000000003,21.6,15.0,7.65,0.0],\"type\":\"scatter\"},{\"line\":{\"color\":\"green\"},\"mode\":\"lines\",\"name\":\"ID BEV 24\",\"x\":[734.2500351364553,734.2500351364553,735.0,750.0,765.0,780.0,795.0,810.0,825.0,840.0,855.0,870.0,885.0,900.0,915.0,915.0],\"y\":[0.0,21.048,50.25,36.4,32.6,28.8,22.5,15.6,16.2,21.0,9.0,7.5,6.0,4.5,3.9375,0.0],\"type\":\"scatter\"},{\"line\":{\"color\":\"green\"},\"mode\":\"lines\",\"name\":\"ID BEV 30\",\"x\":[748.5613170947996,748.5613170947996,750.0,765.0,780.0,795.0,810.0,825.0,840.0,855.0,870.0,885.0,900.0,906.0,906.0],\"y\":[0.0,19.152,45.5,40.75,36.0,30.0,23.4,24.299999999999997,31.5,18.0,15.0,12.0,9.0,4.22,0.0],\"type\":\"scatter\"},{\"line\":{\"color\":\"green\"},\"mode\":\"lines\",\"name\":\"ID BEV 34\",\"x\":[786.0,786.0,795.0,810.0,825.0,840.0,855.0,870.0,880.9111111111112,880.9111111111112],\"y\":[0.0,14.7,37.5,31.2,32.4,42.0,27.0,22.5,6.75,0.0],\"type\":\"scatter\"},{\"line\":{\"color\":\"green\"},\"mode\":\"lines\",\"name\":\"ID BEV 48\",\"x\":[798,798,810,825,825],\"y\":[0.0,15.3,39.0,40.5,0.0],\"type\":\"scatter\"},{\"line\":{\"color\":\"green\"},\"mode\":\"lines\",\"name\":\"ID BEV 13\",\"x\":[851.7290310552473,851.7290310552473,855.0,870.0,885.0,900.0,915.0,930.0,945.0,960.0,972.0,972.0],\"y\":[0.0,19.5,36.0,30.0,18.0,13.5,7.875,4.5,3.75,3.0,2.6266666666666665,0.0],\"type\":\"scatter\"},{\"line\":{\"color\":\"green\"},\"mode\":\"lines\",\"name\":\"ID BEV 14\",\"x\":[880.9111111111112,880.9111111111112,885.0,900.0,915.0,930.0,945.0,948.0,948.0],\"y\":[0.0,13.5,24.0,18.0,11.8125,9.0,7.5,3.373333333333333,0.0],\"type\":\"scatter\"},{\"line\":{\"color\":\"green\"},\"mode\":\"lines\",\"name\":\"ID BEV 38\",\"x\":[906,906,915,930,945,960,960],\"y\":[0.0,8.44,15.75,13.5,11.25,6.0,0.0],\"type\":\"scatter\"},{\"line\":{\"color\":\"green\"},\"mode\":\"lines\",\"name\":\"ID BEV 7\",\"x\":[948,948,960,960],\"y\":[0.0,6.746666666666666,9.0,0.0],\"type\":\"scatter\"},{\"line\":{\"color\":\"green\"},\"mode\":\"lines\",\"name\":\"ID BEV 33\",\"x\":[972,972,972],\"y\":[0.0,5.253333333333333,0.0],\"type\":\"scatter\"}],                        {\"template\":{\"data\":{\"barpolar\":[{\"marker\":{\"line\":{\"color\":\"white\",\"width\":0.5},\"pattern\":{\"fillmode\":\"overlay\",\"size\":10,\"solidity\":0.2}},\"type\":\"barpolar\"}],\"bar\":[{\"error_x\":{\"color\":\"#2a3f5f\"},\"error_y\":{\"color\":\"#2a3f5f\"},\"marker\":{\"line\":{\"color\":\"white\",\"width\":0.5},\"pattern\":{\"fillmode\":\"overlay\",\"size\":10,\"solidity\":0.2}},\"type\":\"bar\"}],\"carpet\":[{\"aaxis\":{\"endlinecolor\":\"#2a3f5f\",\"gridcolor\":\"#C8D4E3\",\"linecolor\":\"#C8D4E3\",\"minorgridcolor\":\"#C8D4E3\",\"startlinecolor\":\"#2a3f5f\"},\"baxis\":{\"endlinecolor\":\"#2a3f5f\",\"gridcolor\":\"#C8D4E3\",\"linecolor\":\"#C8D4E3\",\"minorgridcolor\":\"#C8D4E3\",\"startlinecolor\":\"#2a3f5f\"},\"type\":\"carpet\"}],\"choropleth\":[{\"colorbar\":{\"outlinewidth\":0,\"ticks\":\"\"},\"type\":\"choropleth\"}],\"contourcarpet\":[{\"colorbar\":{\"outlinewidth\":0,\"ticks\":\"\"},\"type\":\"contourcarpet\"}],\"contour\":[{\"colorbar\":{\"outlinewidth\":0,\"ticks\":\"\"},\"colorscale\":[[0.0,\"#0d0887\"],[0.1111111111111111,\"#46039f\"],[0.2222222222222222,\"#7201a8\"],[0.3333333333333333,\"#9c179e\"],[0.4444444444444444,\"#bd3786\"],[0.5555555555555556,\"#d8576b\"],[0.6666666666666666,\"#ed7953\"],[0.7777777777777778,\"#fb9f3a\"],[0.8888888888888888,\"#fdca26\"],[1.0,\"#f0f921\"]],\"type\":\"contour\"}],\"heatmapgl\":[{\"colorbar\":{\"outlinewidth\":0,\"ticks\":\"\"},\"colorscale\":[[0.0,\"#0d0887\"],[0.1111111111111111,\"#46039f\"],[0.2222222222222222,\"#7201a8\"],[0.3333333333333333,\"#9c179e\"],[0.4444444444444444,\"#bd3786\"],[0.5555555555555556,\"#d8576b\"],[0.6666666666666666,\"#ed7953\"],[0.7777777777777778,\"#fb9f3a\"],[0.8888888888888888,\"#fdca26\"],[1.0,\"#f0f921\"]],\"type\":\"heatmapgl\"}],\"heatmap\":[{\"colorbar\":{\"outlinewidth\":0,\"ticks\":\"\"},\"colorscale\":[[0.0,\"#0d0887\"],[0.1111111111111111,\"#46039f\"],[0.2222222222222222,\"#7201a8\"],[0.3333333333333333,\"#9c179e\"],[0.4444444444444444,\"#bd3786\"],[0.5555555555555556,\"#d8576b\"],[0.6666666666666666,\"#ed7953\"],[0.7777777777777778,\"#fb9f3a\"],[0.8888888888888888,\"#fdca26\"],[1.0,\"#f0f921\"]],\"type\":\"heatmap\"}],\"histogram2dcontour\":[{\"colorbar\":{\"outlinewidth\":0,\"ticks\":\"\"},\"colorscale\":[[0.0,\"#0d0887\"],[0.1111111111111111,\"#46039f\"],[0.2222222222222222,\"#7201a8\"],[0.3333333333333333,\"#9c179e\"],[0.4444444444444444,\"#bd3786\"],[0.5555555555555556,\"#d8576b\"],[0.6666666666666666,\"#ed7953\"],[0.7777777777777778,\"#fb9f3a\"],[0.8888888888888888,\"#fdca26\"],[1.0,\"#f0f921\"]],\"type\":\"histogram2dcontour\"}],\"histogram2d\":[{\"colorbar\":{\"outlinewidth\":0,\"ticks\":\"\"},\"colorscale\":[[0.0,\"#0d0887\"],[0.1111111111111111,\"#46039f\"],[0.2222222222222222,\"#7201a8\"],[0.3333333333333333,\"#9c179e\"],[0.4444444444444444,\"#bd3786\"],[0.5555555555555556,\"#d8576b\"],[0.6666666666666666,\"#ed7953\"],[0.7777777777777778,\"#fb9f3a\"],[0.8888888888888888,\"#fdca26\"],[1.0,\"#f0f921\"]],\"type\":\"histogram2d\"}],\"histogram\":[{\"marker\":{\"pattern\":{\"fillmode\":\"overlay\",\"size\":10,\"solidity\":0.2}},\"type\":\"histogram\"}],\"mesh3d\":[{\"colorbar\":{\"outlinewidth\":0,\"ticks\":\"\"},\"type\":\"mesh3d\"}],\"parcoords\":[{\"line\":{\"colorbar\":{\"outlinewidth\":0,\"ticks\":\"\"}},\"type\":\"parcoords\"}],\"pie\":[{\"automargin\":true,\"type\":\"pie\"}],\"scatter3d\":[{\"line\":{\"colorbar\":{\"outlinewidth\":0,\"ticks\":\"\"}},\"marker\":{\"colorbar\":{\"outlinewidth\":0,\"ticks\":\"\"}},\"type\":\"scatter3d\"}],\"scattercarpet\":[{\"marker\":{\"colorbar\":{\"outlinewidth\":0,\"ticks\":\"\"}},\"type\":\"scattercarpet\"}],\"scattergeo\":[{\"marker\":{\"colorbar\":{\"outlinewidth\":0,\"ticks\":\"\"}},\"type\":\"scattergeo\"}],\"scattergl\":[{\"marker\":{\"colorbar\":{\"outlinewidth\":0,\"ticks\":\"\"}},\"type\":\"scattergl\"}],\"scattermapbox\":[{\"marker\":{\"colorbar\":{\"outlinewidth\":0,\"ticks\":\"\"}},\"type\":\"scattermapbox\"}],\"scatterpolargl\":[{\"marker\":{\"colorbar\":{\"outlinewidth\":0,\"ticks\":\"\"}},\"type\":\"scatterpolargl\"}],\"scatterpolar\":[{\"marker\":{\"colorbar\":{\"outlinewidth\":0,\"ticks\":\"\"}},\"type\":\"scatterpolar\"}],\"scatter\":[{\"marker\":{\"colorbar\":{\"outlinewidth\":0,\"ticks\":\"\"}},\"type\":\"scatter\"}],\"scatterternary\":[{\"marker\":{\"colorbar\":{\"outlinewidth\":0,\"ticks\":\"\"}},\"type\":\"scatterternary\"}],\"surface\":[{\"colorbar\":{\"outlinewidth\":0,\"ticks\":\"\"},\"colorscale\":[[0.0,\"#0d0887\"],[0.1111111111111111,\"#46039f\"],[0.2222222222222222,\"#7201a8\"],[0.3333333333333333,\"#9c179e\"],[0.4444444444444444,\"#bd3786\"],[0.5555555555555556,\"#d8576b\"],[0.6666666666666666,\"#ed7953\"],[0.7777777777777778,\"#fb9f3a\"],[0.8888888888888888,\"#fdca26\"],[1.0,\"#f0f921\"]],\"type\":\"surface\"}],\"table\":[{\"cells\":{\"fill\":{\"color\":\"#EBF0F8\"},\"line\":{\"color\":\"white\"}},\"header\":{\"fill\":{\"color\":\"#C8D4E3\"},\"line\":{\"color\":\"white\"}},\"type\":\"table\"}]},\"layout\":{\"annotationdefaults\":{\"arrowcolor\":\"#2a3f5f\",\"arrowhead\":0,\"arrowwidth\":1},\"autotypenumbers\":\"strict\",\"coloraxis\":{\"colorbar\":{\"outlinewidth\":0,\"ticks\":\"\"}},\"colorscale\":{\"diverging\":[[0,\"#8e0152\"],[0.1,\"#c51b7d\"],[0.2,\"#de77ae\"],[0.3,\"#f1b6da\"],[0.4,\"#fde0ef\"],[0.5,\"#f7f7f7\"],[0.6,\"#e6f5d0\"],[0.7,\"#b8e186\"],[0.8,\"#7fbc41\"],[0.9,\"#4d9221\"],[1,\"#276419\"]],\"sequential\":[[0.0,\"#0d0887\"],[0.1111111111111111,\"#46039f\"],[0.2222222222222222,\"#7201a8\"],[0.3333333333333333,\"#9c179e\"],[0.4444444444444444,\"#bd3786\"],[0.5555555555555556,\"#d8576b\"],[0.6666666666666666,\"#ed7953\"],[0.7777777777777778,\"#fb9f3a\"],[0.8888888888888888,\"#fdca26\"],[1.0,\"#f0f921\"]],\"sequentialminus\":[[0.0,\"#0d0887\"],[0.1111111111111111,\"#46039f\"],[0.2222222222222222,\"#7201a8\"],[0.3333333333333333,\"#9c179e\"],[0.4444444444444444,\"#bd3786\"],[0.5555555555555556,\"#d8576b\"],[0.6666666666666666,\"#ed7953\"],[0.7777777777777778,\"#fb9f3a\"],[0.8888888888888888,\"#fdca26\"],[1.0,\"#f0f921\"]]},\"colorway\":[\"#636efa\",\"#EF553B\",\"#00cc96\",\"#ab63fa\",\"#FFA15A\",\"#19d3f3\",\"#FF6692\",\"#B6E880\",\"#FF97FF\",\"#FECB52\"],\"font\":{\"color\":\"#2a3f5f\"},\"geo\":{\"bgcolor\":\"white\",\"lakecolor\":\"white\",\"landcolor\":\"white\",\"showlakes\":true,\"showland\":true,\"subunitcolor\":\"#C8D4E3\"},\"hoverlabel\":{\"align\":\"left\"},\"hovermode\":\"closest\",\"mapbox\":{\"style\":\"light\"},\"paper_bgcolor\":\"white\",\"plot_bgcolor\":\"white\",\"polar\":{\"angularaxis\":{\"gridcolor\":\"#EBF0F8\",\"linecolor\":\"#EBF0F8\",\"ticks\":\"\"},\"bgcolor\":\"white\",\"radialaxis\":{\"gridcolor\":\"#EBF0F8\",\"linecolor\":\"#EBF0F8\",\"ticks\":\"\"}},\"scene\":{\"xaxis\":{\"backgroundcolor\":\"white\",\"gridcolor\":\"#DFE8F3\",\"gridwidth\":2,\"linecolor\":\"#EBF0F8\",\"showbackground\":true,\"ticks\":\"\",\"zerolinecolor\":\"#EBF0F8\"},\"yaxis\":{\"backgroundcolor\":\"white\",\"gridcolor\":\"#DFE8F3\",\"gridwidth\":2,\"linecolor\":\"#EBF0F8\",\"showbackground\":true,\"ticks\":\"\",\"zerolinecolor\":\"#EBF0F8\"},\"zaxis\":{\"backgroundcolor\":\"white\",\"gridcolor\":\"#DFE8F3\",\"gridwidth\":2,\"linecolor\":\"#EBF0F8\",\"showbackground\":true,\"ticks\":\"\",\"zerolinecolor\":\"#EBF0F8\"}},\"shapedefaults\":{\"line\":{\"color\":\"#2a3f5f\"}},\"ternary\":{\"aaxis\":{\"gridcolor\":\"#DFE8F3\",\"linecolor\":\"#A2B1C6\",\"ticks\":\"\"},\"baxis\":{\"gridcolor\":\"#DFE8F3\",\"linecolor\":\"#A2B1C6\",\"ticks\":\"\"},\"bgcolor\":\"white\",\"caxis\":{\"gridcolor\":\"#DFE8F3\",\"linecolor\":\"#A2B1C6\",\"ticks\":\"\"}},\"title\":{\"x\":0.05},\"xaxis\":{\"automargin\":true,\"gridcolor\":\"#EBF0F8\",\"linecolor\":\"#EBF0F8\",\"ticks\":\"\",\"title\":{\"standoff\":15},\"zerolinecolor\":\"#EBF0F8\",\"zerolinewidth\":2},\"yaxis\":{\"automargin\":true,\"gridcolor\":\"#EBF0F8\",\"linecolor\":\"#EBF0F8\",\"ticks\":\"\",\"title\":{\"standoff\":15},\"zerolinecolor\":\"#EBF0F8\",\"zerolinewidth\":2}}},\"xaxis\":{\"range\":[480,960],\"showgrid\":true,\"title\":{\"text\":\"Minuten\"}},\"yaxis\":{\"range\":[0,60],\"title\":{\"text\":\"Energie in kW\"}},\"title\":{\"font\":{\"size\":24},\"text\":\"Ladeleistung pro Ladezeitraum eines BEVs\",\"x\":0.5,\"xanchor\":\"center\"}},                        {\"responsive\": true}                    ).then(function(){\n",
       "                            \n",
       "var gd = document.getElementById('8aa2a0aa-0ee9-4483-8f44-37382665846f');\n",
       "var x = new MutationObserver(function (mutations, observer) {{\n",
       "        var display = window.getComputedStyle(gd).display;\n",
       "        if (!display || display === 'none') {{\n",
       "            console.log([gd, 'removed!']);\n",
       "            Plotly.purge(gd);\n",
       "            observer.disconnect();\n",
       "        }}\n",
       "}});\n",
       "\n",
       "// Listen for the removal of the full notebook cells\n",
       "var notebookContainer = gd.closest('#notebook-container');\n",
       "if (notebookContainer) {{\n",
       "    x.observe(notebookContainer, {childList: true});\n",
       "}}\n",
       "\n",
       "// Listen for the clearing of the current output cell\n",
       "var outputEl = gd.closest('.output');\n",
       "if (outputEl) {{\n",
       "    x.observe(outputEl, {childList: true});\n",
       "}}\n",
       "\n",
       "                        })                };                });            </script>        </div>"
      ]
     },
     "metadata": {},
     "output_type": "display_data"
    }
   ],
   "source": [
    "import figureGeneration\n",
    "\n",
    "figureGeneration.create_charging_power_figure(simulation_day, solarpeakleistung, bev_data, minute_interval)"
   ]
  },
  {
   "cell_type": "code",
   "execution_count": 7,
   "metadata": {},
   "outputs": [
    {
     "data": {
      "application/vnd.plotly.v1+json": {
       "config": {
        "plotlyServerURL": "https://plot.ly"
       },
       "data": [
        {
         "line": {
          "color": "red"
         },
         "name": "Wartende BEVs",
         "type": "scatter",
         "x": [
          480,
          495,
          510,
          525,
          540,
          555,
          570,
          585,
          600,
          615,
          630,
          645,
          660,
          675,
          690,
          705,
          720,
          735,
          750,
          765,
          780,
          795,
          810,
          825,
          840,
          855,
          870,
          885,
          900,
          915,
          930,
          945,
          960
         ],
         "y": [
          9,
          8,
          23,
          22,
          27,
          26,
          29,
          27,
          26,
          25,
          23,
          22,
          22,
          20,
          20,
          19,
          20,
          18,
          23,
          20,
          27,
          24,
          23,
          23,
          22,
          21,
          21,
          20,
          17,
          15,
          15,
          14,
          13
         ]
        },
        {
         "line": {
          "color": "blue"
         },
         "name": "Ladende BEVs",
         "type": "scatter",
         "x": [
          480,
          495,
          510,
          525,
          540,
          555,
          570,
          585,
          600,
          615,
          630,
          645,
          660,
          675,
          690,
          705,
          720,
          735,
          750,
          765,
          780,
          795,
          810,
          825,
          840,
          855,
          870,
          885,
          900,
          915,
          930,
          945,
          960
         ],
         "y": [
          1,
          1,
          2,
          2,
          3,
          3,
          4,
          5,
          5,
          5,
          5,
          5,
          5,
          5,
          5,
          5,
          5,
          5,
          5,
          5,
          5,
          5,
          5,
          5,
          4,
          4,
          4,
          4,
          4,
          4,
          3,
          3,
          3
         ]
        }
       ],
       "layout": {
        "legend": {
         "tracegroupgap": 0
        },
        "margin": {
         "t": 60
        },
        "template": {
         "data": {
          "bar": [
           {
            "error_x": {
             "color": "#2a3f5f"
            },
            "error_y": {
             "color": "#2a3f5f"
            },
            "marker": {
             "line": {
              "color": "white",
              "width": 0.5
             },
             "pattern": {
              "fillmode": "overlay",
              "size": 10,
              "solidity": 0.2
             }
            },
            "type": "bar"
           }
          ],
          "barpolar": [
           {
            "marker": {
             "line": {
              "color": "white",
              "width": 0.5
             },
             "pattern": {
              "fillmode": "overlay",
              "size": 10,
              "solidity": 0.2
             }
            },
            "type": "barpolar"
           }
          ],
          "carpet": [
           {
            "aaxis": {
             "endlinecolor": "#2a3f5f",
             "gridcolor": "#C8D4E3",
             "linecolor": "#C8D4E3",
             "minorgridcolor": "#C8D4E3",
             "startlinecolor": "#2a3f5f"
            },
            "baxis": {
             "endlinecolor": "#2a3f5f",
             "gridcolor": "#C8D4E3",
             "linecolor": "#C8D4E3",
             "minorgridcolor": "#C8D4E3",
             "startlinecolor": "#2a3f5f"
            },
            "type": "carpet"
           }
          ],
          "choropleth": [
           {
            "colorbar": {
             "outlinewidth": 0,
             "ticks": ""
            },
            "type": "choropleth"
           }
          ],
          "contour": [
           {
            "colorbar": {
             "outlinewidth": 0,
             "ticks": ""
            },
            "colorscale": [
             [
              0,
              "#0d0887"
             ],
             [
              0.1111111111111111,
              "#46039f"
             ],
             [
              0.2222222222222222,
              "#7201a8"
             ],
             [
              0.3333333333333333,
              "#9c179e"
             ],
             [
              0.4444444444444444,
              "#bd3786"
             ],
             [
              0.5555555555555556,
              "#d8576b"
             ],
             [
              0.6666666666666666,
              "#ed7953"
             ],
             [
              0.7777777777777778,
              "#fb9f3a"
             ],
             [
              0.8888888888888888,
              "#fdca26"
             ],
             [
              1,
              "#f0f921"
             ]
            ],
            "type": "contour"
           }
          ],
          "contourcarpet": [
           {
            "colorbar": {
             "outlinewidth": 0,
             "ticks": ""
            },
            "type": "contourcarpet"
           }
          ],
          "heatmap": [
           {
            "colorbar": {
             "outlinewidth": 0,
             "ticks": ""
            },
            "colorscale": [
             [
              0,
              "#0d0887"
             ],
             [
              0.1111111111111111,
              "#46039f"
             ],
             [
              0.2222222222222222,
              "#7201a8"
             ],
             [
              0.3333333333333333,
              "#9c179e"
             ],
             [
              0.4444444444444444,
              "#bd3786"
             ],
             [
              0.5555555555555556,
              "#d8576b"
             ],
             [
              0.6666666666666666,
              "#ed7953"
             ],
             [
              0.7777777777777778,
              "#fb9f3a"
             ],
             [
              0.8888888888888888,
              "#fdca26"
             ],
             [
              1,
              "#f0f921"
             ]
            ],
            "type": "heatmap"
           }
          ],
          "heatmapgl": [
           {
            "colorbar": {
             "outlinewidth": 0,
             "ticks": ""
            },
            "colorscale": [
             [
              0,
              "#0d0887"
             ],
             [
              0.1111111111111111,
              "#46039f"
             ],
             [
              0.2222222222222222,
              "#7201a8"
             ],
             [
              0.3333333333333333,
              "#9c179e"
             ],
             [
              0.4444444444444444,
              "#bd3786"
             ],
             [
              0.5555555555555556,
              "#d8576b"
             ],
             [
              0.6666666666666666,
              "#ed7953"
             ],
             [
              0.7777777777777778,
              "#fb9f3a"
             ],
             [
              0.8888888888888888,
              "#fdca26"
             ],
             [
              1,
              "#f0f921"
             ]
            ],
            "type": "heatmapgl"
           }
          ],
          "histogram": [
           {
            "marker": {
             "pattern": {
              "fillmode": "overlay",
              "size": 10,
              "solidity": 0.2
             }
            },
            "type": "histogram"
           }
          ],
          "histogram2d": [
           {
            "colorbar": {
             "outlinewidth": 0,
             "ticks": ""
            },
            "colorscale": [
             [
              0,
              "#0d0887"
             ],
             [
              0.1111111111111111,
              "#46039f"
             ],
             [
              0.2222222222222222,
              "#7201a8"
             ],
             [
              0.3333333333333333,
              "#9c179e"
             ],
             [
              0.4444444444444444,
              "#bd3786"
             ],
             [
              0.5555555555555556,
              "#d8576b"
             ],
             [
              0.6666666666666666,
              "#ed7953"
             ],
             [
              0.7777777777777778,
              "#fb9f3a"
             ],
             [
              0.8888888888888888,
              "#fdca26"
             ],
             [
              1,
              "#f0f921"
             ]
            ],
            "type": "histogram2d"
           }
          ],
          "histogram2dcontour": [
           {
            "colorbar": {
             "outlinewidth": 0,
             "ticks": ""
            },
            "colorscale": [
             [
              0,
              "#0d0887"
             ],
             [
              0.1111111111111111,
              "#46039f"
             ],
             [
              0.2222222222222222,
              "#7201a8"
             ],
             [
              0.3333333333333333,
              "#9c179e"
             ],
             [
              0.4444444444444444,
              "#bd3786"
             ],
             [
              0.5555555555555556,
              "#d8576b"
             ],
             [
              0.6666666666666666,
              "#ed7953"
             ],
             [
              0.7777777777777778,
              "#fb9f3a"
             ],
             [
              0.8888888888888888,
              "#fdca26"
             ],
             [
              1,
              "#f0f921"
             ]
            ],
            "type": "histogram2dcontour"
           }
          ],
          "mesh3d": [
           {
            "colorbar": {
             "outlinewidth": 0,
             "ticks": ""
            },
            "type": "mesh3d"
           }
          ],
          "parcoords": [
           {
            "line": {
             "colorbar": {
              "outlinewidth": 0,
              "ticks": ""
             }
            },
            "type": "parcoords"
           }
          ],
          "pie": [
           {
            "automargin": true,
            "type": "pie"
           }
          ],
          "scatter": [
           {
            "marker": {
             "colorbar": {
              "outlinewidth": 0,
              "ticks": ""
             }
            },
            "type": "scatter"
           }
          ],
          "scatter3d": [
           {
            "line": {
             "colorbar": {
              "outlinewidth": 0,
              "ticks": ""
             }
            },
            "marker": {
             "colorbar": {
              "outlinewidth": 0,
              "ticks": ""
             }
            },
            "type": "scatter3d"
           }
          ],
          "scattercarpet": [
           {
            "marker": {
             "colorbar": {
              "outlinewidth": 0,
              "ticks": ""
             }
            },
            "type": "scattercarpet"
           }
          ],
          "scattergeo": [
           {
            "marker": {
             "colorbar": {
              "outlinewidth": 0,
              "ticks": ""
             }
            },
            "type": "scattergeo"
           }
          ],
          "scattergl": [
           {
            "marker": {
             "colorbar": {
              "outlinewidth": 0,
              "ticks": ""
             }
            },
            "type": "scattergl"
           }
          ],
          "scattermapbox": [
           {
            "marker": {
             "colorbar": {
              "outlinewidth": 0,
              "ticks": ""
             }
            },
            "type": "scattermapbox"
           }
          ],
          "scatterpolar": [
           {
            "marker": {
             "colorbar": {
              "outlinewidth": 0,
              "ticks": ""
             }
            },
            "type": "scatterpolar"
           }
          ],
          "scatterpolargl": [
           {
            "marker": {
             "colorbar": {
              "outlinewidth": 0,
              "ticks": ""
             }
            },
            "type": "scatterpolargl"
           }
          ],
          "scatterternary": [
           {
            "marker": {
             "colorbar": {
              "outlinewidth": 0,
              "ticks": ""
             }
            },
            "type": "scatterternary"
           }
          ],
          "surface": [
           {
            "colorbar": {
             "outlinewidth": 0,
             "ticks": ""
            },
            "colorscale": [
             [
              0,
              "#0d0887"
             ],
             [
              0.1111111111111111,
              "#46039f"
             ],
             [
              0.2222222222222222,
              "#7201a8"
             ],
             [
              0.3333333333333333,
              "#9c179e"
             ],
             [
              0.4444444444444444,
              "#bd3786"
             ],
             [
              0.5555555555555556,
              "#d8576b"
             ],
             [
              0.6666666666666666,
              "#ed7953"
             ],
             [
              0.7777777777777778,
              "#fb9f3a"
             ],
             [
              0.8888888888888888,
              "#fdca26"
             ],
             [
              1,
              "#f0f921"
             ]
            ],
            "type": "surface"
           }
          ],
          "table": [
           {
            "cells": {
             "fill": {
              "color": "#EBF0F8"
             },
             "line": {
              "color": "white"
             }
            },
            "header": {
             "fill": {
              "color": "#C8D4E3"
             },
             "line": {
              "color": "white"
             }
            },
            "type": "table"
           }
          ]
         },
         "layout": {
          "annotationdefaults": {
           "arrowcolor": "#2a3f5f",
           "arrowhead": 0,
           "arrowwidth": 1
          },
          "autotypenumbers": "strict",
          "coloraxis": {
           "colorbar": {
            "outlinewidth": 0,
            "ticks": ""
           }
          },
          "colorscale": {
           "diverging": [
            [
             0,
             "#8e0152"
            ],
            [
             0.1,
             "#c51b7d"
            ],
            [
             0.2,
             "#de77ae"
            ],
            [
             0.3,
             "#f1b6da"
            ],
            [
             0.4,
             "#fde0ef"
            ],
            [
             0.5,
             "#f7f7f7"
            ],
            [
             0.6,
             "#e6f5d0"
            ],
            [
             0.7,
             "#b8e186"
            ],
            [
             0.8,
             "#7fbc41"
            ],
            [
             0.9,
             "#4d9221"
            ],
            [
             1,
             "#276419"
            ]
           ],
           "sequential": [
            [
             0,
             "#0d0887"
            ],
            [
             0.1111111111111111,
             "#46039f"
            ],
            [
             0.2222222222222222,
             "#7201a8"
            ],
            [
             0.3333333333333333,
             "#9c179e"
            ],
            [
             0.4444444444444444,
             "#bd3786"
            ],
            [
             0.5555555555555556,
             "#d8576b"
            ],
            [
             0.6666666666666666,
             "#ed7953"
            ],
            [
             0.7777777777777778,
             "#fb9f3a"
            ],
            [
             0.8888888888888888,
             "#fdca26"
            ],
            [
             1,
             "#f0f921"
            ]
           ],
           "sequentialminus": [
            [
             0,
             "#0d0887"
            ],
            [
             0.1111111111111111,
             "#46039f"
            ],
            [
             0.2222222222222222,
             "#7201a8"
            ],
            [
             0.3333333333333333,
             "#9c179e"
            ],
            [
             0.4444444444444444,
             "#bd3786"
            ],
            [
             0.5555555555555556,
             "#d8576b"
            ],
            [
             0.6666666666666666,
             "#ed7953"
            ],
            [
             0.7777777777777778,
             "#fb9f3a"
            ],
            [
             0.8888888888888888,
             "#fdca26"
            ],
            [
             1,
             "#f0f921"
            ]
           ]
          },
          "colorway": [
           "#636efa",
           "#EF553B",
           "#00cc96",
           "#ab63fa",
           "#FFA15A",
           "#19d3f3",
           "#FF6692",
           "#B6E880",
           "#FF97FF",
           "#FECB52"
          ],
          "font": {
           "color": "#2a3f5f"
          },
          "geo": {
           "bgcolor": "white",
           "lakecolor": "white",
           "landcolor": "white",
           "showlakes": true,
           "showland": true,
           "subunitcolor": "#C8D4E3"
          },
          "hoverlabel": {
           "align": "left"
          },
          "hovermode": "closest",
          "mapbox": {
           "style": "light"
          },
          "paper_bgcolor": "white",
          "plot_bgcolor": "white",
          "polar": {
           "angularaxis": {
            "gridcolor": "#EBF0F8",
            "linecolor": "#EBF0F8",
            "ticks": ""
           },
           "bgcolor": "white",
           "radialaxis": {
            "gridcolor": "#EBF0F8",
            "linecolor": "#EBF0F8",
            "ticks": ""
           }
          },
          "scene": {
           "xaxis": {
            "backgroundcolor": "white",
            "gridcolor": "#DFE8F3",
            "gridwidth": 2,
            "linecolor": "#EBF0F8",
            "showbackground": true,
            "ticks": "",
            "zerolinecolor": "#EBF0F8"
           },
           "yaxis": {
            "backgroundcolor": "white",
            "gridcolor": "#DFE8F3",
            "gridwidth": 2,
            "linecolor": "#EBF0F8",
            "showbackground": true,
            "ticks": "",
            "zerolinecolor": "#EBF0F8"
           },
           "zaxis": {
            "backgroundcolor": "white",
            "gridcolor": "#DFE8F3",
            "gridwidth": 2,
            "linecolor": "#EBF0F8",
            "showbackground": true,
            "ticks": "",
            "zerolinecolor": "#EBF0F8"
           }
          },
          "shapedefaults": {
           "line": {
            "color": "#2a3f5f"
           }
          },
          "ternary": {
           "aaxis": {
            "gridcolor": "#DFE8F3",
            "linecolor": "#A2B1C6",
            "ticks": ""
           },
           "baxis": {
            "gridcolor": "#DFE8F3",
            "linecolor": "#A2B1C6",
            "ticks": ""
           },
           "bgcolor": "white",
           "caxis": {
            "gridcolor": "#DFE8F3",
            "linecolor": "#A2B1C6",
            "ticks": ""
           }
          },
          "title": {
           "x": 0.05
          },
          "xaxis": {
           "automargin": true,
           "gridcolor": "#EBF0F8",
           "linecolor": "#EBF0F8",
           "ticks": "",
           "title": {
            "standoff": 15
           },
           "zerolinecolor": "#EBF0F8",
           "zerolinewidth": 2
          },
          "yaxis": {
           "automargin": true,
           "gridcolor": "#EBF0F8",
           "linecolor": "#EBF0F8",
           "ticks": "",
           "title": {
            "standoff": 15
           },
           "zerolinecolor": "#EBF0F8",
           "zerolinewidth": 2
          }
         }
        },
        "title": {
         "font": {
          "size": 24
         },
         "text": "Anzahl wartender und ladender BEVs im Tagesverlauf",
         "x": 0.5,
         "xanchor": "center"
        },
        "xaxis": {
         "anchor": "y",
         "domain": [
          0,
          1
         ],
         "title": {
          "text": "Minuten"
         }
        },
        "yaxis": {
         "anchor": "x",
         "domain": [
          0,
          1
         ],
         "title": {
          "text": "Anzahl BEVs"
         }
        }
       }
      },
      "text/html": [
       "<div>                            <div id=\"38c0cf95-5f6c-48b3-86b7-7cc103f0da95\" class=\"plotly-graph-div\" style=\"height:525px; width:100%;\"></div>            <script type=\"text/javascript\">                require([\"plotly\"], function(Plotly) {                    window.PLOTLYENV=window.PLOTLYENV || {};                                    if (document.getElementById(\"38c0cf95-5f6c-48b3-86b7-7cc103f0da95\")) {                    Plotly.newPlot(                        \"38c0cf95-5f6c-48b3-86b7-7cc103f0da95\",                        [{\"line\":{\"color\":\"red\"},\"name\":\"Wartende BEVs\",\"x\":[480,495,510,525,540,555,570,585,600,615,630,645,660,675,690,705,720,735,750,765,780,795,810,825,840,855,870,885,900,915,930,945,960],\"y\":[9,8,23,22,27,26,29,27,26,25,23,22,22,20,20,19,20,18,23,20,27,24,23,23,22,21,21,20,17,15,15,14,13],\"type\":\"scatter\"},{\"line\":{\"color\":\"blue\"},\"name\":\"Ladende BEVs\",\"x\":[480,495,510,525,540,555,570,585,600,615,630,645,660,675,690,705,720,735,750,765,780,795,810,825,840,855,870,885,900,915,930,945,960],\"y\":[1,1,2,2,3,3,4,5,5,5,5,5,5,5,5,5,5,5,5,5,5,5,5,5,4,4,4,4,4,4,3,3,3],\"type\":\"scatter\"}],                        {\"template\":{\"data\":{\"barpolar\":[{\"marker\":{\"line\":{\"color\":\"white\",\"width\":0.5},\"pattern\":{\"fillmode\":\"overlay\",\"size\":10,\"solidity\":0.2}},\"type\":\"barpolar\"}],\"bar\":[{\"error_x\":{\"color\":\"#2a3f5f\"},\"error_y\":{\"color\":\"#2a3f5f\"},\"marker\":{\"line\":{\"color\":\"white\",\"width\":0.5},\"pattern\":{\"fillmode\":\"overlay\",\"size\":10,\"solidity\":0.2}},\"type\":\"bar\"}],\"carpet\":[{\"aaxis\":{\"endlinecolor\":\"#2a3f5f\",\"gridcolor\":\"#C8D4E3\",\"linecolor\":\"#C8D4E3\",\"minorgridcolor\":\"#C8D4E3\",\"startlinecolor\":\"#2a3f5f\"},\"baxis\":{\"endlinecolor\":\"#2a3f5f\",\"gridcolor\":\"#C8D4E3\",\"linecolor\":\"#C8D4E3\",\"minorgridcolor\":\"#C8D4E3\",\"startlinecolor\":\"#2a3f5f\"},\"type\":\"carpet\"}],\"choropleth\":[{\"colorbar\":{\"outlinewidth\":0,\"ticks\":\"\"},\"type\":\"choropleth\"}],\"contourcarpet\":[{\"colorbar\":{\"outlinewidth\":0,\"ticks\":\"\"},\"type\":\"contourcarpet\"}],\"contour\":[{\"colorbar\":{\"outlinewidth\":0,\"ticks\":\"\"},\"colorscale\":[[0.0,\"#0d0887\"],[0.1111111111111111,\"#46039f\"],[0.2222222222222222,\"#7201a8\"],[0.3333333333333333,\"#9c179e\"],[0.4444444444444444,\"#bd3786\"],[0.5555555555555556,\"#d8576b\"],[0.6666666666666666,\"#ed7953\"],[0.7777777777777778,\"#fb9f3a\"],[0.8888888888888888,\"#fdca26\"],[1.0,\"#f0f921\"]],\"type\":\"contour\"}],\"heatmapgl\":[{\"colorbar\":{\"outlinewidth\":0,\"ticks\":\"\"},\"colorscale\":[[0.0,\"#0d0887\"],[0.1111111111111111,\"#46039f\"],[0.2222222222222222,\"#7201a8\"],[0.3333333333333333,\"#9c179e\"],[0.4444444444444444,\"#bd3786\"],[0.5555555555555556,\"#d8576b\"],[0.6666666666666666,\"#ed7953\"],[0.7777777777777778,\"#fb9f3a\"],[0.8888888888888888,\"#fdca26\"],[1.0,\"#f0f921\"]],\"type\":\"heatmapgl\"}],\"heatmap\":[{\"colorbar\":{\"outlinewidth\":0,\"ticks\":\"\"},\"colorscale\":[[0.0,\"#0d0887\"],[0.1111111111111111,\"#46039f\"],[0.2222222222222222,\"#7201a8\"],[0.3333333333333333,\"#9c179e\"],[0.4444444444444444,\"#bd3786\"],[0.5555555555555556,\"#d8576b\"],[0.6666666666666666,\"#ed7953\"],[0.7777777777777778,\"#fb9f3a\"],[0.8888888888888888,\"#fdca26\"],[1.0,\"#f0f921\"]],\"type\":\"heatmap\"}],\"histogram2dcontour\":[{\"colorbar\":{\"outlinewidth\":0,\"ticks\":\"\"},\"colorscale\":[[0.0,\"#0d0887\"],[0.1111111111111111,\"#46039f\"],[0.2222222222222222,\"#7201a8\"],[0.3333333333333333,\"#9c179e\"],[0.4444444444444444,\"#bd3786\"],[0.5555555555555556,\"#d8576b\"],[0.6666666666666666,\"#ed7953\"],[0.7777777777777778,\"#fb9f3a\"],[0.8888888888888888,\"#fdca26\"],[1.0,\"#f0f921\"]],\"type\":\"histogram2dcontour\"}],\"histogram2d\":[{\"colorbar\":{\"outlinewidth\":0,\"ticks\":\"\"},\"colorscale\":[[0.0,\"#0d0887\"],[0.1111111111111111,\"#46039f\"],[0.2222222222222222,\"#7201a8\"],[0.3333333333333333,\"#9c179e\"],[0.4444444444444444,\"#bd3786\"],[0.5555555555555556,\"#d8576b\"],[0.6666666666666666,\"#ed7953\"],[0.7777777777777778,\"#fb9f3a\"],[0.8888888888888888,\"#fdca26\"],[1.0,\"#f0f921\"]],\"type\":\"histogram2d\"}],\"histogram\":[{\"marker\":{\"pattern\":{\"fillmode\":\"overlay\",\"size\":10,\"solidity\":0.2}},\"type\":\"histogram\"}],\"mesh3d\":[{\"colorbar\":{\"outlinewidth\":0,\"ticks\":\"\"},\"type\":\"mesh3d\"}],\"parcoords\":[{\"line\":{\"colorbar\":{\"outlinewidth\":0,\"ticks\":\"\"}},\"type\":\"parcoords\"}],\"pie\":[{\"automargin\":true,\"type\":\"pie\"}],\"scatter3d\":[{\"line\":{\"colorbar\":{\"outlinewidth\":0,\"ticks\":\"\"}},\"marker\":{\"colorbar\":{\"outlinewidth\":0,\"ticks\":\"\"}},\"type\":\"scatter3d\"}],\"scattercarpet\":[{\"marker\":{\"colorbar\":{\"outlinewidth\":0,\"ticks\":\"\"}},\"type\":\"scattercarpet\"}],\"scattergeo\":[{\"marker\":{\"colorbar\":{\"outlinewidth\":0,\"ticks\":\"\"}},\"type\":\"scattergeo\"}],\"scattergl\":[{\"marker\":{\"colorbar\":{\"outlinewidth\":0,\"ticks\":\"\"}},\"type\":\"scattergl\"}],\"scattermapbox\":[{\"marker\":{\"colorbar\":{\"outlinewidth\":0,\"ticks\":\"\"}},\"type\":\"scattermapbox\"}],\"scatterpolargl\":[{\"marker\":{\"colorbar\":{\"outlinewidth\":0,\"ticks\":\"\"}},\"type\":\"scatterpolargl\"}],\"scatterpolar\":[{\"marker\":{\"colorbar\":{\"outlinewidth\":0,\"ticks\":\"\"}},\"type\":\"scatterpolar\"}],\"scatter\":[{\"marker\":{\"colorbar\":{\"outlinewidth\":0,\"ticks\":\"\"}},\"type\":\"scatter\"}],\"scatterternary\":[{\"marker\":{\"colorbar\":{\"outlinewidth\":0,\"ticks\":\"\"}},\"type\":\"scatterternary\"}],\"surface\":[{\"colorbar\":{\"outlinewidth\":0,\"ticks\":\"\"},\"colorscale\":[[0.0,\"#0d0887\"],[0.1111111111111111,\"#46039f\"],[0.2222222222222222,\"#7201a8\"],[0.3333333333333333,\"#9c179e\"],[0.4444444444444444,\"#bd3786\"],[0.5555555555555556,\"#d8576b\"],[0.6666666666666666,\"#ed7953\"],[0.7777777777777778,\"#fb9f3a\"],[0.8888888888888888,\"#fdca26\"],[1.0,\"#f0f921\"]],\"type\":\"surface\"}],\"table\":[{\"cells\":{\"fill\":{\"color\":\"#EBF0F8\"},\"line\":{\"color\":\"white\"}},\"header\":{\"fill\":{\"color\":\"#C8D4E3\"},\"line\":{\"color\":\"white\"}},\"type\":\"table\"}]},\"layout\":{\"annotationdefaults\":{\"arrowcolor\":\"#2a3f5f\",\"arrowhead\":0,\"arrowwidth\":1},\"autotypenumbers\":\"strict\",\"coloraxis\":{\"colorbar\":{\"outlinewidth\":0,\"ticks\":\"\"}},\"colorscale\":{\"diverging\":[[0,\"#8e0152\"],[0.1,\"#c51b7d\"],[0.2,\"#de77ae\"],[0.3,\"#f1b6da\"],[0.4,\"#fde0ef\"],[0.5,\"#f7f7f7\"],[0.6,\"#e6f5d0\"],[0.7,\"#b8e186\"],[0.8,\"#7fbc41\"],[0.9,\"#4d9221\"],[1,\"#276419\"]],\"sequential\":[[0.0,\"#0d0887\"],[0.1111111111111111,\"#46039f\"],[0.2222222222222222,\"#7201a8\"],[0.3333333333333333,\"#9c179e\"],[0.4444444444444444,\"#bd3786\"],[0.5555555555555556,\"#d8576b\"],[0.6666666666666666,\"#ed7953\"],[0.7777777777777778,\"#fb9f3a\"],[0.8888888888888888,\"#fdca26\"],[1.0,\"#f0f921\"]],\"sequentialminus\":[[0.0,\"#0d0887\"],[0.1111111111111111,\"#46039f\"],[0.2222222222222222,\"#7201a8\"],[0.3333333333333333,\"#9c179e\"],[0.4444444444444444,\"#bd3786\"],[0.5555555555555556,\"#d8576b\"],[0.6666666666666666,\"#ed7953\"],[0.7777777777777778,\"#fb9f3a\"],[0.8888888888888888,\"#fdca26\"],[1.0,\"#f0f921\"]]},\"colorway\":[\"#636efa\",\"#EF553B\",\"#00cc96\",\"#ab63fa\",\"#FFA15A\",\"#19d3f3\",\"#FF6692\",\"#B6E880\",\"#FF97FF\",\"#FECB52\"],\"font\":{\"color\":\"#2a3f5f\"},\"geo\":{\"bgcolor\":\"white\",\"lakecolor\":\"white\",\"landcolor\":\"white\",\"showlakes\":true,\"showland\":true,\"subunitcolor\":\"#C8D4E3\"},\"hoverlabel\":{\"align\":\"left\"},\"hovermode\":\"closest\",\"mapbox\":{\"style\":\"light\"},\"paper_bgcolor\":\"white\",\"plot_bgcolor\":\"white\",\"polar\":{\"angularaxis\":{\"gridcolor\":\"#EBF0F8\",\"linecolor\":\"#EBF0F8\",\"ticks\":\"\"},\"bgcolor\":\"white\",\"radialaxis\":{\"gridcolor\":\"#EBF0F8\",\"linecolor\":\"#EBF0F8\",\"ticks\":\"\"}},\"scene\":{\"xaxis\":{\"backgroundcolor\":\"white\",\"gridcolor\":\"#DFE8F3\",\"gridwidth\":2,\"linecolor\":\"#EBF0F8\",\"showbackground\":true,\"ticks\":\"\",\"zerolinecolor\":\"#EBF0F8\"},\"yaxis\":{\"backgroundcolor\":\"white\",\"gridcolor\":\"#DFE8F3\",\"gridwidth\":2,\"linecolor\":\"#EBF0F8\",\"showbackground\":true,\"ticks\":\"\",\"zerolinecolor\":\"#EBF0F8\"},\"zaxis\":{\"backgroundcolor\":\"white\",\"gridcolor\":\"#DFE8F3\",\"gridwidth\":2,\"linecolor\":\"#EBF0F8\",\"showbackground\":true,\"ticks\":\"\",\"zerolinecolor\":\"#EBF0F8\"}},\"shapedefaults\":{\"line\":{\"color\":\"#2a3f5f\"}},\"ternary\":{\"aaxis\":{\"gridcolor\":\"#DFE8F3\",\"linecolor\":\"#A2B1C6\",\"ticks\":\"\"},\"baxis\":{\"gridcolor\":\"#DFE8F3\",\"linecolor\":\"#A2B1C6\",\"ticks\":\"\"},\"bgcolor\":\"white\",\"caxis\":{\"gridcolor\":\"#DFE8F3\",\"linecolor\":\"#A2B1C6\",\"ticks\":\"\"}},\"title\":{\"x\":0.05},\"xaxis\":{\"automargin\":true,\"gridcolor\":\"#EBF0F8\",\"linecolor\":\"#EBF0F8\",\"ticks\":\"\",\"title\":{\"standoff\":15},\"zerolinecolor\":\"#EBF0F8\",\"zerolinewidth\":2},\"yaxis\":{\"automargin\":true,\"gridcolor\":\"#EBF0F8\",\"linecolor\":\"#EBF0F8\",\"ticks\":\"\",\"title\":{\"standoff\":15},\"zerolinecolor\":\"#EBF0F8\",\"zerolinewidth\":2}}},\"xaxis\":{\"anchor\":\"y\",\"domain\":[0.0,1.0],\"title\":{\"text\":\"Minuten\"}},\"yaxis\":{\"anchor\":\"x\",\"domain\":[0.0,1.0],\"title\":{\"text\":\"Anzahl BEVs\"}},\"legend\":{\"tracegroupgap\":0},\"margin\":{\"t\":60},\"title\":{\"font\":{\"size\":24},\"text\":\"Anzahl wartender und ladender BEVs im Tagesverlauf\",\"x\":0.5,\"xanchor\":\"center\"}},                        {\"responsive\": true}                    ).then(function(){\n",
       "                            \n",
       "var gd = document.getElementById('38c0cf95-5f6c-48b3-86b7-7cc103f0da95');\n",
       "var x = new MutationObserver(function (mutations, observer) {{\n",
       "        var display = window.getComputedStyle(gd).display;\n",
       "        if (!display || display === 'none') {{\n",
       "            console.log([gd, 'removed!']);\n",
       "            Plotly.purge(gd);\n",
       "            observer.disconnect();\n",
       "        }}\n",
       "}});\n",
       "\n",
       "// Listen for the removal of the full notebook cells\n",
       "var notebookContainer = gd.closest('#notebook-container');\n",
       "if (notebookContainer) {{\n",
       "    x.observe(notebookContainer, {childList: true});\n",
       "}}\n",
       "\n",
       "// Listen for the clearing of the current output cell\n",
       "var outputEl = gd.closest('.output');\n",
       "if (outputEl) {{\n",
       "    x.observe(outputEl, {childList: true});\n",
       "}}\n",
       "\n",
       "                        })                };                });            </script>        </div>"
      ]
     },
     "metadata": {},
     "output_type": "display_data"
    }
   ],
   "source": [
    "figureGeneration.create_bev_number_figure(simulation_data)"
   ]
  },
  {
   "cell_type": "code",
   "execution_count": 8,
   "metadata": {},
   "outputs": [
    {
     "name": "stdout",
     "output_type": "stream",
     "text": [
      "{0: [(8.5, 5.6), 'wartend', [(626.3668387453449, 122.1944783494547, 7.175)], [7.175]], 1: [(8.0, 3.7), 'wartend', [(480, 53.53479853479848, 4.1775)], [4.1775]], 2: [(13.0, 5.7), 'wartend', [], [2.87]], 3: [(13.0, 4.8), 'wartend', [], [2.87]], 4: [(13.0, 5.9), 'wartend', [], [2.87]], 5: [(12.0, 3.1), 'nicht parkend', [], [3.7]], 6: [(12.5, 3.7), 'wartend', [], [3.435]], 7: [(12.0, 3.9), 'ladend', [(948, 12, 1.2746666666666666)], [4.185]], 8: [(8.5, 5.2), 'wartend', [(621.0657842749902, 50.88821255702317, 6.5175)], [6.5175]], 9: [(8.0, 6.0), 'wartend', [(510, 54.67258064516125, 7.02)], [7.02]], 10: [(8.0, 6.6), 'wartend', [(533.5347985347985, 92.83204021054644, 7.8999999999999995)], [7.8999999999999995]], 11: [(8.0, 5.7), 'wartend', [(540, 43.52307692307693, 6.6975)], [6.6975]], 12: [(8.5, 5.1), 'wartend', [(640.0463248181743, 77.57807224748956, 6.5175)], [6.5175]], 13: [(9.0, 7.2), 'nicht parkend', [(851.7290310552473, 120.27096894475267, 3.1625520450401705)], [8.3225]], 14: [(9.0, 6.8), 'nicht parkend', [(880.9111111111112, 67.08888888888885, 1.8043358024691187)], [8.3225]], 15: [(9.5, 5.5), 'nicht parkend', [], [7.194999999999999]], 16: [(13.0, 5.3), 'wartend', [], [2.87]], 17: [(8.5, 4.7), 'wartend', [(670.0456516613347, 64.20438347512061, 5.9675)], [5.9675]], 18: [(12.5, 7.2), 'wartend', [], [3.435]], 19: [(8.5, 5.8), 'wartend', [(671.9539968320133, 179.775034223234, 7.47)], [7.47]], 20: [(8.5, 4.8), 'nicht parkend', [(717.6243970656639, 80.37560293433614, 2.545328098184103)], [6.2325]], 21: [(8.0, 6.6), 'wartend', [(564.6725806451612, 105.37307101617341, 7.8999999999999995)], [7.8999999999999995]], 22: [(12.5, 4.7), 'wartend', [], [3.435]], 23: [(12.5, 3.2), 'nicht parkend', [], [3.295]], 24: [(8.5, 7.0), 'nicht parkend', [(734.2500351364553, 180.74996486354473, 1.2726903734354118)], [8.305]], 25: [(8.0, 4.5), 'wartend', [(570, 33.33136792452831, 5.3525)], [5.3525]], 26: [(13.0, 5.9), 'wartend', [], [2.87]], 27: [(12.5, 6.7), 'wartend', [], [3.435]], 28: [(8.0, 5.1), 'nicht parkend', [(583.5230769230769, 202.47692307692307, 4.130692307692296)], [6.1475]], 29: [(9.5, 4.3), 'nicht parkend', [], [6.1049999999999995]], 30: [(8.5, 6.6), 'nicht parkend', [(748.5613170947996, 157.43868290520038, 2.509912544220472)], [8.1225]], 31: [(8.5, 4.2), 'nicht parkend', [], [5.455]], 32: [(8.0, 4.8), 'wartend', [(585, 36.065784274990165, 5.9174999999999995)], [5.9174999999999995]], 33: [(12.0, 6.8), 'ladend', [(972, 0, 0)], [4.185]], 34: [(8.5, 7.3), 'wartend', [(786, 94.91111111111115, 8.6075)], [8.6075]], 35: [(13.0, 5.2), 'wartend', [], [2.87]], 36: [(9.0, 5.8), 'nicht parkend', [], [7.645]], 37: [(9.0, 4.2), 'nicht parkend', [], [5.6825]], 38: [(9.5, 7.7), 'ladend', [(906, 54, 2.7562499999999996)], [7.872499999999999]], 39: [(8.5, 3.7), 'nicht parkend', [], [4.8100000000000005]], 40: [(8.5, 3.1), 'nicht parkend', [], [3.9975]], 41: [(8.5, 3.4), 'nicht parkend', [], [4.4225]], 42: [(8.0, 4.7), 'wartend', [(603.3313679245283, 36.71495689364599, 5.635)], [5.635]], 43: [(9.0, 5.9), 'nicht parkend', [], [7.645]], 44: [(9.0, 3.6), 'nicht parkend', [], [5.17]], 45: [(13.0, 6.1), 'wartend', [], [2.87]], 46: [(8.5, 4.7), 'nicht parkend', [], [5.9675]], 47: [(9.5, 3.2), 'nicht parkend', [], [4.72]], 48: [(8.5, 5.5), 'nicht parkend', [(798, 27, 3.12)], [6.84]], 49: [(12.5, 6.4), 'wartend', [], [3.435]]}\n"
     ]
    },
    {
     "ename": "KeyError",
     "evalue": "<simulationClasses.SimulationDay object at 0x000001B6FCC5CC10>",
     "output_type": "error",
     "traceback": [
      "\u001B[1;31m---------------------------------------------------------------------------\u001B[0m",
      "\u001B[1;31mKeyError\u001B[0m                                  Traceback (most recent call last)",
      "Input \u001B[1;32mIn [8]\u001B[0m, in \u001B[0;36m<module>\u001B[1;34m\u001B[0m\n\u001B[0;32m      1\u001B[0m \u001B[38;5;28;01mimport\u001B[39;00m \u001B[38;5;21;01mpostOptimization\u001B[39;00m\n\u001B[1;32m----> 3\u001B[0m \u001B[43mpostOptimization\u001B[49m\u001B[38;5;241;43m.\u001B[39;49m\u001B[43msort_waiting_list_descending_by_parking_end\u001B[49m\u001B[43m(\u001B[49m\u001B[43msimulation_day\u001B[49m\u001B[43m)\u001B[49m\n",
      "File \u001B[1;32mD:\\Duales Studium\\DHBW\\Studienarbeit\\Code\\lademanagementsimulation\\main\\postOptimization.py:16\u001B[0m, in \u001B[0;36msort_waiting_list_descending_by_parking_end\u001B[1;34m(simulation_day)\u001B[0m\n\u001B[0;32m     13\u001B[0m bev_id_with_parking_end_dict \u001B[38;5;241m=\u001B[39m {}\n\u001B[0;32m     14\u001B[0m \u001B[38;5;28;01mfor\u001B[39;00m id_bev \u001B[38;5;129;01min\u001B[39;00m simulation_day\u001B[38;5;241m.\u001B[39mbevs_dict\u001B[38;5;241m.\u001B[39mget_bevs_dict():\n\u001B[0;32m     15\u001B[0m     \u001B[38;5;66;03m# add to waiting list\u001B[39;00m\n\u001B[1;32m---> 16\u001B[0m     bev_id_with_parking_end_dict[id_bev] \u001B[38;5;241m=\u001B[39m \u001B[43msimulation_day\u001B[49m\u001B[38;5;241;43m.\u001B[39;49m\u001B[43mbevs_dict\u001B[49m\u001B[38;5;241;43m.\u001B[39;49m\u001B[43mget_parking_end_in_minutes\u001B[49m\u001B[43m(\u001B[49m\u001B[43msimulation_day\u001B[49m\u001B[43m)\u001B[49m\n\u001B[0;32m     18\u001B[0m sorted_parking_end_list \u001B[38;5;241m=\u001B[39m \u001B[38;5;28msorted\u001B[39m(bev_id_with_parking_end_dict\u001B[38;5;241m.\u001B[39mitems(), key\u001B[38;5;241m=\u001B[39m\u001B[38;5;28;01mlambda\u001B[39;00m kv: kv[\u001B[38;5;241m1\u001B[39m])\n\u001B[0;32m     19\u001B[0m sorted_parking_end_list\u001B[38;5;241m.\u001B[39mreverse()\n",
      "File \u001B[1;32mD:\\Duales Studium\\DHBW\\Studienarbeit\\Code\\lademanagementsimulation\\main\\simulationClasses.py:72\u001B[0m, in \u001B[0;36mBevDictionary.get_parking_end_in_minutes\u001B[1;34m(self, id_bev)\u001B[0m\n\u001B[0;32m     71\u001B[0m \u001B[38;5;28;01mdef\u001B[39;00m \u001B[38;5;21mget_parking_end_in_minutes\u001B[39m(\u001B[38;5;28mself\u001B[39m, id_bev):\n\u001B[1;32m---> 72\u001B[0m     \u001B[38;5;28;01mreturn\u001B[39;00m timeTransformation\u001B[38;5;241m.\u001B[39min_minutes(\u001B[38;5;28;43mself\u001B[39;49m\u001B[38;5;241;43m.\u001B[39;49m\u001B[43mget_parking_start\u001B[49m\u001B[43m(\u001B[49m\u001B[43mid_bev\u001B[49m\u001B[43m)\u001B[49m) \u001B[38;5;241m+\u001B[39m timeTransformation\u001B[38;5;241m.\u001B[39min_minutes(\n\u001B[0;32m     73\u001B[0m         \u001B[38;5;28mself\u001B[39m\u001B[38;5;241m.\u001B[39mget_parking_time(id_bev))\n",
      "File \u001B[1;32mD:\\Duales Studium\\DHBW\\Studienarbeit\\Code\\lademanagementsimulation\\main\\simulationClasses.py:66\u001B[0m, in \u001B[0;36mBevDictionary.get_parking_start\u001B[1;34m(self, id_bev)\u001B[0m\n\u001B[0;32m     65\u001B[0m \u001B[38;5;28;01mdef\u001B[39;00m \u001B[38;5;21mget_parking_start\u001B[39m(\u001B[38;5;28mself\u001B[39m, id_bev):\n\u001B[1;32m---> 66\u001B[0m     \u001B[38;5;28;01mreturn\u001B[39;00m \u001B[38;5;28;43mself\u001B[39;49m\u001B[38;5;241;43m.\u001B[39;49m\u001B[43mget_parking_data\u001B[49m\u001B[43m(\u001B[49m\u001B[43mid_bev\u001B[49m\u001B[43m)\u001B[49m[\u001B[38;5;241m0\u001B[39m]\n",
      "File \u001B[1;32mD:\\Duales Studium\\DHBW\\Studienarbeit\\Code\\lademanagementsimulation\\main\\simulationClasses.py:76\u001B[0m, in \u001B[0;36mBevDictionary.get_parking_data\u001B[1;34m(self, id_bev)\u001B[0m\n\u001B[0;32m     75\u001B[0m \u001B[38;5;28;01mdef\u001B[39;00m \u001B[38;5;21mget_parking_data\u001B[39m(\u001B[38;5;28mself\u001B[39m, id_bev):\n\u001B[1;32m---> 76\u001B[0m     bev_data \u001B[38;5;241m=\u001B[39m \u001B[38;5;28;43mself\u001B[39;49m\u001B[38;5;241;43m.\u001B[39;49m\u001B[43mbevs_dict\u001B[49m\u001B[43m[\u001B[49m\u001B[43mid_bev\u001B[49m\u001B[43m]\u001B[49m\n\u001B[0;32m     77\u001B[0m     \u001B[38;5;28;01mreturn\u001B[39;00m bev_data[\u001B[38;5;241m0\u001B[39m]\n",
      "\u001B[1;31mKeyError\u001B[0m: <simulationClasses.SimulationDay object at 0x000001B6FCC5CC10>"
     ]
    }
   ],
   "source": [
    "import postOptimization\n",
    "\n",
    "postOptimization.sort_waiting_list_descending_by_parking_end(simulation_day)"
   ]
  }
 ],
 "metadata": {
  "kernelspec": {
   "display_name": "Python 3 (ipykernel)",
   "language": "python",
   "name": "python3"
  },
  "language_info": {
   "codemirror_mode": {
    "name": "ipython",
    "version": 3
   },
   "file_extension": ".py",
   "mimetype": "text/x-python",
   "name": "python",
   "nbconvert_exporter": "python",
   "pygments_lexer": "ipython3",
   "version": "3.9.5"
  }
 },
 "nbformat": 4,
 "nbformat_minor": 4
}