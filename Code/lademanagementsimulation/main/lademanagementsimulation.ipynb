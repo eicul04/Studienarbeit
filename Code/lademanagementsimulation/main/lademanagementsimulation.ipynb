{
 "cells": [
  {
   "cell_type": "markdown",
   "metadata": {
    "pycharm": {
     "name": "#%% md\n"
    }
   },
   "source": [
    "# Lademanagementsimulation   \n"
   ]
  },
  {
   "cell_type": "markdown",
   "metadata": {},
   "source": [
    "### Simulations Parameter"
   ]
  },
  {
   "cell_type": "code",
   "execution_count": 1,
   "metadata": {
    "pycharm": {
     "name": "#%%\n"
    }
   },
   "outputs": [],
   "source": [
    "solarpeakleistung = 125 #Einheit Kilowattpeak (kWP)\n",
    "anzahl_bevs_pro_tag = 10\n",
    "ladeleistung_pro_bev = 11 #Einheit kW\n",
    "maximale_ladezeit = 30 #Einheit Minuten\n",
    "minute_interval = 15 #Einheit Minuten"
   ]
  },
  {
   "cell_type": "markdown",
   "metadata": {},
   "source": [
    "### Simulations Eingangsdaten"
   ]
  },
  {
   "cell_type": "code",
   "execution_count": 2,
   "metadata": {
    "pycharm": {
     "name": "#%%\n"
    }
   },
   "outputs": [
    {
     "data": {
      "text/html": [
       "\n",
       "        <iframe\n",
       "            width=\"100%\"\n",
       "            height=\"650\"\n",
       "            src=\"http://127.0.0.1:8050/\"\n",
       "            frameborder=\"0\"\n",
       "            allowfullscreen\n",
       "            \n",
       "        ></iframe>\n",
       "        "
      ],
      "text/plain": [
       "<IPython.lib.display.IFrame at 0x1a5d82adb50>"
      ]
     },
     "metadata": {},
     "output_type": "display_data"
    }
   ],
   "source": [
    "import simulationInputDataVisualisation\n",
    "simulationInputDataVisualisation.create_jupyter_dash_app(solarpeakleistung)"
   ]
  },
  {
   "cell_type": "markdown",
   "metadata": {},
   "source": [
    "### Verteilungsalgorithmus"
   ]
  },
  {
   "cell_type": "code",
   "execution_count": 3,
   "metadata": {},
   "outputs": [
    {
     "name": "stdout",
     "output_type": "stream",
     "text": [
      "1 Number of BEVs to add\n",
      "9 Waiting BEVs list\n",
      "9 First BEV waiting on list\n",
      "1 Number of BEVs to add\n",
      "2 Waiting BEVs list\n",
      "2 First BEV waiting on list\n",
      "1 Number of BEVs to add\n",
      "None Waiting BEVs list\n",
      "None First BEV waiting on list\n"
     ]
    },
    {
     "ename": "ValueError",
     "evalue": "list.remove(x): x not in list",
     "output_type": "error",
     "traceback": [
      "\u001B[1;31m---------------------------------------------------------------------------\u001B[0m",
      "\u001B[1;31mValueError\u001B[0m                                Traceback (most recent call last)",
      "Input \u001B[1;32mIn [3]\u001B[0m, in \u001B[0;36m<module>\u001B[1;34m\u001B[0m\n\u001B[0;32m     11\u001B[0m simulation_data \u001B[38;5;241m=\u001B[39m simulationData\u001B[38;5;241m.\u001B[39mSimulationData()\n\u001B[0;32m     13\u001B[0m \u001B[38;5;66;03m# Auswahl des Algorithmus\u001B[39;00m\n\u001B[0;32m     14\u001B[0m \u001B[38;5;66;03m# algorithm = distributionAlgorithmPolling.Algorithm.POLLING_FIFO\u001B[39;00m\n\u001B[0;32m     15\u001B[0m \u001B[38;5;66;03m# algorithm = distributionAlgorithmPolling.Algorithm.POLLING_EVEN_DISTRIBUTION\u001B[39;00m\n\u001B[1;32m   (...)\u001B[0m\n\u001B[0;32m     18\u001B[0m \u001B[38;5;66;03m#distributionAlgorithmForecast.start_algorithm(simulation_data, simulation_day, maximale_ladezeit, solarpeakleistung, \u001B[39;00m\n\u001B[0;32m     19\u001B[0m   \u001B[38;5;66;03m#                  bev_data, table_dict, ladeleistung_pro_bev, minute_interval)\u001B[39;00m\n\u001B[1;32m---> 21\u001B[0m \u001B[43mdistributionAlgorithmForecastPolling\u001B[49m\u001B[38;5;241;43m.\u001B[39;49m\u001B[43mstart_simulation\u001B[49m\u001B[43m(\u001B[49m\u001B[43msolarpeakleistung\u001B[49m\u001B[43m,\u001B[49m\u001B[43m \u001B[49m\u001B[43mladeleistung_pro_bev\u001B[49m\u001B[43m,\u001B[49m\n\u001B[0;32m     22\u001B[0m \u001B[43m                     \u001B[49m\u001B[43msimulation_day\u001B[49m\u001B[43m,\u001B[49m\u001B[43m \u001B[49m\u001B[43mbev_data\u001B[49m\u001B[43m,\u001B[49m\u001B[43m \u001B[49m\u001B[43mtable_dict\u001B[49m\u001B[43m,\u001B[49m\u001B[43m \u001B[49m\u001B[43msimulation_data\u001B[49m\u001B[43m,\u001B[49m\u001B[43m \u001B[49m\u001B[43mminute_interval\u001B[49m\u001B[43m)\u001B[49m\n",
      "File \u001B[1;32mD:\\Duales Studium\\DHBW\\Studienarbeit\\Code\\lademanagementsimulation\\main\\distributionAlgorithmForecastPolling.py:24\u001B[0m, in \u001B[0;36mstart_simulation\u001B[1;34m(solar_peak_power, charging_power_pro_bev, simulation_day, bev_data, table_dict, simulation_data, minute_interval)\u001B[0m\n\u001B[0;32m     22\u001B[0m simulate_day(minute, solar_peak_power, simulation_day, bev_data, table_dict, simulation_data)\n\u001B[0;32m     23\u001B[0m safe_bev_dict_per_minute(minute, simulation_day, bev_data, table_dict, solar_peak_power)\n\u001B[1;32m---> 24\u001B[0m \u001B[43mupdate_charging_bevs\u001B[49m\u001B[43m(\u001B[49m\u001B[43msolar_peak_power\u001B[49m\u001B[43m,\u001B[49m\u001B[43m \u001B[49m\u001B[43mminute\u001B[49m\u001B[43m,\u001B[49m\n\u001B[0;32m     25\u001B[0m \u001B[43m                     \u001B[49m\u001B[43mcharging_power_pro_bev\u001B[49m\u001B[43m,\u001B[49m\u001B[43m \u001B[49m\u001B[43msimulation_day\u001B[49m\u001B[43m,\u001B[49m\u001B[43m \u001B[49m\u001B[43mbev_data\u001B[49m\u001B[43m,\u001B[49m\n\u001B[0;32m     26\u001B[0m \u001B[43m                     \u001B[49m\u001B[43msimulation_data\u001B[49m\u001B[43m,\u001B[49m\u001B[43m \u001B[49m\u001B[43mminute_interval\u001B[49m\u001B[43m)\u001B[49m\n\u001B[0;32m     27\u001B[0m safe_charging_list_per_minute(simulation_day, simulation_data, minute)\n",
      "File \u001B[1;32mD:\\Duales Studium\\DHBW\\Studienarbeit\\Code\\lademanagementsimulation\\main\\distributionAlgorithmForecastPolling.py:46\u001B[0m, in \u001B[0;36mupdate_charging_bevs\u001B[1;34m(solar_peak_power, minute, charging_power_pro_bev, simulation_day, bev_data, simulation_data, minute_interval)\u001B[0m\n\u001B[0;32m     44\u001B[0m update_because_fair_charged_energy_reached(simulation_day)\n\u001B[0;32m     45\u001B[0m available_solar_power \u001B[38;5;241m=\u001B[39m get_available_solar_power(solar_peak_power, minute)\n\u001B[1;32m---> 46\u001B[0m \u001B[43mupdate_charging_bevs_for_next_interval\u001B[49m\u001B[43m(\u001B[49m\u001B[43mavailable_solar_power\u001B[49m\u001B[43m,\u001B[49m\u001B[43m \u001B[49m\u001B[43mminute\u001B[49m\u001B[43m,\u001B[49m\u001B[43m \u001B[49m\u001B[43mcharging_power_pro_bev\u001B[49m\u001B[43m,\u001B[49m\u001B[43m \u001B[49m\u001B[43msimulation_day\u001B[49m\u001B[43m,\u001B[49m\n\u001B[0;32m     47\u001B[0m \u001B[43m                                            \u001B[49m\u001B[43mbev_data\u001B[49m\u001B[43m,\u001B[49m\u001B[43m \u001B[49m\u001B[43msimulation_data\u001B[49m\u001B[43m,\u001B[49m\u001B[43m \u001B[49m\u001B[43mminute_interval\u001B[49m\u001B[43m,\u001B[49m\u001B[43m \u001B[49m\u001B[43msolar_peak_power\u001B[49m\u001B[43m)\u001B[49m\n\u001B[0;32m     48\u001B[0m update_fueled_solar_energy(available_solar_power, simulation_day, minute_interval)\n",
      "File \u001B[1;32mD:\\Duales Studium\\DHBW\\Studienarbeit\\Code\\lademanagementsimulation\\main\\distributionAlgorithmForecastPolling.py:64\u001B[0m, in \u001B[0;36mupdate_charging_bevs_for_next_interval\u001B[1;34m(available_solar_power, minute, charging_power_pro_bev, simulation_day, bev_data, simulation_data, minute_interval, solar_peak_power)\u001B[0m\n\u001B[0;32m     62\u001B[0m \u001B[38;5;28;01mdef\u001B[39;00m \u001B[38;5;21mupdate_charging_bevs_for_next_interval\u001B[39m(available_solar_power, minute, charging_power_pro_bev, simulation_day,\n\u001B[0;32m     63\u001B[0m                                                 bev_data, simulation_data, minute_interval, solar_peak_power):\n\u001B[1;32m---> 64\u001B[0m     \u001B[43madd_charging_bevs_if_free_charging_stations\u001B[49m\u001B[43m(\u001B[49m\u001B[43mavailable_solar_power\u001B[49m\u001B[43m,\u001B[49m\u001B[43m \u001B[49m\u001B[43mminute\u001B[49m\u001B[43m,\u001B[49m\u001B[43m \u001B[49m\u001B[43mcharging_power_pro_bev\u001B[49m\u001B[43m,\u001B[49m\n\u001B[0;32m     65\u001B[0m \u001B[43m                                                \u001B[49m\u001B[43msimulation_day\u001B[49m\u001B[43m,\u001B[49m\u001B[43m \u001B[49m\u001B[43mbev_data\u001B[49m\u001B[43m,\u001B[49m\u001B[43m \u001B[49m\u001B[43msimulation_data\u001B[49m\u001B[43m,\u001B[49m\u001B[43m \u001B[49m\u001B[43mminute_interval\u001B[49m\u001B[43m,\u001B[49m\u001B[43m \u001B[49m\u001B[43msolar_peak_power\u001B[49m\u001B[43m)\u001B[49m\n",
      "File \u001B[1;32mD:\\Duales Studium\\DHBW\\Studienarbeit\\Code\\lademanagementsimulation\\main\\chargingStationOccupancy.py:22\u001B[0m, in \u001B[0;36madd_charging_bevs_if_free_charging_stations\u001B[1;34m(available_solar_power, minute, charging_power_pro_bev, simulation_day, bev_data, simulation_data, minute_interval, solar_peak_power)\u001B[0m\n\u001B[0;32m     19\u001B[0m number_of_unoccupied_charging_stations \u001B[38;5;241m=\u001B[39m get_number_of_unoccupied_charging_stations(\n\u001B[0;32m     20\u001B[0m     number_of_free_charging_stations, simulation_day)\n\u001B[0;32m     21\u001B[0m number_of_bevs_to_add \u001B[38;5;241m=\u001B[39m number_of_free_charging_stations \u001B[38;5;241m-\u001B[39m number_of_unoccupied_charging_stations\n\u001B[1;32m---> 22\u001B[0m \u001B[43madd_charging_bevs\u001B[49m\u001B[43m(\u001B[49m\u001B[43mnumber_of_bevs_to_add\u001B[49m\u001B[43m,\u001B[49m\u001B[43m \u001B[49m\u001B[43mminute\u001B[49m\u001B[43m,\u001B[49m\u001B[43m \u001B[49m\u001B[43msimulation_day\u001B[49m\u001B[43m)\u001B[49m\n",
      "File \u001B[1;32mD:\\Duales Studium\\DHBW\\Studienarbeit\\Code\\lademanagementsimulation\\main\\chargingStationOccupancy.py:44\u001B[0m, in \u001B[0;36madd_charging_bevs\u001B[1;34m(number_of_bevs_to_add, minute, simulation_day)\u001B[0m\n\u001B[0;32m     42\u001B[0m first_bev_waiting_on_list \u001B[38;5;241m=\u001B[39m simulation_day\u001B[38;5;241m.\u001B[39mwaiting_bevs_list\u001B[38;5;241m.\u001B[39mget_first_waiting_bev_of_list()\n\u001B[0;32m     43\u001B[0m \u001B[38;5;28mprint\u001B[39m(first_bev_waiting_on_list, \u001B[38;5;124m\"\u001B[39m\u001B[38;5;124mFirst BEV waiting on list\u001B[39m\u001B[38;5;124m\"\u001B[39m)\n\u001B[1;32m---> 44\u001B[0m \u001B[43msimulation_day\u001B[49m\u001B[38;5;241;43m.\u001B[39;49m\u001B[43mstart_charging\u001B[49m\u001B[43m(\u001B[49m\u001B[43mfirst_bev_waiting_on_list\u001B[49m\u001B[43m)\u001B[49m\n\u001B[0;32m     45\u001B[0m simulation_day\u001B[38;5;241m.\u001B[39minit_charging_data(first_bev_waiting_on_list, minute)\n",
      "File \u001B[1;32mD:\\Duales Studium\\DHBW\\Studienarbeit\\Code\\lademanagementsimulation\\main\\simulationClasses.py:218\u001B[0m, in \u001B[0;36mSimulationDay.start_charging\u001B[1;34m(self, id_bev)\u001B[0m\n\u001B[0;32m    216\u001B[0m \u001B[38;5;28;01mdef\u001B[39;00m \u001B[38;5;21mstart_charging\u001B[39m(\u001B[38;5;28mself\u001B[39m, id_bev):\n\u001B[0;32m    217\u001B[0m     \u001B[38;5;28mself\u001B[39m\u001B[38;5;241m.\u001B[39mcharging_bevs_list\u001B[38;5;241m.\u001B[39madd_bev(id_bev)\n\u001B[1;32m--> 218\u001B[0m     \u001B[38;5;28;43mself\u001B[39;49m\u001B[38;5;241;43m.\u001B[39;49m\u001B[43mwaiting_bevs_list\u001B[49m\u001B[38;5;241;43m.\u001B[39;49m\u001B[43mremove_bev\u001B[49m\u001B[43m(\u001B[49m\u001B[43mid_bev\u001B[49m\u001B[43m)\u001B[49m\n\u001B[0;32m    219\u001B[0m     \u001B[38;5;28mself\u001B[39m\u001B[38;5;241m.\u001B[39mbevs_dict\u001B[38;5;241m.\u001B[39mset_parking_state(id_bev, ParkingState\u001B[38;5;241m.\u001B[39mCHARGING)\n",
      "File \u001B[1;32mD:\\Duales Studium\\DHBW\\Studienarbeit\\Code\\lademanagementsimulation\\main\\simulationClasses.py:158\u001B[0m, in \u001B[0;36mWaitingBevsList.remove_bev\u001B[1;34m(self, id_bev)\u001B[0m\n\u001B[0;32m    157\u001B[0m \u001B[38;5;28;01mdef\u001B[39;00m \u001B[38;5;21mremove_bev\u001B[39m(\u001B[38;5;28mself\u001B[39m, id_bev):\n\u001B[1;32m--> 158\u001B[0m     \u001B[38;5;28;43mself\u001B[39;49m\u001B[38;5;241;43m.\u001B[39;49m\u001B[43mwaiting_bevs_list\u001B[49m\u001B[38;5;241;43m.\u001B[39;49m\u001B[43mremove\u001B[49m\u001B[43m(\u001B[49m\u001B[43mid_bev\u001B[49m\u001B[43m)\u001B[49m\n",
      "\u001B[1;31mValueError\u001B[0m: list.remove(x): x not in list"
     ]
    }
   ],
   "source": [
    "import distributionAlgorithmPolling\n",
    "import simulationClasses\n",
    "import simulationData\n",
    "import simulationOutputDataVisualisation\n",
    "import distributionAlgorithmForecast\n",
    "import distributionAlgorithmForecastPolling\n",
    "\n",
    "simulation_day = simulationClasses.SimulationDay(anzahl_bevs_pro_tag)\n",
    "bev_data = simulationData.BevData()\n",
    "table_dict = simulationData.TableDict()\n",
    "simulation_data = simulationData.SimulationData()\n",
    "\n",
    "# Auswahl des Algorithmus\n",
    "# algorithm = distributionAlgorithmPolling.Algorithm.POLLING_FIFO\n",
    "# algorithm = distributionAlgorithmPolling.Algorithm.POLLING_EVEN_DISTRIBUTION\n",
    "# distributionAlgorithmPolling.start_simulation(solarpeakleistung, maximale_ladezeit, ladeleistung_pro_bev, simulation_day, bev_data, table_dict, simulation_data, algorithm, minute_interval)\n",
    "\n",
    "#distributionAlgorithmForecast.start_algorithm(simulation_data, simulation_day, maximale_ladezeit, solarpeakleistung, \n",
    "  #                  bev_data, table_dict, ladeleistung_pro_bev, minute_interval)\n",
    "\n",
    "distributionAlgorithmForecastPolling.start_simulation(solarpeakleistung, ladeleistung_pro_bev,\n",
    "                     simulation_day, bev_data, table_dict, simulation_data, minute_interval)"
   ]
  },
  {
   "cell_type": "markdown",
   "metadata": {},
   "source": [
    "### Ergebnis Algorithmus"
   ]
  },
  {
   "cell_type": "code",
   "execution_count": null,
   "metadata": {},
   "outputs": [],
   "source": [
    "simulationOutputDataVisualisation.print_algorithm_result(bev_data, simulation_data, anzahl_bevs_pro_tag)"
   ]
  },
  {
   "cell_type": "markdown",
   "metadata": {},
   "source": [
    "### Tabellarische Übersicht Park- und Ladeverlauf der BEVs"
   ]
  },
  {
   "cell_type": "code",
   "execution_count": null,
   "metadata": {
    "pycharm": {
     "is_executing": true
    }
   },
   "outputs": [],
   "source": [
    "simulationOutputDataVisualisation.create_tabular_overview_per_minute_slider(table_dict, minute_interval)"
   ]
  },
  {
   "cell_type": "code",
   "execution_count": null,
   "metadata": {},
   "outputs": [],
   "source": [
    "import figureGeneration\n",
    "\n",
    "figureGeneration.create_charging_power_figure(simulation_day)"
   ]
  },
  {
   "cell_type": "code",
   "execution_count": null,
   "metadata": {},
   "outputs": [],
   "source": [
    "figureGeneration.create_bev_number_figure(simulation_data)"
   ]
  }
 ],
 "metadata": {
  "kernelspec": {
   "display_name": "Python 3 (ipykernel)",
   "language": "python",
   "name": "python3"
  },
  "language_info": {
   "codemirror_mode": {
    "name": "ipython",
    "version": 3
   },
   "file_extension": ".py",
   "mimetype": "text/x-python",
   "name": "python",
   "nbconvert_exporter": "python",
   "pygments_lexer": "ipython3",
   "version": "3.9.5"
  }
 },
 "nbformat": 4,
 "nbformat_minor": 4
}