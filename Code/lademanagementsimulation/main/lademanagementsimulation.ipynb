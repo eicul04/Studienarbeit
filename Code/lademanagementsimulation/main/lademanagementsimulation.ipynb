{
 "cells": [
  {
   "cell_type": "markdown",
   "metadata": {
    "pycharm": {
     "name": "#%% md\n"
    }
   },
   "source": [
    "# Lademanagementsimulation   \n"
   ]
  },
  {
   "cell_type": "markdown",
   "metadata": {},
   "source": [
    "### Simulations Parameter"
   ]
  },
  {
   "cell_type": "code",
   "execution_count": 1,
   "metadata": {
    "pycharm": {
     "name": "#%%\n"
    }
   },
   "outputs": [],
   "source": [
    "solarpeakleistung = 125 #Einheit Kilowattpeak (kWP)\n",
    "anzahl_bevs_pro_tag = 50\n",
    "ladeleistung_pro_bev = 11 #Einheit kW\n",
    "maximale_ladezeit = 30 #Einheit Minuten\n",
    "minute_interval = 15 #Einheit Minuten"
   ]
  },
  {
   "cell_type": "markdown",
   "metadata": {},
   "source": [
    "### Simulations Eingangsdaten"
   ]
  },
  {
   "cell_type": "code",
   "execution_count": 2,
   "metadata": {
    "pycharm": {
     "name": "#%%\n"
    }
   },
   "outputs": [
    {
     "data": {
      "text/html": [
       "\n",
       "        <iframe\n",
       "            width=\"100%\"\n",
       "            height=\"650\"\n",
       "            src=\"http://127.0.0.1:8050/\"\n",
       "            frameborder=\"0\"\n",
       "            allowfullscreen\n",
       "            \n",
       "        ></iframe>\n",
       "        "
      ],
      "text/plain": [
       "<IPython.lib.display.IFrame at 0x23cc0c5a280>"
      ]
     },
     "metadata": {},
     "output_type": "display_data"
    }
   ],
   "source": [
    "import simulationInputDataVisualisation\n",
    "simulationInputDataVisualisation.create_jupyter_dash_app(solarpeakleistung)"
   ]
  },
  {
   "cell_type": "markdown",
   "metadata": {},
   "source": [
    "### Verteilungsalgorithmus"
   ]
  },
  {
   "cell_type": "code",
   "execution_count": 3,
   "metadata": {},
   "outputs": [
    {
     "name": "stdout",
     "output_type": "stream",
     "text": [
      "\n",
      "\n",
      "Minute:  480\n",
      "Waiting BEVs:  [11, 14, 31, 32, 34, 36, 39, 49]\n",
      "Update fueled solar energy\n",
      "Charging BEVs:  []\n",
      "\n",
      "\n",
      "Minute:  495\n",
      "Waiting BEVs:  [11, 14, 31, 32, 34, 36, 39, 49]\n",
      "Add charging BEVs\n",
      "Update fueled solar energy\n",
      "3.25 charging_power_per_bev\n",
      "0 charging time\n",
      "Update Charging energy of BEVs\n",
      "Charging BEV Liste vor residual berechnung:  [11]\n",
      "Charging BEVs:  [11]\n",
      "\n",
      "\n",
      "Minute:  510\n",
      "Waiting BEVs:  [14, 31, 32, 34, 36, 39, 49, 2, 4, 6, 8, 9, 15, 16, 22, 25, 26, 27, 30, 33, 35, 38, 43, 45]\n",
      "Update fueled solar energy\n",
      "8.5 charging_power_per_bev\n",
      "15 charging time\n",
      "Update Charging energy of BEVs\n",
      "Charging BEV Liste vor residual berechnung:  [11]\n",
      "Die Restladezeit des BEVS 11 endet vor dem nächsten Interval\n",
      "Charging BEVs:  [14]\n",
      "\n",
      "\n",
      "Minute:  525\n",
      "Waiting BEVs:  [31, 32, 34, 36, 39, 49, 2, 4, 6, 8, 9, 15, 16, 22, 25, 26, 27, 30, 33, 35, 38, 43, 45]\n",
      "Add charging BEVs\n",
      "Update fueled solar energy\n",
      "6.875 charging_power_per_bev\n",
      "7.267058823529396 charging time\n",
      "Update Charging energy of BEVs which came between intervals\n",
      "0 charging time\n",
      "Update Charging energy of BEVs\n",
      "Charging BEV Liste vor residual berechnung:  [14, 31]\n",
      "Charging BEV Liste vor residual berechnung:  [14, 31]\n",
      "Charging BEVs:  [14, 31]\n",
      "\n",
      "\n",
      "Minute:  540\n",
      "Waiting BEVs:  [32, 34, 36, 39, 49, 2, 4, 6, 8, 9, 15, 16, 22, 25, 26, 27, 30, 33, 35, 38, 43, 45, 1, 5, 7, 12, 13, 21, 28, 44, 46, 47]\n",
      "Update fueled solar energy\n",
      "9.5 charging_power_per_bev\n",
      "22.267058823529396 charging time\n",
      "Update Charging energy of BEVs which came between intervals\n",
      "15 charging time\n",
      "Update Charging energy of BEVs\n",
      "Charging BEV Liste vor residual berechnung:  [14, 31]\n",
      "Charging BEV Liste vor residual berechnung:  [14, 31]\n",
      "Charging BEVs:  [14, 31]\n",
      "\n",
      "\n",
      "Minute:  555\n",
      "Waiting BEVs:  [32, 34, 36, 39, 49, 2, 4, 6, 8, 9, 15, 16, 22, 25, 26, 27, 30, 33, 35, 38, 43, 45, 1, 5, 7, 12, 13, 21, 28, 44, 46, 47]\n",
      "Add charging BEVs\n",
      "Update fueled solar energy\n",
      "9.0 charging_power_per_bev\n",
      "37.267058823529396 charging time\n",
      "Update Charging energy of BEVs which came between intervals\n",
      "30 charging time\n",
      "Update Charging energy of BEVs\n",
      "0 charging time\n",
      "Update Charging energy of BEVs\n",
      "Charging BEV Liste vor residual berechnung:  [14, 31, 32]\n",
      "Charging BEV Liste vor residual berechnung:  [14, 31, 32]\n",
      "Die Restladezeit des BEVS 31 endet vor dem nächsten Interval\n",
      "Charging BEV Liste vor residual berechnung:  [14, 32, 34]\n",
      "Charging BEVs:  [14, 32, 34]\n",
      "\n",
      "\n",
      "Minute:  570\n",
      "Waiting BEVs:  [36, 39, 49, 2, 4, 6, 8, 9, 15, 16, 22, 25, 26, 27, 30, 33, 35, 38, 43, 45, 1, 5, 7, 12, 13, 21, 28, 44, 46, 47, 23]\n",
      "Add charging BEVs\n",
      "Update fueled solar energy\n",
      "8.75 charging_power_per_bev\n",
      "52.267058823529396 charging time\n",
      "Update Charging energy of BEVs which came between intervals\n",
      "15 charging time\n",
      "Update Charging energy of BEVs\n",
      "13.92666666666662 charging time\n",
      "Update Charging energy of BEVs which came between intervals\n",
      "0 charging time\n",
      "Update Charging energy of BEVs\n",
      "Charging BEV Liste vor residual berechnung:  [14, 32, 34, 36]\n",
      "Charging BEV Liste vor residual berechnung:  [14, 32, 34, 36]\n",
      "Die Restladezeit des BEVS 32 endet vor dem nächsten Interval\n",
      "Charging BEV Liste vor residual berechnung:  [14, 34, 36, 39]\n",
      "Die Restladezeit des BEVS 36 endet vor dem nächsten Interval\n",
      "Charging BEV Liste vor residual berechnung:  [14, 34, 39, 49]\n",
      "Charging BEVs:  [14, 34, 39, 49]\n",
      "\n",
      "\n",
      "Minute:  585\n",
      "Waiting BEVs:  [2, 4, 6, 8, 9, 15, 16, 22, 25, 26, 27, 30, 33, 35, 38, 43, 45, 1, 5, 7, 12, 13, 21, 28, 44, 46, 47, 23]\n",
      "Update fueled solar energy\n",
      "10.75 charging_power_per_bev\n",
      "67.2670588235294 charging time\n",
      "Update Charging energy of BEVs which came between intervals\n",
      "28.92666666666662 charging time\n",
      "Update Charging energy of BEVs which came between intervals\n",
      "20.574857142857127 charging time\n",
      "Update Charging energy of BEVs which came between intervals\n",
      "10.220571428571475 charging time\n",
      "Update Charging energy of BEVs which came between intervals\n",
      "Charging BEV Liste vor residual berechnung:  [14, 34, 39, 49]\n",
      "Die Restladezeit des BEVS 14 endet vor dem nächsten Interval\n",
      "Charging BEV Liste vor residual berechnung:  [34, 39, 49, 2]\n",
      "Charging BEV Liste vor residual berechnung:  [34, 39, 49, 2]\n",
      "Charging BEV Liste vor residual berechnung:  [34, 39, 49, 2]\n",
      "Charging BEVs:  [34, 39, 49, 2]\n",
      "\n",
      "\n",
      "Minute:  600\n",
      "Waiting BEVs:  [4, 6, 8, 9, 15, 16, 22, 25, 26, 27, 30, 33, 35, 38, 43, 45, 1, 5, 7, 12, 13, 21, 28, 44, 46, 47, 23]\n",
      "Add charging BEVs\n",
      "Update fueled solar energy\n",
      "10.2 charging_power_per_bev\n",
      "43.92666666666662 charging time\n",
      "Update Charging energy of BEVs which came between intervals\n",
      "35.57485714285713 charging time\n",
      "Update Charging energy of BEVs which came between intervals\n",
      "25.220571428571475 charging time\n",
      "Update Charging energy of BEVs which came between intervals\n",
      "7.359069767441838 charging time\n",
      "Update Charging energy of BEVs which came between intervals\n",
      "0 charging time\n",
      "Update Charging energy of BEVs\n",
      "Charging BEV Liste vor residual berechnung:  [34, 39, 49, 2, 4]\n",
      "Die Restladezeit des BEVS 34 endet vor dem nächsten Interval\n",
      "Charging BEV Liste vor residual berechnung:  [39, 49, 2, 4, 6]\n",
      "Die Restladezeit des BEVS 49 endet vor dem nächsten Interval\n",
      "Charging BEV Liste vor residual berechnung:  [39, 2, 4, 6, 8]\n",
      "Charging BEV Liste vor residual berechnung:  [39, 2, 4, 6, 8]\n",
      "Charging BEV Liste vor residual berechnung:  [39, 2, 4, 6, 8]\n",
      "Charging BEVs:  [39, 2, 4, 6, 8]\n",
      "\n",
      "\n",
      "Minute:  615\n",
      "Waiting BEVs:  [9, 15, 16, 22, 25, 26, 27, 30, 33, 35, 38, 43, 45, 1, 5, 7, 12, 13, 21, 28, 44, 46, 47, 23]\n",
      "Update fueled solar energy\n",
      "10.15 charging_power_per_bev\n",
      "50.57485714285713 charging time\n",
      "Update Charging energy of BEVs which came between intervals\n",
      "22.359069767441838 charging time\n",
      "Update Charging energy of BEVs which came between intervals\n",
      "15 charging time\n",
      "Update Charging energy of BEVs\n",
      "26.99411764705883 charging time\n",
      "Update Charging energy of BEVs which came between intervals\n",
      "5.458823529411802 charging time\n",
      "Update Charging energy of BEVs which came between intervals\n",
      "Charging BEV Liste vor residual berechnung:  [39, 2, 4, 6, 8]\n",
      "Charging BEV Liste vor residual berechnung:  [39, 2, 4, 6, 8]\n",
      "Charging BEV Liste vor residual berechnung:  [39, 2, 4, 6, 8]\n",
      "Die Restladezeit des BEVS 4 endet vor dem nächsten Interval\n",
      "Charging BEV Liste vor residual berechnung:  [39, 2, 6, 8, 9]\n",
      "Charging BEV Liste vor residual berechnung:  [39, 2, 6, 8, 9]\n",
      "Charging BEVs:  [39, 2, 6, 8, 9]\n",
      "\n",
      "\n",
      "Minute:  630\n",
      "Waiting BEVs:  [15, 16, 22, 25, 26, 27, 30, 33, 35, 38, 43, 45, 1, 5, 7, 12, 13, 21, 28, 44, 46, 47, 23]\n",
      "Update fueled solar energy\n",
      "10.1 charging_power_per_bev\n",
      "65.57485714285713 charging time\n",
      "Update Charging energy of BEVs which came between intervals\n",
      "37.35906976744184 charging time\n",
      "Update Charging energy of BEVs which came between intervals\n",
      "41.99411764705883 charging time\n",
      "Update Charging energy of BEVs which came between intervals\n",
      "20.458823529411802 charging time\n",
      "Update Charging energy of BEVs which came between intervals\n",
      "2.0423645320197465 charging time\n",
      "Update Charging energy of BEVs which came between intervals\n",
      "Charging BEV Liste vor residual berechnung:  [39, 2, 6, 8, 9]\n",
      "Charging BEV Liste vor residual berechnung:  [39, 2, 6, 8, 9]\n",
      "Charging BEV Liste vor residual berechnung:  [39, 2, 6, 8, 9]\n",
      "Charging BEV Liste vor residual berechnung:  [39, 2, 6, 8, 9]\n",
      "Charging BEV Liste vor residual berechnung:  [39, 2, 6, 8, 9]\n",
      "Charging BEVs:  [39, 2, 6, 8, 9]\n",
      "\n",
      "\n",
      "Minute:  645\n",
      "Waiting BEVs:  [15, 16, 22, 25, 26, 27, 30, 33, 35, 38, 43, 45, 1, 5, 7, 12, 13, 21, 28, 44, 46, 47, 23]\n",
      "Update fueled solar energy\n",
      "10.05 charging_power_per_bev\n",
      "80.57485714285713 charging time\n",
      "Update Charging energy of BEVs which came between intervals\n",
      "52.35906976744184 charging time\n",
      "Update Charging energy of BEVs which came between intervals\n",
      "56.99411764705883 charging time\n",
      "Update Charging energy of BEVs which came between intervals\n",
      "35.4588235294118 charging time\n",
      "Update Charging energy of BEVs which came between intervals\n",
      "17.042364532019747 charging time\n",
      "Update Charging energy of BEVs which came between intervals\n",
      "Charging BEV Liste vor residual berechnung:  [39, 2, 6, 8, 9]\n",
      "Charging BEV Liste vor residual berechnung:  [39, 2, 6, 8, 9]\n",
      "Die Restladezeit des BEVS 2 endet vor dem nächsten Interval\n",
      "Charging BEV Liste vor residual berechnung:  [39, 6, 8, 9, 15]\n",
      "Charging BEV Liste vor residual berechnung:  [39, 6, 8, 9, 15]\n",
      "Charging BEV Liste vor residual berechnung:  [39, 6, 8, 9, 15]\n",
      "Charging BEVs:  [39, 6, 8, 9, 15]\n",
      "\n",
      "\n",
      "Minute:  660\n",
      "Waiting BEVs:  [16, 22, 25, 26, 27, 30, 33, 35, 38, 43, 45, 1, 5, 7, 12, 13, 21, 28, 44, 46, 47, 23]\n",
      "Update fueled solar energy\n",
      "10.0 charging_power_per_bev\n",
      "95.57485714285713 charging time\n",
      "Update Charging energy of BEVs which came between intervals\n",
      "71.99411764705883 charging time\n",
      "Update Charging energy of BEVs which came between intervals\n",
      "50.4588235294118 charging time\n",
      "Update Charging energy of BEVs which came between intervals\n",
      "32.04236453201975 charging time\n",
      "Update Charging energy of BEVs which came between intervals\n",
      "2.689552238805959 charging time\n",
      "Update Charging energy of BEVs which came between intervals\n",
      "Charging BEV Liste vor residual berechnung:  [39, 6, 8, 9, 15]\n",
      "Die Restladezeit des BEVS 39 endet vor dem nächsten Interval\n",
      "Charging BEV Liste vor residual berechnung:  [6, 8, 9, 15, 16]\n",
      "Charging BEV Liste vor residual berechnung:  [6, 8, 9, 15, 16]\n",
      "Charging BEV Liste vor residual berechnung:  [6, 8, 9, 15, 16]\n",
      "Charging BEV Liste vor residual berechnung:  [6, 8, 9, 15, 16]\n"
     ]
    },
    {
     "name": "stdout",
     "output_type": "stream",
     "text": [
      "Charging BEVs:  [6, 8, 9, 15, 16]\n",
      "\n",
      "\n",
      "Minute:  675\n",
      "Waiting BEVs:  [22, 25, 26, 27, 30, 33, 35, 38, 43, 45, 1, 5, 7, 12, 13, 21, 28, 44, 46, 47, 23]\n",
      "Update fueled solar energy\n",
      "10.25 charging_power_per_bev\n",
      "86.99411764705883 charging time\n",
      "Update Charging energy of BEVs which came between intervals\n",
      "65.4588235294118 charging time\n",
      "Update Charging energy of BEVs which came between intervals\n",
      "47.04236453201975 charging time\n",
      "Update Charging energy of BEVs which came between intervals\n",
      "17.68955223880596 charging time\n",
      "Update Charging energy of BEVs which came between intervals\n",
      "3.9360000000000355 charging time\n",
      "Update Charging energy of BEVs which came between intervals\n",
      "Charging BEV Liste vor residual berechnung:  [6, 8, 9, 15, 16]\n",
      "Die Restladezeit des BEVS 6 endet vor dem nächsten Interval\n",
      "Charging BEV Liste vor residual berechnung:  [8, 9, 15, 16, 22]\n",
      "Charging BEV Liste vor residual berechnung:  [8, 9, 15, 16, 22]\n",
      "Charging BEV Liste vor residual berechnung:  [8, 9, 15, 16, 22]\n",
      "Charging BEV Liste vor residual berechnung:  [8, 9, 15, 16, 22]\n",
      "Charging BEVs:  [8, 9, 15, 16, 22]\n",
      "\n",
      "\n",
      "Minute:  690\n",
      "Waiting BEVs:  [25, 26, 27, 30, 33, 35, 38, 43, 45, 1, 5, 7, 12, 13, 21, 28, 44, 46, 47, 23]\n",
      "Update fueled solar energy\n",
      "10.5 charging_power_per_bev\n",
      "80.4588235294118 charging time\n",
      "Update Charging energy of BEVs which came between intervals\n",
      "62.04236453201975 charging time\n",
      "Update Charging energy of BEVs which came between intervals\n",
      "32.68955223880596 charging time\n",
      "Update Charging energy of BEVs which came between intervals\n",
      "18.936000000000035 charging time\n",
      "Update Charging energy of BEVs which came between intervals\n",
      "33.0 charging time\n",
      "Update Charging energy of BEVs which came between intervals\n",
      "Charging BEV Liste vor residual berechnung:  [8, 9, 15, 16, 22]\n",
      "Die Restladezeit des BEVS 8 endet vor dem nächsten Interval\n",
      "Charging BEV Liste vor residual berechnung:  [9, 15, 16, 22, 25]\n",
      "Charging BEV Liste vor residual berechnung:  [9, 15, 16, 22, 25]\n",
      "Charging BEV Liste vor residual berechnung:  [9, 15, 16, 22, 25]\n",
      "Charging BEV Liste vor residual berechnung:  [9, 15, 16, 22, 25]\n",
      "Charging BEVs:  [9, 15, 16, 22, 25]\n",
      "\n",
      "\n",
      "Minute:  705\n",
      "Waiting BEVs:  [26, 27, 30, 33, 38, 43, 45, 1, 5, 7, 12, 13, 21, 28, 44, 46, 47, 23]\n",
      "Update fueled solar energy\n",
      "10.75 charging_power_per_bev\n",
      "77.04236453201975 charging time\n",
      "Update Charging energy of BEVs which came between intervals\n",
      "47.68955223880596 charging time\n",
      "Update Charging energy of BEVs which came between intervals\n",
      "33.936000000000035 charging time\n",
      "Update Charging energy of BEVs which came between intervals\n",
      "48.0 charging time\n",
      "Update Charging energy of BEVs which came between intervals\n",
      "6.565714285714307 charging time\n",
      "Update Charging energy of BEVs which came between intervals\n",
      "Charging BEV Liste vor residual berechnung:  [9, 15, 16, 22, 25]\n",
      "Charging BEV Liste vor residual berechnung:  [9, 15, 16, 22, 25]\n",
      "Charging BEV Liste vor residual berechnung:  [9, 15, 16, 22, 25]\n",
      "Charging BEV Liste vor residual berechnung:  [9, 15, 16, 22, 25]\n",
      "Charging BEV Liste vor residual berechnung:  [9, 15, 16, 22, 25]\n",
      "Charging BEVs:  [9, 15, 16, 22, 25]\n",
      "\n",
      "\n",
      "Minute:  720\n",
      "Waiting BEVs:  [26, 27, 30, 38, 43, 45, 1, 5, 7, 12, 13, 21, 28, 44, 46, 47, 23, 29]\n",
      "Update fueled solar energy\n",
      "11.0 charging_power_per_bev\n",
      "92.04236453201975 charging time\n",
      "Update Charging energy of BEVs which came between intervals\n",
      "62.68955223880596 charging time\n",
      "Update Charging energy of BEVs which came between intervals\n",
      "48.936000000000035 charging time\n",
      "Update Charging energy of BEVs which came between intervals\n",
      "63.0 charging time\n",
      "Update Charging energy of BEVs which came between intervals\n",
      "21.565714285714307 charging time\n",
      "Update Charging energy of BEVs which came between intervals\n",
      "Charging BEV Liste vor residual berechnung:  [9, 15, 16, 22, 25]\n",
      "Charging BEV Liste vor residual berechnung:  [9, 15, 16, 22, 25]\n",
      "Charging BEV Liste vor residual berechnung:  [9, 15, 16, 22, 25]\n",
      "Charging BEV Liste vor residual berechnung:  [9, 15, 16, 22, 25]\n",
      "Charging BEV Liste vor residual berechnung:  [9, 15, 16, 22, 25]\n",
      "Charging BEVs:  [9, 15, 16, 22, 25]\n",
      "\n",
      "\n",
      "Minute:  735\n",
      "Waiting BEVs:  [26, 27, 30, 38, 43, 45, 1, 5, 7, 12, 13, 21, 28, 44, 46, 47, 23, 29]\n",
      "Update fueled solar energy\n",
      "10.05 charging_power_per_bev\n",
      "107.04236453201975 charging time\n",
      "Update Charging energy of BEVs which came between intervals\n",
      "77.68955223880596 charging time\n",
      "Update Charging energy of BEVs which came between intervals\n",
      "63.936000000000035 charging time\n",
      "Update Charging energy of BEVs which came between intervals\n",
      "78.0 charging time\n",
      "Update Charging energy of BEVs which came between intervals\n",
      "36.56571428571431 charging time\n",
      "Update Charging energy of BEVs which came between intervals\n",
      "Charging BEV Liste vor residual berechnung:  [9, 15, 16, 22, 25]\n",
      "Charging BEV Liste vor residual berechnung:  [9, 15, 16, 22, 25]\n",
      "Charging BEV Liste vor residual berechnung:  [9, 15, 16, 22, 25]\n",
      "Charging BEV Liste vor residual berechnung:  [9, 15, 16, 22, 25]\n",
      "Charging BEV Liste vor residual berechnung:  [9, 15, 16, 22, 25]\n",
      "Die Restladezeit des BEVS 25 endet vor dem nächsten Interval\n",
      "Charging BEVs:  [9, 15, 16, 22, 26]\n",
      "\n",
      "\n",
      "Minute:  750\n",
      "Waiting BEVs:  [27, 30, 38, 45, 5, 7, 12, 13, 21, 28, 44, 46, 47, 23, 29, 10, 17, 19, 37, 48]\n",
      "Update fueled solar energy\n",
      "9.1 charging_power_per_bev\n",
      "122.04236453201975 charging time\n",
      "Update Charging energy of BEVs which came between intervals\n",
      "92.68955223880596 charging time\n",
      "Update Charging energy of BEVs which came between intervals\n",
      "78.93600000000004 charging time\n",
      "Update Charging energy of BEVs which came between intervals\n",
      "93.0 charging time\n",
      "Update Charging energy of BEVs which came between intervals\n",
      "1.8208955223880139 charging time\n",
      "Update Charging energy of BEVs which came between intervals\n",
      "Charging BEV Liste vor residual berechnung:  [9, 15, 16, 22, 26]\n",
      "Charging BEV Liste vor residual berechnung:  [9, 15, 16, 22, 26]\n",
      "Charging BEV Liste vor residual berechnung:  [9, 15, 16, 22, 26]\n",
      "Charging BEV Liste vor residual berechnung:  [9, 15, 16, 22, 26]\n",
      "Charging BEV Liste vor residual berechnung:  [9, 15, 16, 22, 26]\n",
      "Charging BEVs:  [9, 15, 16, 22, 26]\n",
      "\n",
      "\n",
      "Minute:  765\n",
      "Waiting BEVs:  [27, 30, 38, 45, 5, 7, 12, 13, 21, 28, 44, 46, 47, 23, 29, 10, 17, 19, 37, 48]\n",
      "Update fueled solar energy\n",
      "8.15 charging_power_per_bev\n",
      "137.04236453201975 charging time\n",
      "Update Charging energy of BEVs which came between intervals\n",
      "107.68955223880596 charging time\n",
      "Update Charging energy of BEVs which came between intervals\n",
      "93.93600000000004 charging time\n",
      "Update Charging energy of BEVs which came between intervals\n",
      "108.0 charging time\n",
      "Update Charging energy of BEVs which came between intervals\n",
      "16.820895522388014 charging time\n",
      "Update Charging energy of BEVs which came between intervals\n",
      "Charging BEV Liste vor residual berechnung:  [9, 15, 16, 22, 26]\n",
      "Charging BEV Liste vor residual berechnung:  [9, 15, 16, 22, 26]\n",
      "Charging BEV Liste vor residual berechnung:  [9, 15, 16, 22, 26]\n",
      "Charging BEV Liste vor residual berechnung:  [9, 15, 16, 22, 26]\n",
      "Charging BEV Liste vor residual berechnung:  [9, 15, 16, 22, 26]\n",
      "Charging BEVs:  [9, 15, 16, 22, 26]\n",
      "\n",
      "\n",
      "Minute:  780\n",
      "Waiting BEVs:  [30, 38, 45, 5, 7, 12, 13, 21, 28, 44, 46, 47, 23, 29, 10, 17, 19, 37, 48, 0, 3, 18, 20, 24, 41, 42]\n",
      "Update fueled solar energy\n",
      "7.2 charging_power_per_bev\n",
      "152.04236453201975 charging time\n",
      "Update Charging energy of BEVs which came between intervals\n",
      "122.68955223880596 charging time\n",
      "Update Charging energy of BEVs which came between intervals\n",
      "108.93600000000004 charging time\n",
      "Update Charging energy of BEVs which came between intervals\n",
      "123.0 charging time\n",
      "Update Charging energy of BEVs which came between intervals\n",
      "31.820895522388014 charging time\n",
      "Update Charging energy of BEVs which came between intervals\n",
      "Charging BEV Liste vor residual berechnung:  [9, 15, 16, 22, 26]\n",
      "Charging BEV Liste vor residual berechnung:  [9, 15, 16, 22, 26]\n",
      "Charging BEV Liste vor residual berechnung:  [9, 15, 16, 22, 26]\n",
      "Charging BEV Liste vor residual berechnung:  [9, 15, 16, 22, 26]\n",
      "Charging BEV Liste vor residual berechnung:  [9, 15, 16, 22, 26]\n",
      "Charging BEVs:  [9, 15, 16, 22, 26]\n",
      "\n",
      "\n",
      "Minute:  795\n",
      "Waiting BEVs:  [30, 38, 45, 5, 7, 12, 13, 21, 28, 44, 46, 47, 23, 29, 10, 17, 19, 37, 48, 0, 3, 18, 20, 24, 41, 42]\n",
      "Update fueled solar energy\n",
      "7.5 charging_power_per_bev\n",
      "167.04236453201975 charging time\n",
      "Update Charging energy of BEVs which came between intervals\n",
      "137.68955223880596 charging time\n",
      "Update Charging energy of BEVs which came between intervals\n",
      "123.93600000000004 charging time\n",
      "Update Charging energy of BEVs which came between intervals\n",
      "138.0 charging time\n",
      "Update Charging energy of BEVs which came between intervals\n",
      "46.820895522388014 charging time\n",
      "Update Charging energy of BEVs which came between intervals\n",
      "Charging BEV Liste vor residual berechnung:  [9, 15, 16, 22, 26]\n",
      "Charging BEV Liste vor residual berechnung:  [9, 15, 16, 22, 26]\n",
      "Charging BEV Liste vor residual berechnung:  [9, 15, 16, 22, 26]\n",
      "Die Restladezeit des BEVS 16 endet vor dem nächsten Interval\n",
      "Charging BEV Liste vor residual berechnung:  [9, 15, 22, 26, 30]\n",
      "Charging BEV Liste vor residual berechnung:  [9, 15, 22, 26, 30]\n",
      "Charging BEVs:  [9, 15, 22, 26, 30]\n",
      "\n",
      "\n",
      "Minute:  810\n",
      "Waiting BEVs:  [38, 45, 5, 7, 13, 21, 28, 44, 46, 47, 23, 29, 10, 17, 19, 37, 48, 0, 3, 18, 20, 24, 41, 42, 40]\n",
      "Update fueled solar energy\n",
      "7.8 charging_power_per_bev\n",
      "182.04236453201975 charging time\n",
      "Update Charging energy of BEVs which came between intervals\n",
      "152.68955223880596 charging time\n",
      "Update Charging energy of BEVs which came between intervals\n",
      "153.0 charging time\n",
      "Update Charging energy of BEVs which came between intervals\n",
      "61.820895522388014 charging time\n",
      "Update Charging energy of BEVs which came between intervals\n"
     ]
    },
    {
     "name": "stdout",
     "output_type": "stream",
     "text": [
      "3.104000000000042 charging time\n",
      "Update Charging energy of BEVs which came between intervals\n",
      "Charging BEV Liste vor residual berechnung:  [9, 15, 22, 26, 30]\n",
      "Charging BEV Liste vor residual berechnung:  [9, 15, 22, 26, 30]\n",
      "Charging BEV Liste vor residual berechnung:  [9, 15, 22, 26, 30]\n",
      "Charging BEV Liste vor residual berechnung:  [9, 15, 22, 26, 30]\n",
      "Charging BEV Liste vor residual berechnung:  [9, 15, 22, 26, 30]\n",
      "Charging BEVs:  [9, 15, 22, 26, 30]\n",
      "\n",
      "\n",
      "Minute:  825\n",
      "Waiting BEVs:  [38, 45, 7, 13, 21, 28, 44, 46, 47, 23, 29, 10, 17, 19, 37, 48, 0, 3, 18, 20, 24, 41, 42, 40]\n",
      "Update fueled solar energy\n",
      "8.1 charging_power_per_bev\n",
      "197.04236453201975 charging time\n",
      "Update Charging energy of BEVs which came between intervals\n",
      "167.68955223880596 charging time\n",
      "Update Charging energy of BEVs which came between intervals\n",
      "168.0 charging time\n",
      "Update Charging energy of BEVs which came between intervals\n",
      "76.82089552238801 charging time\n",
      "Update Charging energy of BEVs which came between intervals\n",
      "18.104000000000042 charging time\n",
      "Update Charging energy of BEVs which came between intervals\n",
      "Charging BEV Liste vor residual berechnung:  [9, 15, 22, 26, 30]\n",
      "Charging BEV Liste vor residual berechnung:  [9, 15, 22, 26, 30]\n",
      "Charging BEV Liste vor residual berechnung:  [9, 15, 22, 26, 30]\n",
      "Charging BEV Liste vor residual berechnung:  [9, 15, 22, 26, 30]\n",
      "Charging BEV Liste vor residual berechnung:  [9, 15, 22, 26, 30]\n",
      "Charging BEVs:  [9, 15, 22, 26, 30]\n",
      "\n",
      "\n",
      "Minute:  840\n",
      "Waiting BEVs:  [38, 45, 7, 13, 28, 44, 46, 47, 23, 29, 10, 17, 19, 37, 48, 0, 3, 18, 20, 24, 41, 42, 40]\n",
      "Update fueled solar energy\n",
      "8.4 charging_power_per_bev\n",
      "212.04236453201975 charging time\n",
      "Update Charging energy of BEVs which came between intervals\n",
      "182.68955223880596 charging time\n",
      "Update Charging energy of BEVs which came between intervals\n",
      "183.0 charging time\n",
      "Update Charging energy of BEVs which came between intervals\n",
      "91.82089552238801 charging time\n",
      "Update Charging energy of BEVs which came between intervals\n",
      "33.10400000000004 charging time\n",
      "Update Charging energy of BEVs which came between intervals\n",
      "Charging BEV Liste vor residual berechnung:  [9, 15, 22, 26, 30]\n",
      "Charging BEV Liste vor residual berechnung:  [9, 15, 22, 26, 30]\n",
      "Charging BEV Liste vor residual berechnung:  [9, 15, 22, 26, 30]\n",
      "Charging BEV Liste vor residual berechnung:  [9, 15, 22, 26, 30]\n",
      "Charging BEV Liste vor residual berechnung:  [9, 15, 22, 26, 30]\n",
      "Charging BEVs:  [9, 15, 22, 26, 30]\n",
      "\n",
      "\n",
      "Minute:  855\n",
      "Waiting BEVs:  [38, 45, 7, 13, 28, 44, 46, 47, 23, 29, 10, 17, 19, 37, 48, 0, 3, 18, 20, 24, 41, 42, 40]\n",
      "Update fueled solar energy\n",
      "7.2 charging_power_per_bev\n",
      "227.04236453201975 charging time\n",
      "Update Charging energy of BEVs which came between intervals\n",
      "197.68955223880596 charging time\n",
      "Update Charging energy of BEVs which came between intervals\n",
      "198.0 charging time\n",
      "Update Charging energy of BEVs which came between intervals\n",
      "106.82089552238801 charging time\n",
      "Update Charging energy of BEVs which came between intervals\n",
      "48.10400000000004 charging time\n",
      "Update Charging energy of BEVs which came between intervals\n",
      "Charging BEV Liste vor residual berechnung:  [9, 15, 22, 26, 30]\n",
      "Charging BEV Liste vor residual berechnung:  [9, 15, 22, 26, 30]\n",
      "Charging BEV Liste vor residual berechnung:  [9, 15, 22, 26, 30]\n",
      "Charging BEV Liste vor residual berechnung:  [9, 15, 22, 26, 30]\n",
      "Charging BEV Liste vor residual berechnung:  [9, 15, 22, 26, 30]\n",
      "Charging BEVs:  [9, 15, 22, 26, 30]\n",
      "\n",
      "\n",
      "Minute:  870\n",
      "Waiting BEVs:  [38, 45, 7, 13, 28, 44, 46, 47, 23, 29, 10, 17, 19, 37, 48, 0, 3, 18, 20, 24, 41, 42, 40]\n",
      "Update fueled solar energy\n",
      "6.0 charging_power_per_bev\n",
      "242.04236453201975 charging time\n",
      "Update Charging energy of BEVs which came between intervals\n",
      "212.68955223880596 charging time\n",
      "Update Charging energy of BEVs which came between intervals\n",
      "213.0 charging time\n",
      "Update Charging energy of BEVs which came between intervals\n",
      "121.82089552238801 charging time\n",
      "Update Charging energy of BEVs which came between intervals\n",
      "63.10400000000004 charging time\n",
      "Update Charging energy of BEVs which came between intervals\n",
      "Charging BEV Liste vor residual berechnung:  [9, 15, 22, 26, 30]\n",
      "Charging BEV Liste vor residual berechnung:  [9, 15, 22, 26, 30]\n",
      "Charging BEV Liste vor residual berechnung:  [9, 15, 22, 26, 30]\n",
      "Charging BEV Liste vor residual berechnung:  [9, 15, 22, 26, 30]\n",
      "Charging BEV Liste vor residual berechnung:  [9, 15, 22, 26, 30]\n",
      "Charging BEVs:  [9, 15, 22, 26, 30]\n",
      "\n",
      "\n",
      "Minute:  885\n",
      "Waiting BEVs:  [38, 45, 7, 13, 28, 44, 46, 47, 23, 29, 10, 17, 19, 37, 48, 0, 3, 18, 20, 24, 41, 42, 40]\n",
      "Update fueled solar energy\n",
      "6.0 charging_power_per_bev\n",
      "257.04236453201975 charging time\n",
      "Update Charging energy of BEVs which came between intervals\n",
      "227.68955223880596 charging time\n",
      "Update Charging energy of BEVs which came between intervals\n",
      "136.820895522388 charging time\n",
      "Update Charging energy of BEVs which came between intervals\n",
      "78.10400000000004 charging time\n",
      "Update Charging energy of BEVs which came between intervals\n",
      "Charging BEV Liste vor residual berechnung:  [9, 15, 26, 30]\n",
      "Charging BEV Liste vor residual berechnung:  [9, 15, 26, 30]\n",
      "Charging BEV Liste vor residual berechnung:  [9, 15, 26, 30]\n",
      "Charging BEV Liste vor residual berechnung:  [9, 15, 26, 30]\n",
      "Charging BEVs:  [9, 15, 26, 30]\n",
      "\n",
      "\n",
      "Minute:  900\n",
      "Waiting BEVs:  [38, 7, 13, 28, 44, 47, 23, 29, 10, 17, 19, 37, 48, 0, 3, 18, 20, 24, 41, 42, 40]\n",
      "Update fueled solar energy\n",
      "9.0 charging_power_per_bev\n",
      "242.68955223880596 charging time\n",
      "Update Charging energy of BEVs which came between intervals\n",
      "151.820895522388 charging time\n",
      "Update Charging energy of BEVs which came between intervals\n",
      "Charging BEV Liste vor residual berechnung:  [15, 26]\n",
      "Die Restladezeit des BEVS 15 endet vor dem nächsten Interval\n",
      "Charging BEV Liste vor residual berechnung:  [26, 38]\n",
      "Charging BEVs:  [26, 38]\n",
      "\n",
      "\n",
      "Minute:  915\n",
      "Waiting BEVs:  [7, 13, 28, 47, 23, 10, 17, 19, 37, 48, 0, 3, 18, 20, 24, 41, 42, 40]\n",
      "Update fueled solar energy\n",
      "7.875 charging_power_per_bev\n",
      "166.820895522388 charging time\n",
      "Update Charging energy of BEVs which came between intervals\n",
      "6.409999999999968 charging time\n",
      "Update Charging energy of BEVs which came between intervals\n",
      "Charging BEV Liste vor residual berechnung:  [26, 38]\n",
      "Charging BEV Liste vor residual berechnung:  [26, 38]\n",
      "Charging BEVs:  [26, 38]\n",
      "\n",
      "\n",
      "Minute:  930\n",
      "Waiting BEVs:  [13, 23, 10, 17, 19, 37, 48, 0, 3, 18, 20, 24, 41, 42, 40]\n",
      "Add charging BEVs\n",
      "Update fueled solar energy\n",
      "6.75 charging_power_per_bev\n",
      "21.409999999999968 charging time\n",
      "Update Charging energy of BEVs which came between intervals\n",
      "0 charging time\n",
      "Update Charging energy of BEVs\n",
      "Charging BEV Liste vor residual berechnung:  [38, 13]\n",
      "Charging BEV Liste vor residual berechnung:  [38, 13]\n",
      "Charging BEVs:  [38, 13]\n",
      "\n",
      "\n",
      "Minute:  945\n",
      "Waiting BEVs:  [23, 10, 17, 19, 37, 48, 0, 3, 18, 20, 24, 41, 42, 40]\n",
      "Update fueled solar energy\n",
      "5.625 charging_power_per_bev\n",
      "36.40999999999997 charging time\n",
      "Update Charging energy of BEVs which came between intervals\n",
      "15 charging time\n",
      "Update Charging energy of BEVs\n",
      "Charging BEV Liste vor residual berechnung:  [38, 13]\n",
      "Charging BEV Liste vor residual berechnung:  [38, 13]\n",
      "Charging BEVs:  [38, 13]\n",
      "\n",
      "\n",
      "Minute:  960\n",
      "Waiting BEVs:  [23, 10, 17, 19, 37, 48, 0, 3, 18, 20, 24, 41, 42, 40]\n",
      "Update fueled solar energy\n",
      "4.5 charging_power_per_bev\n",
      "51.40999999999997 charging time\n",
      "Update Charging energy of BEVs which came between intervals\n",
      "30 charging time\n",
      "Update Charging energy of BEVs\n",
      "Charging BEV Liste vor residual berechnung:  [38, 13]\n",
      "Charging BEV Liste vor residual berechnung:  [38, 13]\n",
      "Charging BEVs:  [38, 13]\n"
     ]
    }
   ],
   "source": [
    "import distributionAlgorithmPolling\n",
    "import simulationClasses\n",
    "import simulationData\n",
    "import simulationOutputDataVisualisation\n",
    "import distributionAlgorithmForecast\n",
    "import distributionAlgorithmForecastPolling\n",
    "\n",
    "simulation_day = simulationClasses.SimulationDay(anzahl_bevs_pro_tag)\n",
    "bev_data = simulationData.BevData()\n",
    "table_dict = simulationData.TableDict()\n",
    "simulation_data = simulationData.SimulationData()\n",
    "\n",
    "# Auswahl des Algorithmus\n",
    "# algorithm = distributionAlgorithmPolling.Algorithm.POLLING_FIFO\n",
    "# algorithm = distributionAlgorithmPolling.Algorithm.POLLING_EVEN_DISTRIBUTION\n",
    "# distributionAlgorithmPolling.start_simulation(solarpeakleistung, maximale_ladezeit, ladeleistung_pro_bev, simulation_day, bev_data, table_dict, simulation_data, algorithm, minute_interval)\n",
    "\n",
    "#distributionAlgorithmForecast.start_algorithm(simulation_data, simulation_day, maximale_ladezeit, solarpeakleistung, \n",
    "  #                  bev_data, table_dict, ladeleistung_pro_bev, minute_interval)\n",
    "\n",
    "distributionAlgorithmForecastPolling.start_simulation(solarpeakleistung, ladeleistung_pro_bev,\n",
    "                     simulation_day, bev_data, table_dict, simulation_data, minute_interval)"
   ]
  },
  {
   "cell_type": "markdown",
   "metadata": {},
   "source": [
    "### Ergebnis Algorithmus"
   ]
  },
  {
   "cell_type": "code",
   "execution_count": 4,
   "metadata": {},
   "outputs": [
    {
     "data": {
      "text/markdown": [
       ">**Ergebnis**<br>Geladene BEVs: 21 von 50<br>Unterbrochene Aufladevorgänge 0<br>Aufgeladene Solarenergie insgesamt: 102.99 kWh<br>Ungenutzte Solarenergie insgesamt: 0 kWh"
      ],
      "text/plain": [
       "<IPython.core.display.Markdown object>"
      ]
     },
     "execution_count": 4,
     "metadata": {},
     "output_type": "execute_result"
    }
   ],
   "source": [
    "simulationOutputDataVisualisation.print_algorithm_result(bev_data, simulation_data, anzahl_bevs_pro_tag)"
   ]
  },
  {
   "cell_type": "markdown",
   "metadata": {},
   "source": [
    "### Tabellarische Übersicht Park- und Ladeverlauf der BEVs"
   ]
  },
  {
   "cell_type": "code",
   "execution_count": 5,
   "metadata": {
    "pycharm": {
     "is_executing": true
    }
   },
   "outputs": [
    {
     "data": {
      "application/vnd.jupyter.widget-view+json": {
       "model_id": "4fc7a16b57124611ab3971e2fe1afbfb",
       "version_major": 2,
       "version_minor": 0
      },
      "text/plain": [
       "interactive(children=(IntSlider(value=480, description='Minute: ', max=960, min=480, step=15), Output()), _dom…"
      ]
     },
     "metadata": {},
     "output_type": "display_data"
    }
   ],
   "source": [
    "simulationOutputDataVisualisation.create_tabular_overview_per_minute_slider(table_dict, minute_interval)"
   ]
  },
  {
   "cell_type": "code",
   "execution_count": 6,
   "metadata": {},
   "outputs": [
    {
     "data": {
      "application/vnd.plotly.v1+json": {
       "config": {
        "plotlyServerURL": "https://plot.ly"
       },
       "data": [
        {
         "line": {
          "color": "orange"
         },
         "name": "Verfügbare Solarleistung",
         "type": "scatter",
         "x": [
          480,
          495,
          510,
          525,
          540,
          555,
          570,
          585,
          600,
          615,
          630,
          645,
          660,
          675,
          690,
          705,
          720,
          735,
          750,
          765,
          780,
          795,
          810,
          825,
          840,
          855,
          870,
          885,
          900,
          915,
          930,
          945,
          960
         ],
         "y": [
          -2,
          3.25,
          8.5,
          13.749999999999998,
          19,
          27,
          35,
          43,
          51,
          50.75,
          50.5,
          50.25,
          50,
          51.25,
          52.5,
          53.75,
          55,
          50.25,
          45.5,
          40.75,
          36,
          37.5,
          39,
          40.5,
          42,
          36,
          30,
          24,
          18,
          15.75,
          13.5,
          11.25,
          9
         ]
        },
        {
         "line": {
          "color": "green"
         },
         "mode": "lines",
         "name": "ID BEV 11",
         "type": "scatter",
         "x": [
          496,
          496,
          496
         ],
         "y": [
          0,
          3.25,
          0
         ]
        },
        {
         "line": {
          "color": "green"
         },
         "mode": "lines",
         "name": "ID BEV 14",
         "type": "scatter",
         "x": [
          511,
          511,
          526,
          541,
          556,
          571,
          571
         ],
         "y": [
          0,
          8.5,
          6.875,
          9.5,
          9,
          8.75,
          0
         ]
        },
        {
         "line": {
          "color": "green"
         },
         "mode": "lines",
         "name": "ID BEV 31",
         "type": "scatter",
         "x": [
          526,
          526,
          541,
          541
         ],
         "y": [
          0,
          13.75,
          19,
          0
         ]
        },
        {
         "line": {
          "color": "green"
         },
         "mode": "lines",
         "name": "ID BEV 32",
         "type": "scatter",
         "x": [
          556,
          556,
          556
         ],
         "y": [
          0,
          18,
          0
         ]
        },
        {
         "line": {
          "color": "green"
         },
         "mode": "lines",
         "name": "ID BEV 34",
         "type": "scatter",
         "x": [
          556,
          556,
          571,
          586,
          586
         ],
         "y": [
          0,
          27,
          17.5,
          10.75,
          0
         ]
        },
        {
         "line": {
          "color": "green"
         },
         "mode": "lines",
         "name": "ID BEV 39",
         "type": "scatter",
         "x": [
          571,
          571,
          586,
          601,
          616,
          631,
          646,
          646
         ],
         "y": [
          0,
          26.25,
          21.5,
          10.2,
          10.15,
          10.1,
          10.05,
          0
         ]
        },
        {
         "line": {
          "color": "green"
         },
         "mode": "lines",
         "name": "ID BEV 49",
         "type": "scatter",
         "x": [
          571,
          571,
          586,
          586
         ],
         "y": [
          0,
          35,
          32.25,
          0
         ]
        },
        {
         "line": {
          "color": "green"
         },
         "mode": "lines",
         "name": "ID BEV 2",
         "type": "scatter",
         "x": [
          586,
          586,
          601,
          616,
          631,
          631
         ],
         "y": [
          0,
          43,
          20.4,
          20.3,
          20.2,
          0
         ]
        },
        {
         "line": {
          "color": "green"
         },
         "mode": "lines",
         "name": "ID BEV 4",
         "type": "scatter",
         "x": [
          601,
          601,
          601
         ],
         "y": [
          0,
          30.599999999999998,
          0
         ]
        },
        {
         "line": {
          "color": "green"
         },
         "mode": "lines",
         "name": "ID BEV 6",
         "type": "scatter",
         "x": [
          601,
          601,
          616,
          631,
          646,
          661,
          661
         ],
         "y": [
          0,
          40.8,
          30.450000000000003,
          30.299999999999997,
          20.1,
          10,
          0
         ]
        },
        {
         "line": {
          "color": "green"
         },
         "mode": "lines",
         "name": "ID BEV 8",
         "type": "scatter",
         "x": [
          601,
          601,
          616,
          631,
          646,
          661,
          676,
          676
         ],
         "y": [
          0,
          51,
          40.6,
          40.4,
          30.150000000000002,
          20,
          10.25,
          0
         ]
        },
        {
         "line": {
          "color": "green"
         },
         "mode": "lines",
         "name": "ID BEV 9",
         "type": "scatter",
         "x": [
          616,
          616,
          631,
          646,
          661,
          676,
          691,
          706,
          721,
          736,
          751,
          766,
          781,
          796,
          811,
          826,
          841,
          856,
          871,
          886,
          886
         ],
         "y": [
          0,
          50.75,
          50.5,
          40.2,
          30,
          20.5,
          10.5,
          10.75,
          11,
          10.05,
          9.1,
          8.15,
          7.2,
          7.5,
          7.8,
          8.1,
          8.4,
          7.2,
          6,
          6,
          0
         ]
        },
        {
         "line": {
          "color": "green"
         },
         "mode": "lines",
         "name": "ID BEV 15",
         "type": "scatter",
         "x": [
          646,
          646,
          661,
          676,
          691,
          706,
          721,
          736,
          751,
          766,
          781,
          796,
          811,
          826,
          841,
          856,
          871,
          886,
          886
         ],
         "y": [
          0,
          50.25,
          40,
          30.75,
          21,
          21.5,
          22,
          20.1,
          18.2,
          16.3,
          14.4,
          15,
          15.6,
          16.2,
          16.8,
          14.4,
          12,
          12,
          0
         ]
        },
        {
         "line": {
          "color": "green"
         },
         "mode": "lines",
         "name": "ID BEV 16",
         "type": "scatter",
         "x": [
          661,
          661,
          676,
          691,
          706,
          721,
          736,
          751,
          766,
          781,
          781
         ],
         "y": [
          0,
          50,
          41,
          31.5,
          32.25,
          33,
          30.150000000000002,
          27.299999999999997,
          24.450000000000003,
          21.6,
          0
         ]
        },
        {
         "line": {
          "color": "green"
         },
         "mode": "lines",
         "name": "ID BEV 22",
         "type": "scatter",
         "x": [
          676,
          676,
          691,
          706,
          721,
          736,
          751,
          766,
          781,
          796,
          811,
          826,
          841,
          856,
          871,
          871
         ],
         "y": [
          0,
          51.25,
          42,
          43,
          44,
          40.2,
          36.4,
          32.6,
          28.8,
          22.5,
          23.4,
          24.299999999999997,
          25.200000000000003,
          21.6,
          18,
          0
         ]
        },
        {
         "line": {
          "color": "green"
         },
         "mode": "lines",
         "name": "ID BEV 25",
         "type": "scatter",
         "x": [
          691,
          691,
          706,
          721,
          721
         ],
         "y": [
          0,
          52.5,
          53.75,
          55,
          0
         ]
        },
        {
         "line": {
          "color": "green"
         },
         "mode": "lines",
         "name": "ID BEV 26",
         "type": "scatter",
         "x": [
          736,
          736,
          751,
          766,
          781,
          796,
          811,
          826,
          841,
          856,
          871,
          886,
          901,
          916,
          916
         ],
         "y": [
          0,
          50.25,
          45.5,
          40.75,
          36,
          30,
          31.2,
          32.4,
          33.6,
          28.8,
          24,
          18,
          9,
          7.875,
          0
         ]
        },
        {
         "line": {
          "color": "green"
         },
         "mode": "lines",
         "name": "ID BEV 30",
         "type": "scatter",
         "x": [
          796,
          796,
          811,
          826,
          841,
          856,
          871,
          886,
          886
         ],
         "y": [
          0,
          37.5,
          39,
          40.5,
          42,
          36,
          30,
          24,
          0
         ]
        },
        {
         "line": {
          "color": "green"
         },
         "mode": "lines",
         "name": "ID BEV 38",
         "type": "scatter",
         "x": [
          901,
          901,
          916,
          931,
          946,
          961,
          961
         ],
         "y": [
          0,
          18,
          15.75,
          6.75,
          5.625,
          4.5,
          0
         ]
        },
        {
         "line": {
          "color": "green"
         },
         "mode": "lines",
         "name": "ID BEV 13",
         "type": "scatter",
         "x": [
          931,
          931,
          946,
          961,
          961
         ],
         "y": [
          0,
          13.5,
          11.25,
          9,
          0
         ]
        }
       ],
       "layout": {
        "template": {
         "data": {
          "bar": [
           {
            "error_x": {
             "color": "#2a3f5f"
            },
            "error_y": {
             "color": "#2a3f5f"
            },
            "marker": {
             "line": {
              "color": "white",
              "width": 0.5
             },
             "pattern": {
              "fillmode": "overlay",
              "size": 10,
              "solidity": 0.2
             }
            },
            "type": "bar"
           }
          ],
          "barpolar": [
           {
            "marker": {
             "line": {
              "color": "white",
              "width": 0.5
             },
             "pattern": {
              "fillmode": "overlay",
              "size": 10,
              "solidity": 0.2
             }
            },
            "type": "barpolar"
           }
          ],
          "carpet": [
           {
            "aaxis": {
             "endlinecolor": "#2a3f5f",
             "gridcolor": "#C8D4E3",
             "linecolor": "#C8D4E3",
             "minorgridcolor": "#C8D4E3",
             "startlinecolor": "#2a3f5f"
            },
            "baxis": {
             "endlinecolor": "#2a3f5f",
             "gridcolor": "#C8D4E3",
             "linecolor": "#C8D4E3",
             "minorgridcolor": "#C8D4E3",
             "startlinecolor": "#2a3f5f"
            },
            "type": "carpet"
           }
          ],
          "choropleth": [
           {
            "colorbar": {
             "outlinewidth": 0,
             "ticks": ""
            },
            "type": "choropleth"
           }
          ],
          "contour": [
           {
            "colorbar": {
             "outlinewidth": 0,
             "ticks": ""
            },
            "colorscale": [
             [
              0,
              "#0d0887"
             ],
             [
              0.1111111111111111,
              "#46039f"
             ],
             [
              0.2222222222222222,
              "#7201a8"
             ],
             [
              0.3333333333333333,
              "#9c179e"
             ],
             [
              0.4444444444444444,
              "#bd3786"
             ],
             [
              0.5555555555555556,
              "#d8576b"
             ],
             [
              0.6666666666666666,
              "#ed7953"
             ],
             [
              0.7777777777777778,
              "#fb9f3a"
             ],
             [
              0.8888888888888888,
              "#fdca26"
             ],
             [
              1,
              "#f0f921"
             ]
            ],
            "type": "contour"
           }
          ],
          "contourcarpet": [
           {
            "colorbar": {
             "outlinewidth": 0,
             "ticks": ""
            },
            "type": "contourcarpet"
           }
          ],
          "heatmap": [
           {
            "colorbar": {
             "outlinewidth": 0,
             "ticks": ""
            },
            "colorscale": [
             [
              0,
              "#0d0887"
             ],
             [
              0.1111111111111111,
              "#46039f"
             ],
             [
              0.2222222222222222,
              "#7201a8"
             ],
             [
              0.3333333333333333,
              "#9c179e"
             ],
             [
              0.4444444444444444,
              "#bd3786"
             ],
             [
              0.5555555555555556,
              "#d8576b"
             ],
             [
              0.6666666666666666,
              "#ed7953"
             ],
             [
              0.7777777777777778,
              "#fb9f3a"
             ],
             [
              0.8888888888888888,
              "#fdca26"
             ],
             [
              1,
              "#f0f921"
             ]
            ],
            "type": "heatmap"
           }
          ],
          "heatmapgl": [
           {
            "colorbar": {
             "outlinewidth": 0,
             "ticks": ""
            },
            "colorscale": [
             [
              0,
              "#0d0887"
             ],
             [
              0.1111111111111111,
              "#46039f"
             ],
             [
              0.2222222222222222,
              "#7201a8"
             ],
             [
              0.3333333333333333,
              "#9c179e"
             ],
             [
              0.4444444444444444,
              "#bd3786"
             ],
             [
              0.5555555555555556,
              "#d8576b"
             ],
             [
              0.6666666666666666,
              "#ed7953"
             ],
             [
              0.7777777777777778,
              "#fb9f3a"
             ],
             [
              0.8888888888888888,
              "#fdca26"
             ],
             [
              1,
              "#f0f921"
             ]
            ],
            "type": "heatmapgl"
           }
          ],
          "histogram": [
           {
            "marker": {
             "pattern": {
              "fillmode": "overlay",
              "size": 10,
              "solidity": 0.2
             }
            },
            "type": "histogram"
           }
          ],
          "histogram2d": [
           {
            "colorbar": {
             "outlinewidth": 0,
             "ticks": ""
            },
            "colorscale": [
             [
              0,
              "#0d0887"
             ],
             [
              0.1111111111111111,
              "#46039f"
             ],
             [
              0.2222222222222222,
              "#7201a8"
             ],
             [
              0.3333333333333333,
              "#9c179e"
             ],
             [
              0.4444444444444444,
              "#bd3786"
             ],
             [
              0.5555555555555556,
              "#d8576b"
             ],
             [
              0.6666666666666666,
              "#ed7953"
             ],
             [
              0.7777777777777778,
              "#fb9f3a"
             ],
             [
              0.8888888888888888,
              "#fdca26"
             ],
             [
              1,
              "#f0f921"
             ]
            ],
            "type": "histogram2d"
           }
          ],
          "histogram2dcontour": [
           {
            "colorbar": {
             "outlinewidth": 0,
             "ticks": ""
            },
            "colorscale": [
             [
              0,
              "#0d0887"
             ],
             [
              0.1111111111111111,
              "#46039f"
             ],
             [
              0.2222222222222222,
              "#7201a8"
             ],
             [
              0.3333333333333333,
              "#9c179e"
             ],
             [
              0.4444444444444444,
              "#bd3786"
             ],
             [
              0.5555555555555556,
              "#d8576b"
             ],
             [
              0.6666666666666666,
              "#ed7953"
             ],
             [
              0.7777777777777778,
              "#fb9f3a"
             ],
             [
              0.8888888888888888,
              "#fdca26"
             ],
             [
              1,
              "#f0f921"
             ]
            ],
            "type": "histogram2dcontour"
           }
          ],
          "mesh3d": [
           {
            "colorbar": {
             "outlinewidth": 0,
             "ticks": ""
            },
            "type": "mesh3d"
           }
          ],
          "parcoords": [
           {
            "line": {
             "colorbar": {
              "outlinewidth": 0,
              "ticks": ""
             }
            },
            "type": "parcoords"
           }
          ],
          "pie": [
           {
            "automargin": true,
            "type": "pie"
           }
          ],
          "scatter": [
           {
            "marker": {
             "colorbar": {
              "outlinewidth": 0,
              "ticks": ""
             }
            },
            "type": "scatter"
           }
          ],
          "scatter3d": [
           {
            "line": {
             "colorbar": {
              "outlinewidth": 0,
              "ticks": ""
             }
            },
            "marker": {
             "colorbar": {
              "outlinewidth": 0,
              "ticks": ""
             }
            },
            "type": "scatter3d"
           }
          ],
          "scattercarpet": [
           {
            "marker": {
             "colorbar": {
              "outlinewidth": 0,
              "ticks": ""
             }
            },
            "type": "scattercarpet"
           }
          ],
          "scattergeo": [
           {
            "marker": {
             "colorbar": {
              "outlinewidth": 0,
              "ticks": ""
             }
            },
            "type": "scattergeo"
           }
          ],
          "scattergl": [
           {
            "marker": {
             "colorbar": {
              "outlinewidth": 0,
              "ticks": ""
             }
            },
            "type": "scattergl"
           }
          ],
          "scattermapbox": [
           {
            "marker": {
             "colorbar": {
              "outlinewidth": 0,
              "ticks": ""
             }
            },
            "type": "scattermapbox"
           }
          ],
          "scatterpolar": [
           {
            "marker": {
             "colorbar": {
              "outlinewidth": 0,
              "ticks": ""
             }
            },
            "type": "scatterpolar"
           }
          ],
          "scatterpolargl": [
           {
            "marker": {
             "colorbar": {
              "outlinewidth": 0,
              "ticks": ""
             }
            },
            "type": "scatterpolargl"
           }
          ],
          "scatterternary": [
           {
            "marker": {
             "colorbar": {
              "outlinewidth": 0,
              "ticks": ""
             }
            },
            "type": "scatterternary"
           }
          ],
          "surface": [
           {
            "colorbar": {
             "outlinewidth": 0,
             "ticks": ""
            },
            "colorscale": [
             [
              0,
              "#0d0887"
             ],
             [
              0.1111111111111111,
              "#46039f"
             ],
             [
              0.2222222222222222,
              "#7201a8"
             ],
             [
              0.3333333333333333,
              "#9c179e"
             ],
             [
              0.4444444444444444,
              "#bd3786"
             ],
             [
              0.5555555555555556,
              "#d8576b"
             ],
             [
              0.6666666666666666,
              "#ed7953"
             ],
             [
              0.7777777777777778,
              "#fb9f3a"
             ],
             [
              0.8888888888888888,
              "#fdca26"
             ],
             [
              1,
              "#f0f921"
             ]
            ],
            "type": "surface"
           }
          ],
          "table": [
           {
            "cells": {
             "fill": {
              "color": "#EBF0F8"
             },
             "line": {
              "color": "white"
             }
            },
            "header": {
             "fill": {
              "color": "#C8D4E3"
             },
             "line": {
              "color": "white"
             }
            },
            "type": "table"
           }
          ]
         },
         "layout": {
          "annotationdefaults": {
           "arrowcolor": "#2a3f5f",
           "arrowhead": 0,
           "arrowwidth": 1
          },
          "autotypenumbers": "strict",
          "coloraxis": {
           "colorbar": {
            "outlinewidth": 0,
            "ticks": ""
           }
          },
          "colorscale": {
           "diverging": [
            [
             0,
             "#8e0152"
            ],
            [
             0.1,
             "#c51b7d"
            ],
            [
             0.2,
             "#de77ae"
            ],
            [
             0.3,
             "#f1b6da"
            ],
            [
             0.4,
             "#fde0ef"
            ],
            [
             0.5,
             "#f7f7f7"
            ],
            [
             0.6,
             "#e6f5d0"
            ],
            [
             0.7,
             "#b8e186"
            ],
            [
             0.8,
             "#7fbc41"
            ],
            [
             0.9,
             "#4d9221"
            ],
            [
             1,
             "#276419"
            ]
           ],
           "sequential": [
            [
             0,
             "#0d0887"
            ],
            [
             0.1111111111111111,
             "#46039f"
            ],
            [
             0.2222222222222222,
             "#7201a8"
            ],
            [
             0.3333333333333333,
             "#9c179e"
            ],
            [
             0.4444444444444444,
             "#bd3786"
            ],
            [
             0.5555555555555556,
             "#d8576b"
            ],
            [
             0.6666666666666666,
             "#ed7953"
            ],
            [
             0.7777777777777778,
             "#fb9f3a"
            ],
            [
             0.8888888888888888,
             "#fdca26"
            ],
            [
             1,
             "#f0f921"
            ]
           ],
           "sequentialminus": [
            [
             0,
             "#0d0887"
            ],
            [
             0.1111111111111111,
             "#46039f"
            ],
            [
             0.2222222222222222,
             "#7201a8"
            ],
            [
             0.3333333333333333,
             "#9c179e"
            ],
            [
             0.4444444444444444,
             "#bd3786"
            ],
            [
             0.5555555555555556,
             "#d8576b"
            ],
            [
             0.6666666666666666,
             "#ed7953"
            ],
            [
             0.7777777777777778,
             "#fb9f3a"
            ],
            [
             0.8888888888888888,
             "#fdca26"
            ],
            [
             1,
             "#f0f921"
            ]
           ]
          },
          "colorway": [
           "#636efa",
           "#EF553B",
           "#00cc96",
           "#ab63fa",
           "#FFA15A",
           "#19d3f3",
           "#FF6692",
           "#B6E880",
           "#FF97FF",
           "#FECB52"
          ],
          "font": {
           "color": "#2a3f5f"
          },
          "geo": {
           "bgcolor": "white",
           "lakecolor": "white",
           "landcolor": "white",
           "showlakes": true,
           "showland": true,
           "subunitcolor": "#C8D4E3"
          },
          "hoverlabel": {
           "align": "left"
          },
          "hovermode": "closest",
          "mapbox": {
           "style": "light"
          },
          "paper_bgcolor": "white",
          "plot_bgcolor": "white",
          "polar": {
           "angularaxis": {
            "gridcolor": "#EBF0F8",
            "linecolor": "#EBF0F8",
            "ticks": ""
           },
           "bgcolor": "white",
           "radialaxis": {
            "gridcolor": "#EBF0F8",
            "linecolor": "#EBF0F8",
            "ticks": ""
           }
          },
          "scene": {
           "xaxis": {
            "backgroundcolor": "white",
            "gridcolor": "#DFE8F3",
            "gridwidth": 2,
            "linecolor": "#EBF0F8",
            "showbackground": true,
            "ticks": "",
            "zerolinecolor": "#EBF0F8"
           },
           "yaxis": {
            "backgroundcolor": "white",
            "gridcolor": "#DFE8F3",
            "gridwidth": 2,
            "linecolor": "#EBF0F8",
            "showbackground": true,
            "ticks": "",
            "zerolinecolor": "#EBF0F8"
           },
           "zaxis": {
            "backgroundcolor": "white",
            "gridcolor": "#DFE8F3",
            "gridwidth": 2,
            "linecolor": "#EBF0F8",
            "showbackground": true,
            "ticks": "",
            "zerolinecolor": "#EBF0F8"
           }
          },
          "shapedefaults": {
           "line": {
            "color": "#2a3f5f"
           }
          },
          "ternary": {
           "aaxis": {
            "gridcolor": "#DFE8F3",
            "linecolor": "#A2B1C6",
            "ticks": ""
           },
           "baxis": {
            "gridcolor": "#DFE8F3",
            "linecolor": "#A2B1C6",
            "ticks": ""
           },
           "bgcolor": "white",
           "caxis": {
            "gridcolor": "#DFE8F3",
            "linecolor": "#A2B1C6",
            "ticks": ""
           }
          },
          "title": {
           "x": 0.05
          },
          "xaxis": {
           "automargin": true,
           "gridcolor": "#EBF0F8",
           "linecolor": "#EBF0F8",
           "ticks": "",
           "title": {
            "standoff": 15
           },
           "zerolinecolor": "#EBF0F8",
           "zerolinewidth": 2
          },
          "yaxis": {
           "automargin": true,
           "gridcolor": "#EBF0F8",
           "linecolor": "#EBF0F8",
           "ticks": "",
           "title": {
            "standoff": 15
           },
           "zerolinecolor": "#EBF0F8",
           "zerolinewidth": 2
          }
         }
        },
        "title": {
         "font": {
          "size": 24
         },
         "text": "Ladeleistung pro Ladezeitraum eines BEVs",
         "x": 0.5,
         "xanchor": "center"
        },
        "xaxis": {
         "range": [
          480,
          960
         ],
         "showgrid": true,
         "title": {
          "text": "Minuten"
         }
        },
        "yaxis": {
         "range": [
          0,
          60
         ],
         "title": {
          "text": "Energie in kW"
         }
        }
       }
      },
      "text/html": [
       "<div>                            <div id=\"045b812c-c021-41db-9844-44c96c3f80a0\" class=\"plotly-graph-div\" style=\"height:525px; width:100%;\"></div>            <script type=\"text/javascript\">                require([\"plotly\"], function(Plotly) {                    window.PLOTLYENV=window.PLOTLYENV || {};                                    if (document.getElementById(\"045b812c-c021-41db-9844-44c96c3f80a0\")) {                    Plotly.newPlot(                        \"045b812c-c021-41db-9844-44c96c3f80a0\",                        [{\"line\":{\"color\":\"orange\"},\"name\":\"Verf\\u00fcgbare Solarleistung\",\"x\":[480,495,510,525,540,555,570,585,600,615,630,645,660,675,690,705,720,735,750,765,780,795,810,825,840,855,870,885,900,915,930,945,960],\"y\":[-2.0,3.25,8.5,13.749999999999998,19.0,27.0,35.0,43.0,51.0,50.75,50.5,50.25,50.0,51.25,52.5,53.75,55.0,50.25,45.5,40.75,36.0,37.5,39.0,40.5,42.0,36.0,30.0,24.0,18.0,15.75,13.5,11.25,9.0],\"type\":\"scatter\"},{\"line\":{\"color\":\"green\"},\"mode\":\"lines\",\"name\":\"ID BEV 11\",\"x\":[496,496,496],\"y\":[0.0,3.25,0.0],\"type\":\"scatter\"},{\"line\":{\"color\":\"green\"},\"mode\":\"lines\",\"name\":\"ID BEV 14\",\"x\":[511,511,526,541,556,571,571],\"y\":[0.0,8.5,6.875,9.5,9.0,8.75,0.0],\"type\":\"scatter\"},{\"line\":{\"color\":\"green\"},\"mode\":\"lines\",\"name\":\"ID BEV 31\",\"x\":[526,526,541,541],\"y\":[0.0,13.75,19.0,0.0],\"type\":\"scatter\"},{\"line\":{\"color\":\"green\"},\"mode\":\"lines\",\"name\":\"ID BEV 32\",\"x\":[556,556,556],\"y\":[0.0,18.0,0.0],\"type\":\"scatter\"},{\"line\":{\"color\":\"green\"},\"mode\":\"lines\",\"name\":\"ID BEV 34\",\"x\":[556,556,571,586,586],\"y\":[0.0,27.0,17.5,10.75,0.0],\"type\":\"scatter\"},{\"line\":{\"color\":\"green\"},\"mode\":\"lines\",\"name\":\"ID BEV 39\",\"x\":[571,571,586,601,616,631,646,646],\"y\":[0.0,26.25,21.5,10.2,10.15,10.1,10.05,0.0],\"type\":\"scatter\"},{\"line\":{\"color\":\"green\"},\"mode\":\"lines\",\"name\":\"ID BEV 49\",\"x\":[571,571,586,586],\"y\":[0.0,35.0,32.25,0.0],\"type\":\"scatter\"},{\"line\":{\"color\":\"green\"},\"mode\":\"lines\",\"name\":\"ID BEV 2\",\"x\":[586,586,601,616,631,631],\"y\":[0.0,43.0,20.4,20.3,20.2,0.0],\"type\":\"scatter\"},{\"line\":{\"color\":\"green\"},\"mode\":\"lines\",\"name\":\"ID BEV 4\",\"x\":[601,601,601],\"y\":[0.0,30.599999999999998,0.0],\"type\":\"scatter\"},{\"line\":{\"color\":\"green\"},\"mode\":\"lines\",\"name\":\"ID BEV 6\",\"x\":[601,601,616,631,646,661,661],\"y\":[0.0,40.8,30.450000000000003,30.299999999999997,20.1,10.0,0.0],\"type\":\"scatter\"},{\"line\":{\"color\":\"green\"},\"mode\":\"lines\",\"name\":\"ID BEV 8\",\"x\":[601,601,616,631,646,661,676,676],\"y\":[0.0,51.0,40.6,40.4,30.150000000000002,20.0,10.25,0.0],\"type\":\"scatter\"},{\"line\":{\"color\":\"green\"},\"mode\":\"lines\",\"name\":\"ID BEV 9\",\"x\":[616,616,631,646,661,676,691,706,721,736,751,766,781,796,811,826,841,856,871,886,886],\"y\":[0.0,50.75,50.5,40.2,30.0,20.5,10.5,10.75,11.0,10.05,9.1,8.15,7.2,7.5,7.8,8.1,8.4,7.2,6.0,6.0,0.0],\"type\":\"scatter\"},{\"line\":{\"color\":\"green\"},\"mode\":\"lines\",\"name\":\"ID BEV 15\",\"x\":[646,646,661,676,691,706,721,736,751,766,781,796,811,826,841,856,871,886,886],\"y\":[0.0,50.25,40.0,30.75,21.0,21.5,22.0,20.1,18.2,16.3,14.4,15.0,15.6,16.2,16.8,14.4,12.0,12.0,0.0],\"type\":\"scatter\"},{\"line\":{\"color\":\"green\"},\"mode\":\"lines\",\"name\":\"ID BEV 16\",\"x\":[661,661,676,691,706,721,736,751,766,781,781],\"y\":[0.0,50.0,41.0,31.5,32.25,33.0,30.150000000000002,27.299999999999997,24.450000000000003,21.6,0.0],\"type\":\"scatter\"},{\"line\":{\"color\":\"green\"},\"mode\":\"lines\",\"name\":\"ID BEV 22\",\"x\":[676,676,691,706,721,736,751,766,781,796,811,826,841,856,871,871],\"y\":[0.0,51.25,42.0,43.0,44.0,40.2,36.4,32.6,28.8,22.5,23.4,24.299999999999997,25.200000000000003,21.6,18.0,0.0],\"type\":\"scatter\"},{\"line\":{\"color\":\"green\"},\"mode\":\"lines\",\"name\":\"ID BEV 25\",\"x\":[691,691,706,721,721],\"y\":[0.0,52.5,53.75,55.0,0.0],\"type\":\"scatter\"},{\"line\":{\"color\":\"green\"},\"mode\":\"lines\",\"name\":\"ID BEV 26\",\"x\":[736,736,751,766,781,796,811,826,841,856,871,886,901,916,916],\"y\":[0.0,50.25,45.5,40.75,36.0,30.0,31.2,32.4,33.6,28.8,24.0,18.0,9.0,7.875,0.0],\"type\":\"scatter\"},{\"line\":{\"color\":\"green\"},\"mode\":\"lines\",\"name\":\"ID BEV 30\",\"x\":[796,796,811,826,841,856,871,886,886],\"y\":[0.0,37.5,39.0,40.5,42.0,36.0,30.0,24.0,0.0],\"type\":\"scatter\"},{\"line\":{\"color\":\"green\"},\"mode\":\"lines\",\"name\":\"ID BEV 38\",\"x\":[901,901,916,931,946,961,961],\"y\":[0.0,18.0,15.75,6.75,5.625,4.5,0.0],\"type\":\"scatter\"},{\"line\":{\"color\":\"green\"},\"mode\":\"lines\",\"name\":\"ID BEV 13\",\"x\":[931,931,946,961,961],\"y\":[0.0,13.5,11.25,9.0,0.0],\"type\":\"scatter\"}],                        {\"template\":{\"data\":{\"barpolar\":[{\"marker\":{\"line\":{\"color\":\"white\",\"width\":0.5},\"pattern\":{\"fillmode\":\"overlay\",\"size\":10,\"solidity\":0.2}},\"type\":\"barpolar\"}],\"bar\":[{\"error_x\":{\"color\":\"#2a3f5f\"},\"error_y\":{\"color\":\"#2a3f5f\"},\"marker\":{\"line\":{\"color\":\"white\",\"width\":0.5},\"pattern\":{\"fillmode\":\"overlay\",\"size\":10,\"solidity\":0.2}},\"type\":\"bar\"}],\"carpet\":[{\"aaxis\":{\"endlinecolor\":\"#2a3f5f\",\"gridcolor\":\"#C8D4E3\",\"linecolor\":\"#C8D4E3\",\"minorgridcolor\":\"#C8D4E3\",\"startlinecolor\":\"#2a3f5f\"},\"baxis\":{\"endlinecolor\":\"#2a3f5f\",\"gridcolor\":\"#C8D4E3\",\"linecolor\":\"#C8D4E3\",\"minorgridcolor\":\"#C8D4E3\",\"startlinecolor\":\"#2a3f5f\"},\"type\":\"carpet\"}],\"choropleth\":[{\"colorbar\":{\"outlinewidth\":0,\"ticks\":\"\"},\"type\":\"choropleth\"}],\"contourcarpet\":[{\"colorbar\":{\"outlinewidth\":0,\"ticks\":\"\"},\"type\":\"contourcarpet\"}],\"contour\":[{\"colorbar\":{\"outlinewidth\":0,\"ticks\":\"\"},\"colorscale\":[[0.0,\"#0d0887\"],[0.1111111111111111,\"#46039f\"],[0.2222222222222222,\"#7201a8\"],[0.3333333333333333,\"#9c179e\"],[0.4444444444444444,\"#bd3786\"],[0.5555555555555556,\"#d8576b\"],[0.6666666666666666,\"#ed7953\"],[0.7777777777777778,\"#fb9f3a\"],[0.8888888888888888,\"#fdca26\"],[1.0,\"#f0f921\"]],\"type\":\"contour\"}],\"heatmapgl\":[{\"colorbar\":{\"outlinewidth\":0,\"ticks\":\"\"},\"colorscale\":[[0.0,\"#0d0887\"],[0.1111111111111111,\"#46039f\"],[0.2222222222222222,\"#7201a8\"],[0.3333333333333333,\"#9c179e\"],[0.4444444444444444,\"#bd3786\"],[0.5555555555555556,\"#d8576b\"],[0.6666666666666666,\"#ed7953\"],[0.7777777777777778,\"#fb9f3a\"],[0.8888888888888888,\"#fdca26\"],[1.0,\"#f0f921\"]],\"type\":\"heatmapgl\"}],\"heatmap\":[{\"colorbar\":{\"outlinewidth\":0,\"ticks\":\"\"},\"colorscale\":[[0.0,\"#0d0887\"],[0.1111111111111111,\"#46039f\"],[0.2222222222222222,\"#7201a8\"],[0.3333333333333333,\"#9c179e\"],[0.4444444444444444,\"#bd3786\"],[0.5555555555555556,\"#d8576b\"],[0.6666666666666666,\"#ed7953\"],[0.7777777777777778,\"#fb9f3a\"],[0.8888888888888888,\"#fdca26\"],[1.0,\"#f0f921\"]],\"type\":\"heatmap\"}],\"histogram2dcontour\":[{\"colorbar\":{\"outlinewidth\":0,\"ticks\":\"\"},\"colorscale\":[[0.0,\"#0d0887\"],[0.1111111111111111,\"#46039f\"],[0.2222222222222222,\"#7201a8\"],[0.3333333333333333,\"#9c179e\"],[0.4444444444444444,\"#bd3786\"],[0.5555555555555556,\"#d8576b\"],[0.6666666666666666,\"#ed7953\"],[0.7777777777777778,\"#fb9f3a\"],[0.8888888888888888,\"#fdca26\"],[1.0,\"#f0f921\"]],\"type\":\"histogram2dcontour\"}],\"histogram2d\":[{\"colorbar\":{\"outlinewidth\":0,\"ticks\":\"\"},\"colorscale\":[[0.0,\"#0d0887\"],[0.1111111111111111,\"#46039f\"],[0.2222222222222222,\"#7201a8\"],[0.3333333333333333,\"#9c179e\"],[0.4444444444444444,\"#bd3786\"],[0.5555555555555556,\"#d8576b\"],[0.6666666666666666,\"#ed7953\"],[0.7777777777777778,\"#fb9f3a\"],[0.8888888888888888,\"#fdca26\"],[1.0,\"#f0f921\"]],\"type\":\"histogram2d\"}],\"histogram\":[{\"marker\":{\"pattern\":{\"fillmode\":\"overlay\",\"size\":10,\"solidity\":0.2}},\"type\":\"histogram\"}],\"mesh3d\":[{\"colorbar\":{\"outlinewidth\":0,\"ticks\":\"\"},\"type\":\"mesh3d\"}],\"parcoords\":[{\"line\":{\"colorbar\":{\"outlinewidth\":0,\"ticks\":\"\"}},\"type\":\"parcoords\"}],\"pie\":[{\"automargin\":true,\"type\":\"pie\"}],\"scatter3d\":[{\"line\":{\"colorbar\":{\"outlinewidth\":0,\"ticks\":\"\"}},\"marker\":{\"colorbar\":{\"outlinewidth\":0,\"ticks\":\"\"}},\"type\":\"scatter3d\"}],\"scattercarpet\":[{\"marker\":{\"colorbar\":{\"outlinewidth\":0,\"ticks\":\"\"}},\"type\":\"scattercarpet\"}],\"scattergeo\":[{\"marker\":{\"colorbar\":{\"outlinewidth\":0,\"ticks\":\"\"}},\"type\":\"scattergeo\"}],\"scattergl\":[{\"marker\":{\"colorbar\":{\"outlinewidth\":0,\"ticks\":\"\"}},\"type\":\"scattergl\"}],\"scattermapbox\":[{\"marker\":{\"colorbar\":{\"outlinewidth\":0,\"ticks\":\"\"}},\"type\":\"scattermapbox\"}],\"scatterpolargl\":[{\"marker\":{\"colorbar\":{\"outlinewidth\":0,\"ticks\":\"\"}},\"type\":\"scatterpolargl\"}],\"scatterpolar\":[{\"marker\":{\"colorbar\":{\"outlinewidth\":0,\"ticks\":\"\"}},\"type\":\"scatterpolar\"}],\"scatter\":[{\"marker\":{\"colorbar\":{\"outlinewidth\":0,\"ticks\":\"\"}},\"type\":\"scatter\"}],\"scatterternary\":[{\"marker\":{\"colorbar\":{\"outlinewidth\":0,\"ticks\":\"\"}},\"type\":\"scatterternary\"}],\"surface\":[{\"colorbar\":{\"outlinewidth\":0,\"ticks\":\"\"},\"colorscale\":[[0.0,\"#0d0887\"],[0.1111111111111111,\"#46039f\"],[0.2222222222222222,\"#7201a8\"],[0.3333333333333333,\"#9c179e\"],[0.4444444444444444,\"#bd3786\"],[0.5555555555555556,\"#d8576b\"],[0.6666666666666666,\"#ed7953\"],[0.7777777777777778,\"#fb9f3a\"],[0.8888888888888888,\"#fdca26\"],[1.0,\"#f0f921\"]],\"type\":\"surface\"}],\"table\":[{\"cells\":{\"fill\":{\"color\":\"#EBF0F8\"},\"line\":{\"color\":\"white\"}},\"header\":{\"fill\":{\"color\":\"#C8D4E3\"},\"line\":{\"color\":\"white\"}},\"type\":\"table\"}]},\"layout\":{\"annotationdefaults\":{\"arrowcolor\":\"#2a3f5f\",\"arrowhead\":0,\"arrowwidth\":1},\"autotypenumbers\":\"strict\",\"coloraxis\":{\"colorbar\":{\"outlinewidth\":0,\"ticks\":\"\"}},\"colorscale\":{\"diverging\":[[0,\"#8e0152\"],[0.1,\"#c51b7d\"],[0.2,\"#de77ae\"],[0.3,\"#f1b6da\"],[0.4,\"#fde0ef\"],[0.5,\"#f7f7f7\"],[0.6,\"#e6f5d0\"],[0.7,\"#b8e186\"],[0.8,\"#7fbc41\"],[0.9,\"#4d9221\"],[1,\"#276419\"]],\"sequential\":[[0.0,\"#0d0887\"],[0.1111111111111111,\"#46039f\"],[0.2222222222222222,\"#7201a8\"],[0.3333333333333333,\"#9c179e\"],[0.4444444444444444,\"#bd3786\"],[0.5555555555555556,\"#d8576b\"],[0.6666666666666666,\"#ed7953\"],[0.7777777777777778,\"#fb9f3a\"],[0.8888888888888888,\"#fdca26\"],[1.0,\"#f0f921\"]],\"sequentialminus\":[[0.0,\"#0d0887\"],[0.1111111111111111,\"#46039f\"],[0.2222222222222222,\"#7201a8\"],[0.3333333333333333,\"#9c179e\"],[0.4444444444444444,\"#bd3786\"],[0.5555555555555556,\"#d8576b\"],[0.6666666666666666,\"#ed7953\"],[0.7777777777777778,\"#fb9f3a\"],[0.8888888888888888,\"#fdca26\"],[1.0,\"#f0f921\"]]},\"colorway\":[\"#636efa\",\"#EF553B\",\"#00cc96\",\"#ab63fa\",\"#FFA15A\",\"#19d3f3\",\"#FF6692\",\"#B6E880\",\"#FF97FF\",\"#FECB52\"],\"font\":{\"color\":\"#2a3f5f\"},\"geo\":{\"bgcolor\":\"white\",\"lakecolor\":\"white\",\"landcolor\":\"white\",\"showlakes\":true,\"showland\":true,\"subunitcolor\":\"#C8D4E3\"},\"hoverlabel\":{\"align\":\"left\"},\"hovermode\":\"closest\",\"mapbox\":{\"style\":\"light\"},\"paper_bgcolor\":\"white\",\"plot_bgcolor\":\"white\",\"polar\":{\"angularaxis\":{\"gridcolor\":\"#EBF0F8\",\"linecolor\":\"#EBF0F8\",\"ticks\":\"\"},\"bgcolor\":\"white\",\"radialaxis\":{\"gridcolor\":\"#EBF0F8\",\"linecolor\":\"#EBF0F8\",\"ticks\":\"\"}},\"scene\":{\"xaxis\":{\"backgroundcolor\":\"white\",\"gridcolor\":\"#DFE8F3\",\"gridwidth\":2,\"linecolor\":\"#EBF0F8\",\"showbackground\":true,\"ticks\":\"\",\"zerolinecolor\":\"#EBF0F8\"},\"yaxis\":{\"backgroundcolor\":\"white\",\"gridcolor\":\"#DFE8F3\",\"gridwidth\":2,\"linecolor\":\"#EBF0F8\",\"showbackground\":true,\"ticks\":\"\",\"zerolinecolor\":\"#EBF0F8\"},\"zaxis\":{\"backgroundcolor\":\"white\",\"gridcolor\":\"#DFE8F3\",\"gridwidth\":2,\"linecolor\":\"#EBF0F8\",\"showbackground\":true,\"ticks\":\"\",\"zerolinecolor\":\"#EBF0F8\"}},\"shapedefaults\":{\"line\":{\"color\":\"#2a3f5f\"}},\"ternary\":{\"aaxis\":{\"gridcolor\":\"#DFE8F3\",\"linecolor\":\"#A2B1C6\",\"ticks\":\"\"},\"baxis\":{\"gridcolor\":\"#DFE8F3\",\"linecolor\":\"#A2B1C6\",\"ticks\":\"\"},\"bgcolor\":\"white\",\"caxis\":{\"gridcolor\":\"#DFE8F3\",\"linecolor\":\"#A2B1C6\",\"ticks\":\"\"}},\"title\":{\"x\":0.05},\"xaxis\":{\"automargin\":true,\"gridcolor\":\"#EBF0F8\",\"linecolor\":\"#EBF0F8\",\"ticks\":\"\",\"title\":{\"standoff\":15},\"zerolinecolor\":\"#EBF0F8\",\"zerolinewidth\":2},\"yaxis\":{\"automargin\":true,\"gridcolor\":\"#EBF0F8\",\"linecolor\":\"#EBF0F8\",\"ticks\":\"\",\"title\":{\"standoff\":15},\"zerolinecolor\":\"#EBF0F8\",\"zerolinewidth\":2}}},\"xaxis\":{\"range\":[480,960],\"showgrid\":true,\"title\":{\"text\":\"Minuten\"}},\"yaxis\":{\"range\":[0,60],\"title\":{\"text\":\"Energie in kW\"}},\"title\":{\"font\":{\"size\":24},\"text\":\"Ladeleistung pro Ladezeitraum eines BEVs\",\"x\":0.5,\"xanchor\":\"center\"}},                        {\"responsive\": true}                    ).then(function(){\n",
       "                            \n",
       "var gd = document.getElementById('045b812c-c021-41db-9844-44c96c3f80a0');\n",
       "var x = new MutationObserver(function (mutations, observer) {{\n",
       "        var display = window.getComputedStyle(gd).display;\n",
       "        if (!display || display === 'none') {{\n",
       "            console.log([gd, 'removed!']);\n",
       "            Plotly.purge(gd);\n",
       "            observer.disconnect();\n",
       "        }}\n",
       "}});\n",
       "\n",
       "// Listen for the removal of the full notebook cells\n",
       "var notebookContainer = gd.closest('#notebook-container');\n",
       "if (notebookContainer) {{\n",
       "    x.observe(notebookContainer, {childList: true});\n",
       "}}\n",
       "\n",
       "// Listen for the clearing of the current output cell\n",
       "var outputEl = gd.closest('.output');\n",
       "if (outputEl) {{\n",
       "    x.observe(outputEl, {childList: true});\n",
       "}}\n",
       "\n",
       "                        })                };                });            </script>        </div>"
      ]
     },
     "metadata": {},
     "output_type": "display_data"
    }
   ],
   "source": [
    "import figureGeneration\n",
    "\n",
    "figureGeneration.create_charging_power_figure(simulation_day, solarpeakleistung, bev_data, minute_interval)"
   ]
  },
  {
   "cell_type": "code",
   "execution_count": 7,
   "metadata": {},
   "outputs": [
    {
     "data": {
      "application/vnd.plotly.v1+json": {
       "config": {
        "plotlyServerURL": "https://plot.ly"
       },
       "data": [
        {
         "line": {
          "color": "red"
         },
         "name": "Wartende BEVs",
         "type": "scatter",
         "x": [
          480,
          495,
          510,
          525,
          540,
          555,
          570,
          585,
          600,
          615,
          630,
          645,
          660,
          675,
          690,
          705,
          720,
          735,
          750,
          765,
          780,
          795,
          810,
          825,
          840,
          855,
          870,
          885,
          900,
          915,
          930,
          945,
          960
         ],
         "y": [
          8,
          8,
          24,
          23,
          32,
          32,
          31,
          28,
          27,
          24,
          23,
          23,
          22,
          21,
          20,
          18,
          18,
          18,
          20,
          20,
          26,
          26,
          25,
          24,
          23,
          23,
          23,
          23,
          21,
          18,
          15,
          14,
          14
         ]
        },
        {
         "line": {
          "color": "blue"
         },
         "name": "Ladende BEVs",
         "type": "scatter",
         "x": [
          480,
          495,
          510,
          525,
          540,
          555,
          570,
          585,
          600,
          615,
          630,
          645,
          660,
          675,
          690,
          705,
          720,
          735,
          750,
          765,
          780,
          795,
          810,
          825,
          840,
          855,
          870,
          885,
          900,
          915,
          930,
          945,
          960
         ],
         "y": [
          0,
          1,
          1,
          2,
          2,
          3,
          4,
          4,
          5,
          5,
          5,
          5,
          5,
          5,
          5,
          5,
          5,
          5,
          5,
          5,
          5,
          5,
          5,
          5,
          5,
          5,
          5,
          4,
          2,
          2,
          2,
          2,
          2
         ]
        }
       ],
       "layout": {
        "legend": {
         "tracegroupgap": 0
        },
        "margin": {
         "t": 60
        },
        "template": {
         "data": {
          "bar": [
           {
            "error_x": {
             "color": "#2a3f5f"
            },
            "error_y": {
             "color": "#2a3f5f"
            },
            "marker": {
             "line": {
              "color": "white",
              "width": 0.5
             },
             "pattern": {
              "fillmode": "overlay",
              "size": 10,
              "solidity": 0.2
             }
            },
            "type": "bar"
           }
          ],
          "barpolar": [
           {
            "marker": {
             "line": {
              "color": "white",
              "width": 0.5
             },
             "pattern": {
              "fillmode": "overlay",
              "size": 10,
              "solidity": 0.2
             }
            },
            "type": "barpolar"
           }
          ],
          "carpet": [
           {
            "aaxis": {
             "endlinecolor": "#2a3f5f",
             "gridcolor": "#C8D4E3",
             "linecolor": "#C8D4E3",
             "minorgridcolor": "#C8D4E3",
             "startlinecolor": "#2a3f5f"
            },
            "baxis": {
             "endlinecolor": "#2a3f5f",
             "gridcolor": "#C8D4E3",
             "linecolor": "#C8D4E3",
             "minorgridcolor": "#C8D4E3",
             "startlinecolor": "#2a3f5f"
            },
            "type": "carpet"
           }
          ],
          "choropleth": [
           {
            "colorbar": {
             "outlinewidth": 0,
             "ticks": ""
            },
            "type": "choropleth"
           }
          ],
          "contour": [
           {
            "colorbar": {
             "outlinewidth": 0,
             "ticks": ""
            },
            "colorscale": [
             [
              0,
              "#0d0887"
             ],
             [
              0.1111111111111111,
              "#46039f"
             ],
             [
              0.2222222222222222,
              "#7201a8"
             ],
             [
              0.3333333333333333,
              "#9c179e"
             ],
             [
              0.4444444444444444,
              "#bd3786"
             ],
             [
              0.5555555555555556,
              "#d8576b"
             ],
             [
              0.6666666666666666,
              "#ed7953"
             ],
             [
              0.7777777777777778,
              "#fb9f3a"
             ],
             [
              0.8888888888888888,
              "#fdca26"
             ],
             [
              1,
              "#f0f921"
             ]
            ],
            "type": "contour"
           }
          ],
          "contourcarpet": [
           {
            "colorbar": {
             "outlinewidth": 0,
             "ticks": ""
            },
            "type": "contourcarpet"
           }
          ],
          "heatmap": [
           {
            "colorbar": {
             "outlinewidth": 0,
             "ticks": ""
            },
            "colorscale": [
             [
              0,
              "#0d0887"
             ],
             [
              0.1111111111111111,
              "#46039f"
             ],
             [
              0.2222222222222222,
              "#7201a8"
             ],
             [
              0.3333333333333333,
              "#9c179e"
             ],
             [
              0.4444444444444444,
              "#bd3786"
             ],
             [
              0.5555555555555556,
              "#d8576b"
             ],
             [
              0.6666666666666666,
              "#ed7953"
             ],
             [
              0.7777777777777778,
              "#fb9f3a"
             ],
             [
              0.8888888888888888,
              "#fdca26"
             ],
             [
              1,
              "#f0f921"
             ]
            ],
            "type": "heatmap"
           }
          ],
          "heatmapgl": [
           {
            "colorbar": {
             "outlinewidth": 0,
             "ticks": ""
            },
            "colorscale": [
             [
              0,
              "#0d0887"
             ],
             [
              0.1111111111111111,
              "#46039f"
             ],
             [
              0.2222222222222222,
              "#7201a8"
             ],
             [
              0.3333333333333333,
              "#9c179e"
             ],
             [
              0.4444444444444444,
              "#bd3786"
             ],
             [
              0.5555555555555556,
              "#d8576b"
             ],
             [
              0.6666666666666666,
              "#ed7953"
             ],
             [
              0.7777777777777778,
              "#fb9f3a"
             ],
             [
              0.8888888888888888,
              "#fdca26"
             ],
             [
              1,
              "#f0f921"
             ]
            ],
            "type": "heatmapgl"
           }
          ],
          "histogram": [
           {
            "marker": {
             "pattern": {
              "fillmode": "overlay",
              "size": 10,
              "solidity": 0.2
             }
            },
            "type": "histogram"
           }
          ],
          "histogram2d": [
           {
            "colorbar": {
             "outlinewidth": 0,
             "ticks": ""
            },
            "colorscale": [
             [
              0,
              "#0d0887"
             ],
             [
              0.1111111111111111,
              "#46039f"
             ],
             [
              0.2222222222222222,
              "#7201a8"
             ],
             [
              0.3333333333333333,
              "#9c179e"
             ],
             [
              0.4444444444444444,
              "#bd3786"
             ],
             [
              0.5555555555555556,
              "#d8576b"
             ],
             [
              0.6666666666666666,
              "#ed7953"
             ],
             [
              0.7777777777777778,
              "#fb9f3a"
             ],
             [
              0.8888888888888888,
              "#fdca26"
             ],
             [
              1,
              "#f0f921"
             ]
            ],
            "type": "histogram2d"
           }
          ],
          "histogram2dcontour": [
           {
            "colorbar": {
             "outlinewidth": 0,
             "ticks": ""
            },
            "colorscale": [
             [
              0,
              "#0d0887"
             ],
             [
              0.1111111111111111,
              "#46039f"
             ],
             [
              0.2222222222222222,
              "#7201a8"
             ],
             [
              0.3333333333333333,
              "#9c179e"
             ],
             [
              0.4444444444444444,
              "#bd3786"
             ],
             [
              0.5555555555555556,
              "#d8576b"
             ],
             [
              0.6666666666666666,
              "#ed7953"
             ],
             [
              0.7777777777777778,
              "#fb9f3a"
             ],
             [
              0.8888888888888888,
              "#fdca26"
             ],
             [
              1,
              "#f0f921"
             ]
            ],
            "type": "histogram2dcontour"
           }
          ],
          "mesh3d": [
           {
            "colorbar": {
             "outlinewidth": 0,
             "ticks": ""
            },
            "type": "mesh3d"
           }
          ],
          "parcoords": [
           {
            "line": {
             "colorbar": {
              "outlinewidth": 0,
              "ticks": ""
             }
            },
            "type": "parcoords"
           }
          ],
          "pie": [
           {
            "automargin": true,
            "type": "pie"
           }
          ],
          "scatter": [
           {
            "marker": {
             "colorbar": {
              "outlinewidth": 0,
              "ticks": ""
             }
            },
            "type": "scatter"
           }
          ],
          "scatter3d": [
           {
            "line": {
             "colorbar": {
              "outlinewidth": 0,
              "ticks": ""
             }
            },
            "marker": {
             "colorbar": {
              "outlinewidth": 0,
              "ticks": ""
             }
            },
            "type": "scatter3d"
           }
          ],
          "scattercarpet": [
           {
            "marker": {
             "colorbar": {
              "outlinewidth": 0,
              "ticks": ""
             }
            },
            "type": "scattercarpet"
           }
          ],
          "scattergeo": [
           {
            "marker": {
             "colorbar": {
              "outlinewidth": 0,
              "ticks": ""
             }
            },
            "type": "scattergeo"
           }
          ],
          "scattergl": [
           {
            "marker": {
             "colorbar": {
              "outlinewidth": 0,
              "ticks": ""
             }
            },
            "type": "scattergl"
           }
          ],
          "scattermapbox": [
           {
            "marker": {
             "colorbar": {
              "outlinewidth": 0,
              "ticks": ""
             }
            },
            "type": "scattermapbox"
           }
          ],
          "scatterpolar": [
           {
            "marker": {
             "colorbar": {
              "outlinewidth": 0,
              "ticks": ""
             }
            },
            "type": "scatterpolar"
           }
          ],
          "scatterpolargl": [
           {
            "marker": {
             "colorbar": {
              "outlinewidth": 0,
              "ticks": ""
             }
            },
            "type": "scatterpolargl"
           }
          ],
          "scatterternary": [
           {
            "marker": {
             "colorbar": {
              "outlinewidth": 0,
              "ticks": ""
             }
            },
            "type": "scatterternary"
           }
          ],
          "surface": [
           {
            "colorbar": {
             "outlinewidth": 0,
             "ticks": ""
            },
            "colorscale": [
             [
              0,
              "#0d0887"
             ],
             [
              0.1111111111111111,
              "#46039f"
             ],
             [
              0.2222222222222222,
              "#7201a8"
             ],
             [
              0.3333333333333333,
              "#9c179e"
             ],
             [
              0.4444444444444444,
              "#bd3786"
             ],
             [
              0.5555555555555556,
              "#d8576b"
             ],
             [
              0.6666666666666666,
              "#ed7953"
             ],
             [
              0.7777777777777778,
              "#fb9f3a"
             ],
             [
              0.8888888888888888,
              "#fdca26"
             ],
             [
              1,
              "#f0f921"
             ]
            ],
            "type": "surface"
           }
          ],
          "table": [
           {
            "cells": {
             "fill": {
              "color": "#EBF0F8"
             },
             "line": {
              "color": "white"
             }
            },
            "header": {
             "fill": {
              "color": "#C8D4E3"
             },
             "line": {
              "color": "white"
             }
            },
            "type": "table"
           }
          ]
         },
         "layout": {
          "annotationdefaults": {
           "arrowcolor": "#2a3f5f",
           "arrowhead": 0,
           "arrowwidth": 1
          },
          "autotypenumbers": "strict",
          "coloraxis": {
           "colorbar": {
            "outlinewidth": 0,
            "ticks": ""
           }
          },
          "colorscale": {
           "diverging": [
            [
             0,
             "#8e0152"
            ],
            [
             0.1,
             "#c51b7d"
            ],
            [
             0.2,
             "#de77ae"
            ],
            [
             0.3,
             "#f1b6da"
            ],
            [
             0.4,
             "#fde0ef"
            ],
            [
             0.5,
             "#f7f7f7"
            ],
            [
             0.6,
             "#e6f5d0"
            ],
            [
             0.7,
             "#b8e186"
            ],
            [
             0.8,
             "#7fbc41"
            ],
            [
             0.9,
             "#4d9221"
            ],
            [
             1,
             "#276419"
            ]
           ],
           "sequential": [
            [
             0,
             "#0d0887"
            ],
            [
             0.1111111111111111,
             "#46039f"
            ],
            [
             0.2222222222222222,
             "#7201a8"
            ],
            [
             0.3333333333333333,
             "#9c179e"
            ],
            [
             0.4444444444444444,
             "#bd3786"
            ],
            [
             0.5555555555555556,
             "#d8576b"
            ],
            [
             0.6666666666666666,
             "#ed7953"
            ],
            [
             0.7777777777777778,
             "#fb9f3a"
            ],
            [
             0.8888888888888888,
             "#fdca26"
            ],
            [
             1,
             "#f0f921"
            ]
           ],
           "sequentialminus": [
            [
             0,
             "#0d0887"
            ],
            [
             0.1111111111111111,
             "#46039f"
            ],
            [
             0.2222222222222222,
             "#7201a8"
            ],
            [
             0.3333333333333333,
             "#9c179e"
            ],
            [
             0.4444444444444444,
             "#bd3786"
            ],
            [
             0.5555555555555556,
             "#d8576b"
            ],
            [
             0.6666666666666666,
             "#ed7953"
            ],
            [
             0.7777777777777778,
             "#fb9f3a"
            ],
            [
             0.8888888888888888,
             "#fdca26"
            ],
            [
             1,
             "#f0f921"
            ]
           ]
          },
          "colorway": [
           "#636efa",
           "#EF553B",
           "#00cc96",
           "#ab63fa",
           "#FFA15A",
           "#19d3f3",
           "#FF6692",
           "#B6E880",
           "#FF97FF",
           "#FECB52"
          ],
          "font": {
           "color": "#2a3f5f"
          },
          "geo": {
           "bgcolor": "white",
           "lakecolor": "white",
           "landcolor": "white",
           "showlakes": true,
           "showland": true,
           "subunitcolor": "#C8D4E3"
          },
          "hoverlabel": {
           "align": "left"
          },
          "hovermode": "closest",
          "mapbox": {
           "style": "light"
          },
          "paper_bgcolor": "white",
          "plot_bgcolor": "white",
          "polar": {
           "angularaxis": {
            "gridcolor": "#EBF0F8",
            "linecolor": "#EBF0F8",
            "ticks": ""
           },
           "bgcolor": "white",
           "radialaxis": {
            "gridcolor": "#EBF0F8",
            "linecolor": "#EBF0F8",
            "ticks": ""
           }
          },
          "scene": {
           "xaxis": {
            "backgroundcolor": "white",
            "gridcolor": "#DFE8F3",
            "gridwidth": 2,
            "linecolor": "#EBF0F8",
            "showbackground": true,
            "ticks": "",
            "zerolinecolor": "#EBF0F8"
           },
           "yaxis": {
            "backgroundcolor": "white",
            "gridcolor": "#DFE8F3",
            "gridwidth": 2,
            "linecolor": "#EBF0F8",
            "showbackground": true,
            "ticks": "",
            "zerolinecolor": "#EBF0F8"
           },
           "zaxis": {
            "backgroundcolor": "white",
            "gridcolor": "#DFE8F3",
            "gridwidth": 2,
            "linecolor": "#EBF0F8",
            "showbackground": true,
            "ticks": "",
            "zerolinecolor": "#EBF0F8"
           }
          },
          "shapedefaults": {
           "line": {
            "color": "#2a3f5f"
           }
          },
          "ternary": {
           "aaxis": {
            "gridcolor": "#DFE8F3",
            "linecolor": "#A2B1C6",
            "ticks": ""
           },
           "baxis": {
            "gridcolor": "#DFE8F3",
            "linecolor": "#A2B1C6",
            "ticks": ""
           },
           "bgcolor": "white",
           "caxis": {
            "gridcolor": "#DFE8F3",
            "linecolor": "#A2B1C6",
            "ticks": ""
           }
          },
          "title": {
           "x": 0.05
          },
          "xaxis": {
           "automargin": true,
           "gridcolor": "#EBF0F8",
           "linecolor": "#EBF0F8",
           "ticks": "",
           "title": {
            "standoff": 15
           },
           "zerolinecolor": "#EBF0F8",
           "zerolinewidth": 2
          },
          "yaxis": {
           "automargin": true,
           "gridcolor": "#EBF0F8",
           "linecolor": "#EBF0F8",
           "ticks": "",
           "title": {
            "standoff": 15
           },
           "zerolinecolor": "#EBF0F8",
           "zerolinewidth": 2
          }
         }
        },
        "title": {
         "font": {
          "size": 24
         },
         "text": "Anzahl wartender und ladender BEVs im Tagesverlauf",
         "x": 0.5,
         "xanchor": "center"
        },
        "xaxis": {
         "anchor": "y",
         "domain": [
          0,
          1
         ],
         "title": {
          "text": "Minuten"
         }
        },
        "yaxis": {
         "anchor": "x",
         "domain": [
          0,
          1
         ],
         "title": {
          "text": "Anzahl BEVs"
         }
        }
       }
      },
      "text/html": [
       "<div>                            <div id=\"90c8bc18-c6dd-4033-be1c-d4a6ae726ea1\" class=\"plotly-graph-div\" style=\"height:525px; width:100%;\"></div>            <script type=\"text/javascript\">                require([\"plotly\"], function(Plotly) {                    window.PLOTLYENV=window.PLOTLYENV || {};                                    if (document.getElementById(\"90c8bc18-c6dd-4033-be1c-d4a6ae726ea1\")) {                    Plotly.newPlot(                        \"90c8bc18-c6dd-4033-be1c-d4a6ae726ea1\",                        [{\"line\":{\"color\":\"red\"},\"name\":\"Wartende BEVs\",\"x\":[480,495,510,525,540,555,570,585,600,615,630,645,660,675,690,705,720,735,750,765,780,795,810,825,840,855,870,885,900,915,930,945,960],\"y\":[8,8,24,23,32,32,31,28,27,24,23,23,22,21,20,18,18,18,20,20,26,26,25,24,23,23,23,23,21,18,15,14,14],\"type\":\"scatter\"},{\"line\":{\"color\":\"blue\"},\"name\":\"Ladende BEVs\",\"x\":[480,495,510,525,540,555,570,585,600,615,630,645,660,675,690,705,720,735,750,765,780,795,810,825,840,855,870,885,900,915,930,945,960],\"y\":[0,1,1,2,2,3,4,4,5,5,5,5,5,5,5,5,5,5,5,5,5,5,5,5,5,5,5,4,2,2,2,2,2],\"type\":\"scatter\"}],                        {\"template\":{\"data\":{\"barpolar\":[{\"marker\":{\"line\":{\"color\":\"white\",\"width\":0.5},\"pattern\":{\"fillmode\":\"overlay\",\"size\":10,\"solidity\":0.2}},\"type\":\"barpolar\"}],\"bar\":[{\"error_x\":{\"color\":\"#2a3f5f\"},\"error_y\":{\"color\":\"#2a3f5f\"},\"marker\":{\"line\":{\"color\":\"white\",\"width\":0.5},\"pattern\":{\"fillmode\":\"overlay\",\"size\":10,\"solidity\":0.2}},\"type\":\"bar\"}],\"carpet\":[{\"aaxis\":{\"endlinecolor\":\"#2a3f5f\",\"gridcolor\":\"#C8D4E3\",\"linecolor\":\"#C8D4E3\",\"minorgridcolor\":\"#C8D4E3\",\"startlinecolor\":\"#2a3f5f\"},\"baxis\":{\"endlinecolor\":\"#2a3f5f\",\"gridcolor\":\"#C8D4E3\",\"linecolor\":\"#C8D4E3\",\"minorgridcolor\":\"#C8D4E3\",\"startlinecolor\":\"#2a3f5f\"},\"type\":\"carpet\"}],\"choropleth\":[{\"colorbar\":{\"outlinewidth\":0,\"ticks\":\"\"},\"type\":\"choropleth\"}],\"contourcarpet\":[{\"colorbar\":{\"outlinewidth\":0,\"ticks\":\"\"},\"type\":\"contourcarpet\"}],\"contour\":[{\"colorbar\":{\"outlinewidth\":0,\"ticks\":\"\"},\"colorscale\":[[0.0,\"#0d0887\"],[0.1111111111111111,\"#46039f\"],[0.2222222222222222,\"#7201a8\"],[0.3333333333333333,\"#9c179e\"],[0.4444444444444444,\"#bd3786\"],[0.5555555555555556,\"#d8576b\"],[0.6666666666666666,\"#ed7953\"],[0.7777777777777778,\"#fb9f3a\"],[0.8888888888888888,\"#fdca26\"],[1.0,\"#f0f921\"]],\"type\":\"contour\"}],\"heatmapgl\":[{\"colorbar\":{\"outlinewidth\":0,\"ticks\":\"\"},\"colorscale\":[[0.0,\"#0d0887\"],[0.1111111111111111,\"#46039f\"],[0.2222222222222222,\"#7201a8\"],[0.3333333333333333,\"#9c179e\"],[0.4444444444444444,\"#bd3786\"],[0.5555555555555556,\"#d8576b\"],[0.6666666666666666,\"#ed7953\"],[0.7777777777777778,\"#fb9f3a\"],[0.8888888888888888,\"#fdca26\"],[1.0,\"#f0f921\"]],\"type\":\"heatmapgl\"}],\"heatmap\":[{\"colorbar\":{\"outlinewidth\":0,\"ticks\":\"\"},\"colorscale\":[[0.0,\"#0d0887\"],[0.1111111111111111,\"#46039f\"],[0.2222222222222222,\"#7201a8\"],[0.3333333333333333,\"#9c179e\"],[0.4444444444444444,\"#bd3786\"],[0.5555555555555556,\"#d8576b\"],[0.6666666666666666,\"#ed7953\"],[0.7777777777777778,\"#fb9f3a\"],[0.8888888888888888,\"#fdca26\"],[1.0,\"#f0f921\"]],\"type\":\"heatmap\"}],\"histogram2dcontour\":[{\"colorbar\":{\"outlinewidth\":0,\"ticks\":\"\"},\"colorscale\":[[0.0,\"#0d0887\"],[0.1111111111111111,\"#46039f\"],[0.2222222222222222,\"#7201a8\"],[0.3333333333333333,\"#9c179e\"],[0.4444444444444444,\"#bd3786\"],[0.5555555555555556,\"#d8576b\"],[0.6666666666666666,\"#ed7953\"],[0.7777777777777778,\"#fb9f3a\"],[0.8888888888888888,\"#fdca26\"],[1.0,\"#f0f921\"]],\"type\":\"histogram2dcontour\"}],\"histogram2d\":[{\"colorbar\":{\"outlinewidth\":0,\"ticks\":\"\"},\"colorscale\":[[0.0,\"#0d0887\"],[0.1111111111111111,\"#46039f\"],[0.2222222222222222,\"#7201a8\"],[0.3333333333333333,\"#9c179e\"],[0.4444444444444444,\"#bd3786\"],[0.5555555555555556,\"#d8576b\"],[0.6666666666666666,\"#ed7953\"],[0.7777777777777778,\"#fb9f3a\"],[0.8888888888888888,\"#fdca26\"],[1.0,\"#f0f921\"]],\"type\":\"histogram2d\"}],\"histogram\":[{\"marker\":{\"pattern\":{\"fillmode\":\"overlay\",\"size\":10,\"solidity\":0.2}},\"type\":\"histogram\"}],\"mesh3d\":[{\"colorbar\":{\"outlinewidth\":0,\"ticks\":\"\"},\"type\":\"mesh3d\"}],\"parcoords\":[{\"line\":{\"colorbar\":{\"outlinewidth\":0,\"ticks\":\"\"}},\"type\":\"parcoords\"}],\"pie\":[{\"automargin\":true,\"type\":\"pie\"}],\"scatter3d\":[{\"line\":{\"colorbar\":{\"outlinewidth\":0,\"ticks\":\"\"}},\"marker\":{\"colorbar\":{\"outlinewidth\":0,\"ticks\":\"\"}},\"type\":\"scatter3d\"}],\"scattercarpet\":[{\"marker\":{\"colorbar\":{\"outlinewidth\":0,\"ticks\":\"\"}},\"type\":\"scattercarpet\"}],\"scattergeo\":[{\"marker\":{\"colorbar\":{\"outlinewidth\":0,\"ticks\":\"\"}},\"type\":\"scattergeo\"}],\"scattergl\":[{\"marker\":{\"colorbar\":{\"outlinewidth\":0,\"ticks\":\"\"}},\"type\":\"scattergl\"}],\"scattermapbox\":[{\"marker\":{\"colorbar\":{\"outlinewidth\":0,\"ticks\":\"\"}},\"type\":\"scattermapbox\"}],\"scatterpolargl\":[{\"marker\":{\"colorbar\":{\"outlinewidth\":0,\"ticks\":\"\"}},\"type\":\"scatterpolargl\"}],\"scatterpolar\":[{\"marker\":{\"colorbar\":{\"outlinewidth\":0,\"ticks\":\"\"}},\"type\":\"scatterpolar\"}],\"scatter\":[{\"marker\":{\"colorbar\":{\"outlinewidth\":0,\"ticks\":\"\"}},\"type\":\"scatter\"}],\"scatterternary\":[{\"marker\":{\"colorbar\":{\"outlinewidth\":0,\"ticks\":\"\"}},\"type\":\"scatterternary\"}],\"surface\":[{\"colorbar\":{\"outlinewidth\":0,\"ticks\":\"\"},\"colorscale\":[[0.0,\"#0d0887\"],[0.1111111111111111,\"#46039f\"],[0.2222222222222222,\"#7201a8\"],[0.3333333333333333,\"#9c179e\"],[0.4444444444444444,\"#bd3786\"],[0.5555555555555556,\"#d8576b\"],[0.6666666666666666,\"#ed7953\"],[0.7777777777777778,\"#fb9f3a\"],[0.8888888888888888,\"#fdca26\"],[1.0,\"#f0f921\"]],\"type\":\"surface\"}],\"table\":[{\"cells\":{\"fill\":{\"color\":\"#EBF0F8\"},\"line\":{\"color\":\"white\"}},\"header\":{\"fill\":{\"color\":\"#C8D4E3\"},\"line\":{\"color\":\"white\"}},\"type\":\"table\"}]},\"layout\":{\"annotationdefaults\":{\"arrowcolor\":\"#2a3f5f\",\"arrowhead\":0,\"arrowwidth\":1},\"autotypenumbers\":\"strict\",\"coloraxis\":{\"colorbar\":{\"outlinewidth\":0,\"ticks\":\"\"}},\"colorscale\":{\"diverging\":[[0,\"#8e0152\"],[0.1,\"#c51b7d\"],[0.2,\"#de77ae\"],[0.3,\"#f1b6da\"],[0.4,\"#fde0ef\"],[0.5,\"#f7f7f7\"],[0.6,\"#e6f5d0\"],[0.7,\"#b8e186\"],[0.8,\"#7fbc41\"],[0.9,\"#4d9221\"],[1,\"#276419\"]],\"sequential\":[[0.0,\"#0d0887\"],[0.1111111111111111,\"#46039f\"],[0.2222222222222222,\"#7201a8\"],[0.3333333333333333,\"#9c179e\"],[0.4444444444444444,\"#bd3786\"],[0.5555555555555556,\"#d8576b\"],[0.6666666666666666,\"#ed7953\"],[0.7777777777777778,\"#fb9f3a\"],[0.8888888888888888,\"#fdca26\"],[1.0,\"#f0f921\"]],\"sequentialminus\":[[0.0,\"#0d0887\"],[0.1111111111111111,\"#46039f\"],[0.2222222222222222,\"#7201a8\"],[0.3333333333333333,\"#9c179e\"],[0.4444444444444444,\"#bd3786\"],[0.5555555555555556,\"#d8576b\"],[0.6666666666666666,\"#ed7953\"],[0.7777777777777778,\"#fb9f3a\"],[0.8888888888888888,\"#fdca26\"],[1.0,\"#f0f921\"]]},\"colorway\":[\"#636efa\",\"#EF553B\",\"#00cc96\",\"#ab63fa\",\"#FFA15A\",\"#19d3f3\",\"#FF6692\",\"#B6E880\",\"#FF97FF\",\"#FECB52\"],\"font\":{\"color\":\"#2a3f5f\"},\"geo\":{\"bgcolor\":\"white\",\"lakecolor\":\"white\",\"landcolor\":\"white\",\"showlakes\":true,\"showland\":true,\"subunitcolor\":\"#C8D4E3\"},\"hoverlabel\":{\"align\":\"left\"},\"hovermode\":\"closest\",\"mapbox\":{\"style\":\"light\"},\"paper_bgcolor\":\"white\",\"plot_bgcolor\":\"white\",\"polar\":{\"angularaxis\":{\"gridcolor\":\"#EBF0F8\",\"linecolor\":\"#EBF0F8\",\"ticks\":\"\"},\"bgcolor\":\"white\",\"radialaxis\":{\"gridcolor\":\"#EBF0F8\",\"linecolor\":\"#EBF0F8\",\"ticks\":\"\"}},\"scene\":{\"xaxis\":{\"backgroundcolor\":\"white\",\"gridcolor\":\"#DFE8F3\",\"gridwidth\":2,\"linecolor\":\"#EBF0F8\",\"showbackground\":true,\"ticks\":\"\",\"zerolinecolor\":\"#EBF0F8\"},\"yaxis\":{\"backgroundcolor\":\"white\",\"gridcolor\":\"#DFE8F3\",\"gridwidth\":2,\"linecolor\":\"#EBF0F8\",\"showbackground\":true,\"ticks\":\"\",\"zerolinecolor\":\"#EBF0F8\"},\"zaxis\":{\"backgroundcolor\":\"white\",\"gridcolor\":\"#DFE8F3\",\"gridwidth\":2,\"linecolor\":\"#EBF0F8\",\"showbackground\":true,\"ticks\":\"\",\"zerolinecolor\":\"#EBF0F8\"}},\"shapedefaults\":{\"line\":{\"color\":\"#2a3f5f\"}},\"ternary\":{\"aaxis\":{\"gridcolor\":\"#DFE8F3\",\"linecolor\":\"#A2B1C6\",\"ticks\":\"\"},\"baxis\":{\"gridcolor\":\"#DFE8F3\",\"linecolor\":\"#A2B1C6\",\"ticks\":\"\"},\"bgcolor\":\"white\",\"caxis\":{\"gridcolor\":\"#DFE8F3\",\"linecolor\":\"#A2B1C6\",\"ticks\":\"\"}},\"title\":{\"x\":0.05},\"xaxis\":{\"automargin\":true,\"gridcolor\":\"#EBF0F8\",\"linecolor\":\"#EBF0F8\",\"ticks\":\"\",\"title\":{\"standoff\":15},\"zerolinecolor\":\"#EBF0F8\",\"zerolinewidth\":2},\"yaxis\":{\"automargin\":true,\"gridcolor\":\"#EBF0F8\",\"linecolor\":\"#EBF0F8\",\"ticks\":\"\",\"title\":{\"standoff\":15},\"zerolinecolor\":\"#EBF0F8\",\"zerolinewidth\":2}}},\"xaxis\":{\"anchor\":\"y\",\"domain\":[0.0,1.0],\"title\":{\"text\":\"Minuten\"}},\"yaxis\":{\"anchor\":\"x\",\"domain\":[0.0,1.0],\"title\":{\"text\":\"Anzahl BEVs\"}},\"legend\":{\"tracegroupgap\":0},\"margin\":{\"t\":60},\"title\":{\"font\":{\"size\":24},\"text\":\"Anzahl wartender und ladender BEVs im Tagesverlauf\",\"x\":0.5,\"xanchor\":\"center\"}},                        {\"responsive\": true}                    ).then(function(){\n",
       "                            \n",
       "var gd = document.getElementById('90c8bc18-c6dd-4033-be1c-d4a6ae726ea1');\n",
       "var x = new MutationObserver(function (mutations, observer) {{\n",
       "        var display = window.getComputedStyle(gd).display;\n",
       "        if (!display || display === 'none') {{\n",
       "            console.log([gd, 'removed!']);\n",
       "            Plotly.purge(gd);\n",
       "            observer.disconnect();\n",
       "        }}\n",
       "}});\n",
       "\n",
       "// Listen for the removal of the full notebook cells\n",
       "var notebookContainer = gd.closest('#notebook-container');\n",
       "if (notebookContainer) {{\n",
       "    x.observe(notebookContainer, {childList: true});\n",
       "}}\n",
       "\n",
       "// Listen for the clearing of the current output cell\n",
       "var outputEl = gd.closest('.output');\n",
       "if (outputEl) {{\n",
       "    x.observe(outputEl, {childList: true});\n",
       "}}\n",
       "\n",
       "                        })                };                });            </script>        </div>"
      ]
     },
     "metadata": {},
     "output_type": "display_data"
    }
   ],
   "source": [
    "figureGeneration.create_bev_number_figure(simulation_data)"
   ]
  }
 ],
 "metadata": {
  "kernelspec": {
   "display_name": "Python 3 (ipykernel)",
   "language": "python",
   "name": "python3"
  },
  "language_info": {
   "codemirror_mode": {
    "name": "ipython",
    "version": 3
   },
   "file_extension": ".py",
   "mimetype": "text/x-python",
   "name": "python",
   "nbconvert_exporter": "python",
   "pygments_lexer": "ipython3",
   "version": "3.9.5"
  }
 },
 "nbformat": 4,
 "nbformat_minor": 4
}