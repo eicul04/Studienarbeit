{
 "cells": [
  {
   "cell_type": "markdown",
   "metadata": {
    "pycharm": {
     "name": "#%% md\n"
    }
   },
   "source": [
    "# Lademanagementsimulation   \n"
   ]
  },
  {
   "cell_type": "markdown",
   "metadata": {},
   "source": [
    "### Simulations Parameter"
   ]
  },
  {
   "cell_type": "code",
   "execution_count": 1,
   "metadata": {
    "pycharm": {
     "name": "#%%\n"
    }
   },
   "outputs": [],
   "source": [
    "solarpeakleistung = 125 #Einheit Kilowattpeak (kWP)\n",
    "anzahl_bevs_pro_tag = 50\n",
    "ladeleistung_pro_bev = 11 #Einheit kW\n",
    "maximale_ladezeit = 30 #Einheit Minuten\n",
    "minute_interval = 15 #Einheit Minuten"
   ]
  },
  {
   "cell_type": "markdown",
   "metadata": {},
   "source": [
    "### Simulations Eingangsdaten"
   ]
  },
  {
   "cell_type": "code",
   "execution_count": 2,
   "metadata": {
    "pycharm": {
     "is_executing": true,
     "name": "#%%\n"
    }
   },
   "outputs": [
    {
     "data": {
      "text/html": [
       "\n",
       "        <iframe\n",
       "            width=\"100%\"\n",
       "            height=\"650\"\n",
       "            src=\"http://127.0.0.1:8050/\"\n",
       "            frameborder=\"0\"\n",
       "            allowfullscreen\n",
       "            \n",
       "        ></iframe>\n",
       "        "
      ],
      "text/plain": [
       "<IPython.lib.display.IFrame at 0x13c547a4070>"
      ]
     },
     "metadata": {},
     "output_type": "display_data"
    }
   ],
   "source": [
    "import simulationInputDataVisualisation\n",
    "simulationInputDataVisualisation.create_jupyter_dash_app(solarpeakleistung)"
   ]
  },
  {
   "cell_type": "markdown",
   "metadata": {},
   "source": [
    "### Verteilungsalgorithmus"
   ]
  },
  {
   "cell_type": "code",
   "execution_count": 3,
   "metadata": {
    "pycharm": {
     "is_executing": true
    }
   },
   "outputs": [
    {
     "name": "stdout",
     "output_type": "stream",
     "text": [
      "START POST OPTIMIZATION\n",
      "{0: [(8.0, 4.1), 'nicht parkend', [], [5.172499999999999]], 1: [(8.5, 4.7), 'nicht parkend', [], [6.12]], 2: [(8.0, 6.2), 'nicht parkend', [], [7.317499999999999]], 3: [(9.0, 6.4), 'nicht parkend', [], [7.6049999999999995]], 4: [(8.0, 7.2), 'nicht parkend', [], [8.0025]], 5: [(13.0, 3.0), 'nicht parkend', [], [2.22]], 6: [(8.0, 4.6), 'nicht parkend', [], [5.834999999999999]], 7: [(12.5, 3.5), 'nicht parkend', [], [2.795]], 8: [(12.5, 3.5), 'nicht parkend', [], [2.795]], 9: [(13.0, 3.0), 'nicht parkend', [], [2.22]], 10: [(8.5, 6.4), 'nicht parkend', [], [7.675]], 11: [(8.5, 7.5), 'nicht parkend', [], [8.1275]], 12: [(9.0, 7.0), 'nicht parkend', [], [7.8149999999999995]], 13: [(8.0, 3.1), 'nicht parkend', [], [3.5274999999999994]], 14: [(8.5, 4.3), 'nicht parkend', [], [5.9075]], 15: [(13.0, 3.0), 'nicht parkend', [], [2.22]], 16: [(8.0, 7.8), 'nicht parkend', [], [8.329999999999998]], 17: [(8.5, 7.5), 'nicht parkend', [], [8.1275]], 18: [(9.5, 3.0), 'nicht parkend', [], [4.57]], 19: [(12.5, 3.4), 'nicht parkend', [], [2.795]], 20: [(13.0, 3.0), 'nicht parkend', [], [2.22]], 21: [(9.5, 4.8), 'nicht parkend', [], [6.57]], 22: [(13.0, 3.0), 'nicht parkend', [], [2.22]], 23: [(13.0, 3.0), 'nicht parkend', [], [2.22]], 24: [(8.5, 7.5), 'nicht parkend', [], [8.1275]], 25: [(13.0, 3.0), 'nicht parkend', [], [2.22]], 26: [(9.0, 7.0), 'nicht parkend', [], [7.8149999999999995]], 27: [(13.0, 3.0), 'nicht parkend', [], [2.22]], 28: [(8.0, 7.7), 'nicht parkend', [], [8.229999999999999]], 29: [(9.0, 6.2), 'nicht parkend', [], [7.4875]], 30: [(12.0, 4.0), 'nicht parkend', [], [3.545]], 31: [(8.5, 5.2), 'nicht parkend', [], [6.6]], 32: [(13.0, 3.0), 'nicht parkend', [], [2.22]], 33: [(12.5, 3.2), 'nicht parkend', [], [2.695]], 34: [(8.5, 4.3), 'nicht parkend', [], [5.9075]], 35: [(8.5, 7.5), 'nicht parkend', [], [8.1275]], 36: [(8.5, 6.6), 'nicht parkend', [], [7.8]], 37: [(9.0, 4.1), 'nicht parkend', [], [5.8075]], 38: [(9.0, 6.9), 'nicht parkend', [], [7.8149999999999995]], 39: [(12.0, 3.3), 'nicht parkend', [], [3.335]], 40: [(13.0, 3.0), 'nicht parkend', [], [2.22]], 41: [(8.5, 5.8), 'nicht parkend', [], [7.3325]], 42: [(8.5, 7.3), 'nicht parkend', [], [8.1275]], 43: [(9.0, 6.4), 'nicht parkend', [], [7.6049999999999995]], 44: [(9.0, 5.3), 'nicht parkend', [], [7.02]], 45: [(8.5, 7.5), 'nicht parkend', [], [8.1275]], 46: [(12.0, 4.0), 'nicht parkend', [], [3.545]], 47: [(8.5, 3.1), 'nicht parkend', [], [4.145]], 48: [(9.5, 3.8), 'nicht parkend', [], [5.590000000000001]], 49: [(8.0, 7.7), 'nicht parkend', [], [8.229999999999999]]}\n",
      "Waiting BEV list:  []\n",
      "[960, 945, 930, 915, 900, 885, 870, 855, 840, 825, 810, 795, 780, 765, 750, 735, 720, 705, 690, 675, 660, 645, 630, 615, 600, 585, 570, 555, 540, 525, 510, 495, 480]\n",
      "\n",
      "\n",
      "BEVs dict before charging start updated:  {0: [(8.0, 4.1), 'nicht parkend', [], [5.172499999999999]], 1: [(8.5, 4.7), 'nicht parkend', [], [6.12]], 2: [(8.0, 6.2), 'nicht parkend', [], [7.317499999999999]], 3: [(9.0, 6.4), 'nicht parkend', [], [7.6049999999999995]], 4: [(8.0, 7.2), 'nicht parkend', [], [8.0025]], 5: [(13.0, 3.0), 'wartend', [(960, 13.162055335968375, 2.22)], [2.22]], 6: [(8.0, 4.6), 'nicht parkend', [], [5.834999999999999]], 7: [(12.5, 3.5), 'wartend', [(946.8379446640316, 46.56398104265406, 2.795)], [2.795]], 8: [(12.5, 3.5), 'wartend', [(945, 25.23939808481532, 2.795)], [2.795]], 9: [(13.0, 3.0), 'wartend', [(919.7606019151847, 16.41936968769653, 2.22)], [2.22]], 10: [(8.5, 6.4), 'nicht parkend', [], [7.675]], 11: [(8.5, 7.5), 'nicht parkend', [(900.2739636213776, 375.27396362137756, 1.1265612414063129)], [8.1275]], 12: [(9.0, 7.0), 'wartend', [(903.3412322274881, 151.68522320604245, 7.8149999999999995)], [7.8149999999999995]], 13: [(8.0, 3.1), 'nicht parkend', [], [3.5274999999999994]], 14: [(8.5, 4.3), 'nicht parkend', [], [5.9075]], 15: [(13.0, 3.0), 'wartend', [(885, 14.799999999999955, 2.22)], [2.22]], 16: [(8.0, 7.8), 'nicht parkend', [], [8.329999999999998]], 17: [(8.5, 7.5), 'nicht parkend', [(870.2, 345.20000000000005, 0.7592833333335061)], [8.1275]], 18: [(9.5, 3.0), 'nicht parkend', [(662.170595448818, 77.17059544881795, 2.1678460279161125)], [4.57]], 19: [(12.5, 3.4), 'nicht parkend', [], [2.795]], 20: [(13.0, 3.0), 'wartend', [(855, 13.661538461538498, 2.22)], [2.22]], 21: [(9.5, 4.8), 'nicht parkend', [], [6.57]], 22: [(13.0, 3.0), 'wartend', [(841.3384615384615, 12.989370629370683, 2.22)], [2.22]], 23: [(13.0, 3.0), 'wartend', [(828.3490909090908, 13.277392795883316, 2.2200000000000006)], [2.22]], 24: [(8.5, 7.5), 'wartend', [(815.0716981132075, 107.65708605411282, 8.1275)], [8.1275]], 25: [(13.0, 3.0), 'nicht parkend', [], [2.22]], 26: [(9.0, 7.0), 'nicht parkend', [(751.6560090214457, 196.6560090214457, 3.815168783907314)], [7.8149999999999995]], 27: [(13.0, 3.0), 'nicht parkend', [], [2.22]], 28: [(8.0, 7.7), 'nicht parkend', [], [8.229999999999999]], 29: [(9.0, 6.2), 'nicht parkend', [], [7.4875]], 30: [(12.0, 4.0), 'wartend', [(750, 21.562143671607714, 3.545)], [3.545]], 31: [(8.5, 5.2), 'nicht parkend', [], [6.6]], 32: [(13.0, 3.0), 'nicht parkend', [], [2.22]], 33: [(12.5, 3.2), 'nicht parkend', [], [2.695]], 34: [(8.5, 4.3), 'nicht parkend', [], [5.9075]], 35: [(8.5, 7.5), 'wartend', [(728.4378563283923, 66.26726087957434, 8.1275)], [8.1275]], 36: [(8.5, 6.6), 'nicht parkend', [], [7.8]], 37: [(9.0, 4.1), 'nicht parkend', [], [5.8075]], 38: [(9.0, 6.9), 'nicht parkend', [], [7.8149999999999995]], 39: [(12.0, 3.3), 'nicht parkend', [], [3.335]], 40: [(13.0, 3.0), 'nicht parkend', [], [2.22]], 41: [(8.5, 5.8), 'nicht parkend', [], [7.3325]], 42: [(8.5, 7.3), 'nicht parkend', [], [8.1275]], 43: [(9.0, 6.4), 'nicht parkend', [], [7.6049999999999995]], 44: [(9.0, 5.3), 'nicht parkend', [], [7.02]], 45: [(8.5, 7.5), 'nicht parkend', [(707.4146120590947, 182.41461205909468, 4.771273428771086)], [8.1275]], 46: [(12.0, 4.0), 'nicht parkend', [], [3.545]], 47: [(8.5, 3.1), 'nicht parkend', [], [4.145]], 48: [(9.5, 3.8), 'nicht parkend', [], [5.590000000000001]], 49: [(8.0, 7.7), 'nicht parkend', [], [8.229999999999999]]}\n",
      "\n",
      "\n",
      "OPTIMIZATION DONE\n",
      "BEVs dict:  {0: [(8.0, 4.1), 'nicht parkend', [], [5.172499999999999]], 1: [(8.5, 4.7), 'nicht parkend', [], [6.12]], 2: [(8.0, 6.2), 'nicht parkend', [], [7.317499999999999]], 3: [(9.0, 6.4), 'nicht parkend', [], [7.6049999999999995]], 4: [(8.0, 7.2), 'nicht parkend', [], [8.0025]], 5: [(13.0, 3.0), 'wartend', [(946.8379446640316, 13.162055335968375, 2.22)], [2.22]], 6: [(8.0, 4.6), 'nicht parkend', [], [5.834999999999999]], 7: [(12.5, 3.5), 'wartend', [(900.2739636213776, 46.56398104265406, 2.795)], [2.795]], 8: [(12.5, 3.5), 'wartend', [(919.7606019151847, 25.23939808481532, 2.795)], [2.795]], 9: [(13.0, 3.0), 'wartend', [(903.3412322274881, 16.41936968769653, 2.22)], [2.22]], 10: [(8.5, 6.4), 'nicht parkend', [], [7.675]], 11: [(8.5, 7.5), 'nicht parkend', [(525.0, 375.27396362137756, 1.1265612414063129)], [8.1275]], 12: [(9.0, 7.0), 'wartend', [(751.6560090214457, 151.68522320604245, 7.8149999999999995)], [7.8149999999999995]], 13: [(8.0, 3.1), 'nicht parkend', [], [3.5274999999999994]], 14: [(8.5, 4.3), 'nicht parkend', [], [5.9075]], 15: [(13.0, 3.0), 'wartend', [(870.2, 14.799999999999955, 2.22)], [2.22]], 16: [(8.0, 7.8), 'nicht parkend', [], [8.329999999999998]], 17: [(8.5, 7.5), 'nicht parkend', [(525.0, 345.20000000000005, 0.7592833333335061)], [8.1275]], 18: [(9.5, 3.0), 'nicht parkend', [(585.0, 77.17059544881795, 2.1678460279161125)], [4.57]], 19: [(12.5, 3.4), 'nicht parkend', [], [2.795]], 20: [(13.0, 3.0), 'wartend', [(841.3384615384615, 13.661538461538498, 2.22)], [2.22]], 21: [(9.5, 4.8), 'nicht parkend', [], [6.57]], 22: [(13.0, 3.0), 'wartend', [(828.3490909090908, 12.989370629370683, 2.22)], [2.22]], 23: [(13.0, 3.0), 'wartend', [(815.0716981132075, 13.277392795883316, 2.2200000000000006)], [2.22]], 24: [(8.5, 7.5), 'wartend', [(707.4146120590947, 107.65708605411282, 8.1275)], [8.1275]], 25: [(13.0, 3.0), 'nicht parkend', [], [2.22]], 26: [(9.0, 7.0), 'nicht parkend', [(555.0, 196.6560090214457, 3.815168783907314)], [7.8149999999999995]], 27: [(13.0, 3.0), 'nicht parkend', [], [2.22]], 28: [(8.0, 7.7), 'nicht parkend', [], [8.229999999999999]], 29: [(9.0, 6.2), 'nicht parkend', [], [7.4875]], 30: [(12.0, 4.0), 'wartend', [(728.4378563283923, 21.562143671607714, 3.545)], [3.545]], 31: [(8.5, 5.2), 'nicht parkend', [], [6.6]], 32: [(13.0, 3.0), 'nicht parkend', [], [2.22]], 33: [(12.5, 3.2), 'nicht parkend', [], [2.695]], 34: [(8.5, 4.3), 'nicht parkend', [], [5.9075]], 35: [(8.5, 7.5), 'wartend', [(662.170595448818, 66.26726087957434, 8.1275)], [8.1275]], 36: [(8.5, 6.6), 'nicht parkend', [], [7.8]], 37: [(9.0, 4.1), 'nicht parkend', [], [5.8075]], 38: [(9.0, 6.9), 'nicht parkend', [], [7.8149999999999995]], 39: [(12.0, 3.3), 'nicht parkend', [], [3.335]], 40: [(13.0, 3.0), 'nicht parkend', [], [2.22]], 41: [(8.5, 5.8), 'nicht parkend', [], [7.3325]], 42: [(8.5, 7.3), 'nicht parkend', [], [8.1275]], 43: [(9.0, 6.4), 'nicht parkend', [], [7.6049999999999995]], 44: [(9.0, 5.3), 'nicht parkend', [], [7.02]], 45: [(8.5, 7.5), 'nicht parkend', [(525.0, 182.41461205909468, 4.771273428771086)], [8.1275]], 46: [(12.0, 4.0), 'nicht parkend', [], [3.545]], 47: [(8.5, 3.1), 'nicht parkend', [], [4.145]], 48: [(9.5, 3.8), 'nicht parkend', [], [5.590000000000001]], 49: [(8.0, 7.7), 'nicht parkend', [], [8.229999999999999]]}\n",
      "\n",
      "\n",
      "Minute:  480\n",
      "Charging BEVs after updating parking end:  []\n",
      "Waiting BEVs:  []\n",
      "Charging BEVs (nachdem neue Plätze belegt):  [0]\n",
      "AVAILABLE SOLAR POWER:  0.62\n",
      "Restladeenergie bis zur fairen Ladeenergie for BEV mit ID 0:  5.172499999999999\n",
      "Restladezeit:  500.5645161290322\n",
      "Charging BEVs:  [0]\n",
      "\n",
      "\n",
      "Minute:  495\n",
      "Charging BEVs after updating parking end:  []\n",
      "Waiting BEVs:  [2, 4, 6, 13, 16, 28, 49]\n",
      "Charging BEVs (nachdem neue Plätze belegt):  [2]\n",
      "AVAILABLE SOLAR POWER:  5.87\n",
      "Restladeenergie bis zur fairen Ladeenergie for BEV mit ID 2:  7.317499999999999\n",
      "Restladezeit:  74.79557069846676\n",
      "Charging BEVs:  [2]\n"
     ]
    },
    {
     "name": "stdout",
     "output_type": "stream",
     "text": [
      "\n",
      "\n",
      "Minute:  510\n"
     ]
    },
    {
     "ename": "ValueError",
     "evalue": "list.remove(x): x not in list",
     "output_type": "error",
     "traceback": [
      "\u001B[1;31m---------------------------------------------------------------------------\u001B[0m",
      "\u001B[1;31mValueError\u001B[0m                                Traceback (most recent call last)",
      "Input \u001B[1;32mIn [3]\u001B[0m, in \u001B[0;36m<module>\u001B[1;34m\u001B[0m\n\u001B[0;32m     16\u001B[0m distributionAlgorithmForecastPolling\u001B[38;5;241m.\u001B[39minit_simulation(day_in_minute_interval_steps, minute_interval, simulation_data, \n\u001B[0;32m     17\u001B[0m                                                    simulation_day, solarpeakleistung)\n\u001B[0;32m     19\u001B[0m postOptimization\u001B[38;5;241m.\u001B[39mstart_post_optimization(minute_interval, simulation_day, solarpeakleistung, bev_data, table_dict, simulation_data,\n\u001B[0;32m     20\u001B[0m                 ladeleistung_pro_bev)\n\u001B[1;32m---> 22\u001B[0m \u001B[43mdistributionAlgorithmForecastPolling\u001B[49m\u001B[38;5;241;43m.\u001B[39;49m\u001B[43mstart_simulation\u001B[49m\u001B[43m(\u001B[49m\u001B[43msolarpeakleistung\u001B[49m\u001B[43m,\u001B[49m\u001B[43m \u001B[49m\u001B[43mladeleistung_pro_bev\u001B[49m\u001B[43m,\u001B[49m\n\u001B[0;32m     23\u001B[0m \u001B[43m                     \u001B[49m\u001B[43msimulation_day\u001B[49m\u001B[43m,\u001B[49m\u001B[43m \u001B[49m\u001B[43mbev_data\u001B[49m\u001B[43m,\u001B[49m\u001B[43m \u001B[49m\u001B[43mtable_dict\u001B[49m\u001B[43m,\u001B[49m\u001B[43m \u001B[49m\u001B[43msimulation_data\u001B[49m\u001B[43m,\u001B[49m\u001B[43m \u001B[49m\u001B[43mminute_interval\u001B[49m\u001B[43m)\u001B[49m\n",
      "File \u001B[1;32mD:\\Duales Studium\\DHBW\\Studienarbeit\\Code\\lademanagementsimulation\\main\\distributionAlgorithmForecastPolling.py:30\u001B[0m, in \u001B[0;36mstart_simulation\u001B[1;34m(solar_peak_power, charging_power_pro_bev, simulation_day, bev_data, table_dict, simulation_data, minute_interval)\u001B[0m\n\u001B[0;32m     28\u001B[0m \u001B[38;5;28mprint\u001B[39m(\u001B[38;5;124m\"\u001B[39m\u001B[38;5;130;01m\\n\u001B[39;00m\u001B[38;5;124m\"\u001B[39m)\n\u001B[0;32m     29\u001B[0m \u001B[38;5;28mprint\u001B[39m(\u001B[38;5;124m\"\u001B[39m\u001B[38;5;124mMinute: \u001B[39m\u001B[38;5;124m\"\u001B[39m, minute)\n\u001B[1;32m---> 30\u001B[0m \u001B[43mupdate_charging_bevs_from_post_optimization_plan\u001B[49m\u001B[43m(\u001B[49m\u001B[43mminute\u001B[49m\u001B[43m,\u001B[49m\u001B[43m \u001B[49m\u001B[43msimulation_day\u001B[49m\u001B[43m)\u001B[49m\n\u001B[0;32m     31\u001B[0m simulation_day\u001B[38;5;241m.\u001B[39mstart_charging_between_intervals()\n\u001B[0;32m     32\u001B[0m simulation_day\u001B[38;5;241m.\u001B[39mstop_charging_between_intervals()\n",
      "File \u001B[1;32mD:\\Duales Studium\\DHBW\\Studienarbeit\\Code\\lademanagementsimulation\\main\\distributionAlgorithmForecastPolling.py:80\u001B[0m, in \u001B[0;36mupdate_charging_bevs_from_post_optimization_plan\u001B[1;34m(minute, simulation_day)\u001B[0m\n\u001B[0;32m     78\u001B[0m         \u001B[38;5;28;01mif\u001B[39;00m check_if_bev_charging_end(minute, id_bev, simulation_day):\n\u001B[0;32m     79\u001B[0m             stop_charging(id_bev, simulation_day)\n\u001B[1;32m---> 80\u001B[0m \u001B[43msimulation_day\u001B[49m\u001B[38;5;241;43m.\u001B[39;49m\u001B[43mremove_from_list\u001B[49m\u001B[43m(\u001B[49m\u001B[43msimulation_day\u001B[49m\u001B[38;5;241;43m.\u001B[39;49m\u001B[43mcharging_bevs_list\u001B[49m\u001B[43m)\u001B[49m\n",
      "File \u001B[1;32mD:\\Duales Studium\\DHBW\\Studienarbeit\\Code\\lademanagementsimulation\\main\\simulationClasses.py:295\u001B[0m, in \u001B[0;36mSimulationDay.remove_from_list\u001B[1;34m(self, list_with_bev_to_remove)\u001B[0m\n\u001B[0;32m    293\u001B[0m \u001B[38;5;28;01mdef\u001B[39;00m \u001B[38;5;21mremove_from_list\u001B[39m(\u001B[38;5;28mself\u001B[39m, list_with_bev_to_remove):\n\u001B[0;32m    294\u001B[0m     \u001B[38;5;28;01mfor\u001B[39;00m id_bev \u001B[38;5;129;01min\u001B[39;00m \u001B[38;5;28mself\u001B[39m\u001B[38;5;241m.\u001B[39mbevs_to_remove:\n\u001B[1;32m--> 295\u001B[0m         \u001B[43mlist_with_bev_to_remove\u001B[49m\u001B[38;5;241;43m.\u001B[39;49m\u001B[43mremove_bev\u001B[49m\u001B[43m(\u001B[49m\u001B[43mid_bev\u001B[49m\u001B[43m)\u001B[49m\n\u001B[0;32m    296\u001B[0m     \u001B[38;5;28mself\u001B[39m\u001B[38;5;241m.\u001B[39mbevs_to_remove \u001B[38;5;241m=\u001B[39m \u001B[38;5;28mset\u001B[39m()\n",
      "File \u001B[1;32mD:\\Duales Studium\\DHBW\\Studienarbeit\\Code\\lademanagementsimulation\\main\\simulationClasses.py:220\u001B[0m, in \u001B[0;36mChargingBevsList.remove_bev\u001B[1;34m(self, id_bev)\u001B[0m\n\u001B[0;32m    219\u001B[0m \u001B[38;5;28;01mdef\u001B[39;00m \u001B[38;5;21mremove_bev\u001B[39m(\u001B[38;5;28mself\u001B[39m, id_bev):\n\u001B[1;32m--> 220\u001B[0m     \u001B[38;5;28;43mself\u001B[39;49m\u001B[38;5;241;43m.\u001B[39;49m\u001B[43mcharging_bevs_list\u001B[49m\u001B[38;5;241;43m.\u001B[39;49m\u001B[43mremove\u001B[49m\u001B[43m(\u001B[49m\u001B[43mid_bev\u001B[49m\u001B[43m)\u001B[49m\n",
      "\u001B[1;31mValueError\u001B[0m: list.remove(x): x not in list"
     ]
    }
   ],
   "source": [
    "import distributionAlgorithmPolling\n",
    "import simulationClasses\n",
    "import simulationData\n",
    "import simulationOutputDataVisualisation\n",
    "import distributionAlgorithmForecast\n",
    "import distributionAlgorithmForecastPolling\n",
    "import postOptimization\n",
    "import numpy as np\n",
    "\n",
    "simulation_day = simulationClasses.SimulationDay(anzahl_bevs_pro_tag)\n",
    "bev_data = simulationData.BevData()\n",
    "table_dict = simulationData.TableDict()\n",
    "simulation_data = simulationData.SimulationData()\n",
    "    \n",
    "day_in_minute_interval_steps = list(np.around(np.arange(480, 960 + 1, minute_interval), 1))\n",
    "distributionAlgorithmForecastPolling.init_simulation(day_in_minute_interval_steps, minute_interval, simulation_data, \n",
    "                                                   simulation_day, solarpeakleistung)\n",
    "\n",
    "postOptimization.start_post_optimization(minute_interval, simulation_day, solarpeakleistung, bev_data, table_dict, simulation_data,\n",
    "                ladeleistung_pro_bev)\n",
    "\n",
    "distributionAlgorithmForecastPolling.start_simulation(solarpeakleistung, ladeleistung_pro_bev,\n",
    "                     simulation_day, bev_data, table_dict, simulation_data, minute_interval)\n",
    "    \n",
    "# nochmal ein Durchgang wo frei gewordener Platz belegt wird"
   ]
  },
  {
   "cell_type": "markdown",
   "metadata": {},
   "source": [
    "### Ergebnis Algorithmus"
   ]
  },
  {
   "cell_type": "code",
   "execution_count": null,
   "metadata": {
    "pycharm": {
     "is_executing": true
    }
   },
   "outputs": [],
   "source": [
    "simulationOutputDataVisualisation.print_algorithm_result(bev_data, simulation_data, anzahl_bevs_pro_tag)"
   ]
  },
  {
   "cell_type": "markdown",
   "metadata": {},
   "source": [
    "### Tabellarische Übersicht Park- und Ladeverlauf der BEVs"
   ]
  },
  {
   "cell_type": "code",
   "execution_count": null,
   "metadata": {
    "pycharm": {
     "is_executing": true
    }
   },
   "outputs": [],
   "source": [
    "simulationOutputDataVisualisation.create_tabular_overview_per_minute_slider(table_dict, minute_interval)"
   ]
  },
  {
   "cell_type": "code",
   "execution_count": null,
   "metadata": {
    "pycharm": {
     "is_executing": true
    }
   },
   "outputs": [],
   "source": [
    "import figureGeneration\n",
    "\n",
    "figureGeneration.create_charging_power_figure(simulation_day, solarpeakleistung, bev_data, minute_interval)"
   ]
  },
  {
   "cell_type": "code",
   "execution_count": null,
   "metadata": {
    "pycharm": {
     "is_executing": true
    }
   },
   "outputs": [],
   "source": [
    "figureGeneration.create_bev_number_figure(simulation_data)"
   ]
  }
 ],
 "metadata": {
  "kernelspec": {
   "display_name": "Python 3 (ipykernel)",
   "language": "python",
   "name": "python3"
  },
  "language_info": {
   "codemirror_mode": {
    "name": "ipython",
    "version": 3
   },
   "file_extension": ".py",
   "mimetype": "text/x-python",
   "name": "python",
   "nbconvert_exporter": "python",
   "pygments_lexer": "ipython3",
   "version": "3.9.5"
  }
 },
 "nbformat": 4,
 "nbformat_minor": 4
}