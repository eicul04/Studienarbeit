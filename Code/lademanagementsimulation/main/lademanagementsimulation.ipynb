{
 "cells": [
  {
   "cell_type": "markdown",
   "metadata": {
    "pycharm": {
     "name": "#%% md\n"
    }
   },
   "source": [
    "# Lademanagementsimulation   \n"
   ]
  },
  {
   "cell_type": "markdown",
   "metadata": {},
   "source": [
    "### Simulations Parameter"
   ]
  },
  {
   "cell_type": "code",
   "execution_count": 1,
   "metadata": {
    "pycharm": {
     "name": "#%%\n"
    }
   },
   "outputs": [],
   "source": [
    "solarpeakleistung = 125 #Einheit Kilowattpeak (kWP)\n",
    "anzahl_bevs_pro_tag = 50\n",
    "ladeleistung_pro_bev = 11 #Einheit kW\n",
    "maximale_ladezeit = 30 #Einheit Minuten\n",
    "minute_interval = 15 #Einheit Minuten"
   ]
  },
  {
   "cell_type": "markdown",
   "metadata": {},
   "source": [
    "### Simulations Eingangsdaten"
   ]
  },
  {
   "cell_type": "code",
   "execution_count": 2,
   "metadata": {
    "pycharm": {
     "is_executing": true,
     "name": "#%%\n"
    }
   },
   "outputs": [
    {
     "data": {
      "text/html": [
       "\n",
       "        <iframe\n",
       "            width=\"100%\"\n",
       "            height=\"650\"\n",
       "            src=\"http://127.0.0.1:8050/\"\n",
       "            frameborder=\"0\"\n",
       "            allowfullscreen\n",
       "            \n",
       "        ></iframe>\n",
       "        "
      ],
      "text/plain": [
       "<IPython.lib.display.IFrame at 0x2e12d278070>"
      ]
     },
     "metadata": {},
     "output_type": "display_data"
    }
   ],
   "source": [
    "import simulationInputDataVisualisation\n",
    "simulationInputDataVisualisation.create_jupyter_dash_app(solarpeakleistung)"
   ]
  },
  {
   "cell_type": "markdown",
   "metadata": {},
   "source": [
    "### Verteilungsalgorithmus"
   ]
  },
  {
   "cell_type": "code",
   "execution_count": 3,
   "metadata": {
    "pycharm": {
     "is_executing": true
    }
   },
   "outputs": [
    {
     "name": "stdout",
     "output_type": "stream",
     "text": [
      "START POST OPTIMIZATION\n",
      "[960, 945, 930, 915, 900, 885, 870, 855, 840, 825, 810, 795, 780, 765, 750, 735, 720, 705, 690, 675, 660, 645, 630, 615, 600, 585, 570, 555, 540, 525, 510, 495, 480]\n",
      "\n",
      "\n",
      "OPTIMIZATION DONE\n",
      "BEVs dict:  {0: [(13.0, 3.0), 'wartend', [(940.8562197092084, 19.143780290791597, 0)], [2.9575]], 1: [(8.0, 3.1), 'nicht parkend', [], [3.4724999999999993]], 2: [(8.5, 3.5), 'nicht parkend', [(525, 195, 0)], [4.5424999999999995]], 3: [(8.5, 5.5), 'wartend', [(769.8274738244756, 14.656480900697716, 0)], [7.4224999999999985]], 4: [(8.5, 7.5), 'wartend', [(877.8333333333334, 67.16666666666663, 0)], [9.184999999999999]], 5: [(9.0, 7.0), 'wartend', [(862.3528858863269, 78.50333382288147, 0)], [8.899999999999999]], 6: [(13.0, 3.0), 'wartend', [(866.1409090909091, 18.859090909090924, 0)], [2.9575]], 7: [(8.5, 5.3), 'nicht parkend', [], [7.4224999999999985]], 8: [(13.0, 3.0), 'wartend', [(860.2772727272727, 17.55606060606067, 0)], [2.9575]], 9: [(8.5, 5.7), 'nicht parkend', [], [7.769999999999999]], 10: [(13.5, 2.5), 'wartend', [(850.2832111345843, 12.069674751742582, 0)], [2.3699999999999997]], 11: [(13.5, 2.5), 'wartend', [(853.4884615384615, 12.652447552447597, 0)], [2.3699999999999997]], 12: [(13.0, 3.0), 'wartend', [(845.8153846153846, 14.461888111888129, 0)], [2.9575]], 13: [(8.5, 6.4), 'nicht parkend', [], [8.5575]], 14: [(8.5, 4.3), 'nicht parkend', [], [6.227499999999999]], 15: [(8.5, 3.7), 'nicht parkend', [], [5.012499999999999]], 16: [(9.5, 6.5), 'wartend', [(802.3669368928137, 47.91627424177068, 0)], [8.477500000000001]], 17: [(9.0, 6.2), 'nicht parkend', [], [8.454999999999998]], 18: [(9.0, 3.4), 'nicht parkend', [], [5.187499999999999]], 19: [(8.0, 5.9), 'nicht parkend', [], [7.624999999999999]], 20: [(8.5, 6.9), 'nicht parkend', [], [8.904999999999998]], 21: [(8.0, 4.5), 'wartend', [(742.8884711779449, 7.1115288220551065, 0)], [5.674999999999999]], 22: [(8.5, 4.8), 'nicht parkend', [], [6.814999999999999]], 23: [(8.0, 5.8), 'nicht parkend', [], [7.624999999999999]], 24: [(13.0, 3.0), 'wartend', [(839.8472727272726, 13.64118881118884, 0)], [2.9575]], 25: [(9.0, 3.0), 'wartend', [(705.9075027583671, 14.092497241632941, 0)], [4.257499999999999]], 26: [(13.5, 2.5), 'wartend', [(835.1563636363636, 10.659020979020966, 0)], [2.3699999999999997]], 27: [(8.5, 6.2), 'nicht parkend', [], [8.347499999999998]], 28: [(8.0, 4.2), 'nicht parkend', [], [5.214999999999999]], 29: [(8.5, 3.2), 'nicht parkend', [], [4.09]], 30: [(8.5, 5.1), 'nicht parkend', [], [7.099999999999999]], 31: [(8.5, 3.5), 'wartend', [(709.6616403089371, 10.33835969106292, 0)], [4.5424999999999995]], 32: [(8.5, 7.1), 'nicht parkend', [], [9.052499999999998]], 33: [(12.5, 3.1), 'nicht parkend', [], [3.58]], 34: [(13.5, 2.5), 'nicht parkend', [(825.0, 14.847272727272639, 0)], [2.3699999999999997]], 35: [(8.0, 4.9), 'nicht parkend', [], [6.43]], 36: [(8.0, 3.6), 'nicht parkend', [], [4.2924999999999995]], 37: [(13.0, 3.0), 'wartend', [(822.1471698113207, 13.009193825042871, 0)], [2.9575]], 38: [(12.5, 3.5), 'wartend', [(805.1529411764706, 16.994228634850174, 0)], [3.7125]], 39: [(13.5, 2.5), 'nicht parkend', [], [2.3699999999999997]], 40: [(9.0, 5.1), 'nicht parkend', [], [7.4849999999999985]], 41: [(9.0, 4.4), 'nicht parkend', [], [6.5299999999999985]], 42: [(8.0, 4.8), 'nicht parkend', [], [6.43]], 43: [(8.5, 5.2), 'nicht parkend', [], [7.099999999999999]], 44: [(12.0, 4.0), 'wartend', [(787.8734693877551, 22.126530612244892, 0)], [4.6425]], 45: [(12.5, 3.5), 'wartend', [(784.4839547251734, 17.882982167640307, 0)], [3.7125]], 46: [(9.0, 4.7), 'nicht parkend', [], [6.814999999999999]], 47: [(13.0, 3.0), 'wartend', [(791.0816326530612, 14.071308523409357, 0)], [2.9575]], 48: [(9.0, 5.9), 'nicht parkend', [], [8.272499999999999]], 49: [(13.0, 3.0), 'nicht parkend', [], [2.9575]]}\n",
      "\n",
      "\n",
      "Minute:  480\n",
      "Charging BEVs after updating post optimization plan:  []\n",
      "Waiting BEVs:  []\n",
      "Charging BEVs (nachdem neue Plätze belegt):  [1]\n",
      "AVAILABLE SOLAR POWER:  0.62\n",
      "Restladeenergie bis zur fairen Ladeenergie for BEV mit ID 1:  3.4724999999999993\n",
      "Restladezeit:  336.04838709677415\n",
      "Charging BEVs:  [1]\n",
      "\n",
      "\n",
      "Minute:  495\n",
      "Charging BEVs after updating post optimization plan:  [1]\n",
      "Waiting BEVs:  [19, 23, 28, 35, 36, 42]\n",
      "Charging BEVs (nachdem neue Plätze belegt):  [1]\n",
      "AVAILABLE SOLAR POWER:  5.87\n",
      "Restladeenergie bis zur fairen Ladeenergie for BEV mit ID 1:  3.3174999999999994\n",
      "Restladezeit:  33.90971039182282\n",
      "Charging BEVs:  [1]\n",
      "\n",
      "\n",
      "Minute:  510\n",
      "Charging BEVs after updating post optimization plan:  [1]\n",
      "Waiting BEVs:  [19, 23, 28, 35, 36, 42]\n",
      "Charging BEVs (nachdem neue Plätze belegt):  [1, 19]\n",
      "AVAILABLE SOLAR POWER:  11.12\n",
      "Restladeenergie bis zur fairen Ladeenergie for BEV mit ID 1:  1.8499999999999992\n",
      "Restladezeit:  19.96402877697841\n",
      "AVAILABLE SOLAR POWER:  11.12\n",
      "Restladeenergie bis zur fairen Ladeenergie for BEV mit ID 19:  7.624999999999999\n",
      "Restladezeit:  82.2841726618705\n",
      "Charging BEVs:  [1, 19]\n",
      "\n",
      "\n",
      "Minute:  525\n",
      "Charging BEVs after updating post optimization plan:  [1, 19, 2]\n",
      "Waiting BEVs:  [23, 28, 35, 36, 42, 7, 9, 13, 14, 15, 20, 22, 27, 29, 30, 32, 43]\n",
      "Charging BEVs (nachdem neue Plätze belegt):  [1, 19, 2]\n",
      "AVAILABLE SOLAR POWER:  16.38\n",
      "Restladeenergie bis zur fairen Ladeenergie for BEV mit ID 1:  0.4599999999999991\n",
      "Restladezeit:  5.054945054945044\n",
      "Die Restladezeit des BEVS 1 endet vor dem nächsten Interval\n",
      "Ausgewähltes BEV das frei gewordenen Platz belegen darf:  23\n",
      "Ladestart für ausgewähltes BEV:  530.054945054945\n",
      "5.46 CHARGING POWER WIRD FÜR NEUES BEV 23 GESPEICHERT: \n",
      "ZEITPUNKT FÜR DAS ES GESPEICHERT WIRD:  530.054945054945\n",
      "AVAILABLE SOLAR POWER:  16.38\n",
      "Restladeenergie bis zur fairen Ladeenergie for BEV mit ID 19:  6.234999999999999\n",
      "Restladezeit:  68.51648351648352\n",
      "AVAILABLE SOLAR POWER:  16.38\n",
      "Restladeenergie bis zur fairen Ladeenergie for BEV mit ID 2:  3.1525\n",
      "Restladezeit:  34.64285714285714\n",
      "Charging BEVs:  [1, 19, 2]\n",
      "\n",
      "\n",
      "Minute:  540\n",
      "Charging BEVs after updating post optimization plan:  [19, 2, 23]\n",
      "Waiting BEVs:  [28, 35, 36, 42, 7, 9, 13, 14, 15, 20, 22, 27, 29, 30, 32, 43]\n",
      "Charging BEVs (nachdem neue Plätze belegt):  [19, 2, 23]\n",
      "AVAILABLE SOLAR POWER:  23.0\n",
      "Restladeenergie bis zur fairen Ladeenergie for BEV mit ID 19:  4.869999999999999\n",
      "Restladezeit:  38.11304347826086\n",
      "AVAILABLE SOLAR POWER:  23.0\n",
      "Restladeenergie bis zur fairen Ladeenergie for BEV mit ID 2:  1.7874999999999996\n",
      "Restladezeit:  13.989130434782606\n",
      "Die Restladezeit des BEVS 2 endet vor dem nächsten Interval\n",
      "Ausgewähltes BEV das frei gewordenen Platz belegen darf:  28\n",
      "Ladestart für ausgewähltes BEV:  553.9891304347826\n",
      "7.666666666666667 CHARGING POWER WIRD FÜR NEUES BEV 28 GESPEICHERT: \n",
      "ZEITPUNKT FÜR DAS ES GESPEICHERT WIRD:  553.9891304347826\n",
      "AVAILABLE SOLAR POWER:  23.0\n",
      "Restladeenergie bis zur fairen Ladeenergie for BEV mit ID 23:  6.719999999999999\n",
      "Restladezeit:  52.591304347826075\n",
      "Charging BEVs:  [19, 2, 23]\n",
      "\n",
      "\n",
      "Minute:  555\n",
      "Charging BEVs after updating post optimization plan:  [19, 23, 28]\n",
      "Waiting BEVs:  [35, 36, 42, 7, 9, 13, 14, 15, 20, 22, 27, 29, 30, 32, 43, 17, 18, 40, 41, 46, 48]\n",
      "Charging BEVs (nachdem neue Plätze belegt):  [19, 23, 28]\n",
      "AVAILABLE SOLAR POWER:  31.0\n",
      "Restladeenergie bis zur fairen Ladeenergie for BEV mit ID 19:  2.9533333333333323\n",
      "Restladezeit:  17.148387096774186\n",
      "AVAILABLE SOLAR POWER:  31.0\n",
      "Restladeenergie bis zur fairen Ladeenergie for BEV mit ID 23:  5.449242979242978\n",
      "Restladezeit:  31.64076568592697\n",
      "AVAILABLE SOLAR POWER:  31.0\n",
      "Restladeenergie bis zur fairen Ladeenergie for BEV mit ID 28:  5.085833333333334\n",
      "Restladezeit:  29.530645161290327\n",
      "Charging BEVs:  [19, 23, 28]\n",
      "\n",
      "\n",
      "Minute:  570\n",
      "Charging BEVs after updating post optimization plan:  [19, 23, 28]\n",
      "Waiting BEVs:  [35, 36, 42, 7, 9, 13, 14, 15, 20, 22, 27, 29, 30, 32, 43, 17, 18, 40, 41, 46, 48]\n",
      "Charging BEVs (nachdem neue Plätze belegt):  [19, 23, 28, 35]\n",
      "AVAILABLE SOLAR POWER:  39.0\n",
      "Restladeenergie bis zur fairen Ladeenergie for BEV mit ID 19:  0.36999999999999833\n",
      "Restladezeit:  2.2769230769230666\n",
      "Die Restladezeit des BEVS 19 endet vor dem nächsten Interval\n",
      "Ausgewähltes BEV das frei gewordenen Platz belegen darf:  36\n",
      "Ladestart für ausgewähltes BEV:  572.276923076923\n",
      "9.75 CHARGING POWER WIRD FÜR NEUES BEV 36 GESPEICHERT: \n",
      "ZEITPUNKT FÜR DAS ES GESPEICHERT WIRD:  572.276923076923\n",
      "AVAILABLE SOLAR POWER:  39.0\n",
      "Restladeenergie bis zur fairen Ladeenergie for BEV mit ID 23:  3.7364835164835144\n",
      "Restladezeit:  22.993744716821627\n",
      "AVAILABLE SOLAR POWER:  39.0\n",
      "Restladeenergie bis zur fairen Ladeenergie for BEV mit ID 28:  4.911739130434786\n",
      "Restladezeit:  30.226086956521765\n",
      "AVAILABLE SOLAR POWER:  39.0\n",
      "Restladeenergie bis zur fairen Ladeenergie for BEV mit ID 35:  6.43\n",
      "Restladezeit:  39.56923076923077\n",
      "Charging BEVs:  [19, 23, 28, 35]\n",
      "\n",
      "\n",
      "Minute:  585\n",
      "Charging BEVs after updating post optimization plan:  [23, 28, 35, 36]\n",
      "Waiting BEVs:  [42, 7, 9, 13, 14, 15, 20, 22, 27, 29, 30, 32, 43, 17, 18, 40, 41, 46, 48]\n",
      "Charging BEVs (nachdem neue Plätze belegt):  [23, 28, 35, 36, 42]\n",
      "AVAILABLE SOLAR POWER:  47.0\n",
      "Restladeenergie bis zur fairen Ladeenergie for BEV mit ID 23:  2.1204120879120856\n",
      "Restladezeit:  13.534545241992037\n",
      "Die Restladezeit des BEVS 23 endet vor dem nächsten Interval\n",
      "Ausgewähltes BEV das frei gewordenen Platz belegen darf:  7\n",
      "Ladestart für ausgewähltes BEV:  598.5345452419921\n",
      "9.4 CHARGING POWER WIRD FÜR NEUES BEV 7 GESPEICHERT: \n",
      "ZEITPUNKT FÜR DAS ES GESPEICHERT WIRD:  598.5345452419921\n",
      "AVAILABLE SOLAR POWER:  47.0\n",
      "Restladeenergie bis zur fairen Ladeenergie for BEV mit ID 28:  4.7474728260869625\n",
      "Restladezeit:  30.30301803885295\n",
      "AVAILABLE SOLAR POWER:  47.0\n",
      "Restladeenergie bis zur fairen Ladeenergie for BEV mit ID 35:  3.9924999999999997\n",
      "Restladezeit:  25.484042553191486\n",
      "AVAILABLE SOLAR POWER:  47.0\n",
      "Restladeenergie bis zur fairen Ladeenergie for BEV mit ID 36:  2.224999999999991\n",
      "Restladezeit:  14.202127659574412\n",
      "Die Restladezeit des BEVS 36 endet vor dem nächsten Interval\n",
      "AVAILABLE SOLAR POWER:  47.0\n",
      "Restladeenergie bis zur fairen Ladeenergie for BEV mit ID 42:  6.43\n",
      "Restladezeit:  41.04255319148936\n"
     ]
    },
    {
     "name": "stdout",
     "output_type": "stream",
     "text": [
      "Charging BEVs:  [23, 28, 35, 36, 42]\n",
      "\n",
      "\n",
      "Minute:  600\n",
      "Charging BEVs after updating post optimization plan:  [28, 35, 42, 7]\n",
      "Waiting BEVs:  [9, 13, 14, 15, 20, 22, 27, 29, 30, 32, 43, 17, 18, 40, 41, 46, 48]\n",
      "Charging BEVs (nachdem neue Plätze belegt):  [28, 35, 42, 7, 9]\n",
      "AVAILABLE SOLAR POWER:  50.88\n",
      "Restladeenergie bis zur fairen Ladeenergie for BEV mit ID 28:  4.589103260869574\n",
      "Restladezeit:  27.05839186833475\n",
      "AVAILABLE SOLAR POWER:  50.88\n",
      "Restladeenergie bis zur fairen Ladeenergie for BEV mit ID 35:  1.6425\n",
      "Restladezeit:  9.684551886792454\n",
      "Die Restladezeit des BEVS 35 endet vor dem nächsten Interval\n",
      "Ausgewähltes BEV das frei gewordenen Platz belegen darf:  13\n",
      "Ladestart für ausgewähltes BEV:  609.6845518867924\n",
      "10.176 CHARGING POWER WIRD FÜR NEUES BEV 13 GESPEICHERT: \n",
      "ZEITPUNKT FÜR DAS ES GESPEICHERT WIRD:  609.6845518867924\n",
      "AVAILABLE SOLAR POWER:  50.88\n",
      "Restladeenergie bis zur fairen Ladeenergie for BEV mit ID 42:  4.08\n",
      "Restladezeit:  24.056603773584907\n",
      "AVAILABLE SOLAR POWER:  50.88\n",
      "Restladeenergie bis zur fairen Ladeenergie for BEV mit ID 7:  7.192912087912091\n",
      "Restladezeit:  42.411038254198644\n",
      "AVAILABLE SOLAR POWER:  50.88\n",
      "Restladeenergie bis zur fairen Ladeenergie for BEV mit ID 9:  7.769999999999999\n",
      "Restladezeit:  45.81367924528301\n",
      "Charging BEVs:  [28, 35, 42, 7, 9]\n",
      "\n",
      "\n",
      "Minute:  615\n",
      "Charging BEVs after updating post optimization plan:  [28, 42, 7, 9, 13]\n",
      "Waiting BEVs:  [14, 15, 20, 22, 27, 29, 30, 32, 43, 17, 18, 40, 41, 46, 48]\n",
      "Charging BEVs (nachdem neue Plätze belegt):  [28, 42, 7, 9, 13]\n",
      "AVAILABLE SOLAR POWER:  50.62\n",
      "Restladeenergie bis zur fairen Ladeenergie for BEV mit ID 28:  4.417659782608706\n",
      "Restladezeit:  26.18131044612035\n",
      "AVAILABLE SOLAR POWER:  50.62\n",
      "Restladeenergie bis zur fairen Ladeenergie for BEV mit ID 42:  1.5359999999999996\n",
      "Restladezeit:  9.103121295930462\n",
      "Die Restladezeit des BEVS 42 endet vor dem nächsten Interval\n",
      "Ausgewähltes BEV das frei gewordenen Platz belegen darf:  14\n",
      "Ladestart für ausgewähltes BEV:  624.1031212959305\n",
      "10.123999999999999 CHARGING POWER WIRD FÜR NEUES BEV 14 GESPEICHERT: \n",
      "ZEITPUNKT FÜR DAS ES GESPEICHERT WIRD:  624.1031212959305\n",
      "AVAILABLE SOLAR POWER:  50.62\n",
      "Restladeenergie bis zur fairen Ladeenergie for BEV mit ID 7:  6.944370960953947\n",
      "Restladezeit:  41.15589269628969\n",
      "AVAILABLE SOLAR POWER:  50.62\n",
      "Restladeenergie bis zur fairen Ladeenergie for BEV mit ID 9:  5.225999999999999\n",
      "Restladezeit:  30.971947846700907\n",
      "AVAILABLE SOLAR POWER:  50.62\n",
      "Restladeenergie bis zur fairen Ladeenergie for BEV mit ID 13:  7.655999999999992\n",
      "Restladezeit:  45.373370209403355\n",
      "Charging BEVs:  [28, 42, 7, 9, 13]\n",
      "\n",
      "\n",
      "Minute:  630\n",
      "Charging BEVs after updating post optimization plan:  [28, 7, 9, 13, 14]\n",
      "Waiting BEVs:  [15, 20, 22, 27, 29, 30, 32, 43, 17, 18, 40, 41, 46, 48]\n",
      "Charging BEVs (nachdem neue Plätze belegt):  [28, 7, 9, 13, 14]\n",
      "AVAILABLE SOLAR POWER:  50.38\n",
      "Restladeenergie bis zur fairen Ladeenergie for BEV mit ID 28:  4.247092391304361\n",
      "Restladezeit:  25.290347705266143\n",
      "AVAILABLE SOLAR POWER:  50.38\n",
      "Restladeenergie bis zur fairen Ladeenergie for BEV mit ID 7:  6.697099894786077\n",
      "Restladezeit:  39.87951505430375\n",
      "AVAILABLE SOLAR POWER:  50.38\n",
      "Restladeenergie bis zur fairen Ladeenergie for BEV mit ID 9:  2.6949999999999994\n",
      "Restladezeit:  16.048034934497814\n",
      "AVAILABLE SOLAR POWER:  50.38\n",
      "Restladeenergie bis zur fairen Ladeenergie for BEV mit ID 13:  6.759106721698097\n",
      "Restladezeit:  40.24874983146941\n",
      "AVAILABLE SOLAR POWER:  50.38\n",
      "Restladeenergie bis zur fairen Ladeenergie for BEV mit ID 14:  5.2325\n",
      "Restladezeit:  31.158197697499006\n",
      "Charging BEVs:  [28, 7, 9, 13, 14]\n",
      "\n",
      "\n",
      "Minute:  645\n",
      "Charging BEVs after updating post optimization plan:  [28, 7, 9, 13, 14]\n",
      "Waiting BEVs:  [15, 20, 22, 27, 29, 30, 32, 43, 17, 18, 40, 41, 46, 48]\n",
      "Charging BEVs (nachdem neue Plätze belegt):  [28, 7, 9, 13, 14]\n",
      "AVAILABLE SOLAR POWER:  50.12\n",
      "Restladeenergie bis zur fairen Ladeenergie for BEV mit ID 28:  4.0773336956521895\n",
      "Restladezeit:  24.405429143967616\n",
      "AVAILABLE SOLAR POWER:  50.12\n",
      "Restladeenergie bis zur fairen Ladeenergie for BEV mit ID 7:  6.451001192424613\n",
      "Restladezeit:  38.61333515018723\n",
      "AVAILABLE SOLAR POWER:  50.12\n",
      "Restladeenergie bis zur fairen Ladeenergie for BEV mit ID 9:  0.17599999999999927\n",
      "Restladezeit:  1.0534716679968033\n",
      "Die Restladezeit des BEVS 9 endet vor dem nächsten Interval\n",
      "Ausgewähltes BEV das frei gewordenen Platz belegen darf:  15\n",
      "Ladestart für ausgewähltes BEV:  646.0534716679969\n",
      "10.024 CHARGING POWER WIRD FÜR NEUES BEV 15 GESPEICHERT: \n",
      "ZEITPUNKT FÜR DAS ES GESPEICHERT WIRD:  646.0534716679969\n",
      "AVAILABLE SOLAR POWER:  50.12\n",
      "Restladeenergie bis zur fairen Ladeenergie for BEV mit ID 13:  5.866465801886768\n",
      "Restladezeit:  35.11451996340843\n",
      "AVAILABLE SOLAR POWER:  50.12\n",
      "Restladeenergie bis zur fairen Ladeenergie for BEV mit ID 14:  4.242217502963255\n",
      "Restladezeit:  25.392363345749736\n",
      "Charging BEVs:  [28, 7, 9, 13, 14]\n",
      "\n",
      "\n",
      "Minute:  660\n",
      "Charging BEVs after updating post optimization plan:  [28, 7, 13, 14, 15]\n",
      "Waiting BEVs:  [20, 22, 27, 29, 30, 32, 43, 17, 18, 40, 41, 46, 48]\n",
      "Charging BEVs (nachdem neue Plätze belegt):  [28, 7, 13, 14, 15]\n",
      "AVAILABLE SOLAR POWER:  50.62\n",
      "Restladeenergie bis zur fairen Ladeenergie for BEV mit ID 28:  3.90845108695654\n",
      "Restladezeit:  23.163479377458756\n",
      "AVAILABLE SOLAR POWER:  50.62\n",
      "Restladeenergie bis zur fairen Ladeenergie for BEV mit ID 7:  6.206172550853423\n",
      "Restladezeit:  36.78095150644068\n",
      "AVAILABLE SOLAR POWER:  50.62\n",
      "Restladeenergie bis zur fairen Ladeenergie for BEV mit ID 13:  4.9784316037735525\n",
      "Restladezeit:  29.504730958752784\n",
      "AVAILABLE SOLAR POWER:  50.62\n",
      "Restladeenergie bis zur fairen Ladeenergie for BEV mit ID 14:  3.2570456341367047\n",
      "Restladezeit:  19.302917626254672\n",
      "AVAILABLE SOLAR POWER:  50.62\n",
      "Restladeenergie bis zur fairen Ladeenergie for BEV mit ID 15:  2.682500000000008\n",
      "Restladezeit:  15.897866455946316\n",
      "Charging BEVs:  [28, 7, 13, 14, 15]\n",
      "\n",
      "\n",
      "Minute:  675\n",
      "Charging BEVs after updating post optimization plan:  [28, 7, 13, 14, 15]\n",
      "Waiting BEVs:  [20, 22, 27, 29, 30, 32, 43, 17, 18, 40, 41, 46, 48]\n",
      "Charging BEVs (nachdem neue Plätze belegt):  [28, 7, 13, 14, 15]\n",
      "AVAILABLE SOLAR POWER:  51.88\n",
      "Restladeenergie bis zur fairen Ladeenergie for BEV mit ID 28:  3.7378836956521946\n",
      "Restladezeit:  21.61459345982379\n",
      "AVAILABLE SOLAR POWER:  51.88\n",
      "Restladeenergie bis zur fairen Ladeenergie for BEV mit ID 7:  5.958901484685553\n",
      "Restladezeit:  34.457795786539435\n",
      "AVAILABLE SOLAR POWER:  51.88\n",
      "Restladeenergie bis zur fairen Ladeenergie for BEV mit ID 13:  4.081538325471658\n",
      "Restladezeit:  23.601802190468334\n",
      "AVAILABLE SOLAR POWER:  51.88\n",
      "Restladeenergie bis zur fairen Ladeenergie for BEV mit ID 14:  2.262045634136705\n",
      "Restladezeit:  13.080448925231524\n",
      "Die Restladezeit des BEVS 14 endet vor dem nächsten Interval\n",
      "Ausgewähltes BEV das frei gewordenen Platz belegen darf:  20\n",
      "Ladestart für ausgewähltes BEV:  688.0804489252315\n",
      "10.376000000000001 CHARGING POWER WIRD FÜR NEUES BEV 20 GESPEICHERT: \n",
      "ZEITPUNKT FÜR DAS ES GESPEICHERT WIRD:  688.0804489252315\n",
      "AVAILABLE SOLAR POWER:  51.88\n",
      "Restladeenergie bis zur fairen Ladeenergie for BEV mit ID 15:  0.32925578611334494\n",
      "Restladezeit:  1.9039463345027654\n",
      "Die Restladezeit des BEVS 15 endet vor dem nächsten Interval\n",
      "Charging BEVs:  [28, 7, 13, 14, 15]\n",
      "\n",
      "\n",
      "Minute:  690\n",
      "Charging BEVs after updating post optimization plan:  [28, 7, 13, 20]\n",
      "Waiting BEVs:  [22, 27, 29, 30, 32, 43, 17, 18, 40, 41, 46, 48]\n",
      "Charging BEVs (nachdem neue Plätze belegt):  [28, 7, 13, 20, 22]\n",
      "AVAILABLE SOLAR POWER:  53.12\n",
      "Restladeenergie bis zur fairen Ladeenergie for BEV mit ID 28:  3.5630706521739364\n",
      "Restladezeit:  20.122763472367865\n",
      "AVAILABLE SOLAR POWER:  53.12\n",
      "Restladeenergie bis zur fairen Ladeenergie for BEV mit ID 7:  5.705475508534049\n",
      "Restladezeit:  32.22218848946188\n",
      "AVAILABLE SOLAR POWER:  53.12\n",
      "Restladeenergie bis zur fairen Ladeenergie for BEV mit ID 13:  3.1623201650942914\n",
      "Restladezeit:  17.85948888419216\n",
      "AVAILABLE SOLAR POWER:  53.12\n",
      "Restladeenergie bis zur fairen Ladeenergie for BEV mit ID 20:  8.5730456341367\n",
      "Restladezeit:  48.41704989158528\n",
      "AVAILABLE SOLAR POWER:  53.12\n",
      "Restladeenergie bis zur fairen Ladeenergie for BEV mit ID 22:  6.814999999999999\n",
      "Restladezeit:  38.48832831325301\n",
      "Charging BEVs:  [28, 7, 13, 20, 22]\n",
      "\n",
      "\n",
      "Minute:  705\n",
      "Charging BEVs after updating post optimization plan:  [28, 7, 13, 20, 22]\n",
      "Waiting BEVs:  [27, 29, 30, 32, 43, 17, 18, 40, 41, 46, 48]\n"
     ]
    },
    {
     "name": "stdout",
     "output_type": "stream",
     "text": [
      "Charging BEVs (nachdem neue Plätze belegt):  [28, 7, 13, 20, 22]\n",
      "AVAILABLE SOLAR POWER:  54.38\n",
      "Restladeenergie bis zur fairen Ladeenergie for BEV mit ID 28:  3.3840793478261126\n",
      "Restladezeit:  18.669065912979658\n",
      "AVAILABLE SOLAR POWER:  54.38\n",
      "Restladeenergie bis zur fairen Ladeenergie for BEV mit ID 7:  5.44599231938278\n",
      "Restladezeit:  30.044091500824454\n",
      "AVAILABLE SOLAR POWER:  54.38\n",
      "Restladeenergie bis zur fairen Ladeenergie for BEV mit ID 13:  2.221131485849\n",
      "Restladezeit:  12.253391793944463\n",
      "Die Restladezeit des BEVS 13 endet vor dem nächsten Interval\n",
      "AVAILABLE SOLAR POWER:  54.38\n",
      "Restladeenergie bis zur fairen Ladeenergie for BEV mit ID 20:  8.233157123831026\n",
      "Restladezeit:  45.420138601495175\n",
      "AVAILABLE SOLAR POWER:  54.38\n",
      "Restladeenergie bis zur fairen Ladeenergie for BEV mit ID 22:  4.158999999999999\n",
      "Restladezeit:  22.944097094520036\n",
      "Charging BEVs:  [28, 7, 13, 20, 22]\n",
      "\n",
      "\n",
      "Minute:  720\n",
      "Charging BEVs after updating post optimization plan:  [28, 7, 20, 22]\n",
      "Waiting BEVs:  [27, 30, 32, 43, 17, 18, 40, 41, 46, 48]\n",
      "Charging BEVs (nachdem neue Plätze belegt):  [28, 7, 20, 22, 27]\n",
      "AVAILABLE SOLAR POWER:  52.62\n",
      "Restladeenergie bis zur fairen Ladeenergie for BEV mit ID 28:  3.200842391304376\n",
      "Restladezeit:  18.248816370036355\n",
      "Die Restparkzeit von BEV  28 endet vor dem nächsten Intervall\n",
      "Ausgewähltes BEV das frei gewordenen Platz belegen darf:  30\n",
      "Ladestart für ausgewähltes BEV:  732\n",
      "10.524 CHARGING POWER WIRD FÜR NEUES BEV 30 GESPEICHERT: \n",
      "ZEITPUNKT FÜR DAS ES GESPEICHERT WIRD:  732\n",
      "AVAILABLE SOLAR POWER:  52.62\n",
      "Restladeenergie bis zur fairen Ladeenergie for BEV mit ID 7:  5.180354220247877\n",
      "Restladezeit:  29.534516649075698\n",
      "AVAILABLE SOLAR POWER:  52.62\n",
      "Restladeenergie bis zur fairen Ladeenergie for BEV mit ID 20:  7.885206499011323\n",
      "Restladezeit:  44.95556726916376\n",
      "AVAILABLE SOLAR POWER:  52.62\n",
      "Restladeenergie bis zur fairen Ladeenergie for BEV mit ID 22:  1.4399999999999986\n",
      "Restladezeit:  8.209806157354611\n",
      "Die Restladezeit des BEVS 22 endet vor dem nächsten Interval\n",
      "AVAILABLE SOLAR POWER:  52.62\n",
      "Restladeenergie bis zur fairen Ladeenergie for BEV mit ID 27:  8.347499999999998\n",
      "Restladezeit:  47.59122006841505\n",
      "Charging BEVs:  [28, 7, 20, 22, 27]\n",
      "\n",
      "\n",
      "Minute:  735\n",
      "Charging BEVs after updating post optimization plan:  [7, 20, 27, 30]\n",
      "Waiting BEVs:  [32, 43, 17, 18, 40, 41, 46, 48]\n",
      "Charging BEVs (nachdem neue Plätze belegt):  [7, 20, 27, 30]\n",
      "AVAILABLE SOLAR POWER:  47.88\n",
      "Restladeenergie bis zur fairen Ladeenergie for BEV mit ID 7:  4.923313455693288\n",
      "Restladezeit:  24.67826293580595\n",
      "AVAILABLE SOLAR POWER:  47.88\n",
      "Restladeenergie bis zur fairen Ladeenergie for BEV mit ID 20:  7.548517240496929\n",
      "Restladezeit:  37.83717915036055\n",
      "AVAILABLE SOLAR POWER:  47.88\n",
      "Restladeenergie bis zur fairen Ladeenergie for BEV mit ID 27:  5.716499999999998\n",
      "Restladezeit:  28.654135338345856\n",
      "AVAILABLE SOLAR POWER:  47.88\n",
      "Restladeenergie bis zur fairen Ladeenergie for BEV mit ID 30:  6.5737999999999985\n",
      "Restladezeit:  32.95137844611528\n",
      "Charging BEVs:  [7, 20, 27, 30]\n",
      "\n",
      "\n",
      "Minute:  750\n",
      "Charging BEVs after updating post optimization plan:  [7, 20, 27, 30]\n",
      "Waiting BEVs:  [32, 43, 17, 18, 40, 41, 46, 48]\n",
      "Charging BEVs (nachdem neue Plätze belegt):  [7, 20, 27, 30]\n",
      "AVAILABLE SOLAR POWER:  43.12\n",
      "Restladeenergie bis zur fairen Ladeenergie for BEV mit ID 7:  4.630955231470708\n",
      "Restladezeit:  25.77526102859392\n",
      "AVAILABLE SOLAR POWER:  43.12\n",
      "Restladeenergie bis zur fairen Ladeenergie for BEV mit ID 20:  7.165566801080615\n",
      "Restladezeit:  39.882561044975596\n",
      "AVAILABLE SOLAR POWER:  43.12\n",
      "Restladeenergie bis zur fairen Ladeenergie for BEV mit ID 27:  2.7239999999999984\n",
      "Restladezeit:  15.16141001855287\n",
      "AVAILABLE SOLAR POWER:  43.12\n",
      "Restladeenergie bis zur fairen Ladeenergie for BEV mit ID 30:  5.975299999999999\n",
      "Restladezeit:  33.25769944341373\n",
      "Charging BEVs:  [7, 20, 27, 30]\n",
      "\n",
      "\n",
      "Minute:  765\n",
      "Charging BEVs after updating post optimization plan:  [7, 20, 27, 30]\n",
      "Waiting BEVs:  [32, 43, 17, 40, 41, 46, 48, 33]\n",
      "Charging BEVs (nachdem neue Plätze belegt):  [7, 20, 27, 30]\n",
      "AVAILABLE SOLAR POWER:  38.38\n",
      "Restladeenergie bis zur fairen Ladeenergie for BEV mit ID 7:  4.367661859948617\n",
      "Restladezeit:  27.312111682847007\n",
      "AVAILABLE SOLAR POWER:  38.38\n",
      "Restladeenergie bis zur fairen Ladeenergie for BEV mit ID 20:  6.820687457980544\n",
      "Restladezeit:  42.6515109409935\n",
      "AVAILABLE SOLAR POWER:  38.38\n",
      "Restladeenergie bis zur fairen Ladeenergie for BEV mit ID 27:  0.02899999999999814\n",
      "Restladezeit:  0.18134445023448548\n",
      "Die Restladezeit des BEVS 27 endet vor dem nächsten Interval\n",
      "AVAILABLE SOLAR POWER:  38.38\n",
      "Restladeenergie bis zur fairen Ladeenergie for BEV mit ID 30:  5.436299999999999\n",
      "Restladezeit:  33.99458051068264\n",
      "Charging BEVs:  [7, 20, 27, 30]\n",
      "\n",
      "\n",
      "Minute:  780\n",
      "Die Restladezeit des BEVS 3 endet vor dem nächsten Interval\n",
      "Charging BEVs after updating post optimization plan:  [7, 20, 30]\n",
      "Waiting BEVs:  [32, 43, 17, 40, 41, 46, 48, 33]\n",
      "Charging BEVs (nachdem neue Plätze belegt):  [7, 20, 30]\n",
      "AVAILABLE SOLAR POWER:  36.75\n",
      "Restladeenergie bis zur fairen Ladeenergie for BEV mit ID 7:  4.133311219897184\n",
      "Restladezeit:  20.244789648476\n",
      "AVAILABLE SOLAR POWER:  36.75\n",
      "Restladeenergie bis zur fairen Ladeenergie for BEV mit ID 20:  6.513719248607149\n",
      "Restladezeit:  31.903931013586035\n",
      "AVAILABLE SOLAR POWER:  36.75\n",
      "Restladeenergie bis zur fairen Ladeenergie for BEV mit ID 30:  4.956549999999998\n",
      "Restladezeit:  24.276979591836724\n",
      "Charging BEVs:  [7, 20, 30]\n",
      "\n",
      "\n",
      "Minute:  795\n",
      "Die Restladezeit des BEVS 45 endet vor dem nächsten Interval\n",
      "Die Restladezeit des BEVS 47 endet vor dem nächsten Interval\n",
      "Charging BEVs after updating post optimization plan:  [7, 20, 30, 44]\n",
      "Waiting BEVs:  [32, 43, 17, 40, 41, 46, 48, 33, 49]\n",
      "Charging BEVs (nachdem neue Plätze belegt):  [7, 20, 30, 44]\n",
      "AVAILABLE SOLAR POWER:  38.25\n",
      "Restladeenergie bis zur fairen Ladeenergie for BEV mit ID 7:  3.8341142068038994\n",
      "Restladezeit:  24.057187179946034\n",
      "AVAILABLE SOLAR POWER:  38.25\n",
      "Restladeenergie bis zur fairen Ladeenergie for BEV mit ID 20:  6.121810904175248\n",
      "Restladezeit:  38.41136253600156\n",
      "AVAILABLE SOLAR POWER:  38.25\n",
      "Restladeenergie bis zur fairen Ladeenergie for BEV mit ID 30:  4.344049999999998\n",
      "Restladezeit:  27.256784313725483\n",
      "AVAILABLE SOLAR POWER:  38.25\n",
      "Restladeenergie bis zur fairen Ladeenergie for BEV mit ID 44:  3.1875000000000013\n",
      "Restladezeit:  20.000000000000007\n",
      "Charging BEVs:  [7, 20, 30, 44]\n",
      "\n",
      "\n",
      "Minute:  810\n",
      "Die Restladezeit des BEVS 38 endet vor dem nächsten Interval\n",
      "Charging BEVs after updating post optimization plan:  [7, 20, 30, 44, 16]\n",
      "Waiting BEVs:  [32, 43, 17, 40, 41, 46, 48, 33, 49]\n",
      "Charging BEVs (nachdem neue Plätze belegt):  [7, 20, 30, 44, 16]\n",
      "AVAILABLE SOLAR POWER:  39.75\n",
      "Restladeenergie bis zur fairen Ladeenergie for BEV mit ID 7:  3.6005573547463867\n",
      "Restladezeit:  27.174017771670844\n",
      "AVAILABLE SOLAR POWER:  39.75\n",
      "Restladeenergie bis zur fairen Ladeenergie for BEV mit ID 20:  5.81588245163402\n",
      "Restladezeit:  43.89345246516241\n",
      "AVAILABLE SOLAR POWER:  39.75\n",
      "Restladeenergie bis zur fairen Ladeenergie for BEV mit ID 30:  3.8659249999999985\n",
      "Restladezeit:  29.176792452830178\n",
      "Die Restparkzeit von BEV  30 endet vor dem nächsten Intervall\n",
      "AVAILABLE SOLAR POWER:  39.75\n",
      "Restladeenergie bis zur fairen Ladeenergie for BEV mit ID 44:  2.0517091836734718\n",
      "Restladezeit:  15.484597612629976\n",
      "AVAILABLE SOLAR POWER:  39.75\n",
      "Restladeenergie bis zur fairen Ladeenergie for BEV mit ID 16:  7.260980567292179\n",
      "Restladezeit:  54.799853338054184\n",
      "Charging BEVs:  [7, 20, 30, 44, 16]\n",
      "\n",
      "\n",
      "Minute:  825\n",
      "Die Restladezeit des BEVS 34 endet vor dem nächsten Interval\n",
      "Die Restladezeit des BEVS 37 endet vor dem nächsten Interval\n",
      "Charging BEVs after updating post optimization plan:  [7, 20, 44, 16]\n",
      "Waiting BEVs:  [32, 43, 17, 40, 46, 48, 33, 49, 39]\n",
      "Charging BEVs (nachdem neue Plätze belegt):  [7, 20, 44, 16]\n",
      "AVAILABLE SOLAR POWER:  41.25\n",
      "Restladeenergie bis zur fairen Ladeenergie for BEV mit ID 7:  3.4063845993103365\n",
      "Restladezeit:  19.81896494144196\n",
      "Die Restparkzeit von BEV  7 endet vor dem nächsten Intervall\n",
      "AVAILABLE SOLAR POWER:  41.25\n",
      "Restladeenergie bis zur fairen Ladeenergie for BEV mit ID 20:  5.561541934227195\n",
      "Restladezeit:  32.358062162776406\n",
      "AVAILABLE SOLAR POWER:  41.25\n",
      "Restladeenergie bis zur fairen Ladeenergie for BEV mit ID 44:  1.1074438775510238\n",
      "Restladezeit:  6.443309833024139\n",
      "Die Restladezeit des BEVS 44 endet vor dem nächsten Interval\n",
      "AVAILABLE SOLAR POWER:  41.25\n",
      "Restladeenergie bis zur fairen Ladeenergie for BEV mit ID 16:  6.249599705589991\n",
      "Restladezeit:  36.36130737797813\n",
      "Charging BEVs:  [7, 20, 44, 16]\n",
      "\n",
      "\n",
      "Minute:  840\n",
      "Die Restladezeit des BEVS 24 endet vor dem nächsten Interval\n",
      "Die Restladezeit des BEVS 26 endet vor dem nächsten Interval\n",
      "Charging BEVs after updating post optimization plan:  [20, 16]\n",
      "Waiting BEVs:  [32, 17, 40, 48, 33, 49, 39]\n",
      "Charging BEVs (nachdem neue Plätze belegt):  [20, 16]\n",
      "AVAILABLE SOLAR POWER:  39.0\n",
      "Restladeenergie bis zur fairen Ladeenergie for BEV mit ID 20:  5.231619093251361\n",
      "Restladezeit:  16.097289517696495\n",
      "AVAILABLE SOLAR POWER:  39.0\n",
      "Restladeenergie bis zur fairen Ladeenergie for BEV mit ID 16:  4.93766698404234\n",
      "Restladezeit:  15.192821489361048\n",
      "Charging BEVs:  [20, 16]\n",
      "\n",
      "\n",
      "Minute:  855\n",
      "Die Restladezeit des BEVS 10 endet vor dem nächsten Interval\n",
      "Die Restladezeit des BEVS 11 endet vor dem nächsten Interval\n",
      "Die Restladezeit des BEVS 12 endet vor dem nächsten Interval\n",
      "Charging BEVs after updating post optimization plan:  [20, 16]\n",
      "Waiting BEVs:  [32, 17, 40, 48, 33, 49, 39]\n"
     ]
    },
    {
     "name": "stdout",
     "output_type": "stream",
     "text": [
      "Charging BEVs (nachdem neue Plätze belegt):  [20, 16]\n",
      "AVAILABLE SOLAR POWER:  33.0\n",
      "Restladeenergie bis zur fairen Ladeenergie for BEV mit ID 20:  4.6077649939516006\n",
      "Restladezeit:  16.75550906891491\n",
      "AVAILABLE SOLAR POWER:  33.0\n",
      "Restladeenergie bis zur fairen Ladeenergie for BEV mit ID 16:  2.4569214742067826\n",
      "Restladezeit:  8.934259906206481\n",
      "Die Restladezeit des BEVS 16 endet vor dem nächsten Interval\n",
      "Charging BEVs:  [20, 16]\n",
      "\n",
      "\n",
      "Minute:  870\n",
      "Die Restladezeit des BEVS 8 endet vor dem nächsten Interval\n",
      "Charging BEVs after updating post optimization plan:  [20, 5, 6]\n",
      "Waiting BEVs:  [32, 17, 48, 33, 49, 39]\n",
      "Charging BEVs (nachdem neue Plätze belegt):  [20, 5, 6]\n",
      "AVAILABLE SOLAR POWER:  27.0\n",
      "Restladeenergie bis zur fairen Ladeenergie for BEV mit ID 20:  4.079888448390265\n",
      "Restladezeit:  27.199256322601766\n",
      "AVAILABLE SOLAR POWER:  27.0\n",
      "Restladeenergie bis zur fairen Ladeenergie for BEV mit ID 5:  6.797043618739904\n",
      "Restladezeit:  45.313624124932694\n",
      "AVAILABLE SOLAR POWER:  27.0\n",
      "Restladeenergie bis zur fairen Ladeenergie for BEV mit ID 6:  1.896249999999996\n",
      "Restladezeit:  12.641666666666639\n",
      "Die Restladezeit des BEVS 6 endet vor dem nächsten Interval\n",
      "Charging BEVs:  [20, 5, 6]\n",
      "\n",
      "\n",
      "Minute:  885\n",
      "Charging BEVs after updating post optimization plan:  [20, 5, 4]\n",
      "Waiting BEVs:  [32, 17, 48, 33, 49, 39]\n",
      "Charging BEVs (nachdem neue Plätze belegt):  [20, 5, 4]\n",
      "AVAILABLE SOLAR POWER:  21.0\n",
      "Restladeenergie bis zur fairen Ladeenergie for BEV mit ID 20:  3.7919557871749907\n",
      "Restladezeit:  32.50247817578563\n",
      "AVAILABLE SOLAR POWER:  21.0\n",
      "Restladeenergie bis zur fairen Ladeenergie for BEV mit ID 5:  5.649976501688944\n",
      "Restladezeit:  48.42837001447667\n",
      "AVAILABLE SOLAR POWER:  21.0\n",
      "Restladeenergie bis zur fairen Ladeenergie for BEV mit ID 4:  8.110000000000005\n",
      "Restladezeit:  69.51428571428576\n",
      "Charging BEVs:  [20, 5, 4]\n",
      "\n",
      "\n",
      "Minute:  900\n",
      "Charging BEVs after updating post optimization plan:  [20, 5, 4]\n",
      "Waiting BEVs:  [32, 17, 48, 33, 49, 39]\n",
      "Charging BEVs (nachdem neue Plätze belegt):  [20, 5, 4]\n",
      "AVAILABLE SOLAR POWER:  16.88\n",
      "Restladeenergie bis zur fairen Ladeenergie for BEV mit ID 20:  3.5680081617853334\n",
      "Restladezeit:  38.04748039818484\n",
      "AVAILABLE SOLAR POWER:  16.88\n",
      "Restladeenergie bis zur fairen Ladeenergie for BEV mit ID 5:  4.757813188427086\n",
      "Restladezeit:  50.73497475810874\n",
      "AVAILABLE SOLAR POWER:  16.88\n",
      "Restladeenergie bis zur fairen Ladeenergie for BEV mit ID 4:  7.273888888888898\n",
      "Restladezeit:  77.56516587677736\n",
      "Charging BEVs:  [20, 5, 4]\n",
      "\n",
      "\n",
      "Minute:  915\n",
      "Charging BEVs after updating post optimization plan:  [20, 5, 4]\n",
      "Waiting BEVs:  [32, 17, 33, 49, 39]\n",
      "Charging BEVs (nachdem neue Plätze belegt):  [20, 5, 4]\n",
      "AVAILABLE SOLAR POWER:  14.62\n",
      "Restladeenergie bis zur fairen Ladeenergie for BEV mit ID 20:  3.3879969276625994\n",
      "Restladezeit:  41.71268447190615\n",
      "Die Restparkzeit von BEV  20 endet vor dem nächsten Intervall\n",
      "Ausgewähltes BEV das frei gewordenen Platz belegen darf:  32\n",
      "Ladestart für ausgewähltes BEV:  924\n",
      "4.873333333333333 CHARGING POWER WIRD FÜR NEUES BEV 32 GESPEICHERT: \n",
      "ZEITPUNKT FÜR DAS ES GESPEICHERT WIRD:  924\n",
      "AVAILABLE SOLAR POWER:  14.62\n",
      "Restladeenergie bis zur fairen Ladeenergie for BEV mit ID 5:  4.0406838204337445\n",
      "Restladezeit:  49.74850120917059\n",
      "AVAILABLE SOLAR POWER:  14.62\n",
      "Restladeenergie bis zur fairen Ladeenergie for BEV mit ID 4:  6.601814814814827\n",
      "Restladezeit:  81.28089375285013\n",
      "Charging BEVs:  [20, 5, 4]\n",
      "\n",
      "\n",
      "Minute:  930\n",
      "Charging BEVs after updating post optimization plan:  [5, 4, 32]\n",
      "Waiting BEVs:  [33, 49, 39]\n",
      "Charging BEVs (nachdem neue Plätze belegt):  [5, 4, 32]\n",
      "AVAILABLE SOLAR POWER:  12.38\n",
      "Restladeenergie bis zur fairen Ladeenergie for BEV mit ID 5:  3.419568218534298\n",
      "Restladezeit:  49.71908556835005\n",
      "AVAILABLE SOLAR POWER:  12.38\n",
      "Restladeenergie bis zur fairen Ladeenergie for BEV mit ID 4:  6.019722222222238\n",
      "Restladezeit:  87.5242326332797\n",
      "AVAILABLE SOLAR POWER:  12.38\n",
      "Restladeenergie bis zur fairen Ladeenergie for BEV mit ID 32:  8.565166666666665\n",
      "Restladezeit:  124.53392568659123\n",
      "Die Restparkzeit von BEV  32 endet vor dem nächsten Intervall\n",
      "Charging BEVs:  [5, 4, 32]\n",
      "\n",
      "\n",
      "Minute:  945\n",
      "Charging BEVs after updating post optimization plan:  [5, 4, 0]\n",
      "Waiting BEVs:  [33, 49, 39]\n",
      "Charging BEVs (nachdem neue Plätze belegt):  [5, 4, 0]\n",
      "AVAILABLE SOLAR POWER:  10.12\n",
      "Restladeenergie bis zur fairen Ladeenergie for BEV mit ID 5:  2.8936167033827838\n",
      "Restladezeit:  51.467490771630544\n",
      "AVAILABLE SOLAR POWER:  10.12\n",
      "Restladeenergie bis zur fairen Ladeenergie for BEV mit ID 4:  5.526814814814832\n",
      "Restladezeit:  98.30303030303062\n",
      "AVAILABLE SOLAR POWER:  10.12\n",
      "Restladeenergie bis zur fairen Ladeenergie for BEV mit ID 0:  2.6725000000000003\n",
      "Restladezeit:  47.53458498023716\n",
      "Charging BEVs:  [5, 4, 0]\n",
      "\n",
      "\n",
      "Minute:  960\n",
      "Charging BEVs after updating post optimization plan:  [5, 4, 0]\n",
      "Waiting BEVs:  [49, 39]\n",
      "stop parking at interval_minute for  5\n",
      "stop parking at interval_minute for  4\n",
      "stop parking at interval_minute for  0\n",
      "Charging BEVs (nachdem neue Plätze belegt):  []\n",
      "Charging BEVs:  []\n"
     ]
    }
   ],
   "source": [
    "import distributionAlgorithmPolling\n",
    "import simulationClasses\n",
    "import simulationData\n",
    "import simulationOutputDataVisualisation\n",
    "import distributionAlgorithmForecast\n",
    "import distributionAlgorithmForecastPolling\n",
    "import postOptimization\n",
    "import numpy as np\n",
    "\n",
    "simulation_day = simulationClasses.SimulationDay(anzahl_bevs_pro_tag)\n",
    "bev_data = simulationData.BevData()\n",
    "table_dict = simulationData.TableDict()\n",
    "simulation_data = simulationData.SimulationData()\n",
    "    \n",
    "day_in_minute_interval_steps = list(np.around(np.arange(480, 960 + 1, minute_interval), 1))\n",
    "distributionAlgorithmForecastPolling.init_simulation(day_in_minute_interval_steps, minute_interval, simulation_data, \n",
    "                                                   simulation_day, solarpeakleistung)\n",
    "\n",
    "postOptimization.start_post_optimization(minute_interval, simulation_day, solarpeakleistung, bev_data, table_dict, simulation_data,\n",
    "                ladeleistung_pro_bev)\n",
    "\n",
    "distributionAlgorithmForecastPolling.start_simulation(solarpeakleistung, ladeleistung_pro_bev,\n",
    "                     simulation_day, bev_data, table_dict, simulation_data, minute_interval)\n",
    "    \n",
    "# nochmal ein Durchgang wo frei gewordener Platz belegt wird"
   ]
  },
  {
   "cell_type": "markdown",
   "metadata": {},
   "source": [
    "### Ergebnis Algorithmus"
   ]
  },
  {
   "cell_type": "code",
   "execution_count": 4,
   "metadata": {
    "pycharm": {
     "is_executing": true
    }
   },
   "outputs": [
    {
     "data": {
      "text/markdown": [
       ">**Ergebnis**<br>Geladene BEVs: 39 von 50<br>Aufgeladene Solarenergie insgesamt: 142.39 kWh<br>Ungenutzte Solarenergie insgesamt: 266.5025 kWh"
      ],
      "text/plain": [
       "<IPython.core.display.Markdown object>"
      ]
     },
     "execution_count": 4,
     "metadata": {},
     "output_type": "execute_result"
    }
   ],
   "source": [
    "simulationOutputDataVisualisation.print_algorithm_result(bev_data, simulation_data, anzahl_bevs_pro_tag)"
   ]
  },
  {
   "cell_type": "markdown",
   "metadata": {},
   "source": [
    "### Tabellarische Übersicht Park- und Ladeverlauf der BEVs"
   ]
  },
  {
   "cell_type": "code",
   "execution_count": 5,
   "metadata": {
    "pycharm": {
     "is_executing": true
    }
   },
   "outputs": [
    {
     "data": {
      "application/vnd.jupyter.widget-view+json": {
       "model_id": "16ed80a15a87488eaadc28f0781f7bc0",
       "version_major": 2,
       "version_minor": 0
      },
      "text/plain": [
       "interactive(children=(IntSlider(value=480, description='Minute: ', max=960, min=480, step=15), Output()), _dom…"
      ]
     },
     "metadata": {},
     "output_type": "display_data"
    }
   ],
   "source": [
    "simulationOutputDataVisualisation.create_tabular_overview_per_minute_slider(table_dict, minute_interval)"
   ]
  },
  {
   "cell_type": "code",
   "execution_count": 6,
   "metadata": {
    "pycharm": {
     "is_executing": true
    }
   },
   "outputs": [
    {
     "data": {
      "application/vnd.plotly.v1+json": {
       "config": {
        "plotlyServerURL": "https://plot.ly"
       },
       "data": [
        {
         "line": {
          "color": "orange"
         },
         "name": "Verfügbare Solarleistung",
         "type": "scatter",
         "x": [
          480,
          495,
          510,
          525,
          540,
          555,
          570,
          585,
          600,
          615,
          630,
          645,
          660,
          675,
          690,
          705,
          720,
          735,
          750,
          765,
          780,
          795,
          810,
          825,
          840,
          855,
          870,
          885,
          900,
          915,
          930,
          945,
          960
         ],
         "y": [
          -2,
          3.25,
          8.5,
          13.749999999999998,
          19,
          27,
          35,
          43,
          51,
          50.75,
          50.5,
          50.25,
          50,
          51.25,
          52.5,
          53.75,
          55,
          50.25,
          45.5,
          40.75,
          36,
          37.5,
          39,
          40.5,
          42,
          36,
          30,
          24,
          18,
          15.75,
          13.5,
          11.25,
          9
         ]
        },
        {
         "line": {
          "color": "green"
         },
         "mode": "lines",
         "name": "ID BEV 0",
         "type": "scatter",
         "x": [
          940.8562197092084,
          940.8562197092084,
          945,
          960,
          960
         ],
         "y": [
          6.19,
          0,
          3.75,
          0,
          9
         ]
        },
        {
         "line": {
          "color": "green"
         },
         "mode": "lines",
         "name": "ID BEV 4",
         "type": "scatter",
         "x": [
          877.8333333333334,
          877.8333333333334,
          885,
          900,
          915,
          930,
          945,
          945
         ],
         "y": [
          9,
          0,
          8,
          6,
          5.25,
          4.5,
          0,
          7.5
         ]
        },
        {
         "line": {
          "color": "green"
         },
         "mode": "lines",
         "name": "ID BEV 5",
         "type": "scatter",
         "x": [
          862.3528858863269,
          870,
          885,
          900,
          915,
          930,
          940.8562197092084,
          940.8562197092084,
          945,
          945
         ],
         "y": [
          11,
          10,
          16,
          12,
          10.5,
          9,
          0,
          12.38,
          11.25,
          0
         ]
        },
        {
         "line": {
          "color": "green"
         },
         "mode": "lines",
         "name": "ID BEV 6",
         "type": "scatter",
         "x": [
          866.1409090909091,
          870,
          882.6416666666667,
          882.6416666666667,
          885,
          885
         ],
         "y": [
          11,
          20,
          9,
          0,
          0,
          24
         ]
        },
        {
         "line": {
          "color": "green"
         },
         "mode": "lines",
         "name": "ID BEV 8",
         "type": "scatter",
         "x": [
          860.2772727272727,
          860.2772727272727,
          870,
          877.8333333333334,
          877.8333333333334
         ],
         "y": [
          11,
          0,
          27.5,
          0,
          15.75
         ]
        },
        {
         "line": {
          "color": "green"
         },
         "mode": "lines",
         "name": "ID BEV 10",
         "type": "scatter",
         "x": [
          850.2832111345843,
          850.2832111345843,
          855,
          862.3528858863269,
          862.3528858863269
         ],
         "y": [
          13,
          0,
          7.2,
          0,
          17.6
         ]
        },
        {
         "line": {
          "color": "green"
         },
         "mode": "lines",
         "name": "ID BEV 11",
         "type": "scatter",
         "x": [
          853.4884615384615,
          853.4884615384615,
          855,
          866.1409090909091,
          866.1409090909091
         ],
         "y": [
          13,
          0,
          14.4,
          0,
          17.6
         ]
        },
        {
         "line": {
          "color": "green"
         },
         "mode": "lines",
         "name": "ID BEV 12",
         "type": "scatter",
         "x": [
          845.8153846153846,
          845.8153846153846,
          855,
          860.2772727272727,
          860.2772727272727
         ],
         "y": [
          13,
          0,
          21.6,
          0,
          17.6
         ]
        },
        {
         "line": {
          "color": "green"
         },
         "mode": "lines",
         "name": "ID BEV 16",
         "type": "scatter",
         "x": [
          802.3669368928137,
          810,
          825,
          840,
          850.2832111345843,
          850.2832111345843,
          855,
          863.9342599062065,
          863.9342599062065
         ],
         "y": [
          12.75,
          7.8,
          10.125,
          21,
          0,
          26,
          39.6,
          16.5,
          0
         ]
        },
        {
         "line": {
          "color": "green"
         },
         "mode": "lines",
         "name": "ID BEV 24",
         "type": "scatter",
         "x": [
          839.8472727272726,
          839.8472727272726,
          840,
          853.4884615384615,
          853.4884615384615
         ],
         "y": [
          13.75,
          0,
          31.5,
          0,
          22.75
         ]
        },
        {
         "line": {
          "color": "green"
         },
         "mode": "lines",
         "name": "ID BEV 26",
         "type": "scatter",
         "x": [
          835.1563636363636,
          835.1563636363636,
          840,
          845.8153846153846,
          845.8153846153846
         ],
         "y": [
          13.75,
          0,
          42,
          0,
          22.75
         ]
        },
        {
         "line": {
          "color": "green"
         },
         "mode": "lines",
         "name": "ID BEV 34",
         "type": "scatter",
         "x": [
          825,
          825,
          839.8472727272726,
          839.8472727272726
         ],
         "y": [
          16.875,
          0,
          0,
          20.625
         ]
        },
        {
         "line": {
          "color": "green"
         },
         "mode": "lines",
         "name": "ID BEV 37",
         "type": "scatter",
         "x": [
          822.1471698113207,
          822.1471698113207,
          825,
          835.1563636363636,
          835.1563636363636
         ],
         "y": [
          13.25,
          0,
          23.625,
          0,
          20.625
         ]
        },
        {
         "line": {
          "color": "green"
         },
         "mode": "lines",
         "name": "ID BEV 38",
         "type": "scatter",
         "x": [
          805.1529411764706,
          805.1529411764706,
          810,
          822.1471698113207,
          822.1471698113207
         ],
         "y": [
          12.75,
          0,
          14.3,
          0,
          19.875
         ]
        },
        {
         "line": {
          "color": "green"
         },
         "mode": "lines",
         "name": "ID BEV 44",
         "type": "scatter",
         "x": [
          787.8734693877551,
          795,
          810,
          810,
          825,
          831.4433098330242,
          831.4433098330242
         ],
         "y": [
          12.25,
          9.375,
          0,
          22.1,
          33.75,
          10.3125,
          0
         ]
        },
        {
         "line": {
          "color": "green"
         },
         "mode": "lines",
         "name": "ID BEV 45",
         "type": "scatter",
         "x": [
          784.4839547251734,
          784.4839547251734,
          795,
          802.3669368928137,
          802.3669368928137
         ],
         "y": [
          12.25,
          0,
          15.625,
          0,
          19.125
         ]
        },
        {
         "line": {
          "color": "green"
         },
         "mode": "lines",
         "name": "ID BEV 47",
         "type": "scatter",
         "x": [
          791.0816326530612,
          791.0816326530612,
          795,
          805.1529411764706,
          805.1529411764706
         ],
         "y": [
          12.25,
          0,
          21.875,
          0,
          19.125
         ]
        },
        {
         "line": {
          "color": "green"
         },
         "mode": "lines",
         "name": "ID BEV 49",
         "type": "scatter",
         "x": [
          787.8734693877551,
          787.8734693877551,
          787.8734693877551
         ],
         "y": [
          0,
          24.5,
          0
         ]
        },
        {
         "line": {
          "color": "green"
         },
         "mode": "lines",
         "name": "ID BEV 3",
         "type": "scatter",
         "x": [
          769.8274738244756,
          769.8274738244756,
          780,
          784.4839547251734,
          784.4839547251734
         ],
         "y": [
          38.38,
          0,
          9,
          0,
          21.4375
         ]
        },
        {
         "line": {
          "color": "green"
         },
         "mode": "lines",
         "name": "ID BEV 21",
         "type": "scatter",
         "x": [
          742.8884711779449,
          742.8884711779449,
          750,
          750
         ],
         "y": [
          47.88,
          0,
          0,
          45.5
         ]
        },
        {
         "line": {
          "color": "green"
         },
         "mode": "lines",
         "name": "ID BEV 2",
         "type": "scatter",
         "x": [
          525,
          540,
          553.9891304347826,
          553.9891304347826,
          555,
          570,
          585,
          600,
          615,
          630,
          645,
          660,
          675,
          690,
          705,
          720,
          720
         ],
         "y": [
          4.583333333333333,
          6.333333333333333,
          0,
          7.666666666666667,
          27,
          35,
          43,
          51,
          50.75,
          50.5,
          50.25,
          50,
          51.25,
          52.5,
          53.75,
          18.333333333333332,
          0
         ]
        },
        {
         "line": {
          "color": "green"
         },
         "mode": "lines",
         "name": "ID BEV 25",
         "type": "scatter",
         "x": [
          705.9075027583671,
          705.9075027583671,
          720,
          720
         ],
         "y": [
          18.12666666666667,
          0,
          0,
          36.666666666666664
         ]
        },
        {
         "line": {
          "color": "green"
         },
         "mode": "lines",
         "name": "ID BEV 31",
         "type": "scatter",
         "x": [
          709.6616403089371,
          709.6616403089371,
          720,
          720
         ],
         "y": [
          18.12666666666667,
          0,
          0,
          55
         ]
        },
        {
         "line": {
          "color": "green"
         },
         "mode": "lines",
         "name": "ID BEV 1",
         "type": "scatter",
         "x": [
          480,
          480,
          495,
          510,
          525,
          530.054945054945,
          530.054945054945
         ],
         "y": [
          0,
          -2,
          3.25,
          4.25,
          9.166666666666666,
          5.46,
          0
         ]
        },
        {
         "line": {
          "color": "green"
         },
         "mode": "lines",
         "name": "ID BEV 19",
         "type": "scatter",
         "x": [
          510,
          510,
          525,
          540,
          555,
          570,
          572.276923076923,
          572.276923076923
         ],
         "y": [
          0,
          8.5,
          13.75,
          12.666666666666666,
          36,
          43.75,
          9.75,
          0
         ]
        },
        {
         "line": {
          "color": "green"
         },
         "mode": "lines",
         "name": "ID BEV 23",
         "type": "scatter",
         "x": [
          530.054945054945,
          530.054945054945,
          540,
          555,
          570,
          585,
          598.5345452419921,
          598.5345452419921
         ],
         "y": [
          0,
          10.92,
          19,
          45,
          52.5,
          51.6,
          9.4,
          0
         ]
        },
        {
         "line": {
          "color": "green"
         },
         "mode": "lines",
         "name": "ID BEV 28",
         "type": "scatter",
         "x": [
          553.9891304347826,
          553.9891304347826,
          555,
          570,
          585,
          600,
          615,
          630,
          645,
          660,
          675,
          690,
          705,
          720,
          732,
          732
         ],
         "y": [
          0,
          15.333333333333334,
          54,
          61.25,
          60.2,
          61.2,
          60.9,
          60.6,
          60.3,
          60,
          61.5,
          63,
          64.5,
          66,
          10.524,
          0
         ]
        },
        {
         "line": {
          "color": "green"
         },
         "mode": "lines",
         "name": "ID BEV 35",
         "type": "scatter",
         "x": [
          570,
          570,
          585,
          600,
          609.6845518867924,
          609.6845518867924
         ],
         "y": [
          0,
          70,
          68.8,
          71.4,
          10.176,
          0
         ]
        },
        {
         "line": {
          "color": "green"
         },
         "mode": "lines",
         "name": "ID BEV 36",
         "type": "scatter",
         "x": [
          572.276923076923,
          572.276923076923,
          585,
          599.2021276595744,
          599.2021276595744
         ],
         "y": [
          0,
          19.5,
          77.39999999999999,
          9.4,
          0
         ]
        },
        {
         "line": {
          "color": "green"
         },
         "mode": "lines",
         "name": "ID BEV 42",
         "type": "scatter",
         "x": [
          585,
          585,
          600,
          615,
          624.1031212959305,
          624.1031212959305
         ],
         "y": [
          0,
          85.99999999999999,
          81.60000000000001,
          71.05,
          10.123999999999999,
          0
         ]
        },
        {
         "line": {
          "color": "green"
         },
         "mode": "lines",
         "name": "ID BEV 7",
         "type": "scatter",
         "x": [
          598.5345452419921,
          598.5345452419921,
          600,
          615,
          630,
          645,
          660,
          675,
          690,
          705,
          720,
          735,
          750,
          765,
          780,
          795,
          810,
          825,
          828,
          828
         ],
         "y": [
          0,
          18.8,
          91.80000000000001,
          81.2,
          70.7,
          70.35,
          70,
          71.75,
          73.5,
          75.25,
          77,
          12.5625,
          56.875,
          10.1875,
          21,
          31.25,
          29.900000000000002,
          43.875,
          10.3125,
          0
         ]
        },
        {
         "line": {
          "color": "green"
         },
         "mode": "lines",
         "name": "ID BEV 9",
         "type": "scatter",
         "x": [
          600,
          600,
          615,
          630,
          645,
          646.0534716679969,
          646.0534716679969
         ],
         "y": [
          0,
          102.00000000000001,
          91.35000000000001,
          80.8,
          80.39999999999999,
          10.024,
          0
         ]
        },
        {
         "line": {
          "color": "green"
         },
         "mode": "lines",
         "name": "ID BEV 13",
         "type": "scatter",
         "x": [
          609.6845518867924,
          609.6845518867924,
          615,
          630,
          645,
          660,
          675,
          690,
          705,
          717.2533917939445,
          717.2533917939445
         ],
         "y": [
          0,
          20.352,
          101.50000000000001,
          90.89999999999999,
          90.44999999999999,
          80,
          82,
          84,
          86,
          10.876000000000001,
          0
         ]
        },
        {
         "line": {
          "color": "green"
         },
         "mode": "lines",
         "name": "ID BEV 14",
         "type": "scatter",
         "x": [
          624.1031212959305,
          624.1031212959305,
          630,
          645,
          660,
          675,
          688.0804489252315,
          688.0804489252315
         ],
         "y": [
          0,
          20.247999999999998,
          100.99999999999999,
          100.49999999999999,
          90,
          92.25,
          10.376000000000001,
          0
         ]
        },
        {
         "line": {
          "color": "green"
         },
         "mode": "lines",
         "name": "ID BEV 15",
         "type": "scatter",
         "x": [
          646.0534716679969,
          646.0534716679969,
          660,
          675,
          676.9039463345027,
          676.9039463345027
         ],
         "y": [
          0,
          20.048,
          100,
          102.5,
          10.376000000000001,
          0
         ]
        },
        {
         "line": {
          "color": "green"
         },
         "mode": "lines",
         "name": "ID BEV 20",
         "type": "scatter",
         "x": [
          688.0804489252315,
          688.0804489252315,
          690,
          705,
          720,
          735,
          750,
          765,
          780,
          795,
          810,
          825,
          840,
          855,
          870,
          885,
          900,
          915,
          924,
          924
         ],
         "y": [
          0,
          20.752000000000002,
          94.5,
          96.75,
          88,
          25.125,
          68.25,
          20.375,
          33,
          40.625,
          37.7,
          54,
          63,
          57.6,
          37.5,
          32,
          18,
          15.75,
          4.873333333333333,
          0
         ]
        },
        {
         "line": {
          "color": "green"
         },
         "mode": "lines",
         "name": "ID BEV 22",
         "type": "scatter",
         "x": [
          690,
          690,
          705,
          720,
          728.2098061573546,
          728.2098061573546
         ],
         "y": [
          0,
          105,
          107.5,
          99,
          10.524,
          0
         ]
        },
        {
         "line": {
          "color": "green"
         },
         "mode": "lines",
         "name": "ID BEV 27",
         "type": "scatter",
         "x": [
          720,
          720,
          735,
          750,
          765,
          765.1813444502345,
          765.1813444502345
         ],
         "y": [
          0,
          110,
          37.6875,
          79.625,
          30.5625,
          9.595,
          0
         ]
        },
        {
         "line": {
          "color": "green"
         },
         "mode": "lines",
         "name": "ID BEV 30",
         "type": "scatter",
         "x": [
          732,
          732,
          735,
          750,
          765,
          780,
          795,
          810,
          816,
          816
         ],
         "y": [
          0,
          21.048,
          50.25,
          91,
          40.75,
          45,
          50,
          45.5,
          7.95,
          0
         ]
        },
        {
         "line": {
          "color": "green"
         },
         "mode": "lines",
         "name": "ID BEV 32",
         "type": "scatter",
         "x": [
          924,
          924,
          930,
          936,
          936
         ],
         "y": [
          0,
          9.746666666666666,
          13.5,
          4.126666666666667,
          0
         ]
        }
       ],
       "layout": {
        "template": {
         "data": {
          "bar": [
           {
            "error_x": {
             "color": "#2a3f5f"
            },
            "error_y": {
             "color": "#2a3f5f"
            },
            "marker": {
             "line": {
              "color": "white",
              "width": 0.5
             },
             "pattern": {
              "fillmode": "overlay",
              "size": 10,
              "solidity": 0.2
             }
            },
            "type": "bar"
           }
          ],
          "barpolar": [
           {
            "marker": {
             "line": {
              "color": "white",
              "width": 0.5
             },
             "pattern": {
              "fillmode": "overlay",
              "size": 10,
              "solidity": 0.2
             }
            },
            "type": "barpolar"
           }
          ],
          "carpet": [
           {
            "aaxis": {
             "endlinecolor": "#2a3f5f",
             "gridcolor": "#C8D4E3",
             "linecolor": "#C8D4E3",
             "minorgridcolor": "#C8D4E3",
             "startlinecolor": "#2a3f5f"
            },
            "baxis": {
             "endlinecolor": "#2a3f5f",
             "gridcolor": "#C8D4E3",
             "linecolor": "#C8D4E3",
             "minorgridcolor": "#C8D4E3",
             "startlinecolor": "#2a3f5f"
            },
            "type": "carpet"
           }
          ],
          "choropleth": [
           {
            "colorbar": {
             "outlinewidth": 0,
             "ticks": ""
            },
            "type": "choropleth"
           }
          ],
          "contour": [
           {
            "colorbar": {
             "outlinewidth": 0,
             "ticks": ""
            },
            "colorscale": [
             [
              0,
              "#0d0887"
             ],
             [
              0.1111111111111111,
              "#46039f"
             ],
             [
              0.2222222222222222,
              "#7201a8"
             ],
             [
              0.3333333333333333,
              "#9c179e"
             ],
             [
              0.4444444444444444,
              "#bd3786"
             ],
             [
              0.5555555555555556,
              "#d8576b"
             ],
             [
              0.6666666666666666,
              "#ed7953"
             ],
             [
              0.7777777777777778,
              "#fb9f3a"
             ],
             [
              0.8888888888888888,
              "#fdca26"
             ],
             [
              1,
              "#f0f921"
             ]
            ],
            "type": "contour"
           }
          ],
          "contourcarpet": [
           {
            "colorbar": {
             "outlinewidth": 0,
             "ticks": ""
            },
            "type": "contourcarpet"
           }
          ],
          "heatmap": [
           {
            "colorbar": {
             "outlinewidth": 0,
             "ticks": ""
            },
            "colorscale": [
             [
              0,
              "#0d0887"
             ],
             [
              0.1111111111111111,
              "#46039f"
             ],
             [
              0.2222222222222222,
              "#7201a8"
             ],
             [
              0.3333333333333333,
              "#9c179e"
             ],
             [
              0.4444444444444444,
              "#bd3786"
             ],
             [
              0.5555555555555556,
              "#d8576b"
             ],
             [
              0.6666666666666666,
              "#ed7953"
             ],
             [
              0.7777777777777778,
              "#fb9f3a"
             ],
             [
              0.8888888888888888,
              "#fdca26"
             ],
             [
              1,
              "#f0f921"
             ]
            ],
            "type": "heatmap"
           }
          ],
          "heatmapgl": [
           {
            "colorbar": {
             "outlinewidth": 0,
             "ticks": ""
            },
            "colorscale": [
             [
              0,
              "#0d0887"
             ],
             [
              0.1111111111111111,
              "#46039f"
             ],
             [
              0.2222222222222222,
              "#7201a8"
             ],
             [
              0.3333333333333333,
              "#9c179e"
             ],
             [
              0.4444444444444444,
              "#bd3786"
             ],
             [
              0.5555555555555556,
              "#d8576b"
             ],
             [
              0.6666666666666666,
              "#ed7953"
             ],
             [
              0.7777777777777778,
              "#fb9f3a"
             ],
             [
              0.8888888888888888,
              "#fdca26"
             ],
             [
              1,
              "#f0f921"
             ]
            ],
            "type": "heatmapgl"
           }
          ],
          "histogram": [
           {
            "marker": {
             "pattern": {
              "fillmode": "overlay",
              "size": 10,
              "solidity": 0.2
             }
            },
            "type": "histogram"
           }
          ],
          "histogram2d": [
           {
            "colorbar": {
             "outlinewidth": 0,
             "ticks": ""
            },
            "colorscale": [
             [
              0,
              "#0d0887"
             ],
             [
              0.1111111111111111,
              "#46039f"
             ],
             [
              0.2222222222222222,
              "#7201a8"
             ],
             [
              0.3333333333333333,
              "#9c179e"
             ],
             [
              0.4444444444444444,
              "#bd3786"
             ],
             [
              0.5555555555555556,
              "#d8576b"
             ],
             [
              0.6666666666666666,
              "#ed7953"
             ],
             [
              0.7777777777777778,
              "#fb9f3a"
             ],
             [
              0.8888888888888888,
              "#fdca26"
             ],
             [
              1,
              "#f0f921"
             ]
            ],
            "type": "histogram2d"
           }
          ],
          "histogram2dcontour": [
           {
            "colorbar": {
             "outlinewidth": 0,
             "ticks": ""
            },
            "colorscale": [
             [
              0,
              "#0d0887"
             ],
             [
              0.1111111111111111,
              "#46039f"
             ],
             [
              0.2222222222222222,
              "#7201a8"
             ],
             [
              0.3333333333333333,
              "#9c179e"
             ],
             [
              0.4444444444444444,
              "#bd3786"
             ],
             [
              0.5555555555555556,
              "#d8576b"
             ],
             [
              0.6666666666666666,
              "#ed7953"
             ],
             [
              0.7777777777777778,
              "#fb9f3a"
             ],
             [
              0.8888888888888888,
              "#fdca26"
             ],
             [
              1,
              "#f0f921"
             ]
            ],
            "type": "histogram2dcontour"
           }
          ],
          "mesh3d": [
           {
            "colorbar": {
             "outlinewidth": 0,
             "ticks": ""
            },
            "type": "mesh3d"
           }
          ],
          "parcoords": [
           {
            "line": {
             "colorbar": {
              "outlinewidth": 0,
              "ticks": ""
             }
            },
            "type": "parcoords"
           }
          ],
          "pie": [
           {
            "automargin": true,
            "type": "pie"
           }
          ],
          "scatter": [
           {
            "marker": {
             "colorbar": {
              "outlinewidth": 0,
              "ticks": ""
             }
            },
            "type": "scatter"
           }
          ],
          "scatter3d": [
           {
            "line": {
             "colorbar": {
              "outlinewidth": 0,
              "ticks": ""
             }
            },
            "marker": {
             "colorbar": {
              "outlinewidth": 0,
              "ticks": ""
             }
            },
            "type": "scatter3d"
           }
          ],
          "scattercarpet": [
           {
            "marker": {
             "colorbar": {
              "outlinewidth": 0,
              "ticks": ""
             }
            },
            "type": "scattercarpet"
           }
          ],
          "scattergeo": [
           {
            "marker": {
             "colorbar": {
              "outlinewidth": 0,
              "ticks": ""
             }
            },
            "type": "scattergeo"
           }
          ],
          "scattergl": [
           {
            "marker": {
             "colorbar": {
              "outlinewidth": 0,
              "ticks": ""
             }
            },
            "type": "scattergl"
           }
          ],
          "scattermapbox": [
           {
            "marker": {
             "colorbar": {
              "outlinewidth": 0,
              "ticks": ""
             }
            },
            "type": "scattermapbox"
           }
          ],
          "scatterpolar": [
           {
            "marker": {
             "colorbar": {
              "outlinewidth": 0,
              "ticks": ""
             }
            },
            "type": "scatterpolar"
           }
          ],
          "scatterpolargl": [
           {
            "marker": {
             "colorbar": {
              "outlinewidth": 0,
              "ticks": ""
             }
            },
            "type": "scatterpolargl"
           }
          ],
          "scatterternary": [
           {
            "marker": {
             "colorbar": {
              "outlinewidth": 0,
              "ticks": ""
             }
            },
            "type": "scatterternary"
           }
          ],
          "surface": [
           {
            "colorbar": {
             "outlinewidth": 0,
             "ticks": ""
            },
            "colorscale": [
             [
              0,
              "#0d0887"
             ],
             [
              0.1111111111111111,
              "#46039f"
             ],
             [
              0.2222222222222222,
              "#7201a8"
             ],
             [
              0.3333333333333333,
              "#9c179e"
             ],
             [
              0.4444444444444444,
              "#bd3786"
             ],
             [
              0.5555555555555556,
              "#d8576b"
             ],
             [
              0.6666666666666666,
              "#ed7953"
             ],
             [
              0.7777777777777778,
              "#fb9f3a"
             ],
             [
              0.8888888888888888,
              "#fdca26"
             ],
             [
              1,
              "#f0f921"
             ]
            ],
            "type": "surface"
           }
          ],
          "table": [
           {
            "cells": {
             "fill": {
              "color": "#EBF0F8"
             },
             "line": {
              "color": "white"
             }
            },
            "header": {
             "fill": {
              "color": "#C8D4E3"
             },
             "line": {
              "color": "white"
             }
            },
            "type": "table"
           }
          ]
         },
         "layout": {
          "annotationdefaults": {
           "arrowcolor": "#2a3f5f",
           "arrowhead": 0,
           "arrowwidth": 1
          },
          "autotypenumbers": "strict",
          "coloraxis": {
           "colorbar": {
            "outlinewidth": 0,
            "ticks": ""
           }
          },
          "colorscale": {
           "diverging": [
            [
             0,
             "#8e0152"
            ],
            [
             0.1,
             "#c51b7d"
            ],
            [
             0.2,
             "#de77ae"
            ],
            [
             0.3,
             "#f1b6da"
            ],
            [
             0.4,
             "#fde0ef"
            ],
            [
             0.5,
             "#f7f7f7"
            ],
            [
             0.6,
             "#e6f5d0"
            ],
            [
             0.7,
             "#b8e186"
            ],
            [
             0.8,
             "#7fbc41"
            ],
            [
             0.9,
             "#4d9221"
            ],
            [
             1,
             "#276419"
            ]
           ],
           "sequential": [
            [
             0,
             "#0d0887"
            ],
            [
             0.1111111111111111,
             "#46039f"
            ],
            [
             0.2222222222222222,
             "#7201a8"
            ],
            [
             0.3333333333333333,
             "#9c179e"
            ],
            [
             0.4444444444444444,
             "#bd3786"
            ],
            [
             0.5555555555555556,
             "#d8576b"
            ],
            [
             0.6666666666666666,
             "#ed7953"
            ],
            [
             0.7777777777777778,
             "#fb9f3a"
            ],
            [
             0.8888888888888888,
             "#fdca26"
            ],
            [
             1,
             "#f0f921"
            ]
           ],
           "sequentialminus": [
            [
             0,
             "#0d0887"
            ],
            [
             0.1111111111111111,
             "#46039f"
            ],
            [
             0.2222222222222222,
             "#7201a8"
            ],
            [
             0.3333333333333333,
             "#9c179e"
            ],
            [
             0.4444444444444444,
             "#bd3786"
            ],
            [
             0.5555555555555556,
             "#d8576b"
            ],
            [
             0.6666666666666666,
             "#ed7953"
            ],
            [
             0.7777777777777778,
             "#fb9f3a"
            ],
            [
             0.8888888888888888,
             "#fdca26"
            ],
            [
             1,
             "#f0f921"
            ]
           ]
          },
          "colorway": [
           "#636efa",
           "#EF553B",
           "#00cc96",
           "#ab63fa",
           "#FFA15A",
           "#19d3f3",
           "#FF6692",
           "#B6E880",
           "#FF97FF",
           "#FECB52"
          ],
          "font": {
           "color": "#2a3f5f"
          },
          "geo": {
           "bgcolor": "white",
           "lakecolor": "white",
           "landcolor": "white",
           "showlakes": true,
           "showland": true,
           "subunitcolor": "#C8D4E3"
          },
          "hoverlabel": {
           "align": "left"
          },
          "hovermode": "closest",
          "mapbox": {
           "style": "light"
          },
          "paper_bgcolor": "white",
          "plot_bgcolor": "white",
          "polar": {
           "angularaxis": {
            "gridcolor": "#EBF0F8",
            "linecolor": "#EBF0F8",
            "ticks": ""
           },
           "bgcolor": "white",
           "radialaxis": {
            "gridcolor": "#EBF0F8",
            "linecolor": "#EBF0F8",
            "ticks": ""
           }
          },
          "scene": {
           "xaxis": {
            "backgroundcolor": "white",
            "gridcolor": "#DFE8F3",
            "gridwidth": 2,
            "linecolor": "#EBF0F8",
            "showbackground": true,
            "ticks": "",
            "zerolinecolor": "#EBF0F8"
           },
           "yaxis": {
            "backgroundcolor": "white",
            "gridcolor": "#DFE8F3",
            "gridwidth": 2,
            "linecolor": "#EBF0F8",
            "showbackground": true,
            "ticks": "",
            "zerolinecolor": "#EBF0F8"
           },
           "zaxis": {
            "backgroundcolor": "white",
            "gridcolor": "#DFE8F3",
            "gridwidth": 2,
            "linecolor": "#EBF0F8",
            "showbackground": true,
            "ticks": "",
            "zerolinecolor": "#EBF0F8"
           }
          },
          "shapedefaults": {
           "line": {
            "color": "#2a3f5f"
           }
          },
          "ternary": {
           "aaxis": {
            "gridcolor": "#DFE8F3",
            "linecolor": "#A2B1C6",
            "ticks": ""
           },
           "baxis": {
            "gridcolor": "#DFE8F3",
            "linecolor": "#A2B1C6",
            "ticks": ""
           },
           "bgcolor": "white",
           "caxis": {
            "gridcolor": "#DFE8F3",
            "linecolor": "#A2B1C6",
            "ticks": ""
           }
          },
          "title": {
           "x": 0.05
          },
          "xaxis": {
           "automargin": true,
           "gridcolor": "#EBF0F8",
           "linecolor": "#EBF0F8",
           "ticks": "",
           "title": {
            "standoff": 15
           },
           "zerolinecolor": "#EBF0F8",
           "zerolinewidth": 2
          },
          "yaxis": {
           "automargin": true,
           "gridcolor": "#EBF0F8",
           "linecolor": "#EBF0F8",
           "ticks": "",
           "title": {
            "standoff": 15
           },
           "zerolinecolor": "#EBF0F8",
           "zerolinewidth": 2
          }
         }
        },
        "title": {
         "font": {
          "size": 24
         },
         "text": "Ladeleistung pro Ladezeitraum eines BEVs",
         "x": 0.5,
         "xanchor": "center"
        },
        "xaxis": {
         "range": [
          480,
          960
         ],
         "showgrid": true,
         "title": {
          "text": "Minuten"
         }
        },
        "yaxis": {
         "range": [
          0,
          60
         ],
         "title": {
          "text": "Energie in kW"
         }
        }
       }
      },
      "text/html": [
       "<div>                            <div id=\"688f9f5f-68a1-42e1-9872-7632a4142bc7\" class=\"plotly-graph-div\" style=\"height:525px; width:100%;\"></div>            <script type=\"text/javascript\">                require([\"plotly\"], function(Plotly) {                    window.PLOTLYENV=window.PLOTLYENV || {};                                    if (document.getElementById(\"688f9f5f-68a1-42e1-9872-7632a4142bc7\")) {                    Plotly.newPlot(                        \"688f9f5f-68a1-42e1-9872-7632a4142bc7\",                        [{\"line\":{\"color\":\"orange\"},\"name\":\"Verf\\u00fcgbare Solarleistung\",\"x\":[480,495,510,525,540,555,570,585,600,615,630,645,660,675,690,705,720,735,750,765,780,795,810,825,840,855,870,885,900,915,930,945,960],\"y\":[-2.0,3.25,8.5,13.749999999999998,19.0,27.0,35.0,43.0,51.0,50.75,50.5,50.25,50.0,51.25,52.5,53.75,55.0,50.25,45.5,40.75,36.0,37.5,39.0,40.5,42.0,36.0,30.0,24.0,18.0,15.75,13.5,11.25,9.0],\"type\":\"scatter\"},{\"line\":{\"color\":\"green\"},\"mode\":\"lines\",\"name\":\"ID BEV 0\",\"x\":[940.8562197092084,940.8562197092084,945.0,960.0,960.0],\"y\":[6.19,0.0,3.75,0.0,9.0],\"type\":\"scatter\"},{\"line\":{\"color\":\"green\"},\"mode\":\"lines\",\"name\":\"ID BEV 4\",\"x\":[877.8333333333334,877.8333333333334,885.0,900.0,915.0,930.0,945.0,945.0],\"y\":[9.0,0.0,8.0,6.0,5.25,4.5,0.0,7.5],\"type\":\"scatter\"},{\"line\":{\"color\":\"green\"},\"mode\":\"lines\",\"name\":\"ID BEV 5\",\"x\":[862.3528858863269,870.0,885.0,900.0,915.0,930.0,940.8562197092084,940.8562197092084,945.0,945.0],\"y\":[11.0,10.0,16.0,12.0,10.5,9.0,0.0,12.38,11.25,0.0],\"type\":\"scatter\"},{\"line\":{\"color\":\"green\"},\"mode\":\"lines\",\"name\":\"ID BEV 6\",\"x\":[866.1409090909091,870.0,882.6416666666667,882.6416666666667,885.0,885.0],\"y\":[11.0,20.0,9.0,0.0,0.0,24.0],\"type\":\"scatter\"},{\"line\":{\"color\":\"green\"},\"mode\":\"lines\",\"name\":\"ID BEV 8\",\"x\":[860.2772727272727,860.2772727272727,870.0,877.8333333333334,877.8333333333334],\"y\":[11.0,0.0,27.5,0.0,15.75],\"type\":\"scatter\"},{\"line\":{\"color\":\"green\"},\"mode\":\"lines\",\"name\":\"ID BEV 10\",\"x\":[850.2832111345843,850.2832111345843,855.0,862.3528858863269,862.3528858863269],\"y\":[13.0,0.0,7.2,0.0,17.6],\"type\":\"scatter\"},{\"line\":{\"color\":\"green\"},\"mode\":\"lines\",\"name\":\"ID BEV 11\",\"x\":[853.4884615384615,853.4884615384615,855.0,866.1409090909091,866.1409090909091],\"y\":[13.0,0.0,14.4,0.0,17.6],\"type\":\"scatter\"},{\"line\":{\"color\":\"green\"},\"mode\":\"lines\",\"name\":\"ID BEV 12\",\"x\":[845.8153846153846,845.8153846153846,855.0,860.2772727272727,860.2772727272727],\"y\":[13.0,0.0,21.6,0.0,17.6],\"type\":\"scatter\"},{\"line\":{\"color\":\"green\"},\"mode\":\"lines\",\"name\":\"ID BEV 16\",\"x\":[802.3669368928137,810.0,825.0,840.0,850.2832111345843,850.2832111345843,855.0,863.9342599062065,863.9342599062065],\"y\":[12.75,7.8,10.125,21.0,0.0,26.0,39.6,16.5,0.0],\"type\":\"scatter\"},{\"line\":{\"color\":\"green\"},\"mode\":\"lines\",\"name\":\"ID BEV 24\",\"x\":[839.8472727272726,839.8472727272726,840.0,853.4884615384615,853.4884615384615],\"y\":[13.75,0.0,31.5,0.0,22.75],\"type\":\"scatter\"},{\"line\":{\"color\":\"green\"},\"mode\":\"lines\",\"name\":\"ID BEV 26\",\"x\":[835.1563636363636,835.1563636363636,840.0,845.8153846153846,845.8153846153846],\"y\":[13.75,0.0,42.0,0.0,22.75],\"type\":\"scatter\"},{\"line\":{\"color\":\"green\"},\"mode\":\"lines\",\"name\":\"ID BEV 34\",\"x\":[825.0,825.0,839.8472727272726,839.8472727272726],\"y\":[16.875,0.0,0.0,20.625],\"type\":\"scatter\"},{\"line\":{\"color\":\"green\"},\"mode\":\"lines\",\"name\":\"ID BEV 37\",\"x\":[822.1471698113207,822.1471698113207,825.0,835.1563636363636,835.1563636363636],\"y\":[13.25,0.0,23.625,0.0,20.625],\"type\":\"scatter\"},{\"line\":{\"color\":\"green\"},\"mode\":\"lines\",\"name\":\"ID BEV 38\",\"x\":[805.1529411764706,805.1529411764706,810.0,822.1471698113207,822.1471698113207],\"y\":[12.75,0.0,14.3,0.0,19.875],\"type\":\"scatter\"},{\"line\":{\"color\":\"green\"},\"mode\":\"lines\",\"name\":\"ID BEV 44\",\"x\":[787.8734693877551,795.0,810.0,810.0,825.0,831.4433098330242,831.4433098330242],\"y\":[12.25,9.375,0.0,22.1,33.75,10.3125,0.0],\"type\":\"scatter\"},{\"line\":{\"color\":\"green\"},\"mode\":\"lines\",\"name\":\"ID BEV 45\",\"x\":[784.4839547251734,784.4839547251734,795.0,802.3669368928137,802.3669368928137],\"y\":[12.25,0.0,15.625,0.0,19.125],\"type\":\"scatter\"},{\"line\":{\"color\":\"green\"},\"mode\":\"lines\",\"name\":\"ID BEV 47\",\"x\":[791.0816326530612,791.0816326530612,795.0,805.1529411764706,805.1529411764706],\"y\":[12.25,0.0,21.875,0.0,19.125],\"type\":\"scatter\"},{\"line\":{\"color\":\"green\"},\"mode\":\"lines\",\"name\":\"ID BEV 49\",\"x\":[787.8734693877551,787.8734693877551,787.8734693877551],\"y\":[0.0,24.5,0.0],\"type\":\"scatter\"},{\"line\":{\"color\":\"green\"},\"mode\":\"lines\",\"name\":\"ID BEV 3\",\"x\":[769.8274738244756,769.8274738244756,780.0,784.4839547251734,784.4839547251734],\"y\":[38.38,0.0,9.0,0.0,21.4375],\"type\":\"scatter\"},{\"line\":{\"color\":\"green\"},\"mode\":\"lines\",\"name\":\"ID BEV 21\",\"x\":[742.8884711779449,742.8884711779449,750.0,750.0],\"y\":[47.88,0.0,0.0,45.5],\"type\":\"scatter\"},{\"line\":{\"color\":\"green\"},\"mode\":\"lines\",\"name\":\"ID BEV 2\",\"x\":[525.0,540.0,553.9891304347826,553.9891304347826,555.0,570.0,585.0,600.0,615.0,630.0,645.0,660.0,675.0,690.0,705.0,720.0,720.0],\"y\":[4.583333333333333,6.333333333333333,0.0,7.666666666666667,27.0,35.0,43.0,51.0,50.75,50.5,50.25,50.0,51.25,52.5,53.75,18.333333333333332,0.0],\"type\":\"scatter\"},{\"line\":{\"color\":\"green\"},\"mode\":\"lines\",\"name\":\"ID BEV 25\",\"x\":[705.9075027583671,705.9075027583671,720.0,720.0],\"y\":[18.12666666666667,0.0,0.0,36.666666666666664],\"type\":\"scatter\"},{\"line\":{\"color\":\"green\"},\"mode\":\"lines\",\"name\":\"ID BEV 31\",\"x\":[709.6616403089371,709.6616403089371,720.0,720.0],\"y\":[18.12666666666667,0.0,0.0,55.0],\"type\":\"scatter\"},{\"line\":{\"color\":\"green\"},\"mode\":\"lines\",\"name\":\"ID BEV 1\",\"x\":[480.0,480.0,495.0,510.0,525.0,530.054945054945,530.054945054945],\"y\":[0.0,-2.0,3.25,4.25,9.166666666666666,5.46,0.0],\"type\":\"scatter\"},{\"line\":{\"color\":\"green\"},\"mode\":\"lines\",\"name\":\"ID BEV 19\",\"x\":[510.0,510.0,525.0,540.0,555.0,570.0,572.276923076923,572.276923076923],\"y\":[0.0,8.5,13.75,12.666666666666666,36.0,43.75,9.75,0.0],\"type\":\"scatter\"},{\"line\":{\"color\":\"green\"},\"mode\":\"lines\",\"name\":\"ID BEV 23\",\"x\":[530.054945054945,530.054945054945,540.0,555.0,570.0,585.0,598.5345452419921,598.5345452419921],\"y\":[0.0,10.92,19.0,45.0,52.5,51.6,9.4,0.0],\"type\":\"scatter\"},{\"line\":{\"color\":\"green\"},\"mode\":\"lines\",\"name\":\"ID BEV 28\",\"x\":[553.9891304347826,553.9891304347826,555.0,570.0,585.0,600.0,615.0,630.0,645.0,660.0,675.0,690.0,705.0,720.0,732.0,732.0],\"y\":[0.0,15.333333333333334,54.0,61.25,60.2,61.2,60.9,60.6,60.3,60.0,61.5,63.0,64.5,66.0,10.524,0.0],\"type\":\"scatter\"},{\"line\":{\"color\":\"green\"},\"mode\":\"lines\",\"name\":\"ID BEV 35\",\"x\":[570.0,570.0,585.0,600.0,609.6845518867924,609.6845518867924],\"y\":[0.0,70.0,68.8,71.4,10.176,0.0],\"type\":\"scatter\"},{\"line\":{\"color\":\"green\"},\"mode\":\"lines\",\"name\":\"ID BEV 36\",\"x\":[572.276923076923,572.276923076923,585.0,599.2021276595744,599.2021276595744],\"y\":[0.0,19.5,77.39999999999999,9.4,0.0],\"type\":\"scatter\"},{\"line\":{\"color\":\"green\"},\"mode\":\"lines\",\"name\":\"ID BEV 42\",\"x\":[585.0,585.0,600.0,615.0,624.1031212959305,624.1031212959305],\"y\":[0.0,85.99999999999999,81.60000000000001,71.05,10.123999999999999,0.0],\"type\":\"scatter\"},{\"line\":{\"color\":\"green\"},\"mode\":\"lines\",\"name\":\"ID BEV 7\",\"x\":[598.5345452419921,598.5345452419921,600.0,615.0,630.0,645.0,660.0,675.0,690.0,705.0,720.0,735.0,750.0,765.0,780.0,795.0,810.0,825.0,828.0,828.0],\"y\":[0.0,18.8,91.80000000000001,81.2,70.7,70.35,70.0,71.75,73.5,75.25,77.0,12.5625,56.875,10.1875,21.0,31.25,29.900000000000002,43.875,10.3125,0.0],\"type\":\"scatter\"},{\"line\":{\"color\":\"green\"},\"mode\":\"lines\",\"name\":\"ID BEV 9\",\"x\":[600.0,600.0,615.0,630.0,645.0,646.0534716679969,646.0534716679969],\"y\":[0.0,102.00000000000001,91.35000000000001,80.8,80.39999999999999,10.024,0.0],\"type\":\"scatter\"},{\"line\":{\"color\":\"green\"},\"mode\":\"lines\",\"name\":\"ID BEV 13\",\"x\":[609.6845518867924,609.6845518867924,615.0,630.0,645.0,660.0,675.0,690.0,705.0,717.2533917939445,717.2533917939445],\"y\":[0.0,20.352,101.50000000000001,90.89999999999999,90.44999999999999,80.0,82.0,84.0,86.0,10.876000000000001,0.0],\"type\":\"scatter\"},{\"line\":{\"color\":\"green\"},\"mode\":\"lines\",\"name\":\"ID BEV 14\",\"x\":[624.1031212959305,624.1031212959305,630.0,645.0,660.0,675.0,688.0804489252315,688.0804489252315],\"y\":[0.0,20.247999999999998,100.99999999999999,100.49999999999999,90.0,92.25,10.376000000000001,0.0],\"type\":\"scatter\"},{\"line\":{\"color\":\"green\"},\"mode\":\"lines\",\"name\":\"ID BEV 15\",\"x\":[646.0534716679969,646.0534716679969,660.0,675.0,676.9039463345027,676.9039463345027],\"y\":[0.0,20.048,100.0,102.5,10.376000000000001,0.0],\"type\":\"scatter\"},{\"line\":{\"color\":\"green\"},\"mode\":\"lines\",\"name\":\"ID BEV 20\",\"x\":[688.0804489252315,688.0804489252315,690.0,705.0,720.0,735.0,750.0,765.0,780.0,795.0,810.0,825.0,840.0,855.0,870.0,885.0,900.0,915.0,924.0,924.0],\"y\":[0.0,20.752000000000002,94.5,96.75,88.0,25.125,68.25,20.375,33.0,40.625,37.7,54.0,63.0,57.6,37.5,32.0,18.0,15.75,4.873333333333333,0.0],\"type\":\"scatter\"},{\"line\":{\"color\":\"green\"},\"mode\":\"lines\",\"name\":\"ID BEV 22\",\"x\":[690.0,690.0,705.0,720.0,728.2098061573546,728.2098061573546],\"y\":[0.0,105.0,107.5,99.0,10.524,0.0],\"type\":\"scatter\"},{\"line\":{\"color\":\"green\"},\"mode\":\"lines\",\"name\":\"ID BEV 27\",\"x\":[720.0,720.0,735.0,750.0,765.0,765.1813444502345,765.1813444502345],\"y\":[0.0,110.0,37.6875,79.625,30.5625,9.595,0.0],\"type\":\"scatter\"},{\"line\":{\"color\":\"green\"},\"mode\":\"lines\",\"name\":\"ID BEV 30\",\"x\":[732,732,735,750,765,780,795,810,816,816],\"y\":[0.0,21.048,50.25,91.0,40.75,45.0,50.0,45.5,7.95,0.0],\"type\":\"scatter\"},{\"line\":{\"color\":\"green\"},\"mode\":\"lines\",\"name\":\"ID BEV 32\",\"x\":[924,924,930,936,936],\"y\":[0.0,9.746666666666666,13.5,4.126666666666667,0.0],\"type\":\"scatter\"}],                        {\"template\":{\"data\":{\"barpolar\":[{\"marker\":{\"line\":{\"color\":\"white\",\"width\":0.5},\"pattern\":{\"fillmode\":\"overlay\",\"size\":10,\"solidity\":0.2}},\"type\":\"barpolar\"}],\"bar\":[{\"error_x\":{\"color\":\"#2a3f5f\"},\"error_y\":{\"color\":\"#2a3f5f\"},\"marker\":{\"line\":{\"color\":\"white\",\"width\":0.5},\"pattern\":{\"fillmode\":\"overlay\",\"size\":10,\"solidity\":0.2}},\"type\":\"bar\"}],\"carpet\":[{\"aaxis\":{\"endlinecolor\":\"#2a3f5f\",\"gridcolor\":\"#C8D4E3\",\"linecolor\":\"#C8D4E3\",\"minorgridcolor\":\"#C8D4E3\",\"startlinecolor\":\"#2a3f5f\"},\"baxis\":{\"endlinecolor\":\"#2a3f5f\",\"gridcolor\":\"#C8D4E3\",\"linecolor\":\"#C8D4E3\",\"minorgridcolor\":\"#C8D4E3\",\"startlinecolor\":\"#2a3f5f\"},\"type\":\"carpet\"}],\"choropleth\":[{\"colorbar\":{\"outlinewidth\":0,\"ticks\":\"\"},\"type\":\"choropleth\"}],\"contourcarpet\":[{\"colorbar\":{\"outlinewidth\":0,\"ticks\":\"\"},\"type\":\"contourcarpet\"}],\"contour\":[{\"colorbar\":{\"outlinewidth\":0,\"ticks\":\"\"},\"colorscale\":[[0.0,\"#0d0887\"],[0.1111111111111111,\"#46039f\"],[0.2222222222222222,\"#7201a8\"],[0.3333333333333333,\"#9c179e\"],[0.4444444444444444,\"#bd3786\"],[0.5555555555555556,\"#d8576b\"],[0.6666666666666666,\"#ed7953\"],[0.7777777777777778,\"#fb9f3a\"],[0.8888888888888888,\"#fdca26\"],[1.0,\"#f0f921\"]],\"type\":\"contour\"}],\"heatmapgl\":[{\"colorbar\":{\"outlinewidth\":0,\"ticks\":\"\"},\"colorscale\":[[0.0,\"#0d0887\"],[0.1111111111111111,\"#46039f\"],[0.2222222222222222,\"#7201a8\"],[0.3333333333333333,\"#9c179e\"],[0.4444444444444444,\"#bd3786\"],[0.5555555555555556,\"#d8576b\"],[0.6666666666666666,\"#ed7953\"],[0.7777777777777778,\"#fb9f3a\"],[0.8888888888888888,\"#fdca26\"],[1.0,\"#f0f921\"]],\"type\":\"heatmapgl\"}],\"heatmap\":[{\"colorbar\":{\"outlinewidth\":0,\"ticks\":\"\"},\"colorscale\":[[0.0,\"#0d0887\"],[0.1111111111111111,\"#46039f\"],[0.2222222222222222,\"#7201a8\"],[0.3333333333333333,\"#9c179e\"],[0.4444444444444444,\"#bd3786\"],[0.5555555555555556,\"#d8576b\"],[0.6666666666666666,\"#ed7953\"],[0.7777777777777778,\"#fb9f3a\"],[0.8888888888888888,\"#fdca26\"],[1.0,\"#f0f921\"]],\"type\":\"heatmap\"}],\"histogram2dcontour\":[{\"colorbar\":{\"outlinewidth\":0,\"ticks\":\"\"},\"colorscale\":[[0.0,\"#0d0887\"],[0.1111111111111111,\"#46039f\"],[0.2222222222222222,\"#7201a8\"],[0.3333333333333333,\"#9c179e\"],[0.4444444444444444,\"#bd3786\"],[0.5555555555555556,\"#d8576b\"],[0.6666666666666666,\"#ed7953\"],[0.7777777777777778,\"#fb9f3a\"],[0.8888888888888888,\"#fdca26\"],[1.0,\"#f0f921\"]],\"type\":\"histogram2dcontour\"}],\"histogram2d\":[{\"colorbar\":{\"outlinewidth\":0,\"ticks\":\"\"},\"colorscale\":[[0.0,\"#0d0887\"],[0.1111111111111111,\"#46039f\"],[0.2222222222222222,\"#7201a8\"],[0.3333333333333333,\"#9c179e\"],[0.4444444444444444,\"#bd3786\"],[0.5555555555555556,\"#d8576b\"],[0.6666666666666666,\"#ed7953\"],[0.7777777777777778,\"#fb9f3a\"],[0.8888888888888888,\"#fdca26\"],[1.0,\"#f0f921\"]],\"type\":\"histogram2d\"}],\"histogram\":[{\"marker\":{\"pattern\":{\"fillmode\":\"overlay\",\"size\":10,\"solidity\":0.2}},\"type\":\"histogram\"}],\"mesh3d\":[{\"colorbar\":{\"outlinewidth\":0,\"ticks\":\"\"},\"type\":\"mesh3d\"}],\"parcoords\":[{\"line\":{\"colorbar\":{\"outlinewidth\":0,\"ticks\":\"\"}},\"type\":\"parcoords\"}],\"pie\":[{\"automargin\":true,\"type\":\"pie\"}],\"scatter3d\":[{\"line\":{\"colorbar\":{\"outlinewidth\":0,\"ticks\":\"\"}},\"marker\":{\"colorbar\":{\"outlinewidth\":0,\"ticks\":\"\"}},\"type\":\"scatter3d\"}],\"scattercarpet\":[{\"marker\":{\"colorbar\":{\"outlinewidth\":0,\"ticks\":\"\"}},\"type\":\"scattercarpet\"}],\"scattergeo\":[{\"marker\":{\"colorbar\":{\"outlinewidth\":0,\"ticks\":\"\"}},\"type\":\"scattergeo\"}],\"scattergl\":[{\"marker\":{\"colorbar\":{\"outlinewidth\":0,\"ticks\":\"\"}},\"type\":\"scattergl\"}],\"scattermapbox\":[{\"marker\":{\"colorbar\":{\"outlinewidth\":0,\"ticks\":\"\"}},\"type\":\"scattermapbox\"}],\"scatterpolargl\":[{\"marker\":{\"colorbar\":{\"outlinewidth\":0,\"ticks\":\"\"}},\"type\":\"scatterpolargl\"}],\"scatterpolar\":[{\"marker\":{\"colorbar\":{\"outlinewidth\":0,\"ticks\":\"\"}},\"type\":\"scatterpolar\"}],\"scatter\":[{\"marker\":{\"colorbar\":{\"outlinewidth\":0,\"ticks\":\"\"}},\"type\":\"scatter\"}],\"scatterternary\":[{\"marker\":{\"colorbar\":{\"outlinewidth\":0,\"ticks\":\"\"}},\"type\":\"scatterternary\"}],\"surface\":[{\"colorbar\":{\"outlinewidth\":0,\"ticks\":\"\"},\"colorscale\":[[0.0,\"#0d0887\"],[0.1111111111111111,\"#46039f\"],[0.2222222222222222,\"#7201a8\"],[0.3333333333333333,\"#9c179e\"],[0.4444444444444444,\"#bd3786\"],[0.5555555555555556,\"#d8576b\"],[0.6666666666666666,\"#ed7953\"],[0.7777777777777778,\"#fb9f3a\"],[0.8888888888888888,\"#fdca26\"],[1.0,\"#f0f921\"]],\"type\":\"surface\"}],\"table\":[{\"cells\":{\"fill\":{\"color\":\"#EBF0F8\"},\"line\":{\"color\":\"white\"}},\"header\":{\"fill\":{\"color\":\"#C8D4E3\"},\"line\":{\"color\":\"white\"}},\"type\":\"table\"}]},\"layout\":{\"annotationdefaults\":{\"arrowcolor\":\"#2a3f5f\",\"arrowhead\":0,\"arrowwidth\":1},\"autotypenumbers\":\"strict\",\"coloraxis\":{\"colorbar\":{\"outlinewidth\":0,\"ticks\":\"\"}},\"colorscale\":{\"diverging\":[[0,\"#8e0152\"],[0.1,\"#c51b7d\"],[0.2,\"#de77ae\"],[0.3,\"#f1b6da\"],[0.4,\"#fde0ef\"],[0.5,\"#f7f7f7\"],[0.6,\"#e6f5d0\"],[0.7,\"#b8e186\"],[0.8,\"#7fbc41\"],[0.9,\"#4d9221\"],[1,\"#276419\"]],\"sequential\":[[0.0,\"#0d0887\"],[0.1111111111111111,\"#46039f\"],[0.2222222222222222,\"#7201a8\"],[0.3333333333333333,\"#9c179e\"],[0.4444444444444444,\"#bd3786\"],[0.5555555555555556,\"#d8576b\"],[0.6666666666666666,\"#ed7953\"],[0.7777777777777778,\"#fb9f3a\"],[0.8888888888888888,\"#fdca26\"],[1.0,\"#f0f921\"]],\"sequentialminus\":[[0.0,\"#0d0887\"],[0.1111111111111111,\"#46039f\"],[0.2222222222222222,\"#7201a8\"],[0.3333333333333333,\"#9c179e\"],[0.4444444444444444,\"#bd3786\"],[0.5555555555555556,\"#d8576b\"],[0.6666666666666666,\"#ed7953\"],[0.7777777777777778,\"#fb9f3a\"],[0.8888888888888888,\"#fdca26\"],[1.0,\"#f0f921\"]]},\"colorway\":[\"#636efa\",\"#EF553B\",\"#00cc96\",\"#ab63fa\",\"#FFA15A\",\"#19d3f3\",\"#FF6692\",\"#B6E880\",\"#FF97FF\",\"#FECB52\"],\"font\":{\"color\":\"#2a3f5f\"},\"geo\":{\"bgcolor\":\"white\",\"lakecolor\":\"white\",\"landcolor\":\"white\",\"showlakes\":true,\"showland\":true,\"subunitcolor\":\"#C8D4E3\"},\"hoverlabel\":{\"align\":\"left\"},\"hovermode\":\"closest\",\"mapbox\":{\"style\":\"light\"},\"paper_bgcolor\":\"white\",\"plot_bgcolor\":\"white\",\"polar\":{\"angularaxis\":{\"gridcolor\":\"#EBF0F8\",\"linecolor\":\"#EBF0F8\",\"ticks\":\"\"},\"bgcolor\":\"white\",\"radialaxis\":{\"gridcolor\":\"#EBF0F8\",\"linecolor\":\"#EBF0F8\",\"ticks\":\"\"}},\"scene\":{\"xaxis\":{\"backgroundcolor\":\"white\",\"gridcolor\":\"#DFE8F3\",\"gridwidth\":2,\"linecolor\":\"#EBF0F8\",\"showbackground\":true,\"ticks\":\"\",\"zerolinecolor\":\"#EBF0F8\"},\"yaxis\":{\"backgroundcolor\":\"white\",\"gridcolor\":\"#DFE8F3\",\"gridwidth\":2,\"linecolor\":\"#EBF0F8\",\"showbackground\":true,\"ticks\":\"\",\"zerolinecolor\":\"#EBF0F8\"},\"zaxis\":{\"backgroundcolor\":\"white\",\"gridcolor\":\"#DFE8F3\",\"gridwidth\":2,\"linecolor\":\"#EBF0F8\",\"showbackground\":true,\"ticks\":\"\",\"zerolinecolor\":\"#EBF0F8\"}},\"shapedefaults\":{\"line\":{\"color\":\"#2a3f5f\"}},\"ternary\":{\"aaxis\":{\"gridcolor\":\"#DFE8F3\",\"linecolor\":\"#A2B1C6\",\"ticks\":\"\"},\"baxis\":{\"gridcolor\":\"#DFE8F3\",\"linecolor\":\"#A2B1C6\",\"ticks\":\"\"},\"bgcolor\":\"white\",\"caxis\":{\"gridcolor\":\"#DFE8F3\",\"linecolor\":\"#A2B1C6\",\"ticks\":\"\"}},\"title\":{\"x\":0.05},\"xaxis\":{\"automargin\":true,\"gridcolor\":\"#EBF0F8\",\"linecolor\":\"#EBF0F8\",\"ticks\":\"\",\"title\":{\"standoff\":15},\"zerolinecolor\":\"#EBF0F8\",\"zerolinewidth\":2},\"yaxis\":{\"automargin\":true,\"gridcolor\":\"#EBF0F8\",\"linecolor\":\"#EBF0F8\",\"ticks\":\"\",\"title\":{\"standoff\":15},\"zerolinecolor\":\"#EBF0F8\",\"zerolinewidth\":2}}},\"xaxis\":{\"range\":[480,960],\"showgrid\":true,\"title\":{\"text\":\"Minuten\"}},\"yaxis\":{\"range\":[0,60],\"title\":{\"text\":\"Energie in kW\"}},\"title\":{\"font\":{\"size\":24},\"text\":\"Ladeleistung pro Ladezeitraum eines BEVs\",\"x\":0.5,\"xanchor\":\"center\"}},                        {\"responsive\": true}                    ).then(function(){\n",
       "                            \n",
       "var gd = document.getElementById('688f9f5f-68a1-42e1-9872-7632a4142bc7');\n",
       "var x = new MutationObserver(function (mutations, observer) {{\n",
       "        var display = window.getComputedStyle(gd).display;\n",
       "        if (!display || display === 'none') {{\n",
       "            console.log([gd, 'removed!']);\n",
       "            Plotly.purge(gd);\n",
       "            observer.disconnect();\n",
       "        }}\n",
       "}});\n",
       "\n",
       "// Listen for the removal of the full notebook cells\n",
       "var notebookContainer = gd.closest('#notebook-container');\n",
       "if (notebookContainer) {{\n",
       "    x.observe(notebookContainer, {childList: true});\n",
       "}}\n",
       "\n",
       "// Listen for the clearing of the current output cell\n",
       "var outputEl = gd.closest('.output');\n",
       "if (outputEl) {{\n",
       "    x.observe(outputEl, {childList: true});\n",
       "}}\n",
       "\n",
       "                        })                };                });            </script>        </div>"
      ]
     },
     "metadata": {},
     "output_type": "display_data"
    }
   ],
   "source": [
    "import figureGeneration\n",
    "\n",
    "figureGeneration.create_charging_power_figure(simulation_day, solarpeakleistung, bev_data, minute_interval)"
   ]
  },
  {
   "cell_type": "code",
   "execution_count": 7,
   "metadata": {
    "pycharm": {
     "is_executing": true
    }
   },
   "outputs": [
    {
     "data": {
      "application/vnd.plotly.v1+json": {
       "config": {
        "plotlyServerURL": "https://plot.ly"
       },
       "data": [
        {
         "line": {
          "color": "red"
         },
         "name": "Wartende BEVs",
         "type": "scatter",
         "x": [
          480,
          495,
          510,
          525,
          540,
          555,
          570,
          585,
          600,
          615,
          630,
          645,
          660,
          675,
          690,
          705,
          720,
          735,
          750,
          765,
          780,
          795,
          810,
          825,
          840,
          855,
          870,
          885,
          900,
          915,
          930,
          945,
          960
         ],
         "y": [
          7,
          6,
          18,
          17,
          22,
          21,
          21,
          19,
          17,
          15,
          14,
          14,
          13,
          13,
          12,
          10,
          10,
          8,
          8,
          8,
          9,
          9,
          9,
          7,
          7,
          6,
          6,
          6,
          5,
          4,
          3,
          2,
          0
         ]
        },
        {
         "line": {
          "color": "blue"
         },
         "name": "Ladende BEVs",
         "type": "scatter",
         "x": [
          960,
          945,
          930,
          915,
          900,
          885,
          870,
          855,
          840,
          825,
          810,
          795,
          780,
          765,
          750,
          735,
          720,
          705,
          690,
          675,
          660,
          645,
          630,
          615,
          600,
          585,
          570,
          555,
          540,
          525,
          510,
          495,
          480
         ],
         "y": [
          0,
          3,
          3,
          3,
          3,
          3,
          3,
          2,
          2,
          4,
          5,
          4,
          3,
          4,
          4,
          4,
          5,
          5,
          5,
          5,
          5,
          5,
          5,
          5,
          5,
          5,
          4,
          3,
          3,
          3,
          2,
          1,
          1
         ]
        }
       ],
       "layout": {
        "legend": {
         "tracegroupgap": 0
        },
        "margin": {
         "t": 60
        },
        "template": {
         "data": {
          "bar": [
           {
            "error_x": {
             "color": "#2a3f5f"
            },
            "error_y": {
             "color": "#2a3f5f"
            },
            "marker": {
             "line": {
              "color": "white",
              "width": 0.5
             },
             "pattern": {
              "fillmode": "overlay",
              "size": 10,
              "solidity": 0.2
             }
            },
            "type": "bar"
           }
          ],
          "barpolar": [
           {
            "marker": {
             "line": {
              "color": "white",
              "width": 0.5
             },
             "pattern": {
              "fillmode": "overlay",
              "size": 10,
              "solidity": 0.2
             }
            },
            "type": "barpolar"
           }
          ],
          "carpet": [
           {
            "aaxis": {
             "endlinecolor": "#2a3f5f",
             "gridcolor": "#C8D4E3",
             "linecolor": "#C8D4E3",
             "minorgridcolor": "#C8D4E3",
             "startlinecolor": "#2a3f5f"
            },
            "baxis": {
             "endlinecolor": "#2a3f5f",
             "gridcolor": "#C8D4E3",
             "linecolor": "#C8D4E3",
             "minorgridcolor": "#C8D4E3",
             "startlinecolor": "#2a3f5f"
            },
            "type": "carpet"
           }
          ],
          "choropleth": [
           {
            "colorbar": {
             "outlinewidth": 0,
             "ticks": ""
            },
            "type": "choropleth"
           }
          ],
          "contour": [
           {
            "colorbar": {
             "outlinewidth": 0,
             "ticks": ""
            },
            "colorscale": [
             [
              0,
              "#0d0887"
             ],
             [
              0.1111111111111111,
              "#46039f"
             ],
             [
              0.2222222222222222,
              "#7201a8"
             ],
             [
              0.3333333333333333,
              "#9c179e"
             ],
             [
              0.4444444444444444,
              "#bd3786"
             ],
             [
              0.5555555555555556,
              "#d8576b"
             ],
             [
              0.6666666666666666,
              "#ed7953"
             ],
             [
              0.7777777777777778,
              "#fb9f3a"
             ],
             [
              0.8888888888888888,
              "#fdca26"
             ],
             [
              1,
              "#f0f921"
             ]
            ],
            "type": "contour"
           }
          ],
          "contourcarpet": [
           {
            "colorbar": {
             "outlinewidth": 0,
             "ticks": ""
            },
            "type": "contourcarpet"
           }
          ],
          "heatmap": [
           {
            "colorbar": {
             "outlinewidth": 0,
             "ticks": ""
            },
            "colorscale": [
             [
              0,
              "#0d0887"
             ],
             [
              0.1111111111111111,
              "#46039f"
             ],
             [
              0.2222222222222222,
              "#7201a8"
             ],
             [
              0.3333333333333333,
              "#9c179e"
             ],
             [
              0.4444444444444444,
              "#bd3786"
             ],
             [
              0.5555555555555556,
              "#d8576b"
             ],
             [
              0.6666666666666666,
              "#ed7953"
             ],
             [
              0.7777777777777778,
              "#fb9f3a"
             ],
             [
              0.8888888888888888,
              "#fdca26"
             ],
             [
              1,
              "#f0f921"
             ]
            ],
            "type": "heatmap"
           }
          ],
          "heatmapgl": [
           {
            "colorbar": {
             "outlinewidth": 0,
             "ticks": ""
            },
            "colorscale": [
             [
              0,
              "#0d0887"
             ],
             [
              0.1111111111111111,
              "#46039f"
             ],
             [
              0.2222222222222222,
              "#7201a8"
             ],
             [
              0.3333333333333333,
              "#9c179e"
             ],
             [
              0.4444444444444444,
              "#bd3786"
             ],
             [
              0.5555555555555556,
              "#d8576b"
             ],
             [
              0.6666666666666666,
              "#ed7953"
             ],
             [
              0.7777777777777778,
              "#fb9f3a"
             ],
             [
              0.8888888888888888,
              "#fdca26"
             ],
             [
              1,
              "#f0f921"
             ]
            ],
            "type": "heatmapgl"
           }
          ],
          "histogram": [
           {
            "marker": {
             "pattern": {
              "fillmode": "overlay",
              "size": 10,
              "solidity": 0.2
             }
            },
            "type": "histogram"
           }
          ],
          "histogram2d": [
           {
            "colorbar": {
             "outlinewidth": 0,
             "ticks": ""
            },
            "colorscale": [
             [
              0,
              "#0d0887"
             ],
             [
              0.1111111111111111,
              "#46039f"
             ],
             [
              0.2222222222222222,
              "#7201a8"
             ],
             [
              0.3333333333333333,
              "#9c179e"
             ],
             [
              0.4444444444444444,
              "#bd3786"
             ],
             [
              0.5555555555555556,
              "#d8576b"
             ],
             [
              0.6666666666666666,
              "#ed7953"
             ],
             [
              0.7777777777777778,
              "#fb9f3a"
             ],
             [
              0.8888888888888888,
              "#fdca26"
             ],
             [
              1,
              "#f0f921"
             ]
            ],
            "type": "histogram2d"
           }
          ],
          "histogram2dcontour": [
           {
            "colorbar": {
             "outlinewidth": 0,
             "ticks": ""
            },
            "colorscale": [
             [
              0,
              "#0d0887"
             ],
             [
              0.1111111111111111,
              "#46039f"
             ],
             [
              0.2222222222222222,
              "#7201a8"
             ],
             [
              0.3333333333333333,
              "#9c179e"
             ],
             [
              0.4444444444444444,
              "#bd3786"
             ],
             [
              0.5555555555555556,
              "#d8576b"
             ],
             [
              0.6666666666666666,
              "#ed7953"
             ],
             [
              0.7777777777777778,
              "#fb9f3a"
             ],
             [
              0.8888888888888888,
              "#fdca26"
             ],
             [
              1,
              "#f0f921"
             ]
            ],
            "type": "histogram2dcontour"
           }
          ],
          "mesh3d": [
           {
            "colorbar": {
             "outlinewidth": 0,
             "ticks": ""
            },
            "type": "mesh3d"
           }
          ],
          "parcoords": [
           {
            "line": {
             "colorbar": {
              "outlinewidth": 0,
              "ticks": ""
             }
            },
            "type": "parcoords"
           }
          ],
          "pie": [
           {
            "automargin": true,
            "type": "pie"
           }
          ],
          "scatter": [
           {
            "marker": {
             "colorbar": {
              "outlinewidth": 0,
              "ticks": ""
             }
            },
            "type": "scatter"
           }
          ],
          "scatter3d": [
           {
            "line": {
             "colorbar": {
              "outlinewidth": 0,
              "ticks": ""
             }
            },
            "marker": {
             "colorbar": {
              "outlinewidth": 0,
              "ticks": ""
             }
            },
            "type": "scatter3d"
           }
          ],
          "scattercarpet": [
           {
            "marker": {
             "colorbar": {
              "outlinewidth": 0,
              "ticks": ""
             }
            },
            "type": "scattercarpet"
           }
          ],
          "scattergeo": [
           {
            "marker": {
             "colorbar": {
              "outlinewidth": 0,
              "ticks": ""
             }
            },
            "type": "scattergeo"
           }
          ],
          "scattergl": [
           {
            "marker": {
             "colorbar": {
              "outlinewidth": 0,
              "ticks": ""
             }
            },
            "type": "scattergl"
           }
          ],
          "scattermapbox": [
           {
            "marker": {
             "colorbar": {
              "outlinewidth": 0,
              "ticks": ""
             }
            },
            "type": "scattermapbox"
           }
          ],
          "scatterpolar": [
           {
            "marker": {
             "colorbar": {
              "outlinewidth": 0,
              "ticks": ""
             }
            },
            "type": "scatterpolar"
           }
          ],
          "scatterpolargl": [
           {
            "marker": {
             "colorbar": {
              "outlinewidth": 0,
              "ticks": ""
             }
            },
            "type": "scatterpolargl"
           }
          ],
          "scatterternary": [
           {
            "marker": {
             "colorbar": {
              "outlinewidth": 0,
              "ticks": ""
             }
            },
            "type": "scatterternary"
           }
          ],
          "surface": [
           {
            "colorbar": {
             "outlinewidth": 0,
             "ticks": ""
            },
            "colorscale": [
             [
              0,
              "#0d0887"
             ],
             [
              0.1111111111111111,
              "#46039f"
             ],
             [
              0.2222222222222222,
              "#7201a8"
             ],
             [
              0.3333333333333333,
              "#9c179e"
             ],
             [
              0.4444444444444444,
              "#bd3786"
             ],
             [
              0.5555555555555556,
              "#d8576b"
             ],
             [
              0.6666666666666666,
              "#ed7953"
             ],
             [
              0.7777777777777778,
              "#fb9f3a"
             ],
             [
              0.8888888888888888,
              "#fdca26"
             ],
             [
              1,
              "#f0f921"
             ]
            ],
            "type": "surface"
           }
          ],
          "table": [
           {
            "cells": {
             "fill": {
              "color": "#EBF0F8"
             },
             "line": {
              "color": "white"
             }
            },
            "header": {
             "fill": {
              "color": "#C8D4E3"
             },
             "line": {
              "color": "white"
             }
            },
            "type": "table"
           }
          ]
         },
         "layout": {
          "annotationdefaults": {
           "arrowcolor": "#2a3f5f",
           "arrowhead": 0,
           "arrowwidth": 1
          },
          "autotypenumbers": "strict",
          "coloraxis": {
           "colorbar": {
            "outlinewidth": 0,
            "ticks": ""
           }
          },
          "colorscale": {
           "diverging": [
            [
             0,
             "#8e0152"
            ],
            [
             0.1,
             "#c51b7d"
            ],
            [
             0.2,
             "#de77ae"
            ],
            [
             0.3,
             "#f1b6da"
            ],
            [
             0.4,
             "#fde0ef"
            ],
            [
             0.5,
             "#f7f7f7"
            ],
            [
             0.6,
             "#e6f5d0"
            ],
            [
             0.7,
             "#b8e186"
            ],
            [
             0.8,
             "#7fbc41"
            ],
            [
             0.9,
             "#4d9221"
            ],
            [
             1,
             "#276419"
            ]
           ],
           "sequential": [
            [
             0,
             "#0d0887"
            ],
            [
             0.1111111111111111,
             "#46039f"
            ],
            [
             0.2222222222222222,
             "#7201a8"
            ],
            [
             0.3333333333333333,
             "#9c179e"
            ],
            [
             0.4444444444444444,
             "#bd3786"
            ],
            [
             0.5555555555555556,
             "#d8576b"
            ],
            [
             0.6666666666666666,
             "#ed7953"
            ],
            [
             0.7777777777777778,
             "#fb9f3a"
            ],
            [
             0.8888888888888888,
             "#fdca26"
            ],
            [
             1,
             "#f0f921"
            ]
           ],
           "sequentialminus": [
            [
             0,
             "#0d0887"
            ],
            [
             0.1111111111111111,
             "#46039f"
            ],
            [
             0.2222222222222222,
             "#7201a8"
            ],
            [
             0.3333333333333333,
             "#9c179e"
            ],
            [
             0.4444444444444444,
             "#bd3786"
            ],
            [
             0.5555555555555556,
             "#d8576b"
            ],
            [
             0.6666666666666666,
             "#ed7953"
            ],
            [
             0.7777777777777778,
             "#fb9f3a"
            ],
            [
             0.8888888888888888,
             "#fdca26"
            ],
            [
             1,
             "#f0f921"
            ]
           ]
          },
          "colorway": [
           "#636efa",
           "#EF553B",
           "#00cc96",
           "#ab63fa",
           "#FFA15A",
           "#19d3f3",
           "#FF6692",
           "#B6E880",
           "#FF97FF",
           "#FECB52"
          ],
          "font": {
           "color": "#2a3f5f"
          },
          "geo": {
           "bgcolor": "white",
           "lakecolor": "white",
           "landcolor": "white",
           "showlakes": true,
           "showland": true,
           "subunitcolor": "#C8D4E3"
          },
          "hoverlabel": {
           "align": "left"
          },
          "hovermode": "closest",
          "mapbox": {
           "style": "light"
          },
          "paper_bgcolor": "white",
          "plot_bgcolor": "white",
          "polar": {
           "angularaxis": {
            "gridcolor": "#EBF0F8",
            "linecolor": "#EBF0F8",
            "ticks": ""
           },
           "bgcolor": "white",
           "radialaxis": {
            "gridcolor": "#EBF0F8",
            "linecolor": "#EBF0F8",
            "ticks": ""
           }
          },
          "scene": {
           "xaxis": {
            "backgroundcolor": "white",
            "gridcolor": "#DFE8F3",
            "gridwidth": 2,
            "linecolor": "#EBF0F8",
            "showbackground": true,
            "ticks": "",
            "zerolinecolor": "#EBF0F8"
           },
           "yaxis": {
            "backgroundcolor": "white",
            "gridcolor": "#DFE8F3",
            "gridwidth": 2,
            "linecolor": "#EBF0F8",
            "showbackground": true,
            "ticks": "",
            "zerolinecolor": "#EBF0F8"
           },
           "zaxis": {
            "backgroundcolor": "white",
            "gridcolor": "#DFE8F3",
            "gridwidth": 2,
            "linecolor": "#EBF0F8",
            "showbackground": true,
            "ticks": "",
            "zerolinecolor": "#EBF0F8"
           }
          },
          "shapedefaults": {
           "line": {
            "color": "#2a3f5f"
           }
          },
          "ternary": {
           "aaxis": {
            "gridcolor": "#DFE8F3",
            "linecolor": "#A2B1C6",
            "ticks": ""
           },
           "baxis": {
            "gridcolor": "#DFE8F3",
            "linecolor": "#A2B1C6",
            "ticks": ""
           },
           "bgcolor": "white",
           "caxis": {
            "gridcolor": "#DFE8F3",
            "linecolor": "#A2B1C6",
            "ticks": ""
           }
          },
          "title": {
           "x": 0.05
          },
          "xaxis": {
           "automargin": true,
           "gridcolor": "#EBF0F8",
           "linecolor": "#EBF0F8",
           "ticks": "",
           "title": {
            "standoff": 15
           },
           "zerolinecolor": "#EBF0F8",
           "zerolinewidth": 2
          },
          "yaxis": {
           "automargin": true,
           "gridcolor": "#EBF0F8",
           "linecolor": "#EBF0F8",
           "ticks": "",
           "title": {
            "standoff": 15
           },
           "zerolinecolor": "#EBF0F8",
           "zerolinewidth": 2
          }
         }
        },
        "title": {
         "font": {
          "size": 24
         },
         "text": "Anzahl wartender und ladender BEVs im Tagesverlauf",
         "x": 0.5,
         "xanchor": "center"
        },
        "xaxis": {
         "anchor": "y",
         "domain": [
          0,
          1
         ],
         "title": {
          "text": "Minuten"
         }
        },
        "yaxis": {
         "anchor": "x",
         "domain": [
          0,
          1
         ],
         "title": {
          "text": "Anzahl BEVs"
         }
        }
       }
      },
      "text/html": [
       "<div>                            <div id=\"7b97aec5-2ff2-4737-941f-091869b23980\" class=\"plotly-graph-div\" style=\"height:525px; width:100%;\"></div>            <script type=\"text/javascript\">                require([\"plotly\"], function(Plotly) {                    window.PLOTLYENV=window.PLOTLYENV || {};                                    if (document.getElementById(\"7b97aec5-2ff2-4737-941f-091869b23980\")) {                    Plotly.newPlot(                        \"7b97aec5-2ff2-4737-941f-091869b23980\",                        [{\"line\":{\"color\":\"red\"},\"name\":\"Wartende BEVs\",\"x\":[480,495,510,525,540,555,570,585,600,615,630,645,660,675,690,705,720,735,750,765,780,795,810,825,840,855,870,885,900,915,930,945,960],\"y\":[7,6,18,17,22,21,21,19,17,15,14,14,13,13,12,10,10,8,8,8,9,9,9,7,7,6,6,6,5,4,3,2,0],\"type\":\"scatter\"},{\"line\":{\"color\":\"blue\"},\"name\":\"Ladende BEVs\",\"x\":[960,945,930,915,900,885,870,855,840,825,810,795,780,765,750,735,720,705,690,675,660,645,630,615,600,585,570,555,540,525,510,495,480],\"y\":[0,3,3,3,3,3,3,2,2,4,5,4,3,4,4,4,5,5,5,5,5,5,5,5,5,5,4,3,3,3,2,1,1],\"type\":\"scatter\"}],                        {\"template\":{\"data\":{\"barpolar\":[{\"marker\":{\"line\":{\"color\":\"white\",\"width\":0.5},\"pattern\":{\"fillmode\":\"overlay\",\"size\":10,\"solidity\":0.2}},\"type\":\"barpolar\"}],\"bar\":[{\"error_x\":{\"color\":\"#2a3f5f\"},\"error_y\":{\"color\":\"#2a3f5f\"},\"marker\":{\"line\":{\"color\":\"white\",\"width\":0.5},\"pattern\":{\"fillmode\":\"overlay\",\"size\":10,\"solidity\":0.2}},\"type\":\"bar\"}],\"carpet\":[{\"aaxis\":{\"endlinecolor\":\"#2a3f5f\",\"gridcolor\":\"#C8D4E3\",\"linecolor\":\"#C8D4E3\",\"minorgridcolor\":\"#C8D4E3\",\"startlinecolor\":\"#2a3f5f\"},\"baxis\":{\"endlinecolor\":\"#2a3f5f\",\"gridcolor\":\"#C8D4E3\",\"linecolor\":\"#C8D4E3\",\"minorgridcolor\":\"#C8D4E3\",\"startlinecolor\":\"#2a3f5f\"},\"type\":\"carpet\"}],\"choropleth\":[{\"colorbar\":{\"outlinewidth\":0,\"ticks\":\"\"},\"type\":\"choropleth\"}],\"contourcarpet\":[{\"colorbar\":{\"outlinewidth\":0,\"ticks\":\"\"},\"type\":\"contourcarpet\"}],\"contour\":[{\"colorbar\":{\"outlinewidth\":0,\"ticks\":\"\"},\"colorscale\":[[0.0,\"#0d0887\"],[0.1111111111111111,\"#46039f\"],[0.2222222222222222,\"#7201a8\"],[0.3333333333333333,\"#9c179e\"],[0.4444444444444444,\"#bd3786\"],[0.5555555555555556,\"#d8576b\"],[0.6666666666666666,\"#ed7953\"],[0.7777777777777778,\"#fb9f3a\"],[0.8888888888888888,\"#fdca26\"],[1.0,\"#f0f921\"]],\"type\":\"contour\"}],\"heatmapgl\":[{\"colorbar\":{\"outlinewidth\":0,\"ticks\":\"\"},\"colorscale\":[[0.0,\"#0d0887\"],[0.1111111111111111,\"#46039f\"],[0.2222222222222222,\"#7201a8\"],[0.3333333333333333,\"#9c179e\"],[0.4444444444444444,\"#bd3786\"],[0.5555555555555556,\"#d8576b\"],[0.6666666666666666,\"#ed7953\"],[0.7777777777777778,\"#fb9f3a\"],[0.8888888888888888,\"#fdca26\"],[1.0,\"#f0f921\"]],\"type\":\"heatmapgl\"}],\"heatmap\":[{\"colorbar\":{\"outlinewidth\":0,\"ticks\":\"\"},\"colorscale\":[[0.0,\"#0d0887\"],[0.1111111111111111,\"#46039f\"],[0.2222222222222222,\"#7201a8\"],[0.3333333333333333,\"#9c179e\"],[0.4444444444444444,\"#bd3786\"],[0.5555555555555556,\"#d8576b\"],[0.6666666666666666,\"#ed7953\"],[0.7777777777777778,\"#fb9f3a\"],[0.8888888888888888,\"#fdca26\"],[1.0,\"#f0f921\"]],\"type\":\"heatmap\"}],\"histogram2dcontour\":[{\"colorbar\":{\"outlinewidth\":0,\"ticks\":\"\"},\"colorscale\":[[0.0,\"#0d0887\"],[0.1111111111111111,\"#46039f\"],[0.2222222222222222,\"#7201a8\"],[0.3333333333333333,\"#9c179e\"],[0.4444444444444444,\"#bd3786\"],[0.5555555555555556,\"#d8576b\"],[0.6666666666666666,\"#ed7953\"],[0.7777777777777778,\"#fb9f3a\"],[0.8888888888888888,\"#fdca26\"],[1.0,\"#f0f921\"]],\"type\":\"histogram2dcontour\"}],\"histogram2d\":[{\"colorbar\":{\"outlinewidth\":0,\"ticks\":\"\"},\"colorscale\":[[0.0,\"#0d0887\"],[0.1111111111111111,\"#46039f\"],[0.2222222222222222,\"#7201a8\"],[0.3333333333333333,\"#9c179e\"],[0.4444444444444444,\"#bd3786\"],[0.5555555555555556,\"#d8576b\"],[0.6666666666666666,\"#ed7953\"],[0.7777777777777778,\"#fb9f3a\"],[0.8888888888888888,\"#fdca26\"],[1.0,\"#f0f921\"]],\"type\":\"histogram2d\"}],\"histogram\":[{\"marker\":{\"pattern\":{\"fillmode\":\"overlay\",\"size\":10,\"solidity\":0.2}},\"type\":\"histogram\"}],\"mesh3d\":[{\"colorbar\":{\"outlinewidth\":0,\"ticks\":\"\"},\"type\":\"mesh3d\"}],\"parcoords\":[{\"line\":{\"colorbar\":{\"outlinewidth\":0,\"ticks\":\"\"}},\"type\":\"parcoords\"}],\"pie\":[{\"automargin\":true,\"type\":\"pie\"}],\"scatter3d\":[{\"line\":{\"colorbar\":{\"outlinewidth\":0,\"ticks\":\"\"}},\"marker\":{\"colorbar\":{\"outlinewidth\":0,\"ticks\":\"\"}},\"type\":\"scatter3d\"}],\"scattercarpet\":[{\"marker\":{\"colorbar\":{\"outlinewidth\":0,\"ticks\":\"\"}},\"type\":\"scattercarpet\"}],\"scattergeo\":[{\"marker\":{\"colorbar\":{\"outlinewidth\":0,\"ticks\":\"\"}},\"type\":\"scattergeo\"}],\"scattergl\":[{\"marker\":{\"colorbar\":{\"outlinewidth\":0,\"ticks\":\"\"}},\"type\":\"scattergl\"}],\"scattermapbox\":[{\"marker\":{\"colorbar\":{\"outlinewidth\":0,\"ticks\":\"\"}},\"type\":\"scattermapbox\"}],\"scatterpolargl\":[{\"marker\":{\"colorbar\":{\"outlinewidth\":0,\"ticks\":\"\"}},\"type\":\"scatterpolargl\"}],\"scatterpolar\":[{\"marker\":{\"colorbar\":{\"outlinewidth\":0,\"ticks\":\"\"}},\"type\":\"scatterpolar\"}],\"scatter\":[{\"marker\":{\"colorbar\":{\"outlinewidth\":0,\"ticks\":\"\"}},\"type\":\"scatter\"}],\"scatterternary\":[{\"marker\":{\"colorbar\":{\"outlinewidth\":0,\"ticks\":\"\"}},\"type\":\"scatterternary\"}],\"surface\":[{\"colorbar\":{\"outlinewidth\":0,\"ticks\":\"\"},\"colorscale\":[[0.0,\"#0d0887\"],[0.1111111111111111,\"#46039f\"],[0.2222222222222222,\"#7201a8\"],[0.3333333333333333,\"#9c179e\"],[0.4444444444444444,\"#bd3786\"],[0.5555555555555556,\"#d8576b\"],[0.6666666666666666,\"#ed7953\"],[0.7777777777777778,\"#fb9f3a\"],[0.8888888888888888,\"#fdca26\"],[1.0,\"#f0f921\"]],\"type\":\"surface\"}],\"table\":[{\"cells\":{\"fill\":{\"color\":\"#EBF0F8\"},\"line\":{\"color\":\"white\"}},\"header\":{\"fill\":{\"color\":\"#C8D4E3\"},\"line\":{\"color\":\"white\"}},\"type\":\"table\"}]},\"layout\":{\"annotationdefaults\":{\"arrowcolor\":\"#2a3f5f\",\"arrowhead\":0,\"arrowwidth\":1},\"autotypenumbers\":\"strict\",\"coloraxis\":{\"colorbar\":{\"outlinewidth\":0,\"ticks\":\"\"}},\"colorscale\":{\"diverging\":[[0,\"#8e0152\"],[0.1,\"#c51b7d\"],[0.2,\"#de77ae\"],[0.3,\"#f1b6da\"],[0.4,\"#fde0ef\"],[0.5,\"#f7f7f7\"],[0.6,\"#e6f5d0\"],[0.7,\"#b8e186\"],[0.8,\"#7fbc41\"],[0.9,\"#4d9221\"],[1,\"#276419\"]],\"sequential\":[[0.0,\"#0d0887\"],[0.1111111111111111,\"#46039f\"],[0.2222222222222222,\"#7201a8\"],[0.3333333333333333,\"#9c179e\"],[0.4444444444444444,\"#bd3786\"],[0.5555555555555556,\"#d8576b\"],[0.6666666666666666,\"#ed7953\"],[0.7777777777777778,\"#fb9f3a\"],[0.8888888888888888,\"#fdca26\"],[1.0,\"#f0f921\"]],\"sequentialminus\":[[0.0,\"#0d0887\"],[0.1111111111111111,\"#46039f\"],[0.2222222222222222,\"#7201a8\"],[0.3333333333333333,\"#9c179e\"],[0.4444444444444444,\"#bd3786\"],[0.5555555555555556,\"#d8576b\"],[0.6666666666666666,\"#ed7953\"],[0.7777777777777778,\"#fb9f3a\"],[0.8888888888888888,\"#fdca26\"],[1.0,\"#f0f921\"]]},\"colorway\":[\"#636efa\",\"#EF553B\",\"#00cc96\",\"#ab63fa\",\"#FFA15A\",\"#19d3f3\",\"#FF6692\",\"#B6E880\",\"#FF97FF\",\"#FECB52\"],\"font\":{\"color\":\"#2a3f5f\"},\"geo\":{\"bgcolor\":\"white\",\"lakecolor\":\"white\",\"landcolor\":\"white\",\"showlakes\":true,\"showland\":true,\"subunitcolor\":\"#C8D4E3\"},\"hoverlabel\":{\"align\":\"left\"},\"hovermode\":\"closest\",\"mapbox\":{\"style\":\"light\"},\"paper_bgcolor\":\"white\",\"plot_bgcolor\":\"white\",\"polar\":{\"angularaxis\":{\"gridcolor\":\"#EBF0F8\",\"linecolor\":\"#EBF0F8\",\"ticks\":\"\"},\"bgcolor\":\"white\",\"radialaxis\":{\"gridcolor\":\"#EBF0F8\",\"linecolor\":\"#EBF0F8\",\"ticks\":\"\"}},\"scene\":{\"xaxis\":{\"backgroundcolor\":\"white\",\"gridcolor\":\"#DFE8F3\",\"gridwidth\":2,\"linecolor\":\"#EBF0F8\",\"showbackground\":true,\"ticks\":\"\",\"zerolinecolor\":\"#EBF0F8\"},\"yaxis\":{\"backgroundcolor\":\"white\",\"gridcolor\":\"#DFE8F3\",\"gridwidth\":2,\"linecolor\":\"#EBF0F8\",\"showbackground\":true,\"ticks\":\"\",\"zerolinecolor\":\"#EBF0F8\"},\"zaxis\":{\"backgroundcolor\":\"white\",\"gridcolor\":\"#DFE8F3\",\"gridwidth\":2,\"linecolor\":\"#EBF0F8\",\"showbackground\":true,\"ticks\":\"\",\"zerolinecolor\":\"#EBF0F8\"}},\"shapedefaults\":{\"line\":{\"color\":\"#2a3f5f\"}},\"ternary\":{\"aaxis\":{\"gridcolor\":\"#DFE8F3\",\"linecolor\":\"#A2B1C6\",\"ticks\":\"\"},\"baxis\":{\"gridcolor\":\"#DFE8F3\",\"linecolor\":\"#A2B1C6\",\"ticks\":\"\"},\"bgcolor\":\"white\",\"caxis\":{\"gridcolor\":\"#DFE8F3\",\"linecolor\":\"#A2B1C6\",\"ticks\":\"\"}},\"title\":{\"x\":0.05},\"xaxis\":{\"automargin\":true,\"gridcolor\":\"#EBF0F8\",\"linecolor\":\"#EBF0F8\",\"ticks\":\"\",\"title\":{\"standoff\":15},\"zerolinecolor\":\"#EBF0F8\",\"zerolinewidth\":2},\"yaxis\":{\"automargin\":true,\"gridcolor\":\"#EBF0F8\",\"linecolor\":\"#EBF0F8\",\"ticks\":\"\",\"title\":{\"standoff\":15},\"zerolinecolor\":\"#EBF0F8\",\"zerolinewidth\":2}}},\"xaxis\":{\"anchor\":\"y\",\"domain\":[0.0,1.0],\"title\":{\"text\":\"Minuten\"}},\"yaxis\":{\"anchor\":\"x\",\"domain\":[0.0,1.0],\"title\":{\"text\":\"Anzahl BEVs\"}},\"legend\":{\"tracegroupgap\":0},\"margin\":{\"t\":60},\"title\":{\"font\":{\"size\":24},\"text\":\"Anzahl wartender und ladender BEVs im Tagesverlauf\",\"x\":0.5,\"xanchor\":\"center\"}},                        {\"responsive\": true}                    ).then(function(){\n",
       "                            \n",
       "var gd = document.getElementById('7b97aec5-2ff2-4737-941f-091869b23980');\n",
       "var x = new MutationObserver(function (mutations, observer) {{\n",
       "        var display = window.getComputedStyle(gd).display;\n",
       "        if (!display || display === 'none') {{\n",
       "            console.log([gd, 'removed!']);\n",
       "            Plotly.purge(gd);\n",
       "            observer.disconnect();\n",
       "        }}\n",
       "}});\n",
       "\n",
       "// Listen for the removal of the full notebook cells\n",
       "var notebookContainer = gd.closest('#notebook-container');\n",
       "if (notebookContainer) {{\n",
       "    x.observe(notebookContainer, {childList: true});\n",
       "}}\n",
       "\n",
       "// Listen for the clearing of the current output cell\n",
       "var outputEl = gd.closest('.output');\n",
       "if (outputEl) {{\n",
       "    x.observe(outputEl, {childList: true});\n",
       "}}\n",
       "\n",
       "                        })                };                });            </script>        </div>"
      ]
     },
     "metadata": {},
     "output_type": "display_data"
    }
   ],
   "source": [
    "figureGeneration.create_bev_number_figure(simulation_data)"
   ]
  }
 ],
 "metadata": {
  "kernelspec": {
   "display_name": "Python 3 (ipykernel)",
   "language": "python",
   "name": "python3"
  },
  "language_info": {
   "codemirror_mode": {
    "name": "ipython",
    "version": 3
   },
   "file_extension": ".py",
   "mimetype": "text/x-python",
   "name": "python",
   "nbconvert_exporter": "python",
   "pygments_lexer": "ipython3",
   "version": "3.9.5"
  }
 },
 "nbformat": 4,
 "nbformat_minor": 4
}