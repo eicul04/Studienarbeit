{
 "cells": [
  {
   "cell_type": "markdown",
   "metadata": {
    "pycharm": {
     "name": "#%% md\n"
    }
   },
   "source": [
    "# Lademanagementsimulation   \n"
   ]
  },
  {
   "cell_type": "markdown",
   "metadata": {},
   "source": [
    "### Simulations Parameter"
   ]
  },
  {
   "cell_type": "code",
   "execution_count": 1,
   "metadata": {
    "pycharm": {
     "is_executing": true,
     "name": "#%%\n"
    }
   },
   "outputs": [],
   "source": [
    "solarpeakleistung = 125 #Einheit Kilowattpeak (kWP)\n",
    "anzahl_bevs_pro_tag = 75\n",
    "ladeleistung_pro_bev = 11 #Einheit kW\n",
    "maximale_ladezeit = 30 #Einheit Minuten\n",
    "minute_interval = 15 #Einheit Minuten"
   ]
  },
  {
   "cell_type": "markdown",
   "metadata": {},
   "source": [
    "### Simulations Eingangsdaten"
   ]
  },
  {
   "cell_type": "code",
   "execution_count": 2,
   "metadata": {
    "pycharm": {
     "is_executing": true,
     "name": "#%%\n"
    }
   },
   "outputs": [
    {
     "data": {
      "text/html": [
       "\n",
       "        <iframe\n",
       "            width=\"100%\"\n",
       "            height=\"650\"\n",
       "            src=\"http://127.0.0.1:8050/\"\n",
       "            frameborder=\"0\"\n",
       "            allowfullscreen\n",
       "            \n",
       "        ></iframe>\n",
       "        "
      ],
      "text/plain": [
       "<IPython.lib.display.IFrame at 0x1a89b315fd0>"
      ]
     },
     "metadata": {},
     "output_type": "display_data"
    }
   ],
   "source": [
    "import simulationInputDataVisualisation\n",
    "simulationInputDataVisualisation.create_jupyter_dash_app(solarpeakleistung)"
   ]
  },
  {
   "cell_type": "markdown",
   "metadata": {},
   "source": [
    "### Verteilungsalgorithmus"
   ]
  },
  {
   "cell_type": "code",
   "execution_count": 3,
   "metadata": {
    "pycharm": {
     "is_executing": true
    }
   },
   "outputs": [
    {
     "name": "stdout",
     "output_type": "stream",
     "text": [
      "START POST OPTIMIZATION\n",
      "charging list per minute dict:  {}\n",
      "\n",
      "\n",
      "OPTIMIZATION DONE\n",
      "BEVs dict:  {0: [(8.0, 4.5), 'wartend', [(691.500684957718, 15.056823808358672, 0)], [3.6599999999999993]], 1: [(9.5, 6.4), 'nicht parkend', [], [5.189999999999999]], 2: [(9.0, 3.3), 'nicht parkend', [], [3.3475]], 3: [(8.5, 4.2), 'nicht parkend', [], [3.7399999999999998]], 4: [(8.5, 5.3), 'nicht parkend', [], [4.6825]], 5: [(9.0, 6.6), 'nicht parkend', [], [5.4174999999999995]], 6: [(12.5, 3.5), 'wartend', [(947.2974308300395, 12.702569169960498, 0)], [2.1425]], 7: [(12.5, 3.5), 'wartend', [(917.540505723385, 29.756925106654535, 0)], [2.1425]], 8: [(8.0, 6.6), 'nicht parkend', [], [5.329999999999998]], 9: [(8.5, 3.6), 'nicht parkend', [], [3.285]], 10: [(12.5, 3.5), 'wartend', [(925.1162790697674, 19.883720930232585, 0)], [2.1425]], 11: [(8.0, 3.3), 'nicht parkend', [], [2.5649999999999995]], 12: [(8.5, 6.6), 'nicht parkend', [], [5.437499999999999]], 13: [(13.0, 3.0), 'wartend', [(904.6885185826948, 12.851987140690198, 0)], [1.76]], 14: [(8.5, 5.1), 'nicht parkend', [], [4.4775]], 15: [(12.5, 3.5), 'wartend', [(908.5308056872037, 16.58547338256369, 0)], [2.1425]], 16: [(9.5, 6.5), 'wartend', [(841.7867603702701, 62.901758212424625, 0)], [5.189999999999999]], 17: [(13.0, 3.0), 'wartend', [(896.8, 11.73080568720377, 0)], [1.76]], 18: [(8.0, 4.7), 'nicht parkend', [], [3.854999999999999]], 19: [(12.5, 3.5), 'wartend', [(884.4833333333332, 12.31666666666672, 0)], [2.1425]], 20: [(8.0, 5.2), 'nicht parkend', [], [4.212499999999999]], 21: [(13.0, 3.0), 'wartend', [(873.2666666666667, 11.733333333333348, 0)], [1.76]], 22: [(8.0, 3.3), 'nicht parkend', [], [2.5649999999999995]], 23: [(12.0, 4.0), 'wartend', [(867.2863636363636, 17.19696969696963, 0)], [2.67]], 24: [(8.5, 5.3), 'nicht parkend', [], [4.6825]], 25: [(12.5, 3.5), 'wartend', [(860.9863636363636, 12.280303030303003, 0)], [2.1425]], 26: [(8.5, 3.1), 'nicht parkend', [], [2.7275]], 27: [(9.0, 4.3), 'nicht parkend', [], [4.085]], 28: [(8.0, 5.9), 'nicht parkend', [], [4.7974999999999985]], 29: [(9.0, 7.0), 'wartend', [(832.7798347107438, 34.50652892561982, 0)], [5.489999999999999]], 30: [(8.5, 7.5), 'wartend', [(799.9807486631016, 61.00561497326203, 0)], [5.687499999999999]], 31: [(12.5, 3.5), 'wartend', [(841.8153846153846, 13.184615384615427, 0)], [2.1425]], 32: [(12.5, 3.5), 'wartend', [(829.2238461682554, 12.562914202014781, 0)], [2.1425]], 33: [(13.5, 2.5), 'wartend', [(833.5418181818181, 8.27356643356643, 0)], [1.405]], 34: [(9.0, 7.0), 'wartend', [(784.391708551189, 48.38812615955476, 0)], [5.489999999999999]], 35: [(13.0, 3.0), 'wartend', [(818.7568214953593, 10.46702467289606, 0)], [1.76]], 36: [(9.0, 4.1), 'nicht parkend', [], [3.9]], 37: [(8.5, 7.5), 'wartend', [(785.5744712430426, 47.96734693877556, 0)], [5.687499999999999]], 38: [(8.5, 6.0), 'wartend', [(687.7374018285749, 37.17394738390465, 0)], [5.0649999999999995]], 39: [(12.5, 3.5), 'wartend', [(805.6570890049812, 13.099732490378074, 0)], [2.1425]], 40: [(8.0, 6.8), 'nicht parkend', [], [5.452499999999998]], 41: [(9.0, 5.6), 'nicht parkend', [], [5.0175]], 42: [(8.5, 4.1), 'nicht parkend', [], [3.7399999999999998]], 43: [(12.0, 3.2), 'nicht parkend', [], [2.4200000000000004]], 44: [(13.0, 3.0), 'wartend', [(788.6901669758813, 11.29058168722031, 0)], [1.76]], 45: [(13.0, 3.0), 'wartend', [(794.598194678654, 11.058894326327277, 0)], [1.76]], 46: [(12.5, 3.5), 'wartend', [(770.8075896106357, 13.584118940553367, 0)], [2.1425]], 47: [(12.5, 3.5), 'wartend', [(771.9401203278221, 13.634350915220466, 0)], [2.1425]], 48: [(9.5, 3.9), 'nicht parkend', [], [3.785]], 49: [(9.5, 3.4), 'nicht parkend', [], [3.43]], 50: [(8.5, 7.5), 'wartend', [(741.1918401445793, 47.49832683130205, 0)], [5.687499999999999]], 51: [(9.5, 6.5), 'wartend', [(761.5482923517457, 33.049902326908295, 0)], [5.189999999999999]], 52: [(8.5, 7.5), 'wartend', [(710.2365014242808, 60.571088186354814, 0)], [5.687499999999999]], 53: [(8.5, 7.0), 'wartend', [(717.2140492828246, 32.78595071717541, 0)], [5.529999999999999]], 54: [(8.0, 7.5), 'wartend', [(691.1726694576889, 50.019170686890334, 0)], [5.644999999999998]], 55: [(9.0, 3.2), 'nicht parkend', [], [3.0875]], 56: [(13.5, 2.5), 'nicht parkend', [], [1.405]], 57: [(8.5, 4.5), 'wartend', [(690.945265571045, 19.29123585323589, 0)], [3.9274999999999998]], 58: [(12.0, 4.0), 'wartend', [(756.3163686962387, 15.623751631583445, 0)], [2.67]], 59: [(13.5, 2.5), 'nicht parkend', [], [1.405]], 60: [(8.0, 5.4), 'nicht parkend', [], [4.397499999999998]], 61: [(8.0, 3.9), 'nicht parkend', [], [3.1324999999999994]], 62: [(8.5, 7.5), 'wartend', [(724.9113492124795, 36.63694313926612, 0)], [5.687499999999999]], 63: [(8.5, 7.5), 'wartend', [(706.5575087660767, 49.758859930161975, 0)], [5.687499999999999]], 64: [(9.0, 6.4), 'nicht parkend', [], [5.3325]], 65: [(8.0, 4.9), 'nicht parkend', [], [4.042499999999999]], 66: [(8.5, 5.9), 'nicht parkend', [], [5.0649999999999995]], 67: [(13.5, 2.5), 'nicht parkend', [], [1.405]], 68: [(8.0, 5.3), 'nicht parkend', [], [4.397499999999998]], 69: [(8.5, 4.2), 'nicht parkend', [], [3.7399999999999998]], 70: [(12.5, 3.5), 'nicht parkend', [], [2.1425]], 71: [(8.0, 7.4), 'nicht parkend', [], [5.644999999999998]], 72: [(9.0, 3.5), 'nicht parkend', [(555.0, 162.2140492828246, 0)], [3.3475]], 73: [(8.5, 3.7), 'nicht parkend', [], [3.285]], 74: [(8.5, 4.9), 'nicht parkend', [], [4.2825]]}\n",
      "BEVs from post optimization:  [0, 6, 7, 10, 13, 15, 16, 17, 19, 21, 23, 25, 29, 30, 31, 32, 33, 34, 35, 37, 38, 39, 44, 45, 46, 47, 50, 51, 52, 53, 54, 57, 58, 62, 63, 72]\n",
      "\n",
      "\n",
      "Minute:  480\n",
      "Waiting BEVs:  []\n",
      "Charging list after handling overload:  []\n",
      "Waiting BEVs after updating parking end:  [8, 11, 18, 20, 22, 28, 40, 60, 61, 65, 68, 71]\n",
      "Charging BEVs after updating post optimization plan and parking end:  []\n",
      "SET BEV DATA for current minute for ID BEV 8 for minute 480:  0.62\n",
      "Charging BEVs (nachdem neue Plätze belegt):  [8]\n",
      "Update currently charging bevs\n",
      "Number of charging bevs:  1\n",
      "AVAILABLE SOLAR POWER:  0.62\n",
      "Restladeenergie bis zur fairen Ladeenergie for BEV mit ID 8:  5.329999999999998\n",
      "Restladezeit:  515.8064516129031\n",
      "Charging BEVs:  [8]\n",
      "BEVs from posti charging in next interval:  []\n",
      "CHARGING LIIIIIST to safe: [8] for minute 480\n",
      "\n",
      "\n",
      "Minute:  495\n",
      "Waiting BEVs:  [11, 18, 20, 22, 28, 40, 60, 61, 65, 68, 71]\n",
      "Charging list after handling overload:  [8]\n",
      "Waiting BEVs after updating parking end:  [11, 18, 20, 22, 28, 40, 60, 61, 65, 68, 71]\n",
      "Charging BEVs after updating post optimization plan and parking end:  [8]\n",
      "charging_list_per_minute_dict  {480: [8]}\n",
      "LAAASSST minute:  480\n",
      "NUUUUUUMBER of charging bevs of last interval:  1\n",
      "FUEL Charging BEV:  8\n",
      "SET BEV DATA for current minute for ID BEV 8 for minute 495:  5.87\n",
      "Charging BEVs (nachdem neue Plätze belegt):  [8]\n",
      "Update currently charging bevs\n",
      "Number of charging bevs:  1\n",
      "AVAILABLE SOLAR POWER:  5.87\n",
      "Restladeenergie bis zur fairen Ladeenergie for BEV mit ID 8:  5.174999999999998\n",
      "Restladezeit:  52.89608177172059\n",
      "Charging BEVs:  [8]\n",
      "BEVs from posti charging in next interval:  []\n",
      "CHARGING LIIIIIST to safe: [8] for minute 495\n",
      "\n",
      "\n",
      "Minute:  510\n",
      "Waiting BEVs:  [11, 18, 20, 22, 28, 40, 60, 61, 65, 68, 71]\n",
      "Charging list after handling overload:  [8]\n",
      "Waiting BEVs after updating parking end:  [11, 18, 20, 22, 28, 40, 60, 61, 65, 68, 71, 3, 4, 9, 12, 14, 24, 26, 42, 66, 69, 73, 74]\n",
      "Charging BEVs after updating post optimization plan and parking end:  [8]\n",
      "charging_list_per_minute_dict  {480: [8], 495: [8]}\n",
      "LAAASSST minute:  495\n",
      "NUUUUUUMBER of charging bevs of last interval:  1\n",
      "FUEL Charging BEV:  8\n",
      "SET BEV DATA for current minute for ID BEV 8 for minute 510:  5.56\n",
      "SET BEV DATA for current minute for ID BEV 11 for minute 510:  5.56\n",
      "Charging BEVs (nachdem neue Plätze belegt):  [8, 11]\n",
      "Update currently charging bevs\n",
      "Number of charging bevs:  2\n",
      "AVAILABLE SOLAR POWER:  11.12\n",
      "Restladeenergie bis zur fairen Ladeenergie for BEV mit ID 8:  3.7074999999999982\n",
      "Restladezeit:  40.008992805755376\n",
      "Update currently charging bevs\n",
      "Number of charging bevs:  2\n",
      "AVAILABLE SOLAR POWER:  11.12\n",
      "Restladeenergie bis zur fairen Ladeenergie for BEV mit ID 11:  2.5649999999999995\n",
      "Restladezeit:  27.67985611510791\n",
      "Charging BEVs:  [8, 11]\n",
      "BEVs from posti charging in next interval:  []\n",
      "CHARGING LIIIIIST to safe: [8, 11] for minute 510\n",
      "\n",
      "\n",
      "Minute:  525\n",
      "Waiting BEVs:  [18, 20, 22, 28, 40, 60, 61, 65, 68, 71, 3, 4, 9, 12, 14, 24, 26, 42, 66, 69, 73, 74]\n",
      "Charging list after handling overload:  [8, 11]\n",
      "Waiting BEVs after updating parking end:  [18, 20, 22, 28, 40, 60, 61, 65, 68, 71, 3, 4, 9, 12, 14, 24, 26, 42, 66, 69, 73, 74]\n",
      "Charging BEVs after updating post optimization plan and parking end:  [8, 11]\n",
      "charging_list_per_minute_dict  {480: [8], 495: [8], 510: [8, 11]}\n",
      "LAAASSST minute:  510\n",
      "NUUUUUUMBER of charging bevs of last interval:  2\n",
      "FUEL Charging BEV:  8\n",
      "FUEL Charging BEV:  11\n"
     ]
    },
    {
     "name": "stdout",
     "output_type": "stream",
     "text": [
      "SET BEV DATA for current minute for ID BEV 8 for minute 525:  8.19\n",
      "SET BEV DATA for current minute for ID BEV 11 for minute 525:  8.19\n",
      "Charging BEVs (nachdem neue Plätze belegt):  [8, 11]\n",
      "Update currently charging bevs\n",
      "Number of charging bevs:  2\n",
      "AVAILABLE SOLAR POWER:  16.38\n",
      "Restladeenergie bis zur fairen Ladeenergie for BEV mit ID 8:  2.317499999999998\n",
      "Restladezeit:  16.978021978021964\n",
      "Update currently charging bevs\n",
      "Number of charging bevs:  2\n",
      "AVAILABLE SOLAR POWER:  16.38\n",
      "Restladeenergie bis zur fairen Ladeenergie for BEV mit ID 11:  1.1749999999999996\n",
      "Restladezeit:  8.608058608058606\n",
      "Die Restladezeit des BEVS 11 endet vor dem nächsten Interval\n",
      "SET BEV DATA after charging time over for ID BEV 11 for minute 533.6080586080586:  8.38\n",
      "Ausgewähltes BEV das frei gewordenen Platz belegen darf:  18\n",
      "Ladestart für ausgewähltes BEV:  533.6080586080586\n",
      "SET BEV DATA for charging start of new bev for ID BEV 18 for minute 533.6080586080586:  8.19\n",
      "SET BEV DATA charging start between intervals for ID BEV 18 for minute 533.6080586080586:  8.19\n",
      "Charging BEVs:  [8, 11]\n",
      "BEVs from posti charging in next interval:  []\n",
      "CHARGING LIIIIIST to safe: [8, 11] for minute 525\n",
      "\n",
      "\n",
      "Minute:  540\n",
      "Waiting BEVs:  [20, 22, 28, 40, 60, 61, 65, 68, 71, 3, 4, 9, 12, 14, 24, 26, 42, 66, 69, 73, 74]\n",
      "Charging list after handling overload:  [8, 18]\n",
      "Waiting BEVs after updating parking end:  [20, 22, 28, 40, 60, 61, 65, 68, 71, 3, 4, 9, 12, 14, 24, 26, 42, 66, 69, 73, 74, 2, 5, 27, 36, 41, 55, 64]\n",
      "Charging BEVs after updating post optimization plan and parking end:  [8, 18]\n",
      "charging_list_per_minute_dict  {480: [8], 495: [8], 510: [8, 11], 525: [8, 11]}\n",
      "LAAASSST minute:  525\n",
      "NUUUUUUMBER of charging bevs of last interval:  2\n",
      "FUEL Charging BEV:  8\n",
      "SET BEV DATA for current minute for ID BEV 8 for minute 540:  7.666666666666667\n",
      "SET BEV DATA for current minute for ID BEV 18 for minute 540:  7.666666666666667\n",
      "SET BEV DATA for current minute for ID BEV 20 for minute 540:  7.666666666666667\n",
      "Charging BEVs (nachdem neue Plätze belegt):  [8, 18, 20]\n",
      "Update currently charging bevs\n",
      "Number of charging bevs:  3\n",
      "AVAILABLE SOLAR POWER:  23.0\n",
      "Restladeenergie bis zur fairen Ladeenergie for BEV mit ID 8:  0.2699999999999978\n",
      "Restladezeit:  2.113043478260852\n",
      "Die Restladezeit des BEVS 8 endet vor dem nächsten Interval\n",
      "SET BEV DATA after charging time over for ID BEV 8 for minute 542.1130434782608:  6.71\n",
      "Ausgewähltes BEV das frei gewordenen Platz belegen darf:  22\n",
      "Ladestart für ausgewähltes BEV:  542.1130434782608\n",
      "SET BEV DATA for charging start of new bev for ID BEV 22 for minute 542.1130434782608:  7.666666666666667\n",
      "SET BEV DATA charging start between intervals for ID BEV 22 for minute 542.1130434782608:  7.666666666666667\n",
      "Update currently charging bevs\n",
      "Number of charging bevs:  3\n",
      "AVAILABLE SOLAR POWER:  23.0\n",
      "Restladeenergie bis zur fairen Ladeenergie for BEV mit ID 18:  2.9825000000000017\n",
      "Restladezeit:  23.3413043478261\n",
      "Update currently charging bevs\n",
      "Number of charging bevs:  3\n",
      "AVAILABLE SOLAR POWER:  23.0\n",
      "Restladeenergie bis zur fairen Ladeenergie for BEV mit ID 20:  4.212499999999999\n",
      "Restladezeit:  32.967391304347814\n",
      "Charging BEVs:  [8, 18, 20]\n",
      "BEVs from posti charging in next interval:  []\n",
      "CHARGING LIIIIIST to safe: [8, 18, 20] for minute 540\n",
      "\n",
      "\n",
      "Minute:  555\n",
      "Waiting BEVs:  [28, 40, 60, 61, 65, 68, 71, 3, 4, 9, 12, 14, 24, 26, 42, 66, 69, 73, 74, 2, 5, 27, 36, 41, 55, 64]\n",
      "Charging list after handling overload:  [18, 20, 22]\n",
      "Waiting BEVs after updating parking end:  [28, 40, 60, 61, 65, 68, 71, 3, 4, 9, 12, 14, 24, 26, 42, 66, 69, 73, 74, 2, 5, 27, 36, 41, 55, 64]\n",
      "Charging BEVs after updating post optimization plan and parking end:  [18, 20, 22, 72]\n",
      "charging_list_per_minute_dict  {480: [8], 495: [8], 510: [8, 11], 525: [8, 11], 540: [8, 18, 20]}\n",
      "LAAASSST minute:  540\n",
      "NUUUUUUMBER of charging bevs of last interval:  3\n",
      "FUEL Charging BEV:  18\n",
      "FUEL Charging BEV:  20\n",
      "FUEL Charging BEV:  72\n",
      "SET BEV DATA for current minute for ID BEV 18 for minute 555:  7.75\n",
      "SET BEV DATA for current minute for ID BEV 20 for minute 555:  7.75\n",
      "SET BEV DATA for current minute for ID BEV 22 for minute 555:  7.75\n",
      "SET BEV DATA for current minute for ID BEV 72 for minute 555:  7.75\n",
      "Charging BEVs (nachdem neue Plätze belegt):  [18, 20, 22, 72]\n",
      "Update currently charging bevs\n",
      "Number of charging bevs:  4\n",
      "AVAILABLE SOLAR POWER:  31.0\n",
      "Restladeenergie bis zur fairen Ladeenergie for BEV mit ID 18:  1.0658333333333352\n",
      "Restladezeit:  8.251612903225821\n",
      "Die Restladezeit des BEVS 18 endet vor dem nächsten Interval\n",
      "SET BEV DATA after charging time over for ID BEV 18 for minute 563.2516129032258:  7.85\n",
      "Ausgewähltes BEV das frei gewordenen Platz belegen darf:  28\n",
      "Ladestart für ausgewähltes BEV:  563.2516129032258\n",
      "SET BEV DATA for charging start of new bev for ID BEV 28 for minute 563.2516129032258:  7.75\n",
      "SET BEV DATA charging start between intervals for ID BEV 28 for minute 563.2516129032258:  7.75\n",
      "Update currently charging bevs\n",
      "Number of charging bevs:  4\n",
      "AVAILABLE SOLAR POWER:  31.0\n",
      "Restladeenergie bis zur fairen Ladeenergie for BEV mit ID 20:  2.2958333333333316\n",
      "Restladezeit:  17.774193548387085\n",
      "Update currently charging bevs\n",
      "Number of charging bevs:  4\n",
      "AVAILABLE SOLAR POWER:  31.0\n",
      "Restladeenergie bis zur fairen Ladeenergie for BEV mit ID 22:  0.9183333333333248\n",
      "Restladezeit:  7.109677419354773\n",
      "Die Restladezeit des BEVS 22 endet vor dem nächsten Interval\n",
      "SET BEV DATA after charging time over for ID BEV 22 for minute 562.1096774193547:  7.6975\n",
      "Ausgewähltes BEV das frei gewordenen Platz belegen darf:  40\n",
      "Ladestart für ausgewähltes BEV:  562.1096774193547\n",
      "SET BEV DATA for charging start of new bev for ID BEV 40 for minute 562.1096774193547:  7.75\n",
      "SET BEV DATA charging start between intervals for ID BEV 40 for minute 562.1096774193547:  7.75\n",
      "Update currently charging bevs\n",
      "Number of charging bevs:  4\n",
      "AVAILABLE SOLAR POWER:  31.0\n",
      "Restladeenergie bis zur fairen Ladeenergie for BEV mit ID 72:  1.4308333333333334\n",
      "Restladezeit:  11.07741935483871\n",
      "Die Restladezeit des BEVS 72 endet vor dem nächsten Interval\n",
      "SET BEV DATA after charging time over for ID BEV 72 for minute 566.0774193548388:  8.2275\n",
      "Ausgewähltes BEV das frei gewordenen Platz belegen darf:  60\n",
      "Ladestart für ausgewähltes BEV:  566.0774193548388\n",
      "SET BEV DATA for charging start of new bev for ID BEV 60 for minute 566.0774193548388:  7.75\n",
      "SET BEV DATA charging start between intervals for ID BEV 60 for minute 566.0774193548388:  7.75\n",
      "Charging BEVs:  [18, 20, 22, 72]\n",
      "BEVs from posti charging in next interval:  []\n",
      "CHARGING LIIIIIST to safe: [18, 20, 22, 72] for minute 555\n",
      "\n",
      "\n",
      "Minute:  570\n",
      "Waiting BEVs:  [61, 65, 68, 71, 3, 4, 9, 12, 14, 24, 26, 42, 66, 69, 73, 74, 2, 5, 27, 36, 41, 55, 64]\n",
      "Charging list after handling overload:  [20, 28, 40, 60]\n",
      "Waiting BEVs after updating parking end:  [61, 65, 68, 71, 3, 4, 9, 12, 14, 24, 26, 42, 66, 69, 73, 74, 2, 5, 27, 36, 41, 55, 64, 1, 48, 49]\n",
      "Charging BEVs after updating post optimization plan and parking end:  [20, 28, 40, 60]\n",
      "charging_list_per_minute_dict  {480: [8], 495: [8], 510: [8, 11], 525: [8, 11], 540: [8, 18, 20], 555: [18, 20, 22, 72]}\n",
      "LAAASSST minute:  555\n",
      "NUUUUUUMBER of charging bevs of last interval:  4\n",
      "FUEL Charging BEV:  20\n",
      "SET BEV DATA for current minute for ID BEV 20 for minute 570:  9.75\n",
      "SET BEV DATA for current minute for ID BEV 28 for minute 570:  9.75\n",
      "SET BEV DATA for current minute for ID BEV 40 for minute 570:  9.75\n",
      "SET BEV DATA for current minute for ID BEV 60 for minute 570:  9.75\n",
      "Charging BEVs (nachdem neue Plätze belegt):  [20, 28, 40, 60]\n",
      "Update currently charging bevs\n",
      "Number of charging bevs:  4\n",
      "AVAILABLE SOLAR POWER:  39.0\n",
      "Restladeenergie bis zur fairen Ladeenergie for BEV mit ID 20:  0.3583333333333316\n",
      "Restladezeit:  2.205128205128194\n",
      "Die Restladezeit des BEVS 20 endet vor dem nächsten Interval\n",
      "SET BEV DATA after charging time over for ID BEV 20 for minute 572.2051282051282:  9.045\n",
      "Ausgewähltes BEV das frei gewordenen Platz belegen darf:  61\n",
      "Ladestart für ausgewähltes BEV:  572.2051282051282\n",
      "SET BEV DATA for charging start of new bev for ID BEV 61 for minute 572.2051282051282:  9.75\n",
      "SET BEV DATA charging start between intervals for ID BEV 61 for minute 572.2051282051282:  9.75\n",
      "Update currently charging bevs\n",
      "Number of charging bevs:  4\n",
      "AVAILABLE SOLAR POWER:  39.0\n",
      "Restladeenergie bis zur fairen Ladeenergie for BEV mit ID 28:  3.9258333333333315\n",
      "Restladezeit:  24.158974358974348\n",
      "Update currently charging bevs\n",
      "Number of charging bevs:  4\n",
      "AVAILABLE SOLAR POWER:  39.0\n",
      "Restladeenergie bis zur fairen Ladeenergie for BEV mit ID 40:  4.4333333333333185\n",
      "Restladezeit:  27.282051282051192\n",
      "Update currently charging bevs\n",
      "Number of charging bevs:  4\n",
      "AVAILABLE SOLAR POWER:  39.0\n",
      "Restladeenergie bis zur fairen Ladeenergie for BEV mit ID 60:  3.890833333333337\n",
      "Restladezeit:  23.94358974358977\n",
      "Charging BEVs:  [20, 28, 40, 60]\n",
      "BEVs from posti charging in next interval:  []\n",
      "CHARGING LIIIIIST to safe: [20, 28, 40, 60] for minute 570\n",
      "\n",
      "\n",
      "Minute:  585\n",
      "Waiting BEVs:  [65, 68, 71, 3, 4, 9, 12, 14, 24, 26, 42, 66, 69, 73, 74, 2, 5, 27, 36, 41, 55, 64, 1, 48, 49]\n",
      "Charging list after handling overload:  [28, 40, 60, 61]\n",
      "Waiting BEVs after updating parking end:  [65, 68, 71, 3, 4, 9, 12, 14, 24, 26, 42, 66, 69, 73, 74, 2, 5, 27, 36, 41, 55, 64, 1, 48, 49]\n",
      "Charging BEVs after updating post optimization plan and parking end:  [28, 40, 60, 61]\n",
      "charging_list_per_minute_dict  {480: [8], 495: [8], 510: [8, 11], 525: [8, 11], 540: [8, 18, 20], 555: [18, 20, 22, 72], 570: [20, 28, 40, 60]}\n",
      "LAAASSST minute:  570\n",
      "NUUUUUUMBER of charging bevs of last interval:  4\n",
      "FUEL Charging BEV:  28\n",
      "FUEL Charging BEV:  40\n",
      "FUEL Charging BEV:  60\n",
      "SET BEV DATA for current minute for ID BEV 28 for minute 585:  9.4\n"
     ]
    },
    {
     "name": "stdout",
     "output_type": "stream",
     "text": [
      "SET BEV DATA for current minute for ID BEV 40 for minute 585:  9.4\n",
      "SET BEV DATA for current minute for ID BEV 60 for minute 585:  9.4\n",
      "SET BEV DATA for current minute for ID BEV 61 for minute 585:  9.4\n",
      "SET BEV DATA for current minute for ID BEV 65 for minute 585:  9.4\n",
      "Charging BEVs (nachdem neue Plätze belegt):  [28, 40, 60, 61, 65]\n",
      "Update currently charging bevs\n",
      "Number of charging bevs:  5\n",
      "AVAILABLE SOLAR POWER:  47.0\n",
      "Restladeenergie bis zur fairen Ladeenergie for BEV mit ID 28:  1.4883333333333315\n",
      "Restladezeit:  9.499999999999988\n",
      "Die Restladezeit des BEVS 28 endet vor dem nächsten Interval\n",
      "SET BEV DATA after charging time over for ID BEV 28 for minute 594.5:  9.614\n",
      "Ausgewähltes BEV das frei gewordenen Platz belegen darf:  68\n",
      "Ladestart für ausgewähltes BEV:  594.5\n",
      "SET BEV DATA for charging start of new bev for ID BEV 68 for minute 594.5:  9.4\n",
      "SET BEV DATA charging start between intervals for ID BEV 68 for minute 594.5:  9.4\n",
      "Update currently charging bevs\n",
      "Number of charging bevs:  5\n",
      "AVAILABLE SOLAR POWER:  47.0\n",
      "Restladeenergie bis zur fairen Ladeenergie for BEV mit ID 40:  1.9958333333333185\n",
      "Restladezeit:  12.739361702127564\n",
      "Die Restladezeit des BEVS 40 endet vor dem nächsten Interval\n",
      "SET BEV DATA after charging time over for ID BEV 40 for minute 597.7393617021276:  9.958\n",
      "Ausgewähltes BEV das frei gewordenen Platz belegen darf:  71\n",
      "Ladestart für ausgewähltes BEV:  597.7393617021276\n",
      "SET BEV DATA for charging start of new bev for ID BEV 71 for minute 597.7393617021276:  9.4\n",
      "SET BEV DATA charging start between intervals for ID BEV 71 for minute 597.7393617021276:  9.4\n",
      "Update currently charging bevs\n",
      "Number of charging bevs:  5\n",
      "AVAILABLE SOLAR POWER:  47.0\n",
      "Restladeenergie bis zur fairen Ladeenergie for BEV mit ID 60:  1.4533333333333371\n",
      "Restladezeit:  9.276595744680874\n",
      "Die Restladezeit des BEVS 60 endet vor dem nächsten Interval\n",
      "SET BEV DATA after charging time over for ID BEV 60 for minute 594.2765957446809:  9.59\n",
      "Ausgewähltes BEV das frei gewordenen Platz belegen darf:  3\n",
      "Ladestart für ausgewähltes BEV:  594.2765957446809\n",
      "SET BEV DATA for charging start of new bev for ID BEV 3 for minute 594.2765957446809:  9.4\n",
      "SET BEV DATA charging start between intervals for ID BEV 3 for minute 594.2765957446809:  9.4\n",
      "Update currently charging bevs\n",
      "Number of charging bevs:  5\n",
      "AVAILABLE SOLAR POWER:  47.0\n",
      "Restladeenergie bis zur fairen Ladeenergie for BEV mit ID 61:  1.053333333333328\n",
      "Restladezeit:  6.723404255319114\n",
      "Die Restladezeit des BEVS 61 endet vor dem nächsten Interval\n",
      "SET BEV DATA after charging time over for ID BEV 61 for minute 591.7234042553191:  9.318000000000001\n",
      "Ausgewähltes BEV das frei gewordenen Platz belegen darf:  4\n",
      "Ladestart für ausgewähltes BEV:  591.7234042553191\n",
      "SET BEV DATA for charging start of new bev for ID BEV 4 for minute 591.7234042553191:  9.4\n",
      "SET BEV DATA charging start between intervals for ID BEV 4 for minute 591.7234042553191:  9.4\n",
      "Update currently charging bevs\n",
      "Number of charging bevs:  5\n",
      "AVAILABLE SOLAR POWER:  47.0\n",
      "Restladeenergie bis zur fairen Ladeenergie for BEV mit ID 65:  4.042499999999999\n",
      "Restladezeit:  25.803191489361694\n",
      "Charging BEVs:  [28, 40, 60, 61, 65]\n",
      "BEVs from posti charging in next interval:  []\n",
      "CHARGING LIIIIIST to safe: [28, 40, 60, 61, 65] for minute 585\n",
      "\n",
      "\n",
      "Minute:  600\n",
      "Waiting BEVs:  [9, 12, 14, 24, 26, 42, 66, 69, 73, 74, 2, 5, 27, 36, 41, 55, 64, 1, 48, 49]\n",
      "Charging list after handling overload:  [65, 68, 71, 3, 4]\n",
      "Waiting BEVs after updating parking end:  [9, 12, 14, 24, 26, 42, 66, 69, 73, 74, 2, 5, 27, 36, 41, 55, 64, 1, 48, 49]\n",
      "Charging BEVs after updating post optimization plan and parking end:  [65, 68, 71, 3, 4]\n",
      "charging_list_per_minute_dict  {480: [8], 495: [8], 510: [8, 11], 525: [8, 11], 540: [8, 18, 20], 555: [18, 20, 22, 72], 570: [20, 28, 40, 60], 585: [28, 40, 60, 61, 65]}\n",
      "LAAASSST minute:  585\n",
      "NUUUUUUMBER of charging bevs of last interval:  5\n",
      "FUEL Charging BEV:  65\n",
      "SET BEV DATA for current minute for ID BEV 65 for minute 600:  10.176\n",
      "SET BEV DATA for current minute for ID BEV 68 for minute 600:  10.176\n",
      "SET BEV DATA for current minute for ID BEV 71 for minute 600:  10.176\n",
      "SET BEV DATA for current minute for ID BEV 3 for minute 600:  10.176\n",
      "SET BEV DATA for current minute for ID BEV 4 for minute 600:  10.176\n",
      "Charging BEVs (nachdem neue Plätze belegt):  [65, 68, 71, 3, 4]\n",
      "Update currently charging bevs\n",
      "Number of charging bevs:  5\n",
      "AVAILABLE SOLAR POWER:  50.88\n",
      "Restladeenergie bis zur fairen Ladeenergie for BEV mit ID 65:  1.6924999999999986\n",
      "Restladezeit:  9.979363207547161\n",
      "Die Restladezeit des BEVS 65 endet vor dem nächsten Interval\n",
      "SET BEV DATA after charging time over for ID BEV 65 for minute 609.9793632075472:  10.166\n",
      "Ausgewähltes BEV das frei gewordenen Platz belegen darf:  9\n",
      "Ladestart für ausgewähltes BEV:  609.9793632075472\n",
      "SET BEV DATA for charging start of new bev for ID BEV 9 for minute 609.9793632075472:  10.176\n",
      "SET BEV DATA charging start between intervals for ID BEV 9 for minute 609.9793632075472:  10.176\n",
      "Update currently charging bevs\n",
      "Number of charging bevs:  5\n",
      "AVAILABLE SOLAR POWER:  50.88\n",
      "Restladeenergie bis zur fairen Ladeenergie for BEV mit ID 68:  3.5358333333333314\n",
      "Restladezeit:  20.84807389937106\n",
      "Update currently charging bevs\n",
      "Number of charging bevs:  5\n",
      "AVAILABLE SOLAR POWER:  50.88\n",
      "Restladeenergie bis zur fairen Ladeenergie for BEV mit ID 71:  5.290833333333314\n",
      "Restladezeit:  31.195951257861523\n",
      "Update currently charging bevs\n",
      "Number of charging bevs:  5\n",
      "AVAILABLE SOLAR POWER:  50.88\n",
      "Restladeenergie bis zur fairen Ladeenergie for BEV mit ID 3:  2.843333333333339\n",
      "Restladezeit:  16.76493710691827\n",
      "Update currently charging bevs\n",
      "Number of charging bevs:  5\n",
      "AVAILABLE SOLAR POWER:  50.88\n",
      "Restladeenergie bis zur fairen Ladeenergie for BEV mit ID 4:  3.385833333333327\n",
      "Restladezeit:  19.963639937106883\n",
      "Charging BEVs:  [65, 68, 71, 3, 4]\n",
      "BEVs from posti charging in next interval:  []\n",
      "CHARGING LIIIIIST to safe: [65, 68, 71, 3, 4] for minute 600\n",
      "\n",
      "\n",
      "Minute:  615\n",
      "Waiting BEVs:  [12, 14, 24, 26, 42, 66, 69, 73, 74, 2, 5, 27, 36, 41, 55, 64, 1, 48, 49]\n",
      "Charging list after handling overload:  [68, 71, 3, 4, 9]\n",
      "Waiting BEVs after updating parking end:  [12, 14, 24, 26, 42, 66, 69, 73, 74, 2, 5, 27, 36, 41, 55, 64, 1, 48, 49]\n",
      "Charging BEVs after updating post optimization plan and parking end:  [68, 71, 3, 4, 9]\n",
      "charging_list_per_minute_dict  {480: [8], 495: [8], 510: [8, 11], 525: [8, 11], 540: [8, 18, 20], 555: [18, 20, 22, 72], 570: [20, 28, 40, 60], 585: [28, 40, 60, 61, 65], 600: [65, 68, 71, 3, 4]}\n",
      "LAAASSST minute:  600\n",
      "NUUUUUUMBER of charging bevs of last interval:  5\n",
      "FUEL Charging BEV:  68\n",
      "FUEL Charging BEV:  71\n",
      "FUEL Charging BEV:  3\n",
      "FUEL Charging BEV:  4\n",
      "SET BEV DATA for current minute for ID BEV 68 for minute 615:  10.123999999999999\n",
      "SET BEV DATA for current minute for ID BEV 71 for minute 615:  10.123999999999999\n",
      "SET BEV DATA for current minute for ID BEV 3 for minute 615:  10.123999999999999\n",
      "SET BEV DATA for current minute for ID BEV 4 for minute 615:  10.123999999999999\n",
      "SET BEV DATA for current minute for ID BEV 9 for minute 615:  10.123999999999999\n",
      "Charging BEVs (nachdem neue Plätze belegt):  [68, 71, 3, 4, 9]\n",
      "Update currently charging bevs\n",
      "Number of charging bevs:  5\n",
      "AVAILABLE SOLAR POWER:  50.62\n",
      "Restladeenergie bis zur fairen Ladeenergie for BEV mit ID 68:  0.9918333333333313\n",
      "Restladezeit:  5.878111418411684\n",
      "Die Restladezeit des BEVS 68 endet vor dem nächsten Interval\n",
      "SET BEV DATA after charging time over for ID BEV 68 for minute 620.8781114184117:  10.129999999999999\n",
      "Ausgewähltes BEV das frei gewordenen Platz belegen darf:  12\n",
      "Ladestart für ausgewähltes BEV:  620.8781114184117\n",
      "SET BEV DATA for charging start of new bev for ID BEV 12 for minute 620.8781114184117:  10.123999999999999\n",
      "SET BEV DATA charging start between intervals for ID BEV 12 for minute 620.8781114184117:  10.123999999999999\n",
      "Update currently charging bevs\n",
      "Number of charging bevs:  5\n",
      "AVAILABLE SOLAR POWER:  50.62\n",
      "Restladeenergie bis zur fairen Ladeenergie for BEV mit ID 71:  2.7468333333333144\n",
      "Restladezeit:  16.27913868036338\n",
      "Update currently charging bevs\n",
      "Number of charging bevs:  5\n",
      "AVAILABLE SOLAR POWER:  50.62\n",
      "Restladeenergie bis zur fairen Ladeenergie for BEV mit ID 3:  0.299333333333339\n",
      "Restladezeit:  1.774002370604538\n",
      "Die Restladezeit des BEVS 3 endet vor dem nächsten Interval\n",
      "SET BEV DATA after charging time over for ID BEV 3 for minute 616.7740023706045:  10.144\n",
      "Ausgewähltes BEV das frei gewordenen Platz belegen darf:  14\n",
      "Ladestart für ausgewähltes BEV:  616.7740023706045\n",
      "SET BEV DATA for charging start of new bev for ID BEV 14 for minute 616.7740023706045:  10.123999999999999\n",
      "SET BEV DATA charging start between intervals for ID BEV 14 for minute 616.7740023706045:  10.123999999999999\n",
      "Update currently charging bevs\n",
      "Number of charging bevs:  5\n",
      "AVAILABLE SOLAR POWER:  50.62\n",
      "Restladeenergie bis zur fairen Ladeenergie for BEV mit ID 4:  0.8418333333333274\n",
      "Restladezeit:  4.989134729355952\n",
      "Die Restladezeit des BEVS 4 endet vor dem nächsten Interval\n",
      "SET BEV DATA after charging time over for ID BEV 4 for minute 619.9891347293559:  10.134\n",
      "Ausgewähltes BEV das frei gewordenen Platz belegen darf:  24\n",
      "Ladestart für ausgewähltes BEV:  619.9891347293559\n",
      "SET BEV DATA for charging start of new bev for ID BEV 24 for minute 619.9891347293559:  10.123999999999999\n",
      "SET BEV DATA charging start between intervals for ID BEV 24 for minute 619.9891347293559:  10.123999999999999\n",
      "Update currently charging bevs\n",
      "Number of charging bevs:  5\n",
      "AVAILABLE SOLAR POWER:  50.62\n",
      "Restladeenergie bis zur fairen Ladeenergie for BEV mit ID 9:  2.433500000000002\n",
      "Restladezeit:  14.422165152113804\n",
      "Die Restladezeit des BEVS 9 endet vor dem nächsten Interval\n",
      "SET BEV DATA after charging time over for ID BEV 9 for minute 629.4221651521138:  10.102\n",
      "Ausgewähltes BEV das frei gewordenen Platz belegen darf:  26\n",
      "Ladestart für ausgewähltes BEV:  629.4221651521138\n",
      "SET BEV DATA for charging start of new bev for ID BEV 26 for minute 629.4221651521138:  10.123999999999999\n",
      "SET BEV DATA charging start between intervals for ID BEV 26 for minute 629.4221651521138:  10.123999999999999\n",
      "Charging BEVs:  [68, 71, 3, 4, 9]\n",
      "BEVs from posti charging in next interval:  []\n",
      "CHARGING LIIIIIST to safe: [68, 71, 3, 4, 9] for minute 615\n",
      "\n",
      "\n",
      "Minute:  630\n",
      "Waiting BEVs:  [42, 66, 69, 73, 74, 2, 5, 27, 36, 41, 55, 64, 1, 48, 49]\n",
      "Charging list after handling overload:  [71, 12, 14, 24, 26]\n",
      "Waiting BEVs after updating parking end:  [42, 66, 69, 73, 74, 2, 5, 27, 36, 41, 55, 64, 1, 48, 49]\n",
      "Charging BEVs after updating post optimization plan and parking end:  [71, 12, 14, 24, 26]\n",
      "charging_list_per_minute_dict  {480: [8], 495: [8], 510: [8, 11], 525: [8, 11], 540: [8, 18, 20], 555: [18, 20, 22, 72], 570: [20, 28, 40, 60], 585: [28, 40, 60, 61, 65], 600: [65, 68, 71, 3, 4], 615: [68, 71, 3, 4, 9]}\n",
      "LAAASSST minute:  615\n",
      "NUUUUUUMBER of charging bevs of last interval:  5\n",
      "FUEL Charging BEV:  71\n",
      "SET BEV DATA for current minute for ID BEV 71 for minute 630:  10.076\n"
     ]
    },
    {
     "name": "stdout",
     "output_type": "stream",
     "text": [
      "SET BEV DATA for current minute for ID BEV 12 for minute 630:  10.076\n",
      "SET BEV DATA for current minute for ID BEV 14 for minute 630:  10.076\n",
      "SET BEV DATA for current minute for ID BEV 24 for minute 630:  10.076\n",
      "SET BEV DATA for current minute for ID BEV 26 for minute 630:  10.076\n",
      "Charging BEVs (nachdem neue Plätze belegt):  [71, 12, 14, 24, 26]\n",
      "Update currently charging bevs\n",
      "Number of charging bevs:  5\n",
      "AVAILABLE SOLAR POWER:  50.38\n",
      "Restladeenergie bis zur fairen Ladeenergie for BEV mit ID 71:  0.21583333333331467\n",
      "Restladezeit:  1.285232235013783\n",
      "Die Restladezeit des BEVS 71 endet vor dem nächsten Interval\n",
      "SET BEV DATA after charging time over for ID BEV 71 for minute 631.2852322350138:  10.096\n",
      "Ausgewähltes BEV das frei gewordenen Platz belegen darf:  42\n",
      "Ladestart für ausgewähltes BEV:  631.2852322350138\n",
      "SET BEV DATA for charging start of new bev for ID BEV 42 for minute 631.2852322350138:  10.076\n",
      "SET BEV DATA charging start between intervals for ID BEV 42 for minute 631.2852322350138:  10.076\n",
      "Update currently charging bevs\n",
      "Number of charging bevs:  5\n",
      "AVAILABLE SOLAR POWER:  50.38\n",
      "Restladeenergie bis zur fairen Ladeenergie for BEV mit ID 12:  3.898333333333327\n",
      "Restladezeit:  23.213576816196866\n",
      "Update currently charging bevs\n",
      "Number of charging bevs:  5\n",
      "AVAILABLE SOLAR POWER:  50.38\n",
      "Restladeenergie bis zur fairen Ladeenergie for BEV mit ID 14:  2.245833333333339\n",
      "Restladezeit:  13.37336244541488\n",
      "Die Restladezeit des BEVS 14 endet vor dem nächsten Interval\n",
      "SET BEV DATA after charging time over for ID BEV 14 for minute 643.3733624454148:  10.056000000000001\n",
      "Ausgewähltes BEV das frei gewordenen Platz belegen darf:  66\n",
      "Ladestart für ausgewähltes BEV:  643.3733624454148\n",
      "SET BEV DATA for charging start of new bev for ID BEV 66 for minute 643.3733624454148:  10.076\n",
      "SET BEV DATA charging start between intervals for ID BEV 66 for minute 643.3733624454148:  10.076\n",
      "Update currently charging bevs\n",
      "Number of charging bevs:  5\n",
      "AVAILABLE SOLAR POWER:  50.38\n",
      "Restladeenergie bis zur fairen Ladeenergie for BEV mit ID 24:  2.993333333333319\n",
      "Restladezeit:  17.824533545057477\n",
      "Update currently charging bevs\n",
      "Number of charging bevs:  5\n",
      "AVAILABLE SOLAR POWER:  50.38\n",
      "Restladeenergie bis zur fairen Ladeenergie for BEV mit ID 26:  2.63000000000001\n",
      "Restladezeit:  15.660976578007205\n",
      "Charging BEVs:  [71, 12, 14, 24, 26]\n",
      "BEVs from posti charging in next interval:  []\n",
      "CHARGING LIIIIIST to safe: [71, 12, 14, 24, 26] for minute 630\n",
      "\n",
      "\n",
      "Minute:  645\n",
      "Waiting BEVs:  [69, 73, 74, 2, 5, 27, 36, 41, 55, 64, 1, 48, 49]\n",
      "Charging list after handling overload:  [12, 24, 26, 42, 66]\n",
      "Waiting BEVs after updating parking end:  [69, 73, 74, 2, 5, 27, 36, 41, 55, 64, 1, 48, 49]\n",
      "Charging BEVs after updating post optimization plan and parking end:  [12, 24, 26, 42, 66]\n",
      "charging_list_per_minute_dict  {480: [8], 495: [8], 510: [8, 11], 525: [8, 11], 540: [8, 18, 20], 555: [18, 20, 22, 72], 570: [20, 28, 40, 60], 585: [28, 40, 60, 61, 65], 600: [65, 68, 71, 3, 4], 615: [68, 71, 3, 4, 9], 630: [71, 12, 14, 24, 26]}\n",
      "LAAASSST minute:  630\n",
      "NUUUUUUMBER of charging bevs of last interval:  5\n",
      "FUEL Charging BEV:  12\n",
      "FUEL Charging BEV:  24\n",
      "FUEL Charging BEV:  26\n",
      "SET BEV DATA for current minute for ID BEV 12 for minute 645:  10.024\n",
      "SET BEV DATA for current minute for ID BEV 24 for minute 645:  10.024\n",
      "SET BEV DATA for current minute for ID BEV 26 for minute 645:  10.024\n",
      "SET BEV DATA for current minute for ID BEV 42 for minute 645:  10.024\n",
      "SET BEV DATA for current minute for ID BEV 66 for minute 645:  10.024\n",
      "Charging BEVs (nachdem neue Plätze belegt):  [12, 24, 26, 42, 66]\n",
      "Update currently charging bevs\n",
      "Number of charging bevs:  5\n",
      "AVAILABLE SOLAR POWER:  50.12\n",
      "Restladeenergie bis zur fairen Ladeenergie for BEV mit ID 12:  1.379333333333327\n",
      "Restladezeit:  8.25618515562646\n",
      "Die Restladezeit des BEVS 12 endet vor dem nächsten Interval\n",
      "SET BEV DATA after charging time over for ID BEV 12 for minute 653.2561851556264:  10.022\n",
      "Ausgewähltes BEV das frei gewordenen Platz belegen darf:  69\n",
      "Ladestart für ausgewähltes BEV:  653.2561851556264\n",
      "SET BEV DATA for charging start of new bev for ID BEV 69 for minute 653.2561851556264:  10.024\n",
      "SET BEV DATA charging start between intervals for ID BEV 69 for minute 653.2561851556264:  10.024\n",
      "Update currently charging bevs\n",
      "Number of charging bevs:  5\n",
      "AVAILABLE SOLAR POWER:  50.12\n",
      "Restladeenergie bis zur fairen Ladeenergie for BEV mit ID 24:  0.47433333333331884\n",
      "Restladezeit:  2.8391859537110067\n",
      "Die Restladezeit des BEVS 24 endet vor dem nächsten Interval\n",
      "SET BEV DATA after charging time over for ID BEV 24 for minute 647.839185953711:  10.040000000000001\n",
      "Ausgewähltes BEV das frei gewordenen Platz belegen darf:  73\n",
      "Ladestart für ausgewähltes BEV:  647.839185953711\n",
      "SET BEV DATA for charging start of new bev for ID BEV 73 for minute 647.839185953711:  10.024\n",
      "SET BEV DATA charging start between intervals for ID BEV 73 for minute 647.839185953711:  10.024\n",
      "Update currently charging bevs\n",
      "Number of charging bevs:  5\n",
      "AVAILABLE SOLAR POWER:  50.12\n",
      "Restladeenergie bis zur fairen Ladeenergie for BEV mit ID 26:  0.11100000000000998\n",
      "Restladezeit:  0.6644054269753192\n",
      "Die Restladezeit des BEVS 26 endet vor dem nächsten Interval\n",
      "SET BEV DATA after charging time over for ID BEV 26 for minute 645.6644054269753:  10.048\n",
      "Ausgewähltes BEV das frei gewordenen Platz belegen darf:  74\n",
      "Ladestart für ausgewähltes BEV:  645.6644054269753\n",
      "SET BEV DATA for charging start of new bev for ID BEV 74 for minute 645.6644054269753:  10.024\n",
      "SET BEV DATA charging start between intervals for ID BEV 74 for minute 645.6644054269753:  10.024\n",
      "Update currently charging bevs\n",
      "Number of charging bevs:  5\n",
      "AVAILABLE SOLAR POWER:  50.12\n",
      "Restladeenergie bis zur fairen Ladeenergie for BEV mit ID 42:  1.4368333333333232\n",
      "Restladezeit:  8.600359138068574\n",
      "Die Restladezeit des BEVS 42 endet vor dem nächsten Interval\n",
      "SET BEV DATA after charging time over for ID BEV 42 for minute 653.6003591380686:  10.022\n",
      "Ausgewähltes BEV das frei gewordenen Platz belegen darf:  2\n",
      "Ladestart für ausgewähltes BEV:  653.6003591380686\n",
      "SET BEV DATA for charging start of new bev for ID BEV 2 for minute 653.6003591380686:  10.024\n",
      "SET BEV DATA charging start between intervals for ID BEV 2 for minute 653.6003591380686:  10.024\n",
      "Update currently charging bevs\n",
      "Number of charging bevs:  5\n",
      "AVAILABLE SOLAR POWER:  50.12\n",
      "Restladeenergie bis zur fairen Ladeenergie for BEV mit ID 66:  4.791833333333332\n",
      "Restladezeit:  28.68216280925778\n",
      "Charging BEVs:  [12, 24, 26, 42, 66]\n",
      "BEVs from posti charging in next interval:  []\n",
      "CHARGING LIIIIIST to safe: [12, 24, 26, 42, 66] for minute 645\n",
      "\n",
      "\n",
      "Minute:  660\n",
      "Waiting BEVs:  [5, 27, 36, 41, 55, 64, 1, 48, 49]\n",
      "Charging list after handling overload:  [66, 69, 73, 74, 2]\n",
      "Waiting BEVs after updating parking end:  [5, 27, 36, 41, 55, 64, 1, 48, 49]\n",
      "Charging BEVs after updating post optimization plan and parking end:  [66, 69, 73, 74, 2]\n",
      "charging_list_per_minute_dict  {480: [8], 495: [8], 510: [8, 11], 525: [8, 11], 540: [8, 18, 20], 555: [18, 20, 22, 72], 570: [20, 28, 40, 60], 585: [28, 40, 60, 61, 65], 600: [65, 68, 71, 3, 4], 615: [68, 71, 3, 4, 9], 630: [71, 12, 14, 24, 26], 645: [12, 24, 26, 42, 66]}\n",
      "LAAASSST minute:  645\n",
      "NUUUUUUMBER of charging bevs of last interval:  5\n",
      "FUEL Charging BEV:  66\n",
      "SET BEV DATA for current minute for ID BEV 66 for minute 660:  10.123999999999999\n",
      "SET BEV DATA for current minute for ID BEV 69 for minute 660:  10.123999999999999\n",
      "SET BEV DATA for current minute for ID BEV 73 for minute 660:  10.123999999999999\n",
      "SET BEV DATA for current minute for ID BEV 74 for minute 660:  10.123999999999999\n",
      "SET BEV DATA for current minute for ID BEV 2 for minute 660:  10.123999999999999\n",
      "Charging BEVs (nachdem neue Plätze belegt):  [66, 69, 73, 74, 2]\n",
      "Update currently charging bevs\n",
      "Number of charging bevs:  5\n",
      "AVAILABLE SOLAR POWER:  50.62\n",
      "Restladeenergie bis zur fairen Ladeenergie for BEV mit ID 66:  2.285833333333332\n",
      "Restladezeit:  13.547016989332272\n",
      "Die Restladezeit des BEVS 66 endet vor dem nächsten Interval\n",
      "SET BEV DATA after charging time over for ID BEV 66 for minute 673.5470169893323:  10.226\n",
      "Ausgewähltes BEV das frei gewordenen Platz belegen darf:  5\n",
      "Ladestart für ausgewähltes BEV:  673.5470169893323\n",
      "SET BEV DATA for charging start of new bev for ID BEV 5 for minute 673.5470169893323:  10.123999999999999\n",
      "SET BEV DATA charging start between intervals for ID BEV 5 for minute 673.5470169893323:  10.123999999999999\n",
      "Update currently charging bevs\n",
      "Number of charging bevs:  5\n",
      "AVAILABLE SOLAR POWER:  50.62\n",
      "Restladeenergie bis zur fairen Ladeenergie for BEV mit ID 69:  2.6133333333333235\n",
      "Restladezeit:  15.487949427103855\n",
      "Update currently charging bevs\n",
      "Number of charging bevs:  5\n",
      "AVAILABLE SOLAR POWER:  50.62\n",
      "Restladeenergie bis zur fairen Ladeenergie for BEV mit ID 73:  1.2533333333333125\n",
      "Restladezeit:  7.427894112998692\n",
      "Die Restladezeit des BEVS 73 endet vor dem nächsten Interval\n",
      "SET BEV DATA after charging time over for ID BEV 73 for minute 667.4278941129987:  10.123999999999999\n",
      "Ausgewähltes BEV das frei gewordenen Platz belegen darf:  27\n",
      "Ladestart für ausgewähltes BEV:  667.4278941129987\n",
      "SET BEV DATA for charging start of new bev for ID BEV 27 for minute 667.4278941129987:  10.123999999999999\n",
      "SET BEV DATA charging start between intervals for ID BEV 27 for minute 667.4278941129987:  10.123999999999999\n",
      "Update currently charging bevs\n",
      "Number of charging bevs:  5\n",
      "AVAILABLE SOLAR POWER:  50.62\n",
      "Restladeenergie bis zur fairen Ladeenergie for BEV mit ID 74:  1.8875000000000153\n",
      "Restladezeit:  11.186290003951099\n",
      "Die Restladezeit des BEVS 74 endet vor dem nächsten Interval\n",
      "SET BEV DATA after charging time over for ID BEV 74 for minute 671.1862900039511:  10.186\n",
      "Ausgewähltes BEV das frei gewordenen Platz belegen darf:  36\n",
      "Ladestart für ausgewähltes BEV:  671.1862900039511\n",
      "SET BEV DATA for charging start of new bev for ID BEV 36 for minute 671.1862900039511:  10.123999999999999\n",
      "SET BEV DATA charging start between intervals for ID BEV 36 for minute 671.1862900039511:  10.123999999999999\n",
      "Update currently charging bevs\n",
      "Number of charging bevs:  5\n",
      "AVAILABLE SOLAR POWER:  50.62\n",
      "Restladeenergie bis zur fairen Ladeenergie for BEV mit ID 2:  2.278333333333327\n",
      "Restladezeit:  13.502568154879459\n",
      "Die Restladezeit des BEVS 2 endet vor dem nächsten Interval\n",
      "SET BEV DATA after charging time over for ID BEV 2 for minute 673.5025681548794:  10.226\n",
      "Ausgewähltes BEV das frei gewordenen Platz belegen darf:  41\n",
      "Ladestart für ausgewähltes BEV:  673.5025681548794\n",
      "SET BEV DATA for charging start of new bev for ID BEV 41 for minute 673.5025681548794:  10.123999999999999\n",
      "SET BEV DATA charging start between intervals for ID BEV 41 for minute 673.5025681548794:  10.123999999999999\n",
      "Charging BEVs:  [66, 69, 73, 74, 2]\n",
      "BEVs from posti charging in next interval:  []\n",
      "CHARGING LIIIIIST to safe: [66, 69, 73, 74, 2] for minute 660\n",
      "\n",
      "\n",
      "Minute:  675\n",
      "Waiting BEVs:  [55, 64, 1, 48, 49]\n",
      "SET BEV DATA after charging time over for ID BEV 69 for minute 675:  10.25\n",
      "Removed from charging list because of overload:  69\n",
      "Charging list after handling overload:  [5, 27, 36, 41]\n",
      "SET BEV DATA charging start between intervals for ID BEV 38 for minute 687.7374018285749:  10.376000000000001\n",
      "Waiting BEVs after updating parking end:  [55, 64, 1, 48, 49]\n"
     ]
    },
    {
     "name": "stdout",
     "output_type": "stream",
     "text": [
      "Charging BEVs after updating post optimization plan and parking end:  [5, 27, 36, 41]\n",
      "charging_list_per_minute_dict  {480: [8], 495: [8], 510: [8, 11], 525: [8, 11], 540: [8, 18, 20], 555: [18, 20, 22, 72], 570: [20, 28, 40, 60], 585: [28, 40, 60, 61, 65], 600: [65, 68, 71, 3, 4], 615: [68, 71, 3, 4, 9], 630: [71, 12, 14, 24, 26], 645: [12, 24, 26, 42, 66], 660: [66, 69, 73, 74, 2]}\n",
      "LAAASSST minute:  660\n",
      "NUUUUUUMBER of charging bevs of last interval:  5\n",
      "SET BEV DATA for current minute for ID BEV 5 for minute 675:  10.376000000000001\n",
      "SET BEV DATA for current minute for ID BEV 27 for minute 675:  10.376000000000001\n",
      "SET BEV DATA for current minute for ID BEV 36 for minute 675:  10.376000000000001\n",
      "SET BEV DATA for current minute for ID BEV 41 for minute 675:  10.376000000000001\n",
      "Charging BEVs (nachdem neue Plätze belegt):  [5, 27, 36, 41]\n",
      "Update currently charging bevs\n",
      "Number of charging bevs:  5\n",
      "AVAILABLE SOLAR POWER:  51.88\n",
      "Restladeenergie bis zur fairen Ladeenergie for BEV mit ID 5:  5.172333333333335\n",
      "Restladezeit:  29.909406322282198\n",
      "Update currently charging bevs\n",
      "Number of charging bevs:  5\n",
      "AVAILABLE SOLAR POWER:  51.88\n",
      "Restladeenergie bis zur fairen Ladeenergie for BEV mit ID 27:  2.807333333333319\n",
      "Restladezeit:  16.233616037008396\n",
      "Update currently charging bevs\n",
      "Number of charging bevs:  5\n",
      "AVAILABLE SOLAR POWER:  51.88\n",
      "Restladeenergie bis zur fairen Ladeenergie for BEV mit ID 36:  3.2565000000000084\n",
      "Restladezeit:  18.83095605242873\n",
      "Update currently charging bevs\n",
      "Number of charging bevs:  5\n",
      "AVAILABLE SOLAR POWER:  51.88\n",
      "Restladeenergie bis zur fairen Ladeenergie for BEV mit ID 41:  4.764833333333325\n",
      "Restladezeit:  27.553006939090157\n",
      "Charging BEVs:  [5, 27, 36, 41]\n",
      "BEVs from posti charging in next interval:  [38]\n",
      "CHARGING LIIIIIST to safe: [5, 27, 36, 41, 38] for minute 675\n",
      "\n",
      "\n",
      "Minute:  690\n",
      "Waiting BEVs:  [55, 64, 1, 48, 49]\n",
      "SET BEV DATA after charging time over for ID BEV 5 for minute 690:  10.5\n",
      "Removed from charging list because of overload:  5\n",
      "SET BEV DATA after charging time over for ID BEV 27 for minute 690:  10.5\n",
      "Removed from charging list because of overload:  27\n",
      "SET BEV DATA after charging time over for ID BEV 36 for minute 690:  10.5\n",
      "Removed from charging list because of overload:  36\n",
      "Charging list after handling overload:  [41, 38]\n",
      "SET BEV DATA charging start between intervals for ID BEV 0 for minute 691.500684957718:  10.623999999999999\n",
      "SET BEV DATA charging start between intervals for ID BEV 54 for minute 691.1726694576889:  10.623999999999999\n",
      "SET BEV DATA charging start between intervals for ID BEV 57 for minute 690.945265571045:  10.623999999999999\n",
      "Waiting BEVs after updating parking end:  [55, 64, 1, 48, 49]\n",
      "Charging BEVs after updating post optimization plan and parking end:  [41, 38]\n",
      "charging_list_per_minute_dict  {480: [8], 495: [8], 510: [8, 11], 525: [8, 11], 540: [8, 18, 20], 555: [18, 20, 22, 72], 570: [20, 28, 40, 60], 585: [28, 40, 60, 61, 65], 600: [65, 68, 71, 3, 4], 615: [68, 71, 3, 4, 9], 630: [71, 12, 14, 24, 26], 645: [12, 24, 26, 42, 66], 660: [66, 69, 73, 74, 2], 675: [5, 27, 36, 41, 38]}\n",
      "LAAASSST minute:  675\n",
      "NUUUUUUMBER of charging bevs of last interval:  5\n",
      "FUEL Charging BEV:  41\n",
      "SET BEV DATA for current minute for ID BEV 41 for minute 690:  10.623999999999999\n",
      "SET BEV DATA for current minute for ID BEV 38 for minute 690:  10.623999999999999\n",
      "Charging BEVs (nachdem neue Plätze belegt):  [41, 38]\n",
      "Update currently charging bevs\n",
      "Number of charging bevs:  5\n",
      "AVAILABLE SOLAR POWER:  53.12\n",
      "Restladeenergie bis zur fairen Ladeenergie for BEV mit ID 41:  2.170833333333324\n",
      "Restladezeit:  12.259977409638504\n",
      "Die Restladezeit des BEVS 41 endet vor dem nächsten Interval\n",
      "SET BEV DATA after charging time over for ID BEV 41 for minute 702.2599774096385:  10.704\n",
      "Ausgewähltes BEV das frei gewordenen Platz belegen darf:  55\n",
      "Ladestart für ausgewähltes BEV:  702.2599774096385\n",
      "SET BEV DATA for charging start of new bev for ID BEV 55 for minute 702.2599774096385:  10.623999999999999\n",
      "SET BEV DATA charging start between intervals for ID BEV 55 for minute 702.2599774096385:  10.623999999999999\n",
      "Update currently charging bevs\n",
      "Number of charging bevs:  5\n",
      "AVAILABLE SOLAR POWER:  53.12\n",
      "Restladeenergie bis zur fairen Ladeenergie for BEV mit ID 38:  4.6737213562215505\n",
      "Restladezeit:  26.395263683480145\n",
      "Charging BEVs:  [41, 38]\n",
      "BEVs from posti charging in next interval:  [0, 54, 57]\n",
      "CHARGING LIIIIIST to safe: [41, 38, 0, 54, 57] for minute 690\n",
      "\n",
      "\n",
      "Minute:  705\n",
      "Waiting BEVs:  [64, 1, 48, 49]\n",
      "SET BEV DATA after charging time over for ID BEV 38 for minute 705:  10.75\n",
      "Removed from charging list because of overload:  38\n",
      "SET BEV DATA after charging time over for ID BEV 0 for minute 705:  10.75\n",
      "Removed from charging list because of overload:  0\n",
      "SET BEV DATA after charging time over for ID BEV 54 for minute 705:  10.75\n",
      "Removed from charging list because of overload:  54\n",
      "Charging list after handling overload:  [57, 55]\n",
      "BEV 0 CHARGING END FROM POST OPTI in minute\n",
      "BEV 38 CHARGING END FROM POST OPTI in minute\n",
      "SET BEV DATA charging start between intervals for ID BEV 52 for minute 710.2365014242808:  10.876000000000001\n",
      "SET BEV DATA charging start between intervals for ID BEV 53 for minute 717.2140492828246:  10.876000000000001\n",
      "BEV 54 CHARGING END FROM POST OPTI in minute\n",
      "BEV 57 CHARGING END FROM POST OPTI in next interval\n",
      "SET BEV DATA after charging time over for ID BEV 57 for minute 710.2365014242808:  13.5475\n",
      "SET BEV DATA charging start between intervals for ID BEV 63 for minute 706.5575087660767:  10.876000000000001\n",
      "Waiting BEVs after updating parking end:  [64, 1, 48, 49]\n",
      "Charging BEVs after updating post optimization plan and parking end:  [57, 55]\n",
      "charging_list_per_minute_dict  {480: [8], 495: [8], 510: [8, 11], 525: [8, 11], 540: [8, 18, 20], 555: [18, 20, 22, 72], 570: [20, 28, 40, 60], 585: [28, 40, 60, 61, 65], 600: [65, 68, 71, 3, 4], 615: [68, 71, 3, 4, 9], 630: [71, 12, 14, 24, 26], 645: [12, 24, 26, 42, 66], 660: [66, 69, 73, 74, 2], 675: [5, 27, 36, 41, 38], 690: [41, 38, 0, 54, 57]}\n",
      "LAAASSST minute:  690\n",
      "NUUUUUUMBER of charging bevs of last interval:  5\n",
      "SET BEV DATA for current minute for ID BEV 57 for minute 705:  10.876000000000001\n",
      "SET BEV DATA for current minute for ID BEV 55 for minute 705:  10.876000000000001\n",
      "Charging BEVs (nachdem neue Plätze belegt):  [57, 55]\n",
      "Update currently charging bevs\n",
      "Number of charging bevs:  5\n",
      "AVAILABLE SOLAR POWER:  54.38\n",
      "Update currently charging bevs\n",
      "Number of charging bevs:  5\n",
      "AVAILABLE SOLAR POWER:  54.38\n",
      "Restladeenergie bis zur fairen Ladeenergie for BEV mit ID 55:  2.602333333333325\n",
      "Restladezeit:  14.356381022434674\n",
      "Die Restladezeit des BEVS 55 endet vor dem nächsten Interval\n",
      "SET BEV DATA after charging time over for ID BEV 55 for minute 719.3563810224347:  10.99\n",
      "Ausgewähltes BEV das frei gewordenen Platz belegen darf:  64\n",
      "Ladestart für ausgewähltes BEV:  719.3563810224347\n",
      "SET BEV DATA for charging start of new bev for ID BEV 64 for minute 719.3563810224347:  10.876000000000001\n",
      "SET BEV DATA charging start between intervals for ID BEV 64 for minute 719.3563810224347:  10.876000000000001\n",
      "Charging BEVs:  [57, 55]\n",
      "BEVs from posti charging in next interval:  [52, 53, 63]\n",
      "CHARGING LIIIIIST to safe: [57, 55, 52, 53, 63] for minute 705\n",
      "\n",
      "\n",
      "Minute:  720\n",
      "Waiting BEVs:  [1, 48, 49]\n",
      "Charging list after handling overload:  [52, 53, 63, 64]\n",
      "SET BEV DATA charging start between intervals for ID BEV 62 for minute 724.9113492124795:  10.524\n",
      "Waiting BEVs after updating parking end:  [1, 48, 49, 43]\n",
      "Charging BEVs after updating post optimization plan and parking end:  [52, 53, 63, 64]\n",
      "charging_list_per_minute_dict  {480: [8], 495: [8], 510: [8, 11], 525: [8, 11], 540: [8, 18, 20], 555: [18, 20, 22, 72], 570: [20, 28, 40, 60], 585: [28, 40, 60, 61, 65], 600: [65, 68, 71, 3, 4], 615: [68, 71, 3, 4, 9], 630: [71, 12, 14, 24, 26], 645: [12, 24, 26, 42, 66], 660: [66, 69, 73, 74, 2], 675: [5, 27, 36, 41, 38], 690: [41, 38, 0, 54, 57], 705: [57, 55, 52, 53, 63]}\n",
      "LAAASSST minute:  705\n",
      "NUUUUUUMBER of charging bevs of last interval:  5\n",
      "SET BEV DATA for current minute for ID BEV 52 for minute 720:  10.524\n",
      "SET BEV DATA for current minute for ID BEV 53 for minute 720:  10.524\n",
      "SET BEV DATA for current minute for ID BEV 63 for minute 720:  10.524\n",
      "SET BEV DATA for current minute for ID BEV 64 for minute 720:  10.524\n",
      "Charging BEVs (nachdem neue Plätze belegt):  [52, 53, 63, 64]\n",
      "Update currently charging bevs\n",
      "Number of charging bevs:  5\n",
      "AVAILABLE SOLAR POWER:  52.62\n",
      "Restladeenergie bis zur fairen Ladeenergie for BEV mit ID 52:  3.91770315817464\n",
      "Restladezeit:  22.335821882409583\n",
      "Update currently charging bevs\n",
      "Number of charging bevs:  5\n",
      "AVAILABLE SOLAR POWER:  52.62\n",
      "Restladeenergie bis zur fairen Ladeenergie for BEV mit ID 53:  5.025000000000003\n",
      "Restladezeit:  28.64880273660207\n",
      "Update currently charging bevs\n",
      "Number of charging bevs:  5\n",
      "AVAILABLE SOLAR POWER:  52.62\n",
      "Restladeenergie bis zur fairen Ladeenergie for BEV mit ID 63:  3.2508244223308345\n",
      "Restladezeit:  18.53377663814615\n",
      "Update currently charging bevs\n",
      "Number of charging bevs:  5\n",
      "AVAILABLE SOLAR POWER:  52.62\n",
      "Restladeenergie bis zur fairen Ladeenergie for BEV mit ID 64:  5.215833333333325\n",
      "Restladezeit:  29.736792094260693\n",
      "Charging BEVs:  [52, 53, 63, 64]\n",
      "BEVs from posti charging in next interval:  [62]\n",
      "CHARGING LIIIIIST to safe: [52, 53, 63, 64, 62] for minute 720\n",
      "\n",
      "\n",
      "Minute:  735\n"
     ]
    },
    {
     "name": "stdout",
     "output_type": "stream",
     "text": [
      "Waiting BEVs:  [1, 48, 49, 43]\n",
      "SET BEV DATA after charging time over for ID BEV 52 for minute 735:  10.05\n",
      "Removed from charging list because of overload:  52\n",
      "Charging list after handling overload:  [53, 63, 64, 62]\n",
      "SET BEV DATA charging start between intervals for ID BEV 50 for minute 741.1918401445793:  9.576\n",
      "BEV 52 CHARGING END FROM POST OPTI in minute\n",
      "Waiting BEVs after updating parking end:  [1, 48, 49, 43]\n",
      "Charging BEVs after updating post optimization plan and parking end:  [53, 63, 64, 62]\n",
      "charging_list_per_minute_dict  {480: [8], 495: [8], 510: [8, 11], 525: [8, 11], 540: [8, 18, 20], 555: [18, 20, 22, 72], 570: [20, 28, 40, 60], 585: [28, 40, 60, 61, 65], 600: [65, 68, 71, 3, 4], 615: [68, 71, 3, 4, 9], 630: [71, 12, 14, 24, 26], 645: [12, 24, 26, 42, 66], 660: [66, 69, 73, 74, 2], 675: [5, 27, 36, 41, 38], 690: [41, 38, 0, 54, 57], 705: [57, 55, 52, 53, 63], 720: [52, 53, 63, 64, 62]}\n",
      "LAAASSST minute:  720\n",
      "NUUUUUUMBER of charging bevs of last interval:  5\n",
      "FUEL Charging BEV:  53\n",
      "FUEL Charging BEV:  63\n",
      "FUEL Charging BEV:  64\n",
      "SET BEV DATA for current minute for ID BEV 53 for minute 735:  9.576\n",
      "SET BEV DATA for current minute for ID BEV 63 for minute 735:  9.576\n",
      "SET BEV DATA for current minute for ID BEV 64 for minute 735:  9.576\n",
      "SET BEV DATA for current minute for ID BEV 62 for minute 735:  9.576\n",
      "Charging BEVs (nachdem neue Plätze belegt):  [53, 63, 64, 62]\n",
      "Update currently charging bevs\n",
      "Number of charging bevs:  5\n",
      "AVAILABLE SOLAR POWER:  47.88\n",
      "Restladeenergie bis zur fairen Ladeenergie for BEV mit ID 53:  2.3940000000000037\n",
      "Restladezeit:  15.000000000000023\n",
      "Update currently charging bevs\n",
      "Number of charging bevs:  5\n",
      "AVAILABLE SOLAR POWER:  47.88\n",
      "Restladeenergie bis zur fairen Ladeenergie for BEV mit ID 63:  0.6198244223308347\n",
      "Restladezeit:  3.8836116687395656\n",
      "Die Restladezeit des BEVS 63 endet vor dem nächsten Interval\n",
      "SET BEV DATA after charging time over for ID BEV 63 for minute 738.8836116687396:  9.804\n",
      "Ausgewähltes BEV das frei gewordenen Platz belegen darf:  1\n",
      "Ladestart für ausgewähltes BEV:  738.8836116687396\n",
      "SET BEV DATA for charging start of new bev for ID BEV 1 for minute 738.8836116687396:  9.576\n",
      "SET BEV DATA charging start between intervals for ID BEV 1 for minute 738.8836116687396:  9.576\n",
      "Update currently charging bevs\n",
      "Number of charging bevs:  5\n",
      "AVAILABLE SOLAR POWER:  47.88\n",
      "Restladeenergie bis zur fairen Ladeenergie for BEV mit ID 64:  2.584833333333325\n",
      "Restladezeit:  16.19569757727647\n",
      "Update currently charging bevs\n",
      "Number of charging bevs:  5\n",
      "AVAILABLE SOLAR POWER:  47.88\n",
      "Restladeenergie bis zur fairen Ladeenergie for BEV mit ID 62:  3.91795065186891\n",
      "Restladezeit:  24.54856298163477\n",
      "Charging BEVs:  [53, 63, 64, 62]\n",
      "BEVs from posti charging in next interval:  [50]\n",
      "CHARGING LIIIIIST to safe: [53, 63, 64, 62, 50] for minute 735\n",
      "\n",
      "\n",
      "Minute:  750\n",
      "Waiting BEVs:  [48, 49, 43]\n",
      "SET BEV DATA after charging time over for ID BEV 64 for minute 750:  9.1\n",
      "Removed from charging list because of overload:  64\n",
      "SET BEV DATA after charging time over for ID BEV 62 for minute 750:  9.1\n",
      "Removed from charging list because of overload:  62\n",
      "Charging list after handling overload:  [53, 50, 1]\n",
      "SET BEV DATA charging start between intervals for ID BEV 51 for minute 761.5482923517457:  8.623999999999999\n",
      "BEV 53 CHARGING END FROM POST OPTI in minute\n",
      "SET BEV DATA charging start between intervals for ID BEV 58 for minute 756.3163686962387:  8.623999999999999\n",
      "BEV 62 CHARGING END FROM POST OPTI in minute\n",
      "Waiting BEVs after updating parking end:  [48, 49, 43, 70]\n",
      "Charging BEVs after updating post optimization plan and parking end:  [53, 50, 1]\n",
      "charging_list_per_minute_dict  {480: [8], 495: [8], 510: [8, 11], 525: [8, 11], 540: [8, 18, 20], 555: [18, 20, 22, 72], 570: [20, 28, 40, 60], 585: [28, 40, 60, 61, 65], 600: [65, 68, 71, 3, 4], 615: [68, 71, 3, 4, 9], 630: [71, 12, 14, 24, 26], 645: [12, 24, 26, 42, 66], 660: [66, 69, 73, 74, 2], 675: [5, 27, 36, 41, 38], 690: [41, 38, 0, 54, 57], 705: [57, 55, 52, 53, 63], 720: [52, 53, 63, 64, 62], 735: [53, 63, 64, 62, 50]}\n",
      "LAAASSST minute:  735\n",
      "NUUUUUUMBER of charging bevs of last interval:  5\n",
      "FUEL Charging BEV:  53\n",
      "SET BEV DATA for current minute for ID BEV 53 for minute 750:  8.623999999999999\n",
      "SET BEV DATA for current minute for ID BEV 50 for minute 750:  8.623999999999999\n",
      "SET BEV DATA for current minute for ID BEV 1 for minute 750:  8.623999999999999\n",
      "Charging BEVs (nachdem neue Plätze belegt):  [53, 50, 1]\n",
      "Update currently charging bevs\n",
      "Number of charging bevs:  5\n",
      "AVAILABLE SOLAR POWER:  43.12\n",
      "Restladeenergie bis zur fairen Ladeenergie for BEV mit ID 53:  3.552713678800501e-15\n",
      "Restladezeit:  2.4717395724493285e-14\n",
      "Die Restladezeit des BEVS 53 endet vor dem nächsten Interval\n",
      "SET BEV DATA after charging time over for ID BEV 53 for minute 750.0:  9.1\n",
      "Ausgewähltes BEV das frei gewordenen Platz belegen darf:  48\n",
      "Ladestart für ausgewähltes BEV:  750.0\n",
      "SET BEV DATA for charging start of new bev for ID BEV 48 for minute 750.0:  8.623999999999999\n",
      "SET BEV DATA charging start between intervals for ID BEV 48 for minute 750.0:  8.623999999999999\n",
      "Update currently charging bevs\n",
      "Number of charging bevs:  5\n",
      "AVAILABLE SOLAR POWER:  43.12\n",
      "Restladeenergie bis zur fairen Ladeenergie for BEV mit ID 50:  4.281717687074849\n",
      "Restladezeit:  29.789316004695152\n",
      "Update currently charging bevs\n",
      "Number of charging bevs:  5\n",
      "AVAILABLE SOLAR POWER:  43.12\n",
      "Restladeenergie bis zur fairen Ladeenergie for BEV mit ID 1:  3.4158244223308394\n",
      "Restladezeit:  23.765012214732188\n",
      "Charging BEVs:  [53, 50, 1]\n",
      "BEVs from posti charging in next interval:  [51, 58]\n",
      "CHARGING LIIIIIST to safe: [53, 50, 1, 51, 58] for minute 750\n",
      "\n",
      "\n",
      "Minute:  765\n",
      "Waiting BEVs:  [49, 43, 70]\n",
      "SET BEV DATA after charging time over for ID BEV 50 for minute 765:  8.15\n",
      "Removed from charging list because of overload:  50\n",
      "SET BEV DATA after charging time over for ID BEV 1 for minute 765:  8.15\n",
      "Removed from charging list because of overload:  1\n",
      "SET BEV DATA after charging time over for ID BEV 51 for minute 765:  8.15\n",
      "Removed from charging list because of overload:  51\n",
      "Charging list after handling overload:  [58, 48]\n",
      "SET BEV DATA charging start between intervals for ID BEV 46 for minute 770.8075896106357:  9.595\n",
      "SET BEV DATA charging start between intervals for ID BEV 47 for minute 771.9401203278221:  9.595\n",
      "BEV 50 CHARGING END FROM POST OPTI in minute\n",
      "BEV 51 CHARGING END FROM POST OPTI in minute\n",
      "BEV 58 CHARGING END FROM POST OPTI in next interval\n",
      "SET BEV DATA after charging time over for ID BEV 58 for minute 771.9401203278221:  9.6375\n",
      "Waiting BEVs after updating parking end:  [49, 43, 70]\n",
      "Charging BEVs after updating post optimization plan and parking end:  [58, 48]\n",
      "charging_list_per_minute_dict  {480: [8], 495: [8], 510: [8, 11], 525: [8, 11], 540: [8, 18, 20], 555: [18, 20, 22, 72], 570: [20, 28, 40, 60], 585: [28, 40, 60, 61, 65], 600: [65, 68, 71, 3, 4], 615: [68, 71, 3, 4, 9], 630: [71, 12, 14, 24, 26], 645: [12, 24, 26, 42, 66], 660: [66, 69, 73, 74, 2], 675: [5, 27, 36, 41, 38], 690: [41, 38, 0, 54, 57], 705: [57, 55, 52, 53, 63], 720: [52, 53, 63, 64, 62], 735: [53, 63, 64, 62, 50], 750: [53, 50, 1, 51, 58]}\n",
      "LAAASSST minute:  750\n",
      "NUUUUUUMBER of charging bevs of last interval:  5\n",
      "SET BEV DATA for current minute for ID BEV 58 for minute 765:  9.595\n",
      "SET BEV DATA for current minute for ID BEV 48 for minute 765:  9.595\n",
      "Charging BEVs (nachdem neue Plätze belegt):  [58, 48]\n",
      "Update currently charging bevs\n",
      "Number of charging bevs:  4\n",
      "AVAILABLE SOLAR POWER:  38.38\n",
      "Update currently charging bevs\n",
      "Number of charging bevs:  4\n",
      "AVAILABLE SOLAR POWER:  38.38\n",
      "Restladeenergie bis zur fairen Ladeenergie for BEV mit ID 48:  1.6290000000000004\n",
      "Restladezeit:  10.18655549765503\n",
      "Die Restladezeit des BEVS 48 endet vor dem nächsten Interval\n",
      "SET BEV DATA after charging time over for ID BEV 48 for minute 775.186555497655:  9.38\n",
      "Ausgewähltes BEV das frei gewordenen Platz belegen darf:  43\n",
      "Ladestart für ausgewähltes BEV:  775.186555497655\n",
      "SET BEV DATA for charging start of new bev for ID BEV 43 for minute 775.186555497655:  9.595\n",
      "SET BEV DATA charging start between intervals for ID BEV 43 for minute 775.186555497655:  9.595\n",
      "Charging BEVs:  [58, 48]\n",
      "BEVs from posti charging in next interval:  [46, 47]\n",
      "CHARGING LIIIIIST to safe: [58, 48, 46, 47] for minute 765\n",
      "\n",
      "\n",
      "Minute:  780\n",
      "Waiting BEVs:  [49, 70]\n",
      "SET BEV DATA after charging time over for ID BEV 46 for minute 780:  12.0\n",
      "Removed from charging list because of overload:  46\n",
      "SET BEV DATA after charging time over for ID BEV 47 for minute 780:  12.0\n",
      "Removed from charging list because of overload:  47\n",
      "SET BEV DATA after charging time over for ID BEV 43 for minute 780:  12.0\n",
      "Removed from charging list because of overload:  43\n",
      "Charging list after handling overload:  []\n",
      "SET BEV DATA charging start between intervals for ID BEV 34 for minute 784.391708551189:  9.1875\n",
      "SET BEV DATA charging start between intervals for ID BEV 37 for minute 785.5744712430426:  9.1875\n",
      "SET BEV DATA charging start between intervals for ID BEV 44 for minute 788.6901669758813:  9.1875\n",
      "SET BEV DATA charging start between intervals for ID BEV 45 for minute 794.598194678654:  9.1875\n",
      "BEV 46 CHARGING END FROM POST OPTI in minute\n",
      "BEV 47 CHARGING END FROM POST OPTI in minute\n",
      "Waiting BEVs after updating parking end:  [70]\n",
      "Charging BEVs after updating post optimization plan and parking end:  []\n",
      "charging_list_per_minute_dict  {480: [8], 495: [8], 510: [8, 11], 525: [8, 11], 540: [8, 18, 20], 555: [18, 20, 22, 72], 570: [20, 28, 40, 60], 585: [28, 40, 60, 61, 65], 600: [65, 68, 71, 3, 4], 615: [68, 71, 3, 4, 9], 630: [71, 12, 14, 24, 26], 645: [12, 24, 26, 42, 66], 660: [66, 69, 73, 74, 2], 675: [5, 27, 36, 41, 38], 690: [41, 38, 0, 54, 57], 705: [57, 55, 52, 53, 63], 720: [52, 53, 63, 64, 62], 735: [53, 63, 64, 62, 50], 750: [53, 50, 1, 51, 58], 765: [58, 48, 46, 47]}\n",
      "LAAASSST minute:  765\n",
      "NUUUUUUMBER of charging bevs of last interval:  4\n",
      "Charging BEVs (nachdem neue Plätze belegt):  []\n",
      "Charging BEVs:  []\n",
      "BEVs from posti charging in next interval:  [34, 37, 44, 45]\n",
      "CHARGING LIIIIIST to safe: [34, 37, 44, 45] for minute 780\n",
      "\n",
      "\n",
      "Minute:  795\n",
      "Waiting BEVs:  [70]\n"
     ]
    },
    {
     "name": "stdout",
     "output_type": "stream",
     "text": [
      "SET BEV DATA after charging time over for ID BEV 34 for minute 795:  9.375\n",
      "Removed from charging list because of overload:  34\n",
      "SET BEV DATA after charging time over for ID BEV 37 for minute 795:  9.375\n",
      "Removed from charging list because of overload:  37\n",
      "Charging list after handling overload:  [44, 45]\n",
      "SET BEV DATA charging start between intervals for ID BEV 30 for minute 799.9807486631016:  9.5625\n",
      "BEV 34 CHARGING END FROM POST OPTI in minute\n",
      "BEV 37 CHARGING END FROM POST OPTI in minute\n",
      "SET BEV DATA charging start between intervals for ID BEV 39 for minute 805.6570890049812:  9.5625\n",
      "BEV 44 CHARGING END FROM POST OPTI in next interval\n",
      "SET BEV DATA after charging time over for ID BEV 44 for minute 799.9807486631016:  9.5\n",
      "BEV 45 CHARGING END FROM POST OPTI in next interval\n",
      "SET BEV DATA after charging time over for ID BEV 45 for minute 805.6570890049812:  9.6425\n",
      "Waiting BEVs after updating parking end:  [70]\n",
      "Charging BEVs after updating post optimization plan and parking end:  [44, 45]\n",
      "charging_list_per_minute_dict  {480: [8], 495: [8], 510: [8, 11], 525: [8, 11], 540: [8, 18, 20], 555: [18, 20, 22, 72], 570: [20, 28, 40, 60], 585: [28, 40, 60, 61, 65], 600: [65, 68, 71, 3, 4], 615: [68, 71, 3, 4, 9], 630: [71, 12, 14, 24, 26], 645: [12, 24, 26, 42, 66], 660: [66, 69, 73, 74, 2], 675: [5, 27, 36, 41, 38], 690: [41, 38, 0, 54, 57], 705: [57, 55, 52, 53, 63], 720: [52, 53, 63, 64, 62], 735: [53, 63, 64, 62, 50], 750: [53, 50, 1, 51, 58], 765: [58, 48, 46, 47], 780: [34, 37, 44, 45]}\n",
      "LAAASSST minute:  780\n",
      "NUUUUUUMBER of charging bevs of last interval:  4\n",
      "SET BEV DATA for current minute for ID BEV 44 for minute 795:  9.5625\n",
      "SET BEV DATA for current minute for ID BEV 45 for minute 795:  9.5625\n",
      "Charging BEVs (nachdem neue Plätze belegt):  [44, 45]\n",
      "Update currently charging bevs\n",
      "Number of charging bevs:  4\n",
      "AVAILABLE SOLAR POWER:  38.25\n",
      "Update currently charging bevs\n",
      "Number of charging bevs:  4\n",
      "AVAILABLE SOLAR POWER:  38.25\n",
      "Charging BEVs:  [44, 45]\n",
      "BEVs from posti charging in next interval:  [30, 39]\n",
      "CHARGING LIIIIIST to safe: [44, 45, 30, 39] for minute 795\n",
      "\n",
      "\n",
      "Minute:  810\n",
      "Waiting BEVs:  [70]\n",
      "Charging list after handling overload:  [30, 39]\n",
      "SET BEV DATA charging start between intervals for ID BEV 35 for minute 818.7568214953593:  13.25\n",
      "BEV 39 CHARGING END FROM POST OPTI in next interval\n",
      "SET BEV DATA after charging time over for ID BEV 39 for minute 818.7568214953593:  13.293333333333335\n",
      "Waiting BEVs after updating parking end:  [70, 56, 59, 67]\n",
      "Charging BEVs after updating post optimization plan and parking end:  [30, 39]\n",
      "charging_list_per_minute_dict  {480: [8], 495: [8], 510: [8, 11], 525: [8, 11], 540: [8, 18, 20], 555: [18, 20, 22, 72], 570: [20, 28, 40, 60], 585: [28, 40, 60, 61, 65], 600: [65, 68, 71, 3, 4], 615: [68, 71, 3, 4, 9], 630: [71, 12, 14, 24, 26], 645: [12, 24, 26, 42, 66], 660: [66, 69, 73, 74, 2], 675: [5, 27, 36, 41, 38], 690: [41, 38, 0, 54, 57], 705: [57, 55, 52, 53, 63], 720: [52, 53, 63, 64, 62], 735: [53, 63, 64, 62, 50], 750: [53, 50, 1, 51, 58], 765: [58, 48, 46, 47], 780: [34, 37, 44, 45], 795: [44, 45, 30, 39]}\n",
      "LAAASSST minute:  795\n",
      "NUUUUUUMBER of charging bevs of last interval:  4\n",
      "SET BEV DATA for current minute for ID BEV 30 for minute 810:  9.9375\n",
      "SET BEV DATA for current minute for ID BEV 39 for minute 810:  9.9375\n",
      "SET BEV DATA for current minute for ID BEV 70 for minute 810:  9.9375\n",
      "Charging BEVs (nachdem neue Plätze belegt):  [30, 39, 70]\n",
      "Update currently charging bevs\n",
      "Number of charging bevs:  4\n",
      "AVAILABLE SOLAR POWER:  39.75\n",
      "Restladeenergie bis zur fairen Ladeenergie for BEV mit ID 30:  4.09068181818182\n",
      "Restladezeit:  24.698456260720423\n",
      "Update currently charging bevs\n",
      "Number of charging bevs:  4\n",
      "AVAILABLE SOLAR POWER:  39.75\n",
      "Update currently charging bevs\n",
      "Number of charging bevs:  4\n",
      "AVAILABLE SOLAR POWER:  39.75\n",
      "Restladeenergie bis zur fairen Ladeenergie for BEV mit ID 70:  2.1425\n",
      "Restladezeit:  12.935849056603773\n",
      "Die Restladezeit des BEVS 70 endet vor dem nächsten Interval\n",
      "SET BEV DATA after charging time over for ID BEV 70 for minute 822.9358490566037:  10.0725\n",
      "Ausgewähltes BEV das frei gewordenen Platz belegen darf:  56\n",
      "Ladestart für ausgewähltes BEV:  822.9358490566037\n",
      "SET BEV DATA for charging start of new bev for ID BEV 56 for minute 822.9358490566037:  9.9375\n",
      "SET BEV DATA charging start between intervals for ID BEV 56 for minute 822.9358490566037:  9.9375\n",
      "Charging BEVs:  [30, 39, 70]\n",
      "BEVs from posti charging in next interval:  [35]\n",
      "CHARGING LIIIIIST to safe: [30, 39, 70, 35] for minute 810\n",
      "\n",
      "\n",
      "Minute:  825\n",
      "Waiting BEVs:  [59, 67]\n",
      "SET BEV DATA after charging time over for ID BEV 30 for minute 825:  13.5\n",
      "Removed from charging list because of overload:  30\n",
      "SET BEV DATA after charging time over for ID BEV 35 for minute 825:  13.5\n",
      "Removed from charging list because of overload:  35\n",
      "Charging list after handling overload:  [56]\n",
      "SET BEV DATA charging start between intervals for ID BEV 29 for minute 832.7798347107438:  10.3125\n",
      "BEV 30 CHARGING END FROM POST OPTI in minute\n",
      "SET BEV DATA charging start between intervals for ID BEV 32 for minute 829.2238461682554:  10.3125\n",
      "SET BEV DATA charging start between intervals for ID BEV 33 for minute 833.5418181818181:  10.3125\n",
      "BEV 35 CHARGING END FROM POST OPTI in minute\n",
      "Waiting BEVs after updating parking end:  [59, 67]\n",
      "Charging BEVs after updating post optimization plan and parking end:  [56]\n",
      "charging_list_per_minute_dict  {480: [8], 495: [8], 510: [8, 11], 525: [8, 11], 540: [8, 18, 20], 555: [18, 20, 22, 72], 570: [20, 28, 40, 60], 585: [28, 40, 60, 61, 65], 600: [65, 68, 71, 3, 4], 615: [68, 71, 3, 4, 9], 630: [71, 12, 14, 24, 26], 645: [12, 24, 26, 42, 66], 660: [66, 69, 73, 74, 2], 675: [5, 27, 36, 41, 38], 690: [41, 38, 0, 54, 57], 705: [57, 55, 52, 53, 63], 720: [52, 53, 63, 64, 62], 735: [53, 63, 64, 62, 50], 750: [53, 50, 1, 51, 58], 765: [58, 48, 46, 47], 780: [34, 37, 44, 45], 795: [44, 45, 30, 39], 810: [30, 39, 70, 35]}\n",
      "LAAASSST minute:  810\n",
      "NUUUUUUMBER of charging bevs of last interval:  4\n",
      "SET BEV DATA for current minute for ID BEV 56 for minute 825:  10.3125\n",
      "Charging BEVs (nachdem neue Plätze belegt):  [56]\n",
      "Update currently charging bevs\n",
      "Number of charging bevs:  4\n",
      "AVAILABLE SOLAR POWER:  41.25\n",
      "Restladeenergie bis zur fairen Ladeenergie for BEV mit ID 56:  1.0631249999999928\n",
      "Restladezeit:  6.185454545454503\n",
      "Die Restladezeit des BEVS 56 endet vor dem nächsten Interval\n",
      "SET BEV DATA after charging time over for ID BEV 56 for minute 831.1854545454545:  10.28\n",
      "Ausgewähltes BEV das frei gewordenen Platz belegen darf:  59\n",
      "Ladestart für ausgewähltes BEV:  831.1854545454545\n",
      "SET BEV DATA for charging start of new bev for ID BEV 59 for minute 831.1854545454545:  10.3125\n",
      "SET BEV DATA charging start between intervals for ID BEV 59 for minute 831.1854545454545:  10.3125\n",
      "Charging BEVs:  [56]\n",
      "BEVs from posti charging in next interval:  [29, 32, 33]\n",
      "CHARGING LIIIIIST to safe: [56, 29, 32, 33] for minute 825\n",
      "\n",
      "\n",
      "Minute:  840\n",
      "Waiting BEVs:  [67]\n",
      "SET BEV DATA after charging time over for ID BEV 29 for minute 840:  10.5\n",
      "Removed from charging list because of overload:  29\n",
      "SET BEV DATA after charging time over for ID BEV 32 for minute 840:  10.5\n",
      "Removed from charging list because of overload:  32\n",
      "Charging list after handling overload:  [33, 59]\n",
      "SET BEV DATA charging start between intervals for ID BEV 16 for minute 841.7867603702701:  9.75\n",
      "BEV 29 CHARGING END FROM POST OPTI in minute\n",
      "SET BEV DATA charging start between intervals for ID BEV 31 for minute 841.8153846153846:  9.75\n",
      "BEV 32 CHARGING END FROM POST OPTI in minute\n",
      "BEV 33 CHARGING END FROM POST OPTI in next interval\n",
      "SET BEV DATA after charging time over for ID BEV 33 for minute 841.8153846153846:  10.3175\n",
      "Waiting BEVs after updating parking end:  [67]\n",
      "Charging BEVs after updating post optimization plan and parking end:  [33, 59]\n",
      "charging_list_per_minute_dict  {480: [8], 495: [8], 510: [8, 11], 525: [8, 11], 540: [8, 18, 20], 555: [18, 20, 22, 72], 570: [20, 28, 40, 60], 585: [28, 40, 60, 61, 65], 600: [65, 68, 71, 3, 4], 615: [68, 71, 3, 4, 9], 630: [71, 12, 14, 24, 26], 645: [12, 24, 26, 42, 66], 660: [66, 69, 73, 74, 2], 675: [5, 27, 36, 41, 38], 690: [41, 38, 0, 54, 57], 705: [57, 55, 52, 53, 63], 720: [52, 53, 63, 64, 62], 735: [53, 63, 64, 62, 50], 750: [53, 50, 1, 51, 58], 765: [58, 48, 46, 47], 780: [34, 37, 44, 45], 795: [44, 45, 30, 39], 810: [30, 39, 70, 35], 825: [56, 29, 32, 33]}\n",
      "LAAASSST minute:  825\n",
      "NUUUUUUMBER of charging bevs of last interval:  4\n",
      "SET BEV DATA for current minute for ID BEV 33 for minute 840:  9.75\n",
      "SET BEV DATA for current minute for ID BEV 59 for minute 840:  9.75\n",
      "Charging BEVs (nachdem neue Plätze belegt):  [33, 59]\n",
      "Update currently charging bevs\n",
      "Number of charging bevs:  4\n",
      "AVAILABLE SOLAR POWER:  39.0\n",
      "Update currently charging bevs\n",
      "Number of charging bevs:  4\n",
      "AVAILABLE SOLAR POWER:  39.0\n",
      "Restladeenergie bis zur fairen Ladeenergie for BEV mit ID 59:  -0.11000000000000942\n",
      "Restladezeit:  -0.6769230769231349\n",
      "Charging BEVs:  [33, 59]\n",
      "BEVs from posti charging in next interval:  [16, 31]\n",
      "CHARGING LIIIIIST to safe: [33, 59, 16, 31] for minute 840\n",
      "\n",
      "\n",
      "Minute:  855\n",
      "Waiting BEVs:  [67]\n",
      "SET BEV DATA after charging time over for ID BEV 59 for minute 855:  12.0\n",
      "Removed from charging list because of overload:  59\n"
     ]
    },
    {
     "name": "stdout",
     "output_type": "stream",
     "text": [
      "SET BEV DATA after charging time over for ID BEV 16 for minute 855:  12.0\n",
      "Removed from charging list because of overload:  16\n",
      "Charging list after handling overload:  [31]\n",
      "BEV 16 CHARGING END FROM POST OPTI in minute\n",
      "SET BEV DATA charging start between intervals for ID BEV 23 for minute 867.2863636363636:  11.0\n",
      "SET BEV DATA charging start between intervals for ID BEV 25 for minute 860.9863636363636:  11.0\n",
      "BEV 31 CHARGING END FROM POST OPTI in minute\n",
      "Waiting BEVs after updating parking end:  [67]\n",
      "Charging BEVs after updating post optimization plan and parking end:  [31]\n",
      "charging_list_per_minute_dict  {480: [8], 495: [8], 510: [8, 11], 525: [8, 11], 540: [8, 18, 20], 555: [18, 20, 22, 72], 570: [20, 28, 40, 60], 585: [28, 40, 60, 61, 65], 600: [65, 68, 71, 3, 4], 615: [68, 71, 3, 4, 9], 630: [71, 12, 14, 24, 26], 645: [12, 24, 26, 42, 66], 660: [66, 69, 73, 74, 2], 675: [5, 27, 36, 41, 38], 690: [41, 38, 0, 54, 57], 705: [57, 55, 52, 53, 63], 720: [52, 53, 63, 64, 62], 735: [53, 63, 64, 62, 50], 750: [53, 50, 1, 51, 58], 765: [58, 48, 46, 47], 780: [34, 37, 44, 45], 795: [44, 45, 30, 39], 810: [30, 39, 70, 35], 825: [56, 29, 32, 33], 840: [33, 59, 16, 31]}\n",
      "LAAASSST minute:  840\n",
      "NUUUUUUMBER of charging bevs of last interval:  4\n",
      "SET BEV DATA for current minute for ID BEV 31 for minute 855:  11.0\n",
      "Charging BEVs (nachdem neue Plätze belegt):  [31]\n",
      "Update currently charging bevs\n",
      "Number of charging bevs:  3\n",
      "AVAILABLE SOLAR POWER:  33.0\n",
      "Restladeenergie bis zur fairen Ladeenergie for BEV mit ID 31:  -6.661338147750939e-15\n",
      "Restladezeit:  -3.633457171500512e-14\n",
      "Charging BEVs:  [31]\n",
      "BEVs from posti charging in next interval:  [23, 25]\n",
      "CHARGING LIIIIIST to safe: [31, 23, 25] for minute 855\n",
      "\n",
      "\n",
      "Minute:  870\n",
      "Waiting BEVs:  [67]\n",
      "SET BEV DATA after charging time over for ID BEV 23 for minute 870:  15.0\n",
      "Removed from charging list because of overload:  23\n",
      "Charging list after handling overload:  [25]\n",
      "SET BEV DATA charging start between intervals for ID BEV 19 for minute 884.4833333333332:  9.0\n",
      "SET BEV DATA charging start between intervals for ID BEV 21 for minute 873.2666666666667:  9.0\n",
      "BEV 23 CHARGING END FROM POST OPTI in minute\n",
      "BEV 25 CHARGING END FROM POST OPTI in next interval\n",
      "SET BEV DATA after charging time over for ID BEV 25 for minute 873.2666666666667:  9.563333333333334\n",
      "Waiting BEVs after updating parking end:  [67]\n",
      "Charging BEVs after updating post optimization plan and parking end:  [25]\n",
      "charging_list_per_minute_dict  {480: [8], 495: [8], 510: [8, 11], 525: [8, 11], 540: [8, 18, 20], 555: [18, 20, 22, 72], 570: [20, 28, 40, 60], 585: [28, 40, 60, 61, 65], 600: [65, 68, 71, 3, 4], 615: [68, 71, 3, 4, 9], 630: [71, 12, 14, 24, 26], 645: [12, 24, 26, 42, 66], 660: [66, 69, 73, 74, 2], 675: [5, 27, 36, 41, 38], 690: [41, 38, 0, 54, 57], 705: [57, 55, 52, 53, 63], 720: [52, 53, 63, 64, 62], 735: [53, 63, 64, 62, 50], 750: [53, 50, 1, 51, 58], 765: [58, 48, 46, 47], 780: [34, 37, 44, 45], 795: [44, 45, 30, 39], 810: [30, 39, 70, 35], 825: [56, 29, 32, 33], 840: [33, 59, 16, 31], 855: [31, 23, 25]}\n",
      "LAAASSST minute:  855\n",
      "NUUUUUUMBER of charging bevs of last interval:  3\n",
      "SET BEV DATA for current minute for ID BEV 25 for minute 870:  9.0\n",
      "Charging BEVs (nachdem neue Plätze belegt):  [25]\n",
      "Update currently charging bevs\n",
      "Number of charging bevs:  3\n",
      "AVAILABLE SOLAR POWER:  27.0\n",
      "Charging BEVs:  [25]\n",
      "BEVs from posti charging in next interval:  [19, 21]\n",
      "CHARGING LIIIIIST to safe: [25, 19, 21] for minute 870\n",
      "\n",
      "\n",
      "Minute:  885\n",
      "Waiting BEVs:  [67]\n",
      "SET BEV DATA after charging time over for ID BEV 19 for minute 885:  12.0\n",
      "Removed from charging list because of overload:  19\n",
      "Charging list after handling overload:  [21]\n",
      "SET BEV DATA charging start between intervals for ID BEV 17 for minute 896.8:  10.5\n",
      "BEV 19 CHARGING END FROM POST OPTI in minute\n",
      "BEV 21 CHARGING END FROM POST OPTI in minute\n",
      "Waiting BEVs after updating parking end:  [67]\n",
      "Charging BEVs after updating post optimization plan and parking end:  [21]\n",
      "charging_list_per_minute_dict  {480: [8], 495: [8], 510: [8, 11], 525: [8, 11], 540: [8, 18, 20], 555: [18, 20, 22, 72], 570: [20, 28, 40, 60], 585: [28, 40, 60, 61, 65], 600: [65, 68, 71, 3, 4], 615: [68, 71, 3, 4, 9], 630: [71, 12, 14, 24, 26], 645: [12, 24, 26, 42, 66], 660: [66, 69, 73, 74, 2], 675: [5, 27, 36, 41, 38], 690: [41, 38, 0, 54, 57], 705: [57, 55, 52, 53, 63], 720: [52, 53, 63, 64, 62], 735: [53, 63, 64, 62, 50], 750: [53, 50, 1, 51, 58], 765: [58, 48, 46, 47], 780: [34, 37, 44, 45], 795: [44, 45, 30, 39], 810: [30, 39, 70, 35], 825: [56, 29, 32, 33], 840: [33, 59, 16, 31], 855: [31, 23, 25], 870: [25, 19, 21]}\n",
      "LAAASSST minute:  870\n",
      "NUUUUUUMBER of charging bevs of last interval:  3\n",
      "SET BEV DATA for current minute for ID BEV 21 for minute 885:  10.5\n",
      "Charging BEVs (nachdem neue Plätze belegt):  [21]\n",
      "Update currently charging bevs\n",
      "Number of charging bevs:  2\n",
      "AVAILABLE SOLAR POWER:  21.0\n",
      "Restladeenergie bis zur fairen Ladeenergie for BEV mit ID 21:  -2.4424906541753444e-15\n",
      "Restladezeit:  -1.395708945243054e-14\n",
      "Charging BEVs:  [21]\n",
      "BEVs from posti charging in next interval:  [17]\n",
      "CHARGING LIIIIIST to safe: [21, 17] for minute 885\n",
      "\n",
      "\n",
      "Minute:  900\n",
      "Waiting BEVs:  [67]\n",
      "SET BEV DATA after charging time over for ID BEV 17 for minute 900:  18.0\n",
      "Removed from charging list because of overload:  17\n",
      "Charging list after handling overload:  []\n",
      "SET BEV DATA charging start between intervals for ID BEV 13 for minute 904.6885185826948:  8.44\n",
      "SET BEV DATA charging start between intervals for ID BEV 15 for minute 908.5308056872037:  8.44\n",
      "BEV 17 CHARGING END FROM POST OPTI in minute\n",
      "Waiting BEVs after updating parking end:  [67]\n",
      "Charging BEVs after updating post optimization plan and parking end:  []\n",
      "charging_list_per_minute_dict  {480: [8], 495: [8], 510: [8, 11], 525: [8, 11], 540: [8, 18, 20], 555: [18, 20, 22, 72], 570: [20, 28, 40, 60], 585: [28, 40, 60, 61, 65], 600: [65, 68, 71, 3, 4], 615: [68, 71, 3, 4, 9], 630: [71, 12, 14, 24, 26], 645: [12, 24, 26, 42, 66], 660: [66, 69, 73, 74, 2], 675: [5, 27, 36, 41, 38], 690: [41, 38, 0, 54, 57], 705: [57, 55, 52, 53, 63], 720: [52, 53, 63, 64, 62], 735: [53, 63, 64, 62, 50], 750: [53, 50, 1, 51, 58], 765: [58, 48, 46, 47], 780: [34, 37, 44, 45], 795: [44, 45, 30, 39], 810: [30, 39, 70, 35], 825: [56, 29, 32, 33], 840: [33, 59, 16, 31], 855: [31, 23, 25], 870: [25, 19, 21], 885: [21, 17]}\n",
      "LAAASSST minute:  885\n",
      "NUUUUUUMBER of charging bevs of last interval:  2\n",
      "Charging BEVs (nachdem neue Plätze belegt):  []\n",
      "Charging BEVs:  []\n",
      "BEVs from posti charging in next interval:  [13, 15]\n",
      "CHARGING LIIIIIST to safe: [13, 15] for minute 900\n",
      "\n",
      "\n",
      "Minute:  915\n",
      "Waiting BEVs:  [67]\n",
      "SET BEV DATA after charging time over for ID BEV 13 for minute 915:  7.875\n",
      "Removed from charging list because of overload:  13\n",
      "SET BEV DATA after charging time over for ID BEV 15 for minute 915:  7.875\n",
      "Removed from charging list because of overload:  15\n",
      "Charging list after handling overload:  []\n",
      "SET BEV DATA charging start between intervals for ID BEV 7 for minute 917.540505723385:  7.31\n",
      "SET BEV DATA charging start between intervals for ID BEV 10 for minute 925.1162790697674:  7.31\n",
      "BEV 13 CHARGING END FROM POST OPTI in minute\n",
      "BEV 15 CHARGING END FROM POST OPTI in minute\n",
      "Waiting BEVs after updating parking end:  [67]\n",
      "Charging BEVs after updating post optimization plan and parking end:  []\n",
      "charging_list_per_minute_dict  {480: [8], 495: [8], 510: [8, 11], 525: [8, 11], 540: [8, 18, 20], 555: [18, 20, 22, 72], 570: [20, 28, 40, 60], 585: [28, 40, 60, 61, 65], 600: [65, 68, 71, 3, 4], 615: [68, 71, 3, 4, 9], 630: [71, 12, 14, 24, 26], 645: [12, 24, 26, 42, 66], 660: [66, 69, 73, 74, 2], 675: [5, 27, 36, 41, 38], 690: [41, 38, 0, 54, 57], 705: [57, 55, 52, 53, 63], 720: [52, 53, 63, 64, 62], 735: [53, 63, 64, 62, 50], 750: [53, 50, 1, 51, 58], 765: [58, 48, 46, 47], 780: [34, 37, 44, 45], 795: [44, 45, 30, 39], 810: [30, 39, 70, 35], 825: [56, 29, 32, 33], 840: [33, 59, 16, 31], 855: [31, 23, 25], 870: [25, 19, 21], 885: [21, 17], 900: [13, 15]}\n",
      "LAAASSST minute:  900\n",
      "NUUUUUUMBER of charging bevs of last interval:  2\n",
      "Charging BEVs (nachdem neue Plätze belegt):  []\n",
      "Charging BEVs:  []\n",
      "BEVs from posti charging in next interval:  [7, 10]\n",
      "CHARGING LIIIIIST to safe: [7, 10] for minute 915\n",
      "\n",
      "\n",
      "Minute:  930\n",
      "Waiting BEVs:  [67]\n",
      "Charging list after handling overload:  [7, 10]\n",
      "Waiting BEVs after updating parking end:  [67]\n",
      "Charging BEVs after updating post optimization plan and parking end:  [7, 10]\n",
      "charging_list_per_minute_dict  {480: [8], 495: [8], 510: [8, 11], 525: [8, 11], 540: [8, 18, 20], 555: [18, 20, 22, 72], 570: [20, 28, 40, 60], 585: [28, 40, 60, 61, 65], 600: [65, 68, 71, 3, 4], 615: [68, 71, 3, 4, 9], 630: [71, 12, 14, 24, 26], 645: [12, 24, 26, 42, 66], 660: [66, 69, 73, 74, 2], 675: [5, 27, 36, 41, 38], 690: [41, 38, 0, 54, 57], 705: [57, 55, 52, 53, 63], 720: [52, 53, 63, 64, 62], 735: [53, 63, 64, 62, 50], 750: [53, 50, 1, 51, 58], 765: [58, 48, 46, 47], 780: [34, 37, 44, 45], 795: [44, 45, 30, 39], 810: [30, 39, 70, 35], 825: [56, 29, 32, 33], 840: [33, 59, 16, 31], 855: [31, 23, 25], 870: [25, 19, 21], 885: [21, 17], 900: [13, 15], 915: [7, 10]}\n",
      "LAAASSST minute:  915\n",
      "NUUUUUUMBER of charging bevs of last interval:  2\n",
      "SET BEV DATA for current minute for ID BEV 7 for minute 930:  6.19\n",
      "SET BEV DATA for current minute for ID BEV 10 for minute 930:  6.19\n",
      "Charging BEVs (nachdem neue Plätze belegt):  [7, 10]\n",
      "Update currently charging bevs\n",
      "Number of charging bevs:  2\n",
      "AVAILABLE SOLAR POWER:  12.38\n",
      "Restladeenergie bis zur fairen Ladeenergie for BEV mit ID 7:  0.6245182806324021\n",
      "Restladezeit:  6.05348898835931\n",
      "Die Restladezeit des BEVS 7 endet vor dem nächsten Interval\n",
      "SET BEV DATA after charging time over for ID BEV 7 for minute 936.0534889883593:  6.295\n",
      "Ausgewähltes BEV das frei gewordenen Platz belegen darf:  67\n",
      "Ladestart für ausgewähltes BEV:  936.0534889883593\n",
      "SET BEV DATA for charging start of new bev for ID BEV 67 for minute 936.0534889883593:  6.19\n",
      "SET BEV DATA charging start between intervals for ID BEV 67 for minute 936.0534889883593:  6.19\n",
      "Update currently charging bevs\n",
      "Number of charging bevs:  2\n",
      "AVAILABLE SOLAR POWER:  12.38\n",
      "Restladeenergie bis zur fairen Ladeenergie for BEV mit ID 10:  1.5474999999999968\n",
      "Restladezeit:  14.999999999999968\n",
      "Die Restladezeit des BEVS 10 endet vor dem nächsten Interval\n",
      "SET BEV DATA after charging time over for ID BEV 10 for minute 945.0:  5.625\n",
      "Ausgewähltes BEV das frei gewordenen Platz belegen darf:  None\n",
      "Charging BEVs:  [7, 10]\n",
      "BEVs from posti charging in next interval:  []\n",
      "CHARGING LIIIIIST to safe: [7, 10] for minute 930\n",
      "\n",
      "\n",
      "Minute:  945\n",
      "Waiting BEVs:  []\n",
      "SET BEV DATA after charging time over for ID BEV 67 for minute 945:  11.25\n",
      "Removed from charging list because of overload:  67\n",
      "Charging list after handling overload:  []\n",
      "SET BEV DATA charging start between intervals for ID BEV 6 for minute 947.2974308300395:  10.12\n"
     ]
    },
    {
     "name": "stdout",
     "output_type": "stream",
     "text": [
      "BEV 10 CHARGING END FROM POST OPTI in minute\n",
      "Waiting BEVs after updating parking end:  []\n",
      "Charging BEVs after updating post optimization plan and parking end:  []\n",
      "charging_list_per_minute_dict  {480: [8], 495: [8], 510: [8, 11], 525: [8, 11], 540: [8, 18, 20], 555: [18, 20, 22, 72], 570: [20, 28, 40, 60], 585: [28, 40, 60, 61, 65], 600: [65, 68, 71, 3, 4], 615: [68, 71, 3, 4, 9], 630: [71, 12, 14, 24, 26], 645: [12, 24, 26, 42, 66], 660: [66, 69, 73, 74, 2], 675: [5, 27, 36, 41, 38], 690: [41, 38, 0, 54, 57], 705: [57, 55, 52, 53, 63], 720: [52, 53, 63, 64, 62], 735: [53, 63, 64, 62, 50], 750: [53, 50, 1, 51, 58], 765: [58, 48, 46, 47], 780: [34, 37, 44, 45], 795: [44, 45, 30, 39], 810: [30, 39, 70, 35], 825: [56, 29, 32, 33], 840: [33, 59, 16, 31], 855: [31, 23, 25], 870: [25, 19, 21], 885: [21, 17], 900: [13, 15], 915: [7, 10], 930: [7, 10]}\n",
      "LAAASSST minute:  930\n",
      "NUUUUUUMBER of charging bevs of last interval:  2\n",
      "Charging BEVs (nachdem neue Plätze belegt):  []\n",
      "Charging BEVs:  []\n",
      "BEVs from posti charging in next interval:  [6]\n",
      "CHARGING LIIIIIST to safe: [6] for minute 945\n",
      "\n",
      "\n",
      "Minute:  960\n",
      "Waiting BEVs:  []\n",
      "stop parking at interval_minute for  6\n",
      "Charging list after handling overload:  []\n",
      "BEV 6 CHARGING END FROM POST OPTI in minute\n",
      "Waiting BEVs after updating parking end:  []\n",
      "Charging BEVs after updating post optimization plan and parking end:  []\n",
      "charging_list_per_minute_dict  {480: [8], 495: [8], 510: [8, 11], 525: [8, 11], 540: [8, 18, 20], 555: [18, 20, 22, 72], 570: [20, 28, 40, 60], 585: [28, 40, 60, 61, 65], 600: [65, 68, 71, 3, 4], 615: [68, 71, 3, 4, 9], 630: [71, 12, 14, 24, 26], 645: [12, 24, 26, 42, 66], 660: [66, 69, 73, 74, 2], 675: [5, 27, 36, 41, 38], 690: [41, 38, 0, 54, 57], 705: [57, 55, 52, 53, 63], 720: [52, 53, 63, 64, 62], 735: [53, 63, 64, 62, 50], 750: [53, 50, 1, 51, 58], 765: [58, 48, 46, 47], 780: [34, 37, 44, 45], 795: [44, 45, 30, 39], 810: [30, 39, 70, 35], 825: [56, 29, 32, 33], 840: [33, 59, 16, 31], 855: [31, 23, 25], 870: [25, 19, 21], 885: [21, 17], 900: [13, 15], 915: [7, 10], 930: [7, 10], 945: [6]}\n",
      "LAAASSST minute:  945\n",
      "NUUUUUUMBER of charging bevs of last interval:  1\n",
      "Charging BEVs (nachdem neue Plätze belegt):  []\n",
      "Charging BEVs:  []\n",
      "BEVs from posti charging in next interval:  []\n",
      "CHARGING LIIIIIST to safe: [] for minute 960\n",
      "charging_list_per_minute_dict  {480: [8], 495: [8], 510: [8, 11], 525: [8, 11], 540: [8, 18, 20], 555: [18, 20, 22, 72], 570: [20, 28, 40, 60], 585: [28, 40, 60, 61, 65], 600: [65, 68, 71, 3, 4], 615: [68, 71, 3, 4, 9], 630: [71, 12, 14, 24, 26], 645: [12, 24, 26, 42, 66], 660: [66, 69, 73, 74, 2], 675: [5, 27, 36, 41, 38], 690: [41, 38, 0, 54, 57], 705: [57, 55, 52, 53, 63], 720: [52, 53, 63, 64, 62], 735: [53, 63, 64, 62, 50], 750: [53, 50, 1, 51, 58], 765: [58, 48, 46, 47], 780: [34, 37, 44, 45], 795: [44, 45, 30, 39], 810: [30, 39, 70, 35], 825: [56, 29, 32, 33], 840: [33, 59, 16, 31], 855: [31, 23, 25], 870: [25, 19, 21], 885: [21, 17], 900: [13, 15], 915: [7, 10], 930: [7, 10], 945: [6], 960: []}\n",
      "LAAASSST minute:  960\n",
      "NUUUUUUMBER of charging bevs of last interval:  0\n"
     ]
    }
   ],
   "source": [
    "import simulationClasses\n",
    "import simulationData\n",
    "import simulationOutputDataVisualisation\n",
    "import distributionAlgorithmForecastPolling\n",
    "import postOptimization\n",
    "import numpy as np\n",
    "\n",
    "simulation_day = simulationClasses.SimulationDay(anzahl_bevs_pro_tag)\n",
    "bev_data = simulationData.BevData()\n",
    "table_dict = simulationData.TableDict()\n",
    "simulation_data = simulationData.SimulationData()\n",
    "    \n",
    "day_in_minute_interval_steps = list(np.around(np.arange(480, 960 + 1, minute_interval), 1))\n",
    "distributionAlgorithmForecastPolling.init_simulation(day_in_minute_interval_steps, minute_interval, simulation_data, \n",
    "                                                   simulation_day, solarpeakleistung)\n",
    "\n",
    "postOptimization.start_post_optimization(minute_interval, simulation_day, solarpeakleistung, bev_data, table_dict, simulation_data,\n",
    "                ladeleistung_pro_bev)\n",
    "\n",
    "distributionAlgorithmForecastPolling.start_simulation(solarpeakleistung, ladeleistung_pro_bev,\n",
    "                     simulation_day, bev_data, table_dict, simulation_data, minute_interval)"
   ]
  },
  {
   "cell_type": "markdown",
   "metadata": {},
   "source": [
    "### Ergebnis Algorithmus"
   ]
  },
  {
   "cell_type": "code",
   "execution_count": 4,
   "metadata": {
    "pycharm": {
     "is_executing": true
    }
   },
   "outputs": [
    {
     "data": {
      "text/markdown": [
       ">**Ergebnis**<br>Geladene BEVs: 74 von 75<br>Verfügbare Solarenergie insgesamt: 276.47 kWh<br>Aufgeladene Solarenergie insgesamt: 195.75 kWh<br>Ungenutzte Solarenergie insgesamt: 80.72 kWh"
      ],
      "text/plain": [
       "<IPython.core.display.Markdown object>"
      ]
     },
     "execution_count": 4,
     "metadata": {},
     "output_type": "execute_result"
    }
   ],
   "source": [
    "simulationOutputDataVisualisation.print_algorithm_result(bev_data, simulation_data, anzahl_bevs_pro_tag, solarpeakleistung, minute_interval)"
   ]
  },
  {
   "cell_type": "markdown",
   "metadata": {},
   "source": [
    "### Tabellarische Übersicht Park- und Ladeverlauf der BEVs"
   ]
  },
  {
   "cell_type": "code",
   "execution_count": 5,
   "metadata": {
    "pycharm": {
     "is_executing": true
    }
   },
   "outputs": [
    {
     "data": {
      "application/vnd.jupyter.widget-view+json": {
       "model_id": "1e7357c9abb742daa2c9603d62597db6",
       "version_major": 2,
       "version_minor": 0
      },
      "text/plain": [
       "interactive(children=(IntSlider(value=480, description='Minute: ', max=960, min=480, step=15), Output()), _dom…"
      ]
     },
     "metadata": {},
     "output_type": "display_data"
    }
   ],
   "source": [
    "simulationOutputDataVisualisation.create_tabular_overview_per_minute_slider(table_dict, minute_interval)"
   ]
  },
  {
   "cell_type": "code",
   "execution_count": 6,
   "metadata": {
    "pycharm": {
     "is_executing": true
    }
   },
   "outputs": [
    {
     "data": {
      "application/vnd.plotly.v1+json": {
       "config": {
        "plotlyServerURL": "https://plot.ly"
       },
       "data": [
        {
         "line": {
          "color": "red"
         },
         "name": "Wartende BEVs",
         "type": "scatter",
         "x": [
          480,
          495,
          510,
          525,
          540,
          555,
          570,
          585,
          600,
          615,
          630,
          645,
          660,
          675,
          690,
          705,
          720,
          735,
          750,
          765,
          780,
          795,
          810,
          825,
          840,
          855,
          870,
          885,
          900,
          915,
          930,
          945,
          960
         ],
         "y": [
          12,
          11,
          23,
          22,
          28,
          26,
          26,
          25,
          20,
          19,
          15,
          13,
          9,
          5,
          5,
          4,
          4,
          4,
          4,
          3,
          1,
          1,
          4,
          2,
          1,
          1,
          1,
          1,
          1,
          1,
          1,
          0,
          0
         ]
        },
        {
         "line": {
          "color": "blue"
         },
         "name": "Ladende BEVs",
         "type": "scatter",
         "x": [
          480,
          495,
          510,
          525,
          540,
          555,
          570,
          585,
          600,
          615,
          630,
          645,
          660,
          675,
          690,
          705,
          720,
          735,
          750,
          765,
          780,
          795,
          810,
          825,
          840,
          855,
          870,
          885,
          900,
          915,
          930,
          945,
          960
         ],
         "y": [
          1,
          1,
          2,
          2,
          3,
          4,
          4,
          5,
          5,
          5,
          5,
          5,
          5,
          5,
          5,
          5,
          5,
          5,
          5,
          4,
          4,
          4,
          4,
          4,
          4,
          3,
          3,
          2,
          2,
          2,
          2,
          1,
          0
         ]
        }
       ],
       "layout": {
        "legend": {
         "tracegroupgap": 0
        },
        "margin": {
         "t": 60
        },
        "template": {
         "data": {
          "bar": [
           {
            "error_x": {
             "color": "#2a3f5f"
            },
            "error_y": {
             "color": "#2a3f5f"
            },
            "marker": {
             "line": {
              "color": "white",
              "width": 0.5
             },
             "pattern": {
              "fillmode": "overlay",
              "size": 10,
              "solidity": 0.2
             }
            },
            "type": "bar"
           }
          ],
          "barpolar": [
           {
            "marker": {
             "line": {
              "color": "white",
              "width": 0.5
             },
             "pattern": {
              "fillmode": "overlay",
              "size": 10,
              "solidity": 0.2
             }
            },
            "type": "barpolar"
           }
          ],
          "carpet": [
           {
            "aaxis": {
             "endlinecolor": "#2a3f5f",
             "gridcolor": "#C8D4E3",
             "linecolor": "#C8D4E3",
             "minorgridcolor": "#C8D4E3",
             "startlinecolor": "#2a3f5f"
            },
            "baxis": {
             "endlinecolor": "#2a3f5f",
             "gridcolor": "#C8D4E3",
             "linecolor": "#C8D4E3",
             "minorgridcolor": "#C8D4E3",
             "startlinecolor": "#2a3f5f"
            },
            "type": "carpet"
           }
          ],
          "choropleth": [
           {
            "colorbar": {
             "outlinewidth": 0,
             "ticks": ""
            },
            "type": "choropleth"
           }
          ],
          "contour": [
           {
            "colorbar": {
             "outlinewidth": 0,
             "ticks": ""
            },
            "colorscale": [
             [
              0,
              "#0d0887"
             ],
             [
              0.1111111111111111,
              "#46039f"
             ],
             [
              0.2222222222222222,
              "#7201a8"
             ],
             [
              0.3333333333333333,
              "#9c179e"
             ],
             [
              0.4444444444444444,
              "#bd3786"
             ],
             [
              0.5555555555555556,
              "#d8576b"
             ],
             [
              0.6666666666666666,
              "#ed7953"
             ],
             [
              0.7777777777777778,
              "#fb9f3a"
             ],
             [
              0.8888888888888888,
              "#fdca26"
             ],
             [
              1,
              "#f0f921"
             ]
            ],
            "type": "contour"
           }
          ],
          "contourcarpet": [
           {
            "colorbar": {
             "outlinewidth": 0,
             "ticks": ""
            },
            "type": "contourcarpet"
           }
          ],
          "heatmap": [
           {
            "colorbar": {
             "outlinewidth": 0,
             "ticks": ""
            },
            "colorscale": [
             [
              0,
              "#0d0887"
             ],
             [
              0.1111111111111111,
              "#46039f"
             ],
             [
              0.2222222222222222,
              "#7201a8"
             ],
             [
              0.3333333333333333,
              "#9c179e"
             ],
             [
              0.4444444444444444,
              "#bd3786"
             ],
             [
              0.5555555555555556,
              "#d8576b"
             ],
             [
              0.6666666666666666,
              "#ed7953"
             ],
             [
              0.7777777777777778,
              "#fb9f3a"
             ],
             [
              0.8888888888888888,
              "#fdca26"
             ],
             [
              1,
              "#f0f921"
             ]
            ],
            "type": "heatmap"
           }
          ],
          "heatmapgl": [
           {
            "colorbar": {
             "outlinewidth": 0,
             "ticks": ""
            },
            "colorscale": [
             [
              0,
              "#0d0887"
             ],
             [
              0.1111111111111111,
              "#46039f"
             ],
             [
              0.2222222222222222,
              "#7201a8"
             ],
             [
              0.3333333333333333,
              "#9c179e"
             ],
             [
              0.4444444444444444,
              "#bd3786"
             ],
             [
              0.5555555555555556,
              "#d8576b"
             ],
             [
              0.6666666666666666,
              "#ed7953"
             ],
             [
              0.7777777777777778,
              "#fb9f3a"
             ],
             [
              0.8888888888888888,
              "#fdca26"
             ],
             [
              1,
              "#f0f921"
             ]
            ],
            "type": "heatmapgl"
           }
          ],
          "histogram": [
           {
            "marker": {
             "pattern": {
              "fillmode": "overlay",
              "size": 10,
              "solidity": 0.2
             }
            },
            "type": "histogram"
           }
          ],
          "histogram2d": [
           {
            "colorbar": {
             "outlinewidth": 0,
             "ticks": ""
            },
            "colorscale": [
             [
              0,
              "#0d0887"
             ],
             [
              0.1111111111111111,
              "#46039f"
             ],
             [
              0.2222222222222222,
              "#7201a8"
             ],
             [
              0.3333333333333333,
              "#9c179e"
             ],
             [
              0.4444444444444444,
              "#bd3786"
             ],
             [
              0.5555555555555556,
              "#d8576b"
             ],
             [
              0.6666666666666666,
              "#ed7953"
             ],
             [
              0.7777777777777778,
              "#fb9f3a"
             ],
             [
              0.8888888888888888,
              "#fdca26"
             ],
             [
              1,
              "#f0f921"
             ]
            ],
            "type": "histogram2d"
           }
          ],
          "histogram2dcontour": [
           {
            "colorbar": {
             "outlinewidth": 0,
             "ticks": ""
            },
            "colorscale": [
             [
              0,
              "#0d0887"
             ],
             [
              0.1111111111111111,
              "#46039f"
             ],
             [
              0.2222222222222222,
              "#7201a8"
             ],
             [
              0.3333333333333333,
              "#9c179e"
             ],
             [
              0.4444444444444444,
              "#bd3786"
             ],
             [
              0.5555555555555556,
              "#d8576b"
             ],
             [
              0.6666666666666666,
              "#ed7953"
             ],
             [
              0.7777777777777778,
              "#fb9f3a"
             ],
             [
              0.8888888888888888,
              "#fdca26"
             ],
             [
              1,
              "#f0f921"
             ]
            ],
            "type": "histogram2dcontour"
           }
          ],
          "mesh3d": [
           {
            "colorbar": {
             "outlinewidth": 0,
             "ticks": ""
            },
            "type": "mesh3d"
           }
          ],
          "parcoords": [
           {
            "line": {
             "colorbar": {
              "outlinewidth": 0,
              "ticks": ""
             }
            },
            "type": "parcoords"
           }
          ],
          "pie": [
           {
            "automargin": true,
            "type": "pie"
           }
          ],
          "scatter": [
           {
            "marker": {
             "colorbar": {
              "outlinewidth": 0,
              "ticks": ""
             }
            },
            "type": "scatter"
           }
          ],
          "scatter3d": [
           {
            "line": {
             "colorbar": {
              "outlinewidth": 0,
              "ticks": ""
             }
            },
            "marker": {
             "colorbar": {
              "outlinewidth": 0,
              "ticks": ""
             }
            },
            "type": "scatter3d"
           }
          ],
          "scattercarpet": [
           {
            "marker": {
             "colorbar": {
              "outlinewidth": 0,
              "ticks": ""
             }
            },
            "type": "scattercarpet"
           }
          ],
          "scattergeo": [
           {
            "marker": {
             "colorbar": {
              "outlinewidth": 0,
              "ticks": ""
             }
            },
            "type": "scattergeo"
           }
          ],
          "scattergl": [
           {
            "marker": {
             "colorbar": {
              "outlinewidth": 0,
              "ticks": ""
             }
            },
            "type": "scattergl"
           }
          ],
          "scattermapbox": [
           {
            "marker": {
             "colorbar": {
              "outlinewidth": 0,
              "ticks": ""
             }
            },
            "type": "scattermapbox"
           }
          ],
          "scatterpolar": [
           {
            "marker": {
             "colorbar": {
              "outlinewidth": 0,
              "ticks": ""
             }
            },
            "type": "scatterpolar"
           }
          ],
          "scatterpolargl": [
           {
            "marker": {
             "colorbar": {
              "outlinewidth": 0,
              "ticks": ""
             }
            },
            "type": "scatterpolargl"
           }
          ],
          "scatterternary": [
           {
            "marker": {
             "colorbar": {
              "outlinewidth": 0,
              "ticks": ""
             }
            },
            "type": "scatterternary"
           }
          ],
          "surface": [
           {
            "colorbar": {
             "outlinewidth": 0,
             "ticks": ""
            },
            "colorscale": [
             [
              0,
              "#0d0887"
             ],
             [
              0.1111111111111111,
              "#46039f"
             ],
             [
              0.2222222222222222,
              "#7201a8"
             ],
             [
              0.3333333333333333,
              "#9c179e"
             ],
             [
              0.4444444444444444,
              "#bd3786"
             ],
             [
              0.5555555555555556,
              "#d8576b"
             ],
             [
              0.6666666666666666,
              "#ed7953"
             ],
             [
              0.7777777777777778,
              "#fb9f3a"
             ],
             [
              0.8888888888888888,
              "#fdca26"
             ],
             [
              1,
              "#f0f921"
             ]
            ],
            "type": "surface"
           }
          ],
          "table": [
           {
            "cells": {
             "fill": {
              "color": "#EBF0F8"
             },
             "line": {
              "color": "white"
             }
            },
            "header": {
             "fill": {
              "color": "#C8D4E3"
             },
             "line": {
              "color": "white"
             }
            },
            "type": "table"
           }
          ]
         },
         "layout": {
          "annotationdefaults": {
           "arrowcolor": "#2a3f5f",
           "arrowhead": 0,
           "arrowwidth": 1
          },
          "autotypenumbers": "strict",
          "coloraxis": {
           "colorbar": {
            "outlinewidth": 0,
            "ticks": ""
           }
          },
          "colorscale": {
           "diverging": [
            [
             0,
             "#8e0152"
            ],
            [
             0.1,
             "#c51b7d"
            ],
            [
             0.2,
             "#de77ae"
            ],
            [
             0.3,
             "#f1b6da"
            ],
            [
             0.4,
             "#fde0ef"
            ],
            [
             0.5,
             "#f7f7f7"
            ],
            [
             0.6,
             "#e6f5d0"
            ],
            [
             0.7,
             "#b8e186"
            ],
            [
             0.8,
             "#7fbc41"
            ],
            [
             0.9,
             "#4d9221"
            ],
            [
             1,
             "#276419"
            ]
           ],
           "sequential": [
            [
             0,
             "#0d0887"
            ],
            [
             0.1111111111111111,
             "#46039f"
            ],
            [
             0.2222222222222222,
             "#7201a8"
            ],
            [
             0.3333333333333333,
             "#9c179e"
            ],
            [
             0.4444444444444444,
             "#bd3786"
            ],
            [
             0.5555555555555556,
             "#d8576b"
            ],
            [
             0.6666666666666666,
             "#ed7953"
            ],
            [
             0.7777777777777778,
             "#fb9f3a"
            ],
            [
             0.8888888888888888,
             "#fdca26"
            ],
            [
             1,
             "#f0f921"
            ]
           ],
           "sequentialminus": [
            [
             0,
             "#0d0887"
            ],
            [
             0.1111111111111111,
             "#46039f"
            ],
            [
             0.2222222222222222,
             "#7201a8"
            ],
            [
             0.3333333333333333,
             "#9c179e"
            ],
            [
             0.4444444444444444,
             "#bd3786"
            ],
            [
             0.5555555555555556,
             "#d8576b"
            ],
            [
             0.6666666666666666,
             "#ed7953"
            ],
            [
             0.7777777777777778,
             "#fb9f3a"
            ],
            [
             0.8888888888888888,
             "#fdca26"
            ],
            [
             1,
             "#f0f921"
            ]
           ]
          },
          "colorway": [
           "#636efa",
           "#EF553B",
           "#00cc96",
           "#ab63fa",
           "#FFA15A",
           "#19d3f3",
           "#FF6692",
           "#B6E880",
           "#FF97FF",
           "#FECB52"
          ],
          "font": {
           "color": "#2a3f5f"
          },
          "geo": {
           "bgcolor": "white",
           "lakecolor": "white",
           "landcolor": "white",
           "showlakes": true,
           "showland": true,
           "subunitcolor": "#C8D4E3"
          },
          "hoverlabel": {
           "align": "left"
          },
          "hovermode": "closest",
          "mapbox": {
           "style": "light"
          },
          "paper_bgcolor": "white",
          "plot_bgcolor": "white",
          "polar": {
           "angularaxis": {
            "gridcolor": "#EBF0F8",
            "linecolor": "#EBF0F8",
            "ticks": ""
           },
           "bgcolor": "white",
           "radialaxis": {
            "gridcolor": "#EBF0F8",
            "linecolor": "#EBF0F8",
            "ticks": ""
           }
          },
          "scene": {
           "xaxis": {
            "backgroundcolor": "white",
            "gridcolor": "#DFE8F3",
            "gridwidth": 2,
            "linecolor": "#EBF0F8",
            "showbackground": true,
            "ticks": "",
            "zerolinecolor": "#EBF0F8"
           },
           "yaxis": {
            "backgroundcolor": "white",
            "gridcolor": "#DFE8F3",
            "gridwidth": 2,
            "linecolor": "#EBF0F8",
            "showbackground": true,
            "ticks": "",
            "zerolinecolor": "#EBF0F8"
           },
           "zaxis": {
            "backgroundcolor": "white",
            "gridcolor": "#DFE8F3",
            "gridwidth": 2,
            "linecolor": "#EBF0F8",
            "showbackground": true,
            "ticks": "",
            "zerolinecolor": "#EBF0F8"
           }
          },
          "shapedefaults": {
           "line": {
            "color": "#2a3f5f"
           }
          },
          "ternary": {
           "aaxis": {
            "gridcolor": "#DFE8F3",
            "linecolor": "#A2B1C6",
            "ticks": ""
           },
           "baxis": {
            "gridcolor": "#DFE8F3",
            "linecolor": "#A2B1C6",
            "ticks": ""
           },
           "bgcolor": "white",
           "caxis": {
            "gridcolor": "#DFE8F3",
            "linecolor": "#A2B1C6",
            "ticks": ""
           }
          },
          "title": {
           "x": 0.05
          },
          "xaxis": {
           "automargin": true,
           "gridcolor": "#EBF0F8",
           "linecolor": "#EBF0F8",
           "ticks": "",
           "title": {
            "standoff": 15
           },
           "zerolinecolor": "#EBF0F8",
           "zerolinewidth": 2
          },
          "yaxis": {
           "automargin": true,
           "gridcolor": "#EBF0F8",
           "linecolor": "#EBF0F8",
           "ticks": "",
           "title": {
            "standoff": 15
           },
           "zerolinecolor": "#EBF0F8",
           "zerolinewidth": 2
          }
         }
        },
        "title": {
         "font": {
          "size": 24
         },
         "text": "Anzahl wartender und ladender BEVs im Tagesverlauf",
         "x": 0.5,
         "xanchor": "center"
        },
        "xaxis": {
         "anchor": "y",
         "domain": [
          0,
          1
         ],
         "title": {
          "text": "Minuten"
         }
        },
        "yaxis": {
         "anchor": "x",
         "domain": [
          0,
          1
         ],
         "title": {
          "text": "Anzahl BEVs"
         }
        }
       }
      },
      "text/html": [
       "<div>                            <div id=\"d742a5e4-c949-44a8-8b30-40ce88cda25d\" class=\"plotly-graph-div\" style=\"height:525px; width:100%;\"></div>            <script type=\"text/javascript\">                require([\"plotly\"], function(Plotly) {                    window.PLOTLYENV=window.PLOTLYENV || {};                                    if (document.getElementById(\"d742a5e4-c949-44a8-8b30-40ce88cda25d\")) {                    Plotly.newPlot(                        \"d742a5e4-c949-44a8-8b30-40ce88cda25d\",                        [{\"line\":{\"color\":\"red\"},\"name\":\"Wartende BEVs\",\"x\":[480,495,510,525,540,555,570,585,600,615,630,645,660,675,690,705,720,735,750,765,780,795,810,825,840,855,870,885,900,915,930,945,960],\"y\":[12,11,23,22,28,26,26,25,20,19,15,13,9,5,5,4,4,4,4,3,1,1,4,2,1,1,1,1,1,1,1,0,0],\"type\":\"scatter\"},{\"line\":{\"color\":\"blue\"},\"name\":\"Ladende BEVs\",\"x\":[480,495,510,525,540,555,570,585,600,615,630,645,660,675,690,705,720,735,750,765,780,795,810,825,840,855,870,885,900,915,930,945,960],\"y\":[1,1,2,2,3,4,4,5,5,5,5,5,5,5,5,5,5,5,5,4,4,4,4,4,4,3,3,2,2,2,2,1,0],\"type\":\"scatter\"}],                        {\"template\":{\"data\":{\"barpolar\":[{\"marker\":{\"line\":{\"color\":\"white\",\"width\":0.5},\"pattern\":{\"fillmode\":\"overlay\",\"size\":10,\"solidity\":0.2}},\"type\":\"barpolar\"}],\"bar\":[{\"error_x\":{\"color\":\"#2a3f5f\"},\"error_y\":{\"color\":\"#2a3f5f\"},\"marker\":{\"line\":{\"color\":\"white\",\"width\":0.5},\"pattern\":{\"fillmode\":\"overlay\",\"size\":10,\"solidity\":0.2}},\"type\":\"bar\"}],\"carpet\":[{\"aaxis\":{\"endlinecolor\":\"#2a3f5f\",\"gridcolor\":\"#C8D4E3\",\"linecolor\":\"#C8D4E3\",\"minorgridcolor\":\"#C8D4E3\",\"startlinecolor\":\"#2a3f5f\"},\"baxis\":{\"endlinecolor\":\"#2a3f5f\",\"gridcolor\":\"#C8D4E3\",\"linecolor\":\"#C8D4E3\",\"minorgridcolor\":\"#C8D4E3\",\"startlinecolor\":\"#2a3f5f\"},\"type\":\"carpet\"}],\"choropleth\":[{\"colorbar\":{\"outlinewidth\":0,\"ticks\":\"\"},\"type\":\"choropleth\"}],\"contourcarpet\":[{\"colorbar\":{\"outlinewidth\":0,\"ticks\":\"\"},\"type\":\"contourcarpet\"}],\"contour\":[{\"colorbar\":{\"outlinewidth\":0,\"ticks\":\"\"},\"colorscale\":[[0.0,\"#0d0887\"],[0.1111111111111111,\"#46039f\"],[0.2222222222222222,\"#7201a8\"],[0.3333333333333333,\"#9c179e\"],[0.4444444444444444,\"#bd3786\"],[0.5555555555555556,\"#d8576b\"],[0.6666666666666666,\"#ed7953\"],[0.7777777777777778,\"#fb9f3a\"],[0.8888888888888888,\"#fdca26\"],[1.0,\"#f0f921\"]],\"type\":\"contour\"}],\"heatmapgl\":[{\"colorbar\":{\"outlinewidth\":0,\"ticks\":\"\"},\"colorscale\":[[0.0,\"#0d0887\"],[0.1111111111111111,\"#46039f\"],[0.2222222222222222,\"#7201a8\"],[0.3333333333333333,\"#9c179e\"],[0.4444444444444444,\"#bd3786\"],[0.5555555555555556,\"#d8576b\"],[0.6666666666666666,\"#ed7953\"],[0.7777777777777778,\"#fb9f3a\"],[0.8888888888888888,\"#fdca26\"],[1.0,\"#f0f921\"]],\"type\":\"heatmapgl\"}],\"heatmap\":[{\"colorbar\":{\"outlinewidth\":0,\"ticks\":\"\"},\"colorscale\":[[0.0,\"#0d0887\"],[0.1111111111111111,\"#46039f\"],[0.2222222222222222,\"#7201a8\"],[0.3333333333333333,\"#9c179e\"],[0.4444444444444444,\"#bd3786\"],[0.5555555555555556,\"#d8576b\"],[0.6666666666666666,\"#ed7953\"],[0.7777777777777778,\"#fb9f3a\"],[0.8888888888888888,\"#fdca26\"],[1.0,\"#f0f921\"]],\"type\":\"heatmap\"}],\"histogram2dcontour\":[{\"colorbar\":{\"outlinewidth\":0,\"ticks\":\"\"},\"colorscale\":[[0.0,\"#0d0887\"],[0.1111111111111111,\"#46039f\"],[0.2222222222222222,\"#7201a8\"],[0.3333333333333333,\"#9c179e\"],[0.4444444444444444,\"#bd3786\"],[0.5555555555555556,\"#d8576b\"],[0.6666666666666666,\"#ed7953\"],[0.7777777777777778,\"#fb9f3a\"],[0.8888888888888888,\"#fdca26\"],[1.0,\"#f0f921\"]],\"type\":\"histogram2dcontour\"}],\"histogram2d\":[{\"colorbar\":{\"outlinewidth\":0,\"ticks\":\"\"},\"colorscale\":[[0.0,\"#0d0887\"],[0.1111111111111111,\"#46039f\"],[0.2222222222222222,\"#7201a8\"],[0.3333333333333333,\"#9c179e\"],[0.4444444444444444,\"#bd3786\"],[0.5555555555555556,\"#d8576b\"],[0.6666666666666666,\"#ed7953\"],[0.7777777777777778,\"#fb9f3a\"],[0.8888888888888888,\"#fdca26\"],[1.0,\"#f0f921\"]],\"type\":\"histogram2d\"}],\"histogram\":[{\"marker\":{\"pattern\":{\"fillmode\":\"overlay\",\"size\":10,\"solidity\":0.2}},\"type\":\"histogram\"}],\"mesh3d\":[{\"colorbar\":{\"outlinewidth\":0,\"ticks\":\"\"},\"type\":\"mesh3d\"}],\"parcoords\":[{\"line\":{\"colorbar\":{\"outlinewidth\":0,\"ticks\":\"\"}},\"type\":\"parcoords\"}],\"pie\":[{\"automargin\":true,\"type\":\"pie\"}],\"scatter3d\":[{\"line\":{\"colorbar\":{\"outlinewidth\":0,\"ticks\":\"\"}},\"marker\":{\"colorbar\":{\"outlinewidth\":0,\"ticks\":\"\"}},\"type\":\"scatter3d\"}],\"scattercarpet\":[{\"marker\":{\"colorbar\":{\"outlinewidth\":0,\"ticks\":\"\"}},\"type\":\"scattercarpet\"}],\"scattergeo\":[{\"marker\":{\"colorbar\":{\"outlinewidth\":0,\"ticks\":\"\"}},\"type\":\"scattergeo\"}],\"scattergl\":[{\"marker\":{\"colorbar\":{\"outlinewidth\":0,\"ticks\":\"\"}},\"type\":\"scattergl\"}],\"scattermapbox\":[{\"marker\":{\"colorbar\":{\"outlinewidth\":0,\"ticks\":\"\"}},\"type\":\"scattermapbox\"}],\"scatterpolargl\":[{\"marker\":{\"colorbar\":{\"outlinewidth\":0,\"ticks\":\"\"}},\"type\":\"scatterpolargl\"}],\"scatterpolar\":[{\"marker\":{\"colorbar\":{\"outlinewidth\":0,\"ticks\":\"\"}},\"type\":\"scatterpolar\"}],\"scatter\":[{\"marker\":{\"colorbar\":{\"outlinewidth\":0,\"ticks\":\"\"}},\"type\":\"scatter\"}],\"scatterternary\":[{\"marker\":{\"colorbar\":{\"outlinewidth\":0,\"ticks\":\"\"}},\"type\":\"scatterternary\"}],\"surface\":[{\"colorbar\":{\"outlinewidth\":0,\"ticks\":\"\"},\"colorscale\":[[0.0,\"#0d0887\"],[0.1111111111111111,\"#46039f\"],[0.2222222222222222,\"#7201a8\"],[0.3333333333333333,\"#9c179e\"],[0.4444444444444444,\"#bd3786\"],[0.5555555555555556,\"#d8576b\"],[0.6666666666666666,\"#ed7953\"],[0.7777777777777778,\"#fb9f3a\"],[0.8888888888888888,\"#fdca26\"],[1.0,\"#f0f921\"]],\"type\":\"surface\"}],\"table\":[{\"cells\":{\"fill\":{\"color\":\"#EBF0F8\"},\"line\":{\"color\":\"white\"}},\"header\":{\"fill\":{\"color\":\"#C8D4E3\"},\"line\":{\"color\":\"white\"}},\"type\":\"table\"}]},\"layout\":{\"annotationdefaults\":{\"arrowcolor\":\"#2a3f5f\",\"arrowhead\":0,\"arrowwidth\":1},\"autotypenumbers\":\"strict\",\"coloraxis\":{\"colorbar\":{\"outlinewidth\":0,\"ticks\":\"\"}},\"colorscale\":{\"diverging\":[[0,\"#8e0152\"],[0.1,\"#c51b7d\"],[0.2,\"#de77ae\"],[0.3,\"#f1b6da\"],[0.4,\"#fde0ef\"],[0.5,\"#f7f7f7\"],[0.6,\"#e6f5d0\"],[0.7,\"#b8e186\"],[0.8,\"#7fbc41\"],[0.9,\"#4d9221\"],[1,\"#276419\"]],\"sequential\":[[0.0,\"#0d0887\"],[0.1111111111111111,\"#46039f\"],[0.2222222222222222,\"#7201a8\"],[0.3333333333333333,\"#9c179e\"],[0.4444444444444444,\"#bd3786\"],[0.5555555555555556,\"#d8576b\"],[0.6666666666666666,\"#ed7953\"],[0.7777777777777778,\"#fb9f3a\"],[0.8888888888888888,\"#fdca26\"],[1.0,\"#f0f921\"]],\"sequentialminus\":[[0.0,\"#0d0887\"],[0.1111111111111111,\"#46039f\"],[0.2222222222222222,\"#7201a8\"],[0.3333333333333333,\"#9c179e\"],[0.4444444444444444,\"#bd3786\"],[0.5555555555555556,\"#d8576b\"],[0.6666666666666666,\"#ed7953\"],[0.7777777777777778,\"#fb9f3a\"],[0.8888888888888888,\"#fdca26\"],[1.0,\"#f0f921\"]]},\"colorway\":[\"#636efa\",\"#EF553B\",\"#00cc96\",\"#ab63fa\",\"#FFA15A\",\"#19d3f3\",\"#FF6692\",\"#B6E880\",\"#FF97FF\",\"#FECB52\"],\"font\":{\"color\":\"#2a3f5f\"},\"geo\":{\"bgcolor\":\"white\",\"lakecolor\":\"white\",\"landcolor\":\"white\",\"showlakes\":true,\"showland\":true,\"subunitcolor\":\"#C8D4E3\"},\"hoverlabel\":{\"align\":\"left\"},\"hovermode\":\"closest\",\"mapbox\":{\"style\":\"light\"},\"paper_bgcolor\":\"white\",\"plot_bgcolor\":\"white\",\"polar\":{\"angularaxis\":{\"gridcolor\":\"#EBF0F8\",\"linecolor\":\"#EBF0F8\",\"ticks\":\"\"},\"bgcolor\":\"white\",\"radialaxis\":{\"gridcolor\":\"#EBF0F8\",\"linecolor\":\"#EBF0F8\",\"ticks\":\"\"}},\"scene\":{\"xaxis\":{\"backgroundcolor\":\"white\",\"gridcolor\":\"#DFE8F3\",\"gridwidth\":2,\"linecolor\":\"#EBF0F8\",\"showbackground\":true,\"ticks\":\"\",\"zerolinecolor\":\"#EBF0F8\"},\"yaxis\":{\"backgroundcolor\":\"white\",\"gridcolor\":\"#DFE8F3\",\"gridwidth\":2,\"linecolor\":\"#EBF0F8\",\"showbackground\":true,\"ticks\":\"\",\"zerolinecolor\":\"#EBF0F8\"},\"zaxis\":{\"backgroundcolor\":\"white\",\"gridcolor\":\"#DFE8F3\",\"gridwidth\":2,\"linecolor\":\"#EBF0F8\",\"showbackground\":true,\"ticks\":\"\",\"zerolinecolor\":\"#EBF0F8\"}},\"shapedefaults\":{\"line\":{\"color\":\"#2a3f5f\"}},\"ternary\":{\"aaxis\":{\"gridcolor\":\"#DFE8F3\",\"linecolor\":\"#A2B1C6\",\"ticks\":\"\"},\"baxis\":{\"gridcolor\":\"#DFE8F3\",\"linecolor\":\"#A2B1C6\",\"ticks\":\"\"},\"bgcolor\":\"white\",\"caxis\":{\"gridcolor\":\"#DFE8F3\",\"linecolor\":\"#A2B1C6\",\"ticks\":\"\"}},\"title\":{\"x\":0.05},\"xaxis\":{\"automargin\":true,\"gridcolor\":\"#EBF0F8\",\"linecolor\":\"#EBF0F8\",\"ticks\":\"\",\"title\":{\"standoff\":15},\"zerolinecolor\":\"#EBF0F8\",\"zerolinewidth\":2},\"yaxis\":{\"automargin\":true,\"gridcolor\":\"#EBF0F8\",\"linecolor\":\"#EBF0F8\",\"ticks\":\"\",\"title\":{\"standoff\":15},\"zerolinecolor\":\"#EBF0F8\",\"zerolinewidth\":2}}},\"xaxis\":{\"anchor\":\"y\",\"domain\":[0.0,1.0],\"title\":{\"text\":\"Minuten\"}},\"yaxis\":{\"anchor\":\"x\",\"domain\":[0.0,1.0],\"title\":{\"text\":\"Anzahl BEVs\"}},\"legend\":{\"tracegroupgap\":0},\"margin\":{\"t\":60},\"title\":{\"font\":{\"size\":24},\"text\":\"Anzahl wartender und ladender BEVs im Tagesverlauf\",\"x\":0.5,\"xanchor\":\"center\"}},                        {\"responsive\": true}                    ).then(function(){\n",
       "                            \n",
       "var gd = document.getElementById('d742a5e4-c949-44a8-8b30-40ce88cda25d');\n",
       "var x = new MutationObserver(function (mutations, observer) {{\n",
       "        var display = window.getComputedStyle(gd).display;\n",
       "        if (!display || display === 'none') {{\n",
       "            console.log([gd, 'removed!']);\n",
       "            Plotly.purge(gd);\n",
       "            observer.disconnect();\n",
       "        }}\n",
       "}});\n",
       "\n",
       "// Listen for the removal of the full notebook cells\n",
       "var notebookContainer = gd.closest('#notebook-container');\n",
       "if (notebookContainer) {{\n",
       "    x.observe(notebookContainer, {childList: true});\n",
       "}}\n",
       "\n",
       "// Listen for the clearing of the current output cell\n",
       "var outputEl = gd.closest('.output');\n",
       "if (outputEl) {{\n",
       "    x.observe(outputEl, {childList: true});\n",
       "}}\n",
       "\n",
       "                        })                };                });            </script>        </div>"
      ]
     },
     "metadata": {},
     "output_type": "display_data"
    }
   ],
   "source": [
    "import figureGeneration\n",
    "\n",
    "figureGeneration.create_bev_number_figure(simulation_data)"
   ]
  },
  {
   "cell_type": "code",
   "execution_count": 7,
   "metadata": {
    "pycharm": {
     "is_executing": true
    }
   },
   "outputs": [
    {
     "data": {
      "application/vnd.plotly.v1+json": {
       "config": {
        "plotlyServerURL": "https://plot.ly"
       },
       "data": [
        {
         "line": {
          "color": "orange"
         },
         "name": "Verfügbare Solarleistung",
         "type": "scatter",
         "x": [
          480,
          495,
          510,
          525,
          540,
          555,
          570,
          585,
          600,
          615,
          630,
          645,
          660,
          675,
          690,
          705,
          720,
          735,
          750,
          765,
          780,
          795,
          810,
          825,
          840,
          855,
          870,
          885,
          900,
          915,
          930,
          945,
          960
         ],
         "y": [
          -2,
          3.25,
          8.5,
          13.749999999999998,
          19,
          27,
          35,
          43,
          51,
          50.75,
          50.5,
          50.25,
          50,
          51.25,
          52.5,
          53.75,
          55,
          50.25,
          45.5,
          40.75,
          36,
          37.5,
          39,
          40.5,
          42,
          36,
          30,
          24,
          18,
          15.75,
          13.5,
          11.25,
          9
         ]
        },
        {
         "line": {
          "color": "green"
         },
         "mode": "lines",
         "name": "ID BEV 8",
         "type": "scatter",
         "x": [
          480,
          480,
          495,
          510,
          525,
          540,
          542.1130434782608,
          542.1130434782608
         ],
         "y": [
          0,
          0.62,
          5.87,
          5.56,
          8.19,
          7.666666666666667,
          6.71,
          0
         ]
        },
        {
         "line": {
          "color": "green"
         },
         "mode": "lines",
         "name": "ID BEV 11",
         "type": "scatter",
         "x": [
          510,
          510,
          525,
          533.6080586080586,
          533.6080586080586
         ],
         "y": [
          0,
          11.12,
          16.38,
          8.38,
          0
         ]
        },
        {
         "line": {
          "color": "green"
         },
         "mode": "lines",
         "name": "ID BEV 18",
         "type": "scatter",
         "x": [
          533.6080586080586,
          533.6080586080586,
          540,
          555,
          563.2516129032258,
          563.2516129032258
         ],
         "y": [
          0,
          16.57,
          15.333333333333334,
          7.75,
          7.85,
          0
         ]
        },
        {
         "line": {
          "color": "green"
         },
         "mode": "lines",
         "name": "ID BEV 20",
         "type": "scatter",
         "x": [
          540,
          540,
          555,
          570,
          572.2051282051282,
          572.2051282051282
         ],
         "y": [
          0,
          23,
          15.5,
          9.75,
          9.045,
          0
         ]
        },
        {
         "line": {
          "color": "green"
         },
         "mode": "lines",
         "name": "ID BEV 22",
         "type": "scatter",
         "x": [
          542.1130434782608,
          542.1130434782608,
          555,
          562.1096774193547,
          562.1096774193547
         ],
         "y": [
          0,
          14.376666666666667,
          23.25,
          7.6975,
          0
         ]
        },
        {
         "line": {
          "color": "green"
         },
         "mode": "lines",
         "name": "ID BEV 72",
         "type": "scatter",
         "x": [
          555,
          555,
          566.0774193548388,
          566.0774193548388
         ],
         "y": [
          0,
          31,
          8.2275,
          0
         ]
        },
        {
         "line": {
          "color": "green"
         },
         "mode": "lines",
         "name": "ID BEV 28",
         "type": "scatter",
         "x": [
          563.2516129032258,
          563.2516129032258,
          570,
          585,
          594.5,
          594.5
         ],
         "y": [
          0,
          15.6,
          19.5,
          9.4,
          9.614,
          0
         ]
        },
        {
         "line": {
          "color": "green"
         },
         "mode": "lines",
         "name": "ID BEV 40",
         "type": "scatter",
         "x": [
          562.1096774193547,
          562.1096774193547,
          570,
          585,
          597.7393617021276,
          597.7393617021276
         ],
         "y": [
          0,
          15.4475,
          29.25,
          18.8,
          9.958,
          0
         ]
        },
        {
         "line": {
          "color": "green"
         },
         "mode": "lines",
         "name": "ID BEV 60",
         "type": "scatter",
         "x": [
          566.0774193548388,
          566.0774193548388,
          570,
          585,
          594.2765957446809,
          594.2765957446809
         ],
         "y": [
          0,
          15.9775,
          39,
          28.200000000000003,
          9.59,
          0
         ]
        },
        {
         "line": {
          "color": "green"
         },
         "mode": "lines",
         "name": "ID BEV 61",
         "type": "scatter",
         "x": [
          572.2051282051282,
          572.2051282051282,
          585,
          591.7234042553191,
          591.7234042553191
         ],
         "y": [
          0,
          18.795,
          37.6,
          9.318000000000001,
          0
         ]
        },
        {
         "line": {
          "color": "green"
         },
         "mode": "lines",
         "name": "ID BEV 65",
         "type": "scatter",
         "x": [
          585,
          585,
          600,
          609.9793632075472,
          609.9793632075472
         ],
         "y": [
          0,
          47,
          10.176,
          10.166,
          0
         ]
        },
        {
         "line": {
          "color": "green"
         },
         "mode": "lines",
         "name": "ID BEV 68",
         "type": "scatter",
         "x": [
          594.5,
          594.5,
          600,
          615,
          620.8781114184117,
          620.8781114184117
         ],
         "y": [
          0,
          19.014000000000003,
          20.352,
          10.123999999999999,
          10.129999999999999,
          0
         ]
        },
        {
         "line": {
          "color": "green"
         },
         "mode": "lines",
         "name": "ID BEV 71",
         "type": "scatter",
         "x": [
          597.7393617021276,
          597.7393617021276,
          600,
          615,
          630,
          631.2852322350138,
          631.2852322350138
         ],
         "y": [
          0,
          19.358,
          30.528,
          20.247999999999998,
          10.076,
          10.096,
          0
         ]
        },
        {
         "line": {
          "color": "green"
         },
         "mode": "lines",
         "name": "ID BEV 3",
         "type": "scatter",
         "x": [
          594.2765957446809,
          594.2765957446809,
          600,
          615,
          616.7740023706045,
          616.7740023706045
         ],
         "y": [
          0,
          18.990000000000002,
          40.704,
          30.371999999999996,
          10.144,
          0
         ]
        },
        {
         "line": {
          "color": "green"
         },
         "mode": "lines",
         "name": "ID BEV 4",
         "type": "scatter",
         "x": [
          591.7234042553191,
          591.7234042553191,
          600,
          615,
          619.9891347293559,
          619.9891347293559
         ],
         "y": [
          0,
          18.718000000000004,
          50.88,
          40.495999999999995,
          10.134,
          0
         ]
        },
        {
         "line": {
          "color": "green"
         },
         "mode": "lines",
         "name": "ID BEV 9",
         "type": "scatter",
         "x": [
          609.9793632075472,
          609.9793632075472,
          615,
          629.4221651521138,
          629.4221651521138
         ],
         "y": [
          0,
          20.342,
          50.61999999999999,
          10.102,
          0
         ]
        },
        {
         "line": {
          "color": "green"
         },
         "mode": "lines",
         "name": "ID BEV 12",
         "type": "scatter",
         "x": [
          620.8781114184117,
          620.8781114184117,
          630,
          645,
          653.2561851556264,
          653.2561851556264
         ],
         "y": [
          0,
          20.253999999999998,
          20.152,
          10.024,
          10.022,
          0
         ]
        },
        {
         "line": {
          "color": "green"
         },
         "mode": "lines",
         "name": "ID BEV 14",
         "type": "scatter",
         "x": [
          616.7740023706045,
          616.7740023706045,
          630,
          643.3733624454148,
          643.3733624454148
         ],
         "y": [
          0,
          20.268,
          30.228,
          10.056000000000001,
          0
         ]
        },
        {
         "line": {
          "color": "green"
         },
         "mode": "lines",
         "name": "ID BEV 24",
         "type": "scatter",
         "x": [
          619.9891347293559,
          619.9891347293559,
          630,
          645,
          647.839185953711,
          647.839185953711
         ],
         "y": [
          0,
          20.258,
          40.304,
          20.048,
          10.040000000000001,
          0
         ]
        },
        {
         "line": {
          "color": "green"
         },
         "mode": "lines",
         "name": "ID BEV 26",
         "type": "scatter",
         "x": [
          629.4221651521138,
          629.4221651521138,
          630,
          645,
          645.6644054269753,
          645.6644054269753
         ],
         "y": [
          0,
          20.226,
          50.38,
          30.071999999999996,
          10.048,
          0
         ]
        },
        {
         "line": {
          "color": "green"
         },
         "mode": "lines",
         "name": "ID BEV 42",
         "type": "scatter",
         "x": [
          631.2852322350138,
          631.2852322350138,
          645,
          653.6003591380686,
          653.6003591380686
         ],
         "y": [
          0,
          20.172,
          40.096,
          10.022,
          0
         ]
        },
        {
         "line": {
          "color": "green"
         },
         "mode": "lines",
         "name": "ID BEV 66",
         "type": "scatter",
         "x": [
          643.3733624454148,
          643.3733624454148,
          645,
          660,
          673.5470169893323,
          673.5470169893323
         ],
         "y": [
          0,
          20.132,
          50.12,
          10.123999999999999,
          10.226,
          0
         ]
        },
        {
         "line": {
          "color": "green"
         },
         "mode": "lines",
         "name": "ID BEV 69",
         "type": "scatter",
         "x": [
          653.2561851556264,
          653.2561851556264,
          660,
          675,
          675
         ],
         "y": [
          0,
          20.046,
          20.247999999999998,
          10.25,
          0
         ]
        },
        {
         "line": {
          "color": "green"
         },
         "mode": "lines",
         "name": "ID BEV 73",
         "type": "scatter",
         "x": [
          647.839185953711,
          647.839185953711,
          660,
          667.4278941129987,
          667.4278941129987
         ],
         "y": [
          0,
          20.064,
          30.371999999999996,
          10.123999999999999,
          0
         ]
        },
        {
         "line": {
          "color": "green"
         },
         "mode": "lines",
         "name": "ID BEV 74",
         "type": "scatter",
         "x": [
          645.6644054269753,
          645.6644054269753,
          660,
          671.1862900039511,
          671.1862900039511
         ],
         "y": [
          0,
          20.072,
          40.495999999999995,
          10.186,
          0
         ]
        },
        {
         "line": {
          "color": "green"
         },
         "mode": "lines",
         "name": "ID BEV 2",
         "type": "scatter",
         "x": [
          653.6003591380686,
          653.6003591380686,
          660,
          673.5025681548794,
          673.5025681548794
         ],
         "y": [
          0,
          20.046,
          50.61999999999999,
          10.226,
          0
         ]
        },
        {
         "line": {
          "color": "green"
         },
         "mode": "lines",
         "name": "ID BEV 5",
         "type": "scatter",
         "x": [
          673.5470169893323,
          673.5470169893323,
          675,
          690,
          690
         ],
         "y": [
          0,
          20.35,
          20.626,
          10.5,
          0
         ]
        },
        {
         "line": {
          "color": "green"
         },
         "mode": "lines",
         "name": "ID BEV 27",
         "type": "scatter",
         "x": [
          667.4278941129987,
          667.4278941129987,
          675,
          690,
          690
         ],
         "y": [
          0,
          20.247999999999998,
          31.002000000000002,
          21,
          0
         ]
        },
        {
         "line": {
          "color": "green"
         },
         "mode": "lines",
         "name": "ID BEV 36",
         "type": "scatter",
         "x": [
          671.1862900039511,
          671.1862900039511,
          675,
          690,
          690
         ],
         "y": [
          0,
          20.31,
          41.378,
          31.5,
          0
         ]
        },
        {
         "line": {
          "color": "green"
         },
         "mode": "lines",
         "name": "ID BEV 41",
         "type": "scatter",
         "x": [
          673.5025681548794,
          673.5025681548794,
          675,
          690,
          702.2599774096385,
          702.2599774096385
         ],
         "y": [
          0,
          20.35,
          51.754000000000005,
          42.123999999999995,
          10.704,
          0
         ]
        },
        {
         "line": {
          "color": "green"
         },
         "mode": "lines",
         "name": "ID BEV 38",
         "type": "scatter",
         "x": [
          687.7374018285749,
          687.7374018285749,
          690,
          705,
          705
         ],
         "y": [
          0,
          10.376000000000001,
          52.74799999999999,
          10.75,
          0
         ]
        },
        {
         "line": {
          "color": "green"
         },
         "mode": "lines",
         "name": "ID BEV 0",
         "type": "scatter",
         "x": [
          691.500684957718,
          691.500684957718,
          705,
          705
         ],
         "y": [
          0,
          10.623999999999999,
          21.5,
          0
         ]
        },
        {
         "line": {
          "color": "green"
         },
         "mode": "lines",
         "name": "ID BEV 54",
         "type": "scatter",
         "x": [
          691.1726694576889,
          691.1726694576889,
          705,
          705
         ],
         "y": [
          0,
          10.623999999999999,
          32.25,
          0
         ]
        },
        {
         "line": {
          "color": "green"
         },
         "mode": "lines",
         "name": "ID BEV 57",
         "type": "scatter",
         "x": [
          690.945265571045,
          690.945265571045,
          705,
          710.2365014242808,
          710.2365014242808
         ],
         "y": [
          0,
          10.623999999999999,
          43.126000000000005,
          13.5475,
          0
         ]
        },
        {
         "line": {
          "color": "green"
         },
         "mode": "lines",
         "name": "ID BEV 55",
         "type": "scatter",
         "x": [
          702.2599774096385,
          702.2599774096385,
          705,
          719.3563810224347,
          719.3563810224347
         ],
         "y": [
          0,
          21.328,
          54.00200000000001,
          10.99,
          0
         ]
        },
        {
         "line": {
          "color": "green"
         },
         "mode": "lines",
         "name": "ID BEV 52",
         "type": "scatter",
         "x": [
          710.2365014242808,
          710.2365014242808,
          720,
          735,
          735
         ],
         "y": [
          0,
          24.4235,
          10.524,
          10.05,
          0
         ]
        },
        {
         "line": {
          "color": "green"
         },
         "mode": "lines",
         "name": "ID BEV 53",
         "type": "scatter",
         "x": [
          717.2140492828246,
          717.2140492828246,
          720,
          735,
          750,
          750
         ],
         "y": [
          0,
          10.876000000000001,
          21.048,
          19.626,
          9.1,
          0
         ]
        },
        {
         "line": {
          "color": "green"
         },
         "mode": "lines",
         "name": "ID BEV 63",
         "type": "scatter",
         "x": [
          706.5575087660767,
          706.5575087660767,
          720,
          735,
          738.8836116687396,
          738.8836116687396
         ],
         "y": [
          0,
          10.876000000000001,
          31.571999999999996,
          29.202,
          9.804,
          0
         ]
        },
        {
         "line": {
          "color": "green"
         },
         "mode": "lines",
         "name": "ID BEV 64",
         "type": "scatter",
         "x": [
          719.3563810224347,
          719.3563810224347,
          720,
          735,
          750,
          750
         ],
         "y": [
          0,
          21.866,
          42.096,
          38.778000000000006,
          18.2,
          0
         ]
        },
        {
         "line": {
          "color": "green"
         },
         "mode": "lines",
         "name": "ID BEV 62",
         "type": "scatter",
         "x": [
          724.9113492124795,
          724.9113492124795,
          735,
          750,
          750
         ],
         "y": [
          0,
          10.524,
          48.354000000000006,
          27.299999999999997,
          0
         ]
        },
        {
         "line": {
          "color": "green"
         },
         "mode": "lines",
         "name": "ID BEV 50",
         "type": "scatter",
         "x": [
          741.1918401445793,
          741.1918401445793,
          750,
          765,
          765
         ],
         "y": [
          0,
          9.576,
          35.92399999999999,
          8.15,
          0
         ]
        },
        {
         "line": {
          "color": "green"
         },
         "mode": "lines",
         "name": "ID BEV 1",
         "type": "scatter",
         "x": [
          738.8836116687396,
          738.8836116687396,
          750,
          765,
          765
         ],
         "y": [
          0,
          19.380000000000003,
          44.54799999999999,
          16.3,
          0
         ]
        },
        {
         "line": {
          "color": "green"
         },
         "mode": "lines",
         "name": "ID BEV 51",
         "type": "scatter",
         "x": [
          761.5482923517457,
          761.5482923517457,
          765,
          765
         ],
         "y": [
          0,
          8.623999999999999,
          24.450000000000003,
          0
         ]
        },
        {
         "line": {
          "color": "green"
         },
         "mode": "lines",
         "name": "ID BEV 58",
         "type": "scatter",
         "x": [
          756.3163686962387,
          756.3163686962387,
          765,
          771.9401203278221,
          771.9401203278221
         ],
         "y": [
          0,
          8.623999999999999,
          34.045,
          9.6375,
          0
         ]
        },
        {
         "line": {
          "color": "green"
         },
         "mode": "lines",
         "name": "ID BEV 48",
         "type": "scatter",
         "x": [
          750,
          750,
          765,
          775.186555497655,
          775.186555497655
         ],
         "y": [
          0,
          8.623999999999999,
          43.64,
          9.38,
          0
         ]
        },
        {
         "line": {
          "color": "green"
         },
         "mode": "lines",
         "name": "ID BEV 46",
         "type": "scatter",
         "x": [
          770.8075896106357,
          770.8075896106357,
          780,
          780
         ],
         "y": [
          0,
          9.595,
          12,
          0
         ]
        },
        {
         "line": {
          "color": "green"
         },
         "mode": "lines",
         "name": "ID BEV 47",
         "type": "scatter",
         "x": [
          771.9401203278221,
          771.9401203278221,
          780,
          780
         ],
         "y": [
          0,
          19.2325,
          24,
          0
         ]
        },
        {
         "line": {
          "color": "green"
         },
         "mode": "lines",
         "name": "ID BEV 43",
         "type": "scatter",
         "x": [
          775.186555497655,
          775.186555497655,
          780,
          780
         ],
         "y": [
          0,
          18.975,
          36,
          0
         ]
        },
        {
         "line": {
          "color": "green"
         },
         "mode": "lines",
         "name": "ID BEV 34",
         "type": "scatter",
         "x": [
          784.391708551189,
          784.391708551189,
          795,
          795
         ],
         "y": [
          0,
          9.1875,
          9.375,
          0
         ]
        },
        {
         "line": {
          "color": "green"
         },
         "mode": "lines",
         "name": "ID BEV 37",
         "type": "scatter",
         "x": [
          785.5744712430426,
          785.5744712430426,
          795,
          795
         ],
         "y": [
          0,
          9.1875,
          18.75,
          0
         ]
        },
        {
         "line": {
          "color": "green"
         },
         "mode": "lines",
         "name": "ID BEV 44",
         "type": "scatter",
         "x": [
          788.6901669758813,
          788.6901669758813,
          795,
          799.9807486631016,
          799.9807486631016
         ],
         "y": [
          0,
          9.1875,
          28.3125,
          9.5,
          0
         ]
        },
        {
         "line": {
          "color": "green"
         },
         "mode": "lines",
         "name": "ID BEV 45",
         "type": "scatter",
         "x": [
          794.598194678654,
          794.598194678654,
          795,
          805.6570890049812,
          805.6570890049812
         ],
         "y": [
          0,
          9.1875,
          37.875,
          9.6425,
          0
         ]
        },
        {
         "line": {
          "color": "green"
         },
         "mode": "lines",
         "name": "ID BEV 30",
         "type": "scatter",
         "x": [
          799.9807486631016,
          799.9807486631016,
          810,
          825,
          825
         ],
         "y": [
          0,
          19.0625,
          9.9375,
          13.5,
          0
         ]
        },
        {
         "line": {
          "color": "green"
         },
         "mode": "lines",
         "name": "ID BEV 39",
         "type": "scatter",
         "x": [
          805.6570890049812,
          805.6570890049812,
          810,
          818.7568214953593,
          818.7568214953593
         ],
         "y": [
          0,
          19.205,
          19.875,
          13.293333333333335,
          0
         ]
        },
        {
         "line": {
          "color": "green"
         },
         "mode": "lines",
         "name": "ID BEV 35",
         "type": "scatter",
         "x": [
          818.7568214953593,
          818.7568214953593,
          825,
          825
         ],
         "y": [
          0,
          26.543333333333337,
          27,
          0
         ]
        },
        {
         "line": {
          "color": "green"
         },
         "mode": "lines",
         "name": "ID BEV 70",
         "type": "scatter",
         "x": [
          810,
          810,
          822.9358490566037,
          822.9358490566037
         ],
         "y": [
          0,
          29.8125,
          10.0725,
          0
         ]
        },
        {
         "line": {
          "color": "green"
         },
         "mode": "lines",
         "name": "ID BEV 56",
         "type": "scatter",
         "x": [
          822.9358490566037,
          822.9358490566037,
          825,
          831.1854545454545,
          831.1854545454545
         ],
         "y": [
          0,
          20.009999999999998,
          37.3125,
          10.28,
          0
         ]
        },
        {
         "line": {
          "color": "green"
         },
         "mode": "lines",
         "name": "ID BEV 29",
         "type": "scatter",
         "x": [
          832.7798347107438,
          832.7798347107438,
          840,
          840
         ],
         "y": [
          0,
          10.3125,
          10.5,
          0
         ]
        },
        {
         "line": {
          "color": "green"
         },
         "mode": "lines",
         "name": "ID BEV 32",
         "type": "scatter",
         "x": [
          829.2238461682554,
          829.2238461682554,
          840,
          840
         ],
         "y": [
          0,
          10.3125,
          21,
          0
         ]
        },
        {
         "line": {
          "color": "green"
         },
         "mode": "lines",
         "name": "ID BEV 33",
         "type": "scatter",
         "x": [
          833.5418181818181,
          833.5418181818181,
          840,
          841.8153846153846,
          841.8153846153846
         ],
         "y": [
          0,
          10.3125,
          30.75,
          10.3175,
          0
         ]
        },
        {
         "line": {
          "color": "green"
         },
         "mode": "lines",
         "name": "ID BEV 59",
         "type": "scatter",
         "x": [
          831.1854545454545,
          831.1854545454545,
          840,
          855,
          855
         ],
         "y": [
          0,
          20.5925,
          40.5,
          12,
          0
         ]
        },
        {
         "line": {
          "color": "green"
         },
         "mode": "lines",
         "name": "ID BEV 16",
         "type": "scatter",
         "x": [
          841.7867603702701,
          841.7867603702701,
          855,
          855
         ],
         "y": [
          0,
          9.75,
          24,
          0
         ]
        },
        {
         "line": {
          "color": "green"
         },
         "mode": "lines",
         "name": "ID BEV 31",
         "type": "scatter",
         "x": [
          841.8153846153846,
          841.8153846153846,
          855,
          855
         ],
         "y": [
          0,
          20.067500000000003,
          35,
          0
         ]
        },
        {
         "line": {
          "color": "green"
         },
         "mode": "lines",
         "name": "ID BEV 23",
         "type": "scatter",
         "x": [
          867.2863636363636,
          867.2863636363636,
          870,
          870
         ],
         "y": [
          0,
          11,
          15,
          0
         ]
        },
        {
         "line": {
          "color": "green"
         },
         "mode": "lines",
         "name": "ID BEV 25",
         "type": "scatter",
         "x": [
          860.9863636363636,
          860.9863636363636,
          870,
          873.2666666666667,
          873.2666666666667
         ],
         "y": [
          0,
          11,
          24,
          9.563333333333334,
          0
         ]
        },
        {
         "line": {
          "color": "green"
         },
         "mode": "lines",
         "name": "ID BEV 19",
         "type": "scatter",
         "x": [
          884.4833333333332,
          884.4833333333332,
          885,
          885
         ],
         "y": [
          0,
          9,
          12,
          0
         ]
        },
        {
         "line": {
          "color": "green"
         },
         "mode": "lines",
         "name": "ID BEV 21",
         "type": "scatter",
         "x": [
          873.2666666666667,
          873.2666666666667,
          885,
          885
         ],
         "y": [
          0,
          18.563333333333333,
          22.5,
          0
         ]
        },
        {
         "line": {
          "color": "green"
         },
         "mode": "lines",
         "name": "ID BEV 17",
         "type": "scatter",
         "x": [
          896.8,
          896.8,
          900,
          900
         ],
         "y": [
          0,
          10.5,
          18,
          0
         ]
        },
        {
         "line": {
          "color": "green"
         },
         "mode": "lines",
         "name": "ID BEV 13",
         "type": "scatter",
         "x": [
          904.6885185826948,
          904.6885185826948,
          915,
          915
         ],
         "y": [
          0,
          8.44,
          7.875,
          0
         ]
        },
        {
         "line": {
          "color": "green"
         },
         "mode": "lines",
         "name": "ID BEV 15",
         "type": "scatter",
         "x": [
          908.5308056872037,
          908.5308056872037,
          915,
          915
         ],
         "y": [
          0,
          8.44,
          15.75,
          0
         ]
        },
        {
         "line": {
          "color": "green"
         },
         "mode": "lines",
         "name": "ID BEV 7",
         "type": "scatter",
         "x": [
          917.540505723385,
          917.540505723385,
          930,
          936.0534889883593,
          936.0534889883593
         ],
         "y": [
          0,
          7.31,
          6.19,
          6.295,
          0
         ]
        },
        {
         "line": {
          "color": "green"
         },
         "mode": "lines",
         "name": "ID BEV 10",
         "type": "scatter",
         "x": [
          925.1162790697674,
          925.1162790697674,
          930,
          945,
          945
         ],
         "y": [
          0,
          7.31,
          12.38,
          5.625,
          0
         ]
        },
        {
         "line": {
          "color": "green"
         },
         "mode": "lines",
         "name": "ID BEV 67",
         "type": "scatter",
         "x": [
          936.0534889883593,
          936.0534889883593,
          945,
          945
         ],
         "y": [
          0,
          12.485,
          11.25,
          0
         ]
        },
        {
         "line": {
          "color": "green"
         },
         "mode": "lines",
         "name": "ID BEV 6",
         "type": "scatter",
         "x": [
          947.2974308300395,
          947.2974308300395,
          947.2974308300395
         ],
         "y": [
          0,
          10.12,
          0
         ]
        }
       ],
       "layout": {
        "template": {
         "data": {
          "bar": [
           {
            "error_x": {
             "color": "#2a3f5f"
            },
            "error_y": {
             "color": "#2a3f5f"
            },
            "marker": {
             "line": {
              "color": "white",
              "width": 0.5
             },
             "pattern": {
              "fillmode": "overlay",
              "size": 10,
              "solidity": 0.2
             }
            },
            "type": "bar"
           }
          ],
          "barpolar": [
           {
            "marker": {
             "line": {
              "color": "white",
              "width": 0.5
             },
             "pattern": {
              "fillmode": "overlay",
              "size": 10,
              "solidity": 0.2
             }
            },
            "type": "barpolar"
           }
          ],
          "carpet": [
           {
            "aaxis": {
             "endlinecolor": "#2a3f5f",
             "gridcolor": "#C8D4E3",
             "linecolor": "#C8D4E3",
             "minorgridcolor": "#C8D4E3",
             "startlinecolor": "#2a3f5f"
            },
            "baxis": {
             "endlinecolor": "#2a3f5f",
             "gridcolor": "#C8D4E3",
             "linecolor": "#C8D4E3",
             "minorgridcolor": "#C8D4E3",
             "startlinecolor": "#2a3f5f"
            },
            "type": "carpet"
           }
          ],
          "choropleth": [
           {
            "colorbar": {
             "outlinewidth": 0,
             "ticks": ""
            },
            "type": "choropleth"
           }
          ],
          "contour": [
           {
            "colorbar": {
             "outlinewidth": 0,
             "ticks": ""
            },
            "colorscale": [
             [
              0,
              "#0d0887"
             ],
             [
              0.1111111111111111,
              "#46039f"
             ],
             [
              0.2222222222222222,
              "#7201a8"
             ],
             [
              0.3333333333333333,
              "#9c179e"
             ],
             [
              0.4444444444444444,
              "#bd3786"
             ],
             [
              0.5555555555555556,
              "#d8576b"
             ],
             [
              0.6666666666666666,
              "#ed7953"
             ],
             [
              0.7777777777777778,
              "#fb9f3a"
             ],
             [
              0.8888888888888888,
              "#fdca26"
             ],
             [
              1,
              "#f0f921"
             ]
            ],
            "type": "contour"
           }
          ],
          "contourcarpet": [
           {
            "colorbar": {
             "outlinewidth": 0,
             "ticks": ""
            },
            "type": "contourcarpet"
           }
          ],
          "heatmap": [
           {
            "colorbar": {
             "outlinewidth": 0,
             "ticks": ""
            },
            "colorscale": [
             [
              0,
              "#0d0887"
             ],
             [
              0.1111111111111111,
              "#46039f"
             ],
             [
              0.2222222222222222,
              "#7201a8"
             ],
             [
              0.3333333333333333,
              "#9c179e"
             ],
             [
              0.4444444444444444,
              "#bd3786"
             ],
             [
              0.5555555555555556,
              "#d8576b"
             ],
             [
              0.6666666666666666,
              "#ed7953"
             ],
             [
              0.7777777777777778,
              "#fb9f3a"
             ],
             [
              0.8888888888888888,
              "#fdca26"
             ],
             [
              1,
              "#f0f921"
             ]
            ],
            "type": "heatmap"
           }
          ],
          "heatmapgl": [
           {
            "colorbar": {
             "outlinewidth": 0,
             "ticks": ""
            },
            "colorscale": [
             [
              0,
              "#0d0887"
             ],
             [
              0.1111111111111111,
              "#46039f"
             ],
             [
              0.2222222222222222,
              "#7201a8"
             ],
             [
              0.3333333333333333,
              "#9c179e"
             ],
             [
              0.4444444444444444,
              "#bd3786"
             ],
             [
              0.5555555555555556,
              "#d8576b"
             ],
             [
              0.6666666666666666,
              "#ed7953"
             ],
             [
              0.7777777777777778,
              "#fb9f3a"
             ],
             [
              0.8888888888888888,
              "#fdca26"
             ],
             [
              1,
              "#f0f921"
             ]
            ],
            "type": "heatmapgl"
           }
          ],
          "histogram": [
           {
            "marker": {
             "pattern": {
              "fillmode": "overlay",
              "size": 10,
              "solidity": 0.2
             }
            },
            "type": "histogram"
           }
          ],
          "histogram2d": [
           {
            "colorbar": {
             "outlinewidth": 0,
             "ticks": ""
            },
            "colorscale": [
             [
              0,
              "#0d0887"
             ],
             [
              0.1111111111111111,
              "#46039f"
             ],
             [
              0.2222222222222222,
              "#7201a8"
             ],
             [
              0.3333333333333333,
              "#9c179e"
             ],
             [
              0.4444444444444444,
              "#bd3786"
             ],
             [
              0.5555555555555556,
              "#d8576b"
             ],
             [
              0.6666666666666666,
              "#ed7953"
             ],
             [
              0.7777777777777778,
              "#fb9f3a"
             ],
             [
              0.8888888888888888,
              "#fdca26"
             ],
             [
              1,
              "#f0f921"
             ]
            ],
            "type": "histogram2d"
           }
          ],
          "histogram2dcontour": [
           {
            "colorbar": {
             "outlinewidth": 0,
             "ticks": ""
            },
            "colorscale": [
             [
              0,
              "#0d0887"
             ],
             [
              0.1111111111111111,
              "#46039f"
             ],
             [
              0.2222222222222222,
              "#7201a8"
             ],
             [
              0.3333333333333333,
              "#9c179e"
             ],
             [
              0.4444444444444444,
              "#bd3786"
             ],
             [
              0.5555555555555556,
              "#d8576b"
             ],
             [
              0.6666666666666666,
              "#ed7953"
             ],
             [
              0.7777777777777778,
              "#fb9f3a"
             ],
             [
              0.8888888888888888,
              "#fdca26"
             ],
             [
              1,
              "#f0f921"
             ]
            ],
            "type": "histogram2dcontour"
           }
          ],
          "mesh3d": [
           {
            "colorbar": {
             "outlinewidth": 0,
             "ticks": ""
            },
            "type": "mesh3d"
           }
          ],
          "parcoords": [
           {
            "line": {
             "colorbar": {
              "outlinewidth": 0,
              "ticks": ""
             }
            },
            "type": "parcoords"
           }
          ],
          "pie": [
           {
            "automargin": true,
            "type": "pie"
           }
          ],
          "scatter": [
           {
            "marker": {
             "colorbar": {
              "outlinewidth": 0,
              "ticks": ""
             }
            },
            "type": "scatter"
           }
          ],
          "scatter3d": [
           {
            "line": {
             "colorbar": {
              "outlinewidth": 0,
              "ticks": ""
             }
            },
            "marker": {
             "colorbar": {
              "outlinewidth": 0,
              "ticks": ""
             }
            },
            "type": "scatter3d"
           }
          ],
          "scattercarpet": [
           {
            "marker": {
             "colorbar": {
              "outlinewidth": 0,
              "ticks": ""
             }
            },
            "type": "scattercarpet"
           }
          ],
          "scattergeo": [
           {
            "marker": {
             "colorbar": {
              "outlinewidth": 0,
              "ticks": ""
             }
            },
            "type": "scattergeo"
           }
          ],
          "scattergl": [
           {
            "marker": {
             "colorbar": {
              "outlinewidth": 0,
              "ticks": ""
             }
            },
            "type": "scattergl"
           }
          ],
          "scattermapbox": [
           {
            "marker": {
             "colorbar": {
              "outlinewidth": 0,
              "ticks": ""
             }
            },
            "type": "scattermapbox"
           }
          ],
          "scatterpolar": [
           {
            "marker": {
             "colorbar": {
              "outlinewidth": 0,
              "ticks": ""
             }
            },
            "type": "scatterpolar"
           }
          ],
          "scatterpolargl": [
           {
            "marker": {
             "colorbar": {
              "outlinewidth": 0,
              "ticks": ""
             }
            },
            "type": "scatterpolargl"
           }
          ],
          "scatterternary": [
           {
            "marker": {
             "colorbar": {
              "outlinewidth": 0,
              "ticks": ""
             }
            },
            "type": "scatterternary"
           }
          ],
          "surface": [
           {
            "colorbar": {
             "outlinewidth": 0,
             "ticks": ""
            },
            "colorscale": [
             [
              0,
              "#0d0887"
             ],
             [
              0.1111111111111111,
              "#46039f"
             ],
             [
              0.2222222222222222,
              "#7201a8"
             ],
             [
              0.3333333333333333,
              "#9c179e"
             ],
             [
              0.4444444444444444,
              "#bd3786"
             ],
             [
              0.5555555555555556,
              "#d8576b"
             ],
             [
              0.6666666666666666,
              "#ed7953"
             ],
             [
              0.7777777777777778,
              "#fb9f3a"
             ],
             [
              0.8888888888888888,
              "#fdca26"
             ],
             [
              1,
              "#f0f921"
             ]
            ],
            "type": "surface"
           }
          ],
          "table": [
           {
            "cells": {
             "fill": {
              "color": "#EBF0F8"
             },
             "line": {
              "color": "white"
             }
            },
            "header": {
             "fill": {
              "color": "#C8D4E3"
             },
             "line": {
              "color": "white"
             }
            },
            "type": "table"
           }
          ]
         },
         "layout": {
          "annotationdefaults": {
           "arrowcolor": "#2a3f5f",
           "arrowhead": 0,
           "arrowwidth": 1
          },
          "autotypenumbers": "strict",
          "coloraxis": {
           "colorbar": {
            "outlinewidth": 0,
            "ticks": ""
           }
          },
          "colorscale": {
           "diverging": [
            [
             0,
             "#8e0152"
            ],
            [
             0.1,
             "#c51b7d"
            ],
            [
             0.2,
             "#de77ae"
            ],
            [
             0.3,
             "#f1b6da"
            ],
            [
             0.4,
             "#fde0ef"
            ],
            [
             0.5,
             "#f7f7f7"
            ],
            [
             0.6,
             "#e6f5d0"
            ],
            [
             0.7,
             "#b8e186"
            ],
            [
             0.8,
             "#7fbc41"
            ],
            [
             0.9,
             "#4d9221"
            ],
            [
             1,
             "#276419"
            ]
           ],
           "sequential": [
            [
             0,
             "#0d0887"
            ],
            [
             0.1111111111111111,
             "#46039f"
            ],
            [
             0.2222222222222222,
             "#7201a8"
            ],
            [
             0.3333333333333333,
             "#9c179e"
            ],
            [
             0.4444444444444444,
             "#bd3786"
            ],
            [
             0.5555555555555556,
             "#d8576b"
            ],
            [
             0.6666666666666666,
             "#ed7953"
            ],
            [
             0.7777777777777778,
             "#fb9f3a"
            ],
            [
             0.8888888888888888,
             "#fdca26"
            ],
            [
             1,
             "#f0f921"
            ]
           ],
           "sequentialminus": [
            [
             0,
             "#0d0887"
            ],
            [
             0.1111111111111111,
             "#46039f"
            ],
            [
             0.2222222222222222,
             "#7201a8"
            ],
            [
             0.3333333333333333,
             "#9c179e"
            ],
            [
             0.4444444444444444,
             "#bd3786"
            ],
            [
             0.5555555555555556,
             "#d8576b"
            ],
            [
             0.6666666666666666,
             "#ed7953"
            ],
            [
             0.7777777777777778,
             "#fb9f3a"
            ],
            [
             0.8888888888888888,
             "#fdca26"
            ],
            [
             1,
             "#f0f921"
            ]
           ]
          },
          "colorway": [
           "#636efa",
           "#EF553B",
           "#00cc96",
           "#ab63fa",
           "#FFA15A",
           "#19d3f3",
           "#FF6692",
           "#B6E880",
           "#FF97FF",
           "#FECB52"
          ],
          "font": {
           "color": "#2a3f5f"
          },
          "geo": {
           "bgcolor": "white",
           "lakecolor": "white",
           "landcolor": "white",
           "showlakes": true,
           "showland": true,
           "subunitcolor": "#C8D4E3"
          },
          "hoverlabel": {
           "align": "left"
          },
          "hovermode": "closest",
          "mapbox": {
           "style": "light"
          },
          "paper_bgcolor": "white",
          "plot_bgcolor": "white",
          "polar": {
           "angularaxis": {
            "gridcolor": "#EBF0F8",
            "linecolor": "#EBF0F8",
            "ticks": ""
           },
           "bgcolor": "white",
           "radialaxis": {
            "gridcolor": "#EBF0F8",
            "linecolor": "#EBF0F8",
            "ticks": ""
           }
          },
          "scene": {
           "xaxis": {
            "backgroundcolor": "white",
            "gridcolor": "#DFE8F3",
            "gridwidth": 2,
            "linecolor": "#EBF0F8",
            "showbackground": true,
            "ticks": "",
            "zerolinecolor": "#EBF0F8"
           },
           "yaxis": {
            "backgroundcolor": "white",
            "gridcolor": "#DFE8F3",
            "gridwidth": 2,
            "linecolor": "#EBF0F8",
            "showbackground": true,
            "ticks": "",
            "zerolinecolor": "#EBF0F8"
           },
           "zaxis": {
            "backgroundcolor": "white",
            "gridcolor": "#DFE8F3",
            "gridwidth": 2,
            "linecolor": "#EBF0F8",
            "showbackground": true,
            "ticks": "",
            "zerolinecolor": "#EBF0F8"
           }
          },
          "shapedefaults": {
           "line": {
            "color": "#2a3f5f"
           }
          },
          "ternary": {
           "aaxis": {
            "gridcolor": "#DFE8F3",
            "linecolor": "#A2B1C6",
            "ticks": ""
           },
           "baxis": {
            "gridcolor": "#DFE8F3",
            "linecolor": "#A2B1C6",
            "ticks": ""
           },
           "bgcolor": "white",
           "caxis": {
            "gridcolor": "#DFE8F3",
            "linecolor": "#A2B1C6",
            "ticks": ""
           }
          },
          "title": {
           "x": 0.05
          },
          "xaxis": {
           "automargin": true,
           "gridcolor": "#EBF0F8",
           "linecolor": "#EBF0F8",
           "ticks": "",
           "title": {
            "standoff": 15
           },
           "zerolinecolor": "#EBF0F8",
           "zerolinewidth": 2
          },
          "yaxis": {
           "automargin": true,
           "gridcolor": "#EBF0F8",
           "linecolor": "#EBF0F8",
           "ticks": "",
           "title": {
            "standoff": 15
           },
           "zerolinecolor": "#EBF0F8",
           "zerolinewidth": 2
          }
         }
        },
        "title": {
         "font": {
          "size": 24
         },
         "text": "Ladeleistung pro Ladezeitraum eines BEVs",
         "x": 0.5,
         "xanchor": "center"
        },
        "xaxis": {
         "range": [
          480,
          960
         ],
         "showgrid": true,
         "title": {
          "text": "Minuten"
         }
        },
        "yaxis": {
         "range": [
          0,
          60
         ],
         "title": {
          "text": "Energie in kW"
         }
        }
       }
      },
      "text/html": [
       "<div>                            <div id=\"6a07952e-4a04-44e3-8101-1f4200600393\" class=\"plotly-graph-div\" style=\"height:525px; width:100%;\"></div>            <script type=\"text/javascript\">                require([\"plotly\"], function(Plotly) {                    window.PLOTLYENV=window.PLOTLYENV || {};                                    if (document.getElementById(\"6a07952e-4a04-44e3-8101-1f4200600393\")) {                    Plotly.newPlot(                        \"6a07952e-4a04-44e3-8101-1f4200600393\",                        [{\"line\":{\"color\":\"orange\"},\"name\":\"Verf\\u00fcgbare Solarleistung\",\"x\":[480,495,510,525,540,555,570,585,600,615,630,645,660,675,690,705,720,735,750,765,780,795,810,825,840,855,870,885,900,915,930,945,960],\"y\":[-2.0,3.25,8.5,13.749999999999998,19.0,27.0,35.0,43.0,51.0,50.75,50.5,50.25,50.0,51.25,52.5,53.75,55.0,50.25,45.5,40.75,36.0,37.5,39.0,40.5,42.0,36.0,30.0,24.0,18.0,15.75,13.5,11.25,9.0],\"type\":\"scatter\"},{\"line\":{\"color\":\"green\"},\"mode\":\"lines\",\"name\":\"ID BEV 8\",\"x\":[480.0,480.0,495.0,510.0,525.0,540.0,542.1130434782608,542.1130434782608],\"y\":[0.0,0.62,5.87,5.56,8.19,7.666666666666667,6.71,0.0],\"type\":\"scatter\"},{\"line\":{\"color\":\"green\"},\"mode\":\"lines\",\"name\":\"ID BEV 11\",\"x\":[510.0,510.0,525.0,533.6080586080586,533.6080586080586],\"y\":[0.0,11.12,16.38,8.38,0.0],\"type\":\"scatter\"},{\"line\":{\"color\":\"green\"},\"mode\":\"lines\",\"name\":\"ID BEV 18\",\"x\":[533.6080586080586,533.6080586080586,540.0,555.0,563.2516129032258,563.2516129032258],\"y\":[0.0,16.57,15.333333333333334,7.75,7.85,0.0],\"type\":\"scatter\"},{\"line\":{\"color\":\"green\"},\"mode\":\"lines\",\"name\":\"ID BEV 20\",\"x\":[540.0,540.0,555.0,570.0,572.2051282051282,572.2051282051282],\"y\":[0.0,23.0,15.5,9.75,9.045,0.0],\"type\":\"scatter\"},{\"line\":{\"color\":\"green\"},\"mode\":\"lines\",\"name\":\"ID BEV 22\",\"x\":[542.1130434782608,542.1130434782608,555.0,562.1096774193547,562.1096774193547],\"y\":[0.0,14.376666666666667,23.25,7.6975,0.0],\"type\":\"scatter\"},{\"line\":{\"color\":\"green\"},\"mode\":\"lines\",\"name\":\"ID BEV 72\",\"x\":[555.0,555.0,566.0774193548388,566.0774193548388],\"y\":[0.0,31.0,8.2275,0.0],\"type\":\"scatter\"},{\"line\":{\"color\":\"green\"},\"mode\":\"lines\",\"name\":\"ID BEV 28\",\"x\":[563.2516129032258,563.2516129032258,570.0,585.0,594.5,594.5],\"y\":[0.0,15.6,19.5,9.4,9.614,0.0],\"type\":\"scatter\"},{\"line\":{\"color\":\"green\"},\"mode\":\"lines\",\"name\":\"ID BEV 40\",\"x\":[562.1096774193547,562.1096774193547,570.0,585.0,597.7393617021276,597.7393617021276],\"y\":[0.0,15.4475,29.25,18.8,9.958,0.0],\"type\":\"scatter\"},{\"line\":{\"color\":\"green\"},\"mode\":\"lines\",\"name\":\"ID BEV 60\",\"x\":[566.0774193548388,566.0774193548388,570.0,585.0,594.2765957446809,594.2765957446809],\"y\":[0.0,15.9775,39.0,28.200000000000003,9.59,0.0],\"type\":\"scatter\"},{\"line\":{\"color\":\"green\"},\"mode\":\"lines\",\"name\":\"ID BEV 61\",\"x\":[572.2051282051282,572.2051282051282,585.0,591.7234042553191,591.7234042553191],\"y\":[0.0,18.795,37.6,9.318000000000001,0.0],\"type\":\"scatter\"},{\"line\":{\"color\":\"green\"},\"mode\":\"lines\",\"name\":\"ID BEV 65\",\"x\":[585.0,585.0,600.0,609.9793632075472,609.9793632075472],\"y\":[0.0,47.0,10.176,10.166,0.0],\"type\":\"scatter\"},{\"line\":{\"color\":\"green\"},\"mode\":\"lines\",\"name\":\"ID BEV 68\",\"x\":[594.5,594.5,600.0,615.0,620.8781114184117,620.8781114184117],\"y\":[0.0,19.014000000000003,20.352,10.123999999999999,10.129999999999999,0.0],\"type\":\"scatter\"},{\"line\":{\"color\":\"green\"},\"mode\":\"lines\",\"name\":\"ID BEV 71\",\"x\":[597.7393617021276,597.7393617021276,600.0,615.0,630.0,631.2852322350138,631.2852322350138],\"y\":[0.0,19.358,30.528,20.247999999999998,10.076,10.096,0.0],\"type\":\"scatter\"},{\"line\":{\"color\":\"green\"},\"mode\":\"lines\",\"name\":\"ID BEV 3\",\"x\":[594.2765957446809,594.2765957446809,600.0,615.0,616.7740023706045,616.7740023706045],\"y\":[0.0,18.990000000000002,40.704,30.371999999999996,10.144,0.0],\"type\":\"scatter\"},{\"line\":{\"color\":\"green\"},\"mode\":\"lines\",\"name\":\"ID BEV 4\",\"x\":[591.7234042553191,591.7234042553191,600.0,615.0,619.9891347293559,619.9891347293559],\"y\":[0.0,18.718000000000004,50.88,40.495999999999995,10.134,0.0],\"type\":\"scatter\"},{\"line\":{\"color\":\"green\"},\"mode\":\"lines\",\"name\":\"ID BEV 9\",\"x\":[609.9793632075472,609.9793632075472,615.0,629.4221651521138,629.4221651521138],\"y\":[0.0,20.342,50.61999999999999,10.102,0.0],\"type\":\"scatter\"},{\"line\":{\"color\":\"green\"},\"mode\":\"lines\",\"name\":\"ID BEV 12\",\"x\":[620.8781114184117,620.8781114184117,630.0,645.0,653.2561851556264,653.2561851556264],\"y\":[0.0,20.253999999999998,20.152,10.024,10.022,0.0],\"type\":\"scatter\"},{\"line\":{\"color\":\"green\"},\"mode\":\"lines\",\"name\":\"ID BEV 14\",\"x\":[616.7740023706045,616.7740023706045,630.0,643.3733624454148,643.3733624454148],\"y\":[0.0,20.268,30.228,10.056000000000001,0.0],\"type\":\"scatter\"},{\"line\":{\"color\":\"green\"},\"mode\":\"lines\",\"name\":\"ID BEV 24\",\"x\":[619.9891347293559,619.9891347293559,630.0,645.0,647.839185953711,647.839185953711],\"y\":[0.0,20.258,40.304,20.048,10.040000000000001,0.0],\"type\":\"scatter\"},{\"line\":{\"color\":\"green\"},\"mode\":\"lines\",\"name\":\"ID BEV 26\",\"x\":[629.4221651521138,629.4221651521138,630.0,645.0,645.6644054269753,645.6644054269753],\"y\":[0.0,20.226,50.38,30.071999999999996,10.048,0.0],\"type\":\"scatter\"},{\"line\":{\"color\":\"green\"},\"mode\":\"lines\",\"name\":\"ID BEV 42\",\"x\":[631.2852322350138,631.2852322350138,645.0,653.6003591380686,653.6003591380686],\"y\":[0.0,20.172,40.096,10.022,0.0],\"type\":\"scatter\"},{\"line\":{\"color\":\"green\"},\"mode\":\"lines\",\"name\":\"ID BEV 66\",\"x\":[643.3733624454148,643.3733624454148,645.0,660.0,673.5470169893323,673.5470169893323],\"y\":[0.0,20.132,50.12,10.123999999999999,10.226,0.0],\"type\":\"scatter\"},{\"line\":{\"color\":\"green\"},\"mode\":\"lines\",\"name\":\"ID BEV 69\",\"x\":[653.2561851556264,653.2561851556264,660.0,675.0,675.0],\"y\":[0.0,20.046,20.247999999999998,10.25,0.0],\"type\":\"scatter\"},{\"line\":{\"color\":\"green\"},\"mode\":\"lines\",\"name\":\"ID BEV 73\",\"x\":[647.839185953711,647.839185953711,660.0,667.4278941129987,667.4278941129987],\"y\":[0.0,20.064,30.371999999999996,10.123999999999999,0.0],\"type\":\"scatter\"},{\"line\":{\"color\":\"green\"},\"mode\":\"lines\",\"name\":\"ID BEV 74\",\"x\":[645.6644054269753,645.6644054269753,660.0,671.1862900039511,671.1862900039511],\"y\":[0.0,20.072,40.495999999999995,10.186,0.0],\"type\":\"scatter\"},{\"line\":{\"color\":\"green\"},\"mode\":\"lines\",\"name\":\"ID BEV 2\",\"x\":[653.6003591380686,653.6003591380686,660.0,673.5025681548794,673.5025681548794],\"y\":[0.0,20.046,50.61999999999999,10.226,0.0],\"type\":\"scatter\"},{\"line\":{\"color\":\"green\"},\"mode\":\"lines\",\"name\":\"ID BEV 5\",\"x\":[673.5470169893323,673.5470169893323,675.0,690.0,690.0],\"y\":[0.0,20.35,20.626,10.5,0.0],\"type\":\"scatter\"},{\"line\":{\"color\":\"green\"},\"mode\":\"lines\",\"name\":\"ID BEV 27\",\"x\":[667.4278941129987,667.4278941129987,675.0,690.0,690.0],\"y\":[0.0,20.247999999999998,31.002000000000002,21.0,0.0],\"type\":\"scatter\"},{\"line\":{\"color\":\"green\"},\"mode\":\"lines\",\"name\":\"ID BEV 36\",\"x\":[671.1862900039511,671.1862900039511,675.0,690.0,690.0],\"y\":[0.0,20.31,41.378,31.5,0.0],\"type\":\"scatter\"},{\"line\":{\"color\":\"green\"},\"mode\":\"lines\",\"name\":\"ID BEV 41\",\"x\":[673.5025681548794,673.5025681548794,675.0,690.0,702.2599774096385,702.2599774096385],\"y\":[0.0,20.35,51.754000000000005,42.123999999999995,10.704,0.0],\"type\":\"scatter\"},{\"line\":{\"color\":\"green\"},\"mode\":\"lines\",\"name\":\"ID BEV 38\",\"x\":[687.7374018285749,687.7374018285749,690.0,705.0,705.0],\"y\":[0.0,10.376000000000001,52.74799999999999,10.75,0.0],\"type\":\"scatter\"},{\"line\":{\"color\":\"green\"},\"mode\":\"lines\",\"name\":\"ID BEV 0\",\"x\":[691.500684957718,691.500684957718,705.0,705.0],\"y\":[0.0,10.623999999999999,21.5,0.0],\"type\":\"scatter\"},{\"line\":{\"color\":\"green\"},\"mode\":\"lines\",\"name\":\"ID BEV 54\",\"x\":[691.1726694576889,691.1726694576889,705.0,705.0],\"y\":[0.0,10.623999999999999,32.25,0.0],\"type\":\"scatter\"},{\"line\":{\"color\":\"green\"},\"mode\":\"lines\",\"name\":\"ID BEV 57\",\"x\":[690.945265571045,690.945265571045,705.0,710.2365014242808,710.2365014242808],\"y\":[0.0,10.623999999999999,43.126000000000005,13.5475,0.0],\"type\":\"scatter\"},{\"line\":{\"color\":\"green\"},\"mode\":\"lines\",\"name\":\"ID BEV 55\",\"x\":[702.2599774096385,702.2599774096385,705.0,719.3563810224347,719.3563810224347],\"y\":[0.0,21.328,54.00200000000001,10.99,0.0],\"type\":\"scatter\"},{\"line\":{\"color\":\"green\"},\"mode\":\"lines\",\"name\":\"ID BEV 52\",\"x\":[710.2365014242808,710.2365014242808,720.0,735.0,735.0],\"y\":[0.0,24.4235,10.524,10.05,0.0],\"type\":\"scatter\"},{\"line\":{\"color\":\"green\"},\"mode\":\"lines\",\"name\":\"ID BEV 53\",\"x\":[717.2140492828246,717.2140492828246,720.0,735.0,750.0,750.0],\"y\":[0.0,10.876000000000001,21.048,19.626,9.1,0.0],\"type\":\"scatter\"},{\"line\":{\"color\":\"green\"},\"mode\":\"lines\",\"name\":\"ID BEV 63\",\"x\":[706.5575087660767,706.5575087660767,720.0,735.0,738.8836116687396,738.8836116687396],\"y\":[0.0,10.876000000000001,31.571999999999996,29.202,9.804,0.0],\"type\":\"scatter\"},{\"line\":{\"color\":\"green\"},\"mode\":\"lines\",\"name\":\"ID BEV 64\",\"x\":[719.3563810224347,719.3563810224347,720.0,735.0,750.0,750.0],\"y\":[0.0,21.866,42.096,38.778000000000006,18.2,0.0],\"type\":\"scatter\"},{\"line\":{\"color\":\"green\"},\"mode\":\"lines\",\"name\":\"ID BEV 62\",\"x\":[724.9113492124795,724.9113492124795,735.0,750.0,750.0],\"y\":[0.0,10.524,48.354000000000006,27.299999999999997,0.0],\"type\":\"scatter\"},{\"line\":{\"color\":\"green\"},\"mode\":\"lines\",\"name\":\"ID BEV 50\",\"x\":[741.1918401445793,741.1918401445793,750.0,765.0,765.0],\"y\":[0.0,9.576,35.92399999999999,8.15,0.0],\"type\":\"scatter\"},{\"line\":{\"color\":\"green\"},\"mode\":\"lines\",\"name\":\"ID BEV 1\",\"x\":[738.8836116687396,738.8836116687396,750.0,765.0,765.0],\"y\":[0.0,19.380000000000003,44.54799999999999,16.3,0.0],\"type\":\"scatter\"},{\"line\":{\"color\":\"green\"},\"mode\":\"lines\",\"name\":\"ID BEV 51\",\"x\":[761.5482923517457,761.5482923517457,765.0,765.0],\"y\":[0.0,8.623999999999999,24.450000000000003,0.0],\"type\":\"scatter\"},{\"line\":{\"color\":\"green\"},\"mode\":\"lines\",\"name\":\"ID BEV 58\",\"x\":[756.3163686962387,756.3163686962387,765.0,771.9401203278221,771.9401203278221],\"y\":[0.0,8.623999999999999,34.045,9.6375,0.0],\"type\":\"scatter\"},{\"line\":{\"color\":\"green\"},\"mode\":\"lines\",\"name\":\"ID BEV 48\",\"x\":[750.0,750.0,765.0,775.186555497655,775.186555497655],\"y\":[0.0,8.623999999999999,43.64,9.38,0.0],\"type\":\"scatter\"},{\"line\":{\"color\":\"green\"},\"mode\":\"lines\",\"name\":\"ID BEV 46\",\"x\":[770.8075896106357,770.8075896106357,780.0,780.0],\"y\":[0.0,9.595,12.0,0.0],\"type\":\"scatter\"},{\"line\":{\"color\":\"green\"},\"mode\":\"lines\",\"name\":\"ID BEV 47\",\"x\":[771.9401203278221,771.9401203278221,780.0,780.0],\"y\":[0.0,19.2325,24.0,0.0],\"type\":\"scatter\"},{\"line\":{\"color\":\"green\"},\"mode\":\"lines\",\"name\":\"ID BEV 43\",\"x\":[775.186555497655,775.186555497655,780.0,780.0],\"y\":[0.0,18.975,36.0,0.0],\"type\":\"scatter\"},{\"line\":{\"color\":\"green\"},\"mode\":\"lines\",\"name\":\"ID BEV 34\",\"x\":[784.391708551189,784.391708551189,795.0,795.0],\"y\":[0.0,9.1875,9.375,0.0],\"type\":\"scatter\"},{\"line\":{\"color\":\"green\"},\"mode\":\"lines\",\"name\":\"ID BEV 37\",\"x\":[785.5744712430426,785.5744712430426,795.0,795.0],\"y\":[0.0,9.1875,18.75,0.0],\"type\":\"scatter\"},{\"line\":{\"color\":\"green\"},\"mode\":\"lines\",\"name\":\"ID BEV 44\",\"x\":[788.6901669758813,788.6901669758813,795.0,799.9807486631016,799.9807486631016],\"y\":[0.0,9.1875,28.3125,9.5,0.0],\"type\":\"scatter\"},{\"line\":{\"color\":\"green\"},\"mode\":\"lines\",\"name\":\"ID BEV 45\",\"x\":[794.598194678654,794.598194678654,795.0,805.6570890049812,805.6570890049812],\"y\":[0.0,9.1875,37.875,9.6425,0.0],\"type\":\"scatter\"},{\"line\":{\"color\":\"green\"},\"mode\":\"lines\",\"name\":\"ID BEV 30\",\"x\":[799.9807486631016,799.9807486631016,810.0,825.0,825.0],\"y\":[0.0,19.0625,9.9375,13.5,0.0],\"type\":\"scatter\"},{\"line\":{\"color\":\"green\"},\"mode\":\"lines\",\"name\":\"ID BEV 39\",\"x\":[805.6570890049812,805.6570890049812,810.0,818.7568214953593,818.7568214953593],\"y\":[0.0,19.205,19.875,13.293333333333335,0.0],\"type\":\"scatter\"},{\"line\":{\"color\":\"green\"},\"mode\":\"lines\",\"name\":\"ID BEV 35\",\"x\":[818.7568214953593,818.7568214953593,825.0,825.0],\"y\":[0.0,26.543333333333337,27.0,0.0],\"type\":\"scatter\"},{\"line\":{\"color\":\"green\"},\"mode\":\"lines\",\"name\":\"ID BEV 70\",\"x\":[810.0,810.0,822.9358490566037,822.9358490566037],\"y\":[0.0,29.8125,10.0725,0.0],\"type\":\"scatter\"},{\"line\":{\"color\":\"green\"},\"mode\":\"lines\",\"name\":\"ID BEV 56\",\"x\":[822.9358490566037,822.9358490566037,825.0,831.1854545454545,831.1854545454545],\"y\":[0.0,20.009999999999998,37.3125,10.28,0.0],\"type\":\"scatter\"},{\"line\":{\"color\":\"green\"},\"mode\":\"lines\",\"name\":\"ID BEV 29\",\"x\":[832.7798347107438,832.7798347107438,840.0,840.0],\"y\":[0.0,10.3125,10.5,0.0],\"type\":\"scatter\"},{\"line\":{\"color\":\"green\"},\"mode\":\"lines\",\"name\":\"ID BEV 32\",\"x\":[829.2238461682554,829.2238461682554,840.0,840.0],\"y\":[0.0,10.3125,21.0,0.0],\"type\":\"scatter\"},{\"line\":{\"color\":\"green\"},\"mode\":\"lines\",\"name\":\"ID BEV 33\",\"x\":[833.5418181818181,833.5418181818181,840.0,841.8153846153846,841.8153846153846],\"y\":[0.0,10.3125,30.75,10.3175,0.0],\"type\":\"scatter\"},{\"line\":{\"color\":\"green\"},\"mode\":\"lines\",\"name\":\"ID BEV 59\",\"x\":[831.1854545454545,831.1854545454545,840.0,855.0,855.0],\"y\":[0.0,20.5925,40.5,12.0,0.0],\"type\":\"scatter\"},{\"line\":{\"color\":\"green\"},\"mode\":\"lines\",\"name\":\"ID BEV 16\",\"x\":[841.7867603702701,841.7867603702701,855.0,855.0],\"y\":[0.0,9.75,24.0,0.0],\"type\":\"scatter\"},{\"line\":{\"color\":\"green\"},\"mode\":\"lines\",\"name\":\"ID BEV 31\",\"x\":[841.8153846153846,841.8153846153846,855.0,855.0],\"y\":[0.0,20.067500000000003,35.0,0.0],\"type\":\"scatter\"},{\"line\":{\"color\":\"green\"},\"mode\":\"lines\",\"name\":\"ID BEV 23\",\"x\":[867.2863636363636,867.2863636363636,870.0,870.0],\"y\":[0.0,11.0,15.0,0.0],\"type\":\"scatter\"},{\"line\":{\"color\":\"green\"},\"mode\":\"lines\",\"name\":\"ID BEV 25\",\"x\":[860.9863636363636,860.9863636363636,870.0,873.2666666666667,873.2666666666667],\"y\":[0.0,11.0,24.0,9.563333333333334,0.0],\"type\":\"scatter\"},{\"line\":{\"color\":\"green\"},\"mode\":\"lines\",\"name\":\"ID BEV 19\",\"x\":[884.4833333333332,884.4833333333332,885.0,885.0],\"y\":[0.0,9.0,12.0,0.0],\"type\":\"scatter\"},{\"line\":{\"color\":\"green\"},\"mode\":\"lines\",\"name\":\"ID BEV 21\",\"x\":[873.2666666666667,873.2666666666667,885.0,885.0],\"y\":[0.0,18.563333333333333,22.5,0.0],\"type\":\"scatter\"},{\"line\":{\"color\":\"green\"},\"mode\":\"lines\",\"name\":\"ID BEV 17\",\"x\":[896.8,896.8,900.0,900.0],\"y\":[0.0,10.5,18.0,0.0],\"type\":\"scatter\"},{\"line\":{\"color\":\"green\"},\"mode\":\"lines\",\"name\":\"ID BEV 13\",\"x\":[904.6885185826948,904.6885185826948,915.0,915.0],\"y\":[0.0,8.44,7.875,0.0],\"type\":\"scatter\"},{\"line\":{\"color\":\"green\"},\"mode\":\"lines\",\"name\":\"ID BEV 15\",\"x\":[908.5308056872037,908.5308056872037,915.0,915.0],\"y\":[0.0,8.44,15.75,0.0],\"type\":\"scatter\"},{\"line\":{\"color\":\"green\"},\"mode\":\"lines\",\"name\":\"ID BEV 7\",\"x\":[917.540505723385,917.540505723385,930.0,936.0534889883593,936.0534889883593],\"y\":[0.0,7.31,6.19,6.295,0.0],\"type\":\"scatter\"},{\"line\":{\"color\":\"green\"},\"mode\":\"lines\",\"name\":\"ID BEV 10\",\"x\":[925.1162790697674,925.1162790697674,930.0,945.0,945.0],\"y\":[0.0,7.31,12.38,5.625,0.0],\"type\":\"scatter\"},{\"line\":{\"color\":\"green\"},\"mode\":\"lines\",\"name\":\"ID BEV 67\",\"x\":[936.0534889883593,936.0534889883593,945.0,945.0],\"y\":[0.0,12.485,11.25,0.0],\"type\":\"scatter\"},{\"line\":{\"color\":\"green\"},\"mode\":\"lines\",\"name\":\"ID BEV 6\",\"x\":[947.2974308300395,947.2974308300395,947.2974308300395],\"y\":[0.0,10.12,0.0],\"type\":\"scatter\"}],                        {\"template\":{\"data\":{\"barpolar\":[{\"marker\":{\"line\":{\"color\":\"white\",\"width\":0.5},\"pattern\":{\"fillmode\":\"overlay\",\"size\":10,\"solidity\":0.2}},\"type\":\"barpolar\"}],\"bar\":[{\"error_x\":{\"color\":\"#2a3f5f\"},\"error_y\":{\"color\":\"#2a3f5f\"},\"marker\":{\"line\":{\"color\":\"white\",\"width\":0.5},\"pattern\":{\"fillmode\":\"overlay\",\"size\":10,\"solidity\":0.2}},\"type\":\"bar\"}],\"carpet\":[{\"aaxis\":{\"endlinecolor\":\"#2a3f5f\",\"gridcolor\":\"#C8D4E3\",\"linecolor\":\"#C8D4E3\",\"minorgridcolor\":\"#C8D4E3\",\"startlinecolor\":\"#2a3f5f\"},\"baxis\":{\"endlinecolor\":\"#2a3f5f\",\"gridcolor\":\"#C8D4E3\",\"linecolor\":\"#C8D4E3\",\"minorgridcolor\":\"#C8D4E3\",\"startlinecolor\":\"#2a3f5f\"},\"type\":\"carpet\"}],\"choropleth\":[{\"colorbar\":{\"outlinewidth\":0,\"ticks\":\"\"},\"type\":\"choropleth\"}],\"contourcarpet\":[{\"colorbar\":{\"outlinewidth\":0,\"ticks\":\"\"},\"type\":\"contourcarpet\"}],\"contour\":[{\"colorbar\":{\"outlinewidth\":0,\"ticks\":\"\"},\"colorscale\":[[0.0,\"#0d0887\"],[0.1111111111111111,\"#46039f\"],[0.2222222222222222,\"#7201a8\"],[0.3333333333333333,\"#9c179e\"],[0.4444444444444444,\"#bd3786\"],[0.5555555555555556,\"#d8576b\"],[0.6666666666666666,\"#ed7953\"],[0.7777777777777778,\"#fb9f3a\"],[0.8888888888888888,\"#fdca26\"],[1.0,\"#f0f921\"]],\"type\":\"contour\"}],\"heatmapgl\":[{\"colorbar\":{\"outlinewidth\":0,\"ticks\":\"\"},\"colorscale\":[[0.0,\"#0d0887\"],[0.1111111111111111,\"#46039f\"],[0.2222222222222222,\"#7201a8\"],[0.3333333333333333,\"#9c179e\"],[0.4444444444444444,\"#bd3786\"],[0.5555555555555556,\"#d8576b\"],[0.6666666666666666,\"#ed7953\"],[0.7777777777777778,\"#fb9f3a\"],[0.8888888888888888,\"#fdca26\"],[1.0,\"#f0f921\"]],\"type\":\"heatmapgl\"}],\"heatmap\":[{\"colorbar\":{\"outlinewidth\":0,\"ticks\":\"\"},\"colorscale\":[[0.0,\"#0d0887\"],[0.1111111111111111,\"#46039f\"],[0.2222222222222222,\"#7201a8\"],[0.3333333333333333,\"#9c179e\"],[0.4444444444444444,\"#bd3786\"],[0.5555555555555556,\"#d8576b\"],[0.6666666666666666,\"#ed7953\"],[0.7777777777777778,\"#fb9f3a\"],[0.8888888888888888,\"#fdca26\"],[1.0,\"#f0f921\"]],\"type\":\"heatmap\"}],\"histogram2dcontour\":[{\"colorbar\":{\"outlinewidth\":0,\"ticks\":\"\"},\"colorscale\":[[0.0,\"#0d0887\"],[0.1111111111111111,\"#46039f\"],[0.2222222222222222,\"#7201a8\"],[0.3333333333333333,\"#9c179e\"],[0.4444444444444444,\"#bd3786\"],[0.5555555555555556,\"#d8576b\"],[0.6666666666666666,\"#ed7953\"],[0.7777777777777778,\"#fb9f3a\"],[0.8888888888888888,\"#fdca26\"],[1.0,\"#f0f921\"]],\"type\":\"histogram2dcontour\"}],\"histogram2d\":[{\"colorbar\":{\"outlinewidth\":0,\"ticks\":\"\"},\"colorscale\":[[0.0,\"#0d0887\"],[0.1111111111111111,\"#46039f\"],[0.2222222222222222,\"#7201a8\"],[0.3333333333333333,\"#9c179e\"],[0.4444444444444444,\"#bd3786\"],[0.5555555555555556,\"#d8576b\"],[0.6666666666666666,\"#ed7953\"],[0.7777777777777778,\"#fb9f3a\"],[0.8888888888888888,\"#fdca26\"],[1.0,\"#f0f921\"]],\"type\":\"histogram2d\"}],\"histogram\":[{\"marker\":{\"pattern\":{\"fillmode\":\"overlay\",\"size\":10,\"solidity\":0.2}},\"type\":\"histogram\"}],\"mesh3d\":[{\"colorbar\":{\"outlinewidth\":0,\"ticks\":\"\"},\"type\":\"mesh3d\"}],\"parcoords\":[{\"line\":{\"colorbar\":{\"outlinewidth\":0,\"ticks\":\"\"}},\"type\":\"parcoords\"}],\"pie\":[{\"automargin\":true,\"type\":\"pie\"}],\"scatter3d\":[{\"line\":{\"colorbar\":{\"outlinewidth\":0,\"ticks\":\"\"}},\"marker\":{\"colorbar\":{\"outlinewidth\":0,\"ticks\":\"\"}},\"type\":\"scatter3d\"}],\"scattercarpet\":[{\"marker\":{\"colorbar\":{\"outlinewidth\":0,\"ticks\":\"\"}},\"type\":\"scattercarpet\"}],\"scattergeo\":[{\"marker\":{\"colorbar\":{\"outlinewidth\":0,\"ticks\":\"\"}},\"type\":\"scattergeo\"}],\"scattergl\":[{\"marker\":{\"colorbar\":{\"outlinewidth\":0,\"ticks\":\"\"}},\"type\":\"scattergl\"}],\"scattermapbox\":[{\"marker\":{\"colorbar\":{\"outlinewidth\":0,\"ticks\":\"\"}},\"type\":\"scattermapbox\"}],\"scatterpolargl\":[{\"marker\":{\"colorbar\":{\"outlinewidth\":0,\"ticks\":\"\"}},\"type\":\"scatterpolargl\"}],\"scatterpolar\":[{\"marker\":{\"colorbar\":{\"outlinewidth\":0,\"ticks\":\"\"}},\"type\":\"scatterpolar\"}],\"scatter\":[{\"marker\":{\"colorbar\":{\"outlinewidth\":0,\"ticks\":\"\"}},\"type\":\"scatter\"}],\"scatterternary\":[{\"marker\":{\"colorbar\":{\"outlinewidth\":0,\"ticks\":\"\"}},\"type\":\"scatterternary\"}],\"surface\":[{\"colorbar\":{\"outlinewidth\":0,\"ticks\":\"\"},\"colorscale\":[[0.0,\"#0d0887\"],[0.1111111111111111,\"#46039f\"],[0.2222222222222222,\"#7201a8\"],[0.3333333333333333,\"#9c179e\"],[0.4444444444444444,\"#bd3786\"],[0.5555555555555556,\"#d8576b\"],[0.6666666666666666,\"#ed7953\"],[0.7777777777777778,\"#fb9f3a\"],[0.8888888888888888,\"#fdca26\"],[1.0,\"#f0f921\"]],\"type\":\"surface\"}],\"table\":[{\"cells\":{\"fill\":{\"color\":\"#EBF0F8\"},\"line\":{\"color\":\"white\"}},\"header\":{\"fill\":{\"color\":\"#C8D4E3\"},\"line\":{\"color\":\"white\"}},\"type\":\"table\"}]},\"layout\":{\"annotationdefaults\":{\"arrowcolor\":\"#2a3f5f\",\"arrowhead\":0,\"arrowwidth\":1},\"autotypenumbers\":\"strict\",\"coloraxis\":{\"colorbar\":{\"outlinewidth\":0,\"ticks\":\"\"}},\"colorscale\":{\"diverging\":[[0,\"#8e0152\"],[0.1,\"#c51b7d\"],[0.2,\"#de77ae\"],[0.3,\"#f1b6da\"],[0.4,\"#fde0ef\"],[0.5,\"#f7f7f7\"],[0.6,\"#e6f5d0\"],[0.7,\"#b8e186\"],[0.8,\"#7fbc41\"],[0.9,\"#4d9221\"],[1,\"#276419\"]],\"sequential\":[[0.0,\"#0d0887\"],[0.1111111111111111,\"#46039f\"],[0.2222222222222222,\"#7201a8\"],[0.3333333333333333,\"#9c179e\"],[0.4444444444444444,\"#bd3786\"],[0.5555555555555556,\"#d8576b\"],[0.6666666666666666,\"#ed7953\"],[0.7777777777777778,\"#fb9f3a\"],[0.8888888888888888,\"#fdca26\"],[1.0,\"#f0f921\"]],\"sequentialminus\":[[0.0,\"#0d0887\"],[0.1111111111111111,\"#46039f\"],[0.2222222222222222,\"#7201a8\"],[0.3333333333333333,\"#9c179e\"],[0.4444444444444444,\"#bd3786\"],[0.5555555555555556,\"#d8576b\"],[0.6666666666666666,\"#ed7953\"],[0.7777777777777778,\"#fb9f3a\"],[0.8888888888888888,\"#fdca26\"],[1.0,\"#f0f921\"]]},\"colorway\":[\"#636efa\",\"#EF553B\",\"#00cc96\",\"#ab63fa\",\"#FFA15A\",\"#19d3f3\",\"#FF6692\",\"#B6E880\",\"#FF97FF\",\"#FECB52\"],\"font\":{\"color\":\"#2a3f5f\"},\"geo\":{\"bgcolor\":\"white\",\"lakecolor\":\"white\",\"landcolor\":\"white\",\"showlakes\":true,\"showland\":true,\"subunitcolor\":\"#C8D4E3\"},\"hoverlabel\":{\"align\":\"left\"},\"hovermode\":\"closest\",\"mapbox\":{\"style\":\"light\"},\"paper_bgcolor\":\"white\",\"plot_bgcolor\":\"white\",\"polar\":{\"angularaxis\":{\"gridcolor\":\"#EBF0F8\",\"linecolor\":\"#EBF0F8\",\"ticks\":\"\"},\"bgcolor\":\"white\",\"radialaxis\":{\"gridcolor\":\"#EBF0F8\",\"linecolor\":\"#EBF0F8\",\"ticks\":\"\"}},\"scene\":{\"xaxis\":{\"backgroundcolor\":\"white\",\"gridcolor\":\"#DFE8F3\",\"gridwidth\":2,\"linecolor\":\"#EBF0F8\",\"showbackground\":true,\"ticks\":\"\",\"zerolinecolor\":\"#EBF0F8\"},\"yaxis\":{\"backgroundcolor\":\"white\",\"gridcolor\":\"#DFE8F3\",\"gridwidth\":2,\"linecolor\":\"#EBF0F8\",\"showbackground\":true,\"ticks\":\"\",\"zerolinecolor\":\"#EBF0F8\"},\"zaxis\":{\"backgroundcolor\":\"white\",\"gridcolor\":\"#DFE8F3\",\"gridwidth\":2,\"linecolor\":\"#EBF0F8\",\"showbackground\":true,\"ticks\":\"\",\"zerolinecolor\":\"#EBF0F8\"}},\"shapedefaults\":{\"line\":{\"color\":\"#2a3f5f\"}},\"ternary\":{\"aaxis\":{\"gridcolor\":\"#DFE8F3\",\"linecolor\":\"#A2B1C6\",\"ticks\":\"\"},\"baxis\":{\"gridcolor\":\"#DFE8F3\",\"linecolor\":\"#A2B1C6\",\"ticks\":\"\"},\"bgcolor\":\"white\",\"caxis\":{\"gridcolor\":\"#DFE8F3\",\"linecolor\":\"#A2B1C6\",\"ticks\":\"\"}},\"title\":{\"x\":0.05},\"xaxis\":{\"automargin\":true,\"gridcolor\":\"#EBF0F8\",\"linecolor\":\"#EBF0F8\",\"ticks\":\"\",\"title\":{\"standoff\":15},\"zerolinecolor\":\"#EBF0F8\",\"zerolinewidth\":2},\"yaxis\":{\"automargin\":true,\"gridcolor\":\"#EBF0F8\",\"linecolor\":\"#EBF0F8\",\"ticks\":\"\",\"title\":{\"standoff\":15},\"zerolinecolor\":\"#EBF0F8\",\"zerolinewidth\":2}}},\"xaxis\":{\"range\":[480,960],\"showgrid\":true,\"title\":{\"text\":\"Minuten\"}},\"yaxis\":{\"range\":[0,60],\"title\":{\"text\":\"Energie in kW\"}},\"title\":{\"font\":{\"size\":24},\"text\":\"Ladeleistung pro Ladezeitraum eines BEVs\",\"x\":0.5,\"xanchor\":\"center\"}},                        {\"responsive\": true}                    ).then(function(){\n",
       "                            \n",
       "var gd = document.getElementById('6a07952e-4a04-44e3-8101-1f4200600393');\n",
       "var x = new MutationObserver(function (mutations, observer) {{\n",
       "        var display = window.getComputedStyle(gd).display;\n",
       "        if (!display || display === 'none') {{\n",
       "            console.log([gd, 'removed!']);\n",
       "            Plotly.purge(gd);\n",
       "            observer.disconnect();\n",
       "        }}\n",
       "}});\n",
       "\n",
       "// Listen for the removal of the full notebook cells\n",
       "var notebookContainer = gd.closest('#notebook-container');\n",
       "if (notebookContainer) {{\n",
       "    x.observe(notebookContainer, {childList: true});\n",
       "}}\n",
       "\n",
       "// Listen for the clearing of the current output cell\n",
       "var outputEl = gd.closest('.output');\n",
       "if (outputEl) {{\n",
       "    x.observe(outputEl, {childList: true});\n",
       "}}\n",
       "\n",
       "                        })                };                });            </script>        </div>"
      ]
     },
     "metadata": {},
     "output_type": "display_data"
    }
   ],
   "source": [
    "figureGeneration.create_charging_power_figure(simulation_day, solarpeakleistung, bev_data, minute_interval)"
   ]
  }
 ],
 "metadata": {
  "kernelspec": {
   "display_name": "Python 3 (ipykernel)",
   "language": "python",
   "name": "python3"
  },
  "language_info": {
   "codemirror_mode": {
    "name": "ipython",
    "version": 3
   },
   "file_extension": ".py",
   "mimetype": "text/x-python",
   "name": "python",
   "nbconvert_exporter": "python",
   "pygments_lexer": "ipython3",
   "version": "3.9.5"
  }
 },
 "nbformat": 4,
 "nbformat_minor": 4
}