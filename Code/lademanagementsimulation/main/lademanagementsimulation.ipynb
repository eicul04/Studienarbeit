{
 "cells": [
  {
   "cell_type": "markdown",
   "metadata": {
    "pycharm": {
     "name": "#%% md\n"
    }
   },
   "source": [
    "# Lademanagementsimulation   \n"
   ]
  },
  {
   "cell_type": "markdown",
   "metadata": {},
   "source": [
    "### Simulations Parameter"
   ]
  },
  {
   "cell_type": "code",
   "execution_count": 1,
   "metadata": {
    "pycharm": {
     "name": "#%%\n"
    }
   },
   "outputs": [],
   "source": [
    "solarpeakleistung = 125 #Einheit Kilowattpeak (kWP)\n",
    "anzahl_bevs_pro_tag = 50\n",
    "ladeleistung_pro_bev = 11 #Einheit kW\n",
    "maximale_ladezeit = 30 #Einheit Minuten\n",
    "minute_interval = 15 #Einheit Minuten"
   ]
  },
  {
   "cell_type": "markdown",
   "metadata": {},
   "source": [
    "### Simulations Eingangsdaten"
   ]
  },
  {
   "cell_type": "code",
   "execution_count": 2,
   "metadata": {
    "pycharm": {
     "is_executing": true,
     "name": "#%%\n"
    }
   },
   "outputs": [
    {
     "data": {
      "text/html": [
       "\n",
       "        <iframe\n",
       "            width=\"100%\"\n",
       "            height=\"650\"\n",
       "            src=\"http://127.0.0.1:8050/\"\n",
       "            frameborder=\"0\"\n",
       "            allowfullscreen\n",
       "            \n",
       "        ></iframe>\n",
       "        "
      ],
      "text/plain": [
       "<IPython.lib.display.IFrame at 0x2aabc3d9a60>"
      ]
     },
     "metadata": {},
     "output_type": "display_data"
    }
   ],
   "source": [
    "import simulationInputDataVisualisation\n",
    "simulationInputDataVisualisation.create_jupyter_dash_app(solarpeakleistung)"
   ]
  },
  {
   "cell_type": "markdown",
   "metadata": {},
   "source": [
    "### Verteilungsalgorithmus"
   ]
  },
  {
   "cell_type": "code",
   "execution_count": 3,
   "metadata": {
    "pycharm": {
     "is_executing": true
    }
   },
   "outputs": [
    {
     "name": "stdout",
     "output_type": "stream",
     "text": [
      "\n",
      "\n",
      "Minute:  480\n",
      "Charging BEVs after updating parking end:  []\n",
      "Waiting BEVs:  []\n",
      "CALCULATE NUMBER OF CHARGING STATIONS\n",
      "Number of charging stations:  1\n",
      "CALCULATE NUMBER OF CHARGING STATIONS\n",
      "Number of charging stations:  1\n",
      "NUMBER OF FREE CHARGING STATIONS:  1\n",
      "CALCULATE NUMBER OF CHARGING STATIONS\n",
      "Number of charging stations:  1\n",
      "Charging BEVs (nachdem neue Plätze belegt):  [3]\n",
      "AVAILABLE SOLAR POWER:  0.62\n",
      "Restladeenergie bis zur fairen Ladeenergie for BEV mit ID 3:  4.5\n",
      "Restladezeit:  435.48387096774195\n",
      "Charging BEVs:  [3]\n",
      "\n",
      "\n",
      "Minute:  495\n",
      "Charging BEVs after updating parking end:  [3]\n",
      "Waiting BEVs:  [8, 10, 22, 34, 39, 43, 44, 49]\n",
      "CALCULATE NUMBER OF CHARGING STATIONS\n",
      "Number of charging stations:  1\n",
      "CALCULATE NUMBER OF CHARGING STATIONS\n",
      "Number of charging stations:  1\n",
      "Charging BEVs (nachdem neue Plätze belegt):  [3]\n",
      "AVAILABLE SOLAR POWER:  5.87\n",
      "Restladeenergie bis zur fairen Ladeenergie for BEV mit ID 3:  4.345\n",
      "Restladezeit:  44.41226575809199\n",
      "Charging BEVs:  [3]\n",
      "\n",
      "\n",
      "Minute:  510\n",
      "Charging BEVs after updating parking end:  [3]\n",
      "Waiting BEVs:  [8, 10, 22, 34, 39, 43, 44, 49]\n",
      "CALCULATE NUMBER OF CHARGING STATIONS\n",
      "Number of charging stations:  2\n",
      "CALCULATE NUMBER OF CHARGING STATIONS\n",
      "Number of charging stations:  2\n",
      "NUMBER OF FREE CHARGING STATIONS:  1\n",
      "CALCULATE NUMBER OF CHARGING STATIONS\n",
      "Number of charging stations:  2\n",
      "Charging BEVs (nachdem neue Plätze belegt):  [3, 8]\n",
      "AVAILABLE SOLAR POWER:  11.12\n",
      "Restladeenergie bis zur fairen Ladeenergie for BEV mit ID 3:  2.8775\n",
      "Restladezeit:  31.0521582733813\n",
      "AVAILABLE SOLAR POWER:  11.12\n",
      "Restladeenergie bis zur fairen Ladeenergie for BEV mit ID 8:  6.229999999999999\n",
      "Restladezeit:  67.23021582733813\n",
      "Charging BEVs:  [3, 8]\n",
      "\n",
      "\n",
      "Minute:  525\n",
      "Charging BEVs after updating parking end:  [3, 8]\n",
      "Waiting BEVs:  [10, 22, 34, 39, 43, 44, 49, 1, 4, 5, 6, 7, 9, 15, 18, 24, 25, 26, 28, 32, 35, 36, 37, 41, 42, 48]\n",
      "CALCULATE NUMBER OF CHARGING STATIONS\n",
      "Number of charging stations:  2\n",
      "CALCULATE NUMBER OF CHARGING STATIONS\n",
      "Number of charging stations:  2\n",
      "Charging BEVs (nachdem neue Plätze belegt):  [3, 8]\n",
      "AVAILABLE SOLAR POWER:  16.38\n",
      "Restladeenergie bis zur fairen Ladeenergie for BEV mit ID 3:  1.4874999999999998\n",
      "Restladezeit:  10.897435897435898\n",
      "Die Restladezeit des BEVS 3 endet vor dem nächsten Interval\n",
      "Ausgewähltes BEV das frei gewordenen Platz belegen darf:  10\n",
      "Ladestart für ausgewähltes BEV:  535.8974358974359\n",
      "8.19 CHARGING POWER WIRD FÜR NEUES BEV 10 GESPEICHERT: \n",
      "ZEITPUNKT FÜR DAS ES GESPEICHERT WIRD:  535.8974358974359\n",
      "AVAILABLE SOLAR POWER:  16.38\n",
      "Restladeenergie bis zur fairen Ladeenergie for BEV mit ID 8:  4.839999999999999\n",
      "Restladezeit:  35.45787545787545\n",
      "Charging BEVs:  [3, 8]\n",
      "\n",
      "\n",
      "Minute:  540\n",
      "Charging BEVs after updating parking end:  [8, 10]\n",
      "Waiting BEVs:  [22, 34, 39, 43, 44, 49, 1, 4, 5, 6, 7, 9, 15, 18, 24, 25, 26, 28, 32, 35, 36, 37, 41, 42, 48]\n",
      "CALCULATE NUMBER OF CHARGING STATIONS\n",
      "Number of charging stations:  3\n",
      "CALCULATE NUMBER OF CHARGING STATIONS\n",
      "Number of charging stations:  3\n",
      "NUMBER OF FREE CHARGING STATIONS:  1\n",
      "CALCULATE NUMBER OF CHARGING STATIONS\n",
      "Number of charging stations:  3\n",
      "Charging BEVs (nachdem neue Plätze belegt):  [8, 10, 22]\n",
      "AVAILABLE SOLAR POWER:  23.0\n",
      "Restladeenergie bis zur fairen Ladeenergie for BEV mit ID 8:  2.7924999999999986\n",
      "Restladezeit:  21.854347826086943\n",
      "AVAILABLE SOLAR POWER:  23.0\n",
      "Restladeenergie bis zur fairen Ladeenergie for BEV mit ID 10:  3.262500000000003\n",
      "Restladezeit:  25.532608695652193\n",
      "AVAILABLE SOLAR POWER:  23.0\n",
      "Restladeenergie bis zur fairen Ladeenergie for BEV mit ID 22:  6.894999999999999\n",
      "Restladezeit:  53.96086956521738\n",
      "Charging BEVs:  [8, 10, 22]\n",
      "\n",
      "\n",
      "Minute:  555\n",
      "Charging BEVs after updating parking end:  [8, 10, 22]\n",
      "Waiting BEVs:  [34, 39, 43, 44, 49, 1, 4, 5, 6, 7, 9, 15, 18, 24, 25, 26, 28, 32, 35, 36, 37, 41, 42, 48, 11, 12, 13, 16, 19, 23, 27, 29, 31, 45, 46, 47]\n",
      "CALCULATE NUMBER OF CHARGING STATIONS\n",
      "Number of charging stations:  3\n",
      "CALCULATE NUMBER OF CHARGING STATIONS\n",
      "Number of charging stations:  3\n",
      "Charging BEVs (nachdem neue Plätze belegt):  [8, 10, 22]\n",
      "AVAILABLE SOLAR POWER:  31.0\n",
      "Restladeenergie bis zur fairen Ladeenergie for BEV mit ID 8:  0.8758333333333317\n",
      "Restladezeit:  5.085483870967733\n",
      "Die Restladezeit des BEVS 8 endet vor dem nächsten Interval\n",
      "Ausgewähltes BEV das frei gewordenen Platz belegen darf:  34\n",
      "Ladestart für ausgewähltes BEV:  560.0854838709678\n",
      "10.333333333333334 CHARGING POWER WIRD FÜR NEUES BEV 34 GESPEICHERT: \n",
      "ZEITPUNKT FÜR DAS ES GESPEICHERT WIRD:  560.0854838709678\n",
      "AVAILABLE SOLAR POWER:  31.0\n",
      "Restladeenergie bis zur fairen Ladeenergie for BEV mit ID 10:  2.73828347578348\n",
      "Restladezeit:  15.899710504549239\n",
      "AVAILABLE SOLAR POWER:  31.0\n",
      "Restladeenergie bis zur fairen Ladeenergie for BEV mit ID 22:  4.978333333333332\n",
      "Restladezeit:  28.906451612903215\n",
      "Charging BEVs:  [8, 10, 22]\n",
      "\n",
      "\n",
      "Minute:  570\n",
      "Charging BEVs after updating parking end:  [10, 22, 34]\n",
      "Waiting BEVs:  [39, 43, 44, 49, 1, 4, 5, 6, 7, 9, 15, 18, 24, 25, 26, 28, 32, 35, 36, 37, 41, 42, 48, 11, 12, 13, 16, 19, 23, 27, 29, 31, 45, 46, 47]\n",
      "CALCULATE NUMBER OF CHARGING STATIONS\n",
      "Number of charging stations:  4\n",
      "CALCULATE NUMBER OF CHARGING STATIONS\n",
      "Number of charging stations:  4\n",
      "NUMBER OF FREE CHARGING STATIONS:  1\n",
      "CALCULATE NUMBER OF CHARGING STATIONS\n",
      "Number of charging stations:  4\n",
      "Charging BEVs (nachdem neue Plätze belegt):  [10, 22, 34, 39]\n",
      "AVAILABLE SOLAR POWER:  39.0\n",
      "Restladeenergie bis zur fairen Ladeenergie for BEV mit ID 10:  2.031730769230776\n",
      "Restladezeit:  12.502958579881698\n",
      "Die Restladezeit des BEVS 10 endet vor dem nächsten Interval\n",
      "Ausgewähltes BEV das frei gewordenen Platz belegen darf:  43\n",
      "Ladestart für ausgewähltes BEV:  582.5029585798817\n",
      "9.75 CHARGING POWER WIRD FÜR NEUES BEV 43 GESPEICHERT: \n",
      "ZEITPUNKT FÜR DAS ES GESPEICHERT WIRD:  582.5029585798817\n",
      "AVAILABLE SOLAR POWER:  39.0\n",
      "Restladeenergie bis zur fairen Ladeenergie for BEV mit ID 22:  2.3949999999999987\n",
      "Restladezeit:  14.73846153846153\n",
      "Die Restladezeit des BEVS 22 endet vor dem nächsten Interval\n",
      "Ausgewähltes BEV das frei gewordenen Platz belegen darf:  44\n",
      "Ladestart für ausgewähltes BEV:  584.7384615384615\n",
      "9.75 CHARGING POWER WIRD FÜR NEUES BEV 44 GESPEICHERT: \n",
      "ZEITPUNKT FÜR DAS ES GESPEICHERT WIRD:  584.7384615384615\n",
      "AVAILABLE SOLAR POWER:  39.0\n",
      "Restladeenergie bis zur fairen Ladeenergie for BEV mit ID 34:  3.1000000000000063\n",
      "Restladezeit:  19.076923076923116\n",
      "AVAILABLE SOLAR POWER:  39.0\n",
      "Restladeenergie bis zur fairen Ladeenergie for BEV mit ID 39:  4.5\n",
      "Restladezeit:  27.692307692307693\n",
      "Charging BEVs:  [10, 22, 34, 39]\n",
      "\n",
      "\n",
      "Minute:  585\n",
      "Charging BEVs after updating parking end:  [34, 39, 43, 44]\n",
      "Waiting BEVs:  [49, 1, 4, 5, 6, 7, 9, 15, 18, 24, 25, 26, 28, 32, 35, 36, 37, 41, 42, 48, 11, 12, 13, 16, 19, 23, 27, 29, 31, 45, 46, 47, 30]\n",
      "CALCULATE NUMBER OF CHARGING STATIONS\n",
      "Number of charging stations:  5\n",
      "CALCULATE NUMBER OF CHARGING STATIONS\n",
      "Number of charging stations:  5\n",
      "NUMBER OF FREE CHARGING STATIONS:  1\n",
      "CALCULATE NUMBER OF CHARGING STATIONS\n",
      "Number of charging stations:  5\n",
      "Charging BEVs (nachdem neue Plätze belegt):  [34, 39, 43, 44, 49]\n",
      "AVAILABLE SOLAR POWER:  47.0\n",
      "Restladeenergie bis zur fairen Ladeenergie for BEV mit ID 34:  1.48889112903227\n",
      "Restladezeit:  9.503560398078317\n",
      "Die Restladezeit des BEVS 34 endet vor dem nächsten Interval\n",
      "Ausgewähltes BEV das frei gewordenen Platz belegen darf:  1\n",
      "Ladestart für ausgewähltes BEV:  594.5035603980783\n",
      "9.4 CHARGING POWER WIRD FÜR NEUES BEV 1 GESPEICHERT: \n",
      "ZEITPUNKT FÜR DAS ES GESPEICHERT WIRD:  594.5035603980783\n",
      "AVAILABLE SOLAR POWER:  47.0\n",
      "Restladeenergie bis zur fairen Ladeenergie for BEV mit ID 39:  2.0625\n",
      "Restladezeit:  13.164893617021276\n",
      "Die Restladezeit des BEVS 39 endet vor dem nächsten Interval\n",
      "Ausgewähltes BEV das frei gewordenen Platz belegen darf:  4\n",
      "Ladestart für ausgewähltes BEV:  598.1648936170212\n",
      "9.4 CHARGING POWER WIRD FÜR NEUES BEV 4 GESPEICHERT: \n",
      "ZEITPUNKT FÜR DAS ES GESPEICHERT WIRD:  598.1648936170212\n",
      "AVAILABLE SOLAR POWER:  47.0\n",
      "Restladeenergie bis zur fairen Ladeenergie for BEV mit ID 43:  2.7367307692307756\n",
      "Restladezeit:  17.468494271685802\n",
      "AVAILABLE SOLAR POWER:  47.0\n",
      "Restladeenergie bis zur fairen Ladeenergie for BEV mit ID 44:  5.8649999999999896\n",
      "Restladezeit:  37.43617021276589\n",
      "AVAILABLE SOLAR POWER:  47.0\n",
      "Restladeenergie bis zur fairen Ladeenergie for BEV mit ID 49:  3.4750000000000005\n",
      "Restladezeit:  22.180851063829788\n",
      "Charging BEVs:  [34, 39, 43, 44, 49]\n",
      "\n",
      "\n",
      "Minute:  600\n",
      "Charging BEVs after updating parking end:  [43, 44, 49, 1, 4]\n",
      "Waiting BEVs:  [5, 6, 7, 9, 15, 18, 24, 25, 26, 28, 32, 35, 36, 37, 41, 42, 48, 11, 12, 13, 16, 19, 23, 27, 29, 31, 45, 46, 47, 30]\n",
      "CALCULATE NUMBER OF CHARGING STATIONS\n",
      "Number of charging stations:  5\n",
      "CALCULATE NUMBER OF CHARGING STATIONS\n",
      "Number of charging stations:  5\n"
     ]
    },
    {
     "name": "stdout",
     "output_type": "stream",
     "text": [
      "Charging BEVs (nachdem neue Plätze belegt):  [43, 44, 49, 1, 4]\n",
      "AVAILABLE SOLAR POWER:  50.88\n",
      "Restladeenergie bis zur fairen Ladeenergie for BEV mit ID 43:  2.3455276134122407\n",
      "Restladezeit:  13.829761871534437\n",
      "Die Restladezeit des BEVS 43 endet vor dem nächsten Interval\n",
      "Ausgewähltes BEV das frei gewordenen Platz belegen darf:  5\n",
      "Ladestart für ausgewähltes BEV:  613.8297618715344\n",
      "10.176 CHARGING POWER WIRD FÜR NEUES BEV 5 GESPEICHERT: \n",
      "ZEITPUNKT FÜR DAS ES GESPEICHERT WIRD:  613.8297618715344\n",
      "AVAILABLE SOLAR POWER:  50.88\n",
      "Restladeenergie bis zur fairen Ladeenergie for BEV mit ID 44:  5.824025641025621\n",
      "Restladezeit:  34.33977382680201\n",
      "AVAILABLE SOLAR POWER:  50.88\n",
      "Restladeenergie bis zur fairen Ladeenergie for BEV mit ID 49:  1.1250000000000004\n",
      "Restladezeit:  6.633254716981135\n",
      "Die Restladezeit des BEVS 49 endet vor dem nächsten Interval\n",
      "Ausgewähltes BEV das frei gewordenen Platz belegen darf:  6\n",
      "Ladestart für ausgewähltes BEV:  606.6332547169811\n",
      "10.176 CHARGING POWER WIRD FÜR NEUES BEV 6 GESPEICHERT: \n",
      "ZEITPUNKT FÜR DAS ES GESPEICHERT WIRD:  606.6332547169811\n",
      "AVAILABLE SOLAR POWER:  50.88\n",
      "Restladeenergie bis zur fairen Ladeenergie for BEV mit ID 1:  4.30889112903227\n",
      "Restladezeit:  25.406197694765744\n",
      "AVAILABLE SOLAR POWER:  50.88\n",
      "Restladeenergie bis zur fairen Ladeenergie for BEV mit ID 4:  7.50499999999999\n",
      "Restladezeit:  44.251179245282955\n",
      "Charging BEVs:  [43, 44, 49, 1, 4]\n",
      "\n",
      "\n",
      "Minute:  615\n",
      "Charging BEVs after updating parking end:  [44, 1, 4, 5, 6]\n",
      "Waiting BEVs:  [7, 9, 15, 18, 24, 25, 26, 28, 32, 35, 36, 37, 41, 42, 48, 11, 12, 13, 16, 19, 23, 27, 29, 31, 45, 46, 47, 30]\n",
      "CALCULATE NUMBER OF CHARGING STATIONS\n",
      "Number of charging stations:  5\n",
      "CALCULATE NUMBER OF CHARGING STATIONS\n",
      "Number of charging stations:  5\n",
      "Charging BEVs (nachdem neue Plätze belegt):  [44, 1, 4, 5, 6]\n",
      "AVAILABLE SOLAR POWER:  50.62\n",
      "Restladeenergie bis zur fairen Ladeenergie for BEV mit ID 44:  5.779668717948688\n",
      "Restladezeit:  34.253271738139205\n",
      "AVAILABLE SOLAR POWER:  50.62\n",
      "Restladeenergie bis zur fairen Ladeenergie for BEV mit ID 1:  3.3766949725463533\n",
      "Restladezeit:  20.012020777635442\n",
      "AVAILABLE SOLAR POWER:  50.62\n",
      "Restladeenergie bis zur fairen Ladeenergie for BEV mit ID 4:  7.193765957446789\n",
      "Restladezeit:  42.63393495128481\n",
      "AVAILABLE SOLAR POWER:  50.62\n",
      "Restladeenergie bis zur fairen Ladeenergie for BEV mit ID 5:  3.444027613412235\n",
      "Restladezeit:  20.411068431917634\n",
      "AVAILABLE SOLAR POWER:  50.62\n",
      "Restladeenergie bis zur fairen Ladeenergie for BEV mit ID 6:  3.7509999999999994\n",
      "Restladezeit:  22.2303437376531\n",
      "Charging BEVs:  [44, 1, 4, 5, 6]\n",
      "\n",
      "\n",
      "Minute:  630\n",
      "Charging BEVs after updating parking end:  [44, 1, 4, 5, 6]\n",
      "Waiting BEVs:  [7, 9, 15, 18, 24, 25, 26, 28, 32, 35, 36, 37, 41, 42, 48, 11, 12, 13, 16, 19, 23, 27, 29, 31, 45, 46, 47, 30]\n",
      "CALCULATE NUMBER OF CHARGING STATIONS\n",
      "Number of charging stations:  5\n",
      "CALCULATE NUMBER OF CHARGING STATIONS\n",
      "Number of charging stations:  5\n",
      "Charging BEVs (nachdem neue Plätze belegt):  [44, 1, 4, 5, 6]\n",
      "AVAILABLE SOLAR POWER:  50.38\n",
      "Restladeenergie bis zur fairen Ladeenergie for BEV mit ID 44:  5.735538461538422\n",
      "Restladezeit:  34.153662930955264\n",
      "AVAILABLE SOLAR POWER:  50.38\n",
      "Restladeenergie bis zur fairen Ladeenergie for BEV mit ID 1:  2.4492623970487686\n",
      "Restladezeit:  14.584730431016881\n",
      "Die Restladezeit des BEVS 1 endet vor dem nächsten Interval\n",
      "Ausgewähltes BEV das frei gewordenen Platz belegen darf:  7\n",
      "Ladestart für ausgewähltes BEV:  644.5847304310169\n",
      "10.076 CHARGING POWER WIRD FÜR NEUES BEV 7 GESPEICHERT: \n",
      "ZEITPUNKT FÜR DAS ES GESPEICHERT WIRD:  644.5847304310169\n",
      "AVAILABLE SOLAR POWER:  50.38\n",
      "Restladeenergie bis zur fairen Ladeenergie for BEV mit ID 4:  6.8841223404255025\n",
      "Restladezeit:  40.99318583024316\n",
      "AVAILABLE SOLAR POWER:  50.38\n",
      "Restladeenergie bis zur fairen Ladeenergie for BEV mit ID 5:  3.246569433202473\n",
      "Restladezeit:  19.332489677664586\n",
      "AVAILABLE SOLAR POWER:  50.38\n",
      "Restladeenergie bis zur fairen Ladeenergie for BEV mit ID 6:  2.3392511792452817\n",
      "Restladezeit:  13.929641797808346\n",
      "Die Restladezeit des BEVS 6 endet vor dem nächsten Interval\n",
      "Ausgewähltes BEV das frei gewordenen Platz belegen darf:  9\n",
      "Ladestart für ausgewähltes BEV:  643.9296417978084\n",
      "10.076 CHARGING POWER WIRD FÜR NEUES BEV 9 GESPEICHERT: \n",
      "ZEITPUNKT FÜR DAS ES GESPEICHERT WIRD:  643.9296417978084\n",
      "Charging BEVs:  [44, 1, 4, 5, 6]\n",
      "\n",
      "\n",
      "Minute:  645\n",
      "Charging BEVs after updating parking end:  [44, 4, 5, 7, 9]\n",
      "Waiting BEVs:  [15, 18, 24, 25, 26, 28, 32, 35, 36, 37, 41, 42, 48, 11, 12, 13, 16, 19, 23, 27, 29, 31, 45, 46, 47, 30]\n",
      "CALCULATE NUMBER OF CHARGING STATIONS\n",
      "Number of charging stations:  5\n",
      "CALCULATE NUMBER OF CHARGING STATIONS\n",
      "Number of charging stations:  5\n",
      "Charging BEVs (nachdem neue Plätze belegt):  [44, 4, 5, 7, 9]\n",
      "AVAILABLE SOLAR POWER:  50.12\n",
      "Restladeenergie bis zur fairen Ladeenergie for BEV mit ID 44:  5.691617435897386\n",
      "Restladezeit:  34.067941555650755\n",
      "AVAILABLE SOLAR POWER:  50.12\n",
      "Restladeenergie bis zur fairen Ladeenergie for BEV mit ID 4:  6.5759468085106\n",
      "Restladezeit:  39.361213937613336\n",
      "AVAILABLE SOLAR POWER:  50.12\n",
      "Restladeenergie bis zur fairen Ladeenergie for BEV mit ID 5:  3.0500474434954836\n",
      "Restladezeit:  18.256469135048786\n",
      "AVAILABLE SOLAR POWER:  50.12\n",
      "Restladeenergie bis zur fairen Ladeenergie for BEV mit ID 7:  7.902762397048762\n",
      "Restladezeit:  47.30304706932619\n",
      "AVAILABLE SOLAR POWER:  50.12\n",
      "Restladeenergie bis zur fairen Ladeenergie for BEV mit ID 9:  7.792751179245282\n",
      "Restladezeit:  46.644560131156915\n",
      "Charging BEVs:  [44, 4, 5, 7, 9]\n",
      "\n",
      "\n",
      "Minute:  660\n",
      "Charging BEVs after updating parking end:  [44, 4, 5, 7, 9]\n",
      "Waiting BEVs:  [15, 18, 24, 25, 26, 28, 32, 35, 36, 37, 41, 42, 48, 11, 12, 13, 16, 19, 23, 27, 29, 31, 45, 46, 47, 30]\n",
      "CALCULATE NUMBER OF CHARGING STATIONS\n",
      "Number of charging stations:  5\n",
      "CALCULATE NUMBER OF CHARGING STATIONS\n",
      "Number of charging stations:  5\n",
      "Charging BEVs (nachdem neue Plätze belegt):  [44, 4, 5, 7, 9]\n",
      "AVAILABLE SOLAR POWER:  50.62\n",
      "Restladeenergie bis zur fairen Ladeenergie for BEV mit ID 44:  5.647923076923017\n",
      "Restladezeit:  33.472479713095716\n",
      "AVAILABLE SOLAR POWER:  50.62\n",
      "Restladeenergie bis zur fairen Ladeenergie for BEV mit ID 4:  6.269361702127612\n",
      "Restladezeit:  37.15544272300047\n",
      "AVAILABLE SOLAR POWER:  50.62\n",
      "Restladeenergie bis zur fairen Ladeenergie for BEV mit ID 5:  2.8545396601664974\n",
      "Restladezeit:  16.917461439153485\n",
      "AVAILABLE SOLAR POWER:  50.62\n",
      "Restladeenergie bis zur fairen Ladeenergie for BEV mit ID 7:  7.833384694390643\n",
      "Restladezeit:  46.42464259812709\n",
      "AVAILABLE SOLAR POWER:  50.62\n",
      "Restladeenergie bis zur fairen Ladeenergie for BEV mit ID 9:  7.613930002265798\n",
      "Restladezeit:  45.124041894107854\n",
      "Charging BEVs:  [44, 4, 5, 7, 9]\n",
      "\n",
      "\n",
      "Minute:  675\n",
      "Charging BEVs after updating parking end:  [44, 4, 5, 7, 9]\n",
      "Waiting BEVs:  [15, 18, 24, 25, 26, 28, 32, 35, 36, 37, 41, 42, 48, 11, 12, 13, 16, 19, 23, 27, 29, 31, 45, 46, 47, 30]\n",
      "CALCULATE NUMBER OF CHARGING STATIONS\n",
      "Number of charging stations:  5\n",
      "CALCULATE NUMBER OF CHARGING STATIONS\n",
      "Number of charging stations:  5\n",
      "Charging BEVs (nachdem neue Plätze belegt):  [44, 4, 5, 7, 9]\n",
      "AVAILABLE SOLAR POWER:  51.88\n",
      "Restladeenergie bis zur fairen Ladeenergie for BEV mit ID 44:  5.6037928205127505\n",
      "Restladezeit:  32.40435324120711\n",
      "AVAILABLE SOLAR POWER:  51.88\n",
      "Restladeenergie bis zur fairen Ladeenergie for BEV mit ID 4:  5.959718085106326\n",
      "Restladezeit:  34.46251783985924\n",
      "AVAILABLE SOLAR POWER:  51.88\n",
      "Restladeenergie bis zur fairen Ladeenergie for BEV mit ID 5:  2.6570814799567355\n",
      "Restladezeit:  15.364773399904019\n",
      "AVAILABLE SOLAR POWER:  51.88\n",
      "Restladeenergie bis zur fairen Ladeenergie for BEV mit ID 7:  7.7633148757842205\n",
      "Restladezeit:  44.891951864596486\n",
      "AVAILABLE SOLAR POWER:  51.88\n",
      "Restladeenergie bis zur fairen Ladeenergie for BEV mit ID 9:  7.433324894949329\n",
      "Restladezeit:  42.98375999392441\n",
      "Charging BEVs:  [44, 4, 5, 7, 9]\n",
      "\n",
      "\n",
      "Minute:  690\n",
      "Charging BEVs after updating parking end:  [44, 4, 5, 7, 9]\n",
      "Waiting BEVs:  [15, 18, 24, 25, 26, 28, 32, 35, 36, 37, 41, 42, 48, 11, 12, 13, 16, 19, 23, 27, 29, 31, 45, 46, 47, 30]\n",
      "CALCULATE NUMBER OF CHARGING STATIONS\n",
      "Number of charging stations:  5\n",
      "CALCULATE NUMBER OF CHARGING STATIONS\n",
      "Number of charging stations:  5\n",
      "Charging BEVs (nachdem neue Plätze belegt):  [44, 4, 5, 7, 9]\n",
      "AVAILABLE SOLAR POWER:  53.12\n",
      "Restladeenergie bis zur fairen Ladeenergie for BEV mit ID 44:  5.558564102564022\n",
      "Restladezeit:  31.392493049119107\n",
      "AVAILABLE SOLAR POWER:  53.12\n",
      "Restladeenergie bis zur fairen Ladeenergie for BEV mit ID 4:  5.642367021276529\n",
      "Restladezeit:  31.865777605100885\n",
      "AVAILABLE SOLAR POWER:  53.12\n",
      "Restladeenergie bis zur fairen Ladeenergie for BEV mit ID 5:  2.454708299607418\n",
      "Restladezeit:  13.863186933023824\n",
      "Die Restladezeit des BEVS 5 endet vor dem nächsten Interval\n"
     ]
    },
    {
     "name": "stdout",
     "output_type": "stream",
     "text": [
      "Ausgewähltes BEV das frei gewordenen Platz belegen darf:  15\n",
      "Ladestart für ausgewähltes BEV:  703.8631869330238\n",
      "10.623999999999999 CHARGING POWER WIRD FÜR NEUES BEV 15 GESPEICHERT: \n",
      "ZEITPUNKT FÜR DAS ES GESPEICHERT WIRD:  703.8631869330238\n",
      "AVAILABLE SOLAR POWER:  53.12\n",
      "Restladeenergie bis zur fairen Ladeenergie for BEV mit ID 7:  7.691500924988068\n",
      "Restladezeit:  43.43844648901394\n",
      "AVAILABLE SOLAR POWER:  53.12\n",
      "Restladeenergie bis zur fairen Ladeenergie for BEV mit ID 9:  7.248224283183654\n",
      "Restladezeit:  40.935001599305274\n",
      "Charging BEVs:  [44, 4, 5, 7, 9]\n",
      "\n",
      "\n",
      "Minute:  705\n",
      "Charging BEVs after updating parking end:  [44, 4, 7, 9, 15]\n",
      "Waiting BEVs:  [18, 24, 25, 26, 28, 32, 35, 36, 37, 41, 42, 48, 11, 12, 13, 16, 19, 23, 27, 29, 31, 45, 46, 47, 30]\n",
      "CALCULATE NUMBER OF CHARGING STATIONS\n",
      "Number of charging stations:  5\n",
      "CALCULATE NUMBER OF CHARGING STATIONS\n",
      "Number of charging stations:  5\n",
      "Charging BEVs (nachdem neue Plätze belegt):  [44, 4, 7, 9, 15]\n",
      "AVAILABLE SOLAR POWER:  54.38\n",
      "Restladeenergie bis zur fairen Ladeenergie for BEV mit ID 44:  5.512254358974268\n",
      "Restladezeit:  30.409641553738144\n",
      "AVAILABLE SOLAR POWER:  54.38\n",
      "Restladeenergie bis zur fairen Ladeenergie for BEV mit ID 4:  5.317430851063754\n",
      "Restladezeit:  29.33485206544917\n",
      "AVAILABLE SOLAR POWER:  54.38\n",
      "Restladeenergie bis zur fairen Ladeenergie for BEV mit ID 7:  7.617970526640118\n",
      "Restladezeit:  42.026317726959086\n",
      "AVAILABLE SOLAR POWER:  54.38\n",
      "Restladeenergie bis zur fairen Ladeenergie for BEV mit ID 9:  7.058699524182254\n",
      "Restladezeit:  38.94096832024045\n",
      "AVAILABLE SOLAR POWER:  54.38\n",
      "Restladeenergie bis zur fairen Ladeenergie for BEV mit ID 15:  7.206208299607417\n",
      "Restladezeit:  39.754735010706604\n",
      "Charging BEVs:  [44, 4, 7, 9, 15]\n",
      "\n",
      "\n",
      "Minute:  720\n",
      "Charging BEVs after updating parking end:  [44, 4, 7, 9, 15]\n",
      "Waiting BEVs:  [18, 24, 25, 26, 28, 32, 35, 36, 37, 41, 42, 48, 11, 12, 13, 16, 19, 23, 27, 29, 31, 45, 46, 47, 30]\n",
      "CALCULATE NUMBER OF CHARGING STATIONS\n",
      "Number of charging stations:  5\n",
      "CALCULATE NUMBER OF CHARGING STATIONS\n",
      "Number of charging stations:  5\n",
      "Charging BEVs (nachdem neue Plätze belegt):  [44, 4, 7, 9, 15]\n",
      "AVAILABLE SOLAR POWER:  52.62\n",
      "Restladeenergie bis zur fairen Ladeenergie for BEV mit ID 44:  5.464846153846052\n",
      "Restladezeit:  31.156477501972933\n",
      "AVAILABLE SOLAR POWER:  52.62\n",
      "Restladeenergie bis zur fairen Ladeenergie for BEV mit ID 4:  4.984787234042467\n",
      "Restladezeit:  28.419539532739265\n",
      "AVAILABLE SOLAR POWER:  52.62\n",
      "Restladeenergie bis zur fairen Ladeenergie for BEV mit ID 7:  7.542695996102439\n",
      "Restladezeit:  43.00282779989988\n",
      "AVAILABLE SOLAR POWER:  52.62\n",
      "Restladeenergie bis zur fairen Ladeenergie for BEV mit ID 9:  6.864679260731649\n",
      "Restladezeit:  39.13728198820781\n",
      "AVAILABLE SOLAR POWER:  52.62\n",
      "Restladeenergie bis zur fairen Ladeenergie for BEV mit ID 15:  7.000141984333537\n",
      "Restladezeit:  39.90958942037364\n",
      "Charging BEVs:  [44, 4, 7, 9, 15]\n",
      "\n",
      "\n",
      "Minute:  735\n",
      "Charging BEVs after updating parking end:  [44, 4, 7, 9, 15]\n",
      "Waiting BEVs:  [18, 24, 25, 26, 28, 32, 35, 36, 37, 41, 42, 48, 11, 12, 13, 16, 19, 23, 27, 29, 31, 45, 46, 47, 30, 33]\n",
      "CALCULATE NUMBER OF CHARGING STATIONS\n",
      "Number of charging stations:  5\n",
      "CALCULATE NUMBER OF CHARGING STATIONS\n",
      "Number of charging stations:  5\n",
      "Charging BEVs (nachdem neue Plätze belegt):  [44, 4, 7, 9, 15]\n",
      "AVAILABLE SOLAR POWER:  47.88\n",
      "Restladeenergie bis zur fairen Ladeenergie for BEV mit ID 44:  5.418972307692195\n",
      "Restladezeit:  33.9534605745125\n",
      "AVAILABLE SOLAR POWER:  47.88\n",
      "Restladeenergie bis zur fairen Ladeenergie for BEV mit ID 4:  4.662909574467989\n",
      "Restladezeit:  29.216225403934764\n",
      "AVAILABLE SOLAR POWER:  47.88\n",
      "Restladeenergie bis zur fairen Ladeenergie for BEV mit ID 7:  7.469857713702795\n",
      "Restladezeit:  46.80361976004257\n",
      "AVAILABLE SOLAR POWER:  47.88\n",
      "Restladeenergie bis zur fairen Ladeenergie for BEV mit ID 9:  6.676938432067235\n",
      "Restladezeit:  41.83545383500773\n",
      "AVAILABLE SOLAR POWER:  47.88\n",
      "Restladeenergie bis zur fairen Ladeenergie for BEV mit ID 15:  6.800744972385916\n",
      "Restladezeit:  42.61118403750574\n",
      "Charging BEVs:  [44, 4, 7, 9, 15]\n",
      "\n",
      "\n",
      "Minute:  750\n",
      "Charging BEVs after updating parking end:  [44, 4, 7, 9, 15]\n",
      "Waiting BEVs:  [18, 24, 25, 26, 28, 35, 36, 37, 41, 42, 48, 11, 12, 13, 16, 19, 27, 29, 31, 45, 46, 47, 30, 33]\n",
      "CALCULATE NUMBER OF CHARGING STATIONS\n",
      "Number of charging stations:  4\n",
      "CALCULATE NUMBER OF CHARGING STATIONS\n",
      "Number of charging stations:  4\n",
      "Charging BEVs (nachdem neue Plätze belegt):  [44, 4, 7, 9, 15]\n",
      "AVAILABLE SOLAR POWER:  43.12\n",
      "Restladeenergie bis zur fairen Ladeenergie for BEV mit ID 44:  5.377230769230647\n",
      "Restladezeit:  37.41116026830228\n",
      "AVAILABLE SOLAR POWER:  43.12\n",
      "Restladeenergie bis zur fairen Ladeenergie for BEV mit ID 4:  4.3700265957445765\n",
      "Restladezeit:  30.40371008171088\n",
      "AVAILABLE SOLAR POWER:  43.12\n",
      "Restladeenergie bis zur fairen Ladeenergie for BEV mit ID 7:  7.403580690493085\n",
      "Restladezeit:  51.50914209526729\n",
      "AVAILABLE SOLAR POWER:  43.12\n",
      "Restladeenergie bis zur fairen Ladeenergie for BEV mit ID 9:  6.506109262997449\n",
      "Restladezeit:  45.265138657217875\n",
      "AVAILABLE SOLAR POWER:  43.12\n",
      "Restladeenergie bis zur fairen Ladeenergie for BEV mit ID 15:  6.619309606896518\n",
      "Restladezeit:  46.0527106231205\n",
      "Charging BEVs:  [44, 4, 7, 9, 15]\n",
      "\n",
      "\n",
      "Minute:  765\n",
      "Charging BEVs after updating parking end:  [44, 4, 7, 9, 15]\n",
      "Waiting BEVs:  [24, 25, 26, 28, 35, 36, 37, 41, 42, 48, 11, 12, 13, 16, 19, 27, 29, 31, 45, 46, 47, 30, 33, 14, 38]\n",
      "CALCULATE NUMBER OF CHARGING STATIONS\n",
      "Number of charging stations:  4\n",
      "CALCULATE NUMBER OF CHARGING STATIONS\n",
      "Number of charging stations:  4\n",
      "Charging BEVs (nachdem neue Plätze belegt):  [44, 4, 7, 9, 15]\n",
      "AVAILABLE SOLAR POWER:  38.38\n",
      "Restladeenergie bis zur fairen Ladeenergie for BEV mit ID 44:  5.339638974358844\n",
      "Restladezeit:  41.737667855853395\n",
      "AVAILABLE SOLAR POWER:  38.38\n",
      "Restladeenergie bis zur fairen Ladeenergie for BEV mit ID 4:  4.10626063829776\n",
      "Restladezeit:  32.096878360847526\n",
      "AVAILABLE SOLAR POWER:  38.38\n",
      "Restladeenergie bis zur fairen Ladeenergie for BEV mit ID 7:  7.34389261111124\n",
      "Restladezeit:  57.404058971687654\n",
      "AVAILABLE SOLAR POWER:  38.38\n",
      "Restladeenergie bis zur fairen Ladeenergie for BEV mit ID 9:  6.3522631107357705\n",
      "Restladezeit:  49.65291644660581\n",
      "AVAILABLE SOLAR POWER:  38.38\n",
      "Restladeenergie bis zur fairen Ladeenergie for BEV mit ID 15:  6.455911675403143\n",
      "Restladezeit:  50.46309282493337\n",
      "Charging BEVs:  [44, 4, 7, 9, 15]\n",
      "\n",
      "\n",
      "Minute:  780\n",
      "Charging BEVs after updating parking end:  [44, 4, 7, 9, 15]\n",
      "Waiting BEVs:  [24, 26, 28, 35, 36, 37, 41, 42, 48, 11, 12, 13, 16, 19, 29, 31, 45, 46, 47, 30, 33, 14, 38]\n",
      "CALCULATE NUMBER OF CHARGING STATIONS\n",
      "Number of charging stations:  4\n",
      "CALCULATE NUMBER OF CHARGING STATIONS\n",
      "Number of charging stations:  4\n",
      "Charging BEVs (nachdem neue Plätze belegt):  [44, 4, 7, 9, 15]\n",
      "AVAILABLE SOLAR POWER:  36.75\n",
      "Restladeenergie bis zur fairen Ladeenergie for BEV mit ID 44:  5.3061794871793495\n",
      "Restladezeit:  43.315750915749796\n",
      "AVAILABLE SOLAR POWER:  36.75\n",
      "Restladeenergie bis zur fairen Ladeenergie for BEV mit ID 4:  3.871489361702008\n",
      "Restladezeit:  31.603994789404148\n",
      "AVAILABLE SOLAR POWER:  36.75\n",
      "Restladeenergie bis zur fairen Ladeenergie for BEV mit ID 7:  7.290765790919329\n",
      "Restladezeit:  59.51645543607615\n",
      "AVAILABLE SOLAR POWER:  36.75\n",
      "Restladeenergie bis zur fairen Ladeenergie for BEV mit ID 9:  6.21532861806872\n",
      "Restladezeit:  50.73737647403037\n",
      "AVAILABLE SOLAR POWER:  36.75\n",
      "Restladeenergie bis zur fairen Ladeenergie for BEV mit ID 15:  6.310475390367991\n",
      "Restladezeit:  51.51408481933054\n",
      "Charging BEVs:  [44, 4, 7, 9, 15]\n",
      "\n",
      "\n",
      "Minute:  795\n",
      "Charging BEVs after updating parking end:  [44, 4, 7, 9, 15]\n",
      "Waiting BEVs:  [24, 26, 28, 35, 36, 37, 41, 42, 48, 11, 12, 13, 16, 19, 29, 31, 45, 46, 47, 30, 33, 14, 38, 0, 2, 17, 20, 21, 40]\n",
      "CALCULATE NUMBER OF CHARGING STATIONS\n",
      "Number of charging stations:  4\n",
      "CALCULATE NUMBER OF CHARGING STATIONS\n",
      "Number of charging stations:  4\n",
      "Charging BEVs (nachdem neue Plätze belegt):  [44, 4, 7, 9, 15]\n",
      "AVAILABLE SOLAR POWER:  38.25\n",
      "Restladeenergie bis zur fairen Ladeenergie for BEV mit ID 44:  5.274141025640881\n",
      "Restladezeit:  41.36581196581083\n",
      "AVAILABLE SOLAR POWER:  38.25\n",
      "Restladeenergie bis zur fairen Ladeenergie for BEV mit ID 4:  3.6466888297871076\n",
      "Restladezeit:  28.6014810179381\n",
      "AVAILABLE SOLAR POWER:  38.25\n",
      "Restladeenergie bis zur fairen Ladeenergie for BEV mit ID 7:  7.239895268718893\n",
      "Restladezeit:  56.78349230367759\n",
      "AVAILABLE SOLAR POWER:  38.25\n",
      "Restladeenergie bis zur fairen Ladeenergie for BEV mit ID 9:  6.084209738300244\n",
      "Restladezeit:  47.71929206509994\n",
      "AVAILABLE SOLAR POWER:  38.25\n",
      "Restladeenergie bis zur fairen Ladeenergie for BEV mit ID 15:  6.1712157896634094\n",
      "Restladezeit:  48.40169246794831\n",
      "Charging BEVs:  [44, 4, 7, 9, 15]\n",
      "\n",
      "\n",
      "Minute:  810\n",
      "Charging BEVs after updating parking end:  [44, 4, 7, 9, 15]\n",
      "Waiting BEVs:  [24, 26, 28, 35, 36, 37, 41, 42, 48, 11, 12, 13, 16, 19, 29, 31, 45, 46, 47, 30, 33, 14, 38, 0, 2, 17, 20, 21, 40]\n",
      "CALCULATE NUMBER OF CHARGING STATIONS\n",
      "Number of charging stations:  4\n",
      "CALCULATE NUMBER OF CHARGING STATIONS\n",
      "Number of charging stations:  4\n",
      "Charging BEVs (nachdem neue Plätze belegt):  [44, 4, 7, 9, 15]\n",
      "AVAILABLE SOLAR POWER:  39.75\n",
      "Restladeenergie bis zur fairen Ladeenergie for BEV mit ID 44:  5.240794871794719\n",
      "Restladezeit:  39.55316884373373\n",
      "Die Restparkzeit von BEV  44 endet vor dem nächsten Intervall\n",
      "Ausgewähltes BEV das frei gewordenen Platz belegen darf:  24\n",
      "Ladestart für ausgewähltes BEV:  816\n",
      "7.95 CHARGING POWER WIRD FÜR NEUES BEV 24 GESPEICHERT: \n",
      "ZEITPUNKT FÜR DAS ES GESPEICHERT WIRD:  816\n",
      "AVAILABLE SOLAR POWER:  39.75\n",
      "Restladeenergie bis zur fairen Ladeenergie for BEV mit ID 4:  3.4127127659573135\n",
      "Restladezeit:  25.756322761941988\n",
      "AVAILABLE SOLAR POWER:  39.75\n",
      "Restladeenergie bis zur fairen Ladeenergie for BEV mit ID 7:  7.186948398673541\n",
      "Restladezeit:  54.241119989988995\n",
      "AVAILABLE SOLAR POWER:  39.75\n",
      "Restladeenergie bis zur fairen Ladeenergie for BEV mit ID 9:  5.94773906752081\n",
      "Restladezeit:  44.88859673600611\n",
      "AVAILABLE SOLAR POWER:  39.75\n",
      "Restladeenergie bis zur fairen Ladeenergie for BEV mit ID 15:  6.026272123623947\n",
      "Restladezeit:  45.48129904621847\n",
      "Charging BEVs:  [44, 4, 7, 9, 15]\n",
      "\n",
      "\n",
      "Minute:  825\n",
      "Charging BEVs after updating parking end:  [4, 7, 9, 15, 24]\n",
      "Waiting BEVs:  [26, 28, 35, 36, 37, 41, 48, 12, 13, 16, 19, 29, 31, 45, 46, 47, 30, 33, 14, 38, 0, 2, 17, 20, 21, 40]\n",
      "CALCULATE NUMBER OF CHARGING STATIONS\n",
      "Number of charging stations:  4\n",
      "CALCULATE NUMBER OF CHARGING STATIONS\n",
      "Number of charging stations:  4\n"
     ]
    },
    {
     "name": "stdout",
     "output_type": "stream",
     "text": [
      "Charging BEVs (nachdem neue Plätze belegt):  [4, 7, 9, 15, 24]\n",
      "AVAILABLE SOLAR POWER:  41.25\n",
      "Restladeenergie bis zur fairen Ladeenergie for BEV mit ID 4:  3.169561170212625\n",
      "Restladezeit:  23.051353965182727\n",
      "AVAILABLE SOLAR POWER:  41.25\n",
      "Restladeenergie bis zur fairen Ladeenergie for BEV mit ID 7:  7.131925180783274\n",
      "Restladezeit:  51.86854676933291\n",
      "AVAILABLE SOLAR POWER:  41.25\n",
      "Restladeenergie bis zur fairen Ladeenergie for BEV mit ID 9:  5.805916605730417\n",
      "Restladezeit:  42.224848041675756\n",
      "AVAILABLE SOLAR POWER:  41.25\n",
      "Restladeenergie bis zur fairen Ladeenergie for BEV mit ID 15:  5.875644392249604\n",
      "Restladezeit:  42.73195921636076\n",
      "AVAILABLE SOLAR POWER:  41.25\n",
      "Restladeenergie bis zur fairen Ladeenergie for BEV mit ID 24:  6.7799999999999985\n",
      "Restladezeit:  49.3090909090909\n",
      "Charging BEVs:  [4, 7, 9, 15, 24]\n",
      "\n",
      "\n",
      "Minute:  840\n",
      "Charging BEVs after updating parking end:  [4, 7, 9, 15, 24]\n",
      "Waiting BEVs:  [26, 28, 35, 36, 37, 41, 48, 12, 13, 16, 19, 29, 31, 45, 46, 47, 33, 14, 38, 0, 2, 17, 20, 21, 40]\n",
      "CALCULATE NUMBER OF CHARGING STATIONS\n",
      "Number of charging stations:  4\n",
      "CALCULATE NUMBER OF CHARGING STATIONS\n",
      "Number of charging stations:  4\n",
      "Charging BEVs (nachdem neue Plätze belegt):  [4, 7, 9, 15, 24]\n",
      "AVAILABLE SOLAR POWER:  39.0\n",
      "Restladeenergie bis zur fairen Ladeenergie for BEV mit ID 4:  2.9172340425530434\n",
      "Restladezeit:  22.440261865792642\n",
      "AVAILABLE SOLAR POWER:  39.0\n",
      "Restladeenergie bis zur fairen Ladeenergie for BEV mit ID 7:  7.074825615048091\n",
      "Restladezeit:  54.421735500369934\n",
      "AVAILABLE SOLAR POWER:  39.0\n",
      "Restladeenergie bis zur fairen Ladeenergie for BEV mit ID 9:  5.658742352929067\n",
      "Restladezeit:  43.528787330223594\n",
      "AVAILABLE SOLAR POWER:  39.0\n",
      "Restladeenergie bis zur fairen Ladeenergie for BEV mit ID 15:  5.71933259554038\n",
      "Restladezeit:  43.994866119541385\n",
      "AVAILABLE SOLAR POWER:  39.0\n",
      "Restladeenergie bis zur fairen Ladeenergie for BEV mit ID 24:  5.542499999999999\n",
      "Restladezeit:  42.63461538461537\n",
      "Charging BEVs:  [4, 7, 9, 15, 24]\n",
      "\n",
      "\n",
      "Minute:  855\n",
      "Charging BEVs after updating parking end:  [4, 7, 9, 15, 24]\n",
      "Waiting BEVs:  [26, 35, 36, 37, 41, 48, 12, 13, 19, 29, 31, 45, 46, 47, 33, 14, 38, 0, 2, 17, 20, 21, 40]\n",
      "CALCULATE NUMBER OF CHARGING STATIONS\n",
      "Number of charging stations:  3\n",
      "CALCULATE NUMBER OF CHARGING STATIONS\n",
      "Number of charging stations:  3\n",
      "Charging BEVs (nachdem neue Plätze belegt):  [4, 7, 9, 15, 24]\n",
      "AVAILABLE SOLAR POWER:  33.0\n",
      "Restladeenergie bis zur fairen Ladeenergie for BEV mit ID 4:  2.6786702127658018\n",
      "Restladezeit:  24.351547388780016\n",
      "AVAILABLE SOLAR POWER:  33.0\n",
      "Restladeenergie bis zur fairen Ladeenergie for BEV mit ID 7:  7.020840571080282\n",
      "Restladezeit:  63.82582337345712\n",
      "AVAILABLE SOLAR POWER:  33.0\n",
      "Restladeenergie bis zur fairen Ladeenergie for BEV mit ID 9:  5.519595786644153\n",
      "Restladezeit:  50.178143514946846\n",
      "AVAILABLE SOLAR POWER:  33.0\n",
      "Restladeenergie bis zur fairen Ladeenergie for BEV mit ID 15:  5.571546896833477\n",
      "Restladezeit:  50.6504263348498\n",
      "AVAILABLE SOLAR POWER:  33.0\n",
      "Restladeenergie bis zur fairen Ladeenergie for BEV mit ID 24:  4.372499999999999\n",
      "Restladezeit:  39.74999999999999\n",
      "Charging BEVs:  [4, 7, 9, 15, 24]\n",
      "\n",
      "\n",
      "Minute:  870\n",
      "Charging BEVs after updating parking end:  [4, 7, 9, 15, 24]\n",
      "Waiting BEVs:  [26, 35, 36, 37, 41, 12, 13, 19, 45, 46, 33, 14, 38, 0, 2, 17, 20, 21, 40]\n",
      "CALCULATE NUMBER OF CHARGING STATIONS\n",
      "Number of charging stations:  3\n",
      "CALCULATE NUMBER OF CHARGING STATIONS\n",
      "Number of charging stations:  3\n",
      "Charging BEVs (nachdem neue Plätze belegt):  [4, 7, 9, 15, 24]\n",
      "AVAILABLE SOLAR POWER:  27.0\n",
      "Restladeenergie bis zur fairen Ladeenergie for BEV mit ID 4:  2.4768085106381363\n",
      "Restladezeit:  27.52009456264596\n",
      "AVAILABLE SOLAR POWER:  27.0\n",
      "Restladeenergie bis zur fairen Ladeenergie for BEV mit ID 7:  6.9751609184921355\n",
      "Restladezeit:  77.50178798324595\n",
      "AVAILABLE SOLAR POWER:  27.0\n",
      "Restladeenergie bis zur fairen Ladeenergie for BEV mit ID 9:  5.4018563844030725\n",
      "Restladezeit:  60.02062649336746\n",
      "AVAILABLE SOLAR POWER:  27.0\n",
      "Restladeenergie bis zur fairen Ladeenergie for BEV mit ID 15:  5.446497459466098\n",
      "Restladezeit:  60.5166384385122\n",
      "AVAILABLE SOLAR POWER:  27.0\n",
      "Restladeenergie bis zur fairen Ladeenergie for BEV mit ID 24:  3.3824999999999985\n",
      "Restladezeit:  37.583333333333314\n",
      "Charging BEVs:  [4, 7, 9, 15, 24]\n",
      "\n",
      "\n",
      "Minute:  885\n",
      "Charging BEVs after updating parking end:  [4, 7, 9, 15, 24]\n",
      "Waiting BEVs:  [26, 35, 36, 37, 41, 12, 13, 19, 45, 46, 33, 14, 38, 0, 2, 17, 20, 21, 40]\n",
      "CALCULATE NUMBER OF CHARGING STATIONS\n",
      "Number of charging stations:  2\n",
      "CALCULATE NUMBER OF CHARGING STATIONS\n",
      "Number of charging stations:  2\n",
      "Charging BEVs (nachdem neue Plätze belegt):  [4, 7, 9, 15, 24]\n",
      "AVAILABLE SOLAR POWER:  21.0\n",
      "Restladeenergie bis zur fairen Ladeenergie for BEV mit ID 4:  2.3116489361700463\n",
      "Restladezeit:  33.02355623100066\n",
      "AVAILABLE SOLAR POWER:  21.0\n",
      "Restladeenergie bis zur fairen Ladeenergie for BEV mit ID 7:  6.937786657283652\n",
      "Restladezeit:  99.11123796119503\n",
      "AVAILABLE SOLAR POWER:  21.0\n",
      "Restladeenergie bis zur fairen Ladeenergie for BEV mit ID 9:  5.3055241462058245\n",
      "Restladezeit:  75.79320208865464\n",
      "AVAILABLE SOLAR POWER:  21.0\n",
      "Restladeenergie bis zur fairen Ladeenergie for BEV mit ID 15:  5.344184283438242\n",
      "Restladezeit:  76.34548976340345\n",
      "AVAILABLE SOLAR POWER:  21.0\n",
      "Restladeenergie bis zur fairen Ladeenergie for BEV mit ID 24:  2.572499999999998\n",
      "Restladezeit:  36.74999999999997\n",
      "Charging BEVs:  [4, 7, 9, 15, 24]\n",
      "\n",
      "\n",
      "Minute:  900\n",
      "Charging BEVs after updating parking end:  [4, 7, 9, 15, 24]\n",
      "Waiting BEVs:  [26, 35, 36, 37, 41, 12, 13, 19, 45, 46, 33, 14, 38, 0, 2, 17, 20, 21, 40]\n",
      "CALCULATE NUMBER OF CHARGING STATIONS\n",
      "Number of charging stations:  2\n",
      "CALCULATE NUMBER OF CHARGING STATIONS\n",
      "Number of charging stations:  2\n",
      "Charging BEVs (nachdem neue Plätze belegt):  [4, 7, 9, 15, 24]\n",
      "AVAILABLE SOLAR POWER:  16.88\n",
      "Restladeenergie bis zur fairen Ladeenergie for BEV mit ID 4:  2.1831914893615316\n",
      "Restladezeit:  38.80079661187556\n",
      "AVAILABLE SOLAR POWER:  16.88\n",
      "Restladeenergie bis zur fairen Ladeenergie for BEV mit ID 7:  6.908717787454832\n",
      "Restladezeit:  122.78526873438685\n",
      "AVAILABLE SOLAR POWER:  16.88\n",
      "Restladeenergie bis zur fairen Ladeenergie for BEV mit ID 9:  5.23059907205241\n",
      "Restladezeit:  92.96088398197412\n",
      "AVAILABLE SOLAR POWER:  16.88\n",
      "Restladeenergie bis zur fairen Ladeenergie for BEV mit ID 15:  5.26460736874991\n",
      "Restladezeit:  93.56529683797235\n",
      "Die Restparkzeit von BEV  15 endet vor dem nächsten Intervall\n",
      "Ausgewähltes BEV das frei gewordenen Platz belegen darf:  35\n",
      "Ladestart für ausgewähltes BEV:  912\n",
      "3.376 CHARGING POWER WIRD FÜR NEUES BEV 35 GESPEICHERT: \n",
      "ZEITPUNKT FÜR DAS ES GESPEICHERT WIRD:  912\n",
      "AVAILABLE SOLAR POWER:  16.88\n",
      "Restladeenergie bis zur fairen Ladeenergie for BEV mit ID 24:  1.9424999999999981\n",
      "Restladezeit:  34.523104265402814\n",
      "Charging BEVs:  [4, 7, 9, 15, 24]\n",
      "\n",
      "\n",
      "Minute:  915\n",
      "Charging BEVs after updating parking end:  [4, 7, 9, 24, 35]\n",
      "Waiting BEVs:  [26, 36, 37, 13, 19, 45, 46, 33, 14, 38, 0, 2, 17, 20, 21, 40]\n",
      "CALCULATE NUMBER OF CHARGING STATIONS\n",
      "Number of charging stations:  2\n",
      "CALCULATE NUMBER OF CHARGING STATIONS\n",
      "Number of charging stations:  2\n",
      "Charging BEVs (nachdem neue Plätze belegt):  [4, 7, 9, 24, 35]\n",
      "AVAILABLE SOLAR POWER:  14.62\n",
      "Restladeenergie bis zur fairen Ladeenergie for BEV mit ID 4:  2.0799361702125925\n",
      "Restladezeit:  42.679948773172214\n",
      "AVAILABLE SOLAR POWER:  14.62\n",
      "Restladeenergie bis zur fairen Ladeenergie for BEV mit ID 7:  6.885351953040047\n",
      "Restladezeit:  141.28629178604746\n",
      "AVAILABLE SOLAR POWER:  14.62\n",
      "Restladeenergie bis zur fairen Ladeenergie for BEV mit ID 9:  5.17037358387576\n",
      "Restladezeit:  106.09521717939316\n",
      "AVAILABLE SOLAR POWER:  14.62\n",
      "Restladeenergie bis zur fairen Ladeenergie for BEV mit ID 24:  1.436099999999998\n",
      "Restladezeit:  29.468536251709946\n",
      "AVAILABLE SOLAR POWER:  14.62\n",
      "Restladeenergie bis zur fairen Ladeenergie for BEV mit ID 35:  7.431199999999999\n",
      "Restladezeit:  152.48700410396714\n",
      "Die Restparkzeit von BEV  35 endet vor dem nächsten Intervall\n",
      "Ausgewähltes BEV das frei gewordenen Platz belegen darf:  37\n",
      "Ladestart für ausgewähltes BEV:  918\n",
      "2.924 CHARGING POWER WIRD FÜR NEUES BEV 37 GESPEICHERT: \n",
      "ZEITPUNKT FÜR DAS ES GESPEICHERT WIRD:  918\n",
      "Charging BEVs:  [4, 7, 9, 24, 35]\n",
      "\n",
      "\n",
      "Minute:  930\n",
      "Charging BEVs after updating parking end:  [4, 7, 9, 24, 37]\n",
      "Waiting BEVs:  [13, 19, 45, 46, 33, 14, 38, 0, 2, 17, 20, 21, 40]\n",
      "CALCULATE NUMBER OF CHARGING STATIONS\n",
      "Number of charging stations:  2\n",
      "CALCULATE NUMBER OF CHARGING STATIONS\n",
      "Number of charging stations:  2\n",
      "Charging BEVs (nachdem neue Plätze belegt):  [4, 7, 9, 24, 37]\n",
      "AVAILABLE SOLAR POWER:  12.38\n",
      "Restladeenergie bis zur fairen Ladeenergie for BEV mit ID 4:  1.9905053191487596\n",
      "Restladezeit:  48.23518543979224\n",
      "Die Restparkzeit von BEV  4 endet vor dem nächsten Intervall\n"
     ]
    },
    {
     "name": "stdout",
     "output_type": "stream",
     "text": [
      "Ausgewähltes BEV das frei gewordenen Platz belegen darf:  13\n",
      "Ladestart für ausgewähltes BEV:  936\n",
      "2.476 CHARGING POWER WIRD FÜR NEUES BEV 13 GESPEICHERT: \n",
      "ZEITPUNKT FÜR DAS ES GESPEICHERT WIRD:  936\n",
      "AVAILABLE SOLAR POWER:  12.38\n",
      "Restladeenergie bis zur fairen Ladeenergie for BEV mit ID 7:  6.8651144827116015\n",
      "Restladezeit:  166.35980168121813\n",
      "AVAILABLE SOLAR POWER:  12.38\n",
      "Restladeenergie bis zur fairen Ladeenergie for BEV mit ID 9:  5.1182114608222875\n",
      "Restladezeit:  124.02774137695364\n",
      "AVAILABLE SOLAR POWER:  12.38\n",
      "Restladeenergie bis zur fairen Ladeenergie for BEV mit ID 24:  0.9974999999999978\n",
      "Restladezeit:  24.172051696284274\n",
      "AVAILABLE SOLAR POWER:  12.38\n",
      "Restladeenergie bis zur fairen Ladeenergie for BEV mit ID 37:  7.387699999999999\n",
      "Restladezeit:  179.0234248788368\n",
      "Charging BEVs:  [4, 7, 9, 24, 37]\n",
      "\n",
      "\n",
      "Minute:  945\n",
      "Charging BEVs after updating parking end:  [7, 9, 24, 37, 13]\n",
      "Waiting BEVs:  [19, 45, 14, 38, 0, 2, 17, 20, 21, 40]\n",
      "CALCULATE NUMBER OF CHARGING STATIONS\n",
      "Number of charging stations:  1\n",
      "CALCULATE NUMBER OF CHARGING STATIONS\n",
      "Number of charging stations:  1\n",
      "Charging BEVs (nachdem neue Plätze belegt):  [7, 9, 24, 37, 13]\n",
      "AVAILABLE SOLAR POWER:  10.12\n",
      "Restladeenergie bis zur fairen Ladeenergie for BEV mit ID 7:  6.847977691831564\n",
      "Restladezeit:  203.00329125982896\n",
      "AVAILABLE SOLAR POWER:  10.12\n",
      "Restladeenergie bis zur fairen Ladeenergie for BEV mit ID 9:  5.074041345678513\n",
      "Restladezeit:  150.41624542525233\n",
      "Die Restparkzeit von BEV  9 endet vor dem nächsten Intervall\n",
      "Ausgewähltes BEV das frei gewordenen Platz belegen darf:  19\n",
      "Ladestart für ausgewähltes BEV:  954\n",
      "2.024 CHARGING POWER WIRD FÜR NEUES BEV 19 GESPEICHERT: \n",
      "ZEITPUNKT FÜR DAS ES GESPEICHERT WIRD:  954\n",
      "AVAILABLE SOLAR POWER:  10.12\n",
      "Restladeenergie bis zur fairen Ladeenergie for BEV mit ID 24:  0.6260999999999974\n",
      "Restladezeit:  18.56027667984182\n",
      "Die Restparkzeit von BEV  24 endet vor dem nächsten Intervall\n",
      "Ausgewähltes BEV das frei gewordenen Platz belegen darf:  14\n",
      "Ladestart für ausgewähltes BEV:  954\n",
      "2.024 CHARGING POWER WIRD FÜR NEUES BEV 14 GESPEICHERT: \n",
      "ZEITPUNKT FÜR DAS ES GESPEICHERT WIRD:  954\n",
      "AVAILABLE SOLAR POWER:  10.12\n",
      "Restladeenergie bis zur fairen Ladeenergie for BEV mit ID 37:  6.892499999999998\n",
      "Restladezeit:  204.32312252964422\n",
      "AVAILABLE SOLAR POWER:  10.12\n",
      "Restladeenergie bis zur fairen Ladeenergie for BEV mit ID 13:  7.356099999999999\n",
      "Restladezeit:  218.0662055335968\n",
      "Charging BEVs:  [7, 9, 24, 37, 13]\n",
      "\n",
      "\n",
      "Minute:  960\n",
      "Charging BEVs after updating parking end:  [7, 37, 13, 19, 14]\n",
      "Waiting BEVs:  [38, 0, 2, 17, 20, 21, 40]\n",
      "CALCULATE NUMBER OF CHARGING STATIONS\n",
      "Number of charging stations:  1\n",
      "CALCULATE NUMBER OF CHARGING STATIONS\n",
      "Number of charging stations:  1\n",
      "Charging BEVs (nachdem neue Plätze belegt):  [7, 37, 13, 19, 14]\n",
      "AVAILABLE SOLAR POWER:  7.88\n",
      "Restladeenergie bis zur fairen Ladeenergie for BEV mit ID 7:  6.833969265037865\n",
      "Restladezeit:  260.17649486184763\n",
      "Die Restparkzeit von BEV  7 endet vor dem nächsten Intervall\n",
      "Ausgewähltes BEV das frei gewordenen Platz belegen darf:  38\n",
      "Ladestart für ausgewähltes BEV:  972\n",
      "1.576 CHARGING POWER WIRD FÜR NEUES BEV 38 GESPEICHERT: \n",
      "ZEITPUNKT FÜR DAS ES GESPEICHERT WIRD:  972\n",
      "AVAILABLE SOLAR POWER:  7.88\n",
      "Restladeenergie bis zur fairen Ladeenergie for BEV mit ID 37:  6.4876999999999985\n",
      "Restladezeit:  246.99365482233497\n",
      "AVAILABLE SOLAR POWER:  7.88\n",
      "Restladeenergie bis zur fairen Ladeenergie for BEV mit ID 13:  7.052499999999999\n",
      "Restladezeit:  268.496192893401\n",
      "Die Restparkzeit von BEV  13 endet vor dem nächsten Intervall\n",
      "Ausgewähltes BEV das frei gewordenen Platz belegen darf:  0\n",
      "Ladestart für ausgewähltes BEV:  966\n",
      "1.576 CHARGING POWER WIRD FÜR NEUES BEV 0 GESPEICHERT: \n",
      "ZEITPUNKT FÜR DAS ES GESPEICHERT WIRD:  966\n",
      "AVAILABLE SOLAR POWER:  7.88\n",
      "Restladeenergie bis zur fairen Ladeenergie for BEV mit ID 19:  7.525099999999999\n",
      "Restladezeit:  286.488578680203\n",
      "AVAILABLE SOLAR POWER:  7.88\n",
      "Restladeenergie bis zur fairen Ladeenergie for BEV mit ID 14:  3.4501\n",
      "Restladezeit:  131.34898477157358\n",
      "Charging BEVs:  [7, 37, 13, 19, 14]\n"
     ]
    }
   ],
   "source": [
    "import distributionAlgorithmPolling\n",
    "import simulationClasses\n",
    "import simulationData\n",
    "import simulationOutputDataVisualisation\n",
    "import distributionAlgorithmForecast\n",
    "import distributionAlgorithmForecastPolling\n",
    "\n",
    "simulation_day = simulationClasses.SimulationDay(anzahl_bevs_pro_tag)\n",
    "bev_data = simulationData.BevData()\n",
    "table_dict = simulationData.TableDict()\n",
    "simulation_data = simulationData.SimulationData()\n",
    "\n",
    "# Auswahl des Algorithmus\n",
    "# algorithm = distributionAlgorithmPolling.Algorithm.POLLING_FIFO\n",
    "# algorithm = distributionAlgorithmPolling.Algorithm.POLLING_EVEN_DISTRIBUTION\n",
    "# distributionAlgorithmPolling.start_simulation(solarpeakleistung, maximale_ladezeit, ladeleistung_pro_bev, simulation_day, bev_data, table_dict, simulation_data, algorithm, minute_interval)\n",
    "\n",
    "#distributionAlgorithmForecast.start_algorithm(simulation_data, simulation_day, maximale_ladezeit, solarpeakleistung, \n",
    "  #                  bev_data, table_dict, ladeleistung_pro_bev, minute_interval)\n",
    "\n",
    "distributionAlgorithmForecastPolling.start_simulation(solarpeakleistung, ladeleistung_pro_bev,\n",
    "                     simulation_day, bev_data, table_dict, simulation_data, minute_interval)"
   ]
  },
  {
   "cell_type": "markdown",
   "metadata": {},
   "source": [
    "### Ergebnis Algorithmus"
   ]
  },
  {
   "cell_type": "code",
   "execution_count": 4,
   "metadata": {
    "pycharm": {
     "is_executing": true
    }
   },
   "outputs": [
    {
     "data": {
      "text/markdown": [
       ">**Ergebnis**<br>Geladene BEVs: 24 von 50<br>Aufgeladene Solarenergie insgesamt: 77.03 kWh<br>Ungenutzte Solarenergie insgesamt: 0 kWh"
      ],
      "text/plain": [
       "<IPython.core.display.Markdown object>"
      ]
     },
     "execution_count": 4,
     "metadata": {},
     "output_type": "execute_result"
    }
   ],
   "source": [
    "simulationOutputDataVisualisation.print_algorithm_result(bev_data, simulation_data, anzahl_bevs_pro_tag)"
   ]
  },
  {
   "cell_type": "markdown",
   "metadata": {},
   "source": [
    "### Tabellarische Übersicht Park- und Ladeverlauf der BEVs"
   ]
  },
  {
   "cell_type": "code",
   "execution_count": 5,
   "metadata": {
    "pycharm": {
     "is_executing": true
    }
   },
   "outputs": [
    {
     "data": {
      "application/vnd.jupyter.widget-view+json": {
       "model_id": "cc3d625d39ec41f8858f76ad730a22dd",
       "version_major": 2,
       "version_minor": 0
      },
      "text/plain": [
       "interactive(children=(IntSlider(value=480, description='Minute: ', max=960, min=480, step=15), Output()), _dom…"
      ]
     },
     "metadata": {},
     "output_type": "display_data"
    }
   ],
   "source": [
    "simulationOutputDataVisualisation.create_tabular_overview_per_minute_slider(table_dict, minute_interval)"
   ]
  },
  {
   "cell_type": "code",
   "execution_count": 6,
   "metadata": {
    "pycharm": {
     "is_executing": true
    }
   },
   "outputs": [
    {
     "data": {
      "application/vnd.plotly.v1+json": {
       "config": {
        "plotlyServerURL": "https://plot.ly"
       },
       "data": [
        {
         "line": {
          "color": "orange"
         },
         "name": "Verfügbare Solarleistung",
         "type": "scatter",
         "x": [
          480,
          495,
          510,
          525,
          540,
          555,
          570,
          585,
          600,
          615,
          630,
          645,
          660,
          675,
          690,
          705,
          720,
          735,
          750,
          765,
          780,
          795,
          810,
          825,
          840,
          855,
          870,
          885,
          900,
          915,
          930,
          945,
          960
         ],
         "y": [
          -2,
          3.25,
          8.5,
          13.749999999999998,
          19,
          27,
          35,
          43,
          51,
          50.75,
          50.5,
          50.25,
          50,
          51.25,
          52.5,
          53.75,
          55,
          50.25,
          45.5,
          40.75,
          36,
          37.5,
          39,
          40.5,
          42,
          36,
          30,
          24,
          18,
          15.75,
          13.5,
          11.25,
          9
         ]
        },
        {
         "line": {
          "color": "green"
         },
         "mode": "lines",
         "name": "ID BEV 3",
         "type": "scatter",
         "x": [
          480,
          480,
          495,
          510,
          514.1025641025641,
          514.1025641025641,
          525
         ],
         "y": [
          0,
          -2,
          3.25,
          4.25,
          8.19,
          0,
          6.875
         ]
        },
        {
         "line": {
          "color": "green"
         },
         "mode": "lines",
         "name": "ID BEV 8",
         "type": "scatter",
         "x": [
          510,
          510,
          525,
          540,
          549.9145161290322,
          549.9145161290322,
          555
         ],
         "y": [
          0,
          8.5,
          13.75,
          6.333333333333333,
          10.333333333333334,
          0,
          9
         ]
        },
        {
         "line": {
          "color": "green"
         },
         "mode": "lines",
         "name": "ID BEV 10",
         "type": "scatter",
         "x": [
          535.8974358974359,
          535.8974358974359,
          540,
          555,
          557.4970414201183,
          557.4970414201183,
          570
         ],
         "y": [
          0,
          8.19,
          12.666666666666666,
          18,
          9.75,
          0,
          8.75
         ]
        },
        {
         "line": {
          "color": "green"
         },
         "mode": "lines",
         "name": "ID BEV 22",
         "type": "scatter",
         "x": [
          540,
          540,
          555,
          555.2615384615385,
          555.2615384615385,
          570
         ],
         "y": [
          0,
          19,
          27,
          9.75,
          0,
          17.5
         ]
        },
        {
         "line": {
          "color": "green"
         },
         "mode": "lines",
         "name": "ID BEV 34",
         "type": "scatter",
         "x": [
          560.0854838709678,
          560.0854838709678,
          570,
          575.4964396019217,
          575.4964396019217,
          585
         ],
         "y": [
          0,
          10.333333333333334,
          26.25,
          9.4,
          0,
          8.6
         ]
        },
        {
         "line": {
          "color": "green"
         },
         "mode": "lines",
         "name": "ID BEV 39",
         "type": "scatter",
         "x": [
          570,
          570,
          571.8351063829788,
          571.8351063829788,
          585
         ],
         "y": [
          0,
          35,
          9.4,
          0,
          17.2
         ]
        },
        {
         "line": {
          "color": "green"
         },
         "mode": "lines",
         "name": "ID BEV 43",
         "type": "scatter",
         "x": [
          582.5029585798817,
          582.5029585798817,
          585,
          586.1702381284656,
          586.1702381284656,
          600
         ],
         "y": [
          0,
          9.75,
          25.799999999999997,
          10.176,
          0,
          10.2
         ]
        },
        {
         "line": {
          "color": "green"
         },
         "mode": "lines",
         "name": "ID BEV 44",
         "type": "scatter",
         "x": [
          584.7384615384615,
          584.7384615384615,
          585,
          600,
          615,
          630,
          645,
          660,
          675,
          690,
          705,
          720,
          735,
          750,
          765,
          780,
          795,
          804,
          804,
          810
         ],
         "y": [
          0,
          9.75,
          34.4,
          20.4,
          10.15,
          10.1,
          10.05,
          10,
          10.25,
          10.5,
          10.75,
          11,
          10.05,
          9.1,
          8.15,
          7.2,
          7.5,
          7.95,
          0,
          7.8
         ]
        },
        {
         "line": {
          "color": "green"
         },
         "mode": "lines",
         "name": "ID BEV 49",
         "type": "scatter",
         "x": [
          585,
          585,
          593.3667452830189,
          593.3667452830189,
          600
         ],
         "y": [
          0,
          43,
          10.176,
          0,
          30.599999999999998
         ]
        },
        {
         "line": {
          "color": "green"
         },
         "mode": "lines",
         "name": "ID BEV 1",
         "type": "scatter",
         "x": [
          594.5035603980783,
          594.5035603980783,
          600,
          615,
          615.4152695689831,
          615.4152695689831,
          630
         ],
         "y": [
          0,
          9.4,
          40.8,
          20.3,
          10.076,
          0,
          20.2
         ]
        },
        {
         "line": {
          "color": "green"
         },
         "mode": "lines",
         "name": "ID BEV 4",
         "type": "scatter",
         "x": [
          598.1648936170212,
          598.1648936170212,
          600,
          615,
          630,
          645,
          660,
          675,
          690,
          705,
          720,
          735,
          750,
          765,
          780,
          795,
          810,
          825,
          840,
          855,
          870,
          885,
          900,
          915,
          924,
          924,
          930
         ],
         "y": [
          0,
          9.4,
          51,
          30.450000000000003,
          30.299999999999997,
          20.1,
          20,
          20.5,
          21,
          21.5,
          22,
          20.1,
          18.2,
          16.3,
          14.4,
          15,
          15.6,
          8.1,
          8.4,
          7.2,
          6,
          4.8,
          3.6,
          3.15,
          2.476,
          0,
          2.7
         ]
        },
        {
         "line": {
          "color": "green"
         },
         "mode": "lines",
         "name": "ID BEV 5",
         "type": "scatter",
         "x": [
          613.8297618715344,
          613.8297618715344,
          615,
          630,
          645,
          660,
          675,
          676.1368130669762,
          676.1368130669762,
          690
         ],
         "y": [
          0,
          10.176,
          40.6,
          40.4,
          30.150000000000002,
          30,
          30.75,
          10.623999999999999,
          0,
          31.5
         ]
        },
        {
         "line": {
          "color": "green"
         },
         "mode": "lines",
         "name": "ID BEV 6",
         "type": "scatter",
         "x": [
          606.6332547169811,
          606.6332547169811,
          615,
          616.0703582021916,
          616.0703582021916,
          630
         ],
         "y": [
          0,
          10.176,
          50.75,
          10.076,
          0,
          50.5
         ]
        },
        {
         "line": {
          "color": "green"
         },
         "mode": "lines",
         "name": "ID BEV 7",
         "type": "scatter",
         "x": [
          644.5847304310169,
          644.5847304310169,
          645,
          660,
          675,
          690,
          705,
          720,
          735,
          750,
          765,
          780,
          795,
          810,
          825,
          840,
          855,
          870,
          885,
          900,
          915,
          930,
          945,
          948,
          948,
          960
         ],
         "y": [
          0,
          10.076,
          40.2,
          40,
          41,
          42,
          32.25,
          33,
          30.150000000000002,
          27.299999999999997,
          24.450000000000003,
          21.6,
          22.5,
          23.4,
          16.2,
          16.8,
          14.4,
          12,
          9.6,
          7.2,
          6.3,
          5.4,
          2.25,
          1.576,
          0,
          1.8
         ]
        },
        {
         "line": {
          "color": "green"
         },
         "mode": "lines",
         "name": "ID BEV 9",
         "type": "scatter",
         "x": [
          643.9296417978084,
          643.9296417978084,
          645,
          660,
          675,
          690,
          705,
          720,
          735,
          750,
          765,
          780,
          795,
          810,
          825,
          840,
          855,
          870,
          885,
          900,
          915,
          930,
          936,
          936,
          945
         ],
         "y": [
          0,
          10.076,
          50.25,
          50,
          51.25,
          52.5,
          43,
          44,
          40.2,
          36.4,
          32.6,
          28.8,
          30,
          31.2,
          24.299999999999997,
          25.200000000000003,
          21.6,
          18,
          14.399999999999999,
          10.8,
          9.45,
          8.100000000000001,
          2.024,
          0,
          4.5
         ]
        },
        {
         "line": {
          "color": "green"
         },
         "mode": "lines",
         "name": "ID BEV 15",
         "type": "scatter",
         "x": [
          703.8631869330238,
          703.8631869330238,
          705,
          720,
          735,
          750,
          765,
          780,
          795,
          810,
          825,
          840,
          855,
          870,
          885,
          888,
          888,
          900
         ],
         "y": [
          0,
          10.623999999999999,
          53.75,
          55,
          50.25,
          45.5,
          40.75,
          36,
          37.5,
          39,
          32.4,
          33.6,
          28.8,
          24,
          19.2,
          3.376,
          0,
          14.4
         ]
        },
        {
         "line": {
          "color": "green"
         },
         "mode": "lines",
         "name": "ID BEV 24",
         "type": "scatter",
         "x": [
          816,
          816,
          825,
          840,
          855,
          870,
          885,
          900,
          915,
          930,
          936,
          936,
          945
         ],
         "y": [
          0,
          7.95,
          40.5,
          42,
          36,
          30,
          24,
          18,
          12.6,
          10.8,
          4.048,
          0,
          6.75
         ]
        },
        {
         "line": {
          "color": "green"
         },
         "mode": "lines",
         "name": "ID BEV 35",
         "type": "scatter",
         "x": [
          912,
          912,
          915,
          915
         ],
         "y": [
          0,
          2.924,
          15.75,
          0
         ]
        },
        {
         "line": {
          "color": "green"
         },
         "mode": "lines",
         "name": "ID BEV 37",
         "type": "scatter",
         "x": [
          918,
          918,
          930,
          945,
          960,
          960
         ],
         "y": [
          0,
          2.924,
          13.5,
          9,
          3.6,
          0
         ]
        },
        {
         "line": {
          "color": "green"
         },
         "mode": "lines",
         "name": "ID BEV 13",
         "type": "scatter",
         "x": [
          936,
          936,
          945,
          954,
          954,
          960
         ],
         "y": [
          0,
          6.524,
          11.25,
          1.576,
          0,
          5.4
         ]
        },
        {
         "line": {
          "color": "green"
         },
         "mode": "lines",
         "name": "ID BEV 19",
         "type": "scatter",
         "x": [
          954,
          954,
          960,
          960
         ],
         "y": [
          0,
          3.6,
          7.2,
          0
         ]
        },
        {
         "line": {
          "color": "green"
         },
         "mode": "lines",
         "name": "ID BEV 14",
         "type": "scatter",
         "x": [
          954,
          954,
          960,
          960
         ],
         "y": [
          0,
          5.6240000000000006,
          9,
          0
         ]
        },
        {
         "line": {
          "color": "green"
         },
         "mode": "lines",
         "name": "ID BEV 38",
         "type": "scatter",
         "x": [
          972,
          972,
          972
         ],
         "y": [
          0,
          1.576,
          0
         ]
        },
        {
         "line": {
          "color": "green"
         },
         "mode": "lines",
         "name": "ID BEV 0",
         "type": "scatter",
         "x": [
          966,
          966,
          966
         ],
         "y": [
          0,
          1.576,
          0
         ]
        }
       ],
       "layout": {
        "template": {
         "data": {
          "bar": [
           {
            "error_x": {
             "color": "#2a3f5f"
            },
            "error_y": {
             "color": "#2a3f5f"
            },
            "marker": {
             "line": {
              "color": "white",
              "width": 0.5
             },
             "pattern": {
              "fillmode": "overlay",
              "size": 10,
              "solidity": 0.2
             }
            },
            "type": "bar"
           }
          ],
          "barpolar": [
           {
            "marker": {
             "line": {
              "color": "white",
              "width": 0.5
             },
             "pattern": {
              "fillmode": "overlay",
              "size": 10,
              "solidity": 0.2
             }
            },
            "type": "barpolar"
           }
          ],
          "carpet": [
           {
            "aaxis": {
             "endlinecolor": "#2a3f5f",
             "gridcolor": "#C8D4E3",
             "linecolor": "#C8D4E3",
             "minorgridcolor": "#C8D4E3",
             "startlinecolor": "#2a3f5f"
            },
            "baxis": {
             "endlinecolor": "#2a3f5f",
             "gridcolor": "#C8D4E3",
             "linecolor": "#C8D4E3",
             "minorgridcolor": "#C8D4E3",
             "startlinecolor": "#2a3f5f"
            },
            "type": "carpet"
           }
          ],
          "choropleth": [
           {
            "colorbar": {
             "outlinewidth": 0,
             "ticks": ""
            },
            "type": "choropleth"
           }
          ],
          "contour": [
           {
            "colorbar": {
             "outlinewidth": 0,
             "ticks": ""
            },
            "colorscale": [
             [
              0,
              "#0d0887"
             ],
             [
              0.1111111111111111,
              "#46039f"
             ],
             [
              0.2222222222222222,
              "#7201a8"
             ],
             [
              0.3333333333333333,
              "#9c179e"
             ],
             [
              0.4444444444444444,
              "#bd3786"
             ],
             [
              0.5555555555555556,
              "#d8576b"
             ],
             [
              0.6666666666666666,
              "#ed7953"
             ],
             [
              0.7777777777777778,
              "#fb9f3a"
             ],
             [
              0.8888888888888888,
              "#fdca26"
             ],
             [
              1,
              "#f0f921"
             ]
            ],
            "type": "contour"
           }
          ],
          "contourcarpet": [
           {
            "colorbar": {
             "outlinewidth": 0,
             "ticks": ""
            },
            "type": "contourcarpet"
           }
          ],
          "heatmap": [
           {
            "colorbar": {
             "outlinewidth": 0,
             "ticks": ""
            },
            "colorscale": [
             [
              0,
              "#0d0887"
             ],
             [
              0.1111111111111111,
              "#46039f"
             ],
             [
              0.2222222222222222,
              "#7201a8"
             ],
             [
              0.3333333333333333,
              "#9c179e"
             ],
             [
              0.4444444444444444,
              "#bd3786"
             ],
             [
              0.5555555555555556,
              "#d8576b"
             ],
             [
              0.6666666666666666,
              "#ed7953"
             ],
             [
              0.7777777777777778,
              "#fb9f3a"
             ],
             [
              0.8888888888888888,
              "#fdca26"
             ],
             [
              1,
              "#f0f921"
             ]
            ],
            "type": "heatmap"
           }
          ],
          "heatmapgl": [
           {
            "colorbar": {
             "outlinewidth": 0,
             "ticks": ""
            },
            "colorscale": [
             [
              0,
              "#0d0887"
             ],
             [
              0.1111111111111111,
              "#46039f"
             ],
             [
              0.2222222222222222,
              "#7201a8"
             ],
             [
              0.3333333333333333,
              "#9c179e"
             ],
             [
              0.4444444444444444,
              "#bd3786"
             ],
             [
              0.5555555555555556,
              "#d8576b"
             ],
             [
              0.6666666666666666,
              "#ed7953"
             ],
             [
              0.7777777777777778,
              "#fb9f3a"
             ],
             [
              0.8888888888888888,
              "#fdca26"
             ],
             [
              1,
              "#f0f921"
             ]
            ],
            "type": "heatmapgl"
           }
          ],
          "histogram": [
           {
            "marker": {
             "pattern": {
              "fillmode": "overlay",
              "size": 10,
              "solidity": 0.2
             }
            },
            "type": "histogram"
           }
          ],
          "histogram2d": [
           {
            "colorbar": {
             "outlinewidth": 0,
             "ticks": ""
            },
            "colorscale": [
             [
              0,
              "#0d0887"
             ],
             [
              0.1111111111111111,
              "#46039f"
             ],
             [
              0.2222222222222222,
              "#7201a8"
             ],
             [
              0.3333333333333333,
              "#9c179e"
             ],
             [
              0.4444444444444444,
              "#bd3786"
             ],
             [
              0.5555555555555556,
              "#d8576b"
             ],
             [
              0.6666666666666666,
              "#ed7953"
             ],
             [
              0.7777777777777778,
              "#fb9f3a"
             ],
             [
              0.8888888888888888,
              "#fdca26"
             ],
             [
              1,
              "#f0f921"
             ]
            ],
            "type": "histogram2d"
           }
          ],
          "histogram2dcontour": [
           {
            "colorbar": {
             "outlinewidth": 0,
             "ticks": ""
            },
            "colorscale": [
             [
              0,
              "#0d0887"
             ],
             [
              0.1111111111111111,
              "#46039f"
             ],
             [
              0.2222222222222222,
              "#7201a8"
             ],
             [
              0.3333333333333333,
              "#9c179e"
             ],
             [
              0.4444444444444444,
              "#bd3786"
             ],
             [
              0.5555555555555556,
              "#d8576b"
             ],
             [
              0.6666666666666666,
              "#ed7953"
             ],
             [
              0.7777777777777778,
              "#fb9f3a"
             ],
             [
              0.8888888888888888,
              "#fdca26"
             ],
             [
              1,
              "#f0f921"
             ]
            ],
            "type": "histogram2dcontour"
           }
          ],
          "mesh3d": [
           {
            "colorbar": {
             "outlinewidth": 0,
             "ticks": ""
            },
            "type": "mesh3d"
           }
          ],
          "parcoords": [
           {
            "line": {
             "colorbar": {
              "outlinewidth": 0,
              "ticks": ""
             }
            },
            "type": "parcoords"
           }
          ],
          "pie": [
           {
            "automargin": true,
            "type": "pie"
           }
          ],
          "scatter": [
           {
            "marker": {
             "colorbar": {
              "outlinewidth": 0,
              "ticks": ""
             }
            },
            "type": "scatter"
           }
          ],
          "scatter3d": [
           {
            "line": {
             "colorbar": {
              "outlinewidth": 0,
              "ticks": ""
             }
            },
            "marker": {
             "colorbar": {
              "outlinewidth": 0,
              "ticks": ""
             }
            },
            "type": "scatter3d"
           }
          ],
          "scattercarpet": [
           {
            "marker": {
             "colorbar": {
              "outlinewidth": 0,
              "ticks": ""
             }
            },
            "type": "scattercarpet"
           }
          ],
          "scattergeo": [
           {
            "marker": {
             "colorbar": {
              "outlinewidth": 0,
              "ticks": ""
             }
            },
            "type": "scattergeo"
           }
          ],
          "scattergl": [
           {
            "marker": {
             "colorbar": {
              "outlinewidth": 0,
              "ticks": ""
             }
            },
            "type": "scattergl"
           }
          ],
          "scattermapbox": [
           {
            "marker": {
             "colorbar": {
              "outlinewidth": 0,
              "ticks": ""
             }
            },
            "type": "scattermapbox"
           }
          ],
          "scatterpolar": [
           {
            "marker": {
             "colorbar": {
              "outlinewidth": 0,
              "ticks": ""
             }
            },
            "type": "scatterpolar"
           }
          ],
          "scatterpolargl": [
           {
            "marker": {
             "colorbar": {
              "outlinewidth": 0,
              "ticks": ""
             }
            },
            "type": "scatterpolargl"
           }
          ],
          "scatterternary": [
           {
            "marker": {
             "colorbar": {
              "outlinewidth": 0,
              "ticks": ""
             }
            },
            "type": "scatterternary"
           }
          ],
          "surface": [
           {
            "colorbar": {
             "outlinewidth": 0,
             "ticks": ""
            },
            "colorscale": [
             [
              0,
              "#0d0887"
             ],
             [
              0.1111111111111111,
              "#46039f"
             ],
             [
              0.2222222222222222,
              "#7201a8"
             ],
             [
              0.3333333333333333,
              "#9c179e"
             ],
             [
              0.4444444444444444,
              "#bd3786"
             ],
             [
              0.5555555555555556,
              "#d8576b"
             ],
             [
              0.6666666666666666,
              "#ed7953"
             ],
             [
              0.7777777777777778,
              "#fb9f3a"
             ],
             [
              0.8888888888888888,
              "#fdca26"
             ],
             [
              1,
              "#f0f921"
             ]
            ],
            "type": "surface"
           }
          ],
          "table": [
           {
            "cells": {
             "fill": {
              "color": "#EBF0F8"
             },
             "line": {
              "color": "white"
             }
            },
            "header": {
             "fill": {
              "color": "#C8D4E3"
             },
             "line": {
              "color": "white"
             }
            },
            "type": "table"
           }
          ]
         },
         "layout": {
          "annotationdefaults": {
           "arrowcolor": "#2a3f5f",
           "arrowhead": 0,
           "arrowwidth": 1
          },
          "autotypenumbers": "strict",
          "coloraxis": {
           "colorbar": {
            "outlinewidth": 0,
            "ticks": ""
           }
          },
          "colorscale": {
           "diverging": [
            [
             0,
             "#8e0152"
            ],
            [
             0.1,
             "#c51b7d"
            ],
            [
             0.2,
             "#de77ae"
            ],
            [
             0.3,
             "#f1b6da"
            ],
            [
             0.4,
             "#fde0ef"
            ],
            [
             0.5,
             "#f7f7f7"
            ],
            [
             0.6,
             "#e6f5d0"
            ],
            [
             0.7,
             "#b8e186"
            ],
            [
             0.8,
             "#7fbc41"
            ],
            [
             0.9,
             "#4d9221"
            ],
            [
             1,
             "#276419"
            ]
           ],
           "sequential": [
            [
             0,
             "#0d0887"
            ],
            [
             0.1111111111111111,
             "#46039f"
            ],
            [
             0.2222222222222222,
             "#7201a8"
            ],
            [
             0.3333333333333333,
             "#9c179e"
            ],
            [
             0.4444444444444444,
             "#bd3786"
            ],
            [
             0.5555555555555556,
             "#d8576b"
            ],
            [
             0.6666666666666666,
             "#ed7953"
            ],
            [
             0.7777777777777778,
             "#fb9f3a"
            ],
            [
             0.8888888888888888,
             "#fdca26"
            ],
            [
             1,
             "#f0f921"
            ]
           ],
           "sequentialminus": [
            [
             0,
             "#0d0887"
            ],
            [
             0.1111111111111111,
             "#46039f"
            ],
            [
             0.2222222222222222,
             "#7201a8"
            ],
            [
             0.3333333333333333,
             "#9c179e"
            ],
            [
             0.4444444444444444,
             "#bd3786"
            ],
            [
             0.5555555555555556,
             "#d8576b"
            ],
            [
             0.6666666666666666,
             "#ed7953"
            ],
            [
             0.7777777777777778,
             "#fb9f3a"
            ],
            [
             0.8888888888888888,
             "#fdca26"
            ],
            [
             1,
             "#f0f921"
            ]
           ]
          },
          "colorway": [
           "#636efa",
           "#EF553B",
           "#00cc96",
           "#ab63fa",
           "#FFA15A",
           "#19d3f3",
           "#FF6692",
           "#B6E880",
           "#FF97FF",
           "#FECB52"
          ],
          "font": {
           "color": "#2a3f5f"
          },
          "geo": {
           "bgcolor": "white",
           "lakecolor": "white",
           "landcolor": "white",
           "showlakes": true,
           "showland": true,
           "subunitcolor": "#C8D4E3"
          },
          "hoverlabel": {
           "align": "left"
          },
          "hovermode": "closest",
          "mapbox": {
           "style": "light"
          },
          "paper_bgcolor": "white",
          "plot_bgcolor": "white",
          "polar": {
           "angularaxis": {
            "gridcolor": "#EBF0F8",
            "linecolor": "#EBF0F8",
            "ticks": ""
           },
           "bgcolor": "white",
           "radialaxis": {
            "gridcolor": "#EBF0F8",
            "linecolor": "#EBF0F8",
            "ticks": ""
           }
          },
          "scene": {
           "xaxis": {
            "backgroundcolor": "white",
            "gridcolor": "#DFE8F3",
            "gridwidth": 2,
            "linecolor": "#EBF0F8",
            "showbackground": true,
            "ticks": "",
            "zerolinecolor": "#EBF0F8"
           },
           "yaxis": {
            "backgroundcolor": "white",
            "gridcolor": "#DFE8F3",
            "gridwidth": 2,
            "linecolor": "#EBF0F8",
            "showbackground": true,
            "ticks": "",
            "zerolinecolor": "#EBF0F8"
           },
           "zaxis": {
            "backgroundcolor": "white",
            "gridcolor": "#DFE8F3",
            "gridwidth": 2,
            "linecolor": "#EBF0F8",
            "showbackground": true,
            "ticks": "",
            "zerolinecolor": "#EBF0F8"
           }
          },
          "shapedefaults": {
           "line": {
            "color": "#2a3f5f"
           }
          },
          "ternary": {
           "aaxis": {
            "gridcolor": "#DFE8F3",
            "linecolor": "#A2B1C6",
            "ticks": ""
           },
           "baxis": {
            "gridcolor": "#DFE8F3",
            "linecolor": "#A2B1C6",
            "ticks": ""
           },
           "bgcolor": "white",
           "caxis": {
            "gridcolor": "#DFE8F3",
            "linecolor": "#A2B1C6",
            "ticks": ""
           }
          },
          "title": {
           "x": 0.05
          },
          "xaxis": {
           "automargin": true,
           "gridcolor": "#EBF0F8",
           "linecolor": "#EBF0F8",
           "ticks": "",
           "title": {
            "standoff": 15
           },
           "zerolinecolor": "#EBF0F8",
           "zerolinewidth": 2
          },
          "yaxis": {
           "automargin": true,
           "gridcolor": "#EBF0F8",
           "linecolor": "#EBF0F8",
           "ticks": "",
           "title": {
            "standoff": 15
           },
           "zerolinecolor": "#EBF0F8",
           "zerolinewidth": 2
          }
         }
        },
        "title": {
         "font": {
          "size": 24
         },
         "text": "Ladeleistung pro Ladezeitraum eines BEVs",
         "x": 0.5,
         "xanchor": "center"
        },
        "xaxis": {
         "range": [
          480,
          960
         ],
         "showgrid": true,
         "title": {
          "text": "Minuten"
         }
        },
        "yaxis": {
         "range": [
          0,
          60
         ],
         "title": {
          "text": "Energie in kW"
         }
        }
       }
      },
      "text/html": [
       "<div>                            <div id=\"99b30fb0-23df-406d-9c4f-983f9044e786\" class=\"plotly-graph-div\" style=\"height:525px; width:100%;\"></div>            <script type=\"text/javascript\">                require([\"plotly\"], function(Plotly) {                    window.PLOTLYENV=window.PLOTLYENV || {};                                    if (document.getElementById(\"99b30fb0-23df-406d-9c4f-983f9044e786\")) {                    Plotly.newPlot(                        \"99b30fb0-23df-406d-9c4f-983f9044e786\",                        [{\"line\":{\"color\":\"orange\"},\"name\":\"Verf\\u00fcgbare Solarleistung\",\"x\":[480,495,510,525,540,555,570,585,600,615,630,645,660,675,690,705,720,735,750,765,780,795,810,825,840,855,870,885,900,915,930,945,960],\"y\":[-2.0,3.25,8.5,13.749999999999998,19.0,27.0,35.0,43.0,51.0,50.75,50.5,50.25,50.0,51.25,52.5,53.75,55.0,50.25,45.5,40.75,36.0,37.5,39.0,40.5,42.0,36.0,30.0,24.0,18.0,15.75,13.5,11.25,9.0],\"type\":\"scatter\"},{\"line\":{\"color\":\"green\"},\"mode\":\"lines\",\"name\":\"ID BEV 3\",\"x\":[480.0,480.0,495.0,510.0,514.1025641025641,514.1025641025641,525.0],\"y\":[0.0,-2.0,3.25,4.25,8.19,0.0,6.875],\"type\":\"scatter\"},{\"line\":{\"color\":\"green\"},\"mode\":\"lines\",\"name\":\"ID BEV 8\",\"x\":[510.0,510.0,525.0,540.0,549.9145161290322,549.9145161290322,555.0],\"y\":[0.0,8.5,13.75,6.333333333333333,10.333333333333334,0.0,9.0],\"type\":\"scatter\"},{\"line\":{\"color\":\"green\"},\"mode\":\"lines\",\"name\":\"ID BEV 10\",\"x\":[535.8974358974359,535.8974358974359,540.0,555.0,557.4970414201183,557.4970414201183,570.0],\"y\":[0.0,8.19,12.666666666666666,18.0,9.75,0.0,8.75],\"type\":\"scatter\"},{\"line\":{\"color\":\"green\"},\"mode\":\"lines\",\"name\":\"ID BEV 22\",\"x\":[540.0,540.0,555.0,555.2615384615385,555.2615384615385,570.0],\"y\":[0.0,19.0,27.0,9.75,0.0,17.5],\"type\":\"scatter\"},{\"line\":{\"color\":\"green\"},\"mode\":\"lines\",\"name\":\"ID BEV 34\",\"x\":[560.0854838709678,560.0854838709678,570.0,575.4964396019217,575.4964396019217,585.0],\"y\":[0.0,10.333333333333334,26.25,9.4,0.0,8.6],\"type\":\"scatter\"},{\"line\":{\"color\":\"green\"},\"mode\":\"lines\",\"name\":\"ID BEV 39\",\"x\":[570.0,570.0,571.8351063829788,571.8351063829788,585.0],\"y\":[0.0,35.0,9.4,0.0,17.2],\"type\":\"scatter\"},{\"line\":{\"color\":\"green\"},\"mode\":\"lines\",\"name\":\"ID BEV 43\",\"x\":[582.5029585798817,582.5029585798817,585.0,586.1702381284656,586.1702381284656,600.0],\"y\":[0.0,9.75,25.799999999999997,10.176,0.0,10.2],\"type\":\"scatter\"},{\"line\":{\"color\":\"green\"},\"mode\":\"lines\",\"name\":\"ID BEV 44\",\"x\":[584.7384615384615,584.7384615384615,585.0,600.0,615.0,630.0,645.0,660.0,675.0,690.0,705.0,720.0,735.0,750.0,765.0,780.0,795.0,804.0,804.0,810.0],\"y\":[0.0,9.75,34.4,20.4,10.15,10.1,10.05,10.0,10.25,10.5,10.75,11.0,10.05,9.1,8.15,7.2,7.5,7.95,0.0,7.8],\"type\":\"scatter\"},{\"line\":{\"color\":\"green\"},\"mode\":\"lines\",\"name\":\"ID BEV 49\",\"x\":[585.0,585.0,593.3667452830189,593.3667452830189,600.0],\"y\":[0.0,43.0,10.176,0.0,30.599999999999998],\"type\":\"scatter\"},{\"line\":{\"color\":\"green\"},\"mode\":\"lines\",\"name\":\"ID BEV 1\",\"x\":[594.5035603980783,594.5035603980783,600.0,615.0,615.4152695689831,615.4152695689831,630.0],\"y\":[0.0,9.4,40.8,20.3,10.076,0.0,20.2],\"type\":\"scatter\"},{\"line\":{\"color\":\"green\"},\"mode\":\"lines\",\"name\":\"ID BEV 4\",\"x\":[598.1648936170212,598.1648936170212,600.0,615.0,630.0,645.0,660.0,675.0,690.0,705.0,720.0,735.0,750.0,765.0,780.0,795.0,810.0,825.0,840.0,855.0,870.0,885.0,900.0,915.0,924.0,924.0,930.0],\"y\":[0.0,9.4,51.0,30.450000000000003,30.299999999999997,20.1,20.0,20.5,21.0,21.5,22.0,20.1,18.2,16.3,14.4,15.0,15.6,8.1,8.4,7.2,6.0,4.8,3.6,3.15,2.476,0.0,2.7],\"type\":\"scatter\"},{\"line\":{\"color\":\"green\"},\"mode\":\"lines\",\"name\":\"ID BEV 5\",\"x\":[613.8297618715344,613.8297618715344,615.0,630.0,645.0,660.0,675.0,676.1368130669762,676.1368130669762,690.0],\"y\":[0.0,10.176,40.6,40.4,30.150000000000002,30.0,30.75,10.623999999999999,0.0,31.5],\"type\":\"scatter\"},{\"line\":{\"color\":\"green\"},\"mode\":\"lines\",\"name\":\"ID BEV 6\",\"x\":[606.6332547169811,606.6332547169811,615.0,616.0703582021916,616.0703582021916,630.0],\"y\":[0.0,10.176,50.75,10.076,0.0,50.5],\"type\":\"scatter\"},{\"line\":{\"color\":\"green\"},\"mode\":\"lines\",\"name\":\"ID BEV 7\",\"x\":[644.5847304310169,644.5847304310169,645.0,660.0,675.0,690.0,705.0,720.0,735.0,750.0,765.0,780.0,795.0,810.0,825.0,840.0,855.0,870.0,885.0,900.0,915.0,930.0,945.0,948.0,948.0,960.0],\"y\":[0.0,10.076,40.2,40.0,41.0,42.0,32.25,33.0,30.150000000000002,27.299999999999997,24.450000000000003,21.6,22.5,23.4,16.2,16.8,14.4,12.0,9.6,7.2,6.3,5.4,2.25,1.576,0.0,1.8],\"type\":\"scatter\"},{\"line\":{\"color\":\"green\"},\"mode\":\"lines\",\"name\":\"ID BEV 9\",\"x\":[643.9296417978084,643.9296417978084,645.0,660.0,675.0,690.0,705.0,720.0,735.0,750.0,765.0,780.0,795.0,810.0,825.0,840.0,855.0,870.0,885.0,900.0,915.0,930.0,936.0,936.0,945.0],\"y\":[0.0,10.076,50.25,50.0,51.25,52.5,43.0,44.0,40.2,36.4,32.6,28.8,30.0,31.2,24.299999999999997,25.200000000000003,21.6,18.0,14.399999999999999,10.8,9.45,8.100000000000001,2.024,0.0,4.5],\"type\":\"scatter\"},{\"line\":{\"color\":\"green\"},\"mode\":\"lines\",\"name\":\"ID BEV 15\",\"x\":[703.8631869330238,703.8631869330238,705.0,720.0,735.0,750.0,765.0,780.0,795.0,810.0,825.0,840.0,855.0,870.0,885.0,888.0,888.0,900.0],\"y\":[0.0,10.623999999999999,53.75,55.0,50.25,45.5,40.75,36.0,37.5,39.0,32.4,33.6,28.8,24.0,19.2,3.376,0.0,14.4],\"type\":\"scatter\"},{\"line\":{\"color\":\"green\"},\"mode\":\"lines\",\"name\":\"ID BEV 24\",\"x\":[816,816,825,840,855,870,885,900,915,930,936,936,945],\"y\":[0.0,7.95,40.5,42.0,36.0,30.0,24.0,18.0,12.6,10.8,4.048,0.0,6.75],\"type\":\"scatter\"},{\"line\":{\"color\":\"green\"},\"mode\":\"lines\",\"name\":\"ID BEV 35\",\"x\":[912,912,915,915],\"y\":[0.0,2.924,15.75,0.0],\"type\":\"scatter\"},{\"line\":{\"color\":\"green\"},\"mode\":\"lines\",\"name\":\"ID BEV 37\",\"x\":[918,918,930,945,960,960],\"y\":[0.0,2.924,13.5,9.0,3.6,0.0],\"type\":\"scatter\"},{\"line\":{\"color\":\"green\"},\"mode\":\"lines\",\"name\":\"ID BEV 13\",\"x\":[936,936,945,954,954,960],\"y\":[0.0,6.524,11.25,1.576,0.0,5.4],\"type\":\"scatter\"},{\"line\":{\"color\":\"green\"},\"mode\":\"lines\",\"name\":\"ID BEV 19\",\"x\":[954,954,960,960],\"y\":[0.0,3.6,7.2,0.0],\"type\":\"scatter\"},{\"line\":{\"color\":\"green\"},\"mode\":\"lines\",\"name\":\"ID BEV 14\",\"x\":[954,954,960,960],\"y\":[0.0,5.6240000000000006,9.0,0.0],\"type\":\"scatter\"},{\"line\":{\"color\":\"green\"},\"mode\":\"lines\",\"name\":\"ID BEV 38\",\"x\":[972,972,972],\"y\":[0.0,1.576,0.0],\"type\":\"scatter\"},{\"line\":{\"color\":\"green\"},\"mode\":\"lines\",\"name\":\"ID BEV 0\",\"x\":[966,966,966],\"y\":[0.0,1.576,0.0],\"type\":\"scatter\"}],                        {\"template\":{\"data\":{\"barpolar\":[{\"marker\":{\"line\":{\"color\":\"white\",\"width\":0.5},\"pattern\":{\"fillmode\":\"overlay\",\"size\":10,\"solidity\":0.2}},\"type\":\"barpolar\"}],\"bar\":[{\"error_x\":{\"color\":\"#2a3f5f\"},\"error_y\":{\"color\":\"#2a3f5f\"},\"marker\":{\"line\":{\"color\":\"white\",\"width\":0.5},\"pattern\":{\"fillmode\":\"overlay\",\"size\":10,\"solidity\":0.2}},\"type\":\"bar\"}],\"carpet\":[{\"aaxis\":{\"endlinecolor\":\"#2a3f5f\",\"gridcolor\":\"#C8D4E3\",\"linecolor\":\"#C8D4E3\",\"minorgridcolor\":\"#C8D4E3\",\"startlinecolor\":\"#2a3f5f\"},\"baxis\":{\"endlinecolor\":\"#2a3f5f\",\"gridcolor\":\"#C8D4E3\",\"linecolor\":\"#C8D4E3\",\"minorgridcolor\":\"#C8D4E3\",\"startlinecolor\":\"#2a3f5f\"},\"type\":\"carpet\"}],\"choropleth\":[{\"colorbar\":{\"outlinewidth\":0,\"ticks\":\"\"},\"type\":\"choropleth\"}],\"contourcarpet\":[{\"colorbar\":{\"outlinewidth\":0,\"ticks\":\"\"},\"type\":\"contourcarpet\"}],\"contour\":[{\"colorbar\":{\"outlinewidth\":0,\"ticks\":\"\"},\"colorscale\":[[0.0,\"#0d0887\"],[0.1111111111111111,\"#46039f\"],[0.2222222222222222,\"#7201a8\"],[0.3333333333333333,\"#9c179e\"],[0.4444444444444444,\"#bd3786\"],[0.5555555555555556,\"#d8576b\"],[0.6666666666666666,\"#ed7953\"],[0.7777777777777778,\"#fb9f3a\"],[0.8888888888888888,\"#fdca26\"],[1.0,\"#f0f921\"]],\"type\":\"contour\"}],\"heatmapgl\":[{\"colorbar\":{\"outlinewidth\":0,\"ticks\":\"\"},\"colorscale\":[[0.0,\"#0d0887\"],[0.1111111111111111,\"#46039f\"],[0.2222222222222222,\"#7201a8\"],[0.3333333333333333,\"#9c179e\"],[0.4444444444444444,\"#bd3786\"],[0.5555555555555556,\"#d8576b\"],[0.6666666666666666,\"#ed7953\"],[0.7777777777777778,\"#fb9f3a\"],[0.8888888888888888,\"#fdca26\"],[1.0,\"#f0f921\"]],\"type\":\"heatmapgl\"}],\"heatmap\":[{\"colorbar\":{\"outlinewidth\":0,\"ticks\":\"\"},\"colorscale\":[[0.0,\"#0d0887\"],[0.1111111111111111,\"#46039f\"],[0.2222222222222222,\"#7201a8\"],[0.3333333333333333,\"#9c179e\"],[0.4444444444444444,\"#bd3786\"],[0.5555555555555556,\"#d8576b\"],[0.6666666666666666,\"#ed7953\"],[0.7777777777777778,\"#fb9f3a\"],[0.8888888888888888,\"#fdca26\"],[1.0,\"#f0f921\"]],\"type\":\"heatmap\"}],\"histogram2dcontour\":[{\"colorbar\":{\"outlinewidth\":0,\"ticks\":\"\"},\"colorscale\":[[0.0,\"#0d0887\"],[0.1111111111111111,\"#46039f\"],[0.2222222222222222,\"#7201a8\"],[0.3333333333333333,\"#9c179e\"],[0.4444444444444444,\"#bd3786\"],[0.5555555555555556,\"#d8576b\"],[0.6666666666666666,\"#ed7953\"],[0.7777777777777778,\"#fb9f3a\"],[0.8888888888888888,\"#fdca26\"],[1.0,\"#f0f921\"]],\"type\":\"histogram2dcontour\"}],\"histogram2d\":[{\"colorbar\":{\"outlinewidth\":0,\"ticks\":\"\"},\"colorscale\":[[0.0,\"#0d0887\"],[0.1111111111111111,\"#46039f\"],[0.2222222222222222,\"#7201a8\"],[0.3333333333333333,\"#9c179e\"],[0.4444444444444444,\"#bd3786\"],[0.5555555555555556,\"#d8576b\"],[0.6666666666666666,\"#ed7953\"],[0.7777777777777778,\"#fb9f3a\"],[0.8888888888888888,\"#fdca26\"],[1.0,\"#f0f921\"]],\"type\":\"histogram2d\"}],\"histogram\":[{\"marker\":{\"pattern\":{\"fillmode\":\"overlay\",\"size\":10,\"solidity\":0.2}},\"type\":\"histogram\"}],\"mesh3d\":[{\"colorbar\":{\"outlinewidth\":0,\"ticks\":\"\"},\"type\":\"mesh3d\"}],\"parcoords\":[{\"line\":{\"colorbar\":{\"outlinewidth\":0,\"ticks\":\"\"}},\"type\":\"parcoords\"}],\"pie\":[{\"automargin\":true,\"type\":\"pie\"}],\"scatter3d\":[{\"line\":{\"colorbar\":{\"outlinewidth\":0,\"ticks\":\"\"}},\"marker\":{\"colorbar\":{\"outlinewidth\":0,\"ticks\":\"\"}},\"type\":\"scatter3d\"}],\"scattercarpet\":[{\"marker\":{\"colorbar\":{\"outlinewidth\":0,\"ticks\":\"\"}},\"type\":\"scattercarpet\"}],\"scattergeo\":[{\"marker\":{\"colorbar\":{\"outlinewidth\":0,\"ticks\":\"\"}},\"type\":\"scattergeo\"}],\"scattergl\":[{\"marker\":{\"colorbar\":{\"outlinewidth\":0,\"ticks\":\"\"}},\"type\":\"scattergl\"}],\"scattermapbox\":[{\"marker\":{\"colorbar\":{\"outlinewidth\":0,\"ticks\":\"\"}},\"type\":\"scattermapbox\"}],\"scatterpolargl\":[{\"marker\":{\"colorbar\":{\"outlinewidth\":0,\"ticks\":\"\"}},\"type\":\"scatterpolargl\"}],\"scatterpolar\":[{\"marker\":{\"colorbar\":{\"outlinewidth\":0,\"ticks\":\"\"}},\"type\":\"scatterpolar\"}],\"scatter\":[{\"marker\":{\"colorbar\":{\"outlinewidth\":0,\"ticks\":\"\"}},\"type\":\"scatter\"}],\"scatterternary\":[{\"marker\":{\"colorbar\":{\"outlinewidth\":0,\"ticks\":\"\"}},\"type\":\"scatterternary\"}],\"surface\":[{\"colorbar\":{\"outlinewidth\":0,\"ticks\":\"\"},\"colorscale\":[[0.0,\"#0d0887\"],[0.1111111111111111,\"#46039f\"],[0.2222222222222222,\"#7201a8\"],[0.3333333333333333,\"#9c179e\"],[0.4444444444444444,\"#bd3786\"],[0.5555555555555556,\"#d8576b\"],[0.6666666666666666,\"#ed7953\"],[0.7777777777777778,\"#fb9f3a\"],[0.8888888888888888,\"#fdca26\"],[1.0,\"#f0f921\"]],\"type\":\"surface\"}],\"table\":[{\"cells\":{\"fill\":{\"color\":\"#EBF0F8\"},\"line\":{\"color\":\"white\"}},\"header\":{\"fill\":{\"color\":\"#C8D4E3\"},\"line\":{\"color\":\"white\"}},\"type\":\"table\"}]},\"layout\":{\"annotationdefaults\":{\"arrowcolor\":\"#2a3f5f\",\"arrowhead\":0,\"arrowwidth\":1},\"autotypenumbers\":\"strict\",\"coloraxis\":{\"colorbar\":{\"outlinewidth\":0,\"ticks\":\"\"}},\"colorscale\":{\"diverging\":[[0,\"#8e0152\"],[0.1,\"#c51b7d\"],[0.2,\"#de77ae\"],[0.3,\"#f1b6da\"],[0.4,\"#fde0ef\"],[0.5,\"#f7f7f7\"],[0.6,\"#e6f5d0\"],[0.7,\"#b8e186\"],[0.8,\"#7fbc41\"],[0.9,\"#4d9221\"],[1,\"#276419\"]],\"sequential\":[[0.0,\"#0d0887\"],[0.1111111111111111,\"#46039f\"],[0.2222222222222222,\"#7201a8\"],[0.3333333333333333,\"#9c179e\"],[0.4444444444444444,\"#bd3786\"],[0.5555555555555556,\"#d8576b\"],[0.6666666666666666,\"#ed7953\"],[0.7777777777777778,\"#fb9f3a\"],[0.8888888888888888,\"#fdca26\"],[1.0,\"#f0f921\"]],\"sequentialminus\":[[0.0,\"#0d0887\"],[0.1111111111111111,\"#46039f\"],[0.2222222222222222,\"#7201a8\"],[0.3333333333333333,\"#9c179e\"],[0.4444444444444444,\"#bd3786\"],[0.5555555555555556,\"#d8576b\"],[0.6666666666666666,\"#ed7953\"],[0.7777777777777778,\"#fb9f3a\"],[0.8888888888888888,\"#fdca26\"],[1.0,\"#f0f921\"]]},\"colorway\":[\"#636efa\",\"#EF553B\",\"#00cc96\",\"#ab63fa\",\"#FFA15A\",\"#19d3f3\",\"#FF6692\",\"#B6E880\",\"#FF97FF\",\"#FECB52\"],\"font\":{\"color\":\"#2a3f5f\"},\"geo\":{\"bgcolor\":\"white\",\"lakecolor\":\"white\",\"landcolor\":\"white\",\"showlakes\":true,\"showland\":true,\"subunitcolor\":\"#C8D4E3\"},\"hoverlabel\":{\"align\":\"left\"},\"hovermode\":\"closest\",\"mapbox\":{\"style\":\"light\"},\"paper_bgcolor\":\"white\",\"plot_bgcolor\":\"white\",\"polar\":{\"angularaxis\":{\"gridcolor\":\"#EBF0F8\",\"linecolor\":\"#EBF0F8\",\"ticks\":\"\"},\"bgcolor\":\"white\",\"radialaxis\":{\"gridcolor\":\"#EBF0F8\",\"linecolor\":\"#EBF0F8\",\"ticks\":\"\"}},\"scene\":{\"xaxis\":{\"backgroundcolor\":\"white\",\"gridcolor\":\"#DFE8F3\",\"gridwidth\":2,\"linecolor\":\"#EBF0F8\",\"showbackground\":true,\"ticks\":\"\",\"zerolinecolor\":\"#EBF0F8\"},\"yaxis\":{\"backgroundcolor\":\"white\",\"gridcolor\":\"#DFE8F3\",\"gridwidth\":2,\"linecolor\":\"#EBF0F8\",\"showbackground\":true,\"ticks\":\"\",\"zerolinecolor\":\"#EBF0F8\"},\"zaxis\":{\"backgroundcolor\":\"white\",\"gridcolor\":\"#DFE8F3\",\"gridwidth\":2,\"linecolor\":\"#EBF0F8\",\"showbackground\":true,\"ticks\":\"\",\"zerolinecolor\":\"#EBF0F8\"}},\"shapedefaults\":{\"line\":{\"color\":\"#2a3f5f\"}},\"ternary\":{\"aaxis\":{\"gridcolor\":\"#DFE8F3\",\"linecolor\":\"#A2B1C6\",\"ticks\":\"\"},\"baxis\":{\"gridcolor\":\"#DFE8F3\",\"linecolor\":\"#A2B1C6\",\"ticks\":\"\"},\"bgcolor\":\"white\",\"caxis\":{\"gridcolor\":\"#DFE8F3\",\"linecolor\":\"#A2B1C6\",\"ticks\":\"\"}},\"title\":{\"x\":0.05},\"xaxis\":{\"automargin\":true,\"gridcolor\":\"#EBF0F8\",\"linecolor\":\"#EBF0F8\",\"ticks\":\"\",\"title\":{\"standoff\":15},\"zerolinecolor\":\"#EBF0F8\",\"zerolinewidth\":2},\"yaxis\":{\"automargin\":true,\"gridcolor\":\"#EBF0F8\",\"linecolor\":\"#EBF0F8\",\"ticks\":\"\",\"title\":{\"standoff\":15},\"zerolinecolor\":\"#EBF0F8\",\"zerolinewidth\":2}}},\"xaxis\":{\"range\":[480,960],\"showgrid\":true,\"title\":{\"text\":\"Minuten\"}},\"yaxis\":{\"range\":[0,60],\"title\":{\"text\":\"Energie in kW\"}},\"title\":{\"font\":{\"size\":24},\"text\":\"Ladeleistung pro Ladezeitraum eines BEVs\",\"x\":0.5,\"xanchor\":\"center\"}},                        {\"responsive\": true}                    ).then(function(){\n",
       "                            \n",
       "var gd = document.getElementById('99b30fb0-23df-406d-9c4f-983f9044e786');\n",
       "var x = new MutationObserver(function (mutations, observer) {{\n",
       "        var display = window.getComputedStyle(gd).display;\n",
       "        if (!display || display === 'none') {{\n",
       "            console.log([gd, 'removed!']);\n",
       "            Plotly.purge(gd);\n",
       "            observer.disconnect();\n",
       "        }}\n",
       "}});\n",
       "\n",
       "// Listen for the removal of the full notebook cells\n",
       "var notebookContainer = gd.closest('#notebook-container');\n",
       "if (notebookContainer) {{\n",
       "    x.observe(notebookContainer, {childList: true});\n",
       "}}\n",
       "\n",
       "// Listen for the clearing of the current output cell\n",
       "var outputEl = gd.closest('.output');\n",
       "if (outputEl) {{\n",
       "    x.observe(outputEl, {childList: true});\n",
       "}}\n",
       "\n",
       "                        })                };                });            </script>        </div>"
      ]
     },
     "metadata": {},
     "output_type": "display_data"
    }
   ],
   "source": [
    "import figureGeneration\n",
    "\n",
    "figureGeneration.create_charging_power_figure(simulation_day, solarpeakleistung, bev_data, minute_interval)"
   ]
  },
  {
   "cell_type": "code",
   "execution_count": 7,
   "metadata": {
    "pycharm": {
     "is_executing": true
    }
   },
   "outputs": [
    {
     "data": {
      "application/vnd.plotly.v1+json": {
       "config": {
        "plotlyServerURL": "https://plot.ly"
       },
       "data": [
        {
         "line": {
          "color": "red"
         },
         "name": "Wartende BEVs",
         "type": "scatter",
         "x": [
          480,
          495,
          510,
          525,
          540,
          555,
          570,
          585,
          600,
          615,
          630,
          645,
          660,
          675,
          690,
          705,
          720,
          735,
          750,
          765,
          780,
          795,
          810,
          825,
          840,
          855,
          870,
          885,
          900,
          915,
          930,
          945,
          960
         ],
         "y": [
          9,
          8,
          27,
          26,
          37,
          36,
          36,
          33,
          30,
          28,
          28,
          26,
          26,
          26,
          26,
          25,
          26,
          24,
          25,
          23,
          29,
          29,
          27,
          25,
          23,
          19,
          19,
          19,
          17,
          14,
          11,
          9,
          7
         ]
        },
        {
         "line": {
          "color": "blue"
         },
         "name": "Ladende BEVs",
         "type": "scatter",
         "x": [
          480,
          495,
          510,
          525,
          540,
          555,
          570,
          585,
          600,
          615,
          630,
          645,
          660,
          675,
          690,
          705,
          720,
          735,
          750,
          765,
          780,
          795,
          810,
          825,
          840,
          855,
          870,
          885,
          900,
          915,
          930,
          945,
          960
         ],
         "y": [
          1,
          1,
          2,
          2,
          3,
          3,
          4,
          5,
          5,
          5,
          5,
          5,
          5,
          5,
          5,
          5,
          5,
          5,
          5,
          5,
          5,
          5,
          5,
          5,
          5,
          5,
          5,
          5,
          5,
          5,
          5,
          5,
          5
         ]
        }
       ],
       "layout": {
        "legend": {
         "tracegroupgap": 0
        },
        "margin": {
         "t": 60
        },
        "template": {
         "data": {
          "bar": [
           {
            "error_x": {
             "color": "#2a3f5f"
            },
            "error_y": {
             "color": "#2a3f5f"
            },
            "marker": {
             "line": {
              "color": "white",
              "width": 0.5
             },
             "pattern": {
              "fillmode": "overlay",
              "size": 10,
              "solidity": 0.2
             }
            },
            "type": "bar"
           }
          ],
          "barpolar": [
           {
            "marker": {
             "line": {
              "color": "white",
              "width": 0.5
             },
             "pattern": {
              "fillmode": "overlay",
              "size": 10,
              "solidity": 0.2
             }
            },
            "type": "barpolar"
           }
          ],
          "carpet": [
           {
            "aaxis": {
             "endlinecolor": "#2a3f5f",
             "gridcolor": "#C8D4E3",
             "linecolor": "#C8D4E3",
             "minorgridcolor": "#C8D4E3",
             "startlinecolor": "#2a3f5f"
            },
            "baxis": {
             "endlinecolor": "#2a3f5f",
             "gridcolor": "#C8D4E3",
             "linecolor": "#C8D4E3",
             "minorgridcolor": "#C8D4E3",
             "startlinecolor": "#2a3f5f"
            },
            "type": "carpet"
           }
          ],
          "choropleth": [
           {
            "colorbar": {
             "outlinewidth": 0,
             "ticks": ""
            },
            "type": "choropleth"
           }
          ],
          "contour": [
           {
            "colorbar": {
             "outlinewidth": 0,
             "ticks": ""
            },
            "colorscale": [
             [
              0,
              "#0d0887"
             ],
             [
              0.1111111111111111,
              "#46039f"
             ],
             [
              0.2222222222222222,
              "#7201a8"
             ],
             [
              0.3333333333333333,
              "#9c179e"
             ],
             [
              0.4444444444444444,
              "#bd3786"
             ],
             [
              0.5555555555555556,
              "#d8576b"
             ],
             [
              0.6666666666666666,
              "#ed7953"
             ],
             [
              0.7777777777777778,
              "#fb9f3a"
             ],
             [
              0.8888888888888888,
              "#fdca26"
             ],
             [
              1,
              "#f0f921"
             ]
            ],
            "type": "contour"
           }
          ],
          "contourcarpet": [
           {
            "colorbar": {
             "outlinewidth": 0,
             "ticks": ""
            },
            "type": "contourcarpet"
           }
          ],
          "heatmap": [
           {
            "colorbar": {
             "outlinewidth": 0,
             "ticks": ""
            },
            "colorscale": [
             [
              0,
              "#0d0887"
             ],
             [
              0.1111111111111111,
              "#46039f"
             ],
             [
              0.2222222222222222,
              "#7201a8"
             ],
             [
              0.3333333333333333,
              "#9c179e"
             ],
             [
              0.4444444444444444,
              "#bd3786"
             ],
             [
              0.5555555555555556,
              "#d8576b"
             ],
             [
              0.6666666666666666,
              "#ed7953"
             ],
             [
              0.7777777777777778,
              "#fb9f3a"
             ],
             [
              0.8888888888888888,
              "#fdca26"
             ],
             [
              1,
              "#f0f921"
             ]
            ],
            "type": "heatmap"
           }
          ],
          "heatmapgl": [
           {
            "colorbar": {
             "outlinewidth": 0,
             "ticks": ""
            },
            "colorscale": [
             [
              0,
              "#0d0887"
             ],
             [
              0.1111111111111111,
              "#46039f"
             ],
             [
              0.2222222222222222,
              "#7201a8"
             ],
             [
              0.3333333333333333,
              "#9c179e"
             ],
             [
              0.4444444444444444,
              "#bd3786"
             ],
             [
              0.5555555555555556,
              "#d8576b"
             ],
             [
              0.6666666666666666,
              "#ed7953"
             ],
             [
              0.7777777777777778,
              "#fb9f3a"
             ],
             [
              0.8888888888888888,
              "#fdca26"
             ],
             [
              1,
              "#f0f921"
             ]
            ],
            "type": "heatmapgl"
           }
          ],
          "histogram": [
           {
            "marker": {
             "pattern": {
              "fillmode": "overlay",
              "size": 10,
              "solidity": 0.2
             }
            },
            "type": "histogram"
           }
          ],
          "histogram2d": [
           {
            "colorbar": {
             "outlinewidth": 0,
             "ticks": ""
            },
            "colorscale": [
             [
              0,
              "#0d0887"
             ],
             [
              0.1111111111111111,
              "#46039f"
             ],
             [
              0.2222222222222222,
              "#7201a8"
             ],
             [
              0.3333333333333333,
              "#9c179e"
             ],
             [
              0.4444444444444444,
              "#bd3786"
             ],
             [
              0.5555555555555556,
              "#d8576b"
             ],
             [
              0.6666666666666666,
              "#ed7953"
             ],
             [
              0.7777777777777778,
              "#fb9f3a"
             ],
             [
              0.8888888888888888,
              "#fdca26"
             ],
             [
              1,
              "#f0f921"
             ]
            ],
            "type": "histogram2d"
           }
          ],
          "histogram2dcontour": [
           {
            "colorbar": {
             "outlinewidth": 0,
             "ticks": ""
            },
            "colorscale": [
             [
              0,
              "#0d0887"
             ],
             [
              0.1111111111111111,
              "#46039f"
             ],
             [
              0.2222222222222222,
              "#7201a8"
             ],
             [
              0.3333333333333333,
              "#9c179e"
             ],
             [
              0.4444444444444444,
              "#bd3786"
             ],
             [
              0.5555555555555556,
              "#d8576b"
             ],
             [
              0.6666666666666666,
              "#ed7953"
             ],
             [
              0.7777777777777778,
              "#fb9f3a"
             ],
             [
              0.8888888888888888,
              "#fdca26"
             ],
             [
              1,
              "#f0f921"
             ]
            ],
            "type": "histogram2dcontour"
           }
          ],
          "mesh3d": [
           {
            "colorbar": {
             "outlinewidth": 0,
             "ticks": ""
            },
            "type": "mesh3d"
           }
          ],
          "parcoords": [
           {
            "line": {
             "colorbar": {
              "outlinewidth": 0,
              "ticks": ""
             }
            },
            "type": "parcoords"
           }
          ],
          "pie": [
           {
            "automargin": true,
            "type": "pie"
           }
          ],
          "scatter": [
           {
            "marker": {
             "colorbar": {
              "outlinewidth": 0,
              "ticks": ""
             }
            },
            "type": "scatter"
           }
          ],
          "scatter3d": [
           {
            "line": {
             "colorbar": {
              "outlinewidth": 0,
              "ticks": ""
             }
            },
            "marker": {
             "colorbar": {
              "outlinewidth": 0,
              "ticks": ""
             }
            },
            "type": "scatter3d"
           }
          ],
          "scattercarpet": [
           {
            "marker": {
             "colorbar": {
              "outlinewidth": 0,
              "ticks": ""
             }
            },
            "type": "scattercarpet"
           }
          ],
          "scattergeo": [
           {
            "marker": {
             "colorbar": {
              "outlinewidth": 0,
              "ticks": ""
             }
            },
            "type": "scattergeo"
           }
          ],
          "scattergl": [
           {
            "marker": {
             "colorbar": {
              "outlinewidth": 0,
              "ticks": ""
             }
            },
            "type": "scattergl"
           }
          ],
          "scattermapbox": [
           {
            "marker": {
             "colorbar": {
              "outlinewidth": 0,
              "ticks": ""
             }
            },
            "type": "scattermapbox"
           }
          ],
          "scatterpolar": [
           {
            "marker": {
             "colorbar": {
              "outlinewidth": 0,
              "ticks": ""
             }
            },
            "type": "scatterpolar"
           }
          ],
          "scatterpolargl": [
           {
            "marker": {
             "colorbar": {
              "outlinewidth": 0,
              "ticks": ""
             }
            },
            "type": "scatterpolargl"
           }
          ],
          "scatterternary": [
           {
            "marker": {
             "colorbar": {
              "outlinewidth": 0,
              "ticks": ""
             }
            },
            "type": "scatterternary"
           }
          ],
          "surface": [
           {
            "colorbar": {
             "outlinewidth": 0,
             "ticks": ""
            },
            "colorscale": [
             [
              0,
              "#0d0887"
             ],
             [
              0.1111111111111111,
              "#46039f"
             ],
             [
              0.2222222222222222,
              "#7201a8"
             ],
             [
              0.3333333333333333,
              "#9c179e"
             ],
             [
              0.4444444444444444,
              "#bd3786"
             ],
             [
              0.5555555555555556,
              "#d8576b"
             ],
             [
              0.6666666666666666,
              "#ed7953"
             ],
             [
              0.7777777777777778,
              "#fb9f3a"
             ],
             [
              0.8888888888888888,
              "#fdca26"
             ],
             [
              1,
              "#f0f921"
             ]
            ],
            "type": "surface"
           }
          ],
          "table": [
           {
            "cells": {
             "fill": {
              "color": "#EBF0F8"
             },
             "line": {
              "color": "white"
             }
            },
            "header": {
             "fill": {
              "color": "#C8D4E3"
             },
             "line": {
              "color": "white"
             }
            },
            "type": "table"
           }
          ]
         },
         "layout": {
          "annotationdefaults": {
           "arrowcolor": "#2a3f5f",
           "arrowhead": 0,
           "arrowwidth": 1
          },
          "autotypenumbers": "strict",
          "coloraxis": {
           "colorbar": {
            "outlinewidth": 0,
            "ticks": ""
           }
          },
          "colorscale": {
           "diverging": [
            [
             0,
             "#8e0152"
            ],
            [
             0.1,
             "#c51b7d"
            ],
            [
             0.2,
             "#de77ae"
            ],
            [
             0.3,
             "#f1b6da"
            ],
            [
             0.4,
             "#fde0ef"
            ],
            [
             0.5,
             "#f7f7f7"
            ],
            [
             0.6,
             "#e6f5d0"
            ],
            [
             0.7,
             "#b8e186"
            ],
            [
             0.8,
             "#7fbc41"
            ],
            [
             0.9,
             "#4d9221"
            ],
            [
             1,
             "#276419"
            ]
           ],
           "sequential": [
            [
             0,
             "#0d0887"
            ],
            [
             0.1111111111111111,
             "#46039f"
            ],
            [
             0.2222222222222222,
             "#7201a8"
            ],
            [
             0.3333333333333333,
             "#9c179e"
            ],
            [
             0.4444444444444444,
             "#bd3786"
            ],
            [
             0.5555555555555556,
             "#d8576b"
            ],
            [
             0.6666666666666666,
             "#ed7953"
            ],
            [
             0.7777777777777778,
             "#fb9f3a"
            ],
            [
             0.8888888888888888,
             "#fdca26"
            ],
            [
             1,
             "#f0f921"
            ]
           ],
           "sequentialminus": [
            [
             0,
             "#0d0887"
            ],
            [
             0.1111111111111111,
             "#46039f"
            ],
            [
             0.2222222222222222,
             "#7201a8"
            ],
            [
             0.3333333333333333,
             "#9c179e"
            ],
            [
             0.4444444444444444,
             "#bd3786"
            ],
            [
             0.5555555555555556,
             "#d8576b"
            ],
            [
             0.6666666666666666,
             "#ed7953"
            ],
            [
             0.7777777777777778,
             "#fb9f3a"
            ],
            [
             0.8888888888888888,
             "#fdca26"
            ],
            [
             1,
             "#f0f921"
            ]
           ]
          },
          "colorway": [
           "#636efa",
           "#EF553B",
           "#00cc96",
           "#ab63fa",
           "#FFA15A",
           "#19d3f3",
           "#FF6692",
           "#B6E880",
           "#FF97FF",
           "#FECB52"
          ],
          "font": {
           "color": "#2a3f5f"
          },
          "geo": {
           "bgcolor": "white",
           "lakecolor": "white",
           "landcolor": "white",
           "showlakes": true,
           "showland": true,
           "subunitcolor": "#C8D4E3"
          },
          "hoverlabel": {
           "align": "left"
          },
          "hovermode": "closest",
          "mapbox": {
           "style": "light"
          },
          "paper_bgcolor": "white",
          "plot_bgcolor": "white",
          "polar": {
           "angularaxis": {
            "gridcolor": "#EBF0F8",
            "linecolor": "#EBF0F8",
            "ticks": ""
           },
           "bgcolor": "white",
           "radialaxis": {
            "gridcolor": "#EBF0F8",
            "linecolor": "#EBF0F8",
            "ticks": ""
           }
          },
          "scene": {
           "xaxis": {
            "backgroundcolor": "white",
            "gridcolor": "#DFE8F3",
            "gridwidth": 2,
            "linecolor": "#EBF0F8",
            "showbackground": true,
            "ticks": "",
            "zerolinecolor": "#EBF0F8"
           },
           "yaxis": {
            "backgroundcolor": "white",
            "gridcolor": "#DFE8F3",
            "gridwidth": 2,
            "linecolor": "#EBF0F8",
            "showbackground": true,
            "ticks": "",
            "zerolinecolor": "#EBF0F8"
           },
           "zaxis": {
            "backgroundcolor": "white",
            "gridcolor": "#DFE8F3",
            "gridwidth": 2,
            "linecolor": "#EBF0F8",
            "showbackground": true,
            "ticks": "",
            "zerolinecolor": "#EBF0F8"
           }
          },
          "shapedefaults": {
           "line": {
            "color": "#2a3f5f"
           }
          },
          "ternary": {
           "aaxis": {
            "gridcolor": "#DFE8F3",
            "linecolor": "#A2B1C6",
            "ticks": ""
           },
           "baxis": {
            "gridcolor": "#DFE8F3",
            "linecolor": "#A2B1C6",
            "ticks": ""
           },
           "bgcolor": "white",
           "caxis": {
            "gridcolor": "#DFE8F3",
            "linecolor": "#A2B1C6",
            "ticks": ""
           }
          },
          "title": {
           "x": 0.05
          },
          "xaxis": {
           "automargin": true,
           "gridcolor": "#EBF0F8",
           "linecolor": "#EBF0F8",
           "ticks": "",
           "title": {
            "standoff": 15
           },
           "zerolinecolor": "#EBF0F8",
           "zerolinewidth": 2
          },
          "yaxis": {
           "automargin": true,
           "gridcolor": "#EBF0F8",
           "linecolor": "#EBF0F8",
           "ticks": "",
           "title": {
            "standoff": 15
           },
           "zerolinecolor": "#EBF0F8",
           "zerolinewidth": 2
          }
         }
        },
        "title": {
         "font": {
          "size": 24
         },
         "text": "Anzahl wartender und ladender BEVs im Tagesverlauf",
         "x": 0.5,
         "xanchor": "center"
        },
        "xaxis": {
         "anchor": "y",
         "domain": [
          0,
          1
         ],
         "title": {
          "text": "Minuten"
         }
        },
        "yaxis": {
         "anchor": "x",
         "domain": [
          0,
          1
         ],
         "title": {
          "text": "Anzahl BEVs"
         }
        }
       }
      },
      "text/html": [
       "<div>                            <div id=\"51a6c37c-ac9d-4e5d-ac0d-59cab3060e06\" class=\"plotly-graph-div\" style=\"height:525px; width:100%;\"></div>            <script type=\"text/javascript\">                require([\"plotly\"], function(Plotly) {                    window.PLOTLYENV=window.PLOTLYENV || {};                                    if (document.getElementById(\"51a6c37c-ac9d-4e5d-ac0d-59cab3060e06\")) {                    Plotly.newPlot(                        \"51a6c37c-ac9d-4e5d-ac0d-59cab3060e06\",                        [{\"line\":{\"color\":\"red\"},\"name\":\"Wartende BEVs\",\"x\":[480,495,510,525,540,555,570,585,600,615,630,645,660,675,690,705,720,735,750,765,780,795,810,825,840,855,870,885,900,915,930,945,960],\"y\":[9,8,27,26,37,36,36,33,30,28,28,26,26,26,26,25,26,24,25,23,29,29,27,25,23,19,19,19,17,14,11,9,7],\"type\":\"scatter\"},{\"line\":{\"color\":\"blue\"},\"name\":\"Ladende BEVs\",\"x\":[480,495,510,525,540,555,570,585,600,615,630,645,660,675,690,705,720,735,750,765,780,795,810,825,840,855,870,885,900,915,930,945,960],\"y\":[1,1,2,2,3,3,4,5,5,5,5,5,5,5,5,5,5,5,5,5,5,5,5,5,5,5,5,5,5,5,5,5,5],\"type\":\"scatter\"}],                        {\"template\":{\"data\":{\"barpolar\":[{\"marker\":{\"line\":{\"color\":\"white\",\"width\":0.5},\"pattern\":{\"fillmode\":\"overlay\",\"size\":10,\"solidity\":0.2}},\"type\":\"barpolar\"}],\"bar\":[{\"error_x\":{\"color\":\"#2a3f5f\"},\"error_y\":{\"color\":\"#2a3f5f\"},\"marker\":{\"line\":{\"color\":\"white\",\"width\":0.5},\"pattern\":{\"fillmode\":\"overlay\",\"size\":10,\"solidity\":0.2}},\"type\":\"bar\"}],\"carpet\":[{\"aaxis\":{\"endlinecolor\":\"#2a3f5f\",\"gridcolor\":\"#C8D4E3\",\"linecolor\":\"#C8D4E3\",\"minorgridcolor\":\"#C8D4E3\",\"startlinecolor\":\"#2a3f5f\"},\"baxis\":{\"endlinecolor\":\"#2a3f5f\",\"gridcolor\":\"#C8D4E3\",\"linecolor\":\"#C8D4E3\",\"minorgridcolor\":\"#C8D4E3\",\"startlinecolor\":\"#2a3f5f\"},\"type\":\"carpet\"}],\"choropleth\":[{\"colorbar\":{\"outlinewidth\":0,\"ticks\":\"\"},\"type\":\"choropleth\"}],\"contourcarpet\":[{\"colorbar\":{\"outlinewidth\":0,\"ticks\":\"\"},\"type\":\"contourcarpet\"}],\"contour\":[{\"colorbar\":{\"outlinewidth\":0,\"ticks\":\"\"},\"colorscale\":[[0.0,\"#0d0887\"],[0.1111111111111111,\"#46039f\"],[0.2222222222222222,\"#7201a8\"],[0.3333333333333333,\"#9c179e\"],[0.4444444444444444,\"#bd3786\"],[0.5555555555555556,\"#d8576b\"],[0.6666666666666666,\"#ed7953\"],[0.7777777777777778,\"#fb9f3a\"],[0.8888888888888888,\"#fdca26\"],[1.0,\"#f0f921\"]],\"type\":\"contour\"}],\"heatmapgl\":[{\"colorbar\":{\"outlinewidth\":0,\"ticks\":\"\"},\"colorscale\":[[0.0,\"#0d0887\"],[0.1111111111111111,\"#46039f\"],[0.2222222222222222,\"#7201a8\"],[0.3333333333333333,\"#9c179e\"],[0.4444444444444444,\"#bd3786\"],[0.5555555555555556,\"#d8576b\"],[0.6666666666666666,\"#ed7953\"],[0.7777777777777778,\"#fb9f3a\"],[0.8888888888888888,\"#fdca26\"],[1.0,\"#f0f921\"]],\"type\":\"heatmapgl\"}],\"heatmap\":[{\"colorbar\":{\"outlinewidth\":0,\"ticks\":\"\"},\"colorscale\":[[0.0,\"#0d0887\"],[0.1111111111111111,\"#46039f\"],[0.2222222222222222,\"#7201a8\"],[0.3333333333333333,\"#9c179e\"],[0.4444444444444444,\"#bd3786\"],[0.5555555555555556,\"#d8576b\"],[0.6666666666666666,\"#ed7953\"],[0.7777777777777778,\"#fb9f3a\"],[0.8888888888888888,\"#fdca26\"],[1.0,\"#f0f921\"]],\"type\":\"heatmap\"}],\"histogram2dcontour\":[{\"colorbar\":{\"outlinewidth\":0,\"ticks\":\"\"},\"colorscale\":[[0.0,\"#0d0887\"],[0.1111111111111111,\"#46039f\"],[0.2222222222222222,\"#7201a8\"],[0.3333333333333333,\"#9c179e\"],[0.4444444444444444,\"#bd3786\"],[0.5555555555555556,\"#d8576b\"],[0.6666666666666666,\"#ed7953\"],[0.7777777777777778,\"#fb9f3a\"],[0.8888888888888888,\"#fdca26\"],[1.0,\"#f0f921\"]],\"type\":\"histogram2dcontour\"}],\"histogram2d\":[{\"colorbar\":{\"outlinewidth\":0,\"ticks\":\"\"},\"colorscale\":[[0.0,\"#0d0887\"],[0.1111111111111111,\"#46039f\"],[0.2222222222222222,\"#7201a8\"],[0.3333333333333333,\"#9c179e\"],[0.4444444444444444,\"#bd3786\"],[0.5555555555555556,\"#d8576b\"],[0.6666666666666666,\"#ed7953\"],[0.7777777777777778,\"#fb9f3a\"],[0.8888888888888888,\"#fdca26\"],[1.0,\"#f0f921\"]],\"type\":\"histogram2d\"}],\"histogram\":[{\"marker\":{\"pattern\":{\"fillmode\":\"overlay\",\"size\":10,\"solidity\":0.2}},\"type\":\"histogram\"}],\"mesh3d\":[{\"colorbar\":{\"outlinewidth\":0,\"ticks\":\"\"},\"type\":\"mesh3d\"}],\"parcoords\":[{\"line\":{\"colorbar\":{\"outlinewidth\":0,\"ticks\":\"\"}},\"type\":\"parcoords\"}],\"pie\":[{\"automargin\":true,\"type\":\"pie\"}],\"scatter3d\":[{\"line\":{\"colorbar\":{\"outlinewidth\":0,\"ticks\":\"\"}},\"marker\":{\"colorbar\":{\"outlinewidth\":0,\"ticks\":\"\"}},\"type\":\"scatter3d\"}],\"scattercarpet\":[{\"marker\":{\"colorbar\":{\"outlinewidth\":0,\"ticks\":\"\"}},\"type\":\"scattercarpet\"}],\"scattergeo\":[{\"marker\":{\"colorbar\":{\"outlinewidth\":0,\"ticks\":\"\"}},\"type\":\"scattergeo\"}],\"scattergl\":[{\"marker\":{\"colorbar\":{\"outlinewidth\":0,\"ticks\":\"\"}},\"type\":\"scattergl\"}],\"scattermapbox\":[{\"marker\":{\"colorbar\":{\"outlinewidth\":0,\"ticks\":\"\"}},\"type\":\"scattermapbox\"}],\"scatterpolargl\":[{\"marker\":{\"colorbar\":{\"outlinewidth\":0,\"ticks\":\"\"}},\"type\":\"scatterpolargl\"}],\"scatterpolar\":[{\"marker\":{\"colorbar\":{\"outlinewidth\":0,\"ticks\":\"\"}},\"type\":\"scatterpolar\"}],\"scatter\":[{\"marker\":{\"colorbar\":{\"outlinewidth\":0,\"ticks\":\"\"}},\"type\":\"scatter\"}],\"scatterternary\":[{\"marker\":{\"colorbar\":{\"outlinewidth\":0,\"ticks\":\"\"}},\"type\":\"scatterternary\"}],\"surface\":[{\"colorbar\":{\"outlinewidth\":0,\"ticks\":\"\"},\"colorscale\":[[0.0,\"#0d0887\"],[0.1111111111111111,\"#46039f\"],[0.2222222222222222,\"#7201a8\"],[0.3333333333333333,\"#9c179e\"],[0.4444444444444444,\"#bd3786\"],[0.5555555555555556,\"#d8576b\"],[0.6666666666666666,\"#ed7953\"],[0.7777777777777778,\"#fb9f3a\"],[0.8888888888888888,\"#fdca26\"],[1.0,\"#f0f921\"]],\"type\":\"surface\"}],\"table\":[{\"cells\":{\"fill\":{\"color\":\"#EBF0F8\"},\"line\":{\"color\":\"white\"}},\"header\":{\"fill\":{\"color\":\"#C8D4E3\"},\"line\":{\"color\":\"white\"}},\"type\":\"table\"}]},\"layout\":{\"annotationdefaults\":{\"arrowcolor\":\"#2a3f5f\",\"arrowhead\":0,\"arrowwidth\":1},\"autotypenumbers\":\"strict\",\"coloraxis\":{\"colorbar\":{\"outlinewidth\":0,\"ticks\":\"\"}},\"colorscale\":{\"diverging\":[[0,\"#8e0152\"],[0.1,\"#c51b7d\"],[0.2,\"#de77ae\"],[0.3,\"#f1b6da\"],[0.4,\"#fde0ef\"],[0.5,\"#f7f7f7\"],[0.6,\"#e6f5d0\"],[0.7,\"#b8e186\"],[0.8,\"#7fbc41\"],[0.9,\"#4d9221\"],[1,\"#276419\"]],\"sequential\":[[0.0,\"#0d0887\"],[0.1111111111111111,\"#46039f\"],[0.2222222222222222,\"#7201a8\"],[0.3333333333333333,\"#9c179e\"],[0.4444444444444444,\"#bd3786\"],[0.5555555555555556,\"#d8576b\"],[0.6666666666666666,\"#ed7953\"],[0.7777777777777778,\"#fb9f3a\"],[0.8888888888888888,\"#fdca26\"],[1.0,\"#f0f921\"]],\"sequentialminus\":[[0.0,\"#0d0887\"],[0.1111111111111111,\"#46039f\"],[0.2222222222222222,\"#7201a8\"],[0.3333333333333333,\"#9c179e\"],[0.4444444444444444,\"#bd3786\"],[0.5555555555555556,\"#d8576b\"],[0.6666666666666666,\"#ed7953\"],[0.7777777777777778,\"#fb9f3a\"],[0.8888888888888888,\"#fdca26\"],[1.0,\"#f0f921\"]]},\"colorway\":[\"#636efa\",\"#EF553B\",\"#00cc96\",\"#ab63fa\",\"#FFA15A\",\"#19d3f3\",\"#FF6692\",\"#B6E880\",\"#FF97FF\",\"#FECB52\"],\"font\":{\"color\":\"#2a3f5f\"},\"geo\":{\"bgcolor\":\"white\",\"lakecolor\":\"white\",\"landcolor\":\"white\",\"showlakes\":true,\"showland\":true,\"subunitcolor\":\"#C8D4E3\"},\"hoverlabel\":{\"align\":\"left\"},\"hovermode\":\"closest\",\"mapbox\":{\"style\":\"light\"},\"paper_bgcolor\":\"white\",\"plot_bgcolor\":\"white\",\"polar\":{\"angularaxis\":{\"gridcolor\":\"#EBF0F8\",\"linecolor\":\"#EBF0F8\",\"ticks\":\"\"},\"bgcolor\":\"white\",\"radialaxis\":{\"gridcolor\":\"#EBF0F8\",\"linecolor\":\"#EBF0F8\",\"ticks\":\"\"}},\"scene\":{\"xaxis\":{\"backgroundcolor\":\"white\",\"gridcolor\":\"#DFE8F3\",\"gridwidth\":2,\"linecolor\":\"#EBF0F8\",\"showbackground\":true,\"ticks\":\"\",\"zerolinecolor\":\"#EBF0F8\"},\"yaxis\":{\"backgroundcolor\":\"white\",\"gridcolor\":\"#DFE8F3\",\"gridwidth\":2,\"linecolor\":\"#EBF0F8\",\"showbackground\":true,\"ticks\":\"\",\"zerolinecolor\":\"#EBF0F8\"},\"zaxis\":{\"backgroundcolor\":\"white\",\"gridcolor\":\"#DFE8F3\",\"gridwidth\":2,\"linecolor\":\"#EBF0F8\",\"showbackground\":true,\"ticks\":\"\",\"zerolinecolor\":\"#EBF0F8\"}},\"shapedefaults\":{\"line\":{\"color\":\"#2a3f5f\"}},\"ternary\":{\"aaxis\":{\"gridcolor\":\"#DFE8F3\",\"linecolor\":\"#A2B1C6\",\"ticks\":\"\"},\"baxis\":{\"gridcolor\":\"#DFE8F3\",\"linecolor\":\"#A2B1C6\",\"ticks\":\"\"},\"bgcolor\":\"white\",\"caxis\":{\"gridcolor\":\"#DFE8F3\",\"linecolor\":\"#A2B1C6\",\"ticks\":\"\"}},\"title\":{\"x\":0.05},\"xaxis\":{\"automargin\":true,\"gridcolor\":\"#EBF0F8\",\"linecolor\":\"#EBF0F8\",\"ticks\":\"\",\"title\":{\"standoff\":15},\"zerolinecolor\":\"#EBF0F8\",\"zerolinewidth\":2},\"yaxis\":{\"automargin\":true,\"gridcolor\":\"#EBF0F8\",\"linecolor\":\"#EBF0F8\",\"ticks\":\"\",\"title\":{\"standoff\":15},\"zerolinecolor\":\"#EBF0F8\",\"zerolinewidth\":2}}},\"xaxis\":{\"anchor\":\"y\",\"domain\":[0.0,1.0],\"title\":{\"text\":\"Minuten\"}},\"yaxis\":{\"anchor\":\"x\",\"domain\":[0.0,1.0],\"title\":{\"text\":\"Anzahl BEVs\"}},\"legend\":{\"tracegroupgap\":0},\"margin\":{\"t\":60},\"title\":{\"font\":{\"size\":24},\"text\":\"Anzahl wartender und ladender BEVs im Tagesverlauf\",\"x\":0.5,\"xanchor\":\"center\"}},                        {\"responsive\": true}                    ).then(function(){\n",
       "                            \n",
       "var gd = document.getElementById('51a6c37c-ac9d-4e5d-ac0d-59cab3060e06');\n",
       "var x = new MutationObserver(function (mutations, observer) {{\n",
       "        var display = window.getComputedStyle(gd).display;\n",
       "        if (!display || display === 'none') {{\n",
       "            console.log([gd, 'removed!']);\n",
       "            Plotly.purge(gd);\n",
       "            observer.disconnect();\n",
       "        }}\n",
       "}});\n",
       "\n",
       "// Listen for the removal of the full notebook cells\n",
       "var notebookContainer = gd.closest('#notebook-container');\n",
       "if (notebookContainer) {{\n",
       "    x.observe(notebookContainer, {childList: true});\n",
       "}}\n",
       "\n",
       "// Listen for the clearing of the current output cell\n",
       "var outputEl = gd.closest('.output');\n",
       "if (outputEl) {{\n",
       "    x.observe(outputEl, {childList: true});\n",
       "}}\n",
       "\n",
       "                        })                };                });            </script>        </div>"
      ]
     },
     "metadata": {},
     "output_type": "display_data"
    }
   ],
   "source": [
    "figureGeneration.create_bev_number_figure(simulation_data)"
   ]
  },
  {
   "cell_type": "code",
   "execution_count": 8,
   "metadata": {
    "pycharm": {
     "is_executing": true
    }
   },
   "outputs": [
    {
     "name": "stdout",
     "output_type": "stream",
     "text": [
      "START POST OPTIMIZATION\n",
      "{0: [(13.0, 3.0), 'nicht parkend', [(966, 0, 0)], [3.045]], 1: [(8.5, 4.7), 'nicht parkend', [(594.5035603980783, 20.911709170904828, 5.17)], [5.17]], 2: [(13.0, 3.0), 'nicht parkend', [], [3.045]], 3: [(8.0, 4.4), 'nicht parkend', [(480, 34.10256410256409, 4.5)], [4.5]], 4: [(8.5, 7.1), 'nicht parkend', [(598.1648936170212, 325.8351063829788, 6.049594680851239)], [7.792499999999999]], 5: [(8.5, 3.5), 'nicht parkend', [(613.8297618715344, 62.30705119544177, 3.6425000000000005)], [3.6425000000000005]], 6: [(8.5, 4.6), 'nicht parkend', [(606.6332547169811, 9.437103485210514, 5.17)], [5.17]], 7: [(8.5, 7.5), 'nicht parkend', [(644.5847304310169, 303.41526956898315, 1.4661888220316275)], [7.972499999999998]], 8: [(8.0, 5.8), 'nicht parkend', [(510, 39.91451612903222, 6.229999999999999)], [6.229999999999999]], 9: [(8.5, 7.4), 'nicht parkend', [(643.9296417978084, 292.07035820219164, 3.202058654321486)], [7.972499999999998]], 10: [(8.0, 3.9), 'nicht parkend', [(535.8974358974359, 21.599605522682396, 3.8225000000000007)], [3.8225000000000007]], 11: [(9.0, 4.4), 'nicht parkend', [], [5.19]], 12: [(9.0, 5.8), 'nicht parkend', [], [6.97]], 13: [(9.0, 7.0), 'nicht parkend', [(936, 18, 1.1026)], [7.727499999999999]], 14: [(12.5, 3.5), 'nicht parkend', [(954, 6, 0.3824000000000001)], [3.6525]], 15: [(8.5, 6.7), 'nicht parkend', [(703.8631869330238, 184.13681306697617, 2.8180926312500887)], [7.407499999999999]], 16: [(9.0, 5.0), 'nicht parkend', [], [5.805]], 17: [(13.0, 3.0), 'nicht parkend', [], [3.045]], 18: [(8.5, 4.0), 'nicht parkend', [], [4.32]], 19: [(9.0, 7.0), 'nicht parkend', [(954, 6, 0.3824000000000001)], [7.727499999999999]], 20: [(13.0, 3.0), 'nicht parkend', [], [3.045]], 21: [(13.0, 3.0), 'nicht parkend', [], [3.045]], 22: [(8.0, 6.5), 'nicht parkend', [(540, 15.261538461538521, 6.894999999999999)], [6.894999999999999]], 23: [(9.0, 3.1), 'nicht parkend', [], [3.7425000000000006]], 24: [(8.5, 7.4), 'nicht parkend', [(816, 120, 7.650000000000001)], [7.972499999999998]], 25: [(8.5, 4.1), 'nicht parkend', [], [4.6275]], 26: [(8.5, 6.6), 'nicht parkend', [], [7.407499999999999]], 27: [(9.0, 3.6), 'nicht parkend', [], [4.382500000000001]], 28: [(8.5, 5.3), 'nicht parkend', [], [6.049999999999999]], 29: [(9.0, 5.1), 'nicht parkend', [], [6.14]], 30: [(9.5, 4.2), 'nicht parkend', [], [5.145]], 31: [(9.0, 5.1), 'nicht parkend', [], [6.14]], 32: [(8.5, 3.7), 'nicht parkend', [], [3.9875000000000007]], 33: [(12.0, 3.4), 'nicht parkend', [], [3.9575]], 34: [(8.0, 4.6), 'nicht parkend', [(560.0854838709678, 15.410955730953901, 4.8075)], [4.8075]], 35: [(8.5, 6.8), 'nicht parkend', [(912, 0, 0.315)], [7.599999999999999]], 36: [(8.5, 6.6), 'nicht parkend', [], [7.407499999999999]], 37: [(8.5, 7.5), 'nicht parkend', [(918, 42, 1.8448000000000002)], [7.972499999999998]], 38: [(12.5, 3.5), 'nicht parkend', [(972, 0, 0)], [3.6525]], 39: [(8.0, 4.4), 'nicht parkend', [(570, 1.835106382978779, 4.5)], [4.5]], 40: [(13.0, 3.0), 'nicht parkend', [], [3.045]], 41: [(8.5, 6.3), 'nicht parkend', [], [7.214999999999999]], 42: [(8.5, 4.8), 'nicht parkend', [], [5.435]], 43: [(8.0, 3.3), 'nicht parkend', [(582.5029585798817, 3.667279548583906, 3.1425000000000005)], [3.1425000000000005]], 44: [(8.0, 5.6), 'nicht parkend', [(584.7384615384615, 219.26153846153852, 1.46170512820528)], [5.907499999999999]], 45: [(9.0, 6.7), 'nicht parkend', [], [7.547499999999999]], 46: [(9.0, 6.3), 'nicht parkend', [], [7.3549999999999995]], 47: [(9.0, 5.1), 'nicht parkend', [], [6.14]], 48: [(8.5, 5.7), 'nicht parkend', [], [6.384999999999999]], 49: [(8.0, 3.6), 'nicht parkend', [(585, 8.366745283018872, 3.4750000000000005)], [3.4750000000000005]]}\n",
      "Waiting BEV list:  []\n",
      "[960, 945, 930, 915, 900, 885, 870, 855, 840, 825, 810, 795, 780, 765, 750, 735, 720, 705, 690, 675, 660, 645, 630, 615, 600, 585, 570, 555, 540, 525, 510, 495, 480]\n",
      "\n",
      "\n",
      "Minute:  960\n",
      "Waiting BEVs (after updating new waiting BEVs):  [0, 2, 7, 13, 14, 17, 19, 20, 21, 37, 38, 40]\n",
      "Charging BEVs:  []\n",
      "Waiting BEVs:  [0, 2, 14, 17, 19, 20, 21, 37, 38, 40]\n",
      "CALCULATE NUMBER OF CHARGING STATIONS\n",
      "Number of charging stations:  1\n",
      "CALCULATE NUMBER OF CHARGING STATIONS\n",
      "Number of charging stations:  1\n",
      "NUMBER OF FREE CHARGING STATIONS:  1\n",
      "CALCULATE NUMBER OF CHARGING STATIONS\n",
      "Number of charging stations:  1\n",
      "AVAILABLE SOLAR POWER:  10.12\n",
      "Restladeenergie bis zur fairen Ladeenergie for BEV mit ID 0:  3.045\n",
      "Restladezeit:  18.05335968379447\n",
      "Charging BEVs:  [0]\n",
      "\n",
      "\n",
      "Minute:  945\n",
      "Waiting BEVs (after updating new waiting BEVs):  [2, 14, 17, 19, 20, 21, 37, 38, 40]\n",
      "Charging BEVs:  [0]\n",
      "Waiting BEVs:  [2, 14, 17, 19, 20, 21, 37, 38, 40]\n",
      "CALCULATE NUMBER OF CHARGING STATIONS\n",
      "Number of charging stations:  2\n",
      "CALCULATE NUMBER OF CHARGING STATIONS\n",
      "Number of charging stations:  2\n",
      "NUMBER OF FREE CHARGING STATIONS:  1\n",
      "CALCULATE NUMBER OF CHARGING STATIONS\n",
      "Number of charging stations:  2\n",
      "AVAILABLE SOLAR POWER:  12.38\n",
      "Restladeenergie bis zur fairen Ladeenergie for BEV mit ID 0:  2.5389999999999997\n",
      "Restladezeit:  24.61066235864297\n",
      "AVAILABLE SOLAR POWER:  12.38\n",
      "Restladeenergie bis zur fairen Ladeenergie for BEV mit ID 2:  3.045\n",
      "Restladezeit:  29.515347334410336\n",
      "Charging BEVs:  [0, 2]\n",
      "\n",
      "\n",
      "Minute:  930\n",
      "Waiting BEVs (after updating new waiting BEVs):  [14, 17, 19, 20, 21, 37, 38, 40]\n",
      "Charging BEVs:  [0, 2]\n",
      "Waiting BEVs:  [14, 17, 19, 20, 21, 37, 38, 40]\n",
      "CALCULATE NUMBER OF CHARGING STATIONS\n",
      "Number of charging stations:  2\n",
      "CALCULATE NUMBER OF CHARGING STATIONS\n",
      "Number of charging stations:  2\n",
      "AVAILABLE SOLAR POWER:  14.62\n",
      "Restladeenergie bis zur fairen Ladeenergie for BEV mit ID 0:  1.92\n",
      "Restladezeit:  15.75923392612859\n",
      "AVAILABLE SOLAR POWER:  14.62\n",
      "Restladeenergie bis zur fairen Ladeenergie for BEV mit ID 2:  2.426\n",
      "Restladezeit:  19.912448700410398\n",
      "Charging BEVs:  [0, 2]\n",
      "\n",
      "\n",
      "Minute:  915\n",
      "Waiting BEVs (after updating new waiting BEVs):  [14, 17, 19, 20, 21, 37, 38, 40]\n",
      "Charging BEVs:  [0, 2]\n",
      "Waiting BEVs:  [14, 17, 19, 20, 21, 37, 38, 40]\n",
      "CALCULATE NUMBER OF CHARGING STATIONS\n",
      "Number of charging stations:  2\n",
      "CALCULATE NUMBER OF CHARGING STATIONS\n",
      "Number of charging stations:  2\n",
      "AVAILABLE SOLAR POWER:  16.88\n",
      "Restladeenergie bis zur fairen Ladeenergie for BEV mit ID 0:  1.189\n",
      "Restladezeit:  8.452606635071092\n",
      "Die Restladezeit des BEVS 0 endet vor dem nächsten Interval\n",
      "Ausgewähltes BEV das frei gewordenen Platz belegen darf:  14\n",
      "Ladestart für ausgewähltes BEV:  923.4526066350711\n",
      "8.44 CHARGING POWER WIRD FÜR NEUES BEV 14 GESPEICHERT: \n",
      "ZEITPUNKT FÜR DAS ES GESPEICHERT WIRD:  923.4526066350711\n",
      "AVAILABLE SOLAR POWER:  16.88\n",
      "Restladeenergie bis zur fairen Ladeenergie for BEV mit ID 2:  1.6949999999999998\n",
      "Restladezeit:  12.049763033175356\n",
      "Die Restladezeit des BEVS 2 endet vor dem nächsten Interval\n",
      "Ausgewähltes BEV das frei gewordenen Platz belegen darf:  17\n",
      "Ladestart für ausgewähltes BEV:  927.0497630331754\n",
      "8.44 CHARGING POWER WIRD FÜR NEUES BEV 17 GESPEICHERT: \n",
      "ZEITPUNKT FÜR DAS ES GESPEICHERT WIRD:  927.0497630331754\n",
      "Charging BEVs:  [0, 2]\n",
      "\n",
      "\n",
      "Minute:  900\n",
      "Waiting BEVs (after updating new waiting BEVs):  [19, 20, 21, 37, 38, 40]\n",
      "Charging BEVs:  [14, 17]\n",
      "Waiting BEVs:  [19, 20, 21, 37, 38, 40]\n",
      "CALCULATE NUMBER OF CHARGING STATIONS\n",
      "Number of charging stations:  2\n",
      "CALCULATE NUMBER OF CHARGING STATIONS\n",
      "Number of charging stations:  2\n",
      "AVAILABLE SOLAR POWER:  21.0\n",
      "Restladeenergie bis zur fairen Ladeenergie for BEV mit ID 14:  3.284100000000001\n",
      "Restladezeit:  18.76628571428572\n",
      "AVAILABLE SOLAR POWER:  21.0\n",
      "Restladeenergie bis zur fairen Ladeenergie for BEV mit ID 17:  2.8790000000000022\n",
      "Restladezeit:  16.451428571428586\n",
      "Charging BEVs:  [14, 17]\n",
      "\n",
      "\n",
      "Minute:  885\n",
      "Waiting BEVs (after updating new waiting BEVs):  [19, 20, 21, 37, 38, 40]\n",
      "Charging BEVs:  [14, 17]\n",
      "Waiting BEVs:  [19, 20, 21, 37, 38, 40]\n",
      "CALCULATE NUMBER OF CHARGING STATIONS\n",
      "Number of charging stations:  3\n",
      "CALCULATE NUMBER OF CHARGING STATIONS\n",
      "Number of charging stations:  3\n",
      "NUMBER OF FREE CHARGING STATIONS:  1\n",
      "CALCULATE NUMBER OF CHARGING STATIONS\n",
      "Number of charging stations:  3\n",
      "AVAILABLE SOLAR POWER:  27.0\n",
      "Restladeenergie bis zur fairen Ladeenergie for BEV mit ID 14:  2.8257824644549783\n",
      "Restladezeit:  18.83854976303319\n",
      "AVAILABLE SOLAR POWER:  27.0\n",
      "Restladeenergie bis zur fairen Ladeenergie for BEV mit ID 17:  2.67248341232228\n",
      "Restladezeit:  17.816556082148534\n",
      "AVAILABLE SOLAR POWER:  27.0\n",
      "Restladeenergie bis zur fairen Ladeenergie for BEV mit ID 19:  7.727499999999999\n",
      "Restladezeit:  51.51666666666666\n",
      "Charging BEVs:  [14, 17, 19]\n",
      "\n",
      "\n",
      "Minute:  870\n",
      "Waiting BEVs (after updating new waiting BEVs):  [20, 21, 37, 38, 40, 22]\n",
      "Charging BEVs:  [14, 17, 19]\n",
      "Waiting BEVs:  [20, 21, 37, 38, 40, 22]\n",
      "CALCULATE NUMBER OF CHARGING STATIONS\n",
      "Number of charging stations:  3\n",
      "CALCULATE NUMBER OF CHARGING STATIONS\n",
      "Number of charging stations:  3\n",
      "AVAILABLE SOLAR POWER:  33.0\n",
      "Restladeenergie bis zur fairen Ladeenergie for BEV mit ID 14:  2.236517061611378\n",
      "Restladezeit:  12.199183972425697\n",
      "Die Restladezeit des BEVS 14 endet vor dem nächsten Interval\n",
      "Ausgewähltes BEV das frei gewordenen Platz belegen darf:  20\n",
      "Ladestart für ausgewähltes BEV:  882.1991839724257\n",
      "11.0 CHARGING POWER WIRD FÜR NEUES BEV 20 GESPEICHERT: \n",
      "ZEITPUNKT FÜR DAS ES GESPEICHERT WIRD:  882.1991839724257\n",
      "AVAILABLE SOLAR POWER:  33.0\n",
      "Restladeenergie bis zur fairen Ladeenergie for BEV mit ID 17:  2.4069620853080655\n",
      "Restladezeit:  13.128884101680358\n",
      "Die Restladezeit des BEVS 17 endet vor dem nächsten Interval\n",
      "Ausgewähltes BEV das frei gewordenen Platz belegen darf:  21\n",
      "Ladestart für ausgewähltes BEV:  883.1288841016803\n",
      "11.0 CHARGING POWER WIRD FÜR NEUES BEV 21 GESPEICHERT: \n",
      "ZEITPUNKT FÜR DAS ES GESPEICHERT WIRD:  883.1288841016803\n",
      "AVAILABLE SOLAR POWER:  33.0\n",
      "Restladeenergie bis zur fairen Ladeenergie for BEV mit ID 19:  6.3774999999999995\n",
      "Restladezeit:  34.78636363636363\n",
      "Charging BEVs:  [14, 17, 19]\n",
      "\n",
      "\n",
      "Minute:  855\n",
      "Waiting BEVs (after updating new waiting BEVs):  [37, 38, 40, 22]\n",
      "Charging BEVs:  [19, 20, 21]\n",
      "Waiting BEVs:  [37, 38, 40, 22]\n",
      "CALCULATE NUMBER OF CHARGING STATIONS\n",
      "Number of charging stations:  4\n",
      "CALCULATE NUMBER OF CHARGING STATIONS\n",
      "Number of charging stations:  4\n",
      "NUMBER OF FREE CHARGING STATIONS:  1\n",
      "CALCULATE NUMBER OF CHARGING STATIONS\n",
      "Number of charging stations:  4\n"
     ]
    },
    {
     "name": "stdout",
     "output_type": "stream",
     "text": [
      "AVAILABLE SOLAR POWER:  39.0\n",
      "Restladeenergie bis zur fairen Ladeenergie for BEV mit ID 19:  4.727499999999999\n",
      "Restladezeit:  29.092307692307685\n",
      "AVAILABLE SOLAR POWER:  39.0\n",
      "Restladeenergie bis zur fairen Ladeenergie for BEV mit ID 20:  2.736910236966822\n",
      "Restladezeit:  16.842524535180445\n",
      "AVAILABLE SOLAR POWER:  39.0\n",
      "Restladeenergie bis zur fairen Ladeenergie for BEV mit ID 21:  2.8391772511848377\n",
      "Restladezeit:  17.47186000729131\n",
      "AVAILABLE SOLAR POWER:  39.0\n",
      "Restladeenergie bis zur fairen Ladeenergie for BEV mit ID 37:  7.972499999999998\n",
      "Restladezeit:  49.06153846153845\n",
      "Charging BEVs:  [19, 20, 21, 37]\n",
      "\n",
      "\n",
      "Minute:  840\n",
      "Waiting BEVs (after updating new waiting BEVs):  [38, 40, 22, 16]\n",
      "Charging BEVs:  [19, 20, 21, 37]\n",
      "Waiting BEVs:  [38, 40, 22, 16]\n",
      "CALCULATE NUMBER OF CHARGING STATIONS\n",
      "Number of charging stations:  4\n",
      "CALCULATE NUMBER OF CHARGING STATIONS\n",
      "Number of charging stations:  4\n",
      "AVAILABLE SOLAR POWER:  41.25\n",
      "Restladeenergie bis zur fairen Ladeenergie for BEV mit ID 19:  2.777499999999999\n",
      "Restladezeit:  16.159999999999997\n",
      "AVAILABLE SOLAR POWER:  41.25\n",
      "Restladeenergie bis zur fairen Ladeenergie for BEV mit ID 20:  2.372804153382158\n",
      "Restladezeit:  13.805405983314373\n",
      "Die Restladezeit des BEVS 20 endet vor dem nächsten Interval\n",
      "Ausgewähltes BEV das frei gewordenen Platz belegen darf:  38\n",
      "Ladestart für ausgewähltes BEV:  853.8054059833144\n",
      "10.3125 CHARGING POWER WIRD FÜR NEUES BEV 38 GESPEICHERT: \n",
      "ZEITPUNKT FÜR DAS ES GESPEICHERT WIRD:  853.8054059833144\n",
      "AVAILABLE SOLAR POWER:  41.25\n",
      "Restladeenergie bis zur fairen Ladeenergie for BEV mit ID 21:  2.595932184403282\n",
      "Restladezeit:  15.103605436528188\n",
      "AVAILABLE SOLAR POWER:  41.25\n",
      "Restladeenergie bis zur fairen Ladeenergie for BEV mit ID 37:  6.022499999999998\n",
      "Restladezeit:  35.03999999999999\n",
      "Charging BEVs:  [19, 20, 21, 37]\n",
      "\n",
      "\n",
      "Minute:  825\n",
      "Waiting BEVs (after updating new waiting BEVs):  [40, 22, 16]\n",
      "Charging BEVs:  [19, 21, 37, 38]\n",
      "Waiting BEVs:  [40, 22, 16]\n",
      "CALCULATE NUMBER OF CHARGING STATIONS\n",
      "Number of charging stations:  4\n",
      "CALCULATE NUMBER OF CHARGING STATIONS\n",
      "Number of charging stations:  4\n",
      "AVAILABLE SOLAR POWER:  39.75\n",
      "Restladeenergie bis zur fairen Ladeenergie for BEV mit ID 19:  0.714999999999999\n",
      "Restladezeit:  4.316981132075465\n",
      "Die Restladezeit des BEVS 19 endet vor dem nächsten Interval\n",
      "Ausgewähltes BEV das frei gewordenen Platz belegen darf:  40\n",
      "Ladestart für ausgewähltes BEV:  829.3169811320755\n",
      "9.9375 CHARGING POWER WIRD FÜR NEUES BEV 40 GESPEICHERT: \n",
      "ZEITPUNKT FÜR DAS ES GESPEICHERT WIRD:  829.3169811320755\n",
      "AVAILABLE SOLAR POWER:  39.75\n",
      "Restladeenergie bis zur fairen Ladeenergie for BEV mit ID 21:  2.338653748384329\n",
      "Restladezeit:  14.120173575150666\n",
      "Die Restladezeit des BEVS 21 endet vor dem nächsten Interval\n",
      "Ausgewähltes BEV das frei gewordenen Platz belegen darf:  22\n",
      "Ladestart für ausgewähltes BEV:  839.1201735751507\n",
      "9.9375 CHARGING POWER WIRD FÜR NEUES BEV 22 GESPEICHERT: \n",
      "ZEITPUNKT FÜR DAS ES GESPEICHERT WIRD:  839.1201735751507\n",
      "AVAILABLE SOLAR POWER:  39.75\n",
      "Restladeenergie bis zur fairen Ladeenergie for BEV mit ID 37:  3.959999999999998\n",
      "Restladezeit:  23.909433962264142\n",
      "AVAILABLE SOLAR POWER:  39.75\n",
      "Restladeenergie bis zur fairen Ladeenergie for BEV mit ID 38:  3.488243322705724\n",
      "Restladezeit:  21.061091759732673\n",
      "Charging BEVs:  [19, 21, 37, 38]\n",
      "\n",
      "\n",
      "Minute:  810\n",
      "Waiting BEVs (after updating new waiting BEVs):  [16]\n",
      "Charging BEVs:  [37, 38, 40, 22]\n",
      "Waiting BEVs:  [16]\n",
      "CALCULATE NUMBER OF CHARGING STATIONS\n",
      "Number of charging stations:  4\n",
      "CALCULATE NUMBER OF CHARGING STATIONS\n",
      "Number of charging stations:  4\n",
      "AVAILABLE SOLAR POWER:  38.25\n",
      "Restladeenergie bis zur fairen Ladeenergie for BEV mit ID 37:  1.9724999999999984\n",
      "Restladezeit:  12.376470588235284\n",
      "Die Restladezeit des BEVS 37 endet vor dem nächsten Interval\n",
      "Ausgewähltes BEV das frei gewordenen Platz belegen darf:  16\n",
      "Ladestart für ausgewähltes BEV:  822.3764705882353\n",
      "9.5625 CHARGING POWER WIRD FÜR NEUES BEV 16 GESPEICHERT: \n",
      "ZEITPUNKT FÜR DAS ES GESPEICHERT WIRD:  822.3764705882353\n",
      "AVAILABLE SOLAR POWER:  38.25\n",
      "Restladeenergie bis zur fairen Ladeenergie for BEV mit ID 38:  3.3299596154948765\n",
      "Restladezeit:  20.8938642540855\n",
      "AVAILABLE SOLAR POWER:  38.25\n",
      "Restladeenergie bis zur fairen Ladeenergie for BEV mit ID 40:  1.629500000000005\n",
      "Restladezeit:  10.224313725490228\n",
      "Die Restladezeit des BEVS 40 endet vor dem nächsten Interval\n",
      "Ausgewähltes BEV das frei gewordenen Platz belegen darf:  None\n",
      "AVAILABLE SOLAR POWER:  38.25\n",
      "Restladeenergie bis zur fairen Ladeenergie for BEV mit ID 22:  6.371047998707468\n",
      "Restladezeit:  39.9752031291449\n",
      "Charging BEVs:  [37, 38, 40, 22]\n",
      "\n",
      "\n",
      "Minute:  795\n",
      "Waiting BEVs (after updating new waiting BEVs):  []\n",
      "Charging BEVs:  [38, 22, 16]\n",
      "Waiting BEVs:  []\n",
      "CALCULATE NUMBER OF CHARGING STATIONS\n",
      "Number of charging stations:  4\n",
      "CALCULATE NUMBER OF CHARGING STATIONS\n",
      "Number of charging stations:  4\n",
      "NUMBER OF FREE CHARGING STATIONS:  1\n",
      "CALCULATE NUMBER OF CHARGING STATIONS\n",
      "Number of charging stations:  4\n",
      "CALCULATE NUMBER OF CHARGING STATIONS\n",
      "Number of charging stations:  4\n",
      "AVAILABLE SOLAR POWER:  36.75\n",
      "Restladeenergie bis zur fairen Ladeenergie for BEV mit ID 38:  2.770273878367456\n",
      "Restladezeit:  13.568688383840602\n",
      "Die Restladezeit des BEVS 38 endet vor dem nächsten Interval\n",
      "Ausgewähltes BEV das frei gewordenen Platz belegen darf:  None\n",
      "AVAILABLE SOLAR POWER:  36.75\n",
      "Restladeenergie bis zur fairen Ladeenergie for BEV mit ID 22:  5.3354455034166985\n",
      "Restladezeit:  26.13279430244914\n",
      "AVAILABLE SOLAR POWER:  36.75\n",
      "Restladeenergie bis zur fairen Ladeenergie for BEV mit ID 16:  4.547075373877514\n",
      "Restladezeit:  22.271389586338845\n",
      "Charging BEVs:  [38, 22, 16]\n",
      "\n",
      "\n",
      "Minute:  780\n",
      "Waiting BEVs (after updating new waiting BEVs):  []\n",
      "Charging BEVs:  [22, 16]\n",
      "Waiting BEVs:  []\n",
      "CALCULATE NUMBER OF CHARGING STATIONS\n",
      "Number of charging stations:  4\n",
      "CALCULATE NUMBER OF CHARGING STATIONS\n",
      "Number of charging stations:  4\n",
      "NUMBER OF FREE CHARGING STATIONS:  2\n",
      "CALCULATE NUMBER OF CHARGING STATIONS\n",
      "Number of charging stations:  4\n",
      "CALCULATE NUMBER OF CHARGING STATIONS\n",
      "Number of charging stations:  4\n",
      "AVAILABLE SOLAR POWER:  38.38\n",
      "Restladeenergie bis zur fairen Ladeenergie for BEV mit ID 22:  5.227666766372661\n",
      "Restladezeit:  16.344971650982785\n",
      "AVAILABLE SOLAR POWER:  38.38\n",
      "Restladeenergie bis zur fairen Ladeenergie for BEV mit ID 16:  4.225693020936338\n",
      "Restladezeit:  13.212172030025025\n",
      "Die Restladezeit des BEVS 16 endet vor dem nächsten Interval\n",
      "Ausgewähltes BEV das frei gewordenen Platz belegen darf:  None\n",
      "Charging BEVs:  [22, 16]\n",
      "\n",
      "\n",
      "Minute:  765\n",
      "Waiting BEVs (after updating new waiting BEVs):  []\n",
      "Charging BEVs:  [22]\n",
      "Waiting BEVs:  []\n",
      "CALCULATE NUMBER OF CHARGING STATIONS\n",
      "Number of charging stations:  4\n",
      "CALCULATE NUMBER OF CHARGING STATIONS\n",
      "Number of charging stations:  4\n",
      "NUMBER OF FREE CHARGING STATIONS:  3\n",
      "CALCULATE NUMBER OF CHARGING STATIONS\n",
      "Number of charging stations:  4\n",
      "CALCULATE NUMBER OF CHARGING STATIONS\n",
      "Number of charging stations:  4\n",
      "AVAILABLE SOLAR POWER:  43.12\n",
      "Restladeenergie bis zur fairen Ladeenergie for BEV mit ID 22:  3.0022611286187737\n",
      "Restladezeit:  4.177543314404602\n",
      "Die Restladezeit des BEVS 22 endet vor dem nächsten Interval\n",
      "Ausgewähltes BEV das frei gewordenen Platz belegen darf:  None\n",
      "Charging BEVs:  [22]\n",
      "\n",
      "\n",
      "Minute:  750\n",
      "Waiting BEVs (after updating new waiting BEVs):  [18]\n",
      "Charging BEVs:  []\n",
      "Waiting BEVs:  [18]\n",
      "CALCULATE NUMBER OF CHARGING STATIONS\n",
      "Number of charging stations:  5\n",
      "CALCULATE NUMBER OF CHARGING STATIONS\n",
      "Number of charging stations:  5\n",
      "NUMBER OF FREE CHARGING STATIONS:  5\n",
      "CALCULATE NUMBER OF CHARGING STATIONS\n",
      "Number of charging stations:  5\n",
      "CALCULATE NUMBER OF CHARGING STATIONS\n",
      "Number of charging stations:  5\n",
      "AVAILABLE SOLAR POWER:  47.88\n",
      "Restladeenergie bis zur fairen Ladeenergie for BEV mit ID 18:  4.32\n",
      "Restladezeit:  5.413533834586466\n",
      "Die Restladezeit des BEVS 18 endet vor dem nächsten Interval\n",
      "Ausgewähltes BEV das frei gewordenen Platz belegen darf:  None\n",
      "Charging BEVs:  [18]\n",
      "\n",
      "\n",
      "Minute:  735\n",
      "Waiting BEVs (after updating new waiting BEVs):  []\n",
      "Charging BEVs:  []\n",
      "Waiting BEVs:  []\n",
      "CALCULATE NUMBER OF CHARGING STATIONS\n",
      "Number of charging stations:  5\n",
      "CALCULATE NUMBER OF CHARGING STATIONS\n",
      "Number of charging stations:  5\n",
      "NUMBER OF FREE CHARGING STATIONS:  5\n",
      "CALCULATE NUMBER OF CHARGING STATIONS\n",
      "Number of charging stations:  5\n",
      "CALCULATE NUMBER OF CHARGING STATIONS\n",
      "Number of charging stations:  5\n",
      "Charging BEVs:  []\n",
      "\n",
      "\n",
      "Minute:  720\n",
      "Waiting BEVs (after updating new waiting BEVs):  [5]\n",
      "Charging BEVs:  []\n",
      "Waiting BEVs:  [5]\n"
     ]
    },
    {
     "name": "stdout",
     "output_type": "stream",
     "text": [
      "CALCULATE NUMBER OF CHARGING STATIONS\n",
      "Number of charging stations:  5\n",
      "CALCULATE NUMBER OF CHARGING STATIONS\n",
      "Number of charging stations:  5\n",
      "NUMBER OF FREE CHARGING STATIONS:  5\n",
      "CALCULATE NUMBER OF CHARGING STATIONS\n",
      "Number of charging stations:  5\n",
      "CALCULATE NUMBER OF CHARGING STATIONS\n",
      "Number of charging stations:  5\n",
      "AVAILABLE SOLAR POWER:  54.38\n",
      "Restladeenergie bis zur fairen Ladeenergie for BEV mit ID 5:  3.6425000000000005\n",
      "Restladezeit:  4.018940787054064\n",
      "Die Restladezeit des BEVS 5 endet vor dem nächsten Interval\n",
      "Ausgewähltes BEV das frei gewordenen Platz belegen darf:  None\n",
      "Charging BEVs:  [5]\n",
      "\n",
      "\n",
      "Minute:  705\n",
      "Waiting BEVs (after updating new waiting BEVs):  []\n",
      "Charging BEVs:  []\n",
      "Waiting BEVs:  []\n",
      "CALCULATE NUMBER OF CHARGING STATIONS\n",
      "Number of charging stations:  5\n",
      "CALCULATE NUMBER OF CHARGING STATIONS\n",
      "Number of charging stations:  5\n",
      "NUMBER OF FREE CHARGING STATIONS:  5\n",
      "CALCULATE NUMBER OF CHARGING STATIONS\n",
      "Number of charging stations:  5\n",
      "CALCULATE NUMBER OF CHARGING STATIONS\n",
      "Number of charging stations:  5\n",
      "Charging BEVs:  []\n",
      "\n",
      "\n",
      "Minute:  690\n",
      "Waiting BEVs (after updating new waiting BEVs):  []\n",
      "Charging BEVs:  []\n",
      "Waiting BEVs:  []\n",
      "CALCULATE NUMBER OF CHARGING STATIONS\n",
      "Number of charging stations:  5\n",
      "CALCULATE NUMBER OF CHARGING STATIONS\n",
      "Number of charging stations:  5\n",
      "NUMBER OF FREE CHARGING STATIONS:  5\n",
      "CALCULATE NUMBER OF CHARGING STATIONS\n",
      "Number of charging stations:  5\n",
      "CALCULATE NUMBER OF CHARGING STATIONS\n",
      "Number of charging stations:  5\n",
      "Charging BEVs:  []\n",
      "\n",
      "\n",
      "Minute:  675\n",
      "Waiting BEVs (after updating new waiting BEVs):  []\n",
      "Charging BEVs:  []\n",
      "Waiting BEVs:  []\n",
      "CALCULATE NUMBER OF CHARGING STATIONS\n",
      "Number of charging stations:  5\n",
      "CALCULATE NUMBER OF CHARGING STATIONS\n",
      "Number of charging stations:  5\n",
      "NUMBER OF FREE CHARGING STATIONS:  5\n",
      "CALCULATE NUMBER OF CHARGING STATIONS\n",
      "Number of charging stations:  5\n",
      "CALCULATE NUMBER OF CHARGING STATIONS\n",
      "Number of charging stations:  5\n",
      "Charging BEVs:  []\n",
      "\n",
      "\n",
      "Minute:  660\n",
      "Waiting BEVs (after updating new waiting BEVs):  []\n",
      "Charging BEVs:  []\n",
      "Waiting BEVs:  []\n",
      "CALCULATE NUMBER OF CHARGING STATIONS\n",
      "Number of charging stations:  5\n",
      "CALCULATE NUMBER OF CHARGING STATIONS\n",
      "Number of charging stations:  5\n",
      "NUMBER OF FREE CHARGING STATIONS:  5\n",
      "CALCULATE NUMBER OF CHARGING STATIONS\n",
      "Number of charging stations:  5\n",
      "CALCULATE NUMBER OF CHARGING STATIONS\n",
      "Number of charging stations:  5\n",
      "Charging BEVs:  []\n",
      "\n",
      "\n",
      "Minute:  645\n",
      "Waiting BEVs (after updating new waiting BEVs):  []\n",
      "Charging BEVs:  []\n",
      "Waiting BEVs:  []\n",
      "CALCULATE NUMBER OF CHARGING STATIONS\n",
      "Number of charging stations:  5\n",
      "CALCULATE NUMBER OF CHARGING STATIONS\n",
      "Number of charging stations:  5\n",
      "NUMBER OF FREE CHARGING STATIONS:  5\n",
      "CALCULATE NUMBER OF CHARGING STATIONS\n",
      "Number of charging stations:  5\n",
      "CALCULATE NUMBER OF CHARGING STATIONS\n",
      "Number of charging stations:  5\n",
      "Charging BEVs:  []\n",
      "\n",
      "\n",
      "Minute:  630\n",
      "Waiting BEVs (after updating new waiting BEVs):  []\n",
      "Charging BEVs:  []\n",
      "Waiting BEVs:  []\n",
      "CALCULATE NUMBER OF CHARGING STATIONS\n",
      "Number of charging stations:  5\n",
      "CALCULATE NUMBER OF CHARGING STATIONS\n",
      "Number of charging stations:  5\n",
      "NUMBER OF FREE CHARGING STATIONS:  5\n",
      "CALCULATE NUMBER OF CHARGING STATIONS\n",
      "Number of charging stations:  5\n",
      "CALCULATE NUMBER OF CHARGING STATIONS\n",
      "Number of charging stations:  5\n",
      "Charging BEVs:  []\n",
      "\n",
      "\n",
      "Minute:  615\n",
      "Waiting BEVs (after updating new waiting BEVs):  []\n",
      "Charging BEVs:  []\n",
      "Waiting BEVs:  []\n",
      "CALCULATE NUMBER OF CHARGING STATIONS\n",
      "Number of charging stations:  5\n",
      "CALCULATE NUMBER OF CHARGING STATIONS\n",
      "Number of charging stations:  5\n",
      "NUMBER OF FREE CHARGING STATIONS:  5\n",
      "CALCULATE NUMBER OF CHARGING STATIONS\n",
      "Number of charging stations:  5\n",
      "CALCULATE NUMBER OF CHARGING STATIONS\n",
      "Number of charging stations:  5\n",
      "Charging BEVs:  []\n",
      "\n",
      "\n",
      "Minute:  600\n",
      "Waiting BEVs (after updating new waiting BEVs):  []\n",
      "Charging BEVs:  []\n",
      "Waiting BEVs:  []\n",
      "CALCULATE NUMBER OF CHARGING STATIONS\n",
      "Number of charging stations:  5\n",
      "CALCULATE NUMBER OF CHARGING STATIONS\n",
      "Number of charging stations:  5\n",
      "NUMBER OF FREE CHARGING STATIONS:  5\n",
      "CALCULATE NUMBER OF CHARGING STATIONS\n",
      "Number of charging stations:  5\n",
      "CALCULATE NUMBER OF CHARGING STATIONS\n",
      "Number of charging stations:  5\n",
      "Charging BEVs:  []\n",
      "\n",
      "\n",
      "Minute:  585\n",
      "Waiting BEVs (after updating new waiting BEVs):  []\n",
      "Charging BEVs:  []\n",
      "Waiting BEVs:  []\n",
      "CALCULATE NUMBER OF CHARGING STATIONS\n",
      "Number of charging stations:  4\n",
      "CALCULATE NUMBER OF CHARGING STATIONS\n",
      "Number of charging stations:  4\n",
      "NUMBER OF FREE CHARGING STATIONS:  4\n",
      "CALCULATE NUMBER OF CHARGING STATIONS\n",
      "Number of charging stations:  4\n",
      "CALCULATE NUMBER OF CHARGING STATIONS\n",
      "Number of charging stations:  4\n",
      "Charging BEVs:  []\n",
      "\n",
      "\n",
      "Minute:  570\n",
      "Waiting BEVs (after updating new waiting BEVs):  []\n",
      "Charging BEVs:  []\n",
      "Waiting BEVs:  []\n",
      "CALCULATE NUMBER OF CHARGING STATIONS\n",
      "Number of charging stations:  3\n",
      "CALCULATE NUMBER OF CHARGING STATIONS\n",
      "Number of charging stations:  3\n",
      "NUMBER OF FREE CHARGING STATIONS:  3\n",
      "CALCULATE NUMBER OF CHARGING STATIONS\n",
      "Number of charging stations:  3\n",
      "CALCULATE NUMBER OF CHARGING STATIONS\n",
      "Number of charging stations:  3\n",
      "Charging BEVs:  []\n",
      "\n",
      "\n",
      "Minute:  555\n",
      "Waiting BEVs (after updating new waiting BEVs):  []\n",
      "Charging BEVs:  []\n",
      "Waiting BEVs:  []\n",
      "CALCULATE NUMBER OF CHARGING STATIONS\n",
      "Number of charging stations:  3\n",
      "CALCULATE NUMBER OF CHARGING STATIONS\n",
      "Number of charging stations:  3\n",
      "NUMBER OF FREE CHARGING STATIONS:  3\n",
      "CALCULATE NUMBER OF CHARGING STATIONS\n",
      "Number of charging stations:  3\n",
      "CALCULATE NUMBER OF CHARGING STATIONS\n",
      "Number of charging stations:  3\n",
      "Charging BEVs:  []\n",
      "\n",
      "\n",
      "Minute:  540\n",
      "Waiting BEVs (after updating new waiting BEVs):  []\n",
      "Charging BEVs:  []\n",
      "Waiting BEVs:  []\n",
      "CALCULATE NUMBER OF CHARGING STATIONS\n",
      "Number of charging stations:  2\n",
      "CALCULATE NUMBER OF CHARGING STATIONS\n",
      "Number of charging stations:  2\n",
      "NUMBER OF FREE CHARGING STATIONS:  2\n",
      "CALCULATE NUMBER OF CHARGING STATIONS\n",
      "Number of charging stations:  2\n",
      "CALCULATE NUMBER OF CHARGING STATIONS\n",
      "Number of charging stations:  2\n",
      "Charging BEVs:  []\n",
      "\n",
      "\n",
      "Minute:  525\n",
      "Waiting BEVs (after updating new waiting BEVs):  []\n",
      "Charging BEVs:  []\n",
      "Waiting BEVs:  []\n",
      "CALCULATE NUMBER OF CHARGING STATIONS\n",
      "Number of charging stations:  2\n",
      "CALCULATE NUMBER OF CHARGING STATIONS\n",
      "Number of charging stations:  2\n",
      "NUMBER OF FREE CHARGING STATIONS:  2\n",
      "CALCULATE NUMBER OF CHARGING STATIONS\n",
      "Number of charging stations:  2\n",
      "CALCULATE NUMBER OF CHARGING STATIONS\n",
      "Number of charging stations:  2\n",
      "Charging BEVs:  []\n",
      "\n",
      "\n",
      "Minute:  510\n",
      "Waiting BEVs (after updating new waiting BEVs):  []\n",
      "Charging BEVs:  []\n",
      "Waiting BEVs:  []\n",
      "CALCULATE NUMBER OF CHARGING STATIONS\n",
      "Number of charging stations:  1\n",
      "CALCULATE NUMBER OF CHARGING STATIONS\n",
      "Number of charging stations:  1\n",
      "NUMBER OF FREE CHARGING STATIONS:  1\n",
      "CALCULATE NUMBER OF CHARGING STATIONS\n",
      "Number of charging stations:  1\n",
      "CALCULATE NUMBER OF CHARGING STATIONS\n",
      "Number of charging stations:  1\n",
      "Charging BEVs:  []\n",
      "\n",
      "\n",
      "Minute:  495\n",
      "Waiting BEVs (after updating new waiting BEVs):  []\n",
      "Charging BEVs:  []\n",
      "Waiting BEVs:  []\n",
      "CALCULATE NUMBER OF CHARGING STATIONS\n",
      "Number of charging stations:  1\n",
      "CALCULATE NUMBER OF CHARGING STATIONS\n",
      "Number of charging stations:  1\n",
      "NUMBER OF FREE CHARGING STATIONS:  1\n",
      "CALCULATE NUMBER OF CHARGING STATIONS\n",
      "Number of charging stations:  1\n",
      "CALCULATE NUMBER OF CHARGING STATIONS\n",
      "Number of charging stations:  1\n",
      "Charging BEVs:  []\n",
      "\n",
      "\n",
      "Minute:  480\n",
      "Waiting BEVs (after updating new waiting BEVs):  []\n",
      "Charging BEVs:  []\n",
      "Waiting BEVs:  []\n",
      "CALCULATE NUMBER OF CHARGING STATIONS\n",
      "Number of charging stations:  0\n",
      "CALCULATE NUMBER OF CHARGING STATIONS\n",
      "Number of charging stations:  0\n",
      "Charging BEVs:  []\n",
      "OPTIMIZATION DONE\n",
      "BEVs dict:  {0: [(13.0, 3.0), 'wartend', [(966, 0, 0), (960, -53.452606635071106, 3.045)], [3.045]], 1: [(8.5, 4.7), 'nicht parkend', [(594.5035603980783, 20.911709170904828, 5.17)], [5.17]], 2: [(13.0, 3.0), 'wartend', [(945, -42.049763033175395, 3.045)], [3.045]], 3: [(8.0, 4.4), 'nicht parkend', [(480, 34.10256410256409, 4.5)], [4.5]], 4: [(8.5, 7.1), 'nicht parkend', [(598.1648936170212, 325.8351063829788, 6.049594680851239)], [7.792499999999999]], 5: [(8.5, 3.5), 'wartend', [(613.8297618715344, 62.30705119544177, 3.6425000000000005), (720, -4.018940787054021, 7.285000000000002)], [3.6425000000000005]], 6: [(8.5, 4.6), 'nicht parkend', [(606.6332547169811, 9.437103485210514, 5.17)], [5.17]], 7: [(8.5, 7.5), 'wartend', [(644.5847304310169, 303.41526956898315, 1.4661888220316275)], [7.972499999999998]], 8: [(8.0, 5.8), 'nicht parkend', [(510, 39.91451612903222, 6.229999999999999)], [6.229999999999999]], 9: [(8.5, 7.4), 'nicht parkend', [(643.9296417978084, 292.07035820219164, 3.202058654321486)], [7.972499999999998]], 10: [(8.0, 3.9), 'nicht parkend', [(535.8974358974359, 21.599605522682396, 3.8225000000000007)], [3.8225000000000007]], 11: [(9.0, 4.4), 'nicht parkend', [], [5.19]], 12: [(9.0, 5.8), 'nicht parkend', [], [6.97]], 13: [(9.0, 7.0), 'wartend', [(936, 18, 1.1026)], [7.727499999999999]], 14: [(12.5, 3.5), 'wartend', [(954, 6, 0.3824000000000001), (923.4526066350711, -65.65179060749676, 3.6525)], [3.6525]], 15: [(8.5, 6.7), 'nicht parkend', [(703.8631869330238, 184.13681306697617, 2.8180926312500887)], [7.407499999999999]], 16: [(9.0, 5.0), 'wartend', [(822.3764705882353, -55.58864261826034, 7.917846510468168)], [5.805]], 17: [(13.0, 3.0), 'wartend', [(927.0497630331754, -70.17864713485574, 3.045)], [3.045]], 18: [(8.5, 4.0), 'wartend', [(750, -5.413533834586474, 8.64)], [4.32]], 19: [(9.0, 7.0), 'wartend', [(954, 6, 0.3824000000000001), (885, -64.31698113207551, 7.727499999999999)], [7.727499999999999]], 20: [(13.0, 3.0), 'wartend', [(882.1991839724257, -56.004589955740016, 3.045)], [3.045]], 21: [(13.0, 3.0), 'wartend', [(883.1288841016803, -72.24905767683106, 3.045)], [3.045]], 22: [(8.0, 6.5), 'wartend', [(540, 15.261538461538521, 6.894999999999999), (839.1201735751507, -78.29771688955532, 9.897261128618773)], [6.894999999999999]], 23: [(9.0, 3.1), 'nicht parkend', [], [3.7425000000000006]], 24: [(8.5, 7.4), 'nicht parkend', [(816, 120, 7.650000000000001)], [7.972499999999998]], 25: [(8.5, 4.1), 'nicht parkend', [], [4.6275]], 26: [(8.5, 6.6), 'nicht parkend', [], [7.407499999999999]], 27: [(9.0, 3.6), 'nicht parkend', [], [4.382500000000001]], 28: [(8.5, 5.3), 'nicht parkend', [], [6.049999999999999]], 29: [(9.0, 5.1), 'nicht parkend', [], [6.14]], 30: [(9.5, 4.2), 'nicht parkend', [], [5.145]], 31: [(9.0, 5.1), 'nicht parkend', [], [6.14]], 32: [(8.5, 3.7), 'nicht parkend', [], [3.9875000000000007]], 33: [(12.0, 3.4), 'nicht parkend', [], [3.9575]], 34: [(8.0, 4.6), 'nicht parkend', [(560.0854838709678, 15.410955730953901, 4.8075)], [4.8075]], 35: [(8.5, 6.8), 'nicht parkend', [(912, 0, 0.315)], [7.599999999999999]], 36: [(8.5, 6.6), 'nicht parkend', [], [7.407499999999999]], 37: [(8.5, 7.5), 'wartend', [(918, 42, 1.8448000000000002), (855, -57.37647058823529, 8.379875)], [7.972499999999998]], 38: [(12.5, 3.5), 'wartend', [(972, 0, 0), (853.8054059833144, -72.37409436715495, 4.575924626122485)], [3.6525]], 39: [(8.0, 4.4), 'nicht parkend', [(570, 1.835106382978779, 4.5)], [4.5]], 40: [(13.0, 3.0), 'wartend', [(829.3169811320755, -29.54129485756573, 3.4523750000000013)], [3.045]], 41: [(8.5, 6.3), 'nicht parkend', [], [7.214999999999999]], 42: [(8.5, 4.8), 'nicht parkend', [], [5.435]], 43: [(8.0, 3.3), 'nicht parkend', [(582.5029585798817, 3.667279548583906, 3.1425000000000005)], [3.1425000000000005]], 44: [(8.0, 5.6), 'nicht parkend', [(584.7384615384615, 219.26153846153852, 1.46170512820528)], [5.907499999999999]], 45: [(9.0, 6.7), 'nicht parkend', [], [7.547499999999999]], 46: [(9.0, 6.3), 'nicht parkend', [], [7.3549999999999995]], 47: [(9.0, 5.1), 'nicht parkend', [], [6.14]], 48: [(8.5, 5.7), 'nicht parkend', [], [6.384999999999999]], 49: [(8.0, 3.6), 'nicht parkend', [(585, 8.366745283018872, 3.4750000000000005)], [3.4750000000000005]]}\n"
     ]
    }
   ],
   "source": [
    "import postOptimization\n",
    "\n",
    "postOptimization.start_post_optimization(minute_interval, simulation_day, solarpeakleistung, bev_data, table_dict, simulation_data,\n",
    "                            ladeleistung_pro_bev)"
   ]
  }
 ],
 "metadata": {
  "kernelspec": {
   "display_name": "Python 3 (ipykernel)",
   "language": "python",
   "name": "python3"
  },
  "language_info": {
   "codemirror_mode": {
    "name": "ipython",
    "version": 3
   },
   "file_extension": ".py",
   "mimetype": "text/x-python",
   "name": "python",
   "nbconvert_exporter": "python",
   "pygments_lexer": "ipython3",
   "version": "3.9.5"
  }
 },
 "nbformat": 4,
 "nbformat_minor": 4
}