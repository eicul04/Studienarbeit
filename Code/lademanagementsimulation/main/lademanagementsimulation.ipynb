{
 "cells": [
  {
   "cell_type": "markdown",
   "metadata": {
    "pycharm": {
     "name": "#%% md\n"
    }
   },
   "source": [
    "# Lademanagementsimulation   \n"
   ]
  },
  {
   "cell_type": "markdown",
   "metadata": {},
   "source": [
    "### Simulations Parameter"
   ]
  },
  {
   "cell_type": "code",
   "execution_count": 1,
   "metadata": {
    "pycharm": {
     "name": "#%%\n"
    }
   },
   "outputs": [],
   "source": [
    "solarpeakleistung = 125 #Einheit Kilowattpeak (kWP)\n",
    "anzahl_bevs_pro_tag = 50\n",
    "ladeleistung_pro_bev = 11 #Einheit kW\n",
    "maximale_ladezeit = 30 #Einheit Minuten\n",
    "minute_interval = 15 #Einheit Minuten"
   ]
  },
  {
   "cell_type": "markdown",
   "metadata": {},
   "source": [
    "### Simulations Eingangsdaten"
   ]
  },
  {
   "cell_type": "code",
   "execution_count": 2,
   "metadata": {
    "pycharm": {
     "is_executing": true,
     "name": "#%%\n"
    }
   },
   "outputs": [
    {
     "data": {
      "text/html": [
       "\n",
       "        <iframe\n",
       "            width=\"100%\"\n",
       "            height=\"650\"\n",
       "            src=\"http://127.0.0.1:8050/\"\n",
       "            frameborder=\"0\"\n",
       "            allowfullscreen\n",
       "            \n",
       "        ></iframe>\n",
       "        "
      ],
      "text/plain": [
       "<IPython.lib.display.IFrame at 0x18dc9aba070>"
      ]
     },
     "metadata": {},
     "output_type": "display_data"
    }
   ],
   "source": [
    "import simulationInputDataVisualisation\n",
    "simulationInputDataVisualisation.create_jupyter_dash_app(solarpeakleistung)"
   ]
  },
  {
   "cell_type": "markdown",
   "metadata": {},
   "source": [
    "### Verteilungsalgorithmus"
   ]
  },
  {
   "cell_type": "code",
   "execution_count": 3,
   "metadata": {
    "pycharm": {
     "is_executing": true
    }
   },
   "outputs": [
    {
     "name": "stdout",
     "output_type": "stream",
     "text": [
      "START POST OPTIMIZATION\n",
      "{0: [(8.5, 5.8), 'nicht parkend', [], [8.3925]], 1: [(8.5, 6.2), 'nicht parkend', [], [8.6175]], 2: [(8.5, 4.1), 'nicht parkend', [], [6.494999999999999]], 3: [(8.5, 6.1), 'nicht parkend', [], [8.6175]], 4: [(12.0, 4.0), 'nicht parkend', [], [4.09]], 5: [(8.5, 7.5), 'nicht parkend', [], [9.3725]], 6: [(9.0, 4.4), 'nicht parkend', [], [6.987499999999999]], 7: [(13.0, 3.0), 'nicht parkend', [], [2.5875]], 8: [(12.5, 3.5), 'nicht parkend', [], [3.195]], 9: [(8.0, 4.0), 'nicht parkend', [], [5.484999999999999]], 10: [(13.0, 3.0), 'nicht parkend', [], [2.5875]], 11: [(13.0, 3.0), 'nicht parkend', [], [2.5875]], 12: [(8.0, 4.9), 'nicht parkend', [], [6.987499999999999]], 13: [(12.0, 4.0), 'nicht parkend', [], [4.09]], 14: [(12.0, 3.0), 'nicht parkend', [], [3.53]], 15: [(12.5, 3.5), 'nicht parkend', [], [3.195]], 16: [(8.0, 5.1), 'nicht parkend', [], [7.229999999999999]], 17: [(12.5, 3.5), 'nicht parkend', [], [3.195]], 18: [(8.0, 5.9), 'nicht parkend', [], [8.049999999999999]], 19: [(13.0, 3.0), 'nicht parkend', [], [2.5875]], 20: [(8.5, 4.0), 'nicht parkend', [], [6.177499999999999]], 21: [(8.5, 6.0), 'nicht parkend', [], [8.3925]], 22: [(8.5, 4.5), 'nicht parkend', [], [6.784999999999999]], 23: [(13.0, 3.0), 'nicht parkend', [], [2.5875]], 24: [(13.0, 3.0), 'nicht parkend', [], [2.5875]], 25: [(8.0, 3.9), 'nicht parkend', [], [5.484999999999999]], 26: [(8.5, 3.7), 'nicht parkend', [], [5.734999999999999]], 27: [(13.5, 2.5), 'nicht parkend', [], [2.0875000000000004]], 28: [(9.0, 5.0), 'nicht parkend', [], [7.549999999999999]], 29: [(12.5, 3.5), 'nicht parkend', [], [3.195]], 30: [(12.0, 4.0), 'nicht parkend', [], [4.09]], 31: [(12.5, 3.5), 'nicht parkend', [], [3.195]], 32: [(9.0, 5.4), 'nicht parkend', [], [8.094999999999999]], 33: [(8.5, 4.9), 'nicht parkend', [], [7.284999999999999]], 34: [(12.5, 3.1), 'nicht parkend', [], [3.0799999999999996]], 35: [(8.5, 3.1), 'nicht parkend', [], [4.76]], 36: [(8.0, 7.8), 'nicht parkend', [], [9.575]], 37: [(8.5, 5.5), 'nicht parkend', [], [7.847499999999999]], 38: [(12.5, 3.5), 'nicht parkend', [], [3.195]], 39: [(13.0, 3.0), 'nicht parkend', [], [2.5875]], 40: [(8.0, 4.1), 'nicht parkend', [], [5.937499999999999]], 41: [(12.5, 3.5), 'nicht parkend', [], [3.195]], 42: [(12.0, 4.0), 'nicht parkend', [], [4.09]], 43: [(8.5, 6.7), 'nicht parkend', [], [8.975]], 44: [(9.0, 6.2), 'nicht parkend', [], [8.677499999999998]], 45: [(8.5, 7.1), 'nicht parkend', [], [9.2575]], 46: [(9.5, 3.5), 'nicht parkend', [], [5.987499999999999]], 47: [(8.0, 6.6), 'nicht parkend', [], [8.819999999999999]], 48: [(13.0, 3.0), 'nicht parkend', [], [2.5875]], 49: [(8.5, 3.1), 'nicht parkend', [], [4.76]]}\n",
      "Waiting BEV list:  []\n",
      "[960, 945, 930, 915, 900, 885, 870, 855, 840, 825, 810, 795, 780, 765, 750, 735, 720, 705, 690, 675, 660, 645, 630, 615, 600, 585, 570, 555, 540, 525, 510, 495, 480]\n",
      "\n",
      "\n",
      "Minute:  960\n",
      "Waiting BEVs (after updating new waiting BEVs):  [4, 5, 7, 8, 10, 11, 13, 15, 17, 19, 23, 24, 27, 29, 30, 31, 38, 39, 41, 42, 48]\n",
      "Charging BEVs:  []\n",
      "Waiting BEVs:  [4, 5, 7, 8, 10, 11, 13, 15, 17, 19, 23, 24, 27, 29, 30, 31, 38, 39, 41, 42, 48]\n",
      "CALCULATE NUMBER OF CHARGING STATIONS\n",
      "Number of charging stations:  1\n",
      "CALCULATE NUMBER OF CHARGING STATIONS\n",
      "Number of charging stations:  1\n",
      "NUMBER OF FREE CHARGING STATIONS:  1\n",
      "CALCULATE NUMBER OF CHARGING STATIONS\n",
      "Number of charging stations:  1\n",
      "AVAILABLE SOLAR POWER:  10.12\n",
      "Restladeenergie bis zur fairen Ladeenergie for BEV mit ID 4:  4.09\n",
      "Restladezeit:  24.249011857707508\n",
      "Charging BEVs:  [4]\n",
      "\n",
      "\n",
      "Minute:  945\n",
      "Waiting BEVs (after updating new waiting BEVs):  [5, 7, 8, 10, 11, 13, 15, 17, 19, 23, 24, 27, 29, 30, 31, 38, 39, 41, 42, 48]\n",
      "Charging BEVs:  [4]\n",
      "Waiting BEVs:  [5, 7, 8, 10, 11, 13, 15, 17, 19, 23, 24, 27, 29, 30, 31, 38, 39, 41, 42, 48]\n",
      "Ladezeit = 15 für ID BEV 4\n",
      "Ladezeit = 15 für ID BEV 4\n",
      "CALCULATE NUMBER OF CHARGING STATIONS\n",
      "Number of charging stations:  2\n",
      "CALCULATE NUMBER OF CHARGING STATIONS\n",
      "Number of charging stations:  2\n",
      "NUMBER OF FREE CHARGING STATIONS:  1\n",
      "CALCULATE NUMBER OF CHARGING STATIONS\n",
      "Number of charging stations:  2\n",
      "AVAILABLE SOLAR POWER:  12.38\n",
      "Restladeenergie bis zur fairen Ladeenergie for BEV mit ID 4:  1.56\n",
      "Restladezeit:  15.121163166397412\n",
      "AVAILABLE SOLAR POWER:  12.38\n",
      "Restladeenergie bis zur fairen Ladeenergie for BEV mit ID 5:  9.3725\n",
      "Restladezeit:  90.8481421647819\n",
      "Charging BEVs:  [4, 5]\n",
      "\n",
      "\n",
      "Minute:  930\n",
      "Waiting BEVs (after updating new waiting BEVs):  [7, 8, 10, 11, 13, 15, 17, 19, 23, 24, 27, 29, 30, 31, 38, 39, 41, 42, 48]\n",
      "Charging BEVs:  [4, 5]\n",
      "Waiting BEVs:  [7, 8, 10, 11, 13, 15, 17, 19, 23, 24, 27, 29, 30, 31, 38, 39, 41, 42, 48]\n",
      "Ladezeit = 30 für ID BEV 4\n",
      "Ladezeit = 15 für ID BEV 5\n",
      "Ladezeit = 30 für ID BEV 4\n",
      "Ladezeit = 15 für ID BEV 5\n",
      "CALCULATE NUMBER OF CHARGING STATIONS\n",
      "Number of charging stations:  2\n",
      "CALCULATE NUMBER OF CHARGING STATIONS\n",
      "Number of charging stations:  2\n",
      "AVAILABLE SOLAR POWER:  14.62\n",
      "Restladeenergie bis zur fairen Ladeenergie for BEV mit ID 4:  0.012500000000000178\n",
      "Restladezeit:  0.10259917920656782\n",
      "Die Restladezeit des BEVS 4 endet vor dem nächsten Interval\n",
      "Ausgewähltes BEV das frei gewordenen Platz belegen darf:  7\n",
      "Ladestart für ausgewähltes BEV:  929.8974008207935\n",
      "7.31 CHARGING POWER WIRD FÜR NEUES BEV 7 GESPEICHERT: \n",
      "ZEITPUNKT FÜR DAS ES GESPEICHERT WIRD:  929.8974008207935\n",
      "AVAILABLE SOLAR POWER:  14.62\n",
      "Restladeenergie bis zur fairen Ladeenergie for BEV mit ID 5:  7.825\n",
      "Restladezeit:  64.22708618331053\n",
      "Charging BEVs:  [4, 5]\n",
      "\n",
      "\n",
      "Minute:  915\n",
      "Waiting BEVs (after updating new waiting BEVs):  [8, 10, 11, 13, 15, 17, 19, 23, 24, 27, 29, 30, 31, 38, 39, 41, 42, 48]\n",
      "Charging BEVs:  [5, 7]\n",
      "Waiting BEVs:  [8, 10, 11, 13, 15, 17, 19, 23, 24, 27, 29, 30, 31, 38, 39, 41, 42, 48]\n",
      "Ladezeit = 30 für ID BEV 5\n",
      "Ladezeit = 14.89740082079345 für ID BEV 7\n",
      "Ladezeit = 30 für ID BEV 5\n",
      "Ladezeit = 14.89740082079345 für ID BEV 7\n",
      "CALCULATE NUMBER OF CHARGING STATIONS\n",
      "Number of charging stations:  2\n",
      "CALCULATE NUMBER OF CHARGING STATIONS\n",
      "Number of charging stations:  2\n",
      "AVAILABLE SOLAR POWER:  16.88\n",
      "Restladeenergie bis zur fairen Ladeenergie for BEV mit ID 5:  5.9975000000000005\n",
      "Restladezeit:  42.63625592417063\n",
      "AVAILABLE SOLAR POWER:  16.88\n",
      "Restladeenergie bis zur fairen Ladeenergie for BEV mit ID 7:  0.772499999999998\n",
      "Restladezeit:  5.491706161137426\n",
      "Die Restladezeit des BEVS 7 endet vor dem nächsten Interval\n",
      "Ausgewähltes BEV das frei gewordenen Platz belegen darf:  8\n",
      "Ladestart für ausgewähltes BEV:  909.5082938388625\n",
      "8.44 CHARGING POWER WIRD FÜR NEUES BEV 8 GESPEICHERT: \n",
      "ZEITPUNKT FÜR DAS ES GESPEICHERT WIRD:  909.5082938388625\n",
      "Charging BEVs:  [5, 7]\n",
      "\n",
      "\n",
      "Minute:  900\n",
      "Waiting BEVs (after updating new waiting BEVs):  [10, 11, 13, 15, 17, 19, 23, 24, 27, 29, 30, 31, 38, 39, 41, 42, 48, 14]\n",
      "Charging BEVs:  [5, 8]\n",
      "Waiting BEVs:  [10, 11, 13, 15, 17, 19, 23, 24, 27, 29, 30, 31, 38, 39, 41, 42, 48, 14]\n",
      "Ladezeit = 45 für ID BEV 5\n",
      "Ladezeit = 9.508293838862528 für ID BEV 8\n",
      "Ladezeit = 45 für ID BEV 5\n",
      "Ladezeit = 9.508293838862528 für ID BEV 8\n",
      "CALCULATE NUMBER OF CHARGING STATIONS\n",
      "Number of charging stations:  2\n",
      "CALCULATE NUMBER OF CHARGING STATIONS\n",
      "Number of charging stations:  2\n",
      "AVAILABLE SOLAR POWER:  21.0\n",
      "Restladeenergie bis zur fairen Ladeenergie for BEV mit ID 5:  3.887500000000001\n",
      "Restladezeit:  22.214285714285722\n",
      "AVAILABLE SOLAR POWER:  21.0\n",
      "Restladeenergie bis zur fairen Ladeenergie for BEV mit ID 8:  1.8575000000000041\n",
      "Restladezeit:  10.614285714285737\n",
      "Die Restladezeit des BEVS 8 endet vor dem nächsten Interval\n",
      "Ausgewähltes BEV das frei gewordenen Platz belegen darf:  10\n",
      "Ladestart für ausgewähltes BEV:  889.3857142857142\n",
      "10.5 CHARGING POWER WIRD FÜR NEUES BEV 10 GESPEICHERT: \n",
      "ZEITPUNKT FÜR DAS ES GESPEICHERT WIRD:  889.3857142857142\n",
      "Charging BEVs:  [5, 8]\n",
      "\n",
      "\n",
      "Minute:  885\n",
      "Waiting BEVs (after updating new waiting BEVs):  [11, 13, 15, 17, 19, 23, 24, 27, 29, 30, 31, 38, 39, 41, 42, 48, 14]\n",
      "Charging BEVs:  [5, 10]\n",
      "Waiting BEVs:  [11, 13, 15, 17, 19, 23, 24, 27, 29, 30, 31, 38, 39, 41, 42, 48, 14]\n",
      "Ladezeit = 60 für ID BEV 5\n",
      "Ladezeit = 4.3857142857142435 für ID BEV 10\n",
      "Ladezeit = 60 für ID BEV 5\n",
      "Ladezeit = 4.3857142857142435 für ID BEV 10\n",
      "CALCULATE NUMBER OF CHARGING STATIONS\n",
      "Number of charging stations:  3\n",
      "CALCULATE NUMBER OF CHARGING STATIONS\n",
      "Number of charging stations:  3\n",
      "NUMBER OF FREE CHARGING STATIONS:  1\n",
      "CALCULATE NUMBER OF CHARGING STATIONS\n",
      "Number of charging stations:  3\n",
      "AVAILABLE SOLAR POWER:  27.0\n",
      "Restladeenergie bis zur fairen Ladeenergie for BEV mit ID 5:  1.262500000000001\n",
      "Restladezeit:  8.416666666666673\n",
      "Die Restladezeit des BEVS 5 endet vor dem nächsten Interval\n",
      "Ausgewähltes BEV das frei gewordenen Platz belegen darf:  13\n",
      "Ladestart für ausgewähltes BEV:  876.5833333333334\n",
      "9.0 CHARGING POWER WIRD FÜR NEUES BEV 13 GESPEICHERT: \n",
      "ZEITPUNKT FÜR DAS ES GESPEICHERT WIRD:  876.5833333333334\n",
      "AVAILABLE SOLAR POWER:  27.0\n",
      "Restladeenergie bis zur fairen Ladeenergie for BEV mit ID 10:  1.8200000000000074\n",
      "Restladezeit:  12.133333333333383\n",
      "Die Restladezeit des BEVS 10 endet vor dem nächsten Interval\n",
      "Ausgewähltes BEV das frei gewordenen Platz belegen darf:  15\n",
      "Ladestart für ausgewähltes BEV:  872.8666666666666\n",
      "9.0 CHARGING POWER WIRD FÜR NEUES BEV 15 GESPEICHERT: \n",
      "ZEITPUNKT FÜR DAS ES GESPEICHERT WIRD:  872.8666666666666\n",
      "AVAILABLE SOLAR POWER:  27.0\n",
      "Restladeenergie bis zur fairen Ladeenergie for BEV mit ID 11:  2.5875\n",
      "Restladezeit:  17.25\n",
      "Charging BEVs:  [5, 10, 11]\n",
      "\n",
      "\n",
      "Minute:  870\n",
      "Waiting BEVs (after updating new waiting BEVs):  [17, 19, 23, 24, 27, 29, 30, 31, 38, 39, 41, 42, 48, 14, 21]\n",
      "Charging BEVs:  [11, 13, 15]\n",
      "Waiting BEVs:  [17, 19, 23, 24, 27, 29, 30, 31, 38, 39, 41, 42, 48, 14, 21]\n",
      "Ladezeit = 15 für ID BEV 11\n",
      "Ladezeit = 6.583333333333371 für ID BEV 13\n",
      "Ladezeit = 2.8666666666665606 für ID BEV 15\n",
      "Ladezeit = 15 für ID BEV 11\n",
      "Ladezeit = 6.583333333333371 für ID BEV 13\n",
      "Ladezeit = 2.8666666666665606 für ID BEV 15\n",
      "CALCULATE NUMBER OF CHARGING STATIONS\n",
      "Number of charging stations:  3\n",
      "CALCULATE NUMBER OF CHARGING STATIONS\n",
      "Number of charging stations:  3\n",
      "AVAILABLE SOLAR POWER:  33.0\n",
      "Restladeenergie bis zur fairen Ladeenergie for BEV mit ID 11:  0.3374999999999999\n",
      "Restladezeit:  1.8409090909090904\n",
      "Die Restladezeit des BEVS 11 endet vor dem nächsten Interval\n",
      "Ausgewähltes BEV das frei gewordenen Platz belegen darf:  17\n",
      "Ladestart für ausgewähltes BEV:  868.1590909090909\n",
      "11.0 CHARGING POWER WIRD FÜR NEUES BEV 17 GESPEICHERT: \n",
      "ZEITPUNKT FÜR DAS ES GESPEICHERT WIRD:  868.1590909090909\n",
      "AVAILABLE SOLAR POWER:  33.0\n",
      "Restladeenergie bis zur fairen Ladeenergie for BEV mit ID 13:  3.1024999999999943\n"
     ]
    },
    {
     "name": "stdout",
     "output_type": "stream",
     "text": [
      "Restladezeit:  16.922727272727244\n",
      "AVAILABLE SOLAR POWER:  33.0\n",
      "Restladeenergie bis zur fairen Ladeenergie for BEV mit ID 15:  2.7650000000000157\n",
      "Restladezeit:  15.081818181818267\n",
      "Charging BEVs:  [11, 13, 15]\n",
      "\n",
      "\n",
      "Minute:  855\n",
      "Waiting BEVs (after updating new waiting BEVs):  [19, 23, 24, 27, 29, 30, 31, 38, 39, 41, 42, 48, 14, 21]\n",
      "Charging BEVs:  [13, 15, 17]\n",
      "Waiting BEVs:  [19, 23, 24, 27, 29, 30, 31, 38, 39, 41, 42, 48, 14, 21]\n",
      "Ladezeit = 21.58333333333337 für ID BEV 13\n",
      "Ladezeit = 17.86666666666656 für ID BEV 15\n",
      "Ladezeit = 13.159090909090878 für ID BEV 17\n",
      "Ladezeit = 21.58333333333337 für ID BEV 13\n",
      "Ladezeit = 17.86666666666656 für ID BEV 15\n",
      "Ladezeit = 13.159090909090878 für ID BEV 17\n",
      "CALCULATE NUMBER OF CHARGING STATIONS\n",
      "Number of charging stations:  4\n",
      "CALCULATE NUMBER OF CHARGING STATIONS\n",
      "Number of charging stations:  4\n",
      "NUMBER OF FREE CHARGING STATIONS:  1\n",
      "CALCULATE NUMBER OF CHARGING STATIONS\n",
      "Number of charging stations:  4\n",
      "AVAILABLE SOLAR POWER:  39.0\n",
      "Restladeenergie bis zur fairen Ladeenergie for BEV mit ID 13:  1.8955555555555428\n",
      "Restladezeit:  11.664957264957186\n",
      "Die Restladezeit des BEVS 13 endet vor dem nächsten Interval\n",
      "Ausgewähltes BEV das frei gewordenen Platz belegen darf:  23\n",
      "Ladestart für ausgewähltes BEV:  843.3350427350429\n",
      "9.75 CHARGING POWER WIRD FÜR NEUES BEV 23 GESPEICHERT: \n",
      "ZEITPUNKT FÜR DAS ES GESPEICHERT WIRD:  843.3350427350429\n",
      "AVAILABLE SOLAR POWER:  39.0\n",
      "Restladeenergie bis zur fairen Ladeenergie for BEV mit ID 15:  2.2394444444444797\n",
      "Restladezeit:  13.781196581196799\n",
      "Die Restladezeit des BEVS 15 endet vor dem nächsten Interval\n",
      "Ausgewähltes BEV das frei gewordenen Platz belegen darf:  24\n",
      "Ladestart für ausgewähltes BEV:  841.2188034188032\n",
      "9.75 CHARGING POWER WIRD FÜR NEUES BEV 24 GESPEICHERT: \n",
      "ZEITPUNKT FÜR DAS ES GESPEICHERT WIRD:  841.2188034188032\n",
      "AVAILABLE SOLAR POWER:  39.0\n",
      "Restladeenergie bis zur fairen Ladeenergie for BEV mit ID 17:  0.7825000000000055\n",
      "Restladezeit:  4.81538461538465\n",
      "Die Restladezeit des BEVS 17 endet vor dem nächsten Interval\n",
      "Ausgewähltes BEV das frei gewordenen Platz belegen darf:  27\n",
      "Ladestart für ausgewähltes BEV:  850.1846153846153\n",
      "9.75 CHARGING POWER WIRD FÜR NEUES BEV 27 GESPEICHERT: \n",
      "ZEITPUNKT FÜR DAS ES GESPEICHERT WIRD:  850.1846153846153\n",
      "AVAILABLE SOLAR POWER:  39.0\n",
      "Restladeenergie bis zur fairen Ladeenergie for BEV mit ID 19:  2.5875\n",
      "Restladezeit:  15.923076923076923\n",
      "Charging BEVs:  [13, 15, 17, 19]\n",
      "\n",
      "\n",
      "Minute:  840\n",
      "Waiting BEVs (after updating new waiting BEVs):  [29, 30, 31, 38, 39, 41, 42, 48, 14, 21, 28, 37]\n",
      "Charging BEVs:  [19, 23, 24, 27]\n",
      "Waiting BEVs:  [29, 30, 31, 38, 39, 41, 42, 48, 14, 21, 28, 37]\n",
      "Ladezeit = 15 für ID BEV 19\n",
      "Ladezeit = 3.3350427350428618 für ID BEV 23\n",
      "Ladezeit = 1.2188034188031907 für ID BEV 24\n",
      "Ladezeit = 10.184615384615313 für ID BEV 27\n",
      "Ladezeit = 15 für ID BEV 19\n",
      "Ladezeit = 3.3350427350428618 für ID BEV 23\n",
      "Ladezeit = 1.2188034188031907 für ID BEV 24\n",
      "Ladezeit = 10.184615384615313 für ID BEV 27\n",
      "CALCULATE NUMBER OF CHARGING STATIONS\n",
      "Number of charging stations:  4\n",
      "CALCULATE NUMBER OF CHARGING STATIONS\n",
      "Number of charging stations:  4\n",
      "AVAILABLE SOLAR POWER:  41.25\n",
      "Restladeenergie bis zur fairen Ladeenergie for BEV mit ID 19:  0.1499999999999999\n",
      "Restladezeit:  0.8727272727272722\n",
      "Die Restladezeit des BEVS 19 endet vor dem nächsten Interval\n",
      "Ausgewähltes BEV das frei gewordenen Platz belegen darf:  29\n",
      "Ladestart für ausgewähltes BEV:  839.1272727272727\n",
      "10.3125 CHARGING POWER WIRD FÜR NEUES BEV 29 GESPEICHERT: \n",
      "ZEITPUNKT FÜR DAS ES GESPEICHERT WIRD:  839.1272727272727\n",
      "AVAILABLE SOLAR POWER:  41.25\n",
      "Restladeenergie bis zur fairen Ladeenergie for BEV mit ID 23:  2.0455555555555347\n",
      "Restladezeit:  11.90141414141402\n",
      "Die Restladezeit des BEVS 23 endet vor dem nächsten Interval\n",
      "Ausgewähltes BEV das frei gewordenen Platz belegen darf:  30\n",
      "Ladestart für ausgewähltes BEV:  828.098585858586\n",
      "10.3125 CHARGING POWER WIRD FÜR NEUES BEV 30 GESPEICHERT: \n",
      "ZEITPUNKT FÜR DAS ES GESPEICHERT WIRD:  828.098585858586\n",
      "AVAILABLE SOLAR POWER:  41.25\n",
      "Restladeenergie bis zur fairen Ladeenergie for BEV mit ID 24:  2.3894444444444813\n",
      "Restladezeit:  13.902222222222436\n",
      "Die Restladezeit des BEVS 24 endet vor dem nächsten Interval\n",
      "Ausgewähltes BEV das frei gewordenen Platz belegen darf:  31\n",
      "Ladestart für ausgewähltes BEV:  826.0977777777775\n",
      "10.3125 CHARGING POWER WIRD FÜR NEUES BEV 31 GESPEICHERT: \n",
      "ZEITPUNKT FÜR DAS ES GESPEICHERT WIRD:  826.0977777777775\n",
      "AVAILABLE SOLAR POWER:  41.25\n",
      "Restladeenergie bis zur fairen Ladeenergie for BEV mit ID 27:  0.4325000000000119\n",
      "Restladezeit:  2.5163636363637054\n",
      "Die Restladezeit des BEVS 27 endet vor dem nächsten Interval\n",
      "Ausgewähltes BEV das frei gewordenen Platz belegen darf:  38\n",
      "Ladestart für ausgewähltes BEV:  837.4836363636363\n",
      "10.3125 CHARGING POWER WIRD FÜR NEUES BEV 38 GESPEICHERT: \n",
      "ZEITPUNKT FÜR DAS ES GESPEICHERT WIRD:  837.4836363636363\n",
      "Charging BEVs:  [19, 23, 24, 27]\n",
      "\n",
      "\n",
      "Minute:  825\n",
      "Waiting BEVs (after updating new waiting BEVs):  [39, 41, 42, 48, 14, 21, 28, 37]\n",
      "Charging BEVs:  [29, 30, 31, 38]\n",
      "Waiting BEVs:  [39, 41, 42, 48, 14, 21, 28, 37]\n",
      "Ladezeit = 14.127272727272725 für ID BEV 29\n",
      "Ladezeit = 3.098585858586034 für ID BEV 30\n",
      "Ladezeit = 1.0977777777775373 für ID BEV 31\n",
      "Ladezeit = 12.483636363636265 für ID BEV 38\n",
      "Ladezeit = 14.127272727272725 für ID BEV 29\n",
      "Ladezeit = 3.098585858586034 für ID BEV 30\n",
      "Ladezeit = 1.0977777777775373 für ID BEV 31\n",
      "Ladezeit = 12.483636363636265 für ID BEV 38\n",
      "CALCULATE NUMBER OF CHARGING STATIONS\n",
      "Number of charging stations:  4\n",
      "CALCULATE NUMBER OF CHARGING STATIONS\n",
      "Number of charging stations:  4\n",
      "AVAILABLE SOLAR POWER:  39.75\n",
      "Restladeenergie bis zur fairen Ladeenergie for BEV mit ID 29:  0.7668750000000002\n",
      "Restladezeit:  4.630188679245284\n",
      "Die Restladezeit des BEVS 29 endet vor dem nächsten Interval\n",
      "Ausgewähltes BEV das frei gewordenen Platz belegen darf:  39\n",
      "Ladestart für ausgewähltes BEV:  820.3698113207547\n",
      "9.9375 CHARGING POWER WIRD FÜR NEUES BEV 39 GESPEICHERT: \n",
      "ZEITPUNKT FÜR DAS ES GESPEICHERT WIRD:  820.3698113207547\n",
      "AVAILABLE SOLAR POWER:  39.75\n",
      "Restladeenergie bis zur fairen Ladeenergie for BEV mit ID 30:  3.5574305555555252\n",
      "Restladezeit:  21.478825995806943\n",
      "AVAILABLE SOLAR POWER:  39.75\n",
      "Restladeenergie bis zur fairen Ladeenergie for BEV mit ID 31:  3.0063194444444856\n",
      "Restladezeit:  18.151362683438403\n",
      "AVAILABLE SOLAR POWER:  39.75\n",
      "Restladeenergie bis zur fairen Ladeenergie for BEV mit ID 38:  1.0493750000000168\n",
      "Restladezeit:  6.335849056603875\n",
      "Die Restladezeit des BEVS 38 endet vor dem nächsten Interval\n",
      "Ausgewähltes BEV das frei gewordenen Platz belegen darf:  41\n",
      "Ladestart für ausgewähltes BEV:  818.6641509433962\n",
      "9.9375 CHARGING POWER WIRD FÜR NEUES BEV 41 GESPEICHERT: \n",
      "ZEITPUNKT FÜR DAS ES GESPEICHERT WIRD:  818.6641509433962\n",
      "Charging BEVs:  [29, 30, 31, 38]\n",
      "\n",
      "\n",
      "Minute:  810\n",
      "Waiting BEVs (after updating new waiting BEVs):  [42, 48, 14, 21, 28, 37]\n",
      "Charging BEVs:  [30, 31, 39, 41]\n",
      "Waiting BEVs:  [42, 48, 14, 21, 28, 37]\n",
      "Ladezeit = 18.098585858586034 für ID BEV 30\n",
      "Ladezeit = 16.097777777777537 für ID BEV 31\n",
      "Ladezeit = 10.369811320754707 für ID BEV 39\n",
      "Ladezeit = 8.66415094339618 für ID BEV 41\n",
      "Ladezeit = 18.098585858586034 für ID BEV 30\n",
      "Ladezeit = 16.097777777777537 für ID BEV 31\n",
      "Ladezeit = 10.369811320754707 für ID BEV 39\n",
      "Ladezeit = 8.66415094339618 für ID BEV 41\n",
      "CALCULATE NUMBER OF CHARGING STATIONS\n",
      "Number of charging stations:  4\n",
      "CALCULATE NUMBER OF CHARGING STATIONS\n",
      "Number of charging stations:  4\n",
      "AVAILABLE SOLAR POWER:  38.25\n",
      "Restladeenergie bis zur fairen Ladeenergie for BEV mit ID 30:  3.0442272727272135\n",
      "Restladezeit:  19.10103386809232\n",
      "AVAILABLE SOLAR POWER:  38.25\n",
      "Restladeenergie bis zur fairen Ladeenergie for BEV mit ID 31:  2.824500000000081\n",
      "Restladezeit:  17.72235294117698\n",
      "AVAILABLE SOLAR POWER:  38.25\n",
      "Restladeenergie bis zur fairen Ladeenergie for BEV mit ID 39:  0.8700000000000017\n",
      "Restladezeit:  5.4588235294117755\n",
      "Die Restladezeit des BEVS 39 endet vor dem nächsten Interval\n",
      "Ausgewähltes BEV das frei gewordenen Platz belegen darf:  42\n",
      "Ladestart für ausgewähltes BEV:  804.5411764705882\n",
      "9.5625 CHARGING POWER WIRD FÜR NEUES BEV 42 GESPEICHERT: \n",
      "ZEITPUNKT FÜR DAS ES GESPEICHERT WIRD:  804.5411764705882\n",
      "AVAILABLE SOLAR POWER:  38.25\n",
      "Restladeenergie bis zur fairen Ladeenergie for BEV mit ID 41:  1.7600000000000073\n",
      "Restladezeit:  11.043137254902007\n",
      "Die Restladezeit des BEVS 41 endet vor dem nächsten Interval\n",
      "Ausgewähltes BEV das frei gewordenen Platz belegen darf:  48\n",
      "Ladestart für ausgewähltes BEV:  798.956862745098\n",
      "9.5625 CHARGING POWER WIRD FÜR NEUES BEV 48 GESPEICHERT: \n",
      "ZEITPUNKT FÜR DAS ES GESPEICHERT WIRD:  798.956862745098\n",
      "Charging BEVs:  [30, 31, 39, 41]\n",
      "\n",
      "\n",
      "Minute:  795\n",
      "Waiting BEVs (after updating new waiting BEVs):  [14, 21, 28, 37]\n",
      "Charging BEVs:  [30, 31, 42, 48]\n",
      "Waiting BEVs:  [14, 21, 28, 37]\n",
      "Ladezeit = 33.098585858586034 für ID BEV 30\n",
      "Ladezeit = 31.097777777777537 für ID BEV 31\n",
      "Ladezeit = 9.541176470588198 für ID BEV 42\n",
      "Ladezeit = 3.9568627450979648 für ID BEV 48\n",
      "Ladezeit = 33.098585858586034 für ID BEV 30\n",
      "Ladezeit = 31.097777777777537 für ID BEV 31\n",
      "Ladezeit = 9.541176470588198 für ID BEV 42\n",
      "Ladezeit = 3.9568627450979648 für ID BEV 48\n",
      "CALCULATE NUMBER OF CHARGING STATIONS\n",
      "Number of charging stations:  4\n",
      "CALCULATE NUMBER OF CHARGING STATIONS\n",
      "Number of charging stations:  4\n",
      "AVAILABLE SOLAR POWER:  36.75\n",
      "Restladeenergie bis zur fairen Ladeenergie for BEV mit ID 30:  2.5503901515150638\n",
      "Restladezeit:  16.65560915275144\n",
      "AVAILABLE SOLAR POWER:  36.75\n",
      "Restladeenergie bis zur fairen Ladeenergie for BEV mit ID 31:  2.649541666666786\n"
     ]
    },
    {
     "name": "stdout",
     "output_type": "stream",
     "text": [
      "Restladezeit:  17.303129251701456\n",
      "AVAILABLE SOLAR POWER:  36.75\n",
      "Restladeenergie bis zur fairen Ladeenergie for BEV mit ID 42:  2.569375000000006\n",
      "Restladezeit:  16.779591836734735\n",
      "AVAILABLE SOLAR POWER:  36.75\n",
      "Restladeenergie bis zur fairen Ladeenergie for BEV mit ID 48:  1.9568750000000117\n",
      "Restladezeit:  12.77959183673477\n",
      "Die Restladezeit des BEVS 48 endet vor dem nächsten Interval\n",
      "Ausgewähltes BEV das frei gewordenen Platz belegen darf:  14\n",
      "Ladestart für ausgewähltes BEV:  782.2204081632652\n",
      "9.1875 CHARGING POWER WIRD FÜR NEUES BEV 14 GESPEICHERT: \n",
      "ZEITPUNKT FÜR DAS ES GESPEICHERT WIRD:  782.2204081632652\n",
      "Charging BEVs:  [30, 31, 42, 48]\n",
      "\n",
      "\n",
      "Minute:  780\n",
      "Waiting BEVs (after updating new waiting BEVs):  [21, 28, 37, 22, 46]\n",
      "Charging BEVs:  [30, 31, 42, 14]\n",
      "Waiting BEVs:  [21, 28, 37, 22, 46]\n",
      "Ladezeit = 48.098585858586034 für ID BEV 30\n",
      "Ladezeit = 46.09777777777754 für ID BEV 31\n",
      "Ladezeit = 24.541176470588198 für ID BEV 42\n",
      "Ladezeit = 2.2204081632652333 für ID BEV 14\n",
      "Ladezeit = 48.098585858586034 für ID BEV 30\n",
      "Ladezeit = 46.09777777777754 für ID BEV 31\n",
      "Ladezeit = 24.541176470588198 für ID BEV 42\n",
      "Ladezeit = 2.2204081632652333 für ID BEV 14\n",
      "CALCULATE NUMBER OF CHARGING STATIONS\n",
      "Number of charging stations:  4\n",
      "CALCULATE NUMBER OF CHARGING STATIONS\n",
      "Number of charging stations:  4\n",
      "AVAILABLE SOLAR POWER:  38.38\n",
      "Restladeenergie bis zur fairen Ladeenergie for BEV mit ID 30:  2.0759191919190774\n",
      "Restladezeit:  12.981256020338158\n",
      "Die Restladezeit des BEVS 30 endet vor dem nächsten Interval\n",
      "Ausgewähltes BEV das frei gewordenen Platz belegen darf:  21\n",
      "Ladestart für ausgewähltes BEV:  767.0187439796618\n",
      "9.595 CHARGING POWER WIRD FÜR NEUES BEV 21 GESPEICHERT: \n",
      "ZEITPUNKT FÜR DAS ES GESPEICHERT WIRD:  767.0187439796618\n",
      "AVAILABLE SOLAR POWER:  38.38\n",
      "Restladeenergie bis zur fairen Ladeenergie for BEV mit ID 31:  2.4814444444446004\n",
      "Restladezeit:  15.517109605698387\n",
      "AVAILABLE SOLAR POWER:  38.38\n",
      "Restladeenergie bis zur fairen Ladeenergie for BEV mit ID 42:  1.108382352941188\n",
      "Restladezeit:  6.93099960150821\n",
      "Die Restladezeit des BEVS 42 endet vor dem nächsten Interval\n",
      "Ausgewähltes BEV das frei gewordenen Platz belegen darf:  28\n",
      "Ladestart für ausgewähltes BEV:  773.0690003984918\n",
      "9.595 CHARGING POWER WIRD FÜR NEUES BEV 28 GESPEICHERT: \n",
      "ZEITPUNKT FÜR DAS ES GESPEICHERT WIRD:  773.0690003984918\n",
      "AVAILABLE SOLAR POWER:  38.38\n",
      "Restladeenergie bis zur fairen Ladeenergie for BEV mit ID 14:  3.190000000000011\n",
      "Restladezeit:  19.94788952579475\n",
      "Charging BEVs:  [30, 31, 42, 14]\n",
      "\n",
      "\n",
      "Minute:  765\n",
      "Waiting BEVs (after updating new waiting BEVs):  [37, 22, 46]\n",
      "Charging BEVs:  [31, 14, 21, 28]\n",
      "Waiting BEVs:  [37, 22, 46]\n",
      "Ladezeit = 61.09777777777754 für ID BEV 31\n",
      "Ladezeit = 17.220408163265233 für ID BEV 14\n",
      "Ladezeit = 2.018743979661849 für ID BEV 21\n",
      "Ladezeit = 8.069000398491767 für ID BEV 28\n",
      "Ladezeit = 61.09777777777754 für ID BEV 31\n",
      "Ladezeit = 17.220408163265233 für ID BEV 14\n",
      "Ladezeit = 2.018743979661849 für ID BEV 21\n",
      "Ladezeit = 8.069000398491767 für ID BEV 28\n",
      "CALCULATE NUMBER OF CHARGING STATIONS\n",
      "Number of charging stations:  4\n",
      "CALCULATE NUMBER OF CHARGING STATIONS\n",
      "Number of charging stations:  4\n",
      "AVAILABLE SOLAR POWER:  43.12\n",
      "Restladeenergie bis zur fairen Ladeenergie for BEV mit ID 31:  2.3058914814816758\n",
      "Restladezeit:  12.834275407133632\n",
      "Die Restladezeit des BEVS 31 endet vor dem nächsten Interval\n",
      "Ausgewähltes BEV das frei gewordenen Platz belegen darf:  37\n",
      "Ladestart für ausgewähltes BEV:  752.1657245928664\n",
      "10.78 CHARGING POWER WIRD FÜR NEUES BEV 37 GESPEICHERT: \n",
      "ZEITPUNKT FÜR DAS ES GESPEICHERT WIRD:  752.1657245928664\n",
      "AVAILABLE SOLAR POWER:  43.12\n",
      "Restladeenergie bis zur fairen Ladeenergie for BEV mit ID 14:  2.834919727891179\n",
      "Restladezeit:  15.778773995683743\n",
      "AVAILABLE SOLAR POWER:  43.12\n",
      "Restladeenergie bis zur fairen Ladeenergie for BEV mit ID 21:  8.069669191919076\n",
      "Restladezeit:  44.914670827007846\n",
      "AVAILABLE SOLAR POWER:  43.12\n",
      "Restladeenergie bis zur fairen Ladeenergie for BEV mit ID 28:  6.259632352941191\n",
      "Restladezeit:  34.84025428353168\n",
      "Charging BEVs:  [31, 14, 21, 28]\n",
      "\n",
      "\n",
      "Minute:  750\n",
      "Waiting BEVs (after updating new waiting BEVs):  [22, 46, 20]\n",
      "Charging BEVs:  [14, 21, 28, 37]\n",
      "Waiting BEVs:  [22, 46, 20]\n",
      "Ladezeit = 32.22040816326523 für ID BEV 14\n",
      "Ladezeit = 17.01874397966185 für ID BEV 21\n",
      "Ladezeit = 23.069000398491767 für ID BEV 28\n",
      "Ladezeit = 2.165724592866354 für ID BEV 37\n",
      "Ladezeit = 32.22040816326523 für ID BEV 14\n",
      "Ladezeit = 17.01874397966185 für ID BEV 21\n",
      "Ladezeit = 23.069000398491767 für ID BEV 28\n",
      "Ladezeit = 2.165724592866354 für ID BEV 37\n",
      "CALCULATE NUMBER OF CHARGING STATIONS\n",
      "Number of charging stations:  5\n",
      "CALCULATE NUMBER OF CHARGING STATIONS\n",
      "Number of charging stations:  5\n",
      "NUMBER OF FREE CHARGING STATIONS:  1\n",
      "CALCULATE NUMBER OF CHARGING STATIONS\n",
      "Number of charging stations:  5\n",
      "AVAILABLE SOLAR POWER:  47.88\n",
      "Restladeenergie bis zur fairen Ladeenergie for BEV mit ID 14:  2.435986394557859\n",
      "Restladezeit:  15.263072647605632\n",
      "AVAILABLE SOLAR POWER:  47.88\n",
      "Restladeenergie bis zur fairen Ladeenergie for BEV mit ID 21:  7.706968190239831\n",
      "Restladezeit:  48.289274374936284\n",
      "AVAILABLE SOLAR POWER:  47.88\n",
      "Restladeenergie bis zur fairen Ladeenergie for BEV mit ID 28:  4.80990194801217\n",
      "Restladezeit:  30.137230250702814\n",
      "AVAILABLE SOLAR POWER:  47.88\n",
      "Restladeenergie bis zur fairen Ladeenergie for BEV mit ID 37:  7.458391481481677\n",
      "Restladezeit:  46.731776199759885\n",
      "AVAILABLE SOLAR POWER:  47.88\n",
      "Restladeenergie bis zur fairen Ladeenergie for BEV mit ID 22:  6.784999999999999\n",
      "Restladezeit:  42.5125313283208\n",
      "Charging BEVs:  [14, 21, 28, 37, 22]\n",
      "\n",
      "\n",
      "Minute:  735\n",
      "Waiting BEVs (after updating new waiting BEVs):  [46, 20]\n",
      "Charging BEVs:  [14, 21, 28, 37, 22]\n",
      "Waiting BEVs:  [46, 20]\n",
      "Ladezeit = 47.22040816326523 für ID BEV 14\n",
      "Ladezeit = 32.01874397966185 für ID BEV 21\n",
      "Ladezeit = 38.06900039849177 für ID BEV 28\n",
      "Ladezeit = 17.165724592866354 für ID BEV 37\n",
      "Ladezeit = 15 für ID BEV 22\n",
      "Ladezeit = 47.22040816326523 für ID BEV 14\n",
      "Ladezeit = 32.01874397966185 für ID BEV 21\n",
      "Ladezeit = 38.06900039849177 für ID BEV 28\n",
      "Ladezeit = 17.165724592866354 für ID BEV 37\n",
      "Ladezeit = 15 für ID BEV 22\n",
      "CALCULATE NUMBER OF CHARGING STATIONS\n",
      "Number of charging stations:  5\n",
      "CALCULATE NUMBER OF CHARGING STATIONS\n",
      "Number of charging stations:  5\n",
      "AVAILABLE SOLAR POWER:  52.62\n",
      "Restladeenergie bis zur fairen Ladeenergie for BEV mit ID 14:  2.0816092517007276\n",
      "Restladezeit:  11.867783647096509\n",
      "Die Restladezeit des BEVS 14 endet vor dem nächsten Interval\n",
      "Ausgewähltes BEV das frei gewordenen Platz belegen darf:  46\n",
      "Ladestart für ausgewähltes BEV:  723.1322163529035\n",
      "10.524 CHARGING POWER WIRD FÜR NEUES BEV 46 GESPEICHERT: \n",
      "ZEITPUNKT FÜR DAS ES GESPEICHERT WIRD:  723.1322163529035\n",
      "AVAILABLE SOLAR POWER:  52.62\n",
      "Restladeenergie bis zur fairen Ladeenergie for BEV mit ID 21:  7.384776651085799\n",
      "Restladezeit:  42.10248945887001\n",
      "AVAILABLE SOLAR POWER:  52.62\n",
      "Restladeenergie bis zur fairen Ladeenergie for BEV mit ID 28:  3.5220894844128834\n",
      "Restladezeit:  20.08032773325475\n",
      "AVAILABLE SOLAR POWER:  52.62\n",
      "Restladeenergie bis zur fairen Ladeenergie for BEV mit ID 37:  7.1127418364602075\n",
      "Restladezeit:  40.55154980878112\n",
      "AVAILABLE SOLAR POWER:  52.62\n",
      "Restladeenergie bis zur fairen Ladeenergie for BEV mit ID 22:  4.390999999999999\n",
      "Restladezeit:  25.034207525655642\n",
      "Charging BEVs:  [14, 21, 28, 37, 22]\n",
      "\n",
      "\n",
      "Minute:  720\n",
      "Waiting BEVs (after updating new waiting BEVs):  [20, 9]\n",
      "Charging BEVs:  [21, 28, 37, 22, 46]\n",
      "Waiting BEVs:  [20, 9]\n",
      "Ladezeit = 47.01874397966185 für ID BEV 21\n",
      "Ladezeit = 53.06900039849177 für ID BEV 28\n",
      "Ladezeit = 32.165724592866354 für ID BEV 37\n",
      "Ladezeit = 30 für ID BEV 22\n",
      "Ladezeit = 3.1322163529034697 für ID BEV 46\n",
      "Ladezeit = 47.01874397966185 für ID BEV 21\n",
      "Ladezeit = 53.06900039849177 für ID BEV 28\n",
      "Ladezeit = 32.165724592866354 für ID BEV 37\n",
      "Ladezeit = 30 für ID BEV 22\n",
      "Ladezeit = 3.1322163529034697 für ID BEV 46\n",
      "CALCULATE NUMBER OF CHARGING STATIONS\n",
      "Number of charging stations:  5\n",
      "CALCULATE NUMBER OF CHARGING STATIONS\n",
      "Number of charging stations:  5\n",
      "AVAILABLE SOLAR POWER:  54.38\n",
      "Restladeenergie bis zur fairen Ladeenergie for BEV mit ID 21:  7.030688957053111\n",
      "Restladezeit:  38.786441469583174\n",
      "AVAILABLE SOLAR POWER:  54.38\n",
      "Restladeenergie bis zur fairen Ladeenergie for BEV mit ID 28:  2.1067868145174273\n",
      "Restladezeit:  11.62258264720905\n",
      "Die Restladezeit des BEVS 28 endet vor dem nächsten Interval\n",
      "Ausgewähltes BEV das frei gewordenen Platz belegen darf:  20\n",
      "Ladestart für ausgewähltes BEV:  708.377417352791\n",
      "10.876000000000001 CHARGING POWER WIRD FÜR NEUES BEV 20 GESPEICHERT: \n",
      "ZEITPUNKT FÜR DAS ES GESPEICHERT WIRD:  708.377417352791\n",
      "AVAILABLE SOLAR POWER:  54.38\n",
      "Restladeenergie bis zur fairen Ladeenergie for BEV mit ID 37:  6.732873742871449\n",
      "Restladezeit:  37.14347412396901\n",
      "AVAILABLE SOLAR POWER:  54.38\n",
      "Restladeenergie bis zur fairen Ladeenergie for BEV mit ID 22:  1.759999999999999\n",
      "Restladezeit:  9.70945200441338\n",
      "Die Restladezeit des BEVS 22 endet vor dem nächsten Interval\n",
      "Ausgewähltes BEV das frei gewordenen Platz belegen darf:  9\n",
      "Ladestart für ausgewähltes BEV:  710.2905479955866\n",
      "10.876000000000001 CHARGING POWER WIRD FÜR NEUES BEV 9 GESPEICHERT: \n",
      "ZEITPUNKT FÜR DAS ES GESPEICHERT WIRD:  710.2905479955866\n",
      "AVAILABLE SOLAR POWER:  54.38\n",
      "Restladeenergie bis zur fairen Ladeenergie for BEV mit ID 46:  5.43810925170073\n",
      "Restladezeit:  30.000602712582175\n",
      "Charging BEVs:  [21, 28, 37, 22, 46]\n",
      "\n",
      "\n",
      "Minute:  705\n",
      "Waiting BEVs (after updating new waiting BEVs):  []\n",
      "Charging BEVs:  [21, 37, 46, 20, 9]\n",
      "Waiting BEVs:  []\n",
      "Ladezeit = 62.01874397966185 für ID BEV 21\n",
      "Ladezeit = 47.165724592866354 für ID BEV 37\n",
      "Ladezeit = 18.13221635290347 für ID BEV 46\n",
      "Ladezeit = 3.377417352790985 für ID BEV 20\n",
      "Ladezeit = 5.290547995586621 für ID BEV 9\n",
      "Ladezeit = 62.01874397966185 für ID BEV 21\n",
      "Ladezeit = 47.165724592866354 für ID BEV 37\n",
      "Ladezeit = 18.13221635290347 für ID BEV 46\n",
      "Ladezeit = 3.377417352790985 für ID BEV 20\n",
      "Ladezeit = 5.290547995586621 für ID BEV 9\n",
      "CALCULATE NUMBER OF CHARGING STATIONS\n",
      "Number of charging stations:  5\n",
      "CALCULATE NUMBER OF CHARGING STATIONS\n",
      "Number of charging stations:  5\n"
     ]
    },
    {
     "name": "stdout",
     "output_type": "stream",
     "text": [
      "AVAILABLE SOLAR POWER:  53.12\n",
      "Restladeenergie bis zur fairen Ladeenergie for BEV mit ID 21:  6.664757965006407\n",
      "Restladezeit:  37.639822844539204\n",
      "AVAILABLE SOLAR POWER:  53.12\n",
      "Restladeenergie bis zur fairen Ladeenergie for BEV mit ID 37:  6.340300065004541\n",
      "Restladezeit:  35.807417535793725\n",
      "AVAILABLE SOLAR POWER:  53.12\n",
      "Restladeenergie bis zur fairen Ladeenergie for BEV mit ID 46:  4.870342834131095\n",
      "Restladezeit:  27.505701246975313\n",
      "AVAILABLE SOLAR POWER:  53.12\n",
      "Restladeenergie bis zur fairen Ladeenergie for BEV mit ID 20:  5.56528681451742\n",
      "Restladezeit:  31.430460172349896\n",
      "AVAILABLE SOLAR POWER:  53.12\n",
      "Restladeenergie bis zur fairen Ladeenergie for BEV mit ID 9:  4.525999999999998\n",
      "Restladezeit:  25.560993975903607\n",
      "Charging BEVs:  [21, 37, 46, 20, 9]\n",
      "\n",
      "\n",
      "Minute:  690\n",
      "Waiting BEVs (after updating new waiting BEVs):  []\n",
      "Charging BEVs:  [21, 37, 46, 20, 9]\n",
      "Waiting BEVs:  []\n",
      "Ladezeit = 77.01874397966185 für ID BEV 21\n",
      "Ladezeit = 62.165724592866354 für ID BEV 37\n",
      "Ladezeit = 33.13221635290347 für ID BEV 46\n",
      "Ladezeit = 18.377417352790985 für ID BEV 20\n",
      "Ladezeit = 20.29054799558662 für ID BEV 9\n",
      "Ladezeit = 77.01874397966185 für ID BEV 21\n",
      "Ladezeit = 62.165724592866354 für ID BEV 37\n",
      "Ladezeit = 33.13221635290347 für ID BEV 46\n",
      "Ladezeit = 18.377417352790985 für ID BEV 20\n",
      "Ladezeit = 20.29054799558662 für ID BEV 9\n",
      "CALCULATE NUMBER OF CHARGING STATIONS\n",
      "Number of charging stations:  5\n",
      "CALCULATE NUMBER OF CHARGING STATIONS\n",
      "Number of charging stations:  5\n",
      "AVAILABLE SOLAR POWER:  51.88\n",
      "Restladeenergie bis zur fairen Ladeenergie for BEV mit ID 21:  6.307305697674282\n",
      "Restladezeit:  36.47246933890294\n",
      "AVAILABLE SOLAR POWER:  51.88\n",
      "Restladeenergie bis zur fairen Ladeenergie for BEV mit ID 37:  5.956822430427672\n",
      "Restladezeit:  34.4457734990035\n",
      "AVAILABLE SOLAR POWER:  51.88\n",
      "Restladeenergie bis zur fairen Ladeenergie for BEV mit ID 46:  4.315731725243654\n",
      "Restladezeit:  24.956043129782117\n",
      "AVAILABLE SOLAR POWER:  51.88\n",
      "Restladeenergie bis zur fairen Ladeenergie for BEV mit ID 20:  4.967258781916563\n",
      "Restladezeit:  28.723547312547584\n",
      "AVAILABLE SOLAR POWER:  51.88\n",
      "Restladeenergie bis zur fairen Ladeenergie for BEV mit ID 9:  3.5892203015814603\n",
      "Restladezeit:  20.754936208065498\n",
      "Charging BEVs:  [21, 37, 46, 20, 9]\n",
      "\n",
      "\n",
      "Minute:  675\n",
      "Waiting BEVs (after updating new waiting BEVs):  []\n",
      "Charging BEVs:  [21, 37, 46, 20, 9]\n",
      "Waiting BEVs:  []\n",
      "Ladezeit = 92.01874397966185 für ID BEV 21\n",
      "Ladezeit = 77.16572459286635 für ID BEV 37\n",
      "Ladezeit = 48.13221635290347 für ID BEV 46\n",
      "Ladezeit = 33.377417352790985 für ID BEV 20\n",
      "Ladezeit = 35.29054799558662 für ID BEV 9\n",
      "Ladezeit = 92.01874397966185 für ID BEV 21\n",
      "Ladezeit = 77.16572459286635 für ID BEV 37\n",
      "Ladezeit = 48.13221635290347 für ID BEV 46\n",
      "Ladezeit = 33.377417352790985 für ID BEV 20\n",
      "Ladezeit = 35.29054799558662 für ID BEV 9\n",
      "CALCULATE NUMBER OF CHARGING STATIONS\n",
      "Number of charging stations:  5\n",
      "CALCULATE NUMBER OF CHARGING STATIONS\n",
      "Number of charging stations:  5\n",
      "AVAILABLE SOLAR POWER:  50.62\n",
      "Restladeenergie bis zur fairen Ladeenergie for BEV mit ID 21:  5.958197572124759\n",
      "Restladezeit:  35.311325002714895\n",
      "AVAILABLE SOLAR POWER:  50.62\n",
      "Restladeenergie bis zur fairen Ladeenergie for BEV mit ID 37:  5.582296457501316\n",
      "Restladezeit:  33.0835428141129\n",
      "AVAILABLE SOLAR POWER:  50.62\n",
      "Restladeenergie bis zur fairen Ladeenergie for BEV mit ID 46:  3.7740671106148804\n",
      "Restladezeit:  22.367051228456425\n",
      "AVAILABLE SOLAR POWER:  50.62\n",
      "Restladeenergie bis zur fairen Ladeenergie for BEV mit ID 20:  4.3831907410405755\n",
      "Restladezeit:  25.977029283132612\n",
      "AVAILABLE SOLAR POWER:  50.62\n",
      "Restladeenergie bis zur fairen Ladeenergie for BEV mit ID 9:  2.6743082015446804\n",
      "Restladezeit:  15.849317670158126\n",
      "Charging BEVs:  [21, 37, 46, 20, 9]\n",
      "\n",
      "\n",
      "Minute:  660\n",
      "Waiting BEVs (after updating new waiting BEVs):  []\n",
      "Charging BEVs:  [21, 37, 46, 20, 9]\n",
      "Waiting BEVs:  []\n",
      "Ladezeit = 107.01874397966185 für ID BEV 21\n",
      "Ladezeit = 92.16572459286635 für ID BEV 37\n",
      "Ladezeit = 63.13221635290347 für ID BEV 46\n",
      "Ladezeit = 48.377417352790985 für ID BEV 20\n",
      "Ladezeit = 50.29054799558662 für ID BEV 9\n",
      "Ladezeit = 107.01874397966185 für ID BEV 21\n",
      "Ladezeit = 92.16572459286635 für ID BEV 37\n",
      "Ladezeit = 63.13221635290347 für ID BEV 46\n",
      "Ladezeit = 48.377417352790985 für ID BEV 20\n",
      "Ladezeit = 50.29054799558662 für ID BEV 9\n",
      "CALCULATE NUMBER OF CHARGING STATIONS\n",
      "Number of charging stations:  5\n",
      "CALCULATE NUMBER OF CHARGING STATIONS\n",
      "Number of charging stations:  5\n",
      "AVAILABLE SOLAR POWER:  50.12\n",
      "Restladeenergie bis zur fairen Ladeenergie for BEV mit ID 21:  5.6175681712898164\n",
      "Restladezeit:  33.62470972440035\n",
      "AVAILABLE SOLAR POWER:  50.12\n",
      "Restladeenergie bis zur fairen Ladeenergie for BEV mit ID 37:  5.216866527865001\n",
      "Restladezeit:  31.22625615242419\n",
      "AVAILABLE SOLAR POWER:  50.12\n",
      "Restladeenergie bis zur fairen Ladeenergie for BEV mit ID 46:  3.2455578046683016\n",
      "Restladezeit:  19.426722693545305\n",
      "AVAILABLE SOLAR POWER:  50.12\n",
      "Restladeenergie bis zur fairen Ladeenergie for BEV mit ID 20:  3.8133078530463096\n",
      "Restladezeit:  22.82506695757967\n",
      "AVAILABLE SOLAR POWER:  50.12\n",
      "Restladeenergie bis zur fairen Ladeenergie for BEV mit ID 9:  1.7816164030893646\n",
      "Restladezeit:  10.664104567574011\n",
      "Die Restladezeit des BEVS 9 endet vor dem nächsten Interval\n",
      "Charging BEVs:  [21, 37, 46, 20, 9]\n",
      "\n",
      "\n",
      "Minute:  645\n",
      "Waiting BEVs (after updating new waiting BEVs):  []\n",
      "Charging BEVs:  [21, 37, 46, 20]\n",
      "Waiting BEVs:  []\n",
      "Ladezeit = 122.01874397966185 für ID BEV 21\n",
      "Ladezeit = 107.16572459286635 für ID BEV 37\n",
      "Ladezeit = 78.13221635290347 für ID BEV 46\n",
      "Ladezeit = 63.377417352790985 für ID BEV 20\n",
      "Ladezeit = 122.01874397966185 für ID BEV 21\n",
      "Ladezeit = 107.16572459286635 für ID BEV 37\n",
      "Ladezeit = 78.13221635290347 für ID BEV 46\n",
      "Ladezeit = 63.377417352790985 für ID BEV 20\n",
      "CALCULATE NUMBER OF CHARGING STATIONS\n",
      "Number of charging stations:  5\n",
      "CALCULATE NUMBER OF CHARGING STATIONS\n",
      "Number of charging stations:  5\n",
      "NUMBER OF FREE CHARGING STATIONS:  1\n",
      "CALCULATE NUMBER OF CHARGING STATIONS\n",
      "Number of charging stations:  5\n",
      "CALCULATE NUMBER OF CHARGING STATIONS\n",
      "Number of charging stations:  5\n",
      "AVAILABLE SOLAR POWER:  50.38\n",
      "Restladeenergie bis zur fairen Ladeenergie for BEV mit ID 21:  4.923980063136437\n",
      "Restladezeit:  23.456832376989773\n",
      "AVAILABLE SOLAR POWER:  50.38\n",
      "Restladeenergie bis zur fairen Ladeenergie for BEV mit ID 37:  4.4987228585989225\n",
      "Restladezeit:  21.430994165616145\n",
      "AVAILABLE SOLAR POWER:  50.38\n",
      "Restladeenergie bis zur fairen Ladeenergie for BEV mit ID 46:  2.3659455786920223\n",
      "Restladezeit:  11.270880089044963\n",
      "Die Restladezeit des BEVS 46 endet vor dem nächsten Interval\n",
      "AVAILABLE SOLAR POWER:  50.38\n",
      "Restladeenergie bis zur fairen Ladeenergie for BEV mit ID 20:  2.3012443186824836\n",
      "Restladezeit:  10.962656539972134\n",
      "Die Restladezeit des BEVS 20 endet vor dem nächsten Interval\n",
      "Charging BEVs:  [21, 37, 46, 20]\n",
      "\n",
      "\n",
      "Minute:  630\n",
      "Waiting BEVs (after updating new waiting BEVs):  []\n",
      "Charging BEVs:  [21, 37]\n",
      "Waiting BEVs:  []\n",
      "Ladezeit = 137.01874397966185 für ID BEV 21\n",
      "Ladezeit = 122.16572459286635 für ID BEV 37\n",
      "Ladezeit = 137.01874397966185 für ID BEV 21\n",
      "Ladezeit = 122.16572459286635 für ID BEV 37\n",
      "CALCULATE NUMBER OF CHARGING STATIONS\n",
      "Number of charging stations:  5\n",
      "CALCULATE NUMBER OF CHARGING STATIONS\n",
      "Number of charging stations:  5\n",
      "NUMBER OF FREE CHARGING STATIONS:  3\n",
      "CALCULATE NUMBER OF CHARGING STATIONS\n",
      "Number of charging stations:  5\n",
      "CALCULATE NUMBER OF CHARGING STATIONS\n",
      "Number of charging stations:  5\n",
      "AVAILABLE SOLAR POWER:  50.62\n",
      "Restladeenergie bis zur fairen Ladeenergie for BEV mit ID 21:  3.3334145817287935\n",
      "Restladezeit:  7.902207621640759\n",
      "Die Restladezeit des BEVS 21 endet vor dem nächsten Interval\n",
      "AVAILABLE SOLAR POWER:  50.62\n",
      "Restladeenergie bis zur fairen Ladeenergie for BEV mit ID 37:  1.210596405938369\n",
      "Restladezeit:  2.8698452926235536\n",
      "Die Restladezeit des BEVS 37 endet vor dem nächsten Interval\n",
      "Charging BEVs:  [21, 37]\n",
      "\n",
      "\n",
      "Minute:  615\n",
      "Waiting BEVs (after updating new waiting BEVs):  []\n",
      "Charging BEVs:  []\n",
      "Waiting BEVs:  []\n",
      "CALCULATE NUMBER OF CHARGING STATIONS\n",
      "Number of charging stations:  5\n",
      "CALCULATE NUMBER OF CHARGING STATIONS\n",
      "Number of charging stations:  5\n",
      "NUMBER OF FREE CHARGING STATIONS:  5\n",
      "CALCULATE NUMBER OF CHARGING STATIONS\n",
      "Number of charging stations:  5\n",
      "CALCULATE NUMBER OF CHARGING STATIONS\n",
      "Number of charging stations:  5\n",
      "Charging BEVs:  []\n",
      "\n",
      "\n",
      "Minute:  600\n",
      "Waiting BEVs (after updating new waiting BEVs):  []\n",
      "Charging BEVs:  []\n",
      "Waiting BEVs:  []\n",
      "CALCULATE NUMBER OF CHARGING STATIONS\n",
      "Number of charging stations:  5\n",
      "CALCULATE NUMBER OF CHARGING STATIONS\n",
      "Number of charging stations:  5\n",
      "NUMBER OF FREE CHARGING STATIONS:  5\n",
      "CALCULATE NUMBER OF CHARGING STATIONS\n"
     ]
    },
    {
     "name": "stdout",
     "output_type": "stream",
     "text": [
      "Number of charging stations:  5\n",
      "CALCULATE NUMBER OF CHARGING STATIONS\n",
      "Number of charging stations:  5\n",
      "Charging BEVs:  []\n",
      "\n",
      "\n",
      "Minute:  585\n",
      "Waiting BEVs (after updating new waiting BEVs):  []\n",
      "Charging BEVs:  []\n",
      "Waiting BEVs:  []\n",
      "CALCULATE NUMBER OF CHARGING STATIONS\n",
      "Number of charging stations:  4\n",
      "CALCULATE NUMBER OF CHARGING STATIONS\n",
      "Number of charging stations:  4\n",
      "NUMBER OF FREE CHARGING STATIONS:  4\n",
      "CALCULATE NUMBER OF CHARGING STATIONS\n",
      "Number of charging stations:  4\n",
      "CALCULATE NUMBER OF CHARGING STATIONS\n",
      "Number of charging stations:  4\n",
      "Charging BEVs:  []\n",
      "\n",
      "\n",
      "Minute:  570\n",
      "Waiting BEVs (after updating new waiting BEVs):  []\n",
      "Charging BEVs:  []\n",
      "Waiting BEVs:  []\n",
      "CALCULATE NUMBER OF CHARGING STATIONS\n",
      "Number of charging stations:  3\n",
      "CALCULATE NUMBER OF CHARGING STATIONS\n",
      "Number of charging stations:  3\n",
      "NUMBER OF FREE CHARGING STATIONS:  3\n",
      "CALCULATE NUMBER OF CHARGING STATIONS\n",
      "Number of charging stations:  3\n",
      "CALCULATE NUMBER OF CHARGING STATIONS\n",
      "Number of charging stations:  3\n",
      "Charging BEVs:  []\n",
      "\n",
      "\n",
      "Minute:  555\n",
      "Waiting BEVs (after updating new waiting BEVs):  []\n",
      "Charging BEVs:  []\n",
      "Waiting BEVs:  []\n",
      "CALCULATE NUMBER OF CHARGING STATIONS\n",
      "Number of charging stations:  3\n",
      "CALCULATE NUMBER OF CHARGING STATIONS\n",
      "Number of charging stations:  3\n",
      "NUMBER OF FREE CHARGING STATIONS:  3\n",
      "CALCULATE NUMBER OF CHARGING STATIONS\n",
      "Number of charging stations:  3\n",
      "CALCULATE NUMBER OF CHARGING STATIONS\n",
      "Number of charging stations:  3\n",
      "Charging BEVs:  []\n",
      "\n",
      "\n",
      "Minute:  540\n",
      "Waiting BEVs (after updating new waiting BEVs):  []\n",
      "Charging BEVs:  []\n",
      "Waiting BEVs:  []\n",
      "CALCULATE NUMBER OF CHARGING STATIONS\n",
      "Number of charging stations:  2\n",
      "CALCULATE NUMBER OF CHARGING STATIONS\n",
      "Number of charging stations:  2\n",
      "NUMBER OF FREE CHARGING STATIONS:  2\n",
      "CALCULATE NUMBER OF CHARGING STATIONS\n",
      "Number of charging stations:  2\n",
      "CALCULATE NUMBER OF CHARGING STATIONS\n",
      "Number of charging stations:  2\n",
      "Charging BEVs:  []\n",
      "\n",
      "\n",
      "Minute:  525\n",
      "Waiting BEVs (after updating new waiting BEVs):  []\n",
      "Charging BEVs:  []\n",
      "Waiting BEVs:  []\n",
      "CALCULATE NUMBER OF CHARGING STATIONS\n",
      "Number of charging stations:  2\n",
      "CALCULATE NUMBER OF CHARGING STATIONS\n",
      "Number of charging stations:  2\n",
      "NUMBER OF FREE CHARGING STATIONS:  2\n",
      "CALCULATE NUMBER OF CHARGING STATIONS\n",
      "Number of charging stations:  2\n",
      "CALCULATE NUMBER OF CHARGING STATIONS\n",
      "Number of charging stations:  2\n",
      "Charging BEVs:  []\n",
      "\n",
      "\n",
      "Minute:  510\n",
      "Waiting BEVs (after updating new waiting BEVs):  []\n",
      "Charging BEVs:  []\n",
      "Waiting BEVs:  []\n",
      "CALCULATE NUMBER OF CHARGING STATIONS\n",
      "Number of charging stations:  1\n",
      "CALCULATE NUMBER OF CHARGING STATIONS\n",
      "Number of charging stations:  1\n",
      "NUMBER OF FREE CHARGING STATIONS:  1\n",
      "CALCULATE NUMBER OF CHARGING STATIONS\n",
      "Number of charging stations:  1\n",
      "CALCULATE NUMBER OF CHARGING STATIONS\n",
      "Number of charging stations:  1\n",
      "Charging BEVs:  []\n",
      "\n",
      "\n",
      "Minute:  495\n",
      "Waiting BEVs (after updating new waiting BEVs):  []\n",
      "Charging BEVs:  []\n",
      "Waiting BEVs:  []\n",
      "CALCULATE NUMBER OF CHARGING STATIONS\n",
      "Number of charging stations:  1\n",
      "CALCULATE NUMBER OF CHARGING STATIONS\n",
      "Number of charging stations:  1\n",
      "NUMBER OF FREE CHARGING STATIONS:  1\n",
      "CALCULATE NUMBER OF CHARGING STATIONS\n",
      "Number of charging stations:  1\n",
      "CALCULATE NUMBER OF CHARGING STATIONS\n",
      "Number of charging stations:  1\n",
      "Charging BEVs:  []\n",
      "\n",
      "\n",
      "Minute:  480\n",
      "Waiting BEVs (after updating new waiting BEVs):  []\n",
      "Charging BEVs:  []\n",
      "Waiting BEVs:  []\n",
      "CALCULATE NUMBER OF CHARGING STATIONS\n",
      "Number of charging stations:  0\n",
      "CALCULATE NUMBER OF CHARGING STATIONS\n",
      "Number of charging stations:  0\n",
      "Charging BEVs:  []\n",
      "OPTIMIZATION DONE\n",
      "BEVs dict:  {0: [(8.5, 5.8), 'nicht parkend', [], [8.3925]], 1: [(8.5, 6.2), 'nicht parkend', [], [8.6175]], 2: [(8.5, 4.1), 'nicht parkend', [], [6.494999999999999]], 3: [(8.5, 6.1), 'nicht parkend', [], [8.6175]], 4: [(12.0, 4.0), 'wartend', [(960, 30.10259917920655, 4.09)], [4.09]], 5: [(8.5, 7.5), 'wartend', [(945, 68.41666666666663, 9.3725)], [9.3725]], 6: [(9.0, 4.4), 'nicht parkend', [], [6.987499999999999]], 7: [(13.0, 3.0), 'wartend', [(929.8974008207935, 20.389106981930922, 2.5874999999999995)], [2.5875]], 8: [(12.5, 3.5), 'wartend', [(909.5082938388625, 20.122579553148285, 3.1949999999999994)], [3.195]], 9: [(8.0, 4.0), 'wartend', [(710.2905479955866, 60.95465256316061, 5.841323280617872)], [5.484999999999999]], 10: [(13.0, 3.0), 'wartend', [(889.3857142857142, 16.519047619047683, 2.5875)], [2.5875]], 11: [(13.0, 3.0), 'wartend', [(885, 16.840909090909122, 2.5875)], [2.5875]], 12: [(8.0, 4.9), 'nicht parkend', [], [6.987499999999999]], 13: [(12.0, 4.0), 'wartend', [(876.5833333333334, 33.24829059829051, 4.09)], [4.09]], 14: [(12.0, 3.0), 'wartend', [(782.2204081632652, 59.088191810361764, 3.53)], [3.53]], 15: [(12.5, 3.5), 'wartend', [(872.8666666666666, 31.64786324786337, 3.195)], [3.195]], 16: [(8.0, 5.1), 'nicht parkend', [], [7.229999999999999]], 17: [(12.5, 3.5), 'wartend', [(868.1590909090909, 17.974475524475565, 3.195)], [3.195]], 18: [(8.0, 5.9), 'nicht parkend', [], [8.049999999999999]], 19: [(13.0, 3.0), 'wartend', [(855, 15.872727272727275, 2.5875)], [2.5875]], 20: [(8.5, 4.0), 'wartend', [(708.377417352791, 74.34007389276314, 6.75281107967062)], [6.177499999999999]], 21: [(8.5, 6.0), 'wartend', [(767.0187439796618, 144.9209516013026, 10.66450549383358)], [8.3925]], 22: [(8.5, 4.5), 'wartend', [(750, 39.70945200441338, 6.784999999999999)], [6.784999999999999]], 23: [(13.0, 3.0), 'wartend', [(843.3350427350429, 15.236456876456828, 2.5875)], [2.5875]], 24: [(13.0, 3.0), 'wartend', [(841.2188034188032, 15.121025641025653, 2.5875)], [2.5875]], 25: [(8.0, 3.9), 'nicht parkend', [], [5.484999999999999]], 26: [(8.5, 3.7), 'nicht parkend', [], [5.734999999999999]], 27: [(13.5, 2.5), 'wartend', [(850.1846153846153, 12.700979020979048, 2.0875000000000004)], [2.0875000000000004]], 28: [(9.0, 5.0), 'wartend', [(773.0690003984918, 64.69158304570078, 7.549999999999999)], [7.549999999999999]], 29: [(12.5, 3.5), 'wartend', [(839.1272727272727, 18.75746140651802, 3.195)], [3.195]], 30: [(12.0, 4.0), 'wartend', [(828.098585858586, 61.079841878924185, 4.09)], [4.09]], 31: [(12.5, 3.5), 'wartend', [(826.0977777777775, 73.93205318491118, 3.1949999999999994)], [3.195]], 32: [(9.0, 5.4), 'nicht parkend', [], [8.094999999999999]], 33: [(8.5, 4.9), 'nicht parkend', [], [7.284999999999999]], 34: [(12.5, 3.1), 'nicht parkend', [], [3.0799999999999996]], 35: [(8.5, 3.1), 'nicht parkend', [], [4.76]], 36: [(8.0, 7.8), 'nicht parkend', [], [9.575]], 37: [(8.5, 5.5), 'wartend', [(752.1657245928664, 125.03556988548996, 8.452798202969184)], [7.847499999999999]], 38: [(12.5, 3.5), 'wartend', [(837.4836363636363, 18.819485420240085, 3.195)], [3.195]], 39: [(13.0, 3.0), 'wartend', [(820.3698113207547, 15.828634850166509, 2.5875)], [2.5875]], 40: [(8.0, 4.1), 'nicht parkend', [], [5.937499999999999]], 41: [(12.5, 3.5), 'wartend', [(818.6641509433962, 19.707288198298215, 3.195)], [3.195]], 42: [(12.0, 4.0), 'wartend', [(804.5411764705882, 31.47217607209643, 4.09)], [4.09]], 43: [(8.5, 6.7), 'nicht parkend', [], [8.975]], 44: [(9.0, 6.2), 'nicht parkend', [], [8.677499999999998]], 45: [(8.5, 7.1), 'nicht parkend', [], [9.2575]], 46: [(9.5, 3.5), 'wartend', [(723.1322163529035, 89.40309644194838, 7.154297474343625)], [5.987499999999999]], 47: [(8.0, 6.6), 'nicht parkend', [], [8.819999999999999]], 48: [(13.0, 3.0), 'wartend', [(798.956862745098, 16.73645458183273, 2.5875)], [2.5875]], 49: [(8.5, 3.1), 'nicht parkend', [], [4.76]]}\n"
     ]
    }
   ],
   "source": [
    "import distributionAlgorithmPolling\n",
    "import simulationClasses\n",
    "import simulationData\n",
    "import simulationOutputDataVisualisation\n",
    "import distributionAlgorithmForecast\n",
    "import distributionAlgorithmForecastPolling\n",
    "import postOptimization\n",
    "import numpy as np\n",
    "\n",
    "simulation_day = simulationClasses.SimulationDay(anzahl_bevs_pro_tag)\n",
    "bev_data = simulationData.BevData()\n",
    "table_dict = simulationData.TableDict()\n",
    "simulation_data = simulationData.SimulationData()\n",
    "\n",
    "# Auswahl des Algorithmus\n",
    "# algorithm = distributionAlgorithmPolling.Algorithm.POLLING_FIFO\n",
    "# algorithm = distributionAlgorithmPolling.Algorithm.POLLING_EVEN_DISTRIBUTION\n",
    "# distributionAlgorithmPolling.start_simulation(solarpeakleistung, maximale_ladezeit, ladeleistung_pro_bev, simulation_day, bev_data, table_dict, simulation_data, algorithm, minute_interval)\n",
    "\n",
    "#distributionAlgorithmForecast.start_algorithm(simulation_data, simulation_day, maximale_ladezeit, solarpeakleistung, \n",
    "  #                  bev_data, table_dict, ladeleistung_pro_bev, minute_interval)\n",
    "\n",
    "#distributionAlgorithmForecastPolling.start_simulation(solarpeakleistung, ladeleistung_pro_bev,\n",
    "     #                simulation_day, bev_data, table_dict, simulation_data, minute_interval)\n",
    "    \n",
    "day_in_minute_interval_steps = list(np.around(np.arange(480, 960 + 1, minute_interval), 1))\n",
    "distributionAlgorithmForecastPolling.init_simulation(day_in_minute_interval_steps, minute_interval, simulation_data, \n",
    "                                                     simulation_day, solarpeakleistung)\n",
    "\n",
    "postOptimization.start_post_optimization(minute_interval, simulation_day, solarpeakleistung, bev_data, table_dict, simulation_data,\n",
    "                    ladeleistung_pro_bev)\n",
    "    \n",
    "# nochmal ein Durchgang wo frei gewordener Platz belegt wird"
   ]
  },
  {
   "cell_type": "markdown",
   "metadata": {},
   "source": [
    "### Ergebnis Algorithmus"
   ]
  },
  {
   "cell_type": "code",
   "execution_count": 4,
   "metadata": {
    "pycharm": {
     "is_executing": true
    }
   },
   "outputs": [
    {
     "data": {
      "text/markdown": [
       ">**Ergebnis**<br>Geladene BEVs: 29 von 50<br>Aufgeladene Solarenergie insgesamt: 127.62 kWh<br>Ungenutzte Solarenergie insgesamt: 68.7175 kWh"
      ],
      "text/plain": [
       "<IPython.core.display.Markdown object>"
      ]
     },
     "execution_count": 4,
     "metadata": {},
     "output_type": "execute_result"
    }
   ],
   "source": [
    "simulationOutputDataVisualisation.print_algorithm_result(bev_data, simulation_data, anzahl_bevs_pro_tag)"
   ]
  },
  {
   "cell_type": "markdown",
   "metadata": {},
   "source": [
    "### Tabellarische Übersicht Park- und Ladeverlauf der BEVs"
   ]
  },
  {
   "cell_type": "code",
   "execution_count": 5,
   "metadata": {
    "pycharm": {
     "is_executing": true
    }
   },
   "outputs": [
    {
     "data": {
      "application/vnd.jupyter.widget-view+json": {
       "model_id": "533489a92a5c40d482e1fc9f57b00040",
       "version_major": 2,
       "version_minor": 0
      },
      "text/plain": [
       "interactive(children=(IntSlider(value=480, description='Minute: ', max=960, min=480, step=15), Output()), _dom…"
      ]
     },
     "metadata": {},
     "output_type": "display_data"
    }
   ],
   "source": [
    "simulationOutputDataVisualisation.create_tabular_overview_per_minute_slider(table_dict, minute_interval)"
   ]
  },
  {
   "cell_type": "code",
   "execution_count": 6,
   "metadata": {
    "pycharm": {
     "is_executing": true
    }
   },
   "outputs": [
    {
     "data": {
      "application/vnd.plotly.v1+json": {
       "config": {
        "plotlyServerURL": "https://plot.ly"
       },
       "data": [
        {
         "line": {
          "color": "orange"
         },
         "name": "Verfügbare Solarleistung",
         "type": "scatter",
         "x": [
          480,
          495,
          510,
          525,
          540,
          555,
          570,
          585,
          600,
          615,
          630,
          645,
          660,
          675,
          690,
          705,
          720,
          735,
          750,
          765,
          780,
          795,
          810,
          825,
          840,
          855,
          870,
          885,
          900,
          915,
          930,
          945,
          960
         ],
         "y": [
          -2,
          3.25,
          8.5,
          13.749999999999998,
          19,
          27,
          35,
          43,
          51,
          50.75,
          50.5,
          50.25,
          50,
          51.25,
          52.5,
          53.75,
          55,
          50.25,
          45.5,
          40.75,
          36,
          37.5,
          39,
          40.5,
          42,
          36,
          30,
          24,
          18,
          15.75,
          13.5,
          11.25,
          9
         ]
        },
        {
         "line": {
          "color": "green"
         },
         "mode": "lines",
         "name": "ID BEV 4",
         "type": "scatter",
         "x": [
          929.8974008207935,
          929.8974008207935,
          930,
          945,
          960,
          960
         ],
         "y": [
          7.31,
          0,
          6.75,
          5.625,
          0,
          9
         ]
        },
        {
         "line": {
          "color": "green"
         },
         "mode": "lines",
         "name": "ID BEV 5",
         "type": "scatter",
         "x": [
          876.5833333333334,
          876.5833333333334,
          885,
          900,
          915,
          930,
          945,
          945
         ],
         "y": [
          9,
          0,
          8,
          9,
          7.875,
          13.5,
          0,
          11.25
         ]
        },
        {
         "line": {
          "color": "green"
         },
         "mode": "lines",
         "name": "ID BEV 7",
         "type": "scatter",
         "x": [
          909.5082938388625,
          909.5082938388625,
          915,
          929.8974008207935,
          929.8974008207935
         ],
         "y": [
          8.44,
          0,
          15.75,
          0,
          14.62
         ]
        },
        {
         "line": {
          "color": "green"
         },
         "mode": "lines",
         "name": "ID BEV 8",
         "type": "scatter",
         "x": [
          889.3857142857142,
          889.3857142857142,
          900,
          909.5082938388625,
          909.5082938388625
         ],
         "y": [
          10.5,
          0,
          18,
          0,
          16.88
         ]
        },
        {
         "line": {
          "color": "green"
         },
         "mode": "lines",
         "name": "ID BEV 10",
         "type": "scatter",
         "x": [
          872.8666666666666,
          872.8666666666666,
          885,
          889.3857142857142,
          889.3857142857142
         ],
         "y": [
          9,
          0,
          16,
          0,
          21
         ]
        },
        {
         "line": {
          "color": "green"
         },
         "mode": "lines",
         "name": "ID BEV 11",
         "type": "scatter",
         "x": [
          868.1590909090909,
          868.1590909090909,
          870,
          885,
          885
         ],
         "y": [
          11,
          0,
          10,
          0,
          24
         ]
        },
        {
         "line": {
          "color": "green"
         },
         "mode": "lines",
         "name": "ID BEV 13",
         "type": "scatter",
         "x": [
          843.3350427350429,
          843.3350427350429,
          855,
          870,
          876.5833333333334,
          876.5833333333334
         ],
         "y": [
          9.75,
          0,
          9,
          20,
          0,
          18
         ]
        },
        {
         "line": {
          "color": "green"
         },
         "mode": "lines",
         "name": "ID BEV 15",
         "type": "scatter",
         "x": [
          841.2188034188032,
          841.2188034188032,
          855,
          870,
          872.8666666666666,
          872.8666666666666
         ],
         "y": [
          9.75,
          0,
          18,
          30,
          0,
          18
         ]
        },
        {
         "line": {
          "color": "green"
         },
         "mode": "lines",
         "name": "ID BEV 17",
         "type": "scatter",
         "x": [
          850.1846153846153,
          850.1846153846153,
          855,
          868.1590909090909,
          868.1590909090909
         ],
         "y": [
          9.75,
          0,
          27,
          0,
          22
         ]
        },
        {
         "line": {
          "color": "green"
         },
         "mode": "lines",
         "name": "ID BEV 19",
         "type": "scatter",
         "x": [
          839.1272727272727,
          839.1272727272727,
          840,
          855,
          855
         ],
         "y": [
          10.3125,
          0,
          10.5,
          0,
          36
         ]
        },
        {
         "line": {
          "color": "green"
         },
         "mode": "lines",
         "name": "ID BEV 23",
         "type": "scatter",
         "x": [
          828.098585858586,
          828.098585858586,
          840,
          843.3350427350429,
          843.3350427350429
         ],
         "y": [
          10.3125,
          0,
          21,
          0,
          19.5
         ]
        },
        {
         "line": {
          "color": "green"
         },
         "mode": "lines",
         "name": "ID BEV 24",
         "type": "scatter",
         "x": [
          826.0977777777775,
          826.0977777777775,
          840,
          841.2188034188032,
          841.2188034188032
         ],
         "y": [
          10.3125,
          0,
          31.5,
          0,
          19.5
         ]
        },
        {
         "line": {
          "color": "green"
         },
         "mode": "lines",
         "name": "ID BEV 27",
         "type": "scatter",
         "x": [
          837.4836363636363,
          837.4836363636363,
          840,
          850.1846153846153,
          850.1846153846153
         ],
         "y": [
          10.3125,
          0,
          42,
          0,
          19.5
         ]
        },
        {
         "line": {
          "color": "green"
         },
         "mode": "lines",
         "name": "ID BEV 29",
         "type": "scatter",
         "x": [
          820.3698113207547,
          820.3698113207547,
          825,
          839.1272727272727,
          839.1272727272727
         ],
         "y": [
          9.9375,
          0,
          10.125,
          0,
          20.625
         ]
        },
        {
         "line": {
          "color": "green"
         },
         "mode": "lines",
         "name": "ID BEV 30",
         "type": "scatter",
         "x": [
          767.0187439796618,
          767.0187439796618,
          780,
          795,
          810,
          825,
          828.098585858586,
          828.098585858586
         ],
         "y": [
          9.595,
          0,
          9,
          9.375,
          9.75,
          20.25,
          0,
          20.625
         ]
        },
        {
         "line": {
          "color": "green"
         },
         "mode": "lines",
         "name": "ID BEV 31",
         "type": "scatter",
         "x": [
          752.1657245928664,
          752.1657245928664,
          765,
          780,
          795,
          810,
          825,
          826.0977777777775,
          826.0977777777775
         ],
         "y": [
          10.78,
          0,
          10.1875,
          18,
          18.75,
          19.5,
          30.375,
          0,
          20.625
         ]
        },
        {
         "line": {
          "color": "green"
         },
         "mode": "lines",
         "name": "ID BEV 38",
         "type": "scatter",
         "x": [
          818.6641509433962,
          818.6641509433962,
          825,
          837.4836363636363,
          837.4836363636363
         ],
         "y": [
          9.9375,
          0,
          40.5,
          0,
          20.625
         ]
        },
        {
         "line": {
          "color": "green"
         },
         "mode": "lines",
         "name": "ID BEV 39",
         "type": "scatter",
         "x": [
          804.5411764705882,
          804.5411764705882,
          810,
          820.3698113207547,
          820.3698113207547
         ],
         "y": [
          9.5625,
          0,
          29.25,
          0,
          19.875
         ]
        },
        {
         "line": {
          "color": "green"
         },
         "mode": "lines",
         "name": "ID BEV 41",
         "type": "scatter",
         "x": [
          798.956862745098,
          798.956862745098,
          810,
          818.6641509433962,
          818.6641509433962
         ],
         "y": [
          9.5625,
          0,
          39,
          0,
          19.875
         ]
        },
        {
         "line": {
          "color": "green"
         },
         "mode": "lines",
         "name": "ID BEV 42",
         "type": "scatter",
         "x": [
          773.0690003984918,
          773.0690003984918,
          780,
          795,
          804.5411764705882,
          804.5411764705882
         ],
         "y": [
          9.595,
          0,
          27,
          28.125,
          0,
          19.125
         ]
        },
        {
         "line": {
          "color": "green"
         },
         "mode": "lines",
         "name": "ID BEV 48",
         "type": "scatter",
         "x": [
          782.2204081632652,
          782.2204081632652,
          795,
          798.956862745098,
          798.956862745098
         ],
         "y": [
          9.1875,
          0,
          37.5,
          0,
          19.125
         ]
        },
        {
         "line": {
          "color": "green"
         },
         "mode": "lines",
         "name": "ID BEV 14",
         "type": "scatter",
         "x": [
          723.1322163529035,
          723.1322163529035,
          735,
          750,
          765,
          780,
          782.2204081632652,
          782.2204081632652
         ],
         "y": [
          10.524,
          0,
          10.05,
          9.1,
          20.375,
          36,
          0,
          18.375
         ]
        },
        {
         "line": {
          "color": "green"
         },
         "mode": "lines",
         "name": "ID BEV 21",
         "type": "scatter",
         "x": [
          622.0977923783593,
          622.0977923783593,
          630,
          645,
          660,
          675,
          690,
          705,
          720,
          735,
          750,
          765,
          767.0187439796618,
          767.0187439796618
         ],
         "y": [
          25.31,
          0,
          25.25,
          12.5625,
          10,
          10.25,
          10.5,
          10.75,
          11,
          20.1,
          18.2,
          30.5625,
          0,
          19.19
         ]
        },
        {
         "line": {
          "color": "green"
         },
         "mode": "lines",
         "name": "ID BEV 28",
         "type": "scatter",
         "x": [
          708.377417352791,
          708.377417352791,
          720,
          735,
          750,
          765,
          773.0690003984918,
          773.0690003984918
         ],
         "y": [
          10.876000000000001,
          0,
          22,
          30.150000000000002,
          27.299999999999997,
          40.75,
          0,
          19.19
         ]
        },
        {
         "line": {
          "color": "green"
         },
         "mode": "lines",
         "name": "ID BEV 37",
         "type": "scatter",
         "x": [
          627.1301547073764,
          627.1301547073764,
          630,
          645,
          660,
          675,
          690,
          705,
          720,
          735,
          750,
          752.1657245928664,
          752.1657245928664
         ],
         "y": [
          25.31,
          0,
          50.5,
          25.125,
          20,
          20.5,
          21,
          21.5,
          33,
          40.2,
          36.4,
          0,
          21.56
         ]
        },
        {
         "line": {
          "color": "green"
         },
         "mode": "lines",
         "name": "ID BEV 22",
         "type": "scatter",
         "x": [
          710.2905479955866,
          710.2905479955866,
          720,
          735,
          750,
          750
         ],
         "y": [
          10.876000000000001,
          0,
          44,
          50.25,
          0,
          45.5
         ]
        },
        {
         "line": {
          "color": "green"
         },
         "mode": "lines",
         "name": "ID BEV 46",
         "type": "scatter",
         "x": [
          633.7291199109551,
          633.7291199109551,
          645,
          660,
          675,
          690,
          705,
          720,
          723.1322163529035,
          723.1322163529035
         ],
         "y": [
          12.595,
          0,
          37.6875,
          30,
          30.75,
          31.5,
          32.25,
          55,
          0,
          21.048
         ]
        },
        {
         "line": {
          "color": "green"
         },
         "mode": "lines",
         "name": "ID BEV 20",
         "type": "scatter",
         "x": [
          634.0373434600278,
          634.0373434600278,
          645,
          660,
          675,
          690,
          705,
          708.377417352791,
          708.377417352791
         ],
         "y": [
          12.595,
          0,
          50.25,
          40,
          41,
          42,
          43,
          0,
          21.752000000000002
         ]
        },
        {
         "line": {
          "color": "green"
         },
         "mode": "lines",
         "name": "ID BEV 9",
         "type": "scatter",
         "x": [
          649.335895432426,
          649.335895432426,
          660,
          675,
          690,
          705,
          710.2905479955866,
          710.2905479955866
         ],
         "y": [
          10.024,
          0,
          50,
          51.25,
          52.5,
          53.75,
          0,
          21.752000000000002
         ]
        }
       ],
       "layout": {
        "template": {
         "data": {
          "bar": [
           {
            "error_x": {
             "color": "#2a3f5f"
            },
            "error_y": {
             "color": "#2a3f5f"
            },
            "marker": {
             "line": {
              "color": "white",
              "width": 0.5
             },
             "pattern": {
              "fillmode": "overlay",
              "size": 10,
              "solidity": 0.2
             }
            },
            "type": "bar"
           }
          ],
          "barpolar": [
           {
            "marker": {
             "line": {
              "color": "white",
              "width": 0.5
             },
             "pattern": {
              "fillmode": "overlay",
              "size": 10,
              "solidity": 0.2
             }
            },
            "type": "barpolar"
           }
          ],
          "carpet": [
           {
            "aaxis": {
             "endlinecolor": "#2a3f5f",
             "gridcolor": "#C8D4E3",
             "linecolor": "#C8D4E3",
             "minorgridcolor": "#C8D4E3",
             "startlinecolor": "#2a3f5f"
            },
            "baxis": {
             "endlinecolor": "#2a3f5f",
             "gridcolor": "#C8D4E3",
             "linecolor": "#C8D4E3",
             "minorgridcolor": "#C8D4E3",
             "startlinecolor": "#2a3f5f"
            },
            "type": "carpet"
           }
          ],
          "choropleth": [
           {
            "colorbar": {
             "outlinewidth": 0,
             "ticks": ""
            },
            "type": "choropleth"
           }
          ],
          "contour": [
           {
            "colorbar": {
             "outlinewidth": 0,
             "ticks": ""
            },
            "colorscale": [
             [
              0,
              "#0d0887"
             ],
             [
              0.1111111111111111,
              "#46039f"
             ],
             [
              0.2222222222222222,
              "#7201a8"
             ],
             [
              0.3333333333333333,
              "#9c179e"
             ],
             [
              0.4444444444444444,
              "#bd3786"
             ],
             [
              0.5555555555555556,
              "#d8576b"
             ],
             [
              0.6666666666666666,
              "#ed7953"
             ],
             [
              0.7777777777777778,
              "#fb9f3a"
             ],
             [
              0.8888888888888888,
              "#fdca26"
             ],
             [
              1,
              "#f0f921"
             ]
            ],
            "type": "contour"
           }
          ],
          "contourcarpet": [
           {
            "colorbar": {
             "outlinewidth": 0,
             "ticks": ""
            },
            "type": "contourcarpet"
           }
          ],
          "heatmap": [
           {
            "colorbar": {
             "outlinewidth": 0,
             "ticks": ""
            },
            "colorscale": [
             [
              0,
              "#0d0887"
             ],
             [
              0.1111111111111111,
              "#46039f"
             ],
             [
              0.2222222222222222,
              "#7201a8"
             ],
             [
              0.3333333333333333,
              "#9c179e"
             ],
             [
              0.4444444444444444,
              "#bd3786"
             ],
             [
              0.5555555555555556,
              "#d8576b"
             ],
             [
              0.6666666666666666,
              "#ed7953"
             ],
             [
              0.7777777777777778,
              "#fb9f3a"
             ],
             [
              0.8888888888888888,
              "#fdca26"
             ],
             [
              1,
              "#f0f921"
             ]
            ],
            "type": "heatmap"
           }
          ],
          "heatmapgl": [
           {
            "colorbar": {
             "outlinewidth": 0,
             "ticks": ""
            },
            "colorscale": [
             [
              0,
              "#0d0887"
             ],
             [
              0.1111111111111111,
              "#46039f"
             ],
             [
              0.2222222222222222,
              "#7201a8"
             ],
             [
              0.3333333333333333,
              "#9c179e"
             ],
             [
              0.4444444444444444,
              "#bd3786"
             ],
             [
              0.5555555555555556,
              "#d8576b"
             ],
             [
              0.6666666666666666,
              "#ed7953"
             ],
             [
              0.7777777777777778,
              "#fb9f3a"
             ],
             [
              0.8888888888888888,
              "#fdca26"
             ],
             [
              1,
              "#f0f921"
             ]
            ],
            "type": "heatmapgl"
           }
          ],
          "histogram": [
           {
            "marker": {
             "pattern": {
              "fillmode": "overlay",
              "size": 10,
              "solidity": 0.2
             }
            },
            "type": "histogram"
           }
          ],
          "histogram2d": [
           {
            "colorbar": {
             "outlinewidth": 0,
             "ticks": ""
            },
            "colorscale": [
             [
              0,
              "#0d0887"
             ],
             [
              0.1111111111111111,
              "#46039f"
             ],
             [
              0.2222222222222222,
              "#7201a8"
             ],
             [
              0.3333333333333333,
              "#9c179e"
             ],
             [
              0.4444444444444444,
              "#bd3786"
             ],
             [
              0.5555555555555556,
              "#d8576b"
             ],
             [
              0.6666666666666666,
              "#ed7953"
             ],
             [
              0.7777777777777778,
              "#fb9f3a"
             ],
             [
              0.8888888888888888,
              "#fdca26"
             ],
             [
              1,
              "#f0f921"
             ]
            ],
            "type": "histogram2d"
           }
          ],
          "histogram2dcontour": [
           {
            "colorbar": {
             "outlinewidth": 0,
             "ticks": ""
            },
            "colorscale": [
             [
              0,
              "#0d0887"
             ],
             [
              0.1111111111111111,
              "#46039f"
             ],
             [
              0.2222222222222222,
              "#7201a8"
             ],
             [
              0.3333333333333333,
              "#9c179e"
             ],
             [
              0.4444444444444444,
              "#bd3786"
             ],
             [
              0.5555555555555556,
              "#d8576b"
             ],
             [
              0.6666666666666666,
              "#ed7953"
             ],
             [
              0.7777777777777778,
              "#fb9f3a"
             ],
             [
              0.8888888888888888,
              "#fdca26"
             ],
             [
              1,
              "#f0f921"
             ]
            ],
            "type": "histogram2dcontour"
           }
          ],
          "mesh3d": [
           {
            "colorbar": {
             "outlinewidth": 0,
             "ticks": ""
            },
            "type": "mesh3d"
           }
          ],
          "parcoords": [
           {
            "line": {
             "colorbar": {
              "outlinewidth": 0,
              "ticks": ""
             }
            },
            "type": "parcoords"
           }
          ],
          "pie": [
           {
            "automargin": true,
            "type": "pie"
           }
          ],
          "scatter": [
           {
            "marker": {
             "colorbar": {
              "outlinewidth": 0,
              "ticks": ""
             }
            },
            "type": "scatter"
           }
          ],
          "scatter3d": [
           {
            "line": {
             "colorbar": {
              "outlinewidth": 0,
              "ticks": ""
             }
            },
            "marker": {
             "colorbar": {
              "outlinewidth": 0,
              "ticks": ""
             }
            },
            "type": "scatter3d"
           }
          ],
          "scattercarpet": [
           {
            "marker": {
             "colorbar": {
              "outlinewidth": 0,
              "ticks": ""
             }
            },
            "type": "scattercarpet"
           }
          ],
          "scattergeo": [
           {
            "marker": {
             "colorbar": {
              "outlinewidth": 0,
              "ticks": ""
             }
            },
            "type": "scattergeo"
           }
          ],
          "scattergl": [
           {
            "marker": {
             "colorbar": {
              "outlinewidth": 0,
              "ticks": ""
             }
            },
            "type": "scattergl"
           }
          ],
          "scattermapbox": [
           {
            "marker": {
             "colorbar": {
              "outlinewidth": 0,
              "ticks": ""
             }
            },
            "type": "scattermapbox"
           }
          ],
          "scatterpolar": [
           {
            "marker": {
             "colorbar": {
              "outlinewidth": 0,
              "ticks": ""
             }
            },
            "type": "scatterpolar"
           }
          ],
          "scatterpolargl": [
           {
            "marker": {
             "colorbar": {
              "outlinewidth": 0,
              "ticks": ""
             }
            },
            "type": "scatterpolargl"
           }
          ],
          "scatterternary": [
           {
            "marker": {
             "colorbar": {
              "outlinewidth": 0,
              "ticks": ""
             }
            },
            "type": "scatterternary"
           }
          ],
          "surface": [
           {
            "colorbar": {
             "outlinewidth": 0,
             "ticks": ""
            },
            "colorscale": [
             [
              0,
              "#0d0887"
             ],
             [
              0.1111111111111111,
              "#46039f"
             ],
             [
              0.2222222222222222,
              "#7201a8"
             ],
             [
              0.3333333333333333,
              "#9c179e"
             ],
             [
              0.4444444444444444,
              "#bd3786"
             ],
             [
              0.5555555555555556,
              "#d8576b"
             ],
             [
              0.6666666666666666,
              "#ed7953"
             ],
             [
              0.7777777777777778,
              "#fb9f3a"
             ],
             [
              0.8888888888888888,
              "#fdca26"
             ],
             [
              1,
              "#f0f921"
             ]
            ],
            "type": "surface"
           }
          ],
          "table": [
           {
            "cells": {
             "fill": {
              "color": "#EBF0F8"
             },
             "line": {
              "color": "white"
             }
            },
            "header": {
             "fill": {
              "color": "#C8D4E3"
             },
             "line": {
              "color": "white"
             }
            },
            "type": "table"
           }
          ]
         },
         "layout": {
          "annotationdefaults": {
           "arrowcolor": "#2a3f5f",
           "arrowhead": 0,
           "arrowwidth": 1
          },
          "autotypenumbers": "strict",
          "coloraxis": {
           "colorbar": {
            "outlinewidth": 0,
            "ticks": ""
           }
          },
          "colorscale": {
           "diverging": [
            [
             0,
             "#8e0152"
            ],
            [
             0.1,
             "#c51b7d"
            ],
            [
             0.2,
             "#de77ae"
            ],
            [
             0.3,
             "#f1b6da"
            ],
            [
             0.4,
             "#fde0ef"
            ],
            [
             0.5,
             "#f7f7f7"
            ],
            [
             0.6,
             "#e6f5d0"
            ],
            [
             0.7,
             "#b8e186"
            ],
            [
             0.8,
             "#7fbc41"
            ],
            [
             0.9,
             "#4d9221"
            ],
            [
             1,
             "#276419"
            ]
           ],
           "sequential": [
            [
             0,
             "#0d0887"
            ],
            [
             0.1111111111111111,
             "#46039f"
            ],
            [
             0.2222222222222222,
             "#7201a8"
            ],
            [
             0.3333333333333333,
             "#9c179e"
            ],
            [
             0.4444444444444444,
             "#bd3786"
            ],
            [
             0.5555555555555556,
             "#d8576b"
            ],
            [
             0.6666666666666666,
             "#ed7953"
            ],
            [
             0.7777777777777778,
             "#fb9f3a"
            ],
            [
             0.8888888888888888,
             "#fdca26"
            ],
            [
             1,
             "#f0f921"
            ]
           ],
           "sequentialminus": [
            [
             0,
             "#0d0887"
            ],
            [
             0.1111111111111111,
             "#46039f"
            ],
            [
             0.2222222222222222,
             "#7201a8"
            ],
            [
             0.3333333333333333,
             "#9c179e"
            ],
            [
             0.4444444444444444,
             "#bd3786"
            ],
            [
             0.5555555555555556,
             "#d8576b"
            ],
            [
             0.6666666666666666,
             "#ed7953"
            ],
            [
             0.7777777777777778,
             "#fb9f3a"
            ],
            [
             0.8888888888888888,
             "#fdca26"
            ],
            [
             1,
             "#f0f921"
            ]
           ]
          },
          "colorway": [
           "#636efa",
           "#EF553B",
           "#00cc96",
           "#ab63fa",
           "#FFA15A",
           "#19d3f3",
           "#FF6692",
           "#B6E880",
           "#FF97FF",
           "#FECB52"
          ],
          "font": {
           "color": "#2a3f5f"
          },
          "geo": {
           "bgcolor": "white",
           "lakecolor": "white",
           "landcolor": "white",
           "showlakes": true,
           "showland": true,
           "subunitcolor": "#C8D4E3"
          },
          "hoverlabel": {
           "align": "left"
          },
          "hovermode": "closest",
          "mapbox": {
           "style": "light"
          },
          "paper_bgcolor": "white",
          "plot_bgcolor": "white",
          "polar": {
           "angularaxis": {
            "gridcolor": "#EBF0F8",
            "linecolor": "#EBF0F8",
            "ticks": ""
           },
           "bgcolor": "white",
           "radialaxis": {
            "gridcolor": "#EBF0F8",
            "linecolor": "#EBF0F8",
            "ticks": ""
           }
          },
          "scene": {
           "xaxis": {
            "backgroundcolor": "white",
            "gridcolor": "#DFE8F3",
            "gridwidth": 2,
            "linecolor": "#EBF0F8",
            "showbackground": true,
            "ticks": "",
            "zerolinecolor": "#EBF0F8"
           },
           "yaxis": {
            "backgroundcolor": "white",
            "gridcolor": "#DFE8F3",
            "gridwidth": 2,
            "linecolor": "#EBF0F8",
            "showbackground": true,
            "ticks": "",
            "zerolinecolor": "#EBF0F8"
           },
           "zaxis": {
            "backgroundcolor": "white",
            "gridcolor": "#DFE8F3",
            "gridwidth": 2,
            "linecolor": "#EBF0F8",
            "showbackground": true,
            "ticks": "",
            "zerolinecolor": "#EBF0F8"
           }
          },
          "shapedefaults": {
           "line": {
            "color": "#2a3f5f"
           }
          },
          "ternary": {
           "aaxis": {
            "gridcolor": "#DFE8F3",
            "linecolor": "#A2B1C6",
            "ticks": ""
           },
           "baxis": {
            "gridcolor": "#DFE8F3",
            "linecolor": "#A2B1C6",
            "ticks": ""
           },
           "bgcolor": "white",
           "caxis": {
            "gridcolor": "#DFE8F3",
            "linecolor": "#A2B1C6",
            "ticks": ""
           }
          },
          "title": {
           "x": 0.05
          },
          "xaxis": {
           "automargin": true,
           "gridcolor": "#EBF0F8",
           "linecolor": "#EBF0F8",
           "ticks": "",
           "title": {
            "standoff": 15
           },
           "zerolinecolor": "#EBF0F8",
           "zerolinewidth": 2
          },
          "yaxis": {
           "automargin": true,
           "gridcolor": "#EBF0F8",
           "linecolor": "#EBF0F8",
           "ticks": "",
           "title": {
            "standoff": 15
           },
           "zerolinecolor": "#EBF0F8",
           "zerolinewidth": 2
          }
         }
        },
        "title": {
         "font": {
          "size": 24
         },
         "text": "Ladeleistung pro Ladezeitraum eines BEVs",
         "x": 0.5,
         "xanchor": "center"
        },
        "xaxis": {
         "range": [
          480,
          960
         ],
         "showgrid": true,
         "title": {
          "text": "Minuten"
         }
        },
        "yaxis": {
         "range": [
          0,
          60
         ],
         "title": {
          "text": "Energie in kW"
         }
        }
       }
      },
      "text/html": [
       "<div>                            <div id=\"a401092e-857c-49ba-be89-1b41258a3b7e\" class=\"plotly-graph-div\" style=\"height:525px; width:100%;\"></div>            <script type=\"text/javascript\">                require([\"plotly\"], function(Plotly) {                    window.PLOTLYENV=window.PLOTLYENV || {};                                    if (document.getElementById(\"a401092e-857c-49ba-be89-1b41258a3b7e\")) {                    Plotly.newPlot(                        \"a401092e-857c-49ba-be89-1b41258a3b7e\",                        [{\"line\":{\"color\":\"orange\"},\"name\":\"Verf\\u00fcgbare Solarleistung\",\"x\":[480,495,510,525,540,555,570,585,600,615,630,645,660,675,690,705,720,735,750,765,780,795,810,825,840,855,870,885,900,915,930,945,960],\"y\":[-2.0,3.25,8.5,13.749999999999998,19.0,27.0,35.0,43.0,51.0,50.75,50.5,50.25,50.0,51.25,52.5,53.75,55.0,50.25,45.5,40.75,36.0,37.5,39.0,40.5,42.0,36.0,30.0,24.0,18.0,15.75,13.5,11.25,9.0],\"type\":\"scatter\"},{\"line\":{\"color\":\"green\"},\"mode\":\"lines\",\"name\":\"ID BEV 4\",\"x\":[929.8974008207935,929.8974008207935,930.0,945.0,960.0,960.0],\"y\":[7.31,0.0,6.75,5.625,0.0,9.0],\"type\":\"scatter\"},{\"line\":{\"color\":\"green\"},\"mode\":\"lines\",\"name\":\"ID BEV 5\",\"x\":[876.5833333333334,876.5833333333334,885.0,900.0,915.0,930.0,945.0,945.0],\"y\":[9.0,0.0,8.0,9.0,7.875,13.5,0.0,11.25],\"type\":\"scatter\"},{\"line\":{\"color\":\"green\"},\"mode\":\"lines\",\"name\":\"ID BEV 7\",\"x\":[909.5082938388625,909.5082938388625,915.0,929.8974008207935,929.8974008207935],\"y\":[8.44,0.0,15.75,0.0,14.62],\"type\":\"scatter\"},{\"line\":{\"color\":\"green\"},\"mode\":\"lines\",\"name\":\"ID BEV 8\",\"x\":[889.3857142857142,889.3857142857142,900.0,909.5082938388625,909.5082938388625],\"y\":[10.5,0.0,18.0,0.0,16.88],\"type\":\"scatter\"},{\"line\":{\"color\":\"green\"},\"mode\":\"lines\",\"name\":\"ID BEV 10\",\"x\":[872.8666666666666,872.8666666666666,885.0,889.3857142857142,889.3857142857142],\"y\":[9.0,0.0,16.0,0.0,21.0],\"type\":\"scatter\"},{\"line\":{\"color\":\"green\"},\"mode\":\"lines\",\"name\":\"ID BEV 11\",\"x\":[868.1590909090909,868.1590909090909,870.0,885.0,885.0],\"y\":[11.0,0.0,10.0,0.0,24.0],\"type\":\"scatter\"},{\"line\":{\"color\":\"green\"},\"mode\":\"lines\",\"name\":\"ID BEV 13\",\"x\":[843.3350427350429,843.3350427350429,855.0,870.0,876.5833333333334,876.5833333333334],\"y\":[9.75,0.0,9.0,20.0,0.0,18.0],\"type\":\"scatter\"},{\"line\":{\"color\":\"green\"},\"mode\":\"lines\",\"name\":\"ID BEV 15\",\"x\":[841.2188034188032,841.2188034188032,855.0,870.0,872.8666666666666,872.8666666666666],\"y\":[9.75,0.0,18.0,30.0,0.0,18.0],\"type\":\"scatter\"},{\"line\":{\"color\":\"green\"},\"mode\":\"lines\",\"name\":\"ID BEV 17\",\"x\":[850.1846153846153,850.1846153846153,855.0,868.1590909090909,868.1590909090909],\"y\":[9.75,0.0,27.0,0.0,22.0],\"type\":\"scatter\"},{\"line\":{\"color\":\"green\"},\"mode\":\"lines\",\"name\":\"ID BEV 19\",\"x\":[839.1272727272727,839.1272727272727,840.0,855.0,855.0],\"y\":[10.3125,0.0,10.5,0.0,36.0],\"type\":\"scatter\"},{\"line\":{\"color\":\"green\"},\"mode\":\"lines\",\"name\":\"ID BEV 23\",\"x\":[828.098585858586,828.098585858586,840.0,843.3350427350429,843.3350427350429],\"y\":[10.3125,0.0,21.0,0.0,19.5],\"type\":\"scatter\"},{\"line\":{\"color\":\"green\"},\"mode\":\"lines\",\"name\":\"ID BEV 24\",\"x\":[826.0977777777775,826.0977777777775,840.0,841.2188034188032,841.2188034188032],\"y\":[10.3125,0.0,31.5,0.0,19.5],\"type\":\"scatter\"},{\"line\":{\"color\":\"green\"},\"mode\":\"lines\",\"name\":\"ID BEV 27\",\"x\":[837.4836363636363,837.4836363636363,840.0,850.1846153846153,850.1846153846153],\"y\":[10.3125,0.0,42.0,0.0,19.5],\"type\":\"scatter\"},{\"line\":{\"color\":\"green\"},\"mode\":\"lines\",\"name\":\"ID BEV 29\",\"x\":[820.3698113207547,820.3698113207547,825.0,839.1272727272727,839.1272727272727],\"y\":[9.9375,0.0,10.125,0.0,20.625],\"type\":\"scatter\"},{\"line\":{\"color\":\"green\"},\"mode\":\"lines\",\"name\":\"ID BEV 30\",\"x\":[767.0187439796618,767.0187439796618,780.0,795.0,810.0,825.0,828.098585858586,828.098585858586],\"y\":[9.595,0.0,9.0,9.375,9.75,20.25,0.0,20.625],\"type\":\"scatter\"},{\"line\":{\"color\":\"green\"},\"mode\":\"lines\",\"name\":\"ID BEV 31\",\"x\":[752.1657245928664,752.1657245928664,765.0,780.0,795.0,810.0,825.0,826.0977777777775,826.0977777777775],\"y\":[10.78,0.0,10.1875,18.0,18.75,19.5,30.375,0.0,20.625],\"type\":\"scatter\"},{\"line\":{\"color\":\"green\"},\"mode\":\"lines\",\"name\":\"ID BEV 38\",\"x\":[818.6641509433962,818.6641509433962,825.0,837.4836363636363,837.4836363636363],\"y\":[9.9375,0.0,40.5,0.0,20.625],\"type\":\"scatter\"},{\"line\":{\"color\":\"green\"},\"mode\":\"lines\",\"name\":\"ID BEV 39\",\"x\":[804.5411764705882,804.5411764705882,810.0,820.3698113207547,820.3698113207547],\"y\":[9.5625,0.0,29.25,0.0,19.875],\"type\":\"scatter\"},{\"line\":{\"color\":\"green\"},\"mode\":\"lines\",\"name\":\"ID BEV 41\",\"x\":[798.956862745098,798.956862745098,810.0,818.6641509433962,818.6641509433962],\"y\":[9.5625,0.0,39.0,0.0,19.875],\"type\":\"scatter\"},{\"line\":{\"color\":\"green\"},\"mode\":\"lines\",\"name\":\"ID BEV 42\",\"x\":[773.0690003984918,773.0690003984918,780.0,795.0,804.5411764705882,804.5411764705882],\"y\":[9.595,0.0,27.0,28.125,0.0,19.125],\"type\":\"scatter\"},{\"line\":{\"color\":\"green\"},\"mode\":\"lines\",\"name\":\"ID BEV 48\",\"x\":[782.2204081632652,782.2204081632652,795.0,798.956862745098,798.956862745098],\"y\":[9.1875,0.0,37.5,0.0,19.125],\"type\":\"scatter\"},{\"line\":{\"color\":\"green\"},\"mode\":\"lines\",\"name\":\"ID BEV 14\",\"x\":[723.1322163529035,723.1322163529035,735.0,750.0,765.0,780.0,782.2204081632652,782.2204081632652],\"y\":[10.524,0.0,10.05,9.1,20.375,36.0,0.0,18.375],\"type\":\"scatter\"},{\"line\":{\"color\":\"green\"},\"mode\":\"lines\",\"name\":\"ID BEV 21\",\"x\":[622.0977923783593,622.0977923783593,630.0,645.0,660.0,675.0,690.0,705.0,720.0,735.0,750.0,765.0,767.0187439796618,767.0187439796618],\"y\":[25.31,0.0,25.25,12.5625,10.0,10.25,10.5,10.75,11.0,20.1,18.2,30.5625,0.0,19.19],\"type\":\"scatter\"},{\"line\":{\"color\":\"green\"},\"mode\":\"lines\",\"name\":\"ID BEV 28\",\"x\":[708.377417352791,708.377417352791,720.0,735.0,750.0,765.0,773.0690003984918,773.0690003984918],\"y\":[10.876000000000001,0.0,22.0,30.150000000000002,27.299999999999997,40.75,0.0,19.19],\"type\":\"scatter\"},{\"line\":{\"color\":\"green\"},\"mode\":\"lines\",\"name\":\"ID BEV 37\",\"x\":[627.1301547073764,627.1301547073764,630.0,645.0,660.0,675.0,690.0,705.0,720.0,735.0,750.0,752.1657245928664,752.1657245928664],\"y\":[25.31,0.0,50.5,25.125,20.0,20.5,21.0,21.5,33.0,40.2,36.4,0.0,21.56],\"type\":\"scatter\"},{\"line\":{\"color\":\"green\"},\"mode\":\"lines\",\"name\":\"ID BEV 22\",\"x\":[710.2905479955866,710.2905479955866,720.0,735.0,750.0,750.0],\"y\":[10.876000000000001,0.0,44.0,50.25,0.0,45.5],\"type\":\"scatter\"},{\"line\":{\"color\":\"green\"},\"mode\":\"lines\",\"name\":\"ID BEV 46\",\"x\":[633.7291199109551,633.7291199109551,645.0,660.0,675.0,690.0,705.0,720.0,723.1322163529035,723.1322163529035],\"y\":[12.595,0.0,37.6875,30.0,30.75,31.5,32.25,55.0,0.0,21.048],\"type\":\"scatter\"},{\"line\":{\"color\":\"green\"},\"mode\":\"lines\",\"name\":\"ID BEV 20\",\"x\":[634.0373434600278,634.0373434600278,645.0,660.0,675.0,690.0,705.0,708.377417352791,708.377417352791],\"y\":[12.595,0.0,50.25,40.0,41.0,42.0,43.0,0.0,21.752000000000002],\"type\":\"scatter\"},{\"line\":{\"color\":\"green\"},\"mode\":\"lines\",\"name\":\"ID BEV 9\",\"x\":[649.335895432426,649.335895432426,660.0,675.0,690.0,705.0,710.2905479955866,710.2905479955866],\"y\":[10.024,0.0,50.0,51.25,52.5,53.75,0.0,21.752000000000002],\"type\":\"scatter\"}],                        {\"template\":{\"data\":{\"barpolar\":[{\"marker\":{\"line\":{\"color\":\"white\",\"width\":0.5},\"pattern\":{\"fillmode\":\"overlay\",\"size\":10,\"solidity\":0.2}},\"type\":\"barpolar\"}],\"bar\":[{\"error_x\":{\"color\":\"#2a3f5f\"},\"error_y\":{\"color\":\"#2a3f5f\"},\"marker\":{\"line\":{\"color\":\"white\",\"width\":0.5},\"pattern\":{\"fillmode\":\"overlay\",\"size\":10,\"solidity\":0.2}},\"type\":\"bar\"}],\"carpet\":[{\"aaxis\":{\"endlinecolor\":\"#2a3f5f\",\"gridcolor\":\"#C8D4E3\",\"linecolor\":\"#C8D4E3\",\"minorgridcolor\":\"#C8D4E3\",\"startlinecolor\":\"#2a3f5f\"},\"baxis\":{\"endlinecolor\":\"#2a3f5f\",\"gridcolor\":\"#C8D4E3\",\"linecolor\":\"#C8D4E3\",\"minorgridcolor\":\"#C8D4E3\",\"startlinecolor\":\"#2a3f5f\"},\"type\":\"carpet\"}],\"choropleth\":[{\"colorbar\":{\"outlinewidth\":0,\"ticks\":\"\"},\"type\":\"choropleth\"}],\"contourcarpet\":[{\"colorbar\":{\"outlinewidth\":0,\"ticks\":\"\"},\"type\":\"contourcarpet\"}],\"contour\":[{\"colorbar\":{\"outlinewidth\":0,\"ticks\":\"\"},\"colorscale\":[[0.0,\"#0d0887\"],[0.1111111111111111,\"#46039f\"],[0.2222222222222222,\"#7201a8\"],[0.3333333333333333,\"#9c179e\"],[0.4444444444444444,\"#bd3786\"],[0.5555555555555556,\"#d8576b\"],[0.6666666666666666,\"#ed7953\"],[0.7777777777777778,\"#fb9f3a\"],[0.8888888888888888,\"#fdca26\"],[1.0,\"#f0f921\"]],\"type\":\"contour\"}],\"heatmapgl\":[{\"colorbar\":{\"outlinewidth\":0,\"ticks\":\"\"},\"colorscale\":[[0.0,\"#0d0887\"],[0.1111111111111111,\"#46039f\"],[0.2222222222222222,\"#7201a8\"],[0.3333333333333333,\"#9c179e\"],[0.4444444444444444,\"#bd3786\"],[0.5555555555555556,\"#d8576b\"],[0.6666666666666666,\"#ed7953\"],[0.7777777777777778,\"#fb9f3a\"],[0.8888888888888888,\"#fdca26\"],[1.0,\"#f0f921\"]],\"type\":\"heatmapgl\"}],\"heatmap\":[{\"colorbar\":{\"outlinewidth\":0,\"ticks\":\"\"},\"colorscale\":[[0.0,\"#0d0887\"],[0.1111111111111111,\"#46039f\"],[0.2222222222222222,\"#7201a8\"],[0.3333333333333333,\"#9c179e\"],[0.4444444444444444,\"#bd3786\"],[0.5555555555555556,\"#d8576b\"],[0.6666666666666666,\"#ed7953\"],[0.7777777777777778,\"#fb9f3a\"],[0.8888888888888888,\"#fdca26\"],[1.0,\"#f0f921\"]],\"type\":\"heatmap\"}],\"histogram2dcontour\":[{\"colorbar\":{\"outlinewidth\":0,\"ticks\":\"\"},\"colorscale\":[[0.0,\"#0d0887\"],[0.1111111111111111,\"#46039f\"],[0.2222222222222222,\"#7201a8\"],[0.3333333333333333,\"#9c179e\"],[0.4444444444444444,\"#bd3786\"],[0.5555555555555556,\"#d8576b\"],[0.6666666666666666,\"#ed7953\"],[0.7777777777777778,\"#fb9f3a\"],[0.8888888888888888,\"#fdca26\"],[1.0,\"#f0f921\"]],\"type\":\"histogram2dcontour\"}],\"histogram2d\":[{\"colorbar\":{\"outlinewidth\":0,\"ticks\":\"\"},\"colorscale\":[[0.0,\"#0d0887\"],[0.1111111111111111,\"#46039f\"],[0.2222222222222222,\"#7201a8\"],[0.3333333333333333,\"#9c179e\"],[0.4444444444444444,\"#bd3786\"],[0.5555555555555556,\"#d8576b\"],[0.6666666666666666,\"#ed7953\"],[0.7777777777777778,\"#fb9f3a\"],[0.8888888888888888,\"#fdca26\"],[1.0,\"#f0f921\"]],\"type\":\"histogram2d\"}],\"histogram\":[{\"marker\":{\"pattern\":{\"fillmode\":\"overlay\",\"size\":10,\"solidity\":0.2}},\"type\":\"histogram\"}],\"mesh3d\":[{\"colorbar\":{\"outlinewidth\":0,\"ticks\":\"\"},\"type\":\"mesh3d\"}],\"parcoords\":[{\"line\":{\"colorbar\":{\"outlinewidth\":0,\"ticks\":\"\"}},\"type\":\"parcoords\"}],\"pie\":[{\"automargin\":true,\"type\":\"pie\"}],\"scatter3d\":[{\"line\":{\"colorbar\":{\"outlinewidth\":0,\"ticks\":\"\"}},\"marker\":{\"colorbar\":{\"outlinewidth\":0,\"ticks\":\"\"}},\"type\":\"scatter3d\"}],\"scattercarpet\":[{\"marker\":{\"colorbar\":{\"outlinewidth\":0,\"ticks\":\"\"}},\"type\":\"scattercarpet\"}],\"scattergeo\":[{\"marker\":{\"colorbar\":{\"outlinewidth\":0,\"ticks\":\"\"}},\"type\":\"scattergeo\"}],\"scattergl\":[{\"marker\":{\"colorbar\":{\"outlinewidth\":0,\"ticks\":\"\"}},\"type\":\"scattergl\"}],\"scattermapbox\":[{\"marker\":{\"colorbar\":{\"outlinewidth\":0,\"ticks\":\"\"}},\"type\":\"scattermapbox\"}],\"scatterpolargl\":[{\"marker\":{\"colorbar\":{\"outlinewidth\":0,\"ticks\":\"\"}},\"type\":\"scatterpolargl\"}],\"scatterpolar\":[{\"marker\":{\"colorbar\":{\"outlinewidth\":0,\"ticks\":\"\"}},\"type\":\"scatterpolar\"}],\"scatter\":[{\"marker\":{\"colorbar\":{\"outlinewidth\":0,\"ticks\":\"\"}},\"type\":\"scatter\"}],\"scatterternary\":[{\"marker\":{\"colorbar\":{\"outlinewidth\":0,\"ticks\":\"\"}},\"type\":\"scatterternary\"}],\"surface\":[{\"colorbar\":{\"outlinewidth\":0,\"ticks\":\"\"},\"colorscale\":[[0.0,\"#0d0887\"],[0.1111111111111111,\"#46039f\"],[0.2222222222222222,\"#7201a8\"],[0.3333333333333333,\"#9c179e\"],[0.4444444444444444,\"#bd3786\"],[0.5555555555555556,\"#d8576b\"],[0.6666666666666666,\"#ed7953\"],[0.7777777777777778,\"#fb9f3a\"],[0.8888888888888888,\"#fdca26\"],[1.0,\"#f0f921\"]],\"type\":\"surface\"}],\"table\":[{\"cells\":{\"fill\":{\"color\":\"#EBF0F8\"},\"line\":{\"color\":\"white\"}},\"header\":{\"fill\":{\"color\":\"#C8D4E3\"},\"line\":{\"color\":\"white\"}},\"type\":\"table\"}]},\"layout\":{\"annotationdefaults\":{\"arrowcolor\":\"#2a3f5f\",\"arrowhead\":0,\"arrowwidth\":1},\"autotypenumbers\":\"strict\",\"coloraxis\":{\"colorbar\":{\"outlinewidth\":0,\"ticks\":\"\"}},\"colorscale\":{\"diverging\":[[0,\"#8e0152\"],[0.1,\"#c51b7d\"],[0.2,\"#de77ae\"],[0.3,\"#f1b6da\"],[0.4,\"#fde0ef\"],[0.5,\"#f7f7f7\"],[0.6,\"#e6f5d0\"],[0.7,\"#b8e186\"],[0.8,\"#7fbc41\"],[0.9,\"#4d9221\"],[1,\"#276419\"]],\"sequential\":[[0.0,\"#0d0887\"],[0.1111111111111111,\"#46039f\"],[0.2222222222222222,\"#7201a8\"],[0.3333333333333333,\"#9c179e\"],[0.4444444444444444,\"#bd3786\"],[0.5555555555555556,\"#d8576b\"],[0.6666666666666666,\"#ed7953\"],[0.7777777777777778,\"#fb9f3a\"],[0.8888888888888888,\"#fdca26\"],[1.0,\"#f0f921\"]],\"sequentialminus\":[[0.0,\"#0d0887\"],[0.1111111111111111,\"#46039f\"],[0.2222222222222222,\"#7201a8\"],[0.3333333333333333,\"#9c179e\"],[0.4444444444444444,\"#bd3786\"],[0.5555555555555556,\"#d8576b\"],[0.6666666666666666,\"#ed7953\"],[0.7777777777777778,\"#fb9f3a\"],[0.8888888888888888,\"#fdca26\"],[1.0,\"#f0f921\"]]},\"colorway\":[\"#636efa\",\"#EF553B\",\"#00cc96\",\"#ab63fa\",\"#FFA15A\",\"#19d3f3\",\"#FF6692\",\"#B6E880\",\"#FF97FF\",\"#FECB52\"],\"font\":{\"color\":\"#2a3f5f\"},\"geo\":{\"bgcolor\":\"white\",\"lakecolor\":\"white\",\"landcolor\":\"white\",\"showlakes\":true,\"showland\":true,\"subunitcolor\":\"#C8D4E3\"},\"hoverlabel\":{\"align\":\"left\"},\"hovermode\":\"closest\",\"mapbox\":{\"style\":\"light\"},\"paper_bgcolor\":\"white\",\"plot_bgcolor\":\"white\",\"polar\":{\"angularaxis\":{\"gridcolor\":\"#EBF0F8\",\"linecolor\":\"#EBF0F8\",\"ticks\":\"\"},\"bgcolor\":\"white\",\"radialaxis\":{\"gridcolor\":\"#EBF0F8\",\"linecolor\":\"#EBF0F8\",\"ticks\":\"\"}},\"scene\":{\"xaxis\":{\"backgroundcolor\":\"white\",\"gridcolor\":\"#DFE8F3\",\"gridwidth\":2,\"linecolor\":\"#EBF0F8\",\"showbackground\":true,\"ticks\":\"\",\"zerolinecolor\":\"#EBF0F8\"},\"yaxis\":{\"backgroundcolor\":\"white\",\"gridcolor\":\"#DFE8F3\",\"gridwidth\":2,\"linecolor\":\"#EBF0F8\",\"showbackground\":true,\"ticks\":\"\",\"zerolinecolor\":\"#EBF0F8\"},\"zaxis\":{\"backgroundcolor\":\"white\",\"gridcolor\":\"#DFE8F3\",\"gridwidth\":2,\"linecolor\":\"#EBF0F8\",\"showbackground\":true,\"ticks\":\"\",\"zerolinecolor\":\"#EBF0F8\"}},\"shapedefaults\":{\"line\":{\"color\":\"#2a3f5f\"}},\"ternary\":{\"aaxis\":{\"gridcolor\":\"#DFE8F3\",\"linecolor\":\"#A2B1C6\",\"ticks\":\"\"},\"baxis\":{\"gridcolor\":\"#DFE8F3\",\"linecolor\":\"#A2B1C6\",\"ticks\":\"\"},\"bgcolor\":\"white\",\"caxis\":{\"gridcolor\":\"#DFE8F3\",\"linecolor\":\"#A2B1C6\",\"ticks\":\"\"}},\"title\":{\"x\":0.05},\"xaxis\":{\"automargin\":true,\"gridcolor\":\"#EBF0F8\",\"linecolor\":\"#EBF0F8\",\"ticks\":\"\",\"title\":{\"standoff\":15},\"zerolinecolor\":\"#EBF0F8\",\"zerolinewidth\":2},\"yaxis\":{\"automargin\":true,\"gridcolor\":\"#EBF0F8\",\"linecolor\":\"#EBF0F8\",\"ticks\":\"\",\"title\":{\"standoff\":15},\"zerolinecolor\":\"#EBF0F8\",\"zerolinewidth\":2}}},\"xaxis\":{\"range\":[480,960],\"showgrid\":true,\"title\":{\"text\":\"Minuten\"}},\"yaxis\":{\"range\":[0,60],\"title\":{\"text\":\"Energie in kW\"}},\"title\":{\"font\":{\"size\":24},\"text\":\"Ladeleistung pro Ladezeitraum eines BEVs\",\"x\":0.5,\"xanchor\":\"center\"}},                        {\"responsive\": true}                    ).then(function(){\n",
       "                            \n",
       "var gd = document.getElementById('a401092e-857c-49ba-be89-1b41258a3b7e');\n",
       "var x = new MutationObserver(function (mutations, observer) {{\n",
       "        var display = window.getComputedStyle(gd).display;\n",
       "        if (!display || display === 'none') {{\n",
       "            console.log([gd, 'removed!']);\n",
       "            Plotly.purge(gd);\n",
       "            observer.disconnect();\n",
       "        }}\n",
       "}});\n",
       "\n",
       "// Listen for the removal of the full notebook cells\n",
       "var notebookContainer = gd.closest('#notebook-container');\n",
       "if (notebookContainer) {{\n",
       "    x.observe(notebookContainer, {childList: true});\n",
       "}}\n",
       "\n",
       "// Listen for the clearing of the current output cell\n",
       "var outputEl = gd.closest('.output');\n",
       "if (outputEl) {{\n",
       "    x.observe(outputEl, {childList: true});\n",
       "}}\n",
       "\n",
       "                        })                };                });            </script>        </div>"
      ]
     },
     "metadata": {},
     "output_type": "display_data"
    }
   ],
   "source": [
    "import figureGeneration\n",
    "\n",
    "figureGeneration.create_charging_power_figure(simulation_day, solarpeakleistung, bev_data, minute_interval)"
   ]
  },
  {
   "cell_type": "code",
   "execution_count": 7,
   "metadata": {
    "pycharm": {
     "is_executing": true
    }
   },
   "outputs": [
    {
     "data": {
      "application/vnd.plotly.v1+json": {
       "config": {
        "plotlyServerURL": "https://plot.ly"
       },
       "data": [
        {
         "line": {
          "color": "red"
         },
         "name": "Wartende BEVs",
         "type": "scatter",
         "x": [
          480,
          495,
          510,
          525,
          540,
          555,
          570,
          585,
          600,
          615,
          630,
          645,
          660,
          675,
          690,
          705,
          720,
          735,
          750,
          765,
          780,
          795,
          810,
          825,
          840,
          855,
          870,
          885,
          900,
          915,
          930,
          945,
          960
         ],
         "y": [
          0,
          0,
          0,
          0,
          0,
          0,
          0,
          0,
          0,
          0,
          0,
          0,
          0,
          0,
          0,
          0,
          2,
          2,
          3,
          3,
          5,
          4,
          6,
          8,
          12,
          14,
          15,
          17,
          18,
          18,
          19,
          20,
          21
         ]
        },
        {
         "line": {
          "color": "blue"
         },
         "name": "Ladende BEVs",
         "type": "scatter",
         "x": [
          960,
          945,
          930,
          915,
          900,
          885,
          870,
          855,
          840,
          825,
          810,
          795,
          780,
          765,
          750,
          735,
          720,
          705,
          690,
          675,
          660,
          645,
          630,
          615,
          600,
          585,
          570,
          555,
          540,
          525,
          510,
          495,
          480
         ],
         "y": [
          1,
          2,
          2,
          2,
          2,
          3,
          3,
          4,
          4,
          4,
          4,
          4,
          4,
          4,
          5,
          5,
          5,
          5,
          5,
          5,
          5,
          4,
          2,
          0,
          0,
          0,
          0,
          0,
          0,
          0,
          0,
          0,
          0
         ]
        }
       ],
       "layout": {
        "legend": {
         "tracegroupgap": 0
        },
        "margin": {
         "t": 60
        },
        "template": {
         "data": {
          "bar": [
           {
            "error_x": {
             "color": "#2a3f5f"
            },
            "error_y": {
             "color": "#2a3f5f"
            },
            "marker": {
             "line": {
              "color": "white",
              "width": 0.5
             },
             "pattern": {
              "fillmode": "overlay",
              "size": 10,
              "solidity": 0.2
             }
            },
            "type": "bar"
           }
          ],
          "barpolar": [
           {
            "marker": {
             "line": {
              "color": "white",
              "width": 0.5
             },
             "pattern": {
              "fillmode": "overlay",
              "size": 10,
              "solidity": 0.2
             }
            },
            "type": "barpolar"
           }
          ],
          "carpet": [
           {
            "aaxis": {
             "endlinecolor": "#2a3f5f",
             "gridcolor": "#C8D4E3",
             "linecolor": "#C8D4E3",
             "minorgridcolor": "#C8D4E3",
             "startlinecolor": "#2a3f5f"
            },
            "baxis": {
             "endlinecolor": "#2a3f5f",
             "gridcolor": "#C8D4E3",
             "linecolor": "#C8D4E3",
             "minorgridcolor": "#C8D4E3",
             "startlinecolor": "#2a3f5f"
            },
            "type": "carpet"
           }
          ],
          "choropleth": [
           {
            "colorbar": {
             "outlinewidth": 0,
             "ticks": ""
            },
            "type": "choropleth"
           }
          ],
          "contour": [
           {
            "colorbar": {
             "outlinewidth": 0,
             "ticks": ""
            },
            "colorscale": [
             [
              0,
              "#0d0887"
             ],
             [
              0.1111111111111111,
              "#46039f"
             ],
             [
              0.2222222222222222,
              "#7201a8"
             ],
             [
              0.3333333333333333,
              "#9c179e"
             ],
             [
              0.4444444444444444,
              "#bd3786"
             ],
             [
              0.5555555555555556,
              "#d8576b"
             ],
             [
              0.6666666666666666,
              "#ed7953"
             ],
             [
              0.7777777777777778,
              "#fb9f3a"
             ],
             [
              0.8888888888888888,
              "#fdca26"
             ],
             [
              1,
              "#f0f921"
             ]
            ],
            "type": "contour"
           }
          ],
          "contourcarpet": [
           {
            "colorbar": {
             "outlinewidth": 0,
             "ticks": ""
            },
            "type": "contourcarpet"
           }
          ],
          "heatmap": [
           {
            "colorbar": {
             "outlinewidth": 0,
             "ticks": ""
            },
            "colorscale": [
             [
              0,
              "#0d0887"
             ],
             [
              0.1111111111111111,
              "#46039f"
             ],
             [
              0.2222222222222222,
              "#7201a8"
             ],
             [
              0.3333333333333333,
              "#9c179e"
             ],
             [
              0.4444444444444444,
              "#bd3786"
             ],
             [
              0.5555555555555556,
              "#d8576b"
             ],
             [
              0.6666666666666666,
              "#ed7953"
             ],
             [
              0.7777777777777778,
              "#fb9f3a"
             ],
             [
              0.8888888888888888,
              "#fdca26"
             ],
             [
              1,
              "#f0f921"
             ]
            ],
            "type": "heatmap"
           }
          ],
          "heatmapgl": [
           {
            "colorbar": {
             "outlinewidth": 0,
             "ticks": ""
            },
            "colorscale": [
             [
              0,
              "#0d0887"
             ],
             [
              0.1111111111111111,
              "#46039f"
             ],
             [
              0.2222222222222222,
              "#7201a8"
             ],
             [
              0.3333333333333333,
              "#9c179e"
             ],
             [
              0.4444444444444444,
              "#bd3786"
             ],
             [
              0.5555555555555556,
              "#d8576b"
             ],
             [
              0.6666666666666666,
              "#ed7953"
             ],
             [
              0.7777777777777778,
              "#fb9f3a"
             ],
             [
              0.8888888888888888,
              "#fdca26"
             ],
             [
              1,
              "#f0f921"
             ]
            ],
            "type": "heatmapgl"
           }
          ],
          "histogram": [
           {
            "marker": {
             "pattern": {
              "fillmode": "overlay",
              "size": 10,
              "solidity": 0.2
             }
            },
            "type": "histogram"
           }
          ],
          "histogram2d": [
           {
            "colorbar": {
             "outlinewidth": 0,
             "ticks": ""
            },
            "colorscale": [
             [
              0,
              "#0d0887"
             ],
             [
              0.1111111111111111,
              "#46039f"
             ],
             [
              0.2222222222222222,
              "#7201a8"
             ],
             [
              0.3333333333333333,
              "#9c179e"
             ],
             [
              0.4444444444444444,
              "#bd3786"
             ],
             [
              0.5555555555555556,
              "#d8576b"
             ],
             [
              0.6666666666666666,
              "#ed7953"
             ],
             [
              0.7777777777777778,
              "#fb9f3a"
             ],
             [
              0.8888888888888888,
              "#fdca26"
             ],
             [
              1,
              "#f0f921"
             ]
            ],
            "type": "histogram2d"
           }
          ],
          "histogram2dcontour": [
           {
            "colorbar": {
             "outlinewidth": 0,
             "ticks": ""
            },
            "colorscale": [
             [
              0,
              "#0d0887"
             ],
             [
              0.1111111111111111,
              "#46039f"
             ],
             [
              0.2222222222222222,
              "#7201a8"
             ],
             [
              0.3333333333333333,
              "#9c179e"
             ],
             [
              0.4444444444444444,
              "#bd3786"
             ],
             [
              0.5555555555555556,
              "#d8576b"
             ],
             [
              0.6666666666666666,
              "#ed7953"
             ],
             [
              0.7777777777777778,
              "#fb9f3a"
             ],
             [
              0.8888888888888888,
              "#fdca26"
             ],
             [
              1,
              "#f0f921"
             ]
            ],
            "type": "histogram2dcontour"
           }
          ],
          "mesh3d": [
           {
            "colorbar": {
             "outlinewidth": 0,
             "ticks": ""
            },
            "type": "mesh3d"
           }
          ],
          "parcoords": [
           {
            "line": {
             "colorbar": {
              "outlinewidth": 0,
              "ticks": ""
             }
            },
            "type": "parcoords"
           }
          ],
          "pie": [
           {
            "automargin": true,
            "type": "pie"
           }
          ],
          "scatter": [
           {
            "marker": {
             "colorbar": {
              "outlinewidth": 0,
              "ticks": ""
             }
            },
            "type": "scatter"
           }
          ],
          "scatter3d": [
           {
            "line": {
             "colorbar": {
              "outlinewidth": 0,
              "ticks": ""
             }
            },
            "marker": {
             "colorbar": {
              "outlinewidth": 0,
              "ticks": ""
             }
            },
            "type": "scatter3d"
           }
          ],
          "scattercarpet": [
           {
            "marker": {
             "colorbar": {
              "outlinewidth": 0,
              "ticks": ""
             }
            },
            "type": "scattercarpet"
           }
          ],
          "scattergeo": [
           {
            "marker": {
             "colorbar": {
              "outlinewidth": 0,
              "ticks": ""
             }
            },
            "type": "scattergeo"
           }
          ],
          "scattergl": [
           {
            "marker": {
             "colorbar": {
              "outlinewidth": 0,
              "ticks": ""
             }
            },
            "type": "scattergl"
           }
          ],
          "scattermapbox": [
           {
            "marker": {
             "colorbar": {
              "outlinewidth": 0,
              "ticks": ""
             }
            },
            "type": "scattermapbox"
           }
          ],
          "scatterpolar": [
           {
            "marker": {
             "colorbar": {
              "outlinewidth": 0,
              "ticks": ""
             }
            },
            "type": "scatterpolar"
           }
          ],
          "scatterpolargl": [
           {
            "marker": {
             "colorbar": {
              "outlinewidth": 0,
              "ticks": ""
             }
            },
            "type": "scatterpolargl"
           }
          ],
          "scatterternary": [
           {
            "marker": {
             "colorbar": {
              "outlinewidth": 0,
              "ticks": ""
             }
            },
            "type": "scatterternary"
           }
          ],
          "surface": [
           {
            "colorbar": {
             "outlinewidth": 0,
             "ticks": ""
            },
            "colorscale": [
             [
              0,
              "#0d0887"
             ],
             [
              0.1111111111111111,
              "#46039f"
             ],
             [
              0.2222222222222222,
              "#7201a8"
             ],
             [
              0.3333333333333333,
              "#9c179e"
             ],
             [
              0.4444444444444444,
              "#bd3786"
             ],
             [
              0.5555555555555556,
              "#d8576b"
             ],
             [
              0.6666666666666666,
              "#ed7953"
             ],
             [
              0.7777777777777778,
              "#fb9f3a"
             ],
             [
              0.8888888888888888,
              "#fdca26"
             ],
             [
              1,
              "#f0f921"
             ]
            ],
            "type": "surface"
           }
          ],
          "table": [
           {
            "cells": {
             "fill": {
              "color": "#EBF0F8"
             },
             "line": {
              "color": "white"
             }
            },
            "header": {
             "fill": {
              "color": "#C8D4E3"
             },
             "line": {
              "color": "white"
             }
            },
            "type": "table"
           }
          ]
         },
         "layout": {
          "annotationdefaults": {
           "arrowcolor": "#2a3f5f",
           "arrowhead": 0,
           "arrowwidth": 1
          },
          "autotypenumbers": "strict",
          "coloraxis": {
           "colorbar": {
            "outlinewidth": 0,
            "ticks": ""
           }
          },
          "colorscale": {
           "diverging": [
            [
             0,
             "#8e0152"
            ],
            [
             0.1,
             "#c51b7d"
            ],
            [
             0.2,
             "#de77ae"
            ],
            [
             0.3,
             "#f1b6da"
            ],
            [
             0.4,
             "#fde0ef"
            ],
            [
             0.5,
             "#f7f7f7"
            ],
            [
             0.6,
             "#e6f5d0"
            ],
            [
             0.7,
             "#b8e186"
            ],
            [
             0.8,
             "#7fbc41"
            ],
            [
             0.9,
             "#4d9221"
            ],
            [
             1,
             "#276419"
            ]
           ],
           "sequential": [
            [
             0,
             "#0d0887"
            ],
            [
             0.1111111111111111,
             "#46039f"
            ],
            [
             0.2222222222222222,
             "#7201a8"
            ],
            [
             0.3333333333333333,
             "#9c179e"
            ],
            [
             0.4444444444444444,
             "#bd3786"
            ],
            [
             0.5555555555555556,
             "#d8576b"
            ],
            [
             0.6666666666666666,
             "#ed7953"
            ],
            [
             0.7777777777777778,
             "#fb9f3a"
            ],
            [
             0.8888888888888888,
             "#fdca26"
            ],
            [
             1,
             "#f0f921"
            ]
           ],
           "sequentialminus": [
            [
             0,
             "#0d0887"
            ],
            [
             0.1111111111111111,
             "#46039f"
            ],
            [
             0.2222222222222222,
             "#7201a8"
            ],
            [
             0.3333333333333333,
             "#9c179e"
            ],
            [
             0.4444444444444444,
             "#bd3786"
            ],
            [
             0.5555555555555556,
             "#d8576b"
            ],
            [
             0.6666666666666666,
             "#ed7953"
            ],
            [
             0.7777777777777778,
             "#fb9f3a"
            ],
            [
             0.8888888888888888,
             "#fdca26"
            ],
            [
             1,
             "#f0f921"
            ]
           ]
          },
          "colorway": [
           "#636efa",
           "#EF553B",
           "#00cc96",
           "#ab63fa",
           "#FFA15A",
           "#19d3f3",
           "#FF6692",
           "#B6E880",
           "#FF97FF",
           "#FECB52"
          ],
          "font": {
           "color": "#2a3f5f"
          },
          "geo": {
           "bgcolor": "white",
           "lakecolor": "white",
           "landcolor": "white",
           "showlakes": true,
           "showland": true,
           "subunitcolor": "#C8D4E3"
          },
          "hoverlabel": {
           "align": "left"
          },
          "hovermode": "closest",
          "mapbox": {
           "style": "light"
          },
          "paper_bgcolor": "white",
          "plot_bgcolor": "white",
          "polar": {
           "angularaxis": {
            "gridcolor": "#EBF0F8",
            "linecolor": "#EBF0F8",
            "ticks": ""
           },
           "bgcolor": "white",
           "radialaxis": {
            "gridcolor": "#EBF0F8",
            "linecolor": "#EBF0F8",
            "ticks": ""
           }
          },
          "scene": {
           "xaxis": {
            "backgroundcolor": "white",
            "gridcolor": "#DFE8F3",
            "gridwidth": 2,
            "linecolor": "#EBF0F8",
            "showbackground": true,
            "ticks": "",
            "zerolinecolor": "#EBF0F8"
           },
           "yaxis": {
            "backgroundcolor": "white",
            "gridcolor": "#DFE8F3",
            "gridwidth": 2,
            "linecolor": "#EBF0F8",
            "showbackground": true,
            "ticks": "",
            "zerolinecolor": "#EBF0F8"
           },
           "zaxis": {
            "backgroundcolor": "white",
            "gridcolor": "#DFE8F3",
            "gridwidth": 2,
            "linecolor": "#EBF0F8",
            "showbackground": true,
            "ticks": "",
            "zerolinecolor": "#EBF0F8"
           }
          },
          "shapedefaults": {
           "line": {
            "color": "#2a3f5f"
           }
          },
          "ternary": {
           "aaxis": {
            "gridcolor": "#DFE8F3",
            "linecolor": "#A2B1C6",
            "ticks": ""
           },
           "baxis": {
            "gridcolor": "#DFE8F3",
            "linecolor": "#A2B1C6",
            "ticks": ""
           },
           "bgcolor": "white",
           "caxis": {
            "gridcolor": "#DFE8F3",
            "linecolor": "#A2B1C6",
            "ticks": ""
           }
          },
          "title": {
           "x": 0.05
          },
          "xaxis": {
           "automargin": true,
           "gridcolor": "#EBF0F8",
           "linecolor": "#EBF0F8",
           "ticks": "",
           "title": {
            "standoff": 15
           },
           "zerolinecolor": "#EBF0F8",
           "zerolinewidth": 2
          },
          "yaxis": {
           "automargin": true,
           "gridcolor": "#EBF0F8",
           "linecolor": "#EBF0F8",
           "ticks": "",
           "title": {
            "standoff": 15
           },
           "zerolinecolor": "#EBF0F8",
           "zerolinewidth": 2
          }
         }
        },
        "title": {
         "font": {
          "size": 24
         },
         "text": "Anzahl wartender und ladender BEVs im Tagesverlauf",
         "x": 0.5,
         "xanchor": "center"
        },
        "xaxis": {
         "anchor": "y",
         "domain": [
          0,
          1
         ],
         "title": {
          "text": "Minuten"
         }
        },
        "yaxis": {
         "anchor": "x",
         "domain": [
          0,
          1
         ],
         "title": {
          "text": "Anzahl BEVs"
         }
        }
       }
      },
      "text/html": [
       "<div>                            <div id=\"1ccb0d09-b40c-4391-84f1-b2b6b63fdee3\" class=\"plotly-graph-div\" style=\"height:525px; width:100%;\"></div>            <script type=\"text/javascript\">                require([\"plotly\"], function(Plotly) {                    window.PLOTLYENV=window.PLOTLYENV || {};                                    if (document.getElementById(\"1ccb0d09-b40c-4391-84f1-b2b6b63fdee3\")) {                    Plotly.newPlot(                        \"1ccb0d09-b40c-4391-84f1-b2b6b63fdee3\",                        [{\"line\":{\"color\":\"red\"},\"name\":\"Wartende BEVs\",\"x\":[480,495,510,525,540,555,570,585,600,615,630,645,660,675,690,705,720,735,750,765,780,795,810,825,840,855,870,885,900,915,930,945,960],\"y\":[0,0,0,0,0,0,0,0,0,0,0,0,0,0,0,0,2,2,3,3,5,4,6,8,12,14,15,17,18,18,19,20,21],\"type\":\"scatter\"},{\"line\":{\"color\":\"blue\"},\"name\":\"Ladende BEVs\",\"x\":[960,945,930,915,900,885,870,855,840,825,810,795,780,765,750,735,720,705,690,675,660,645,630,615,600,585,570,555,540,525,510,495,480],\"y\":[1,2,2,2,2,3,3,4,4,4,4,4,4,4,5,5,5,5,5,5,5,4,2,0,0,0,0,0,0,0,0,0,0],\"type\":\"scatter\"}],                        {\"template\":{\"data\":{\"barpolar\":[{\"marker\":{\"line\":{\"color\":\"white\",\"width\":0.5},\"pattern\":{\"fillmode\":\"overlay\",\"size\":10,\"solidity\":0.2}},\"type\":\"barpolar\"}],\"bar\":[{\"error_x\":{\"color\":\"#2a3f5f\"},\"error_y\":{\"color\":\"#2a3f5f\"},\"marker\":{\"line\":{\"color\":\"white\",\"width\":0.5},\"pattern\":{\"fillmode\":\"overlay\",\"size\":10,\"solidity\":0.2}},\"type\":\"bar\"}],\"carpet\":[{\"aaxis\":{\"endlinecolor\":\"#2a3f5f\",\"gridcolor\":\"#C8D4E3\",\"linecolor\":\"#C8D4E3\",\"minorgridcolor\":\"#C8D4E3\",\"startlinecolor\":\"#2a3f5f\"},\"baxis\":{\"endlinecolor\":\"#2a3f5f\",\"gridcolor\":\"#C8D4E3\",\"linecolor\":\"#C8D4E3\",\"minorgridcolor\":\"#C8D4E3\",\"startlinecolor\":\"#2a3f5f\"},\"type\":\"carpet\"}],\"choropleth\":[{\"colorbar\":{\"outlinewidth\":0,\"ticks\":\"\"},\"type\":\"choropleth\"}],\"contourcarpet\":[{\"colorbar\":{\"outlinewidth\":0,\"ticks\":\"\"},\"type\":\"contourcarpet\"}],\"contour\":[{\"colorbar\":{\"outlinewidth\":0,\"ticks\":\"\"},\"colorscale\":[[0.0,\"#0d0887\"],[0.1111111111111111,\"#46039f\"],[0.2222222222222222,\"#7201a8\"],[0.3333333333333333,\"#9c179e\"],[0.4444444444444444,\"#bd3786\"],[0.5555555555555556,\"#d8576b\"],[0.6666666666666666,\"#ed7953\"],[0.7777777777777778,\"#fb9f3a\"],[0.8888888888888888,\"#fdca26\"],[1.0,\"#f0f921\"]],\"type\":\"contour\"}],\"heatmapgl\":[{\"colorbar\":{\"outlinewidth\":0,\"ticks\":\"\"},\"colorscale\":[[0.0,\"#0d0887\"],[0.1111111111111111,\"#46039f\"],[0.2222222222222222,\"#7201a8\"],[0.3333333333333333,\"#9c179e\"],[0.4444444444444444,\"#bd3786\"],[0.5555555555555556,\"#d8576b\"],[0.6666666666666666,\"#ed7953\"],[0.7777777777777778,\"#fb9f3a\"],[0.8888888888888888,\"#fdca26\"],[1.0,\"#f0f921\"]],\"type\":\"heatmapgl\"}],\"heatmap\":[{\"colorbar\":{\"outlinewidth\":0,\"ticks\":\"\"},\"colorscale\":[[0.0,\"#0d0887\"],[0.1111111111111111,\"#46039f\"],[0.2222222222222222,\"#7201a8\"],[0.3333333333333333,\"#9c179e\"],[0.4444444444444444,\"#bd3786\"],[0.5555555555555556,\"#d8576b\"],[0.6666666666666666,\"#ed7953\"],[0.7777777777777778,\"#fb9f3a\"],[0.8888888888888888,\"#fdca26\"],[1.0,\"#f0f921\"]],\"type\":\"heatmap\"}],\"histogram2dcontour\":[{\"colorbar\":{\"outlinewidth\":0,\"ticks\":\"\"},\"colorscale\":[[0.0,\"#0d0887\"],[0.1111111111111111,\"#46039f\"],[0.2222222222222222,\"#7201a8\"],[0.3333333333333333,\"#9c179e\"],[0.4444444444444444,\"#bd3786\"],[0.5555555555555556,\"#d8576b\"],[0.6666666666666666,\"#ed7953\"],[0.7777777777777778,\"#fb9f3a\"],[0.8888888888888888,\"#fdca26\"],[1.0,\"#f0f921\"]],\"type\":\"histogram2dcontour\"}],\"histogram2d\":[{\"colorbar\":{\"outlinewidth\":0,\"ticks\":\"\"},\"colorscale\":[[0.0,\"#0d0887\"],[0.1111111111111111,\"#46039f\"],[0.2222222222222222,\"#7201a8\"],[0.3333333333333333,\"#9c179e\"],[0.4444444444444444,\"#bd3786\"],[0.5555555555555556,\"#d8576b\"],[0.6666666666666666,\"#ed7953\"],[0.7777777777777778,\"#fb9f3a\"],[0.8888888888888888,\"#fdca26\"],[1.0,\"#f0f921\"]],\"type\":\"histogram2d\"}],\"histogram\":[{\"marker\":{\"pattern\":{\"fillmode\":\"overlay\",\"size\":10,\"solidity\":0.2}},\"type\":\"histogram\"}],\"mesh3d\":[{\"colorbar\":{\"outlinewidth\":0,\"ticks\":\"\"},\"type\":\"mesh3d\"}],\"parcoords\":[{\"line\":{\"colorbar\":{\"outlinewidth\":0,\"ticks\":\"\"}},\"type\":\"parcoords\"}],\"pie\":[{\"automargin\":true,\"type\":\"pie\"}],\"scatter3d\":[{\"line\":{\"colorbar\":{\"outlinewidth\":0,\"ticks\":\"\"}},\"marker\":{\"colorbar\":{\"outlinewidth\":0,\"ticks\":\"\"}},\"type\":\"scatter3d\"}],\"scattercarpet\":[{\"marker\":{\"colorbar\":{\"outlinewidth\":0,\"ticks\":\"\"}},\"type\":\"scattercarpet\"}],\"scattergeo\":[{\"marker\":{\"colorbar\":{\"outlinewidth\":0,\"ticks\":\"\"}},\"type\":\"scattergeo\"}],\"scattergl\":[{\"marker\":{\"colorbar\":{\"outlinewidth\":0,\"ticks\":\"\"}},\"type\":\"scattergl\"}],\"scattermapbox\":[{\"marker\":{\"colorbar\":{\"outlinewidth\":0,\"ticks\":\"\"}},\"type\":\"scattermapbox\"}],\"scatterpolargl\":[{\"marker\":{\"colorbar\":{\"outlinewidth\":0,\"ticks\":\"\"}},\"type\":\"scatterpolargl\"}],\"scatterpolar\":[{\"marker\":{\"colorbar\":{\"outlinewidth\":0,\"ticks\":\"\"}},\"type\":\"scatterpolar\"}],\"scatter\":[{\"marker\":{\"colorbar\":{\"outlinewidth\":0,\"ticks\":\"\"}},\"type\":\"scatter\"}],\"scatterternary\":[{\"marker\":{\"colorbar\":{\"outlinewidth\":0,\"ticks\":\"\"}},\"type\":\"scatterternary\"}],\"surface\":[{\"colorbar\":{\"outlinewidth\":0,\"ticks\":\"\"},\"colorscale\":[[0.0,\"#0d0887\"],[0.1111111111111111,\"#46039f\"],[0.2222222222222222,\"#7201a8\"],[0.3333333333333333,\"#9c179e\"],[0.4444444444444444,\"#bd3786\"],[0.5555555555555556,\"#d8576b\"],[0.6666666666666666,\"#ed7953\"],[0.7777777777777778,\"#fb9f3a\"],[0.8888888888888888,\"#fdca26\"],[1.0,\"#f0f921\"]],\"type\":\"surface\"}],\"table\":[{\"cells\":{\"fill\":{\"color\":\"#EBF0F8\"},\"line\":{\"color\":\"white\"}},\"header\":{\"fill\":{\"color\":\"#C8D4E3\"},\"line\":{\"color\":\"white\"}},\"type\":\"table\"}]},\"layout\":{\"annotationdefaults\":{\"arrowcolor\":\"#2a3f5f\",\"arrowhead\":0,\"arrowwidth\":1},\"autotypenumbers\":\"strict\",\"coloraxis\":{\"colorbar\":{\"outlinewidth\":0,\"ticks\":\"\"}},\"colorscale\":{\"diverging\":[[0,\"#8e0152\"],[0.1,\"#c51b7d\"],[0.2,\"#de77ae\"],[0.3,\"#f1b6da\"],[0.4,\"#fde0ef\"],[0.5,\"#f7f7f7\"],[0.6,\"#e6f5d0\"],[0.7,\"#b8e186\"],[0.8,\"#7fbc41\"],[0.9,\"#4d9221\"],[1,\"#276419\"]],\"sequential\":[[0.0,\"#0d0887\"],[0.1111111111111111,\"#46039f\"],[0.2222222222222222,\"#7201a8\"],[0.3333333333333333,\"#9c179e\"],[0.4444444444444444,\"#bd3786\"],[0.5555555555555556,\"#d8576b\"],[0.6666666666666666,\"#ed7953\"],[0.7777777777777778,\"#fb9f3a\"],[0.8888888888888888,\"#fdca26\"],[1.0,\"#f0f921\"]],\"sequentialminus\":[[0.0,\"#0d0887\"],[0.1111111111111111,\"#46039f\"],[0.2222222222222222,\"#7201a8\"],[0.3333333333333333,\"#9c179e\"],[0.4444444444444444,\"#bd3786\"],[0.5555555555555556,\"#d8576b\"],[0.6666666666666666,\"#ed7953\"],[0.7777777777777778,\"#fb9f3a\"],[0.8888888888888888,\"#fdca26\"],[1.0,\"#f0f921\"]]},\"colorway\":[\"#636efa\",\"#EF553B\",\"#00cc96\",\"#ab63fa\",\"#FFA15A\",\"#19d3f3\",\"#FF6692\",\"#B6E880\",\"#FF97FF\",\"#FECB52\"],\"font\":{\"color\":\"#2a3f5f\"},\"geo\":{\"bgcolor\":\"white\",\"lakecolor\":\"white\",\"landcolor\":\"white\",\"showlakes\":true,\"showland\":true,\"subunitcolor\":\"#C8D4E3\"},\"hoverlabel\":{\"align\":\"left\"},\"hovermode\":\"closest\",\"mapbox\":{\"style\":\"light\"},\"paper_bgcolor\":\"white\",\"plot_bgcolor\":\"white\",\"polar\":{\"angularaxis\":{\"gridcolor\":\"#EBF0F8\",\"linecolor\":\"#EBF0F8\",\"ticks\":\"\"},\"bgcolor\":\"white\",\"radialaxis\":{\"gridcolor\":\"#EBF0F8\",\"linecolor\":\"#EBF0F8\",\"ticks\":\"\"}},\"scene\":{\"xaxis\":{\"backgroundcolor\":\"white\",\"gridcolor\":\"#DFE8F3\",\"gridwidth\":2,\"linecolor\":\"#EBF0F8\",\"showbackground\":true,\"ticks\":\"\",\"zerolinecolor\":\"#EBF0F8\"},\"yaxis\":{\"backgroundcolor\":\"white\",\"gridcolor\":\"#DFE8F3\",\"gridwidth\":2,\"linecolor\":\"#EBF0F8\",\"showbackground\":true,\"ticks\":\"\",\"zerolinecolor\":\"#EBF0F8\"},\"zaxis\":{\"backgroundcolor\":\"white\",\"gridcolor\":\"#DFE8F3\",\"gridwidth\":2,\"linecolor\":\"#EBF0F8\",\"showbackground\":true,\"ticks\":\"\",\"zerolinecolor\":\"#EBF0F8\"}},\"shapedefaults\":{\"line\":{\"color\":\"#2a3f5f\"}},\"ternary\":{\"aaxis\":{\"gridcolor\":\"#DFE8F3\",\"linecolor\":\"#A2B1C6\",\"ticks\":\"\"},\"baxis\":{\"gridcolor\":\"#DFE8F3\",\"linecolor\":\"#A2B1C6\",\"ticks\":\"\"},\"bgcolor\":\"white\",\"caxis\":{\"gridcolor\":\"#DFE8F3\",\"linecolor\":\"#A2B1C6\",\"ticks\":\"\"}},\"title\":{\"x\":0.05},\"xaxis\":{\"automargin\":true,\"gridcolor\":\"#EBF0F8\",\"linecolor\":\"#EBF0F8\",\"ticks\":\"\",\"title\":{\"standoff\":15},\"zerolinecolor\":\"#EBF0F8\",\"zerolinewidth\":2},\"yaxis\":{\"automargin\":true,\"gridcolor\":\"#EBF0F8\",\"linecolor\":\"#EBF0F8\",\"ticks\":\"\",\"title\":{\"standoff\":15},\"zerolinecolor\":\"#EBF0F8\",\"zerolinewidth\":2}}},\"xaxis\":{\"anchor\":\"y\",\"domain\":[0.0,1.0],\"title\":{\"text\":\"Minuten\"}},\"yaxis\":{\"anchor\":\"x\",\"domain\":[0.0,1.0],\"title\":{\"text\":\"Anzahl BEVs\"}},\"legend\":{\"tracegroupgap\":0},\"margin\":{\"t\":60},\"title\":{\"font\":{\"size\":24},\"text\":\"Anzahl wartender und ladender BEVs im Tagesverlauf\",\"x\":0.5,\"xanchor\":\"center\"}},                        {\"responsive\": true}                    ).then(function(){\n",
       "                            \n",
       "var gd = document.getElementById('1ccb0d09-b40c-4391-84f1-b2b6b63fdee3');\n",
       "var x = new MutationObserver(function (mutations, observer) {{\n",
       "        var display = window.getComputedStyle(gd).display;\n",
       "        if (!display || display === 'none') {{\n",
       "            console.log([gd, 'removed!']);\n",
       "            Plotly.purge(gd);\n",
       "            observer.disconnect();\n",
       "        }}\n",
       "}});\n",
       "\n",
       "// Listen for the removal of the full notebook cells\n",
       "var notebookContainer = gd.closest('#notebook-container');\n",
       "if (notebookContainer) {{\n",
       "    x.observe(notebookContainer, {childList: true});\n",
       "}}\n",
       "\n",
       "// Listen for the clearing of the current output cell\n",
       "var outputEl = gd.closest('.output');\n",
       "if (outputEl) {{\n",
       "    x.observe(outputEl, {childList: true});\n",
       "}}\n",
       "\n",
       "                        })                };                });            </script>        </div>"
      ]
     },
     "metadata": {},
     "output_type": "display_data"
    }
   ],
   "source": [
    "figureGeneration.create_bev_number_figure(simulation_data)"
   ]
  },
  {
   "cell_type": "code",
   "execution_count": 8,
   "metadata": {
    "pycharm": {
     "is_executing": true
    }
   },
   "outputs": [
    {
     "name": "stdout",
     "output_type": "stream",
     "text": [
      "START POST OPTIMIZATION\n",
      "{0: [(8.5, 5.8), 'nicht parkend', [], [8.3925]], 1: [(8.5, 6.2), 'nicht parkend', [], [8.6175]], 2: [(8.5, 4.1), 'nicht parkend', [], [6.494999999999999]], 3: [(8.5, 6.1), 'nicht parkend', [], [8.6175]], 4: [(12.0, 4.0), 'nicht parkend', [(960, 30.10259917920655, 4.09)], [4.09]], 5: [(8.5, 7.5), 'nicht parkend', [(945, 68.41666666666663, 9.3725)], [9.3725]], 6: [(9.0, 4.4), 'nicht parkend', [], [6.987499999999999]], 7: [(13.0, 3.0), 'nicht parkend', [(929.8974008207935, 20.389106981930922, 2.5874999999999995)], [2.5875]], 8: [(12.5, 3.5), 'nicht parkend', [(909.5082938388625, 20.122579553148285, 3.1949999999999994)], [3.195]], 9: [(8.0, 4.0), 'nicht parkend', [(710.2905479955866, 60.95465256316061, 5.841323280617872)], [5.484999999999999]], 10: [(13.0, 3.0), 'nicht parkend', [(889.3857142857142, 16.519047619047683, 2.5875)], [2.5875]], 11: [(13.0, 3.0), 'nicht parkend', [(885, 16.840909090909122, 2.5875)], [2.5875]], 12: [(8.0, 4.9), 'nicht parkend', [], [6.987499999999999]], 13: [(12.0, 4.0), 'nicht parkend', [(876.5833333333334, 33.24829059829051, 4.09)], [4.09]], 14: [(12.0, 3.0), 'nicht parkend', [(782.2204081632652, 59.088191810361764, 3.53)], [3.53]], 15: [(12.5, 3.5), 'nicht parkend', [(872.8666666666666, 31.64786324786337, 3.195)], [3.195]], 16: [(8.0, 5.1), 'nicht parkend', [], [7.229999999999999]], 17: [(12.5, 3.5), 'nicht parkend', [(868.1590909090909, 17.974475524475565, 3.195)], [3.195]], 18: [(8.0, 5.9), 'nicht parkend', [], [8.049999999999999]], 19: [(13.0, 3.0), 'nicht parkend', [(855, 15.872727272727275, 2.5875)], [2.5875]], 20: [(8.5, 4.0), 'nicht parkend', [(708.377417352791, 74.34007389276314, 6.75281107967062)], [6.177499999999999]], 21: [(8.5, 6.0), 'nicht parkend', [(767.0187439796618, 144.9209516013026, 10.66450549383358)], [8.3925]], 22: [(8.5, 4.5), 'nicht parkend', [(750, 39.70945200441338, 6.784999999999999)], [6.784999999999999]], 23: [(13.0, 3.0), 'nicht parkend', [(843.3350427350429, 15.236456876456828, 2.5875)], [2.5875]], 24: [(13.0, 3.0), 'nicht parkend', [(841.2188034188032, 15.121025641025653, 2.5875)], [2.5875]], 25: [(8.0, 3.9), 'nicht parkend', [], [5.484999999999999]], 26: [(8.5, 3.7), 'nicht parkend', [], [5.734999999999999]], 27: [(13.5, 2.5), 'nicht parkend', [(850.1846153846153, 12.700979020979048, 2.0875000000000004)], [2.0875000000000004]], 28: [(9.0, 5.0), 'nicht parkend', [(773.0690003984918, 64.69158304570078, 7.549999999999999)], [7.549999999999999]], 29: [(12.5, 3.5), 'nicht parkend', [(839.1272727272727, 18.75746140651802, 3.195)], [3.195]], 30: [(12.0, 4.0), 'nicht parkend', [(828.098585858586, 61.079841878924185, 4.09)], [4.09]], 31: [(12.5, 3.5), 'nicht parkend', [(826.0977777777775, 73.93205318491118, 3.1949999999999994)], [3.195]], 32: [(9.0, 5.4), 'nicht parkend', [], [8.094999999999999]], 33: [(8.5, 4.9), 'nicht parkend', [], [7.284999999999999]], 34: [(12.5, 3.1), 'nicht parkend', [], [3.0799999999999996]], 35: [(8.5, 3.1), 'nicht parkend', [], [4.76]], 36: [(8.0, 7.8), 'nicht parkend', [], [9.575]], 37: [(8.5, 5.5), 'nicht parkend', [(752.1657245928664, 125.03556988548996, 8.452798202969184)], [7.847499999999999]], 38: [(12.5, 3.5), 'nicht parkend', [(837.4836363636363, 18.819485420240085, 3.195)], [3.195]], 39: [(13.0, 3.0), 'nicht parkend', [(820.3698113207547, 15.828634850166509, 2.5875)], [2.5875]], 40: [(8.0, 4.1), 'nicht parkend', [], [5.937499999999999]], 41: [(12.5, 3.5), 'nicht parkend', [(818.6641509433962, 19.707288198298215, 3.195)], [3.195]], 42: [(12.0, 4.0), 'nicht parkend', [(804.5411764705882, 31.47217607209643, 4.09)], [4.09]], 43: [(8.5, 6.7), 'nicht parkend', [], [8.975]], 44: [(9.0, 6.2), 'nicht parkend', [], [8.677499999999998]], 45: [(8.5, 7.1), 'nicht parkend', [], [9.2575]], 46: [(9.5, 3.5), 'nicht parkend', [(723.1322163529035, 89.40309644194838, 7.154297474343625)], [5.987499999999999]], 47: [(8.0, 6.6), 'nicht parkend', [], [8.819999999999999]], 48: [(13.0, 3.0), 'nicht parkend', [(798.956862745098, 16.73645458183273, 2.5875)], [2.5875]], 49: [(8.5, 3.1), 'nicht parkend', [], [4.76]]}\n",
      "Waiting BEV list:  []\n",
      "[960, 945, 930, 915, 900, 885, 870, 855, 840, 825, 810, 795, 780, 765, 750, 735, 720, 705, 690, 675, 660, 645, 630, 615, 600, 585, 570, 555, 540, 525, 510, 495, 480]\n",
      "\n",
      "\n",
      "Minute:  960\n",
      "Waiting BEVs (after updating new waiting BEVs):  [4, 5, 7, 8, 10, 11, 13, 15, 17, 19, 23, 24, 27, 29, 30, 31, 38, 39, 41, 42, 48]\n",
      "Charging BEVs:  []\n",
      "Waiting BEVs:  [4, 5, 7, 8, 10, 11, 13, 15, 17, 19, 23, 24, 27, 29, 30, 31, 38, 39, 41, 42, 48]\n",
      "CALCULATE NUMBER OF CHARGING STATIONS\n",
      "Number of charging stations:  1\n",
      "CALCULATE NUMBER OF CHARGING STATIONS\n",
      "Number of charging stations:  1\n",
      "NUMBER OF FREE CHARGING STATIONS:  1\n",
      "OVERWRITE INITIAL CHARGING DATA\n",
      "CALCULATE NUMBER OF CHARGING STATIONS\n",
      "Number of charging stations:  1\n",
      "AVAILABLE SOLAR POWER:  10.12\n",
      "Restladeenergie bis zur fairen Ladeenergie for BEV mit ID 4:  4.09\n",
      "Restladezeit:  24.249011857707508\n",
      "Charging BEVs:  [4]\n",
      "\n",
      "\n",
      "Minute:  945\n",
      "Waiting BEVs (after updating new waiting BEVs):  [5, 7, 8, 10, 11, 13, 15, 17, 19, 23, 24, 27, 29, 30, 31, 38, 39, 41, 42, 48]\n",
      "Charging BEVs:  [4]\n",
      "Waiting BEVs:  [5, 7, 8, 10, 11, 13, 15, 17, 19, 23, 24, 27, 29, 30, 31, 38, 39, 41, 42, 48]\n",
      "Ladezeit = 15 für ID BEV 4\n",
      "Ladezeit = 15 für ID BEV 4\n",
      "CALCULATE NUMBER OF CHARGING STATIONS\n",
      "Number of charging stations:  2\n",
      "CALCULATE NUMBER OF CHARGING STATIONS\n",
      "Number of charging stations:  2\n",
      "NUMBER OF FREE CHARGING STATIONS:  1\n",
      "OVERWRITE INITIAL CHARGING DATA\n",
      "CALCULATE NUMBER OF CHARGING STATIONS\n",
      "Number of charging stations:  2\n",
      "AVAILABLE SOLAR POWER:  12.38\n",
      "Restladeenergie bis zur fairen Ladeenergie for BEV mit ID 4:  1.56\n",
      "Restladezeit:  15.121163166397412\n",
      "AVAILABLE SOLAR POWER:  12.38\n",
      "Restladeenergie bis zur fairen Ladeenergie for BEV mit ID 5:  9.3725\n",
      "Restladezeit:  90.8481421647819\n",
      "Charging BEVs:  [4, 5]\n",
      "\n",
      "\n",
      "Minute:  930\n",
      "Waiting BEVs (after updating new waiting BEVs):  [7, 8, 10, 11, 13, 15, 17, 19, 23, 24, 27, 29, 30, 31, 38, 39, 41, 42, 48]\n",
      "Charging BEVs:  [4, 5]\n",
      "Waiting BEVs:  [7, 8, 10, 11, 13, 15, 17, 19, 23, 24, 27, 29, 30, 31, 38, 39, 41, 42, 48]\n",
      "Ladezeit = 30 für ID BEV 4\n",
      "Ladezeit = 15 für ID BEV 5\n",
      "Ladezeit = 30 für ID BEV 4\n",
      "Ladezeit = 15 für ID BEV 5\n",
      "CALCULATE NUMBER OF CHARGING STATIONS\n",
      "Number of charging stations:  2\n",
      "CALCULATE NUMBER OF CHARGING STATIONS\n",
      "Number of charging stations:  2\n",
      "AVAILABLE SOLAR POWER:  14.62\n",
      "Restladeenergie bis zur fairen Ladeenergie for BEV mit ID 4:  0.012500000000000178\n",
      "Restladezeit:  0.10259917920656782\n",
      "Die Restladezeit des BEVS 4 endet vor dem nächsten Interval\n",
      "Ausgewähltes BEV das frei gewordenen Platz belegen darf:  7\n",
      "Ladestart für ausgewähltes BEV:  929.8974008207935\n",
      "OVERWRITE INITIAL CHARGING DATA\n",
      "7.31 CHARGING POWER WIRD FÜR NEUES BEV 7 GESPEICHERT: \n",
      "ZEITPUNKT FÜR DAS ES GESPEICHERT WIRD:  929.8974008207935\n",
      "AVAILABLE SOLAR POWER:  14.62\n",
      "Restladeenergie bis zur fairen Ladeenergie for BEV mit ID 5:  7.825\n",
      "Restladezeit:  64.22708618331053\n",
      "Charging BEVs:  [4, 5]\n",
      "\n",
      "\n",
      "Minute:  915\n",
      "Waiting BEVs (after updating new waiting BEVs):  [8, 10, 11, 13, 15, 17, 19, 23, 24, 27, 29, 30, 31, 38, 39, 41, 42, 48]\n",
      "Charging BEVs:  [5, 7]\n",
      "Waiting BEVs:  [8, 10, 11, 13, 15, 17, 19, 23, 24, 27, 29, 30, 31, 38, 39, 41, 42, 48]\n",
      "Ladezeit = 30 für ID BEV 5\n",
      "Ladezeit = 14.89740082079345 für ID BEV 7\n",
      "Ladezeit = 30 für ID BEV 5\n",
      "Ladezeit = 14.89740082079345 für ID BEV 7\n",
      "CALCULATE NUMBER OF CHARGING STATIONS\n",
      "Number of charging stations:  2\n",
      "CALCULATE NUMBER OF CHARGING STATIONS\n",
      "Number of charging stations:  2\n",
      "AVAILABLE SOLAR POWER:  16.88\n",
      "Restladeenergie bis zur fairen Ladeenergie for BEV mit ID 5:  5.9975000000000005\n",
      "Restladezeit:  42.63625592417063\n",
      "AVAILABLE SOLAR POWER:  16.88\n",
      "Restladeenergie bis zur fairen Ladeenergie for BEV mit ID 7:  0.772499999999998\n",
      "Restladezeit:  5.491706161137426\n",
      "Die Restladezeit des BEVS 7 endet vor dem nächsten Interval\n",
      "Ausgewähltes BEV das frei gewordenen Platz belegen darf:  8\n",
      "Ladestart für ausgewähltes BEV:  909.5082938388625\n",
      "OVERWRITE INITIAL CHARGING DATA\n",
      "8.44 CHARGING POWER WIRD FÜR NEUES BEV 8 GESPEICHERT: \n",
      "ZEITPUNKT FÜR DAS ES GESPEICHERT WIRD:  909.5082938388625\n",
      "Charging BEVs:  [5, 7]\n",
      "\n",
      "\n",
      "Minute:  900\n",
      "Waiting BEVs (after updating new waiting BEVs):  [10, 11, 13, 15, 17, 19, 23, 24, 27, 29, 30, 31, 38, 39, 41, 42, 48, 14]\n",
      "Charging BEVs:  [5, 8]\n",
      "Waiting BEVs:  [10, 11, 13, 15, 17, 19, 23, 24, 27, 29, 30, 31, 38, 39, 41, 42, 48, 14]\n",
      "Ladezeit = 45 für ID BEV 5\n",
      "Ladezeit = 9.508293838862528 für ID BEV 8\n",
      "Ladezeit = 45 für ID BEV 5\n",
      "Ladezeit = 9.508293838862528 für ID BEV 8\n",
      "CALCULATE NUMBER OF CHARGING STATIONS\n",
      "Number of charging stations:  2\n",
      "CALCULATE NUMBER OF CHARGING STATIONS\n",
      "Number of charging stations:  2\n",
      "AVAILABLE SOLAR POWER:  21.0\n",
      "Restladeenergie bis zur fairen Ladeenergie for BEV mit ID 5:  3.887500000000001\n",
      "Restladezeit:  22.214285714285722\n",
      "AVAILABLE SOLAR POWER:  21.0\n",
      "Restladeenergie bis zur fairen Ladeenergie for BEV mit ID 8:  1.8575000000000041\n",
      "Restladezeit:  10.614285714285737\n",
      "Die Restladezeit des BEVS 8 endet vor dem nächsten Interval\n",
      "Ausgewähltes BEV das frei gewordenen Platz belegen darf:  10\n",
      "Ladestart für ausgewähltes BEV:  889.3857142857142\n",
      "OVERWRITE INITIAL CHARGING DATA\n",
      "10.5 CHARGING POWER WIRD FÜR NEUES BEV 10 GESPEICHERT: \n",
      "ZEITPUNKT FÜR DAS ES GESPEICHERT WIRD:  889.3857142857142\n",
      "Charging BEVs:  [5, 8]\n",
      "\n",
      "\n",
      "Minute:  885\n",
      "Waiting BEVs (after updating new waiting BEVs):  [11, 13, 15, 17, 19, 23, 24, 27, 29, 30, 31, 38, 39, 41, 42, 48, 14]\n",
      "Charging BEVs:  [5, 10]\n",
      "Waiting BEVs:  [11, 13, 15, 17, 19, 23, 24, 27, 29, 30, 31, 38, 39, 41, 42, 48, 14]\n",
      "Ladezeit = 60 für ID BEV 5\n",
      "Ladezeit = 4.3857142857142435 für ID BEV 10\n",
      "Ladezeit = 60 für ID BEV 5\n",
      "Ladezeit = 4.3857142857142435 für ID BEV 10\n",
      "CALCULATE NUMBER OF CHARGING STATIONS\n",
      "Number of charging stations:  3\n",
      "CALCULATE NUMBER OF CHARGING STATIONS\n",
      "Number of charging stations:  3\n",
      "NUMBER OF FREE CHARGING STATIONS:  1\n",
      "OVERWRITE INITIAL CHARGING DATA\n",
      "CALCULATE NUMBER OF CHARGING STATIONS\n",
      "Number of charging stations:  3\n"
     ]
    },
    {
     "name": "stdout",
     "output_type": "stream",
     "text": [
      "AVAILABLE SOLAR POWER:  27.0\n",
      "Restladeenergie bis zur fairen Ladeenergie for BEV mit ID 5:  1.262500000000001\n",
      "Restladezeit:  8.416666666666673\n",
      "Die Restladezeit des BEVS 5 endet vor dem nächsten Interval\n",
      "Ausgewähltes BEV das frei gewordenen Platz belegen darf:  13\n",
      "Ladestart für ausgewähltes BEV:  876.5833333333334\n",
      "OVERWRITE INITIAL CHARGING DATA\n",
      "9.0 CHARGING POWER WIRD FÜR NEUES BEV 13 GESPEICHERT: \n",
      "ZEITPUNKT FÜR DAS ES GESPEICHERT WIRD:  876.5833333333334\n",
      "AVAILABLE SOLAR POWER:  27.0\n",
      "Restladeenergie bis zur fairen Ladeenergie for BEV mit ID 10:  1.8200000000000074\n",
      "Restladezeit:  12.133333333333383\n",
      "Die Restladezeit des BEVS 10 endet vor dem nächsten Interval\n",
      "Ausgewähltes BEV das frei gewordenen Platz belegen darf:  15\n",
      "Ladestart für ausgewähltes BEV:  872.8666666666666\n",
      "OVERWRITE INITIAL CHARGING DATA\n",
      "9.0 CHARGING POWER WIRD FÜR NEUES BEV 15 GESPEICHERT: \n",
      "ZEITPUNKT FÜR DAS ES GESPEICHERT WIRD:  872.8666666666666\n",
      "AVAILABLE SOLAR POWER:  27.0\n",
      "Restladeenergie bis zur fairen Ladeenergie for BEV mit ID 11:  2.5875\n",
      "Restladezeit:  17.25\n",
      "Charging BEVs:  [5, 10, 11]\n",
      "\n",
      "\n",
      "Minute:  870\n",
      "Waiting BEVs (after updating new waiting BEVs):  [17, 19, 23, 24, 27, 29, 30, 31, 38, 39, 41, 42, 48, 14, 21]\n",
      "Charging BEVs:  [11, 13, 15]\n",
      "Waiting BEVs:  [17, 19, 23, 24, 27, 29, 30, 31, 38, 39, 41, 42, 48, 14, 21]\n",
      "Ladezeit = 15 für ID BEV 11\n",
      "Ladezeit = 6.583333333333371 für ID BEV 13\n",
      "Ladezeit = 2.8666666666665606 für ID BEV 15\n",
      "Ladezeit = 15 für ID BEV 11\n",
      "Ladezeit = 6.583333333333371 für ID BEV 13\n",
      "Ladezeit = 2.8666666666665606 für ID BEV 15\n",
      "CALCULATE NUMBER OF CHARGING STATIONS\n",
      "Number of charging stations:  3\n",
      "CALCULATE NUMBER OF CHARGING STATIONS\n",
      "Number of charging stations:  3\n",
      "AVAILABLE SOLAR POWER:  33.0\n",
      "Restladeenergie bis zur fairen Ladeenergie for BEV mit ID 11:  0.3374999999999999\n",
      "Restladezeit:  1.8409090909090904\n",
      "Die Restladezeit des BEVS 11 endet vor dem nächsten Interval\n",
      "Ausgewähltes BEV das frei gewordenen Platz belegen darf:  17\n",
      "Ladestart für ausgewähltes BEV:  868.1590909090909\n",
      "OVERWRITE INITIAL CHARGING DATA\n",
      "11.0 CHARGING POWER WIRD FÜR NEUES BEV 17 GESPEICHERT: \n",
      "ZEITPUNKT FÜR DAS ES GESPEICHERT WIRD:  868.1590909090909\n",
      "AVAILABLE SOLAR POWER:  33.0\n",
      "Restladeenergie bis zur fairen Ladeenergie for BEV mit ID 13:  3.1024999999999943\n",
      "Restladezeit:  16.922727272727244\n",
      "AVAILABLE SOLAR POWER:  33.0\n",
      "Restladeenergie bis zur fairen Ladeenergie for BEV mit ID 15:  2.7650000000000157\n",
      "Restladezeit:  15.081818181818267\n",
      "Charging BEVs:  [11, 13, 15]\n",
      "\n",
      "\n",
      "Minute:  855\n",
      "Waiting BEVs (after updating new waiting BEVs):  [19, 23, 24, 27, 29, 30, 31, 38, 39, 41, 42, 48, 14, 21]\n",
      "Charging BEVs:  [13, 15, 17]\n",
      "Waiting BEVs:  [19, 23, 24, 27, 29, 30, 31, 38, 39, 41, 42, 48, 14, 21]\n",
      "Ladezeit = 21.58333333333337 für ID BEV 13\n",
      "Ladezeit = 17.86666666666656 für ID BEV 15\n",
      "Ladezeit = 13.159090909090878 für ID BEV 17\n",
      "Ladezeit = 21.58333333333337 für ID BEV 13\n",
      "Ladezeit = 17.86666666666656 für ID BEV 15\n",
      "Ladezeit = 13.159090909090878 für ID BEV 17\n",
      "CALCULATE NUMBER OF CHARGING STATIONS\n",
      "Number of charging stations:  4\n",
      "CALCULATE NUMBER OF CHARGING STATIONS\n",
      "Number of charging stations:  4\n",
      "NUMBER OF FREE CHARGING STATIONS:  1\n",
      "OVERWRITE INITIAL CHARGING DATA\n",
      "CALCULATE NUMBER OF CHARGING STATIONS\n",
      "Number of charging stations:  4\n",
      "AVAILABLE SOLAR POWER:  39.0\n",
      "Restladeenergie bis zur fairen Ladeenergie for BEV mit ID 13:  1.8955555555555428\n",
      "Restladezeit:  11.664957264957186\n",
      "Die Restladezeit des BEVS 13 endet vor dem nächsten Interval\n",
      "Ausgewähltes BEV das frei gewordenen Platz belegen darf:  23\n",
      "Ladestart für ausgewähltes BEV:  843.3350427350429\n",
      "OVERWRITE INITIAL CHARGING DATA\n",
      "9.75 CHARGING POWER WIRD FÜR NEUES BEV 23 GESPEICHERT: \n",
      "ZEITPUNKT FÜR DAS ES GESPEICHERT WIRD:  843.3350427350429\n",
      "AVAILABLE SOLAR POWER:  39.0\n",
      "Restladeenergie bis zur fairen Ladeenergie for BEV mit ID 15:  2.2394444444444797\n",
      "Restladezeit:  13.781196581196799\n",
      "Die Restladezeit des BEVS 15 endet vor dem nächsten Interval\n",
      "Ausgewähltes BEV das frei gewordenen Platz belegen darf:  24\n",
      "Ladestart für ausgewähltes BEV:  841.2188034188032\n",
      "OVERWRITE INITIAL CHARGING DATA\n",
      "9.75 CHARGING POWER WIRD FÜR NEUES BEV 24 GESPEICHERT: \n",
      "ZEITPUNKT FÜR DAS ES GESPEICHERT WIRD:  841.2188034188032\n",
      "AVAILABLE SOLAR POWER:  39.0\n",
      "Restladeenergie bis zur fairen Ladeenergie for BEV mit ID 17:  0.7825000000000055\n",
      "Restladezeit:  4.81538461538465\n",
      "Die Restladezeit des BEVS 17 endet vor dem nächsten Interval\n",
      "Ausgewähltes BEV das frei gewordenen Platz belegen darf:  27\n",
      "Ladestart für ausgewähltes BEV:  850.1846153846153\n",
      "OVERWRITE INITIAL CHARGING DATA\n",
      "9.75 CHARGING POWER WIRD FÜR NEUES BEV 27 GESPEICHERT: \n",
      "ZEITPUNKT FÜR DAS ES GESPEICHERT WIRD:  850.1846153846153\n",
      "AVAILABLE SOLAR POWER:  39.0\n",
      "Restladeenergie bis zur fairen Ladeenergie for BEV mit ID 19:  2.5875\n",
      "Restladezeit:  15.923076923076923\n",
      "Charging BEVs:  [13, 15, 17, 19]\n",
      "\n",
      "\n",
      "Minute:  840\n",
      "Waiting BEVs (after updating new waiting BEVs):  [29, 30, 31, 38, 39, 41, 42, 48, 14, 21, 28, 37]\n",
      "Charging BEVs:  [19, 23, 24, 27]\n",
      "Waiting BEVs:  [29, 30, 31, 38, 39, 41, 42, 48, 14, 21, 28, 37]\n",
      "Ladezeit = 15 für ID BEV 19\n",
      "Ladezeit = 3.3350427350428618 für ID BEV 23\n",
      "Ladezeit = 1.2188034188031907 für ID BEV 24\n",
      "Ladezeit = 10.184615384615313 für ID BEV 27\n",
      "Ladezeit = 15 für ID BEV 19\n",
      "Ladezeit = 3.3350427350428618 für ID BEV 23\n",
      "Ladezeit = 1.2188034188031907 für ID BEV 24\n",
      "Ladezeit = 10.184615384615313 für ID BEV 27\n",
      "CALCULATE NUMBER OF CHARGING STATIONS\n",
      "Number of charging stations:  4\n",
      "CALCULATE NUMBER OF CHARGING STATIONS\n",
      "Number of charging stations:  4\n",
      "AVAILABLE SOLAR POWER:  41.25\n",
      "Restladeenergie bis zur fairen Ladeenergie for BEV mit ID 19:  0.1499999999999999\n",
      "Restladezeit:  0.8727272727272722\n",
      "Die Restladezeit des BEVS 19 endet vor dem nächsten Interval\n",
      "Ausgewähltes BEV das frei gewordenen Platz belegen darf:  29\n",
      "Ladestart für ausgewähltes BEV:  839.1272727272727\n",
      "OVERWRITE INITIAL CHARGING DATA\n",
      "10.3125 CHARGING POWER WIRD FÜR NEUES BEV 29 GESPEICHERT: \n",
      "ZEITPUNKT FÜR DAS ES GESPEICHERT WIRD:  839.1272727272727\n",
      "AVAILABLE SOLAR POWER:  41.25\n",
      "Restladeenergie bis zur fairen Ladeenergie for BEV mit ID 23:  2.0455555555555347\n",
      "Restladezeit:  11.90141414141402\n",
      "Die Restladezeit des BEVS 23 endet vor dem nächsten Interval\n",
      "Ausgewähltes BEV das frei gewordenen Platz belegen darf:  30\n",
      "Ladestart für ausgewähltes BEV:  828.098585858586\n",
      "OVERWRITE INITIAL CHARGING DATA\n",
      "10.3125 CHARGING POWER WIRD FÜR NEUES BEV 30 GESPEICHERT: \n",
      "ZEITPUNKT FÜR DAS ES GESPEICHERT WIRD:  828.098585858586\n",
      "AVAILABLE SOLAR POWER:  41.25\n",
      "Restladeenergie bis zur fairen Ladeenergie for BEV mit ID 24:  2.3894444444444813\n",
      "Restladezeit:  13.902222222222436\n",
      "Die Restladezeit des BEVS 24 endet vor dem nächsten Interval\n",
      "Ausgewähltes BEV das frei gewordenen Platz belegen darf:  31\n",
      "Ladestart für ausgewähltes BEV:  826.0977777777775\n",
      "OVERWRITE INITIAL CHARGING DATA\n",
      "10.3125 CHARGING POWER WIRD FÜR NEUES BEV 31 GESPEICHERT: \n",
      "ZEITPUNKT FÜR DAS ES GESPEICHERT WIRD:  826.0977777777775\n",
      "AVAILABLE SOLAR POWER:  41.25\n",
      "Restladeenergie bis zur fairen Ladeenergie for BEV mit ID 27:  0.4325000000000119\n",
      "Restladezeit:  2.5163636363637054\n",
      "Die Restladezeit des BEVS 27 endet vor dem nächsten Interval\n",
      "Ausgewähltes BEV das frei gewordenen Platz belegen darf:  38\n",
      "Ladestart für ausgewähltes BEV:  837.4836363636363\n",
      "OVERWRITE INITIAL CHARGING DATA\n",
      "10.3125 CHARGING POWER WIRD FÜR NEUES BEV 38 GESPEICHERT: \n",
      "ZEITPUNKT FÜR DAS ES GESPEICHERT WIRD:  837.4836363636363\n",
      "Charging BEVs:  [19, 23, 24, 27]\n",
      "\n",
      "\n",
      "Minute:  825\n",
      "Waiting BEVs (after updating new waiting BEVs):  [39, 41, 42, 48, 14, 21, 28, 37]\n",
      "Charging BEVs:  [29, 30, 31, 38]\n",
      "Waiting BEVs:  [39, 41, 42, 48, 14, 21, 28, 37]\n",
      "Ladezeit = 14.127272727272725 für ID BEV 29\n",
      "Ladezeit = 3.098585858586034 für ID BEV 30\n",
      "Ladezeit = 1.0977777777775373 für ID BEV 31\n",
      "Ladezeit = 12.483636363636265 für ID BEV 38\n",
      "Ladezeit = 14.127272727272725 für ID BEV 29\n",
      "Ladezeit = 3.098585858586034 für ID BEV 30\n",
      "Ladezeit = 1.0977777777775373 für ID BEV 31\n",
      "Ladezeit = 12.483636363636265 für ID BEV 38\n",
      "CALCULATE NUMBER OF CHARGING STATIONS\n",
      "Number of charging stations:  4\n",
      "CALCULATE NUMBER OF CHARGING STATIONS\n",
      "Number of charging stations:  4\n",
      "AVAILABLE SOLAR POWER:  39.75\n",
      "Restladeenergie bis zur fairen Ladeenergie for BEV mit ID 29:  0.7668750000000002\n",
      "Restladezeit:  4.630188679245284\n",
      "Die Restladezeit des BEVS 29 endet vor dem nächsten Interval\n",
      "Ausgewähltes BEV das frei gewordenen Platz belegen darf:  39\n",
      "Ladestart für ausgewähltes BEV:  820.3698113207547\n",
      "OVERWRITE INITIAL CHARGING DATA\n",
      "9.9375 CHARGING POWER WIRD FÜR NEUES BEV 39 GESPEICHERT: \n",
      "ZEITPUNKT FÜR DAS ES GESPEICHERT WIRD:  820.3698113207547\n",
      "AVAILABLE SOLAR POWER:  39.75\n",
      "Restladeenergie bis zur fairen Ladeenergie for BEV mit ID 30:  3.5574305555555252\n",
      "Restladezeit:  21.478825995806943\n",
      "AVAILABLE SOLAR POWER:  39.75\n",
      "Restladeenergie bis zur fairen Ladeenergie for BEV mit ID 31:  3.0063194444444856\n",
      "Restladezeit:  18.151362683438403\n",
      "AVAILABLE SOLAR POWER:  39.75\n",
      "Restladeenergie bis zur fairen Ladeenergie for BEV mit ID 38:  1.0493750000000168\n",
      "Restladezeit:  6.335849056603875\n",
      "Die Restladezeit des BEVS 38 endet vor dem nächsten Interval\n",
      "Ausgewähltes BEV das frei gewordenen Platz belegen darf:  41\n",
      "Ladestart für ausgewähltes BEV:  818.6641509433962\n",
      "OVERWRITE INITIAL CHARGING DATA\n",
      "9.9375 CHARGING POWER WIRD FÜR NEUES BEV 41 GESPEICHERT: \n",
      "ZEITPUNKT FÜR DAS ES GESPEICHERT WIRD:  818.6641509433962\n",
      "Charging BEVs:  [29, 30, 31, 38]\n",
      "\n",
      "\n",
      "Minute:  810\n",
      "Waiting BEVs (after updating new waiting BEVs):  [42, 48, 14, 21, 28, 37]\n",
      "Charging BEVs:  [30, 31, 39, 41]\n",
      "Waiting BEVs:  [42, 48, 14, 21, 28, 37]\n",
      "Ladezeit = 18.098585858586034 für ID BEV 30\n",
      "Ladezeit = 16.097777777777537 für ID BEV 31\n",
      "Ladezeit = 10.369811320754707 für ID BEV 39\n",
      "Ladezeit = 8.66415094339618 für ID BEV 41\n",
      "Ladezeit = 18.098585858586034 für ID BEV 30\n",
      "Ladezeit = 16.097777777777537 für ID BEV 31\n",
      "Ladezeit = 10.369811320754707 für ID BEV 39\n",
      "Ladezeit = 8.66415094339618 für ID BEV 41\n",
      "CALCULATE NUMBER OF CHARGING STATIONS\n",
      "Number of charging stations:  4\n",
      "CALCULATE NUMBER OF CHARGING STATIONS\n",
      "Number of charging stations:  4\n",
      "AVAILABLE SOLAR POWER:  38.25\n",
      "Restladeenergie bis zur fairen Ladeenergie for BEV mit ID 30:  3.0442272727272135\n",
      "Restladezeit:  19.10103386809232\n",
      "AVAILABLE SOLAR POWER:  38.25\n",
      "Restladeenergie bis zur fairen Ladeenergie for BEV mit ID 31:  2.824500000000081\n",
      "Restladezeit:  17.72235294117698\n",
      "AVAILABLE SOLAR POWER:  38.25\n",
      "Restladeenergie bis zur fairen Ladeenergie for BEV mit ID 39:  0.8700000000000017\n",
      "Restladezeit:  5.4588235294117755\n",
      "Die Restladezeit des BEVS 39 endet vor dem nächsten Interval\n",
      "Ausgewähltes BEV das frei gewordenen Platz belegen darf:  42\n",
      "Ladestart für ausgewähltes BEV:  804.5411764705882\n",
      "OVERWRITE INITIAL CHARGING DATA\n",
      "9.5625 CHARGING POWER WIRD FÜR NEUES BEV 42 GESPEICHERT: \n",
      "ZEITPUNKT FÜR DAS ES GESPEICHERT WIRD:  804.5411764705882\n",
      "AVAILABLE SOLAR POWER:  38.25\n",
      "Restladeenergie bis zur fairen Ladeenergie for BEV mit ID 41:  1.7600000000000073\n",
      "Restladezeit:  11.043137254902007\n",
      "Die Restladezeit des BEVS 41 endet vor dem nächsten Interval\n",
      "Ausgewähltes BEV das frei gewordenen Platz belegen darf:  48\n",
      "Ladestart für ausgewähltes BEV:  798.956862745098\n",
      "OVERWRITE INITIAL CHARGING DATA\n",
      "9.5625 CHARGING POWER WIRD FÜR NEUES BEV 48 GESPEICHERT: \n",
      "ZEITPUNKT FÜR DAS ES GESPEICHERT WIRD:  798.956862745098\n",
      "Charging BEVs:  [30, 31, 39, 41]\n"
     ]
    },
    {
     "name": "stdout",
     "output_type": "stream",
     "text": [
      "\n",
      "\n",
      "Minute:  795\n",
      "Waiting BEVs (after updating new waiting BEVs):  [14, 21, 28, 37]\n",
      "Charging BEVs:  [30, 31, 42, 48]\n",
      "Waiting BEVs:  [14, 21, 28, 37]\n",
      "Ladezeit = 33.098585858586034 für ID BEV 30\n",
      "Ladezeit = 31.097777777777537 für ID BEV 31\n",
      "Ladezeit = 9.541176470588198 für ID BEV 42\n",
      "Ladezeit = 3.9568627450979648 für ID BEV 48\n",
      "Ladezeit = 33.098585858586034 für ID BEV 30\n",
      "Ladezeit = 31.097777777777537 für ID BEV 31\n",
      "Ladezeit = 9.541176470588198 für ID BEV 42\n",
      "Ladezeit = 3.9568627450979648 für ID BEV 48\n",
      "CALCULATE NUMBER OF CHARGING STATIONS\n",
      "Number of charging stations:  4\n",
      "CALCULATE NUMBER OF CHARGING STATIONS\n",
      "Number of charging stations:  4\n",
      "AVAILABLE SOLAR POWER:  36.75\n",
      "Restladeenergie bis zur fairen Ladeenergie for BEV mit ID 30:  2.5503901515150638\n",
      "Restladezeit:  16.65560915275144\n",
      "AVAILABLE SOLAR POWER:  36.75\n",
      "Restladeenergie bis zur fairen Ladeenergie for BEV mit ID 31:  2.649541666666786\n",
      "Restladezeit:  17.303129251701456\n",
      "AVAILABLE SOLAR POWER:  36.75\n",
      "Restladeenergie bis zur fairen Ladeenergie for BEV mit ID 42:  2.569375000000006\n",
      "Restladezeit:  16.779591836734735\n",
      "AVAILABLE SOLAR POWER:  36.75\n",
      "Restladeenergie bis zur fairen Ladeenergie for BEV mit ID 48:  1.9568750000000117\n",
      "Restladezeit:  12.77959183673477\n",
      "Die Restladezeit des BEVS 48 endet vor dem nächsten Interval\n",
      "Ausgewähltes BEV das frei gewordenen Platz belegen darf:  14\n",
      "Ladestart für ausgewähltes BEV:  782.2204081632652\n",
      "OVERWRITE INITIAL CHARGING DATA\n",
      "9.1875 CHARGING POWER WIRD FÜR NEUES BEV 14 GESPEICHERT: \n",
      "ZEITPUNKT FÜR DAS ES GESPEICHERT WIRD:  782.2204081632652\n",
      "Charging BEVs:  [30, 31, 42, 48]\n",
      "\n",
      "\n",
      "Minute:  780\n",
      "Waiting BEVs (after updating new waiting BEVs):  [21, 28, 37, 22, 46]\n",
      "Charging BEVs:  [30, 31, 42, 14]\n",
      "Waiting BEVs:  [21, 28, 37, 22, 46]\n",
      "Ladezeit = 48.098585858586034 für ID BEV 30\n",
      "Ladezeit = 46.09777777777754 für ID BEV 31\n",
      "Ladezeit = 24.541176470588198 für ID BEV 42\n",
      "Ladezeit = 2.2204081632652333 für ID BEV 14\n",
      "Ladezeit = 48.098585858586034 für ID BEV 30\n",
      "Ladezeit = 46.09777777777754 für ID BEV 31\n",
      "Ladezeit = 24.541176470588198 für ID BEV 42\n",
      "Ladezeit = 2.2204081632652333 für ID BEV 14\n",
      "CALCULATE NUMBER OF CHARGING STATIONS\n",
      "Number of charging stations:  4\n",
      "CALCULATE NUMBER OF CHARGING STATIONS\n",
      "Number of charging stations:  4\n",
      "AVAILABLE SOLAR POWER:  38.38\n",
      "Restladeenergie bis zur fairen Ladeenergie for BEV mit ID 30:  2.0759191919190774\n",
      "Restladezeit:  12.981256020338158\n",
      "Die Restladezeit des BEVS 30 endet vor dem nächsten Interval\n",
      "Ausgewähltes BEV das frei gewordenen Platz belegen darf:  21\n",
      "Ladestart für ausgewähltes BEV:  767.0187439796618\n",
      "OVERWRITE INITIAL CHARGING DATA\n",
      "9.595 CHARGING POWER WIRD FÜR NEUES BEV 21 GESPEICHERT: \n",
      "ZEITPUNKT FÜR DAS ES GESPEICHERT WIRD:  767.0187439796618\n",
      "AVAILABLE SOLAR POWER:  38.38\n",
      "Restladeenergie bis zur fairen Ladeenergie for BEV mit ID 31:  2.4814444444446004\n",
      "Restladezeit:  15.517109605698387\n",
      "AVAILABLE SOLAR POWER:  38.38\n",
      "Restladeenergie bis zur fairen Ladeenergie for BEV mit ID 42:  1.108382352941188\n",
      "Restladezeit:  6.93099960150821\n",
      "Die Restladezeit des BEVS 42 endet vor dem nächsten Interval\n",
      "Ausgewähltes BEV das frei gewordenen Platz belegen darf:  28\n",
      "Ladestart für ausgewähltes BEV:  773.0690003984918\n",
      "OVERWRITE INITIAL CHARGING DATA\n",
      "9.595 CHARGING POWER WIRD FÜR NEUES BEV 28 GESPEICHERT: \n",
      "ZEITPUNKT FÜR DAS ES GESPEICHERT WIRD:  773.0690003984918\n",
      "AVAILABLE SOLAR POWER:  38.38\n",
      "Restladeenergie bis zur fairen Ladeenergie for BEV mit ID 14:  3.190000000000011\n",
      "Restladezeit:  19.94788952579475\n",
      "Charging BEVs:  [30, 31, 42, 14]\n",
      "\n",
      "\n",
      "Minute:  765\n",
      "Waiting BEVs (after updating new waiting BEVs):  [37, 22, 46]\n",
      "Charging BEVs:  [31, 14, 21, 28]\n",
      "Waiting BEVs:  [37, 22, 46]\n",
      "Ladezeit = 61.09777777777754 für ID BEV 31\n",
      "Ladezeit = 17.220408163265233 für ID BEV 14\n",
      "Ladezeit = 2.018743979661849 für ID BEV 21\n",
      "Ladezeit = 8.069000398491767 für ID BEV 28\n",
      "Ladezeit = 61.09777777777754 für ID BEV 31\n",
      "Ladezeit = 17.220408163265233 für ID BEV 14\n",
      "Ladezeit = 2.018743979661849 für ID BEV 21\n",
      "Ladezeit = 8.069000398491767 für ID BEV 28\n",
      "CALCULATE NUMBER OF CHARGING STATIONS\n",
      "Number of charging stations:  4\n",
      "CALCULATE NUMBER OF CHARGING STATIONS\n",
      "Number of charging stations:  4\n",
      "AVAILABLE SOLAR POWER:  43.12\n",
      "Restladeenergie bis zur fairen Ladeenergie for BEV mit ID 31:  2.3058914814816758\n",
      "Restladezeit:  12.834275407133632\n",
      "Die Restladezeit des BEVS 31 endet vor dem nächsten Interval\n",
      "Ausgewähltes BEV das frei gewordenen Platz belegen darf:  37\n",
      "Ladestart für ausgewähltes BEV:  752.1657245928664\n",
      "OVERWRITE INITIAL CHARGING DATA\n",
      "10.78 CHARGING POWER WIRD FÜR NEUES BEV 37 GESPEICHERT: \n",
      "ZEITPUNKT FÜR DAS ES GESPEICHERT WIRD:  752.1657245928664\n",
      "AVAILABLE SOLAR POWER:  43.12\n",
      "Restladeenergie bis zur fairen Ladeenergie for BEV mit ID 14:  2.834919727891179\n",
      "Restladezeit:  15.778773995683743\n",
      "AVAILABLE SOLAR POWER:  43.12\n",
      "Restladeenergie bis zur fairen Ladeenergie for BEV mit ID 21:  8.069669191919076\n",
      "Restladezeit:  44.914670827007846\n",
      "AVAILABLE SOLAR POWER:  43.12\n",
      "Restladeenergie bis zur fairen Ladeenergie for BEV mit ID 28:  6.259632352941191\n",
      "Restladezeit:  34.84025428353168\n",
      "Charging BEVs:  [31, 14, 21, 28]\n",
      "\n",
      "\n",
      "Minute:  750\n",
      "Waiting BEVs (after updating new waiting BEVs):  [22, 46, 20]\n",
      "Charging BEVs:  [14, 21, 28, 37]\n",
      "Waiting BEVs:  [22, 46, 20]\n",
      "Ladezeit = 32.22040816326523 für ID BEV 14\n",
      "Ladezeit = 17.01874397966185 für ID BEV 21\n",
      "Ladezeit = 23.069000398491767 für ID BEV 28\n",
      "Ladezeit = 2.165724592866354 für ID BEV 37\n",
      "Ladezeit = 32.22040816326523 für ID BEV 14\n",
      "Ladezeit = 17.01874397966185 für ID BEV 21\n",
      "Ladezeit = 23.069000398491767 für ID BEV 28\n",
      "Ladezeit = 2.165724592866354 für ID BEV 37\n",
      "CALCULATE NUMBER OF CHARGING STATIONS\n",
      "Number of charging stations:  5\n",
      "CALCULATE NUMBER OF CHARGING STATIONS\n",
      "Number of charging stations:  5\n",
      "NUMBER OF FREE CHARGING STATIONS:  1\n",
      "OVERWRITE INITIAL CHARGING DATA\n",
      "CALCULATE NUMBER OF CHARGING STATIONS\n",
      "Number of charging stations:  5\n",
      "AVAILABLE SOLAR POWER:  47.88\n",
      "Restladeenergie bis zur fairen Ladeenergie for BEV mit ID 14:  2.435986394557859\n",
      "Restladezeit:  15.263072647605632\n",
      "AVAILABLE SOLAR POWER:  47.88\n",
      "Restladeenergie bis zur fairen Ladeenergie for BEV mit ID 21:  7.706968190239831\n",
      "Restladezeit:  48.289274374936284\n",
      "AVAILABLE SOLAR POWER:  47.88\n",
      "Restladeenergie bis zur fairen Ladeenergie for BEV mit ID 28:  4.80990194801217\n",
      "Restladezeit:  30.137230250702814\n",
      "AVAILABLE SOLAR POWER:  47.88\n",
      "Restladeenergie bis zur fairen Ladeenergie for BEV mit ID 37:  7.458391481481677\n",
      "Restladezeit:  46.731776199759885\n",
      "AVAILABLE SOLAR POWER:  47.88\n",
      "Restladeenergie bis zur fairen Ladeenergie for BEV mit ID 22:  6.784999999999999\n",
      "Restladezeit:  42.5125313283208\n",
      "Charging BEVs:  [14, 21, 28, 37, 22]\n",
      "\n",
      "\n",
      "Minute:  735\n",
      "Waiting BEVs (after updating new waiting BEVs):  [46, 20]\n",
      "Charging BEVs:  [14, 21, 28, 37, 22]\n",
      "Waiting BEVs:  [46, 20]\n",
      "Ladezeit = 47.22040816326523 für ID BEV 14\n",
      "Ladezeit = 32.01874397966185 für ID BEV 21\n",
      "Ladezeit = 38.06900039849177 für ID BEV 28\n",
      "Ladezeit = 17.165724592866354 für ID BEV 37\n",
      "Ladezeit = 15 für ID BEV 22\n",
      "Ladezeit = 47.22040816326523 für ID BEV 14\n",
      "Ladezeit = 32.01874397966185 für ID BEV 21\n",
      "Ladezeit = 38.06900039849177 für ID BEV 28\n",
      "Ladezeit = 17.165724592866354 für ID BEV 37\n",
      "Ladezeit = 15 für ID BEV 22\n",
      "CALCULATE NUMBER OF CHARGING STATIONS\n",
      "Number of charging stations:  5\n",
      "CALCULATE NUMBER OF CHARGING STATIONS\n",
      "Number of charging stations:  5\n",
      "AVAILABLE SOLAR POWER:  52.62\n",
      "Restladeenergie bis zur fairen Ladeenergie for BEV mit ID 14:  2.0816092517007276\n",
      "Restladezeit:  11.867783647096509\n",
      "Die Restladezeit des BEVS 14 endet vor dem nächsten Interval\n",
      "Ausgewähltes BEV das frei gewordenen Platz belegen darf:  46\n",
      "Ladestart für ausgewähltes BEV:  723.1322163529035\n",
      "OVERWRITE INITIAL CHARGING DATA\n",
      "10.524 CHARGING POWER WIRD FÜR NEUES BEV 46 GESPEICHERT: \n",
      "ZEITPUNKT FÜR DAS ES GESPEICHERT WIRD:  723.1322163529035\n",
      "AVAILABLE SOLAR POWER:  52.62\n",
      "Restladeenergie bis zur fairen Ladeenergie for BEV mit ID 21:  7.384776651085799\n",
      "Restladezeit:  42.10248945887001\n",
      "AVAILABLE SOLAR POWER:  52.62\n",
      "Restladeenergie bis zur fairen Ladeenergie for BEV mit ID 28:  3.5220894844128834\n",
      "Restladezeit:  20.08032773325475\n",
      "AVAILABLE SOLAR POWER:  52.62\n",
      "Restladeenergie bis zur fairen Ladeenergie for BEV mit ID 37:  7.1127418364602075\n",
      "Restladezeit:  40.55154980878112\n",
      "AVAILABLE SOLAR POWER:  52.62\n",
      "Restladeenergie bis zur fairen Ladeenergie for BEV mit ID 22:  4.390999999999999\n",
      "Restladezeit:  25.034207525655642\n",
      "Charging BEVs:  [14, 21, 28, 37, 22]\n",
      "\n",
      "\n",
      "Minute:  720\n",
      "Waiting BEVs (after updating new waiting BEVs):  [20, 9]\n",
      "Charging BEVs:  [21, 28, 37, 22, 46]\n",
      "Waiting BEVs:  [20, 9]\n",
      "Ladezeit = 47.01874397966185 für ID BEV 21\n",
      "Ladezeit = 53.06900039849177 für ID BEV 28\n",
      "Ladezeit = 32.165724592866354 für ID BEV 37\n",
      "Ladezeit = 30 für ID BEV 22\n",
      "Ladezeit = 3.1322163529034697 für ID BEV 46\n",
      "Ladezeit = 47.01874397966185 für ID BEV 21\n",
      "Ladezeit = 53.06900039849177 für ID BEV 28\n",
      "Ladezeit = 32.165724592866354 für ID BEV 37\n",
      "Ladezeit = 30 für ID BEV 22\n",
      "Ladezeit = 3.1322163529034697 für ID BEV 46\n",
      "CALCULATE NUMBER OF CHARGING STATIONS\n",
      "Number of charging stations:  5\n",
      "CALCULATE NUMBER OF CHARGING STATIONS\n",
      "Number of charging stations:  5\n"
     ]
    },
    {
     "name": "stdout",
     "output_type": "stream",
     "text": [
      "AVAILABLE SOLAR POWER:  54.38\n",
      "Restladeenergie bis zur fairen Ladeenergie for BEV mit ID 21:  7.030688957053111\n",
      "Restladezeit:  38.786441469583174\n",
      "AVAILABLE SOLAR POWER:  54.38\n",
      "Restladeenergie bis zur fairen Ladeenergie for BEV mit ID 28:  2.1067868145174273\n",
      "Restladezeit:  11.62258264720905\n",
      "Die Restladezeit des BEVS 28 endet vor dem nächsten Interval\n",
      "Ausgewähltes BEV das frei gewordenen Platz belegen darf:  20\n",
      "Ladestart für ausgewähltes BEV:  708.377417352791\n",
      "OVERWRITE INITIAL CHARGING DATA\n",
      "10.876000000000001 CHARGING POWER WIRD FÜR NEUES BEV 20 GESPEICHERT: \n",
      "ZEITPUNKT FÜR DAS ES GESPEICHERT WIRD:  708.377417352791\n",
      "AVAILABLE SOLAR POWER:  54.38\n",
      "Restladeenergie bis zur fairen Ladeenergie for BEV mit ID 37:  6.732873742871449\n",
      "Restladezeit:  37.14347412396901\n",
      "AVAILABLE SOLAR POWER:  54.38\n",
      "Restladeenergie bis zur fairen Ladeenergie for BEV mit ID 22:  1.759999999999999\n",
      "Restladezeit:  9.70945200441338\n",
      "Die Restladezeit des BEVS 22 endet vor dem nächsten Interval\n",
      "Ausgewähltes BEV das frei gewordenen Platz belegen darf:  9\n",
      "Ladestart für ausgewähltes BEV:  710.2905479955866\n",
      "OVERWRITE INITIAL CHARGING DATA\n",
      "10.876000000000001 CHARGING POWER WIRD FÜR NEUES BEV 9 GESPEICHERT: \n",
      "ZEITPUNKT FÜR DAS ES GESPEICHERT WIRD:  710.2905479955866\n",
      "AVAILABLE SOLAR POWER:  54.38\n",
      "Restladeenergie bis zur fairen Ladeenergie for BEV mit ID 46:  5.43810925170073\n",
      "Restladezeit:  30.000602712582175\n",
      "Charging BEVs:  [21, 28, 37, 22, 46]\n",
      "\n",
      "\n",
      "Minute:  705\n",
      "Waiting BEVs (after updating new waiting BEVs):  []\n",
      "Charging BEVs:  [21, 37, 46, 20, 9]\n",
      "Waiting BEVs:  []\n",
      "Ladezeit = 62.01874397966185 für ID BEV 21\n",
      "Ladezeit = 47.165724592866354 für ID BEV 37\n",
      "Ladezeit = 18.13221635290347 für ID BEV 46\n",
      "Ladezeit = 3.377417352790985 für ID BEV 20\n",
      "Ladezeit = 5.290547995586621 für ID BEV 9\n",
      "Ladezeit = 62.01874397966185 für ID BEV 21\n",
      "Ladezeit = 47.165724592866354 für ID BEV 37\n",
      "Ladezeit = 18.13221635290347 für ID BEV 46\n",
      "Ladezeit = 3.377417352790985 für ID BEV 20\n",
      "Ladezeit = 5.290547995586621 für ID BEV 9\n",
      "CALCULATE NUMBER OF CHARGING STATIONS\n",
      "Number of charging stations:  5\n",
      "CALCULATE NUMBER OF CHARGING STATIONS\n",
      "Number of charging stations:  5\n",
      "AVAILABLE SOLAR POWER:  53.12\n",
      "Restladeenergie bis zur fairen Ladeenergie for BEV mit ID 21:  6.664757965006407\n",
      "Restladezeit:  37.639822844539204\n",
      "AVAILABLE SOLAR POWER:  53.12\n",
      "Restladeenergie bis zur fairen Ladeenergie for BEV mit ID 37:  6.340300065004541\n",
      "Restladezeit:  35.807417535793725\n",
      "AVAILABLE SOLAR POWER:  53.12\n",
      "Restladeenergie bis zur fairen Ladeenergie for BEV mit ID 46:  4.870342834131095\n",
      "Restladezeit:  27.505701246975313\n",
      "AVAILABLE SOLAR POWER:  53.12\n",
      "Restladeenergie bis zur fairen Ladeenergie for BEV mit ID 20:  5.56528681451742\n",
      "Restladezeit:  31.430460172349896\n",
      "AVAILABLE SOLAR POWER:  53.12\n",
      "Restladeenergie bis zur fairen Ladeenergie for BEV mit ID 9:  4.525999999999998\n",
      "Restladezeit:  25.560993975903607\n",
      "Charging BEVs:  [21, 37, 46, 20, 9]\n",
      "\n",
      "\n",
      "Minute:  690\n",
      "Waiting BEVs (after updating new waiting BEVs):  []\n",
      "Charging BEVs:  [21, 37, 46, 20, 9]\n",
      "Waiting BEVs:  []\n",
      "Ladezeit = 77.01874397966185 für ID BEV 21\n",
      "Ladezeit = 62.165724592866354 für ID BEV 37\n",
      "Ladezeit = 33.13221635290347 für ID BEV 46\n",
      "Ladezeit = 18.377417352790985 für ID BEV 20\n",
      "Ladezeit = 20.29054799558662 für ID BEV 9\n",
      "Ladezeit = 77.01874397966185 für ID BEV 21\n",
      "Ladezeit = 62.165724592866354 für ID BEV 37\n",
      "Ladezeit = 33.13221635290347 für ID BEV 46\n",
      "Ladezeit = 18.377417352790985 für ID BEV 20\n",
      "Ladezeit = 20.29054799558662 für ID BEV 9\n",
      "CALCULATE NUMBER OF CHARGING STATIONS\n",
      "Number of charging stations:  5\n",
      "CALCULATE NUMBER OF CHARGING STATIONS\n",
      "Number of charging stations:  5\n",
      "AVAILABLE SOLAR POWER:  51.88\n",
      "Restladeenergie bis zur fairen Ladeenergie for BEV mit ID 21:  6.307305697674282\n",
      "Restladezeit:  36.47246933890294\n",
      "AVAILABLE SOLAR POWER:  51.88\n",
      "Restladeenergie bis zur fairen Ladeenergie for BEV mit ID 37:  5.956822430427672\n",
      "Restladezeit:  34.4457734990035\n",
      "AVAILABLE SOLAR POWER:  51.88\n",
      "Restladeenergie bis zur fairen Ladeenergie for BEV mit ID 46:  4.315731725243654\n",
      "Restladezeit:  24.956043129782117\n",
      "AVAILABLE SOLAR POWER:  51.88\n",
      "Restladeenergie bis zur fairen Ladeenergie for BEV mit ID 20:  4.967258781916563\n",
      "Restladezeit:  28.723547312547584\n",
      "AVAILABLE SOLAR POWER:  51.88\n",
      "Restladeenergie bis zur fairen Ladeenergie for BEV mit ID 9:  3.5892203015814603\n",
      "Restladezeit:  20.754936208065498\n",
      "Charging BEVs:  [21, 37, 46, 20, 9]\n",
      "\n",
      "\n",
      "Minute:  675\n",
      "Waiting BEVs (after updating new waiting BEVs):  []\n",
      "Charging BEVs:  [21, 37, 46, 20, 9]\n",
      "Waiting BEVs:  []\n",
      "Ladezeit = 92.01874397966185 für ID BEV 21\n",
      "Ladezeit = 77.16572459286635 für ID BEV 37\n",
      "Ladezeit = 48.13221635290347 für ID BEV 46\n",
      "Ladezeit = 33.377417352790985 für ID BEV 20\n",
      "Ladezeit = 35.29054799558662 für ID BEV 9\n",
      "Ladezeit = 92.01874397966185 für ID BEV 21\n",
      "Ladezeit = 77.16572459286635 für ID BEV 37\n",
      "Ladezeit = 48.13221635290347 für ID BEV 46\n",
      "Ladezeit = 33.377417352790985 für ID BEV 20\n",
      "Ladezeit = 35.29054799558662 für ID BEV 9\n",
      "CALCULATE NUMBER OF CHARGING STATIONS\n",
      "Number of charging stations:  5\n",
      "CALCULATE NUMBER OF CHARGING STATIONS\n",
      "Number of charging stations:  5\n",
      "AVAILABLE SOLAR POWER:  50.62\n",
      "Restladeenergie bis zur fairen Ladeenergie for BEV mit ID 21:  5.958197572124759\n",
      "Restladezeit:  35.311325002714895\n",
      "AVAILABLE SOLAR POWER:  50.62\n",
      "Restladeenergie bis zur fairen Ladeenergie for BEV mit ID 37:  5.582296457501316\n",
      "Restladezeit:  33.0835428141129\n",
      "AVAILABLE SOLAR POWER:  50.62\n",
      "Restladeenergie bis zur fairen Ladeenergie for BEV mit ID 46:  3.7740671106148804\n",
      "Restladezeit:  22.367051228456425\n",
      "AVAILABLE SOLAR POWER:  50.62\n",
      "Restladeenergie bis zur fairen Ladeenergie for BEV mit ID 20:  4.3831907410405755\n",
      "Restladezeit:  25.977029283132612\n",
      "AVAILABLE SOLAR POWER:  50.62\n",
      "Restladeenergie bis zur fairen Ladeenergie for BEV mit ID 9:  2.6743082015446804\n",
      "Restladezeit:  15.849317670158126\n",
      "Charging BEVs:  [21, 37, 46, 20, 9]\n",
      "\n",
      "\n",
      "Minute:  660\n",
      "Waiting BEVs (after updating new waiting BEVs):  []\n",
      "Charging BEVs:  [21, 37, 46, 20, 9]\n",
      "Waiting BEVs:  []\n",
      "Ladezeit = 107.01874397966185 für ID BEV 21\n",
      "Ladezeit = 92.16572459286635 für ID BEV 37\n",
      "Ladezeit = 63.13221635290347 für ID BEV 46\n",
      "Ladezeit = 48.377417352790985 für ID BEV 20\n",
      "Ladezeit = 50.29054799558662 für ID BEV 9\n",
      "Ladezeit = 107.01874397966185 für ID BEV 21\n",
      "Ladezeit = 92.16572459286635 für ID BEV 37\n",
      "Ladezeit = 63.13221635290347 für ID BEV 46\n",
      "Ladezeit = 48.377417352790985 für ID BEV 20\n",
      "Ladezeit = 50.29054799558662 für ID BEV 9\n",
      "CALCULATE NUMBER OF CHARGING STATIONS\n",
      "Number of charging stations:  5\n",
      "CALCULATE NUMBER OF CHARGING STATIONS\n",
      "Number of charging stations:  5\n",
      "AVAILABLE SOLAR POWER:  50.12\n",
      "Restladeenergie bis zur fairen Ladeenergie for BEV mit ID 21:  5.6175681712898164\n",
      "Restladezeit:  33.62470972440035\n",
      "AVAILABLE SOLAR POWER:  50.12\n",
      "Restladeenergie bis zur fairen Ladeenergie for BEV mit ID 37:  5.216866527865001\n",
      "Restladezeit:  31.22625615242419\n",
      "AVAILABLE SOLAR POWER:  50.12\n",
      "Restladeenergie bis zur fairen Ladeenergie for BEV mit ID 46:  3.2455578046683016\n",
      "Restladezeit:  19.426722693545305\n",
      "AVAILABLE SOLAR POWER:  50.12\n",
      "Restladeenergie bis zur fairen Ladeenergie for BEV mit ID 20:  3.8133078530463096\n",
      "Restladezeit:  22.82506695757967\n",
      "AVAILABLE SOLAR POWER:  50.12\n",
      "Restladeenergie bis zur fairen Ladeenergie for BEV mit ID 9:  1.7816164030893646\n",
      "Restladezeit:  10.664104567574011\n",
      "Die Restladezeit des BEVS 9 endet vor dem nächsten Interval\n",
      "Charging BEVs:  [21, 37, 46, 20, 9]\n",
      "\n",
      "\n",
      "Minute:  645\n",
      "Waiting BEVs (after updating new waiting BEVs):  []\n",
      "Charging BEVs:  [21, 37, 46, 20]\n",
      "Waiting BEVs:  []\n",
      "Ladezeit = 122.01874397966185 für ID BEV 21\n",
      "Ladezeit = 107.16572459286635 für ID BEV 37\n",
      "Ladezeit = 78.13221635290347 für ID BEV 46\n",
      "Ladezeit = 63.377417352790985 für ID BEV 20\n",
      "Ladezeit = 122.01874397966185 für ID BEV 21\n",
      "Ladezeit = 107.16572459286635 für ID BEV 37\n",
      "Ladezeit = 78.13221635290347 für ID BEV 46\n",
      "Ladezeit = 63.377417352790985 für ID BEV 20\n",
      "CALCULATE NUMBER OF CHARGING STATIONS\n",
      "Number of charging stations:  5\n",
      "CALCULATE NUMBER OF CHARGING STATIONS\n",
      "Number of charging stations:  5\n",
      "NUMBER OF FREE CHARGING STATIONS:  1\n",
      "CALCULATE NUMBER OF CHARGING STATIONS\n",
      "Number of charging stations:  5\n",
      "CALCULATE NUMBER OF CHARGING STATIONS\n",
      "Number of charging stations:  5\n",
      "AVAILABLE SOLAR POWER:  50.38\n",
      "Restladeenergie bis zur fairen Ladeenergie for BEV mit ID 21:  4.923980063136437\n",
      "Restladezeit:  23.456832376989773\n",
      "AVAILABLE SOLAR POWER:  50.38\n",
      "Restladeenergie bis zur fairen Ladeenergie for BEV mit ID 37:  4.4987228585989225\n",
      "Restladezeit:  21.430994165616145\n",
      "AVAILABLE SOLAR POWER:  50.38\n",
      "Restladeenergie bis zur fairen Ladeenergie for BEV mit ID 46:  2.3659455786920223\n",
      "Restladezeit:  11.270880089044963\n",
      "Die Restladezeit des BEVS 46 endet vor dem nächsten Interval\n"
     ]
    },
    {
     "name": "stdout",
     "output_type": "stream",
     "text": [
      "AVAILABLE SOLAR POWER:  50.38\n",
      "Restladeenergie bis zur fairen Ladeenergie for BEV mit ID 20:  2.3012443186824836\n",
      "Restladezeit:  10.962656539972134\n",
      "Die Restladezeit des BEVS 20 endet vor dem nächsten Interval\n",
      "Charging BEVs:  [21, 37, 46, 20]\n",
      "\n",
      "\n",
      "Minute:  630\n",
      "Waiting BEVs (after updating new waiting BEVs):  []\n",
      "Charging BEVs:  [21, 37]\n",
      "Waiting BEVs:  []\n",
      "Ladezeit = 137.01874397966185 für ID BEV 21\n",
      "Ladezeit = 122.16572459286635 für ID BEV 37\n",
      "Ladezeit = 137.01874397966185 für ID BEV 21\n",
      "Ladezeit = 122.16572459286635 für ID BEV 37\n",
      "CALCULATE NUMBER OF CHARGING STATIONS\n",
      "Number of charging stations:  5\n",
      "CALCULATE NUMBER OF CHARGING STATIONS\n",
      "Number of charging stations:  5\n",
      "NUMBER OF FREE CHARGING STATIONS:  3\n",
      "CALCULATE NUMBER OF CHARGING STATIONS\n",
      "Number of charging stations:  5\n",
      "CALCULATE NUMBER OF CHARGING STATIONS\n",
      "Number of charging stations:  5\n",
      "AVAILABLE SOLAR POWER:  50.62\n",
      "Restladeenergie bis zur fairen Ladeenergie for BEV mit ID 21:  3.3334145817287935\n",
      "Restladezeit:  7.902207621640759\n",
      "Die Restladezeit des BEVS 21 endet vor dem nächsten Interval\n",
      "AVAILABLE SOLAR POWER:  50.62\n",
      "Restladeenergie bis zur fairen Ladeenergie for BEV mit ID 37:  1.210596405938369\n",
      "Restladezeit:  2.8698452926235536\n",
      "Die Restladezeit des BEVS 37 endet vor dem nächsten Interval\n",
      "Charging BEVs:  [21, 37]\n",
      "\n",
      "\n",
      "Minute:  615\n",
      "Waiting BEVs (after updating new waiting BEVs):  []\n",
      "Charging BEVs:  []\n",
      "Waiting BEVs:  []\n",
      "CALCULATE NUMBER OF CHARGING STATIONS\n",
      "Number of charging stations:  5\n",
      "CALCULATE NUMBER OF CHARGING STATIONS\n",
      "Number of charging stations:  5\n",
      "NUMBER OF FREE CHARGING STATIONS:  5\n",
      "CALCULATE NUMBER OF CHARGING STATIONS\n",
      "Number of charging stations:  5\n",
      "CALCULATE NUMBER OF CHARGING STATIONS\n",
      "Number of charging stations:  5\n",
      "Charging BEVs:  []\n",
      "\n",
      "\n",
      "Minute:  600\n",
      "Waiting BEVs (after updating new waiting BEVs):  []\n",
      "Charging BEVs:  []\n",
      "Waiting BEVs:  []\n",
      "CALCULATE NUMBER OF CHARGING STATIONS\n",
      "Number of charging stations:  5\n",
      "CALCULATE NUMBER OF CHARGING STATIONS\n",
      "Number of charging stations:  5\n",
      "NUMBER OF FREE CHARGING STATIONS:  5\n",
      "CALCULATE NUMBER OF CHARGING STATIONS\n",
      "Number of charging stations:  5\n",
      "CALCULATE NUMBER OF CHARGING STATIONS\n",
      "Number of charging stations:  5\n",
      "Charging BEVs:  []\n",
      "\n",
      "\n",
      "Minute:  585\n",
      "Waiting BEVs (after updating new waiting BEVs):  []\n",
      "Charging BEVs:  []\n",
      "Waiting BEVs:  []\n",
      "CALCULATE NUMBER OF CHARGING STATIONS\n",
      "Number of charging stations:  4\n",
      "CALCULATE NUMBER OF CHARGING STATIONS\n",
      "Number of charging stations:  4\n",
      "NUMBER OF FREE CHARGING STATIONS:  4\n",
      "CALCULATE NUMBER OF CHARGING STATIONS\n",
      "Number of charging stations:  4\n",
      "CALCULATE NUMBER OF CHARGING STATIONS\n",
      "Number of charging stations:  4\n",
      "Charging BEVs:  []\n",
      "\n",
      "\n",
      "Minute:  570\n",
      "Waiting BEVs (after updating new waiting BEVs):  []\n",
      "Charging BEVs:  []\n",
      "Waiting BEVs:  []\n",
      "CALCULATE NUMBER OF CHARGING STATIONS\n",
      "Number of charging stations:  3\n",
      "CALCULATE NUMBER OF CHARGING STATIONS\n",
      "Number of charging stations:  3\n",
      "NUMBER OF FREE CHARGING STATIONS:  3\n",
      "CALCULATE NUMBER OF CHARGING STATIONS\n",
      "Number of charging stations:  3\n",
      "CALCULATE NUMBER OF CHARGING STATIONS\n",
      "Number of charging stations:  3\n",
      "Charging BEVs:  []\n",
      "\n",
      "\n",
      "Minute:  555\n",
      "Waiting BEVs (after updating new waiting BEVs):  []\n",
      "Charging BEVs:  []\n",
      "Waiting BEVs:  []\n",
      "CALCULATE NUMBER OF CHARGING STATIONS\n",
      "Number of charging stations:  3\n",
      "CALCULATE NUMBER OF CHARGING STATIONS\n",
      "Number of charging stations:  3\n",
      "NUMBER OF FREE CHARGING STATIONS:  3\n",
      "CALCULATE NUMBER OF CHARGING STATIONS\n",
      "Number of charging stations:  3\n",
      "CALCULATE NUMBER OF CHARGING STATIONS\n",
      "Number of charging stations:  3\n",
      "Charging BEVs:  []\n",
      "\n",
      "\n",
      "Minute:  540\n",
      "Waiting BEVs (after updating new waiting BEVs):  []\n",
      "Charging BEVs:  []\n",
      "Waiting BEVs:  []\n",
      "CALCULATE NUMBER OF CHARGING STATIONS\n",
      "Number of charging stations:  2\n",
      "CALCULATE NUMBER OF CHARGING STATIONS\n",
      "Number of charging stations:  2\n",
      "NUMBER OF FREE CHARGING STATIONS:  2\n",
      "CALCULATE NUMBER OF CHARGING STATIONS\n",
      "Number of charging stations:  2\n",
      "CALCULATE NUMBER OF CHARGING STATIONS\n",
      "Number of charging stations:  2\n",
      "Charging BEVs:  []\n",
      "\n",
      "\n",
      "Minute:  525\n",
      "Waiting BEVs (after updating new waiting BEVs):  []\n",
      "Charging BEVs:  []\n",
      "Waiting BEVs:  []\n",
      "CALCULATE NUMBER OF CHARGING STATIONS\n",
      "Number of charging stations:  2\n",
      "CALCULATE NUMBER OF CHARGING STATIONS\n",
      "Number of charging stations:  2\n",
      "NUMBER OF FREE CHARGING STATIONS:  2\n",
      "CALCULATE NUMBER OF CHARGING STATIONS\n",
      "Number of charging stations:  2\n",
      "CALCULATE NUMBER OF CHARGING STATIONS\n",
      "Number of charging stations:  2\n",
      "Charging BEVs:  []\n",
      "\n",
      "\n",
      "Minute:  510\n",
      "Waiting BEVs (after updating new waiting BEVs):  []\n",
      "Charging BEVs:  []\n",
      "Waiting BEVs:  []\n",
      "CALCULATE NUMBER OF CHARGING STATIONS\n",
      "Number of charging stations:  1\n",
      "CALCULATE NUMBER OF CHARGING STATIONS\n",
      "Number of charging stations:  1\n",
      "NUMBER OF FREE CHARGING STATIONS:  1\n",
      "CALCULATE NUMBER OF CHARGING STATIONS\n",
      "Number of charging stations:  1\n",
      "CALCULATE NUMBER OF CHARGING STATIONS\n",
      "Number of charging stations:  1\n",
      "Charging BEVs:  []\n",
      "\n",
      "\n",
      "Minute:  495\n",
      "Waiting BEVs (after updating new waiting BEVs):  []\n",
      "Charging BEVs:  []\n",
      "Waiting BEVs:  []\n",
      "CALCULATE NUMBER OF CHARGING STATIONS\n",
      "Number of charging stations:  1\n",
      "CALCULATE NUMBER OF CHARGING STATIONS\n",
      "Number of charging stations:  1\n",
      "NUMBER OF FREE CHARGING STATIONS:  1\n",
      "CALCULATE NUMBER OF CHARGING STATIONS\n",
      "Number of charging stations:  1\n",
      "CALCULATE NUMBER OF CHARGING STATIONS\n",
      "Number of charging stations:  1\n",
      "Charging BEVs:  []\n",
      "\n",
      "\n",
      "Minute:  480\n",
      "Waiting BEVs (after updating new waiting BEVs):  []\n",
      "Charging BEVs:  []\n",
      "Waiting BEVs:  []\n",
      "CALCULATE NUMBER OF CHARGING STATIONS\n",
      "Number of charging stations:  0\n",
      "CALCULATE NUMBER OF CHARGING STATIONS\n",
      "Number of charging stations:  0\n",
      "Charging BEVs:  []\n",
      "OPTIMIZATION DONE\n",
      "BEVs dict:  {0: [(8.5, 5.8), 'nicht parkend', [], [8.3925]], 1: [(8.5, 6.2), 'nicht parkend', [], [8.6175]], 2: [(8.5, 4.1), 'nicht parkend', [], [6.494999999999999]], 3: [(8.5, 6.1), 'nicht parkend', [], [8.6175]], 4: [(12.0, 4.0), 'wartend', [(960, 30.10259917920655, 4.09)], [4.09]], 5: [(8.5, 7.5), 'wartend', [(945, 68.41666666666663, 9.3725)], [9.3725]], 6: [(9.0, 4.4), 'nicht parkend', [], [6.987499999999999]], 7: [(13.0, 3.0), 'wartend', [(929.8974008207935, 20.389106981930922, 2.5874999999999995)], [2.5875]], 8: [(12.5, 3.5), 'wartend', [(909.5082938388625, 20.122579553148285, 3.1949999999999994)], [3.195]], 9: [(8.0, 4.0), 'wartend', [(710.2905479955866, 60.95465256316061, 5.841323280617872)], [5.484999999999999]], 10: [(13.0, 3.0), 'wartend', [(889.3857142857142, 16.519047619047683, 2.5875)], [2.5875]], 11: [(13.0, 3.0), 'wartend', [(885, 16.840909090909122, 2.5875)], [2.5875]], 12: [(8.0, 4.9), 'nicht parkend', [], [6.987499999999999]], 13: [(12.0, 4.0), 'wartend', [(876.5833333333334, 33.24829059829051, 4.09)], [4.09]], 14: [(12.0, 3.0), 'wartend', [(782.2204081632652, 59.088191810361764, 3.53)], [3.53]], 15: [(12.5, 3.5), 'wartend', [(872.8666666666666, 31.64786324786337, 3.195)], [3.195]], 16: [(8.0, 5.1), 'nicht parkend', [], [7.229999999999999]], 17: [(12.5, 3.5), 'wartend', [(868.1590909090909, 17.974475524475565, 3.195)], [3.195]], 18: [(8.0, 5.9), 'nicht parkend', [], [8.049999999999999]], 19: [(13.0, 3.0), 'wartend', [(855, 15.872727272727275, 2.5875)], [2.5875]], 20: [(8.5, 4.0), 'wartend', [(708.377417352791, 74.34007389276314, 6.75281107967062)], [6.177499999999999]], 21: [(8.5, 6.0), 'wartend', [(767.0187439796618, 144.9209516013026, 10.66450549383358)], [8.3925]], 22: [(8.5, 4.5), 'wartend', [(750, 39.70945200441338, 6.784999999999999)], [6.784999999999999]], 23: [(13.0, 3.0), 'wartend', [(843.3350427350429, 15.236456876456828, 2.5875)], [2.5875]], 24: [(13.0, 3.0), 'wartend', [(841.2188034188032, 15.121025641025653, 2.5875)], [2.5875]], 25: [(8.0, 3.9), 'nicht parkend', [], [5.484999999999999]], 26: [(8.5, 3.7), 'nicht parkend', [], [5.734999999999999]], 27: [(13.5, 2.5), 'wartend', [(850.1846153846153, 12.700979020979048, 2.0875000000000004)], [2.0875000000000004]], 28: [(9.0, 5.0), 'wartend', [(773.0690003984918, 64.69158304570078, 7.549999999999999)], [7.549999999999999]], 29: [(12.5, 3.5), 'wartend', [(839.1272727272727, 18.75746140651802, 3.195)], [3.195]], 30: [(12.0, 4.0), 'wartend', [(828.098585858586, 61.079841878924185, 4.09)], [4.09]], 31: [(12.5, 3.5), 'wartend', [(826.0977777777775, 73.93205318491118, 3.1949999999999994)], [3.195]], 32: [(9.0, 5.4), 'nicht parkend', [], [8.094999999999999]], 33: [(8.5, 4.9), 'nicht parkend', [], [7.284999999999999]], 34: [(12.5, 3.1), 'nicht parkend', [], [3.0799999999999996]], 35: [(8.5, 3.1), 'nicht parkend', [], [4.76]], 36: [(8.0, 7.8), 'nicht parkend', [], [9.575]], 37: [(8.5, 5.5), 'wartend', [(752.1657245928664, 125.03556988548996, 8.452798202969184)], [7.847499999999999]], 38: [(12.5, 3.5), 'wartend', [(837.4836363636363, 18.819485420240085, 3.195)], [3.195]], 39: [(13.0, 3.0), 'wartend', [(820.3698113207547, 15.828634850166509, 2.5875)], [2.5875]], 40: [(8.0, 4.1), 'nicht parkend', [], [5.937499999999999]], 41: [(12.5, 3.5), 'wartend', [(818.6641509433962, 19.707288198298215, 3.195)], [3.195]], 42: [(12.0, 4.0), 'wartend', [(804.5411764705882, 31.47217607209643, 4.09)], [4.09]], 43: [(8.5, 6.7), 'nicht parkend', [], [8.975]], 44: [(9.0, 6.2), 'nicht parkend', [], [8.677499999999998]], 45: [(8.5, 7.1), 'nicht parkend', [], [9.2575]], 46: [(9.5, 3.5), 'wartend', [(723.1322163529035, 89.40309644194838, 7.154297474343625)], [5.987499999999999]], 47: [(8.0, 6.6), 'nicht parkend', [], [8.819999999999999]], 48: [(13.0, 3.0), 'wartend', [(798.956862745098, 16.73645458183273, 2.5875)], [2.5875]], 49: [(8.5, 3.1), 'nicht parkend', [], [4.76]]}\n"
     ]
    }
   ],
   "source": [
    "import postOptimization\n",
    "\n",
    "postOptimization.start_post_optimization(minute_interval, simulation_day, solarpeakleistung, bev_data, table_dict, simulation_data,\n",
    "                            ladeleistung_pro_bev)"
   ]
  }
 ],
 "metadata": {
  "kernelspec": {
   "display_name": "Python 3 (ipykernel)",
   "language": "python",
   "name": "python3"
  },
  "language_info": {
   "codemirror_mode": {
    "name": "ipython",
    "version": 3
   },
   "file_extension": ".py",
   "mimetype": "text/x-python",
   "name": "python",
   "nbconvert_exporter": "python",
   "pygments_lexer": "ipython3",
   "version": "3.9.5"
  }
 },
 "nbformat": 4,
 "nbformat_minor": 4
}