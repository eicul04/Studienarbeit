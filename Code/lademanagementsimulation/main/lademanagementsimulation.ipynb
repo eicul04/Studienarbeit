{
 "cells": [
  {
   "cell_type": "markdown",
   "metadata": {
    "pycharm": {
     "name": "#%% md\n"
    }
   },
   "source": [
    "# Lademanagementsimulation   \n"
   ]
  },
  {
   "cell_type": "markdown",
   "metadata": {},
   "source": [
    "### Simulations Eingangsdaten"
   ]
  },
  {
   "cell_type": "code",
   "execution_count": 5,
   "metadata": {
    "pycharm": {
     "is_executing": true,
     "name": "#%%\n"
    }
   },
   "outputs": [
    {
     "data": {
      "text/html": [
       "\n",
       "        <iframe\n",
       "            width=\"100%\"\n",
       "            height=\"650\"\n",
       "            src=\"http://127.0.0.1:8050/\"\n",
       "            frameborder=\"0\"\n",
       "            allowfullscreen\n",
       "            \n",
       "        ></iframe>\n",
       "        "
      ],
      "text/plain": [
       "<IPython.lib.display.IFrame at 0x2b3a9e7ce50>"
      ]
     },
     "metadata": {},
     "output_type": "display_data"
    }
   ],
   "source": [
    "import simulationInputDataVisualisation\n",
    "simulationInputDataVisualisation.create_jupyter_dash_app(solarpeakleistung)"
   ]
  },
  {
   "cell_type": "markdown",
   "metadata": {
    "pycharm": {
     "is_executing": true
    }
   },
   "source": [
    "#### Quadratische Interpolation der verfügbaren Solarleistung"
   ]
  },
  {
   "cell_type": "code",
   "execution_count": 6,
   "metadata": {
    "pycharm": {
     "is_executing": true
    },
    "scrolled": false
   },
   "outputs": [
    {
     "data": {
      "image/png": "[encoded data removed]",
      "text/plain": [
       "<Figure size 612x288 with 1 Axes>"
      ]
     },
     "metadata": {
      "needs_background": "light"
     },
     "output_type": "display_data"
    }
   ],
   "source": [
    "import figureGeneration\n",
    "\n",
    "figureGeneration.create_available_solar_power_figure_quadratic_interpolation(solarpeakleistung)"
   ]
  },
  {
   "cell_type": "markdown",
   "metadata": {},
   "source": [
    "### Simulations Eingabeparameter"
   ]
  },
  {
   "cell_type": "code",
   "execution_count": 1,
   "metadata": {
    "pycharm": {
     "name": "#%%\n"
    }
   },
   "outputs": [],
   "source": [
    "solarpeakleistung = 150 #Einheit Kilowattpeak (kWP)\n",
    "anzahl_bevs_pro_tag = 100\n",
    "ladeleistung_pro_bev = 11 #Einheit kW\n",
    "maximale_ladezeit = 30 #Einheit Minuten"
   ]
  },
  {
   "cell_type": "markdown",
   "metadata": {},
   "source": [
    "### Verteilungsalgorithmus Polling - FIFO\n",
    "- der Algorithmus weist den BEVs jeweils ein Zustand zu, die Zustände sind wartend (BEV parkt und will laden), ladend (BEV wird mit Solarenergie geladen), nicht parkend (BEV befindet sich nicht im Lademanagmentsystem)\n",
    "- pro BEV Ladeleistung von z.B. 2kW (ladeleistung_pro_bev), wenn verfügbarer Solarstrom > Ladeleistung, dann wird der Solarstrom auf mehrere BEVs verteilt\n",
    "- aktuell wartende Verbraucher werden in einer Warteliste (Pollingliste) abgearbeitet, nach einem variablen Zeitintervall (maximale_ladezeit, z.B. 30min) wird Verbraucher wieder hinten an die Warteliste angefügt. \n",
    "- dabei wird immer das erste BEV der Warteliste auf die Ladeliste genommen, unabhängig von der Länge der Parkzeit\n",
    "- Wenn im Tagesverlauf die Anzahl bereits ladender BEVs größer wird als die Anzahl möglich ladender BEVs, wird das erste BEV der Ladeliste wieder nach hinten an die Warteliste gesetzt"
   ]
  },
  {
   "cell_type": "markdown",
   "metadata": {},
   "source": [
    "### Verteilungsalgorithmus Polling - mit gleichmäßiger Verteilung\n",
    "- wie FIFO Abarbeitung der BEVs auf der Warteliste\n",
    "- allerdings werden BEVs nach dem sie einmal aufgeladen wurden auf eine neue Warteliste gesetzt mit geringerer Priorität => so soll gewährleistet werden, dass erstmal alle BEVs einmal aufgeladen werden, bevor BEVs mehrmals geladen werden "
   ]
  },
  {
   "cell_type": "markdown",
   "metadata": {},
   "source": [
    "### Prognose (Berücksichtigung der Parkdauer - Optimale Ausnutzung)\n",
    "- Ziel ist das möglichst alle gleich viel bekommen und der Solarstrom optimal ausgenutzt wird ⇒ nichts geht verloren\n",
    "- Berechnung des Ladeintervalls:\n",
    "    - Wann sind während des angegebenen Parkintervalls am wenigsten andere BEVs am Warten? (Minimum Anzahl wartender BEVs in Parkintevall)\n",
    "    - Ladestart: sobald Minimum Anzahl wartender BEVs in Parkintevall erreicht wird\n",
    "    - Ladeende: nach fester Zeit oder nachdem Anzahl wartender BEVs nicht mehr Minimum Anzahl wartender BEVs entspricht\n",
    "- Solarleistung wird zu jedem Zeitpunkt gleichmäßig unter ladenden BEVs verteilt, also Ladeleistung = Verfügbare Solarleistung / Ladende BEVs"
   ]
  },
  {
   "cell_type": "markdown",
   "metadata": {},
   "source": [
    "### Prognose (Berücksichtigung der Parkdauer - Belohnung)\n",
    "- Ziel: länger parkende BEVs sollen belohnt werden und mehr Solarenergie garantiert bekommen\n",
    "- Möglichkeiten: mehr Solarenergie oder längeres Ladeintervall"
   ]
  },
  {
   "cell_type": "code",
   "execution_count": 2,
   "metadata": {},
   "outputs": [],
   "source": [
    "import distributionAlgorithmPolling\n",
    "import simulationManagement\n",
    "import simulationData\n",
    "import simulationOutputDataVisualisation\n",
    "\n",
    "bev_parking_management = simulationManagement.BevParkingManagement(anzahl_bevs_pro_tag)\n",
    "bev_data = simulationData.BevData()\n",
    "table_dict = simulationData.TableDict()\n",
    "simulation_data = simulationData.SimulationData()\n",
    "\n",
    "# Auswahl des Algorithmus\n",
    "# algorithm = distributionAlgorithmPolling.Algorithm.POLLING_FIFO\n",
    "algorithm = distributionAlgorithmPolling.Algorithm.POLLING_EVEN_DISTRIBUTION\n",
    "distributionAlgorithmPolling.start_simulation(solarpeakleistung, maximale_ladezeit, ladeleistung_pro_bev, bev_parking_management, bev_data, table_dict, simulation_data, algorithm)"
   ]
  },
  {
   "cell_type": "markdown",
   "metadata": {},
   "source": [
    "### Ergebnis Algorithmus"
   ]
  },
  {
   "cell_type": "code",
   "execution_count": 3,
   "metadata": {
    "pycharm": {
     "is_executing": true
    }
   },
   "outputs": [
    {
     "data": {
      "text/markdown": [
       ">**Ergebnis**<br>Geladene BEVs: 85 von 100<br>Unterbrochene Aufladevorgänge 5<br>Aufgeladene Solarenergie insgesamt: 392.65 kWh<br>Ungenutzte Solarenergie insgesamt: 0 kWh"
      ],
      "text/plain": [
       "<IPython.core.display.Markdown object>"
      ]
     },
     "execution_count": 3,
     "metadata": {},
     "output_type": "execute_result"
    }
   ],
   "source": [
    "simulationOutputDataVisualisation.print_algorithm_result(bev_data, simulation_data, anzahl_bevs_pro_tag)"
   ]
  },
  {
   "cell_type": "markdown",
   "metadata": {},
   "source": [
    "### Tabellarische Übersicht Park- und Ladeverlauf der BEVs"
   ]
  },
  {
   "cell_type": "code",
   "execution_count": 4,
   "metadata": {
    "pycharm": {
     "is_executing": true
    }
   },
   "outputs": [
    {
     "data": {
      "application/vnd.jupyter.widget-view+json": {
       "model_id": "cb06ace4496749778d6ea59cb5d9238e",
       "version_major": 2,
       "version_minor": 0
      },
      "text/plain": [
       "interactive(children=(IntSlider(value=480, description='Minute: ', max=960, min=480), Output()), _dom_classes=…"
      ]
     },
     "metadata": {},
     "output_type": "display_data"
    }
   ],
   "source": [
    "simulationOutputDataVisualisation.create_tabular_overview_per_minute_slider(table_dict)"
   ]
  },
  {
   "cell_type": "code",
   "execution_count": 7,
   "metadata": {
    "pycharm": {
     "is_executing": true
    }
   },
   "outputs": [
    {
     "data": {
      "application/vnd.plotly.v1+json": {
       "config": {
        "plotlyServerURL": "https://plot.ly"
       },
       "data": [],
       "layout": {
        "shapes": [
         {
          "line": {
           "color": "green"
          },
          "type": "rect",
          "x0": 600,
          "x1": 630,
          "xref": "x",
          "y0": 0,
          "y1": 4.972,
          "yref": "y"
         },
         {
          "line": {
           "color": "green"
          },
          "type": "rect",
          "x0": 600,
          "x1": 630,
          "xref": "x",
          "y0": 0,
          "y1": 4.972,
          "yref": "y"
         },
         {
          "line": {
           "color": "green"
          },
          "type": "rect",
          "x0": 601,
          "x1": 631,
          "xref": "x",
          "y0": 0,
          "y1": 4.956,
          "yref": "y"
         },
         {
          "line": {
           "color": "green"
          },
          "type": "rect",
          "x0": 480,
          "x1": 510,
          "xref": "x",
          "y0": 0,
          "y1": 2.732,
          "yref": "y"
         },
         {
          "line": {
           "color": "green"
          },
          "type": "rect",
          "x0": 871,
          "x1": 901,
          "xref": "x",
          "y0": 0,
          "y1": 4.725,
          "yref": "y"
         },
         {
          "line": {
           "color": "green"
          },
          "type": "rect",
          "x0": 609,
          "x1": 639,
          "xref": "x",
          "y0": 0,
          "y1": 5.008,
          "yref": "y"
         },
         {
          "line": {
           "color": "green"
          },
          "type": "rect",
          "x0": 720,
          "x1": 750,
          "xref": "x",
          "y0": 0,
          "y1": 5.08,
          "yref": "y"
         },
         {
          "line": {
           "color": "green"
          },
          "type": "rect",
          "x0": 780,
          "x1": 810,
          "xref": "x",
          "y0": 0,
          "y1": 4.681,
          "yref": "y"
         },
         {
          "line": {
           "color": "green"
          },
          "type": "rect",
          "x0": 510,
          "x1": 540,
          "xref": "x",
          "y0": 0,
          "y1": 4.054,
          "yref": "y"
         },
         {
          "line": {
           "color": "green"
          },
          "type": "rect",
          "x0": 610,
          "x1": 640,
          "xref": "x",
          "y0": 0,
          "y1": 5.011,
          "yref": "y"
         },
         {
          "line": {
           "color": "green"
          },
          "type": "rect",
          "x0": 900,
          "x1": 911,
          "xref": "x",
          "y0": 0,
          "y1": 1.461,
          "yref": "y"
         },
         {
          "line": {
           "color": "green"
          },
          "type": "rect",
          "x0": 510,
          "x1": 540,
          "xref": "x",
          "y0": 0,
          "y1": 4.054,
          "yref": "y"
         },
         {
          "line": {
           "color": "green"
          },
          "type": "rect",
          "x0": 720,
          "x1": 750,
          "xref": "x",
          "y0": 0,
          "y1": 5.08,
          "yref": "y"
         },
         {
          "line": {
           "color": "green"
          },
          "type": "rect",
          "x0": 532,
          "x1": 562,
          "xref": "x",
          "y0": 0,
          "y1": 4.608,
          "yref": "y"
         },
         {
          "line": {
           "color": "green"
          },
          "type": "rect",
          "x0": 721,
          "x1": 751,
          "xref": "x",
          "y0": 0,
          "y1": 5.077,
          "yref": "y"
         },
         {
          "line": {
           "color": "green"
          },
          "type": "rect",
          "x0": 622,
          "x1": 652,
          "xref": "x",
          "y0": 0,
          "y1": 5.015,
          "yref": "y"
         },
         {
          "line": {
           "color": "green"
          },
          "type": "rect",
          "x0": 900,
          "x1": 930,
          "xref": "x",
          "y0": 0,
          "y1": 4.444,
          "yref": "y"
         },
         {
          "line": {
           "color": "green"
          },
          "type": "rect",
          "x0": 540,
          "x1": 570,
          "xref": "x",
          "y0": 0,
          "y1": 4.832,
          "yref": "y"
         },
         {
          "line": {
           "color": "green"
          },
          "type": "rect",
          "x0": 901,
          "x1": 931,
          "xref": "x",
          "y0": 0,
          "y1": 4.436,
          "yref": "y"
         },
         {
          "line": {
           "color": "green"
          },
          "type": "rect",
          "x0": 760,
          "x1": 768,
          "xref": "x",
          "y0": 0,
          "y1": 1.38,
          "yref": "y"
         },
         {
          "line": {
           "color": "green"
          },
          "type": "rect",
          "x0": 930,
          "x1": 960,
          "xref": "x",
          "y0": 0,
          "y1": 3.648,
          "yref": "y"
         },
         {
          "line": {
           "color": "green"
          },
          "type": "rect",
          "x0": 625,
          "x1": 655,
          "xref": "x",
          "y0": 0,
          "y1": 5.011,
          "yref": "y"
         },
         {
          "line": {
           "color": "green"
          },
          "type": "rect",
          "x0": 630,
          "x1": 660,
          "xref": "x",
          "y0": 0,
          "y1": 5.013,
          "yref": "y"
         },
         {
          "line": {
           "color": "green"
          },
          "type": "rect",
          "x0": 931,
          "x1": 960,
          "xref": "x",
          "y0": 0,
          "y1": 3.629,
          "yref": "y"
         },
         {
          "line": {
           "color": "green"
          },
          "type": "rect",
          "x0": 630,
          "x1": 660,
          "xref": "x",
          "y0": 0,
          "y1": 5.013,
          "yref": "y"
         },
         {
          "line": {
           "color": "green"
          },
          "type": "rect",
          "x0": 810,
          "x1": 840,
          "xref": "x",
          "y0": 0,
          "y1": 4.859,
          "yref": "y"
         },
         {
          "line": {
           "color": "green"
          },
          "type": "rect",
          "x0": 540,
          "x1": 570,
          "xref": "x",
          "y0": 0,
          "y1": 4.832,
          "yref": "y"
         },
         {
          "line": {
           "color": "green"
          },
          "type": "rect",
          "x0": 729,
          "x1": 757,
          "xref": "x",
          "y0": 0,
          "y1": 4.714,
          "yref": "y"
         },
         {
          "line": {
           "color": "green"
          },
          "type": "rect",
          "x0": 550,
          "x1": 580,
          "xref": "x",
          "y0": 0,
          "y1": 4.869,
          "yref": "y"
         },
         {
          "line": {
           "color": "green"
          },
          "type": "rect",
          "x0": 960,
          "x1": 960,
          "xref": "x",
          "y0": 0,
          "y1": 0.117,
          "yref": "y"
         },
         {
          "line": {
           "color": "green"
          },
          "type": "rect",
          "x0": 562,
          "x1": 592,
          "xref": "x",
          "y0": 0,
          "y1": 4.97,
          "yref": "y"
         },
         {
          "line": {
           "color": "green"
          },
          "type": "rect",
          "x0": 810,
          "x1": 840,
          "xref": "x",
          "y0": 0,
          "y1": 4.859,
          "yref": "y"
         },
         {
          "line": {
           "color": "green"
          },
          "type": "rect",
          "x0": 730,
          "x1": 760,
          "xref": "x",
          "y0": 0,
          "y1": 5.089,
          "yref": "y"
         },
         {
          "line": {
           "color": "green"
          },
          "type": "rect",
          "x0": 811,
          "x1": 841,
          "xref": "x",
          "y0": 0,
          "y1": 4.858,
          "yref": "y"
         },
         {
          "line": {
           "color": "green"
          },
          "type": "rect",
          "x0": 631,
          "x1": 661,
          "xref": "x",
          "y0": 0,
          "y1": 5.016,
          "yref": "y"
         },
         {
          "line": {
           "color": "green"
          },
          "type": "rect",
          "x0": 768,
          "x1": 780,
          "xref": "x",
          "y0": 0,
          "y1": 1.953,
          "yref": "y"
         },
         {
          "line": {
           "color": "green"
          },
          "type": "rect",
          "x0": 835,
          "x1": 848,
          "xref": "x",
          "y0": 0,
          "y1": 2.047,
          "yref": "y"
         },
         {
          "line": {
           "color": "green"
          },
          "type": "rect",
          "x0": 639,
          "x1": 669,
          "xref": "x",
          "y0": 0,
          "y1": 5.043,
          "yref": "y"
         },
         {
          "line": {
           "color": "green"
          },
          "type": "rect",
          "x0": 640,
          "x1": 670,
          "xref": "x",
          "y0": 0,
          "y1": 5.048,
          "yref": "y"
         },
         {
          "line": {
           "color": "green"
          },
          "type": "rect",
          "x0": 780,
          "x1": 810,
          "xref": "x",
          "y0": 0,
          "y1": 4.681,
          "yref": "y"
         },
         {
          "line": {
           "color": "green"
          },
          "type": "rect",
          "x0": 565,
          "x1": 595,
          "xref": "x",
          "y0": 0,
          "y1": 4.958,
          "yref": "y"
         },
         {
          "line": {
           "color": "green"
          },
          "type": "rect",
          "x0": 652,
          "x1": 682,
          "xref": "x",
          "y0": 0,
          "y1": 5.155,
          "yref": "y"
         },
         {
          "line": {
           "color": "green"
          },
          "type": "rect",
          "x0": 655,
          "x1": 685,
          "xref": "x",
          "y0": 0,
          "y1": 5.192,
          "yref": "y"
         },
         {
          "line": {
           "color": "green"
          },
          "type": "rect",
          "x0": 570,
          "x1": 600,
          "xref": "x",
          "y0": 0,
          "y1": 5.092,
          "yref": "y"
         },
         {
          "line": {
           "color": "green"
          },
          "type": "rect",
          "x0": 570,
          "x1": 600,
          "xref": "x",
          "y0": 0,
          "y1": 5.092,
          "yref": "y"
         },
         {
          "line": {
           "color": "green"
          },
          "type": "rect",
          "x0": 839,
          "x1": 869,
          "xref": "x",
          "y0": 0,
          "y1": 4.902,
          "yref": "y"
         },
         {
          "line": {
           "color": "green"
          },
          "type": "rect",
          "x0": 745,
          "x1": 775,
          "xref": "x",
          "y0": 0,
          "y1": 5.031,
          "yref": "y"
         },
         {
          "line": {
           "color": "green"
          },
          "type": "rect",
          "x0": 749,
          "x1": 779,
          "xref": "x",
          "y0": 0,
          "y1": 4.997,
          "yref": "y"
         },
         {
          "line": {
           "color": "green"
          },
          "type": "rect",
          "x0": 840,
          "x1": 870,
          "xref": "x",
          "y0": 0,
          "y1": 4.924,
          "yref": "y"
         },
         {
          "line": {
           "color": "green"
          },
          "type": "rect",
          "x0": 750,
          "x1": 780,
          "xref": "x",
          "y0": 0,
          "y1": 4.991,
          "yref": "y"
         },
         {
          "line": {
           "color": "green"
          },
          "type": "rect",
          "x0": 780,
          "x1": 810,
          "xref": "x",
          "y0": 0,
          "y1": 4.681,
          "yref": "y"
         },
         {
          "line": {
           "color": "green"
          },
          "type": "rect",
          "x0": 840,
          "x1": 870,
          "xref": "x",
          "y0": 0,
          "y1": 4.924,
          "yref": "y"
         },
         {
          "line": {
           "color": "green"
          },
          "type": "rect",
          "x0": 840,
          "x1": 870,
          "xref": "x",
          "y0": 0,
          "y1": 4.924,
          "yref": "y"
         },
         {
          "line": {
           "color": "green"
          },
          "type": "rect",
          "x0": 750,
          "x1": 780,
          "xref": "x",
          "y0": 0,
          "y1": 4.991,
          "yref": "y"
         },
         {
          "line": {
           "color": "green"
          },
          "type": "rect",
          "x0": 660,
          "x1": 690,
          "xref": "x",
          "y0": 0,
          "y1": 5.239,
          "yref": "y"
         },
         {
          "line": {
           "color": "green"
          },
          "type": "rect",
          "x0": 660,
          "x1": 690,
          "xref": "x",
          "y0": 0,
          "y1": 5.239,
          "yref": "y"
         },
         {
          "line": {
           "color": "green"
          },
          "type": "rect",
          "x0": 579,
          "x1": 609,
          "xref": "x",
          "y0": 0,
          "y1": 5.016,
          "yref": "y"
         },
         {
          "line": {
           "color": "green"
          },
          "type": "rect",
          "x0": 661,
          "x1": 691,
          "xref": "x",
          "y0": 0,
          "y1": 5.23,
          "yref": "y"
         },
         {
          "line": {
           "color": "green"
          },
          "type": "rect",
          "x0": 775,
          "x1": 805,
          "xref": "x",
          "y0": 0,
          "y1": 4.692,
          "yref": "y"
         },
         {
          "line": {
           "color": "green"
          },
          "type": "rect",
          "x0": 580,
          "x1": 610,
          "xref": "x",
          "y0": 0,
          "y1": 5.028,
          "yref": "y"
         },
         {
          "line": {
           "color": "green"
          },
          "type": "rect",
          "x0": 841,
          "x1": 871,
          "xref": "x",
          "y0": 0,
          "y1": 4.945,
          "yref": "y"
         },
         {
          "line": {
           "color": "green"
          },
          "type": "rect",
          "x0": 870,
          "x1": 888,
          "xref": "x",
          "y0": 0,
          "y1": 2.818,
          "yref": "y"
         },
         {
          "line": {
           "color": "green"
          },
          "type": "rect",
          "x0": 870,
          "x1": 900,
          "xref": "x",
          "y0": 0,
          "y1": 4.758,
          "yref": "y"
         },
         {
          "line": {
           "color": "green"
          },
          "type": "rect",
          "x0": 781,
          "x1": 811,
          "xref": "x",
          "y0": 0,
          "y1": 4.682,
          "yref": "y"
         },
         {
          "line": {
           "color": "green"
          },
          "type": "rect",
          "x0": 669,
          "x1": 699,
          "xref": "x",
          "y0": 0,
          "y1": 5.178,
          "yref": "y"
         },
         {
          "line": {
           "color": "green"
          },
          "type": "rect",
          "x0": 670,
          "x1": 700,
          "xref": "x",
          "y0": 0,
          "y1": 5.172,
          "yref": "y"
         },
         {
          "line": {
           "color": "green"
          },
          "type": "rect",
          "x0": 805,
          "x1": 835,
          "xref": "x",
          "y0": 0,
          "y1": 4.847,
          "yref": "y"
         },
         {
          "line": {
           "color": "green"
          },
          "type": "rect",
          "x0": 682,
          "x1": 712,
          "xref": "x",
          "y0": 0,
          "y1": 5.077,
          "yref": "y"
         },
         {
          "line": {
           "color": "green"
          },
          "type": "rect",
          "x0": 779,
          "x1": 809,
          "xref": "x",
          "y0": 0,
          "y1": 4.682,
          "yref": "y"
         },
         {
          "line": {
           "color": "green"
          },
          "type": "rect",
          "x0": 685,
          "x1": 715,
          "xref": "x",
          "y0": 0,
          "y1": 5.042,
          "yref": "y"
         },
         {
          "line": {
           "color": "green"
          },
          "type": "rect",
          "x0": 689,
          "x1": 719,
          "xref": "x",
          "y0": 0,
          "y1": 4.984,
          "yref": "y"
         },
         {
          "line": {
           "color": "green"
          },
          "type": "rect",
          "x0": 690,
          "x1": 720,
          "xref": "x",
          "y0": 0,
          "y1": 4.99,
          "yref": "y"
         },
         {
          "line": {
           "color": "green"
          },
          "type": "rect",
          "x0": 690,
          "x1": 720,
          "xref": "x",
          "y0": 0,
          "y1": 4.99,
          "yref": "y"
         },
         {
          "line": {
           "color": "green"
          },
          "type": "rect",
          "x0": 592,
          "x1": 622,
          "xref": "x",
          "y0": 0,
          "y1": 5.054,
          "yref": "y"
         },
         {
          "line": {
           "color": "green"
          },
          "type": "rect",
          "x0": 691,
          "x1": 721,
          "xref": "x",
          "y0": 0,
          "y1": 4.996,
          "yref": "y"
         },
         {
          "line": {
           "color": "green"
          },
          "type": "rect",
          "x0": 809,
          "x1": 839,
          "xref": "x",
          "y0": 0,
          "y1": 4.859,
          "yref": "y"
         },
         {
          "line": {
           "color": "green"
          },
          "type": "rect",
          "x0": 751,
          "x1": 781,
          "xref": "x",
          "y0": 0,
          "y1": 4.985,
          "yref": "y"
         },
         {
          "line": {
           "color": "green"
          },
          "type": "rect",
          "x0": 595,
          "x1": 625,
          "xref": "x",
          "y0": 0,
          "y1": 5.032,
          "yref": "y"
         },
         {
          "line": {
           "color": "green"
          },
          "type": "rect",
          "x0": 699,
          "x1": 729,
          "xref": "x",
          "y0": 0,
          "y1": 5.003,
          "yref": "y"
         },
         {
          "line": {
           "color": "green"
          },
          "type": "rect",
          "x0": 700,
          "x1": 730,
          "xref": "x",
          "y0": 0,
          "y1": 5,
          "yref": "y"
         },
         {
          "line": {
           "color": "green"
          },
          "type": "rect",
          "x0": 712,
          "x1": 734,
          "xref": "x",
          "y0": 0,
          "y1": 3.634,
          "yref": "y"
         },
         {
          "line": {
           "color": "green"
          },
          "type": "rect",
          "x0": 715,
          "x1": 745,
          "xref": "x",
          "y0": 0,
          "y1": 5.077,
          "yref": "y"
         },
         {
          "line": {
           "color": "green"
          },
          "type": "rect",
          "x0": 719,
          "x1": 749,
          "xref": "x",
          "y0": 0,
          "y1": 5.082,
          "yref": "y"
         },
         {
          "line": {
           "color": "green"
          },
          "type": "rect",
          "x0": 810,
          "x1": 840,
          "xref": "x",
          "y0": 0,
          "y1": 4.859,
          "yref": "y"
         },
         {
          "line": {
           "color": "green"
          },
          "type": "rect",
          "x0": 870,
          "x1": 900,
          "xref": "x",
          "y0": 0,
          "y1": 4.758,
          "yref": "y"
         }
        ],
        "template": {
         "data": {
          "bar": [
           {
            "error_x": {
             "color": "#2a3f5f"
            },
            "error_y": {
             "color": "#2a3f5f"
            },
            "marker": {
             "line": {
              "color": "white",
              "width": 0.5
             },
             "pattern": {
              "fillmode": "overlay",
              "size": 10,
              "solidity": 0.2
             }
            },
            "type": "bar"
           }
          ],
          "barpolar": [
           {
            "marker": {
             "line": {
              "color": "white",
              "width": 0.5
             },
             "pattern": {
              "fillmode": "overlay",
              "size": 10,
              "solidity": 0.2
             }
            },
            "type": "barpolar"
           }
          ],
          "carpet": [
           {
            "aaxis": {
             "endlinecolor": "#2a3f5f",
             "gridcolor": "#C8D4E3",
             "linecolor": "#C8D4E3",
             "minorgridcolor": "#C8D4E3",
             "startlinecolor": "#2a3f5f"
            },
            "baxis": {
             "endlinecolor": "#2a3f5f",
             "gridcolor": "#C8D4E3",
             "linecolor": "#C8D4E3",
             "minorgridcolor": "#C8D4E3",
             "startlinecolor": "#2a3f5f"
            },
            "type": "carpet"
           }
          ],
          "choropleth": [
           {
            "colorbar": {
             "outlinewidth": 0,
             "ticks": ""
            },
            "type": "choropleth"
           }
          ],
          "contour": [
           {
            "colorbar": {
             "outlinewidth": 0,
             "ticks": ""
            },
            "colorscale": [
             [
              0,
              "#0d0887"
             ],
             [
              0.1111111111111111,
              "#46039f"
             ],
             [
              0.2222222222222222,
              "#7201a8"
             ],
             [
              0.3333333333333333,
              "#9c179e"
             ],
             [
              0.4444444444444444,
              "#bd3786"
             ],
             [
              0.5555555555555556,
              "#d8576b"
             ],
             [
              0.6666666666666666,
              "#ed7953"
             ],
             [
              0.7777777777777778,
              "#fb9f3a"
             ],
             [
              0.8888888888888888,
              "#fdca26"
             ],
             [
              1,
              "#f0f921"
             ]
            ],
            "type": "contour"
           }
          ],
          "contourcarpet": [
           {
            "colorbar": {
             "outlinewidth": 0,
             "ticks": ""
            },
            "type": "contourcarpet"
           }
          ],
          "heatmap": [
           {
            "colorbar": {
             "outlinewidth": 0,
             "ticks": ""
            },
            "colorscale": [
             [
              0,
              "#0d0887"
             ],
             [
              0.1111111111111111,
              "#46039f"
             ],
             [
              0.2222222222222222,
              "#7201a8"
             ],
             [
              0.3333333333333333,
              "#9c179e"
             ],
             [
              0.4444444444444444,
              "#bd3786"
             ],
             [
              0.5555555555555556,
              "#d8576b"
             ],
             [
              0.6666666666666666,
              "#ed7953"
             ],
             [
              0.7777777777777778,
              "#fb9f3a"
             ],
             [
              0.8888888888888888,
              "#fdca26"
             ],
             [
              1,
              "#f0f921"
             ]
            ],
            "type": "heatmap"
           }
          ],
          "heatmapgl": [
           {
            "colorbar": {
             "outlinewidth": 0,
             "ticks": ""
            },
            "colorscale": [
             [
              0,
              "#0d0887"
             ],
             [
              0.1111111111111111,
              "#46039f"
             ],
             [
              0.2222222222222222,
              "#7201a8"
             ],
             [
              0.3333333333333333,
              "#9c179e"
             ],
             [
              0.4444444444444444,
              "#bd3786"
             ],
             [
              0.5555555555555556,
              "#d8576b"
             ],
             [
              0.6666666666666666,
              "#ed7953"
             ],
             [
              0.7777777777777778,
              "#fb9f3a"
             ],
             [
              0.8888888888888888,
              "#fdca26"
             ],
             [
              1,
              "#f0f921"
             ]
            ],
            "type": "heatmapgl"
           }
          ],
          "histogram": [
           {
            "marker": {
             "pattern": {
              "fillmode": "overlay",
              "size": 10,
              "solidity": 0.2
             }
            },
            "type": "histogram"
           }
          ],
          "histogram2d": [
           {
            "colorbar": {
             "outlinewidth": 0,
             "ticks": ""
            },
            "colorscale": [
             [
              0,
              "#0d0887"
             ],
             [
              0.1111111111111111,
              "#46039f"
             ],
             [
              0.2222222222222222,
              "#7201a8"
             ],
             [
              0.3333333333333333,
              "#9c179e"
             ],
             [
              0.4444444444444444,
              "#bd3786"
             ],
             [
              0.5555555555555556,
              "#d8576b"
             ],
             [
              0.6666666666666666,
              "#ed7953"
             ],
             [
              0.7777777777777778,
              "#fb9f3a"
             ],
             [
              0.8888888888888888,
              "#fdca26"
             ],
             [
              1,
              "#f0f921"
             ]
            ],
            "type": "histogram2d"
           }
          ],
          "histogram2dcontour": [
           {
            "colorbar": {
             "outlinewidth": 0,
             "ticks": ""
            },
            "colorscale": [
             [
              0,
              "#0d0887"
             ],
             [
              0.1111111111111111,
              "#46039f"
             ],
             [
              0.2222222222222222,
              "#7201a8"
             ],
             [
              0.3333333333333333,
              "#9c179e"
             ],
             [
              0.4444444444444444,
              "#bd3786"
             ],
             [
              0.5555555555555556,
              "#d8576b"
             ],
             [
              0.6666666666666666,
              "#ed7953"
             ],
             [
              0.7777777777777778,
              "#fb9f3a"
             ],
             [
              0.8888888888888888,
              "#fdca26"
             ],
             [
              1,
              "#f0f921"
             ]
            ],
            "type": "histogram2dcontour"
           }
          ],
          "mesh3d": [
           {
            "colorbar": {
             "outlinewidth": 0,
             "ticks": ""
            },
            "type": "mesh3d"
           }
          ],
          "parcoords": [
           {
            "line": {
             "colorbar": {
              "outlinewidth": 0,
              "ticks": ""
             }
            },
            "type": "parcoords"
           }
          ],
          "pie": [
           {
            "automargin": true,
            "type": "pie"
           }
          ],
          "scatter": [
           {
            "marker": {
             "colorbar": {
              "outlinewidth": 0,
              "ticks": ""
             }
            },
            "type": "scatter"
           }
          ],
          "scatter3d": [
           {
            "line": {
             "colorbar": {
              "outlinewidth": 0,
              "ticks": ""
             }
            },
            "marker": {
             "colorbar": {
              "outlinewidth": 0,
              "ticks": ""
             }
            },
            "type": "scatter3d"
           }
          ],
          "scattercarpet": [
           {
            "marker": {
             "colorbar": {
              "outlinewidth": 0,
              "ticks": ""
             }
            },
            "type": "scattercarpet"
           }
          ],
          "scattergeo": [
           {
            "marker": {
             "colorbar": {
              "outlinewidth": 0,
              "ticks": ""
             }
            },
            "type": "scattergeo"
           }
          ],
          "scattergl": [
           {
            "marker": {
             "colorbar": {
              "outlinewidth": 0,
              "ticks": ""
             }
            },
            "type": "scattergl"
           }
          ],
          "scattermapbox": [
           {
            "marker": {
             "colorbar": {
              "outlinewidth": 0,
              "ticks": ""
             }
            },
            "type": "scattermapbox"
           }
          ],
          "scatterpolar": [
           {
            "marker": {
             "colorbar": {
              "outlinewidth": 0,
              "ticks": ""
             }
            },
            "type": "scatterpolar"
           }
          ],
          "scatterpolargl": [
           {
            "marker": {
             "colorbar": {
              "outlinewidth": 0,
              "ticks": ""
             }
            },
            "type": "scatterpolargl"
           }
          ],
          "scatterternary": [
           {
            "marker": {
             "colorbar": {
              "outlinewidth": 0,
              "ticks": ""
             }
            },
            "type": "scatterternary"
           }
          ],
          "surface": [
           {
            "colorbar": {
             "outlinewidth": 0,
             "ticks": ""
            },
            "colorscale": [
             [
              0,
              "#0d0887"
             ],
             [
              0.1111111111111111,
              "#46039f"
             ],
             [
              0.2222222222222222,
              "#7201a8"
             ],
             [
              0.3333333333333333,
              "#9c179e"
             ],
             [
              0.4444444444444444,
              "#bd3786"
             ],
             [
              0.5555555555555556,
              "#d8576b"
             ],
             [
              0.6666666666666666,
              "#ed7953"
             ],
             [
              0.7777777777777778,
              "#fb9f3a"
             ],
             [
              0.8888888888888888,
              "#fdca26"
             ],
             [
              1,
              "#f0f921"
             ]
            ],
            "type": "surface"
           }
          ],
          "table": [
           {
            "cells": {
             "fill": {
              "color": "#EBF0F8"
             },
             "line": {
              "color": "white"
             }
            },
            "header": {
             "fill": {
              "color": "#C8D4E3"
             },
             "line": {
              "color": "white"
             }
            },
            "type": "table"
           }
          ]
         },
         "layout": {
          "annotationdefaults": {
           "arrowcolor": "#2a3f5f",
           "arrowhead": 0,
           "arrowwidth": 1
          },
          "autotypenumbers": "strict",
          "coloraxis": {
           "colorbar": {
            "outlinewidth": 0,
            "ticks": ""
           }
          },
          "colorscale": {
           "diverging": [
            [
             0,
             "#8e0152"
            ],
            [
             0.1,
             "#c51b7d"
            ],
            [
             0.2,
             "#de77ae"
            ],
            [
             0.3,
             "#f1b6da"
            ],
            [
             0.4,
             "#fde0ef"
            ],
            [
             0.5,
             "#f7f7f7"
            ],
            [
             0.6,
             "#e6f5d0"
            ],
            [
             0.7,
             "#b8e186"
            ],
            [
             0.8,
             "#7fbc41"
            ],
            [
             0.9,
             "#4d9221"
            ],
            [
             1,
             "#276419"
            ]
           ],
           "sequential": [
            [
             0,
             "#0d0887"
            ],
            [
             0.1111111111111111,
             "#46039f"
            ],
            [
             0.2222222222222222,
             "#7201a8"
            ],
            [
             0.3333333333333333,
             "#9c179e"
            ],
            [
             0.4444444444444444,
             "#bd3786"
            ],
            [
             0.5555555555555556,
             "#d8576b"
            ],
            [
             0.6666666666666666,
             "#ed7953"
            ],
            [
             0.7777777777777778,
             "#fb9f3a"
            ],
            [
             0.8888888888888888,
             "#fdca26"
            ],
            [
             1,
             "#f0f921"
            ]
           ],
           "sequentialminus": [
            [
             0,
             "#0d0887"
            ],
            [
             0.1111111111111111,
             "#46039f"
            ],
            [
             0.2222222222222222,
             "#7201a8"
            ],
            [
             0.3333333333333333,
             "#9c179e"
            ],
            [
             0.4444444444444444,
             "#bd3786"
            ],
            [
             0.5555555555555556,
             "#d8576b"
            ],
            [
             0.6666666666666666,
             "#ed7953"
            ],
            [
             0.7777777777777778,
             "#fb9f3a"
            ],
            [
             0.8888888888888888,
             "#fdca26"
            ],
            [
             1,
             "#f0f921"
            ]
           ]
          },
          "colorway": [
           "#636efa",
           "#EF553B",
           "#00cc96",
           "#ab63fa",
           "#FFA15A",
           "#19d3f3",
           "#FF6692",
           "#B6E880",
           "#FF97FF",
           "#FECB52"
          ],
          "font": {
           "color": "#2a3f5f"
          },
          "geo": {
           "bgcolor": "white",
           "lakecolor": "white",
           "landcolor": "white",
           "showlakes": true,
           "showland": true,
           "subunitcolor": "#C8D4E3"
          },
          "hoverlabel": {
           "align": "left"
          },
          "hovermode": "closest",
          "mapbox": {
           "style": "light"
          },
          "paper_bgcolor": "white",
          "plot_bgcolor": "white",
          "polar": {
           "angularaxis": {
            "gridcolor": "#EBF0F8",
            "linecolor": "#EBF0F8",
            "ticks": ""
           },
           "bgcolor": "white",
           "radialaxis": {
            "gridcolor": "#EBF0F8",
            "linecolor": "#EBF0F8",
            "ticks": ""
           }
          },
          "scene": {
           "xaxis": {
            "backgroundcolor": "white",
            "gridcolor": "#DFE8F3",
            "gridwidth": 2,
            "linecolor": "#EBF0F8",
            "showbackground": true,
            "ticks": "",
            "zerolinecolor": "#EBF0F8"
           },
           "yaxis": {
            "backgroundcolor": "white",
            "gridcolor": "#DFE8F3",
            "gridwidth": 2,
            "linecolor": "#EBF0F8",
            "showbackground": true,
            "ticks": "",
            "zerolinecolor": "#EBF0F8"
           },
           "zaxis": {
            "backgroundcolor": "white",
            "gridcolor": "#DFE8F3",
            "gridwidth": 2,
            "linecolor": "#EBF0F8",
            "showbackground": true,
            "ticks": "",
            "zerolinecolor": "#EBF0F8"
           }
          },
          "shapedefaults": {
           "line": {
            "color": "#2a3f5f"
           }
          },
          "ternary": {
           "aaxis": {
            "gridcolor": "#DFE8F3",
            "linecolor": "#A2B1C6",
            "ticks": ""
           },
           "baxis": {
            "gridcolor": "#DFE8F3",
            "linecolor": "#A2B1C6",
            "ticks": ""
           },
           "bgcolor": "white",
           "caxis": {
            "gridcolor": "#DFE8F3",
            "linecolor": "#A2B1C6",
            "ticks": ""
           }
          },
          "title": {
           "x": 0.05
          },
          "xaxis": {
           "automargin": true,
           "gridcolor": "#EBF0F8",
           "linecolor": "#EBF0F8",
           "ticks": "",
           "title": {
            "standoff": 15
           },
           "zerolinecolor": "#EBF0F8",
           "zerolinewidth": 2
          },
          "yaxis": {
           "automargin": true,
           "gridcolor": "#EBF0F8",
           "linecolor": "#EBF0F8",
           "ticks": "",
           "title": {
            "standoff": 15
           },
           "zerolinecolor": "#EBF0F8",
           "zerolinewidth": 2
          }
         }
        },
        "title": {
         "font": {
          "size": 24
         },
         "text": "Ladeenergie pro Ladezeitraum eines BEVs",
         "x": 0.5,
         "xanchor": "center"
        },
        "xaxis": {
         "range": [
          480,
          960
         ],
         "showgrid": true,
         "title": {
          "text": "Minuten"
         }
        },
        "yaxis": {
         "range": [
          0,
          10
         ],
         "title": {
          "text": "Energie in kWh"
         }
        }
       }
      },
      "text/html": [
       "<div>                            <div id=\"d53eb208-041e-49b2-9310-cc8e6b652f27\" class=\"plotly-graph-div\" style=\"height:525px; width:100%;\"></div>            <script type=\"text/javascript\">                require([\"plotly\"], function(Plotly) {                    window.PLOTLYENV=window.PLOTLYENV || {};                                    if (document.getElementById(\"d53eb208-041e-49b2-9310-cc8e6b652f27\")) {                    Plotly.newPlot(                        \"d53eb208-041e-49b2-9310-cc8e6b652f27\",                        [],                        {\"template\":{\"data\":{\"barpolar\":[{\"marker\":{\"line\":{\"color\":\"white\",\"width\":0.5},\"pattern\":{\"fillmode\":\"overlay\",\"size\":10,\"solidity\":0.2}},\"type\":\"barpolar\"}],\"bar\":[{\"error_x\":{\"color\":\"#2a3f5f\"},\"error_y\":{\"color\":\"#2a3f5f\"},\"marker\":{\"line\":{\"color\":\"white\",\"width\":0.5},\"pattern\":{\"fillmode\":\"overlay\",\"size\":10,\"solidity\":0.2}},\"type\":\"bar\"}],\"carpet\":[{\"aaxis\":{\"endlinecolor\":\"#2a3f5f\",\"gridcolor\":\"#C8D4E3\",\"linecolor\":\"#C8D4E3\",\"minorgridcolor\":\"#C8D4E3\",\"startlinecolor\":\"#2a3f5f\"},\"baxis\":{\"endlinecolor\":\"#2a3f5f\",\"gridcolor\":\"#C8D4E3\",\"linecolor\":\"#C8D4E3\",\"minorgridcolor\":\"#C8D4E3\",\"startlinecolor\":\"#2a3f5f\"},\"type\":\"carpet\"}],\"choropleth\":[{\"colorbar\":{\"outlinewidth\":0,\"ticks\":\"\"},\"type\":\"choropleth\"}],\"contourcarpet\":[{\"colorbar\":{\"outlinewidth\":0,\"ticks\":\"\"},\"type\":\"contourcarpet\"}],\"contour\":[{\"colorbar\":{\"outlinewidth\":0,\"ticks\":\"\"},\"colorscale\":[[0.0,\"#0d0887\"],[0.1111111111111111,\"#46039f\"],[0.2222222222222222,\"#7201a8\"],[0.3333333333333333,\"#9c179e\"],[0.4444444444444444,\"#bd3786\"],[0.5555555555555556,\"#d8576b\"],[0.6666666666666666,\"#ed7953\"],[0.7777777777777778,\"#fb9f3a\"],[0.8888888888888888,\"#fdca26\"],[1.0,\"#f0f921\"]],\"type\":\"contour\"}],\"heatmapgl\":[{\"colorbar\":{\"outlinewidth\":0,\"ticks\":\"\"},\"colorscale\":[[0.0,\"#0d0887\"],[0.1111111111111111,\"#46039f\"],[0.2222222222222222,\"#7201a8\"],[0.3333333333333333,\"#9c179e\"],[0.4444444444444444,\"#bd3786\"],[0.5555555555555556,\"#d8576b\"],[0.6666666666666666,\"#ed7953\"],[0.7777777777777778,\"#fb9f3a\"],[0.8888888888888888,\"#fdca26\"],[1.0,\"#f0f921\"]],\"type\":\"heatmapgl\"}],\"heatmap\":[{\"colorbar\":{\"outlinewidth\":0,\"ticks\":\"\"},\"colorscale\":[[0.0,\"#0d0887\"],[0.1111111111111111,\"#46039f\"],[0.2222222222222222,\"#7201a8\"],[0.3333333333333333,\"#9c179e\"],[0.4444444444444444,\"#bd3786\"],[0.5555555555555556,\"#d8576b\"],[0.6666666666666666,\"#ed7953\"],[0.7777777777777778,\"#fb9f3a\"],[0.8888888888888888,\"#fdca26\"],[1.0,\"#f0f921\"]],\"type\":\"heatmap\"}],\"histogram2dcontour\":[{\"colorbar\":{\"outlinewidth\":0,\"ticks\":\"\"},\"colorscale\":[[0.0,\"#0d0887\"],[0.1111111111111111,\"#46039f\"],[0.2222222222222222,\"#7201a8\"],[0.3333333333333333,\"#9c179e\"],[0.4444444444444444,\"#bd3786\"],[0.5555555555555556,\"#d8576b\"],[0.6666666666666666,\"#ed7953\"],[0.7777777777777778,\"#fb9f3a\"],[0.8888888888888888,\"#fdca26\"],[1.0,\"#f0f921\"]],\"type\":\"histogram2dcontour\"}],\"histogram2d\":[{\"colorbar\":{\"outlinewidth\":0,\"ticks\":\"\"},\"colorscale\":[[0.0,\"#0d0887\"],[0.1111111111111111,\"#46039f\"],[0.2222222222222222,\"#7201a8\"],[0.3333333333333333,\"#9c179e\"],[0.4444444444444444,\"#bd3786\"],[0.5555555555555556,\"#d8576b\"],[0.6666666666666666,\"#ed7953\"],[0.7777777777777778,\"#fb9f3a\"],[0.8888888888888888,\"#fdca26\"],[1.0,\"#f0f921\"]],\"type\":\"histogram2d\"}],\"histogram\":[{\"marker\":{\"pattern\":{\"fillmode\":\"overlay\",\"size\":10,\"solidity\":0.2}},\"type\":\"histogram\"}],\"mesh3d\":[{\"colorbar\":{\"outlinewidth\":0,\"ticks\":\"\"},\"type\":\"mesh3d\"}],\"parcoords\":[{\"line\":{\"colorbar\":{\"outlinewidth\":0,\"ticks\":\"\"}},\"type\":\"parcoords\"}],\"pie\":[{\"automargin\":true,\"type\":\"pie\"}],\"scatter3d\":[{\"line\":{\"colorbar\":{\"outlinewidth\":0,\"ticks\":\"\"}},\"marker\":{\"colorbar\":{\"outlinewidth\":0,\"ticks\":\"\"}},\"type\":\"scatter3d\"}],\"scattercarpet\":[{\"marker\":{\"colorbar\":{\"outlinewidth\":0,\"ticks\":\"\"}},\"type\":\"scattercarpet\"}],\"scattergeo\":[{\"marker\":{\"colorbar\":{\"outlinewidth\":0,\"ticks\":\"\"}},\"type\":\"scattergeo\"}],\"scattergl\":[{\"marker\":{\"colorbar\":{\"outlinewidth\":0,\"ticks\":\"\"}},\"type\":\"scattergl\"}],\"scattermapbox\":[{\"marker\":{\"colorbar\":{\"outlinewidth\":0,\"ticks\":\"\"}},\"type\":\"scattermapbox\"}],\"scatterpolargl\":[{\"marker\":{\"colorbar\":{\"outlinewidth\":0,\"ticks\":\"\"}},\"type\":\"scatterpolargl\"}],\"scatterpolar\":[{\"marker\":{\"colorbar\":{\"outlinewidth\":0,\"ticks\":\"\"}},\"type\":\"scatterpolar\"}],\"scatter\":[{\"marker\":{\"colorbar\":{\"outlinewidth\":0,\"ticks\":\"\"}},\"type\":\"scatter\"}],\"scatterternary\":[{\"marker\":{\"colorbar\":{\"outlinewidth\":0,\"ticks\":\"\"}},\"type\":\"scatterternary\"}],\"surface\":[{\"colorbar\":{\"outlinewidth\":0,\"ticks\":\"\"},\"colorscale\":[[0.0,\"#0d0887\"],[0.1111111111111111,\"#46039f\"],[0.2222222222222222,\"#7201a8\"],[0.3333333333333333,\"#9c179e\"],[0.4444444444444444,\"#bd3786\"],[0.5555555555555556,\"#d8576b\"],[0.6666666666666666,\"#ed7953\"],[0.7777777777777778,\"#fb9f3a\"],[0.8888888888888888,\"#fdca26\"],[1.0,\"#f0f921\"]],\"type\":\"surface\"}],\"table\":[{\"cells\":{\"fill\":{\"color\":\"#EBF0F8\"},\"line\":{\"color\":\"white\"}},\"header\":{\"fill\":{\"color\":\"#C8D4E3\"},\"line\":{\"color\":\"white\"}},\"type\":\"table\"}]},\"layout\":{\"annotationdefaults\":{\"arrowcolor\":\"#2a3f5f\",\"arrowhead\":0,\"arrowwidth\":1},\"autotypenumbers\":\"strict\",\"coloraxis\":{\"colorbar\":{\"outlinewidth\":0,\"ticks\":\"\"}},\"colorscale\":{\"diverging\":[[0,\"#8e0152\"],[0.1,\"#c51b7d\"],[0.2,\"#de77ae\"],[0.3,\"#f1b6da\"],[0.4,\"#fde0ef\"],[0.5,\"#f7f7f7\"],[0.6,\"#e6f5d0\"],[0.7,\"#b8e186\"],[0.8,\"#7fbc41\"],[0.9,\"#4d9221\"],[1,\"#276419\"]],\"sequential\":[[0.0,\"#0d0887\"],[0.1111111111111111,\"#46039f\"],[0.2222222222222222,\"#7201a8\"],[0.3333333333333333,\"#9c179e\"],[0.4444444444444444,\"#bd3786\"],[0.5555555555555556,\"#d8576b\"],[0.6666666666666666,\"#ed7953\"],[0.7777777777777778,\"#fb9f3a\"],[0.8888888888888888,\"#fdca26\"],[1.0,\"#f0f921\"]],\"sequentialminus\":[[0.0,\"#0d0887\"],[0.1111111111111111,\"#46039f\"],[0.2222222222222222,\"#7201a8\"],[0.3333333333333333,\"#9c179e\"],[0.4444444444444444,\"#bd3786\"],[0.5555555555555556,\"#d8576b\"],[0.6666666666666666,\"#ed7953\"],[0.7777777777777778,\"#fb9f3a\"],[0.8888888888888888,\"#fdca26\"],[1.0,\"#f0f921\"]]},\"colorway\":[\"#636efa\",\"#EF553B\",\"#00cc96\",\"#ab63fa\",\"#FFA15A\",\"#19d3f3\",\"#FF6692\",\"#B6E880\",\"#FF97FF\",\"#FECB52\"],\"font\":{\"color\":\"#2a3f5f\"},\"geo\":{\"bgcolor\":\"white\",\"lakecolor\":\"white\",\"landcolor\":\"white\",\"showlakes\":true,\"showland\":true,\"subunitcolor\":\"#C8D4E3\"},\"hoverlabel\":{\"align\":\"left\"},\"hovermode\":\"closest\",\"mapbox\":{\"style\":\"light\"},\"paper_bgcolor\":\"white\",\"plot_bgcolor\":\"white\",\"polar\":{\"angularaxis\":{\"gridcolor\":\"#EBF0F8\",\"linecolor\":\"#EBF0F8\",\"ticks\":\"\"},\"bgcolor\":\"white\",\"radialaxis\":{\"gridcolor\":\"#EBF0F8\",\"linecolor\":\"#EBF0F8\",\"ticks\":\"\"}},\"scene\":{\"xaxis\":{\"backgroundcolor\":\"white\",\"gridcolor\":\"#DFE8F3\",\"gridwidth\":2,\"linecolor\":\"#EBF0F8\",\"showbackground\":true,\"ticks\":\"\",\"zerolinecolor\":\"#EBF0F8\"},\"yaxis\":{\"backgroundcolor\":\"white\",\"gridcolor\":\"#DFE8F3\",\"gridwidth\":2,\"linecolor\":\"#EBF0F8\",\"showbackground\":true,\"ticks\":\"\",\"zerolinecolor\":\"#EBF0F8\"},\"zaxis\":{\"backgroundcolor\":\"white\",\"gridcolor\":\"#DFE8F3\",\"gridwidth\":2,\"linecolor\":\"#EBF0F8\",\"showbackground\":true,\"ticks\":\"\",\"zerolinecolor\":\"#EBF0F8\"}},\"shapedefaults\":{\"line\":{\"color\":\"#2a3f5f\"}},\"ternary\":{\"aaxis\":{\"gridcolor\":\"#DFE8F3\",\"linecolor\":\"#A2B1C6\",\"ticks\":\"\"},\"baxis\":{\"gridcolor\":\"#DFE8F3\",\"linecolor\":\"#A2B1C6\",\"ticks\":\"\"},\"bgcolor\":\"white\",\"caxis\":{\"gridcolor\":\"#DFE8F3\",\"linecolor\":\"#A2B1C6\",\"ticks\":\"\"}},\"title\":{\"x\":0.05},\"xaxis\":{\"automargin\":true,\"gridcolor\":\"#EBF0F8\",\"linecolor\":\"#EBF0F8\",\"ticks\":\"\",\"title\":{\"standoff\":15},\"zerolinecolor\":\"#EBF0F8\",\"zerolinewidth\":2},\"yaxis\":{\"automargin\":true,\"gridcolor\":\"#EBF0F8\",\"linecolor\":\"#EBF0F8\",\"ticks\":\"\",\"title\":{\"standoff\":15},\"zerolinecolor\":\"#EBF0F8\",\"zerolinewidth\":2}}},\"shapes\":[{\"line\":{\"color\":\"green\"},\"type\":\"rect\",\"x0\":600,\"x1\":630,\"y0\":0,\"y1\":4.972,\"xref\":\"x\",\"yref\":\"y\"},{\"line\":{\"color\":\"green\"},\"type\":\"rect\",\"x0\":600,\"x1\":630,\"y0\":0,\"y1\":4.972,\"xref\":\"x\",\"yref\":\"y\"},{\"line\":{\"color\":\"green\"},\"type\":\"rect\",\"x0\":601,\"x1\":631,\"y0\":0,\"y1\":4.956,\"xref\":\"x\",\"yref\":\"y\"},{\"line\":{\"color\":\"green\"},\"type\":\"rect\",\"x0\":480,\"x1\":510,\"y0\":0,\"y1\":2.732,\"xref\":\"x\",\"yref\":\"y\"},{\"line\":{\"color\":\"green\"},\"type\":\"rect\",\"x0\":871,\"x1\":901,\"y0\":0,\"y1\":4.725,\"xref\":\"x\",\"yref\":\"y\"},{\"line\":{\"color\":\"green\"},\"type\":\"rect\",\"x0\":609,\"x1\":639,\"y0\":0,\"y1\":5.008,\"xref\":\"x\",\"yref\":\"y\"},{\"line\":{\"color\":\"green\"},\"type\":\"rect\",\"x0\":720,\"x1\":750,\"y0\":0,\"y1\":5.08,\"xref\":\"x\",\"yref\":\"y\"},{\"line\":{\"color\":\"green\"},\"type\":\"rect\",\"x0\":780,\"x1\":810,\"y0\":0,\"y1\":4.681,\"xref\":\"x\",\"yref\":\"y\"},{\"line\":{\"color\":\"green\"},\"type\":\"rect\",\"x0\":510,\"x1\":540,\"y0\":0,\"y1\":4.054,\"xref\":\"x\",\"yref\":\"y\"},{\"line\":{\"color\":\"green\"},\"type\":\"rect\",\"x0\":610,\"x1\":640,\"y0\":0,\"y1\":5.011,\"xref\":\"x\",\"yref\":\"y\"},{\"line\":{\"color\":\"green\"},\"type\":\"rect\",\"x0\":900,\"x1\":911,\"y0\":0,\"y1\":1.461,\"xref\":\"x\",\"yref\":\"y\"},{\"line\":{\"color\":\"green\"},\"type\":\"rect\",\"x0\":510,\"x1\":540,\"y0\":0,\"y1\":4.054,\"xref\":\"x\",\"yref\":\"y\"},{\"line\":{\"color\":\"green\"},\"type\":\"rect\",\"x0\":720,\"x1\":750,\"y0\":0,\"y1\":5.08,\"xref\":\"x\",\"yref\":\"y\"},{\"line\":{\"color\":\"green\"},\"type\":\"rect\",\"x0\":532,\"x1\":562,\"y0\":0,\"y1\":4.608,\"xref\":\"x\",\"yref\":\"y\"},{\"line\":{\"color\":\"green\"},\"type\":\"rect\",\"x0\":721,\"x1\":751,\"y0\":0,\"y1\":5.077,\"xref\":\"x\",\"yref\":\"y\"},{\"line\":{\"color\":\"green\"},\"type\":\"rect\",\"x0\":622,\"x1\":652,\"y0\":0,\"y1\":5.015,\"xref\":\"x\",\"yref\":\"y\"},{\"line\":{\"color\":\"green\"},\"type\":\"rect\",\"x0\":900,\"x1\":930,\"y0\":0,\"y1\":4.444,\"xref\":\"x\",\"yref\":\"y\"},{\"line\":{\"color\":\"green\"},\"type\":\"rect\",\"x0\":540,\"x1\":570,\"y0\":0,\"y1\":4.832,\"xref\":\"x\",\"yref\":\"y\"},{\"line\":{\"color\":\"green\"},\"type\":\"rect\",\"x0\":901,\"x1\":931,\"y0\":0,\"y1\":4.436,\"xref\":\"x\",\"yref\":\"y\"},{\"line\":{\"color\":\"green\"},\"type\":\"rect\",\"x0\":760,\"x1\":768,\"y0\":0,\"y1\":1.38,\"xref\":\"x\",\"yref\":\"y\"},{\"line\":{\"color\":\"green\"},\"type\":\"rect\",\"x0\":930,\"x1\":960,\"y0\":0,\"y1\":3.648,\"xref\":\"x\",\"yref\":\"y\"},{\"line\":{\"color\":\"green\"},\"type\":\"rect\",\"x0\":625,\"x1\":655,\"y0\":0,\"y1\":5.011,\"xref\":\"x\",\"yref\":\"y\"},{\"line\":{\"color\":\"green\"},\"type\":\"rect\",\"x0\":630,\"x1\":660,\"y0\":0,\"y1\":5.013,\"xref\":\"x\",\"yref\":\"y\"},{\"line\":{\"color\":\"green\"},\"type\":\"rect\",\"x0\":931,\"x1\":960,\"y0\":0,\"y1\":3.629,\"xref\":\"x\",\"yref\":\"y\"},{\"line\":{\"color\":\"green\"},\"type\":\"rect\",\"x0\":630,\"x1\":660,\"y0\":0,\"y1\":5.013,\"xref\":\"x\",\"yref\":\"y\"},{\"line\":{\"color\":\"green\"},\"type\":\"rect\",\"x0\":810,\"x1\":840,\"y0\":0,\"y1\":4.859,\"xref\":\"x\",\"yref\":\"y\"},{\"line\":{\"color\":\"green\"},\"type\":\"rect\",\"x0\":540,\"x1\":570,\"y0\":0,\"y1\":4.832,\"xref\":\"x\",\"yref\":\"y\"},{\"line\":{\"color\":\"green\"},\"type\":\"rect\",\"x0\":729,\"x1\":757,\"y0\":0,\"y1\":4.714,\"xref\":\"x\",\"yref\":\"y\"},{\"line\":{\"color\":\"green\"},\"type\":\"rect\",\"x0\":550,\"x1\":580,\"y0\":0,\"y1\":4.869,\"xref\":\"x\",\"yref\":\"y\"},{\"line\":{\"color\":\"green\"},\"type\":\"rect\",\"x0\":960,\"x1\":960,\"y0\":0,\"y1\":0.117,\"xref\":\"x\",\"yref\":\"y\"},{\"line\":{\"color\":\"green\"},\"type\":\"rect\",\"x0\":562,\"x1\":592,\"y0\":0,\"y1\":4.97,\"xref\":\"x\",\"yref\":\"y\"},{\"line\":{\"color\":\"green\"},\"type\":\"rect\",\"x0\":810,\"x1\":840,\"y0\":0,\"y1\":4.859,\"xref\":\"x\",\"yref\":\"y\"},{\"line\":{\"color\":\"green\"},\"type\":\"rect\",\"x0\":730,\"x1\":760,\"y0\":0,\"y1\":5.089,\"xref\":\"x\",\"yref\":\"y\"},{\"line\":{\"color\":\"green\"},\"type\":\"rect\",\"x0\":811,\"x1\":841,\"y0\":0,\"y1\":4.858,\"xref\":\"x\",\"yref\":\"y\"},{\"line\":{\"color\":\"green\"},\"type\":\"rect\",\"x0\":631,\"x1\":661,\"y0\":0,\"y1\":5.016,\"xref\":\"x\",\"yref\":\"y\"},{\"line\":{\"color\":\"green\"},\"type\":\"rect\",\"x0\":768,\"x1\":780,\"y0\":0,\"y1\":1.953,\"xref\":\"x\",\"yref\":\"y\"},{\"line\":{\"color\":\"green\"},\"type\":\"rect\",\"x0\":835,\"x1\":848,\"y0\":0,\"y1\":2.047,\"xref\":\"x\",\"yref\":\"y\"},{\"line\":{\"color\":\"green\"},\"type\":\"rect\",\"x0\":639,\"x1\":669,\"y0\":0,\"y1\":5.043,\"xref\":\"x\",\"yref\":\"y\"},{\"line\":{\"color\":\"green\"},\"type\":\"rect\",\"x0\":640,\"x1\":670,\"y0\":0,\"y1\":5.048,\"xref\":\"x\",\"yref\":\"y\"},{\"line\":{\"color\":\"green\"},\"type\":\"rect\",\"x0\":780,\"x1\":810,\"y0\":0,\"y1\":4.681,\"xref\":\"x\",\"yref\":\"y\"},{\"line\":{\"color\":\"green\"},\"type\":\"rect\",\"x0\":565,\"x1\":595,\"y0\":0,\"y1\":4.958,\"xref\":\"x\",\"yref\":\"y\"},{\"line\":{\"color\":\"green\"},\"type\":\"rect\",\"x0\":652,\"x1\":682,\"y0\":0,\"y1\":5.155,\"xref\":\"x\",\"yref\":\"y\"},{\"line\":{\"color\":\"green\"},\"type\":\"rect\",\"x0\":655,\"x1\":685,\"y0\":0,\"y1\":5.192,\"xref\":\"x\",\"yref\":\"y\"},{\"line\":{\"color\":\"green\"},\"type\":\"rect\",\"x0\":570,\"x1\":600,\"y0\":0,\"y1\":5.092,\"xref\":\"x\",\"yref\":\"y\"},{\"line\":{\"color\":\"green\"},\"type\":\"rect\",\"x0\":570,\"x1\":600,\"y0\":0,\"y1\":5.092,\"xref\":\"x\",\"yref\":\"y\"},{\"line\":{\"color\":\"green\"},\"type\":\"rect\",\"x0\":839,\"x1\":869,\"y0\":0,\"y1\":4.902,\"xref\":\"x\",\"yref\":\"y\"},{\"line\":{\"color\":\"green\"},\"type\":\"rect\",\"x0\":745,\"x1\":775,\"y0\":0,\"y1\":5.031,\"xref\":\"x\",\"yref\":\"y\"},{\"line\":{\"color\":\"green\"},\"type\":\"rect\",\"x0\":749,\"x1\":779,\"y0\":0,\"y1\":4.997,\"xref\":\"x\",\"yref\":\"y\"},{\"line\":{\"color\":\"green\"},\"type\":\"rect\",\"x0\":840,\"x1\":870,\"y0\":0,\"y1\":4.924,\"xref\":\"x\",\"yref\":\"y\"},{\"line\":{\"color\":\"green\"},\"type\":\"rect\",\"x0\":750,\"x1\":780,\"y0\":0,\"y1\":4.991,\"xref\":\"x\",\"yref\":\"y\"},{\"line\":{\"color\":\"green\"},\"type\":\"rect\",\"x0\":780,\"x1\":810,\"y0\":0,\"y1\":4.681,\"xref\":\"x\",\"yref\":\"y\"},{\"line\":{\"color\":\"green\"},\"type\":\"rect\",\"x0\":840,\"x1\":870,\"y0\":0,\"y1\":4.924,\"xref\":\"x\",\"yref\":\"y\"},{\"line\":{\"color\":\"green\"},\"type\":\"rect\",\"x0\":840,\"x1\":870,\"y0\":0,\"y1\":4.924,\"xref\":\"x\",\"yref\":\"y\"},{\"line\":{\"color\":\"green\"},\"type\":\"rect\",\"x0\":750,\"x1\":780,\"y0\":0,\"y1\":4.991,\"xref\":\"x\",\"yref\":\"y\"},{\"line\":{\"color\":\"green\"},\"type\":\"rect\",\"x0\":660,\"x1\":690,\"y0\":0,\"y1\":5.239,\"xref\":\"x\",\"yref\":\"y\"},{\"line\":{\"color\":\"green\"},\"type\":\"rect\",\"x0\":660,\"x1\":690,\"y0\":0,\"y1\":5.239,\"xref\":\"x\",\"yref\":\"y\"},{\"line\":{\"color\":\"green\"},\"type\":\"rect\",\"x0\":579,\"x1\":609,\"y0\":0,\"y1\":5.016,\"xref\":\"x\",\"yref\":\"y\"},{\"line\":{\"color\":\"green\"},\"type\":\"rect\",\"x0\":661,\"x1\":691,\"y0\":0,\"y1\":5.23,\"xref\":\"x\",\"yref\":\"y\"},{\"line\":{\"color\":\"green\"},\"type\":\"rect\",\"x0\":775,\"x1\":805,\"y0\":0,\"y1\":4.692,\"xref\":\"x\",\"yref\":\"y\"},{\"line\":{\"color\":\"green\"},\"type\":\"rect\",\"x0\":580,\"x1\":610,\"y0\":0,\"y1\":5.028,\"xref\":\"x\",\"yref\":\"y\"},{\"line\":{\"color\":\"green\"},\"type\":\"rect\",\"x0\":841,\"x1\":871,\"y0\":0,\"y1\":4.945,\"xref\":\"x\",\"yref\":\"y\"},{\"line\":{\"color\":\"green\"},\"type\":\"rect\",\"x0\":870,\"x1\":888,\"y0\":0,\"y1\":2.818,\"xref\":\"x\",\"yref\":\"y\"},{\"line\":{\"color\":\"green\"},\"type\":\"rect\",\"x0\":870,\"x1\":900,\"y0\":0,\"y1\":4.758,\"xref\":\"x\",\"yref\":\"y\"},{\"line\":{\"color\":\"green\"},\"type\":\"rect\",\"x0\":781,\"x1\":811,\"y0\":0,\"y1\":4.682,\"xref\":\"x\",\"yref\":\"y\"},{\"line\":{\"color\":\"green\"},\"type\":\"rect\",\"x0\":669,\"x1\":699,\"y0\":0,\"y1\":5.178,\"xref\":\"x\",\"yref\":\"y\"},{\"line\":{\"color\":\"green\"},\"type\":\"rect\",\"x0\":670,\"x1\":700,\"y0\":0,\"y1\":5.172,\"xref\":\"x\",\"yref\":\"y\"},{\"line\":{\"color\":\"green\"},\"type\":\"rect\",\"x0\":805,\"x1\":835,\"y0\":0,\"y1\":4.847,\"xref\":\"x\",\"yref\":\"y\"},{\"line\":{\"color\":\"green\"},\"type\":\"rect\",\"x0\":682,\"x1\":712,\"y0\":0,\"y1\":5.077,\"xref\":\"x\",\"yref\":\"y\"},{\"line\":{\"color\":\"green\"},\"type\":\"rect\",\"x0\":779,\"x1\":809,\"y0\":0,\"y1\":4.682,\"xref\":\"x\",\"yref\":\"y\"},{\"line\":{\"color\":\"green\"},\"type\":\"rect\",\"x0\":685,\"x1\":715,\"y0\":0,\"y1\":5.042,\"xref\":\"x\",\"yref\":\"y\"},{\"line\":{\"color\":\"green\"},\"type\":\"rect\",\"x0\":689,\"x1\":719,\"y0\":0,\"y1\":4.984,\"xref\":\"x\",\"yref\":\"y\"},{\"line\":{\"color\":\"green\"},\"type\":\"rect\",\"x0\":690,\"x1\":720,\"y0\":0,\"y1\":4.99,\"xref\":\"x\",\"yref\":\"y\"},{\"line\":{\"color\":\"green\"},\"type\":\"rect\",\"x0\":690,\"x1\":720,\"y0\":0,\"y1\":4.99,\"xref\":\"x\",\"yref\":\"y\"},{\"line\":{\"color\":\"green\"},\"type\":\"rect\",\"x0\":592,\"x1\":622,\"y0\":0,\"y1\":5.054,\"xref\":\"x\",\"yref\":\"y\"},{\"line\":{\"color\":\"green\"},\"type\":\"rect\",\"x0\":691,\"x1\":721,\"y0\":0,\"y1\":4.996,\"xref\":\"x\",\"yref\":\"y\"},{\"line\":{\"color\":\"green\"},\"type\":\"rect\",\"x0\":809,\"x1\":839,\"y0\":0,\"y1\":4.859,\"xref\":\"x\",\"yref\":\"y\"},{\"line\":{\"color\":\"green\"},\"type\":\"rect\",\"x0\":751,\"x1\":781,\"y0\":0,\"y1\":4.985,\"xref\":\"x\",\"yref\":\"y\"},{\"line\":{\"color\":\"green\"},\"type\":\"rect\",\"x0\":595,\"x1\":625,\"y0\":0,\"y1\":5.032,\"xref\":\"x\",\"yref\":\"y\"},{\"line\":{\"color\":\"green\"},\"type\":\"rect\",\"x0\":699,\"x1\":729,\"y0\":0,\"y1\":5.003,\"xref\":\"x\",\"yref\":\"y\"},{\"line\":{\"color\":\"green\"},\"type\":\"rect\",\"x0\":700,\"x1\":730,\"y0\":0,\"y1\":5.0,\"xref\":\"x\",\"yref\":\"y\"},{\"line\":{\"color\":\"green\"},\"type\":\"rect\",\"x0\":712,\"x1\":734,\"y0\":0,\"y1\":3.634,\"xref\":\"x\",\"yref\":\"y\"},{\"line\":{\"color\":\"green\"},\"type\":\"rect\",\"x0\":715,\"x1\":745,\"y0\":0,\"y1\":5.077,\"xref\":\"x\",\"yref\":\"y\"},{\"line\":{\"color\":\"green\"},\"type\":\"rect\",\"x0\":719,\"x1\":749,\"y0\":0,\"y1\":5.082,\"xref\":\"x\",\"yref\":\"y\"},{\"line\":{\"color\":\"green\"},\"type\":\"rect\",\"x0\":810,\"x1\":840,\"y0\":0,\"y1\":4.859,\"xref\":\"x\",\"yref\":\"y\"},{\"line\":{\"color\":\"green\"},\"type\":\"rect\",\"x0\":870,\"x1\":900,\"y0\":0,\"y1\":4.758,\"xref\":\"x\",\"yref\":\"y\"}],\"xaxis\":{\"range\":[480,960],\"showgrid\":true,\"title\":{\"text\":\"Minuten\"}},\"yaxis\":{\"range\":[0,10],\"title\":{\"text\":\"Energie in kWh\"}},\"title\":{\"font\":{\"size\":24},\"text\":\"Ladeenergie pro Ladezeitraum eines BEVs\",\"x\":0.5,\"xanchor\":\"center\"}},                        {\"responsive\": true}                    ).then(function(){\n",
       "                            \n",
       "var gd = document.getElementById('d53eb208-041e-49b2-9310-cc8e6b652f27');\n",
       "var x = new MutationObserver(function (mutations, observer) {{\n",
       "        var display = window.getComputedStyle(gd).display;\n",
       "        if (!display || display === 'none') {{\n",
       "            console.log([gd, 'removed!']);\n",
       "            Plotly.purge(gd);\n",
       "            observer.disconnect();\n",
       "        }}\n",
       "}});\n",
       "\n",
       "// Listen for the removal of the full notebook cells\n",
       "var notebookContainer = gd.closest('#notebook-container');\n",
       "if (notebookContainer) {{\n",
       "    x.observe(notebookContainer, {childList: true});\n",
       "}}\n",
       "\n",
       "// Listen for the clearing of the current output cell\n",
       "var outputEl = gd.closest('.output');\n",
       "if (outputEl) {{\n",
       "    x.observe(outputEl, {childList: true});\n",
       "}}\n",
       "\n",
       "                        })                };                });            </script>        </div>"
      ]
     },
     "metadata": {},
     "output_type": "display_data"
    }
   ],
   "source": [
    "import figureGeneration\n",
    "\n",
    "figureGeneration.create_charging_power_figure(bev_parking_management)"
   ]
  },
  {
   "cell_type": "code",
   "execution_count": 8,
   "metadata": {
    "pycharm": {
     "is_executing": true
    }
   },
   "outputs": [
    {
     "data": {
      "application/vnd.plotly.v1+json": {
       "config": {
        "plotlyServerURL": "https://plot.ly"
       },
       "data": [
        {
         "line": {
          "color": "orange"
         },
         "name": "Wartende BEVs",
         "type": "scatter",
         "x": [
          480,
          481,
          482,
          483,
          484,
          485,
          486,
          487,
          488,
          489,
          490,
          491,
          492,
          493,
          494,
          495,
          496,
          497,
          498,
          499,
          500,
          501,
          502,
          503,
          504,
          505,
          506,
          507,
          508,
          509,
          510,
          511,
          512,
          513,
          514,
          515,
          516,
          517,
          518,
          519,
          520,
          521,
          522,
          523,
          524,
          525,
          526,
          527,
          528,
          529,
          530,
          531,
          532,
          533,
          534,
          535,
          536,
          537,
          538,
          539,
          540,
          541,
          542,
          543,
          544,
          545,
          546,
          547,
          548,
          549,
          550,
          551,
          552,
          553,
          554,
          555,
          556,
          557,
          558,
          559,
          560,
          561,
          562,
          563,
          564,
          565,
          566,
          567,
          568,
          569,
          570,
          571,
          572,
          573,
          574,
          575,
          576,
          577,
          578,
          579,
          580,
          581,
          582,
          583,
          584,
          585,
          586,
          587,
          588,
          589,
          590,
          591,
          592,
          593,
          594,
          595,
          596,
          597,
          598,
          599,
          600,
          601,
          602,
          603,
          604,
          605,
          606,
          607,
          608,
          609,
          610,
          611,
          612,
          613,
          614,
          615,
          616,
          617,
          618,
          619,
          620,
          621,
          622,
          623,
          624,
          625,
          626,
          627,
          628,
          629,
          630,
          631,
          632,
          633,
          634,
          635,
          636,
          637,
          638,
          639,
          640,
          641,
          642,
          643,
          644,
          645,
          646,
          647,
          648,
          649,
          650,
          651,
          652,
          653,
          654,
          655,
          656,
          657,
          658,
          659,
          660,
          661,
          662,
          663,
          664,
          665,
          666,
          667,
          668,
          669,
          670,
          671,
          672,
          673,
          674,
          675,
          676,
          677,
          678,
          679,
          680,
          681,
          682,
          683,
          684,
          685,
          686,
          687,
          688,
          689,
          690,
          691,
          692,
          693,
          694,
          695,
          696,
          697,
          698,
          699,
          700,
          701,
          702,
          703,
          704,
          705,
          706,
          707,
          708,
          709,
          710,
          711,
          712,
          713,
          714,
          715,
          716,
          717,
          718,
          719,
          720,
          721,
          722,
          723,
          724,
          725,
          726,
          727,
          728,
          729,
          730,
          731,
          732,
          733,
          734,
          735,
          736,
          737,
          738,
          739,
          740,
          741,
          742,
          743,
          744,
          745,
          746,
          747,
          748,
          749,
          750,
          751,
          752,
          753,
          754,
          755,
          756,
          757,
          758,
          759,
          760,
          761,
          762,
          763,
          764,
          765,
          766,
          767,
          768,
          769,
          770,
          771,
          772,
          773,
          774,
          775,
          776,
          777,
          778,
          779,
          780,
          781,
          782,
          783,
          784,
          785,
          786,
          787,
          788,
          789,
          790,
          791,
          792,
          793,
          794,
          795,
          796,
          797,
          798,
          799,
          800,
          801,
          802,
          803,
          804,
          805,
          806,
          807,
          808,
          809,
          810,
          811,
          812,
          813,
          814,
          815,
          816,
          817,
          818,
          819,
          820,
          821,
          822,
          823,
          824,
          825,
          826,
          827,
          828,
          829,
          830,
          831,
          832,
          833,
          834,
          835,
          836,
          837,
          838,
          839,
          840,
          841,
          842,
          843,
          844,
          845,
          846,
          847,
          848,
          849,
          850,
          851,
          852,
          853,
          854,
          855,
          856,
          857,
          858,
          859,
          860,
          861,
          862,
          863,
          864,
          865,
          866,
          867,
          868,
          869,
          870,
          871,
          872,
          873,
          874,
          875,
          876,
          877,
          878,
          879,
          880,
          881,
          882,
          883,
          884,
          885,
          886,
          887,
          888,
          889,
          890,
          891,
          892,
          893,
          894,
          895,
          896,
          897,
          898,
          899,
          900,
          901,
          902,
          903,
          904,
          905,
          906,
          907,
          908,
          909,
          910,
          911,
          912,
          913,
          914,
          915,
          916,
          917,
          918,
          919,
          920,
          921,
          922,
          923,
          924,
          925,
          926,
          927,
          928,
          929,
          930,
          931,
          932,
          933,
          934,
          935,
          936,
          937,
          938,
          939,
          940,
          941,
          942,
          943,
          944,
          945,
          946,
          947,
          948,
          949,
          950,
          951,
          952,
          953,
          954,
          955,
          956,
          957,
          958,
          959,
          960
         ],
         "y": [
          14,
          14,
          14,
          14,
          14,
          14,
          14,
          14,
          14,
          14,
          14,
          14,
          14,
          14,
          14,
          14,
          14,
          14,
          14,
          14,
          14,
          14,
          14,
          14,
          14,
          14,
          14,
          14,
          14,
          14,
          42,
          42,
          42,
          42,
          42,
          42,
          42,
          42,
          42,
          42,
          42,
          42,
          42,
          42,
          42,
          42,
          42,
          42,
          42,
          42,
          42,
          42,
          41,
          41,
          41,
          41,
          41,
          41,
          41,
          41,
          51,
          51,
          51,
          51,
          51,
          51,
          51,
          51,
          51,
          51,
          50,
          50,
          50,
          50,
          50,
          50,
          50,
          50,
          50,
          50,
          50,
          50,
          49,
          49,
          49,
          48,
          48,
          48,
          48,
          48,
          48,
          48,
          48,
          48,
          48,
          48,
          48,
          48,
          48,
          47,
          46,
          46,
          46,
          46,
          46,
          46,
          46,
          46,
          46,
          46,
          46,
          46,
          45,
          45,
          45,
          44,
          44,
          44,
          44,
          44,
          42,
          41,
          41,
          41,
          41,
          41,
          41,
          41,
          41,
          40,
          39,
          39,
          39,
          39,
          39,
          39,
          39,
          39,
          39,
          39,
          39,
          39,
          38,
          38,
          38,
          37,
          37,
          37,
          37,
          37,
          36,
          35,
          35,
          35,
          35,
          35,
          35,
          35,
          35,
          34,
          33,
          33,
          33,
          33,
          33,
          33,
          33,
          33,
          33,
          33,
          33,
          33,
          32,
          32,
          32,
          31,
          31,
          31,
          31,
          31,
          30,
          29,
          29,
          29,
          29,
          29,
          29,
          29,
          29,
          28,
          27,
          27,
          27,
          27,
          27,
          27,
          27,
          27,
          27,
          27,
          27,
          27,
          26,
          26,
          26,
          25,
          25,
          25,
          25,
          24,
          22,
          21,
          21,
          21,
          21,
          21,
          21,
          21,
          21,
          20,
          19,
          19,
          19,
          19,
          19,
          19,
          19,
          19,
          19,
          19,
          19,
          19,
          18,
          18,
          18,
          17,
          17,
          17,
          17,
          16,
          20,
          19,
          19,
          19,
          19,
          19,
          19,
          19,
          19,
          18,
          17,
          17,
          17,
          17,
          17,
          17,
          17,
          17,
          16,
          16,
          16,
          16,
          16,
          16,
          16,
          15,
          15,
          15,
          15,
          14,
          24,
          23,
          23,
          23,
          23,
          23,
          23,
          23,
          23,
          23,
          22,
          22,
          22,
          22,
          22,
          22,
          22,
          22,
          21,
          21,
          21,
          21,
          21,
          21,
          21,
          20,
          20,
          20,
          20,
          19,
          32,
          31,
          31,
          31,
          31,
          31,
          31,
          31,
          31,
          31,
          31,
          31,
          31,
          31,
          31,
          31,
          31,
          31,
          31,
          31,
          31,
          31,
          31,
          31,
          31,
          30,
          30,
          30,
          30,
          29,
          28,
          27,
          27,
          27,
          27,
          27,
          27,
          27,
          27,
          27,
          27,
          27,
          27,
          27,
          27,
          27,
          27,
          27,
          27,
          27,
          27,
          27,
          27,
          27,
          27,
          26,
          26,
          26,
          26,
          25,
          23,
          22,
          22,
          22,
          22,
          22,
          22,
          22,
          22,
          22,
          22,
          22,
          22,
          22,
          22,
          22,
          22,
          22,
          22,
          22,
          22,
          22,
          22,
          22,
          22,
          22,
          22,
          22,
          22,
          22,
          20,
          19,
          19,
          19,
          19,
          19,
          19,
          19,
          19,
          19,
          19,
          19,
          19,
          19,
          19,
          19,
          19,
          19,
          19,
          19,
          19,
          19,
          19,
          19,
          19,
          19,
          19,
          19,
          19,
          19,
          17,
          16,
          16,
          16,
          16,
          16,
          16,
          16,
          16,
          16,
          16,
          16,
          16,
          16,
          16,
          16,
          16,
          16,
          16,
          16,
          16,
          16,
          16,
          16,
          16,
          16,
          16,
          16,
          16,
          16,
          15,
          14,
          14,
          14,
          14,
          14,
          14,
          14,
          14,
          14,
          14,
          14,
          14,
          14,
          14,
          14,
          14,
          14,
          14,
          14,
          14,
          14,
          14,
          14,
          14,
          14,
          14,
          14,
          14,
          14,
          13
         ]
        },
        {
         "line": {
          "color": "green"
         },
         "name": "Ladende BEVs",
         "type": "scatter",
         "x": [
          480,
          481,
          482,
          483,
          484,
          485,
          486,
          487,
          488,
          489,
          490,
          491,
          492,
          493,
          494,
          495,
          496,
          497,
          498,
          499,
          500,
          501,
          502,
          503,
          504,
          505,
          506,
          507,
          508,
          509,
          510,
          511,
          512,
          513,
          514,
          515,
          516,
          517,
          518,
          519,
          520,
          521,
          522,
          523,
          524,
          525,
          526,
          527,
          528,
          529,
          530,
          531,
          532,
          533,
          534,
          535,
          536,
          537,
          538,
          539,
          540,
          541,
          542,
          543,
          544,
          545,
          546,
          547,
          548,
          549,
          550,
          551,
          552,
          553,
          554,
          555,
          556,
          557,
          558,
          559,
          560,
          561,
          562,
          563,
          564,
          565,
          566,
          567,
          568,
          569,
          570,
          571,
          572,
          573,
          574,
          575,
          576,
          577,
          578,
          579,
          580,
          581,
          582,
          583,
          584,
          585,
          586,
          587,
          588,
          589,
          590,
          591,
          592,
          593,
          594,
          595,
          596,
          597,
          598,
          599,
          600,
          601,
          602,
          603,
          604,
          605,
          606,
          607,
          608,
          609,
          610,
          611,
          612,
          613,
          614,
          615,
          616,
          617,
          618,
          619,
          620,
          621,
          622,
          623,
          624,
          625,
          626,
          627,
          628,
          629,
          630,
          631,
          632,
          633,
          634,
          635,
          636,
          637,
          638,
          639,
          640,
          641,
          642,
          643,
          644,
          645,
          646,
          647,
          648,
          649,
          650,
          651,
          652,
          653,
          654,
          655,
          656,
          657,
          658,
          659,
          660,
          661,
          662,
          663,
          664,
          665,
          666,
          667,
          668,
          669,
          670,
          671,
          672,
          673,
          674,
          675,
          676,
          677,
          678,
          679,
          680,
          681,
          682,
          683,
          684,
          685,
          686,
          687,
          688,
          689,
          690,
          691,
          692,
          693,
          694,
          695,
          696,
          697,
          698,
          699,
          700,
          701,
          702,
          703,
          704,
          705,
          706,
          707,
          708,
          709,
          710,
          711,
          712,
          713,
          714,
          715,
          716,
          717,
          718,
          719,
          720,
          721,
          722,
          723,
          724,
          725,
          726,
          727,
          728,
          729,
          730,
          731,
          732,
          733,
          734,
          735,
          736,
          737,
          738,
          739,
          740,
          741,
          742,
          743,
          744,
          745,
          746,
          747,
          748,
          749,
          750,
          751,
          752,
          753,
          754,
          755,
          756,
          757,
          758,
          759,
          760,
          761,
          762,
          763,
          764,
          765,
          766,
          767,
          768,
          769,
          770,
          771,
          772,
          773,
          774,
          775,
          776,
          777,
          778,
          779,
          780,
          781,
          782,
          783,
          784,
          785,
          786,
          787,
          788,
          789,
          790,
          791,
          792,
          793,
          794,
          795,
          796,
          797,
          798,
          799,
          800,
          801,
          802,
          803,
          804,
          805,
          806,
          807,
          808,
          809,
          810,
          811,
          812,
          813,
          814,
          815,
          816,
          817,
          818,
          819,
          820,
          821,
          822,
          823,
          824,
          825,
          826,
          827,
          828,
          829,
          830,
          831,
          832,
          833,
          834,
          835,
          836,
          837,
          838,
          839,
          840,
          841,
          842,
          843,
          844,
          845,
          846,
          847,
          848,
          849,
          850,
          851,
          852,
          853,
          854,
          855,
          856,
          857,
          858,
          859,
          860,
          861,
          862,
          863,
          864,
          865,
          866,
          867,
          868,
          869,
          870,
          871,
          872,
          873,
          874,
          875,
          876,
          877,
          878,
          879,
          880,
          881,
          882,
          883,
          884,
          885,
          886,
          887,
          888,
          889,
          890,
          891,
          892,
          893,
          894,
          895,
          896,
          897,
          898,
          899,
          900,
          901,
          902,
          903,
          904,
          905,
          906,
          907,
          908,
          909,
          910,
          911,
          912,
          913,
          914,
          915,
          916,
          917,
          918,
          919,
          920,
          921,
          922,
          923,
          924,
          925,
          926,
          927,
          928,
          929,
          930,
          931,
          932,
          933,
          934,
          935,
          936,
          937,
          938,
          939,
          940,
          941,
          942,
          943,
          944,
          945,
          946,
          947,
          948,
          949,
          950,
          951,
          952,
          953,
          954,
          955,
          956,
          957,
          958,
          959,
          960
         ],
         "y": [
          1,
          1,
          1,
          1,
          1,
          1,
          1,
          1,
          1,
          1,
          1,
          1,
          1,
          1,
          1,
          1,
          1,
          1,
          1,
          1,
          1,
          1,
          1,
          1,
          1,
          1,
          1,
          1,
          1,
          1,
          2,
          2,
          2,
          2,
          2,
          2,
          2,
          2,
          2,
          2,
          2,
          2,
          2,
          2,
          2,
          2,
          2,
          2,
          2,
          2,
          2,
          2,
          3,
          3,
          3,
          3,
          3,
          3,
          3,
          3,
          3,
          3,
          3,
          3,
          3,
          3,
          3,
          3,
          3,
          3,
          4,
          4,
          4,
          4,
          4,
          4,
          4,
          4,
          4,
          4,
          4,
          4,
          4,
          4,
          4,
          5,
          5,
          5,
          5,
          5,
          5,
          5,
          5,
          5,
          5,
          5,
          5,
          5,
          5,
          6,
          6,
          6,
          6,
          6,
          6,
          6,
          6,
          6,
          6,
          6,
          6,
          6,
          6,
          6,
          6,
          6,
          6,
          6,
          6,
          6,
          6,
          7,
          7,
          7,
          7,
          7,
          7,
          7,
          7,
          7,
          7,
          7,
          7,
          7,
          7,
          7,
          7,
          7,
          7,
          7,
          7,
          7,
          7,
          7,
          7,
          7,
          7,
          7,
          7,
          7,
          7,
          7,
          7,
          7,
          7,
          7,
          7,
          7,
          7,
          7,
          7,
          7,
          7,
          7,
          7,
          7,
          7,
          7,
          7,
          7,
          7,
          7,
          7,
          7,
          7,
          7,
          7,
          7,
          7,
          7,
          7,
          7,
          7,
          7,
          7,
          7,
          7,
          7,
          7,
          7,
          7,
          7,
          7,
          7,
          7,
          7,
          7,
          7,
          7,
          7,
          7,
          7,
          7,
          7,
          7,
          7,
          7,
          7,
          7,
          8,
          8,
          8,
          8,
          8,
          8,
          8,
          8,
          8,
          8,
          8,
          8,
          8,
          8,
          8,
          8,
          8,
          8,
          8,
          8,
          8,
          8,
          8,
          8,
          8,
          8,
          8,
          8,
          8,
          8,
          8,
          8,
          8,
          8,
          8,
          8,
          8,
          8,
          8,
          8,
          8,
          8,
          8,
          8,
          8,
          7,
          7,
          7,
          7,
          7,
          7,
          7,
          7,
          7,
          7,
          7,
          7,
          7,
          7,
          7,
          7,
          7,
          7,
          7,
          7,
          7,
          7,
          7,
          6,
          6,
          6,
          6,
          6,
          6,
          6,
          6,
          6,
          6,
          6,
          6,
          6,
          6,
          6,
          6,
          6,
          6,
          6,
          6,
          6,
          6,
          6,
          6,
          6,
          6,
          6,
          6,
          6,
          6,
          6,
          6,
          6,
          6,
          6,
          6,
          6,
          6,
          6,
          6,
          6,
          6,
          6,
          6,
          6,
          6,
          6,
          6,
          6,
          6,
          6,
          6,
          6,
          6,
          6,
          6,
          6,
          6,
          6,
          6,
          6,
          6,
          6,
          6,
          6,
          6,
          6,
          6,
          6,
          6,
          6,
          6,
          6,
          6,
          6,
          6,
          6,
          6,
          6,
          6,
          6,
          6,
          6,
          6,
          6,
          6,
          6,
          6,
          6,
          6,
          6,
          5,
          5,
          5,
          5,
          5,
          5,
          5,
          5,
          5,
          5,
          5,
          5,
          5,
          5,
          5,
          5,
          5,
          5,
          5,
          5,
          5,
          4,
          4,
          4,
          4,
          4,
          4,
          4,
          4,
          4,
          4,
          4,
          4,
          4,
          4,
          4,
          4,
          4,
          4,
          4,
          3,
          3,
          3,
          3,
          3,
          3,
          3,
          3,
          3,
          3,
          3,
          3,
          3,
          3,
          3,
          3,
          3,
          3,
          3,
          3,
          3,
          3,
          3,
          2,
          2,
          2,
          2,
          2,
          2,
          2,
          2,
          2,
          2,
          2,
          2,
          2,
          2,
          2,
          2,
          2,
          2,
          2,
          2,
          2,
          2,
          2,
          2,
          2,
          2,
          2,
          2,
          2,
          2,
          2,
          2,
          2,
          2,
          2,
          2,
          2,
          2,
          2,
          2,
          2,
          2,
          2,
          2,
          2,
          2,
          2,
          2,
          2,
          2
         ]
        }
       ],
       "layout": {
        "legend": {
         "tracegroupgap": 0
        },
        "margin": {
         "t": 60
        },
        "template": {
         "data": {
          "bar": [
           {
            "error_x": {
             "color": "#2a3f5f"
            },
            "error_y": {
             "color": "#2a3f5f"
            },
            "marker": {
             "line": {
              "color": "white",
              "width": 0.5
             },
             "pattern": {
              "fillmode": "overlay",
              "size": 10,
              "solidity": 0.2
             }
            },
            "type": "bar"
           }
          ],
          "barpolar": [
           {
            "marker": {
             "line": {
              "color": "white",
              "width": 0.5
             },
             "pattern": {
              "fillmode": "overlay",
              "size": 10,
              "solidity": 0.2
             }
            },
            "type": "barpolar"
           }
          ],
          "carpet": [
           {
            "aaxis": {
             "endlinecolor": "#2a3f5f",
             "gridcolor": "#C8D4E3",
             "linecolor": "#C8D4E3",
             "minorgridcolor": "#C8D4E3",
             "startlinecolor": "#2a3f5f"
            },
            "baxis": {
             "endlinecolor": "#2a3f5f",
             "gridcolor": "#C8D4E3",
             "linecolor": "#C8D4E3",
             "minorgridcolor": "#C8D4E3",
             "startlinecolor": "#2a3f5f"
            },
            "type": "carpet"
           }
          ],
          "choropleth": [
           {
            "colorbar": {
             "outlinewidth": 0,
             "ticks": ""
            },
            "type": "choropleth"
           }
          ],
          "contour": [
           {
            "colorbar": {
             "outlinewidth": 0,
             "ticks": ""
            },
            "colorscale": [
             [
              0,
              "#0d0887"
             ],
             [
              0.1111111111111111,
              "#46039f"
             ],
             [
              0.2222222222222222,
              "#7201a8"
             ],
             [
              0.3333333333333333,
              "#9c179e"
             ],
             [
              0.4444444444444444,
              "#bd3786"
             ],
             [
              0.5555555555555556,
              "#d8576b"
             ],
             [
              0.6666666666666666,
              "#ed7953"
             ],
             [
              0.7777777777777778,
              "#fb9f3a"
             ],
             [
              0.8888888888888888,
              "#fdca26"
             ],
             [
              1,
              "#f0f921"
             ]
            ],
            "type": "contour"
           }
          ],
          "contourcarpet": [
           {
            "colorbar": {
             "outlinewidth": 0,
             "ticks": ""
            },
            "type": "contourcarpet"
           }
          ],
          "heatmap": [
           {
            "colorbar": {
             "outlinewidth": 0,
             "ticks": ""
            },
            "colorscale": [
             [
              0,
              "#0d0887"
             ],
             [
              0.1111111111111111,
              "#46039f"
             ],
             [
              0.2222222222222222,
              "#7201a8"
             ],
             [
              0.3333333333333333,
              "#9c179e"
             ],
             [
              0.4444444444444444,
              "#bd3786"
             ],
             [
              0.5555555555555556,
              "#d8576b"
             ],
             [
              0.6666666666666666,
              "#ed7953"
             ],
             [
              0.7777777777777778,
              "#fb9f3a"
             ],
             [
              0.8888888888888888,
              "#fdca26"
             ],
             [
              1,
              "#f0f921"
             ]
            ],
            "type": "heatmap"
           }
          ],
          "heatmapgl": [
           {
            "colorbar": {
             "outlinewidth": 0,
             "ticks": ""
            },
            "colorscale": [
             [
              0,
              "#0d0887"
             ],
             [
              0.1111111111111111,
              "#46039f"
             ],
             [
              0.2222222222222222,
              "#7201a8"
             ],
             [
              0.3333333333333333,
              "#9c179e"
             ],
             [
              0.4444444444444444,
              "#bd3786"
             ],
             [
              0.5555555555555556,
              "#d8576b"
             ],
             [
              0.6666666666666666,
              "#ed7953"
             ],
             [
              0.7777777777777778,
              "#fb9f3a"
             ],
             [
              0.8888888888888888,
              "#fdca26"
             ],
             [
              1,
              "#f0f921"
             ]
            ],
            "type": "heatmapgl"
           }
          ],
          "histogram": [
           {
            "marker": {
             "pattern": {
              "fillmode": "overlay",
              "size": 10,
              "solidity": 0.2
             }
            },
            "type": "histogram"
           }
          ],
          "histogram2d": [
           {
            "colorbar": {
             "outlinewidth": 0,
             "ticks": ""
            },
            "colorscale": [
             [
              0,
              "#0d0887"
             ],
             [
              0.1111111111111111,
              "#46039f"
             ],
             [
              0.2222222222222222,
              "#7201a8"
             ],
             [
              0.3333333333333333,
              "#9c179e"
             ],
             [
              0.4444444444444444,
              "#bd3786"
             ],
             [
              0.5555555555555556,
              "#d8576b"
             ],
             [
              0.6666666666666666,
              "#ed7953"
             ],
             [
              0.7777777777777778,
              "#fb9f3a"
             ],
             [
              0.8888888888888888,
              "#fdca26"
             ],
             [
              1,
              "#f0f921"
             ]
            ],
            "type": "histogram2d"
           }
          ],
          "histogram2dcontour": [
           {
            "colorbar": {
             "outlinewidth": 0,
             "ticks": ""
            },
            "colorscale": [
             [
              0,
              "#0d0887"
             ],
             [
              0.1111111111111111,
              "#46039f"
             ],
             [
              0.2222222222222222,
              "#7201a8"
             ],
             [
              0.3333333333333333,
              "#9c179e"
             ],
             [
              0.4444444444444444,
              "#bd3786"
             ],
             [
              0.5555555555555556,
              "#d8576b"
             ],
             [
              0.6666666666666666,
              "#ed7953"
             ],
             [
              0.7777777777777778,
              "#fb9f3a"
             ],
             [
              0.8888888888888888,
              "#fdca26"
             ],
             [
              1,
              "#f0f921"
             ]
            ],
            "type": "histogram2dcontour"
           }
          ],
          "mesh3d": [
           {
            "colorbar": {
             "outlinewidth": 0,
             "ticks": ""
            },
            "type": "mesh3d"
           }
          ],
          "parcoords": [
           {
            "line": {
             "colorbar": {
              "outlinewidth": 0,
              "ticks": ""
             }
            },
            "type": "parcoords"
           }
          ],
          "pie": [
           {
            "automargin": true,
            "type": "pie"
           }
          ],
          "scatter": [
           {
            "marker": {
             "colorbar": {
              "outlinewidth": 0,
              "ticks": ""
             }
            },
            "type": "scatter"
           }
          ],
          "scatter3d": [
           {
            "line": {
             "colorbar": {
              "outlinewidth": 0,
              "ticks": ""
             }
            },
            "marker": {
             "colorbar": {
              "outlinewidth": 0,
              "ticks": ""
             }
            },
            "type": "scatter3d"
           }
          ],
          "scattercarpet": [
           {
            "marker": {
             "colorbar": {
              "outlinewidth": 0,
              "ticks": ""
             }
            },
            "type": "scattercarpet"
           }
          ],
          "scattergeo": [
           {
            "marker": {
             "colorbar": {
              "outlinewidth": 0,
              "ticks": ""
             }
            },
            "type": "scattergeo"
           }
          ],
          "scattergl": [
           {
            "marker": {
             "colorbar": {
              "outlinewidth": 0,
              "ticks": ""
             }
            },
            "type": "scattergl"
           }
          ],
          "scattermapbox": [
           {
            "marker": {
             "colorbar": {
              "outlinewidth": 0,
              "ticks": ""
             }
            },
            "type": "scattermapbox"
           }
          ],
          "scatterpolar": [
           {
            "marker": {
             "colorbar": {
              "outlinewidth": 0,
              "ticks": ""
             }
            },
            "type": "scatterpolar"
           }
          ],
          "scatterpolargl": [
           {
            "marker": {
             "colorbar": {
              "outlinewidth": 0,
              "ticks": ""
             }
            },
            "type": "scatterpolargl"
           }
          ],
          "scatterternary": [
           {
            "marker": {
             "colorbar": {
              "outlinewidth": 0,
              "ticks": ""
             }
            },
            "type": "scatterternary"
           }
          ],
          "surface": [
           {
            "colorbar": {
             "outlinewidth": 0,
             "ticks": ""
            },
            "colorscale": [
             [
              0,
              "#0d0887"
             ],
             [
              0.1111111111111111,
              "#46039f"
             ],
             [
              0.2222222222222222,
              "#7201a8"
             ],
             [
              0.3333333333333333,
              "#9c179e"
             ],
             [
              0.4444444444444444,
              "#bd3786"
             ],
             [
              0.5555555555555556,
              "#d8576b"
             ],
             [
              0.6666666666666666,
              "#ed7953"
             ],
             [
              0.7777777777777778,
              "#fb9f3a"
             ],
             [
              0.8888888888888888,
              "#fdca26"
             ],
             [
              1,
              "#f0f921"
             ]
            ],
            "type": "surface"
           }
          ],
          "table": [
           {
            "cells": {
             "fill": {
              "color": "#EBF0F8"
             },
             "line": {
              "color": "white"
             }
            },
            "header": {
             "fill": {
              "color": "#C8D4E3"
             },
             "line": {
              "color": "white"
             }
            },
            "type": "table"
           }
          ]
         },
         "layout": {
          "annotationdefaults": {
           "arrowcolor": "#2a3f5f",
           "arrowhead": 0,
           "arrowwidth": 1
          },
          "autotypenumbers": "strict",
          "coloraxis": {
           "colorbar": {
            "outlinewidth": 0,
            "ticks": ""
           }
          },
          "colorscale": {
           "diverging": [
            [
             0,
             "#8e0152"
            ],
            [
             0.1,
             "#c51b7d"
            ],
            [
             0.2,
             "#de77ae"
            ],
            [
             0.3,
             "#f1b6da"
            ],
            [
             0.4,
             "#fde0ef"
            ],
            [
             0.5,
             "#f7f7f7"
            ],
            [
             0.6,
             "#e6f5d0"
            ],
            [
             0.7,
             "#b8e186"
            ],
            [
             0.8,
             "#7fbc41"
            ],
            [
             0.9,
             "#4d9221"
            ],
            [
             1,
             "#276419"
            ]
           ],
           "sequential": [
            [
             0,
             "#0d0887"
            ],
            [
             0.1111111111111111,
             "#46039f"
            ],
            [
             0.2222222222222222,
             "#7201a8"
            ],
            [
             0.3333333333333333,
             "#9c179e"
            ],
            [
             0.4444444444444444,
             "#bd3786"
            ],
            [
             0.5555555555555556,
             "#d8576b"
            ],
            [
             0.6666666666666666,
             "#ed7953"
            ],
            [
             0.7777777777777778,
             "#fb9f3a"
            ],
            [
             0.8888888888888888,
             "#fdca26"
            ],
            [
             1,
             "#f0f921"
            ]
           ],
           "sequentialminus": [
            [
             0,
             "#0d0887"
            ],
            [
             0.1111111111111111,
             "#46039f"
            ],
            [
             0.2222222222222222,
             "#7201a8"
            ],
            [
             0.3333333333333333,
             "#9c179e"
            ],
            [
             0.4444444444444444,
             "#bd3786"
            ],
            [
             0.5555555555555556,
             "#d8576b"
            ],
            [
             0.6666666666666666,
             "#ed7953"
            ],
            [
             0.7777777777777778,
             "#fb9f3a"
            ],
            [
             0.8888888888888888,
             "#fdca26"
            ],
            [
             1,
             "#f0f921"
            ]
           ]
          },
          "colorway": [
           "#636efa",
           "#EF553B",
           "#00cc96",
           "#ab63fa",
           "#FFA15A",
           "#19d3f3",
           "#FF6692",
           "#B6E880",
           "#FF97FF",
           "#FECB52"
          ],
          "font": {
           "color": "#2a3f5f"
          },
          "geo": {
           "bgcolor": "white",
           "lakecolor": "white",
           "landcolor": "white",
           "showlakes": true,
           "showland": true,
           "subunitcolor": "#C8D4E3"
          },
          "hoverlabel": {
           "align": "left"
          },
          "hovermode": "closest",
          "mapbox": {
           "style": "light"
          },
          "paper_bgcolor": "white",
          "plot_bgcolor": "white",
          "polar": {
           "angularaxis": {
            "gridcolor": "#EBF0F8",
            "linecolor": "#EBF0F8",
            "ticks": ""
           },
           "bgcolor": "white",
           "radialaxis": {
            "gridcolor": "#EBF0F8",
            "linecolor": "#EBF0F8",
            "ticks": ""
           }
          },
          "scene": {
           "xaxis": {
            "backgroundcolor": "white",
            "gridcolor": "#DFE8F3",
            "gridwidth": 2,
            "linecolor": "#EBF0F8",
            "showbackground": true,
            "ticks": "",
            "zerolinecolor": "#EBF0F8"
           },
           "yaxis": {
            "backgroundcolor": "white",
            "gridcolor": "#DFE8F3",
            "gridwidth": 2,
            "linecolor": "#EBF0F8",
            "showbackground": true,
            "ticks": "",
            "zerolinecolor": "#EBF0F8"
           },
           "zaxis": {
            "backgroundcolor": "white",
            "gridcolor": "#DFE8F3",
            "gridwidth": 2,
            "linecolor": "#EBF0F8",
            "showbackground": true,
            "ticks": "",
            "zerolinecolor": "#EBF0F8"
           }
          },
          "shapedefaults": {
           "line": {
            "color": "#2a3f5f"
           }
          },
          "ternary": {
           "aaxis": {
            "gridcolor": "#DFE8F3",
            "linecolor": "#A2B1C6",
            "ticks": ""
           },
           "baxis": {
            "gridcolor": "#DFE8F3",
            "linecolor": "#A2B1C6",
            "ticks": ""
           },
           "bgcolor": "white",
           "caxis": {
            "gridcolor": "#DFE8F3",
            "linecolor": "#A2B1C6",
            "ticks": ""
           }
          },
          "title": {
           "x": 0.05
          },
          "xaxis": {
           "automargin": true,
           "gridcolor": "#EBF0F8",
           "linecolor": "#EBF0F8",
           "ticks": "",
           "title": {
            "standoff": 15
           },
           "zerolinecolor": "#EBF0F8",
           "zerolinewidth": 2
          },
          "yaxis": {
           "automargin": true,
           "gridcolor": "#EBF0F8",
           "linecolor": "#EBF0F8",
           "ticks": "",
           "title": {
            "standoff": 15
           },
           "zerolinecolor": "#EBF0F8",
           "zerolinewidth": 2
          }
         }
        },
        "title": {
         "font": {
          "size": 24
         },
         "text": "Anzahl wartender und ladender BEVs im Tagesverlauf",
         "x": 0.5,
         "xanchor": "center"
        },
        "xaxis": {
         "anchor": "y",
         "domain": [
          0,
          1
         ],
         "title": {
          "text": "Minuten"
         }
        },
        "yaxis": {
         "anchor": "x",
         "domain": [
          0,
          1
         ],
         "title": {
          "text": "Anzahl BEVs"
         }
        }
       }
      },
      "text/html": [
       "<div>                            <div id=\"c6631361-2bde-4db4-bfef-284cec38b003\" class=\"plotly-graph-div\" style=\"height:525px; width:100%;\"></div>            <script type=\"text/javascript\">                require([\"plotly\"], function(Plotly) {                    window.PLOTLYENV=window.PLOTLYENV || {};                                    if (document.getElementById(\"c6631361-2bde-4db4-bfef-284cec38b003\")) {                    Plotly.newPlot(                        \"c6631361-2bde-4db4-bfef-284cec38b003\",                        [{\"line\":{\"color\":\"orange\"},\"name\":\"Wartende BEVs\",\"x\":[480,481,482,483,484,485,486,487,488,489,490,491,492,493,494,495,496,497,498,499,500,501,502,503,504,505,506,507,508,509,510,511,512,513,514,515,516,517,518,519,520,521,522,523,524,525,526,527,528,529,530,531,532,533,534,535,536,537,538,539,540,541,542,543,544,545,546,547,548,549,550,551,552,553,554,555,556,557,558,559,560,561,562,563,564,565,566,567,568,569,570,571,572,573,574,575,576,577,578,579,580,581,582,583,584,585,586,587,588,589,590,591,592,593,594,595,596,597,598,599,600,601,602,603,604,605,606,607,608,609,610,611,612,613,614,615,616,617,618,619,620,621,622,623,624,625,626,627,628,629,630,631,632,633,634,635,636,637,638,639,640,641,642,643,644,645,646,647,648,649,650,651,652,653,654,655,656,657,658,659,660,661,662,663,664,665,666,667,668,669,670,671,672,673,674,675,676,677,678,679,680,681,682,683,684,685,686,687,688,689,690,691,692,693,694,695,696,697,698,699,700,701,702,703,704,705,706,707,708,709,710,711,712,713,714,715,716,717,718,719,720,721,722,723,724,725,726,727,728,729,730,731,732,733,734,735,736,737,738,739,740,741,742,743,744,745,746,747,748,749,750,751,752,753,754,755,756,757,758,759,760,761,762,763,764,765,766,767,768,769,770,771,772,773,774,775,776,777,778,779,780,781,782,783,784,785,786,787,788,789,790,791,792,793,794,795,796,797,798,799,800,801,802,803,804,805,806,807,808,809,810,811,812,813,814,815,816,817,818,819,820,821,822,823,824,825,826,827,828,829,830,831,832,833,834,835,836,837,838,839,840,841,842,843,844,845,846,847,848,849,850,851,852,853,854,855,856,857,858,859,860,861,862,863,864,865,866,867,868,869,870,871,872,873,874,875,876,877,878,879,880,881,882,883,884,885,886,887,888,889,890,891,892,893,894,895,896,897,898,899,900,901,902,903,904,905,906,907,908,909,910,911,912,913,914,915,916,917,918,919,920,921,922,923,924,925,926,927,928,929,930,931,932,933,934,935,936,937,938,939,940,941,942,943,944,945,946,947,948,949,950,951,952,953,954,955,956,957,958,959,960],\"y\":[14,14,14,14,14,14,14,14,14,14,14,14,14,14,14,14,14,14,14,14,14,14,14,14,14,14,14,14,14,14,42,42,42,42,42,42,42,42,42,42,42,42,42,42,42,42,42,42,42,42,42,42,41,41,41,41,41,41,41,41,51,51,51,51,51,51,51,51,51,51,50,50,50,50,50,50,50,50,50,50,50,50,49,49,49,48,48,48,48,48,48,48,48,48,48,48,48,48,48,47,46,46,46,46,46,46,46,46,46,46,46,46,45,45,45,44,44,44,44,44,42,41,41,41,41,41,41,41,41,40,39,39,39,39,39,39,39,39,39,39,39,39,38,38,38,37,37,37,37,37,36,35,35,35,35,35,35,35,35,34,33,33,33,33,33,33,33,33,33,33,33,33,32,32,32,31,31,31,31,31,30,29,29,29,29,29,29,29,29,28,27,27,27,27,27,27,27,27,27,27,27,27,26,26,26,25,25,25,25,24,22,21,21,21,21,21,21,21,21,20,19,19,19,19,19,19,19,19,19,19,19,19,18,18,18,17,17,17,17,16,20,19,19,19,19,19,19,19,19,18,17,17,17,17,17,17,17,17,16,16,16,16,16,16,16,15,15,15,15,14,24,23,23,23,23,23,23,23,23,23,22,22,22,22,22,22,22,22,21,21,21,21,21,21,21,20,20,20,20,19,32,31,31,31,31,31,31,31,31,31,31,31,31,31,31,31,31,31,31,31,31,31,31,31,31,30,30,30,30,29,28,27,27,27,27,27,27,27,27,27,27,27,27,27,27,27,27,27,27,27,27,27,27,27,27,26,26,26,26,25,23,22,22,22,22,22,22,22,22,22,22,22,22,22,22,22,22,22,22,22,22,22,22,22,22,22,22,22,22,22,20,19,19,19,19,19,19,19,19,19,19,19,19,19,19,19,19,19,19,19,19,19,19,19,19,19,19,19,19,19,17,16,16,16,16,16,16,16,16,16,16,16,16,16,16,16,16,16,16,16,16,16,16,16,16,16,16,16,16,16,15,14,14,14,14,14,14,14,14,14,14,14,14,14,14,14,14,14,14,14,14,14,14,14,14,14,14,14,14,14,13],\"type\":\"scatter\"},{\"line\":{\"color\":\"green\"},\"name\":\"Ladende BEVs\",\"x\":[480,481,482,483,484,485,486,487,488,489,490,491,492,493,494,495,496,497,498,499,500,501,502,503,504,505,506,507,508,509,510,511,512,513,514,515,516,517,518,519,520,521,522,523,524,525,526,527,528,529,530,531,532,533,534,535,536,537,538,539,540,541,542,543,544,545,546,547,548,549,550,551,552,553,554,555,556,557,558,559,560,561,562,563,564,565,566,567,568,569,570,571,572,573,574,575,576,577,578,579,580,581,582,583,584,585,586,587,588,589,590,591,592,593,594,595,596,597,598,599,600,601,602,603,604,605,606,607,608,609,610,611,612,613,614,615,616,617,618,619,620,621,622,623,624,625,626,627,628,629,630,631,632,633,634,635,636,637,638,639,640,641,642,643,644,645,646,647,648,649,650,651,652,653,654,655,656,657,658,659,660,661,662,663,664,665,666,667,668,669,670,671,672,673,674,675,676,677,678,679,680,681,682,683,684,685,686,687,688,689,690,691,692,693,694,695,696,697,698,699,700,701,702,703,704,705,706,707,708,709,710,711,712,713,714,715,716,717,718,719,720,721,722,723,724,725,726,727,728,729,730,731,732,733,734,735,736,737,738,739,740,741,742,743,744,745,746,747,748,749,750,751,752,753,754,755,756,757,758,759,760,761,762,763,764,765,766,767,768,769,770,771,772,773,774,775,776,777,778,779,780,781,782,783,784,785,786,787,788,789,790,791,792,793,794,795,796,797,798,799,800,801,802,803,804,805,806,807,808,809,810,811,812,813,814,815,816,817,818,819,820,821,822,823,824,825,826,827,828,829,830,831,832,833,834,835,836,837,838,839,840,841,842,843,844,845,846,847,848,849,850,851,852,853,854,855,856,857,858,859,860,861,862,863,864,865,866,867,868,869,870,871,872,873,874,875,876,877,878,879,880,881,882,883,884,885,886,887,888,889,890,891,892,893,894,895,896,897,898,899,900,901,902,903,904,905,906,907,908,909,910,911,912,913,914,915,916,917,918,919,920,921,922,923,924,925,926,927,928,929,930,931,932,933,934,935,936,937,938,939,940,941,942,943,944,945,946,947,948,949,950,951,952,953,954,955,956,957,958,959,960],\"y\":[1,1,1,1,1,1,1,1,1,1,1,1,1,1,1,1,1,1,1,1,1,1,1,1,1,1,1,1,1,1,2,2,2,2,2,2,2,2,2,2,2,2,2,2,2,2,2,2,2,2,2,2,3,3,3,3,3,3,3,3,3,3,3,3,3,3,3,3,3,3,4,4,4,4,4,4,4,4,4,4,4,4,4,4,4,5,5,5,5,5,5,5,5,5,5,5,5,5,5,6,6,6,6,6,6,6,6,6,6,6,6,6,6,6,6,6,6,6,6,6,6,7,7,7,7,7,7,7,7,7,7,7,7,7,7,7,7,7,7,7,7,7,7,7,7,7,7,7,7,7,7,7,7,7,7,7,7,7,7,7,7,7,7,7,7,7,7,7,7,7,7,7,7,7,7,7,7,7,7,7,7,7,7,7,7,7,7,7,7,7,7,7,7,7,7,7,7,7,7,7,7,7,7,7,7,7,7,7,7,8,8,8,8,8,8,8,8,8,8,8,8,8,8,8,8,8,8,8,8,8,8,8,8,8,8,8,8,8,8,8,8,8,8,8,8,8,8,8,8,8,8,8,8,8,7,7,7,7,7,7,7,7,7,7,7,7,7,7,7,7,7,7,7,7,7,7,7,6,6,6,6,6,6,6,6,6,6,6,6,6,6,6,6,6,6,6,6,6,6,6,6,6,6,6,6,6,6,6,6,6,6,6,6,6,6,6,6,6,6,6,6,6,6,6,6,6,6,6,6,6,6,6,6,6,6,6,6,6,6,6,6,6,6,6,6,6,6,6,6,6,6,6,6,6,6,6,6,6,6,6,6,6,6,6,6,6,6,6,5,5,5,5,5,5,5,5,5,5,5,5,5,5,5,5,5,5,5,5,5,4,4,4,4,4,4,4,4,4,4,4,4,4,4,4,4,4,4,4,3,3,3,3,3,3,3,3,3,3,3,3,3,3,3,3,3,3,3,3,3,3,3,2,2,2,2,2,2,2,2,2,2,2,2,2,2,2,2,2,2,2,2,2,2,2,2,2,2,2,2,2,2,2,2,2,2,2,2,2,2,2,2,2,2,2,2,2,2,2,2,2,2],\"type\":\"scatter\"}],                        {\"template\":{\"data\":{\"barpolar\":[{\"marker\":{\"line\":{\"color\":\"white\",\"width\":0.5},\"pattern\":{\"fillmode\":\"overlay\",\"size\":10,\"solidity\":0.2}},\"type\":\"barpolar\"}],\"bar\":[{\"error_x\":{\"color\":\"#2a3f5f\"},\"error_y\":{\"color\":\"#2a3f5f\"},\"marker\":{\"line\":{\"color\":\"white\",\"width\":0.5},\"pattern\":{\"fillmode\":\"overlay\",\"size\":10,\"solidity\":0.2}},\"type\":\"bar\"}],\"carpet\":[{\"aaxis\":{\"endlinecolor\":\"#2a3f5f\",\"gridcolor\":\"#C8D4E3\",\"linecolor\":\"#C8D4E3\",\"minorgridcolor\":\"#C8D4E3\",\"startlinecolor\":\"#2a3f5f\"},\"baxis\":{\"endlinecolor\":\"#2a3f5f\",\"gridcolor\":\"#C8D4E3\",\"linecolor\":\"#C8D4E3\",\"minorgridcolor\":\"#C8D4E3\",\"startlinecolor\":\"#2a3f5f\"},\"type\":\"carpet\"}],\"choropleth\":[{\"colorbar\":{\"outlinewidth\":0,\"ticks\":\"\"},\"type\":\"choropleth\"}],\"contourcarpet\":[{\"colorbar\":{\"outlinewidth\":0,\"ticks\":\"\"},\"type\":\"contourcarpet\"}],\"contour\":[{\"colorbar\":{\"outlinewidth\":0,\"ticks\":\"\"},\"colorscale\":[[0.0,\"#0d0887\"],[0.1111111111111111,\"#46039f\"],[0.2222222222222222,\"#7201a8\"],[0.3333333333333333,\"#9c179e\"],[0.4444444444444444,\"#bd3786\"],[0.5555555555555556,\"#d8576b\"],[0.6666666666666666,\"#ed7953\"],[0.7777777777777778,\"#fb9f3a\"],[0.8888888888888888,\"#fdca26\"],[1.0,\"#f0f921\"]],\"type\":\"contour\"}],\"heatmapgl\":[{\"colorbar\":{\"outlinewidth\":0,\"ticks\":\"\"},\"colorscale\":[[0.0,\"#0d0887\"],[0.1111111111111111,\"#46039f\"],[0.2222222222222222,\"#7201a8\"],[0.3333333333333333,\"#9c179e\"],[0.4444444444444444,\"#bd3786\"],[0.5555555555555556,\"#d8576b\"],[0.6666666666666666,\"#ed7953\"],[0.7777777777777778,\"#fb9f3a\"],[0.8888888888888888,\"#fdca26\"],[1.0,\"#f0f921\"]],\"type\":\"heatmapgl\"}],\"heatmap\":[{\"colorbar\":{\"outlinewidth\":0,\"ticks\":\"\"},\"colorscale\":[[0.0,\"#0d0887\"],[0.1111111111111111,\"#46039f\"],[0.2222222222222222,\"#7201a8\"],[0.3333333333333333,\"#9c179e\"],[0.4444444444444444,\"#bd3786\"],[0.5555555555555556,\"#d8576b\"],[0.6666666666666666,\"#ed7953\"],[0.7777777777777778,\"#fb9f3a\"],[0.8888888888888888,\"#fdca26\"],[1.0,\"#f0f921\"]],\"type\":\"heatmap\"}],\"histogram2dcontour\":[{\"colorbar\":{\"outlinewidth\":0,\"ticks\":\"\"},\"colorscale\":[[0.0,\"#0d0887\"],[0.1111111111111111,\"#46039f\"],[0.2222222222222222,\"#7201a8\"],[0.3333333333333333,\"#9c179e\"],[0.4444444444444444,\"#bd3786\"],[0.5555555555555556,\"#d8576b\"],[0.6666666666666666,\"#ed7953\"],[0.7777777777777778,\"#fb9f3a\"],[0.8888888888888888,\"#fdca26\"],[1.0,\"#f0f921\"]],\"type\":\"histogram2dcontour\"}],\"histogram2d\":[{\"colorbar\":{\"outlinewidth\":0,\"ticks\":\"\"},\"colorscale\":[[0.0,\"#0d0887\"],[0.1111111111111111,\"#46039f\"],[0.2222222222222222,\"#7201a8\"],[0.3333333333333333,\"#9c179e\"],[0.4444444444444444,\"#bd3786\"],[0.5555555555555556,\"#d8576b\"],[0.6666666666666666,\"#ed7953\"],[0.7777777777777778,\"#fb9f3a\"],[0.8888888888888888,\"#fdca26\"],[1.0,\"#f0f921\"]],\"type\":\"histogram2d\"}],\"histogram\":[{\"marker\":{\"pattern\":{\"fillmode\":\"overlay\",\"size\":10,\"solidity\":0.2}},\"type\":\"histogram\"}],\"mesh3d\":[{\"colorbar\":{\"outlinewidth\":0,\"ticks\":\"\"},\"type\":\"mesh3d\"}],\"parcoords\":[{\"line\":{\"colorbar\":{\"outlinewidth\":0,\"ticks\":\"\"}},\"type\":\"parcoords\"}],\"pie\":[{\"automargin\":true,\"type\":\"pie\"}],\"scatter3d\":[{\"line\":{\"colorbar\":{\"outlinewidth\":0,\"ticks\":\"\"}},\"marker\":{\"colorbar\":{\"outlinewidth\":0,\"ticks\":\"\"}},\"type\":\"scatter3d\"}],\"scattercarpet\":[{\"marker\":{\"colorbar\":{\"outlinewidth\":0,\"ticks\":\"\"}},\"type\":\"scattercarpet\"}],\"scattergeo\":[{\"marker\":{\"colorbar\":{\"outlinewidth\":0,\"ticks\":\"\"}},\"type\":\"scattergeo\"}],\"scattergl\":[{\"marker\":{\"colorbar\":{\"outlinewidth\":0,\"ticks\":\"\"}},\"type\":\"scattergl\"}],\"scattermapbox\":[{\"marker\":{\"colorbar\":{\"outlinewidth\":0,\"ticks\":\"\"}},\"type\":\"scattermapbox\"}],\"scatterpolargl\":[{\"marker\":{\"colorbar\":{\"outlinewidth\":0,\"ticks\":\"\"}},\"type\":\"scatterpolargl\"}],\"scatterpolar\":[{\"marker\":{\"colorbar\":{\"outlinewidth\":0,\"ticks\":\"\"}},\"type\":\"scatterpolar\"}],\"scatter\":[{\"marker\":{\"colorbar\":{\"outlinewidth\":0,\"ticks\":\"\"}},\"type\":\"scatter\"}],\"scatterternary\":[{\"marker\":{\"colorbar\":{\"outlinewidth\":0,\"ticks\":\"\"}},\"type\":\"scatterternary\"}],\"surface\":[{\"colorbar\":{\"outlinewidth\":0,\"ticks\":\"\"},\"colorscale\":[[0.0,\"#0d0887\"],[0.1111111111111111,\"#46039f\"],[0.2222222222222222,\"#7201a8\"],[0.3333333333333333,\"#9c179e\"],[0.4444444444444444,\"#bd3786\"],[0.5555555555555556,\"#d8576b\"],[0.6666666666666666,\"#ed7953\"],[0.7777777777777778,\"#fb9f3a\"],[0.8888888888888888,\"#fdca26\"],[1.0,\"#f0f921\"]],\"type\":\"surface\"}],\"table\":[{\"cells\":{\"fill\":{\"color\":\"#EBF0F8\"},\"line\":{\"color\":\"white\"}},\"header\":{\"fill\":{\"color\":\"#C8D4E3\"},\"line\":{\"color\":\"white\"}},\"type\":\"table\"}]},\"layout\":{\"annotationdefaults\":{\"arrowcolor\":\"#2a3f5f\",\"arrowhead\":0,\"arrowwidth\":1},\"autotypenumbers\":\"strict\",\"coloraxis\":{\"colorbar\":{\"outlinewidth\":0,\"ticks\":\"\"}},\"colorscale\":{\"diverging\":[[0,\"#8e0152\"],[0.1,\"#c51b7d\"],[0.2,\"#de77ae\"],[0.3,\"#f1b6da\"],[0.4,\"#fde0ef\"],[0.5,\"#f7f7f7\"],[0.6,\"#e6f5d0\"],[0.7,\"#b8e186\"],[0.8,\"#7fbc41\"],[0.9,\"#4d9221\"],[1,\"#276419\"]],\"sequential\":[[0.0,\"#0d0887\"],[0.1111111111111111,\"#46039f\"],[0.2222222222222222,\"#7201a8\"],[0.3333333333333333,\"#9c179e\"],[0.4444444444444444,\"#bd3786\"],[0.5555555555555556,\"#d8576b\"],[0.6666666666666666,\"#ed7953\"],[0.7777777777777778,\"#fb9f3a\"],[0.8888888888888888,\"#fdca26\"],[1.0,\"#f0f921\"]],\"sequentialminus\":[[0.0,\"#0d0887\"],[0.1111111111111111,\"#46039f\"],[0.2222222222222222,\"#7201a8\"],[0.3333333333333333,\"#9c179e\"],[0.4444444444444444,\"#bd3786\"],[0.5555555555555556,\"#d8576b\"],[0.6666666666666666,\"#ed7953\"],[0.7777777777777778,\"#fb9f3a\"],[0.8888888888888888,\"#fdca26\"],[1.0,\"#f0f921\"]]},\"colorway\":[\"#636efa\",\"#EF553B\",\"#00cc96\",\"#ab63fa\",\"#FFA15A\",\"#19d3f3\",\"#FF6692\",\"#B6E880\",\"#FF97FF\",\"#FECB52\"],\"font\":{\"color\":\"#2a3f5f\"},\"geo\":{\"bgcolor\":\"white\",\"lakecolor\":\"white\",\"landcolor\":\"white\",\"showlakes\":true,\"showland\":true,\"subunitcolor\":\"#C8D4E3\"},\"hoverlabel\":{\"align\":\"left\"},\"hovermode\":\"closest\",\"mapbox\":{\"style\":\"light\"},\"paper_bgcolor\":\"white\",\"plot_bgcolor\":\"white\",\"polar\":{\"angularaxis\":{\"gridcolor\":\"#EBF0F8\",\"linecolor\":\"#EBF0F8\",\"ticks\":\"\"},\"bgcolor\":\"white\",\"radialaxis\":{\"gridcolor\":\"#EBF0F8\",\"linecolor\":\"#EBF0F8\",\"ticks\":\"\"}},\"scene\":{\"xaxis\":{\"backgroundcolor\":\"white\",\"gridcolor\":\"#DFE8F3\",\"gridwidth\":2,\"linecolor\":\"#EBF0F8\",\"showbackground\":true,\"ticks\":\"\",\"zerolinecolor\":\"#EBF0F8\"},\"yaxis\":{\"backgroundcolor\":\"white\",\"gridcolor\":\"#DFE8F3\",\"gridwidth\":2,\"linecolor\":\"#EBF0F8\",\"showbackground\":true,\"ticks\":\"\",\"zerolinecolor\":\"#EBF0F8\"},\"zaxis\":{\"backgroundcolor\":\"white\",\"gridcolor\":\"#DFE8F3\",\"gridwidth\":2,\"linecolor\":\"#EBF0F8\",\"showbackground\":true,\"ticks\":\"\",\"zerolinecolor\":\"#EBF0F8\"}},\"shapedefaults\":{\"line\":{\"color\":\"#2a3f5f\"}},\"ternary\":{\"aaxis\":{\"gridcolor\":\"#DFE8F3\",\"linecolor\":\"#A2B1C6\",\"ticks\":\"\"},\"baxis\":{\"gridcolor\":\"#DFE8F3\",\"linecolor\":\"#A2B1C6\",\"ticks\":\"\"},\"bgcolor\":\"white\",\"caxis\":{\"gridcolor\":\"#DFE8F3\",\"linecolor\":\"#A2B1C6\",\"ticks\":\"\"}},\"title\":{\"x\":0.05},\"xaxis\":{\"automargin\":true,\"gridcolor\":\"#EBF0F8\",\"linecolor\":\"#EBF0F8\",\"ticks\":\"\",\"title\":{\"standoff\":15},\"zerolinecolor\":\"#EBF0F8\",\"zerolinewidth\":2},\"yaxis\":{\"automargin\":true,\"gridcolor\":\"#EBF0F8\",\"linecolor\":\"#EBF0F8\",\"ticks\":\"\",\"title\":{\"standoff\":15},\"zerolinecolor\":\"#EBF0F8\",\"zerolinewidth\":2}}},\"xaxis\":{\"anchor\":\"y\",\"domain\":[0.0,1.0],\"title\":{\"text\":\"Minuten\"}},\"yaxis\":{\"anchor\":\"x\",\"domain\":[0.0,1.0],\"title\":{\"text\":\"Anzahl BEVs\"}},\"legend\":{\"tracegroupgap\":0},\"margin\":{\"t\":60},\"title\":{\"font\":{\"size\":24},\"text\":\"Anzahl wartender und ladender BEVs im Tagesverlauf\",\"x\":0.5,\"xanchor\":\"center\"}},                        {\"responsive\": true}                    ).then(function(){\n",
       "                            \n",
       "var gd = document.getElementById('c6631361-2bde-4db4-bfef-284cec38b003');\n",
       "var x = new MutationObserver(function (mutations, observer) {{\n",
       "        var display = window.getComputedStyle(gd).display;\n",
       "        if (!display || display === 'none') {{\n",
       "            console.log([gd, 'removed!']);\n",
       "            Plotly.purge(gd);\n",
       "            observer.disconnect();\n",
       "        }}\n",
       "}});\n",
       "\n",
       "// Listen for the removal of the full notebook cells\n",
       "var notebookContainer = gd.closest('#notebook-container');\n",
       "if (notebookContainer) {{\n",
       "    x.observe(notebookContainer, {childList: true});\n",
       "}}\n",
       "\n",
       "// Listen for the clearing of the current output cell\n",
       "var outputEl = gd.closest('.output');\n",
       "if (outputEl) {{\n",
       "    x.observe(outputEl, {childList: true});\n",
       "}}\n",
       "\n",
       "                        })                };                });            </script>        </div>"
      ]
     },
     "metadata": {},
     "output_type": "display_data"
    }
   ],
   "source": [
    "figureGeneration.create_bev_number_figure(simulation_data)"
   ]
  }
 ],
 "metadata": {
  "kernelspec": {
   "display_name": "Python 3 (ipykernel)",
   "language": "python",
   "name": "python3"
  },
  "language_info": {
   "codemirror_mode": {
    "name": "ipython",
    "version": 3
   },
   "file_extension": ".py",
   "mimetype": "text/x-python",
   "name": "python",
   "nbconvert_exporter": "python",
   "pygments_lexer": "ipython3",
   "version": "3.9.5"
  }
 },
 "nbformat": 4,
 "nbformat_minor": 4
}