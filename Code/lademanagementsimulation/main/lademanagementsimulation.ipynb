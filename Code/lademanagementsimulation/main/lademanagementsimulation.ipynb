{
 "cells": [
  {
   "cell_type": "markdown",
   "metadata": {
    "pycharm": {
     "name": "#%% md\n"
    }
   },
   "source": [
    "# Lademanagementsimulation   \n"
   ]
  },
  {
   "cell_type": "markdown",
   "metadata": {},
   "source": [
    "### Simulations Parameter"
   ]
  },
  {
   "cell_type": "code",
   "execution_count": 1,
   "metadata": {
    "pycharm": {
     "name": "#%%\n"
    }
   },
   "outputs": [],
   "source": [
    "solarpeakleistung = 125 #Einheit Kilowattpeak (kWP)\n",
    "anzahl_bevs_pro_tag = 10\n",
    "ladeleistung_pro_bev = 11 #Einheit kW\n",
    "maximale_ladezeit = 30 #Einheit Minuten\n",
    "minute_interval = 15 #Einheit Minuten"
   ]
  },
  {
   "cell_type": "markdown",
   "metadata": {},
   "source": [
    "### Simulations Eingangsdaten"
   ]
  },
  {
   "cell_type": "code",
   "execution_count": 2,
   "metadata": {
    "pycharm": {
     "name": "#%%\n"
    }
   },
   "outputs": [
    {
     "data": {
      "text/html": [
       "\n",
       "        <iframe\n",
       "            width=\"100%\"\n",
       "            height=\"650\"\n",
       "            src=\"http://127.0.0.1:8050/\"\n",
       "            frameborder=\"0\"\n",
       "            allowfullscreen\n",
       "            \n",
       "        ></iframe>\n",
       "        "
      ],
      "text/plain": [
       "<IPython.lib.display.IFrame at 0x2064063ab50>"
      ]
     },
     "metadata": {},
     "output_type": "display_data"
    }
   ],
   "source": [
    "import simulationInputDataVisualisation\n",
    "simulationInputDataVisualisation.create_jupyter_dash_app(solarpeakleistung)"
   ]
  },
  {
   "cell_type": "markdown",
   "metadata": {},
   "source": [
    "### Verteilungsalgorithmus Polling - FIFO\n",
    "- der Algorithmus weist den BEVs jeweils ein Zustand zu, die Zustände sind wartend (BEV parkt und will laden), ladend (BEV wird mit Solarenergie geladen), nicht parkend (BEV befindet sich nicht im Lademanagmentsystem)\n",
    "- pro BEV Ladeleistung von z.B. 2kW (ladeleistung_pro_bev), wenn verfügbarer Solarstrom > Ladeleistung, dann wird der Solarstrom auf mehrere BEVs verteilt\n",
    "- aktuell wartende Verbraucher werden in einer Warteliste (Pollingliste) abgearbeitet, nach einem variablen Zeitintervall (maximale_ladezeit, z.B. 30min) wird Verbraucher wieder hinten an die Warteliste angefügt. \n",
    "- dabei wird immer das erste BEV der Warteliste auf die Ladeliste genommen, unabhängig von der Länge der Parkzeit\n",
    "- Wenn im Tagesverlauf die Anzahl bereits ladender BEVs größer wird als die Anzahl möglich ladender BEVs, wird das erste BEV der Ladeliste wieder nach hinten an die Warteliste gesetzt"
   ]
  },
  {
   "cell_type": "markdown",
   "metadata": {},
   "source": [
    "### Verteilungsalgorithmus Polling - mit gleichmäßiger Verteilung\n",
    "- wie FIFO Abarbeitung der BEVs auf der Warteliste\n",
    "- allerdings werden BEVs nach dem sie einmal aufgeladen wurden auf eine neue Warteliste gesetzt mit geringerer Priorität => so soll gewährleistet werden, dass erstmal alle BEVs einmal aufgeladen werden, bevor BEVs mehrmals geladen werden "
   ]
  },
  {
   "cell_type": "markdown",
   "metadata": {},
   "source": [
    "### Prognose (Berücksichtigung der Parkdauer - Optimale Ausnutzung)\n",
    "- Ziel ist das möglichst alle gleich viel bekommen und der Solarstrom optimal ausgenutzt wird ⇒ nichts geht verloren\n",
    "- Berechnung des Ladeintervalls:\n",
    "    - Wann sind während des angegebenen Parkintervalls am wenigsten andere BEVs am Warten? (Minimum Anzahl wartender BEVs in Parkintevall)\n",
    "    - Ladestart: sobald Minimum Anzahl wartender BEVs in Parkintevall erreicht wird\n",
    "    - Ladeende: nach fester Zeit oder nachdem Anzahl wartender BEVs nicht mehr Minimum Anzahl wartender BEVs entspricht\n",
    "- Solarleistung wird zu jedem Zeitpunkt gleichmäßig unter ladenden BEVs verteilt, also Ladeleistung = Verfügbare Solarleistung / Ladende BEVs"
   ]
  },
  {
   "cell_type": "markdown",
   "metadata": {},
   "source": [
    "### Prognose (Berücksichtigung der Parkdauer - Belohnung)\n",
    "- Ziel: länger parkende BEVs sollen belohnt werden und mehr Solarenergie garantiert bekommen\n",
    "- Möglichkeiten: mehr Solarenergie oder längeres Ladeintervall"
   ]
  },
  {
   "cell_type": "code",
   "execution_count": 3,
   "metadata": {},
   "outputs": [
    {
     "name": "stdout",
     "output_type": "stream",
     "text": [
      "Start: BEVs_dict {0: [(12.5, 7.3), 'wartend', [], []], 1: [(8.0, 5.6), 'nicht parkend', [], []], 2: [(8.0, 3.8), 'nicht parkend', [], []], 3: [(12.5, 3.5), 'nicht parkend', [], []], 4: [(8.0, 7.4), 'nicht parkend', [], []], 5: [(13.0, 6.1), 'wartend', [], []], 6: [(13.0, 4.1), 'wartend', [], []], 7: [(12.5, 4.1), 'wartend', [], []], 8: [(13.0, 6.6), 'wartend', [], []], 9: [(8.5, 7.1), 'nicht parkend', [], []]}\n",
      "Updated BEVs_dict {0: [(12.5, 7.3), 'wartend', [], []], 1: [(8.0, 5.6), 'nicht parkend', [], []], 2: [(8.0, 3.8), 'nicht parkend', [], []], 3: [(12.5, 3.5), 'nicht parkend', [], []], 4: [(8.0, 7.4), 'nicht parkend', [], []], 5: [(13.0, 6.1), 'wartend', [], []], 6: [(13.0, 4.1), 'wartend', [], []], 7: [(12.5, 4.1), 'wartend', [], []], 8: [(13.0, 6.6), 'wartend', [], []], 9: [(8.5, 7.1), 'nicht parkend', [], []]}\n",
      "\n",
      "\n",
      "für BEV mit ID 0\n",
      "0.9571666666666668 Fairer Anteil für BEV\n",
      "{750: [5, 0.15056666666666668], 765: [4, 0.16266666666666665], 780: [4, 0.15], 795: [4, 0.15020833333333333], 810: [4, 0.16325], 825: [4, 0.17595833333333333], 840: [4, 0.175], 855: [4, 0.16041666666666665], 870: [3, 0.17627777777777776], 885: [3, 0.1338888888888889], 900: [2, 0.15], 915: [2, 0.11199999999999999], 930: [1, 0.17366666666666666], 945: [1, 0.149], 960: [1, 0.15], 975: [1, 0.17666666666666667], 990: [2, 0.11441666666666667], 1005: [2, 0.15341666666666667], 1020: [3, 0.13677777777777778], 1035: [3, 0.17983333333333332], 1050: [4, 0.1735833333333333], 1065: [5, 0.1749666666666667], 1080: [6, 0.18016666666666667], 1095: [8, 0.16410416666666666], 1110: [9, 0.17446296296296293], 1125: [11, 0.1684848484848485], 1140: [12, 0.18016666666666667], 1155: [14, 0.1783095238095238], 1170: [16, 0.17852083333333332], 1185: [18, 0.1801111111111111]} Forecast-dict\n",
      "[[750, 765, 780, 795, 810, 825, 840, 855, 870, 885, 900, 915, 930, 945, 960, 975, 990, 1005, 1020, 1035, 1050, 1065, 1080, 1095, 1110, 1125, 1140, 1155, 1170, 1185]] Possible charging intervals list\n",
      "{0: 4.846887890812891} Charging Energies dict\n",
      "0 index_max_charging_energy\n",
      "Updated BEVs_dict {0: [(12.5, 7.3), 'wartend', [(750, 75, 0)], [0.9571666666666668, 0.95265]], 1: [(8.0, 5.6), 'nicht parkend', [], []], 2: [(8.0, 3.8), 'nicht parkend', [], []], 3: [(12.5, 3.5), 'nicht parkend', [], []], 4: [(8.0, 7.4), 'nicht parkend', [], []], 5: [(13.0, 6.1), 'wartend', [], []], 6: [(13.0, 4.1), 'wartend', [], []], 7: [(12.5, 4.1), 'wartend', [], []], 8: [(13.0, 6.6), 'wartend', [], []], 9: [(8.5, 7.1), 'nicht parkend', [], []]}\n",
      "\n",
      "\n",
      "für BEV mit ID 1\n",
      "3.3788333333333336 Fairer Anteil für BEV\n",
      "{480: [0, 0.0], 495: [1, 0.023], 510: [1, 0.10016666666666667], 525: [2, 0.099], 540: [2, 0.15833333333333333], 555: [3, 0.152], 570: [4, 0.154], 585: [5, 0.15193333333333334], 600: [5, 0.16999999999999998], 615: [5, 0.17736666666666664], 630: [5, 0.17403333333333335], 645: [5, 0.16786666666666666], 660: [5, 0.16666666666666666], 675: [5, 0.17046666666666666], 690: [5, 0.17923333333333336], 705: [6, 0.15491666666666667], 720: [5, 0.18333333333333332], 735: [5, 0.17156666666666667], 750: [4, 0.15056666666666668], 765: [3, 0.16266666666666665], 780: [3, 0.15], 795: [3, 0.15020833333333333], 810: [3, 0.16325]} Forecast-dict\n",
      "[[], [495, 510, 525, 540, 555, 570, 585, 600, 615, 630, 645, 660, 675, 690, 705, 720, 735, 750, 765, 780, 795, 810]] Possible charging intervals list\n",
      "{0: 0, 1: 3.330575} Charging Energies dict\n",
      "1 index_max_charging_energy\n",
      "less than fair share\n",
      "[495, 510, 525, 540, 555, 570, 585, 600, 615, 630, 645, 660, 675, 690, 705, 720, 735, 750, 765, 780, 795, 810] charging_interval_with_highest_charging_energy_as_list\n",
      "Updated BEVs_dict {0: [(12.5, 7.3), 'wartend', [(750, 75, 0)], [0.9571666666666668, 0.95265]], 1: [(8.0, 5.6), 'nicht parkend', [(495, 315, 0)], [3.3788333333333336, 3.330575]], 2: [(8.0, 3.8), 'nicht parkend', [], []], 3: [(12.5, 3.5), 'nicht parkend', [], []], 4: [(8.0, 7.4), 'nicht parkend', [], []], 5: [(13.0, 6.1), 'wartend', [], []], 6: [(13.0, 4.1), 'wartend', [], []], 7: [(12.5, 4.1), 'wartend', [], []], 8: [(13.0, 6.6), 'wartend', [], []], 9: [(8.5, 7.1), 'nicht parkend', [], []]}\n",
      "\n",
      "\n",
      "für BEV mit ID 2\n",
      "2.3473333333333337 Fairer Anteil für BEV\n",
      "{480: [0, 0.0], 495: [0, 0.023], 510: [0, 0.10016666666666667], 525: [1, 0.099], 540: [1, 0.15833333333333333], 555: [2, 0.152], 570: [3, 0.154], 585: [4, 0.15193333333333334], 600: [4, 0.16999999999999998], 615: [4, 0.17736666666666664], 630: [4, 0.17403333333333335], 645: [4, 0.16786666666666666], 660: [4, 0.16666666666666666], 675: [4, 0.17046666666666666], 690: [4, 0.17923333333333336], 705: [5, 0.15491666666666667]} Forecast-dict\n",
      "[[], [], [], [525, 540, 555, 570, 585, 600, 615, 630, 645, 660, 675, 690, 705]] Possible charging intervals list\n",
      "{0: 0, 1: 0, 2: 0, 3: 2.075816666666667} Charging Energies dict\n",
      "3 index_max_charging_energy\n",
      "less than fair share\n",
      "[525, 540, 555, 570, 585, 600, 615, 630, 645, 660, 675, 690, 705] charging_interval_with_highest_charging_energy_as_list\n",
      "Updated BEVs_dict {0: [(12.5, 7.3), 'wartend', [(750, 75, 0)], [0.9571666666666668, 0.95265]], 1: [(8.0, 5.6), 'nicht parkend', [(495, 315, 0)], [3.3788333333333336, 3.330575]], 2: [(8.0, 3.8), 'nicht parkend', [(525, 180, 0)], [2.3473333333333337, 2.075816666666667]], 3: [(12.5, 3.5), 'nicht parkend', [], []], 4: [(8.0, 7.4), 'nicht parkend', [], []], 5: [(13.0, 6.1), 'wartend', [], []], 6: [(13.0, 4.1), 'wartend', [], []], 7: [(12.5, 4.1), 'wartend', [], []], 8: [(13.0, 6.6), 'wartend', [], []], 9: [(8.5, 7.1), 'nicht parkend', [], []]}\n",
      "\n",
      "\n",
      "für BEV mit ID 3\n",
      "0.9271666666666668 Fairer Anteil für BEV\n",
      "{750: [3, 0.15056666666666668], 765: [2, 0.16266666666666665], 780: [2, 0.15], 795: [2, 0.15020833333333333], 810: [3, 0.16325], 825: [4, 0.17595833333333333], 840: [4, 0.175], 855: [4, 0.16041666666666665], 870: [3, 0.17627777777777776], 885: [3, 0.1338888888888889], 900: [2, 0.15], 915: [2, 0.11199999999999999], 930: [1, 0.17366666666666666], 945: [1, 0.149]} Forecast-dict\n",
      "[[750, 765, 780, 795, 810, 825, 840, 855, 870, 885, 900, 915, 930, 945]] Possible charging intervals list\n",
      "{0: 2.1829} Charging Energies dict\n",
      "0 index_max_charging_energy\n",
      "Updated BEVs_dict {0: [(12.5, 7.3), 'wartend', [(750, 75, 0)], [0.9571666666666668, 0.95265]], 1: [(8.0, 5.6), 'nicht parkend', [(495, 315, 0)], [3.3788333333333336, 3.330575]], 2: [(8.0, 3.8), 'nicht parkend', [(525, 180, 0)], [2.3473333333333337, 2.075816666666667]], 3: [(12.5, 3.5), 'nicht parkend', [(750, 60, 0)], [0.9271666666666668, 0.7766916666666667]], 4: [(8.0, 7.4), 'nicht parkend', [], []], 5: [(13.0, 6.1), 'wartend', [], []], 6: [(13.0, 4.1), 'wartend', [], []], 7: [(12.5, 4.1), 'wartend', [], []], 8: [(13.0, 6.6), 'wartend', [], []], 9: [(8.5, 7.1), 'nicht parkend', [], []]}\n",
      "\n",
      "\n",
      "für BEV mit ID 4\n",
      "3.8163333333333336 Fairer Anteil für BEV\n",
      "{480: [0, 0.0], 495: [0, 0.023], 510: [0, 0.10016666666666667], 525: [0, 0.099], 540: [0, 0.15833333333333333], 555: [1, 0.152], 570: [2, 0.154], 585: [3, 0.15193333333333334], 600: [3, 0.16999999999999998], 615: [3, 0.17736666666666664], 630: [3, 0.17403333333333335], 645: [3, 0.16786666666666666], 660: [3, 0.16666666666666666], 675: [3, 0.17046666666666666], 690: [3, 0.17923333333333336], 705: [5, 0.15491666666666667], 720: [4, 0.18333333333333332], 735: [4, 0.17156666666666667], 750: [2, 0.15056666666666668], 765: [1, 0.16266666666666665], 780: [1, 0.15], 795: [1, 0.15020833333333333], 810: [3, 0.16325], 825: [4, 0.17595833333333333], 840: [4, 0.175], 855: [4, 0.16041666666666665], 870: [3, 0.17627777777777776], 885: [3, 0.1338888888888889], 900: [2, 0.15], 915: [2, 0.11199999999999999]} Forecast-dict\n",
      "[[], [], [], [], [], [555, 570, 585, 600, 615, 630, 645, 660, 675, 690, 705, 720, 735, 750, 765, 780, 795, 810, 825, 840, 855, 870, 885, 900, 915]] Possible charging intervals list\n",
      "{0: 0, 1: 0, 2: 0, 3: 0, 4: 0, 5: 4.033616666666667} Charging Energies dict\n",
      "5 index_max_charging_energy\n",
      "Updated BEVs_dict {0: [(12.5, 7.3), 'wartend', [(750, 75, 0)], [0.9571666666666668, 0.95265]], 1: [(8.0, 5.6), 'nicht parkend', [(495, 315, 0)], [3.3788333333333336, 3.330575]], 2: [(8.0, 3.8), 'nicht parkend', [(525, 180, 0)], [2.3473333333333337, 2.075816666666667]], 3: [(12.5, 3.5), 'nicht parkend', [(750, 60, 0)], [0.9271666666666668, 0.7766916666666667]], 4: [(8.0, 7.4), 'nicht parkend', [(555, 330, 0)], [3.8163333333333336, 4.152116666666666]], 5: [(13.0, 6.1), 'wartend', [], []], 6: [(13.0, 4.1), 'wartend', [], []], 7: [(12.5, 4.1), 'wartend', [], []], 8: [(13.0, 6.6), 'wartend', [], []], 9: [(8.5, 7.1), 'nicht parkend', [], []]}\n",
      "\n",
      "\n",
      "für BEV mit ID 5\n",
      "0.7231666666666668 Fairer Anteil für BEV\n"
     ]
    },
    {
     "name": "stdout",
     "output_type": "stream",
     "text": [
      "{780: [0, 0.15], 795: [0, 0.15020833333333333], 810: [2, 0.16325], 825: [3, 0.17595833333333333], 840: [3, 0.175], 855: [3, 0.16041666666666665], 870: [2, 0.17627777777777776], 885: [3, 0.1338888888888889], 900: [2, 0.15], 915: [2, 0.11199999999999999], 930: [1, 0.17366666666666666], 945: [1, 0.149], 960: [1, 0.15], 975: [1, 0.17666666666666667], 990: [2, 0.11441666666666667], 1005: [2, 0.15341666666666667], 1020: [3, 0.13677777777777778], 1035: [3, 0.17983333333333332], 1050: [4, 0.1735833333333333], 1065: [5, 0.1749666666666667], 1080: [6, 0.18016666666666667], 1095: [8, 0.16410416666666666], 1110: [9, 0.17446296296296293], 1125: [11, 0.1684848484848485], 1140: [12, 0.18016666666666667]} Forecast-dict\n",
      "[[], [], [810, 825, 840, 855, 870, 885, 900, 915, 930, 945, 960, 975, 990, 1005, 1020, 1035, 1050, 1065, 1080, 1095, 1110, 1125, 1140]] Possible charging intervals list\n",
      "{0: 0, 1: 0, 2: 3.6965047558922555} Charging Energies dict\n",
      "2 index_max_charging_energy\n",
      "Updated BEVs_dict {0: [(12.5, 7.3), 'wartend', [(750, 75, 0)], [0.9571666666666668, 0.95265]], 1: [(8.0, 5.6), 'nicht parkend', [(495, 315, 0)], [3.3788333333333336, 3.330575]], 2: [(8.0, 3.8), 'nicht parkend', [(525, 180, 0)], [2.3473333333333337, 2.075816666666667]], 3: [(12.5, 3.5), 'nicht parkend', [(750, 60, 0)], [0.9271666666666668, 0.7766916666666667]], 4: [(8.0, 7.4), 'nicht parkend', [(555, 330, 0)], [3.8163333333333336, 4.152116666666666]], 5: [(13.0, 6.1), 'wartend', [(810, 45, 0)], [0.7231666666666668, 0.9748333333333332]], 6: [(13.0, 4.1), 'wartend', [], []], 7: [(12.5, 4.1), 'wartend', [], []], 8: [(13.0, 6.6), 'wartend', [], []], 9: [(8.5, 7.1), 'nicht parkend', [], []]}\n",
      "\n",
      "\n",
      "für BEV mit ID 6\n",
      "0.7231666666666668 Fairer Anteil für BEV\n",
      "{780: [0, 0.15], 795: [0, 0.15020833333333333], 810: [1, 0.16325], 825: [2, 0.17595833333333333], 840: [2, 0.175], 855: [3, 0.16041666666666665], 870: [2, 0.17627777777777776], 885: [3, 0.1338888888888889], 900: [2, 0.15], 915: [2, 0.11199999999999999], 930: [1, 0.17366666666666666], 945: [1, 0.149], 960: [1, 0.15], 975: [1, 0.17666666666666667], 990: [2, 0.11441666666666667], 1005: [2, 0.15341666666666667], 1020: [3, 0.13677777777777778]} Forecast-dict\n",
      "[[], [], [810, 825, 840, 855, 870, 885, 900, 915, 930, 945, 960, 975, 990, 1005, 1020]] Possible charging intervals list\n",
      "{0: 0, 1: 0, 2: 2.300736111111111} Charging Energies dict\n",
      "2 index_max_charging_energy\n",
      "Updated BEVs_dict {0: [(12.5, 7.3), 'wartend', [(750, 75, 0)], [0.9571666666666668, 0.95265]], 1: [(8.0, 5.6), 'nicht parkend', [(495, 315, 0)], [3.3788333333333336, 3.330575]], 2: [(8.0, 3.8), 'nicht parkend', [(525, 180, 0)], [2.3473333333333337, 2.075816666666667]], 3: [(12.5, 3.5), 'nicht parkend', [(750, 60, 0)], [0.9271666666666668, 0.7766916666666667]], 4: [(8.0, 7.4), 'nicht parkend', [(555, 330, 0)], [3.8163333333333336, 4.152116666666666]], 5: [(13.0, 6.1), 'wartend', [(810, 45, 0)], [0.7231666666666668, 0.9748333333333332]], 6: [(13.0, 4.1), 'wartend', [(810, 45, 0)], [0.7231666666666668, 0.9748333333333332]], 7: [(12.5, 4.1), 'wartend', [], []], 8: [(13.0, 6.6), 'wartend', [], []], 9: [(8.5, 7.1), 'nicht parkend', [], []]}\n",
      "\n",
      "\n",
      "für BEV mit ID 7\n",
      "0.9571666666666668 Fairer Anteil für BEV\n",
      "{750: [1, 0.15056666666666668], 765: [0, 0.16266666666666665], 780: [0, 0.15], 795: [0, 0.15020833333333333], 810: [0, 0.16325], 825: [1, 0.17595833333333333], 840: [1, 0.175], 855: [3, 0.16041666666666665], 870: [2, 0.17627777777777776], 885: [3, 0.1338888888888889], 900: [2, 0.15], 915: [2, 0.11199999999999999], 930: [1, 0.17366666666666666], 945: [1, 0.149], 960: [1, 0.15], 975: [1, 0.17666666666666667], 990: [2, 0.11441666666666667]} Forecast-dict\n",
      "[[750], [], [], [], [825, 840, 855, 870, 885, 900, 915, 930, 945, 960, 975, 990]] Possible charging intervals list\n",
      "{0: 0.15056666666666668, 1: 0, 2: 0, 3: 0, 4: 1.8472916666666666} Charging Energies dict\n",
      "4 index_max_charging_energy\n",
      "Updated BEVs_dict {0: [(12.5, 7.3), 'wartend', [(750, 75, 0)], [0.9571666666666668, 0.95265]], 1: [(8.0, 5.6), 'nicht parkend', [(495, 315, 0)], [3.3788333333333336, 3.330575]], 2: [(8.0, 3.8), 'nicht parkend', [(525, 180, 0)], [2.3473333333333337, 2.075816666666667]], 3: [(12.5, 3.5), 'nicht parkend', [(750, 60, 0)], [0.9271666666666668, 0.7766916666666667]], 4: [(8.0, 7.4), 'nicht parkend', [(555, 330, 0)], [3.8163333333333336, 4.152116666666666]], 5: [(13.0, 6.1), 'wartend', [(810, 45, 0)], [0.7231666666666668, 0.9748333333333332]], 6: [(13.0, 4.1), 'wartend', [(810, 45, 0)], [0.7231666666666668, 0.9748333333333332]], 7: [(12.5, 4.1), 'wartend', [(825, 60, 0)], [0.9571666666666668, 1.5982333333333334]], 8: [(13.0, 6.6), 'wartend', [], []], 9: [(8.5, 7.1), 'nicht parkend', [], []]}\n",
      "\n",
      "\n",
      "für BEV mit ID 8\n",
      "0.7231666666666668 Fairer Anteil für BEV\n",
      "{780: [0, 0.15], 795: [0, 0.15020833333333333], 810: [0, 0.16325], 825: [0, 0.17595833333333333], 840: [0, 0.175], 855: [2, 0.16041666666666665], 870: [1, 0.17627777777777776], 885: [3, 0.1338888888888889], 900: [2, 0.15], 915: [2, 0.11199999999999999], 930: [1, 0.17366666666666666], 945: [1, 0.149], 960: [1, 0.15], 975: [1, 0.17666666666666667], 990: [2, 0.11441666666666667], 1005: [2, 0.15341666666666667], 1020: [3, 0.13677777777777778], 1035: [3, 0.17983333333333332], 1050: [4, 0.1735833333333333], 1065: [5, 0.1749666666666667], 1080: [6, 0.18016666666666667], 1095: [8, 0.16410416666666666], 1110: [9, 0.17446296296296293], 1125: [11, 0.1684848484848485], 1140: [12, 0.18016666666666667], 1155: [14, 0.1783095238095238], 1170: [16, 0.17852083333333332]} Forecast-dict\n",
      "[[], [], [], [], [], [855, 870, 885, 900, 915, 930, 945, 960, 975, 990, 1005, 1020, 1035, 1050, 1065, 1080, 1095, 1110, 1125, 1140, 1155, 1170]] Possible charging intervals list\n",
      "{0: 0, 1: 0, 2: 0, 3: 0, 4: 0, 5: 3.539126779701779} Charging Energies dict\n",
      "5 index_max_charging_energy\n",
      "Updated BEVs_dict {0: [(12.5, 7.3), 'wartend', [(750, 75, 0)], [0.9571666666666668, 0.95265]], 1: [(8.0, 5.6), 'nicht parkend', [(495, 315, 0)], [3.3788333333333336, 3.330575]], 2: [(8.0, 3.8), 'nicht parkend', [(525, 180, 0)], [2.3473333333333337, 2.075816666666667]], 3: [(12.5, 3.5), 'nicht parkend', [(750, 60, 0)], [0.9271666666666668, 0.7766916666666667]], 4: [(8.0, 7.4), 'nicht parkend', [(555, 330, 0)], [3.8163333333333336, 4.152116666666666]], 5: [(13.0, 6.1), 'wartend', [(810, 45, 0)], [0.7231666666666668, 0.9748333333333332]], 6: [(13.0, 4.1), 'wartend', [(810, 45, 0)], [0.7231666666666668, 0.9748333333333332]], 7: [(12.5, 4.1), 'wartend', [(825, 60, 0)], [0.9571666666666668, 1.5982333333333334]], 8: [(13.0, 6.6), 'wartend', [(855, 45, 0)], [0.7231666666666668, 1.4349999999999998]], 9: [(8.5, 7.1), 'nicht parkend', [], []]}\n",
      "\n",
      "\n",
      "für BEV mit ID 9\n",
      "3.844666666666667 Fairer Anteil für BEV\n",
      "{510: [0, 0.10016666666666667], 525: [0, 0.099], 540: [0, 0.15833333333333333], 555: [0, 0.152], 570: [1, 0.154], 585: [2, 0.15193333333333334], 600: [2, 0.16999999999999998], 615: [2, 0.17736666666666664], 630: [2, 0.17403333333333335], 645: [2, 0.16786666666666666], 660: [2, 0.16666666666666666], 675: [2, 0.17046666666666666], 690: [2, 0.17923333333333336], 705: [4, 0.15491666666666667], 720: [3, 0.18333333333333332], 735: [3, 0.17156666666666667], 750: [1, 0.15056666666666668], 765: [0, 0.16266666666666665], 780: [0, 0.15], 795: [0, 0.15020833333333333], 810: [0, 0.16325], 825: [0, 0.17595833333333333], 840: [0, 0.175], 855: [1, 0.16041666666666665], 870: [0, 0.17627777777777776], 885: [2, 0.1338888888888889], 900: [2, 0.15], 915: [2, 0.11199999999999999], 930: [1, 0.17366666666666666]} Forecast-dict\n",
      "[[], [], [], [], [570, 585, 600, 615, 630, 645, 660, 675, 690, 705, 720, 735, 750], [], [], [], [], [], [855], [885, 900, 915, 930]] Possible charging intervals list\n",
      "{0: 0, 1: 0, 2: 0, 3: 0, 4: 2.1719500000000003, 5: 0, 6: 0, 7: 0, 8: 0, 9: 0, 10: 0.16041666666666665, 11: 0.5695555555555555} Charging Energies dict\n",
      "4 index_max_charging_energy\n",
      "less than fair share\n",
      "[570, 585, 600, 615, 630, 645, 660, 675, 690, 705, 720, 735, 750] charging_interval_with_highest_charging_energy_as_list\n",
      "[(8.0, 5.6), 'wartend', [(495, 315, 0)], [3.3788333333333336, 3.330575]] BEV data\n",
      "[(495, 315, 0)] Charging Data for BEV\n"
     ]
    },
    {
     "ename": "AttributeError",
     "evalue": "'list' object has no attribute 'set_charging_tuple'",
     "output_type": "error",
     "traceback": [
      "\u001B[1;31m---------------------------------------------------------------------------\u001B[0m",
      "\u001B[1;31mAttributeError\u001B[0m                            Traceback (most recent call last)",
      "Input \u001B[1;32mIn [3]\u001B[0m, in \u001B[0;36m<module>\u001B[1;34m\u001B[0m\n\u001B[0;32m     13\u001B[0m algorithm \u001B[38;5;241m=\u001B[39m distributionAlgorithmPolling\u001B[38;5;241m.\u001B[39mAlgorithm\u001B[38;5;241m.\u001B[39mPOLLING_FIFO\n\u001B[0;32m     14\u001B[0m \u001B[38;5;66;03m# algorithm = distributionAlgorithmPolling.Algorithm.POLLING_EVEN_DISTRIBUTION\u001B[39;00m\n\u001B[0;32m     15\u001B[0m \u001B[38;5;66;03m# distributionAlgorithmPolling.start_simulation(solarpeakleistung, maximale_ladezeit, ladeleistung_pro_bev, simulation_day, bev_data, table_dict, simulation_data, algorithm)\u001B[39;00m\n\u001B[1;32m---> 17\u001B[0m \u001B[43mdistributionAlgorithmForecast\u001B[49m\u001B[38;5;241;43m.\u001B[39;49m\u001B[43mstart_algorithm\u001B[49m\u001B[43m(\u001B[49m\u001B[43msimulation_data\u001B[49m\u001B[43m,\u001B[49m\u001B[43m \u001B[49m\u001B[43msimulation_day\u001B[49m\u001B[43m,\u001B[49m\u001B[43m \u001B[49m\u001B[43mmaximale_ladezeit\u001B[49m\u001B[43m,\u001B[49m\u001B[43m \u001B[49m\u001B[43msolarpeakleistung\u001B[49m\u001B[43m,\u001B[49m\u001B[43m \u001B[49m\n\u001B[0;32m     18\u001B[0m \u001B[43m                    \u001B[49m\u001B[43mbev_data\u001B[49m\u001B[43m,\u001B[49m\u001B[43m \u001B[49m\u001B[43mtable_dict\u001B[49m\u001B[43m,\u001B[49m\u001B[43m \u001B[49m\u001B[43mladeleistung_pro_bev\u001B[49m\u001B[43m,\u001B[49m\u001B[43m \u001B[49m\u001B[43mminute_interval\u001B[49m\u001B[43m)\u001B[49m\n",
      "File \u001B[1;32mD:\\Duales Studium\\DHBW\\Studienarbeit\\Code\\lademanagementsimulation\\main\\distributionAlgorithmForecast.py:41\u001B[0m, in \u001B[0;36mstart_algorithm\u001B[1;34m(simulation_data, simulation_day, maximum_charging_time, solar_peak_power, bev_data, table_dict, charging_power_per_bev, minute_interval)\u001B[0m\n\u001B[0;32m     39\u001B[0m update_charging_bevs(minute, simulation_day)\n\u001B[0;32m     40\u001B[0m available_solar_power \u001B[38;5;241m=\u001B[39m get_available_solar_power(solar_peak_power, minute)\n\u001B[1;32m---> 41\u001B[0m \u001B[43mupdate_fueled_solar_energy\u001B[49m\u001B[43m(\u001B[49m\u001B[43mavailable_solar_power\u001B[49m\u001B[43m,\u001B[49m\u001B[43m \u001B[49m\u001B[43msimulation_day\u001B[49m\u001B[43m)\u001B[49m\n\u001B[0;32m     42\u001B[0m safe_charging_list_per_minute(simulation_day, simulation_data, minute)\n",
      "File \u001B[1;32mD:\\Duales Studium\\DHBW\\Studienarbeit\\Code\\lademanagementsimulation\\main\\simulationService.py:72\u001B[0m, in \u001B[0;36mupdate_fueled_solar_energy\u001B[1;34m(available_solar_power, simulation_day)\u001B[0m\n\u001B[0;32m     70\u001B[0m charging_power_per_bev \u001B[38;5;241m=\u001B[39m get_charging_power_per_bev(available_solar_power, number_of_charging_bevs)\n\u001B[0;32m     71\u001B[0m \u001B[38;5;28;01mfor\u001B[39;00m id_bev \u001B[38;5;129;01min\u001B[39;00m simulation_day\u001B[38;5;241m.\u001B[39mcharging_bevs_list\u001B[38;5;241m.\u001B[39mget_charging_bevs_list():\n\u001B[1;32m---> 72\u001B[0m     \u001B[43msimulation_day\u001B[49m\u001B[38;5;241;43m.\u001B[39;49m\u001B[43mbevs_dict\u001B[49m\u001B[38;5;241;43m.\u001B[39;49m\u001B[43mset_fueled_solar_energy\u001B[49m\u001B[43m(\u001B[49m\u001B[43mid_bev\u001B[49m\u001B[43m,\u001B[49m\u001B[43m \u001B[49m\u001B[43mcharging_power_per_bev\u001B[49m\u001B[43m)\u001B[49m\n",
      "File \u001B[1;32mD:\\Duales Studium\\DHBW\\Studienarbeit\\Code\\lademanagementsimulation\\main\\simulationClasses.py:138\u001B[0m, in \u001B[0;36mBevDictionary.set_fueled_solar_energy\u001B[1;34m(self, id_bev, charging_power)\u001B[0m\n\u001B[0;32m    136\u001B[0m \u001B[38;5;28mprint\u001B[39m(\u001B[38;5;28mself\u001B[39m\u001B[38;5;241m.\u001B[39mget_charging_data(id_bev), \u001B[38;5;124m\"\u001B[39m\u001B[38;5;124mCharging Data for BEV\u001B[39m\u001B[38;5;124m\"\u001B[39m)\n\u001B[0;32m    137\u001B[0m \u001B[38;5;28mself\u001B[39m\u001B[38;5;241m.\u001B[39mget_charging_data(id_bev)\u001B[38;5;241m.\u001B[39mremove(latest_charging_tuple)\n\u001B[1;32m--> 138\u001B[0m \u001B[38;5;28;43mself\u001B[39;49m\u001B[38;5;241;43m.\u001B[39;49m\u001B[43mget_charging_data\u001B[49m\u001B[43m(\u001B[49m\u001B[43mid_bev\u001B[49m\u001B[43m)\u001B[49m\u001B[38;5;241;43m.\u001B[39;49m\u001B[43mset_charging_tuple\u001B[49m(new_latest_charging_tuple)\n",
      "\u001B[1;31mAttributeError\u001B[0m: 'list' object has no attribute 'set_charging_tuple'"
     ]
    }
   ],
   "source": [
    "import distributionAlgorithmPolling\n",
    "import simulationClasses\n",
    "import simulationData\n",
    "import simulationOutputDataVisualisation\n",
    "import distributionAlgorithmForecast\n",
    "\n",
    "simulation_day = simulationClasses.SimulationDay(anzahl_bevs_pro_tag)\n",
    "bev_data = simulationData.BevData()\n",
    "table_dict = simulationData.TableDict()\n",
    "simulation_data = simulationData.SimulationData()\n",
    "\n",
    "# Auswahl des Algorithmus\n",
    "algorithm = distributionAlgorithmPolling.Algorithm.POLLING_FIFO\n",
    "# algorithm = distributionAlgorithmPolling.Algorithm.POLLING_EVEN_DISTRIBUTION\n",
    "# distributionAlgorithmPolling.start_simulation(solarpeakleistung, maximale_ladezeit, ladeleistung_pro_bev, simulation_day, bev_data, table_dict, simulation_data, algorithm)\n",
    "\n",
    "distributionAlgorithmForecast.start_algorithm(simulation_data, simulation_day, maximale_ladezeit, solarpeakleistung, \n",
    "                    bev_data, table_dict, ladeleistung_pro_bev, minute_interval)"
   ]
  },
  {
   "cell_type": "markdown",
   "metadata": {},
   "source": [
    "### Ergebnis Algorithmus"
   ]
  },
  {
   "cell_type": "code",
   "execution_count": null,
   "metadata": {},
   "outputs": [],
   "source": [
    "simulationOutputDataVisualisation.print_algorithm_result(bev_data, simulation_data, anzahl_bevs_pro_tag)"
   ]
  },
  {
   "cell_type": "markdown",
   "metadata": {},
   "source": [
    "### Tabellarische Übersicht Park- und Ladeverlauf der BEVs"
   ]
  },
  {
   "cell_type": "code",
   "execution_count": null,
   "metadata": {
    "pycharm": {
     "is_executing": true
    }
   },
   "outputs": [],
   "source": [
    "simulationOutputDataVisualisation.create_tabular_overview_per_minute_slider(table_dict, minute_interval)"
   ]
  },
  {
   "cell_type": "code",
   "execution_count": null,
   "metadata": {},
   "outputs": [],
   "source": [
    "import figureGeneration\n",
    "\n",
    "figureGeneration.create_charging_power_figure(simulation_day)"
   ]
  },
  {
   "cell_type": "code",
   "execution_count": null,
   "metadata": {},
   "outputs": [],
   "source": [
    "figureGeneration.create_bev_number_figure(simulation_data)"
   ]
  }
 ],
 "metadata": {
  "kernelspec": {
   "display_name": "Python 3 (ipykernel)",
   "language": "python",
   "name": "python3"
  },
  "language_info": {
   "codemirror_mode": {
    "name": "ipython",
    "version": 3
   },
   "file_extension": ".py",
   "mimetype": "text/x-python",
   "name": "python",
   "nbconvert_exporter": "python",
   "pygments_lexer": "ipython3",
   "version": "3.9.5"
  }
 },
 "nbformat": 4,
 "nbformat_minor": 4
}