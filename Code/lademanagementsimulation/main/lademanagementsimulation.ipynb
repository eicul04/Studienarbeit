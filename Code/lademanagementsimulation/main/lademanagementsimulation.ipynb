{
 "cells": [
  {
   "cell_type": "markdown",
   "metadata": {
    "pycharm": {
     "name": "#%% md\n"
    }
   },
   "source": [
    "# Lademanagementsimulation   \n"
   ]
  },
  {
   "cell_type": "markdown",
   "metadata": {},
   "source": [
    "### Simulations Parameter"
   ]
  },
  {
   "cell_type": "code",
   "execution_count": 1,
   "metadata": {
    "pycharm": {
     "is_executing": true,
     "name": "#%%\n"
    }
   },
   "outputs": [],
   "source": [
    "solarpeakleistung = 125 #Einheit Kilowattpeak (kWP)\n",
    "anzahl_bevs_pro_tag = 1\n",
    "ladeleistung_pro_bev = 11 #Einheit kW\n",
    "maximale_ladezeit = 30 #Einheit Minuten\n",
    "minute_interval = 15 #Einheit Minuten"
   ]
  },
  {
   "cell_type": "markdown",
   "metadata": {},
   "source": [
    "### Simulations Eingangsdaten"
   ]
  },
  {
   "cell_type": "code",
   "execution_count": 2,
   "metadata": {
    "pycharm": {
     "is_executing": true,
     "name": "#%%\n"
    }
   },
   "outputs": [
    {
     "data": {
      "text/html": [
       "\n",
       "        <iframe\n",
       "            width=\"100%\"\n",
       "            height=\"650\"\n",
       "            src=\"http://127.0.0.1:8050/\"\n",
       "            frameborder=\"0\"\n",
       "            allowfullscreen\n",
       "            \n",
       "        ></iframe>\n",
       "        "
      ],
      "text/plain": [
       "<IPython.lib.display.IFrame at 0x1c5603a5d60>"
      ]
     },
     "metadata": {},
     "output_type": "display_data"
    }
   ],
   "source": [
    "import simulationInputDataVisualisation\n",
    "simulationInputDataVisualisation.create_jupyter_dash_app(solarpeakleistung)"
   ]
  },
  {
   "cell_type": "markdown",
   "metadata": {},
   "source": [
    "### Verteilungsalgorithmus"
   ]
  },
  {
   "cell_type": "code",
   "execution_count": 3,
   "metadata": {
    "pycharm": {
     "is_executing": true
    }
   },
   "outputs": [
    {
     "name": "stdout",
     "output_type": "stream",
     "text": [
      "START POST OPTIMIZATION\n",
      "\n",
      "\n",
      "OPTIMIZATION DONE\n",
      "BEVs dict:  {0: [(13.0, 3.0), 'wartend', [(951.8774703557312, 8.122529644268752, 0)], [1.37]], 1: [(9.0, 3.4), 'nicht parkend', [], [2.2424999999999997]], 2: [(8.0, 4.1), 'nicht parkend', [], [2.3074999999999997]], 3: [(8.5, 5.2), 'nicht parkend', [], [3.0725000000000002]], 4: [(12.0, 4.0), 'wartend', [(936.8578352180938, 15.019635137637465, 0)], [2.0]], 5: [(8.0, 6.3), 'nicht parkend', [], [3.6374999999999993]], 6: [(8.5, 6.5), 'wartend', [(699.1773343373494, 20.822665662650593, 0)], [3.7500000000000004]], 7: [(8.0, 4.5), 'wartend', [(689.1713231305645, 9.878940423652352, 0)], [2.4774999999999996]], 8: [(9.0, 3.2), 'nicht parkend', [], [2.0725]], 9: [(8.0, 4.2), 'nicht parkend', [], [2.3074999999999997]], 10: [(12.5, 3.3), 'nicht parkend', [], [1.6625]], 11: [(8.0, 6.1), 'nicht parkend', [], [3.4924999999999993]], 12: [(13.5, 2.5), 'wartend', [(934.2407108239096, 10.75928917609042, 0)], [1.1099999999999999]], 13: [(8.0, 3.0), 'wartend', [(658.2940941739824, 1.7059058260175561, 0)], [1.4249999999999998]], 14: [(13.0, 3.0), 'wartend', [(924.5622435020521, 12.295591716041713, 0)], [1.37]], 15: [(9.0, 3.1), 'nicht parkend', [], [2.0725]], 16: [(13.0, 3.0), 'wartend', [(922.3461012311902, 11.894609592719348, 0)], [1.37]], 17: [(8.5, 5.6), 'nicht parkend', [], [3.39]], 18: [(8.0, 4.6), 'nicht parkend', [], [2.6299999999999994]], 19: [(8.5, 6.3), 'nicht parkend', [], [3.7500000000000004]], 20: [(8.5, 5.3), 'nicht parkend', [], [3.2275]], 21: [(8.5, 7.3), 'nicht parkend', [], [4.0375000000000005]], 22: [(8.5, 3.9), 'nicht parkend', [], [2.375]], 23: [(8.5, 4.5), 'wartend', [(691.2944277108434, 14.472398328141594, 0)], [2.6675]], 24: [(9.0, 6.7), 'nicht parkend', [], [3.8400000000000003]], 25: [(8.5, 5.9), 'nicht parkend', [], [3.535]], 26: [(8.5, 6.2), 'nicht parkend', [], [3.6525000000000003]], 27: [(8.5, 3.6), 'nicht parkend', [], [2.205]], 28: [(8.5, 4.4), 'nicht parkend', [], [2.6675]], 29: [(9.0, 7.0), 'wartend', [(892.0290795387924, 32.53316396325965, 0)], [3.9050000000000002]], 30: [(13.0, 3.0), 'wartend', [(911.6232227488152, 10.722878482374995, 0)], [1.37]], 31: [(11.5, 4.5), 'wartend', [(895.8428571428572, 15.780365605958082, 0)], [2.3625000000000003]], 32: [(8.5, 7.5), 'wartend', [(860.4379137278593, 31.59116581093315, 0)], [4.0375000000000005]], 33: [(8.5, 7.2), 'nicht parkend', [], [3.9725000000000006]], 34: [(8.5, 5.1), 'nicht parkend', [], [3.0725000000000002]], 35: [(8.5, 4.5), 'wartend', [(683.37847471008, 10.908211659113931, 0)], [2.6675]], 36: [(8.5, 6.2), 'nicht parkend', [], [3.6525000000000003]], 37: [(9.0, 4.3), 'nicht parkend', [], [2.795]], 38: [(8.5, 6.6), 'nicht parkend', [], [3.8300000000000005]], 39: [(9.5, 3.6), 'nicht parkend', [], [2.455]], 40: [(12.0, 4.0), 'wartend', [(884.3166666666667, 11.526190476190436, 0)], [2.0]], 41: [(8.0, 3.2), 'nicht parkend', [], [1.5974999999999997]], 42: [(14.5, 1.5), 'wartend', [(881.65, 3.3500000000000227, 0)], [0.5025]], 43: [(9.0, 4.8), 'nicht parkend', [], [3.0949999999999998]], 44: [(12.5, 3.5), 'nicht parkend', [(765.0, 119.31666666666672, 0)], [1.6625]], 45: [(8.5, 4.9), 'nicht parkend', [], [2.9275]], 46: [(9.0, 3.2), 'nicht parkend', [], [2.0725]], 47: [(12.0, 4.0), 'wartend', [(868.6227272727273, 13.027272727272702, 0)], [2.0]], 48: [(8.5, 7.4), 'nicht parkend', [], [4.0375000000000005]], 49: [(13.0, 3.0), 'wartend', [(852.7043129237387, 7.733600804120556, 0)], [1.37]], 50: [(8.0, 5.8), 'nicht parkend', [], [3.329999999999999]], 51: [(8.5, 4.1), 'nicht parkend', [], [2.5275]], 52: [(12.5, 3.5), 'nicht parkend', [(765.0, 103.62272727272727, 0)], [1.6625]], 53: [(8.5, 6.7), 'nicht parkend', [], [3.8300000000000005]], 54: [(14.5, 1.5), 'nicht parkend', [], [0.5025]], 55: [(9.0, 3.1), 'nicht parkend', [], [2.0725]], 56: [(8.0, 8.0), 'wartend', [(830.0945454545455, 24.905454545454518, 0)], [4.14]], 57: [(8.5, 4.4), 'nicht parkend', [], [2.6675]], 58: [(10.0, 3.2), 'nicht parkend', [], [2.1574999999999998]], 59: [(8.0, 4.8), 'nicht parkend', [], [2.7699999999999996]], 60: [(8.5, 4.8), 'nicht parkend', [], [2.9275]], 61: [(8.5, 7.0), 'wartend', [(694.286686369194, 31.34330222829749, 0)], [3.9050000000000007]], 62: [(12.0, 4.0), 'nicht parkend', [(735.0, 117.70431292373871, 0)], [2.0]], 63: [(10.5, 5.5), 'wartend', [(811.8415094339623, 18.25303602058318, 0)], [3.0549999999999997]], 64: [(8.0, 7.9), 'nicht parkend', [], [4.14]], 65: [(9.5, 3.7), 'nicht parkend', [], [2.455]], 66: [(13.0, 3.0), 'wartend', [(803.3176470588236, 8.52386237513872, 0)], [1.37]], 67: [(9.0, 6.5), 'wartend', [(699.0502635542168, 20.949736445783174, 0)], [3.7725000000000004]], 68: [(9.0, 3.2), 'nicht parkend', [], [2.0725]], 69: [(9.5, 6.5), 'wartend', [(773.1168194218803, 30.200827636943245, 0)], [3.7]], 70: [(8.0, 7.7), 'nicht parkend', [], [4.074999999999999]], 71: [(13.0, 3.0), 'nicht parkend', [], [1.37]], 72: [(9.0, 6.7), 'nicht parkend', [], [3.8400000000000003]], 73: [(8.5, 6.7), 'nicht parkend', [], [3.8300000000000005]], 74: [(12.5, 3.5), 'wartend', [(762.9713248935939, 10.145494528286463, 0)], [1.6625]], 75: [(12.5, 3.5), 'nicht parkend', [], [1.6625]], 76: [(8.5, 5.5), 'wartend', [(702.1282003012049, 17.871799698795144, 0)], [3.2275]], 77: [(8.5, 7.3), 'nicht parkend', [], [4.0375000000000005]], 78: [(9.5, 6.5), 'wartend', [(727.5541619156214, 22.44583808437858, 0)], [3.7]], 79: [(11.5, 3.8), 'nicht parkend', [], [2.2300000000000004]], 80: [(8.0, 7.6), 'nicht parkend', [], [4.074999999999999]], 81: [(8.0, 3.8), 'nicht parkend', [], [2.1399999999999997]], 82: [(8.5, 7.5), 'wartend', [(725.6299885974914, 24.370011402508567, 0)], [4.0375000000000005]], 83: [(13.0, 3.0), 'nicht parkend', [], [1.37]], 84: [(9.0, 7.0), 'wartend', [(726.3854047890536, 23.61459521094639, 0)], [3.9050000000000002]], 85: [(8.0, 3.8), 'nicht parkend', [], [2.1399999999999997]], 86: [(8.5, 4.0), 'wartend', [(689.8812418917205, 9.296092445628915, 0)], [2.375]], 87: [(9.0, 4.8), 'nicht parkend', [], [3.0949999999999998]], 88: [(13.0, 3.0), 'nicht parkend', [], [1.37]], 89: [(8.5, 7.5), 'wartend', [(725.6299885974914, 24.370011402508567, 0)], [4.0375000000000005]], 90: [(13.0, 3.0), 'nicht parkend', [], [1.37]], 91: [(8.5, 7.2), 'nicht parkend', [], [3.9725000000000006]], 92: [(8.5, 5.3), 'nicht parkend', [], [3.2275]], 93: [(8.5, 5.1), 'nicht parkend', [], [3.0725000000000002]], 94: [(12.0, 4.0), 'nicht parkend', [], [2.0]], 95: [(8.5, 5.6), 'nicht parkend', [], [3.39]], 96: [(9.5, 6.2), 'nicht parkend', [], [3.6350000000000002]], 97: [(12.0, 4.0), 'nicht parkend', [], [2.0]], 98: [(9.5, 6.5), 'wartend', [(705.766826038985, 20.61857875006865, 0)], [3.7]], 99: [(8.5, 6.2), 'nicht parkend', [], [3.6525000000000003]]}\n",
      "\n",
      "\n",
      "Minute:  480\n",
      "Waiting BEVs:  []\n",
      "Waiting BEVs after updating parking end:  [2, 5, 9, 11, 18, 41, 50, 59, 64, 70, 80, 81, 85]\n",
      "Charging BEVs after updating post optimization plan and parking end:  []\n",
      "SET BEV DATA for current minute for ID BEV 2 for minute 480:  0.62\n",
      "Charging BEVs (nachdem neue Plätze belegt):  [2]\n",
      "AVAILABLE SOLAR POWER:  0.62\n",
      "Restladeenergie bis zur fairen Ladeenergie for BEV mit ID 2:  2.3074999999999997\n",
      "Restladezeit:  223.3064516129032\n",
      "Charging BEVs:  [2]\n",
      "\n",
      "\n",
      "Minute:  495\n",
      "Waiting BEVs:  [5, 9, 11, 18, 41, 50, 59, 64, 70, 80, 81, 85]\n",
      "Waiting BEVs after updating parking end:  [5, 9, 11, 18, 41, 50, 59, 64, 70, 80, 81, 85]\n",
      "Charging BEVs after updating post optimization plan and parking end:  [2]\n",
      "FUEL Charging BEV:  2\n",
      "SET BEV DATA for current minute for ID BEV 2 for minute 495:  5.87\n",
      "Charging BEVs (nachdem neue Plätze belegt):  [2]\n",
      "AVAILABLE SOLAR POWER:  5.87\n",
      "Restladeenergie bis zur fairen Ladeenergie for BEV mit ID 2:  2.1525\n",
      "Restladezeit:  22.001703577512775\n",
      "Charging BEVs:  [2]\n",
      "\n",
      "\n",
      "Minute:  510\n",
      "Waiting BEVs:  [5, 9, 11, 18, 41, 50, 59, 64, 70, 80, 81, 85]\n",
      "Waiting BEVs after updating parking end:  [5, 9, 11, 18, 41, 50, 59, 64, 70, 80, 81, 85, 3, 17, 19, 20, 21, 22, 25, 26, 27, 28, 33, 34, 36, 38, 45, 48, 51, 53, 57, 60, 73, 77, 91, 92, 93, 95, 99]\n",
      "Charging BEVs after updating post optimization plan and parking end:  [2]\n",
      "FUEL Charging BEV:  2\n",
      "SET BEV DATA for current minute for ID BEV 2 for minute 510:  5.56\n",
      "SET BEV DATA for current minute for ID BEV 5 for minute 510:  5.56\n",
      "Charging BEVs (nachdem neue Plätze belegt):  [2, 5]\n",
      "AVAILABLE SOLAR POWER:  11.12\n",
      "Restladeenergie bis zur fairen Ladeenergie for BEV mit ID 2:  0.6849999999999996\n",
      "Restladezeit:  7.392086330935248\n",
      "Die Restladezeit des BEVS 2 endet vor dem nächsten Interval\n",
      "SET BEV DATA after charging time over for ID BEV 2 for minute 517.3920863309353:  5.545\n",
      "ALLOCATE FREED SOLAR ENERGY ;)\n",
      "Ausgewähltes BEV das frei gewordenen Platz belegen darf:  9\n",
      "Ladestart für ausgewähltes BEV:  517.3920863309353\n",
      "SET BEV DATA for charging start of new bev for ID BEV 9 for minute 517.3920863309353:  5.56\n"
     ]
    },
    {
     "name": "stdout",
     "output_type": "stream",
     "text": [
      "SET BEV DATA charging start between intervals for ID BEV 9 for minute 517.3920863309353:  5.56\n",
      "AVAILABLE SOLAR POWER:  11.12\n",
      "Restladeenergie bis zur fairen Ladeenergie for BEV mit ID 5:  3.6374999999999993\n",
      "Restladezeit:  39.25359712230215\n",
      "Charging BEVs:  [2, 5]\n",
      "\n",
      "\n",
      "Minute:  525\n",
      "Waiting BEVs:  [11, 18, 41, 50, 59, 64, 70, 80, 81, 85, 3, 17, 19, 20, 21, 22, 25, 26, 27, 28, 33, 34, 36, 38, 45, 48, 51, 53, 57, 60, 73, 77, 91, 92, 93, 95, 99]\n",
      "Waiting BEVs after updating parking end:  [11, 18, 41, 50, 59, 64, 70, 80, 81, 85, 3, 17, 19, 20, 21, 22, 25, 26, 27, 28, 33, 34, 36, 38, 45, 48, 51, 53, 57, 60, 73, 77, 91, 92, 93, 95, 99]\n",
      "Charging BEVs after updating post optimization plan and parking end:  [5, 9]\n",
      "FUEL Charging BEV:  5\n",
      "SET BEV DATA for current minute for ID BEV 5 for minute 525:  8.19\n",
      "SET BEV DATA for current minute for ID BEV 9 for minute 525:  8.19\n",
      "Charging BEVs (nachdem neue Plätze belegt):  [5, 9]\n",
      "AVAILABLE SOLAR POWER:  16.38\n",
      "Restladeenergie bis zur fairen Ladeenergie for BEV mit ID 5:  2.2474999999999996\n",
      "Restladezeit:  16.465201465201464\n",
      "AVAILABLE SOLAR POWER:  16.38\n",
      "Restladeenergie bis zur fairen Ladeenergie for BEV mit ID 9:  1.6025000000000027\n",
      "Restladezeit:  11.73992673992676\n",
      "Die Restladezeit des BEVS 9 endet vor dem nächsten Interval\n",
      "SET BEV DATA after charging time over for ID BEV 9 for minute 536.7399267399268:  8.93\n",
      "ALLOCATE FREED SOLAR ENERGY ;)\n",
      "Ausgewähltes BEV das frei gewordenen Platz belegen darf:  11\n",
      "Ladestart für ausgewähltes BEV:  536.7399267399268\n",
      "SET BEV DATA for charging start of new bev for ID BEV 11 for minute 536.7399267399268:  8.19\n",
      "SET BEV DATA charging start between intervals for ID BEV 11 for minute 536.7399267399268:  8.19\n",
      "Charging BEVs:  [5, 9]\n",
      "\n",
      "\n",
      "Minute:  540\n",
      "Waiting BEVs:  [18, 41, 50, 59, 64, 70, 80, 81, 85, 3, 17, 19, 20, 21, 22, 25, 26, 27, 28, 33, 34, 36, 38, 45, 48, 51, 53, 57, 60, 73, 77, 91, 92, 93, 95, 99]\n",
      "Waiting BEVs after updating parking end:  [18, 41, 50, 59, 64, 70, 80, 81, 85, 3, 17, 19, 20, 21, 22, 25, 26, 27, 28, 33, 34, 36, 38, 45, 48, 51, 53, 57, 60, 73, 77, 91, 92, 93, 95, 99, 1, 8, 15, 24, 37, 43, 46, 55, 68, 72, 87]\n",
      "Charging BEVs after updating post optimization plan and parking end:  [5, 11]\n",
      "FUEL Charging BEV:  5\n",
      "SET BEV DATA for current minute for ID BEV 5 for minute 540:  7.666666666666667\n",
      "SET BEV DATA for current minute for ID BEV 11 for minute 540:  7.666666666666667\n",
      "SET BEV DATA for current minute for ID BEV 18 for minute 540:  7.666666666666667\n",
      "Charging BEVs (nachdem neue Plätze belegt):  [5, 11, 18]\n",
      "AVAILABLE SOLAR POWER:  23.0\n",
      "Restladeenergie bis zur fairen Ladeenergie for BEV mit ID 5:  0.1999999999999993\n",
      "Restladezeit:  1.5652173913043421\n",
      "Die Restladezeit des BEVS 5 endet vor dem nächsten Interval\n",
      "SET BEV DATA after charging time over for ID BEV 5 for minute 541.5652173913044:  6.609999999999999\n",
      "ALLOCATE FREED SOLAR ENERGY ;)\n",
      "Ausgewähltes BEV das frei gewordenen Platz belegen darf:  41\n",
      "Ladestart für ausgewähltes BEV:  541.5652173913044\n",
      "SET BEV DATA for charging start of new bev for ID BEV 41 for minute 541.5652173913044:  7.666666666666667\n",
      "SET BEV DATA charging start between intervals for ID BEV 41 for minute 541.5652173913044:  7.666666666666667\n",
      "AVAILABLE SOLAR POWER:  23.0\n",
      "Restladeenergie bis zur fairen Ladeenergie for BEV mit ID 11:  3.047500000000004\n",
      "Restladezeit:  23.850000000000026\n",
      "AVAILABLE SOLAR POWER:  23.0\n",
      "Restladeenergie bis zur fairen Ladeenergie for BEV mit ID 18:  2.6299999999999994\n",
      "Restladezeit:  20.58260869565217\n",
      "Charging BEVs:  [5, 11, 18]\n",
      "\n",
      "\n",
      "Minute:  555\n",
      "Waiting BEVs:  [50, 59, 64, 70, 80, 81, 85, 3, 17, 19, 20, 21, 22, 25, 26, 27, 28, 33, 34, 36, 38, 45, 48, 51, 53, 57, 60, 73, 77, 91, 92, 93, 95, 99, 1, 8, 15, 24, 37, 43, 46, 55, 68, 72, 87]\n",
      "Waiting BEVs after updating parking end:  [50, 59, 64, 70, 80, 81, 85, 3, 17, 19, 20, 21, 22, 25, 26, 27, 28, 33, 34, 36, 38, 45, 48, 51, 53, 57, 60, 73, 77, 91, 92, 93, 95, 99, 1, 8, 15, 24, 37, 43, 46, 55, 68, 72, 87]\n",
      "Charging BEVs after updating post optimization plan and parking end:  [11, 18, 41]\n",
      "FUEL Charging BEV:  11\n",
      "FUEL Charging BEV:  18\n",
      "SET BEV DATA for current minute for ID BEV 11 for minute 555:  10.333333333333334\n",
      "SET BEV DATA for current minute for ID BEV 18 for minute 555:  10.333333333333334\n",
      "SET BEV DATA for current minute for ID BEV 41 for minute 555:  10.333333333333334\n",
      "Charging BEVs (nachdem neue Plätze belegt):  [11, 18, 41]\n",
      "AVAILABLE SOLAR POWER:  31.0\n",
      "Restladeenergie bis zur fairen Ladeenergie for BEV mit ID 11:  1.130833333333337\n",
      "Restladezeit:  6.566129032258084\n",
      "Die Restladezeit des BEVS 11 endet vor dem nächsten Interval\n",
      "SET BEV DATA after charging time over for ID BEV 11 for minute 561.5661290322581:  10.166666666666666\n",
      "ALLOCATE FREED SOLAR ENERGY ;)\n",
      "Ausgewähltes BEV das frei gewordenen Platz belegen darf:  50\n",
      "Ladestart für ausgewähltes BEV:  561.5661290322581\n",
      "SET BEV DATA for charging start of new bev for ID BEV 50 for minute 561.5661290322581:  10.333333333333334\n",
      "SET BEV DATA charging start between intervals for ID BEV 50 for minute 561.5661290322581:  10.333333333333334\n",
      "AVAILABLE SOLAR POWER:  31.0\n",
      "Restladeenergie bis zur fairen Ladeenergie for BEV mit ID 18:  0.7133333333333327\n",
      "Restladezeit:  4.141935483870964\n",
      "Die Restladezeit des BEVS 18 endet vor dem nächsten Interval\n",
      "SET BEV DATA after charging time over for ID BEV 18 for minute 559.141935483871:  9.736666666666666\n",
      "AVAILABLE SOLAR POWER:  31.0\n",
      "Restladeenergie bis zur fairen Ladeenergie for BEV mit ID 41:  -0.11916666666666398\n",
      "Restladezeit:  -0.6919354838709522\n",
      "Charging BEVs:  [11, 18, 41]\n",
      "\n",
      "\n",
      "Minute:  570\n",
      "Waiting BEVs:  [59, 64, 70, 80, 81, 85, 3, 17, 19, 20, 21, 22, 25, 26, 27, 28, 33, 34, 36, 38, 45, 48, 51, 53, 57, 60, 73, 77, 91, 92, 93, 95, 99, 1, 8, 15, 24, 37, 43, 46, 55, 68, 72, 87]\n",
      "Waiting BEVs after updating parking end:  [59, 64, 70, 80, 81, 85, 3, 17, 19, 20, 21, 22, 25, 26, 27, 28, 33, 34, 36, 38, 45, 48, 51, 53, 57, 60, 73, 77, 91, 92, 93, 95, 99, 1, 8, 15, 24, 37, 43, 46, 55, 68, 72, 87, 39, 65, 96]\n",
      "Charging BEVs after updating post optimization plan and parking end:  [41, 50]\n",
      "FUEL Charging BEV:  41\n",
      "SET BEV DATA for current minute for ID BEV 41 for minute 570:  9.75\n",
      "SET BEV DATA for current minute for ID BEV 50 for minute 570:  9.75\n",
      "SET BEV DATA for current minute for ID BEV 59 for minute 570:  9.75\n",
      "SET BEV DATA for current minute for ID BEV 64 for minute 570:  9.75\n",
      "Charging BEVs (nachdem neue Plätze belegt):  [41, 50, 59, 64]\n",
      "AVAILABLE SOLAR POWER:  39.0\n",
      "Restladeenergie bis zur fairen Ladeenergie for BEV mit ID 41:  -2.7024999999999975\n",
      "Restladezeit:  -16.630769230769214\n",
      "AVAILABLE SOLAR POWER:  39.0\n",
      "Restladeenergie bis zur fairen Ladeenergie for BEV mit ID 50:  1.8775000000000084\n",
      "Restladezeit:  11.553846153846205\n",
      "Die Restladezeit des BEVS 50 endet vor dem nächsten Interval\n",
      "SET BEV DATA after charging time over for ID BEV 50 for minute 581.5538461538462:  10.29\n",
      "ALLOCATE FREED SOLAR ENERGY ;)\n",
      "Ausgewähltes BEV das frei gewordenen Platz belegen darf:  70\n",
      "Ladestart für ausgewähltes BEV:  581.5538461538462\n",
      "SET BEV DATA for charging start of new bev for ID BEV 70 for minute 581.5538461538462:  9.75\n",
      "SET BEV DATA charging start between intervals for ID BEV 70 for minute 581.5538461538462:  9.75\n",
      "AVAILABLE SOLAR POWER:  39.0\n",
      "Restladeenergie bis zur fairen Ladeenergie for BEV mit ID 59:  2.7699999999999996\n",
      "Restladezeit:  17.046153846153842\n",
      "AVAILABLE SOLAR POWER:  39.0\n",
      "Restladeenergie bis zur fairen Ladeenergie for BEV mit ID 64:  4.14\n",
      "Restladezeit:  25.476923076923075\n",
      "Charging BEVs:  [41, 50, 59, 64]\n",
      "\n",
      "\n",
      "Minute:  585\n",
      "Waiting BEVs:  [80, 81, 85, 3, 17, 19, 20, 21, 22, 25, 26, 27, 28, 33, 34, 36, 38, 45, 48, 51, 53, 57, 60, 73, 77, 91, 92, 93, 95, 99, 1, 8, 15, 24, 37, 43, 46, 55, 68, 72, 87, 39, 65, 96]\n",
      "Waiting BEVs after updating parking end:  [80, 81, 85, 3, 17, 19, 20, 21, 22, 25, 26, 27, 28, 33, 34, 36, 38, 45, 48, 51, 53, 57, 60, 73, 77, 91, 92, 93, 95, 99, 1, 8, 15, 24, 37, 43, 46, 55, 68, 72, 87, 39, 65, 96]\n",
      "Charging BEVs after updating post optimization plan and parking end:  [41, 59, 64, 70]\n",
      "FUEL Charging BEV:  41\n",
      "FUEL Charging BEV:  59\n",
      "FUEL Charging BEV:  64\n",
      "SET BEV DATA for current minute for ID BEV 41 for minute 585:  9.4\n",
      "SET BEV DATA for current minute for ID BEV 59 for minute 585:  9.4\n",
      "SET BEV DATA for current minute for ID BEV 64 for minute 585:  9.4\n",
      "SET BEV DATA for current minute for ID BEV 70 for minute 585:  9.4\n",
      "SET BEV DATA for current minute for ID BEV 80 for minute 585:  9.4\n",
      "Charging BEVs (nachdem neue Plätze belegt):  [41, 59, 64, 70, 80]\n",
      "AVAILABLE SOLAR POWER:  47.0\n",
      "Restladeenergie bis zur fairen Ladeenergie for BEV mit ID 41:  -5.139999999999997\n",
      "Restladezeit:  -32.80851063829785\n",
      "AVAILABLE SOLAR POWER:  47.0\n",
      "Restladeenergie bis zur fairen Ladeenergie for BEV mit ID 59:  0.3324999999999996\n",
      "Restladezeit:  2.1223404255319123\n",
      "Die Restladezeit des BEVS 59 endet vor dem nächsten Interval\n",
      "SET BEV DATA after charging time over for ID BEV 59 for minute 587.1223404255319:  8.826\n",
      "ALLOCATE FREED SOLAR ENERGY ;)\n",
      "Ausgewähltes BEV das frei gewordenen Platz belegen darf:  81\n",
      "Ladestart für ausgewähltes BEV:  587.1223404255319\n",
      "SET BEV DATA for charging start of new bev for ID BEV 81 for minute 587.1223404255319:  9.4\n",
      "SET BEV DATA charging start between intervals for ID BEV 81 for minute 587.1223404255319:  9.4\n",
      "AVAILABLE SOLAR POWER:  47.0\n",
      "Restladeenergie bis zur fairen Ladeenergie for BEV mit ID 64:  1.7024999999999997\n",
      "Restladezeit:  10.867021276595743\n",
      "Die Restladezeit des BEVS 64 endet vor dem nächsten Interval\n",
      "SET BEV DATA after charging time over for ID BEV 64 for minute 595.8670212765958:  9.76\n",
      "AVAILABLE SOLAR POWER:  47.0\n",
      "Restladeenergie bis zur fairen Ladeenergie for BEV mit ID 70:  3.5150000000000015\n",
      "Restladezeit:  22.436170212765965\n",
      "AVAILABLE SOLAR POWER:  47.0\n",
      "Restladeenergie bis zur fairen Ladeenergie for BEV mit ID 80:  4.074999999999999\n",
      "Restladezeit:  26.010638297872333\n",
      "Charging BEVs:  [41, 59, 64, 70, 80]\n",
      "\n",
      "\n",
      "Minute:  600\n",
      "Waiting BEVs:  [85, 3, 17, 19, 20, 21, 22, 25, 26, 27, 28, 33, 34, 36, 38, 45, 48, 51, 53, 57, 60, 73, 77, 91, 92, 93, 95, 99, 1, 8, 15, 24, 37, 43, 46, 55, 68, 72, 87, 39, 65, 96]\n",
      "Waiting BEVs after updating parking end:  [85, 3, 17, 19, 20, 21, 22, 25, 26, 27, 28, 33, 34, 36, 38, 45, 48, 51, 53, 57, 60, 73, 77, 91, 92, 93, 95, 99, 1, 8, 15, 24, 37, 43, 46, 55, 68, 72, 87, 39, 65, 96, 58]\n",
      "Charging BEVs after updating post optimization plan and parking end:  [41, 70, 80, 81]\n",
      "FUEL Charging BEV:  41\n",
      "FUEL Charging BEV:  70\n",
      "FUEL Charging BEV:  80\n",
      "SET BEV DATA for current minute for ID BEV 41 for minute 600:  10.176\n",
      "SET BEV DATA for current minute for ID BEV 70 for minute 600:  10.176\n",
      "SET BEV DATA for current minute for ID BEV 80 for minute 600:  10.176\n",
      "SET BEV DATA for current minute for ID BEV 81 for minute 600:  10.176\n"
     ]
    },
    {
     "name": "stdout",
     "output_type": "stream",
     "text": [
      "SET BEV DATA for current minute for ID BEV 85 for minute 600:  10.176\n",
      "Charging BEVs (nachdem neue Plätze belegt):  [41, 70, 80, 81, 85]\n",
      "AVAILABLE SOLAR POWER:  50.88\n",
      "Restladeenergie bis zur fairen Ladeenergie for BEV mit ID 41:  -7.489999999999997\n",
      "Restladezeit:  -44.16273584905658\n",
      "AVAILABLE SOLAR POWER:  50.88\n",
      "Restladeenergie bis zur fairen Ladeenergie for BEV mit ID 70:  1.165000000000001\n",
      "Restladezeit:  6.869103773584911\n",
      "Die Restladezeit des BEVS 70 endet vor dem nächsten Interval\n",
      "SET BEV DATA after charging time over for ID BEV 70 for minute 606.8691037735849:  10.178\n",
      "ALLOCATE FREED SOLAR ENERGY ;)\n",
      "Ausgewähltes BEV das frei gewordenen Platz belegen darf:  3\n",
      "Ladestart für ausgewähltes BEV:  606.8691037735849\n",
      "SET BEV DATA for charging start of new bev for ID BEV 3 for minute 606.8691037735849:  10.176\n",
      "SET BEV DATA charging start between intervals for ID BEV 3 for minute 606.8691037735849:  10.176\n",
      "AVAILABLE SOLAR POWER:  50.88\n",
      "Restladeenergie bis zur fairen Ladeenergie for BEV mit ID 80:  1.7249999999999992\n",
      "Restladezeit:  10.17099056603773\n",
      "Die Restladezeit des BEVS 80 endet vor dem nächsten Interval\n",
      "SET BEV DATA after charging time over for ID BEV 80 for minute 610.1709905660377:  10.166\n",
      "AVAILABLE SOLAR POWER:  50.88\n",
      "Restladeenergie bis zur fairen Ladeenergie for BEV mit ID 81:  0.12249999999999561\n",
      "Restladezeit:  0.7222877358490307\n",
      "Die Restladezeit des BEVS 81 endet vor dem nächsten Interval\n",
      "SET BEV DATA after charging time over for ID BEV 81 for minute 600.722287735849:  10.198\n",
      "AVAILABLE SOLAR POWER:  50.88\n",
      "Restladeenergie bis zur fairen Ladeenergie for BEV mit ID 85:  2.1399999999999997\n",
      "Restladezeit:  12.617924528301884\n",
      "Die Restladezeit des BEVS 85 endet vor dem nächsten Interval\n",
      "SET BEV DATA after charging time over for ID BEV 85 for minute 612.6179245283018:  10.158\n",
      "Charging BEVs:  [41, 70, 80, 81, 85]\n",
      "\n",
      "\n",
      "Minute:  615\n",
      "Waiting BEVs:  [17, 19, 20, 21, 22, 25, 26, 27, 28, 33, 34, 36, 38, 45, 48, 51, 53, 57, 60, 73, 77, 91, 92, 93, 95, 99, 1, 8, 15, 24, 37, 43, 46, 55, 68, 72, 87, 39, 65, 96, 58]\n",
      "Waiting BEVs after updating parking end:  [17, 19, 20, 21, 22, 25, 26, 27, 28, 33, 34, 36, 38, 45, 48, 51, 53, 57, 60, 73, 77, 91, 92, 93, 95, 99, 1, 8, 15, 24, 37, 43, 46, 55, 68, 72, 87, 39, 65, 96, 58]\n",
      "Charging BEVs after updating post optimization plan and parking end:  [41, 3]\n",
      "FUEL Charging BEV:  41\n",
      "SET BEV DATA for current minute for ID BEV 41 for minute 615:  10.123999999999999\n",
      "SET BEV DATA for current minute for ID BEV 3 for minute 615:  10.123999999999999\n",
      "SET BEV DATA for current minute for ID BEV 17 for minute 615:  10.123999999999999\n",
      "SET BEV DATA for current minute for ID BEV 19 for minute 615:  10.123999999999999\n",
      "SET BEV DATA for current minute for ID BEV 20 for minute 615:  10.123999999999999\n",
      "Charging BEVs (nachdem neue Plätze belegt):  [41, 3, 17, 19, 20]\n",
      "AVAILABLE SOLAR POWER:  50.62\n",
      "Restladeenergie bis zur fairen Ladeenergie for BEV mit ID 41:  -10.033999999999997\n",
      "Restladezeit:  -59.46661398656657\n",
      "AVAILABLE SOLAR POWER:  50.62\n",
      "Restladeenergie bis zur fairen Ladeenergie for BEV mit ID 3:  1.6935000000000033\n",
      "Restladezeit:  10.036546819438978\n",
      "Die Restladezeit des BEVS 3 endet vor dem nächsten Interval\n",
      "SET BEV DATA after charging time over for ID BEV 3 for minute 625.036546819439:  10.116\n",
      "ALLOCATE FREED SOLAR ENERGY ;)\n",
      "Ausgewähltes BEV das frei gewordenen Platz belegen darf:  21\n",
      "Ladestart für ausgewähltes BEV:  625.036546819439\n",
      "SET BEV DATA for charging start of new bev for ID BEV 21 for minute 625.036546819439:  10.123999999999999\n",
      "SET BEV DATA charging start between intervals for ID BEV 21 for minute 625.036546819439:  10.123999999999999\n",
      "AVAILABLE SOLAR POWER:  50.62\n",
      "Restladeenergie bis zur fairen Ladeenergie for BEV mit ID 17:  3.39\n",
      "Restladezeit:  20.090873172659034\n",
      "AVAILABLE SOLAR POWER:  50.62\n",
      "Restladeenergie bis zur fairen Ladeenergie for BEV mit ID 19:  3.7500000000000004\n",
      "Restladezeit:  22.224417226392735\n",
      "AVAILABLE SOLAR POWER:  50.62\n",
      "Restladeenergie bis zur fairen Ladeenergie for BEV mit ID 20:  3.2275\n",
      "Restladezeit:  19.127815092848678\n",
      "Charging BEVs:  [41, 3, 17, 19, 20]\n",
      "\n",
      "\n",
      "Minute:  630\n",
      "Waiting BEVs:  [22, 25, 26, 27, 28, 33, 34, 36, 38, 45, 48, 51, 53, 57, 60, 73, 77, 91, 92, 93, 95, 99, 1, 8, 15, 24, 37, 43, 46, 55, 68, 72, 87, 39, 65, 96, 58]\n",
      "Waiting BEVs after updating parking end:  [22, 25, 26, 27, 28, 33, 34, 36, 38, 45, 48, 51, 53, 57, 60, 73, 77, 91, 92, 93, 95, 99, 1, 8, 15, 24, 37, 43, 46, 55, 68, 72, 87, 39, 65, 96, 58]\n",
      "Charging BEVs after updating post optimization plan and parking end:  [41, 17, 19, 20, 21]\n",
      "FUEL Charging BEV:  41\n",
      "FUEL Charging BEV:  17\n",
      "FUEL Charging BEV:  19\n",
      "FUEL Charging BEV:  20\n",
      "SET BEV DATA for current minute for ID BEV 41 for minute 630:  10.076\n",
      "SET BEV DATA for current minute for ID BEV 17 for minute 630:  10.076\n",
      "SET BEV DATA for current minute for ID BEV 19 for minute 630:  10.076\n",
      "SET BEV DATA for current minute for ID BEV 20 for minute 630:  10.076\n",
      "SET BEV DATA for current minute for ID BEV 21 for minute 630:  10.076\n",
      "Charging BEVs (nachdem neue Plätze belegt):  [41, 17, 19, 20, 21]\n",
      "AVAILABLE SOLAR POWER:  50.38\n",
      "Restladeenergie bis zur fairen Ladeenergie for BEV mit ID 41:  -12.564999999999998\n",
      "Restladezeit:  -74.82135768161967\n",
      "AVAILABLE SOLAR POWER:  50.38\n",
      "Restladeenergie bis zur fairen Ladeenergie for BEV mit ID 17:  0.8590000000000004\n",
      "Restladezeit:  5.115125049622868\n",
      "Die Restladezeit des BEVS 17 endet vor dem nächsten Interval\n",
      "SET BEV DATA after charging time over for ID BEV 17 for minute 635.1151250496229:  10.081999999999999\n",
      "ALLOCATE FREED SOLAR ENERGY ;)\n",
      "Ausgewähltes BEV das frei gewordenen Platz belegen darf:  22\n",
      "Ladestart für ausgewähltes BEV:  635.1151250496229\n",
      "SET BEV DATA for charging start of new bev for ID BEV 22 for minute 635.1151250496229:  10.076\n",
      "SET BEV DATA charging start between intervals for ID BEV 22 for minute 635.1151250496229:  10.076\n",
      "AVAILABLE SOLAR POWER:  50.38\n",
      "Restladeenergie bis zur fairen Ladeenergie for BEV mit ID 19:  1.2190000000000007\n",
      "Restladezeit:  7.258832870186586\n",
      "Die Restladezeit des BEVS 19 endet vor dem nächsten Interval\n",
      "SET BEV DATA after charging time over for ID BEV 19 for minute 637.2588328701866:  10.076\n",
      "AVAILABLE SOLAR POWER:  50.38\n",
      "Restladeenergie bis zur fairen Ladeenergie for BEV mit ID 20:  0.6965000000000003\n",
      "Restladezeit:  4.147479158396191\n",
      "Die Restladezeit des BEVS 20 endet vor dem nächsten Interval\n",
      "SET BEV DATA after charging time over for ID BEV 20 for minute 634.1474791583962:  10.086\n",
      "AVAILABLE SOLAR POWER:  50.38\n",
      "Restladeenergie bis zur fairen Ladeenergie for BEV mit ID 21:  3.2000000000000024\n",
      "Restladezeit:  19.055180627233042\n",
      "Charging BEVs:  [41, 17, 19, 20, 21]\n",
      "\n",
      "\n",
      "Minute:  645\n",
      "Waiting BEVs:  [25, 26, 27, 28, 33, 34, 36, 38, 45, 48, 51, 53, 57, 60, 73, 77, 91, 92, 93, 95, 99, 1, 8, 15, 24, 37, 43, 46, 55, 68, 72, 87, 39, 65, 96, 58]\n",
      "SET BEV DATA charging start between intervals for ID BEV 13 for minute 658.2940941739824:  12.53\n",
      "Waiting BEVs after updating parking end:  [25, 26, 27, 28, 33, 34, 36, 38, 45, 48, 51, 53, 57, 60, 73, 77, 91, 92, 93, 95, 99, 1, 8, 15, 24, 37, 43, 46, 55, 68, 72, 87, 39, 65, 96, 58]\n",
      "Charging BEVs after updating post optimization plan and parking end:  [41, 21, 22]\n",
      "FUEL Charging BEV:  41\n",
      "FUEL Charging BEV:  21\n",
      "SET BEV DATA for current minute for ID BEV 41 for minute 645:  12.53\n",
      "SET BEV DATA for current minute for ID BEV 21 for minute 645:  12.53\n",
      "SET BEV DATA for current minute for ID BEV 22 for minute 645:  12.53\n",
      "SET BEV DATA for current minute for ID BEV 25 for minute 645:  12.53\n",
      "Charging BEVs (nachdem neue Plätze belegt):  [41, 21, 22, 25]\n",
      "AVAILABLE SOLAR POWER:  50.12\n",
      "Restladeenergie bis zur fairen Ladeenergie for BEV mit ID 41:  -15.084\n",
      "Restladezeit:  -72.22984836392658\n",
      "AVAILABLE SOLAR POWER:  50.12\n",
      "Restladeenergie bis zur fairen Ladeenergie for BEV mit ID 21:  0.6810000000000023\n",
      "Restladezeit:  3.260973663208311\n",
      "Die Restladezeit des BEVS 21 endet vor dem nächsten Interval\n",
      "SET BEV DATA after charging time over for ID BEV 21 for minute 648.2609736632083:  10.040000000000001\n",
      "AVAILABLE SOLAR POWER:  50.12\n",
      "Restladeenergie bis zur fairen Ladeenergie for BEV mit ID 22:  0.714999999999999\n",
      "Restladezeit:  3.4237829209896202\n",
      "Die Restladezeit des BEVS 22 endet vor dem nächsten Interval\n",
      "SET BEV DATA after charging time over for ID BEV 22 for minute 648.4237829209897:  10.038\n",
      "AVAILABLE SOLAR POWER:  50.12\n",
      "Restladeenergie bis zur fairen Ladeenergie for BEV mit ID 25:  3.535\n",
      "Restladezeit:  16.92737430167598\n",
      "Charging BEVs:  [41, 21, 22, 25]\n",
      "\n",
      "\n",
      "Minute:  660\n",
      "Waiting BEVs:  [26, 27, 28, 33, 34, 36, 38, 45, 48, 51, 53, 57, 60, 73, 77, 91, 92, 93, 95, 99, 1, 8, 15, 24, 37, 43, 46, 55, 68, 72, 87, 39, 65, 96, 58]\n",
      "stop parking at interval_minute for  13\n",
      "Waiting BEVs after updating parking end:  [26, 27, 28, 33, 34, 36, 38, 45, 48, 51, 53, 57, 60, 73, 77, 91, 92, 93, 95, 99, 1, 8, 15, 24, 37, 43, 46, 55, 68, 72, 87, 39, 65, 96, 58]\n",
      "Charging BEVs after updating post optimization plan and parking end:  [41, 25]\n",
      "FUEL Charging BEV:  41\n",
      "FUEL Charging BEV:  25\n",
      "SET BEV DATA for current minute for ID BEV 41 for minute 660:  10.123999999999999\n",
      "SET BEV DATA for current minute for ID BEV 25 for minute 660:  10.123999999999999\n",
      "SET BEV DATA for current minute for ID BEV 26 for minute 660:  10.123999999999999\n",
      "SET BEV DATA for current minute for ID BEV 27 for minute 660:  10.123999999999999\n",
      "SET BEV DATA for current minute for ID BEV 28 for minute 660:  10.123999999999999\n",
      "Charging BEVs (nachdem neue Plätze belegt):  [41, 25, 26, 27, 28]\n",
      "AVAILABLE SOLAR POWER:  50.62\n",
      "Restladeenergie bis zur fairen Ladeenergie for BEV mit ID 41:  -18.2165\n",
      "Restladezeit:  -107.96029237455552\n",
      "Die Restparkzeit von BEV  41 endet vor dem nächsten Intervall\n",
      "SET BEV DATA after parking time over for ID BEV 41 for minute 672:  8.5\n",
      "Ausgewähltes BEV das frei gewordenen Platz belegen darf:  33\n",
      "Ladestart für ausgewähltes BEV:  672\n",
      "SET BEV DATA for charging start of new bev for ID BEV 33 for minute 672:  10.123999999999999\n",
      "SET BEV DATA charging start between intervals for ID BEV 33 for minute 672:  10.123999999999999\n",
      "AVAILABLE SOLAR POWER:  50.62\n",
      "Restladeenergie bis zur fairen Ladeenergie for BEV mit ID 25:  0.4025000000000003\n",
      "Restladezeit:  2.3854207822994886\n",
      "Die Restladezeit des BEVS 25 endet vor dem nächsten Interval\n",
      "SET BEV DATA after charging time over for ID BEV 25 for minute 662.3854207822994:  8.366666666666667\n",
      "AVAILABLE SOLAR POWER:  50.62\n",
      "Restladeenergie bis zur fairen Ladeenergie for BEV mit ID 26:  3.6525000000000003\n",
      "Restladezeit:  21.646582378506523\n",
      "AVAILABLE SOLAR POWER:  50.62\n",
      "Restladeenergie bis zur fairen Ladeenergie for BEV mit ID 27:  2.205\n",
      "Restladezeit:  13.067957329118927\n",
      "Die Restladezeit des BEVS 27 endet vor dem nächsten Interval\n",
      "SET BEV DATA after charging time over for ID BEV 27 for minute 673.0679573291189:  8.515\n",
      "AVAILABLE SOLAR POWER:  50.62\n",
      "Restladeenergie bis zur fairen Ladeenergie for BEV mit ID 28:  2.6675\n",
      "Restladezeit:  15.808968787040698\n",
      "Charging BEVs:  [41, 25, 26, 27, 28]\n",
      "\n",
      "\n"
     ]
    },
    {
     "name": "stdout",
     "output_type": "stream",
     "text": [
      "Minute:  675\n",
      "Waiting BEVs:  [34, 36, 38, 45, 48, 51, 53, 57, 60, 73, 77, 91, 92, 93, 95, 99, 1, 8, 15, 24, 37, 43, 46, 55, 68, 72, 87, 39, 65, 96, 58]\n",
      "SET BEV DATA charging start between intervals for ID BEV 7 for minute 689.1713231305645:  8.646666666666667\n",
      "SET BEV DATA charging start between intervals for ID BEV 35 for minute 683.37847471008:  8.646666666666667\n",
      "SET BEV DATA charging start between intervals for ID BEV 86 for minute 689.8812418917205:  8.646666666666667\n",
      "Waiting BEVs after updating parking end:  [34, 36, 38, 45, 48, 51, 53, 57, 60, 73, 77, 91, 92, 93, 95, 99, 1, 8, 15, 24, 37, 43, 46, 55, 68, 72, 87, 39, 65, 96, 58]\n",
      "Charging BEVs after updating post optimization plan and parking end:  [26, 28, 33]\n",
      "FUEL Charging BEV:  26\n",
      "FUEL Charging BEV:  28\n",
      "SET BEV DATA for current minute for ID BEV 26 for minute 675:  17.293333333333333\n",
      "SET BEV DATA for current minute for ID BEV 28 for minute 675:  17.293333333333333\n",
      "SET BEV DATA for current minute for ID BEV 33 for minute 675:  17.293333333333333\n",
      "Charging BEVs (nachdem neue Plätze belegt):  [26, 28, 33]\n",
      "AVAILABLE SOLAR POWER:  51.88\n",
      "Restladeenergie bis zur fairen Ladeenergie for BEV mit ID 26:  1.1215000000000006\n",
      "Restladezeit:  3.891094834232847\n",
      "Die Restladezeit des BEVS 26 endet vor dem nächsten Interval\n",
      "SET BEV DATA after charging time over for ID BEV 26 for minute 678.8910948342328:  7.367142857142857\n",
      "AVAILABLE SOLAR POWER:  51.88\n",
      "Restladeenergie bis zur fairen Ladeenergie for BEV mit ID 28:  0.1365000000000003\n",
      "Restladezeit:  0.4735929067077882\n",
      "Die Restladezeit des BEVS 28 endet vor dem nächsten Interval\n",
      "SET BEV DATA after charging time over for ID BEV 28 for minute 675.4735929067078:  7.327142857142857\n",
      "AVAILABLE SOLAR POWER:  51.88\n",
      "Restladeenergie bis zur fairen Ladeenergie for BEV mit ID 33:  3.4663000000000004\n",
      "Restladezeit:  12.026484194294527\n",
      "Die Restladezeit des BEVS 33 endet vor dem nächsten Interval\n",
      "SET BEV DATA after charging time over for ID BEV 33 for minute 687.0264841942945:  7.464285714285714\n",
      "Charging BEVs:  [26, 28, 33]\n",
      "\n",
      "\n",
      "Minute:  690\n",
      "Waiting BEVs:  [34, 36, 38, 45, 48, 51, 53, 57, 60, 73, 77, 91, 92, 93, 95, 99, 1, 8, 15, 24, 37, 43, 46, 55, 68, 72, 87, 39, 65, 96, 58]\n",
      "SET BEV DATA charging start between intervals for ID BEV 6 for minute 699.1773343373494:  6.64\n",
      "SET BEV DATA after charging time over for ID BEV 7 for minute 699.0502635542168:  6.65625\n",
      "SET BEV DATA charging start between intervals for ID BEV 23 for minute 691.2944277108434:  6.64\n",
      "SET BEV DATA after charging time over for ID BEV 35 for minute 694.286686369194:  5.873333333333333\n",
      "SET BEV DATA charging start between intervals for ID BEV 61 for minute 694.286686369194:  6.64\n",
      "SET BEV DATA charging start between intervals for ID BEV 67 for minute 699.0502635542168:  6.64\n",
      "SET BEV DATA charging start between intervals for ID BEV 76 for minute 702.1282003012049:  6.64\n",
      "SET BEV DATA after charging time over for ID BEV 86 for minute 699.1773343373494:  4.4383333333333335\n",
      "Waiting BEVs after updating parking end:  [34, 36, 38, 45, 48, 51, 53, 57, 60, 73, 77, 91, 92, 93, 95, 99, 1, 8, 15, 24, 37, 43, 46, 55, 68, 72, 87, 39, 65, 96, 58, 79]\n",
      "Charging BEVs after updating post optimization plan and parking end:  [7, 35, 86]\n",
      "SET BEV DATA for current minute for ID BEV 7 for minute 690:  17.706666666666667\n",
      "SET BEV DATA for current minute for ID BEV 35 for minute 690:  17.706666666666667\n",
      "SET BEV DATA for current minute for ID BEV 86 for minute 690:  17.706666666666667\n",
      "Charging BEVs (nachdem neue Plätze belegt):  [7, 35, 86]\n",
      "AVAILABLE SOLAR POWER:  53.12\n",
      "Restladeenergie bis zur fairen Ladeenergie for BEV mit ID 7:  1.3565159555935733\n",
      "Restladezeit:  4.596627861574608\n",
      "Die Restladezeit des BEVS 7 endet vor dem nächsten Interval\n",
      "AVAILABLE SOLAR POWER:  53.12\n",
      "Restladeenergie bis zur fairen Ladeenergie for BEV mit ID 35:  1.2388713416951789\n",
      "Restladezeit:  4.197982709057459\n",
      "Die Restladezeit des BEVS 35 endet vor dem nächsten Interval\n",
      "AVAILABLE SOLAR POWER:  53.12\n",
      "Restladeenergie bis zur fairen Ladeenergie for BEV mit ID 86:  1.3422606370623853\n",
      "Restladezeit:  4.5483229418529625\n",
      "Die Restladezeit des BEVS 86 endet vor dem nächsten Interval\n",
      "Charging BEVs:  [7, 35, 86]\n",
      "\n",
      "\n",
      "Minute:  705\n",
      "Waiting BEVs:  [34, 36, 38, 45, 48, 51, 53, 57, 60, 73, 77, 91, 92, 93, 95, 99, 1, 8, 15, 24, 37, 43, 46, 55, 68, 72, 87, 39, 65, 96, 58, 79]\n",
      "SET BEV DATA after charging time over for ID BEV 23 for minute 705.766826038985:  3.843571428571429\n",
      "SET BEV DATA charging start between intervals for ID BEV 98 for minute 705.766826038985:  9.063333333333334\n",
      "Waiting BEVs after updating parking end:  [34, 36, 38, 45, 48, 51, 53, 57, 60, 73, 77, 91, 92, 93, 95, 99, 1, 8, 15, 24, 37, 43, 46, 55, 68, 72, 87, 39, 65, 96, 58, 79]\n",
      "Charging BEVs after updating post optimization plan and parking end:  [6, 23, 61, 67, 76]\n",
      "SET BEV DATA for current minute for ID BEV 6 for minute 705:  10.876000000000001\n",
      "SET BEV DATA for current minute for ID BEV 23 for minute 705:  10.876000000000001\n",
      "SET BEV DATA for current minute for ID BEV 61 for minute 705:  10.876000000000001\n",
      "SET BEV DATA for current minute for ID BEV 67 for minute 705:  10.876000000000001\n",
      "SET BEV DATA for current minute for ID BEV 76 for minute 705:  10.876000000000001\n",
      "Charging BEVs (nachdem neue Plätze belegt):  [6, 23, 61, 67, 76]\n",
      "AVAILABLE SOLAR POWER:  54.38\n",
      "Restladeenergie bis zur fairen Ladeenergie for BEV mit ID 6:  3.1056250000000016\n",
      "Restladezeit:  17.132907318867236\n",
      "AVAILABLE SOLAR POWER:  54.38\n",
      "Restladeenergie bis zur fairen Ladeenergie for BEV mit ID 23:  1.0349166666666598\n",
      "Restladezeit:  5.7093600588451245\n",
      "Die Restladezeit des BEVS 23 endet vor dem nächsten Interval\n",
      "AVAILABLE SOLAR POWER:  54.38\n",
      "Restladeenergie bis zur fairen Ladeenergie for BEV mit ID 61:  2.7193932915241303\n",
      "Restladezeit:  15.002169684759819\n",
      "AVAILABLE SOLAR POWER:  54.38\n",
      "Restladeenergie bis zur fairen Ladeenergie for BEV mit ID 67:  3.1140624999999957\n",
      "Restladezeit:  17.17945476278041\n",
      "AVAILABLE SOLAR POWER:  54.38\n",
      "Restladeenergie bis zur fairen Ladeenergie for BEV mit ID 76:  2.909687500000004\n",
      "Restladezeit:  16.051972232438416\n",
      "Charging BEVs:  [6, 23, 61, 67, 76]\n",
      "\n",
      "\n",
      "Minute:  720\n",
      "Waiting BEVs:  [34, 36, 38, 45, 48, 51, 53, 57, 60, 73, 77, 91, 92, 93, 95, 99, 1, 8, 15, 24, 37, 43, 46, 55, 68, 72, 87, 39, 65, 96, 58, 79]\n",
      "SET BEV DATA charging start between intervals for ID BEV 78 for minute 727.5541619156214:  5.846666666666667\n",
      "SET BEV DATA charging start between intervals for ID BEV 82 for minute 725.6299885974914:  5.846666666666667\n",
      "SET BEV DATA charging start between intervals for ID BEV 84 for minute 726.3854047890536:  5.846666666666667\n",
      "SET BEV DATA charging start between intervals for ID BEV 89 for minute 725.6299885974914:  5.846666666666667\n",
      "SET BEV DATA after charging time over for ID BEV 98 for minute 726.3854047890536:  2.7884210526315787\n",
      "Waiting BEVs after updating parking end:  [34, 36, 38, 45, 48, 51, 53, 57, 60, 73, 77, 91, 92, 93, 95, 99, 1, 8, 15, 24, 37, 43, 46, 55, 68, 72, 87, 39, 65, 96, 58, 79, 94, 97]\n",
      "Charging BEVs after updating post optimization plan and parking end:  [6, 61, 67, 76, 98]\n",
      "FUEL Charging BEV:  6\n",
      "FUEL Charging BEV:  61\n",
      "FUEL Charging BEV:  67\n",
      "FUEL Charging BEV:  76\n",
      "SET BEV DATA for current minute for ID BEV 6 for minute 720:  10.524\n",
      "SET BEV DATA for current minute for ID BEV 61 for minute 720:  10.524\n",
      "SET BEV DATA for current minute for ID BEV 67 for minute 720:  10.524\n",
      "SET BEV DATA for current minute for ID BEV 76 for minute 720:  10.524\n",
      "SET BEV DATA for current minute for ID BEV 98 for minute 720:  10.524\n",
      "Charging BEVs (nachdem neue Plätze belegt):  [6, 61, 67, 76, 98]\n",
      "AVAILABLE SOLAR POWER:  52.62\n",
      "Restladeenergie bis zur fairen Ladeenergie for BEV mit ID 6:  0.38662500000000133\n",
      "Restladezeit:  2.2042474344355836\n",
      "Die Restladezeit des BEVS 6 endet vor dem nächsten Interval\n",
      "SET BEV DATA after charging time over for ID BEV 6 for minute 722.2042474344356:  2.857894736842105\n",
      "AVAILABLE SOLAR POWER:  52.62\n",
      "Restladeenergie bis zur fairen Ladeenergie for BEV mit ID 61:  0.0003932915241304791\n",
      "Restladezeit:  0.0022422549836401315\n",
      "Die Restladezeit des BEVS 61 endet vor dem nächsten Interval\n",
      "SET BEV DATA after charging time over for ID BEV 61 for minute 720.0022422549837:  2.8947368421052633\n",
      "AVAILABLE SOLAR POWER:  52.62\n",
      "Restladeenergie bis zur fairen Ladeenergie for BEV mit ID 67:  0.39506249999999543\n",
      "Restladezeit:  2.2523517673887996\n",
      "Die Restladezeit des BEVS 67 endet vor dem nächsten Interval\n",
      "SET BEV DATA after charging time over for ID BEV 67 for minute 722.2523517673887:  2.8573684210526316\n",
      "AVAILABLE SOLAR POWER:  52.62\n",
      "Restladeenergie bis zur fairen Ladeenergie for BEV mit ID 76:  0.19068750000000367\n",
      "Restladezeit:  1.0871579247434644\n",
      "Die Restladezeit des BEVS 76 endet vor dem nächsten Interval\n",
      "SET BEV DATA after charging time over for ID BEV 76 for minute 721.0871579247435:  2.8768421052631576\n",
      "AVAILABLE SOLAR POWER:  52.62\n",
      "Restladeenergie bis zur fairen Ladeenergie for BEV mit ID 98:  0.9277777777777816\n",
      "Restladezeit:  5.289497022678344\n",
      "Die Restladezeit des BEVS 98 endet vor dem nächsten Interval\n",
      "Charging BEVs:  [6, 61, 67, 76, 98]\n",
      "\n",
      "\n",
      "Minute:  735\n",
      "Waiting BEVs:  [34, 36, 38, 45, 48, 51, 53, 57, 60, 73, 77, 91, 92, 93, 95, 99, 1, 8, 15, 24, 37, 43, 46, 55, 68, 72, 87, 39, 65, 96, 58, 79, 94, 97]\n",
      "Waiting BEVs after updating parking end:  [34, 36, 38, 45, 48, 51, 53, 57, 60, 73, 77, 91, 92, 93, 95, 99, 1, 24, 37, 43, 72, 87, 39, 65, 96, 58, 79, 94, 97]\n",
      "Charging BEVs after updating post optimization plan and parking end:  [78, 82, 84, 89, 62]\n",
      "FUEL Charging BEV:  62\n",
      "SET BEV DATA for current minute for ID BEV 78 for minute 735:  9.576\n",
      "SET BEV DATA for current minute for ID BEV 82 for minute 735:  9.576\n",
      "SET BEV DATA for current minute for ID BEV 84 for minute 735:  9.576\n",
      "SET BEV DATA for current minute for ID BEV 89 for minute 735:  9.576\n",
      "SET BEV DATA for current minute for ID BEV 62 for minute 735:  9.576\n",
      "Charging BEVs (nachdem neue Plätze belegt):  [78, 82, 84, 89, 62]\n",
      "AVAILABLE SOLAR POWER:  47.88\n",
      "Restladeenergie bis zur fairen Ladeenergie for BEV mit ID 78:  2.974444444444443\n",
      "Restladezeit:  18.636869952659417\n",
      "AVAILABLE SOLAR POWER:  47.88\n",
      "Restladeenergie bis zur fairen Ladeenergie for BEV mit ID 82:  3.1244444444444435\n",
      "Restladezeit:  19.57671957671957\n",
      "AVAILABLE SOLAR POWER:  47.88\n",
      "Restladeenergie bis zur fairen Ladeenergie for BEV mit ID 84:  3.0655555555555574\n",
      "Restladezeit:  19.20774157616264\n",
      "AVAILABLE SOLAR POWER:  47.88\n",
      "Restladeenergie bis zur fairen Ladeenergie for BEV mit ID 89:  3.1244444444444435\n",
      "Restladezeit:  19.57671957671957\n",
      "AVAILABLE SOLAR POWER:  47.88\n",
      "Restladeenergie bis zur fairen Ladeenergie for BEV mit ID 62:  -0.6309999999999998\n",
      "Restladezeit:  -3.953634085213031\n",
      "Charging BEVs:  [78, 82, 84, 89, 62]\n",
      "\n",
      "\n"
     ]
    },
    {
     "name": "stdout",
     "output_type": "stream",
     "text": [
      "Minute:  750\n",
      "Waiting BEVs:  [34, 36, 38, 45, 48, 51, 53, 57, 60, 73, 77, 91, 92, 93, 95, 99, 1, 24, 37, 43, 72, 87, 39, 65, 96, 58, 79, 94, 97]\n",
      "SET BEV DATA charging start between intervals for ID BEV 74 for minute 762.9713248935939:  7.1866666666666665\n",
      "Waiting BEVs after updating parking end:  [34, 36, 38, 45, 48, 51, 53, 57, 60, 73, 77, 91, 92, 93, 95, 99, 24, 37, 43, 72, 87, 39, 65, 96, 58, 79, 94, 97, 10, 75]\n",
      "Charging BEVs after updating post optimization plan and parking end:  [78, 82, 84, 89, 62]\n",
      "FUEL Charging BEV:  78\n",
      "FUEL Charging BEV:  82\n",
      "FUEL Charging BEV:  84\n",
      "FUEL Charging BEV:  89\n",
      "FUEL Charging BEV:  62\n",
      "SET BEV DATA for current minute for ID BEV 78 for minute 750:  8.623999999999999\n",
      "SET BEV DATA for current minute for ID BEV 82 for minute 750:  8.623999999999999\n",
      "SET BEV DATA for current minute for ID BEV 84 for minute 750:  8.623999999999999\n",
      "SET BEV DATA for current minute for ID BEV 89 for minute 750:  8.623999999999999\n",
      "SET BEV DATA for current minute for ID BEV 62 for minute 750:  8.623999999999999\n",
      "Charging BEVs (nachdem neue Plätze belegt):  [78, 82, 84, 89, 62]\n",
      "AVAILABLE SOLAR POWER:  43.12\n",
      "Restladeenergie bis zur fairen Ladeenergie for BEV mit ID 78:  0.580444444444443\n",
      "Restladezeit:  4.038342609771171\n",
      "Die Restladezeit des BEVS 78 endet vor dem nächsten Interval\n",
      "SET BEV DATA after charging time over for ID BEV 78 for minute 754.0383426097711:  2.211\n",
      "AVAILABLE SOLAR POWER:  43.12\n",
      "Restladeenergie bis zur fairen Ladeenergie for BEV mit ID 82:  0.7304444444444433\n",
      "Restladezeit:  5.0819418676561465\n",
      "Die Restladezeit des BEVS 82 endet vor dem nächsten Interval\n",
      "SET BEV DATA after charging time over for ID BEV 82 for minute 755.0819418676562:  2.1945\n",
      "AVAILABLE SOLAR POWER:  43.12\n",
      "Restladeenergie bis zur fairen Ladeenergie for BEV mit ID 84:  0.6715555555555572\n",
      "Restladezeit:  4.672232529375399\n",
      "Die Restladezeit des BEVS 84 endet vor dem nächsten Interval\n",
      "SET BEV DATA after charging time over for ID BEV 84 for minute 754.6722325293754:  2.201\n",
      "AVAILABLE SOLAR POWER:  43.12\n",
      "Restladeenergie bis zur fairen Ladeenergie for BEV mit ID 89:  0.7304444444444433\n",
      "Restladezeit:  5.0819418676561465\n",
      "Die Restladezeit des BEVS 89 endet vor dem nächsten Interval\n",
      "SET BEV DATA after charging time over for ID BEV 89 for minute 755.0819418676562:  2.1945\n",
      "AVAILABLE SOLAR POWER:  43.12\n",
      "Restladeenergie bis zur fairen Ladeenergie for BEV mit ID 62:  -3.0250000000000004\n",
      "Restladezeit:  -21.045918367346943\n",
      "Charging BEVs:  [78, 82, 84, 89, 62]\n",
      "\n",
      "\n",
      "Minute:  765\n",
      "Waiting BEVs:  [34, 36, 38, 45, 48, 51, 53, 57, 60, 73, 77, 91, 92, 93, 95, 99, 24, 37, 43, 72, 87, 39, 65, 96, 58, 79, 94, 97, 10, 75]\n",
      "SET BEV DATA charging start between intervals for ID BEV 69 for minute 773.1168194218803:  12.793333333333335\n",
      "SET BEV DATA after charging time over for ID BEV 74 for minute 773.1168194218803:  1.909\n",
      "Waiting BEVs after updating parking end:  [34, 36, 38, 45, 48, 53, 57, 60, 73, 77, 91, 92, 93, 95, 99, 24, 37, 43, 72, 87, 39, 65, 96, 58, 79, 94, 97, 10, 75]\n",
      "Charging BEVs after updating post optimization plan and parking end:  [62, 74, 44, 52]\n",
      "FUEL Charging BEV:  62\n",
      "FUEL Charging BEV:  44\n",
      "FUEL Charging BEV:  52\n",
      "SET BEV DATA for current minute for ID BEV 62 for minute 765:  9.595\n",
      "SET BEV DATA for current minute for ID BEV 74 for minute 765:  9.595\n",
      "SET BEV DATA for current minute for ID BEV 44 for minute 765:  9.595\n",
      "SET BEV DATA for current minute for ID BEV 52 for minute 765:  9.595\n",
      "Charging BEVs (nachdem neue Plätze belegt):  [62, 74, 44, 52]\n",
      "AVAILABLE SOLAR POWER:  38.38\n",
      "Restladeenergie bis zur fairen Ladeenergie for BEV mit ID 62:  -5.181\n",
      "Restladezeit:  -32.39812402292861\n",
      "AVAILABLE SOLAR POWER:  38.38\n",
      "Restladeenergie bis zur fairen Ladeenergie for BEV mit ID 74:  -0.31117647058824116\n",
      "Restladezeit:  -1.9458664132667502\n",
      "AVAILABLE SOLAR POWER:  38.38\n",
      "Restladeenergie bis zur fairen Ladeenergie for BEV mit ID 44:  -0.4934999999999996\n",
      "Restladezeit:  -3.0859822824387675\n",
      "AVAILABLE SOLAR POWER:  38.38\n",
      "Restladeenergie bis zur fairen Ladeenergie for BEV mit ID 52:  -0.4934999999999996\n",
      "Restladezeit:  -3.0859822824387675\n",
      "Charging BEVs:  [62, 74, 44, 52]\n",
      "\n",
      "\n",
      "Minute:  780\n",
      "Waiting BEVs:  [34, 36, 38, 45, 48, 53, 57, 60, 73, 77, 91, 92, 93, 95, 99, 24, 37, 43, 72, 87, 39, 65, 96, 58, 79, 94, 97, 10, 75]\n",
      "Waiting BEVs after updating parking end:  [34, 36, 38, 45, 48, 53, 60, 73, 77, 91, 92, 93, 95, 99, 24, 37, 43, 72, 87, 39, 65, 96, 58, 79, 94, 97, 10, 75, 71, 83, 88, 90]\n",
      "Charging BEVs after updating post optimization plan and parking end:  [62, 44, 52, 69]\n",
      "FUEL Charging BEV:  62\n",
      "FUEL Charging BEV:  44\n",
      "FUEL Charging BEV:  52\n",
      "SET BEV DATA for current minute for ID BEV 62 for minute 780:  9.1875\n",
      "SET BEV DATA for current minute for ID BEV 44 for minute 780:  9.1875\n",
      "SET BEV DATA for current minute for ID BEV 52 for minute 780:  9.1875\n",
      "SET BEV DATA for current minute for ID BEV 69 for minute 780:  9.1875\n",
      "Charging BEVs (nachdem neue Plätze belegt):  [62, 44, 52, 69]\n",
      "AVAILABLE SOLAR POWER:  36.75\n",
      "Restladeenergie bis zur fairen Ladeenergie for BEV mit ID 62:  -7.579750000000001\n",
      "Restladezeit:  -49.50040816326531\n",
      "AVAILABLE SOLAR POWER:  36.75\n",
      "Restladeenergie bis zur fairen Ladeenergie for BEV mit ID 44:  -2.89225\n",
      "Restladezeit:  -18.888163265306122\n",
      "AVAILABLE SOLAR POWER:  36.75\n",
      "Restladeenergie bis zur fairen Ladeenergie for BEV mit ID 52:  -2.89225\n",
      "Restladezeit:  -18.888163265306122\n",
      "AVAILABLE SOLAR POWER:  36.75\n",
      "Restladeenergie bis zur fairen Ladeenergie for BEV mit ID 69:  2.232352941176485\n",
      "Restladezeit:  14.578631452581124\n",
      "Die Restladezeit des BEVS 69 endet vor dem nächsten Interval\n",
      "SET BEV DATA after charging time over for ID BEV 69 for minute 794.5786314525811:  1.873\n",
      "ALLOCATE FREED SOLAR ENERGY ;)\n",
      "Ausgewähltes BEV das frei gewordenen Platz belegen darf:  34\n",
      "Ladestart für ausgewähltes BEV:  794.5786314525811\n",
      "SET BEV DATA for charging start of new bev for ID BEV 34 for minute 794.5786314525811:  9.1875\n",
      "SET BEV DATA charging start between intervals for ID BEV 34 for minute 794.5786314525811:  9.1875\n",
      "Charging BEVs:  [62, 44, 52, 69]\n",
      "\n",
      "\n",
      "Minute:  795\n",
      "Waiting BEVs:  [36, 38, 45, 48, 53, 60, 73, 77, 91, 92, 93, 95, 99, 24, 37, 43, 72, 87, 39, 65, 96, 58, 79, 94, 97, 10, 75, 71, 83, 88, 90]\n",
      "SET BEV DATA charging start between intervals for ID BEV 66 for minute 803.3176470588236:  7.65\n",
      "Waiting BEVs after updating parking end:  [36, 38, 45, 48, 53, 60, 73, 77, 91, 92, 93, 95, 99, 24, 37, 43, 72, 87, 96, 79, 94, 97, 10, 75, 71, 83, 88, 90]\n",
      "Charging BEVs after updating post optimization plan and parking end:  [62, 44, 52, 34]\n",
      "FUEL Charging BEV:  62\n",
      "FUEL Charging BEV:  44\n",
      "FUEL Charging BEV:  52\n",
      "SET BEV DATA for current minute for ID BEV 62 for minute 795:  9.5625\n",
      "SET BEV DATA for current minute for ID BEV 44 for minute 795:  9.5625\n",
      "SET BEV DATA for current minute for ID BEV 52 for minute 795:  9.5625\n",
      "SET BEV DATA for current minute for ID BEV 34 for minute 795:  9.5625\n",
      "Charging BEVs (nachdem neue Plätze belegt):  [62, 44, 52, 34]\n",
      "AVAILABLE SOLAR POWER:  38.25\n",
      "Restladeenergie bis zur fairen Ladeenergie for BEV mit ID 62:  -9.876625\n",
      "Restladezeit:  -61.97098039215687\n",
      "AVAILABLE SOLAR POWER:  38.25\n",
      "Restladeenergie bis zur fairen Ladeenergie for BEV mit ID 44:  -5.189125000000001\n",
      "Restladezeit:  -32.55921568627451\n",
      "AVAILABLE SOLAR POWER:  38.25\n",
      "Restladeenergie bis zur fairen Ladeenergie for BEV mit ID 52:  -5.189125000000001\n",
      "Restladezeit:  -32.55921568627451\n",
      "AVAILABLE SOLAR POWER:  38.25\n",
      "Restladeenergie bis zur fairen Ladeenergie for BEV mit ID 34:  3.0079779411764864\n",
      "Restladezeit:  18.87358708189168\n",
      "Charging BEVs:  [62, 44, 52, 34]\n",
      "\n",
      "\n",
      "Minute:  810\n",
      "Waiting BEVs:  [36, 38, 45, 48, 53, 60, 73, 77, 91, 92, 93, 95, 99, 24, 37, 43, 72, 87, 96, 79, 94, 97, 10, 75, 71, 83, 88, 90]\n",
      "SET BEV DATA charging start between intervals for ID BEV 63 for minute 811.8415094339623:  6.625\n",
      "SET BEV DATA after charging time over for ID BEV 66 for minute 811.8415094339623:  1.703478260869565\n",
      "Waiting BEVs after updating parking end:  [36, 38, 48, 53, 73, 77, 91, 92, 93, 95, 99, 24, 43, 72, 87, 96, 79, 94, 97, 10, 75, 71, 83, 88, 90]\n",
      "Charging BEVs after updating post optimization plan and parking end:  [62, 44, 52, 34, 66]\n",
      "FUEL Charging BEV:  62\n",
      "FUEL Charging BEV:  44\n",
      "FUEL Charging BEV:  52\n",
      "FUEL Charging BEV:  34\n",
      "SET BEV DATA for current minute for ID BEV 62 for minute 810:  7.95\n",
      "SET BEV DATA for current minute for ID BEV 44 for minute 810:  7.95\n",
      "SET BEV DATA for current minute for ID BEV 52 for minute 810:  7.95\n",
      "SET BEV DATA for current minute for ID BEV 34 for minute 810:  7.95\n",
      "SET BEV DATA for current minute for ID BEV 66 for minute 810:  7.95\n",
      "Charging BEVs (nachdem neue Plätze belegt):  [62, 44, 52, 34, 66]\n",
      "AVAILABLE SOLAR POWER:  39.75\n",
      "Restladeenergie bis zur fairen Ladeenergie for BEV mit ID 62:  -12.26725\n",
      "Restladezeit:  -92.58301886792454\n",
      "AVAILABLE SOLAR POWER:  39.75\n",
      "Restladeenergie bis zur fairen Ladeenergie for BEV mit ID 44:  -7.579750000000001\n",
      "Restladezeit:  -57.20566037735849\n",
      "AVAILABLE SOLAR POWER:  39.75\n",
      "Restladeenergie bis zur fairen Ladeenergie for BEV mit ID 52:  -7.579750000000001\n",
      "Restladezeit:  -57.20566037735849\n",
      "AVAILABLE SOLAR POWER:  39.75\n",
      "Restladeenergie bis zur fairen Ladeenergie for BEV mit ID 34:  0.6173529411764864\n",
      "Restladezeit:  4.659267480577256\n",
      "Die Restladezeit des BEVS 34 endet vor dem nächsten Interval\n",
      "SET BEV DATA after charging time over for ID BEV 34 for minute 814.6592674805772:  1.7160869565217391\n",
      "Die Restparkzeit von BEV  34 endet vor dem nächsten Intervall\n",
      "SET BEV DATA after parking time over for ID BEV 34 for minute 816:  1.7217391304347827\n",
      "AVAILABLE SOLAR POWER:  39.75\n",
      "Restladeenergie bis zur fairen Ladeenergie for BEV mit ID 66:  0.3146666666666693\n",
      "Restladezeit:  2.3748427672956174\n",
      "Die Restladezeit des BEVS 66 endet vor dem nächsten Interval\n",
      "Charging BEVs:  [62, 44, 52, 34, 66]\n"
     ]
    },
    {
     "name": "stdout",
     "output_type": "stream",
     "text": [
      "\n",
      "\n",
      "Minute:  825\n",
      "Waiting BEVs:  [36, 38, 48, 53, 73, 77, 91, 92, 93, 95, 99, 24, 43, 72, 87, 96, 79, 94, 97, 10, 75, 71, 83, 88, 90]\n",
      "SET BEV DATA charging start between intervals for ID BEV 56 for minute 830.0945454545455:  8.25\n",
      "SET BEV DATA after charging time over for ID BEV 63 for minute 830.0945454545455:  1.7830434782608695\n",
      "Waiting BEVs after updating parking end:  [36, 38, 48, 53, 73, 77, 91, 92, 95, 99, 24, 43, 72, 87, 96, 79, 94, 97, 10, 75, 71, 83, 88, 90]\n",
      "Charging BEVs after updating post optimization plan and parking end:  [62, 44, 52, 63]\n",
      "FUEL Charging BEV:  62\n",
      "FUEL Charging BEV:  44\n",
      "FUEL Charging BEV:  52\n",
      "SET BEV DATA for current minute for ID BEV 62 for minute 825:  10.3125\n",
      "SET BEV DATA for current minute for ID BEV 44 for minute 825:  10.3125\n",
      "SET BEV DATA for current minute for ID BEV 52 for minute 825:  10.3125\n",
      "SET BEV DATA for current minute for ID BEV 63 for minute 825:  10.3125\n",
      "Charging BEVs (nachdem neue Plätze belegt):  [62, 44, 52, 63]\n",
      "AVAILABLE SOLAR POWER:  41.25\n",
      "Restladeenergie bis zur fairen Ladeenergie for BEV mit ID 62:  -14.254750000000001\n",
      "Restladezeit:  -82.93672727272728\n",
      "AVAILABLE SOLAR POWER:  41.25\n",
      "Restladeenergie bis zur fairen Ladeenergie for BEV mit ID 44:  -9.567250000000001\n",
      "Restladezeit:  -55.66400000000001\n",
      "AVAILABLE SOLAR POWER:  41.25\n",
      "Restladeenergie bis zur fairen Ladeenergie for BEV mit ID 52:  -9.567250000000001\n",
      "Restladezeit:  -55.66400000000001\n",
      "AVAILABLE SOLAR POWER:  41.25\n",
      "Restladeenergie bis zur fairen Ladeenergie for BEV mit ID 63:  0.9015833333333334\n",
      "Restladezeit:  5.245575757575757\n",
      "Die Restladezeit des BEVS 63 endet vor dem nächsten Interval\n",
      "Charging BEVs:  [62, 44, 52, 63]\n",
      "\n",
      "\n",
      "Minute:  840\n",
      "Waiting BEVs:  [36, 38, 48, 53, 73, 77, 91, 92, 95, 99, 24, 43, 72, 87, 96, 79, 94, 97, 10, 75, 71, 83, 88, 90]\n",
      "SET BEV DATA charging start between intervals for ID BEV 49 for minute 852.7043129237387:  7.8\n",
      "Waiting BEVs after updating parking end:  [36, 38, 48, 53, 73, 77, 91, 95, 99, 24, 72, 96, 79, 94, 97, 10, 75, 71, 83, 88, 90]\n",
      "Charging BEVs after updating post optimization plan and parking end:  [62, 44, 52, 56]\n",
      "FUEL Charging BEV:  62\n",
      "FUEL Charging BEV:  44\n",
      "FUEL Charging BEV:  52\n",
      "SET BEV DATA for current minute for ID BEV 62 for minute 840:  9.75\n",
      "SET BEV DATA for current minute for ID BEV 44 for minute 840:  9.75\n",
      "SET BEV DATA for current minute for ID BEV 52 for minute 840:  9.75\n",
      "SET BEV DATA for current minute for ID BEV 56 for minute 840:  9.75\n",
      "Charging BEVs (nachdem neue Plätze belegt):  [62, 44, 52, 56]\n",
      "AVAILABLE SOLAR POWER:  39.0\n",
      "Restladeenergie bis zur fairen Ladeenergie for BEV mit ID 62:  -16.832875\n",
      "Restladezeit:  -103.58692307692309\n",
      "AVAILABLE SOLAR POWER:  39.0\n",
      "Restladeenergie bis zur fairen Ladeenergie for BEV mit ID 44:  -12.145375000000001\n",
      "Restladezeit:  -74.74076923076925\n",
      "AVAILABLE SOLAR POWER:  39.0\n",
      "Restladeenergie bis zur fairen Ladeenergie for BEV mit ID 52:  -12.145375000000001\n",
      "Restladezeit:  -74.74076923076925\n",
      "AVAILABLE SOLAR POWER:  39.0\n",
      "Restladeenergie bis zur fairen Ladeenergie for BEV mit ID 56:  2.7780000000000036\n",
      "Restladezeit:  17.09538461538464\n",
      "Charging BEVs:  [62, 44, 52, 56]\n",
      "\n",
      "\n",
      "Minute:  855\n",
      "Waiting BEVs:  [36, 38, 48, 53, 73, 77, 91, 95, 99, 24, 72, 96, 79, 94, 97, 10, 75, 71, 83, 88, 90]\n",
      "SET BEV DATA charging start between intervals for ID BEV 32 for minute 860.4379137278593:  4.714285714285714\n",
      "SET BEV DATA charging start between intervals for ID BEV 47 for minute 868.6227272727273:  4.714285714285714\n",
      "SET BEV DATA after charging time over for ID BEV 49 for minute 860.4379137278593:  1.2525925925925927\n",
      "Waiting BEVs after updating parking end:  [36, 38, 48, 53, 73, 77, 91, 99, 24, 72, 96, 79, 94, 97, 10, 75, 71, 83, 88, 90]\n",
      "Charging BEVs after updating post optimization plan and parking end:  [62, 44, 52, 56, 49]\n",
      "FUEL Charging BEV:  62\n",
      "FUEL Charging BEV:  44\n",
      "FUEL Charging BEV:  52\n",
      "FUEL Charging BEV:  56\n",
      "SET BEV DATA for current minute for ID BEV 62 for minute 855:  6.6\n",
      "SET BEV DATA for current minute for ID BEV 44 for minute 855:  6.6\n",
      "SET BEV DATA for current minute for ID BEV 52 for minute 855:  6.6\n",
      "SET BEV DATA for current minute for ID BEV 56 for minute 855:  6.6\n",
      "SET BEV DATA for current minute for ID BEV 49 for minute 855:  6.6\n",
      "Charging BEVs (nachdem neue Plätze belegt):  [62, 44, 52, 56, 49]\n",
      "AVAILABLE SOLAR POWER:  33.0\n",
      "Restladeenergie bis zur fairen Ladeenergie for BEV mit ID 62:  -19.270375\n",
      "Restladezeit:  -175.18522727272727\n",
      "AVAILABLE SOLAR POWER:  33.0\n",
      "Restladeenergie bis zur fairen Ladeenergie for BEV mit ID 44:  -14.582875000000003\n",
      "Restladezeit:  -132.57159090909093\n",
      "AVAILABLE SOLAR POWER:  33.0\n",
      "Restladeenergie bis zur fairen Ladeenergie for BEV mit ID 52:  -14.582875000000003\n",
      "Restladezeit:  -132.57159090909093\n",
      "AVAILABLE SOLAR POWER:  33.0\n",
      "Restladeenergie bis zur fairen Ladeenergie for BEV mit ID 56:  0.3405000000000036\n",
      "Restladezeit:  3.095454545454578\n",
      "Die Restladezeit des BEVS 56 endet vor dem nächsten Interval\n",
      "SET BEV DATA after charging time over for ID BEV 56 for minute 858.0954545454546:  1.2874074074074073\n",
      "AVAILABLE SOLAR POWER:  33.0\n",
      "Restladeenergie bis zur fairen Ladeenergie for BEV mit ID 49:  0.6442960300399474\n",
      "Restladezeit:  5.857236636726794\n",
      "Die Restladezeit des BEVS 49 endet vor dem nächsten Interval\n",
      "Charging BEVs:  [62, 44, 52, 56, 49]\n",
      "\n",
      "\n",
      "Minute:  870\n",
      "Waiting BEVs:  [36, 38, 48, 53, 73, 77, 91, 99, 24, 72, 96, 79, 94, 97, 10, 75, 71, 83, 88, 90]\n",
      "SET BEV DATA charging start between intervals for ID BEV 40 for minute 884.3166666666667:  3.857142857142857\n",
      "SET BEV DATA charging start between intervals for ID BEV 42 for minute 881.65:  3.857142857142857\n",
      "SET BEV DATA after charging time over for ID BEV 47 for minute 881.65:  0.8737931034482759\n",
      "Waiting BEVs after updating parking end:  [36, 38, 48, 53, 73, 77, 91, 99, 24, 72, 96, 79, 94, 97, 10, 75, 71, 83, 88, 90, 54]\n",
      "Charging BEVs after updating post optimization plan and parking end:  [62, 44, 52, 32, 47]\n",
      "FUEL Charging BEV:  62\n",
      "FUEL Charging BEV:  44\n",
      "FUEL Charging BEV:  52\n",
      "SET BEV DATA for current minute for ID BEV 62 for minute 870:  5.4\n",
      "SET BEV DATA for current minute for ID BEV 44 for minute 870:  5.4\n",
      "SET BEV DATA for current minute for ID BEV 52 for minute 870:  5.4\n",
      "SET BEV DATA for current minute for ID BEV 32 for minute 870:  5.4\n",
      "SET BEV DATA for current minute for ID BEV 47 for minute 870:  5.4\n",
      "Charging BEVs (nachdem neue Plätze belegt):  [62, 44, 52, 32, 47]\n",
      "AVAILABLE SOLAR POWER:  27.0\n",
      "Restladeenergie bis zur fairen Ladeenergie for BEV mit ID 62:  -20.920375\n",
      "Restladezeit:  -232.44861111111112\n",
      "AVAILABLE SOLAR POWER:  27.0\n",
      "Restladeenergie bis zur fairen Ladeenergie for BEV mit ID 44:  -16.232875\n",
      "Restladezeit:  -180.36527777777775\n",
      "AVAILABLE SOLAR POWER:  27.0\n",
      "Restladeenergie bis zur fairen Ladeenergie for BEV mit ID 52:  -16.232875\n",
      "Restladezeit:  -180.36527777777775\n",
      "AVAILABLE SOLAR POWER:  27.0\n",
      "Restladeenergie bis zur fairen Ladeenergie for BEV mit ID 32:  3.286193221474657\n",
      "Restladezeit:  36.51325801638508\n",
      "AVAILABLE SOLAR POWER:  27.0\n",
      "Restladeenergie bis zur fairen Ladeenergie for BEV mit ID 47:  1.1428571428571443\n",
      "Restladezeit:  12.698412698412714\n",
      "Die Restladezeit des BEVS 47 endet vor dem nächsten Interval\n",
      "Charging BEVs:  [62, 44, 52, 32, 47]\n",
      "\n",
      "\n",
      "Minute:  885\n",
      "Waiting BEVs:  [36, 38, 48, 53, 73, 77, 91, 99, 24, 72, 96, 79, 94, 97, 10, 75, 71, 83, 88, 90, 54]\n",
      "SET BEV DATA charging start between intervals for ID BEV 29 for minute 892.0290795387924:  2.625\n",
      "SET BEV DATA charging start between intervals for ID BEV 31 for minute 895.8428571428572:  2.625\n",
      "SET BEV DATA after charging time over for ID BEV 40 for minute 895.8428571428572:  0.614375\n",
      "Waiting BEVs after updating parking end:  [38, 48, 53, 73, 77, 91, 24, 72, 96, 79, 94, 97, 10, 75, 71, 83, 88, 90, 54]\n",
      "Charging BEVs after updating post optimization plan and parking end:  [62, 44, 52, 32, 40, 42]\n",
      "FUEL Charging BEV:  62\n",
      "FUEL Charging BEV:  44\n",
      "FUEL Charging BEV:  52\n",
      "FUEL Charging BEV:  32\n",
      "SET BEV DATA for current minute for ID BEV 62 for minute 885:  3.5\n",
      "SET BEV DATA for current minute for ID BEV 44 for minute 885:  3.5\n",
      "SET BEV DATA for current minute for ID BEV 52 for minute 885:  3.5\n",
      "SET BEV DATA for current minute for ID BEV 32 for minute 885:  3.5\n",
      "SET BEV DATA for current minute for ID BEV 40 for minute 885:  3.5\n",
      "SET BEV DATA for current minute for ID BEV 42 for minute 885:  3.5\n",
      "Charging BEVs (nachdem neue Plätze belegt):  [62, 44, 52, 32, 40, 42]\n",
      "AVAILABLE SOLAR POWER:  21.0\n",
      "Restladeenergie bis zur fairen Ladeenergie for BEV mit ID 62:  -22.270375\n",
      "Restladezeit:  -381.77785714285716\n",
      "AVAILABLE SOLAR POWER:  21.0\n",
      "Restladeenergie bis zur fairen Ladeenergie for BEV mit ID 44:  -17.582875\n",
      "Restladezeit:  -301.42071428571427\n",
      "AVAILABLE SOLAR POWER:  21.0\n",
      "Restladeenergie bis zur fairen Ladeenergie for BEV mit ID 52:  -17.582875\n",
      "Restladezeit:  -301.42071428571427\n",
      "AVAILABLE SOLAR POWER:  21.0\n",
      "Restladeenergie bis zur fairen Ladeenergie for BEV mit ID 32:  1.9361932214746571\n",
      "Restladezeit:  33.1918837967084\n",
      "AVAILABLE SOLAR POWER:  21.0\n",
      "Restladeenergie bis zur fairen Ladeenergie for BEV mit ID 40:  1.4816964285714314\n",
      "Restladezeit:  25.40051020408168\n",
      "AVAILABLE SOLAR POWER:  21.0\n",
      "Restladeenergie bis zur fairen Ladeenergie for BEV mit ID 42:  0.2871428571428556\n",
      "Restladezeit:  4.92244897959181\n",
      "Die Restladezeit des BEVS 42 endet vor dem nächsten Interval\n",
      "SET BEV DATA after charging time over for ID BEV 42 for minute 889.9224489795918:  0.6884375\n",
      "Charging BEVs:  [62, 44, 52, 32, 40, 42]\n",
      "\n",
      "\n",
      "Minute:  900\n",
      "Waiting BEVs:  [38, 48, 53, 73, 77, 91, 24, 72, 96, 79, 94, 97, 10, 75, 71, 83, 88, 90, 54]\n",
      "SET BEV DATA charging start between intervals for ID BEV 30 for minute 911.6232227488152:  2.4114285714285715\n",
      "SET BEV DATA after charging time over for ID BEV 31 for minute 911.6232227488152:  0.4927272727272728\n",
      "Waiting BEVs after updating parking end:  [38, 48, 53, 73, 77, 91, 24, 72, 96, 79, 94, 97, 10, 75, 71, 83, 88, 90, 54]\n",
      "Charging BEVs after updating post optimization plan and parking end:  [62, 44, 52, 32, 29, 31]\n",
      "FUEL Charging BEV:  62\n",
      "FUEL Charging BEV:  44\n",
      "FUEL Charging BEV:  52\n",
      "FUEL Charging BEV:  32\n",
      "SET BEV DATA for current minute for ID BEV 62 for minute 900:  2.813333333333333\n",
      "SET BEV DATA for current minute for ID BEV 44 for minute 900:  2.813333333333333\n",
      "SET BEV DATA for current minute for ID BEV 52 for minute 900:  2.813333333333333\n",
      "SET BEV DATA for current minute for ID BEV 32 for minute 900:  2.813333333333333\n"
     ]
    },
    {
     "name": "stdout",
     "output_type": "stream",
     "text": [
      "SET BEV DATA for current minute for ID BEV 29 for minute 900:  2.813333333333333\n",
      "SET BEV DATA for current minute for ID BEV 31 for minute 900:  2.813333333333333\n",
      "Charging BEVs (nachdem neue Plätze belegt):  [62, 44, 52, 32, 29, 31]\n",
      "AVAILABLE SOLAR POWER:  16.88\n",
      "Restladeenergie bis zur fairen Ladeenergie for BEV mit ID 62:  -23.145375\n",
      "Restladezeit:  -493.6217417061612\n",
      "AVAILABLE SOLAR POWER:  16.88\n",
      "Restladeenergie bis zur fairen Ladeenergie for BEV mit ID 44:  -18.457875\n",
      "Restladezeit:  -393.6513625592418\n",
      "AVAILABLE SOLAR POWER:  16.88\n",
      "Restladeenergie bis zur fairen Ladeenergie for BEV mit ID 52:  -18.457875\n",
      "Restladezeit:  -393.6513625592418\n",
      "AVAILABLE SOLAR POWER:  16.88\n",
      "Restladeenergie bis zur fairen Ladeenergie for BEV mit ID 32:  1.0611932214746571\n",
      "Restladezeit:  22.632082922445296\n",
      "AVAILABLE SOLAR POWER:  16.88\n",
      "Restladeenergie bis zur fairen Ladeenergie for BEV mit ID 29:  3.5562722298221683\n",
      "Restladezeit:  75.84466840852966\n",
      "AVAILABLE SOLAR POWER:  16.88\n",
      "Restladeenergie bis zur fairen Ladeenergie for BEV mit ID 31:  1.7134821428571407\n",
      "Restladezeit:  36.54345802301959\n",
      "Charging BEVs:  [62, 44, 52, 32, 29, 31]\n",
      "\n",
      "\n",
      "Minute:  915\n",
      "Waiting BEVs:  [38, 48, 53, 73, 77, 91, 24, 72, 96, 79, 94, 97, 10, 75, 71, 83, 88, 90, 54]\n",
      "SET BEV DATA charging start between intervals for ID BEV 14 for minute 924.5622435020521:  1.8275\n",
      "SET BEV DATA charging start between intervals for ID BEV 16 for minute 922.3461012311902:  1.8275\n",
      "SET BEV DATA after charging time over for ID BEV 30 for minute 922.3461012311902:  0.4185714285714286\n",
      "Waiting BEVs after updating parking end:  [48, 77, 91, 24, 72, 96, 79, 94, 97, 10, 75, 71, 83, 88, 90, 54]\n",
      "Charging BEVs after updating post optimization plan and parking end:  [62, 44, 52, 32, 29, 30]\n",
      "FUEL Charging BEV:  62\n",
      "FUEL Charging BEV:  44\n",
      "FUEL Charging BEV:  52\n",
      "FUEL Charging BEV:  32\n",
      "FUEL Charging BEV:  29\n",
      "SET BEV DATA for current minute for ID BEV 62 for minute 915:  2.4366666666666665\n",
      "SET BEV DATA for current minute for ID BEV 44 for minute 915:  2.4366666666666665\n",
      "SET BEV DATA for current minute for ID BEV 52 for minute 915:  2.4366666666666665\n",
      "SET BEV DATA for current minute for ID BEV 32 for minute 915:  2.4366666666666665\n",
      "SET BEV DATA for current minute for ID BEV 29 for minute 915:  2.4366666666666665\n",
      "SET BEV DATA for current minute for ID BEV 30 for minute 915:  2.4366666666666665\n",
      "Charging BEVs (nachdem neue Plätze belegt):  [62, 44, 52, 32, 29, 30]\n",
      "AVAILABLE SOLAR POWER:  14.62\n",
      "Restladeenergie bis zur fairen Ladeenergie for BEV mit ID 62:  -23.848708333333335\n",
      "Restladezeit:  -587.2458960328318\n",
      "AVAILABLE SOLAR POWER:  14.62\n",
      "Restladeenergie bis zur fairen Ladeenergie for BEV mit ID 44:  -19.161208333333335\n",
      "Restladezeit:  -471.8218194254447\n",
      "AVAILABLE SOLAR POWER:  14.62\n",
      "Restladeenergie bis zur fairen Ladeenergie for BEV mit ID 52:  -19.161208333333335\n",
      "Restladezeit:  -471.8218194254447\n",
      "AVAILABLE SOLAR POWER:  14.62\n",
      "Restladeenergie bis zur fairen Ladeenergie for BEV mit ID 32:  0.35785988814132397\n",
      "Restladezeit:  8.811871390620837\n",
      "Die Restladezeit des BEVS 32 endet vor dem nächsten Interval\n",
      "SET BEV DATA after charging time over for ID BEV 32 for minute 923.8118713906208:  0.41228571428571426\n",
      "AVAILABLE SOLAR POWER:  14.62\n",
      "Restladeenergie bis zur fairen Ladeenergie for BEV mit ID 29:  2.852938896488835\n",
      "Restladezeit:  70.25020538549799\n",
      "AVAILABLE SOLAR POWER:  14.62\n",
      "Restladeenergie bis zur fairen Ladeenergie for BEV mit ID 30:  1.0105357142857148\n",
      "Restladezeit:  24.883232362712537\n",
      "Charging BEVs:  [62, 44, 52, 32, 29, 30]\n",
      "\n",
      "\n",
      "Minute:  930\n",
      "Waiting BEVs:  [48, 77, 91, 24, 72, 96, 79, 94, 97, 10, 75, 71, 83, 88, 90, 54]\n",
      "SET BEV DATA charging start between intervals for ID BEV 4 for minute 936.8578352180938:  1.5475\n",
      "SET BEV DATA charging start between intervals for ID BEV 12 for minute 934.2407108239096:  1.5475\n",
      "SET BEV DATA after charging time over for ID BEV 14 for minute 936.8578352180938:  0.337027027027027\n",
      "SET BEV DATA after charging time over for ID BEV 16 for minute 934.2407108239096:  0.34756756756756757\n",
      "Waiting BEVs after updating parking end:  [48, 77, 91, 24, 72, 96, 94, 97, 10, 75, 71, 83, 88, 90, 54]\n",
      "Charging BEVs after updating post optimization plan and parking end:  [62, 44, 52, 29, 14, 16]\n",
      "FUEL Charging BEV:  62\n",
      "FUEL Charging BEV:  44\n",
      "FUEL Charging BEV:  52\n",
      "FUEL Charging BEV:  29\n",
      "SET BEV DATA for current minute for ID BEV 62 for minute 930:  2.0633333333333335\n",
      "SET BEV DATA for current minute for ID BEV 44 for minute 930:  2.0633333333333335\n",
      "SET BEV DATA for current minute for ID BEV 52 for minute 930:  2.0633333333333335\n",
      "SET BEV DATA for current minute for ID BEV 29 for minute 930:  2.0633333333333335\n",
      "SET BEV DATA for current minute for ID BEV 14 for minute 930:  2.0633333333333335\n",
      "SET BEV DATA for current minute for ID BEV 16 for minute 930:  2.0633333333333335\n",
      "Charging BEVs (nachdem neue Plätze belegt):  [62, 44, 52, 29, 14, 16]\n",
      "AVAILABLE SOLAR POWER:  12.38\n",
      "Restladeenergie bis zur fairen Ladeenergie for BEV mit ID 62:  -24.457875\n",
      "Restladezeit:  -711.2144588045234\n",
      "AVAILABLE SOLAR POWER:  12.38\n",
      "Restladeenergie bis zur fairen Ladeenergie for BEV mit ID 44:  -19.770375\n",
      "Restladezeit:  -574.9058966074314\n",
      "AVAILABLE SOLAR POWER:  12.38\n",
      "Restladeenergie bis zur fairen Ladeenergie for BEV mit ID 52:  -19.770375\n",
      "Restladezeit:  -574.9058966074314\n",
      "AVAILABLE SOLAR POWER:  12.38\n",
      "Restladeenergie bis zur fairen Ladeenergie for BEV mit ID 29:  2.2437722298221683\n",
      "Restladezeit:  65.24701152956224\n",
      "AVAILABLE SOLAR POWER:  12.38\n",
      "Restladeenergie bis zur fairen Ladeenergie for BEV mit ID 14:  1.0275000000000007\n",
      "Restladezeit:  29.878836833602602\n",
      "AVAILABLE SOLAR POWER:  12.38\n",
      "Restladeenergie bis zur fairen Ladeenergie for BEV mit ID 16:  1.0275000000000012\n",
      "Restladezeit:  29.878836833602616\n",
      "Charging BEVs:  [62, 44, 52, 29, 14, 16]\n",
      "\n",
      "\n",
      "Minute:  945\n",
      "Waiting BEVs:  [48, 77, 91, 24, 72, 96, 94, 97, 10, 75, 71, 83, 88, 90, 54]\n",
      "SET BEV DATA charging start between intervals for ID BEV 0 for minute 951.8774703557312:  1.4457142857142855\n",
      "SET BEV DATA after charging time over for ID BEV 4 for minute 951.8774703557312:  0.26894736842105266\n",
      "Waiting BEVs after updating parking end:  [48, 77, 94, 97, 10, 75, 71, 83, 88, 90, 54]\n",
      "Charging BEVs after updating post optimization plan and parking end:  [62, 44, 52, 29, 4, 12]\n",
      "FUEL Charging BEV:  62\n",
      "FUEL Charging BEV:  44\n",
      "FUEL Charging BEV:  52\n",
      "FUEL Charging BEV:  29\n",
      "SET BEV DATA for current minute for ID BEV 62 for minute 945:  1.6866666666666665\n",
      "SET BEV DATA for current minute for ID BEV 44 for minute 945:  1.6866666666666665\n",
      "SET BEV DATA for current minute for ID BEV 52 for minute 945:  1.6866666666666665\n",
      "SET BEV DATA for current minute for ID BEV 29 for minute 945:  1.6866666666666665\n",
      "SET BEV DATA for current minute for ID BEV 4 for minute 945:  1.6866666666666665\n",
      "SET BEV DATA for current minute for ID BEV 12 for minute 945:  1.6866666666666665\n",
      "Charging BEVs (nachdem neue Plätze belegt):  [62, 44, 52, 29, 4, 12]\n",
      "AVAILABLE SOLAR POWER:  10.12\n",
      "Restladeenergie bis zur fairen Ladeenergie for BEV mit ID 62:  -24.973708333333335\n",
      "Restladezeit:  -888.3927865612649\n",
      "AVAILABLE SOLAR POWER:  10.12\n",
      "Restladeenergie bis zur fairen Ladeenergie for BEV mit ID 44:  -20.286208333333335\n",
      "Restladezeit:  -721.6437747035574\n",
      "AVAILABLE SOLAR POWER:  10.12\n",
      "Restladeenergie bis zur fairen Ladeenergie for BEV mit ID 52:  -20.286208333333335\n",
      "Restladezeit:  -721.6437747035574\n",
      "AVAILABLE SOLAR POWER:  10.12\n",
      "Restladeenergie bis zur fairen Ladeenergie for BEV mit ID 29:  1.7279388964888351\n",
      "Restladezeit:  61.46818208853565\n",
      "AVAILABLE SOLAR POWER:  10.12\n",
      "Restladeenergie bis zur fairen Ladeenergie for BEV mit ID 4:  1.6242857142857159\n",
      "Restladezeit:  57.78091473743653\n",
      "AVAILABLE SOLAR POWER:  10.12\n",
      "Restladeenergie bis zur fairen Ladeenergie for BEV mit ID 12:  0.8325000000000011\n",
      "Restladezeit:  29.614624505928894\n",
      "Charging BEVs:  [62, 44, 52, 29, 4, 12]\n",
      "\n",
      "\n",
      "Minute:  960\n",
      "Waiting BEVs:  [48, 77, 94, 97, 10, 75, 71, 83, 88, 90, 54]\n",
      "stop parking at interval_minute for  62\n",
      "stop parking at interval_minute for  44\n",
      "stop parking at interval_minute for  52\n",
      "stop parking at interval_minute for  29\n",
      "stop parking at interval_minute for  0\n",
      "Waiting BEVs after updating parking end:  []\n",
      "Charging BEVs after updating post optimization plan and parking end:  []\n",
      "Charging BEVs (nachdem neue Plätze belegt):  []\n",
      "Charging BEVs:  []\n"
     ]
    }
   ],
   "source": [
    "import simulationClasses\n",
    "import simulationData\n",
    "import simulationOutputDataVisualisation\n",
    "import distributionAlgorithmForecastPolling\n",
    "import postOptimization\n",
    "import numpy as np\n",
    "\n",
    "simulation_day = simulationClasses.SimulationDay(anzahl_bevs_pro_tag)\n",
    "bev_data = simulationData.BevData()\n",
    "table_dict = simulationData.TableDict()\n",
    "simulation_data = simulationData.SimulationData()\n",
    "    \n",
    "day_in_minute_interval_steps = list(np.around(np.arange(480, 960 + 1, minute_interval), 1))\n",
    "distributionAlgorithmForecastPolling.init_simulation(day_in_minute_interval_steps, minute_interval, simulation_data, \n",
    "                                                   simulation_day, solarpeakleistung)\n",
    "\n",
    "postOptimization.start_post_optimization(minute_interval, simulation_day, solarpeakleistung, bev_data, table_dict, simulation_data,\n",
    "                ladeleistung_pro_bev)\n",
    "\n",
    "distributionAlgorithmForecastPolling.start_simulation(solarpeakleistung, ladeleistung_pro_bev,\n",
    "                     simulation_day, bev_data, table_dict, simulation_data, minute_interval)"
   ]
  },
  {
   "cell_type": "markdown",
   "metadata": {},
   "source": [
    "### Ergebnis Algorithmus"
   ]
  },
  {
   "cell_type": "code",
   "execution_count": 4,
   "metadata": {
    "pycharm": {
     "is_executing": true
    }
   },
   "outputs": [
    {
     "data": {
      "text/markdown": [
       ">**Ergebnis**<br>Geladene BEVs: 60 von 100<br>Verfügbare Solarenergie insgesamt: 276.47 kWh<br>Aufgeladene Solarenergie insgesamt: 232.57 kWh<br>Ungenutzte Solarenergie insgesamt: 0 kWh"
      ],
      "text/plain": [
       "<IPython.core.display.Markdown object>"
      ]
     },
     "execution_count": 4,
     "metadata": {},
     "output_type": "execute_result"
    }
   ],
   "source": [
    "simulationOutputDataVisualisation.print_algorithm_result(bev_data, simulation_data, anzahl_bevs_pro_tag, solarpeakleistung, minute_interval)"
   ]
  },
  {
   "cell_type": "markdown",
   "metadata": {},
   "source": [
    "### Tabellarische Übersicht Park- und Ladeverlauf der BEVs"
   ]
  },
  {
   "cell_type": "code",
   "execution_count": 5,
   "metadata": {
    "pycharm": {
     "is_executing": true
    }
   },
   "outputs": [
    {
     "data": {
      "application/vnd.jupyter.widget-view+json": {
       "model_id": "5284d0a8dd41479fb9cded13b711440c",
       "version_major": 2,
       "version_minor": 0
      },
      "text/plain": [
       "interactive(children=(IntSlider(value=480, description='Minute: ', max=960, min=480, step=15), Output()), _dom…"
      ]
     },
     "metadata": {},
     "output_type": "display_data"
    }
   ],
   "source": [
    "simulationOutputDataVisualisation.create_tabular_overview_per_minute_slider(table_dict, minute_interval)"
   ]
  },
  {
   "cell_type": "code",
   "execution_count": 6,
   "metadata": {
    "pycharm": {
     "is_executing": true
    }
   },
   "outputs": [
    {
     "data": {
      "application/vnd.plotly.v1+json": {
       "config": {
        "plotlyServerURL": "https://plot.ly"
       },
       "data": [
        {
         "line": {
          "color": "red"
         },
         "name": "Wartende BEVs",
         "type": "scatter",
         "x": [
          480,
          495,
          510,
          525,
          540,
          555,
          570,
          585,
          600,
          615,
          630,
          645,
          660,
          675,
          690,
          705,
          720,
          735,
          750,
          765,
          780,
          795,
          810,
          825,
          840,
          855,
          870,
          885,
          900,
          915,
          930,
          945,
          960
         ],
         "y": [
          13,
          12,
          39,
          37,
          47,
          45,
          47,
          44,
          43,
          41,
          37,
          36,
          35,
          31,
          32,
          32,
          34,
          29,
          30,
          29,
          32,
          28,
          25,
          24,
          21,
          20,
          21,
          19,
          19,
          16,
          15,
          11,
          0
         ]
        },
        {
         "line": {
          "color": "blue"
         },
         "name": "Ladende BEVs",
         "type": "scatter",
         "x": [
          960,
          945,
          930,
          915,
          900,
          885,
          870,
          855,
          840,
          825,
          810,
          795,
          780,
          765,
          750,
          735,
          720,
          705,
          690,
          675,
          660,
          645,
          630,
          615,
          600,
          585,
          570,
          555,
          540,
          525,
          510,
          495,
          480
         ],
         "y": [
          0,
          6,
          6,
          6,
          6,
          6,
          5,
          5,
          4,
          4,
          5,
          4,
          4,
          4,
          5,
          5,
          5,
          5,
          3,
          3,
          5,
          4,
          5,
          5,
          5,
          5,
          4,
          3,
          3,
          2,
          2,
          1,
          1
         ]
        }
       ],
       "layout": {
        "legend": {
         "tracegroupgap": 0
        },
        "margin": {
         "t": 60
        },
        "template": {
         "data": {
          "bar": [
           {
            "error_x": {
             "color": "#2a3f5f"
            },
            "error_y": {
             "color": "#2a3f5f"
            },
            "marker": {
             "line": {
              "color": "white",
              "width": 0.5
             },
             "pattern": {
              "fillmode": "overlay",
              "size": 10,
              "solidity": 0.2
             }
            },
            "type": "bar"
           }
          ],
          "barpolar": [
           {
            "marker": {
             "line": {
              "color": "white",
              "width": 0.5
             },
             "pattern": {
              "fillmode": "overlay",
              "size": 10,
              "solidity": 0.2
             }
            },
            "type": "barpolar"
           }
          ],
          "carpet": [
           {
            "aaxis": {
             "endlinecolor": "#2a3f5f",
             "gridcolor": "#C8D4E3",
             "linecolor": "#C8D4E3",
             "minorgridcolor": "#C8D4E3",
             "startlinecolor": "#2a3f5f"
            },
            "baxis": {
             "endlinecolor": "#2a3f5f",
             "gridcolor": "#C8D4E3",
             "linecolor": "#C8D4E3",
             "minorgridcolor": "#C8D4E3",
             "startlinecolor": "#2a3f5f"
            },
            "type": "carpet"
           }
          ],
          "choropleth": [
           {
            "colorbar": {
             "outlinewidth": 0,
             "ticks": ""
            },
            "type": "choropleth"
           }
          ],
          "contour": [
           {
            "colorbar": {
             "outlinewidth": 0,
             "ticks": ""
            },
            "colorscale": [
             [
              0,
              "#0d0887"
             ],
             [
              0.1111111111111111,
              "#46039f"
             ],
             [
              0.2222222222222222,
              "#7201a8"
             ],
             [
              0.3333333333333333,
              "#9c179e"
             ],
             [
              0.4444444444444444,
              "#bd3786"
             ],
             [
              0.5555555555555556,
              "#d8576b"
             ],
             [
              0.6666666666666666,
              "#ed7953"
             ],
             [
              0.7777777777777778,
              "#fb9f3a"
             ],
             [
              0.8888888888888888,
              "#fdca26"
             ],
             [
              1,
              "#f0f921"
             ]
            ],
            "type": "contour"
           }
          ],
          "contourcarpet": [
           {
            "colorbar": {
             "outlinewidth": 0,
             "ticks": ""
            },
            "type": "contourcarpet"
           }
          ],
          "heatmap": [
           {
            "colorbar": {
             "outlinewidth": 0,
             "ticks": ""
            },
            "colorscale": [
             [
              0,
              "#0d0887"
             ],
             [
              0.1111111111111111,
              "#46039f"
             ],
             [
              0.2222222222222222,
              "#7201a8"
             ],
             [
              0.3333333333333333,
              "#9c179e"
             ],
             [
              0.4444444444444444,
              "#bd3786"
             ],
             [
              0.5555555555555556,
              "#d8576b"
             ],
             [
              0.6666666666666666,
              "#ed7953"
             ],
             [
              0.7777777777777778,
              "#fb9f3a"
             ],
             [
              0.8888888888888888,
              "#fdca26"
             ],
             [
              1,
              "#f0f921"
             ]
            ],
            "type": "heatmap"
           }
          ],
          "heatmapgl": [
           {
            "colorbar": {
             "outlinewidth": 0,
             "ticks": ""
            },
            "colorscale": [
             [
              0,
              "#0d0887"
             ],
             [
              0.1111111111111111,
              "#46039f"
             ],
             [
              0.2222222222222222,
              "#7201a8"
             ],
             [
              0.3333333333333333,
              "#9c179e"
             ],
             [
              0.4444444444444444,
              "#bd3786"
             ],
             [
              0.5555555555555556,
              "#d8576b"
             ],
             [
              0.6666666666666666,
              "#ed7953"
             ],
             [
              0.7777777777777778,
              "#fb9f3a"
             ],
             [
              0.8888888888888888,
              "#fdca26"
             ],
             [
              1,
              "#f0f921"
             ]
            ],
            "type": "heatmapgl"
           }
          ],
          "histogram": [
           {
            "marker": {
             "pattern": {
              "fillmode": "overlay",
              "size": 10,
              "solidity": 0.2
             }
            },
            "type": "histogram"
           }
          ],
          "histogram2d": [
           {
            "colorbar": {
             "outlinewidth": 0,
             "ticks": ""
            },
            "colorscale": [
             [
              0,
              "#0d0887"
             ],
             [
              0.1111111111111111,
              "#46039f"
             ],
             [
              0.2222222222222222,
              "#7201a8"
             ],
             [
              0.3333333333333333,
              "#9c179e"
             ],
             [
              0.4444444444444444,
              "#bd3786"
             ],
             [
              0.5555555555555556,
              "#d8576b"
             ],
             [
              0.6666666666666666,
              "#ed7953"
             ],
             [
              0.7777777777777778,
              "#fb9f3a"
             ],
             [
              0.8888888888888888,
              "#fdca26"
             ],
             [
              1,
              "#f0f921"
             ]
            ],
            "type": "histogram2d"
           }
          ],
          "histogram2dcontour": [
           {
            "colorbar": {
             "outlinewidth": 0,
             "ticks": ""
            },
            "colorscale": [
             [
              0,
              "#0d0887"
             ],
             [
              0.1111111111111111,
              "#46039f"
             ],
             [
              0.2222222222222222,
              "#7201a8"
             ],
             [
              0.3333333333333333,
              "#9c179e"
             ],
             [
              0.4444444444444444,
              "#bd3786"
             ],
             [
              0.5555555555555556,
              "#d8576b"
             ],
             [
              0.6666666666666666,
              "#ed7953"
             ],
             [
              0.7777777777777778,
              "#fb9f3a"
             ],
             [
              0.8888888888888888,
              "#fdca26"
             ],
             [
              1,
              "#f0f921"
             ]
            ],
            "type": "histogram2dcontour"
           }
          ],
          "mesh3d": [
           {
            "colorbar": {
             "outlinewidth": 0,
             "ticks": ""
            },
            "type": "mesh3d"
           }
          ],
          "parcoords": [
           {
            "line": {
             "colorbar": {
              "outlinewidth": 0,
              "ticks": ""
             }
            },
            "type": "parcoords"
           }
          ],
          "pie": [
           {
            "automargin": true,
            "type": "pie"
           }
          ],
          "scatter": [
           {
            "marker": {
             "colorbar": {
              "outlinewidth": 0,
              "ticks": ""
             }
            },
            "type": "scatter"
           }
          ],
          "scatter3d": [
           {
            "line": {
             "colorbar": {
              "outlinewidth": 0,
              "ticks": ""
             }
            },
            "marker": {
             "colorbar": {
              "outlinewidth": 0,
              "ticks": ""
             }
            },
            "type": "scatter3d"
           }
          ],
          "scattercarpet": [
           {
            "marker": {
             "colorbar": {
              "outlinewidth": 0,
              "ticks": ""
             }
            },
            "type": "scattercarpet"
           }
          ],
          "scattergeo": [
           {
            "marker": {
             "colorbar": {
              "outlinewidth": 0,
              "ticks": ""
             }
            },
            "type": "scattergeo"
           }
          ],
          "scattergl": [
           {
            "marker": {
             "colorbar": {
              "outlinewidth": 0,
              "ticks": ""
             }
            },
            "type": "scattergl"
           }
          ],
          "scattermapbox": [
           {
            "marker": {
             "colorbar": {
              "outlinewidth": 0,
              "ticks": ""
             }
            },
            "type": "scattermapbox"
           }
          ],
          "scatterpolar": [
           {
            "marker": {
             "colorbar": {
              "outlinewidth": 0,
              "ticks": ""
             }
            },
            "type": "scatterpolar"
           }
          ],
          "scatterpolargl": [
           {
            "marker": {
             "colorbar": {
              "outlinewidth": 0,
              "ticks": ""
             }
            },
            "type": "scatterpolargl"
           }
          ],
          "scatterternary": [
           {
            "marker": {
             "colorbar": {
              "outlinewidth": 0,
              "ticks": ""
             }
            },
            "type": "scatterternary"
           }
          ],
          "surface": [
           {
            "colorbar": {
             "outlinewidth": 0,
             "ticks": ""
            },
            "colorscale": [
             [
              0,
              "#0d0887"
             ],
             [
              0.1111111111111111,
              "#46039f"
             ],
             [
              0.2222222222222222,
              "#7201a8"
             ],
             [
              0.3333333333333333,
              "#9c179e"
             ],
             [
              0.4444444444444444,
              "#bd3786"
             ],
             [
              0.5555555555555556,
              "#d8576b"
             ],
             [
              0.6666666666666666,
              "#ed7953"
             ],
             [
              0.7777777777777778,
              "#fb9f3a"
             ],
             [
              0.8888888888888888,
              "#fdca26"
             ],
             [
              1,
              "#f0f921"
             ]
            ],
            "type": "surface"
           }
          ],
          "table": [
           {
            "cells": {
             "fill": {
              "color": "#EBF0F8"
             },
             "line": {
              "color": "white"
             }
            },
            "header": {
             "fill": {
              "color": "#C8D4E3"
             },
             "line": {
              "color": "white"
             }
            },
            "type": "table"
           }
          ]
         },
         "layout": {
          "annotationdefaults": {
           "arrowcolor": "#2a3f5f",
           "arrowhead": 0,
           "arrowwidth": 1
          },
          "autotypenumbers": "strict",
          "coloraxis": {
           "colorbar": {
            "outlinewidth": 0,
            "ticks": ""
           }
          },
          "colorscale": {
           "diverging": [
            [
             0,
             "#8e0152"
            ],
            [
             0.1,
             "#c51b7d"
            ],
            [
             0.2,
             "#de77ae"
            ],
            [
             0.3,
             "#f1b6da"
            ],
            [
             0.4,
             "#fde0ef"
            ],
            [
             0.5,
             "#f7f7f7"
            ],
            [
             0.6,
             "#e6f5d0"
            ],
            [
             0.7,
             "#b8e186"
            ],
            [
             0.8,
             "#7fbc41"
            ],
            [
             0.9,
             "#4d9221"
            ],
            [
             1,
             "#276419"
            ]
           ],
           "sequential": [
            [
             0,
             "#0d0887"
            ],
            [
             0.1111111111111111,
             "#46039f"
            ],
            [
             0.2222222222222222,
             "#7201a8"
            ],
            [
             0.3333333333333333,
             "#9c179e"
            ],
            [
             0.4444444444444444,
             "#bd3786"
            ],
            [
             0.5555555555555556,
             "#d8576b"
            ],
            [
             0.6666666666666666,
             "#ed7953"
            ],
            [
             0.7777777777777778,
             "#fb9f3a"
            ],
            [
             0.8888888888888888,
             "#fdca26"
            ],
            [
             1,
             "#f0f921"
            ]
           ],
           "sequentialminus": [
            [
             0,
             "#0d0887"
            ],
            [
             0.1111111111111111,
             "#46039f"
            ],
            [
             0.2222222222222222,
             "#7201a8"
            ],
            [
             0.3333333333333333,
             "#9c179e"
            ],
            [
             0.4444444444444444,
             "#bd3786"
            ],
            [
             0.5555555555555556,
             "#d8576b"
            ],
            [
             0.6666666666666666,
             "#ed7953"
            ],
            [
             0.7777777777777778,
             "#fb9f3a"
            ],
            [
             0.8888888888888888,
             "#fdca26"
            ],
            [
             1,
             "#f0f921"
            ]
           ]
          },
          "colorway": [
           "#636efa",
           "#EF553B",
           "#00cc96",
           "#ab63fa",
           "#FFA15A",
           "#19d3f3",
           "#FF6692",
           "#B6E880",
           "#FF97FF",
           "#FECB52"
          ],
          "font": {
           "color": "#2a3f5f"
          },
          "geo": {
           "bgcolor": "white",
           "lakecolor": "white",
           "landcolor": "white",
           "showlakes": true,
           "showland": true,
           "subunitcolor": "#C8D4E3"
          },
          "hoverlabel": {
           "align": "left"
          },
          "hovermode": "closest",
          "mapbox": {
           "style": "light"
          },
          "paper_bgcolor": "white",
          "plot_bgcolor": "white",
          "polar": {
           "angularaxis": {
            "gridcolor": "#EBF0F8",
            "linecolor": "#EBF0F8",
            "ticks": ""
           },
           "bgcolor": "white",
           "radialaxis": {
            "gridcolor": "#EBF0F8",
            "linecolor": "#EBF0F8",
            "ticks": ""
           }
          },
          "scene": {
           "xaxis": {
            "backgroundcolor": "white",
            "gridcolor": "#DFE8F3",
            "gridwidth": 2,
            "linecolor": "#EBF0F8",
            "showbackground": true,
            "ticks": "",
            "zerolinecolor": "#EBF0F8"
           },
           "yaxis": {
            "backgroundcolor": "white",
            "gridcolor": "#DFE8F3",
            "gridwidth": 2,
            "linecolor": "#EBF0F8",
            "showbackground": true,
            "ticks": "",
            "zerolinecolor": "#EBF0F8"
           },
           "zaxis": {
            "backgroundcolor": "white",
            "gridcolor": "#DFE8F3",
            "gridwidth": 2,
            "linecolor": "#EBF0F8",
            "showbackground": true,
            "ticks": "",
            "zerolinecolor": "#EBF0F8"
           }
          },
          "shapedefaults": {
           "line": {
            "color": "#2a3f5f"
           }
          },
          "ternary": {
           "aaxis": {
            "gridcolor": "#DFE8F3",
            "linecolor": "#A2B1C6",
            "ticks": ""
           },
           "baxis": {
            "gridcolor": "#DFE8F3",
            "linecolor": "#A2B1C6",
            "ticks": ""
           },
           "bgcolor": "white",
           "caxis": {
            "gridcolor": "#DFE8F3",
            "linecolor": "#A2B1C6",
            "ticks": ""
           }
          },
          "title": {
           "x": 0.05
          },
          "xaxis": {
           "automargin": true,
           "gridcolor": "#EBF0F8",
           "linecolor": "#EBF0F8",
           "ticks": "",
           "title": {
            "standoff": 15
           },
           "zerolinecolor": "#EBF0F8",
           "zerolinewidth": 2
          },
          "yaxis": {
           "automargin": true,
           "gridcolor": "#EBF0F8",
           "linecolor": "#EBF0F8",
           "ticks": "",
           "title": {
            "standoff": 15
           },
           "zerolinecolor": "#EBF0F8",
           "zerolinewidth": 2
          }
         }
        },
        "title": {
         "font": {
          "size": 24
         },
         "text": "Anzahl wartender und ladender BEVs im Tagesverlauf",
         "x": 0.5,
         "xanchor": "center"
        },
        "xaxis": {
         "anchor": "y",
         "domain": [
          0,
          1
         ],
         "title": {
          "text": "Minuten"
         }
        },
        "yaxis": {
         "anchor": "x",
         "domain": [
          0,
          1
         ],
         "title": {
          "text": "Anzahl BEVs"
         }
        }
       }
      },
      "text/html": [
       "<div>                            <div id=\"34c1ee91-7bf3-448c-a128-4721f32da200\" class=\"plotly-graph-div\" style=\"height:525px; width:100%;\"></div>            <script type=\"text/javascript\">                require([\"plotly\"], function(Plotly) {                    window.PLOTLYENV=window.PLOTLYENV || {};                                    if (document.getElementById(\"34c1ee91-7bf3-448c-a128-4721f32da200\")) {                    Plotly.newPlot(                        \"34c1ee91-7bf3-448c-a128-4721f32da200\",                        [{\"line\":{\"color\":\"red\"},\"name\":\"Wartende BEVs\",\"x\":[480,495,510,525,540,555,570,585,600,615,630,645,660,675,690,705,720,735,750,765,780,795,810,825,840,855,870,885,900,915,930,945,960],\"y\":[13,12,39,37,47,45,47,44,43,41,37,36,35,31,32,32,34,29,30,29,32,28,25,24,21,20,21,19,19,16,15,11,0],\"type\":\"scatter\"},{\"line\":{\"color\":\"blue\"},\"name\":\"Ladende BEVs\",\"x\":[960,945,930,915,900,885,870,855,840,825,810,795,780,765,750,735,720,705,690,675,660,645,630,615,600,585,570,555,540,525,510,495,480],\"y\":[0,6,6,6,6,6,5,5,4,4,5,4,4,4,5,5,5,5,3,3,5,4,5,5,5,5,4,3,3,2,2,1,1],\"type\":\"scatter\"}],                        {\"template\":{\"data\":{\"barpolar\":[{\"marker\":{\"line\":{\"color\":\"white\",\"width\":0.5},\"pattern\":{\"fillmode\":\"overlay\",\"size\":10,\"solidity\":0.2}},\"type\":\"barpolar\"}],\"bar\":[{\"error_x\":{\"color\":\"#2a3f5f\"},\"error_y\":{\"color\":\"#2a3f5f\"},\"marker\":{\"line\":{\"color\":\"white\",\"width\":0.5},\"pattern\":{\"fillmode\":\"overlay\",\"size\":10,\"solidity\":0.2}},\"type\":\"bar\"}],\"carpet\":[{\"aaxis\":{\"endlinecolor\":\"#2a3f5f\",\"gridcolor\":\"#C8D4E3\",\"linecolor\":\"#C8D4E3\",\"minorgridcolor\":\"#C8D4E3\",\"startlinecolor\":\"#2a3f5f\"},\"baxis\":{\"endlinecolor\":\"#2a3f5f\",\"gridcolor\":\"#C8D4E3\",\"linecolor\":\"#C8D4E3\",\"minorgridcolor\":\"#C8D4E3\",\"startlinecolor\":\"#2a3f5f\"},\"type\":\"carpet\"}],\"choropleth\":[{\"colorbar\":{\"outlinewidth\":0,\"ticks\":\"\"},\"type\":\"choropleth\"}],\"contourcarpet\":[{\"colorbar\":{\"outlinewidth\":0,\"ticks\":\"\"},\"type\":\"contourcarpet\"}],\"contour\":[{\"colorbar\":{\"outlinewidth\":0,\"ticks\":\"\"},\"colorscale\":[[0.0,\"#0d0887\"],[0.1111111111111111,\"#46039f\"],[0.2222222222222222,\"#7201a8\"],[0.3333333333333333,\"#9c179e\"],[0.4444444444444444,\"#bd3786\"],[0.5555555555555556,\"#d8576b\"],[0.6666666666666666,\"#ed7953\"],[0.7777777777777778,\"#fb9f3a\"],[0.8888888888888888,\"#fdca26\"],[1.0,\"#f0f921\"]],\"type\":\"contour\"}],\"heatmapgl\":[{\"colorbar\":{\"outlinewidth\":0,\"ticks\":\"\"},\"colorscale\":[[0.0,\"#0d0887\"],[0.1111111111111111,\"#46039f\"],[0.2222222222222222,\"#7201a8\"],[0.3333333333333333,\"#9c179e\"],[0.4444444444444444,\"#bd3786\"],[0.5555555555555556,\"#d8576b\"],[0.6666666666666666,\"#ed7953\"],[0.7777777777777778,\"#fb9f3a\"],[0.8888888888888888,\"#fdca26\"],[1.0,\"#f0f921\"]],\"type\":\"heatmapgl\"}],\"heatmap\":[{\"colorbar\":{\"outlinewidth\":0,\"ticks\":\"\"},\"colorscale\":[[0.0,\"#0d0887\"],[0.1111111111111111,\"#46039f\"],[0.2222222222222222,\"#7201a8\"],[0.3333333333333333,\"#9c179e\"],[0.4444444444444444,\"#bd3786\"],[0.5555555555555556,\"#d8576b\"],[0.6666666666666666,\"#ed7953\"],[0.7777777777777778,\"#fb9f3a\"],[0.8888888888888888,\"#fdca26\"],[1.0,\"#f0f921\"]],\"type\":\"heatmap\"}],\"histogram2dcontour\":[{\"colorbar\":{\"outlinewidth\":0,\"ticks\":\"\"},\"colorscale\":[[0.0,\"#0d0887\"],[0.1111111111111111,\"#46039f\"],[0.2222222222222222,\"#7201a8\"],[0.3333333333333333,\"#9c179e\"],[0.4444444444444444,\"#bd3786\"],[0.5555555555555556,\"#d8576b\"],[0.6666666666666666,\"#ed7953\"],[0.7777777777777778,\"#fb9f3a\"],[0.8888888888888888,\"#fdca26\"],[1.0,\"#f0f921\"]],\"type\":\"histogram2dcontour\"}],\"histogram2d\":[{\"colorbar\":{\"outlinewidth\":0,\"ticks\":\"\"},\"colorscale\":[[0.0,\"#0d0887\"],[0.1111111111111111,\"#46039f\"],[0.2222222222222222,\"#7201a8\"],[0.3333333333333333,\"#9c179e\"],[0.4444444444444444,\"#bd3786\"],[0.5555555555555556,\"#d8576b\"],[0.6666666666666666,\"#ed7953\"],[0.7777777777777778,\"#fb9f3a\"],[0.8888888888888888,\"#fdca26\"],[1.0,\"#f0f921\"]],\"type\":\"histogram2d\"}],\"histogram\":[{\"marker\":{\"pattern\":{\"fillmode\":\"overlay\",\"size\":10,\"solidity\":0.2}},\"type\":\"histogram\"}],\"mesh3d\":[{\"colorbar\":{\"outlinewidth\":0,\"ticks\":\"\"},\"type\":\"mesh3d\"}],\"parcoords\":[{\"line\":{\"colorbar\":{\"outlinewidth\":0,\"ticks\":\"\"}},\"type\":\"parcoords\"}],\"pie\":[{\"automargin\":true,\"type\":\"pie\"}],\"scatter3d\":[{\"line\":{\"colorbar\":{\"outlinewidth\":0,\"ticks\":\"\"}},\"marker\":{\"colorbar\":{\"outlinewidth\":0,\"ticks\":\"\"}},\"type\":\"scatter3d\"}],\"scattercarpet\":[{\"marker\":{\"colorbar\":{\"outlinewidth\":0,\"ticks\":\"\"}},\"type\":\"scattercarpet\"}],\"scattergeo\":[{\"marker\":{\"colorbar\":{\"outlinewidth\":0,\"ticks\":\"\"}},\"type\":\"scattergeo\"}],\"scattergl\":[{\"marker\":{\"colorbar\":{\"outlinewidth\":0,\"ticks\":\"\"}},\"type\":\"scattergl\"}],\"scattermapbox\":[{\"marker\":{\"colorbar\":{\"outlinewidth\":0,\"ticks\":\"\"}},\"type\":\"scattermapbox\"}],\"scatterpolargl\":[{\"marker\":{\"colorbar\":{\"outlinewidth\":0,\"ticks\":\"\"}},\"type\":\"scatterpolargl\"}],\"scatterpolar\":[{\"marker\":{\"colorbar\":{\"outlinewidth\":0,\"ticks\":\"\"}},\"type\":\"scatterpolar\"}],\"scatter\":[{\"marker\":{\"colorbar\":{\"outlinewidth\":0,\"ticks\":\"\"}},\"type\":\"scatter\"}],\"scatterternary\":[{\"marker\":{\"colorbar\":{\"outlinewidth\":0,\"ticks\":\"\"}},\"type\":\"scatterternary\"}],\"surface\":[{\"colorbar\":{\"outlinewidth\":0,\"ticks\":\"\"},\"colorscale\":[[0.0,\"#0d0887\"],[0.1111111111111111,\"#46039f\"],[0.2222222222222222,\"#7201a8\"],[0.3333333333333333,\"#9c179e\"],[0.4444444444444444,\"#bd3786\"],[0.5555555555555556,\"#d8576b\"],[0.6666666666666666,\"#ed7953\"],[0.7777777777777778,\"#fb9f3a\"],[0.8888888888888888,\"#fdca26\"],[1.0,\"#f0f921\"]],\"type\":\"surface\"}],\"table\":[{\"cells\":{\"fill\":{\"color\":\"#EBF0F8\"},\"line\":{\"color\":\"white\"}},\"header\":{\"fill\":{\"color\":\"#C8D4E3\"},\"line\":{\"color\":\"white\"}},\"type\":\"table\"}]},\"layout\":{\"annotationdefaults\":{\"arrowcolor\":\"#2a3f5f\",\"arrowhead\":0,\"arrowwidth\":1},\"autotypenumbers\":\"strict\",\"coloraxis\":{\"colorbar\":{\"outlinewidth\":0,\"ticks\":\"\"}},\"colorscale\":{\"diverging\":[[0,\"#8e0152\"],[0.1,\"#c51b7d\"],[0.2,\"#de77ae\"],[0.3,\"#f1b6da\"],[0.4,\"#fde0ef\"],[0.5,\"#f7f7f7\"],[0.6,\"#e6f5d0\"],[0.7,\"#b8e186\"],[0.8,\"#7fbc41\"],[0.9,\"#4d9221\"],[1,\"#276419\"]],\"sequential\":[[0.0,\"#0d0887\"],[0.1111111111111111,\"#46039f\"],[0.2222222222222222,\"#7201a8\"],[0.3333333333333333,\"#9c179e\"],[0.4444444444444444,\"#bd3786\"],[0.5555555555555556,\"#d8576b\"],[0.6666666666666666,\"#ed7953\"],[0.7777777777777778,\"#fb9f3a\"],[0.8888888888888888,\"#fdca26\"],[1.0,\"#f0f921\"]],\"sequentialminus\":[[0.0,\"#0d0887\"],[0.1111111111111111,\"#46039f\"],[0.2222222222222222,\"#7201a8\"],[0.3333333333333333,\"#9c179e\"],[0.4444444444444444,\"#bd3786\"],[0.5555555555555556,\"#d8576b\"],[0.6666666666666666,\"#ed7953\"],[0.7777777777777778,\"#fb9f3a\"],[0.8888888888888888,\"#fdca26\"],[1.0,\"#f0f921\"]]},\"colorway\":[\"#636efa\",\"#EF553B\",\"#00cc96\",\"#ab63fa\",\"#FFA15A\",\"#19d3f3\",\"#FF6692\",\"#B6E880\",\"#FF97FF\",\"#FECB52\"],\"font\":{\"color\":\"#2a3f5f\"},\"geo\":{\"bgcolor\":\"white\",\"lakecolor\":\"white\",\"landcolor\":\"white\",\"showlakes\":true,\"showland\":true,\"subunitcolor\":\"#C8D4E3\"},\"hoverlabel\":{\"align\":\"left\"},\"hovermode\":\"closest\",\"mapbox\":{\"style\":\"light\"},\"paper_bgcolor\":\"white\",\"plot_bgcolor\":\"white\",\"polar\":{\"angularaxis\":{\"gridcolor\":\"#EBF0F8\",\"linecolor\":\"#EBF0F8\",\"ticks\":\"\"},\"bgcolor\":\"white\",\"radialaxis\":{\"gridcolor\":\"#EBF0F8\",\"linecolor\":\"#EBF0F8\",\"ticks\":\"\"}},\"scene\":{\"xaxis\":{\"backgroundcolor\":\"white\",\"gridcolor\":\"#DFE8F3\",\"gridwidth\":2,\"linecolor\":\"#EBF0F8\",\"showbackground\":true,\"ticks\":\"\",\"zerolinecolor\":\"#EBF0F8\"},\"yaxis\":{\"backgroundcolor\":\"white\",\"gridcolor\":\"#DFE8F3\",\"gridwidth\":2,\"linecolor\":\"#EBF0F8\",\"showbackground\":true,\"ticks\":\"\",\"zerolinecolor\":\"#EBF0F8\"},\"zaxis\":{\"backgroundcolor\":\"white\",\"gridcolor\":\"#DFE8F3\",\"gridwidth\":2,\"linecolor\":\"#EBF0F8\",\"showbackground\":true,\"ticks\":\"\",\"zerolinecolor\":\"#EBF0F8\"}},\"shapedefaults\":{\"line\":{\"color\":\"#2a3f5f\"}},\"ternary\":{\"aaxis\":{\"gridcolor\":\"#DFE8F3\",\"linecolor\":\"#A2B1C6\",\"ticks\":\"\"},\"baxis\":{\"gridcolor\":\"#DFE8F3\",\"linecolor\":\"#A2B1C6\",\"ticks\":\"\"},\"bgcolor\":\"white\",\"caxis\":{\"gridcolor\":\"#DFE8F3\",\"linecolor\":\"#A2B1C6\",\"ticks\":\"\"}},\"title\":{\"x\":0.05},\"xaxis\":{\"automargin\":true,\"gridcolor\":\"#EBF0F8\",\"linecolor\":\"#EBF0F8\",\"ticks\":\"\",\"title\":{\"standoff\":15},\"zerolinecolor\":\"#EBF0F8\",\"zerolinewidth\":2},\"yaxis\":{\"automargin\":true,\"gridcolor\":\"#EBF0F8\",\"linecolor\":\"#EBF0F8\",\"ticks\":\"\",\"title\":{\"standoff\":15},\"zerolinecolor\":\"#EBF0F8\",\"zerolinewidth\":2}}},\"xaxis\":{\"anchor\":\"y\",\"domain\":[0.0,1.0],\"title\":{\"text\":\"Minuten\"}},\"yaxis\":{\"anchor\":\"x\",\"domain\":[0.0,1.0],\"title\":{\"text\":\"Anzahl BEVs\"}},\"legend\":{\"tracegroupgap\":0},\"margin\":{\"t\":60},\"title\":{\"font\":{\"size\":24},\"text\":\"Anzahl wartender und ladender BEVs im Tagesverlauf\",\"x\":0.5,\"xanchor\":\"center\"}},                        {\"responsive\": true}                    ).then(function(){\n",
       "                            \n",
       "var gd = document.getElementById('34c1ee91-7bf3-448c-a128-4721f32da200');\n",
       "var x = new MutationObserver(function (mutations, observer) {{\n",
       "        var display = window.getComputedStyle(gd).display;\n",
       "        if (!display || display === 'none') {{\n",
       "            console.log([gd, 'removed!']);\n",
       "            Plotly.purge(gd);\n",
       "            observer.disconnect();\n",
       "        }}\n",
       "}});\n",
       "\n",
       "// Listen for the removal of the full notebook cells\n",
       "var notebookContainer = gd.closest('#notebook-container');\n",
       "if (notebookContainer) {{\n",
       "    x.observe(notebookContainer, {childList: true});\n",
       "}}\n",
       "\n",
       "// Listen for the clearing of the current output cell\n",
       "var outputEl = gd.closest('.output');\n",
       "if (outputEl) {{\n",
       "    x.observe(outputEl, {childList: true});\n",
       "}}\n",
       "\n",
       "                        })                };                });            </script>        </div>"
      ]
     },
     "metadata": {},
     "output_type": "display_data"
    }
   ],
   "source": [
    "import figureGeneration\n",
    "\n",
    "figureGeneration.create_bev_number_figure(simulation_data)"
   ]
  },
  {
   "cell_type": "code",
   "execution_count": 7,
   "metadata": {
    "pycharm": {
     "is_executing": true
    }
   },
   "outputs": [
    {
     "name": "stdout",
     "output_type": "stream",
     "text": [
      "{2: {480: 0.62, 495: 5.87, 510: 5.56, 517.3920863309353: 5.545}, 5: {510: 5.56, 525: 8.19, 540: 7.666666666666667, 541.5652173913044: 6.609999999999999}, 9: {517.3920863309353: 5.56, 525: 8.19, 536.7399267399268: 8.93}, 11: {536.7399267399268: 8.19, 540: 7.666666666666667, 555: 10.333333333333334, 561.5661290322581: 10.166666666666666}, 18: {540: 7.666666666666667, 555: 10.333333333333334, 559.141935483871: 9.736666666666666}, 41: {541.5652173913044: 7.666666666666667, 555: 10.333333333333334, 570: 9.75, 585: 9.4, 600: 10.176, 615: 10.123999999999999, 630: 10.076, 645: 12.53, 660: 10.123999999999999, 672: 8.5}, 50: {561.5661290322581: 10.333333333333334, 570: 9.75, 581.5538461538462: 10.29}, 59: {570: 9.75, 585: 9.4, 587.1223404255319: 8.826}, 64: {570: 9.75, 585: 9.4, 595.8670212765958: 9.76}, 70: {581.5538461538462: 9.75, 585: 9.4, 600: 10.176, 606.8691037735849: 10.178}, 80: {585: 9.4, 600: 10.176, 610.1709905660377: 10.166}, 81: {587.1223404255319: 9.4, 600: 10.176, 600.722287735849: 10.198}, 85: {600: 10.176, 612.6179245283018: 10.158}, 3: {606.8691037735849: 10.176, 615: 10.123999999999999, 625.036546819439: 10.116}, 17: {615: 10.123999999999999, 630: 10.076, 635.1151250496229: 10.081999999999999}, 19: {615: 10.123999999999999, 630: 10.076, 637.2588328701866: 10.076}, 20: {615: 10.123999999999999, 630: 10.076, 634.1474791583962: 10.086}, 21: {625.036546819439: 10.123999999999999, 630: 10.076, 645: 12.53, 648.2609736632083: 10.040000000000001}, 22: {635.1151250496229: 10.076, 645: 12.53, 648.4237829209897: 10.038}, 13: {658.2940941739824: 12.53}, 25: {645: 12.53, 660: 10.123999999999999, 662.3854207822994: 8.366666666666667}, 26: {660: 10.123999999999999, 675: 17.293333333333333, 678.8910948342328: 7.367142857142857}, 27: {660: 10.123999999999999, 673.0679573291189: 8.515}, 28: {660: 10.123999999999999, 675: 17.293333333333333, 675.4735929067078: 7.327142857142857}, 33: {672: 10.123999999999999, 675: 17.293333333333333, 687.0264841942945: 7.464285714285714}, 7: {689.1713231305645: 8.646666666666667, 699.0502635542168: 6.65625, 690: 17.706666666666667}, 35: {683.37847471008: 8.646666666666667, 694.286686369194: 5.873333333333333, 690: 17.706666666666667}, 86: {689.8812418917205: 8.646666666666667, 699.1773343373494: 4.4383333333333335, 690: 17.706666666666667}, 6: {699.1773343373494: 6.64, 705: 10.876000000000001, 720: 10.524, 722.2042474344356: 2.857894736842105}, 23: {691.2944277108434: 6.64, 705.766826038985: 3.843571428571429, 705: 10.876000000000001}, 61: {694.286686369194: 6.64, 705: 10.876000000000001, 720: 10.524, 720.0022422549837: 2.8947368421052633}, 67: {699.0502635542168: 6.64, 705: 10.876000000000001, 720: 10.524, 722.2523517673887: 2.8573684210526316}, 76: {702.1282003012049: 6.64, 705: 10.876000000000001, 720: 10.524, 721.0871579247435: 2.8768421052631576}, 98: {705.766826038985: 9.063333333333334, 726.3854047890536: 2.7884210526315787, 720: 10.524}, 78: {727.5541619156214: 5.846666666666667, 735: 9.576, 750: 8.623999999999999, 754.0383426097711: 2.211}, 82: {725.6299885974914: 5.846666666666667, 735: 9.576, 750: 8.623999999999999, 755.0819418676562: 2.1945}, 84: {726.3854047890536: 5.846666666666667, 735: 9.576, 750: 8.623999999999999, 754.6722325293754: 2.201}, 89: {725.6299885974914: 5.846666666666667, 735: 9.576, 750: 8.623999999999999, 755.0819418676562: 2.1945}, 62: {735: 9.576, 750: 8.623999999999999, 765: 9.595, 780: 9.1875, 795: 9.5625, 810: 7.95, 825: 10.3125, 840: 9.75, 855: 6.6, 870: 5.4, 885: 3.5, 900: 2.813333333333333, 915: 2.4366666666666665, 930: 2.0633333333333335, 945: 1.6866666666666665}, 74: {762.9713248935939: 7.1866666666666665, 773.1168194218803: 1.909, 765: 9.595}, 69: {773.1168194218803: 12.793333333333335, 780: 9.1875, 794.5786314525811: 1.873}, 44: {765: 9.595, 780: 9.1875, 795: 9.5625, 810: 7.95, 825: 10.3125, 840: 9.75, 855: 6.6, 870: 5.4, 885: 3.5, 900: 2.813333333333333, 915: 2.4366666666666665, 930: 2.0633333333333335, 945: 1.6866666666666665}, 52: {765: 9.595, 780: 9.1875, 795: 9.5625, 810: 7.95, 825: 10.3125, 840: 9.75, 855: 6.6, 870: 5.4, 885: 3.5, 900: 2.813333333333333, 915: 2.4366666666666665, 930: 2.0633333333333335, 945: 1.6866666666666665}, 34: {794.5786314525811: 9.1875, 795: 9.5625, 810: 7.95, 814.6592674805772: 1.7160869565217391, 816: 1.7217391304347827}, 66: {803.3176470588236: 7.65, 811.8415094339623: 1.703478260869565, 810: 7.95}, 63: {811.8415094339623: 6.625, 830.0945454545455: 1.7830434782608695, 825: 10.3125}, 56: {830.0945454545455: 8.25, 840: 9.75, 855: 6.6, 858.0954545454546: 1.2874074074074073}, 49: {852.7043129237387: 7.8, 860.4379137278593: 1.2525925925925927, 855: 6.6}, 32: {860.4379137278593: 4.714285714285714, 870: 5.4, 885: 3.5, 900: 2.813333333333333, 915: 2.4366666666666665, 923.8118713906208: 0.41228571428571426}, 47: {868.6227272727273: 4.714285714285714, 881.65: 0.8737931034482759, 870: 5.4}, 40: {884.3166666666667: 3.857142857142857, 895.8428571428572: 0.614375, 885: 3.5}, 42: {881.65: 3.857142857142857, 885: 3.5, 889.9224489795918: 0.6884375}, 29: {892.0290795387924: 2.625, 900: 2.813333333333333, 915: 2.4366666666666665, 930: 2.0633333333333335, 945: 1.6866666666666665}, 31: {895.8428571428572: 2.625, 911.6232227488152: 0.4927272727272728, 900: 2.813333333333333}, 30: {911.6232227488152: 2.4114285714285715, 922.3461012311902: 0.4185714285714286, 915: 2.4366666666666665}, 14: {924.5622435020521: 1.8275, 936.8578352180938: 0.337027027027027, 930: 2.0633333333333335}, 16: {922.3461012311902: 1.8275, 934.2407108239096: 0.34756756756756757, 930: 2.0633333333333335}, 4: {936.8578352180938: 1.5475, 951.8774703557312: 0.26894736842105266, 945: 1.6866666666666665}, 12: {934.2407108239096: 1.5475, 945: 1.6866666666666665}, 0: {951.8774703557312: 1.4457142857142855}}\n",
      "{2: OrderedDict([(480, 0.62), (495, 5.87), (510, 5.56), (517.3920863309353, 5.545)]), 5: OrderedDict([(510, 11.12), (525, 8.19), (540, 7.666666666666667), (541.5652173913044, 6.609999999999999)]), 9: OrderedDict([(517.3920863309353, 11.105), (525, 16.38), (536.7399267399268, 8.93)]), 11: OrderedDict([(536.7399267399268, 17.119999999999997), (540, 15.333333333333334), (555, 10.333333333333334), (561.5661290322581, 10.166666666666666)]), 18: OrderedDict([(540, 23.0), (555, 20.666666666666668), (559.141935483871, 9.736666666666666)]), 41: OrderedDict([(541.5652173913044, 14.276666666666667), (555, 31.0), (570, 9.75), (585, 9.4), (600, 10.176), (615, 10.123999999999999), (630, 10.076), (645, 12.53), (660, 10.123999999999999), (672, 8.5)]), 50: OrderedDict([(561.5661290322581, 20.5), (570, 19.5), (581.5538461538462, 10.29)]), 59: OrderedDict([(570, 29.25), (585, 18.8), (587.1223404255319, 8.826)]), 64: OrderedDict([(570, 39.0), (585, 28.200000000000003), (595.8670212765958, 9.76)]), 70: OrderedDict([(581.5538461538462, 20.04), (585, 37.6), (600, 20.352), (606.8691037735849, 10.178)]), 80: OrderedDict([(585, 47.0), (600, 30.528), (610.1709905660377, 10.166)]), 81: OrderedDict([(587.1223404255319, 18.226), (600, 40.704), (600.722287735849, 10.198)]), 85: OrderedDict([(600, 50.88), (612.6179245283018, 10.158)]), 3: OrderedDict([(606.8691037735849, 20.354), (615, 20.247999999999998), (625.036546819439, 10.116)]), 17: OrderedDict([(615, 30.371999999999996), (630, 20.152), (635.1151250496229, 10.081999999999999)]), 19: OrderedDict([(615, 40.495999999999995), (630, 30.228), (637.2588328701866, 10.076)]), 20: OrderedDict([(615, 50.61999999999999), (630, 40.304), (634.1474791583962, 10.086)]), 21: OrderedDict([(625.036546819439, 20.24), (630, 50.38), (645, 25.06), (648.2609736632083, 10.040000000000001)]), 22: OrderedDict([(635.1151250496229, 20.158), (645, 37.589999999999996), (648.4237829209897, 10.038)]), 13: OrderedDict([(658.2940941739824, 12.53)]), 25: OrderedDict([(645, 50.12), (660, 20.247999999999998), (662.3854207822994, 8.366666666666667)]), 26: OrderedDict([(660, 30.371999999999996), (675, 17.293333333333333), (678.8910948342328, 7.367142857142857)]), 27: OrderedDict([(660, 40.495999999999995), (673.0679573291189, 8.515)]), 28: OrderedDict([(660, 50.61999999999999), (675, 34.586666666666666), (675.4735929067078, 7.327142857142857)]), 33: OrderedDict([(672, 18.624), (675, 51.879999999999995), (687.0264841942945, 7.464285714285714)]), 7: OrderedDict([(689.1713231305645, 8.646666666666667), (690, 17.706666666666667), (699.0502635542168, 6.65625)]), 35: OrderedDict([(683.37847471008, 8.646666666666667), (690, 35.413333333333334), (694.286686369194, 5.873333333333333)]), 86: OrderedDict([(689.8812418917205, 8.646666666666667), (690, 53.120000000000005), (699.1773343373494, 4.4383333333333335)]), 6: OrderedDict([(699.1773343373494, 11.078333333333333), (705, 10.876000000000001), (720, 10.524), (722.2042474344356, 2.857894736842105)]), 23: OrderedDict([(691.2944277108434, 6.64), (705, 21.752000000000002), (705.766826038985, 3.843571428571429)]), 61: OrderedDict([(694.286686369194, 12.513333333333332), (705, 32.628), (720, 21.048), (720.0022422549837, 2.8947368421052633)]), 67: OrderedDict([(699.0502635542168, 13.29625), (705, 43.504000000000005), (720, 31.571999999999996), (722.2523517673887, 2.8573684210526316)]), 76: OrderedDict([(702.1282003012049, 6.64), (705, 54.38000000000001), (720, 42.096), (721.0871579247435, 2.8768421052631576)]), 98: OrderedDict([(705.766826038985, 12.906904761904762), (720, 52.62), (726.3854047890536, 2.7884210526315787)]), 78: OrderedDict([(727.5541619156214, 5.846666666666667), (735, 9.576), (750, 8.623999999999999), (754.0383426097711, 2.211)]), 82: OrderedDict([(725.6299885974914, 5.846666666666667), (735, 19.152), (750, 17.247999999999998), (755.0819418676562, 2.1945)]), 84: OrderedDict([(726.3854047890536, 8.635087719298244), (735, 28.728), (750, 25.871999999999996), (754.6722325293754, 2.201)]), 89: OrderedDict([(725.6299885974914, 11.693333333333333), (735, 38.304), (750, 34.495999999999995), (755.0819418676562, 4.389)]), 62: OrderedDict([(735, 47.88), (750, 43.11999999999999), (765, 9.595), (780, 9.1875), (795, 9.5625), (810, 7.95), (825, 10.3125), (840, 9.75), (855, 6.6), (870, 5.4), (885, 3.5), (900, 2.813333333333333), (915, 2.4366666666666665), (930, 2.0633333333333335), (945, 1.6866666666666665)]), 74: OrderedDict([(762.9713248935939, 7.1866666666666665), (765, 19.19), (773.1168194218803, 1.909)]), 69: OrderedDict([(773.1168194218803, 14.702333333333335), (780, 18.375), (794.5786314525811, 1.873)]), 44: OrderedDict([(765, 28.785000000000004), (780, 27.5625), (795, 19.125), (810, 15.9), (825, 20.625), (840, 19.5), (855, 13.2), (870, 10.8), (885, 7.0), (900, 5.626666666666666), (915, 4.873333333333333), (930, 4.126666666666667), (945, 3.373333333333333)]), 52: OrderedDict([(765, 38.38), (780, 36.75), (795, 28.6875), (810, 23.85), (825, 30.9375), (840, 29.25), (855, 19.799999999999997), (870, 16.200000000000003), (885, 10.5), (900, 8.44), (915, 7.31), (930, 6.19), (945, 5.06)]), 34: OrderedDict([(794.5786314525811, 11.0605), (795, 38.25), (810, 31.8), (814.6592674805772, 1.7160869565217391), (816, 1.7217391304347827)]), 66: OrderedDict([(803.3176470588236, 7.65), (810, 39.75), (811.8415094339623, 1.703478260869565)]), 63: OrderedDict([(811.8415094339623, 8.328478260869565), (825, 41.25), (830.0945454545455, 1.7830434782608695)]), 56: OrderedDict([(830.0945454545455, 10.03304347826087), (840, 39.0), (855, 26.4), (858.0954545454546, 1.2874074074074073)]), 49: OrderedDict([(852.7043129237387, 7.8), (855, 33.0), (860.4379137278593, 1.2525925925925927)]), 32: OrderedDict([(860.4379137278593, 5.966878306878307), (870, 21.6), (885, 14.0), (900, 11.253333333333332), (915, 9.746666666666666), (923.8118713906208, 0.41228571428571426)]), 47: OrderedDict([(868.6227272727273, 4.714285714285714), (870, 27.0), (881.65, 0.8737931034482759)]), 40: OrderedDict([(884.3166666666667, 3.857142857142857), (885, 17.5), (895.8428571428572, 0.614375)]), 42: OrderedDict([(881.65, 4.730935960591133), (885, 21.0), (889.9224489795918, 0.6884375)]), 29: OrderedDict([(892.0290795387924, 2.625), (900, 14.066666666666665), (915, 12.183333333333334), (930, 8.253333333333334), (945, 6.746666666666666)]), 31: OrderedDict([(895.8428571428572, 3.239375), (900, 16.88), (911.6232227488152, 0.4927272727272728)]), 30: OrderedDict([(911.6232227488152, 2.904155844155844), (915, 14.620000000000001), (922.3461012311902, 0.4185714285714286)]), 14: OrderedDict([(924.5622435020521, 1.8275), (930, 10.316666666666666), (936.8578352180938, 0.337027027027027)]), 16: OrderedDict([(922.3461012311902, 2.2460714285714287), (930, 12.379999999999999), (934.2407108239096, 0.34756756756756757)]), 4: OrderedDict([(936.8578352180938, 1.8845270270270271), (945, 8.433333333333334), (951.8774703557312, 0.26894736842105266)]), 12: OrderedDict([(934.2407108239096, 1.8950675675675677), (945, 10.120000000000001)]), 0: OrderedDict([(951.8774703557312, 1.714661654135338)])}\n"
     ]
    },
    {
     "data": {
      "application/vnd.plotly.v1+json": {
       "config": {
        "plotlyServerURL": "https://plot.ly"
       },
       "data": [
        {
         "line": {
          "color": "orange"
         },
         "name": "Verfügbare Solarleistung",
         "type": "scatter",
         "x": [
          480,
          495,
          510,
          525,
          540,
          555,
          570,
          585,
          600,
          615,
          630,
          645,
          660,
          675,
          690,
          705,
          720,
          735,
          750,
          765,
          780,
          795,
          810,
          825,
          840,
          855,
          870,
          885,
          900,
          915,
          930,
          945,
          960
         ],
         "y": [
          -2,
          3.25,
          8.5,
          13.749999999999998,
          19,
          27,
          35,
          43,
          51,
          50.75,
          50.5,
          50.25,
          50,
          51.25,
          52.5,
          53.75,
          55,
          50.25,
          45.5,
          40.75,
          36,
          37.5,
          39,
          40.5,
          42,
          36,
          30,
          24,
          18,
          15.75,
          13.5,
          11.25,
          9
         ]
        },
        {
         "line": {
          "color": "green"
         },
         "mode": "lines",
         "name": "ID BEV 2",
         "type": "scatter",
         "x": [
          480,
          480,
          495,
          510,
          517.3920863309353,
          517.3920863309353
         ],
         "y": [
          0,
          0.62,
          5.87,
          5.56,
          5.545,
          0
         ]
        },
        {
         "line": {
          "color": "green"
         },
         "mode": "lines",
         "name": "ID BEV 5",
         "type": "scatter",
         "x": [
          510,
          510,
          525,
          540,
          541.5652173913044,
          541.5652173913044
         ],
         "y": [
          0,
          11.12,
          8.19,
          7.666666666666667,
          6.609999999999999,
          0
         ]
        },
        {
         "line": {
          "color": "green"
         },
         "mode": "lines",
         "name": "ID BEV 9",
         "type": "scatter",
         "x": [
          517.3920863309353,
          517.3920863309353,
          525,
          536.7399267399268,
          536.7399267399268
         ],
         "y": [
          0,
          11.105,
          16.38,
          8.93,
          0
         ]
        },
        {
         "line": {
          "color": "green"
         },
         "mode": "lines",
         "name": "ID BEV 11",
         "type": "scatter",
         "x": [
          536.7399267399268,
          536.7399267399268,
          540,
          555,
          561.5661290322581,
          561.5661290322581
         ],
         "y": [
          0,
          17.119999999999997,
          15.333333333333334,
          10.333333333333334,
          10.166666666666666,
          0
         ]
        },
        {
         "line": {
          "color": "green"
         },
         "mode": "lines",
         "name": "ID BEV 18",
         "type": "scatter",
         "x": [
          540,
          540,
          555,
          559.141935483871,
          559.141935483871
         ],
         "y": [
          0,
          23,
          20.666666666666668,
          9.736666666666666,
          0
         ]
        },
        {
         "line": {
          "color": "green"
         },
         "mode": "lines",
         "name": "ID BEV 41",
         "type": "scatter",
         "x": [
          541.5652173913044,
          541.5652173913044,
          555,
          570,
          585,
          600,
          615,
          630,
          645,
          660,
          672,
          672
         ],
         "y": [
          0,
          14.276666666666667,
          31,
          9.75,
          9.4,
          10.176,
          10.123999999999999,
          10.076,
          12.53,
          10.123999999999999,
          8.5,
          0
         ]
        },
        {
         "line": {
          "color": "green"
         },
         "mode": "lines",
         "name": "ID BEV 50",
         "type": "scatter",
         "x": [
          561.5661290322581,
          561.5661290322581,
          570,
          581.5538461538462,
          581.5538461538462
         ],
         "y": [
          0,
          20.5,
          19.5,
          10.29,
          0
         ]
        },
        {
         "line": {
          "color": "green"
         },
         "mode": "lines",
         "name": "ID BEV 59",
         "type": "scatter",
         "x": [
          570,
          570,
          585,
          587.1223404255319,
          587.1223404255319
         ],
         "y": [
          0,
          29.25,
          18.8,
          8.826,
          0
         ]
        },
        {
         "line": {
          "color": "green"
         },
         "mode": "lines",
         "name": "ID BEV 64",
         "type": "scatter",
         "x": [
          570,
          570,
          585,
          595.8670212765958,
          595.8670212765958
         ],
         "y": [
          0,
          39,
          28.200000000000003,
          9.76,
          0
         ]
        },
        {
         "line": {
          "color": "green"
         },
         "mode": "lines",
         "name": "ID BEV 70",
         "type": "scatter",
         "x": [
          581.5538461538462,
          581.5538461538462,
          585,
          600,
          606.8691037735849,
          606.8691037735849
         ],
         "y": [
          0,
          20.04,
          37.6,
          20.352,
          10.178,
          0
         ]
        },
        {
         "line": {
          "color": "green"
         },
         "mode": "lines",
         "name": "ID BEV 80",
         "type": "scatter",
         "x": [
          585,
          585,
          600,
          610.1709905660377,
          610.1709905660377
         ],
         "y": [
          0,
          47,
          30.528,
          10.166,
          0
         ]
        },
        {
         "line": {
          "color": "green"
         },
         "mode": "lines",
         "name": "ID BEV 81",
         "type": "scatter",
         "x": [
          587.1223404255319,
          587.1223404255319,
          600,
          600.722287735849,
          600.722287735849
         ],
         "y": [
          0,
          18.226,
          40.704,
          10.198,
          0
         ]
        },
        {
         "line": {
          "color": "green"
         },
         "mode": "lines",
         "name": "ID BEV 85",
         "type": "scatter",
         "x": [
          600,
          600,
          612.6179245283018,
          612.6179245283018
         ],
         "y": [
          0,
          50.88,
          10.158,
          0
         ]
        },
        {
         "line": {
          "color": "green"
         },
         "mode": "lines",
         "name": "ID BEV 3",
         "type": "scatter",
         "x": [
          606.8691037735849,
          606.8691037735849,
          615,
          625.036546819439,
          625.036546819439
         ],
         "y": [
          0,
          20.354,
          20.247999999999998,
          10.116,
          0
         ]
        },
        {
         "line": {
          "color": "green"
         },
         "mode": "lines",
         "name": "ID BEV 17",
         "type": "scatter",
         "x": [
          615,
          615,
          630,
          635.1151250496229,
          635.1151250496229
         ],
         "y": [
          0,
          30.371999999999996,
          20.152,
          10.081999999999999,
          0
         ]
        },
        {
         "line": {
          "color": "green"
         },
         "mode": "lines",
         "name": "ID BEV 19",
         "type": "scatter",
         "x": [
          615,
          615,
          630,
          637.2588328701866,
          637.2588328701866
         ],
         "y": [
          0,
          40.495999999999995,
          30.228,
          10.076,
          0
         ]
        },
        {
         "line": {
          "color": "green"
         },
         "mode": "lines",
         "name": "ID BEV 20",
         "type": "scatter",
         "x": [
          615,
          615,
          630,
          634.1474791583962,
          634.1474791583962
         ],
         "y": [
          0,
          50.61999999999999,
          40.304,
          10.086,
          0
         ]
        },
        {
         "line": {
          "color": "green"
         },
         "mode": "lines",
         "name": "ID BEV 21",
         "type": "scatter",
         "x": [
          625.036546819439,
          625.036546819439,
          630,
          645,
          648.2609736632083,
          648.2609736632083
         ],
         "y": [
          0,
          20.24,
          50.38,
          25.06,
          10.040000000000001,
          0
         ]
        },
        {
         "line": {
          "color": "green"
         },
         "mode": "lines",
         "name": "ID BEV 22",
         "type": "scatter",
         "x": [
          635.1151250496229,
          635.1151250496229,
          645,
          648.4237829209897,
          648.4237829209897
         ],
         "y": [
          0,
          20.158,
          37.589999999999996,
          10.038,
          0
         ]
        },
        {
         "line": {
          "color": "green"
         },
         "mode": "lines",
         "name": "ID BEV 13",
         "type": "scatter",
         "x": [
          658.2940941739824,
          658.2940941739824,
          658.2940941739824
         ],
         "y": [
          0,
          12.53,
          0
         ]
        },
        {
         "line": {
          "color": "green"
         },
         "mode": "lines",
         "name": "ID BEV 25",
         "type": "scatter",
         "x": [
          645,
          645,
          660,
          662.3854207822994,
          662.3854207822994
         ],
         "y": [
          0,
          50.12,
          20.247999999999998,
          8.366666666666667,
          0
         ]
        },
        {
         "line": {
          "color": "green"
         },
         "mode": "lines",
         "name": "ID BEV 26",
         "type": "scatter",
         "x": [
          660,
          660,
          675,
          678.8910948342328,
          678.8910948342328
         ],
         "y": [
          0,
          30.371999999999996,
          17.293333333333333,
          7.367142857142857,
          0
         ]
        },
        {
         "line": {
          "color": "green"
         },
         "mode": "lines",
         "name": "ID BEV 27",
         "type": "scatter",
         "x": [
          660,
          660,
          673.0679573291189,
          673.0679573291189
         ],
         "y": [
          0,
          40.495999999999995,
          8.515,
          0
         ]
        },
        {
         "line": {
          "color": "green"
         },
         "mode": "lines",
         "name": "ID BEV 28",
         "type": "scatter",
         "x": [
          660,
          660,
          675,
          675.4735929067078,
          675.4735929067078
         ],
         "y": [
          0,
          50.61999999999999,
          34.586666666666666,
          7.327142857142857,
          0
         ]
        },
        {
         "line": {
          "color": "green"
         },
         "mode": "lines",
         "name": "ID BEV 33",
         "type": "scatter",
         "x": [
          672,
          672,
          675,
          687.0264841942945,
          687.0264841942945
         ],
         "y": [
          0,
          18.624,
          51.879999999999995,
          7.464285714285714,
          0
         ]
        },
        {
         "line": {
          "color": "green"
         },
         "mode": "lines",
         "name": "ID BEV 7",
         "type": "scatter",
         "x": [
          689.1713231305645,
          689.1713231305645,
          690,
          699.0502635542168,
          699.0502635542168
         ],
         "y": [
          0,
          8.646666666666667,
          17.706666666666667,
          6.65625,
          0
         ]
        },
        {
         "line": {
          "color": "green"
         },
         "mode": "lines",
         "name": "ID BEV 35",
         "type": "scatter",
         "x": [
          683.37847471008,
          683.37847471008,
          690,
          694.286686369194,
          694.286686369194
         ],
         "y": [
          0,
          8.646666666666667,
          35.413333333333334,
          5.873333333333333,
          0
         ]
        },
        {
         "line": {
          "color": "green"
         },
         "mode": "lines",
         "name": "ID BEV 86",
         "type": "scatter",
         "x": [
          689.8812418917205,
          689.8812418917205,
          690,
          699.1773343373494,
          699.1773343373494
         ],
         "y": [
          0,
          8.646666666666667,
          53.120000000000005,
          4.4383333333333335,
          0
         ]
        },
        {
         "line": {
          "color": "green"
         },
         "mode": "lines",
         "name": "ID BEV 6",
         "type": "scatter",
         "x": [
          699.1773343373494,
          699.1773343373494,
          705,
          720,
          722.2042474344356,
          722.2042474344356
         ],
         "y": [
          0,
          11.078333333333333,
          10.876000000000001,
          10.524,
          2.857894736842105,
          0
         ]
        },
        {
         "line": {
          "color": "green"
         },
         "mode": "lines",
         "name": "ID BEV 23",
         "type": "scatter",
         "x": [
          691.2944277108434,
          691.2944277108434,
          705,
          705.766826038985,
          705.766826038985
         ],
         "y": [
          0,
          6.64,
          21.752000000000002,
          3.843571428571429,
          0
         ]
        },
        {
         "line": {
          "color": "green"
         },
         "mode": "lines",
         "name": "ID BEV 61",
         "type": "scatter",
         "x": [
          694.286686369194,
          694.286686369194,
          705,
          720,
          720.0022422549837,
          720.0022422549837
         ],
         "y": [
          0,
          12.513333333333332,
          32.628,
          21.048,
          2.8947368421052633,
          0
         ]
        },
        {
         "line": {
          "color": "green"
         },
         "mode": "lines",
         "name": "ID BEV 67",
         "type": "scatter",
         "x": [
          699.0502635542168,
          699.0502635542168,
          705,
          720,
          722.2523517673887,
          722.2523517673887
         ],
         "y": [
          0,
          13.29625,
          43.504000000000005,
          31.571999999999996,
          2.8573684210526316,
          0
         ]
        },
        {
         "line": {
          "color": "green"
         },
         "mode": "lines",
         "name": "ID BEV 76",
         "type": "scatter",
         "x": [
          702.1282003012049,
          702.1282003012049,
          705,
          720,
          721.0871579247435,
          721.0871579247435
         ],
         "y": [
          0,
          6.64,
          54.38000000000001,
          42.096,
          2.8768421052631576,
          0
         ]
        },
        {
         "line": {
          "color": "green"
         },
         "mode": "lines",
         "name": "ID BEV 98",
         "type": "scatter",
         "x": [
          705.766826038985,
          705.766826038985,
          720,
          726.3854047890536,
          726.3854047890536
         ],
         "y": [
          0,
          12.906904761904762,
          52.62,
          2.7884210526315787,
          0
         ]
        },
        {
         "line": {
          "color": "green"
         },
         "mode": "lines",
         "name": "ID BEV 78",
         "type": "scatter",
         "x": [
          727.5541619156214,
          727.5541619156214,
          735,
          750,
          754.0383426097711,
          754.0383426097711
         ],
         "y": [
          0,
          5.846666666666667,
          9.576,
          8.623999999999999,
          2.211,
          0
         ]
        },
        {
         "line": {
          "color": "green"
         },
         "mode": "lines",
         "name": "ID BEV 82",
         "type": "scatter",
         "x": [
          725.6299885974914,
          725.6299885974914,
          735,
          750,
          755.0819418676562,
          755.0819418676562
         ],
         "y": [
          0,
          5.846666666666667,
          19.152,
          17.247999999999998,
          2.1945,
          0
         ]
        },
        {
         "line": {
          "color": "green"
         },
         "mode": "lines",
         "name": "ID BEV 84",
         "type": "scatter",
         "x": [
          726.3854047890536,
          726.3854047890536,
          735,
          750,
          754.6722325293754,
          754.6722325293754
         ],
         "y": [
          0,
          8.635087719298244,
          28.728,
          25.871999999999996,
          2.201,
          0
         ]
        },
        {
         "line": {
          "color": "green"
         },
         "mode": "lines",
         "name": "ID BEV 89",
         "type": "scatter",
         "x": [
          725.6299885974914,
          725.6299885974914,
          735,
          750,
          755.0819418676562,
          755.0819418676562
         ],
         "y": [
          0,
          11.693333333333333,
          38.304,
          34.495999999999995,
          4.389,
          0
         ]
        },
        {
         "line": {
          "color": "green"
         },
         "mode": "lines",
         "name": "ID BEV 62",
         "type": "scatter",
         "x": [
          735,
          735,
          750,
          765,
          780,
          795,
          810,
          825,
          840,
          855,
          870,
          885,
          900,
          915,
          930,
          945,
          945
         ],
         "y": [
          0,
          47.88,
          43.11999999999999,
          9.595,
          9.1875,
          9.5625,
          7.95,
          10.3125,
          9.75,
          6.6,
          5.4,
          3.5,
          2.813333333333333,
          2.4366666666666665,
          2.0633333333333335,
          1.6866666666666665,
          0
         ]
        },
        {
         "line": {
          "color": "green"
         },
         "mode": "lines",
         "name": "ID BEV 74",
         "type": "scatter",
         "x": [
          762.9713248935939,
          762.9713248935939,
          765,
          773.1168194218803,
          773.1168194218803
         ],
         "y": [
          0,
          7.1866666666666665,
          19.19,
          1.909,
          0
         ]
        },
        {
         "line": {
          "color": "green"
         },
         "mode": "lines",
         "name": "ID BEV 69",
         "type": "scatter",
         "x": [
          773.1168194218803,
          773.1168194218803,
          780,
          794.5786314525811,
          794.5786314525811
         ],
         "y": [
          0,
          14.702333333333335,
          18.375,
          1.873,
          0
         ]
        },
        {
         "line": {
          "color": "green"
         },
         "mode": "lines",
         "name": "ID BEV 44",
         "type": "scatter",
         "x": [
          765,
          765,
          780,
          795,
          810,
          825,
          840,
          855,
          870,
          885,
          900,
          915,
          930,
          945,
          945
         ],
         "y": [
          0,
          28.785000000000004,
          27.5625,
          19.125,
          15.9,
          20.625,
          19.5,
          13.2,
          10.8,
          7,
          5.626666666666666,
          4.873333333333333,
          4.126666666666667,
          3.373333333333333,
          0
         ]
        },
        {
         "line": {
          "color": "green"
         },
         "mode": "lines",
         "name": "ID BEV 52",
         "type": "scatter",
         "x": [
          765,
          765,
          780,
          795,
          810,
          825,
          840,
          855,
          870,
          885,
          900,
          915,
          930,
          945,
          945
         ],
         "y": [
          0,
          38.38,
          36.75,
          28.6875,
          23.85,
          30.9375,
          29.25,
          19.799999999999997,
          16.200000000000003,
          10.5,
          8.44,
          7.31,
          6.19,
          5.06,
          0
         ]
        },
        {
         "line": {
          "color": "green"
         },
         "mode": "lines",
         "name": "ID BEV 34",
         "type": "scatter",
         "x": [
          794.5786314525811,
          794.5786314525811,
          795,
          810,
          814.6592674805772,
          816,
          816
         ],
         "y": [
          0,
          11.0605,
          38.25,
          31.8,
          1.7160869565217391,
          1.7217391304347827,
          0
         ]
        },
        {
         "line": {
          "color": "green"
         },
         "mode": "lines",
         "name": "ID BEV 66",
         "type": "scatter",
         "x": [
          803.3176470588236,
          803.3176470588236,
          810,
          811.8415094339623,
          811.8415094339623
         ],
         "y": [
          0,
          7.65,
          39.75,
          1.703478260869565,
          0
         ]
        },
        {
         "line": {
          "color": "green"
         },
         "mode": "lines",
         "name": "ID BEV 63",
         "type": "scatter",
         "x": [
          811.8415094339623,
          811.8415094339623,
          825,
          830.0945454545455,
          830.0945454545455
         ],
         "y": [
          0,
          8.328478260869565,
          41.25,
          1.7830434782608695,
          0
         ]
        },
        {
         "line": {
          "color": "green"
         },
         "mode": "lines",
         "name": "ID BEV 56",
         "type": "scatter",
         "x": [
          830.0945454545455,
          830.0945454545455,
          840,
          855,
          858.0954545454546,
          858.0954545454546
         ],
         "y": [
          0,
          10.03304347826087,
          39,
          26.4,
          1.2874074074074073,
          0
         ]
        },
        {
         "line": {
          "color": "green"
         },
         "mode": "lines",
         "name": "ID BEV 49",
         "type": "scatter",
         "x": [
          852.7043129237387,
          852.7043129237387,
          855,
          860.4379137278593,
          860.4379137278593
         ],
         "y": [
          0,
          7.8,
          33,
          1.2525925925925927,
          0
         ]
        },
        {
         "line": {
          "color": "green"
         },
         "mode": "lines",
         "name": "ID BEV 32",
         "type": "scatter",
         "x": [
          860.4379137278593,
          860.4379137278593,
          870,
          885,
          900,
          915,
          923.8118713906208,
          923.8118713906208
         ],
         "y": [
          0,
          5.966878306878307,
          21.6,
          14,
          11.253333333333332,
          9.746666666666666,
          0.41228571428571426,
          0
         ]
        },
        {
         "line": {
          "color": "green"
         },
         "mode": "lines",
         "name": "ID BEV 47",
         "type": "scatter",
         "x": [
          868.6227272727273,
          868.6227272727273,
          870,
          881.65,
          881.65
         ],
         "y": [
          0,
          4.714285714285714,
          27,
          0.8737931034482759,
          0
         ]
        },
        {
         "line": {
          "color": "green"
         },
         "mode": "lines",
         "name": "ID BEV 40",
         "type": "scatter",
         "x": [
          884.3166666666667,
          884.3166666666667,
          885,
          895.8428571428572,
          895.8428571428572
         ],
         "y": [
          0,
          3.857142857142857,
          17.5,
          0.614375,
          0
         ]
        },
        {
         "line": {
          "color": "green"
         },
         "mode": "lines",
         "name": "ID BEV 42",
         "type": "scatter",
         "x": [
          881.65,
          881.65,
          885,
          889.9224489795918,
          889.9224489795918
         ],
         "y": [
          0,
          4.730935960591133,
          21,
          0.6884375,
          0
         ]
        },
        {
         "line": {
          "color": "green"
         },
         "mode": "lines",
         "name": "ID BEV 29",
         "type": "scatter",
         "x": [
          892.0290795387924,
          892.0290795387924,
          900,
          915,
          930,
          945,
          945
         ],
         "y": [
          0,
          2.625,
          14.066666666666665,
          12.183333333333334,
          8.253333333333334,
          6.746666666666666,
          0
         ]
        },
        {
         "line": {
          "color": "green"
         },
         "mode": "lines",
         "name": "ID BEV 31",
         "type": "scatter",
         "x": [
          895.8428571428572,
          895.8428571428572,
          900,
          911.6232227488152,
          911.6232227488152
         ],
         "y": [
          0,
          3.239375,
          16.88,
          0.4927272727272728,
          0
         ]
        },
        {
         "line": {
          "color": "green"
         },
         "mode": "lines",
         "name": "ID BEV 30",
         "type": "scatter",
         "x": [
          911.6232227488152,
          911.6232227488152,
          915,
          922.3461012311902,
          922.3461012311902
         ],
         "y": [
          0,
          2.904155844155844,
          14.620000000000001,
          0.4185714285714286,
          0
         ]
        },
        {
         "line": {
          "color": "green"
         },
         "mode": "lines",
         "name": "ID BEV 14",
         "type": "scatter",
         "x": [
          924.5622435020521,
          924.5622435020521,
          930,
          936.8578352180938,
          936.8578352180938
         ],
         "y": [
          0,
          1.8275,
          10.316666666666666,
          0.337027027027027,
          0
         ]
        },
        {
         "line": {
          "color": "green"
         },
         "mode": "lines",
         "name": "ID BEV 16",
         "type": "scatter",
         "x": [
          922.3461012311902,
          922.3461012311902,
          930,
          934.2407108239096,
          934.2407108239096
         ],
         "y": [
          0,
          2.2460714285714287,
          12.379999999999999,
          0.34756756756756757,
          0
         ]
        },
        {
         "line": {
          "color": "green"
         },
         "mode": "lines",
         "name": "ID BEV 4",
         "type": "scatter",
         "x": [
          936.8578352180938,
          936.8578352180938,
          945,
          951.8774703557312,
          951.8774703557312
         ],
         "y": [
          0,
          1.8845270270270271,
          8.433333333333334,
          0.26894736842105266,
          0
         ]
        },
        {
         "line": {
          "color": "green"
         },
         "mode": "lines",
         "name": "ID BEV 12",
         "type": "scatter",
         "x": [
          934.2407108239096,
          934.2407108239096,
          945,
          945
         ],
         "y": [
          0,
          1.8950675675675677,
          10.120000000000001,
          0
         ]
        },
        {
         "line": {
          "color": "green"
         },
         "mode": "lines",
         "name": "ID BEV 0",
         "type": "scatter",
         "x": [
          951.8774703557312,
          951.8774703557312,
          951.8774703557312
         ],
         "y": [
          0,
          1.714661654135338,
          0
         ]
        }
       ],
       "layout": {
        "template": {
         "data": {
          "bar": [
           {
            "error_x": {
             "color": "#2a3f5f"
            },
            "error_y": {
             "color": "#2a3f5f"
            },
            "marker": {
             "line": {
              "color": "white",
              "width": 0.5
             },
             "pattern": {
              "fillmode": "overlay",
              "size": 10,
              "solidity": 0.2
             }
            },
            "type": "bar"
           }
          ],
          "barpolar": [
           {
            "marker": {
             "line": {
              "color": "white",
              "width": 0.5
             },
             "pattern": {
              "fillmode": "overlay",
              "size": 10,
              "solidity": 0.2
             }
            },
            "type": "barpolar"
           }
          ],
          "carpet": [
           {
            "aaxis": {
             "endlinecolor": "#2a3f5f",
             "gridcolor": "#C8D4E3",
             "linecolor": "#C8D4E3",
             "minorgridcolor": "#C8D4E3",
             "startlinecolor": "#2a3f5f"
            },
            "baxis": {
             "endlinecolor": "#2a3f5f",
             "gridcolor": "#C8D4E3",
             "linecolor": "#C8D4E3",
             "minorgridcolor": "#C8D4E3",
             "startlinecolor": "#2a3f5f"
            },
            "type": "carpet"
           }
          ],
          "choropleth": [
           {
            "colorbar": {
             "outlinewidth": 0,
             "ticks": ""
            },
            "type": "choropleth"
           }
          ],
          "contour": [
           {
            "colorbar": {
             "outlinewidth": 0,
             "ticks": ""
            },
            "colorscale": [
             [
              0,
              "#0d0887"
             ],
             [
              0.1111111111111111,
              "#46039f"
             ],
             [
              0.2222222222222222,
              "#7201a8"
             ],
             [
              0.3333333333333333,
              "#9c179e"
             ],
             [
              0.4444444444444444,
              "#bd3786"
             ],
             [
              0.5555555555555556,
              "#d8576b"
             ],
             [
              0.6666666666666666,
              "#ed7953"
             ],
             [
              0.7777777777777778,
              "#fb9f3a"
             ],
             [
              0.8888888888888888,
              "#fdca26"
             ],
             [
              1,
              "#f0f921"
             ]
            ],
            "type": "contour"
           }
          ],
          "contourcarpet": [
           {
            "colorbar": {
             "outlinewidth": 0,
             "ticks": ""
            },
            "type": "contourcarpet"
           }
          ],
          "heatmap": [
           {
            "colorbar": {
             "outlinewidth": 0,
             "ticks": ""
            },
            "colorscale": [
             [
              0,
              "#0d0887"
             ],
             [
              0.1111111111111111,
              "#46039f"
             ],
             [
              0.2222222222222222,
              "#7201a8"
             ],
             [
              0.3333333333333333,
              "#9c179e"
             ],
             [
              0.4444444444444444,
              "#bd3786"
             ],
             [
              0.5555555555555556,
              "#d8576b"
             ],
             [
              0.6666666666666666,
              "#ed7953"
             ],
             [
              0.7777777777777778,
              "#fb9f3a"
             ],
             [
              0.8888888888888888,
              "#fdca26"
             ],
             [
              1,
              "#f0f921"
             ]
            ],
            "type": "heatmap"
           }
          ],
          "heatmapgl": [
           {
            "colorbar": {
             "outlinewidth": 0,
             "ticks": ""
            },
            "colorscale": [
             [
              0,
              "#0d0887"
             ],
             [
              0.1111111111111111,
              "#46039f"
             ],
             [
              0.2222222222222222,
              "#7201a8"
             ],
             [
              0.3333333333333333,
              "#9c179e"
             ],
             [
              0.4444444444444444,
              "#bd3786"
             ],
             [
              0.5555555555555556,
              "#d8576b"
             ],
             [
              0.6666666666666666,
              "#ed7953"
             ],
             [
              0.7777777777777778,
              "#fb9f3a"
             ],
             [
              0.8888888888888888,
              "#fdca26"
             ],
             [
              1,
              "#f0f921"
             ]
            ],
            "type": "heatmapgl"
           }
          ],
          "histogram": [
           {
            "marker": {
             "pattern": {
              "fillmode": "overlay",
              "size": 10,
              "solidity": 0.2
             }
            },
            "type": "histogram"
           }
          ],
          "histogram2d": [
           {
            "colorbar": {
             "outlinewidth": 0,
             "ticks": ""
            },
            "colorscale": [
             [
              0,
              "#0d0887"
             ],
             [
              0.1111111111111111,
              "#46039f"
             ],
             [
              0.2222222222222222,
              "#7201a8"
             ],
             [
              0.3333333333333333,
              "#9c179e"
             ],
             [
              0.4444444444444444,
              "#bd3786"
             ],
             [
              0.5555555555555556,
              "#d8576b"
             ],
             [
              0.6666666666666666,
              "#ed7953"
             ],
             [
              0.7777777777777778,
              "#fb9f3a"
             ],
             [
              0.8888888888888888,
              "#fdca26"
             ],
             [
              1,
              "#f0f921"
             ]
            ],
            "type": "histogram2d"
           }
          ],
          "histogram2dcontour": [
           {
            "colorbar": {
             "outlinewidth": 0,
             "ticks": ""
            },
            "colorscale": [
             [
              0,
              "#0d0887"
             ],
             [
              0.1111111111111111,
              "#46039f"
             ],
             [
              0.2222222222222222,
              "#7201a8"
             ],
             [
              0.3333333333333333,
              "#9c179e"
             ],
             [
              0.4444444444444444,
              "#bd3786"
             ],
             [
              0.5555555555555556,
              "#d8576b"
             ],
             [
              0.6666666666666666,
              "#ed7953"
             ],
             [
              0.7777777777777778,
              "#fb9f3a"
             ],
             [
              0.8888888888888888,
              "#fdca26"
             ],
             [
              1,
              "#f0f921"
             ]
            ],
            "type": "histogram2dcontour"
           }
          ],
          "mesh3d": [
           {
            "colorbar": {
             "outlinewidth": 0,
             "ticks": ""
            },
            "type": "mesh3d"
           }
          ],
          "parcoords": [
           {
            "line": {
             "colorbar": {
              "outlinewidth": 0,
              "ticks": ""
             }
            },
            "type": "parcoords"
           }
          ],
          "pie": [
           {
            "automargin": true,
            "type": "pie"
           }
          ],
          "scatter": [
           {
            "marker": {
             "colorbar": {
              "outlinewidth": 0,
              "ticks": ""
             }
            },
            "type": "scatter"
           }
          ],
          "scatter3d": [
           {
            "line": {
             "colorbar": {
              "outlinewidth": 0,
              "ticks": ""
             }
            },
            "marker": {
             "colorbar": {
              "outlinewidth": 0,
              "ticks": ""
             }
            },
            "type": "scatter3d"
           }
          ],
          "scattercarpet": [
           {
            "marker": {
             "colorbar": {
              "outlinewidth": 0,
              "ticks": ""
             }
            },
            "type": "scattercarpet"
           }
          ],
          "scattergeo": [
           {
            "marker": {
             "colorbar": {
              "outlinewidth": 0,
              "ticks": ""
             }
            },
            "type": "scattergeo"
           }
          ],
          "scattergl": [
           {
            "marker": {
             "colorbar": {
              "outlinewidth": 0,
              "ticks": ""
             }
            },
            "type": "scattergl"
           }
          ],
          "scattermapbox": [
           {
            "marker": {
             "colorbar": {
              "outlinewidth": 0,
              "ticks": ""
             }
            },
            "type": "scattermapbox"
           }
          ],
          "scatterpolar": [
           {
            "marker": {
             "colorbar": {
              "outlinewidth": 0,
              "ticks": ""
             }
            },
            "type": "scatterpolar"
           }
          ],
          "scatterpolargl": [
           {
            "marker": {
             "colorbar": {
              "outlinewidth": 0,
              "ticks": ""
             }
            },
            "type": "scatterpolargl"
           }
          ],
          "scatterternary": [
           {
            "marker": {
             "colorbar": {
              "outlinewidth": 0,
              "ticks": ""
             }
            },
            "type": "scatterternary"
           }
          ],
          "surface": [
           {
            "colorbar": {
             "outlinewidth": 0,
             "ticks": ""
            },
            "colorscale": [
             [
              0,
              "#0d0887"
             ],
             [
              0.1111111111111111,
              "#46039f"
             ],
             [
              0.2222222222222222,
              "#7201a8"
             ],
             [
              0.3333333333333333,
              "#9c179e"
             ],
             [
              0.4444444444444444,
              "#bd3786"
             ],
             [
              0.5555555555555556,
              "#d8576b"
             ],
             [
              0.6666666666666666,
              "#ed7953"
             ],
             [
              0.7777777777777778,
              "#fb9f3a"
             ],
             [
              0.8888888888888888,
              "#fdca26"
             ],
             [
              1,
              "#f0f921"
             ]
            ],
            "type": "surface"
           }
          ],
          "table": [
           {
            "cells": {
             "fill": {
              "color": "#EBF0F8"
             },
             "line": {
              "color": "white"
             }
            },
            "header": {
             "fill": {
              "color": "#C8D4E3"
             },
             "line": {
              "color": "white"
             }
            },
            "type": "table"
           }
          ]
         },
         "layout": {
          "annotationdefaults": {
           "arrowcolor": "#2a3f5f",
           "arrowhead": 0,
           "arrowwidth": 1
          },
          "autotypenumbers": "strict",
          "coloraxis": {
           "colorbar": {
            "outlinewidth": 0,
            "ticks": ""
           }
          },
          "colorscale": {
           "diverging": [
            [
             0,
             "#8e0152"
            ],
            [
             0.1,
             "#c51b7d"
            ],
            [
             0.2,
             "#de77ae"
            ],
            [
             0.3,
             "#f1b6da"
            ],
            [
             0.4,
             "#fde0ef"
            ],
            [
             0.5,
             "#f7f7f7"
            ],
            [
             0.6,
             "#e6f5d0"
            ],
            [
             0.7,
             "#b8e186"
            ],
            [
             0.8,
             "#7fbc41"
            ],
            [
             0.9,
             "#4d9221"
            ],
            [
             1,
             "#276419"
            ]
           ],
           "sequential": [
            [
             0,
             "#0d0887"
            ],
            [
             0.1111111111111111,
             "#46039f"
            ],
            [
             0.2222222222222222,
             "#7201a8"
            ],
            [
             0.3333333333333333,
             "#9c179e"
            ],
            [
             0.4444444444444444,
             "#bd3786"
            ],
            [
             0.5555555555555556,
             "#d8576b"
            ],
            [
             0.6666666666666666,
             "#ed7953"
            ],
            [
             0.7777777777777778,
             "#fb9f3a"
            ],
            [
             0.8888888888888888,
             "#fdca26"
            ],
            [
             1,
             "#f0f921"
            ]
           ],
           "sequentialminus": [
            [
             0,
             "#0d0887"
            ],
            [
             0.1111111111111111,
             "#46039f"
            ],
            [
             0.2222222222222222,
             "#7201a8"
            ],
            [
             0.3333333333333333,
             "#9c179e"
            ],
            [
             0.4444444444444444,
             "#bd3786"
            ],
            [
             0.5555555555555556,
             "#d8576b"
            ],
            [
             0.6666666666666666,
             "#ed7953"
            ],
            [
             0.7777777777777778,
             "#fb9f3a"
            ],
            [
             0.8888888888888888,
             "#fdca26"
            ],
            [
             1,
             "#f0f921"
            ]
           ]
          },
          "colorway": [
           "#636efa",
           "#EF553B",
           "#00cc96",
           "#ab63fa",
           "#FFA15A",
           "#19d3f3",
           "#FF6692",
           "#B6E880",
           "#FF97FF",
           "#FECB52"
          ],
          "font": {
           "color": "#2a3f5f"
          },
          "geo": {
           "bgcolor": "white",
           "lakecolor": "white",
           "landcolor": "white",
           "showlakes": true,
           "showland": true,
           "subunitcolor": "#C8D4E3"
          },
          "hoverlabel": {
           "align": "left"
          },
          "hovermode": "closest",
          "mapbox": {
           "style": "light"
          },
          "paper_bgcolor": "white",
          "plot_bgcolor": "white",
          "polar": {
           "angularaxis": {
            "gridcolor": "#EBF0F8",
            "linecolor": "#EBF0F8",
            "ticks": ""
           },
           "bgcolor": "white",
           "radialaxis": {
            "gridcolor": "#EBF0F8",
            "linecolor": "#EBF0F8",
            "ticks": ""
           }
          },
          "scene": {
           "xaxis": {
            "backgroundcolor": "white",
            "gridcolor": "#DFE8F3",
            "gridwidth": 2,
            "linecolor": "#EBF0F8",
            "showbackground": true,
            "ticks": "",
            "zerolinecolor": "#EBF0F8"
           },
           "yaxis": {
            "backgroundcolor": "white",
            "gridcolor": "#DFE8F3",
            "gridwidth": 2,
            "linecolor": "#EBF0F8",
            "showbackground": true,
            "ticks": "",
            "zerolinecolor": "#EBF0F8"
           },
           "zaxis": {
            "backgroundcolor": "white",
            "gridcolor": "#DFE8F3",
            "gridwidth": 2,
            "linecolor": "#EBF0F8",
            "showbackground": true,
            "ticks": "",
            "zerolinecolor": "#EBF0F8"
           }
          },
          "shapedefaults": {
           "line": {
            "color": "#2a3f5f"
           }
          },
          "ternary": {
           "aaxis": {
            "gridcolor": "#DFE8F3",
            "linecolor": "#A2B1C6",
            "ticks": ""
           },
           "baxis": {
            "gridcolor": "#DFE8F3",
            "linecolor": "#A2B1C6",
            "ticks": ""
           },
           "bgcolor": "white",
           "caxis": {
            "gridcolor": "#DFE8F3",
            "linecolor": "#A2B1C6",
            "ticks": ""
           }
          },
          "title": {
           "x": 0.05
          },
          "xaxis": {
           "automargin": true,
           "gridcolor": "#EBF0F8",
           "linecolor": "#EBF0F8",
           "ticks": "",
           "title": {
            "standoff": 15
           },
           "zerolinecolor": "#EBF0F8",
           "zerolinewidth": 2
          },
          "yaxis": {
           "automargin": true,
           "gridcolor": "#EBF0F8",
           "linecolor": "#EBF0F8",
           "ticks": "",
           "title": {
            "standoff": 15
           },
           "zerolinecolor": "#EBF0F8",
           "zerolinewidth": 2
          }
         }
        },
        "title": {
         "font": {
          "size": 24
         },
         "text": "Ladeleistung pro Ladezeitraum eines BEVs",
         "x": 0.5,
         "xanchor": "center"
        },
        "xaxis": {
         "range": [
          480,
          960
         ],
         "showgrid": true,
         "title": {
          "text": "Minuten"
         }
        },
        "yaxis": {
         "range": [
          0,
          60
         ],
         "title": {
          "text": "Energie in kW"
         }
        }
       }
      },
      "text/html": [
       "<div>                            <div id=\"5c569849-fcd3-44eb-a04f-40f3f3ce68e7\" class=\"plotly-graph-div\" style=\"height:525px; width:100%;\"></div>            <script type=\"text/javascript\">                require([\"plotly\"], function(Plotly) {                    window.PLOTLYENV=window.PLOTLYENV || {};                                    if (document.getElementById(\"5c569849-fcd3-44eb-a04f-40f3f3ce68e7\")) {                    Plotly.newPlot(                        \"5c569849-fcd3-44eb-a04f-40f3f3ce68e7\",                        [{\"line\":{\"color\":\"orange\"},\"name\":\"Verf\\u00fcgbare Solarleistung\",\"x\":[480,495,510,525,540,555,570,585,600,615,630,645,660,675,690,705,720,735,750,765,780,795,810,825,840,855,870,885,900,915,930,945,960],\"y\":[-2.0,3.25,8.5,13.749999999999998,19.0,27.0,35.0,43.0,51.0,50.75,50.5,50.25,50.0,51.25,52.5,53.75,55.0,50.25,45.5,40.75,36.0,37.5,39.0,40.5,42.0,36.0,30.0,24.0,18.0,15.75,13.5,11.25,9.0],\"type\":\"scatter\"},{\"line\":{\"color\":\"green\"},\"mode\":\"lines\",\"name\":\"ID BEV 2\",\"x\":[480.0,480.0,495.0,510.0,517.3920863309353,517.3920863309353],\"y\":[0.0,0.62,5.87,5.56,5.545,0.0],\"type\":\"scatter\"},{\"line\":{\"color\":\"green\"},\"mode\":\"lines\",\"name\":\"ID BEV 5\",\"x\":[510.0,510.0,525.0,540.0,541.5652173913044,541.5652173913044],\"y\":[0.0,11.12,8.19,7.666666666666667,6.609999999999999,0.0],\"type\":\"scatter\"},{\"line\":{\"color\":\"green\"},\"mode\":\"lines\",\"name\":\"ID BEV 9\",\"x\":[517.3920863309353,517.3920863309353,525.0,536.7399267399268,536.7399267399268],\"y\":[0.0,11.105,16.38,8.93,0.0],\"type\":\"scatter\"},{\"line\":{\"color\":\"green\"},\"mode\":\"lines\",\"name\":\"ID BEV 11\",\"x\":[536.7399267399268,536.7399267399268,540.0,555.0,561.5661290322581,561.5661290322581],\"y\":[0.0,17.119999999999997,15.333333333333334,10.333333333333334,10.166666666666666,0.0],\"type\":\"scatter\"},{\"line\":{\"color\":\"green\"},\"mode\":\"lines\",\"name\":\"ID BEV 18\",\"x\":[540.0,540.0,555.0,559.141935483871,559.141935483871],\"y\":[0.0,23.0,20.666666666666668,9.736666666666666,0.0],\"type\":\"scatter\"},{\"line\":{\"color\":\"green\"},\"mode\":\"lines\",\"name\":\"ID BEV 41\",\"x\":[541.5652173913044,541.5652173913044,555.0,570.0,585.0,600.0,615.0,630.0,645.0,660.0,672.0,672.0],\"y\":[0.0,14.276666666666667,31.0,9.75,9.4,10.176,10.123999999999999,10.076,12.53,10.123999999999999,8.5,0.0],\"type\":\"scatter\"},{\"line\":{\"color\":\"green\"},\"mode\":\"lines\",\"name\":\"ID BEV 50\",\"x\":[561.5661290322581,561.5661290322581,570.0,581.5538461538462,581.5538461538462],\"y\":[0.0,20.5,19.5,10.29,0.0],\"type\":\"scatter\"},{\"line\":{\"color\":\"green\"},\"mode\":\"lines\",\"name\":\"ID BEV 59\",\"x\":[570.0,570.0,585.0,587.1223404255319,587.1223404255319],\"y\":[0.0,29.25,18.8,8.826,0.0],\"type\":\"scatter\"},{\"line\":{\"color\":\"green\"},\"mode\":\"lines\",\"name\":\"ID BEV 64\",\"x\":[570.0,570.0,585.0,595.8670212765958,595.8670212765958],\"y\":[0.0,39.0,28.200000000000003,9.76,0.0],\"type\":\"scatter\"},{\"line\":{\"color\":\"green\"},\"mode\":\"lines\",\"name\":\"ID BEV 70\",\"x\":[581.5538461538462,581.5538461538462,585.0,600.0,606.8691037735849,606.8691037735849],\"y\":[0.0,20.04,37.6,20.352,10.178,0.0],\"type\":\"scatter\"},{\"line\":{\"color\":\"green\"},\"mode\":\"lines\",\"name\":\"ID BEV 80\",\"x\":[585.0,585.0,600.0,610.1709905660377,610.1709905660377],\"y\":[0.0,47.0,30.528,10.166,0.0],\"type\":\"scatter\"},{\"line\":{\"color\":\"green\"},\"mode\":\"lines\",\"name\":\"ID BEV 81\",\"x\":[587.1223404255319,587.1223404255319,600.0,600.722287735849,600.722287735849],\"y\":[0.0,18.226,40.704,10.198,0.0],\"type\":\"scatter\"},{\"line\":{\"color\":\"green\"},\"mode\":\"lines\",\"name\":\"ID BEV 85\",\"x\":[600.0,600.0,612.6179245283018,612.6179245283018],\"y\":[0.0,50.88,10.158,0.0],\"type\":\"scatter\"},{\"line\":{\"color\":\"green\"},\"mode\":\"lines\",\"name\":\"ID BEV 3\",\"x\":[606.8691037735849,606.8691037735849,615.0,625.036546819439,625.036546819439],\"y\":[0.0,20.354,20.247999999999998,10.116,0.0],\"type\":\"scatter\"},{\"line\":{\"color\":\"green\"},\"mode\":\"lines\",\"name\":\"ID BEV 17\",\"x\":[615.0,615.0,630.0,635.1151250496229,635.1151250496229],\"y\":[0.0,30.371999999999996,20.152,10.081999999999999,0.0],\"type\":\"scatter\"},{\"line\":{\"color\":\"green\"},\"mode\":\"lines\",\"name\":\"ID BEV 19\",\"x\":[615.0,615.0,630.0,637.2588328701866,637.2588328701866],\"y\":[0.0,40.495999999999995,30.228,10.076,0.0],\"type\":\"scatter\"},{\"line\":{\"color\":\"green\"},\"mode\":\"lines\",\"name\":\"ID BEV 20\",\"x\":[615.0,615.0,630.0,634.1474791583962,634.1474791583962],\"y\":[0.0,50.61999999999999,40.304,10.086,0.0],\"type\":\"scatter\"},{\"line\":{\"color\":\"green\"},\"mode\":\"lines\",\"name\":\"ID BEV 21\",\"x\":[625.036546819439,625.036546819439,630.0,645.0,648.2609736632083,648.2609736632083],\"y\":[0.0,20.24,50.38,25.06,10.040000000000001,0.0],\"type\":\"scatter\"},{\"line\":{\"color\":\"green\"},\"mode\":\"lines\",\"name\":\"ID BEV 22\",\"x\":[635.1151250496229,635.1151250496229,645.0,648.4237829209897,648.4237829209897],\"y\":[0.0,20.158,37.589999999999996,10.038,0.0],\"type\":\"scatter\"},{\"line\":{\"color\":\"green\"},\"mode\":\"lines\",\"name\":\"ID BEV 13\",\"x\":[658.2940941739824,658.2940941739824,658.2940941739824],\"y\":[0.0,12.53,0.0],\"type\":\"scatter\"},{\"line\":{\"color\":\"green\"},\"mode\":\"lines\",\"name\":\"ID BEV 25\",\"x\":[645.0,645.0,660.0,662.3854207822994,662.3854207822994],\"y\":[0.0,50.12,20.247999999999998,8.366666666666667,0.0],\"type\":\"scatter\"},{\"line\":{\"color\":\"green\"},\"mode\":\"lines\",\"name\":\"ID BEV 26\",\"x\":[660.0,660.0,675.0,678.8910948342328,678.8910948342328],\"y\":[0.0,30.371999999999996,17.293333333333333,7.367142857142857,0.0],\"type\":\"scatter\"},{\"line\":{\"color\":\"green\"},\"mode\":\"lines\",\"name\":\"ID BEV 27\",\"x\":[660.0,660.0,673.0679573291189,673.0679573291189],\"y\":[0.0,40.495999999999995,8.515,0.0],\"type\":\"scatter\"},{\"line\":{\"color\":\"green\"},\"mode\":\"lines\",\"name\":\"ID BEV 28\",\"x\":[660.0,660.0,675.0,675.4735929067078,675.4735929067078],\"y\":[0.0,50.61999999999999,34.586666666666666,7.327142857142857,0.0],\"type\":\"scatter\"},{\"line\":{\"color\":\"green\"},\"mode\":\"lines\",\"name\":\"ID BEV 33\",\"x\":[672.0,672.0,675.0,687.0264841942945,687.0264841942945],\"y\":[0.0,18.624,51.879999999999995,7.464285714285714,0.0],\"type\":\"scatter\"},{\"line\":{\"color\":\"green\"},\"mode\":\"lines\",\"name\":\"ID BEV 7\",\"x\":[689.1713231305645,689.1713231305645,690.0,699.0502635542168,699.0502635542168],\"y\":[0.0,8.646666666666667,17.706666666666667,6.65625,0.0],\"type\":\"scatter\"},{\"line\":{\"color\":\"green\"},\"mode\":\"lines\",\"name\":\"ID BEV 35\",\"x\":[683.37847471008,683.37847471008,690.0,694.286686369194,694.286686369194],\"y\":[0.0,8.646666666666667,35.413333333333334,5.873333333333333,0.0],\"type\":\"scatter\"},{\"line\":{\"color\":\"green\"},\"mode\":\"lines\",\"name\":\"ID BEV 86\",\"x\":[689.8812418917205,689.8812418917205,690.0,699.1773343373494,699.1773343373494],\"y\":[0.0,8.646666666666667,53.120000000000005,4.4383333333333335,0.0],\"type\":\"scatter\"},{\"line\":{\"color\":\"green\"},\"mode\":\"lines\",\"name\":\"ID BEV 6\",\"x\":[699.1773343373494,699.1773343373494,705.0,720.0,722.2042474344356,722.2042474344356],\"y\":[0.0,11.078333333333333,10.876000000000001,10.524,2.857894736842105,0.0],\"type\":\"scatter\"},{\"line\":{\"color\":\"green\"},\"mode\":\"lines\",\"name\":\"ID BEV 23\",\"x\":[691.2944277108434,691.2944277108434,705.0,705.766826038985,705.766826038985],\"y\":[0.0,6.64,21.752000000000002,3.843571428571429,0.0],\"type\":\"scatter\"},{\"line\":{\"color\":\"green\"},\"mode\":\"lines\",\"name\":\"ID BEV 61\",\"x\":[694.286686369194,694.286686369194,705.0,720.0,720.0022422549837,720.0022422549837],\"y\":[0.0,12.513333333333332,32.628,21.048,2.8947368421052633,0.0],\"type\":\"scatter\"},{\"line\":{\"color\":\"green\"},\"mode\":\"lines\",\"name\":\"ID BEV 67\",\"x\":[699.0502635542168,699.0502635542168,705.0,720.0,722.2523517673887,722.2523517673887],\"y\":[0.0,13.29625,43.504000000000005,31.571999999999996,2.8573684210526316,0.0],\"type\":\"scatter\"},{\"line\":{\"color\":\"green\"},\"mode\":\"lines\",\"name\":\"ID BEV 76\",\"x\":[702.1282003012049,702.1282003012049,705.0,720.0,721.0871579247435,721.0871579247435],\"y\":[0.0,6.64,54.38000000000001,42.096,2.8768421052631576,0.0],\"type\":\"scatter\"},{\"line\":{\"color\":\"green\"},\"mode\":\"lines\",\"name\":\"ID BEV 98\",\"x\":[705.766826038985,705.766826038985,720.0,726.3854047890536,726.3854047890536],\"y\":[0.0,12.906904761904762,52.62,2.7884210526315787,0.0],\"type\":\"scatter\"},{\"line\":{\"color\":\"green\"},\"mode\":\"lines\",\"name\":\"ID BEV 78\",\"x\":[727.5541619156214,727.5541619156214,735.0,750.0,754.0383426097711,754.0383426097711],\"y\":[0.0,5.846666666666667,9.576,8.623999999999999,2.211,0.0],\"type\":\"scatter\"},{\"line\":{\"color\":\"green\"},\"mode\":\"lines\",\"name\":\"ID BEV 82\",\"x\":[725.6299885974914,725.6299885974914,735.0,750.0,755.0819418676562,755.0819418676562],\"y\":[0.0,5.846666666666667,19.152,17.247999999999998,2.1945,0.0],\"type\":\"scatter\"},{\"line\":{\"color\":\"green\"},\"mode\":\"lines\",\"name\":\"ID BEV 84\",\"x\":[726.3854047890536,726.3854047890536,735.0,750.0,754.6722325293754,754.6722325293754],\"y\":[0.0,8.635087719298244,28.728,25.871999999999996,2.201,0.0],\"type\":\"scatter\"},{\"line\":{\"color\":\"green\"},\"mode\":\"lines\",\"name\":\"ID BEV 89\",\"x\":[725.6299885974914,725.6299885974914,735.0,750.0,755.0819418676562,755.0819418676562],\"y\":[0.0,11.693333333333333,38.304,34.495999999999995,4.389,0.0],\"type\":\"scatter\"},{\"line\":{\"color\":\"green\"},\"mode\":\"lines\",\"name\":\"ID BEV 62\",\"x\":[735,735,750,765,780,795,810,825,840,855,870,885,900,915,930,945,945],\"y\":[0.0,47.88,43.11999999999999,9.595,9.1875,9.5625,7.95,10.3125,9.75,6.6,5.4,3.5,2.813333333333333,2.4366666666666665,2.0633333333333335,1.6866666666666665,0.0],\"type\":\"scatter\"},{\"line\":{\"color\":\"green\"},\"mode\":\"lines\",\"name\":\"ID BEV 74\",\"x\":[762.9713248935939,762.9713248935939,765.0,773.1168194218803,773.1168194218803],\"y\":[0.0,7.1866666666666665,19.19,1.909,0.0],\"type\":\"scatter\"},{\"line\":{\"color\":\"green\"},\"mode\":\"lines\",\"name\":\"ID BEV 69\",\"x\":[773.1168194218803,773.1168194218803,780.0,794.5786314525811,794.5786314525811],\"y\":[0.0,14.702333333333335,18.375,1.873,0.0],\"type\":\"scatter\"},{\"line\":{\"color\":\"green\"},\"mode\":\"lines\",\"name\":\"ID BEV 44\",\"x\":[765,765,780,795,810,825,840,855,870,885,900,915,930,945,945],\"y\":[0.0,28.785000000000004,27.5625,19.125,15.9,20.625,19.5,13.2,10.8,7.0,5.626666666666666,4.873333333333333,4.126666666666667,3.373333333333333,0.0],\"type\":\"scatter\"},{\"line\":{\"color\":\"green\"},\"mode\":\"lines\",\"name\":\"ID BEV 52\",\"x\":[765,765,780,795,810,825,840,855,870,885,900,915,930,945,945],\"y\":[0.0,38.38,36.75,28.6875,23.85,30.9375,29.25,19.799999999999997,16.200000000000003,10.5,8.44,7.31,6.19,5.06,0.0],\"type\":\"scatter\"},{\"line\":{\"color\":\"green\"},\"mode\":\"lines\",\"name\":\"ID BEV 34\",\"x\":[794.5786314525811,794.5786314525811,795.0,810.0,814.6592674805772,816.0,816.0],\"y\":[0.0,11.0605,38.25,31.8,1.7160869565217391,1.7217391304347827,0.0],\"type\":\"scatter\"},{\"line\":{\"color\":\"green\"},\"mode\":\"lines\",\"name\":\"ID BEV 66\",\"x\":[803.3176470588236,803.3176470588236,810.0,811.8415094339623,811.8415094339623],\"y\":[0.0,7.65,39.75,1.703478260869565,0.0],\"type\":\"scatter\"},{\"line\":{\"color\":\"green\"},\"mode\":\"lines\",\"name\":\"ID BEV 63\",\"x\":[811.8415094339623,811.8415094339623,825.0,830.0945454545455,830.0945454545455],\"y\":[0.0,8.328478260869565,41.25,1.7830434782608695,0.0],\"type\":\"scatter\"},{\"line\":{\"color\":\"green\"},\"mode\":\"lines\",\"name\":\"ID BEV 56\",\"x\":[830.0945454545455,830.0945454545455,840.0,855.0,858.0954545454546,858.0954545454546],\"y\":[0.0,10.03304347826087,39.0,26.4,1.2874074074074073,0.0],\"type\":\"scatter\"},{\"line\":{\"color\":\"green\"},\"mode\":\"lines\",\"name\":\"ID BEV 49\",\"x\":[852.7043129237387,852.7043129237387,855.0,860.4379137278593,860.4379137278593],\"y\":[0.0,7.8,33.0,1.2525925925925927,0.0],\"type\":\"scatter\"},{\"line\":{\"color\":\"green\"},\"mode\":\"lines\",\"name\":\"ID BEV 32\",\"x\":[860.4379137278593,860.4379137278593,870.0,885.0,900.0,915.0,923.8118713906208,923.8118713906208],\"y\":[0.0,5.966878306878307,21.6,14.0,11.253333333333332,9.746666666666666,0.41228571428571426,0.0],\"type\":\"scatter\"},{\"line\":{\"color\":\"green\"},\"mode\":\"lines\",\"name\":\"ID BEV 47\",\"x\":[868.6227272727273,868.6227272727273,870.0,881.65,881.65],\"y\":[0.0,4.714285714285714,27.0,0.8737931034482759,0.0],\"type\":\"scatter\"},{\"line\":{\"color\":\"green\"},\"mode\":\"lines\",\"name\":\"ID BEV 40\",\"x\":[884.3166666666667,884.3166666666667,885.0,895.8428571428572,895.8428571428572],\"y\":[0.0,3.857142857142857,17.5,0.614375,0.0],\"type\":\"scatter\"},{\"line\":{\"color\":\"green\"},\"mode\":\"lines\",\"name\":\"ID BEV 42\",\"x\":[881.65,881.65,885.0,889.9224489795918,889.9224489795918],\"y\":[0.0,4.730935960591133,21.0,0.6884375,0.0],\"type\":\"scatter\"},{\"line\":{\"color\":\"green\"},\"mode\":\"lines\",\"name\":\"ID BEV 29\",\"x\":[892.0290795387924,892.0290795387924,900.0,915.0,930.0,945.0,945.0],\"y\":[0.0,2.625,14.066666666666665,12.183333333333334,8.253333333333334,6.746666666666666,0.0],\"type\":\"scatter\"},{\"line\":{\"color\":\"green\"},\"mode\":\"lines\",\"name\":\"ID BEV 31\",\"x\":[895.8428571428572,895.8428571428572,900.0,911.6232227488152,911.6232227488152],\"y\":[0.0,3.239375,16.88,0.4927272727272728,0.0],\"type\":\"scatter\"},{\"line\":{\"color\":\"green\"},\"mode\":\"lines\",\"name\":\"ID BEV 30\",\"x\":[911.6232227488152,911.6232227488152,915.0,922.3461012311902,922.3461012311902],\"y\":[0.0,2.904155844155844,14.620000000000001,0.4185714285714286,0.0],\"type\":\"scatter\"},{\"line\":{\"color\":\"green\"},\"mode\":\"lines\",\"name\":\"ID BEV 14\",\"x\":[924.5622435020521,924.5622435020521,930.0,936.8578352180938,936.8578352180938],\"y\":[0.0,1.8275,10.316666666666666,0.337027027027027,0.0],\"type\":\"scatter\"},{\"line\":{\"color\":\"green\"},\"mode\":\"lines\",\"name\":\"ID BEV 16\",\"x\":[922.3461012311902,922.3461012311902,930.0,934.2407108239096,934.2407108239096],\"y\":[0.0,2.2460714285714287,12.379999999999999,0.34756756756756757,0.0],\"type\":\"scatter\"},{\"line\":{\"color\":\"green\"},\"mode\":\"lines\",\"name\":\"ID BEV 4\",\"x\":[936.8578352180938,936.8578352180938,945.0,951.8774703557312,951.8774703557312],\"y\":[0.0,1.8845270270270271,8.433333333333334,0.26894736842105266,0.0],\"type\":\"scatter\"},{\"line\":{\"color\":\"green\"},\"mode\":\"lines\",\"name\":\"ID BEV 12\",\"x\":[934.2407108239096,934.2407108239096,945.0,945.0],\"y\":[0.0,1.8950675675675677,10.120000000000001,0.0],\"type\":\"scatter\"},{\"line\":{\"color\":\"green\"},\"mode\":\"lines\",\"name\":\"ID BEV 0\",\"x\":[951.8774703557312,951.8774703557312,951.8774703557312],\"y\":[0.0,1.714661654135338,0.0],\"type\":\"scatter\"}],                        {\"template\":{\"data\":{\"barpolar\":[{\"marker\":{\"line\":{\"color\":\"white\",\"width\":0.5},\"pattern\":{\"fillmode\":\"overlay\",\"size\":10,\"solidity\":0.2}},\"type\":\"barpolar\"}],\"bar\":[{\"error_x\":{\"color\":\"#2a3f5f\"},\"error_y\":{\"color\":\"#2a3f5f\"},\"marker\":{\"line\":{\"color\":\"white\",\"width\":0.5},\"pattern\":{\"fillmode\":\"overlay\",\"size\":10,\"solidity\":0.2}},\"type\":\"bar\"}],\"carpet\":[{\"aaxis\":{\"endlinecolor\":\"#2a3f5f\",\"gridcolor\":\"#C8D4E3\",\"linecolor\":\"#C8D4E3\",\"minorgridcolor\":\"#C8D4E3\",\"startlinecolor\":\"#2a3f5f\"},\"baxis\":{\"endlinecolor\":\"#2a3f5f\",\"gridcolor\":\"#C8D4E3\",\"linecolor\":\"#C8D4E3\",\"minorgridcolor\":\"#C8D4E3\",\"startlinecolor\":\"#2a3f5f\"},\"type\":\"carpet\"}],\"choropleth\":[{\"colorbar\":{\"outlinewidth\":0,\"ticks\":\"\"},\"type\":\"choropleth\"}],\"contourcarpet\":[{\"colorbar\":{\"outlinewidth\":0,\"ticks\":\"\"},\"type\":\"contourcarpet\"}],\"contour\":[{\"colorbar\":{\"outlinewidth\":0,\"ticks\":\"\"},\"colorscale\":[[0.0,\"#0d0887\"],[0.1111111111111111,\"#46039f\"],[0.2222222222222222,\"#7201a8\"],[0.3333333333333333,\"#9c179e\"],[0.4444444444444444,\"#bd3786\"],[0.5555555555555556,\"#d8576b\"],[0.6666666666666666,\"#ed7953\"],[0.7777777777777778,\"#fb9f3a\"],[0.8888888888888888,\"#fdca26\"],[1.0,\"#f0f921\"]],\"type\":\"contour\"}],\"heatmapgl\":[{\"colorbar\":{\"outlinewidth\":0,\"ticks\":\"\"},\"colorscale\":[[0.0,\"#0d0887\"],[0.1111111111111111,\"#46039f\"],[0.2222222222222222,\"#7201a8\"],[0.3333333333333333,\"#9c179e\"],[0.4444444444444444,\"#bd3786\"],[0.5555555555555556,\"#d8576b\"],[0.6666666666666666,\"#ed7953\"],[0.7777777777777778,\"#fb9f3a\"],[0.8888888888888888,\"#fdca26\"],[1.0,\"#f0f921\"]],\"type\":\"heatmapgl\"}],\"heatmap\":[{\"colorbar\":{\"outlinewidth\":0,\"ticks\":\"\"},\"colorscale\":[[0.0,\"#0d0887\"],[0.1111111111111111,\"#46039f\"],[0.2222222222222222,\"#7201a8\"],[0.3333333333333333,\"#9c179e\"],[0.4444444444444444,\"#bd3786\"],[0.5555555555555556,\"#d8576b\"],[0.6666666666666666,\"#ed7953\"],[0.7777777777777778,\"#fb9f3a\"],[0.8888888888888888,\"#fdca26\"],[1.0,\"#f0f921\"]],\"type\":\"heatmap\"}],\"histogram2dcontour\":[{\"colorbar\":{\"outlinewidth\":0,\"ticks\":\"\"},\"colorscale\":[[0.0,\"#0d0887\"],[0.1111111111111111,\"#46039f\"],[0.2222222222222222,\"#7201a8\"],[0.3333333333333333,\"#9c179e\"],[0.4444444444444444,\"#bd3786\"],[0.5555555555555556,\"#d8576b\"],[0.6666666666666666,\"#ed7953\"],[0.7777777777777778,\"#fb9f3a\"],[0.8888888888888888,\"#fdca26\"],[1.0,\"#f0f921\"]],\"type\":\"histogram2dcontour\"}],\"histogram2d\":[{\"colorbar\":{\"outlinewidth\":0,\"ticks\":\"\"},\"colorscale\":[[0.0,\"#0d0887\"],[0.1111111111111111,\"#46039f\"],[0.2222222222222222,\"#7201a8\"],[0.3333333333333333,\"#9c179e\"],[0.4444444444444444,\"#bd3786\"],[0.5555555555555556,\"#d8576b\"],[0.6666666666666666,\"#ed7953\"],[0.7777777777777778,\"#fb9f3a\"],[0.8888888888888888,\"#fdca26\"],[1.0,\"#f0f921\"]],\"type\":\"histogram2d\"}],\"histogram\":[{\"marker\":{\"pattern\":{\"fillmode\":\"overlay\",\"size\":10,\"solidity\":0.2}},\"type\":\"histogram\"}],\"mesh3d\":[{\"colorbar\":{\"outlinewidth\":0,\"ticks\":\"\"},\"type\":\"mesh3d\"}],\"parcoords\":[{\"line\":{\"colorbar\":{\"outlinewidth\":0,\"ticks\":\"\"}},\"type\":\"parcoords\"}],\"pie\":[{\"automargin\":true,\"type\":\"pie\"}],\"scatter3d\":[{\"line\":{\"colorbar\":{\"outlinewidth\":0,\"ticks\":\"\"}},\"marker\":{\"colorbar\":{\"outlinewidth\":0,\"ticks\":\"\"}},\"type\":\"scatter3d\"}],\"scattercarpet\":[{\"marker\":{\"colorbar\":{\"outlinewidth\":0,\"ticks\":\"\"}},\"type\":\"scattercarpet\"}],\"scattergeo\":[{\"marker\":{\"colorbar\":{\"outlinewidth\":0,\"ticks\":\"\"}},\"type\":\"scattergeo\"}],\"scattergl\":[{\"marker\":{\"colorbar\":{\"outlinewidth\":0,\"ticks\":\"\"}},\"type\":\"scattergl\"}],\"scattermapbox\":[{\"marker\":{\"colorbar\":{\"outlinewidth\":0,\"ticks\":\"\"}},\"type\":\"scattermapbox\"}],\"scatterpolargl\":[{\"marker\":{\"colorbar\":{\"outlinewidth\":0,\"ticks\":\"\"}},\"type\":\"scatterpolargl\"}],\"scatterpolar\":[{\"marker\":{\"colorbar\":{\"outlinewidth\":0,\"ticks\":\"\"}},\"type\":\"scatterpolar\"}],\"scatter\":[{\"marker\":{\"colorbar\":{\"outlinewidth\":0,\"ticks\":\"\"}},\"type\":\"scatter\"}],\"scatterternary\":[{\"marker\":{\"colorbar\":{\"outlinewidth\":0,\"ticks\":\"\"}},\"type\":\"scatterternary\"}],\"surface\":[{\"colorbar\":{\"outlinewidth\":0,\"ticks\":\"\"},\"colorscale\":[[0.0,\"#0d0887\"],[0.1111111111111111,\"#46039f\"],[0.2222222222222222,\"#7201a8\"],[0.3333333333333333,\"#9c179e\"],[0.4444444444444444,\"#bd3786\"],[0.5555555555555556,\"#d8576b\"],[0.6666666666666666,\"#ed7953\"],[0.7777777777777778,\"#fb9f3a\"],[0.8888888888888888,\"#fdca26\"],[1.0,\"#f0f921\"]],\"type\":\"surface\"}],\"table\":[{\"cells\":{\"fill\":{\"color\":\"#EBF0F8\"},\"line\":{\"color\":\"white\"}},\"header\":{\"fill\":{\"color\":\"#C8D4E3\"},\"line\":{\"color\":\"white\"}},\"type\":\"table\"}]},\"layout\":{\"annotationdefaults\":{\"arrowcolor\":\"#2a3f5f\",\"arrowhead\":0,\"arrowwidth\":1},\"autotypenumbers\":\"strict\",\"coloraxis\":{\"colorbar\":{\"outlinewidth\":0,\"ticks\":\"\"}},\"colorscale\":{\"diverging\":[[0,\"#8e0152\"],[0.1,\"#c51b7d\"],[0.2,\"#de77ae\"],[0.3,\"#f1b6da\"],[0.4,\"#fde0ef\"],[0.5,\"#f7f7f7\"],[0.6,\"#e6f5d0\"],[0.7,\"#b8e186\"],[0.8,\"#7fbc41\"],[0.9,\"#4d9221\"],[1,\"#276419\"]],\"sequential\":[[0.0,\"#0d0887\"],[0.1111111111111111,\"#46039f\"],[0.2222222222222222,\"#7201a8\"],[0.3333333333333333,\"#9c179e\"],[0.4444444444444444,\"#bd3786\"],[0.5555555555555556,\"#d8576b\"],[0.6666666666666666,\"#ed7953\"],[0.7777777777777778,\"#fb9f3a\"],[0.8888888888888888,\"#fdca26\"],[1.0,\"#f0f921\"]],\"sequentialminus\":[[0.0,\"#0d0887\"],[0.1111111111111111,\"#46039f\"],[0.2222222222222222,\"#7201a8\"],[0.3333333333333333,\"#9c179e\"],[0.4444444444444444,\"#bd3786\"],[0.5555555555555556,\"#d8576b\"],[0.6666666666666666,\"#ed7953\"],[0.7777777777777778,\"#fb9f3a\"],[0.8888888888888888,\"#fdca26\"],[1.0,\"#f0f921\"]]},\"colorway\":[\"#636efa\",\"#EF553B\",\"#00cc96\",\"#ab63fa\",\"#FFA15A\",\"#19d3f3\",\"#FF6692\",\"#B6E880\",\"#FF97FF\",\"#FECB52\"],\"font\":{\"color\":\"#2a3f5f\"},\"geo\":{\"bgcolor\":\"white\",\"lakecolor\":\"white\",\"landcolor\":\"white\",\"showlakes\":true,\"showland\":true,\"subunitcolor\":\"#C8D4E3\"},\"hoverlabel\":{\"align\":\"left\"},\"hovermode\":\"closest\",\"mapbox\":{\"style\":\"light\"},\"paper_bgcolor\":\"white\",\"plot_bgcolor\":\"white\",\"polar\":{\"angularaxis\":{\"gridcolor\":\"#EBF0F8\",\"linecolor\":\"#EBF0F8\",\"ticks\":\"\"},\"bgcolor\":\"white\",\"radialaxis\":{\"gridcolor\":\"#EBF0F8\",\"linecolor\":\"#EBF0F8\",\"ticks\":\"\"}},\"scene\":{\"xaxis\":{\"backgroundcolor\":\"white\",\"gridcolor\":\"#DFE8F3\",\"gridwidth\":2,\"linecolor\":\"#EBF0F8\",\"showbackground\":true,\"ticks\":\"\",\"zerolinecolor\":\"#EBF0F8\"},\"yaxis\":{\"backgroundcolor\":\"white\",\"gridcolor\":\"#DFE8F3\",\"gridwidth\":2,\"linecolor\":\"#EBF0F8\",\"showbackground\":true,\"ticks\":\"\",\"zerolinecolor\":\"#EBF0F8\"},\"zaxis\":{\"backgroundcolor\":\"white\",\"gridcolor\":\"#DFE8F3\",\"gridwidth\":2,\"linecolor\":\"#EBF0F8\",\"showbackground\":true,\"ticks\":\"\",\"zerolinecolor\":\"#EBF0F8\"}},\"shapedefaults\":{\"line\":{\"color\":\"#2a3f5f\"}},\"ternary\":{\"aaxis\":{\"gridcolor\":\"#DFE8F3\",\"linecolor\":\"#A2B1C6\",\"ticks\":\"\"},\"baxis\":{\"gridcolor\":\"#DFE8F3\",\"linecolor\":\"#A2B1C6\",\"ticks\":\"\"},\"bgcolor\":\"white\",\"caxis\":{\"gridcolor\":\"#DFE8F3\",\"linecolor\":\"#A2B1C6\",\"ticks\":\"\"}},\"title\":{\"x\":0.05},\"xaxis\":{\"automargin\":true,\"gridcolor\":\"#EBF0F8\",\"linecolor\":\"#EBF0F8\",\"ticks\":\"\",\"title\":{\"standoff\":15},\"zerolinecolor\":\"#EBF0F8\",\"zerolinewidth\":2},\"yaxis\":{\"automargin\":true,\"gridcolor\":\"#EBF0F8\",\"linecolor\":\"#EBF0F8\",\"ticks\":\"\",\"title\":{\"standoff\":15},\"zerolinecolor\":\"#EBF0F8\",\"zerolinewidth\":2}}},\"xaxis\":{\"range\":[480,960],\"showgrid\":true,\"title\":{\"text\":\"Minuten\"}},\"yaxis\":{\"range\":[0,60],\"title\":{\"text\":\"Energie in kW\"}},\"title\":{\"font\":{\"size\":24},\"text\":\"Ladeleistung pro Ladezeitraum eines BEVs\",\"x\":0.5,\"xanchor\":\"center\"}},                        {\"responsive\": true}                    ).then(function(){\n",
       "                            \n",
       "var gd = document.getElementById('5c569849-fcd3-44eb-a04f-40f3f3ce68e7');\n",
       "var x = new MutationObserver(function (mutations, observer) {{\n",
       "        var display = window.getComputedStyle(gd).display;\n",
       "        if (!display || display === 'none') {{\n",
       "            console.log([gd, 'removed!']);\n",
       "            Plotly.purge(gd);\n",
       "            observer.disconnect();\n",
       "        }}\n",
       "}});\n",
       "\n",
       "// Listen for the removal of the full notebook cells\n",
       "var notebookContainer = gd.closest('#notebook-container');\n",
       "if (notebookContainer) {{\n",
       "    x.observe(notebookContainer, {childList: true});\n",
       "}}\n",
       "\n",
       "// Listen for the clearing of the current output cell\n",
       "var outputEl = gd.closest('.output');\n",
       "if (outputEl) {{\n",
       "    x.observe(outputEl, {childList: true});\n",
       "}}\n",
       "\n",
       "                        })                };                });            </script>        </div>"
      ]
     },
     "metadata": {},
     "output_type": "display_data"
    }
   ],
   "source": [
    "figureGeneration.create_charging_power_figure(simulation_day, solarpeakleistung, bev_data, minute_interval)"
   ]
  }
 ],
 "metadata": {
  "kernelspec": {
   "display_name": "Python 3 (ipykernel)",
   "language": "python",
   "name": "python3"
  },
  "language_info": {
   "codemirror_mode": {
    "name": "ipython",
    "version": 3
   },
   "file_extension": ".py",
   "mimetype": "text/x-python",
   "name": "python",
   "nbconvert_exporter": "python",
   "pygments_lexer": "ipython3",
   "version": "3.9.5"
  }
 },
 "nbformat": 4,
 "nbformat_minor": 4
}
