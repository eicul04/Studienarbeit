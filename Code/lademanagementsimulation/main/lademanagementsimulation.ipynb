{
 "cells": [
  {
   "cell_type": "markdown",
   "metadata": {
    "pycharm": {
     "name": "#%% md\n"
    }
   },
   "source": [
    "# Lademanagementsimulation   \n"
   ]
  },
  {
   "cell_type": "markdown",
   "metadata": {},
   "source": [
    "### Simulations Parameter"
   ]
  },
  {
   "cell_type": "code",
   "execution_count": 1,
   "metadata": {
    "pycharm": {
     "name": "#%%\n"
    }
   },
   "outputs": [],
   "source": [
    "solarpeakleistung = 125 #Einheit Kilowattpeak (kWP)\n",
    "anzahl_bevs_pro_tag = 100\n",
    "ladeleistung_pro_bev = 11 #Einheit kW\n",
    "maximale_ladezeit = 30 #Einheit Minuten"
   ]
  },
  {
   "cell_type": "markdown",
   "metadata": {},
   "source": [
    "### Simulations Eingangsdaten"
   ]
  },
  {
   "cell_type": "code",
   "execution_count": 2,
   "metadata": {
    "pycharm": {
     "name": "#%%\n"
    }
   },
   "outputs": [
    {
     "data": {
      "text/html": [
       "\n",
       "        <iframe\n",
       "            width=\"100%\"\n",
       "            height=\"650\"\n",
       "            src=\"http://127.0.0.1:8050/\"\n",
       "            frameborder=\"0\"\n",
       "            allowfullscreen\n",
       "            \n",
       "        ></iframe>\n",
       "        "
      ],
      "text/plain": [
       "<IPython.lib.display.IFrame at 0x1e025546f70>"
      ]
     },
     "metadata": {},
     "output_type": "display_data"
    }
   ],
   "source": [
    "import simulationInputDataVisualisation\n",
    "simulationInputDataVisualisation.create_jupyter_dash_app(solarpeakleistung)"
   ]
  },
  {
   "cell_type": "markdown",
   "metadata": {},
   "source": [
    "### Verteilungsalgorithmus Polling - FIFO\n",
    "- der Algorithmus weist den BEVs jeweils ein Zustand zu, die Zustände sind wartend (BEV parkt und will laden), ladend (BEV wird mit Solarenergie geladen), nicht parkend (BEV befindet sich nicht im Lademanagmentsystem)\n",
    "- pro BEV Ladeleistung von z.B. 2kW (ladeleistung_pro_bev), wenn verfügbarer Solarstrom > Ladeleistung, dann wird der Solarstrom auf mehrere BEVs verteilt\n",
    "- aktuell wartende Verbraucher werden in einer Warteliste (Pollingliste) abgearbeitet, nach einem variablen Zeitintervall (maximale_ladezeit, z.B. 30min) wird Verbraucher wieder hinten an die Warteliste angefügt. \n",
    "- dabei wird immer das erste BEV der Warteliste auf die Ladeliste genommen, unabhängig von der Länge der Parkzeit\n",
    "- Wenn im Tagesverlauf die Anzahl bereits ladender BEVs größer wird als die Anzahl möglich ladender BEVs, wird das erste BEV der Ladeliste wieder nach hinten an die Warteliste gesetzt"
   ]
  },
  {
   "cell_type": "markdown",
   "metadata": {},
   "source": [
    "### Verteilungsalgorithmus Polling - mit gleichmäßiger Verteilung\n",
    "- wie FIFO Abarbeitung der BEVs auf der Warteliste\n",
    "- allerdings werden BEVs nach dem sie einmal aufgeladen wurden auf eine neue Warteliste gesetzt mit geringerer Priorität => so soll gewährleistet werden, dass erstmal alle BEVs einmal aufgeladen werden, bevor BEVs mehrmals geladen werden "
   ]
  },
  {
   "cell_type": "markdown",
   "metadata": {},
   "source": [
    "### Prognose (Berücksichtigung der Parkdauer - Optimale Ausnutzung)\n",
    "- Ziel ist das möglichst alle gleich viel bekommen und der Solarstrom optimal ausgenutzt wird ⇒ nichts geht verloren\n",
    "- Berechnung des Ladeintervalls:\n",
    "    - Wann sind während des angegebenen Parkintervalls am wenigsten andere BEVs am Warten? (Minimum Anzahl wartender BEVs in Parkintevall)\n",
    "    - Ladestart: sobald Minimum Anzahl wartender BEVs in Parkintevall erreicht wird\n",
    "    - Ladeende: nach fester Zeit oder nachdem Anzahl wartender BEVs nicht mehr Minimum Anzahl wartender BEVs entspricht\n",
    "- Solarleistung wird zu jedem Zeitpunkt gleichmäßig unter ladenden BEVs verteilt, also Ladeleistung = Verfügbare Solarleistung / Ladende BEVs"
   ]
  },
  {
   "cell_type": "markdown",
   "metadata": {},
   "source": [
    "### Prognose (Berücksichtigung der Parkdauer - Belohnung)\n",
    "- Ziel: länger parkende BEVs sollen belohnt werden und mehr Solarenergie garantiert bekommen\n",
    "- Möglichkeiten: mehr Solarenergie oder längeres Ladeintervall"
   ]
  },
  {
   "cell_type": "code",
   "execution_count": 3,
   "metadata": {
    "pycharm": {
     "is_executing": true
    }
   },
   "outputs": [
    {
     "name": "stdout",
     "output_type": "stream",
     "text": [
      "[1, 5, 15, 23, 37, 43, 47, 51, 53, 57, 61, 71, 75, 76, 81, 85, 86] 0 Waiting list with Id removed\n",
      "[5, 15, 23, 37, 43, 47, 51, 53, 57, 61, 71, 75, 76, 81, 85, 86, 4, 8, 10, 11, 14, 17, 20, 24, 27, 28, 29, 32, 33, 34, 39, 41, 46, 48, 49, 54, 55, 56, 60, 62, 63, 65, 68, 72, 74, 78, 80, 84, 92, 94, 98] 1 Waiting list with Id removed\n",
      "[15, 23, 37, 43, 47, 51, 53, 57, 61, 71, 75, 76, 81, 85, 86, 4, 8, 10, 11, 14, 17, 20, 24, 27, 28, 29, 32, 33, 34, 39, 41, 46, 48, 49, 54, 55, 56, 60, 62, 63, 65, 68, 72, 74, 78, 80, 84, 92, 94, 98] 5 Waiting list with Id removed\n",
      "[23, 37, 43, 47, 51, 53, 57, 61, 71, 75, 76, 81, 85, 86, 4, 8, 10, 11, 14, 17, 20, 24, 27, 28, 29, 32, 33, 34, 39, 41, 46, 48, 49, 54, 55, 56, 60, 62, 63, 65, 68, 72, 74, 78, 80, 84, 92, 94, 98, 2, 12, 16, 19, 45, 50, 52, 58, 67, 87, 89, 90, 95, 99] 15 Waiting list with Id removed\n",
      "[37, 43, 47, 51, 53, 57, 61, 71, 75, 76, 81, 85, 86, 4, 8, 10, 11, 14, 17, 20, 24, 27, 28, 29, 32, 33, 34, 39, 41, 46, 48, 49, 54, 55, 56, 60, 62, 63, 65, 68, 72, 74, 78, 80, 84, 92, 94, 98, 2, 12, 16, 19, 45, 50, 52, 58, 67, 87, 89, 90, 95, 99] 23 Waiting list with Id removed\n",
      "[43, 47, 51, 53, 57, 61, 71, 75, 76, 81, 85, 86, 4, 8, 10, 11, 14, 17, 20, 24, 27, 28, 29, 32, 33, 34, 39, 41, 46, 48, 49, 54, 55, 56, 60, 62, 63, 65, 68, 72, 74, 78, 80, 84, 92, 94, 98, 2, 12, 16, 19, 45, 50, 52, 58, 67, 87, 89, 90, 95, 99] 37 Waiting list with Id removed\n",
      "[47, 51, 53, 57, 61, 71, 75, 76, 81, 85, 86, 4, 8, 10, 11, 14, 17, 20, 24, 27, 28, 29, 32, 33, 34, 39, 41, 46, 48, 49, 54, 55, 56, 60, 62, 63, 65, 68, 72, 74, 78, 80, 84, 92, 94, 98, 2, 12, 16, 19, 45, 50, 52, 58, 67, 87, 89, 90, 95, 99] 43 Waiting list with Id removed\n",
      "[51, 53, 57, 61, 71, 75, 76, 81, 85, 86, 4, 8, 10, 11, 14, 17, 20, 24, 27, 28, 29, 32, 33, 34, 39, 41, 46, 48, 49, 54, 55, 56, 60, 62, 63, 65, 68, 72, 74, 78, 80, 84, 92, 94, 98, 2, 12, 16, 19, 45, 50, 52, 58, 67, 87, 89, 90, 95, 99, 18, 42, 88, 97] 47 Waiting list with Id removed\n",
      "[53, 57, 61, 71, 75, 76, 81, 85, 86, 4, 8, 10, 11, 14, 17, 20, 24, 27, 28, 29, 32, 33, 34, 39, 41, 46, 48, 49, 54, 55, 56, 60, 62, 63, 65, 68, 72, 74, 78, 80, 84, 92, 94, 98, 2, 12, 16, 19, 45, 50, 52, 58, 67, 87, 89, 90, 95, 99, 18, 42, 88, 97] 51 Waiting list with Id removed\n",
      "[57, 61, 71, 75, 76, 81, 85, 86, 4, 8, 10, 11, 14, 17, 20, 24, 27, 28, 29, 32, 33, 34, 39, 41, 46, 48, 49, 54, 55, 56, 60, 62, 63, 65, 68, 72, 74, 78, 80, 84, 92, 94, 98, 2, 12, 16, 19, 45, 50, 52, 58, 67, 87, 89, 90, 95, 99, 18, 42, 88, 97] 53 Waiting list with Id removed\n",
      "[61, 71, 75, 76, 81, 85, 86, 4, 8, 10, 11, 14, 17, 20, 24, 27, 28, 29, 32, 33, 34, 39, 41, 46, 48, 49, 54, 55, 56, 60, 62, 63, 65, 68, 72, 74, 78, 80, 84, 92, 94, 98, 2, 12, 16, 19, 45, 50, 52, 58, 67, 87, 89, 90, 95, 99, 18, 42, 88, 97] 57 Waiting list with Id removed\n",
      "[71, 75, 76, 81, 85, 86, 4, 8, 10, 11, 14, 17, 20, 24, 27, 28, 29, 32, 33, 34, 39, 41, 46, 48, 49, 54, 55, 56, 60, 62, 63, 65, 68, 72, 74, 78, 80, 84, 92, 94, 98, 2, 12, 16, 19, 45, 50, 52, 58, 67, 87, 89, 90, 95, 99, 18, 42, 88, 97] 61 Waiting list with Id removed\n",
      "[75, 76, 81, 85, 86, 4, 8, 10, 11, 14, 17, 20, 24, 27, 28, 29, 32, 33, 34, 39, 41, 46, 48, 49, 54, 55, 56, 60, 62, 63, 65, 68, 72, 74, 78, 80, 84, 92, 94, 98, 2, 12, 16, 19, 45, 50, 52, 58, 67, 87, 89, 90, 95, 99, 18, 42, 88, 97, 22, 82] 71 Waiting list with Id removed\n",
      "[76, 81, 85, 86, 4, 8, 10, 11, 14, 17, 20, 24, 27, 28, 29, 32, 33, 34, 39, 41, 46, 48, 49, 54, 55, 56, 60, 62, 63, 65, 68, 72, 74, 78, 80, 84, 92, 94, 98, 2, 12, 16, 19, 45, 50, 52, 58, 67, 87, 89, 90, 95, 99, 18, 42, 88, 97, 22, 82] 75 Waiting list with Id removed\n",
      "[81, 85, 86, 4, 8, 10, 11, 14, 17, 20, 24, 27, 28, 29, 32, 33, 34, 39, 41, 46, 48, 49, 54, 55, 56, 60, 62, 63, 65, 68, 72, 74, 78, 80, 84, 92, 94, 98, 2, 12, 16, 19, 45, 50, 52, 58, 67, 87, 89, 90, 95, 99, 18, 42, 88, 97, 22, 82] 76 Waiting list with Id removed\n",
      "[85, 86, 4, 8, 10, 11, 14, 17, 20, 24, 27, 28, 29, 32, 33, 34, 39, 41, 46, 48, 49, 54, 55, 56, 60, 62, 63, 65, 68, 72, 74, 78, 80, 84, 92, 94, 98, 2, 12, 16, 19, 45, 50, 52, 58, 67, 87, 89, 90, 95, 99, 18, 42, 88, 97, 22, 82] 81 Waiting list with Id removed\n",
      "[86, 4, 8, 10, 11, 14, 17, 20, 24, 27, 28, 29, 32, 33, 34, 39, 41, 46, 48, 49, 54, 55, 56, 60, 62, 63, 65, 68, 72, 74, 78, 80, 84, 92, 94, 98, 2, 12, 16, 19, 45, 50, 52, 58, 67, 87, 89, 90, 95, 99, 18, 42, 88, 97, 22, 82] 85 Waiting list with Id removed\n",
      "[4, 8, 10, 11, 14, 17, 20, 24, 27, 28, 29, 32, 33, 34, 39, 41, 46, 48, 49, 54, 55, 56, 60, 62, 63, 65, 68, 72, 74, 78, 80, 84, 92, 94, 98, 2, 12, 16, 19, 45, 50, 52, 58, 67, 87, 89, 90, 95, 99, 18, 42, 88, 97, 22, 82, 9, 40] 86 Waiting list with Id removed\n",
      "[8, 10, 11, 14, 17, 20, 24, 27, 28, 29, 32, 33, 34, 39, 41, 46, 48, 49, 54, 55, 56, 60, 62, 63, 65, 68, 72, 74, 78, 80, 84, 92, 94, 98, 2, 12, 16, 19, 45, 50, 52, 58, 67, 87, 89, 90, 95, 99, 18, 42, 88, 97, 22, 82, 9, 40] 4 Waiting list with Id removed\n",
      "[10, 11, 14, 17, 20, 24, 27, 28, 29, 32, 33, 34, 39, 41, 46, 48, 49, 54, 55, 56, 60, 62, 63, 65, 68, 72, 74, 78, 80, 84, 92, 94, 98, 2, 12, 16, 19, 45, 50, 52, 58, 67, 87, 89, 90, 95, 99, 18, 42, 88, 97, 22, 82, 9, 40] 8 Waiting list with Id removed\n",
      "[11, 14, 17, 20, 24, 27, 28, 29, 32, 33, 34, 39, 41, 46, 48, 49, 54, 55, 56, 60, 62, 63, 65, 68, 72, 74, 78, 80, 84, 92, 94, 98, 2, 12, 16, 19, 45, 50, 52, 58, 67, 87, 89, 90, 95, 99, 18, 42, 88, 97, 22, 82, 9, 40] 10 Waiting list with Id removed\n",
      "[14, 17, 20, 24, 27, 28, 29, 32, 33, 34, 39, 41, 46, 48, 49, 54, 55, 56, 60, 62, 63, 65, 68, 72, 74, 78, 80, 84, 92, 94, 98, 2, 12, 16, 19, 45, 50, 52, 58, 67, 87, 89, 90, 95, 99, 18, 42, 88, 97, 22, 82, 9, 40] 11 Waiting list with Id removed\n",
      "[17, 20, 24, 27, 28, 29, 32, 33, 34, 39, 41, 46, 48, 49, 54, 55, 56, 60, 62, 63, 65, 68, 72, 74, 78, 80, 84, 92, 94, 98, 2, 12, 16, 19, 45, 50, 52, 58, 67, 87, 89, 90, 95, 99, 18, 42, 88, 97, 22, 82, 9, 40, 96] 14 Waiting list with Id removed\n",
      "[20, 24, 27, 28, 29, 32, 33, 34, 39, 41, 46, 48, 49, 54, 55, 56, 60, 62, 63, 65, 68, 72, 74, 78, 80, 84, 92, 94, 98, 2, 12, 16, 19, 45, 50, 52, 58, 67, 87, 89, 90, 95, 99, 18, 42, 88, 97, 22, 82, 9, 40, 96] 17 Waiting list with Id removed\n",
      "[24, 27, 28, 29, 32, 33, 34, 39, 41, 46, 48, 49, 54, 55, 56, 60, 62, 63, 65, 68, 72, 74, 78, 80, 84, 92, 94, 98, 2, 12, 16, 19, 45, 50, 52, 58, 67, 87, 89, 90, 95, 99, 18, 42, 88, 97, 22, 82, 9, 40, 96] 20 Waiting list with Id removed\n",
      "[27, 28, 29, 32, 33, 34, 39, 41, 46, 48, 49, 54, 55, 56, 60, 62, 63, 65, 68, 72, 74, 78, 80, 84, 92, 94, 98, 2, 12, 16, 19, 45, 50, 52, 58, 67, 87, 89, 90, 95, 99, 18, 42, 88, 97, 22, 82, 9, 40, 96] 24 Waiting list with Id removed\n",
      "[28, 29, 32, 33, 34, 39, 41, 46, 48, 49, 54, 55, 56, 60, 62, 63, 65, 68, 72, 74, 78, 80, 84, 92, 94, 98, 2, 12, 16, 19, 45, 50, 52, 58, 67, 87, 89, 90, 95, 99, 18, 42, 88, 97, 22, 82, 9, 40, 96] 27 Waiting list with Id removed\n",
      "[29, 32, 33, 34, 39, 41, 46, 48, 49, 54, 55, 56, 60, 62, 63, 65, 68, 72, 74, 78, 80, 84, 92, 94, 98, 2, 12, 16, 19, 45, 50, 52, 58, 67, 87, 89, 90, 95, 99, 18, 42, 88, 97, 22, 82, 9, 40, 96] 28 Waiting list with Id removed\n",
      "[32, 33, 34, 39, 41, 46, 48, 49, 54, 55, 56, 60, 62, 63, 65, 68, 72, 74, 78, 80, 84, 92, 94, 98, 2, 12, 16, 19, 45, 50, 52, 58, 67, 87, 89, 90, 95, 99, 18, 42, 88, 97, 22, 82, 9, 40, 96] 29 Waiting list with Id removed\n",
      "[33, 34, 39, 41, 46, 48, 49, 54, 55, 56, 60, 62, 63, 65, 68, 72, 74, 78, 80, 84, 92, 94, 98, 2, 12, 16, 19, 45, 50, 52, 58, 67, 87, 89, 90, 95, 99, 18, 42, 88, 97, 22, 82, 9, 40, 96] 32 Waiting list with Id removed\n",
      "[33, 34, 39, 41, 46, 48, 49, 54, 55, 56, 62, 63, 65, 68, 72, 74, 78, 80, 84, 92, 94, 98, 2, 12, 16, 19, 45, 50, 52, 58, 67, 87, 89, 90, 95, 99, 18, 42, 88, 97, 22, 82, 9, 40, 96] 60 Waiting list with Id removed\n",
      "[33, 34, 39, 41, 46, 48, 49, 54, 55, 56, 62, 63, 65, 68, 72, 74, 78, 80, 84, 94, 98, 2, 12, 16, 19, 45, 50, 52, 58, 67, 87, 89, 90, 95, 99, 18, 42, 88, 97, 22, 82, 9, 40, 96] 92 Waiting list with Id removed\n",
      "[34, 39, 41, 46, 48, 49, 54, 55, 56, 62, 63, 65, 68, 72, 74, 78, 80, 84, 94, 98, 2, 12, 16, 19, 45, 50, 52, 58, 67, 87, 89, 90, 95, 99, 18, 42, 88, 97, 22, 82, 9, 40, 96] 33 Waiting list with Id removed\n",
      "[39, 41, 46, 48, 49, 54, 55, 56, 62, 63, 65, 68, 72, 74, 78, 80, 84, 94, 98, 2, 12, 16, 19, 45, 50, 52, 58, 67, 87, 89, 90, 95, 99, 18, 42, 88, 97, 22, 82, 9, 40, 96] 34 Waiting list with Id removed\n"
     ]
    },
    {
     "name": "stdout",
     "output_type": "stream",
     "text": [
      "[41, 46, 48, 49, 54, 55, 56, 62, 63, 65, 68, 72, 74, 78, 80, 84, 94, 98, 2, 12, 16, 19, 45, 50, 52, 58, 67, 87, 89, 90, 95, 99, 18, 42, 88, 97, 22, 82, 9, 40, 96] 39 Waiting list with Id removed\n",
      "interrupted charging process\n",
      "[41, 46, 48, 49, 54, 55, 56, 62, 63, 65, 68, 72, 74, 78, 80, 84, 94, 98, 2, 12, 16, 45, 50, 52, 58, 67, 87, 89, 90, 95, 99, 18, 42, 88, 97, 22, 82, 9, 40, 96, 25, 30, 70, 28] 19 Waiting list with Id removed\n",
      "[46, 48, 49, 54, 55, 56, 62, 63, 65, 68, 72, 74, 78, 80, 84, 94, 98, 2, 12, 16, 45, 50, 52, 58, 67, 87, 89, 90, 95, 99, 18, 42, 88, 97, 22, 82, 9, 40, 96, 25, 30, 70, 28] 41 Waiting list with Id removed\n",
      "[48, 49, 54, 55, 56, 62, 63, 65, 68, 72, 74, 78, 80, 84, 94, 98, 2, 12, 16, 45, 50, 52, 58, 67, 87, 89, 90, 95, 99, 18, 42, 88, 97, 22, 82, 9, 40, 96, 25, 30, 70, 28] 46 Waiting list with Id removed\n",
      "[48, 49, 54, 55, 56, 62, 63, 65, 68, 72, 74, 78, 80, 84, 94, 98, 2, 12, 16, 45, 50, 52, 58, 67, 87, 89, 95, 99, 18, 42, 88, 97, 22, 82, 9, 40, 96, 25, 30, 70, 28] 90 Waiting list with Id removed\n",
      "[48, 49, 54, 55, 56, 62, 63, 65, 68, 72, 74, 78, 80, 84, 94, 98, 2, 12, 16, 45, 50, 52, 58, 87, 89, 95, 99, 18, 42, 88, 97, 22, 82, 9, 40, 96, 25, 30, 70, 28] 67 Waiting list with Id removed\n",
      "[49, 54, 55, 56, 62, 63, 65, 68, 72, 74, 78, 80, 84, 94, 98, 2, 12, 16, 45, 50, 52, 58, 87, 89, 95, 99, 18, 42, 88, 97, 22, 82, 9, 40, 96, 25, 30, 70, 28] 48 Waiting list with Id removed\n",
      "[54, 55, 56, 62, 63, 65, 68, 72, 74, 78, 80, 84, 94, 98, 2, 12, 16, 45, 50, 52, 58, 87, 89, 95, 99, 18, 42, 88, 97, 22, 82, 9, 40, 96, 25, 30, 70, 28] 49 Waiting list with Id removed\n",
      "[55, 56, 62, 63, 65, 68, 72, 74, 78, 80, 84, 94, 98, 2, 12, 16, 45, 50, 52, 58, 87, 89, 95, 99, 18, 42, 88, 97, 22, 82, 9, 40, 96, 25, 30, 70, 28] 54 Waiting list with Id removed\n",
      "[56, 62, 63, 65, 68, 72, 74, 78, 80, 84, 94, 98, 2, 12, 16, 45, 50, 52, 58, 87, 89, 95, 99, 18, 42, 88, 97, 22, 82, 9, 40, 96, 25, 30, 70, 28] 55 Waiting list with Id removed\n",
      "interrupted charging process\n",
      "[62, 63, 65, 68, 72, 74, 78, 80, 84, 94, 98, 2, 12, 16, 45, 50, 52, 58, 87, 89, 95, 99, 18, 42, 88, 97, 22, 82, 9, 40, 96, 25, 30, 70, 28, 26, 31, 35, 36, 38, 66, 73, 77, 41] 56 Waiting list with Id removed\n",
      "[62, 63, 65, 68, 72, 78, 80, 84, 94, 98, 2, 12, 16, 45, 50, 52, 58, 87, 89, 95, 99, 18, 42, 88, 97, 22, 82, 9, 40, 96, 25, 30, 70, 28, 26, 31, 35, 36, 38, 66, 73, 77, 41] 74 Waiting list with Id removed\n",
      "[63, 65, 68, 72, 78, 80, 84, 94, 98, 2, 12, 16, 45, 50, 52, 58, 87, 89, 95, 99, 18, 42, 88, 97, 22, 82, 9, 40, 96, 25, 30, 70, 28, 26, 31, 35, 36, 38, 66, 73, 77, 41] 62 Waiting list with Id removed\n",
      "[65, 68, 72, 78, 80, 84, 94, 98, 2, 12, 16, 45, 50, 52, 58, 87, 89, 95, 99, 18, 42, 88, 97, 22, 82, 9, 40, 96, 25, 30, 70, 28, 26, 31, 35, 36, 38, 66, 73, 77, 41] 63 Waiting list with Id removed\n",
      "[68, 72, 78, 80, 84, 94, 98, 2, 12, 16, 45, 50, 52, 58, 87, 89, 95, 99, 18, 42, 88, 97, 22, 82, 9, 40, 96, 25, 30, 70, 28, 26, 31, 35, 36, 38, 66, 73, 77, 41] 65 Waiting list with Id removed\n",
      "[72, 78, 80, 84, 94, 98, 2, 12, 16, 45, 50, 52, 58, 87, 89, 95, 99, 18, 42, 88, 97, 22, 82, 9, 40, 96, 25, 30, 70, 28, 26, 31, 35, 36, 38, 66, 73, 77, 41] 68 Waiting list with Id removed\n",
      "[78, 80, 84, 94, 98, 2, 12, 16, 45, 50, 52, 58, 87, 89, 95, 99, 18, 42, 88, 97, 22, 82, 9, 40, 96, 25, 30, 70, 28, 26, 31, 35, 36, 38, 66, 73, 77, 41, 3, 6, 7, 21, 44, 59, 69, 79, 83, 91, 93] 72 Waiting list with Id removed\n",
      "[78, 80, 84, 94, 98, 2, 12, 16, 45, 50, 52, 58, 87, 89, 95, 99, 18, 42, 88, 97, 22, 82, 9, 40, 96, 25, 30, 70, 28, 26, 31, 35, 36, 38, 66, 73, 77, 3, 6, 7, 21, 44, 59, 69, 79, 83, 91, 93] 41 Waiting list with Id removed\n",
      "[80, 84, 94, 98, 2, 12, 16, 45, 50, 52, 58, 87, 89, 95, 99, 18, 42, 88, 97, 22, 82, 9, 40, 96, 25, 30, 70, 28, 26, 31, 35, 36, 38, 66, 73, 77, 3, 6, 7, 21, 44, 59, 69, 79, 83, 91, 93] 78 Waiting list with Id removed\n",
      "[80, 84, 94, 98, 2, 12, 16, 45, 50, 52, 58, 87, 89, 95, 99, 18, 42, 88, 97, 22, 9, 40, 96, 25, 30, 70, 28, 26, 31, 35, 36, 38, 66, 73, 77, 3, 6, 7, 21, 44, 59, 69, 79, 83, 91, 93] 82 Waiting list with Id removed\n",
      "[80, 94, 98, 2, 12, 16, 45, 50, 52, 58, 87, 89, 95, 99, 18, 42, 88, 97, 22, 9, 40, 96, 25, 30, 70, 28, 26, 31, 35, 36, 38, 66, 73, 77, 3, 6, 7, 21, 44, 59, 69, 79, 83, 91, 93] 84 Waiting list with Id removed\n",
      "[94, 98, 2, 12, 16, 45, 50, 52, 58, 87, 89, 95, 99, 18, 42, 88, 97, 22, 9, 40, 96, 25, 30, 70, 28, 26, 31, 35, 36, 38, 66, 73, 77, 3, 6, 7, 21, 44, 59, 69, 79, 83, 91, 93] 80 Waiting list with Id removed\n",
      "[94, 98, 2, 12, 16, 45, 50, 52, 58, 87, 89, 95, 99, 18, 42, 97, 22, 9, 40, 96, 25, 30, 70, 28, 26, 31, 35, 36, 38, 66, 73, 77, 3, 6, 7, 21, 44, 59, 69, 79, 83, 91, 93] 88 Waiting list with Id removed\n",
      "[98, 2, 12, 16, 45, 50, 52, 58, 87, 89, 95, 99, 18, 42, 97, 22, 9, 40, 96, 25, 30, 70, 28, 26, 31, 35, 36, 38, 66, 73, 77, 3, 6, 7, 21, 44, 59, 69, 79, 83, 91, 93] 94 Waiting list with Id removed\n",
      "[2, 12, 16, 45, 50, 52, 58, 87, 89, 95, 99, 18, 42, 97, 22, 9, 40, 96, 25, 30, 70, 28, 26, 31, 35, 36, 38, 66, 73, 77, 3, 6, 7, 21, 44, 59, 69, 79, 83, 91, 93, 64] 98 Waiting list with Id removed\n",
      "[12, 16, 45, 50, 52, 58, 87, 89, 95, 99, 18, 42, 97, 22, 9, 40, 96, 25, 30, 70, 28, 26, 31, 35, 36, 38, 66, 73, 77, 3, 6, 7, 21, 44, 59, 69, 79, 83, 91, 93, 64] 2 Waiting list with Id removed\n",
      "[16, 45, 50, 52, 58, 87, 89, 95, 99, 18, 42, 97, 22, 9, 40, 96, 25, 30, 70, 28, 26, 31, 35, 36, 38, 66, 73, 77, 3, 6, 7, 21, 44, 59, 69, 79, 83, 91, 93, 64] 12 Waiting list with Id removed\n",
      "[45, 50, 52, 58, 87, 89, 95, 99, 18, 42, 97, 22, 9, 40, 96, 25, 30, 70, 28, 26, 31, 35, 36, 38, 66, 73, 77, 3, 6, 7, 21, 44, 59, 69, 79, 83, 91, 93, 64] 16 Waiting list with Id removed\n",
      "[50, 52, 58, 87, 89, 95, 99, 18, 42, 97, 22, 9, 40, 96, 25, 30, 70, 28, 26, 31, 35, 36, 38, 66, 73, 77, 3, 6, 7, 21, 44, 59, 69, 79, 83, 91, 93, 64] 45 Waiting list with Id removed\n",
      "[50, 58, 87, 89, 95, 99, 18, 42, 97, 22, 9, 40, 96, 25, 30, 70, 28, 26, 31, 35, 36, 38, 66, 73, 77, 3, 6, 7, 21, 44, 59, 69, 79, 83, 91, 93, 64] 52 Waiting list with Id removed\n",
      "[58, 87, 89, 95, 99, 18, 42, 97, 22, 9, 40, 96, 25, 30, 70, 28, 26, 31, 35, 36, 38, 66, 73, 77, 3, 6, 7, 21, 44, 59, 69, 79, 83, 91, 93, 64] 50 Waiting list with Id removed\n",
      "[87, 89, 95, 99, 18, 42, 97, 22, 9, 40, 96, 25, 30, 70, 28, 26, 31, 35, 36, 38, 66, 73, 77, 3, 6, 7, 21, 44, 59, 69, 79, 83, 91, 93, 64] 58 Waiting list with Id removed\n",
      "[87, 89, 95, 18, 42, 97, 22, 9, 40, 96, 25, 30, 70, 28, 26, 31, 35, 36, 38, 66, 73, 77, 3, 6, 7, 21, 44, 59, 69, 79, 83, 91, 93, 64] 99 Waiting list with Id removed\n",
      "[89, 95, 18, 42, 97, 22, 9, 40, 96, 25, 30, 70, 28, 26, 31, 35, 36, 38, 66, 73, 77, 3, 6, 7, 21, 44, 59, 69, 79, 83, 91, 93, 64] 87 Waiting list with Id removed\n",
      "[95, 18, 42, 97, 22, 9, 40, 96, 25, 30, 70, 28, 26, 31, 35, 36, 38, 66, 73, 77, 3, 6, 7, 21, 44, 59, 69, 79, 83, 91, 93, 64] 89 Waiting list with Id removed\n",
      "interrupted charging process\n",
      "[18, 42, 97, 22, 9, 40, 96, 25, 30, 70, 28, 26, 31, 35, 36, 38, 66, 73, 77, 3, 6, 7, 21, 44, 59, 69, 79, 83, 91, 93, 64, 50, 13] 95 Waiting list with Id removed\n",
      "[42, 97, 22, 9, 40, 96, 25, 30, 70, 28, 26, 31, 35, 36, 38, 66, 73, 77, 3, 6, 7, 21, 44, 59, 69, 79, 83, 91, 93, 64, 50, 13] 18 Waiting list with Id removed\n",
      "[97, 22, 9, 40, 96, 25, 30, 70, 28, 26, 31, 35, 36, 38, 66, 73, 77, 3, 6, 7, 21, 44, 59, 69, 79, 83, 91, 93, 64, 50, 13] 42 Waiting list with Id removed\n",
      "interrupted charging process\n",
      "[97, 22, 40, 96, 25, 30, 70, 28, 26, 31, 35, 36, 38, 66, 73, 77, 3, 6, 7, 21, 44, 59, 69, 79, 83, 91, 93, 64, 50, 13, 89] 9 Waiting list with Id removed\n",
      "[97, 22, 40, 96, 25, 30, 70, 26, 31, 35, 36, 38, 66, 73, 77, 3, 6, 7, 21, 44, 59, 69, 79, 83, 91, 93, 64, 50, 13, 89] 28 Waiting list with Id removed\n",
      "[22, 40, 96, 25, 30, 70, 26, 31, 35, 36, 38, 66, 73, 77, 3, 6, 7, 21, 44, 59, 69, 79, 83, 91, 93, 64, 50, 13, 89] 97 Waiting list with Id removed\n",
      "[22, 40, 96, 30, 70, 26, 31, 35, 36, 38, 66, 73, 77, 3, 6, 7, 21, 44, 59, 69, 79, 83, 91, 93, 64, 50, 13, 89] 25 Waiting list with Id removed\n",
      "[40, 96, 30, 70, 26, 31, 35, 36, 38, 66, 73, 77, 3, 6, 7, 21, 44, 59, 69, 79, 83, 91, 93, 64, 50, 13, 89] 22 Waiting list with Id removed\n",
      "interrupted charging process\n",
      "[40, 96, 30, 70, 26, 31, 35, 36, 38, 66, 73, 77, 3, 6, 7, 21, 44, 59, 69, 79, 83, 91, 93, 64, 50, 13, 89] 97 Waiting list with Id removed\n",
      "[40, 96, 30, 70, 26, 31, 35, 36, 38, 66, 73, 77, 3, 6, 7, 21, 44, 59, 69, 79, 83, 91, 93, 64, 13, 89] 50 Waiting list with Id removed\n"
     ]
    },
    {
     "name": "stdout",
     "output_type": "stream",
     "text": [
      "[96, 30, 70, 26, 31, 35, 36, 38, 66, 73, 77, 3, 6, 7, 21, 44, 59, 69, 79, 83, 91, 93, 64, 13, 89] 40 Waiting list with Id removed\n",
      "[30, 70, 26, 31, 35, 36, 38, 66, 73, 77, 3, 6, 7, 21, 44, 59, 69, 79, 83, 91, 93, 64, 13, 89] 96 Waiting list with Id removed\n",
      "[30, 26, 31, 35, 36, 38, 66, 73, 77, 3, 6, 7, 21, 44, 59, 69, 79, 83, 91, 93, 64, 13, 89] 70 Waiting list with Id removed\n"
     ]
    }
   ],
   "source": [
    "import distributionAlgorithmPolling\n",
    "import simulationClasses\n",
    "import simulationData\n",
    "import simulationOutputDataVisualisation\n",
    "import distributionAlgorithmForecast\n",
    "\n",
    "simulation_day = simulationClasses.SimulationDay(anzahl_bevs_pro_tag)\n",
    "bev_data = simulationData.BevData()\n",
    "table_dict = simulationData.TableDict()\n",
    "simulation_data = simulationData.SimulationData()\n",
    "\n",
    "# Auswahl des Algorithmus\n",
    "# algorithm = distributionAlgorithmPolling.Algorithm.POLLING_FIFO\n",
    "algorithm = distributionAlgorithmPolling.Algorithm.POLLING_EVEN_DISTRIBUTION\n",
    "distributionAlgorithmPolling.start_simulation(solarpeakleistung, maximale_ladezeit, ladeleistung_pro_bev, simulation_day, bev_data, table_dict, simulation_data, algorithm)\n",
    "\n",
    "#distributionAlgorithmForecast.start_algorithm(simulation_data, simulation_day, maximale_ladezeit)"
   ]
  },
  {
   "cell_type": "markdown",
   "metadata": {},
   "source": [
    "### Ergebnis Algorithmus"
   ]
  },
  {
   "cell_type": "code",
   "execution_count": 4,
   "metadata": {
    "pycharm": {
     "is_executing": true
    }
   },
   "outputs": [
    {
     "data": {
      "text/markdown": [
       ">**Ergebnis**<br>Geladene BEVs: 60 von 100<br>Unterbrochene Aufladevorgänge 5<br>Aufgeladene Solarenergie insgesamt: 275.22 kWh<br>Ungenutzte Solarenergie insgesamt: 0 kWh"
      ],
      "text/plain": [
       "<IPython.core.display.Markdown object>"
      ]
     },
     "execution_count": 4,
     "metadata": {},
     "output_type": "execute_result"
    }
   ],
   "source": [
    "simulationOutputDataVisualisation.print_algorithm_result(bev_data, simulation_data, anzahl_bevs_pro_tag)"
   ]
  },
  {
   "cell_type": "markdown",
   "metadata": {},
   "source": [
    "### Tabellarische Übersicht Park- und Ladeverlauf der BEVs"
   ]
  },
  {
   "cell_type": "code",
   "execution_count": 5,
   "metadata": {
    "pycharm": {
     "is_executing": true
    }
   },
   "outputs": [
    {
     "data": {
      "application/vnd.jupyter.widget-view+json": {
       "model_id": "0ceec788e36449ae9a422cc17a8aca57",
       "version_major": 2,
       "version_minor": 0
      },
      "text/plain": [
       "interactive(children=(IntSlider(value=480, description='Minute: ', max=960, min=480), Output()), _dom_classes=…"
      ]
     },
     "metadata": {},
     "output_type": "display_data"
    }
   ],
   "source": [
    "simulationOutputDataVisualisation.create_tabular_overview_per_minute_slider(table_dict)"
   ]
  },
  {
   "cell_type": "code",
   "execution_count": 6,
   "metadata": {
    "pycharm": {
     "is_executing": true
    }
   },
   "outputs": [
    {
     "data": {
      "application/vnd.plotly.v1+json": {
       "config": {
        "plotlyServerURL": "https://plot.ly"
       },
       "data": [],
       "layout": {
        "shapes": [
         {
          "line": {
           "color": "green"
          },
          "type": "rect",
          "x0": 490,
          "x1": 520,
          "xref": "x",
          "y0": 0,
          "y1": 2.19,
          "yref": "y"
         },
         {
          "line": {
           "color": "green"
          },
          "type": "rect",
          "x0": 520,
          "x1": 550,
          "xref": "x",
          "y0": 0,
          "y1": 4.11,
          "yref": "y"
         },
         {
          "line": {
           "color": "green"
          },
          "type": "rect",
          "x0": 816,
          "x1": 846,
          "xref": "x",
          "y0": 0,
          "y1": 5.249,
          "yref": "y"
         },
         {
          "line": {
           "color": "green"
          },
          "type": "rect",
          "x0": 640,
          "x1": 670,
          "xref": "x",
          "y0": 0,
          "y1": 5.022,
          "yref": "y"
         },
         {
          "line": {
           "color": "green"
          },
          "type": "rect",
          "x0": 523,
          "x1": 553,
          "xref": "x",
          "y0": 0,
          "y1": 4.017,
          "yref": "y"
         },
         {
          "line": {
           "color": "green"
          },
          "type": "rect",
          "x0": 642,
          "x1": 672,
          "xref": "x",
          "y0": 0,
          "y1": 5.022,
          "yref": "y"
         },
         {
          "line": {
           "color": "green"
          },
          "type": "rect",
          "x0": 643,
          "x1": 673,
          "xref": "x",
          "y0": 0,
          "y1": 5.021,
          "yref": "y"
         },
         {
          "line": {
           "color": "green"
          },
          "type": "rect",
          "x0": 655,
          "x1": 685,
          "xref": "x",
          "y0": 0,
          "y1": 5.08,
          "yref": "y"
         },
         {
          "line": {
           "color": "green"
          },
          "type": "rect",
          "x0": 828,
          "x1": 858,
          "xref": "x",
          "y0": 0,
          "y1": 5.136,
          "yref": "y"
         },
         {
          "line": {
           "color": "green"
          },
          "type": "rect",
          "x0": 666,
          "x1": 696,
          "xref": "x",
          "y0": 0,
          "y1": 5.215,
          "yref": "y"
         },
         {
          "line": {
           "color": "green"
          },
          "type": "rect",
          "x0": 546,
          "x1": 576,
          "xref": "x",
          "y0": 0,
          "y1": 4.59,
          "yref": "y"
         },
         {
          "line": {
           "color": "green"
          },
          "type": "rect",
          "x0": 670,
          "x1": 700,
          "xref": "x",
          "y0": 0,
          "y1": 5.186,
          "yref": "y"
         },
         {
          "line": {
           "color": "green"
          },
          "type": "rect",
          "x0": 672,
          "x1": 702,
          "xref": "x",
          "y0": 0,
          "y1": 5.157,
          "yref": "y"
         },
         {
          "line": {
           "color": "green"
          },
          "type": "rect",
          "x0": 918,
          "x1": 948,
          "xref": "x",
          "y0": 0,
          "y1": 4.273,
          "yref": "y"
         },
         {
          "line": {
           "color": "green"
          },
          "type": "rect",
          "x0": 550,
          "x1": 580,
          "xref": "x",
          "y0": 0,
          "y1": 4.772,
          "yref": "y"
         },
         {
          "line": {
           "color": "green"
          },
          "type": "rect",
          "x0": 673,
          "x1": 703,
          "xref": "x",
          "y0": 0,
          "y1": 5.14,
          "yref": "y"
         },
         {
          "line": {
           "color": "green"
          },
          "type": "rect",
          "x0": 685,
          "x1": 715,
          "xref": "x",
          "y0": 0,
          "y1": 4.936,
          "yref": "y"
         },
         {
          "line": {
           "color": "green"
          },
          "type": "rect",
          "x0": 696,
          "x1": 720,
          "xref": "x",
          "y0": 0,
          "y1": 3.733,
          "yref": "y"
         },
         {
          "line": {
           "color": "green"
          },
          "type": "rect",
          "x0": 697,
          "x1": 727,
          "xref": "x",
          "y0": 0,
          "y1": 4.822,
          "yref": "y"
         },
         {
          "line": {
           "color": "green"
          },
          "type": "rect",
          "x0": 700,
          "x1": 730,
          "xref": "x",
          "y0": 0,
          "y1": 4.896,
          "yref": "y"
         },
         {
          "line": {
           "color": "green"
          },
          "type": "rect",
          "x0": 702,
          "x1": 732,
          "xref": "x",
          "y0": 0,
          "y1": 4.94,
          "yref": "y"
         },
         {
          "line": {
           "color": "green"
          },
          "type": "rect",
          "x0": 703,
          "x1": 733,
          "xref": "x",
          "y0": 0,
          "y1": 4.961,
          "yref": "y"
         },
         {
          "line": {
           "color": "green"
          },
          "type": "rect",
          "x0": 553,
          "x1": 583,
          "xref": "x",
          "y0": 0,
          "y1": 4.864,
          "yref": "y"
         },
         {
          "line": {
           "color": "green"
          },
          "type": "rect",
          "x0": 715,
          "x1": 745,
          "xref": "x",
          "y0": 0,
          "y1": 5.109,
          "yref": "y"
         },
         {
          "line": {
           "color": "green"
          },
          "type": "rect",
          "x0": 948,
          "x1": 960,
          "xref": "x",
          "y0": 0,
          "y1": 1.913,
          "yref": "y"
         },
         {
          "line": {
           "color": "green"
          },
          "type": "rect",
          "x0": 727,
          "x1": 753,
          "xref": "x",
          "y0": 0,
          "y1": 4.293,
          "yref": "y"
         },
         {
          "line": {
           "color": "green"
          },
          "type": "rect",
          "x0": 888,
          "x1": 918,
          "xref": "x",
          "y0": 0,
          "y1": 4.22,
          "yref": "y"
         },
         {
          "line": {
           "color": "green"
          },
          "type": "rect",
          "x0": 565,
          "x1": 595,
          "xref": "x",
          "y0": 0,
          "y1": 4.777,
          "yref": "y"
         },
         {
          "line": {
           "color": "green"
          },
          "type": "rect",
          "x0": 835,
          "x1": 865,
          "xref": "x",
          "y0": 0,
          "y1": 4.953,
          "yref": "y"
         },
         {
          "line": {
           "color": "green"
          },
          "type": "rect",
          "x0": 730,
          "x1": 760,
          "xref": "x",
          "y0": 0,
          "y1": 4.994,
          "yref": "y"
         },
         {
          "line": {
           "color": "green"
          },
          "type": "rect",
          "x0": 576,
          "x1": 606,
          "xref": "x",
          "y0": 0,
          "y1": 4.95,
          "yref": "y"
         },
         {
          "line": {
           "color": "green"
          },
          "type": "rect",
          "x0": 732,
          "x1": 762,
          "xref": "x",
          "y0": 0,
          "y1": 4.98,
          "yref": "y"
         },
         {
          "line": {
           "color": "green"
          },
          "type": "rect",
          "x0": 733,
          "x1": 763,
          "xref": "x",
          "y0": 0,
          "y1": 4.973,
          "yref": "y"
         },
         {
          "line": {
           "color": "green"
          },
          "type": "rect",
          "x0": 840,
          "x1": 868,
          "xref": "x",
          "y0": 0,
          "y1": 4.494,
          "yref": "y"
         },
         {
          "line": {
           "color": "green"
          },
          "type": "rect",
          "x0": 580,
          "x1": 610,
          "xref": "x",
          "y0": 0,
          "y1": 4.956,
          "yref": "y"
         },
         {
          "line": {
           "color": "green"
          },
          "type": "rect",
          "x0": 582,
          "x1": 612,
          "xref": "x",
          "y0": 0,
          "y1": 4.948,
          "yref": "y"
         },
         {
          "line": {
           "color": "green"
          },
          "type": "rect",
          "x0": 745,
          "x1": 775,
          "xref": "x",
          "y0": 0,
          "y1": 4.871,
          "yref": "y"
         },
         {
          "line": {
           "color": "green"
          },
          "type": "rect",
          "x0": 760,
          "x1": 767,
          "xref": "x",
          "y0": 0,
          "y1": 1.318,
          "yref": "y"
         },
         {
          "line": {
           "color": "green"
          },
          "type": "rect",
          "x0": 583,
          "x1": 613,
          "xref": "x",
          "y0": 0,
          "y1": 4.977,
          "yref": "y"
         },
         {
          "line": {
           "color": "green"
          },
          "type": "rect",
          "x0": 846,
          "x1": 876,
          "xref": "x",
          "y0": 0,
          "y1": 4.826,
          "yref": "y"
         },
         {
          "line": {
           "color": "green"
          },
          "type": "rect",
          "x0": 595,
          "x1": 625,
          "xref": "x",
          "y0": 0,
          "y1": 5.223,
          "yref": "y"
         },
         {
          "line": {
           "color": "green"
          },
          "type": "rect",
          "x0": 762,
          "x1": 785,
          "xref": "x",
          "y0": 0,
          "y1": 3.727,
          "yref": "y"
         },
         {
          "line": {
           "color": "green"
          },
          "type": "rect",
          "x0": 763,
          "x1": 793,
          "xref": "x",
          "y0": 0,
          "y1": 4.6,
          "yref": "y"
         },
         {
          "line": {
           "color": "green"
          },
          "type": "rect",
          "x0": 768,
          "x1": 798,
          "xref": "x",
          "y0": 0,
          "y1": 4.539,
          "yref": "y"
         },
         {
          "line": {
           "color": "green"
          },
          "type": "rect",
          "x0": 775,
          "x1": 805,
          "xref": "x",
          "y0": 0,
          "y1": 4.526,
          "yref": "y"
         },
         {
          "line": {
           "color": "green"
          },
          "type": "rect",
          "x0": 606,
          "x1": 636,
          "xref": "x",
          "y0": 0,
          "y1": 5.269,
          "yref": "y"
         },
         {
          "line": {
           "color": "green"
          },
          "type": "rect",
          "x0": 786,
          "x1": 816,
          "xref": "x",
          "y0": 0,
          "y1": 4.667,
          "yref": "y"
         },
         {
          "line": {
           "color": "green"
          },
          "type": "rect",
          "x0": 610,
          "x1": 640,
          "xref": "x",
          "y0": 0,
          "y1": 5.251,
          "yref": "y"
         },
         {
          "line": {
           "color": "green"
          },
          "type": "rect",
          "x0": 612,
          "x1": 642,
          "xref": "x",
          "y0": 0,
          "y1": 5.237,
          "yref": "y"
         },
         {
          "line": {
           "color": "green"
          },
          "type": "rect",
          "x0": 793,
          "x1": 809,
          "xref": "x",
          "y0": 0,
          "y1": 2.629,
          "yref": "y"
         },
         {
          "line": {
           "color": "green"
          },
          "type": "rect",
          "x0": 798,
          "x1": 828,
          "xref": "x",
          "y0": 0,
          "y1": 4.962,
          "yref": "y"
         },
         {
          "line": {
           "color": "green"
          },
          "type": "rect",
          "x0": 613,
          "x1": 643,
          "xref": "x",
          "y0": 0,
          "y1": 5.229,
          "yref": "y"
         },
         {
          "line": {
           "color": "green"
          },
          "type": "rect",
          "x0": 625,
          "x1": 655,
          "xref": "x",
          "y0": 0,
          "y1": 5.11,
          "yref": "y"
         },
         {
          "line": {
           "color": "green"
          },
          "type": "rect",
          "x0": 636,
          "x1": 666,
          "xref": "x",
          "y0": 0,
          "y1": 5.032,
          "yref": "y"
         },
         {
          "line": {
           "color": "green"
          },
          "type": "rect",
          "x0": 858,
          "x1": 888,
          "xref": "x",
          "y0": 0,
          "y1": 4.568,
          "yref": "y"
         },
         {
          "line": {
           "color": "green"
          },
          "type": "rect",
          "x0": 865,
          "x1": 890,
          "xref": "x",
          "y0": 0,
          "y1": 3.763,
          "yref": "y"
         },
         {
          "line": {
           "color": "green"
          },
          "type": "rect",
          "x0": 805,
          "x1": 835,
          "xref": "x",
          "y0": 0,
          "y1": 5.123,
          "yref": "y"
         },
         {
          "line": {
           "color": "green"
          },
          "type": "rect",
          "x0": 876,
          "x1": 906,
          "xref": "x",
          "y0": 0,
          "y1": 4.498,
          "yref": "y"
         },
         {
          "line": {
           "color": "green"
          },
          "type": "rect",
          "x0": 906,
          "x1": 927,
          "xref": "x",
          "y0": 0,
          "y1": 2.33,
          "yref": "y"
         },
         {
          "line": {
           "color": "green"
          },
          "type": "rect",
          "x0": 810,
          "x1": 839,
          "xref": "x",
          "y0": 0,
          "y1": 5.206,
          "yref": "y"
         }
        ],
        "template": {
         "data": {
          "bar": [
           {
            "error_x": {
             "color": "#2a3f5f"
            },
            "error_y": {
             "color": "#2a3f5f"
            },
            "marker": {
             "line": {
              "color": "white",
              "width": 0.5
             },
             "pattern": {
              "fillmode": "overlay",
              "size": 10,
              "solidity": 0.2
             }
            },
            "type": "bar"
           }
          ],
          "barpolar": [
           {
            "marker": {
             "line": {
              "color": "white",
              "width": 0.5
             },
             "pattern": {
              "fillmode": "overlay",
              "size": 10,
              "solidity": 0.2
             }
            },
            "type": "barpolar"
           }
          ],
          "carpet": [
           {
            "aaxis": {
             "endlinecolor": "#2a3f5f",
             "gridcolor": "#C8D4E3",
             "linecolor": "#C8D4E3",
             "minorgridcolor": "#C8D4E3",
             "startlinecolor": "#2a3f5f"
            },
            "baxis": {
             "endlinecolor": "#2a3f5f",
             "gridcolor": "#C8D4E3",
             "linecolor": "#C8D4E3",
             "minorgridcolor": "#C8D4E3",
             "startlinecolor": "#2a3f5f"
            },
            "type": "carpet"
           }
          ],
          "choropleth": [
           {
            "colorbar": {
             "outlinewidth": 0,
             "ticks": ""
            },
            "type": "choropleth"
           }
          ],
          "contour": [
           {
            "colorbar": {
             "outlinewidth": 0,
             "ticks": ""
            },
            "colorscale": [
             [
              0,
              "#0d0887"
             ],
             [
              0.1111111111111111,
              "#46039f"
             ],
             [
              0.2222222222222222,
              "#7201a8"
             ],
             [
              0.3333333333333333,
              "#9c179e"
             ],
             [
              0.4444444444444444,
              "#bd3786"
             ],
             [
              0.5555555555555556,
              "#d8576b"
             ],
             [
              0.6666666666666666,
              "#ed7953"
             ],
             [
              0.7777777777777778,
              "#fb9f3a"
             ],
             [
              0.8888888888888888,
              "#fdca26"
             ],
             [
              1,
              "#f0f921"
             ]
            ],
            "type": "contour"
           }
          ],
          "contourcarpet": [
           {
            "colorbar": {
             "outlinewidth": 0,
             "ticks": ""
            },
            "type": "contourcarpet"
           }
          ],
          "heatmap": [
           {
            "colorbar": {
             "outlinewidth": 0,
             "ticks": ""
            },
            "colorscale": [
             [
              0,
              "#0d0887"
             ],
             [
              0.1111111111111111,
              "#46039f"
             ],
             [
              0.2222222222222222,
              "#7201a8"
             ],
             [
              0.3333333333333333,
              "#9c179e"
             ],
             [
              0.4444444444444444,
              "#bd3786"
             ],
             [
              0.5555555555555556,
              "#d8576b"
             ],
             [
              0.6666666666666666,
              "#ed7953"
             ],
             [
              0.7777777777777778,
              "#fb9f3a"
             ],
             [
              0.8888888888888888,
              "#fdca26"
             ],
             [
              1,
              "#f0f921"
             ]
            ],
            "type": "heatmap"
           }
          ],
          "heatmapgl": [
           {
            "colorbar": {
             "outlinewidth": 0,
             "ticks": ""
            },
            "colorscale": [
             [
              0,
              "#0d0887"
             ],
             [
              0.1111111111111111,
              "#46039f"
             ],
             [
              0.2222222222222222,
              "#7201a8"
             ],
             [
              0.3333333333333333,
              "#9c179e"
             ],
             [
              0.4444444444444444,
              "#bd3786"
             ],
             [
              0.5555555555555556,
              "#d8576b"
             ],
             [
              0.6666666666666666,
              "#ed7953"
             ],
             [
              0.7777777777777778,
              "#fb9f3a"
             ],
             [
              0.8888888888888888,
              "#fdca26"
             ],
             [
              1,
              "#f0f921"
             ]
            ],
            "type": "heatmapgl"
           }
          ],
          "histogram": [
           {
            "marker": {
             "pattern": {
              "fillmode": "overlay",
              "size": 10,
              "solidity": 0.2
             }
            },
            "type": "histogram"
           }
          ],
          "histogram2d": [
           {
            "colorbar": {
             "outlinewidth": 0,
             "ticks": ""
            },
            "colorscale": [
             [
              0,
              "#0d0887"
             ],
             [
              0.1111111111111111,
              "#46039f"
             ],
             [
              0.2222222222222222,
              "#7201a8"
             ],
             [
              0.3333333333333333,
              "#9c179e"
             ],
             [
              0.4444444444444444,
              "#bd3786"
             ],
             [
              0.5555555555555556,
              "#d8576b"
             ],
             [
              0.6666666666666666,
              "#ed7953"
             ],
             [
              0.7777777777777778,
              "#fb9f3a"
             ],
             [
              0.8888888888888888,
              "#fdca26"
             ],
             [
              1,
              "#f0f921"
             ]
            ],
            "type": "histogram2d"
           }
          ],
          "histogram2dcontour": [
           {
            "colorbar": {
             "outlinewidth": 0,
             "ticks": ""
            },
            "colorscale": [
             [
              0,
              "#0d0887"
             ],
             [
              0.1111111111111111,
              "#46039f"
             ],
             [
              0.2222222222222222,
              "#7201a8"
             ],
             [
              0.3333333333333333,
              "#9c179e"
             ],
             [
              0.4444444444444444,
              "#bd3786"
             ],
             [
              0.5555555555555556,
              "#d8576b"
             ],
             [
              0.6666666666666666,
              "#ed7953"
             ],
             [
              0.7777777777777778,
              "#fb9f3a"
             ],
             [
              0.8888888888888888,
              "#fdca26"
             ],
             [
              1,
              "#f0f921"
             ]
            ],
            "type": "histogram2dcontour"
           }
          ],
          "mesh3d": [
           {
            "colorbar": {
             "outlinewidth": 0,
             "ticks": ""
            },
            "type": "mesh3d"
           }
          ],
          "parcoords": [
           {
            "line": {
             "colorbar": {
              "outlinewidth": 0,
              "ticks": ""
             }
            },
            "type": "parcoords"
           }
          ],
          "pie": [
           {
            "automargin": true,
            "type": "pie"
           }
          ],
          "scatter": [
           {
            "marker": {
             "colorbar": {
              "outlinewidth": 0,
              "ticks": ""
             }
            },
            "type": "scatter"
           }
          ],
          "scatter3d": [
           {
            "line": {
             "colorbar": {
              "outlinewidth": 0,
              "ticks": ""
             }
            },
            "marker": {
             "colorbar": {
              "outlinewidth": 0,
              "ticks": ""
             }
            },
            "type": "scatter3d"
           }
          ],
          "scattercarpet": [
           {
            "marker": {
             "colorbar": {
              "outlinewidth": 0,
              "ticks": ""
             }
            },
            "type": "scattercarpet"
           }
          ],
          "scattergeo": [
           {
            "marker": {
             "colorbar": {
              "outlinewidth": 0,
              "ticks": ""
             }
            },
            "type": "scattergeo"
           }
          ],
          "scattergl": [
           {
            "marker": {
             "colorbar": {
              "outlinewidth": 0,
              "ticks": ""
             }
            },
            "type": "scattergl"
           }
          ],
          "scattermapbox": [
           {
            "marker": {
             "colorbar": {
              "outlinewidth": 0,
              "ticks": ""
             }
            },
            "type": "scattermapbox"
           }
          ],
          "scatterpolar": [
           {
            "marker": {
             "colorbar": {
              "outlinewidth": 0,
              "ticks": ""
             }
            },
            "type": "scatterpolar"
           }
          ],
          "scatterpolargl": [
           {
            "marker": {
             "colorbar": {
              "outlinewidth": 0,
              "ticks": ""
             }
            },
            "type": "scatterpolargl"
           }
          ],
          "scatterternary": [
           {
            "marker": {
             "colorbar": {
              "outlinewidth": 0,
              "ticks": ""
             }
            },
            "type": "scatterternary"
           }
          ],
          "surface": [
           {
            "colorbar": {
             "outlinewidth": 0,
             "ticks": ""
            },
            "colorscale": [
             [
              0,
              "#0d0887"
             ],
             [
              0.1111111111111111,
              "#46039f"
             ],
             [
              0.2222222222222222,
              "#7201a8"
             ],
             [
              0.3333333333333333,
              "#9c179e"
             ],
             [
              0.4444444444444444,
              "#bd3786"
             ],
             [
              0.5555555555555556,
              "#d8576b"
             ],
             [
              0.6666666666666666,
              "#ed7953"
             ],
             [
              0.7777777777777778,
              "#fb9f3a"
             ],
             [
              0.8888888888888888,
              "#fdca26"
             ],
             [
              1,
              "#f0f921"
             ]
            ],
            "type": "surface"
           }
          ],
          "table": [
           {
            "cells": {
             "fill": {
              "color": "#EBF0F8"
             },
             "line": {
              "color": "white"
             }
            },
            "header": {
             "fill": {
              "color": "#C8D4E3"
             },
             "line": {
              "color": "white"
             }
            },
            "type": "table"
           }
          ]
         },
         "layout": {
          "annotationdefaults": {
           "arrowcolor": "#2a3f5f",
           "arrowhead": 0,
           "arrowwidth": 1
          },
          "autotypenumbers": "strict",
          "coloraxis": {
           "colorbar": {
            "outlinewidth": 0,
            "ticks": ""
           }
          },
          "colorscale": {
           "diverging": [
            [
             0,
             "#8e0152"
            ],
            [
             0.1,
             "#c51b7d"
            ],
            [
             0.2,
             "#de77ae"
            ],
            [
             0.3,
             "#f1b6da"
            ],
            [
             0.4,
             "#fde0ef"
            ],
            [
             0.5,
             "#f7f7f7"
            ],
            [
             0.6,
             "#e6f5d0"
            ],
            [
             0.7,
             "#b8e186"
            ],
            [
             0.8,
             "#7fbc41"
            ],
            [
             0.9,
             "#4d9221"
            ],
            [
             1,
             "#276419"
            ]
           ],
           "sequential": [
            [
             0,
             "#0d0887"
            ],
            [
             0.1111111111111111,
             "#46039f"
            ],
            [
             0.2222222222222222,
             "#7201a8"
            ],
            [
             0.3333333333333333,
             "#9c179e"
            ],
            [
             0.4444444444444444,
             "#bd3786"
            ],
            [
             0.5555555555555556,
             "#d8576b"
            ],
            [
             0.6666666666666666,
             "#ed7953"
            ],
            [
             0.7777777777777778,
             "#fb9f3a"
            ],
            [
             0.8888888888888888,
             "#fdca26"
            ],
            [
             1,
             "#f0f921"
            ]
           ],
           "sequentialminus": [
            [
             0,
             "#0d0887"
            ],
            [
             0.1111111111111111,
             "#46039f"
            ],
            [
             0.2222222222222222,
             "#7201a8"
            ],
            [
             0.3333333333333333,
             "#9c179e"
            ],
            [
             0.4444444444444444,
             "#bd3786"
            ],
            [
             0.5555555555555556,
             "#d8576b"
            ],
            [
             0.6666666666666666,
             "#ed7953"
            ],
            [
             0.7777777777777778,
             "#fb9f3a"
            ],
            [
             0.8888888888888888,
             "#fdca26"
            ],
            [
             1,
             "#f0f921"
            ]
           ]
          },
          "colorway": [
           "#636efa",
           "#EF553B",
           "#00cc96",
           "#ab63fa",
           "#FFA15A",
           "#19d3f3",
           "#FF6692",
           "#B6E880",
           "#FF97FF",
           "#FECB52"
          ],
          "font": {
           "color": "#2a3f5f"
          },
          "geo": {
           "bgcolor": "white",
           "lakecolor": "white",
           "landcolor": "white",
           "showlakes": true,
           "showland": true,
           "subunitcolor": "#C8D4E3"
          },
          "hoverlabel": {
           "align": "left"
          },
          "hovermode": "closest",
          "mapbox": {
           "style": "light"
          },
          "paper_bgcolor": "white",
          "plot_bgcolor": "white",
          "polar": {
           "angularaxis": {
            "gridcolor": "#EBF0F8",
            "linecolor": "#EBF0F8",
            "ticks": ""
           },
           "bgcolor": "white",
           "radialaxis": {
            "gridcolor": "#EBF0F8",
            "linecolor": "#EBF0F8",
            "ticks": ""
           }
          },
          "scene": {
           "xaxis": {
            "backgroundcolor": "white",
            "gridcolor": "#DFE8F3",
            "gridwidth": 2,
            "linecolor": "#EBF0F8",
            "showbackground": true,
            "ticks": "",
            "zerolinecolor": "#EBF0F8"
           },
           "yaxis": {
            "backgroundcolor": "white",
            "gridcolor": "#DFE8F3",
            "gridwidth": 2,
            "linecolor": "#EBF0F8",
            "showbackground": true,
            "ticks": "",
            "zerolinecolor": "#EBF0F8"
           },
           "zaxis": {
            "backgroundcolor": "white",
            "gridcolor": "#DFE8F3",
            "gridwidth": 2,
            "linecolor": "#EBF0F8",
            "showbackground": true,
            "ticks": "",
            "zerolinecolor": "#EBF0F8"
           }
          },
          "shapedefaults": {
           "line": {
            "color": "#2a3f5f"
           }
          },
          "ternary": {
           "aaxis": {
            "gridcolor": "#DFE8F3",
            "linecolor": "#A2B1C6",
            "ticks": ""
           },
           "baxis": {
            "gridcolor": "#DFE8F3",
            "linecolor": "#A2B1C6",
            "ticks": ""
           },
           "bgcolor": "white",
           "caxis": {
            "gridcolor": "#DFE8F3",
            "linecolor": "#A2B1C6",
            "ticks": ""
           }
          },
          "title": {
           "x": 0.05
          },
          "xaxis": {
           "automargin": true,
           "gridcolor": "#EBF0F8",
           "linecolor": "#EBF0F8",
           "ticks": "",
           "title": {
            "standoff": 15
           },
           "zerolinecolor": "#EBF0F8",
           "zerolinewidth": 2
          },
          "yaxis": {
           "automargin": true,
           "gridcolor": "#EBF0F8",
           "linecolor": "#EBF0F8",
           "ticks": "",
           "title": {
            "standoff": 15
           },
           "zerolinecolor": "#EBF0F8",
           "zerolinewidth": 2
          }
         }
        },
        "title": {
         "font": {
          "size": 24
         },
         "text": "Ladeenergie pro Ladezeitraum eines BEVs",
         "x": 0.5,
         "xanchor": "center"
        },
        "xaxis": {
         "range": [
          480,
          960
         ],
         "showgrid": true,
         "title": {
          "text": "Minuten"
         }
        },
        "yaxis": {
         "range": [
          0,
          10
         ],
         "title": {
          "text": "Energie in kWh"
         }
        }
       }
      },
      "text/html": [
       "<div>                            <div id=\"53323737-0e26-473b-8c6b-c19cba7315bc\" class=\"plotly-graph-div\" style=\"height:525px; width:100%;\"></div>            <script type=\"text/javascript\">                require([\"plotly\"], function(Plotly) {                    window.PLOTLYENV=window.PLOTLYENV || {};                                    if (document.getElementById(\"53323737-0e26-473b-8c6b-c19cba7315bc\")) {                    Plotly.newPlot(                        \"53323737-0e26-473b-8c6b-c19cba7315bc\",                        [],                        {\"template\":{\"data\":{\"barpolar\":[{\"marker\":{\"line\":{\"color\":\"white\",\"width\":0.5},\"pattern\":{\"fillmode\":\"overlay\",\"size\":10,\"solidity\":0.2}},\"type\":\"barpolar\"}],\"bar\":[{\"error_x\":{\"color\":\"#2a3f5f\"},\"error_y\":{\"color\":\"#2a3f5f\"},\"marker\":{\"line\":{\"color\":\"white\",\"width\":0.5},\"pattern\":{\"fillmode\":\"overlay\",\"size\":10,\"solidity\":0.2}},\"type\":\"bar\"}],\"carpet\":[{\"aaxis\":{\"endlinecolor\":\"#2a3f5f\",\"gridcolor\":\"#C8D4E3\",\"linecolor\":\"#C8D4E3\",\"minorgridcolor\":\"#C8D4E3\",\"startlinecolor\":\"#2a3f5f\"},\"baxis\":{\"endlinecolor\":\"#2a3f5f\",\"gridcolor\":\"#C8D4E3\",\"linecolor\":\"#C8D4E3\",\"minorgridcolor\":\"#C8D4E3\",\"startlinecolor\":\"#2a3f5f\"},\"type\":\"carpet\"}],\"choropleth\":[{\"colorbar\":{\"outlinewidth\":0,\"ticks\":\"\"},\"type\":\"choropleth\"}],\"contourcarpet\":[{\"colorbar\":{\"outlinewidth\":0,\"ticks\":\"\"},\"type\":\"contourcarpet\"}],\"contour\":[{\"colorbar\":{\"outlinewidth\":0,\"ticks\":\"\"},\"colorscale\":[[0.0,\"#0d0887\"],[0.1111111111111111,\"#46039f\"],[0.2222222222222222,\"#7201a8\"],[0.3333333333333333,\"#9c179e\"],[0.4444444444444444,\"#bd3786\"],[0.5555555555555556,\"#d8576b\"],[0.6666666666666666,\"#ed7953\"],[0.7777777777777778,\"#fb9f3a\"],[0.8888888888888888,\"#fdca26\"],[1.0,\"#f0f921\"]],\"type\":\"contour\"}],\"heatmapgl\":[{\"colorbar\":{\"outlinewidth\":0,\"ticks\":\"\"},\"colorscale\":[[0.0,\"#0d0887\"],[0.1111111111111111,\"#46039f\"],[0.2222222222222222,\"#7201a8\"],[0.3333333333333333,\"#9c179e\"],[0.4444444444444444,\"#bd3786\"],[0.5555555555555556,\"#d8576b\"],[0.6666666666666666,\"#ed7953\"],[0.7777777777777778,\"#fb9f3a\"],[0.8888888888888888,\"#fdca26\"],[1.0,\"#f0f921\"]],\"type\":\"heatmapgl\"}],\"heatmap\":[{\"colorbar\":{\"outlinewidth\":0,\"ticks\":\"\"},\"colorscale\":[[0.0,\"#0d0887\"],[0.1111111111111111,\"#46039f\"],[0.2222222222222222,\"#7201a8\"],[0.3333333333333333,\"#9c179e\"],[0.4444444444444444,\"#bd3786\"],[0.5555555555555556,\"#d8576b\"],[0.6666666666666666,\"#ed7953\"],[0.7777777777777778,\"#fb9f3a\"],[0.8888888888888888,\"#fdca26\"],[1.0,\"#f0f921\"]],\"type\":\"heatmap\"}],\"histogram2dcontour\":[{\"colorbar\":{\"outlinewidth\":0,\"ticks\":\"\"},\"colorscale\":[[0.0,\"#0d0887\"],[0.1111111111111111,\"#46039f\"],[0.2222222222222222,\"#7201a8\"],[0.3333333333333333,\"#9c179e\"],[0.4444444444444444,\"#bd3786\"],[0.5555555555555556,\"#d8576b\"],[0.6666666666666666,\"#ed7953\"],[0.7777777777777778,\"#fb9f3a\"],[0.8888888888888888,\"#fdca26\"],[1.0,\"#f0f921\"]],\"type\":\"histogram2dcontour\"}],\"histogram2d\":[{\"colorbar\":{\"outlinewidth\":0,\"ticks\":\"\"},\"colorscale\":[[0.0,\"#0d0887\"],[0.1111111111111111,\"#46039f\"],[0.2222222222222222,\"#7201a8\"],[0.3333333333333333,\"#9c179e\"],[0.4444444444444444,\"#bd3786\"],[0.5555555555555556,\"#d8576b\"],[0.6666666666666666,\"#ed7953\"],[0.7777777777777778,\"#fb9f3a\"],[0.8888888888888888,\"#fdca26\"],[1.0,\"#f0f921\"]],\"type\":\"histogram2d\"}],\"histogram\":[{\"marker\":{\"pattern\":{\"fillmode\":\"overlay\",\"size\":10,\"solidity\":0.2}},\"type\":\"histogram\"}],\"mesh3d\":[{\"colorbar\":{\"outlinewidth\":0,\"ticks\":\"\"},\"type\":\"mesh3d\"}],\"parcoords\":[{\"line\":{\"colorbar\":{\"outlinewidth\":0,\"ticks\":\"\"}},\"type\":\"parcoords\"}],\"pie\":[{\"automargin\":true,\"type\":\"pie\"}],\"scatter3d\":[{\"line\":{\"colorbar\":{\"outlinewidth\":0,\"ticks\":\"\"}},\"marker\":{\"colorbar\":{\"outlinewidth\":0,\"ticks\":\"\"}},\"type\":\"scatter3d\"}],\"scattercarpet\":[{\"marker\":{\"colorbar\":{\"outlinewidth\":0,\"ticks\":\"\"}},\"type\":\"scattercarpet\"}],\"scattergeo\":[{\"marker\":{\"colorbar\":{\"outlinewidth\":0,\"ticks\":\"\"}},\"type\":\"scattergeo\"}],\"scattergl\":[{\"marker\":{\"colorbar\":{\"outlinewidth\":0,\"ticks\":\"\"}},\"type\":\"scattergl\"}],\"scattermapbox\":[{\"marker\":{\"colorbar\":{\"outlinewidth\":0,\"ticks\":\"\"}},\"type\":\"scattermapbox\"}],\"scatterpolargl\":[{\"marker\":{\"colorbar\":{\"outlinewidth\":0,\"ticks\":\"\"}},\"type\":\"scatterpolargl\"}],\"scatterpolar\":[{\"marker\":{\"colorbar\":{\"outlinewidth\":0,\"ticks\":\"\"}},\"type\":\"scatterpolar\"}],\"scatter\":[{\"marker\":{\"colorbar\":{\"outlinewidth\":0,\"ticks\":\"\"}},\"type\":\"scatter\"}],\"scatterternary\":[{\"marker\":{\"colorbar\":{\"outlinewidth\":0,\"ticks\":\"\"}},\"type\":\"scatterternary\"}],\"surface\":[{\"colorbar\":{\"outlinewidth\":0,\"ticks\":\"\"},\"colorscale\":[[0.0,\"#0d0887\"],[0.1111111111111111,\"#46039f\"],[0.2222222222222222,\"#7201a8\"],[0.3333333333333333,\"#9c179e\"],[0.4444444444444444,\"#bd3786\"],[0.5555555555555556,\"#d8576b\"],[0.6666666666666666,\"#ed7953\"],[0.7777777777777778,\"#fb9f3a\"],[0.8888888888888888,\"#fdca26\"],[1.0,\"#f0f921\"]],\"type\":\"surface\"}],\"table\":[{\"cells\":{\"fill\":{\"color\":\"#EBF0F8\"},\"line\":{\"color\":\"white\"}},\"header\":{\"fill\":{\"color\":\"#C8D4E3\"},\"line\":{\"color\":\"white\"}},\"type\":\"table\"}]},\"layout\":{\"annotationdefaults\":{\"arrowcolor\":\"#2a3f5f\",\"arrowhead\":0,\"arrowwidth\":1},\"autotypenumbers\":\"strict\",\"coloraxis\":{\"colorbar\":{\"outlinewidth\":0,\"ticks\":\"\"}},\"colorscale\":{\"diverging\":[[0,\"#8e0152\"],[0.1,\"#c51b7d\"],[0.2,\"#de77ae\"],[0.3,\"#f1b6da\"],[0.4,\"#fde0ef\"],[0.5,\"#f7f7f7\"],[0.6,\"#e6f5d0\"],[0.7,\"#b8e186\"],[0.8,\"#7fbc41\"],[0.9,\"#4d9221\"],[1,\"#276419\"]],\"sequential\":[[0.0,\"#0d0887\"],[0.1111111111111111,\"#46039f\"],[0.2222222222222222,\"#7201a8\"],[0.3333333333333333,\"#9c179e\"],[0.4444444444444444,\"#bd3786\"],[0.5555555555555556,\"#d8576b\"],[0.6666666666666666,\"#ed7953\"],[0.7777777777777778,\"#fb9f3a\"],[0.8888888888888888,\"#fdca26\"],[1.0,\"#f0f921\"]],\"sequentialminus\":[[0.0,\"#0d0887\"],[0.1111111111111111,\"#46039f\"],[0.2222222222222222,\"#7201a8\"],[0.3333333333333333,\"#9c179e\"],[0.4444444444444444,\"#bd3786\"],[0.5555555555555556,\"#d8576b\"],[0.6666666666666666,\"#ed7953\"],[0.7777777777777778,\"#fb9f3a\"],[0.8888888888888888,\"#fdca26\"],[1.0,\"#f0f921\"]]},\"colorway\":[\"#636efa\",\"#EF553B\",\"#00cc96\",\"#ab63fa\",\"#FFA15A\",\"#19d3f3\",\"#FF6692\",\"#B6E880\",\"#FF97FF\",\"#FECB52\"],\"font\":{\"color\":\"#2a3f5f\"},\"geo\":{\"bgcolor\":\"white\",\"lakecolor\":\"white\",\"landcolor\":\"white\",\"showlakes\":true,\"showland\":true,\"subunitcolor\":\"#C8D4E3\"},\"hoverlabel\":{\"align\":\"left\"},\"hovermode\":\"closest\",\"mapbox\":{\"style\":\"light\"},\"paper_bgcolor\":\"white\",\"plot_bgcolor\":\"white\",\"polar\":{\"angularaxis\":{\"gridcolor\":\"#EBF0F8\",\"linecolor\":\"#EBF0F8\",\"ticks\":\"\"},\"bgcolor\":\"white\",\"radialaxis\":{\"gridcolor\":\"#EBF0F8\",\"linecolor\":\"#EBF0F8\",\"ticks\":\"\"}},\"scene\":{\"xaxis\":{\"backgroundcolor\":\"white\",\"gridcolor\":\"#DFE8F3\",\"gridwidth\":2,\"linecolor\":\"#EBF0F8\",\"showbackground\":true,\"ticks\":\"\",\"zerolinecolor\":\"#EBF0F8\"},\"yaxis\":{\"backgroundcolor\":\"white\",\"gridcolor\":\"#DFE8F3\",\"gridwidth\":2,\"linecolor\":\"#EBF0F8\",\"showbackground\":true,\"ticks\":\"\",\"zerolinecolor\":\"#EBF0F8\"},\"zaxis\":{\"backgroundcolor\":\"white\",\"gridcolor\":\"#DFE8F3\",\"gridwidth\":2,\"linecolor\":\"#EBF0F8\",\"showbackground\":true,\"ticks\":\"\",\"zerolinecolor\":\"#EBF0F8\"}},\"shapedefaults\":{\"line\":{\"color\":\"#2a3f5f\"}},\"ternary\":{\"aaxis\":{\"gridcolor\":\"#DFE8F3\",\"linecolor\":\"#A2B1C6\",\"ticks\":\"\"},\"baxis\":{\"gridcolor\":\"#DFE8F3\",\"linecolor\":\"#A2B1C6\",\"ticks\":\"\"},\"bgcolor\":\"white\",\"caxis\":{\"gridcolor\":\"#DFE8F3\",\"linecolor\":\"#A2B1C6\",\"ticks\":\"\"}},\"title\":{\"x\":0.05},\"xaxis\":{\"automargin\":true,\"gridcolor\":\"#EBF0F8\",\"linecolor\":\"#EBF0F8\",\"ticks\":\"\",\"title\":{\"standoff\":15},\"zerolinecolor\":\"#EBF0F8\",\"zerolinewidth\":2},\"yaxis\":{\"automargin\":true,\"gridcolor\":\"#EBF0F8\",\"linecolor\":\"#EBF0F8\",\"ticks\":\"\",\"title\":{\"standoff\":15},\"zerolinecolor\":\"#EBF0F8\",\"zerolinewidth\":2}}},\"shapes\":[{\"line\":{\"color\":\"green\"},\"type\":\"rect\",\"x0\":490,\"x1\":520,\"y0\":0,\"y1\":2.19,\"xref\":\"x\",\"yref\":\"y\"},{\"line\":{\"color\":\"green\"},\"type\":\"rect\",\"x0\":520,\"x1\":550,\"y0\":0,\"y1\":4.11,\"xref\":\"x\",\"yref\":\"y\"},{\"line\":{\"color\":\"green\"},\"type\":\"rect\",\"x0\":816,\"x1\":846,\"y0\":0,\"y1\":5.249,\"xref\":\"x\",\"yref\":\"y\"},{\"line\":{\"color\":\"green\"},\"type\":\"rect\",\"x0\":640,\"x1\":670,\"y0\":0,\"y1\":5.022,\"xref\":\"x\",\"yref\":\"y\"},{\"line\":{\"color\":\"green\"},\"type\":\"rect\",\"x0\":523,\"x1\":553,\"y0\":0,\"y1\":4.017,\"xref\":\"x\",\"yref\":\"y\"},{\"line\":{\"color\":\"green\"},\"type\":\"rect\",\"x0\":642,\"x1\":672,\"y0\":0,\"y1\":5.022,\"xref\":\"x\",\"yref\":\"y\"},{\"line\":{\"color\":\"green\"},\"type\":\"rect\",\"x0\":643,\"x1\":673,\"y0\":0,\"y1\":5.021,\"xref\":\"x\",\"yref\":\"y\"},{\"line\":{\"color\":\"green\"},\"type\":\"rect\",\"x0\":655,\"x1\":685,\"y0\":0,\"y1\":5.08,\"xref\":\"x\",\"yref\":\"y\"},{\"line\":{\"color\":\"green\"},\"type\":\"rect\",\"x0\":828,\"x1\":858,\"y0\":0,\"y1\":5.136,\"xref\":\"x\",\"yref\":\"y\"},{\"line\":{\"color\":\"green\"},\"type\":\"rect\",\"x0\":666,\"x1\":696,\"y0\":0,\"y1\":5.215,\"xref\":\"x\",\"yref\":\"y\"},{\"line\":{\"color\":\"green\"},\"type\":\"rect\",\"x0\":546,\"x1\":576,\"y0\":0,\"y1\":4.59,\"xref\":\"x\",\"yref\":\"y\"},{\"line\":{\"color\":\"green\"},\"type\":\"rect\",\"x0\":670,\"x1\":700,\"y0\":0,\"y1\":5.186,\"xref\":\"x\",\"yref\":\"y\"},{\"line\":{\"color\":\"green\"},\"type\":\"rect\",\"x0\":672,\"x1\":702,\"y0\":0,\"y1\":5.157,\"xref\":\"x\",\"yref\":\"y\"},{\"line\":{\"color\":\"green\"},\"type\":\"rect\",\"x0\":918,\"x1\":948,\"y0\":0,\"y1\":4.273,\"xref\":\"x\",\"yref\":\"y\"},{\"line\":{\"color\":\"green\"},\"type\":\"rect\",\"x0\":550,\"x1\":580,\"y0\":0,\"y1\":4.772,\"xref\":\"x\",\"yref\":\"y\"},{\"line\":{\"color\":\"green\"},\"type\":\"rect\",\"x0\":673,\"x1\":703,\"y0\":0,\"y1\":5.14,\"xref\":\"x\",\"yref\":\"y\"},{\"line\":{\"color\":\"green\"},\"type\":\"rect\",\"x0\":685,\"x1\":715,\"y0\":0,\"y1\":4.936,\"xref\":\"x\",\"yref\":\"y\"},{\"line\":{\"color\":\"green\"},\"type\":\"rect\",\"x0\":696,\"x1\":720,\"y0\":0,\"y1\":3.733,\"xref\":\"x\",\"yref\":\"y\"},{\"line\":{\"color\":\"green\"},\"type\":\"rect\",\"x0\":697,\"x1\":727,\"y0\":0,\"y1\":4.822,\"xref\":\"x\",\"yref\":\"y\"},{\"line\":{\"color\":\"green\"},\"type\":\"rect\",\"x0\":700,\"x1\":730,\"y0\":0,\"y1\":4.896,\"xref\":\"x\",\"yref\":\"y\"},{\"line\":{\"color\":\"green\"},\"type\":\"rect\",\"x0\":702,\"x1\":732,\"y0\":0,\"y1\":4.94,\"xref\":\"x\",\"yref\":\"y\"},{\"line\":{\"color\":\"green\"},\"type\":\"rect\",\"x0\":703,\"x1\":733,\"y0\":0,\"y1\":4.961,\"xref\":\"x\",\"yref\":\"y\"},{\"line\":{\"color\":\"green\"},\"type\":\"rect\",\"x0\":553,\"x1\":583,\"y0\":0,\"y1\":4.864,\"xref\":\"x\",\"yref\":\"y\"},{\"line\":{\"color\":\"green\"},\"type\":\"rect\",\"x0\":715,\"x1\":745,\"y0\":0,\"y1\":5.109,\"xref\":\"x\",\"yref\":\"y\"},{\"line\":{\"color\":\"green\"},\"type\":\"rect\",\"x0\":948,\"x1\":960,\"y0\":0,\"y1\":1.913,\"xref\":\"x\",\"yref\":\"y\"},{\"line\":{\"color\":\"green\"},\"type\":\"rect\",\"x0\":727,\"x1\":753,\"y0\":0,\"y1\":4.293,\"xref\":\"x\",\"yref\":\"y\"},{\"line\":{\"color\":\"green\"},\"type\":\"rect\",\"x0\":888,\"x1\":918,\"y0\":0,\"y1\":4.22,\"xref\":\"x\",\"yref\":\"y\"},{\"line\":{\"color\":\"green\"},\"type\":\"rect\",\"x0\":565,\"x1\":595,\"y0\":0,\"y1\":4.777,\"xref\":\"x\",\"yref\":\"y\"},{\"line\":{\"color\":\"green\"},\"type\":\"rect\",\"x0\":835,\"x1\":865,\"y0\":0,\"y1\":4.953,\"xref\":\"x\",\"yref\":\"y\"},{\"line\":{\"color\":\"green\"},\"type\":\"rect\",\"x0\":730,\"x1\":760,\"y0\":0,\"y1\":4.994,\"xref\":\"x\",\"yref\":\"y\"},{\"line\":{\"color\":\"green\"},\"type\":\"rect\",\"x0\":576,\"x1\":606,\"y0\":0,\"y1\":4.95,\"xref\":\"x\",\"yref\":\"y\"},{\"line\":{\"color\":\"green\"},\"type\":\"rect\",\"x0\":732,\"x1\":762,\"y0\":0,\"y1\":4.98,\"xref\":\"x\",\"yref\":\"y\"},{\"line\":{\"color\":\"green\"},\"type\":\"rect\",\"x0\":733,\"x1\":763,\"y0\":0,\"y1\":4.973,\"xref\":\"x\",\"yref\":\"y\"},{\"line\":{\"color\":\"green\"},\"type\":\"rect\",\"x0\":840,\"x1\":868,\"y0\":0,\"y1\":4.494,\"xref\":\"x\",\"yref\":\"y\"},{\"line\":{\"color\":\"green\"},\"type\":\"rect\",\"x0\":580,\"x1\":610,\"y0\":0,\"y1\":4.956,\"xref\":\"x\",\"yref\":\"y\"},{\"line\":{\"color\":\"green\"},\"type\":\"rect\",\"x0\":582,\"x1\":612,\"y0\":0,\"y1\":4.948,\"xref\":\"x\",\"yref\":\"y\"},{\"line\":{\"color\":\"green\"},\"type\":\"rect\",\"x0\":745,\"x1\":775,\"y0\":0,\"y1\":4.871,\"xref\":\"x\",\"yref\":\"y\"},{\"line\":{\"color\":\"green\"},\"type\":\"rect\",\"x0\":760,\"x1\":767,\"y0\":0,\"y1\":1.318,\"xref\":\"x\",\"yref\":\"y\"},{\"line\":{\"color\":\"green\"},\"type\":\"rect\",\"x0\":583,\"x1\":613,\"y0\":0,\"y1\":4.977,\"xref\":\"x\",\"yref\":\"y\"},{\"line\":{\"color\":\"green\"},\"type\":\"rect\",\"x0\":846,\"x1\":876,\"y0\":0,\"y1\":4.826,\"xref\":\"x\",\"yref\":\"y\"},{\"line\":{\"color\":\"green\"},\"type\":\"rect\",\"x0\":595,\"x1\":625,\"y0\":0,\"y1\":5.223,\"xref\":\"x\",\"yref\":\"y\"},{\"line\":{\"color\":\"green\"},\"type\":\"rect\",\"x0\":762,\"x1\":785,\"y0\":0,\"y1\":3.727,\"xref\":\"x\",\"yref\":\"y\"},{\"line\":{\"color\":\"green\"},\"type\":\"rect\",\"x0\":763,\"x1\":793,\"y0\":0,\"y1\":4.6,\"xref\":\"x\",\"yref\":\"y\"},{\"line\":{\"color\":\"green\"},\"type\":\"rect\",\"x0\":768,\"x1\":798,\"y0\":0,\"y1\":4.539,\"xref\":\"x\",\"yref\":\"y\"},{\"line\":{\"color\":\"green\"},\"type\":\"rect\",\"x0\":775,\"x1\":805,\"y0\":0,\"y1\":4.526,\"xref\":\"x\",\"yref\":\"y\"},{\"line\":{\"color\":\"green\"},\"type\":\"rect\",\"x0\":606,\"x1\":636,\"y0\":0,\"y1\":5.269,\"xref\":\"x\",\"yref\":\"y\"},{\"line\":{\"color\":\"green\"},\"type\":\"rect\",\"x0\":786,\"x1\":816,\"y0\":0,\"y1\":4.667,\"xref\":\"x\",\"yref\":\"y\"},{\"line\":{\"color\":\"green\"},\"type\":\"rect\",\"x0\":610,\"x1\":640,\"y0\":0,\"y1\":5.251,\"xref\":\"x\",\"yref\":\"y\"},{\"line\":{\"color\":\"green\"},\"type\":\"rect\",\"x0\":612,\"x1\":642,\"y0\":0,\"y1\":5.237,\"xref\":\"x\",\"yref\":\"y\"},{\"line\":{\"color\":\"green\"},\"type\":\"rect\",\"x0\":793,\"x1\":809,\"y0\":0,\"y1\":2.629,\"xref\":\"x\",\"yref\":\"y\"},{\"line\":{\"color\":\"green\"},\"type\":\"rect\",\"x0\":798,\"x1\":828,\"y0\":0,\"y1\":4.962,\"xref\":\"x\",\"yref\":\"y\"},{\"line\":{\"color\":\"green\"},\"type\":\"rect\",\"x0\":613,\"x1\":643,\"y0\":0,\"y1\":5.229,\"xref\":\"x\",\"yref\":\"y\"},{\"line\":{\"color\":\"green\"},\"type\":\"rect\",\"x0\":625,\"x1\":655,\"y0\":0,\"y1\":5.11,\"xref\":\"x\",\"yref\":\"y\"},{\"line\":{\"color\":\"green\"},\"type\":\"rect\",\"x0\":636,\"x1\":666,\"y0\":0,\"y1\":5.032,\"xref\":\"x\",\"yref\":\"y\"},{\"line\":{\"color\":\"green\"},\"type\":\"rect\",\"x0\":858,\"x1\":888,\"y0\":0,\"y1\":4.568,\"xref\":\"x\",\"yref\":\"y\"},{\"line\":{\"color\":\"green\"},\"type\":\"rect\",\"x0\":865,\"x1\":890,\"y0\":0,\"y1\":3.763,\"xref\":\"x\",\"yref\":\"y\"},{\"line\":{\"color\":\"green\"},\"type\":\"rect\",\"x0\":805,\"x1\":835,\"y0\":0,\"y1\":5.123,\"xref\":\"x\",\"yref\":\"y\"},{\"line\":{\"color\":\"green\"},\"type\":\"rect\",\"x0\":876,\"x1\":906,\"y0\":0,\"y1\":4.498,\"xref\":\"x\",\"yref\":\"y\"},{\"line\":{\"color\":\"green\"},\"type\":\"rect\",\"x0\":906,\"x1\":927,\"y0\":0,\"y1\":2.33,\"xref\":\"x\",\"yref\":\"y\"},{\"line\":{\"color\":\"green\"},\"type\":\"rect\",\"x0\":810,\"x1\":839,\"y0\":0,\"y1\":5.206,\"xref\":\"x\",\"yref\":\"y\"}],\"xaxis\":{\"range\":[480,960],\"showgrid\":true,\"title\":{\"text\":\"Minuten\"}},\"yaxis\":{\"range\":[0,10],\"title\":{\"text\":\"Energie in kWh\"}},\"title\":{\"font\":{\"size\":24},\"text\":\"Ladeenergie pro Ladezeitraum eines BEVs\",\"x\":0.5,\"xanchor\":\"center\"}},                        {\"responsive\": true}                    ).then(function(){\n",
       "                            \n",
       "var gd = document.getElementById('53323737-0e26-473b-8c6b-c19cba7315bc');\n",
       "var x = new MutationObserver(function (mutations, observer) {{\n",
       "        var display = window.getComputedStyle(gd).display;\n",
       "        if (!display || display === 'none') {{\n",
       "            console.log([gd, 'removed!']);\n",
       "            Plotly.purge(gd);\n",
       "            observer.disconnect();\n",
       "        }}\n",
       "}});\n",
       "\n",
       "// Listen for the removal of the full notebook cells\n",
       "var notebookContainer = gd.closest('#notebook-container');\n",
       "if (notebookContainer) {{\n",
       "    x.observe(notebookContainer, {childList: true});\n",
       "}}\n",
       "\n",
       "// Listen for the clearing of the current output cell\n",
       "var outputEl = gd.closest('.output');\n",
       "if (outputEl) {{\n",
       "    x.observe(outputEl, {childList: true});\n",
       "}}\n",
       "\n",
       "                        })                };                });            </script>        </div>"
      ]
     },
     "metadata": {},
     "output_type": "display_data"
    }
   ],
   "source": [
    "import figureGeneration\n",
    "\n",
    "figureGeneration.create_charging_power_figure(simulation_day)"
   ]
  },
  {
   "cell_type": "code",
   "execution_count": 7,
   "metadata": {
    "pycharm": {
     "is_executing": true
    }
   },
   "outputs": [
    {
     "data": {
      "application/vnd.plotly.v1+json": {
       "config": {
        "plotlyServerURL": "https://plot.ly"
       },
       "data": [
        {
         "line": {
          "color": "orange"
         },
         "name": "Wartende BEVs",
         "type": "scatter",
         "x": [
          480,
          481,
          482,
          483,
          484,
          485,
          486,
          487,
          488,
          489,
          490,
          491,
          492,
          493,
          494,
          495,
          496,
          497,
          498,
          499,
          500,
          501,
          502,
          503,
          504,
          505,
          506,
          507,
          508,
          509,
          510,
          511,
          512,
          513,
          514,
          515,
          516,
          517,
          518,
          519,
          520,
          521,
          522,
          523,
          524,
          525,
          526,
          527,
          528,
          529,
          530,
          531,
          532,
          533,
          534,
          535,
          536,
          537,
          538,
          539,
          540,
          541,
          542,
          543,
          544,
          545,
          546,
          547,
          548,
          549,
          550,
          551,
          552,
          553,
          554,
          555,
          556,
          557,
          558,
          559,
          560,
          561,
          562,
          563,
          564,
          565,
          566,
          567,
          568,
          569,
          570,
          571,
          572,
          573,
          574,
          575,
          576,
          577,
          578,
          579,
          580,
          581,
          582,
          583,
          584,
          585,
          586,
          587,
          588,
          589,
          590,
          591,
          592,
          593,
          594,
          595,
          596,
          597,
          598,
          599,
          600,
          601,
          602,
          603,
          604,
          605,
          606,
          607,
          608,
          609,
          610,
          611,
          612,
          613,
          614,
          615,
          616,
          617,
          618,
          619,
          620,
          621,
          622,
          623,
          624,
          625,
          626,
          627,
          628,
          629,
          630,
          631,
          632,
          633,
          634,
          635,
          636,
          637,
          638,
          639,
          640,
          641,
          642,
          643,
          644,
          645,
          646,
          647,
          648,
          649,
          650,
          651,
          652,
          653,
          654,
          655,
          656,
          657,
          658,
          659,
          660,
          661,
          662,
          663,
          664,
          665,
          666,
          667,
          668,
          669,
          670,
          671,
          672,
          673,
          674,
          675,
          676,
          677,
          678,
          679,
          680,
          681,
          682,
          683,
          684,
          685,
          686,
          687,
          688,
          689,
          690,
          691,
          692,
          693,
          694,
          695,
          696,
          697,
          698,
          699,
          700,
          701,
          702,
          703,
          704,
          705,
          706,
          707,
          708,
          709,
          710,
          711,
          712,
          713,
          714,
          715,
          716,
          717,
          718,
          719,
          720,
          721,
          722,
          723,
          724,
          725,
          726,
          727,
          728,
          729,
          730,
          731,
          732,
          733,
          734,
          735,
          736,
          737,
          738,
          739,
          740,
          741,
          742,
          743,
          744,
          745,
          746,
          747,
          748,
          749,
          750,
          751,
          752,
          753,
          754,
          755,
          756,
          757,
          758,
          759,
          760,
          761,
          762,
          763,
          764,
          765,
          766,
          767,
          768,
          769,
          770,
          771,
          772,
          773,
          774,
          775,
          776,
          777,
          778,
          779,
          780,
          781,
          782,
          783,
          784,
          785,
          786,
          787,
          788,
          789,
          790,
          791,
          792,
          793,
          794,
          795,
          796,
          797,
          798,
          799,
          800,
          801,
          802,
          803,
          804,
          805,
          806,
          807,
          808,
          809,
          810,
          811,
          812,
          813,
          814,
          815,
          816,
          817,
          818,
          819,
          820,
          821,
          822,
          823,
          824,
          825,
          826,
          827,
          828,
          829,
          830,
          831,
          832,
          833,
          834,
          835,
          836,
          837,
          838,
          839,
          840,
          841,
          842,
          843,
          844,
          845,
          846,
          847,
          848,
          849,
          850,
          851,
          852,
          853,
          854,
          855,
          856,
          857,
          858,
          859,
          860,
          861,
          862,
          863,
          864,
          865,
          866,
          867,
          868,
          869,
          870,
          871,
          872,
          873,
          874,
          875,
          876,
          877,
          878,
          879,
          880,
          881,
          882,
          883,
          884,
          885,
          886,
          887,
          888,
          889,
          890,
          891,
          892,
          893,
          894,
          895,
          896,
          897,
          898,
          899,
          900,
          901,
          902,
          903,
          904,
          905,
          906,
          907,
          908,
          909,
          910,
          911,
          912,
          913,
          914,
          915,
          916,
          917,
          918,
          919,
          920,
          921,
          922,
          923,
          924,
          925,
          926,
          927,
          928,
          929,
          930,
          931,
          932,
          933,
          934,
          935,
          936,
          937,
          938,
          939,
          940,
          941,
          942,
          943,
          944,
          945,
          946,
          947,
          948,
          949,
          950,
          951,
          952,
          953,
          954,
          955,
          956,
          957,
          958,
          959,
          960
         ],
         "y": [
          18,
          18,
          18,
          18,
          18,
          18,
          18,
          18,
          18,
          18,
          18,
          17,
          17,
          17,
          17,
          17,
          17,
          17,
          17,
          17,
          17,
          17,
          17,
          17,
          17,
          17,
          17,
          17,
          17,
          17,
          52,
          52,
          52,
          52,
          52,
          52,
          52,
          52,
          52,
          52,
          52,
          51,
          51,
          51,
          50,
          50,
          50,
          50,
          50,
          50,
          50,
          50,
          50,
          50,
          50,
          50,
          50,
          50,
          50,
          50,
          64,
          64,
          64,
          64,
          64,
          64,
          64,
          63,
          63,
          63,
          63,
          62,
          62,
          62,
          61,
          61,
          61,
          61,
          61,
          61,
          61,
          61,
          61,
          61,
          61,
          61,
          60,
          60,
          60,
          60,
          64,
          64,
          64,
          64,
          64,
          64,
          64,
          63,
          63,
          63,
          63,
          62,
          62,
          61,
          60,
          60,
          60,
          60,
          60,
          60,
          60,
          60,
          60,
          60,
          60,
          60,
          59,
          59,
          59,
          59,
          61,
          61,
          61,
          61,
          61,
          61,
          61,
          60,
          60,
          60,
          60,
          59,
          59,
          58,
          57,
          57,
          57,
          57,
          57,
          57,
          57,
          57,
          57,
          57,
          57,
          57,
          56,
          56,
          56,
          56,
          58,
          58,
          58,
          58,
          58,
          58,
          58,
          57,
          57,
          57,
          57,
          56,
          56,
          55,
          54,
          54,
          54,
          54,
          54,
          54,
          54,
          54,
          54,
          54,
          54,
          54,
          53,
          53,
          53,
          53,
          54,
          54,
          54,
          54,
          54,
          54,
          54,
          53,
          53,
          53,
          53,
          52,
          52,
          51,
          50,
          50,
          50,
          50,
          50,
          50,
          50,
          50,
          50,
          50,
          50,
          50,
          49,
          49,
          49,
          49,
          49,
          49,
          49,
          49,
          49,
          49,
          49,
          48,
          47,
          47,
          47,
          46,
          44,
          43,
          42,
          42,
          42,
          42,
          42,
          42,
          42,
          42,
          42,
          42,
          42,
          42,
          41,
          41,
          41,
          41,
          44,
          45,
          45,
          45,
          45,
          45,
          44,
          44,
          43,
          43,
          43,
          42,
          40,
          39,
          38,
          38,
          38,
          38,
          37,
          37,
          37,
          37,
          37,
          37,
          37,
          37,
          36,
          36,
          36,
          36,
          44,
          44,
          44,
          44,
          45,
          45,
          45,
          45,
          45,
          45,
          45,
          44,
          43,
          42,
          41,
          41,
          41,
          41,
          41,
          40,
          40,
          40,
          40,
          40,
          40,
          40,
          39,
          39,
          39,
          39,
          50,
          50,
          50,
          50,
          50,
          50,
          50,
          49,
          49,
          49,
          49,
          49,
          48,
          48,
          47,
          47,
          47,
          47,
          45,
          44,
          44,
          44,
          44,
          44,
          43,
          43,
          42,
          42,
          42,
          42,
          43,
          42,
          42,
          42,
          42,
          42,
          42,
          41,
          41,
          41,
          41,
          41,
          41,
          41,
          41,
          41,
          41,
          41,
          41,
          40,
          40,
          40,
          40,
          40,
          39,
          39,
          38,
          38,
          38,
          38,
          37,
          36,
          36,
          36,
          36,
          36,
          36,
          35,
          35,
          35,
          35,
          35,
          34,
          34,
          34,
          34,
          34,
          34,
          34,
          33,
          33,
          33,
          33,
          33,
          33,
          33,
          32,
          32,
          32,
          33,
          34,
          34,
          34,
          34,
          34,
          34,
          34,
          33,
          33,
          33,
          33,
          33,
          32,
          32,
          32,
          32,
          32,
          32,
          32,
          31,
          31,
          32,
          32,
          32,
          32,
          32,
          32,
          32,
          32,
          32,
          31,
          31,
          31,
          31,
          31,
          31,
          30,
          29,
          29,
          29,
          29,
          29,
          28,
          28,
          28,
          28,
          28,
          28,
          28,
          27,
          27,
          27,
          27,
          27,
          27,
          27,
          27,
          27,
          28,
          28,
          28,
          28,
          28,
          28,
          28,
          28,
          26,
          26,
          26,
          26,
          26,
          26,
          26,
          26,
          26,
          26,
          26,
          26,
          26,
          25,
          25,
          25,
          25,
          25,
          24,
          24,
          24,
          24,
          24,
          24,
          23
         ]
        },
        {
         "line": {
          "color": "green"
         },
         "name": "Ladende BEVs",
         "type": "scatter",
         "x": [
          480,
          481,
          482,
          483,
          484,
          485,
          486,
          487,
          488,
          489,
          490,
          491,
          492,
          493,
          494,
          495,
          496,
          497,
          498,
          499,
          500,
          501,
          502,
          503,
          504,
          505,
          506,
          507,
          508,
          509,
          510,
          511,
          512,
          513,
          514,
          515,
          516,
          517,
          518,
          519,
          520,
          521,
          522,
          523,
          524,
          525,
          526,
          527,
          528,
          529,
          530,
          531,
          532,
          533,
          534,
          535,
          536,
          537,
          538,
          539,
          540,
          541,
          542,
          543,
          544,
          545,
          546,
          547,
          548,
          549,
          550,
          551,
          552,
          553,
          554,
          555,
          556,
          557,
          558,
          559,
          560,
          561,
          562,
          563,
          564,
          565,
          566,
          567,
          568,
          569,
          570,
          571,
          572,
          573,
          574,
          575,
          576,
          577,
          578,
          579,
          580,
          581,
          582,
          583,
          584,
          585,
          586,
          587,
          588,
          589,
          590,
          591,
          592,
          593,
          594,
          595,
          596,
          597,
          598,
          599,
          600,
          601,
          602,
          603,
          604,
          605,
          606,
          607,
          608,
          609,
          610,
          611,
          612,
          613,
          614,
          615,
          616,
          617,
          618,
          619,
          620,
          621,
          622,
          623,
          624,
          625,
          626,
          627,
          628,
          629,
          630,
          631,
          632,
          633,
          634,
          635,
          636,
          637,
          638,
          639,
          640,
          641,
          642,
          643,
          644,
          645,
          646,
          647,
          648,
          649,
          650,
          651,
          652,
          653,
          654,
          655,
          656,
          657,
          658,
          659,
          660,
          661,
          662,
          663,
          664,
          665,
          666,
          667,
          668,
          669,
          670,
          671,
          672,
          673,
          674,
          675,
          676,
          677,
          678,
          679,
          680,
          681,
          682,
          683,
          684,
          685,
          686,
          687,
          688,
          689,
          690,
          691,
          692,
          693,
          694,
          695,
          696,
          697,
          698,
          699,
          700,
          701,
          702,
          703,
          704,
          705,
          706,
          707,
          708,
          709,
          710,
          711,
          712,
          713,
          714,
          715,
          716,
          717,
          718,
          719,
          720,
          721,
          722,
          723,
          724,
          725,
          726,
          727,
          728,
          729,
          730,
          731,
          732,
          733,
          734,
          735,
          736,
          737,
          738,
          739,
          740,
          741,
          742,
          743,
          744,
          745,
          746,
          747,
          748,
          749,
          750,
          751,
          752,
          753,
          754,
          755,
          756,
          757,
          758,
          759,
          760,
          761,
          762,
          763,
          764,
          765,
          766,
          767,
          768,
          769,
          770,
          771,
          772,
          773,
          774,
          775,
          776,
          777,
          778,
          779,
          780,
          781,
          782,
          783,
          784,
          785,
          786,
          787,
          788,
          789,
          790,
          791,
          792,
          793,
          794,
          795,
          796,
          797,
          798,
          799,
          800,
          801,
          802,
          803,
          804,
          805,
          806,
          807,
          808,
          809,
          810,
          811,
          812,
          813,
          814,
          815,
          816,
          817,
          818,
          819,
          820,
          821,
          822,
          823,
          824,
          825,
          826,
          827,
          828,
          829,
          830,
          831,
          832,
          833,
          834,
          835,
          836,
          837,
          838,
          839,
          840,
          841,
          842,
          843,
          844,
          845,
          846,
          847,
          848,
          849,
          850,
          851,
          852,
          853,
          854,
          855,
          856,
          857,
          858,
          859,
          860,
          861,
          862,
          863,
          864,
          865,
          866,
          867,
          868,
          869,
          870,
          871,
          872,
          873,
          874,
          875,
          876,
          877,
          878,
          879,
          880,
          881,
          882,
          883,
          884,
          885,
          886,
          887,
          888,
          889,
          890,
          891,
          892,
          893,
          894,
          895,
          896,
          897,
          898,
          899,
          900,
          901,
          902,
          903,
          904,
          905,
          906,
          907,
          908,
          909,
          910,
          911,
          912,
          913,
          914,
          915,
          916,
          917,
          918,
          919,
          920,
          921,
          922,
          923,
          924,
          925,
          926,
          927,
          928,
          929,
          930,
          931,
          932,
          933,
          934,
          935,
          936,
          937,
          938,
          939,
          940,
          941,
          942,
          943,
          944,
          945,
          946,
          947,
          948,
          949,
          950,
          951,
          952,
          953,
          954,
          955,
          956,
          957,
          958,
          959,
          960
         ],
         "y": [
          0,
          0,
          0,
          0,
          0,
          0,
          0,
          0,
          0,
          0,
          1,
          1,
          1,
          1,
          1,
          1,
          1,
          1,
          1,
          1,
          1,
          1,
          1,
          1,
          1,
          1,
          1,
          1,
          1,
          1,
          1,
          1,
          1,
          1,
          1,
          1,
          1,
          1,
          1,
          1,
          1,
          1,
          1,
          2,
          2,
          2,
          2,
          2,
          2,
          2,
          2,
          2,
          2,
          2,
          2,
          2,
          2,
          2,
          2,
          2,
          2,
          2,
          2,
          2,
          2,
          2,
          3,
          3,
          3,
          3,
          3,
          3,
          3,
          3,
          3,
          3,
          3,
          3,
          3,
          3,
          3,
          3,
          3,
          3,
          3,
          4,
          4,
          4,
          4,
          4,
          4,
          4,
          4,
          4,
          4,
          4,
          4,
          4,
          4,
          4,
          4,
          4,
          5,
          5,
          5,
          5,
          5,
          5,
          5,
          5,
          5,
          5,
          5,
          5,
          5,
          5,
          5,
          5,
          5,
          5,
          5,
          5,
          5,
          5,
          5,
          5,
          5,
          5,
          5,
          5,
          5,
          5,
          5,
          5,
          5,
          5,
          5,
          5,
          5,
          5,
          5,
          5,
          5,
          5,
          5,
          5,
          5,
          5,
          5,
          5,
          5,
          5,
          5,
          5,
          5,
          5,
          5,
          5,
          5,
          5,
          5,
          5,
          5,
          5,
          5,
          5,
          5,
          5,
          5,
          5,
          5,
          5,
          5,
          5,
          5,
          5,
          5,
          5,
          5,
          5,
          5,
          5,
          5,
          5,
          5,
          5,
          5,
          5,
          5,
          5,
          5,
          5,
          5,
          5,
          5,
          5,
          5,
          5,
          5,
          5,
          5,
          5,
          5,
          5,
          5,
          5,
          5,
          5,
          5,
          5,
          5,
          5,
          5,
          5,
          5,
          5,
          5,
          6,
          6,
          6,
          6,
          6,
          6,
          6,
          6,
          6,
          6,
          6,
          6,
          6,
          6,
          6,
          6,
          6,
          6,
          6,
          6,
          6,
          6,
          6,
          5,
          5,
          5,
          5,
          5,
          5,
          5,
          5,
          5,
          5,
          5,
          5,
          5,
          5,
          5,
          5,
          5,
          5,
          5,
          5,
          5,
          5,
          5,
          5,
          5,
          5,
          5,
          5,
          5,
          5,
          5,
          5,
          5,
          4,
          4,
          4,
          4,
          4,
          4,
          4,
          4,
          4,
          4,
          4,
          4,
          4,
          4,
          4,
          4,
          4,
          4,
          4,
          4,
          4,
          4,
          4,
          4,
          4,
          4,
          4,
          4,
          4,
          4,
          4,
          4,
          4,
          4,
          4,
          4,
          4,
          4,
          4,
          4,
          4,
          4,
          4,
          4,
          4,
          4,
          4,
          4,
          4,
          4,
          4,
          4,
          4,
          4,
          4,
          4,
          4,
          4,
          4,
          4,
          4,
          4,
          4,
          4,
          4,
          4,
          4,
          4,
          4,
          4,
          4,
          4,
          4,
          4,
          4,
          4,
          4,
          4,
          4,
          4,
          4,
          4,
          4,
          4,
          4,
          4,
          4,
          4,
          4,
          4,
          4,
          4,
          4,
          4,
          4,
          4,
          4,
          4,
          4,
          4,
          4,
          4,
          4,
          4,
          4,
          4,
          4,
          4,
          4,
          4,
          4,
          4,
          4,
          4,
          4,
          3,
          3,
          3,
          3,
          3,
          3,
          3,
          3,
          3,
          3,
          3,
          3,
          3,
          3,
          3,
          3,
          3,
          3,
          3,
          3,
          3,
          3,
          2,
          2,
          2,
          2,
          2,
          2,
          2,
          2,
          2,
          2,
          2,
          2,
          2,
          2,
          2,
          2,
          2,
          2,
          2,
          2,
          2,
          2,
          2,
          2,
          2,
          2,
          2,
          2,
          2,
          2,
          2,
          2,
          2,
          2,
          2,
          2,
          2,
          1,
          1,
          1,
          1,
          1,
          1,
          1,
          1,
          1,
          1,
          1,
          1,
          1,
          1,
          1,
          1,
          1,
          1,
          1,
          1,
          1,
          1,
          1,
          1,
          1,
          1,
          1,
          1,
          1,
          1,
          1,
          1,
          1,
          1
         ]
        }
       ],
       "layout": {
        "legend": {
         "tracegroupgap": 0
        },
        "margin": {
         "t": 60
        },
        "template": {
         "data": {
          "bar": [
           {
            "error_x": {
             "color": "#2a3f5f"
            },
            "error_y": {
             "color": "#2a3f5f"
            },
            "marker": {
             "line": {
              "color": "white",
              "width": 0.5
             },
             "pattern": {
              "fillmode": "overlay",
              "size": 10,
              "solidity": 0.2
             }
            },
            "type": "bar"
           }
          ],
          "barpolar": [
           {
            "marker": {
             "line": {
              "color": "white",
              "width": 0.5
             },
             "pattern": {
              "fillmode": "overlay",
              "size": 10,
              "solidity": 0.2
             }
            },
            "type": "barpolar"
           }
          ],
          "carpet": [
           {
            "aaxis": {
             "endlinecolor": "#2a3f5f",
             "gridcolor": "#C8D4E3",
             "linecolor": "#C8D4E3",
             "minorgridcolor": "#C8D4E3",
             "startlinecolor": "#2a3f5f"
            },
            "baxis": {
             "endlinecolor": "#2a3f5f",
             "gridcolor": "#C8D4E3",
             "linecolor": "#C8D4E3",
             "minorgridcolor": "#C8D4E3",
             "startlinecolor": "#2a3f5f"
            },
            "type": "carpet"
           }
          ],
          "choropleth": [
           {
            "colorbar": {
             "outlinewidth": 0,
             "ticks": ""
            },
            "type": "choropleth"
           }
          ],
          "contour": [
           {
            "colorbar": {
             "outlinewidth": 0,
             "ticks": ""
            },
            "colorscale": [
             [
              0,
              "#0d0887"
             ],
             [
              0.1111111111111111,
              "#46039f"
             ],
             [
              0.2222222222222222,
              "#7201a8"
             ],
             [
              0.3333333333333333,
              "#9c179e"
             ],
             [
              0.4444444444444444,
              "#bd3786"
             ],
             [
              0.5555555555555556,
              "#d8576b"
             ],
             [
              0.6666666666666666,
              "#ed7953"
             ],
             [
              0.7777777777777778,
              "#fb9f3a"
             ],
             [
              0.8888888888888888,
              "#fdca26"
             ],
             [
              1,
              "#f0f921"
             ]
            ],
            "type": "contour"
           }
          ],
          "contourcarpet": [
           {
            "colorbar": {
             "outlinewidth": 0,
             "ticks": ""
            },
            "type": "contourcarpet"
           }
          ],
          "heatmap": [
           {
            "colorbar": {
             "outlinewidth": 0,
             "ticks": ""
            },
            "colorscale": [
             [
              0,
              "#0d0887"
             ],
             [
              0.1111111111111111,
              "#46039f"
             ],
             [
              0.2222222222222222,
              "#7201a8"
             ],
             [
              0.3333333333333333,
              "#9c179e"
             ],
             [
              0.4444444444444444,
              "#bd3786"
             ],
             [
              0.5555555555555556,
              "#d8576b"
             ],
             [
              0.6666666666666666,
              "#ed7953"
             ],
             [
              0.7777777777777778,
              "#fb9f3a"
             ],
             [
              0.8888888888888888,
              "#fdca26"
             ],
             [
              1,
              "#f0f921"
             ]
            ],
            "type": "heatmap"
           }
          ],
          "heatmapgl": [
           {
            "colorbar": {
             "outlinewidth": 0,
             "ticks": ""
            },
            "colorscale": [
             [
              0,
              "#0d0887"
             ],
             [
              0.1111111111111111,
              "#46039f"
             ],
             [
              0.2222222222222222,
              "#7201a8"
             ],
             [
              0.3333333333333333,
              "#9c179e"
             ],
             [
              0.4444444444444444,
              "#bd3786"
             ],
             [
              0.5555555555555556,
              "#d8576b"
             ],
             [
              0.6666666666666666,
              "#ed7953"
             ],
             [
              0.7777777777777778,
              "#fb9f3a"
             ],
             [
              0.8888888888888888,
              "#fdca26"
             ],
             [
              1,
              "#f0f921"
             ]
            ],
            "type": "heatmapgl"
           }
          ],
          "histogram": [
           {
            "marker": {
             "pattern": {
              "fillmode": "overlay",
              "size": 10,
              "solidity": 0.2
             }
            },
            "type": "histogram"
           }
          ],
          "histogram2d": [
           {
            "colorbar": {
             "outlinewidth": 0,
             "ticks": ""
            },
            "colorscale": [
             [
              0,
              "#0d0887"
             ],
             [
              0.1111111111111111,
              "#46039f"
             ],
             [
              0.2222222222222222,
              "#7201a8"
             ],
             [
              0.3333333333333333,
              "#9c179e"
             ],
             [
              0.4444444444444444,
              "#bd3786"
             ],
             [
              0.5555555555555556,
              "#d8576b"
             ],
             [
              0.6666666666666666,
              "#ed7953"
             ],
             [
              0.7777777777777778,
              "#fb9f3a"
             ],
             [
              0.8888888888888888,
              "#fdca26"
             ],
             [
              1,
              "#f0f921"
             ]
            ],
            "type": "histogram2d"
           }
          ],
          "histogram2dcontour": [
           {
            "colorbar": {
             "outlinewidth": 0,
             "ticks": ""
            },
            "colorscale": [
             [
              0,
              "#0d0887"
             ],
             [
              0.1111111111111111,
              "#46039f"
             ],
             [
              0.2222222222222222,
              "#7201a8"
             ],
             [
              0.3333333333333333,
              "#9c179e"
             ],
             [
              0.4444444444444444,
              "#bd3786"
             ],
             [
              0.5555555555555556,
              "#d8576b"
             ],
             [
              0.6666666666666666,
              "#ed7953"
             ],
             [
              0.7777777777777778,
              "#fb9f3a"
             ],
             [
              0.8888888888888888,
              "#fdca26"
             ],
             [
              1,
              "#f0f921"
             ]
            ],
            "type": "histogram2dcontour"
           }
          ],
          "mesh3d": [
           {
            "colorbar": {
             "outlinewidth": 0,
             "ticks": ""
            },
            "type": "mesh3d"
           }
          ],
          "parcoords": [
           {
            "line": {
             "colorbar": {
              "outlinewidth": 0,
              "ticks": ""
             }
            },
            "type": "parcoords"
           }
          ],
          "pie": [
           {
            "automargin": true,
            "type": "pie"
           }
          ],
          "scatter": [
           {
            "marker": {
             "colorbar": {
              "outlinewidth": 0,
              "ticks": ""
             }
            },
            "type": "scatter"
           }
          ],
          "scatter3d": [
           {
            "line": {
             "colorbar": {
              "outlinewidth": 0,
              "ticks": ""
             }
            },
            "marker": {
             "colorbar": {
              "outlinewidth": 0,
              "ticks": ""
             }
            },
            "type": "scatter3d"
           }
          ],
          "scattercarpet": [
           {
            "marker": {
             "colorbar": {
              "outlinewidth": 0,
              "ticks": ""
             }
            },
            "type": "scattercarpet"
           }
          ],
          "scattergeo": [
           {
            "marker": {
             "colorbar": {
              "outlinewidth": 0,
              "ticks": ""
             }
            },
            "type": "scattergeo"
           }
          ],
          "scattergl": [
           {
            "marker": {
             "colorbar": {
              "outlinewidth": 0,
              "ticks": ""
             }
            },
            "type": "scattergl"
           }
          ],
          "scattermapbox": [
           {
            "marker": {
             "colorbar": {
              "outlinewidth": 0,
              "ticks": ""
             }
            },
            "type": "scattermapbox"
           }
          ],
          "scatterpolar": [
           {
            "marker": {
             "colorbar": {
              "outlinewidth": 0,
              "ticks": ""
             }
            },
            "type": "scatterpolar"
           }
          ],
          "scatterpolargl": [
           {
            "marker": {
             "colorbar": {
              "outlinewidth": 0,
              "ticks": ""
             }
            },
            "type": "scatterpolargl"
           }
          ],
          "scatterternary": [
           {
            "marker": {
             "colorbar": {
              "outlinewidth": 0,
              "ticks": ""
             }
            },
            "type": "scatterternary"
           }
          ],
          "surface": [
           {
            "colorbar": {
             "outlinewidth": 0,
             "ticks": ""
            },
            "colorscale": [
             [
              0,
              "#0d0887"
             ],
             [
              0.1111111111111111,
              "#46039f"
             ],
             [
              0.2222222222222222,
              "#7201a8"
             ],
             [
              0.3333333333333333,
              "#9c179e"
             ],
             [
              0.4444444444444444,
              "#bd3786"
             ],
             [
              0.5555555555555556,
              "#d8576b"
             ],
             [
              0.6666666666666666,
              "#ed7953"
             ],
             [
              0.7777777777777778,
              "#fb9f3a"
             ],
             [
              0.8888888888888888,
              "#fdca26"
             ],
             [
              1,
              "#f0f921"
             ]
            ],
            "type": "surface"
           }
          ],
          "table": [
           {
            "cells": {
             "fill": {
              "color": "#EBF0F8"
             },
             "line": {
              "color": "white"
             }
            },
            "header": {
             "fill": {
              "color": "#C8D4E3"
             },
             "line": {
              "color": "white"
             }
            },
            "type": "table"
           }
          ]
         },
         "layout": {
          "annotationdefaults": {
           "arrowcolor": "#2a3f5f",
           "arrowhead": 0,
           "arrowwidth": 1
          },
          "autotypenumbers": "strict",
          "coloraxis": {
           "colorbar": {
            "outlinewidth": 0,
            "ticks": ""
           }
          },
          "colorscale": {
           "diverging": [
            [
             0,
             "#8e0152"
            ],
            [
             0.1,
             "#c51b7d"
            ],
            [
             0.2,
             "#de77ae"
            ],
            [
             0.3,
             "#f1b6da"
            ],
            [
             0.4,
             "#fde0ef"
            ],
            [
             0.5,
             "#f7f7f7"
            ],
            [
             0.6,
             "#e6f5d0"
            ],
            [
             0.7,
             "#b8e186"
            ],
            [
             0.8,
             "#7fbc41"
            ],
            [
             0.9,
             "#4d9221"
            ],
            [
             1,
             "#276419"
            ]
           ],
           "sequential": [
            [
             0,
             "#0d0887"
            ],
            [
             0.1111111111111111,
             "#46039f"
            ],
            [
             0.2222222222222222,
             "#7201a8"
            ],
            [
             0.3333333333333333,
             "#9c179e"
            ],
            [
             0.4444444444444444,
             "#bd3786"
            ],
            [
             0.5555555555555556,
             "#d8576b"
            ],
            [
             0.6666666666666666,
             "#ed7953"
            ],
            [
             0.7777777777777778,
             "#fb9f3a"
            ],
            [
             0.8888888888888888,
             "#fdca26"
            ],
            [
             1,
             "#f0f921"
            ]
           ],
           "sequentialminus": [
            [
             0,
             "#0d0887"
            ],
            [
             0.1111111111111111,
             "#46039f"
            ],
            [
             0.2222222222222222,
             "#7201a8"
            ],
            [
             0.3333333333333333,
             "#9c179e"
            ],
            [
             0.4444444444444444,
             "#bd3786"
            ],
            [
             0.5555555555555556,
             "#d8576b"
            ],
            [
             0.6666666666666666,
             "#ed7953"
            ],
            [
             0.7777777777777778,
             "#fb9f3a"
            ],
            [
             0.8888888888888888,
             "#fdca26"
            ],
            [
             1,
             "#f0f921"
            ]
           ]
          },
          "colorway": [
           "#636efa",
           "#EF553B",
           "#00cc96",
           "#ab63fa",
           "#FFA15A",
           "#19d3f3",
           "#FF6692",
           "#B6E880",
           "#FF97FF",
           "#FECB52"
          ],
          "font": {
           "color": "#2a3f5f"
          },
          "geo": {
           "bgcolor": "white",
           "lakecolor": "white",
           "landcolor": "white",
           "showlakes": true,
           "showland": true,
           "subunitcolor": "#C8D4E3"
          },
          "hoverlabel": {
           "align": "left"
          },
          "hovermode": "closest",
          "mapbox": {
           "style": "light"
          },
          "paper_bgcolor": "white",
          "plot_bgcolor": "white",
          "polar": {
           "angularaxis": {
            "gridcolor": "#EBF0F8",
            "linecolor": "#EBF0F8",
            "ticks": ""
           },
           "bgcolor": "white",
           "radialaxis": {
            "gridcolor": "#EBF0F8",
            "linecolor": "#EBF0F8",
            "ticks": ""
           }
          },
          "scene": {
           "xaxis": {
            "backgroundcolor": "white",
            "gridcolor": "#DFE8F3",
            "gridwidth": 2,
            "linecolor": "#EBF0F8",
            "showbackground": true,
            "ticks": "",
            "zerolinecolor": "#EBF0F8"
           },
           "yaxis": {
            "backgroundcolor": "white",
            "gridcolor": "#DFE8F3",
            "gridwidth": 2,
            "linecolor": "#EBF0F8",
            "showbackground": true,
            "ticks": "",
            "zerolinecolor": "#EBF0F8"
           },
           "zaxis": {
            "backgroundcolor": "white",
            "gridcolor": "#DFE8F3",
            "gridwidth": 2,
            "linecolor": "#EBF0F8",
            "showbackground": true,
            "ticks": "",
            "zerolinecolor": "#EBF0F8"
           }
          },
          "shapedefaults": {
           "line": {
            "color": "#2a3f5f"
           }
          },
          "ternary": {
           "aaxis": {
            "gridcolor": "#DFE8F3",
            "linecolor": "#A2B1C6",
            "ticks": ""
           },
           "baxis": {
            "gridcolor": "#DFE8F3",
            "linecolor": "#A2B1C6",
            "ticks": ""
           },
           "bgcolor": "white",
           "caxis": {
            "gridcolor": "#DFE8F3",
            "linecolor": "#A2B1C6",
            "ticks": ""
           }
          },
          "title": {
           "x": 0.05
          },
          "xaxis": {
           "automargin": true,
           "gridcolor": "#EBF0F8",
           "linecolor": "#EBF0F8",
           "ticks": "",
           "title": {
            "standoff": 15
           },
           "zerolinecolor": "#EBF0F8",
           "zerolinewidth": 2
          },
          "yaxis": {
           "automargin": true,
           "gridcolor": "#EBF0F8",
           "linecolor": "#EBF0F8",
           "ticks": "",
           "title": {
            "standoff": 15
           },
           "zerolinecolor": "#EBF0F8",
           "zerolinewidth": 2
          }
         }
        },
        "title": {
         "font": {
          "size": 24
         },
         "text": "Anzahl wartender und ladender BEVs im Tagesverlauf",
         "x": 0.5,
         "xanchor": "center"
        },
        "xaxis": {
         "anchor": "y",
         "domain": [
          0,
          1
         ],
         "title": {
          "text": "Minuten"
         }
        },
        "yaxis": {
         "anchor": "x",
         "domain": [
          0,
          1
         ],
         "title": {
          "text": "Anzahl BEVs"
         }
        }
       }
      },
      "text/html": [
       "<div>                            <div id=\"b2c380cb-0eb3-456b-a63b-3d3585c35f50\" class=\"plotly-graph-div\" style=\"height:525px; width:100%;\"></div>            <script type=\"text/javascript\">                require([\"plotly\"], function(Plotly) {                    window.PLOTLYENV=window.PLOTLYENV || {};                                    if (document.getElementById(\"b2c380cb-0eb3-456b-a63b-3d3585c35f50\")) {                    Plotly.newPlot(                        \"b2c380cb-0eb3-456b-a63b-3d3585c35f50\",                        [{\"line\":{\"color\":\"orange\"},\"name\":\"Wartende BEVs\",\"x\":[480,481,482,483,484,485,486,487,488,489,490,491,492,493,494,495,496,497,498,499,500,501,502,503,504,505,506,507,508,509,510,511,512,513,514,515,516,517,518,519,520,521,522,523,524,525,526,527,528,529,530,531,532,533,534,535,536,537,538,539,540,541,542,543,544,545,546,547,548,549,550,551,552,553,554,555,556,557,558,559,560,561,562,563,564,565,566,567,568,569,570,571,572,573,574,575,576,577,578,579,580,581,582,583,584,585,586,587,588,589,590,591,592,593,594,595,596,597,598,599,600,601,602,603,604,605,606,607,608,609,610,611,612,613,614,615,616,617,618,619,620,621,622,623,624,625,626,627,628,629,630,631,632,633,634,635,636,637,638,639,640,641,642,643,644,645,646,647,648,649,650,651,652,653,654,655,656,657,658,659,660,661,662,663,664,665,666,667,668,669,670,671,672,673,674,675,676,677,678,679,680,681,682,683,684,685,686,687,688,689,690,691,692,693,694,695,696,697,698,699,700,701,702,703,704,705,706,707,708,709,710,711,712,713,714,715,716,717,718,719,720,721,722,723,724,725,726,727,728,729,730,731,732,733,734,735,736,737,738,739,740,741,742,743,744,745,746,747,748,749,750,751,752,753,754,755,756,757,758,759,760,761,762,763,764,765,766,767,768,769,770,771,772,773,774,775,776,777,778,779,780,781,782,783,784,785,786,787,788,789,790,791,792,793,794,795,796,797,798,799,800,801,802,803,804,805,806,807,808,809,810,811,812,813,814,815,816,817,818,819,820,821,822,823,824,825,826,827,828,829,830,831,832,833,834,835,836,837,838,839,840,841,842,843,844,845,846,847,848,849,850,851,852,853,854,855,856,857,858,859,860,861,862,863,864,865,866,867,868,869,870,871,872,873,874,875,876,877,878,879,880,881,882,883,884,885,886,887,888,889,890,891,892,893,894,895,896,897,898,899,900,901,902,903,904,905,906,907,908,909,910,911,912,913,914,915,916,917,918,919,920,921,922,923,924,925,926,927,928,929,930,931,932,933,934,935,936,937,938,939,940,941,942,943,944,945,946,947,948,949,950,951,952,953,954,955,956,957,958,959,960],\"y\":[18,18,18,18,18,18,18,18,18,18,18,17,17,17,17,17,17,17,17,17,17,17,17,17,17,17,17,17,17,17,52,52,52,52,52,52,52,52,52,52,52,51,51,51,50,50,50,50,50,50,50,50,50,50,50,50,50,50,50,50,64,64,64,64,64,64,64,63,63,63,63,62,62,62,61,61,61,61,61,61,61,61,61,61,61,61,60,60,60,60,64,64,64,64,64,64,64,63,63,63,63,62,62,61,60,60,60,60,60,60,60,60,60,60,60,60,59,59,59,59,61,61,61,61,61,61,61,60,60,60,60,59,59,58,57,57,57,57,57,57,57,57,57,57,57,57,56,56,56,56,58,58,58,58,58,58,58,57,57,57,57,56,56,55,54,54,54,54,54,54,54,54,54,54,54,54,53,53,53,53,54,54,54,54,54,54,54,53,53,53,53,52,52,51,50,50,50,50,50,50,50,50,50,50,50,50,49,49,49,49,49,49,49,49,49,49,49,48,47,47,47,46,44,43,42,42,42,42,42,42,42,42,42,42,42,42,41,41,41,41,44,45,45,45,45,45,44,44,43,43,43,42,40,39,38,38,38,38,37,37,37,37,37,37,37,37,36,36,36,36,44,44,44,44,45,45,45,45,45,45,45,44,43,42,41,41,41,41,41,40,40,40,40,40,40,40,39,39,39,39,50,50,50,50,50,50,50,49,49,49,49,49,48,48,47,47,47,47,45,44,44,44,44,44,43,43,42,42,42,42,43,42,42,42,42,42,42,41,41,41,41,41,41,41,41,41,41,41,41,40,40,40,40,40,39,39,38,38,38,38,37,36,36,36,36,36,36,35,35,35,35,35,34,34,34,34,34,34,34,33,33,33,33,33,33,33,32,32,32,33,34,34,34,34,34,34,34,33,33,33,33,33,32,32,32,32,32,32,32,31,31,32,32,32,32,32,32,32,32,32,31,31,31,31,31,31,30,29,29,29,29,29,28,28,28,28,28,28,28,27,27,27,27,27,27,27,27,27,28,28,28,28,28,28,28,28,26,26,26,26,26,26,26,26,26,26,26,26,26,25,25,25,25,25,24,24,24,24,24,24,23],\"type\":\"scatter\"},{\"line\":{\"color\":\"green\"},\"name\":\"Ladende BEVs\",\"x\":[480,481,482,483,484,485,486,487,488,489,490,491,492,493,494,495,496,497,498,499,500,501,502,503,504,505,506,507,508,509,510,511,512,513,514,515,516,517,518,519,520,521,522,523,524,525,526,527,528,529,530,531,532,533,534,535,536,537,538,539,540,541,542,543,544,545,546,547,548,549,550,551,552,553,554,555,556,557,558,559,560,561,562,563,564,565,566,567,568,569,570,571,572,573,574,575,576,577,578,579,580,581,582,583,584,585,586,587,588,589,590,591,592,593,594,595,596,597,598,599,600,601,602,603,604,605,606,607,608,609,610,611,612,613,614,615,616,617,618,619,620,621,622,623,624,625,626,627,628,629,630,631,632,633,634,635,636,637,638,639,640,641,642,643,644,645,646,647,648,649,650,651,652,653,654,655,656,657,658,659,660,661,662,663,664,665,666,667,668,669,670,671,672,673,674,675,676,677,678,679,680,681,682,683,684,685,686,687,688,689,690,691,692,693,694,695,696,697,698,699,700,701,702,703,704,705,706,707,708,709,710,711,712,713,714,715,716,717,718,719,720,721,722,723,724,725,726,727,728,729,730,731,732,733,734,735,736,737,738,739,740,741,742,743,744,745,746,747,748,749,750,751,752,753,754,755,756,757,758,759,760,761,762,763,764,765,766,767,768,769,770,771,772,773,774,775,776,777,778,779,780,781,782,783,784,785,786,787,788,789,790,791,792,793,794,795,796,797,798,799,800,801,802,803,804,805,806,807,808,809,810,811,812,813,814,815,816,817,818,819,820,821,822,823,824,825,826,827,828,829,830,831,832,833,834,835,836,837,838,839,840,841,842,843,844,845,846,847,848,849,850,851,852,853,854,855,856,857,858,859,860,861,862,863,864,865,866,867,868,869,870,871,872,873,874,875,876,877,878,879,880,881,882,883,884,885,886,887,888,889,890,891,892,893,894,895,896,897,898,899,900,901,902,903,904,905,906,907,908,909,910,911,912,913,914,915,916,917,918,919,920,921,922,923,924,925,926,927,928,929,930,931,932,933,934,935,936,937,938,939,940,941,942,943,944,945,946,947,948,949,950,951,952,953,954,955,956,957,958,959,960],\"y\":[0,0,0,0,0,0,0,0,0,0,1,1,1,1,1,1,1,1,1,1,1,1,1,1,1,1,1,1,1,1,1,1,1,1,1,1,1,1,1,1,1,1,1,2,2,2,2,2,2,2,2,2,2,2,2,2,2,2,2,2,2,2,2,2,2,2,3,3,3,3,3,3,3,3,3,3,3,3,3,3,3,3,3,3,3,4,4,4,4,4,4,4,4,4,4,4,4,4,4,4,4,4,5,5,5,5,5,5,5,5,5,5,5,5,5,5,5,5,5,5,5,5,5,5,5,5,5,5,5,5,5,5,5,5,5,5,5,5,5,5,5,5,5,5,5,5,5,5,5,5,5,5,5,5,5,5,5,5,5,5,5,5,5,5,5,5,5,5,5,5,5,5,5,5,5,5,5,5,5,5,5,5,5,5,5,5,5,5,5,5,5,5,5,5,5,5,5,5,5,5,5,5,5,5,5,5,5,5,5,5,5,5,5,5,5,5,5,6,6,6,6,6,6,6,6,6,6,6,6,6,6,6,6,6,6,6,6,6,6,6,5,5,5,5,5,5,5,5,5,5,5,5,5,5,5,5,5,5,5,5,5,5,5,5,5,5,5,5,5,5,5,5,5,4,4,4,4,4,4,4,4,4,4,4,4,4,4,4,4,4,4,4,4,4,4,4,4,4,4,4,4,4,4,4,4,4,4,4,4,4,4,4,4,4,4,4,4,4,4,4,4,4,4,4,4,4,4,4,4,4,4,4,4,4,4,4,4,4,4,4,4,4,4,4,4,4,4,4,4,4,4,4,4,4,4,4,4,4,4,4,4,4,4,4,4,4,4,4,4,4,4,4,4,4,4,4,4,4,4,4,4,4,4,4,4,4,4,4,3,3,3,3,3,3,3,3,3,3,3,3,3,3,3,3,3,3,3,3,3,3,2,2,2,2,2,2,2,2,2,2,2,2,2,2,2,2,2,2,2,2,2,2,2,2,2,2,2,2,2,2,2,2,2,2,2,2,2,1,1,1,1,1,1,1,1,1,1,1,1,1,1,1,1,1,1,1,1,1,1,1,1,1,1,1,1,1,1,1,1,1,1],\"type\":\"scatter\"}],                        {\"template\":{\"data\":{\"barpolar\":[{\"marker\":{\"line\":{\"color\":\"white\",\"width\":0.5},\"pattern\":{\"fillmode\":\"overlay\",\"size\":10,\"solidity\":0.2}},\"type\":\"barpolar\"}],\"bar\":[{\"error_x\":{\"color\":\"#2a3f5f\"},\"error_y\":{\"color\":\"#2a3f5f\"},\"marker\":{\"line\":{\"color\":\"white\",\"width\":0.5},\"pattern\":{\"fillmode\":\"overlay\",\"size\":10,\"solidity\":0.2}},\"type\":\"bar\"}],\"carpet\":[{\"aaxis\":{\"endlinecolor\":\"#2a3f5f\",\"gridcolor\":\"#C8D4E3\",\"linecolor\":\"#C8D4E3\",\"minorgridcolor\":\"#C8D4E3\",\"startlinecolor\":\"#2a3f5f\"},\"baxis\":{\"endlinecolor\":\"#2a3f5f\",\"gridcolor\":\"#C8D4E3\",\"linecolor\":\"#C8D4E3\",\"minorgridcolor\":\"#C8D4E3\",\"startlinecolor\":\"#2a3f5f\"},\"type\":\"carpet\"}],\"choropleth\":[{\"colorbar\":{\"outlinewidth\":0,\"ticks\":\"\"},\"type\":\"choropleth\"}],\"contourcarpet\":[{\"colorbar\":{\"outlinewidth\":0,\"ticks\":\"\"},\"type\":\"contourcarpet\"}],\"contour\":[{\"colorbar\":{\"outlinewidth\":0,\"ticks\":\"\"},\"colorscale\":[[0.0,\"#0d0887\"],[0.1111111111111111,\"#46039f\"],[0.2222222222222222,\"#7201a8\"],[0.3333333333333333,\"#9c179e\"],[0.4444444444444444,\"#bd3786\"],[0.5555555555555556,\"#d8576b\"],[0.6666666666666666,\"#ed7953\"],[0.7777777777777778,\"#fb9f3a\"],[0.8888888888888888,\"#fdca26\"],[1.0,\"#f0f921\"]],\"type\":\"contour\"}],\"heatmapgl\":[{\"colorbar\":{\"outlinewidth\":0,\"ticks\":\"\"},\"colorscale\":[[0.0,\"#0d0887\"],[0.1111111111111111,\"#46039f\"],[0.2222222222222222,\"#7201a8\"],[0.3333333333333333,\"#9c179e\"],[0.4444444444444444,\"#bd3786\"],[0.5555555555555556,\"#d8576b\"],[0.6666666666666666,\"#ed7953\"],[0.7777777777777778,\"#fb9f3a\"],[0.8888888888888888,\"#fdca26\"],[1.0,\"#f0f921\"]],\"type\":\"heatmapgl\"}],\"heatmap\":[{\"colorbar\":{\"outlinewidth\":0,\"ticks\":\"\"},\"colorscale\":[[0.0,\"#0d0887\"],[0.1111111111111111,\"#46039f\"],[0.2222222222222222,\"#7201a8\"],[0.3333333333333333,\"#9c179e\"],[0.4444444444444444,\"#bd3786\"],[0.5555555555555556,\"#d8576b\"],[0.6666666666666666,\"#ed7953\"],[0.7777777777777778,\"#fb9f3a\"],[0.8888888888888888,\"#fdca26\"],[1.0,\"#f0f921\"]],\"type\":\"heatmap\"}],\"histogram2dcontour\":[{\"colorbar\":{\"outlinewidth\":0,\"ticks\":\"\"},\"colorscale\":[[0.0,\"#0d0887\"],[0.1111111111111111,\"#46039f\"],[0.2222222222222222,\"#7201a8\"],[0.3333333333333333,\"#9c179e\"],[0.4444444444444444,\"#bd3786\"],[0.5555555555555556,\"#d8576b\"],[0.6666666666666666,\"#ed7953\"],[0.7777777777777778,\"#fb9f3a\"],[0.8888888888888888,\"#fdca26\"],[1.0,\"#f0f921\"]],\"type\":\"histogram2dcontour\"}],\"histogram2d\":[{\"colorbar\":{\"outlinewidth\":0,\"ticks\":\"\"},\"colorscale\":[[0.0,\"#0d0887\"],[0.1111111111111111,\"#46039f\"],[0.2222222222222222,\"#7201a8\"],[0.3333333333333333,\"#9c179e\"],[0.4444444444444444,\"#bd3786\"],[0.5555555555555556,\"#d8576b\"],[0.6666666666666666,\"#ed7953\"],[0.7777777777777778,\"#fb9f3a\"],[0.8888888888888888,\"#fdca26\"],[1.0,\"#f0f921\"]],\"type\":\"histogram2d\"}],\"histogram\":[{\"marker\":{\"pattern\":{\"fillmode\":\"overlay\",\"size\":10,\"solidity\":0.2}},\"type\":\"histogram\"}],\"mesh3d\":[{\"colorbar\":{\"outlinewidth\":0,\"ticks\":\"\"},\"type\":\"mesh3d\"}],\"parcoords\":[{\"line\":{\"colorbar\":{\"outlinewidth\":0,\"ticks\":\"\"}},\"type\":\"parcoords\"}],\"pie\":[{\"automargin\":true,\"type\":\"pie\"}],\"scatter3d\":[{\"line\":{\"colorbar\":{\"outlinewidth\":0,\"ticks\":\"\"}},\"marker\":{\"colorbar\":{\"outlinewidth\":0,\"ticks\":\"\"}},\"type\":\"scatter3d\"}],\"scattercarpet\":[{\"marker\":{\"colorbar\":{\"outlinewidth\":0,\"ticks\":\"\"}},\"type\":\"scattercarpet\"}],\"scattergeo\":[{\"marker\":{\"colorbar\":{\"outlinewidth\":0,\"ticks\":\"\"}},\"type\":\"scattergeo\"}],\"scattergl\":[{\"marker\":{\"colorbar\":{\"outlinewidth\":0,\"ticks\":\"\"}},\"type\":\"scattergl\"}],\"scattermapbox\":[{\"marker\":{\"colorbar\":{\"outlinewidth\":0,\"ticks\":\"\"}},\"type\":\"scattermapbox\"}],\"scatterpolargl\":[{\"marker\":{\"colorbar\":{\"outlinewidth\":0,\"ticks\":\"\"}},\"type\":\"scatterpolargl\"}],\"scatterpolar\":[{\"marker\":{\"colorbar\":{\"outlinewidth\":0,\"ticks\":\"\"}},\"type\":\"scatterpolar\"}],\"scatter\":[{\"marker\":{\"colorbar\":{\"outlinewidth\":0,\"ticks\":\"\"}},\"type\":\"scatter\"}],\"scatterternary\":[{\"marker\":{\"colorbar\":{\"outlinewidth\":0,\"ticks\":\"\"}},\"type\":\"scatterternary\"}],\"surface\":[{\"colorbar\":{\"outlinewidth\":0,\"ticks\":\"\"},\"colorscale\":[[0.0,\"#0d0887\"],[0.1111111111111111,\"#46039f\"],[0.2222222222222222,\"#7201a8\"],[0.3333333333333333,\"#9c179e\"],[0.4444444444444444,\"#bd3786\"],[0.5555555555555556,\"#d8576b\"],[0.6666666666666666,\"#ed7953\"],[0.7777777777777778,\"#fb9f3a\"],[0.8888888888888888,\"#fdca26\"],[1.0,\"#f0f921\"]],\"type\":\"surface\"}],\"table\":[{\"cells\":{\"fill\":{\"color\":\"#EBF0F8\"},\"line\":{\"color\":\"white\"}},\"header\":{\"fill\":{\"color\":\"#C8D4E3\"},\"line\":{\"color\":\"white\"}},\"type\":\"table\"}]},\"layout\":{\"annotationdefaults\":{\"arrowcolor\":\"#2a3f5f\",\"arrowhead\":0,\"arrowwidth\":1},\"autotypenumbers\":\"strict\",\"coloraxis\":{\"colorbar\":{\"outlinewidth\":0,\"ticks\":\"\"}},\"colorscale\":{\"diverging\":[[0,\"#8e0152\"],[0.1,\"#c51b7d\"],[0.2,\"#de77ae\"],[0.3,\"#f1b6da\"],[0.4,\"#fde0ef\"],[0.5,\"#f7f7f7\"],[0.6,\"#e6f5d0\"],[0.7,\"#b8e186\"],[0.8,\"#7fbc41\"],[0.9,\"#4d9221\"],[1,\"#276419\"]],\"sequential\":[[0.0,\"#0d0887\"],[0.1111111111111111,\"#46039f\"],[0.2222222222222222,\"#7201a8\"],[0.3333333333333333,\"#9c179e\"],[0.4444444444444444,\"#bd3786\"],[0.5555555555555556,\"#d8576b\"],[0.6666666666666666,\"#ed7953\"],[0.7777777777777778,\"#fb9f3a\"],[0.8888888888888888,\"#fdca26\"],[1.0,\"#f0f921\"]],\"sequentialminus\":[[0.0,\"#0d0887\"],[0.1111111111111111,\"#46039f\"],[0.2222222222222222,\"#7201a8\"],[0.3333333333333333,\"#9c179e\"],[0.4444444444444444,\"#bd3786\"],[0.5555555555555556,\"#d8576b\"],[0.6666666666666666,\"#ed7953\"],[0.7777777777777778,\"#fb9f3a\"],[0.8888888888888888,\"#fdca26\"],[1.0,\"#f0f921\"]]},\"colorway\":[\"#636efa\",\"#EF553B\",\"#00cc96\",\"#ab63fa\",\"#FFA15A\",\"#19d3f3\",\"#FF6692\",\"#B6E880\",\"#FF97FF\",\"#FECB52\"],\"font\":{\"color\":\"#2a3f5f\"},\"geo\":{\"bgcolor\":\"white\",\"lakecolor\":\"white\",\"landcolor\":\"white\",\"showlakes\":true,\"showland\":true,\"subunitcolor\":\"#C8D4E3\"},\"hoverlabel\":{\"align\":\"left\"},\"hovermode\":\"closest\",\"mapbox\":{\"style\":\"light\"},\"paper_bgcolor\":\"white\",\"plot_bgcolor\":\"white\",\"polar\":{\"angularaxis\":{\"gridcolor\":\"#EBF0F8\",\"linecolor\":\"#EBF0F8\",\"ticks\":\"\"},\"bgcolor\":\"white\",\"radialaxis\":{\"gridcolor\":\"#EBF0F8\",\"linecolor\":\"#EBF0F8\",\"ticks\":\"\"}},\"scene\":{\"xaxis\":{\"backgroundcolor\":\"white\",\"gridcolor\":\"#DFE8F3\",\"gridwidth\":2,\"linecolor\":\"#EBF0F8\",\"showbackground\":true,\"ticks\":\"\",\"zerolinecolor\":\"#EBF0F8\"},\"yaxis\":{\"backgroundcolor\":\"white\",\"gridcolor\":\"#DFE8F3\",\"gridwidth\":2,\"linecolor\":\"#EBF0F8\",\"showbackground\":true,\"ticks\":\"\",\"zerolinecolor\":\"#EBF0F8\"},\"zaxis\":{\"backgroundcolor\":\"white\",\"gridcolor\":\"#DFE8F3\",\"gridwidth\":2,\"linecolor\":\"#EBF0F8\",\"showbackground\":true,\"ticks\":\"\",\"zerolinecolor\":\"#EBF0F8\"}},\"shapedefaults\":{\"line\":{\"color\":\"#2a3f5f\"}},\"ternary\":{\"aaxis\":{\"gridcolor\":\"#DFE8F3\",\"linecolor\":\"#A2B1C6\",\"ticks\":\"\"},\"baxis\":{\"gridcolor\":\"#DFE8F3\",\"linecolor\":\"#A2B1C6\",\"ticks\":\"\"},\"bgcolor\":\"white\",\"caxis\":{\"gridcolor\":\"#DFE8F3\",\"linecolor\":\"#A2B1C6\",\"ticks\":\"\"}},\"title\":{\"x\":0.05},\"xaxis\":{\"automargin\":true,\"gridcolor\":\"#EBF0F8\",\"linecolor\":\"#EBF0F8\",\"ticks\":\"\",\"title\":{\"standoff\":15},\"zerolinecolor\":\"#EBF0F8\",\"zerolinewidth\":2},\"yaxis\":{\"automargin\":true,\"gridcolor\":\"#EBF0F8\",\"linecolor\":\"#EBF0F8\",\"ticks\":\"\",\"title\":{\"standoff\":15},\"zerolinecolor\":\"#EBF0F8\",\"zerolinewidth\":2}}},\"xaxis\":{\"anchor\":\"y\",\"domain\":[0.0,1.0],\"title\":{\"text\":\"Minuten\"}},\"yaxis\":{\"anchor\":\"x\",\"domain\":[0.0,1.0],\"title\":{\"text\":\"Anzahl BEVs\"}},\"legend\":{\"tracegroupgap\":0},\"margin\":{\"t\":60},\"title\":{\"font\":{\"size\":24},\"text\":\"Anzahl wartender und ladender BEVs im Tagesverlauf\",\"x\":0.5,\"xanchor\":\"center\"}},                        {\"responsive\": true}                    ).then(function(){\n",
       "                            \n",
       "var gd = document.getElementById('b2c380cb-0eb3-456b-a63b-3d3585c35f50');\n",
       "var x = new MutationObserver(function (mutations, observer) {{\n",
       "        var display = window.getComputedStyle(gd).display;\n",
       "        if (!display || display === 'none') {{\n",
       "            console.log([gd, 'removed!']);\n",
       "            Plotly.purge(gd);\n",
       "            observer.disconnect();\n",
       "        }}\n",
       "}});\n",
       "\n",
       "// Listen for the removal of the full notebook cells\n",
       "var notebookContainer = gd.closest('#notebook-container');\n",
       "if (notebookContainer) {{\n",
       "    x.observe(notebookContainer, {childList: true});\n",
       "}}\n",
       "\n",
       "// Listen for the clearing of the current output cell\n",
       "var outputEl = gd.closest('.output');\n",
       "if (outputEl) {{\n",
       "    x.observe(outputEl, {childList: true});\n",
       "}}\n",
       "\n",
       "                        })                };                });            </script>        </div>"
      ]
     },
     "metadata": {},
     "output_type": "display_data"
    }
   ],
   "source": [
    "figureGeneration.create_bev_number_figure(simulation_data)"
   ]
  }
 ],
 "metadata": {
  "kernelspec": {
   "display_name": "Python 3 (ipykernel)",
   "language": "python",
   "name": "python3"
  },
  "language_info": {
   "codemirror_mode": {
    "name": "ipython",
    "version": 3
   },
   "file_extension": ".py",
   "mimetype": "text/x-python",
   "name": "python",
   "nbconvert_exporter": "python",
   "pygments_lexer": "ipython3",
   "version": "3.9.5"
  }
 },
 "nbformat": 4,
 "nbformat_minor": 4
}