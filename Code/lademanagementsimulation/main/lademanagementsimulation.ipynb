{
 "cells": [
  {
   "cell_type": "markdown",
   "metadata": {
    "pycharm": {
     "name": "#%% md\n"
    }
   },
   "source": [
    "# Lademanagementsimulation   \n"
   ]
  },
  {
   "cell_type": "markdown",
   "metadata": {},
   "source": [
    "### Simulations Parameter"
   ]
  },
  {
   "cell_type": "code",
   "execution_count": 1,
   "metadata": {
    "pycharm": {
     "name": "#%%\n"
    }
   },
   "outputs": [],
   "source": [
    "solarpeakleistung = 125 #Einheit Kilowattpeak (kWP)\n",
    "anzahl_bevs_pro_tag = 50\n",
    "ladeleistung_pro_bev = 11 #Einheit kW\n",
    "maximale_ladezeit = 30 #Einheit Minuten\n",
    "minute_interval = 15 #Einheit Minuten"
   ]
  },
  {
   "cell_type": "markdown",
   "metadata": {},
   "source": [
    "### Simulations Eingangsdaten"
   ]
  },
  {
   "cell_type": "code",
   "execution_count": 2,
   "metadata": {
    "pycharm": {
     "is_executing": true,
     "name": "#%%\n"
    }
   },
   "outputs": [
    {
     "data": {
      "text/html": [
       "\n",
       "        <iframe\n",
       "            width=\"100%\"\n",
       "            height=\"650\"\n",
       "            src=\"http://127.0.0.1:8050/\"\n",
       "            frameborder=\"0\"\n",
       "            allowfullscreen\n",
       "            \n",
       "        ></iframe>\n",
       "        "
      ],
      "text/plain": [
       "<IPython.lib.display.IFrame at 0x222c9318070>"
      ]
     },
     "metadata": {},
     "output_type": "display_data"
    }
   ],
   "source": [
    "import simulationInputDataVisualisation\n",
    "simulationInputDataVisualisation.create_jupyter_dash_app(solarpeakleistung)"
   ]
  },
  {
   "cell_type": "markdown",
   "metadata": {},
   "source": [
    "### Verteilungsalgorithmus"
   ]
  },
  {
   "cell_type": "code",
   "execution_count": 3,
   "metadata": {
    "pycharm": {
     "is_executing": true
    }
   },
   "outputs": [
    {
     "name": "stdout",
     "output_type": "stream",
     "text": [
      "START POST OPTIMIZATION\n",
      "{0: [(8.5, 6.6), 'nicht parkend', [], [8.335]], 1: [(8.5, 5.0), 'nicht parkend', [], [6.7475000000000005]], 2: [(8.5, 6.9), 'nicht parkend', [], [8.457500000000001]], 3: [(9.5, 4.5), 'nicht parkend', [], [6.4975000000000005]], 4: [(8.0, 3.4), 'nicht parkend', [], [4.0075]], 5: [(8.5, 3.6), 'nicht parkend', [], [5.1475]], 6: [(12.5, 3.5), 'nicht parkend', [], [3.0925000000000002]], 7: [(9.5, 3.0), 'nicht parkend', [], [4.795]], 8: [(13.0, 3.0), 'nicht parkend', [], [2.4350000000000005]], 9: [(13.0, 3.0), 'nicht parkend', [], [2.4350000000000005]], 10: [(13.0, 3.0), 'nicht parkend', [], [2.4350000000000005]], 11: [(8.0, 4.6), 'nicht parkend', [], [6.090000000000001]], 12: [(13.0, 3.0), 'nicht parkend', [], [2.4350000000000005]], 13: [(8.0, 7.7), 'nicht parkend', [], [8.735000000000003]], 14: [(8.5, 3.3), 'nicht parkend', [], [4.71]], 15: [(13.5, 2.5), 'nicht parkend', [], [1.935]], 16: [(8.5, 4.4), 'nicht parkend', [], [6.2475000000000005]], 17: [(9.0, 6.4), 'nicht parkend', [], [8.145000000000001]], 18: [(12.5, 3.5), 'nicht parkend', [], [3.0925000000000002]], 19: [(8.0, 6.1), 'nicht parkend', [], [7.725000000000001]], 20: [(8.0, 6.1), 'nicht parkend', [], [7.725000000000001]], 21: [(8.5, 4.1), 'nicht parkend', [], [5.9275]], 22: [(12.5, 3.5), 'nicht parkend', [], [3.0925000000000002]], 23: [(12.5, 3.5), 'nicht parkend', [], [3.0925000000000002]], 24: [(8.0, 6.1), 'nicht parkend', [], [7.725000000000001]], 25: [(8.5, 3.6), 'nicht parkend', [], [5.1475]], 26: [(8.5, 7.5), 'nicht parkend', [], [8.682500000000001]], 27: [(8.5, 4.4), 'nicht parkend', [], [6.2475000000000005]], 28: [(8.5, 7.1), 'nicht parkend', [], [8.572500000000002]], 29: [(9.0, 4.1), 'nicht parkend', [], [6.1775]], 30: [(8.0, 4.0), 'nicht parkend', [], [4.8725000000000005]], 31: [(13.0, 3.0), 'nicht parkend', [], [2.4350000000000005]], 32: [(9.0, 6.6), 'nicht parkend', [], [8.260000000000002]], 33: [(8.5, 5.6), 'nicht parkend', [], [7.5625]], 34: [(13.0, 3.0), 'nicht parkend', [], [2.4350000000000005]], 35: [(8.0, 7.8), 'nicht parkend', [], [8.845000000000002]], 36: [(12.5, 3.5), 'nicht parkend', [], [3.0925000000000002]], 37: [(9.0, 6.5), 'nicht parkend', [], [8.145000000000001]], 38: [(8.0, 7.9), 'nicht parkend', [], [8.845000000000002]], 39: [(9.5, 6.4), 'nicht parkend', [], [7.8875]], 40: [(13.0, 3.0), 'nicht parkend', [], [2.4350000000000005]], 41: [(13.0, 3.0), 'nicht parkend', [], [2.4350000000000005]], 42: [(9.5, 6.5), 'nicht parkend', [], [7.8875]], 43: [(8.0, 6.7), 'nicht parkend', [], [8.192500000000003]], 44: [(9.0, 6.6), 'nicht parkend', [], [8.260000000000002]], 45: [(13.0, 3.0), 'nicht parkend', [], [2.4350000000000005]], 46: [(13.0, 3.0), 'nicht parkend', [], [2.4350000000000005]], 47: [(12.0, 4.0), 'nicht parkend', [], [3.9725]], 48: [(9.0, 3.1), 'nicht parkend', [], [4.835]], 49: [(12.5, 3.4), 'nicht parkend', [], [3.0925000000000002]]}\n",
      "Waiting BEV list:  []\n",
      "[960, 945, 930, 915, 900, 885, 870, 855, 840, 825, 810, 795, 780, 765, 750, 735, 720, 705, 690, 675, 660, 645, 630, 615, 600, 585, 570, 555, 540, 525, 510, 495, 480]\n",
      "\n",
      "\n",
      "Minute:  960\n",
      "Waiting BEVs (after updating new waiting BEVs):  [6, 8, 9, 10, 12, 15, 18, 22, 23, 26, 31, 34, 36, 40, 41, 42, 45, 46, 47]\n",
      "Charging BEVs:  []\n",
      "Waiting BEVs:  [6, 8, 9, 10, 12, 15, 18, 22, 23, 26, 31, 34, 36, 40, 41, 42, 45, 46, 47]\n",
      "CALCULATE NUMBER OF CHARGING STATIONS\n",
      "Number of charging stations:  1\n",
      "CALCULATE NUMBER OF CHARGING STATIONS\n",
      "Number of charging stations:  1\n",
      "NUMBER OF FREE CHARGING STATIONS:  1\n",
      "CALCULATE NUMBER OF CHARGING STATIONS\n",
      "Number of charging stations:  1\n",
      "AVAILABLE SOLAR POWER:  10.12\n",
      "Restladeenergie bis zur fairen Ladeenergie for BEV mit ID 6:  3.0925000000000002\n",
      "Restladezeit:  18.334980237154152\n",
      "Charging BEVs:  [6]\n",
      "\n",
      "\n",
      "Minute:  945\n",
      "Waiting BEVs (after updating new waiting BEVs):  [8, 9, 10, 12, 15, 18, 22, 23, 26, 31, 34, 36, 40, 41, 42, 45, 46, 47]\n",
      "Charging BEVs:  [6]\n",
      "Waiting BEVs:  [8, 9, 10, 12, 15, 18, 22, 23, 26, 31, 34, 36, 40, 41, 42, 45, 46, 47]\n",
      "Ladezeit = 15 für ID BEV 6\n",
      "Ladezeit = 15 für ID BEV 6\n",
      "CALCULATE NUMBER OF CHARGING STATIONS\n",
      "Number of charging stations:  2\n",
      "CALCULATE NUMBER OF CHARGING STATIONS\n",
      "Number of charging stations:  2\n",
      "NUMBER OF FREE CHARGING STATIONS:  1\n",
      "CALCULATE NUMBER OF CHARGING STATIONS\n",
      "Number of charging stations:  2\n",
      "AVAILABLE SOLAR POWER:  12.38\n",
      "Restladeenergie bis zur fairen Ladeenergie for BEV mit ID 6:  0.5625000000000004\n",
      "Restladezeit:  5.452342487883687\n",
      "Die Restladezeit des BEVS 6 endet vor dem nächsten Interval\n",
      "Ausgewähltes BEV das frei gewordenen Platz belegen darf:  9\n",
      "Ladestart für ausgewähltes BEV:  939.5476575121163\n",
      "6.19 CHARGING POWER WIRD FÜR NEUES BEV 9 GESPEICHERT: \n",
      "ZEITPUNKT FÜR DAS ES GESPEICHERT WIRD:  939.5476575121163\n",
      "AVAILABLE SOLAR POWER:  12.38\n",
      "Restladeenergie bis zur fairen Ladeenergie for BEV mit ID 8:  2.4350000000000005\n",
      "Restladezeit:  23.60258481421648\n",
      "Charging BEVs:  [6, 8]\n",
      "\n",
      "\n",
      "Minute:  930\n",
      "Waiting BEVs (after updating new waiting BEVs):  [10, 12, 15, 18, 22, 23, 26, 31, 34, 36, 40, 41, 42, 45, 46, 47, 37]\n",
      "Charging BEVs:  [8, 9]\n",
      "Waiting BEVs:  [10, 12, 15, 18, 22, 23, 26, 31, 34, 36, 40, 41, 42, 45, 46, 47, 37]\n",
      "Ladezeit = 15 für ID BEV 8\n",
      "Ladezeit = 9.547657512116302 für ID BEV 9\n",
      "Ladezeit = 15 für ID BEV 8\n",
      "Ladezeit = 9.547657512116302 für ID BEV 9\n",
      "CALCULATE NUMBER OF CHARGING STATIONS\n",
      "Number of charging stations:  2\n",
      "CALCULATE NUMBER OF CHARGING STATIONS\n",
      "Number of charging stations:  2\n",
      "AVAILABLE SOLAR POWER:  14.62\n",
      "Restladeenergie bis zur fairen Ladeenergie for BEV mit ID 8:  0.8875000000000004\n",
      "Restladezeit:  7.284541723666214\n",
      "Die Restladezeit des BEVS 8 endet vor dem nächsten Interval\n",
      "Ausgewähltes BEV das frei gewordenen Platz belegen darf:  10\n",
      "Ladestart für ausgewähltes BEV:  922.7154582763338\n",
      "7.31 CHARGING POWER WIRD FÜR NEUES BEV 10 GESPEICHERT: \n",
      "ZEITPUNKT FÜR DAS ES GESPEICHERT WIRD:  922.7154582763338\n",
      "AVAILABLE SOLAR POWER:  14.62\n",
      "Restladeenergie bis zur fairen Ladeenergie for BEV mit ID 9:  1.450000000000002\n",
      "Restladezeit:  11.901504787961713\n",
      "Die Restladezeit des BEVS 9 endet vor dem nächsten Interval\n",
      "Ausgewähltes BEV das frei gewordenen Platz belegen darf:  12\n",
      "Ladestart für ausgewähltes BEV:  918.0984952120383\n",
      "7.31 CHARGING POWER WIRD FÜR NEUES BEV 12 GESPEICHERT: \n",
      "ZEITPUNKT FÜR DAS ES GESPEICHERT WIRD:  918.0984952120383\n",
      "Charging BEVs:  [8, 9]\n",
      "\n",
      "\n",
      "Minute:  915\n",
      "Waiting BEVs (after updating new waiting BEVs):  [15, 18, 22, 23, 26, 31, 34, 36, 40, 41, 42, 45, 46, 47, 37]\n",
      "Charging BEVs:  [10, 12]\n",
      "Waiting BEVs:  [15, 18, 22, 23, 26, 31, 34, 36, 40, 41, 42, 45, 46, 47, 37]\n",
      "Ladezeit = 7.715458276333834 für ID BEV 10\n",
      "Ladezeit = 3.0984952120383014 für ID BEV 12\n",
      "Ladezeit = 7.715458276333834 für ID BEV 10\n",
      "Ladezeit = 3.0984952120383014 für ID BEV 12\n",
      "CALCULATE NUMBER OF CHARGING STATIONS\n",
      "Number of charging stations:  2\n",
      "CALCULATE NUMBER OF CHARGING STATIONS\n",
      "Number of charging stations:  2\n",
      "AVAILABLE SOLAR POWER:  16.88\n",
      "Restladeenergie bis zur fairen Ladeenergie for BEV mit ID 10:  1.4949999999999952\n",
      "Restladezeit:  10.627962085308024\n",
      "Die Restladezeit des BEVS 10 endet vor dem nächsten Interval\n",
      "Ausgewähltes BEV das frei gewordenen Platz belegen darf:  15\n",
      "Ladestart für ausgewähltes BEV:  904.372037914692\n",
      "8.44 CHARGING POWER WIRD FÜR NEUES BEV 15 GESPEICHERT: \n",
      "ZEITPUNKT FÜR DAS ES GESPEICHERT WIRD:  904.372037914692\n",
      "AVAILABLE SOLAR POWER:  16.88\n",
      "Restladeenergie bis zur fairen Ladeenergie for BEV mit ID 12:  2.057500000000001\n",
      "Restladezeit:  14.62677725118484\n",
      "Die Restladezeit des BEVS 12 endet vor dem nächsten Interval\n",
      "Ausgewähltes BEV das frei gewordenen Platz belegen darf:  18\n",
      "Ladestart für ausgewähltes BEV:  900.3732227488151\n",
      "8.44 CHARGING POWER WIRD FÜR NEUES BEV 18 GESPEICHERT: \n",
      "ZEITPUNKT FÜR DAS ES GESPEICHERT WIRD:  900.3732227488151\n",
      "Charging BEVs:  [10, 12]\n",
      "\n",
      "\n",
      "Minute:  900\n",
      "Waiting BEVs (after updating new waiting BEVs):  [22, 23, 26, 31, 34, 36, 40, 41, 42, 45, 46, 47, 37]\n",
      "Charging BEVs:  [15, 18]\n",
      "Waiting BEVs:  [22, 23, 26, 31, 34, 36, 40, 41, 42, 45, 46, 47, 37]\n",
      "Ladezeit = 4.372037914691987 für ID BEV 15\n",
      "Ladezeit = 0.37322274881512385 für ID BEV 18\n",
      "Ladezeit = 4.372037914691987 für ID BEV 15\n",
      "Ladezeit = 0.37322274881512385 für ID BEV 18\n",
      "CALCULATE NUMBER OF CHARGING STATIONS\n",
      "Number of charging stations:  2\n",
      "CALCULATE NUMBER OF CHARGING STATIONS\n",
      "Number of charging stations:  2\n",
      "AVAILABLE SOLAR POWER:  21.0\n",
      "Restladeenergie bis zur fairen Ladeenergie for BEV mit ID 15:  1.319999999999994\n",
      "Restladezeit:  7.542857142857108\n",
      "Die Restladezeit des BEVS 15 endet vor dem nächsten Interval\n",
      "Ausgewähltes BEV das frei gewordenen Platz belegen darf:  22\n",
      "Ladestart für ausgewähltes BEV:  892.4571428571429\n",
      "10.5 CHARGING POWER WIRD FÜR NEUES BEV 22 GESPEICHERT: \n",
      "ZEITPUNKT FÜR DAS ES GESPEICHERT WIRD:  892.4571428571429\n",
      "AVAILABLE SOLAR POWER:  21.0\n",
      "Restladeenergie bis zur fairen Ladeenergie for BEV mit ID 18:  3.0400000000000063\n",
      "Restladezeit:  17.37142857142861\n",
      "Charging BEVs:  [15, 18]\n",
      "\n",
      "\n",
      "Minute:  885\n",
      "Waiting BEVs (after updating new waiting BEVs):  [23, 26, 31, 34, 36, 40, 41, 42, 45, 46, 47, 37]\n",
      "Charging BEVs:  [18, 22]\n",
      "Waiting BEVs:  [23, 26, 31, 34, 36, 40, 41, 42, 45, 46, 47, 37]\n",
      "Ladezeit = 15.373222748815124 für ID BEV 18\n",
      "Ladezeit = 7.457142857142912 für ID BEV 22\n",
      "Ladezeit = 15.373222748815124 für ID BEV 18\n",
      "Ladezeit = 7.457142857142912 für ID BEV 22\n",
      "CALCULATE NUMBER OF CHARGING STATIONS\n",
      "Number of charging stations:  3\n",
      "CALCULATE NUMBER OF CHARGING STATIONS\n",
      "Number of charging stations:  3\n",
      "NUMBER OF FREE CHARGING STATIONS:  1\n",
      "CALCULATE NUMBER OF CHARGING STATIONS\n",
      "Number of charging stations:  3\n"
     ]
    },
    {
     "name": "stdout",
     "output_type": "stream",
     "text": [
      "AVAILABLE SOLAR POWER:  27.0\n",
      "Restladeenergie bis zur fairen Ladeenergie for BEV mit ID 18:  2.9746860189573594\n",
      "Restladezeit:  19.831240126382397\n",
      "AVAILABLE SOLAR POWER:  27.0\n",
      "Restladeenergie bis zur fairen Ladeenergie for BEV mit ID 22:  1.7874999999999905\n",
      "Restladezeit:  11.916666666666604\n",
      "Die Restladezeit des BEVS 22 endet vor dem nächsten Interval\n",
      "Ausgewähltes BEV das frei gewordenen Platz belegen darf:  26\n",
      "Ladestart für ausgewähltes BEV:  873.0833333333334\n",
      "9.0 CHARGING POWER WIRD FÜR NEUES BEV 26 GESPEICHERT: \n",
      "ZEITPUNKT FÜR DAS ES GESPEICHERT WIRD:  873.0833333333334\n",
      "AVAILABLE SOLAR POWER:  27.0\n",
      "Restladeenergie bis zur fairen Ladeenergie for BEV mit ID 23:  3.0925000000000002\n",
      "Restladezeit:  20.616666666666667\n",
      "Charging BEVs:  [18, 22, 23]\n",
      "\n",
      "\n",
      "Minute:  870\n",
      "Waiting BEVs (after updating new waiting BEVs):  [31, 34, 36, 40, 41, 42, 45, 46, 47, 37]\n",
      "Charging BEVs:  [18, 23, 26]\n",
      "Waiting BEVs:  [31, 34, 36, 40, 41, 42, 45, 46, 47, 37]\n",
      "Ladezeit = 30.373222748815124 für ID BEV 18\n",
      "Ladezeit = 15 für ID BEV 23\n",
      "Ladezeit = 3.0833333333333712 für ID BEV 26\n",
      "Ladezeit = 30.373222748815124 für ID BEV 18\n",
      "Ladezeit = 15 für ID BEV 23\n",
      "Ladezeit = 3.0833333333333712 für ID BEV 26\n",
      "CALCULATE NUMBER OF CHARGING STATIONS\n",
      "Number of charging stations:  3\n",
      "CALCULATE NUMBER OF CHARGING STATIONS\n",
      "Number of charging stations:  3\n",
      "AVAILABLE SOLAR POWER:  33.0\n",
      "Restladeenergie bis zur fairen Ladeenergie for BEV mit ID 18:  2.9187026066350907\n",
      "Restladezeit:  15.920196036191406\n",
      "AVAILABLE SOLAR POWER:  33.0\n",
      "Restladeenergie bis zur fairen Ladeenergie for BEV mit ID 23:  0.8425000000000002\n",
      "Restladezeit:  4.595454545454547\n",
      "Die Restladezeit des BEVS 23 endet vor dem nächsten Interval\n",
      "Ausgewähltes BEV das frei gewordenen Platz belegen darf:  31\n",
      "Ladestart für ausgewähltes BEV:  865.4045454545454\n",
      "11.0 CHARGING POWER WIRD FÜR NEUES BEV 31 GESPEICHERT: \n",
      "ZEITPUNKT FÜR DAS ES GESPEICHERT WIRD:  865.4045454545454\n",
      "AVAILABLE SOLAR POWER:  33.0\n",
      "Restladeenergie bis zur fairen Ladeenergie for BEV mit ID 26:  8.219999999999995\n",
      "Restladezeit:  44.836363636363615\n",
      "Charging BEVs:  [18, 23, 26]\n",
      "\n",
      "\n",
      "Minute:  855\n",
      "Waiting BEVs (after updating new waiting BEVs):  [34, 36, 40, 41, 42, 45, 46, 47, 37]\n",
      "Charging BEVs:  [18, 26, 31]\n",
      "Waiting BEVs:  [34, 36, 40, 41, 42, 45, 46, 47, 37]\n",
      "Ladezeit = 45.373222748815124 für ID BEV 18\n",
      "Ladezeit = 18.08333333333337 für ID BEV 26\n",
      "Ladezeit = 10.404545454545428 für ID BEV 31\n",
      "Ladezeit = 45.373222748815124 für ID BEV 18\n",
      "Ladezeit = 18.08333333333337 für ID BEV 26\n",
      "Ladezeit = 10.404545454545428 für ID BEV 31\n",
      "CALCULATE NUMBER OF CHARGING STATIONS\n",
      "Number of charging stations:  4\n",
      "CALCULATE NUMBER OF CHARGING STATIONS\n",
      "Number of charging stations:  4\n",
      "NUMBER OF FREE CHARGING STATIONS:  1\n",
      "CALCULATE NUMBER OF CHARGING STATIONS\n",
      "Number of charging stations:  4\n",
      "AVAILABLE SOLAR POWER:  39.0\n",
      "Restladeenergie bis zur fairen Ladeenergie for BEV mit ID 18:  2.850278436018985\n",
      "Restladezeit:  17.54017499088606\n",
      "AVAILABLE SOLAR POWER:  39.0\n",
      "Restladeenergie bis zur fairen Ladeenergie for BEV mit ID 26:  7.654722222222211\n",
      "Restladezeit:  47.10598290598284\n",
      "AVAILABLE SOLAR POWER:  39.0\n",
      "Restladeenergie bis zur fairen Ladeenergie for BEV mit ID 31:  0.5275000000000054\n",
      "Restladezeit:  3.2461538461538795\n",
      "Die Restladezeit des BEVS 31 endet vor dem nächsten Interval\n",
      "Ausgewähltes BEV das frei gewordenen Platz belegen darf:  36\n",
      "Ladestart für ausgewähltes BEV:  851.7538461538461\n",
      "9.75 CHARGING POWER WIRD FÜR NEUES BEV 36 GESPEICHERT: \n",
      "ZEITPUNKT FÜR DAS ES GESPEICHERT WIRD:  851.7538461538461\n",
      "AVAILABLE SOLAR POWER:  39.0\n",
      "Restladeenergie bis zur fairen Ladeenergie for BEV mit ID 34:  2.4350000000000005\n",
      "Restladezeit:  14.984615384615388\n",
      "Die Restladezeit des BEVS 34 endet vor dem nächsten Interval\n",
      "Ausgewähltes BEV das frei gewordenen Platz belegen darf:  40\n",
      "Ladestart für ausgewähltes BEV:  840.0153846153846\n",
      "9.75 CHARGING POWER WIRD FÜR NEUES BEV 40 GESPEICHERT: \n",
      "ZEITPUNKT FÜR DAS ES GESPEICHERT WIRD:  840.0153846153846\n",
      "Charging BEVs:  [18, 26, 31, 34]\n",
      "\n",
      "\n",
      "Minute:  840\n",
      "Waiting BEVs (after updating new waiting BEVs):  [41, 42, 45, 46, 47, 37, 3]\n",
      "Charging BEVs:  [18, 26, 36, 40]\n",
      "Waiting BEVs:  [41, 42, 45, 46, 47, 37, 3]\n",
      "Ladezeit = 60.373222748815124 für ID BEV 18\n",
      "Ladezeit = 33.08333333333337 für ID BEV 26\n",
      "Ladezeit = 11.753846153846098 für ID BEV 36\n",
      "Ladezeit = 0.015384615384618883 für ID BEV 40\n",
      "Ladezeit = 60.373222748815124 für ID BEV 18\n",
      "Ladezeit = 33.08333333333337 für ID BEV 26\n",
      "Ladezeit = 11.753846153846098 für ID BEV 36\n",
      "Ladezeit = 0.015384615384618883 für ID BEV 40\n",
      "CALCULATE NUMBER OF CHARGING STATIONS\n",
      "Number of charging stations:  4\n",
      "CALCULATE NUMBER OF CHARGING STATIONS\n",
      "Number of charging stations:  4\n",
      "AVAILABLE SOLAR POWER:  41.25\n",
      "Restladeenergie bis zur fairen Ladeenergie for BEV mit ID 18:  2.7896297393365272\n",
      "Restladezeit:  16.230573028867067\n",
      "AVAILABLE SOLAR POWER:  41.25\n",
      "Restladeenergie bis zur fairen Ladeenergie for BEV mit ID 26:  7.153680555555538\n",
      "Restladezeit:  41.62141414141404\n",
      "AVAILABLE SOLAR POWER:  41.25\n",
      "Restladeenergie bis zur fairen Ladeenergie for BEV mit ID 36:  1.1825000000000092\n",
      "Restladezeit:  6.880000000000053\n",
      "Die Restladezeit des BEVS 36 endet vor dem nächsten Interval\n",
      "Ausgewähltes BEV das frei gewordenen Platz belegen darf:  41\n",
      "Ladestart für ausgewähltes BEV:  833.1199999999999\n",
      "10.3125 CHARGING POWER WIRD FÜR NEUES BEV 41 GESPEICHERT: \n",
      "ZEITPUNKT FÜR DAS ES GESPEICHERT WIRD:  833.1199999999999\n",
      "AVAILABLE SOLAR POWER:  41.25\n",
      "Restladeenergie bis zur fairen Ladeenergie for BEV mit ID 40:  2.4325\n",
      "Restladezeit:  14.152727272727272\n",
      "Die Restladezeit des BEVS 40 endet vor dem nächsten Interval\n",
      "Ausgewähltes BEV das frei gewordenen Platz belegen darf:  42\n",
      "Ladestart für ausgewähltes BEV:  825.8472727272728\n",
      "10.3125 CHARGING POWER WIRD FÜR NEUES BEV 42 GESPEICHERT: \n",
      "ZEITPUNKT FÜR DAS ES GESPEICHERT WIRD:  825.8472727272728\n",
      "Charging BEVs:  [18, 26, 36, 40]\n",
      "\n",
      "\n",
      "Minute:  825\n",
      "Waiting BEVs (after updating new waiting BEVs):  [45, 46, 47, 37, 3]\n",
      "Charging BEVs:  [18, 26, 41, 42]\n",
      "Waiting BEVs:  [45, 46, 47, 37, 3]\n",
      "Ladezeit = 75.37322274881512 für ID BEV 18\n",
      "Ladezeit = 48.08333333333337 für ID BEV 26\n",
      "Ladezeit = 8.11999999999989 für ID BEV 41\n",
      "Ladezeit = 0.8472727272727525 für ID BEV 42\n",
      "Ladezeit = 75.37322274881512 für ID BEV 18\n",
      "Ladezeit = 48.08333333333337 für ID BEV 26\n",
      "Ladezeit = 8.11999999999989 für ID BEV 41\n",
      "Ladezeit = 0.8472727272727525 für ID BEV 42\n",
      "CALCULATE NUMBER OF CHARGING STATIONS\n",
      "Number of charging stations:  4\n",
      "CALCULATE NUMBER OF CHARGING STATIONS\n",
      "Number of charging stations:  4\n",
      "AVAILABLE SOLAR POWER:  39.75\n",
      "Restladeenergie bis zur fairen Ladeenergie for BEV mit ID 18:  2.725482079383928\n",
      "Restladezeit:  16.455740856657677\n",
      "AVAILABLE SOLAR POWER:  39.75\n",
      "Restladeenergie bis zur fairen Ladeenergie for BEV mit ID 26:  6.623732638888865\n",
      "Restladezeit:  39.9923480083856\n",
      "AVAILABLE SOLAR POWER:  39.75\n",
      "Restladeenergie bis zur fairen Ladeenergie for BEV mit ID 41:  1.0393750000000195\n",
      "Restladezeit:  6.275471698113325\n",
      "Die Restladezeit des BEVS 41 endet vor dem nächsten Interval\n",
      "Ausgewähltes BEV das frei gewordenen Platz belegen darf:  45\n",
      "Ladestart für ausgewähltes BEV:  818.7245283018867\n",
      "9.9375 CHARGING POWER WIRD FÜR NEUES BEV 45 GESPEICHERT: \n",
      "ZEITPUNKT FÜR DAS ES GESPEICHERT WIRD:  818.7245283018867\n",
      "AVAILABLE SOLAR POWER:  39.75\n",
      "Restladeenergie bis zur fairen Ladeenergie for BEV mit ID 42:  7.741874999999996\n",
      "Restladezeit:  46.743396226415065\n",
      "Charging BEVs:  [18, 26, 41, 42]\n",
      "\n",
      "\n",
      "Minute:  810\n",
      "Waiting BEVs (after updating new waiting BEVs):  [46, 47, 37, 3, 1]\n",
      "Charging BEVs:  [18, 26, 42, 45]\n",
      "Waiting BEVs:  [46, 47, 37, 3, 1]\n",
      "Ladezeit = 90.37322274881512 für ID BEV 18\n",
      "Ladezeit = 63.08333333333337 für ID BEV 26\n",
      "Ladezeit = 15.847272727272752 für ID BEV 42\n",
      "Ladezeit = 8.724528301886721 für ID BEV 45\n",
      "Ladezeit = 90.37322274881512 für ID BEV 18\n",
      "Ladezeit = 63.08333333333337 für ID BEV 26\n",
      "Ladezeit = 15.847272727272752 für ID BEV 42\n",
      "Ladezeit = 8.724528301886721 für ID BEV 45\n",
      "CALCULATE NUMBER OF CHARGING STATIONS\n",
      "Number of charging stations:  4\n",
      "CALCULATE NUMBER OF CHARGING STATIONS\n",
      "Number of charging stations:  4\n",
      "AVAILABLE SOLAR POWER:  38.25\n",
      "Restladeenergie bis zur fairen Ladeenergie for BEV mit ID 18:  2.663667061611423\n",
      "Restladezeit:  16.71320509246383\n",
      "AVAILABLE SOLAR POWER:  38.25\n",
      "Restladeenergie bis zur fairen Ladeenergie for BEV mit ID 26:  6.113055555555525\n",
      "Restladezeit:  38.356427015250354\n",
      "AVAILABLE SOLAR POWER:  38.25\n",
      "Restladeenergie bis zur fairen Ladeenergie for BEV mit ID 42:  7.601545454545446\n",
      "Restladezeit:  47.69597147950084\n",
      "AVAILABLE SOLAR POWER:  38.25\n",
      "Restladeenergie bis zur fairen Ladeenergie for BEV mit ID 45:  0.9900000000000124\n",
      "Restladezeit:  6.211764705882431\n",
      "Die Restladezeit des BEVS 45 endet vor dem nächsten Interval\n",
      "Ausgewähltes BEV das frei gewordenen Platz belegen darf:  46\n",
      "Ladestart für ausgewähltes BEV:  803.7882352941176\n",
      "9.5625 CHARGING POWER WIRD FÜR NEUES BEV 46 GESPEICHERT: \n",
      "ZEITPUNKT FÜR DAS ES GESPEICHERT WIRD:  803.7882352941176\n",
      "Charging BEVs:  [18, 26, 42, 45]\n",
      "\n",
      "\n",
      "Minute:  795\n",
      "Waiting BEVs (after updating new waiting BEVs):  [47, 37, 3, 1]\n",
      "Charging BEVs:  [18, 26, 42, 46]\n",
      "Waiting BEVs:  [47, 37, 3, 1]\n",
      "Ladezeit = 105.37322274881512 für ID BEV 18\n",
      "Ladezeit = 78.08333333333337 für ID BEV 26\n",
      "Ladezeit = 30.847272727272752 für ID BEV 42\n",
      "Ladezeit = 8.788235294117612 für ID BEV 46\n",
      "Ladezeit = 105.37322274881512 für ID BEV 18\n",
      "Ladezeit = 78.08333333333337 für ID BEV 26\n",
      "Ladezeit = 30.847272727272752 für ID BEV 42\n",
      "Ladezeit = 8.788235294117612 für ID BEV 46\n",
      "CALCULATE NUMBER OF CHARGING STATIONS\n",
      "Number of charging stations:  4\n",
      "CALCULATE NUMBER OF CHARGING STATIONS\n",
      "Number of charging stations:  4\n",
      "AVAILABLE SOLAR POWER:  36.75\n",
      "Restladeenergie bis zur fairen Ladeenergie for BEV mit ID 18:  2.6041846860190128\n",
      "Restladezeit:  17.00692039849151\n",
      "AVAILABLE SOLAR POWER:  36.75\n",
      "Restladeenergie bis zur fairen Ladeenergie for BEV mit ID 26:  5.621649305555519\n",
      "Restladezeit:  36.71281179138298\n",
      "AVAILABLE SOLAR POWER:  36.75\n",
      "Restladeenergie bis zur fairen Ladeenergie for BEV mit ID 42:  7.466511363636351\n",
      "Restladezeit:  48.760890538033316\n",
      "AVAILABLE SOLAR POWER:  36.75\n",
      "Restladeenergie bis zur fairen Ladeenergie for BEV mit ID 46:  1.034375000000006\n",
      "Restladezeit:  6.755102040816366\n",
      "Die Restladezeit des BEVS 46 endet vor dem nächsten Interval\n",
      "Ausgewähltes BEV das frei gewordenen Platz belegen darf:  47\n",
      "Ladestart für ausgewähltes BEV:  788.2448979591836\n",
      "9.1875 CHARGING POWER WIRD FÜR NEUES BEV 47 GESPEICHERT: \n",
      "ZEITPUNKT FÜR DAS ES GESPEICHERT WIRD:  788.2448979591836\n",
      "Charging BEVs:  [18, 26, 42, 46]\n",
      "\n",
      "\n",
      "Minute:  780\n",
      "Waiting BEVs (after updating new waiting BEVs):  [37, 3, 1]\n",
      "Charging BEVs:  [18, 26, 42, 47]\n",
      "Waiting BEVs:  [37, 3, 1]\n",
      "Ladezeit = 120.37322274881512 für ID BEV 18\n",
      "Ladezeit = 93.08333333333337 für ID BEV 26\n",
      "Ladezeit = 45.84727272727275 für ID BEV 42\n",
      "Ladezeit = 8.244897959183618 für ID BEV 47\n",
      "Ladezeit = 120.37322274881512 für ID BEV 18\n",
      "Ladezeit = 93.08333333333337 für ID BEV 26\n",
      "Ladezeit = 45.84727272727275 für ID BEV 42\n",
      "Ladezeit = 8.244897959183618 für ID BEV 47\n",
      "CALCULATE NUMBER OF CHARGING STATIONS\n",
      "Number of charging stations:  4\n",
      "CALCULATE NUMBER OF CHARGING STATIONS\n",
      "Number of charging stations:  4\n"
     ]
    },
    {
     "name": "stdout",
     "output_type": "stream",
     "text": [
      "AVAILABLE SOLAR POWER:  38.38\n",
      "Restladeenergie bis zur fairen Ladeenergie for BEV mit ID 18:  2.5470349526066967\n",
      "Restladezeit:  15.927263903741718\n",
      "AVAILABLE SOLAR POWER:  38.38\n",
      "Restladeenergie bis zur fairen Ladeenergie for BEV mit ID 26:  5.149513888888847\n",
      "Restladezeit:  32.2012332812226\n",
      "AVAILABLE SOLAR POWER:  38.38\n",
      "Restladeenergie bis zur fairen Ladeenergie for BEV mit ID 42:  7.336772727272711\n",
      "Restladezeit:  45.87872471457662\n",
      "AVAILABLE SOLAR POWER:  38.38\n",
      "Restladeenergie bis zur fairen Ladeenergie for BEV mit ID 47:  2.710000000000009\n",
      "Restladezeit:  16.94632621156858\n",
      "Charging BEVs:  [18, 26, 42, 47]\n",
      "\n",
      "\n",
      "Minute:  765\n",
      "Waiting BEVs (after updating new waiting BEVs):  [37, 3, 1]\n",
      "Charging BEVs:  [18, 26, 42, 47]\n",
      "Waiting BEVs:  [37, 3, 1]\n",
      "Ladezeit = 135.37322274881512 für ID BEV 18\n",
      "Ladezeit = 108.08333333333337 für ID BEV 26\n",
      "Ladezeit = 60.84727272727275 für ID BEV 42\n",
      "Ladezeit = 23.244897959183618 für ID BEV 47\n",
      "Ladezeit = 135.37322274881512 für ID BEV 18\n",
      "Ladezeit = 108.08333333333337 für ID BEV 26\n",
      "Ladezeit = 60.84727272727275 für ID BEV 42\n",
      "Ladezeit = 23.244897959183618 für ID BEV 47\n",
      "CALCULATE NUMBER OF CHARGING STATIONS\n",
      "Number of charging stations:  4\n",
      "CALCULATE NUMBER OF CHARGING STATIONS\n",
      "Number of charging stations:  4\n",
      "AVAILABLE SOLAR POWER:  43.12\n",
      "Restladeenergie bis zur fairen Ladeenergie for BEV mit ID 18:  2.4873504146920116\n",
      "Restladezeit:  13.844250916653126\n",
      "Die Restladezeit des BEVS 18 endet vor dem nächsten Interval\n",
      "Ausgewähltes BEV das frei gewordenen Platz belegen darf:  37\n",
      "Ladestart für ausgewähltes BEV:  751.1557490833469\n",
      "10.78 CHARGING POWER WIRD FÜR NEUES BEV 37 GESPEICHERT: \n",
      "ZEITPUNKT FÜR DAS ES GESPEICHERT WIRD:  751.1557490833469\n",
      "AVAILABLE SOLAR POWER:  43.12\n",
      "Restladeenergie bis zur fairen Ladeenergie for BEV mit ID 26:  4.656437499999952\n",
      "Restladezeit:  25.91709183673443\n",
      "AVAILABLE SOLAR POWER:  43.12\n",
      "Restladeenergie bis zur fairen Ladeenergie for BEV mit ID 42:  7.201279696969676\n",
      "Restladezeit:  40.08133412042491\n",
      "AVAILABLE SOLAR POWER:  43.12\n",
      "Restladeenergie bis zur fairen Ladeenergie for BEV mit ID 47:  1.3915034013605618\n",
      "Restladezeit:  7.744916890689584\n",
      "Die Restladezeit des BEVS 47 endet vor dem nächsten Interval\n",
      "Ausgewähltes BEV das frei gewordenen Platz belegen darf:  3\n",
      "Ladestart für ausgewähltes BEV:  757.2550831093104\n",
      "10.78 CHARGING POWER WIRD FÜR NEUES BEV 3 GESPEICHERT: \n",
      "ZEITPUNKT FÜR DAS ES GESPEICHERT WIRD:  757.2550831093104\n",
      "Charging BEVs:  [18, 26, 42, 47]\n",
      "\n",
      "\n",
      "Minute:  750\n",
      "Waiting BEVs (after updating new waiting BEVs):  [1, 7]\n",
      "Charging BEVs:  [26, 42, 37, 3]\n",
      "Waiting BEVs:  [1, 7]\n",
      "Ladezeit = 123.08333333333337 für ID BEV 26\n",
      "Ladezeit = 75.84727272727275 für ID BEV 42\n",
      "Ladezeit = 1.1557490833469046 für ID BEV 37\n",
      "Ladezeit = 7.2550831093103625 für ID BEV 3\n",
      "Ladezeit = 123.08333333333337 für ID BEV 26\n",
      "Ladezeit = 75.84727272727275 für ID BEV 42\n",
      "Ladezeit = 1.1557490833469046 für ID BEV 37\n",
      "Ladezeit = 7.2550831093103625 für ID BEV 3\n",
      "CALCULATE NUMBER OF CHARGING STATIONS\n",
      "Number of charging stations:  5\n",
      "CALCULATE NUMBER OF CHARGING STATIONS\n",
      "Number of charging stations:  5\n",
      "NUMBER OF FREE CHARGING STATIONS:  1\n",
      "CALCULATE NUMBER OF CHARGING STATIONS\n",
      "Number of charging stations:  5\n",
      "AVAILABLE SOLAR POWER:  47.88\n",
      "Restladeenergie bis zur fairen Ladeenergie for BEV mit ID 26:  4.102465277777723\n",
      "Restladezeit:  25.70466966026142\n",
      "AVAILABLE SOLAR POWER:  47.88\n",
      "Restladeenergie bis zur fairen Ladeenergie for BEV mit ID 42:  7.049053030303005\n",
      "Restladezeit:  44.166998936735624\n",
      "AVAILABLE SOLAR POWER:  47.88\n",
      "Restladeenergie bis zur fairen Ladeenergie for BEV mit ID 37:  7.937350414692007\n",
      "Restladezeit:  49.73277202187974\n",
      "AVAILABLE SOLAR POWER:  47.88\n",
      "Restladeenergie bis zur fairen Ladeenergie for BEV mit ID 3:  5.194003401360572\n",
      "Restladezeit:  32.54388096090584\n",
      "AVAILABLE SOLAR POWER:  47.88\n",
      "Restladeenergie bis zur fairen Ladeenergie for BEV mit ID 1:  6.7475000000000005\n",
      "Restladezeit:  42.27756892230577\n",
      "Charging BEVs:  [26, 42, 37, 3, 1]\n",
      "\n",
      "\n",
      "Minute:  735\n",
      "Waiting BEVs (after updating new waiting BEVs):  [7]\n",
      "Charging BEVs:  [26, 42, 37, 3, 1]\n",
      "Waiting BEVs:  [7]\n",
      "Ladezeit = 138.08333333333337 für ID BEV 26\n",
      "Ladezeit = 90.84727272727275 für ID BEV 42\n",
      "Ladezeit = 16.155749083346905 für ID BEV 37\n",
      "Ladezeit = 22.255083109310362 für ID BEV 3\n",
      "Ladezeit = 15 für ID BEV 1\n",
      "Ladezeit = 138.08333333333337 für ID BEV 26\n",
      "Ladezeit = 90.84727272727275 für ID BEV 42\n",
      "Ladezeit = 16.155749083346905 für ID BEV 37\n",
      "Ladezeit = 22.255083109310362 für ID BEV 3\n",
      "Ladezeit = 15 für ID BEV 1\n",
      "CALCULATE NUMBER OF CHARGING STATIONS\n",
      "Number of charging stations:  5\n",
      "CALCULATE NUMBER OF CHARGING STATIONS\n",
      "Number of charging stations:  5\n",
      "AVAILABLE SOLAR POWER:  52.62\n",
      "Restladeenergie bis zur fairen Ladeenergie for BEV mit ID 26:  3.610365277777717\n",
      "Restladezeit:  20.583610477638068\n",
      "AVAILABLE SOLAR POWER:  52.62\n",
      "Restladeenergie bis zur fairen Ladeenergie for BEV mit ID 42:  6.913828303030274\n",
      "Restladezeit:  39.417493175771234\n",
      "AVAILABLE SOLAR POWER:  52.62\n",
      "Restladeenergie bis zur fairen Ladeenergie for BEV mit ID 37:  7.752892860989841\n",
      "Restladezeit:  44.20121357462852\n",
      "AVAILABLE SOLAR POWER:  52.62\n",
      "Restladeenergie bis zur fairen Ladeenergie for BEV mit ID 3:  4.036092137114638\n",
      "Restladezeit:  23.010787554815497\n",
      "AVAILABLE SOLAR POWER:  52.62\n",
      "Restladeenergie bis zur fairen Ladeenergie for BEV mit ID 1:  4.3535\n",
      "Restladezeit:  24.82041049030787\n",
      "Charging BEVs:  [26, 42, 37, 3, 1]\n",
      "\n",
      "\n",
      "Minute:  720\n",
      "Waiting BEVs (after updating new waiting BEVs):  [7, 30]\n",
      "Charging BEVs:  [26, 42, 37, 3, 1]\n",
      "Waiting BEVs:  [7, 30]\n",
      "Ladezeit = 153.08333333333337 für ID BEV 26\n",
      "Ladezeit = 105.84727272727275 für ID BEV 42\n",
      "Ladezeit = 31.155749083346905 für ID BEV 37\n",
      "Ladezeit = 37.25508310931036 für ID BEV 3\n",
      "Ladezeit = 30 für ID BEV 1\n",
      "Ladezeit = 153.08333333333337 für ID BEV 26\n",
      "Ladezeit = 105.84727272727275 für ID BEV 42\n",
      "Ladezeit = 31.155749083346905 für ID BEV 37\n",
      "Ladezeit = 37.25508310931036 für ID BEV 3\n",
      "Ladezeit = 30 für ID BEV 1\n",
      "CALCULATE NUMBER OF CHARGING STATIONS\n",
      "Number of charging stations:  5\n",
      "CALCULATE NUMBER OF CHARGING STATIONS\n",
      "Number of charging stations:  5\n",
      "AVAILABLE SOLAR POWER:  54.38\n",
      "Restladeenergie bis zur fairen Ladeenergie for BEV mit ID 26:  3.0695486111110437\n",
      "Restladezeit:  16.933883474316165\n",
      "AVAILABLE SOLAR POWER:  54.38\n",
      "Restladeenergie bis zur fairen Ladeenergie for BEV mit ID 42:  6.765216666666634\n",
      "Restladezeit:  37.32190143435068\n",
      "AVAILABLE SOLAR POWER:  54.38\n",
      "Restladeenergie bis zur fairen Ladeenergie for BEV mit ID 37:  7.550174471770794\n",
      "Restladezeit:  41.65230491966234\n",
      "AVAILABLE SOLAR POWER:  54.38\n",
      "Restladeenergie bis zur fairen Ladeenergie for BEV mit ID 3:  2.7635505597416\n",
      "Restladezeit:  15.245773591807282\n",
      "AVAILABLE SOLAR POWER:  54.38\n",
      "Restladeenergie bis zur fairen Ladeenergie for BEV mit ID 1:  1.7225000000000001\n",
      "Restladezeit:  9.502574475910261\n",
      "Die Restladezeit des BEVS 1 endet vor dem nächsten Interval\n",
      "Ausgewähltes BEV das frei gewordenen Platz belegen darf:  7\n",
      "Ladestart für ausgewähltes BEV:  710.4974255240897\n",
      "10.876000000000001 CHARGING POWER WIRD FÜR NEUES BEV 7 GESPEICHERT: \n",
      "ZEITPUNKT FÜR DAS ES GESPEICHERT WIRD:  710.4974255240897\n",
      "Charging BEVs:  [26, 42, 37, 3, 1]\n",
      "\n",
      "\n",
      "Minute:  705\n",
      "Waiting BEVs (after updating new waiting BEVs):  [30]\n",
      "Charging BEVs:  [26, 42, 37, 3, 7]\n",
      "Waiting BEVs:  [30]\n",
      "Ladezeit = 168.08333333333337 für ID BEV 26\n",
      "Ladezeit = 120.84727272727275 für ID BEV 42\n",
      "Ladezeit = 46.155749083346905 für ID BEV 37\n",
      "Ladezeit = 52.25508310931036 für ID BEV 3\n",
      "Ladezeit = 5.497425524089749 für ID BEV 7\n",
      "Ladezeit = 168.08333333333337 für ID BEV 26\n",
      "Ladezeit = 120.84727272727275 für ID BEV 42\n",
      "Ladezeit = 46.155749083346905 für ID BEV 37\n",
      "Ladezeit = 52.25508310931036 für ID BEV 3\n",
      "Ladezeit = 5.497425524089749 für ID BEV 7\n",
      "CALCULATE NUMBER OF CHARGING STATIONS\n",
      "Number of charging stations:  5\n",
      "CALCULATE NUMBER OF CHARGING STATIONS\n",
      "Number of charging stations:  5\n",
      "AVAILABLE SOLAR POWER:  53.12\n",
      "Restladeenergie bis zur fairen Ladeenergie for BEV mit ID 26:  2.510643055555481\n",
      "Restladezeit:  14.179083521585927\n",
      "Die Restladezeit des BEVS 26 endet vor dem nächsten Interval\n",
      "Ausgewähltes BEV das frei gewordenen Platz belegen darf:  30\n",
      "Ladestart für ausgewähltes BEV:  690.8209164784141\n",
      "10.623999999999999 CHARGING POWER WIRD FÜR NEUES BEV 30 GESPEICHERT: \n",
      "ZEITPUNKT FÜR DAS ES GESPEICHERT WIRD:  690.8209164784141\n",
      "AVAILABLE SOLAR POWER:  53.12\n",
      "Restladeenergie bis zur fairen Ladeenergie for BEV mit ID 42:  6.611634363636326\n",
      "Restladezeit:  37.33980250547624\n",
      "AVAILABLE SOLAR POWER:  53.12\n",
      "Restladeenergie bis zur fairen Ladeenergie for BEV mit ID 37:  7.340675687929446\n",
      "Restladezeit:  41.45712926164973\n",
      "AVAILABLE SOLAR POWER:  53.12\n",
      "Restladeenergie bis zur fairen Ladeenergie for BEV mit ID 3:  1.4484458281272747\n",
      "Restladezeit:  8.180228698007953\n",
      "Die Restladezeit des BEVS 3 endet vor dem nächsten Interval\n",
      "AVAILABLE SOLAR POWER:  53.12\n",
      "Restladeenergie bis zur fairen Ladeenergie for BEV mit ID 7:  3.508810834374543\n",
      "Restladezeit:  19.816326248350208\n",
      "Charging BEVs:  [26, 42, 37, 3, 7]\n",
      "\n",
      "\n",
      "Minute:  690\n",
      "Waiting BEVs (after updating new waiting BEVs):  []\n",
      "Charging BEVs:  [42, 37, 7, 30]\n",
      "Waiting BEVs:  []\n",
      "Ladezeit = 135.84727272727275 für ID BEV 42\n",
      "Ladezeit = 61.155749083346905 für ID BEV 37\n",
      "Ladezeit = 20.49742552408975 für ID BEV 7\n",
      "Ladezeit = 0.8209164784141194 für ID BEV 30\n",
      "Ladezeit = 135.84727272727275 für ID BEV 42\n",
      "Ladezeit = 61.155749083346905 für ID BEV 37\n",
      "Ladezeit = 20.49742552408975 für ID BEV 7\n",
      "Ladezeit = 0.8209164784141194 für ID BEV 30\n",
      "CALCULATE NUMBER OF CHARGING STATIONS\n",
      "Number of charging stations:  5\n",
      "CALCULATE NUMBER OF CHARGING STATIONS\n",
      "Number of charging stations:  5\n",
      "NUMBER OF FREE CHARGING STATIONS:  1\n",
      "CALCULATE NUMBER OF CHARGING STATIONS\n",
      "Number of charging stations:  5\n",
      "CALCULATE NUMBER OF CHARGING STATIONS\n",
      "Number of charging stations:  5\n",
      "AVAILABLE SOLAR POWER:  51.88\n",
      "Restladeenergie bis zur fairen Ladeenergie for BEV mit ID 42:  6.171921440435108\n",
      "Restladezeit:  28.551679755289626\n",
      "AVAILABLE SOLAR POWER:  51.88\n",
      "Restladeenergie bis zur fairen Ladeenergie for BEV mit ID 37:  6.846341884612698\n",
      "Restladezeit:  31.671589288879098\n",
      "AVAILABLE SOLAR POWER:  51.88\n",
      "Restladeenergie bis zur fairen Ladeenergie for BEV mit ID 7:  2.535400021575718\n",
      "Restladezeit:  11.728912975677956\n",
      "Die Restladezeit des BEVS 7 endet vor dem nächsten Interval\n",
      "AVAILABLE SOLAR POWER:  51.88\n",
      "Restladeenergie bis zur fairen Ladeenergie for BEV mit ID 30:  4.093293050161544\n",
      "Restladezeit:  18.93581981570491\n",
      "Charging BEVs:  [42, 37, 7, 30]\n",
      "\n",
      "\n",
      "Minute:  675\n",
      "Waiting BEVs (after updating new waiting BEVs):  []\n",
      "Charging BEVs:  [42, 37, 30]\n",
      "Waiting BEVs:  []\n",
      "Ladezeit = 150.84727272727275 für ID BEV 42\n",
      "Ladezeit = 76.1557490833469 für ID BEV 37\n",
      "Ladezeit = 15.82091647841412 für ID BEV 30\n",
      "Ladezeit = 150.84727272727275 für ID BEV 42\n",
      "Ladezeit = 76.1557490833469 für ID BEV 37\n",
      "Ladezeit = 15.82091647841412 für ID BEV 30\n",
      "CALCULATE NUMBER OF CHARGING STATIONS\n",
      "Number of charging stations:  5\n",
      "CALCULATE NUMBER OF CHARGING STATIONS\n",
      "Number of charging stations:  5\n",
      "NUMBER OF FREE CHARGING STATIONS:  2\n",
      "CALCULATE NUMBER OF CHARGING STATIONS\n",
      "Number of charging stations:  5\n",
      "CALCULATE NUMBER OF CHARGING STATIONS\n",
      "Number of charging stations:  5\n",
      "AVAILABLE SOLAR POWER:  50.62\n",
      "Restladeenergie bis zur fairen Ladeenergie for BEV mit ID 42:  5.354919313829052\n",
      "Restladezeit:  19.041593767072886\n",
      "AVAILABLE SOLAR POWER:  50.62\n",
      "Restladeenergie bis zur fairen Ladeenergie for BEV mit ID 37:  5.962657452368614\n",
      "Restladezeit:  21.202653919920003\n",
      "AVAILABLE SOLAR POWER:  50.62\n",
      "Restladeenergie bis zur fairen Ladeenergie for BEV mit ID 30:  3.915838271411025\n",
      "Restladezeit:  13.924355765586421\n",
      "Die Restladezeit des BEVS 30 endet vor dem nächsten Interval\n",
      "Charging BEVs:  [42, 37, 30]\n"
     ]
    },
    {
     "name": "stdout",
     "output_type": "stream",
     "text": [
      "\n",
      "\n",
      "Minute:  660\n",
      "Waiting BEVs (after updating new waiting BEVs):  []\n",
      "Charging BEVs:  [42, 37]\n",
      "Waiting BEVs:  []\n",
      "Ladezeit = 165.84727272727275 für ID BEV 42\n",
      "Ladezeit = 91.1557490833469 für ID BEV 37\n",
      "Ladezeit = 165.84727272727275 für ID BEV 42\n",
      "Ladezeit = 91.1557490833469 für ID BEV 37\n",
      "CALCULATE NUMBER OF CHARGING STATIONS\n",
      "Number of charging stations:  5\n",
      "CALCULATE NUMBER OF CHARGING STATIONS\n",
      "Number of charging stations:  5\n",
      "NUMBER OF FREE CHARGING STATIONS:  3\n",
      "CALCULATE NUMBER OF CHARGING STATIONS\n",
      "Number of charging stations:  5\n",
      "CALCULATE NUMBER OF CHARGING STATIONS\n",
      "Number of charging stations:  5\n",
      "AVAILABLE SOLAR POWER:  50.12\n",
      "Restladeenergie bis zur fairen Ladeenergie for BEV mit ID 42:  3.8113679708334507\n",
      "Restladezeit:  9.125382212689827\n",
      "Die Restladezeit des BEVS 42 endet vor dem nächsten Interval\n",
      "AVAILABLE SOLAR POWER:  50.12\n",
      "Restladeenergie bis zur fairen Ladeenergie for BEV mit ID 37:  2.4266717175981\n",
      "Restladezeit:  5.810067959133519\n",
      "Die Restladezeit des BEVS 37 endet vor dem nächsten Interval\n",
      "Charging BEVs:  [42, 37]\n",
      "\n",
      "\n",
      "Minute:  645\n",
      "Waiting BEVs (after updating new waiting BEVs):  []\n",
      "Charging BEVs:  []\n",
      "Waiting BEVs:  []\n",
      "CALCULATE NUMBER OF CHARGING STATIONS\n",
      "Number of charging stations:  5\n",
      "CALCULATE NUMBER OF CHARGING STATIONS\n",
      "Number of charging stations:  5\n",
      "NUMBER OF FREE CHARGING STATIONS:  5\n",
      "CALCULATE NUMBER OF CHARGING STATIONS\n",
      "Number of charging stations:  5\n",
      "CALCULATE NUMBER OF CHARGING STATIONS\n",
      "Number of charging stations:  5\n",
      "Charging BEVs:  []\n",
      "\n",
      "\n",
      "Minute:  630\n",
      "Waiting BEVs (after updating new waiting BEVs):  []\n",
      "Charging BEVs:  []\n",
      "Waiting BEVs:  []\n",
      "CALCULATE NUMBER OF CHARGING STATIONS\n",
      "Number of charging stations:  5\n",
      "CALCULATE NUMBER OF CHARGING STATIONS\n",
      "Number of charging stations:  5\n",
      "NUMBER OF FREE CHARGING STATIONS:  5\n",
      "CALCULATE NUMBER OF CHARGING STATIONS\n",
      "Number of charging stations:  5\n",
      "CALCULATE NUMBER OF CHARGING STATIONS\n",
      "Number of charging stations:  5\n",
      "Charging BEVs:  []\n",
      "\n",
      "\n",
      "Minute:  615\n",
      "Waiting BEVs (after updating new waiting BEVs):  []\n",
      "Charging BEVs:  []\n",
      "Waiting BEVs:  []\n",
      "CALCULATE NUMBER OF CHARGING STATIONS\n",
      "Number of charging stations:  5\n",
      "CALCULATE NUMBER OF CHARGING STATIONS\n",
      "Number of charging stations:  5\n",
      "NUMBER OF FREE CHARGING STATIONS:  5\n",
      "CALCULATE NUMBER OF CHARGING STATIONS\n",
      "Number of charging stations:  5\n",
      "CALCULATE NUMBER OF CHARGING STATIONS\n",
      "Number of charging stations:  5\n",
      "Charging BEVs:  []\n",
      "\n",
      "\n",
      "Minute:  600\n",
      "Waiting BEVs (after updating new waiting BEVs):  []\n",
      "Charging BEVs:  []\n",
      "Waiting BEVs:  []\n",
      "CALCULATE NUMBER OF CHARGING STATIONS\n",
      "Number of charging stations:  5\n",
      "CALCULATE NUMBER OF CHARGING STATIONS\n",
      "Number of charging stations:  5\n",
      "NUMBER OF FREE CHARGING STATIONS:  5\n",
      "CALCULATE NUMBER OF CHARGING STATIONS\n",
      "Number of charging stations:  5\n",
      "CALCULATE NUMBER OF CHARGING STATIONS\n",
      "Number of charging stations:  5\n",
      "Charging BEVs:  []\n",
      "\n",
      "\n",
      "Minute:  585\n",
      "Waiting BEVs (after updating new waiting BEVs):  []\n",
      "Charging BEVs:  []\n",
      "Waiting BEVs:  []\n",
      "CALCULATE NUMBER OF CHARGING STATIONS\n",
      "Number of charging stations:  4\n",
      "CALCULATE NUMBER OF CHARGING STATIONS\n",
      "Number of charging stations:  4\n",
      "NUMBER OF FREE CHARGING STATIONS:  4\n",
      "CALCULATE NUMBER OF CHARGING STATIONS\n",
      "Number of charging stations:  4\n",
      "CALCULATE NUMBER OF CHARGING STATIONS\n",
      "Number of charging stations:  4\n",
      "Charging BEVs:  []\n",
      "\n",
      "\n",
      "Minute:  570\n",
      "Waiting BEVs (after updating new waiting BEVs):  []\n",
      "Charging BEVs:  []\n",
      "Waiting BEVs:  []\n",
      "CALCULATE NUMBER OF CHARGING STATIONS\n",
      "Number of charging stations:  3\n",
      "CALCULATE NUMBER OF CHARGING STATIONS\n",
      "Number of charging stations:  3\n",
      "NUMBER OF FREE CHARGING STATIONS:  3\n",
      "CALCULATE NUMBER OF CHARGING STATIONS\n",
      "Number of charging stations:  3\n",
      "CALCULATE NUMBER OF CHARGING STATIONS\n",
      "Number of charging stations:  3\n",
      "Charging BEVs:  []\n",
      "\n",
      "\n",
      "Minute:  555\n",
      "Waiting BEVs (after updating new waiting BEVs):  []\n",
      "Charging BEVs:  []\n",
      "Waiting BEVs:  []\n",
      "CALCULATE NUMBER OF CHARGING STATIONS\n",
      "Number of charging stations:  3\n",
      "CALCULATE NUMBER OF CHARGING STATIONS\n",
      "Number of charging stations:  3\n",
      "NUMBER OF FREE CHARGING STATIONS:  3\n",
      "CALCULATE NUMBER OF CHARGING STATIONS\n",
      "Number of charging stations:  3\n",
      "CALCULATE NUMBER OF CHARGING STATIONS\n",
      "Number of charging stations:  3\n",
      "Charging BEVs:  []\n",
      "\n",
      "\n",
      "Minute:  540\n",
      "Waiting BEVs (after updating new waiting BEVs):  []\n",
      "Charging BEVs:  []\n",
      "Waiting BEVs:  []\n",
      "CALCULATE NUMBER OF CHARGING STATIONS\n",
      "Number of charging stations:  2\n",
      "CALCULATE NUMBER OF CHARGING STATIONS\n",
      "Number of charging stations:  2\n",
      "NUMBER OF FREE CHARGING STATIONS:  2\n",
      "CALCULATE NUMBER OF CHARGING STATIONS\n",
      "Number of charging stations:  2\n",
      "CALCULATE NUMBER OF CHARGING STATIONS\n",
      "Number of charging stations:  2\n",
      "Charging BEVs:  []\n",
      "\n",
      "\n",
      "Minute:  525\n",
      "Waiting BEVs (after updating new waiting BEVs):  []\n",
      "Charging BEVs:  []\n",
      "Waiting BEVs:  []\n",
      "CALCULATE NUMBER OF CHARGING STATIONS\n",
      "Number of charging stations:  2\n",
      "CALCULATE NUMBER OF CHARGING STATIONS\n",
      "Number of charging stations:  2\n",
      "NUMBER OF FREE CHARGING STATIONS:  2\n",
      "CALCULATE NUMBER OF CHARGING STATIONS\n",
      "Number of charging stations:  2\n",
      "CALCULATE NUMBER OF CHARGING STATIONS\n",
      "Number of charging stations:  2\n",
      "Charging BEVs:  []\n",
      "\n",
      "\n",
      "Minute:  510\n",
      "Waiting BEVs (after updating new waiting BEVs):  []\n",
      "Charging BEVs:  []\n",
      "Waiting BEVs:  []\n",
      "CALCULATE NUMBER OF CHARGING STATIONS\n",
      "Number of charging stations:  1\n",
      "CALCULATE NUMBER OF CHARGING STATIONS\n",
      "Number of charging stations:  1\n",
      "NUMBER OF FREE CHARGING STATIONS:  1\n",
      "CALCULATE NUMBER OF CHARGING STATIONS\n",
      "Number of charging stations:  1\n",
      "CALCULATE NUMBER OF CHARGING STATIONS\n",
      "Number of charging stations:  1\n",
      "Charging BEVs:  []\n",
      "\n",
      "\n",
      "Minute:  495\n",
      "Waiting BEVs (after updating new waiting BEVs):  []\n",
      "Charging BEVs:  []\n",
      "Waiting BEVs:  []\n",
      "CALCULATE NUMBER OF CHARGING STATIONS\n",
      "Number of charging stations:  1\n",
      "CALCULATE NUMBER OF CHARGING STATIONS\n",
      "Number of charging stations:  1\n",
      "NUMBER OF FREE CHARGING STATIONS:  1\n",
      "CALCULATE NUMBER OF CHARGING STATIONS\n",
      "Number of charging stations:  1\n",
      "CALCULATE NUMBER OF CHARGING STATIONS\n",
      "Number of charging stations:  1\n",
      "Charging BEVs:  []\n",
      "\n",
      "\n",
      "Minute:  480\n",
      "Waiting BEVs (after updating new waiting BEVs):  []\n",
      "Charging BEVs:  []\n",
      "Waiting BEVs:  []\n",
      "CALCULATE NUMBER OF CHARGING STATIONS\n",
      "Number of charging stations:  0\n",
      "CALCULATE NUMBER OF CHARGING STATIONS\n",
      "Number of charging stations:  0\n",
      "Charging BEVs:  []\n",
      "OPTIMIZATION DONE\n",
      "BEVs dict:  {0: [(8.5, 6.6), 'nicht parkend', [], [8.335]], 1: [(8.5, 5.0), 'wartend', [(750, 39.50257447591025, 6.7475000000000005)], [6.7475000000000005]], 2: [(8.5, 6.9), 'nicht parkend', [], [8.457500000000001]], 3: [(9.5, 4.5), 'wartend', [(757.2550831093104, 60.43531180731827, 6.787189165625455)], [6.4975000000000005]], 4: [(8.0, 3.4), 'nicht parkend', [], [4.0075]], 5: [(8.5, 3.6), 'nicht parkend', [], [5.1475]], 6: [(12.5, 3.5), 'wartend', [(960, 20.452342487883698, 3.0925000000000002)], [3.0925000000000002]], 7: [(9.5, 3.0), 'wartend', [(710.4974255240897, 32.226338499767735, 5.4288500053939295)], [4.795]], 8: [(13.0, 3.0), 'wartend', [(945, 22.284541723666166, 2.4350000000000005)], [2.4350000000000005]], 9: [(13.0, 3.0), 'wartend', [(939.5476575121163, 21.449162300078, 2.4350000000000005)], [2.4350000000000005]], 10: [(13.0, 3.0), 'wartend', [(922.7154582763338, 18.343420361641847, 2.4350000000000005)], [2.4350000000000005]], 11: [(8.0, 4.6), 'nicht parkend', [], [6.090000000000001]], 12: [(13.0, 3.0), 'wartend', [(918.0984952120383, 17.725272463223178, 2.435)], [2.4350000000000005]], 13: [(8.0, 7.7), 'nicht parkend', [], [8.735000000000003]], 14: [(8.5, 3.3), 'nicht parkend', [], [4.71]], 15: [(13.5, 2.5), 'wartend', [(904.372037914692, 11.914895057549074, 1.935)], [1.935]], 16: [(8.5, 4.4), 'nicht parkend', [], [6.2475000000000005]], 17: [(9.0, 6.4), 'nicht parkend', [], [8.145000000000001]], 18: [(12.5, 3.5), 'wartend', [(900.3732227488151, 149.21747366546822, 3.0925000000000002)], [3.0925000000000002]], 19: [(8.0, 6.1), 'nicht parkend', [], [7.725000000000001]], 20: [(8.0, 6.1), 'nicht parkend', [], [7.725000000000001]], 21: [(8.5, 4.1), 'nicht parkend', [], [5.9275]], 22: [(12.5, 3.5), 'wartend', [(892.4571428571429, 19.37380952380954, 3.0925000000000002)], [3.0925000000000002]], 23: [(12.5, 3.5), 'wartend', [(885, 19.595454545454572, 3.0925000000000002)], [3.0925000000000002]], 24: [(8.0, 6.1), 'nicht parkend', [], [7.725000000000001]], 25: [(8.5, 3.6), 'nicht parkend', [], [5.1475]], 26: [(8.5, 7.5), 'wartend', [(873.0833333333334, 182.26241685491925, 8.972189165625457)], [8.682500000000001]], 27: [(8.5, 4.4), 'nicht parkend', [], [6.2475000000000005]], 28: [(8.5, 7.1), 'nicht parkend', [], [8.572500000000002]], 29: [(9.0, 4.1), 'nicht parkend', [], [6.1775]], 30: [(8.0, 4.0), 'wartend', [(690.8209164784141, 29.74527224400049, 6.177779423803676)], [4.8725000000000005]], 31: [(13.0, 3.0), 'wartend', [(865.4045454545454, 13.65069930069933, 2.4350000000000005)], [2.4350000000000005]], 32: [(9.0, 6.6), 'nicht parkend', [], [8.260000000000002]], 33: [(8.5, 5.6), 'nicht parkend', [], [7.5625]], 34: [(13.0, 3.0), 'wartend', [(855, 14.984615384615381, 2.4350000000000005)], [2.4350000000000005]], 35: [(8.0, 7.8), 'nicht parkend', [], [8.845000000000002]], 36: [(12.5, 3.5), 'wartend', [(851.7538461538461, 18.633846153846207, 3.0925000000000002)], [3.0925000000000002]], 37: [(9.0, 6.5), 'wartend', [(751.1557490833469, 96.96581704248047, 9.358335858799052)], [8.145000000000001]], 38: [(8.0, 7.9), 'nicht parkend', [], [8.845000000000002]], 39: [(9.5, 6.4), 'nicht parkend', [], [7.8875]], 40: [(13.0, 3.0), 'wartend', [(840.0153846153846, 14.168111888111866, 2.4350000000000005)], [2.4350000000000005]], 41: [(13.0, 3.0), 'wartend', [(833.1199999999999, 14.39547169811317, 2.4350000000000005)], [2.4350000000000005]], 42: [(9.5, 6.5), 'wartend', [(825.8472727272728, 174.97265493996258, 11.006519844215777)], [7.8875]], 43: [(8.0, 6.7), 'nicht parkend', [], [8.192500000000003]], 44: [(9.0, 6.6), 'nicht parkend', [], [8.260000000000002]], 45: [(13.0, 3.0), 'wartend', [(818.7245283018867, 14.936293007769109, 2.4350000000000005)], [2.4350000000000005]], 46: [(13.0, 3.0), 'wartend', [(803.7882352941176, 15.543337334933994, 2.4350000000000005)], [2.4350000000000005]], 47: [(12.0, 4.0), 'wartend', [(788.2448979591836, 30.989814849873255, 3.9725)], [3.9725]], 48: [(9.0, 3.1), 'nicht parkend', [], [4.835]], 49: [(12.5, 3.4), 'nicht parkend', [], [3.0925000000000002]]}\n",
      "\n",
      "\n",
      "Minute:  480\n",
      "Charging BEVs after updating parking end:  []\n",
      "Waiting BEVs:  []\n",
      "CALCULATE NUMBER OF CHARGING STATIONS\n",
      "Number of charging stations:  1\n",
      "CALCULATE NUMBER OF CHARGING STATIONS\n",
      "Number of charging stations:  1\n",
      "NUMBER OF FREE CHARGING STATIONS:  1\n",
      "CALCULATE NUMBER OF CHARGING STATIONS\n",
      "Number of charging stations:  1\n",
      "Charging BEVs (nachdem neue Plätze belegt):  [4]\n",
      "AVAILABLE SOLAR POWER:  0.62\n",
      "Restladeenergie bis zur fairen Ladeenergie for BEV mit ID 4:  4.0075\n",
      "Restladezeit:  387.8225806451613\n",
      "Charging BEVs:  [4]\n",
      "\n",
      "\n",
      "Minute:  495\n",
      "Charging BEVs after updating parking end:  [4]\n",
      "Waiting BEVs:  [11, 13, 19, 20, 24, 30, 35, 38, 43]\n",
      "CALCULATE NUMBER OF CHARGING STATIONS\n",
      "Number of charging stations:  1\n",
      "CALCULATE NUMBER OF CHARGING STATIONS\n",
      "Number of charging stations:  1\n",
      "Charging BEVs (nachdem neue Plätze belegt):  [4]\n",
      "AVAILABLE SOLAR POWER:  5.87\n",
      "Restladeenergie bis zur fairen Ladeenergie for BEV mit ID 4:  3.8525000000000005\n",
      "Restladezeit:  39.37819420783646\n",
      "Charging BEVs:  [4]\n",
      "\n",
      "\n",
      "Minute:  510\n",
      "Charging BEVs after updating parking end:  [4]\n",
      "Waiting BEVs:  [11, 13, 19, 20, 24, 30, 35, 38, 43]\n",
      "CALCULATE NUMBER OF CHARGING STATIONS\n",
      "Number of charging stations:  2\n",
      "CALCULATE NUMBER OF CHARGING STATIONS\n",
      "Number of charging stations:  2\n",
      "NUMBER OF FREE CHARGING STATIONS:  1\n",
      "CALCULATE NUMBER OF CHARGING STATIONS\n",
      "Number of charging stations:  2\n",
      "Charging BEVs (nachdem neue Plätze belegt):  [4, 11]\n",
      "AVAILABLE SOLAR POWER:  11.12\n",
      "Restladeenergie bis zur fairen Ladeenergie for BEV mit ID 4:  2.3850000000000002\n",
      "Restladezeit:  25.73741007194245\n",
      "AVAILABLE SOLAR POWER:  11.12\n",
      "Restladeenergie bis zur fairen Ladeenergie for BEV mit ID 11:  6.090000000000001\n"
     ]
    },
    {
     "name": "stdout",
     "output_type": "stream",
     "text": [
      "Restladezeit:  65.71942446043167\n",
      "Charging BEVs:  [4, 11]\n",
      "\n",
      "\n",
      "Minute:  525\n",
      "Charging BEVs after updating parking end:  [4, 11]\n",
      "Waiting BEVs:  [13, 19, 20, 24, 30, 35, 38, 43, 0, 1, 2, 5, 14, 16, 21, 25, 26, 27, 28, 33]\n",
      "CALCULATE NUMBER OF CHARGING STATIONS\n",
      "Number of charging stations:  2\n",
      "CALCULATE NUMBER OF CHARGING STATIONS\n",
      "Number of charging stations:  2\n",
      "Charging BEVs (nachdem neue Plätze belegt):  [4, 11]\n",
      "AVAILABLE SOLAR POWER:  16.38\n",
      "Restladeenergie bis zur fairen Ladeenergie for BEV mit ID 4:  0.9950000000000001\n",
      "Restladezeit:  7.289377289377291\n",
      "Die Restladezeit des BEVS 4 endet vor dem nächsten Interval\n",
      "Ausgewähltes BEV das frei gewordenen Platz belegen darf:  13\n",
      "Ladestart für ausgewähltes BEV:  532.2893772893773\n",
      "8.19 CHARGING POWER WIRD FÜR NEUES BEV 13 GESPEICHERT: \n",
      "ZEITPUNKT FÜR DAS ES GESPEICHERT WIRD:  532.2893772893773\n",
      "AVAILABLE SOLAR POWER:  16.38\n",
      "Restladeenergie bis zur fairen Ladeenergie for BEV mit ID 11:  4.700000000000001\n",
      "Restladezeit:  34.432234432234445\n",
      "Charging BEVs:  [4, 11]\n",
      "\n",
      "\n",
      "Minute:  540\n",
      "Charging BEVs after updating parking end:  [11, 13]\n",
      "Waiting BEVs:  [19, 20, 24, 30, 35, 38, 43, 0, 1, 2, 5, 14, 16, 21, 25, 26, 27, 28, 33]\n",
      "CALCULATE NUMBER OF CHARGING STATIONS\n",
      "Number of charging stations:  3\n",
      "CALCULATE NUMBER OF CHARGING STATIONS\n",
      "Number of charging stations:  3\n",
      "NUMBER OF FREE CHARGING STATIONS:  1\n",
      "CALCULATE NUMBER OF CHARGING STATIONS\n",
      "Number of charging stations:  3\n",
      "Charging BEVs (nachdem neue Plätze belegt):  [11, 13, 19]\n",
      "AVAILABLE SOLAR POWER:  23.0\n",
      "Restladeenergie bis zur fairen Ladeenergie for BEV mit ID 11:  2.6525000000000007\n",
      "Restladezeit:  20.758695652173916\n",
      "AVAILABLE SOLAR POWER:  23.0\n",
      "Restladeenergie bis zur fairen Ladeenergie for BEV mit ID 13:  7.682500000000003\n",
      "Restladezeit:  60.12391304347828\n",
      "AVAILABLE SOLAR POWER:  23.0\n",
      "Restladeenergie bis zur fairen Ladeenergie for BEV mit ID 19:  7.725000000000001\n",
      "Restladezeit:  60.45652173913045\n",
      "Charging BEVs:  [11, 13, 19]\n",
      "\n",
      "\n",
      "Minute:  555\n",
      "Charging BEVs after updating parking end:  [11, 13, 19]\n",
      "Waiting BEVs:  [20, 24, 30, 35, 38, 43, 0, 1, 2, 5, 14, 16, 21, 25, 26, 27, 28, 33, 17, 29, 32, 37, 44, 48]\n",
      "CALCULATE NUMBER OF CHARGING STATIONS\n",
      "Number of charging stations:  3\n",
      "CALCULATE NUMBER OF CHARGING STATIONS\n",
      "Number of charging stations:  3\n",
      "Charging BEVs (nachdem neue Plätze belegt):  [11, 13, 19]\n",
      "AVAILABLE SOLAR POWER:  31.0\n",
      "Restladeenergie bis zur fairen Ladeenergie for BEV mit ID 11:  0.7358333333333338\n",
      "Restladezeit:  4.272580645161293\n",
      "Die Restladezeit des BEVS 11 endet vor dem nächsten Interval\n",
      "Ausgewähltes BEV das frei gewordenen Platz belegen darf:  20\n",
      "Ladestart für ausgewähltes BEV:  559.2725806451613\n",
      "10.333333333333334 CHARGING POWER WIRD FÜR NEUES BEV 20 GESPEICHERT: \n",
      "ZEITPUNKT FÜR DAS ES GESPEICHERT WIRD:  559.2725806451613\n",
      "AVAILABLE SOLAR POWER:  31.0\n",
      "Restladeenergie bis zur fairen Ladeenergie for BEV mit ID 13:  6.697253764753767\n",
      "Restladezeit:  38.88727992437671\n",
      "AVAILABLE SOLAR POWER:  31.0\n",
      "Restladeenergie bis zur fairen Ladeenergie for BEV mit ID 19:  5.8083333333333345\n",
      "Restladezeit:  33.725806451612904\n",
      "Charging BEVs:  [11, 13, 19]\n",
      "\n",
      "\n",
      "Minute:  570\n",
      "Charging BEVs after updating parking end:  [13, 19, 20]\n",
      "Waiting BEVs:  [24, 30, 35, 38, 43, 0, 1, 2, 5, 14, 16, 21, 25, 26, 27, 28, 33, 17, 29, 32, 37, 44, 48]\n",
      "CALCULATE NUMBER OF CHARGING STATIONS\n",
      "Number of charging stations:  4\n",
      "CALCULATE NUMBER OF CHARGING STATIONS\n",
      "Number of charging stations:  4\n",
      "NUMBER OF FREE CHARGING STATIONS:  1\n",
      "CALCULATE NUMBER OF CHARGING STATIONS\n",
      "Number of charging stations:  4\n",
      "Charging BEVs (nachdem neue Plätze belegt):  [13, 19, 20, 24]\n",
      "AVAILABLE SOLAR POWER:  39.0\n",
      "Restladeenergie bis zur fairen Ladeenergie for BEV mit ID 13:  5.369313186813188\n",
      "Restladezeit:  33.04192730346577\n",
      "AVAILABLE SOLAR POWER:  39.0\n",
      "Restladeenergie bis zur fairen Ladeenergie for BEV mit ID 19:  3.2250000000000014\n",
      "Restladezeit:  19.846153846153854\n",
      "AVAILABLE SOLAR POWER:  39.0\n",
      "Restladeenergie bis zur fairen Ladeenergie for BEV mit ID 20:  5.877499999999998\n",
      "Restladezeit:  36.16923076923076\n",
      "AVAILABLE SOLAR POWER:  39.0\n",
      "Restladeenergie bis zur fairen Ladeenergie for BEV mit ID 24:  7.725000000000001\n",
      "Restladezeit:  47.53846153846155\n",
      "Charging BEVs:  [13, 19, 20, 24]\n",
      "\n",
      "\n",
      "Minute:  585\n",
      "Charging BEVs after updating parking end:  [13, 19, 20, 24]\n",
      "Waiting BEVs:  [30, 35, 38, 43, 0, 1, 2, 5, 14, 16, 21, 25, 26, 27, 28, 33, 17, 29, 32, 37, 44, 48, 3, 7, 39, 42]\n",
      "CALCULATE NUMBER OF CHARGING STATIONS\n",
      "Number of charging stations:  5\n",
      "CALCULATE NUMBER OF CHARGING STATIONS\n",
      "Number of charging stations:  5\n",
      "NUMBER OF FREE CHARGING STATIONS:  1\n",
      "OVERWRITE INITIAL CHARGING DATA\n",
      "CALCULATE NUMBER OF CHARGING STATIONS\n",
      "Number of charging stations:  5\n",
      "Charging BEVs (nachdem neue Plätze belegt):  [13, 19, 20, 24, 30]\n",
      "AVAILABLE SOLAR POWER:  47.0\n",
      "Restladeenergie bis zur fairen Ladeenergie for BEV mit ID 13:  4.116336996336997\n",
      "Restladezeit:  26.274491465980834\n",
      "AVAILABLE SOLAR POWER:  47.0\n",
      "Restladeenergie bis zur fairen Ladeenergie for BEV mit ID 19:  0.7875000000000014\n",
      "Restladezeit:  5.02659574468086\n",
      "Die Restladezeit des BEVS 19 endet vor dem nächsten Interval\n",
      "Ausgewähltes BEV das frei gewordenen Platz belegen darf:  35\n",
      "Ladestart für ausgewähltes BEV:  590.0265957446809\n",
      "9.4 CHARGING POWER WIRD FÜR NEUES BEV 35 GESPEICHERT: \n",
      "ZEITPUNKT FÜR DAS ES GESPEICHERT WIRD:  590.0265957446809\n",
      "AVAILABLE SOLAR POWER:  47.0\n",
      "Restladeenergie bis zur fairen Ladeenergie for BEV mit ID 20:  4.134294354838704\n",
      "Restladezeit:  26.38911290322577\n",
      "AVAILABLE SOLAR POWER:  47.0\n",
      "Restladeenergie bis zur fairen Ladeenergie for BEV mit ID 24:  5.287500000000001\n",
      "Restladezeit:  33.75000000000001\n",
      "AVAILABLE SOLAR POWER:  47.0\n",
      "Restladeenergie bis zur fairen Ladeenergie for BEV mit ID 30:  4.8725000000000005\n",
      "Restladezeit:  31.101063829787236\n",
      "Charging BEVs:  [13, 19, 20, 24, 30]\n",
      "\n",
      "\n",
      "Minute:  600\n",
      "Charging BEVs after updating parking end:  [13, 20, 24, 30, 35]\n",
      "Waiting BEVs:  [38, 43, 0, 1, 2, 5, 14, 16, 21, 25, 26, 27, 28, 33, 17, 29, 32, 37, 44, 48, 3, 7, 39, 42]\n",
      "CALCULATE NUMBER OF CHARGING STATIONS\n",
      "Number of charging stations:  5\n",
      "CALCULATE NUMBER OF CHARGING STATIONS\n",
      "Number of charging stations:  5\n",
      "Charging BEVs (nachdem neue Plätze belegt):  [13, 20, 24, 30, 35]\n",
      "AVAILABLE SOLAR POWER:  50.88\n",
      "Restladeenergie bis zur fairen Ladeenergie for BEV mit ID 13:  2.9083394383394383\n",
      "Restladezeit:  17.14822782039763\n",
      "AVAILABLE SOLAR POWER:  50.88\n",
      "Restladeenergie bis zur fairen Ladeenergie for BEV mit ID 20:  2.453665322580636\n",
      "Restladezeit:  14.46736628880092\n",
      "Die Restladezeit des BEVS 20 endet vor dem nächsten Interval\n",
      "Ausgewähltes BEV das frei gewordenen Platz belegen darf:  38\n",
      "Ladestart für ausgewähltes BEV:  614.4673662888009\n",
      "10.176 CHARGING POWER WIRD FÜR NEUES BEV 38 GESPEICHERT: \n",
      "ZEITPUNKT FÜR DAS ES GESPEICHERT WIRD:  614.4673662888009\n",
      "AVAILABLE SOLAR POWER:  50.88\n",
      "Restladeenergie bis zur fairen Ladeenergie for BEV mit ID 24:  2.9375000000000018\n",
      "Restladezeit:  17.320165094339632\n",
      "AVAILABLE SOLAR POWER:  50.88\n",
      "Restladeenergie bis zur fairen Ladeenergie for BEV mit ID 30:  2.5225000000000004\n",
      "Restladezeit:  14.873231132075475\n",
      "Die Restladezeit des BEVS 30 endet vor dem nächsten Interval\n",
      "Ausgewähltes BEV das frei gewordenen Platz belegen darf:  43\n",
      "Ladestart für ausgewähltes BEV:  614.8732311320755\n",
      "10.176 CHARGING POWER WIRD FÜR NEUES BEV 43 GESPEICHERT: \n",
      "ZEITPUNKT FÜR DAS ES GESPEICHERT WIRD:  614.8732311320755\n",
      "AVAILABLE SOLAR POWER:  50.88\n",
      "Restladeenergie bis zur fairen Ladeenergie for BEV mit ID 35:  7.282500000000009\n",
      "Restladezeit:  42.939268867924575\n",
      "Charging BEVs:  [13, 20, 24, 30, 35]\n",
      "\n",
      "\n",
      "Minute:  615\n",
      "Charging BEVs after updating parking end:  [13, 24, 35, 38, 43]\n",
      "Waiting BEVs:  [0, 1, 2, 5, 14, 16, 21, 25, 26, 27, 28, 33, 17, 29, 32, 37, 44, 48, 3, 7, 39, 42]\n",
      "CALCULATE NUMBER OF CHARGING STATIONS\n",
      "Number of charging stations:  5\n",
      "CALCULATE NUMBER OF CHARGING STATIONS\n",
      "Number of charging stations:  5\n",
      "Charging BEVs (nachdem neue Plätze belegt):  [13, 24, 35, 38, 43]\n",
      "AVAILABLE SOLAR POWER:  50.62\n",
      "Restladeenergie bis zur fairen Ladeenergie for BEV mit ID 13:  1.6006178266178264\n",
      "Restladezeit:  9.486079573001737\n",
      "Die Restladezeit des BEVS 13 endet vor dem nächsten Interval\n",
      "Ausgewähltes BEV das frei gewordenen Platz belegen darf:  0\n",
      "Ladestart für ausgewähltes BEV:  624.4860795730017\n",
      "10.123999999999999 CHARGING POWER WIRD FÜR NEUES BEV 0 GESPEICHERT: \n",
      "ZEITPUNKT FÜR DAS ES GESPEICHERT WIRD:  624.4860795730017\n",
      "AVAILABLE SOLAR POWER:  50.62\n",
      "Restladeenergie bis zur fairen Ladeenergie for BEV mit ID 24:  0.3935000000000013\n",
      "Restladezeit:  2.332082180956152\n",
      "Die Restladezeit des BEVS 24 endet vor dem nächsten Interval\n",
      "Ausgewähltes BEV das frei gewordenen Platz belegen darf:  1\n",
      "Ladestart für ausgewähltes BEV:  617.3320821809561\n",
      "10.123999999999999 CHARGING POWER WIRD FÜR NEUES BEV 1 GESPEICHERT: \n",
      "ZEITPUNKT FÜR DAS ES GESPEICHERT WIRD:  617.3320821809561\n",
      "AVAILABLE SOLAR POWER:  50.62\n",
      "Restladeenergie bis zur fairen Ladeenergie for BEV mit ID 35:  5.591010638297887\n",
      "Restladezeit:  33.13518750472869\n",
      "AVAILABLE SOLAR POWER:  50.62\n",
      "Restladeenergie bis zur fairen Ladeenergie for BEV mit ID 38:  8.754665322580639\n",
      "Restladezeit:  51.88462261505713\n",
      "AVAILABLE SOLAR POWER:  50.62\n",
      "Restladeenergie bis zur fairen Ladeenergie for BEV mit ID 43:  8.171000000000005\n",
      "Restladezeit:  48.4255235084947\n",
      "Charging BEVs:  [13, 24, 35, 38, 43]\n",
      "\n",
      "\n",
      "Minute:  630\n",
      "Charging BEVs after updating parking end:  [35, 38, 43, 0, 1]\n",
      "Waiting BEVs:  [2, 5, 14, 16, 21, 25, 26, 27, 28, 33, 17, 29, 32, 37, 44, 48, 3, 7, 39, 42]\n",
      "CALCULATE NUMBER OF CHARGING STATIONS\n",
      "Number of charging stations:  5\n",
      "CALCULATE NUMBER OF CHARGING STATIONS\n",
      "Number of charging stations:  5\n",
      "Charging BEVs (nachdem neue Plätze belegt):  [35, 38, 43, 0, 1]\n",
      "AVAILABLE SOLAR POWER:  50.38\n",
      "Restladeenergie bis zur fairen Ladeenergie for BEV mit ID 35:  3.908164893617043\n",
      "Restladezeit:  23.272121240276157\n",
      "AVAILABLE SOLAR POWER:  50.38\n",
      "Restladeenergie bis zur fairen Ladeenergie for BEV mit ID 38:  8.664792261044314\n",
      "Restladezeit:  51.596619259890716\n",
      "AVAILABLE SOLAR POWER:  50.38\n",
      "Restladeenergie bis zur fairen Ladeenergie for BEV mit ID 43:  8.14960986635221\n",
      "Restladezeit:  48.5288400140068\n",
      "AVAILABLE SOLAR POWER:  50.38\n",
      "Restladeenergie bis zur fairen Ladeenergie for BEV mit ID 0:  7.4046178266178195\n",
      "Restladezeit:  44.09260317557256\n",
      "AVAILABLE SOLAR POWER:  50.38\n",
      "Restladeenergie bis zur fairen Ladeenergie for BEV mit ID 1:  4.610000000000001\n",
      "Restladezeit:  27.45136959110759\n",
      "Charging BEVs:  [35, 38, 43, 0, 1]\n",
      "\n",
      "\n",
      "Minute:  645\n",
      "Charging BEVs after updating parking end:  [35, 38, 43, 0, 1]\n",
      "Waiting BEVs:  [2, 5, 14, 16, 21, 25, 26, 27, 28, 33, 17, 29, 32, 37, 44, 48, 3, 7, 39, 42]\n"
     ]
    },
    {
     "name": "stdout",
     "output_type": "stream",
     "text": [
      "CALCULATE NUMBER OF CHARGING STATIONS\n",
      "Number of charging stations:  5\n",
      "CALCULATE NUMBER OF CHARGING STATIONS\n",
      "Number of charging stations:  5\n",
      "Charging BEVs (nachdem neue Plätze belegt):  [35, 38, 43, 0, 1]\n",
      "AVAILABLE SOLAR POWER:  50.12\n",
      "Restladeenergie bis zur fairen Ladeenergie for BEV mit ID 35:  2.2332978723404535\n",
      "Restladezeit:  13.367704742660337\n",
      "Die Restladezeit des BEVS 35 endet vor dem nächsten Interval\n",
      "Ausgewähltes BEV das frei gewordenen Platz belegen darf:  2\n",
      "Ladestart für ausgewähltes BEV:  658.3677047426603\n",
      "10.024 CHARGING POWER WIRD FÜR NEUES BEV 2 GESPEICHERT: \n",
      "ZEITPUNKT FÜR DAS ES GESPEICHERT WIRD:  658.3677047426603\n",
      "AVAILABLE SOLAR POWER:  50.12\n",
      "Restladeenergie bis zur fairen Ladeenergie for BEV mit ID 38:  8.575345306476947\n",
      "Restladezeit:  51.32888252081174\n",
      "AVAILABLE SOLAR POWER:  50.12\n",
      "Restladeenergie bis zur fairen Ladeenergie for BEV mit ID 43:  8.128321147798754\n",
      "Restladezeit:  48.653159304461816\n",
      "AVAILABLE SOLAR POWER:  50.12\n",
      "Restladeenergie bis zur fairen Ladeenergie for BEV mit ID 0:  6.478646789577237\n",
      "Restladezeit:  38.778811589648264\n",
      "AVAILABLE SOLAR POWER:  50.12\n",
      "Restladeenergie bis zur fairen Ladeenergie for BEV mit ID 1:  2.4826343342552377\n",
      "Restladezeit:  14.860141665534146\n",
      "Die Restladezeit des BEVS 1 endet vor dem nächsten Interval\n",
      "Ausgewähltes BEV das frei gewordenen Platz belegen darf:  5\n",
      "Ladestart für ausgewähltes BEV:  659.8601416655341\n",
      "10.024 CHARGING POWER WIRD FÜR NEUES BEV 5 GESPEICHERT: \n",
      "ZEITPUNKT FÜR DAS ES GESPEICHERT WIRD:  659.8601416655341\n",
      "Charging BEVs:  [35, 38, 43, 0, 1]\n",
      "\n",
      "\n",
      "Minute:  660\n",
      "Charging BEVs after updating parking end:  [38, 43, 0, 2, 5]\n",
      "Waiting BEVs:  [14, 16, 21, 25, 26, 27, 28, 33, 17, 29, 32, 37, 44, 48, 3, 7, 39, 42]\n",
      "CALCULATE NUMBER OF CHARGING STATIONS\n",
      "Number of charging stations:  5\n",
      "CALCULATE NUMBER OF CHARGING STATIONS\n",
      "Number of charging stations:  5\n",
      "Charging BEVs (nachdem neue Plätze belegt):  [38, 43, 0, 2, 5]\n",
      "AVAILABLE SOLAR POWER:  50.62\n",
      "Restladeenergie bis zur fairen Ladeenergie for BEV mit ID 38:  8.48635996779262\n",
      "Restladezeit:  50.29450790868799\n",
      "AVAILABLE SOLAR POWER:  50.62\n",
      "Restladeenergie bis zur fairen Ladeenergie for BEV mit ID 43:  8.107142295597498\n",
      "Restladezeit:  48.04707010429178\n",
      "AVAILABLE SOLAR POWER:  50.62\n",
      "Restladeenergie bis zur fairen Ladeenergie for BEV mit ID 0:  5.557454483573386\n",
      "Restladezeit:  32.93631657589917\n",
      "AVAILABLE SOLAR POWER:  50.62\n",
      "Restladeenergie bis zur fairen Ladeenergie for BEV mit ID 2:  8.184797872340448\n",
      "Restladezeit:  48.507296754289506\n",
      "AVAILABLE SOLAR POWER:  50.62\n",
      "Restladeenergie bis zur fairen Ladeenergie for BEV mit ID 5:  5.124134334255233\n",
      "Restladezeit:  30.368239831619324\n",
      "Charging BEVs:  [38, 43, 0, 2, 5]\n",
      "\n",
      "\n",
      "Minute:  675\n",
      "Charging BEVs after updating parking end:  [38, 43, 0, 2, 5]\n",
      "Waiting BEVs:  [14, 16, 21, 25, 26, 27, 28, 33, 17, 29, 32, 37, 44, 48, 3, 7, 39, 42]\n",
      "CALCULATE NUMBER OF CHARGING STATIONS\n",
      "Number of charging stations:  5\n",
      "CALCULATE NUMBER OF CHARGING STATIONS\n",
      "Number of charging stations:  5\n",
      "Charging BEVs (nachdem neue Plätze belegt):  [38, 43, 0, 2, 5]\n",
      "AVAILABLE SOLAR POWER:  51.88\n",
      "Restladeenergie bis zur fairen Ladeenergie for BEV mit ID 38:  8.396486906256294\n",
      "Restladezeit:  48.55331672854449\n",
      "AVAILABLE SOLAR POWER:  51.88\n",
      "Restladeenergie bis zur fairen Ladeenergie for BEV mit ID 43:  8.085752161949703\n",
      "Restladezeit:  46.75646971058039\n",
      "AVAILABLE SOLAR POWER:  51.88\n",
      "Restladeenergie bis zur fairen Ladeenergie for BEV mit ID 0:  4.6270723101912035\n",
      "Restladezeit:  26.7563934667957\n",
      "AVAILABLE SOLAR POWER:  51.88\n",
      "Restladeenergie bis zur fairen Ladeenergie for BEV mit ID 2:  7.909375252585328\n",
      "Restladezeit:  45.73655697331531\n",
      "AVAILABLE SOLAR POWER:  51.88\n",
      "Restladeenergie bis zur fairen Ladeenergie for BEV mit ID 5:  5.100535571286356\n",
      "Restladezeit:  29.494230365958106\n",
      "Charging BEVs:  [38, 43, 0, 2, 5]\n",
      "\n",
      "\n",
      "Minute:  690\n",
      "Charging BEVs after updating parking end:  [38, 43, 0, 2, 5]\n",
      "Waiting BEVs:  [14, 16, 21, 25, 26, 27, 28, 33, 17, 29, 32, 37, 44, 48, 3, 7, 39, 42]\n",
      "CALCULATE NUMBER OF CHARGING STATIONS\n",
      "Number of charging stations:  5\n",
      "CALCULATE NUMBER OF CHARGING STATIONS\n",
      "Number of charging stations:  5\n",
      "Charging BEVs (nachdem neue Plätze belegt):  [38, 43, 0, 2, 5]\n",
      "AVAILABLE SOLAR POWER:  53.12\n",
      "Restladeenergie bis zur fairen Ladeenergie for BEV mit ID 38:  8.304376783132934\n",
      "Restladezeit:  46.8997182782357\n",
      "AVAILABLE SOLAR POWER:  53.12\n",
      "Restladeenergie bis zur fairen Ladeenergie for BEV mit ID 43:  8.063829599056623\n",
      "Restladezeit:  45.541206319973405\n",
      "AVAILABLE SOLAR POWER:  53.12\n",
      "Restladeenergie bis zur fairen Ladeenergie for BEV mit ID 0:  3.6735316710156285\n",
      "Restladezeit:  20.746602057693686\n",
      "AVAILABLE SOLAR POWER:  53.12\n",
      "Restladeenergie bis zur fairen Ladeenergie for BEV mit ID 2:  7.627096992749381\n",
      "Restladezeit:  43.074719462063534\n",
      "AVAILABLE SOLAR POWER:  53.12\n",
      "Restladeenergie bis zur fairen Ladeenergie for BEV mit ID 5:  5.076349403312722\n",
      "Restladezeit:  28.669141961479983\n",
      "Charging BEVs:  [38, 43, 0, 2, 5]\n",
      "\n",
      "\n",
      "Minute:  705\n",
      "Charging BEVs after updating parking end:  [38, 43, 0, 2, 5]\n",
      "Waiting BEVs:  [14, 16, 21, 25, 26, 27, 28, 33, 17, 29, 32, 37, 44, 48, 3, 7, 39, 42]\n",
      "CALCULATE NUMBER OF CHARGING STATIONS\n",
      "Number of charging stations:  5\n",
      "CALCULATE NUMBER OF CHARGING STATIONS\n",
      "Number of charging stations:  5\n",
      "Charging BEVs (nachdem neue Plätze belegt):  [38, 43, 0, 2, 5]\n",
      "AVAILABLE SOLAR POWER:  54.38\n",
      "Restladeenergie bis zur fairen Ladeenergie for BEV mit ID 38:  8.210065107336616\n",
      "Restladezeit:  45.292746086814724\n",
      "AVAILABLE SOLAR POWER:  54.38\n",
      "Restladeenergie bis zur fairen Ladeenergie for BEV mit ID 43:  8.041383058176123\n",
      "Restladezeit:  44.36217207526364\n",
      "AVAILABLE SOLAR POWER:  54.38\n",
      "Restladeenergie bis zur fairen Ladeenergie for BEV mit ID 0:  2.6972001607417946\n",
      "Restladezeit:  14.879736083533253\n",
      "Die Restladezeit des BEVS 0 endet vor dem nächsten Interval\n",
      "Ausgewähltes BEV das frei gewordenen Platz belegen darf:  16\n",
      "Ladestart für ausgewähltes BEV:  719.8797360835332\n",
      "10.876000000000001 CHARGING POWER WIRD FÜR NEUES BEV 16 GESPEICHERT: \n",
      "ZEITPUNKT FÜR DAS ES GESPEICHERT WIRD:  719.8797360835332\n",
      "AVAILABLE SOLAR POWER:  54.38\n",
      "Restladeenergie bis zur fairen Ladeenergie for BEV mit ID 2:  7.338071912516431\n",
      "Restladezeit:  40.48219149972286\n",
      "AVAILABLE SOLAR POWER:  54.38\n",
      "Restladeenergie bis zur fairen Ladeenergie for BEV mit ID 5:  5.051585154223297\n",
      "Restladezeit:  27.8682520461013\n",
      "Charging BEVs:  [38, 43, 0, 2, 5]\n",
      "\n",
      "\n",
      "Minute:  720\n",
      "Charging BEVs after updating parking end:  [38, 43, 2, 5, 16]\n",
      "Waiting BEVs:  [14, 21, 25, 26, 27, 28, 33, 17, 29, 32, 37, 44, 48, 3, 7, 39, 42]\n",
      "CALCULATE NUMBER OF CHARGING STATIONS\n",
      "Number of charging stations:  5\n",
      "CALCULATE NUMBER OF CHARGING STATIONS\n",
      "Number of charging stations:  5\n",
      "Charging BEVs (nachdem neue Plätze belegt):  [38, 43, 2, 5, 16]\n",
      "AVAILABLE SOLAR POWER:  52.62\n",
      "Restladeenergie bis zur fairen Ladeenergie for BEV mit ID 38:  8.113516369953263\n",
      "Restladezeit:  46.25721989711097\n",
      "AVAILABLE SOLAR POWER:  52.62\n",
      "Restladeenergie bis zur fairen Ladeenergie for BEV mit ID 43:  8.01840408805034\n",
      "Restladezeit:  45.71496059321745\n",
      "AVAILABLE SOLAR POWER:  52.62\n",
      "Restladeenergie bis zur fairen Ladeenergie for BEV mit ID 2:  7.042191192202654\n",
      "Restladezeit:  40.14932264653737\n",
      "AVAILABLE SOLAR POWER:  52.62\n",
      "Restladeenergie bis zur fairen Ladeenergie for BEV mit ID 5:  5.026233500129114\n",
      "Restladezeit:  28.655835234487537\n",
      "Die Restparkzeit von BEV  5 endet vor dem nächsten Intervall\n",
      "Ausgewähltes BEV das frei gewordenen Platz belegen darf:  21\n",
      "Ladestart für ausgewähltes BEV:  726\n",
      "10.524 CHARGING POWER WIRD FÜR NEUES BEV 21 GESPEICHERT: \n",
      "ZEITPUNKT FÜR DAS ES GESPEICHERT WIRD:  726\n",
      "AVAILABLE SOLAR POWER:  52.62\n",
      "Restladeenergie bis zur fairen Ladeenergie for BEV mit ID 16:  6.225700160741786\n",
      "Restladezeit:  35.49429966215386\n",
      "Charging BEVs:  [38, 43, 2, 5, 16]\n",
      "\n",
      "\n",
      "Minute:  735\n",
      "Charging BEVs after updating parking end:  [38, 43, 2, 16, 21]\n",
      "Waiting BEVs:  [25, 26, 27, 28, 33, 17, 29, 32, 37, 44, 48, 3, 7, 39, 42, 47]\n",
      "CALCULATE NUMBER OF CHARGING STATIONS\n",
      "Number of charging stations:  5\n",
      "CALCULATE NUMBER OF CHARGING STATIONS\n",
      "Number of charging stations:  5\n",
      "Charging BEVs (nachdem neue Plätze belegt):  [38, 43, 2, 16, 21]\n",
      "AVAILABLE SOLAR POWER:  47.88\n",
      "Restladeenergie bis zur fairen Ladeenergie for BEV mit ID 38:  8.020092417008943\n",
      "Restladezeit:  50.251205620356785\n",
      "AVAILABLE SOLAR POWER:  47.88\n",
      "Restladeenergie bis zur fairen Ladeenergie for BEV mit ID 43:  7.996168828616382\n",
      "Restladezeit:  50.101308449977324\n",
      "AVAILABLE SOLAR POWER:  47.88\n",
      "Restladeenergie bis zur fairen Ladeenergie for BEV mit ID 2:  6.755886604065269\n",
      "Restladezeit:  42.33011656682499\n",
      "AVAILABLE SOLAR POWER:  47.88\n",
      "Restladeenergie bis zur fairen Ladeenergie for BEV mit ID 16:  6.204605869793509\n",
      "Restladezeit:  38.875976627778876\n",
      "AVAILABLE SOLAR POWER:  47.88\n",
      "Restladeenergie bis zur fairen Ladeenergie for BEV mit ID 21:  4.3489\n",
      "Restladezeit:  27.24874686716792\n",
      "Charging BEVs:  [38, 43, 2, 16, 21]\n",
      "\n",
      "\n",
      "Minute:  750\n",
      "Charging BEVs after updating parking end:  [38, 43, 2, 16, 21]\n",
      "Waiting BEVs:  [26, 27, 28, 33, 17, 29, 32, 37, 44, 3, 7, 39, 42, 47]\n",
      "CALCULATE NUMBER OF CHARGING STATIONS\n",
      "Number of charging stations:  4\n",
      "CALCULATE NUMBER OF CHARGING STATIONS\n",
      "Number of charging stations:  4\n",
      "Charging BEVs (nachdem neue Plätze belegt):  [38, 43, 2, 16, 21]\n",
      "AVAILABLE SOLAR POWER:  43.12\n",
      "Restladeenergie bis zur fairen Ladeenergie for BEV mit ID 38:  7.93508407670157\n",
      "Restladezeit:  55.20698569133746\n",
      "AVAILABLE SOLAR POWER:  43.12\n",
      "Restladeenergie bis zur fairen Ladeenergie for BEV mit ID 43:  7.975936517295629\n",
      "Restladezeit:  55.49120953591579\n",
      "AVAILABLE SOLAR POWER:  43.12\n",
      "Restladeenergie bis zur fairen Ladeenergie for BEV mit ID 2:  6.495372280993852\n",
      "Restladezeit:  45.19043794754536\n",
      "AVAILABLE SOLAR POWER:  43.12\n",
      "Restladeenergie bis zur fairen Ladeenergie for BEV mit ID 16:  6.185411748725409\n",
      "Restladezeit:  43.03394073788551\n",
      "AVAILABLE SOLAR POWER:  43.12\n",
      "Restladeenergie bis zur fairen Ladeenergie for BEV mit ID 21:  2.9125000000000005\n",
      "Restladezeit:  20.263218923933216\n",
      "Die Restparkzeit von BEV  21 endet vor dem nächsten Intervall\n",
      "Ausgewähltes BEV das frei gewordenen Platz belegen darf:  26\n",
      "Ladestart für ausgewähltes BEV:  755\n",
      "8.623999999999999 CHARGING POWER WIRD FÜR NEUES BEV 26 GESPEICHERT: \n",
      "ZEITPUNKT FÜR DAS ES GESPEICHERT WIRD:  755\n",
      "Charging BEVs:  [38, 43, 2, 16, 21]\n",
      "\n",
      "\n",
      "Minute:  765\n",
      "Charging BEVs after updating parking end:  [38, 43, 2, 16, 26]\n",
      "Waiting BEVs:  [27, 28, 33, 17, 29, 32, 37, 44, 3, 39, 42, 47, 6, 18, 22, 23, 36, 49]\n",
      "CALCULATE NUMBER OF CHARGING STATIONS\n",
      "Number of charging stations:  4\n",
      "CALCULATE NUMBER OF CHARGING STATIONS\n",
      "Number of charging stations:  4\n"
     ]
    },
    {
     "name": "stdout",
     "output_type": "stream",
     "text": [
      "Charging BEVs (nachdem neue Plätze belegt):  [38, 43, 2, 16, 26]\n",
      "AVAILABLE SOLAR POWER:  38.38\n",
      "Restladeenergie bis zur fairen Ladeenergie for BEV mit ID 38:  7.858526857945222\n",
      "Restladezeit:  61.426734168409766\n",
      "AVAILABLE SOLAR POWER:  38.38\n",
      "Restladeenergie bis zur fairen Ladeenergie for BEV mit ID 43:  7.957715605345946\n",
      "Restladezeit:  62.2020500678422\n",
      "AVAILABLE SOLAR POWER:  38.38\n",
      "Restladeenergie bis zur fairen Ladeenergie for BEV mit ID 2:  6.260757042672225\n",
      "Restladezeit:  48.93765275668753\n",
      "AVAILABLE SOLAR POWER:  38.38\n",
      "Restladeenergie bis zur fairen Ladeenergie for BEV mit ID 16:  6.168125815131915\n",
      "Restladezeit:  48.21359417768563\n",
      "Die Restparkzeit von BEV  16 endet vor dem nächsten Intervall\n",
      "Ausgewähltes BEV das frei gewordenen Platz belegen darf:  28\n",
      "Ladestart für ausgewähltes BEV:  774\n",
      "7.676 CHARGING POWER WIRD FÜR NEUES BEV 28 GESPEICHERT: \n",
      "ZEITPUNKT FÜR DAS ES GESPEICHERT WIRD:  774\n",
      "AVAILABLE SOLAR POWER:  38.38\n",
      "Restladeenergie bis zur fairen Ladeenergie for BEV mit ID 26:  7.245166666666668\n",
      "Restladezeit:  56.632360604481505\n",
      "Charging BEVs:  [38, 43, 2, 16, 26]\n",
      "\n",
      "\n",
      "Minute:  780\n",
      "Charging BEVs after updating parking end:  [38, 43, 2, 26, 28]\n",
      "Waiting BEVs:  [27, 33, 17, 29, 32, 37, 44, 3, 39, 42, 47, 6, 18, 22, 23, 36, 49]\n",
      "CALCULATE NUMBER OF CHARGING STATIONS\n",
      "Number of charging stations:  4\n",
      "CALCULATE NUMBER OF CHARGING STATIONS\n",
      "Number of charging stations:  4\n",
      "Charging BEVs (nachdem neue Plätze belegt):  [38, 43, 2, 26, 28]\n",
      "AVAILABLE SOLAR POWER:  36.75\n",
      "Restladeenergie bis zur fairen Ladeenergie for BEV mit ID 38:  7.790385251825819\n",
      "Restladezeit:  63.59498164755771\n",
      "AVAILABLE SOLAR POWER:  36.75\n",
      "Restladeenergie bis zur fairen Ladeenergie for BEV mit ID 43:  7.9414976415094705\n",
      "Restladezeit:  64.82855217558752\n",
      "AVAILABLE SOLAR POWER:  36.75\n",
      "Restladeenergie bis zur fairen Ladeenergie for BEV mit ID 2:  6.051932069416565\n",
      "Restladezeit:  49.40352709727808\n",
      "AVAILABLE SOLAR POWER:  36.75\n",
      "Restladeenergie bis zur fairen Ladeenergie for BEV mit ID 26:  5.965833333333334\n",
      "Restladezeit:  48.700680272108855\n",
      "AVAILABLE SOLAR POWER:  36.75\n",
      "Restladeenergie bis zur fairen Ladeenergie for BEV mit ID 28:  7.804900000000002\n",
      "Restladezeit:  63.71346938775511\n",
      "Charging BEVs:  [38, 43, 2, 26, 28]\n",
      "\n",
      "\n",
      "Minute:  795\n",
      "Charging BEVs after updating parking end:  [38, 43, 2, 26, 28]\n",
      "Waiting BEVs:  [33, 17, 29, 32, 37, 44, 3, 39, 42, 47, 6, 18, 22, 23, 36, 49, 8, 9, 10, 12, 31, 34, 40, 41, 45, 46]\n",
      "CALCULATE NUMBER OF CHARGING STATIONS\n",
      "Number of charging stations:  4\n",
      "CALCULATE NUMBER OF CHARGING STATIONS\n",
      "Number of charging stations:  4\n",
      "Charging BEVs (nachdem neue Plätze belegt):  [38, 43, 2, 26, 28]\n",
      "AVAILABLE SOLAR POWER:  38.25\n",
      "Restladeenergie bis zur fairen Ladeenergie for BEV mit ID 38:  7.725137622203931\n",
      "Restladezeit:  60.589314683952395\n",
      "AVAILABLE SOLAR POWER:  38.25\n",
      "Restladeenergie bis zur fairen Ladeenergie for BEV mit ID 43:  7.925968455188718\n",
      "Restladezeit:  62.164458472068375\n",
      "AVAILABLE SOLAR POWER:  38.25\n",
      "Restladeenergie bis zur fairen Ladeenergie for BEV mit ID 2:  5.851975900392451\n",
      "Restladezeit:  45.89785019915647\n",
      "AVAILABLE SOLAR POWER:  38.25\n",
      "Restladeenergie bis zur fairen Ladeenergie for BEV mit ID 26:  4.740833333333335\n",
      "Restladezeit:  37.18300653594772\n",
      "AVAILABLE SOLAR POWER:  38.25\n",
      "Restladeenergie bis zur fairen Ladeenergie for BEV mit ID 28:  7.069900000000001\n",
      "Restladezeit:  55.45019607843138\n",
      "Charging BEVs:  [38, 43, 2, 26, 28]\n",
      "\n",
      "\n",
      "Minute:  810\n",
      "Charging BEVs after updating parking end:  [38, 43, 2, 26, 28]\n",
      "Waiting BEVs:  [33, 17, 32, 37, 44, 3, 39, 42, 47, 6, 18, 22, 23, 36, 49, 8, 9, 10, 12, 31, 34, 40, 41, 45, 46]\n",
      "CALCULATE NUMBER OF CHARGING STATIONS\n",
      "Number of charging stations:  4\n",
      "CALCULATE NUMBER OF CHARGING STATIONS\n",
      "Number of charging stations:  4\n",
      "Charging BEVs (nachdem neue Plätze belegt):  [38, 43, 2, 26, 28]\n",
      "AVAILABLE SOLAR POWER:  39.75\n",
      "Restladeenergie bis zur fairen Ladeenergie for BEV mit ID 38:  7.657226824026049\n",
      "Restladezeit:  57.7903911247249\n",
      "AVAILABLE SOLAR POWER:  39.75\n",
      "Restladeenergie bis zur fairen Ladeenergie for BEV mit ID 43:  7.909805424528343\n",
      "Restladezeit:  59.69664471342145\n",
      "AVAILABLE SOLAR POWER:  39.75\n",
      "Restladeenergie bis zur fairen Ladeenergie for BEV mit ID 2:  5.643858255081638\n",
      "Restladezeit:  42.595156642125566\n",
      "AVAILABLE SOLAR POWER:  39.75\n",
      "Restladeenergie bis zur fairen Ladeenergie for BEV mit ID 26:  3.465833333333334\n",
      "Restladezeit:  26.15723270440252\n",
      "AVAILABLE SOLAR POWER:  39.75\n",
      "Restladeenergie bis zur fairen Ladeenergie for BEV mit ID 28:  6.304900000000002\n",
      "Restladezeit:  47.58415094339624\n",
      "Charging BEVs:  [38, 43, 2, 26, 28]\n",
      "\n",
      "\n",
      "Minute:  825\n",
      "Charging BEVs after updating parking end:  [38, 43, 2, 26, 28]\n",
      "Waiting BEVs:  [33, 17, 32, 37, 44, 3, 39, 42, 47, 6, 18, 22, 23, 36, 49, 8, 9, 10, 12, 31, 34, 40, 41, 45, 46, 15]\n",
      "CALCULATE NUMBER OF CHARGING STATIONS\n",
      "Number of charging stations:  4\n",
      "CALCULATE NUMBER OF CHARGING STATIONS\n",
      "Number of charging stations:  4\n",
      "Charging BEVs (nachdem neue Plätze belegt):  [38, 43, 2, 26, 28]\n",
      "AVAILABLE SOLAR POWER:  41.25\n",
      "Restladeenergie bis zur fairen Ladeenergie for BEV mit ID 38:  7.5866528572921705\n",
      "Restladezeit:  55.17565714394306\n",
      "AVAILABLE SOLAR POWER:  41.25\n",
      "Restladeenergie bis zur fairen Ladeenergie for BEV mit ID 43:  7.893008549528345\n",
      "Restladezeit:  57.40369854202432\n",
      "AVAILABLE SOLAR POWER:  41.25\n",
      "Restladeenergie bis zur fairen Ladeenergie for BEV mit ID 2:  5.4275791334841275\n",
      "Restladezeit:  39.473302788975474\n",
      "AVAILABLE SOLAR POWER:  41.25\n",
      "Restladeenergie bis zur fairen Ladeenergie for BEV mit ID 26:  2.140833333333334\n",
      "Restladezeit:  15.569696969696974\n",
      "AVAILABLE SOLAR POWER:  41.25\n",
      "Restladeenergie bis zur fairen Ladeenergie for BEV mit ID 28:  5.509900000000002\n",
      "Restladezeit:  40.07200000000001\n",
      "Charging BEVs:  [38, 43, 2, 26, 28]\n",
      "\n",
      "\n",
      "Minute:  840\n",
      "Charging BEVs after updating parking end:  [38, 43, 2, 26, 28]\n",
      "Waiting BEVs:  [33, 17, 32, 37, 44, 3, 39, 42, 47, 6, 18, 22, 23, 36, 49, 8, 9, 10, 12, 31, 34, 40, 41, 45, 46, 15]\n",
      "CALCULATE NUMBER OF CHARGING STATIONS\n",
      "Number of charging stations:  4\n",
      "CALCULATE NUMBER OF CHARGING STATIONS\n",
      "Number of charging stations:  4\n",
      "Charging BEVs (nachdem neue Plätze belegt):  [38, 43, 2, 26, 28]\n",
      "AVAILABLE SOLAR POWER:  39.0\n",
      "Restladeenergie bis zur fairen Ladeenergie for BEV mit ID 38:  7.513415722002296\n",
      "Restladezeit:  57.79550555386382\n",
      "AVAILABLE SOLAR POWER:  39.0\n",
      "Restladeenergie bis zur fairen Ladeenergie for BEV mit ID 43:  7.875577830188725\n",
      "Restladezeit:  60.58136792452865\n",
      "AVAILABLE SOLAR POWER:  39.0\n",
      "Restladeenergie bis zur fairen Ladeenergie for BEV mit ID 2:  5.203138535599917\n",
      "Restladezeit:  40.024142581537824\n",
      "AVAILABLE SOLAR POWER:  39.0\n",
      "Restladeenergie bis zur fairen Ladeenergie for BEV mit ID 26:  0.765833333333334\n",
      "Restladezeit:  5.891025641025647\n",
      "Die Restladezeit des BEVS 26 endet vor dem nächsten Interval\n",
      "Ausgewähltes BEV das frei gewordenen Platz belegen darf:  33\n",
      "Ladestart für ausgewähltes BEV:  845.8910256410256\n",
      "7.8 CHARGING POWER WIRD FÜR NEUES BEV 33 GESPEICHERT: \n",
      "ZEITPUNKT FÜR DAS ES GESPEICHERT WIRD:  845.8910256410256\n",
      "AVAILABLE SOLAR POWER:  39.0\n",
      "Restladeenergie bis zur fairen Ladeenergie for BEV mit ID 28:  4.684900000000001\n",
      "Restladezeit:  36.03769230769232\n",
      "Charging BEVs:  [38, 43, 2, 26, 28]\n",
      "\n",
      "\n",
      "Minute:  855\n",
      "Charging BEVs after updating parking end:  [38, 43, 2, 28, 33]\n",
      "Waiting BEVs:  [17, 32, 37, 44, 39, 42, 47, 6, 18, 22, 23, 36, 49, 8, 9, 10, 12, 31, 34, 40, 41, 45, 46, 15]\n",
      "CALCULATE NUMBER OF CHARGING STATIONS\n",
      "Number of charging stations:  3\n",
      "CALCULATE NUMBER OF CHARGING STATIONS\n",
      "Number of charging stations:  3\n",
      "Charging BEVs (nachdem neue Plätze belegt):  [38, 43, 2, 28, 33]\n",
      "AVAILABLE SOLAR POWER:  33.0\n",
      "Restladeenergie bis zur fairen Ladeenergie for BEV mit ID 38:  7.444173339546415\n",
      "Restladezeit:  67.6743030867856\n",
      "AVAILABLE SOLAR POWER:  33.0\n",
      "Restladeenergie bis zur fairen Ladeenergie for BEV mit ID 43:  7.859097877358538\n",
      "Restladezeit:  71.44634433962307\n",
      "AVAILABLE SOLAR POWER:  33.0\n",
      "Restladeenergie bis zur fairen Ladeenergie for BEV mit ID 2:  4.990940152145756\n",
      "Restladezeit:  45.37218320132506\n",
      "AVAILABLE SOLAR POWER:  33.0\n",
      "Restladeenergie bis zur fairen Ladeenergie for BEV mit ID 28:  3.9049000000000014\n",
      "Restladezeit:  35.499090909090924\n",
      "AVAILABLE SOLAR POWER:  33.0\n",
      "Restladeenergie bis zur fairen Ladeenergie for BEV mit ID 33:  6.378333333333332\n",
      "Restladezeit:  57.98484848484848\n",
      "Charging BEVs:  [38, 43, 2, 28, 33]\n",
      "\n",
      "\n",
      "Minute:  870\n",
      "Charging BEVs after updating parking end:  [38, 43, 2, 28, 33]\n",
      "Waiting BEVs:  [17, 32, 37, 44, 39, 42, 47, 6, 18, 22, 23, 36, 49, 8, 9, 10, 12, 31, 34, 40, 41, 45, 46, 15]\n",
      "CALCULATE NUMBER OF CHARGING STATIONS\n",
      "Number of charging stations:  3\n",
      "CALCULATE NUMBER OF CHARGING STATIONS\n",
      "Number of charging stations:  3\n",
      "Charging BEVs (nachdem neue Plätze belegt):  [38, 43, 2, 28, 33]\n",
      "AVAILABLE SOLAR POWER:  27.0\n",
      "Restladeenergie bis zur fairen Ladeenergie for BEV mit ID 38:  7.385583631314517\n",
      "Restladezeit:  82.06204034793906\n",
      "AVAILABLE SOLAR POWER:  27.0\n",
      "Restladeenergie bis zur fairen Ladeenergie for BEV mit ID 43:  7.8451533018868425\n",
      "Restladezeit:  87.16837002096491\n",
      "Die Restparkzeit von BEV  43 endet vor dem nächsten Intervall\n",
      "Ausgewähltes BEV das frei gewordenen Platz belegen darf:  17\n",
      "Ladestart für ausgewähltes BEV:  882\n",
      "5.4 CHARGING POWER WIRD FÜR NEUES BEV 17 GESPEICHERT: \n",
      "ZEITPUNKT FÜR DAS ES GESPEICHERT WIRD:  882\n",
      "AVAILABLE SOLAR POWER:  27.0\n",
      "Restladeenergie bis zur fairen Ladeenergie for BEV mit ID 2:  4.8113876738383885\n",
      "Restladezeit:  53.45986304264876\n",
      "AVAILABLE SOLAR POWER:  27.0\n",
      "Restladeenergie bis zur fairen Ladeenergie for BEV mit ID 28:  3.2449000000000012\n",
      "Restladezeit:  36.05444444444446\n",
      "AVAILABLE SOLAR POWER:  27.0\n",
      "Restladeenergie bis zur fairen Ladeenergie for BEV mit ID 33:  5.3763461538461526\n",
      "Restladezeit:  59.73717948717947\n",
      "Charging BEVs:  [38, 43, 2, 28, 33]\n",
      "\n",
      "\n",
      "Minute:  885\n",
      "Charging BEVs after updating parking end:  [38, 2, 28, 33, 17]\n",
      "Waiting BEVs:  [32, 37, 44, 39, 42, 47, 6, 18, 22, 23, 36, 49, 8, 9, 10, 12, 31, 34, 40, 41, 45, 46, 15]\n",
      "CALCULATE NUMBER OF CHARGING STATIONS\n",
      "Number of charging stations:  2\n",
      "CALCULATE NUMBER OF CHARGING STATIONS\n",
      "Number of charging stations:  2\n",
      "Charging BEVs (nachdem neue Plätze belegt):  [38, 2, 28, 33, 17]\n",
      "AVAILABLE SOLAR POWER:  21.0\n",
      "Restladeenergie bis zur fairen Ladeenergie for BEV mit ID 38:  7.337646597306599\n",
      "Restladezeit:  104.8235228186657\n",
      "AVAILABLE SOLAR POWER:  21.0\n",
      "Restladeenergie bis zur fairen Ladeenergie for BEV mit ID 2:  4.664481100677815\n",
      "Restladezeit:  66.63544429539735\n",
      "AVAILABLE SOLAR POWER:  21.0\n",
      "Restladeenergie bis zur fairen Ladeenergie for BEV mit ID 28:  2.704900000000001\n",
      "Restladezeit:  38.641428571428584\n",
      "AVAILABLE SOLAR POWER:  21.0\n",
      "Restladeenergie bis zur fairen Ladeenergie for BEV mit ID 33:  4.55653846153846\n",
      "Restladezeit:  65.09340659340656\n",
      "AVAILABLE SOLAR POWER:  21.0\n",
      "Restladeenergie bis zur fairen Ladeenergie for BEV mit ID 17:  7.875000000000002\n",
      "Restladezeit:  112.50000000000003\n",
      "Charging BEVs:  [38, 2, 28, 33, 17]\n",
      "\n",
      "\n",
      "Minute:  900\n",
      "Charging BEVs after updating parking end:  [38, 2, 28, 33, 17]\n",
      "Waiting BEVs:  [32, 37, 44, 39, 42, 47, 6, 18, 22, 23, 36, 49, 8, 9, 10, 12, 31, 34, 40, 41, 45, 46, 15]\n",
      "CALCULATE NUMBER OF CHARGING STATIONS\n",
      "Number of charging stations:  2\n",
      "CALCULATE NUMBER OF CHARGING STATIONS\n",
      "Number of charging stations:  2\n"
     ]
    },
    {
     "name": "stdout",
     "output_type": "stream",
     "text": [
      "Charging BEVs (nachdem neue Plätze belegt):  [38, 2, 28, 33, 17]\n",
      "AVAILABLE SOLAR POWER:  16.88\n",
      "Restladeenergie bis zur fairen Ladeenergie for BEV mit ID 38:  7.300362237522663\n",
      "Restladezeit:  129.74577436355443\n",
      "AVAILABLE SOLAR POWER:  16.88\n",
      "Restladeenergie bis zur fairen Ladeenergie for BEV mit ID 2:  4.550220432664036\n",
      "Restladezeit:  80.86884655208594\n",
      "AVAILABLE SOLAR POWER:  16.88\n",
      "Restladeenergie bis zur fairen Ladeenergie for BEV mit ID 28:  2.2849000000000013\n",
      "Restladezeit:  40.60841232227491\n",
      "AVAILABLE SOLAR POWER:  16.88\n",
      "Restladeenergie bis zur fairen Ladeenergie for BEV mit ID 33:  3.9189102564102543\n",
      "Restladezeit:  69.64887896463722\n",
      "AVAILABLE SOLAR POWER:  16.88\n",
      "Restladeenergie bis zur fairen Ladeenergie for BEV mit ID 17:  7.665000000000001\n",
      "Restladezeit:  136.22630331753555\n",
      "Charging BEVs:  [38, 2, 28, 33, 17]\n",
      "\n",
      "\n",
      "Minute:  915\n",
      "Charging BEVs after updating parking end:  [38, 2, 28, 33, 17]\n",
      "Waiting BEVs:  [32, 37, 44, 39, 42, 47, 6, 18, 22, 23, 36, 49, 8, 9, 10, 12, 31, 34, 40, 41, 45, 46, 15]\n",
      "CALCULATE NUMBER OF CHARGING STATIONS\n",
      "Number of charging stations:  2\n",
      "CALCULATE NUMBER OF CHARGING STATIONS\n",
      "Number of charging stations:  2\n",
      "Charging BEVs (nachdem neue Plätze belegt):  [38, 2, 28, 33, 17]\n",
      "AVAILABLE SOLAR POWER:  14.62\n",
      "Restladeenergie bis zur fairen Ladeenergie for BEV mit ID 38:  7.270392714039195\n",
      "Restladezeit:  149.18726499396433\n",
      "AVAILABLE SOLAR POWER:  14.62\n",
      "Restladeenergie bis zur fairen Ladeenergie for BEV mit ID 2:  4.458376619517722\n",
      "Restladezeit:  91.48515635125284\n",
      "Die Restparkzeit von BEV  2 endet vor dem nächsten Intervall\n",
      "Ausgewähltes BEV das frei gewordenen Platz belegen darf:  32\n",
      "Ladestart für ausgewähltes BEV:  924\n",
      "2.924 CHARGING POWER WIRD FÜR NEUES BEV 32 GESPEICHERT: \n",
      "ZEITPUNKT FÜR DAS ES GESPEICHERT WIRD:  924\n",
      "AVAILABLE SOLAR POWER:  14.62\n",
      "Restladeenergie bis zur fairen Ladeenergie for BEV mit ID 28:  1.9473000000000011\n",
      "Restladezeit:  39.95827633378936\n",
      "AVAILABLE SOLAR POWER:  14.62\n",
      "Restladeenergie bis zur fairen Ladeenergie for BEV mit ID 33:  3.4063786324786296\n",
      "Restladezeit:  69.89833035181866\n",
      "AVAILABLE SOLAR POWER:  14.62\n",
      "Restladeenergie bis zur fairen Ladeenergie for BEV mit ID 17:  7.496200000000002\n",
      "Restladezeit:  153.82079343365257\n",
      "Die Restparkzeit von BEV  17 endet vor dem nächsten Intervall\n",
      "Ausgewähltes BEV das frei gewordenen Platz belegen darf:  37\n",
      "Ladestart für ausgewähltes BEV:  924\n",
      "2.924 CHARGING POWER WIRD FÜR NEUES BEV 37 GESPEICHERT: \n",
      "ZEITPUNKT FÜR DAS ES GESPEICHERT WIRD:  924\n",
      "Charging BEVs:  [38, 2, 28, 33, 17]\n",
      "\n",
      "\n",
      "Minute:  930\n",
      "Charging BEVs after updating parking end:  [38, 28, 33, 32, 37]\n",
      "Waiting BEVs:  [44, 39, 42, 47, 6, 18, 22, 23, 36, 49, 8, 9, 10, 12, 31, 34, 40, 41, 45, 46, 15]\n",
      "stop parking at interval_minute for  37\n",
      "CALCULATE NUMBER OF CHARGING STATIONS\n",
      "Number of charging stations:  2\n",
      "CALCULATE NUMBER OF CHARGING STATIONS\n",
      "Number of charging stations:  2\n",
      "Charging BEVs (nachdem neue Plätze belegt):  [38, 28, 33, 32]\n",
      "AVAILABLE SOLAR POWER:  12.38\n",
      "Restladeenergie bis zur fairen Ladeenergie for BEV mit ID 38:  7.244435697846759\n",
      "Restladezeit:  140.44140286617304\n",
      "AVAILABLE SOLAR POWER:  12.38\n",
      "Restladeenergie bis zur fairen Ladeenergie for BEV mit ID 28:  1.6549000000000014\n",
      "Restladezeit:  32.0820678513732\n",
      "Die Restparkzeit von BEV  28 endet vor dem nächsten Intervall\n",
      "Ausgewähltes BEV das frei gewordenen Platz belegen darf:  39\n",
      "Ladestart für ausgewähltes BEV:  936\n",
      "3.095 CHARGING POWER WIRD FÜR NEUES BEV 39 GESPEICHERT: \n",
      "ZEITPUNKT FÜR DAS ES GESPEICHERT WIRD:  936\n",
      "AVAILABLE SOLAR POWER:  12.38\n",
      "Restladeenergie bis zur fairen Ladeenergie for BEV mit ID 33:  2.9624679487179453\n",
      "Restladezeit:  57.430719522803464\n",
      "AVAILABLE SOLAR POWER:  12.38\n",
      "Restladeenergie bis zur fairen Ladeenergie for BEV mit ID 32:  7.967600000000002\n",
      "Restladezeit:  154.46074313408727\n",
      "Die Restparkzeit von BEV  32 endet vor dem nächsten Intervall\n",
      "Ausgewähltes BEV das frei gewordenen Platz belegen darf:  42\n",
      "Ladestart für ausgewähltes BEV:  936\n",
      "3.095 CHARGING POWER WIRD FÜR NEUES BEV 42 GESPEICHERT: \n",
      "ZEITPUNKT FÜR DAS ES GESPEICHERT WIRD:  936\n",
      "Charging BEVs:  [38, 28, 33, 32]\n",
      "\n",
      "\n",
      "Minute:  945\n",
      "Charging BEVs after updating parking end:  [38, 33, 39, 42]\n",
      "Waiting BEVs:  [44, 47, 6, 18, 22, 23, 36, 49, 8, 9, 10, 12, 31, 34, 40, 41, 45, 46, 15]\n",
      "CALCULATE NUMBER OF CHARGING STATIONS\n",
      "Number of charging stations:  1\n",
      "CALCULATE NUMBER OF CHARGING STATIONS\n",
      "Number of charging stations:  1\n",
      "Charging BEVs (nachdem neue Plätze belegt):  [38, 33, 39, 42]\n",
      "AVAILABLE SOLAR POWER:  10.12\n",
      "Restladeenergie bis zur fairen Ladeenergie for BEV mit ID 38:  7.216960675577407\n",
      "Restladezeit:  171.15321760262626\n",
      "Die Restparkzeit von BEV  38 endet vor dem nächsten Intervall\n",
      "Ausgewähltes BEV das frei gewordenen Platz belegen darf:  47\n",
      "Ladestart für ausgewähltes BEV:  954\n",
      "2.53 CHARGING POWER WIRD FÜR NEUES BEV 47 GESPEICHERT: \n",
      "ZEITPUNKT FÜR DAS ES GESPEICHERT WIRD:  954\n",
      "AVAILABLE SOLAR POWER:  10.12\n",
      "Restladeenergie bis zur fairen Ladeenergie for BEV mit ID 33:  2.492596688034184\n",
      "Restladezeit:  59.11296493361702\n",
      "AVAILABLE SOLAR POWER:  10.12\n",
      "Restladeenergie bis zur fairen Ladeenergie for BEV mit ID 39:  7.42325\n",
      "Restladezeit:  176.04545454545456\n",
      "Die Restparkzeit von BEV  39 endet vor dem nächsten Intervall\n",
      "Ausgewähltes BEV das frei gewordenen Platz belegen darf:  6\n",
      "Ladestart für ausgewähltes BEV:  954\n",
      "2.53 CHARGING POWER WIRD FÜR NEUES BEV 6 GESPEICHERT: \n",
      "ZEITPUNKT FÜR DAS ES GESPEICHERT WIRD:  954\n",
      "AVAILABLE SOLAR POWER:  10.12\n",
      "Restladeenergie bis zur fairen Ladeenergie for BEV mit ID 42:  7.42325\n",
      "Restladezeit:  176.04545454545456\n",
      "Charging BEVs:  [38, 33, 39, 42]\n",
      "\n",
      "\n",
      "Minute:  960\n",
      "Charging BEVs after updating parking end:  [33, 42, 47, 6]\n",
      "Waiting BEVs:  [18, 22, 23, 36, 49, 8, 9, 10, 12, 31, 34, 40, 41, 45, 46, 15]\n",
      "stop parking at interval_minute for  42\n",
      "stop parking at interval_minute for  47\n",
      "stop parking at interval_minute for  6\n",
      "CALCULATE NUMBER OF CHARGING STATIONS\n",
      "Number of charging stations:  1\n",
      "CALCULATE NUMBER OF CHARGING STATIONS\n",
      "Number of charging stations:  1\n",
      "Charging BEVs (nachdem neue Plätze belegt):  [33]\n",
      "AVAILABLE SOLAR POWER:  7.88\n",
      "Restladeenergie bis zur fairen Ladeenergie for BEV mit ID 33:  2.1085016025640986\n",
      "Restladezeit:  16.054580730183492\n",
      "Charging BEVs:  [33]\n"
     ]
    }
   ],
   "source": [
    "import distributionAlgorithmPolling\n",
    "import simulationClasses\n",
    "import simulationData\n",
    "import simulationOutputDataVisualisation\n",
    "import distributionAlgorithmForecast\n",
    "import distributionAlgorithmForecastPolling\n",
    "import postOptimization\n",
    "import numpy as np\n",
    "\n",
    "simulation_day = simulationClasses.SimulationDay(anzahl_bevs_pro_tag)\n",
    "bev_data = simulationData.BevData()\n",
    "table_dict = simulationData.TableDict()\n",
    "simulation_data = simulationData.SimulationData()\n",
    "    \n",
    "day_in_minute_interval_steps = list(np.around(np.arange(480, 960 + 1, minute_interval), 1))\n",
    "distributionAlgorithmForecastPolling.init_simulation(day_in_minute_interval_steps, minute_interval, simulation_data, \n",
    "                                                   simulation_day, solarpeakleistung)\n",
    "\n",
    "postOptimization.start_post_optimization(minute_interval, simulation_day, solarpeakleistung, bev_data, table_dict, simulation_data,\n",
    "                ladeleistung_pro_bev)\n",
    "\n",
    "distributionAlgorithmForecastPolling.start_simulation(solarpeakleistung, ladeleistung_pro_bev,\n",
    "                     simulation_day, bev_data, table_dict, simulation_data, minute_interval)\n",
    "    \n",
    "# nochmal ein Durchgang wo frei gewordener Platz belegt wird"
   ]
  },
  {
   "cell_type": "markdown",
   "metadata": {},
   "source": [
    "### Ergebnis Algorithmus"
   ]
  },
  {
   "cell_type": "code",
   "execution_count": 4,
   "metadata": {
    "pycharm": {
     "is_executing": true
    }
   },
   "outputs": [
    {
     "data": {
      "text/markdown": [
       ">**Ergebnis**<br>Geladene BEVs: 25 von 50<br>Aufgeladene Solarenergie insgesamt: 100.2 kWh<br>Ungenutzte Solarenergie insgesamt: 93.8425 kWh"
      ],
      "text/plain": [
       "<IPython.core.display.Markdown object>"
      ]
     },
     "execution_count": 4,
     "metadata": {},
     "output_type": "execute_result"
    }
   ],
   "source": [
    "simulationOutputDataVisualisation.print_algorithm_result(bev_data, simulation_data, anzahl_bevs_pro_tag)"
   ]
  },
  {
   "cell_type": "markdown",
   "metadata": {},
   "source": [
    "### Tabellarische Übersicht Park- und Ladeverlauf der BEVs"
   ]
  },
  {
   "cell_type": "code",
   "execution_count": 5,
   "metadata": {
    "pycharm": {
     "is_executing": true
    }
   },
   "outputs": [
    {
     "data": {
      "application/vnd.jupyter.widget-view+json": {
       "model_id": "b28858b4ae6c4d4eb81fec3d2245e4bc",
       "version_major": 2,
       "version_minor": 0
      },
      "text/plain": [
       "interactive(children=(IntSlider(value=480, description='Minute: ', max=960, min=480, step=15), Output()), _dom…"
      ]
     },
     "metadata": {},
     "output_type": "display_data"
    }
   ],
   "source": [
    "simulationOutputDataVisualisation.create_tabular_overview_per_minute_slider(table_dict, minute_interval)"
   ]
  },
  {
   "cell_type": "code",
   "execution_count": 6,
   "metadata": {
    "pycharm": {
     "is_executing": true
    }
   },
   "outputs": [
    {
     "data": {
      "application/vnd.plotly.v1+json": {
       "config": {
        "plotlyServerURL": "https://plot.ly"
       },
       "data": [
        {
         "line": {
          "color": "orange"
         },
         "name": "Verfügbare Solarleistung",
         "type": "scatter",
         "x": [
          480,
          495,
          510,
          525,
          540,
          555,
          570,
          585,
          600,
          615,
          630,
          645,
          660,
          675,
          690,
          705,
          720,
          735,
          750,
          765,
          780,
          795,
          810,
          825,
          840,
          855,
          870,
          885,
          900,
          915,
          930,
          945,
          960
         ],
         "y": [
          -2,
          3.25,
          8.5,
          13.749999999999998,
          19,
          27,
          35,
          43,
          51,
          50.75,
          50.5,
          50.25,
          50,
          51.25,
          52.5,
          53.75,
          55,
          50.25,
          45.5,
          40.75,
          36,
          37.5,
          39,
          40.5,
          42,
          36,
          30,
          24,
          18,
          15.75,
          13.5,
          11.25,
          9
         ]
        },
        {
         "line": {
          "color": "green"
         },
         "mode": "lines",
         "name": "ID BEV 6",
         "type": "scatter",
         "x": [
          939.5476575121163,
          945,
          954,
          954,
          960,
          960
         ],
         "y": [
          6.19,
          5.625,
          2.53,
          0,
          0,
          9
         ]
        },
        {
         "line": {
          "color": "green"
         },
         "mode": "lines",
         "name": "ID BEV 8",
         "type": "scatter",
         "x": [
          922.7154582763338,
          922.7154582763338,
          930,
          945,
          945
         ],
         "y": [
          7.31,
          0,
          6.75,
          0,
          11.25
         ]
        },
        {
         "line": {
          "color": "green"
         },
         "mode": "lines",
         "name": "ID BEV 9",
         "type": "scatter",
         "x": [
          918.0984952120383,
          918.0984952120383,
          930,
          939.5476575121163,
          939.5476575121163
         ],
         "y": [
          7.31,
          0,
          13.5,
          0,
          12.38
         ]
        },
        {
         "line": {
          "color": "green"
         },
         "mode": "lines",
         "name": "ID BEV 10",
         "type": "scatter",
         "x": [
          904.372037914692,
          904.372037914692,
          915,
          922.7154582763338,
          922.7154582763338
         ],
         "y": [
          8.44,
          0,
          7.875,
          0,
          14.62
         ]
        },
        {
         "line": {
          "color": "green"
         },
         "mode": "lines",
         "name": "ID BEV 12",
         "type": "scatter",
         "x": [
          900.3732227488151,
          900.3732227488151,
          915,
          918.0984952120383,
          918.0984952120383
         ],
         "y": [
          8.44,
          0,
          15.75,
          0,
          14.62
         ]
        },
        {
         "line": {
          "color": "green"
         },
         "mode": "lines",
         "name": "ID BEV 15",
         "type": "scatter",
         "x": [
          892.4571428571429,
          892.4571428571429,
          900,
          904.372037914692,
          904.372037914692
         ],
         "y": [
          10.5,
          0,
          9,
          0,
          16.88
         ]
        },
        {
         "line": {
          "color": "green"
         },
         "mode": "lines",
         "name": "ID BEV 18",
         "type": "scatter",
         "x": [
          751.1557490833469,
          751.1557490833469,
          765,
          780,
          795,
          810,
          825,
          840,
          855,
          870,
          885,
          900,
          900.3732227488151,
          900.3732227488151
         ],
         "y": [
          10.78,
          0,
          10.1875,
          9,
          9.375,
          9.75,
          10.125,
          10.5,
          9,
          10,
          8,
          18,
          0,
          16.88
         ]
        },
        {
         "line": {
          "color": "green"
         },
         "mode": "lines",
         "name": "ID BEV 22",
         "type": "scatter",
         "x": [
          873.0833333333334,
          873.0833333333334,
          885,
          892.4571428571429,
          892.4571428571429
         ],
         "y": [
          9,
          0,
          16,
          0,
          21
         ]
        },
        {
         "line": {
          "color": "green"
         },
         "mode": "lines",
         "name": "ID BEV 23",
         "type": "scatter",
         "x": [
          865.4045454545454,
          865.4045454545454,
          870,
          885,
          885
         ],
         "y": [
          11,
          0,
          20,
          0,
          24
         ]
        },
        {
         "line": {
          "color": "green"
         },
         "mode": "lines",
         "name": "ID BEV 26",
         "type": "scatter",
         "x": [
          690.8209164784141,
          705,
          720,
          735,
          750,
          755,
          765,
          780,
          795,
          810,
          825,
          840,
          845.8910256410256,
          845.8910256410256,
          855,
          870,
          873.0833333333334,
          873.0833333333334
         ],
         "y": [
          10.623999999999999,
          10.75,
          11,
          10.05,
          9.1,
          8.623999999999999,
          18.3375,
          16.2,
          16.875,
          17.55,
          18.225,
          18.9,
          7.8,
          0,
          18,
          30,
          18,
          0
         ]
        },
        {
         "line": {
          "color": "green"
         },
         "mode": "lines",
         "name": "ID BEV 31",
         "type": "scatter",
         "x": [
          851.7538461538461,
          851.7538461538461,
          855,
          865.4045454545454,
          865.4045454545454
         ],
         "y": [
          9.75,
          0,
          27,
          0,
          22
         ]
        },
        {
         "line": {
          "color": "green"
         },
         "mode": "lines",
         "name": "ID BEV 34",
         "type": "scatter",
         "x": [
          840.0153846153846,
          840.0153846153846,
          855,
          855
         ],
         "y": [
          9.75,
          0,
          0,
          36
         ]
        },
        {
         "line": {
          "color": "green"
         },
         "mode": "lines",
         "name": "ID BEV 36",
         "type": "scatter",
         "x": [
          833.1199999999999,
          833.1199999999999,
          840,
          851.7538461538461,
          851.7538461538461
         ],
         "y": [
          10.3125,
          0,
          29.4,
          0,
          19.5
         ]
        },
        {
         "line": {
          "color": "green"
         },
         "mode": "lines",
         "name": "ID BEV 40",
         "type": "scatter",
         "x": [
          825.8472727272728,
          825.8472727272728,
          840,
          840.0153846153846,
          840.0153846153846
         ],
         "y": [
          10.3125,
          0,
          39.9,
          0,
          19.5
         ]
        },
        {
         "line": {
          "color": "green"
         },
         "mode": "lines",
         "name": "ID BEV 41",
         "type": "scatter",
         "x": [
          818.7245283018867,
          818.7245283018867,
          825,
          833.1199999999999,
          833.1199999999999
         ],
         "y": [
          9.9375,
          0,
          28.35,
          0,
          20.625
         ]
        },
        {
         "line": {
          "color": "green"
         },
         "mode": "lines",
         "name": "ID BEV 42",
         "type": "scatter",
         "x": [
          650.8746177873102,
          660,
          675,
          690,
          705,
          720,
          735,
          750,
          765,
          780,
          795,
          810,
          825,
          825.8472727272728,
          825.8472727272728,
          936,
          945,
          945
         ],
         "y": [
          25.06,
          25,
          17.083333333333332,
          13.125,
          21.5,
          22,
          20.1,
          18.2,
          28.525,
          25.2,
          26.25,
          27.3,
          38.475,
          0,
          20.625,
          3.095,
          14.0625,
          0
         ]
        },
        {
         "line": {
          "color": "green"
         },
         "mode": "lines",
         "name": "ID BEV 45",
         "type": "scatter",
         "x": [
          803.7882352941176,
          803.7882352941176,
          810,
          818.7245283018867,
          818.7245283018867
         ],
         "y": [
          9.5625,
          0,
          37.05,
          0,
          19.875
         ]
        },
        {
         "line": {
          "color": "green"
         },
         "mode": "lines",
         "name": "ID BEV 46",
         "type": "scatter",
         "x": [
          788.2448979591836,
          788.2448979591836,
          795,
          803.7882352941176,
          803.7882352941176
         ],
         "y": [
          9.1875,
          0,
          35.625,
          0,
          19.125
         ]
        },
        {
         "line": {
          "color": "green"
         },
         "mode": "lines",
         "name": "ID BEV 47",
         "type": "scatter",
         "x": [
          757.2550831093104,
          765,
          780,
          788.2448979591836,
          788.2448979591836,
          954,
          954
         ],
         "y": [
          10.78,
          38.7125,
          34.2,
          0,
          18.375,
          5.06,
          0
         ]
        },
        {
         "line": {
          "color": "green"
         },
         "mode": "lines",
         "name": "ID BEV 37",
         "type": "scatter",
         "x": [
          654.1899320408664,
          660,
          675,
          690,
          705,
          720,
          735,
          750,
          751.1557490833469,
          751.1557490833469,
          924,
          924
         ],
         "y": [
          25.06,
          50,
          34.166666666666664,
          26.25,
          32.25,
          33,
          30.150000000000002,
          27.299999999999997,
          0,
          21.56,
          2.924,
          0
         ]
        },
        {
         "line": {
          "color": "green"
         },
         "mode": "lines",
         "name": "ID BEV 3",
         "type": "scatter",
         "x": [
          696.8197713019921,
          696.8197713019921,
          705,
          720,
          735,
          750,
          757.2550831093104,
          757.2550831093104
         ],
         "y": [
          10.623999999999999,
          0,
          43,
          44,
          40.2,
          36.4,
          0,
          21.56
         ]
        },
        {
         "line": {
          "color": "green"
         },
         "mode": "lines",
         "name": "ID BEV 1",
         "type": "scatter",
         "x": [
          617.3320821809561,
          630,
          645,
          659.8601416655341,
          659.8601416655341,
          710.4974255240897,
          720,
          735,
          750,
          750
         ],
         "y": [
          10.123999999999999,
          10.1,
          10.05,
          10.024,
          0,
          10.876000000000001,
          55,
          50.25,
          0,
          45.5
         ]
        },
        {
         "line": {
          "color": "green"
         },
         "mode": "lines",
         "name": "ID BEV 7",
         "type": "scatter",
         "x": [
          678.271087024322,
          678.271087024322,
          690,
          705,
          710.4974255240897,
          710.4974255240897
         ],
         "y": [
          12.97,
          0,
          39.375,
          53.75,
          0,
          21.752000000000002
         ]
        },
        {
         "line": {
          "color": "green"
         },
         "mode": "lines",
         "name": "ID BEV 30",
         "type": "scatter",
         "x": [
          585,
          600,
          614.8732311320755,
          614.8732311320755,
          661.0756442344136,
          675,
          690,
          690.8209164784141,
          690.8209164784141
         ],
         "y": [
          8.6,
          10.2,
          10.176,
          0,
          16.87333333333333,
          51.25,
          52.5,
          0,
          21.247999999999998
         ]
        },
        {
         "line": {
          "color": "green"
         },
         "mode": "lines",
         "name": "ID BEV 4",
         "type": "scatter",
         "x": [
          480,
          480,
          495,
          510,
          525,
          532.2893772893773,
          532.2893772893773
         ],
         "y": [
          0,
          -2,
          3.25,
          4.25,
          6.875,
          8.19,
          0
         ]
        },
        {
         "line": {
          "color": "green"
         },
         "mode": "lines",
         "name": "ID BEV 11",
         "type": "scatter",
         "x": [
          510,
          510,
          525,
          540,
          555,
          559.2725806451613,
          559.2725806451613
         ],
         "y": [
          0,
          8.5,
          13.75,
          6.333333333333333,
          9,
          10.333333333333334,
          0
         ]
        },
        {
         "line": {
          "color": "green"
         },
         "mode": "lines",
         "name": "ID BEV 13",
         "type": "scatter",
         "x": [
          532.2893772893773,
          532.2893772893773,
          540,
          555,
          570,
          585,
          600,
          615,
          624.4860795730017,
          624.4860795730017
         ],
         "y": [
          0,
          16.38,
          12.666666666666666,
          18,
          8.75,
          17.2,
          20.4,
          10.15,
          10.123999999999999,
          0
         ]
        },
        {
         "line": {
          "color": "green"
         },
         "mode": "lines",
         "name": "ID BEV 19",
         "type": "scatter",
         "x": [
          540,
          540,
          555,
          570,
          585,
          590.0265957446809,
          590.0265957446809
         ],
         "y": [
          0,
          19,
          27,
          17.5,
          25.799999999999997,
          9.4,
          0
         ]
        },
        {
         "line": {
          "color": "green"
         },
         "mode": "lines",
         "name": "ID BEV 20",
         "type": "scatter",
         "x": [
          559.2725806451613,
          559.2725806451613,
          570,
          585,
          600,
          614.4673662888009,
          614.4673662888009
         ],
         "y": [
          0,
          20.666666666666668,
          26.25,
          34.4,
          30.599999999999998,
          10.176,
          0
         ]
        },
        {
         "line": {
          "color": "green"
         },
         "mode": "lines",
         "name": "ID BEV 24",
         "type": "scatter",
         "x": [
          570,
          570,
          585,
          600,
          615,
          617.3320821809561,
          617.3320821809561
         ],
         "y": [
          0,
          35,
          43,
          40.8,
          20.3,
          20.247999999999998,
          0
         ]
        },
        {
         "line": {
          "color": "green"
         },
         "mode": "lines",
         "name": "ID BEV 35",
         "type": "scatter",
         "x": [
          590.0265957446809,
          590.0265957446809,
          600,
          615,
          630,
          645,
          658.3677047426603,
          658.3677047426603
         ],
         "y": [
          0,
          18.8,
          51,
          30.450000000000003,
          20.2,
          20.1,
          10.024,
          0
         ]
        },
        {
         "line": {
          "color": "green"
         },
         "mode": "lines",
         "name": "ID BEV 38",
         "type": "scatter",
         "x": [
          614.4673662888009,
          614.4673662888009,
          615,
          630,
          645,
          660,
          675,
          690,
          705,
          720,
          735,
          750,
          765,
          780,
          795,
          810,
          825,
          840,
          855,
          870,
          885,
          900,
          915,
          930,
          945,
          954,
          954
         ],
         "y": [
          0,
          20.352,
          40.6,
          30.299999999999997,
          30.150000000000002,
          60,
          61.5,
          63,
          64.5,
          66,
          60.3,
          54.6,
          46.8625,
          41.400000000000006,
          43.125,
          44.849999999999994,
          46.575,
          48.3,
          43.2,
          36,
          28.8,
          21.6,
          18.9,
          16.875,
          16.875,
          7.59,
          0
         ]
        },
        {
         "line": {
          "color": "green"
         },
         "mode": "lines",
         "name": "ID BEV 43",
         "type": "scatter",
         "x": [
          614.8732311320755,
          614.8732311320755,
          615,
          630,
          645,
          660,
          675,
          690,
          705,
          720,
          735,
          750,
          765,
          780,
          795,
          810,
          825,
          840,
          855,
          870,
          882,
          882
         ],
         "y": [
          0,
          20.352,
          50.75,
          40.4,
          40.2,
          70,
          71.75,
          73.5,
          75.25,
          77,
          70.35,
          63.7,
          55.012499999999996,
          48.60000000000001,
          50.625,
          52.64999999999999,
          54.675000000000004,
          56.699999999999996,
          50.400000000000006,
          42,
          5.4,
          0
         ]
        },
        {
         "line": {
          "color": "green"
         },
         "mode": "lines",
         "name": "ID BEV 0",
         "type": "scatter",
         "x": [
          624.4860795730017,
          624.4860795730017,
          630,
          645,
          660,
          675,
          690,
          705,
          719.8797360835332,
          719.8797360835332
         ],
         "y": [
          0,
          20.247999999999998,
          50.5,
          50.25,
          80,
          82,
          84,
          86,
          10.876000000000001,
          0
         ]
        },
        {
         "line": {
          "color": "green"
         },
         "mode": "lines",
         "name": "ID BEV 2",
         "type": "scatter",
         "x": [
          658.3677047426603,
          658.3677047426603,
          660,
          675,
          690,
          705,
          720,
          735,
          750,
          765,
          780,
          795,
          810,
          825,
          840,
          855,
          870,
          885,
          900,
          915,
          924,
          924
         ],
         "y": [
          0,
          20.048,
          90,
          92.25,
          94.5,
          96.75,
          88,
          80.39999999999999,
          72.8,
          63.162499999999994,
          55.80000000000001,
          58.125,
          60.44999999999999,
          62.775000000000006,
          65.1,
          57.60000000000001,
          48,
          33.6,
          25.200000000000003,
          22.049999999999997,
          5.848,
          0
         ]
        },
        {
         "line": {
          "color": "green"
         },
         "mode": "lines",
         "name": "ID BEV 5",
         "type": "scatter",
         "x": [
          659.8601416655341,
          659.8601416655341,
          660,
          675,
          690,
          705,
          720,
          726,
          726
         ],
         "y": [
          0,
          20.048,
          100,
          102.5,
          105,
          107.5,
          99,
          10.524,
          0
         ]
        },
        {
         "line": {
          "color": "green"
         },
         "mode": "lines",
         "name": "ID BEV 16",
         "type": "scatter",
         "x": [
          719.8797360835332,
          719.8797360835332,
          720,
          735,
          750,
          765,
          774,
          774
         ],
         "y": [
          0,
          21.752000000000002,
          110,
          90.44999999999999,
          81.89999999999999,
          71.3125,
          7.676,
          0
         ]
        },
        {
         "line": {
          "color": "green"
         },
         "mode": "lines",
         "name": "ID BEV 21",
         "type": "scatter",
         "x": [
          726,
          726,
          735,
          750,
          755,
          755
         ],
         "y": [
          0,
          21.048,
          100.49999999999999,
          90.99999999999999,
          17.247999999999998,
          0
         ]
        },
        {
         "line": {
          "color": "green"
         },
         "mode": "lines",
         "name": "ID BEV 28",
         "type": "scatter",
         "x": [
          774,
          774,
          780,
          795,
          810,
          825,
          840,
          855,
          870,
          885,
          900,
          915,
          930,
          936,
          936
         ],
         "y": [
          0,
          15.352,
          63.000000000000014,
          65.625,
          68.24999999999999,
          70.875,
          73.5,
          64.80000000000001,
          54,
          38.4,
          28.800000000000004,
          25.199999999999996,
          20.25,
          6.19,
          0
         ]
        },
        {
         "line": {
          "color": "green"
         },
         "mode": "lines",
         "name": "ID BEV 33",
         "type": "scatter",
         "x": [
          845.8910256410256,
          845.8910256410256,
          855,
          870,
          885,
          900,
          915,
          930,
          945,
          960,
          960
         ],
         "y": [
          0,
          15.6,
          72.00000000000001,
          60,
          43.199999999999996,
          32.400000000000006,
          28.349999999999994,
          23.625,
          19.6875,
          18,
          0
         ]
        },
        {
         "line": {
          "color": "green"
         },
         "mode": "lines",
         "name": "ID BEV 17",
         "type": "scatter",
         "x": [
          882,
          882,
          885,
          900,
          915,
          924,
          924
         ],
         "y": [
          0,
          10.8,
          47.99999999999999,
          36.00000000000001,
          31.499999999999993,
          8.772,
          0
         ]
        },
        {
         "line": {
          "color": "green"
         },
         "mode": "lines",
         "name": "ID BEV 32",
         "type": "scatter",
         "x": [
          924,
          924,
          930,
          936,
          936
         ],
         "y": [
          0,
          11.696,
          27,
          9.285,
          0
         ]
        },
        {
         "line": {
          "color": "green"
         },
         "mode": "lines",
         "name": "ID BEV 39",
         "type": "scatter",
         "x": [
          936,
          936,
          945,
          954,
          954
         ],
         "y": [
          0,
          12.38,
          22.5,
          10.12,
          0
         ]
        }
       ],
       "layout": {
        "template": {
         "data": {
          "bar": [
           {
            "error_x": {
             "color": "#2a3f5f"
            },
            "error_y": {
             "color": "#2a3f5f"
            },
            "marker": {
             "line": {
              "color": "white",
              "width": 0.5
             },
             "pattern": {
              "fillmode": "overlay",
              "size": 10,
              "solidity": 0.2
             }
            },
            "type": "bar"
           }
          ],
          "barpolar": [
           {
            "marker": {
             "line": {
              "color": "white",
              "width": 0.5
             },
             "pattern": {
              "fillmode": "overlay",
              "size": 10,
              "solidity": 0.2
             }
            },
            "type": "barpolar"
           }
          ],
          "carpet": [
           {
            "aaxis": {
             "endlinecolor": "#2a3f5f",
             "gridcolor": "#C8D4E3",
             "linecolor": "#C8D4E3",
             "minorgridcolor": "#C8D4E3",
             "startlinecolor": "#2a3f5f"
            },
            "baxis": {
             "endlinecolor": "#2a3f5f",
             "gridcolor": "#C8D4E3",
             "linecolor": "#C8D4E3",
             "minorgridcolor": "#C8D4E3",
             "startlinecolor": "#2a3f5f"
            },
            "type": "carpet"
           }
          ],
          "choropleth": [
           {
            "colorbar": {
             "outlinewidth": 0,
             "ticks": ""
            },
            "type": "choropleth"
           }
          ],
          "contour": [
           {
            "colorbar": {
             "outlinewidth": 0,
             "ticks": ""
            },
            "colorscale": [
             [
              0,
              "#0d0887"
             ],
             [
              0.1111111111111111,
              "#46039f"
             ],
             [
              0.2222222222222222,
              "#7201a8"
             ],
             [
              0.3333333333333333,
              "#9c179e"
             ],
             [
              0.4444444444444444,
              "#bd3786"
             ],
             [
              0.5555555555555556,
              "#d8576b"
             ],
             [
              0.6666666666666666,
              "#ed7953"
             ],
             [
              0.7777777777777778,
              "#fb9f3a"
             ],
             [
              0.8888888888888888,
              "#fdca26"
             ],
             [
              1,
              "#f0f921"
             ]
            ],
            "type": "contour"
           }
          ],
          "contourcarpet": [
           {
            "colorbar": {
             "outlinewidth": 0,
             "ticks": ""
            },
            "type": "contourcarpet"
           }
          ],
          "heatmap": [
           {
            "colorbar": {
             "outlinewidth": 0,
             "ticks": ""
            },
            "colorscale": [
             [
              0,
              "#0d0887"
             ],
             [
              0.1111111111111111,
              "#46039f"
             ],
             [
              0.2222222222222222,
              "#7201a8"
             ],
             [
              0.3333333333333333,
              "#9c179e"
             ],
             [
              0.4444444444444444,
              "#bd3786"
             ],
             [
              0.5555555555555556,
              "#d8576b"
             ],
             [
              0.6666666666666666,
              "#ed7953"
             ],
             [
              0.7777777777777778,
              "#fb9f3a"
             ],
             [
              0.8888888888888888,
              "#fdca26"
             ],
             [
              1,
              "#f0f921"
             ]
            ],
            "type": "heatmap"
           }
          ],
          "heatmapgl": [
           {
            "colorbar": {
             "outlinewidth": 0,
             "ticks": ""
            },
            "colorscale": [
             [
              0,
              "#0d0887"
             ],
             [
              0.1111111111111111,
              "#46039f"
             ],
             [
              0.2222222222222222,
              "#7201a8"
             ],
             [
              0.3333333333333333,
              "#9c179e"
             ],
             [
              0.4444444444444444,
              "#bd3786"
             ],
             [
              0.5555555555555556,
              "#d8576b"
             ],
             [
              0.6666666666666666,
              "#ed7953"
             ],
             [
              0.7777777777777778,
              "#fb9f3a"
             ],
             [
              0.8888888888888888,
              "#fdca26"
             ],
             [
              1,
              "#f0f921"
             ]
            ],
            "type": "heatmapgl"
           }
          ],
          "histogram": [
           {
            "marker": {
             "pattern": {
              "fillmode": "overlay",
              "size": 10,
              "solidity": 0.2
             }
            },
            "type": "histogram"
           }
          ],
          "histogram2d": [
           {
            "colorbar": {
             "outlinewidth": 0,
             "ticks": ""
            },
            "colorscale": [
             [
              0,
              "#0d0887"
             ],
             [
              0.1111111111111111,
              "#46039f"
             ],
             [
              0.2222222222222222,
              "#7201a8"
             ],
             [
              0.3333333333333333,
              "#9c179e"
             ],
             [
              0.4444444444444444,
              "#bd3786"
             ],
             [
              0.5555555555555556,
              "#d8576b"
             ],
             [
              0.6666666666666666,
              "#ed7953"
             ],
             [
              0.7777777777777778,
              "#fb9f3a"
             ],
             [
              0.8888888888888888,
              "#fdca26"
             ],
             [
              1,
              "#f0f921"
             ]
            ],
            "type": "histogram2d"
           }
          ],
          "histogram2dcontour": [
           {
            "colorbar": {
             "outlinewidth": 0,
             "ticks": ""
            },
            "colorscale": [
             [
              0,
              "#0d0887"
             ],
             [
              0.1111111111111111,
              "#46039f"
             ],
             [
              0.2222222222222222,
              "#7201a8"
             ],
             [
              0.3333333333333333,
              "#9c179e"
             ],
             [
              0.4444444444444444,
              "#bd3786"
             ],
             [
              0.5555555555555556,
              "#d8576b"
             ],
             [
              0.6666666666666666,
              "#ed7953"
             ],
             [
              0.7777777777777778,
              "#fb9f3a"
             ],
             [
              0.8888888888888888,
              "#fdca26"
             ],
             [
              1,
              "#f0f921"
             ]
            ],
            "type": "histogram2dcontour"
           }
          ],
          "mesh3d": [
           {
            "colorbar": {
             "outlinewidth": 0,
             "ticks": ""
            },
            "type": "mesh3d"
           }
          ],
          "parcoords": [
           {
            "line": {
             "colorbar": {
              "outlinewidth": 0,
              "ticks": ""
             }
            },
            "type": "parcoords"
           }
          ],
          "pie": [
           {
            "automargin": true,
            "type": "pie"
           }
          ],
          "scatter": [
           {
            "marker": {
             "colorbar": {
              "outlinewidth": 0,
              "ticks": ""
             }
            },
            "type": "scatter"
           }
          ],
          "scatter3d": [
           {
            "line": {
             "colorbar": {
              "outlinewidth": 0,
              "ticks": ""
             }
            },
            "marker": {
             "colorbar": {
              "outlinewidth": 0,
              "ticks": ""
             }
            },
            "type": "scatter3d"
           }
          ],
          "scattercarpet": [
           {
            "marker": {
             "colorbar": {
              "outlinewidth": 0,
              "ticks": ""
             }
            },
            "type": "scattercarpet"
           }
          ],
          "scattergeo": [
           {
            "marker": {
             "colorbar": {
              "outlinewidth": 0,
              "ticks": ""
             }
            },
            "type": "scattergeo"
           }
          ],
          "scattergl": [
           {
            "marker": {
             "colorbar": {
              "outlinewidth": 0,
              "ticks": ""
             }
            },
            "type": "scattergl"
           }
          ],
          "scattermapbox": [
           {
            "marker": {
             "colorbar": {
              "outlinewidth": 0,
              "ticks": ""
             }
            },
            "type": "scattermapbox"
           }
          ],
          "scatterpolar": [
           {
            "marker": {
             "colorbar": {
              "outlinewidth": 0,
              "ticks": ""
             }
            },
            "type": "scatterpolar"
           }
          ],
          "scatterpolargl": [
           {
            "marker": {
             "colorbar": {
              "outlinewidth": 0,
              "ticks": ""
             }
            },
            "type": "scatterpolargl"
           }
          ],
          "scatterternary": [
           {
            "marker": {
             "colorbar": {
              "outlinewidth": 0,
              "ticks": ""
             }
            },
            "type": "scatterternary"
           }
          ],
          "surface": [
           {
            "colorbar": {
             "outlinewidth": 0,
             "ticks": ""
            },
            "colorscale": [
             [
              0,
              "#0d0887"
             ],
             [
              0.1111111111111111,
              "#46039f"
             ],
             [
              0.2222222222222222,
              "#7201a8"
             ],
             [
              0.3333333333333333,
              "#9c179e"
             ],
             [
              0.4444444444444444,
              "#bd3786"
             ],
             [
              0.5555555555555556,
              "#d8576b"
             ],
             [
              0.6666666666666666,
              "#ed7953"
             ],
             [
              0.7777777777777778,
              "#fb9f3a"
             ],
             [
              0.8888888888888888,
              "#fdca26"
             ],
             [
              1,
              "#f0f921"
             ]
            ],
            "type": "surface"
           }
          ],
          "table": [
           {
            "cells": {
             "fill": {
              "color": "#EBF0F8"
             },
             "line": {
              "color": "white"
             }
            },
            "header": {
             "fill": {
              "color": "#C8D4E3"
             },
             "line": {
              "color": "white"
             }
            },
            "type": "table"
           }
          ]
         },
         "layout": {
          "annotationdefaults": {
           "arrowcolor": "#2a3f5f",
           "arrowhead": 0,
           "arrowwidth": 1
          },
          "autotypenumbers": "strict",
          "coloraxis": {
           "colorbar": {
            "outlinewidth": 0,
            "ticks": ""
           }
          },
          "colorscale": {
           "diverging": [
            [
             0,
             "#8e0152"
            ],
            [
             0.1,
             "#c51b7d"
            ],
            [
             0.2,
             "#de77ae"
            ],
            [
             0.3,
             "#f1b6da"
            ],
            [
             0.4,
             "#fde0ef"
            ],
            [
             0.5,
             "#f7f7f7"
            ],
            [
             0.6,
             "#e6f5d0"
            ],
            [
             0.7,
             "#b8e186"
            ],
            [
             0.8,
             "#7fbc41"
            ],
            [
             0.9,
             "#4d9221"
            ],
            [
             1,
             "#276419"
            ]
           ],
           "sequential": [
            [
             0,
             "#0d0887"
            ],
            [
             0.1111111111111111,
             "#46039f"
            ],
            [
             0.2222222222222222,
             "#7201a8"
            ],
            [
             0.3333333333333333,
             "#9c179e"
            ],
            [
             0.4444444444444444,
             "#bd3786"
            ],
            [
             0.5555555555555556,
             "#d8576b"
            ],
            [
             0.6666666666666666,
             "#ed7953"
            ],
            [
             0.7777777777777778,
             "#fb9f3a"
            ],
            [
             0.8888888888888888,
             "#fdca26"
            ],
            [
             1,
             "#f0f921"
            ]
           ],
           "sequentialminus": [
            [
             0,
             "#0d0887"
            ],
            [
             0.1111111111111111,
             "#46039f"
            ],
            [
             0.2222222222222222,
             "#7201a8"
            ],
            [
             0.3333333333333333,
             "#9c179e"
            ],
            [
             0.4444444444444444,
             "#bd3786"
            ],
            [
             0.5555555555555556,
             "#d8576b"
            ],
            [
             0.6666666666666666,
             "#ed7953"
            ],
            [
             0.7777777777777778,
             "#fb9f3a"
            ],
            [
             0.8888888888888888,
             "#fdca26"
            ],
            [
             1,
             "#f0f921"
            ]
           ]
          },
          "colorway": [
           "#636efa",
           "#EF553B",
           "#00cc96",
           "#ab63fa",
           "#FFA15A",
           "#19d3f3",
           "#FF6692",
           "#B6E880",
           "#FF97FF",
           "#FECB52"
          ],
          "font": {
           "color": "#2a3f5f"
          },
          "geo": {
           "bgcolor": "white",
           "lakecolor": "white",
           "landcolor": "white",
           "showlakes": true,
           "showland": true,
           "subunitcolor": "#C8D4E3"
          },
          "hoverlabel": {
           "align": "left"
          },
          "hovermode": "closest",
          "mapbox": {
           "style": "light"
          },
          "paper_bgcolor": "white",
          "plot_bgcolor": "white",
          "polar": {
           "angularaxis": {
            "gridcolor": "#EBF0F8",
            "linecolor": "#EBF0F8",
            "ticks": ""
           },
           "bgcolor": "white",
           "radialaxis": {
            "gridcolor": "#EBF0F8",
            "linecolor": "#EBF0F8",
            "ticks": ""
           }
          },
          "scene": {
           "xaxis": {
            "backgroundcolor": "white",
            "gridcolor": "#DFE8F3",
            "gridwidth": 2,
            "linecolor": "#EBF0F8",
            "showbackground": true,
            "ticks": "",
            "zerolinecolor": "#EBF0F8"
           },
           "yaxis": {
            "backgroundcolor": "white",
            "gridcolor": "#DFE8F3",
            "gridwidth": 2,
            "linecolor": "#EBF0F8",
            "showbackground": true,
            "ticks": "",
            "zerolinecolor": "#EBF0F8"
           },
           "zaxis": {
            "backgroundcolor": "white",
            "gridcolor": "#DFE8F3",
            "gridwidth": 2,
            "linecolor": "#EBF0F8",
            "showbackground": true,
            "ticks": "",
            "zerolinecolor": "#EBF0F8"
           }
          },
          "shapedefaults": {
           "line": {
            "color": "#2a3f5f"
           }
          },
          "ternary": {
           "aaxis": {
            "gridcolor": "#DFE8F3",
            "linecolor": "#A2B1C6",
            "ticks": ""
           },
           "baxis": {
            "gridcolor": "#DFE8F3",
            "linecolor": "#A2B1C6",
            "ticks": ""
           },
           "bgcolor": "white",
           "caxis": {
            "gridcolor": "#DFE8F3",
            "linecolor": "#A2B1C6",
            "ticks": ""
           }
          },
          "title": {
           "x": 0.05
          },
          "xaxis": {
           "automargin": true,
           "gridcolor": "#EBF0F8",
           "linecolor": "#EBF0F8",
           "ticks": "",
           "title": {
            "standoff": 15
           },
           "zerolinecolor": "#EBF0F8",
           "zerolinewidth": 2
          },
          "yaxis": {
           "automargin": true,
           "gridcolor": "#EBF0F8",
           "linecolor": "#EBF0F8",
           "ticks": "",
           "title": {
            "standoff": 15
           },
           "zerolinecolor": "#EBF0F8",
           "zerolinewidth": 2
          }
         }
        },
        "title": {
         "font": {
          "size": 24
         },
         "text": "Ladeleistung pro Ladezeitraum eines BEVs",
         "x": 0.5,
         "xanchor": "center"
        },
        "xaxis": {
         "range": [
          480,
          960
         ],
         "showgrid": true,
         "title": {
          "text": "Minuten"
         }
        },
        "yaxis": {
         "range": [
          0,
          60
         ],
         "title": {
          "text": "Energie in kW"
         }
        }
       }
      },
      "text/html": [
       "<div>                            <div id=\"614b8f5c-b7c4-49b3-b14d-da5559576c83\" class=\"plotly-graph-div\" style=\"height:525px; width:100%;\"></div>            <script type=\"text/javascript\">                require([\"plotly\"], function(Plotly) {                    window.PLOTLYENV=window.PLOTLYENV || {};                                    if (document.getElementById(\"614b8f5c-b7c4-49b3-b14d-da5559576c83\")) {                    Plotly.newPlot(                        \"614b8f5c-b7c4-49b3-b14d-da5559576c83\",                        [{\"line\":{\"color\":\"orange\"},\"name\":\"Verf\\u00fcgbare Solarleistung\",\"x\":[480,495,510,525,540,555,570,585,600,615,630,645,660,675,690,705,720,735,750,765,780,795,810,825,840,855,870,885,900,915,930,945,960],\"y\":[-2.0,3.25,8.5,13.749999999999998,19.0,27.0,35.0,43.0,51.0,50.75,50.5,50.25,50.0,51.25,52.5,53.75,55.0,50.25,45.5,40.75,36.0,37.5,39.0,40.5,42.0,36.0,30.0,24.0,18.0,15.75,13.5,11.25,9.0],\"type\":\"scatter\"},{\"line\":{\"color\":\"green\"},\"mode\":\"lines\",\"name\":\"ID BEV 6\",\"x\":[939.5476575121163,945.0,954.0,954.0,960.0,960.0],\"y\":[6.19,5.625,2.53,0.0,0.0,9.0],\"type\":\"scatter\"},{\"line\":{\"color\":\"green\"},\"mode\":\"lines\",\"name\":\"ID BEV 8\",\"x\":[922.7154582763338,922.7154582763338,930.0,945.0,945.0],\"y\":[7.31,0.0,6.75,0.0,11.25],\"type\":\"scatter\"},{\"line\":{\"color\":\"green\"},\"mode\":\"lines\",\"name\":\"ID BEV 9\",\"x\":[918.0984952120383,918.0984952120383,930.0,939.5476575121163,939.5476575121163],\"y\":[7.31,0.0,13.5,0.0,12.38],\"type\":\"scatter\"},{\"line\":{\"color\":\"green\"},\"mode\":\"lines\",\"name\":\"ID BEV 10\",\"x\":[904.372037914692,904.372037914692,915.0,922.7154582763338,922.7154582763338],\"y\":[8.44,0.0,7.875,0.0,14.62],\"type\":\"scatter\"},{\"line\":{\"color\":\"green\"},\"mode\":\"lines\",\"name\":\"ID BEV 12\",\"x\":[900.3732227488151,900.3732227488151,915.0,918.0984952120383,918.0984952120383],\"y\":[8.44,0.0,15.75,0.0,14.62],\"type\":\"scatter\"},{\"line\":{\"color\":\"green\"},\"mode\":\"lines\",\"name\":\"ID BEV 15\",\"x\":[892.4571428571429,892.4571428571429,900.0,904.372037914692,904.372037914692],\"y\":[10.5,0.0,9.0,0.0,16.88],\"type\":\"scatter\"},{\"line\":{\"color\":\"green\"},\"mode\":\"lines\",\"name\":\"ID BEV 18\",\"x\":[751.1557490833469,751.1557490833469,765.0,780.0,795.0,810.0,825.0,840.0,855.0,870.0,885.0,900.0,900.3732227488151,900.3732227488151],\"y\":[10.78,0.0,10.1875,9.0,9.375,9.75,10.125,10.5,9.0,10.0,8.0,18.0,0.0,16.88],\"type\":\"scatter\"},{\"line\":{\"color\":\"green\"},\"mode\":\"lines\",\"name\":\"ID BEV 22\",\"x\":[873.0833333333334,873.0833333333334,885.0,892.4571428571429,892.4571428571429],\"y\":[9.0,0.0,16.0,0.0,21.0],\"type\":\"scatter\"},{\"line\":{\"color\":\"green\"},\"mode\":\"lines\",\"name\":\"ID BEV 23\",\"x\":[865.4045454545454,865.4045454545454,870.0,885.0,885.0],\"y\":[11.0,0.0,20.0,0.0,24.0],\"type\":\"scatter\"},{\"line\":{\"color\":\"green\"},\"mode\":\"lines\",\"name\":\"ID BEV 26\",\"x\":[690.8209164784141,705.0,720.0,735.0,750.0,755.0,765.0,780.0,795.0,810.0,825.0,840.0,845.8910256410256,845.8910256410256,855.0,870.0,873.0833333333334,873.0833333333334],\"y\":[10.623999999999999,10.75,11.0,10.05,9.1,8.623999999999999,18.3375,16.2,16.875,17.55,18.225,18.9,7.8,0.0,18.0,30.0,18.0,0.0],\"type\":\"scatter\"},{\"line\":{\"color\":\"green\"},\"mode\":\"lines\",\"name\":\"ID BEV 31\",\"x\":[851.7538461538461,851.7538461538461,855.0,865.4045454545454,865.4045454545454],\"y\":[9.75,0.0,27.0,0.0,22.0],\"type\":\"scatter\"},{\"line\":{\"color\":\"green\"},\"mode\":\"lines\",\"name\":\"ID BEV 34\",\"x\":[840.0153846153846,840.0153846153846,855.0,855.0],\"y\":[9.75,0.0,0.0,36.0],\"type\":\"scatter\"},{\"line\":{\"color\":\"green\"},\"mode\":\"lines\",\"name\":\"ID BEV 36\",\"x\":[833.1199999999999,833.1199999999999,840.0,851.7538461538461,851.7538461538461],\"y\":[10.3125,0.0,29.4,0.0,19.5],\"type\":\"scatter\"},{\"line\":{\"color\":\"green\"},\"mode\":\"lines\",\"name\":\"ID BEV 40\",\"x\":[825.8472727272728,825.8472727272728,840.0,840.0153846153846,840.0153846153846],\"y\":[10.3125,0.0,39.9,0.0,19.5],\"type\":\"scatter\"},{\"line\":{\"color\":\"green\"},\"mode\":\"lines\",\"name\":\"ID BEV 41\",\"x\":[818.7245283018867,818.7245283018867,825.0,833.1199999999999,833.1199999999999],\"y\":[9.9375,0.0,28.35,0.0,20.625],\"type\":\"scatter\"},{\"line\":{\"color\":\"green\"},\"mode\":\"lines\",\"name\":\"ID BEV 42\",\"x\":[650.8746177873102,660.0,675.0,690.0,705.0,720.0,735.0,750.0,765.0,780.0,795.0,810.0,825.0,825.8472727272728,825.8472727272728,936.0,945.0,945.0],\"y\":[25.06,25.0,17.083333333333332,13.125,21.5,22.0,20.1,18.2,28.525,25.2,26.25,27.3,38.475,0.0,20.625,3.095,14.0625,0.0],\"type\":\"scatter\"},{\"line\":{\"color\":\"green\"},\"mode\":\"lines\",\"name\":\"ID BEV 45\",\"x\":[803.7882352941176,803.7882352941176,810.0,818.7245283018867,818.7245283018867],\"y\":[9.5625,0.0,37.05,0.0,19.875],\"type\":\"scatter\"},{\"line\":{\"color\":\"green\"},\"mode\":\"lines\",\"name\":\"ID BEV 46\",\"x\":[788.2448979591836,788.2448979591836,795.0,803.7882352941176,803.7882352941176],\"y\":[9.1875,0.0,35.625,0.0,19.125],\"type\":\"scatter\"},{\"line\":{\"color\":\"green\"},\"mode\":\"lines\",\"name\":\"ID BEV 47\",\"x\":[757.2550831093104,765.0,780.0,788.2448979591836,788.2448979591836,954.0,954.0],\"y\":[10.78,38.7125,34.2,0.0,18.375,5.06,0.0],\"type\":\"scatter\"},{\"line\":{\"color\":\"green\"},\"mode\":\"lines\",\"name\":\"ID BEV 37\",\"x\":[654.1899320408664,660.0,675.0,690.0,705.0,720.0,735.0,750.0,751.1557490833469,751.1557490833469,924.0,924.0],\"y\":[25.06,50.0,34.166666666666664,26.25,32.25,33.0,30.150000000000002,27.299999999999997,0.0,21.56,2.924,0.0],\"type\":\"scatter\"},{\"line\":{\"color\":\"green\"},\"mode\":\"lines\",\"name\":\"ID BEV 3\",\"x\":[696.8197713019921,696.8197713019921,705.0,720.0,735.0,750.0,757.2550831093104,757.2550831093104],\"y\":[10.623999999999999,0.0,43.0,44.0,40.2,36.4,0.0,21.56],\"type\":\"scatter\"},{\"line\":{\"color\":\"green\"},\"mode\":\"lines\",\"name\":\"ID BEV 1\",\"x\":[617.3320821809561,630.0,645.0,659.8601416655341,659.8601416655341,710.4974255240897,720.0,735.0,750.0,750.0],\"y\":[10.123999999999999,10.1,10.05,10.024,0.0,10.876000000000001,55.0,50.25,0.0,45.5],\"type\":\"scatter\"},{\"line\":{\"color\":\"green\"},\"mode\":\"lines\",\"name\":\"ID BEV 7\",\"x\":[678.271087024322,678.271087024322,690.0,705.0,710.4974255240897,710.4974255240897],\"y\":[12.97,0.0,39.375,53.75,0.0,21.752000000000002],\"type\":\"scatter\"},{\"line\":{\"color\":\"green\"},\"mode\":\"lines\",\"name\":\"ID BEV 30\",\"x\":[585.0,600.0,614.8732311320755,614.8732311320755,661.0756442344136,675.0,690.0,690.8209164784141,690.8209164784141],\"y\":[8.6,10.2,10.176,0.0,16.87333333333333,51.25,52.5,0.0,21.247999999999998],\"type\":\"scatter\"},{\"line\":{\"color\":\"green\"},\"mode\":\"lines\",\"name\":\"ID BEV 4\",\"x\":[480.0,480.0,495.0,510.0,525.0,532.2893772893773,532.2893772893773],\"y\":[0.0,-2.0,3.25,4.25,6.875,8.19,0.0],\"type\":\"scatter\"},{\"line\":{\"color\":\"green\"},\"mode\":\"lines\",\"name\":\"ID BEV 11\",\"x\":[510.0,510.0,525.0,540.0,555.0,559.2725806451613,559.2725806451613],\"y\":[0.0,8.5,13.75,6.333333333333333,9.0,10.333333333333334,0.0],\"type\":\"scatter\"},{\"line\":{\"color\":\"green\"},\"mode\":\"lines\",\"name\":\"ID BEV 13\",\"x\":[532.2893772893773,532.2893772893773,540.0,555.0,570.0,585.0,600.0,615.0,624.4860795730017,624.4860795730017],\"y\":[0.0,16.38,12.666666666666666,18.0,8.75,17.2,20.4,10.15,10.123999999999999,0.0],\"type\":\"scatter\"},{\"line\":{\"color\":\"green\"},\"mode\":\"lines\",\"name\":\"ID BEV 19\",\"x\":[540.0,540.0,555.0,570.0,585.0,590.0265957446809,590.0265957446809],\"y\":[0.0,19.0,27.0,17.5,25.799999999999997,9.4,0.0],\"type\":\"scatter\"},{\"line\":{\"color\":\"green\"},\"mode\":\"lines\",\"name\":\"ID BEV 20\",\"x\":[559.2725806451613,559.2725806451613,570.0,585.0,600.0,614.4673662888009,614.4673662888009],\"y\":[0.0,20.666666666666668,26.25,34.4,30.599999999999998,10.176,0.0],\"type\":\"scatter\"},{\"line\":{\"color\":\"green\"},\"mode\":\"lines\",\"name\":\"ID BEV 24\",\"x\":[570.0,570.0,585.0,600.0,615.0,617.3320821809561,617.3320821809561],\"y\":[0.0,35.0,43.0,40.8,20.3,20.247999999999998,0.0],\"type\":\"scatter\"},{\"line\":{\"color\":\"green\"},\"mode\":\"lines\",\"name\":\"ID BEV 35\",\"x\":[590.0265957446809,590.0265957446809,600.0,615.0,630.0,645.0,658.3677047426603,658.3677047426603],\"y\":[0.0,18.8,51.0,30.450000000000003,20.2,20.1,10.024,0.0],\"type\":\"scatter\"},{\"line\":{\"color\":\"green\"},\"mode\":\"lines\",\"name\":\"ID BEV 38\",\"x\":[614.4673662888009,614.4673662888009,615.0,630.0,645.0,660.0,675.0,690.0,705.0,720.0,735.0,750.0,765.0,780.0,795.0,810.0,825.0,840.0,855.0,870.0,885.0,900.0,915.0,930.0,945.0,954.0,954.0],\"y\":[0.0,20.352,40.6,30.299999999999997,30.150000000000002,60.0,61.5,63.0,64.5,66.0,60.3,54.6,46.8625,41.400000000000006,43.125,44.849999999999994,46.575,48.3,43.2,36.0,28.8,21.6,18.9,16.875,16.875,7.59,0.0],\"type\":\"scatter\"},{\"line\":{\"color\":\"green\"},\"mode\":\"lines\",\"name\":\"ID BEV 43\",\"x\":[614.8732311320755,614.8732311320755,615.0,630.0,645.0,660.0,675.0,690.0,705.0,720.0,735.0,750.0,765.0,780.0,795.0,810.0,825.0,840.0,855.0,870.0,882.0,882.0],\"y\":[0.0,20.352,50.75,40.4,40.2,70.0,71.75,73.5,75.25,77.0,70.35,63.7,55.012499999999996,48.60000000000001,50.625,52.64999999999999,54.675000000000004,56.699999999999996,50.400000000000006,42.0,5.4,0.0],\"type\":\"scatter\"},{\"line\":{\"color\":\"green\"},\"mode\":\"lines\",\"name\":\"ID BEV 0\",\"x\":[624.4860795730017,624.4860795730017,630.0,645.0,660.0,675.0,690.0,705.0,719.8797360835332,719.8797360835332],\"y\":[0.0,20.247999999999998,50.5,50.25,80.0,82.0,84.0,86.0,10.876000000000001,0.0],\"type\":\"scatter\"},{\"line\":{\"color\":\"green\"},\"mode\":\"lines\",\"name\":\"ID BEV 2\",\"x\":[658.3677047426603,658.3677047426603,660.0,675.0,690.0,705.0,720.0,735.0,750.0,765.0,780.0,795.0,810.0,825.0,840.0,855.0,870.0,885.0,900.0,915.0,924.0,924.0],\"y\":[0.0,20.048,90.0,92.25,94.5,96.75,88.0,80.39999999999999,72.8,63.162499999999994,55.80000000000001,58.125,60.44999999999999,62.775000000000006,65.1,57.60000000000001,48.0,33.6,25.200000000000003,22.049999999999997,5.848,0.0],\"type\":\"scatter\"},{\"line\":{\"color\":\"green\"},\"mode\":\"lines\",\"name\":\"ID BEV 5\",\"x\":[659.8601416655341,659.8601416655341,660.0,675.0,690.0,705.0,720.0,726.0,726.0],\"y\":[0.0,20.048,100.0,102.5,105.0,107.5,99.0,10.524,0.0],\"type\":\"scatter\"},{\"line\":{\"color\":\"green\"},\"mode\":\"lines\",\"name\":\"ID BEV 16\",\"x\":[719.8797360835332,719.8797360835332,720.0,735.0,750.0,765.0,774.0,774.0],\"y\":[0.0,21.752000000000002,110.0,90.44999999999999,81.89999999999999,71.3125,7.676,0.0],\"type\":\"scatter\"},{\"line\":{\"color\":\"green\"},\"mode\":\"lines\",\"name\":\"ID BEV 21\",\"x\":[726,726,735,750,755,755],\"y\":[0.0,21.048,100.49999999999999,90.99999999999999,17.247999999999998,0.0],\"type\":\"scatter\"},{\"line\":{\"color\":\"green\"},\"mode\":\"lines\",\"name\":\"ID BEV 28\",\"x\":[774,774,780,795,810,825,840,855,870,885,900,915,930,936,936],\"y\":[0.0,15.352,63.000000000000014,65.625,68.24999999999999,70.875,73.5,64.80000000000001,54.0,38.4,28.800000000000004,25.199999999999996,20.25,6.19,0.0],\"type\":\"scatter\"},{\"line\":{\"color\":\"green\"},\"mode\":\"lines\",\"name\":\"ID BEV 33\",\"x\":[845.8910256410256,845.8910256410256,855.0,870.0,885.0,900.0,915.0,930.0,945.0,960.0,960.0],\"y\":[0.0,15.6,72.00000000000001,60.0,43.199999999999996,32.400000000000006,28.349999999999994,23.625,19.6875,18.0,0.0],\"type\":\"scatter\"},{\"line\":{\"color\":\"green\"},\"mode\":\"lines\",\"name\":\"ID BEV 17\",\"x\":[882,882,885,900,915,924,924],\"y\":[0.0,10.8,47.99999999999999,36.00000000000001,31.499999999999993,8.772,0.0],\"type\":\"scatter\"},{\"line\":{\"color\":\"green\"},\"mode\":\"lines\",\"name\":\"ID BEV 32\",\"x\":[924,924,930,936,936],\"y\":[0.0,11.696,27.0,9.285,0.0],\"type\":\"scatter\"},{\"line\":{\"color\":\"green\"},\"mode\":\"lines\",\"name\":\"ID BEV 39\",\"x\":[936,936,945,954,954],\"y\":[0.0,12.38,22.5,10.12,0.0],\"type\":\"scatter\"}],                        {\"template\":{\"data\":{\"barpolar\":[{\"marker\":{\"line\":{\"color\":\"white\",\"width\":0.5},\"pattern\":{\"fillmode\":\"overlay\",\"size\":10,\"solidity\":0.2}},\"type\":\"barpolar\"}],\"bar\":[{\"error_x\":{\"color\":\"#2a3f5f\"},\"error_y\":{\"color\":\"#2a3f5f\"},\"marker\":{\"line\":{\"color\":\"white\",\"width\":0.5},\"pattern\":{\"fillmode\":\"overlay\",\"size\":10,\"solidity\":0.2}},\"type\":\"bar\"}],\"carpet\":[{\"aaxis\":{\"endlinecolor\":\"#2a3f5f\",\"gridcolor\":\"#C8D4E3\",\"linecolor\":\"#C8D4E3\",\"minorgridcolor\":\"#C8D4E3\",\"startlinecolor\":\"#2a3f5f\"},\"baxis\":{\"endlinecolor\":\"#2a3f5f\",\"gridcolor\":\"#C8D4E3\",\"linecolor\":\"#C8D4E3\",\"minorgridcolor\":\"#C8D4E3\",\"startlinecolor\":\"#2a3f5f\"},\"type\":\"carpet\"}],\"choropleth\":[{\"colorbar\":{\"outlinewidth\":0,\"ticks\":\"\"},\"type\":\"choropleth\"}],\"contourcarpet\":[{\"colorbar\":{\"outlinewidth\":0,\"ticks\":\"\"},\"type\":\"contourcarpet\"}],\"contour\":[{\"colorbar\":{\"outlinewidth\":0,\"ticks\":\"\"},\"colorscale\":[[0.0,\"#0d0887\"],[0.1111111111111111,\"#46039f\"],[0.2222222222222222,\"#7201a8\"],[0.3333333333333333,\"#9c179e\"],[0.4444444444444444,\"#bd3786\"],[0.5555555555555556,\"#d8576b\"],[0.6666666666666666,\"#ed7953\"],[0.7777777777777778,\"#fb9f3a\"],[0.8888888888888888,\"#fdca26\"],[1.0,\"#f0f921\"]],\"type\":\"contour\"}],\"heatmapgl\":[{\"colorbar\":{\"outlinewidth\":0,\"ticks\":\"\"},\"colorscale\":[[0.0,\"#0d0887\"],[0.1111111111111111,\"#46039f\"],[0.2222222222222222,\"#7201a8\"],[0.3333333333333333,\"#9c179e\"],[0.4444444444444444,\"#bd3786\"],[0.5555555555555556,\"#d8576b\"],[0.6666666666666666,\"#ed7953\"],[0.7777777777777778,\"#fb9f3a\"],[0.8888888888888888,\"#fdca26\"],[1.0,\"#f0f921\"]],\"type\":\"heatmapgl\"}],\"heatmap\":[{\"colorbar\":{\"outlinewidth\":0,\"ticks\":\"\"},\"colorscale\":[[0.0,\"#0d0887\"],[0.1111111111111111,\"#46039f\"],[0.2222222222222222,\"#7201a8\"],[0.3333333333333333,\"#9c179e\"],[0.4444444444444444,\"#bd3786\"],[0.5555555555555556,\"#d8576b\"],[0.6666666666666666,\"#ed7953\"],[0.7777777777777778,\"#fb9f3a\"],[0.8888888888888888,\"#fdca26\"],[1.0,\"#f0f921\"]],\"type\":\"heatmap\"}],\"histogram2dcontour\":[{\"colorbar\":{\"outlinewidth\":0,\"ticks\":\"\"},\"colorscale\":[[0.0,\"#0d0887\"],[0.1111111111111111,\"#46039f\"],[0.2222222222222222,\"#7201a8\"],[0.3333333333333333,\"#9c179e\"],[0.4444444444444444,\"#bd3786\"],[0.5555555555555556,\"#d8576b\"],[0.6666666666666666,\"#ed7953\"],[0.7777777777777778,\"#fb9f3a\"],[0.8888888888888888,\"#fdca26\"],[1.0,\"#f0f921\"]],\"type\":\"histogram2dcontour\"}],\"histogram2d\":[{\"colorbar\":{\"outlinewidth\":0,\"ticks\":\"\"},\"colorscale\":[[0.0,\"#0d0887\"],[0.1111111111111111,\"#46039f\"],[0.2222222222222222,\"#7201a8\"],[0.3333333333333333,\"#9c179e\"],[0.4444444444444444,\"#bd3786\"],[0.5555555555555556,\"#d8576b\"],[0.6666666666666666,\"#ed7953\"],[0.7777777777777778,\"#fb9f3a\"],[0.8888888888888888,\"#fdca26\"],[1.0,\"#f0f921\"]],\"type\":\"histogram2d\"}],\"histogram\":[{\"marker\":{\"pattern\":{\"fillmode\":\"overlay\",\"size\":10,\"solidity\":0.2}},\"type\":\"histogram\"}],\"mesh3d\":[{\"colorbar\":{\"outlinewidth\":0,\"ticks\":\"\"},\"type\":\"mesh3d\"}],\"parcoords\":[{\"line\":{\"colorbar\":{\"outlinewidth\":0,\"ticks\":\"\"}},\"type\":\"parcoords\"}],\"pie\":[{\"automargin\":true,\"type\":\"pie\"}],\"scatter3d\":[{\"line\":{\"colorbar\":{\"outlinewidth\":0,\"ticks\":\"\"}},\"marker\":{\"colorbar\":{\"outlinewidth\":0,\"ticks\":\"\"}},\"type\":\"scatter3d\"}],\"scattercarpet\":[{\"marker\":{\"colorbar\":{\"outlinewidth\":0,\"ticks\":\"\"}},\"type\":\"scattercarpet\"}],\"scattergeo\":[{\"marker\":{\"colorbar\":{\"outlinewidth\":0,\"ticks\":\"\"}},\"type\":\"scattergeo\"}],\"scattergl\":[{\"marker\":{\"colorbar\":{\"outlinewidth\":0,\"ticks\":\"\"}},\"type\":\"scattergl\"}],\"scattermapbox\":[{\"marker\":{\"colorbar\":{\"outlinewidth\":0,\"ticks\":\"\"}},\"type\":\"scattermapbox\"}],\"scatterpolargl\":[{\"marker\":{\"colorbar\":{\"outlinewidth\":0,\"ticks\":\"\"}},\"type\":\"scatterpolargl\"}],\"scatterpolar\":[{\"marker\":{\"colorbar\":{\"outlinewidth\":0,\"ticks\":\"\"}},\"type\":\"scatterpolar\"}],\"scatter\":[{\"marker\":{\"colorbar\":{\"outlinewidth\":0,\"ticks\":\"\"}},\"type\":\"scatter\"}],\"scatterternary\":[{\"marker\":{\"colorbar\":{\"outlinewidth\":0,\"ticks\":\"\"}},\"type\":\"scatterternary\"}],\"surface\":[{\"colorbar\":{\"outlinewidth\":0,\"ticks\":\"\"},\"colorscale\":[[0.0,\"#0d0887\"],[0.1111111111111111,\"#46039f\"],[0.2222222222222222,\"#7201a8\"],[0.3333333333333333,\"#9c179e\"],[0.4444444444444444,\"#bd3786\"],[0.5555555555555556,\"#d8576b\"],[0.6666666666666666,\"#ed7953\"],[0.7777777777777778,\"#fb9f3a\"],[0.8888888888888888,\"#fdca26\"],[1.0,\"#f0f921\"]],\"type\":\"surface\"}],\"table\":[{\"cells\":{\"fill\":{\"color\":\"#EBF0F8\"},\"line\":{\"color\":\"white\"}},\"header\":{\"fill\":{\"color\":\"#C8D4E3\"},\"line\":{\"color\":\"white\"}},\"type\":\"table\"}]},\"layout\":{\"annotationdefaults\":{\"arrowcolor\":\"#2a3f5f\",\"arrowhead\":0,\"arrowwidth\":1},\"autotypenumbers\":\"strict\",\"coloraxis\":{\"colorbar\":{\"outlinewidth\":0,\"ticks\":\"\"}},\"colorscale\":{\"diverging\":[[0,\"#8e0152\"],[0.1,\"#c51b7d\"],[0.2,\"#de77ae\"],[0.3,\"#f1b6da\"],[0.4,\"#fde0ef\"],[0.5,\"#f7f7f7\"],[0.6,\"#e6f5d0\"],[0.7,\"#b8e186\"],[0.8,\"#7fbc41\"],[0.9,\"#4d9221\"],[1,\"#276419\"]],\"sequential\":[[0.0,\"#0d0887\"],[0.1111111111111111,\"#46039f\"],[0.2222222222222222,\"#7201a8\"],[0.3333333333333333,\"#9c179e\"],[0.4444444444444444,\"#bd3786\"],[0.5555555555555556,\"#d8576b\"],[0.6666666666666666,\"#ed7953\"],[0.7777777777777778,\"#fb9f3a\"],[0.8888888888888888,\"#fdca26\"],[1.0,\"#f0f921\"]],\"sequentialminus\":[[0.0,\"#0d0887\"],[0.1111111111111111,\"#46039f\"],[0.2222222222222222,\"#7201a8\"],[0.3333333333333333,\"#9c179e\"],[0.4444444444444444,\"#bd3786\"],[0.5555555555555556,\"#d8576b\"],[0.6666666666666666,\"#ed7953\"],[0.7777777777777778,\"#fb9f3a\"],[0.8888888888888888,\"#fdca26\"],[1.0,\"#f0f921\"]]},\"colorway\":[\"#636efa\",\"#EF553B\",\"#00cc96\",\"#ab63fa\",\"#FFA15A\",\"#19d3f3\",\"#FF6692\",\"#B6E880\",\"#FF97FF\",\"#FECB52\"],\"font\":{\"color\":\"#2a3f5f\"},\"geo\":{\"bgcolor\":\"white\",\"lakecolor\":\"white\",\"landcolor\":\"white\",\"showlakes\":true,\"showland\":true,\"subunitcolor\":\"#C8D4E3\"},\"hoverlabel\":{\"align\":\"left\"},\"hovermode\":\"closest\",\"mapbox\":{\"style\":\"light\"},\"paper_bgcolor\":\"white\",\"plot_bgcolor\":\"white\",\"polar\":{\"angularaxis\":{\"gridcolor\":\"#EBF0F8\",\"linecolor\":\"#EBF0F8\",\"ticks\":\"\"},\"bgcolor\":\"white\",\"radialaxis\":{\"gridcolor\":\"#EBF0F8\",\"linecolor\":\"#EBF0F8\",\"ticks\":\"\"}},\"scene\":{\"xaxis\":{\"backgroundcolor\":\"white\",\"gridcolor\":\"#DFE8F3\",\"gridwidth\":2,\"linecolor\":\"#EBF0F8\",\"showbackground\":true,\"ticks\":\"\",\"zerolinecolor\":\"#EBF0F8\"},\"yaxis\":{\"backgroundcolor\":\"white\",\"gridcolor\":\"#DFE8F3\",\"gridwidth\":2,\"linecolor\":\"#EBF0F8\",\"showbackground\":true,\"ticks\":\"\",\"zerolinecolor\":\"#EBF0F8\"},\"zaxis\":{\"backgroundcolor\":\"white\",\"gridcolor\":\"#DFE8F3\",\"gridwidth\":2,\"linecolor\":\"#EBF0F8\",\"showbackground\":true,\"ticks\":\"\",\"zerolinecolor\":\"#EBF0F8\"}},\"shapedefaults\":{\"line\":{\"color\":\"#2a3f5f\"}},\"ternary\":{\"aaxis\":{\"gridcolor\":\"#DFE8F3\",\"linecolor\":\"#A2B1C6\",\"ticks\":\"\"},\"baxis\":{\"gridcolor\":\"#DFE8F3\",\"linecolor\":\"#A2B1C6\",\"ticks\":\"\"},\"bgcolor\":\"white\",\"caxis\":{\"gridcolor\":\"#DFE8F3\",\"linecolor\":\"#A2B1C6\",\"ticks\":\"\"}},\"title\":{\"x\":0.05},\"xaxis\":{\"automargin\":true,\"gridcolor\":\"#EBF0F8\",\"linecolor\":\"#EBF0F8\",\"ticks\":\"\",\"title\":{\"standoff\":15},\"zerolinecolor\":\"#EBF0F8\",\"zerolinewidth\":2},\"yaxis\":{\"automargin\":true,\"gridcolor\":\"#EBF0F8\",\"linecolor\":\"#EBF0F8\",\"ticks\":\"\",\"title\":{\"standoff\":15},\"zerolinecolor\":\"#EBF0F8\",\"zerolinewidth\":2}}},\"xaxis\":{\"range\":[480,960],\"showgrid\":true,\"title\":{\"text\":\"Minuten\"}},\"yaxis\":{\"range\":[0,60],\"title\":{\"text\":\"Energie in kW\"}},\"title\":{\"font\":{\"size\":24},\"text\":\"Ladeleistung pro Ladezeitraum eines BEVs\",\"x\":0.5,\"xanchor\":\"center\"}},                        {\"responsive\": true}                    ).then(function(){\n",
       "                            \n",
       "var gd = document.getElementById('614b8f5c-b7c4-49b3-b14d-da5559576c83');\n",
       "var x = new MutationObserver(function (mutations, observer) {{\n",
       "        var display = window.getComputedStyle(gd).display;\n",
       "        if (!display || display === 'none') {{\n",
       "            console.log([gd, 'removed!']);\n",
       "            Plotly.purge(gd);\n",
       "            observer.disconnect();\n",
       "        }}\n",
       "}});\n",
       "\n",
       "// Listen for the removal of the full notebook cells\n",
       "var notebookContainer = gd.closest('#notebook-container');\n",
       "if (notebookContainer) {{\n",
       "    x.observe(notebookContainer, {childList: true});\n",
       "}}\n",
       "\n",
       "// Listen for the clearing of the current output cell\n",
       "var outputEl = gd.closest('.output');\n",
       "if (outputEl) {{\n",
       "    x.observe(outputEl, {childList: true});\n",
       "}}\n",
       "\n",
       "                        })                };                });            </script>        </div>"
      ]
     },
     "metadata": {},
     "output_type": "display_data"
    }
   ],
   "source": [
    "import figureGeneration\n",
    "\n",
    "figureGeneration.create_charging_power_figure(simulation_day, solarpeakleistung, bev_data, minute_interval)"
   ]
  },
  {
   "cell_type": "code",
   "execution_count": 7,
   "metadata": {
    "pycharm": {
     "is_executing": true
    }
   },
   "outputs": [
    {
     "data": {
      "application/vnd.plotly.v1+json": {
       "config": {
        "plotlyServerURL": "https://plot.ly"
       },
       "data": [
        {
         "line": {
          "color": "red"
         },
         "name": "Wartende BEVs",
         "type": "scatter",
         "x": [
          480,
          495,
          510,
          525,
          540,
          555,
          570,
          585,
          600,
          615,
          630,
          645,
          660,
          675,
          690,
          705,
          720,
          735,
          750,
          765,
          780,
          795,
          810,
          825,
          840,
          855,
          870,
          885,
          900,
          915,
          930,
          945,
          960
         ],
         "y": [
          10,
          9,
          21,
          20,
          25,
          24,
          27,
          26,
          24,
          22,
          20,
          20,
          18,
          18,
          18,
          18,
          17,
          14,
          19,
          18,
          26,
          25,
          26,
          26,
          25,
          24,
          24,
          23,
          23,
          23,
          21,
          18,
          0
         ]
        },
        {
         "line": {
          "color": "blue"
         },
         "name": "Ladende BEVs",
         "type": "scatter",
         "x": [
          960,
          945,
          930,
          915,
          900,
          885,
          870,
          855,
          840,
          825,
          810,
          795,
          780,
          765,
          750,
          735,
          720,
          705,
          690,
          675,
          660,
          645,
          630,
          615,
          600,
          585,
          570,
          555,
          540,
          525,
          510,
          495,
          480
         ],
         "y": [
          1,
          4,
          4,
          5,
          5,
          5,
          5,
          5,
          5,
          5,
          5,
          5,
          5,
          5,
          5,
          5,
          5,
          5,
          5,
          5,
          5,
          5,
          5,
          5,
          5,
          5,
          4,
          3,
          3,
          2,
          2,
          1,
          1
         ]
        }
       ],
       "layout": {
        "legend": {
         "tracegroupgap": 0
        },
        "margin": {
         "t": 60
        },
        "template": {
         "data": {
          "bar": [
           {
            "error_x": {
             "color": "#2a3f5f"
            },
            "error_y": {
             "color": "#2a3f5f"
            },
            "marker": {
             "line": {
              "color": "white",
              "width": 0.5
             },
             "pattern": {
              "fillmode": "overlay",
              "size": 10,
              "solidity": 0.2
             }
            },
            "type": "bar"
           }
          ],
          "barpolar": [
           {
            "marker": {
             "line": {
              "color": "white",
              "width": 0.5
             },
             "pattern": {
              "fillmode": "overlay",
              "size": 10,
              "solidity": 0.2
             }
            },
            "type": "barpolar"
           }
          ],
          "carpet": [
           {
            "aaxis": {
             "endlinecolor": "#2a3f5f",
             "gridcolor": "#C8D4E3",
             "linecolor": "#C8D4E3",
             "minorgridcolor": "#C8D4E3",
             "startlinecolor": "#2a3f5f"
            },
            "baxis": {
             "endlinecolor": "#2a3f5f",
             "gridcolor": "#C8D4E3",
             "linecolor": "#C8D4E3",
             "minorgridcolor": "#C8D4E3",
             "startlinecolor": "#2a3f5f"
            },
            "type": "carpet"
           }
          ],
          "choropleth": [
           {
            "colorbar": {
             "outlinewidth": 0,
             "ticks": ""
            },
            "type": "choropleth"
           }
          ],
          "contour": [
           {
            "colorbar": {
             "outlinewidth": 0,
             "ticks": ""
            },
            "colorscale": [
             [
              0,
              "#0d0887"
             ],
             [
              0.1111111111111111,
              "#46039f"
             ],
             [
              0.2222222222222222,
              "#7201a8"
             ],
             [
              0.3333333333333333,
              "#9c179e"
             ],
             [
              0.4444444444444444,
              "#bd3786"
             ],
             [
              0.5555555555555556,
              "#d8576b"
             ],
             [
              0.6666666666666666,
              "#ed7953"
             ],
             [
              0.7777777777777778,
              "#fb9f3a"
             ],
             [
              0.8888888888888888,
              "#fdca26"
             ],
             [
              1,
              "#f0f921"
             ]
            ],
            "type": "contour"
           }
          ],
          "contourcarpet": [
           {
            "colorbar": {
             "outlinewidth": 0,
             "ticks": ""
            },
            "type": "contourcarpet"
           }
          ],
          "heatmap": [
           {
            "colorbar": {
             "outlinewidth": 0,
             "ticks": ""
            },
            "colorscale": [
             [
              0,
              "#0d0887"
             ],
             [
              0.1111111111111111,
              "#46039f"
             ],
             [
              0.2222222222222222,
              "#7201a8"
             ],
             [
              0.3333333333333333,
              "#9c179e"
             ],
             [
              0.4444444444444444,
              "#bd3786"
             ],
             [
              0.5555555555555556,
              "#d8576b"
             ],
             [
              0.6666666666666666,
              "#ed7953"
             ],
             [
              0.7777777777777778,
              "#fb9f3a"
             ],
             [
              0.8888888888888888,
              "#fdca26"
             ],
             [
              1,
              "#f0f921"
             ]
            ],
            "type": "heatmap"
           }
          ],
          "heatmapgl": [
           {
            "colorbar": {
             "outlinewidth": 0,
             "ticks": ""
            },
            "colorscale": [
             [
              0,
              "#0d0887"
             ],
             [
              0.1111111111111111,
              "#46039f"
             ],
             [
              0.2222222222222222,
              "#7201a8"
             ],
             [
              0.3333333333333333,
              "#9c179e"
             ],
             [
              0.4444444444444444,
              "#bd3786"
             ],
             [
              0.5555555555555556,
              "#d8576b"
             ],
             [
              0.6666666666666666,
              "#ed7953"
             ],
             [
              0.7777777777777778,
              "#fb9f3a"
             ],
             [
              0.8888888888888888,
              "#fdca26"
             ],
             [
              1,
              "#f0f921"
             ]
            ],
            "type": "heatmapgl"
           }
          ],
          "histogram": [
           {
            "marker": {
             "pattern": {
              "fillmode": "overlay",
              "size": 10,
              "solidity": 0.2
             }
            },
            "type": "histogram"
           }
          ],
          "histogram2d": [
           {
            "colorbar": {
             "outlinewidth": 0,
             "ticks": ""
            },
            "colorscale": [
             [
              0,
              "#0d0887"
             ],
             [
              0.1111111111111111,
              "#46039f"
             ],
             [
              0.2222222222222222,
              "#7201a8"
             ],
             [
              0.3333333333333333,
              "#9c179e"
             ],
             [
              0.4444444444444444,
              "#bd3786"
             ],
             [
              0.5555555555555556,
              "#d8576b"
             ],
             [
              0.6666666666666666,
              "#ed7953"
             ],
             [
              0.7777777777777778,
              "#fb9f3a"
             ],
             [
              0.8888888888888888,
              "#fdca26"
             ],
             [
              1,
              "#f0f921"
             ]
            ],
            "type": "histogram2d"
           }
          ],
          "histogram2dcontour": [
           {
            "colorbar": {
             "outlinewidth": 0,
             "ticks": ""
            },
            "colorscale": [
             [
              0,
              "#0d0887"
             ],
             [
              0.1111111111111111,
              "#46039f"
             ],
             [
              0.2222222222222222,
              "#7201a8"
             ],
             [
              0.3333333333333333,
              "#9c179e"
             ],
             [
              0.4444444444444444,
              "#bd3786"
             ],
             [
              0.5555555555555556,
              "#d8576b"
             ],
             [
              0.6666666666666666,
              "#ed7953"
             ],
             [
              0.7777777777777778,
              "#fb9f3a"
             ],
             [
              0.8888888888888888,
              "#fdca26"
             ],
             [
              1,
              "#f0f921"
             ]
            ],
            "type": "histogram2dcontour"
           }
          ],
          "mesh3d": [
           {
            "colorbar": {
             "outlinewidth": 0,
             "ticks": ""
            },
            "type": "mesh3d"
           }
          ],
          "parcoords": [
           {
            "line": {
             "colorbar": {
              "outlinewidth": 0,
              "ticks": ""
             }
            },
            "type": "parcoords"
           }
          ],
          "pie": [
           {
            "automargin": true,
            "type": "pie"
           }
          ],
          "scatter": [
           {
            "marker": {
             "colorbar": {
              "outlinewidth": 0,
              "ticks": ""
             }
            },
            "type": "scatter"
           }
          ],
          "scatter3d": [
           {
            "line": {
             "colorbar": {
              "outlinewidth": 0,
              "ticks": ""
             }
            },
            "marker": {
             "colorbar": {
              "outlinewidth": 0,
              "ticks": ""
             }
            },
            "type": "scatter3d"
           }
          ],
          "scattercarpet": [
           {
            "marker": {
             "colorbar": {
              "outlinewidth": 0,
              "ticks": ""
             }
            },
            "type": "scattercarpet"
           }
          ],
          "scattergeo": [
           {
            "marker": {
             "colorbar": {
              "outlinewidth": 0,
              "ticks": ""
             }
            },
            "type": "scattergeo"
           }
          ],
          "scattergl": [
           {
            "marker": {
             "colorbar": {
              "outlinewidth": 0,
              "ticks": ""
             }
            },
            "type": "scattergl"
           }
          ],
          "scattermapbox": [
           {
            "marker": {
             "colorbar": {
              "outlinewidth": 0,
              "ticks": ""
             }
            },
            "type": "scattermapbox"
           }
          ],
          "scatterpolar": [
           {
            "marker": {
             "colorbar": {
              "outlinewidth": 0,
              "ticks": ""
             }
            },
            "type": "scatterpolar"
           }
          ],
          "scatterpolargl": [
           {
            "marker": {
             "colorbar": {
              "outlinewidth": 0,
              "ticks": ""
             }
            },
            "type": "scatterpolargl"
           }
          ],
          "scatterternary": [
           {
            "marker": {
             "colorbar": {
              "outlinewidth": 0,
              "ticks": ""
             }
            },
            "type": "scatterternary"
           }
          ],
          "surface": [
           {
            "colorbar": {
             "outlinewidth": 0,
             "ticks": ""
            },
            "colorscale": [
             [
              0,
              "#0d0887"
             ],
             [
              0.1111111111111111,
              "#46039f"
             ],
             [
              0.2222222222222222,
              "#7201a8"
             ],
             [
              0.3333333333333333,
              "#9c179e"
             ],
             [
              0.4444444444444444,
              "#bd3786"
             ],
             [
              0.5555555555555556,
              "#d8576b"
             ],
             [
              0.6666666666666666,
              "#ed7953"
             ],
             [
              0.7777777777777778,
              "#fb9f3a"
             ],
             [
              0.8888888888888888,
              "#fdca26"
             ],
             [
              1,
              "#f0f921"
             ]
            ],
            "type": "surface"
           }
          ],
          "table": [
           {
            "cells": {
             "fill": {
              "color": "#EBF0F8"
             },
             "line": {
              "color": "white"
             }
            },
            "header": {
             "fill": {
              "color": "#C8D4E3"
             },
             "line": {
              "color": "white"
             }
            },
            "type": "table"
           }
          ]
         },
         "layout": {
          "annotationdefaults": {
           "arrowcolor": "#2a3f5f",
           "arrowhead": 0,
           "arrowwidth": 1
          },
          "autotypenumbers": "strict",
          "coloraxis": {
           "colorbar": {
            "outlinewidth": 0,
            "ticks": ""
           }
          },
          "colorscale": {
           "diverging": [
            [
             0,
             "#8e0152"
            ],
            [
             0.1,
             "#c51b7d"
            ],
            [
             0.2,
             "#de77ae"
            ],
            [
             0.3,
             "#f1b6da"
            ],
            [
             0.4,
             "#fde0ef"
            ],
            [
             0.5,
             "#f7f7f7"
            ],
            [
             0.6,
             "#e6f5d0"
            ],
            [
             0.7,
             "#b8e186"
            ],
            [
             0.8,
             "#7fbc41"
            ],
            [
             0.9,
             "#4d9221"
            ],
            [
             1,
             "#276419"
            ]
           ],
           "sequential": [
            [
             0,
             "#0d0887"
            ],
            [
             0.1111111111111111,
             "#46039f"
            ],
            [
             0.2222222222222222,
             "#7201a8"
            ],
            [
             0.3333333333333333,
             "#9c179e"
            ],
            [
             0.4444444444444444,
             "#bd3786"
            ],
            [
             0.5555555555555556,
             "#d8576b"
            ],
            [
             0.6666666666666666,
             "#ed7953"
            ],
            [
             0.7777777777777778,
             "#fb9f3a"
            ],
            [
             0.8888888888888888,
             "#fdca26"
            ],
            [
             1,
             "#f0f921"
            ]
           ],
           "sequentialminus": [
            [
             0,
             "#0d0887"
            ],
            [
             0.1111111111111111,
             "#46039f"
            ],
            [
             0.2222222222222222,
             "#7201a8"
            ],
            [
             0.3333333333333333,
             "#9c179e"
            ],
            [
             0.4444444444444444,
             "#bd3786"
            ],
            [
             0.5555555555555556,
             "#d8576b"
            ],
            [
             0.6666666666666666,
             "#ed7953"
            ],
            [
             0.7777777777777778,
             "#fb9f3a"
            ],
            [
             0.8888888888888888,
             "#fdca26"
            ],
            [
             1,
             "#f0f921"
            ]
           ]
          },
          "colorway": [
           "#636efa",
           "#EF553B",
           "#00cc96",
           "#ab63fa",
           "#FFA15A",
           "#19d3f3",
           "#FF6692",
           "#B6E880",
           "#FF97FF",
           "#FECB52"
          ],
          "font": {
           "color": "#2a3f5f"
          },
          "geo": {
           "bgcolor": "white",
           "lakecolor": "white",
           "landcolor": "white",
           "showlakes": true,
           "showland": true,
           "subunitcolor": "#C8D4E3"
          },
          "hoverlabel": {
           "align": "left"
          },
          "hovermode": "closest",
          "mapbox": {
           "style": "light"
          },
          "paper_bgcolor": "white",
          "plot_bgcolor": "white",
          "polar": {
           "angularaxis": {
            "gridcolor": "#EBF0F8",
            "linecolor": "#EBF0F8",
            "ticks": ""
           },
           "bgcolor": "white",
           "radialaxis": {
            "gridcolor": "#EBF0F8",
            "linecolor": "#EBF0F8",
            "ticks": ""
           }
          },
          "scene": {
           "xaxis": {
            "backgroundcolor": "white",
            "gridcolor": "#DFE8F3",
            "gridwidth": 2,
            "linecolor": "#EBF0F8",
            "showbackground": true,
            "ticks": "",
            "zerolinecolor": "#EBF0F8"
           },
           "yaxis": {
            "backgroundcolor": "white",
            "gridcolor": "#DFE8F3",
            "gridwidth": 2,
            "linecolor": "#EBF0F8",
            "showbackground": true,
            "ticks": "",
            "zerolinecolor": "#EBF0F8"
           },
           "zaxis": {
            "backgroundcolor": "white",
            "gridcolor": "#DFE8F3",
            "gridwidth": 2,
            "linecolor": "#EBF0F8",
            "showbackground": true,
            "ticks": "",
            "zerolinecolor": "#EBF0F8"
           }
          },
          "shapedefaults": {
           "line": {
            "color": "#2a3f5f"
           }
          },
          "ternary": {
           "aaxis": {
            "gridcolor": "#DFE8F3",
            "linecolor": "#A2B1C6",
            "ticks": ""
           },
           "baxis": {
            "gridcolor": "#DFE8F3",
            "linecolor": "#A2B1C6",
            "ticks": ""
           },
           "bgcolor": "white",
           "caxis": {
            "gridcolor": "#DFE8F3",
            "linecolor": "#A2B1C6",
            "ticks": ""
           }
          },
          "title": {
           "x": 0.05
          },
          "xaxis": {
           "automargin": true,
           "gridcolor": "#EBF0F8",
           "linecolor": "#EBF0F8",
           "ticks": "",
           "title": {
            "standoff": 15
           },
           "zerolinecolor": "#EBF0F8",
           "zerolinewidth": 2
          },
          "yaxis": {
           "automargin": true,
           "gridcolor": "#EBF0F8",
           "linecolor": "#EBF0F8",
           "ticks": "",
           "title": {
            "standoff": 15
           },
           "zerolinecolor": "#EBF0F8",
           "zerolinewidth": 2
          }
         }
        },
        "title": {
         "font": {
          "size": 24
         },
         "text": "Anzahl wartender und ladender BEVs im Tagesverlauf",
         "x": 0.5,
         "xanchor": "center"
        },
        "xaxis": {
         "anchor": "y",
         "domain": [
          0,
          1
         ],
         "title": {
          "text": "Minuten"
         }
        },
        "yaxis": {
         "anchor": "x",
         "domain": [
          0,
          1
         ],
         "title": {
          "text": "Anzahl BEVs"
         }
        }
       }
      },
      "text/html": [
       "<div>                            <div id=\"b13fa15c-b2fa-4259-8cc0-a08a20234d58\" class=\"plotly-graph-div\" style=\"height:525px; width:100%;\"></div>            <script type=\"text/javascript\">                require([\"plotly\"], function(Plotly) {                    window.PLOTLYENV=window.PLOTLYENV || {};                                    if (document.getElementById(\"b13fa15c-b2fa-4259-8cc0-a08a20234d58\")) {                    Plotly.newPlot(                        \"b13fa15c-b2fa-4259-8cc0-a08a20234d58\",                        [{\"line\":{\"color\":\"red\"},\"name\":\"Wartende BEVs\",\"x\":[480,495,510,525,540,555,570,585,600,615,630,645,660,675,690,705,720,735,750,765,780,795,810,825,840,855,870,885,900,915,930,945,960],\"y\":[10,9,21,20,25,24,27,26,24,22,20,20,18,18,18,18,17,14,19,18,26,25,26,26,25,24,24,23,23,23,21,18,0],\"type\":\"scatter\"},{\"line\":{\"color\":\"blue\"},\"name\":\"Ladende BEVs\",\"x\":[960,945,930,915,900,885,870,855,840,825,810,795,780,765,750,735,720,705,690,675,660,645,630,615,600,585,570,555,540,525,510,495,480],\"y\":[1,4,4,5,5,5,5,5,5,5,5,5,5,5,5,5,5,5,5,5,5,5,5,5,5,5,4,3,3,2,2,1,1],\"type\":\"scatter\"}],                        {\"template\":{\"data\":{\"barpolar\":[{\"marker\":{\"line\":{\"color\":\"white\",\"width\":0.5},\"pattern\":{\"fillmode\":\"overlay\",\"size\":10,\"solidity\":0.2}},\"type\":\"barpolar\"}],\"bar\":[{\"error_x\":{\"color\":\"#2a3f5f\"},\"error_y\":{\"color\":\"#2a3f5f\"},\"marker\":{\"line\":{\"color\":\"white\",\"width\":0.5},\"pattern\":{\"fillmode\":\"overlay\",\"size\":10,\"solidity\":0.2}},\"type\":\"bar\"}],\"carpet\":[{\"aaxis\":{\"endlinecolor\":\"#2a3f5f\",\"gridcolor\":\"#C8D4E3\",\"linecolor\":\"#C8D4E3\",\"minorgridcolor\":\"#C8D4E3\",\"startlinecolor\":\"#2a3f5f\"},\"baxis\":{\"endlinecolor\":\"#2a3f5f\",\"gridcolor\":\"#C8D4E3\",\"linecolor\":\"#C8D4E3\",\"minorgridcolor\":\"#C8D4E3\",\"startlinecolor\":\"#2a3f5f\"},\"type\":\"carpet\"}],\"choropleth\":[{\"colorbar\":{\"outlinewidth\":0,\"ticks\":\"\"},\"type\":\"choropleth\"}],\"contourcarpet\":[{\"colorbar\":{\"outlinewidth\":0,\"ticks\":\"\"},\"type\":\"contourcarpet\"}],\"contour\":[{\"colorbar\":{\"outlinewidth\":0,\"ticks\":\"\"},\"colorscale\":[[0.0,\"#0d0887\"],[0.1111111111111111,\"#46039f\"],[0.2222222222222222,\"#7201a8\"],[0.3333333333333333,\"#9c179e\"],[0.4444444444444444,\"#bd3786\"],[0.5555555555555556,\"#d8576b\"],[0.6666666666666666,\"#ed7953\"],[0.7777777777777778,\"#fb9f3a\"],[0.8888888888888888,\"#fdca26\"],[1.0,\"#f0f921\"]],\"type\":\"contour\"}],\"heatmapgl\":[{\"colorbar\":{\"outlinewidth\":0,\"ticks\":\"\"},\"colorscale\":[[0.0,\"#0d0887\"],[0.1111111111111111,\"#46039f\"],[0.2222222222222222,\"#7201a8\"],[0.3333333333333333,\"#9c179e\"],[0.4444444444444444,\"#bd3786\"],[0.5555555555555556,\"#d8576b\"],[0.6666666666666666,\"#ed7953\"],[0.7777777777777778,\"#fb9f3a\"],[0.8888888888888888,\"#fdca26\"],[1.0,\"#f0f921\"]],\"type\":\"heatmapgl\"}],\"heatmap\":[{\"colorbar\":{\"outlinewidth\":0,\"ticks\":\"\"},\"colorscale\":[[0.0,\"#0d0887\"],[0.1111111111111111,\"#46039f\"],[0.2222222222222222,\"#7201a8\"],[0.3333333333333333,\"#9c179e\"],[0.4444444444444444,\"#bd3786\"],[0.5555555555555556,\"#d8576b\"],[0.6666666666666666,\"#ed7953\"],[0.7777777777777778,\"#fb9f3a\"],[0.8888888888888888,\"#fdca26\"],[1.0,\"#f0f921\"]],\"type\":\"heatmap\"}],\"histogram2dcontour\":[{\"colorbar\":{\"outlinewidth\":0,\"ticks\":\"\"},\"colorscale\":[[0.0,\"#0d0887\"],[0.1111111111111111,\"#46039f\"],[0.2222222222222222,\"#7201a8\"],[0.3333333333333333,\"#9c179e\"],[0.4444444444444444,\"#bd3786\"],[0.5555555555555556,\"#d8576b\"],[0.6666666666666666,\"#ed7953\"],[0.7777777777777778,\"#fb9f3a\"],[0.8888888888888888,\"#fdca26\"],[1.0,\"#f0f921\"]],\"type\":\"histogram2dcontour\"}],\"histogram2d\":[{\"colorbar\":{\"outlinewidth\":0,\"ticks\":\"\"},\"colorscale\":[[0.0,\"#0d0887\"],[0.1111111111111111,\"#46039f\"],[0.2222222222222222,\"#7201a8\"],[0.3333333333333333,\"#9c179e\"],[0.4444444444444444,\"#bd3786\"],[0.5555555555555556,\"#d8576b\"],[0.6666666666666666,\"#ed7953\"],[0.7777777777777778,\"#fb9f3a\"],[0.8888888888888888,\"#fdca26\"],[1.0,\"#f0f921\"]],\"type\":\"histogram2d\"}],\"histogram\":[{\"marker\":{\"pattern\":{\"fillmode\":\"overlay\",\"size\":10,\"solidity\":0.2}},\"type\":\"histogram\"}],\"mesh3d\":[{\"colorbar\":{\"outlinewidth\":0,\"ticks\":\"\"},\"type\":\"mesh3d\"}],\"parcoords\":[{\"line\":{\"colorbar\":{\"outlinewidth\":0,\"ticks\":\"\"}},\"type\":\"parcoords\"}],\"pie\":[{\"automargin\":true,\"type\":\"pie\"}],\"scatter3d\":[{\"line\":{\"colorbar\":{\"outlinewidth\":0,\"ticks\":\"\"}},\"marker\":{\"colorbar\":{\"outlinewidth\":0,\"ticks\":\"\"}},\"type\":\"scatter3d\"}],\"scattercarpet\":[{\"marker\":{\"colorbar\":{\"outlinewidth\":0,\"ticks\":\"\"}},\"type\":\"scattercarpet\"}],\"scattergeo\":[{\"marker\":{\"colorbar\":{\"outlinewidth\":0,\"ticks\":\"\"}},\"type\":\"scattergeo\"}],\"scattergl\":[{\"marker\":{\"colorbar\":{\"outlinewidth\":0,\"ticks\":\"\"}},\"type\":\"scattergl\"}],\"scattermapbox\":[{\"marker\":{\"colorbar\":{\"outlinewidth\":0,\"ticks\":\"\"}},\"type\":\"scattermapbox\"}],\"scatterpolargl\":[{\"marker\":{\"colorbar\":{\"outlinewidth\":0,\"ticks\":\"\"}},\"type\":\"scatterpolargl\"}],\"scatterpolar\":[{\"marker\":{\"colorbar\":{\"outlinewidth\":0,\"ticks\":\"\"}},\"type\":\"scatterpolar\"}],\"scatter\":[{\"marker\":{\"colorbar\":{\"outlinewidth\":0,\"ticks\":\"\"}},\"type\":\"scatter\"}],\"scatterternary\":[{\"marker\":{\"colorbar\":{\"outlinewidth\":0,\"ticks\":\"\"}},\"type\":\"scatterternary\"}],\"surface\":[{\"colorbar\":{\"outlinewidth\":0,\"ticks\":\"\"},\"colorscale\":[[0.0,\"#0d0887\"],[0.1111111111111111,\"#46039f\"],[0.2222222222222222,\"#7201a8\"],[0.3333333333333333,\"#9c179e\"],[0.4444444444444444,\"#bd3786\"],[0.5555555555555556,\"#d8576b\"],[0.6666666666666666,\"#ed7953\"],[0.7777777777777778,\"#fb9f3a\"],[0.8888888888888888,\"#fdca26\"],[1.0,\"#f0f921\"]],\"type\":\"surface\"}],\"table\":[{\"cells\":{\"fill\":{\"color\":\"#EBF0F8\"},\"line\":{\"color\":\"white\"}},\"header\":{\"fill\":{\"color\":\"#C8D4E3\"},\"line\":{\"color\":\"white\"}},\"type\":\"table\"}]},\"layout\":{\"annotationdefaults\":{\"arrowcolor\":\"#2a3f5f\",\"arrowhead\":0,\"arrowwidth\":1},\"autotypenumbers\":\"strict\",\"coloraxis\":{\"colorbar\":{\"outlinewidth\":0,\"ticks\":\"\"}},\"colorscale\":{\"diverging\":[[0,\"#8e0152\"],[0.1,\"#c51b7d\"],[0.2,\"#de77ae\"],[0.3,\"#f1b6da\"],[0.4,\"#fde0ef\"],[0.5,\"#f7f7f7\"],[0.6,\"#e6f5d0\"],[0.7,\"#b8e186\"],[0.8,\"#7fbc41\"],[0.9,\"#4d9221\"],[1,\"#276419\"]],\"sequential\":[[0.0,\"#0d0887\"],[0.1111111111111111,\"#46039f\"],[0.2222222222222222,\"#7201a8\"],[0.3333333333333333,\"#9c179e\"],[0.4444444444444444,\"#bd3786\"],[0.5555555555555556,\"#d8576b\"],[0.6666666666666666,\"#ed7953\"],[0.7777777777777778,\"#fb9f3a\"],[0.8888888888888888,\"#fdca26\"],[1.0,\"#f0f921\"]],\"sequentialminus\":[[0.0,\"#0d0887\"],[0.1111111111111111,\"#46039f\"],[0.2222222222222222,\"#7201a8\"],[0.3333333333333333,\"#9c179e\"],[0.4444444444444444,\"#bd3786\"],[0.5555555555555556,\"#d8576b\"],[0.6666666666666666,\"#ed7953\"],[0.7777777777777778,\"#fb9f3a\"],[0.8888888888888888,\"#fdca26\"],[1.0,\"#f0f921\"]]},\"colorway\":[\"#636efa\",\"#EF553B\",\"#00cc96\",\"#ab63fa\",\"#FFA15A\",\"#19d3f3\",\"#FF6692\",\"#B6E880\",\"#FF97FF\",\"#FECB52\"],\"font\":{\"color\":\"#2a3f5f\"},\"geo\":{\"bgcolor\":\"white\",\"lakecolor\":\"white\",\"landcolor\":\"white\",\"showlakes\":true,\"showland\":true,\"subunitcolor\":\"#C8D4E3\"},\"hoverlabel\":{\"align\":\"left\"},\"hovermode\":\"closest\",\"mapbox\":{\"style\":\"light\"},\"paper_bgcolor\":\"white\",\"plot_bgcolor\":\"white\",\"polar\":{\"angularaxis\":{\"gridcolor\":\"#EBF0F8\",\"linecolor\":\"#EBF0F8\",\"ticks\":\"\"},\"bgcolor\":\"white\",\"radialaxis\":{\"gridcolor\":\"#EBF0F8\",\"linecolor\":\"#EBF0F8\",\"ticks\":\"\"}},\"scene\":{\"xaxis\":{\"backgroundcolor\":\"white\",\"gridcolor\":\"#DFE8F3\",\"gridwidth\":2,\"linecolor\":\"#EBF0F8\",\"showbackground\":true,\"ticks\":\"\",\"zerolinecolor\":\"#EBF0F8\"},\"yaxis\":{\"backgroundcolor\":\"white\",\"gridcolor\":\"#DFE8F3\",\"gridwidth\":2,\"linecolor\":\"#EBF0F8\",\"showbackground\":true,\"ticks\":\"\",\"zerolinecolor\":\"#EBF0F8\"},\"zaxis\":{\"backgroundcolor\":\"white\",\"gridcolor\":\"#DFE8F3\",\"gridwidth\":2,\"linecolor\":\"#EBF0F8\",\"showbackground\":true,\"ticks\":\"\",\"zerolinecolor\":\"#EBF0F8\"}},\"shapedefaults\":{\"line\":{\"color\":\"#2a3f5f\"}},\"ternary\":{\"aaxis\":{\"gridcolor\":\"#DFE8F3\",\"linecolor\":\"#A2B1C6\",\"ticks\":\"\"},\"baxis\":{\"gridcolor\":\"#DFE8F3\",\"linecolor\":\"#A2B1C6\",\"ticks\":\"\"},\"bgcolor\":\"white\",\"caxis\":{\"gridcolor\":\"#DFE8F3\",\"linecolor\":\"#A2B1C6\",\"ticks\":\"\"}},\"title\":{\"x\":0.05},\"xaxis\":{\"automargin\":true,\"gridcolor\":\"#EBF0F8\",\"linecolor\":\"#EBF0F8\",\"ticks\":\"\",\"title\":{\"standoff\":15},\"zerolinecolor\":\"#EBF0F8\",\"zerolinewidth\":2},\"yaxis\":{\"automargin\":true,\"gridcolor\":\"#EBF0F8\",\"linecolor\":\"#EBF0F8\",\"ticks\":\"\",\"title\":{\"standoff\":15},\"zerolinecolor\":\"#EBF0F8\",\"zerolinewidth\":2}}},\"xaxis\":{\"anchor\":\"y\",\"domain\":[0.0,1.0],\"title\":{\"text\":\"Minuten\"}},\"yaxis\":{\"anchor\":\"x\",\"domain\":[0.0,1.0],\"title\":{\"text\":\"Anzahl BEVs\"}},\"legend\":{\"tracegroupgap\":0},\"margin\":{\"t\":60},\"title\":{\"font\":{\"size\":24},\"text\":\"Anzahl wartender und ladender BEVs im Tagesverlauf\",\"x\":0.5,\"xanchor\":\"center\"}},                        {\"responsive\": true}                    ).then(function(){\n",
       "                            \n",
       "var gd = document.getElementById('b13fa15c-b2fa-4259-8cc0-a08a20234d58');\n",
       "var x = new MutationObserver(function (mutations, observer) {{\n",
       "        var display = window.getComputedStyle(gd).display;\n",
       "        if (!display || display === 'none') {{\n",
       "            console.log([gd, 'removed!']);\n",
       "            Plotly.purge(gd);\n",
       "            observer.disconnect();\n",
       "        }}\n",
       "}});\n",
       "\n",
       "// Listen for the removal of the full notebook cells\n",
       "var notebookContainer = gd.closest('#notebook-container');\n",
       "if (notebookContainer) {{\n",
       "    x.observe(notebookContainer, {childList: true});\n",
       "}}\n",
       "\n",
       "// Listen for the clearing of the current output cell\n",
       "var outputEl = gd.closest('.output');\n",
       "if (outputEl) {{\n",
       "    x.observe(outputEl, {childList: true});\n",
       "}}\n",
       "\n",
       "                        })                };                });            </script>        </div>"
      ]
     },
     "metadata": {},
     "output_type": "display_data"
    }
   ],
   "source": [
    "figureGeneration.create_bev_number_figure(simulation_data)"
   ]
  },
  {
   "cell_type": "code",
   "execution_count": 8,
   "metadata": {
    "pycharm": {
     "is_executing": true
    }
   },
   "outputs": [
    {
     "name": "stdout",
     "output_type": "stream",
     "text": [
      "START POST OPTIMIZATION\n",
      "{0: [(8.5, 6.6), 'nicht parkend', [(624.4860795730017, 95.39365651053151, 8.335)], [8.335]], 1: [(8.5, 5.0), 'nicht parkend', [(750, 39.50257447591025, 6.7475000000000005), (617.3320821809561, 42.528059484577966, 6.7475000000000005)], [6.7475000000000005]], 2: [(8.5, 6.9), 'nicht parkend', [(658.3677047426603, 265.6322952573397, 4.4377233804822795)], [8.457500000000001]], 3: [(9.5, 4.5), 'nicht parkend', [(757.2550831093104, 60.43531180731827, 6.787189165625455)], [6.4975000000000005]], 4: [(8.0, 3.4), 'nicht parkend', [(480, 52.289377289377285, 4.0075)], [4.0075]], 5: [(8.5, 3.6), 'nicht parkend', [(659.8601416655341, 66.13985833446588, 1.1736664998708863)], [5.1475]], 6: [(12.5, 3.5), 'nicht parkend', [(960, 20.452342487883698, 3.0925000000000002), (954, 0, 0)], [3.0925000000000002]], 7: [(9.5, 3.0), 'nicht parkend', [(710.4974255240897, 32.226338499767735, 5.4288500053939295)], [4.795]], 8: [(13.0, 3.0), 'nicht parkend', [(945, 22.284541723666166, 2.4350000000000005)], [2.4350000000000005]], 9: [(13.0, 3.0), 'nicht parkend', [(939.5476575121163, 21.449162300078, 2.4350000000000005)], [2.4350000000000005]], 10: [(13.0, 3.0), 'nicht parkend', [(922.7154582763338, 18.343420361641847, 2.4350000000000005)], [2.4350000000000005]], 11: [(8.0, 4.6), 'nicht parkend', [(510, 49.27258064516127, 6.090000000000001)], [6.090000000000001]], 12: [(13.0, 3.0), 'nicht parkend', [(918.0984952120383, 17.725272463223178, 2.435)], [2.4350000000000005]], 13: [(8.0, 7.7), 'nicht parkend', [(532.2893772893773, 92.1967022836244, 8.735000000000003)], [8.735000000000003]], 14: [(8.5, 3.3), 'nicht parkend', [], [4.71]], 15: [(13.5, 2.5), 'nicht parkend', [(904.372037914692, 11.914895057549074, 1.935)], [1.935]], 16: [(8.5, 4.4), 'nicht parkend', [(719.8797360835332, 54.1202639164668, 1.230774184868086)], [6.2475000000000005]], 17: [(9.0, 6.4), 'nicht parkend', [(882, 42, 1.0874000000000001)], [8.145000000000001]], 18: [(12.5, 3.5), 'nicht parkend', [(900.3732227488151, 149.21747366546822, 3.0925000000000002)], [3.0925000000000002]], 19: [(8.0, 6.1), 'nicht parkend', [(540, 50.02659574468089, 7.725000000000001)], [7.725000000000001]], 20: [(8.0, 6.1), 'nicht parkend', [(559.2725806451613, 55.19478564363965, 7.725000000000001)], [7.725000000000001]], 21: [(8.5, 4.1), 'nicht parkend', [(726, 29, 3.7336666666666662)], [5.9275]], 22: [(12.5, 3.5), 'nicht parkend', [(892.4571428571429, 19.37380952380954, 3.0925000000000002)], [3.0925000000000002]], 23: [(12.5, 3.5), 'nicht parkend', [(885, 19.595454545454572, 3.0925000000000002)], [3.0925000000000002]], 24: [(8.0, 6.1), 'nicht parkend', [(570, 47.33208218095615, 7.725000000000001)], [7.725000000000001]], 25: [(8.5, 3.6), 'nicht parkend', [], [5.1475]], 26: [(8.5, 7.5), 'nicht parkend', [(873.0833333333334, 182.26241685491925, 8.972189165625457), (755, 90.89102564102564, 8.682500000000001)], [8.682500000000001]], 27: [(8.5, 4.4), 'nicht parkend', [], [6.2475000000000005]], 28: [(8.5, 7.1), 'nicht parkend', [(774, 162, 7.2271)], [8.572500000000002]], 29: [(9.0, 4.1), 'nicht parkend', [], [6.1775]], 30: [(8.0, 4.0), 'nicht parkend', [(585, 29.87323113207549, 4.8725000000000005)], [4.8725000000000005]], 31: [(13.0, 3.0), 'nicht parkend', [(865.4045454545454, 13.65069930069933, 2.4350000000000005)], [2.4350000000000005]], 32: [(9.0, 6.6), 'nicht parkend', [(924, 12, 0.6019000000000001)], [8.260000000000002]], 33: [(8.5, 5.6), 'nicht parkend', [(845.8910256410256, 114.10897435897436, 6.820344551282056)], [7.5625]], 34: [(13.0, 3.0), 'nicht parkend', [(855, 14.984615384615381, 2.4350000000000005)], [2.4350000000000005]], 35: [(8.0, 7.8), 'nicht parkend', [(590.0265957446809, 68.3411089979794, 8.845000000000002)], [8.845000000000002]], 36: [(12.5, 3.5), 'nicht parkend', [(851.7538461538461, 18.633846153846207, 3.0925000000000002)], [3.0925000000000002]], 37: [(9.0, 6.5), 'nicht parkend', [(751.1557490833469, 96.96581704248047, 9.358335858799052), (924, 0, 0)], [8.145000000000001]], 38: [(8.0, 7.9), 'nicht parkend', [(614.4673662888009, 339.5326337111991, 2.0075393244225954)], [8.845000000000002]], 39: [(9.5, 6.4), 'nicht parkend', [(936, 18, 0.84375)], [7.8875]], 40: [(13.0, 3.0), 'nicht parkend', [(840.0153846153846, 14.168111888111866, 2.4350000000000005)], [2.4350000000000005]], 41: [(13.0, 3.0), 'nicht parkend', [(833.1199999999999, 14.39547169811317, 2.4350000000000005)], [2.4350000000000005]], 42: [(9.5, 6.5), 'nicht parkend', [(825.8472727272728, 174.97265493996258, 11.006519844215777), (936, 9, 0.46425)], [7.8875]], 43: [(8.0, 6.7), 'nicht parkend', [(614.8732311320755, 267.1267688679245, 1.4273466981131606)], [8.192500000000003]], 44: [(9.0, 6.6), 'nicht parkend', [], [8.260000000000002]], 45: [(13.0, 3.0), 'nicht parkend', [(818.7245283018867, 14.936293007769109, 2.4350000000000005)], [2.4350000000000005]], 46: [(13.0, 3.0), 'nicht parkend', [(803.7882352941176, 15.543337334933994, 2.4350000000000005)], [2.4350000000000005]], 47: [(12.0, 4.0), 'nicht parkend', [(788.2448979591836, 30.989814849873255, 3.9725), (954, 0, 0)], [3.9725]], 48: [(9.0, 3.1), 'nicht parkend', [], [4.835]], 49: [(12.5, 3.4), 'nicht parkend', [], [3.0925000000000002]]}\n",
      "Waiting BEV list:  []\n",
      "[960, 945, 930, 915, 900, 885, 870, 855, 840, 825, 810, 795, 780, 765, 750, 735, 720, 705, 690, 675, 660, 645, 630, 615, 600, 585, 570, 555, 540, 525, 510, 495, 480]\n",
      "\n",
      "\n",
      "Minute:  960\n",
      "Waiting BEVs (after updating new waiting BEVs):  [6, 8, 9, 10, 12, 15, 18, 22, 23, 26, 31, 34, 36, 40, 41, 42, 45, 46, 47]\n",
      "Charging BEVs:  []\n",
      "Waiting BEVs:  [6, 8, 9, 10, 12, 15, 18, 22, 23, 26, 31, 34, 36, 40, 41, 42, 45, 46, 47]\n",
      "CALCULATE NUMBER OF CHARGING STATIONS\n",
      "Number of charging stations:  1\n",
      "CALCULATE NUMBER OF CHARGING STATIONS\n",
      "Number of charging stations:  1\n",
      "NUMBER OF FREE CHARGING STATIONS:  1\n",
      "OVERWRITE INITIAL CHARGING DATA\n",
      "CALCULATE NUMBER OF CHARGING STATIONS\n",
      "Number of charging stations:  1\n",
      "AVAILABLE SOLAR POWER:  10.12\n",
      "Restladeenergie bis zur fairen Ladeenergie for BEV mit ID 6:  3.0925000000000002\n",
      "Restladezeit:  18.334980237154152\n",
      "Charging BEVs:  [6]\n",
      "\n",
      "\n",
      "Minute:  945\n",
      "Waiting BEVs (after updating new waiting BEVs):  [8, 9, 10, 12, 15, 18, 22, 23, 26, 31, 34, 36, 40, 41, 42, 45, 46, 47]\n",
      "Charging BEVs:  [6]\n",
      "Waiting BEVs:  [8, 9, 10, 12, 15, 18, 22, 23, 26, 31, 34, 36, 40, 41, 42, 45, 46, 47]\n",
      "Ladezeit = 9 für ID BEV 6\n",
      "Ladezeit = 9 für ID BEV 6\n",
      "CALCULATE NUMBER OF CHARGING STATIONS\n",
      "Number of charging stations:  2\n",
      "CALCULATE NUMBER OF CHARGING STATIONS\n",
      "Number of charging stations:  2\n",
      "NUMBER OF FREE CHARGING STATIONS:  1\n",
      "OVERWRITE INITIAL CHARGING DATA\n",
      "CALCULATE NUMBER OF CHARGING STATIONS\n",
      "Number of charging stations:  2\n",
      "AVAILABLE SOLAR POWER:  12.38\n",
      "Restladeenergie bis zur fairen Ladeenergie for BEV mit ID 6:  1.5745000000000005\n",
      "Restladezeit:  15.261712439418421\n",
      "AVAILABLE SOLAR POWER:  12.38\n",
      "Restladeenergie bis zur fairen Ladeenergie for BEV mit ID 8:  2.4350000000000005\n",
      "Restladezeit:  23.60258481421648\n",
      "Charging BEVs:  [6, 8]\n",
      "\n",
      "\n",
      "Minute:  930\n",
      "Waiting BEVs (after updating new waiting BEVs):  [9, 10, 12, 15, 18, 22, 23, 26, 31, 34, 36, 40, 41, 42, 45, 46, 47, 37]\n",
      "Charging BEVs:  [6, 8]\n",
      "Waiting BEVs:  [9, 10, 12, 15, 18, 22, 23, 26, 31, 34, 36, 40, 41, 42, 45, 46, 47, 37]\n",
      "Ladezeit = 24 für ID BEV 6\n",
      "Ladezeit = 15 für ID BEV 8\n",
      "Ladezeit = 24 für ID BEV 6\n",
      "Ladezeit = 15 für ID BEV 8\n",
      "CALCULATE NUMBER OF CHARGING STATIONS\n",
      "Number of charging stations:  2\n",
      "CALCULATE NUMBER OF CHARGING STATIONS\n",
      "Number of charging stations:  2\n",
      "AVAILABLE SOLAR POWER:  14.62\n",
      "Restladeenergie bis zur fairen Ladeenergie for BEV mit ID 6:  0.6460000000000004\n",
      "Restladezeit:  5.302325581395352\n",
      "Die Restladezeit des BEVS 6 endet vor dem nächsten Interval\n",
      "Ausgewähltes BEV das frei gewordenen Platz belegen darf:  9\n",
      "Ladestart für ausgewähltes BEV:  924.6976744186046\n",
      "OVERWRITE INITIAL CHARGING DATA\n",
      "7.31 CHARGING POWER WIRD FÜR NEUES BEV 9 GESPEICHERT: \n",
      "ZEITPUNKT FÜR DAS ES GESPEICHERT WIRD:  924.6976744186046\n",
      "AVAILABLE SOLAR POWER:  14.62\n",
      "Restladeenergie bis zur fairen Ladeenergie for BEV mit ID 8:  0.8875000000000004\n",
      "Restladezeit:  7.284541723666214\n",
      "Die Restladezeit des BEVS 8 endet vor dem nächsten Interval\n",
      "Ausgewähltes BEV das frei gewordenen Platz belegen darf:  10\n",
      "Ladestart für ausgewähltes BEV:  922.7154582763338\n",
      "OVERWRITE INITIAL CHARGING DATA\n",
      "7.31 CHARGING POWER WIRD FÜR NEUES BEV 10 GESPEICHERT: \n",
      "ZEITPUNKT FÜR DAS ES GESPEICHERT WIRD:  922.7154582763338\n",
      "Charging BEVs:  [6, 8]\n",
      "\n",
      "\n",
      "Minute:  915\n",
      "Waiting BEVs (after updating new waiting BEVs):  [12, 15, 18, 22, 23, 26, 31, 34, 36, 40, 41, 42, 45, 46, 47, 37]\n",
      "Charging BEVs:  [9, 10]\n",
      "Waiting BEVs:  [12, 15, 18, 22, 23, 26, 31, 34, 36, 40, 41, 42, 45, 46, 47, 37]\n",
      "Ladezeit = 9.697674418604606 für ID BEV 9\n",
      "Ladezeit = 7.715458276333834 für ID BEV 10\n",
      "Ladezeit = 9.697674418604606 für ID BEV 9\n",
      "Ladezeit = 7.715458276333834 für ID BEV 10\n",
      "CALCULATE NUMBER OF CHARGING STATIONS\n",
      "Number of charging stations:  2\n",
      "CALCULATE NUMBER OF CHARGING STATIONS\n",
      "Number of charging stations:  2\n",
      "AVAILABLE SOLAR POWER:  16.88\n",
      "Restladeenergie bis zur fairen Ladeenergie for BEV mit ID 9:  1.253500000000006\n",
      "Restladezeit:  8.911137440758337\n",
      "Die Restladezeit des BEVS 9 endet vor dem nächsten Interval\n",
      "Ausgewähltes BEV das frei gewordenen Platz belegen darf:  12\n",
      "Ladestart für ausgewähltes BEV:  906.0888625592416\n",
      "OVERWRITE INITIAL CHARGING DATA\n",
      "8.44 CHARGING POWER WIRD FÜR NEUES BEV 12 GESPEICHERT: \n",
      "ZEITPUNKT FÜR DAS ES GESPEICHERT WIRD:  906.0888625592416\n",
      "AVAILABLE SOLAR POWER:  16.88\n",
      "Restladeenergie bis zur fairen Ladeenergie for BEV mit ID 10:  1.4949999999999952\n",
      "Restladezeit:  10.627962085308024\n",
      "Die Restladezeit des BEVS 10 endet vor dem nächsten Interval\n",
      "Ausgewähltes BEV das frei gewordenen Platz belegen darf:  15\n",
      "Ladestart für ausgewähltes BEV:  904.372037914692\n",
      "OVERWRITE INITIAL CHARGING DATA\n",
      "8.44 CHARGING POWER WIRD FÜR NEUES BEV 15 GESPEICHERT: \n",
      "ZEITPUNKT FÜR DAS ES GESPEICHERT WIRD:  904.372037914692\n",
      "Charging BEVs:  [9, 10]\n",
      "\n",
      "\n",
      "Minute:  900\n",
      "Waiting BEVs (after updating new waiting BEVs):  [18, 22, 23, 26, 31, 34, 36, 40, 41, 42, 45, 46, 47, 37]\n",
      "Charging BEVs:  [12, 15]\n"
     ]
    },
    {
     "name": "stdout",
     "output_type": "stream",
     "text": [
      "Waiting BEVs:  [18, 22, 23, 26, 31, 34, 36, 40, 41, 42, 45, 46, 47, 37]\n",
      "Ladezeit = 6.088862559241647 für ID BEV 12\n",
      "Ladezeit = 4.372037914691987 für ID BEV 15\n",
      "Ladezeit = 6.088862559241647 für ID BEV 12\n",
      "Ladezeit = 4.372037914691987 für ID BEV 15\n",
      "CALCULATE NUMBER OF CHARGING STATIONS\n",
      "Number of charging stations:  2\n",
      "CALCULATE NUMBER OF CHARGING STATIONS\n",
      "Number of charging stations:  2\n",
      "AVAILABLE SOLAR POWER:  21.0\n",
      "Restladeenergie bis zur fairen Ladeenergie for BEV mit ID 12:  1.578500000000009\n",
      "Restladezeit:  9.020000000000051\n",
      "Die Restladezeit des BEVS 12 endet vor dem nächsten Interval\n",
      "Ausgewähltes BEV das frei gewordenen Platz belegen darf:  18\n",
      "Ladestart für ausgewähltes BEV:  890.9799999999999\n",
      "OVERWRITE INITIAL CHARGING DATA\n",
      "10.5 CHARGING POWER WIRD FÜR NEUES BEV 18 GESPEICHERT: \n",
      "ZEITPUNKT FÜR DAS ES GESPEICHERT WIRD:  890.9799999999999\n",
      "AVAILABLE SOLAR POWER:  21.0\n",
      "Restladeenergie bis zur fairen Ladeenergie for BEV mit ID 15:  1.319999999999994\n",
      "Restladezeit:  7.542857142857108\n",
      "Die Restladezeit des BEVS 15 endet vor dem nächsten Interval\n",
      "Ausgewähltes BEV das frei gewordenen Platz belegen darf:  22\n",
      "Ladestart für ausgewähltes BEV:  892.4571428571429\n",
      "OVERWRITE INITIAL CHARGING DATA\n",
      "10.5 CHARGING POWER WIRD FÜR NEUES BEV 22 GESPEICHERT: \n",
      "ZEITPUNKT FÜR DAS ES GESPEICHERT WIRD:  892.4571428571429\n",
      "Charging BEVs:  [12, 15]\n",
      "\n",
      "\n",
      "Minute:  885\n",
      "Waiting BEVs (after updating new waiting BEVs):  [23, 26, 31, 34, 36, 40, 41, 42, 45, 46, 47, 37]\n",
      "Charging BEVs:  [18, 22]\n",
      "Waiting BEVs:  [23, 26, 31, 34, 36, 40, 41, 42, 45, 46, 47, 37]\n",
      "Ladezeit = 5.9799999999999045 für ID BEV 18\n",
      "Ladezeit = 7.457142857142912 für ID BEV 22\n",
      "Ladezeit = 5.9799999999999045 für ID BEV 18\n",
      "Ladezeit = 7.457142857142912 für ID BEV 22\n",
      "CALCULATE NUMBER OF CHARGING STATIONS\n",
      "Number of charging stations:  3\n",
      "CALCULATE NUMBER OF CHARGING STATIONS\n",
      "Number of charging stations:  3\n",
      "NUMBER OF FREE CHARGING STATIONS:  1\n",
      "OVERWRITE INITIAL CHARGING DATA\n",
      "CALCULATE NUMBER OF CHARGING STATIONS\n",
      "Number of charging stations:  3\n",
      "AVAILABLE SOLAR POWER:  27.0\n",
      "Restladeenergie bis zur fairen Ladeenergie for BEV mit ID 18:  2.046000000000017\n",
      "Restladezeit:  13.640000000000114\n",
      "Die Restladezeit des BEVS 18 endet vor dem nächsten Interval\n",
      "Ausgewähltes BEV das frei gewordenen Platz belegen darf:  26\n",
      "Ladestart für ausgewähltes BEV:  871.3599999999999\n",
      "OVERWRITE INITIAL CHARGING DATA\n",
      "9.0 CHARGING POWER WIRD FÜR NEUES BEV 26 GESPEICHERT: \n",
      "ZEITPUNKT FÜR DAS ES GESPEICHERT WIRD:  871.3599999999999\n",
      "AVAILABLE SOLAR POWER:  27.0\n",
      "Restladeenergie bis zur fairen Ladeenergie for BEV mit ID 22:  1.7874999999999905\n",
      "Restladezeit:  11.916666666666604\n",
      "Die Restladezeit des BEVS 22 endet vor dem nächsten Interval\n",
      "Ausgewähltes BEV das frei gewordenen Platz belegen darf:  31\n",
      "Ladestart für ausgewähltes BEV:  873.0833333333334\n",
      "OVERWRITE INITIAL CHARGING DATA\n",
      "9.0 CHARGING POWER WIRD FÜR NEUES BEV 31 GESPEICHERT: \n",
      "ZEITPUNKT FÜR DAS ES GESPEICHERT WIRD:  873.0833333333334\n",
      "AVAILABLE SOLAR POWER:  27.0\n",
      "Restladeenergie bis zur fairen Ladeenergie for BEV mit ID 23:  3.0925000000000002\n",
      "Restladezeit:  20.616666666666667\n",
      "Charging BEVs:  [18, 22, 23]\n",
      "\n",
      "\n",
      "Minute:  870\n",
      "Waiting BEVs (after updating new waiting BEVs):  [34, 36, 40, 41, 42, 45, 46, 47, 37]\n",
      "Charging BEVs:  [23, 26, 31]\n",
      "Waiting BEVs:  [34, 36, 40, 41, 42, 45, 46, 47, 37]\n",
      "Ladezeit = 15 für ID BEV 23\n",
      "Ladezeit = -115 für ID BEV 26\n",
      "Ladezeit = 3.0833333333333712 für ID BEV 31\n",
      "Ladezeit = 15 für ID BEV 23\n",
      "Ladezeit = -115 für ID BEV 26\n",
      "Ladezeit = 3.0833333333333712 für ID BEV 31\n",
      "CALCULATE NUMBER OF CHARGING STATIONS\n",
      "Number of charging stations:  3\n",
      "CALCULATE NUMBER OF CHARGING STATIONS\n",
      "Number of charging stations:  3\n",
      "AVAILABLE SOLAR POWER:  33.0\n",
      "Restladeenergie bis zur fairen Ladeenergie for BEV mit ID 23:  0.8425000000000002\n",
      "Restladezeit:  4.595454545454547\n",
      "Die Restladezeit des BEVS 23 endet vor dem nächsten Interval\n",
      "Ausgewähltes BEV das frei gewordenen Platz belegen darf:  34\n",
      "Ladestart für ausgewähltes BEV:  865.4045454545454\n",
      "OVERWRITE INITIAL CHARGING DATA\n",
      "11.0 CHARGING POWER WIRD FÜR NEUES BEV 34 GESPEICHERT: \n",
      "ZEITPUNKT FÜR DAS ES GESPEICHERT WIRD:  865.4045454545454\n",
      "AVAILABLE SOLAR POWER:  33.0\n",
      "Restladeenergie bis zur fairen Ladeenergie for BEV mit ID 26:  -0.75\n",
      "Restladezeit:  -4.090909090909091\n",
      "AVAILABLE SOLAR POWER:  33.0\n",
      "Restladeenergie bis zur fairen Ladeenergie for BEV mit ID 31:  1.9724999999999948\n",
      "Restladezeit:  10.759090909090881\n",
      "Die Restladezeit des BEVS 31 endet vor dem nächsten Interval\n",
      "Ausgewähltes BEV das frei gewordenen Platz belegen darf:  36\n",
      "Ladestart für ausgewähltes BEV:  859.2409090909091\n",
      "OVERWRITE INITIAL CHARGING DATA\n",
      "11.0 CHARGING POWER WIRD FÜR NEUES BEV 36 GESPEICHERT: \n",
      "ZEITPUNKT FÜR DAS ES GESPEICHERT WIRD:  859.2409090909091\n",
      "Charging BEVs:  [23, 26, 31]\n",
      "\n",
      "\n",
      "Minute:  855\n",
      "Waiting BEVs (after updating new waiting BEVs):  [40, 41, 42, 45, 46, 47, 37]\n",
      "Charging BEVs:  [26, 34, 36]\n",
      "Waiting BEVs:  [40, 41, 42, 45, 46, 47, 37]\n",
      "Ladezeit = -100 für ID BEV 26\n",
      "Ladezeit = 10.404545454545428 für ID BEV 34\n",
      "Ladezeit = 4.240909090909099 für ID BEV 36\n",
      "Ladezeit = -100 für ID BEV 26\n",
      "Ladezeit = 10.404545454545428 für ID BEV 34\n",
      "Ladezeit = 4.240909090909099 für ID BEV 36\n",
      "CALCULATE NUMBER OF CHARGING STATIONS\n",
      "Number of charging stations:  4\n",
      "CALCULATE NUMBER OF CHARGING STATIONS\n",
      "Number of charging stations:  4\n",
      "NUMBER OF FREE CHARGING STATIONS:  1\n",
      "OVERWRITE INITIAL CHARGING DATA\n",
      "CALCULATE NUMBER OF CHARGING STATIONS\n",
      "Number of charging stations:  4\n",
      "AVAILABLE SOLAR POWER:  39.0\n",
      "Restladeenergie bis zur fairen Ladeenergie for BEV mit ID 26:  -1.666666666666666\n",
      "Restladezeit:  -10.256410256410254\n",
      "AVAILABLE SOLAR POWER:  39.0\n",
      "Restladeenergie bis zur fairen Ladeenergie for BEV mit ID 34:  0.5275000000000054\n",
      "Restladezeit:  3.2461538461538795\n",
      "Die Restladezeit des BEVS 34 endet vor dem nächsten Interval\n",
      "Ausgewähltes BEV das frei gewordenen Platz belegen darf:  41\n",
      "Ladestart für ausgewähltes BEV:  851.7538461538461\n",
      "OVERWRITE INITIAL CHARGING DATA\n",
      "9.75 CHARGING POWER WIRD FÜR NEUES BEV 41 GESPEICHERT: \n",
      "ZEITPUNKT FÜR DAS ES GESPEICHERT WIRD:  851.7538461538461\n",
      "AVAILABLE SOLAR POWER:  39.0\n",
      "Restladeenergie bis zur fairen Ladeenergie for BEV mit ID 36:  2.3149999999999986\n",
      "Restladezeit:  14.246153846153838\n",
      "Die Restladezeit des BEVS 36 endet vor dem nächsten Interval\n",
      "Ausgewähltes BEV das frei gewordenen Platz belegen darf:  42\n",
      "Ladestart für ausgewähltes BEV:  840.7538461538462\n",
      "OVERWRITE INITIAL CHARGING DATA\n",
      "9.75 CHARGING POWER WIRD FÜR NEUES BEV 42 GESPEICHERT: \n",
      "ZEITPUNKT FÜR DAS ES GESPEICHERT WIRD:  840.7538461538462\n",
      "AVAILABLE SOLAR POWER:  39.0\n",
      "Restladeenergie bis zur fairen Ladeenergie for BEV mit ID 40:  2.4350000000000005\n",
      "Restladezeit:  14.984615384615388\n",
      "Die Restladezeit des BEVS 40 endet vor dem nächsten Interval\n",
      "Ausgewähltes BEV das frei gewordenen Platz belegen darf:  45\n",
      "Ladestart für ausgewähltes BEV:  840.0153846153846\n",
      "OVERWRITE INITIAL CHARGING DATA\n",
      "9.75 CHARGING POWER WIRD FÜR NEUES BEV 45 GESPEICHERT: \n",
      "ZEITPUNKT FÜR DAS ES GESPEICHERT WIRD:  840.0153846153846\n",
      "Charging BEVs:  [26, 34, 36, 40]\n",
      "\n",
      "\n",
      "Minute:  840\n",
      "Waiting BEVs (after updating new waiting BEVs):  [46, 47, 37, 3]\n",
      "Charging BEVs:  [26, 41, 42, 45]\n",
      "Waiting BEVs:  [46, 47, 37, 3]\n",
      "Ladezeit = -85 für ID BEV 26\n",
      "Ladezeit = 11.753846153846098 für ID BEV 41\n",
      "Ladezeit = 96 für ID BEV 42\n",
      "Ladezeit = 0.015384615384618883 für ID BEV 45\n",
      "Ladezeit = -85 für ID BEV 26\n",
      "Ladezeit = 11.753846153846098 für ID BEV 41\n",
      "Ladezeit = 96 für ID BEV 42\n",
      "Ladezeit = 0.015384615384618883 für ID BEV 45\n",
      "CALCULATE NUMBER OF CHARGING STATIONS\n",
      "Number of charging stations:  4\n",
      "CALCULATE NUMBER OF CHARGING STATIONS\n",
      "Number of charging stations:  4\n",
      "AVAILABLE SOLAR POWER:  41.25\n",
      "Restladeenergie bis zur fairen Ladeenergie for BEV mit ID 26:  -2.479166666666666\n",
      "Restladezeit:  -14.42424242424242\n",
      "AVAILABLE SOLAR POWER:  41.25\n",
      "Restladeenergie bis zur fairen Ladeenergie for BEV mit ID 41:  0.5250000000000095\n",
      "Restladezeit:  3.0545454545455097\n",
      "Die Restladezeit des BEVS 41 endet vor dem nächsten Interval\n",
      "Ausgewähltes BEV das frei gewordenen Platz belegen darf:  46\n",
      "Ladestart für ausgewähltes BEV:  836.9454545454545\n",
      "OVERWRITE INITIAL CHARGING DATA\n",
      "10.3125 CHARGING POWER WIRD FÜR NEUES BEV 46 GESPEICHERT: \n",
      "ZEITPUNKT FÜR DAS ES GESPEICHERT WIRD:  836.9454545454545\n",
      "AVAILABLE SOLAR POWER:  41.25\n",
      "Restladeenergie bis zur fairen Ladeenergie for BEV mit ID 42:  6.44825\n",
      "Restladezeit:  37.5170909090909\n",
      "AVAILABLE SOLAR POWER:  41.25\n",
      "Restladeenergie bis zur fairen Ladeenergie for BEV mit ID 45:  2.4325\n",
      "Restladezeit:  14.152727272727272\n",
      "Die Restladezeit des BEVS 45 endet vor dem nächsten Interval\n",
      "Ausgewähltes BEV das frei gewordenen Platz belegen darf:  47\n",
      "Ladestart für ausgewähltes BEV:  825.8472727272728\n",
      "OVERWRITE INITIAL CHARGING DATA\n",
      "10.3125 CHARGING POWER WIRD FÜR NEUES BEV 47 GESPEICHERT: \n",
      "ZEITPUNKT FÜR DAS ES GESPEICHERT WIRD:  825.8472727272728\n",
      "Charging BEVs:  [26, 41, 42, 45]\n",
      "\n",
      "\n",
      "Minute:  825\n",
      "Waiting BEVs (after updating new waiting BEVs):  [37, 3]\n",
      "Charging BEVs:  [26, 42, 46, 47]\n",
      "Waiting BEVs:  [37, 3]\n",
      "Ladezeit = -70 für ID BEV 26\n",
      "Ladezeit = 111 für ID BEV 42\n",
      "Ladezeit = 11.945454545454481 für ID BEV 46\n",
      "Ladezeit = 129 für ID BEV 47\n",
      "Ladezeit = -70 für ID BEV 26\n",
      "Ladezeit = 111 für ID BEV 42\n",
      "Ladezeit = 11.945454545454481 für ID BEV 46\n",
      "Ladezeit = 129 für ID BEV 47\n",
      "CALCULATE NUMBER OF CHARGING STATIONS\n",
      "Number of charging stations:  4\n",
      "CALCULATE NUMBER OF CHARGING STATIONS\n",
      "Number of charging stations:  4\n",
      "AVAILABLE SOLAR POWER:  39.75\n",
      "Restladeenergie bis zur fairen Ladeenergie for BEV mit ID 26:  -3.338541666666666\n",
      "Restladezeit:  -20.157232704402514\n",
      "AVAILABLE SOLAR POWER:  39.75\n",
      "Restladeenergie bis zur fairen Ladeenergie for BEV mit ID 42:  5.417\n",
      "Restladezeit:  32.706415094339626\n",
      "AVAILABLE SOLAR POWER:  39.75\n",
      "Restladeenergie bis zur fairen Ladeenergie for BEV mit ID 46:  0.3818750000000115\n",
      "Restladezeit:  2.30566037735856\n",
      "Die Restladezeit des BEVS 46 endet vor dem nächsten Interval\n",
      "Ausgewähltes BEV das frei gewordenen Platz belegen darf:  37\n",
      "Ladestart für ausgewähltes BEV:  822.6943396226415\n",
      "OVERWRITE INITIAL CHARGING DATA\n",
      "9.9375 CHARGING POWER WIRD FÜR NEUES BEV 37 GESPEICHERT: \n",
      "ZEITPUNKT FÜR DAS ES GESPEICHERT WIRD:  822.6943396226415\n",
      "AVAILABLE SOLAR POWER:  39.75\n",
      "Restladeenergie bis zur fairen Ladeenergie for BEV mit ID 47:  2.425625\n",
      "Restladezeit:  14.645283018867925\n",
      "Die Restladezeit des BEVS 47 endet vor dem nächsten Interval\n",
      "Ausgewähltes BEV das frei gewordenen Platz belegen darf:  3\n",
      "Ladestart für ausgewähltes BEV:  810.3547169811321\n",
      "OVERWRITE INITIAL CHARGING DATA\n",
      "9.9375 CHARGING POWER WIRD FÜR NEUES BEV 3 GESPEICHERT: \n",
      "ZEITPUNKT FÜR DAS ES GESPEICHERT WIRD:  810.3547169811321\n",
      "Charging BEVs:  [26, 42, 46, 47]\n",
      "\n",
      "\n",
      "Minute:  810\n",
      "Waiting BEVs (after updating new waiting BEVs):  [1]\n"
     ]
    },
    {
     "name": "stdout",
     "output_type": "stream",
     "text": [
      "Charging BEVs:  [26, 42, 37, 3]\n",
      "Waiting BEVs:  [1]\n",
      "Ladezeit = -55 für ID BEV 26\n",
      "Ladezeit = 126 für ID BEV 42\n",
      "Ladezeit = 114 für ID BEV 37\n",
      "Ladezeit = 0.35471698113212824 für ID BEV 3\n",
      "Ladezeit = -55 für ID BEV 26\n",
      "Ladezeit = 126 für ID BEV 42\n",
      "Ladezeit = 114 für ID BEV 37\n",
      "Ladezeit = 0.35471698113212824 für ID BEV 3\n",
      "CALCULATE NUMBER OF CHARGING STATIONS\n",
      "Number of charging stations:  4\n",
      "CALCULATE NUMBER OF CHARGING STATIONS\n",
      "Number of charging stations:  4\n",
      "AVAILABLE SOLAR POWER:  38.25\n",
      "Restladeenergie bis zur fairen Ladeenergie for BEV mit ID 26:  -4.166666666666666\n",
      "Restladezeit:  -26.1437908496732\n",
      "AVAILABLE SOLAR POWER:  38.25\n",
      "Restladeenergie bis zur fairen Ladeenergie for BEV mit ID 42:  4.4232499999999995\n",
      "Restladezeit:  27.753725490196075\n",
      "AVAILABLE SOLAR POWER:  38.25\n",
      "Restladeenergie bis zur fairen Ladeenergie for BEV mit ID 37:  6.654375000000002\n",
      "Restladezeit:  41.7529411764706\n",
      "AVAILABLE SOLAR POWER:  38.25\n",
      "Restladeenergie bis zur fairen Ladeenergie for BEV mit ID 3:  6.438749999999992\n",
      "Restladezeit:  40.39999999999995\n",
      "Charging BEVs:  [26, 42, 37, 3]\n",
      "\n",
      "\n",
      "Minute:  795\n",
      "Waiting BEVs (after updating new waiting BEVs):  [1]\n",
      "Charging BEVs:  [26, 42, 37, 3]\n",
      "Waiting BEVs:  [1]\n",
      "Ladezeit = -40 für ID BEV 26\n",
      "Ladezeit = 141 für ID BEV 42\n",
      "Ladezeit = 129 für ID BEV 37\n",
      "Ladezeit = 15.354716981132128 für ID BEV 3\n",
      "Ladezeit = -40 für ID BEV 26\n",
      "Ladezeit = 141 für ID BEV 42\n",
      "Ladezeit = 129 für ID BEV 37\n",
      "Ladezeit = 15.354716981132128 für ID BEV 3\n",
      "CALCULATE NUMBER OF CHARGING STATIONS\n",
      "Number of charging stations:  4\n",
      "CALCULATE NUMBER OF CHARGING STATIONS\n",
      "Number of charging stations:  4\n",
      "AVAILABLE SOLAR POWER:  36.75\n",
      "Restladeenergie bis zur fairen Ladeenergie for BEV mit ID 26:  -4.963541666666666\n",
      "Restladezeit:  -32.414965986394556\n",
      "AVAILABLE SOLAR POWER:  36.75\n",
      "Restladeenergie bis zur fairen Ladeenergie for BEV mit ID 42:  3.4669999999999996\n",
      "Restladezeit:  22.641632653061222\n",
      "AVAILABLE SOLAR POWER:  36.75\n",
      "Restladeenergie bis zur fairen Ladeenergie for BEV mit ID 37:  5.2200000000000015\n",
      "Restladezeit:  34.08979591836736\n",
      "AVAILABLE SOLAR POWER:  36.75\n",
      "Restladeenergie bis zur fairen Ladeenergie for BEV mit ID 3:  6.382216981132059\n",
      "Restladezeit:  41.67978436657671\n",
      "Charging BEVs:  [26, 42, 37, 3]\n",
      "\n",
      "\n",
      "Minute:  780\n",
      "Waiting BEVs (after updating new waiting BEVs):  [1]\n",
      "Charging BEVs:  [26, 42, 37, 3]\n",
      "Waiting BEVs:  [1]\n",
      "Ladezeit = -25 für ID BEV 26\n",
      "Ladezeit = 156 für ID BEV 42\n",
      "Ladezeit = 144 für ID BEV 37\n",
      "Ladezeit = 30.35471698113213 für ID BEV 3\n",
      "Ladezeit = -25 für ID BEV 26\n",
      "Ladezeit = 156 für ID BEV 42\n",
      "Ladezeit = 144 für ID BEV 37\n",
      "Ladezeit = 30.35471698113213 für ID BEV 3\n",
      "CALCULATE NUMBER OF CHARGING STATIONS\n",
      "Number of charging stations:  4\n",
      "CALCULATE NUMBER OF CHARGING STATIONS\n",
      "Number of charging stations:  4\n",
      "AVAILABLE SOLAR POWER:  38.38\n",
      "Restladeenergie bis zur fairen Ladeenergie for BEV mit ID 26:  -5.729166666666666\n",
      "Restladezeit:  -35.825951016154235\n",
      "AVAILABLE SOLAR POWER:  38.38\n",
      "Restladeenergie bis zur fairen Ladeenergie for BEV mit ID 42:  2.5482499999999995\n",
      "Restladezeit:  15.93486190724335\n",
      "AVAILABLE SOLAR POWER:  38.38\n",
      "Restladeenergie bis zur fairen Ladeenergie for BEV mit ID 37:  3.8418750000000017\n",
      "Restladezeit:  24.02423137050548\n",
      "AVAILABLE SOLAR POWER:  38.38\n",
      "Restladeenergie bis zur fairen Ladeenergie for BEV mit ID 3:  6.327900943396202\n",
      "Restladezeit:  39.569990266156545\n",
      "Charging BEVs:  [26, 42, 37, 3]\n",
      "\n",
      "\n",
      "Minute:  765\n",
      "Waiting BEVs (after updating new waiting BEVs):  [1]\n",
      "Charging BEVs:  [26, 42, 37, 3]\n",
      "Waiting BEVs:  [1]\n",
      "Ladezeit = -10 für ID BEV 26\n",
      "Ladezeit = 171 für ID BEV 42\n",
      "Ladezeit = 159 für ID BEV 37\n",
      "Ladezeit = 45.35471698113213 für ID BEV 3\n",
      "Ladezeit = -10 für ID BEV 26\n",
      "Ladezeit = 171 für ID BEV 42\n",
      "Ladezeit = 159 für ID BEV 37\n",
      "Ladezeit = 45.35471698113213 für ID BEV 3\n",
      "CALCULATE NUMBER OF CHARGING STATIONS\n",
      "Number of charging stations:  4\n",
      "CALCULATE NUMBER OF CHARGING STATIONS\n",
      "Number of charging stations:  4\n",
      "AVAILABLE SOLAR POWER:  43.12\n",
      "Restladeenergie bis zur fairen Ladeenergie for BEV mit ID 26:  -6.528749999999999\n",
      "Restladezeit:  -36.338126159554726\n",
      "AVAILABLE SOLAR POWER:  43.12\n",
      "Restladeenergie bis zur fairen Ladeenergie for BEV mit ID 42:  1.5887499999999992\n",
      "Restladezeit:  8.842764378478659\n",
      "Die Restladezeit des BEVS 42 endet vor dem nächsten Interval\n",
      "Ausgewähltes BEV das frei gewordenen Platz belegen darf:  1\n",
      "Ladestart für ausgewähltes BEV:  756.1572356215213\n",
      "OVERWRITE INITIAL CHARGING DATA\n",
      "10.78 CHARGING POWER WIRD FÜR NEUES BEV 1 GESPEICHERT: \n",
      "ZEITPUNKT FÜR DAS ES GESPEICHERT WIRD:  756.1572356215213\n",
      "AVAILABLE SOLAR POWER:  43.12\n",
      "Restladeenergie bis zur fairen Ladeenergie for BEV mit ID 37:  2.4026250000000013\n",
      "Restladezeit:  13.37268089053804\n",
      "Die Restladezeit des BEVS 37 endet vor dem nächsten Interval\n",
      "AVAILABLE SOLAR POWER:  43.12\n",
      "Restladeenergie bis zur fairen Ladeenergie for BEV mit ID 3:  5.670519536163488\n",
      "Restladezeit:  31.561333225399753\n",
      "Charging BEVs:  [26, 42, 37, 3]\n",
      "\n",
      "\n",
      "Minute:  750\n",
      "Waiting BEVs (after updating new waiting BEVs):  [7]\n",
      "Charging BEVs:  [26, 3, 1]\n",
      "Waiting BEVs:  [7]\n",
      "Ladezeit = 5 für ID BEV 26\n",
      "Ladezeit = 60.35471698113213 für ID BEV 3\n",
      "Ladezeit = -132.66791781904385 für ID BEV 1\n",
      "Ladezeit = 5 für ID BEV 26\n",
      "Ladezeit = 60.35471698113213 für ID BEV 3\n",
      "Ladezeit = -132.66791781904385 für ID BEV 1\n",
      "CALCULATE NUMBER OF CHARGING STATIONS\n",
      "Number of charging stations:  5\n",
      "CALCULATE NUMBER OF CHARGING STATIONS\n",
      "Number of charging stations:  5\n",
      "NUMBER OF FREE CHARGING STATIONS:  2\n",
      "OVERWRITE INITIAL CHARGING DATA\n",
      "CALCULATE NUMBER OF CHARGING STATIONS\n",
      "Number of charging stations:  5\n",
      "CALCULATE NUMBER OF CHARGING STATIONS\n",
      "Number of charging stations:  5\n",
      "AVAILABLE SOLAR POWER:  47.88\n",
      "Restladeenergie bis zur fairen Ladeenergie for BEV mit ID 26:  -8.027739583333332\n",
      "Restladezeit:  -40.23929615705931\n",
      "AVAILABLE SOLAR POWER:  47.88\n",
      "Restladeenergie bis zur fairen Ladeenergie for BEV mit ID 3:  5.606788718553416\n",
      "Restladezeit:  28.10420410302464\n",
      "AVAILABLE SOLAR POWER:  47.88\n",
      "Restladeenergie bis zur fairen Ladeenergie for BEV mit ID 1:  -0.4189974318451215\n",
      "Restladezeit:  -2.1002377536096315\n",
      "AVAILABLE SOLAR POWER:  47.88\n",
      "Restladeenergie bis zur fairen Ladeenergie for BEV mit ID 7:  4.795\n",
      "Restladezeit:  24.035087719298243\n",
      "Charging BEVs:  [26, 3, 1, 7]\n",
      "\n",
      "\n",
      "Minute:  735\n",
      "Waiting BEVs (after updating new waiting BEVs):  []\n",
      "Charging BEVs:  [26, 3, 1, 7]\n",
      "Waiting BEVs:  []\n",
      "Ladezeit = 20 für ID BEV 26\n",
      "Ladezeit = 75.35471698113213 für ID BEV 3\n",
      "Ladezeit = -117.66791781904385 für ID BEV 1\n",
      "Ladezeit = 15 für ID BEV 7\n",
      "Ladezeit = 20 für ID BEV 26\n",
      "Ladezeit = 75.35471698113213 für ID BEV 3\n",
      "Ladezeit = -117.66791781904385 für ID BEV 1\n",
      "Ladezeit = 15 für ID BEV 7\n",
      "CALCULATE NUMBER OF CHARGING STATIONS\n",
      "Number of charging stations:  5\n",
      "CALCULATE NUMBER OF CHARGING STATIONS\n",
      "Number of charging stations:  5\n",
      "NUMBER OF FREE CHARGING STATIONS:  1\n",
      "CALCULATE NUMBER OF CHARGING STATIONS\n",
      "Number of charging stations:  5\n",
      "CALCULATE NUMBER OF CHARGING STATIONS\n",
      "Number of charging stations:  5\n",
      "AVAILABLE SOLAR POWER:  52.62\n",
      "Restladeenergie bis zur fairen Ladeenergie for BEV mit ID 26:  -9.025239583333331\n",
      "Restladezeit:  -41.16414861269479\n",
      "AVAILABLE SOLAR POWER:  52.62\n",
      "Restladeenergie bis zur fairen Ladeenergie for BEV mit ID 3:  5.536022680817556\n",
      "Restladezeit:  25.249818384572663\n",
      "AVAILABLE SOLAR POWER:  52.62\n",
      "Restladeenergie bis zur fairen Ladeenergie for BEV mit ID 1:  -0.8842478269458738\n",
      "Restladezeit:  -4.033057363493153\n",
      "AVAILABLE SOLAR POWER:  52.62\n",
      "Restladeenergie bis zur fairen Ladeenergie for BEV mit ID 7:  1.8024999999999998\n",
      "Restladezeit:  8.221208665906499\n",
      "Die Restladezeit des BEVS 7 endet vor dem nächsten Interval\n",
      "Charging BEVs:  [26, 3, 1, 7]\n",
      "\n",
      "\n",
      "Minute:  720\n",
      "Waiting BEVs (after updating new waiting BEVs):  [30]\n",
      "Charging BEVs:  [26, 3, 1]\n",
      "Waiting BEVs:  [30]\n",
      "Ladezeit = 35 für ID BEV 26\n",
      "Ladezeit = 90.35471698113213 für ID BEV 3\n",
      "Ladezeit = -102.66791781904385 für ID BEV 1\n",
      "Ladezeit = 35 für ID BEV 26\n",
      "Ladezeit = 90.35471698113213 für ID BEV 3\n",
      "Ladezeit = -102.66791781904385 für ID BEV 1\n",
      "CALCULATE NUMBER OF CHARGING STATIONS\n",
      "Number of charging stations:  5\n",
      "CALCULATE NUMBER OF CHARGING STATIONS\n",
      "Number of charging stations:  5\n",
      "NUMBER OF FREE CHARGING STATIONS:  2\n",
      "OVERWRITE INITIAL CHARGING DATA\n",
      "CALCULATE NUMBER OF CHARGING STATIONS\n",
      "Number of charging stations:  5\n",
      "CALCULATE NUMBER OF CHARGING STATIONS\n",
      "Number of charging stations:  5\n"
     ]
    },
    {
     "name": "stdout",
     "output_type": "stream",
     "text": [
      "AVAILABLE SOLAR POWER:  54.38\n",
      "Restladeenergie bis zur fairen Ladeenergie for BEV mit ID 26:  -10.572114583333331\n",
      "Restladezeit:  -46.65883596910628\n",
      "AVAILABLE SOLAR POWER:  54.38\n",
      "Restladeenergie bis zur fairen Ladeenergie for BEV mit ID 3:  5.0076259827043375\n",
      "Restladezeit:  22.100592788691447\n",
      "AVAILABLE SOLAR POWER:  54.38\n",
      "Restladeenergie bis zur fairen Ladeenergie for BEV mit ID 1:  -1.84618184512051\n",
      "Restladezeit:  -8.14791546209861\n",
      "AVAILABLE SOLAR POWER:  54.38\n",
      "Restladeenergie bis zur fairen Ladeenergie for BEV mit ID 30:  4.8725000000000005\n",
      "Restladezeit:  21.504229496138286\n",
      "Charging BEVs:  [26, 3, 1, 30]\n",
      "\n",
      "\n",
      "Minute:  705\n",
      "Waiting BEVs (after updating new waiting BEVs):  []\n",
      "Charging BEVs:  [26, 3, 1, 30]\n",
      "Waiting BEVs:  []\n",
      "Ladezeit = 50 für ID BEV 26\n",
      "Ladezeit = 105.35471698113213 für ID BEV 3\n",
      "Ladezeit = -87.66791781904385 für ID BEV 1\n",
      "Ladezeit = 15 für ID BEV 30\n",
      "Ladezeit = 50 für ID BEV 26\n",
      "Ladezeit = 105.35471698113213 für ID BEV 3\n",
      "Ladezeit = -87.66791781904385 für ID BEV 1\n",
      "Ladezeit = 15 für ID BEV 30\n",
      "CALCULATE NUMBER OF CHARGING STATIONS\n",
      "Number of charging stations:  5\n",
      "CALCULATE NUMBER OF CHARGING STATIONS\n",
      "Number of charging stations:  5\n",
      "NUMBER OF FREE CHARGING STATIONS:  1\n",
      "CALCULATE NUMBER OF CHARGING STATIONS\n",
      "Number of charging stations:  5\n",
      "CALCULATE NUMBER OF CHARGING STATIONS\n",
      "Number of charging stations:  5\n",
      "AVAILABLE SOLAR POWER:  53.12\n",
      "Restladeenergie bis zur fairen Ladeenergie for BEV mit ID 26:  -11.705031249999998\n",
      "Restladezeit:  -52.88417733433734\n",
      "AVAILABLE SOLAR POWER:  53.12\n",
      "Restladeenergie bis zur fairen Ladeenergie for BEV mit ID 3:  4.927253026729483\n",
      "Restladezeit:  22.26168536172959\n",
      "AVAILABLE SOLAR POWER:  53.12\n",
      "Restladeenergie bis zur fairen Ladeenergie for BEV mit ID 1:  -2.374592799288825\n",
      "Restladezeit:  -10.728581924497705\n",
      "AVAILABLE SOLAR POWER:  53.12\n",
      "Restladeenergie bis zur fairen Ladeenergie for BEV mit ID 30:  1.4737500000000003\n",
      "Restladezeit:  6.65850903614458\n",
      "Die Restladezeit des BEVS 30 endet vor dem nächsten Interval\n",
      "Charging BEVs:  [26, 3, 1, 30]\n",
      "\n",
      "\n",
      "Minute:  690\n",
      "Waiting BEVs (after updating new waiting BEVs):  []\n",
      "Charging BEVs:  [26, 3, 1]\n",
      "Waiting BEVs:  []\n",
      "Ladezeit = 65 für ID BEV 26\n",
      "Ladezeit = 120.35471698113213 für ID BEV 3\n",
      "Ladezeit = -72.66791781904385 für ID BEV 1\n",
      "Ladezeit = 65 für ID BEV 26\n",
      "Ladezeit = 120.35471698113213 für ID BEV 3\n",
      "Ladezeit = -72.66791781904385 für ID BEV 1\n",
      "CALCULATE NUMBER OF CHARGING STATIONS\n",
      "Number of charging stations:  5\n",
      "CALCULATE NUMBER OF CHARGING STATIONS\n",
      "Number of charging stations:  5\n",
      "NUMBER OF FREE CHARGING STATIONS:  2\n",
      "CALCULATE NUMBER OF CHARGING STATIONS\n",
      "Number of charging stations:  5\n",
      "CALCULATE NUMBER OF CHARGING STATIONS\n",
      "Number of charging stations:  5\n",
      "AVAILABLE SOLAR POWER:  51.88\n",
      "Restladeenergie bis zur fairen Ladeenergie for BEV mit ID 26:  -13.180135416666662\n",
      "Restladezeit:  -45.729074306090965\n",
      "AVAILABLE SOLAR POWER:  51.88\n",
      "Restladeenergie bis zur fairen Ladeenergie for BEV mit ID 3:  4.480304834905572\n",
      "Restladezeit:  15.544619704761043\n",
      "AVAILABLE SOLAR POWER:  51.88\n",
      "Restladeenergie bis zur fairen Ladeenergie for BEV mit ID 1:  -3.2591978220071205\n",
      "Restladezeit:  -11.307933846593711\n",
      "Charging BEVs:  [26, 3, 1]\n",
      "\n",
      "\n",
      "Minute:  675\n",
      "Waiting BEVs (after updating new waiting BEVs):  []\n",
      "Charging BEVs:  [26, 3, 1]\n",
      "Waiting BEVs:  []\n",
      "Ladezeit = 80 für ID BEV 26\n",
      "Ladezeit = 135.35471698113213 für ID BEV 3\n",
      "Ladezeit = -57.66791781904385 für ID BEV 1\n",
      "Ladezeit = 80 für ID BEV 26\n",
      "Ladezeit = 135.35471698113213 für ID BEV 3\n",
      "Ladezeit = -57.66791781904385 für ID BEV 1\n",
      "CALCULATE NUMBER OF CHARGING STATIONS\n",
      "Number of charging stations:  5\n",
      "CALCULATE NUMBER OF CHARGING STATIONS\n",
      "Number of charging stations:  5\n",
      "NUMBER OF FREE CHARGING STATIONS:  2\n",
      "CALCULATE NUMBER OF CHARGING STATIONS\n",
      "Number of charging stations:  5\n",
      "CALCULATE NUMBER OF CHARGING STATIONS\n",
      "Number of charging stations:  5\n",
      "AVAILABLE SOLAR POWER:  50.62\n",
      "Restladeenergie bis zur fairen Ladeenergie for BEV mit ID 26:  -14.621246527777775\n",
      "Restladezeit:  -51.99178931252469\n",
      "AVAILABLE SOLAR POWER:  50.62\n",
      "Restladeenergie bis zur fairen Ladeenergie for BEV mit ID 3:  4.378067518343712\n",
      "Restladezeit:  15.567999867678154\n",
      "AVAILABLE SOLAR POWER:  50.62\n",
      "Restladeenergie bis zur fairen Ladeenergie for BEV mit ID 1:  -3.931355730607148\n",
      "Restladezeit:  -13.979534403581326\n",
      "Charging BEVs:  [26, 3, 1]\n",
      "\n",
      "\n",
      "Minute:  660\n",
      "Waiting BEVs (after updating new waiting BEVs):  []\n",
      "Charging BEVs:  [26, 3, 1]\n",
      "Waiting BEVs:  []\n",
      "Ladezeit = 95 für ID BEV 26\n",
      "Ladezeit = 150.35471698113213 für ID BEV 3\n",
      "Ladezeit = -42.66791781904385 für ID BEV 1\n",
      "Ladezeit = 95 für ID BEV 26\n",
      "Ladezeit = 150.35471698113213 für ID BEV 3\n",
      "Ladezeit = -42.66791781904385 für ID BEV 1\n",
      "CALCULATE NUMBER OF CHARGING STATIONS\n",
      "Number of charging stations:  5\n",
      "CALCULATE NUMBER OF CHARGING STATIONS\n",
      "Number of charging stations:  5\n",
      "NUMBER OF FREE CHARGING STATIONS:  2\n",
      "CALCULATE NUMBER OF CHARGING STATIONS\n",
      "Number of charging stations:  5\n",
      "CALCULATE NUMBER OF CHARGING STATIONS\n",
      "Number of charging stations:  5\n",
      "AVAILABLE SOLAR POWER:  50.12\n",
      "Restladeenergie bis zur fairen Ladeenergie for BEV mit ID 26:  -16.027357638888887\n",
      "Restladezeit:  -57.560342677573814\n",
      "AVAILABLE SOLAR POWER:  50.12\n",
      "Restladeenergie bis zur fairen Ladeenergie for BEV mit ID 3:  4.2783132206497765\n",
      "Restladezeit:  15.365051470809254\n",
      "AVAILABLE SOLAR POWER:  50.12\n",
      "Restladeenergie bis zur fairen Ladeenergie for BEV mit ID 1:  -4.5871890639404835\n",
      "Restladezeit:  -16.474342208884416\n",
      "Charging BEVs:  [26, 3, 1]\n",
      "\n",
      "\n",
      "Minute:  645\n",
      "Waiting BEVs (after updating new waiting BEVs):  []\n",
      "Charging BEVs:  [26, 3, 1]\n",
      "Waiting BEVs:  []\n",
      "Ladezeit = 110 für ID BEV 26\n",
      "Ladezeit = 165.35471698113213 für ID BEV 3\n",
      "Ladezeit = -27.66791781904385 für ID BEV 1\n",
      "Ladezeit = 110 für ID BEV 26\n",
      "Ladezeit = 165.35471698113213 für ID BEV 3\n",
      "Ladezeit = -27.66791781904385 für ID BEV 1\n",
      "CALCULATE NUMBER OF CHARGING STATIONS\n",
      "Number of charging stations:  5\n",
      "CALCULATE NUMBER OF CHARGING STATIONS\n",
      "Number of charging stations:  5\n",
      "NUMBER OF FREE CHARGING STATIONS:  2\n",
      "CALCULATE NUMBER OF CHARGING STATIONS\n",
      "Number of charging stations:  5\n",
      "CALCULATE NUMBER OF CHARGING STATIONS\n",
      "Number of charging stations:  5\n",
      "AVAILABLE SOLAR POWER:  50.38\n",
      "Restladeenergie bis zur fairen Ladeenergie for BEV mit ID 26:  -17.41957986111111\n",
      "Restladezeit:  -62.23748263199682\n",
      "AVAILABLE SOLAR POWER:  50.38\n",
      "Restladeenergie bis zur fairen Ladeenergie for BEV mit ID 3:  4.179544247903431\n",
      "Restladezeit:  14.932869484371132\n",
      "Die Restladezeit des BEVS 3 endet vor dem nächsten Interval\n",
      "AVAILABLE SOLAR POWER:  50.38\n",
      "Restladeenergie bis zur fairen Ladeenergie for BEV mit ID 1:  -6.6297258071834175\n",
      "Restladezeit:  -23.68699176842031\n",
      "Charging BEVs:  [26, 3, 1]\n",
      "\n",
      "\n",
      "Minute:  630\n",
      "Waiting BEVs (after updating new waiting BEVs):  []\n",
      "Charging BEVs:  [26, 1]\n",
      "Waiting BEVs:  []\n",
      "Ladezeit = 125 für ID BEV 26\n",
      "Ladezeit = -12.66791781904385 für ID BEV 1\n",
      "Ladezeit = 125 für ID BEV 26\n",
      "Ladezeit = -12.66791781904385 für ID BEV 1\n",
      "CALCULATE NUMBER OF CHARGING STATIONS\n",
      "Number of charging stations:  5\n",
      "CALCULATE NUMBER OF CHARGING STATIONS\n",
      "Number of charging stations:  5\n",
      "NUMBER OF FREE CHARGING STATIONS:  3\n",
      "CALCULATE NUMBER OF CHARGING STATIONS\n",
      "Number of charging stations:  5\n",
      "CALCULATE NUMBER OF CHARGING STATIONS\n",
      "Number of charging stations:  5\n",
      "AVAILABLE SOLAR POWER:  50.62\n",
      "Restladeenergie bis zur fairen Ladeenergie for BEV mit ID 26:  -20.212205721523365\n",
      "Restladezeit:  -47.915145922220546\n",
      "AVAILABLE SOLAR POWER:  50.62\n",
      "Restladeenergie bis zur fairen Ladeenergie for BEV mit ID 1:  -7.282449697608811\n",
      "Restladezeit:  -17.263808054386754\n",
      "Charging BEVs:  [26, 1]\n",
      "\n",
      "\n",
      "Minute:  615\n",
      "Waiting BEVs (after updating new waiting BEVs):  []\n",
      "Charging BEVs:  [26, 1]\n",
      "Waiting BEVs:  []\n",
      "Ladezeit = 140 für ID BEV 26\n",
      "Ladezeit = 2.3320821809561494 für ID BEV 1\n",
      "Ladezeit = 140 für ID BEV 26\n",
      "Ladezeit = 2.3320821809561494 für ID BEV 1\n",
      "CALCULATE NUMBER OF CHARGING STATIONS\n",
      "Number of charging stations:  5\n",
      "CALCULATE NUMBER OF CHARGING STATIONS\n",
      "Number of charging stations:  5\n",
      "NUMBER OF FREE CHARGING STATIONS:  3\n",
      "CALCULATE NUMBER OF CHARGING STATIONS\n",
      "Number of charging stations:  5\n",
      "CALCULATE NUMBER OF CHARGING STATIONS\n",
      "Number of charging stations:  5\n",
      "AVAILABLE SOLAR POWER:  50.88\n",
      "Restladeenergie bis zur fairen Ladeenergie for BEV mit ID 26:  -22.32137238819003\n",
      "Restladezeit:  -52.64474619856139\n",
      "AVAILABLE SOLAR POWER:  50.88\n",
      "Restladeenergie bis zur fairen Ladeenergie for BEV mit ID 1:  -8.266199697608814\n",
      "Restladezeit:  -19.49575400379437\n",
      "Charging BEVs:  [26, 1]\n",
      "\n",
      "\n",
      "Minute:  600\n",
      "Waiting BEVs (after updating new waiting BEVs):  []\n",
      "Charging BEVs:  [26, 1]\n",
      "Waiting BEVs:  []\n",
      "Ladezeit = 155 für ID BEV 26\n",
      "Ladezeit = 17.33208218095615 für ID BEV 1\n",
      "Ladezeit = 155 für ID BEV 26\n",
      "Ladezeit = 17.33208218095615 für ID BEV 1\n",
      "CALCULATE NUMBER OF CHARGING STATIONS\n",
      "Number of charging stations:  5\n",
      "CALCULATE NUMBER OF CHARGING STATIONS\n",
      "Number of charging stations:  5\n",
      "NUMBER OF FREE CHARGING STATIONS:  3\n",
      "CALCULATE NUMBER OF CHARGING STATIONS\n",
      "Number of charging stations:  5\n",
      "CALCULATE NUMBER OF CHARGING STATIONS\n",
      "Number of charging stations:  5\n",
      "AVAILABLE SOLAR POWER:  47.0\n",
      "Restladeenergie bis zur fairen Ladeenergie for BEV mit ID 26:  -24.44137238819003\n",
      "Restladezeit:  -62.403503969846874\n",
      "AVAILABLE SOLAR POWER:  47.0\n",
      "Restladeenergie bis zur fairen Ladeenergie for BEV mit ID 1:  -9.25500254233422\n",
      "Restladezeit:  -23.629793725108645\n",
      "Charging BEVs:  [26, 1]\n",
      "\n",
      "\n",
      "Minute:  585\n",
      "Waiting BEVs (after updating new waiting BEVs):  []\n",
      "Charging BEVs:  [26, 1]\n",
      "Waiting BEVs:  []\n"
     ]
    },
    {
     "name": "stdout",
     "output_type": "stream",
     "text": [
      "Ladezeit = 170 für ID BEV 26\n",
      "Ladezeit = 32.33208218095615 für ID BEV 1\n",
      "Ladezeit = 170 für ID BEV 26\n",
      "Ladezeit = 32.33208218095615 für ID BEV 1\n",
      "CALCULATE NUMBER OF CHARGING STATIONS\n",
      "Number of charging stations:  4\n",
      "CALCULATE NUMBER OF CHARGING STATIONS\n",
      "Number of charging stations:  4\n",
      "NUMBER OF FREE CHARGING STATIONS:  2\n",
      "CALCULATE NUMBER OF CHARGING STATIONS\n",
      "Number of charging stations:  4\n",
      "CALCULATE NUMBER OF CHARGING STATIONS\n",
      "Number of charging stations:  4\n",
      "AVAILABLE SOLAR POWER:  39.0\n",
      "Restladeenergie bis zur fairen Ladeenergie for BEV mit ID 26:  -26.399705721523365\n",
      "Restladezeit:  -81.22986375853343\n",
      "AVAILABLE SOLAR POWER:  39.0\n",
      "Restladeenergie bis zur fairen Ladeenergie for BEV mit ID 1:  -10.168401396542043\n",
      "Restladezeit:  -31.287388912437052\n",
      "Charging BEVs:  [26, 1]\n",
      "\n",
      "\n",
      "Minute:  570\n",
      "Waiting BEVs (after updating new waiting BEVs):  []\n",
      "Charging BEVs:  [26, 1]\n",
      "Waiting BEVs:  []\n",
      "Ladezeit = 185 für ID BEV 26\n",
      "Ladezeit = 47.33208218095615 für ID BEV 1\n",
      "Ladezeit = 185 für ID BEV 26\n",
      "Ladezeit = 47.33208218095615 für ID BEV 1\n",
      "CALCULATE NUMBER OF CHARGING STATIONS\n",
      "Number of charging stations:  3\n",
      "CALCULATE NUMBER OF CHARGING STATIONS\n",
      "Number of charging stations:  3\n",
      "NUMBER OF FREE CHARGING STATIONS:  1\n",
      "CALCULATE NUMBER OF CHARGING STATIONS\n",
      "Number of charging stations:  3\n",
      "CALCULATE NUMBER OF CHARGING STATIONS\n",
      "Number of charging stations:  3\n",
      "AVAILABLE SOLAR POWER:  31.0\n",
      "Restladeenergie bis zur fairen Ladeenergie for BEV mit ID 26:  -28.024705721523365\n",
      "Restladezeit:  -108.48273182525173\n",
      "AVAILABLE SOLAR POWER:  31.0\n",
      "Restladeenergie bis zur fairen Ladeenergie for BEV mit ID 1:  -10.926328105352793\n",
      "Restladezeit:  -42.29546363362372\n",
      "Charging BEVs:  [26, 1]\n",
      "\n",
      "\n",
      "Minute:  555\n",
      "Waiting BEVs (after updating new waiting BEVs):  []\n",
      "Charging BEVs:  [26, 1]\n",
      "Waiting BEVs:  []\n",
      "Ladezeit = 200 für ID BEV 26\n",
      "Ladezeit = 62.33208218095615 für ID BEV 1\n",
      "Ladezeit = 200 für ID BEV 26\n",
      "Ladezeit = 62.33208218095615 für ID BEV 1\n",
      "CALCULATE NUMBER OF CHARGING STATIONS\n",
      "Number of charging stations:  3\n",
      "CALCULATE NUMBER OF CHARGING STATIONS\n",
      "Number of charging stations:  3\n",
      "NUMBER OF FREE CHARGING STATIONS:  1\n",
      "CALCULATE NUMBER OF CHARGING STATIONS\n",
      "Number of charging stations:  3\n",
      "CALCULATE NUMBER OF CHARGING STATIONS\n",
      "Number of charging stations:  3\n",
      "AVAILABLE SOLAR POWER:  23.0\n",
      "Restladeenergie bis zur fairen Ladeenergie for BEV mit ID 26:  -29.31637238819003\n",
      "Restladezeit:  -152.95498637316535\n",
      "AVAILABLE SOLAR POWER:  23.0\n",
      "Restladeenergie bis zur fairen Ladeenergie for BEV mit ID 1:  -11.528782668766466\n",
      "Restladezeit:  -60.150170445738084\n",
      "Charging BEVs:  [26, 1]\n",
      "\n",
      "\n",
      "Minute:  540\n",
      "Waiting BEVs (after updating new waiting BEVs):  []\n",
      "Charging BEVs:  [26, 1]\n",
      "Waiting BEVs:  []\n",
      "Ladezeit = 215 für ID BEV 26\n",
      "Ladezeit = 77.33208218095615 für ID BEV 1\n",
      "Ladezeit = 215 für ID BEV 26\n",
      "Ladezeit = 77.33208218095615 für ID BEV 1\n",
      "CALCULATE NUMBER OF CHARGING STATIONS\n",
      "Number of charging stations:  2\n",
      "CALCULATE NUMBER OF CHARGING STATIONS\n",
      "Number of charging stations:  2\n",
      "AVAILABLE SOLAR POWER:  16.38\n",
      "Restladeenergie bis zur fairen Ladeenergie for BEV mit ID 26:  -30.274705721523365\n",
      "Restladezeit:  -221.79271590859608\n",
      "AVAILABLE SOLAR POWER:  16.38\n",
      "Restladeenergie bis zur fairen Ladeenergie for BEV mit ID 1:  -11.975765086783062\n",
      "Restladezeit:  -87.73454276031548\n",
      "Charging BEVs:  [26, 1]\n",
      "\n",
      "\n",
      "Minute:  525\n",
      "Waiting BEVs (after updating new waiting BEVs):  []\n",
      "Charging BEVs:  [26, 1]\n",
      "Waiting BEVs:  []\n",
      "Ladezeit = 230 für ID BEV 26\n",
      "Ladezeit = 92.33208218095615 für ID BEV 1\n",
      "Ladezeit = 230 für ID BEV 26\n",
      "Ladezeit = 92.33208218095615 für ID BEV 1\n",
      "CALCULATE NUMBER OF CHARGING STATIONS\n",
      "Number of charging stations:  2\n",
      "CALCULATE NUMBER OF CHARGING STATIONS\n",
      "Number of charging stations:  2\n",
      "AVAILABLE SOLAR POWER:  11.12\n",
      "Restladeenergie bis zur fairen Ladeenergie for BEV mit ID 26:  -30.957205721523362\n",
      "Restladezeit:  -334.07056534018017\n",
      "AVAILABLE SOLAR POWER:  11.12\n",
      "Restladeenergie bis zur fairen Ladeenergie for BEV mit ID 1:  -12.294094304483577\n",
      "Restladezeit:  -132.67008242248465\n",
      "Charging BEVs:  [26, 1]\n",
      "\n",
      "\n",
      "Minute:  510\n",
      "Waiting BEVs (after updating new waiting BEVs):  []\n",
      "STOP PARKING BEV 26 from charging list\n",
      "STOP PARKING BEV 1 from charging list\n",
      "Charging BEVs:  []\n",
      "Waiting BEVs:  []\n",
      "CALCULATE NUMBER OF CHARGING STATIONS\n",
      "Number of charging stations:  1\n",
      "CALCULATE NUMBER OF CHARGING STATIONS\n",
      "Number of charging stations:  1\n",
      "NUMBER OF FREE CHARGING STATIONS:  1\n",
      "CALCULATE NUMBER OF CHARGING STATIONS\n",
      "Number of charging stations:  1\n",
      "CALCULATE NUMBER OF CHARGING STATIONS\n",
      "Number of charging stations:  1\n",
      "Charging BEVs:  []\n",
      "\n",
      "\n",
      "Minute:  495\n",
      "Waiting BEVs (after updating new waiting BEVs):  []\n",
      "Charging BEVs:  []\n",
      "Waiting BEVs:  []\n",
      "CALCULATE NUMBER OF CHARGING STATIONS\n",
      "Number of charging stations:  1\n",
      "CALCULATE NUMBER OF CHARGING STATIONS\n",
      "Number of charging stations:  1\n",
      "NUMBER OF FREE CHARGING STATIONS:  1\n",
      "CALCULATE NUMBER OF CHARGING STATIONS\n",
      "Number of charging stations:  1\n",
      "CALCULATE NUMBER OF CHARGING STATIONS\n",
      "Number of charging stations:  1\n",
      "Charging BEVs:  []\n",
      "\n",
      "\n",
      "Minute:  480\n",
      "Waiting BEVs (after updating new waiting BEVs):  []\n",
      "Charging BEVs:  []\n",
      "Waiting BEVs:  []\n",
      "CALCULATE NUMBER OF CHARGING STATIONS\n",
      "Number of charging stations:  0\n",
      "CALCULATE NUMBER OF CHARGING STATIONS\n",
      "Number of charging stations:  0\n",
      "Charging BEVs:  []\n",
      "OPTIMIZATION DONE\n",
      "BEVs dict:  {0: [(8.5, 6.6), 'nicht parkend', [(624.4860795730017, 95.39365651053151, 8.335)], [8.335]], 1: [(8.5, 5.0), 'nicht parkend', [(756.1572356215213, 0, 0), (617.3320821809561, 92.33208218095615, 19.041594304483578)], [6.7475000000000005]], 2: [(8.5, 6.9), 'nicht parkend', [(658.3677047426603, 265.6322952573397, 4.4377233804822795)], [8.457500000000001]], 3: [(9.5, 4.5), 'wartend', [(810.3547169811321, 180.2875864655033, 7.890681415967811)], [6.4975000000000005]], 4: [(8.0, 3.4), 'nicht parkend', [(480, 52.289377289377285, 4.0075)], [4.0075]], 5: [(8.5, 3.6), 'nicht parkend', [(659.8601416655341, 66.13985833446588, 1.1736664998708863)], [5.1475]], 6: [(12.5, 3.5), 'wartend', [(960, 0, 0), (954, 29.302325581395394, 3.0925000000000002)], [3.0925000000000002]], 7: [(9.5, 3.0), 'wartend', [(750, 23.221208665906488, 5.2456249999999995)], [4.795]], 8: [(13.0, 3.0), 'wartend', [(945, 22.284541723666166, 2.4350000000000005)], [2.4350000000000005]], 9: [(13.0, 3.0), 'wartend', [(924.6976744186046, 18.60881185936296, 2.4350000000000005)], [2.4350000000000005]], 10: [(13.0, 3.0), 'wartend', [(922.7154582763338, 18.343420361641847, 2.4350000000000005)], [2.4350000000000005]], 11: [(8.0, 4.6), 'nicht parkend', [(510, 49.27258064516127, 6.090000000000001)], [6.090000000000001]], 12: [(13.0, 3.0), 'wartend', [(906.0888625592416, 15.108862559241743, 2.4350000000000005)], [2.4350000000000005]], 13: [(8.0, 7.7), 'nicht parkend', [(532.2893772893773, 92.1967022836244, 8.735000000000003)], [8.735000000000003]], 14: [(8.5, 3.3), 'nicht parkend', [], [4.71]], 15: [(13.5, 2.5), 'wartend', [(904.372037914692, 11.914895057549074, 1.935)], [1.935]], 16: [(8.5, 4.4), 'nicht parkend', [(719.8797360835332, 54.1202639164668, 1.230774184868086)], [6.2475000000000005]], 17: [(9.0, 6.4), 'nicht parkend', [(882, 42, 1.0874000000000001)], [8.145000000000001]], 18: [(12.5, 3.5), 'wartend', [(890.9799999999999, 19.620000000000005, 3.0925000000000002)], [3.0925000000000002]], 19: [(8.0, 6.1), 'nicht parkend', [(540, 50.02659574468089, 7.725000000000001)], [7.725000000000001]], 20: [(8.0, 6.1), 'nicht parkend', [(559.2725806451613, 55.19478564363965, 7.725000000000001)], [7.725000000000001]], 21: [(8.5, 4.1), 'nicht parkend', [(726, 29, 3.7336666666666662)], [5.9275]], 22: [(12.5, 3.5), 'wartend', [(892.4571428571429, 19.37380952380954, 3.0925000000000002)], [3.0925000000000002]], 23: [(12.5, 3.5), 'wartend', [(885, 19.595454545454572, 3.0925000000000002)], [3.0925000000000002]], 24: [(8.0, 6.1), 'nicht parkend', [(570, 47.33208218095615, 7.725000000000001)], [7.725000000000001]], 25: [(8.5, 3.6), 'nicht parkend', [], [5.1475]], 26: [(8.5, 7.5), 'nicht parkend', [(871.3599999999999, 0, 0), (755, 230, 39.63970572152336)], [8.682500000000001]], 27: [(8.5, 4.4), 'nicht parkend', [], [6.2475000000000005]], 28: [(8.5, 7.1), 'nicht parkend', [(774, 162, 7.2271)], [8.572500000000002]], 29: [(9.0, 4.1), 'nicht parkend', [], [6.1775]], 30: [(8.0, 4.0), 'wartend', [(720, 21.65850903614455, 5.2409375)], [4.8725000000000005]], 31: [(13.0, 3.0), 'wartend', [(873.0833333333334, 13.842424242424272, 2.4350000000000005)], [2.4350000000000005]], 32: [(9.0, 6.6), 'nicht parkend', [(924, 12, 0.6019000000000001)], [8.260000000000002]], 33: [(8.5, 5.6), 'nicht parkend', [(845.8910256410256, 114.10897435897436, 6.820344551282056)], [7.5625]], 34: [(13.0, 3.0), 'wartend', [(865.4045454545454, 13.65069930069933, 2.4350000000000005)], [2.4350000000000005]], 35: [(8.0, 7.8), 'nicht parkend', [(590.0265957446809, 68.3411089979794, 8.845000000000002)], [8.845000000000002]], 36: [(12.5, 3.5), 'wartend', [(859.2409090909091, 18.487062937062888, 3.0925000000000002)], [3.0925000000000002]], 37: [(9.0, 6.5), 'wartend', [(822.6943396226415, 0, 0), (924, 172.37268089053805, 8.745656250000001)], [8.145000000000001]], 38: [(8.0, 7.9), 'nicht parkend', [(614.4673662888009, 339.5326337111991, 2.0075393244225954)], [8.845000000000002]], 39: [(9.5, 6.4), 'nicht parkend', [(936, 18, 0.84375)], [7.8875]], 40: [(13.0, 3.0), 'wartend', [(855, 14.984615384615381, 2.4350000000000005)], [2.4350000000000005]], 41: [(13.0, 3.0), 'wartend', [(851.7538461538461, 14.808391608391617, 2.4350000000000005)], [2.4350000000000005]], 42: [(9.5, 6.5), 'wartend', [(840.7538461538462, 0, 0), (936, 179.8427643784787, 8.488156250000001)], [7.8875]], 43: [(8.0, 6.7), 'nicht parkend', [(614.8732311320755, 267.1267688679245, 1.4273466981131606)], [8.192500000000003]], 44: [(9.0, 6.6), 'nicht parkend', [], [8.260000000000002]], 45: [(13.0, 3.0), 'wartend', [(840.0153846153846, 14.168111888111866, 2.4350000000000005)], [2.4350000000000005]], 46: [(13.0, 3.0), 'wartend', [(836.9454545454545, 14.25111492281303, 2.4350000000000005)], [2.4350000000000005]], 47: [(12.0, 4.0), 'wartend', [(825.8472727272728, 0, 0), (954, 143.64528301886787, 3.9725)], [3.9725]], 48: [(9.0, 3.1), 'nicht parkend', [], [4.835]], 49: [(12.5, 3.4), 'nicht parkend', [], [3.0925000000000002]]}\n"
     ]
    }
   ],
   "source": [
    "import postOptimization\n",
    "\n",
    "postOptimization.start_post_optimization(minute_interval, simulation_day, solarpeakleistung, bev_data, table_dict, simulation_data,\n",
    "                            ladeleistung_pro_bev)"
   ]
  }
 ],
 "metadata": {
  "kernelspec": {
   "display_name": "Python 3 (ipykernel)",
   "language": "python",
   "name": "python3"
  },
  "language_info": {
   "codemirror_mode": {
    "name": "ipython",
    "version": 3
   },
   "file_extension": ".py",
   "mimetype": "text/x-python",
   "name": "python",
   "nbconvert_exporter": "python",
   "pygments_lexer": "ipython3",
   "version": "3.9.5"
  }
 },
 "nbformat": 4,
 "nbformat_minor": 4
}