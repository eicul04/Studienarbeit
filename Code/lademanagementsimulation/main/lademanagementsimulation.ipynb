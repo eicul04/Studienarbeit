{
 "cells": [
  {
   "cell_type": "markdown",
   "metadata": {
    "pycharm": {
     "name": "#%% md\n"
    }
   },
   "source": [
    "# Lademanagementsimulation   \n"
   ]
  },
  {
   "cell_type": "markdown",
   "metadata": {},
   "source": [
    "### Simulations Parameter"
   ]
  },
  {
   "cell_type": "code",
   "execution_count": 1,
   "metadata": {
    "pycharm": {
     "name": "#%%\n"
    }
   },
   "outputs": [],
   "source": [
    "solarpeakleistung = 125 #Einheit Kilowattpeak (kWP)\n",
    "anzahl_bevs_pro_tag = 50\n",
    "ladeleistung_pro_bev = 11 #Einheit kW\n",
    "maximale_ladezeit = 30 #Einheit Minuten\n",
    "minute_interval = 15 #Einheit Minuten"
   ]
  },
  {
   "cell_type": "markdown",
   "metadata": {},
   "source": [
    "### Simulations Eingangsdaten"
   ]
  },
  {
   "cell_type": "code",
   "execution_count": 2,
   "metadata": {
    "pycharm": {
     "is_executing": true,
     "name": "#%%\n"
    }
   },
   "outputs": [
    {
     "data": {
      "text/html": [
       "\n",
       "        <iframe\n",
       "            width=\"100%\"\n",
       "            height=\"650\"\n",
       "            src=\"http://127.0.0.1:8050/\"\n",
       "            frameborder=\"0\"\n",
       "            allowfullscreen\n",
       "            \n",
       "        ></iframe>\n",
       "        "
      ],
      "text/plain": [
       "<IPython.lib.display.IFrame at 0x15529ea6d60>"
      ]
     },
     "metadata": {},
     "output_type": "display_data"
    }
   ],
   "source": [
    "import simulationInputDataVisualisation\n",
    "simulationInputDataVisualisation.create_jupyter_dash_app(solarpeakleistung)"
   ]
  },
  {
   "cell_type": "markdown",
   "metadata": {},
   "source": [
    "### Verteilungsalgorithmus"
   ]
  },
  {
   "cell_type": "code",
   "execution_count": 3,
   "metadata": {
    "pycharm": {
     "is_executing": true
    }
   },
   "outputs": [
    {
     "name": "stdout",
     "output_type": "stream",
     "text": [
      "START POST OPTIMIZATION\n",
      "\n",
      "\n",
      "OPTIMIZATION DONE\n",
      "BEVs dict:  {0: [(8.0, 6.2), 'nicht parkend', [], [7.8575]], 1: [(8.5, 5.7), 'nicht parkend', [], [7.625]], 2: [(9.0, 5.0), 'wartend', [(735.0123617603008, 45.26518926010738, 0)], [7.0425]], 3: [(8.5, 7.5), 'wartend', [(895.9714285714285, 64.02857142857147, 0)], [8.719999999999999]], 4: [(13.0, 3.0), 'wartend', [(923.0642954856361, 21.93570451436392, 0)], [2.3925]], 5: [(8.5, 6.3), 'nicht parkend', [], [8.225]], 6: [(13.0, 3.0), 'wartend', [(904.9763033175356, 18.087992168100527, 0)], [2.3925]], 7: [(8.5, 3.7), 'nicht parkend', [], [5.345]], 8: [(9.0, 5.8), 'nicht parkend', [], [7.9125]], 9: [(12.0, 4.0), 'wartend', [(870.3223538704582, 34.653949447077366, 0)], [3.7725]], 10: [(12.0, 4.0), 'wartend', [(872.65, 23.321428571428555, 0)], [3.7725]], 11: [(8.5, 4.6), 'nicht parkend', [], [6.5575]], 12: [(12.0, 4.0), 'wartend', [(861.6954545454546, 23.304545454545405, 0)], [3.7725]], 13: [(8.5, 7.2), 'nicht parkend', [], [8.62]], 14: [(8.0, 5.2), 'nicht parkend', [], [6.789999999999999]], 15: [(8.5, 7.5), 'wartend', [(730.6374800981685, 139.68487377228973, 0)], [8.719999999999999]], 16: [(8.0, 4.6), 'nicht parkend', [], [6.269999999999999]], 17: [(8.0, 4.4), 'nicht parkend', [], [5.962499999999999]], 18: [(9.5, 5.3), 'nicht parkend', [], [7.4475]], 19: [(13.0, 3.0), 'wartend', [(859.1181818181818, 13.531818181818153, 0)], [2.3925]], 20: [(9.0, 6.9), 'nicht parkend', [], [8.407499999999999]], 21: [(9.0, 5.9), 'nicht parkend', [], [7.9125]], 22: [(13.0, 3.0), 'wartend', [(847.8307692307693, 13.864685314685289, 0)], [2.3925]], 23: [(8.5, 4.3), 'nicht parkend', [], [6.3275]], 24: [(12.5, 3.5), 'wartend', [(841.2461538461539, 17.872027972027922, 0)], [2.99]], 25: [(12.0, 4.0), 'wartend', [(832.2327272727273, 22.76727272727271, 0)], [3.7725]], 26: [(8.5, 6.2), 'nicht parkend', [], [8.065]], 27: [(8.5, 3.4), 'nicht parkend', [], [4.9475]], 28: [(13.0, 3.0), 'wartend', [(833.4836363636364, 14.347132867132927, 0)], [2.3925]], 29: [(12.5, 3.5), 'wartend', [(795.1487179487182, 46.09743589743573, 0)], [2.99]], 30: [(12.0, 3.8), 'nicht parkend', [], [3.7725]], 31: [(12.5, 3.5), 'wartend', [(814.4528301886793, 17.779897084048002, 0)], [2.99]], 32: [(12.5, 3.5), 'wartend', [(815.7509433962264, 17.732692967410003, 0)], [2.99]], 33: [(9.0, 6.3), 'nicht parkend', [], [8.1875]], 34: [(8.5, 3.6), 'nicht parkend', [], [5.345]], 35: [(8.0, 5.4), 'nicht parkend', [], [7.0424999999999995]], 36: [(12.5, 3.5), 'wartend', [(795.8666666666667, 18.586163522012612, 0)], [2.99]], 37: [(13.0, 3.0), 'wartend', [(800.9647058823529, 14.786237513873516, 0)], [2.3925]], 38: [(8.5, 3.9), 'nicht parkend', [], [5.7299999999999995]], 39: [(8.0, 7.9), 'nicht parkend', [], [8.952499999999999]], 40: [(12.5, 3.5), 'wartend', [(767.8856112458416, 27.2631067028766, 0)], [2.99]], 41: [(8.5, 3.2), 'nicht parkend', [], [4.4775]], 42: [(8.5, 4.9), 'nicht parkend', [], [6.8100000000000005]], 43: [(13.0, 3.0), 'wartend', [(780.2775510204082, 15.589115646258506, 0)], [2.3925]], 44: [(8.0, 4.7), 'nicht parkend', [], [6.269999999999999]], 45: [(9.0, 6.4), 'nicht parkend', [], [8.1875]], 46: [(13.5, 2.5), 'nicht parkend', [], [1.9100000000000001]], 47: [(9.0, 6.9), 'nicht parkend', [], [8.407499999999999]], 48: [(13.0, 3.0), 'wartend', [(785.5836734693877, 15.381032412965169, 0)], [2.3925]], 49: [(8.5, 6.6), 'nicht parkend', [], [8.37]]}\n",
      "\n",
      "\n",
      "Minute:  480\n",
      "Waiting BEVs:  []\n",
      "Waiting BEVs after updating parking end:  [0, 14, 16, 17, 35, 39, 44]\n",
      "Charging BEVs after updating post optimization plan and parking end:  []\n",
      "SET BEV DATA for current minute for ID BEV 0 for minute 480:  0.62\n",
      "Charging BEVs (nachdem neue Plätze belegt):  [0]\n",
      "AVAILABLE SOLAR POWER:  0.62\n",
      "Restladeenergie bis zur fairen Ladeenergie for BEV mit ID 0:  7.8575\n",
      "Restladezeit:  760.4032258064516\n",
      "Charging BEVs:  [0]\n",
      "\n",
      "\n",
      "Minute:  495\n",
      "Waiting BEVs:  [14, 16, 17, 35, 39, 44]\n",
      "Waiting BEVs after updating parking end:  [14, 16, 17, 35, 39, 44]\n",
      "Charging BEVs after updating post optimization plan and parking end:  [0]\n",
      "FUEL Charging BEV:  0\n",
      "SET BEV DATA for current minute for ID BEV 0 for minute 495:  5.87\n",
      "Charging BEVs (nachdem neue Plätze belegt):  [0]\n",
      "AVAILABLE SOLAR POWER:  5.87\n",
      "Restladeenergie bis zur fairen Ladeenergie for BEV mit ID 0:  7.7025\n",
      "Restladezeit:  78.73083475298127\n",
      "Charging BEVs:  [0]\n",
      "\n",
      "\n",
      "Minute:  510\n",
      "Waiting BEVs:  [14, 16, 17, 35, 39, 44]\n",
      "Waiting BEVs after updating parking end:  [14, 16, 17, 35, 39, 44, 1, 5, 7, 11, 13, 23, 26, 27, 34, 38, 41, 42, 49]\n",
      "Charging BEVs after updating post optimization plan and parking end:  [0]\n",
      "FUEL Charging BEV:  0\n",
      "SET BEV DATA for current minute for ID BEV 0 for minute 510:  5.56\n",
      "SET BEV DATA for current minute for ID BEV 14 for minute 510:  5.56\n",
      "Charging BEVs (nachdem neue Plätze belegt):  [0, 14]\n",
      "AVAILABLE SOLAR POWER:  11.12\n",
      "Restladeenergie bis zur fairen Ladeenergie for BEV mit ID 0:  6.234999999999999\n",
      "Restladezeit:  67.2841726618705\n",
      "AVAILABLE SOLAR POWER:  11.12\n",
      "Restladeenergie bis zur fairen Ladeenergie for BEV mit ID 14:  6.789999999999999\n",
      "Restladezeit:  73.27338129496403\n",
      "Charging BEVs:  [0, 14]\n",
      "\n",
      "\n",
      "Minute:  525\n",
      "Waiting BEVs:  [16, 17, 35, 39, 44, 1, 5, 7, 11, 13, 23, 26, 27, 34, 38, 41, 42, 49]\n",
      "Waiting BEVs after updating parking end:  [16, 17, 35, 39, 44, 1, 5, 7, 11, 13, 23, 26, 27, 34, 38, 41, 42, 49]\n",
      "Charging BEVs after updating post optimization plan and parking end:  [0, 14]\n",
      "FUEL Charging BEV:  0\n",
      "FUEL Charging BEV:  14\n",
      "SET BEV DATA for current minute for ID BEV 0 for minute 525:  8.19\n",
      "SET BEV DATA for current minute for ID BEV 14 for minute 525:  8.19\n",
      "Charging BEVs (nachdem neue Plätze belegt):  [0, 14]\n",
      "AVAILABLE SOLAR POWER:  16.38\n",
      "Restladeenergie bis zur fairen Ladeenergie for BEV mit ID 0:  4.845\n",
      "Restladezeit:  35.494505494505496\n",
      "AVAILABLE SOLAR POWER:  16.38\n",
      "Restladeenergie bis zur fairen Ladeenergie for BEV mit ID 14:  5.3999999999999995\n",
      "Restladezeit:  39.56043956043956\n",
      "Charging BEVs:  [0, 14]\n",
      "\n",
      "\n",
      "Minute:  540\n",
      "Waiting BEVs:  [16, 17, 35, 39, 44, 1, 5, 7, 11, 13, 23, 26, 27, 34, 38, 41, 42, 49]\n",
      "Waiting BEVs after updating parking end:  [16, 17, 35, 39, 44, 1, 5, 7, 11, 13, 23, 26, 27, 34, 38, 41, 42, 49, 8, 20, 21, 33, 45, 47]\n",
      "Charging BEVs after updating post optimization plan and parking end:  [0, 14]\n",
      "FUEL Charging BEV:  0\n",
      "FUEL Charging BEV:  14\n",
      "SET BEV DATA for current minute for ID BEV 0 for minute 540:  7.666666666666667\n",
      "SET BEV DATA for current minute for ID BEV 14 for minute 540:  7.666666666666667\n",
      "SET BEV DATA for current minute for ID BEV 16 for minute 540:  7.666666666666667\n",
      "Charging BEVs (nachdem neue Plätze belegt):  [0, 14, 16]\n",
      "AVAILABLE SOLAR POWER:  23.0\n",
      "Restladeenergie bis zur fairen Ladeenergie for BEV mit ID 0:  2.7974999999999994\n",
      "Restladezeit:  21.89347826086956\n",
      "AVAILABLE SOLAR POWER:  23.0\n",
      "Restladeenergie bis zur fairen Ladeenergie for BEV mit ID 14:  3.352499999999999\n",
      "Restladezeit:  26.236956521739124\n",
      "AVAILABLE SOLAR POWER:  23.0\n",
      "Restladeenergie bis zur fairen Ladeenergie for BEV mit ID 16:  6.269999999999999\n",
      "Restladezeit:  49.069565217391286\n",
      "Charging BEVs:  [0, 14, 16]\n",
      "\n",
      "\n",
      "Minute:  555\n",
      "Waiting BEVs:  [17, 35, 39, 44, 1, 5, 7, 11, 13, 23, 26, 27, 34, 38, 41, 42, 49, 8, 20, 21, 33, 45, 47]\n",
      "Waiting BEVs after updating parking end:  [17, 35, 39, 44, 1, 5, 7, 11, 13, 23, 26, 27, 34, 38, 41, 42, 49, 8, 20, 21, 33, 45, 47]\n",
      "Charging BEVs after updating post optimization plan and parking end:  [0, 14, 16]\n",
      "FUEL Charging BEV:  0\n",
      "FUEL Charging BEV:  14\n",
      "FUEL Charging BEV:  16\n",
      "SET BEV DATA for current minute for ID BEV 0 for minute 555:  10.333333333333334\n",
      "SET BEV DATA for current minute for ID BEV 14 for minute 555:  10.333333333333334\n",
      "SET BEV DATA for current minute for ID BEV 16 for minute 555:  10.333333333333334\n",
      "Charging BEVs (nachdem neue Plätze belegt):  [0, 14, 16]\n",
      "AVAILABLE SOLAR POWER:  31.0\n",
      "Restladeenergie bis zur fairen Ladeenergie for BEV mit ID 0:  0.8808333333333325\n",
      "Restladezeit:  5.1145161290322525\n",
      "Die Restladezeit des BEVS 0 endet vor dem nächsten Interval\n",
      "SET BEV DATA after charging time over for ID BEV 0 for minute 560.1145161290323:  9.91\n",
      "ALLOCATE FREED SOLAR ENERGY ;)\n",
      "Ausgewähltes BEV das frei gewordenen Platz belegen darf:  17\n",
      "Ladestart für ausgewähltes BEV:  560.1145161290323\n",
      "SET BEV DATA for charging start of new bev for ID BEV 17 for minute 560.1145161290323:  10.333333333333334\n",
      "SET BEV DATA charging start between intervals for ID BEV 17 for minute 560.1145161290323:  10.333333333333334\n",
      "AVAILABLE SOLAR POWER:  31.0\n",
      "Restladeenergie bis zur fairen Ladeenergie for BEV mit ID 14:  1.4358333333333322\n",
      "Restladezeit:  8.337096774193542\n",
      "Die Restladezeit des BEVS 14 endet vor dem nächsten Interval\n",
      "SET BEV DATA after charging time over for ID BEV 14 for minute 563.3370967741936:  10.483333333333333\n",
      "AVAILABLE SOLAR POWER:  31.0\n",
      "Restladeenergie bis zur fairen Ladeenergie for BEV mit ID 16:  4.353333333333332\n",
      "Restladezeit:  25.2774193548387\n",
      "Charging BEVs:  [0, 14, 16]\n",
      "\n",
      "\n",
      "Minute:  570\n",
      "Waiting BEVs:  [35, 39, 44, 1, 5, 7, 11, 13, 23, 26, 27, 34, 38, 41, 42, 49, 8, 20, 21, 33, 45, 47]\n",
      "Waiting BEVs after updating parking end:  [35, 39, 44, 1, 5, 7, 11, 13, 23, 26, 27, 34, 38, 41, 42, 49, 8, 20, 21, 33, 45, 47, 18]\n",
      "Charging BEVs after updating post optimization plan and parking end:  [16, 17]\n",
      "FUEL Charging BEV:  16\n",
      "SET BEV DATA for current minute for ID BEV 16 for minute 570:  9.75\n",
      "SET BEV DATA for current minute for ID BEV 17 for minute 570:  9.75\n",
      "SET BEV DATA for current minute for ID BEV 35 for minute 570:  9.75\n",
      "SET BEV DATA for current minute for ID BEV 39 for minute 570:  9.75\n",
      "Charging BEVs (nachdem neue Plätze belegt):  [16, 17, 35, 39]\n",
      "AVAILABLE SOLAR POWER:  39.0\n",
      "Restladeenergie bis zur fairen Ladeenergie for BEV mit ID 16:  1.7699999999999987\n",
      "Restladezeit:  10.892307692307684\n",
      "Die Restladezeit des BEVS 16 endet vor dem nächsten Interval\n",
      "SET BEV DATA after charging time over for ID BEV 16 for minute 580.8923076923077:  10.2025\n",
      "ALLOCATE FREED SOLAR ENERGY ;)\n",
      "Ausgewähltes BEV das frei gewordenen Platz belegen darf:  44\n",
      "Ladestart für ausgewähltes BEV:  580.8923076923077\n",
      "SET BEV DATA for charging start of new bev for ID BEV 44 for minute 580.8923076923077:  9.75\n",
      "SET BEV DATA charging start between intervals for ID BEV 44 for minute 580.8923076923077:  9.75\n",
      "AVAILABLE SOLAR POWER:  39.0\n",
      "Restladeenergie bis zur fairen Ladeenergie for BEV mit ID 17:  4.26\n",
      "Restladezeit:  26.215384615384615\n",
      "AVAILABLE SOLAR POWER:  39.0\n",
      "Restladeenergie bis zur fairen Ladeenergie for BEV mit ID 35:  7.0424999999999995\n",
      "Restladezeit:  43.33846153846153\n",
      "AVAILABLE SOLAR POWER:  39.0\n",
      "Restladeenergie bis zur fairen Ladeenergie for BEV mit ID 39:  8.952499999999999\n",
      "Restladezeit:  55.092307692307685\n",
      "Charging BEVs:  [16, 17, 35, 39]\n",
      "\n",
      "\n",
      "Minute:  585\n",
      "Waiting BEVs:  [1, 5, 7, 11, 13, 23, 26, 27, 34, 38, 41, 42, 49, 8, 20, 21, 33, 45, 47, 18]\n",
      "Waiting BEVs after updating parking end:  [1, 5, 7, 11, 13, 23, 26, 27, 34, 38, 41, 42, 49, 8, 20, 21, 33, 45, 47, 18]\n",
      "Charging BEVs after updating post optimization plan and parking end:  [17, 35, 39, 44]\n",
      "FUEL Charging BEV:  17\n",
      "FUEL Charging BEV:  35\n",
      "FUEL Charging BEV:  39\n",
      "SET BEV DATA for current minute for ID BEV 17 for minute 585:  9.4\n",
      "SET BEV DATA for current minute for ID BEV 35 for minute 585:  9.4\n",
      "SET BEV DATA for current minute for ID BEV 39 for minute 585:  9.4\n"
     ]
    },
    {
     "name": "stdout",
     "output_type": "stream",
     "text": [
      "SET BEV DATA for current minute for ID BEV 44 for minute 585:  9.4\n",
      "SET BEV DATA for current minute for ID BEV 1 for minute 585:  9.4\n",
      "Charging BEVs (nachdem neue Plätze belegt):  [17, 35, 39, 44, 1]\n",
      "AVAILABLE SOLAR POWER:  47.0\n",
      "Restladeenergie bis zur fairen Ladeenergie for BEV mit ID 17:  1.8224999999999998\n",
      "Restladezeit:  11.632978723404253\n",
      "Die Restladezeit des BEVS 17 endet vor dem nächsten Interval\n",
      "SET BEV DATA after charging time over for ID BEV 17 for minute 596.6329787234042:  9.84\n",
      "ALLOCATE FREED SOLAR ENERGY ;)\n",
      "Ausgewähltes BEV das frei gewordenen Platz belegen darf:  5\n",
      "Ladestart für ausgewähltes BEV:  596.6329787234042\n",
      "SET BEV DATA for charging start of new bev for ID BEV 5 for minute 596.6329787234042:  9.4\n",
      "SET BEV DATA charging start between intervals for ID BEV 5 for minute 596.6329787234042:  9.4\n",
      "AVAILABLE SOLAR POWER:  47.0\n",
      "Restladeenergie bis zur fairen Ladeenergie for BEV mit ID 35:  4.6049999999999995\n",
      "Restladezeit:  29.393617021276594\n",
      "AVAILABLE SOLAR POWER:  47.0\n",
      "Restladeenergie bis zur fairen Ladeenergie for BEV mit ID 39:  6.514999999999999\n",
      "Restladezeit:  41.585106382978715\n",
      "AVAILABLE SOLAR POWER:  47.0\n",
      "Restladeenergie bis zur fairen Ladeenergie for BEV mit ID 44:  5.602499999999995\n",
      "Restladezeit:  35.760638297872305\n",
      "AVAILABLE SOLAR POWER:  47.0\n",
      "Restladeenergie bis zur fairen Ladeenergie for BEV mit ID 1:  7.625\n",
      "Restladezeit:  48.670212765957444\n",
      "Charging BEVs:  [17, 35, 39, 44, 1]\n",
      "\n",
      "\n",
      "Minute:  600\n",
      "Waiting BEVs:  [7, 11, 13, 23, 26, 27, 34, 38, 41, 42, 49, 8, 20, 21, 33, 45, 47, 18]\n",
      "Waiting BEVs after updating parking end:  [7, 11, 13, 23, 26, 27, 34, 38, 41, 42, 49, 8, 20, 21, 33, 45, 47, 18]\n",
      "Charging BEVs after updating post optimization plan and parking end:  [35, 39, 44, 1, 5]\n",
      "FUEL Charging BEV:  35\n",
      "FUEL Charging BEV:  39\n",
      "FUEL Charging BEV:  44\n",
      "FUEL Charging BEV:  1\n",
      "SET BEV DATA for current minute for ID BEV 35 for minute 600:  10.176\n",
      "SET BEV DATA for current minute for ID BEV 39 for minute 600:  10.176\n",
      "SET BEV DATA for current minute for ID BEV 44 for minute 600:  10.176\n",
      "SET BEV DATA for current minute for ID BEV 1 for minute 600:  10.176\n",
      "SET BEV DATA for current minute for ID BEV 5 for minute 600:  10.176\n",
      "Charging BEVs (nachdem neue Plätze belegt):  [35, 39, 44, 1, 5]\n",
      "AVAILABLE SOLAR POWER:  50.88\n",
      "Restladeenergie bis zur fairen Ladeenergie for BEV mit ID 35:  2.255\n",
      "Restladezeit:  13.295990566037736\n",
      "Die Restladezeit des BEVS 35 endet vor dem nächsten Interval\n",
      "SET BEV DATA after charging time over for ID BEV 35 for minute 613.2959905660377:  10.156\n",
      "ALLOCATE FREED SOLAR ENERGY ;)\n",
      "Ausgewähltes BEV das frei gewordenen Platz belegen darf:  7\n",
      "Ladestart für ausgewähltes BEV:  613.2959905660377\n",
      "SET BEV DATA for charging start of new bev for ID BEV 7 for minute 613.2959905660377:  10.176\n",
      "SET BEV DATA charging start between intervals for ID BEV 7 for minute 613.2959905660377:  10.176\n",
      "AVAILABLE SOLAR POWER:  50.88\n",
      "Restladeenergie bis zur fairen Ladeenergie for BEV mit ID 39:  4.164999999999999\n",
      "Restladezeit:  24.55778301886792\n",
      "AVAILABLE SOLAR POWER:  50.88\n",
      "Restladeenergie bis zur fairen Ladeenergie for BEV mit ID 44:  3.2524999999999946\n",
      "Restladezeit:  19.177476415094308\n",
      "AVAILABLE SOLAR POWER:  50.88\n",
      "Restladeenergie bis zur fairen Ladeenergie for BEV mit ID 1:  5.275\n",
      "Restladezeit:  31.10259433962264\n",
      "AVAILABLE SOLAR POWER:  50.88\n",
      "Restladeenergie bis zur fairen Ladeenergie for BEV mit ID 5:  7.6974999999999945\n",
      "Restladezeit:  45.38620283018865\n",
      "Charging BEVs:  [35, 39, 44, 1, 5]\n",
      "\n",
      "\n",
      "Minute:  615\n",
      "Waiting BEVs:  [11, 13, 23, 26, 27, 34, 38, 41, 42, 49, 8, 20, 21, 33, 45, 47, 18]\n",
      "Waiting BEVs after updating parking end:  [11, 13, 23, 26, 27, 34, 38, 41, 42, 49, 8, 20, 21, 33, 45, 47, 18]\n",
      "Charging BEVs after updating post optimization plan and parking end:  [39, 44, 1, 5, 7]\n",
      "FUEL Charging BEV:  39\n",
      "FUEL Charging BEV:  44\n",
      "FUEL Charging BEV:  1\n",
      "FUEL Charging BEV:  5\n",
      "SET BEV DATA for current minute for ID BEV 39 for minute 615:  10.123999999999999\n",
      "SET BEV DATA for current minute for ID BEV 44 for minute 615:  10.123999999999999\n",
      "SET BEV DATA for current minute for ID BEV 1 for minute 615:  10.123999999999999\n",
      "SET BEV DATA for current minute for ID BEV 5 for minute 615:  10.123999999999999\n",
      "SET BEV DATA for current minute for ID BEV 7 for minute 615:  10.123999999999999\n",
      "Charging BEVs (nachdem neue Plätze belegt):  [39, 44, 1, 5, 7]\n",
      "AVAILABLE SOLAR POWER:  50.62\n",
      "Restladeenergie bis zur fairen Ladeenergie for BEV mit ID 39:  1.6209999999999987\n",
      "Restladezeit:  9.606874753062023\n",
      "Die Restladezeit des BEVS 39 endet vor dem nächsten Interval\n",
      "SET BEV DATA after charging time over for ID BEV 39 for minute 624.606874753062:  10.118\n",
      "ALLOCATE FREED SOLAR ENERGY ;)\n",
      "Ausgewähltes BEV das frei gewordenen Platz belegen darf:  11\n",
      "Ladestart für ausgewähltes BEV:  624.606874753062\n",
      "SET BEV DATA for charging start of new bev for ID BEV 11 for minute 624.606874753062:  10.123999999999999\n",
      "SET BEV DATA charging start between intervals for ID BEV 11 for minute 624.606874753062:  10.123999999999999\n",
      "AVAILABLE SOLAR POWER:  50.62\n",
      "Restladeenergie bis zur fairen Ladeenergie for BEV mit ID 44:  0.7084999999999946\n",
      "Restladezeit:  4.198933227973101\n",
      "Die Restladezeit des BEVS 44 endet vor dem nächsten Interval\n",
      "SET BEV DATA after charging time over for ID BEV 44 for minute 619.1989332279732:  10.136\n",
      "AVAILABLE SOLAR POWER:  50.62\n",
      "Restladeenergie bis zur fairen Ladeenergie for BEV mit ID 1:  2.731\n",
      "Restladezeit:  16.185302252074283\n",
      "AVAILABLE SOLAR POWER:  50.62\n",
      "Restladeenergie bis zur fairen Ladeenergie for BEV mit ID 5:  5.153499999999994\n",
      "Restladezeit:  30.54227578032395\n",
      "AVAILABLE SOLAR POWER:  50.62\n",
      "Restladeenergie bis zur fairen Ladeenergie for BEV mit ID 7:  5.056000000000001\n",
      "Restladezeit:  29.96444093243778\n",
      "Charging BEVs:  [39, 44, 1, 5, 7]\n",
      "\n",
      "\n",
      "Minute:  630\n",
      "Waiting BEVs:  [13, 23, 26, 27, 34, 38, 41, 42, 49, 8, 20, 21, 33, 45, 47, 18]\n",
      "Waiting BEVs after updating parking end:  [13, 23, 26, 27, 34, 38, 41, 42, 49, 8, 20, 21, 33, 45, 47, 18]\n",
      "Charging BEVs after updating post optimization plan and parking end:  [1, 5, 7, 11]\n",
      "FUEL Charging BEV:  1\n",
      "FUEL Charging BEV:  5\n",
      "FUEL Charging BEV:  7\n",
      "SET BEV DATA for current minute for ID BEV 1 for minute 630:  10.076\n",
      "SET BEV DATA for current minute for ID BEV 5 for minute 630:  10.076\n",
      "SET BEV DATA for current minute for ID BEV 7 for minute 630:  10.076\n",
      "SET BEV DATA for current minute for ID BEV 11 for minute 630:  10.076\n",
      "SET BEV DATA for current minute for ID BEV 13 for minute 630:  10.076\n",
      "Charging BEVs (nachdem neue Plätze belegt):  [1, 5, 7, 11, 13]\n",
      "AVAILABLE SOLAR POWER:  50.38\n",
      "Restladeenergie bis zur fairen Ladeenergie for BEV mit ID 1:  0.20000000000000018\n",
      "Restladezeit:  1.1909487892020652\n",
      "Die Restladezeit des BEVS 1 endet vor dem nächsten Interval\n",
      "SET BEV DATA after charging time over for ID BEV 1 for minute 631.190948789202:  10.096\n",
      "ALLOCATE FREED SOLAR ENERGY ;)\n",
      "Ausgewähltes BEV das frei gewordenen Platz belegen darf:  23\n",
      "Ladestart für ausgewähltes BEV:  631.190948789202\n",
      "SET BEV DATA for charging start of new bev for ID BEV 23 for minute 631.190948789202:  10.076\n",
      "SET BEV DATA charging start between intervals for ID BEV 23 for minute 631.190948789202:  10.076\n",
      "AVAILABLE SOLAR POWER:  50.38\n",
      "Restladeenergie bis zur fairen Ladeenergie for BEV mit ID 5:  2.622499999999995\n",
      "Restladezeit:  15.61631599841204\n",
      "AVAILABLE SOLAR POWER:  50.38\n",
      "Restladeenergie bis zur fairen Ladeenergie for BEV mit ID 7:  2.5250000000000017\n",
      "Restladezeit:  15.03572846367607\n",
      "AVAILABLE SOLAR POWER:  50.38\n",
      "Restladeenergie bis zur fairen Ladeenergie for BEV mit ID 11:  5.647499999999997\n",
      "Restladezeit:  33.629416435093276\n",
      "AVAILABLE SOLAR POWER:  50.38\n",
      "Restladeenergie bis zur fairen Ladeenergie for BEV mit ID 13:  8.62\n",
      "Restladezeit:  51.32989281460897\n",
      "Charging BEVs:  [1, 5, 7, 11, 13]\n",
      "\n",
      "\n",
      "Minute:  645\n",
      "Waiting BEVs:  [26, 27, 34, 38, 41, 42, 49, 8, 20, 21, 33, 45, 47, 18]\n",
      "Waiting BEVs after updating parking end:  [26, 27, 34, 38, 41, 42, 49, 8, 20, 21, 33, 45, 47, 18]\n",
      "Charging BEVs after updating post optimization plan and parking end:  [5, 7, 11, 13, 23]\n",
      "FUEL Charging BEV:  5\n",
      "FUEL Charging BEV:  7\n",
      "FUEL Charging BEV:  11\n",
      "FUEL Charging BEV:  13\n",
      "SET BEV DATA for current minute for ID BEV 5 for minute 645:  10.024\n",
      "SET BEV DATA for current minute for ID BEV 7 for minute 645:  10.024\n",
      "SET BEV DATA for current minute for ID BEV 11 for minute 645:  10.024\n",
      "SET BEV DATA for current minute for ID BEV 13 for minute 645:  10.024\n",
      "SET BEV DATA for current minute for ID BEV 23 for minute 645:  10.024\n",
      "Charging BEVs (nachdem neue Plätze belegt):  [5, 7, 11, 13, 23]\n",
      "AVAILABLE SOLAR POWER:  50.12\n",
      "Restladeenergie bis zur fairen Ladeenergie for BEV mit ID 5:  0.10349999999999504\n",
      "Restladezeit:  0.6195131683958203\n",
      "Die Restladezeit des BEVS 5 endet vor dem nächsten Interval\n",
      "SET BEV DATA after charging time over for ID BEV 5 for minute 645.6195131683958:  10.048\n",
      "ALLOCATE FREED SOLAR ENERGY ;)\n",
      "Ausgewähltes BEV das frei gewordenen Platz belegen darf:  26\n",
      "Ladestart für ausgewähltes BEV:  645.6195131683958\n",
      "SET BEV DATA for charging start of new bev for ID BEV 26 for minute 645.6195131683958:  10.024\n",
      "SET BEV DATA charging start between intervals for ID BEV 26 for minute 645.6195131683958:  10.024\n",
      "AVAILABLE SOLAR POWER:  50.12\n",
      "Restladeenergie bis zur fairen Ladeenergie for BEV mit ID 7:  0.0060000000000011156\n",
      "Restladezeit:  0.035913806863534216\n",
      "Die Restladezeit des BEVS 7 endet vor dem nächsten Interval\n",
      "SET BEV DATA after charging time over for ID BEV 7 for minute 645.0359138068635:  10.05\n",
      "AVAILABLE SOLAR POWER:  50.12\n",
      "Restladeenergie bis zur fairen Ladeenergie for BEV mit ID 11:  3.1284999999999976\n",
      "Restladezeit:  18.726057462090967\n",
      "AVAILABLE SOLAR POWER:  50.12\n",
      "Restladeenergie bis zur fairen Ladeenergie for BEV mit ID 13:  6.100999999999999\n",
      "Restladezeit:  36.51835594573024\n",
      "AVAILABLE SOLAR POWER:  50.12\n",
      "Restladeenergie bis zur fairen Ladeenergie for BEV mit ID 23:  4.008499999999993\n",
      "Restladezeit:  23.993415802074978\n",
      "Charging BEVs:  [5, 7, 11, 13, 23]\n",
      "\n",
      "\n",
      "Minute:  660\n",
      "Waiting BEVs:  [27, 34, 38, 41, 42, 49, 8, 20, 21, 33, 45, 47, 18]\n",
      "Waiting BEVs after updating parking end:  [27, 34, 38, 41, 42, 49, 8, 20, 21, 33, 45, 47, 18]\n",
      "Charging BEVs after updating post optimization plan and parking end:  [11, 13, 23, 26]\n",
      "FUEL Charging BEV:  11\n",
      "FUEL Charging BEV:  13\n",
      "FUEL Charging BEV:  23\n",
      "SET BEV DATA for current minute for ID BEV 11 for minute 660:  10.123999999999999\n",
      "SET BEV DATA for current minute for ID BEV 13 for minute 660:  10.123999999999999\n",
      "SET BEV DATA for current minute for ID BEV 23 for minute 660:  10.123999999999999\n",
      "SET BEV DATA for current minute for ID BEV 26 for minute 660:  10.123999999999999\n",
      "SET BEV DATA for current minute for ID BEV 27 for minute 660:  10.123999999999999\n",
      "Charging BEVs (nachdem neue Plätze belegt):  [11, 13, 23, 26, 27]\n",
      "AVAILABLE SOLAR POWER:  50.62\n",
      "Restladeenergie bis zur fairen Ladeenergie for BEV mit ID 11:  0.6224999999999978\n",
      "Restladezeit:  3.689253259581181\n",
      "Die Restladezeit des BEVS 11 endet vor dem nächsten Interval\n",
      "SET BEV DATA after charging time over for ID BEV 11 for minute 663.6892532595812:  10.062000000000001\n"
     ]
    },
    {
     "name": "stdout",
     "output_type": "stream",
     "text": [
      "ALLOCATE FREED SOLAR ENERGY ;)\n",
      "Ausgewähltes BEV das frei gewordenen Platz belegen darf:  34\n",
      "Ladestart für ausgewähltes BEV:  663.6892532595812\n",
      "SET BEV DATA for charging start of new bev for ID BEV 34 for minute 663.6892532595812:  10.123999999999999\n",
      "SET BEV DATA charging start between intervals for ID BEV 34 for minute 663.6892532595812:  10.123999999999999\n",
      "AVAILABLE SOLAR POWER:  50.62\n",
      "Restladeenergie bis zur fairen Ladeenergie for BEV mit ID 13:  3.594999999999999\n",
      "Restladezeit:  21.30580798103516\n",
      "AVAILABLE SOLAR POWER:  50.62\n",
      "Restladeenergie bis zur fairen Ladeenergie for BEV mit ID 23:  1.5024999999999933\n",
      "Restladezeit:  8.904583168707983\n",
      "Die Restladezeit des BEVS 23 endet vor dem nächsten Interval\n",
      "SET BEV DATA after charging time over for ID BEV 23 for minute 668.904583168708:  10.148\n",
      "AVAILABLE SOLAR POWER:  50.62\n",
      "Restladeenergie bis zur fairen Ladeenergie for BEV mit ID 26:  5.662499999999986\n",
      "Restladezeit:  33.558870011852946\n",
      "AVAILABLE SOLAR POWER:  50.62\n",
      "Restladeenergie bis zur fairen Ladeenergie for BEV mit ID 27:  4.9475\n",
      "Restladezeit:  29.32141446068748\n",
      "Charging BEVs:  [11, 13, 23, 26, 27]\n",
      "\n",
      "\n",
      "Minute:  675\n",
      "Waiting BEVs:  [38, 41, 42, 49, 8, 20, 21, 33, 45, 47, 18]\n",
      "Waiting BEVs after updating parking end:  [38, 41, 42, 49, 8, 20, 21, 33, 45, 47, 18]\n",
      "Charging BEVs after updating post optimization plan and parking end:  [13, 26, 27, 34]\n",
      "FUEL Charging BEV:  13\n",
      "FUEL Charging BEV:  26\n",
      "FUEL Charging BEV:  27\n",
      "SET BEV DATA for current minute for ID BEV 13 for minute 675:  10.376000000000001\n",
      "SET BEV DATA for current minute for ID BEV 26 for minute 675:  10.376000000000001\n",
      "SET BEV DATA for current minute for ID BEV 27 for minute 675:  10.376000000000001\n",
      "SET BEV DATA for current minute for ID BEV 34 for minute 675:  10.376000000000001\n",
      "SET BEV DATA for current minute for ID BEV 38 for minute 675:  10.376000000000001\n",
      "Charging BEVs (nachdem neue Plätze belegt):  [13, 26, 27, 34, 38]\n",
      "AVAILABLE SOLAR POWER:  51.88\n",
      "Restladeenergie bis zur fairen Ladeenergie for BEV mit ID 13:  1.0639999999999992\n",
      "Restladezeit:  6.1526599845797945\n",
      "Die Restladezeit des BEVS 13 endet vor dem nächsten Interval\n",
      "SET BEV DATA after charging time over for ID BEV 13 for minute 681.1526599845798:  10.352\n",
      "ALLOCATE FREED SOLAR ENERGY ;)\n",
      "Ausgewähltes BEV das frei gewordenen Platz belegen darf:  41\n",
      "Ladestart für ausgewähltes BEV:  681.1526599845798\n",
      "SET BEV DATA for charging start of new bev for ID BEV 41 for minute 681.1526599845798:  10.376000000000001\n",
      "SET BEV DATA charging start between intervals for ID BEV 41 for minute 681.1526599845798:  10.376000000000001\n",
      "AVAILABLE SOLAR POWER:  51.88\n",
      "Restladeenergie bis zur fairen Ladeenergie for BEV mit ID 26:  3.1314999999999866\n",
      "Restladezeit:  18.108134155743944\n",
      "AVAILABLE SOLAR POWER:  51.88\n",
      "Restladeenergie bis zur fairen Ladeenergie for BEV mit ID 27:  2.4165\n",
      "Restladezeit:  13.973592906707786\n",
      "Die Restladezeit des BEVS 27 endet vor dem nächsten Interval\n",
      "SET BEV DATA after charging time over for ID BEV 27 for minute 688.9735929067078:  10.482\n",
      "AVAILABLE SOLAR POWER:  51.88\n",
      "Restladeenergie bis zur fairen Ladeenergie for BEV mit ID 34:  3.4364999999999952\n",
      "Restladezeit:  19.871819583654556\n",
      "AVAILABLE SOLAR POWER:  51.88\n",
      "Restladeenergie bis zur fairen Ladeenergie for BEV mit ID 38:  5.7299999999999995\n",
      "Restladezeit:  33.13415574402467\n",
      "Charging BEVs:  [13, 26, 27, 34, 38]\n",
      "\n",
      "\n",
      "Minute:  690\n",
      "Waiting BEVs:  [42, 49, 8, 20, 21, 33, 45, 47, 18]\n",
      "Waiting BEVs after updating parking end:  [42, 49, 8, 20, 21, 33, 45, 47, 18]\n",
      "Charging BEVs after updating post optimization plan and parking end:  [26, 34, 38, 41]\n",
      "FUEL Charging BEV:  26\n",
      "FUEL Charging BEV:  34\n",
      "FUEL Charging BEV:  38\n",
      "SET BEV DATA for current minute for ID BEV 26 for minute 690:  10.623999999999999\n",
      "SET BEV DATA for current minute for ID BEV 34 for minute 690:  10.623999999999999\n",
      "SET BEV DATA for current minute for ID BEV 38 for minute 690:  10.623999999999999\n",
      "SET BEV DATA for current minute for ID BEV 41 for minute 690:  10.623999999999999\n",
      "SET BEV DATA for current minute for ID BEV 42 for minute 690:  10.623999999999999\n",
      "Charging BEVs (nachdem neue Plätze belegt):  [26, 34, 38, 41, 42]\n",
      "AVAILABLE SOLAR POWER:  53.12\n",
      "Restladeenergie bis zur fairen Ladeenergie for BEV mit ID 26:  0.5374999999999863\n",
      "Restladezeit:  3.035579819277032\n",
      "Die Restladezeit des BEVS 26 endet vor dem nächsten Interval\n",
      "SET BEV DATA after charging time over for ID BEV 26 for minute 693.035579819277:  10.55\n",
      "ALLOCATE FREED SOLAR ENERGY ;)\n",
      "Ausgewähltes BEV das frei gewordenen Platz belegen darf:  49\n",
      "Ladestart für ausgewähltes BEV:  693.035579819277\n",
      "SET BEV DATA for charging start of new bev for ID BEV 49 for minute 693.035579819277:  10.623999999999999\n",
      "SET BEV DATA charging start between intervals for ID BEV 49 for minute 693.035579819277:  10.623999999999999\n",
      "AVAILABLE SOLAR POWER:  53.12\n",
      "Restladeenergie bis zur fairen Ladeenergie for BEV mit ID 34:  0.8424999999999949\n",
      "Restladezeit:  4.758094879518044\n",
      "Die Restladezeit des BEVS 34 endet vor dem nächsten Interval\n",
      "SET BEV DATA after charging time over for ID BEV 34 for minute 694.758094879518:  10.58\n",
      "AVAILABLE SOLAR POWER:  53.12\n",
      "Restladeenergie bis zur fairen Ladeenergie for BEV mit ID 38:  3.1359999999999992\n",
      "Restladezeit:  17.710843373493972\n",
      "AVAILABLE SOLAR POWER:  53.12\n",
      "Restladeenergie bis zur fairen Ladeenergie for BEV mit ID 41:  2.9475000000000047\n",
      "Restladezeit:  16.646272590361477\n",
      "Die Restparkzeit von BEV  41 endet vor dem nächsten Intervall\n",
      "SET BEV DATA after parking time over for ID BEV 41 for minute 702:  10.7\n",
      "AVAILABLE SOLAR POWER:  53.12\n",
      "Restladeenergie bis zur fairen Ladeenergie for BEV mit ID 42:  6.8100000000000005\n",
      "Restladezeit:  38.46009036144579\n",
      "Charging BEVs:  [26, 34, 38, 41, 42]\n",
      "\n",
      "\n",
      "Minute:  705\n",
      "Waiting BEVs:  [8, 20, 21, 33, 45, 47, 18]\n",
      "Waiting BEVs after updating parking end:  [8, 20, 21, 33, 45, 47, 18]\n",
      "Charging BEVs after updating post optimization plan and parking end:  [38, 42, 49]\n",
      "FUEL Charging BEV:  38\n",
      "FUEL Charging BEV:  42\n",
      "SET BEV DATA for current minute for ID BEV 38 for minute 705:  10.876000000000001\n",
      "SET BEV DATA for current minute for ID BEV 42 for minute 705:  10.876000000000001\n",
      "SET BEV DATA for current minute for ID BEV 49 for minute 705:  10.876000000000001\n",
      "SET BEV DATA for current minute for ID BEV 8 for minute 705:  10.876000000000001\n",
      "SET BEV DATA for current minute for ID BEV 20 for minute 705:  10.876000000000001\n",
      "Charging BEVs (nachdem neue Plätze belegt):  [38, 42, 49, 8, 20]\n",
      "AVAILABLE SOLAR POWER:  54.38\n",
      "Restladeenergie bis zur fairen Ladeenergie for BEV mit ID 38:  0.47999999999999954\n",
      "Restladezeit:  2.648032364840012\n",
      "Die Restladezeit des BEVS 38 endet vor dem nächsten Interval\n",
      "SET BEV DATA after charging time over for ID BEV 38 for minute 707.64803236484:  10.794\n",
      "ALLOCATE FREED SOLAR ENERGY ;)\n",
      "Ausgewähltes BEV das frei gewordenen Platz belegen darf:  21\n",
      "Ladestart für ausgewähltes BEV:  707.64803236484\n",
      "SET BEV DATA for charging start of new bev for ID BEV 21 for minute 707.64803236484:  10.876000000000001\n",
      "SET BEV DATA charging start between intervals for ID BEV 21 for minute 707.64803236484:  10.876000000000001\n",
      "AVAILABLE SOLAR POWER:  54.38\n",
      "Restladeenergie bis zur fairen Ladeenergie for BEV mit ID 42:  4.154000000000001\n",
      "Restladezeit:  22.91651342405296\n",
      "AVAILABLE SOLAR POWER:  54.38\n",
      "Restladeenergie bis zur fairen Ladeenergie for BEV mit ID 49:  6.251499999999984\n",
      "Restladezeit:  34.487863184994396\n",
      "AVAILABLE SOLAR POWER:  54.38\n",
      "Restladeenergie bis zur fairen Ladeenergie for BEV mit ID 8:  7.9125\n",
      "Restladezeit:  43.65115851415961\n",
      "AVAILABLE SOLAR POWER:  54.38\n",
      "Restladeenergie bis zur fairen Ladeenergie for BEV mit ID 20:  8.407499999999999\n",
      "Restladezeit:  46.38194189040087\n",
      "Charging BEVs:  [38, 42, 49, 8, 20]\n",
      "\n",
      "\n",
      "Minute:  720\n",
      "Waiting BEVs:  [33, 45, 47, 18]\n",
      "SET BEV DATA charging start between intervals for ID BEV 15 for minute 730.6374800981685:  8.77\n",
      "Waiting BEVs after updating parking end:  [33, 45, 47, 18, 30]\n",
      "Charging BEVs after updating post optimization plan and parking end:  [42, 49, 8, 20, 21]\n",
      "FUEL Charging BEV:  42\n",
      "FUEL Charging BEV:  49\n",
      "FUEL Charging BEV:  8\n",
      "FUEL Charging BEV:  20\n",
      "SET BEV DATA for current minute for ID BEV 42 for minute 720:  10.524\n",
      "SET BEV DATA for current minute for ID BEV 49 for minute 720:  10.524\n",
      "SET BEV DATA for current minute for ID BEV 8 for minute 720:  10.524\n",
      "SET BEV DATA for current minute for ID BEV 20 for minute 720:  10.524\n",
      "SET BEV DATA for current minute for ID BEV 21 for minute 720:  10.524\n",
      "Charging BEVs (nachdem neue Plätze belegt):  [42, 49, 8, 20, 21]\n",
      "AVAILABLE SOLAR POWER:  52.62\n",
      "Restladeenergie bis zur fairen Ladeenergie for BEV mit ID 42:  1.4350000000000005\n",
      "Restladezeit:  8.181299885974918\n",
      "Die Restladezeit des BEVS 42 endet vor dem nächsten Interval\n",
      "SET BEV DATA after charging time over for ID BEV 42 for minute 728.1812998859749:  10.482\n",
      "AVAILABLE SOLAR POWER:  52.62\n",
      "Restladeenergie bis zur fairen Ladeenergie for BEV mit ID 49:  3.532499999999983\n",
      "Restladezeit:  20.13968072976045\n",
      "AVAILABLE SOLAR POWER:  52.62\n",
      "Restladeenergie bis zur fairen Ladeenergie for BEV mit ID 8:  5.193499999999999\n",
      "Restladezeit:  29.60946408209806\n",
      "AVAILABLE SOLAR POWER:  52.62\n",
      "Restladeenergie bis zur fairen Ladeenergie for BEV mit ID 20:  5.688499999999999\n",
      "Restladezeit:  32.43158494868871\n",
      "AVAILABLE SOLAR POWER:  52.62\n",
      "Restladeenergie bis zur fairen Ladeenergie for BEV mit ID 21:  5.673499999999995\n",
      "Restladezeit:  32.34606613454958\n",
      "Charging BEVs:  [42, 49, 8, 20, 21]\n",
      "\n",
      "\n",
      "Minute:  735\n",
      "Waiting BEVs:  [33, 45, 47, 18, 30]\n",
      "SET BEV DATA charging start between intervals for ID BEV 2 for minute 735.0123617603008:  7.98\n",
      "Waiting BEVs after updating parking end:  [33, 45, 47, 18, 30]\n",
      "Charging BEVs after updating post optimization plan and parking end:  [49, 8, 20, 21, 15]\n",
      "FUEL Charging BEV:  49\n",
      "FUEL Charging BEV:  8\n",
      "FUEL Charging BEV:  20\n",
      "FUEL Charging BEV:  21\n",
      "SET BEV DATA for current minute for ID BEV 49 for minute 735:  9.576\n",
      "SET BEV DATA for current minute for ID BEV 8 for minute 735:  9.576\n",
      "SET BEV DATA for current minute for ID BEV 20 for minute 735:  9.576\n",
      "SET BEV DATA for current minute for ID BEV 21 for minute 735:  9.576\n"
     ]
    },
    {
     "name": "stdout",
     "output_type": "stream",
     "text": [
      "SET BEV DATA for current minute for ID BEV 15 for minute 735:  9.576\n",
      "Charging BEVs (nachdem neue Plätze belegt):  [49, 8, 20, 21, 15]\n",
      "AVAILABLE SOLAR POWER:  47.88\n",
      "Restladeenergie bis zur fairen Ladeenergie for BEV mit ID 49:  0.9014999999999826\n",
      "Restladezeit:  5.6484962406013945\n",
      "Die Restladezeit des BEVS 49 endet vor dem nächsten Interval\n",
      "SET BEV DATA after charging time over for ID BEV 49 for minute 740.6484962406014:  9.692\n",
      "AVAILABLE SOLAR POWER:  47.88\n",
      "Restladeenergie bis zur fairen Ladeenergie for BEV mit ID 8:  2.5625\n",
      "Restladezeit:  16.055764411027567\n",
      "AVAILABLE SOLAR POWER:  47.88\n",
      "Restladeenergie bis zur fairen Ladeenergie for BEV mit ID 20:  3.057499999999999\n",
      "Restladezeit:  19.15726817042606\n",
      "AVAILABLE SOLAR POWER:  47.88\n",
      "Restladeenergie bis zur fairen Ladeenergie for BEV mit ID 21:  3.042499999999995\n",
      "Restladezeit:  19.063283208020017\n",
      "AVAILABLE SOLAR POWER:  47.88\n",
      "Restladeenergie bis zur fairen Ladeenergie for BEV mit ID 15:  8.082345007682289\n",
      "Restladezeit:  50.641259446630876\n",
      "Charging BEVs:  [49, 8, 20, 21, 15]\n",
      "\n",
      "\n",
      "Minute:  750\n",
      "Waiting BEVs:  [33, 45, 47, 18, 30]\n",
      "Waiting BEVs after updating parking end:  [33, 45, 47, 18, 30]\n",
      "Charging BEVs after updating post optimization plan and parking end:  [8, 20, 21, 15, 2]\n",
      "FUEL Charging BEV:  8\n",
      "FUEL Charging BEV:  20\n",
      "FUEL Charging BEV:  21\n",
      "FUEL Charging BEV:  15\n",
      "SET BEV DATA for current minute for ID BEV 8 for minute 750:  8.623999999999999\n",
      "SET BEV DATA for current minute for ID BEV 20 for minute 750:  8.623999999999999\n",
      "SET BEV DATA for current minute for ID BEV 21 for minute 750:  8.623999999999999\n",
      "SET BEV DATA for current minute for ID BEV 15 for minute 750:  8.623999999999999\n",
      "SET BEV DATA for current minute for ID BEV 2 for minute 750:  8.623999999999999\n",
      "Charging BEVs (nachdem neue Plätze belegt):  [8, 20, 21, 15, 2]\n",
      "AVAILABLE SOLAR POWER:  43.12\n",
      "Restladeenergie bis zur fairen Ladeenergie for BEV mit ID 8:  0.16849999999999987\n",
      "Restladezeit:  1.172309833024118\n",
      "Die Restladezeit des BEVS 8 endet vor dem nächsten Interval\n",
      "SET BEV DATA after charging time over for ID BEV 8 for minute 751.1723098330241:  9.026\n",
      "ALLOCATE FREED SOLAR ENERGY ;)\n",
      "Ausgewähltes BEV das frei gewordenen Platz belegen darf:  33\n",
      "Ladestart für ausgewähltes BEV:  751.1723098330241\n",
      "SET BEV DATA for charging start of new bev for ID BEV 33 for minute 751.1723098330241:  8.623999999999999\n",
      "SET BEV DATA charging start between intervals for ID BEV 33 for minute 751.1723098330241:  8.623999999999999\n",
      "AVAILABLE SOLAR POWER:  43.12\n",
      "Restladeenergie bis zur fairen Ladeenergie for BEV mit ID 20:  0.6634999999999991\n",
      "Restladezeit:  4.616187384044522\n",
      "Die Restladezeit des BEVS 20 endet vor dem nächsten Interval\n",
      "SET BEV DATA after charging time over for ID BEV 20 for minute 754.6161873840446:  8.808\n",
      "AVAILABLE SOLAR POWER:  43.12\n",
      "Restladeenergie bis zur fairen Ladeenergie for BEV mit ID 21:  0.648499999999995\n",
      "Restladezeit:  4.511827458255995\n",
      "Die Restladezeit des BEVS 21 endet vor dem nächsten Interval\n",
      "SET BEV DATA after charging time over for ID BEV 21 for minute 754.511827458256:  8.814\n",
      "AVAILABLE SOLAR POWER:  43.12\n",
      "Restladeenergie bis zur fairen Ladeenergie for BEV mit ID 15:  5.688345007682288\n",
      "Restladezeit:  39.57568419073948\n",
      "AVAILABLE SOLAR POWER:  43.12\n",
      "Restladeenergie bis zur fairen Ladeenergie for BEV mit ID 2:  5.049144114120006\n",
      "Restladezeit:  35.1285536696661\n",
      "Charging BEVs:  [8, 20, 21, 15, 2]\n",
      "\n",
      "\n",
      "Minute:  765\n",
      "Waiting BEVs:  [45, 47, 18, 30]\n",
      "SET BEV DATA charging start between intervals for ID BEV 40 for minute 767.8856112458416:  9.595\n",
      "Waiting BEVs after updating parking end:  [45, 47, 18, 30]\n",
      "Charging BEVs after updating post optimization plan and parking end:  [15, 2, 33]\n",
      "FUEL Charging BEV:  15\n",
      "FUEL Charging BEV:  2\n",
      "SET BEV DATA for current minute for ID BEV 15 for minute 765:  12.793333333333335\n",
      "SET BEV DATA for current minute for ID BEV 2 for minute 765:  12.793333333333335\n",
      "SET BEV DATA for current minute for ID BEV 33 for minute 765:  12.793333333333335\n",
      "Charging BEVs (nachdem neue Plätze belegt):  [15, 2, 33]\n",
      "AVAILABLE SOLAR POWER:  38.38\n",
      "Restladeenergie bis zur fairen Ladeenergie for BEV mit ID 15:  3.532345007682288\n",
      "Restladezeit:  16.566495606639183\n",
      "AVAILABLE SOLAR POWER:  38.38\n",
      "Restladeenergie bis zur fairen Ladeenergie for BEV mit ID 2:  2.8931441141200054\n",
      "Restladezeit:  13.56868005579992\n",
      "Die Restladezeit des BEVS 2 endet vor dem nächsten Interval\n",
      "SET BEV DATA after charging time over for ID BEV 2 for minute 778.5686800558:  12.15\n",
      "AVAILABLE SOLAR POWER:  38.38\n",
      "Restladeenergie bis zur fairen Ladeenergie for BEV mit ID 33:  6.199999999999996\n",
      "Restladezeit:  29.077644606565897\n",
      "Charging BEVs:  [15, 2, 33]\n",
      "\n",
      "\n",
      "Minute:  780\n",
      "Waiting BEVs:  [45, 47, 18, 30]\n",
      "SET BEV DATA charging start between intervals for ID BEV 43 for minute 780.2775510204082:  7.35\n",
      "SET BEV DATA charging start between intervals for ID BEV 48 for minute 785.5836734693877:  7.35\n",
      "Waiting BEVs after updating parking end:  [45, 47, 18, 30]\n",
      "Charging BEVs after updating post optimization plan and parking end:  [15, 33, 40]\n",
      "FUEL Charging BEV:  15\n",
      "FUEL Charging BEV:  33\n",
      "SET BEV DATA for current minute for ID BEV 15 for minute 780:  12.25\n",
      "SET BEV DATA for current minute for ID BEV 33 for minute 780:  12.25\n",
      "SET BEV DATA for current minute for ID BEV 40 for minute 780:  12.25\n",
      "Charging BEVs (nachdem neue Plätze belegt):  [15, 33, 40]\n",
      "AVAILABLE SOLAR POWER:  36.75\n",
      "Restladeenergie bis zur fairen Ladeenergie for BEV mit ID 15:  0.33401167434895385\n",
      "Restladezeit:  1.6359755478316107\n",
      "Die Restladezeit des BEVS 15 endet vor dem nächsten Interval\n",
      "SET BEV DATA after charging time over for ID BEV 15 for minute 781.6359755478317:  12.053333333333333\n",
      "AVAILABLE SOLAR POWER:  36.75\n",
      "Restladeenergie bis zur fairen Ladeenergie for BEV mit ID 33:  3.0016666666666616\n",
      "Restladezeit:  14.702040816326507\n",
      "Die Restladezeit des BEVS 33 endet vor dem nächsten Interval\n",
      "SET BEV DATA after charging time over for ID BEV 33 for minute 794.7020408163265:  12.49\n",
      "AVAILABLE SOLAR POWER:  36.75\n",
      "Restladeenergie bis zur fairen Ladeenergie for BEV mit ID 40:  1.0527073317308318\n",
      "Restladezeit:  5.156117543171421\n",
      "Die Restladezeit des BEVS 40 endet vor dem nächsten Interval\n",
      "SET BEV DATA after charging time over for ID BEV 40 for minute 785.1561175431714:  12.173333333333334\n",
      "Charging BEVs:  [15, 33, 40]\n",
      "\n",
      "\n",
      "Minute:  795\n",
      "Waiting BEVs:  [45, 47, 18, 30]\n",
      "SET BEV DATA charging start between intervals for ID BEV 29 for minute 795.1487179487182:  7.65\n",
      "SET BEV DATA charging start between intervals for ID BEV 36 for minute 795.8666666666667:  7.65\n",
      "SET BEV DATA charging start between intervals for ID BEV 37 for minute 800.9647058823529:  7.65\n",
      "SET BEV DATA after charging time over for ID BEV 43 for minute 795.8666666666667:  18.795\n",
      "SET BEV DATA after charging time over for ID BEV 48 for minute 800.9647058823529:  19.05\n",
      "Waiting BEVs after updating parking end:  [45, 47, 18, 30]\n",
      "Charging BEVs after updating post optimization plan and parking end:  [43, 48]\n",
      "SET BEV DATA for current minute for ID BEV 43 for minute 795:  19.125\n",
      "SET BEV DATA for current minute for ID BEV 48 for minute 795:  19.125\n",
      "Charging BEVs (nachdem neue Plätze belegt):  [43, 48]\n",
      "AVAILABLE SOLAR POWER:  38.25\n",
      "Restladeenergie bis zur fairen Ladeenergie for BEV mit ID 43:  0.4784999999999997\n",
      "Restladezeit:  1.5011764705882344\n",
      "Die Restladezeit des BEVS 43 endet vor dem nächsten Interval\n",
      "AVAILABLE SOLAR POWER:  38.25\n",
      "Restladeenergie bis zur fairen Ladeenergie for BEV mit ID 48:  0.4785000000000026\n",
      "Restladezeit:  1.5011764705882433\n",
      "Die Restladezeit des BEVS 48 endet vor dem nächsten Interval\n",
      "Charging BEVs:  [43, 48]\n",
      "\n",
      "\n",
      "Minute:  810\n",
      "Waiting BEVs:  [45, 47, 18, 30]\n",
      "SET BEV DATA charging start between intervals for ID BEV 31 for minute 814.4528301886793:  7.95\n",
      "SET BEV DATA charging start between intervals for ID BEV 32 for minute 815.7509433962264:  7.95\n",
      "SET BEV DATA after charging time over for ID BEV 36 for minute 814.4528301886793:  13.15\n",
      "SET BEV DATA after charging time over for ID BEV 37 for minute 815.7509433962264:  13.193333333333333\n",
      "Waiting BEVs after updating parking end:  [45, 47, 18, 30, 46]\n",
      "Charging BEVs after updating post optimization plan and parking end:  [29, 36, 37]\n",
      "SET BEV DATA for current minute for ID BEV 29 for minute 810:  13.25\n",
      "SET BEV DATA for current minute for ID BEV 36 for minute 810:  13.25\n",
      "SET BEV DATA for current minute for ID BEV 37 for minute 810:  13.25\n",
      "Charging BEVs (nachdem neue Plätze belegt):  [29, 36, 37]\n",
      "AVAILABLE SOLAR POWER:  39.75\n",
      "Restladeenergie bis zur fairen Ladeenergie for BEV mit ID 29:  1.096461538461567\n",
      "Restladezeit:  4.96510885341087\n",
      "Die Restladezeit des BEVS 29 endet vor dem nächsten Interval\n",
      "SET BEV DATA after charging time over for ID BEV 29 for minute 814.9651088534109:  13.166666666666666\n",
      "AVAILABLE SOLAR POWER:  39.75\n",
      "Restladeenergie bis zur fairen Ladeenergie for BEV mit ID 36:  0.5979999999999954\n",
      "Restladezeit:  2.707924528301866\n",
      "Die Restladezeit des BEVS 36 endet vor dem nächsten Interval\n",
      "AVAILABLE SOLAR POWER:  39.75\n",
      "Restladeenergie bis zur fairen Ladeenergie for BEV mit ID 37:  0.47849999999999504\n",
      "Restladezeit:  2.1667924528301663\n",
      "Die Restladezeit des BEVS 37 endet vor dem nächsten Interval\n",
      "Charging BEVs:  [29, 36, 37]\n",
      "\n",
      "\n",
      "Minute:  825\n",
      "Waiting BEVs:  [45, 47, 18, 30, 46]\n",
      "SET BEV DATA charging start between intervals for ID BEV 25 for minute 832.2327272727273:  10.3125\n",
      "SET BEV DATA charging start between intervals for ID BEV 28 for minute 833.4836363636364:  10.3125\n",
      "SET BEV DATA after charging time over for ID BEV 31 for minute 832.2327272727273:  20.61\n",
      "SET BEV DATA after charging time over for ID BEV 32 for minute 833.4836363636364:  20.675\n",
      "Waiting BEVs after updating parking end:  [45, 47, 18, 30, 46]\n",
      "Charging BEVs after updating post optimization plan and parking end:  [31, 32]\n"
     ]
    },
    {
     "name": "stdout",
     "output_type": "stream",
     "text": [
      "SET BEV DATA for current minute for ID BEV 31 for minute 825:  20.625\n",
      "SET BEV DATA for current minute for ID BEV 32 for minute 825:  20.625\n",
      "Charging BEVs (nachdem neue Plätze belegt):  [31, 32]\n",
      "AVAILABLE SOLAR POWER:  41.25\n",
      "Restladeenergie bis zur fairen Ladeenergie for BEV mit ID 31:  0.3493750000000029\n",
      "Restladezeit:  1.0163636363636448\n",
      "Die Restladezeit des BEVS 31 endet vor dem nächsten Interval\n",
      "AVAILABLE SOLAR POWER:  41.25\n",
      "Restladeenergie bis zur fairen Ladeenergie for BEV mit ID 32:  0.30637499999999207\n",
      "Restladezeit:  0.8912727272727042\n",
      "Die Restladezeit des BEVS 32 endet vor dem nächsten Interval\n",
      "Charging BEVs:  [31, 32]\n",
      "\n",
      "\n",
      "Minute:  840\n",
      "Waiting BEVs:  [45, 47, 18, 30, 46]\n",
      "SET BEV DATA charging start between intervals for ID BEV 22 for minute 847.8307692307693:  9.75\n",
      "SET BEV DATA charging start between intervals for ID BEV 24 for minute 841.2461538461539:  9.75\n",
      "SET BEV DATA after charging time over for ID BEV 28 for minute 847.8307692307693:  19.435\n",
      "Waiting BEVs after updating parking end:  [45, 47, 18, 30, 46]\n",
      "Charging BEVs after updating post optimization plan and parking end:  [25, 28]\n",
      "SET BEV DATA for current minute for ID BEV 25 for minute 840:  19.5\n",
      "SET BEV DATA for current minute for ID BEV 28 for minute 840:  19.5\n",
      "Charging BEVs (nachdem neue Plätze belegt):  [25, 28]\n",
      "AVAILABLE SOLAR POWER:  39.0\n",
      "Restladeenergie bis zur fairen Ladeenergie for BEV mit ID 25:  2.4375000000000027\n",
      "Restladezeit:  7.500000000000008\n",
      "Die Restladezeit des BEVS 25 endet vor dem nächsten Interval\n",
      "SET BEV DATA after charging time over for ID BEV 25 for minute 847.5:  19.5\n",
      "AVAILABLE SOLAR POWER:  39.0\n",
      "Restladeenergie bis zur fairen Ladeenergie for BEV mit ID 28:  -9.769962616701378e-15\n",
      "Restladezeit:  -3.006142343600424e-14\n",
      "Charging BEVs:  [25, 28]\n",
      "\n",
      "\n",
      "Minute:  855\n",
      "Waiting BEVs:  [45, 47, 18, 30, 46]\n",
      "SET BEV DATA charging start between intervals for ID BEV 12 for minute 861.6954545454546:  8.25\n",
      "SET BEV DATA charging start between intervals for ID BEV 19 for minute 859.1181818181818:  8.25\n",
      "SET BEV DATA after charging time over for ID BEV 22 for minute 861.6954545454546:  16.66\n",
      "SET BEV DATA after charging time over for ID BEV 24 for minute 859.1181818181818:  17.175\n",
      "Waiting BEVs after updating parking end:  [45, 47, 18, 30, 46]\n",
      "Charging BEVs after updating post optimization plan and parking end:  [22, 24]\n",
      "SET BEV DATA for current minute for ID BEV 22 for minute 855:  16.5\n",
      "SET BEV DATA for current minute for ID BEV 24 for minute 855:  16.5\n",
      "Charging BEVs (nachdem neue Plätze belegt):  [22, 24]\n",
      "AVAILABLE SOLAR POWER:  33.0\n",
      "Restladeenergie bis zur fairen Ladeenergie for BEV mit ID 22:  0.30687500000000556\n",
      "Restladezeit:  1.1159090909091112\n",
      "Die Restladezeit des BEVS 22 endet vor dem nächsten Interval\n",
      "AVAILABLE SOLAR POWER:  33.0\n",
      "Restladeenergie bis zur fairen Ladeenergie for BEV mit ID 24:  0.1887500000000082\n",
      "Restladezeit:  0.6863636363636662\n",
      "Die Restladezeit des BEVS 24 endet vor dem nächsten Interval\n",
      "Charging BEVs:  [22, 24]\n",
      "\n",
      "\n",
      "Minute:  870\n",
      "Waiting BEVs:  [45, 47, 18, 30, 46]\n",
      "SET BEV DATA charging start between intervals for ID BEV 9 for minute 870.3223538704582:  6.75\n",
      "SET BEV DATA charging start between intervals for ID BEV 10 for minute 872.65:  6.75\n",
      "SET BEV DATA after charging time over for ID BEV 19 for minute 872.65:  14.47\n",
      "Waiting BEVs after updating parking end:  [45, 47, 18, 30, 46]\n",
      "Charging BEVs after updating post optimization plan and parking end:  [12, 19]\n",
      "SET BEV DATA for current minute for ID BEV 12 for minute 870:  13.5\n",
      "SET BEV DATA for current minute for ID BEV 19 for minute 870:  13.5\n",
      "Charging BEVs (nachdem neue Plätze belegt):  [12, 19]\n",
      "AVAILABLE SOLAR POWER:  27.0\n",
      "Restladeenergie bis zur fairen Ladeenergie for BEV mit ID 12:  2.6306250000000064\n",
      "Restladezeit:  11.691666666666695\n",
      "Die Restladezeit des BEVS 12 endet vor dem nächsten Interval\n",
      "SET BEV DATA after charging time over for ID BEV 12 for minute 881.6916666666667:  12.66\n",
      "AVAILABLE SOLAR POWER:  27.0\n",
      "Restladeenergie bis zur fairen Ladeenergie for BEV mit ID 19:  0.5981250000000036\n",
      "Restladezeit:  2.658333333333349\n",
      "Die Restladezeit des BEVS 19 endet vor dem nächsten Interval\n",
      "Charging BEVs:  [12, 19]\n",
      "\n",
      "\n",
      "Minute:  885\n",
      "Waiting BEVs:  [45, 47, 18, 30, 46]\n",
      "SET BEV DATA charging start between intervals for ID BEV 3 for minute 895.9714285714285:  7.0\n",
      "SET BEV DATA after charging time over for ID BEV 10 for minute 895.9714285714285:  9.805\n",
      "Waiting BEVs after updating parking end:  [45, 47, 18, 30, 46]\n",
      "Charging BEVs after updating post optimization plan and parking end:  [9, 10]\n",
      "SET BEV DATA for current minute for ID BEV 9 for minute 885:  10.5\n",
      "SET BEV DATA for current minute for ID BEV 10 for minute 885:  10.5\n",
      "Charging BEVs (nachdem neue Plätze belegt):  [9, 10]\n",
      "AVAILABLE SOLAR POWER:  21.0\n",
      "Restladeenergie bis zur fairen Ladeenergie for BEV mit ID 9:  2.1212648104265464\n",
      "Restladezeit:  12.121513202437407\n",
      "Die Restladezeit des BEVS 9 endet vor dem nächsten Interval\n",
      "SET BEV DATA after charging time over for ID BEV 9 for minute 897.1215132024374:  9.575\n",
      "AVAILABLE SOLAR POWER:  21.0\n",
      "Restladeenergie bis zur fairen Ladeenergie for BEV mit ID 10:  1.1031250000000021\n",
      "Restladezeit:  6.303571428571441\n",
      "Die Restladezeit des BEVS 10 endet vor dem nächsten Interval\n",
      "Charging BEVs:  [9, 10]\n",
      "\n",
      "\n",
      "Minute:  900\n",
      "Waiting BEVs:  [45, 47, 18, 30, 46]\n",
      "SET BEV DATA charging start between intervals for ID BEV 6 for minute 904.9763033175356:  8.44\n",
      "Waiting BEVs after updating parking end:  [45, 47, 30, 46]\n",
      "Charging BEVs after updating post optimization plan and parking end:  [3]\n",
      "SET BEV DATA for current minute for ID BEV 3 for minute 900:  16.88\n",
      "Charging BEVs (nachdem neue Plätze belegt):  [3]\n",
      "AVAILABLE SOLAR POWER:  16.88\n",
      "Restladeenergie bis zur fairen Ladeenergie for BEV mit ID 3:  8.249999999999995\n",
      "Restladezeit:  29.32464454976302\n",
      "Charging BEVs:  [3]\n",
      "\n",
      "\n",
      "Minute:  915\n",
      "Waiting BEVs:  [45, 47, 30, 46]\n",
      "SET BEV DATA charging start between intervals for ID BEV 4 for minute 923.0642954856361:  4.873333333333333\n",
      "SET BEV DATA after charging time over for ID BEV 6 for minute 923.0642954856361:  7.27\n",
      "Waiting BEVs after updating parking end:  [45, 47, 30, 46]\n",
      "Charging BEVs after updating post optimization plan and parking end:  [3, 6]\n",
      "FUEL Charging BEV:  3\n",
      "SET BEV DATA for current minute for ID BEV 3 for minute 915:  7.31\n",
      "SET BEV DATA for current minute for ID BEV 6 for minute 915:  7.31\n",
      "Charging BEVs (nachdem neue Plätze belegt):  [3, 6]\n",
      "AVAILABLE SOLAR POWER:  14.62\n",
      "Restladeenergie bis zur fairen Ladeenergie for BEV mit ID 3:  4.029999999999995\n",
      "Restladezeit:  33.07797537619695\n",
      "AVAILABLE SOLAR POWER:  14.62\n",
      "Restladeenergie bis zur fairen Ladeenergie for BEV mit ID 6:  0.3275000000000041\n",
      "Restladezeit:  2.6880984952120723\n",
      "Die Restladezeit des BEVS 6 endet vor dem nächsten Interval\n",
      "Charging BEVs:  [3, 6]\n",
      "\n",
      "\n",
      "Minute:  930\n",
      "Waiting BEVs:  [45, 47, 30, 46]\n",
      "Waiting BEVs after updating parking end:  [47, 30, 46]\n",
      "Charging BEVs after updating post optimization plan and parking end:  [3, 4]\n",
      "FUEL Charging BEV:  3\n",
      "SET BEV DATA for current minute for ID BEV 3 for minute 930:  6.19\n",
      "SET BEV DATA for current minute for ID BEV 4 for minute 930:  6.19\n",
      "Charging BEVs (nachdem neue Plätze belegt):  [3, 4]\n",
      "AVAILABLE SOLAR POWER:  12.38\n",
      "Restladeenergie bis zur fairen Ladeenergie for BEV mit ID 3:  2.2024999999999952\n",
      "Restladezeit:  21.348949919224506\n",
      "AVAILABLE SOLAR POWER:  12.38\n",
      "Restladeenergie bis zur fairen Ladeenergie for BEV mit ID 4:  1.829166666666664\n",
      "Restladezeit:  17.730210016155063\n",
      "Charging BEVs:  [3, 4]\n",
      "\n",
      "\n",
      "Minute:  945\n",
      "Waiting BEVs:  [47, 30, 46]\n",
      "Waiting BEVs after updating parking end:  [47, 30, 46]\n",
      "Charging BEVs after updating post optimization plan and parking end:  [3, 4]\n",
      "FUEL Charging BEV:  3\n",
      "FUEL Charging BEV:  4\n",
      "SET BEV DATA for current minute for ID BEV 3 for minute 945:  5.06\n",
      "SET BEV DATA for current minute for ID BEV 4 for minute 945:  5.06\n",
      "Charging BEVs (nachdem neue Plätze belegt):  [3, 4]\n",
      "AVAILABLE SOLAR POWER:  10.12\n",
      "Restladeenergie bis zur fairen Ladeenergie for BEV mit ID 3:  0.6549999999999958\n",
      "Restladezeit:  7.766798418972282\n",
      "Die Restladezeit des BEVS 3 endet vor dem nächsten Interval\n",
      "SET BEV DATA after charging time over for ID BEV 3 for minute 952.7667984189723:  5.04\n",
      "ALLOCATE FREED SOLAR ENERGY ;)\n",
      "Ausgewähltes BEV das frei gewordenen Platz belegen darf:  47\n",
      "Ladestart für ausgewähltes BEV:  952.7667984189723\n",
      "SET BEV DATA for charging start of new bev for ID BEV 47 for minute 952.7667984189723:  5.06\n",
      "SET BEV DATA charging start between intervals for ID BEV 47 for minute 952.7667984189723:  5.06\n",
      "AVAILABLE SOLAR POWER:  10.12\n",
      "Restladeenergie bis zur fairen Ladeenergie for BEV mit ID 4:  0.2816666666666636\n",
      "Restladezeit:  3.339920948616565\n",
      "Die Restladezeit des BEVS 4 endet vor dem nächsten Interval\n",
      "SET BEV DATA after charging time over for ID BEV 4 for minute 948.3399209486165:  5.375\n",
      "Charging BEVs:  [3, 4]\n",
      "\n",
      "\n",
      "Minute:  960\n",
      "Waiting BEVs:  [30, 46]\n",
      "Waiting BEVs after updating parking end:  []\n",
      "Charging BEVs after updating post optimization plan and parking end:  [47]\n",
      "SET BEV DATA for current minute for ID BEV 47 for minute 960:  7.88\n",
      "Charging BEVs (nachdem neue Plätze belegt):  [47]\n",
      "AVAILABLE SOLAR POWER:  7.88\n",
      "Restladeenergie bis zur fairen Ladeenergie for BEV mit ID 47:  7.797499999999992\n",
      "Restladezeit:  59.37182741116746\n",
      "Charging BEVs:  [47]\n"
     ]
    }
   ],
   "source": [
    "import simulationClasses\n",
    "import simulationData\n",
    "import simulationOutputDataVisualisation\n",
    "import distributionAlgorithmForecastPolling\n",
    "import postOptimization\n",
    "import numpy as np\n",
    "\n",
    "simulation_day = simulationClasses.SimulationDay(anzahl_bevs_pro_tag)\n",
    "bev_data = simulationData.BevData()\n",
    "table_dict = simulationData.TableDict()\n",
    "simulation_data = simulationData.SimulationData()\n",
    "    \n",
    "day_in_minute_interval_steps = list(np.around(np.arange(480, 960 + 1, minute_interval), 1))\n",
    "distributionAlgorithmForecastPolling.init_simulation(day_in_minute_interval_steps, minute_interval, simulation_data, \n",
    "                                                   simulation_day, solarpeakleistung)\n",
    "\n",
    "postOptimization.start_post_optimization(minute_interval, simulation_day, solarpeakleistung, bev_data, table_dict, simulation_data,\n",
    "                ladeleistung_pro_bev)\n",
    "\n",
    "distributionAlgorithmForecastPolling.start_simulation(solarpeakleistung, ladeleistung_pro_bev,\n",
    "                     simulation_day, bev_data, table_dict, simulation_data, minute_interval)"
   ]
  },
  {
   "cell_type": "markdown",
   "metadata": {},
   "source": [
    "### Ergebnis Algorithmus"
   ]
  },
  {
   "cell_type": "code",
   "execution_count": 4,
   "metadata": {
    "pycharm": {
     "is_executing": true
    }
   },
   "outputs": [
    {
     "data": {
      "text/markdown": [
       ">**Ergebnis**<br>Geladene BEVs: 46 von 50<br>Verfügbare Solarenergie insgesamt: 276.47 kWh<br>Aufgeladene Solarenergie insgesamt: 239.24 kWh<br>Ungenutzte Solarenergie insgesamt: 0 kWh"
      ],
      "text/plain": [
       "<IPython.core.display.Markdown object>"
      ]
     },
     "execution_count": 4,
     "metadata": {},
     "output_type": "execute_result"
    }
   ],
   "source": [
    "simulationOutputDataVisualisation.print_algorithm_result(bev_data, simulation_data, anzahl_bevs_pro_tag, solarpeakleistung, minute_interval)"
   ]
  },
  {
   "cell_type": "markdown",
   "metadata": {},
   "source": [
    "### Tabellarische Übersicht Park- und Ladeverlauf der BEVs"
   ]
  },
  {
   "cell_type": "code",
   "execution_count": 5,
   "metadata": {
    "pycharm": {
     "is_executing": true
    }
   },
   "outputs": [
    {
     "data": {
      "application/vnd.jupyter.widget-view+json": {
       "model_id": "697d6b92fd804ff8b0c56a0e34edce80",
       "version_major": 2,
       "version_minor": 0
      },
      "text/plain": [
       "interactive(children=(IntSlider(value=480, description='Minute: ', max=960, min=480, step=15), Output()), _dom…"
      ]
     },
     "metadata": {},
     "output_type": "display_data"
    }
   ],
   "source": [
    "simulationOutputDataVisualisation.create_tabular_overview_per_minute_slider(table_dict, minute_interval)"
   ]
  },
  {
   "cell_type": "code",
   "execution_count": 6,
   "metadata": {
    "pycharm": {
     "is_executing": true
    }
   },
   "outputs": [
    {
     "data": {
      "application/vnd.plotly.v1+json": {
       "config": {
        "plotlyServerURL": "https://plot.ly"
       },
       "data": [
        {
         "line": {
          "color": "red"
         },
         "name": "Wartende BEVs",
         "type": "scatter",
         "x": [
          480,
          495,
          510,
          525,
          540,
          555,
          570,
          585,
          600,
          615,
          630,
          645,
          660,
          675,
          690,
          705,
          720,
          735,
          750,
          765,
          780,
          795,
          810,
          825,
          840,
          855,
          870,
          885,
          900,
          915,
          930,
          945,
          960
         ],
         "y": [
          7,
          6,
          19,
          18,
          24,
          23,
          23,
          20,
          18,
          17,
          16,
          14,
          13,
          11,
          9,
          7,
          5,
          5,
          5,
          4,
          4,
          4,
          5,
          5,
          5,
          5,
          5,
          5,
          4,
          4,
          3,
          3,
          0
         ]
        },
        {
         "line": {
          "color": "blue"
         },
         "name": "Ladende BEVs",
         "type": "scatter",
         "x": [
          960,
          945,
          930,
          915,
          900,
          885,
          870,
          855,
          840,
          825,
          810,
          795,
          780,
          765,
          750,
          735,
          720,
          705,
          690,
          675,
          660,
          645,
          630,
          615,
          600,
          585,
          570,
          555,
          540,
          525,
          510,
          495,
          480
         ],
         "y": [
          1,
          2,
          2,
          2,
          1,
          2,
          2,
          2,
          2,
          2,
          3,
          2,
          3,
          3,
          5,
          5,
          5,
          5,
          5,
          5,
          5,
          5,
          5,
          5,
          5,
          5,
          4,
          3,
          3,
          2,
          2,
          1,
          1
         ]
        }
       ],
       "layout": {
        "legend": {
         "tracegroupgap": 0
        },
        "margin": {
         "t": 60
        },
        "template": {
         "data": {
          "bar": [
           {
            "error_x": {
             "color": "#2a3f5f"
            },
            "error_y": {
             "color": "#2a3f5f"
            },
            "marker": {
             "line": {
              "color": "white",
              "width": 0.5
             },
             "pattern": {
              "fillmode": "overlay",
              "size": 10,
              "solidity": 0.2
             }
            },
            "type": "bar"
           }
          ],
          "barpolar": [
           {
            "marker": {
             "line": {
              "color": "white",
              "width": 0.5
             },
             "pattern": {
              "fillmode": "overlay",
              "size": 10,
              "solidity": 0.2
             }
            },
            "type": "barpolar"
           }
          ],
          "carpet": [
           {
            "aaxis": {
             "endlinecolor": "#2a3f5f",
             "gridcolor": "#C8D4E3",
             "linecolor": "#C8D4E3",
             "minorgridcolor": "#C8D4E3",
             "startlinecolor": "#2a3f5f"
            },
            "baxis": {
             "endlinecolor": "#2a3f5f",
             "gridcolor": "#C8D4E3",
             "linecolor": "#C8D4E3",
             "minorgridcolor": "#C8D4E3",
             "startlinecolor": "#2a3f5f"
            },
            "type": "carpet"
           }
          ],
          "choropleth": [
           {
            "colorbar": {
             "outlinewidth": 0,
             "ticks": ""
            },
            "type": "choropleth"
           }
          ],
          "contour": [
           {
            "colorbar": {
             "outlinewidth": 0,
             "ticks": ""
            },
            "colorscale": [
             [
              0,
              "#0d0887"
             ],
             [
              0.1111111111111111,
              "#46039f"
             ],
             [
              0.2222222222222222,
              "#7201a8"
             ],
             [
              0.3333333333333333,
              "#9c179e"
             ],
             [
              0.4444444444444444,
              "#bd3786"
             ],
             [
              0.5555555555555556,
              "#d8576b"
             ],
             [
              0.6666666666666666,
              "#ed7953"
             ],
             [
              0.7777777777777778,
              "#fb9f3a"
             ],
             [
              0.8888888888888888,
              "#fdca26"
             ],
             [
              1,
              "#f0f921"
             ]
            ],
            "type": "contour"
           }
          ],
          "contourcarpet": [
           {
            "colorbar": {
             "outlinewidth": 0,
             "ticks": ""
            },
            "type": "contourcarpet"
           }
          ],
          "heatmap": [
           {
            "colorbar": {
             "outlinewidth": 0,
             "ticks": ""
            },
            "colorscale": [
             [
              0,
              "#0d0887"
             ],
             [
              0.1111111111111111,
              "#46039f"
             ],
             [
              0.2222222222222222,
              "#7201a8"
             ],
             [
              0.3333333333333333,
              "#9c179e"
             ],
             [
              0.4444444444444444,
              "#bd3786"
             ],
             [
              0.5555555555555556,
              "#d8576b"
             ],
             [
              0.6666666666666666,
              "#ed7953"
             ],
             [
              0.7777777777777778,
              "#fb9f3a"
             ],
             [
              0.8888888888888888,
              "#fdca26"
             ],
             [
              1,
              "#f0f921"
             ]
            ],
            "type": "heatmap"
           }
          ],
          "heatmapgl": [
           {
            "colorbar": {
             "outlinewidth": 0,
             "ticks": ""
            },
            "colorscale": [
             [
              0,
              "#0d0887"
             ],
             [
              0.1111111111111111,
              "#46039f"
             ],
             [
              0.2222222222222222,
              "#7201a8"
             ],
             [
              0.3333333333333333,
              "#9c179e"
             ],
             [
              0.4444444444444444,
              "#bd3786"
             ],
             [
              0.5555555555555556,
              "#d8576b"
             ],
             [
              0.6666666666666666,
              "#ed7953"
             ],
             [
              0.7777777777777778,
              "#fb9f3a"
             ],
             [
              0.8888888888888888,
              "#fdca26"
             ],
             [
              1,
              "#f0f921"
             ]
            ],
            "type": "heatmapgl"
           }
          ],
          "histogram": [
           {
            "marker": {
             "pattern": {
              "fillmode": "overlay",
              "size": 10,
              "solidity": 0.2
             }
            },
            "type": "histogram"
           }
          ],
          "histogram2d": [
           {
            "colorbar": {
             "outlinewidth": 0,
             "ticks": ""
            },
            "colorscale": [
             [
              0,
              "#0d0887"
             ],
             [
              0.1111111111111111,
              "#46039f"
             ],
             [
              0.2222222222222222,
              "#7201a8"
             ],
             [
              0.3333333333333333,
              "#9c179e"
             ],
             [
              0.4444444444444444,
              "#bd3786"
             ],
             [
              0.5555555555555556,
              "#d8576b"
             ],
             [
              0.6666666666666666,
              "#ed7953"
             ],
             [
              0.7777777777777778,
              "#fb9f3a"
             ],
             [
              0.8888888888888888,
              "#fdca26"
             ],
             [
              1,
              "#f0f921"
             ]
            ],
            "type": "histogram2d"
           }
          ],
          "histogram2dcontour": [
           {
            "colorbar": {
             "outlinewidth": 0,
             "ticks": ""
            },
            "colorscale": [
             [
              0,
              "#0d0887"
             ],
             [
              0.1111111111111111,
              "#46039f"
             ],
             [
              0.2222222222222222,
              "#7201a8"
             ],
             [
              0.3333333333333333,
              "#9c179e"
             ],
             [
              0.4444444444444444,
              "#bd3786"
             ],
             [
              0.5555555555555556,
              "#d8576b"
             ],
             [
              0.6666666666666666,
              "#ed7953"
             ],
             [
              0.7777777777777778,
              "#fb9f3a"
             ],
             [
              0.8888888888888888,
              "#fdca26"
             ],
             [
              1,
              "#f0f921"
             ]
            ],
            "type": "histogram2dcontour"
           }
          ],
          "mesh3d": [
           {
            "colorbar": {
             "outlinewidth": 0,
             "ticks": ""
            },
            "type": "mesh3d"
           }
          ],
          "parcoords": [
           {
            "line": {
             "colorbar": {
              "outlinewidth": 0,
              "ticks": ""
             }
            },
            "type": "parcoords"
           }
          ],
          "pie": [
           {
            "automargin": true,
            "type": "pie"
           }
          ],
          "scatter": [
           {
            "marker": {
             "colorbar": {
              "outlinewidth": 0,
              "ticks": ""
             }
            },
            "type": "scatter"
           }
          ],
          "scatter3d": [
           {
            "line": {
             "colorbar": {
              "outlinewidth": 0,
              "ticks": ""
             }
            },
            "marker": {
             "colorbar": {
              "outlinewidth": 0,
              "ticks": ""
             }
            },
            "type": "scatter3d"
           }
          ],
          "scattercarpet": [
           {
            "marker": {
             "colorbar": {
              "outlinewidth": 0,
              "ticks": ""
             }
            },
            "type": "scattercarpet"
           }
          ],
          "scattergeo": [
           {
            "marker": {
             "colorbar": {
              "outlinewidth": 0,
              "ticks": ""
             }
            },
            "type": "scattergeo"
           }
          ],
          "scattergl": [
           {
            "marker": {
             "colorbar": {
              "outlinewidth": 0,
              "ticks": ""
             }
            },
            "type": "scattergl"
           }
          ],
          "scattermapbox": [
           {
            "marker": {
             "colorbar": {
              "outlinewidth": 0,
              "ticks": ""
             }
            },
            "type": "scattermapbox"
           }
          ],
          "scatterpolar": [
           {
            "marker": {
             "colorbar": {
              "outlinewidth": 0,
              "ticks": ""
             }
            },
            "type": "scatterpolar"
           }
          ],
          "scatterpolargl": [
           {
            "marker": {
             "colorbar": {
              "outlinewidth": 0,
              "ticks": ""
             }
            },
            "type": "scatterpolargl"
           }
          ],
          "scatterternary": [
           {
            "marker": {
             "colorbar": {
              "outlinewidth": 0,
              "ticks": ""
             }
            },
            "type": "scatterternary"
           }
          ],
          "surface": [
           {
            "colorbar": {
             "outlinewidth": 0,
             "ticks": ""
            },
            "colorscale": [
             [
              0,
              "#0d0887"
             ],
             [
              0.1111111111111111,
              "#46039f"
             ],
             [
              0.2222222222222222,
              "#7201a8"
             ],
             [
              0.3333333333333333,
              "#9c179e"
             ],
             [
              0.4444444444444444,
              "#bd3786"
             ],
             [
              0.5555555555555556,
              "#d8576b"
             ],
             [
              0.6666666666666666,
              "#ed7953"
             ],
             [
              0.7777777777777778,
              "#fb9f3a"
             ],
             [
              0.8888888888888888,
              "#fdca26"
             ],
             [
              1,
              "#f0f921"
             ]
            ],
            "type": "surface"
           }
          ],
          "table": [
           {
            "cells": {
             "fill": {
              "color": "#EBF0F8"
             },
             "line": {
              "color": "white"
             }
            },
            "header": {
             "fill": {
              "color": "#C8D4E3"
             },
             "line": {
              "color": "white"
             }
            },
            "type": "table"
           }
          ]
         },
         "layout": {
          "annotationdefaults": {
           "arrowcolor": "#2a3f5f",
           "arrowhead": 0,
           "arrowwidth": 1
          },
          "autotypenumbers": "strict",
          "coloraxis": {
           "colorbar": {
            "outlinewidth": 0,
            "ticks": ""
           }
          },
          "colorscale": {
           "diverging": [
            [
             0,
             "#8e0152"
            ],
            [
             0.1,
             "#c51b7d"
            ],
            [
             0.2,
             "#de77ae"
            ],
            [
             0.3,
             "#f1b6da"
            ],
            [
             0.4,
             "#fde0ef"
            ],
            [
             0.5,
             "#f7f7f7"
            ],
            [
             0.6,
             "#e6f5d0"
            ],
            [
             0.7,
             "#b8e186"
            ],
            [
             0.8,
             "#7fbc41"
            ],
            [
             0.9,
             "#4d9221"
            ],
            [
             1,
             "#276419"
            ]
           ],
           "sequential": [
            [
             0,
             "#0d0887"
            ],
            [
             0.1111111111111111,
             "#46039f"
            ],
            [
             0.2222222222222222,
             "#7201a8"
            ],
            [
             0.3333333333333333,
             "#9c179e"
            ],
            [
             0.4444444444444444,
             "#bd3786"
            ],
            [
             0.5555555555555556,
             "#d8576b"
            ],
            [
             0.6666666666666666,
             "#ed7953"
            ],
            [
             0.7777777777777778,
             "#fb9f3a"
            ],
            [
             0.8888888888888888,
             "#fdca26"
            ],
            [
             1,
             "#f0f921"
            ]
           ],
           "sequentialminus": [
            [
             0,
             "#0d0887"
            ],
            [
             0.1111111111111111,
             "#46039f"
            ],
            [
             0.2222222222222222,
             "#7201a8"
            ],
            [
             0.3333333333333333,
             "#9c179e"
            ],
            [
             0.4444444444444444,
             "#bd3786"
            ],
            [
             0.5555555555555556,
             "#d8576b"
            ],
            [
             0.6666666666666666,
             "#ed7953"
            ],
            [
             0.7777777777777778,
             "#fb9f3a"
            ],
            [
             0.8888888888888888,
             "#fdca26"
            ],
            [
             1,
             "#f0f921"
            ]
           ]
          },
          "colorway": [
           "#636efa",
           "#EF553B",
           "#00cc96",
           "#ab63fa",
           "#FFA15A",
           "#19d3f3",
           "#FF6692",
           "#B6E880",
           "#FF97FF",
           "#FECB52"
          ],
          "font": {
           "color": "#2a3f5f"
          },
          "geo": {
           "bgcolor": "white",
           "lakecolor": "white",
           "landcolor": "white",
           "showlakes": true,
           "showland": true,
           "subunitcolor": "#C8D4E3"
          },
          "hoverlabel": {
           "align": "left"
          },
          "hovermode": "closest",
          "mapbox": {
           "style": "light"
          },
          "paper_bgcolor": "white",
          "plot_bgcolor": "white",
          "polar": {
           "angularaxis": {
            "gridcolor": "#EBF0F8",
            "linecolor": "#EBF0F8",
            "ticks": ""
           },
           "bgcolor": "white",
           "radialaxis": {
            "gridcolor": "#EBF0F8",
            "linecolor": "#EBF0F8",
            "ticks": ""
           }
          },
          "scene": {
           "xaxis": {
            "backgroundcolor": "white",
            "gridcolor": "#DFE8F3",
            "gridwidth": 2,
            "linecolor": "#EBF0F8",
            "showbackground": true,
            "ticks": "",
            "zerolinecolor": "#EBF0F8"
           },
           "yaxis": {
            "backgroundcolor": "white",
            "gridcolor": "#DFE8F3",
            "gridwidth": 2,
            "linecolor": "#EBF0F8",
            "showbackground": true,
            "ticks": "",
            "zerolinecolor": "#EBF0F8"
           },
           "zaxis": {
            "backgroundcolor": "white",
            "gridcolor": "#DFE8F3",
            "gridwidth": 2,
            "linecolor": "#EBF0F8",
            "showbackground": true,
            "ticks": "",
            "zerolinecolor": "#EBF0F8"
           }
          },
          "shapedefaults": {
           "line": {
            "color": "#2a3f5f"
           }
          },
          "ternary": {
           "aaxis": {
            "gridcolor": "#DFE8F3",
            "linecolor": "#A2B1C6",
            "ticks": ""
           },
           "baxis": {
            "gridcolor": "#DFE8F3",
            "linecolor": "#A2B1C6",
            "ticks": ""
           },
           "bgcolor": "white",
           "caxis": {
            "gridcolor": "#DFE8F3",
            "linecolor": "#A2B1C6",
            "ticks": ""
           }
          },
          "title": {
           "x": 0.05
          },
          "xaxis": {
           "automargin": true,
           "gridcolor": "#EBF0F8",
           "linecolor": "#EBF0F8",
           "ticks": "",
           "title": {
            "standoff": 15
           },
           "zerolinecolor": "#EBF0F8",
           "zerolinewidth": 2
          },
          "yaxis": {
           "automargin": true,
           "gridcolor": "#EBF0F8",
           "linecolor": "#EBF0F8",
           "ticks": "",
           "title": {
            "standoff": 15
           },
           "zerolinecolor": "#EBF0F8",
           "zerolinewidth": 2
          }
         }
        },
        "title": {
         "font": {
          "size": 24
         },
         "text": "Anzahl wartender und ladender BEVs im Tagesverlauf",
         "x": 0.5,
         "xanchor": "center"
        },
        "xaxis": {
         "anchor": "y",
         "domain": [
          0,
          1
         ],
         "title": {
          "text": "Minuten"
         }
        },
        "yaxis": {
         "anchor": "x",
         "domain": [
          0,
          1
         ],
         "title": {
          "text": "Anzahl BEVs"
         }
        }
       }
      },
      "text/html": [
       "<div>                            <div id=\"64dad4a5-ea7f-4dd0-bee1-9b5e2b68ae25\" class=\"plotly-graph-div\" style=\"height:525px; width:100%;\"></div>            <script type=\"text/javascript\">                require([\"plotly\"], function(Plotly) {                    window.PLOTLYENV=window.PLOTLYENV || {};                                    if (document.getElementById(\"64dad4a5-ea7f-4dd0-bee1-9b5e2b68ae25\")) {                    Plotly.newPlot(                        \"64dad4a5-ea7f-4dd0-bee1-9b5e2b68ae25\",                        [{\"line\":{\"color\":\"red\"},\"name\":\"Wartende BEVs\",\"x\":[480,495,510,525,540,555,570,585,600,615,630,645,660,675,690,705,720,735,750,765,780,795,810,825,840,855,870,885,900,915,930,945,960],\"y\":[7,6,19,18,24,23,23,20,18,17,16,14,13,11,9,7,5,5,5,4,4,4,5,5,5,5,5,5,4,4,3,3,0],\"type\":\"scatter\"},{\"line\":{\"color\":\"blue\"},\"name\":\"Ladende BEVs\",\"x\":[960,945,930,915,900,885,870,855,840,825,810,795,780,765,750,735,720,705,690,675,660,645,630,615,600,585,570,555,540,525,510,495,480],\"y\":[1,2,2,2,1,2,2,2,2,2,3,2,3,3,5,5,5,5,5,5,5,5,5,5,5,5,4,3,3,2,2,1,1],\"type\":\"scatter\"}],                        {\"template\":{\"data\":{\"barpolar\":[{\"marker\":{\"line\":{\"color\":\"white\",\"width\":0.5},\"pattern\":{\"fillmode\":\"overlay\",\"size\":10,\"solidity\":0.2}},\"type\":\"barpolar\"}],\"bar\":[{\"error_x\":{\"color\":\"#2a3f5f\"},\"error_y\":{\"color\":\"#2a3f5f\"},\"marker\":{\"line\":{\"color\":\"white\",\"width\":0.5},\"pattern\":{\"fillmode\":\"overlay\",\"size\":10,\"solidity\":0.2}},\"type\":\"bar\"}],\"carpet\":[{\"aaxis\":{\"endlinecolor\":\"#2a3f5f\",\"gridcolor\":\"#C8D4E3\",\"linecolor\":\"#C8D4E3\",\"minorgridcolor\":\"#C8D4E3\",\"startlinecolor\":\"#2a3f5f\"},\"baxis\":{\"endlinecolor\":\"#2a3f5f\",\"gridcolor\":\"#C8D4E3\",\"linecolor\":\"#C8D4E3\",\"minorgridcolor\":\"#C8D4E3\",\"startlinecolor\":\"#2a3f5f\"},\"type\":\"carpet\"}],\"choropleth\":[{\"colorbar\":{\"outlinewidth\":0,\"ticks\":\"\"},\"type\":\"choropleth\"}],\"contourcarpet\":[{\"colorbar\":{\"outlinewidth\":0,\"ticks\":\"\"},\"type\":\"contourcarpet\"}],\"contour\":[{\"colorbar\":{\"outlinewidth\":0,\"ticks\":\"\"},\"colorscale\":[[0.0,\"#0d0887\"],[0.1111111111111111,\"#46039f\"],[0.2222222222222222,\"#7201a8\"],[0.3333333333333333,\"#9c179e\"],[0.4444444444444444,\"#bd3786\"],[0.5555555555555556,\"#d8576b\"],[0.6666666666666666,\"#ed7953\"],[0.7777777777777778,\"#fb9f3a\"],[0.8888888888888888,\"#fdca26\"],[1.0,\"#f0f921\"]],\"type\":\"contour\"}],\"heatmapgl\":[{\"colorbar\":{\"outlinewidth\":0,\"ticks\":\"\"},\"colorscale\":[[0.0,\"#0d0887\"],[0.1111111111111111,\"#46039f\"],[0.2222222222222222,\"#7201a8\"],[0.3333333333333333,\"#9c179e\"],[0.4444444444444444,\"#bd3786\"],[0.5555555555555556,\"#d8576b\"],[0.6666666666666666,\"#ed7953\"],[0.7777777777777778,\"#fb9f3a\"],[0.8888888888888888,\"#fdca26\"],[1.0,\"#f0f921\"]],\"type\":\"heatmapgl\"}],\"heatmap\":[{\"colorbar\":{\"outlinewidth\":0,\"ticks\":\"\"},\"colorscale\":[[0.0,\"#0d0887\"],[0.1111111111111111,\"#46039f\"],[0.2222222222222222,\"#7201a8\"],[0.3333333333333333,\"#9c179e\"],[0.4444444444444444,\"#bd3786\"],[0.5555555555555556,\"#d8576b\"],[0.6666666666666666,\"#ed7953\"],[0.7777777777777778,\"#fb9f3a\"],[0.8888888888888888,\"#fdca26\"],[1.0,\"#f0f921\"]],\"type\":\"heatmap\"}],\"histogram2dcontour\":[{\"colorbar\":{\"outlinewidth\":0,\"ticks\":\"\"},\"colorscale\":[[0.0,\"#0d0887\"],[0.1111111111111111,\"#46039f\"],[0.2222222222222222,\"#7201a8\"],[0.3333333333333333,\"#9c179e\"],[0.4444444444444444,\"#bd3786\"],[0.5555555555555556,\"#d8576b\"],[0.6666666666666666,\"#ed7953\"],[0.7777777777777778,\"#fb9f3a\"],[0.8888888888888888,\"#fdca26\"],[1.0,\"#f0f921\"]],\"type\":\"histogram2dcontour\"}],\"histogram2d\":[{\"colorbar\":{\"outlinewidth\":0,\"ticks\":\"\"},\"colorscale\":[[0.0,\"#0d0887\"],[0.1111111111111111,\"#46039f\"],[0.2222222222222222,\"#7201a8\"],[0.3333333333333333,\"#9c179e\"],[0.4444444444444444,\"#bd3786\"],[0.5555555555555556,\"#d8576b\"],[0.6666666666666666,\"#ed7953\"],[0.7777777777777778,\"#fb9f3a\"],[0.8888888888888888,\"#fdca26\"],[1.0,\"#f0f921\"]],\"type\":\"histogram2d\"}],\"histogram\":[{\"marker\":{\"pattern\":{\"fillmode\":\"overlay\",\"size\":10,\"solidity\":0.2}},\"type\":\"histogram\"}],\"mesh3d\":[{\"colorbar\":{\"outlinewidth\":0,\"ticks\":\"\"},\"type\":\"mesh3d\"}],\"parcoords\":[{\"line\":{\"colorbar\":{\"outlinewidth\":0,\"ticks\":\"\"}},\"type\":\"parcoords\"}],\"pie\":[{\"automargin\":true,\"type\":\"pie\"}],\"scatter3d\":[{\"line\":{\"colorbar\":{\"outlinewidth\":0,\"ticks\":\"\"}},\"marker\":{\"colorbar\":{\"outlinewidth\":0,\"ticks\":\"\"}},\"type\":\"scatter3d\"}],\"scattercarpet\":[{\"marker\":{\"colorbar\":{\"outlinewidth\":0,\"ticks\":\"\"}},\"type\":\"scattercarpet\"}],\"scattergeo\":[{\"marker\":{\"colorbar\":{\"outlinewidth\":0,\"ticks\":\"\"}},\"type\":\"scattergeo\"}],\"scattergl\":[{\"marker\":{\"colorbar\":{\"outlinewidth\":0,\"ticks\":\"\"}},\"type\":\"scattergl\"}],\"scattermapbox\":[{\"marker\":{\"colorbar\":{\"outlinewidth\":0,\"ticks\":\"\"}},\"type\":\"scattermapbox\"}],\"scatterpolargl\":[{\"marker\":{\"colorbar\":{\"outlinewidth\":0,\"ticks\":\"\"}},\"type\":\"scatterpolargl\"}],\"scatterpolar\":[{\"marker\":{\"colorbar\":{\"outlinewidth\":0,\"ticks\":\"\"}},\"type\":\"scatterpolar\"}],\"scatter\":[{\"marker\":{\"colorbar\":{\"outlinewidth\":0,\"ticks\":\"\"}},\"type\":\"scatter\"}],\"scatterternary\":[{\"marker\":{\"colorbar\":{\"outlinewidth\":0,\"ticks\":\"\"}},\"type\":\"scatterternary\"}],\"surface\":[{\"colorbar\":{\"outlinewidth\":0,\"ticks\":\"\"},\"colorscale\":[[0.0,\"#0d0887\"],[0.1111111111111111,\"#46039f\"],[0.2222222222222222,\"#7201a8\"],[0.3333333333333333,\"#9c179e\"],[0.4444444444444444,\"#bd3786\"],[0.5555555555555556,\"#d8576b\"],[0.6666666666666666,\"#ed7953\"],[0.7777777777777778,\"#fb9f3a\"],[0.8888888888888888,\"#fdca26\"],[1.0,\"#f0f921\"]],\"type\":\"surface\"}],\"table\":[{\"cells\":{\"fill\":{\"color\":\"#EBF0F8\"},\"line\":{\"color\":\"white\"}},\"header\":{\"fill\":{\"color\":\"#C8D4E3\"},\"line\":{\"color\":\"white\"}},\"type\":\"table\"}]},\"layout\":{\"annotationdefaults\":{\"arrowcolor\":\"#2a3f5f\",\"arrowhead\":0,\"arrowwidth\":1},\"autotypenumbers\":\"strict\",\"coloraxis\":{\"colorbar\":{\"outlinewidth\":0,\"ticks\":\"\"}},\"colorscale\":{\"diverging\":[[0,\"#8e0152\"],[0.1,\"#c51b7d\"],[0.2,\"#de77ae\"],[0.3,\"#f1b6da\"],[0.4,\"#fde0ef\"],[0.5,\"#f7f7f7\"],[0.6,\"#e6f5d0\"],[0.7,\"#b8e186\"],[0.8,\"#7fbc41\"],[0.9,\"#4d9221\"],[1,\"#276419\"]],\"sequential\":[[0.0,\"#0d0887\"],[0.1111111111111111,\"#46039f\"],[0.2222222222222222,\"#7201a8\"],[0.3333333333333333,\"#9c179e\"],[0.4444444444444444,\"#bd3786\"],[0.5555555555555556,\"#d8576b\"],[0.6666666666666666,\"#ed7953\"],[0.7777777777777778,\"#fb9f3a\"],[0.8888888888888888,\"#fdca26\"],[1.0,\"#f0f921\"]],\"sequentialminus\":[[0.0,\"#0d0887\"],[0.1111111111111111,\"#46039f\"],[0.2222222222222222,\"#7201a8\"],[0.3333333333333333,\"#9c179e\"],[0.4444444444444444,\"#bd3786\"],[0.5555555555555556,\"#d8576b\"],[0.6666666666666666,\"#ed7953\"],[0.7777777777777778,\"#fb9f3a\"],[0.8888888888888888,\"#fdca26\"],[1.0,\"#f0f921\"]]},\"colorway\":[\"#636efa\",\"#EF553B\",\"#00cc96\",\"#ab63fa\",\"#FFA15A\",\"#19d3f3\",\"#FF6692\",\"#B6E880\",\"#FF97FF\",\"#FECB52\"],\"font\":{\"color\":\"#2a3f5f\"},\"geo\":{\"bgcolor\":\"white\",\"lakecolor\":\"white\",\"landcolor\":\"white\",\"showlakes\":true,\"showland\":true,\"subunitcolor\":\"#C8D4E3\"},\"hoverlabel\":{\"align\":\"left\"},\"hovermode\":\"closest\",\"mapbox\":{\"style\":\"light\"},\"paper_bgcolor\":\"white\",\"plot_bgcolor\":\"white\",\"polar\":{\"angularaxis\":{\"gridcolor\":\"#EBF0F8\",\"linecolor\":\"#EBF0F8\",\"ticks\":\"\"},\"bgcolor\":\"white\",\"radialaxis\":{\"gridcolor\":\"#EBF0F8\",\"linecolor\":\"#EBF0F8\",\"ticks\":\"\"}},\"scene\":{\"xaxis\":{\"backgroundcolor\":\"white\",\"gridcolor\":\"#DFE8F3\",\"gridwidth\":2,\"linecolor\":\"#EBF0F8\",\"showbackground\":true,\"ticks\":\"\",\"zerolinecolor\":\"#EBF0F8\"},\"yaxis\":{\"backgroundcolor\":\"white\",\"gridcolor\":\"#DFE8F3\",\"gridwidth\":2,\"linecolor\":\"#EBF0F8\",\"showbackground\":true,\"ticks\":\"\",\"zerolinecolor\":\"#EBF0F8\"},\"zaxis\":{\"backgroundcolor\":\"white\",\"gridcolor\":\"#DFE8F3\",\"gridwidth\":2,\"linecolor\":\"#EBF0F8\",\"showbackground\":true,\"ticks\":\"\",\"zerolinecolor\":\"#EBF0F8\"}},\"shapedefaults\":{\"line\":{\"color\":\"#2a3f5f\"}},\"ternary\":{\"aaxis\":{\"gridcolor\":\"#DFE8F3\",\"linecolor\":\"#A2B1C6\",\"ticks\":\"\"},\"baxis\":{\"gridcolor\":\"#DFE8F3\",\"linecolor\":\"#A2B1C6\",\"ticks\":\"\"},\"bgcolor\":\"white\",\"caxis\":{\"gridcolor\":\"#DFE8F3\",\"linecolor\":\"#A2B1C6\",\"ticks\":\"\"}},\"title\":{\"x\":0.05},\"xaxis\":{\"automargin\":true,\"gridcolor\":\"#EBF0F8\",\"linecolor\":\"#EBF0F8\",\"ticks\":\"\",\"title\":{\"standoff\":15},\"zerolinecolor\":\"#EBF0F8\",\"zerolinewidth\":2},\"yaxis\":{\"automargin\":true,\"gridcolor\":\"#EBF0F8\",\"linecolor\":\"#EBF0F8\",\"ticks\":\"\",\"title\":{\"standoff\":15},\"zerolinecolor\":\"#EBF0F8\",\"zerolinewidth\":2}}},\"xaxis\":{\"anchor\":\"y\",\"domain\":[0.0,1.0],\"title\":{\"text\":\"Minuten\"}},\"yaxis\":{\"anchor\":\"x\",\"domain\":[0.0,1.0],\"title\":{\"text\":\"Anzahl BEVs\"}},\"legend\":{\"tracegroupgap\":0},\"margin\":{\"t\":60},\"title\":{\"font\":{\"size\":24},\"text\":\"Anzahl wartender und ladender BEVs im Tagesverlauf\",\"x\":0.5,\"xanchor\":\"center\"}},                        {\"responsive\": true}                    ).then(function(){\n",
       "                            \n",
       "var gd = document.getElementById('64dad4a5-ea7f-4dd0-bee1-9b5e2b68ae25');\n",
       "var x = new MutationObserver(function (mutations, observer) {{\n",
       "        var display = window.getComputedStyle(gd).display;\n",
       "        if (!display || display === 'none') {{\n",
       "            console.log([gd, 'removed!']);\n",
       "            Plotly.purge(gd);\n",
       "            observer.disconnect();\n",
       "        }}\n",
       "}});\n",
       "\n",
       "// Listen for the removal of the full notebook cells\n",
       "var notebookContainer = gd.closest('#notebook-container');\n",
       "if (notebookContainer) {{\n",
       "    x.observe(notebookContainer, {childList: true});\n",
       "}}\n",
       "\n",
       "// Listen for the clearing of the current output cell\n",
       "var outputEl = gd.closest('.output');\n",
       "if (outputEl) {{\n",
       "    x.observe(outputEl, {childList: true});\n",
       "}}\n",
       "\n",
       "                        })                };                });            </script>        </div>"
      ]
     },
     "metadata": {},
     "output_type": "display_data"
    }
   ],
   "source": [
    "import figureGeneration\n",
    "\n",
    "figureGeneration.create_bev_number_figure(simulation_data)"
   ]
  },
  {
   "cell_type": "code",
   "execution_count": 7,
   "metadata": {
    "pycharm": {
     "is_executing": true
    }
   },
   "outputs": [
    {
     "name": "stdout",
     "output_type": "stream",
     "text": [
      "{0: {480: 0.62, 495: 5.87, 510: 5.56, 525: 8.19, 540: 7.666666666666667, 555: 10.333333333333334, 560.1145161290323: 9.91}, 14: {510: 5.56, 525: 8.19, 540: 7.666666666666667, 555: 10.333333333333334, 563.3370967741936: 10.483333333333333}, 16: {540: 7.666666666666667, 555: 10.333333333333334, 570: 9.75, 580.8923076923077: 10.2025}, 17: {560.1145161290323: 10.333333333333334, 570: 9.75, 585: 9.4, 596.6329787234042: 9.84}, 35: {570: 9.75, 585: 9.4, 600: 10.176, 613.2959905660377: 10.156}, 39: {570: 9.75, 585: 9.4, 600: 10.176, 615: 10.123999999999999, 624.606874753062: 10.118}, 44: {580.8923076923077: 9.75, 585: 9.4, 600: 10.176, 615: 10.123999999999999, 619.1989332279732: 10.136}, 1: {585: 9.4, 600: 10.176, 615: 10.123999999999999, 630: 10.076, 631.190948789202: 10.096}, 5: {596.6329787234042: 9.4, 600: 10.176, 615: 10.123999999999999, 630: 10.076, 645: 10.024, 645.6195131683958: 10.048}, 7: {613.2959905660377: 10.176, 615: 10.123999999999999, 630: 10.076, 645: 10.024, 645.0359138068635: 10.05}, 11: {624.606874753062: 10.123999999999999, 630: 10.076, 645: 10.024, 660: 10.123999999999999, 663.6892532595812: 10.062000000000001}, 13: {630: 10.076, 645: 10.024, 660: 10.123999999999999, 675: 10.376000000000001, 681.1526599845798: 10.352}, 23: {631.190948789202: 10.076, 645: 10.024, 660: 10.123999999999999, 668.904583168708: 10.148}, 26: {645.6195131683958: 10.024, 660: 10.123999999999999, 675: 10.376000000000001, 690: 10.623999999999999, 693.035579819277: 10.55}, 27: {660: 10.123999999999999, 675: 10.376000000000001, 688.9735929067078: 10.482}, 34: {663.6892532595812: 10.123999999999999, 675: 10.376000000000001, 690: 10.623999999999999, 694.758094879518: 10.58}, 38: {675: 10.376000000000001, 690: 10.623999999999999, 705: 10.876000000000001, 707.64803236484: 10.794}, 41: {681.1526599845798: 10.376000000000001, 690: 10.623999999999999, 702: 10.7}, 42: {690: 10.623999999999999, 705: 10.876000000000001, 720: 10.524, 728.1812998859749: 10.482}, 49: {693.035579819277: 10.623999999999999, 705: 10.876000000000001, 720: 10.524, 735: 9.576, 740.6484962406014: 9.692}, 8: {705: 10.876000000000001, 720: 10.524, 735: 9.576, 750: 8.623999999999999, 751.1723098330241: 9.026}, 20: {705: 10.876000000000001, 720: 10.524, 735: 9.576, 750: 8.623999999999999, 754.6161873840446: 8.808}, 21: {707.64803236484: 10.876000000000001, 720: 10.524, 735: 9.576, 750: 8.623999999999999, 754.511827458256: 8.814}, 15: {730.6374800981685: 8.77, 735: 9.576, 750: 8.623999999999999, 765: 12.793333333333335, 780: 12.25, 781.6359755478317: 12.053333333333333}, 2: {735.0123617603008: 7.98, 750: 8.623999999999999, 765: 12.793333333333335, 778.5686800558: 12.15}, 33: {751.1723098330241: 8.623999999999999, 765: 12.793333333333335, 780: 12.25, 794.7020408163265: 12.49}, 40: {767.8856112458416: 9.595, 780: 12.25, 785.1561175431714: 12.173333333333334}, 43: {780.2775510204082: 7.35, 795.8666666666667: 18.795, 795: 19.125}, 48: {785.5836734693877: 7.35, 800.9647058823529: 19.05, 795: 19.125}, 29: {795.1487179487182: 7.65, 810: 13.25, 814.9651088534109: 13.166666666666666}, 36: {795.8666666666667: 7.65, 814.4528301886793: 13.15, 810: 13.25}, 37: {800.9647058823529: 7.65, 815.7509433962264: 13.193333333333333, 810: 13.25}, 31: {814.4528301886793: 7.95, 832.2327272727273: 20.61, 825: 20.625}, 32: {815.7509433962264: 7.95, 833.4836363636364: 20.675, 825: 20.625}, 25: {832.2327272727273: 10.3125, 840: 19.5, 847.5: 19.5}, 28: {833.4836363636364: 10.3125, 847.8307692307693: 19.435, 840: 19.5}, 22: {847.8307692307693: 9.75, 861.6954545454546: 16.66, 855: 16.5}, 24: {841.2461538461539: 9.75, 859.1181818181818: 17.175, 855: 16.5}, 12: {861.6954545454546: 8.25, 870: 13.5, 881.6916666666667: 12.66}, 19: {859.1181818181818: 8.25, 872.65: 14.47, 870: 13.5}, 9: {870.3223538704582: 6.75, 885: 10.5, 897.1215132024374: 9.575}, 10: {872.65: 6.75, 895.9714285714285: 9.805, 885: 10.5}, 3: {895.9714285714285: 7.0, 900: 16.88, 915: 7.31, 930: 6.19, 945: 5.06, 952.7667984189723: 5.04}, 6: {904.9763033175356: 8.44, 923.0642954856361: 7.27, 915: 7.31}, 4: {923.0642954856361: 4.873333333333333, 930: 6.19, 945: 5.06, 948.3399209486165: 5.375}, 47: {952.7667984189723: 5.06, 960: 7.88}}\n",
      "{0: OrderedDict([(480, 0.62), (495, 5.87), (510, 5.56), (525, 8.19), (540, 7.666666666666667), (555, 10.333333333333334), (560.1145161290323, 9.91)]), 14: OrderedDict([(510, 11.12), (525, 16.38), (540, 15.333333333333334), (555, 20.666666666666668), (563.3370967741936, 10.483333333333333)]), 16: OrderedDict([(540, 23.0), (555, 31.0), (570, 9.75), (580.8923076923077, 10.2025)]), 17: OrderedDict([(560.1145161290323, 20.243333333333332), (570, 19.5), (585, 9.4), (596.6329787234042, 9.84)]), 35: OrderedDict([(570, 29.25), (585, 18.8), (600, 10.176), (613.2959905660377, 10.156)]), 39: OrderedDict([(570, 39.0), (585, 28.200000000000003), (600, 20.352), (615, 10.123999999999999), (624.606874753062, 10.118)]), 44: OrderedDict([(580.8923076923077, 19.9525), (585, 37.6), (600, 30.528), (615, 20.247999999999998), (619.1989332279732, 10.136)]), 1: OrderedDict([(585, 47.0), (600, 40.704), (615, 30.371999999999996), (630, 10.076), (631.190948789202, 10.096)]), 5: OrderedDict([(596.6329787234042, 19.240000000000002), (600, 50.88), (615, 40.495999999999995), (630, 20.152), (645, 10.024), (645.6195131683958, 10.048)]), 7: OrderedDict([(613.2959905660377, 20.332), (615, 50.61999999999999), (630, 30.228), (645, 20.048), (645.0359138068635, 10.05)]), 11: OrderedDict([(624.606874753062, 20.241999999999997), (630, 40.304), (645, 30.071999999999996), (660, 10.123999999999999), (663.6892532595812, 10.062000000000001)]), 13: OrderedDict([(630, 50.38), (645, 40.096), (660, 20.247999999999998), (675, 10.376000000000001), (681.1526599845798, 10.352)]), 23: OrderedDict([(631.190948789202, 20.172), (645, 50.12), (660, 30.371999999999996), (668.904583168708, 10.148)]), 26: OrderedDict([(645.6195131683958, 20.072), (660, 40.495999999999995), (675, 20.752000000000002), (690, 10.623999999999999), (693.035579819277, 10.55)]), 27: OrderedDict([(660, 50.61999999999999), (675, 31.128000000000004), (688.9735929067078, 10.482)]), 34: OrderedDict([(663.6892532595812, 20.186), (675, 41.504000000000005), (690, 21.247999999999998), (694.758094879518, 10.58)]), 38: OrderedDict([(675, 51.88000000000001), (690, 31.871999999999996), (705, 10.876000000000001), (707.64803236484, 10.794)]), 41: OrderedDict([(681.1526599845798, 20.728), (690, 42.495999999999995), (702, 10.7)]), 42: OrderedDict([(690, 53.11999999999999), (705, 21.752000000000002), (720, 10.524), (728.1812998859749, 10.482)]), 49: OrderedDict([(693.035579819277, 21.174), (705, 32.628), (720, 21.048), (735, 9.576), (740.6484962406014, 9.692)]), 8: OrderedDict([(705, 43.504000000000005), (720, 31.571999999999996), (735, 19.152), (750, 8.623999999999999), (751.1723098330241, 9.026)]), 20: OrderedDict([(705, 54.38000000000001), (720, 42.096), (735, 28.728), (750, 17.247999999999998), (754.6161873840446, 8.808)]), 21: OrderedDict([(707.64803236484, 21.67), (720, 52.62), (735, 38.304), (750, 25.871999999999996), (754.511827458256, 8.814)]), 15: OrderedDict([(730.6374800981685, 8.77), (735, 47.88), (750, 34.495999999999995), (765, 12.793333333333335), (780, 12.25), (781.6359755478317, 12.053333333333333)]), 2: OrderedDict([(735.0123617603008, 7.98), (750, 43.11999999999999), (765, 25.58666666666667), (778.5686800558, 12.15)]), 33: OrderedDict([(751.1723098330241, 17.65), (765, 38.38), (780, 24.5), (794.7020408163265, 12.49)]), 40: OrderedDict([(767.8856112458416, 9.595), (780, 36.75), (785.1561175431714, 12.173333333333334)]), 43: OrderedDict([(780.2775510204082, 7.35), (795, 19.125), (795.8666666666667, 18.795)]), 48: OrderedDict([(785.5836734693877, 7.35), (795, 38.25), (800.9647058823529, 19.05)]), 29: OrderedDict([(795.1487179487182, 7.65), (810, 13.25), (814.9651088534109, 13.166666666666666)]), 36: OrderedDict([(795.8666666666667, 26.445), (810, 26.5), (814.4528301886793, 13.15)]), 37: OrderedDict([(800.9647058823529, 26.700000000000003), (810, 39.75), (815.7509433962264, 13.193333333333333)]), 31: OrderedDict([(814.4528301886793, 21.1), (825, 20.625), (832.2327272727273, 20.61)]), 32: OrderedDict([(815.7509433962264, 21.143333333333334), (825, 41.25), (833.4836363636364, 20.675)]), 25: OrderedDict([(832.2327272727273, 30.9225), (840, 19.5), (847.5, 19.5)]), 28: OrderedDict([(833.4836363636364, 30.9875), (840, 39.0), (847.8307692307693, 19.435)]), 22: OrderedDict([(847.8307692307693, 29.185), (855, 16.5), (861.6954545454546, 16.66)]), 24: OrderedDict([(841.2461538461539, 9.75), (855, 33.0), (859.1181818181818, 17.175)]), 12: OrderedDict([(861.6954545454546, 24.91), (870, 13.5), (881.6916666666667, 12.66)]), 19: OrderedDict([(859.1181818181818, 25.425), (870, 27.0), (872.65, 14.47)]), 9: OrderedDict([(870.3223538704582, 6.75), (885, 10.5), (897.1215132024374, 9.575)]), 10: OrderedDict([(872.65, 21.22), (885, 21.0), (895.9714285714285, 9.805)]), 3: OrderedDict([(895.9714285714285, 16.805), (900, 16.88), (915, 7.31), (930, 6.19), (945, 5.06), (952.7667984189723, 5.04)]), 6: OrderedDict([(904.9763033175356, 8.44), (915, 14.62), (923.0642954856361, 7.27)]), 4: OrderedDict([(923.0642954856361, 12.143333333333333), (930, 12.38), (945, 10.12), (948.3399209486165, 5.375)]), 47: OrderedDict([(952.7667984189723, 10.1), (960, 7.88)])}\n"
     ]
    },
    {
     "data": {
      "application/vnd.plotly.v1+json": {
       "config": {
        "plotlyServerURL": "https://plot.ly"
       },
       "data": [
        {
         "line": {
          "color": "orange"
         },
         "name": "Verfügbare Solarleistung",
         "type": "scatter",
         "x": [
          480,
          495,
          510,
          525,
          540,
          555,
          570,
          585,
          600,
          615,
          630,
          645,
          660,
          675,
          690,
          705,
          720,
          735,
          750,
          765,
          780,
          795,
          810,
          825,
          840,
          855,
          870,
          885,
          900,
          915,
          930,
          945,
          960
         ],
         "y": [
          -2,
          3.25,
          8.5,
          13.749999999999998,
          19,
          27,
          35,
          43,
          51,
          50.75,
          50.5,
          50.25,
          50,
          51.25,
          52.5,
          53.75,
          55,
          50.25,
          45.5,
          40.75,
          36,
          37.5,
          39,
          40.5,
          42,
          36,
          30,
          24,
          18,
          15.75,
          13.5,
          11.25,
          9
         ]
        },
        {
         "line": {
          "color": "green"
         },
         "mode": "lines",
         "name": "ID BEV 0",
         "type": "scatter",
         "x": [
          480,
          480,
          495,
          510,
          525,
          540,
          555,
          560.1145161290323,
          560.1145161290323
         ],
         "y": [
          0,
          0.62,
          5.87,
          5.56,
          8.19,
          7.666666666666667,
          10.333333333333334,
          9.91,
          0
         ]
        },
        {
         "line": {
          "color": "green"
         },
         "mode": "lines",
         "name": "ID BEV 14",
         "type": "scatter",
         "x": [
          510,
          510,
          525,
          540,
          555,
          563.3370967741936,
          563.3370967741936
         ],
         "y": [
          0,
          11.12,
          16.38,
          15.333333333333334,
          20.666666666666668,
          10.483333333333333,
          0
         ]
        },
        {
         "line": {
          "color": "green"
         },
         "mode": "lines",
         "name": "ID BEV 16",
         "type": "scatter",
         "x": [
          540,
          540,
          555,
          570,
          580.8923076923077,
          580.8923076923077
         ],
         "y": [
          0,
          23,
          31,
          9.75,
          10.2025,
          0
         ]
        },
        {
         "line": {
          "color": "green"
         },
         "mode": "lines",
         "name": "ID BEV 17",
         "type": "scatter",
         "x": [
          560.1145161290323,
          560.1145161290323,
          570,
          585,
          596.6329787234042,
          596.6329787234042
         ],
         "y": [
          0,
          20.243333333333332,
          19.5,
          9.4,
          9.84,
          0
         ]
        },
        {
         "line": {
          "color": "green"
         },
         "mode": "lines",
         "name": "ID BEV 35",
         "type": "scatter",
         "x": [
          570,
          570,
          585,
          600,
          613.2959905660377,
          613.2959905660377
         ],
         "y": [
          0,
          29.25,
          18.8,
          10.176,
          10.156,
          0
         ]
        },
        {
         "line": {
          "color": "green"
         },
         "mode": "lines",
         "name": "ID BEV 39",
         "type": "scatter",
         "x": [
          570,
          570,
          585,
          600,
          615,
          624.606874753062,
          624.606874753062
         ],
         "y": [
          0,
          39,
          28.200000000000003,
          20.352,
          10.123999999999999,
          10.118,
          0
         ]
        },
        {
         "line": {
          "color": "green"
         },
         "mode": "lines",
         "name": "ID BEV 44",
         "type": "scatter",
         "x": [
          580.8923076923077,
          580.8923076923077,
          585,
          600,
          615,
          619.1989332279732,
          619.1989332279732
         ],
         "y": [
          0,
          19.9525,
          37.6,
          30.528,
          20.247999999999998,
          10.136,
          0
         ]
        },
        {
         "line": {
          "color": "green"
         },
         "mode": "lines",
         "name": "ID BEV 1",
         "type": "scatter",
         "x": [
          585,
          585,
          600,
          615,
          630,
          631.190948789202,
          631.190948789202
         ],
         "y": [
          0,
          47,
          40.704,
          30.371999999999996,
          10.076,
          10.096,
          0
         ]
        },
        {
         "line": {
          "color": "green"
         },
         "mode": "lines",
         "name": "ID BEV 5",
         "type": "scatter",
         "x": [
          596.6329787234042,
          596.6329787234042,
          600,
          615,
          630,
          645,
          645.6195131683958,
          645.6195131683958
         ],
         "y": [
          0,
          19.240000000000002,
          50.88,
          40.495999999999995,
          20.152,
          10.024,
          10.048,
          0
         ]
        },
        {
         "line": {
          "color": "green"
         },
         "mode": "lines",
         "name": "ID BEV 7",
         "type": "scatter",
         "x": [
          613.2959905660377,
          613.2959905660377,
          615,
          630,
          645,
          645.0359138068635,
          645.0359138068635
         ],
         "y": [
          0,
          20.332,
          50.61999999999999,
          30.228,
          20.048,
          10.05,
          0
         ]
        },
        {
         "line": {
          "color": "green"
         },
         "mode": "lines",
         "name": "ID BEV 11",
         "type": "scatter",
         "x": [
          624.606874753062,
          624.606874753062,
          630,
          645,
          660,
          663.6892532595812,
          663.6892532595812
         ],
         "y": [
          0,
          20.241999999999997,
          40.304,
          30.071999999999996,
          10.123999999999999,
          10.062000000000001,
          0
         ]
        },
        {
         "line": {
          "color": "green"
         },
         "mode": "lines",
         "name": "ID BEV 13",
         "type": "scatter",
         "x": [
          630,
          630,
          645,
          660,
          675,
          681.1526599845798,
          681.1526599845798
         ],
         "y": [
          0,
          50.38,
          40.096,
          20.247999999999998,
          10.376000000000001,
          10.352,
          0
         ]
        },
        {
         "line": {
          "color": "green"
         },
         "mode": "lines",
         "name": "ID BEV 23",
         "type": "scatter",
         "x": [
          631.190948789202,
          631.190948789202,
          645,
          660,
          668.904583168708,
          668.904583168708
         ],
         "y": [
          0,
          20.172,
          50.12,
          30.371999999999996,
          10.148,
          0
         ]
        },
        {
         "line": {
          "color": "green"
         },
         "mode": "lines",
         "name": "ID BEV 26",
         "type": "scatter",
         "x": [
          645.6195131683958,
          645.6195131683958,
          660,
          675,
          690,
          693.035579819277,
          693.035579819277
         ],
         "y": [
          0,
          20.072,
          40.495999999999995,
          20.752000000000002,
          10.623999999999999,
          10.55,
          0
         ]
        },
        {
         "line": {
          "color": "green"
         },
         "mode": "lines",
         "name": "ID BEV 27",
         "type": "scatter",
         "x": [
          660,
          660,
          675,
          688.9735929067078,
          688.9735929067078
         ],
         "y": [
          0,
          50.61999999999999,
          31.128000000000004,
          10.482,
          0
         ]
        },
        {
         "line": {
          "color": "green"
         },
         "mode": "lines",
         "name": "ID BEV 34",
         "type": "scatter",
         "x": [
          663.6892532595812,
          663.6892532595812,
          675,
          690,
          694.758094879518,
          694.758094879518
         ],
         "y": [
          0,
          20.186,
          41.504000000000005,
          21.247999999999998,
          10.58,
          0
         ]
        },
        {
         "line": {
          "color": "green"
         },
         "mode": "lines",
         "name": "ID BEV 38",
         "type": "scatter",
         "x": [
          675,
          675,
          690,
          705,
          707.64803236484,
          707.64803236484
         ],
         "y": [
          0,
          51.88000000000001,
          31.871999999999996,
          10.876000000000001,
          10.794,
          0
         ]
        },
        {
         "line": {
          "color": "green"
         },
         "mode": "lines",
         "name": "ID BEV 41",
         "type": "scatter",
         "x": [
          681.1526599845798,
          681.1526599845798,
          690,
          702,
          702
         ],
         "y": [
          0,
          20.728,
          42.495999999999995,
          10.7,
          0
         ]
        },
        {
         "line": {
          "color": "green"
         },
         "mode": "lines",
         "name": "ID BEV 42",
         "type": "scatter",
         "x": [
          690,
          690,
          705,
          720,
          728.1812998859749,
          728.1812998859749
         ],
         "y": [
          0,
          53.11999999999999,
          21.752000000000002,
          10.524,
          10.482,
          0
         ]
        },
        {
         "line": {
          "color": "green"
         },
         "mode": "lines",
         "name": "ID BEV 49",
         "type": "scatter",
         "x": [
          693.035579819277,
          693.035579819277,
          705,
          720,
          735,
          740.6484962406014,
          740.6484962406014
         ],
         "y": [
          0,
          21.174,
          32.628,
          21.048,
          9.576,
          9.692,
          0
         ]
        },
        {
         "line": {
          "color": "green"
         },
         "mode": "lines",
         "name": "ID BEV 8",
         "type": "scatter",
         "x": [
          705,
          705,
          720,
          735,
          750,
          751.1723098330241,
          751.1723098330241
         ],
         "y": [
          0,
          43.504000000000005,
          31.571999999999996,
          19.152,
          8.623999999999999,
          9.026,
          0
         ]
        },
        {
         "line": {
          "color": "green"
         },
         "mode": "lines",
         "name": "ID BEV 20",
         "type": "scatter",
         "x": [
          705,
          705,
          720,
          735,
          750,
          754.6161873840446,
          754.6161873840446
         ],
         "y": [
          0,
          54.38000000000001,
          42.096,
          28.728,
          17.247999999999998,
          8.808,
          0
         ]
        },
        {
         "line": {
          "color": "green"
         },
         "mode": "lines",
         "name": "ID BEV 21",
         "type": "scatter",
         "x": [
          707.64803236484,
          707.64803236484,
          720,
          735,
          750,
          754.511827458256,
          754.511827458256
         ],
         "y": [
          0,
          21.67,
          52.62,
          38.304,
          25.871999999999996,
          8.814,
          0
         ]
        },
        {
         "line": {
          "color": "green"
         },
         "mode": "lines",
         "name": "ID BEV 15",
         "type": "scatter",
         "x": [
          730.6374800981685,
          730.6374800981685,
          735,
          750,
          765,
          780,
          781.6359755478317,
          781.6359755478317
         ],
         "y": [
          0,
          8.77,
          47.88,
          34.495999999999995,
          12.793333333333335,
          12.25,
          12.053333333333333,
          0
         ]
        },
        {
         "line": {
          "color": "green"
         },
         "mode": "lines",
         "name": "ID BEV 2",
         "type": "scatter",
         "x": [
          735.0123617603008,
          735.0123617603008,
          750,
          765,
          778.5686800558,
          778.5686800558
         ],
         "y": [
          0,
          7.98,
          43.11999999999999,
          25.58666666666667,
          12.15,
          0
         ]
        },
        {
         "line": {
          "color": "green"
         },
         "mode": "lines",
         "name": "ID BEV 33",
         "type": "scatter",
         "x": [
          751.1723098330241,
          751.1723098330241,
          765,
          780,
          794.7020408163265,
          794.7020408163265
         ],
         "y": [
          0,
          17.65,
          38.38,
          24.5,
          12.49,
          0
         ]
        },
        {
         "line": {
          "color": "green"
         },
         "mode": "lines",
         "name": "ID BEV 40",
         "type": "scatter",
         "x": [
          767.8856112458416,
          767.8856112458416,
          780,
          785.1561175431714,
          785.1561175431714
         ],
         "y": [
          0,
          9.595,
          36.75,
          12.173333333333334,
          0
         ]
        },
        {
         "line": {
          "color": "green"
         },
         "mode": "lines",
         "name": "ID BEV 43",
         "type": "scatter",
         "x": [
          780.2775510204082,
          780.2775510204082,
          795,
          795.8666666666667,
          795.8666666666667
         ],
         "y": [
          0,
          7.35,
          19.125,
          18.795,
          0
         ]
        },
        {
         "line": {
          "color": "green"
         },
         "mode": "lines",
         "name": "ID BEV 48",
         "type": "scatter",
         "x": [
          785.5836734693877,
          785.5836734693877,
          795,
          800.9647058823529,
          800.9647058823529
         ],
         "y": [
          0,
          7.35,
          38.25,
          19.05,
          0
         ]
        },
        {
         "line": {
          "color": "green"
         },
         "mode": "lines",
         "name": "ID BEV 29",
         "type": "scatter",
         "x": [
          795.1487179487182,
          795.1487179487182,
          810,
          814.9651088534109,
          814.9651088534109
         ],
         "y": [
          0,
          7.65,
          13.25,
          13.166666666666666,
          0
         ]
        },
        {
         "line": {
          "color": "green"
         },
         "mode": "lines",
         "name": "ID BEV 36",
         "type": "scatter",
         "x": [
          795.8666666666667,
          795.8666666666667,
          810,
          814.4528301886793,
          814.4528301886793
         ],
         "y": [
          0,
          26.445,
          26.5,
          13.15,
          0
         ]
        },
        {
         "line": {
          "color": "green"
         },
         "mode": "lines",
         "name": "ID BEV 37",
         "type": "scatter",
         "x": [
          800.9647058823529,
          800.9647058823529,
          810,
          815.7509433962264,
          815.7509433962264
         ],
         "y": [
          0,
          26.700000000000003,
          39.75,
          13.193333333333333,
          0
         ]
        },
        {
         "line": {
          "color": "green"
         },
         "mode": "lines",
         "name": "ID BEV 31",
         "type": "scatter",
         "x": [
          814.4528301886793,
          814.4528301886793,
          825,
          832.2327272727273,
          832.2327272727273
         ],
         "y": [
          0,
          21.1,
          20.625,
          20.61,
          0
         ]
        },
        {
         "line": {
          "color": "green"
         },
         "mode": "lines",
         "name": "ID BEV 32",
         "type": "scatter",
         "x": [
          815.7509433962264,
          815.7509433962264,
          825,
          833.4836363636364,
          833.4836363636364
         ],
         "y": [
          0,
          21.143333333333334,
          41.25,
          20.675,
          0
         ]
        },
        {
         "line": {
          "color": "green"
         },
         "mode": "lines",
         "name": "ID BEV 25",
         "type": "scatter",
         "x": [
          832.2327272727273,
          832.2327272727273,
          840,
          847.5,
          847.5
         ],
         "y": [
          0,
          30.9225,
          19.5,
          19.5,
          0
         ]
        },
        {
         "line": {
          "color": "green"
         },
         "mode": "lines",
         "name": "ID BEV 28",
         "type": "scatter",
         "x": [
          833.4836363636364,
          833.4836363636364,
          840,
          847.8307692307693,
          847.8307692307693
         ],
         "y": [
          0,
          30.9875,
          39,
          19.435,
          0
         ]
        },
        {
         "line": {
          "color": "green"
         },
         "mode": "lines",
         "name": "ID BEV 22",
         "type": "scatter",
         "x": [
          847.8307692307693,
          847.8307692307693,
          855,
          861.6954545454546,
          861.6954545454546
         ],
         "y": [
          0,
          29.185,
          16.5,
          16.66,
          0
         ]
        },
        {
         "line": {
          "color": "green"
         },
         "mode": "lines",
         "name": "ID BEV 24",
         "type": "scatter",
         "x": [
          841.2461538461539,
          841.2461538461539,
          855,
          859.1181818181818,
          859.1181818181818
         ],
         "y": [
          0,
          9.75,
          33,
          17.175,
          0
         ]
        },
        {
         "line": {
          "color": "green"
         },
         "mode": "lines",
         "name": "ID BEV 12",
         "type": "scatter",
         "x": [
          861.6954545454546,
          861.6954545454546,
          870,
          881.6916666666667,
          881.6916666666667
         ],
         "y": [
          0,
          24.91,
          13.5,
          12.66,
          0
         ]
        },
        {
         "line": {
          "color": "green"
         },
         "mode": "lines",
         "name": "ID BEV 19",
         "type": "scatter",
         "x": [
          859.1181818181818,
          859.1181818181818,
          870,
          872.65,
          872.65
         ],
         "y": [
          0,
          25.425,
          27,
          14.47,
          0
         ]
        },
        {
         "line": {
          "color": "green"
         },
         "mode": "lines",
         "name": "ID BEV 9",
         "type": "scatter",
         "x": [
          870.3223538704582,
          870.3223538704582,
          885,
          897.1215132024374,
          897.1215132024374
         ],
         "y": [
          0,
          6.75,
          10.5,
          9.575,
          0
         ]
        },
        {
         "line": {
          "color": "green"
         },
         "mode": "lines",
         "name": "ID BEV 10",
         "type": "scatter",
         "x": [
          872.65,
          872.65,
          885,
          895.9714285714285,
          895.9714285714285
         ],
         "y": [
          0,
          21.22,
          21,
          9.805,
          0
         ]
        },
        {
         "line": {
          "color": "green"
         },
         "mode": "lines",
         "name": "ID BEV 3",
         "type": "scatter",
         "x": [
          895.9714285714285,
          895.9714285714285,
          900,
          915,
          930,
          945,
          952.7667984189723,
          952.7667984189723
         ],
         "y": [
          0,
          16.805,
          16.88,
          7.31,
          6.19,
          5.06,
          5.04,
          0
         ]
        },
        {
         "line": {
          "color": "green"
         },
         "mode": "lines",
         "name": "ID BEV 6",
         "type": "scatter",
         "x": [
          904.9763033175356,
          904.9763033175356,
          915,
          923.0642954856361,
          923.0642954856361
         ],
         "y": [
          0,
          8.44,
          14.62,
          7.27,
          0
         ]
        },
        {
         "line": {
          "color": "green"
         },
         "mode": "lines",
         "name": "ID BEV 4",
         "type": "scatter",
         "x": [
          923.0642954856361,
          923.0642954856361,
          930,
          945,
          948.3399209486165,
          948.3399209486165
         ],
         "y": [
          0,
          12.143333333333333,
          12.38,
          10.12,
          5.375,
          0
         ]
        },
        {
         "line": {
          "color": "green"
         },
         "mode": "lines",
         "name": "ID BEV 47",
         "type": "scatter",
         "x": [
          952.7667984189723,
          952.7667984189723,
          960,
          960
         ],
         "y": [
          0,
          10.1,
          7.88,
          0
         ]
        }
       ],
       "layout": {
        "template": {
         "data": {
          "bar": [
           {
            "error_x": {
             "color": "#2a3f5f"
            },
            "error_y": {
             "color": "#2a3f5f"
            },
            "marker": {
             "line": {
              "color": "white",
              "width": 0.5
             },
             "pattern": {
              "fillmode": "overlay",
              "size": 10,
              "solidity": 0.2
             }
            },
            "type": "bar"
           }
          ],
          "barpolar": [
           {
            "marker": {
             "line": {
              "color": "white",
              "width": 0.5
             },
             "pattern": {
              "fillmode": "overlay",
              "size": 10,
              "solidity": 0.2
             }
            },
            "type": "barpolar"
           }
          ],
          "carpet": [
           {
            "aaxis": {
             "endlinecolor": "#2a3f5f",
             "gridcolor": "#C8D4E3",
             "linecolor": "#C8D4E3",
             "minorgridcolor": "#C8D4E3",
             "startlinecolor": "#2a3f5f"
            },
            "baxis": {
             "endlinecolor": "#2a3f5f",
             "gridcolor": "#C8D4E3",
             "linecolor": "#C8D4E3",
             "minorgridcolor": "#C8D4E3",
             "startlinecolor": "#2a3f5f"
            },
            "type": "carpet"
           }
          ],
          "choropleth": [
           {
            "colorbar": {
             "outlinewidth": 0,
             "ticks": ""
            },
            "type": "choropleth"
           }
          ],
          "contour": [
           {
            "colorbar": {
             "outlinewidth": 0,
             "ticks": ""
            },
            "colorscale": [
             [
              0,
              "#0d0887"
             ],
             [
              0.1111111111111111,
              "#46039f"
             ],
             [
              0.2222222222222222,
              "#7201a8"
             ],
             [
              0.3333333333333333,
              "#9c179e"
             ],
             [
              0.4444444444444444,
              "#bd3786"
             ],
             [
              0.5555555555555556,
              "#d8576b"
             ],
             [
              0.6666666666666666,
              "#ed7953"
             ],
             [
              0.7777777777777778,
              "#fb9f3a"
             ],
             [
              0.8888888888888888,
              "#fdca26"
             ],
             [
              1,
              "#f0f921"
             ]
            ],
            "type": "contour"
           }
          ],
          "contourcarpet": [
           {
            "colorbar": {
             "outlinewidth": 0,
             "ticks": ""
            },
            "type": "contourcarpet"
           }
          ],
          "heatmap": [
           {
            "colorbar": {
             "outlinewidth": 0,
             "ticks": ""
            },
            "colorscale": [
             [
              0,
              "#0d0887"
             ],
             [
              0.1111111111111111,
              "#46039f"
             ],
             [
              0.2222222222222222,
              "#7201a8"
             ],
             [
              0.3333333333333333,
              "#9c179e"
             ],
             [
              0.4444444444444444,
              "#bd3786"
             ],
             [
              0.5555555555555556,
              "#d8576b"
             ],
             [
              0.6666666666666666,
              "#ed7953"
             ],
             [
              0.7777777777777778,
              "#fb9f3a"
             ],
             [
              0.8888888888888888,
              "#fdca26"
             ],
             [
              1,
              "#f0f921"
             ]
            ],
            "type": "heatmap"
           }
          ],
          "heatmapgl": [
           {
            "colorbar": {
             "outlinewidth": 0,
             "ticks": ""
            },
            "colorscale": [
             [
              0,
              "#0d0887"
             ],
             [
              0.1111111111111111,
              "#46039f"
             ],
             [
              0.2222222222222222,
              "#7201a8"
             ],
             [
              0.3333333333333333,
              "#9c179e"
             ],
             [
              0.4444444444444444,
              "#bd3786"
             ],
             [
              0.5555555555555556,
              "#d8576b"
             ],
             [
              0.6666666666666666,
              "#ed7953"
             ],
             [
              0.7777777777777778,
              "#fb9f3a"
             ],
             [
              0.8888888888888888,
              "#fdca26"
             ],
             [
              1,
              "#f0f921"
             ]
            ],
            "type": "heatmapgl"
           }
          ],
          "histogram": [
           {
            "marker": {
             "pattern": {
              "fillmode": "overlay",
              "size": 10,
              "solidity": 0.2
             }
            },
            "type": "histogram"
           }
          ],
          "histogram2d": [
           {
            "colorbar": {
             "outlinewidth": 0,
             "ticks": ""
            },
            "colorscale": [
             [
              0,
              "#0d0887"
             ],
             [
              0.1111111111111111,
              "#46039f"
             ],
             [
              0.2222222222222222,
              "#7201a8"
             ],
             [
              0.3333333333333333,
              "#9c179e"
             ],
             [
              0.4444444444444444,
              "#bd3786"
             ],
             [
              0.5555555555555556,
              "#d8576b"
             ],
             [
              0.6666666666666666,
              "#ed7953"
             ],
             [
              0.7777777777777778,
              "#fb9f3a"
             ],
             [
              0.8888888888888888,
              "#fdca26"
             ],
             [
              1,
              "#f0f921"
             ]
            ],
            "type": "histogram2d"
           }
          ],
          "histogram2dcontour": [
           {
            "colorbar": {
             "outlinewidth": 0,
             "ticks": ""
            },
            "colorscale": [
             [
              0,
              "#0d0887"
             ],
             [
              0.1111111111111111,
              "#46039f"
             ],
             [
              0.2222222222222222,
              "#7201a8"
             ],
             [
              0.3333333333333333,
              "#9c179e"
             ],
             [
              0.4444444444444444,
              "#bd3786"
             ],
             [
              0.5555555555555556,
              "#d8576b"
             ],
             [
              0.6666666666666666,
              "#ed7953"
             ],
             [
              0.7777777777777778,
              "#fb9f3a"
             ],
             [
              0.8888888888888888,
              "#fdca26"
             ],
             [
              1,
              "#f0f921"
             ]
            ],
            "type": "histogram2dcontour"
           }
          ],
          "mesh3d": [
           {
            "colorbar": {
             "outlinewidth": 0,
             "ticks": ""
            },
            "type": "mesh3d"
           }
          ],
          "parcoords": [
           {
            "line": {
             "colorbar": {
              "outlinewidth": 0,
              "ticks": ""
             }
            },
            "type": "parcoords"
           }
          ],
          "pie": [
           {
            "automargin": true,
            "type": "pie"
           }
          ],
          "scatter": [
           {
            "marker": {
             "colorbar": {
              "outlinewidth": 0,
              "ticks": ""
             }
            },
            "type": "scatter"
           }
          ],
          "scatter3d": [
           {
            "line": {
             "colorbar": {
              "outlinewidth": 0,
              "ticks": ""
             }
            },
            "marker": {
             "colorbar": {
              "outlinewidth": 0,
              "ticks": ""
             }
            },
            "type": "scatter3d"
           }
          ],
          "scattercarpet": [
           {
            "marker": {
             "colorbar": {
              "outlinewidth": 0,
              "ticks": ""
             }
            },
            "type": "scattercarpet"
           }
          ],
          "scattergeo": [
           {
            "marker": {
             "colorbar": {
              "outlinewidth": 0,
              "ticks": ""
             }
            },
            "type": "scattergeo"
           }
          ],
          "scattergl": [
           {
            "marker": {
             "colorbar": {
              "outlinewidth": 0,
              "ticks": ""
             }
            },
            "type": "scattergl"
           }
          ],
          "scattermapbox": [
           {
            "marker": {
             "colorbar": {
              "outlinewidth": 0,
              "ticks": ""
             }
            },
            "type": "scattermapbox"
           }
          ],
          "scatterpolar": [
           {
            "marker": {
             "colorbar": {
              "outlinewidth": 0,
              "ticks": ""
             }
            },
            "type": "scatterpolar"
           }
          ],
          "scatterpolargl": [
           {
            "marker": {
             "colorbar": {
              "outlinewidth": 0,
              "ticks": ""
             }
            },
            "type": "scatterpolargl"
           }
          ],
          "scatterternary": [
           {
            "marker": {
             "colorbar": {
              "outlinewidth": 0,
              "ticks": ""
             }
            },
            "type": "scatterternary"
           }
          ],
          "surface": [
           {
            "colorbar": {
             "outlinewidth": 0,
             "ticks": ""
            },
            "colorscale": [
             [
              0,
              "#0d0887"
             ],
             [
              0.1111111111111111,
              "#46039f"
             ],
             [
              0.2222222222222222,
              "#7201a8"
             ],
             [
              0.3333333333333333,
              "#9c179e"
             ],
             [
              0.4444444444444444,
              "#bd3786"
             ],
             [
              0.5555555555555556,
              "#d8576b"
             ],
             [
              0.6666666666666666,
              "#ed7953"
             ],
             [
              0.7777777777777778,
              "#fb9f3a"
             ],
             [
              0.8888888888888888,
              "#fdca26"
             ],
             [
              1,
              "#f0f921"
             ]
            ],
            "type": "surface"
           }
          ],
          "table": [
           {
            "cells": {
             "fill": {
              "color": "#EBF0F8"
             },
             "line": {
              "color": "white"
             }
            },
            "header": {
             "fill": {
              "color": "#C8D4E3"
             },
             "line": {
              "color": "white"
             }
            },
            "type": "table"
           }
          ]
         },
         "layout": {
          "annotationdefaults": {
           "arrowcolor": "#2a3f5f",
           "arrowhead": 0,
           "arrowwidth": 1
          },
          "autotypenumbers": "strict",
          "coloraxis": {
           "colorbar": {
            "outlinewidth": 0,
            "ticks": ""
           }
          },
          "colorscale": {
           "diverging": [
            [
             0,
             "#8e0152"
            ],
            [
             0.1,
             "#c51b7d"
            ],
            [
             0.2,
             "#de77ae"
            ],
            [
             0.3,
             "#f1b6da"
            ],
            [
             0.4,
             "#fde0ef"
            ],
            [
             0.5,
             "#f7f7f7"
            ],
            [
             0.6,
             "#e6f5d0"
            ],
            [
             0.7,
             "#b8e186"
            ],
            [
             0.8,
             "#7fbc41"
            ],
            [
             0.9,
             "#4d9221"
            ],
            [
             1,
             "#276419"
            ]
           ],
           "sequential": [
            [
             0,
             "#0d0887"
            ],
            [
             0.1111111111111111,
             "#46039f"
            ],
            [
             0.2222222222222222,
             "#7201a8"
            ],
            [
             0.3333333333333333,
             "#9c179e"
            ],
            [
             0.4444444444444444,
             "#bd3786"
            ],
            [
             0.5555555555555556,
             "#d8576b"
            ],
            [
             0.6666666666666666,
             "#ed7953"
            ],
            [
             0.7777777777777778,
             "#fb9f3a"
            ],
            [
             0.8888888888888888,
             "#fdca26"
            ],
            [
             1,
             "#f0f921"
            ]
           ],
           "sequentialminus": [
            [
             0,
             "#0d0887"
            ],
            [
             0.1111111111111111,
             "#46039f"
            ],
            [
             0.2222222222222222,
             "#7201a8"
            ],
            [
             0.3333333333333333,
             "#9c179e"
            ],
            [
             0.4444444444444444,
             "#bd3786"
            ],
            [
             0.5555555555555556,
             "#d8576b"
            ],
            [
             0.6666666666666666,
             "#ed7953"
            ],
            [
             0.7777777777777778,
             "#fb9f3a"
            ],
            [
             0.8888888888888888,
             "#fdca26"
            ],
            [
             1,
             "#f0f921"
            ]
           ]
          },
          "colorway": [
           "#636efa",
           "#EF553B",
           "#00cc96",
           "#ab63fa",
           "#FFA15A",
           "#19d3f3",
           "#FF6692",
           "#B6E880",
           "#FF97FF",
           "#FECB52"
          ],
          "font": {
           "color": "#2a3f5f"
          },
          "geo": {
           "bgcolor": "white",
           "lakecolor": "white",
           "landcolor": "white",
           "showlakes": true,
           "showland": true,
           "subunitcolor": "#C8D4E3"
          },
          "hoverlabel": {
           "align": "left"
          },
          "hovermode": "closest",
          "mapbox": {
           "style": "light"
          },
          "paper_bgcolor": "white",
          "plot_bgcolor": "white",
          "polar": {
           "angularaxis": {
            "gridcolor": "#EBF0F8",
            "linecolor": "#EBF0F8",
            "ticks": ""
           },
           "bgcolor": "white",
           "radialaxis": {
            "gridcolor": "#EBF0F8",
            "linecolor": "#EBF0F8",
            "ticks": ""
           }
          },
          "scene": {
           "xaxis": {
            "backgroundcolor": "white",
            "gridcolor": "#DFE8F3",
            "gridwidth": 2,
            "linecolor": "#EBF0F8",
            "showbackground": true,
            "ticks": "",
            "zerolinecolor": "#EBF0F8"
           },
           "yaxis": {
            "backgroundcolor": "white",
            "gridcolor": "#DFE8F3",
            "gridwidth": 2,
            "linecolor": "#EBF0F8",
            "showbackground": true,
            "ticks": "",
            "zerolinecolor": "#EBF0F8"
           },
           "zaxis": {
            "backgroundcolor": "white",
            "gridcolor": "#DFE8F3",
            "gridwidth": 2,
            "linecolor": "#EBF0F8",
            "showbackground": true,
            "ticks": "",
            "zerolinecolor": "#EBF0F8"
           }
          },
          "shapedefaults": {
           "line": {
            "color": "#2a3f5f"
           }
          },
          "ternary": {
           "aaxis": {
            "gridcolor": "#DFE8F3",
            "linecolor": "#A2B1C6",
            "ticks": ""
           },
           "baxis": {
            "gridcolor": "#DFE8F3",
            "linecolor": "#A2B1C6",
            "ticks": ""
           },
           "bgcolor": "white",
           "caxis": {
            "gridcolor": "#DFE8F3",
            "linecolor": "#A2B1C6",
            "ticks": ""
           }
          },
          "title": {
           "x": 0.05
          },
          "xaxis": {
           "automargin": true,
           "gridcolor": "#EBF0F8",
           "linecolor": "#EBF0F8",
           "ticks": "",
           "title": {
            "standoff": 15
           },
           "zerolinecolor": "#EBF0F8",
           "zerolinewidth": 2
          },
          "yaxis": {
           "automargin": true,
           "gridcolor": "#EBF0F8",
           "linecolor": "#EBF0F8",
           "ticks": "",
           "title": {
            "standoff": 15
           },
           "zerolinecolor": "#EBF0F8",
           "zerolinewidth": 2
          }
         }
        },
        "title": {
         "font": {
          "size": 24
         },
         "text": "Ladeleistung pro Ladezeitraum eines BEVs",
         "x": 0.5,
         "xanchor": "center"
        },
        "xaxis": {
         "range": [
          480,
          960
         ],
         "showgrid": true,
         "title": {
          "text": "Minuten"
         }
        },
        "yaxis": {
         "range": [
          0,
          60
         ],
         "title": {
          "text": "Energie in kW"
         }
        }
       }
      },
      "text/html": [
       "<div>                            <div id=\"3ce9d547-8944-4685-b488-08716819a92b\" class=\"plotly-graph-div\" style=\"height:525px; width:100%;\"></div>            <script type=\"text/javascript\">                require([\"plotly\"], function(Plotly) {                    window.PLOTLYENV=window.PLOTLYENV || {};                                    if (document.getElementById(\"3ce9d547-8944-4685-b488-08716819a92b\")) {                    Plotly.newPlot(                        \"3ce9d547-8944-4685-b488-08716819a92b\",                        [{\"line\":{\"color\":\"orange\"},\"name\":\"Verf\\u00fcgbare Solarleistung\",\"x\":[480,495,510,525,540,555,570,585,600,615,630,645,660,675,690,705,720,735,750,765,780,795,810,825,840,855,870,885,900,915,930,945,960],\"y\":[-2.0,3.25,8.5,13.749999999999998,19.0,27.0,35.0,43.0,51.0,50.75,50.5,50.25,50.0,51.25,52.5,53.75,55.0,50.25,45.5,40.75,36.0,37.5,39.0,40.5,42.0,36.0,30.0,24.0,18.0,15.75,13.5,11.25,9.0],\"type\":\"scatter\"},{\"line\":{\"color\":\"green\"},\"mode\":\"lines\",\"name\":\"ID BEV 0\",\"x\":[480.0,480.0,495.0,510.0,525.0,540.0,555.0,560.1145161290323,560.1145161290323],\"y\":[0.0,0.62,5.87,5.56,8.19,7.666666666666667,10.333333333333334,9.91,0.0],\"type\":\"scatter\"},{\"line\":{\"color\":\"green\"},\"mode\":\"lines\",\"name\":\"ID BEV 14\",\"x\":[510.0,510.0,525.0,540.0,555.0,563.3370967741936,563.3370967741936],\"y\":[0.0,11.12,16.38,15.333333333333334,20.666666666666668,10.483333333333333,0.0],\"type\":\"scatter\"},{\"line\":{\"color\":\"green\"},\"mode\":\"lines\",\"name\":\"ID BEV 16\",\"x\":[540.0,540.0,555.0,570.0,580.8923076923077,580.8923076923077],\"y\":[0.0,23.0,31.0,9.75,10.2025,0.0],\"type\":\"scatter\"},{\"line\":{\"color\":\"green\"},\"mode\":\"lines\",\"name\":\"ID BEV 17\",\"x\":[560.1145161290323,560.1145161290323,570.0,585.0,596.6329787234042,596.6329787234042],\"y\":[0.0,20.243333333333332,19.5,9.4,9.84,0.0],\"type\":\"scatter\"},{\"line\":{\"color\":\"green\"},\"mode\":\"lines\",\"name\":\"ID BEV 35\",\"x\":[570.0,570.0,585.0,600.0,613.2959905660377,613.2959905660377],\"y\":[0.0,29.25,18.8,10.176,10.156,0.0],\"type\":\"scatter\"},{\"line\":{\"color\":\"green\"},\"mode\":\"lines\",\"name\":\"ID BEV 39\",\"x\":[570.0,570.0,585.0,600.0,615.0,624.606874753062,624.606874753062],\"y\":[0.0,39.0,28.200000000000003,20.352,10.123999999999999,10.118,0.0],\"type\":\"scatter\"},{\"line\":{\"color\":\"green\"},\"mode\":\"lines\",\"name\":\"ID BEV 44\",\"x\":[580.8923076923077,580.8923076923077,585.0,600.0,615.0,619.1989332279732,619.1989332279732],\"y\":[0.0,19.9525,37.6,30.528,20.247999999999998,10.136,0.0],\"type\":\"scatter\"},{\"line\":{\"color\":\"green\"},\"mode\":\"lines\",\"name\":\"ID BEV 1\",\"x\":[585.0,585.0,600.0,615.0,630.0,631.190948789202,631.190948789202],\"y\":[0.0,47.0,40.704,30.371999999999996,10.076,10.096,0.0],\"type\":\"scatter\"},{\"line\":{\"color\":\"green\"},\"mode\":\"lines\",\"name\":\"ID BEV 5\",\"x\":[596.6329787234042,596.6329787234042,600.0,615.0,630.0,645.0,645.6195131683958,645.6195131683958],\"y\":[0.0,19.240000000000002,50.88,40.495999999999995,20.152,10.024,10.048,0.0],\"type\":\"scatter\"},{\"line\":{\"color\":\"green\"},\"mode\":\"lines\",\"name\":\"ID BEV 7\",\"x\":[613.2959905660377,613.2959905660377,615.0,630.0,645.0,645.0359138068635,645.0359138068635],\"y\":[0.0,20.332,50.61999999999999,30.228,20.048,10.05,0.0],\"type\":\"scatter\"},{\"line\":{\"color\":\"green\"},\"mode\":\"lines\",\"name\":\"ID BEV 11\",\"x\":[624.606874753062,624.606874753062,630.0,645.0,660.0,663.6892532595812,663.6892532595812],\"y\":[0.0,20.241999999999997,40.304,30.071999999999996,10.123999999999999,10.062000000000001,0.0],\"type\":\"scatter\"},{\"line\":{\"color\":\"green\"},\"mode\":\"lines\",\"name\":\"ID BEV 13\",\"x\":[630.0,630.0,645.0,660.0,675.0,681.1526599845798,681.1526599845798],\"y\":[0.0,50.38,40.096,20.247999999999998,10.376000000000001,10.352,0.0],\"type\":\"scatter\"},{\"line\":{\"color\":\"green\"},\"mode\":\"lines\",\"name\":\"ID BEV 23\",\"x\":[631.190948789202,631.190948789202,645.0,660.0,668.904583168708,668.904583168708],\"y\":[0.0,20.172,50.12,30.371999999999996,10.148,0.0],\"type\":\"scatter\"},{\"line\":{\"color\":\"green\"},\"mode\":\"lines\",\"name\":\"ID BEV 26\",\"x\":[645.6195131683958,645.6195131683958,660.0,675.0,690.0,693.035579819277,693.035579819277],\"y\":[0.0,20.072,40.495999999999995,20.752000000000002,10.623999999999999,10.55,0.0],\"type\":\"scatter\"},{\"line\":{\"color\":\"green\"},\"mode\":\"lines\",\"name\":\"ID BEV 27\",\"x\":[660.0,660.0,675.0,688.9735929067078,688.9735929067078],\"y\":[0.0,50.61999999999999,31.128000000000004,10.482,0.0],\"type\":\"scatter\"},{\"line\":{\"color\":\"green\"},\"mode\":\"lines\",\"name\":\"ID BEV 34\",\"x\":[663.6892532595812,663.6892532595812,675.0,690.0,694.758094879518,694.758094879518],\"y\":[0.0,20.186,41.504000000000005,21.247999999999998,10.58,0.0],\"type\":\"scatter\"},{\"line\":{\"color\":\"green\"},\"mode\":\"lines\",\"name\":\"ID BEV 38\",\"x\":[675.0,675.0,690.0,705.0,707.64803236484,707.64803236484],\"y\":[0.0,51.88000000000001,31.871999999999996,10.876000000000001,10.794,0.0],\"type\":\"scatter\"},{\"line\":{\"color\":\"green\"},\"mode\":\"lines\",\"name\":\"ID BEV 41\",\"x\":[681.1526599845798,681.1526599845798,690.0,702.0,702.0],\"y\":[0.0,20.728,42.495999999999995,10.7,0.0],\"type\":\"scatter\"},{\"line\":{\"color\":\"green\"},\"mode\":\"lines\",\"name\":\"ID BEV 42\",\"x\":[690.0,690.0,705.0,720.0,728.1812998859749,728.1812998859749],\"y\":[0.0,53.11999999999999,21.752000000000002,10.524,10.482,0.0],\"type\":\"scatter\"},{\"line\":{\"color\":\"green\"},\"mode\":\"lines\",\"name\":\"ID BEV 49\",\"x\":[693.035579819277,693.035579819277,705.0,720.0,735.0,740.6484962406014,740.6484962406014],\"y\":[0.0,21.174,32.628,21.048,9.576,9.692,0.0],\"type\":\"scatter\"},{\"line\":{\"color\":\"green\"},\"mode\":\"lines\",\"name\":\"ID BEV 8\",\"x\":[705.0,705.0,720.0,735.0,750.0,751.1723098330241,751.1723098330241],\"y\":[0.0,43.504000000000005,31.571999999999996,19.152,8.623999999999999,9.026,0.0],\"type\":\"scatter\"},{\"line\":{\"color\":\"green\"},\"mode\":\"lines\",\"name\":\"ID BEV 20\",\"x\":[705.0,705.0,720.0,735.0,750.0,754.6161873840446,754.6161873840446],\"y\":[0.0,54.38000000000001,42.096,28.728,17.247999999999998,8.808,0.0],\"type\":\"scatter\"},{\"line\":{\"color\":\"green\"},\"mode\":\"lines\",\"name\":\"ID BEV 21\",\"x\":[707.64803236484,707.64803236484,720.0,735.0,750.0,754.511827458256,754.511827458256],\"y\":[0.0,21.67,52.62,38.304,25.871999999999996,8.814,0.0],\"type\":\"scatter\"},{\"line\":{\"color\":\"green\"},\"mode\":\"lines\",\"name\":\"ID BEV 15\",\"x\":[730.6374800981685,730.6374800981685,735.0,750.0,765.0,780.0,781.6359755478317,781.6359755478317],\"y\":[0.0,8.77,47.88,34.495999999999995,12.793333333333335,12.25,12.053333333333333,0.0],\"type\":\"scatter\"},{\"line\":{\"color\":\"green\"},\"mode\":\"lines\",\"name\":\"ID BEV 2\",\"x\":[735.0123617603008,735.0123617603008,750.0,765.0,778.5686800558,778.5686800558],\"y\":[0.0,7.98,43.11999999999999,25.58666666666667,12.15,0.0],\"type\":\"scatter\"},{\"line\":{\"color\":\"green\"},\"mode\":\"lines\",\"name\":\"ID BEV 33\",\"x\":[751.1723098330241,751.1723098330241,765.0,780.0,794.7020408163265,794.7020408163265],\"y\":[0.0,17.65,38.38,24.5,12.49,0.0],\"type\":\"scatter\"},{\"line\":{\"color\":\"green\"},\"mode\":\"lines\",\"name\":\"ID BEV 40\",\"x\":[767.8856112458416,767.8856112458416,780.0,785.1561175431714,785.1561175431714],\"y\":[0.0,9.595,36.75,12.173333333333334,0.0],\"type\":\"scatter\"},{\"line\":{\"color\":\"green\"},\"mode\":\"lines\",\"name\":\"ID BEV 43\",\"x\":[780.2775510204082,780.2775510204082,795.0,795.8666666666667,795.8666666666667],\"y\":[0.0,7.35,19.125,18.795,0.0],\"type\":\"scatter\"},{\"line\":{\"color\":\"green\"},\"mode\":\"lines\",\"name\":\"ID BEV 48\",\"x\":[785.5836734693877,785.5836734693877,795.0,800.9647058823529,800.9647058823529],\"y\":[0.0,7.35,38.25,19.05,0.0],\"type\":\"scatter\"},{\"line\":{\"color\":\"green\"},\"mode\":\"lines\",\"name\":\"ID BEV 29\",\"x\":[795.1487179487182,795.1487179487182,810.0,814.9651088534109,814.9651088534109],\"y\":[0.0,7.65,13.25,13.166666666666666,0.0],\"type\":\"scatter\"},{\"line\":{\"color\":\"green\"},\"mode\":\"lines\",\"name\":\"ID BEV 36\",\"x\":[795.8666666666667,795.8666666666667,810.0,814.4528301886793,814.4528301886793],\"y\":[0.0,26.445,26.5,13.15,0.0],\"type\":\"scatter\"},{\"line\":{\"color\":\"green\"},\"mode\":\"lines\",\"name\":\"ID BEV 37\",\"x\":[800.9647058823529,800.9647058823529,810.0,815.7509433962264,815.7509433962264],\"y\":[0.0,26.700000000000003,39.75,13.193333333333333,0.0],\"type\":\"scatter\"},{\"line\":{\"color\":\"green\"},\"mode\":\"lines\",\"name\":\"ID BEV 31\",\"x\":[814.4528301886793,814.4528301886793,825.0,832.2327272727273,832.2327272727273],\"y\":[0.0,21.1,20.625,20.61,0.0],\"type\":\"scatter\"},{\"line\":{\"color\":\"green\"},\"mode\":\"lines\",\"name\":\"ID BEV 32\",\"x\":[815.7509433962264,815.7509433962264,825.0,833.4836363636364,833.4836363636364],\"y\":[0.0,21.143333333333334,41.25,20.675,0.0],\"type\":\"scatter\"},{\"line\":{\"color\":\"green\"},\"mode\":\"lines\",\"name\":\"ID BEV 25\",\"x\":[832.2327272727273,832.2327272727273,840.0,847.5,847.5],\"y\":[0.0,30.9225,19.5,19.5,0.0],\"type\":\"scatter\"},{\"line\":{\"color\":\"green\"},\"mode\":\"lines\",\"name\":\"ID BEV 28\",\"x\":[833.4836363636364,833.4836363636364,840.0,847.8307692307693,847.8307692307693],\"y\":[0.0,30.9875,39.0,19.435,0.0],\"type\":\"scatter\"},{\"line\":{\"color\":\"green\"},\"mode\":\"lines\",\"name\":\"ID BEV 22\",\"x\":[847.8307692307693,847.8307692307693,855.0,861.6954545454546,861.6954545454546],\"y\":[0.0,29.185,16.5,16.66,0.0],\"type\":\"scatter\"},{\"line\":{\"color\":\"green\"},\"mode\":\"lines\",\"name\":\"ID BEV 24\",\"x\":[841.2461538461539,841.2461538461539,855.0,859.1181818181818,859.1181818181818],\"y\":[0.0,9.75,33.0,17.175,0.0],\"type\":\"scatter\"},{\"line\":{\"color\":\"green\"},\"mode\":\"lines\",\"name\":\"ID BEV 12\",\"x\":[861.6954545454546,861.6954545454546,870.0,881.6916666666667,881.6916666666667],\"y\":[0.0,24.91,13.5,12.66,0.0],\"type\":\"scatter\"},{\"line\":{\"color\":\"green\"},\"mode\":\"lines\",\"name\":\"ID BEV 19\",\"x\":[859.1181818181818,859.1181818181818,870.0,872.65,872.65],\"y\":[0.0,25.425,27.0,14.47,0.0],\"type\":\"scatter\"},{\"line\":{\"color\":\"green\"},\"mode\":\"lines\",\"name\":\"ID BEV 9\",\"x\":[870.3223538704582,870.3223538704582,885.0,897.1215132024374,897.1215132024374],\"y\":[0.0,6.75,10.5,9.575,0.0],\"type\":\"scatter\"},{\"line\":{\"color\":\"green\"},\"mode\":\"lines\",\"name\":\"ID BEV 10\",\"x\":[872.65,872.65,885.0,895.9714285714285,895.9714285714285],\"y\":[0.0,21.22,21.0,9.805,0.0],\"type\":\"scatter\"},{\"line\":{\"color\":\"green\"},\"mode\":\"lines\",\"name\":\"ID BEV 3\",\"x\":[895.9714285714285,895.9714285714285,900.0,915.0,930.0,945.0,952.7667984189723,952.7667984189723],\"y\":[0.0,16.805,16.88,7.31,6.19,5.06,5.04,0.0],\"type\":\"scatter\"},{\"line\":{\"color\":\"green\"},\"mode\":\"lines\",\"name\":\"ID BEV 6\",\"x\":[904.9763033175356,904.9763033175356,915.0,923.0642954856361,923.0642954856361],\"y\":[0.0,8.44,14.62,7.27,0.0],\"type\":\"scatter\"},{\"line\":{\"color\":\"green\"},\"mode\":\"lines\",\"name\":\"ID BEV 4\",\"x\":[923.0642954856361,923.0642954856361,930.0,945.0,948.3399209486165,948.3399209486165],\"y\":[0.0,12.143333333333333,12.38,10.12,5.375,0.0],\"type\":\"scatter\"},{\"line\":{\"color\":\"green\"},\"mode\":\"lines\",\"name\":\"ID BEV 47\",\"x\":[952.7667984189723,952.7667984189723,960.0,960.0],\"y\":[0.0,10.1,7.88,0.0],\"type\":\"scatter\"}],                        {\"template\":{\"data\":{\"barpolar\":[{\"marker\":{\"line\":{\"color\":\"white\",\"width\":0.5},\"pattern\":{\"fillmode\":\"overlay\",\"size\":10,\"solidity\":0.2}},\"type\":\"barpolar\"}],\"bar\":[{\"error_x\":{\"color\":\"#2a3f5f\"},\"error_y\":{\"color\":\"#2a3f5f\"},\"marker\":{\"line\":{\"color\":\"white\",\"width\":0.5},\"pattern\":{\"fillmode\":\"overlay\",\"size\":10,\"solidity\":0.2}},\"type\":\"bar\"}],\"carpet\":[{\"aaxis\":{\"endlinecolor\":\"#2a3f5f\",\"gridcolor\":\"#C8D4E3\",\"linecolor\":\"#C8D4E3\",\"minorgridcolor\":\"#C8D4E3\",\"startlinecolor\":\"#2a3f5f\"},\"baxis\":{\"endlinecolor\":\"#2a3f5f\",\"gridcolor\":\"#C8D4E3\",\"linecolor\":\"#C8D4E3\",\"minorgridcolor\":\"#C8D4E3\",\"startlinecolor\":\"#2a3f5f\"},\"type\":\"carpet\"}],\"choropleth\":[{\"colorbar\":{\"outlinewidth\":0,\"ticks\":\"\"},\"type\":\"choropleth\"}],\"contourcarpet\":[{\"colorbar\":{\"outlinewidth\":0,\"ticks\":\"\"},\"type\":\"contourcarpet\"}],\"contour\":[{\"colorbar\":{\"outlinewidth\":0,\"ticks\":\"\"},\"colorscale\":[[0.0,\"#0d0887\"],[0.1111111111111111,\"#46039f\"],[0.2222222222222222,\"#7201a8\"],[0.3333333333333333,\"#9c179e\"],[0.4444444444444444,\"#bd3786\"],[0.5555555555555556,\"#d8576b\"],[0.6666666666666666,\"#ed7953\"],[0.7777777777777778,\"#fb9f3a\"],[0.8888888888888888,\"#fdca26\"],[1.0,\"#f0f921\"]],\"type\":\"contour\"}],\"heatmapgl\":[{\"colorbar\":{\"outlinewidth\":0,\"ticks\":\"\"},\"colorscale\":[[0.0,\"#0d0887\"],[0.1111111111111111,\"#46039f\"],[0.2222222222222222,\"#7201a8\"],[0.3333333333333333,\"#9c179e\"],[0.4444444444444444,\"#bd3786\"],[0.5555555555555556,\"#d8576b\"],[0.6666666666666666,\"#ed7953\"],[0.7777777777777778,\"#fb9f3a\"],[0.8888888888888888,\"#fdca26\"],[1.0,\"#f0f921\"]],\"type\":\"heatmapgl\"}],\"heatmap\":[{\"colorbar\":{\"outlinewidth\":0,\"ticks\":\"\"},\"colorscale\":[[0.0,\"#0d0887\"],[0.1111111111111111,\"#46039f\"],[0.2222222222222222,\"#7201a8\"],[0.3333333333333333,\"#9c179e\"],[0.4444444444444444,\"#bd3786\"],[0.5555555555555556,\"#d8576b\"],[0.6666666666666666,\"#ed7953\"],[0.7777777777777778,\"#fb9f3a\"],[0.8888888888888888,\"#fdca26\"],[1.0,\"#f0f921\"]],\"type\":\"heatmap\"}],\"histogram2dcontour\":[{\"colorbar\":{\"outlinewidth\":0,\"ticks\":\"\"},\"colorscale\":[[0.0,\"#0d0887\"],[0.1111111111111111,\"#46039f\"],[0.2222222222222222,\"#7201a8\"],[0.3333333333333333,\"#9c179e\"],[0.4444444444444444,\"#bd3786\"],[0.5555555555555556,\"#d8576b\"],[0.6666666666666666,\"#ed7953\"],[0.7777777777777778,\"#fb9f3a\"],[0.8888888888888888,\"#fdca26\"],[1.0,\"#f0f921\"]],\"type\":\"histogram2dcontour\"}],\"histogram2d\":[{\"colorbar\":{\"outlinewidth\":0,\"ticks\":\"\"},\"colorscale\":[[0.0,\"#0d0887\"],[0.1111111111111111,\"#46039f\"],[0.2222222222222222,\"#7201a8\"],[0.3333333333333333,\"#9c179e\"],[0.4444444444444444,\"#bd3786\"],[0.5555555555555556,\"#d8576b\"],[0.6666666666666666,\"#ed7953\"],[0.7777777777777778,\"#fb9f3a\"],[0.8888888888888888,\"#fdca26\"],[1.0,\"#f0f921\"]],\"type\":\"histogram2d\"}],\"histogram\":[{\"marker\":{\"pattern\":{\"fillmode\":\"overlay\",\"size\":10,\"solidity\":0.2}},\"type\":\"histogram\"}],\"mesh3d\":[{\"colorbar\":{\"outlinewidth\":0,\"ticks\":\"\"},\"type\":\"mesh3d\"}],\"parcoords\":[{\"line\":{\"colorbar\":{\"outlinewidth\":0,\"ticks\":\"\"}},\"type\":\"parcoords\"}],\"pie\":[{\"automargin\":true,\"type\":\"pie\"}],\"scatter3d\":[{\"line\":{\"colorbar\":{\"outlinewidth\":0,\"ticks\":\"\"}},\"marker\":{\"colorbar\":{\"outlinewidth\":0,\"ticks\":\"\"}},\"type\":\"scatter3d\"}],\"scattercarpet\":[{\"marker\":{\"colorbar\":{\"outlinewidth\":0,\"ticks\":\"\"}},\"type\":\"scattercarpet\"}],\"scattergeo\":[{\"marker\":{\"colorbar\":{\"outlinewidth\":0,\"ticks\":\"\"}},\"type\":\"scattergeo\"}],\"scattergl\":[{\"marker\":{\"colorbar\":{\"outlinewidth\":0,\"ticks\":\"\"}},\"type\":\"scattergl\"}],\"scattermapbox\":[{\"marker\":{\"colorbar\":{\"outlinewidth\":0,\"ticks\":\"\"}},\"type\":\"scattermapbox\"}],\"scatterpolargl\":[{\"marker\":{\"colorbar\":{\"outlinewidth\":0,\"ticks\":\"\"}},\"type\":\"scatterpolargl\"}],\"scatterpolar\":[{\"marker\":{\"colorbar\":{\"outlinewidth\":0,\"ticks\":\"\"}},\"type\":\"scatterpolar\"}],\"scatter\":[{\"marker\":{\"colorbar\":{\"outlinewidth\":0,\"ticks\":\"\"}},\"type\":\"scatter\"}],\"scatterternary\":[{\"marker\":{\"colorbar\":{\"outlinewidth\":0,\"ticks\":\"\"}},\"type\":\"scatterternary\"}],\"surface\":[{\"colorbar\":{\"outlinewidth\":0,\"ticks\":\"\"},\"colorscale\":[[0.0,\"#0d0887\"],[0.1111111111111111,\"#46039f\"],[0.2222222222222222,\"#7201a8\"],[0.3333333333333333,\"#9c179e\"],[0.4444444444444444,\"#bd3786\"],[0.5555555555555556,\"#d8576b\"],[0.6666666666666666,\"#ed7953\"],[0.7777777777777778,\"#fb9f3a\"],[0.8888888888888888,\"#fdca26\"],[1.0,\"#f0f921\"]],\"type\":\"surface\"}],\"table\":[{\"cells\":{\"fill\":{\"color\":\"#EBF0F8\"},\"line\":{\"color\":\"white\"}},\"header\":{\"fill\":{\"color\":\"#C8D4E3\"},\"line\":{\"color\":\"white\"}},\"type\":\"table\"}]},\"layout\":{\"annotationdefaults\":{\"arrowcolor\":\"#2a3f5f\",\"arrowhead\":0,\"arrowwidth\":1},\"autotypenumbers\":\"strict\",\"coloraxis\":{\"colorbar\":{\"outlinewidth\":0,\"ticks\":\"\"}},\"colorscale\":{\"diverging\":[[0,\"#8e0152\"],[0.1,\"#c51b7d\"],[0.2,\"#de77ae\"],[0.3,\"#f1b6da\"],[0.4,\"#fde0ef\"],[0.5,\"#f7f7f7\"],[0.6,\"#e6f5d0\"],[0.7,\"#b8e186\"],[0.8,\"#7fbc41\"],[0.9,\"#4d9221\"],[1,\"#276419\"]],\"sequential\":[[0.0,\"#0d0887\"],[0.1111111111111111,\"#46039f\"],[0.2222222222222222,\"#7201a8\"],[0.3333333333333333,\"#9c179e\"],[0.4444444444444444,\"#bd3786\"],[0.5555555555555556,\"#d8576b\"],[0.6666666666666666,\"#ed7953\"],[0.7777777777777778,\"#fb9f3a\"],[0.8888888888888888,\"#fdca26\"],[1.0,\"#f0f921\"]],\"sequentialminus\":[[0.0,\"#0d0887\"],[0.1111111111111111,\"#46039f\"],[0.2222222222222222,\"#7201a8\"],[0.3333333333333333,\"#9c179e\"],[0.4444444444444444,\"#bd3786\"],[0.5555555555555556,\"#d8576b\"],[0.6666666666666666,\"#ed7953\"],[0.7777777777777778,\"#fb9f3a\"],[0.8888888888888888,\"#fdca26\"],[1.0,\"#f0f921\"]]},\"colorway\":[\"#636efa\",\"#EF553B\",\"#00cc96\",\"#ab63fa\",\"#FFA15A\",\"#19d3f3\",\"#FF6692\",\"#B6E880\",\"#FF97FF\",\"#FECB52\"],\"font\":{\"color\":\"#2a3f5f\"},\"geo\":{\"bgcolor\":\"white\",\"lakecolor\":\"white\",\"landcolor\":\"white\",\"showlakes\":true,\"showland\":true,\"subunitcolor\":\"#C8D4E3\"},\"hoverlabel\":{\"align\":\"left\"},\"hovermode\":\"closest\",\"mapbox\":{\"style\":\"light\"},\"paper_bgcolor\":\"white\",\"plot_bgcolor\":\"white\",\"polar\":{\"angularaxis\":{\"gridcolor\":\"#EBF0F8\",\"linecolor\":\"#EBF0F8\",\"ticks\":\"\"},\"bgcolor\":\"white\",\"radialaxis\":{\"gridcolor\":\"#EBF0F8\",\"linecolor\":\"#EBF0F8\",\"ticks\":\"\"}},\"scene\":{\"xaxis\":{\"backgroundcolor\":\"white\",\"gridcolor\":\"#DFE8F3\",\"gridwidth\":2,\"linecolor\":\"#EBF0F8\",\"showbackground\":true,\"ticks\":\"\",\"zerolinecolor\":\"#EBF0F8\"},\"yaxis\":{\"backgroundcolor\":\"white\",\"gridcolor\":\"#DFE8F3\",\"gridwidth\":2,\"linecolor\":\"#EBF0F8\",\"showbackground\":true,\"ticks\":\"\",\"zerolinecolor\":\"#EBF0F8\"},\"zaxis\":{\"backgroundcolor\":\"white\",\"gridcolor\":\"#DFE8F3\",\"gridwidth\":2,\"linecolor\":\"#EBF0F8\",\"showbackground\":true,\"ticks\":\"\",\"zerolinecolor\":\"#EBF0F8\"}},\"shapedefaults\":{\"line\":{\"color\":\"#2a3f5f\"}},\"ternary\":{\"aaxis\":{\"gridcolor\":\"#DFE8F3\",\"linecolor\":\"#A2B1C6\",\"ticks\":\"\"},\"baxis\":{\"gridcolor\":\"#DFE8F3\",\"linecolor\":\"#A2B1C6\",\"ticks\":\"\"},\"bgcolor\":\"white\",\"caxis\":{\"gridcolor\":\"#DFE8F3\",\"linecolor\":\"#A2B1C6\",\"ticks\":\"\"}},\"title\":{\"x\":0.05},\"xaxis\":{\"automargin\":true,\"gridcolor\":\"#EBF0F8\",\"linecolor\":\"#EBF0F8\",\"ticks\":\"\",\"title\":{\"standoff\":15},\"zerolinecolor\":\"#EBF0F8\",\"zerolinewidth\":2},\"yaxis\":{\"automargin\":true,\"gridcolor\":\"#EBF0F8\",\"linecolor\":\"#EBF0F8\",\"ticks\":\"\",\"title\":{\"standoff\":15},\"zerolinecolor\":\"#EBF0F8\",\"zerolinewidth\":2}}},\"xaxis\":{\"range\":[480,960],\"showgrid\":true,\"title\":{\"text\":\"Minuten\"}},\"yaxis\":{\"range\":[0,60],\"title\":{\"text\":\"Energie in kW\"}},\"title\":{\"font\":{\"size\":24},\"text\":\"Ladeleistung pro Ladezeitraum eines BEVs\",\"x\":0.5,\"xanchor\":\"center\"}},                        {\"responsive\": true}                    ).then(function(){\n",
       "                            \n",
       "var gd = document.getElementById('3ce9d547-8944-4685-b488-08716819a92b');\n",
       "var x = new MutationObserver(function (mutations, observer) {{\n",
       "        var display = window.getComputedStyle(gd).display;\n",
       "        if (!display || display === 'none') {{\n",
       "            console.log([gd, 'removed!']);\n",
       "            Plotly.purge(gd);\n",
       "            observer.disconnect();\n",
       "        }}\n",
       "}});\n",
       "\n",
       "// Listen for the removal of the full notebook cells\n",
       "var notebookContainer = gd.closest('#notebook-container');\n",
       "if (notebookContainer) {{\n",
       "    x.observe(notebookContainer, {childList: true});\n",
       "}}\n",
       "\n",
       "// Listen for the clearing of the current output cell\n",
       "var outputEl = gd.closest('.output');\n",
       "if (outputEl) {{\n",
       "    x.observe(outputEl, {childList: true});\n",
       "}}\n",
       "\n",
       "                        })                };                });            </script>        </div>"
      ]
     },
     "metadata": {},
     "output_type": "display_data"
    }
   ],
   "source": [
    "figureGeneration.create_charging_power_figure(simulation_day, solarpeakleistung, bev_data, minute_interval)"
   ]
  }
 ],
 "metadata": {
  "kernelspec": {
   "display_name": "Python 3 (ipykernel)",
   "language": "python",
   "name": "python3"
  },
  "language_info": {
   "codemirror_mode": {
    "name": "ipython",
    "version": 3
   },
   "file_extension": ".py",
   "mimetype": "text/x-python",
   "name": "python",
   "nbconvert_exporter": "python",
   "pygments_lexer": "ipython3",
   "version": "3.9.5"
  }
 },
 "nbformat": 4,
 "nbformat_minor": 4
}