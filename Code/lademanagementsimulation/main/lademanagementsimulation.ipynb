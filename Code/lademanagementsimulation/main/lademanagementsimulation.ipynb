{
 "cells": [
  {
   "cell_type": "markdown",
   "metadata": {
    "pycharm": {
     "name": "#%% md\n"
    }
   },
   "source": [
    "# Lademanagementsimulation   \n"
   ]
  },
  {
   "cell_type": "markdown",
   "metadata": {},
   "source": [
    "### Simulations Parameter"
   ]
  },
  {
   "cell_type": "code",
   "execution_count": 1,
   "metadata": {
    "pycharm": {
     "name": "#%%\n"
    }
   },
   "outputs": [],
   "source": [
    "solarpeakleistung = 125 #Einheit Kilowattpeak (kWP)\n",
    "anzahl_bevs_pro_tag = 10\n",
    "ladeleistung_pro_bev = 11 #Einheit kW\n",
    "maximale_ladezeit = 30 #Einheit Minuten\n",
    "minute_interval = 15 #Einheit Minuten"
   ]
  },
  {
   "cell_type": "markdown",
   "metadata": {},
   "source": [
    "### Simulations Eingangsdaten"
   ]
  },
  {
   "cell_type": "code",
   "execution_count": 2,
   "metadata": {
    "pycharm": {
     "name": "#%%\n"
    }
   },
   "outputs": [
    {
     "data": {
      "text/html": [
       "\n",
       "        <iframe\n",
       "            width=\"100%\"\n",
       "            height=\"650\"\n",
       "            src=\"http://127.0.0.1:8050/\"\n",
       "            frameborder=\"0\"\n",
       "            allowfullscreen\n",
       "            \n",
       "        ></iframe>\n",
       "        "
      ],
      "text/plain": [
       "<IPython.lib.display.IFrame at 0x192974bc070>"
      ]
     },
     "metadata": {},
     "output_type": "display_data"
    }
   ],
   "source": [
    "import simulationInputDataVisualisation\n",
    "simulationInputDataVisualisation.create_jupyter_dash_app(solarpeakleistung)"
   ]
  },
  {
   "cell_type": "markdown",
   "metadata": {},
   "source": [
    "### Verteilungsalgorithmus"
   ]
  },
  {
   "cell_type": "code",
   "execution_count": 3,
   "metadata": {},
   "outputs": [
    {
     "ename": "TypeError",
     "evalue": "unsupported operand type(s) for -: 'int' and 'NoneType'",
     "output_type": "error",
     "traceback": [
      "\u001B[1;31m---------------------------------------------------------------------------\u001B[0m",
      "\u001B[1;31mTypeError\u001B[0m                                 Traceback (most recent call last)",
      "Input \u001B[1;32mIn [3]\u001B[0m, in \u001B[0;36m<module>\u001B[1;34m\u001B[0m\n\u001B[0;32m     11\u001B[0m simulation_data \u001B[38;5;241m=\u001B[39m simulationData\u001B[38;5;241m.\u001B[39mSimulationData()\n\u001B[0;32m     13\u001B[0m \u001B[38;5;66;03m# Auswahl des Algorithmus\u001B[39;00m\n\u001B[0;32m     14\u001B[0m \u001B[38;5;66;03m# algorithm = distributionAlgorithmPolling.Algorithm.POLLING_FIFO\u001B[39;00m\n\u001B[0;32m     15\u001B[0m \u001B[38;5;66;03m# algorithm = distributionAlgorithmPolling.Algorithm.POLLING_EVEN_DISTRIBUTION\u001B[39;00m\n\u001B[1;32m   (...)\u001B[0m\n\u001B[0;32m     18\u001B[0m \u001B[38;5;66;03m#distributionAlgorithmForecast.start_algorithm(simulation_data, simulation_day, maximale_ladezeit, solarpeakleistung, \u001B[39;00m\n\u001B[0;32m     19\u001B[0m   \u001B[38;5;66;03m#                  bev_data, table_dict, ladeleistung_pro_bev, minute_interval)\u001B[39;00m\n\u001B[1;32m---> 21\u001B[0m \u001B[43mdistributionAlgorithmForecastPolling\u001B[49m\u001B[38;5;241;43m.\u001B[39;49m\u001B[43mstart_simulation\u001B[49m\u001B[43m(\u001B[49m\u001B[43msolarpeakleistung\u001B[49m\u001B[43m,\u001B[49m\u001B[43m \u001B[49m\u001B[43mladeleistung_pro_bev\u001B[49m\u001B[43m,\u001B[49m\n\u001B[0;32m     22\u001B[0m \u001B[43m                     \u001B[49m\u001B[43msimulation_day\u001B[49m\u001B[43m,\u001B[49m\u001B[43m \u001B[49m\u001B[43mbev_data\u001B[49m\u001B[43m,\u001B[49m\u001B[43m \u001B[49m\u001B[43mtable_dict\u001B[49m\u001B[43m,\u001B[49m\u001B[43m \u001B[49m\u001B[43msimulation_data\u001B[49m\u001B[43m,\u001B[49m\u001B[43m \u001B[49m\u001B[43mminute_interval\u001B[49m\u001B[43m)\u001B[49m\n",
      "File \u001B[1;32mD:\\Duales Studium\\DHBW\\Studienarbeit\\Code\\lademanagementsimulation\\main\\distributionAlgorithmForecastPolling.py:24\u001B[0m, in \u001B[0;36mstart_simulation\u001B[1;34m(solar_peak_power, charging_power_pro_bev, simulation_day, bev_data, table_dict, simulation_data, minute_interval)\u001B[0m\n\u001B[0;32m     22\u001B[0m simulate_day(minute, solar_peak_power, simulation_day, bev_data, table_dict, simulation_data)\n\u001B[0;32m     23\u001B[0m safe_bev_dict_per_minute(minute, simulation_day, bev_data, table_dict, solar_peak_power)\n\u001B[1;32m---> 24\u001B[0m \u001B[43mupdate_charging_bevs\u001B[49m\u001B[43m(\u001B[49m\u001B[43msolar_peak_power\u001B[49m\u001B[43m,\u001B[49m\u001B[43m \u001B[49m\u001B[43mminute\u001B[49m\u001B[43m,\u001B[49m\n\u001B[0;32m     25\u001B[0m \u001B[43m                     \u001B[49m\u001B[43mcharging_power_pro_bev\u001B[49m\u001B[43m,\u001B[49m\u001B[43m \u001B[49m\u001B[43msimulation_day\u001B[49m\u001B[43m,\u001B[49m\u001B[43m \u001B[49m\u001B[43mbev_data\u001B[49m\u001B[43m,\u001B[49m\n\u001B[0;32m     26\u001B[0m \u001B[43m                     \u001B[49m\u001B[43msimulation_data\u001B[49m\u001B[43m,\u001B[49m\u001B[43m \u001B[49m\u001B[43mminute_interval\u001B[49m\u001B[43m)\u001B[49m\n\u001B[0;32m     27\u001B[0m safe_charging_list_per_minute(simulation_day, simulation_data, minute)\n",
      "File \u001B[1;32mD:\\Duales Studium\\DHBW\\Studienarbeit\\Code\\lademanagementsimulation\\main\\distributionAlgorithmForecastPolling.py:43\u001B[0m, in \u001B[0;36mupdate_charging_bevs\u001B[1;34m(solar_peak_power, minute, charging_power_pro_bev, simulation_day, bev_data, simulation_data, minute_interval)\u001B[0m\n\u001B[0;32m     40\u001B[0m \u001B[38;5;28;01mdef\u001B[39;00m \u001B[38;5;21mupdate_charging_bevs\u001B[39m(solar_peak_power, minute,\n\u001B[0;32m     41\u001B[0m                          charging_power_pro_bev, simulation_day, bev_data,\n\u001B[0;32m     42\u001B[0m                          simulation_data, minute_interval):\n\u001B[1;32m---> 43\u001B[0m     \u001B[43mupdate_charging_time\u001B[49m\u001B[43m(\u001B[49m\u001B[43mminute\u001B[49m\u001B[43m,\u001B[49m\u001B[43m \u001B[49m\u001B[43msimulation_day\u001B[49m\u001B[43m)\u001B[49m\n\u001B[0;32m     44\u001B[0m     update_because_fair_charged_energy_reached(simulation_day)\n\u001B[0;32m     45\u001B[0m     available_solar_power \u001B[38;5;241m=\u001B[39m get_available_solar_power(solar_peak_power, minute)\n",
      "File \u001B[1;32mD:\\Duales Studium\\DHBW\\Studienarbeit\\Code\\lademanagementsimulation\\main\\simulationService.py:77\u001B[0m, in \u001B[0;36mupdate_charging_time\u001B[1;34m(minute, simulation_day)\u001B[0m\n\u001B[0;32m     75\u001B[0m \u001B[38;5;28;01mdef\u001B[39;00m \u001B[38;5;21mupdate_charging_time\u001B[39m(minute, simulation_day):\n\u001B[0;32m     76\u001B[0m     \u001B[38;5;28;01mfor\u001B[39;00m id_bev \u001B[38;5;129;01min\u001B[39;00m simulation_day\u001B[38;5;241m.\u001B[39mcharging_bevs_list\u001B[38;5;241m.\u001B[39mget_charging_bevs_list():\n\u001B[1;32m---> 77\u001B[0m         charging_time \u001B[38;5;241m=\u001B[39m \u001B[43mcalculate_charging_time\u001B[49m\u001B[43m(\u001B[49m\u001B[43mminute\u001B[49m\u001B[43m,\u001B[49m\u001B[43m \u001B[49m\u001B[43msimulation_day\u001B[49m\u001B[38;5;241;43m.\u001B[39;49m\u001B[43mbevs_dict\u001B[49m\u001B[38;5;241;43m.\u001B[39;49m\u001B[43mget_charging_start\u001B[49m\u001B[43m(\u001B[49m\u001B[43mid_bev\u001B[49m\u001B[43m)\u001B[49m\u001B[43m)\u001B[49m\n\u001B[0;32m     78\u001B[0m         simulation_day\u001B[38;5;241m.\u001B[39mbevs_dict\u001B[38;5;241m.\u001B[39mset_charging_time(id_bev, charging_time)\n",
      "File \u001B[1;32mD:\\Duales Studium\\DHBW\\Studienarbeit\\Code\\lademanagementsimulation\\main\\simulationService.py:25\u001B[0m, in \u001B[0;36mcalculate_charging_time\u001B[1;34m(current_minute, charging_start)\u001B[0m\n\u001B[0;32m     24\u001B[0m \u001B[38;5;28;01mdef\u001B[39;00m \u001B[38;5;21mcalculate_charging_time\u001B[39m(current_minute, charging_start):\n\u001B[1;32m---> 25\u001B[0m     \u001B[38;5;28;01mreturn\u001B[39;00m \u001B[43mcurrent_minute\u001B[49m\u001B[43m \u001B[49m\u001B[38;5;241;43m-\u001B[39;49m\u001B[43m \u001B[49m\u001B[43mcharging_start\u001B[49m\n",
      "\u001B[1;31mTypeError\u001B[0m: unsupported operand type(s) for -: 'int' and 'NoneType'"
     ]
    }
   ],
   "source": [
    "import distributionAlgorithmPolling\n",
    "import simulationClasses\n",
    "import simulationData\n",
    "import simulationOutputDataVisualisation\n",
    "import distributionAlgorithmForecast\n",
    "import distributionAlgorithmForecastPolling\n",
    "\n",
    "simulation_day = simulationClasses.SimulationDay(anzahl_bevs_pro_tag)\n",
    "bev_data = simulationData.BevData()\n",
    "table_dict = simulationData.TableDict()\n",
    "simulation_data = simulationData.SimulationData()\n",
    "\n",
    "# Auswahl des Algorithmus\n",
    "# algorithm = distributionAlgorithmPolling.Algorithm.POLLING_FIFO\n",
    "# algorithm = distributionAlgorithmPolling.Algorithm.POLLING_EVEN_DISTRIBUTION\n",
    "# distributionAlgorithmPolling.start_simulation(solarpeakleistung, maximale_ladezeit, ladeleistung_pro_bev, simulation_day, bev_data, table_dict, simulation_data, algorithm, minute_interval)\n",
    "\n",
    "#distributionAlgorithmForecast.start_algorithm(simulation_data, simulation_day, maximale_ladezeit, solarpeakleistung, \n",
    "  #                  bev_data, table_dict, ladeleistung_pro_bev, minute_interval)\n",
    "\n",
    "distributionAlgorithmForecastPolling.start_simulation(solarpeakleistung, ladeleistung_pro_bev,\n",
    "                     simulation_day, bev_data, table_dict, simulation_data, minute_interval)"
   ]
  },
  {
   "cell_type": "markdown",
   "metadata": {},
   "source": [
    "### Ergebnis Algorithmus"
   ]
  },
  {
   "cell_type": "code",
   "execution_count": null,
   "metadata": {},
   "outputs": [],
   "source": [
    "simulationOutputDataVisualisation.print_algorithm_result(bev_data, simulation_data, anzahl_bevs_pro_tag)"
   ]
  },
  {
   "cell_type": "markdown",
   "metadata": {},
   "source": [
    "### Tabellarische Übersicht Park- und Ladeverlauf der BEVs"
   ]
  },
  {
   "cell_type": "code",
   "execution_count": null,
   "metadata": {
    "pycharm": {
     "is_executing": true
    }
   },
   "outputs": [],
   "source": [
    "simulationOutputDataVisualisation.create_tabular_overview_per_minute_slider(table_dict, minute_interval)"
   ]
  },
  {
   "cell_type": "code",
   "execution_count": null,
   "metadata": {},
   "outputs": [],
   "source": [
    "import figureGeneration\n",
    "\n",
    "figureGeneration.create_charging_power_figure(simulation_day)"
   ]
  },
  {
   "cell_type": "code",
   "execution_count": null,
   "metadata": {},
   "outputs": [],
   "source": [
    "figureGeneration.create_bev_number_figure(simulation_data)"
   ]
  }
 ],
 "metadata": {
  "kernelspec": {
   "display_name": "Python 3 (ipykernel)",
   "language": "python",
   "name": "python3"
  },
  "language_info": {
   "codemirror_mode": {
    "name": "ipython",
    "version": 3
   },
   "file_extension": ".py",
   "mimetype": "text/x-python",
   "name": "python",
   "nbconvert_exporter": "python",
   "pygments_lexer": "ipython3",
   "version": "3.9.5"
  }
 },
 "nbformat": 4,
 "nbformat_minor": 4
}