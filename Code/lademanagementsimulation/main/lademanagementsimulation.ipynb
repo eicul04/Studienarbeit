{
 "cells": [
  {
   "cell_type": "markdown",
   "metadata": {
    "pycharm": {
     "name": "#%% md\n"
    }
   },
   "source": [
    "# Lademanagementsimulation   \n"
   ]
  },
  {
   "cell_type": "markdown",
   "metadata": {},
   "source": [
    "### Simulations Parameter"
   ]
  },
  {
   "cell_type": "code",
   "execution_count": 1,
   "metadata": {
    "pycharm": {
     "name": "#%%\n"
    }
   },
   "outputs": [],
   "source": [
    "solarpeakleistung = 125 #Einheit Kilowattpeak (kWP)\n",
    "anzahl_bevs_pro_tag = 50\n",
    "ladeleistung_pro_bev = 11 #Einheit kW\n",
    "maximale_ladezeit = 30 #Einheit Minuten\n",
    "minute_interval = 15 #Einheit Minuten"
   ]
  },
  {
   "cell_type": "markdown",
   "metadata": {},
   "source": [
    "### Simulations Eingangsdaten"
   ]
  },
  {
   "cell_type": "code",
   "execution_count": 2,
   "metadata": {
    "pycharm": {
     "is_executing": true,
     "name": "#%%\n"
    }
   },
   "outputs": [
    {
     "data": {
      "text/html": [
       "\n",
       "        <iframe\n",
       "            width=\"100%\"\n",
       "            height=\"650\"\n",
       "            src=\"http://127.0.0.1:8050/\"\n",
       "            frameborder=\"0\"\n",
       "            allowfullscreen\n",
       "            \n",
       "        ></iframe>\n",
       "        "
      ],
      "text/plain": [
       "<IPython.lib.display.IFrame at 0x1d0c965a070>"
      ]
     },
     "metadata": {},
     "output_type": "display_data"
    }
   ],
   "source": [
    "import simulationInputDataVisualisation\n",
    "simulationInputDataVisualisation.create_jupyter_dash_app(solarpeakleistung)"
   ]
  },
  {
   "cell_type": "markdown",
   "metadata": {},
   "source": [
    "### Verteilungsalgorithmus"
   ]
  },
  {
   "cell_type": "code",
   "execution_count": 3,
   "metadata": {
    "pycharm": {
     "is_executing": true
    }
   },
   "outputs": [
    {
     "name": "stdout",
     "output_type": "stream",
     "text": [
      "START POST OPTIMIZATION\n",
      "{0: [(9.5, 6.5), 'nicht parkend', [], [7.209999999999999]], 1: [(8.5, 7.5), 'nicht parkend', [], [7.9125]], 2: [(12.5, 3.5), 'nicht parkend', [], [3.4250000000000003]], 3: [(8.5, 7.4), 'nicht parkend', [], [7.9125]], 4: [(9.0, 4.1), 'nicht parkend', [], [4.989999999999999]], 5: [(9.0, 5.5), 'nicht parkend', [], [6.435]], 6: [(8.5, 5.4), 'nicht parkend', [], [6.1525]], 7: [(9.0, 7.0), 'nicht parkend', [], [7.584999999999999]], 8: [(13.0, 3.0), 'nicht parkend', [], [2.8425000000000002]], 9: [(9.0, 3.6), 'nicht parkend', [], [4.46]], 10: [(8.0, 5.7), 'nicht parkend', [], [6.0375000000000005]], 11: [(8.5, 3.6), 'nicht parkend', [], [4.1450000000000005]], 12: [(9.0, 5.0), 'nicht parkend', [], [5.824999999999999]], 13: [(13.0, 3.0), 'nicht parkend', [], [2.8425000000000002]], 14: [(8.5, 6.5), 'nicht parkend', [], [7.2525]], 15: [(9.0, 3.1), 'nicht parkend', [], [3.8175000000000003]], 16: [(8.5, 6.8), 'nicht parkend', [], [7.61]], 17: [(9.0, 5.2), 'nicht parkend', [], [6.14]], 18: [(9.5, 4.7), 'nicht parkend', [], [5.765]], 19: [(13.0, 3.0), 'nicht parkend', [], [2.8425000000000002]], 20: [(9.0, 6.9), 'nicht parkend', [], [7.584999999999999]], 21: [(13.5, 2.5), 'nicht parkend', [], [2.33]], 22: [(8.0, 3.4), 'nicht parkend', [], [3.2625000000000006]], 23: [(8.0, 6.2), 'nicht parkend', [], [6.647500000000001]], 24: [(9.5, 6.4), 'nicht parkend', [], [7.209999999999999]], 25: [(9.0, 6.3), 'nicht parkend', [], [7.2825]], 26: [(13.0, 3.0), 'nicht parkend', [], [2.8425000000000002]], 27: [(9.0, 4.8), 'nicht parkend', [], [5.824999999999999]], 28: [(8.0, 3.8), 'nicht parkend', [], [3.9700000000000006]], 29: [(12.5, 3.5), 'nicht parkend', [], [3.4250000000000003]], 30: [(8.0, 3.3), 'nicht parkend', [], [3.2625000000000006]], 31: [(12.0, 4.0), 'nicht parkend', [], [4.1225]], 32: [(8.0, 6.9), 'nicht parkend', [], [7.4325]], 33: [(9.0, 6.5), 'nicht parkend', [], [7.2825]], 34: [(8.0, 4.3), 'nicht parkend', [], [4.667500000000001]], 35: [(8.5, 3.3), 'nicht parkend', [], [3.7900000000000005]], 36: [(8.5, 7.4), 'nicht parkend', [], [7.9125]], 37: [(9.5, 6.2), 'nicht parkend', [], [7.069999999999999]], 38: [(8.0, 6.7), 'nicht parkend', [], [7.2125]], 39: [(8.5, 4.1), 'nicht parkend', [], [4.7875000000000005]], 40: [(9.0, 5.4), 'nicht parkend', [], [6.435]], 41: [(8.5, 6.0), 'nicht parkend', [], [6.7625]], 42: [(9.5, 6.5), 'nicht parkend', [], [7.209999999999999]], 43: [(12.5, 3.5), 'nicht parkend', [], [3.4250000000000003]], 44: [(9.0, 3.9), 'nicht parkend', [], [4.7425]], 45: [(8.0, 3.4), 'nicht parkend', [], [3.2625000000000006]], 46: [(8.5, 7.5), 'nicht parkend', [], [7.9125]], 47: [(8.5, 3.8), 'nicht parkend', [], [4.487500000000001]], 48: [(9.0, 4.3), 'nicht parkend', [], [5.254999999999999]], 49: [(9.0, 5.0), 'nicht parkend', [], [5.824999999999999]]}\n",
      "Waiting BEV list:  []\n",
      "[960, 945, 930, 915, 900, 885, 870, 855, 840, 825, 810, 795, 780, 765, 750, 735, 720, 705, 690, 675, 660, 645, 630, 615, 600, 585, 570, 555, 540, 525, 510, 495, 480]\n",
      "BEVs dict before charging start updated:  {0: [(9.5, 6.5), 'wartend', [(960, 54.277251184834086, 7.209999999999999)], [7.209999999999999]], 1: [(8.5, 7.5), 'wartend', [(945, 58.87142857142862, 7.9125)], [7.9125]], 2: [(12.5, 3.5), 'wartend', [(905.7227488151659, 20.694177386594447, 3.4250000000000007)], [3.4250000000000003]], 3: [(8.5, 7.4), 'nicht parkend', [], [7.9125]], 4: [(9.0, 4.1), 'nicht parkend', [], [4.989999999999999]], 5: [(9.0, 5.5), 'wartend', [(735.338084329957, 118.7698635623874, 7.88780795237416)], [6.435]], 6: [(8.5, 5.4), 'nicht parkend', [], [6.1525]], 7: [(9.0, 7.0), 'wartend', [(886.1285714285714, 266.46165270599624, 10.00643864545425)], [7.584999999999999]], 8: [(13.0, 3.0), 'nicht parkend', [(885.0285714285715, 90.02857142857147, 0.03336309523814075)], [2.8425000000000002]], 9: [(9.0, 3.6), 'nicht parkend', [], [4.46]], 10: [(8.0, 5.7), 'nicht parkend', [], [6.0375000000000005]], 11: [(8.5, 3.6), 'nicht parkend', [], [4.1450000000000005]], 12: [(9.0, 5.0), 'wartend', [(707.7114748069143, 77.08089450553189, 6.579095171267035)], [5.824999999999999]], 13: [(13.0, 3.0), 'wartend', [(885, 18.2318181818182, 2.8425000000000002)], [2.8425000000000002]], 14: [(8.5, 6.5), 'wartend', [(750, 42.28852519308566, 7.2525)], [7.2525]], 15: [(9.0, 3.1), 'nicht parkend', [], [3.8175000000000003]], 16: [(8.5, 6.8), 'nicht parkend', [], [7.61]], 17: [(9.0, 5.2), 'nicht parkend', [], [6.14]], 18: [(9.5, 4.7), 'nicht parkend', [], [5.765]], 19: [(13.0, 3.0), 'wartend', [(866.7681818181818, 15.983566433566466, 2.8425000000000002)], [2.8425000000000002]], 20: [(9.0, 6.9), 'nicht parkend', [], [7.584999999999999]], 21: [(13.5, 2.5), 'wartend', [(855, 14.338461538461502, 2.33)], [2.33]], 22: [(8.0, 3.4), 'nicht parkend', [], [3.2625000000000006]], 23: [(8.0, 6.2), 'nicht parkend', [], [6.647500000000001]], 24: [(9.5, 6.4), 'nicht parkend', [], [7.209999999999999]], 25: [(9.0, 6.3), 'nicht parkend', [], [7.2825]], 26: [(13.0, 3.0), 'wartend', [(850.7846153846153, 17.126433566433548, 2.8425000000000002)], [2.8425000000000002]], 27: [(9.0, 4.8), 'nicht parkend', [], [5.824999999999999]], 28: [(8.0, 3.8), 'nicht parkend', [], [3.9700000000000006]], 29: [(12.5, 3.5), 'nicht parkend', [(840.6615384615385, 75.6615384615385, 0.6432910256410613)], [3.4250000000000003]], 30: [(8.0, 3.3), 'nicht parkend', [], [3.2625000000000006]], 31: [(12.0, 4.0), 'wartend', [(833.6581818181818, 31.189875222816454, 4.1225)], [4.1225]], 32: [(8.0, 6.9), 'nicht parkend', [], [7.4325]], 33: [(9.0, 6.5), 'wartend', [(750, 42.45402721588823, 7.2825)], [7.2825]], 34: [(8.0, 4.3), 'nicht parkend', [], [4.667500000000001]], 35: [(8.5, 3.3), 'nicht parkend', [], [3.7900000000000005]], 36: [(8.5, 7.4), 'nicht parkend', [], [7.9125]], 37: [(9.5, 6.2), 'nicht parkend', [], [7.069999999999999]], 38: [(8.0, 6.7), 'nicht parkend', [], [7.2125]], 39: [(8.5, 4.1), 'nicht parkend', [], [4.7875000000000005]], 40: [(9.0, 5.4), 'nicht parkend', [], [6.435]], 41: [(8.5, 6.0), 'wartend', [(707.5459727841118, 79.61234239170597, 6.956203017660039)], [6.7625]], 42: [(9.5, 6.5), 'wartend', [(802.4683065953653, 67.13022226540829, 7.209999999999999)], [7.209999999999999]], 43: [(12.5, 3.5), 'wartend', [(780, 20.711966604823715, 3.4250000000000003)], [3.4250000000000003]], 44: [(9.0, 3.9), 'nicht parkend', [], [4.7425]], 45: [(8.0, 3.4), 'nicht parkend', [], [3.2625000000000006]], 46: [(8.5, 7.5), 'wartend', [(759.2880333951763, 62.46940364658997, 7.9125)], [7.9125]], 47: [(8.5, 3.8), 'nicht parkend', [], [4.487500000000001]], 48: [(9.0, 4.3), 'nicht parkend', [], [5.254999999999999]], 49: [(9.0, 5.0), 'wartend', [(696.8186297485863, 50.51345892905317, 6.282589892349997)], [5.824999999999999]]}\n",
      "\n",
      "\n",
      "OPTIMIZATION DONE\n",
      "BEVs dict:  {0: [(9.5, 6.5), 'wartend', [(905.7227488151659, 54.277251184834086, 7.209999999999999)], [7.209999999999999]], 1: [(8.5, 7.5), 'wartend', [(886.1285714285714, 58.87142857142862, 7.9125)], [7.9125]], 2: [(12.5, 3.5), 'wartend', [(885.0285714285715, 20.694177386594447, 3.4250000000000007)], [3.4250000000000003]], 3: [(8.5, 7.4), 'nicht parkend', [], [7.9125]], 4: [(9.0, 4.1), 'nicht parkend', [], [4.989999999999999]], 5: [(9.0, 5.5), 'wartend', [(616.5682207675696, 118.7698635623874, 7.88780795237416)], [6.435]], 6: [(8.5, 5.4), 'nicht parkend', [], [6.1525]], 7: [(9.0, 7.0), 'wartend', [(619.6669187225751, 266.46165270599624, 10.00643864545425)], [7.584999999999999]], 8: [(13.0, 3.0), 'nicht parkend', [(795.0, 90.02857142857147, 0.03336309523814075)], [2.8425000000000002]], 9: [(9.0, 3.6), 'nicht parkend', [], [4.46]], 10: [(8.0, 5.7), 'nicht parkend', [], [6.0375000000000005]], 11: [(8.5, 3.6), 'nicht parkend', [], [4.1450000000000005]], 12: [(9.0, 5.0), 'wartend', [(630.6305803013825, 77.08089450553189, 6.579095171267035)], [5.824999999999999]], 13: [(13.0, 3.0), 'wartend', [(866.7681818181818, 18.2318181818182, 2.8425000000000002)], [2.8425000000000002]], 14: [(8.5, 6.5), 'wartend', [(707.7114748069143, 42.28852519308566, 7.2525)], [7.2525]], 15: [(9.0, 3.1), 'nicht parkend', [], [3.8175000000000003]], 16: [(8.5, 6.8), 'nicht parkend', [], [7.61]], 17: [(9.0, 5.2), 'nicht parkend', [], [6.14]], 18: [(9.5, 4.7), 'nicht parkend', [], [5.765]], 19: [(13.0, 3.0), 'wartend', [(850.7846153846153, 15.983566433566466, 2.8425000000000002)], [2.8425000000000002]], 20: [(9.0, 6.9), 'nicht parkend', [], [7.584999999999999]], 21: [(13.5, 2.5), 'wartend', [(840.6615384615385, 14.338461538461502, 2.33)], [2.33]], 22: [(8.0, 3.4), 'nicht parkend', [], [3.2625000000000006]], 23: [(8.0, 6.2), 'nicht parkend', [], [6.647500000000001]], 24: [(9.5, 6.4), 'nicht parkend', [], [7.209999999999999]], 25: [(9.0, 6.3), 'nicht parkend', [], [7.2825]], 26: [(13.0, 3.0), 'wartend', [(833.6581818181818, 17.126433566433548, 2.8425000000000002)], [2.8425000000000002]], 27: [(9.0, 4.8), 'nicht parkend', [], [5.824999999999999]], 28: [(8.0, 3.8), 'nicht parkend', [], [3.9700000000000006]], 29: [(12.5, 3.5), 'nicht parkend', [(765.0, 75.6615384615385, 0.6432910256410613)], [3.4250000000000003]], 30: [(8.0, 3.3), 'nicht parkend', [], [3.2625000000000006]], 31: [(12.0, 4.0), 'wartend', [(802.4683065953653, 31.189875222816454, 4.1225)], [4.1225]], 32: [(8.0, 6.9), 'nicht parkend', [], [7.4325]], 33: [(9.0, 6.5), 'wartend', [(707.5459727841118, 42.45402721588823, 7.2825)], [7.2825]], 34: [(8.0, 4.3), 'nicht parkend', [], [4.667500000000001]], 35: [(8.5, 3.3), 'nicht parkend', [], [3.7900000000000005]], 36: [(8.5, 7.4), 'nicht parkend', [], [7.9125]], 37: [(9.5, 6.2), 'nicht parkend', [], [7.069999999999999]], 38: [(8.0, 6.7), 'nicht parkend', [], [7.2125]], 39: [(8.5, 4.1), 'nicht parkend', [], [4.7875000000000005]], 40: [(9.0, 5.4), 'nicht parkend', [], [6.435]], 41: [(8.5, 6.0), 'wartend', [(627.9336303924058, 79.61234239170597, 6.956203017660039)], [6.7625]], 42: [(9.5, 6.5), 'wartend', [(735.338084329957, 67.13022226540829, 7.209999999999999)], [7.209999999999999]], 43: [(12.5, 3.5), 'wartend', [(759.2880333951763, 20.711966604823715, 3.4250000000000003)], [3.4250000000000003]], 44: [(9.0, 3.9), 'nicht parkend', [], [4.7425]], 45: [(8.0, 3.4), 'nicht parkend', [], [3.2625000000000006]], 46: [(8.5, 7.5), 'wartend', [(696.8186297485863, 62.46940364658997, 7.9125)], [7.9125]], 47: [(8.5, 3.8), 'nicht parkend', [], [4.487500000000001]], 48: [(9.0, 4.3), 'nicht parkend', [], [5.254999999999999]], 49: [(9.0, 5.0), 'wartend', [(646.3051708195331, 50.51345892905317, 6.282589892349997)], [5.824999999999999]]}\n",
      "\n",
      "\n",
      "Minute:  480\n"
     ]
    },
    {
     "ename": "TypeError",
     "evalue": "'>=' not supported between instances of 'int' and 'NoneType'",
     "output_type": "error",
     "traceback": [
      "\u001B[1;31m---------------------------------------------------------------------------\u001B[0m",
      "\u001B[1;31mTypeError\u001B[0m                                 Traceback (most recent call last)",
      "Input \u001B[1;32mIn [3]\u001B[0m, in \u001B[0;36m<module>\u001B[1;34m\u001B[0m\n\u001B[0;32m     16\u001B[0m distributionAlgorithmForecastPolling\u001B[38;5;241m.\u001B[39minit_simulation(day_in_minute_interval_steps, minute_interval, simulation_data, \n\u001B[0;32m     17\u001B[0m                                                    simulation_day, solarpeakleistung)\n\u001B[0;32m     19\u001B[0m postOptimization\u001B[38;5;241m.\u001B[39mstart_post_optimization(minute_interval, simulation_day, solarpeakleistung, bev_data, table_dict, simulation_data,\n\u001B[0;32m     20\u001B[0m                 ladeleistung_pro_bev)\n\u001B[1;32m---> 22\u001B[0m \u001B[43mdistributionAlgorithmForecastPolling\u001B[49m\u001B[38;5;241;43m.\u001B[39;49m\u001B[43mstart_simulation\u001B[49m\u001B[43m(\u001B[49m\u001B[43msolarpeakleistung\u001B[49m\u001B[43m,\u001B[49m\u001B[43m \u001B[49m\u001B[43mladeleistung_pro_bev\u001B[49m\u001B[43m,\u001B[49m\n\u001B[0;32m     23\u001B[0m \u001B[43m                     \u001B[49m\u001B[43msimulation_day\u001B[49m\u001B[43m,\u001B[49m\u001B[43m \u001B[49m\u001B[43mbev_data\u001B[49m\u001B[43m,\u001B[49m\u001B[43m \u001B[49m\u001B[43mtable_dict\u001B[49m\u001B[43m,\u001B[49m\u001B[43m \u001B[49m\u001B[43msimulation_data\u001B[49m\u001B[43m,\u001B[49m\u001B[43m \u001B[49m\u001B[43mminute_interval\u001B[49m\u001B[43m)\u001B[49m\n",
      "File \u001B[1;32mD:\\Duales Studium\\DHBW\\Studienarbeit\\Code\\lademanagementsimulation\\main\\distributionAlgorithmForecastPolling.py:30\u001B[0m, in \u001B[0;36mstart_simulation\u001B[1;34m(solar_peak_power, charging_power_pro_bev, simulation_day, bev_data, table_dict, simulation_data, minute_interval)\u001B[0m\n\u001B[0;32m     28\u001B[0m \u001B[38;5;28mprint\u001B[39m(\u001B[38;5;124m\"\u001B[39m\u001B[38;5;130;01m\\n\u001B[39;00m\u001B[38;5;124m\"\u001B[39m)\n\u001B[0;32m     29\u001B[0m \u001B[38;5;28mprint\u001B[39m(\u001B[38;5;124m\"\u001B[39m\u001B[38;5;124mMinute: \u001B[39m\u001B[38;5;124m\"\u001B[39m, minute)\n\u001B[1;32m---> 30\u001B[0m \u001B[43mupdate_charging_bevs_from_post_optimization_plan\u001B[49m\u001B[43m(\u001B[49m\u001B[43mminute\u001B[49m\u001B[43m,\u001B[49m\u001B[43m \u001B[49m\u001B[43msimulation_day\u001B[49m\u001B[43m)\u001B[49m\n\u001B[0;32m     31\u001B[0m simulation_day\u001B[38;5;241m.\u001B[39mstart_charging_between_intervals()\n\u001B[0;32m     32\u001B[0m simulation_day\u001B[38;5;241m.\u001B[39mstop_charging_between_intervals()\n",
      "File \u001B[1;32mD:\\Duales Studium\\DHBW\\Studienarbeit\\Code\\lademanagementsimulation\\main\\distributionAlgorithmForecastPolling.py:75\u001B[0m, in \u001B[0;36mupdate_charging_bevs_from_post_optimization_plan\u001B[1;34m(minute, simulation_day)\u001B[0m\n\u001B[0;32m     73\u001B[0m \u001B[38;5;28;01mdef\u001B[39;00m \u001B[38;5;21mupdate_charging_bevs_from_post_optimization_plan\u001B[39m(minute, simulation_day):\n\u001B[0;32m     74\u001B[0m     \u001B[38;5;28;01mfor\u001B[39;00m id_bev \u001B[38;5;129;01min\u001B[39;00m simulation_day\u001B[38;5;241m.\u001B[39mbevs_dict\u001B[38;5;241m.\u001B[39mget_bevs_dict():\n\u001B[1;32m---> 75\u001B[0m         \u001B[43mcheck_if_bev_charging_start\u001B[49m\u001B[43m(\u001B[49m\u001B[43mminute\u001B[49m\u001B[43m,\u001B[49m\u001B[43m \u001B[49m\u001B[43mid_bev\u001B[49m\u001B[43m,\u001B[49m\u001B[43m \u001B[49m\u001B[43msimulation_day\u001B[49m\u001B[43m)\u001B[49m\n\u001B[0;32m     76\u001B[0m         check_if_bev_charging_end(minute, id_bev, simulation_day)\n",
      "File \u001B[1;32mD:\\Duales Studium\\DHBW\\Studienarbeit\\Code\\lademanagementsimulation\\main\\distributionAlgorithmForecastPolling.py:81\u001B[0m, in \u001B[0;36mcheck_if_bev_charging_start\u001B[1;34m(minute, id_bev, simulation_day)\u001B[0m\n\u001B[0;32m     79\u001B[0m \u001B[38;5;28;01mdef\u001B[39;00m \u001B[38;5;21mcheck_if_bev_charging_start\u001B[39m(minute, id_bev, simulation_day):\n\u001B[0;32m     80\u001B[0m     charging_start \u001B[38;5;241m=\u001B[39m simulation_day\u001B[38;5;241m.\u001B[39mbevs_dict\u001B[38;5;241m.\u001B[39mget_charging_start(id_bev)\n\u001B[1;32m---> 81\u001B[0m     \u001B[38;5;28;01mif\u001B[39;00m \u001B[43mminute\u001B[49m\u001B[43m \u001B[49m\u001B[38;5;241;43m>\u001B[39;49m\u001B[38;5;241;43m=\u001B[39;49m\u001B[43m \u001B[49m\u001B[43mcharging_start\u001B[49m:\n\u001B[0;32m     82\u001B[0m         \u001B[38;5;28;01mreturn\u001B[39;00m \u001B[38;5;28;01mTrue\u001B[39;00m\n\u001B[0;32m     83\u001B[0m     \u001B[38;5;28;01mreturn\u001B[39;00m \u001B[38;5;28;01mFalse\u001B[39;00m\n",
      "\u001B[1;31mTypeError\u001B[0m: '>=' not supported between instances of 'int' and 'NoneType'"
     ]
    }
   ],
   "source": [
    "import distributionAlgorithmPolling\n",
    "import simulationClasses\n",
    "import simulationData\n",
    "import simulationOutputDataVisualisation\n",
    "import distributionAlgorithmForecast\n",
    "import distributionAlgorithmForecastPolling\n",
    "import postOptimization\n",
    "import numpy as np\n",
    "\n",
    "simulation_day = simulationClasses.SimulationDay(anzahl_bevs_pro_tag)\n",
    "bev_data = simulationData.BevData()\n",
    "table_dict = simulationData.TableDict()\n",
    "simulation_data = simulationData.SimulationData()\n",
    "    \n",
    "day_in_minute_interval_steps = list(np.around(np.arange(480, 960 + 1, minute_interval), 1))\n",
    "distributionAlgorithmForecastPolling.init_simulation(day_in_minute_interval_steps, minute_interval, simulation_data, \n",
    "                                                   simulation_day, solarpeakleistung)\n",
    "\n",
    "postOptimization.start_post_optimization(minute_interval, simulation_day, solarpeakleistung, bev_data, table_dict, simulation_data,\n",
    "                ladeleistung_pro_bev)\n",
    "\n",
    "distributionAlgorithmForecastPolling.start_simulation(solarpeakleistung, ladeleistung_pro_bev,\n",
    "                     simulation_day, bev_data, table_dict, simulation_data, minute_interval)\n",
    "    \n",
    "# nochmal ein Durchgang wo frei gewordener Platz belegt wird"
   ]
  },
  {
   "cell_type": "markdown",
   "metadata": {},
   "source": [
    "### Ergebnis Algorithmus"
   ]
  },
  {
   "cell_type": "code",
   "execution_count": null,
   "metadata": {
    "pycharm": {
     "is_executing": true
    }
   },
   "outputs": [],
   "source": [
    "simulationOutputDataVisualisation.print_algorithm_result(bev_data, simulation_data, anzahl_bevs_pro_tag)"
   ]
  },
  {
   "cell_type": "markdown",
   "metadata": {},
   "source": [
    "### Tabellarische Übersicht Park- und Ladeverlauf der BEVs"
   ]
  },
  {
   "cell_type": "code",
   "execution_count": null,
   "metadata": {
    "pycharm": {
     "is_executing": true
    }
   },
   "outputs": [],
   "source": [
    "simulationOutputDataVisualisation.create_tabular_overview_per_minute_slider(table_dict, minute_interval)"
   ]
  },
  {
   "cell_type": "code",
   "execution_count": null,
   "metadata": {
    "pycharm": {
     "is_executing": true
    }
   },
   "outputs": [],
   "source": [
    "import figureGeneration\n",
    "\n",
    "figureGeneration.create_charging_power_figure(simulation_day, solarpeakleistung, bev_data, minute_interval)"
   ]
  },
  {
   "cell_type": "code",
   "execution_count": null,
   "metadata": {
    "pycharm": {
     "is_executing": true
    }
   },
   "outputs": [],
   "source": [
    "figureGeneration.create_bev_number_figure(simulation_data)"
   ]
  }
 ],
 "metadata": {
  "kernelspec": {
   "display_name": "Python 3 (ipykernel)",
   "language": "python",
   "name": "python3"
  },
  "language_info": {
   "codemirror_mode": {
    "name": "ipython",
    "version": 3
   },
   "file_extension": ".py",
   "mimetype": "text/x-python",
   "name": "python",
   "nbconvert_exporter": "python",
   "pygments_lexer": "ipython3",
   "version": "3.9.5"
  }
 },
 "nbformat": 4,
 "nbformat_minor": 4
}