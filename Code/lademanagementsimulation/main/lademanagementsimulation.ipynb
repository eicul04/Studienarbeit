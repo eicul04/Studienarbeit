{
 "cells": [
  {
   "cell_type": "markdown",
   "metadata": {
    "pycharm": {
     "name": "#%% md\n"
    }
   },
   "source": [
    "# Lademanagementsimulation   \n"
   ]
  },
  {
   "cell_type": "markdown",
   "metadata": {},
   "source": [
    "### Simulations Parameter"
   ]
  },
  {
   "cell_type": "code",
   "execution_count": 1,
   "metadata": {
    "pycharm": {
     "name": "#%%\n"
    }
   },
   "outputs": [],
   "source": [
    "solarpeakleistung = 125 #Einheit Kilowattpeak (kWP)\n",
    "anzahl_bevs_pro_tag = 10\n",
    "ladeleistung_pro_bev = 11 #Einheit kW\n",
    "maximale_ladezeit = 30 #Einheit Minuten\n",
    "minute_interval = 15 #Einheit Minuten"
   ]
  },
  {
   "cell_type": "markdown",
   "metadata": {},
   "source": [
    "### Simulations Eingangsdaten"
   ]
  },
  {
   "cell_type": "code",
   "execution_count": 2,
   "metadata": {
    "pycharm": {
     "is_executing": true,
     "name": "#%%\n"
    }
   },
   "outputs": [
    {
     "data": {
      "text/html": [
       "\n",
       "        <iframe\n",
       "            width=\"100%\"\n",
       "            height=\"650\"\n",
       "            src=\"http://127.0.0.1:8050/\"\n",
       "            frameborder=\"0\"\n",
       "            allowfullscreen\n",
       "            \n",
       "        ></iframe>\n",
       "        "
      ],
      "text/plain": [
       "<IPython.lib.display.IFrame at 0x293744113d0>"
      ]
     },
     "metadata": {},
     "output_type": "display_data"
    }
   ],
   "source": [
    "import simulationInputDataVisualisation\n",
    "simulationInputDataVisualisation.create_jupyter_dash_app(solarpeakleistung)"
   ]
  },
  {
   "cell_type": "markdown",
   "metadata": {},
   "source": [
    "### Verteilungsalgorithmus"
   ]
  },
  {
   "cell_type": "code",
   "execution_count": 3,
   "metadata": {
    "pycharm": {
     "is_executing": true
    }
   },
   "outputs": [
    {
     "name": "stdout",
     "output_type": "stream",
     "text": [
      "START POST OPTIMIZATION\n",
      "charging list per minute dict:  {}\n",
      "\n",
      "\n",
      "OPTIMIZATION DONE\n",
      "BEVs dict:  {0: [(8.0, 6.6), 'nicht parkend', [], [33.467499999999994]], 1: [(8.5, 4.6), 'nicht parkend', [], [25.637499999999996]], 2: [(8.0, 7.9), 'nicht parkend', [], [37.21749999999999]], 3: [(12.5, 3.5), 'wartend', [(859.9090909090909, 100.09090909090912, 0)], [14.740000000000002]], 4: [(8.0, 6.0), 'wartend', [(757.7682436611008, 82.23175633889923, 0)], [29.772499999999994]], 5: [(8.5, 3.2), 'nicht parkend', [], [16.537499999999998]], 6: [(8.5, 5.8), 'nicht parkend', [], [31.93499999999999]], 7: [(13.0, 3.0), 'wartend', [(863.3681818181818, 81.63181818181818, 0)], [12.1925]], 8: [(8.0, 7.9), 'nicht parkend', [], [37.21749999999999]], 9: [(9.0, 7.0), 'wartend', [(778.2629841931562, 106.73701580684383, 0)], [35.82749999999999]]}\n",
      "BEVs from post optimization:  [3, 4, 7, 9]\n",
      "\n",
      "\n",
      "Minute:  480\n",
      "charging list per minute dict:  {}\n",
      "Waiting BEVs:  []\n",
      "Charging list after handling overload:  []\n",
      "Waiting BEVs after updating parking end:  [0, 2, 8]\n",
      "Charging BEVs after updating post optimization plan and parking end:  []\n",
      "SET BEV DATA for current minute for ID BEV 0 for minute 480:  0.62\n",
      "Charging BEVs (nachdem neue Plätze belegt):  [0]\n",
      "Restladeenergie bis zur fairen Ladeenergie for BEV mit ID 0:  33.467499999999994\n",
      "Restladezeit:  3238.7903225806444\n",
      "Charging BEVs:  [0]\n",
      "\n",
      "\n",
      "Minute:  495\n",
      "charging list per minute dict:  {480: [0]}\n",
      "Waiting BEVs:  [2, 8]\n",
      "Charging list after handling overload:  [0]\n",
      "Waiting BEVs after updating parking end:  [2, 8]\n",
      "Charging BEVs after updating post optimization plan and parking end:  [0]\n",
      "charging_list_per_minute_dict  {480: [0]}\n",
      "FUEL Charging BEV:  0\n",
      "SET BEV DATA for current minute for ID BEV 0 for minute 495:  5.87\n",
      "Charging BEVs (nachdem neue Plätze belegt):  [0]\n",
      "Restladeenergie bis zur fairen Ladeenergie for BEV mit ID 0:  33.31249999999999\n",
      "Restladezeit:  340.50255536626906\n",
      "Charging BEVs:  [0]\n",
      "\n",
      "\n",
      "Minute:  510\n",
      "charging list per minute dict:  {480: [0], 495: [0]}\n",
      "Waiting BEVs:  [2, 8]\n",
      "Charging list after handling overload:  [0]\n",
      "Waiting BEVs after updating parking end:  [2, 8, 1, 5, 6]\n",
      "Charging BEVs after updating post optimization plan and parking end:  [0]\n",
      "charging_list_per_minute_dict  {480: [0], 495: [0]}\n",
      "FUEL Charging BEV:  0\n",
      "SET BEV DATA for current minute for ID BEV 0 for minute 510:  5.56\n",
      "SET BEV DATA for current minute for ID BEV 2 for minute 510:  5.56\n",
      "Charging BEVs (nachdem neue Plätze belegt):  [0, 2]\n",
      "Restladeenergie bis zur fairen Ladeenergie for BEV mit ID 0:  31.844999999999995\n",
      "Restladezeit:  343.6510791366906\n",
      "Restladeenergie bis zur fairen Ladeenergie for BEV mit ID 2:  37.21749999999999\n",
      "Restladezeit:  401.62769784172656\n",
      "Charging BEVs:  [0, 2]\n",
      "\n",
      "\n",
      "Minute:  525\n",
      "charging list per minute dict:  {480: [0], 495: [0], 510: [0, 2]}\n",
      "Waiting BEVs:  [8, 1, 5, 6]\n",
      "Charging list after handling overload:  [0, 2]\n",
      "Waiting BEVs after updating parking end:  [8, 1, 5, 6]\n",
      "Charging BEVs after updating post optimization plan and parking end:  [0, 2]\n",
      "charging_list_per_minute_dict  {480: [0], 495: [0], 510: [0, 2]}\n",
      "FUEL Charging BEV:  0\n",
      "FUEL Charging BEV:  2\n",
      "SET BEV DATA for current minute for ID BEV 0 for minute 525:  8.19\n",
      "SET BEV DATA for current minute for ID BEV 2 for minute 525:  8.19\n",
      "Charging BEVs (nachdem neue Plätze belegt):  [0, 2]\n",
      "Restladeenergie bis zur fairen Ladeenergie for BEV mit ID 0:  30.454999999999995\n",
      "Restladezeit:  223.11355311355308\n",
      "Restladeenergie bis zur fairen Ladeenergie for BEV mit ID 2:  35.827499999999986\n",
      "Restladezeit:  262.4725274725274\n",
      "Charging BEVs:  [0, 2]\n",
      "\n",
      "\n",
      "Minute:  540\n",
      "charging list per minute dict:  {480: [0], 495: [0], 510: [0, 2], 525: [0, 2]}\n",
      "Waiting BEVs:  [8, 1, 5, 6]\n",
      "Charging list after handling overload:  [0, 2]\n",
      "Waiting BEVs after updating parking end:  [8, 1, 5, 6]\n",
      "Charging BEVs after updating post optimization plan and parking end:  [0, 2]\n",
      "charging_list_per_minute_dict  {480: [0], 495: [0], 510: [0, 2], 525: [0, 2]}\n",
      "FUEL Charging BEV:  0\n",
      "FUEL Charging BEV:  2\n",
      "SET BEV DATA for current minute for ID BEV 0 for minute 540:  7.666666666666667\n",
      "SET BEV DATA for current minute for ID BEV 2 for minute 540:  7.666666666666667\n",
      "SET BEV DATA for current minute for ID BEV 8 for minute 540:  7.666666666666667\n",
      "Charging BEVs (nachdem neue Plätze belegt):  [0, 2, 8]\n",
      "Restladeenergie bis zur fairen Ladeenergie for BEV mit ID 0:  28.40749999999999\n",
      "Restladezeit:  222.31956521739124\n",
      "Restladeenergie bis zur fairen Ladeenergie for BEV mit ID 2:  33.77999999999999\n",
      "Restladezeit:  264.36521739130427\n",
      "Restladeenergie bis zur fairen Ladeenergie for BEV mit ID 8:  37.21749999999999\n",
      "Restladezeit:  291.2673913043477\n",
      "Charging BEVs:  [0, 2, 8]\n",
      "\n",
      "\n",
      "Minute:  555\n",
      "charging list per minute dict:  {480: [0], 495: [0], 510: [0, 2], 525: [0, 2], 540: [0, 2, 8]}\n",
      "Waiting BEVs:  [1, 5, 6]\n",
      "Charging list after handling overload:  [0, 2, 8]\n",
      "Waiting BEVs after updating parking end:  [1, 5, 6]\n",
      "Charging BEVs after updating post optimization plan and parking end:  [0, 2, 8]\n",
      "charging_list_per_minute_dict  {480: [0], 495: [0], 510: [0, 2], 525: [0, 2], 540: [0, 2, 8]}\n",
      "FUEL Charging BEV:  0\n",
      "FUEL Charging BEV:  2\n",
      "FUEL Charging BEV:  8\n",
      "SET BEV DATA for current minute for ID BEV 0 for minute 555:  10.333333333333334\n",
      "SET BEV DATA for current minute for ID BEV 2 for minute 555:  10.333333333333334\n",
      "SET BEV DATA for current minute for ID BEV 8 for minute 555:  10.333333333333334\n",
      "Charging BEVs (nachdem neue Plätze belegt):  [0, 2, 8]\n",
      "Restladeenergie bis zur fairen Ladeenergie for BEV mit ID 0:  26.490833333333327\n",
      "Restladezeit:  153.81774193548384\n",
      "Restladeenergie bis zur fairen Ladeenergie for BEV mit ID 2:  31.86333333333332\n",
      "Restladezeit:  185.01290322580638\n",
      "Restladeenergie bis zur fairen Ladeenergie for BEV mit ID 8:  35.30083333333332\n",
      "Restladezeit:  204.97258064516123\n",
      "Charging BEVs:  [0, 2, 8]\n",
      "\n",
      "\n",
      "Minute:  570\n",
      "charging list per minute dict:  {480: [0], 495: [0], 510: [0, 2], 525: [0, 2], 540: [0, 2, 8], 555: [0, 2, 8]}\n",
      "Waiting BEVs:  [1, 5, 6]\n",
      "Charging list after handling overload:  [0, 2, 8]\n",
      "Waiting BEVs after updating parking end:  [1, 5, 6]\n",
      "Charging BEVs after updating post optimization plan and parking end:  [0, 2, 8]\n",
      "charging_list_per_minute_dict  {480: [0], 495: [0], 510: [0, 2], 525: [0, 2], 540: [0, 2, 8], 555: [0, 2, 8]}\n",
      "FUEL Charging BEV:  0\n",
      "FUEL Charging BEV:  2\n",
      "FUEL Charging BEV:  8\n",
      "SET BEV DATA for current minute for ID BEV 0 for minute 570:  9.75\n",
      "SET BEV DATA for current minute for ID BEV 2 for minute 570:  9.75\n",
      "SET BEV DATA for current minute for ID BEV 8 for minute 570:  9.75\n",
      "SET BEV DATA for current minute for ID BEV 1 for minute 570:  9.75\n",
      "Charging BEVs (nachdem neue Plätze belegt):  [0, 2, 8, 1]\n",
      "Restladeenergie bis zur fairen Ladeenergie for BEV mit ID 0:  23.90749999999999\n",
      "Restladezeit:  147.1230769230769\n",
      "Restladeenergie bis zur fairen Ladeenergie for BEV mit ID 2:  29.279999999999987\n",
      "Restladezeit:  180.1846153846153\n",
      "Restladeenergie bis zur fairen Ladeenergie for BEV mit ID 8:  32.71749999999999\n",
      "Restladezeit:  201.33846153846144\n",
      "Restladeenergie bis zur fairen Ladeenergie for BEV mit ID 1:  25.637499999999996\n",
      "Restladezeit:  157.76923076923075\n",
      "Charging BEVs:  [0, 2, 8, 1]\n",
      "\n",
      "\n",
      "Minute:  585\n",
      "charging list per minute dict:  {480: [0], 495: [0], 510: [0, 2], 525: [0, 2], 540: [0, 2, 8], 555: [0, 2, 8], 570: [0, 2, 8, 1]}\n",
      "Waiting BEVs:  [5, 6]\n",
      "Charging list after handling overload:  [0, 2, 8, 1]\n",
      "Waiting BEVs after updating parking end:  [5, 6]\n",
      "Charging BEVs after updating post optimization plan and parking end:  [0, 2, 8, 1]\n",
      "charging_list_per_minute_dict  {480: [0], 495: [0], 510: [0, 2], 525: [0, 2], 540: [0, 2, 8], 555: [0, 2, 8], 570: [0, 2, 8, 1]}\n",
      "FUEL Charging BEV:  0\n",
      "FUEL Charging BEV:  2\n",
      "FUEL Charging BEV:  8\n",
      "FUEL Charging BEV:  1\n",
      "SET BEV DATA for current minute for ID BEV 0 for minute 585:  9.4\n",
      "SET BEV DATA for current minute for ID BEV 2 for minute 585:  9.4\n",
      "SET BEV DATA for current minute for ID BEV 8 for minute 585:  9.4\n",
      "SET BEV DATA for current minute for ID BEV 1 for minute 585:  9.4\n",
      "SET BEV DATA for current minute for ID BEV 5 for minute 585:  9.4\n",
      "Charging BEVs (nachdem neue Plätze belegt):  [0, 2, 8, 1, 5]\n",
      "Restladeenergie bis zur fairen Ladeenergie for BEV mit ID 0:  21.46999999999999\n",
      "Restladezeit:  137.0425531914893\n",
      "Restladeenergie bis zur fairen Ladeenergie for BEV mit ID 2:  26.842499999999987\n",
      "Restladezeit:  171.33510638297864\n",
      "Restladeenergie bis zur fairen Ladeenergie for BEV mit ID 8:  30.279999999999987\n",
      "Restladezeit:  193.27659574468078\n",
      "Restladeenergie bis zur fairen Ladeenergie for BEV mit ID 1:  23.199999999999996\n",
      "Restladezeit:  148.0851063829787\n",
      "Restladeenergie bis zur fairen Ladeenergie for BEV mit ID 5:  16.537499999999998\n",
      "Restladezeit:  105.55851063829785\n",
      "Charging BEVs:  [0, 2, 8, 1, 5]\n",
      "\n",
      "\n",
      "Minute:  600\n",
      "charging list per minute dict:  {480: [0], 495: [0], 510: [0, 2], 525: [0, 2], 540: [0, 2, 8], 555: [0, 2, 8], 570: [0, 2, 8, 1], 585: [0, 2, 8, 1, 5]}\n",
      "Waiting BEVs:  [6]\n",
      "Charging list after handling overload:  [0, 2, 8, 1, 5]\n",
      "Waiting BEVs after updating parking end:  [6]\n",
      "Charging BEVs after updating post optimization plan and parking end:  [0, 2, 8, 1, 5]\n",
      "charging_list_per_minute_dict  {480: [0], 495: [0], 510: [0, 2], 525: [0, 2], 540: [0, 2, 8], 555: [0, 2, 8], 570: [0, 2, 8, 1], 585: [0, 2, 8, 1, 5]}\n",
      "FUEL Charging BEV:  0\n",
      "FUEL Charging BEV:  2\n",
      "FUEL Charging BEV:  8\n",
      "FUEL Charging BEV:  1\n",
      "FUEL Charging BEV:  5\n",
      "SET BEV DATA for current minute for ID BEV 0 for minute 600:  10.176\n",
      "SET BEV DATA for current minute for ID BEV 2 for minute 600:  10.176\n",
      "SET BEV DATA for current minute for ID BEV 8 for minute 600:  10.176\n"
     ]
    },
    {
     "name": "stdout",
     "output_type": "stream",
     "text": [
      "SET BEV DATA for current minute for ID BEV 1 for minute 600:  10.176\n",
      "SET BEV DATA for current minute for ID BEV 5 for minute 600:  10.176\n",
      "Charging BEVs (nachdem neue Plätze belegt):  [0, 2, 8, 1, 5]\n",
      "Restladeenergie bis zur fairen Ladeenergie for BEV mit ID 0:  19.119999999999994\n",
      "Restladezeit:  112.73584905660374\n",
      "Restladeenergie bis zur fairen Ladeenergie for BEV mit ID 2:  24.492499999999986\n",
      "Restladezeit:  144.41332547169802\n",
      "Restladeenergie bis zur fairen Ladeenergie for BEV mit ID 8:  27.929999999999986\n",
      "Restladezeit:  164.6816037735848\n",
      "Restladeenergie bis zur fairen Ladeenergie for BEV mit ID 1:  20.849999999999994\n",
      "Restladezeit:  122.93632075471695\n",
      "Restladeenergie bis zur fairen Ladeenergie for BEV mit ID 5:  14.187499999999998\n",
      "Restladezeit:  83.65271226415094\n",
      "Charging BEVs:  [0, 2, 8, 1, 5]\n",
      "\n",
      "\n",
      "Minute:  615\n",
      "charging list per minute dict:  {480: [0], 495: [0], 510: [0, 2], 525: [0, 2], 540: [0, 2, 8], 555: [0, 2, 8], 570: [0, 2, 8, 1], 585: [0, 2, 8, 1, 5], 600: [0, 2, 8, 1, 5]}\n",
      "Waiting BEVs:  [6]\n",
      "Charging list after handling overload:  [0, 2, 8, 1, 5]\n",
      "Waiting BEVs after updating parking end:  [6]\n",
      "Charging BEVs after updating post optimization plan and parking end:  [0, 2, 8, 1, 5]\n",
      "charging_list_per_minute_dict  {480: [0], 495: [0], 510: [0, 2], 525: [0, 2], 540: [0, 2, 8], 555: [0, 2, 8], 570: [0, 2, 8, 1], 585: [0, 2, 8, 1, 5], 600: [0, 2, 8, 1, 5]}\n",
      "FUEL Charging BEV:  0\n",
      "FUEL Charging BEV:  2\n",
      "FUEL Charging BEV:  8\n",
      "FUEL Charging BEV:  1\n",
      "FUEL Charging BEV:  5\n",
      "SET BEV DATA for current minute for ID BEV 0 for minute 615:  10.123999999999999\n",
      "SET BEV DATA for current minute for ID BEV 2 for minute 615:  10.123999999999999\n",
      "SET BEV DATA for current minute for ID BEV 8 for minute 615:  10.123999999999999\n",
      "SET BEV DATA for current minute for ID BEV 1 for minute 615:  10.123999999999999\n",
      "SET BEV DATA for current minute for ID BEV 5 for minute 615:  10.123999999999999\n",
      "Charging BEVs (nachdem neue Plätze belegt):  [0, 2, 8, 1, 5]\n",
      "Restladeenergie bis zur fairen Ladeenergie for BEV mit ID 0:  16.575999999999993\n",
      "Restladezeit:  98.2378506519162\n",
      "Restladeenergie bis zur fairen Ladeenergie for BEV mit ID 2:  21.94849999999999\n",
      "Restladezeit:  130.0780323982615\n",
      "Restladeenergie bis zur fairen Ladeenergie for BEV mit ID 8:  25.38599999999999\n",
      "Restladezeit:  150.45041485578815\n",
      "Restladeenergie bis zur fairen Ladeenergie for BEV mit ID 1:  18.305999999999997\n",
      "Restladezeit:  108.49071513235874\n",
      "Restladeenergie bis zur fairen Ladeenergie for BEV mit ID 5:  11.643499999999998\n",
      "Restladezeit:  69.00533386013433\n",
      "Charging BEVs:  [0, 2, 8, 1, 5]\n",
      "\n",
      "\n",
      "Minute:  630\n",
      "charging list per minute dict:  {480: [0], 495: [0], 510: [0, 2], 525: [0, 2], 540: [0, 2, 8], 555: [0, 2, 8], 570: [0, 2, 8, 1], 585: [0, 2, 8, 1, 5], 600: [0, 2, 8, 1, 5], 615: [0, 2, 8, 1, 5]}\n",
      "Waiting BEVs:  [6]\n",
      "Charging list after handling overload:  [0, 2, 8, 1, 5]\n",
      "Waiting BEVs after updating parking end:  [6]\n",
      "Charging BEVs after updating post optimization plan and parking end:  [0, 2, 8, 1, 5]\n",
      "charging_list_per_minute_dict  {480: [0], 495: [0], 510: [0, 2], 525: [0, 2], 540: [0, 2, 8], 555: [0, 2, 8], 570: [0, 2, 8, 1], 585: [0, 2, 8, 1, 5], 600: [0, 2, 8, 1, 5], 615: [0, 2, 8, 1, 5]}\n",
      "FUEL Charging BEV:  0\n",
      "FUEL Charging BEV:  2\n",
      "FUEL Charging BEV:  8\n",
      "FUEL Charging BEV:  1\n",
      "FUEL Charging BEV:  5\n",
      "SET BEV DATA for current minute for ID BEV 0 for minute 630:  10.076\n",
      "SET BEV DATA for current minute for ID BEV 2 for minute 630:  10.076\n",
      "SET BEV DATA for current minute for ID BEV 8 for minute 630:  10.076\n",
      "SET BEV DATA for current minute for ID BEV 1 for minute 630:  10.076\n",
      "SET BEV DATA for current minute for ID BEV 5 for minute 630:  10.076\n",
      "Charging BEVs (nachdem neue Plätze belegt):  [0, 2, 8, 1, 5]\n",
      "Restladeenergie bis zur fairen Ladeenergie for BEV mit ID 0:  14.044999999999995\n",
      "Restladezeit:  83.63437872171492\n",
      "Restladeenergie bis zur fairen Ladeenergie for BEV mit ID 2:  19.417499999999986\n",
      "Restladezeit:  115.62624057165533\n",
      "Restladeenergie bis zur fairen Ladeenergie for BEV mit ID 8:  22.854999999999986\n",
      "Restladezeit:  136.0956728860658\n",
      "Restladeenergie bis zur fairen Ladeenergie for BEV mit ID 1:  15.774999999999995\n",
      "Restladezeit:  93.93608574831279\n",
      "Restladeenergie bis zur fairen Ladeenergie for BEV mit ID 5:  9.112499999999997\n",
      "Restladezeit:  54.262604208019035\n",
      "Charging BEVs:  [0, 2, 8, 1, 5]\n",
      "\n",
      "\n",
      "Minute:  645\n",
      "charging list per minute dict:  {480: [0], 495: [0], 510: [0, 2], 525: [0, 2], 540: [0, 2, 8], 555: [0, 2, 8], 570: [0, 2, 8, 1], 585: [0, 2, 8, 1, 5], 600: [0, 2, 8, 1, 5], 615: [0, 2, 8, 1, 5], 630: [0, 2, 8, 1, 5]}\n",
      "Waiting BEVs:  [6]\n",
      "Charging list after handling overload:  [0, 2, 8, 1, 5]\n",
      "Waiting BEVs after updating parking end:  [6]\n",
      "Charging BEVs after updating post optimization plan and parking end:  [0, 2, 8, 1, 5]\n",
      "charging_list_per_minute_dict  {480: [0], 495: [0], 510: [0, 2], 525: [0, 2], 540: [0, 2, 8], 555: [0, 2, 8], 570: [0, 2, 8, 1], 585: [0, 2, 8, 1, 5], 600: [0, 2, 8, 1, 5], 615: [0, 2, 8, 1, 5], 630: [0, 2, 8, 1, 5]}\n",
      "FUEL Charging BEV:  0\n",
      "FUEL Charging BEV:  2\n",
      "FUEL Charging BEV:  8\n",
      "FUEL Charging BEV:  1\n",
      "FUEL Charging BEV:  5\n",
      "SET BEV DATA for current minute for ID BEV 0 for minute 645:  10.024\n",
      "SET BEV DATA for current minute for ID BEV 2 for minute 645:  10.024\n",
      "SET BEV DATA for current minute for ID BEV 8 for minute 645:  10.024\n",
      "SET BEV DATA for current minute for ID BEV 1 for minute 645:  10.024\n",
      "SET BEV DATA for current minute for ID BEV 5 for minute 645:  10.024\n",
      "Charging BEVs (nachdem neue Plätze belegt):  [0, 2, 8, 1, 5]\n",
      "Restladeenergie bis zur fairen Ladeenergie for BEV mit ID 0:  11.525999999999996\n",
      "Restladezeit:  68.99042298483639\n",
      "Restladeenergie bis zur fairen Ladeenergie for BEV mit ID 2:  16.898499999999984\n",
      "Restladezeit:  101.14824421388658\n",
      "Restladeenergie bis zur fairen Ladeenergie for BEV mit ID 8:  20.335999999999984\n",
      "Restladezeit:  121.72386272944922\n",
      "Restladeenergie bis zur fairen Ladeenergie for BEV mit ID 1:  13.255999999999995\n",
      "Restladezeit:  79.3455706304868\n",
      "Restladeenergie bis zur fairen Ladeenergie for BEV mit ID 5:  6.593499999999999\n",
      "Restladezeit:  39.46628092577813\n",
      "Charging BEVs:  [0, 2, 8, 1, 5]\n",
      "\n",
      "\n",
      "Minute:  660\n",
      "charging list per minute dict:  {480: [0], 495: [0], 510: [0, 2], 525: [0, 2], 540: [0, 2, 8], 555: [0, 2, 8], 570: [0, 2, 8, 1], 585: [0, 2, 8, 1, 5], 600: [0, 2, 8, 1, 5], 615: [0, 2, 8, 1, 5], 630: [0, 2, 8, 1, 5], 645: [0, 2, 8, 1, 5]}\n",
      "Waiting BEVs:  [6]\n",
      "Charging list after handling overload:  [0, 2, 8, 1, 5]\n",
      "Waiting BEVs after updating parking end:  [6]\n",
      "Charging BEVs after updating post optimization plan and parking end:  [0, 2, 8, 1, 5]\n",
      "charging_list_per_minute_dict  {480: [0], 495: [0], 510: [0, 2], 525: [0, 2], 540: [0, 2, 8], 555: [0, 2, 8], 570: [0, 2, 8, 1], 585: [0, 2, 8, 1, 5], 600: [0, 2, 8, 1, 5], 615: [0, 2, 8, 1, 5], 630: [0, 2, 8, 1, 5], 645: [0, 2, 8, 1, 5]}\n",
      "FUEL Charging BEV:  0\n",
      "FUEL Charging BEV:  2\n",
      "FUEL Charging BEV:  8\n",
      "FUEL Charging BEV:  1\n",
      "FUEL Charging BEV:  5\n",
      "SET BEV DATA for current minute for ID BEV 0 for minute 660:  10.123999999999999\n",
      "SET BEV DATA for current minute for ID BEV 2 for minute 660:  10.123999999999999\n",
      "SET BEV DATA for current minute for ID BEV 8 for minute 660:  10.123999999999999\n",
      "SET BEV DATA for current minute for ID BEV 1 for minute 660:  10.123999999999999\n",
      "SET BEV DATA for current minute for ID BEV 5 for minute 660:  10.123999999999999\n",
      "Charging BEVs (nachdem neue Plätze belegt):  [0, 2, 8, 1, 5]\n",
      "Restladeenergie bis zur fairen Ladeenergie for BEV mit ID 0:  9.019999999999996\n",
      "Restladezeit:  53.45713156854996\n",
      "Restladeenergie bis zur fairen Ladeenergie for BEV mit ID 2:  14.392499999999984\n",
      "Restladezeit:  85.29731331489522\n",
      "Restladeenergie bis zur fairen Ladeenergie for BEV mit ID 8:  17.829999999999984\n",
      "Restladezeit:  105.66969577242189\n",
      "Restladeenergie bis zur fairen Ladeenergie for BEV mit ID 1:  10.749999999999995\n",
      "Restladezeit:  63.70999604899247\n",
      "Restladeenergie bis zur fairen Ladeenergie for BEV mit ID 5:  4.087499999999999\n",
      "Restladezeit:  24.22461477676807\n",
      "Charging BEVs:  [0, 2, 8, 1, 5]\n",
      "\n",
      "\n",
      "Minute:  675\n",
      "charging list per minute dict:  {480: [0], 495: [0], 510: [0, 2], 525: [0, 2], 540: [0, 2, 8], 555: [0, 2, 8], 570: [0, 2, 8, 1], 585: [0, 2, 8, 1, 5], 600: [0, 2, 8, 1, 5], 615: [0, 2, 8, 1, 5], 630: [0, 2, 8, 1, 5], 645: [0, 2, 8, 1, 5], 660: [0, 2, 8, 1, 5]}\n",
      "Waiting BEVs:  [6]\n",
      "Charging list after handling overload:  [0, 2, 8, 1, 5]\n",
      "Waiting BEVs after updating parking end:  [6]\n",
      "Charging BEVs after updating post optimization plan and parking end:  [0, 2, 8, 1, 5]\n",
      "charging_list_per_minute_dict  {480: [0], 495: [0], 510: [0, 2], 525: [0, 2], 540: [0, 2, 8], 555: [0, 2, 8], 570: [0, 2, 8, 1], 585: [0, 2, 8, 1, 5], 600: [0, 2, 8, 1, 5], 615: [0, 2, 8, 1, 5], 630: [0, 2, 8, 1, 5], 645: [0, 2, 8, 1, 5], 660: [0, 2, 8, 1, 5]}\n",
      "FUEL Charging BEV:  0\n"
     ]
    },
    {
     "name": "stdout",
     "output_type": "stream",
     "text": [
      "FUEL Charging BEV:  2\n",
      "FUEL Charging BEV:  8\n",
      "FUEL Charging BEV:  1\n",
      "FUEL Charging BEV:  5\n",
      "SET BEV DATA for current minute for ID BEV 0 for minute 675:  10.376000000000001\n",
      "SET BEV DATA for current minute for ID BEV 2 for minute 675:  10.376000000000001\n",
      "SET BEV DATA for current minute for ID BEV 8 for minute 675:  10.376000000000001\n",
      "SET BEV DATA for current minute for ID BEV 1 for minute 675:  10.376000000000001\n",
      "SET BEV DATA for current minute for ID BEV 5 for minute 675:  10.376000000000001\n",
      "Charging BEVs (nachdem neue Plätze belegt):  [0, 2, 8, 1, 5]\n",
      "Restladeenergie bis zur fairen Ladeenergie for BEV mit ID 0:  6.488999999999997\n",
      "Restladezeit:  37.523130300693886\n",
      "Restladeenergie bis zur fairen Ladeenergie for BEV mit ID 2:  11.861499999999985\n",
      "Restladezeit:  68.59001542020037\n",
      "Restladeenergie bis zur fairen Ladeenergie for BEV mit ID 8:  15.298999999999985\n",
      "Restladezeit:  88.46761757902843\n",
      "Restladeenergie bis zur fairen Ladeenergie for BEV mit ID 1:  8.218999999999994\n",
      "Restladezeit:  47.52698535080952\n",
      "Restladeenergie bis zur fairen Ladeenergie for BEV mit ID 5:  1.5564999999999998\n",
      "Restladezeit:  9.000578257517345\n",
      "Die Restladezeit des BEVS 5 endet vor dem nächsten Interval\n",
      "SET BEV DATA after charging time over for ID BEV 5 for minute 684.0005782575173:  10.4\n",
      "Ausgewähltes BEV das frei gewordenen Platz belegen darf:  6\n",
      "Ladestart für ausgewähltes BEV:  684.0005782575173\n",
      "SET BEV DATA for charging start of new bev for ID BEV 6 for minute 684.0005782575173:  10.376000000000001\n",
      "SET BEV DATA charging start between intervals for ID BEV 6 for minute 684.0005782575173:  10.376000000000001\n",
      "Charging BEVs:  [0, 2, 8, 1, 5]\n",
      "\n",
      "\n",
      "Minute:  690\n",
      "charging list per minute dict:  {480: [0], 495: [0], 510: [0, 2], 525: [0, 2], 540: [0, 2, 8], 555: [0, 2, 8], 570: [0, 2, 8, 1], 585: [0, 2, 8, 1, 5], 600: [0, 2, 8, 1, 5], 615: [0, 2, 8, 1, 5], 630: [0, 2, 8, 1, 5], 645: [0, 2, 8, 1, 5], 660: [0, 2, 8, 1, 5], 675: [0, 2, 8, 1, 5]}\n",
      "Waiting BEVs:  []\n",
      "Charging list after handling overload:  [0, 2, 8, 1, 6]\n",
      "Waiting BEVs after updating parking end:  []\n",
      "Charging BEVs after updating post optimization plan and parking end:  [0, 2, 8, 1, 6]\n",
      "charging_list_per_minute_dict  {480: [0], 495: [0], 510: [0, 2], 525: [0, 2], 540: [0, 2, 8], 555: [0, 2, 8], 570: [0, 2, 8, 1], 585: [0, 2, 8, 1, 5], 600: [0, 2, 8, 1, 5], 615: [0, 2, 8, 1, 5], 630: [0, 2, 8, 1, 5], 645: [0, 2, 8, 1, 5], 660: [0, 2, 8, 1, 5], 675: [0, 2, 8, 1, 5]}\n",
      "FUEL Charging BEV:  0\n",
      "FUEL Charging BEV:  2\n",
      "FUEL Charging BEV:  8\n",
      "FUEL Charging BEV:  1\n",
      "SET BEV DATA for current minute for ID BEV 0 for minute 690:  10.623999999999999\n",
      "SET BEV DATA for current minute for ID BEV 2 for minute 690:  10.623999999999999\n",
      "SET BEV DATA for current minute for ID BEV 8 for minute 690:  10.623999999999999\n",
      "SET BEV DATA for current minute for ID BEV 1 for minute 690:  10.623999999999999\n",
      "SET BEV DATA for current minute for ID BEV 6 for minute 690:  10.623999999999999\n",
      "Charging BEVs (nachdem neue Plätze belegt):  [0, 2, 8, 1, 6]\n",
      "Restladeenergie bis zur fairen Ladeenergie for BEV mit ID 0:  3.894999999999996\n",
      "Restladezeit:  21.997364457831306\n",
      "Restladeenergie bis zur fairen Ladeenergie for BEV mit ID 2:  9.267499999999984\n",
      "Restladezeit:  52.33904367469871\n",
      "Restladeenergie bis zur fairen Ladeenergie for BEV mit ID 8:  12.704999999999984\n",
      "Restladezeit:  71.75263554216859\n",
      "Restladeenergie bis zur fairen Ladeenergie for BEV mit ID 1:  5.624999999999993\n",
      "Restladezeit:  31.767695783132496\n",
      "Restladeenergie bis zur fairen Ladeenergie for BEV mit ID 6:  30.897499999999983\n",
      "Restladezeit:  174.496423192771\n",
      "Charging BEVs:  [0, 2, 8, 1, 6]\n",
      "\n",
      "\n",
      "Minute:  705\n",
      "charging list per minute dict:  {480: [0], 495: [0], 510: [0, 2], 525: [0, 2], 540: [0, 2, 8], 555: [0, 2, 8], 570: [0, 2, 8, 1], 585: [0, 2, 8, 1, 5], 600: [0, 2, 8, 1, 5], 615: [0, 2, 8, 1, 5], 630: [0, 2, 8, 1, 5], 645: [0, 2, 8, 1, 5], 660: [0, 2, 8, 1, 5], 675: [0, 2, 8, 1, 5], 690: [0, 2, 8, 1, 6]}\n",
      "Waiting BEVs:  []\n",
      "Charging list after handling overload:  [0, 2, 8, 1, 6]\n",
      "Waiting BEVs after updating parking end:  []\n",
      "Charging BEVs after updating post optimization plan and parking end:  [0, 2, 8, 1, 6]\n",
      "charging_list_per_minute_dict  {480: [0], 495: [0], 510: [0, 2], 525: [0, 2], 540: [0, 2, 8], 555: [0, 2, 8], 570: [0, 2, 8, 1], 585: [0, 2, 8, 1, 5], 600: [0, 2, 8, 1, 5], 615: [0, 2, 8, 1, 5], 630: [0, 2, 8, 1, 5], 645: [0, 2, 8, 1, 5], 660: [0, 2, 8, 1, 5], 675: [0, 2, 8, 1, 5], 690: [0, 2, 8, 1, 6]}\n",
      "FUEL Charging BEV:  0\n",
      "FUEL Charging BEV:  2\n",
      "FUEL Charging BEV:  8\n",
      "FUEL Charging BEV:  1\n",
      "FUEL Charging BEV:  6\n",
      "SET BEV DATA for current minute for ID BEV 0 for minute 705:  10.876000000000001\n",
      "SET BEV DATA for current minute for ID BEV 2 for minute 705:  10.876000000000001\n",
      "SET BEV DATA for current minute for ID BEV 8 for minute 705:  10.876000000000001\n",
      "SET BEV DATA for current minute for ID BEV 1 for minute 705:  10.876000000000001\n",
      "SET BEV DATA for current minute for ID BEV 6 for minute 705:  10.876000000000001\n",
      "Charging BEVs (nachdem neue Plätze belegt):  [0, 2, 8, 1, 6]\n",
      "Restladeenergie bis zur fairen Ladeenergie for BEV mit ID 0:  1.2389999999999972\n",
      "Restladezeit:  6.835233541743271\n",
      "Die Restladezeit des BEVS 0 endet vor dem nächsten Interval\n",
      "SET BEV DATA after charging time over for ID BEV 0 for minute 711.8352335417433:  10.864\n",
      "Restladeenergie bis zur fairen Ladeenergie for BEV mit ID 2:  6.363699999999987\n",
      "Restladezeit:  35.106840750275765\n",
      "Restladeenergie bis zur fairen Ladeenergie for BEV mit ID 8:  9.801199999999987\n",
      "Restladezeit:  54.07061419639566\n",
      "Restladeenergie bis zur fairen Ladeenergie for BEV mit ID 1:  2.721199999999996\n",
      "Restladezeit:  15.012136815005494\n",
      "Restladeenergie bis zur fairen Ladeenergie for BEV mit ID 6:  27.993699999999986\n",
      "Restladezeit:  154.43379919087891\n",
      "Charging BEVs:  [0, 2, 8, 1, 6]\n",
      "\n",
      "\n",
      "Minute:  720\n",
      "charging list per minute dict:  {480: [0], 495: [0], 510: [0, 2], 525: [0, 2], 540: [0, 2, 8], 555: [0, 2, 8], 570: [0, 2, 8, 1], 585: [0, 2, 8, 1, 5], 600: [0, 2, 8, 1, 5], 615: [0, 2, 8, 1, 5], 630: [0, 2, 8, 1, 5], 645: [0, 2, 8, 1, 5], 660: [0, 2, 8, 1, 5], 675: [0, 2, 8, 1, 5], 690: [0, 2, 8, 1, 6], 705: [0, 2, 8, 1, 6]}\n",
      "Waiting BEVs:  []\n",
      "Charging list after handling overload:  [2, 8, 1, 6]\n",
      "Waiting BEVs after updating parking end:  []\n",
      "Charging BEVs after updating post optimization plan and parking end:  [2, 8, 1, 6]\n",
      "charging_list_per_minute_dict  {480: [0], 495: [0], 510: [0, 2], 525: [0, 2], 540: [0, 2, 8], 555: [0, 2, 8], 570: [0, 2, 8, 1], 585: [0, 2, 8, 1, 5], 600: [0, 2, 8, 1, 5], 615: [0, 2, 8, 1, 5], 630: [0, 2, 8, 1, 5], 645: [0, 2, 8, 1, 5], 660: [0, 2, 8, 1, 5], 675: [0, 2, 8, 1, 5], 690: [0, 2, 8, 1, 6], 705: [0, 2, 8, 1, 6]}\n",
      "FUEL Charging BEV:  2\n",
      "FUEL Charging BEV:  8\n",
      "FUEL Charging BEV:  1\n",
      "FUEL Charging BEV:  6\n",
      "SET BEV DATA for current minute for ID BEV 2 for minute 720:  13.155\n",
      "SET BEV DATA for current minute for ID BEV 8 for minute 720:  13.155\n",
      "SET BEV DATA for current minute for ID BEV 1 for minute 720:  13.155\n",
      "SET BEV DATA for current minute for ID BEV 6 for minute 720:  13.155\n",
      "Charging BEVs (nachdem neue Plätze belegt):  [2, 8, 1, 6]\n",
      "Restladeenergie bis zur fairen Ladeenergie for BEV mit ID 2:  3.644699999999986\n",
      "Restladezeit:  16.623489167616814\n",
      "Restladeenergie bis zur fairen Ladeenergie for BEV mit ID 8:  7.082199999999986\n",
      "Restladezeit:  32.30193842645376\n",
      "Restladeenergie bis zur fairen Ladeenergie for BEV mit ID 1:  0.0021999999999948727\n",
      "Restladezeit:  0.01003420752563226\n",
      "Die Restladezeit des BEVS 1 endet vor dem nächsten Interval\n",
      "SET BEV DATA after charging time over for ID BEV 1 for minute 720.0100342075257:  13.75\n",
      "Restladeenergie bis zur fairen Ladeenergie for BEV mit ID 6:  25.274149999999985\n",
      "Restladezeit:  115.27548460661339\n",
      "Charging BEVs:  [2, 8, 1, 6]\n",
      "\n",
      "\n",
      "Minute:  735\n",
      "charging list per minute dict:  {480: [0], 495: [0], 510: [0, 2], 525: [0, 2], 540: [0, 2, 8], 555: [0, 2, 8], 570: [0, 2, 8, 1], 585: [0, 2, 8, 1, 5], 600: [0, 2, 8, 1, 5], 615: [0, 2, 8, 1, 5], 630: [0, 2, 8, 1, 5], 645: [0, 2, 8, 1, 5], 660: [0, 2, 8, 1, 5], 675: [0, 2, 8, 1, 5], 690: [0, 2, 8, 1, 6], 705: [0, 2, 8, 1, 6], 720: [2, 8, 1, 6]}\n",
      "Waiting BEVs:  []\n",
      "Charging list after handling overload:  [2, 8, 6]\n",
      "Waiting BEVs after updating parking end:  []\n",
      "Charging BEVs after updating post optimization plan and parking end:  [2, 8, 6]\n",
      "charging_list_per_minute_dict  {480: [0], 495: [0], 510: [0, 2], 525: [0, 2], 540: [0, 2, 8], 555: [0, 2, 8], 570: [0, 2, 8, 1], 585: [0, 2, 8, 1, 5], 600: [0, 2, 8, 1, 5], 615: [0, 2, 8, 1, 5], 630: [0, 2, 8, 1, 5], 645: [0, 2, 8, 1, 5], 660: [0, 2, 8, 1, 5], 675: [0, 2, 8, 1, 5], 690: [0, 2, 8, 1, 6], 705: [0, 2, 8, 1, 6], 720: [2, 8, 1, 6]}\n",
      "FUEL Charging BEV:  2\n",
      "FUEL Charging BEV:  8\n"
     ]
    },
    {
     "name": "stdout",
     "output_type": "stream",
     "text": [
      "FUEL Charging BEV:  6\n",
      "SET BEV DATA for current minute for ID BEV 2 for minute 735:  15.96\n",
      "SET BEV DATA for current minute for ID BEV 8 for minute 735:  15.96\n",
      "SET BEV DATA for current minute for ID BEV 6 for minute 735:  15.96\n",
      "Charging BEVs (nachdem neue Plätze belegt):  [2, 8, 6]\n",
      "Restladeenergie bis zur fairen Ladeenergie for BEV mit ID 2:  0.35539999999998884\n",
      "Restladezeit:  1.3360902255638678\n",
      "Die Restladezeit des BEVS 2 endet vor dem nächsten Interval\n",
      "SET BEV DATA after charging time over for ID BEV 2 for minute 736.3360902255639:  16.61\n",
      "Restladeenergie bis zur fairen Ladeenergie for BEV mit ID 8:  3.674433333333326\n",
      "Restladezeit:  13.813659147869645\n",
      "Die Restladezeit des BEVS 8 endet vor dem nächsten Interval\n",
      "SET BEV DATA after charging time over for ID BEV 8 for minute 748.8136591478697:  15.293333333333335\n",
      "Restladeenergie bis zur fairen Ladeenergie for BEV mit ID 6:  20.642122222222213\n",
      "Restladezeit:  77.60196324143688\n",
      "Charging BEVs:  [2, 8, 6]\n",
      "\n",
      "\n",
      "Minute:  750\n",
      "charging list per minute dict:  {480: [0], 495: [0], 510: [0, 2], 525: [0, 2], 540: [0, 2, 8], 555: [0, 2, 8], 570: [0, 2, 8, 1], 585: [0, 2, 8, 1, 5], 600: [0, 2, 8, 1, 5], 615: [0, 2, 8, 1, 5], 630: [0, 2, 8, 1, 5], 645: [0, 2, 8, 1, 5], 660: [0, 2, 8, 1, 5], 675: [0, 2, 8, 1, 5], 690: [0, 2, 8, 1, 6], 705: [0, 2, 8, 1, 6], 720: [2, 8, 1, 6], 735: [2, 8, 6]}\n",
      "Waiting BEVs:  []\n",
      "Charging list after handling overload:  [6]\n",
      "SET BEV DATA charging start between intervals for ID BEV 4 for minute 757.7682436611008:  21.56\n",
      "Waiting BEVs after updating parking end:  []\n",
      "Charging BEVs after updating post optimization plan and parking end:  [6]\n",
      "charging_list_per_minute_dict  {480: [0], 495: [0], 510: [0, 2], 525: [0, 2], 540: [0, 2, 8], 555: [0, 2, 8], 570: [0, 2, 8, 1], 585: [0, 2, 8, 1, 5], 600: [0, 2, 8, 1, 5], 615: [0, 2, 8, 1, 5], 630: [0, 2, 8, 1, 5], 645: [0, 2, 8, 1, 5], 660: [0, 2, 8, 1, 5], 675: [0, 2, 8, 1, 5], 690: [0, 2, 8, 1, 6], 705: [0, 2, 8, 1, 6], 720: [2, 8, 1, 6], 735: [2, 8, 6]}\n",
      "FUEL Charging BEV:  6\n",
      "SET BEV DATA for current minute for ID BEV 6 for minute 750:  21.56\n",
      "Charging BEVs (nachdem neue Plätze belegt):  [6]\n",
      "Restladeenergie bis zur fairen Ladeenergie for BEV mit ID 6:  16.652122222222214\n",
      "Restladezeit:  46.34171304885589\n",
      "Charging BEVs:  [6]\n",
      "\n",
      "\n",
      "Minute:  765\n",
      "charging list per minute dict:  {480: [0], 495: [0], 510: [0, 2], 525: [0, 2], 540: [0, 2, 8], 555: [0, 2, 8], 570: [0, 2, 8, 1], 585: [0, 2, 8, 1, 5], 600: [0, 2, 8, 1, 5], 615: [0, 2, 8, 1, 5], 630: [0, 2, 8, 1, 5], 645: [0, 2, 8, 1, 5], 660: [0, 2, 8, 1, 5], 675: [0, 2, 8, 1, 5], 690: [0, 2, 8, 1, 6], 705: [0, 2, 8, 1, 6], 720: [2, 8, 1, 6], 735: [2, 8, 6], 750: [6, 4]}\n",
      "Waiting BEVs:  []\n",
      "Charging list after handling overload:  [6, 4]\n",
      "SET BEV DATA charging start between intervals for ID BEV 9 for minute 778.2629841931562:  12.793333333333335\n",
      "Waiting BEVs after updating parking end:  []\n",
      "Charging BEVs after updating post optimization plan and parking end:  [6, 4]\n",
      "charging_list_per_minute_dict  {480: [0], 495: [0], 510: [0, 2], 525: [0, 2], 540: [0, 2, 8], 555: [0, 2, 8], 570: [0, 2, 8, 1], 585: [0, 2, 8, 1, 5], 600: [0, 2, 8, 1, 5], 615: [0, 2, 8, 1, 5], 630: [0, 2, 8, 1, 5], 645: [0, 2, 8, 1, 5], 660: [0, 2, 8, 1, 5], 675: [0, 2, 8, 1, 5], 690: [0, 2, 8, 1, 6], 705: [0, 2, 8, 1, 6], 720: [2, 8, 1, 6], 735: [2, 8, 6], 750: [6, 4]}\n",
      "FUEL Charging BEV:  6\n",
      "SET BEV DATA for current minute for ID BEV 6 for minute 765:  12.793333333333335\n",
      "SET BEV DATA for current minute for ID BEV 4 for minute 765:  12.793333333333335\n",
      "Charging BEVs (nachdem neue Plätze belegt):  [6, 4]\n",
      "Restladeenergie bis zur fairen Ladeenergie for BEV mit ID 6:  11.262122222222214\n",
      "Restladezeit:  52.81870766023967\n",
      "Restladeenergie bis zur fairen Ladeenergie for BEV mit ID 4:  27.17388888888887\n",
      "Restladezeit:  127.4439812402292\n",
      "Charging BEVs:  [6, 4]\n",
      "\n",
      "\n",
      "Minute:  780\n",
      "charging list per minute dict:  {480: [0], 495: [0], 510: [0, 2], 525: [0, 2], 540: [0, 2, 8], 555: [0, 2, 8], 570: [0, 2, 8, 1], 585: [0, 2, 8, 1, 5], 600: [0, 2, 8, 1, 5], 615: [0, 2, 8, 1, 5], 630: [0, 2, 8, 1, 5], 645: [0, 2, 8, 1, 5], 660: [0, 2, 8, 1, 5], 675: [0, 2, 8, 1, 5], 690: [0, 2, 8, 1, 6], 705: [0, 2, 8, 1, 6], 720: [2, 8, 1, 6], 735: [2, 8, 6], 750: [6, 4], 765: [6, 4, 9]}\n",
      "Waiting BEVs:  []\n",
      "Charging list after handling overload:  [6, 4, 9]\n",
      "Waiting BEVs after updating parking end:  []\n",
      "Charging BEVs after updating post optimization plan and parking end:  [6, 4, 9]\n",
      "charging_list_per_minute_dict  {480: [0], 495: [0], 510: [0, 2], 525: [0, 2], 540: [0, 2, 8], 555: [0, 2, 8], 570: [0, 2, 8, 1], 585: [0, 2, 8, 1, 5], 600: [0, 2, 8, 1, 5], 615: [0, 2, 8, 1, 5], 630: [0, 2, 8, 1, 5], 645: [0, 2, 8, 1, 5], 660: [0, 2, 8, 1, 5], 675: [0, 2, 8, 1, 5], 690: [0, 2, 8, 1, 6], 705: [0, 2, 8, 1, 6], 720: [2, 8, 1, 6], 735: [2, 8, 6], 750: [6, 4], 765: [6, 4, 9]}\n",
      "FUEL Charging BEV:  6\n",
      "FUEL Charging BEV:  4\n",
      "SET BEV DATA for current minute for ID BEV 6 for minute 780:  12.25\n",
      "SET BEV DATA for current minute for ID BEV 4 for minute 780:  12.25\n",
      "SET BEV DATA for current minute for ID BEV 9 for minute 780:  12.25\n",
      "Charging BEVs (nachdem neue Plätze belegt):  [6, 4, 9]\n",
      "Restladeenergie bis zur fairen Ladeenergie for BEV mit ID 6:  8.06378888888888\n",
      "Restladezeit:  39.49610884353737\n",
      "Restladeenergie bis zur fairen Ladeenergie for BEV mit ID 4:  23.975555555555538\n",
      "Restladezeit:  117.43129251700672\n",
      "Restladeenergie bis zur fairen Ladeenergie for BEV mit ID 9:  35.45712962962963\n",
      "Restladezeit:  173.66757369614513\n",
      "Charging BEVs:  [6, 4, 9]\n",
      "\n",
      "\n",
      "Minute:  795\n",
      "charging list per minute dict:  {480: [0], 495: [0], 510: [0, 2], 525: [0, 2], 540: [0, 2, 8], 555: [0, 2, 8], 570: [0, 2, 8, 1], 585: [0, 2, 8, 1, 5], 600: [0, 2, 8, 1, 5], 615: [0, 2, 8, 1, 5], 630: [0, 2, 8, 1, 5], 645: [0, 2, 8, 1, 5], 660: [0, 2, 8, 1, 5], 675: [0, 2, 8, 1, 5], 690: [0, 2, 8, 1, 6], 705: [0, 2, 8, 1, 6], 720: [2, 8, 1, 6], 735: [2, 8, 6], 750: [6, 4], 765: [6, 4, 9], 780: [6, 4, 9]}\n",
      "Waiting BEVs:  []\n",
      "Charging list after handling overload:  [6, 4, 9]\n",
      "Waiting BEVs after updating parking end:  []\n",
      "Charging BEVs after updating post optimization plan and parking end:  [6, 4, 9]\n",
      "charging_list_per_minute_dict  {480: [0], 495: [0], 510: [0, 2], 525: [0, 2], 540: [0, 2, 8], 555: [0, 2, 8], 570: [0, 2, 8, 1], 585: [0, 2, 8, 1, 5], 600: [0, 2, 8, 1, 5], 615: [0, 2, 8, 1, 5], 630: [0, 2, 8, 1, 5], 645: [0, 2, 8, 1, 5], 660: [0, 2, 8, 1, 5], 675: [0, 2, 8, 1, 5], 690: [0, 2, 8, 1, 6], 705: [0, 2, 8, 1, 6], 720: [2, 8, 1, 6], 735: [2, 8, 6], 750: [6, 4], 765: [6, 4, 9], 780: [6, 4, 9]}\n",
      "FUEL Charging BEV:  6\n",
      "FUEL Charging BEV:  4\n",
      "FUEL Charging BEV:  9\n",
      "SET BEV DATA for current minute for ID BEV 6 for minute 795:  12.75\n",
      "SET BEV DATA for current minute for ID BEV 4 for minute 795:  12.75\n",
      "SET BEV DATA for current minute for ID BEV 9 for minute 795:  12.75\n",
      "Charging BEVs (nachdem neue Plätze belegt):  [6, 4, 9]\n",
      "Restladeenergie bis zur fairen Ladeenergie for BEV mit ID 6:  5.00128888888888\n",
      "Restladezeit:  23.53547712418296\n",
      "Restladeenergie bis zur fairen Ladeenergie for BEV mit ID 4:  20.913055555555538\n",
      "Restladezeit:  98.41437908496724\n",
      "Restladeenergie bis zur fairen Ladeenergie for BEV mit ID 9:  32.39462962962963\n",
      "Restladezeit:  152.44531590413942\n",
      "Charging BEVs:  [6, 4, 9]\n",
      "\n",
      "\n",
      "Minute:  810\n",
      "charging list per minute dict:  {480: [0], 495: [0], 510: [0, 2], 525: [0, 2], 540: [0, 2, 8], 555: [0, 2, 8], 570: [0, 2, 8, 1], 585: [0, 2, 8, 1, 5], 600: [0, 2, 8, 1, 5], 615: [0, 2, 8, 1, 5], 630: [0, 2, 8, 1, 5], 645: [0, 2, 8, 1, 5], 660: [0, 2, 8, 1, 5], 675: [0, 2, 8, 1, 5], 690: [0, 2, 8, 1, 6], 705: [0, 2, 8, 1, 6], 720: [2, 8, 1, 6], 735: [2, 8, 6], 750: [6, 4], 765: [6, 4, 9], 780: [6, 4, 9], 795: [6, 4, 9]}\n",
      "Waiting BEVs:  []\n",
      "Charging list after handling overload:  [6, 4, 9]\n",
      "Waiting BEVs after updating parking end:  []\n",
      "Charging BEVs after updating post optimization plan and parking end:  [6, 4, 9]\n",
      "charging_list_per_minute_dict  {480: [0], 495: [0], 510: [0, 2], 525: [0, 2], 540: [0, 2, 8], 555: [0, 2, 8], 570: [0, 2, 8, 1], 585: [0, 2, 8, 1, 5], 600: [0, 2, 8, 1, 5], 615: [0, 2, 8, 1, 5], 630: [0, 2, 8, 1, 5], 645: [0, 2, 8, 1, 5], 660: [0, 2, 8, 1, 5], 675: [0, 2, 8, 1, 5], 690: [0, 2, 8, 1, 6], 705: [0, 2, 8, 1, 6], 720: [2, 8, 1, 6], 735: [2, 8, 6], 750: [6, 4], 765: [6, 4, 9], 780: [6, 4, 9], 795: [6, 4, 9]}\n",
      "FUEL Charging BEV:  6\n",
      "FUEL Charging BEV:  4\n",
      "FUEL Charging BEV:  9\n",
      "SET BEV DATA for current minute for ID BEV 6 for minute 810:  13.25\n",
      "SET BEV DATA for current minute for ID BEV 4 for minute 810:  13.25\n",
      "SET BEV DATA for current minute for ID BEV 9 for minute 810:  13.25\n",
      "Charging BEVs (nachdem neue Plätze belegt):  [6, 4, 9]\n",
      "Restladeenergie bis zur fairen Ladeenergie for BEV mit ID 6:  1.8137888888888796\n",
      "Restladezeit:  8.213383647798699\n",
      "Die Restladezeit des BEVS 6 endet vor dem nächsten Interval\n",
      "SET BEV DATA after charging time over for ID BEV 6 for minute 818.2133836477987:  13.273333333333333\n",
      "Restladeenergie bis zur fairen Ladeenergie for BEV mit ID 4:  17.120959259259244\n",
      "Restladezeit:  77.52887211740035\n",
      "Restladeenergie bis zur fairen Ladeenergie for BEV mit ID 9:  28.602533333333334\n",
      "Restladezeit:  129.52090566037734\n",
      "Charging BEVs:  [6, 4, 9]\n",
      "\n",
      "\n",
      "Minute:  825\n",
      "charging list per minute dict:  {480: [0], 495: [0], 510: [0, 2], 525: [0, 2], 540: [0, 2, 8], 555: [0, 2, 8], 570: [0, 2, 8, 1], 585: [0, 2, 8, 1, 5], 600: [0, 2, 8, 1, 5], 615: [0, 2, 8, 1, 5], 630: [0, 2, 8, 1, 5], 645: [0, 2, 8, 1, 5], 660: [0, 2, 8, 1, 5], 675: [0, 2, 8, 1, 5], 690: [0, 2, 8, 1, 6], 705: [0, 2, 8, 1, 6], 720: [2, 8, 1, 6], 735: [2, 8, 6], 750: [6, 4], 765: [6, 4, 9], 780: [6, 4, 9], 795: [6, 4, 9], 810: [6, 4, 9]}\n",
      "Waiting BEVs:  []\n",
      "Charging list after handling overload:  [4, 9]\n",
      "Waiting BEVs after updating parking end:  []\n",
      "Charging BEVs after updating post optimization plan and parking end:  [4, 9]\n"
     ]
    },
    {
     "name": "stdout",
     "output_type": "stream",
     "text": [
      "charging_list_per_minute_dict  {480: [0], 495: [0], 510: [0, 2], 525: [0, 2], 540: [0, 2, 8], 555: [0, 2, 8], 570: [0, 2, 8, 1], 585: [0, 2, 8, 1, 5], 600: [0, 2, 8, 1, 5], 615: [0, 2, 8, 1, 5], 630: [0, 2, 8, 1, 5], 645: [0, 2, 8, 1, 5], 660: [0, 2, 8, 1, 5], 675: [0, 2, 8, 1, 5], 690: [0, 2, 8, 1, 6], 705: [0, 2, 8, 1, 6], 720: [2, 8, 1, 6], 735: [2, 8, 6], 750: [6, 4], 765: [6, 4, 9], 780: [6, 4, 9], 795: [6, 4, 9], 810: [6, 4, 9]}\n",
      "FUEL Charging BEV:  4\n",
      "FUEL Charging BEV:  9\n",
      "SET BEV DATA for current minute for ID BEV 4 for minute 825:  20.625\n",
      "SET BEV DATA for current minute for ID BEV 9 for minute 825:  20.625\n",
      "Charging BEVs (nachdem neue Plätze belegt):  [4, 9]\n",
      "Restladeenergie bis zur fairen Ladeenergie for BEV mit ID 4:  13.808459259259244\n",
      "Restladezeit:  40.170063299663255\n",
      "Restladeenergie bis zur fairen Ladeenergie for BEV mit ID 9:  25.290033333333334\n",
      "Restladezeit:  73.57100606060607\n",
      "Charging BEVs:  [4, 9]\n",
      "\n",
      "\n",
      "Minute:  840\n",
      "charging list per minute dict:  {480: [0], 495: [0], 510: [0, 2], 525: [0, 2], 540: [0, 2, 8], 555: [0, 2, 8], 570: [0, 2, 8, 1], 585: [0, 2, 8, 1, 5], 600: [0, 2, 8, 1, 5], 615: [0, 2, 8, 1, 5], 630: [0, 2, 8, 1, 5], 645: [0, 2, 8, 1, 5], 660: [0, 2, 8, 1, 5], 675: [0, 2, 8, 1, 5], 690: [0, 2, 8, 1, 6], 705: [0, 2, 8, 1, 6], 720: [2, 8, 1, 6], 735: [2, 8, 6], 750: [6, 4], 765: [6, 4, 9], 780: [6, 4, 9], 795: [6, 4, 9], 810: [6, 4, 9], 825: [4, 9]}\n",
      "Waiting BEVs:  []\n",
      "stop parking at interval_minute for  4\n",
      "Charging list after handling overload:  [9]\n",
      "BEV 4 CHARGING END FROM POST OPTI in minute\n",
      "Waiting BEVs after updating parking end:  []\n",
      "Charging BEVs after updating post optimization plan and parking end:  [9]\n",
      "charging_list_per_minute_dict  {480: [0], 495: [0], 510: [0, 2], 525: [0, 2], 540: [0, 2, 8], 555: [0, 2, 8], 570: [0, 2, 8, 1], 585: [0, 2, 8, 1, 5], 600: [0, 2, 8, 1, 5], 615: [0, 2, 8, 1, 5], 630: [0, 2, 8, 1, 5], 645: [0, 2, 8, 1, 5], 660: [0, 2, 8, 1, 5], 675: [0, 2, 8, 1, 5], 690: [0, 2, 8, 1, 6], 705: [0, 2, 8, 1, 6], 720: [2, 8, 1, 6], 735: [2, 8, 6], 750: [6, 4], 765: [6, 4, 9], 780: [6, 4, 9], 795: [6, 4, 9], 810: [6, 4, 9], 825: [4, 9]}\n",
      "FUEL Charging BEV:  9\n",
      "SET BEV DATA for current minute for ID BEV 9 for minute 840:  39.0\n",
      "Charging BEVs (nachdem neue Plätze belegt):  [9]\n",
      "Restladeenergie bis zur fairen Ladeenergie for BEV mit ID 9:  20.133783333333334\n",
      "Restladezeit:  30.975051282051286\n",
      "Charging BEVs:  [9]\n",
      "\n",
      "\n",
      "Minute:  855\n",
      "charging list per minute dict:  {480: [0], 495: [0], 510: [0, 2], 525: [0, 2], 540: [0, 2, 8], 555: [0, 2, 8], 570: [0, 2, 8, 1], 585: [0, 2, 8, 1, 5], 600: [0, 2, 8, 1, 5], 615: [0, 2, 8, 1, 5], 630: [0, 2, 8, 1, 5], 645: [0, 2, 8, 1, 5], 660: [0, 2, 8, 1, 5], 675: [0, 2, 8, 1, 5], 690: [0, 2, 8, 1, 6], 705: [0, 2, 8, 1, 6], 720: [2, 8, 1, 6], 735: [2, 8, 6], 750: [6, 4], 765: [6, 4, 9], 780: [6, 4, 9], 795: [6, 4, 9], 810: [6, 4, 9], 825: [4, 9], 840: [9]}\n",
      "Waiting BEVs:  []\n",
      "Charging list after handling overload:  [9]\n",
      "SET BEV DATA charging start between intervals for ID BEV 3 for minute 859.9090909090909:  11.0\n",
      "SET BEV DATA charging start between intervals for ID BEV 7 for minute 863.3681818181818:  11.0\n",
      "Waiting BEVs after updating parking end:  []\n",
      "Charging BEVs after updating post optimization plan and parking end:  [9]\n",
      "charging_list_per_minute_dict  {480: [0], 495: [0], 510: [0, 2], 525: [0, 2], 540: [0, 2, 8], 555: [0, 2, 8], 570: [0, 2, 8, 1], 585: [0, 2, 8, 1, 5], 600: [0, 2, 8, 1, 5], 615: [0, 2, 8, 1, 5], 630: [0, 2, 8, 1, 5], 645: [0, 2, 8, 1, 5], 660: [0, 2, 8, 1, 5], 675: [0, 2, 8, 1, 5], 690: [0, 2, 8, 1, 6], 705: [0, 2, 8, 1, 6], 720: [2, 8, 1, 6], 735: [2, 8, 6], 750: [6, 4], 765: [6, 4, 9], 780: [6, 4, 9], 795: [6, 4, 9], 810: [6, 4, 9], 825: [4, 9], 840: [9]}\n",
      "FUEL Charging BEV:  9\n",
      "SET BEV DATA for current minute for ID BEV 9 for minute 855:  11.0\n",
      "Charging BEVs (nachdem neue Plätze belegt):  [9]\n",
      "Restladeenergie bis zur fairen Ladeenergie for BEV mit ID 9:  10.383783333333334\n",
      "Restladezeit:  56.63881818181818\n",
      "Charging BEVs:  [9]\n",
      "\n",
      "\n",
      "Minute:  870\n",
      "charging list per minute dict:  {480: [0], 495: [0], 510: [0, 2], 525: [0, 2], 540: [0, 2, 8], 555: [0, 2, 8], 570: [0, 2, 8, 1], 585: [0, 2, 8, 1, 5], 600: [0, 2, 8, 1, 5], 615: [0, 2, 8, 1, 5], 630: [0, 2, 8, 1, 5], 645: [0, 2, 8, 1, 5], 660: [0, 2, 8, 1, 5], 675: [0, 2, 8, 1, 5], 690: [0, 2, 8, 1, 6], 705: [0, 2, 8, 1, 6], 720: [2, 8, 1, 6], 735: [2, 8, 6], 750: [6, 4], 765: [6, 4, 9], 780: [6, 4, 9], 795: [6, 4, 9], 810: [6, 4, 9], 825: [4, 9], 840: [9], 855: [9, 3, 7]}\n",
      "Waiting BEVs:  []\n",
      "Charging list after handling overload:  [9, 3, 7]\n",
      "Waiting BEVs after updating parking end:  []\n",
      "Charging BEVs after updating post optimization plan and parking end:  [9, 3, 7]\n",
      "charging_list_per_minute_dict  {480: [0], 495: [0], 510: [0, 2], 525: [0, 2], 540: [0, 2, 8], 555: [0, 2, 8], 570: [0, 2, 8, 1], 585: [0, 2, 8, 1, 5], 600: [0, 2, 8, 1, 5], 615: [0, 2, 8, 1, 5], 630: [0, 2, 8, 1, 5], 645: [0, 2, 8, 1, 5], 660: [0, 2, 8, 1, 5], 675: [0, 2, 8, 1, 5], 690: [0, 2, 8, 1, 6], 705: [0, 2, 8, 1, 6], 720: [2, 8, 1, 6], 735: [2, 8, 6], 750: [6, 4], 765: [6, 4, 9], 780: [6, 4, 9], 795: [6, 4, 9], 810: [6, 4, 9], 825: [4, 9], 840: [9], 855: [9, 3, 7]}\n",
      "FUEL Charging BEV:  9\n",
      "SET BEV DATA for current minute for ID BEV 9 for minute 870:  9.0\n",
      "SET BEV DATA for current minute for ID BEV 3 for minute 870:  9.0\n",
      "SET BEV DATA for current minute for ID BEV 7 for minute 870:  9.0\n",
      "Charging BEVs (nachdem neue Plätze belegt):  [9, 3, 7]\n",
      "Restladeenergie bis zur fairen Ladeenergie for BEV mit ID 9:  7.633783333333334\n",
      "Restladezeit:  50.89188888888889\n",
      "Restladeenergie bis zur fairen Ladeenergie for BEV mit ID 3:  12.889999999999997\n",
      "Restladezeit:  85.93333333333331\n",
      "Restladeenergie bis zur fairen Ladeenergie for BEV mit ID 7:  10.976666666666668\n",
      "Restladezeit:  73.17777777777779\n",
      "Charging BEVs:  [9, 3, 7]\n",
      "\n",
      "\n",
      "Minute:  885\n",
      "charging list per minute dict:  {480: [0], 495: [0], 510: [0, 2], 525: [0, 2], 540: [0, 2, 8], 555: [0, 2, 8], 570: [0, 2, 8, 1], 585: [0, 2, 8, 1, 5], 600: [0, 2, 8, 1, 5], 615: [0, 2, 8, 1, 5], 630: [0, 2, 8, 1, 5], 645: [0, 2, 8, 1, 5], 660: [0, 2, 8, 1, 5], 675: [0, 2, 8, 1, 5], 690: [0, 2, 8, 1, 6], 705: [0, 2, 8, 1, 6], 720: [2, 8, 1, 6], 735: [2, 8, 6], 750: [6, 4], 765: [6, 4, 9], 780: [6, 4, 9], 795: [6, 4, 9], 810: [6, 4, 9], 825: [4, 9], 840: [9], 855: [9, 3, 7], 870: [9, 3, 7]}\n",
      "Waiting BEVs:  []\n",
      "Charging list after handling overload:  [9, 3, 7]\n",
      "BEV 9 CHARGING END FROM POST OPTI in minute\n",
      "Waiting BEVs after updating parking end:  []\n",
      "Charging BEVs after updating post optimization plan and parking end:  [9, 3, 7]\n",
      "charging_list_per_minute_dict  {480: [0], 495: [0], 510: [0, 2], 525: [0, 2], 540: [0, 2, 8], 555: [0, 2, 8], 570: [0, 2, 8, 1], 585: [0, 2, 8, 1, 5], 600: [0, 2, 8, 1, 5], 615: [0, 2, 8, 1, 5], 630: [0, 2, 8, 1, 5], 645: [0, 2, 8, 1, 5], 660: [0, 2, 8, 1, 5], 675: [0, 2, 8, 1, 5], 690: [0, 2, 8, 1, 6], 705: [0, 2, 8, 1, 6], 720: [2, 8, 1, 6], 735: [2, 8, 6], 750: [6, 4], 765: [6, 4, 9], 780: [6, 4, 9], 795: [6, 4, 9], 810: [6, 4, 9], 825: [4, 9], 840: [9], 855: [9, 3, 7], 870: [9, 3, 7]}\n",
      "FUEL Charging BEV:  9\n",
      "FUEL Charging BEV:  3\n",
      "FUEL Charging BEV:  7\n",
      "SET BEV DATA for current minute for ID BEV 9 for minute 885:  7.0\n",
      "SET BEV DATA for current minute for ID BEV 3 for minute 885:  7.0\n",
      "SET BEV DATA for current minute for ID BEV 7 for minute 885:  7.0\n",
      "Charging BEVs (nachdem neue Plätze belegt):  [9, 3, 7]\n",
      "Restladeenergie bis zur fairen Ladeenergie for BEV mit ID 9:  5.383783333333334\n",
      "Restladezeit:  46.14671428571429\n",
      "Restladeenergie bis zur fairen Ladeenergie for BEV mit ID 3:  10.639999999999997\n",
      "Restladezeit:  91.19999999999997\n",
      "Restladeenergie bis zur fairen Ladeenergie for BEV mit ID 7:  8.726666666666668\n",
      "Restladezeit:  74.80000000000001\n",
      "Charging BEVs:  [9, 3, 7]\n",
      "\n",
      "\n",
      "Minute:  900\n",
      "charging list per minute dict:  {480: [0], 495: [0], 510: [0, 2], 525: [0, 2], 540: [0, 2, 8], 555: [0, 2, 8], 570: [0, 2, 8, 1], 585: [0, 2, 8, 1, 5], 600: [0, 2, 8, 1, 5], 615: [0, 2, 8, 1, 5], 630: [0, 2, 8, 1, 5], 645: [0, 2, 8, 1, 5], 660: [0, 2, 8, 1, 5], 675: [0, 2, 8, 1, 5], 690: [0, 2, 8, 1, 6], 705: [0, 2, 8, 1, 6], 720: [2, 8, 1, 6], 735: [2, 8, 6], 750: [6, 4], 765: [6, 4, 9], 780: [6, 4, 9], 795: [6, 4, 9], 810: [6, 4, 9], 825: [4, 9], 840: [9], 855: [9, 3, 7], 870: [9, 3, 7], 885: [9, 3, 7]}\n",
      "Waiting BEVs:  []\n",
      "Charging list after handling overload:  [3, 7]\n",
      "Waiting BEVs after updating parking end:  []\n",
      "Charging BEVs after updating post optimization plan and parking end:  [3, 7]\n",
      "charging_list_per_minute_dict  {480: [0], 495: [0], 510: [0, 2], 525: [0, 2], 540: [0, 2, 8], 555: [0, 2, 8], 570: [0, 2, 8, 1], 585: [0, 2, 8, 1, 5], 600: [0, 2, 8, 1, 5], 615: [0, 2, 8, 1, 5], 630: [0, 2, 8, 1, 5], 645: [0, 2, 8, 1, 5], 660: [0, 2, 8, 1, 5], 675: [0, 2, 8, 1, 5], 690: [0, 2, 8, 1, 6], 705: [0, 2, 8, 1, 6], 720: [2, 8, 1, 6], 735: [2, 8, 6], 750: [6, 4], 765: [6, 4, 9], 780: [6, 4, 9], 795: [6, 4, 9], 810: [6, 4, 9], 825: [4, 9], 840: [9], 855: [9, 3, 7], 870: [9, 3, 7], 885: [9, 3, 7]}\n",
      "FUEL Charging BEV:  3\n",
      "FUEL Charging BEV:  7\n",
      "SET BEV DATA for current minute for ID BEV 3 for minute 900:  8.44\n",
      "SET BEV DATA for current minute for ID BEV 7 for minute 900:  8.44\n",
      "Charging BEVs (nachdem neue Plätze belegt):  [3, 7]\n",
      "Restladeenergie bis zur fairen Ladeenergie for BEV mit ID 3:  8.889999999999997\n",
      "Restladezeit:  63.19905213270141\n",
      "Restladeenergie bis zur fairen Ladeenergie for BEV mit ID 7:  6.976666666666668\n",
      "Restladezeit:  49.59715639810428\n",
      "Charging BEVs:  [3, 7]\n",
      "\n",
      "\n",
      "Minute:  915\n",
      "charging list per minute dict:  {480: [0], 495: [0], 510: [0, 2], 525: [0, 2], 540: [0, 2, 8], 555: [0, 2, 8], 570: [0, 2, 8, 1], 585: [0, 2, 8, 1, 5], 600: [0, 2, 8, 1, 5], 615: [0, 2, 8, 1, 5], 630: [0, 2, 8, 1, 5], 645: [0, 2, 8, 1, 5], 660: [0, 2, 8, 1, 5], 675: [0, 2, 8, 1, 5], 690: [0, 2, 8, 1, 6], 705: [0, 2, 8, 1, 6], 720: [2, 8, 1, 6], 735: [2, 8, 6], 750: [6, 4], 765: [6, 4, 9], 780: [6, 4, 9], 795: [6, 4, 9], 810: [6, 4, 9], 825: [4, 9], 840: [9], 855: [9, 3, 7], 870: [9, 3, 7], 885: [9, 3, 7], 900: [3, 7]}\n",
      "Waiting BEVs:  []\n",
      "Charging list after handling overload:  [3, 7]\n",
      "Waiting BEVs after updating parking end:  []\n",
      "Charging BEVs after updating post optimization plan and parking end:  [3, 7]\n",
      "charging_list_per_minute_dict  {480: [0], 495: [0], 510: [0, 2], 525: [0, 2], 540: [0, 2, 8], 555: [0, 2, 8], 570: [0, 2, 8, 1], 585: [0, 2, 8, 1, 5], 600: [0, 2, 8, 1, 5], 615: [0, 2, 8, 1, 5], 630: [0, 2, 8, 1, 5], 645: [0, 2, 8, 1, 5], 660: [0, 2, 8, 1, 5], 675: [0, 2, 8, 1, 5], 690: [0, 2, 8, 1, 6], 705: [0, 2, 8, 1, 6], 720: [2, 8, 1, 6], 735: [2, 8, 6], 750: [6, 4], 765: [6, 4, 9], 780: [6, 4, 9], 795: [6, 4, 9], 810: [6, 4, 9], 825: [4, 9], 840: [9], 855: [9, 3, 7], 870: [9, 3, 7], 885: [9, 3, 7], 900: [3, 7]}\n",
      "FUEL Charging BEV:  3\n",
      "FUEL Charging BEV:  7\n",
      "SET BEV DATA for current minute for ID BEV 3 for minute 915:  7.31\n",
      "SET BEV DATA for current minute for ID BEV 7 for minute 915:  7.31\n",
      "Charging BEVs (nachdem neue Plätze belegt):  [3, 7]\n",
      "Restladeenergie bis zur fairen Ladeenergie for BEV mit ID 3:  6.779999999999996\n",
      "Restladezeit:  55.649794801641555\n",
      "Restladeenergie bis zur fairen Ladeenergie for BEV mit ID 7:  4.866666666666669\n",
      "Restladezeit:  39.94528043775652\n",
      "Charging BEVs:  [3, 7]\n",
      "\n",
      "\n",
      "Minute:  930\n",
      "charging list per minute dict:  {480: [0], 495: [0], 510: [0, 2], 525: [0, 2], 540: [0, 2, 8], 555: [0, 2, 8], 570: [0, 2, 8, 1], 585: [0, 2, 8, 1, 5], 600: [0, 2, 8, 1, 5], 615: [0, 2, 8, 1, 5], 630: [0, 2, 8, 1, 5], 645: [0, 2, 8, 1, 5], 660: [0, 2, 8, 1, 5], 675: [0, 2, 8, 1, 5], 690: [0, 2, 8, 1, 6], 705: [0, 2, 8, 1, 6], 720: [2, 8, 1, 6], 735: [2, 8, 6], 750: [6, 4], 765: [6, 4, 9], 780: [6, 4, 9], 795: [6, 4, 9], 810: [6, 4, 9], 825: [4, 9], 840: [9], 855: [9, 3, 7], 870: [9, 3, 7], 885: [9, 3, 7], 900: [3, 7], 915: [3, 7]}\n",
      "Waiting BEVs:  []\n",
      "Charging list after handling overload:  [3, 7]\n",
      "Waiting BEVs after updating parking end:  []\n",
      "Charging BEVs after updating post optimization plan and parking end:  [3, 7]\n",
      "charging_list_per_minute_dict  {480: [0], 495: [0], 510: [0, 2], 525: [0, 2], 540: [0, 2, 8], 555: [0, 2, 8], 570: [0, 2, 8, 1], 585: [0, 2, 8, 1, 5], 600: [0, 2, 8, 1, 5], 615: [0, 2, 8, 1, 5], 630: [0, 2, 8, 1, 5], 645: [0, 2, 8, 1, 5], 660: [0, 2, 8, 1, 5], 675: [0, 2, 8, 1, 5], 690: [0, 2, 8, 1, 6], 705: [0, 2, 8, 1, 6], 720: [2, 8, 1, 6], 735: [2, 8, 6], 750: [6, 4], 765: [6, 4, 9], 780: [6, 4, 9], 795: [6, 4, 9], 810: [6, 4, 9], 825: [4, 9], 840: [9], 855: [9, 3, 7], 870: [9, 3, 7], 885: [9, 3, 7], 900: [3, 7], 915: [3, 7]}\n",
      "FUEL Charging BEV:  3\n",
      "FUEL Charging BEV:  7\n",
      "SET BEV DATA for current minute for ID BEV 3 for minute 930:  6.19\n",
      "SET BEV DATA for current minute for ID BEV 7 for minute 930:  6.19\n",
      "Charging BEVs (nachdem neue Plätze belegt):  [3, 7]\n"
     ]
    },
    {
     "name": "stdout",
     "output_type": "stream",
     "text": [
      "Restladeenergie bis zur fairen Ladeenergie for BEV mit ID 3:  4.952499999999995\n",
      "Restladezeit:  48.00484652665585\n",
      "Restladeenergie bis zur fairen Ladeenergie for BEV mit ID 7:  3.0391666666666683\n",
      "Restladezeit:  29.45880452342489\n",
      "Charging BEVs:  [3, 7]\n",
      "\n",
      "\n",
      "Minute:  945\n",
      "charging list per minute dict:  {480: [0], 495: [0], 510: [0, 2], 525: [0, 2], 540: [0, 2, 8], 555: [0, 2, 8], 570: [0, 2, 8, 1], 585: [0, 2, 8, 1, 5], 600: [0, 2, 8, 1, 5], 615: [0, 2, 8, 1, 5], 630: [0, 2, 8, 1, 5], 645: [0, 2, 8, 1, 5], 660: [0, 2, 8, 1, 5], 675: [0, 2, 8, 1, 5], 690: [0, 2, 8, 1, 6], 705: [0, 2, 8, 1, 6], 720: [2, 8, 1, 6], 735: [2, 8, 6], 750: [6, 4], 765: [6, 4, 9], 780: [6, 4, 9], 795: [6, 4, 9], 810: [6, 4, 9], 825: [4, 9], 840: [9], 855: [9, 3, 7], 870: [9, 3, 7], 885: [9, 3, 7], 900: [3, 7], 915: [3, 7], 930: [3, 7]}\n",
      "Waiting BEVs:  []\n",
      "SET BEV DATA after charging time over for ID BEV 3 for minute 945:  5.625\n",
      "Removed from charging list because of overload:  3\n",
      "Charging list after handling overload:  [7]\n",
      "BEV 3 CHARGING END FROM POST OPTI in minute\n",
      "BEV 7 CHARGING END FROM POST OPTI in minute\n",
      "Waiting BEVs after updating parking end:  []\n",
      "Charging BEVs after updating post optimization plan and parking end:  [7]\n",
      "charging_list_per_minute_dict  {480: [0], 495: [0], 510: [0, 2], 525: [0, 2], 540: [0, 2, 8], 555: [0, 2, 8], 570: [0, 2, 8, 1], 585: [0, 2, 8, 1, 5], 600: [0, 2, 8, 1, 5], 615: [0, 2, 8, 1, 5], 630: [0, 2, 8, 1, 5], 645: [0, 2, 8, 1, 5], 660: [0, 2, 8, 1, 5], 675: [0, 2, 8, 1, 5], 690: [0, 2, 8, 1, 6], 705: [0, 2, 8, 1, 6], 720: [2, 8, 1, 6], 735: [2, 8, 6], 750: [6, 4], 765: [6, 4, 9], 780: [6, 4, 9], 795: [6, 4, 9], 810: [6, 4, 9], 825: [4, 9], 840: [9], 855: [9, 3, 7], 870: [9, 3, 7], 885: [9, 3, 7], 900: [3, 7], 915: [3, 7], 930: [3, 7]}\n",
      "FUEL Charging BEV:  7\n",
      "SET BEV DATA for current minute for ID BEV 7 for minute 945:  10.12\n",
      "Charging BEVs (nachdem neue Plätze belegt):  [7]\n",
      "Restladeenergie bis zur fairen Ladeenergie for BEV mit ID 7:  1.491666666666669\n",
      "Restladezeit:  8.843873517786577\n",
      "Die Restladezeit des BEVS 7 endet vor dem nächsten Interval\n",
      "SET BEV DATA after charging time over for ID BEV 7 for minute 953.8438735177866:  9.92\n",
      "Charging BEVs:  [7]\n",
      "\n",
      "\n",
      "Minute:  960\n",
      "charging list per minute dict:  {480: [0], 495: [0], 510: [0, 2], 525: [0, 2], 540: [0, 2, 8], 555: [0, 2, 8], 570: [0, 2, 8, 1], 585: [0, 2, 8, 1, 5], 600: [0, 2, 8, 1, 5], 615: [0, 2, 8, 1, 5], 630: [0, 2, 8, 1, 5], 645: [0, 2, 8, 1, 5], 660: [0, 2, 8, 1, 5], 675: [0, 2, 8, 1, 5], 690: [0, 2, 8, 1, 6], 705: [0, 2, 8, 1, 6], 720: [2, 8, 1, 6], 735: [2, 8, 6], 750: [6, 4], 765: [6, 4, 9], 780: [6, 4, 9], 795: [6, 4, 9], 810: [6, 4, 9], 825: [4, 9], 840: [9], 855: [9, 3, 7], 870: [9, 3, 7], 885: [9, 3, 7], 900: [3, 7], 915: [3, 7], 930: [3, 7], 945: [7]}\n",
      "Waiting BEVs:  []\n",
      "Charging list after handling overload:  []\n",
      "Waiting BEVs after updating parking end:  []\n",
      "Charging BEVs after updating post optimization plan and parking end:  []\n",
      "charging_list_per_minute_dict  {480: [0], 495: [0], 510: [0, 2], 525: [0, 2], 540: [0, 2, 8], 555: [0, 2, 8], 570: [0, 2, 8, 1], 585: [0, 2, 8, 1, 5], 600: [0, 2, 8, 1, 5], 615: [0, 2, 8, 1, 5], 630: [0, 2, 8, 1, 5], 645: [0, 2, 8, 1, 5], 660: [0, 2, 8, 1, 5], 675: [0, 2, 8, 1, 5], 690: [0, 2, 8, 1, 6], 705: [0, 2, 8, 1, 6], 720: [2, 8, 1, 6], 735: [2, 8, 6], 750: [6, 4], 765: [6, 4, 9], 780: [6, 4, 9], 795: [6, 4, 9], 810: [6, 4, 9], 825: [4, 9], 840: [9], 855: [9, 3, 7], 870: [9, 3, 7], 885: [9, 3, 7], 900: [3, 7], 915: [3, 7], 930: [3, 7], 945: [7]}\n",
      "Charging BEVs (nachdem neue Plätze belegt):  []\n",
      "Charging BEVs:  []\n",
      "LAST INTERVAL CHECKKKKK\n",
      "stopped_charging_last_interval:  []\n",
      "bevs_charging_start_last_interval_already_fueled:  []\n",
      "charging_list_per_minute_dict  {480: [0], 495: [0], 510: [0, 2], 525: [0, 2], 540: [0, 2, 8], 555: [0, 2, 8], 570: [0, 2, 8, 1], 585: [0, 2, 8, 1, 5], 600: [0, 2, 8, 1, 5], 615: [0, 2, 8, 1, 5], 630: [0, 2, 8, 1, 5], 645: [0, 2, 8, 1, 5], 660: [0, 2, 8, 1, 5], 675: [0, 2, 8, 1, 5], 690: [0, 2, 8, 1, 6], 705: [0, 2, 8, 1, 6], 720: [2, 8, 1, 6], 735: [2, 8, 6], 750: [6, 4], 765: [6, 4, 9], 780: [6, 4, 9], 795: [6, 4, 9], 810: [6, 4, 9], 825: [4, 9], 840: [9], 855: [9, 3, 7], 870: [9, 3, 7], 885: [9, 3, 7], 900: [3, 7], 915: [3, 7], 930: [3, 7], 945: [7], 960: []}\n"
     ]
    }
   ],
   "source": [
    "import simulationClasses\n",
    "import simulationData\n",
    "import simulationOutputDataVisualisation\n",
    "import distributionAlgorithmForecastPolling\n",
    "import postOptimization\n",
    "import numpy as np\n",
    "\n",
    "simulation_day = simulationClasses.SimulationDay(anzahl_bevs_pro_tag)\n",
    "bev_data = simulationData.BevData()\n",
    "table_dict = simulationData.TableDict()\n",
    "simulation_data = simulationData.SimulationData()\n",
    "    \n",
    "day_in_minute_interval_steps = list(np.around(np.arange(480, 960 + 1, minute_interval), 1))\n",
    "distributionAlgorithmForecastPolling.init_simulation(day_in_minute_interval_steps, minute_interval, simulation_data, \n",
    "                                                   simulation_day, solarpeakleistung)\n",
    "\n",
    "postOptimization.start_post_optimization(minute_interval, simulation_day, solarpeakleistung, bev_data, table_dict, simulation_data,\n",
    "                ladeleistung_pro_bev)\n",
    "\n",
    "distributionAlgorithmForecastPolling.start_simulation(solarpeakleistung, ladeleistung_pro_bev,\n",
    "                     simulation_day, bev_data, table_dict, simulation_data, minute_interval)"
   ]
  },
  {
   "cell_type": "markdown",
   "metadata": {},
   "source": [
    "### Ergebnis Algorithmus"
   ]
  },
  {
   "cell_type": "code",
   "execution_count": 4,
   "metadata": {
    "pycharm": {
     "is_executing": true
    }
   },
   "outputs": [
    {
     "data": {
      "text/markdown": [
       ">**Ergebnis**<br>Geladene BEVs: 10 von 10<br>Verfügbare Solarenergie insgesamt: 276.47 kWh<br>Aufgeladene Solarenergie insgesamt: 255.31 kWh<br>Ungenutzte Solarenergie insgesamt: 21.16 kWh"
      ],
      "text/plain": [
       "<IPython.core.display.Markdown object>"
      ]
     },
     "execution_count": 4,
     "metadata": {},
     "output_type": "execute_result"
    }
   ],
   "source": [
    "simulationOutputDataVisualisation.print_algorithm_result(bev_data, simulation_data, anzahl_bevs_pro_tag, solarpeakleistung, minute_interval)"
   ]
  },
  {
   "cell_type": "markdown",
   "metadata": {},
   "source": [
    "### Tabellarische Übersicht Park- und Ladeverlauf der BEVs"
   ]
  },
  {
   "cell_type": "code",
   "execution_count": 5,
   "metadata": {
    "pycharm": {
     "is_executing": true
    }
   },
   "outputs": [
    {
     "data": {
      "application/vnd.jupyter.widget-view+json": {
       "model_id": "",
       "version_major": 2,
       "version_minor": 0
      },
      "text/plain": [
       "interactive(children=(IntSlider(value=480, description='Minute: ', max=960, min=480, step=15), Output()), _dom…"
      ]
     },
     "metadata": {},
     "output_type": "display_data"
    }
   ],
   "source": [
    "simulationOutputDataVisualisation.create_tabular_overview_per_minute_slider(table_dict, minute_interval)"
   ]
  },
  {
   "cell_type": "code",
   "execution_count": 6,
   "metadata": {
    "pycharm": {
     "is_executing": true
    }
   },
   "outputs": [],
   "source": [
    "import figureGeneration\n",
    "# NICHT MEHR RICHTIG, da BEVs aus post optimization aktuell nicht auf der Warteliste landen\n",
    "# figureGeneration.create_bev_number_figure(simulation_data)"
   ]
  },
  {
   "cell_type": "code",
   "execution_count": 7,
   "metadata": {
    "pycharm": {
     "is_executing": true
    }
   },
   "outputs": [
    {
     "data": {
      "application/vnd.plotly.v1+json": {
       "config": {
        "plotlyServerURL": "https://plot.ly"
       },
       "data": [
        {
         "line": {
          "color": "orange"
         },
         "name": "Verfügbare Solarleistung",
         "type": "scatter",
         "x": [
          480,
          495,
          510,
          525,
          540,
          555,
          570,
          585,
          600,
          615,
          630,
          645,
          660,
          675,
          690,
          705,
          720,
          735,
          750,
          765,
          780,
          795,
          810,
          825,
          840,
          855,
          870,
          885,
          900,
          915,
          930,
          945,
          960
         ],
         "y": [
          -2,
          3.25,
          8.5,
          13.749999999999998,
          19,
          27,
          35,
          43,
          51,
          50.75,
          50.5,
          50.25,
          50,
          51.25,
          52.5,
          53.75,
          55,
          50.25,
          45.5,
          40.75,
          36,
          37.5,
          39,
          40.5,
          42,
          36,
          30,
          24,
          18,
          15.75,
          13.5,
          11.25,
          9
         ]
        },
        {
         "line": {
          "color": "green"
         },
         "mode": "lines",
         "name": "ID BEV 0",
         "type": "scatter",
         "x": [
          480,
          480,
          495,
          510,
          525,
          540,
          555,
          570,
          585,
          600,
          615,
          630,
          645,
          660,
          675,
          690,
          705,
          711.8352335417433,
          711.8352335417433
         ],
         "y": [
          0,
          0.62,
          5.87,
          5.56,
          8.19,
          7.666666666666667,
          10.333333333333334,
          9.75,
          9.4,
          10.176,
          10.123999999999999,
          10.076,
          10.024,
          10.123999999999999,
          10.376000000000001,
          10.623999999999999,
          10.876000000000001,
          10.864,
          0
         ]
        },
        {
         "line": {
          "color": "green"
         },
         "mode": "lines",
         "name": "ID BEV 2",
         "type": "scatter",
         "x": [
          510,
          510,
          525,
          540,
          555,
          570,
          585,
          600,
          615,
          630,
          645,
          660,
          675,
          690,
          705,
          720,
          735,
          736.3360902255639,
          736.3360902255639
         ],
         "y": [
          0,
          11.12,
          16.38,
          15.333333333333334,
          20.666666666666668,
          19.5,
          18.8,
          20.352,
          20.247999999999998,
          20.152,
          20.048,
          20.247999999999998,
          20.752000000000002,
          21.247999999999998,
          21.752000000000002,
          13.155,
          15.96,
          16.61,
          0
         ]
        },
        {
         "line": {
          "color": "green"
         },
         "mode": "lines",
         "name": "ID BEV 8",
         "type": "scatter",
         "x": [
          540,
          540,
          555,
          570,
          585,
          600,
          615,
          630,
          645,
          660,
          675,
          690,
          705,
          720,
          735,
          748.8136591478697,
          748.8136591478697
         ],
         "y": [
          0,
          23,
          31,
          29.25,
          28.200000000000003,
          30.528,
          30.371999999999996,
          30.228,
          30.071999999999996,
          30.371999999999996,
          31.128000000000004,
          31.871999999999996,
          32.628,
          26.31,
          31.92,
          15.293333333333335,
          0
         ]
        },
        {
         "line": {
          "color": "green"
         },
         "mode": "lines",
         "name": "ID BEV 1",
         "type": "scatter",
         "x": [
          570,
          570,
          585,
          600,
          615,
          630,
          645,
          660,
          675,
          690,
          705,
          720,
          720.0100342075257,
          720.0100342075257
         ],
         "y": [
          0,
          39,
          37.6,
          40.704,
          40.495999999999995,
          40.304,
          40.096,
          40.495999999999995,
          41.504000000000005,
          42.495999999999995,
          43.504000000000005,
          39.464999999999996,
          13.75,
          0
         ]
        },
        {
         "line": {
          "color": "green"
         },
         "mode": "lines",
         "name": "ID BEV 5",
         "type": "scatter",
         "x": [
          585,
          585,
          600,
          615,
          630,
          645,
          660,
          675,
          684.0005782575173,
          684.0005782575173
         ],
         "y": [
          0,
          47,
          50.88,
          50.61999999999999,
          50.38,
          50.12,
          50.61999999999999,
          51.88000000000001,
          10.4,
          0
         ]
        },
        {
         "line": {
          "color": "green"
         },
         "mode": "lines",
         "name": "ID BEV 6",
         "type": "scatter",
         "x": [
          684.0005782575173,
          684.0005782575173,
          690,
          705,
          720,
          735,
          750,
          765,
          780,
          795,
          810,
          818.2133836477987,
          818.2133836477987
         ],
         "y": [
          0,
          20.776000000000003,
          53.11999999999999,
          54.38000000000001,
          52.62,
          47.88,
          21.56,
          12.793333333333335,
          12.25,
          12.75,
          13.25,
          13.273333333333333,
          0
         ]
        },
        {
         "line": {
          "color": "green"
         },
         "mode": "lines",
         "name": "ID BEV 4",
         "type": "scatter",
         "x": [
          757.7682436611008,
          757.7682436611008,
          765,
          780,
          795,
          810,
          825,
          825
         ],
         "y": [
          0,
          21.56,
          25.58666666666667,
          24.5,
          25.5,
          26.5,
          20.625,
          0
         ]
        },
        {
         "line": {
          "color": "green"
         },
         "mode": "lines",
         "name": "ID BEV 9",
         "type": "scatter",
         "x": [
          778.2629841931562,
          778.2629841931562,
          780,
          795,
          810,
          825,
          840,
          855,
          870,
          885,
          885
         ],
         "y": [
          0,
          12.793333333333335,
          36.75,
          38.25,
          39.75,
          41.25,
          39,
          11,
          9,
          7,
          0
         ]
        },
        {
         "line": {
          "color": "green"
         },
         "mode": "lines",
         "name": "ID BEV 3",
         "type": "scatter",
         "x": [
          859.9090909090909,
          859.9090909090909,
          870,
          885,
          900,
          915,
          930,
          945,
          945
         ],
         "y": [
          0,
          11,
          18,
          14,
          8.44,
          7.31,
          6.19,
          5.625,
          0
         ]
        },
        {
         "line": {
          "color": "green"
         },
         "mode": "lines",
         "name": "ID BEV 7",
         "type": "scatter",
         "x": [
          863.3681818181818,
          863.3681818181818,
          870,
          885,
          900,
          915,
          930,
          945,
          953.8438735177866,
          953.8438735177866
         ],
         "y": [
          0,
          11,
          27,
          21,
          16.88,
          14.62,
          12.38,
          15.745,
          9.92,
          0
         ]
        }
       ],
       "layout": {
        "template": {
         "data": {
          "bar": [
           {
            "error_x": {
             "color": "#2a3f5f"
            },
            "error_y": {
             "color": "#2a3f5f"
            },
            "marker": {
             "line": {
              "color": "white",
              "width": 0.5
             },
             "pattern": {
              "fillmode": "overlay",
              "size": 10,
              "solidity": 0.2
             }
            },
            "type": "bar"
           }
          ],
          "barpolar": [
           {
            "marker": {
             "line": {
              "color": "white",
              "width": 0.5
             },
             "pattern": {
              "fillmode": "overlay",
              "size": 10,
              "solidity": 0.2
             }
            },
            "type": "barpolar"
           }
          ],
          "carpet": [
           {
            "aaxis": {
             "endlinecolor": "#2a3f5f",
             "gridcolor": "#C8D4E3",
             "linecolor": "#C8D4E3",
             "minorgridcolor": "#C8D4E3",
             "startlinecolor": "#2a3f5f"
            },
            "baxis": {
             "endlinecolor": "#2a3f5f",
             "gridcolor": "#C8D4E3",
             "linecolor": "#C8D4E3",
             "minorgridcolor": "#C8D4E3",
             "startlinecolor": "#2a3f5f"
            },
            "type": "carpet"
           }
          ],
          "choropleth": [
           {
            "colorbar": {
             "outlinewidth": 0,
             "ticks": ""
            },
            "type": "choropleth"
           }
          ],
          "contour": [
           {
            "colorbar": {
             "outlinewidth": 0,
             "ticks": ""
            },
            "colorscale": [
             [
              0,
              "#0d0887"
             ],
             [
              0.1111111111111111,
              "#46039f"
             ],
             [
              0.2222222222222222,
              "#7201a8"
             ],
             [
              0.3333333333333333,
              "#9c179e"
             ],
             [
              0.4444444444444444,
              "#bd3786"
             ],
             [
              0.5555555555555556,
              "#d8576b"
             ],
             [
              0.6666666666666666,
              "#ed7953"
             ],
             [
              0.7777777777777778,
              "#fb9f3a"
             ],
             [
              0.8888888888888888,
              "#fdca26"
             ],
             [
              1,
              "#f0f921"
             ]
            ],
            "type": "contour"
           }
          ],
          "contourcarpet": [
           {
            "colorbar": {
             "outlinewidth": 0,
             "ticks": ""
            },
            "type": "contourcarpet"
           }
          ],
          "heatmap": [
           {
            "colorbar": {
             "outlinewidth": 0,
             "ticks": ""
            },
            "colorscale": [
             [
              0,
              "#0d0887"
             ],
             [
              0.1111111111111111,
              "#46039f"
             ],
             [
              0.2222222222222222,
              "#7201a8"
             ],
             [
              0.3333333333333333,
              "#9c179e"
             ],
             [
              0.4444444444444444,
              "#bd3786"
             ],
             [
              0.5555555555555556,
              "#d8576b"
             ],
             [
              0.6666666666666666,
              "#ed7953"
             ],
             [
              0.7777777777777778,
              "#fb9f3a"
             ],
             [
              0.8888888888888888,
              "#fdca26"
             ],
             [
              1,
              "#f0f921"
             ]
            ],
            "type": "heatmap"
           }
          ],
          "heatmapgl": [
           {
            "colorbar": {
             "outlinewidth": 0,
             "ticks": ""
            },
            "colorscale": [
             [
              0,
              "#0d0887"
             ],
             [
              0.1111111111111111,
              "#46039f"
             ],
             [
              0.2222222222222222,
              "#7201a8"
             ],
             [
              0.3333333333333333,
              "#9c179e"
             ],
             [
              0.4444444444444444,
              "#bd3786"
             ],
             [
              0.5555555555555556,
              "#d8576b"
             ],
             [
              0.6666666666666666,
              "#ed7953"
             ],
             [
              0.7777777777777778,
              "#fb9f3a"
             ],
             [
              0.8888888888888888,
              "#fdca26"
             ],
             [
              1,
              "#f0f921"
             ]
            ],
            "type": "heatmapgl"
           }
          ],
          "histogram": [
           {
            "marker": {
             "pattern": {
              "fillmode": "overlay",
              "size": 10,
              "solidity": 0.2
             }
            },
            "type": "histogram"
           }
          ],
          "histogram2d": [
           {
            "colorbar": {
             "outlinewidth": 0,
             "ticks": ""
            },
            "colorscale": [
             [
              0,
              "#0d0887"
             ],
             [
              0.1111111111111111,
              "#46039f"
             ],
             [
              0.2222222222222222,
              "#7201a8"
             ],
             [
              0.3333333333333333,
              "#9c179e"
             ],
             [
              0.4444444444444444,
              "#bd3786"
             ],
             [
              0.5555555555555556,
              "#d8576b"
             ],
             [
              0.6666666666666666,
              "#ed7953"
             ],
             [
              0.7777777777777778,
              "#fb9f3a"
             ],
             [
              0.8888888888888888,
              "#fdca26"
             ],
             [
              1,
              "#f0f921"
             ]
            ],
            "type": "histogram2d"
           }
          ],
          "histogram2dcontour": [
           {
            "colorbar": {
             "outlinewidth": 0,
             "ticks": ""
            },
            "colorscale": [
             [
              0,
              "#0d0887"
             ],
             [
              0.1111111111111111,
              "#46039f"
             ],
             [
              0.2222222222222222,
              "#7201a8"
             ],
             [
              0.3333333333333333,
              "#9c179e"
             ],
             [
              0.4444444444444444,
              "#bd3786"
             ],
             [
              0.5555555555555556,
              "#d8576b"
             ],
             [
              0.6666666666666666,
              "#ed7953"
             ],
             [
              0.7777777777777778,
              "#fb9f3a"
             ],
             [
              0.8888888888888888,
              "#fdca26"
             ],
             [
              1,
              "#f0f921"
             ]
            ],
            "type": "histogram2dcontour"
           }
          ],
          "mesh3d": [
           {
            "colorbar": {
             "outlinewidth": 0,
             "ticks": ""
            },
            "type": "mesh3d"
           }
          ],
          "parcoords": [
           {
            "line": {
             "colorbar": {
              "outlinewidth": 0,
              "ticks": ""
             }
            },
            "type": "parcoords"
           }
          ],
          "pie": [
           {
            "automargin": true,
            "type": "pie"
           }
          ],
          "scatter": [
           {
            "marker": {
             "colorbar": {
              "outlinewidth": 0,
              "ticks": ""
             }
            },
            "type": "scatter"
           }
          ],
          "scatter3d": [
           {
            "line": {
             "colorbar": {
              "outlinewidth": 0,
              "ticks": ""
             }
            },
            "marker": {
             "colorbar": {
              "outlinewidth": 0,
              "ticks": ""
             }
            },
            "type": "scatter3d"
           }
          ],
          "scattercarpet": [
           {
            "marker": {
             "colorbar": {
              "outlinewidth": 0,
              "ticks": ""
             }
            },
            "type": "scattercarpet"
           }
          ],
          "scattergeo": [
           {
            "marker": {
             "colorbar": {
              "outlinewidth": 0,
              "ticks": ""
             }
            },
            "type": "scattergeo"
           }
          ],
          "scattergl": [
           {
            "marker": {
             "colorbar": {
              "outlinewidth": 0,
              "ticks": ""
             }
            },
            "type": "scattergl"
           }
          ],
          "scattermapbox": [
           {
            "marker": {
             "colorbar": {
              "outlinewidth": 0,
              "ticks": ""
             }
            },
            "type": "scattermapbox"
           }
          ],
          "scatterpolar": [
           {
            "marker": {
             "colorbar": {
              "outlinewidth": 0,
              "ticks": ""
             }
            },
            "type": "scatterpolar"
           }
          ],
          "scatterpolargl": [
           {
            "marker": {
             "colorbar": {
              "outlinewidth": 0,
              "ticks": ""
             }
            },
            "type": "scatterpolargl"
           }
          ],
          "scatterternary": [
           {
            "marker": {
             "colorbar": {
              "outlinewidth": 0,
              "ticks": ""
             }
            },
            "type": "scatterternary"
           }
          ],
          "surface": [
           {
            "colorbar": {
             "outlinewidth": 0,
             "ticks": ""
            },
            "colorscale": [
             [
              0,
              "#0d0887"
             ],
             [
              0.1111111111111111,
              "#46039f"
             ],
             [
              0.2222222222222222,
              "#7201a8"
             ],
             [
              0.3333333333333333,
              "#9c179e"
             ],
             [
              0.4444444444444444,
              "#bd3786"
             ],
             [
              0.5555555555555556,
              "#d8576b"
             ],
             [
              0.6666666666666666,
              "#ed7953"
             ],
             [
              0.7777777777777778,
              "#fb9f3a"
             ],
             [
              0.8888888888888888,
              "#fdca26"
             ],
             [
              1,
              "#f0f921"
             ]
            ],
            "type": "surface"
           }
          ],
          "table": [
           {
            "cells": {
             "fill": {
              "color": "#EBF0F8"
             },
             "line": {
              "color": "white"
             }
            },
            "header": {
             "fill": {
              "color": "#C8D4E3"
             },
             "line": {
              "color": "white"
             }
            },
            "type": "table"
           }
          ]
         },
         "layout": {
          "annotationdefaults": {
           "arrowcolor": "#2a3f5f",
           "arrowhead": 0,
           "arrowwidth": 1
          },
          "autotypenumbers": "strict",
          "coloraxis": {
           "colorbar": {
            "outlinewidth": 0,
            "ticks": ""
           }
          },
          "colorscale": {
           "diverging": [
            [
             0,
             "#8e0152"
            ],
            [
             0.1,
             "#c51b7d"
            ],
            [
             0.2,
             "#de77ae"
            ],
            [
             0.3,
             "#f1b6da"
            ],
            [
             0.4,
             "#fde0ef"
            ],
            [
             0.5,
             "#f7f7f7"
            ],
            [
             0.6,
             "#e6f5d0"
            ],
            [
             0.7,
             "#b8e186"
            ],
            [
             0.8,
             "#7fbc41"
            ],
            [
             0.9,
             "#4d9221"
            ],
            [
             1,
             "#276419"
            ]
           ],
           "sequential": [
            [
             0,
             "#0d0887"
            ],
            [
             0.1111111111111111,
             "#46039f"
            ],
            [
             0.2222222222222222,
             "#7201a8"
            ],
            [
             0.3333333333333333,
             "#9c179e"
            ],
            [
             0.4444444444444444,
             "#bd3786"
            ],
            [
             0.5555555555555556,
             "#d8576b"
            ],
            [
             0.6666666666666666,
             "#ed7953"
            ],
            [
             0.7777777777777778,
             "#fb9f3a"
            ],
            [
             0.8888888888888888,
             "#fdca26"
            ],
            [
             1,
             "#f0f921"
            ]
           ],
           "sequentialminus": [
            [
             0,
             "#0d0887"
            ],
            [
             0.1111111111111111,
             "#46039f"
            ],
            [
             0.2222222222222222,
             "#7201a8"
            ],
            [
             0.3333333333333333,
             "#9c179e"
            ],
            [
             0.4444444444444444,
             "#bd3786"
            ],
            [
             0.5555555555555556,
             "#d8576b"
            ],
            [
             0.6666666666666666,
             "#ed7953"
            ],
            [
             0.7777777777777778,
             "#fb9f3a"
            ],
            [
             0.8888888888888888,
             "#fdca26"
            ],
            [
             1,
             "#f0f921"
            ]
           ]
          },
          "colorway": [
           "#636efa",
           "#EF553B",
           "#00cc96",
           "#ab63fa",
           "#FFA15A",
           "#19d3f3",
           "#FF6692",
           "#B6E880",
           "#FF97FF",
           "#FECB52"
          ],
          "font": {
           "color": "#2a3f5f"
          },
          "geo": {
           "bgcolor": "white",
           "lakecolor": "white",
           "landcolor": "white",
           "showlakes": true,
           "showland": true,
           "subunitcolor": "#C8D4E3"
          },
          "hoverlabel": {
           "align": "left"
          },
          "hovermode": "closest",
          "mapbox": {
           "style": "light"
          },
          "paper_bgcolor": "white",
          "plot_bgcolor": "white",
          "polar": {
           "angularaxis": {
            "gridcolor": "#EBF0F8",
            "linecolor": "#EBF0F8",
            "ticks": ""
           },
           "bgcolor": "white",
           "radialaxis": {
            "gridcolor": "#EBF0F8",
            "linecolor": "#EBF0F8",
            "ticks": ""
           }
          },
          "scene": {
           "xaxis": {
            "backgroundcolor": "white",
            "gridcolor": "#DFE8F3",
            "gridwidth": 2,
            "linecolor": "#EBF0F8",
            "showbackground": true,
            "ticks": "",
            "zerolinecolor": "#EBF0F8"
           },
           "yaxis": {
            "backgroundcolor": "white",
            "gridcolor": "#DFE8F3",
            "gridwidth": 2,
            "linecolor": "#EBF0F8",
            "showbackground": true,
            "ticks": "",
            "zerolinecolor": "#EBF0F8"
           },
           "zaxis": {
            "backgroundcolor": "white",
            "gridcolor": "#DFE8F3",
            "gridwidth": 2,
            "linecolor": "#EBF0F8",
            "showbackground": true,
            "ticks": "",
            "zerolinecolor": "#EBF0F8"
           }
          },
          "shapedefaults": {
           "line": {
            "color": "#2a3f5f"
           }
          },
          "ternary": {
           "aaxis": {
            "gridcolor": "#DFE8F3",
            "linecolor": "#A2B1C6",
            "ticks": ""
           },
           "baxis": {
            "gridcolor": "#DFE8F3",
            "linecolor": "#A2B1C6",
            "ticks": ""
           },
           "bgcolor": "white",
           "caxis": {
            "gridcolor": "#DFE8F3",
            "linecolor": "#A2B1C6",
            "ticks": ""
           }
          },
          "title": {
           "x": 0.05
          },
          "xaxis": {
           "automargin": true,
           "gridcolor": "#EBF0F8",
           "linecolor": "#EBF0F8",
           "ticks": "",
           "title": {
            "standoff": 15
           },
           "zerolinecolor": "#EBF0F8",
           "zerolinewidth": 2
          },
          "yaxis": {
           "automargin": true,
           "gridcolor": "#EBF0F8",
           "linecolor": "#EBF0F8",
           "ticks": "",
           "title": {
            "standoff": 15
           },
           "zerolinecolor": "#EBF0F8",
           "zerolinewidth": 2
          }
         }
        },
        "title": {
         "font": {
          "size": 24
         },
         "text": "Ladeleistung pro Ladezeitraum eines BEVs",
         "x": 0.5,
         "xanchor": "center"
        },
        "xaxis": {
         "range": [
          480,
          960
         ],
         "showgrid": true,
         "title": {
          "text": "Minuten"
         }
        },
        "yaxis": {
         "range": [
          0,
          60
         ],
         "title": {
          "text": "Energie in kW"
         }
        }
       }
      },
      "text/html": [
       "<div>                            <div id=\"f563fca9-564c-4355-9641-4c4efa344f3e\" class=\"plotly-graph-div\" style=\"height:525px; width:100%;\"></div>            <script type=\"text/javascript\">                require([\"plotly\"], function(Plotly) {                    window.PLOTLYENV=window.PLOTLYENV || {};                                    if (document.getElementById(\"f563fca9-564c-4355-9641-4c4efa344f3e\")) {                    Plotly.newPlot(                        \"f563fca9-564c-4355-9641-4c4efa344f3e\",                        [{\"line\":{\"color\":\"orange\"},\"name\":\"Verf\\u00fcgbare Solarleistung\",\"x\":[480,495,510,525,540,555,570,585,600,615,630,645,660,675,690,705,720,735,750,765,780,795,810,825,840,855,870,885,900,915,930,945,960],\"y\":[-2.0,3.25,8.5,13.749999999999998,19.0,27.0,35.0,43.0,51.0,50.75,50.5,50.25,50.0,51.25,52.5,53.75,55.0,50.25,45.5,40.75,36.0,37.5,39.0,40.5,42.0,36.0,30.0,24.0,18.0,15.75,13.5,11.25,9.0],\"type\":\"scatter\"},{\"line\":{\"color\":\"green\"},\"mode\":\"lines\",\"name\":\"ID BEV 0\",\"x\":[480.0,480.0,495.0,510.0,525.0,540.0,555.0,570.0,585.0,600.0,615.0,630.0,645.0,660.0,675.0,690.0,705.0,711.8352335417433,711.8352335417433],\"y\":[0.0,0.62,5.87,5.56,8.19,7.666666666666667,10.333333333333334,9.75,9.4,10.176,10.123999999999999,10.076,10.024,10.123999999999999,10.376000000000001,10.623999999999999,10.876000000000001,10.864,0.0],\"type\":\"scatter\"},{\"line\":{\"color\":\"green\"},\"mode\":\"lines\",\"name\":\"ID BEV 2\",\"x\":[510.0,510.0,525.0,540.0,555.0,570.0,585.0,600.0,615.0,630.0,645.0,660.0,675.0,690.0,705.0,720.0,735.0,736.3360902255639,736.3360902255639],\"y\":[0.0,11.12,16.38,15.333333333333334,20.666666666666668,19.5,18.8,20.352,20.247999999999998,20.152,20.048,20.247999999999998,20.752000000000002,21.247999999999998,21.752000000000002,13.155,15.96,16.61,0.0],\"type\":\"scatter\"},{\"line\":{\"color\":\"green\"},\"mode\":\"lines\",\"name\":\"ID BEV 8\",\"x\":[540.0,540.0,555.0,570.0,585.0,600.0,615.0,630.0,645.0,660.0,675.0,690.0,705.0,720.0,735.0,748.8136591478697,748.8136591478697],\"y\":[0.0,23.0,31.0,29.25,28.200000000000003,30.528,30.371999999999996,30.228,30.071999999999996,30.371999999999996,31.128000000000004,31.871999999999996,32.628,26.31,31.92,15.293333333333335,0.0],\"type\":\"scatter\"},{\"line\":{\"color\":\"green\"},\"mode\":\"lines\",\"name\":\"ID BEV 1\",\"x\":[570.0,570.0,585.0,600.0,615.0,630.0,645.0,660.0,675.0,690.0,705.0,720.0,720.0100342075257,720.0100342075257],\"y\":[0.0,39.0,37.6,40.704,40.495999999999995,40.304,40.096,40.495999999999995,41.504000000000005,42.495999999999995,43.504000000000005,39.464999999999996,13.75,0.0],\"type\":\"scatter\"},{\"line\":{\"color\":\"green\"},\"mode\":\"lines\",\"name\":\"ID BEV 5\",\"x\":[585.0,585.0,600.0,615.0,630.0,645.0,660.0,675.0,684.0005782575173,684.0005782575173],\"y\":[0.0,47.0,50.88,50.61999999999999,50.38,50.12,50.61999999999999,51.88000000000001,10.4,0.0],\"type\":\"scatter\"},{\"line\":{\"color\":\"green\"},\"mode\":\"lines\",\"name\":\"ID BEV 6\",\"x\":[684.0005782575173,684.0005782575173,690.0,705.0,720.0,735.0,750.0,765.0,780.0,795.0,810.0,818.2133836477987,818.2133836477987],\"y\":[0.0,20.776000000000003,53.11999999999999,54.38000000000001,52.62,47.88,21.56,12.793333333333335,12.25,12.75,13.25,13.273333333333333,0.0],\"type\":\"scatter\"},{\"line\":{\"color\":\"green\"},\"mode\":\"lines\",\"name\":\"ID BEV 4\",\"x\":[757.7682436611008,757.7682436611008,765.0,780.0,795.0,810.0,825.0,825.0],\"y\":[0.0,21.56,25.58666666666667,24.5,25.5,26.5,20.625,0.0],\"type\":\"scatter\"},{\"line\":{\"color\":\"green\"},\"mode\":\"lines\",\"name\":\"ID BEV 9\",\"x\":[778.2629841931562,778.2629841931562,780.0,795.0,810.0,825.0,840.0,855.0,870.0,885.0,885.0],\"y\":[0.0,12.793333333333335,36.75,38.25,39.75,41.25,39.0,11.0,9.0,7.0,0.0],\"type\":\"scatter\"},{\"line\":{\"color\":\"green\"},\"mode\":\"lines\",\"name\":\"ID BEV 3\",\"x\":[859.9090909090909,859.9090909090909,870.0,885.0,900.0,915.0,930.0,945.0,945.0],\"y\":[0.0,11.0,18.0,14.0,8.44,7.31,6.19,5.625,0.0],\"type\":\"scatter\"},{\"line\":{\"color\":\"green\"},\"mode\":\"lines\",\"name\":\"ID BEV 7\",\"x\":[863.3681818181818,863.3681818181818,870.0,885.0,900.0,915.0,930.0,945.0,953.8438735177866,953.8438735177866],\"y\":[0.0,11.0,27.0,21.0,16.88,14.62,12.38,15.745,9.92,0.0],\"type\":\"scatter\"}],                        {\"template\":{\"data\":{\"barpolar\":[{\"marker\":{\"line\":{\"color\":\"white\",\"width\":0.5},\"pattern\":{\"fillmode\":\"overlay\",\"size\":10,\"solidity\":0.2}},\"type\":\"barpolar\"}],\"bar\":[{\"error_x\":{\"color\":\"#2a3f5f\"},\"error_y\":{\"color\":\"#2a3f5f\"},\"marker\":{\"line\":{\"color\":\"white\",\"width\":0.5},\"pattern\":{\"fillmode\":\"overlay\",\"size\":10,\"solidity\":0.2}},\"type\":\"bar\"}],\"carpet\":[{\"aaxis\":{\"endlinecolor\":\"#2a3f5f\",\"gridcolor\":\"#C8D4E3\",\"linecolor\":\"#C8D4E3\",\"minorgridcolor\":\"#C8D4E3\",\"startlinecolor\":\"#2a3f5f\"},\"baxis\":{\"endlinecolor\":\"#2a3f5f\",\"gridcolor\":\"#C8D4E3\",\"linecolor\":\"#C8D4E3\",\"minorgridcolor\":\"#C8D4E3\",\"startlinecolor\":\"#2a3f5f\"},\"type\":\"carpet\"}],\"choropleth\":[{\"colorbar\":{\"outlinewidth\":0,\"ticks\":\"\"},\"type\":\"choropleth\"}],\"contourcarpet\":[{\"colorbar\":{\"outlinewidth\":0,\"ticks\":\"\"},\"type\":\"contourcarpet\"}],\"contour\":[{\"colorbar\":{\"outlinewidth\":0,\"ticks\":\"\"},\"colorscale\":[[0.0,\"#0d0887\"],[0.1111111111111111,\"#46039f\"],[0.2222222222222222,\"#7201a8\"],[0.3333333333333333,\"#9c179e\"],[0.4444444444444444,\"#bd3786\"],[0.5555555555555556,\"#d8576b\"],[0.6666666666666666,\"#ed7953\"],[0.7777777777777778,\"#fb9f3a\"],[0.8888888888888888,\"#fdca26\"],[1.0,\"#f0f921\"]],\"type\":\"contour\"}],\"heatmapgl\":[{\"colorbar\":{\"outlinewidth\":0,\"ticks\":\"\"},\"colorscale\":[[0.0,\"#0d0887\"],[0.1111111111111111,\"#46039f\"],[0.2222222222222222,\"#7201a8\"],[0.3333333333333333,\"#9c179e\"],[0.4444444444444444,\"#bd3786\"],[0.5555555555555556,\"#d8576b\"],[0.6666666666666666,\"#ed7953\"],[0.7777777777777778,\"#fb9f3a\"],[0.8888888888888888,\"#fdca26\"],[1.0,\"#f0f921\"]],\"type\":\"heatmapgl\"}],\"heatmap\":[{\"colorbar\":{\"outlinewidth\":0,\"ticks\":\"\"},\"colorscale\":[[0.0,\"#0d0887\"],[0.1111111111111111,\"#46039f\"],[0.2222222222222222,\"#7201a8\"],[0.3333333333333333,\"#9c179e\"],[0.4444444444444444,\"#bd3786\"],[0.5555555555555556,\"#d8576b\"],[0.6666666666666666,\"#ed7953\"],[0.7777777777777778,\"#fb9f3a\"],[0.8888888888888888,\"#fdca26\"],[1.0,\"#f0f921\"]],\"type\":\"heatmap\"}],\"histogram2dcontour\":[{\"colorbar\":{\"outlinewidth\":0,\"ticks\":\"\"},\"colorscale\":[[0.0,\"#0d0887\"],[0.1111111111111111,\"#46039f\"],[0.2222222222222222,\"#7201a8\"],[0.3333333333333333,\"#9c179e\"],[0.4444444444444444,\"#bd3786\"],[0.5555555555555556,\"#d8576b\"],[0.6666666666666666,\"#ed7953\"],[0.7777777777777778,\"#fb9f3a\"],[0.8888888888888888,\"#fdca26\"],[1.0,\"#f0f921\"]],\"type\":\"histogram2dcontour\"}],\"histogram2d\":[{\"colorbar\":{\"outlinewidth\":0,\"ticks\":\"\"},\"colorscale\":[[0.0,\"#0d0887\"],[0.1111111111111111,\"#46039f\"],[0.2222222222222222,\"#7201a8\"],[0.3333333333333333,\"#9c179e\"],[0.4444444444444444,\"#bd3786\"],[0.5555555555555556,\"#d8576b\"],[0.6666666666666666,\"#ed7953\"],[0.7777777777777778,\"#fb9f3a\"],[0.8888888888888888,\"#fdca26\"],[1.0,\"#f0f921\"]],\"type\":\"histogram2d\"}],\"histogram\":[{\"marker\":{\"pattern\":{\"fillmode\":\"overlay\",\"size\":10,\"solidity\":0.2}},\"type\":\"histogram\"}],\"mesh3d\":[{\"colorbar\":{\"outlinewidth\":0,\"ticks\":\"\"},\"type\":\"mesh3d\"}],\"parcoords\":[{\"line\":{\"colorbar\":{\"outlinewidth\":0,\"ticks\":\"\"}},\"type\":\"parcoords\"}],\"pie\":[{\"automargin\":true,\"type\":\"pie\"}],\"scatter3d\":[{\"line\":{\"colorbar\":{\"outlinewidth\":0,\"ticks\":\"\"}},\"marker\":{\"colorbar\":{\"outlinewidth\":0,\"ticks\":\"\"}},\"type\":\"scatter3d\"}],\"scattercarpet\":[{\"marker\":{\"colorbar\":{\"outlinewidth\":0,\"ticks\":\"\"}},\"type\":\"scattercarpet\"}],\"scattergeo\":[{\"marker\":{\"colorbar\":{\"outlinewidth\":0,\"ticks\":\"\"}},\"type\":\"scattergeo\"}],\"scattergl\":[{\"marker\":{\"colorbar\":{\"outlinewidth\":0,\"ticks\":\"\"}},\"type\":\"scattergl\"}],\"scattermapbox\":[{\"marker\":{\"colorbar\":{\"outlinewidth\":0,\"ticks\":\"\"}},\"type\":\"scattermapbox\"}],\"scatterpolargl\":[{\"marker\":{\"colorbar\":{\"outlinewidth\":0,\"ticks\":\"\"}},\"type\":\"scatterpolargl\"}],\"scatterpolar\":[{\"marker\":{\"colorbar\":{\"outlinewidth\":0,\"ticks\":\"\"}},\"type\":\"scatterpolar\"}],\"scatter\":[{\"marker\":{\"colorbar\":{\"outlinewidth\":0,\"ticks\":\"\"}},\"type\":\"scatter\"}],\"scatterternary\":[{\"marker\":{\"colorbar\":{\"outlinewidth\":0,\"ticks\":\"\"}},\"type\":\"scatterternary\"}],\"surface\":[{\"colorbar\":{\"outlinewidth\":0,\"ticks\":\"\"},\"colorscale\":[[0.0,\"#0d0887\"],[0.1111111111111111,\"#46039f\"],[0.2222222222222222,\"#7201a8\"],[0.3333333333333333,\"#9c179e\"],[0.4444444444444444,\"#bd3786\"],[0.5555555555555556,\"#d8576b\"],[0.6666666666666666,\"#ed7953\"],[0.7777777777777778,\"#fb9f3a\"],[0.8888888888888888,\"#fdca26\"],[1.0,\"#f0f921\"]],\"type\":\"surface\"}],\"table\":[{\"cells\":{\"fill\":{\"color\":\"#EBF0F8\"},\"line\":{\"color\":\"white\"}},\"header\":{\"fill\":{\"color\":\"#C8D4E3\"},\"line\":{\"color\":\"white\"}},\"type\":\"table\"}]},\"layout\":{\"annotationdefaults\":{\"arrowcolor\":\"#2a3f5f\",\"arrowhead\":0,\"arrowwidth\":1},\"autotypenumbers\":\"strict\",\"coloraxis\":{\"colorbar\":{\"outlinewidth\":0,\"ticks\":\"\"}},\"colorscale\":{\"diverging\":[[0,\"#8e0152\"],[0.1,\"#c51b7d\"],[0.2,\"#de77ae\"],[0.3,\"#f1b6da\"],[0.4,\"#fde0ef\"],[0.5,\"#f7f7f7\"],[0.6,\"#e6f5d0\"],[0.7,\"#b8e186\"],[0.8,\"#7fbc41\"],[0.9,\"#4d9221\"],[1,\"#276419\"]],\"sequential\":[[0.0,\"#0d0887\"],[0.1111111111111111,\"#46039f\"],[0.2222222222222222,\"#7201a8\"],[0.3333333333333333,\"#9c179e\"],[0.4444444444444444,\"#bd3786\"],[0.5555555555555556,\"#d8576b\"],[0.6666666666666666,\"#ed7953\"],[0.7777777777777778,\"#fb9f3a\"],[0.8888888888888888,\"#fdca26\"],[1.0,\"#f0f921\"]],\"sequentialminus\":[[0.0,\"#0d0887\"],[0.1111111111111111,\"#46039f\"],[0.2222222222222222,\"#7201a8\"],[0.3333333333333333,\"#9c179e\"],[0.4444444444444444,\"#bd3786\"],[0.5555555555555556,\"#d8576b\"],[0.6666666666666666,\"#ed7953\"],[0.7777777777777778,\"#fb9f3a\"],[0.8888888888888888,\"#fdca26\"],[1.0,\"#f0f921\"]]},\"colorway\":[\"#636efa\",\"#EF553B\",\"#00cc96\",\"#ab63fa\",\"#FFA15A\",\"#19d3f3\",\"#FF6692\",\"#B6E880\",\"#FF97FF\",\"#FECB52\"],\"font\":{\"color\":\"#2a3f5f\"},\"geo\":{\"bgcolor\":\"white\",\"lakecolor\":\"white\",\"landcolor\":\"white\",\"showlakes\":true,\"showland\":true,\"subunitcolor\":\"#C8D4E3\"},\"hoverlabel\":{\"align\":\"left\"},\"hovermode\":\"closest\",\"mapbox\":{\"style\":\"light\"},\"paper_bgcolor\":\"white\",\"plot_bgcolor\":\"white\",\"polar\":{\"angularaxis\":{\"gridcolor\":\"#EBF0F8\",\"linecolor\":\"#EBF0F8\",\"ticks\":\"\"},\"bgcolor\":\"white\",\"radialaxis\":{\"gridcolor\":\"#EBF0F8\",\"linecolor\":\"#EBF0F8\",\"ticks\":\"\"}},\"scene\":{\"xaxis\":{\"backgroundcolor\":\"white\",\"gridcolor\":\"#DFE8F3\",\"gridwidth\":2,\"linecolor\":\"#EBF0F8\",\"showbackground\":true,\"ticks\":\"\",\"zerolinecolor\":\"#EBF0F8\"},\"yaxis\":{\"backgroundcolor\":\"white\",\"gridcolor\":\"#DFE8F3\",\"gridwidth\":2,\"linecolor\":\"#EBF0F8\",\"showbackground\":true,\"ticks\":\"\",\"zerolinecolor\":\"#EBF0F8\"},\"zaxis\":{\"backgroundcolor\":\"white\",\"gridcolor\":\"#DFE8F3\",\"gridwidth\":2,\"linecolor\":\"#EBF0F8\",\"showbackground\":true,\"ticks\":\"\",\"zerolinecolor\":\"#EBF0F8\"}},\"shapedefaults\":{\"line\":{\"color\":\"#2a3f5f\"}},\"ternary\":{\"aaxis\":{\"gridcolor\":\"#DFE8F3\",\"linecolor\":\"#A2B1C6\",\"ticks\":\"\"},\"baxis\":{\"gridcolor\":\"#DFE8F3\",\"linecolor\":\"#A2B1C6\",\"ticks\":\"\"},\"bgcolor\":\"white\",\"caxis\":{\"gridcolor\":\"#DFE8F3\",\"linecolor\":\"#A2B1C6\",\"ticks\":\"\"}},\"title\":{\"x\":0.05},\"xaxis\":{\"automargin\":true,\"gridcolor\":\"#EBF0F8\",\"linecolor\":\"#EBF0F8\",\"ticks\":\"\",\"title\":{\"standoff\":15},\"zerolinecolor\":\"#EBF0F8\",\"zerolinewidth\":2},\"yaxis\":{\"automargin\":true,\"gridcolor\":\"#EBF0F8\",\"linecolor\":\"#EBF0F8\",\"ticks\":\"\",\"title\":{\"standoff\":15},\"zerolinecolor\":\"#EBF0F8\",\"zerolinewidth\":2}}},\"xaxis\":{\"range\":[480,960],\"showgrid\":true,\"title\":{\"text\":\"Minuten\"}},\"yaxis\":{\"range\":[0,60],\"title\":{\"text\":\"Energie in kW\"}},\"title\":{\"font\":{\"size\":24},\"text\":\"Ladeleistung pro Ladezeitraum eines BEVs\",\"x\":0.5,\"xanchor\":\"center\"}},                        {\"responsive\": true}                    ).then(function(){\n",
       "                            \n",
       "var gd = document.getElementById('f563fca9-564c-4355-9641-4c4efa344f3e');\n",
       "var x = new MutationObserver(function (mutations, observer) {{\n",
       "        var display = window.getComputedStyle(gd).display;\n",
       "        if (!display || display === 'none') {{\n",
       "            console.log([gd, 'removed!']);\n",
       "            Plotly.purge(gd);\n",
       "            observer.disconnect();\n",
       "        }}\n",
       "}});\n",
       "\n",
       "// Listen for the removal of the full notebook cells\n",
       "var notebookContainer = gd.closest('#notebook-container');\n",
       "if (notebookContainer) {{\n",
       "    x.observe(notebookContainer, {childList: true});\n",
       "}}\n",
       "\n",
       "// Listen for the clearing of the current output cell\n",
       "var outputEl = gd.closest('.output');\n",
       "if (outputEl) {{\n",
       "    x.observe(outputEl, {childList: true});\n",
       "}}\n",
       "\n",
       "                        })                };                });            </script>        </div>"
      ]
     },
     "metadata": {},
     "output_type": "display_data"
    }
   ],
   "source": [
    "figureGeneration.create_charging_power_figure(simulation_day, solarpeakleistung, bev_data, minute_interval)"
   ]
  }
 ],
 "metadata": {
  "kernelspec": {
   "display_name": "Python 3 (ipykernel)",
   "language": "python",
   "name": "python3"
  },
  "language_info": {
   "codemirror_mode": {
    "name": "ipython",
    "version": 3
   },
   "file_extension": ".py",
   "mimetype": "text/x-python",
   "name": "python",
   "nbconvert_exporter": "python",
   "pygments_lexer": "ipython3",
   "version": "3.9.5"
  }
 },
 "nbformat": 4,
 "nbformat_minor": 4
}