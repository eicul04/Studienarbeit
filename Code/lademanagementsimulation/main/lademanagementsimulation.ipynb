{
 "cells": [
  {
   "cell_type": "markdown",
   "metadata": {
    "pycharm": {
     "name": "#%% md\n"
    }
   },
   "source": [
    "# Lademanagementsimulation   \n"
   ]
  },
  {
   "cell_type": "markdown",
   "metadata": {},
   "source": [
    "### Simulations Parameter"
   ]
  },
  {
   "cell_type": "code",
   "execution_count": 1,
   "metadata": {
    "pycharm": {
     "name": "#%%\n"
    }
   },
   "outputs": [],
   "source": [
    "solarpeakleistung = 125 #Einheit Kilowattpeak (kWP)\n",
    "anzahl_bevs_pro_tag = 75\n",
    "ladeleistung_pro_bev = 11 #Einheit kW\n",
    "maximale_ladezeit = 30 #Einheit Minuten\n",
    "minute_interval = 15 #Einheit Minuten"
   ]
  },
  {
   "cell_type": "markdown",
   "metadata": {},
   "source": [
    "### Simulations Eingangsdaten"
   ]
  },
  {
   "cell_type": "code",
   "execution_count": 2,
   "metadata": {
    "pycharm": {
     "name": "#%%\n"
    }
   },
   "outputs": [
    {
     "data": {
      "text/html": [
       "\n",
       "        <iframe\n",
       "            width=\"100%\"\n",
       "            height=\"650\"\n",
       "            src=\"http://127.0.0.1:8050/\"\n",
       "            frameborder=\"0\"\n",
       "            allowfullscreen\n",
       "            \n",
       "        ></iframe>\n",
       "        "
      ],
      "text/plain": [
       "<IPython.lib.display.IFrame at 0x2085bd73730>"
      ]
     },
     "metadata": {},
     "output_type": "display_data"
    }
   ],
   "source": [
    "import simulationInputDataVisualisation\n",
    "simulationInputDataVisualisation.create_jupyter_dash_app(solarpeakleistung)"
   ]
  },
  {
   "cell_type": "markdown",
   "metadata": {},
   "source": [
    "### Verteilungsalgorithmus"
   ]
  },
  {
   "cell_type": "code",
   "execution_count": 3,
   "metadata": {
    "pycharm": {
     "is_executing": true
    }
   },
   "outputs": [
    {
     "name": "stdout",
     "output_type": "stream",
     "text": [
      "START POST OPTIMIZATION\n",
      "charging list per minute dict:  {}\n",
      "\n",
      "\n",
      "OPTIMIZATION DONE\n",
      "BEVs dict:  {0: [(13.0, 3.0), 'wartend', [(950.7361660079051, 9.263833992094874, 0)], [1.5624999999999998]], 1: [(13.0, 3.0), 'wartend', [(939.232633279483, 11.503532728422101, 0)], [1.5624999999999998]], 2: [(8.0, 7.5), 'wartend', [(675.4198156506736, 49.978198563396745, 0)], [5.4025]], 3: [(13.0, 3.0), 'wartend', [(929.8768809849521, 15.123119015047905, 0)], [1.5624999999999998]], 4: [(8.5, 6.5), 'wartend', [(705.8909525560869, 28.46195508359392, 0)], [5.074999999999999]], 5: [(8.0, 3.3), 'nicht parkend', [], [2.525]], 6: [(13.0, 3.0), 'wartend', [(924.9931600547195, 14.239473224763515, 0)], [1.5624999999999998]], 7: [(8.5, 6.6), 'nicht parkend', [], [5.172499999999999]], 8: [(13.0, 3.0), 'nicht parkend', [(795.0, 134.8768809849521, 0)], [1.5624999999999998]], 9: [(8.5, 6.2), 'nicht parkend', [], [4.967499999999999]], 10: [(8.5, 5.1), 'nicht parkend', [], [4.349999999999999]], 11: [(13.5, 2.5), 'wartend', [(914.8222748815166, 10.170885173202919, 0)], [1.2425]], 12: [(8.5, 6.7), 'nicht parkend', [], [5.172499999999999]], 13: [(8.0, 6.7), 'nicht parkend', [], [5.1025]], 14: [(8.0, 6.9), 'nicht parkend', [], [5.21]], 15: [(9.0, 4.0), 'nicht parkend', [(555.0, 45.56429062357938, 0)], [3.6524999999999994]], 16: [(13.5, 2.5), 'nicht parkend', [(825.0, 89.82227488151659, 0)], [1.2425]], 17: [(8.0, 3.9), 'nicht parkend', [], [3.0575]], 18: [(12.5, 3.5), 'wartend', [(871.8166666666667, 13.18333333333328, 0)], [1.9774999999999996]], 19: [(8.5, 3.8), 'nicht parkend', [], [3.4524999999999992]], 20: [(8.0, 4.1), 'nicht parkend', [], [3.3325]], 21: [(9.5, 6.5), 'wartend', [(750.8466372912806, 120.97002937538616, 0)], [4.914999999999999]], 22: [(9.5, 6.3), 'nicht parkend', [], [4.914999999999999]], 23: [(9.0, 6.2), 'nicht parkend', [], [4.9575]], 24: [(8.5, 6.1), 'nicht parkend', [], [4.967499999999999]], 25: [(8.5, 7.1), 'nicht parkend', [], [5.352499999999999]], 26: [(8.5, 7.2), 'nicht parkend', [], [5.352499999999999]], 27: [(9.0, 5.8), 'nicht parkend', [], [4.859999999999999]], 28: [(8.5, 6.0), 'nicht parkend', [(525.0, 180.89095255608686, 0)], [4.839999999999999]], 29: [(8.5, 7.5), 'wartend', [(822.4981132075471, 32.501886792452865, 0)], [5.429999999999999]], 30: [(9.5, 4.5), 'nicht parkend', [(585.0, 90.41981565067363, 0)], [4.007499999999999]], 31: [(8.5, 3.5), 'nicht parkend', [], [2.9224999999999994]], 32: [(9.0, 4.8), 'nicht parkend', [], [4.307499999999999]], 33: [(8.0, 4.7), 'nicht parkend', [], [3.8024999999999998]], 34: [(8.0, 3.6), 'nicht parkend', [], [2.785]], 35: [(9.0, 7.0), 'wartend', [(787.4694647670389, 35.02864844050828, 0)], [5.214999999999999]], 36: [(12.0, 4.0), 'wartend', [(794.2367346938776, 15.763265306122435, 0)], [2.5075000000000003]], 37: [(12.0, 4.0), 'wartend', [(771.4721946375372, 15.997270129501658, 0)], [2.5075000000000003]], 38: [(9.0, 5.7), 'nicht parkend', [], [4.7524999999999995]], 39: [(9.0, 4.0), 'nicht parkend', [], [3.6524999999999994]], 40: [(9.5, 4.6), 'nicht parkend', [], [4.177499999999999]], 41: [(8.5, 6.7), 'nicht parkend', [], [5.172499999999999]], 42: [(12.5, 3.5), 'nicht parkend', [(765.0, 29.236734693877565, 0)], [1.9774999999999996]], 43: [(12.5, 3.5), 'wartend', [(767.6341844710787, 12.365815528921303, 0)], [1.9774999999999996]], 44: [(9.5, 6.5), 'wartend', [(725.3980142140704, 46.07418042346683, 0)], [4.914999999999999]], 45: [(13.0, 3.0), 'nicht parkend', [], [1.5624999999999998]], 46: [(9.0, 4.1), 'nicht parkend', [], [3.807499999999999]], 47: [(8.5, 6.4), 'nicht parkend', [], [5.074999999999999]], 48: [(9.0, 7.0), 'wartend', [(675.5776390319104, 92.0565454391683, 0)], [5.214999999999999]], 49: [(13.5, 2.5), 'nicht parkend', [], [1.2425]], 50: [(8.0, 7.4), 'nicht parkend', [], [5.4025]], 51: [(8.5, 6.5), 'nicht parkend', [(525.0, 195.6271379703535, 0)], [5.074999999999999]], 52: [(8.5, 3.3), 'nicht parkend', [], [2.9224999999999994]], 53: [(9.0, 4.8), 'nicht parkend', [], [4.307499999999999]], 54: [(13.0, 3.0), 'nicht parkend', [], [1.5624999999999998]], 55: [(8.0, 7.1), 'nicht parkend', [], [5.3075]], 56: [(8.5, 3.4), 'nicht parkend', [], [2.9224999999999994]], 57: [(8.0, 7.8), 'nicht parkend', [], [5.5649999999999995]], 58: [(12.5, 3.5), 'nicht parkend', [], [1.9774999999999996]], 59: [(13.0, 3.0), 'nicht parkend', [], [1.5624999999999998]], 60: [(8.0, 7.7), 'nicht parkend', [], [5.4875]], 61: [(9.0, 7.0), 'wartend', [(718.9518205222508, 31.04817947774916, 0)], [5.214999999999999]], 62: [(12.0, 4.0), 'wartend', [(734.3529076396808, 15.64709236031922, 0)], [2.5075000000000003]], 63: [(13.0, 3.0), 'nicht parkend', [], [1.5624999999999998]], 64: [(13.0, 3.0), 'nicht parkend', [], [1.5624999999999998]], 65: [(8.5, 4.1), 'nicht parkend', [], [3.667499999999999]], 66: [(8.5, 3.3), 'nicht parkend', [], [2.9224999999999994]], 67: [(8.5, 7.3), 'nicht parkend', [], [5.429999999999999]], 68: [(9.5, 5.0), 'wartend', [(600.5642906235794, 91.27117624389052, 0)], [4.324999999999999]], 69: [(9.0, 5.5), 'nicht parkend', [(555.0, 120.5776390319104, 0)], [4.624999999999999]], 70: [(9.5, 6.5), 'wartend', [(720.6271379703535, 29.372862029646512, 0)], [4.914999999999999]], 71: [(13.0, 3.0), 'nicht parkend', [], [1.5624999999999998]], 72: [(13.0, 3.0), 'nicht parkend', [], [1.5624999999999998]], 73: [(9.0, 6.0), 'wartend', [(691.8354668674699, 27.116353654780937, 0)], [4.859999999999999]], 74: [(13.0, 3.0), 'nicht parkend', [], [1.5624999999999998]]}\n",
      "BEVs from post optimization:  [0, 1, 2, 3, 4, 6, 8, 11, 15, 16, 18, 21, 28, 29, 30, 35, 36, 37, 42, 43, 44, 48, 51, 61, 62, 68, 69, 70, 73]\n",
      "\n",
      "\n",
      "Minute:  480\n",
      "Waiting BEVs:  []\n",
      "Charging list after handling overload:  []\n",
      "Waiting BEVs after updating parking end:  [5, 13, 14, 17, 20, 33, 34, 50, 55, 57, 60]\n",
      "Charging BEVs after updating post optimization plan and parking end:  []\n",
      "SET BEV DATA for current minute for ID BEV 5 for minute 480:  0.62\n",
      "Charging BEVs (nachdem neue Plätze belegt):  [5]\n",
      "Restladeenergie bis zur fairen Ladeenergie for BEV mit ID 5:  2.525\n",
      "Restladezeit:  244.3548387096774\n",
      "Charging BEVs:  [5]\n",
      "\n",
      "\n",
      "Minute:  495\n",
      "Waiting BEVs:  [13, 14, 17, 20, 33, 34, 50, 55, 57, 60]\n",
      "Charging list after handling overload:  [5]\n",
      "Waiting BEVs after updating parking end:  [13, 14, 17, 20, 33, 34, 50, 55, 57, 60]\n",
      "Charging BEVs after updating post optimization plan and parking end:  [5]\n",
      "charging_list_per_minute_dict  {480: [5]}\n",
      "FUEL Charging BEV:  5\n",
      "SET BEV DATA for current minute for ID BEV 5 for minute 495:  5.87\n",
      "Charging BEVs (nachdem neue Plätze belegt):  [5]\n",
      "Restladeenergie bis zur fairen Ladeenergie for BEV mit ID 5:  2.37\n",
      "Restladezeit:  24.224872231686543\n",
      "Charging BEVs:  [5]\n",
      "\n",
      "\n",
      "Minute:  510\n",
      "Waiting BEVs:  [13, 14, 17, 20, 33, 34, 50, 55, 57, 60]\n",
      "Charging list after handling overload:  [5]\n",
      "Waiting BEVs after updating parking end:  [13, 14, 17, 20, 33, 34, 50, 55, 57, 60, 7, 9, 10, 12, 19, 24, 25, 26, 31, 41, 47, 52, 56, 65, 66, 67]\n",
      "Charging BEVs after updating post optimization plan and parking end:  [5]\n",
      "charging_list_per_minute_dict  {480: [5], 495: [5]}\n",
      "FUEL Charging BEV:  5\n",
      "SET BEV DATA for current minute for ID BEV 5 for minute 510:  5.56\n",
      "SET BEV DATA for current minute for ID BEV 13 for minute 510:  5.56\n",
      "Charging BEVs (nachdem neue Plätze belegt):  [5, 13]\n",
      "Restladeenergie bis zur fairen Ladeenergie for BEV mit ID 5:  0.9024999999999999\n",
      "Restladezeit:  9.739208633093524\n",
      "Die Restladezeit des BEVS 5 endet vor dem nächsten Interval\n",
      "SET BEV DATA after charging time over for ID BEV 5 for minute 519.7392086330935:  5.955\n",
      "Ausgewähltes BEV das frei gewordenen Platz belegen darf:  14\n",
      "Ladestart für ausgewähltes BEV:  519.7392086330935\n",
      "SET BEV DATA for charging start of new bev for ID BEV 14 for minute 519.7392086330935:  5.56\n",
      "SET BEV DATA charging start between intervals for ID BEV 14 for minute 519.7392086330935:  5.56\n",
      "Restladeenergie bis zur fairen Ladeenergie for BEV mit ID 13:  5.1025\n",
      "Restladezeit:  55.062949640287776\n",
      "Charging BEVs:  [5, 13]\n",
      "\n",
      "\n",
      "Minute:  525\n",
      "Waiting BEVs:  [17, 20, 33, 34, 50, 55, 57, 60, 7, 9, 10, 12, 19, 24, 25, 26, 31, 41, 47, 52, 56, 65, 66, 67]\n",
      "Charging list after handling overload:  [13, 14]\n",
      "Waiting BEVs after updating parking end:  [17, 20, 33, 34, 50, 55, 57, 60, 7, 9, 10, 12, 19, 24, 25, 26, 31, 41, 47, 52, 56, 65, 66, 67]\n",
      "Charging BEVs after updating post optimization plan and parking end:  [13, 14, 28, 51]\n",
      "charging_list_per_minute_dict  {480: [5], 495: [5], 510: [5, 13]}\n",
      "FUEL Charging BEV:  13\n",
      "FUEL Charging BEV:  28\n",
      "FUEL Charging BEV:  51\n"
     ]
    },
    {
     "name": "stdout",
     "output_type": "stream",
     "text": [
      "SET BEV DATA for current minute for ID BEV 13 for minute 525:  4.095\n",
      "SET BEV DATA for current minute for ID BEV 14 for minute 525:  4.095\n",
      "SET BEV DATA for current minute for ID BEV 28 for minute 525:  4.095\n",
      "SET BEV DATA for current minute for ID BEV 51 for minute 525:  4.095\n",
      "Charging BEVs (nachdem neue Plätze belegt):  [13, 14, 28, 51]\n",
      "Restladeenergie bis zur fairen Ladeenergie for BEV mit ID 13:  3.7125000000000004\n",
      "Restladezeit:  54.3956043956044\n",
      "Restladeenergie bis zur fairen Ladeenergie for BEV mit ID 14:  4.722500000000001\n",
      "Restladezeit:  69.19413919413921\n",
      "Restladeenergie bis zur fairen Ladeenergie for BEV mit ID 28:  3.4499999999999993\n",
      "Restladezeit:  50.54945054945054\n",
      "Restladeenergie bis zur fairen Ladeenergie for BEV mit ID 51:  3.6849999999999996\n",
      "Restladezeit:  53.992673992673986\n",
      "Charging BEVs:  [13, 14, 28, 51]\n",
      "\n",
      "\n",
      "Minute:  540\n",
      "Waiting BEVs:  [17, 20, 33, 34, 50, 55, 57, 60, 7, 9, 10, 12, 19, 24, 25, 26, 31, 41, 47, 52, 56, 65, 66, 67]\n",
      "SET BEV DATA after charging time over for ID BEV 13 for minute 540:  4.75\n",
      "Removed from charging list because of overload:  13\n",
      "Charging list after handling overload:  [14, 28, 51]\n",
      "Waiting BEVs after updating parking end:  [17, 20, 33, 34, 50, 55, 57, 60, 7, 9, 10, 12, 19, 24, 25, 26, 31, 41, 47, 52, 56, 65, 66, 67, 23, 27, 32, 38, 39, 46, 53]\n",
      "Charging BEVs after updating post optimization plan and parking end:  [14, 28, 51]\n",
      "charging_list_per_minute_dict  {480: [5], 495: [5], 510: [5, 13], 525: [13, 14, 28, 51]}\n",
      "FUEL Charging BEV:  14\n",
      "FUEL Charging BEV:  28\n",
      "FUEL Charging BEV:  51\n",
      "SET BEV DATA for current minute for ID BEV 14 for minute 540:  7.666666666666667\n",
      "SET BEV DATA for current minute for ID BEV 28 for minute 540:  7.666666666666667\n",
      "SET BEV DATA for current minute for ID BEV 51 for minute 540:  7.666666666666667\n",
      "Charging BEVs (nachdem neue Plätze belegt):  [14, 28, 51]\n",
      "Restladeenergie bis zur fairen Ladeenergie for BEV mit ID 14:  3.6987500000000013\n",
      "Restladezeit:  28.946739130434793\n",
      "Restladeenergie bis zur fairen Ladeenergie for BEV mit ID 28:  2.426249999999999\n",
      "Restladezeit:  18.988043478260863\n",
      "Restladeenergie bis zur fairen Ladeenergie for BEV mit ID 51:  2.6612499999999994\n",
      "Restladezeit:  20.827173913043474\n",
      "Charging BEVs:  [14, 28, 51]\n",
      "\n",
      "\n",
      "Minute:  555\n",
      "Waiting BEVs:  [17, 20, 33, 34, 50, 55, 57, 60, 7, 9, 10, 12, 19, 24, 25, 26, 31, 41, 47, 52, 56, 65, 66, 67, 23, 27, 32, 38, 39, 46, 53]\n",
      "Charging list after handling overload:  [14, 28, 51]\n",
      "Waiting BEVs after updating parking end:  [17, 20, 33, 34, 50, 55, 57, 60, 7, 9, 10, 12, 19, 24, 25, 26, 31, 41, 47, 52, 56, 65, 66, 67, 23, 27, 32, 38, 39, 46, 53]\n",
      "Charging BEVs after updating post optimization plan and parking end:  [14, 28, 51, 15, 69]\n",
      "charging_list_per_minute_dict  {480: [5], 495: [5], 510: [5, 13], 525: [13, 14, 28, 51], 540: [14, 28, 51]}\n",
      "FUEL Charging BEV:  14\n",
      "FUEL Charging BEV:  28\n",
      "FUEL Charging BEV:  51\n",
      "FUEL Charging BEV:  15\n",
      "FUEL Charging BEV:  69\n",
      "SET BEV DATA for current minute for ID BEV 14 for minute 555:  6.2\n",
      "SET BEV DATA for current minute for ID BEV 28 for minute 555:  6.2\n",
      "SET BEV DATA for current minute for ID BEV 51 for minute 555:  6.2\n",
      "SET BEV DATA for current minute for ID BEV 15 for minute 555:  6.2\n",
      "SET BEV DATA for current minute for ID BEV 69 for minute 555:  6.2\n",
      "Charging BEVs (nachdem neue Plätze belegt):  [14, 28, 51, 15, 69]\n",
      "Restladeenergie bis zur fairen Ladeenergie for BEV mit ID 14:  1.7820833333333344\n",
      "Restladezeit:  17.245967741935495\n",
      "Restladeenergie bis zur fairen Ladeenergie for BEV mit ID 28:  0.5095833333333326\n",
      "Restladezeit:  4.931451612903219\n",
      "Die Restladezeit des BEVS 28 endet vor dem nächsten Interval\n",
      "SET BEV DATA after charging time over for ID BEV 28 for minute 559.9314516129032:  5.926\n",
      "Ausgewähltes BEV das frei gewordenen Platz belegen darf:  17\n",
      "Ladestart für ausgewähltes BEV:  559.9314516129032\n",
      "SET BEV DATA for charging start of new bev for ID BEV 17 for minute 559.9314516129032:  6.2\n",
      "SET BEV DATA charging start between intervals for ID BEV 17 for minute 559.9314516129032:  6.2\n",
      "Restladeenergie bis zur fairen Ladeenergie for BEV mit ID 51:  0.7445833333333329\n",
      "Restladezeit:  7.2056451612903185\n",
      "Die Restladezeit des BEVS 51 endet vor dem nächsten Interval\n",
      "SET BEV DATA after charging time over for ID BEV 51 for minute 562.2056451612904:  6.168\n",
      "Ausgewähltes BEV das frei gewordenen Platz belegen darf:  20\n",
      "Ladestart für ausgewähltes BEV:  562.2056451612904\n",
      "SET BEV DATA for charging start of new bev for ID BEV 20 for minute 562.2056451612904:  6.2\n",
      "SET BEV DATA charging start between intervals for ID BEV 20 for minute 562.2056451612904:  6.2\n",
      "Restladeenergie bis zur fairen Ladeenergie for BEV mit ID 15:  1.7358333333333327\n",
      "Restladezeit:  16.798387096774185\n",
      "Restladeenergie bis zur fairen Ladeenergie for BEV mit ID 69:  2.708333333333332\n",
      "Restladezeit:  26.209677419354826\n",
      "Charging BEVs:  [14, 28, 51, 15, 69]\n",
      "\n",
      "\n",
      "Minute:  570\n",
      "Waiting BEVs:  [33, 34, 50, 55, 57, 60, 7, 9, 10, 12, 19, 24, 25, 26, 31, 41, 47, 52, 56, 65, 66, 67, 23, 27, 32, 38, 39, 46, 53]\n",
      "SET BEV DATA after charging time over for ID BEV 14 for minute 570:  7.0\n",
      "Removed from charging list because of overload:  14\n",
      "Charging list after handling overload:  [15, 69, 17, 20]\n",
      "Waiting BEVs after updating parking end:  [33, 34, 50, 55, 57, 60, 7, 9, 10, 12, 19, 24, 25, 26, 31, 41, 47, 52, 56, 65, 66, 67, 23, 27, 32, 38, 39, 46, 53, 22, 40]\n",
      "Charging BEVs after updating post optimization plan and parking end:  [15, 69, 17, 20]\n",
      "charging_list_per_minute_dict  {480: [5], 495: [5], 510: [5, 13], 525: [13, 14, 28, 51], 540: [14, 28, 51], 555: [14, 28, 51, 15, 69]}\n",
      "FUEL Charging BEV:  15\n",
      "FUEL Charging BEV:  69\n",
      "SET BEV DATA for current minute for ID BEV 15 for minute 570:  9.75\n",
      "SET BEV DATA for current minute for ID BEV 69 for minute 570:  9.75\n",
      "SET BEV DATA for current minute for ID BEV 17 for minute 570:  9.75\n",
      "SET BEV DATA for current minute for ID BEV 20 for minute 570:  9.75\n",
      "Charging BEVs (nachdem neue Plätze belegt):  [15, 69, 17, 20]\n",
      "Restladeenergie bis zur fairen Ladeenergie for BEV mit ID 15:  0.18583333333333263\n",
      "Restladezeit:  1.143589743589739\n",
      "Die Restladezeit des BEVS 15 endet vor dem nächsten Interval\n",
      "SET BEV DATA after charging time over for ID BEV 15 for minute 571.1435897435897:  8.9025\n",
      "Ausgewähltes BEV das frei gewordenen Platz belegen darf:  33\n",
      "Ladestart für ausgewähltes BEV:  571.1435897435897\n",
      "SET BEV DATA for charging start of new bev for ID BEV 33 for minute 571.1435897435897:  9.75\n",
      "SET BEV DATA charging start between intervals for ID BEV 33 for minute 571.1435897435897:  9.75\n",
      "Restladeenergie bis zur fairen Ladeenergie for BEV mit ID 69:  1.1583333333333323\n",
      "Restladezeit:  7.128205128205122\n",
      "Die Restladezeit des BEVS 69 endet vor dem nächsten Interval\n",
      "SET BEV DATA after charging time over for ID BEV 69 for minute 577.1282051282051:  9.7\n",
      "Ausgewähltes BEV das frei gewordenen Platz belegen darf:  34\n",
      "Ladestart für ausgewähltes BEV:  577.1282051282051\n",
      "SET BEV DATA for charging start of new bev for ID BEV 34 for minute 577.1282051282051:  9.75\n",
      "SET BEV DATA charging start between intervals for ID BEV 34 for minute 577.1282051282051:  9.75\n",
      "Restladeenergie bis zur fairen Ladeenergie for BEV mit ID 17:  2.017083333333328\n",
      "Restladezeit:  12.41282051282048\n",
      "Die Restladezeit des BEVS 17 endet vor dem nächsten Interval\n",
      "SET BEV DATA after charging time over for ID BEV 17 for minute 582.4128205128205:  10.405\n",
      "Ausgewähltes BEV das frei gewordenen Platz belegen darf:  50\n",
      "Ladestart für ausgewähltes BEV:  582.4128205128205\n",
      "SET BEV DATA for charging start of new bev for ID BEV 50 for minute 582.4128205128205:  9.75\n",
      "SET BEV DATA charging start between intervals for ID BEV 50 for minute 582.4128205128205:  9.75\n",
      "Restladeenergie bis zur fairen Ladeenergie for BEV mit ID 20:  2.5270833333333376\n",
      "Restladezeit:  15.551282051282076\n",
      "Charging BEVs:  [15, 69, 17, 20]\n",
      "\n",
      "\n",
      "Minute:  585\n",
      "Waiting BEVs:  [55, 57, 60, 7, 9, 10, 12, 19, 24, 25, 26, 31, 41, 47, 52, 56, 65, 66, 67, 23, 27, 32, 38, 39, 46, 53, 22, 40]\n",
      "Charging list after handling overload:  [20, 33, 34, 50]\n",
      "Waiting BEVs after updating parking end:  [55, 57, 60, 7, 9, 10, 12, 19, 24, 25, 26, 31, 41, 47, 52, 56, 65, 66, 67, 23, 27, 32, 38, 39, 46, 53, 22, 40]\n",
      "Charging BEVs after updating post optimization plan and parking end:  [20, 33, 34, 50, 30]\n",
      "charging_list_per_minute_dict  {480: [5], 495: [5], 510: [5, 13], 525: [13, 14, 28, 51], 540: [14, 28, 51], 555: [14, 28, 51, 15, 69], 570: [15, 69, 17, 20]}\n",
      "FUEL Charging BEV:  20\n",
      "FUEL Charging BEV:  30\n",
      "SET BEV DATA for current minute for ID BEV 20 for minute 585:  9.4\n",
      "SET BEV DATA for current minute for ID BEV 33 for minute 585:  9.4\n",
      "SET BEV DATA for current minute for ID BEV 34 for minute 585:  9.4\n",
      "SET BEV DATA for current minute for ID BEV 50 for minute 585:  9.4\n",
      "SET BEV DATA for current minute for ID BEV 30 for minute 585:  9.4\n",
      "Charging BEVs (nachdem neue Plätze belegt):  [20, 33, 34, 50, 30]\n",
      "Restladeenergie bis zur fairen Ladeenergie for BEV mit ID 20:  0.08958333333333757\n",
      "Restladezeit:  0.5718085106383248\n",
      "Die Restladezeit des BEVS 20 endet vor dem nächsten Interval\n",
      "SET BEV DATA after charging time over for ID BEV 20 for minute 585.5718085106383:  8.66\n",
      "Ausgewähltes BEV das frei gewordenen Platz belegen darf:  55\n",
      "Ladestart für ausgewähltes BEV:  585.5718085106383\n",
      "SET BEV DATA for charging start of new bev for ID BEV 55 for minute 585.5718085106383:  9.4\n",
      "SET BEV DATA charging start between intervals for ID BEV 55 for minute 585.5718085106383:  9.4\n",
      "Restladeenergie bis zur fairen Ladeenergie for BEV mit ID 33:  1.5508333333333262\n",
      "Restladezeit:  9.89893617021272\n",
      "Die Restladezeit des BEVS 33 endet vor dem nächsten Interval\n",
      "SET BEV DATA after charging time over for ID BEV 33 for minute 594.8989361702127:  9.656\n",
      "Ausgewähltes BEV das frei gewordenen Platz belegen darf:  57\n",
      "Ladestart für ausgewähltes BEV:  594.8989361702127\n",
      "SET BEV DATA for charging start of new bev for ID BEV 57 for minute 594.8989361702127:  9.4\n",
      "SET BEV DATA charging start between intervals for ID BEV 57 for minute 594.8989361702127:  9.4\n",
      "Restladeenergie bis zur fairen Ladeenergie for BEV mit ID 34:  1.5058333333333258\n",
      "Restladezeit:  9.611702127659525\n",
      "Die Restladezeit des BEVS 34 endet vor dem nächsten Interval\n",
      "SET BEV DATA after charging time over for ID BEV 34 for minute 594.6117021276596:  9.626000000000001\n",
      "Ausgewähltes BEV das frei gewordenen Platz belegen darf:  60\n",
      "Ladestart für ausgewähltes BEV:  594.6117021276596\n",
      "SET BEV DATA for charging start of new bev for ID BEV 60 for minute 594.6117021276596:  9.4\n",
      "SET BEV DATA charging start between intervals for ID BEV 60 for minute 594.6117021276596:  9.4\n",
      "Restladeenergie bis zur fairen Ladeenergie for BEV mit ID 50:  4.982083333333336\n",
      "Restladezeit:  31.800531914893632\n",
      "Restladeenergie bis zur fairen Ladeenergie for BEV mit ID 30:  1.5699999999999994\n",
      "Restladezeit:  10.021276595744677\n",
      "Die Restladezeit des BEVS 30 endet vor dem nächsten Interval\n",
      "SET BEV DATA after charging time over for ID BEV 30 for minute 595.0212765957447:  9.668000000000001\n",
      "Ausgewähltes BEV das frei gewordenen Platz belegen darf:  7\n",
      "Ladestart für ausgewähltes BEV:  595.0212765957447\n",
      "SET BEV DATA for charging start of new bev for ID BEV 7 for minute 595.0212765957447:  9.4\n",
      "SET BEV DATA charging start between intervals for ID BEV 7 for minute 595.0212765957447:  9.4\n",
      "Charging BEVs:  [20, 33, 34, 50, 30]\n",
      "\n",
      "\n",
      "Minute:  600\n",
      "Waiting BEVs:  [9, 10, 12, 19, 24, 25, 26, 31, 41, 47, 52, 56, 65, 66, 67, 23, 27, 32, 38, 39, 46, 53, 22, 40]\n",
      "SET BEV DATA after charging time over for ID BEV 50 for minute 600:  10.2\n",
      "Removed from charging list because of overload:  50\n",
      "Charging list after handling overload:  [55, 57, 60, 7]\n",
      "SET BEV DATA charging start between intervals for ID BEV 68 for minute 600.5642906235794:  10.176\n",
      "Waiting BEVs after updating parking end:  [9, 10, 12, 19, 24, 25, 26, 31, 41, 47, 52, 56, 65, 66, 67, 23, 27, 32, 38, 39, 46, 53, 22, 40]\n",
      "Charging BEVs after updating post optimization plan and parking end:  [55, 57, 60, 7]\n",
      "charging_list_per_minute_dict  {480: [5], 495: [5], 510: [5, 13], 525: [13, 14, 28, 51], 540: [14, 28, 51], 555: [14, 28, 51, 15, 69], 570: [15, 69, 17, 20], 585: [20, 33, 34, 50, 30]}\n",
      "SET BEV DATA for current minute for ID BEV 55 for minute 600:  10.176\n",
      "SET BEV DATA for current minute for ID BEV 57 for minute 600:  10.176\n",
      "SET BEV DATA for current minute for ID BEV 60 for minute 600:  10.176\n"
     ]
    },
    {
     "name": "stdout",
     "output_type": "stream",
     "text": [
      "SET BEV DATA for current minute for ID BEV 7 for minute 600:  10.176\n",
      "Charging BEVs (nachdem neue Plätze belegt):  [55, 57, 60, 7]\n",
      "Restladeenergie bis zur fairen Ladeenergie for BEV mit ID 55:  3.047083333333339\n",
      "Restladezeit:  17.966293238993742\n",
      "Restladeenergie bis zur fairen Ladeenergie for BEV mit ID 57:  4.765833333333317\n",
      "Restladezeit:  28.100432389937012\n",
      "Restladeenergie bis zur fairen Ladeenergie for BEV mit ID 60:  4.64333333333333\n",
      "Restladezeit:  27.37814465408803\n",
      "Restladeenergie bis zur fairen Ladeenergie for BEV mit ID 7:  4.392499999999997\n",
      "Restladezeit:  25.899174528301874\n",
      "Charging BEVs:  [55, 57, 60, 7]\n",
      "\n",
      "\n",
      "Minute:  615\n",
      "Waiting BEVs:  [9, 10, 12, 19, 24, 25, 26, 31, 41, 47, 52, 56, 65, 66, 67, 23, 27, 32, 38, 39, 46, 53, 22, 40]\n",
      "Charging list after handling overload:  [55, 57, 60, 7, 68]\n",
      "Waiting BEVs after updating parking end:  [9, 10, 12, 19, 24, 25, 26, 31, 41, 47, 52, 56, 65, 66, 67, 23, 27, 32, 38, 39, 46, 53, 22, 40]\n",
      "Charging BEVs after updating post optimization plan and parking end:  [55, 57, 60, 7, 68]\n",
      "charging_list_per_minute_dict  {480: [5], 495: [5], 510: [5, 13], 525: [13, 14, 28, 51], 540: [14, 28, 51], 555: [14, 28, 51, 15, 69], 570: [15, 69, 17, 20], 585: [20, 33, 34, 50, 30], 600: [55, 57, 60, 7, 68]}\n",
      "FUEL Charging BEV:  55\n",
      "FUEL Charging BEV:  57\n",
      "FUEL Charging BEV:  60\n",
      "FUEL Charging BEV:  7\n",
      "SET BEV DATA for current minute for ID BEV 55 for minute 615:  10.123999999999999\n",
      "SET BEV DATA for current minute for ID BEV 57 for minute 615:  10.123999999999999\n",
      "SET BEV DATA for current minute for ID BEV 60 for minute 615:  10.123999999999999\n",
      "SET BEV DATA for current minute for ID BEV 7 for minute 615:  10.123999999999999\n",
      "SET BEV DATA for current minute for ID BEV 68 for minute 615:  10.123999999999999\n",
      "Charging BEVs (nachdem neue Plätze belegt):  [55, 57, 60, 7, 68]\n",
      "Restladeenergie bis zur fairen Ladeenergie for BEV mit ID 55:  0.5030833333333389\n",
      "Restladezeit:  2.981529039905209\n",
      "Die Restladezeit des BEVS 55 endet vor dem nächsten Interval\n",
      "SET BEV DATA after charging time over for ID BEV 55 for minute 617.9815290399052:  10.14\n",
      "Ausgewähltes BEV das frei gewordenen Platz belegen darf:  9\n",
      "Ladestart für ausgewähltes BEV:  617.9815290399052\n",
      "SET BEV DATA for charging start of new bev for ID BEV 9 for minute 617.9815290399052:  10.123999999999999\n",
      "SET BEV DATA charging start between intervals for ID BEV 9 for minute 617.9815290399052:  10.123999999999999\n",
      "Restladeenergie bis zur fairen Ladeenergie for BEV mit ID 57:  2.2218333333333167\n",
      "Restladezeit:  13.167720268668413\n",
      "Die Restladezeit des BEVS 57 endet vor dem nächsten Interval\n",
      "SET BEV DATA after charging time over for ID BEV 57 for minute 628.1677202686684:  10.106\n",
      "Ausgewähltes BEV das frei gewordenen Platz belegen darf:  10\n",
      "Ladestart für ausgewähltes BEV:  628.1677202686684\n",
      "SET BEV DATA for charging start of new bev for ID BEV 10 for minute 628.1677202686684:  10.123999999999999\n",
      "SET BEV DATA charging start between intervals for ID BEV 10 for minute 628.1677202686684:  10.123999999999999\n",
      "Restladeenergie bis zur fairen Ladeenergie for BEV mit ID 60:  2.09933333333333\n",
      "Restladezeit:  12.441722639272996\n",
      "Die Restladezeit des BEVS 60 endet vor dem nächsten Interval\n",
      "SET BEV DATA after charging time over for ID BEV 60 for minute 627.4417226392729:  10.108\n",
      "Ausgewähltes BEV das frei gewordenen Platz belegen darf:  12\n",
      "Ladestart für ausgewähltes BEV:  627.4417226392729\n",
      "SET BEV DATA for charging start of new bev for ID BEV 12 for minute 627.4417226392729:  10.123999999999999\n",
      "SET BEV DATA charging start between intervals for ID BEV 12 for minute 627.4417226392729:  10.123999999999999\n",
      "Restladeenergie bis zur fairen Ladeenergie for BEV mit ID 7:  1.848499999999997\n",
      "Restladezeit:  10.955156064796506\n",
      "Die Restladezeit des BEVS 7 endet vor dem nächsten Interval\n",
      "SET BEV DATA after charging time over for ID BEV 7 for minute 625.9551560647965:  10.114\n",
      "Ausgewähltes BEV das frei gewordenen Platz belegen darf:  19\n",
      "Ladestart für ausgewähltes BEV:  625.9551560647965\n",
      "SET BEV DATA for charging start of new bev for ID BEV 19 for minute 625.9551560647965:  10.123999999999999\n",
      "SET BEV DATA charging start between intervals for ID BEV 19 for minute 625.9551560647965:  10.123999999999999\n",
      "Restladeenergie bis zur fairen Ladeenergie for BEV mit ID 68:  1.8767036897590623\n",
      "Restladezeit:  11.122305549737629\n",
      "Die Restladezeit des BEVS 68 endet vor dem nächsten Interval\n",
      "SET BEV DATA after charging time over for ID BEV 68 for minute 626.1223055497376:  10.112\n",
      "Ausgewähltes BEV das frei gewordenen Platz belegen darf:  24\n",
      "Ladestart für ausgewähltes BEV:  626.1223055497376\n",
      "SET BEV DATA for charging start of new bev for ID BEV 24 for minute 626.1223055497376:  10.123999999999999\n",
      "SET BEV DATA charging start between intervals for ID BEV 24 for minute 626.1223055497376:  10.123999999999999\n",
      "Charging BEVs:  [55, 57, 60, 7, 68]\n",
      "\n",
      "\n",
      "Minute:  630\n",
      "Waiting BEVs:  [25, 26, 31, 41, 47, 52, 56, 65, 66, 67, 23, 27, 32, 38, 39, 46, 53, 22, 40]\n",
      "Charging list after handling overload:  [9, 10, 12, 19, 24]\n",
      "Waiting BEVs after updating parking end:  [25, 26, 31, 41, 47, 52, 56, 65, 66, 67, 23, 27, 32, 38, 39, 46, 53, 22, 40]\n",
      "Charging BEVs after updating post optimization plan and parking end:  [9, 10, 12, 19, 24]\n",
      "charging_list_per_minute_dict  {480: [5], 495: [5], 510: [5, 13], 525: [13, 14, 28, 51], 540: [14, 28, 51], 555: [14, 28, 51, 15, 69], 570: [15, 69, 17, 20], 585: [20, 33, 34, 50, 30], 600: [55, 57, 60, 7, 68], 615: [55, 57, 60, 7, 68]}\n",
      "SET BEV DATA for current minute for ID BEV 9 for minute 630:  10.076\n",
      "SET BEV DATA for current minute for ID BEV 10 for minute 630:  10.076\n",
      "SET BEV DATA for current minute for ID BEV 12 for minute 630:  10.076\n",
      "SET BEV DATA for current minute for ID BEV 19 for minute 630:  10.076\n",
      "SET BEV DATA for current minute for ID BEV 24 for minute 630:  10.076\n",
      "Charging BEVs (nachdem neue Plätze belegt):  [9, 10, 12, 19, 24]\n",
      "Restladeenergie bis zur fairen Ladeenergie for BEV mit ID 9:  2.939583333333344\n",
      "Restladezeit:  17.50446605795957\n",
      "Restladeenergie bis zur fairen Ladeenergie for BEV mit ID 10:  4.040833333333314\n",
      "Restladezeit:  24.062127828503257\n",
      "Restladeenergie bis zur fairen Ladeenergie for BEV mit ID 12:  4.74083333333332\n",
      "Restladezeit:  28.23044859071052\n",
      "Restladeenergie bis zur fairen Ladeenergie for BEV mit ID 19:  2.7699999999999925\n",
      "Restladezeit:  16.494640730448545\n",
      "Restladeenergie bis zur fairen Ladeenergie for BEV mit ID 24:  4.313203689759053\n",
      "Restladezeit:  25.6840235595021\n",
      "Charging BEVs:  [9, 10, 12, 19, 24]\n",
      "\n",
      "\n",
      "Minute:  645\n",
      "Waiting BEVs:  [25, 26, 31, 41, 47, 52, 56, 65, 66, 67, 23, 27, 32, 38, 39, 46, 53, 22, 40]\n",
      "Charging list after handling overload:  [9, 10, 12, 19, 24]\n",
      "Waiting BEVs after updating parking end:  [25, 26, 31, 41, 47, 52, 56, 65, 66, 67, 23, 27, 32, 38, 39, 46, 53, 22, 40]\n",
      "Charging BEVs after updating post optimization plan and parking end:  [9, 10, 12, 19, 24]\n",
      "charging_list_per_minute_dict  {480: [5], 495: [5], 510: [5, 13], 525: [13, 14, 28, 51], 540: [14, 28, 51], 555: [14, 28, 51, 15, 69], 570: [15, 69, 17, 20], 585: [20, 33, 34, 50, 30], 600: [55, 57, 60, 7, 68], 615: [55, 57, 60, 7, 68], 630: [9, 10, 12, 19, 24]}\n",
      "FUEL Charging BEV:  9\n",
      "FUEL Charging BEV:  10\n",
      "FUEL Charging BEV:  12\n",
      "FUEL Charging BEV:  19\n",
      "FUEL Charging BEV:  24\n",
      "SET BEV DATA for current minute for ID BEV 9 for minute 645:  10.024\n",
      "SET BEV DATA for current minute for ID BEV 10 for minute 645:  10.024\n",
      "SET BEV DATA for current minute for ID BEV 12 for minute 645:  10.024\n",
      "SET BEV DATA for current minute for ID BEV 19 for minute 645:  10.024\n",
      "SET BEV DATA for current minute for ID BEV 24 for minute 645:  10.024\n",
      "Charging BEVs (nachdem neue Plätze belegt):  [9, 10, 12, 19, 24]\n",
      "Restladeenergie bis zur fairen Ladeenergie for BEV mit ID 9:  0.42058333333334375\n",
      "Restladezeit:  2.5174581005587218\n",
      "Die Restladezeit des BEVS 9 endet vor dem nächsten Interval\n",
      "SET BEV DATA after charging time over for ID BEV 9 for minute 647.5174581005588:  10.042\n",
      "Ausgewähltes BEV das frei gewordenen Platz belegen darf:  25\n",
      "Ladestart für ausgewähltes BEV:  647.5174581005588\n",
      "SET BEV DATA for charging start of new bev for ID BEV 25 for minute 647.5174581005588:  10.024\n",
      "SET BEV DATA charging start between intervals for ID BEV 25 for minute 647.5174581005588:  10.024\n",
      "Restladeenergie bis zur fairen Ladeenergie for BEV mit ID 10:  1.5218333333333138\n",
      "Restladezeit:  9.10913806863516\n",
      "Die Restladezeit des BEVS 10 endet vor dem nächsten Interval\n",
      "SET BEV DATA after charging time over for ID BEV 10 for minute 654.1091380686352:  10.02\n",
      "Ausgewähltes BEV das frei gewordenen Platz belegen darf:  26\n",
      "Ladestart für ausgewähltes BEV:  654.1091380686352\n",
      "SET BEV DATA for charging start of new bev for ID BEV 26 for minute 654.1091380686352:  10.024\n",
      "SET BEV DATA charging start between intervals for ID BEV 26 for minute 654.1091380686352:  10.024\n",
      "Restladeenergie bis zur fairen Ladeenergie for BEV mit ID 12:  2.22183333333332\n",
      "Restladezeit:  13.299082202713407\n",
      "Die Restladezeit des BEVS 12 endet vor dem nächsten Interval\n",
      "SET BEV DATA after charging time over for ID BEV 12 for minute 658.2990822027134:  10.006\n",
      "Ausgewähltes BEV das frei gewordenen Platz belegen darf:  31\n",
      "Ladestart für ausgewähltes BEV:  658.2990822027134\n",
      "SET BEV DATA for charging start of new bev for ID BEV 31 for minute 658.2990822027134:  10.024\n",
      "SET BEV DATA charging start between intervals for ID BEV 31 for minute 658.2990822027134:  10.024\n",
      "Restladeenergie bis zur fairen Ladeenergie for BEV mit ID 19:  0.2509999999999928\n",
      "Restladezeit:  1.5023942537908588\n",
      "Die Restladezeit des BEVS 19 endet vor dem nächsten Interval\n",
      "SET BEV DATA after charging time over for ID BEV 19 for minute 646.5023942537908:  10.044\n",
      "Ausgewähltes BEV das frei gewordenen Platz belegen darf:  41\n",
      "Ladestart für ausgewähltes BEV:  646.5023942537908\n",
      "SET BEV DATA for charging start of new bev for ID BEV 41 for minute 646.5023942537908:  10.024\n",
      "SET BEV DATA charging start between intervals for ID BEV 41 for minute 646.5023942537908:  10.024\n",
      "Restladeenergie bis zur fairen Ladeenergie for BEV mit ID 24:  1.794203689759053\n",
      "Restladezeit:  10.739447464639184\n",
      "Die Restladezeit des BEVS 24 endet vor dem nächsten Interval\n",
      "SET BEV DATA after charging time over for ID BEV 24 for minute 655.7394474646392:  10.014\n",
      "Ausgewähltes BEV das frei gewordenen Platz belegen darf:  47\n",
      "Ladestart für ausgewähltes BEV:  655.7394474646392\n",
      "SET BEV DATA for charging start of new bev for ID BEV 47 for minute 655.7394474646392:  10.024\n",
      "SET BEV DATA charging start between intervals for ID BEV 47 for minute 655.7394474646392:  10.024\n",
      "Charging BEVs:  [9, 10, 12, 19, 24]\n",
      "\n",
      "\n",
      "Minute:  660\n",
      "Waiting BEVs:  [52, 56, 65, 66, 67, 23, 27, 32, 38, 39, 46, 53, 22, 40]\n",
      "Charging list after handling overload:  [25, 26, 31, 41, 47]\n",
      "Waiting BEVs after updating parking end:  [52, 56, 65, 66, 67, 23, 27, 32, 38, 39, 46, 53, 22, 40]\n",
      "Charging BEVs after updating post optimization plan and parking end:  [25, 26, 31, 41, 47]\n"
     ]
    },
    {
     "name": "stdout",
     "output_type": "stream",
     "text": [
      "charging_list_per_minute_dict  {480: [5], 495: [5], 510: [5, 13], 525: [13, 14, 28, 51], 540: [14, 28, 51], 555: [14, 28, 51, 15, 69], 570: [15, 69, 17, 20], 585: [20, 33, 34, 50, 30], 600: [55, 57, 60, 7, 68], 615: [55, 57, 60, 7, 68], 630: [9, 10, 12, 19, 24], 645: [9, 10, 12, 19, 24]}\n",
      "SET BEV DATA for current minute for ID BEV 25 for minute 660:  10.123999999999999\n",
      "SET BEV DATA for current minute for ID BEV 26 for minute 660:  10.123999999999999\n",
      "SET BEV DATA for current minute for ID BEV 31 for minute 660:  10.123999999999999\n",
      "SET BEV DATA for current minute for ID BEV 41 for minute 660:  10.123999999999999\n",
      "SET BEV DATA for current minute for ID BEV 47 for minute 660:  10.123999999999999\n",
      "Charging BEVs (nachdem neue Plätze belegt):  [25, 26, 31, 41, 47]\n",
      "Restladeenergie bis zur fairen Ladeenergie for BEV mit ID 25:  3.267083333333351\n",
      "Restladezeit:  19.36240616357182\n",
      "Restladeenergie bis zur fairen Ladeenergie for BEV mit ID 26:  4.368333333333314\n",
      "Restladezeit:  25.888976689055596\n",
      "Restladeenergie bis zur fairen Ladeenergie for BEV mit ID 31:  2.6383333333333194\n",
      "Restladezeit:  15.636112208613115\n",
      "Restladeenergie bis zur fairen Ladeenergie for BEV mit ID 41:  2.9174999999999893\n",
      "Restladezeit:  17.290596602133483\n",
      "Restladeenergie bis zur fairen Ladeenergie for BEV mit ID 47:  4.36320368975905\n",
      "Restladezeit:  25.85857579865103\n",
      "Charging BEVs:  [25, 26, 31, 41, 47]\n",
      "\n",
      "\n",
      "Minute:  675\n",
      "Waiting BEVs:  [52, 56, 65, 66, 67, 23, 27, 32, 38, 39, 46, 53, 22, 40]\n",
      "SET BEV DATA after charging time over for ID BEV 25 for minute 675:  10.25\n",
      "Removed from charging list because of overload:  25\n",
      "SET BEV DATA after charging time over for ID BEV 26 for minute 675:  10.25\n",
      "Removed from charging list because of overload:  26\n",
      "Charging list after handling overload:  [31, 41, 47]\n",
      "SET BEV DATA charging start between intervals for ID BEV 2 for minute 675.4198156506736:  10.376000000000001\n",
      "SET BEV DATA charging start between intervals for ID BEV 48 for minute 675.5776390319104:  10.376000000000001\n",
      "Waiting BEVs after updating parking end:  [52, 56, 65, 66, 67, 23, 27, 32, 38, 39, 46, 53, 22, 40]\n",
      "Charging BEVs after updating post optimization plan and parking end:  [31, 41, 47]\n",
      "charging_list_per_minute_dict  {480: [5], 495: [5], 510: [5, 13], 525: [13, 14, 28, 51], 540: [14, 28, 51], 555: [14, 28, 51, 15, 69], 570: [15, 69, 17, 20], 585: [20, 33, 34, 50, 30], 600: [55, 57, 60, 7, 68], 615: [55, 57, 60, 7, 68], 630: [9, 10, 12, 19, 24], 645: [9, 10, 12, 19, 24], 660: [25, 26, 31, 41, 47]}\n",
      "FUEL Charging BEV:  31\n",
      "FUEL Charging BEV:  41\n",
      "FUEL Charging BEV:  47\n",
      "SET BEV DATA for current minute for ID BEV 31 for minute 675:  10.376000000000001\n",
      "SET BEV DATA for current minute for ID BEV 41 for minute 675:  10.376000000000001\n",
      "SET BEV DATA for current minute for ID BEV 47 for minute 675:  10.376000000000001\n",
      "Charging BEVs (nachdem neue Plätze belegt):  [31, 41, 47]\n",
      "Restladeenergie bis zur fairen Ladeenergie for BEV mit ID 31:  0.10733333333331974\n",
      "Restladezeit:  0.6206630686198134\n",
      "Die Restladezeit des BEVS 31 endet vor dem nächsten Interval\n",
      "SET BEV DATA after charging time over for ID BEV 31 for minute 675.6206630686198:  10.26\n",
      "Ausgewähltes BEV das frei gewordenen Platz belegen darf:  52\n",
      "Ladestart für ausgewähltes BEV:  675.6206630686198\n",
      "SET BEV DATA for charging start of new bev for ID BEV 52 for minute 675.6206630686198:  10.376000000000001\n",
      "SET BEV DATA charging start between intervals for ID BEV 52 for minute 675.6206630686198:  10.376000000000001\n",
      "Restladeenergie bis zur fairen Ladeenergie for BEV mit ID 41:  0.3864999999999892\n",
      "Restladezeit:  2.2349653045488966\n",
      "Die Restladezeit des BEVS 41 endet vor dem nächsten Interval\n",
      "SET BEV DATA after charging time over for ID BEV 41 for minute 677.234965304549:  10.288\n",
      "Ausgewähltes BEV das frei gewordenen Platz belegen darf:  56\n",
      "Ladestart für ausgewähltes BEV:  677.234965304549\n",
      "SET BEV DATA for charging start of new bev for ID BEV 56 for minute 677.234965304549:  10.376000000000001\n",
      "SET BEV DATA charging start between intervals for ID BEV 56 for minute 677.234965304549:  10.376000000000001\n",
      "Restladeenergie bis zur fairen Ladeenergie for BEV mit ID 47:  1.8322036897590501\n",
      "Restladezeit:  10.594855569154106\n",
      "Die Restladezeit des BEVS 47 endet vor dem nächsten Interval\n",
      "SET BEV DATA after charging time over for ID BEV 47 for minute 685.5948555691541:  10.426\n",
      "Ausgewähltes BEV das frei gewordenen Platz belegen darf:  65\n",
      "Ladestart für ausgewähltes BEV:  685.5948555691541\n",
      "SET BEV DATA for charging start of new bev for ID BEV 65 for minute 685.5948555691541:  10.376000000000001\n",
      "SET BEV DATA charging start between intervals for ID BEV 65 for minute 685.5948555691541:  10.376000000000001\n",
      "Charging BEVs:  [31, 41, 47]\n",
      "\n",
      "\n",
      "Minute:  690\n",
      "Waiting BEVs:  [66, 67, 23, 27, 32, 38, 39, 46, 53, 22, 40]\n",
      "SET BEV DATA after charging time over for ID BEV 2 for minute 690:  10.5\n",
      "Removed from charging list because of overload:  2\n",
      "Charging list after handling overload:  [48, 52, 56, 65]\n",
      "BEV 2 CHARGING END FROM POST OPTI in minute\n",
      "SET BEV DATA charging start between intervals for ID BEV 73 for minute 691.8354668674699:  10.623999999999999\n",
      "Waiting BEVs after updating parking end:  [66, 67, 23, 27, 32, 38, 39, 46, 53, 22, 40]\n",
      "Charging BEVs after updating post optimization plan and parking end:  [48, 52, 56, 65]\n",
      "charging_list_per_minute_dict  {480: [5], 495: [5], 510: [5, 13], 525: [13, 14, 28, 51], 540: [14, 28, 51], 555: [14, 28, 51, 15, 69], 570: [15, 69, 17, 20], 585: [20, 33, 34, 50, 30], 600: [55, 57, 60, 7, 68], 615: [55, 57, 60, 7, 68], 630: [9, 10, 12, 19, 24], 645: [9, 10, 12, 19, 24], 660: [25, 26, 31, 41, 47], 675: [31, 41, 47, 2, 48]}\n",
      "SET BEV DATA for current minute for ID BEV 48 for minute 690:  10.623999999999999\n",
      "SET BEV DATA for current minute for ID BEV 52 for minute 690:  10.623999999999999\n",
      "SET BEV DATA for current minute for ID BEV 56 for minute 690:  10.623999999999999\n",
      "SET BEV DATA for current minute for ID BEV 65 for minute 690:  10.623999999999999\n",
      "Charging BEVs (nachdem neue Plätze belegt):  [48, 52, 56, 65]\n",
      "Restladeenergie bis zur fairen Ladeenergie for BEV mit ID 48:  2.720893043251703\n",
      "Restladezeit:  15.366489325593204\n",
      "Restladeenergie bis zur fairen Ladeenergie for BEV mit ID 52:  0.43583333333331975\n",
      "Restladezeit:  2.4614081325300443\n",
      "Die Restladezeit des BEVS 52 endet vor dem nächsten Interval\n",
      "SET BEV DATA after charging time over for ID BEV 52 for minute 692.4614081325301:  10.542\n",
      "Ausgewähltes BEV das frei gewordenen Platz belegen darf:  66\n",
      "Ladestart für ausgewähltes BEV:  692.4614081325301\n",
      "SET BEV DATA for charging start of new bev for ID BEV 66 for minute 692.4614081325301:  10.623999999999999\n",
      "SET BEV DATA charging start between intervals for ID BEV 66 for minute 692.4614081325301:  10.623999999999999\n",
      "Restladeenergie bis zur fairen Ladeenergie for BEV mit ID 56:  0.7149999999999976\n",
      "Restladezeit:  4.038027108433722\n",
      "Die Restladezeit des BEVS 56 endet vor dem nächsten Interval\n",
      "SET BEV DATA after charging time over for ID BEV 56 for minute 694.0380271084338:  10.568000000000001\n",
      "Ausgewähltes BEV das frei gewordenen Platz belegen darf:  67\n",
      "Ladestart für ausgewähltes BEV:  694.0380271084338\n",
      "SET BEV DATA for charging start of new bev for ID BEV 67 for minute 694.0380271084338:  10.623999999999999\n",
      "SET BEV DATA charging start between intervals for ID BEV 67 for minute 694.0380271084338:  10.623999999999999\n",
      "Restladeenergie bis zur fairen Ladeenergie for BEV mit ID 65:  2.905703689759049\n",
      "Restladezeit:  16.410224151500657\n",
      "Charging BEVs:  [48, 52, 56, 65]\n",
      "\n",
      "\n",
      "Minute:  705\n",
      "Waiting BEVs:  [23, 27, 32, 38, 39, 46, 53, 22, 40]\n",
      "SET BEV DATA after charging time over for ID BEV 48 for minute 705:  10.75\n",
      "Removed from charging list because of overload:  48\n",
      "SET BEV DATA after charging time over for ID BEV 65 for minute 705:  10.75\n",
      "Removed from charging list because of overload:  65\n",
      "Charging list after handling overload:  [73, 66, 67]\n",
      "SET BEV DATA charging start between intervals for ID BEV 4 for minute 705.8909525560869:  10.876000000000001\n",
      "BEV 48 CHARGING END FROM POST OPTI in minute\n",
      "SET BEV DATA charging start between intervals for ID BEV 61 for minute 718.9518205222508:  10.876000000000001\n",
      "BEV 73 CHARGING END FROM POST OPTI in next interval\n",
      "SET BEV DATA after charging time over for ID BEV 73 for minute 718.9518205222508:  10.982\n",
      "Waiting BEVs after updating parking end:  [23, 27, 32, 38, 39, 46, 53, 22, 40]\n",
      "Charging BEVs after updating post optimization plan and parking end:  [73, 66, 67]\n",
      "charging_list_per_minute_dict  {480: [5], 495: [5], 510: [5, 13], 525: [13, 14, 28, 51], 540: [14, 28, 51], 555: [14, 28, 51, 15, 69], 570: [15, 69, 17, 20], 585: [20, 33, 34, 50, 30], 600: [55, 57, 60, 7, 68], 615: [55, 57, 60, 7, 68], 630: [9, 10, 12, 19, 24], 645: [9, 10, 12, 19, 24], 660: [25, 26, 31, 41, 47], 675: [31, 41, 47, 2, 48], 690: [48, 52, 56, 65, 73]}\n",
      "SET BEV DATA for current minute for ID BEV 73 for minute 705:  10.876000000000001\n",
      "SET BEV DATA for current minute for ID BEV 66 for minute 705:  10.876000000000001\n",
      "SET BEV DATA for current minute for ID BEV 67 for minute 705:  10.876000000000001\n",
      "Charging BEVs (nachdem neue Plätze belegt):  [73, 66, 67]\n",
      "Restladeenergie bis zur fairen Ladeenergie for BEV mit ID 66:  0.7023333333333288\n",
      "Restladezeit:  3.8745862449429684\n",
      "Die Restladezeit des BEVS 66 endet vor dem nächsten Interval\n"
     ]
    },
    {
     "name": "stdout",
     "output_type": "stream",
     "text": [
      "SET BEV DATA after charging time over for ID BEV 66 for minute 708.874586244943:  10.814\n",
      "Ausgewähltes BEV das frei gewordenen Platz belegen darf:  23\n",
      "Ladestart für ausgewähltes BEV:  708.874586244943\n",
      "SET BEV DATA for charging start of new bev for ID BEV 23 for minute 708.874586244943:  10.876000000000001\n",
      "SET BEV DATA charging start between intervals for ID BEV 23 for minute 708.874586244943:  10.876000000000001\n",
      "Die Restparkzeit von BEV  66 endet vor dem nächsten Intervall\n",
      "SET BEV DATA after parking time over for ID BEV 66 for minute 708:  10.8\n",
      "Ausgewähltes BEV das frei gewordenen Platz belegen darf:  27\n",
      "Ladestart für ausgewähltes BEV:  708\n",
      "SET BEV DATA for charging start of new bev for ID BEV 27 for minute 708:  10.876000000000001\n",
      "SET BEV DATA charging start between intervals for ID BEV 27 for minute 708:  10.876000000000001\n",
      "Restladeenergie bis zur fairen Ladeenergie for BEV mit ID 67:  3.4890000000000043\n",
      "Restladezeit:  19.247885251930878\n",
      "Charging BEVs:  [73, 66, 67]\n",
      "\n",
      "\n",
      "Minute:  720\n",
      "Waiting BEVs:  [32, 38, 39, 46, 53, 22, 40]\n",
      "SET BEV DATA after charging time over for ID BEV 67 for minute 720:  11.0\n",
      "Removed from charging list because of overload:  67\n",
      "SET BEV DATA after charging time over for ID BEV 4 for minute 720:  11.0\n",
      "Removed from charging list because of overload:  4\n",
      "SET BEV DATA after charging time over for ID BEV 61 for minute 720:  11.0\n",
      "Removed from charging list because of overload:  61\n",
      "Charging list after handling overload:  [23, 27]\n",
      "BEV 4 CHARGING END FROM POST OPTI in minute\n",
      "SET BEV DATA charging start between intervals for ID BEV 44 for minute 725.3980142140704:  10.524\n",
      "BEV 61 CHARGING END FROM POST OPTI in minute\n",
      "SET BEV DATA charging start between intervals for ID BEV 62 for minute 734.3529076396808:  10.524\n",
      "SET BEV DATA charging start between intervals for ID BEV 70 for minute 720.6271379703535:  10.524\n",
      "Waiting BEVs after updating parking end:  [32, 38, 39, 46, 53, 22, 40]\n",
      "Charging BEVs after updating post optimization plan and parking end:  [23, 27]\n",
      "charging_list_per_minute_dict  {480: [5], 495: [5], 510: [5, 13], 525: [13, 14, 28, 51], 540: [14, 28, 51], 555: [14, 28, 51, 15, 69], 570: [15, 69, 17, 20], 585: [20, 33, 34, 50, 30], 600: [55, 57, 60, 7, 68], 615: [55, 57, 60, 7, 68], 630: [9, 10, 12, 19, 24], 645: [9, 10, 12, 19, 24], 660: [25, 26, 31, 41, 47], 675: [31, 41, 47, 2, 48], 690: [48, 52, 56, 65, 73], 705: [73, 66, 67, 4, 61]}\n",
      "SET BEV DATA for current minute for ID BEV 23 for minute 720:  10.524\n",
      "SET BEV DATA for current minute for ID BEV 27 for minute 720:  10.524\n",
      "Charging BEVs (nachdem neue Plätze belegt):  [23, 27]\n",
      "Restladeenergie bis zur fairen Ladeenergie for BEV mit ID 23:  2.9408333333333294\n",
      "Restladezeit:  16.76643861649561\n",
      "Restladeenergie bis zur fairen Ladeenergie for BEV mit ID 27:  2.684799999999999\n",
      "Restladezeit:  15.306727480045607\n",
      "Charging BEVs:  [23, 27]\n",
      "\n",
      "\n",
      "Minute:  735\n",
      "Waiting BEVs:  [32, 38, 39, 46, 53, 22, 40]\n",
      "Charging list after handling overload:  [23, 27, 44, 62, 70]\n",
      "Waiting BEVs after updating parking end:  [32, 38, 39, 46, 53, 22, 40]\n",
      "Charging BEVs after updating post optimization plan and parking end:  [23, 27, 44, 62, 70]\n",
      "charging_list_per_minute_dict  {480: [5], 495: [5], 510: [5, 13], 525: [13, 14, 28, 51], 540: [14, 28, 51], 555: [14, 28, 51, 15, 69], 570: [15, 69, 17, 20], 585: [20, 33, 34, 50, 30], 600: [55, 57, 60, 7, 68], 615: [55, 57, 60, 7, 68], 630: [9, 10, 12, 19, 24], 645: [9, 10, 12, 19, 24], 660: [25, 26, 31, 41, 47], 675: [31, 41, 47, 2, 48], 690: [48, 52, 56, 65, 73], 705: [73, 66, 67, 4, 61], 720: [23, 27, 44, 62, 70]}\n",
      "FUEL Charging BEV:  23\n",
      "FUEL Charging BEV:  27\n",
      "SET BEV DATA for current minute for ID BEV 23 for minute 735:  9.576\n",
      "SET BEV DATA for current minute for ID BEV 27 for minute 735:  9.576\n",
      "SET BEV DATA for current minute for ID BEV 44 for minute 735:  9.576\n",
      "SET BEV DATA for current minute for ID BEV 62 for minute 735:  9.576\n",
      "SET BEV DATA for current minute for ID BEV 70 for minute 735:  9.576\n",
      "Charging BEVs (nachdem neue Plätze belegt):  [23, 27, 44, 62, 70]\n",
      "Restladeenergie bis zur fairen Ladeenergie for BEV mit ID 23:  0.3098333333333301\n",
      "Restladezeit:  1.9413116123642231\n",
      "Die Restladezeit des BEVS 23 endet vor dem nächsten Interval\n",
      "SET BEV DATA after charging time over for ID BEV 23 for minute 736.9413116123642:  9.928\n",
      "Ausgewähltes BEV das frei gewordenen Platz belegen darf:  32\n",
      "Ladestart für ausgewähltes BEV:  736.9413116123642\n",
      "SET BEV DATA for charging start of new bev for ID BEV 32 for minute 736.9413116123642:  9.576\n",
      "SET BEV DATA charging start between intervals for ID BEV 32 for minute 736.9413116123642:  9.576\n",
      "Restladeenergie bis zur fairen Ladeenergie for BEV mit ID 27:  0.05379999999999896\n",
      "Restladezeit:  0.3370927318295674\n",
      "Die Restladezeit des BEVS 27 endet vor dem nächsten Interval\n",
      "SET BEV DATA after charging time over for ID BEV 27 for minute 735.3370927318296:  10.028\n",
      "Ausgewähltes BEV das frei gewordenen Platz belegen darf:  38\n",
      "Ladestart für ausgewähltes BEV:  735.3370927318296\n",
      "SET BEV DATA for charging start of new bev for ID BEV 38 for minute 735.3370927318296:  9.576\n",
      "SET BEV DATA charging start between intervals for ID BEV 38 for minute 735.3370927318296:  9.576\n",
      "Restladeenergie bis zur fairen Ladeenergie for BEV mit ID 44:  3.2308116931479427\n",
      "Restladezeit:  20.243181034761545\n",
      "Restladeenergie bis zur fairen Ladeenergie for BEV mit ID 62:  2.394000000000009\n",
      "Restladezeit:  15.000000000000057\n",
      "Restladeenergie bis zur fairen Ladeenergie for BEV mit ID 70:  2.394000000000001\n",
      "Restladezeit:  15.000000000000007\n",
      "Charging BEVs:  [23, 27, 44, 62, 70]\n",
      "\n",
      "\n",
      "Minute:  750\n",
      "Waiting BEVs:  [39, 46, 53, 22, 40]\n",
      "SET BEV DATA after charging time over for ID BEV 44 for minute 750:  9.1\n",
      "Removed from charging list because of overload:  44\n",
      "Charging list after handling overload:  [62, 70, 32, 38]\n",
      "SET BEV DATA charging start between intervals for ID BEV 21 for minute 750.8466372912806:  8.623999999999999\n",
      "BEV 44 CHARGING END FROM POST OPTI in minute\n",
      "BEV 62 CHARGING END FROM POST OPTI in minute\n",
      "BEV 70 CHARGING END FROM POST OPTI in minute\n",
      "Waiting BEVs after updating parking end:  [39, 46, 53, 22, 40, 58]\n",
      "Charging BEVs after updating post optimization plan and parking end:  [62, 70, 32, 38]\n",
      "charging_list_per_minute_dict  {480: [5], 495: [5], 510: [5, 13], 525: [13, 14, 28, 51], 540: [14, 28, 51], 555: [14, 28, 51, 15, 69], 570: [15, 69, 17, 20], 585: [20, 33, 34, 50, 30], 600: [55, 57, 60, 7, 68], 615: [55, 57, 60, 7, 68], 630: [9, 10, 12, 19, 24], 645: [9, 10, 12, 19, 24], 660: [25, 26, 31, 41, 47], 675: [31, 41, 47, 2, 48], 690: [48, 52, 56, 65, 73], 705: [73, 66, 67, 4, 61], 720: [23, 27, 44, 62, 70], 735: [23, 27, 44, 62, 70]}\n",
      "FUEL Charging BEV:  62\n",
      "FUEL Charging BEV:  70\n",
      "SET BEV DATA for current minute for ID BEV 62 for minute 750:  8.623999999999999\n",
      "SET BEV DATA for current minute for ID BEV 70 for minute 750:  8.623999999999999\n",
      "SET BEV DATA for current minute for ID BEV 32 for minute 750:  8.623999999999999\n",
      "SET BEV DATA for current minute for ID BEV 38 for minute 750:  8.623999999999999\n",
      "Charging BEVs (nachdem neue Plätze belegt):  [62, 70, 32, 38]\n",
      "Restladeenergie bis zur fairen Ladeenergie for BEV mit ID 62:  8.881784197001252e-15\n",
      "Restladezeit:  6.179348931123321e-14\n",
      "Die Restladezeit des BEVS 62 endet vor dem nächsten Interval\n",
      "SET BEV DATA after charging time over for ID BEV 62 for minute 750.0000000000001:  9.1\n",
      "Ausgewähltes BEV das frei gewordenen Platz belegen darf:  39\n",
      "Ladestart für ausgewähltes BEV:  750.0000000000001\n",
      "SET BEV DATA for charging start of new bev for ID BEV 39 for minute 750.0000000000001:  8.623999999999999\n",
      "SET BEV DATA charging start between intervals for ID BEV 39 for minute 750.0000000000001:  8.623999999999999\n",
      "Restladeenergie bis zur fairen Ladeenergie for BEV mit ID 70:  8.881784197001252e-16\n",
      "Restladezeit:  6.179348931123321e-15\n",
      "Die Restladezeit des BEVS 70 endet vor dem nächsten Interval\n",
      "SET BEV DATA after charging time over for ID BEV 70 for minute 750.0:  9.1\n",
      "Ausgewähltes BEV das frei gewordenen Platz belegen darf:  46\n",
      "Ladestart für ausgewähltes BEV:  750.0\n",
      "SET BEV DATA for charging start of new bev for ID BEV 46 for minute 750.0:  8.623999999999999\n",
      "SET BEV DATA charging start between intervals for ID BEV 46 for minute 750.0:  8.623999999999999\n",
      "Restladeenergie bis zur fairen Ladeenergie for BEV mit ID 32:  2.2233333333333234\n",
      "Restladezeit:  15.468460111317189\n",
      "Restladeenergie bis zur fairen Ladeenergie for BEV mit ID 38:  2.4122999999999966\n",
      "Restladezeit:  16.7831632653061\n",
      "Charging BEVs:  [62, 70, 32, 38]\n",
      "\n",
      "\n",
      "Minute:  765\n",
      "Waiting BEVs:  [53, 22, 40, 58]\n",
      "SET BEV DATA after charging time over for ID BEV 32 for minute 765:  8.15\n",
      "Removed from charging list because of overload:  32\n",
      "SET BEV DATA after charging time over for ID BEV 38 for minute 765:  8.15\n",
      "Removed from charging list because of overload:  38\n",
      "SET BEV DATA after charging time over for ID BEV 21 for minute 765:  8.15\n",
      "Removed from charging list because of overload:  21\n",
      "Charging list after handling overload:  [39, 46]\n",
      "BEV 21 CHARGING END FROM POST OPTI in minute\n",
      "SET BEV DATA charging start between intervals for ID BEV 37 for minute 771.4721946375372:  9.595\n",
      "SET BEV DATA charging start between intervals for ID BEV 43 for minute 767.6341844710787:  7.676\n",
      "Waiting BEVs after updating parking end:  [53, 22, 40, 58]\n",
      "Charging BEVs after updating post optimization plan and parking end:  [39, 46, 42]\n"
     ]
    },
    {
     "name": "stdout",
     "output_type": "stream",
     "text": [
      "charging_list_per_minute_dict  {480: [5], 495: [5], 510: [5, 13], 525: [13, 14, 28, 51], 540: [14, 28, 51], 555: [14, 28, 51, 15, 69], 570: [15, 69, 17, 20], 585: [20, 33, 34, 50, 30], 600: [55, 57, 60, 7, 68], 615: [55, 57, 60, 7, 68], 630: [9, 10, 12, 19, 24], 645: [9, 10, 12, 19, 24], 660: [25, 26, 31, 41, 47], 675: [31, 41, 47, 2, 48], 690: [48, 52, 56, 65, 73], 705: [73, 66, 67, 4, 61], 720: [23, 27, 44, 62, 70], 735: [23, 27, 44, 62, 70], 750: [62, 70, 32, 38, 21]}\n",
      "FUEL Charging BEV:  42\n",
      "SET BEV DATA for current minute for ID BEV 39 for minute 765:  7.676\n",
      "SET BEV DATA for current minute for ID BEV 46 for minute 765:  7.676\n",
      "SET BEV DATA for current minute for ID BEV 42 for minute 765:  7.676\n",
      "Charging BEVs (nachdem neue Plätze belegt):  [39, 46, 42]\n",
      "Restladeenergie bis zur fairen Ladeenergie for BEV mit ID 39:  1.4965000000000162\n",
      "Restladezeit:  11.69749869723827\n",
      "Die Restladezeit des BEVS 39 endet vor dem nächsten Interval\n",
      "SET BEV DATA after charging time over for ID BEV 39 for minute 776.6974986972383:  7.409999999999999\n",
      "Ausgewähltes BEV das frei gewordenen Platz belegen darf:  53\n",
      "Ladestart für ausgewähltes BEV:  776.6974986972383\n",
      "SET BEV DATA for charging start of new bev for ID BEV 53 for minute 776.6974986972383:  7.676\n",
      "SET BEV DATA charging start between intervals for ID BEV 53 for minute 776.6974986972383:  7.676\n",
      "Restladeenergie bis zur fairen Ladeenergie for BEV mit ID 46:  1.6514999999999995\n",
      "Restladezeit:  12.909067222511721\n",
      "Die Restladezeit des BEVS 46 endet vor dem nächsten Interval\n",
      "SET BEV DATA after charging time over for ID BEV 46 for minute 777.9090672225117:  7.331999999999999\n",
      "Ausgewähltes BEV das frei gewordenen Platz belegen darf:  22\n",
      "Ladestart für ausgewähltes BEV:  777.9090672225117\n",
      "SET BEV DATA for charging start of new bev for ID BEV 22 for minute 777.9090672225117:  7.676\n",
      "SET BEV DATA charging start between intervals for ID BEV 22 for minute 777.9090672225117:  7.676\n",
      "Restladeenergie bis zur fairen Ladeenergie for BEV mit ID 42:  -0.1785000000000001\n",
      "Restladezeit:  -1.395257946847317\n",
      "Charging BEVs:  [39, 46, 42]\n",
      "\n",
      "\n",
      "Minute:  780\n",
      "Waiting BEVs:  [40, 58]\n",
      "SET BEV DATA after charging time over for ID BEV 42 for minute 780:  7.2\n",
      "Removed from charging list because of overload:  42\n",
      "SET BEV DATA after charging time over for ID BEV 37 for minute 780:  7.2\n",
      "Removed from charging list because of overload:  37\n",
      "Charging list after handling overload:  [43, 53, 22]\n",
      "SET BEV DATA charging start between intervals for ID BEV 35 for minute 787.4694647670389:  7.35\n",
      "SET BEV DATA charging start between intervals for ID BEV 36 for minute 794.2367346938776:  7.35\n",
      "BEV 37 CHARGING END FROM POST OPTI in minute\n",
      "BEV 42 CHARGING END FROM POST OPTI in minute\n",
      "BEV 43 CHARGING END FROM POST OPTI in minute\n",
      "Waiting BEVs after updating parking end:  [40, 58, 45, 54, 59, 63, 64, 71, 72, 74]\n",
      "Charging BEVs after updating post optimization plan and parking end:  [43, 53, 22]\n",
      "charging_list_per_minute_dict  {480: [5], 495: [5], 510: [5, 13], 525: [13, 14, 28, 51], 540: [14, 28, 51], 555: [14, 28, 51, 15, 69], 570: [15, 69, 17, 20], 585: [20, 33, 34, 50, 30], 600: [55, 57, 60, 7, 68], 615: [55, 57, 60, 7, 68], 630: [9, 10, 12, 19, 24], 645: [9, 10, 12, 19, 24], 660: [25, 26, 31, 41, 47], 675: [31, 41, 47, 2, 48], 690: [48, 52, 56, 65, 73], 705: [73, 66, 67, 4, 61], 720: [23, 27, 44, 62, 70], 735: [23, 27, 44, 62, 70], 750: [62, 70, 32, 38, 21], 765: [39, 46, 42, 37, 43]}\n",
      "SET BEV DATA for current minute for ID BEV 43 for minute 780:  7.35\n",
      "SET BEV DATA for current minute for ID BEV 53 for minute 780:  7.35\n",
      "SET BEV DATA for current minute for ID BEV 22 for minute 780:  7.35\n",
      "Charging BEVs (nachdem neue Plätze belegt):  [43, 53, 22]\n",
      "Restladeenergie bis zur fairen Ladeenergie for BEV mit ID 43:  0.39550000000000085\n",
      "Restladezeit:  3.2285714285714353\n",
      "Die Restladezeit des BEVS 43 endet vor dem nächsten Interval\n",
      "SET BEV DATA after charging time over for ID BEV 43 for minute 783.2285714285714:  7.264\n",
      "Ausgewähltes BEV das frei gewordenen Platz belegen darf:  40\n",
      "Ladestart für ausgewähltes BEV:  783.2285714285714\n",
      "SET BEV DATA for charging start of new bev for ID BEV 40 for minute 783.2285714285714:  7.35\n",
      "SET BEV DATA charging start between intervals for ID BEV 40 for minute 783.2285714285714:  7.35\n",
      "Restladeenergie bis zur fairen Ladeenergie for BEV mit ID 53:  3.8850000000000193\n",
      "Restladezeit:  31.714285714285875\n",
      "Restladeenergie bis zur fairen Ladeenergie for BEV mit ID 22:  4.647499999999994\n",
      "Restladezeit:  37.93877551020403\n",
      "Charging BEVs:  [43, 53, 22]\n",
      "\n",
      "\n",
      "Minute:  795\n",
      "Waiting BEVs:  [58, 45, 54, 59, 63, 64, 71, 72, 74]\n",
      "SET BEV DATA after charging time over for ID BEV 53 for minute 795:  7.5\n",
      "Removed from charging list because of overload:  53\n",
      "Charging list after handling overload:  [22, 35, 36, 40]\n",
      "Waiting BEVs after updating parking end:  [58, 45, 54, 59, 63, 64, 71, 72, 74]\n",
      "Charging BEVs after updating post optimization plan and parking end:  [22, 35, 36, 40, 8]\n",
      "charging_list_per_minute_dict  {480: [5], 495: [5], 510: [5, 13], 525: [13, 14, 28, 51], 540: [14, 28, 51], 555: [14, 28, 51, 15, 69], 570: [15, 69, 17, 20], 585: [20, 33, 34, 50, 30], 600: [55, 57, 60, 7, 68], 615: [55, 57, 60, 7, 68], 630: [9, 10, 12, 19, 24], 645: [9, 10, 12, 19, 24], 660: [25, 26, 31, 41, 47], 675: [31, 41, 47, 2, 48], 690: [48, 52, 56, 65, 73], 705: [73, 66, 67, 4, 61], 720: [23, 27, 44, 62, 70], 735: [23, 27, 44, 62, 70], 750: [62, 70, 32, 38, 21], 765: [39, 46, 42, 37, 43], 780: [43, 53, 22, 35, 36]}\n",
      "FUEL Charging BEV:  22\n",
      "FUEL Charging BEV:  8\n",
      "SET BEV DATA for current minute for ID BEV 22 for minute 795:  7.65\n",
      "SET BEV DATA for current minute for ID BEV 35 for minute 795:  7.65\n",
      "SET BEV DATA for current minute for ID BEV 36 for minute 795:  7.65\n",
      "SET BEV DATA for current minute for ID BEV 40 for minute 795:  7.65\n",
      "SET BEV DATA for current minute for ID BEV 8 for minute 795:  7.65\n",
      "Charging BEVs (nachdem neue Plätze belegt):  [22, 35, 36, 40, 8]\n",
      "Restladeenergie bis zur fairen Ladeenergie for BEV mit ID 22:  2.8099999999999934\n",
      "Restladezeit:  22.03921568627446\n",
      "Restladeenergie bis zur fairen Ladeenergie for BEV mit ID 35:  4.292509433962259\n",
      "Restladezeit:  33.666740658527516\n",
      "Restladeenergie bis zur fairen Ladeenergie for BEV mit ID 36:  2.414000000000002\n",
      "Restladezeit:  18.933333333333348\n",
      "Restladeenergie bis zur fairen Ladeenergie for BEV mit ID 40:  2.7354999999999956\n",
      "Restladezeit:  21.45490196078428\n",
      "Restladeenergie bis zur fairen Ladeenergie for BEV mit ID 8:  -0.27500000000000013\n",
      "Restladezeit:  -2.1568627450980404\n",
      "Charging BEVs:  [22, 35, 36, 40, 8]\n",
      "\n",
      "\n",
      "Minute:  810\n",
      "Waiting BEVs:  [58, 45, 54, 59, 63, 64, 71, 72, 74]\n",
      "SET BEV DATA after charging time over for ID BEV 22 for minute 810:  7.8\n",
      "Removed from charging list because of overload:  22\n",
      "SET BEV DATA after charging time over for ID BEV 35 for minute 810:  7.8\n",
      "Removed from charging list because of overload:  35\n",
      "Charging list after handling overload:  [36, 40, 8]\n",
      "SET BEV DATA charging start between intervals for ID BEV 29 for minute 822.4981132075471:  9.9375\n",
      "BEV 35 CHARGING END FROM POST OPTI in minute\n",
      "BEV 36 CHARGING END FROM POST OPTI in minute\n",
      "Waiting BEVs after updating parking end:  [58, 45, 54, 59, 63, 64, 71, 72, 74, 49]\n",
      "Charging BEVs after updating post optimization plan and parking end:  [36, 40, 8]\n",
      "charging_list_per_minute_dict  {480: [5], 495: [5], 510: [5, 13], 525: [13, 14, 28, 51], 540: [14, 28, 51], 555: [14, 28, 51, 15, 69], 570: [15, 69, 17, 20], 585: [20, 33, 34, 50, 30], 600: [55, 57, 60, 7, 68], 615: [55, 57, 60, 7, 68], 630: [9, 10, 12, 19, 24], 645: [9, 10, 12, 19, 24], 660: [25, 26, 31, 41, 47], 675: [31, 41, 47, 2, 48], 690: [48, 52, 56, 65, 73], 705: [73, 66, 67, 4, 61], 720: [23, 27, 44, 62, 70], 735: [23, 27, 44, 62, 70], 750: [62, 70, 32, 38, 21], 765: [39, 46, 42, 37, 43], 780: [43, 53, 22, 35, 36], 795: [22, 35, 36, 40, 8]}\n",
      "FUEL Charging BEV:  36\n",
      "FUEL Charging BEV:  40\n",
      "FUEL Charging BEV:  8\n",
      "SET BEV DATA for current minute for ID BEV 36 for minute 810:  9.9375\n",
      "SET BEV DATA for current minute for ID BEV 40 for minute 810:  9.9375\n",
      "SET BEV DATA for current minute for ID BEV 8 for minute 810:  9.9375\n",
      "Charging BEVs (nachdem neue Plätze belegt):  [36, 40, 8]\n",
      "Restladeenergie bis zur fairen Ladeenergie for BEV mit ID 36:  0.5015000000000018\n",
      "Restladezeit:  3.027924528301898\n",
      "Die Restladezeit des BEVS 36 endet vor dem nächsten Interval\n",
      "SET BEV DATA after charging time over for ID BEV 36 for minute 813.0279245283019:  9.825\n",
      "Ausgewähltes BEV das frei gewordenen Platz belegen darf:  58\n",
      "Ladestart für ausgewähltes BEV:  813.0279245283019\n",
      "SET BEV DATA for charging start of new bev for ID BEV 58 for minute 813.0279245283019:  9.9375\n",
      "SET BEV DATA charging start between intervals for ID BEV 58 for minute 813.0279245283019:  9.9375\n",
      "Restladeenergie bis zur fairen Ladeenergie for BEV mit ID 40:  0.822999999999996\n",
      "Restladezeit:  4.969056603773561\n",
      "Die Restladezeit des BEVS 40 endet vor dem nächsten Interval\n",
      "SET BEV DATA after charging time over for ID BEV 40 for minute 814.9690566037735:  9.875\n",
      "Ausgewähltes BEV das frei gewordenen Platz belegen darf:  45\n",
      "Ladestart für ausgewähltes BEV:  814.9690566037735\n",
      "SET BEV DATA for charging start of new bev for ID BEV 45 for minute 814.9690566037735:  9.9375\n",
      "SET BEV DATA charging start between intervals for ID BEV 45 for minute 814.9690566037735:  9.9375\n",
      "Restladeenergie bis zur fairen Ladeenergie for BEV mit ID 8:  -2.1875\n",
      "Restladezeit:  -13.20754716981132\n",
      "Charging BEVs:  [36, 40, 8]\n",
      "\n",
      "\n",
      "Minute:  825\n",
      "Waiting BEVs:  [54, 59, 63, 64, 71, 72, 74, 49]\n",
      "Charging list after handling overload:  [8, 29, 58, 45]\n",
      "Waiting BEVs after updating parking end:  [54, 59, 63, 64, 71, 72, 74, 49]\n",
      "Charging BEVs after updating post optimization plan and parking end:  [8, 29, 58, 45, 16]\n"
     ]
    },
    {
     "name": "stdout",
     "output_type": "stream",
     "text": [
      "charging_list_per_minute_dict  {480: [5], 495: [5], 510: [5, 13], 525: [13, 14, 28, 51], 540: [14, 28, 51], 555: [14, 28, 51, 15, 69], 570: [15, 69, 17, 20], 585: [20, 33, 34, 50, 30], 600: [55, 57, 60, 7, 68], 615: [55, 57, 60, 7, 68], 630: [9, 10, 12, 19, 24], 645: [9, 10, 12, 19, 24], 660: [25, 26, 31, 41, 47], 675: [31, 41, 47, 2, 48], 690: [48, 52, 56, 65, 73], 705: [73, 66, 67, 4, 61], 720: [23, 27, 44, 62, 70], 735: [23, 27, 44, 62, 70], 750: [62, 70, 32, 38, 21], 765: [39, 46, 42, 37, 43], 780: [43, 53, 22, 35, 36], 795: [22, 35, 36, 40, 8], 810: [36, 40, 8, 29]}\n",
      "FUEL Charging BEV:  8\n",
      "FUEL Charging BEV:  16\n",
      "SET BEV DATA for current minute for ID BEV 8 for minute 825:  8.25\n",
      "SET BEV DATA for current minute for ID BEV 29 for minute 825:  8.25\n",
      "SET BEV DATA for current minute for ID BEV 58 for minute 825:  8.25\n",
      "SET BEV DATA for current minute for ID BEV 45 for minute 825:  8.25\n",
      "SET BEV DATA for current minute for ID BEV 16 for minute 825:  8.25\n",
      "Charging BEVs (nachdem neue Plätze belegt):  [8, 29, 58, 45, 16]\n",
      "Restladeenergie bis zur fairen Ladeenergie for BEV mit ID 8:  -4.671875\n",
      "Restladezeit:  -33.97727272727273\n",
      "Restladeenergie bis zur fairen Ladeenergie for BEV mit ID 29:  5.015624999999993\n",
      "Restladezeit:  36.47727272727268\n",
      "Restladeenergie bis zur fairen Ladeenergie for BEV mit ID 58:  -0.0053749999999943565\n",
      "Restladezeit:  -0.03909090909086805\n",
      "Restladeenergie bis zur fairen Ladeenergie for BEV mit ID 45:  -0.09887500000000804\n",
      "Restladezeit:  -0.7190909090909675\n",
      "Restladeenergie bis zur fairen Ladeenergie for BEV mit ID 16:  -1.241875\n",
      "Restladezeit:  -9.031818181818183\n",
      "Charging BEVs:  [8, 29, 58, 45, 16]\n",
      "\n",
      "\n",
      "Minute:  840\n",
      "Waiting BEVs:  [54, 59, 63, 64, 71, 72, 74, 49]\n",
      "SET BEV DATA after charging time over for ID BEV 8 for minute 840:  8.4\n",
      "Removed from charging list because of overload:  8\n",
      "Charging list after handling overload:  [29, 58, 45, 16]\n",
      "BEV 8 CHARGING END FROM POST OPTI in minute\n",
      "Waiting BEVs after updating parking end:  [54, 59, 63, 64, 71, 72, 74, 49]\n",
      "Charging BEVs after updating post optimization plan and parking end:  [29, 58, 45, 16]\n",
      "charging_list_per_minute_dict  {480: [5], 495: [5], 510: [5, 13], 525: [13, 14, 28, 51], 540: [14, 28, 51], 555: [14, 28, 51, 15, 69], 570: [15, 69, 17, 20], 585: [20, 33, 34, 50, 30], 600: [55, 57, 60, 7, 68], 615: [55, 57, 60, 7, 68], 630: [9, 10, 12, 19, 24], 645: [9, 10, 12, 19, 24], 660: [25, 26, 31, 41, 47], 675: [31, 41, 47, 2, 48], 690: [48, 52, 56, 65, 73], 705: [73, 66, 67, 4, 61], 720: [23, 27, 44, 62, 70], 735: [23, 27, 44, 62, 70], 750: [62, 70, 32, 38, 21], 765: [39, 46, 42, 37, 43], 780: [43, 53, 22, 35, 36], 795: [22, 35, 36, 40, 8], 810: [36, 40, 8, 29], 825: [8, 29, 58, 45, 16]}\n",
      "FUEL Charging BEV:  29\n",
      "FUEL Charging BEV:  58\n",
      "FUEL Charging BEV:  45\n",
      "FUEL Charging BEV:  16\n",
      "SET BEV DATA for current minute for ID BEV 29 for minute 840:  9.75\n",
      "SET BEV DATA for current minute for ID BEV 58 for minute 840:  9.75\n",
      "SET BEV DATA for current minute for ID BEV 45 for minute 840:  9.75\n",
      "SET BEV DATA for current minute for ID BEV 16 for minute 840:  9.75\n",
      "Charging BEVs (nachdem neue Plätze belegt):  [29, 58, 45, 16]\n",
      "Restladeenergie bis zur fairen Ladeenergie for BEV mit ID 29:  2.953124999999993\n",
      "Restladezeit:  18.173076923076877\n",
      "Restladeenergie bis zur fairen Ladeenergie for BEV mit ID 58:  -2.067874999999994\n",
      "Restladezeit:  -12.72538461538458\n",
      "Restladeenergie bis zur fairen Ladeenergie for BEV mit ID 45:  -2.1613750000000076\n",
      "Restladezeit:  -13.300769230769278\n",
      "Restladeenergie bis zur fairen Ladeenergie for BEV mit ID 16:  -3.3043750000000003\n",
      "Restladezeit:  -20.334615384615386\n",
      "Charging BEVs:  [29, 58, 45, 16]\n",
      "\n",
      "\n",
      "Minute:  855\n",
      "Waiting BEVs:  [54, 59, 63, 64, 71, 72, 74, 49]\n",
      "Charging list after handling overload:  [29, 58, 45, 16]\n",
      "BEV 29 CHARGING END FROM POST OPTI in minute\n",
      "Waiting BEVs after updating parking end:  [54, 59, 63, 64, 71, 72, 74, 49]\n",
      "Charging BEVs after updating post optimization plan and parking end:  [29, 58, 45, 16]\n",
      "charging_list_per_minute_dict  {480: [5], 495: [5], 510: [5, 13], 525: [13, 14, 28, 51], 540: [14, 28, 51], 555: [14, 28, 51, 15, 69], 570: [15, 69, 17, 20], 585: [20, 33, 34, 50, 30], 600: [55, 57, 60, 7, 68], 615: [55, 57, 60, 7, 68], 630: [9, 10, 12, 19, 24], 645: [9, 10, 12, 19, 24], 660: [25, 26, 31, 41, 47], 675: [31, 41, 47, 2, 48], 690: [48, 52, 56, 65, 73], 705: [73, 66, 67, 4, 61], 720: [23, 27, 44, 62, 70], 735: [23, 27, 44, 62, 70], 750: [62, 70, 32, 38, 21], 765: [39, 46, 42, 37, 43], 780: [43, 53, 22, 35, 36], 795: [22, 35, 36, 40, 8], 810: [36, 40, 8, 29], 825: [8, 29, 58, 45, 16], 840: [29, 58, 45, 16]}\n",
      "FUEL Charging BEV:  29\n",
      "FUEL Charging BEV:  58\n",
      "FUEL Charging BEV:  45\n",
      "FUEL Charging BEV:  16\n",
      "SET BEV DATA for current minute for ID BEV 29 for minute 855:  8.25\n",
      "SET BEV DATA for current minute for ID BEV 58 for minute 855:  8.25\n",
      "SET BEV DATA for current minute for ID BEV 45 for minute 855:  8.25\n",
      "SET BEV DATA for current minute for ID BEV 16 for minute 855:  8.25\n",
      "Charging BEVs (nachdem neue Plätze belegt):  [29, 58, 45, 16]\n",
      "Restladeenergie bis zur fairen Ladeenergie for BEV mit ID 29:  0.5156249999999929\n",
      "Restladezeit:  3.7499999999999485\n",
      "Die Restladezeit des BEVS 29 endet vor dem nächsten Interval\n",
      "SET BEV DATA after charging time over for ID BEV 29 for minute 858.75:  8.625\n",
      "Ausgewähltes BEV das frei gewordenen Platz belegen darf:  54\n",
      "Ladestart für ausgewähltes BEV:  858.75\n",
      "SET BEV DATA for charging start of new bev for ID BEV 54 for minute 858.75:  8.25\n",
      "SET BEV DATA charging start between intervals for ID BEV 54 for minute 858.75:  8.25\n",
      "Restladeenergie bis zur fairen Ladeenergie for BEV mit ID 58:  -4.505374999999994\n",
      "Restladezeit:  -32.766363636363586\n",
      "Restladeenergie bis zur fairen Ladeenergie for BEV mit ID 45:  -4.598875000000008\n",
      "Restladezeit:  -33.44636363636369\n",
      "Restladeenergie bis zur fairen Ladeenergie for BEV mit ID 16:  -5.741875\n",
      "Restladezeit:  -41.759090909090915\n",
      "Charging BEVs:  [29, 58, 45, 16]\n",
      "\n",
      "\n",
      "Minute:  870\n",
      "Waiting BEVs:  [59, 63, 64, 71, 72, 74, 49]\n",
      "SET BEV DATA after charging time over for ID BEV 58 for minute 870:  7.5\n",
      "Removed from charging list because of overload:  58\n",
      "SET BEV DATA after charging time over for ID BEV 45 for minute 870:  7.5\n",
      "Removed from charging list because of overload:  45\n",
      "Charging list after handling overload:  [16, 54]\n",
      "SET BEV DATA charging start between intervals for ID BEV 18 for minute 871.8166666666667:  9.0\n",
      "Waiting BEVs after updating parking end:  [59, 63, 64, 71, 72, 74, 49]\n",
      "Charging BEVs after updating post optimization plan and parking end:  [16, 54]\n",
      "charging_list_per_minute_dict  {480: [5], 495: [5], 510: [5, 13], 525: [13, 14, 28, 51], 540: [14, 28, 51], 555: [14, 28, 51, 15, 69], 570: [15, 69, 17, 20], 585: [20, 33, 34, 50, 30], 600: [55, 57, 60, 7, 68], 615: [55, 57, 60, 7, 68], 630: [9, 10, 12, 19, 24], 645: [9, 10, 12, 19, 24], 660: [25, 26, 31, 41, 47], 675: [31, 41, 47, 2, 48], 690: [48, 52, 56, 65, 73], 705: [73, 66, 67, 4, 61], 720: [23, 27, 44, 62, 70], 735: [23, 27, 44, 62, 70], 750: [62, 70, 32, 38, 21], 765: [39, 46, 42, 37, 43], 780: [43, 53, 22, 35, 36], 795: [22, 35, 36, 40, 8], 810: [36, 40, 8, 29], 825: [8, 29, 58, 45, 16], 840: [29, 58, 45, 16], 855: [29, 58, 45, 16]}\n",
      "FUEL Charging BEV:  16\n",
      "SET BEV DATA for current minute for ID BEV 16 for minute 870:  9.0\n",
      "SET BEV DATA for current minute for ID BEV 54 for minute 870:  9.0\n",
      "Charging BEVs (nachdem neue Plätze belegt):  [16, 54]\n",
      "Restladeenergie bis zur fairen Ladeenergie for BEV mit ID 16:  -7.804375\n",
      "Restladezeit:  -52.02916666666667\n",
      "Restladeenergie bis zur fairen Ladeenergie for BEV mit ID 54:  0.015624999999999778\n",
      "Restladezeit:  0.10416666666666519\n",
      "Die Restladezeit des BEVS 54 endet vor dem nächsten Interval\n",
      "SET BEV DATA after charging time over for ID BEV 54 for minute 870.1041666666666:  9.986666666666666\n",
      "Ausgewähltes BEV das frei gewordenen Platz belegen darf:  59\n",
      "Ladestart für ausgewähltes BEV:  870.1041666666666\n",
      "SET BEV DATA for charging start of new bev for ID BEV 59 for minute 870.1041666666666:  9.0\n",
      "SET BEV DATA charging start between intervals for ID BEV 59 for minute 870.1041666666666:  9.0\n",
      "Charging BEVs:  [16, 54]\n",
      "\n",
      "\n",
      "Minute:  885\n",
      "Waiting BEVs:  [63, 64, 71, 72, 74, 49]\n",
      "SET BEV DATA after charging time over for ID BEV 16 for minute 885:  8.0\n",
      "Removed from charging list because of overload:  16\n",
      "Charging list after handling overload:  [18, 59]\n",
      "BEV 16 CHARGING END FROM POST OPTI in minute\n",
      "BEV 18 CHARGING END FROM POST OPTI in minute\n",
      "Waiting BEVs after updating parking end:  [63, 64, 71, 72, 74, 49]\n",
      "Charging BEVs after updating post optimization plan and parking end:  [18, 59]\n",
      "charging_list_per_minute_dict  {480: [5], 495: [5], 510: [5, 13], 525: [13, 14, 28, 51], 540: [14, 28, 51], 555: [14, 28, 51, 15, 69], 570: [15, 69, 17, 20], 585: [20, 33, 34, 50, 30], 600: [55, 57, 60, 7, 68], 615: [55, 57, 60, 7, 68], 630: [9, 10, 12, 19, 24], 645: [9, 10, 12, 19, 24], 660: [25, 26, 31, 41, 47], 675: [31, 41, 47, 2, 48], 690: [48, 52, 56, 65, 73], 705: [73, 66, 67, 4, 61], 720: [23, 27, 44, 62, 70], 735: [23, 27, 44, 62, 70], 750: [62, 70, 32, 38, 21], 765: [39, 46, 42, 37, 43], 780: [43, 53, 22, 35, 36], 795: [22, 35, 36, 40, 8], 810: [36, 40, 8, 29], 825: [8, 29, 58, 45, 16], 840: [29, 58, 45, 16], 855: [29, 58, 45, 16], 870: [16, 54, 18]}\n",
      "SET BEV DATA for current minute for ID BEV 18 for minute 885:  10.5\n"
     ]
    },
    {
     "name": "stdout",
     "output_type": "stream",
     "text": [
      "SET BEV DATA for current minute for ID BEV 59 for minute 885:  10.5\n",
      "Charging BEVs (nachdem neue Plätze belegt):  [18, 59]\n",
      "Restladeenergie bis zur fairen Ladeenergie for BEV mit ID 18:  7.549516567451064e-15\n",
      "Restladezeit:  4.314009467114894e-14\n",
      "Die Restladezeit des BEVS 18 endet vor dem nächsten Interval\n",
      "SET BEV DATA after charging time over for ID BEV 18 for minute 885.0:  12.0\n",
      "Ausgewähltes BEV das frei gewordenen Platz belegen darf:  63\n",
      "Ladestart für ausgewähltes BEV:  885.0\n",
      "SET BEV DATA for charging start of new bev for ID BEV 63 for minute 885.0:  10.5\n",
      "SET BEV DATA charging start between intervals for ID BEV 63 for minute 885.0:  10.5\n",
      "Restladeenergie bis zur fairen Ladeenergie for BEV mit ID 59:  -0.671875000000006\n",
      "Restladezeit:  -3.839285714285749\n",
      "Charging BEVs:  [18, 59]\n",
      "\n",
      "\n",
      "Minute:  900\n",
      "Waiting BEVs:  [64, 71, 72, 74, 49]\n",
      "SET BEV DATA after charging time over for ID BEV 59 for minute 900:  9.0\n",
      "Removed from charging list because of overload:  59\n",
      "Charging list after handling overload:  [63]\n",
      "SET BEV DATA charging start between intervals for ID BEV 11 for minute 914.8222748815166:  8.44\n",
      "Waiting BEVs after updating parking end:  [64, 71, 72, 74, 49]\n",
      "Charging BEVs after updating post optimization plan and parking end:  [63]\n",
      "charging_list_per_minute_dict  {480: [5], 495: [5], 510: [5, 13], 525: [13, 14, 28, 51], 540: [14, 28, 51], 555: [14, 28, 51, 15, 69], 570: [15, 69, 17, 20], 585: [20, 33, 34, 50, 30], 600: [55, 57, 60, 7, 68], 615: [55, 57, 60, 7, 68], 630: [9, 10, 12, 19, 24], 645: [9, 10, 12, 19, 24], 660: [25, 26, 31, 41, 47], 675: [31, 41, 47, 2, 48], 690: [48, 52, 56, 65, 73], 705: [73, 66, 67, 4, 61], 720: [23, 27, 44, 62, 70], 735: [23, 27, 44, 62, 70], 750: [62, 70, 32, 38, 21], 765: [39, 46, 42, 37, 43], 780: [43, 53, 22, 35, 36], 795: [22, 35, 36, 40, 8], 810: [36, 40, 8, 29], 825: [8, 29, 58, 45, 16], 840: [29, 58, 45, 16], 855: [29, 58, 45, 16], 870: [16, 54, 18], 885: [18, 59]}\n",
      "SET BEV DATA for current minute for ID BEV 63 for minute 900:  8.44\n",
      "Charging BEVs (nachdem neue Plätze belegt):  [63]\n",
      "Restladeenergie bis zur fairen Ladeenergie for BEV mit ID 63:  -1.0625000000000002\n",
      "Restladezeit:  -7.553317535545025\n",
      "Charging BEVs:  [63]\n",
      "\n",
      "\n",
      "Minute:  915\n",
      "Waiting BEVs:  [64, 71, 72, 74, 49]\n",
      "SET BEV DATA after charging time over for ID BEV 63 for minute 915:  7.875\n",
      "Removed from charging list because of overload:  63\n",
      "SET BEV DATA after charging time over for ID BEV 11 for minute 915:  7.875\n",
      "Removed from charging list because of overload:  11\n",
      "Charging list after handling overload:  []\n",
      "SET BEV DATA charging start between intervals for ID BEV 3 for minute 929.8768809849521:  7.31\n",
      "SET BEV DATA charging start between intervals for ID BEV 6 for minute 924.9931600547195:  7.31\n",
      "BEV 11 CHARGING END FROM POST OPTI in minute\n",
      "Waiting BEVs after updating parking end:  [64, 71, 72, 74, 49]\n",
      "Charging BEVs after updating post optimization plan and parking end:  []\n",
      "charging_list_per_minute_dict  {480: [5], 495: [5], 510: [5, 13], 525: [13, 14, 28, 51], 540: [14, 28, 51], 555: [14, 28, 51, 15, 69], 570: [15, 69, 17, 20], 585: [20, 33, 34, 50, 30], 600: [55, 57, 60, 7, 68], 615: [55, 57, 60, 7, 68], 630: [9, 10, 12, 19, 24], 645: [9, 10, 12, 19, 24], 660: [25, 26, 31, 41, 47], 675: [31, 41, 47, 2, 48], 690: [48, 52, 56, 65, 73], 705: [73, 66, 67, 4, 61], 720: [23, 27, 44, 62, 70], 735: [23, 27, 44, 62, 70], 750: [62, 70, 32, 38, 21], 765: [39, 46, 42, 37, 43], 780: [43, 53, 22, 35, 36], 795: [22, 35, 36, 40, 8], 810: [36, 40, 8, 29], 825: [8, 29, 58, 45, 16], 840: [29, 58, 45, 16], 855: [29, 58, 45, 16], 870: [16, 54, 18], 885: [18, 59], 900: [63, 11]}\n",
      "Charging BEVs (nachdem neue Plätze belegt):  []\n",
      "Charging BEVs:  []\n",
      "\n",
      "\n",
      "Minute:  930\n",
      "Waiting BEVs:  [64, 71, 72, 74, 49]\n",
      "SET BEV DATA after charging time over for ID BEV 3 for minute 930:  6.75\n",
      "Removed from charging list because of overload:  3\n",
      "Charging list after handling overload:  [6]\n",
      "SET BEV DATA charging start between intervals for ID BEV 1 for minute 939.232633279483:  6.19\n",
      "BEV 3 CHARGING END FROM POST OPTI in minute\n",
      "BEV 6 CHARGING END FROM POST OPTI in next interval\n",
      "SET BEV DATA after charging time over for ID BEV 6 for minute 939.232633279483:  6.06\n",
      "Waiting BEVs after updating parking end:  [64, 71, 72, 74, 49]\n",
      "Charging BEVs after updating post optimization plan and parking end:  [6]\n",
      "charging_list_per_minute_dict  {480: [5], 495: [5], 510: [5, 13], 525: [13, 14, 28, 51], 540: [14, 28, 51], 555: [14, 28, 51, 15, 69], 570: [15, 69, 17, 20], 585: [20, 33, 34, 50, 30], 600: [55, 57, 60, 7, 68], 615: [55, 57, 60, 7, 68], 630: [9, 10, 12, 19, 24], 645: [9, 10, 12, 19, 24], 660: [25, 26, 31, 41, 47], 675: [31, 41, 47, 2, 48], 690: [48, 52, 56, 65, 73], 705: [73, 66, 67, 4, 61], 720: [23, 27, 44, 62, 70], 735: [23, 27, 44, 62, 70], 750: [62, 70, 32, 38, 21], 765: [39, 46, 42, 37, 43], 780: [43, 53, 22, 35, 36], 795: [22, 35, 36, 40, 8], 810: [36, 40, 8, 29], 825: [8, 29, 58, 45, 16], 840: [29, 58, 45, 16], 855: [29, 58, 45, 16], 870: [16, 54, 18], 885: [18, 59], 900: [63, 11], 915: [3, 6]}\n",
      "SET BEV DATA for current minute for ID BEV 6 for minute 930:  6.19\n",
      "Charging BEVs (nachdem neue Plätze belegt):  [6]\n",
      "Charging BEVs:  [6]\n",
      "\n",
      "\n",
      "Minute:  945\n",
      "Waiting BEVs:  [64, 71, 72, 74, 49]\n",
      "SET BEV DATA after charging time over for ID BEV 1 for minute 945:  11.25\n",
      "Removed from charging list because of overload:  1\n",
      "Charging list after handling overload:  []\n",
      "SET BEV DATA charging start between intervals for ID BEV 0 for minute 950.7361660079051:  10.12\n",
      "BEV 1 CHARGING END FROM POST OPTI in minute\n",
      "Waiting BEVs after updating parking end:  [64, 71, 72, 74, 49]\n",
      "Charging BEVs after updating post optimization plan and parking end:  []\n",
      "charging_list_per_minute_dict  {480: [5], 495: [5], 510: [5, 13], 525: [13, 14, 28, 51], 540: [14, 28, 51], 555: [14, 28, 51, 15, 69], 570: [15, 69, 17, 20], 585: [20, 33, 34, 50, 30], 600: [55, 57, 60, 7, 68], 615: [55, 57, 60, 7, 68], 630: [9, 10, 12, 19, 24], 645: [9, 10, 12, 19, 24], 660: [25, 26, 31, 41, 47], 675: [31, 41, 47, 2, 48], 690: [48, 52, 56, 65, 73], 705: [73, 66, 67, 4, 61], 720: [23, 27, 44, 62, 70], 735: [23, 27, 44, 62, 70], 750: [62, 70, 32, 38, 21], 765: [39, 46, 42, 37, 43], 780: [43, 53, 22, 35, 36], 795: [22, 35, 36, 40, 8], 810: [36, 40, 8, 29], 825: [8, 29, 58, 45, 16], 840: [29, 58, 45, 16], 855: [29, 58, 45, 16], 870: [16, 54, 18], 885: [18, 59], 900: [63, 11], 915: [3, 6], 930: [6, 1]}\n",
      "Charging BEVs (nachdem neue Plätze belegt):  []\n",
      "Charging BEVs:  []\n",
      "\n",
      "\n",
      "Minute:  960\n",
      "Waiting BEVs:  [64, 71, 72, 74, 49]\n",
      "stop parking at interval_minute for  0\n",
      "Charging list after handling overload:  []\n",
      "BEV 0 CHARGING END FROM POST OPTI in minute\n",
      "Waiting BEVs after updating parking end:  []\n",
      "Charging BEVs after updating post optimization plan and parking end:  []\n",
      "charging_list_per_minute_dict  {480: [5], 495: [5], 510: [5, 13], 525: [13, 14, 28, 51], 540: [14, 28, 51], 555: [14, 28, 51, 15, 69], 570: [15, 69, 17, 20], 585: [20, 33, 34, 50, 30], 600: [55, 57, 60, 7, 68], 615: [55, 57, 60, 7, 68], 630: [9, 10, 12, 19, 24], 645: [9, 10, 12, 19, 24], 660: [25, 26, 31, 41, 47], 675: [31, 41, 47, 2, 48], 690: [48, 52, 56, 65, 73], 705: [73, 66, 67, 4, 61], 720: [23, 27, 44, 62, 70], 735: [23, 27, 44, 62, 70], 750: [62, 70, 32, 38, 21], 765: [39, 46, 42, 37, 43], 780: [43, 53, 22, 35, 36], 795: [22, 35, 36, 40, 8], 810: [36, 40, 8, 29], 825: [8, 29, 58, 45, 16], 840: [29, 58, 45, 16], 855: [29, 58, 45, 16], 870: [16, 54, 18], 885: [18, 59], 900: [63, 11], 915: [3, 6], 930: [6, 1], 945: [0]}\n",
      "Charging BEVs (nachdem neue Plätze belegt):  []\n",
      "Charging BEVs:  []\n",
      "LAST INTERVAL CHECKKKKK\n",
      "stopped_charging_last_interval:  [62, 70, 43, 36, 29, 18]\n",
      "bevs_charging_start_last_interval_already_fueled:  []\n",
      "charging_list_per_minute_dict  {480: [5], 495: [5], 510: [5, 13], 525: [13, 14, 28, 51], 540: [14, 28, 51], 555: [14, 28, 51, 15, 69], 570: [15, 69, 17, 20], 585: [20, 33, 34, 50, 30], 600: [55, 57, 60, 7, 68], 615: [55, 57, 60, 7, 68], 630: [9, 10, 12, 19, 24], 645: [9, 10, 12, 19, 24], 660: [25, 26, 31, 41, 47], 675: [31, 41, 47, 2, 48], 690: [48, 52, 56, 65, 73], 705: [73, 66, 67, 4, 61], 720: [23, 27, 44, 62, 70], 735: [23, 27, 44, 62, 70], 750: [62, 70, 32, 38, 21], 765: [39, 46, 42, 37, 43], 780: [43, 53, 22, 35, 36], 795: [22, 35, 36, 40, 8], 810: [36, 40, 8, 29], 825: [8, 29, 58, 45, 16], 840: [29, 58, 45, 16], 855: [29, 58, 45, 16], 870: [16, 54, 18], 885: [18, 59], 900: [63, 11], 915: [3, 6], 930: [6, 1], 945: [0], 960: []}\n"
     ]
    }
   ],
   "source": [
    "import simulationClasses\n",
    "import simulationData\n",
    "import simulationOutputDataVisualisation\n",
    "import distributionAlgorithmForecastPolling\n",
    "import postOptimization\n",
    "import numpy as np\n",
    "\n",
    "simulation_day = simulationClasses.SimulationDay(anzahl_bevs_pro_tag)\n",
    "bev_data = simulationData.BevData()\n",
    "table_dict = simulationData.TableDict()\n",
    "simulation_data = simulationData.SimulationData()\n",
    "    \n",
    "day_in_minute_interval_steps = list(np.around(np.arange(480, 960 + 1, minute_interval), 1))\n",
    "distributionAlgorithmForecastPolling.init_simulation(day_in_minute_interval_steps, minute_interval, simulation_data, \n",
    "                                                   simulation_day, solarpeakleistung)\n",
    "\n",
    "postOptimization.start_post_optimization(minute_interval, simulation_day, solarpeakleistung, bev_data, table_dict, simulation_data,\n",
    "                ladeleistung_pro_bev)\n",
    "\n",
    "distributionAlgorithmForecastPolling.start_simulation(solarpeakleistung, ladeleistung_pro_bev,\n",
    "                     simulation_day, bev_data, table_dict, simulation_data, minute_interval)"
   ]
  },
  {
   "cell_type": "markdown",
   "metadata": {},
   "source": [
    "### Ergebnis Algorithmus"
   ]
  },
  {
   "cell_type": "code",
   "execution_count": 4,
   "metadata": {
    "pycharm": {
     "is_executing": true
    }
   },
   "outputs": [
    {
     "data": {
      "text/markdown": [
       ">**Ergebnis**<br>Geladene BEVs: 70 von 75<br>Verfügbare Solarenergie insgesamt: 276.47 kWh<br>Aufgeladene Solarenergie insgesamt: 226.57 kWh<br>Ungenutzte Solarenergie insgesamt: 49.9 kWh"
      ],
      "text/plain": [
       "<IPython.core.display.Markdown object>"
      ]
     },
     "execution_count": 4,
     "metadata": {},
     "output_type": "execute_result"
    }
   ],
   "source": [
    "simulationOutputDataVisualisation.print_algorithm_result(bev_data, simulation_data, anzahl_bevs_pro_tag, solarpeakleistung, minute_interval)"
   ]
  },
  {
   "cell_type": "markdown",
   "metadata": {},
   "source": [
    "### Tabellarische Übersicht Park- und Ladeverlauf der BEVs"
   ]
  },
  {
   "cell_type": "code",
   "execution_count": 5,
   "metadata": {
    "pycharm": {
     "is_executing": true
    }
   },
   "outputs": [
    {
     "data": {
      "application/vnd.jupyter.widget-view+json": {
       "model_id": "2f255f5d0f6d4c72bd159aa64f401033",
       "version_major": 2,
       "version_minor": 0
      },
      "text/plain": [
       "interactive(children=(IntSlider(value=480, description='Minute: ', max=960, min=480, step=15), Output()), _dom…"
      ]
     },
     "metadata": {},
     "output_type": "display_data"
    }
   ],
   "source": [
    "simulationOutputDataVisualisation.create_tabular_overview_per_minute_slider(table_dict, minute_interval)"
   ]
  },
  {
   "cell_type": "code",
   "execution_count": 6,
   "metadata": {
    "pycharm": {
     "is_executing": true
    }
   },
   "outputs": [
    {
     "data": {
      "application/vnd.plotly.v1+json": {
       "config": {
        "plotlyServerURL": "https://plot.ly"
       },
       "data": [
        {
         "line": {
          "color": "red"
         },
         "name": "Wartende BEVs",
         "type": "scatter",
         "x": [
          480,
          495,
          510,
          525,
          540,
          555,
          570,
          585,
          600,
          615,
          630,
          645,
          660,
          675,
          690,
          705,
          720,
          735,
          750,
          765,
          780,
          795,
          810,
          825,
          840,
          855,
          870,
          885,
          900,
          915,
          930,
          945,
          960
         ],
         "y": [
          11,
          10,
          26,
          24,
          31,
          31,
          31,
          28,
          24,
          24,
          19,
          19,
          14,
          14,
          11,
          9,
          7,
          7,
          6,
          4,
          10,
          9,
          10,
          8,
          8,
          8,
          7,
          6,
          5,
          5,
          5,
          5,
          0
         ]
        },
        {
         "line": {
          "color": "blue"
         },
         "name": "Ladende BEVs",
         "type": "scatter",
         "x": [
          480,
          495,
          510,
          525,
          540,
          555,
          570,
          585,
          600,
          615,
          630,
          645,
          660,
          675,
          690,
          705,
          720,
          735,
          750,
          765,
          780,
          795,
          810,
          825,
          840,
          855,
          870,
          885,
          900,
          915,
          930,
          945,
          960
         ],
         "y": [
          1,
          1,
          2,
          4,
          3,
          5,
          4,
          5,
          5,
          5,
          5,
          5,
          5,
          5,
          5,
          5,
          5,
          5,
          5,
          5,
          5,
          5,
          4,
          5,
          4,
          4,
          3,
          2,
          2,
          2,
          2,
          1,
          0
         ]
        }
       ],
       "layout": {
        "legend": {
         "tracegroupgap": 0
        },
        "margin": {
         "t": 60
        },
        "template": {
         "data": {
          "bar": [
           {
            "error_x": {
             "color": "#2a3f5f"
            },
            "error_y": {
             "color": "#2a3f5f"
            },
            "marker": {
             "line": {
              "color": "white",
              "width": 0.5
             },
             "pattern": {
              "fillmode": "overlay",
              "size": 10,
              "solidity": 0.2
             }
            },
            "type": "bar"
           }
          ],
          "barpolar": [
           {
            "marker": {
             "line": {
              "color": "white",
              "width": 0.5
             },
             "pattern": {
              "fillmode": "overlay",
              "size": 10,
              "solidity": 0.2
             }
            },
            "type": "barpolar"
           }
          ],
          "carpet": [
           {
            "aaxis": {
             "endlinecolor": "#2a3f5f",
             "gridcolor": "#C8D4E3",
             "linecolor": "#C8D4E3",
             "minorgridcolor": "#C8D4E3",
             "startlinecolor": "#2a3f5f"
            },
            "baxis": {
             "endlinecolor": "#2a3f5f",
             "gridcolor": "#C8D4E3",
             "linecolor": "#C8D4E3",
             "minorgridcolor": "#C8D4E3",
             "startlinecolor": "#2a3f5f"
            },
            "type": "carpet"
           }
          ],
          "choropleth": [
           {
            "colorbar": {
             "outlinewidth": 0,
             "ticks": ""
            },
            "type": "choropleth"
           }
          ],
          "contour": [
           {
            "colorbar": {
             "outlinewidth": 0,
             "ticks": ""
            },
            "colorscale": [
             [
              0,
              "#0d0887"
             ],
             [
              0.1111111111111111,
              "#46039f"
             ],
             [
              0.2222222222222222,
              "#7201a8"
             ],
             [
              0.3333333333333333,
              "#9c179e"
             ],
             [
              0.4444444444444444,
              "#bd3786"
             ],
             [
              0.5555555555555556,
              "#d8576b"
             ],
             [
              0.6666666666666666,
              "#ed7953"
             ],
             [
              0.7777777777777778,
              "#fb9f3a"
             ],
             [
              0.8888888888888888,
              "#fdca26"
             ],
             [
              1,
              "#f0f921"
             ]
            ],
            "type": "contour"
           }
          ],
          "contourcarpet": [
           {
            "colorbar": {
             "outlinewidth": 0,
             "ticks": ""
            },
            "type": "contourcarpet"
           }
          ],
          "heatmap": [
           {
            "colorbar": {
             "outlinewidth": 0,
             "ticks": ""
            },
            "colorscale": [
             [
              0,
              "#0d0887"
             ],
             [
              0.1111111111111111,
              "#46039f"
             ],
             [
              0.2222222222222222,
              "#7201a8"
             ],
             [
              0.3333333333333333,
              "#9c179e"
             ],
             [
              0.4444444444444444,
              "#bd3786"
             ],
             [
              0.5555555555555556,
              "#d8576b"
             ],
             [
              0.6666666666666666,
              "#ed7953"
             ],
             [
              0.7777777777777778,
              "#fb9f3a"
             ],
             [
              0.8888888888888888,
              "#fdca26"
             ],
             [
              1,
              "#f0f921"
             ]
            ],
            "type": "heatmap"
           }
          ],
          "heatmapgl": [
           {
            "colorbar": {
             "outlinewidth": 0,
             "ticks": ""
            },
            "colorscale": [
             [
              0,
              "#0d0887"
             ],
             [
              0.1111111111111111,
              "#46039f"
             ],
             [
              0.2222222222222222,
              "#7201a8"
             ],
             [
              0.3333333333333333,
              "#9c179e"
             ],
             [
              0.4444444444444444,
              "#bd3786"
             ],
             [
              0.5555555555555556,
              "#d8576b"
             ],
             [
              0.6666666666666666,
              "#ed7953"
             ],
             [
              0.7777777777777778,
              "#fb9f3a"
             ],
             [
              0.8888888888888888,
              "#fdca26"
             ],
             [
              1,
              "#f0f921"
             ]
            ],
            "type": "heatmapgl"
           }
          ],
          "histogram": [
           {
            "marker": {
             "pattern": {
              "fillmode": "overlay",
              "size": 10,
              "solidity": 0.2
             }
            },
            "type": "histogram"
           }
          ],
          "histogram2d": [
           {
            "colorbar": {
             "outlinewidth": 0,
             "ticks": ""
            },
            "colorscale": [
             [
              0,
              "#0d0887"
             ],
             [
              0.1111111111111111,
              "#46039f"
             ],
             [
              0.2222222222222222,
              "#7201a8"
             ],
             [
              0.3333333333333333,
              "#9c179e"
             ],
             [
              0.4444444444444444,
              "#bd3786"
             ],
             [
              0.5555555555555556,
              "#d8576b"
             ],
             [
              0.6666666666666666,
              "#ed7953"
             ],
             [
              0.7777777777777778,
              "#fb9f3a"
             ],
             [
              0.8888888888888888,
              "#fdca26"
             ],
             [
              1,
              "#f0f921"
             ]
            ],
            "type": "histogram2d"
           }
          ],
          "histogram2dcontour": [
           {
            "colorbar": {
             "outlinewidth": 0,
             "ticks": ""
            },
            "colorscale": [
             [
              0,
              "#0d0887"
             ],
             [
              0.1111111111111111,
              "#46039f"
             ],
             [
              0.2222222222222222,
              "#7201a8"
             ],
             [
              0.3333333333333333,
              "#9c179e"
             ],
             [
              0.4444444444444444,
              "#bd3786"
             ],
             [
              0.5555555555555556,
              "#d8576b"
             ],
             [
              0.6666666666666666,
              "#ed7953"
             ],
             [
              0.7777777777777778,
              "#fb9f3a"
             ],
             [
              0.8888888888888888,
              "#fdca26"
             ],
             [
              1,
              "#f0f921"
             ]
            ],
            "type": "histogram2dcontour"
           }
          ],
          "mesh3d": [
           {
            "colorbar": {
             "outlinewidth": 0,
             "ticks": ""
            },
            "type": "mesh3d"
           }
          ],
          "parcoords": [
           {
            "line": {
             "colorbar": {
              "outlinewidth": 0,
              "ticks": ""
             }
            },
            "type": "parcoords"
           }
          ],
          "pie": [
           {
            "automargin": true,
            "type": "pie"
           }
          ],
          "scatter": [
           {
            "marker": {
             "colorbar": {
              "outlinewidth": 0,
              "ticks": ""
             }
            },
            "type": "scatter"
           }
          ],
          "scatter3d": [
           {
            "line": {
             "colorbar": {
              "outlinewidth": 0,
              "ticks": ""
             }
            },
            "marker": {
             "colorbar": {
              "outlinewidth": 0,
              "ticks": ""
             }
            },
            "type": "scatter3d"
           }
          ],
          "scattercarpet": [
           {
            "marker": {
             "colorbar": {
              "outlinewidth": 0,
              "ticks": ""
             }
            },
            "type": "scattercarpet"
           }
          ],
          "scattergeo": [
           {
            "marker": {
             "colorbar": {
              "outlinewidth": 0,
              "ticks": ""
             }
            },
            "type": "scattergeo"
           }
          ],
          "scattergl": [
           {
            "marker": {
             "colorbar": {
              "outlinewidth": 0,
              "ticks": ""
             }
            },
            "type": "scattergl"
           }
          ],
          "scattermapbox": [
           {
            "marker": {
             "colorbar": {
              "outlinewidth": 0,
              "ticks": ""
             }
            },
            "type": "scattermapbox"
           }
          ],
          "scatterpolar": [
           {
            "marker": {
             "colorbar": {
              "outlinewidth": 0,
              "ticks": ""
             }
            },
            "type": "scatterpolar"
           }
          ],
          "scatterpolargl": [
           {
            "marker": {
             "colorbar": {
              "outlinewidth": 0,
              "ticks": ""
             }
            },
            "type": "scatterpolargl"
           }
          ],
          "scatterternary": [
           {
            "marker": {
             "colorbar": {
              "outlinewidth": 0,
              "ticks": ""
             }
            },
            "type": "scatterternary"
           }
          ],
          "surface": [
           {
            "colorbar": {
             "outlinewidth": 0,
             "ticks": ""
            },
            "colorscale": [
             [
              0,
              "#0d0887"
             ],
             [
              0.1111111111111111,
              "#46039f"
             ],
             [
              0.2222222222222222,
              "#7201a8"
             ],
             [
              0.3333333333333333,
              "#9c179e"
             ],
             [
              0.4444444444444444,
              "#bd3786"
             ],
             [
              0.5555555555555556,
              "#d8576b"
             ],
             [
              0.6666666666666666,
              "#ed7953"
             ],
             [
              0.7777777777777778,
              "#fb9f3a"
             ],
             [
              0.8888888888888888,
              "#fdca26"
             ],
             [
              1,
              "#f0f921"
             ]
            ],
            "type": "surface"
           }
          ],
          "table": [
           {
            "cells": {
             "fill": {
              "color": "#EBF0F8"
             },
             "line": {
              "color": "white"
             }
            },
            "header": {
             "fill": {
              "color": "#C8D4E3"
             },
             "line": {
              "color": "white"
             }
            },
            "type": "table"
           }
          ]
         },
         "layout": {
          "annotationdefaults": {
           "arrowcolor": "#2a3f5f",
           "arrowhead": 0,
           "arrowwidth": 1
          },
          "autotypenumbers": "strict",
          "coloraxis": {
           "colorbar": {
            "outlinewidth": 0,
            "ticks": ""
           }
          },
          "colorscale": {
           "diverging": [
            [
             0,
             "#8e0152"
            ],
            [
             0.1,
             "#c51b7d"
            ],
            [
             0.2,
             "#de77ae"
            ],
            [
             0.3,
             "#f1b6da"
            ],
            [
             0.4,
             "#fde0ef"
            ],
            [
             0.5,
             "#f7f7f7"
            ],
            [
             0.6,
             "#e6f5d0"
            ],
            [
             0.7,
             "#b8e186"
            ],
            [
             0.8,
             "#7fbc41"
            ],
            [
             0.9,
             "#4d9221"
            ],
            [
             1,
             "#276419"
            ]
           ],
           "sequential": [
            [
             0,
             "#0d0887"
            ],
            [
             0.1111111111111111,
             "#46039f"
            ],
            [
             0.2222222222222222,
             "#7201a8"
            ],
            [
             0.3333333333333333,
             "#9c179e"
            ],
            [
             0.4444444444444444,
             "#bd3786"
            ],
            [
             0.5555555555555556,
             "#d8576b"
            ],
            [
             0.6666666666666666,
             "#ed7953"
            ],
            [
             0.7777777777777778,
             "#fb9f3a"
            ],
            [
             0.8888888888888888,
             "#fdca26"
            ],
            [
             1,
             "#f0f921"
            ]
           ],
           "sequentialminus": [
            [
             0,
             "#0d0887"
            ],
            [
             0.1111111111111111,
             "#46039f"
            ],
            [
             0.2222222222222222,
             "#7201a8"
            ],
            [
             0.3333333333333333,
             "#9c179e"
            ],
            [
             0.4444444444444444,
             "#bd3786"
            ],
            [
             0.5555555555555556,
             "#d8576b"
            ],
            [
             0.6666666666666666,
             "#ed7953"
            ],
            [
             0.7777777777777778,
             "#fb9f3a"
            ],
            [
             0.8888888888888888,
             "#fdca26"
            ],
            [
             1,
             "#f0f921"
            ]
           ]
          },
          "colorway": [
           "#636efa",
           "#EF553B",
           "#00cc96",
           "#ab63fa",
           "#FFA15A",
           "#19d3f3",
           "#FF6692",
           "#B6E880",
           "#FF97FF",
           "#FECB52"
          ],
          "font": {
           "color": "#2a3f5f"
          },
          "geo": {
           "bgcolor": "white",
           "lakecolor": "white",
           "landcolor": "white",
           "showlakes": true,
           "showland": true,
           "subunitcolor": "#C8D4E3"
          },
          "hoverlabel": {
           "align": "left"
          },
          "hovermode": "closest",
          "mapbox": {
           "style": "light"
          },
          "paper_bgcolor": "white",
          "plot_bgcolor": "white",
          "polar": {
           "angularaxis": {
            "gridcolor": "#EBF0F8",
            "linecolor": "#EBF0F8",
            "ticks": ""
           },
           "bgcolor": "white",
           "radialaxis": {
            "gridcolor": "#EBF0F8",
            "linecolor": "#EBF0F8",
            "ticks": ""
           }
          },
          "scene": {
           "xaxis": {
            "backgroundcolor": "white",
            "gridcolor": "#DFE8F3",
            "gridwidth": 2,
            "linecolor": "#EBF0F8",
            "showbackground": true,
            "ticks": "",
            "zerolinecolor": "#EBF0F8"
           },
           "yaxis": {
            "backgroundcolor": "white",
            "gridcolor": "#DFE8F3",
            "gridwidth": 2,
            "linecolor": "#EBF0F8",
            "showbackground": true,
            "ticks": "",
            "zerolinecolor": "#EBF0F8"
           },
           "zaxis": {
            "backgroundcolor": "white",
            "gridcolor": "#DFE8F3",
            "gridwidth": 2,
            "linecolor": "#EBF0F8",
            "showbackground": true,
            "ticks": "",
            "zerolinecolor": "#EBF0F8"
           }
          },
          "shapedefaults": {
           "line": {
            "color": "#2a3f5f"
           }
          },
          "ternary": {
           "aaxis": {
            "gridcolor": "#DFE8F3",
            "linecolor": "#A2B1C6",
            "ticks": ""
           },
           "baxis": {
            "gridcolor": "#DFE8F3",
            "linecolor": "#A2B1C6",
            "ticks": ""
           },
           "bgcolor": "white",
           "caxis": {
            "gridcolor": "#DFE8F3",
            "linecolor": "#A2B1C6",
            "ticks": ""
           }
          },
          "title": {
           "x": 0.05
          },
          "xaxis": {
           "automargin": true,
           "gridcolor": "#EBF0F8",
           "linecolor": "#EBF0F8",
           "ticks": "",
           "title": {
            "standoff": 15
           },
           "zerolinecolor": "#EBF0F8",
           "zerolinewidth": 2
          },
          "yaxis": {
           "automargin": true,
           "gridcolor": "#EBF0F8",
           "linecolor": "#EBF0F8",
           "ticks": "",
           "title": {
            "standoff": 15
           },
           "zerolinecolor": "#EBF0F8",
           "zerolinewidth": 2
          }
         }
        },
        "title": {
         "font": {
          "size": 24
         },
         "text": "Anzahl wartender und ladender BEVs im Tagesverlauf",
         "x": 0.5,
         "xanchor": "center"
        },
        "xaxis": {
         "anchor": "y",
         "domain": [
          0,
          1
         ],
         "title": {
          "text": "Minuten"
         }
        },
        "yaxis": {
         "anchor": "x",
         "domain": [
          0,
          1
         ],
         "title": {
          "text": "Anzahl BEVs"
         }
        }
       }
      },
      "text/html": [
       "<div>                            <div id=\"8d9ed787-f1df-43e7-ad63-8aa45b530347\" class=\"plotly-graph-div\" style=\"height:525px; width:100%;\"></div>            <script type=\"text/javascript\">                require([\"plotly\"], function(Plotly) {                    window.PLOTLYENV=window.PLOTLYENV || {};                                    if (document.getElementById(\"8d9ed787-f1df-43e7-ad63-8aa45b530347\")) {                    Plotly.newPlot(                        \"8d9ed787-f1df-43e7-ad63-8aa45b530347\",                        [{\"line\":{\"color\":\"red\"},\"name\":\"Wartende BEVs\",\"x\":[480,495,510,525,540,555,570,585,600,615,630,645,660,675,690,705,720,735,750,765,780,795,810,825,840,855,870,885,900,915,930,945,960],\"y\":[11,10,26,24,31,31,31,28,24,24,19,19,14,14,11,9,7,7,6,4,10,9,10,8,8,8,7,6,5,5,5,5,0],\"type\":\"scatter\"},{\"line\":{\"color\":\"blue\"},\"name\":\"Ladende BEVs\",\"x\":[480,495,510,525,540,555,570,585,600,615,630,645,660,675,690,705,720,735,750,765,780,795,810,825,840,855,870,885,900,915,930,945,960],\"y\":[1,1,2,4,3,5,4,5,5,5,5,5,5,5,5,5,5,5,5,5,5,5,4,5,4,4,3,2,2,2,2,1,0],\"type\":\"scatter\"}],                        {\"template\":{\"data\":{\"barpolar\":[{\"marker\":{\"line\":{\"color\":\"white\",\"width\":0.5},\"pattern\":{\"fillmode\":\"overlay\",\"size\":10,\"solidity\":0.2}},\"type\":\"barpolar\"}],\"bar\":[{\"error_x\":{\"color\":\"#2a3f5f\"},\"error_y\":{\"color\":\"#2a3f5f\"},\"marker\":{\"line\":{\"color\":\"white\",\"width\":0.5},\"pattern\":{\"fillmode\":\"overlay\",\"size\":10,\"solidity\":0.2}},\"type\":\"bar\"}],\"carpet\":[{\"aaxis\":{\"endlinecolor\":\"#2a3f5f\",\"gridcolor\":\"#C8D4E3\",\"linecolor\":\"#C8D4E3\",\"minorgridcolor\":\"#C8D4E3\",\"startlinecolor\":\"#2a3f5f\"},\"baxis\":{\"endlinecolor\":\"#2a3f5f\",\"gridcolor\":\"#C8D4E3\",\"linecolor\":\"#C8D4E3\",\"minorgridcolor\":\"#C8D4E3\",\"startlinecolor\":\"#2a3f5f\"},\"type\":\"carpet\"}],\"choropleth\":[{\"colorbar\":{\"outlinewidth\":0,\"ticks\":\"\"},\"type\":\"choropleth\"}],\"contourcarpet\":[{\"colorbar\":{\"outlinewidth\":0,\"ticks\":\"\"},\"type\":\"contourcarpet\"}],\"contour\":[{\"colorbar\":{\"outlinewidth\":0,\"ticks\":\"\"},\"colorscale\":[[0.0,\"#0d0887\"],[0.1111111111111111,\"#46039f\"],[0.2222222222222222,\"#7201a8\"],[0.3333333333333333,\"#9c179e\"],[0.4444444444444444,\"#bd3786\"],[0.5555555555555556,\"#d8576b\"],[0.6666666666666666,\"#ed7953\"],[0.7777777777777778,\"#fb9f3a\"],[0.8888888888888888,\"#fdca26\"],[1.0,\"#f0f921\"]],\"type\":\"contour\"}],\"heatmapgl\":[{\"colorbar\":{\"outlinewidth\":0,\"ticks\":\"\"},\"colorscale\":[[0.0,\"#0d0887\"],[0.1111111111111111,\"#46039f\"],[0.2222222222222222,\"#7201a8\"],[0.3333333333333333,\"#9c179e\"],[0.4444444444444444,\"#bd3786\"],[0.5555555555555556,\"#d8576b\"],[0.6666666666666666,\"#ed7953\"],[0.7777777777777778,\"#fb9f3a\"],[0.8888888888888888,\"#fdca26\"],[1.0,\"#f0f921\"]],\"type\":\"heatmapgl\"}],\"heatmap\":[{\"colorbar\":{\"outlinewidth\":0,\"ticks\":\"\"},\"colorscale\":[[0.0,\"#0d0887\"],[0.1111111111111111,\"#46039f\"],[0.2222222222222222,\"#7201a8\"],[0.3333333333333333,\"#9c179e\"],[0.4444444444444444,\"#bd3786\"],[0.5555555555555556,\"#d8576b\"],[0.6666666666666666,\"#ed7953\"],[0.7777777777777778,\"#fb9f3a\"],[0.8888888888888888,\"#fdca26\"],[1.0,\"#f0f921\"]],\"type\":\"heatmap\"}],\"histogram2dcontour\":[{\"colorbar\":{\"outlinewidth\":0,\"ticks\":\"\"},\"colorscale\":[[0.0,\"#0d0887\"],[0.1111111111111111,\"#46039f\"],[0.2222222222222222,\"#7201a8\"],[0.3333333333333333,\"#9c179e\"],[0.4444444444444444,\"#bd3786\"],[0.5555555555555556,\"#d8576b\"],[0.6666666666666666,\"#ed7953\"],[0.7777777777777778,\"#fb9f3a\"],[0.8888888888888888,\"#fdca26\"],[1.0,\"#f0f921\"]],\"type\":\"histogram2dcontour\"}],\"histogram2d\":[{\"colorbar\":{\"outlinewidth\":0,\"ticks\":\"\"},\"colorscale\":[[0.0,\"#0d0887\"],[0.1111111111111111,\"#46039f\"],[0.2222222222222222,\"#7201a8\"],[0.3333333333333333,\"#9c179e\"],[0.4444444444444444,\"#bd3786\"],[0.5555555555555556,\"#d8576b\"],[0.6666666666666666,\"#ed7953\"],[0.7777777777777778,\"#fb9f3a\"],[0.8888888888888888,\"#fdca26\"],[1.0,\"#f0f921\"]],\"type\":\"histogram2d\"}],\"histogram\":[{\"marker\":{\"pattern\":{\"fillmode\":\"overlay\",\"size\":10,\"solidity\":0.2}},\"type\":\"histogram\"}],\"mesh3d\":[{\"colorbar\":{\"outlinewidth\":0,\"ticks\":\"\"},\"type\":\"mesh3d\"}],\"parcoords\":[{\"line\":{\"colorbar\":{\"outlinewidth\":0,\"ticks\":\"\"}},\"type\":\"parcoords\"}],\"pie\":[{\"automargin\":true,\"type\":\"pie\"}],\"scatter3d\":[{\"line\":{\"colorbar\":{\"outlinewidth\":0,\"ticks\":\"\"}},\"marker\":{\"colorbar\":{\"outlinewidth\":0,\"ticks\":\"\"}},\"type\":\"scatter3d\"}],\"scattercarpet\":[{\"marker\":{\"colorbar\":{\"outlinewidth\":0,\"ticks\":\"\"}},\"type\":\"scattercarpet\"}],\"scattergeo\":[{\"marker\":{\"colorbar\":{\"outlinewidth\":0,\"ticks\":\"\"}},\"type\":\"scattergeo\"}],\"scattergl\":[{\"marker\":{\"colorbar\":{\"outlinewidth\":0,\"ticks\":\"\"}},\"type\":\"scattergl\"}],\"scattermapbox\":[{\"marker\":{\"colorbar\":{\"outlinewidth\":0,\"ticks\":\"\"}},\"type\":\"scattermapbox\"}],\"scatterpolargl\":[{\"marker\":{\"colorbar\":{\"outlinewidth\":0,\"ticks\":\"\"}},\"type\":\"scatterpolargl\"}],\"scatterpolar\":[{\"marker\":{\"colorbar\":{\"outlinewidth\":0,\"ticks\":\"\"}},\"type\":\"scatterpolar\"}],\"scatter\":[{\"marker\":{\"colorbar\":{\"outlinewidth\":0,\"ticks\":\"\"}},\"type\":\"scatter\"}],\"scatterternary\":[{\"marker\":{\"colorbar\":{\"outlinewidth\":0,\"ticks\":\"\"}},\"type\":\"scatterternary\"}],\"surface\":[{\"colorbar\":{\"outlinewidth\":0,\"ticks\":\"\"},\"colorscale\":[[0.0,\"#0d0887\"],[0.1111111111111111,\"#46039f\"],[0.2222222222222222,\"#7201a8\"],[0.3333333333333333,\"#9c179e\"],[0.4444444444444444,\"#bd3786\"],[0.5555555555555556,\"#d8576b\"],[0.6666666666666666,\"#ed7953\"],[0.7777777777777778,\"#fb9f3a\"],[0.8888888888888888,\"#fdca26\"],[1.0,\"#f0f921\"]],\"type\":\"surface\"}],\"table\":[{\"cells\":{\"fill\":{\"color\":\"#EBF0F8\"},\"line\":{\"color\":\"white\"}},\"header\":{\"fill\":{\"color\":\"#C8D4E3\"},\"line\":{\"color\":\"white\"}},\"type\":\"table\"}]},\"layout\":{\"annotationdefaults\":{\"arrowcolor\":\"#2a3f5f\",\"arrowhead\":0,\"arrowwidth\":1},\"autotypenumbers\":\"strict\",\"coloraxis\":{\"colorbar\":{\"outlinewidth\":0,\"ticks\":\"\"}},\"colorscale\":{\"diverging\":[[0,\"#8e0152\"],[0.1,\"#c51b7d\"],[0.2,\"#de77ae\"],[0.3,\"#f1b6da\"],[0.4,\"#fde0ef\"],[0.5,\"#f7f7f7\"],[0.6,\"#e6f5d0\"],[0.7,\"#b8e186\"],[0.8,\"#7fbc41\"],[0.9,\"#4d9221\"],[1,\"#276419\"]],\"sequential\":[[0.0,\"#0d0887\"],[0.1111111111111111,\"#46039f\"],[0.2222222222222222,\"#7201a8\"],[0.3333333333333333,\"#9c179e\"],[0.4444444444444444,\"#bd3786\"],[0.5555555555555556,\"#d8576b\"],[0.6666666666666666,\"#ed7953\"],[0.7777777777777778,\"#fb9f3a\"],[0.8888888888888888,\"#fdca26\"],[1.0,\"#f0f921\"]],\"sequentialminus\":[[0.0,\"#0d0887\"],[0.1111111111111111,\"#46039f\"],[0.2222222222222222,\"#7201a8\"],[0.3333333333333333,\"#9c179e\"],[0.4444444444444444,\"#bd3786\"],[0.5555555555555556,\"#d8576b\"],[0.6666666666666666,\"#ed7953\"],[0.7777777777777778,\"#fb9f3a\"],[0.8888888888888888,\"#fdca26\"],[1.0,\"#f0f921\"]]},\"colorway\":[\"#636efa\",\"#EF553B\",\"#00cc96\",\"#ab63fa\",\"#FFA15A\",\"#19d3f3\",\"#FF6692\",\"#B6E880\",\"#FF97FF\",\"#FECB52\"],\"font\":{\"color\":\"#2a3f5f\"},\"geo\":{\"bgcolor\":\"white\",\"lakecolor\":\"white\",\"landcolor\":\"white\",\"showlakes\":true,\"showland\":true,\"subunitcolor\":\"#C8D4E3\"},\"hoverlabel\":{\"align\":\"left\"},\"hovermode\":\"closest\",\"mapbox\":{\"style\":\"light\"},\"paper_bgcolor\":\"white\",\"plot_bgcolor\":\"white\",\"polar\":{\"angularaxis\":{\"gridcolor\":\"#EBF0F8\",\"linecolor\":\"#EBF0F8\",\"ticks\":\"\"},\"bgcolor\":\"white\",\"radialaxis\":{\"gridcolor\":\"#EBF0F8\",\"linecolor\":\"#EBF0F8\",\"ticks\":\"\"}},\"scene\":{\"xaxis\":{\"backgroundcolor\":\"white\",\"gridcolor\":\"#DFE8F3\",\"gridwidth\":2,\"linecolor\":\"#EBF0F8\",\"showbackground\":true,\"ticks\":\"\",\"zerolinecolor\":\"#EBF0F8\"},\"yaxis\":{\"backgroundcolor\":\"white\",\"gridcolor\":\"#DFE8F3\",\"gridwidth\":2,\"linecolor\":\"#EBF0F8\",\"showbackground\":true,\"ticks\":\"\",\"zerolinecolor\":\"#EBF0F8\"},\"zaxis\":{\"backgroundcolor\":\"white\",\"gridcolor\":\"#DFE8F3\",\"gridwidth\":2,\"linecolor\":\"#EBF0F8\",\"showbackground\":true,\"ticks\":\"\",\"zerolinecolor\":\"#EBF0F8\"}},\"shapedefaults\":{\"line\":{\"color\":\"#2a3f5f\"}},\"ternary\":{\"aaxis\":{\"gridcolor\":\"#DFE8F3\",\"linecolor\":\"#A2B1C6\",\"ticks\":\"\"},\"baxis\":{\"gridcolor\":\"#DFE8F3\",\"linecolor\":\"#A2B1C6\",\"ticks\":\"\"},\"bgcolor\":\"white\",\"caxis\":{\"gridcolor\":\"#DFE8F3\",\"linecolor\":\"#A2B1C6\",\"ticks\":\"\"}},\"title\":{\"x\":0.05},\"xaxis\":{\"automargin\":true,\"gridcolor\":\"#EBF0F8\",\"linecolor\":\"#EBF0F8\",\"ticks\":\"\",\"title\":{\"standoff\":15},\"zerolinecolor\":\"#EBF0F8\",\"zerolinewidth\":2},\"yaxis\":{\"automargin\":true,\"gridcolor\":\"#EBF0F8\",\"linecolor\":\"#EBF0F8\",\"ticks\":\"\",\"title\":{\"standoff\":15},\"zerolinecolor\":\"#EBF0F8\",\"zerolinewidth\":2}}},\"xaxis\":{\"anchor\":\"y\",\"domain\":[0.0,1.0],\"title\":{\"text\":\"Minuten\"}},\"yaxis\":{\"anchor\":\"x\",\"domain\":[0.0,1.0],\"title\":{\"text\":\"Anzahl BEVs\"}},\"legend\":{\"tracegroupgap\":0},\"margin\":{\"t\":60},\"title\":{\"font\":{\"size\":24},\"text\":\"Anzahl wartender und ladender BEVs im Tagesverlauf\",\"x\":0.5,\"xanchor\":\"center\"}},                        {\"responsive\": true}                    ).then(function(){\n",
       "                            \n",
       "var gd = document.getElementById('8d9ed787-f1df-43e7-ad63-8aa45b530347');\n",
       "var x = new MutationObserver(function (mutations, observer) {{\n",
       "        var display = window.getComputedStyle(gd).display;\n",
       "        if (!display || display === 'none') {{\n",
       "            console.log([gd, 'removed!']);\n",
       "            Plotly.purge(gd);\n",
       "            observer.disconnect();\n",
       "        }}\n",
       "}});\n",
       "\n",
       "// Listen for the removal of the full notebook cells\n",
       "var notebookContainer = gd.closest('#notebook-container');\n",
       "if (notebookContainer) {{\n",
       "    x.observe(notebookContainer, {childList: true});\n",
       "}}\n",
       "\n",
       "// Listen for the clearing of the current output cell\n",
       "var outputEl = gd.closest('.output');\n",
       "if (outputEl) {{\n",
       "    x.observe(outputEl, {childList: true});\n",
       "}}\n",
       "\n",
       "                        })                };                });            </script>        </div>"
      ]
     },
     "metadata": {},
     "output_type": "display_data"
    }
   ],
   "source": [
    "import figureGeneration\n",
    "\n",
    "figureGeneration.create_bev_number_figure(simulation_data)"
   ]
  },
  {
   "cell_type": "code",
   "execution_count": 7,
   "metadata": {
    "pycharm": {
     "is_executing": true
    }
   },
   "outputs": [
    {
     "name": "stdout",
     "output_type": "stream",
     "text": [
      "{5: {480: 0.62, 495: 5.87, 510: 5.56, 519.7392086330935: 5.955}, 13: {510: 5.56, 525: 4.095, 540: 4.75}, 14: {519.7392086330935: 5.56, 525: 4.095, 540: 7.666666666666667, 555: 6.2, 570: 7.0}, 28: {525: 4.095, 540: 7.666666666666667, 555: 6.2, 559.9314516129032: 5.926}, 51: {525: 4.095, 540: 7.666666666666667, 555: 6.2, 562.2056451612904: 6.168}, 15: {555: 6.2, 570: 9.75, 571.1435897435897: 8.9025}, 69: {555: 6.2, 570: 9.75, 577.1282051282051: 9.7}, 17: {559.9314516129032: 6.2, 570: 9.75, 582.4128205128205: 10.405}, 20: {562.2056451612904: 6.2, 570: 9.75, 585: 9.4, 585.5718085106383: 8.66}, 33: {571.1435897435897: 9.75, 585: 9.4, 594.8989361702127: 9.656}, 34: {577.1282051282051: 9.75, 585: 9.4, 594.6117021276596: 9.626000000000001}, 50: {582.4128205128205: 9.75, 585: 9.4, 600: 10.2}, 30: {585: 9.4, 595.0212765957447: 9.668000000000001}, 55: {585.5718085106383: 9.4, 600: 10.176, 615: 10.123999999999999, 617.9815290399052: 10.14}, 57: {594.8989361702127: 9.4, 600: 10.176, 615: 10.123999999999999, 628.1677202686684: 10.106}, 60: {594.6117021276596: 9.4, 600: 10.176, 615: 10.123999999999999, 627.4417226392729: 10.108}, 7: {595.0212765957447: 9.4, 600: 10.176, 615: 10.123999999999999, 625.9551560647965: 10.114}, 68: {600.5642906235794: 10.176, 615: 10.123999999999999, 626.1223055497376: 10.112}, 9: {617.9815290399052: 10.123999999999999, 630: 10.076, 645: 10.024, 647.5174581005588: 10.042}, 10: {628.1677202686684: 10.123999999999999, 630: 10.076, 645: 10.024, 654.1091380686352: 10.02}, 12: {627.4417226392729: 10.123999999999999, 630: 10.076, 645: 10.024, 658.2990822027134: 10.006}, 19: {625.9551560647965: 10.123999999999999, 630: 10.076, 645: 10.024, 646.5023942537908: 10.044}, 24: {626.1223055497376: 10.123999999999999, 630: 10.076, 645: 10.024, 655.7394474646392: 10.014}, 25: {647.5174581005588: 10.024, 660: 10.123999999999999, 675: 10.25}, 26: {654.1091380686352: 10.024, 660: 10.123999999999999, 675: 10.25}, 31: {658.2990822027134: 10.024, 660: 10.123999999999999, 675: 10.376000000000001, 675.6206630686198: 10.26}, 41: {646.5023942537908: 10.024, 660: 10.123999999999999, 675: 10.376000000000001, 677.234965304549: 10.288}, 47: {655.7394474646392: 10.024, 660: 10.123999999999999, 675: 10.376000000000001, 685.5948555691541: 10.426}, 2: {675.4198156506736: 10.376000000000001, 690: 10.5}, 48: {675.5776390319104: 10.376000000000001, 690: 10.623999999999999, 705: 10.75}, 52: {675.6206630686198: 10.376000000000001, 690: 10.623999999999999, 692.4614081325301: 10.542}, 56: {677.234965304549: 10.376000000000001, 690: 10.623999999999999, 694.0380271084338: 10.568000000000001}, 65: {685.5948555691541: 10.376000000000001, 690: 10.623999999999999, 705: 10.75}, 73: {691.8354668674699: 10.623999999999999, 718.9518205222508: 10.982, 705: 10.876000000000001}, 66: {692.4614081325301: 10.623999999999999, 705: 10.876000000000001, 708.874586244943: 10.814, 708: 10.8}, 67: {694.0380271084338: 10.623999999999999, 705: 10.876000000000001, 720: 11.0}, 4: {705.8909525560869: 10.876000000000001, 720: 11.0}, 61: {718.9518205222508: 10.876000000000001, 720: 11.0}, 23: {708.874586244943: 10.876000000000001, 720: 10.524, 735: 9.576, 736.9413116123642: 9.928}, 27: {708: 10.876000000000001, 720: 10.524, 735: 9.576, 735.3370927318296: 10.028}, 44: {725.3980142140704: 10.524, 735: 9.576, 750: 9.1}, 62: {734.3529076396808: 10.524, 735: 9.576, 750: 8.623999999999999, 750.0000000000001: 9.1, 960: 9.0}, 70: {720.6271379703535: 10.524, 735: 9.576, 750: 9.1, 960: 9.0}, 32: {736.9413116123642: 9.576, 750: 8.623999999999999, 765: 8.15}, 38: {735.3370927318296: 9.576, 750: 8.623999999999999, 765: 8.15}, 21: {750.8466372912806: 8.623999999999999, 765: 8.15}, 39: {750.0000000000001: 8.623999999999999, 765: 7.676, 776.6974986972383: 7.409999999999999}, 46: {750.0: 8.623999999999999, 765: 7.676, 777.9090672225117: 7.331999999999999}, 37: {771.4721946375372: 9.595, 780: 7.2}, 43: {767.6341844710787: 7.676, 780: 7.35, 783.2285714285714: 7.264, 960: 9.0}, 42: {765: 7.676, 780: 7.2}, 53: {776.6974986972383: 7.676, 780: 7.35, 795: 7.5}, 22: {777.9090672225117: 7.676, 780: 7.35, 795: 7.65, 810: 7.8}, 35: {787.4694647670389: 7.35, 795: 7.65, 810: 7.8}, 36: {794.2367346938776: 7.35, 795: 7.65, 810: 9.9375, 813.0279245283019: 9.825, 960: 9.0}, 40: {783.2285714285714: 7.35, 795: 7.65, 810: 9.9375, 814.9690566037735: 9.875}, 8: {795: 7.65, 810: 9.9375, 825: 8.25, 840: 8.4}, 29: {822.4981132075471: 9.9375, 825: 8.25, 840: 9.75, 855: 8.25, 858.75: 8.625, 960: 9.0}, 58: {813.0279245283019: 9.9375, 825: 8.25, 840: 9.75, 855: 8.25, 870: 7.5}, 45: {814.9690566037735: 9.9375, 825: 8.25, 840: 9.75, 855: 8.25, 870: 7.5}, 16: {825: 8.25, 840: 9.75, 855: 8.25, 870: 9.0, 885: 8.0}, 54: {858.75: 8.25, 870: 9.0, 870.1041666666666: 9.986666666666666}, 18: {871.8166666666667: 9.0, 885: 12.0, 960: 9.0}, 59: {870.1041666666666: 9.0, 885: 10.5, 900: 9.0}, 63: {885.0: 10.5, 900: 8.44, 915: 7.875}, 11: {914.8222748815166: 8.44, 915: 7.875}, 3: {929.8768809849521: 7.31, 930: 6.75}, 6: {924.9931600547195: 7.31, 939.232633279483: 6.06, 930: 6.19}, 1: {939.232633279483: 6.19, 945: 11.25}, 0: {950.7361660079051: 10.12}}\n"
     ]
    },
    {
     "data": {
      "application/vnd.plotly.v1+json": {
       "config": {
        "plotlyServerURL": "https://plot.ly"
       },
       "data": [
        {
         "line": {
          "color": "orange"
         },
         "name": "Verfügbare Solarleistung",
         "type": "scatter",
         "x": [
          480,
          495,
          510,
          525,
          540,
          555,
          570,
          585,
          600,
          615,
          630,
          645,
          660,
          675,
          690,
          705,
          720,
          735,
          750,
          765,
          780,
          795,
          810,
          825,
          840,
          855,
          870,
          885,
          900,
          915,
          930,
          945,
          960
         ],
         "y": [
          -2,
          3.25,
          8.5,
          13.749999999999998,
          19,
          27,
          35,
          43,
          51,
          50.75,
          50.5,
          50.25,
          50,
          51.25,
          52.5,
          53.75,
          55,
          50.25,
          45.5,
          40.75,
          36,
          37.5,
          39,
          40.5,
          42,
          36,
          30,
          24,
          18,
          15.75,
          13.5,
          11.25,
          9
         ]
        },
        {
         "line": {
          "color": "green"
         },
         "mode": "lines",
         "name": "ID BEV 5",
         "type": "scatter",
         "x": [
          480,
          480,
          495,
          510,
          519.7392086330935,
          519.7392086330935
         ],
         "y": [
          0,
          0.62,
          5.87,
          5.56,
          5.955,
          0
         ]
        },
        {
         "line": {
          "color": "green"
         },
         "mode": "lines",
         "name": "ID BEV 13",
         "type": "scatter",
         "x": [
          510,
          510,
          525,
          540,
          540
         ],
         "y": [
          0,
          11.12,
          4.095,
          4.75,
          0
         ]
        },
        {
         "line": {
          "color": "green"
         },
         "mode": "lines",
         "name": "ID BEV 14",
         "type": "scatter",
         "x": [
          519.7392086330935,
          519.7392086330935,
          525,
          540,
          555,
          570,
          570
         ],
         "y": [
          0,
          11.515,
          8.19,
          12.416666666666668,
          6.2,
          7,
          0
         ]
        },
        {
         "line": {
          "color": "green"
         },
         "mode": "lines",
         "name": "ID BEV 28",
         "type": "scatter",
         "x": [
          525,
          525,
          540,
          555,
          559.9314516129032,
          559.9314516129032
         ],
         "y": [
          0,
          12.285,
          20.083333333333336,
          12.4,
          5.926,
          0
         ]
        },
        {
         "line": {
          "color": "green"
         },
         "mode": "lines",
         "name": "ID BEV 51",
         "type": "scatter",
         "x": [
          525,
          525,
          540,
          555,
          562.2056451612904,
          562.2056451612904
         ],
         "y": [
          0,
          16.38,
          7.666666666666667,
          18.6,
          6.168,
          0
         ]
        },
        {
         "line": {
          "color": "green"
         },
         "mode": "lines",
         "name": "ID BEV 15",
         "type": "scatter",
         "x": [
          555,
          555,
          570,
          571.1435897435897,
          571.1435897435897
         ],
         "y": [
          0,
          24.8,
          16.75,
          8.9025,
          0
         ]
        },
        {
         "line": {
          "color": "green"
         },
         "mode": "lines",
         "name": "ID BEV 69",
         "type": "scatter",
         "x": [
          555,
          555,
          570,
          577.1282051282051,
          577.1282051282051
         ],
         "y": [
          0,
          31,
          26.5,
          9.7,
          0
         ]
        },
        {
         "line": {
          "color": "green"
         },
         "mode": "lines",
         "name": "ID BEV 17",
         "type": "scatter",
         "x": [
          559.9314516129032,
          559.9314516129032,
          570,
          582.4128205128205,
          582.4128205128205
         ],
         "y": [
          0,
          12.126000000000001,
          36.25,
          10.405,
          0
         ]
        },
        {
         "line": {
          "color": "green"
         },
         "mode": "lines",
         "name": "ID BEV 20",
         "type": "scatter",
         "x": [
          562.2056451612904,
          562.2056451612904,
          570,
          585,
          585.5718085106383,
          585.5718085106383
         ],
         "y": [
          0,
          12.368,
          9.75,
          9.4,
          8.66,
          0
         ]
        },
        {
         "line": {
          "color": "green"
         },
         "mode": "lines",
         "name": "ID BEV 33",
         "type": "scatter",
         "x": [
          571.1435897435897,
          571.1435897435897,
          585,
          594.8989361702127,
          594.8989361702127
         ],
         "y": [
          0,
          18.6525,
          18.8,
          9.656,
          0
         ]
        },
        {
         "line": {
          "color": "green"
         },
         "mode": "lines",
         "name": "ID BEV 34",
         "type": "scatter",
         "x": [
          577.1282051282051,
          577.1282051282051,
          585,
          594.6117021276596,
          594.6117021276596
         ],
         "y": [
          0,
          19.45,
          28.200000000000003,
          9.626000000000001,
          0
         ]
        },
        {
         "line": {
          "color": "green"
         },
         "mode": "lines",
         "name": "ID BEV 50",
         "type": "scatter",
         "x": [
          582.4128205128205,
          582.4128205128205,
          585,
          600,
          600
         ],
         "y": [
          0,
          20.155,
          37.6,
          10.2,
          0
         ]
        },
        {
         "line": {
          "color": "green"
         },
         "mode": "lines",
         "name": "ID BEV 30",
         "type": "scatter",
         "x": [
          585,
          585,
          595.0212765957447,
          595.0212765957447
         ],
         "y": [
          0,
          47,
          9.668000000000001,
          0
         ]
        },
        {
         "line": {
          "color": "green"
         },
         "mode": "lines",
         "name": "ID BEV 55",
         "type": "scatter",
         "x": [
          585.5718085106383,
          585.5718085106383,
          600,
          615,
          617.9815290399052,
          617.9815290399052
         ],
         "y": [
          0,
          18.060000000000002,
          20.375999999999998,
          10.123999999999999,
          10.14,
          0
         ]
        },
        {
         "line": {
          "color": "green"
         },
         "mode": "lines",
         "name": "ID BEV 57",
         "type": "scatter",
         "x": [
          594.8989361702127,
          594.8989361702127,
          600,
          615,
          628.1677202686684,
          628.1677202686684
         ],
         "y": [
          0,
          19.056,
          30.552,
          20.247999999999998,
          10.106,
          0
         ]
        },
        {
         "line": {
          "color": "green"
         },
         "mode": "lines",
         "name": "ID BEV 60",
         "type": "scatter",
         "x": [
          594.6117021276596,
          594.6117021276596,
          600,
          615,
          627.4417226392729,
          627.4417226392729
         ],
         "y": [
          0,
          19.026000000000003,
          40.728,
          30.371999999999996,
          10.108,
          0
         ]
        },
        {
         "line": {
          "color": "green"
         },
         "mode": "lines",
         "name": "ID BEV 7",
         "type": "scatter",
         "x": [
          595.0212765957447,
          595.0212765957447,
          600,
          615,
          625.9551560647965,
          625.9551560647965
         ],
         "y": [
          0,
          19.068,
          50.904,
          40.495999999999995,
          10.114,
          0
         ]
        },
        {
         "line": {
          "color": "green"
         },
         "mode": "lines",
         "name": "ID BEV 68",
         "type": "scatter",
         "x": [
          600.5642906235794,
          600.5642906235794,
          615,
          626.1223055497376,
          626.1223055497376
         ],
         "y": [
          0,
          10.176,
          50.61999999999999,
          10.112,
          0
         ]
        },
        {
         "line": {
          "color": "green"
         },
         "mode": "lines",
         "name": "ID BEV 9",
         "type": "scatter",
         "x": [
          617.9815290399052,
          617.9815290399052,
          630,
          645,
          647.5174581005588,
          647.5174581005588
         ],
         "y": [
          0,
          20.264,
          10.076,
          10.024,
          10.042,
          0
         ]
        },
        {
         "line": {
          "color": "green"
         },
         "mode": "lines",
         "name": "ID BEV 10",
         "type": "scatter",
         "x": [
          628.1677202686684,
          628.1677202686684,
          630,
          645,
          654.1091380686352,
          654.1091380686352
         ],
         "y": [
          0,
          20.229999999999997,
          20.152,
          20.048,
          10.02,
          0
         ]
        },
        {
         "line": {
          "color": "green"
         },
         "mode": "lines",
         "name": "ID BEV 12",
         "type": "scatter",
         "x": [
          627.4417226392729,
          627.4417226392729,
          630,
          645,
          658.2990822027134,
          658.2990822027134
         ],
         "y": [
          0,
          20.232,
          30.228,
          30.071999999999996,
          10.006,
          0
         ]
        },
        {
         "line": {
          "color": "green"
         },
         "mode": "lines",
         "name": "ID BEV 19",
         "type": "scatter",
         "x": [
          625.9551560647965,
          625.9551560647965,
          630,
          645,
          646.5023942537908,
          646.5023942537908
         ],
         "y": [
          0,
          20.238,
          40.304,
          40.096,
          10.044,
          0
         ]
        },
        {
         "line": {
          "color": "green"
         },
         "mode": "lines",
         "name": "ID BEV 24",
         "type": "scatter",
         "x": [
          626.1223055497376,
          626.1223055497376,
          630,
          645,
          655.7394474646392,
          655.7394474646392
         ],
         "y": [
          0,
          20.235999999999997,
          50.38,
          50.12,
          10.014,
          0
         ]
        },
        {
         "line": {
          "color": "green"
         },
         "mode": "lines",
         "name": "ID BEV 25",
         "type": "scatter",
         "x": [
          647.5174581005588,
          647.5174581005588,
          660,
          675,
          675
         ],
         "y": [
          0,
          20.066,
          10.123999999999999,
          10.25,
          0
         ]
        },
        {
         "line": {
          "color": "green"
         },
         "mode": "lines",
         "name": "ID BEV 26",
         "type": "scatter",
         "x": [
          654.1091380686352,
          654.1091380686352,
          660,
          675,
          675
         ],
         "y": [
          0,
          20.043999999999997,
          20.247999999999998,
          20.5,
          0
         ]
        },
        {
         "line": {
          "color": "green"
         },
         "mode": "lines",
         "name": "ID BEV 31",
         "type": "scatter",
         "x": [
          658.2990822027134,
          658.2990822027134,
          660,
          675,
          675.6206630686198,
          675.6206630686198
         ],
         "y": [
          0,
          20.03,
          30.371999999999996,
          30.876,
          10.26,
          0
         ]
        },
        {
         "line": {
          "color": "green"
         },
         "mode": "lines",
         "name": "ID BEV 41",
         "type": "scatter",
         "x": [
          646.5023942537908,
          646.5023942537908,
          660,
          675,
          677.234965304549,
          677.234965304549
         ],
         "y": [
          0,
          20.067999999999998,
          40.495999999999995,
          41.252,
          10.288,
          0
         ]
        },
        {
         "line": {
          "color": "green"
         },
         "mode": "lines",
         "name": "ID BEV 47",
         "type": "scatter",
         "x": [
          655.7394474646392,
          655.7394474646392,
          660,
          675,
          685.5948555691541,
          685.5948555691541
         ],
         "y": [
          0,
          20.037999999999997,
          50.61999999999999,
          51.628,
          10.426,
          0
         ]
        },
        {
         "line": {
          "color": "green"
         },
         "mode": "lines",
         "name": "ID BEV 2",
         "type": "scatter",
         "x": [
          675.4198156506736,
          675.4198156506736,
          690,
          690
         ],
         "y": [
          0,
          10.376000000000001,
          10.5,
          0
         ]
        },
        {
         "line": {
          "color": "green"
         },
         "mode": "lines",
         "name": "ID BEV 48",
         "type": "scatter",
         "x": [
          675.5776390319104,
          675.5776390319104,
          690,
          705,
          705
         ],
         "y": [
          0,
          10.376000000000001,
          21.124,
          10.75,
          0
         ]
        },
        {
         "line": {
          "color": "green"
         },
         "mode": "lines",
         "name": "ID BEV 52",
         "type": "scatter",
         "x": [
          675.6206630686198,
          675.6206630686198,
          690,
          692.4614081325301,
          692.4614081325301
         ],
         "y": [
          0,
          20.636000000000003,
          31.747999999999998,
          10.542,
          0
         ]
        },
        {
         "line": {
          "color": "green"
         },
         "mode": "lines",
         "name": "ID BEV 56",
         "type": "scatter",
         "x": [
          677.234965304549,
          677.234965304549,
          690,
          694.0380271084338,
          694.0380271084338
         ],
         "y": [
          0,
          20.664,
          42.372,
          10.568000000000001,
          0
         ]
        },
        {
         "line": {
          "color": "green"
         },
         "mode": "lines",
         "name": "ID BEV 65",
         "type": "scatter",
         "x": [
          685.5948555691541,
          685.5948555691541,
          690,
          705,
          705
         ],
         "y": [
          0,
          20.802,
          52.995999999999995,
          21.5,
          0
         ]
        },
        {
         "line": {
          "color": "green"
         },
         "mode": "lines",
         "name": "ID BEV 73",
         "type": "scatter",
         "x": [
          691.8354668674699,
          691.8354668674699,
          705,
          718.9518205222508,
          718.9518205222508
         ],
         "y": [
          0,
          10.623999999999999,
          32.376000000000005,
          10.982,
          0
         ]
        },
        {
         "line": {
          "color": "green"
         },
         "mode": "lines",
         "name": "ID BEV 66",
         "type": "scatter",
         "x": [
          692.4614081325301,
          692.4614081325301,
          705,
          708,
          708.874586244943,
          708.874586244943
         ],
         "y": [
          0,
          21.165999999999997,
          43.25200000000001,
          10.8,
          10.814,
          0
         ]
        },
        {
         "line": {
          "color": "green"
         },
         "mode": "lines",
         "name": "ID BEV 67",
         "type": "scatter",
         "x": [
          694.0380271084338,
          694.0380271084338,
          705,
          720,
          720
         ],
         "y": [
          0,
          21.192,
          54.128000000000014,
          11,
          0
         ]
        },
        {
         "line": {
          "color": "green"
         },
         "mode": "lines",
         "name": "ID BEV 4",
         "type": "scatter",
         "x": [
          705.8909525560869,
          705.8909525560869,
          720,
          720
         ],
         "y": [
          0,
          10.876000000000001,
          22,
          0
         ]
        },
        {
         "line": {
          "color": "green"
         },
         "mode": "lines",
         "name": "ID BEV 61",
         "type": "scatter",
         "x": [
          718.9518205222508,
          718.9518205222508,
          720,
          720
         ],
         "y": [
          0,
          21.858,
          33,
          0
         ]
        },
        {
         "line": {
          "color": "green"
         },
         "mode": "lines",
         "name": "ID BEV 23",
         "type": "scatter",
         "x": [
          708.874586244943,
          708.874586244943,
          720,
          735,
          736.9413116123642,
          736.9413116123642
         ],
         "y": [
          0,
          21.69,
          43.524,
          9.576,
          9.928,
          0
         ]
        },
        {
         "line": {
          "color": "green"
         },
         "mode": "lines",
         "name": "ID BEV 27",
         "type": "scatter",
         "x": [
          708,
          708,
          720,
          735,
          735.3370927318296,
          735.3370927318296
         ],
         "y": [
          0,
          21.676000000000002,
          54.048,
          19.152,
          10.028,
          0
         ]
        },
        {
         "line": {
          "color": "green"
         },
         "mode": "lines",
         "name": "ID BEV 44",
         "type": "scatter",
         "x": [
          725.3980142140704,
          725.3980142140704,
          735,
          750,
          750
         ],
         "y": [
          0,
          10.524,
          28.728,
          9.1,
          0
         ]
        },
        {
         "line": {
          "color": "green"
         },
         "mode": "lines",
         "name": "ID BEV 62",
         "type": "scatter",
         "x": [
          734.3529076396808,
          734.3529076396808,
          735,
          750,
          750.0000000000001,
          960,
          960
         ],
         "y": [
          0,
          10.524,
          38.304,
          17.723999999999997,
          9.1,
          9,
          0
         ]
        },
        {
         "line": {
          "color": "green"
         },
         "mode": "lines",
         "name": "ID BEV 70",
         "type": "scatter",
         "x": [
          720.6271379703535,
          720.6271379703535,
          735,
          750,
          960,
          960
         ],
         "y": [
          0,
          10.524,
          47.88,
          26.823999999999998,
          9,
          0
         ]
        },
        {
         "line": {
          "color": "green"
         },
         "mode": "lines",
         "name": "ID BEV 32",
         "type": "scatter",
         "x": [
          736.9413116123642,
          736.9413116123642,
          750,
          765,
          765
         ],
         "y": [
          0,
          19.504,
          35.44799999999999,
          8.15,
          0
         ]
        },
        {
         "line": {
          "color": "green"
         },
         "mode": "lines",
         "name": "ID BEV 38",
         "type": "scatter",
         "x": [
          735.3370927318296,
          735.3370927318296,
          750,
          765,
          765
         ],
         "y": [
          0,
          19.604,
          44.07199999999999,
          16.3,
          0
         ]
        },
        {
         "line": {
          "color": "green"
         },
         "mode": "lines",
         "name": "ID BEV 21",
         "type": "scatter",
         "x": [
          750.8466372912806,
          750.8466372912806,
          765,
          765
         ],
         "y": [
          0,
          8.623999999999999,
          24.450000000000003,
          0
         ]
        },
        {
         "line": {
          "color": "green"
         },
         "mode": "lines",
         "name": "ID BEV 39",
         "type": "scatter",
         "x": [
          750.0000000000001,
          750.0000000000001,
          765,
          776.6974986972383,
          776.6974986972383
         ],
         "y": [
          0,
          17.723999999999997,
          32.126000000000005,
          7.409999999999999,
          0
         ]
        },
        {
         "line": {
          "color": "green"
         },
         "mode": "lines",
         "name": "ID BEV 46",
         "type": "scatter",
         "x": [
          750,
          750,
          765,
          777.9090672225117,
          777.9090672225117
         ],
         "y": [
          0,
          8.623999999999999,
          39.80200000000001,
          7.331999999999999,
          0
         ]
        },
        {
         "line": {
          "color": "green"
         },
         "mode": "lines",
         "name": "ID BEV 37",
         "type": "scatter",
         "x": [
          771.4721946375372,
          771.4721946375372,
          780,
          780
         ],
         "y": [
          0,
          9.595,
          7.2,
          0
         ]
        },
        {
         "line": {
          "color": "green"
         },
         "mode": "lines",
         "name": "ID BEV 43",
         "type": "scatter",
         "x": [
          767.6341844710787,
          767.6341844710787,
          780,
          783.2285714285714,
          960,
          960
         ],
         "y": [
          0,
          7.676,
          14.55,
          7.264,
          9,
          0
         ]
        },
        {
         "line": {
          "color": "green"
         },
         "mode": "lines",
         "name": "ID BEV 42",
         "type": "scatter",
         "x": [
          765,
          765,
          780,
          780
         ],
         "y": [
          0,
          7.676,
          21.75,
          0
         ]
        },
        {
         "line": {
          "color": "green"
         },
         "mode": "lines",
         "name": "ID BEV 53",
         "type": "scatter",
         "x": [
          776.6974986972383,
          776.6974986972383,
          780,
          795,
          795
         ],
         "y": [
          0,
          15.085999999999999,
          29.1,
          7.5,
          0
         ]
        },
        {
         "line": {
          "color": "green"
         },
         "mode": "lines",
         "name": "ID BEV 22",
         "type": "scatter",
         "x": [
          777.9090672225117,
          777.9090672225117,
          780,
          795,
          810,
          810
         ],
         "y": [
          0,
          15.008,
          36.45,
          15.15,
          7.8,
          0
         ]
        },
        {
         "line": {
          "color": "green"
         },
         "mode": "lines",
         "name": "ID BEV 35",
         "type": "scatter",
         "x": [
          787.4694647670389,
          787.4694647670389,
          795,
          810,
          810
         ],
         "y": [
          0,
          7.35,
          22.8,
          15.6,
          0
         ]
        },
        {
         "line": {
          "color": "green"
         },
         "mode": "lines",
         "name": "ID BEV 36",
         "type": "scatter",
         "x": [
          794.2367346938776,
          794.2367346938776,
          795,
          810,
          813.0279245283019,
          960,
          960
         ],
         "y": [
          0,
          7.35,
          30.450000000000003,
          25.5375,
          9.825,
          9,
          0
         ]
        },
        {
         "line": {
          "color": "green"
         },
         "mode": "lines",
         "name": "ID BEV 40",
         "type": "scatter",
         "x": [
          783.2285714285714,
          783.2285714285714,
          795,
          810,
          814.9690566037735,
          814.9690566037735
         ],
         "y": [
          0,
          14.614,
          38.1,
          35.475,
          9.875,
          0
         ]
        },
        {
         "line": {
          "color": "green"
         },
         "mode": "lines",
         "name": "ID BEV 8",
         "type": "scatter",
         "x": [
          795,
          795,
          810,
          825,
          840,
          840
         ],
         "y": [
          0,
          7.65,
          9.9375,
          8.25,
          8.4,
          0
         ]
        },
        {
         "line": {
          "color": "green"
         },
         "mode": "lines",
         "name": "ID BEV 29",
         "type": "scatter",
         "x": [
          822.4981132075471,
          822.4981132075471,
          825,
          840,
          855,
          858.75,
          960,
          960
         ],
         "y": [
          0,
          9.9375,
          16.5,
          18.15,
          8.25,
          8.625,
          9,
          0
         ]
        },
        {
         "line": {
          "color": "green"
         },
         "mode": "lines",
         "name": "ID BEV 58",
         "type": "scatter",
         "x": [
          813.0279245283019,
          813.0279245283019,
          825,
          840,
          855,
          870,
          870
         ],
         "y": [
          0,
          19.7625,
          24.75,
          27.9,
          16.5,
          7.5,
          0
         ]
        },
        {
         "line": {
          "color": "green"
         },
         "mode": "lines",
         "name": "ID BEV 45",
         "type": "scatter",
         "x": [
          814.9690566037735,
          814.9690566037735,
          825,
          840,
          855,
          870,
          870
         ],
         "y": [
          0,
          19.8125,
          33,
          37.65,
          24.75,
          15,
          0
         ]
        },
        {
         "line": {
          "color": "green"
         },
         "mode": "lines",
         "name": "ID BEV 16",
         "type": "scatter",
         "x": [
          825,
          825,
          840,
          855,
          870,
          885,
          885
         ],
         "y": [
          0,
          41.25,
          9.75,
          33,
          24,
          8,
          0
         ]
        },
        {
         "line": {
          "color": "green"
         },
         "mode": "lines",
         "name": "ID BEV 54",
         "type": "scatter",
         "x": [
          858.75,
          858.75,
          870,
          870.1041666666666,
          870.1041666666666
         ],
         "y": [
          0,
          16.875,
          33,
          9.986666666666666,
          0
         ]
        },
        {
         "line": {
          "color": "green"
         },
         "mode": "lines",
         "name": "ID BEV 18",
         "type": "scatter",
         "x": [
          871.8166666666667,
          871.8166666666667,
          885,
          960,
          960
         ],
         "y": [
          0,
          9,
          20,
          9,
          0
         ]
        },
        {
         "line": {
          "color": "green"
         },
         "mode": "lines",
         "name": "ID BEV 59",
         "type": "scatter",
         "x": [
          870.1041666666666,
          870.1041666666666,
          885,
          900,
          900
         ],
         "y": [
          0,
          18.986666666666665,
          10.5,
          9,
          0
         ]
        },
        {
         "line": {
          "color": "green"
         },
         "mode": "lines",
         "name": "ID BEV 63",
         "type": "scatter",
         "x": [
          885,
          885,
          900,
          915,
          915
         ],
         "y": [
          0,
          21,
          17.439999999999998,
          7.875,
          0
         ]
        },
        {
         "line": {
          "color": "green"
         },
         "mode": "lines",
         "name": "ID BEV 11",
         "type": "scatter",
         "x": [
          914.8222748815166,
          914.8222748815166,
          915,
          915
         ],
         "y": [
          0,
          8.44,
          15.75,
          0
         ]
        },
        {
         "line": {
          "color": "green"
         },
         "mode": "lines",
         "name": "ID BEV 3",
         "type": "scatter",
         "x": [
          929.8768809849521,
          929.8768809849521,
          930,
          930
         ],
         "y": [
          0,
          7.31,
          6.75,
          0
         ]
        },
        {
         "line": {
          "color": "green"
         },
         "mode": "lines",
         "name": "ID BEV 6",
         "type": "scatter",
         "x": [
          924.9931600547195,
          924.9931600547195,
          930,
          939.232633279483,
          939.232633279483
         ],
         "y": [
          0,
          7.31,
          12.940000000000001,
          6.06,
          0
         ]
        },
        {
         "line": {
          "color": "green"
         },
         "mode": "lines",
         "name": "ID BEV 1",
         "type": "scatter",
         "x": [
          939.232633279483,
          939.232633279483,
          945,
          945
         ],
         "y": [
          0,
          12.25,
          11.25,
          0
         ]
        },
        {
         "line": {
          "color": "green"
         },
         "mode": "lines",
         "name": "ID BEV 0",
         "type": "scatter",
         "x": [
          950.7361660079051,
          950.7361660079051,
          950.7361660079051
         ],
         "y": [
          0,
          10.12,
          0
         ]
        }
       ],
       "layout": {
        "template": {
         "data": {
          "bar": [
           {
            "error_x": {
             "color": "#2a3f5f"
            },
            "error_y": {
             "color": "#2a3f5f"
            },
            "marker": {
             "line": {
              "color": "white",
              "width": 0.5
             },
             "pattern": {
              "fillmode": "overlay",
              "size": 10,
              "solidity": 0.2
             }
            },
            "type": "bar"
           }
          ],
          "barpolar": [
           {
            "marker": {
             "line": {
              "color": "white",
              "width": 0.5
             },
             "pattern": {
              "fillmode": "overlay",
              "size": 10,
              "solidity": 0.2
             }
            },
            "type": "barpolar"
           }
          ],
          "carpet": [
           {
            "aaxis": {
             "endlinecolor": "#2a3f5f",
             "gridcolor": "#C8D4E3",
             "linecolor": "#C8D4E3",
             "minorgridcolor": "#C8D4E3",
             "startlinecolor": "#2a3f5f"
            },
            "baxis": {
             "endlinecolor": "#2a3f5f",
             "gridcolor": "#C8D4E3",
             "linecolor": "#C8D4E3",
             "minorgridcolor": "#C8D4E3",
             "startlinecolor": "#2a3f5f"
            },
            "type": "carpet"
           }
          ],
          "choropleth": [
           {
            "colorbar": {
             "outlinewidth": 0,
             "ticks": ""
            },
            "type": "choropleth"
           }
          ],
          "contour": [
           {
            "colorbar": {
             "outlinewidth": 0,
             "ticks": ""
            },
            "colorscale": [
             [
              0,
              "#0d0887"
             ],
             [
              0.1111111111111111,
              "#46039f"
             ],
             [
              0.2222222222222222,
              "#7201a8"
             ],
             [
              0.3333333333333333,
              "#9c179e"
             ],
             [
              0.4444444444444444,
              "#bd3786"
             ],
             [
              0.5555555555555556,
              "#d8576b"
             ],
             [
              0.6666666666666666,
              "#ed7953"
             ],
             [
              0.7777777777777778,
              "#fb9f3a"
             ],
             [
              0.8888888888888888,
              "#fdca26"
             ],
             [
              1,
              "#f0f921"
             ]
            ],
            "type": "contour"
           }
          ],
          "contourcarpet": [
           {
            "colorbar": {
             "outlinewidth": 0,
             "ticks": ""
            },
            "type": "contourcarpet"
           }
          ],
          "heatmap": [
           {
            "colorbar": {
             "outlinewidth": 0,
             "ticks": ""
            },
            "colorscale": [
             [
              0,
              "#0d0887"
             ],
             [
              0.1111111111111111,
              "#46039f"
             ],
             [
              0.2222222222222222,
              "#7201a8"
             ],
             [
              0.3333333333333333,
              "#9c179e"
             ],
             [
              0.4444444444444444,
              "#bd3786"
             ],
             [
              0.5555555555555556,
              "#d8576b"
             ],
             [
              0.6666666666666666,
              "#ed7953"
             ],
             [
              0.7777777777777778,
              "#fb9f3a"
             ],
             [
              0.8888888888888888,
              "#fdca26"
             ],
             [
              1,
              "#f0f921"
             ]
            ],
            "type": "heatmap"
           }
          ],
          "heatmapgl": [
           {
            "colorbar": {
             "outlinewidth": 0,
             "ticks": ""
            },
            "colorscale": [
             [
              0,
              "#0d0887"
             ],
             [
              0.1111111111111111,
              "#46039f"
             ],
             [
              0.2222222222222222,
              "#7201a8"
             ],
             [
              0.3333333333333333,
              "#9c179e"
             ],
             [
              0.4444444444444444,
              "#bd3786"
             ],
             [
              0.5555555555555556,
              "#d8576b"
             ],
             [
              0.6666666666666666,
              "#ed7953"
             ],
             [
              0.7777777777777778,
              "#fb9f3a"
             ],
             [
              0.8888888888888888,
              "#fdca26"
             ],
             [
              1,
              "#f0f921"
             ]
            ],
            "type": "heatmapgl"
           }
          ],
          "histogram": [
           {
            "marker": {
             "pattern": {
              "fillmode": "overlay",
              "size": 10,
              "solidity": 0.2
             }
            },
            "type": "histogram"
           }
          ],
          "histogram2d": [
           {
            "colorbar": {
             "outlinewidth": 0,
             "ticks": ""
            },
            "colorscale": [
             [
              0,
              "#0d0887"
             ],
             [
              0.1111111111111111,
              "#46039f"
             ],
             [
              0.2222222222222222,
              "#7201a8"
             ],
             [
              0.3333333333333333,
              "#9c179e"
             ],
             [
              0.4444444444444444,
              "#bd3786"
             ],
             [
              0.5555555555555556,
              "#d8576b"
             ],
             [
              0.6666666666666666,
              "#ed7953"
             ],
             [
              0.7777777777777778,
              "#fb9f3a"
             ],
             [
              0.8888888888888888,
              "#fdca26"
             ],
             [
              1,
              "#f0f921"
             ]
            ],
            "type": "histogram2d"
           }
          ],
          "histogram2dcontour": [
           {
            "colorbar": {
             "outlinewidth": 0,
             "ticks": ""
            },
            "colorscale": [
             [
              0,
              "#0d0887"
             ],
             [
              0.1111111111111111,
              "#46039f"
             ],
             [
              0.2222222222222222,
              "#7201a8"
             ],
             [
              0.3333333333333333,
              "#9c179e"
             ],
             [
              0.4444444444444444,
              "#bd3786"
             ],
             [
              0.5555555555555556,
              "#d8576b"
             ],
             [
              0.6666666666666666,
              "#ed7953"
             ],
             [
              0.7777777777777778,
              "#fb9f3a"
             ],
             [
              0.8888888888888888,
              "#fdca26"
             ],
             [
              1,
              "#f0f921"
             ]
            ],
            "type": "histogram2dcontour"
           }
          ],
          "mesh3d": [
           {
            "colorbar": {
             "outlinewidth": 0,
             "ticks": ""
            },
            "type": "mesh3d"
           }
          ],
          "parcoords": [
           {
            "line": {
             "colorbar": {
              "outlinewidth": 0,
              "ticks": ""
             }
            },
            "type": "parcoords"
           }
          ],
          "pie": [
           {
            "automargin": true,
            "type": "pie"
           }
          ],
          "scatter": [
           {
            "marker": {
             "colorbar": {
              "outlinewidth": 0,
              "ticks": ""
             }
            },
            "type": "scatter"
           }
          ],
          "scatter3d": [
           {
            "line": {
             "colorbar": {
              "outlinewidth": 0,
              "ticks": ""
             }
            },
            "marker": {
             "colorbar": {
              "outlinewidth": 0,
              "ticks": ""
             }
            },
            "type": "scatter3d"
           }
          ],
          "scattercarpet": [
           {
            "marker": {
             "colorbar": {
              "outlinewidth": 0,
              "ticks": ""
             }
            },
            "type": "scattercarpet"
           }
          ],
          "scattergeo": [
           {
            "marker": {
             "colorbar": {
              "outlinewidth": 0,
              "ticks": ""
             }
            },
            "type": "scattergeo"
           }
          ],
          "scattergl": [
           {
            "marker": {
             "colorbar": {
              "outlinewidth": 0,
              "ticks": ""
             }
            },
            "type": "scattergl"
           }
          ],
          "scattermapbox": [
           {
            "marker": {
             "colorbar": {
              "outlinewidth": 0,
              "ticks": ""
             }
            },
            "type": "scattermapbox"
           }
          ],
          "scatterpolar": [
           {
            "marker": {
             "colorbar": {
              "outlinewidth": 0,
              "ticks": ""
             }
            },
            "type": "scatterpolar"
           }
          ],
          "scatterpolargl": [
           {
            "marker": {
             "colorbar": {
              "outlinewidth": 0,
              "ticks": ""
             }
            },
            "type": "scatterpolargl"
           }
          ],
          "scatterternary": [
           {
            "marker": {
             "colorbar": {
              "outlinewidth": 0,
              "ticks": ""
             }
            },
            "type": "scatterternary"
           }
          ],
          "surface": [
           {
            "colorbar": {
             "outlinewidth": 0,
             "ticks": ""
            },
            "colorscale": [
             [
              0,
              "#0d0887"
             ],
             [
              0.1111111111111111,
              "#46039f"
             ],
             [
              0.2222222222222222,
              "#7201a8"
             ],
             [
              0.3333333333333333,
              "#9c179e"
             ],
             [
              0.4444444444444444,
              "#bd3786"
             ],
             [
              0.5555555555555556,
              "#d8576b"
             ],
             [
              0.6666666666666666,
              "#ed7953"
             ],
             [
              0.7777777777777778,
              "#fb9f3a"
             ],
             [
              0.8888888888888888,
              "#fdca26"
             ],
             [
              1,
              "#f0f921"
             ]
            ],
            "type": "surface"
           }
          ],
          "table": [
           {
            "cells": {
             "fill": {
              "color": "#EBF0F8"
             },
             "line": {
              "color": "white"
             }
            },
            "header": {
             "fill": {
              "color": "#C8D4E3"
             },
             "line": {
              "color": "white"
             }
            },
            "type": "table"
           }
          ]
         },
         "layout": {
          "annotationdefaults": {
           "arrowcolor": "#2a3f5f",
           "arrowhead": 0,
           "arrowwidth": 1
          },
          "autotypenumbers": "strict",
          "coloraxis": {
           "colorbar": {
            "outlinewidth": 0,
            "ticks": ""
           }
          },
          "colorscale": {
           "diverging": [
            [
             0,
             "#8e0152"
            ],
            [
             0.1,
             "#c51b7d"
            ],
            [
             0.2,
             "#de77ae"
            ],
            [
             0.3,
             "#f1b6da"
            ],
            [
             0.4,
             "#fde0ef"
            ],
            [
             0.5,
             "#f7f7f7"
            ],
            [
             0.6,
             "#e6f5d0"
            ],
            [
             0.7,
             "#b8e186"
            ],
            [
             0.8,
             "#7fbc41"
            ],
            [
             0.9,
             "#4d9221"
            ],
            [
             1,
             "#276419"
            ]
           ],
           "sequential": [
            [
             0,
             "#0d0887"
            ],
            [
             0.1111111111111111,
             "#46039f"
            ],
            [
             0.2222222222222222,
             "#7201a8"
            ],
            [
             0.3333333333333333,
             "#9c179e"
            ],
            [
             0.4444444444444444,
             "#bd3786"
            ],
            [
             0.5555555555555556,
             "#d8576b"
            ],
            [
             0.6666666666666666,
             "#ed7953"
            ],
            [
             0.7777777777777778,
             "#fb9f3a"
            ],
            [
             0.8888888888888888,
             "#fdca26"
            ],
            [
             1,
             "#f0f921"
            ]
           ],
           "sequentialminus": [
            [
             0,
             "#0d0887"
            ],
            [
             0.1111111111111111,
             "#46039f"
            ],
            [
             0.2222222222222222,
             "#7201a8"
            ],
            [
             0.3333333333333333,
             "#9c179e"
            ],
            [
             0.4444444444444444,
             "#bd3786"
            ],
            [
             0.5555555555555556,
             "#d8576b"
            ],
            [
             0.6666666666666666,
             "#ed7953"
            ],
            [
             0.7777777777777778,
             "#fb9f3a"
            ],
            [
             0.8888888888888888,
             "#fdca26"
            ],
            [
             1,
             "#f0f921"
            ]
           ]
          },
          "colorway": [
           "#636efa",
           "#EF553B",
           "#00cc96",
           "#ab63fa",
           "#FFA15A",
           "#19d3f3",
           "#FF6692",
           "#B6E880",
           "#FF97FF",
           "#FECB52"
          ],
          "font": {
           "color": "#2a3f5f"
          },
          "geo": {
           "bgcolor": "white",
           "lakecolor": "white",
           "landcolor": "white",
           "showlakes": true,
           "showland": true,
           "subunitcolor": "#C8D4E3"
          },
          "hoverlabel": {
           "align": "left"
          },
          "hovermode": "closest",
          "mapbox": {
           "style": "light"
          },
          "paper_bgcolor": "white",
          "plot_bgcolor": "white",
          "polar": {
           "angularaxis": {
            "gridcolor": "#EBF0F8",
            "linecolor": "#EBF0F8",
            "ticks": ""
           },
           "bgcolor": "white",
           "radialaxis": {
            "gridcolor": "#EBF0F8",
            "linecolor": "#EBF0F8",
            "ticks": ""
           }
          },
          "scene": {
           "xaxis": {
            "backgroundcolor": "white",
            "gridcolor": "#DFE8F3",
            "gridwidth": 2,
            "linecolor": "#EBF0F8",
            "showbackground": true,
            "ticks": "",
            "zerolinecolor": "#EBF0F8"
           },
           "yaxis": {
            "backgroundcolor": "white",
            "gridcolor": "#DFE8F3",
            "gridwidth": 2,
            "linecolor": "#EBF0F8",
            "showbackground": true,
            "ticks": "",
            "zerolinecolor": "#EBF0F8"
           },
           "zaxis": {
            "backgroundcolor": "white",
            "gridcolor": "#DFE8F3",
            "gridwidth": 2,
            "linecolor": "#EBF0F8",
            "showbackground": true,
            "ticks": "",
            "zerolinecolor": "#EBF0F8"
           }
          },
          "shapedefaults": {
           "line": {
            "color": "#2a3f5f"
           }
          },
          "ternary": {
           "aaxis": {
            "gridcolor": "#DFE8F3",
            "linecolor": "#A2B1C6",
            "ticks": ""
           },
           "baxis": {
            "gridcolor": "#DFE8F3",
            "linecolor": "#A2B1C6",
            "ticks": ""
           },
           "bgcolor": "white",
           "caxis": {
            "gridcolor": "#DFE8F3",
            "linecolor": "#A2B1C6",
            "ticks": ""
           }
          },
          "title": {
           "x": 0.05
          },
          "xaxis": {
           "automargin": true,
           "gridcolor": "#EBF0F8",
           "linecolor": "#EBF0F8",
           "ticks": "",
           "title": {
            "standoff": 15
           },
           "zerolinecolor": "#EBF0F8",
           "zerolinewidth": 2
          },
          "yaxis": {
           "automargin": true,
           "gridcolor": "#EBF0F8",
           "linecolor": "#EBF0F8",
           "ticks": "",
           "title": {
            "standoff": 15
           },
           "zerolinecolor": "#EBF0F8",
           "zerolinewidth": 2
          }
         }
        },
        "title": {
         "font": {
          "size": 24
         },
         "text": "Ladeleistung pro Ladezeitraum eines BEVs",
         "x": 0.5,
         "xanchor": "center"
        },
        "xaxis": {
         "range": [
          480,
          960
         ],
         "showgrid": true,
         "title": {
          "text": "Minuten"
         }
        },
        "yaxis": {
         "range": [
          0,
          60
         ],
         "title": {
          "text": "Energie in kW"
         }
        }
       }
      },
      "text/html": [
       "<div>                            <div id=\"1e214e67-3165-440c-9f8b-bf6a6a2add60\" class=\"plotly-graph-div\" style=\"height:525px; width:100%;\"></div>            <script type=\"text/javascript\">                require([\"plotly\"], function(Plotly) {                    window.PLOTLYENV=window.PLOTLYENV || {};                                    if (document.getElementById(\"1e214e67-3165-440c-9f8b-bf6a6a2add60\")) {                    Plotly.newPlot(                        \"1e214e67-3165-440c-9f8b-bf6a6a2add60\",                        [{\"line\":{\"color\":\"orange\"},\"name\":\"Verf\\u00fcgbare Solarleistung\",\"x\":[480,495,510,525,540,555,570,585,600,615,630,645,660,675,690,705,720,735,750,765,780,795,810,825,840,855,870,885,900,915,930,945,960],\"y\":[-2.0,3.25,8.5,13.749999999999998,19.0,27.0,35.0,43.0,51.0,50.75,50.5,50.25,50.0,51.25,52.5,53.75,55.0,50.25,45.5,40.75,36.0,37.5,39.0,40.5,42.0,36.0,30.0,24.0,18.0,15.75,13.5,11.25,9.0],\"type\":\"scatter\"},{\"line\":{\"color\":\"green\"},\"mode\":\"lines\",\"name\":\"ID BEV 5\",\"x\":[480.0,480.0,495.0,510.0,519.7392086330935,519.7392086330935],\"y\":[0.0,0.62,5.87,5.56,5.955,0.0],\"type\":\"scatter\"},{\"line\":{\"color\":\"green\"},\"mode\":\"lines\",\"name\":\"ID BEV 13\",\"x\":[510,510,525,540,540],\"y\":[0.0,11.12,4.095,4.75,0.0],\"type\":\"scatter\"},{\"line\":{\"color\":\"green\"},\"mode\":\"lines\",\"name\":\"ID BEV 14\",\"x\":[519.7392086330935,519.7392086330935,525.0,540.0,555.0,570.0,570.0],\"y\":[0.0,11.515,8.19,12.416666666666668,6.2,7.0,0.0],\"type\":\"scatter\"},{\"line\":{\"color\":\"green\"},\"mode\":\"lines\",\"name\":\"ID BEV 28\",\"x\":[525.0,525.0,540.0,555.0,559.9314516129032,559.9314516129032],\"y\":[0.0,12.285,20.083333333333336,12.4,5.926,0.0],\"type\":\"scatter\"},{\"line\":{\"color\":\"green\"},\"mode\":\"lines\",\"name\":\"ID BEV 51\",\"x\":[525.0,525.0,540.0,555.0,562.2056451612904,562.2056451612904],\"y\":[0.0,16.38,7.666666666666667,18.6,6.168,0.0],\"type\":\"scatter\"},{\"line\":{\"color\":\"green\"},\"mode\":\"lines\",\"name\":\"ID BEV 15\",\"x\":[555.0,555.0,570.0,571.1435897435897,571.1435897435897],\"y\":[0.0,24.8,16.75,8.9025,0.0],\"type\":\"scatter\"},{\"line\":{\"color\":\"green\"},\"mode\":\"lines\",\"name\":\"ID BEV 69\",\"x\":[555.0,555.0,570.0,577.1282051282051,577.1282051282051],\"y\":[0.0,31.0,26.5,9.7,0.0],\"type\":\"scatter\"},{\"line\":{\"color\":\"green\"},\"mode\":\"lines\",\"name\":\"ID BEV 17\",\"x\":[559.9314516129032,559.9314516129032,570.0,582.4128205128205,582.4128205128205],\"y\":[0.0,12.126000000000001,36.25,10.405,0.0],\"type\":\"scatter\"},{\"line\":{\"color\":\"green\"},\"mode\":\"lines\",\"name\":\"ID BEV 20\",\"x\":[562.2056451612904,562.2056451612904,570.0,585.0,585.5718085106383,585.5718085106383],\"y\":[0.0,12.368,9.75,9.4,8.66,0.0],\"type\":\"scatter\"},{\"line\":{\"color\":\"green\"},\"mode\":\"lines\",\"name\":\"ID BEV 33\",\"x\":[571.1435897435897,571.1435897435897,585.0,594.8989361702127,594.8989361702127],\"y\":[0.0,18.6525,18.8,9.656,0.0],\"type\":\"scatter\"},{\"line\":{\"color\":\"green\"},\"mode\":\"lines\",\"name\":\"ID BEV 34\",\"x\":[577.1282051282051,577.1282051282051,585.0,594.6117021276596,594.6117021276596],\"y\":[0.0,19.45,28.200000000000003,9.626000000000001,0.0],\"type\":\"scatter\"},{\"line\":{\"color\":\"green\"},\"mode\":\"lines\",\"name\":\"ID BEV 50\",\"x\":[582.4128205128205,582.4128205128205,585.0,600.0,600.0],\"y\":[0.0,20.155,37.6,10.2,0.0],\"type\":\"scatter\"},{\"line\":{\"color\":\"green\"},\"mode\":\"lines\",\"name\":\"ID BEV 30\",\"x\":[585.0,585.0,595.0212765957447,595.0212765957447],\"y\":[0.0,47.0,9.668000000000001,0.0],\"type\":\"scatter\"},{\"line\":{\"color\":\"green\"},\"mode\":\"lines\",\"name\":\"ID BEV 55\",\"x\":[585.5718085106383,585.5718085106383,600.0,615.0,617.9815290399052,617.9815290399052],\"y\":[0.0,18.060000000000002,20.375999999999998,10.123999999999999,10.14,0.0],\"type\":\"scatter\"},{\"line\":{\"color\":\"green\"},\"mode\":\"lines\",\"name\":\"ID BEV 57\",\"x\":[594.8989361702127,594.8989361702127,600.0,615.0,628.1677202686684,628.1677202686684],\"y\":[0.0,19.056,30.552,20.247999999999998,10.106,0.0],\"type\":\"scatter\"},{\"line\":{\"color\":\"green\"},\"mode\":\"lines\",\"name\":\"ID BEV 60\",\"x\":[594.6117021276596,594.6117021276596,600.0,615.0,627.4417226392729,627.4417226392729],\"y\":[0.0,19.026000000000003,40.728,30.371999999999996,10.108,0.0],\"type\":\"scatter\"},{\"line\":{\"color\":\"green\"},\"mode\":\"lines\",\"name\":\"ID BEV 7\",\"x\":[595.0212765957447,595.0212765957447,600.0,615.0,625.9551560647965,625.9551560647965],\"y\":[0.0,19.068,50.904,40.495999999999995,10.114,0.0],\"type\":\"scatter\"},{\"line\":{\"color\":\"green\"},\"mode\":\"lines\",\"name\":\"ID BEV 68\",\"x\":[600.5642906235794,600.5642906235794,615.0,626.1223055497376,626.1223055497376],\"y\":[0.0,10.176,50.61999999999999,10.112,0.0],\"type\":\"scatter\"},{\"line\":{\"color\":\"green\"},\"mode\":\"lines\",\"name\":\"ID BEV 9\",\"x\":[617.9815290399052,617.9815290399052,630.0,645.0,647.5174581005588,647.5174581005588],\"y\":[0.0,20.264,10.076,10.024,10.042,0.0],\"type\":\"scatter\"},{\"line\":{\"color\":\"green\"},\"mode\":\"lines\",\"name\":\"ID BEV 10\",\"x\":[628.1677202686684,628.1677202686684,630.0,645.0,654.1091380686352,654.1091380686352],\"y\":[0.0,20.229999999999997,20.152,20.048,10.02,0.0],\"type\":\"scatter\"},{\"line\":{\"color\":\"green\"},\"mode\":\"lines\",\"name\":\"ID BEV 12\",\"x\":[627.4417226392729,627.4417226392729,630.0,645.0,658.2990822027134,658.2990822027134],\"y\":[0.0,20.232,30.228,30.071999999999996,10.006,0.0],\"type\":\"scatter\"},{\"line\":{\"color\":\"green\"},\"mode\":\"lines\",\"name\":\"ID BEV 19\",\"x\":[625.9551560647965,625.9551560647965,630.0,645.0,646.5023942537908,646.5023942537908],\"y\":[0.0,20.238,40.304,40.096,10.044,0.0],\"type\":\"scatter\"},{\"line\":{\"color\":\"green\"},\"mode\":\"lines\",\"name\":\"ID BEV 24\",\"x\":[626.1223055497376,626.1223055497376,630.0,645.0,655.7394474646392,655.7394474646392],\"y\":[0.0,20.235999999999997,50.38,50.12,10.014,0.0],\"type\":\"scatter\"},{\"line\":{\"color\":\"green\"},\"mode\":\"lines\",\"name\":\"ID BEV 25\",\"x\":[647.5174581005588,647.5174581005588,660.0,675.0,675.0],\"y\":[0.0,20.066,10.123999999999999,10.25,0.0],\"type\":\"scatter\"},{\"line\":{\"color\":\"green\"},\"mode\":\"lines\",\"name\":\"ID BEV 26\",\"x\":[654.1091380686352,654.1091380686352,660.0,675.0,675.0],\"y\":[0.0,20.043999999999997,20.247999999999998,20.5,0.0],\"type\":\"scatter\"},{\"line\":{\"color\":\"green\"},\"mode\":\"lines\",\"name\":\"ID BEV 31\",\"x\":[658.2990822027134,658.2990822027134,660.0,675.0,675.6206630686198,675.6206630686198],\"y\":[0.0,20.03,30.371999999999996,30.876,10.26,0.0],\"type\":\"scatter\"},{\"line\":{\"color\":\"green\"},\"mode\":\"lines\",\"name\":\"ID BEV 41\",\"x\":[646.5023942537908,646.5023942537908,660.0,675.0,677.234965304549,677.234965304549],\"y\":[0.0,20.067999999999998,40.495999999999995,41.252,10.288,0.0],\"type\":\"scatter\"},{\"line\":{\"color\":\"green\"},\"mode\":\"lines\",\"name\":\"ID BEV 47\",\"x\":[655.7394474646392,655.7394474646392,660.0,675.0,685.5948555691541,685.5948555691541],\"y\":[0.0,20.037999999999997,50.61999999999999,51.628,10.426,0.0],\"type\":\"scatter\"},{\"line\":{\"color\":\"green\"},\"mode\":\"lines\",\"name\":\"ID BEV 2\",\"x\":[675.4198156506736,675.4198156506736,690.0,690.0],\"y\":[0.0,10.376000000000001,10.5,0.0],\"type\":\"scatter\"},{\"line\":{\"color\":\"green\"},\"mode\":\"lines\",\"name\":\"ID BEV 48\",\"x\":[675.5776390319104,675.5776390319104,690.0,705.0,705.0],\"y\":[0.0,10.376000000000001,21.124,10.75,0.0],\"type\":\"scatter\"},{\"line\":{\"color\":\"green\"},\"mode\":\"lines\",\"name\":\"ID BEV 52\",\"x\":[675.6206630686198,675.6206630686198,690.0,692.4614081325301,692.4614081325301],\"y\":[0.0,20.636000000000003,31.747999999999998,10.542,0.0],\"type\":\"scatter\"},{\"line\":{\"color\":\"green\"},\"mode\":\"lines\",\"name\":\"ID BEV 56\",\"x\":[677.234965304549,677.234965304549,690.0,694.0380271084338,694.0380271084338],\"y\":[0.0,20.664,42.372,10.568000000000001,0.0],\"type\":\"scatter\"},{\"line\":{\"color\":\"green\"},\"mode\":\"lines\",\"name\":\"ID BEV 65\",\"x\":[685.5948555691541,685.5948555691541,690.0,705.0,705.0],\"y\":[0.0,20.802,52.995999999999995,21.5,0.0],\"type\":\"scatter\"},{\"line\":{\"color\":\"green\"},\"mode\":\"lines\",\"name\":\"ID BEV 73\",\"x\":[691.8354668674699,691.8354668674699,705.0,718.9518205222508,718.9518205222508],\"y\":[0.0,10.623999999999999,32.376000000000005,10.982,0.0],\"type\":\"scatter\"},{\"line\":{\"color\":\"green\"},\"mode\":\"lines\",\"name\":\"ID BEV 66\",\"x\":[692.4614081325301,692.4614081325301,705.0,708.0,708.874586244943,708.874586244943],\"y\":[0.0,21.165999999999997,43.25200000000001,10.8,10.814,0.0],\"type\":\"scatter\"},{\"line\":{\"color\":\"green\"},\"mode\":\"lines\",\"name\":\"ID BEV 67\",\"x\":[694.0380271084338,694.0380271084338,705.0,720.0,720.0],\"y\":[0.0,21.192,54.128000000000014,11.0,0.0],\"type\":\"scatter\"},{\"line\":{\"color\":\"green\"},\"mode\":\"lines\",\"name\":\"ID BEV 4\",\"x\":[705.8909525560869,705.8909525560869,720.0,720.0],\"y\":[0.0,10.876000000000001,22.0,0.0],\"type\":\"scatter\"},{\"line\":{\"color\":\"green\"},\"mode\":\"lines\",\"name\":\"ID BEV 61\",\"x\":[718.9518205222508,718.9518205222508,720.0,720.0],\"y\":[0.0,21.858,33.0,0.0],\"type\":\"scatter\"},{\"line\":{\"color\":\"green\"},\"mode\":\"lines\",\"name\":\"ID BEV 23\",\"x\":[708.874586244943,708.874586244943,720.0,735.0,736.9413116123642,736.9413116123642],\"y\":[0.0,21.69,43.524,9.576,9.928,0.0],\"type\":\"scatter\"},{\"line\":{\"color\":\"green\"},\"mode\":\"lines\",\"name\":\"ID BEV 27\",\"x\":[708.0,708.0,720.0,735.0,735.3370927318296,735.3370927318296],\"y\":[0.0,21.676000000000002,54.048,19.152,10.028,0.0],\"type\":\"scatter\"},{\"line\":{\"color\":\"green\"},\"mode\":\"lines\",\"name\":\"ID BEV 44\",\"x\":[725.3980142140704,725.3980142140704,735.0,750.0,750.0],\"y\":[0.0,10.524,28.728,9.1,0.0],\"type\":\"scatter\"},{\"line\":{\"color\":\"green\"},\"mode\":\"lines\",\"name\":\"ID BEV 62\",\"x\":[734.3529076396808,734.3529076396808,735.0,750.0,750.0000000000001,960.0,960.0],\"y\":[0.0,10.524,38.304,17.723999999999997,9.1,9.0,0.0],\"type\":\"scatter\"},{\"line\":{\"color\":\"green\"},\"mode\":\"lines\",\"name\":\"ID BEV 70\",\"x\":[720.6271379703535,720.6271379703535,735.0,750.0,960.0,960.0],\"y\":[0.0,10.524,47.88,26.823999999999998,9.0,0.0],\"type\":\"scatter\"},{\"line\":{\"color\":\"green\"},\"mode\":\"lines\",\"name\":\"ID BEV 32\",\"x\":[736.9413116123642,736.9413116123642,750.0,765.0,765.0],\"y\":[0.0,19.504,35.44799999999999,8.15,0.0],\"type\":\"scatter\"},{\"line\":{\"color\":\"green\"},\"mode\":\"lines\",\"name\":\"ID BEV 38\",\"x\":[735.3370927318296,735.3370927318296,750.0,765.0,765.0],\"y\":[0.0,19.604,44.07199999999999,16.3,0.0],\"type\":\"scatter\"},{\"line\":{\"color\":\"green\"},\"mode\":\"lines\",\"name\":\"ID BEV 21\",\"x\":[750.8466372912806,750.8466372912806,765.0,765.0],\"y\":[0.0,8.623999999999999,24.450000000000003,0.0],\"type\":\"scatter\"},{\"line\":{\"color\":\"green\"},\"mode\":\"lines\",\"name\":\"ID BEV 39\",\"x\":[750.0000000000001,750.0000000000001,765.0,776.6974986972383,776.6974986972383],\"y\":[0.0,17.723999999999997,32.126000000000005,7.409999999999999,0.0],\"type\":\"scatter\"},{\"line\":{\"color\":\"green\"},\"mode\":\"lines\",\"name\":\"ID BEV 46\",\"x\":[750.0,750.0,765.0,777.9090672225117,777.9090672225117],\"y\":[0.0,8.623999999999999,39.80200000000001,7.331999999999999,0.0],\"type\":\"scatter\"},{\"line\":{\"color\":\"green\"},\"mode\":\"lines\",\"name\":\"ID BEV 37\",\"x\":[771.4721946375372,771.4721946375372,780.0,780.0],\"y\":[0.0,9.595,7.2,0.0],\"type\":\"scatter\"},{\"line\":{\"color\":\"green\"},\"mode\":\"lines\",\"name\":\"ID BEV 43\",\"x\":[767.6341844710787,767.6341844710787,780.0,783.2285714285714,960.0,960.0],\"y\":[0.0,7.676,14.55,7.264,9.0,0.0],\"type\":\"scatter\"},{\"line\":{\"color\":\"green\"},\"mode\":\"lines\",\"name\":\"ID BEV 42\",\"x\":[765,765,780,780],\"y\":[0.0,7.676,21.75,0.0],\"type\":\"scatter\"},{\"line\":{\"color\":\"green\"},\"mode\":\"lines\",\"name\":\"ID BEV 53\",\"x\":[776.6974986972383,776.6974986972383,780.0,795.0,795.0],\"y\":[0.0,15.085999999999999,29.1,7.5,0.0],\"type\":\"scatter\"},{\"line\":{\"color\":\"green\"},\"mode\":\"lines\",\"name\":\"ID BEV 22\",\"x\":[777.9090672225117,777.9090672225117,780.0,795.0,810.0,810.0],\"y\":[0.0,15.008,36.45,15.15,7.8,0.0],\"type\":\"scatter\"},{\"line\":{\"color\":\"green\"},\"mode\":\"lines\",\"name\":\"ID BEV 35\",\"x\":[787.4694647670389,787.4694647670389,795.0,810.0,810.0],\"y\":[0.0,7.35,22.8,15.6,0.0],\"type\":\"scatter\"},{\"line\":{\"color\":\"green\"},\"mode\":\"lines\",\"name\":\"ID BEV 36\",\"x\":[794.2367346938776,794.2367346938776,795.0,810.0,813.0279245283019,960.0,960.0],\"y\":[0.0,7.35,30.450000000000003,25.5375,9.825,9.0,0.0],\"type\":\"scatter\"},{\"line\":{\"color\":\"green\"},\"mode\":\"lines\",\"name\":\"ID BEV 40\",\"x\":[783.2285714285714,783.2285714285714,795.0,810.0,814.9690566037735,814.9690566037735],\"y\":[0.0,14.614,38.1,35.475,9.875,0.0],\"type\":\"scatter\"},{\"line\":{\"color\":\"green\"},\"mode\":\"lines\",\"name\":\"ID BEV 8\",\"x\":[795,795,810,825,840,840],\"y\":[0.0,7.65,9.9375,8.25,8.4,0.0],\"type\":\"scatter\"},{\"line\":{\"color\":\"green\"},\"mode\":\"lines\",\"name\":\"ID BEV 29\",\"x\":[822.4981132075471,822.4981132075471,825.0,840.0,855.0,858.75,960.0,960.0],\"y\":[0.0,9.9375,16.5,18.15,8.25,8.625,9.0,0.0],\"type\":\"scatter\"},{\"line\":{\"color\":\"green\"},\"mode\":\"lines\",\"name\":\"ID BEV 58\",\"x\":[813.0279245283019,813.0279245283019,825.0,840.0,855.0,870.0,870.0],\"y\":[0.0,19.7625,24.75,27.9,16.5,7.5,0.0],\"type\":\"scatter\"},{\"line\":{\"color\":\"green\"},\"mode\":\"lines\",\"name\":\"ID BEV 45\",\"x\":[814.9690566037735,814.9690566037735,825.0,840.0,855.0,870.0,870.0],\"y\":[0.0,19.8125,33.0,37.65,24.75,15.0,0.0],\"type\":\"scatter\"},{\"line\":{\"color\":\"green\"},\"mode\":\"lines\",\"name\":\"ID BEV 16\",\"x\":[825,825,840,855,870,885,885],\"y\":[0.0,41.25,9.75,33.0,24.0,8.0,0.0],\"type\":\"scatter\"},{\"line\":{\"color\":\"green\"},\"mode\":\"lines\",\"name\":\"ID BEV 54\",\"x\":[858.75,858.75,870.0,870.1041666666666,870.1041666666666],\"y\":[0.0,16.875,33.0,9.986666666666666,0.0],\"type\":\"scatter\"},{\"line\":{\"color\":\"green\"},\"mode\":\"lines\",\"name\":\"ID BEV 18\",\"x\":[871.8166666666667,871.8166666666667,885.0,960.0,960.0],\"y\":[0.0,9.0,20.0,9.0,0.0],\"type\":\"scatter\"},{\"line\":{\"color\":\"green\"},\"mode\":\"lines\",\"name\":\"ID BEV 59\",\"x\":[870.1041666666666,870.1041666666666,885.0,900.0,900.0],\"y\":[0.0,18.986666666666665,10.5,9.0,0.0],\"type\":\"scatter\"},{\"line\":{\"color\":\"green\"},\"mode\":\"lines\",\"name\":\"ID BEV 63\",\"x\":[885.0,885.0,900.0,915.0,915.0],\"y\":[0.0,21.0,17.439999999999998,7.875,0.0],\"type\":\"scatter\"},{\"line\":{\"color\":\"green\"},\"mode\":\"lines\",\"name\":\"ID BEV 11\",\"x\":[914.8222748815166,914.8222748815166,915.0,915.0],\"y\":[0.0,8.44,15.75,0.0],\"type\":\"scatter\"},{\"line\":{\"color\":\"green\"},\"mode\":\"lines\",\"name\":\"ID BEV 3\",\"x\":[929.8768809849521,929.8768809849521,930.0,930.0],\"y\":[0.0,7.31,6.75,0.0],\"type\":\"scatter\"},{\"line\":{\"color\":\"green\"},\"mode\":\"lines\",\"name\":\"ID BEV 6\",\"x\":[924.9931600547195,924.9931600547195,930.0,939.232633279483,939.232633279483],\"y\":[0.0,7.31,12.940000000000001,6.06,0.0],\"type\":\"scatter\"},{\"line\":{\"color\":\"green\"},\"mode\":\"lines\",\"name\":\"ID BEV 1\",\"x\":[939.232633279483,939.232633279483,945.0,945.0],\"y\":[0.0,12.25,11.25,0.0],\"type\":\"scatter\"},{\"line\":{\"color\":\"green\"},\"mode\":\"lines\",\"name\":\"ID BEV 0\",\"x\":[950.7361660079051,950.7361660079051,950.7361660079051],\"y\":[0.0,10.12,0.0],\"type\":\"scatter\"}],                        {\"template\":{\"data\":{\"barpolar\":[{\"marker\":{\"line\":{\"color\":\"white\",\"width\":0.5},\"pattern\":{\"fillmode\":\"overlay\",\"size\":10,\"solidity\":0.2}},\"type\":\"barpolar\"}],\"bar\":[{\"error_x\":{\"color\":\"#2a3f5f\"},\"error_y\":{\"color\":\"#2a3f5f\"},\"marker\":{\"line\":{\"color\":\"white\",\"width\":0.5},\"pattern\":{\"fillmode\":\"overlay\",\"size\":10,\"solidity\":0.2}},\"type\":\"bar\"}],\"carpet\":[{\"aaxis\":{\"endlinecolor\":\"#2a3f5f\",\"gridcolor\":\"#C8D4E3\",\"linecolor\":\"#C8D4E3\",\"minorgridcolor\":\"#C8D4E3\",\"startlinecolor\":\"#2a3f5f\"},\"baxis\":{\"endlinecolor\":\"#2a3f5f\",\"gridcolor\":\"#C8D4E3\",\"linecolor\":\"#C8D4E3\",\"minorgridcolor\":\"#C8D4E3\",\"startlinecolor\":\"#2a3f5f\"},\"type\":\"carpet\"}],\"choropleth\":[{\"colorbar\":{\"outlinewidth\":0,\"ticks\":\"\"},\"type\":\"choropleth\"}],\"contourcarpet\":[{\"colorbar\":{\"outlinewidth\":0,\"ticks\":\"\"},\"type\":\"contourcarpet\"}],\"contour\":[{\"colorbar\":{\"outlinewidth\":0,\"ticks\":\"\"},\"colorscale\":[[0.0,\"#0d0887\"],[0.1111111111111111,\"#46039f\"],[0.2222222222222222,\"#7201a8\"],[0.3333333333333333,\"#9c179e\"],[0.4444444444444444,\"#bd3786\"],[0.5555555555555556,\"#d8576b\"],[0.6666666666666666,\"#ed7953\"],[0.7777777777777778,\"#fb9f3a\"],[0.8888888888888888,\"#fdca26\"],[1.0,\"#f0f921\"]],\"type\":\"contour\"}],\"heatmapgl\":[{\"colorbar\":{\"outlinewidth\":0,\"ticks\":\"\"},\"colorscale\":[[0.0,\"#0d0887\"],[0.1111111111111111,\"#46039f\"],[0.2222222222222222,\"#7201a8\"],[0.3333333333333333,\"#9c179e\"],[0.4444444444444444,\"#bd3786\"],[0.5555555555555556,\"#d8576b\"],[0.6666666666666666,\"#ed7953\"],[0.7777777777777778,\"#fb9f3a\"],[0.8888888888888888,\"#fdca26\"],[1.0,\"#f0f921\"]],\"type\":\"heatmapgl\"}],\"heatmap\":[{\"colorbar\":{\"outlinewidth\":0,\"ticks\":\"\"},\"colorscale\":[[0.0,\"#0d0887\"],[0.1111111111111111,\"#46039f\"],[0.2222222222222222,\"#7201a8\"],[0.3333333333333333,\"#9c179e\"],[0.4444444444444444,\"#bd3786\"],[0.5555555555555556,\"#d8576b\"],[0.6666666666666666,\"#ed7953\"],[0.7777777777777778,\"#fb9f3a\"],[0.8888888888888888,\"#fdca26\"],[1.0,\"#f0f921\"]],\"type\":\"heatmap\"}],\"histogram2dcontour\":[{\"colorbar\":{\"outlinewidth\":0,\"ticks\":\"\"},\"colorscale\":[[0.0,\"#0d0887\"],[0.1111111111111111,\"#46039f\"],[0.2222222222222222,\"#7201a8\"],[0.3333333333333333,\"#9c179e\"],[0.4444444444444444,\"#bd3786\"],[0.5555555555555556,\"#d8576b\"],[0.6666666666666666,\"#ed7953\"],[0.7777777777777778,\"#fb9f3a\"],[0.8888888888888888,\"#fdca26\"],[1.0,\"#f0f921\"]],\"type\":\"histogram2dcontour\"}],\"histogram2d\":[{\"colorbar\":{\"outlinewidth\":0,\"ticks\":\"\"},\"colorscale\":[[0.0,\"#0d0887\"],[0.1111111111111111,\"#46039f\"],[0.2222222222222222,\"#7201a8\"],[0.3333333333333333,\"#9c179e\"],[0.4444444444444444,\"#bd3786\"],[0.5555555555555556,\"#d8576b\"],[0.6666666666666666,\"#ed7953\"],[0.7777777777777778,\"#fb9f3a\"],[0.8888888888888888,\"#fdca26\"],[1.0,\"#f0f921\"]],\"type\":\"histogram2d\"}],\"histogram\":[{\"marker\":{\"pattern\":{\"fillmode\":\"overlay\",\"size\":10,\"solidity\":0.2}},\"type\":\"histogram\"}],\"mesh3d\":[{\"colorbar\":{\"outlinewidth\":0,\"ticks\":\"\"},\"type\":\"mesh3d\"}],\"parcoords\":[{\"line\":{\"colorbar\":{\"outlinewidth\":0,\"ticks\":\"\"}},\"type\":\"parcoords\"}],\"pie\":[{\"automargin\":true,\"type\":\"pie\"}],\"scatter3d\":[{\"line\":{\"colorbar\":{\"outlinewidth\":0,\"ticks\":\"\"}},\"marker\":{\"colorbar\":{\"outlinewidth\":0,\"ticks\":\"\"}},\"type\":\"scatter3d\"}],\"scattercarpet\":[{\"marker\":{\"colorbar\":{\"outlinewidth\":0,\"ticks\":\"\"}},\"type\":\"scattercarpet\"}],\"scattergeo\":[{\"marker\":{\"colorbar\":{\"outlinewidth\":0,\"ticks\":\"\"}},\"type\":\"scattergeo\"}],\"scattergl\":[{\"marker\":{\"colorbar\":{\"outlinewidth\":0,\"ticks\":\"\"}},\"type\":\"scattergl\"}],\"scattermapbox\":[{\"marker\":{\"colorbar\":{\"outlinewidth\":0,\"ticks\":\"\"}},\"type\":\"scattermapbox\"}],\"scatterpolargl\":[{\"marker\":{\"colorbar\":{\"outlinewidth\":0,\"ticks\":\"\"}},\"type\":\"scatterpolargl\"}],\"scatterpolar\":[{\"marker\":{\"colorbar\":{\"outlinewidth\":0,\"ticks\":\"\"}},\"type\":\"scatterpolar\"}],\"scatter\":[{\"marker\":{\"colorbar\":{\"outlinewidth\":0,\"ticks\":\"\"}},\"type\":\"scatter\"}],\"scatterternary\":[{\"marker\":{\"colorbar\":{\"outlinewidth\":0,\"ticks\":\"\"}},\"type\":\"scatterternary\"}],\"surface\":[{\"colorbar\":{\"outlinewidth\":0,\"ticks\":\"\"},\"colorscale\":[[0.0,\"#0d0887\"],[0.1111111111111111,\"#46039f\"],[0.2222222222222222,\"#7201a8\"],[0.3333333333333333,\"#9c179e\"],[0.4444444444444444,\"#bd3786\"],[0.5555555555555556,\"#d8576b\"],[0.6666666666666666,\"#ed7953\"],[0.7777777777777778,\"#fb9f3a\"],[0.8888888888888888,\"#fdca26\"],[1.0,\"#f0f921\"]],\"type\":\"surface\"}],\"table\":[{\"cells\":{\"fill\":{\"color\":\"#EBF0F8\"},\"line\":{\"color\":\"white\"}},\"header\":{\"fill\":{\"color\":\"#C8D4E3\"},\"line\":{\"color\":\"white\"}},\"type\":\"table\"}]},\"layout\":{\"annotationdefaults\":{\"arrowcolor\":\"#2a3f5f\",\"arrowhead\":0,\"arrowwidth\":1},\"autotypenumbers\":\"strict\",\"coloraxis\":{\"colorbar\":{\"outlinewidth\":0,\"ticks\":\"\"}},\"colorscale\":{\"diverging\":[[0,\"#8e0152\"],[0.1,\"#c51b7d\"],[0.2,\"#de77ae\"],[0.3,\"#f1b6da\"],[0.4,\"#fde0ef\"],[0.5,\"#f7f7f7\"],[0.6,\"#e6f5d0\"],[0.7,\"#b8e186\"],[0.8,\"#7fbc41\"],[0.9,\"#4d9221\"],[1,\"#276419\"]],\"sequential\":[[0.0,\"#0d0887\"],[0.1111111111111111,\"#46039f\"],[0.2222222222222222,\"#7201a8\"],[0.3333333333333333,\"#9c179e\"],[0.4444444444444444,\"#bd3786\"],[0.5555555555555556,\"#d8576b\"],[0.6666666666666666,\"#ed7953\"],[0.7777777777777778,\"#fb9f3a\"],[0.8888888888888888,\"#fdca26\"],[1.0,\"#f0f921\"]],\"sequentialminus\":[[0.0,\"#0d0887\"],[0.1111111111111111,\"#46039f\"],[0.2222222222222222,\"#7201a8\"],[0.3333333333333333,\"#9c179e\"],[0.4444444444444444,\"#bd3786\"],[0.5555555555555556,\"#d8576b\"],[0.6666666666666666,\"#ed7953\"],[0.7777777777777778,\"#fb9f3a\"],[0.8888888888888888,\"#fdca26\"],[1.0,\"#f0f921\"]]},\"colorway\":[\"#636efa\",\"#EF553B\",\"#00cc96\",\"#ab63fa\",\"#FFA15A\",\"#19d3f3\",\"#FF6692\",\"#B6E880\",\"#FF97FF\",\"#FECB52\"],\"font\":{\"color\":\"#2a3f5f\"},\"geo\":{\"bgcolor\":\"white\",\"lakecolor\":\"white\",\"landcolor\":\"white\",\"showlakes\":true,\"showland\":true,\"subunitcolor\":\"#C8D4E3\"},\"hoverlabel\":{\"align\":\"left\"},\"hovermode\":\"closest\",\"mapbox\":{\"style\":\"light\"},\"paper_bgcolor\":\"white\",\"plot_bgcolor\":\"white\",\"polar\":{\"angularaxis\":{\"gridcolor\":\"#EBF0F8\",\"linecolor\":\"#EBF0F8\",\"ticks\":\"\"},\"bgcolor\":\"white\",\"radialaxis\":{\"gridcolor\":\"#EBF0F8\",\"linecolor\":\"#EBF0F8\",\"ticks\":\"\"}},\"scene\":{\"xaxis\":{\"backgroundcolor\":\"white\",\"gridcolor\":\"#DFE8F3\",\"gridwidth\":2,\"linecolor\":\"#EBF0F8\",\"showbackground\":true,\"ticks\":\"\",\"zerolinecolor\":\"#EBF0F8\"},\"yaxis\":{\"backgroundcolor\":\"white\",\"gridcolor\":\"#DFE8F3\",\"gridwidth\":2,\"linecolor\":\"#EBF0F8\",\"showbackground\":true,\"ticks\":\"\",\"zerolinecolor\":\"#EBF0F8\"},\"zaxis\":{\"backgroundcolor\":\"white\",\"gridcolor\":\"#DFE8F3\",\"gridwidth\":2,\"linecolor\":\"#EBF0F8\",\"showbackground\":true,\"ticks\":\"\",\"zerolinecolor\":\"#EBF0F8\"}},\"shapedefaults\":{\"line\":{\"color\":\"#2a3f5f\"}},\"ternary\":{\"aaxis\":{\"gridcolor\":\"#DFE8F3\",\"linecolor\":\"#A2B1C6\",\"ticks\":\"\"},\"baxis\":{\"gridcolor\":\"#DFE8F3\",\"linecolor\":\"#A2B1C6\",\"ticks\":\"\"},\"bgcolor\":\"white\",\"caxis\":{\"gridcolor\":\"#DFE8F3\",\"linecolor\":\"#A2B1C6\",\"ticks\":\"\"}},\"title\":{\"x\":0.05},\"xaxis\":{\"automargin\":true,\"gridcolor\":\"#EBF0F8\",\"linecolor\":\"#EBF0F8\",\"ticks\":\"\",\"title\":{\"standoff\":15},\"zerolinecolor\":\"#EBF0F8\",\"zerolinewidth\":2},\"yaxis\":{\"automargin\":true,\"gridcolor\":\"#EBF0F8\",\"linecolor\":\"#EBF0F8\",\"ticks\":\"\",\"title\":{\"standoff\":15},\"zerolinecolor\":\"#EBF0F8\",\"zerolinewidth\":2}}},\"xaxis\":{\"range\":[480,960],\"showgrid\":true,\"title\":{\"text\":\"Minuten\"}},\"yaxis\":{\"range\":[0,60],\"title\":{\"text\":\"Energie in kW\"}},\"title\":{\"font\":{\"size\":24},\"text\":\"Ladeleistung pro Ladezeitraum eines BEVs\",\"x\":0.5,\"xanchor\":\"center\"}},                        {\"responsive\": true}                    ).then(function(){\n",
       "                            \n",
       "var gd = document.getElementById('1e214e67-3165-440c-9f8b-bf6a6a2add60');\n",
       "var x = new MutationObserver(function (mutations, observer) {{\n",
       "        var display = window.getComputedStyle(gd).display;\n",
       "        if (!display || display === 'none') {{\n",
       "            console.log([gd, 'removed!']);\n",
       "            Plotly.purge(gd);\n",
       "            observer.disconnect();\n",
       "        }}\n",
       "}});\n",
       "\n",
       "// Listen for the removal of the full notebook cells\n",
       "var notebookContainer = gd.closest('#notebook-container');\n",
       "if (notebookContainer) {{\n",
       "    x.observe(notebookContainer, {childList: true});\n",
       "}}\n",
       "\n",
       "// Listen for the clearing of the current output cell\n",
       "var outputEl = gd.closest('.output');\n",
       "if (outputEl) {{\n",
       "    x.observe(outputEl, {childList: true});\n",
       "}}\n",
       "\n",
       "                        })                };                });            </script>        </div>"
      ]
     },
     "metadata": {},
     "output_type": "display_data"
    }
   ],
   "source": [
    "figureGeneration.create_charging_power_figure(simulation_day, solarpeakleistung, bev_data, minute_interval)"
   ]
  }
 ],
 "metadata": {
  "kernelspec": {
   "display_name": "Python 3 (ipykernel)",
   "language": "python",
   "name": "python3"
  },
  "language_info": {
   "codemirror_mode": {
    "name": "ipython",
    "version": 3
   },
   "file_extension": ".py",
   "mimetype": "text/x-python",
   "name": "python",
   "nbconvert_exporter": "python",
   "pygments_lexer": "ipython3",
   "version": "3.9.5"
  }
 },
 "nbformat": 4,
 "nbformat_minor": 4
}