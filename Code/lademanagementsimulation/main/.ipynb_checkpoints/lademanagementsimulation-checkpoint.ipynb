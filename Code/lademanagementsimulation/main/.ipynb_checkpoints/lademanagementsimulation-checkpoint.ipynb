{
 "cells": [
  {
   "cell_type": "markdown",
   "metadata": {
    "pycharm": {
     "name": "#%% md\n"
    }
   },
   "source": [
    "# Lademanagementsimulation   \n"
   ]
  },
  {
   "cell_type": "markdown",
   "metadata": {},
   "source": [
    "### Simulations Parameter"
   ]
  },
  {
   "cell_type": "code",
   "execution_count": 1,
   "metadata": {
    "pycharm": {
     "name": "#%%\n"
    }
   },
   "outputs": [],
   "source": [
    "solarpeakleistung = 125 #Einheit Kilowattpeak (kWP)\n",
    "anzahl_bevs_pro_tag = 50\n",
    "ladeleistung_pro_bev = 11 #Einheit kW\n",
    "maximale_ladezeit = 30 #Einheit Minuten\n",
    "minute_interval = 1 #Einheit Minuten"
   ]
  },
  {
   "cell_type": "markdown",
   "metadata": {},
   "source": [
    "### Simulations Eingangsdaten"
   ]
  },
  {
   "cell_type": "code",
   "execution_count": 2,
   "metadata": {
    "pycharm": {
     "name": "#%%\n"
    }
   },
   "outputs": [
    {
     "data": {
      "text/html": [
       "\n",
       "        <iframe\n",
       "            width=\"100%\"\n",
       "            height=\"650\"\n",
       "            src=\"http://127.0.0.1:8050/\"\n",
       "            frameborder=\"0\"\n",
       "            allowfullscreen\n",
       "            \n",
       "        ></iframe>\n",
       "        "
      ],
      "text/plain": [
       "<IPython.lib.display.IFrame at 0x2449f1fb370>"
      ]
     },
     "metadata": {},
     "output_type": "display_data"
    }
   ],
   "source": [
    "import simulationInputDataVisualisation\n",
    "simulationInputDataVisualisation.create_jupyter_dash_app(solarpeakleistung)"
   ]
  },
  {
   "cell_type": "markdown",
   "metadata": {},
   "source": [
    "### Verteilungsalgorithmus"
   ]
  },
  {
   "cell_type": "code",
   "execution_count": 3,
   "metadata": {},
   "outputs": [
    {
     "name": "stdout",
     "output_type": "stream",
     "text": [
      "Start: BEVs_dict {0: [(9.0, 5.9), 'nicht parkend', [], []], 1: [(8.5, 3.3), 'nicht parkend', [], []], 2: [(13.0, 6.0), 'wartend', [], []], 3: [(13.0, 7.1), 'wartend', [], []], 4: [(12.0, 4.0), 'nicht parkend', [], []], 5: [(8.0, 4.5), 'nicht parkend', [], []], 6: [(13.0, 3.9), 'wartend', [], []], 7: [(8.5, 6.5), 'nicht parkend', [], []], 8: [(13.5, 3.2), 'wartend', [], []], 9: [(9.0, 5.3), 'nicht parkend', [], []], 10: [(8.0, 5.8), 'nicht parkend', [], []], 11: [(8.0, 7.7), 'nicht parkend', [], []], 12: [(8.0, 7.0), 'nicht parkend', [], []], 13: [(8.0, 4.3), 'nicht parkend', [], []], 14: [(9.0, 6.4), 'nicht parkend', [], []], 15: [(8.0, 5.5), 'nicht parkend', [], []], 16: [(8.5, 4.5), 'nicht parkend', [], []], 17: [(9.0, 4.6), 'nicht parkend', [], []], 18: [(8.0, 5.8), 'nicht parkend', [], []], 19: [(8.5, 5.4), 'nicht parkend', [], []], 20: [(8.0, 7.5), 'nicht parkend', [], []], 21: [(8.0, 3.8), 'nicht parkend', [], []], 22: [(8.0, 7.6), 'nicht parkend', [], []], 23: [(8.0, 7.3), 'nicht parkend', [], []], 24: [(13.0, 7.9), 'wartend', [], []], 25: [(8.0, 5.9), 'nicht parkend', [], []], 26: [(8.5, 6.2), 'nicht parkend', [], []], 27: [(9.0, 7.4), 'wartend', [], []], 28: [(13.0, 5.3), 'wartend', [], []], 29: [(8.5, 5.9), 'nicht parkend', [], []], 30: [(8.0, 7.7), 'nicht parkend', [], []], 31: [(8.5, 4.5), 'nicht parkend', [], []], 32: [(13.0, 4.0), 'wartend', [], []], 33: [(13.0, 7.9), 'wartend', [], []], 34: [(9.0, 5.0), 'nicht parkend', [], []], 35: [(8.0, 6.3), 'nicht parkend', [], []], 36: [(8.0, 5.4), 'nicht parkend', [], []], 37: [(13.5, 4.8), 'wartend', [], []], 38: [(8.0, 6.3), 'nicht parkend', [], []], 39: [(8.5, 4.5), 'nicht parkend', [], []], 40: [(8.5, 7.7), 'wartend', [], []], 41: [(9.5, 4.1), 'nicht parkend', [], []], 42: [(8.5, 7.4), 'nicht parkend', [], []], 43: [(8.0, 3.9), 'nicht parkend', [], []], 44: [(8.5, 7.5), 'nicht parkend', [], []], 45: [(12.0, 3.2), 'nicht parkend', [], []], 46: [(9.0, 6.4), 'nicht parkend', [], []], 47: [(8.5, 7.0), 'nicht parkend', [], []], 48: [(13.5, 7.7), 'wartend', [], []], 49: [(9.0, 7.3), 'wartend', [], []]}\n"
     ]
    }
   ],
   "source": [
    "import distributionAlgorithmPolling\n",
    "import simulationClasses\n",
    "import simulationData\n",
    "import simulationOutputDataVisualisation\n",
    "import distributionAlgorithmForecast\n",
    "\n",
    "simulation_day = simulationClasses.SimulationDay(anzahl_bevs_pro_tag)\n",
    "bev_data = simulationData.BevData()\n",
    "table_dict = simulationData.TableDict()\n",
    "simulation_data = simulationData.SimulationData()\n",
    "\n",
    "# Auswahl des Algorithmus\n",
    "algorithm = distributionAlgorithmPolling.Algorithm.POLLING_FIFO\n",
    "# algorithm = distributionAlgorithmPolling.Algorithm.POLLING_EVEN_DISTRIBUTION\n",
    "# distributionAlgorithmPolling.start_simulation(solarpeakleistung, maximale_ladezeit, ladeleistung_pro_bev, simulation_day, bev_data, table_dict, simulation_data, algorithm, minute_interval)\n",
    "\n",
    "distributionAlgorithmForecast.start_algorithm(simulation_data, simulation_day, maximale_ladezeit, solarpeakleistung, \n",
    "                    bev_data, table_dict, ladeleistung_pro_bev, minute_interval)"
   ]
  },
  {
   "cell_type": "markdown",
   "metadata": {},
   "source": [
    "### Ergebnis Algorithmus"
   ]
  },
  {
   "cell_type": "code",
   "execution_count": 4,
   "metadata": {},
   "outputs": [
    {
     "data": {
      "text/markdown": [
       ">**Ergebnis**<br>Geladene BEVs: 50 von 50<br>Unterbrochene Aufladevorgänge 0<br>Aufgeladene Solarenergie insgesamt: 262.78 kWh<br>Ungenutzte Solarenergie insgesamt: 0 kWh"
      ],
      "text/plain": [
       "<IPython.core.display.Markdown object>"
      ]
     },
     "execution_count": 4,
     "metadata": {},
     "output_type": "execute_result"
    }
   ],
   "source": [
    "simulationOutputDataVisualisation.print_algorithm_result(bev_data, simulation_data, anzahl_bevs_pro_tag)"
   ]
  },
  {
   "cell_type": "markdown",
   "metadata": {},
   "source": [
    "### Tabellarische Übersicht Park- und Ladeverlauf der BEVs"
   ]
  },
  {
   "cell_type": "code",
   "execution_count": 5,
   "metadata": {
    "pycharm": {
     "is_executing": true
    }
   },
   "outputs": [
    {
     "data": {
      "application/vnd.jupyter.widget-view+json": {
       "model_id": "36309773db194e8c8811d87eae499c16",
       "version_major": 2,
       "version_minor": 0
      },
      "text/plain": [
       "interactive(children=(IntSlider(value=480, description='Minute: ', max=960, min=480), Output()), _dom_classes=…"
      ]
     },
     "metadata": {},
     "output_type": "display_data"
    }
   ],
   "source": [
    "simulationOutputDataVisualisation.create_tabular_overview_per_minute_slider(table_dict, minute_interval)"
   ]
  },
  {
   "cell_type": "code",
   "execution_count": 6,
   "metadata": {},
   "outputs": [
    {
     "data": {
      "application/vnd.plotly.v1+json": {
       "config": {
        "plotlyServerURL": "https://plot.ly"
       },
       "data": [
        {
         "mode": "text",
         "text": "1",
         "type": "scatter",
         "x": [
          512
         ],
         "y": [
          0.5
         ]
        },
        {
         "mode": "text",
         "text": "5",
         "type": "scatter",
         "x": [
          525
         ],
         "y": [
          5.187333333333333
         ]
        },
        {
         "mode": "text",
         "text": "0",
         "type": "scatter",
         "x": [
          542
         ],
         "y": [
          12.192333333333334
         ]
        },
        {
         "mode": "text",
         "text": "7",
         "type": "scatter",
         "x": [
          548
         ],
         "y": [
          19.473666666666666
         ]
        },
        {
         "mode": "text",
         "text": "9",
         "type": "scatter",
         "x": [
          558
         ],
         "y": [
          25.878666666666668
         ]
        },
        {
         "mode": "text",
         "text": "10",
         "type": "scatter",
         "x": [
          567
         ],
         "y": [
          31.922833333333333
         ]
        },
        {
         "mode": "text",
         "text": "11",
         "type": "scatter",
         "x": [
          584
         ],
         "y": [
          39.64333333333333
         ]
        },
        {
         "mode": "text",
         "text": "12",
         "type": "scatter",
         "x": [
          585
         ],
         "y": [
          46.96733333333333
         ]
        },
        {
         "mode": "text",
         "text": "13",
         "type": "scatter",
         "x": [
          593
         ],
         "y": [
          51.38699999999999
         ]
        },
        {
         "mode": "text",
         "text": "14",
         "type": "scatter",
         "x": [
          596
         ],
         "y": [
          58.70233333333333
         ]
        },
        {
         "mode": "text",
         "text": "15",
         "type": "scatter",
         "x": [
          603
         ],
         "y": [
          64.42733333333334
         ]
        },
        {
         "mode": "text",
         "text": "16",
         "type": "scatter",
         "x": [
          617
         ],
         "y": [
          69.63916666666665
         ]
        },
        {
         "mode": "text",
         "text": "17",
         "type": "scatter",
         "x": [
          627
         ],
         "y": [
          75.21633333333332
         ]
        },
        {
         "mode": "text",
         "text": "18",
         "type": "scatter",
         "x": [
          628
         ],
         "y": [
          81.2605
         ]
        },
        {
         "mode": "text",
         "text": "19",
         "type": "scatter",
         "x": [
          634
         ],
         "y": [
          87.38
         ]
        },
        {
         "mode": "text",
         "text": "20",
         "type": "scatter",
         "x": [
          637
         ],
         "y": [
          94.99533333333332
         ]
        },
        {
         "mode": "text",
         "text": "21",
         "type": "scatter",
         "x": [
          646
         ],
         "y": [
          98.67066666666665
         ]
        },
        {
         "mode": "text",
         "text": "22",
         "type": "scatter",
         "x": [
          658
         ],
         "y": [
          106.33899999999998
         ]
        },
        {
         "mode": "text",
         "text": "23",
         "type": "scatter",
         "x": [
          662
         ],
         "y": [
          113.84916666666665
         ]
        },
        {
         "mode": "text",
         "text": "25",
         "type": "scatter",
         "x": [
          667
         ],
         "y": [
          120.01133333333331
         ]
        },
        {
         "mode": "text",
         "text": "26",
         "type": "scatter",
         "x": [
          669
         ],
         "y": [
          127.05683333333332
         ]
        },
        {
         "mode": "text",
         "text": "29",
         "type": "scatter",
         "x": [
          681
         ],
         "y": [
          133.78799999999998
         ]
        },
        {
         "mode": "text",
         "text": "31",
         "type": "scatter",
         "x": [
          699
         ],
         "y": [
          138.9998333333333
         ]
        },
        {
         "mode": "text",
         "text": "34",
         "type": "scatter",
         "x": [
          701
         ],
         "y": [
          145.03899999999996
         ]
        },
        {
         "mode": "text",
         "text": "35",
         "type": "scatter",
         "x": [
          701
         ],
         "y": [
          151.69149999999996
         ]
        },
        {
         "mode": "text",
         "text": "36",
         "type": "scatter",
         "x": [
          705
         ],
         "y": [
          157.31599999999997
         ]
        },
        {
         "mode": "text",
         "text": "43",
         "type": "scatter",
         "x": [
          709
         ],
         "y": [
          161.1463333333333
         ]
        },
        {
         "mode": "text",
         "text": "4",
         "type": "scatter",
         "x": [
          722
         ],
         "y": [
          165.04849999999996
         ]
        },
        {
         "mode": "text",
         "text": "38",
         "type": "scatter",
         "x": [
          730
         ],
         "y": [
          171.70099999999996
         ]
        },
        {
         "mode": "text",
         "text": "39",
         "type": "scatter",
         "x": [
          736
         ],
         "y": [
          176.9128333333333
         ]
        },
        {
         "mode": "text",
         "text": "41",
         "type": "scatter",
         "x": [
          737
         ],
         "y": [
          182.10449999999997
         ]
        },
        {
         "mode": "text",
         "text": "45",
         "type": "scatter",
         "x": [
          740
         ],
         "y": [
          185.56949999999998
         ]
        },
        {
         "mode": "text",
         "text": "24",
         "type": "scatter",
         "x": [
          782
         ],
         "y": [
          0.5
         ]
        },
        {
         "mode": "text",
         "text": "2",
         "type": "scatter",
         "x": [
          782
         ],
         "y": [
          3.1363333333333343
         ]
        },
        {
         "mode": "text",
         "text": "3",
         "type": "scatter",
         "x": [
          782
         ],
         "y": [
          5.772666666666669
         ]
        },
        {
         "mode": "text",
         "text": "6",
         "type": "scatter",
         "x": [
          782
         ],
         "y": [
          8.409000000000002
         ]
        },
        {
         "mode": "text",
         "text": "27",
         "type": "scatter",
         "x": [
          798
         ],
         "y": [
          16.05233333333333
         ]
        },
        {
         "mode": "text",
         "text": "28",
         "type": "scatter",
         "x": [
          798
         ],
         "y": [
          18.688666666666663
         ]
        },
        {
         "mode": "text",
         "text": "30",
         "type": "scatter",
         "x": [
          798
         ],
         "y": [
          26.40916666666666
         ]
        },
        {
         "mode": "text",
         "text": "8",
         "type": "scatter",
         "x": [
          812
         ],
         "y": [
          28.574999999999992
         ]
        },
        {
         "mode": "text",
         "text": "32",
         "type": "scatter",
         "x": [
          813
         ],
         "y": [
          31.211333333333325
         ]
        },
        {
         "mode": "text",
         "text": "33",
         "type": "scatter",
         "x": [
          823
         ],
         "y": [
          33.84766666666666
         ]
        },
        {
         "mode": "text",
         "text": "37",
         "type": "scatter",
         "x": [
          827
         ],
         "y": [
          36.01349999999999
         ]
        },
        {
         "mode": "text",
         "text": "40",
         "type": "scatter",
         "x": [
          836
         ],
         "y": [
          43.86166666666665
         ]
        },
        {
         "mode": "text",
         "text": "42",
         "type": "scatter",
         "x": [
          838
         ],
         "y": [
          51.650666666666645
         ]
        },
        {
         "mode": "text",
         "text": "49",
         "type": "scatter",
         "x": [
          842
         ],
         "y": [
          59.29399999999997
         ]
        },
        {
         "mode": "text",
         "text": "44",
         "type": "scatter",
         "x": [
          842
         ],
         "y": [
          67.14216666666663
         ]
        },
        {
         "mode": "text",
         "text": "46",
         "type": "scatter",
         "x": [
          883
         ],
         "y": [
          74.45749999999995
         ]
        },
        {
         "mode": "text",
         "text": "47",
         "type": "scatter",
         "x": [
          885
         ],
         "y": [
          82.03016666666662
         ]
        },
        {
         "mode": "text",
         "text": "48",
         "type": "scatter",
         "x": [
          931
         ],
         "y": [
          84.19599999999996
         ]
        }
       ],
       "layout": {
        "shapes": [
         {
          "line": {
           "color": "green"
          },
          "type": "rect",
          "x0": 510,
          "x1": 537,
          "xref": "x",
          "y0": 0,
          "y1": 3.6326666666666645,
          "yref": "y"
         },
         {
          "line": {
           "color": "green"
          },
          "type": "rect",
          "x0": 523,
          "x1": 556,
          "xref": "x",
          "y0": 4.687333333333333,
          "y1": 9.374666666666666,
          "yref": "y"
         },
         {
          "line": {
           "color": "green"
          },
          "type": "rect",
          "x0": 540,
          "x1": 583,
          "xref": "x",
          "y0": 11.692333333333334,
          "y1": 18.697333333333333,
          "yref": "y"
         },
         {
          "line": {
           "color": "green"
          },
          "type": "rect",
          "x0": 546,
          "x1": 591,
          "xref": "x",
          "y0": 18.973666666666666,
          "y1": 26.255,
          "yref": "y"
         },
         {
          "line": {
           "color": "green"
          },
          "type": "rect",
          "x0": 556,
          "x1": 594,
          "xref": "x",
          "y0": 25.378666666666668,
          "y1": 31.78366666666667,
          "yref": "y"
         },
         {
          "line": {
           "color": "green"
          },
          "type": "rect",
          "x0": 565,
          "x1": 601,
          "xref": "x",
          "y0": 31.422833333333333,
          "y1": 37.467,
          "yref": "y"
         },
         {
          "line": {
           "color": "green"
          },
          "type": "rect",
          "x0": 582,
          "x1": 626,
          "xref": "x",
          "y0": 39.14333333333333,
          "y1": 46.86383333333333,
          "yref": "y"
         },
         {
          "line": {
           "color": "green"
          },
          "type": "rect",
          "x0": 583,
          "x1": 625,
          "xref": "x",
          "y0": 46.46733333333333,
          "y1": 53.79133333333333,
          "yref": "y"
         },
         {
          "line": {
           "color": "green"
          },
          "type": "rect",
          "x0": 591,
          "x1": 615,
          "xref": "x",
          "y0": 50.88699999999999,
          "y1": 55.30666666666666,
          "yref": "y"
         },
         {
          "line": {
           "color": "green"
          },
          "type": "rect",
          "x0": 594,
          "x1": 635,
          "xref": "x",
          "y0": 58.20233333333333,
          "y1": 65.51766666666666,
          "yref": "y"
         },
         {
          "line": {
           "color": "green"
          },
          "type": "rect",
          "x0": 601,
          "x1": 632,
          "xref": "x",
          "y0": 63.92733333333333,
          "y1": 69.65233333333333,
          "yref": "y"
         },
         {
          "line": {
           "color": "green"
          },
          "type": "rect",
          "x0": 615,
          "x1": 644,
          "xref": "x",
          "y0": 69.13916666666665,
          "y1": 74.35099999999998,
          "yref": "y"
         },
         {
          "line": {
           "color": "green"
          },
          "type": "rect",
          "x0": 625,
          "x1": 656,
          "xref": "x",
          "y0": 74.71633333333332,
          "y1": 80.2935,
          "yref": "y"
         },
         {
          "line": {
           "color": "green"
          },
          "type": "rect",
          "x0": 626,
          "x1": 660,
          "xref": "x",
          "y0": 80.7605,
          "y1": 86.80466666666666,
          "yref": "y"
         },
         {
          "line": {
           "color": "green"
          },
          "type": "rect",
          "x0": 632,
          "x1": 667,
          "xref": "x",
          "y0": 86.88,
          "y1": 92.9995,
          "yref": "y"
         },
         {
          "line": {
           "color": "green"
          },
          "type": "rect",
          "x0": 635,
          "x1": 679,
          "xref": "x",
          "y0": 94.49533333333332,
          "y1": 102.11066666666665,
          "yref": "y"
         },
         {
          "line": {
           "color": "green"
          },
          "type": "rect",
          "x0": 644,
          "x1": 665,
          "xref": "x",
          "y0": 98.17066666666665,
          "y1": 101.84599999999998,
          "yref": "y"
         },
         {
          "line": {
           "color": "green"
          },
          "type": "rect",
          "x0": 656,
          "x1": 699,
          "xref": "x",
          "y0": 105.83899999999998,
          "y1": 113.50733333333332,
          "yref": "y"
         },
         {
          "line": {
           "color": "green"
          },
          "type": "rect",
          "x0": 660,
          "x1": 703,
          "xref": "x",
          "y0": 113.34916666666665,
          "y1": 120.85933333333331,
          "yref": "y"
         },
         {
          "line": {
           "color": "green"
          },
          "type": "rect",
          "x0": 665,
          "x1": 699,
          "xref": "x",
          "y0": 119.51133333333331,
          "y1": 125.67349999999998,
          "yref": "y"
         },
         {
          "line": {
           "color": "green"
          },
          "type": "rect",
          "x0": 667,
          "x1": 707,
          "xref": "x",
          "y0": 126.55683333333332,
          "y1": 133.60233333333332,
          "yref": "y"
         },
         {
          "line": {
           "color": "green"
          },
          "type": "rect",
          "x0": 679,
          "x1": 718,
          "xref": "x",
          "y0": 133.28799999999998,
          "y1": 140.01916666666665,
          "yref": "y"
         },
         {
          "line": {
           "color": "green"
          },
          "type": "rect",
          "x0": 697,
          "x1": 728,
          "xref": "x",
          "y0": 138.4998333333333,
          "y1": 143.71166666666664,
          "yref": "y"
         },
         {
          "line": {
           "color": "green"
          },
          "type": "rect",
          "x0": 699,
          "x1": 734,
          "xref": "x",
          "y0": 144.53899999999996,
          "y1": 150.57816666666662,
          "yref": "y"
         },
         {
          "line": {
           "color": "green"
          },
          "type": "rect",
          "x0": 699,
          "x1": 738,
          "xref": "x",
          "y0": 151.19149999999996,
          "y1": 157.84399999999997,
          "yref": "y"
         },
         {
          "line": {
           "color": "green"
          },
          "type": "rect",
          "x0": 703,
          "x1": 735,
          "xref": "x",
          "y0": 156.81599999999997,
          "y1": 162.4405,
          "yref": "y"
         },
         {
          "line": {
           "color": "green"
          },
          "type": "rect",
          "x0": 707,
          "x1": 713,
          "xref": "x",
          "y0": 160.6463333333333,
          "y1": 164.47666666666663,
          "yref": "y"
         },
         {
          "line": {
           "color": "green"
          },
          "type": "rect",
          "x0": 720,
          "x1": 741,
          "xref": "x",
          "y0": 164.54849999999996,
          "y1": 168.45066666666662,
          "yref": "y"
         },
         {
          "line": {
           "color": "green"
          },
          "type": "rect",
          "x0": 728,
          "x1": 766,
          "xref": "x",
          "y0": 171.20099999999996,
          "y1": 177.85349999999997,
          "yref": "y"
         },
         {
          "line": {
           "color": "green"
          },
          "type": "rect",
          "x0": 734,
          "x1": 764,
          "xref": "x",
          "y0": 176.4128333333333,
          "y1": 181.62466666666666,
          "yref": "y"
         },
         {
          "line": {
           "color": "green"
          },
          "type": "rect",
          "x0": 735,
          "x1": 765,
          "xref": "x",
          "y0": 181.60449999999997,
          "y1": 186.79616666666664,
          "yref": "y"
         },
         {
          "line": {
           "color": "green"
          },
          "type": "rect",
          "x0": 738,
          "x1": 758,
          "xref": "x",
          "y0": 185.06949999999998,
          "y1": 188.53449999999998,
          "yref": "y"
         },
         {
          "line": {
           "color": "green"
          },
          "type": "rect",
          "x0": 780,
          "x1": 796,
          "xref": "x",
          "y0": 0,
          "y1": 2.6363333333333343,
          "yref": "y"
         },
         {
          "line": {
           "color": "green"
          },
          "type": "rect",
          "x0": 780,
          "x1": 796,
          "xref": "x",
          "y0": 2.6363333333333343,
          "y1": 5.272666666666669,
          "yref": "y"
         },
         {
          "line": {
           "color": "green"
          },
          "type": "rect",
          "x0": 780,
          "x1": 796,
          "xref": "x",
          "y0": 5.272666666666669,
          "y1": 7.9090000000000025,
          "yref": "y"
         },
         {
          "line": {
           "color": "green"
          },
          "type": "rect",
          "x0": 780,
          "x1": 796,
          "xref": "x",
          "y0": 7.9090000000000025,
          "y1": 10.545333333333337,
          "yref": "y"
         },
         {
          "line": {
           "color": "green"
          },
          "type": "rect",
          "x0": 796,
          "x1": 840,
          "xref": "x",
          "y0": 15.55233333333333,
          "y1": 23.195666666666657,
          "yref": "y"
         },
         {
          "line": {
           "color": "green"
          },
          "type": "rect",
          "x0": 796,
          "x1": 811,
          "xref": "x",
          "y0": 18.188666666666663,
          "y1": 20.824999999999996,
          "yref": "y"
         },
         {
          "line": {
           "color": "green"
          },
          "type": "rect",
          "x0": 796,
          "x1": 840,
          "xref": "x",
          "y0": 25.90916666666666,
          "y1": 33.62966666666666,
          "yref": "y"
         },
         {
          "line": {
           "color": "green"
          },
          "type": "rect",
          "x0": 810,
          "x1": 821,
          "xref": "x",
          "y0": 28.074999999999992,
          "y1": 30.240833333333324,
          "yref": "y"
         },
         {
          "line": {
           "color": "green"
          },
          "type": "rect",
          "x0": 811,
          "x1": 825,
          "xref": "x",
          "y0": 30.711333333333325,
          "y1": 33.34766666666666,
          "yref": "y"
         },
         {
          "line": {
           "color": "green"
          },
          "type": "rect",
          "x0": 821,
          "x1": 834,
          "xref": "x",
          "y0": 33.34766666666666,
          "y1": 35.983999999999995,
          "yref": "y"
         },
         {
          "line": {
           "color": "green"
          },
          "type": "rect",
          "x0": 825,
          "x1": 836,
          "xref": "x",
          "y0": 35.51349999999999,
          "y1": 37.679333333333325,
          "yref": "y"
         },
         {
          "line": {
           "color": "green"
          },
          "type": "rect",
          "x0": 834,
          "x1": 881,
          "xref": "x",
          "y0": 43.36166666666665,
          "y1": 51.20983333333331,
          "yref": "y"
         },
         {
          "line": {
           "color": "green"
          },
          "type": "rect",
          "x0": 836,
          "x1": 883,
          "xref": "x",
          "y0": 51.150666666666645,
          "y1": 58.93966666666664,
          "yref": "y"
         },
         {
          "line": {
           "color": "green"
          },
          "type": "rect",
          "x0": 840,
          "x1": 867,
          "xref": "x",
          "y0": 58.79399999999997,
          "y1": 66.4373333333333,
          "yref": "y"
         },
         {
          "line": {
           "color": "green"
          },
          "type": "rect",
          "x0": 840,
          "x1": 889,
          "xref": "x",
          "y0": 66.64216666666663,
          "y1": 74.49033333333328,
          "yref": "y"
         },
         {
          "line": {
           "color": "green"
          },
          "type": "rect",
          "x0": 881,
          "x1": 923,
          "xref": "x",
          "y0": 73.95749999999995,
          "y1": 81.27283333333328,
          "yref": "y"
         },
         {
          "line": {
           "color": "green"
          },
          "type": "rect",
          "x0": 883,
          "x1": 929,
          "xref": "x",
          "y0": 81.53016666666662,
          "y1": 89.10283333333328,
          "yref": "y"
         },
         {
          "line": {
           "color": "green"
          },
          "type": "rect",
          "x0": 929,
          "x1": 941,
          "xref": "x",
          "y0": 83.69599999999996,
          "y1": 85.8618333333333,
          "yref": "y"
         }
        ],
        "template": {
         "data": {
          "bar": [
           {
            "error_x": {
             "color": "#2a3f5f"
            },
            "error_y": {
             "color": "#2a3f5f"
            },
            "marker": {
             "line": {
              "color": "white",
              "width": 0.5
             },
             "pattern": {
              "fillmode": "overlay",
              "size": 10,
              "solidity": 0.2
             }
            },
            "type": "bar"
           }
          ],
          "barpolar": [
           {
            "marker": {
             "line": {
              "color": "white",
              "width": 0.5
             },
             "pattern": {
              "fillmode": "overlay",
              "size": 10,
              "solidity": 0.2
             }
            },
            "type": "barpolar"
           }
          ],
          "carpet": [
           {
            "aaxis": {
             "endlinecolor": "#2a3f5f",
             "gridcolor": "#C8D4E3",
             "linecolor": "#C8D4E3",
             "minorgridcolor": "#C8D4E3",
             "startlinecolor": "#2a3f5f"
            },
            "baxis": {
             "endlinecolor": "#2a3f5f",
             "gridcolor": "#C8D4E3",
             "linecolor": "#C8D4E3",
             "minorgridcolor": "#C8D4E3",
             "startlinecolor": "#2a3f5f"
            },
            "type": "carpet"
           }
          ],
          "choropleth": [
           {
            "colorbar": {
             "outlinewidth": 0,
             "ticks": ""
            },
            "type": "choropleth"
           }
          ],
          "contour": [
           {
            "colorbar": {
             "outlinewidth": 0,
             "ticks": ""
            },
            "colorscale": [
             [
              0,
              "#0d0887"
             ],
             [
              0.1111111111111111,
              "#46039f"
             ],
             [
              0.2222222222222222,
              "#7201a8"
             ],
             [
              0.3333333333333333,
              "#9c179e"
             ],
             [
              0.4444444444444444,
              "#bd3786"
             ],
             [
              0.5555555555555556,
              "#d8576b"
             ],
             [
              0.6666666666666666,
              "#ed7953"
             ],
             [
              0.7777777777777778,
              "#fb9f3a"
             ],
             [
              0.8888888888888888,
              "#fdca26"
             ],
             [
              1,
              "#f0f921"
             ]
            ],
            "type": "contour"
           }
          ],
          "contourcarpet": [
           {
            "colorbar": {
             "outlinewidth": 0,
             "ticks": ""
            },
            "type": "contourcarpet"
           }
          ],
          "heatmap": [
           {
            "colorbar": {
             "outlinewidth": 0,
             "ticks": ""
            },
            "colorscale": [
             [
              0,
              "#0d0887"
             ],
             [
              0.1111111111111111,
              "#46039f"
             ],
             [
              0.2222222222222222,
              "#7201a8"
             ],
             [
              0.3333333333333333,
              "#9c179e"
             ],
             [
              0.4444444444444444,
              "#bd3786"
             ],
             [
              0.5555555555555556,
              "#d8576b"
             ],
             [
              0.6666666666666666,
              "#ed7953"
             ],
             [
              0.7777777777777778,
              "#fb9f3a"
             ],
             [
              0.8888888888888888,
              "#fdca26"
             ],
             [
              1,
              "#f0f921"
             ]
            ],
            "type": "heatmap"
           }
          ],
          "heatmapgl": [
           {
            "colorbar": {
             "outlinewidth": 0,
             "ticks": ""
            },
            "colorscale": [
             [
              0,
              "#0d0887"
             ],
             [
              0.1111111111111111,
              "#46039f"
             ],
             [
              0.2222222222222222,
              "#7201a8"
             ],
             [
              0.3333333333333333,
              "#9c179e"
             ],
             [
              0.4444444444444444,
              "#bd3786"
             ],
             [
              0.5555555555555556,
              "#d8576b"
             ],
             [
              0.6666666666666666,
              "#ed7953"
             ],
             [
              0.7777777777777778,
              "#fb9f3a"
             ],
             [
              0.8888888888888888,
              "#fdca26"
             ],
             [
              1,
              "#f0f921"
             ]
            ],
            "type": "heatmapgl"
           }
          ],
          "histogram": [
           {
            "marker": {
             "pattern": {
              "fillmode": "overlay",
              "size": 10,
              "solidity": 0.2
             }
            },
            "type": "histogram"
           }
          ],
          "histogram2d": [
           {
            "colorbar": {
             "outlinewidth": 0,
             "ticks": ""
            },
            "colorscale": [
             [
              0,
              "#0d0887"
             ],
             [
              0.1111111111111111,
              "#46039f"
             ],
             [
              0.2222222222222222,
              "#7201a8"
             ],
             [
              0.3333333333333333,
              "#9c179e"
             ],
             [
              0.4444444444444444,
              "#bd3786"
             ],
             [
              0.5555555555555556,
              "#d8576b"
             ],
             [
              0.6666666666666666,
              "#ed7953"
             ],
             [
              0.7777777777777778,
              "#fb9f3a"
             ],
             [
              0.8888888888888888,
              "#fdca26"
             ],
             [
              1,
              "#f0f921"
             ]
            ],
            "type": "histogram2d"
           }
          ],
          "histogram2dcontour": [
           {
            "colorbar": {
             "outlinewidth": 0,
             "ticks": ""
            },
            "colorscale": [
             [
              0,
              "#0d0887"
             ],
             [
              0.1111111111111111,
              "#46039f"
             ],
             [
              0.2222222222222222,
              "#7201a8"
             ],
             [
              0.3333333333333333,
              "#9c179e"
             ],
             [
              0.4444444444444444,
              "#bd3786"
             ],
             [
              0.5555555555555556,
              "#d8576b"
             ],
             [
              0.6666666666666666,
              "#ed7953"
             ],
             [
              0.7777777777777778,
              "#fb9f3a"
             ],
             [
              0.8888888888888888,
              "#fdca26"
             ],
             [
              1,
              "#f0f921"
             ]
            ],
            "type": "histogram2dcontour"
           }
          ],
          "mesh3d": [
           {
            "colorbar": {
             "outlinewidth": 0,
             "ticks": ""
            },
            "type": "mesh3d"
           }
          ],
          "parcoords": [
           {
            "line": {
             "colorbar": {
              "outlinewidth": 0,
              "ticks": ""
             }
            },
            "type": "parcoords"
           }
          ],
          "pie": [
           {
            "automargin": true,
            "type": "pie"
           }
          ],
          "scatter": [
           {
            "marker": {
             "colorbar": {
              "outlinewidth": 0,
              "ticks": ""
             }
            },
            "type": "scatter"
           }
          ],
          "scatter3d": [
           {
            "line": {
             "colorbar": {
              "outlinewidth": 0,
              "ticks": ""
             }
            },
            "marker": {
             "colorbar": {
              "outlinewidth": 0,
              "ticks": ""
             }
            },
            "type": "scatter3d"
           }
          ],
          "scattercarpet": [
           {
            "marker": {
             "colorbar": {
              "outlinewidth": 0,
              "ticks": ""
             }
            },
            "type": "scattercarpet"
           }
          ],
          "scattergeo": [
           {
            "marker": {
             "colorbar": {
              "outlinewidth": 0,
              "ticks": ""
             }
            },
            "type": "scattergeo"
           }
          ],
          "scattergl": [
           {
            "marker": {
             "colorbar": {
              "outlinewidth": 0,
              "ticks": ""
             }
            },
            "type": "scattergl"
           }
          ],
          "scattermapbox": [
           {
            "marker": {
             "colorbar": {
              "outlinewidth": 0,
              "ticks": ""
             }
            },
            "type": "scattermapbox"
           }
          ],
          "scatterpolar": [
           {
            "marker": {
             "colorbar": {
              "outlinewidth": 0,
              "ticks": ""
             }
            },
            "type": "scatterpolar"
           }
          ],
          "scatterpolargl": [
           {
            "marker": {
             "colorbar": {
              "outlinewidth": 0,
              "ticks": ""
             }
            },
            "type": "scatterpolargl"
           }
          ],
          "scatterternary": [
           {
            "marker": {
             "colorbar": {
              "outlinewidth": 0,
              "ticks": ""
             }
            },
            "type": "scatterternary"
           }
          ],
          "surface": [
           {
            "colorbar": {
             "outlinewidth": 0,
             "ticks": ""
            },
            "colorscale": [
             [
              0,
              "#0d0887"
             ],
             [
              0.1111111111111111,
              "#46039f"
             ],
             [
              0.2222222222222222,
              "#7201a8"
             ],
             [
              0.3333333333333333,
              "#9c179e"
             ],
             [
              0.4444444444444444,
              "#bd3786"
             ],
             [
              0.5555555555555556,
              "#d8576b"
             ],
             [
              0.6666666666666666,
              "#ed7953"
             ],
             [
              0.7777777777777778,
              "#fb9f3a"
             ],
             [
              0.8888888888888888,
              "#fdca26"
             ],
             [
              1,
              "#f0f921"
             ]
            ],
            "type": "surface"
           }
          ],
          "table": [
           {
            "cells": {
             "fill": {
              "color": "#EBF0F8"
             },
             "line": {
              "color": "white"
             }
            },
            "header": {
             "fill": {
              "color": "#C8D4E3"
             },
             "line": {
              "color": "white"
             }
            },
            "type": "table"
           }
          ]
         },
         "layout": {
          "annotationdefaults": {
           "arrowcolor": "#2a3f5f",
           "arrowhead": 0,
           "arrowwidth": 1
          },
          "autotypenumbers": "strict",
          "coloraxis": {
           "colorbar": {
            "outlinewidth": 0,
            "ticks": ""
           }
          },
          "colorscale": {
           "diverging": [
            [
             0,
             "#8e0152"
            ],
            [
             0.1,
             "#c51b7d"
            ],
            [
             0.2,
             "#de77ae"
            ],
            [
             0.3,
             "#f1b6da"
            ],
            [
             0.4,
             "#fde0ef"
            ],
            [
             0.5,
             "#f7f7f7"
            ],
            [
             0.6,
             "#e6f5d0"
            ],
            [
             0.7,
             "#b8e186"
            ],
            [
             0.8,
             "#7fbc41"
            ],
            [
             0.9,
             "#4d9221"
            ],
            [
             1,
             "#276419"
            ]
           ],
           "sequential": [
            [
             0,
             "#0d0887"
            ],
            [
             0.1111111111111111,
             "#46039f"
            ],
            [
             0.2222222222222222,
             "#7201a8"
            ],
            [
             0.3333333333333333,
             "#9c179e"
            ],
            [
             0.4444444444444444,
             "#bd3786"
            ],
            [
             0.5555555555555556,
             "#d8576b"
            ],
            [
             0.6666666666666666,
             "#ed7953"
            ],
            [
             0.7777777777777778,
             "#fb9f3a"
            ],
            [
             0.8888888888888888,
             "#fdca26"
            ],
            [
             1,
             "#f0f921"
            ]
           ],
           "sequentialminus": [
            [
             0,
             "#0d0887"
            ],
            [
             0.1111111111111111,
             "#46039f"
            ],
            [
             0.2222222222222222,
             "#7201a8"
            ],
            [
             0.3333333333333333,
             "#9c179e"
            ],
            [
             0.4444444444444444,
             "#bd3786"
            ],
            [
             0.5555555555555556,
             "#d8576b"
            ],
            [
             0.6666666666666666,
             "#ed7953"
            ],
            [
             0.7777777777777778,
             "#fb9f3a"
            ],
            [
             0.8888888888888888,
             "#fdca26"
            ],
            [
             1,
             "#f0f921"
            ]
           ]
          },
          "colorway": [
           "#636efa",
           "#EF553B",
           "#00cc96",
           "#ab63fa",
           "#FFA15A",
           "#19d3f3",
           "#FF6692",
           "#B6E880",
           "#FF97FF",
           "#FECB52"
          ],
          "font": {
           "color": "#2a3f5f"
          },
          "geo": {
           "bgcolor": "white",
           "lakecolor": "white",
           "landcolor": "white",
           "showlakes": true,
           "showland": true,
           "subunitcolor": "#C8D4E3"
          },
          "hoverlabel": {
           "align": "left"
          },
          "hovermode": "closest",
          "mapbox": {
           "style": "light"
          },
          "paper_bgcolor": "white",
          "plot_bgcolor": "white",
          "polar": {
           "angularaxis": {
            "gridcolor": "#EBF0F8",
            "linecolor": "#EBF0F8",
            "ticks": ""
           },
           "bgcolor": "white",
           "radialaxis": {
            "gridcolor": "#EBF0F8",
            "linecolor": "#EBF0F8",
            "ticks": ""
           }
          },
          "scene": {
           "xaxis": {
            "backgroundcolor": "white",
            "gridcolor": "#DFE8F3",
            "gridwidth": 2,
            "linecolor": "#EBF0F8",
            "showbackground": true,
            "ticks": "",
            "zerolinecolor": "#EBF0F8"
           },
           "yaxis": {
            "backgroundcolor": "white",
            "gridcolor": "#DFE8F3",
            "gridwidth": 2,
            "linecolor": "#EBF0F8",
            "showbackground": true,
            "ticks": "",
            "zerolinecolor": "#EBF0F8"
           },
           "zaxis": {
            "backgroundcolor": "white",
            "gridcolor": "#DFE8F3",
            "gridwidth": 2,
            "linecolor": "#EBF0F8",
            "showbackground": true,
            "ticks": "",
            "zerolinecolor": "#EBF0F8"
           }
          },
          "shapedefaults": {
           "line": {
            "color": "#2a3f5f"
           }
          },
          "ternary": {
           "aaxis": {
            "gridcolor": "#DFE8F3",
            "linecolor": "#A2B1C6",
            "ticks": ""
           },
           "baxis": {
            "gridcolor": "#DFE8F3",
            "linecolor": "#A2B1C6",
            "ticks": ""
           },
           "bgcolor": "white",
           "caxis": {
            "gridcolor": "#DFE8F3",
            "linecolor": "#A2B1C6",
            "ticks": ""
           }
          },
          "title": {
           "x": 0.05
          },
          "xaxis": {
           "automargin": true,
           "gridcolor": "#EBF0F8",
           "linecolor": "#EBF0F8",
           "ticks": "",
           "title": {
            "standoff": 15
           },
           "zerolinecolor": "#EBF0F8",
           "zerolinewidth": 2
          },
          "yaxis": {
           "automargin": true,
           "gridcolor": "#EBF0F8",
           "linecolor": "#EBF0F8",
           "ticks": "",
           "title": {
            "standoff": 15
           },
           "zerolinecolor": "#EBF0F8",
           "zerolinewidth": 2
          }
         }
        },
        "title": {
         "font": {
          "size": 24
         },
         "text": "Ladeenergie pro Ladezeitraum eines BEVs",
         "x": 0.5,
         "xanchor": "center"
        },
        "xaxis": {
         "range": [
          480,
          960
         ],
         "showgrid": true,
         "title": {
          "text": "Minuten"
         }
        },
        "yaxis": {
         "range": [
          0,
          60
         ],
         "title": {
          "text": "Energie in kWh"
         }
        }
       }
      },
      "text/html": [
       "<div>                            <div id=\"ccf33010-d564-49e2-852e-616bb09ab2fb\" class=\"plotly-graph-div\" style=\"height:525px; width:100%;\"></div>            <script type=\"text/javascript\">                require([\"plotly\"], function(Plotly) {                    window.PLOTLYENV=window.PLOTLYENV || {};                                    if (document.getElementById(\"ccf33010-d564-49e2-852e-616bb09ab2fb\")) {                    Plotly.newPlot(                        \"ccf33010-d564-49e2-852e-616bb09ab2fb\",                        [{\"mode\":\"text\",\"text\":\"1\",\"x\":[512],\"y\":[0.5],\"type\":\"scatter\"},{\"mode\":\"text\",\"text\":\"5\",\"x\":[525],\"y\":[5.187333333333333],\"type\":\"scatter\"},{\"mode\":\"text\",\"text\":\"0\",\"x\":[542],\"y\":[12.192333333333334],\"type\":\"scatter\"},{\"mode\":\"text\",\"text\":\"7\",\"x\":[548],\"y\":[19.473666666666666],\"type\":\"scatter\"},{\"mode\":\"text\",\"text\":\"9\",\"x\":[558],\"y\":[25.878666666666668],\"type\":\"scatter\"},{\"mode\":\"text\",\"text\":\"10\",\"x\":[567],\"y\":[31.922833333333333],\"type\":\"scatter\"},{\"mode\":\"text\",\"text\":\"11\",\"x\":[584],\"y\":[39.64333333333333],\"type\":\"scatter\"},{\"mode\":\"text\",\"text\":\"12\",\"x\":[585],\"y\":[46.96733333333333],\"type\":\"scatter\"},{\"mode\":\"text\",\"text\":\"13\",\"x\":[593],\"y\":[51.38699999999999],\"type\":\"scatter\"},{\"mode\":\"text\",\"text\":\"14\",\"x\":[596],\"y\":[58.70233333333333],\"type\":\"scatter\"},{\"mode\":\"text\",\"text\":\"15\",\"x\":[603],\"y\":[64.42733333333334],\"type\":\"scatter\"},{\"mode\":\"text\",\"text\":\"16\",\"x\":[617],\"y\":[69.63916666666665],\"type\":\"scatter\"},{\"mode\":\"text\",\"text\":\"17\",\"x\":[627],\"y\":[75.21633333333332],\"type\":\"scatter\"},{\"mode\":\"text\",\"text\":\"18\",\"x\":[628],\"y\":[81.2605],\"type\":\"scatter\"},{\"mode\":\"text\",\"text\":\"19\",\"x\":[634],\"y\":[87.38],\"type\":\"scatter\"},{\"mode\":\"text\",\"text\":\"20\",\"x\":[637],\"y\":[94.99533333333332],\"type\":\"scatter\"},{\"mode\":\"text\",\"text\":\"21\",\"x\":[646],\"y\":[98.67066666666665],\"type\":\"scatter\"},{\"mode\":\"text\",\"text\":\"22\",\"x\":[658],\"y\":[106.33899999999998],\"type\":\"scatter\"},{\"mode\":\"text\",\"text\":\"23\",\"x\":[662],\"y\":[113.84916666666665],\"type\":\"scatter\"},{\"mode\":\"text\",\"text\":\"25\",\"x\":[667],\"y\":[120.01133333333331],\"type\":\"scatter\"},{\"mode\":\"text\",\"text\":\"26\",\"x\":[669],\"y\":[127.05683333333332],\"type\":\"scatter\"},{\"mode\":\"text\",\"text\":\"29\",\"x\":[681],\"y\":[133.78799999999998],\"type\":\"scatter\"},{\"mode\":\"text\",\"text\":\"31\",\"x\":[699],\"y\":[138.9998333333333],\"type\":\"scatter\"},{\"mode\":\"text\",\"text\":\"34\",\"x\":[701],\"y\":[145.03899999999996],\"type\":\"scatter\"},{\"mode\":\"text\",\"text\":\"35\",\"x\":[701],\"y\":[151.69149999999996],\"type\":\"scatter\"},{\"mode\":\"text\",\"text\":\"36\",\"x\":[705],\"y\":[157.31599999999997],\"type\":\"scatter\"},{\"mode\":\"text\",\"text\":\"43\",\"x\":[709],\"y\":[161.1463333333333],\"type\":\"scatter\"},{\"mode\":\"text\",\"text\":\"4\",\"x\":[722],\"y\":[165.04849999999996],\"type\":\"scatter\"},{\"mode\":\"text\",\"text\":\"38\",\"x\":[730],\"y\":[171.70099999999996],\"type\":\"scatter\"},{\"mode\":\"text\",\"text\":\"39\",\"x\":[736],\"y\":[176.9128333333333],\"type\":\"scatter\"},{\"mode\":\"text\",\"text\":\"41\",\"x\":[737],\"y\":[182.10449999999997],\"type\":\"scatter\"},{\"mode\":\"text\",\"text\":\"45\",\"x\":[740],\"y\":[185.56949999999998],\"type\":\"scatter\"},{\"mode\":\"text\",\"text\":\"24\",\"x\":[782],\"y\":[0.5],\"type\":\"scatter\"},{\"mode\":\"text\",\"text\":\"2\",\"x\":[782],\"y\":[3.1363333333333343],\"type\":\"scatter\"},{\"mode\":\"text\",\"text\":\"3\",\"x\":[782],\"y\":[5.772666666666669],\"type\":\"scatter\"},{\"mode\":\"text\",\"text\":\"6\",\"x\":[782],\"y\":[8.409000000000002],\"type\":\"scatter\"},{\"mode\":\"text\",\"text\":\"27\",\"x\":[798],\"y\":[16.05233333333333],\"type\":\"scatter\"},{\"mode\":\"text\",\"text\":\"28\",\"x\":[798],\"y\":[18.688666666666663],\"type\":\"scatter\"},{\"mode\":\"text\",\"text\":\"30\",\"x\":[798],\"y\":[26.40916666666666],\"type\":\"scatter\"},{\"mode\":\"text\",\"text\":\"8\",\"x\":[812],\"y\":[28.574999999999992],\"type\":\"scatter\"},{\"mode\":\"text\",\"text\":\"32\",\"x\":[813],\"y\":[31.211333333333325],\"type\":\"scatter\"},{\"mode\":\"text\",\"text\":\"33\",\"x\":[823],\"y\":[33.84766666666666],\"type\":\"scatter\"},{\"mode\":\"text\",\"text\":\"37\",\"x\":[827],\"y\":[36.01349999999999],\"type\":\"scatter\"},{\"mode\":\"text\",\"text\":\"40\",\"x\":[836],\"y\":[43.86166666666665],\"type\":\"scatter\"},{\"mode\":\"text\",\"text\":\"42\",\"x\":[838],\"y\":[51.650666666666645],\"type\":\"scatter\"},{\"mode\":\"text\",\"text\":\"49\",\"x\":[842],\"y\":[59.29399999999997],\"type\":\"scatter\"},{\"mode\":\"text\",\"text\":\"44\",\"x\":[842],\"y\":[67.14216666666663],\"type\":\"scatter\"},{\"mode\":\"text\",\"text\":\"46\",\"x\":[883],\"y\":[74.45749999999995],\"type\":\"scatter\"},{\"mode\":\"text\",\"text\":\"47\",\"x\":[885],\"y\":[82.03016666666662],\"type\":\"scatter\"},{\"mode\":\"text\",\"text\":\"48\",\"x\":[931],\"y\":[84.19599999999996],\"type\":\"scatter\"}],                        {\"template\":{\"data\":{\"barpolar\":[{\"marker\":{\"line\":{\"color\":\"white\",\"width\":0.5},\"pattern\":{\"fillmode\":\"overlay\",\"size\":10,\"solidity\":0.2}},\"type\":\"barpolar\"}],\"bar\":[{\"error_x\":{\"color\":\"#2a3f5f\"},\"error_y\":{\"color\":\"#2a3f5f\"},\"marker\":{\"line\":{\"color\":\"white\",\"width\":0.5},\"pattern\":{\"fillmode\":\"overlay\",\"size\":10,\"solidity\":0.2}},\"type\":\"bar\"}],\"carpet\":[{\"aaxis\":{\"endlinecolor\":\"#2a3f5f\",\"gridcolor\":\"#C8D4E3\",\"linecolor\":\"#C8D4E3\",\"minorgridcolor\":\"#C8D4E3\",\"startlinecolor\":\"#2a3f5f\"},\"baxis\":{\"endlinecolor\":\"#2a3f5f\",\"gridcolor\":\"#C8D4E3\",\"linecolor\":\"#C8D4E3\",\"minorgridcolor\":\"#C8D4E3\",\"startlinecolor\":\"#2a3f5f\"},\"type\":\"carpet\"}],\"choropleth\":[{\"colorbar\":{\"outlinewidth\":0,\"ticks\":\"\"},\"type\":\"choropleth\"}],\"contourcarpet\":[{\"colorbar\":{\"outlinewidth\":0,\"ticks\":\"\"},\"type\":\"contourcarpet\"}],\"contour\":[{\"colorbar\":{\"outlinewidth\":0,\"ticks\":\"\"},\"colorscale\":[[0.0,\"#0d0887\"],[0.1111111111111111,\"#46039f\"],[0.2222222222222222,\"#7201a8\"],[0.3333333333333333,\"#9c179e\"],[0.4444444444444444,\"#bd3786\"],[0.5555555555555556,\"#d8576b\"],[0.6666666666666666,\"#ed7953\"],[0.7777777777777778,\"#fb9f3a\"],[0.8888888888888888,\"#fdca26\"],[1.0,\"#f0f921\"]],\"type\":\"contour\"}],\"heatmapgl\":[{\"colorbar\":{\"outlinewidth\":0,\"ticks\":\"\"},\"colorscale\":[[0.0,\"#0d0887\"],[0.1111111111111111,\"#46039f\"],[0.2222222222222222,\"#7201a8\"],[0.3333333333333333,\"#9c179e\"],[0.4444444444444444,\"#bd3786\"],[0.5555555555555556,\"#d8576b\"],[0.6666666666666666,\"#ed7953\"],[0.7777777777777778,\"#fb9f3a\"],[0.8888888888888888,\"#fdca26\"],[1.0,\"#f0f921\"]],\"type\":\"heatmapgl\"}],\"heatmap\":[{\"colorbar\":{\"outlinewidth\":0,\"ticks\":\"\"},\"colorscale\":[[0.0,\"#0d0887\"],[0.1111111111111111,\"#46039f\"],[0.2222222222222222,\"#7201a8\"],[0.3333333333333333,\"#9c179e\"],[0.4444444444444444,\"#bd3786\"],[0.5555555555555556,\"#d8576b\"],[0.6666666666666666,\"#ed7953\"],[0.7777777777777778,\"#fb9f3a\"],[0.8888888888888888,\"#fdca26\"],[1.0,\"#f0f921\"]],\"type\":\"heatmap\"}],\"histogram2dcontour\":[{\"colorbar\":{\"outlinewidth\":0,\"ticks\":\"\"},\"colorscale\":[[0.0,\"#0d0887\"],[0.1111111111111111,\"#46039f\"],[0.2222222222222222,\"#7201a8\"],[0.3333333333333333,\"#9c179e\"],[0.4444444444444444,\"#bd3786\"],[0.5555555555555556,\"#d8576b\"],[0.6666666666666666,\"#ed7953\"],[0.7777777777777778,\"#fb9f3a\"],[0.8888888888888888,\"#fdca26\"],[1.0,\"#f0f921\"]],\"type\":\"histogram2dcontour\"}],\"histogram2d\":[{\"colorbar\":{\"outlinewidth\":0,\"ticks\":\"\"},\"colorscale\":[[0.0,\"#0d0887\"],[0.1111111111111111,\"#46039f\"],[0.2222222222222222,\"#7201a8\"],[0.3333333333333333,\"#9c179e\"],[0.4444444444444444,\"#bd3786\"],[0.5555555555555556,\"#d8576b\"],[0.6666666666666666,\"#ed7953\"],[0.7777777777777778,\"#fb9f3a\"],[0.8888888888888888,\"#fdca26\"],[1.0,\"#f0f921\"]],\"type\":\"histogram2d\"}],\"histogram\":[{\"marker\":{\"pattern\":{\"fillmode\":\"overlay\",\"size\":10,\"solidity\":0.2}},\"type\":\"histogram\"}],\"mesh3d\":[{\"colorbar\":{\"outlinewidth\":0,\"ticks\":\"\"},\"type\":\"mesh3d\"}],\"parcoords\":[{\"line\":{\"colorbar\":{\"outlinewidth\":0,\"ticks\":\"\"}},\"type\":\"parcoords\"}],\"pie\":[{\"automargin\":true,\"type\":\"pie\"}],\"scatter3d\":[{\"line\":{\"colorbar\":{\"outlinewidth\":0,\"ticks\":\"\"}},\"marker\":{\"colorbar\":{\"outlinewidth\":0,\"ticks\":\"\"}},\"type\":\"scatter3d\"}],\"scattercarpet\":[{\"marker\":{\"colorbar\":{\"outlinewidth\":0,\"ticks\":\"\"}},\"type\":\"scattercarpet\"}],\"scattergeo\":[{\"marker\":{\"colorbar\":{\"outlinewidth\":0,\"ticks\":\"\"}},\"type\":\"scattergeo\"}],\"scattergl\":[{\"marker\":{\"colorbar\":{\"outlinewidth\":0,\"ticks\":\"\"}},\"type\":\"scattergl\"}],\"scattermapbox\":[{\"marker\":{\"colorbar\":{\"outlinewidth\":0,\"ticks\":\"\"}},\"type\":\"scattermapbox\"}],\"scatterpolargl\":[{\"marker\":{\"colorbar\":{\"outlinewidth\":0,\"ticks\":\"\"}},\"type\":\"scatterpolargl\"}],\"scatterpolar\":[{\"marker\":{\"colorbar\":{\"outlinewidth\":0,\"ticks\":\"\"}},\"type\":\"scatterpolar\"}],\"scatter\":[{\"marker\":{\"colorbar\":{\"outlinewidth\":0,\"ticks\":\"\"}},\"type\":\"scatter\"}],\"scatterternary\":[{\"marker\":{\"colorbar\":{\"outlinewidth\":0,\"ticks\":\"\"}},\"type\":\"scatterternary\"}],\"surface\":[{\"colorbar\":{\"outlinewidth\":0,\"ticks\":\"\"},\"colorscale\":[[0.0,\"#0d0887\"],[0.1111111111111111,\"#46039f\"],[0.2222222222222222,\"#7201a8\"],[0.3333333333333333,\"#9c179e\"],[0.4444444444444444,\"#bd3786\"],[0.5555555555555556,\"#d8576b\"],[0.6666666666666666,\"#ed7953\"],[0.7777777777777778,\"#fb9f3a\"],[0.8888888888888888,\"#fdca26\"],[1.0,\"#f0f921\"]],\"type\":\"surface\"}],\"table\":[{\"cells\":{\"fill\":{\"color\":\"#EBF0F8\"},\"line\":{\"color\":\"white\"}},\"header\":{\"fill\":{\"color\":\"#C8D4E3\"},\"line\":{\"color\":\"white\"}},\"type\":\"table\"}]},\"layout\":{\"annotationdefaults\":{\"arrowcolor\":\"#2a3f5f\",\"arrowhead\":0,\"arrowwidth\":1},\"autotypenumbers\":\"strict\",\"coloraxis\":{\"colorbar\":{\"outlinewidth\":0,\"ticks\":\"\"}},\"colorscale\":{\"diverging\":[[0,\"#8e0152\"],[0.1,\"#c51b7d\"],[0.2,\"#de77ae\"],[0.3,\"#f1b6da\"],[0.4,\"#fde0ef\"],[0.5,\"#f7f7f7\"],[0.6,\"#e6f5d0\"],[0.7,\"#b8e186\"],[0.8,\"#7fbc41\"],[0.9,\"#4d9221\"],[1,\"#276419\"]],\"sequential\":[[0.0,\"#0d0887\"],[0.1111111111111111,\"#46039f\"],[0.2222222222222222,\"#7201a8\"],[0.3333333333333333,\"#9c179e\"],[0.4444444444444444,\"#bd3786\"],[0.5555555555555556,\"#d8576b\"],[0.6666666666666666,\"#ed7953\"],[0.7777777777777778,\"#fb9f3a\"],[0.8888888888888888,\"#fdca26\"],[1.0,\"#f0f921\"]],\"sequentialminus\":[[0.0,\"#0d0887\"],[0.1111111111111111,\"#46039f\"],[0.2222222222222222,\"#7201a8\"],[0.3333333333333333,\"#9c179e\"],[0.4444444444444444,\"#bd3786\"],[0.5555555555555556,\"#d8576b\"],[0.6666666666666666,\"#ed7953\"],[0.7777777777777778,\"#fb9f3a\"],[0.8888888888888888,\"#fdca26\"],[1.0,\"#f0f921\"]]},\"colorway\":[\"#636efa\",\"#EF553B\",\"#00cc96\",\"#ab63fa\",\"#FFA15A\",\"#19d3f3\",\"#FF6692\",\"#B6E880\",\"#FF97FF\",\"#FECB52\"],\"font\":{\"color\":\"#2a3f5f\"},\"geo\":{\"bgcolor\":\"white\",\"lakecolor\":\"white\",\"landcolor\":\"white\",\"showlakes\":true,\"showland\":true,\"subunitcolor\":\"#C8D4E3\"},\"hoverlabel\":{\"align\":\"left\"},\"hovermode\":\"closest\",\"mapbox\":{\"style\":\"light\"},\"paper_bgcolor\":\"white\",\"plot_bgcolor\":\"white\",\"polar\":{\"angularaxis\":{\"gridcolor\":\"#EBF0F8\",\"linecolor\":\"#EBF0F8\",\"ticks\":\"\"},\"bgcolor\":\"white\",\"radialaxis\":{\"gridcolor\":\"#EBF0F8\",\"linecolor\":\"#EBF0F8\",\"ticks\":\"\"}},\"scene\":{\"xaxis\":{\"backgroundcolor\":\"white\",\"gridcolor\":\"#DFE8F3\",\"gridwidth\":2,\"linecolor\":\"#EBF0F8\",\"showbackground\":true,\"ticks\":\"\",\"zerolinecolor\":\"#EBF0F8\"},\"yaxis\":{\"backgroundcolor\":\"white\",\"gridcolor\":\"#DFE8F3\",\"gridwidth\":2,\"linecolor\":\"#EBF0F8\",\"showbackground\":true,\"ticks\":\"\",\"zerolinecolor\":\"#EBF0F8\"},\"zaxis\":{\"backgroundcolor\":\"white\",\"gridcolor\":\"#DFE8F3\",\"gridwidth\":2,\"linecolor\":\"#EBF0F8\",\"showbackground\":true,\"ticks\":\"\",\"zerolinecolor\":\"#EBF0F8\"}},\"shapedefaults\":{\"line\":{\"color\":\"#2a3f5f\"}},\"ternary\":{\"aaxis\":{\"gridcolor\":\"#DFE8F3\",\"linecolor\":\"#A2B1C6\",\"ticks\":\"\"},\"baxis\":{\"gridcolor\":\"#DFE8F3\",\"linecolor\":\"#A2B1C6\",\"ticks\":\"\"},\"bgcolor\":\"white\",\"caxis\":{\"gridcolor\":\"#DFE8F3\",\"linecolor\":\"#A2B1C6\",\"ticks\":\"\"}},\"title\":{\"x\":0.05},\"xaxis\":{\"automargin\":true,\"gridcolor\":\"#EBF0F8\",\"linecolor\":\"#EBF0F8\",\"ticks\":\"\",\"title\":{\"standoff\":15},\"zerolinecolor\":\"#EBF0F8\",\"zerolinewidth\":2},\"yaxis\":{\"automargin\":true,\"gridcolor\":\"#EBF0F8\",\"linecolor\":\"#EBF0F8\",\"ticks\":\"\",\"title\":{\"standoff\":15},\"zerolinecolor\":\"#EBF0F8\",\"zerolinewidth\":2}}},\"shapes\":[{\"line\":{\"color\":\"green\"},\"type\":\"rect\",\"x0\":510,\"x1\":537,\"y0\":0,\"y1\":3.6326666666666645,\"xref\":\"x\",\"yref\":\"y\"},{\"line\":{\"color\":\"green\"},\"type\":\"rect\",\"x0\":523,\"x1\":556,\"y0\":4.687333333333333,\"y1\":9.374666666666666,\"xref\":\"x\",\"yref\":\"y\"},{\"line\":{\"color\":\"green\"},\"type\":\"rect\",\"x0\":540,\"x1\":583,\"y0\":11.692333333333334,\"y1\":18.697333333333333,\"xref\":\"x\",\"yref\":\"y\"},{\"line\":{\"color\":\"green\"},\"type\":\"rect\",\"x0\":546,\"x1\":591,\"y0\":18.973666666666666,\"y1\":26.255,\"xref\":\"x\",\"yref\":\"y\"},{\"line\":{\"color\":\"green\"},\"type\":\"rect\",\"x0\":556,\"x1\":594,\"y0\":25.378666666666668,\"y1\":31.78366666666667,\"xref\":\"x\",\"yref\":\"y\"},{\"line\":{\"color\":\"green\"},\"type\":\"rect\",\"x0\":565,\"x1\":601,\"y0\":31.422833333333333,\"y1\":37.467,\"xref\":\"x\",\"yref\":\"y\"},{\"line\":{\"color\":\"green\"},\"type\":\"rect\",\"x0\":582,\"x1\":626,\"y0\":39.14333333333333,\"y1\":46.86383333333333,\"xref\":\"x\",\"yref\":\"y\"},{\"line\":{\"color\":\"green\"},\"type\":\"rect\",\"x0\":583,\"x1\":625,\"y0\":46.46733333333333,\"y1\":53.79133333333333,\"xref\":\"x\",\"yref\":\"y\"},{\"line\":{\"color\":\"green\"},\"type\":\"rect\",\"x0\":591,\"x1\":615,\"y0\":50.88699999999999,\"y1\":55.30666666666666,\"xref\":\"x\",\"yref\":\"y\"},{\"line\":{\"color\":\"green\"},\"type\":\"rect\",\"x0\":594,\"x1\":635,\"y0\":58.20233333333333,\"y1\":65.51766666666666,\"xref\":\"x\",\"yref\":\"y\"},{\"line\":{\"color\":\"green\"},\"type\":\"rect\",\"x0\":601,\"x1\":632,\"y0\":63.92733333333333,\"y1\":69.65233333333333,\"xref\":\"x\",\"yref\":\"y\"},{\"line\":{\"color\":\"green\"},\"type\":\"rect\",\"x0\":615,\"x1\":644,\"y0\":69.13916666666665,\"y1\":74.35099999999998,\"xref\":\"x\",\"yref\":\"y\"},{\"line\":{\"color\":\"green\"},\"type\":\"rect\",\"x0\":625,\"x1\":656,\"y0\":74.71633333333332,\"y1\":80.2935,\"xref\":\"x\",\"yref\":\"y\"},{\"line\":{\"color\":\"green\"},\"type\":\"rect\",\"x0\":626,\"x1\":660,\"y0\":80.7605,\"y1\":86.80466666666666,\"xref\":\"x\",\"yref\":\"y\"},{\"line\":{\"color\":\"green\"},\"type\":\"rect\",\"x0\":632,\"x1\":667,\"y0\":86.88,\"y1\":92.9995,\"xref\":\"x\",\"yref\":\"y\"},{\"line\":{\"color\":\"green\"},\"type\":\"rect\",\"x0\":635,\"x1\":679,\"y0\":94.49533333333332,\"y1\":102.11066666666665,\"xref\":\"x\",\"yref\":\"y\"},{\"line\":{\"color\":\"green\"},\"type\":\"rect\",\"x0\":644,\"x1\":665,\"y0\":98.17066666666665,\"y1\":101.84599999999998,\"xref\":\"x\",\"yref\":\"y\"},{\"line\":{\"color\":\"green\"},\"type\":\"rect\",\"x0\":656,\"x1\":699,\"y0\":105.83899999999998,\"y1\":113.50733333333332,\"xref\":\"x\",\"yref\":\"y\"},{\"line\":{\"color\":\"green\"},\"type\":\"rect\",\"x0\":660,\"x1\":703,\"y0\":113.34916666666665,\"y1\":120.85933333333331,\"xref\":\"x\",\"yref\":\"y\"},{\"line\":{\"color\":\"green\"},\"type\":\"rect\",\"x0\":665,\"x1\":699,\"y0\":119.51133333333331,\"y1\":125.67349999999998,\"xref\":\"x\",\"yref\":\"y\"},{\"line\":{\"color\":\"green\"},\"type\":\"rect\",\"x0\":667,\"x1\":707,\"y0\":126.55683333333332,\"y1\":133.60233333333332,\"xref\":\"x\",\"yref\":\"y\"},{\"line\":{\"color\":\"green\"},\"type\":\"rect\",\"x0\":679,\"x1\":718,\"y0\":133.28799999999998,\"y1\":140.01916666666665,\"xref\":\"x\",\"yref\":\"y\"},{\"line\":{\"color\":\"green\"},\"type\":\"rect\",\"x0\":697,\"x1\":728,\"y0\":138.4998333333333,\"y1\":143.71166666666664,\"xref\":\"x\",\"yref\":\"y\"},{\"line\":{\"color\":\"green\"},\"type\":\"rect\",\"x0\":699,\"x1\":734,\"y0\":144.53899999999996,\"y1\":150.57816666666662,\"xref\":\"x\",\"yref\":\"y\"},{\"line\":{\"color\":\"green\"},\"type\":\"rect\",\"x0\":699,\"x1\":738,\"y0\":151.19149999999996,\"y1\":157.84399999999997,\"xref\":\"x\",\"yref\":\"y\"},{\"line\":{\"color\":\"green\"},\"type\":\"rect\",\"x0\":703,\"x1\":735,\"y0\":156.81599999999997,\"y1\":162.4405,\"xref\":\"x\",\"yref\":\"y\"},{\"line\":{\"color\":\"green\"},\"type\":\"rect\",\"x0\":707,\"x1\":713,\"y0\":160.6463333333333,\"y1\":164.47666666666663,\"xref\":\"x\",\"yref\":\"y\"},{\"line\":{\"color\":\"green\"},\"type\":\"rect\",\"x0\":720,\"x1\":741,\"y0\":164.54849999999996,\"y1\":168.45066666666662,\"xref\":\"x\",\"yref\":\"y\"},{\"line\":{\"color\":\"green\"},\"type\":\"rect\",\"x0\":728,\"x1\":766,\"y0\":171.20099999999996,\"y1\":177.85349999999997,\"xref\":\"x\",\"yref\":\"y\"},{\"line\":{\"color\":\"green\"},\"type\":\"rect\",\"x0\":734,\"x1\":764,\"y0\":176.4128333333333,\"y1\":181.62466666666666,\"xref\":\"x\",\"yref\":\"y\"},{\"line\":{\"color\":\"green\"},\"type\":\"rect\",\"x0\":735,\"x1\":765,\"y0\":181.60449999999997,\"y1\":186.79616666666664,\"xref\":\"x\",\"yref\":\"y\"},{\"line\":{\"color\":\"green\"},\"type\":\"rect\",\"x0\":738,\"x1\":758,\"y0\":185.06949999999998,\"y1\":188.53449999999998,\"xref\":\"x\",\"yref\":\"y\"},{\"line\":{\"color\":\"green\"},\"type\":\"rect\",\"x0\":780,\"x1\":796,\"y0\":0,\"y1\":2.6363333333333343,\"xref\":\"x\",\"yref\":\"y\"},{\"line\":{\"color\":\"green\"},\"type\":\"rect\",\"x0\":780,\"x1\":796,\"y0\":2.6363333333333343,\"y1\":5.272666666666669,\"xref\":\"x\",\"yref\":\"y\"},{\"line\":{\"color\":\"green\"},\"type\":\"rect\",\"x0\":780,\"x1\":796,\"y0\":5.272666666666669,\"y1\":7.9090000000000025,\"xref\":\"x\",\"yref\":\"y\"},{\"line\":{\"color\":\"green\"},\"type\":\"rect\",\"x0\":780,\"x1\":796,\"y0\":7.9090000000000025,\"y1\":10.545333333333337,\"xref\":\"x\",\"yref\":\"y\"},{\"line\":{\"color\":\"green\"},\"type\":\"rect\",\"x0\":796,\"x1\":840,\"y0\":15.55233333333333,\"y1\":23.195666666666657,\"xref\":\"x\",\"yref\":\"y\"},{\"line\":{\"color\":\"green\"},\"type\":\"rect\",\"x0\":796,\"x1\":811,\"y0\":18.188666666666663,\"y1\":20.824999999999996,\"xref\":\"x\",\"yref\":\"y\"},{\"line\":{\"color\":\"green\"},\"type\":\"rect\",\"x0\":796,\"x1\":840,\"y0\":25.90916666666666,\"y1\":33.62966666666666,\"xref\":\"x\",\"yref\":\"y\"},{\"line\":{\"color\":\"green\"},\"type\":\"rect\",\"x0\":810,\"x1\":821,\"y0\":28.074999999999992,\"y1\":30.240833333333324,\"xref\":\"x\",\"yref\":\"y\"},{\"line\":{\"color\":\"green\"},\"type\":\"rect\",\"x0\":811,\"x1\":825,\"y0\":30.711333333333325,\"y1\":33.34766666666666,\"xref\":\"x\",\"yref\":\"y\"},{\"line\":{\"color\":\"green\"},\"type\":\"rect\",\"x0\":821,\"x1\":834,\"y0\":33.34766666666666,\"y1\":35.983999999999995,\"xref\":\"x\",\"yref\":\"y\"},{\"line\":{\"color\":\"green\"},\"type\":\"rect\",\"x0\":825,\"x1\":836,\"y0\":35.51349999999999,\"y1\":37.679333333333325,\"xref\":\"x\",\"yref\":\"y\"},{\"line\":{\"color\":\"green\"},\"type\":\"rect\",\"x0\":834,\"x1\":881,\"y0\":43.36166666666665,\"y1\":51.20983333333331,\"xref\":\"x\",\"yref\":\"y\"},{\"line\":{\"color\":\"green\"},\"type\":\"rect\",\"x0\":836,\"x1\":883,\"y0\":51.150666666666645,\"y1\":58.93966666666664,\"xref\":\"x\",\"yref\":\"y\"},{\"line\":{\"color\":\"green\"},\"type\":\"rect\",\"x0\":840,\"x1\":867,\"y0\":58.79399999999997,\"y1\":66.4373333333333,\"xref\":\"x\",\"yref\":\"y\"},{\"line\":{\"color\":\"green\"},\"type\":\"rect\",\"x0\":840,\"x1\":889,\"y0\":66.64216666666663,\"y1\":74.49033333333328,\"xref\":\"x\",\"yref\":\"y\"},{\"line\":{\"color\":\"green\"},\"type\":\"rect\",\"x0\":881,\"x1\":923,\"y0\":73.95749999999995,\"y1\":81.27283333333328,\"xref\":\"x\",\"yref\":\"y\"},{\"line\":{\"color\":\"green\"},\"type\":\"rect\",\"x0\":883,\"x1\":929,\"y0\":81.53016666666662,\"y1\":89.10283333333328,\"xref\":\"x\",\"yref\":\"y\"},{\"line\":{\"color\":\"green\"},\"type\":\"rect\",\"x0\":929,\"x1\":941,\"y0\":83.69599999999996,\"y1\":85.8618333333333,\"xref\":\"x\",\"yref\":\"y\"}],\"xaxis\":{\"range\":[480,960],\"showgrid\":true,\"title\":{\"text\":\"Minuten\"}},\"yaxis\":{\"range\":[0,60],\"title\":{\"text\":\"Energie in kWh\"}},\"title\":{\"font\":{\"size\":24},\"text\":\"Ladeenergie pro Ladezeitraum eines BEVs\",\"x\":0.5,\"xanchor\":\"center\"}},                        {\"responsive\": true}                    ).then(function(){\n",
       "                            \n",
       "var gd = document.getElementById('ccf33010-d564-49e2-852e-616bb09ab2fb');\n",
       "var x = new MutationObserver(function (mutations, observer) {{\n",
       "        var display = window.getComputedStyle(gd).display;\n",
       "        if (!display || display === 'none') {{\n",
       "            console.log([gd, 'removed!']);\n",
       "            Plotly.purge(gd);\n",
       "            observer.disconnect();\n",
       "        }}\n",
       "}});\n",
       "\n",
       "// Listen for the removal of the full notebook cells\n",
       "var notebookContainer = gd.closest('#notebook-container');\n",
       "if (notebookContainer) {{\n",
       "    x.observe(notebookContainer, {childList: true});\n",
       "}}\n",
       "\n",
       "// Listen for the clearing of the current output cell\n",
       "var outputEl = gd.closest('.output');\n",
       "if (outputEl) {{\n",
       "    x.observe(outputEl, {childList: true});\n",
       "}}\n",
       "\n",
       "                        })                };                });            </script>        </div>"
      ]
     },
     "metadata": {},
     "output_type": "display_data"
    }
   ],
   "source": [
    "import figureGeneration\n",
    "\n",
    "figureGeneration.create_charging_power_figure(simulation_day)"
   ]
  },
  {
   "cell_type": "code",
   "execution_count": 7,
   "metadata": {},
   "outputs": [
    {
     "data": {
      "application/vnd.plotly.v1+json": {
       "config": {
        "plotlyServerURL": "https://plot.ly"
       },
       "data": [
        {
         "line": {
          "color": "orange"
         },
         "name": "Wartende BEVs",
         "type": "scatter",
         "x": [
          480,
          481,
          482,
          483,
          484,
          485,
          486,
          487,
          488,
          489,
          490,
          491,
          492,
          493,
          494,
          495,
          496,
          497,
          498,
          499,
          500,
          501,
          502,
          503,
          504,
          505,
          506,
          507,
          508,
          509,
          510,
          511,
          512,
          513,
          514,
          515,
          516,
          517,
          518,
          519,
          520,
          521,
          522,
          523,
          524,
          525,
          526,
          527,
          528,
          529,
          530,
          531,
          532,
          533,
          534,
          535,
          536,
          537,
          538,
          539,
          540,
          541,
          542,
          543,
          544,
          545,
          546,
          547,
          548,
          549,
          550,
          551,
          552,
          553,
          554,
          555,
          556,
          557,
          558,
          559,
          560,
          561,
          562,
          563,
          564,
          565,
          566,
          567,
          568,
          569,
          570,
          571,
          572,
          573,
          574,
          575,
          576,
          577,
          578,
          579,
          580,
          581,
          582,
          583,
          584,
          585,
          586,
          587,
          588,
          589,
          590,
          591,
          592,
          593,
          594,
          595,
          596,
          597,
          598,
          599,
          600,
          601,
          602,
          603,
          604,
          605,
          606,
          607,
          608,
          609,
          610,
          611,
          612,
          613,
          614,
          615,
          616,
          617,
          618,
          619,
          620,
          621,
          622,
          623,
          624,
          625,
          626,
          627,
          628,
          629,
          630,
          631,
          632,
          633,
          634,
          635,
          636,
          637,
          638,
          639,
          640,
          641,
          642,
          643,
          644,
          645,
          646,
          647,
          648,
          649,
          650,
          651,
          652,
          653,
          654,
          655,
          656,
          657,
          658,
          659,
          660,
          661,
          662,
          663,
          664,
          665,
          666,
          667,
          668,
          669,
          670,
          671,
          672,
          673,
          674,
          675,
          676,
          677,
          678,
          679,
          680,
          681,
          682,
          683,
          684,
          685,
          686,
          687,
          688,
          689,
          690,
          691,
          692,
          693,
          694,
          695,
          696,
          697,
          698,
          699,
          700,
          701,
          702,
          703,
          704,
          705,
          706,
          707,
          708,
          709,
          710,
          711,
          712,
          713,
          714,
          715,
          716,
          717,
          718,
          719,
          720,
          721,
          722,
          723,
          724,
          725,
          726,
          727,
          728,
          729,
          730,
          731,
          732,
          733,
          734,
          735,
          736,
          737,
          738,
          739,
          740,
          741,
          742,
          743,
          744,
          745,
          746,
          747,
          748,
          749,
          750,
          751,
          752,
          753,
          754,
          755,
          756,
          757,
          758,
          759,
          760,
          761,
          762,
          763,
          764,
          765,
          766,
          767,
          768,
          769,
          770,
          771,
          772,
          773,
          774,
          775,
          776,
          777,
          778,
          779,
          780,
          781,
          782,
          783,
          784,
          785,
          786,
          787,
          788,
          789,
          790,
          791,
          792,
          793,
          794,
          795,
          796,
          797,
          798,
          799,
          800,
          801,
          802,
          803,
          804,
          805,
          806,
          807,
          808,
          809,
          810,
          811,
          812,
          813,
          814,
          815,
          816,
          817,
          818,
          819,
          820,
          821,
          822,
          823,
          824,
          825,
          826,
          827,
          828,
          829,
          830,
          831,
          832,
          833,
          834,
          835,
          836,
          837,
          838,
          839,
          840,
          841,
          842,
          843,
          844,
          845,
          846,
          847,
          848,
          849,
          850,
          851,
          852,
          853,
          854,
          855,
          856,
          857,
          858,
          859,
          860,
          861,
          862,
          863,
          864,
          865,
          866,
          867,
          868,
          869,
          870,
          871,
          872,
          873,
          874,
          875,
          876,
          877,
          878,
          879,
          880,
          881,
          882,
          883,
          884,
          885,
          886,
          887,
          888,
          889,
          890,
          891,
          892,
          893,
          894,
          895,
          896,
          897,
          898,
          899,
          900,
          901,
          902,
          903,
          904,
          905,
          906,
          907,
          908,
          909,
          910,
          911,
          912,
          913,
          914,
          915,
          916,
          917,
          918,
          919,
          920,
          921,
          922,
          923,
          924,
          925,
          926,
          927,
          928,
          929,
          930,
          931,
          932,
          933,
          934,
          935,
          936,
          937,
          938,
          939,
          940,
          941,
          942,
          943,
          944,
          945,
          946,
          947,
          948,
          949,
          950,
          951,
          952,
          953,
          954,
          955,
          956,
          957,
          958,
          959,
          960
         ],
         "y": [
          30,
          30,
          30,
          30,
          30,
          30,
          30,
          30,
          30,
          30,
          30,
          30,
          30,
          30,
          30,
          30,
          30,
          30,
          30,
          30,
          30,
          30,
          30,
          30,
          30,
          30,
          30,
          30,
          30,
          30,
          42,
          41,
          41,
          41,
          41,
          41,
          41,
          41,
          41,
          41,
          41,
          41,
          41,
          41,
          40,
          40,
          40,
          40,
          40,
          40,
          40,
          40,
          40,
          40,
          40,
          40,
          40,
          40,
          40,
          40,
          48,
          47,
          47,
          47,
          47,
          47,
          47,
          46,
          46,
          46,
          46,
          46,
          46,
          46,
          46,
          46,
          46,
          45,
          45,
          45,
          45,
          45,
          45,
          45,
          45,
          45,
          44,
          44,
          44,
          44,
          45,
          45,
          45,
          45,
          45,
          45,
          45,
          45,
          45,
          45,
          45,
          45,
          45,
          44,
          43,
          43,
          43,
          43,
          43,
          43,
          43,
          43,
          42,
          42,
          42,
          41,
          41,
          41,
          41,
          41,
          41,
          41,
          40,
          40,
          40,
          40,
          40,
          40,
          40,
          40,
          40,
          40,
          40,
          40,
          40,
          40,
          39,
          39,
          39,
          39,
          39,
          39,
          39,
          39,
          39,
          39,
          38,
          37,
          37,
          37,
          37,
          37,
          37,
          36,
          36,
          36,
          35,
          35,
          35,
          35,
          35,
          35,
          35,
          35,
          35,
          34,
          34,
          34,
          34,
          34,
          34,
          34,
          34,
          34,
          34,
          34,
          34,
          33,
          33,
          33,
          33,
          32,
          32,
          32,
          32,
          32,
          31,
          31,
          30,
          30,
          30,
          30,
          30,
          30,
          30,
          30,
          30,
          30,
          30,
          30,
          29,
          29,
          29,
          29,
          29,
          29,
          29,
          29,
          29,
          29,
          29,
          29,
          29,
          29,
          29,
          29,
          29,
          29,
          28,
          28,
          26,
          26,
          26,
          26,
          25,
          25,
          25,
          25,
          24,
          24,
          24,
          24,
          24,
          24,
          24,
          24,
          24,
          24,
          24,
          24,
          26,
          25,
          25,
          25,
          25,
          25,
          25,
          25,
          25,
          24,
          24,
          24,
          24,
          24,
          24,
          23,
          22,
          22,
          22,
          21,
          21,
          21,
          21,
          21,
          21,
          21,
          21,
          21,
          21,
          21,
          21,
          21,
          21,
          21,
          21,
          21,
          21,
          21,
          21,
          21,
          21,
          21,
          21,
          21,
          21,
          21,
          21,
          21,
          21,
          21,
          21,
          21,
          21,
          21,
          21,
          21,
          21,
          21,
          21,
          21,
          28,
          24,
          24,
          24,
          24,
          24,
          24,
          24,
          24,
          24,
          24,
          24,
          24,
          24,
          24,
          24,
          24,
          21,
          21,
          21,
          21,
          21,
          21,
          21,
          21,
          21,
          21,
          21,
          21,
          21,
          24,
          23,
          22,
          22,
          22,
          22,
          22,
          22,
          22,
          22,
          22,
          22,
          21,
          21,
          21,
          21,
          20,
          20,
          20,
          20,
          20,
          20,
          20,
          20,
          20,
          19,
          19,
          18,
          18,
          18,
          18,
          16,
          16,
          16,
          16,
          16,
          16,
          16,
          16,
          16,
          16,
          16,
          16,
          16,
          16,
          16,
          16,
          16,
          16,
          16,
          16,
          16,
          16,
          16,
          16,
          16,
          16,
          16,
          16,
          16,
          16,
          16,
          16,
          16,
          16,
          16,
          16,
          16,
          16,
          16,
          16,
          16,
          15,
          15,
          14,
          14,
          14,
          14,
          14,
          14,
          14,
          14,
          14,
          14,
          14,
          14,
          14,
          14,
          14,
          14,
          14,
          14,
          14,
          14,
          14,
          14,
          14,
          14,
          14,
          14,
          14,
          14,
          14,
          14,
          14,
          14,
          14,
          14,
          14,
          14,
          14,
          14,
          14,
          14,
          14,
          14,
          14,
          14,
          14,
          14,
          13,
          13,
          13,
          13,
          13,
          13,
          13,
          13,
          13,
          13,
          13,
          13,
          13,
          13,
          13,
          13,
          13,
          13,
          13,
          13,
          13,
          13,
          13,
          13,
          13,
          13,
          13,
          13,
          13,
          13,
          13
         ]
        },
        {
         "line": {
          "color": "green"
         },
         "name": "Ladende BEVs",
         "type": "scatter",
         "x": [
          480,
          481,
          482,
          483,
          484,
          485,
          486,
          487,
          488,
          489,
          490,
          491,
          492,
          493,
          494,
          495,
          496,
          497,
          498,
          499,
          500,
          501,
          502,
          503,
          504,
          505,
          506,
          507,
          508,
          509,
          510,
          511,
          512,
          513,
          514,
          515,
          516,
          517,
          518,
          519,
          520,
          521,
          522,
          523,
          524,
          525,
          526,
          527,
          528,
          529,
          530,
          531,
          532,
          533,
          534,
          535,
          536,
          537,
          538,
          539,
          540,
          541,
          542,
          543,
          544,
          545,
          546,
          547,
          548,
          549,
          550,
          551,
          552,
          553,
          554,
          555,
          556,
          557,
          558,
          559,
          560,
          561,
          562,
          563,
          564,
          565,
          566,
          567,
          568,
          569,
          570,
          571,
          572,
          573,
          574,
          575,
          576,
          577,
          578,
          579,
          580,
          581,
          582,
          583,
          584,
          585,
          586,
          587,
          588,
          589,
          590,
          591,
          592,
          593,
          594,
          595,
          596,
          597,
          598,
          599,
          600,
          601,
          602,
          603,
          604,
          605,
          606,
          607,
          608,
          609,
          610,
          611,
          612,
          613,
          614,
          615,
          616,
          617,
          618,
          619,
          620,
          621,
          622,
          623,
          624,
          625,
          626,
          627,
          628,
          629,
          630,
          631,
          632,
          633,
          634,
          635,
          636,
          637,
          638,
          639,
          640,
          641,
          642,
          643,
          644,
          645,
          646,
          647,
          648,
          649,
          650,
          651,
          652,
          653,
          654,
          655,
          656,
          657,
          658,
          659,
          660,
          661,
          662,
          663,
          664,
          665,
          666,
          667,
          668,
          669,
          670,
          671,
          672,
          673,
          674,
          675,
          676,
          677,
          678,
          679,
          680,
          681,
          682,
          683,
          684,
          685,
          686,
          687,
          688,
          689,
          690,
          691,
          692,
          693,
          694,
          695,
          696,
          697,
          698,
          699,
          700,
          701,
          702,
          703,
          704,
          705,
          706,
          707,
          708,
          709,
          710,
          711,
          712,
          713,
          714,
          715,
          716,
          717,
          718,
          719,
          720,
          721,
          722,
          723,
          724,
          725,
          726,
          727,
          728,
          729,
          730,
          731,
          732,
          733,
          734,
          735,
          736,
          737,
          738,
          739,
          740,
          741,
          742,
          743,
          744,
          745,
          746,
          747,
          748,
          749,
          750,
          751,
          752,
          753,
          754,
          755,
          756,
          757,
          758,
          759,
          760,
          761,
          762,
          763,
          764,
          765,
          766,
          767,
          768,
          769,
          770,
          771,
          772,
          773,
          774,
          775,
          776,
          777,
          778,
          779,
          780,
          781,
          782,
          783,
          784,
          785,
          786,
          787,
          788,
          789,
          790,
          791,
          792,
          793,
          794,
          795,
          796,
          797,
          798,
          799,
          800,
          801,
          802,
          803,
          804,
          805,
          806,
          807,
          808,
          809,
          810,
          811,
          812,
          813,
          814,
          815,
          816,
          817,
          818,
          819,
          820,
          821,
          822,
          823,
          824,
          825,
          826,
          827,
          828,
          829,
          830,
          831,
          832,
          833,
          834,
          835,
          836,
          837,
          838,
          839,
          840,
          841,
          842,
          843,
          844,
          845,
          846,
          847,
          848,
          849,
          850,
          851,
          852,
          853,
          854,
          855,
          856,
          857,
          858,
          859,
          860,
          861,
          862,
          863,
          864,
          865,
          866,
          867,
          868,
          869,
          870,
          871,
          872,
          873,
          874,
          875,
          876,
          877,
          878,
          879,
          880,
          881,
          882,
          883,
          884,
          885,
          886,
          887,
          888,
          889,
          890,
          891,
          892,
          893,
          894,
          895,
          896,
          897,
          898,
          899,
          900,
          901,
          902,
          903,
          904,
          905,
          906,
          907,
          908,
          909,
          910,
          911,
          912,
          913,
          914,
          915,
          916,
          917,
          918,
          919,
          920,
          921,
          922,
          923,
          924,
          925,
          926,
          927,
          928,
          929,
          930,
          931,
          932,
          933,
          934,
          935,
          936,
          937,
          938,
          939,
          940,
          941,
          942,
          943,
          944,
          945,
          946,
          947,
          948,
          949,
          950,
          951,
          952,
          953,
          954,
          955,
          956,
          957,
          958,
          959,
          960
         ],
         "y": [
          0,
          0,
          0,
          0,
          0,
          0,
          0,
          0,
          0,
          0,
          0,
          0,
          0,
          0,
          0,
          0,
          0,
          0,
          0,
          0,
          0,
          0,
          0,
          0,
          0,
          0,
          0,
          0,
          0,
          0,
          1,
          1,
          1,
          1,
          1,
          1,
          1,
          1,
          1,
          1,
          1,
          1,
          1,
          2,
          2,
          2,
          2,
          2,
          2,
          2,
          2,
          2,
          2,
          2,
          2,
          2,
          2,
          1,
          1,
          1,
          2,
          2,
          2,
          2,
          2,
          2,
          3,
          3,
          3,
          3,
          3,
          3,
          3,
          3,
          3,
          3,
          3,
          3,
          3,
          3,
          3,
          3,
          3,
          3,
          3,
          4,
          4,
          4,
          4,
          4,
          4,
          4,
          4,
          4,
          4,
          4,
          4,
          4,
          4,
          4,
          4,
          4,
          5,
          5,
          5,
          5,
          5,
          5,
          5,
          5,
          5,
          5,
          5,
          5,
          5,
          5,
          5,
          5,
          5,
          5,
          5,
          5,
          5,
          5,
          5,
          5,
          5,
          5,
          5,
          5,
          5,
          5,
          5,
          5,
          5,
          5,
          5,
          5,
          5,
          5,
          5,
          5,
          5,
          5,
          5,
          5,
          5,
          5,
          5,
          5,
          5,
          5,
          5,
          5,
          5,
          5,
          5,
          5,
          5,
          5,
          5,
          5,
          5,
          5,
          5,
          5,
          5,
          5,
          5,
          5,
          5,
          5,
          5,
          5,
          5,
          5,
          5,
          5,
          5,
          5,
          5,
          5,
          5,
          5,
          5,
          5,
          5,
          5,
          5,
          5,
          5,
          5,
          5,
          5,
          5,
          5,
          5,
          5,
          5,
          5,
          5,
          5,
          5,
          5,
          5,
          5,
          5,
          5,
          5,
          5,
          5,
          5,
          5,
          5,
          5,
          5,
          5,
          6,
          6,
          6,
          6,
          6,
          6,
          6,
          6,
          6,
          6,
          6,
          6,
          6,
          6,
          6,
          6,
          5,
          5,
          5,
          5,
          5,
          4,
          4,
          5,
          5,
          5,
          5,
          5,
          5,
          5,
          5,
          5,
          5,
          5,
          5,
          5,
          5,
          5,
          5,
          5,
          5,
          5,
          5,
          5,
          4,
          4,
          4,
          4,
          4,
          4,
          4,
          4,
          4,
          4,
          4,
          4,
          4,
          4,
          4,
          4,
          4,
          3,
          3,
          3,
          3,
          3,
          3,
          2,
          1,
          0,
          0,
          0,
          0,
          0,
          0,
          0,
          0,
          0,
          0,
          0,
          0,
          0,
          0,
          4,
          4,
          4,
          4,
          4,
          4,
          4,
          4,
          4,
          4,
          4,
          4,
          4,
          4,
          4,
          4,
          3,
          3,
          3,
          3,
          3,
          3,
          3,
          3,
          3,
          3,
          3,
          3,
          3,
          3,
          4,
          4,
          4,
          4,
          4,
          4,
          4,
          4,
          4,
          4,
          4,
          4,
          4,
          4,
          4,
          4,
          4,
          4,
          4,
          4,
          4,
          4,
          4,
          4,
          4,
          4,
          4,
          4,
          4,
          4,
          4,
          4,
          4,
          4,
          4,
          4,
          4,
          4,
          4,
          4,
          4,
          4,
          4,
          4,
          4,
          4,
          4,
          4,
          4,
          4,
          4,
          4,
          4,
          4,
          4,
          4,
          4,
          3,
          3,
          3,
          3,
          3,
          3,
          3,
          3,
          3,
          3,
          3,
          3,
          3,
          3,
          3,
          3,
          3,
          3,
          3,
          3,
          3,
          3,
          2,
          2,
          2,
          2,
          2,
          2,
          2,
          2,
          2,
          2,
          2,
          2,
          2,
          2,
          2,
          2,
          2,
          2,
          2,
          2,
          2,
          2,
          2,
          2,
          2,
          2,
          2,
          2,
          2,
          2,
          2,
          2,
          2,
          2,
          1,
          1,
          1,
          1,
          1,
          1,
          1,
          1,
          1,
          1,
          1,
          1,
          1,
          1,
          1,
          1,
          1,
          1,
          0,
          0,
          0,
          0,
          0,
          0,
          0,
          0,
          0,
          0,
          0,
          0,
          0,
          0,
          0,
          0,
          0,
          0,
          0,
          0
         ]
        }
       ],
       "layout": {
        "legend": {
         "tracegroupgap": 0
        },
        "margin": {
         "t": 60
        },
        "template": {
         "data": {
          "bar": [
           {
            "error_x": {
             "color": "#2a3f5f"
            },
            "error_y": {
             "color": "#2a3f5f"
            },
            "marker": {
             "line": {
              "color": "white",
              "width": 0.5
             },
             "pattern": {
              "fillmode": "overlay",
              "size": 10,
              "solidity": 0.2
             }
            },
            "type": "bar"
           }
          ],
          "barpolar": [
           {
            "marker": {
             "line": {
              "color": "white",
              "width": 0.5
             },
             "pattern": {
              "fillmode": "overlay",
              "size": 10,
              "solidity": 0.2
             }
            },
            "type": "barpolar"
           }
          ],
          "carpet": [
           {
            "aaxis": {
             "endlinecolor": "#2a3f5f",
             "gridcolor": "#C8D4E3",
             "linecolor": "#C8D4E3",
             "minorgridcolor": "#C8D4E3",
             "startlinecolor": "#2a3f5f"
            },
            "baxis": {
             "endlinecolor": "#2a3f5f",
             "gridcolor": "#C8D4E3",
             "linecolor": "#C8D4E3",
             "minorgridcolor": "#C8D4E3",
             "startlinecolor": "#2a3f5f"
            },
            "type": "carpet"
           }
          ],
          "choropleth": [
           {
            "colorbar": {
             "outlinewidth": 0,
             "ticks": ""
            },
            "type": "choropleth"
           }
          ],
          "contour": [
           {
            "colorbar": {
             "outlinewidth": 0,
             "ticks": ""
            },
            "colorscale": [
             [
              0,
              "#0d0887"
             ],
             [
              0.1111111111111111,
              "#46039f"
             ],
             [
              0.2222222222222222,
              "#7201a8"
             ],
             [
              0.3333333333333333,
              "#9c179e"
             ],
             [
              0.4444444444444444,
              "#bd3786"
             ],
             [
              0.5555555555555556,
              "#d8576b"
             ],
             [
              0.6666666666666666,
              "#ed7953"
             ],
             [
              0.7777777777777778,
              "#fb9f3a"
             ],
             [
              0.8888888888888888,
              "#fdca26"
             ],
             [
              1,
              "#f0f921"
             ]
            ],
            "type": "contour"
           }
          ],
          "contourcarpet": [
           {
            "colorbar": {
             "outlinewidth": 0,
             "ticks": ""
            },
            "type": "contourcarpet"
           }
          ],
          "heatmap": [
           {
            "colorbar": {
             "outlinewidth": 0,
             "ticks": ""
            },
            "colorscale": [
             [
              0,
              "#0d0887"
             ],
             [
              0.1111111111111111,
              "#46039f"
             ],
             [
              0.2222222222222222,
              "#7201a8"
             ],
             [
              0.3333333333333333,
              "#9c179e"
             ],
             [
              0.4444444444444444,
              "#bd3786"
             ],
             [
              0.5555555555555556,
              "#d8576b"
             ],
             [
              0.6666666666666666,
              "#ed7953"
             ],
             [
              0.7777777777777778,
              "#fb9f3a"
             ],
             [
              0.8888888888888888,
              "#fdca26"
             ],
             [
              1,
              "#f0f921"
             ]
            ],
            "type": "heatmap"
           }
          ],
          "heatmapgl": [
           {
            "colorbar": {
             "outlinewidth": 0,
             "ticks": ""
            },
            "colorscale": [
             [
              0,
              "#0d0887"
             ],
             [
              0.1111111111111111,
              "#46039f"
             ],
             [
              0.2222222222222222,
              "#7201a8"
             ],
             [
              0.3333333333333333,
              "#9c179e"
             ],
             [
              0.4444444444444444,
              "#bd3786"
             ],
             [
              0.5555555555555556,
              "#d8576b"
             ],
             [
              0.6666666666666666,
              "#ed7953"
             ],
             [
              0.7777777777777778,
              "#fb9f3a"
             ],
             [
              0.8888888888888888,
              "#fdca26"
             ],
             [
              1,
              "#f0f921"
             ]
            ],
            "type": "heatmapgl"
           }
          ],
          "histogram": [
           {
            "marker": {
             "pattern": {
              "fillmode": "overlay",
              "size": 10,
              "solidity": 0.2
             }
            },
            "type": "histogram"
           }
          ],
          "histogram2d": [
           {
            "colorbar": {
             "outlinewidth": 0,
             "ticks": ""
            },
            "colorscale": [
             [
              0,
              "#0d0887"
             ],
             [
              0.1111111111111111,
              "#46039f"
             ],
             [
              0.2222222222222222,
              "#7201a8"
             ],
             [
              0.3333333333333333,
              "#9c179e"
             ],
             [
              0.4444444444444444,
              "#bd3786"
             ],
             [
              0.5555555555555556,
              "#d8576b"
             ],
             [
              0.6666666666666666,
              "#ed7953"
             ],
             [
              0.7777777777777778,
              "#fb9f3a"
             ],
             [
              0.8888888888888888,
              "#fdca26"
             ],
             [
              1,
              "#f0f921"
             ]
            ],
            "type": "histogram2d"
           }
          ],
          "histogram2dcontour": [
           {
            "colorbar": {
             "outlinewidth": 0,
             "ticks": ""
            },
            "colorscale": [
             [
              0,
              "#0d0887"
             ],
             [
              0.1111111111111111,
              "#46039f"
             ],
             [
              0.2222222222222222,
              "#7201a8"
             ],
             [
              0.3333333333333333,
              "#9c179e"
             ],
             [
              0.4444444444444444,
              "#bd3786"
             ],
             [
              0.5555555555555556,
              "#d8576b"
             ],
             [
              0.6666666666666666,
              "#ed7953"
             ],
             [
              0.7777777777777778,
              "#fb9f3a"
             ],
             [
              0.8888888888888888,
              "#fdca26"
             ],
             [
              1,
              "#f0f921"
             ]
            ],
            "type": "histogram2dcontour"
           }
          ],
          "mesh3d": [
           {
            "colorbar": {
             "outlinewidth": 0,
             "ticks": ""
            },
            "type": "mesh3d"
           }
          ],
          "parcoords": [
           {
            "line": {
             "colorbar": {
              "outlinewidth": 0,
              "ticks": ""
             }
            },
            "type": "parcoords"
           }
          ],
          "pie": [
           {
            "automargin": true,
            "type": "pie"
           }
          ],
          "scatter": [
           {
            "marker": {
             "colorbar": {
              "outlinewidth": 0,
              "ticks": ""
             }
            },
            "type": "scatter"
           }
          ],
          "scatter3d": [
           {
            "line": {
             "colorbar": {
              "outlinewidth": 0,
              "ticks": ""
             }
            },
            "marker": {
             "colorbar": {
              "outlinewidth": 0,
              "ticks": ""
             }
            },
            "type": "scatter3d"
           }
          ],
          "scattercarpet": [
           {
            "marker": {
             "colorbar": {
              "outlinewidth": 0,
              "ticks": ""
             }
            },
            "type": "scattercarpet"
           }
          ],
          "scattergeo": [
           {
            "marker": {
             "colorbar": {
              "outlinewidth": 0,
              "ticks": ""
             }
            },
            "type": "scattergeo"
           }
          ],
          "scattergl": [
           {
            "marker": {
             "colorbar": {
              "outlinewidth": 0,
              "ticks": ""
             }
            },
            "type": "scattergl"
           }
          ],
          "scattermapbox": [
           {
            "marker": {
             "colorbar": {
              "outlinewidth": 0,
              "ticks": ""
             }
            },
            "type": "scattermapbox"
           }
          ],
          "scatterpolar": [
           {
            "marker": {
             "colorbar": {
              "outlinewidth": 0,
              "ticks": ""
             }
            },
            "type": "scatterpolar"
           }
          ],
          "scatterpolargl": [
           {
            "marker": {
             "colorbar": {
              "outlinewidth": 0,
              "ticks": ""
             }
            },
            "type": "scatterpolargl"
           }
          ],
          "scatterternary": [
           {
            "marker": {
             "colorbar": {
              "outlinewidth": 0,
              "ticks": ""
             }
            },
            "type": "scatterternary"
           }
          ],
          "surface": [
           {
            "colorbar": {
             "outlinewidth": 0,
             "ticks": ""
            },
            "colorscale": [
             [
              0,
              "#0d0887"
             ],
             [
              0.1111111111111111,
              "#46039f"
             ],
             [
              0.2222222222222222,
              "#7201a8"
             ],
             [
              0.3333333333333333,
              "#9c179e"
             ],
             [
              0.4444444444444444,
              "#bd3786"
             ],
             [
              0.5555555555555556,
              "#d8576b"
             ],
             [
              0.6666666666666666,
              "#ed7953"
             ],
             [
              0.7777777777777778,
              "#fb9f3a"
             ],
             [
              0.8888888888888888,
              "#fdca26"
             ],
             [
              1,
              "#f0f921"
             ]
            ],
            "type": "surface"
           }
          ],
          "table": [
           {
            "cells": {
             "fill": {
              "color": "#EBF0F8"
             },
             "line": {
              "color": "white"
             }
            },
            "header": {
             "fill": {
              "color": "#C8D4E3"
             },
             "line": {
              "color": "white"
             }
            },
            "type": "table"
           }
          ]
         },
         "layout": {
          "annotationdefaults": {
           "arrowcolor": "#2a3f5f",
           "arrowhead": 0,
           "arrowwidth": 1
          },
          "autotypenumbers": "strict",
          "coloraxis": {
           "colorbar": {
            "outlinewidth": 0,
            "ticks": ""
           }
          },
          "colorscale": {
           "diverging": [
            [
             0,
             "#8e0152"
            ],
            [
             0.1,
             "#c51b7d"
            ],
            [
             0.2,
             "#de77ae"
            ],
            [
             0.3,
             "#f1b6da"
            ],
            [
             0.4,
             "#fde0ef"
            ],
            [
             0.5,
             "#f7f7f7"
            ],
            [
             0.6,
             "#e6f5d0"
            ],
            [
             0.7,
             "#b8e186"
            ],
            [
             0.8,
             "#7fbc41"
            ],
            [
             0.9,
             "#4d9221"
            ],
            [
             1,
             "#276419"
            ]
           ],
           "sequential": [
            [
             0,
             "#0d0887"
            ],
            [
             0.1111111111111111,
             "#46039f"
            ],
            [
             0.2222222222222222,
             "#7201a8"
            ],
            [
             0.3333333333333333,
             "#9c179e"
            ],
            [
             0.4444444444444444,
             "#bd3786"
            ],
            [
             0.5555555555555556,
             "#d8576b"
            ],
            [
             0.6666666666666666,
             "#ed7953"
            ],
            [
             0.7777777777777778,
             "#fb9f3a"
            ],
            [
             0.8888888888888888,
             "#fdca26"
            ],
            [
             1,
             "#f0f921"
            ]
           ],
           "sequentialminus": [
            [
             0,
             "#0d0887"
            ],
            [
             0.1111111111111111,
             "#46039f"
            ],
            [
             0.2222222222222222,
             "#7201a8"
            ],
            [
             0.3333333333333333,
             "#9c179e"
            ],
            [
             0.4444444444444444,
             "#bd3786"
            ],
            [
             0.5555555555555556,
             "#d8576b"
            ],
            [
             0.6666666666666666,
             "#ed7953"
            ],
            [
             0.7777777777777778,
             "#fb9f3a"
            ],
            [
             0.8888888888888888,
             "#fdca26"
            ],
            [
             1,
             "#f0f921"
            ]
           ]
          },
          "colorway": [
           "#636efa",
           "#EF553B",
           "#00cc96",
           "#ab63fa",
           "#FFA15A",
           "#19d3f3",
           "#FF6692",
           "#B6E880",
           "#FF97FF",
           "#FECB52"
          ],
          "font": {
           "color": "#2a3f5f"
          },
          "geo": {
           "bgcolor": "white",
           "lakecolor": "white",
           "landcolor": "white",
           "showlakes": true,
           "showland": true,
           "subunitcolor": "#C8D4E3"
          },
          "hoverlabel": {
           "align": "left"
          },
          "hovermode": "closest",
          "mapbox": {
           "style": "light"
          },
          "paper_bgcolor": "white",
          "plot_bgcolor": "white",
          "polar": {
           "angularaxis": {
            "gridcolor": "#EBF0F8",
            "linecolor": "#EBF0F8",
            "ticks": ""
           },
           "bgcolor": "white",
           "radialaxis": {
            "gridcolor": "#EBF0F8",
            "linecolor": "#EBF0F8",
            "ticks": ""
           }
          },
          "scene": {
           "xaxis": {
            "backgroundcolor": "white",
            "gridcolor": "#DFE8F3",
            "gridwidth": 2,
            "linecolor": "#EBF0F8",
            "showbackground": true,
            "ticks": "",
            "zerolinecolor": "#EBF0F8"
           },
           "yaxis": {
            "backgroundcolor": "white",
            "gridcolor": "#DFE8F3",
            "gridwidth": 2,
            "linecolor": "#EBF0F8",
            "showbackground": true,
            "ticks": "",
            "zerolinecolor": "#EBF0F8"
           },
           "zaxis": {
            "backgroundcolor": "white",
            "gridcolor": "#DFE8F3",
            "gridwidth": 2,
            "linecolor": "#EBF0F8",
            "showbackground": true,
            "ticks": "",
            "zerolinecolor": "#EBF0F8"
           }
          },
          "shapedefaults": {
           "line": {
            "color": "#2a3f5f"
           }
          },
          "ternary": {
           "aaxis": {
            "gridcolor": "#DFE8F3",
            "linecolor": "#A2B1C6",
            "ticks": ""
           },
           "baxis": {
            "gridcolor": "#DFE8F3",
            "linecolor": "#A2B1C6",
            "ticks": ""
           },
           "bgcolor": "white",
           "caxis": {
            "gridcolor": "#DFE8F3",
            "linecolor": "#A2B1C6",
            "ticks": ""
           }
          },
          "title": {
           "x": 0.05
          },
          "xaxis": {
           "automargin": true,
           "gridcolor": "#EBF0F8",
           "linecolor": "#EBF0F8",
           "ticks": "",
           "title": {
            "standoff": 15
           },
           "zerolinecolor": "#EBF0F8",
           "zerolinewidth": 2
          },
          "yaxis": {
           "automargin": true,
           "gridcolor": "#EBF0F8",
           "linecolor": "#EBF0F8",
           "ticks": "",
           "title": {
            "standoff": 15
           },
           "zerolinecolor": "#EBF0F8",
           "zerolinewidth": 2
          }
         }
        },
        "title": {
         "font": {
          "size": 24
         },
         "text": "Anzahl wartender und ladender BEVs im Tagesverlauf",
         "x": 0.5,
         "xanchor": "center"
        },
        "xaxis": {
         "anchor": "y",
         "domain": [
          0,
          1
         ],
         "title": {
          "text": "Minuten"
         }
        },
        "yaxis": {
         "anchor": "x",
         "domain": [
          0,
          1
         ],
         "title": {
          "text": "Anzahl BEVs"
         }
        }
       }
      },
      "text/html": [
       "<div>                            <div id=\"53fa1036-201a-4816-b6bf-5cb47ee30fce\" class=\"plotly-graph-div\" style=\"height:525px; width:100%;\"></div>            <script type=\"text/javascript\">                require([\"plotly\"], function(Plotly) {                    window.PLOTLYENV=window.PLOTLYENV || {};                                    if (document.getElementById(\"53fa1036-201a-4816-b6bf-5cb47ee30fce\")) {                    Plotly.newPlot(                        \"53fa1036-201a-4816-b6bf-5cb47ee30fce\",                        [{\"line\":{\"color\":\"orange\"},\"name\":\"Wartende BEVs\",\"x\":[480,481,482,483,484,485,486,487,488,489,490,491,492,493,494,495,496,497,498,499,500,501,502,503,504,505,506,507,508,509,510,511,512,513,514,515,516,517,518,519,520,521,522,523,524,525,526,527,528,529,530,531,532,533,534,535,536,537,538,539,540,541,542,543,544,545,546,547,548,549,550,551,552,553,554,555,556,557,558,559,560,561,562,563,564,565,566,567,568,569,570,571,572,573,574,575,576,577,578,579,580,581,582,583,584,585,586,587,588,589,590,591,592,593,594,595,596,597,598,599,600,601,602,603,604,605,606,607,608,609,610,611,612,613,614,615,616,617,618,619,620,621,622,623,624,625,626,627,628,629,630,631,632,633,634,635,636,637,638,639,640,641,642,643,644,645,646,647,648,649,650,651,652,653,654,655,656,657,658,659,660,661,662,663,664,665,666,667,668,669,670,671,672,673,674,675,676,677,678,679,680,681,682,683,684,685,686,687,688,689,690,691,692,693,694,695,696,697,698,699,700,701,702,703,704,705,706,707,708,709,710,711,712,713,714,715,716,717,718,719,720,721,722,723,724,725,726,727,728,729,730,731,732,733,734,735,736,737,738,739,740,741,742,743,744,745,746,747,748,749,750,751,752,753,754,755,756,757,758,759,760,761,762,763,764,765,766,767,768,769,770,771,772,773,774,775,776,777,778,779,780,781,782,783,784,785,786,787,788,789,790,791,792,793,794,795,796,797,798,799,800,801,802,803,804,805,806,807,808,809,810,811,812,813,814,815,816,817,818,819,820,821,822,823,824,825,826,827,828,829,830,831,832,833,834,835,836,837,838,839,840,841,842,843,844,845,846,847,848,849,850,851,852,853,854,855,856,857,858,859,860,861,862,863,864,865,866,867,868,869,870,871,872,873,874,875,876,877,878,879,880,881,882,883,884,885,886,887,888,889,890,891,892,893,894,895,896,897,898,899,900,901,902,903,904,905,906,907,908,909,910,911,912,913,914,915,916,917,918,919,920,921,922,923,924,925,926,927,928,929,930,931,932,933,934,935,936,937,938,939,940,941,942,943,944,945,946,947,948,949,950,951,952,953,954,955,956,957,958,959,960],\"y\":[30,30,30,30,30,30,30,30,30,30,30,30,30,30,30,30,30,30,30,30,30,30,30,30,30,30,30,30,30,30,42,41,41,41,41,41,41,41,41,41,41,41,41,41,40,40,40,40,40,40,40,40,40,40,40,40,40,40,40,40,48,47,47,47,47,47,47,46,46,46,46,46,46,46,46,46,46,45,45,45,45,45,45,45,45,45,44,44,44,44,45,45,45,45,45,45,45,45,45,45,45,45,45,44,43,43,43,43,43,43,43,43,42,42,42,41,41,41,41,41,41,41,40,40,40,40,40,40,40,40,40,40,40,40,40,40,39,39,39,39,39,39,39,39,39,39,38,37,37,37,37,37,37,36,36,36,35,35,35,35,35,35,35,35,35,34,34,34,34,34,34,34,34,34,34,34,34,33,33,33,33,32,32,32,32,32,31,31,30,30,30,30,30,30,30,30,30,30,30,30,29,29,29,29,29,29,29,29,29,29,29,29,29,29,29,29,29,29,28,28,26,26,26,26,25,25,25,25,24,24,24,24,24,24,24,24,24,24,24,24,26,25,25,25,25,25,25,25,25,24,24,24,24,24,24,23,22,22,22,21,21,21,21,21,21,21,21,21,21,21,21,21,21,21,21,21,21,21,21,21,21,21,21,21,21,21,21,21,21,21,21,21,21,21,21,21,21,21,21,21,28,24,24,24,24,24,24,24,24,24,24,24,24,24,24,24,24,21,21,21,21,21,21,21,21,21,21,21,21,21,24,23,22,22,22,22,22,22,22,22,22,22,21,21,21,21,20,20,20,20,20,20,20,20,20,19,19,18,18,18,18,16,16,16,16,16,16,16,16,16,16,16,16,16,16,16,16,16,16,16,16,16,16,16,16,16,16,16,16,16,16,16,16,16,16,16,16,16,16,16,16,16,15,15,14,14,14,14,14,14,14,14,14,14,14,14,14,14,14,14,14,14,14,14,14,14,14,14,14,14,14,14,14,14,14,14,14,14,14,14,14,14,14,14,14,14,14,14,14,14,13,13,13,13,13,13,13,13,13,13,13,13,13,13,13,13,13,13,13,13,13,13,13,13,13,13,13,13,13,13,13],\"type\":\"scatter\"},{\"line\":{\"color\":\"green\"},\"name\":\"Ladende BEVs\",\"x\":[480,481,482,483,484,485,486,487,488,489,490,491,492,493,494,495,496,497,498,499,500,501,502,503,504,505,506,507,508,509,510,511,512,513,514,515,516,517,518,519,520,521,522,523,524,525,526,527,528,529,530,531,532,533,534,535,536,537,538,539,540,541,542,543,544,545,546,547,548,549,550,551,552,553,554,555,556,557,558,559,560,561,562,563,564,565,566,567,568,569,570,571,572,573,574,575,576,577,578,579,580,581,582,583,584,585,586,587,588,589,590,591,592,593,594,595,596,597,598,599,600,601,602,603,604,605,606,607,608,609,610,611,612,613,614,615,616,617,618,619,620,621,622,623,624,625,626,627,628,629,630,631,632,633,634,635,636,637,638,639,640,641,642,643,644,645,646,647,648,649,650,651,652,653,654,655,656,657,658,659,660,661,662,663,664,665,666,667,668,669,670,671,672,673,674,675,676,677,678,679,680,681,682,683,684,685,686,687,688,689,690,691,692,693,694,695,696,697,698,699,700,701,702,703,704,705,706,707,708,709,710,711,712,713,714,715,716,717,718,719,720,721,722,723,724,725,726,727,728,729,730,731,732,733,734,735,736,737,738,739,740,741,742,743,744,745,746,747,748,749,750,751,752,753,754,755,756,757,758,759,760,761,762,763,764,765,766,767,768,769,770,771,772,773,774,775,776,777,778,779,780,781,782,783,784,785,786,787,788,789,790,791,792,793,794,795,796,797,798,799,800,801,802,803,804,805,806,807,808,809,810,811,812,813,814,815,816,817,818,819,820,821,822,823,824,825,826,827,828,829,830,831,832,833,834,835,836,837,838,839,840,841,842,843,844,845,846,847,848,849,850,851,852,853,854,855,856,857,858,859,860,861,862,863,864,865,866,867,868,869,870,871,872,873,874,875,876,877,878,879,880,881,882,883,884,885,886,887,888,889,890,891,892,893,894,895,896,897,898,899,900,901,902,903,904,905,906,907,908,909,910,911,912,913,914,915,916,917,918,919,920,921,922,923,924,925,926,927,928,929,930,931,932,933,934,935,936,937,938,939,940,941,942,943,944,945,946,947,948,949,950,951,952,953,954,955,956,957,958,959,960],\"y\":[0,0,0,0,0,0,0,0,0,0,0,0,0,0,0,0,0,0,0,0,0,0,0,0,0,0,0,0,0,0,1,1,1,1,1,1,1,1,1,1,1,1,1,2,2,2,2,2,2,2,2,2,2,2,2,2,2,1,1,1,2,2,2,2,2,2,3,3,3,3,3,3,3,3,3,3,3,3,3,3,3,3,3,3,3,4,4,4,4,4,4,4,4,4,4,4,4,4,4,4,4,4,5,5,5,5,5,5,5,5,5,5,5,5,5,5,5,5,5,5,5,5,5,5,5,5,5,5,5,5,5,5,5,5,5,5,5,5,5,5,5,5,5,5,5,5,5,5,5,5,5,5,5,5,5,5,5,5,5,5,5,5,5,5,5,5,5,5,5,5,5,5,5,5,5,5,5,5,5,5,5,5,5,5,5,5,5,5,5,5,5,5,5,5,5,5,5,5,5,5,5,5,5,5,5,5,5,5,5,5,5,5,5,5,5,5,5,6,6,6,6,6,6,6,6,6,6,6,6,6,6,6,6,5,5,5,5,5,4,4,5,5,5,5,5,5,5,5,5,5,5,5,5,5,5,5,5,5,5,5,5,4,4,4,4,4,4,4,4,4,4,4,4,4,4,4,4,4,3,3,3,3,3,3,2,1,0,0,0,0,0,0,0,0,0,0,0,0,0,0,4,4,4,4,4,4,4,4,4,4,4,4,4,4,4,4,3,3,3,3,3,3,3,3,3,3,3,3,3,3,4,4,4,4,4,4,4,4,4,4,4,4,4,4,4,4,4,4,4,4,4,4,4,4,4,4,4,4,4,4,4,4,4,4,4,4,4,4,4,4,4,4,4,4,4,4,4,4,4,4,4,4,4,4,4,4,4,3,3,3,3,3,3,3,3,3,3,3,3,3,3,3,3,3,3,3,3,3,3,2,2,2,2,2,2,2,2,2,2,2,2,2,2,2,2,2,2,2,2,2,2,2,2,2,2,2,2,2,2,2,2,2,2,1,1,1,1,1,1,1,1,1,1,1,1,1,1,1,1,1,1,0,0,0,0,0,0,0,0,0,0,0,0,0,0,0,0,0,0,0,0],\"type\":\"scatter\"}],                        {\"template\":{\"data\":{\"barpolar\":[{\"marker\":{\"line\":{\"color\":\"white\",\"width\":0.5},\"pattern\":{\"fillmode\":\"overlay\",\"size\":10,\"solidity\":0.2}},\"type\":\"barpolar\"}],\"bar\":[{\"error_x\":{\"color\":\"#2a3f5f\"},\"error_y\":{\"color\":\"#2a3f5f\"},\"marker\":{\"line\":{\"color\":\"white\",\"width\":0.5},\"pattern\":{\"fillmode\":\"overlay\",\"size\":10,\"solidity\":0.2}},\"type\":\"bar\"}],\"carpet\":[{\"aaxis\":{\"endlinecolor\":\"#2a3f5f\",\"gridcolor\":\"#C8D4E3\",\"linecolor\":\"#C8D4E3\",\"minorgridcolor\":\"#C8D4E3\",\"startlinecolor\":\"#2a3f5f\"},\"baxis\":{\"endlinecolor\":\"#2a3f5f\",\"gridcolor\":\"#C8D4E3\",\"linecolor\":\"#C8D4E3\",\"minorgridcolor\":\"#C8D4E3\",\"startlinecolor\":\"#2a3f5f\"},\"type\":\"carpet\"}],\"choropleth\":[{\"colorbar\":{\"outlinewidth\":0,\"ticks\":\"\"},\"type\":\"choropleth\"}],\"contourcarpet\":[{\"colorbar\":{\"outlinewidth\":0,\"ticks\":\"\"},\"type\":\"contourcarpet\"}],\"contour\":[{\"colorbar\":{\"outlinewidth\":0,\"ticks\":\"\"},\"colorscale\":[[0.0,\"#0d0887\"],[0.1111111111111111,\"#46039f\"],[0.2222222222222222,\"#7201a8\"],[0.3333333333333333,\"#9c179e\"],[0.4444444444444444,\"#bd3786\"],[0.5555555555555556,\"#d8576b\"],[0.6666666666666666,\"#ed7953\"],[0.7777777777777778,\"#fb9f3a\"],[0.8888888888888888,\"#fdca26\"],[1.0,\"#f0f921\"]],\"type\":\"contour\"}],\"heatmapgl\":[{\"colorbar\":{\"outlinewidth\":0,\"ticks\":\"\"},\"colorscale\":[[0.0,\"#0d0887\"],[0.1111111111111111,\"#46039f\"],[0.2222222222222222,\"#7201a8\"],[0.3333333333333333,\"#9c179e\"],[0.4444444444444444,\"#bd3786\"],[0.5555555555555556,\"#d8576b\"],[0.6666666666666666,\"#ed7953\"],[0.7777777777777778,\"#fb9f3a\"],[0.8888888888888888,\"#fdca26\"],[1.0,\"#f0f921\"]],\"type\":\"heatmapgl\"}],\"heatmap\":[{\"colorbar\":{\"outlinewidth\":0,\"ticks\":\"\"},\"colorscale\":[[0.0,\"#0d0887\"],[0.1111111111111111,\"#46039f\"],[0.2222222222222222,\"#7201a8\"],[0.3333333333333333,\"#9c179e\"],[0.4444444444444444,\"#bd3786\"],[0.5555555555555556,\"#d8576b\"],[0.6666666666666666,\"#ed7953\"],[0.7777777777777778,\"#fb9f3a\"],[0.8888888888888888,\"#fdca26\"],[1.0,\"#f0f921\"]],\"type\":\"heatmap\"}],\"histogram2dcontour\":[{\"colorbar\":{\"outlinewidth\":0,\"ticks\":\"\"},\"colorscale\":[[0.0,\"#0d0887\"],[0.1111111111111111,\"#46039f\"],[0.2222222222222222,\"#7201a8\"],[0.3333333333333333,\"#9c179e\"],[0.4444444444444444,\"#bd3786\"],[0.5555555555555556,\"#d8576b\"],[0.6666666666666666,\"#ed7953\"],[0.7777777777777778,\"#fb9f3a\"],[0.8888888888888888,\"#fdca26\"],[1.0,\"#f0f921\"]],\"type\":\"histogram2dcontour\"}],\"histogram2d\":[{\"colorbar\":{\"outlinewidth\":0,\"ticks\":\"\"},\"colorscale\":[[0.0,\"#0d0887\"],[0.1111111111111111,\"#46039f\"],[0.2222222222222222,\"#7201a8\"],[0.3333333333333333,\"#9c179e\"],[0.4444444444444444,\"#bd3786\"],[0.5555555555555556,\"#d8576b\"],[0.6666666666666666,\"#ed7953\"],[0.7777777777777778,\"#fb9f3a\"],[0.8888888888888888,\"#fdca26\"],[1.0,\"#f0f921\"]],\"type\":\"histogram2d\"}],\"histogram\":[{\"marker\":{\"pattern\":{\"fillmode\":\"overlay\",\"size\":10,\"solidity\":0.2}},\"type\":\"histogram\"}],\"mesh3d\":[{\"colorbar\":{\"outlinewidth\":0,\"ticks\":\"\"},\"type\":\"mesh3d\"}],\"parcoords\":[{\"line\":{\"colorbar\":{\"outlinewidth\":0,\"ticks\":\"\"}},\"type\":\"parcoords\"}],\"pie\":[{\"automargin\":true,\"type\":\"pie\"}],\"scatter3d\":[{\"line\":{\"colorbar\":{\"outlinewidth\":0,\"ticks\":\"\"}},\"marker\":{\"colorbar\":{\"outlinewidth\":0,\"ticks\":\"\"}},\"type\":\"scatter3d\"}],\"scattercarpet\":[{\"marker\":{\"colorbar\":{\"outlinewidth\":0,\"ticks\":\"\"}},\"type\":\"scattercarpet\"}],\"scattergeo\":[{\"marker\":{\"colorbar\":{\"outlinewidth\":0,\"ticks\":\"\"}},\"type\":\"scattergeo\"}],\"scattergl\":[{\"marker\":{\"colorbar\":{\"outlinewidth\":0,\"ticks\":\"\"}},\"type\":\"scattergl\"}],\"scattermapbox\":[{\"marker\":{\"colorbar\":{\"outlinewidth\":0,\"ticks\":\"\"}},\"type\":\"scattermapbox\"}],\"scatterpolargl\":[{\"marker\":{\"colorbar\":{\"outlinewidth\":0,\"ticks\":\"\"}},\"type\":\"scatterpolargl\"}],\"scatterpolar\":[{\"marker\":{\"colorbar\":{\"outlinewidth\":0,\"ticks\":\"\"}},\"type\":\"scatterpolar\"}],\"scatter\":[{\"marker\":{\"colorbar\":{\"outlinewidth\":0,\"ticks\":\"\"}},\"type\":\"scatter\"}],\"scatterternary\":[{\"marker\":{\"colorbar\":{\"outlinewidth\":0,\"ticks\":\"\"}},\"type\":\"scatterternary\"}],\"surface\":[{\"colorbar\":{\"outlinewidth\":0,\"ticks\":\"\"},\"colorscale\":[[0.0,\"#0d0887\"],[0.1111111111111111,\"#46039f\"],[0.2222222222222222,\"#7201a8\"],[0.3333333333333333,\"#9c179e\"],[0.4444444444444444,\"#bd3786\"],[0.5555555555555556,\"#d8576b\"],[0.6666666666666666,\"#ed7953\"],[0.7777777777777778,\"#fb9f3a\"],[0.8888888888888888,\"#fdca26\"],[1.0,\"#f0f921\"]],\"type\":\"surface\"}],\"table\":[{\"cells\":{\"fill\":{\"color\":\"#EBF0F8\"},\"line\":{\"color\":\"white\"}},\"header\":{\"fill\":{\"color\":\"#C8D4E3\"},\"line\":{\"color\":\"white\"}},\"type\":\"table\"}]},\"layout\":{\"annotationdefaults\":{\"arrowcolor\":\"#2a3f5f\",\"arrowhead\":0,\"arrowwidth\":1},\"autotypenumbers\":\"strict\",\"coloraxis\":{\"colorbar\":{\"outlinewidth\":0,\"ticks\":\"\"}},\"colorscale\":{\"diverging\":[[0,\"#8e0152\"],[0.1,\"#c51b7d\"],[0.2,\"#de77ae\"],[0.3,\"#f1b6da\"],[0.4,\"#fde0ef\"],[0.5,\"#f7f7f7\"],[0.6,\"#e6f5d0\"],[0.7,\"#b8e186\"],[0.8,\"#7fbc41\"],[0.9,\"#4d9221\"],[1,\"#276419\"]],\"sequential\":[[0.0,\"#0d0887\"],[0.1111111111111111,\"#46039f\"],[0.2222222222222222,\"#7201a8\"],[0.3333333333333333,\"#9c179e\"],[0.4444444444444444,\"#bd3786\"],[0.5555555555555556,\"#d8576b\"],[0.6666666666666666,\"#ed7953\"],[0.7777777777777778,\"#fb9f3a\"],[0.8888888888888888,\"#fdca26\"],[1.0,\"#f0f921\"]],\"sequentialminus\":[[0.0,\"#0d0887\"],[0.1111111111111111,\"#46039f\"],[0.2222222222222222,\"#7201a8\"],[0.3333333333333333,\"#9c179e\"],[0.4444444444444444,\"#bd3786\"],[0.5555555555555556,\"#d8576b\"],[0.6666666666666666,\"#ed7953\"],[0.7777777777777778,\"#fb9f3a\"],[0.8888888888888888,\"#fdca26\"],[1.0,\"#f0f921\"]]},\"colorway\":[\"#636efa\",\"#EF553B\",\"#00cc96\",\"#ab63fa\",\"#FFA15A\",\"#19d3f3\",\"#FF6692\",\"#B6E880\",\"#FF97FF\",\"#FECB52\"],\"font\":{\"color\":\"#2a3f5f\"},\"geo\":{\"bgcolor\":\"white\",\"lakecolor\":\"white\",\"landcolor\":\"white\",\"showlakes\":true,\"showland\":true,\"subunitcolor\":\"#C8D4E3\"},\"hoverlabel\":{\"align\":\"left\"},\"hovermode\":\"closest\",\"mapbox\":{\"style\":\"light\"},\"paper_bgcolor\":\"white\",\"plot_bgcolor\":\"white\",\"polar\":{\"angularaxis\":{\"gridcolor\":\"#EBF0F8\",\"linecolor\":\"#EBF0F8\",\"ticks\":\"\"},\"bgcolor\":\"white\",\"radialaxis\":{\"gridcolor\":\"#EBF0F8\",\"linecolor\":\"#EBF0F8\",\"ticks\":\"\"}},\"scene\":{\"xaxis\":{\"backgroundcolor\":\"white\",\"gridcolor\":\"#DFE8F3\",\"gridwidth\":2,\"linecolor\":\"#EBF0F8\",\"showbackground\":true,\"ticks\":\"\",\"zerolinecolor\":\"#EBF0F8\"},\"yaxis\":{\"backgroundcolor\":\"white\",\"gridcolor\":\"#DFE8F3\",\"gridwidth\":2,\"linecolor\":\"#EBF0F8\",\"showbackground\":true,\"ticks\":\"\",\"zerolinecolor\":\"#EBF0F8\"},\"zaxis\":{\"backgroundcolor\":\"white\",\"gridcolor\":\"#DFE8F3\",\"gridwidth\":2,\"linecolor\":\"#EBF0F8\",\"showbackground\":true,\"ticks\":\"\",\"zerolinecolor\":\"#EBF0F8\"}},\"shapedefaults\":{\"line\":{\"color\":\"#2a3f5f\"}},\"ternary\":{\"aaxis\":{\"gridcolor\":\"#DFE8F3\",\"linecolor\":\"#A2B1C6\",\"ticks\":\"\"},\"baxis\":{\"gridcolor\":\"#DFE8F3\",\"linecolor\":\"#A2B1C6\",\"ticks\":\"\"},\"bgcolor\":\"white\",\"caxis\":{\"gridcolor\":\"#DFE8F3\",\"linecolor\":\"#A2B1C6\",\"ticks\":\"\"}},\"title\":{\"x\":0.05},\"xaxis\":{\"automargin\":true,\"gridcolor\":\"#EBF0F8\",\"linecolor\":\"#EBF0F8\",\"ticks\":\"\",\"title\":{\"standoff\":15},\"zerolinecolor\":\"#EBF0F8\",\"zerolinewidth\":2},\"yaxis\":{\"automargin\":true,\"gridcolor\":\"#EBF0F8\",\"linecolor\":\"#EBF0F8\",\"ticks\":\"\",\"title\":{\"standoff\":15},\"zerolinecolor\":\"#EBF0F8\",\"zerolinewidth\":2}}},\"xaxis\":{\"anchor\":\"y\",\"domain\":[0.0,1.0],\"title\":{\"text\":\"Minuten\"}},\"yaxis\":{\"anchor\":\"x\",\"domain\":[0.0,1.0],\"title\":{\"text\":\"Anzahl BEVs\"}},\"legend\":{\"tracegroupgap\":0},\"margin\":{\"t\":60},\"title\":{\"font\":{\"size\":24},\"text\":\"Anzahl wartender und ladender BEVs im Tagesverlauf\",\"x\":0.5,\"xanchor\":\"center\"}},                        {\"responsive\": true}                    ).then(function(){\n",
       "                            \n",
       "var gd = document.getElementById('53fa1036-201a-4816-b6bf-5cb47ee30fce');\n",
       "var x = new MutationObserver(function (mutations, observer) {{\n",
       "        var display = window.getComputedStyle(gd).display;\n",
       "        if (!display || display === 'none') {{\n",
       "            console.log([gd, 'removed!']);\n",
       "            Plotly.purge(gd);\n",
       "            observer.disconnect();\n",
       "        }}\n",
       "}});\n",
       "\n",
       "// Listen for the removal of the full notebook cells\n",
       "var notebookContainer = gd.closest('#notebook-container');\n",
       "if (notebookContainer) {{\n",
       "    x.observe(notebookContainer, {childList: true});\n",
       "}}\n",
       "\n",
       "// Listen for the clearing of the current output cell\n",
       "var outputEl = gd.closest('.output');\n",
       "if (outputEl) {{\n",
       "    x.observe(outputEl, {childList: true});\n",
       "}}\n",
       "\n",
       "                        })                };                });            </script>        </div>"
      ]
     },
     "metadata": {},
     "output_type": "display_data"
    }
   ],
   "source": [
    "figureGeneration.create_bev_number_figure(simulation_data)"
   ]
  }
 ],
 "metadata": {
  "kernelspec": {
   "display_name": "Python 3 (ipykernel)",
   "language": "python",
   "name": "python3"
  },
  "language_info": {
   "codemirror_mode": {
    "name": "ipython",
    "version": 3
   },
   "file_extension": ".py",
   "mimetype": "text/x-python",
   "name": "python",
   "nbconvert_exporter": "python",
   "pygments_lexer": "ipython3",
   "version": "3.9.5"
  }
 },
 "nbformat": 4,
 "nbformat_minor": 4
}
