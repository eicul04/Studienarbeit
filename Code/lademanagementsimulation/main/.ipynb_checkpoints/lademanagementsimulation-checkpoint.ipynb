{
 "cells": [
  {
   "cell_type": "markdown",
   "metadata": {
    "pycharm": {
     "name": "#%% md\n"
    }
   },
   "source": [
    "# Lademanagementsimulation   \n"
   ]
  },
  {
   "cell_type": "markdown",
   "metadata": {},
   "source": [
    "### Simulations Eingabeparameter"
   ]
  },
  {
   "cell_type": "code",
   "execution_count": 1,
   "metadata": {
    "pycharm": {
     "name": "#%%\n"
    }
   },
   "outputs": [],
   "source": [
    "solarpeakleistung = 100 #Einheit Kilowattpeak (kWP)\n",
    "anzahl_bevs_pro_tag = 100\n",
    "ladeleistung_pro_bev = 2 #Einheit kW\n",
    "maximale_ladezeit = 30 #Einheit Minuten"
   ]
  },
  {
   "cell_type": "markdown",
   "metadata": {},
   "source": [
    "### Verteilungsalgorithmus Polling\n",
    "Sobald der verfügbare Solarstrom über 0 ist, wird die Anzahl wartender BEVs (die bis dahin angekommen sind und Laden wollen), die Anzahl ladender BEVs (die tatsächlich gerade getankt werden) und der verfügbare Solarstrom pro BEV (wartende + ladende BEVs) ausgegeben.\n",
    "- pro BEV Ladeleistung von z.B. 2kW, wenn verfügbarer Solarstrom > ladeleistung, dann aufteilen auf mehrere BEVs\n",
    "- aktuell wartende Verbraucher werden in einer Pollingliste abgearbeitet, nach einem variablen Zeitintervall (maximale_ladezeit, z.B. 30min) wird Verbraucher wieder hinten an die Pollingliste angefügt. \n",
    "- entweder einmal oder mehrmals Laden (ggf. zwei Algorithmen)"
   ]
  },
  {
   "cell_type": "markdown",
   "metadata": {},
   "source": [
    "#### Tagesverlauf der BEVs"
   ]
  },
  {
   "cell_type": "code",
   "execution_count": 3,
   "metadata": {
    "pycharm": {
     "is_executing": true
    }
   },
   "outputs": [
    {
     "data": {
      "application/vnd.jupyter.widget-view+json": {
       "model_id": "dd82f301d43241de95a930df425ff6a4",
       "version_major": 2,
       "version_minor": 0
      },
      "text/plain": [
       "interactive(children=(IntSlider(value=480, description='Minute: ', max=960, min=480), Output()), _dom_classes=…"
      ]
     },
     "metadata": {},
     "output_type": "display_data"
    },
    {
     "data": {
      "text/plain": [
       "<function ipywidgets.widgets.interaction._InteractFactory.__call__.<locals>.<lambda>(*args, **kwargs)>"
      ]
     },
     "execution_count": 3,
     "metadata": {},
     "output_type": "execute_result"
    }
   ],
   "source": [
    "import bevParkingManagementVisualisation\n",
    "import distributionAlgorithmPolling\n",
    "import simulationManagement\n",
    "import data\n",
    "from ipywidgets import Text, IntSlider, Dropdown,interact, interactive, fixed, interact_manual, Output\n",
    "import ipywidgets as widgets\n",
    "from IPython.display import display\n",
    "\n",
    "bev_parking_management = simulationManagement.BevParkingManagement(anzahl_bevs_pro_tag)\n",
    "visualisation_object = bevParkingManagementVisualisation.VisualisationObject()\n",
    "table_dict = bevParkingManagementVisualisation.TableDict()\n",
    "distributionAlgorithmPolling.start_simulation(solarpeakleistung, maximale_ladezeit, ladeleistung_pro_bev, bev_parking_management, visualisation_object, table_dict)\n",
    "\n",
    "slider = IntSlider(value=480, min=480, max=960, step=1, description='Minute: ')\n",
    "minute = slider.value\n",
    "interact(table_dict.show_table, minute=slider)\n"
   ]
  },
  {
   "cell_type": "markdown",
   "metadata": {},
   "source": [
    "### Simulations Visualisierung"
   ]
  },
  {
   "cell_type": "code",
   "execution_count": 4,
   "metadata": {
    "pycharm": {
     "name": "#%%\n"
    }
   },
   "outputs": [
    {
     "data": {
      "text/html": [
       "\n",
       "        <iframe\n",
       "            width=\"100%\"\n",
       "            height=\"650\"\n",
       "            src=\"http://127.0.0.1:8050/\"\n",
       "            frameborder=\"0\"\n",
       "            allowfullscreen\n",
       "            \n",
       "        ></iframe>\n",
       "        "
      ],
      "text/plain": [
       "<IPython.lib.display.IFrame at 0x25105a93070>"
      ]
     },
     "metadata": {},
     "output_type": "display_data"
    }
   ],
   "source": [
    "import jupyterDashApp\n",
    "jupyterDashApp.create_jupyter_dash_app(solarpeakleistung)"
   ]
  },
  {
   "cell_type": "markdown",
   "metadata": {
    "pycharm": {
     "is_executing": true
    }
   },
   "source": [
    "#### Quadratische Interpolation der verfügbaren Solarleistung"
   ]
  },
  {
   "cell_type": "code",
   "execution_count": 2,
   "metadata": {
    "scrolled": false
   },
   "outputs": [
    {
     "data": {
      "image/png": "[encoded data removed]",
      "text/plain": [
       "<Figure size 612x288 with 1 Axes>"
      ]
     },
     "metadata": {
      "needs_background": "light"
     },
     "output_type": "display_data"
    }
   ],
   "source": [
    "import figureGeneration\n",
    "\n",
    "figureGeneration.create_available_solar_power_figure_quadratic_interpolation(solarpeakleistung)"
   ]
  },
  {
   "cell_type": "code",
   "execution_count": 5,
   "metadata": {},
   "outputs": [
    {
     "data": {
      "application/vnd.plotly.v1+json": {
       "config": {
        "plotlyServerURL": "https://plot.ly"
       },
       "data": [],
       "layout": {
        "shapes": [
         {
          "line": {
           "color": "green"
          },
          "type": "rect",
          "x0": 906,
          "x1": 915,
          "xref": "x",
          "y0": 0,
          "y1": 0.259,
          "yref": "y"
         },
         {
          "line": {
           "color": "green"
          },
          "type": "rect",
          "x0": 502,
          "x1": 532,
          "xref": "x",
          "y0": 0,
          "y1": 0.727,
          "yref": "y"
         },
         {
          "line": {
           "color": "green"
          },
          "type": "rect",
          "x0": 622,
          "x1": 652,
          "xref": "x",
          "y0": 0,
          "y1": 0.968,
          "yref": "y"
         },
         {
          "line": {
           "color": "green"
          },
          "type": "rect",
          "x0": 563,
          "x1": 593,
          "xref": "x",
          "y0": 0,
          "y1": 0.968,
          "yref": "y"
         },
         {
          "line": {
           "color": "green"
          },
          "type": "rect",
          "x0": 685,
          "x1": 715,
          "xref": "x",
          "y0": 0,
          "y1": 0.963,
          "yref": "y"
         },
         {
          "line": {
           "color": "green"
          },
          "type": "rect",
          "x0": 511,
          "x1": 541,
          "xref": "x",
          "y0": 0,
          "y1": 0.857,
          "yref": "y"
         },
         {
          "line": {
           "color": "green"
          },
          "type": "rect",
          "x0": 652,
          "x1": 666,
          "xref": "x",
          "y0": 0,
          "y1": 0.453,
          "yref": "y"
         },
         {
          "line": {
           "color": "green"
          },
          "type": "rect",
          "x0": 565,
          "x1": 595,
          "xref": "x",
          "y0": 0,
          "y1": 0.969,
          "yref": "y"
         },
         {
          "line": {
           "color": "green"
          },
          "type": "rect",
          "x0": 687,
          "x1": 717,
          "xref": "x",
          "y0": 0,
          "y1": 0.961,
          "yref": "y"
         },
         {
          "line": {
           "color": "green"
          },
          "type": "rect",
          "x0": 822,
          "x1": 852,
          "xref": "x",
          "y0": 0,
          "y1": 0.956,
          "yref": "y"
         },
         {
          "line": {
           "color": "green"
          },
          "type": "rect",
          "x0": 623,
          "x1": 653,
          "xref": "x",
          "y0": 0,
          "y1": 0.968,
          "yref": "y"
         },
         {
          "line": {
           "color": "green"
          },
          "type": "rect",
          "x0": 764,
          "x1": 794,
          "xref": "x",
          "y0": 0,
          "y1": 0.944,
          "yref": "y"
         },
         {
          "line": {
           "color": "green"
          },
          "type": "rect",
          "x0": 625,
          "x1": 655,
          "xref": "x",
          "y0": 0,
          "y1": 0.968,
          "yref": "y"
         },
         {
          "line": {
           "color": "green"
          },
          "type": "rect",
          "x0": 777,
          "x1": 807,
          "xref": "x",
          "y0": 0,
          "y1": 0.943,
          "yref": "y"
         },
         {
          "line": {
           "color": "green"
          },
          "type": "rect",
          "x0": 627,
          "x1": 657,
          "xref": "x",
          "y0": 0,
          "y1": 0.969,
          "yref": "y"
         },
         {
          "line": {
           "color": "green"
          },
          "type": "rect",
          "x0": 781,
          "x1": 811,
          "xref": "x",
          "y0": 0,
          "y1": 0.947,
          "yref": "y"
         },
         {
          "line": {
           "color": "green"
          },
          "type": "rect",
          "x0": 567,
          "x1": 597,
          "xref": "x",
          "y0": 0,
          "y1": 0.97,
          "yref": "y"
         },
         {
          "line": {
           "color": "green"
          },
          "type": "rect",
          "x0": 690,
          "x1": 720,
          "xref": "x",
          "y0": 0,
          "y1": 0.957,
          "yref": "y"
         },
         {
          "line": {
           "color": "green"
          },
          "type": "rect",
          "x0": 846,
          "x1": 876,
          "xref": "x",
          "y0": 0,
          "y1": 0.958,
          "yref": "y"
         },
         {
          "line": {
           "color": "green"
          },
          "type": "rect",
          "x0": 518,
          "x1": 548,
          "xref": "x",
          "y0": 0,
          "y1": 0.888,
          "yref": "y"
         },
         {
          "line": {
           "color": "green"
          },
          "type": "rect",
          "x0": 653,
          "x1": 683,
          "xref": "x",
          "y0": 0,
          "y1": 0.964,
          "yref": "y"
         },
         {
          "line": {
           "color": "green"
          },
          "type": "rect",
          "x0": 794,
          "x1": 804,
          "xref": "x",
          "y0": 0,
          "y1": 0.313,
          "yref": "y"
         },
         {
          "line": {
           "color": "green"
          },
          "type": "rect",
          "x0": 691,
          "x1": 721,
          "xref": "x",
          "y0": 0,
          "y1": 0.959,
          "yref": "y"
         },
         {
          "line": {
           "color": "green"
          },
          "type": "rect",
          "x0": 907,
          "x1": 926,
          "xref": "x",
          "y0": 0,
          "y1": 0.538,
          "yref": "y"
         },
         {
          "line": {
           "color": "green"
          },
          "type": "rect",
          "x0": 822,
          "x1": 852,
          "xref": "x",
          "y0": 0,
          "y1": 0.956,
          "yref": "y"
         },
         {
          "line": {
           "color": "green"
          },
          "type": "rect",
          "x0": 909,
          "x1": 939,
          "xref": "x",
          "y0": 0,
          "y1": 0.849,
          "yref": "y"
         },
         {
          "line": {
           "color": "green"
          },
          "type": "rect",
          "x0": 912,
          "x1": 942,
          "xref": "x",
          "y0": 0,
          "y1": 0.837,
          "yref": "y"
         },
         {
          "line": {
           "color": "green"
          },
          "type": "rect",
          "x0": 571,
          "x1": 601,
          "xref": "x",
          "y0": 0,
          "y1": 0.973,
          "yref": "y"
         },
         {
          "line": {
           "color": "green"
          },
          "type": "rect",
          "x0": 691,
          "x1": 721,
          "xref": "x",
          "y0": 0,
          "y1": 0.959,
          "yref": "y"
         },
         {
          "line": {
           "color": "green"
          },
          "type": "rect",
          "x0": 846,
          "x1": 876,
          "xref": "x",
          "y0": 0,
          "y1": 0.958,
          "yref": "y"
         },
         {
          "line": {
           "color": "green"
          },
          "type": "rect",
          "x0": 822,
          "x1": 852,
          "xref": "x",
          "y0": 0,
          "y1": 0.956,
          "yref": "y"
         },
         {
          "line": {
           "color": "green"
          },
          "type": "rect",
          "x0": 524,
          "x1": 554,
          "xref": "x",
          "y0": 0,
          "y1": 0.912,
          "yref": "y"
         },
         {
          "line": {
           "color": "green"
          },
          "type": "rect",
          "x0": 655,
          "x1": 685,
          "xref": "x",
          "y0": 0,
          "y1": 0.964,
          "yref": "y"
         },
         {
          "line": {
           "color": "green"
          },
          "type": "rect",
          "x0": 912,
          "x1": 942,
          "xref": "x",
          "y0": 0,
          "y1": 0.837,
          "yref": "y"
         },
         {
          "line": {
           "color": "green"
          },
          "type": "rect",
          "x0": 571,
          "x1": 601,
          "xref": "x",
          "y0": 0,
          "y1": 0.973,
          "yref": "y"
         },
         {
          "line": {
           "color": "green"
          },
          "type": "rect",
          "x0": 691,
          "x1": 721,
          "xref": "x",
          "y0": 0,
          "y1": 0.959,
          "yref": "y"
         },
         {
          "line": {
           "color": "green"
          },
          "type": "rect",
          "x0": 661,
          "x1": 691,
          "xref": "x",
          "y0": 0,
          "y1": 0.966,
          "yref": "y"
         },
         {
          "line": {
           "color": "green"
          },
          "type": "rect",
          "x0": 808,
          "x1": 838,
          "xref": "x",
          "y0": 0,
          "y1": 0.955,
          "yref": "y"
         },
         {
          "line": {
           "color": "green"
          },
          "type": "rect",
          "x0": 876,
          "x1": 891,
          "xref": "x",
          "y0": 0,
          "y1": 0.46,
          "yref": "y"
         },
         {
          "line": {
           "color": "green"
          },
          "type": "rect",
          "x0": 571,
          "x1": 601,
          "xref": "x",
          "y0": 0,
          "y1": 0.973,
          "yref": "y"
         },
         {
          "line": {
           "color": "green"
          },
          "type": "rect",
          "x0": 694,
          "x1": 724,
          "xref": "x",
          "y0": 0,
          "y1": 0.963,
          "yref": "y"
         },
         {
          "line": {
           "color": "green"
          },
          "type": "rect",
          "x0": 848,
          "x1": 878,
          "xref": "x",
          "y0": 0,
          "y1": 0.955,
          "yref": "y"
         },
         {
          "line": {
           "color": "green"
          },
          "type": "rect",
          "x0": 574,
          "x1": 604,
          "xref": "x",
          "y0": 0,
          "y1": 0.972,
          "yref": "y"
         },
         {
          "line": {
           "color": "green"
          },
          "type": "rect",
          "x0": 696,
          "x1": 726,
          "xref": "x",
          "y0": 0,
          "y1": 0.964,
          "yref": "y"
         },
         {
          "line": {
           "color": "green"
          },
          "type": "rect",
          "x0": 876,
          "x1": 898,
          "xref": "x",
          "y0": 0,
          "y1": 0.671,
          "yref": "y"
         },
         {
          "line": {
           "color": "green"
          },
          "type": "rect",
          "x0": 876,
          "x1": 905,
          "xref": "x",
          "y0": 0,
          "y1": 0.88,
          "yref": "y"
         },
         {
          "line": {
           "color": "green"
          },
          "type": "rect",
          "x0": 530,
          "x1": 560,
          "xref": "x",
          "y0": 0,
          "y1": 0.925,
          "yref": "y"
         },
         {
          "line": {
           "color": "green"
          },
          "type": "rect",
          "x0": 657,
          "x1": 687,
          "xref": "x",
          "y0": 0,
          "y1": 0.964,
          "yref": "y"
         },
         {
          "line": {
           "color": "green"
          },
          "type": "rect",
          "x0": 802,
          "x1": 832,
          "xref": "x",
          "y0": 0,
          "y1": 0.952,
          "yref": "y"
         },
         {
          "line": {
           "color": "green"
          },
          "type": "rect",
          "x0": 575,
          "x1": 605,
          "xref": "x",
          "y0": 0,
          "y1": 0.973,
          "yref": "y"
         },
         {
          "line": {
           "color": "green"
          },
          "type": "rect",
          "x0": 698,
          "x1": 728,
          "xref": "x",
          "y0": 0,
          "y1": 0.964,
          "yref": "y"
         },
         {
          "line": {
           "color": "green"
          },
          "type": "rect",
          "x0": 849,
          "x1": 879,
          "xref": "x",
          "y0": 0,
          "y1": 0.956,
          "yref": "y"
         },
         {
          "line": {
           "color": "green"
          },
          "type": "rect",
          "x0": 578,
          "x1": 608,
          "xref": "x",
          "y0": 0,
          "y1": 0.972,
          "yref": "y"
         },
         {
          "line": {
           "color": "green"
          },
          "type": "rect",
          "x0": 700,
          "x1": 730,
          "xref": "x",
          "y0": 0,
          "y1": 0.963,
          "yref": "y"
         },
         {
          "line": {
           "color": "green"
          },
          "type": "rect",
          "x0": 631,
          "x1": 661,
          "xref": "x",
          "y0": 0,
          "y1": 0.97,
          "yref": "y"
         },
         {
          "line": {
           "color": "green"
          },
          "type": "rect",
          "x0": 788,
          "x1": 818,
          "xref": "x",
          "y0": 0,
          "y1": 0.951,
          "yref": "y"
         },
         {
          "line": {
           "color": "green"
          },
          "type": "rect",
          "x0": 579,
          "x1": 609,
          "xref": "x",
          "y0": 0,
          "y1": 0.971,
          "yref": "y"
         },
         {
          "line": {
           "color": "green"
          },
          "type": "rect",
          "x0": 702,
          "x1": 732,
          "xref": "x",
          "y0": 0,
          "y1": 0.961,
          "yref": "y"
         },
         {
          "line": {
           "color": "green"
          },
          "type": "rect",
          "x0": 631,
          "x1": 661,
          "xref": "x",
          "y0": 0,
          "y1": 0.97,
          "yref": "y"
         },
         {
          "line": {
           "color": "green"
          },
          "type": "rect",
          "x0": 789,
          "x1": 816,
          "xref": "x",
          "y0": 0,
          "y1": 0.854,
          "yref": "y"
         },
         {
          "line": {
           "color": "green"
          },
          "type": "rect",
          "x0": 580,
          "x1": 610,
          "xref": "x",
          "y0": 0,
          "y1": 0.971,
          "yref": "y"
         },
         {
          "line": {
           "color": "green"
          },
          "type": "rect",
          "x0": 704,
          "x1": 734,
          "xref": "x",
          "y0": 0,
          "y1": 0.963,
          "yref": "y"
         },
         {
          "line": {
           "color": "green"
          },
          "type": "rect",
          "x0": 852,
          "x1": 882,
          "xref": "x",
          "y0": 0,
          "y1": 0.957,
          "yref": "y"
         },
         {
          "line": {
           "color": "green"
          },
          "type": "rect",
          "x0": 939,
          "x1": 950,
          "xref": "x",
          "y0": 0,
          "y1": 0.258,
          "yref": "y"
         },
         {
          "line": {
           "color": "green"
          },
          "type": "rect",
          "x0": 823,
          "x1": 853,
          "xref": "x",
          "y0": 0,
          "y1": 0.955,
          "yref": "y"
         },
         {
          "line": {
           "color": "green"
          },
          "type": "rect",
          "x0": 584,
          "x1": 614,
          "xref": "x",
          "y0": 0,
          "y1": 0.969,
          "yref": "y"
         },
         {
          "line": {
           "color": "green"
          },
          "type": "rect",
          "x0": 704,
          "x1": 734,
          "xref": "x",
          "y0": 0,
          "y1": 0.963,
          "yref": "y"
         },
         {
          "line": {
           "color": "green"
          },
          "type": "rect",
          "x0": 852,
          "x1": 876,
          "xref": "x",
          "y0": 0,
          "y1": 0.768,
          "yref": "y"
         },
         {
          "line": {
           "color": "green"
          },
          "type": "rect",
          "x0": 584,
          "x1": 614,
          "xref": "x",
          "y0": 0,
          "y1": 0.969,
          "yref": "y"
         },
         {
          "line": {
           "color": "green"
          },
          "type": "rect",
          "x0": 704,
          "x1": 734,
          "xref": "x",
          "y0": 0,
          "y1": 0.963,
          "yref": "y"
         },
         {
          "line": {
           "color": "green"
          },
          "type": "rect",
          "x0": 852,
          "x1": 882,
          "xref": "x",
          "y0": 0,
          "y1": 0.957,
          "yref": "y"
         },
         {
          "line": {
           "color": "green"
          },
          "type": "rect",
          "x0": 631,
          "x1": 661,
          "xref": "x",
          "y0": 0,
          "y1": 0.97,
          "yref": "y"
         },
         {
          "line": {
           "color": "green"
          },
          "type": "rect",
          "x0": 634,
          "x1": 664,
          "xref": "x",
          "y0": 0,
          "y1": 0.967,
          "yref": "y"
         },
         {
          "line": {
           "color": "green"
          },
          "type": "rect",
          "x0": 584,
          "x1": 614,
          "xref": "x",
          "y0": 0,
          "y1": 0.969,
          "yref": "y"
         },
         {
          "line": {
           "color": "green"
          },
          "type": "rect",
          "x0": 709,
          "x1": 739,
          "xref": "x",
          "y0": 0,
          "y1": 0.961,
          "yref": "y"
         },
         {
          "line": {
           "color": "green"
          },
          "type": "rect",
          "x0": 828,
          "x1": 858,
          "xref": "x",
          "y0": 0,
          "y1": 0.956,
          "yref": "y"
         },
         {
          "line": {
           "color": "green"
          },
          "type": "rect",
          "x0": 589,
          "x1": 619,
          "xref": "x",
          "y0": 0,
          "y1": 0.968,
          "yref": "y"
         },
         {
          "line": {
           "color": "green"
          },
          "type": "rect",
          "x0": 713,
          "x1": 743,
          "xref": "x",
          "y0": 0,
          "y1": 0.962,
          "yref": "y"
         },
         {
          "line": {
           "color": "green"
          },
          "type": "rect",
          "x0": 832,
          "x1": 862,
          "xref": "x",
          "y0": 0,
          "y1": 0.958,
          "yref": "y"
         },
         {
          "line": {
           "color": "green"
          },
          "type": "rect",
          "x0": 590,
          "x1": 620,
          "xref": "x",
          "y0": 0,
          "y1": 0.967,
          "yref": "y"
         },
         {
          "line": {
           "color": "green"
          },
          "type": "rect",
          "x0": 715,
          "x1": 745,
          "xref": "x",
          "y0": 0,
          "y1": 0.96,
          "yref": "y"
         },
         {
          "line": {
           "color": "green"
          },
          "type": "rect",
          "x0": 858,
          "x1": 864,
          "xref": "x",
          "y0": 0,
          "y1": 0.192,
          "yref": "y"
         },
         {
          "line": {
           "color": "green"
          },
          "type": "rect",
          "x0": 864,
          "x1": 877,
          "xref": "x",
          "y0": 0,
          "y1": 0.795,
          "yref": "y"
         },
         {
          "line": {
           "color": "green"
          },
          "type": "rect",
          "x0": 591,
          "x1": 621,
          "xref": "x",
          "y0": 0,
          "y1": 0.967,
          "yref": "y"
         },
         {
          "line": {
           "color": "green"
          },
          "type": "rect",
          "x0": 717,
          "x1": 747,
          "xref": "x",
          "y0": 0,
          "y1": 0.961,
          "yref": "y"
         },
         {
          "line": {
           "color": "green"
          },
          "type": "rect",
          "x0": 871,
          "x1": 885,
          "xref": "x",
          "y0": 0,
          "y1": 0.437,
          "yref": "y"
         },
         {
          "line": {
           "color": "green"
          },
          "type": "rect",
          "x0": 635,
          "x1": 665,
          "xref": "x",
          "y0": 0,
          "y1": 0.967,
          "yref": "y"
         },
         {
          "line": {
           "color": "green"
          },
          "type": "rect",
          "x0": 792,
          "x1": 822,
          "xref": "x",
          "y0": 0,
          "y1": 0.948,
          "yref": "y"
         },
         {
          "line": {
           "color": "green"
          },
          "type": "rect",
          "x0": 592,
          "x1": 622,
          "xref": "x",
          "y0": 0,
          "y1": 0.968,
          "yref": "y"
         },
         {
          "line": {
           "color": "green"
          },
          "type": "rect",
          "x0": 721,
          "x1": 750,
          "xref": "x",
          "y0": 0,
          "y1": 0.926,
          "yref": "y"
         },
         {
          "line": {
           "color": "green"
          },
          "type": "rect",
          "x0": 834,
          "x1": 864,
          "xref": "x",
          "y0": 0,
          "y1": 0.959,
          "yref": "y"
         },
         {
          "line": {
           "color": "green"
          },
          "type": "rect",
          "x0": 532,
          "x1": 562,
          "xref": "x",
          "y0": 0,
          "y1": 0.933,
          "yref": "y"
         },
         {
          "line": {
           "color": "green"
          },
          "type": "rect",
          "x0": 661,
          "x1": 691,
          "xref": "x",
          "y0": 0,
          "y1": 0.966,
          "yref": "y"
         },
         {
          "line": {
           "color": "green"
          },
          "type": "rect",
          "x0": 804,
          "x1": 834,
          "xref": "x",
          "y0": 0,
          "y1": 0.955,
          "yref": "y"
         },
         {
          "line": {
           "color": "green"
          },
          "type": "rect",
          "x0": 664,
          "x1": 694,
          "xref": "x",
          "y0": 0,
          "y1": 0.965,
          "yref": "y"
         },
         {
          "line": {
           "color": "green"
          },
          "type": "rect",
          "x0": 811,
          "x1": 841,
          "xref": "x",
          "y0": 0,
          "y1": 0.957,
          "yref": "y"
         },
         {
          "line": {
           "color": "green"
          },
          "type": "rect",
          "x0": 593,
          "x1": 623,
          "xref": "x",
          "y0": 0,
          "y1": 0.969,
          "yref": "y"
         },
         {
          "line": {
           "color": "green"
          },
          "type": "rect",
          "x0": 721,
          "x1": 751,
          "xref": "x",
          "y0": 0,
          "y1": 0.959,
          "yref": "y"
         },
         {
          "line": {
           "color": "green"
          },
          "type": "rect",
          "x0": 595,
          "x1": 625,
          "xref": "x",
          "y0": 0,
          "y1": 0.971,
          "yref": "y"
         },
         {
          "line": {
           "color": "green"
          },
          "type": "rect",
          "x0": 721,
          "x1": 751,
          "xref": "x",
          "y0": 0,
          "y1": 0.959,
          "yref": "y"
         },
         {
          "line": {
           "color": "green"
          },
          "type": "rect",
          "x0": 535,
          "x1": 565,
          "xref": "x",
          "y0": 0,
          "y1": 0.937,
          "yref": "y"
         },
         {
          "line": {
           "color": "green"
          },
          "type": "rect",
          "x0": 661,
          "x1": 691,
          "xref": "x",
          "y0": 0,
          "y1": 0.966,
          "yref": "y"
         },
         {
          "line": {
           "color": "green"
          },
          "type": "rect",
          "x0": 807,
          "x1": 816,
          "xref": "x",
          "y0": 0,
          "y1": 0.286,
          "yref": "y"
         },
         {
          "line": {
           "color": "green"
          },
          "type": "rect",
          "x0": 638,
          "x1": 668,
          "xref": "x",
          "y0": 0,
          "y1": 0.967,
          "yref": "y"
         },
         {
          "line": {
           "color": "green"
          },
          "type": "rect",
          "x0": 541,
          "x1": 571,
          "xref": "x",
          "y0": 0,
          "y1": 0.947,
          "yref": "y"
         },
         {
          "line": {
           "color": "green"
          },
          "type": "rect",
          "x0": 665,
          "x1": 672,
          "xref": "x",
          "y0": 0,
          "y1": 0.224,
          "yref": "y"
         },
         {
          "line": {
           "color": "green"
          },
          "type": "rect",
          "x0": 942,
          "x1": 960,
          "xref": "x",
          "y0": 0,
          "y1": 0.547,
          "yref": "y"
         },
         {
          "line": {
           "color": "green"
          },
          "type": "rect",
          "x0": 838,
          "x1": 868,
          "xref": "x",
          "y0": 0,
          "y1": 0.957,
          "yref": "y"
         },
         {
          "line": {
           "color": "green"
          },
          "type": "rect",
          "x0": 597,
          "x1": 627,
          "xref": "x",
          "y0": 0,
          "y1": 0.97,
          "yref": "y"
         },
         {
          "line": {
           "color": "green"
          },
          "type": "rect",
          "x0": 724,
          "x1": 754,
          "xref": "x",
          "y0": 0,
          "y1": 0.954,
          "yref": "y"
         },
         {
          "line": {
           "color": "green"
          },
          "type": "rect",
          "x0": 879,
          "x1": 909,
          "xref": "x",
          "y0": 0,
          "y1": 0.912,
          "yref": "y"
         },
         {
          "line": {
           "color": "green"
          },
          "type": "rect",
          "x0": 942,
          "x1": 960,
          "xref": "x",
          "y0": 0,
          "y1": 0.547,
          "yref": "y"
         },
         {
          "line": {
           "color": "green"
          },
          "type": "rect",
          "x0": 601,
          "x1": 631,
          "xref": "x",
          "y0": 0,
          "y1": 0.965,
          "yref": "y"
         },
         {
          "line": {
           "color": "green"
          },
          "type": "rect",
          "x0": 726,
          "x1": 728,
          "xref": "x",
          "y0": 0,
          "y1": 0.064,
          "yref": "y"
         },
         {
          "line": {
           "color": "green"
          },
          "type": "rect",
          "x0": 728,
          "x1": 759,
          "xref": "x",
          "y0": 0,
          "y1": 1.939,
          "yref": "y"
         },
         {
          "line": {
           "color": "green"
          },
          "type": "rect",
          "x0": 541,
          "x1": 571,
          "xref": "x",
          "y0": 0,
          "y1": 0.947,
          "yref": "y"
         },
         {
          "line": {
           "color": "green"
          },
          "type": "rect",
          "x0": 666,
          "x1": 696,
          "xref": "x",
          "y0": 0,
          "y1": 0.965,
          "yref": "y"
         },
         {
          "line": {
           "color": "green"
          },
          "type": "rect",
          "x0": 545,
          "x1": 575,
          "xref": "x",
          "y0": 0,
          "y1": 0.952,
          "yref": "y"
         },
         {
          "line": {
           "color": "green"
          },
          "type": "rect",
          "x0": 668,
          "x1": 698,
          "xref": "x",
          "y0": 0,
          "y1": 0.965,
          "yref": "y"
         },
         {
          "line": {
           "color": "green"
          },
          "type": "rect",
          "x0": 813,
          "x1": 843,
          "xref": "x",
          "y0": 0,
          "y1": 0.956,
          "yref": "y"
         },
         {
          "line": {
           "color": "green"
          },
          "type": "rect",
          "x0": 548,
          "x1": 578,
          "xref": "x",
          "y0": 0,
          "y1": 0.959,
          "yref": "y"
         },
         {
          "line": {
           "color": "green"
          },
          "type": "rect",
          "x0": 670,
          "x1": 700,
          "xref": "x",
          "y0": 0,
          "y1": 0.965,
          "yref": "y"
         },
         {
          "line": {
           "color": "green"
          },
          "type": "rect",
          "x0": 816,
          "x1": 846,
          "xref": "x",
          "y0": 0,
          "y1": 0.958,
          "yref": "y"
         },
         {
          "line": {
           "color": "green"
          },
          "type": "rect",
          "x0": 841,
          "x1": 871,
          "xref": "x",
          "y0": 0,
          "y1": 0.959,
          "yref": "y"
         },
         {
          "line": {
           "color": "green"
          },
          "type": "rect",
          "x0": 640,
          "x1": 670,
          "xref": "x",
          "y0": 0,
          "y1": 0.967,
          "yref": "y"
         },
         {
          "line": {
           "color": "green"
          },
          "type": "rect",
          "x0": 792,
          "x1": 822,
          "xref": "x",
          "y0": 0,
          "y1": 0.948,
          "yref": "y"
         },
         {
          "line": {
           "color": "green"
          },
          "type": "rect",
          "x0": 876,
          "x1": 906,
          "xref": "x",
          "y0": 0,
          "y1": 0.913,
          "yref": "y"
         },
         {
          "line": {
           "color": "green"
          },
          "type": "rect",
          "x0": 877,
          "x1": 907,
          "xref": "x",
          "y0": 0,
          "y1": 0.914,
          "yref": "y"
         },
         {
          "line": {
           "color": "green"
          },
          "type": "rect",
          "x0": 644,
          "x1": 674,
          "xref": "x",
          "y0": 0,
          "y1": 0.964,
          "yref": "y"
         },
         {
          "line": {
           "color": "green"
          },
          "type": "rect",
          "x0": 601,
          "x1": 631,
          "xref": "x",
          "y0": 0,
          "y1": 0.965,
          "yref": "y"
         },
         {
          "line": {
           "color": "green"
          },
          "type": "rect",
          "x0": 730,
          "x1": 760,
          "xref": "x",
          "y0": 0,
          "y1": 0.952,
          "yref": "y"
         },
         {
          "line": {
           "color": "green"
          },
          "type": "rect",
          "x0": 601,
          "x1": 631,
          "xref": "x",
          "y0": 0,
          "y1": 0.965,
          "yref": "y"
         },
         {
          "line": {
           "color": "green"
          },
          "type": "rect",
          "x0": 734,
          "x1": 764,
          "xref": "x",
          "y0": 0,
          "y1": 0.954,
          "yref": "y"
         },
         {
          "line": {
           "color": "green"
          },
          "type": "rect",
          "x0": 882,
          "x1": 912,
          "xref": "x",
          "y0": 0,
          "y1": 0.902,
          "yref": "y"
         },
         {
          "line": {
           "color": "green"
          },
          "type": "rect",
          "x0": 601,
          "x1": 631,
          "xref": "x",
          "y0": 0,
          "y1": 0.965,
          "yref": "y"
         },
         {
          "line": {
           "color": "green"
          },
          "type": "rect",
          "x0": 734,
          "x1": 764,
          "xref": "x",
          "y0": 0,
          "y1": 0.954,
          "yref": "y"
         },
         {
          "line": {
           "color": "green"
          },
          "type": "rect",
          "x0": 604,
          "x1": 634,
          "xref": "x",
          "y0": 0,
          "y1": 0.968,
          "yref": "y"
         },
         {
          "line": {
           "color": "green"
          },
          "type": "rect",
          "x0": 734,
          "x1": 764,
          "xref": "x",
          "y0": 0,
          "y1": 0.954,
          "yref": "y"
         },
         {
          "line": {
           "color": "green"
          },
          "type": "rect",
          "x0": 550,
          "x1": 580,
          "xref": "x",
          "y0": 0,
          "y1": 0.959,
          "yref": "y"
         },
         {
          "line": {
           "color": "green"
          },
          "type": "rect",
          "x0": 672,
          "x1": 702,
          "xref": "x",
          "y0": 0,
          "y1": 0.965,
          "yref": "y"
         },
         {
          "line": {
           "color": "green"
          },
          "type": "rect",
          "x0": 816,
          "x1": 846,
          "xref": "x",
          "y0": 0,
          "y1": 0.958,
          "yref": "y"
         },
         {
          "line": {
           "color": "green"
          },
          "type": "rect",
          "x0": 554,
          "x1": 584,
          "xref": "x",
          "y0": 0,
          "y1": 0.963,
          "yref": "y"
         },
         {
          "line": {
           "color": "green"
          },
          "type": "rect",
          "x0": 674,
          "x1": 704,
          "xref": "x",
          "y0": 0,
          "y1": 0.965,
          "yref": "y"
         },
         {
          "line": {
           "color": "green"
          },
          "type": "rect",
          "x0": 605,
          "x1": 635,
          "xref": "x",
          "y0": 0,
          "y1": 0.968,
          "yref": "y"
         },
         {
          "line": {
           "color": "green"
          },
          "type": "rect",
          "x0": 743,
          "x1": 770,
          "xref": "x",
          "y0": 0,
          "y1": 0.85,
          "yref": "y"
         },
         {
          "line": {
           "color": "green"
          },
          "type": "rect",
          "x0": 554,
          "x1": 584,
          "xref": "x",
          "y0": 0,
          "y1": 0.963,
          "yref": "y"
         },
         {
          "line": {
           "color": "green"
          },
          "type": "rect",
          "x0": 674,
          "x1": 704,
          "xref": "x",
          "y0": 0,
          "y1": 0.965,
          "yref": "y"
         },
         {
          "line": {
           "color": "green"
          },
          "type": "rect",
          "x0": 608,
          "x1": 638,
          "xref": "x",
          "y0": 0,
          "y1": 0.968,
          "yref": "y"
         },
         {
          "line": {
           "color": "green"
          },
          "type": "rect",
          "x0": 747,
          "x1": 777,
          "xref": "x",
          "y0": 0,
          "y1": 0.949,
          "yref": "y"
         },
         {
          "line": {
           "color": "green"
          },
          "type": "rect",
          "x0": 882,
          "x1": 912,
          "xref": "x",
          "y0": 0,
          "y1": 0.902,
          "yref": "y"
         },
         {
          "line": {
           "color": "green"
          },
          "type": "rect",
          "x0": 559,
          "x1": 589,
          "xref": "x",
          "y0": 0,
          "y1": 0.966,
          "yref": "y"
         },
         {
          "line": {
           "color": "green"
          },
          "type": "rect",
          "x0": 674,
          "x1": 704,
          "xref": "x",
          "y0": 0,
          "y1": 0.965,
          "yref": "y"
         },
         {
          "line": {
           "color": "green"
          },
          "type": "rect",
          "x0": 644,
          "x1": 674,
          "xref": "x",
          "y0": 0,
          "y1": 0.964,
          "yref": "y"
         },
         {
          "line": {
           "color": "green"
          },
          "type": "rect",
          "x0": 793,
          "x1": 823,
          "xref": "x",
          "y0": 0,
          "y1": 0.947,
          "yref": "y"
         },
         {
          "line": {
           "color": "green"
          },
          "type": "rect",
          "x0": 843,
          "x1": 873,
          "xref": "x",
          "y0": 0,
          "y1": 0.957,
          "yref": "y"
         },
         {
          "line": {
           "color": "green"
          },
          "type": "rect",
          "x0": 609,
          "x1": 639,
          "xref": "x",
          "y0": 0,
          "y1": 0.967,
          "yref": "y"
         },
         {
          "line": {
           "color": "green"
          },
          "type": "rect",
          "x0": 751,
          "x1": 762,
          "xref": "x",
          "y0": 0,
          "y1": 0.35,
          "yref": "y"
         },
         {
          "line": {
           "color": "green"
          },
          "type": "rect",
          "x0": 610,
          "x1": 640,
          "xref": "x",
          "y0": 0,
          "y1": 0.968,
          "yref": "y"
         },
         {
          "line": {
           "color": "green"
          },
          "type": "rect",
          "x0": 751,
          "x1": 781,
          "xref": "x",
          "y0": 0,
          "y1": 0.947,
          "yref": "y"
         },
         {
          "line": {
           "color": "green"
          },
          "type": "rect",
          "x0": 614,
          "x1": 644,
          "xref": "x",
          "y0": 0,
          "y1": 0.971,
          "yref": "y"
         },
         {
          "line": {
           "color": "green"
          },
          "type": "rect",
          "x0": 758,
          "x1": 788,
          "xref": "x",
          "y0": 0,
          "y1": 0.944,
          "yref": "y"
         },
         {
          "line": {
           "color": "green"
          },
          "type": "rect",
          "x0": 644,
          "x1": 674,
          "xref": "x",
          "y0": 0,
          "y1": 0.964,
          "yref": "y"
         },
         {
          "line": {
           "color": "green"
          },
          "type": "rect",
          "x0": 793,
          "x1": 822,
          "xref": "x",
          "y0": 0,
          "y1": 0.915,
          "yref": "y"
         },
         {
          "line": {
           "color": "green"
          },
          "type": "rect",
          "x0": 614,
          "x1": 644,
          "xref": "x",
          "y0": 0,
          "y1": 0.971,
          "yref": "y"
         },
         {
          "line": {
           "color": "green"
          },
          "type": "rect",
          "x0": 759,
          "x1": 789,
          "xref": "x",
          "y0": 0,
          "y1": 0.944,
          "yref": "y"
         },
         {
          "line": {
           "color": "green"
          },
          "type": "rect",
          "x0": 614,
          "x1": 644,
          "xref": "x",
          "y0": 0,
          "y1": 0.971,
          "yref": "y"
         },
         {
          "line": {
           "color": "green"
          },
          "type": "rect",
          "x0": 762,
          "x1": 792,
          "xref": "x",
          "y0": 0,
          "y1": 0.945,
          "yref": "y"
         },
         {
          "line": {
           "color": "green"
          },
          "type": "rect",
          "x0": 649,
          "x1": 679,
          "xref": "x",
          "y0": 0,
          "y1": 0.964,
          "yref": "y"
         },
         {
          "line": {
           "color": "green"
          },
          "type": "rect",
          "x0": 560,
          "x1": 590,
          "xref": "x",
          "y0": 0,
          "y1": 0.968,
          "yref": "y"
         },
         {
          "line": {
           "color": "green"
          },
          "type": "rect",
          "x0": 679,
          "x1": 709,
          "xref": "x",
          "y0": 0,
          "y1": 0.965,
          "yref": "y"
         },
         {
          "line": {
           "color": "green"
          },
          "type": "rect",
          "x0": 818,
          "x1": 848,
          "xref": "x",
          "y0": 0,
          "y1": 0.957,
          "yref": "y"
         },
         {
          "line": {
           "color": "green"
          },
          "type": "rect",
          "x0": 562,
          "x1": 592,
          "xref": "x",
          "y0": 0,
          "y1": 0.969,
          "yref": "y"
         },
         {
          "line": {
           "color": "green"
          },
          "type": "rect",
          "x0": 683,
          "x1": 713,
          "xref": "x",
          "y0": 0,
          "y1": 0.965,
          "yref": "y"
         },
         {
          "line": {
           "color": "green"
          },
          "type": "rect",
          "x0": 819,
          "x1": 849,
          "xref": "x",
          "y0": 0,
          "y1": 0.956,
          "yref": "y"
         },
         {
          "line": {
           "color": "green"
          },
          "type": "rect",
          "x0": 619,
          "x1": 649,
          "xref": "x",
          "y0": 0,
          "y1": 0.971,
          "yref": "y"
         },
         {
          "line": {
           "color": "green"
          },
          "type": "rect",
          "x0": 621,
          "x1": 651,
          "xref": "x",
          "y0": 0,
          "y1": 0.968,
          "yref": "y"
         },
         {
          "line": {
           "color": "green"
          },
          "type": "rect",
          "x0": 764,
          "x1": 764,
          "xref": "x",
          "y0": 0,
          "y1": 0,
          "yref": "y"
         },
         {
          "line": {
           "color": "green"
          },
          "type": "rect",
          "x0": 764,
          "x1": 793,
          "xref": "x",
          "y0": 0,
          "y1": 1.797,
          "yref": "y"
         }
        ],
        "template": {
         "data": {
          "bar": [
           {
            "error_x": {
             "color": "#2a3f5f"
            },
            "error_y": {
             "color": "#2a3f5f"
            },
            "marker": {
             "line": {
              "color": "#E5ECF6",
              "width": 0.5
             },
             "pattern": {
              "fillmode": "overlay",
              "size": 10,
              "solidity": 0.2
             }
            },
            "type": "bar"
           }
          ],
          "barpolar": [
           {
            "marker": {
             "line": {
              "color": "#E5ECF6",
              "width": 0.5
             },
             "pattern": {
              "fillmode": "overlay",
              "size": 10,
              "solidity": 0.2
             }
            },
            "type": "barpolar"
           }
          ],
          "carpet": [
           {
            "aaxis": {
             "endlinecolor": "#2a3f5f",
             "gridcolor": "white",
             "linecolor": "white",
             "minorgridcolor": "white",
             "startlinecolor": "#2a3f5f"
            },
            "baxis": {
             "endlinecolor": "#2a3f5f",
             "gridcolor": "white",
             "linecolor": "white",
             "minorgridcolor": "white",
             "startlinecolor": "#2a3f5f"
            },
            "type": "carpet"
           }
          ],
          "choropleth": [
           {
            "colorbar": {
             "outlinewidth": 0,
             "ticks": ""
            },
            "type": "choropleth"
           }
          ],
          "contour": [
           {
            "colorbar": {
             "outlinewidth": 0,
             "ticks": ""
            },
            "colorscale": [
             [
              0,
              "#0d0887"
             ],
             [
              0.1111111111111111,
              "#46039f"
             ],
             [
              0.2222222222222222,
              "#7201a8"
             ],
             [
              0.3333333333333333,
              "#9c179e"
             ],
             [
              0.4444444444444444,
              "#bd3786"
             ],
             [
              0.5555555555555556,
              "#d8576b"
             ],
             [
              0.6666666666666666,
              "#ed7953"
             ],
             [
              0.7777777777777778,
              "#fb9f3a"
             ],
             [
              0.8888888888888888,
              "#fdca26"
             ],
             [
              1,
              "#f0f921"
             ]
            ],
            "type": "contour"
           }
          ],
          "contourcarpet": [
           {
            "colorbar": {
             "outlinewidth": 0,
             "ticks": ""
            },
            "type": "contourcarpet"
           }
          ],
          "heatmap": [
           {
            "colorbar": {
             "outlinewidth": 0,
             "ticks": ""
            },
            "colorscale": [
             [
              0,
              "#0d0887"
             ],
             [
              0.1111111111111111,
              "#46039f"
             ],
             [
              0.2222222222222222,
              "#7201a8"
             ],
             [
              0.3333333333333333,
              "#9c179e"
             ],
             [
              0.4444444444444444,
              "#bd3786"
             ],
             [
              0.5555555555555556,
              "#d8576b"
             ],
             [
              0.6666666666666666,
              "#ed7953"
             ],
             [
              0.7777777777777778,
              "#fb9f3a"
             ],
             [
              0.8888888888888888,
              "#fdca26"
             ],
             [
              1,
              "#f0f921"
             ]
            ],
            "type": "heatmap"
           }
          ],
          "heatmapgl": [
           {
            "colorbar": {
             "outlinewidth": 0,
             "ticks": ""
            },
            "colorscale": [
             [
              0,
              "#0d0887"
             ],
             [
              0.1111111111111111,
              "#46039f"
             ],
             [
              0.2222222222222222,
              "#7201a8"
             ],
             [
              0.3333333333333333,
              "#9c179e"
             ],
             [
              0.4444444444444444,
              "#bd3786"
             ],
             [
              0.5555555555555556,
              "#d8576b"
             ],
             [
              0.6666666666666666,
              "#ed7953"
             ],
             [
              0.7777777777777778,
              "#fb9f3a"
             ],
             [
              0.8888888888888888,
              "#fdca26"
             ],
             [
              1,
              "#f0f921"
             ]
            ],
            "type": "heatmapgl"
           }
          ],
          "histogram": [
           {
            "marker": {
             "pattern": {
              "fillmode": "overlay",
              "size": 10,
              "solidity": 0.2
             }
            },
            "type": "histogram"
           }
          ],
          "histogram2d": [
           {
            "colorbar": {
             "outlinewidth": 0,
             "ticks": ""
            },
            "colorscale": [
             [
              0,
              "#0d0887"
             ],
             [
              0.1111111111111111,
              "#46039f"
             ],
             [
              0.2222222222222222,
              "#7201a8"
             ],
             [
              0.3333333333333333,
              "#9c179e"
             ],
             [
              0.4444444444444444,
              "#bd3786"
             ],
             [
              0.5555555555555556,
              "#d8576b"
             ],
             [
              0.6666666666666666,
              "#ed7953"
             ],
             [
              0.7777777777777778,
              "#fb9f3a"
             ],
             [
              0.8888888888888888,
              "#fdca26"
             ],
             [
              1,
              "#f0f921"
             ]
            ],
            "type": "histogram2d"
           }
          ],
          "histogram2dcontour": [
           {
            "colorbar": {
             "outlinewidth": 0,
             "ticks": ""
            },
            "colorscale": [
             [
              0,
              "#0d0887"
             ],
             [
              0.1111111111111111,
              "#46039f"
             ],
             [
              0.2222222222222222,
              "#7201a8"
             ],
             [
              0.3333333333333333,
              "#9c179e"
             ],
             [
              0.4444444444444444,
              "#bd3786"
             ],
             [
              0.5555555555555556,
              "#d8576b"
             ],
             [
              0.6666666666666666,
              "#ed7953"
             ],
             [
              0.7777777777777778,
              "#fb9f3a"
             ],
             [
              0.8888888888888888,
              "#fdca26"
             ],
             [
              1,
              "#f0f921"
             ]
            ],
            "type": "histogram2dcontour"
           }
          ],
          "mesh3d": [
           {
            "colorbar": {
             "outlinewidth": 0,
             "ticks": ""
            },
            "type": "mesh3d"
           }
          ],
          "parcoords": [
           {
            "line": {
             "colorbar": {
              "outlinewidth": 0,
              "ticks": ""
             }
            },
            "type": "parcoords"
           }
          ],
          "pie": [
           {
            "automargin": true,
            "type": "pie"
           }
          ],
          "scatter": [
           {
            "marker": {
             "colorbar": {
              "outlinewidth": 0,
              "ticks": ""
             }
            },
            "type": "scatter"
           }
          ],
          "scatter3d": [
           {
            "line": {
             "colorbar": {
              "outlinewidth": 0,
              "ticks": ""
             }
            },
            "marker": {
             "colorbar": {
              "outlinewidth": 0,
              "ticks": ""
             }
            },
            "type": "scatter3d"
           }
          ],
          "scattercarpet": [
           {
            "marker": {
             "colorbar": {
              "outlinewidth": 0,
              "ticks": ""
             }
            },
            "type": "scattercarpet"
           }
          ],
          "scattergeo": [
           {
            "marker": {
             "colorbar": {
              "outlinewidth": 0,
              "ticks": ""
             }
            },
            "type": "scattergeo"
           }
          ],
          "scattergl": [
           {
            "marker": {
             "colorbar": {
              "outlinewidth": 0,
              "ticks": ""
             }
            },
            "type": "scattergl"
           }
          ],
          "scattermapbox": [
           {
            "marker": {
             "colorbar": {
              "outlinewidth": 0,
              "ticks": ""
             }
            },
            "type": "scattermapbox"
           }
          ],
          "scatterpolar": [
           {
            "marker": {
             "colorbar": {
              "outlinewidth": 0,
              "ticks": ""
             }
            },
            "type": "scatterpolar"
           }
          ],
          "scatterpolargl": [
           {
            "marker": {
             "colorbar": {
              "outlinewidth": 0,
              "ticks": ""
             }
            },
            "type": "scatterpolargl"
           }
          ],
          "scatterternary": [
           {
            "marker": {
             "colorbar": {
              "outlinewidth": 0,
              "ticks": ""
             }
            },
            "type": "scatterternary"
           }
          ],
          "surface": [
           {
            "colorbar": {
             "outlinewidth": 0,
             "ticks": ""
            },
            "colorscale": [
             [
              0,
              "#0d0887"
             ],
             [
              0.1111111111111111,
              "#46039f"
             ],
             [
              0.2222222222222222,
              "#7201a8"
             ],
             [
              0.3333333333333333,
              "#9c179e"
             ],
             [
              0.4444444444444444,
              "#bd3786"
             ],
             [
              0.5555555555555556,
              "#d8576b"
             ],
             [
              0.6666666666666666,
              "#ed7953"
             ],
             [
              0.7777777777777778,
              "#fb9f3a"
             ],
             [
              0.8888888888888888,
              "#fdca26"
             ],
             [
              1,
              "#f0f921"
             ]
            ],
            "type": "surface"
           }
          ],
          "table": [
           {
            "cells": {
             "fill": {
              "color": "#EBF0F8"
             },
             "line": {
              "color": "white"
             }
            },
            "header": {
             "fill": {
              "color": "#C8D4E3"
             },
             "line": {
              "color": "white"
             }
            },
            "type": "table"
           }
          ]
         },
         "layout": {
          "annotationdefaults": {
           "arrowcolor": "#2a3f5f",
           "arrowhead": 0,
           "arrowwidth": 1
          },
          "autotypenumbers": "strict",
          "coloraxis": {
           "colorbar": {
            "outlinewidth": 0,
            "ticks": ""
           }
          },
          "colorscale": {
           "diverging": [
            [
             0,
             "#8e0152"
            ],
            [
             0.1,
             "#c51b7d"
            ],
            [
             0.2,
             "#de77ae"
            ],
            [
             0.3,
             "#f1b6da"
            ],
            [
             0.4,
             "#fde0ef"
            ],
            [
             0.5,
             "#f7f7f7"
            ],
            [
             0.6,
             "#e6f5d0"
            ],
            [
             0.7,
             "#b8e186"
            ],
            [
             0.8,
             "#7fbc41"
            ],
            [
             0.9,
             "#4d9221"
            ],
            [
             1,
             "#276419"
            ]
           ],
           "sequential": [
            [
             0,
             "#0d0887"
            ],
            [
             0.1111111111111111,
             "#46039f"
            ],
            [
             0.2222222222222222,
             "#7201a8"
            ],
            [
             0.3333333333333333,
             "#9c179e"
            ],
            [
             0.4444444444444444,
             "#bd3786"
            ],
            [
             0.5555555555555556,
             "#d8576b"
            ],
            [
             0.6666666666666666,
             "#ed7953"
            ],
            [
             0.7777777777777778,
             "#fb9f3a"
            ],
            [
             0.8888888888888888,
             "#fdca26"
            ],
            [
             1,
             "#f0f921"
            ]
           ],
           "sequentialminus": [
            [
             0,
             "#0d0887"
            ],
            [
             0.1111111111111111,
             "#46039f"
            ],
            [
             0.2222222222222222,
             "#7201a8"
            ],
            [
             0.3333333333333333,
             "#9c179e"
            ],
            [
             0.4444444444444444,
             "#bd3786"
            ],
            [
             0.5555555555555556,
             "#d8576b"
            ],
            [
             0.6666666666666666,
             "#ed7953"
            ],
            [
             0.7777777777777778,
             "#fb9f3a"
            ],
            [
             0.8888888888888888,
             "#fdca26"
            ],
            [
             1,
             "#f0f921"
            ]
           ]
          },
          "colorway": [
           "#636efa",
           "#EF553B",
           "#00cc96",
           "#ab63fa",
           "#FFA15A",
           "#19d3f3",
           "#FF6692",
           "#B6E880",
           "#FF97FF",
           "#FECB52"
          ],
          "font": {
           "color": "#2a3f5f"
          },
          "geo": {
           "bgcolor": "white",
           "lakecolor": "white",
           "landcolor": "#E5ECF6",
           "showlakes": true,
           "showland": true,
           "subunitcolor": "white"
          },
          "hoverlabel": {
           "align": "left"
          },
          "hovermode": "closest",
          "mapbox": {
           "style": "light"
          },
          "paper_bgcolor": "white",
          "plot_bgcolor": "#E5ECF6",
          "polar": {
           "angularaxis": {
            "gridcolor": "white",
            "linecolor": "white",
            "ticks": ""
           },
           "bgcolor": "#E5ECF6",
           "radialaxis": {
            "gridcolor": "white",
            "linecolor": "white",
            "ticks": ""
           }
          },
          "scene": {
           "xaxis": {
            "backgroundcolor": "#E5ECF6",
            "gridcolor": "white",
            "gridwidth": 2,
            "linecolor": "white",
            "showbackground": true,
            "ticks": "",
            "zerolinecolor": "white"
           },
           "yaxis": {
            "backgroundcolor": "#E5ECF6",
            "gridcolor": "white",
            "gridwidth": 2,
            "linecolor": "white",
            "showbackground": true,
            "ticks": "",
            "zerolinecolor": "white"
           },
           "zaxis": {
            "backgroundcolor": "#E5ECF6",
            "gridcolor": "white",
            "gridwidth": 2,
            "linecolor": "white",
            "showbackground": true,
            "ticks": "",
            "zerolinecolor": "white"
           }
          },
          "shapedefaults": {
           "line": {
            "color": "#2a3f5f"
           }
          },
          "ternary": {
           "aaxis": {
            "gridcolor": "white",
            "linecolor": "white",
            "ticks": ""
           },
           "baxis": {
            "gridcolor": "white",
            "linecolor": "white",
            "ticks": ""
           },
           "bgcolor": "#E5ECF6",
           "caxis": {
            "gridcolor": "white",
            "linecolor": "white",
            "ticks": ""
           }
          },
          "title": {
           "x": 0.05
          },
          "xaxis": {
           "automargin": true,
           "gridcolor": "white",
           "linecolor": "white",
           "ticks": "",
           "title": {
            "standoff": 15
           },
           "zerolinecolor": "white",
           "zerolinewidth": 2
          },
          "yaxis": {
           "automargin": true,
           "gridcolor": "white",
           "linecolor": "white",
           "ticks": "",
           "title": {
            "standoff": 15
           },
           "zerolinecolor": "white",
           "zerolinewidth": 2
          }
         }
        },
        "title": {
         "font": {
          "size": 24
         },
         "text": "Ladeenergie pro Ladezeitraum eines BEVs",
         "x": 0.5,
         "xanchor": "center"
        },
        "xaxis": {
         "range": [
          480,
          960
         ],
         "showgrid": true,
         "title": {
          "text": "Minuten"
         }
        },
        "yaxis": {
         "range": [
          0,
          2
         ],
         "title": {
          "text": "Energie in kWh"
         }
        }
       }
      },
      "text/html": [
       "<div>                            <div id=\"030d1801-ee94-4755-a595-af46ef8c983e\" class=\"plotly-graph-div\" style=\"height:525px; width:100%;\"></div>            <script type=\"text/javascript\">                require([\"plotly\"], function(Plotly) {                    window.PLOTLYENV=window.PLOTLYENV || {};                                    if (document.getElementById(\"030d1801-ee94-4755-a595-af46ef8c983e\")) {                    Plotly.newPlot(                        \"030d1801-ee94-4755-a595-af46ef8c983e\",                        [],                        {\"template\":{\"data\":{\"bar\":[{\"error_x\":{\"color\":\"#2a3f5f\"},\"error_y\":{\"color\":\"#2a3f5f\"},\"marker\":{\"line\":{\"color\":\"#E5ECF6\",\"width\":0.5},\"pattern\":{\"fillmode\":\"overlay\",\"size\":10,\"solidity\":0.2}},\"type\":\"bar\"}],\"barpolar\":[{\"marker\":{\"line\":{\"color\":\"#E5ECF6\",\"width\":0.5},\"pattern\":{\"fillmode\":\"overlay\",\"size\":10,\"solidity\":0.2}},\"type\":\"barpolar\"}],\"carpet\":[{\"aaxis\":{\"endlinecolor\":\"#2a3f5f\",\"gridcolor\":\"white\",\"linecolor\":\"white\",\"minorgridcolor\":\"white\",\"startlinecolor\":\"#2a3f5f\"},\"baxis\":{\"endlinecolor\":\"#2a3f5f\",\"gridcolor\":\"white\",\"linecolor\":\"white\",\"minorgridcolor\":\"white\",\"startlinecolor\":\"#2a3f5f\"},\"type\":\"carpet\"}],\"choropleth\":[{\"colorbar\":{\"outlinewidth\":0,\"ticks\":\"\"},\"type\":\"choropleth\"}],\"contour\":[{\"colorbar\":{\"outlinewidth\":0,\"ticks\":\"\"},\"colorscale\":[[0.0,\"#0d0887\"],[0.1111111111111111,\"#46039f\"],[0.2222222222222222,\"#7201a8\"],[0.3333333333333333,\"#9c179e\"],[0.4444444444444444,\"#bd3786\"],[0.5555555555555556,\"#d8576b\"],[0.6666666666666666,\"#ed7953\"],[0.7777777777777778,\"#fb9f3a\"],[0.8888888888888888,\"#fdca26\"],[1.0,\"#f0f921\"]],\"type\":\"contour\"}],\"contourcarpet\":[{\"colorbar\":{\"outlinewidth\":0,\"ticks\":\"\"},\"type\":\"contourcarpet\"}],\"heatmap\":[{\"colorbar\":{\"outlinewidth\":0,\"ticks\":\"\"},\"colorscale\":[[0.0,\"#0d0887\"],[0.1111111111111111,\"#46039f\"],[0.2222222222222222,\"#7201a8\"],[0.3333333333333333,\"#9c179e\"],[0.4444444444444444,\"#bd3786\"],[0.5555555555555556,\"#d8576b\"],[0.6666666666666666,\"#ed7953\"],[0.7777777777777778,\"#fb9f3a\"],[0.8888888888888888,\"#fdca26\"],[1.0,\"#f0f921\"]],\"type\":\"heatmap\"}],\"heatmapgl\":[{\"colorbar\":{\"outlinewidth\":0,\"ticks\":\"\"},\"colorscale\":[[0.0,\"#0d0887\"],[0.1111111111111111,\"#46039f\"],[0.2222222222222222,\"#7201a8\"],[0.3333333333333333,\"#9c179e\"],[0.4444444444444444,\"#bd3786\"],[0.5555555555555556,\"#d8576b\"],[0.6666666666666666,\"#ed7953\"],[0.7777777777777778,\"#fb9f3a\"],[0.8888888888888888,\"#fdca26\"],[1.0,\"#f0f921\"]],\"type\":\"heatmapgl\"}],\"histogram\":[{\"marker\":{\"pattern\":{\"fillmode\":\"overlay\",\"size\":10,\"solidity\":0.2}},\"type\":\"histogram\"}],\"histogram2d\":[{\"colorbar\":{\"outlinewidth\":0,\"ticks\":\"\"},\"colorscale\":[[0.0,\"#0d0887\"],[0.1111111111111111,\"#46039f\"],[0.2222222222222222,\"#7201a8\"],[0.3333333333333333,\"#9c179e\"],[0.4444444444444444,\"#bd3786\"],[0.5555555555555556,\"#d8576b\"],[0.6666666666666666,\"#ed7953\"],[0.7777777777777778,\"#fb9f3a\"],[0.8888888888888888,\"#fdca26\"],[1.0,\"#f0f921\"]],\"type\":\"histogram2d\"}],\"histogram2dcontour\":[{\"colorbar\":{\"outlinewidth\":0,\"ticks\":\"\"},\"colorscale\":[[0.0,\"#0d0887\"],[0.1111111111111111,\"#46039f\"],[0.2222222222222222,\"#7201a8\"],[0.3333333333333333,\"#9c179e\"],[0.4444444444444444,\"#bd3786\"],[0.5555555555555556,\"#d8576b\"],[0.6666666666666666,\"#ed7953\"],[0.7777777777777778,\"#fb9f3a\"],[0.8888888888888888,\"#fdca26\"],[1.0,\"#f0f921\"]],\"type\":\"histogram2dcontour\"}],\"mesh3d\":[{\"colorbar\":{\"outlinewidth\":0,\"ticks\":\"\"},\"type\":\"mesh3d\"}],\"parcoords\":[{\"line\":{\"colorbar\":{\"outlinewidth\":0,\"ticks\":\"\"}},\"type\":\"parcoords\"}],\"pie\":[{\"automargin\":true,\"type\":\"pie\"}],\"scatter\":[{\"marker\":{\"colorbar\":{\"outlinewidth\":0,\"ticks\":\"\"}},\"type\":\"scatter\"}],\"scatter3d\":[{\"line\":{\"colorbar\":{\"outlinewidth\":0,\"ticks\":\"\"}},\"marker\":{\"colorbar\":{\"outlinewidth\":0,\"ticks\":\"\"}},\"type\":\"scatter3d\"}],\"scattercarpet\":[{\"marker\":{\"colorbar\":{\"outlinewidth\":0,\"ticks\":\"\"}},\"type\":\"scattercarpet\"}],\"scattergeo\":[{\"marker\":{\"colorbar\":{\"outlinewidth\":0,\"ticks\":\"\"}},\"type\":\"scattergeo\"}],\"scattergl\":[{\"marker\":{\"colorbar\":{\"outlinewidth\":0,\"ticks\":\"\"}},\"type\":\"scattergl\"}],\"scattermapbox\":[{\"marker\":{\"colorbar\":{\"outlinewidth\":0,\"ticks\":\"\"}},\"type\":\"scattermapbox\"}],\"scatterpolar\":[{\"marker\":{\"colorbar\":{\"outlinewidth\":0,\"ticks\":\"\"}},\"type\":\"scatterpolar\"}],\"scatterpolargl\":[{\"marker\":{\"colorbar\":{\"outlinewidth\":0,\"ticks\":\"\"}},\"type\":\"scatterpolargl\"}],\"scatterternary\":[{\"marker\":{\"colorbar\":{\"outlinewidth\":0,\"ticks\":\"\"}},\"type\":\"scatterternary\"}],\"surface\":[{\"colorbar\":{\"outlinewidth\":0,\"ticks\":\"\"},\"colorscale\":[[0.0,\"#0d0887\"],[0.1111111111111111,\"#46039f\"],[0.2222222222222222,\"#7201a8\"],[0.3333333333333333,\"#9c179e\"],[0.4444444444444444,\"#bd3786\"],[0.5555555555555556,\"#d8576b\"],[0.6666666666666666,\"#ed7953\"],[0.7777777777777778,\"#fb9f3a\"],[0.8888888888888888,\"#fdca26\"],[1.0,\"#f0f921\"]],\"type\":\"surface\"}],\"table\":[{\"cells\":{\"fill\":{\"color\":\"#EBF0F8\"},\"line\":{\"color\":\"white\"}},\"header\":{\"fill\":{\"color\":\"#C8D4E3\"},\"line\":{\"color\":\"white\"}},\"type\":\"table\"}]},\"layout\":{\"annotationdefaults\":{\"arrowcolor\":\"#2a3f5f\",\"arrowhead\":0,\"arrowwidth\":1},\"autotypenumbers\":\"strict\",\"coloraxis\":{\"colorbar\":{\"outlinewidth\":0,\"ticks\":\"\"}},\"colorscale\":{\"diverging\":[[0,\"#8e0152\"],[0.1,\"#c51b7d\"],[0.2,\"#de77ae\"],[0.3,\"#f1b6da\"],[0.4,\"#fde0ef\"],[0.5,\"#f7f7f7\"],[0.6,\"#e6f5d0\"],[0.7,\"#b8e186\"],[0.8,\"#7fbc41\"],[0.9,\"#4d9221\"],[1,\"#276419\"]],\"sequential\":[[0.0,\"#0d0887\"],[0.1111111111111111,\"#46039f\"],[0.2222222222222222,\"#7201a8\"],[0.3333333333333333,\"#9c179e\"],[0.4444444444444444,\"#bd3786\"],[0.5555555555555556,\"#d8576b\"],[0.6666666666666666,\"#ed7953\"],[0.7777777777777778,\"#fb9f3a\"],[0.8888888888888888,\"#fdca26\"],[1.0,\"#f0f921\"]],\"sequentialminus\":[[0.0,\"#0d0887\"],[0.1111111111111111,\"#46039f\"],[0.2222222222222222,\"#7201a8\"],[0.3333333333333333,\"#9c179e\"],[0.4444444444444444,\"#bd3786\"],[0.5555555555555556,\"#d8576b\"],[0.6666666666666666,\"#ed7953\"],[0.7777777777777778,\"#fb9f3a\"],[0.8888888888888888,\"#fdca26\"],[1.0,\"#f0f921\"]]},\"colorway\":[\"#636efa\",\"#EF553B\",\"#00cc96\",\"#ab63fa\",\"#FFA15A\",\"#19d3f3\",\"#FF6692\",\"#B6E880\",\"#FF97FF\",\"#FECB52\"],\"font\":{\"color\":\"#2a3f5f\"},\"geo\":{\"bgcolor\":\"white\",\"lakecolor\":\"white\",\"landcolor\":\"#E5ECF6\",\"showlakes\":true,\"showland\":true,\"subunitcolor\":\"white\"},\"hoverlabel\":{\"align\":\"left\"},\"hovermode\":\"closest\",\"mapbox\":{\"style\":\"light\"},\"paper_bgcolor\":\"white\",\"plot_bgcolor\":\"#E5ECF6\",\"polar\":{\"angularaxis\":{\"gridcolor\":\"white\",\"linecolor\":\"white\",\"ticks\":\"\"},\"bgcolor\":\"#E5ECF6\",\"radialaxis\":{\"gridcolor\":\"white\",\"linecolor\":\"white\",\"ticks\":\"\"}},\"scene\":{\"xaxis\":{\"backgroundcolor\":\"#E5ECF6\",\"gridcolor\":\"white\",\"gridwidth\":2,\"linecolor\":\"white\",\"showbackground\":true,\"ticks\":\"\",\"zerolinecolor\":\"white\"},\"yaxis\":{\"backgroundcolor\":\"#E5ECF6\",\"gridcolor\":\"white\",\"gridwidth\":2,\"linecolor\":\"white\",\"showbackground\":true,\"ticks\":\"\",\"zerolinecolor\":\"white\"},\"zaxis\":{\"backgroundcolor\":\"#E5ECF6\",\"gridcolor\":\"white\",\"gridwidth\":2,\"linecolor\":\"white\",\"showbackground\":true,\"ticks\":\"\",\"zerolinecolor\":\"white\"}},\"shapedefaults\":{\"line\":{\"color\":\"#2a3f5f\"}},\"ternary\":{\"aaxis\":{\"gridcolor\":\"white\",\"linecolor\":\"white\",\"ticks\":\"\"},\"baxis\":{\"gridcolor\":\"white\",\"linecolor\":\"white\",\"ticks\":\"\"},\"bgcolor\":\"#E5ECF6\",\"caxis\":{\"gridcolor\":\"white\",\"linecolor\":\"white\",\"ticks\":\"\"}},\"title\":{\"x\":0.05},\"xaxis\":{\"automargin\":true,\"gridcolor\":\"white\",\"linecolor\":\"white\",\"ticks\":\"\",\"title\":{\"standoff\":15},\"zerolinecolor\":\"white\",\"zerolinewidth\":2},\"yaxis\":{\"automargin\":true,\"gridcolor\":\"white\",\"linecolor\":\"white\",\"ticks\":\"\",\"title\":{\"standoff\":15},\"zerolinecolor\":\"white\",\"zerolinewidth\":2}}},\"shapes\":[{\"line\":{\"color\":\"green\"},\"type\":\"rect\",\"x0\":906,\"x1\":915,\"y0\":0,\"y1\":0.259,\"xref\":\"x\",\"yref\":\"y\"},{\"line\":{\"color\":\"green\"},\"type\":\"rect\",\"x0\":502,\"x1\":532,\"y0\":0,\"y1\":0.727,\"xref\":\"x\",\"yref\":\"y\"},{\"line\":{\"color\":\"green\"},\"type\":\"rect\",\"x0\":622,\"x1\":652,\"y0\":0,\"y1\":0.968,\"xref\":\"x\",\"yref\":\"y\"},{\"line\":{\"color\":\"green\"},\"type\":\"rect\",\"x0\":563,\"x1\":593,\"y0\":0,\"y1\":0.968,\"xref\":\"x\",\"yref\":\"y\"},{\"line\":{\"color\":\"green\"},\"type\":\"rect\",\"x0\":685,\"x1\":715,\"y0\":0,\"y1\":0.963,\"xref\":\"x\",\"yref\":\"y\"},{\"line\":{\"color\":\"green\"},\"type\":\"rect\",\"x0\":511,\"x1\":541,\"y0\":0,\"y1\":0.857,\"xref\":\"x\",\"yref\":\"y\"},{\"line\":{\"color\":\"green\"},\"type\":\"rect\",\"x0\":652,\"x1\":666,\"y0\":0,\"y1\":0.453,\"xref\":\"x\",\"yref\":\"y\"},{\"line\":{\"color\":\"green\"},\"type\":\"rect\",\"x0\":565,\"x1\":595,\"y0\":0,\"y1\":0.969,\"xref\":\"x\",\"yref\":\"y\"},{\"line\":{\"color\":\"green\"},\"type\":\"rect\",\"x0\":687,\"x1\":717,\"y0\":0,\"y1\":0.961,\"xref\":\"x\",\"yref\":\"y\"},{\"line\":{\"color\":\"green\"},\"type\":\"rect\",\"x0\":822,\"x1\":852,\"y0\":0,\"y1\":0.956,\"xref\":\"x\",\"yref\":\"y\"},{\"line\":{\"color\":\"green\"},\"type\":\"rect\",\"x0\":623,\"x1\":653,\"y0\":0,\"y1\":0.968,\"xref\":\"x\",\"yref\":\"y\"},{\"line\":{\"color\":\"green\"},\"type\":\"rect\",\"x0\":764,\"x1\":794,\"y0\":0,\"y1\":0.944,\"xref\":\"x\",\"yref\":\"y\"},{\"line\":{\"color\":\"green\"},\"type\":\"rect\",\"x0\":625,\"x1\":655,\"y0\":0,\"y1\":0.968,\"xref\":\"x\",\"yref\":\"y\"},{\"line\":{\"color\":\"green\"},\"type\":\"rect\",\"x0\":777,\"x1\":807,\"y0\":0,\"y1\":0.943,\"xref\":\"x\",\"yref\":\"y\"},{\"line\":{\"color\":\"green\"},\"type\":\"rect\",\"x0\":627,\"x1\":657,\"y0\":0,\"y1\":0.969,\"xref\":\"x\",\"yref\":\"y\"},{\"line\":{\"color\":\"green\"},\"type\":\"rect\",\"x0\":781,\"x1\":811,\"y0\":0,\"y1\":0.947,\"xref\":\"x\",\"yref\":\"y\"},{\"line\":{\"color\":\"green\"},\"type\":\"rect\",\"x0\":567,\"x1\":597,\"y0\":0,\"y1\":0.97,\"xref\":\"x\",\"yref\":\"y\"},{\"line\":{\"color\":\"green\"},\"type\":\"rect\",\"x0\":690,\"x1\":720,\"y0\":0,\"y1\":0.957,\"xref\":\"x\",\"yref\":\"y\"},{\"line\":{\"color\":\"green\"},\"type\":\"rect\",\"x0\":846,\"x1\":876,\"y0\":0,\"y1\":0.958,\"xref\":\"x\",\"yref\":\"y\"},{\"line\":{\"color\":\"green\"},\"type\":\"rect\",\"x0\":518,\"x1\":548,\"y0\":0,\"y1\":0.888,\"xref\":\"x\",\"yref\":\"y\"},{\"line\":{\"color\":\"green\"},\"type\":\"rect\",\"x0\":653,\"x1\":683,\"y0\":0,\"y1\":0.964,\"xref\":\"x\",\"yref\":\"y\"},{\"line\":{\"color\":\"green\"},\"type\":\"rect\",\"x0\":794,\"x1\":804,\"y0\":0,\"y1\":0.313,\"xref\":\"x\",\"yref\":\"y\"},{\"line\":{\"color\":\"green\"},\"type\":\"rect\",\"x0\":691,\"x1\":721,\"y0\":0,\"y1\":0.959,\"xref\":\"x\",\"yref\":\"y\"},{\"line\":{\"color\":\"green\"},\"type\":\"rect\",\"x0\":907,\"x1\":926,\"y0\":0,\"y1\":0.538,\"xref\":\"x\",\"yref\":\"y\"},{\"line\":{\"color\":\"green\"},\"type\":\"rect\",\"x0\":822,\"x1\":852,\"y0\":0,\"y1\":0.956,\"xref\":\"x\",\"yref\":\"y\"},{\"line\":{\"color\":\"green\"},\"type\":\"rect\",\"x0\":909,\"x1\":939,\"y0\":0,\"y1\":0.849,\"xref\":\"x\",\"yref\":\"y\"},{\"line\":{\"color\":\"green\"},\"type\":\"rect\",\"x0\":912,\"x1\":942,\"y0\":0,\"y1\":0.837,\"xref\":\"x\",\"yref\":\"y\"},{\"line\":{\"color\":\"green\"},\"type\":\"rect\",\"x0\":571,\"x1\":601,\"y0\":0,\"y1\":0.973,\"xref\":\"x\",\"yref\":\"y\"},{\"line\":{\"color\":\"green\"},\"type\":\"rect\",\"x0\":691,\"x1\":721,\"y0\":0,\"y1\":0.959,\"xref\":\"x\",\"yref\":\"y\"},{\"line\":{\"color\":\"green\"},\"type\":\"rect\",\"x0\":846,\"x1\":876,\"y0\":0,\"y1\":0.958,\"xref\":\"x\",\"yref\":\"y\"},{\"line\":{\"color\":\"green\"},\"type\":\"rect\",\"x0\":822,\"x1\":852,\"y0\":0,\"y1\":0.956,\"xref\":\"x\",\"yref\":\"y\"},{\"line\":{\"color\":\"green\"},\"type\":\"rect\",\"x0\":524,\"x1\":554,\"y0\":0,\"y1\":0.912,\"xref\":\"x\",\"yref\":\"y\"},{\"line\":{\"color\":\"green\"},\"type\":\"rect\",\"x0\":655,\"x1\":685,\"y0\":0,\"y1\":0.964,\"xref\":\"x\",\"yref\":\"y\"},{\"line\":{\"color\":\"green\"},\"type\":\"rect\",\"x0\":912,\"x1\":942,\"y0\":0,\"y1\":0.837,\"xref\":\"x\",\"yref\":\"y\"},{\"line\":{\"color\":\"green\"},\"type\":\"rect\",\"x0\":571,\"x1\":601,\"y0\":0,\"y1\":0.973,\"xref\":\"x\",\"yref\":\"y\"},{\"line\":{\"color\":\"green\"},\"type\":\"rect\",\"x0\":691,\"x1\":721,\"y0\":0,\"y1\":0.959,\"xref\":\"x\",\"yref\":\"y\"},{\"line\":{\"color\":\"green\"},\"type\":\"rect\",\"x0\":661,\"x1\":691,\"y0\":0,\"y1\":0.966,\"xref\":\"x\",\"yref\":\"y\"},{\"line\":{\"color\":\"green\"},\"type\":\"rect\",\"x0\":808,\"x1\":838,\"y0\":0,\"y1\":0.955,\"xref\":\"x\",\"yref\":\"y\"},{\"line\":{\"color\":\"green\"},\"type\":\"rect\",\"x0\":876,\"x1\":891,\"y0\":0,\"y1\":0.46,\"xref\":\"x\",\"yref\":\"y\"},{\"line\":{\"color\":\"green\"},\"type\":\"rect\",\"x0\":571,\"x1\":601,\"y0\":0,\"y1\":0.973,\"xref\":\"x\",\"yref\":\"y\"},{\"line\":{\"color\":\"green\"},\"type\":\"rect\",\"x0\":694,\"x1\":724,\"y0\":0,\"y1\":0.963,\"xref\":\"x\",\"yref\":\"y\"},{\"line\":{\"color\":\"green\"},\"type\":\"rect\",\"x0\":848,\"x1\":878,\"y0\":0,\"y1\":0.955,\"xref\":\"x\",\"yref\":\"y\"},{\"line\":{\"color\":\"green\"},\"type\":\"rect\",\"x0\":574,\"x1\":604,\"y0\":0,\"y1\":0.972,\"xref\":\"x\",\"yref\":\"y\"},{\"line\":{\"color\":\"green\"},\"type\":\"rect\",\"x0\":696,\"x1\":726,\"y0\":0,\"y1\":0.964,\"xref\":\"x\",\"yref\":\"y\"},{\"line\":{\"color\":\"green\"},\"type\":\"rect\",\"x0\":876,\"x1\":898,\"y0\":0,\"y1\":0.671,\"xref\":\"x\",\"yref\":\"y\"},{\"line\":{\"color\":\"green\"},\"type\":\"rect\",\"x0\":876,\"x1\":905,\"y0\":0,\"y1\":0.88,\"xref\":\"x\",\"yref\":\"y\"},{\"line\":{\"color\":\"green\"},\"type\":\"rect\",\"x0\":530,\"x1\":560,\"y0\":0,\"y1\":0.925,\"xref\":\"x\",\"yref\":\"y\"},{\"line\":{\"color\":\"green\"},\"type\":\"rect\",\"x0\":657,\"x1\":687,\"y0\":0,\"y1\":0.964,\"xref\":\"x\",\"yref\":\"y\"},{\"line\":{\"color\":\"green\"},\"type\":\"rect\",\"x0\":802,\"x1\":832,\"y0\":0,\"y1\":0.952,\"xref\":\"x\",\"yref\":\"y\"},{\"line\":{\"color\":\"green\"},\"type\":\"rect\",\"x0\":575,\"x1\":605,\"y0\":0,\"y1\":0.973,\"xref\":\"x\",\"yref\":\"y\"},{\"line\":{\"color\":\"green\"},\"type\":\"rect\",\"x0\":698,\"x1\":728,\"y0\":0,\"y1\":0.964,\"xref\":\"x\",\"yref\":\"y\"},{\"line\":{\"color\":\"green\"},\"type\":\"rect\",\"x0\":849,\"x1\":879,\"y0\":0,\"y1\":0.956,\"xref\":\"x\",\"yref\":\"y\"},{\"line\":{\"color\":\"green\"},\"type\":\"rect\",\"x0\":578,\"x1\":608,\"y0\":0,\"y1\":0.972,\"xref\":\"x\",\"yref\":\"y\"},{\"line\":{\"color\":\"green\"},\"type\":\"rect\",\"x0\":700,\"x1\":730,\"y0\":0,\"y1\":0.963,\"xref\":\"x\",\"yref\":\"y\"},{\"line\":{\"color\":\"green\"},\"type\":\"rect\",\"x0\":631,\"x1\":661,\"y0\":0,\"y1\":0.97,\"xref\":\"x\",\"yref\":\"y\"},{\"line\":{\"color\":\"green\"},\"type\":\"rect\",\"x0\":788,\"x1\":818,\"y0\":0,\"y1\":0.951,\"xref\":\"x\",\"yref\":\"y\"},{\"line\":{\"color\":\"green\"},\"type\":\"rect\",\"x0\":579,\"x1\":609,\"y0\":0,\"y1\":0.971,\"xref\":\"x\",\"yref\":\"y\"},{\"line\":{\"color\":\"green\"},\"type\":\"rect\",\"x0\":702,\"x1\":732,\"y0\":0,\"y1\":0.961,\"xref\":\"x\",\"yref\":\"y\"},{\"line\":{\"color\":\"green\"},\"type\":\"rect\",\"x0\":631,\"x1\":661,\"y0\":0,\"y1\":0.97,\"xref\":\"x\",\"yref\":\"y\"},{\"line\":{\"color\":\"green\"},\"type\":\"rect\",\"x0\":789,\"x1\":816,\"y0\":0,\"y1\":0.854,\"xref\":\"x\",\"yref\":\"y\"},{\"line\":{\"color\":\"green\"},\"type\":\"rect\",\"x0\":580,\"x1\":610,\"y0\":0,\"y1\":0.971,\"xref\":\"x\",\"yref\":\"y\"},{\"line\":{\"color\":\"green\"},\"type\":\"rect\",\"x0\":704,\"x1\":734,\"y0\":0,\"y1\":0.963,\"xref\":\"x\",\"yref\":\"y\"},{\"line\":{\"color\":\"green\"},\"type\":\"rect\",\"x0\":852,\"x1\":882,\"y0\":0,\"y1\":0.957,\"xref\":\"x\",\"yref\":\"y\"},{\"line\":{\"color\":\"green\"},\"type\":\"rect\",\"x0\":939,\"x1\":950,\"y0\":0,\"y1\":0.258,\"xref\":\"x\",\"yref\":\"y\"},{\"line\":{\"color\":\"green\"},\"type\":\"rect\",\"x0\":823,\"x1\":853,\"y0\":0,\"y1\":0.955,\"xref\":\"x\",\"yref\":\"y\"},{\"line\":{\"color\":\"green\"},\"type\":\"rect\",\"x0\":584,\"x1\":614,\"y0\":0,\"y1\":0.969,\"xref\":\"x\",\"yref\":\"y\"},{\"line\":{\"color\":\"green\"},\"type\":\"rect\",\"x0\":704,\"x1\":734,\"y0\":0,\"y1\":0.963,\"xref\":\"x\",\"yref\":\"y\"},{\"line\":{\"color\":\"green\"},\"type\":\"rect\",\"x0\":852,\"x1\":876,\"y0\":0,\"y1\":0.768,\"xref\":\"x\",\"yref\":\"y\"},{\"line\":{\"color\":\"green\"},\"type\":\"rect\",\"x0\":584,\"x1\":614,\"y0\":0,\"y1\":0.969,\"xref\":\"x\",\"yref\":\"y\"},{\"line\":{\"color\":\"green\"},\"type\":\"rect\",\"x0\":704,\"x1\":734,\"y0\":0,\"y1\":0.963,\"xref\":\"x\",\"yref\":\"y\"},{\"line\":{\"color\":\"green\"},\"type\":\"rect\",\"x0\":852,\"x1\":882,\"y0\":0,\"y1\":0.957,\"xref\":\"x\",\"yref\":\"y\"},{\"line\":{\"color\":\"green\"},\"type\":\"rect\",\"x0\":631,\"x1\":661,\"y0\":0,\"y1\":0.97,\"xref\":\"x\",\"yref\":\"y\"},{\"line\":{\"color\":\"green\"},\"type\":\"rect\",\"x0\":634,\"x1\":664,\"y0\":0,\"y1\":0.967,\"xref\":\"x\",\"yref\":\"y\"},{\"line\":{\"color\":\"green\"},\"type\":\"rect\",\"x0\":584,\"x1\":614,\"y0\":0,\"y1\":0.969,\"xref\":\"x\",\"yref\":\"y\"},{\"line\":{\"color\":\"green\"},\"type\":\"rect\",\"x0\":709,\"x1\":739,\"y0\":0,\"y1\":0.961,\"xref\":\"x\",\"yref\":\"y\"},{\"line\":{\"color\":\"green\"},\"type\":\"rect\",\"x0\":828,\"x1\":858,\"y0\":0,\"y1\":0.956,\"xref\":\"x\",\"yref\":\"y\"},{\"line\":{\"color\":\"green\"},\"type\":\"rect\",\"x0\":589,\"x1\":619,\"y0\":0,\"y1\":0.968,\"xref\":\"x\",\"yref\":\"y\"},{\"line\":{\"color\":\"green\"},\"type\":\"rect\",\"x0\":713,\"x1\":743,\"y0\":0,\"y1\":0.962,\"xref\":\"x\",\"yref\":\"y\"},{\"line\":{\"color\":\"green\"},\"type\":\"rect\",\"x0\":832,\"x1\":862,\"y0\":0,\"y1\":0.958,\"xref\":\"x\",\"yref\":\"y\"},{\"line\":{\"color\":\"green\"},\"type\":\"rect\",\"x0\":590,\"x1\":620,\"y0\":0,\"y1\":0.967,\"xref\":\"x\",\"yref\":\"y\"},{\"line\":{\"color\":\"green\"},\"type\":\"rect\",\"x0\":715,\"x1\":745,\"y0\":0,\"y1\":0.96,\"xref\":\"x\",\"yref\":\"y\"},{\"line\":{\"color\":\"green\"},\"type\":\"rect\",\"x0\":858,\"x1\":864,\"y0\":0,\"y1\":0.192,\"xref\":\"x\",\"yref\":\"y\"},{\"line\":{\"color\":\"green\"},\"type\":\"rect\",\"x0\":864,\"x1\":877,\"y0\":0,\"y1\":0.795,\"xref\":\"x\",\"yref\":\"y\"},{\"line\":{\"color\":\"green\"},\"type\":\"rect\",\"x0\":591,\"x1\":621,\"y0\":0,\"y1\":0.967,\"xref\":\"x\",\"yref\":\"y\"},{\"line\":{\"color\":\"green\"},\"type\":\"rect\",\"x0\":717,\"x1\":747,\"y0\":0,\"y1\":0.961,\"xref\":\"x\",\"yref\":\"y\"},{\"line\":{\"color\":\"green\"},\"type\":\"rect\",\"x0\":871,\"x1\":885,\"y0\":0,\"y1\":0.437,\"xref\":\"x\",\"yref\":\"y\"},{\"line\":{\"color\":\"green\"},\"type\":\"rect\",\"x0\":635,\"x1\":665,\"y0\":0,\"y1\":0.967,\"xref\":\"x\",\"yref\":\"y\"},{\"line\":{\"color\":\"green\"},\"type\":\"rect\",\"x0\":792,\"x1\":822,\"y0\":0,\"y1\":0.948,\"xref\":\"x\",\"yref\":\"y\"},{\"line\":{\"color\":\"green\"},\"type\":\"rect\",\"x0\":592,\"x1\":622,\"y0\":0,\"y1\":0.968,\"xref\":\"x\",\"yref\":\"y\"},{\"line\":{\"color\":\"green\"},\"type\":\"rect\",\"x0\":721,\"x1\":750,\"y0\":0,\"y1\":0.926,\"xref\":\"x\",\"yref\":\"y\"},{\"line\":{\"color\":\"green\"},\"type\":\"rect\",\"x0\":834,\"x1\":864,\"y0\":0,\"y1\":0.959,\"xref\":\"x\",\"yref\":\"y\"},{\"line\":{\"color\":\"green\"},\"type\":\"rect\",\"x0\":532,\"x1\":562,\"y0\":0,\"y1\":0.933,\"xref\":\"x\",\"yref\":\"y\"},{\"line\":{\"color\":\"green\"},\"type\":\"rect\",\"x0\":661,\"x1\":691,\"y0\":0,\"y1\":0.966,\"xref\":\"x\",\"yref\":\"y\"},{\"line\":{\"color\":\"green\"},\"type\":\"rect\",\"x0\":804,\"x1\":834,\"y0\":0,\"y1\":0.955,\"xref\":\"x\",\"yref\":\"y\"},{\"line\":{\"color\":\"green\"},\"type\":\"rect\",\"x0\":664,\"x1\":694,\"y0\":0,\"y1\":0.965,\"xref\":\"x\",\"yref\":\"y\"},{\"line\":{\"color\":\"green\"},\"type\":\"rect\",\"x0\":811,\"x1\":841,\"y0\":0,\"y1\":0.957,\"xref\":\"x\",\"yref\":\"y\"},{\"line\":{\"color\":\"green\"},\"type\":\"rect\",\"x0\":593,\"x1\":623,\"y0\":0,\"y1\":0.969,\"xref\":\"x\",\"yref\":\"y\"},{\"line\":{\"color\":\"green\"},\"type\":\"rect\",\"x0\":721,\"x1\":751,\"y0\":0,\"y1\":0.959,\"xref\":\"x\",\"yref\":\"y\"},{\"line\":{\"color\":\"green\"},\"type\":\"rect\",\"x0\":595,\"x1\":625,\"y0\":0,\"y1\":0.971,\"xref\":\"x\",\"yref\":\"y\"},{\"line\":{\"color\":\"green\"},\"type\":\"rect\",\"x0\":721,\"x1\":751,\"y0\":0,\"y1\":0.959,\"xref\":\"x\",\"yref\":\"y\"},{\"line\":{\"color\":\"green\"},\"type\":\"rect\",\"x0\":535,\"x1\":565,\"y0\":0,\"y1\":0.937,\"xref\":\"x\",\"yref\":\"y\"},{\"line\":{\"color\":\"green\"},\"type\":\"rect\",\"x0\":661,\"x1\":691,\"y0\":0,\"y1\":0.966,\"xref\":\"x\",\"yref\":\"y\"},{\"line\":{\"color\":\"green\"},\"type\":\"rect\",\"x0\":807,\"x1\":816,\"y0\":0,\"y1\":0.286,\"xref\":\"x\",\"yref\":\"y\"},{\"line\":{\"color\":\"green\"},\"type\":\"rect\",\"x0\":638,\"x1\":668,\"y0\":0,\"y1\":0.967,\"xref\":\"x\",\"yref\":\"y\"},{\"line\":{\"color\":\"green\"},\"type\":\"rect\",\"x0\":541,\"x1\":571,\"y0\":0,\"y1\":0.947,\"xref\":\"x\",\"yref\":\"y\"},{\"line\":{\"color\":\"green\"},\"type\":\"rect\",\"x0\":665,\"x1\":672,\"y0\":0,\"y1\":0.224,\"xref\":\"x\",\"yref\":\"y\"},{\"line\":{\"color\":\"green\"},\"type\":\"rect\",\"x0\":942,\"x1\":960,\"y0\":0,\"y1\":0.547,\"xref\":\"x\",\"yref\":\"y\"},{\"line\":{\"color\":\"green\"},\"type\":\"rect\",\"x0\":838,\"x1\":868,\"y0\":0,\"y1\":0.957,\"xref\":\"x\",\"yref\":\"y\"},{\"line\":{\"color\":\"green\"},\"type\":\"rect\",\"x0\":597,\"x1\":627,\"y0\":0,\"y1\":0.97,\"xref\":\"x\",\"yref\":\"y\"},{\"line\":{\"color\":\"green\"},\"type\":\"rect\",\"x0\":724,\"x1\":754,\"y0\":0,\"y1\":0.954,\"xref\":\"x\",\"yref\":\"y\"},{\"line\":{\"color\":\"green\"},\"type\":\"rect\",\"x0\":879,\"x1\":909,\"y0\":0,\"y1\":0.912,\"xref\":\"x\",\"yref\":\"y\"},{\"line\":{\"color\":\"green\"},\"type\":\"rect\",\"x0\":942,\"x1\":960,\"y0\":0,\"y1\":0.547,\"xref\":\"x\",\"yref\":\"y\"},{\"line\":{\"color\":\"green\"},\"type\":\"rect\",\"x0\":601,\"x1\":631,\"y0\":0,\"y1\":0.965,\"xref\":\"x\",\"yref\":\"y\"},{\"line\":{\"color\":\"green\"},\"type\":\"rect\",\"x0\":726,\"x1\":728,\"y0\":0,\"y1\":0.064,\"xref\":\"x\",\"yref\":\"y\"},{\"line\":{\"color\":\"green\"},\"type\":\"rect\",\"x0\":728,\"x1\":759,\"y0\":0,\"y1\":1.939,\"xref\":\"x\",\"yref\":\"y\"},{\"line\":{\"color\":\"green\"},\"type\":\"rect\",\"x0\":541,\"x1\":571,\"y0\":0,\"y1\":0.947,\"xref\":\"x\",\"yref\":\"y\"},{\"line\":{\"color\":\"green\"},\"type\":\"rect\",\"x0\":666,\"x1\":696,\"y0\":0,\"y1\":0.965,\"xref\":\"x\",\"yref\":\"y\"},{\"line\":{\"color\":\"green\"},\"type\":\"rect\",\"x0\":545,\"x1\":575,\"y0\":0,\"y1\":0.952,\"xref\":\"x\",\"yref\":\"y\"},{\"line\":{\"color\":\"green\"},\"type\":\"rect\",\"x0\":668,\"x1\":698,\"y0\":0,\"y1\":0.965,\"xref\":\"x\",\"yref\":\"y\"},{\"line\":{\"color\":\"green\"},\"type\":\"rect\",\"x0\":813,\"x1\":843,\"y0\":0,\"y1\":0.956,\"xref\":\"x\",\"yref\":\"y\"},{\"line\":{\"color\":\"green\"},\"type\":\"rect\",\"x0\":548,\"x1\":578,\"y0\":0,\"y1\":0.959,\"xref\":\"x\",\"yref\":\"y\"},{\"line\":{\"color\":\"green\"},\"type\":\"rect\",\"x0\":670,\"x1\":700,\"y0\":0,\"y1\":0.965,\"xref\":\"x\",\"yref\":\"y\"},{\"line\":{\"color\":\"green\"},\"type\":\"rect\",\"x0\":816,\"x1\":846,\"y0\":0,\"y1\":0.958,\"xref\":\"x\",\"yref\":\"y\"},{\"line\":{\"color\":\"green\"},\"type\":\"rect\",\"x0\":841,\"x1\":871,\"y0\":0,\"y1\":0.959,\"xref\":\"x\",\"yref\":\"y\"},{\"line\":{\"color\":\"green\"},\"type\":\"rect\",\"x0\":640,\"x1\":670,\"y0\":0,\"y1\":0.967,\"xref\":\"x\",\"yref\":\"y\"},{\"line\":{\"color\":\"green\"},\"type\":\"rect\",\"x0\":792,\"x1\":822,\"y0\":0,\"y1\":0.948,\"xref\":\"x\",\"yref\":\"y\"},{\"line\":{\"color\":\"green\"},\"type\":\"rect\",\"x0\":876,\"x1\":906,\"y0\":0,\"y1\":0.913,\"xref\":\"x\",\"yref\":\"y\"},{\"line\":{\"color\":\"green\"},\"type\":\"rect\",\"x0\":877,\"x1\":907,\"y0\":0,\"y1\":0.914,\"xref\":\"x\",\"yref\":\"y\"},{\"line\":{\"color\":\"green\"},\"type\":\"rect\",\"x0\":644,\"x1\":674,\"y0\":0,\"y1\":0.964,\"xref\":\"x\",\"yref\":\"y\"},{\"line\":{\"color\":\"green\"},\"type\":\"rect\",\"x0\":601,\"x1\":631,\"y0\":0,\"y1\":0.965,\"xref\":\"x\",\"yref\":\"y\"},{\"line\":{\"color\":\"green\"},\"type\":\"rect\",\"x0\":730,\"x1\":760,\"y0\":0,\"y1\":0.952,\"xref\":\"x\",\"yref\":\"y\"},{\"line\":{\"color\":\"green\"},\"type\":\"rect\",\"x0\":601,\"x1\":631,\"y0\":0,\"y1\":0.965,\"xref\":\"x\",\"yref\":\"y\"},{\"line\":{\"color\":\"green\"},\"type\":\"rect\",\"x0\":734,\"x1\":764,\"y0\":0,\"y1\":0.954,\"xref\":\"x\",\"yref\":\"y\"},{\"line\":{\"color\":\"green\"},\"type\":\"rect\",\"x0\":882,\"x1\":912,\"y0\":0,\"y1\":0.902,\"xref\":\"x\",\"yref\":\"y\"},{\"line\":{\"color\":\"green\"},\"type\":\"rect\",\"x0\":601,\"x1\":631,\"y0\":0,\"y1\":0.965,\"xref\":\"x\",\"yref\":\"y\"},{\"line\":{\"color\":\"green\"},\"type\":\"rect\",\"x0\":734,\"x1\":764,\"y0\":0,\"y1\":0.954,\"xref\":\"x\",\"yref\":\"y\"},{\"line\":{\"color\":\"green\"},\"type\":\"rect\",\"x0\":604,\"x1\":634,\"y0\":0,\"y1\":0.968,\"xref\":\"x\",\"yref\":\"y\"},{\"line\":{\"color\":\"green\"},\"type\":\"rect\",\"x0\":734,\"x1\":764,\"y0\":0,\"y1\":0.954,\"xref\":\"x\",\"yref\":\"y\"},{\"line\":{\"color\":\"green\"},\"type\":\"rect\",\"x0\":550,\"x1\":580,\"y0\":0,\"y1\":0.959,\"xref\":\"x\",\"yref\":\"y\"},{\"line\":{\"color\":\"green\"},\"type\":\"rect\",\"x0\":672,\"x1\":702,\"y0\":0,\"y1\":0.965,\"xref\":\"x\",\"yref\":\"y\"},{\"line\":{\"color\":\"green\"},\"type\":\"rect\",\"x0\":816,\"x1\":846,\"y0\":0,\"y1\":0.958,\"xref\":\"x\",\"yref\":\"y\"},{\"line\":{\"color\":\"green\"},\"type\":\"rect\",\"x0\":554,\"x1\":584,\"y0\":0,\"y1\":0.963,\"xref\":\"x\",\"yref\":\"y\"},{\"line\":{\"color\":\"green\"},\"type\":\"rect\",\"x0\":674,\"x1\":704,\"y0\":0,\"y1\":0.965,\"xref\":\"x\",\"yref\":\"y\"},{\"line\":{\"color\":\"green\"},\"type\":\"rect\",\"x0\":605,\"x1\":635,\"y0\":0,\"y1\":0.968,\"xref\":\"x\",\"yref\":\"y\"},{\"line\":{\"color\":\"green\"},\"type\":\"rect\",\"x0\":743,\"x1\":770,\"y0\":0,\"y1\":0.85,\"xref\":\"x\",\"yref\":\"y\"},{\"line\":{\"color\":\"green\"},\"type\":\"rect\",\"x0\":554,\"x1\":584,\"y0\":0,\"y1\":0.963,\"xref\":\"x\",\"yref\":\"y\"},{\"line\":{\"color\":\"green\"},\"type\":\"rect\",\"x0\":674,\"x1\":704,\"y0\":0,\"y1\":0.965,\"xref\":\"x\",\"yref\":\"y\"},{\"line\":{\"color\":\"green\"},\"type\":\"rect\",\"x0\":608,\"x1\":638,\"y0\":0,\"y1\":0.968,\"xref\":\"x\",\"yref\":\"y\"},{\"line\":{\"color\":\"green\"},\"type\":\"rect\",\"x0\":747,\"x1\":777,\"y0\":0,\"y1\":0.949,\"xref\":\"x\",\"yref\":\"y\"},{\"line\":{\"color\":\"green\"},\"type\":\"rect\",\"x0\":882,\"x1\":912,\"y0\":0,\"y1\":0.902,\"xref\":\"x\",\"yref\":\"y\"},{\"line\":{\"color\":\"green\"},\"type\":\"rect\",\"x0\":559,\"x1\":589,\"y0\":0,\"y1\":0.966,\"xref\":\"x\",\"yref\":\"y\"},{\"line\":{\"color\":\"green\"},\"type\":\"rect\",\"x0\":674,\"x1\":704,\"y0\":0,\"y1\":0.965,\"xref\":\"x\",\"yref\":\"y\"},{\"line\":{\"color\":\"green\"},\"type\":\"rect\",\"x0\":644,\"x1\":674,\"y0\":0,\"y1\":0.964,\"xref\":\"x\",\"yref\":\"y\"},{\"line\":{\"color\":\"green\"},\"type\":\"rect\",\"x0\":793,\"x1\":823,\"y0\":0,\"y1\":0.947,\"xref\":\"x\",\"yref\":\"y\"},{\"line\":{\"color\":\"green\"},\"type\":\"rect\",\"x0\":843,\"x1\":873,\"y0\":0,\"y1\":0.957,\"xref\":\"x\",\"yref\":\"y\"},{\"line\":{\"color\":\"green\"},\"type\":\"rect\",\"x0\":609,\"x1\":639,\"y0\":0,\"y1\":0.967,\"xref\":\"x\",\"yref\":\"y\"},{\"line\":{\"color\":\"green\"},\"type\":\"rect\",\"x0\":751,\"x1\":762,\"y0\":0,\"y1\":0.35,\"xref\":\"x\",\"yref\":\"y\"},{\"line\":{\"color\":\"green\"},\"type\":\"rect\",\"x0\":610,\"x1\":640,\"y0\":0,\"y1\":0.968,\"xref\":\"x\",\"yref\":\"y\"},{\"line\":{\"color\":\"green\"},\"type\":\"rect\",\"x0\":751,\"x1\":781,\"y0\":0,\"y1\":0.947,\"xref\":\"x\",\"yref\":\"y\"},{\"line\":{\"color\":\"green\"},\"type\":\"rect\",\"x0\":614,\"x1\":644,\"y0\":0,\"y1\":0.971,\"xref\":\"x\",\"yref\":\"y\"},{\"line\":{\"color\":\"green\"},\"type\":\"rect\",\"x0\":758,\"x1\":788,\"y0\":0,\"y1\":0.944,\"xref\":\"x\",\"yref\":\"y\"},{\"line\":{\"color\":\"green\"},\"type\":\"rect\",\"x0\":644,\"x1\":674,\"y0\":0,\"y1\":0.964,\"xref\":\"x\",\"yref\":\"y\"},{\"line\":{\"color\":\"green\"},\"type\":\"rect\",\"x0\":793,\"x1\":822,\"y0\":0,\"y1\":0.915,\"xref\":\"x\",\"yref\":\"y\"},{\"line\":{\"color\":\"green\"},\"type\":\"rect\",\"x0\":614,\"x1\":644,\"y0\":0,\"y1\":0.971,\"xref\":\"x\",\"yref\":\"y\"},{\"line\":{\"color\":\"green\"},\"type\":\"rect\",\"x0\":759,\"x1\":789,\"y0\":0,\"y1\":0.944,\"xref\":\"x\",\"yref\":\"y\"},{\"line\":{\"color\":\"green\"},\"type\":\"rect\",\"x0\":614,\"x1\":644,\"y0\":0,\"y1\":0.971,\"xref\":\"x\",\"yref\":\"y\"},{\"line\":{\"color\":\"green\"},\"type\":\"rect\",\"x0\":762,\"x1\":792,\"y0\":0,\"y1\":0.945,\"xref\":\"x\",\"yref\":\"y\"},{\"line\":{\"color\":\"green\"},\"type\":\"rect\",\"x0\":649,\"x1\":679,\"y0\":0,\"y1\":0.964,\"xref\":\"x\",\"yref\":\"y\"},{\"line\":{\"color\":\"green\"},\"type\":\"rect\",\"x0\":560,\"x1\":590,\"y0\":0,\"y1\":0.968,\"xref\":\"x\",\"yref\":\"y\"},{\"line\":{\"color\":\"green\"},\"type\":\"rect\",\"x0\":679,\"x1\":709,\"y0\":0,\"y1\":0.965,\"xref\":\"x\",\"yref\":\"y\"},{\"line\":{\"color\":\"green\"},\"type\":\"rect\",\"x0\":818,\"x1\":848,\"y0\":0,\"y1\":0.957,\"xref\":\"x\",\"yref\":\"y\"},{\"line\":{\"color\":\"green\"},\"type\":\"rect\",\"x0\":562,\"x1\":592,\"y0\":0,\"y1\":0.969,\"xref\":\"x\",\"yref\":\"y\"},{\"line\":{\"color\":\"green\"},\"type\":\"rect\",\"x0\":683,\"x1\":713,\"y0\":0,\"y1\":0.965,\"xref\":\"x\",\"yref\":\"y\"},{\"line\":{\"color\":\"green\"},\"type\":\"rect\",\"x0\":819,\"x1\":849,\"y0\":0,\"y1\":0.956,\"xref\":\"x\",\"yref\":\"y\"},{\"line\":{\"color\":\"green\"},\"type\":\"rect\",\"x0\":619,\"x1\":649,\"y0\":0,\"y1\":0.971,\"xref\":\"x\",\"yref\":\"y\"},{\"line\":{\"color\":\"green\"},\"type\":\"rect\",\"x0\":621,\"x1\":651,\"y0\":0,\"y1\":0.968,\"xref\":\"x\",\"yref\":\"y\"},{\"line\":{\"color\":\"green\"},\"type\":\"rect\",\"x0\":764,\"x1\":764,\"y0\":0,\"y1\":0,\"xref\":\"x\",\"yref\":\"y\"},{\"line\":{\"color\":\"green\"},\"type\":\"rect\",\"x0\":764,\"x1\":793,\"y0\":0,\"y1\":1.797,\"xref\":\"x\",\"yref\":\"y\"}],\"xaxis\":{\"range\":[480,960],\"showgrid\":true,\"title\":{\"text\":\"Minuten\"}},\"yaxis\":{\"range\":[0,2],\"title\":{\"text\":\"Energie in kWh\"}},\"title\":{\"font\":{\"size\":24},\"text\":\"Ladeenergie pro Ladezeitraum eines BEVs\",\"x\":0.5,\"xanchor\":\"center\"}},                        {\"responsive\": true}                    ).then(function(){\n",
       "                            \n",
       "var gd = document.getElementById('030d1801-ee94-4755-a595-af46ef8c983e');\n",
       "var x = new MutationObserver(function (mutations, observer) {{\n",
       "        var display = window.getComputedStyle(gd).display;\n",
       "        if (!display || display === 'none') {{\n",
       "            console.log([gd, 'removed!']);\n",
       "            Plotly.purge(gd);\n",
       "            observer.disconnect();\n",
       "        }}\n",
       "}});\n",
       "\n",
       "// Listen for the removal of the full notebook cells\n",
       "var notebookContainer = gd.closest('#notebook-container');\n",
       "if (notebookContainer) {{\n",
       "    x.observe(notebookContainer, {childList: true});\n",
       "}}\n",
       "\n",
       "// Listen for the clearing of the current output cell\n",
       "var outputEl = gd.closest('.output');\n",
       "if (outputEl) {{\n",
       "    x.observe(outputEl, {childList: true});\n",
       "}}\n",
       "\n",
       "                        })                };                });            </script>        </div>"
      ]
     },
     "metadata": {},
     "output_type": "display_data"
    }
   ],
   "source": [
    "import figureGeneration\n",
    "\n",
    "figureGeneration.create_charging_power_figure(bev_parking_management)"
   ]
  }
 ],
 "metadata": {
  "kernelspec": {
   "display_name": "Python 3 (ipykernel)",
   "language": "python",
   "name": "python3"
  },
  "language_info": {
   "codemirror_mode": {
    "name": "ipython",
    "version": 3
   },
   "file_extension": ".py",
   "mimetype": "text/x-python",
   "name": "python",
   "nbconvert_exporter": "python",
   "pygments_lexer": "ipython3",
   "version": "3.9.5"
  }
 },
 "nbformat": 4,
 "nbformat_minor": 4
}
