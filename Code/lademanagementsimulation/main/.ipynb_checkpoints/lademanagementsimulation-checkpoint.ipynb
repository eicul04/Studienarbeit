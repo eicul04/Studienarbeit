{
 "cells": [
  {
   "cell_type": "markdown",
   "metadata": {
    "pycharm": {
     "name": "#%% md\n"
    }
   },
   "source": [
    "# Lademanagementsimulation   \n"
   ]
  },
  {
   "cell_type": "markdown",
   "metadata": {},
   "source": [
    "### Simulations Parameter"
   ]
  },
  {
   "cell_type": "code",
   "execution_count": 1,
   "metadata": {
    "pycharm": {
     "name": "#%%\n"
    }
   },
   "outputs": [],
   "source": [
    "solarpeakleistung = 125 #Einheit Kilowattpeak (kWP)\n",
    "anzahl_bevs_pro_tag = 50\n",
    "ladeleistung_pro_bev = 11 #Einheit kW\n",
    "maximale_ladezeit = 30 #Einheit Minuten\n",
    "minute_interval = 15 #Einheit Minuten"
   ]
  },
  {
   "cell_type": "markdown",
   "metadata": {},
   "source": [
    "### Simulations Eingangsdaten"
   ]
  },
  {
   "cell_type": "code",
   "execution_count": 2,
   "metadata": {
    "pycharm": {
     "is_executing": true,
     "name": "#%%\n"
    }
   },
   "outputs": [
    {
     "data": {
      "text/html": [
       "\n",
       "        <iframe\n",
       "            width=\"100%\"\n",
       "            height=\"650\"\n",
       "            src=\"http://127.0.0.1:8050/\"\n",
       "            frameborder=\"0\"\n",
       "            allowfullscreen\n",
       "            \n",
       "        ></iframe>\n",
       "        "
      ],
      "text/plain": [
       "<IPython.lib.display.IFrame at 0x16e4794d6a0>"
      ]
     },
     "metadata": {},
     "output_type": "display_data"
    }
   ],
   "source": [
    "import simulationInputDataVisualisation\n",
    "simulationInputDataVisualisation.create_jupyter_dash_app(solarpeakleistung)"
   ]
  },
  {
   "cell_type": "markdown",
   "metadata": {},
   "source": [
    "### Verteilungsalgorithmus"
   ]
  },
  {
   "cell_type": "code",
   "execution_count": 3,
   "metadata": {
    "pycharm": {
     "is_executing": true
    }
   },
   "outputs": [
    {
     "name": "stdout",
     "output_type": "stream",
     "text": [
      "\n",
      "\n",
      "Minute:  480\n",
      "Charging BEVs after updating parking end:  []\n",
      "Waiting BEVs:  []\n",
      "CALCULATE NUMBER OF CHARGING STATIONS\n",
      "Number of charging stations:  1\n",
      "CALCULATE NUMBER OF CHARGING STATIONS\n",
      "Number of charging stations:  1\n",
      "NUMBER OF FREE CHARGING STATIONS:  1\n",
      "CALCULATE NUMBER OF CHARGING STATIONS\n",
      "Number of charging stations:  1\n",
      "Charging BEVs (nachdem neue Plätze belegt):  [4]\n",
      "AVAILABLE SOLAR POWER:  0.62\n",
      "Restladeenergie bis zur fairen Ladeenergie for BEV mit ID 4:  7.8475\n",
      "Restladezeit:  759.4354838709678\n",
      "Charging BEVs:  [4]\n",
      "\n",
      "\n",
      "Minute:  495\n",
      "Charging BEVs after updating parking end:  [4]\n",
      "Waiting BEVs:  [8, 9, 11, 13, 16, 20, 29, 33, 37, 48]\n",
      "CALCULATE NUMBER OF CHARGING STATIONS\n",
      "Number of charging stations:  1\n",
      "CALCULATE NUMBER OF CHARGING STATIONS\n",
      "Number of charging stations:  1\n",
      "Charging BEVs (nachdem neue Plätze belegt):  [4]\n",
      "AVAILABLE SOLAR POWER:  5.87\n",
      "Restladeenergie bis zur fairen Ladeenergie for BEV mit ID 4:  7.6925\n",
      "Restladezeit:  78.62862010221464\n",
      "Charging BEVs:  [4]\n",
      "\n",
      "\n",
      "Minute:  510\n",
      "Charging BEVs after updating parking end:  [4]\n",
      "Waiting BEVs:  [8, 9, 11, 13, 16, 20, 29, 33, 37, 48]\n",
      "CALCULATE NUMBER OF CHARGING STATIONS\n",
      "Number of charging stations:  2\n",
      "CALCULATE NUMBER OF CHARGING STATIONS\n",
      "Number of charging stations:  2\n",
      "NUMBER OF FREE CHARGING STATIONS:  1\n",
      "CALCULATE NUMBER OF CHARGING STATIONS\n",
      "Number of charging stations:  2\n",
      "Charging BEVs (nachdem neue Plätze belegt):  [4, 8]\n",
      "AVAILABLE SOLAR POWER:  11.12\n",
      "Restladeenergie bis zur fairen Ladeenergie for BEV mit ID 4:  6.225\n",
      "Restladezeit:  67.17625899280576\n",
      "AVAILABLE SOLAR POWER:  11.12\n",
      "Restladeenergie bis zur fairen Ladeenergie for BEV mit ID 8:  3.435\n",
      "Restladezeit:  37.06834532374101\n",
      "Charging BEVs:  [4, 8]\n",
      "\n",
      "\n",
      "Minute:  525\n",
      "Charging BEVs after updating parking end:  [4, 8]\n",
      "Waiting BEVs:  [9, 11, 13, 16, 20, 29, 33, 37, 48, 3, 7, 14, 17, 26, 27, 28, 32, 39, 41, 42, 43]\n",
      "CALCULATE NUMBER OF CHARGING STATIONS\n",
      "Number of charging stations:  2\n",
      "CALCULATE NUMBER OF CHARGING STATIONS\n",
      "Number of charging stations:  2\n",
      "Charging BEVs (nachdem neue Plätze belegt):  [4, 8]\n",
      "AVAILABLE SOLAR POWER:  16.38\n",
      "Restladeenergie bis zur fairen Ladeenergie for BEV mit ID 4:  4.835\n",
      "Restladezeit:  35.42124542124542\n",
      "AVAILABLE SOLAR POWER:  16.38\n",
      "Restladeenergie bis zur fairen Ladeenergie for BEV mit ID 8:  2.045\n",
      "Restladezeit:  14.981684981684982\n",
      "Die Restladezeit des BEVS 8 endet vor dem nächsten Interval\n",
      "Ausgewähltes BEV das frei gewordenen Platz belegen darf:  9\n",
      "Ladestart für ausgewähltes BEV:  539.981684981685\n",
      "8.19 CHARGING POWER WIRD FÜR NEUES BEV 9 GESPEICHERT: \n",
      "ZEITPUNKT FÜR DAS ES GESPEICHERT WIRD:  539.981684981685\n",
      "Charging BEVs:  [4, 8]\n",
      "\n",
      "\n",
      "Minute:  540\n",
      "Charging BEVs after updating parking end:  [4, 9]\n",
      "Waiting BEVs:  [11, 13, 16, 20, 29, 33, 37, 48, 3, 7, 14, 17, 26, 27, 28, 32, 39, 41, 42, 43]\n",
      "CALCULATE NUMBER OF CHARGING STATIONS\n",
      "Number of charging stations:  3\n",
      "CALCULATE NUMBER OF CHARGING STATIONS\n",
      "Number of charging stations:  3\n",
      "NUMBER OF FREE CHARGING STATIONS:  1\n",
      "CALCULATE NUMBER OF CHARGING STATIONS\n",
      "Number of charging stations:  3\n",
      "Charging BEVs (nachdem neue Plätze belegt):  [4, 9, 11]\n",
      "AVAILABLE SOLAR POWER:  23.0\n",
      "Restladeenergie bis zur fairen Ladeenergie for BEV mit ID 4:  2.7874999999999996\n",
      "Restladezeit:  21.815217391304344\n",
      "AVAILABLE SOLAR POWER:  23.0\n",
      "Restladeenergie bis zur fairen Ladeenergie for BEV mit ID 9:  3.0825000000000053\n",
      "Restladezeit:  24.1239130434783\n",
      "AVAILABLE SOLAR POWER:  23.0\n",
      "Restladeenergie bis zur fairen Ladeenergie for BEV mit ID 11:  5.5175\n",
      "Restladezeit:  43.1804347826087\n",
      "Charging BEVs:  [4, 9, 11]\n",
      "\n",
      "\n",
      "Minute:  555\n",
      "Charging BEVs after updating parking end:  [4, 9, 11]\n",
      "Waiting BEVs:  [13, 16, 20, 29, 33, 37, 48, 3, 7, 14, 17, 26, 27, 28, 32, 39, 41, 42, 43, 1, 2, 10, 12, 19, 22, 25, 35, 38, 40]\n",
      "CALCULATE NUMBER OF CHARGING STATIONS\n",
      "Number of charging stations:  3\n",
      "CALCULATE NUMBER OF CHARGING STATIONS\n",
      "Number of charging stations:  3\n",
      "Charging BEVs (nachdem neue Plätze belegt):  [4, 9, 11]\n",
      "AVAILABLE SOLAR POWER:  31.0\n",
      "Restladeenergie bis zur fairen Ladeenergie for BEV mit ID 4:  0.8708333333333327\n",
      "Restladezeit:  5.0564516129032215\n",
      "Die Restladezeit des BEVS 4 endet vor dem nächsten Interval\n",
      "Ausgewähltes BEV das frei gewordenen Platz belegen darf:  13\n",
      "Ladestart für ausgewähltes BEV:  560.0564516129032\n",
      "10.333333333333334 CHARGING POWER WIRD FÜR NEUES BEV 13 GESPEICHERT: \n",
      "ZEITPUNKT FÜR DAS ES GESPEICHERT WIRD:  560.0564516129032\n",
      "AVAILABLE SOLAR POWER:  31.0\n",
      "Restladeenergie bis zur fairen Ladeenergie for BEV mit ID 9:  3.0801597476597578\n",
      "Restladezeit:  17.884798534798595\n",
      "AVAILABLE SOLAR POWER:  31.0\n",
      "Restladeenergie bis zur fairen Ladeenergie for BEV mit ID 11:  3.600833333333333\n",
      "Restladezeit:  20.90806451612903\n",
      "Charging BEVs:  [4, 9, 11]\n",
      "\n",
      "\n",
      "Minute:  570\n",
      "Charging BEVs after updating parking end:  [9, 11, 13]\n",
      "Waiting BEVs:  [16, 20, 29, 33, 37, 48, 3, 7, 14, 17, 26, 27, 28, 32, 39, 41, 42, 43, 1, 2, 10, 12, 19, 22, 25, 35, 38, 40]\n",
      "CALCULATE NUMBER OF CHARGING STATIONS\n",
      "Number of charging stations:  4\n",
      "CALCULATE NUMBER OF CHARGING STATIONS\n",
      "Number of charging stations:  4\n",
      "NUMBER OF FREE CHARGING STATIONS:  1\n",
      "CALCULATE NUMBER OF CHARGING STATIONS\n",
      "Number of charging stations:  4\n",
      "Charging BEVs (nachdem neue Plätze belegt):  [9, 11, 13, 16]\n",
      "AVAILABLE SOLAR POWER:  39.0\n",
      "Restladeenergie bis zur fairen Ladeenergie for BEV mit ID 9:  3.0770054945055114\n",
      "Restladezeit:  18.935418427726223\n",
      "AVAILABLE SOLAR POWER:  39.0\n",
      "Restladeenergie bis zur fairen Ladeenergie for BEV mit ID 11:  1.0175\n",
      "Restladezeit:  6.261538461538462\n",
      "Die Restladezeit des BEVS 11 endet vor dem nächsten Interval\n",
      "Ausgewähltes BEV das frei gewordenen Platz belegen darf:  20\n",
      "Ladestart für ausgewähltes BEV:  576.2615384615384\n",
      "9.75 CHARGING POWER WIRD FÜR NEUES BEV 20 GESPEICHERT: \n",
      "ZEITPUNKT FÜR DAS ES GESPEICHERT WIRD:  576.2615384615384\n",
      "AVAILABLE SOLAR POWER:  39.0\n",
      "Restladeenergie bis zur fairen Ladeenergie for BEV mit ID 13:  6.134999999999991\n",
      "Restladezeit:  37.7538461538461\n",
      "AVAILABLE SOLAR POWER:  39.0\n",
      "Restladeenergie bis zur fairen Ladeenergie for BEV mit ID 16:  7.8475\n",
      "Restladezeit:  48.29230769230769\n",
      "Charging BEVs:  [9, 11, 13, 16]\n",
      "\n",
      "\n",
      "Minute:  585\n",
      "Charging BEVs after updating parking end:  [9, 13, 16, 20]\n",
      "Waiting BEVs:  [29, 33, 37, 48, 3, 7, 14, 17, 26, 27, 28, 32, 39, 41, 42, 43, 1, 2, 10, 12, 19, 22, 25, 35, 38, 40, 6, 21, 31, 46, 49]\n",
      "CALCULATE NUMBER OF CHARGING STATIONS\n",
      "Number of charging stations:  5\n",
      "CALCULATE NUMBER OF CHARGING STATIONS\n",
      "Number of charging stations:  5\n",
      "NUMBER OF FREE CHARGING STATIONS:  1\n",
      "CALCULATE NUMBER OF CHARGING STATIONS\n",
      "Number of charging stations:  5\n",
      "Charging BEVs (nachdem neue Plätze belegt):  [9, 13, 16, 20, 29]\n",
      "AVAILABLE SOLAR POWER:  47.0\n",
      "Restladeenergie bis zur fairen Ladeenergie for BEV mit ID 9:  3.0740293040293274\n",
      "Restladezeit:  19.621463642740387\n",
      "AVAILABLE SOLAR POWER:  47.0\n",
      "Restladeenergie bis zur fairen Ladeenergie for BEV mit ID 13:  4.519173387096757\n",
      "Restladezeit:  28.84578757721334\n",
      "AVAILABLE SOLAR POWER:  47.0\n",
      "Restladeenergie bis zur fairen Ladeenergie for BEV mit ID 16:  5.41\n",
      "Restladezeit:  34.53191489361702\n",
      "AVAILABLE SOLAR POWER:  47.0\n",
      "Restladeenergie bis zur fairen Ladeenergie for BEV mit ID 20:  2.3849999999999913\n",
      "Restladezeit:  15.223404255319092\n",
      "AVAILABLE SOLAR POWER:  47.0\n",
      "Restladeenergie bis zur fairen Ladeenergie for BEV mit ID 29:  7.8475\n",
      "Restladezeit:  50.09042553191489\n",
      "Charging BEVs:  [9, 13, 16, 20, 29]\n",
      "\n",
      "\n",
      "Minute:  600\n",
      "Charging BEVs after updating parking end:  [9, 13, 16, 20, 29]\n",
      "Waiting BEVs:  [33, 37, 48, 3, 7, 14, 17, 26, 27, 28, 32, 39, 41, 42, 43, 1, 2, 10, 12, 19, 22, 25, 35, 38, 40, 6, 21, 31, 46, 49]\n",
      "CALCULATE NUMBER OF CHARGING STATIONS\n",
      "Number of charging stations:  5\n",
      "CALCULATE NUMBER OF CHARGING STATIONS\n",
      "Number of charging stations:  5\n",
      "Charging BEVs (nachdem neue Plätze belegt):  [9, 13, 16, 20, 29]\n",
      "AVAILABLE SOLAR POWER:  50.88\n",
      "Restladeenergie bis zur fairen Ladeenergie for BEV mit ID 9:  3.0711599511599807\n",
      "Restladezeit:  18.10825442900932\n",
      "AVAILABLE SOLAR POWER:  50.88\n",
      "Restladeenergie bis zur fairen Ladeenergie for BEV mit ID 13:  2.9613508064515877\n",
      "Restladezeit:  17.460794849360777\n",
      "AVAILABLE SOLAR POWER:  50.88\n",
      "Restladeenergie bis zur fairen Ladeenergie for BEV mit ID 16:  3.0600000000000005\n",
      "Restladezeit:  18.04245283018868\n",
      "AVAILABLE SOLAR POWER:  50.88\n",
      "Restladeenergie bis zur fairen Ladeenergie for BEV mit ID 20:  1.0159743589743417\n",
      "Restladezeit:  5.9904148524430525\n",
      "Die Restladezeit des BEVS 20 endet vor dem nächsten Interval\n",
      "Ausgewähltes BEV das frei gewordenen Platz belegen darf:  33\n",
      "Ladestart für ausgewähltes BEV:  605.9904148524431\n",
      "10.176 CHARGING POWER WIRD FÜR NEUES BEV 33 GESPEICHERT: \n",
      "ZEITPUNKT FÜR DAS ES GESPEICHERT WIRD:  605.9904148524431\n",
      "AVAILABLE SOLAR POWER:  50.88\n",
      "Restladeenergie bis zur fairen Ladeenergie for BEV mit ID 29:  5.4975000000000005\n",
      "Restladezeit:  32.414504716981135\n",
      "Charging BEVs:  [9, 13, 16, 20, 29]\n",
      "\n",
      "\n",
      "Minute:  615\n",
      "Charging BEVs after updating parking end:  [9, 13, 16, 29, 33]\n",
      "Waiting BEVs:  [37, 48, 3, 7, 14, 17, 26, 27, 28, 32, 39, 41, 42, 43, 1, 2, 10, 12, 19, 22, 25, 35, 38, 40, 6, 21, 31, 46, 49]\n",
      "CALCULATE NUMBER OF CHARGING STATIONS\n",
      "Number of charging stations:  5\n",
      "CALCULATE NUMBER OF CHARGING STATIONS\n",
      "Number of charging stations:  5\n"
     ]
    },
    {
     "name": "stdout",
     "output_type": "stream",
     "text": [
      "Charging BEVs (nachdem neue Plätze belegt):  [9, 13, 16, 29, 33]\n",
      "AVAILABLE SOLAR POWER:  50.62\n",
      "Restladeenergie bis zur fairen Ladeenergie for BEV mit ID 9:  3.0680537240537604\n",
      "Restladezeit:  18.182854943029003\n",
      "AVAILABLE SOLAR POWER:  50.62\n",
      "Restladeenergie bis zur fairen Ladeenergie for BEV mit ID 13:  1.274924999999966\n",
      "Restladezeit:  7.5558573686288\n",
      "Die Restladezeit des BEVS 13 endet vor dem nächsten Interval\n",
      "Ausgewähltes BEV das frei gewordenen Platz belegen darf:  37\n",
      "Ladestart für ausgewähltes BEV:  622.5558573686288\n",
      "10.123999999999999 CHARGING POWER WIRD FÜR NEUES BEV 37 GESPEICHERT: \n",
      "ZEITPUNKT FÜR DAS ES GESPEICHERT WIRD:  622.5558573686288\n",
      "AVAILABLE SOLAR POWER:  50.62\n",
      "Restladeenergie bis zur fairen Ladeenergie for BEV mit ID 16:  0.516\n",
      "Restladezeit:  3.0580798103516402\n",
      "Die Restladezeit des BEVS 16 endet vor dem nächsten Interval\n",
      "Ausgewähltes BEV das frei gewordenen Platz belegen darf:  48\n",
      "Ladestart für ausgewähltes BEV:  618.0580798103516\n",
      "10.123999999999999 CHARGING POWER WIRD FÜR NEUES BEV 48 GESPEICHERT: \n",
      "ZEITPUNKT FÜR DAS ES GESPEICHERT WIRD:  618.0580798103516\n",
      "AVAILABLE SOLAR POWER:  50.62\n",
      "Restladeenergie bis zur fairen Ladeenergie for BEV mit ID 29:  2.9535\n",
      "Restladezeit:  17.503951007506913\n",
      "AVAILABLE SOLAR POWER:  50.62\n",
      "Restladeenergie bis zur fairen Ladeenergie for BEV mit ID 33:  6.319474358974351\n",
      "Restladezeit:  37.4524359480898\n",
      "Charging BEVs:  [9, 13, 16, 29, 33]\n",
      "\n",
      "\n",
      "Minute:  630\n",
      "Charging BEVs after updating parking end:  [9, 29, 33, 37, 48]\n",
      "Waiting BEVs:  [3, 7, 14, 17, 26, 27, 28, 32, 39, 41, 42, 43, 1, 2, 10, 12, 19, 22, 25, 35, 38, 40, 6, 21, 31, 46, 49]\n",
      "CALCULATE NUMBER OF CHARGING STATIONS\n",
      "Number of charging stations:  5\n",
      "CALCULATE NUMBER OF CHARGING STATIONS\n",
      "Number of charging stations:  5\n",
      "Charging BEVs (nachdem neue Plätze belegt):  [9, 29, 33, 37, 48]\n",
      "AVAILABLE SOLAR POWER:  50.38\n",
      "Restladeenergie bis zur fairen Ladeenergie for BEV mit ID 9:  3.064963369963413\n",
      "Restladezeit:  18.251072072033026\n",
      "AVAILABLE SOLAR POWER:  50.38\n",
      "Restladeenergie bis zur fairen Ladeenergie for BEV mit ID 29:  0.4225000000000003\n",
      "Restladezeit:  2.5158793171893623\n",
      "Die Restladezeit des BEVS 29 endet vor dem nächsten Interval\n",
      "Ausgewähltes BEV das frei gewordenen Platz belegen darf:  3\n",
      "Ladestart für ausgewähltes BEV:  632.5158793171894\n",
      "10.076 CHARGING POWER WIRD FÜR NEUES BEV 3 GESPEICHERT: \n",
      "ZEITPUNKT FÜR DAS ES GESPEICHERT WIRD:  632.5158793171894\n",
      "AVAILABLE SOLAR POWER:  50.38\n",
      "Restladeenergie bis zur fairen Ladeenergie for BEV mit ID 33:  4.799257025076585\n",
      "Restladezeit:  28.5783467154223\n",
      "AVAILABLE SOLAR POWER:  50.38\n",
      "Restladeenergie bis zur fairen Ladeenergie for BEV mit ID 37:  5.861424999999973\n",
      "Restladezeit:  34.90328503374339\n",
      "AVAILABLE SOLAR POWER:  50.38\n",
      "Restladeenergie bis zur fairen Ladeenergie for BEV mit ID 48:  6.119999999999996\n",
      "Restladezeit:  36.44303294958314\n",
      "Charging BEVs:  [9, 29, 33, 37, 48]\n",
      "\n",
      "\n",
      "Minute:  645\n",
      "Charging BEVs after updating parking end:  [9, 33, 37, 48, 3]\n",
      "Waiting BEVs:  [7, 14, 17, 26, 27, 28, 32, 39, 41, 42, 43, 1, 2, 10, 12, 19, 22, 25, 35, 38, 40, 6, 21, 31, 46, 49]\n",
      "CALCULATE NUMBER OF CHARGING STATIONS\n",
      "Number of charging stations:  5\n",
      "CALCULATE NUMBER OF CHARGING STATIONS\n",
      "Number of charging stations:  5\n",
      "Charging BEVs (nachdem neue Plätze belegt):  [9, 33, 37, 48, 3]\n",
      "AVAILABLE SOLAR POWER:  50.12\n",
      "Restladeenergie bis zur fairen Ladeenergie for BEV mit ID 9:  3.061887667887717\n",
      "Restladezeit:  18.32734039038937\n",
      "AVAILABLE SOLAR POWER:  50.12\n",
      "Restladeenergie bis zur fairen Ladeenergie for BEV mit ID 33:  3.2862473592968655\n",
      "Restladezeit:  19.67027549459417\n",
      "AVAILABLE SOLAR POWER:  50.12\n",
      "Restladeenergie bis zur fairen Ladeenergie for BEV mit ID 37:  4.611305314105042\n",
      "Restladezeit:  27.601588073254444\n",
      "AVAILABLE SOLAR POWER:  50.12\n",
      "Restladeenergie bis zur fairen Ladeenergie for BEV mit ID 48:  4.1145535361517105\n",
      "Restladezeit:  24.628213504499467\n",
      "AVAILABLE SOLAR POWER:  50.12\n",
      "Restladeenergie bis zur fairen Ladeenergie for BEV mit ID 3:  5.891000000000006\n",
      "Restladezeit:  35.26137270550682\n",
      "Charging BEVs:  [9, 33, 37, 48, 3]\n",
      "\n",
      "\n",
      "Minute:  660\n",
      "Charging BEVs after updating parking end:  [9, 33, 37, 48, 3]\n",
      "Waiting BEVs:  [7, 14, 17, 26, 27, 28, 32, 39, 41, 42, 43, 1, 2, 10, 12, 19, 22, 25, 35, 38, 40, 6, 21, 31, 46, 49]\n",
      "CALCULATE NUMBER OF CHARGING STATIONS\n",
      "Number of charging stations:  5\n",
      "CALCULATE NUMBER OF CHARGING STATIONS\n",
      "Number of charging stations:  5\n",
      "Charging BEVs (nachdem neue Plätze belegt):  [9, 33, 37, 48, 3]\n",
      "AVAILABLE SOLAR POWER:  50.62\n",
      "Restladeenergie bis zur fairen Ladeenergie for BEV mit ID 9:  3.0588278388278947\n",
      "Restladezeit:  18.12817763035102\n",
      "Die Restparkzeit von BEV  9 endet vor dem nächsten Intervall\n",
      "Ausgewähltes BEV das frei gewordenen Platz belegen darf:  7\n",
      "Ladestart für ausgewähltes BEV:  672\n",
      "10.123999999999999 CHARGING POWER WIRD FÜR NEUES BEV 7 GESPEICHERT: \n",
      "ZEITPUNKT FÜR DAS ES GESPEICHERT WIRD:  672\n",
      "AVAILABLE SOLAR POWER:  50.62\n",
      "Restladeenergie bis zur fairen Ladeenergie for BEV mit ID 33:  1.781046000645028\n",
      "Restladezeit:  10.555389178062198\n",
      "Die Restladezeit des BEVS 33 endet vor dem nächsten Interval\n",
      "Ausgewähltes BEV das frei gewordenen Platz belegen darf:  14\n",
      "Ladestart für ausgewähltes BEV:  670.5553891780622\n",
      "10.123999999999999 CHARGING POWER WIRD FÜR NEUES BEV 14 GESPEICHERT: \n",
      "ZEITPUNKT FÜR DAS ES GESPEICHERT WIRD:  670.5553891780622\n",
      "AVAILABLE SOLAR POWER:  50.62\n",
      "Restladeenergie bis zur fairen Ladeenergie for BEV mit ID 37:  3.367637218490633\n",
      "Restladezeit:  19.95833989623054\n",
      "AVAILABLE SOLAR POWER:  50.62\n",
      "Restladeenergie bis zur fairen Ladeenergie for BEV mit ID 48:  2.1194567364677868\n",
      "Restladezeit:  12.560984214546348\n",
      "Die Restladezeit des BEVS 48 endet vor dem nächsten Interval\n",
      "Ausgewähltes BEV das frei gewordenen Platz belegen darf:  17\n",
      "Ladestart für ausgewähltes BEV:  672.5609842145464\n",
      "10.123999999999999 CHARGING POWER WIRD FÜR NEUES BEV 17 GESPEICHERT: \n",
      "ZEITPUNKT FÜR DAS ES GESPEICHERT WIRD:  672.5609842145464\n",
      "AVAILABLE SOLAR POWER:  50.62\n",
      "Restladeenergie bis zur fairen Ladeenergie for BEV mit ID 3:  3.8053195712584467\n",
      "Restladezeit:  22.552269288374834\n",
      "Charging BEVs:  [9, 33, 37, 48, 3]\n",
      "\n",
      "\n",
      "Minute:  675\n",
      "Charging BEVs after updating parking end:  [37, 3, 7, 14, 17]\n",
      "Waiting BEVs:  [26, 27, 28, 32, 39, 41, 42, 43, 1, 2, 10, 12, 19, 22, 25, 35, 38, 40, 6, 21, 31, 46, 49]\n",
      "CALCULATE NUMBER OF CHARGING STATIONS\n",
      "Number of charging stations:  5\n",
      "CALCULATE NUMBER OF CHARGING STATIONS\n",
      "Number of charging stations:  5\n",
      "Charging BEVs (nachdem neue Plätze belegt):  [37, 3, 7, 14, 17]\n",
      "AVAILABLE SOLAR POWER:  51.88\n",
      "Restladeenergie bis zur fairen Ladeenergie for BEV mit ID 37:  2.1115622184906053\n",
      "Restladezeit:  12.210267261896329\n",
      "Die Restladezeit des BEVS 37 endet vor dem nächsten Interval\n",
      "Ausgewähltes BEV das frei gewordenen Platz belegen darf:  26\n",
      "Ladestart für ausgewähltes BEV:  687.2102672618963\n",
      "10.376000000000001 CHARGING POWER WIRD FÜR NEUES BEV 26 GESPEICHERT: \n",
      "ZEITPUNKT FÜR DAS ES GESPEICHERT WIRD:  687.2102672618963\n",
      "AVAILABLE SOLAR POWER:  51.88\n",
      "Restladeenergie bis zur fairen Ladeenergie for BEV mit ID 3:  1.6988322747122035\n",
      "Restladezeit:  9.823625335652679\n",
      "Die Restladezeit des BEVS 3 endet vor dem nächsten Interval\n",
      "Ausgewähltes BEV das frei gewordenen Platz belegen darf:  27\n",
      "Ladestart für ausgewähltes BEV:  684.8236253356527\n",
      "10.376000000000001 CHARGING POWER WIRD FÜR NEUES BEV 27 GESPEICHERT: \n",
      "ZEITPUNKT FÜR DAS ES GESPEICHERT WIRD:  684.8236253356527\n",
      "AVAILABLE SOLAR POWER:  51.88\n",
      "Restladeenergie bis zur fairen Ladeenergie for BEV mit ID 7:  5.901300000000002\n",
      "Restladezeit:  34.124710871241334\n",
      "AVAILABLE SOLAR POWER:  51.88\n",
      "Restladeenergie bis zur fairen Ladeenergie for BEV mit ID 14:  5.657546000645035\n",
      "Restladezeit:  32.71518504613551\n",
      "AVAILABLE SOLAR POWER:  51.88\n",
      "Restladeenergie bis zur fairen Ladeenergie for BEV mit ID 17:  4.958456736467789\n",
      "Restladezeit:  28.672648823059685\n",
      "Charging BEVs:  [37, 3, 7, 14, 17]\n",
      "\n",
      "\n",
      "Minute:  690\n",
      "Charging BEVs after updating parking end:  [7, 14, 17, 26, 27]\n",
      "Waiting BEVs:  [28, 32, 39, 41, 42, 43, 1, 2, 10, 12, 19, 22, 25, 35, 38, 40, 6, 21, 31, 46, 49]\n",
      "CALCULATE NUMBER OF CHARGING STATIONS\n",
      "Number of charging stations:  5\n",
      "CALCULATE NUMBER OF CHARGING STATIONS\n",
      "Number of charging stations:  5\n",
      "Charging BEVs (nachdem neue Plätze belegt):  [7, 14, 17, 26, 27]\n",
      "AVAILABLE SOLAR POWER:  53.12\n",
      "Restladeenergie bis zur fairen Ladeenergie for BEV mit ID 7:  5.382500000000002\n",
      "Restladezeit:  30.398155120481942\n",
      "AVAILABLE SOLAR POWER:  53.12\n",
      "Restladeenergie bis zur fairen Ladeenergie for BEV mit ID 14:  4.888924635837929\n",
      "Restladezeit:  27.61064365119313\n",
      "AVAILABLE SOLAR POWER:  53.12\n",
      "Restladeenergie bis zur fairen Ladeenergie for BEV mit ID 17:  4.536669606636671\n",
      "Restladezeit:  25.621251543505302\n",
      "AVAILABLE SOLAR POWER:  53.12\n",
      "Restladeenergie bis zur fairen Ladeenergie for BEV mit ID 26:  7.505062218490605\n",
      "Restladezeit:  42.38551704719845\n",
      "AVAILABLE SOLAR POWER:  53.12\n",
      "Restladeenergie bis zur fairen Ladeenergie for BEV mit ID 27:  6.804832274712199\n",
      "Restladezeit:  38.4309051659198\n",
      "Charging BEVs:  [7, 14, 17, 26, 27]\n",
      "\n",
      "\n",
      "Minute:  705\n",
      "Charging BEVs after updating parking end:  [7, 14, 17, 26, 27]\n",
      "Waiting BEVs:  [28, 32, 39, 41, 42, 43, 1, 2, 10, 12, 19, 22, 25, 35, 38, 40, 6, 21, 31, 46, 49]\n",
      "CALCULATE NUMBER OF CHARGING STATIONS\n",
      "Number of charging stations:  5\n",
      "CALCULATE NUMBER OF CHARGING STATIONS\n",
      "Number of charging stations:  5\n",
      "Charging BEVs (nachdem neue Plätze belegt):  [7, 14, 17, 26, 27]\n",
      "AVAILABLE SOLAR POWER:  54.38\n",
      "Restladeenergie bis zur fairen Ladeenergie for BEV mit ID 7:  4.851300000000002\n",
      "Restladezeit:  26.76333210739243\n",
      "AVAILABLE SOLAR POWER:  54.38\n",
      "Restladeenergie bis zur fairen Ladeenergie for BEV mit ID 14:  4.101932212966815\n",
      "Restladezeit:  22.629269288158227\n",
      "AVAILABLE SOLAR POWER:  54.38\n",
      "Restladeenergie bis zur fairen Ladeenergie for BEV mit ID 17:  4.104801211559012\n",
      "Restladezeit:  22.645096790505765\n",
      "AVAILABLE SOLAR POWER:  54.38\n",
      "Restladeenergie bis zur fairen Ladeenergie for BEV mit ID 26:  7.011093541663714\n",
      "Restladezeit:  38.67833877342983\n",
      "AVAILABLE SOLAR POWER:  54.38\n",
      "Restladeenergie bis zur fairen Ladeenergie for BEV mit ID 27:  5.888268867478429\n",
      "Restladezeit:  32.484013612422366\n",
      "Charging BEVs:  [7, 14, 17, 26, 27]\n",
      "\n",
      "\n",
      "Minute:  720\n",
      "Charging BEVs after updating parking end:  [7, 14, 17, 26, 27]\n",
      "Waiting BEVs:  [28, 32, 39, 41, 42, 43, 1, 2, 10, 12, 19, 22, 25, 35, 38, 40, 6, 21, 31, 46, 49]\n",
      "CALCULATE NUMBER OF CHARGING STATIONS\n",
      "Number of charging stations:  5\n",
      "CALCULATE NUMBER OF CHARGING STATIONS\n",
      "Number of charging stations:  5\n"
     ]
    },
    {
     "name": "stdout",
     "output_type": "stream",
     "text": [
      "Charging BEVs (nachdem neue Plätze belegt):  [7, 14, 17, 26, 27]\n",
      "AVAILABLE SOLAR POWER:  52.62\n",
      "Restladeenergie bis zur fairen Ladeenergie for BEV mit ID 7:  4.307500000000001\n",
      "Restladezeit:  24.558152793614603\n",
      "AVAILABLE SOLAR POWER:  52.62\n",
      "Restladeenergie bis zur fairen Ladeenergie for BEV mit ID 14:  3.2962724246435613\n",
      "Restladezeit:  18.792887255664546\n",
      "AVAILABLE SOLAR POWER:  52.62\n",
      "Restladeenergie bis zur fairen Ladeenergie for BEV mit ID 17:  3.662688950182447\n",
      "Restladezeit:  20.88192103866846\n",
      "AVAILABLE SOLAR POWER:  52.62\n",
      "Restladeenergie bis zur fairen Ladeenergie for BEV mit ID 26:  6.5054079873367865\n",
      "Restladezeit:  37.08898510454269\n",
      "AVAILABLE SOLAR POWER:  52.62\n",
      "Restladeenergie bis zur fairen Ladeenergie for BEV mit ID 27:  4.949964686654399\n",
      "Restladezeit:  28.221007335543895\n",
      "Charging BEVs:  [7, 14, 17, 26, 27]\n",
      "\n",
      "\n",
      "Minute:  735\n",
      "Charging BEVs after updating parking end:  [7, 14, 17, 26, 27]\n",
      "Waiting BEVs:  [32, 39, 41, 42, 43, 1, 2, 10, 12, 19, 22, 25, 35, 38, 40, 6, 21, 31, 46, 49]\n",
      "CALCULATE NUMBER OF CHARGING STATIONS\n",
      "Number of charging stations:  5\n",
      "CALCULATE NUMBER OF CHARGING STATIONS\n",
      "Number of charging stations:  5\n",
      "Charging BEVs (nachdem neue Plätze belegt):  [7, 14, 17, 26, 27]\n",
      "AVAILABLE SOLAR POWER:  47.88\n",
      "Restladeenergie bis zur fairen Ladeenergie for BEV mit ID 7:  3.7813000000000017\n",
      "Restladezeit:  23.69235588972432\n",
      "AVAILABLE SOLAR POWER:  47.88\n",
      "Restladeenergie bis zur fairen Ladeenergie for BEV mit ID 14:  2.5166876864756764\n",
      "Restladezeit:  15.76871984007316\n",
      "AVAILABLE SOLAR POWER:  47.88\n",
      "Restladeenergie bis zur fairen Ladeenergie for BEV mit ID 17:  3.2348855814138773\n",
      "Restladezeit:  20.26870665046289\n",
      "AVAILABLE SOLAR POWER:  47.88\n",
      "Restladeenergie bis zur fairen Ladeenergie for BEV mit ID 26:  6.016088865073401\n",
      "Restladezeit:  37.69479238767795\n",
      "AVAILABLE SOLAR POWER:  47.88\n",
      "Restladeenergie bis zur fairen Ladeenergie for BEV mit ID 27:  4.042028570527874\n",
      "Restladezeit:  25.325993549673395\n",
      "Charging BEVs:  [7, 14, 17, 26, 27]\n",
      "\n",
      "\n",
      "Minute:  750\n",
      "Charging BEVs after updating parking end:  [7, 14, 17, 26, 27]\n",
      "Waiting BEVs:  [32, 41, 42, 43, 1, 2, 10, 12, 19, 22, 25, 35, 38, 40, 6, 21, 31, 46, 49]\n",
      "CALCULATE NUMBER OF CHARGING STATIONS\n",
      "Number of charging stations:  4\n",
      "CALCULATE NUMBER OF CHARGING STATIONS\n",
      "Number of charging stations:  4\n",
      "Charging BEVs (nachdem neue Plätze belegt):  [7, 14, 17, 26, 27]\n",
      "AVAILABLE SOLAR POWER:  43.12\n",
      "Restladeenergie bis zur fairen Ladeenergie for BEV mit ID 7:  3.3025000000000015\n",
      "Restladezeit:  22.976576994434154\n",
      "AVAILABLE SOLAR POWER:  43.12\n",
      "Restladeenergie bis zur fairen Ladeenergie for BEV mit ID 14:  1.8073277992944083\n",
      "Restladezeit:  12.574173000656831\n",
      "Die Restladezeit des BEVS 14 endet vor dem nächsten Interval\n",
      "Ausgewähltes BEV das frei gewordenen Platz belegen darf:  32\n",
      "Ladestart für ausgewähltes BEV:  762.5741730006569\n",
      "8.623999999999999 CHARGING POWER WIRD FÜR NEUES BEV 32 GESPEICHERT: \n",
      "ZEITPUNKT FÜR DAS ES GESPEICHERT WIRD:  762.5741730006569\n",
      "AVAILABLE SOLAR POWER:  43.12\n",
      "Restladeenergie bis zur fairen Ladeenergie for BEV mit ID 17:  2.845618662055475\n",
      "Restladezeit:  19.797903492964807\n",
      "AVAILABLE SOLAR POWER:  43.12\n",
      "Restladeenergie bis zur fairen Ladeenergie for BEV mit ID 26:  5.5708475200720535\n",
      "Restladezeit:  38.75821558491689\n",
      "AVAILABLE SOLAR POWER:  43.12\n",
      "Restladeenergie bis zur fairen Ladeenergie for BEV mit ID 27:  3.2158791740980366\n",
      "Restladezeit:  22.373927463576322\n",
      "Charging BEVs:  [7, 14, 17, 26, 27]\n",
      "\n",
      "\n",
      "Minute:  765\n",
      "Charging BEVs after updating parking end:  [7, 17, 26, 27, 32]\n",
      "Waiting BEVs:  [41, 42, 43, 1, 2, 10, 12, 19, 22, 25, 35, 38, 6, 21, 31, 46, 49, 23, 34, 36, 44]\n",
      "CALCULATE NUMBER OF CHARGING STATIONS\n",
      "Number of charging stations:  4\n",
      "CALCULATE NUMBER OF CHARGING STATIONS\n",
      "Number of charging stations:  4\n",
      "Charging BEVs (nachdem neue Plätze belegt):  [7, 17, 26, 27, 32]\n",
      "AVAILABLE SOLAR POWER:  38.38\n",
      "Restladeenergie bis zur fairen Ladeenergie for BEV mit ID 7:  2.8713000000000015\n",
      "Restladezeit:  22.44372068785827\n",
      "AVAILABLE SOLAR POWER:  38.38\n",
      "Restladeenergie bis zur fairen Ladeenergie for BEV mit ID 17:  2.4950507931596038\n",
      "Restladezeit:  19.50274199968424\n",
      "Die Restparkzeit von BEV  17 endet vor dem nächsten Intervall\n",
      "Ausgewähltes BEV das frei gewordenen Platz belegen darf:  41\n",
      "Ladestart für ausgewähltes BEV:  774\n",
      "7.676 CHARGING POWER WIRD FÜR NEUES BEV 41 GESPEICHERT: \n",
      "ZEITPUNKT FÜR DAS ES GESPEICHERT WIRD:  774\n",
      "AVAILABLE SOLAR POWER:  38.38\n",
      "Restladeenergie bis zur fairen Ladeenergie for BEV mit ID 26:  5.169869934515285\n",
      "Restladezeit:  40.41065608010905\n",
      "AVAILABLE SOLAR POWER:  38.38\n",
      "Restladeenergie bis zur fairen Ladeenergie for BEV mit ID 27:  2.471861589009178\n",
      "Restladezeit:  19.321481935975857\n",
      "AVAILABLE SOLAR POWER:  38.38\n",
      "Restladeenergie bis zur fairen Ladeenergie for BEV mit ID 32:  6.621327799294414\n",
      "Restladezeit:  51.75607972351027\n",
      "Charging BEVs:  [7, 17, 26, 27, 32]\n",
      "\n",
      "\n",
      "Minute:  780\n",
      "Charging BEVs after updating parking end:  [7, 26, 27, 32, 41]\n",
      "Waiting BEVs:  [42, 1, 2, 10, 12, 19, 22, 25, 35, 38, 6, 21, 31, 46, 49, 23, 34, 36, 44]\n",
      "CALCULATE NUMBER OF CHARGING STATIONS\n",
      "Number of charging stations:  4\n",
      "CALCULATE NUMBER OF CHARGING STATIONS\n",
      "Number of charging stations:  4\n",
      "Charging BEVs (nachdem neue Plätze belegt):  [7, 26, 27, 32, 41]\n",
      "AVAILABLE SOLAR POWER:  36.75\n",
      "Restladeenergie bis zur fairen Ladeenergie for BEV mit ID 7:  2.4875000000000016\n",
      "Restladezeit:  20.306122448979604\n",
      "AVAILABLE SOLAR POWER:  36.75\n",
      "Restladeenergie bis zur fairen Ladeenergie for BEV mit ID 26:  4.812970126220554\n",
      "Restladezeit:  39.28955205078003\n",
      "AVAILABLE SOLAR POWER:  36.75\n",
      "Restladeenergie bis zur fairen Ladeenergie for BEV mit ID 27:  1.8096307236170066\n",
      "Restladezeit:  14.772495702995972\n",
      "Die Restladezeit des BEVS 27 endet vor dem nächsten Interval\n",
      "Ausgewähltes BEV das frei gewordenen Platz belegen darf:  42\n",
      "Ladestart für ausgewähltes BEV:  794.772495702996\n",
      "7.35 CHARGING POWER WIRD FÜR NEUES BEV 42 GESPEICHERT: \n",
      "ZEITPUNKT FÜR DAS ES GESPEICHERT WIRD:  794.772495702996\n",
      "AVAILABLE SOLAR POWER:  36.75\n",
      "Restladeenergie bis zur fairen Ladeenergie for BEV mit ID 32:  6.310983665178448\n",
      "Restladezeit:  51.51823400145672\n",
      "AVAILABLE SOLAR POWER:  36.75\n",
      "Restladeenergie bis zur fairen Ladeenergie for BEV mit ID 41:  5.084900000000002\n",
      "Restladezeit:  41.50938775510206\n",
      "Charging BEVs:  [7, 26, 27, 32, 41]\n",
      "\n",
      "\n",
      "Minute:  795\n",
      "Charging BEVs after updating parking end:  [7, 26, 32, 41, 42]\n",
      "Waiting BEVs:  [1, 2, 10, 12, 19, 22, 25, 35, 38, 6, 21, 31, 46, 49, 23, 34, 36, 44, 0, 5, 15, 18, 24, 30, 47]\n",
      "CALCULATE NUMBER OF CHARGING STATIONS\n",
      "Number of charging stations:  4\n",
      "CALCULATE NUMBER OF CHARGING STATIONS\n",
      "Number of charging stations:  4\n",
      "Charging BEVs (nachdem neue Plätze belegt):  [7, 26, 32, 41, 42]\n",
      "AVAILABLE SOLAR POWER:  38.25\n",
      "Restladeenergie bis zur fairen Ladeenergie for BEV mit ID 7:  2.120000000000002\n",
      "Restladezeit:  16.627450980392172\n",
      "AVAILABLE SOLAR POWER:  38.25\n",
      "Restladeenergie bis zur fairen Ladeenergie for BEV mit ID 26:  4.471227865802852\n",
      "Restladezeit:  35.068453849434135\n",
      "AVAILABLE SOLAR POWER:  38.25\n",
      "Restladeenergie bis zur fairen Ladeenergie for BEV mit ID 32:  6.013819857758913\n",
      "Restladezeit:  47.16721457065814\n",
      "AVAILABLE SOLAR POWER:  38.25\n",
      "Restladeenergie bis zur fairen Ladeenergie for BEV mit ID 41:  4.349900000000002\n",
      "Restladezeit:  34.11686274509805\n",
      "Die Restparkzeit von BEV  41 endet vor dem nächsten Intervall\n",
      "Ausgewähltes BEV das frei gewordenen Platz belegen darf:  1\n",
      "Ladestart für ausgewähltes BEV:  798\n",
      "7.65 CHARGING POWER WIRD FÜR NEUES BEV 1 GESPEICHERT: \n",
      "ZEITPUNKT FÜR DAS ES GESPEICHERT WIRD:  798\n",
      "AVAILABLE SOLAR POWER:  38.25\n",
      "Restladeenergie bis zur fairen Ladeenergie for BEV mit ID 42:  7.369630723617015\n",
      "Restladezeit:  57.801025283270704\n",
      "Charging BEVs:  [7, 26, 32, 41, 42]\n",
      "\n",
      "\n",
      "Minute:  810\n",
      "Charging BEVs after updating parking end:  [7, 26, 32, 42, 1]\n",
      "Waiting BEVs:  [10, 12, 19, 22, 25, 35, 38, 6, 21, 31, 49, 23, 34, 36, 44, 0, 5, 15, 18, 24, 30, 47]\n",
      "CALCULATE NUMBER OF CHARGING STATIONS\n",
      "Number of charging stations:  4\n",
      "CALCULATE NUMBER OF CHARGING STATIONS\n",
      "Number of charging stations:  4\n",
      "Charging BEVs (nachdem neue Plätze belegt):  [7, 26, 32, 42, 1]\n",
      "AVAILABLE SOLAR POWER:  39.75\n",
      "Restladeenergie bis zur fairen Ladeenergie for BEV mit ID 7:  1.7375000000000016\n",
      "Restladezeit:  13.113207547169823\n",
      "Die Restladezeit des BEVS 7 endet vor dem nächsten Interval\n",
      "Ausgewähltes BEV das frei gewordenen Platz belegen darf:  10\n",
      "Ladestart für ausgewähltes BEV:  823.1132075471698\n",
      "7.95 CHARGING POWER WIRD FÜR NEUES BEV 10 GESPEICHERT: \n",
      "ZEITPUNKT FÜR DAS ES GESPEICHERT WIRD:  823.1132075471698\n",
      "AVAILABLE SOLAR POWER:  39.75\n",
      "Restladeenergie bis zur fairen Ladeenergie for BEV mit ID 26:  4.115536941694634\n",
      "Restladezeit:  31.060656163733086\n",
      "AVAILABLE SOLAR POWER:  39.75\n",
      "Restladeenergie bis zur fairen Ladeenergie for BEV mit ID 32:  5.704526915342662\n",
      "Restladezeit:  43.05303332334084\n",
      "AVAILABLE SOLAR POWER:  39.75\n",
      "Restladeenergie bis zur fairen Ladeenergie for BEV mit ID 42:  7.340623925749008\n",
      "Restladezeit:  55.40093528867176\n",
      "AVAILABLE SOLAR POWER:  39.75\n",
      "Restladeenergie bis zur fairen Ladeenergie for BEV mit ID 1:  4.025000000000001\n",
      "Restladezeit:  30.377358490566046\n",
      "Charging BEVs:  [7, 26, 32, 42, 1]\n",
      "\n",
      "\n",
      "Minute:  825\n",
      "Charging BEVs after updating parking end:  [26, 32, 42, 1, 10]\n",
      "Waiting BEVs:  [12, 19, 22, 25, 35, 38, 6, 21, 31, 49, 23, 34, 36, 44, 0, 5, 15, 18, 24, 30, 47, 45]\n",
      "CALCULATE NUMBER OF CHARGING STATIONS\n"
     ]
    },
    {
     "name": "stdout",
     "output_type": "stream",
     "text": [
      "Number of charging stations:  4\n",
      "CALCULATE NUMBER OF CHARGING STATIONS\n",
      "Number of charging stations:  4\n",
      "Charging BEVs (nachdem neue Plätze belegt):  [26, 32, 42, 1, 10]\n",
      "AVAILABLE SOLAR POWER:  41.25\n",
      "Restladeenergie bis zur fairen Ladeenergie for BEV mit ID 26:  3.745897353895896\n",
      "Restladezeit:  27.242889846515606\n",
      "AVAILABLE SOLAR POWER:  41.25\n",
      "Restladeenergie bis zur fairen Ladeenergie for BEV mit ID 32:  5.383104837929695\n",
      "Restladezeit:  39.14985336676142\n",
      "AVAILABLE SOLAR POWER:  41.25\n",
      "Restladeenergie bis zur fairen Ladeenergie for BEV mit ID 42:  7.310479606395981\n",
      "Restladezeit:  53.167124410152596\n",
      "AVAILABLE SOLAR POWER:  41.25\n",
      "Restladeenergie bis zur fairen Ladeenergie for BEV mit ID 1:  2.4350000000000014\n",
      "Restladezeit:  17.70909090909092\n",
      "AVAILABLE SOLAR POWER:  41.25\n",
      "Restladeenergie bis zur fairen Ladeenergie for BEV mit ID 10:  6.4225000000000065\n",
      "Restladezeit:  46.70909090909095\n",
      "Charging BEVs:  [26, 32, 42, 1, 10]\n",
      "\n",
      "\n",
      "Minute:  840\n",
      "Charging BEVs after updating parking end:  [26, 32, 42, 1, 10]\n",
      "Waiting BEVs:  [19, 22, 25, 35, 38, 6, 21, 31, 49, 23, 34, 36, 44, 0, 5, 15, 18, 24, 30, 47, 45]\n",
      "CALCULATE NUMBER OF CHARGING STATIONS\n",
      "Number of charging stations:  4\n",
      "CALCULATE NUMBER OF CHARGING STATIONS\n",
      "Number of charging stations:  4\n",
      "Charging BEVs (nachdem neue Plätze belegt):  [26, 32, 42, 1, 10]\n",
      "AVAILABLE SOLAR POWER:  39.0\n",
      "Restladeenergie bis zur fairen Ladeenergie for BEV mit ID 26:  3.3623091024066403\n",
      "Restladezeit:  25.86391617235877\n",
      "AVAILABLE SOLAR POWER:  39.0\n",
      "Restladeenergie bis zur fairen Ladeenergie for BEV mit ID 32:  5.049553625520012\n",
      "Restladezeit:  38.84272019630779\n",
      "AVAILABLE SOLAR POWER:  39.0\n",
      "Restladeenergie bis zur fairen Ladeenergie for BEV mit ID 42:  7.279197765557935\n",
      "Restladezeit:  55.993828965830275\n",
      "AVAILABLE SOLAR POWER:  39.0\n",
      "Restladeenergie bis zur fairen Ladeenergie for BEV mit ID 1:  0.785000000000001\n",
      "Restladezeit:  6.038461538461546\n",
      "Die Restladezeit des BEVS 1 endet vor dem nächsten Interval\n",
      "Ausgewähltes BEV das frei gewordenen Platz belegen darf:  19\n",
      "Ladestart für ausgewähltes BEV:  846.0384615384615\n",
      "7.8 CHARGING POWER WIRD FÜR NEUES BEV 19 GESPEICHERT: \n",
      "ZEITPUNKT FÜR DAS ES GESPEICHERT WIRD:  846.0384615384615\n",
      "AVAILABLE SOLAR POWER:  39.0\n",
      "Restladeenergie bis zur fairen Ladeenergie for BEV mit ID 10:  6.16306603773586\n",
      "Restladezeit:  47.40820029027585\n",
      "Charging BEVs:  [26, 32, 42, 1, 10]\n",
      "\n",
      "\n",
      "Minute:  855\n",
      "Charging BEVs after updating parking end:  [26, 32, 42, 10, 19]\n",
      "Waiting BEVs:  [22, 25, 35, 38, 6, 21, 23, 34, 36, 44, 0, 5, 15, 18, 24, 30, 47, 45]\n",
      "CALCULATE NUMBER OF CHARGING STATIONS\n",
      "Number of charging stations:  3\n",
      "CALCULATE NUMBER OF CHARGING STATIONS\n",
      "Number of charging stations:  3\n",
      "Charging BEVs (nachdem neue Plätze belegt):  [26, 32, 42, 10, 19]\n",
      "AVAILABLE SOLAR POWER:  33.0\n",
      "Restladeenergie bis zur fairen Ladeenergie for BEV mit ID 26:  2.9996438464531616\n",
      "Restladezeit:  27.269489513210562\n",
      "AVAILABLE SOLAR POWER:  33.0\n",
      "Restladeenergie bis zur fairen Ladeenergie for BEV mit ID 32:  4.734196115605403\n",
      "Restladezeit:  43.03814650550367\n",
      "Die Restparkzeit von BEV  32 endet vor dem nächsten Intervall\n",
      "Ausgewähltes BEV das frei gewordenen Platz belegen darf:  22\n",
      "Ladestart für ausgewähltes BEV:  858\n",
      "6.6 CHARGING POWER WIRD FÜR NEUES BEV 22 GESPEICHERT: \n",
      "ZEITPUNKT FÜR DAS ES GESPEICHERT WIRD:  858\n",
      "AVAILABLE SOLAR POWER:  33.0\n",
      "Restladeenergie bis zur fairen Ladeenergie for BEV mit ID 42:  7.249622206947418\n",
      "Restladezeit:  65.90565642679472\n",
      "AVAILABLE SOLAR POWER:  33.0\n",
      "Restladeenergie bis zur fairen Ladeenergie for BEV mit ID 10:  5.917783018867941\n",
      "Restladezeit:  53.79802744425401\n",
      "Die Restparkzeit von BEV  10 endet vor dem nächsten Intervall\n",
      "Ausgewähltes BEV das frei gewordenen Platz belegen darf:  25\n",
      "Ladestart für ausgewähltes BEV:  858\n",
      "6.6 CHARGING POWER WIRD FÜR NEUES BEV 25 GESPEICHERT: \n",
      "ZEITPUNKT FÜR DAS ES GESPEICHERT WIRD:  858\n",
      "AVAILABLE SOLAR POWER:  33.0\n",
      "Restladeenergie bis zur fairen Ladeenergie for BEV mit ID 19:  6.525000000000002\n",
      "Restladezeit:  59.31818181818184\n",
      "Charging BEVs:  [26, 32, 42, 10, 19]\n",
      "\n",
      "\n",
      "Minute:  870\n",
      "Charging BEVs after updating parking end:  [26, 42, 19, 22, 25]\n",
      "Waiting BEVs:  [35, 38, 6, 21, 23, 34, 36, 44, 0, 5, 15, 18, 24, 30, 47, 45]\n",
      "stop parking at interval_minute for  25\n",
      "CALCULATE NUMBER OF CHARGING STATIONS\n",
      "Number of charging stations:  3\n",
      "CALCULATE NUMBER OF CHARGING STATIONS\n",
      "Number of charging stations:  3\n",
      "Charging BEVs (nachdem neue Plätze belegt):  [26, 42, 19, 22]\n",
      "AVAILABLE SOLAR POWER:  27.0\n",
      "Restladeenergie bis zur fairen Ladeenergie for BEV mit ID 26:  2.6927732452617565\n",
      "Restladezeit:  23.9357621801045\n",
      "AVAILABLE SOLAR POWER:  27.0\n",
      "Restladeenergie bis zur fairen Ladeenergie for BEV mit ID 42:  7.224596734276981\n",
      "Restladezeit:  64.2186376380176\n",
      "AVAILABLE SOLAR POWER:  27.0\n",
      "Restladeenergie bis zur fairen Ladeenergie for BEV mit ID 19:  5.539230769230773\n",
      "Restladezeit:  49.23760683760687\n",
      "AVAILABLE SOLAR POWER:  27.0\n",
      "Restladeenergie bis zur fairen Ladeenergie for BEV mit ID 22:  6.237500000000001\n",
      "Restladezeit:  55.44444444444445\n",
      "Charging BEVs:  [26, 42, 19, 22]\n",
      "\n",
      "\n",
      "Minute:  885\n",
      "Charging BEVs after updating parking end:  [26, 42, 19, 22]\n",
      "Waiting BEVs:  [35, 38, 6, 21, 23, 34, 36, 44, 0, 5, 15, 18, 24, 30, 47, 45]\n",
      "CALCULATE NUMBER OF CHARGING STATIONS\n",
      "Number of charging stations:  2\n",
      "CALCULATE NUMBER OF CHARGING STATIONS\n",
      "Number of charging stations:  2\n",
      "Charging BEVs (nachdem neue Plätze belegt):  [26, 42, 19, 22]\n",
      "AVAILABLE SOLAR POWER:  21.0\n",
      "Restladeenergie bis zur fairen Ladeenergie for BEV mit ID 26:  2.378928312225092\n",
      "Restladezeit:  27.18775213971534\n",
      "AVAILABLE SOLAR POWER:  21.0\n",
      "Restladeenergie bis zur fairen Ladeenergie for BEV mit ID 42:  7.199002500864034\n",
      "Restladezeit:  82.27431429558895\n",
      "Die Restparkzeit von BEV  42 endet vor dem nächsten Intervall\n",
      "Ausgewähltes BEV das frei gewordenen Platz belegen darf:  35\n",
      "Ladestart für ausgewähltes BEV:  888\n",
      "5.25 CHARGING POWER WIRD FÜR NEUES BEV 35 GESPEICHERT: \n",
      "ZEITPUNKT FÜR DAS ES GESPEICHERT WIRD:  888\n",
      "AVAILABLE SOLAR POWER:  21.0\n",
      "Restladeenergie bis zur fairen Ladeenergie for BEV mit ID 19:  4.531057692307697\n",
      "Restladezeit:  51.78351648351654\n",
      "AVAILABLE SOLAR POWER:  21.0\n",
      "Restladeenergie bis zur fairen Ladeenergie for BEV mit ID 22:  4.887500000000001\n",
      "Restladezeit:  55.857142857142875\n",
      "Charging BEVs:  [26, 42, 19, 22]\n",
      "\n",
      "\n",
      "Minute:  900\n",
      "Charging BEVs after updating parking end:  [26, 19, 22, 35]\n",
      "Waiting BEVs:  [38, 6, 21, 23, 34, 36, 44, 0, 5, 15, 18, 24, 30, 47, 45]\n",
      "stop parking at interval_minute for  35\n",
      "CALCULATE NUMBER OF CHARGING STATIONS\n",
      "Number of charging stations:  2\n",
      "CALCULATE NUMBER OF CHARGING STATIONS\n",
      "Number of charging stations:  2\n",
      "Charging BEVs (nachdem neue Plätze belegt):  [26, 19, 22]\n",
      "AVAILABLE SOLAR POWER:  16.88\n",
      "Restladeenergie bis zur fairen Ladeenergie for BEV mit ID 26:  2.13482669764102\n",
      "Restladezeit:  22.76473966678813\n",
      "AVAILABLE SOLAR POWER:  16.88\n",
      "Restladeenergie bis zur fairen Ladeenergie for BEV mit ID 19:  3.7469230769230824\n",
      "Restladezeit:  39.9553408676632\n",
      "AVAILABLE SOLAR POWER:  16.88\n",
      "Restladeenergie bis zur fairen Ladeenergie for BEV mit ID 22:  3.8375000000000012\n",
      "Restladezeit:  40.92120853080571\n",
      "Charging BEVs:  [26, 19, 22]\n",
      "\n",
      "\n",
      "Minute:  915\n",
      "Charging BEVs after updating parking end:  [26, 19, 22]\n",
      "Waiting BEVs:  [38, 6, 21, 23, 34, 36, 44, 0, 5, 15, 18, 24, 30, 47, 45]\n",
      "CALCULATE NUMBER OF CHARGING STATIONS\n",
      "Number of charging stations:  2\n",
      "CALCULATE NUMBER OF CHARGING STATIONS\n",
      "Number of charging stations:  2\n",
      "Charging BEVs (nachdem neue Plätze belegt):  [26, 19, 22]\n",
      "AVAILABLE SOLAR POWER:  14.62\n",
      "Restladeenergie bis zur fairen Ladeenergie for BEV mit ID 26:  1.8732117608677417\n",
      "Restladezeit:  23.062798697414056\n",
      "AVAILABLE SOLAR POWER:  14.62\n",
      "Restladeenergie bis zur fairen Ladeenergie for BEV mit ID 19:  2.906529914529921\n",
      "Restladezeit:  35.78491002841216\n",
      "AVAILABLE SOLAR POWER:  14.62\n",
      "Restladeenergie bis zur fairen Ladeenergie for BEV mit ID 22:  2.7121666666666684\n",
      "Restladezeit:  33.39192886456911\n",
      "Charging BEVs:  [26, 19, 22]\n",
      "\n",
      "\n",
      "Minute:  930\n",
      "Charging BEVs after updating parking end:  [26, 19, 22]\n",
      "Waiting BEVs:  [38, 6, 21, 23, 34, 36, 44, 0, 5, 15, 18, 24, 30, 47, 45]\n",
      "CALCULATE NUMBER OF CHARGING STATIONS\n",
      "Number of charging stations:  2\n",
      "CALCULATE NUMBER OF CHARGING STATIONS\n",
      "Number of charging stations:  2\n",
      "Charging BEVs (nachdem neue Plätze belegt):  [26, 19, 22]\n",
      "AVAILABLE SOLAR POWER:  12.38\n",
      "Restladeenergie bis zur fairen Ladeenergie for BEV mit ID 26:  1.6466234684728764\n",
      "Restladezeit:  23.941213596536166\n",
      "AVAILABLE SOLAR POWER:  12.38\n",
      "Restladeenergie bis zur fairen Ladeenergie for BEV mit ID 19:  2.1786538461538534\n",
      "Restladezeit:  31.67671181806895\n",
      "AVAILABLE SOLAR POWER:  12.38\n",
      "Restladeenergie bis zur fairen Ladeenergie for BEV mit ID 22:  1.7375000000000016\n",
      "Restladezeit:  25.26252019386109\n",
      "Die Restparkzeit von BEV  22 endet vor dem nächsten Intervall\n"
     ]
    },
    {
     "name": "stdout",
     "output_type": "stream",
     "text": [
      "Ausgewähltes BEV das frei gewordenen Platz belegen darf:  38\n",
      "Ladestart für ausgewähltes BEV:  942\n",
      "4.126666666666667 CHARGING POWER WIRD FÜR NEUES BEV 38 GESPEICHERT: \n",
      "ZEITPUNKT FÜR DAS ES GESPEICHERT WIRD:  942\n",
      "Charging BEVs:  [26, 19, 22]\n",
      "\n",
      "\n",
      "Minute:  945\n",
      "Charging BEVs after updating parking end:  [26, 19, 38]\n",
      "Waiting BEVs:  [6, 21, 23, 34, 36, 44, 0, 5, 15, 18, 24, 30, 47, 45]\n",
      "CALCULATE NUMBER OF CHARGING STATIONS\n",
      "Number of charging stations:  1\n",
      "CALCULATE NUMBER OF CHARGING STATIONS\n",
      "Number of charging stations:  1\n",
      "Charging BEVs (nachdem neue Plätze belegt):  [26, 19, 38]\n",
      "AVAILABLE SOLAR POWER:  10.12\n",
      "Restladeenergie bis zur fairen Ladeenergie for BEV mit ID 26:  1.4547518501521903\n",
      "Restladezeit:  25.875032907845284\n",
      "AVAILABLE SOLAR POWER:  10.12\n",
      "Restladeenergie bis zur fairen Ladeenergie for BEV mit ID 19:  1.5622991452991535\n",
      "Restladezeit:  27.78792946184265\n",
      "AVAILABLE SOLAR POWER:  10.12\n",
      "Restladeenergie bis zur fairen Ladeenergie for BEV mit ID 38:  7.483666666666668\n",
      "Restladezeit:  133.10869565217394\n",
      "Charging BEVs:  [26, 19, 38]\n",
      "\n",
      "\n",
      "Minute:  960\n",
      "Charging BEVs after updating parking end:  [26, 19, 38]\n",
      "Waiting BEVs:  [6, 21, 23, 34, 36, 44, 0, 5, 15, 18, 24, 30, 47, 45]\n",
      "CALCULATE NUMBER OF CHARGING STATIONS\n",
      "Number of charging stations:  1\n",
      "CALCULATE NUMBER OF CHARGING STATIONS\n",
      "Number of charging stations:  1\n",
      "Charging BEVs (nachdem neue Plätze belegt):  [26, 19, 38]\n",
      "AVAILABLE SOLAR POWER:  7.88\n",
      "Restladeenergie bis zur fairen Ladeenergie for BEV mit ID 26:  1.2979068762099164\n",
      "Restladezeit:  29.647618999718905\n",
      "AVAILABLE SOLAR POWER:  7.88\n",
      "Restladeenergie bis zur fairen Ladeenergie for BEV mit ID 19:  1.0584615384615468\n",
      "Restladezeit:  24.17805544709117\n",
      "AVAILABLE SOLAR POWER:  7.88\n",
      "Restladeenergie bis zur fairen Ladeenergie for BEV mit ID 38:  7.315000000000001\n",
      "Restladezeit:  167.09390862944167\n",
      "Charging BEVs:  [26, 19, 38]\n"
     ]
    }
   ],
   "source": [
    "import distributionAlgorithmPolling\n",
    "import simulationClasses\n",
    "import simulationData\n",
    "import simulationOutputDataVisualisation\n",
    "import distributionAlgorithmForecast\n",
    "import distributionAlgorithmForecastPolling\n",
    "\n",
    "simulation_day = simulationClasses.SimulationDay(anzahl_bevs_pro_tag)\n",
    "bev_data = simulationData.BevData()\n",
    "table_dict = simulationData.TableDict()\n",
    "simulation_data = simulationData.SimulationData()\n",
    "\n",
    "# Auswahl des Algorithmus\n",
    "# algorithm = distributionAlgorithmPolling.Algorithm.POLLING_FIFO\n",
    "# algorithm = distributionAlgorithmPolling.Algorithm.POLLING_EVEN_DISTRIBUTION\n",
    "# distributionAlgorithmPolling.start_simulation(solarpeakleistung, maximale_ladezeit, ladeleistung_pro_bev, simulation_day, bev_data, table_dict, simulation_data, algorithm, minute_interval)\n",
    "\n",
    "#distributionAlgorithmForecast.start_algorithm(simulation_data, simulation_day, maximale_ladezeit, solarpeakleistung, \n",
    "  #                  bev_data, table_dict, ladeleistung_pro_bev, minute_interval)\n",
    "\n",
    "distributionAlgorithmForecastPolling.start_simulation(solarpeakleistung, ladeleistung_pro_bev,\n",
    "                     simulation_day, bev_data, table_dict, simulation_data, minute_interval)"
   ]
  },
  {
   "cell_type": "markdown",
   "metadata": {},
   "source": [
    "### Ergebnis Algorithmus"
   ]
  },
  {
   "cell_type": "code",
   "execution_count": 4,
   "metadata": {
    "pycharm": {
     "is_executing": true
    }
   },
   "outputs": [
    {
     "data": {
      "text/markdown": [
       ">**Ergebnis**<br>Geladene BEVs: 27 von 50<br>Aufgeladene Solarenergie insgesamt: 133.72 kWh<br>Ungenutzte Solarenergie insgesamt: 0 kWh"
      ],
      "text/plain": [
       "<IPython.core.display.Markdown object>"
      ]
     },
     "execution_count": 4,
     "metadata": {},
     "output_type": "execute_result"
    }
   ],
   "source": [
    "simulationOutputDataVisualisation.print_algorithm_result(bev_data, simulation_data, anzahl_bevs_pro_tag)"
   ]
  },
  {
   "cell_type": "markdown",
   "metadata": {},
   "source": [
    "### Tabellarische Übersicht Park- und Ladeverlauf der BEVs"
   ]
  },
  {
   "cell_type": "code",
   "execution_count": 5,
   "metadata": {
    "pycharm": {
     "is_executing": true
    }
   },
   "outputs": [
    {
     "data": {
      "application/vnd.jupyter.widget-view+json": {
       "model_id": "37d5e68a63bf4ac488a38baa2e7d86db",
       "version_major": 2,
       "version_minor": 0
      },
      "text/plain": [
       "interactive(children=(IntSlider(value=480, description='Minute: ', max=960, min=480, step=15), Output()), _dom…"
      ]
     },
     "metadata": {},
     "output_type": "display_data"
    }
   ],
   "source": [
    "simulationOutputDataVisualisation.create_tabular_overview_per_minute_slider(table_dict, minute_interval)"
   ]
  },
  {
   "cell_type": "code",
   "execution_count": 6,
   "metadata": {
    "pycharm": {
     "is_executing": true
    }
   },
   "outputs": [
    {
     "data": {
      "application/vnd.plotly.v1+json": {
       "config": {
        "plotlyServerURL": "https://plot.ly"
       },
       "data": [
        {
         "line": {
          "color": "orange"
         },
         "name": "Verfügbare Solarleistung",
         "type": "scatter",
         "x": [
          480,
          495,
          510,
          525,
          540,
          555,
          570,
          585,
          600,
          615,
          630,
          645,
          660,
          675,
          690,
          705,
          720,
          735,
          750,
          765,
          780,
          795,
          810,
          825,
          840,
          855,
          870,
          885,
          900,
          915,
          930,
          945,
          960
         ],
         "y": [
          -2,
          3.25,
          8.5,
          13.749999999999998,
          19,
          27,
          35,
          43,
          51,
          50.75,
          50.5,
          50.25,
          50,
          51.25,
          52.5,
          53.75,
          55,
          50.25,
          45.5,
          40.75,
          36,
          37.5,
          39,
          40.5,
          42,
          36,
          30,
          24,
          18,
          15.75,
          13.5,
          11.25,
          9
         ]
        },
        {
         "line": {
          "color": "green"
         },
         "mode": "lines",
         "name": "ID BEV 4",
         "type": "scatter",
         "x": [
          480,
          480,
          495,
          510,
          525,
          540,
          555,
          560.0564516129032,
          560.0564516129032
         ],
         "y": [
          0,
          -2,
          3.25,
          4.25,
          6.875,
          6.333333333333333,
          9,
          10.333333333333334,
          0
         ]
        },
        {
         "line": {
          "color": "green"
         },
         "mode": "lines",
         "name": "ID BEV 8",
         "type": "scatter",
         "x": [
          510,
          510,
          525,
          539.981684981685,
          539.981684981685
         ],
         "y": [
          0,
          8.5,
          13.75,
          8.19,
          0
         ]
        },
        {
         "line": {
          "color": "green"
         },
         "mode": "lines",
         "name": "ID BEV 9",
         "type": "scatter",
         "x": [
          539.981684981685,
          539.981684981685,
          540,
          555,
          570,
          585,
          600,
          615,
          630,
          645,
          660,
          672,
          672
         ],
         "y": [
          0,
          16.38,
          12.666666666666666,
          18,
          8.75,
          8.6,
          10.2,
          10.15,
          10.1,
          10.05,
          10,
          10.123999999999999,
          0
         ]
        },
        {
         "line": {
          "color": "green"
         },
         "mode": "lines",
         "name": "ID BEV 11",
         "type": "scatter",
         "x": [
          540,
          540,
          555,
          570,
          576.2615384615384,
          576.2615384615384
         ],
         "y": [
          0,
          19,
          27,
          17.5,
          9.75,
          0
         ]
        },
        {
         "line": {
          "color": "green"
         },
         "mode": "lines",
         "name": "ID BEV 13",
         "type": "scatter",
         "x": [
          560.0564516129032,
          560.0564516129032,
          570,
          585,
          600,
          615,
          622.5558573686288,
          622.5558573686288
         ],
         "y": [
          0,
          20.666666666666668,
          26.25,
          17.2,
          20.4,
          20.3,
          10.123999999999999,
          0
         ]
        },
        {
         "line": {
          "color": "green"
         },
         "mode": "lines",
         "name": "ID BEV 16",
         "type": "scatter",
         "x": [
          570,
          570,
          585,
          600,
          615,
          618.0580798103516,
          618.0580798103516
         ],
         "y": [
          0,
          35,
          25.799999999999997,
          30.599999999999998,
          30.450000000000003,
          10.123999999999999,
          0
         ]
        },
        {
         "line": {
          "color": "green"
         },
         "mode": "lines",
         "name": "ID BEV 20",
         "type": "scatter",
         "x": [
          576.2615384615384,
          576.2615384615384,
          585,
          600,
          605.9904148524431,
          605.9904148524431
         ],
         "y": [
          0,
          19.5,
          34.4,
          40.8,
          10.176,
          0
         ]
        },
        {
         "line": {
          "color": "green"
         },
         "mode": "lines",
         "name": "ID BEV 29",
         "type": "scatter",
         "x": [
          585,
          585,
          600,
          615,
          630,
          632.5158793171894,
          632.5158793171894
         ],
         "y": [
          0,
          43,
          51,
          40.6,
          20.2,
          10.076,
          0
         ]
        },
        {
         "line": {
          "color": "green"
         },
         "mode": "lines",
         "name": "ID BEV 33",
         "type": "scatter",
         "x": [
          605.9904148524431,
          605.9904148524431,
          615,
          630,
          645,
          660,
          670.5553891780622,
          670.5553891780622
         ],
         "y": [
          0,
          20.352,
          50.75,
          30.299999999999997,
          20.1,
          20,
          10.123999999999999,
          0
         ]
        },
        {
         "line": {
          "color": "green"
         },
         "mode": "lines",
         "name": "ID BEV 37",
         "type": "scatter",
         "x": [
          622.5558573686288,
          622.5558573686288,
          630,
          645,
          660,
          675,
          687.2102672618963,
          687.2102672618963
         ],
         "y": [
          0,
          20.247999999999998,
          40.4,
          30.150000000000002,
          30,
          10.25,
          10.376000000000001,
          0
         ]
        },
        {
         "line": {
          "color": "green"
         },
         "mode": "lines",
         "name": "ID BEV 48",
         "type": "scatter",
         "x": [
          618.0580798103516,
          618.0580798103516,
          630,
          645,
          660,
          672.5609842145464,
          672.5609842145464
         ],
         "y": [
          0,
          20.247999999999998,
          50.5,
          40.2,
          40,
          10.123999999999999,
          0
         ]
        },
        {
         "line": {
          "color": "green"
         },
         "mode": "lines",
         "name": "ID BEV 3",
         "type": "scatter",
         "x": [
          632.5158793171894,
          632.5158793171894,
          645,
          660,
          675,
          684.8236253356527,
          684.8236253356527
         ],
         "y": [
          0,
          20.152,
          50.25,
          50,
          20.5,
          10.376000000000001,
          0
         ]
        },
        {
         "line": {
          "color": "green"
         },
         "mode": "lines",
         "name": "ID BEV 7",
         "type": "scatter",
         "x": [
          672,
          672,
          675,
          690,
          705,
          720,
          735,
          750,
          765,
          780,
          795,
          810,
          823.1132075471698,
          823.1132075471698
         ],
         "y": [
          0,
          20.247999999999998,
          30.75,
          10.5,
          10.75,
          11,
          10.05,
          9.1,
          8.15,
          7.2,
          7.5,
          7.8,
          7.95,
          0
         ]
        },
        {
         "line": {
          "color": "green"
         },
         "mode": "lines",
         "name": "ID BEV 14",
         "type": "scatter",
         "x": [
          670.5553891780622,
          670.5553891780622,
          675,
          690,
          705,
          720,
          735,
          750,
          762.5741730006569,
          762.5741730006569
         ],
         "y": [
          0,
          20.247999999999998,
          41,
          21,
          21.5,
          22,
          20.1,
          18.2,
          8.623999999999999,
          0
         ]
        },
        {
         "line": {
          "color": "green"
         },
         "mode": "lines",
         "name": "ID BEV 17",
         "type": "scatter",
         "x": [
          672.5609842145464,
          672.5609842145464,
          675,
          690,
          705,
          720,
          735,
          750,
          765,
          774,
          774
         ],
         "y": [
          0,
          20.247999999999998,
          51.25,
          31.5,
          32.25,
          33,
          30.150000000000002,
          27.299999999999997,
          16.3,
          7.676,
          0
         ]
        },
        {
         "line": {
          "color": "green"
         },
         "mode": "lines",
         "name": "ID BEV 26",
         "type": "scatter",
         "x": [
          687.2102672618963,
          687.2102672618963,
          690,
          705,
          720,
          735,
          750,
          765,
          780,
          795,
          810,
          825,
          840,
          855,
          870,
          885,
          900,
          915,
          930,
          945,
          960,
          960
         ],
         "y": [
          0,
          20.752000000000002,
          42,
          43,
          44,
          40.2,
          36.4,
          24.450000000000003,
          14.4,
          15,
          15.6,
          8.1,
          8.4,
          7.2,
          7.5,
          6,
          6,
          5.25,
          4.5,
          3.75,
          3,
          0
         ]
        },
        {
         "line": {
          "color": "green"
         },
         "mode": "lines",
         "name": "ID BEV 27",
         "type": "scatter",
         "x": [
          684.8236253356527,
          684.8236253356527,
          690,
          705,
          720,
          735,
          750,
          765,
          780,
          794.772495702996,
          794.772495702996
         ],
         "y": [
          0,
          20.752000000000002,
          52.5,
          53.75,
          55,
          50.25,
          45.5,
          32.6,
          21.6,
          7.35,
          0
         ]
        },
        {
         "line": {
          "color": "green"
         },
         "mode": "lines",
         "name": "ID BEV 32",
         "type": "scatter",
         "x": [
          762.5741730006569,
          762.5741730006569,
          765,
          780,
          795,
          810,
          825,
          840,
          855,
          858,
          858
         ],
         "y": [
          0,
          17.247999999999998,
          40.75,
          28.8,
          22.5,
          23.4,
          16.2,
          16.8,
          14.4,
          6.6,
          0
         ]
        },
        {
         "line": {
          "color": "green"
         },
         "mode": "lines",
         "name": "ID BEV 41",
         "type": "scatter",
         "x": [
          774,
          774,
          780,
          795,
          798,
          798
         ],
         "y": [
          0,
          15.352,
          36,
          30,
          7.65,
          0
         ]
        },
        {
         "line": {
          "color": "green"
         },
         "mode": "lines",
         "name": "ID BEV 42",
         "type": "scatter",
         "x": [
          794.772495702996,
          794.772495702996,
          795,
          810,
          825,
          840,
          855,
          870,
          885,
          888,
          888
         ],
         "y": [
          0,
          14.7,
          37.5,
          31.2,
          24.299999999999997,
          25.200000000000003,
          21.6,
          15,
          12,
          5.25,
          0
         ]
        },
        {
         "line": {
          "color": "green"
         },
         "mode": "lines",
         "name": "ID BEV 1",
         "type": "scatter",
         "x": [
          798,
          798,
          810,
          825,
          840,
          846.0384615384615,
          846.0384615384615
         ],
         "y": [
          0,
          15.3,
          39,
          32.4,
          33.6,
          7.8,
          0
         ]
        },
        {
         "line": {
          "color": "green"
         },
         "mode": "lines",
         "name": "ID BEV 10",
         "type": "scatter",
         "x": [
          823.1132075471698,
          823.1132075471698,
          825,
          840,
          855,
          858,
          858
         ],
         "y": [
          0,
          15.9,
          40.5,
          42,
          28.8,
          13.2,
          0
         ]
        },
        {
         "line": {
          "color": "green"
         },
         "mode": "lines",
         "name": "ID BEV 19",
         "type": "scatter",
         "x": [
          846.0384615384615,
          846.0384615384615,
          855,
          870,
          885,
          900,
          915,
          930,
          945,
          960,
          960
         ],
         "y": [
          0,
          15.6,
          36,
          22.5,
          18,
          12,
          10.5,
          9,
          7.5,
          6,
          0
         ]
        },
        {
         "line": {
          "color": "green"
         },
         "mode": "lines",
         "name": "ID BEV 22",
         "type": "scatter",
         "x": [
          858,
          858,
          870,
          885,
          900,
          915,
          930,
          942,
          942
         ],
         "y": [
          0,
          19.799999999999997,
          30,
          24,
          18,
          15.75,
          13.5,
          4.126666666666667,
          0
         ]
        },
        {
         "line": {
          "color": "green"
         },
         "mode": "lines",
         "name": "ID BEV 25",
         "type": "scatter",
         "x": [
          858,
          858,
          858
         ],
         "y": [
          0,
          26.4,
          0
         ]
        },
        {
         "line": {
          "color": "green"
         },
         "mode": "lines",
         "name": "ID BEV 35",
         "type": "scatter",
         "x": [
          888,
          888,
          888
         ],
         "y": [
          0,
          10.5,
          0
         ]
        },
        {
         "line": {
          "color": "green"
         },
         "mode": "lines",
         "name": "ID BEV 38",
         "type": "scatter",
         "x": [
          942,
          942,
          945,
          960,
          960
         ],
         "y": [
          0,
          8.253333333333334,
          11.25,
          9,
          0
         ]
        }
       ],
       "layout": {
        "template": {
         "data": {
          "bar": [
           {
            "error_x": {
             "color": "#2a3f5f"
            },
            "error_y": {
             "color": "#2a3f5f"
            },
            "marker": {
             "line": {
              "color": "white",
              "width": 0.5
             },
             "pattern": {
              "fillmode": "overlay",
              "size": 10,
              "solidity": 0.2
             }
            },
            "type": "bar"
           }
          ],
          "barpolar": [
           {
            "marker": {
             "line": {
              "color": "white",
              "width": 0.5
             },
             "pattern": {
              "fillmode": "overlay",
              "size": 10,
              "solidity": 0.2
             }
            },
            "type": "barpolar"
           }
          ],
          "carpet": [
           {
            "aaxis": {
             "endlinecolor": "#2a3f5f",
             "gridcolor": "#C8D4E3",
             "linecolor": "#C8D4E3",
             "minorgridcolor": "#C8D4E3",
             "startlinecolor": "#2a3f5f"
            },
            "baxis": {
             "endlinecolor": "#2a3f5f",
             "gridcolor": "#C8D4E3",
             "linecolor": "#C8D4E3",
             "minorgridcolor": "#C8D4E3",
             "startlinecolor": "#2a3f5f"
            },
            "type": "carpet"
           }
          ],
          "choropleth": [
           {
            "colorbar": {
             "outlinewidth": 0,
             "ticks": ""
            },
            "type": "choropleth"
           }
          ],
          "contour": [
           {
            "colorbar": {
             "outlinewidth": 0,
             "ticks": ""
            },
            "colorscale": [
             [
              0,
              "#0d0887"
             ],
             [
              0.1111111111111111,
              "#46039f"
             ],
             [
              0.2222222222222222,
              "#7201a8"
             ],
             [
              0.3333333333333333,
              "#9c179e"
             ],
             [
              0.4444444444444444,
              "#bd3786"
             ],
             [
              0.5555555555555556,
              "#d8576b"
             ],
             [
              0.6666666666666666,
              "#ed7953"
             ],
             [
              0.7777777777777778,
              "#fb9f3a"
             ],
             [
              0.8888888888888888,
              "#fdca26"
             ],
             [
              1,
              "#f0f921"
             ]
            ],
            "type": "contour"
           }
          ],
          "contourcarpet": [
           {
            "colorbar": {
             "outlinewidth": 0,
             "ticks": ""
            },
            "type": "contourcarpet"
           }
          ],
          "heatmap": [
           {
            "colorbar": {
             "outlinewidth": 0,
             "ticks": ""
            },
            "colorscale": [
             [
              0,
              "#0d0887"
             ],
             [
              0.1111111111111111,
              "#46039f"
             ],
             [
              0.2222222222222222,
              "#7201a8"
             ],
             [
              0.3333333333333333,
              "#9c179e"
             ],
             [
              0.4444444444444444,
              "#bd3786"
             ],
             [
              0.5555555555555556,
              "#d8576b"
             ],
             [
              0.6666666666666666,
              "#ed7953"
             ],
             [
              0.7777777777777778,
              "#fb9f3a"
             ],
             [
              0.8888888888888888,
              "#fdca26"
             ],
             [
              1,
              "#f0f921"
             ]
            ],
            "type": "heatmap"
           }
          ],
          "heatmapgl": [
           {
            "colorbar": {
             "outlinewidth": 0,
             "ticks": ""
            },
            "colorscale": [
             [
              0,
              "#0d0887"
             ],
             [
              0.1111111111111111,
              "#46039f"
             ],
             [
              0.2222222222222222,
              "#7201a8"
             ],
             [
              0.3333333333333333,
              "#9c179e"
             ],
             [
              0.4444444444444444,
              "#bd3786"
             ],
             [
              0.5555555555555556,
              "#d8576b"
             ],
             [
              0.6666666666666666,
              "#ed7953"
             ],
             [
              0.7777777777777778,
              "#fb9f3a"
             ],
             [
              0.8888888888888888,
              "#fdca26"
             ],
             [
              1,
              "#f0f921"
             ]
            ],
            "type": "heatmapgl"
           }
          ],
          "histogram": [
           {
            "marker": {
             "pattern": {
              "fillmode": "overlay",
              "size": 10,
              "solidity": 0.2
             }
            },
            "type": "histogram"
           }
          ],
          "histogram2d": [
           {
            "colorbar": {
             "outlinewidth": 0,
             "ticks": ""
            },
            "colorscale": [
             [
              0,
              "#0d0887"
             ],
             [
              0.1111111111111111,
              "#46039f"
             ],
             [
              0.2222222222222222,
              "#7201a8"
             ],
             [
              0.3333333333333333,
              "#9c179e"
             ],
             [
              0.4444444444444444,
              "#bd3786"
             ],
             [
              0.5555555555555556,
              "#d8576b"
             ],
             [
              0.6666666666666666,
              "#ed7953"
             ],
             [
              0.7777777777777778,
              "#fb9f3a"
             ],
             [
              0.8888888888888888,
              "#fdca26"
             ],
             [
              1,
              "#f0f921"
             ]
            ],
            "type": "histogram2d"
           }
          ],
          "histogram2dcontour": [
           {
            "colorbar": {
             "outlinewidth": 0,
             "ticks": ""
            },
            "colorscale": [
             [
              0,
              "#0d0887"
             ],
             [
              0.1111111111111111,
              "#46039f"
             ],
             [
              0.2222222222222222,
              "#7201a8"
             ],
             [
              0.3333333333333333,
              "#9c179e"
             ],
             [
              0.4444444444444444,
              "#bd3786"
             ],
             [
              0.5555555555555556,
              "#d8576b"
             ],
             [
              0.6666666666666666,
              "#ed7953"
             ],
             [
              0.7777777777777778,
              "#fb9f3a"
             ],
             [
              0.8888888888888888,
              "#fdca26"
             ],
             [
              1,
              "#f0f921"
             ]
            ],
            "type": "histogram2dcontour"
           }
          ],
          "mesh3d": [
           {
            "colorbar": {
             "outlinewidth": 0,
             "ticks": ""
            },
            "type": "mesh3d"
           }
          ],
          "parcoords": [
           {
            "line": {
             "colorbar": {
              "outlinewidth": 0,
              "ticks": ""
             }
            },
            "type": "parcoords"
           }
          ],
          "pie": [
           {
            "automargin": true,
            "type": "pie"
           }
          ],
          "scatter": [
           {
            "marker": {
             "colorbar": {
              "outlinewidth": 0,
              "ticks": ""
             }
            },
            "type": "scatter"
           }
          ],
          "scatter3d": [
           {
            "line": {
             "colorbar": {
              "outlinewidth": 0,
              "ticks": ""
             }
            },
            "marker": {
             "colorbar": {
              "outlinewidth": 0,
              "ticks": ""
             }
            },
            "type": "scatter3d"
           }
          ],
          "scattercarpet": [
           {
            "marker": {
             "colorbar": {
              "outlinewidth": 0,
              "ticks": ""
             }
            },
            "type": "scattercarpet"
           }
          ],
          "scattergeo": [
           {
            "marker": {
             "colorbar": {
              "outlinewidth": 0,
              "ticks": ""
             }
            },
            "type": "scattergeo"
           }
          ],
          "scattergl": [
           {
            "marker": {
             "colorbar": {
              "outlinewidth": 0,
              "ticks": ""
             }
            },
            "type": "scattergl"
           }
          ],
          "scattermapbox": [
           {
            "marker": {
             "colorbar": {
              "outlinewidth": 0,
              "ticks": ""
             }
            },
            "type": "scattermapbox"
           }
          ],
          "scatterpolar": [
           {
            "marker": {
             "colorbar": {
              "outlinewidth": 0,
              "ticks": ""
             }
            },
            "type": "scatterpolar"
           }
          ],
          "scatterpolargl": [
           {
            "marker": {
             "colorbar": {
              "outlinewidth": 0,
              "ticks": ""
             }
            },
            "type": "scatterpolargl"
           }
          ],
          "scatterternary": [
           {
            "marker": {
             "colorbar": {
              "outlinewidth": 0,
              "ticks": ""
             }
            },
            "type": "scatterternary"
           }
          ],
          "surface": [
           {
            "colorbar": {
             "outlinewidth": 0,
             "ticks": ""
            },
            "colorscale": [
             [
              0,
              "#0d0887"
             ],
             [
              0.1111111111111111,
              "#46039f"
             ],
             [
              0.2222222222222222,
              "#7201a8"
             ],
             [
              0.3333333333333333,
              "#9c179e"
             ],
             [
              0.4444444444444444,
              "#bd3786"
             ],
             [
              0.5555555555555556,
              "#d8576b"
             ],
             [
              0.6666666666666666,
              "#ed7953"
             ],
             [
              0.7777777777777778,
              "#fb9f3a"
             ],
             [
              0.8888888888888888,
              "#fdca26"
             ],
             [
              1,
              "#f0f921"
             ]
            ],
            "type": "surface"
           }
          ],
          "table": [
           {
            "cells": {
             "fill": {
              "color": "#EBF0F8"
             },
             "line": {
              "color": "white"
             }
            },
            "header": {
             "fill": {
              "color": "#C8D4E3"
             },
             "line": {
              "color": "white"
             }
            },
            "type": "table"
           }
          ]
         },
         "layout": {
          "annotationdefaults": {
           "arrowcolor": "#2a3f5f",
           "arrowhead": 0,
           "arrowwidth": 1
          },
          "autotypenumbers": "strict",
          "coloraxis": {
           "colorbar": {
            "outlinewidth": 0,
            "ticks": ""
           }
          },
          "colorscale": {
           "diverging": [
            [
             0,
             "#8e0152"
            ],
            [
             0.1,
             "#c51b7d"
            ],
            [
             0.2,
             "#de77ae"
            ],
            [
             0.3,
             "#f1b6da"
            ],
            [
             0.4,
             "#fde0ef"
            ],
            [
             0.5,
             "#f7f7f7"
            ],
            [
             0.6,
             "#e6f5d0"
            ],
            [
             0.7,
             "#b8e186"
            ],
            [
             0.8,
             "#7fbc41"
            ],
            [
             0.9,
             "#4d9221"
            ],
            [
             1,
             "#276419"
            ]
           ],
           "sequential": [
            [
             0,
             "#0d0887"
            ],
            [
             0.1111111111111111,
             "#46039f"
            ],
            [
             0.2222222222222222,
             "#7201a8"
            ],
            [
             0.3333333333333333,
             "#9c179e"
            ],
            [
             0.4444444444444444,
             "#bd3786"
            ],
            [
             0.5555555555555556,
             "#d8576b"
            ],
            [
             0.6666666666666666,
             "#ed7953"
            ],
            [
             0.7777777777777778,
             "#fb9f3a"
            ],
            [
             0.8888888888888888,
             "#fdca26"
            ],
            [
             1,
             "#f0f921"
            ]
           ],
           "sequentialminus": [
            [
             0,
             "#0d0887"
            ],
            [
             0.1111111111111111,
             "#46039f"
            ],
            [
             0.2222222222222222,
             "#7201a8"
            ],
            [
             0.3333333333333333,
             "#9c179e"
            ],
            [
             0.4444444444444444,
             "#bd3786"
            ],
            [
             0.5555555555555556,
             "#d8576b"
            ],
            [
             0.6666666666666666,
             "#ed7953"
            ],
            [
             0.7777777777777778,
             "#fb9f3a"
            ],
            [
             0.8888888888888888,
             "#fdca26"
            ],
            [
             1,
             "#f0f921"
            ]
           ]
          },
          "colorway": [
           "#636efa",
           "#EF553B",
           "#00cc96",
           "#ab63fa",
           "#FFA15A",
           "#19d3f3",
           "#FF6692",
           "#B6E880",
           "#FF97FF",
           "#FECB52"
          ],
          "font": {
           "color": "#2a3f5f"
          },
          "geo": {
           "bgcolor": "white",
           "lakecolor": "white",
           "landcolor": "white",
           "showlakes": true,
           "showland": true,
           "subunitcolor": "#C8D4E3"
          },
          "hoverlabel": {
           "align": "left"
          },
          "hovermode": "closest",
          "mapbox": {
           "style": "light"
          },
          "paper_bgcolor": "white",
          "plot_bgcolor": "white",
          "polar": {
           "angularaxis": {
            "gridcolor": "#EBF0F8",
            "linecolor": "#EBF0F8",
            "ticks": ""
           },
           "bgcolor": "white",
           "radialaxis": {
            "gridcolor": "#EBF0F8",
            "linecolor": "#EBF0F8",
            "ticks": ""
           }
          },
          "scene": {
           "xaxis": {
            "backgroundcolor": "white",
            "gridcolor": "#DFE8F3",
            "gridwidth": 2,
            "linecolor": "#EBF0F8",
            "showbackground": true,
            "ticks": "",
            "zerolinecolor": "#EBF0F8"
           },
           "yaxis": {
            "backgroundcolor": "white",
            "gridcolor": "#DFE8F3",
            "gridwidth": 2,
            "linecolor": "#EBF0F8",
            "showbackground": true,
            "ticks": "",
            "zerolinecolor": "#EBF0F8"
           },
           "zaxis": {
            "backgroundcolor": "white",
            "gridcolor": "#DFE8F3",
            "gridwidth": 2,
            "linecolor": "#EBF0F8",
            "showbackground": true,
            "ticks": "",
            "zerolinecolor": "#EBF0F8"
           }
          },
          "shapedefaults": {
           "line": {
            "color": "#2a3f5f"
           }
          },
          "ternary": {
           "aaxis": {
            "gridcolor": "#DFE8F3",
            "linecolor": "#A2B1C6",
            "ticks": ""
           },
           "baxis": {
            "gridcolor": "#DFE8F3",
            "linecolor": "#A2B1C6",
            "ticks": ""
           },
           "bgcolor": "white",
           "caxis": {
            "gridcolor": "#DFE8F3",
            "linecolor": "#A2B1C6",
            "ticks": ""
           }
          },
          "title": {
           "x": 0.05
          },
          "xaxis": {
           "automargin": true,
           "gridcolor": "#EBF0F8",
           "linecolor": "#EBF0F8",
           "ticks": "",
           "title": {
            "standoff": 15
           },
           "zerolinecolor": "#EBF0F8",
           "zerolinewidth": 2
          },
          "yaxis": {
           "automargin": true,
           "gridcolor": "#EBF0F8",
           "linecolor": "#EBF0F8",
           "ticks": "",
           "title": {
            "standoff": 15
           },
           "zerolinecolor": "#EBF0F8",
           "zerolinewidth": 2
          }
         }
        },
        "title": {
         "font": {
          "size": 24
         },
         "text": "Ladeleistung pro Ladezeitraum eines BEVs",
         "x": 0.5,
         "xanchor": "center"
        },
        "xaxis": {
         "range": [
          480,
          960
         ],
         "showgrid": true,
         "title": {
          "text": "Minuten"
         }
        },
        "yaxis": {
         "range": [
          0,
          60
         ],
         "title": {
          "text": "Energie in kW"
         }
        }
       }
      },
      "text/html": [
       "<div>                            <div id=\"7d22d235-924b-483f-ac81-e01407ce3515\" class=\"plotly-graph-div\" style=\"height:525px; width:100%;\"></div>            <script type=\"text/javascript\">                require([\"plotly\"], function(Plotly) {                    window.PLOTLYENV=window.PLOTLYENV || {};                                    if (document.getElementById(\"7d22d235-924b-483f-ac81-e01407ce3515\")) {                    Plotly.newPlot(                        \"7d22d235-924b-483f-ac81-e01407ce3515\",                        [{\"line\":{\"color\":\"orange\"},\"name\":\"Verf\\u00fcgbare Solarleistung\",\"x\":[480,495,510,525,540,555,570,585,600,615,630,645,660,675,690,705,720,735,750,765,780,795,810,825,840,855,870,885,900,915,930,945,960],\"y\":[-2.0,3.25,8.5,13.749999999999998,19.0,27.0,35.0,43.0,51.0,50.75,50.5,50.25,50.0,51.25,52.5,53.75,55.0,50.25,45.5,40.75,36.0,37.5,39.0,40.5,42.0,36.0,30.0,24.0,18.0,15.75,13.5,11.25,9.0],\"type\":\"scatter\"},{\"line\":{\"color\":\"green\"},\"mode\":\"lines\",\"name\":\"ID BEV 4\",\"x\":[480.0,480.0,495.0,510.0,525.0,540.0,555.0,560.0564516129032,560.0564516129032],\"y\":[0.0,-2.0,3.25,4.25,6.875,6.333333333333333,9.0,10.333333333333334,0.0],\"type\":\"scatter\"},{\"line\":{\"color\":\"green\"},\"mode\":\"lines\",\"name\":\"ID BEV 8\",\"x\":[510.0,510.0,525.0,539.981684981685,539.981684981685],\"y\":[0.0,8.5,13.75,8.19,0.0],\"type\":\"scatter\"},{\"line\":{\"color\":\"green\"},\"mode\":\"lines\",\"name\":\"ID BEV 9\",\"x\":[539.981684981685,539.981684981685,540.0,555.0,570.0,585.0,600.0,615.0,630.0,645.0,660.0,672.0,672.0],\"y\":[0.0,16.38,12.666666666666666,18.0,8.75,8.6,10.2,10.15,10.1,10.05,10.0,10.123999999999999,0.0],\"type\":\"scatter\"},{\"line\":{\"color\":\"green\"},\"mode\":\"lines\",\"name\":\"ID BEV 11\",\"x\":[540.0,540.0,555.0,570.0,576.2615384615384,576.2615384615384],\"y\":[0.0,19.0,27.0,17.5,9.75,0.0],\"type\":\"scatter\"},{\"line\":{\"color\":\"green\"},\"mode\":\"lines\",\"name\":\"ID BEV 13\",\"x\":[560.0564516129032,560.0564516129032,570.0,585.0,600.0,615.0,622.5558573686288,622.5558573686288],\"y\":[0.0,20.666666666666668,26.25,17.2,20.4,20.3,10.123999999999999,0.0],\"type\":\"scatter\"},{\"line\":{\"color\":\"green\"},\"mode\":\"lines\",\"name\":\"ID BEV 16\",\"x\":[570.0,570.0,585.0,600.0,615.0,618.0580798103516,618.0580798103516],\"y\":[0.0,35.0,25.799999999999997,30.599999999999998,30.450000000000003,10.123999999999999,0.0],\"type\":\"scatter\"},{\"line\":{\"color\":\"green\"},\"mode\":\"lines\",\"name\":\"ID BEV 20\",\"x\":[576.2615384615384,576.2615384615384,585.0,600.0,605.9904148524431,605.9904148524431],\"y\":[0.0,19.5,34.4,40.8,10.176,0.0],\"type\":\"scatter\"},{\"line\":{\"color\":\"green\"},\"mode\":\"lines\",\"name\":\"ID BEV 29\",\"x\":[585.0,585.0,600.0,615.0,630.0,632.5158793171894,632.5158793171894],\"y\":[0.0,43.0,51.0,40.6,20.2,10.076,0.0],\"type\":\"scatter\"},{\"line\":{\"color\":\"green\"},\"mode\":\"lines\",\"name\":\"ID BEV 33\",\"x\":[605.9904148524431,605.9904148524431,615.0,630.0,645.0,660.0,670.5553891780622,670.5553891780622],\"y\":[0.0,20.352,50.75,30.299999999999997,20.1,20.0,10.123999999999999,0.0],\"type\":\"scatter\"},{\"line\":{\"color\":\"green\"},\"mode\":\"lines\",\"name\":\"ID BEV 37\",\"x\":[622.5558573686288,622.5558573686288,630.0,645.0,660.0,675.0,687.2102672618963,687.2102672618963],\"y\":[0.0,20.247999999999998,40.4,30.150000000000002,30.0,10.25,10.376000000000001,0.0],\"type\":\"scatter\"},{\"line\":{\"color\":\"green\"},\"mode\":\"lines\",\"name\":\"ID BEV 48\",\"x\":[618.0580798103516,618.0580798103516,630.0,645.0,660.0,672.5609842145464,672.5609842145464],\"y\":[0.0,20.247999999999998,50.5,40.2,40.0,10.123999999999999,0.0],\"type\":\"scatter\"},{\"line\":{\"color\":\"green\"},\"mode\":\"lines\",\"name\":\"ID BEV 3\",\"x\":[632.5158793171894,632.5158793171894,645.0,660.0,675.0,684.8236253356527,684.8236253356527],\"y\":[0.0,20.152,50.25,50.0,20.5,10.376000000000001,0.0],\"type\":\"scatter\"},{\"line\":{\"color\":\"green\"},\"mode\":\"lines\",\"name\":\"ID BEV 7\",\"x\":[672.0,672.0,675.0,690.0,705.0,720.0,735.0,750.0,765.0,780.0,795.0,810.0,823.1132075471698,823.1132075471698],\"y\":[0.0,20.247999999999998,30.75,10.5,10.75,11.0,10.05,9.1,8.15,7.2,7.5,7.8,7.95,0.0],\"type\":\"scatter\"},{\"line\":{\"color\":\"green\"},\"mode\":\"lines\",\"name\":\"ID BEV 14\",\"x\":[670.5553891780622,670.5553891780622,675.0,690.0,705.0,720.0,735.0,750.0,762.5741730006569,762.5741730006569],\"y\":[0.0,20.247999999999998,41.0,21.0,21.5,22.0,20.1,18.2,8.623999999999999,0.0],\"type\":\"scatter\"},{\"line\":{\"color\":\"green\"},\"mode\":\"lines\",\"name\":\"ID BEV 17\",\"x\":[672.5609842145464,672.5609842145464,675.0,690.0,705.0,720.0,735.0,750.0,765.0,774.0,774.0],\"y\":[0.0,20.247999999999998,51.25,31.5,32.25,33.0,30.150000000000002,27.299999999999997,16.3,7.676,0.0],\"type\":\"scatter\"},{\"line\":{\"color\":\"green\"},\"mode\":\"lines\",\"name\":\"ID BEV 26\",\"x\":[687.2102672618963,687.2102672618963,690.0,705.0,720.0,735.0,750.0,765.0,780.0,795.0,810.0,825.0,840.0,855.0,870.0,885.0,900.0,915.0,930.0,945.0,960.0,960.0],\"y\":[0.0,20.752000000000002,42.0,43.0,44.0,40.2,36.4,24.450000000000003,14.4,15.0,15.6,8.1,8.4,7.2,7.5,6.0,6.0,5.25,4.5,3.75,3.0,0.0],\"type\":\"scatter\"},{\"line\":{\"color\":\"green\"},\"mode\":\"lines\",\"name\":\"ID BEV 27\",\"x\":[684.8236253356527,684.8236253356527,690.0,705.0,720.0,735.0,750.0,765.0,780.0,794.772495702996,794.772495702996],\"y\":[0.0,20.752000000000002,52.5,53.75,55.0,50.25,45.5,32.6,21.6,7.35,0.0],\"type\":\"scatter\"},{\"line\":{\"color\":\"green\"},\"mode\":\"lines\",\"name\":\"ID BEV 32\",\"x\":[762.5741730006569,762.5741730006569,765.0,780.0,795.0,810.0,825.0,840.0,855.0,858.0,858.0],\"y\":[0.0,17.247999999999998,40.75,28.8,22.5,23.4,16.2,16.8,14.4,6.6,0.0],\"type\":\"scatter\"},{\"line\":{\"color\":\"green\"},\"mode\":\"lines\",\"name\":\"ID BEV 41\",\"x\":[774,774,780,795,798,798],\"y\":[0.0,15.352,36.0,30.0,7.65,0.0],\"type\":\"scatter\"},{\"line\":{\"color\":\"green\"},\"mode\":\"lines\",\"name\":\"ID BEV 42\",\"x\":[794.772495702996,794.772495702996,795.0,810.0,825.0,840.0,855.0,870.0,885.0,888.0,888.0],\"y\":[0.0,14.7,37.5,31.2,24.299999999999997,25.200000000000003,21.6,15.0,12.0,5.25,0.0],\"type\":\"scatter\"},{\"line\":{\"color\":\"green\"},\"mode\":\"lines\",\"name\":\"ID BEV 1\",\"x\":[798.0,798.0,810.0,825.0,840.0,846.0384615384615,846.0384615384615],\"y\":[0.0,15.3,39.0,32.4,33.6,7.8,0.0],\"type\":\"scatter\"},{\"line\":{\"color\":\"green\"},\"mode\":\"lines\",\"name\":\"ID BEV 10\",\"x\":[823.1132075471698,823.1132075471698,825.0,840.0,855.0,858.0,858.0],\"y\":[0.0,15.9,40.5,42.0,28.8,13.2,0.0],\"type\":\"scatter\"},{\"line\":{\"color\":\"green\"},\"mode\":\"lines\",\"name\":\"ID BEV 19\",\"x\":[846.0384615384615,846.0384615384615,855.0,870.0,885.0,900.0,915.0,930.0,945.0,960.0,960.0],\"y\":[0.0,15.6,36.0,22.5,18.0,12.0,10.5,9.0,7.5,6.0,0.0],\"type\":\"scatter\"},{\"line\":{\"color\":\"green\"},\"mode\":\"lines\",\"name\":\"ID BEV 22\",\"x\":[858,858,870,885,900,915,930,942,942],\"y\":[0.0,19.799999999999997,30.0,24.0,18.0,15.75,13.5,4.126666666666667,0.0],\"type\":\"scatter\"},{\"line\":{\"color\":\"green\"},\"mode\":\"lines\",\"name\":\"ID BEV 25\",\"x\":[858,858,858],\"y\":[0.0,26.4,0.0],\"type\":\"scatter\"},{\"line\":{\"color\":\"green\"},\"mode\":\"lines\",\"name\":\"ID BEV 35\",\"x\":[888,888,888],\"y\":[0.0,10.5,0.0],\"type\":\"scatter\"},{\"line\":{\"color\":\"green\"},\"mode\":\"lines\",\"name\":\"ID BEV 38\",\"x\":[942,942,945,960,960],\"y\":[0.0,8.253333333333334,11.25,9.0,0.0],\"type\":\"scatter\"}],                        {\"template\":{\"data\":{\"barpolar\":[{\"marker\":{\"line\":{\"color\":\"white\",\"width\":0.5},\"pattern\":{\"fillmode\":\"overlay\",\"size\":10,\"solidity\":0.2}},\"type\":\"barpolar\"}],\"bar\":[{\"error_x\":{\"color\":\"#2a3f5f\"},\"error_y\":{\"color\":\"#2a3f5f\"},\"marker\":{\"line\":{\"color\":\"white\",\"width\":0.5},\"pattern\":{\"fillmode\":\"overlay\",\"size\":10,\"solidity\":0.2}},\"type\":\"bar\"}],\"carpet\":[{\"aaxis\":{\"endlinecolor\":\"#2a3f5f\",\"gridcolor\":\"#C8D4E3\",\"linecolor\":\"#C8D4E3\",\"minorgridcolor\":\"#C8D4E3\",\"startlinecolor\":\"#2a3f5f\"},\"baxis\":{\"endlinecolor\":\"#2a3f5f\",\"gridcolor\":\"#C8D4E3\",\"linecolor\":\"#C8D4E3\",\"minorgridcolor\":\"#C8D4E3\",\"startlinecolor\":\"#2a3f5f\"},\"type\":\"carpet\"}],\"choropleth\":[{\"colorbar\":{\"outlinewidth\":0,\"ticks\":\"\"},\"type\":\"choropleth\"}],\"contourcarpet\":[{\"colorbar\":{\"outlinewidth\":0,\"ticks\":\"\"},\"type\":\"contourcarpet\"}],\"contour\":[{\"colorbar\":{\"outlinewidth\":0,\"ticks\":\"\"},\"colorscale\":[[0.0,\"#0d0887\"],[0.1111111111111111,\"#46039f\"],[0.2222222222222222,\"#7201a8\"],[0.3333333333333333,\"#9c179e\"],[0.4444444444444444,\"#bd3786\"],[0.5555555555555556,\"#d8576b\"],[0.6666666666666666,\"#ed7953\"],[0.7777777777777778,\"#fb9f3a\"],[0.8888888888888888,\"#fdca26\"],[1.0,\"#f0f921\"]],\"type\":\"contour\"}],\"heatmapgl\":[{\"colorbar\":{\"outlinewidth\":0,\"ticks\":\"\"},\"colorscale\":[[0.0,\"#0d0887\"],[0.1111111111111111,\"#46039f\"],[0.2222222222222222,\"#7201a8\"],[0.3333333333333333,\"#9c179e\"],[0.4444444444444444,\"#bd3786\"],[0.5555555555555556,\"#d8576b\"],[0.6666666666666666,\"#ed7953\"],[0.7777777777777778,\"#fb9f3a\"],[0.8888888888888888,\"#fdca26\"],[1.0,\"#f0f921\"]],\"type\":\"heatmapgl\"}],\"heatmap\":[{\"colorbar\":{\"outlinewidth\":0,\"ticks\":\"\"},\"colorscale\":[[0.0,\"#0d0887\"],[0.1111111111111111,\"#46039f\"],[0.2222222222222222,\"#7201a8\"],[0.3333333333333333,\"#9c179e\"],[0.4444444444444444,\"#bd3786\"],[0.5555555555555556,\"#d8576b\"],[0.6666666666666666,\"#ed7953\"],[0.7777777777777778,\"#fb9f3a\"],[0.8888888888888888,\"#fdca26\"],[1.0,\"#f0f921\"]],\"type\":\"heatmap\"}],\"histogram2dcontour\":[{\"colorbar\":{\"outlinewidth\":0,\"ticks\":\"\"},\"colorscale\":[[0.0,\"#0d0887\"],[0.1111111111111111,\"#46039f\"],[0.2222222222222222,\"#7201a8\"],[0.3333333333333333,\"#9c179e\"],[0.4444444444444444,\"#bd3786\"],[0.5555555555555556,\"#d8576b\"],[0.6666666666666666,\"#ed7953\"],[0.7777777777777778,\"#fb9f3a\"],[0.8888888888888888,\"#fdca26\"],[1.0,\"#f0f921\"]],\"type\":\"histogram2dcontour\"}],\"histogram2d\":[{\"colorbar\":{\"outlinewidth\":0,\"ticks\":\"\"},\"colorscale\":[[0.0,\"#0d0887\"],[0.1111111111111111,\"#46039f\"],[0.2222222222222222,\"#7201a8\"],[0.3333333333333333,\"#9c179e\"],[0.4444444444444444,\"#bd3786\"],[0.5555555555555556,\"#d8576b\"],[0.6666666666666666,\"#ed7953\"],[0.7777777777777778,\"#fb9f3a\"],[0.8888888888888888,\"#fdca26\"],[1.0,\"#f0f921\"]],\"type\":\"histogram2d\"}],\"histogram\":[{\"marker\":{\"pattern\":{\"fillmode\":\"overlay\",\"size\":10,\"solidity\":0.2}},\"type\":\"histogram\"}],\"mesh3d\":[{\"colorbar\":{\"outlinewidth\":0,\"ticks\":\"\"},\"type\":\"mesh3d\"}],\"parcoords\":[{\"line\":{\"colorbar\":{\"outlinewidth\":0,\"ticks\":\"\"}},\"type\":\"parcoords\"}],\"pie\":[{\"automargin\":true,\"type\":\"pie\"}],\"scatter3d\":[{\"line\":{\"colorbar\":{\"outlinewidth\":0,\"ticks\":\"\"}},\"marker\":{\"colorbar\":{\"outlinewidth\":0,\"ticks\":\"\"}},\"type\":\"scatter3d\"}],\"scattercarpet\":[{\"marker\":{\"colorbar\":{\"outlinewidth\":0,\"ticks\":\"\"}},\"type\":\"scattercarpet\"}],\"scattergeo\":[{\"marker\":{\"colorbar\":{\"outlinewidth\":0,\"ticks\":\"\"}},\"type\":\"scattergeo\"}],\"scattergl\":[{\"marker\":{\"colorbar\":{\"outlinewidth\":0,\"ticks\":\"\"}},\"type\":\"scattergl\"}],\"scattermapbox\":[{\"marker\":{\"colorbar\":{\"outlinewidth\":0,\"ticks\":\"\"}},\"type\":\"scattermapbox\"}],\"scatterpolargl\":[{\"marker\":{\"colorbar\":{\"outlinewidth\":0,\"ticks\":\"\"}},\"type\":\"scatterpolargl\"}],\"scatterpolar\":[{\"marker\":{\"colorbar\":{\"outlinewidth\":0,\"ticks\":\"\"}},\"type\":\"scatterpolar\"}],\"scatter\":[{\"marker\":{\"colorbar\":{\"outlinewidth\":0,\"ticks\":\"\"}},\"type\":\"scatter\"}],\"scatterternary\":[{\"marker\":{\"colorbar\":{\"outlinewidth\":0,\"ticks\":\"\"}},\"type\":\"scatterternary\"}],\"surface\":[{\"colorbar\":{\"outlinewidth\":0,\"ticks\":\"\"},\"colorscale\":[[0.0,\"#0d0887\"],[0.1111111111111111,\"#46039f\"],[0.2222222222222222,\"#7201a8\"],[0.3333333333333333,\"#9c179e\"],[0.4444444444444444,\"#bd3786\"],[0.5555555555555556,\"#d8576b\"],[0.6666666666666666,\"#ed7953\"],[0.7777777777777778,\"#fb9f3a\"],[0.8888888888888888,\"#fdca26\"],[1.0,\"#f0f921\"]],\"type\":\"surface\"}],\"table\":[{\"cells\":{\"fill\":{\"color\":\"#EBF0F8\"},\"line\":{\"color\":\"white\"}},\"header\":{\"fill\":{\"color\":\"#C8D4E3\"},\"line\":{\"color\":\"white\"}},\"type\":\"table\"}]},\"layout\":{\"annotationdefaults\":{\"arrowcolor\":\"#2a3f5f\",\"arrowhead\":0,\"arrowwidth\":1},\"autotypenumbers\":\"strict\",\"coloraxis\":{\"colorbar\":{\"outlinewidth\":0,\"ticks\":\"\"}},\"colorscale\":{\"diverging\":[[0,\"#8e0152\"],[0.1,\"#c51b7d\"],[0.2,\"#de77ae\"],[0.3,\"#f1b6da\"],[0.4,\"#fde0ef\"],[0.5,\"#f7f7f7\"],[0.6,\"#e6f5d0\"],[0.7,\"#b8e186\"],[0.8,\"#7fbc41\"],[0.9,\"#4d9221\"],[1,\"#276419\"]],\"sequential\":[[0.0,\"#0d0887\"],[0.1111111111111111,\"#46039f\"],[0.2222222222222222,\"#7201a8\"],[0.3333333333333333,\"#9c179e\"],[0.4444444444444444,\"#bd3786\"],[0.5555555555555556,\"#d8576b\"],[0.6666666666666666,\"#ed7953\"],[0.7777777777777778,\"#fb9f3a\"],[0.8888888888888888,\"#fdca26\"],[1.0,\"#f0f921\"]],\"sequentialminus\":[[0.0,\"#0d0887\"],[0.1111111111111111,\"#46039f\"],[0.2222222222222222,\"#7201a8\"],[0.3333333333333333,\"#9c179e\"],[0.4444444444444444,\"#bd3786\"],[0.5555555555555556,\"#d8576b\"],[0.6666666666666666,\"#ed7953\"],[0.7777777777777778,\"#fb9f3a\"],[0.8888888888888888,\"#fdca26\"],[1.0,\"#f0f921\"]]},\"colorway\":[\"#636efa\",\"#EF553B\",\"#00cc96\",\"#ab63fa\",\"#FFA15A\",\"#19d3f3\",\"#FF6692\",\"#B6E880\",\"#FF97FF\",\"#FECB52\"],\"font\":{\"color\":\"#2a3f5f\"},\"geo\":{\"bgcolor\":\"white\",\"lakecolor\":\"white\",\"landcolor\":\"white\",\"showlakes\":true,\"showland\":true,\"subunitcolor\":\"#C8D4E3\"},\"hoverlabel\":{\"align\":\"left\"},\"hovermode\":\"closest\",\"mapbox\":{\"style\":\"light\"},\"paper_bgcolor\":\"white\",\"plot_bgcolor\":\"white\",\"polar\":{\"angularaxis\":{\"gridcolor\":\"#EBF0F8\",\"linecolor\":\"#EBF0F8\",\"ticks\":\"\"},\"bgcolor\":\"white\",\"radialaxis\":{\"gridcolor\":\"#EBF0F8\",\"linecolor\":\"#EBF0F8\",\"ticks\":\"\"}},\"scene\":{\"xaxis\":{\"backgroundcolor\":\"white\",\"gridcolor\":\"#DFE8F3\",\"gridwidth\":2,\"linecolor\":\"#EBF0F8\",\"showbackground\":true,\"ticks\":\"\",\"zerolinecolor\":\"#EBF0F8\"},\"yaxis\":{\"backgroundcolor\":\"white\",\"gridcolor\":\"#DFE8F3\",\"gridwidth\":2,\"linecolor\":\"#EBF0F8\",\"showbackground\":true,\"ticks\":\"\",\"zerolinecolor\":\"#EBF0F8\"},\"zaxis\":{\"backgroundcolor\":\"white\",\"gridcolor\":\"#DFE8F3\",\"gridwidth\":2,\"linecolor\":\"#EBF0F8\",\"showbackground\":true,\"ticks\":\"\",\"zerolinecolor\":\"#EBF0F8\"}},\"shapedefaults\":{\"line\":{\"color\":\"#2a3f5f\"}},\"ternary\":{\"aaxis\":{\"gridcolor\":\"#DFE8F3\",\"linecolor\":\"#A2B1C6\",\"ticks\":\"\"},\"baxis\":{\"gridcolor\":\"#DFE8F3\",\"linecolor\":\"#A2B1C6\",\"ticks\":\"\"},\"bgcolor\":\"white\",\"caxis\":{\"gridcolor\":\"#DFE8F3\",\"linecolor\":\"#A2B1C6\",\"ticks\":\"\"}},\"title\":{\"x\":0.05},\"xaxis\":{\"automargin\":true,\"gridcolor\":\"#EBF0F8\",\"linecolor\":\"#EBF0F8\",\"ticks\":\"\",\"title\":{\"standoff\":15},\"zerolinecolor\":\"#EBF0F8\",\"zerolinewidth\":2},\"yaxis\":{\"automargin\":true,\"gridcolor\":\"#EBF0F8\",\"linecolor\":\"#EBF0F8\",\"ticks\":\"\",\"title\":{\"standoff\":15},\"zerolinecolor\":\"#EBF0F8\",\"zerolinewidth\":2}}},\"xaxis\":{\"range\":[480,960],\"showgrid\":true,\"title\":{\"text\":\"Minuten\"}},\"yaxis\":{\"range\":[0,60],\"title\":{\"text\":\"Energie in kW\"}},\"title\":{\"font\":{\"size\":24},\"text\":\"Ladeleistung pro Ladezeitraum eines BEVs\",\"x\":0.5,\"xanchor\":\"center\"}},                        {\"responsive\": true}                    ).then(function(){\n",
       "                            \n",
       "var gd = document.getElementById('7d22d235-924b-483f-ac81-e01407ce3515');\n",
       "var x = new MutationObserver(function (mutations, observer) {{\n",
       "        var display = window.getComputedStyle(gd).display;\n",
       "        if (!display || display === 'none') {{\n",
       "            console.log([gd, 'removed!']);\n",
       "            Plotly.purge(gd);\n",
       "            observer.disconnect();\n",
       "        }}\n",
       "}});\n",
       "\n",
       "// Listen for the removal of the full notebook cells\n",
       "var notebookContainer = gd.closest('#notebook-container');\n",
       "if (notebookContainer) {{\n",
       "    x.observe(notebookContainer, {childList: true});\n",
       "}}\n",
       "\n",
       "// Listen for the clearing of the current output cell\n",
       "var outputEl = gd.closest('.output');\n",
       "if (outputEl) {{\n",
       "    x.observe(outputEl, {childList: true});\n",
       "}}\n",
       "\n",
       "                        })                };                });            </script>        </div>"
      ]
     },
     "metadata": {},
     "output_type": "display_data"
    }
   ],
   "source": [
    "import figureGeneration\n",
    "\n",
    "figureGeneration.create_charging_power_figure(simulation_day, solarpeakleistung, bev_data, minute_interval)"
   ]
  },
  {
   "cell_type": "code",
   "execution_count": 7,
   "metadata": {
    "pycharm": {
     "is_executing": true
    }
   },
   "outputs": [
    {
     "data": {
      "application/vnd.plotly.v1+json": {
       "config": {
        "plotlyServerURL": "https://plot.ly"
       },
       "data": [
        {
         "line": {
          "color": "red"
         },
         "name": "Wartende BEVs",
         "type": "scatter",
         "x": [
          480,
          495,
          510,
          525,
          540,
          555,
          570,
          585,
          600,
          615,
          630,
          645,
          660,
          675,
          690,
          705,
          720,
          735,
          750,
          765,
          780,
          795,
          810,
          825,
          840,
          855,
          870,
          885,
          900,
          915,
          930,
          945,
          960
         ],
         "y": [
          11,
          10,
          22,
          21,
          30,
          29,
          33,
          31,
          30,
          29,
          27,
          26,
          26,
          23,
          21,
          21,
          20,
          19,
          22,
          20,
          26,
          23,
          23,
          21,
          19,
          18,
          16,
          16,
          15,
          15,
          15,
          14,
          14
         ]
        },
        {
         "line": {
          "color": "blue"
         },
         "name": "Ladende BEVs",
         "type": "scatter",
         "x": [
          480,
          495,
          510,
          525,
          540,
          555,
          570,
          585,
          600,
          615,
          630,
          645,
          660,
          675,
          690,
          705,
          720,
          735,
          750,
          765,
          780,
          795,
          810,
          825,
          840,
          855,
          870,
          885,
          900,
          915,
          930,
          945,
          960
         ],
         "y": [
          1,
          1,
          2,
          2,
          3,
          3,
          4,
          5,
          5,
          5,
          5,
          5,
          5,
          5,
          5,
          5,
          5,
          5,
          5,
          5,
          5,
          5,
          5,
          5,
          5,
          5,
          4,
          4,
          3,
          3,
          3,
          3,
          3
         ]
        }
       ],
       "layout": {
        "legend": {
         "tracegroupgap": 0
        },
        "margin": {
         "t": 60
        },
        "template": {
         "data": {
          "bar": [
           {
            "error_x": {
             "color": "#2a3f5f"
            },
            "error_y": {
             "color": "#2a3f5f"
            },
            "marker": {
             "line": {
              "color": "white",
              "width": 0.5
             },
             "pattern": {
              "fillmode": "overlay",
              "size": 10,
              "solidity": 0.2
             }
            },
            "type": "bar"
           }
          ],
          "barpolar": [
           {
            "marker": {
             "line": {
              "color": "white",
              "width": 0.5
             },
             "pattern": {
              "fillmode": "overlay",
              "size": 10,
              "solidity": 0.2
             }
            },
            "type": "barpolar"
           }
          ],
          "carpet": [
           {
            "aaxis": {
             "endlinecolor": "#2a3f5f",
             "gridcolor": "#C8D4E3",
             "linecolor": "#C8D4E3",
             "minorgridcolor": "#C8D4E3",
             "startlinecolor": "#2a3f5f"
            },
            "baxis": {
             "endlinecolor": "#2a3f5f",
             "gridcolor": "#C8D4E3",
             "linecolor": "#C8D4E3",
             "minorgridcolor": "#C8D4E3",
             "startlinecolor": "#2a3f5f"
            },
            "type": "carpet"
           }
          ],
          "choropleth": [
           {
            "colorbar": {
             "outlinewidth": 0,
             "ticks": ""
            },
            "type": "choropleth"
           }
          ],
          "contour": [
           {
            "colorbar": {
             "outlinewidth": 0,
             "ticks": ""
            },
            "colorscale": [
             [
              0,
              "#0d0887"
             ],
             [
              0.1111111111111111,
              "#46039f"
             ],
             [
              0.2222222222222222,
              "#7201a8"
             ],
             [
              0.3333333333333333,
              "#9c179e"
             ],
             [
              0.4444444444444444,
              "#bd3786"
             ],
             [
              0.5555555555555556,
              "#d8576b"
             ],
             [
              0.6666666666666666,
              "#ed7953"
             ],
             [
              0.7777777777777778,
              "#fb9f3a"
             ],
             [
              0.8888888888888888,
              "#fdca26"
             ],
             [
              1,
              "#f0f921"
             ]
            ],
            "type": "contour"
           }
          ],
          "contourcarpet": [
           {
            "colorbar": {
             "outlinewidth": 0,
             "ticks": ""
            },
            "type": "contourcarpet"
           }
          ],
          "heatmap": [
           {
            "colorbar": {
             "outlinewidth": 0,
             "ticks": ""
            },
            "colorscale": [
             [
              0,
              "#0d0887"
             ],
             [
              0.1111111111111111,
              "#46039f"
             ],
             [
              0.2222222222222222,
              "#7201a8"
             ],
             [
              0.3333333333333333,
              "#9c179e"
             ],
             [
              0.4444444444444444,
              "#bd3786"
             ],
             [
              0.5555555555555556,
              "#d8576b"
             ],
             [
              0.6666666666666666,
              "#ed7953"
             ],
             [
              0.7777777777777778,
              "#fb9f3a"
             ],
             [
              0.8888888888888888,
              "#fdca26"
             ],
             [
              1,
              "#f0f921"
             ]
            ],
            "type": "heatmap"
           }
          ],
          "heatmapgl": [
           {
            "colorbar": {
             "outlinewidth": 0,
             "ticks": ""
            },
            "colorscale": [
             [
              0,
              "#0d0887"
             ],
             [
              0.1111111111111111,
              "#46039f"
             ],
             [
              0.2222222222222222,
              "#7201a8"
             ],
             [
              0.3333333333333333,
              "#9c179e"
             ],
             [
              0.4444444444444444,
              "#bd3786"
             ],
             [
              0.5555555555555556,
              "#d8576b"
             ],
             [
              0.6666666666666666,
              "#ed7953"
             ],
             [
              0.7777777777777778,
              "#fb9f3a"
             ],
             [
              0.8888888888888888,
              "#fdca26"
             ],
             [
              1,
              "#f0f921"
             ]
            ],
            "type": "heatmapgl"
           }
          ],
          "histogram": [
           {
            "marker": {
             "pattern": {
              "fillmode": "overlay",
              "size": 10,
              "solidity": 0.2
             }
            },
            "type": "histogram"
           }
          ],
          "histogram2d": [
           {
            "colorbar": {
             "outlinewidth": 0,
             "ticks": ""
            },
            "colorscale": [
             [
              0,
              "#0d0887"
             ],
             [
              0.1111111111111111,
              "#46039f"
             ],
             [
              0.2222222222222222,
              "#7201a8"
             ],
             [
              0.3333333333333333,
              "#9c179e"
             ],
             [
              0.4444444444444444,
              "#bd3786"
             ],
             [
              0.5555555555555556,
              "#d8576b"
             ],
             [
              0.6666666666666666,
              "#ed7953"
             ],
             [
              0.7777777777777778,
              "#fb9f3a"
             ],
             [
              0.8888888888888888,
              "#fdca26"
             ],
             [
              1,
              "#f0f921"
             ]
            ],
            "type": "histogram2d"
           }
          ],
          "histogram2dcontour": [
           {
            "colorbar": {
             "outlinewidth": 0,
             "ticks": ""
            },
            "colorscale": [
             [
              0,
              "#0d0887"
             ],
             [
              0.1111111111111111,
              "#46039f"
             ],
             [
              0.2222222222222222,
              "#7201a8"
             ],
             [
              0.3333333333333333,
              "#9c179e"
             ],
             [
              0.4444444444444444,
              "#bd3786"
             ],
             [
              0.5555555555555556,
              "#d8576b"
             ],
             [
              0.6666666666666666,
              "#ed7953"
             ],
             [
              0.7777777777777778,
              "#fb9f3a"
             ],
             [
              0.8888888888888888,
              "#fdca26"
             ],
             [
              1,
              "#f0f921"
             ]
            ],
            "type": "histogram2dcontour"
           }
          ],
          "mesh3d": [
           {
            "colorbar": {
             "outlinewidth": 0,
             "ticks": ""
            },
            "type": "mesh3d"
           }
          ],
          "parcoords": [
           {
            "line": {
             "colorbar": {
              "outlinewidth": 0,
              "ticks": ""
             }
            },
            "type": "parcoords"
           }
          ],
          "pie": [
           {
            "automargin": true,
            "type": "pie"
           }
          ],
          "scatter": [
           {
            "marker": {
             "colorbar": {
              "outlinewidth": 0,
              "ticks": ""
             }
            },
            "type": "scatter"
           }
          ],
          "scatter3d": [
           {
            "line": {
             "colorbar": {
              "outlinewidth": 0,
              "ticks": ""
             }
            },
            "marker": {
             "colorbar": {
              "outlinewidth": 0,
              "ticks": ""
             }
            },
            "type": "scatter3d"
           }
          ],
          "scattercarpet": [
           {
            "marker": {
             "colorbar": {
              "outlinewidth": 0,
              "ticks": ""
             }
            },
            "type": "scattercarpet"
           }
          ],
          "scattergeo": [
           {
            "marker": {
             "colorbar": {
              "outlinewidth": 0,
              "ticks": ""
             }
            },
            "type": "scattergeo"
           }
          ],
          "scattergl": [
           {
            "marker": {
             "colorbar": {
              "outlinewidth": 0,
              "ticks": ""
             }
            },
            "type": "scattergl"
           }
          ],
          "scattermapbox": [
           {
            "marker": {
             "colorbar": {
              "outlinewidth": 0,
              "ticks": ""
             }
            },
            "type": "scattermapbox"
           }
          ],
          "scatterpolar": [
           {
            "marker": {
             "colorbar": {
              "outlinewidth": 0,
              "ticks": ""
             }
            },
            "type": "scatterpolar"
           }
          ],
          "scatterpolargl": [
           {
            "marker": {
             "colorbar": {
              "outlinewidth": 0,
              "ticks": ""
             }
            },
            "type": "scatterpolargl"
           }
          ],
          "scatterternary": [
           {
            "marker": {
             "colorbar": {
              "outlinewidth": 0,
              "ticks": ""
             }
            },
            "type": "scatterternary"
           }
          ],
          "surface": [
           {
            "colorbar": {
             "outlinewidth": 0,
             "ticks": ""
            },
            "colorscale": [
             [
              0,
              "#0d0887"
             ],
             [
              0.1111111111111111,
              "#46039f"
             ],
             [
              0.2222222222222222,
              "#7201a8"
             ],
             [
              0.3333333333333333,
              "#9c179e"
             ],
             [
              0.4444444444444444,
              "#bd3786"
             ],
             [
              0.5555555555555556,
              "#d8576b"
             ],
             [
              0.6666666666666666,
              "#ed7953"
             ],
             [
              0.7777777777777778,
              "#fb9f3a"
             ],
             [
              0.8888888888888888,
              "#fdca26"
             ],
             [
              1,
              "#f0f921"
             ]
            ],
            "type": "surface"
           }
          ],
          "table": [
           {
            "cells": {
             "fill": {
              "color": "#EBF0F8"
             },
             "line": {
              "color": "white"
             }
            },
            "header": {
             "fill": {
              "color": "#C8D4E3"
             },
             "line": {
              "color": "white"
             }
            },
            "type": "table"
           }
          ]
         },
         "layout": {
          "annotationdefaults": {
           "arrowcolor": "#2a3f5f",
           "arrowhead": 0,
           "arrowwidth": 1
          },
          "autotypenumbers": "strict",
          "coloraxis": {
           "colorbar": {
            "outlinewidth": 0,
            "ticks": ""
           }
          },
          "colorscale": {
           "diverging": [
            [
             0,
             "#8e0152"
            ],
            [
             0.1,
             "#c51b7d"
            ],
            [
             0.2,
             "#de77ae"
            ],
            [
             0.3,
             "#f1b6da"
            ],
            [
             0.4,
             "#fde0ef"
            ],
            [
             0.5,
             "#f7f7f7"
            ],
            [
             0.6,
             "#e6f5d0"
            ],
            [
             0.7,
             "#b8e186"
            ],
            [
             0.8,
             "#7fbc41"
            ],
            [
             0.9,
             "#4d9221"
            ],
            [
             1,
             "#276419"
            ]
           ],
           "sequential": [
            [
             0,
             "#0d0887"
            ],
            [
             0.1111111111111111,
             "#46039f"
            ],
            [
             0.2222222222222222,
             "#7201a8"
            ],
            [
             0.3333333333333333,
             "#9c179e"
            ],
            [
             0.4444444444444444,
             "#bd3786"
            ],
            [
             0.5555555555555556,
             "#d8576b"
            ],
            [
             0.6666666666666666,
             "#ed7953"
            ],
            [
             0.7777777777777778,
             "#fb9f3a"
            ],
            [
             0.8888888888888888,
             "#fdca26"
            ],
            [
             1,
             "#f0f921"
            ]
           ],
           "sequentialminus": [
            [
             0,
             "#0d0887"
            ],
            [
             0.1111111111111111,
             "#46039f"
            ],
            [
             0.2222222222222222,
             "#7201a8"
            ],
            [
             0.3333333333333333,
             "#9c179e"
            ],
            [
             0.4444444444444444,
             "#bd3786"
            ],
            [
             0.5555555555555556,
             "#d8576b"
            ],
            [
             0.6666666666666666,
             "#ed7953"
            ],
            [
             0.7777777777777778,
             "#fb9f3a"
            ],
            [
             0.8888888888888888,
             "#fdca26"
            ],
            [
             1,
             "#f0f921"
            ]
           ]
          },
          "colorway": [
           "#636efa",
           "#EF553B",
           "#00cc96",
           "#ab63fa",
           "#FFA15A",
           "#19d3f3",
           "#FF6692",
           "#B6E880",
           "#FF97FF",
           "#FECB52"
          ],
          "font": {
           "color": "#2a3f5f"
          },
          "geo": {
           "bgcolor": "white",
           "lakecolor": "white",
           "landcolor": "white",
           "showlakes": true,
           "showland": true,
           "subunitcolor": "#C8D4E3"
          },
          "hoverlabel": {
           "align": "left"
          },
          "hovermode": "closest",
          "mapbox": {
           "style": "light"
          },
          "paper_bgcolor": "white",
          "plot_bgcolor": "white",
          "polar": {
           "angularaxis": {
            "gridcolor": "#EBF0F8",
            "linecolor": "#EBF0F8",
            "ticks": ""
           },
           "bgcolor": "white",
           "radialaxis": {
            "gridcolor": "#EBF0F8",
            "linecolor": "#EBF0F8",
            "ticks": ""
           }
          },
          "scene": {
           "xaxis": {
            "backgroundcolor": "white",
            "gridcolor": "#DFE8F3",
            "gridwidth": 2,
            "linecolor": "#EBF0F8",
            "showbackground": true,
            "ticks": "",
            "zerolinecolor": "#EBF0F8"
           },
           "yaxis": {
            "backgroundcolor": "white",
            "gridcolor": "#DFE8F3",
            "gridwidth": 2,
            "linecolor": "#EBF0F8",
            "showbackground": true,
            "ticks": "",
            "zerolinecolor": "#EBF0F8"
           },
           "zaxis": {
            "backgroundcolor": "white",
            "gridcolor": "#DFE8F3",
            "gridwidth": 2,
            "linecolor": "#EBF0F8",
            "showbackground": true,
            "ticks": "",
            "zerolinecolor": "#EBF0F8"
           }
          },
          "shapedefaults": {
           "line": {
            "color": "#2a3f5f"
           }
          },
          "ternary": {
           "aaxis": {
            "gridcolor": "#DFE8F3",
            "linecolor": "#A2B1C6",
            "ticks": ""
           },
           "baxis": {
            "gridcolor": "#DFE8F3",
            "linecolor": "#A2B1C6",
            "ticks": ""
           },
           "bgcolor": "white",
           "caxis": {
            "gridcolor": "#DFE8F3",
            "linecolor": "#A2B1C6",
            "ticks": ""
           }
          },
          "title": {
           "x": 0.05
          },
          "xaxis": {
           "automargin": true,
           "gridcolor": "#EBF0F8",
           "linecolor": "#EBF0F8",
           "ticks": "",
           "title": {
            "standoff": 15
           },
           "zerolinecolor": "#EBF0F8",
           "zerolinewidth": 2
          },
          "yaxis": {
           "automargin": true,
           "gridcolor": "#EBF0F8",
           "linecolor": "#EBF0F8",
           "ticks": "",
           "title": {
            "standoff": 15
           },
           "zerolinecolor": "#EBF0F8",
           "zerolinewidth": 2
          }
         }
        },
        "title": {
         "font": {
          "size": 24
         },
         "text": "Anzahl wartender und ladender BEVs im Tagesverlauf",
         "x": 0.5,
         "xanchor": "center"
        },
        "xaxis": {
         "anchor": "y",
         "domain": [
          0,
          1
         ],
         "title": {
          "text": "Minuten"
         }
        },
        "yaxis": {
         "anchor": "x",
         "domain": [
          0,
          1
         ],
         "title": {
          "text": "Anzahl BEVs"
         }
        }
       }
      },
      "text/html": [
       "<div>                            <div id=\"74f7ba5e-44fd-4040-8207-057e065818ad\" class=\"plotly-graph-div\" style=\"height:525px; width:100%;\"></div>            <script type=\"text/javascript\">                require([\"plotly\"], function(Plotly) {                    window.PLOTLYENV=window.PLOTLYENV || {};                                    if (document.getElementById(\"74f7ba5e-44fd-4040-8207-057e065818ad\")) {                    Plotly.newPlot(                        \"74f7ba5e-44fd-4040-8207-057e065818ad\",                        [{\"line\":{\"color\":\"red\"},\"name\":\"Wartende BEVs\",\"x\":[480,495,510,525,540,555,570,585,600,615,630,645,660,675,690,705,720,735,750,765,780,795,810,825,840,855,870,885,900,915,930,945,960],\"y\":[11,10,22,21,30,29,33,31,30,29,27,26,26,23,21,21,20,19,22,20,26,23,23,21,19,18,16,16,15,15,15,14,14],\"type\":\"scatter\"},{\"line\":{\"color\":\"blue\"},\"name\":\"Ladende BEVs\",\"x\":[480,495,510,525,540,555,570,585,600,615,630,645,660,675,690,705,720,735,750,765,780,795,810,825,840,855,870,885,900,915,930,945,960],\"y\":[1,1,2,2,3,3,4,5,5,5,5,5,5,5,5,5,5,5,5,5,5,5,5,5,5,5,4,4,3,3,3,3,3],\"type\":\"scatter\"}],                        {\"template\":{\"data\":{\"barpolar\":[{\"marker\":{\"line\":{\"color\":\"white\",\"width\":0.5},\"pattern\":{\"fillmode\":\"overlay\",\"size\":10,\"solidity\":0.2}},\"type\":\"barpolar\"}],\"bar\":[{\"error_x\":{\"color\":\"#2a3f5f\"},\"error_y\":{\"color\":\"#2a3f5f\"},\"marker\":{\"line\":{\"color\":\"white\",\"width\":0.5},\"pattern\":{\"fillmode\":\"overlay\",\"size\":10,\"solidity\":0.2}},\"type\":\"bar\"}],\"carpet\":[{\"aaxis\":{\"endlinecolor\":\"#2a3f5f\",\"gridcolor\":\"#C8D4E3\",\"linecolor\":\"#C8D4E3\",\"minorgridcolor\":\"#C8D4E3\",\"startlinecolor\":\"#2a3f5f\"},\"baxis\":{\"endlinecolor\":\"#2a3f5f\",\"gridcolor\":\"#C8D4E3\",\"linecolor\":\"#C8D4E3\",\"minorgridcolor\":\"#C8D4E3\",\"startlinecolor\":\"#2a3f5f\"},\"type\":\"carpet\"}],\"choropleth\":[{\"colorbar\":{\"outlinewidth\":0,\"ticks\":\"\"},\"type\":\"choropleth\"}],\"contourcarpet\":[{\"colorbar\":{\"outlinewidth\":0,\"ticks\":\"\"},\"type\":\"contourcarpet\"}],\"contour\":[{\"colorbar\":{\"outlinewidth\":0,\"ticks\":\"\"},\"colorscale\":[[0.0,\"#0d0887\"],[0.1111111111111111,\"#46039f\"],[0.2222222222222222,\"#7201a8\"],[0.3333333333333333,\"#9c179e\"],[0.4444444444444444,\"#bd3786\"],[0.5555555555555556,\"#d8576b\"],[0.6666666666666666,\"#ed7953\"],[0.7777777777777778,\"#fb9f3a\"],[0.8888888888888888,\"#fdca26\"],[1.0,\"#f0f921\"]],\"type\":\"contour\"}],\"heatmapgl\":[{\"colorbar\":{\"outlinewidth\":0,\"ticks\":\"\"},\"colorscale\":[[0.0,\"#0d0887\"],[0.1111111111111111,\"#46039f\"],[0.2222222222222222,\"#7201a8\"],[0.3333333333333333,\"#9c179e\"],[0.4444444444444444,\"#bd3786\"],[0.5555555555555556,\"#d8576b\"],[0.6666666666666666,\"#ed7953\"],[0.7777777777777778,\"#fb9f3a\"],[0.8888888888888888,\"#fdca26\"],[1.0,\"#f0f921\"]],\"type\":\"heatmapgl\"}],\"heatmap\":[{\"colorbar\":{\"outlinewidth\":0,\"ticks\":\"\"},\"colorscale\":[[0.0,\"#0d0887\"],[0.1111111111111111,\"#46039f\"],[0.2222222222222222,\"#7201a8\"],[0.3333333333333333,\"#9c179e\"],[0.4444444444444444,\"#bd3786\"],[0.5555555555555556,\"#d8576b\"],[0.6666666666666666,\"#ed7953\"],[0.7777777777777778,\"#fb9f3a\"],[0.8888888888888888,\"#fdca26\"],[1.0,\"#f0f921\"]],\"type\":\"heatmap\"}],\"histogram2dcontour\":[{\"colorbar\":{\"outlinewidth\":0,\"ticks\":\"\"},\"colorscale\":[[0.0,\"#0d0887\"],[0.1111111111111111,\"#46039f\"],[0.2222222222222222,\"#7201a8\"],[0.3333333333333333,\"#9c179e\"],[0.4444444444444444,\"#bd3786\"],[0.5555555555555556,\"#d8576b\"],[0.6666666666666666,\"#ed7953\"],[0.7777777777777778,\"#fb9f3a\"],[0.8888888888888888,\"#fdca26\"],[1.0,\"#f0f921\"]],\"type\":\"histogram2dcontour\"}],\"histogram2d\":[{\"colorbar\":{\"outlinewidth\":0,\"ticks\":\"\"},\"colorscale\":[[0.0,\"#0d0887\"],[0.1111111111111111,\"#46039f\"],[0.2222222222222222,\"#7201a8\"],[0.3333333333333333,\"#9c179e\"],[0.4444444444444444,\"#bd3786\"],[0.5555555555555556,\"#d8576b\"],[0.6666666666666666,\"#ed7953\"],[0.7777777777777778,\"#fb9f3a\"],[0.8888888888888888,\"#fdca26\"],[1.0,\"#f0f921\"]],\"type\":\"histogram2d\"}],\"histogram\":[{\"marker\":{\"pattern\":{\"fillmode\":\"overlay\",\"size\":10,\"solidity\":0.2}},\"type\":\"histogram\"}],\"mesh3d\":[{\"colorbar\":{\"outlinewidth\":0,\"ticks\":\"\"},\"type\":\"mesh3d\"}],\"parcoords\":[{\"line\":{\"colorbar\":{\"outlinewidth\":0,\"ticks\":\"\"}},\"type\":\"parcoords\"}],\"pie\":[{\"automargin\":true,\"type\":\"pie\"}],\"scatter3d\":[{\"line\":{\"colorbar\":{\"outlinewidth\":0,\"ticks\":\"\"}},\"marker\":{\"colorbar\":{\"outlinewidth\":0,\"ticks\":\"\"}},\"type\":\"scatter3d\"}],\"scattercarpet\":[{\"marker\":{\"colorbar\":{\"outlinewidth\":0,\"ticks\":\"\"}},\"type\":\"scattercarpet\"}],\"scattergeo\":[{\"marker\":{\"colorbar\":{\"outlinewidth\":0,\"ticks\":\"\"}},\"type\":\"scattergeo\"}],\"scattergl\":[{\"marker\":{\"colorbar\":{\"outlinewidth\":0,\"ticks\":\"\"}},\"type\":\"scattergl\"}],\"scattermapbox\":[{\"marker\":{\"colorbar\":{\"outlinewidth\":0,\"ticks\":\"\"}},\"type\":\"scattermapbox\"}],\"scatterpolargl\":[{\"marker\":{\"colorbar\":{\"outlinewidth\":0,\"ticks\":\"\"}},\"type\":\"scatterpolargl\"}],\"scatterpolar\":[{\"marker\":{\"colorbar\":{\"outlinewidth\":0,\"ticks\":\"\"}},\"type\":\"scatterpolar\"}],\"scatter\":[{\"marker\":{\"colorbar\":{\"outlinewidth\":0,\"ticks\":\"\"}},\"type\":\"scatter\"}],\"scatterternary\":[{\"marker\":{\"colorbar\":{\"outlinewidth\":0,\"ticks\":\"\"}},\"type\":\"scatterternary\"}],\"surface\":[{\"colorbar\":{\"outlinewidth\":0,\"ticks\":\"\"},\"colorscale\":[[0.0,\"#0d0887\"],[0.1111111111111111,\"#46039f\"],[0.2222222222222222,\"#7201a8\"],[0.3333333333333333,\"#9c179e\"],[0.4444444444444444,\"#bd3786\"],[0.5555555555555556,\"#d8576b\"],[0.6666666666666666,\"#ed7953\"],[0.7777777777777778,\"#fb9f3a\"],[0.8888888888888888,\"#fdca26\"],[1.0,\"#f0f921\"]],\"type\":\"surface\"}],\"table\":[{\"cells\":{\"fill\":{\"color\":\"#EBF0F8\"},\"line\":{\"color\":\"white\"}},\"header\":{\"fill\":{\"color\":\"#C8D4E3\"},\"line\":{\"color\":\"white\"}},\"type\":\"table\"}]},\"layout\":{\"annotationdefaults\":{\"arrowcolor\":\"#2a3f5f\",\"arrowhead\":0,\"arrowwidth\":1},\"autotypenumbers\":\"strict\",\"coloraxis\":{\"colorbar\":{\"outlinewidth\":0,\"ticks\":\"\"}},\"colorscale\":{\"diverging\":[[0,\"#8e0152\"],[0.1,\"#c51b7d\"],[0.2,\"#de77ae\"],[0.3,\"#f1b6da\"],[0.4,\"#fde0ef\"],[0.5,\"#f7f7f7\"],[0.6,\"#e6f5d0\"],[0.7,\"#b8e186\"],[0.8,\"#7fbc41\"],[0.9,\"#4d9221\"],[1,\"#276419\"]],\"sequential\":[[0.0,\"#0d0887\"],[0.1111111111111111,\"#46039f\"],[0.2222222222222222,\"#7201a8\"],[0.3333333333333333,\"#9c179e\"],[0.4444444444444444,\"#bd3786\"],[0.5555555555555556,\"#d8576b\"],[0.6666666666666666,\"#ed7953\"],[0.7777777777777778,\"#fb9f3a\"],[0.8888888888888888,\"#fdca26\"],[1.0,\"#f0f921\"]],\"sequentialminus\":[[0.0,\"#0d0887\"],[0.1111111111111111,\"#46039f\"],[0.2222222222222222,\"#7201a8\"],[0.3333333333333333,\"#9c179e\"],[0.4444444444444444,\"#bd3786\"],[0.5555555555555556,\"#d8576b\"],[0.6666666666666666,\"#ed7953\"],[0.7777777777777778,\"#fb9f3a\"],[0.8888888888888888,\"#fdca26\"],[1.0,\"#f0f921\"]]},\"colorway\":[\"#636efa\",\"#EF553B\",\"#00cc96\",\"#ab63fa\",\"#FFA15A\",\"#19d3f3\",\"#FF6692\",\"#B6E880\",\"#FF97FF\",\"#FECB52\"],\"font\":{\"color\":\"#2a3f5f\"},\"geo\":{\"bgcolor\":\"white\",\"lakecolor\":\"white\",\"landcolor\":\"white\",\"showlakes\":true,\"showland\":true,\"subunitcolor\":\"#C8D4E3\"},\"hoverlabel\":{\"align\":\"left\"},\"hovermode\":\"closest\",\"mapbox\":{\"style\":\"light\"},\"paper_bgcolor\":\"white\",\"plot_bgcolor\":\"white\",\"polar\":{\"angularaxis\":{\"gridcolor\":\"#EBF0F8\",\"linecolor\":\"#EBF0F8\",\"ticks\":\"\"},\"bgcolor\":\"white\",\"radialaxis\":{\"gridcolor\":\"#EBF0F8\",\"linecolor\":\"#EBF0F8\",\"ticks\":\"\"}},\"scene\":{\"xaxis\":{\"backgroundcolor\":\"white\",\"gridcolor\":\"#DFE8F3\",\"gridwidth\":2,\"linecolor\":\"#EBF0F8\",\"showbackground\":true,\"ticks\":\"\",\"zerolinecolor\":\"#EBF0F8\"},\"yaxis\":{\"backgroundcolor\":\"white\",\"gridcolor\":\"#DFE8F3\",\"gridwidth\":2,\"linecolor\":\"#EBF0F8\",\"showbackground\":true,\"ticks\":\"\",\"zerolinecolor\":\"#EBF0F8\"},\"zaxis\":{\"backgroundcolor\":\"white\",\"gridcolor\":\"#DFE8F3\",\"gridwidth\":2,\"linecolor\":\"#EBF0F8\",\"showbackground\":true,\"ticks\":\"\",\"zerolinecolor\":\"#EBF0F8\"}},\"shapedefaults\":{\"line\":{\"color\":\"#2a3f5f\"}},\"ternary\":{\"aaxis\":{\"gridcolor\":\"#DFE8F3\",\"linecolor\":\"#A2B1C6\",\"ticks\":\"\"},\"baxis\":{\"gridcolor\":\"#DFE8F3\",\"linecolor\":\"#A2B1C6\",\"ticks\":\"\"},\"bgcolor\":\"white\",\"caxis\":{\"gridcolor\":\"#DFE8F3\",\"linecolor\":\"#A2B1C6\",\"ticks\":\"\"}},\"title\":{\"x\":0.05},\"xaxis\":{\"automargin\":true,\"gridcolor\":\"#EBF0F8\",\"linecolor\":\"#EBF0F8\",\"ticks\":\"\",\"title\":{\"standoff\":15},\"zerolinecolor\":\"#EBF0F8\",\"zerolinewidth\":2},\"yaxis\":{\"automargin\":true,\"gridcolor\":\"#EBF0F8\",\"linecolor\":\"#EBF0F8\",\"ticks\":\"\",\"title\":{\"standoff\":15},\"zerolinecolor\":\"#EBF0F8\",\"zerolinewidth\":2}}},\"xaxis\":{\"anchor\":\"y\",\"domain\":[0.0,1.0],\"title\":{\"text\":\"Minuten\"}},\"yaxis\":{\"anchor\":\"x\",\"domain\":[0.0,1.0],\"title\":{\"text\":\"Anzahl BEVs\"}},\"legend\":{\"tracegroupgap\":0},\"margin\":{\"t\":60},\"title\":{\"font\":{\"size\":24},\"text\":\"Anzahl wartender und ladender BEVs im Tagesverlauf\",\"x\":0.5,\"xanchor\":\"center\"}},                        {\"responsive\": true}                    ).then(function(){\n",
       "                            \n",
       "var gd = document.getElementById('74f7ba5e-44fd-4040-8207-057e065818ad');\n",
       "var x = new MutationObserver(function (mutations, observer) {{\n",
       "        var display = window.getComputedStyle(gd).display;\n",
       "        if (!display || display === 'none') {{\n",
       "            console.log([gd, 'removed!']);\n",
       "            Plotly.purge(gd);\n",
       "            observer.disconnect();\n",
       "        }}\n",
       "}});\n",
       "\n",
       "// Listen for the removal of the full notebook cells\n",
       "var notebookContainer = gd.closest('#notebook-container');\n",
       "if (notebookContainer) {{\n",
       "    x.observe(notebookContainer, {childList: true});\n",
       "}}\n",
       "\n",
       "// Listen for the clearing of the current output cell\n",
       "var outputEl = gd.closest('.output');\n",
       "if (outputEl) {{\n",
       "    x.observe(outputEl, {childList: true});\n",
       "}}\n",
       "\n",
       "                        })                };                });            </script>        </div>"
      ]
     },
     "metadata": {},
     "output_type": "display_data"
    }
   ],
   "source": [
    "figureGeneration.create_bev_number_figure(simulation_data)"
   ]
  },
  {
   "cell_type": "code",
   "execution_count": 9,
   "metadata": {
    "pycharm": {
     "is_executing": true
    }
   },
   "outputs": [
    {
     "name": "stdout",
     "output_type": "stream",
     "text": [
      "START POST OPTIMIZATION\n",
      "{0: [(13.0, 3.0), 'nicht parkend', [], [2.6174999999999997]], 1: [(9.0, 4.4), 'nicht parkend', [(798, 48.03846153846155, 5.5550000000000015)], [5.5550000000000015]], 2: [(9.0, 4.2), 'nicht parkend', [], [5.302500000000001]], 3: [(8.5, 7.4), 'nicht parkend', [(632.5158793171894, 52.30774601846326, 7.987500000000002)], [7.987500000000002]], 4: [(8.0, 7.3), 'nicht parkend', [(480, 80.05645161290317, 7.8475)], [7.8475]], 5: [(13.0, 3.0), 'nicht parkend', [], [2.6174999999999997]], 6: [(9.5, 6.5), 'nicht parkend', [], [7.280000000000002]], 7: [(8.5, 5.5), 'nicht parkend', [(672, 151.11320754716985, 6.4075000000000015)], [6.4075000000000015]], 8: [(8.0, 3.3), 'nicht parkend', [(510, 29.98168498168502, 3.4349999999999996)], [3.435]], 9: [(8.0, 3.2), 'nicht parkend', [(539.981684981685, 132.01831501831498, 2.0509721611721052)], [3.085]], 10: [(9.0, 5.3), 'nicht parkend', [(823.1132075471698, 34.88679245283015, 1.08471698113206)], [6.672500000000001]], 11: [(8.0, 5.0), 'nicht parkend', [(540, 36.26153846153841, 5.5175)], [5.5175]], 12: [(9.0, 4.7), 'nicht parkend', [], [5.822500000000002]], 13: [(8.0, 7.3), 'nicht parkend', [(560.0564516129032, 62.49940575572566, 7.8475)], [7.8475]], 14: [(8.5, 5.5), 'nicht parkend', [(670.5553891780622, 92.01878382259463, 6.4075000000000015)], [6.4075000000000015]], 15: [(13.0, 3.0), 'nicht parkend', [], [2.6174999999999997]], 16: [(8.0, 7.3), 'nicht parkend', [(570, 48.058079810351614, 7.8475)], [7.8475]], 17: [(8.5, 4.4), 'nicht parkend', [(672.5609842145464, 101.43901578545365, 4.026349206840397)], [5.370000000000001]], 18: [(13.0, 3.0), 'nicht parkend', [], [2.6174999999999997]], 19: [(9.0, 7.0), 'nicht parkend', [(846.0384615384615, 113.96153846153845, 7.079615384615377)], [7.690000000000001]], 20: [(8.0, 3.7), 'nicht parkend', [(576.2615384615384, 29.728876390904702, 3.805)], [3.805]], 21: [(9.5, 6.5), 'nicht parkend', [], [7.280000000000002]], 22: [(9.0, 6.7), 'nicht parkend', [(858, 84, 6.645333333333333)], [7.557500000000001]], 23: [(12.5, 3.5), 'nicht parkend', [], [3.1925]], 24: [(13.0, 3.0), 'nicht parkend', [], [2.6174999999999997]], 25: [(9.0, 5.5), 'nicht parkend', [(858, 0, 0)], [6.672500000000001]], 26: [(8.5, 7.5), 'nicht parkend', [(687.2102672618963, 272.7897327381037, 6.82907976069527)], [7.987500000000002]], 27: [(8.5, 6.9), 'nicht parkend', [(684.8236253356527, 109.94887036734337, 7.700000000000001)], [7.700000000000001]], 28: [(8.5, 3.5), 'nicht parkend', [], [4.045000000000001]], 29: [(8.0, 7.4), 'nicht parkend', [(585, 47.51587931718939, 7.8475)], [7.8475]], 30: [(13.0, 3.0), 'nicht parkend', [], [2.6174999999999997]], 31: [(9.5, 4.5), 'nicht parkend', [], [5.700000000000002]], 32: [(8.5, 5.8), 'nicht parkend', [(762.5741730006569, 95.42582699934314, 2.565803884394598)], [6.9700000000000015]], 33: [(8.0, 7.4), 'nicht parkend', [(605.9904148524431, 64.56497432561912, 7.8475)], [7.8475]], 34: [(12.5, 3.5), 'nicht parkend', [], [3.1925]], 35: [(9.0, 6.0), 'nicht parkend', [(888, 0, 0)], [7.100000000000001]], 36: [(12.5, 3.5), 'nicht parkend', [], [3.1925]], 37: [(8.0, 6.5), 'nicht parkend', [(622.5558573686288, 64.65440989326748, 7.117500000000001)], [7.117500000000001]], 38: [(9.0, 7.0), 'nicht parkend', [(942, 18, 0.525)], [7.690000000000001]], 39: [(8.5, 3.6), 'nicht parkend', [], [4.432500000000001]], 40: [(9.0, 3.5), 'nicht parkend', [], [4.4975000000000005]], 41: [(8.5, 4.8), 'nicht parkend', [(774, 24, 1.8851000000000002)], [5.852500000000002]], 42: [(8.5, 6.3), 'nicht parkend', [(794.772495702996, 93.22750429700397, 0.4609974991359681)], [7.397500000000002]], 43: [(8.5, 4.2), 'nicht parkend', [], [5.095000000000001]], 44: [(12.5, 3.5), 'nicht parkend', [], [3.1925]], 45: [(13.5, 2.5), 'nicht parkend', [], [2.135]], 46: [(9.5, 3.7), 'nicht parkend', [], [4.892500000000002]], 47: [(13.0, 3.0), 'nicht parkend', [], [2.6174999999999997]], 48: [(8.0, 8.0), 'nicht parkend', [(618.0580798103516, 54.50290440419474, 8.135)], [8.135]], 49: [(9.5, 4.3), 'nicht parkend', [], [5.700000000000002]]}\n",
      "Waiting BEV list:  []\n",
      "[960, 945, 930, 915, 900, 885, 870, 855, 840, 825, 810, 795, 780, 765, 750, 735, 720, 705, 690, 675, 660, 645, 630, 615, 600, 585, 570, 555, 540, 525, 510, 495, 480]\n",
      "\n",
      "\n",
      "Minute:  960\n",
      "Waiting BEVs (after updating new waiting BEVs):  [0, 5, 6, 15, 18, 19, 21, 23, 24, 26, 30, 34, 36, 38, 44, 45, 47, 48]\n",
      "Charging BEVs:  []\n",
      "Waiting BEVs:  [0, 5, 6, 15, 18, 19, 21, 23, 24, 26, 30, 34, 36, 38, 44, 45, 47, 48]\n",
      "CALCULATE NUMBER OF CHARGING STATIONS\n",
      "Number of charging stations:  1\n",
      "CALCULATE NUMBER OF CHARGING STATIONS\n",
      "Number of charging stations:  1\n",
      "NUMBER OF FREE CHARGING STATIONS:  1\n",
      "CALCULATE NUMBER OF CHARGING STATIONS\n",
      "Number of charging stations:  1\n",
      "AVAILABLE SOLAR POWER:  10.12\n",
      "Restladeenergie bis zur fairen Ladeenergie for BEV mit ID 0:  2.6174999999999997\n",
      "Restladezeit:  15.51877470355731\n",
      "Charging BEVs:  [0]\n",
      "\n",
      "\n",
      "Minute:  945\n",
      "Waiting BEVs (after updating new waiting BEVs):  [5, 6, 15, 18, 19, 21, 23, 24, 26, 30, 34, 36, 38, 44, 45, 47, 48]\n",
      "Charging BEVs:  [0]\n",
      "Waiting BEVs:  [5, 6, 15, 18, 19, 21, 23, 24, 26, 30, 34, 36, 38, 44, 45, 47, 48]\n",
      "CALCULATE NUMBER OF CHARGING STATIONS\n",
      "Number of charging stations:  2\n",
      "CALCULATE NUMBER OF CHARGING STATIONS\n",
      "Number of charging stations:  2\n",
      "NUMBER OF FREE CHARGING STATIONS:  1\n",
      "CALCULATE NUMBER OF CHARGING STATIONS\n",
      "Number of charging stations:  2\n",
      "AVAILABLE SOLAR POWER:  12.38\n",
      "Restladeenergie bis zur fairen Ladeenergie for BEV mit ID 0:  1.7741666666666664\n",
      "Restladezeit:  17.197092084006457\n",
      "AVAILABLE SOLAR POWER:  12.38\n",
      "Restladeenergie bis zur fairen Ladeenergie for BEV mit ID 5:  2.6174999999999997\n",
      "Restladezeit:  25.371567043618736\n",
      "Charging BEVs:  [0, 5]\n",
      "\n",
      "\n",
      "Minute:  930\n",
      "Waiting BEVs (after updating new waiting BEVs):  [6, 15, 18, 19, 21, 23, 24, 26, 30, 34, 36, 38, 44, 45, 47, 48]\n",
      "Charging BEVs:  [0, 5]\n",
      "Waiting BEVs:  [6, 15, 18, 19, 21, 23, 24, 26, 30, 34, 36, 38, 44, 45, 47, 48]\n",
      "CALCULATE NUMBER OF CHARGING STATIONS\n",
      "Number of charging stations:  2\n",
      "CALCULATE NUMBER OF CHARGING STATIONS\n",
      "Number of charging stations:  2\n",
      "AVAILABLE SOLAR POWER:  14.62\n",
      "Restladeenergie bis zur fairen Ladeenergie for BEV mit ID 0:  0.7424999999999997\n",
      "Restladezeit:  6.094391244870039\n",
      "Die Restladezeit des BEVS 0 endet vor dem nächsten Interval\n",
      "Ausgewähltes BEV das frei gewordenen Platz belegen darf:  6\n",
      "Ladestart für ausgewähltes BEV:  936.09439124487\n",
      "7.31 CHARGING POWER WIRD FÜR NEUES BEV 6 GESPEICHERT: \n",
      "ZEITPUNKT FÜR DAS ES GESPEICHERT WIRD:  936.09439124487\n",
      "AVAILABLE SOLAR POWER:  14.62\n",
      "Restladeenergie bis zur fairen Ladeenergie for BEV mit ID 5:  1.585833333333333\n",
      "Restladezeit:  13.016415868673048\n",
      "Die Restladezeit des BEVS 5 endet vor dem nächsten Interval\n",
      "Ausgewähltes BEV das frei gewordenen Platz belegen darf:  15\n",
      "Ladestart für ausgewähltes BEV:  943.016415868673\n",
      "7.31 CHARGING POWER WIRD FÜR NEUES BEV 15 GESPEICHERT: \n",
      "ZEITPUNKT FÜR DAS ES GESPEICHERT WIRD:  943.016415868673\n",
      "Charging BEVs:  [0, 5]\n",
      "\n",
      "\n",
      "Minute:  915\n",
      "Waiting BEVs (after updating new waiting BEVs):  [18, 19, 21, 23, 24, 26, 30, 34, 36, 38, 44, 45, 47, 48]\n",
      "Charging BEVs:  [6, 15]\n",
      "Waiting BEVs:  [18, 19, 21, 23, 24, 26, 30, 34, 36, 38, 44, 45, 47, 48]\n",
      "CALCULATE NUMBER OF CHARGING STATIONS\n",
      "Number of charging stations:  2\n",
      "CALCULATE NUMBER OF CHARGING STATIONS\n",
      "Number of charging stations:  2\n",
      "AVAILABLE SOLAR POWER:  16.88\n",
      "Restladeenergie bis zur fairen Ladeenergie for BEV mit ID 6:  6.55666666666667\n",
      "Restladezeit:  46.611374407582964\n",
      "AVAILABLE SOLAR POWER:  16.88\n",
      "Restladeenergie bis zur fairen Ladeenergie for BEV mit ID 15:  2.456388888888884\n",
      "Restladezeit:  17.46248025276458\n",
      "Charging BEVs:  [6, 15]\n",
      "\n",
      "\n",
      "Minute:  900\n",
      "Waiting BEVs (after updating new waiting BEVs):  [18, 19, 21, 23, 24, 26, 30, 34, 36, 38, 44, 45, 47, 48, 35]\n",
      "Charging BEVs:  [6, 15]\n",
      "Waiting BEVs:  [18, 19, 21, 23, 24, 26, 30, 34, 36, 38, 44, 45, 47, 48, 35]\n",
      "CALCULATE NUMBER OF CHARGING STATIONS\n",
      "Number of charging stations:  2\n",
      "CALCULATE NUMBER OF CHARGING STATIONS\n",
      "Number of charging stations:  2\n",
      "AVAILABLE SOLAR POWER:  21.0\n",
      "Restladeenergie bis zur fairen Ladeenergie for BEV mit ID 6:  5.930305517555864\n",
      "Restladezeit:  33.887460100319224\n",
      "AVAILABLE SOLAR POWER:  21.0\n",
      "Restladeenergie bis zur fairen Ladeenergie for BEV mit ID 15:  2.3168768049855513\n",
      "Restladezeit:  13.239296028488864\n",
      "Die Restladezeit des BEVS 15 endet vor dem nächsten Interval\n",
      "Ausgewähltes BEV das frei gewordenen Platz belegen darf:  18\n",
      "Ladestart für ausgewähltes BEV:  913.2392960284889\n",
      "10.5 CHARGING POWER WIRD FÜR NEUES BEV 18 GESPEICHERT: \n",
      "ZEITPUNKT FÜR DAS ES GESPEICHERT WIRD:  913.2392960284889\n",
      "Charging BEVs:  [6, 15]\n",
      "\n",
      "\n",
      "Minute:  885\n",
      "Waiting BEVs (after updating new waiting BEVs):  [19, 21, 23, 24, 26, 30, 34, 36, 38, 44, 45, 47, 48, 35]\n",
      "Charging BEVs:  [6, 18]\n",
      "Waiting BEVs:  [19, 21, 23, 24, 26, 30, 34, 36, 38, 44, 45, 47, 48, 35]\n",
      "CALCULATE NUMBER OF CHARGING STATIONS\n",
      "Number of charging stations:  3\n",
      "CALCULATE NUMBER OF CHARGING STATIONS\n",
      "Number of charging stations:  3\n",
      "NUMBER OF FREE CHARGING STATIONS:  1\n",
      "CALCULATE NUMBER OF CHARGING STATIONS\n",
      "Number of charging stations:  3\n",
      "AVAILABLE SOLAR POWER:  27.0\n",
      "Restladeenergie bis zur fairen Ladeenergie for BEV mit ID 6:  5.151064751481993\n",
      "Restladezeit:  34.340431676546615\n",
      "AVAILABLE SOLAR POWER:  27.0\n",
      "Restladeenergie bis zur fairen Ladeenergie for BEV mit ID 18:  2.4634384024927756\n",
      "Restladezeit:  16.42292268328517\n",
      "AVAILABLE SOLAR POWER:  27.0\n",
      "Restladeenergie bis zur fairen Ladeenergie for BEV mit ID 19:  7.690000000000001\n",
      "Restladezeit:  51.26666666666667\n",
      "Charging BEVs:  [6, 18, 19]\n",
      "\n",
      "\n",
      "Minute:  870\n",
      "Waiting BEVs (after updating new waiting BEVs):  [21, 23, 24, 26, 30, 34, 36, 38, 44, 45, 47, 48, 35, 25, 37]\n",
      "Charging BEVs:  [6, 18, 19]\n",
      "Waiting BEVs:  [21, 23, 24, 26, 30, 34, 36, 38, 44, 45, 47, 48, 35, 25, 37]\n",
      "CALCULATE NUMBER OF CHARGING STATIONS\n",
      "Number of charging stations:  3\n",
      "CALCULATE NUMBER OF CHARGING STATIONS\n",
      "Number of charging stations:  3\n",
      "AVAILABLE SOLAR POWER:  33.0\n",
      "Restladeenergie bis zur fairen Ladeenergie for BEV mit ID 6:  4.349559963520298\n",
      "Restladezeit:  23.724872528292536\n",
      "AVAILABLE SOLAR POWER:  33.0\n",
      "Restladeenergie bis zur fairen Ladeenergie for BEV mit ID 18:  2.304975045056773\n",
      "Restladezeit:  12.572591154855127\n",
      "Die Restladezeit des BEVS 18 endet vor dem nächsten Interval\n",
      "Ausgewähltes BEV das frei gewordenen Platz belegen darf:  21\n",
      "Ladestart für ausgewähltes BEV:  882.5725911548551\n",
      "11.0 CHARGING POWER WIRD FÜR NEUES BEV 21 GESPEICHERT: \n",
      "ZEITPUNKT FÜR DAS ES GESPEICHERT WIRD:  882.5725911548551\n",
      "AVAILABLE SOLAR POWER:  33.0\n",
      "Restladeenergie bis zur fairen Ladeenergie for BEV mit ID 19:  6.340000000000002\n",
      "Restladezeit:  34.58181818181819\n",
      "Charging BEVs:  [6, 18, 19]\n",
      "\n",
      "\n",
      "Minute:  855\n",
      "Waiting BEVs (after updating new waiting BEVs):  [23, 24, 26, 30, 34, 36, 38, 44, 45, 47, 48, 35, 25, 37]\n"
     ]
    },
    {
     "name": "stdout",
     "output_type": "stream",
     "text": [
      "Charging BEVs:  [6, 19, 21]\n",
      "Waiting BEVs:  [23, 24, 26, 30, 34, 36, 38, 44, 45, 47, 48, 35, 25, 37]\n",
      "CALCULATE NUMBER OF CHARGING STATIONS\n",
      "Number of charging stations:  4\n",
      "CALCULATE NUMBER OF CHARGING STATIONS\n",
      "Number of charging stations:  4\n",
      "NUMBER OF FREE CHARGING STATIONS:  1\n",
      "CALCULATE NUMBER OF CHARGING STATIONS\n",
      "Number of charging stations:  4\n",
      "AVAILABLE SOLAR POWER:  39.0\n",
      "Restladeenergie bis zur fairen Ladeenergie for BEV mit ID 6:  3.3699430004560043\n",
      "Restladezeit:  20.73811077203695\n",
      "AVAILABLE SOLAR POWER:  39.0\n",
      "Restladeenergie bis zur fairen Ladeenergie for BEV mit ID 19:  4.690000000000001\n",
      "Restladezeit:  28.86153846153847\n",
      "AVAILABLE SOLAR POWER:  39.0\n",
      "Restladeenergie bis zur fairen Ladeenergie for BEV mit ID 21:  7.0129850270340635\n",
      "Restladezeit:  43.156830935594236\n",
      "AVAILABLE SOLAR POWER:  39.0\n",
      "Restladeenergie bis zur fairen Ladeenergie for BEV mit ID 23:  3.1925\n",
      "Restladezeit:  19.646153846153844\n",
      "Charging BEVs:  [6, 19, 21, 23]\n",
      "\n",
      "\n",
      "Minute:  840\n",
      "Waiting BEVs (after updating new waiting BEVs):  [24, 26, 30, 34, 36, 38, 44, 45, 47, 48, 35, 25, 37, 7, 14, 31]\n",
      "Charging BEVs:  [6, 19, 21, 23]\n",
      "Waiting BEVs:  [24, 26, 30, 34, 36, 38, 44, 45, 47, 48, 35, 25, 37, 7, 14, 31]\n",
      "CALCULATE NUMBER OF CHARGING STATIONS\n",
      "Number of charging stations:  4\n",
      "CALCULATE NUMBER OF CHARGING STATIONS\n",
      "Number of charging stations:  4\n",
      "AVAILABLE SOLAR POWER:  41.25\n",
      "Restladeenergie bis zur fairen Ladeenergie for BEV mit ID 6:  2.2122138622891114\n",
      "Restladezeit:  12.871062471500284\n",
      "Die Restladezeit des BEVS 6 endet vor dem nächsten Interval\n",
      "Ausgewähltes BEV das frei gewordenen Platz belegen darf:  24\n",
      "Ladestart für ausgewähltes BEV:  852.8710624715003\n",
      "10.3125 CHARGING POWER WIRD FÜR NEUES BEV 24 GESPEICHERT: \n",
      "ZEITPUNKT FÜR DAS ES GESPEICHERT WIRD:  852.8710624715003\n",
      "AVAILABLE SOLAR POWER:  41.25\n",
      "Restladeenergie bis zur fairen Ladeenergie for BEV mit ID 19:  2.740000000000001\n",
      "Restladezeit:  15.941818181818189\n",
      "AVAILABLE SOLAR POWER:  41.25\n",
      "Restladeenergie bis zur fairen Ladeenergie for BEV mit ID 21:  6.697421877165227\n",
      "Restladezeit:  38.966818194415865\n",
      "AVAILABLE SOLAR POWER:  41.25\n",
      "Restladeenergie bis zur fairen Ladeenergie for BEV mit ID 23:  1.2425\n",
      "Restladezeit:  7.229090909090909\n",
      "Die Restladezeit des BEVS 23 endet vor dem nächsten Interval\n",
      "Ausgewähltes BEV das frei gewordenen Platz belegen darf:  26\n",
      "Ladestart für ausgewähltes BEV:  847.2290909090909\n",
      "10.3125 CHARGING POWER WIRD FÜR NEUES BEV 26 GESPEICHERT: \n",
      "ZEITPUNKT FÜR DAS ES GESPEICHERT WIRD:  847.2290909090909\n",
      "Charging BEVs:  [6, 19, 21, 23]\n",
      "\n",
      "\n",
      "Minute:  825\n",
      "Waiting BEVs (after updating new waiting BEVs):  [30, 34, 36, 38, 44, 45, 47, 48, 35, 25, 37, 7, 14, 31]\n",
      "Charging BEVs:  [19, 21, 24, 26]\n",
      "Waiting BEVs:  [30, 34, 36, 38, 44, 45, 47, 48, 35, 25, 37, 7, 14, 31]\n",
      "CALCULATE NUMBER OF CHARGING STATIONS\n",
      "Number of charging stations:  4\n",
      "CALCULATE NUMBER OF CHARGING STATIONS\n",
      "Number of charging stations:  4\n",
      "AVAILABLE SOLAR POWER:  39.75\n",
      "Restladeenergie bis zur fairen Ladeenergie for BEV mit ID 19:  0.6775000000000011\n",
      "Restladezeit:  4.090566037735855\n",
      "Die Restladezeit des BEVS 19 endet vor dem nächsten Interval\n",
      "Ausgewähltes BEV das frei gewordenen Platz belegen darf:  30\n",
      "Ladestart für ausgewähltes BEV:  829.0905660377358\n",
      "9.9375 CHARGING POWER WIRD FÜR NEUES BEV 30 GESPEICHERT: \n",
      "ZEITPUNKT FÜR DAS ES GESPEICHERT WIRD:  829.0905660377358\n",
      "AVAILABLE SOLAR POWER:  39.75\n",
      "Restladeenergie bis zur fairen Ladeenergie for BEV mit ID 21:  6.363653160957804\n",
      "Restladezeit:  38.42205682087731\n",
      "AVAILABLE SOLAR POWER:  39.75\n",
      "Restladeenergie bis zur fairen Ladeenergie for BEV mit ID 24:  2.32477108983129\n",
      "Restladezeit:  14.036353749924771\n",
      "Die Restladezeit des BEVS 24 endet vor dem nächsten Interval\n",
      "Ausgewähltes BEV das frei gewordenen Platz belegen darf:  34\n",
      "Ladestart für ausgewähltes BEV:  839.0363537499247\n",
      "9.9375 CHARGING POWER WIRD FÜR NEUES BEV 34 GESPEICHERT: \n",
      "ZEITPUNKT FÜR DAS ES GESPEICHERT WIRD:  839.0363537499247\n",
      "AVAILABLE SOLAR POWER:  39.75\n",
      "Restladeenergie bis zur fairen Ladeenergie for BEV mit ID 26:  6.919000000000004\n",
      "Restladezeit:  41.77509433962266\n",
      "Charging BEVs:  [19, 21, 24, 26]\n",
      "\n",
      "\n",
      "Minute:  810\n",
      "Waiting BEVs (after updating new waiting BEVs):  [36, 38, 44, 45, 47, 48, 35, 25, 37, 7, 14, 31]\n",
      "STOP PARKING BEV 45 from waiting list\n",
      "Charging BEVs:  [21, 26, 30, 34]\n",
      "Waiting BEVs:  [36, 38, 44, 47, 48, 35, 25, 37, 7, 14, 31]\n",
      "CALCULATE NUMBER OF CHARGING STATIONS\n",
      "Number of charging stations:  4\n",
      "CALCULATE NUMBER OF CHARGING STATIONS\n",
      "Number of charging stations:  4\n",
      "AVAILABLE SOLAR POWER:  38.25\n",
      "Restladeenergie bis zur fairen Ladeenergie for BEV mit ID 21:  6.042021488976105\n",
      "Restladezeit:  37.91072306808537\n",
      "AVAILABLE SOLAR POWER:  38.25\n",
      "Restladeenergie bis zur fairen Ladeenergie for BEV mit ID 26:  5.889354545454552\n",
      "Restladezeit:  36.95281283422464\n",
      "AVAILABLE SOLAR POWER:  38.25\n",
      "Restladeenergie bis zur fairen Ladeenergie for BEV mit ID 30:  1.1719999999999948\n",
      "Restladezeit:  7.353725490196045\n",
      "Die Restladezeit des BEVS 30 endet vor dem nächsten Interval\n",
      "Ausgewähltes BEV das frei gewordenen Platz belegen darf:  36\n",
      "Ladestart für ausgewähltes BEV:  817.3537254901961\n",
      "9.5625 CHARGING POWER WIRD FÜR NEUES BEV 36 GESPEICHERT: \n",
      "ZEITPUNKT FÜR DAS ES GESPEICHERT WIRD:  817.3537254901961\n",
      "AVAILABLE SOLAR POWER:  38.25\n",
      "Restladeenergie bis zur fairen Ladeenergie for BEV mit ID 34:  3.0648168718650264\n",
      "Restladezeit:  19.230223509741343\n",
      "Charging BEVs:  [21, 26, 30, 34]\n",
      "\n",
      "\n",
      "Minute:  795\n",
      "Waiting BEVs (after updating new waiting BEVs):  [38, 44, 47, 48, 35, 25, 37, 7, 14, 31]\n",
      "Charging BEVs:  [21, 26, 34, 36]\n",
      "Waiting BEVs:  [38, 44, 47, 48, 35, 25, 37, 7, 14, 31]\n",
      "CALCULATE NUMBER OF CHARGING STATIONS\n",
      "Number of charging stations:  4\n",
      "CALCULATE NUMBER OF CHARGING STATIONS\n",
      "Number of charging stations:  4\n",
      "AVAILABLE SOLAR POWER:  36.75\n",
      "Restladeenergie bis zur fairen Ladeenergie for BEV mit ID 21:  5.732526861220131\n",
      "Restladezeit:  37.43691011409065\n",
      "AVAILABLE SOLAR POWER:  36.75\n",
      "Restladeenergie bis zur fairen Ladeenergie for BEV mit ID 26:  4.898563636363646\n",
      "Restladezeit:  31.990619666048296\n",
      "AVAILABLE SOLAR POWER:  36.75\n",
      "Restladeenergie bis zur fairen Ladeenergie for BEV mit ID 34:  2.9419519749804293\n",
      "Restladezeit:  19.212747591708926\n",
      "AVAILABLE SOLAR POWER:  36.75\n",
      "Restladeenergie bis zur fairen Ladeenergie for BEV mit ID 36:  2.2176000000000022\n",
      "Restladezeit:  14.482285714285728\n",
      "Die Restladezeit des BEVS 36 endet vor dem nächsten Interval\n",
      "Ausgewähltes BEV das frei gewordenen Platz belegen darf:  38\n",
      "Ladestart für ausgewähltes BEV:  809.4822857142857\n",
      "9.1875 CHARGING POWER WIRD FÜR NEUES BEV 38 GESPEICHERT: \n",
      "ZEITPUNKT FÜR DAS ES GESPEICHERT WIRD:  809.4822857142857\n",
      "Charging BEVs:  [21, 26, 34, 36]\n",
      "\n",
      "\n",
      "Minute:  780\n",
      "Waiting BEVs (after updating new waiting BEVs):  [44, 47, 48, 35, 25, 37, 7, 14, 31, 11]\n",
      "STOP PARKING BEV 47 from waiting list\n",
      "Charging BEVs:  [21, 26, 34, 38]\n",
      "Waiting BEVs:  [44, 48, 35, 25, 37, 7, 14, 31, 11]\n",
      "CALCULATE NUMBER OF CHARGING STATIONS\n",
      "Number of charging stations:  4\n",
      "CALCULATE NUMBER OF CHARGING STATIONS\n",
      "Number of charging stations:  4\n",
      "AVAILABLE SOLAR POWER:  38.38\n",
      "Restladeenergie bis zur fairen Ladeenergie for BEV mit ID 21:  5.435169277689881\n",
      "Restladezeit:  33.98750981358967\n",
      "AVAILABLE SOLAR POWER:  38.38\n",
      "Restladeenergie bis zur fairen Ladeenergie for BEV mit ID 26:  3.9466272727272846\n",
      "Restladezeit:  24.679274243213868\n",
      "AVAILABLE SOLAR POWER:  38.38\n",
      "Restladeenergie bis zur fairen Ladeenergie for BEV mit ID 34:  2.8239053093462085\n",
      "Restladezeit:  17.65860537371261\n",
      "AVAILABLE SOLAR POWER:  38.38\n",
      "Restladeenergie bis zur fairen Ladeenergie for BEV mit ID 38:  7.626579999999999\n",
      "Restladezeit:  47.69096404377279\n",
      "Charging BEVs:  [21, 26, 34, 38]\n",
      "\n",
      "\n",
      "Minute:  765\n",
      "Waiting BEVs (after updating new waiting BEVs):  [44, 48, 35, 25, 37, 7, 14, 31, 11]\n",
      "Charging BEVs:  [21, 26, 34, 38]\n",
      "Waiting BEVs:  [44, 48, 35, 25, 37, 7, 14, 31, 11]\n",
      "CALCULATE NUMBER OF CHARGING STATIONS\n",
      "Number of charging stations:  4\n",
      "CALCULATE NUMBER OF CHARGING STATIONS\n",
      "Number of charging stations:  4\n",
      "AVAILABLE SOLAR POWER:  43.12\n",
      "Restladeenergie bis zur fairen Ladeenergie for BEV mit ID 21:  5.124622772767678\n",
      "Restladezeit:  28.522946787204148\n",
      "AVAILABLE SOLAR POWER:  43.12\n",
      "Restladeenergie bis zur fairen Ladeenergie for BEV mit ID 26:  2.9524689696969837\n",
      "Restladezeit:  16.433036937088964\n",
      "AVAILABLE SOLAR POWER:  43.12\n",
      "Restladeenergie bis zur fairen Ladeenergie for BEV mit ID 34:  2.700622832419912\n",
      "Restladezeit:  15.03129591328337\n",
      "AVAILABLE SOLAR POWER:  43.12\n",
      "Restladeenergie bis zur fairen Ladeenergie for BEV mit ID 38:  7.560347085714282\n",
      "Restladezeit:  42.07985390935593\n",
      "Charging BEVs:  [21, 26, 34, 38]\n",
      "\n",
      "\n",
      "Minute:  750\n",
      "Waiting BEVs (after updating new waiting BEVs):  [44, 48, 35, 25, 37, 7, 14, 31, 11, 40]\n",
      "STOP PARKING BEV 44 from waiting list\n",
      "STOP PARKING BEV 34 from charging list\n",
      "Charging BEVs:  [21, 26, 38]\n",
      "Waiting BEVs:  [48, 35, 25, 37, 7, 14, 31, 11, 40]\n",
      "CALCULATE NUMBER OF CHARGING STATIONS\n",
      "Number of charging stations:  5\n",
      "CALCULATE NUMBER OF CHARGING STATIONS\n",
      "Number of charging stations:  5\n",
      "NUMBER OF FREE CHARGING STATIONS:  2\n",
      "CALCULATE NUMBER OF CHARGING STATIONS\n",
      "Number of charging stations:  5\n",
      "AVAILABLE SOLAR POWER:  47.88\n",
      "Restladeenergie bis zur fairen Ladeenergie for BEV mit ID 21:  4.7757232080921845\n",
      "Restladezeit:  29.9230777449385\n",
      "AVAILABLE SOLAR POWER:  47.88\n",
      "Restladeenergie bis zur fairen Ladeenergie for BEV mit ID 26:  1.8355303030303203\n",
      "Restladezeit:  11.500816435027069\n",
      "Die Restladezeit des BEVS 26 endet vor dem nächsten Interval\n",
      "Ausgewähltes BEV das frei gewordenen Platz belegen darf:  25\n",
      "Ladestart für ausgewähltes BEV:  761.5008164350271\n",
      "9.576 CHARGING POWER WIRD FÜR NEUES BEV 25 GESPEICHERT: \n",
      "ZEITPUNKT FÜR DAS ES GESPEICHERT WIRD:  761.5008164350271\n",
      "AVAILABLE SOLAR POWER:  47.88\n",
      "Restladeenergie bis zur fairen Ladeenergie for BEV mit ID 38:  7.485934285714279\n",
      "Restladezeit:  46.90435016111703\n",
      "AVAILABLE SOLAR POWER:  47.88\n",
      "Restladeenergie bis zur fairen Ladeenergie for BEV mit ID 48:  8.135\n",
      "Restladezeit:  50.971177944862156\n",
      "AVAILABLE SOLAR POWER:  47.88\n",
      "Restladeenergie bis zur fairen Ladeenergie for BEV mit ID 35:  7.100000000000001\n",
      "Restladezeit:  44.48621553884713\n",
      "Charging BEVs:  [21, 26, 38, 48, 35]\n",
      "\n",
      "\n",
      "Minute:  735\n",
      "Waiting BEVs (after updating new waiting BEVs):  [37, 7, 14, 31, 11, 40]\n",
      "Charging BEVs:  [21, 38, 48, 35, 25]\n",
      "Waiting BEVs:  [37, 7, 14, 31, 11, 40]\n",
      "CALCULATE NUMBER OF CHARGING STATIONS\n",
      "Number of charging stations:  5\n",
      "CALCULATE NUMBER OF CHARGING STATIONS\n",
      "Number of charging stations:  5\n"
     ]
    },
    {
     "name": "stdout",
     "output_type": "stream",
     "text": [
      "AVAILABLE SOLAR POWER:  52.62\n",
      "Restladeenergie bis zur fairen Ladeenergie for BEV mit ID 21:  4.388308756407059\n",
      "Restladezeit:  25.018864061613794\n",
      "AVAILABLE SOLAR POWER:  52.62\n",
      "Restladeenergie bis zur fairen Ladeenergie for BEV mit ID 38:  7.403307085714276\n",
      "Restladezeit:  42.20813617853065\n",
      "AVAILABLE SOLAR POWER:  52.62\n",
      "Restladeenergie bis zur fairen Ladeenergie for BEV mit ID 48:  5.741\n",
      "Restladezeit:  32.7309007981756\n",
      "AVAILABLE SOLAR POWER:  52.62\n",
      "Restladeenergie bis zur fairen Ladeenergie for BEV mit ID 35:  4.706000000000001\n",
      "Restladezeit:  26.830102622576977\n",
      "AVAILABLE SOLAR POWER:  52.62\n",
      "Restladeenergie bis zur fairen Ladeenergie for BEV mit ID 25:  6.114030303030327\n",
      "Restladezeit:  34.85764140838271\n",
      "Charging BEVs:  [21, 38, 48, 35, 25]\n",
      "\n",
      "\n",
      "Minute:  720\n",
      "Waiting BEVs (after updating new waiting BEVs):  [37, 7, 14, 31, 11, 40, 28]\n",
      "Charging BEVs:  [21, 38, 48, 35, 25]\n",
      "Waiting BEVs:  [37, 7, 14, 31, 11, 40, 28]\n",
      "CALCULATE NUMBER OF CHARGING STATIONS\n",
      "Number of charging stations:  5\n",
      "CALCULATE NUMBER OF CHARGING STATIONS\n",
      "Number of charging stations:  5\n",
      "AVAILABLE SOLAR POWER:  54.38\n",
      "Restladeenergie bis zur fairen Ladeenergie for BEV mit ID 21:  3.9625412449686443\n",
      "Restladezeit:  21.860286382688365\n",
      "AVAILABLE SOLAR POWER:  54.38\n",
      "Restladeenergie bis zur fairen Ladeenergie for BEV mit ID 38:  7.312499999999987\n",
      "Restladezeit:  40.34111805810952\n",
      "AVAILABLE SOLAR POWER:  54.38\n",
      "Restladeenergie bis zur fairen Ladeenergie for BEV mit ID 48:  3.1099999999999994\n",
      "Restladezeit:  17.157043030525926\n",
      "AVAILABLE SOLAR POWER:  54.38\n",
      "Restladeenergie bis zur fairen Ladeenergie for BEV mit ID 35:  2.075000000000001\n",
      "Restladezeit:  11.447223243839652\n",
      "Die Restladezeit des BEVS 35 endet vor dem nächsten Interval\n",
      "Ausgewähltes BEV das frei gewordenen Platz belegen darf:  37\n",
      "Ladestart für ausgewähltes BEV:  731.4472232438396\n",
      "10.876000000000001 CHARGING POWER WIRD FÜR NEUES BEV 37 GESPEICHERT: \n",
      "ZEITPUNKT FÜR DAS ES GESPEICHERT WIRD:  731.4472232438396\n",
      "AVAILABLE SOLAR POWER:  54.38\n",
      "Restladeenergie bis zur fairen Ladeenergie for BEV mit ID 25:  5.500273505734081\n",
      "Restladezeit:  30.343546372199786\n",
      "Charging BEVs:  [21, 38, 48, 35, 25]\n",
      "\n",
      "\n",
      "Minute:  705\n",
      "Waiting BEVs (after updating new waiting BEVs):  [7, 14, 31, 11, 40, 28]\n",
      "Charging BEVs:  [21, 38, 48, 25, 37]\n",
      "Waiting BEVs:  [7, 14, 31, 11, 40, 28]\n",
      "CALCULATE NUMBER OF CHARGING STATIONS\n",
      "Number of charging stations:  5\n",
      "CALCULATE NUMBER OF CHARGING STATIONS\n",
      "Number of charging stations:  5\n",
      "AVAILABLE SOLAR POWER:  53.12\n",
      "Restladeenergie bis zur fairen Ladeenergie for BEV mit ID 21:  3.522532934972046\n",
      "Restladezeit:  19.893823051423457\n",
      "AVAILABLE SOLAR POWER:  53.12\n",
      "Restladeenergie bis zur fairen Ladeenergie for BEV mit ID 38:  7.218655657142841\n",
      "Restladezeit:  40.76801011187599\n",
      "AVAILABLE SOLAR POWER:  53.12\n",
      "Restladeenergie bis zur fairen Ladeenergie for BEV mit ID 48:  0.3909999999999991\n",
      "Restladezeit:  2.2082078313252964\n",
      "Die Restladezeit des BEVS 48 endet vor dem nächsten Interval\n",
      "Ausgewähltes BEV das frei gewordenen Platz belegen darf:  7\n",
      "Ladestart für ausgewähltes BEV:  707.2082078313254\n",
      "10.623999999999999 CHARGING POWER WIRD FÜR NEUES BEV 7 GESPEICHERT: \n",
      "ZEITPUNKT FÜR DAS ES GESPEICHERT WIRD:  707.2082078313254\n",
      "AVAILABLE SOLAR POWER:  53.12\n",
      "Restladeenergie bis zur fairen Ladeenergie for BEV mit ID 25:  4.865988164856661\n",
      "Restladezeit:  27.481107858753738\n",
      "AVAILABLE SOLAR POWER:  53.12\n",
      "Restladeenergie bis zur fairen Ladeenergie for BEV mit ID 37:  6.473499999999998\n",
      "Restladezeit:  36.55967620481927\n",
      "Charging BEVs:  [21, 38, 48, 25, 37]\n",
      "\n",
      "\n",
      "Minute:  690\n",
      "Waiting BEVs (after updating new waiting BEVs):  [14, 31, 11, 40, 28]\n",
      "Charging BEVs:  [21, 38, 25, 37, 7]\n",
      "Waiting BEVs:  [14, 31, 11, 40, 28]\n",
      "CALCULATE NUMBER OF CHARGING STATIONS\n",
      "Number of charging stations:  5\n",
      "CALCULATE NUMBER OF CHARGING STATIONS\n",
      "Number of charging stations:  5\n",
      "AVAILABLE SOLAR POWER:  51.88\n",
      "Restladeenergie bis zur fairen Ladeenergie for BEV mit ID 21:  3.0927197421250563\n",
      "Restladezeit:  17.88388439933533\n",
      "AVAILABLE SOLAR POWER:  51.88\n",
      "Restladeenergie bis zur fairen Ladeenergie for BEV mit ID 38:  7.126985714285694\n",
      "Restladezeit:  41.21233065315551\n",
      "AVAILABLE SOLAR POWER:  51.88\n",
      "Restladeenergie bis zur fairen Ladeenergie for BEV mit ID 25:  4.246399394952127\n",
      "Restladezeit:  24.555123717919006\n",
      "AVAILABLE SOLAR POWER:  51.88\n",
      "Restladeenergie bis zur fairen Ladeenergie for BEV mit ID 37:  5.8444216623758685\n",
      "Restladezeit:  33.79580760818736\n",
      "AVAILABLE SOLAR POWER:  51.88\n",
      "Restladeenergie bis zur fairen Ladeenergie for BEV mit ID 7:  4.142500000000011\n",
      "Restladezeit:  23.95431765612959\n",
      "Charging BEVs:  [21, 38, 25, 37, 7]\n",
      "\n",
      "\n",
      "Minute:  675\n",
      "Waiting BEVs (after updating new waiting BEVs):  [14, 31, 11, 40, 28]\n",
      "Charging BEVs:  [21, 38, 25, 37, 7]\n",
      "Waiting BEVs:  [14, 31, 11, 40, 28]\n",
      "CALCULATE NUMBER OF CHARGING STATIONS\n",
      "Number of charging stations:  5\n",
      "CALCULATE NUMBER OF CHARGING STATIONS\n",
      "Number of charging stations:  5\n",
      "AVAILABLE SOLAR POWER:  50.62\n",
      "Restladeenergie bis zur fairen Ladeenergie for BEV mit ID 21:  2.672939839171332\n",
      "Restladezeit:  15.841208055144207\n",
      "AVAILABLE SOLAR POWER:  50.62\n",
      "Restladeenergie bis zur fairen Ladeenergie for BEV mit ID 38:  7.037455657142834\n",
      "Restladezeit:  41.70756019642138\n",
      "AVAILABLE SOLAR POWER:  50.62\n",
      "Restladeenergie bis zur fairen Ladeenergie for BEV mit ID 25:  3.641273917116148\n",
      "Restladezeit:  21.580050871885508\n",
      "AVAILABLE SOLAR POWER:  50.62\n",
      "Restladeenergie bis zur fairen Ladeenergie for BEV mit ID 37:  5.2300281353438685\n",
      "Restladezeit:  30.995820636174653\n",
      "AVAILABLE SOLAR POWER:  50.62\n",
      "Restladeenergie bis zur fairen Ladeenergie for BEV mit ID 7:  1.9303727409638745\n",
      "Restladezeit:  11.440375786036398\n",
      "Die Restladezeit des BEVS 7 endet vor dem nächsten Interval\n",
      "Ausgewähltes BEV das frei gewordenen Platz belegen darf:  14\n",
      "Ladestart für ausgewähltes BEV:  686.4403757860364\n",
      "10.123999999999999 CHARGING POWER WIRD FÜR NEUES BEV 14 GESPEICHERT: \n",
      "ZEITPUNKT FÜR DAS ES GESPEICHERT WIRD:  686.4403757860364\n",
      "Charging BEVs:  [21, 38, 25, 37, 7]\n",
      "\n",
      "\n",
      "Minute:  660\n",
      "Waiting BEVs (after updating new waiting BEVs):  [31, 11, 40, 28]\n",
      "Charging BEVs:  [21, 38, 25, 37, 14]\n",
      "Waiting BEVs:  [31, 11, 40, 28]\n",
      "CALCULATE NUMBER OF CHARGING STATIONS\n",
      "Number of charging stations:  5\n",
      "CALCULATE NUMBER OF CHARGING STATIONS\n",
      "Number of charging stations:  5\n",
      "AVAILABLE SOLAR POWER:  50.12\n",
      "Restladeenergie bis zur fairen Ladeenergie for BEV mit ID 21:  2.263355053367216\n",
      "Restladezeit:  13.547616041703211\n",
      "Die Restladezeit des BEVS 21 endet vor dem nächsten Interval\n",
      "Ausgewähltes BEV das frei gewordenen Platz belegen darf:  31\n",
      "Ladestart für ausgewähltes BEV:  673.5476160417032\n",
      "10.024 CHARGING POWER WIRD FÜR NEUES BEV 31 GESPEICHERT: \n",
      "ZEITPUNKT FÜR DAS ES GESPEICHERT WIRD:  673.5476160417032\n",
      "AVAILABLE SOLAR POWER:  50.12\n",
      "Restladeenergie bis zur fairen Ladeenergie for BEV mit ID 38:  6.950099999999973\n",
      "Restladezeit:  41.60075818036697\n",
      "AVAILABLE SOLAR POWER:  50.12\n",
      "Restladeenergie bis zur fairen Ladeenergie for BEV mit ID 25:  3.0508450102530547\n",
      "Restladezeit:  18.261243078130814\n",
      "AVAILABLE SOLAR POWER:  50.12\n",
      "Restladeenergie bis zur fairen Ladeenergie for BEV mit ID 37:  4.630556270687742\n",
      "Restladezeit:  27.716817262695983\n",
      "AVAILABLE SOLAR POWER:  50.12\n",
      "Restladeenergie bis zur fairen Ladeenergie for BEV mit ID 14:  5.806872740963874\n",
      "Restladezeit:  34.75781768334323\n",
      "Charging BEVs:  [21, 38, 25, 37, 14]\n",
      "\n",
      "\n",
      "Minute:  645\n",
      "Waiting BEVs (after updating new waiting BEVs):  [11, 40, 28]\n",
      "Charging BEVs:  [38, 25, 37, 14, 31]\n",
      "Waiting BEVs:  [11, 40, 28]\n",
      "CALCULATE NUMBER OF CHARGING STATIONS\n",
      "Number of charging stations:  5\n",
      "CALCULATE NUMBER OF CHARGING STATIONS\n",
      "Number of charging stations:  5\n",
      "AVAILABLE SOLAR POWER:  50.38\n",
      "Restladeenergie bis zur fairen Ladeenergie for BEV mit ID 38:  6.86360719999997\n",
      "Restladezeit:  40.871023421992675\n",
      "AVAILABLE SOLAR POWER:  50.38\n",
      "Restladeenergie bis zur fairen Ladeenergie for BEV mit ID 25:  2.4662480759982497\n",
      "Restladezeit:  14.68587579991018\n",
      "Die Restladezeit des BEVS 25 endet vor dem nächsten Interval\n",
      "Ausgewähltes BEV das frei gewordenen Platz belegen darf:  11\n",
      "Ladestart für ausgewähltes BEV:  659.6858757999101\n",
      "10.076 CHARGING POWER WIRD FÜR NEUES BEV 11 GESPEICHERT: \n",
      "ZEITPUNKT FÜR DAS ES GESPEICHERT WIRD:  659.6858757999101\n",
      "AVAILABLE SOLAR POWER:  50.38\n",
      "Restladeenergie bis zur fairen Ladeenergie for BEV mit ID 37:  4.037005700625216\n",
      "Restladezeit:  24.039335255807163\n",
      "AVAILABLE SOLAR POWER:  50.38\n",
      "Restladeenergie bis zur fairen Ladeenergie for BEV mit ID 14:  5.212178188951019\n",
      "Restladezeit:  31.037186516183123\n",
      "AVAILABLE SOLAR POWER:  50.38\n",
      "Restladeenergie bis zur fairen Ladeenergie for BEV mit ID 31:  5.457355053367222\n",
      "Restladezeit:  32.4971519652673\n",
      "Charging BEVs:  [38, 25, 37, 14, 31]\n",
      "\n",
      "\n",
      "Minute:  630\n",
      "Waiting BEVs (after updating new waiting BEVs):  [40, 28]\n",
      "Charging BEVs:  [38, 37, 14, 31, 11]\n",
      "Waiting BEVs:  [40, 28]\n"
     ]
    },
    {
     "name": "stdout",
     "output_type": "stream",
     "text": [
      "CALCULATE NUMBER OF CHARGING STATIONS\n",
      "Number of charging stations:  5\n",
      "CALCULATE NUMBER OF CHARGING STATIONS\n",
      "Number of charging stations:  5\n",
      "AVAILABLE SOLAR POWER:  50.62\n",
      "Restladeenergie bis zur fairen Ladeenergie for BEV mit ID 38:  6.776665714285681\n",
      "Restladezeit:  40.16198566348685\n",
      "AVAILABLE SOLAR POWER:  50.62\n",
      "Restladeenergie bis zur fairen Ladeenergie for BEV mit ID 37:  3.440376057374018\n",
      "Restladezeit:  20.38942744393926\n",
      "AVAILABLE SOLAR POWER:  50.62\n",
      "Restladeenergie bis zur fairen Ladeenergie for BEV mit ID 14:  4.614398629286063\n",
      "Restladezeit:  27.347285436306183\n",
      "AVAILABLE SOLAR POWER:  50.62\n",
      "Restladeenergie bis zur fairen Ladeenergie for BEV mit ID 31:  5.213451373970586\n",
      "Restladezeit:  30.897578273235403\n",
      "AVAILABLE SOLAR POWER:  50.62\n",
      "Restladeenergie bis zur fairen Ladeenergie for BEV mit ID 11:  5.464748075998244\n",
      "Restladezeit:  32.386891007496516\n",
      "Charging BEVs:  [38, 37, 14, 31, 11]\n",
      "\n",
      "\n",
      "Minute:  615\n",
      "Waiting BEVs (after updating new waiting BEVs):  [40, 28]\n",
      "Charging BEVs:  [38, 37, 14, 31, 11]\n",
      "Waiting BEVs:  [40, 28]\n",
      "CALCULATE NUMBER OF CHARGING STATIONS\n",
      "Number of charging stations:  5\n",
      "CALCULATE NUMBER OF CHARGING STATIONS\n",
      "Number of charging stations:  5\n",
      "AVAILABLE SOLAR POWER:  50.88\n",
      "Restladeenergie bis zur fairen Ladeenergie for BEV mit ID 38:  6.689310057142821\n",
      "Restladezeit:  39.44168665768173\n",
      "AVAILABLE SOLAR POWER:  50.88\n",
      "Restladeenergie bis zur fairen Ladeenergie for BEV mit ID 37:  2.8409041927178915\n",
      "Restladezeit:  16.750614343855492\n",
      "AVAILABLE SOLAR POWER:  50.88\n",
      "Restladeenergie bis zur fairen Ladeenergie for BEV mit ID 14:  4.013771370249935\n",
      "Restladezeit:  23.66610477741707\n",
      "AVAILABLE SOLAR POWER:  50.88\n",
      "Restladeenergie bis zur fairen Ladeenergie for BEV mit ID 31:  4.968385787407312\n",
      "Restladezeit:  29.294727520090287\n",
      "AVAILABLE SOLAR POWER:  50.88\n",
      "Restladeenergie bis zur fairen Ladeenergie for BEV mit ID 11:  5.411744852636417\n",
      "Restladezeit:  31.908872951865664\n",
      "Charging BEVs:  [38, 37, 14, 31, 11]\n",
      "\n",
      "\n",
      "Minute:  600\n",
      "Waiting BEVs (after updating new waiting BEVs):  [40, 28]\n",
      "Charging BEVs:  [38, 37, 14, 31, 11]\n",
      "Waiting BEVs:  [40, 28]\n",
      "CALCULATE NUMBER OF CHARGING STATIONS\n",
      "Number of charging stations:  5\n",
      "CALCULATE NUMBER OF CHARGING STATIONS\n",
      "Number of charging stations:  5\n",
      "AVAILABLE SOLAR POWER:  47.0\n",
      "Restladeenergie bis zur fairen Ladeenergie for BEV mit ID 38:  6.601505714285675\n",
      "Restladezeit:  42.13727051671707\n",
      "AVAILABLE SOLAR POWER:  47.0\n",
      "Restladeenergie bis zur fairen Ladeenergie for BEV mit ID 37:  2.2383532548730924\n",
      "Restladezeit:  14.28736120131761\n",
      "Die Restladezeit des BEVS 37 endet vor dem nächsten Interval\n",
      "Ausgewähltes BEV das frei gewordenen Platz belegen darf:  40\n",
      "Ladestart für ausgewähltes BEV:  614.2873612013176\n",
      "9.4 CHARGING POWER WIRD FÜR NEUES BEV 40 GESPEICHERT: \n",
      "ZEITPUNKT FÜR DAS ES GESPEICHERT WIRD:  614.2873612013176\n",
      "AVAILABLE SOLAR POWER:  47.0\n",
      "Restladeenergie bis zur fairen Ladeenergie for BEV mit ID 14:  3.4100591035617054\n",
      "Restladezeit:  21.76633470358535\n",
      "AVAILABLE SOLAR POWER:  47.0\n",
      "Restladeenergie bis zur fairen Ladeenergie for BEV mit ID 31:  4.722061468080181\n",
      "Restladezeit:  30.140817881362853\n",
      "AVAILABLE SOLAR POWER:  47.0\n",
      "Restladeenergie bis zur fairen Ladeenergie for BEV mit ID 11:  5.358469388301178\n",
      "Restladezeit:  34.20299609553943\n",
      "Charging BEVs:  [38, 37, 14, 31, 11]\n",
      "\n",
      "\n",
      "Minute:  585\n",
      "Waiting BEVs (after updating new waiting BEVs):  [28]\n",
      "Charging BEVs:  [38, 14, 31, 11, 40]\n",
      "Waiting BEVs:  [28]\n",
      "CALCULATE NUMBER OF CHARGING STATIONS\n",
      "Number of charging stations:  4\n",
      "CALCULATE NUMBER OF CHARGING STATIONS\n",
      "Number of charging stations:  4\n",
      "AVAILABLE SOLAR POWER:  39.0\n",
      "Restladeenergie bis zur fairen Ladeenergie for BEV mit ID 38:  6.500119999999956\n",
      "Restladezeit:  50.00092307692274\n",
      "AVAILABLE SOLAR POWER:  39.0\n",
      "Restladeenergie bis zur fairen Ladeenergie for BEV mit ID 14:  2.712966028327164\n",
      "Restladezeit:  20.868969448670494\n",
      "AVAILABLE SOLAR POWER:  39.0\n",
      "Restladeenergie bis zur fairen Ladeenergie for BEV mit ID 31:  4.437636276247065\n",
      "Restladezeit:  34.13566366343896\n",
      "AVAILABLE SOLAR POWER:  39.0\n",
      "Restladeenergie bis zur fairen Ladeenergie for BEV mit ID 11:  5.296953399116917\n",
      "Restladezeit:  40.74579537782243\n",
      "AVAILABLE SOLAR POWER:  39.0\n",
      "Restladeenergie bis zur fairen Ladeenergie for BEV mit ID 40:  4.357941568591363\n",
      "Restladezeit:  33.52262745070279\n",
      "Charging BEVs:  [38, 14, 31, 11, 40]\n",
      "\n",
      "\n",
      "Minute:  570\n",
      "Waiting BEVs (after updating new waiting BEVs):  [28]\n",
      "STOP PARKING BEV 31 from charging list\n",
      "Charging BEVs:  [38, 14, 11, 40]\n",
      "Waiting BEVs:  [28]\n",
      "CALCULATE NUMBER OF CHARGING STATIONS\n",
      "Number of charging stations:  3\n",
      "CALCULATE NUMBER OF CHARGING STATIONS\n",
      "Number of charging stations:  3\n",
      "AVAILABLE SOLAR POWER:  31.0\n",
      "Restladeenergie bis zur fairen Ladeenergie for BEV mit ID 38:  6.387948571428524\n",
      "Restladezeit:  49.455085714285346\n",
      "AVAILABLE SOLAR POWER:  31.0\n",
      "Restladeenergie bis zur fairen Ladeenergie for BEV mit ID 14:  1.9417141153017141\n",
      "Restladezeit:  15.032625408787464\n",
      "AVAILABLE SOLAR POWER:  31.0\n",
      "Restladeenergie bis zur fairen Ladeenergie for BEV mit ID 11:  5.228893155764116\n",
      "Restladezeit:  40.481753463980255\n",
      "AVAILABLE SOLAR POWER:  31.0\n",
      "Restladeenergie bis zur fairen Ladeenergie for BEV mit ID 40:  4.203536495543508\n",
      "Restladezeit:  32.5435083525949\n",
      "Charging BEVs:  [38, 14, 11, 40]\n",
      "\n",
      "\n",
      "Minute:  555\n",
      "Waiting BEVs (after updating new waiting BEVs):  [28]\n",
      "Charging BEVs:  [38, 14, 11, 40]\n",
      "Waiting BEVs:  [28]\n",
      "CALCULATE NUMBER OF CHARGING STATIONS\n",
      "Number of charging stations:  3\n",
      "CALCULATE NUMBER OF CHARGING STATIONS\n",
      "Number of charging stations:  3\n",
      "AVAILABLE SOLAR POWER:  23.0\n",
      "Restladeenergie bis zur fairen Ladeenergie for BEV mit ID 38:  6.298786666666615\n",
      "Restladezeit:  65.72646956521685\n",
      "AVAILABLE SOLAR POWER:  23.0\n",
      "Restladeenergie bis zur fairen Ladeenergie for BEV mit ID 14:  1.3286677228968689\n",
      "Restladezeit:  13.864358847619501\n",
      "Die Restladezeit des BEVS 14 endet vor dem nächsten Interval\n",
      "Ausgewähltes BEV das frei gewordenen Platz belegen darf:  28\n",
      "Ladestart für ausgewähltes BEV:  568.8643588476195\n",
      "5.75 CHARGING POWER WIRD FÜR NEUES BEV 28 GESPEICHERT: \n",
      "ZEITPUNKT FÜR DAS ES GESPEICHERT WIRD:  568.8643588476195\n",
      "AVAILABLE SOLAR POWER:  23.0\n",
      "Restladeenergie bis zur fairen Ladeenergie for BEV mit ID 11:  5.1747939879708635\n",
      "Restladezeit:  53.99785030926118\n",
      "AVAILABLE SOLAR POWER:  23.0\n",
      "Restladeenergie bis zur fairen Ladeenergie for BEV mit ID 40:  4.080804257992649\n",
      "Restladezeit:  42.58230530079286\n",
      "Charging BEVs:  [38, 14, 11, 40]\n",
      "\n",
      "\n",
      "Minute:  540\n",
      "Waiting BEVs (after updating new waiting BEVs):  []\n",
      "STOP PARKING BEV 38 from charging list\n",
      "STOP PARKING BEV 40 from charging list\n",
      "Charging BEVs:  [11, 28]\n",
      "Waiting BEVs:  []\n",
      "CALCULATE NUMBER OF CHARGING STATIONS\n",
      "Number of charging stations:  2\n",
      "CALCULATE NUMBER OF CHARGING STATIONS\n",
      "Number of charging stations:  2\n",
      "AVAILABLE SOLAR POWER:  16.38\n",
      "Restladeenergie bis zur fairen Ladeenergie for BEV mit ID 11:  5.114586849620309\n",
      "Restladezeit:  37.46950072981912\n",
      "AVAILABLE SOLAR POWER:  16.38\n",
      "Restladeenergie bis zur fairen Ladeenergie for BEV mit ID 28:  3.8273354457937465\n",
      "Restladezeit:  28.039087514972504\n",
      "Charging BEVs:  [11, 28]\n",
      "\n",
      "\n",
      "Minute:  525\n",
      "Waiting BEVs (after updating new waiting BEVs):  []\n",
      "Charging BEVs:  [11, 28]\n",
      "Waiting BEVs:  []\n",
      "CALCULATE NUMBER OF CHARGING STATIONS\n",
      "Number of charging stations:  2\n",
      "CALCULATE NUMBER OF CHARGING STATIONS\n",
      "Number of charging stations:  2\n",
      "AVAILABLE SOLAR POWER:  11.12\n",
      "Restladeenergie bis zur fairen Ladeenergie for BEV mit ID 11:  5.071708896308045\n",
      "Restladezeit:  54.73067154289257\n",
      "AVAILABLE SOLAR POWER:  11.12\n",
      "Restladeenergie bis zur fairen Ladeenergie for BEV mit ID 28:  3.672320428493814\n",
      "Restladezeit:  39.62935714201958\n",
      "Charging BEVs:  [11, 28]\n",
      "\n",
      "\n",
      "Minute:  510\n",
      "Waiting BEVs (after updating new waiting BEVs):  []\n",
      "STOP PARKING BEV 28 from charging list\n",
      "Charging BEVs:  [11]\n",
      "Waiting BEVs:  []\n",
      "CALCULATE NUMBER OF CHARGING STATIONS\n",
      "Number of charging stations:  1\n",
      "CALCULATE NUMBER OF CHARGING STATIONS\n",
      "Number of charging stations:  1\n",
      "AVAILABLE SOLAR POWER:  5.87\n",
      "Restladeenergie bis zur fairen Ladeenergie for BEV mit ID 11:  5.013491211224726\n",
      "Restladezeit:  51.24522532768033\n",
      "Charging BEVs:  [11]\n",
      "\n",
      "\n",
      "Minute:  495\n",
      "Waiting BEVs (after updating new waiting BEVs):  []\n",
      "Charging BEVs:  [11]\n",
      "Waiting BEVs:  []\n",
      "CALCULATE NUMBER OF CHARGING STATIONS\n",
      "Number of charging stations:  1\n",
      "CALCULATE NUMBER OF CHARGING STATIONS\n",
      "Number of charging stations:  1\n"
     ]
    },
    {
     "name": "stdout",
     "output_type": "stream",
     "text": [
      "AVAILABLE SOLAR POWER:  0.62\n",
      "Restladeenergie bis zur fairen Ladeenergie for BEV mit ID 11:  4.9827593936492685\n",
      "Restladezeit:  482.2025219660582\n",
      "Charging BEVs:  [11]\n",
      "\n",
      "\n",
      "Minute:  480\n",
      "Waiting BEVs (after updating new waiting BEVs):  []\n",
      "STOP PARKING BEV 11 from charging list\n",
      "Charging BEVs:  []\n",
      "Waiting BEVs:  []\n",
      "CALCULATE NUMBER OF CHARGING STATIONS\n",
      "Number of charging stations:  0\n",
      "CALCULATE NUMBER OF CHARGING STATIONS\n",
      "Number of charging stations:  0\n",
      "Charging BEVs:  []\n",
      "OPTIMIZATION DONE\n",
      "BEVs dict:  {0: [(13.0, 3.0), 'wartend', [(960, -23.905608755129947, 2.6174999999999997)], [2.6174999999999997]], 1: [(9.0, 4.4), 'nicht parkend', [(798, 48.03846153846155, 5.5550000000000015)], [5.5550000000000015]], 2: [(9.0, 4.2), 'nicht parkend', [], [5.302500000000001]], 3: [(8.5, 7.4), 'nicht parkend', [(632.5158793171894, 52.30774601846326, 7.987500000000002)], [7.987500000000002]], 4: [(8.0, 7.3), 'nicht parkend', [(480, 80.05645161290317, 7.8475)], [7.8475]], 5: [(13.0, 3.0), 'wartend', [(945, -1.9835841313270066, 2.6174999999999997)], [2.6174999999999997]], 6: [(9.5, 6.5), 'wartend', [(936.09439124487, -83.22332877336976, 7.280000000000002)], [7.280000000000002]], 7: [(8.5, 5.5), 'wartend', [(672, 151.11320754716985, 6.4075000000000015), (707.2082078313254, -20.76783204528897, 6.4075000000000015)], [6.4075000000000015]], 8: [(8.0, 3.3), 'nicht parkend', [(510, 29.98168498168502, 3.4349999999999996)], [3.435]], 9: [(8.0, 3.2), 'nicht parkend', [(539.981684981685, 132.01831501831498, 2.0509721611721052)], [3.085]], 10: [(9.0, 5.3), 'nicht parkend', [(823.1132075471698, 34.88679245283015, 1.08471698113206)], [6.672500000000001]], 11: [(8.0, 5.0), 'nicht parkend', [(540, 36.26153846153841, 5.5175), (659.6858757999101, 285, 0.5347406063507315)], [5.5175]], 12: [(9.0, 4.7), 'nicht parkend', [], [5.822500000000002]], 13: [(8.0, 7.3), 'nicht parkend', [(560.0564516129032, 62.49940575572566, 7.8475)], [7.8475]], 14: [(8.5, 5.5), 'wartend', [(670.5553891780622, 92.01878382259463, 6.4075000000000015), (686.4403757860364, -117.57601693841684, 6.4075000000000015)], [6.4075000000000015]], 15: [(13.0, 3.0), 'wartend', [(943.016415868673, -29.777119840184127, 2.6174999999999997)], [2.6174999999999997]], 16: [(8.0, 7.3), 'nicht parkend', [(570, 48.058079810351614, 7.8475)], [7.8475]], 17: [(8.5, 4.4), 'nicht parkend', [(672.5609842145464, 101.43901578545365, 4.026349206840397)], [5.370000000000001]], 18: [(13.0, 3.0), 'wartend', [(913.2392960284889, -30.666704873633762, 2.6174999999999997)], [2.6174999999999997]], 19: [(9.0, 7.0), 'wartend', [(846.0384615384615, 113.96153846153845, 7.079615384615377), (885, -55.90943396226419, 7.690000000000001)], [7.690000000000001]], 20: [(8.0, 3.7), 'nicht parkend', [(576.2615384615384, 29.728876390904702, 3.805)], [3.805]], 21: [(9.5, 6.5), 'wartend', [(882.5725911548551, -209.02497511315187, 7.280000000000002)], [7.280000000000002]], 22: [(9.0, 6.7), 'nicht parkend', [(858, 84, 6.645333333333333)], [7.557500000000001]], 23: [(12.5, 3.5), 'wartend', [(855, -7.770909090909072, 3.1925)], [3.1925]], 24: [(13.0, 3.0), 'wartend', [(852.8710624715003, -13.834708721575566, 2.6174999999999997)], [2.6174999999999997]], 25: [(9.0, 5.5), 'wartend', [(858, 0, 0), (761.5008164350271, -101.81494063511695, 6.672500000000001)], [6.672500000000001]], 26: [(8.5, 7.5), 'wartend', [(687.2102672618963, 272.7897327381037, 6.82907976069527), (847.2290909090909, -85.72827447406382, 7.987500000000002)], [7.987500000000002]], 27: [(8.5, 6.9), 'nicht parkend', [(684.8236253356527, 109.94887036734337, 7.700000000000001)], [7.700000000000001]], 28: [(8.5, 3.5), 'nicht parkend', [(568.8643588476195, 195, 0.372679571506187)], [4.045000000000001]], 29: [(8.0, 7.4), 'nicht parkend', [(585, 47.51587931718939, 7.8475)], [7.8475]], 30: [(13.0, 3.0), 'wartend', [(829.0905660377358, -11.736840547539714, 2.6174999999999997)], [2.6174999999999997]], 31: [(9.5, 4.5), 'nicht parkend', [(673.5476160417032, 255, 1.2623637237529373)], [5.700000000000002]], 32: [(8.5, 5.8), 'nicht parkend', [(762.5741730006569, 95.42582699934314, 2.565803884394598)], [6.9700000000000015]], 33: [(8.0, 7.4), 'nicht parkend', [(605.9904148524431, 64.56497432561912, 7.8475)], [7.8475]], 34: [(12.5, 3.5), 'nicht parkend', [(839.0363537499247, 195, 0.4918771675800877)], [3.1925]], 35: [(9.0, 6.0), 'wartend', [(888, 0, 0), (750, -18.55277675616037, 7.100000000000001)], [7.100000000000001]], 36: [(12.5, 3.5), 'wartend', [(817.3537254901961, -7.871439775910403, 3.1925)], [3.1925]], 37: [(8.0, 6.5), 'wartend', [(622.5558573686288, 64.65440989326748, 7.117500000000001), (731.4472232438396, -117.15986204252204, 7.117500000000001)], [7.117500000000001]], 38: [(9.0, 7.0), 'nicht parkend', [(942, 18, 0.525), (809.4822857142857, 405, 1.391213333333386)], [7.690000000000001]], 39: [(8.5, 3.6), 'nicht parkend', [], [4.432500000000001]], 40: [(9.0, 3.5), 'nicht parkend', [(614.2873612013176, 195, 0.4166957420073511)], [4.4975000000000005]], 41: [(8.5, 4.8), 'nicht parkend', [(774, 24, 1.8851000000000002)], [5.852500000000002]], 42: [(8.5, 6.3), 'nicht parkend', [(794.772495702996, 93.22750429700397, 0.4609974991359681)], [7.397500000000002]], 43: [(8.5, 4.2), 'nicht parkend', [], [5.095000000000001]], 44: [(12.5, 3.5), 'nicht parkend', [], [3.1925]], 45: [(13.5, 2.5), 'nicht parkend', [], [2.135]], 46: [(9.5, 3.7), 'nicht parkend', [], [4.892500000000002]], 47: [(13.0, 3.0), 'nicht parkend', [], [2.6174999999999997]], 48: [(8.0, 8.0), 'wartend', [(618.0580798103516, 54.50290440419474, 8.135), (750, -42.79179216867465, 8.135)], [8.135]], 49: [(9.5, 4.3), 'nicht parkend', [], [5.700000000000002]]}\n"
     ]
    }
   ],
   "source": [
    "import postOptimization\n",
    "\n",
    "postOptimization.start_post_optimization(minute_interval, simulation_day, solarpeakleistung, bev_data, table_dict, simulation_data,\n",
    "                            ladeleistung_pro_bev)"
   ]
  }
 ],
 "metadata": {
  "kernelspec": {
   "display_name": "Python 3 (ipykernel)",
   "language": "python",
   "name": "python3"
  },
  "language_info": {
   "codemirror_mode": {
    "name": "ipython",
    "version": 3
   },
   "file_extension": ".py",
   "mimetype": "text/x-python",
   "name": "python",
   "nbconvert_exporter": "python",
   "pygments_lexer": "ipython3",
   "version": "3.9.5"
  }
 },
 "nbformat": 4,
 "nbformat_minor": 4
}
