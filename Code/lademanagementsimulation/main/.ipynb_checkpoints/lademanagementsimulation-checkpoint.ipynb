{
 "cells": [
  {
   "cell_type": "markdown",
   "metadata": {
    "pycharm": {
     "name": "#%% md\n"
    }
   },
   "source": [
    "# Lademanagementsimulation   \n"
   ]
  },
  {
   "cell_type": "markdown",
   "metadata": {},
   "source": [
    "### Simulations Parameter"
   ]
  },
  {
   "cell_type": "code",
   "execution_count": 1,
   "metadata": {
    "pycharm": {
     "name": "#%%\n"
    }
   },
   "outputs": [],
   "source": [
    "solarpeakleistung = 125 #Einheit Kilowattpeak (kWP)\n",
    "anzahl_bevs_pro_tag = 50\n",
    "ladeleistung_pro_bev = 11 #Einheit kW\n",
    "maximale_ladezeit = 30 #Einheit Minuten\n",
    "minute_interval = 15 #Einheit Minuten"
   ]
  },
  {
   "cell_type": "markdown",
   "metadata": {},
   "source": [
    "### Simulations Eingangsdaten"
   ]
  },
  {
   "cell_type": "code",
   "execution_count": 2,
   "metadata": {
    "pycharm": {
     "is_executing": true,
     "name": "#%%\n"
    }
   },
   "outputs": [
    {
     "data": {
      "text/html": [
       "\n",
       "        <iframe\n",
       "            width=\"100%\"\n",
       "            height=\"650\"\n",
       "            src=\"http://127.0.0.1:8050/\"\n",
       "            frameborder=\"0\"\n",
       "            allowfullscreen\n",
       "            \n",
       "        ></iframe>\n",
       "        "
      ],
      "text/plain": [
       "<IPython.lib.display.IFrame at 0x1cd05868070>"
      ]
     },
     "metadata": {},
     "output_type": "display_data"
    }
   ],
   "source": [
    "import simulationInputDataVisualisation\n",
    "simulationInputDataVisualisation.create_jupyter_dash_app(solarpeakleistung)"
   ]
  },
  {
   "cell_type": "markdown",
   "metadata": {},
   "source": [
    "### Verteilungsalgorithmus"
   ]
  },
  {
   "cell_type": "code",
   "execution_count": 3,
   "metadata": {
    "pycharm": {
     "is_executing": true
    }
   },
   "outputs": [
    {
     "name": "stdout",
     "output_type": "stream",
     "text": [
      "START POST OPTIMIZATION\n",
      "{0: [(12.0, 3.1), 'nicht parkend', [], [3.405]], 1: [(8.0, 7.0), 'nicht parkend', [], [7.5125]], 2: [(12.0, 4.0), 'nicht parkend', [], [3.8200000000000003]], 3: [(8.5, 4.2), 'nicht parkend', [], [5.0725]], 4: [(9.0, 6.8), 'nicht parkend', [], [7.6125]], 5: [(8.5, 3.4), 'nicht parkend', [], [4.0675]], 6: [(13.0, 3.0), 'nicht parkend', [], [2.5325000000000006]], 7: [(8.5, 6.8), 'nicht parkend', [], [7.632499999999999]], 8: [(8.5, 4.0), 'nicht parkend', [], [4.765]], 9: [(12.5, 3.5), 'nicht parkend', [], [3.1225000000000005]], 10: [(9.0, 7.0), 'nicht parkend', [], [7.6125]], 11: [(13.0, 3.0), 'nicht parkend', [], [2.5325000000000006]], 12: [(8.5, 3.5), 'nicht parkend', [], [4.0675]], 13: [(8.0, 5.1), 'nicht parkend', [], [5.7875000000000005]], 14: [(13.0, 3.0), 'nicht parkend', [], [2.5325000000000006]], 15: [(9.0, 7.0), 'nicht parkend', [], [7.6125]], 16: [(8.5, 4.6), 'nicht parkend', [], [5.585]], 17: [(8.5, 7.5), 'nicht parkend', [], [7.887499999999999]], 18: [(8.5, 6.5), 'nicht parkend', [], [7.31]], 19: [(8.5, 6.7), 'nicht parkend', [], [7.472499999999999]], 20: [(9.0, 5.5), 'nicht parkend', [], [6.655]], 21: [(12.0, 4.0), 'nicht parkend', [], [3.8200000000000003]], 22: [(12.0, 4.0), 'nicht parkend', [], [3.8200000000000003]], 23: [(9.0, 3.2), 'nicht parkend', [], [4.1475]], 24: [(8.5, 7.5), 'nicht parkend', [], [7.887499999999999]], 25: [(8.5, 3.1), 'nicht parkend', [], [3.68]], 26: [(8.0, 8.0), 'nicht parkend', [], [8.09]], 27: [(9.0, 6.9), 'nicht parkend', [], [7.6125]], 28: [(13.0, 3.0), 'nicht parkend', [], [2.5325000000000006]], 29: [(13.0, 3.0), 'nicht parkend', [], [2.5325000000000006]], 30: [(13.0, 3.0), 'nicht parkend', [], [2.5325000000000006]], 31: [(8.0, 6.6), 'nicht parkend', [], [7.3425]], 32: [(8.5, 6.5), 'nicht parkend', [], [7.31]], 33: [(13.0, 3.0), 'nicht parkend', [], [2.5325000000000006]], 34: [(8.5, 6.6), 'nicht parkend', [], [7.472499999999999]], 35: [(8.5, 5.4), 'nicht parkend', [], [6.3925]], 36: [(9.0, 5.2), 'nicht parkend', [], [6.405]], 37: [(8.0, 4.2), 'nicht parkend', [], [4.625]], 38: [(12.5, 3.5), 'nicht parkend', [], [3.1225000000000005]], 39: [(8.5, 6.4), 'nicht parkend', [], [7.31]], 40: [(9.5, 6.4), 'nicht parkend', [], [7.2250000000000005]], 41: [(8.0, 3.1), 'nicht parkend', [], [3.1525]], 42: [(9.5, 6.5), 'nicht parkend', [], [7.2250000000000005]], 43: [(9.0, 6.9), 'nicht parkend', [], [7.6125]], 44: [(9.0, 5.8), 'nicht parkend', [], [7.035]], 45: [(9.0, 4.0), 'nicht parkend', [], [5.08]], 46: [(8.5, 5.1), 'nicht parkend', [], [6.105]], 47: [(8.0, 4.3), 'nicht parkend', [], [4.9675]], 48: [(8.5, 4.9), 'nicht parkend', [], [5.8375]], 49: [(8.0, 6.0), 'nicht parkend', [], [6.595000000000001]]}\n",
      "Waiting BEV list:  []\n",
      "[960, 945, 930, 915, 900, 885, 870, 855, 840, 825, 810, 795, 780, 765, 750, 735, 720, 705, 690, 675, 660, 645, 630, 615, 600, 585, 570, 555, 540, 525, 510, 495, 480]\n",
      "\n",
      "\n",
      "Minute:  960\n",
      "Waiting BEVs (after updating new waiting BEVs):  [2, 6, 9, 10, 11, 14, 15, 17, 21, 22, 24, 26, 28, 29, 30, 33, 38, 42]\n",
      "Charging BEVs:  []\n",
      "Waiting BEVs:  [2, 6, 9, 10, 11, 14, 15, 17, 21, 22, 24, 26, 28, 29, 30, 33, 38, 42]\n",
      "CALCULATE NUMBER OF CHARGING STATIONS\n",
      "Number of charging stations:  1\n",
      "CALCULATE NUMBER OF CHARGING STATIONS\n",
      "Number of charging stations:  1\n",
      "NUMBER OF FREE CHARGING STATIONS:  1\n",
      "CALCULATE NUMBER OF CHARGING STATIONS\n",
      "Number of charging stations:  1\n",
      "AVAILABLE SOLAR POWER:  10.12\n",
      "Restladeenergie bis zur fairen Ladeenergie for BEV mit ID 2:  3.8200000000000003\n",
      "Restladezeit:  22.64822134387352\n",
      "Charging BEVs:  [2]\n",
      "\n",
      "\n",
      "Minute:  945\n",
      "Waiting BEVs (after updating new waiting BEVs):  [6, 9, 10, 11, 14, 15, 17, 21, 22, 24, 26, 28, 29, 30, 33, 38, 42]\n",
      "Charging BEVs:  [2]\n",
      "Waiting BEVs:  [6, 9, 10, 11, 14, 15, 17, 21, 22, 24, 26, 28, 29, 30, 33, 38, 42]\n",
      "Ladezeit = 15 für ID BEV 2\n",
      "Ladezeit = 15 für ID BEV 2\n",
      "CALCULATE NUMBER OF CHARGING STATIONS\n",
      "Number of charging stations:  2\n",
      "CALCULATE NUMBER OF CHARGING STATIONS\n",
      "Number of charging stations:  2\n",
      "NUMBER OF FREE CHARGING STATIONS:  1\n",
      "CALCULATE NUMBER OF CHARGING STATIONS\n",
      "Number of charging stations:  2\n",
      "AVAILABLE SOLAR POWER:  12.38\n",
      "Restladeenergie bis zur fairen Ladeenergie for BEV mit ID 2:  1.2900000000000005\n",
      "Restladezeit:  12.504038772213251\n",
      "Die Restladezeit des BEVS 2 endet vor dem nächsten Interval\n",
      "Ausgewähltes BEV das frei gewordenen Platz belegen darf:  9\n",
      "Ladestart für ausgewähltes BEV:  932.4959612277868\n",
      "6.19 CHARGING POWER WIRD FÜR NEUES BEV 9 GESPEICHERT: \n",
      "ZEITPUNKT FÜR DAS ES GESPEICHERT WIRD:  932.4959612277868\n",
      "AVAILABLE SOLAR POWER:  12.38\n",
      "Restladeenergie bis zur fairen Ladeenergie for BEV mit ID 6:  2.5325000000000006\n",
      "Restladezeit:  24.54765751211632\n",
      "Charging BEVs:  [2, 6]\n",
      "\n",
      "\n",
      "Minute:  930\n",
      "Waiting BEVs (after updating new waiting BEVs):  [10, 11, 14, 15, 17, 21, 22, 24, 26, 28, 29, 30, 33, 38, 42]\n",
      "Charging BEVs:  [6, 9]\n",
      "Waiting BEVs:  [10, 11, 14, 15, 17, 21, 22, 24, 26, 28, 29, 30, 33, 38, 42]\n",
      "Ladezeit = 15 für ID BEV 6\n",
      "Ladezeit = 2.495961227786779 für ID BEV 9\n",
      "Ladezeit = 15 für ID BEV 6\n",
      "Ladezeit = 2.495961227786779 für ID BEV 9\n",
      "CALCULATE NUMBER OF CHARGING STATIONS\n",
      "Number of charging stations:  2\n",
      "CALCULATE NUMBER OF CHARGING STATIONS\n",
      "Number of charging stations:  2\n",
      "AVAILABLE SOLAR POWER:  14.62\n",
      "Restladeenergie bis zur fairen Ladeenergie for BEV mit ID 6:  0.9850000000000005\n",
      "Restladezeit:  8.084815321477432\n",
      "Die Restladezeit des BEVS 6 endet vor dem nächsten Interval\n",
      "Ausgewähltes BEV das frei gewordenen Platz belegen darf:  10\n",
      "Ladestart für ausgewähltes BEV:  921.9151846785226\n",
      "7.31 CHARGING POWER WIRD FÜR NEUES BEV 10 GESPEICHERT: \n",
      "ZEITPUNKT FÜR DAS ES GESPEICHERT WIRD:  921.9151846785226\n",
      "AVAILABLE SOLAR POWER:  14.62\n",
      "Restladeenergie bis zur fairen Ladeenergie for BEV mit ID 9:  2.8649999999999975\n",
      "Restladezeit:  23.51573187414499\n",
      "Charging BEVs:  [6, 9]\n",
      "\n",
      "\n",
      "Minute:  915\n",
      "Waiting BEVs (after updating new waiting BEVs):  [11, 14, 15, 17, 21, 22, 24, 26, 28, 29, 30, 33, 38, 42]\n",
      "Charging BEVs:  [9, 10]\n",
      "Waiting BEVs:  [11, 14, 15, 17, 21, 22, 24, 26, 28, 29, 30, 33, 38, 42]\n",
      "Ladezeit = 17.49596122778678 für ID BEV 9\n",
      "Ladezeit = 6.915184678522564 für ID BEV 10\n",
      "Ladezeit = 17.49596122778678 für ID BEV 9\n",
      "Ladezeit = 6.915184678522564 für ID BEV 10\n",
      "CALCULATE NUMBER OF CHARGING STATIONS\n",
      "Number of charging stations:  2\n",
      "CALCULATE NUMBER OF CHARGING STATIONS\n",
      "Number of charging stations:  2\n",
      "AVAILABLE SOLAR POWER:  16.88\n",
      "Restladeenergie bis zur fairen Ladeenergie for BEV mit ID 9:  2.5609087237479753\n",
      "Restladezeit:  18.205512254132525\n",
      "AVAILABLE SOLAR POWER:  16.88\n",
      "Restladeenergie bis zur fairen Ladeenergie for BEV mit ID 10:  6.7700000000000005\n",
      "Restladezeit:  48.12796208530806\n",
      "Charging BEVs:  [9, 10]\n",
      "\n",
      "\n",
      "Minute:  900\n",
      "Waiting BEVs (after updating new waiting BEVs):  [11, 14, 15, 17, 21, 22, 24, 26, 28, 29, 30, 33, 38, 42, 1, 18, 32]\n",
      "Charging BEVs:  [9, 10]\n",
      "Waiting BEVs:  [11, 14, 15, 17, 21, 22, 24, 26, 28, 29, 30, 33, 38, 42, 1, 18, 32]\n",
      "Ladezeit = 32.49596122778678 für ID BEV 9\n",
      "Ladezeit = 21.915184678522564 für ID BEV 10\n",
      "Ladezeit = 32.49596122778678 für ID BEV 9\n",
      "Ladezeit = 21.915184678522564 für ID BEV 10\n",
      "CALCULATE NUMBER OF CHARGING STATIONS\n",
      "Number of charging stations:  2\n",
      "CALCULATE NUMBER OF CHARGING STATIONS\n",
      "Number of charging stations:  2\n",
      "AVAILABLE SOLAR POWER:  21.0\n",
      "Restladeenergie bis zur fairen Ladeenergie for BEV mit ID 9:  2.209810177705968\n",
      "Restladezeit:  12.62748672974839\n",
      "Die Restladezeit des BEVS 9 endet vor dem nächsten Interval\n",
      "Ausgewähltes BEV das frei gewordenen Platz belegen darf:  11\n",
      "Ladestart für ausgewähltes BEV:  887.3725132702516\n",
      "10.5 CHARGING POWER WIRD FÜR NEUES BEV 11 GESPEICHERT: \n",
      "ZEITPUNKT FÜR DAS ES GESPEICHERT WIRD:  887.3725132702516\n",
      "AVAILABLE SOLAR POWER:  21.0\n",
      "Restladeenergie bis zur fairen Ladeenergie for BEV mit ID 10:  5.797264021887827\n",
      "Restladezeit:  33.12722298221615\n",
      "Charging BEVs:  [9, 10]\n",
      "\n",
      "\n",
      "Minute:  885\n",
      "Waiting BEVs (after updating new waiting BEVs):  [14, 15, 17, 21, 22, 24, 26, 28, 29, 30, 33, 38, 42, 1, 18, 32]\n",
      "Charging BEVs:  [10, 11]\n",
      "Waiting BEVs:  [14, 15, 17, 21, 22, 24, 26, 28, 29, 30, 33, 38, 42, 1, 18, 32]\n",
      "Ladezeit = 36.915184678522564 für ID BEV 10\n",
      "Ladezeit = 2.372513270251602 für ID BEV 11\n",
      "Ladezeit = 36.915184678522564 für ID BEV 10\n",
      "Ladezeit = 2.372513270251602 für ID BEV 11\n",
      "CALCULATE NUMBER OF CHARGING STATIONS\n",
      "Number of charging stations:  3\n",
      "CALCULATE NUMBER OF CHARGING STATIONS\n",
      "Number of charging stations:  3\n",
      "NUMBER OF FREE CHARGING STATIONS:  1\n",
      "CALCULATE NUMBER OF CHARGING STATIONS\n",
      "Number of charging stations:  3\n",
      "AVAILABLE SOLAR POWER:  27.0\n",
      "Restladeenergie bis zur fairen Ladeenergie for BEV mit ID 10:  4.587106703146378\n",
      "Restladezeit:  30.580711354309187\n",
      "AVAILABLE SOLAR POWER:  27.0\n",
      "Restladeenergie bis zur fairen Ladeenergie for BEV mit ID 11:  2.11731017770597\n",
      "Restladezeit:  14.115401184706467\n",
      "Die Restladezeit des BEVS 11 endet vor dem nächsten Interval\n",
      "Ausgewähltes BEV das frei gewordenen Platz belegen darf:  15\n",
      "Ladestart für ausgewähltes BEV:  870.8845988152935\n",
      "9.0 CHARGING POWER WIRD FÜR NEUES BEV 15 GESPEICHERT: \n",
      "ZEITPUNKT FÜR DAS ES GESPEICHERT WIRD:  870.8845988152935\n",
      "AVAILABLE SOLAR POWER:  27.0\n",
      "Restladeenergie bis zur fairen Ladeenergie for BEV mit ID 14:  2.5325000000000006\n",
      "Restladezeit:  16.883333333333336\n",
      "Charging BEVs:  [10, 11, 14]\n",
      "\n",
      "\n",
      "Minute:  870\n",
      "Waiting BEVs (after updating new waiting BEVs):  [17, 21, 22, 24, 26, 28, 29, 30, 33, 38, 42, 1, 18, 32, 20]\n",
      "Charging BEVs:  [10, 14, 15]\n",
      "Waiting BEVs:  [17, 21, 22, 24, 26, 28, 29, 30, 33, 38, 42, 1, 18, 32, 20]\n",
      "Ladezeit = 51.915184678522564 für ID BEV 10\n",
      "Ladezeit = 15 für ID BEV 14\n",
      "Ladezeit = 0.8845988152935433 für ID BEV 15\n",
      "Ladezeit = 51.915184678522564 für ID BEV 10\n",
      "Ladezeit = 15 für ID BEV 14\n",
      "Ladezeit = 0.8845988152935433 für ID BEV 15\n",
      "CALCULATE NUMBER OF CHARGING STATIONS\n",
      "Number of charging stations:  3\n",
      "CALCULATE NUMBER OF CHARGING STATIONS\n",
      "Number of charging stations:  3\n",
      "AVAILABLE SOLAR POWER:  33.0\n",
      "Restladeenergie bis zur fairen Ladeenergie for BEV mit ID 10:  3.5498290013679936\n",
      "Restladezeit:  19.36270364382542\n",
      "AVAILABLE SOLAR POWER:  33.0\n",
      "Restladeenergie bis zur fairen Ladeenergie for BEV mit ID 14:  0.28250000000000064\n",
      "Restladezeit:  1.5409090909090943\n",
      "Die Restladezeit des BEVS 14 endet vor dem nächsten Interval\n",
      "Ausgewähltes BEV das frei gewordenen Platz belegen darf:  17\n",
      "Ladestart für ausgewähltes BEV:  868.459090909091\n",
      "11.0 CHARGING POWER WIRD FÜR NEUES BEV 17 GESPEICHERT: \n",
      "ZEITPUNKT FÜR DAS ES GESPEICHERT WIRD:  868.459090909091\n",
      "AVAILABLE SOLAR POWER:  33.0\n",
      "Restladeenergie bis zur fairen Ladeenergie for BEV mit ID 15:  7.479810177705969\n",
      "Restladezeit:  40.798964605668914\n",
      "Charging BEVs:  [10, 14, 15]\n",
      "\n",
      "\n",
      "Minute:  855\n",
      "Waiting BEVs (after updating new waiting BEVs):  [21, 22, 24, 26, 28, 29, 30, 33, 38, 42, 1, 18, 32, 20]\n",
      "Charging BEVs:  [10, 15, 17]\n",
      "Waiting BEVs:  [21, 22, 24, 26, 28, 29, 30, 33, 38, 42, 1, 18, 32, 20]\n",
      "Ladezeit = 66.91518467852256 für ID BEV 10\n",
      "Ladezeit = 15.884598815293543 für ID BEV 15\n",
      "Ladezeit = 13.459090909090946 für ID BEV 17\n",
      "Ladezeit = 66.91518467852256 für ID BEV 10\n",
      "Ladezeit = 15.884598815293543 für ID BEV 15\n",
      "Ladezeit = 13.459090909090946 für ID BEV 17\n"
     ]
    },
    {
     "name": "stdout",
     "output_type": "stream",
     "text": [
      "CALCULATE NUMBER OF CHARGING STATIONS\n",
      "Number of charging stations:  4\n",
      "CALCULATE NUMBER OF CHARGING STATIONS\n",
      "Number of charging stations:  4\n",
      "NUMBER OF FREE CHARGING STATIONS:  1\n",
      "CALCULATE NUMBER OF CHARGING STATIONS\n",
      "Number of charging stations:  4\n",
      "AVAILABLE SOLAR POWER:  39.0\n",
      "Restladeenergie bis zur fairen Ladeenergie for BEV mit ID 10:  2.2820451436388565\n",
      "Restladezeit:  14.043354730085271\n",
      "Die Restladezeit des BEVS 10 endet vor dem nächsten Interval\n",
      "Ausgewähltes BEV das frei gewordenen Platz belegen darf:  22\n",
      "Ladestart für ausgewähltes BEV:  840.9566452699147\n",
      "9.75 CHARGING POWER WIRD FÜR NEUES BEV 22 GESPEICHERT: \n",
      "ZEITPUNKT FÜR DAS ES GESPEICHERT WIRD:  840.9566452699147\n",
      "AVAILABLE SOLAR POWER:  39.0\n",
      "Restladeenergie bis zur fairen Ladeenergie for BEV mit ID 15:  7.317633728235485\n",
      "Restladezeit:  45.031592173756835\n",
      "AVAILABLE SOLAR POWER:  39.0\n",
      "Restladeenergie bis zur fairen Ladeenergie for BEV mit ID 17:  5.419999999999993\n",
      "Restladezeit:  33.353846153846106\n",
      "AVAILABLE SOLAR POWER:  39.0\n",
      "Restladeenergie bis zur fairen Ladeenergie for BEV mit ID 21:  3.8200000000000003\n",
      "Restladezeit:  23.50769230769231\n",
      "Charging BEVs:  [10, 15, 17, 21]\n",
      "\n",
      "\n",
      "Minute:  840\n",
      "Waiting BEVs (after updating new waiting BEVs):  [24, 26, 28, 29, 30, 33, 38, 42, 1, 18, 32, 20, 49]\n",
      "Charging BEVs:  [15, 17, 21, 22]\n",
      "Waiting BEVs:  [24, 26, 28, 29, 30, 33, 38, 42, 1, 18, 32, 20, 49]\n",
      "Ladezeit = 30.884598815293543 für ID BEV 15\n",
      "Ladezeit = 28.459090909090946 für ID BEV 17\n",
      "Ladezeit = 15 für ID BEV 21\n",
      "Ladezeit = 0.9566452699147021 für ID BEV 22\n",
      "Ladezeit = 30.884598815293543 für ID BEV 15\n",
      "Ladezeit = 28.459090909090946 für ID BEV 17\n",
      "Ladezeit = 15 für ID BEV 21\n",
      "Ladezeit = 0.9566452699147021 für ID BEV 22\n",
      "CALCULATE NUMBER OF CHARGING STATIONS\n",
      "Number of charging stations:  4\n",
      "CALCULATE NUMBER OF CHARGING STATIONS\n",
      "Number of charging stations:  4\n",
      "AVAILABLE SOLAR POWER:  41.25\n",
      "Restladeenergie bis zur fairen Ladeenergie for BEV mit ID 15:  7.173886420750285\n",
      "Restladezeit:  41.73897553891074\n",
      "AVAILABLE SOLAR POWER:  41.25\n",
      "Restladeenergie bis zur fairen Ladeenergie for BEV mit ID 17:  3.2328977272727135\n",
      "Restladezeit:  18.809586776859426\n",
      "AVAILABLE SOLAR POWER:  41.25\n",
      "Restladeenergie bis zur fairen Ladeenergie for BEV mit ID 21:  1.3825000000000003\n",
      "Restladezeit:  8.043636363636365\n",
      "Die Restladezeit des BEVS 21 endet vor dem nächsten Interval\n",
      "Ausgewähltes BEV das frei gewordenen Platz belegen darf:  24\n",
      "Ladestart für ausgewähltes BEV:  831.9563636363637\n",
      "10.3125 CHARGING POWER WIRD FÜR NEUES BEV 24 GESPEICHERT: \n",
      "ZEITPUNKT FÜR DAS ES GESPEICHERT WIRD:  831.9563636363637\n",
      "AVAILABLE SOLAR POWER:  41.25\n",
      "Restladeenergie bis zur fairen Ladeenergie for BEV mit ID 22:  3.664545143638861\n",
      "Restladezeit:  21.3209899266261\n",
      "Charging BEVs:  [15, 17, 21, 22]\n",
      "\n",
      "\n",
      "Minute:  825\n",
      "Waiting BEVs (after updating new waiting BEVs):  [26, 28, 29, 30, 33, 38, 42, 1, 18, 32, 20, 49]\n",
      "Charging BEVs:  [15, 17, 22, 24]\n",
      "Waiting BEVs:  [26, 28, 29, 30, 33, 38, 42, 1, 18, 32, 20, 49]\n",
      "Ladezeit = 45.88459881529354 für ID BEV 15\n",
      "Ladezeit = 43.459090909090946 für ID BEV 17\n",
      "Ladezeit = 15.956645269914702 für ID BEV 22\n",
      "Ladezeit = 6.956363636363676 für ID BEV 24\n",
      "Ladezeit = 45.88459881529354 für ID BEV 15\n",
      "Ladezeit = 43.459090909090946 für ID BEV 17\n",
      "Ladezeit = 15.956645269914702 für ID BEV 22\n",
      "Ladezeit = 6.956363636363676 für ID BEV 24\n",
      "CALCULATE NUMBER OF CHARGING STATIONS\n",
      "Number of charging stations:  4\n",
      "CALCULATE NUMBER OF CHARGING STATIONS\n",
      "Number of charging stations:  4\n",
      "AVAILABLE SOLAR POWER:  39.75\n",
      "Restladeenergie bis zur fairen Ladeenergie for BEV mit ID 15:  7.021845999371707\n",
      "Restladezeit:  42.39605131696125\n",
      "AVAILABLE SOLAR POWER:  39.75\n",
      "Restladeenergie bis zur fairen Ladeenergie for BEV mit ID 17:  0.9196164772727071\n",
      "Restladezeit:  5.552401372212571\n",
      "Die Restladezeit des BEVS 17 endet vor dem nächsten Interval\n",
      "Ausgewähltes BEV das frei gewordenen Platz belegen darf:  26\n",
      "Ladestart für ausgewähltes BEV:  819.4475986277874\n",
      "9.9375 CHARGING POWER WIRD FÜR NEUES BEV 26 GESPEICHERT: \n",
      "ZEITPUNKT FÜR DAS ES GESPEICHERT WIRD:  819.4475986277874\n",
      "AVAILABLE SOLAR POWER:  39.75\n",
      "Restladeenergie bis zur fairen Ladeenergie for BEV mit ID 22:  3.5001217378722718\n",
      "Restladezeit:  21.132810492813718\n",
      "AVAILABLE SOLAR POWER:  39.75\n",
      "Restladeenergie bis zur fairen Ladeenergie for BEV mit ID 24:  6.6918749999999925\n",
      "Restladezeit:  40.403773584905615\n",
      "Charging BEVs:  [15, 17, 22, 24]\n",
      "\n",
      "\n",
      "Minute:  810\n",
      "Waiting BEVs (after updating new waiting BEVs):  [28, 29, 30, 33, 38, 42, 1, 18, 32, 20, 49]\n",
      "Charging BEVs:  [15, 22, 24, 26]\n",
      "Waiting BEVs:  [28, 29, 30, 33, 38, 42, 1, 18, 32, 20, 49]\n",
      "Ladezeit = 60.88459881529354 für ID BEV 15\n",
      "Ladezeit = 30.956645269914702 für ID BEV 22\n",
      "Ladezeit = 21.956363636363676 für ID BEV 24\n",
      "Ladezeit = 9.447598627787443 für ID BEV 26\n",
      "Ladezeit = 60.88459881529354 für ID BEV 15\n",
      "Ladezeit = 30.956645269914702 für ID BEV 22\n",
      "Ladezeit = 21.956363636363676 für ID BEV 24\n",
      "Ladezeit = 9.447598627787443 für ID BEV 26\n",
      "CALCULATE NUMBER OF CHARGING STATIONS\n",
      "Number of charging stations:  4\n",
      "CALCULATE NUMBER OF CHARGING STATIONS\n",
      "Number of charging stations:  4\n",
      "AVAILABLE SOLAR POWER:  38.25\n",
      "Restladeenergie bis zur fairen Ladeenergie for BEV mit ID 15:  6.875334320588713\n",
      "Restladezeit:  43.139352599772316\n",
      "AVAILABLE SOLAR POWER:  38.25\n",
      "Restladeenergie bis zur fairen Ladeenergie for BEV mit ID 22:  3.3416773650426492\n",
      "Restladezeit:  20.9673873885029\n",
      "AVAILABLE SOLAR POWER:  38.25\n",
      "Restladeenergie bis zur fairen Ladeenergie for BEV mit ID 24:  5.539727272727259\n",
      "Restladezeit:  34.75907308377888\n",
      "AVAILABLE SOLAR POWER:  38.25\n",
      "Restladeenergie bis zur fairen Ladeenergie for BEV mit ID 26:  6.525241477272704\n",
      "Restladezeit:  40.94269162210324\n",
      "Charging BEVs:  [15, 22, 24, 26]\n",
      "\n",
      "\n",
      "Minute:  795\n",
      "Waiting BEVs (after updating new waiting BEVs):  [28, 29, 30, 33, 38, 42, 1, 18, 32, 20, 49]\n",
      "Charging BEVs:  [15, 22, 24, 26]\n",
      "Waiting BEVs:  [28, 29, 30, 33, 38, 42, 1, 18, 32, 20, 49]\n",
      "Ladezeit = 75.88459881529354 für ID BEV 15\n",
      "Ladezeit = 45.9566452699147 für ID BEV 22\n",
      "Ladezeit = 36.956363636363676 für ID BEV 24\n",
      "Ladezeit = 24.447598627787443 für ID BEV 26\n",
      "Ladezeit = 75.88459881529354 für ID BEV 15\n",
      "Ladezeit = 45.9566452699147 für ID BEV 22\n",
      "Ladezeit = 36.956363636363676 für ID BEV 24\n",
      "Ladezeit = 24.447598627787443 für ID BEV 26\n",
      "CALCULATE NUMBER OF CHARGING STATIONS\n",
      "Number of charging stations:  4\n",
      "CALCULATE NUMBER OF CHARGING STATIONS\n",
      "Number of charging stations:  4\n",
      "AVAILABLE SOLAR POWER:  36.75\n",
      "Restladeenergie bis zur fairen Ladeenergie for BEV mit ID 15:  6.734351384401306\n",
      "Restladezeit:  43.97943761241669\n",
      "AVAILABLE SOLAR POWER:  36.75\n",
      "Restladeenergie bis zur fairen Ladeenergie for BEV mit ID 22:  3.1892120251499936\n",
      "Restladezeit:  20.827507103020366\n",
      "AVAILABLE SOLAR POWER:  36.75\n",
      "Restladeenergie bis zur fairen Ladeenergie for BEV mit ID 24:  4.431056818181798\n",
      "Restladezeit:  28.937513914656638\n",
      "AVAILABLE SOLAR POWER:  36.75\n",
      "Restladeenergie bis zur fairen Ladeenergie for BEV mit ID 26:  5.019530445969081\n",
      "Restladezeit:  32.7806069940838\n",
      "Charging BEVs:  [15, 22, 24, 26]\n",
      "\n",
      "\n",
      "Minute:  780\n",
      "Waiting BEVs (after updating new waiting BEVs):  [28, 29, 30, 33, 38, 42, 1, 18, 32, 20, 49, 45]\n",
      "STOP PARKING BEV 28 from waiting list\n",
      "STOP PARKING BEV 29 from waiting list\n",
      "STOP PARKING BEV 30 from waiting list\n",
      "STOP PARKING BEV 33 from waiting list\n",
      "Charging BEVs:  [15, 22, 24, 26]\n",
      "Waiting BEVs:  [38, 42, 1, 18, 32, 20, 49, 45]\n",
      "Ladezeit = 90.88459881529354 für ID BEV 15\n",
      "Ladezeit = 60.9566452699147 für ID BEV 22\n",
      "Ladezeit = 51.956363636363676 für ID BEV 24\n",
      "Ladezeit = 39.44759862778744 für ID BEV 26\n",
      "Ladezeit = 90.88459881529354 für ID BEV 15\n",
      "Ladezeit = 60.9566452699147 für ID BEV 22\n",
      "Ladezeit = 51.956363636363676 für ID BEV 24\n",
      "Ladezeit = 39.44759862778744 für ID BEV 26\n",
      "CALCULATE NUMBER OF CHARGING STATIONS\n",
      "Number of charging stations:  4\n",
      "CALCULATE NUMBER OF CHARGING STATIONS\n",
      "Number of charging stations:  4\n",
      "AVAILABLE SOLAR POWER:  38.38\n",
      "Restladeenergie bis zur fairen Ladeenergie for BEV mit ID 15:  6.598897190809481\n",
      "Restladezeit:  41.264599421424585\n",
      "AVAILABLE SOLAR POWER:  38.38\n",
      "Restladeenergie bis zur fairen Ladeenergie for BEV mit ID 22:  3.042725718194305\n",
      "Restladezeit:  19.02694560621764\n",
      "AVAILABLE SOLAR POWER:  38.38\n",
      "Restladeenergie bis zur fairen Ladeenergie for BEV mit ID 24:  3.36586363636361\n",
      "Restladezeit:  21.047610024160143\n",
      "AVAILABLE SOLAR POWER:  38.38\n",
      "Restladeenergie bis zur fairen Ladeenergie for BEV mit ID 26:  3.5728669060891285\n",
      "Restladezeit:  22.34205464985385\n",
      "Charging BEVs:  [15, 22, 24, 26]\n",
      "\n",
      "\n",
      "Minute:  765\n",
      "Waiting BEVs (after updating new waiting BEVs):  [38, 42, 1, 18, 32, 20, 49, 45]\n",
      "Charging BEVs:  [15, 22, 24, 26]\n",
      "Waiting BEVs:  [38, 42, 1, 18, 32, 20, 49, 45]\n",
      "Ladezeit = 105.88459881529354 für ID BEV 15\n",
      "Ladezeit = 75.9566452699147 für ID BEV 22\n",
      "Ladezeit = 66.95636363636368 für ID BEV 24\n",
      "Ladezeit = 54.44759862778744 für ID BEV 26\n",
      "Ladezeit = 105.88459881529354 für ID BEV 15\n",
      "Ladezeit = 75.9566452699147 für ID BEV 22\n",
      "Ladezeit = 66.95636363636368 für ID BEV 24\n",
      "Ladezeit = 54.44759862778744 für ID BEV 26\n",
      "CALCULATE NUMBER OF CHARGING STATIONS\n",
      "Number of charging stations:  4\n",
      "CALCULATE NUMBER OF CHARGING STATIONS\n",
      "Number of charging stations:  4\n",
      "AVAILABLE SOLAR POWER:  43.12\n",
      "Restladeenergie bis zur fairen Ladeenergie for BEV mit ID 15:  6.457435096930455\n",
      "Restladezeit:  35.94119719998398\n",
      "AVAILABLE SOLAR POWER:  43.12\n",
      "Restladeenergie bis zur fairen Ladeenergie for BEV mit ID 22:  2.889742195447112\n",
      "Restladezeit:  16.083908323453315\n",
      "AVAILABLE SOLAR POWER:  43.12\n",
      "Restladeenergie bis zur fairen Ladeenergie for BEV mit ID 24:  2.2534251515151187\n",
      "Restladezeit:  12.54225501770938\n",
      "Die Restladezeit des BEVS 24 endet vor dem nächsten Interval\n",
      "Ausgewähltes BEV das frei gewordenen Platz belegen darf:  38\n",
      "Ladestart für ausgewähltes BEV:  752.4577449822906\n",
      "10.78 CHARGING POWER WIRD FÜR NEUES BEV 38 GESPEICHERT: \n",
      "ZEITPUNKT FÜR DAS ES GESPEICHERT WIRD:  752.4577449822906\n",
      "AVAILABLE SOLAR POWER:  43.12\n",
      "Restladeenergie bis zur fairen Ladeenergie for BEV mit ID 26:  2.0620384255287867\n",
      "Restladezeit:  11.477022776598071\n",
      "Die Restladezeit des BEVS 26 endet vor dem nächsten Interval\n",
      "Ausgewähltes BEV das frei gewordenen Platz belegen darf:  42\n",
      "Ladestart für ausgewähltes BEV:  753.5229772234019\n",
      "10.78 CHARGING POWER WIRD FÜR NEUES BEV 42 GESPEICHERT: \n",
      "ZEITPUNKT FÜR DAS ES GESPEICHERT WIRD:  753.5229772234019\n",
      "Charging BEVs:  [15, 22, 24, 26]\n",
      "\n",
      "\n",
      "Minute:  750\n",
      "Waiting BEVs (after updating new waiting BEVs):  [1, 18, 32, 20, 49, 45, 8]\n",
      "STOP PARKING BEV 38 from charging list\n",
      "Charging BEVs:  [15, 22, 42]\n",
      "Waiting BEVs:  [1, 18, 32, 20, 49, 45, 8]\n",
      "Ladezeit = 120.88459881529354 für ID BEV 15\n",
      "Ladezeit = 90.9566452699147 für ID BEV 22\n",
      "Ladezeit = 3.522977223401881 für ID BEV 42\n",
      "Ladezeit = 120.88459881529354 für ID BEV 15\n",
      "Ladezeit = 90.9566452699147 für ID BEV 22\n",
      "Ladezeit = 3.522977223401881 für ID BEV 42\n",
      "CALCULATE NUMBER OF CHARGING STATIONS\n",
      "Number of charging stations:  5\n",
      "CALCULATE NUMBER OF CHARGING STATIONS\n",
      "Number of charging stations:  5\n",
      "NUMBER OF FREE CHARGING STATIONS:  2\n",
      "CALCULATE NUMBER OF CHARGING STATIONS\n",
      "Number of charging stations:  5\n",
      "AVAILABLE SOLAR POWER:  47.88\n",
      "Restladeenergie bis zur fairen Ladeenergie for BEV mit ID 15:  6.298502176449382\n",
      "Restladezeit:  39.464299351186604\n",
      "AVAILABLE SOLAR POWER:  47.88\n",
      "Restladeenergie bis zur fairen Ladeenergie for BEV mit ID 22:  2.717864928619104\n",
      "Restladezeit:  17.02922887605955\n",
      "AVAILABLE SOLAR POWER:  47.88\n",
      "Restladeenergie bis zur fairen Ladeenergie for BEV mit ID 42:  6.592038425528796\n",
      "Restladezeit:  41.30349890682203\n",
      "AVAILABLE SOLAR POWER:  47.88\n",
      "Restladeenergie bis zur fairen Ladeenergie for BEV mit ID 1:  7.5125\n",
      "Restladezeit:  47.07080200501253\n",
      "AVAILABLE SOLAR POWER:  47.88\n",
      "Restladeenergie bis zur fairen Ladeenergie for BEV mit ID 18:  7.31\n",
      "Restladezeit:  45.802005012531325\n",
      "Charging BEVs:  [15, 22, 42, 1, 18]\n",
      "\n",
      "\n",
      "Minute:  735\n",
      "Waiting BEVs (after updating new waiting BEVs):  [32, 20, 49, 45, 8]\n",
      "Charging BEVs:  [15, 22, 42, 1, 18]\n",
      "Waiting BEVs:  [32, 20, 49, 45, 8]\n",
      "Ladezeit = 135.88459881529354 für ID BEV 15\n",
      "Ladezeit = 105.9566452699147 für ID BEV 22\n",
      "Ladezeit = 18.52297722340188 für ID BEV 42\n",
      "Ladezeit = 15 für ID BEV 1\n",
      "Ladezeit = 15 für ID BEV 18\n",
      "Ladezeit = 135.88459881529354 für ID BEV 15\n",
      "Ladezeit = 105.9566452699147 für ID BEV 22\n",
      "Ladezeit = 18.52297722340188 für ID BEV 42\n",
      "Ladezeit = 15 für ID BEV 1\n",
      "Ladezeit = 15 für ID BEV 18\n",
      "CALCULATE NUMBER OF CHARGING STATIONS\n",
      "Number of charging stations:  5\n",
      "CALCULATE NUMBER OF CHARGING STATIONS\n",
      "Number of charging stations:  5\n"
     ]
    },
    {
     "name": "stdout",
     "output_type": "stream",
     "text": [
      "AVAILABLE SOLAR POWER:  52.62\n",
      "Restladeenergie bis zur fairen Ladeenergie for BEV mit ID 15:  6.157320205528533\n",
      "Restladezeit:  35.10444815010566\n",
      "AVAILABLE SOLAR POWER:  52.62\n",
      "Restladeenergie bis zur fairen Ladeenergie for BEV mit ID 22:  2.565184343540717\n",
      "Restladezeit:  14.624768207187671\n",
      "Die Restladezeit des BEVS 22 endet vor dem nächsten Interval\n",
      "Ausgewähltes BEV das frei gewordenen Platz belegen darf:  32\n",
      "Ladestart für ausgewähltes BEV:  720.3752317928123\n",
      "10.524 CHARGING POWER WIRD FÜR NEUES BEV 32 GESPEICHERT: \n",
      "ZEITPUNKT FÜR DAS ES GESPEICHERT WIRD:  720.3752317928123\n",
      "AVAILABLE SOLAR POWER:  52.62\n",
      "Restladeenergie bis zur fairen Ladeenergie for BEV mit ID 42:  6.029771260673856\n",
      "Restladezeit:  34.37725918286121\n",
      "AVAILABLE SOLAR POWER:  52.62\n",
      "Restladeenergie bis zur fairen Ladeenergie for BEV mit ID 1:  5.1185\n",
      "Restladezeit:  29.18187001140251\n",
      "AVAILABLE SOLAR POWER:  52.62\n",
      "Restladeenergie bis zur fairen Ladeenergie for BEV mit ID 18:  4.9159999999999995\n",
      "Restladezeit:  28.027366020524514\n",
      "Charging BEVs:  [15, 22, 42, 1, 18]\n",
      "\n",
      "\n",
      "Minute:  720\n",
      "Waiting BEVs (after updating new waiting BEVs):  [20, 49, 45, 8, 12]\n",
      "Charging BEVs:  [15, 42, 1, 18, 32]\n",
      "Waiting BEVs:  [20, 49, 45, 8, 12]\n",
      "Ladezeit = 150.88459881529354 für ID BEV 15\n",
      "Ladezeit = 33.52297722340188 für ID BEV 42\n",
      "Ladezeit = 30 für ID BEV 1\n",
      "Ladezeit = 30 für ID BEV 18\n",
      "Ladezeit = 0.3752317928123148 für ID BEV 32\n",
      "Ladezeit = 150.88459881529354 für ID BEV 15\n",
      "Ladezeit = 33.52297722340188 für ID BEV 42\n",
      "Ladezeit = 30 für ID BEV 1\n",
      "Ladezeit = 30 für ID BEV 18\n",
      "Ladezeit = 0.3752317928123148 für ID BEV 32\n",
      "CALCULATE NUMBER OF CHARGING STATIONS\n",
      "Number of charging stations:  5\n",
      "CALCULATE NUMBER OF CHARGING STATIONS\n",
      "Number of charging stations:  5\n",
      "AVAILABLE SOLAR POWER:  54.38\n",
      "Restladeenergie bis zur fairen Ladeenergie for BEV mit ID 15:  6.002161573326045\n",
      "Restladezeit:  33.112329385763395\n",
      "AVAILABLE SOLAR POWER:  54.38\n",
      "Restladeenergie bis zur fairen Ladeenergie for BEV mit ID 42:  5.411841055689166\n",
      "Restladezeit:  29.85568806007263\n",
      "AVAILABLE SOLAR POWER:  54.38\n",
      "Restladeenergie bis zur fairen Ladeenergie for BEV mit ID 1:  2.4875\n",
      "Restladezeit:  13.722876057374032\n",
      "Die Restladezeit des BEVS 1 endet vor dem nächsten Interval\n",
      "Ausgewähltes BEV das frei gewordenen Platz belegen darf:  20\n",
      "Ladestart für ausgewähltes BEV:  706.277123942626\n",
      "10.876000000000001 CHARGING POWER WIRD FÜR NEUES BEV 20 GESPEICHERT: \n",
      "ZEITPUNKT FÜR DAS ES GESPEICHERT WIRD:  706.277123942626\n",
      "AVAILABLE SOLAR POWER:  54.38\n",
      "Restladeenergie bis zur fairen Ladeenergie for BEV mit ID 18:  2.2849999999999993\n",
      "Restladezeit:  12.605737403457148\n",
      "Die Restladezeit des BEVS 18 endet vor dem nächsten Interval\n",
      "Ausgewähltes BEV das frei gewordenen Platz belegen darf:  49\n",
      "Ladestart für ausgewähltes BEV:  707.3942625965428\n",
      "10.876000000000001 CHARGING POWER WIRD FÜR NEUES BEV 49 GESPEICHERT: \n",
      "ZEITPUNKT FÜR DAS ES GESPEICHERT WIRD:  707.3942625965428\n",
      "AVAILABLE SOLAR POWER:  54.38\n",
      "Restladeenergie bis zur fairen Ladeenergie for BEV mit ID 32:  7.24418434354072\n",
      "Restladezeit:  39.96423874700654\n",
      "Charging BEVs:  [15, 42, 1, 18, 32]\n",
      "\n",
      "\n",
      "Minute:  705\n",
      "Waiting BEVs (after updating new waiting BEVs):  [45, 8, 12]\n",
      "Charging BEVs:  [15, 42, 32, 20, 49]\n",
      "Waiting BEVs:  [45, 8, 12]\n",
      "Ladezeit = 165.88459881529354 für ID BEV 15\n",
      "Ladezeit = 48.52297722340188 für ID BEV 42\n",
      "Ladezeit = 15.375231792812315 für ID BEV 32\n",
      "Ladezeit = 1.2771239426259626 für ID BEV 20\n",
      "Ladezeit = 2.3942625965428306 für ID BEV 49\n",
      "Ladezeit = 165.88459881529354 für ID BEV 15\n",
      "Ladezeit = 48.52297722340188 für ID BEV 42\n",
      "Ladezeit = 15.375231792812315 für ID BEV 32\n",
      "Ladezeit = 1.2771239426259626 für ID BEV 20\n",
      "Ladezeit = 2.3942625965428306 für ID BEV 49\n",
      "CALCULATE NUMBER OF CHARGING STATIONS\n",
      "Number of charging stations:  5\n",
      "CALCULATE NUMBER OF CHARGING STATIONS\n",
      "Number of charging stations:  5\n",
      "AVAILABLE SOLAR POWER:  53.12\n",
      "Restladeenergie bis zur fairen Ladeenergie for BEV mit ID 15:  5.841813294740502\n",
      "Restladezeit:  32.9921684567423\n",
      "AVAILABLE SOLAR POWER:  53.12\n",
      "Restladeenergie bis zur fairen Ladeenergie for BEV mit ID 42:  4.773242717660517\n",
      "Restladezeit:  26.957319565100818\n",
      "AVAILABLE SOLAR POWER:  53.12\n",
      "Restladeenergie bis zur fairen Ladeenergie for BEV mit ID 32:  7.176167327230274\n",
      "Restladezeit:  40.528053429387846\n",
      "AVAILABLE SOLAR POWER:  53.12\n",
      "Restladeenergie bis zur fairen Ladeenergie for BEV mit ID 20:  6.423500000000001\n",
      "Restladezeit:  36.277296686747\n",
      "AVAILABLE SOLAR POWER:  53.12\n",
      "Restladeenergie bis zur fairen Ladeenergie for BEV mit ID 49:  6.161000000000003\n",
      "Restladezeit:  34.79480421686749\n",
      "Charging BEVs:  [15, 42, 32, 20, 49]\n",
      "\n",
      "\n",
      "Minute:  690\n",
      "Waiting BEVs (after updating new waiting BEVs):  [45, 8, 12]\n",
      "Charging BEVs:  [15, 42, 32, 20, 49]\n",
      "Waiting BEVs:  [45, 8, 12]\n",
      "Ladezeit = 180.88459881529354 für ID BEV 15\n",
      "Ladezeit = 63.52297722340188 für ID BEV 42\n",
      "Ladezeit = 30.375231792812315 für ID BEV 32\n",
      "Ladezeit = 16.277123942625963 für ID BEV 20\n",
      "Ladezeit = 17.39426259654283 für ID BEV 49\n",
      "Ladezeit = 180.88459881529354 für ID BEV 15\n",
      "Ladezeit = 63.52297722340188 für ID BEV 42\n",
      "Ladezeit = 30.375231792812315 für ID BEV 32\n",
      "Ladezeit = 16.277123942625963 für ID BEV 20\n",
      "Ladezeit = 17.39426259654283 für ID BEV 49\n",
      "CALCULATE NUMBER OF CHARGING STATIONS\n",
      "Number of charging stations:  5\n",
      "CALCULATE NUMBER OF CHARGING STATIONS\n",
      "Number of charging stations:  5\n",
      "AVAILABLE SOLAR POWER:  51.88\n",
      "Restladeenergie bis zur fairen Ladeenergie for BEV mit ID 15:  5.685180331179192\n",
      "Restladezeit:  32.87498263981799\n",
      "AVAILABLE SOLAR POWER:  51.88\n",
      "Restladeenergie bis zur fairen Ladeenergie for BEV mit ID 42:  4.149440883970158\n",
      "Restladezeit:  23.994453839457346\n",
      "AVAILABLE SOLAR POWER:  51.88\n",
      "Restladeenergie bis zur fairen Ladeenergie for BEV mit ID 32:  7.10972628444964\n",
      "Restladezeit:  41.11252670267717\n",
      "AVAILABLE SOLAR POWER:  51.88\n",
      "Restladeenergie bis zur fairen Ladeenergie for BEV mit ID 20:  6.19736392055903\n",
      "Restladezeit:  35.83672274802831\n",
      "AVAILABLE SOLAR POWER:  51.88\n",
      "Restladeenergie bis zur fairen Ladeenergie for BEV mit ID 49:  5.737055902905486\n",
      "Restladezeit:  33.174957032992396\n",
      "Charging BEVs:  [15, 42, 32, 20, 49]\n",
      "\n",
      "\n",
      "Minute:  675\n",
      "Waiting BEVs (after updating new waiting BEVs):  [45, 8, 12]\n",
      "Charging BEVs:  [15, 42, 32, 20, 49]\n",
      "Waiting BEVs:  [45, 8, 12]\n",
      "Ladezeit = 195.88459881529354 für ID BEV 15\n",
      "Ladezeit = 78.52297722340188 für ID BEV 42\n",
      "Ladezeit = 45.375231792812315 für ID BEV 32\n",
      "Ladezeit = 31.277123942625963 für ID BEV 20\n",
      "Ladezeit = 32.39426259654283 für ID BEV 49\n",
      "Ladezeit = 195.88459881529354 für ID BEV 15\n",
      "Ladezeit = 78.52297722340188 für ID BEV 42\n",
      "Ladezeit = 45.375231792812315 für ID BEV 32\n",
      "Ladezeit = 31.277123942625963 für ID BEV 20\n",
      "Ladezeit = 32.39426259654283 für ID BEV 49\n",
      "CALCULATE NUMBER OF CHARGING STATIONS\n",
      "Number of charging stations:  5\n",
      "CALCULATE NUMBER OF CHARGING STATIONS\n",
      "Number of charging stations:  5\n",
      "AVAILABLE SOLAR POWER:  50.62\n",
      "Restladeenergie bis zur fairen Ladeenergie for BEV mit ID 15:  5.532203709387762\n",
      "Restladezeit:  32.78666757835497\n",
      "AVAILABLE SOLAR POWER:  50.62\n",
      "Restladeenergie bis zur fairen Ladeenergie for BEV mit ID 42:  3.5402006894698594\n",
      "Restladezeit:  20.9810392501177\n",
      "AVAILABLE SOLAR POWER:  50.62\n",
      "Restladeenergie bis zur fairen Ladeenergie for BEV mit ID 32:  7.044836199745964\n",
      "Restladezeit:  41.75130106526648\n",
      "AVAILABLE SOLAR POWER:  50.62\n",
      "Restladeenergie bis zur fairen Ladeenergie for BEV mit ID 20:  5.976506620080913\n",
      "Restladezeit:  35.419833781593724\n",
      "AVAILABLE SOLAR POWER:  50.62\n",
      "Restladeenergie bis zur fairen Ladeenergie for BEV mit ID 49:  5.323008091210013\n",
      "Restladezeit:  31.546867391604184\n",
      "Charging BEVs:  [15, 42, 32, 20, 49]\n",
      "\n",
      "\n",
      "Minute:  660\n",
      "Waiting BEVs (after updating new waiting BEVs):  [45, 8, 12]\n",
      "Charging BEVs:  [15, 42, 32, 20, 49]\n",
      "Waiting BEVs:  [45, 8, 12]\n",
      "Ladezeit = 210.88459881529354 für ID BEV 15\n",
      "Ladezeit = 93.52297722340188 für ID BEV 42\n",
      "Ladezeit = 60.375231792812315 für ID BEV 32\n",
      "Ladezeit = 46.27712394262596 für ID BEV 20\n",
      "Ladezeit = 47.39426259654283 für ID BEV 49\n",
      "Ladezeit = 210.88459881529354 für ID BEV 15\n",
      "Ladezeit = 93.52297722340188 für ID BEV 42\n",
      "Ladezeit = 60.375231792812315 für ID BEV 32\n",
      "Ladezeit = 46.27712394262596 für ID BEV 20\n",
      "Ladezeit = 47.39426259654283 für ID BEV 49\n",
      "CALCULATE NUMBER OF CHARGING STATIONS\n",
      "Number of charging stations:  5\n",
      "CALCULATE NUMBER OF CHARGING STATIONS\n",
      "Number of charging stations:  5\n",
      "AVAILABLE SOLAR POWER:  50.12\n",
      "Restladeenergie bis zur fairen Ladeenergie for BEV mit ID 15:  5.382942402620565\n",
      "Restladezeit:  32.22032563420131\n",
      "AVAILABLE SOLAR POWER:  50.12\n",
      "Restladeenergie bis zur fairen Ladeenergie for BEV mit ID 42:  2.945756999307849\n",
      "Restladezeit:  17.632224656671085\n",
      "AVAILABLE SOLAR POWER:  50.12\n",
      "Restladeenergie bis zur fairen Ladeenergie for BEV mit ID 32:  6.981522088572099\n",
      "Restladezeit:  41.78883931707163\n",
      "AVAILABLE SOLAR POWER:  50.12\n",
      "Restladeenergie bis zur fairen Ladeenergie for BEV mit ID 20:  5.761013240161827\n",
      "Restladezeit:  34.4833194742328\n",
      "AVAILABLE SOLAR POWER:  50.12\n",
      "Restladeenergie bis zur fairen Ladeenergie for BEV mit ID 49:  4.91901618242002\n",
      "Restladezeit:  29.443432855666522\n",
      "Charging BEVs:  [15, 42, 32, 20, 49]\n",
      "\n",
      "\n",
      "Minute:  645\n",
      "Waiting BEVs (after updating new waiting BEVs):  [45, 8, 12]\n",
      "Charging BEVs:  [15, 42, 32, 20, 49]\n",
      "Waiting BEVs:  [45, 8, 12]\n",
      "Ladezeit = 225.88459881529354 für ID BEV 15\n",
      "Ladezeit = 108.52297722340188 für ID BEV 42\n",
      "Ladezeit = 75.37523179281231 für ID BEV 32\n",
      "Ladezeit = 61.27712394262596 für ID BEV 20\n",
      "Ladezeit = 62.39426259654283 für ID BEV 49\n",
      "Ladezeit = 225.88459881529354 für ID BEV 15\n",
      "Ladezeit = 108.52297722340188 für ID BEV 42\n",
      "Ladezeit = 75.37523179281231 für ID BEV 32\n",
      "Ladezeit = 61.27712394262596 für ID BEV 20\n",
      "Ladezeit = 62.39426259654283 für ID BEV 49\n",
      "CALCULATE NUMBER OF CHARGING STATIONS\n",
      "Number of charging stations:  5\n",
      "CALCULATE NUMBER OF CHARGING STATIONS\n",
      "Number of charging stations:  5\n"
     ]
    },
    {
     "name": "stdout",
     "output_type": "stream",
     "text": [
      "AVAILABLE SOLAR POWER:  50.38\n",
      "Restladeenergie bis zur fairen Ladeenergie for BEV mit ID 15:  5.235155427212191\n",
      "Restladezeit:  31.174010086614867\n",
      "AVAILABLE SOLAR POWER:  50.38\n",
      "Restladeenergie bis zur fairen Ladeenergie for BEV mit ID 42:  2.3571849378515086\n",
      "Restladezeit:  14.036432738297986\n",
      "Die Restladezeit des BEVS 42 endet vor dem nächsten Interval\n",
      "Ausgewähltes BEV das frei gewordenen Platz belegen darf:  45\n",
      "Ladestart für ausgewähltes BEV:  630.963567261702\n",
      "10.076 CHARGING POWER WIRD FÜR NEUES BEV 45 GESPEICHERT: \n",
      "ZEITPUNKT FÜR DAS ES GESPEICHERT WIRD:  630.963567261702\n",
      "AVAILABLE SOLAR POWER:  50.38\n",
      "Restladeenergie bis zur fairen Ladeenergie for BEV mit ID 32:  6.918833363719589\n",
      "Restladezeit:  41.19988108606345\n",
      "AVAILABLE SOLAR POWER:  50.38\n",
      "Restladeenergie bis zur fairen Ladeenergie for BEV mit ID 20:  5.547648400147116\n",
      "Restladezeit:  33.034825725369885\n",
      "AVAILABLE SOLAR POWER:  50.38\n",
      "Restladeenergie bis zur fairen Ladeenergie for BEV mit ID 49:  4.5190147112909305\n",
      "Restladezeit:  26.909575493991248\n",
      "Charging BEVs:  [15, 42, 32, 20, 49]\n",
      "\n",
      "\n",
      "Minute:  630\n",
      "Waiting BEVs (after updating new waiting BEVs):  [8, 12]\n",
      "Charging BEVs:  [15, 32, 20, 49, 45]\n",
      "Waiting BEVs:  [8, 12]\n",
      "Ladezeit = 240.88459881529354 für ID BEV 15\n",
      "Ladezeit = 90.37523179281231 für ID BEV 32\n",
      "Ladezeit = 76.27712394262596 für ID BEV 20\n",
      "Ladezeit = 77.39426259654283 für ID BEV 49\n",
      "Ladezeit = 0.9635672617019964 für ID BEV 45\n",
      "Ladezeit = 240.88459881529354 für ID BEV 15\n",
      "Ladezeit = 90.37523179281231 für ID BEV 32\n",
      "Ladezeit = 76.27712394262596 für ID BEV 20\n",
      "Ladezeit = 77.39426259654283 für ID BEV 49\n",
      "Ladezeit = 0.9635672617019964 für ID BEV 45\n",
      "CALCULATE NUMBER OF CHARGING STATIONS\n",
      "Number of charging stations:  5\n",
      "CALCULATE NUMBER OF CHARGING STATIONS\n",
      "Number of charging stations:  5\n",
      "AVAILABLE SOLAR POWER:  50.62\n",
      "Restladeenergie bis zur fairen Ladeenergie for BEV mit ID 15:  5.086601799497228\n",
      "Restladezeit:  30.145802841745727\n",
      "AVAILABLE SOLAR POWER:  50.62\n",
      "Restladeenergie bis zur fairen Ladeenergie for BEV mit ID 32:  6.8558194379799735\n",
      "Restladezeit:  40.6310910982614\n",
      "AVAILABLE SOLAR POWER:  50.62\n",
      "Restladeenergie bis zur fairen Ladeenergie for BEV mit ID 20:  5.333176719382129\n",
      "Restladezeit:  31.607131880968762\n",
      "AVAILABLE SOLAR POWER:  50.62\n",
      "Restladeenergie bis zur fairen Ladeenergie for BEV mit ID 49:  4.116938212578171\n",
      "Restladezeit:  24.399080675097817\n",
      "AVAILABLE SOLAR POWER:  50.62\n",
      "Restladeenergie bis zur fairen Ladeenergie for BEV mit ID 45:  4.918184937851511\n",
      "Restladezeit:  29.14767841476597\n",
      "Charging BEVs:  [15, 32, 20, 49, 45]\n",
      "\n",
      "\n",
      "Minute:  615\n",
      "Waiting BEVs (after updating new waiting BEVs):  [8, 12]\n",
      "Charging BEVs:  [15, 32, 20, 49, 45]\n",
      "Waiting BEVs:  [8, 12]\n",
      "Ladezeit = 255.88459881529354 für ID BEV 15\n",
      "Ladezeit = 105.37523179281231 für ID BEV 32\n",
      "Ladezeit = 91.27712394262596 für ID BEV 20\n",
      "Ladezeit = 92.39426259654283 für ID BEV 49\n",
      "Ladezeit = 15.963567261701996 für ID BEV 45\n",
      "Ladezeit = 255.88459881529354 für ID BEV 15\n",
      "Ladezeit = 105.37523179281231 für ID BEV 32\n",
      "Ladezeit = 91.27712394262596 für ID BEV 20\n",
      "Ladezeit = 92.39426259654283 für ID BEV 49\n",
      "Ladezeit = 15.963567261701996 für ID BEV 45\n",
      "CALCULATE NUMBER OF CHARGING STATIONS\n",
      "Number of charging stations:  5\n",
      "CALCULATE NUMBER OF CHARGING STATIONS\n",
      "Number of charging stations:  5\n",
      "AVAILABLE SOLAR POWER:  50.88\n",
      "Restladeenergie bis zur fairen Ladeenergie for BEV mit ID 15:  4.937340492730032\n",
      "Restladezeit:  29.111677433549715\n",
      "AVAILABLE SOLAR POWER:  50.88\n",
      "Restladeenergie bis zur fairen Ladeenergie for BEV mit ID 32:  6.7925053268061095\n",
      "Restladezeit:  40.05014933258319\n",
      "AVAILABLE SOLAR POWER:  50.88\n",
      "Restladeenergie bis zur fairen Ladeenergie for BEV mit ID 20:  5.117683339463041\n",
      "Restladezeit:  30.175019690230194\n",
      "AVAILABLE SOLAR POWER:  50.88\n",
      "Restladeenergie bis zur fairen Ladeenergie for BEV mit ID 49:  3.712946303788178\n",
      "Restladezeit:  21.892372074222745\n",
      "AVAILABLE SOLAR POWER:  50.88\n",
      "Restladeenergie bis zur fairen Ladeenergie for BEV mit ID 45:  4.755599021893661\n",
      "Restladezeit:  28.04008857248621\n",
      "Charging BEVs:  [15, 32, 20, 49, 45]\n",
      "\n",
      "\n",
      "Minute:  600\n",
      "Waiting BEVs (after updating new waiting BEVs):  [8, 12]\n",
      "Charging BEVs:  [15, 32, 20, 49, 45]\n",
      "Waiting BEVs:  [8, 12]\n",
      "Ladezeit = 270.88459881529354 für ID BEV 15\n",
      "Ladezeit = 120.37523179281231 für ID BEV 32\n",
      "Ladezeit = 106.27712394262596 für ID BEV 20\n",
      "Ladezeit = 107.39426259654283 für ID BEV 49\n",
      "Ladezeit = 30.963567261701996 für ID BEV 45\n",
      "Ladezeit = 270.88459881529354 für ID BEV 15\n",
      "Ladezeit = 120.37523179281231 für ID BEV 32\n",
      "Ladezeit = 106.27712394262596 für ID BEV 20\n",
      "Ladezeit = 107.39426259654283 für ID BEV 49\n",
      "Ladezeit = 30.963567261701996 für ID BEV 45\n",
      "CALCULATE NUMBER OF CHARGING STATIONS\n",
      "Number of charging stations:  5\n",
      "CALCULATE NUMBER OF CHARGING STATIONS\n",
      "Number of charging stations:  5\n",
      "AVAILABLE SOLAR POWER:  47.0\n",
      "Restladeenergie bis zur fairen Ladeenergie for BEV mit ID 15:  4.787312533656246\n",
      "Restladezeit:  30.557314044614337\n",
      "AVAILABLE SOLAR POWER:  47.0\n",
      "Restladeenergie bis zur fairen Ladeenergie for BEV mit ID 32:  6.72886601474514\n",
      "Restladezeit:  42.95020860475621\n",
      "AVAILABLE SOLAR POWER:  47.0\n",
      "Restladeenergie bis zur fairen Ladeenergie for BEV mit ID 20:  4.901083118793678\n",
      "Restladezeit:  31.283509268895813\n",
      "AVAILABLE SOLAR POWER:  47.0\n",
      "Restladeenergie bis zur fairen Ladeenergie for BEV mit ID 49:  3.306879367414514\n",
      "Restladezeit:  21.107740643071363\n",
      "AVAILABLE SOLAR POWER:  47.0\n",
      "Restladeenergie bis zur fairen Ladeenergie for BEV mit ID 45:  4.5921780143090025\n",
      "Restladezeit:  29.311774559419163\n",
      "Charging BEVs:  [15, 32, 20, 49, 45]\n",
      "\n",
      "\n",
      "Minute:  585\n",
      "Waiting BEVs (after updating new waiting BEVs):  [8, 12]\n",
      "Charging BEVs:  [15, 32, 20, 49, 45]\n",
      "Waiting BEVs:  [8, 12]\n",
      "Ladezeit = 285.88459881529354 für ID BEV 15\n",
      "Ladezeit = 135.37523179281231 für ID BEV 32\n",
      "Ladezeit = 121.27712394262596 für ID BEV 20\n",
      "Ladezeit = 122.39426259654283 für ID BEV 49\n",
      "Ladezeit = 45.963567261701996 für ID BEV 45\n",
      "Ladezeit = 285.88459881529354 für ID BEV 15\n",
      "Ladezeit = 135.37523179281231 für ID BEV 32\n",
      "Ladezeit = 121.27712394262596 für ID BEV 20\n",
      "Ladezeit = 122.39426259654283 für ID BEV 49\n",
      "Ladezeit = 45.963567261701996 für ID BEV 45\n",
      "CALCULATE NUMBER OF CHARGING STATIONS\n",
      "Number of charging stations:  4\n",
      "CALCULATE NUMBER OF CHARGING STATIONS\n",
      "Number of charging stations:  4\n",
      "AVAILABLE SOLAR POWER:  39.0\n",
      "Restladeenergie bis zur fairen Ladeenergie for BEV mit ID 15:  4.648725385926925\n",
      "Restladezeit:  35.75942604559173\n",
      "AVAILABLE SOLAR POWER:  39.0\n",
      "Restladeenergie bis zur fairen Ladeenergie for BEV mit ID 32:  6.670079700537878\n",
      "Restladezeit:  51.30830538875291\n",
      "AVAILABLE SOLAR POWER:  39.0\n",
      "Restladeenergie bis zur fairen Ladeenergie for BEV mit ID 20:  4.701000367782277\n",
      "Restladezeit:  36.161541290632904\n",
      "AVAILABLE SOLAR POWER:  39.0\n",
      "Restladeenergie bis zur fairen Ladeenergie for BEV mit ID 49:  2.9317782272894704\n",
      "Restladezeit:  22.552140209919003\n",
      "AVAILABLE SOLAR POWER:  39.0\n",
      "Restladeenergie bis zur fairen Ladeenergie for BEV mit ID 45:  4.441219143309024\n",
      "Restladezeit:  34.16322417930019\n",
      "Charging BEVs:  [15, 32, 20, 49, 45]\n",
      "\n",
      "\n",
      "Minute:  570\n",
      "Waiting BEVs (after updating new waiting BEVs):  [8, 12]\n",
      "Charging BEVs:  [15, 32, 20, 49, 45]\n",
      "Waiting BEVs:  [8, 12]\n",
      "Ladezeit = 300.88459881529354 für ID BEV 15\n",
      "Ladezeit = 150.37523179281231 für ID BEV 32\n",
      "Ladezeit = 136.27712394262596 für ID BEV 20\n",
      "Ladezeit = 137.39426259654283 für ID BEV 49\n",
      "Ladezeit = 60.963567261701996 für ID BEV 45\n",
      "Ladezeit = 300.88459881529354 für ID BEV 15\n",
      "Ladezeit = 150.37523179281231 für ID BEV 32\n",
      "Ladezeit = 136.27712394262596 für ID BEV 20\n",
      "Ladezeit = 137.39426259654283 für ID BEV 49\n",
      "Ladezeit = 60.963567261701996 für ID BEV 45\n",
      "CALCULATE NUMBER OF CHARGING STATIONS\n",
      "Number of charging stations:  3\n",
      "CALCULATE NUMBER OF CHARGING STATIONS\n",
      "Number of charging stations:  3\n",
      "AVAILABLE SOLAR POWER:  31.0\n",
      "Restladeenergie bis zur fairen Ladeenergie for BEV mit ID 15:  4.533727539938764\n",
      "Restladezeit:  43.874782644568675\n",
      "AVAILABLE SOLAR POWER:  31.0\n",
      "Restladeenergie bis zur fairen Ladeenergie for BEV mit ID 32:  6.621299567472277\n",
      "Restladezeit:  64.07709258844139\n",
      "AVAILABLE SOLAR POWER:  31.0\n",
      "Restladeenergie bis zur fairen Ladeenergie for BEV mit ID 20:  4.534974255240902\n",
      "Restladezeit:  43.886847631363565\n",
      "AVAILABLE SOLAR POWER:  31.0\n",
      "Restladeenergie bis zur fairen Ladeenergie for BEV mit ID 49:  2.620524089738902\n",
      "Restladezeit:  25.35991054586034\n",
      "AVAILABLE SOLAR POWER:  31.0\n",
      "Restladeenergie bis zur fairen Ladeenergie for BEV mit ID 45:  4.3159553992877635\n",
      "Restladezeit:  41.767310315688036\n",
      "Charging BEVs:  [15, 32, 20, 49, 45]\n",
      "\n",
      "\n",
      "Minute:  555\n",
      "Waiting BEVs (after updating new waiting BEVs):  [8, 12]\n"
     ]
    },
    {
     "name": "stdout",
     "output_type": "stream",
     "text": [
      "Charging BEVs:  [15, 32, 20, 49, 45]\n",
      "Waiting BEVs:  [8, 12]\n",
      "Ladezeit = 315.88459881529354 für ID BEV 15\n",
      "Ladezeit = 165.37523179281231 für ID BEV 32\n",
      "Ladezeit = 151.27712394262596 für ID BEV 20\n",
      "Ladezeit = 152.39426259654283 für ID BEV 49\n",
      "Ladezeit = 75.963567261702 für ID BEV 45\n",
      "Ladezeit = 315.88459881529354 für ID BEV 15\n",
      "Ladezeit = 165.37523179281231 für ID BEV 32\n",
      "Ladezeit = 151.27712394262596 für ID BEV 20\n",
      "Ladezeit = 152.39426259654283 für ID BEV 49\n",
      "Ladezeit = 75.963567261702 für ID BEV 45\n",
      "CALCULATE NUMBER OF CHARGING STATIONS\n",
      "Number of charging stations:  3\n",
      "CALCULATE NUMBER OF CHARGING STATIONS\n",
      "Number of charging stations:  3\n",
      "AVAILABLE SOLAR POWER:  23.0\n",
      "Restladeenergie bis zur fairen Ladeenergie for BEV mit ID 15:  4.442318995691764\n",
      "Restladezeit:  57.94329124815345\n",
      "AVAILABLE SOLAR POWER:  23.0\n",
      "Restladeenergie bis zur fairen Ladeenergie for BEV mit ID 32:  6.582525615548338\n",
      "Restladezeit:  85.8590297680218\n",
      "AVAILABLE SOLAR POWER:  23.0\n",
      "Restladeenergie bis zur fairen Ladeenergie for BEV mit ID 20:  4.403004781169553\n",
      "Restladezeit:  57.430497145689834\n",
      "AVAILABLE SOLAR POWER:  23.0\n",
      "Restladeenergie bis zur fairen Ladeenergie for BEV mit ID 49:  2.3731169547628097\n",
      "Restladezeit:  30.953699409949692\n",
      "AVAILABLE SOLAR POWER:  23.0\n",
      "Restladeenergie bis zur fairen Ladeenergie for BEV mit ID 45:  4.216386782245224\n",
      "Restladezeit:  54.99634933363337\n",
      "Charging BEVs:  [15, 32, 20, 49, 45]\n",
      "\n",
      "\n",
      "Minute:  540\n",
      "Waiting BEVs (after updating new waiting BEVs):  [8, 12]\n",
      "STOP PARKING BEV 15 from charging list\n",
      "STOP PARKING BEV 20 from charging list\n",
      "STOP PARKING BEV 45 from charging list\n",
      "Charging BEVs:  [32, 49]\n",
      "Waiting BEVs:  [8, 12]\n",
      "Ladezeit = 180.37523179281231 für ID BEV 32\n",
      "Ladezeit = 167.39426259654283 für ID BEV 49\n",
      "Ladezeit = 180.37523179281231 für ID BEV 32\n",
      "Ladezeit = 167.39426259654283 für ID BEV 49\n",
      "CALCULATE NUMBER OF CHARGING STATIONS\n",
      "Number of charging stations:  2\n",
      "CALCULATE NUMBER OF CHARGING STATIONS\n",
      "Number of charging stations:  2\n",
      "AVAILABLE SOLAR POWER:  16.38\n",
      "Restladeenergie bis zur fairen Ladeenergie for BEV mit ID 32:  6.553757844766061\n",
      "Restladezeit:  48.01287798363415\n",
      "AVAILABLE SOLAR POWER:  16.38\n",
      "Restladeenergie bis zur fairen Ladeenergie for BEV mit ID 49:  2.189556822361193\n",
      "Restladezeit:  16.040709321327423\n",
      "Charging BEVs:  [32, 49]\n",
      "\n",
      "\n",
      "Minute:  525\n",
      "Waiting BEVs (after updating new waiting BEVs):  [8, 12]\n",
      "Charging BEVs:  [32, 49]\n",
      "Waiting BEVs:  [8, 12]\n",
      "Ladezeit = 195.37523179281231 für ID BEV 32\n",
      "Ladezeit = 182.39426259654283 für ID BEV 49\n",
      "Ladezeit = 195.37523179281231 für ID BEV 32\n",
      "Ladezeit = 182.39426259654283 für ID BEV 49\n",
      "CALCULATE NUMBER OF CHARGING STATIONS\n",
      "Number of charging stations:  2\n",
      "CALCULATE NUMBER OF CHARGING STATIONS\n",
      "Number of charging stations:  2\n",
      "AVAILABLE SOLAR POWER:  11.12\n",
      "Restladeenergie bis zur fairen Ladeenergie for BEV mit ID 32:  6.502538705047179\n",
      "Restladezeit:  70.17128098971777\n",
      "AVAILABLE SOLAR POWER:  11.12\n",
      "Restladeenergie bis zur fairen Ladeenergie for BEV mit ID 49:  1.8627399779330966\n",
      "Restladezeit:  20.101510553234856\n",
      "Charging BEVs:  [32, 49]\n",
      "\n",
      "\n",
      "Minute:  510\n",
      "Waiting BEVs (after updating new waiting BEVs):  [8, 12]\n",
      "STOP PARKING BEV 8 from waiting list\n",
      "STOP PARKING BEV 12 from waiting list\n",
      "STOP PARKING BEV 32 from charging list\n",
      "Charging BEVs:  [49]\n",
      "Waiting BEVs:  []\n",
      "Ladezeit = 197.39426259654283 für ID BEV 49\n",
      "Ladezeit = 197.39426259654283 für ID BEV 49\n",
      "CALCULATE NUMBER OF CHARGING STATIONS\n",
      "Number of charging stations:  1\n",
      "CALCULATE NUMBER OF CHARGING STATIONS\n",
      "Number of charging stations:  1\n",
      "AVAILABLE SOLAR POWER:  5.87\n",
      "Restladeenergie bis zur fairen Ladeenergie for BEV mit ID 49:  1.6408716439867943\n",
      "Restladezeit:  16.77211220429432\n",
      "Charging BEVs:  [49]\n",
      "\n",
      "\n",
      "Minute:  495\n",
      "Waiting BEVs (after updating new waiting BEVs):  []\n",
      "Charging BEVs:  [49]\n",
      "Waiting BEVs:  []\n",
      "Ladezeit = 212.39426259654283 für ID BEV 49\n",
      "Ladezeit = 212.39426259654283 für ID BEV 49\n",
      "CALCULATE NUMBER OF CHARGING STATIONS\n",
      "Number of charging stations:  1\n",
      "CALCULATE NUMBER OF CHARGING STATIONS\n",
      "Number of charging stations:  1\n",
      "AVAILABLE SOLAR POWER:  0.62\n",
      "Restladeenergie bis zur fairen Ladeenergie for BEV mit ID 49:  1.4066329532916875\n",
      "Restladezeit:  136.12576967338913\n",
      "Charging BEVs:  [49]\n",
      "\n",
      "\n",
      "Minute:  480\n",
      "Waiting BEVs (after updating new waiting BEVs):  []\n",
      "STOP PARKING BEV 49 from charging list\n",
      "Charging BEVs:  []\n",
      "Waiting BEVs:  []\n",
      "CALCULATE NUMBER OF CHARGING STATIONS\n",
      "Number of charging stations:  0\n",
      "CALCULATE NUMBER OF CHARGING STATIONS\n",
      "Number of charging stations:  0\n",
      "Charging BEVs:  []\n",
      "OPTIMIZATION DONE\n",
      "BEVs dict:  {0: [(12.0, 3.1), 'nicht parkend', [], [3.405]], 1: [(8.0, 7.0), 'wartend', [(750, 43.72287605737404, 7.5125)], [7.5125]], 2: [(12.0, 4.0), 'wartend', [(960, 27.50403877221322, 3.8200000000000003)], [3.8200000000000003]], 3: [(8.5, 4.2), 'nicht parkend', [], [5.0725]], 4: [(9.0, 6.8), 'nicht parkend', [], [7.6125]], 5: [(8.5, 3.4), 'nicht parkend', [], [4.0675]], 6: [(13.0, 3.0), 'wartend', [(945, 23.084815321477436, 2.5325000000000006)], [2.5325000000000006]], 7: [(8.5, 6.8), 'nicht parkend', [], [7.632499999999999]], 8: [(8.5, 4.0), 'nicht parkend', [], [4.765]], 9: [(12.5, 3.5), 'wartend', [(932.4959612277868, 45.12344795753518, 3.1225000000000005)], [3.1225000000000005]], 10: [(9.0, 7.0), 'wartend', [(921.9151846785226, 80.95853940860786, 7.6125)], [7.6125]], 11: [(13.0, 3.0), 'wartend', [(887.3725132702516, 16.48791445495806, 2.5325000000000006)], [2.5325000000000006]], 12: [(8.5, 3.5), 'nicht parkend', [], [4.0675]], 13: [(8.0, 5.1), 'nicht parkend', [], [5.7875000000000005]], 14: [(13.0, 3.0), 'wartend', [(885, 16.540909090909054, 2.5325000000000006)], [2.5325000000000006]], 15: [(9.0, 7.0), 'nicht parkend', [(870.8845988152935, 315.88459881529354, 3.1701810043082355)], [7.6125]], 16: [(8.5, 4.6), 'nicht parkend', [], [5.585]], 17: [(8.5, 7.5), 'wartend', [(868.459090909091, 49.011492281303504, 7.887499999999999)], [7.887499999999999]], 18: [(8.5, 6.5), 'wartend', [(750, 42.60573740345717, 7.31)], [7.31]], 19: [(8.5, 6.7), 'nicht parkend', [], [7.472499999999999]], 20: [(9.0, 5.5), 'nicht parkend', [(706.277123942626, 151.27712394262596, 2.2519952188304475)], [6.655]], 21: [(12.0, 4.0), 'wartend', [(855, 23.043636363636324, 3.8200000000000003)], [3.8200000000000003]], 22: [(12.0, 4.0), 'wartend', [(840.9566452699147, 120.58141347710239, 3.8200000000000003)], [3.8200000000000003]], 23: [(9.0, 3.2), 'nicht parkend', [], [4.1475]], 24: [(8.5, 7.5), 'wartend', [(831.9563636363637, 79.49861865407308, 7.887499999999999)], [7.887499999999999]], 25: [(8.5, 3.1), 'nicht parkend', [], [3.68]], 26: [(8.0, 8.0), 'wartend', [(819.4475986277874, 65.92462140438556, 8.09)], [8.09]], 27: [(9.0, 6.9), 'nicht parkend', [], [7.6125]], 28: [(13.0, 3.0), 'nicht parkend', [], [2.5325000000000006]], 29: [(13.0, 3.0), 'nicht parkend', [], [2.5325000000000006]], 30: [(13.0, 3.0), 'nicht parkend', [], [2.5325000000000006]], 31: [(8.0, 6.6), 'nicht parkend', [], [7.3425]], 32: [(8.5, 6.5), 'nicht parkend', [(720.3752317928123, 195.37523179281231, 0.80746129495282)], [7.31]], 33: [(13.0, 3.0), 'nicht parkend', [], [2.5325000000000006]], 34: [(8.5, 6.6), 'nicht parkend', [], [7.472499999999999]], 35: [(8.5, 5.4), 'nicht parkend', [], [6.3925]], 36: [(9.0, 5.2), 'nicht parkend', [], [6.405]], 37: [(8.0, 4.2), 'nicht parkend', [], [4.625]], 38: [(12.5, 3.5), 'nicht parkend', [(752.4577449822906, 0, 0)], [3.1225000000000005]], 39: [(8.5, 6.4), 'nicht parkend', [], [7.31]], 40: [(9.5, 6.4), 'nicht parkend', [], [7.2250000000000005]], 41: [(8.0, 3.1), 'nicht parkend', [], [3.1525]], 42: [(9.5, 6.5), 'wartend', [(753.5229772234019, 122.55940996169988, 7.2250000000000005)], [7.2250000000000005]], 43: [(9.0, 6.9), 'nicht parkend', [], [7.6125]], 44: [(9.0, 5.8), 'nicht parkend', [], [7.035]], 45: [(9.0, 4.0), 'nicht parkend', [(630.963567261702, 75.963567261702, 0.8636132177547758)], [5.08]], 46: [(8.5, 5.1), 'nicht parkend', [], [6.105]], 47: [(8.0, 4.3), 'nicht parkend', [], [4.9675]], 48: [(8.5, 4.9), 'nicht parkend', [], [5.8375]], 49: [(8.0, 6.0), 'nicht parkend', [(707.3942625965428, 212.39426259654283, 5.188367046708313)], [6.595000000000001]]}\n",
      "\n",
      "\n",
      "Minute:  480\n",
      "Charging BEVs after updating parking end:  []\n",
      "Waiting BEVs:  []\n",
      "CALCULATE NUMBER OF CHARGING STATIONS\n",
      "Number of charging stations:  1\n",
      "CALCULATE NUMBER OF CHARGING STATIONS\n",
      "Number of charging stations:  1\n",
      "NUMBER OF FREE CHARGING STATIONS:  1\n",
      "OVERWRITE INITIAL CHARGING DATA\n",
      "CALCULATE NUMBER OF CHARGING STATIONS\n",
      "Number of charging stations:  1\n",
      "Charging BEVs (nachdem neue Plätze belegt):  [1]\n",
      "AVAILABLE SOLAR POWER:  0.62\n",
      "Restladeenergie bis zur fairen Ladeenergie for BEV mit ID 1:  7.5125\n",
      "Restladezeit:  727.016129032258\n",
      "Charging BEVs:  [1]\n",
      "\n",
      "\n",
      "Minute:  495\n",
      "Charging BEVs after updating parking end:  [1]\n",
      "Waiting BEVs:  [13, 26, 31, 37, 41, 47, 49]\n",
      "CALCULATE NUMBER OF CHARGING STATIONS\n",
      "Number of charging stations:  1\n",
      "CALCULATE NUMBER OF CHARGING STATIONS\n",
      "Number of charging stations:  1\n",
      "Charging BEVs (nachdem neue Plätze belegt):  [1]\n",
      "AVAILABLE SOLAR POWER:  5.87\n",
      "Restladeenergie bis zur fairen Ladeenergie for BEV mit ID 1:  7.3575\n",
      "Restladezeit:  75.20442930153322\n",
      "Charging BEVs:  [1]\n",
      "\n",
      "\n",
      "Minute:  510\n",
      "Charging BEVs after updating parking end:  [1]\n",
      "Waiting BEVs:  [13, 26, 31, 37, 41, 47, 49]\n",
      "CALCULATE NUMBER OF CHARGING STATIONS\n",
      "Number of charging stations:  2\n",
      "CALCULATE NUMBER OF CHARGING STATIONS\n",
      "Number of charging stations:  2\n",
      "NUMBER OF FREE CHARGING STATIONS:  1\n",
      "CALCULATE NUMBER OF CHARGING STATIONS\n",
      "Number of charging stations:  2\n",
      "Charging BEVs (nachdem neue Plätze belegt):  [1, 13]\n",
      "AVAILABLE SOLAR POWER:  11.12\n",
      "Restladeenergie bis zur fairen Ladeenergie for BEV mit ID 1:  5.890000000000001\n",
      "Restladezeit:  63.56115107913669\n",
      "AVAILABLE SOLAR POWER:  11.12\n",
      "Restladeenergie bis zur fairen Ladeenergie for BEV mit ID 13:  5.7875000000000005\n",
      "Restladezeit:  62.455035971223026\n",
      "Charging BEVs:  [1, 13]\n",
      "\n",
      "\n",
      "Minute:  525\n",
      "Charging BEVs after updating parking end:  [1, 13]\n",
      "Waiting BEVs:  [26, 31, 37, 41, 47, 49, 3, 5, 7, 8, 12, 16, 17, 18, 19, 24, 25, 32, 34, 35, 39, 46, 48]\n"
     ]
    },
    {
     "name": "stdout",
     "output_type": "stream",
     "text": [
      "CALCULATE NUMBER OF CHARGING STATIONS\n",
      "Number of charging stations:  2\n",
      "CALCULATE NUMBER OF CHARGING STATIONS\n",
      "Number of charging stations:  2\n",
      "Charging BEVs (nachdem neue Plätze belegt):  [1, 13]\n",
      "AVAILABLE SOLAR POWER:  16.38\n",
      "Restladeenergie bis zur fairen Ladeenergie for BEV mit ID 1:  4.5\n",
      "Restladezeit:  32.96703296703297\n",
      "AVAILABLE SOLAR POWER:  16.38\n",
      "Restladeenergie bis zur fairen Ladeenergie for BEV mit ID 13:  4.397500000000001\n",
      "Restladezeit:  32.21611721611722\n",
      "Charging BEVs:  [1, 13]\n",
      "\n",
      "\n",
      "Minute:  540\n",
      "Charging BEVs after updating parking end:  [1, 13]\n",
      "Waiting BEVs:  [26, 31, 37, 41, 47, 49, 3, 5, 7, 8, 12, 16, 17, 18, 19, 24, 25, 32, 34, 35, 39, 46, 48]\n",
      "CALCULATE NUMBER OF CHARGING STATIONS\n",
      "Number of charging stations:  3\n",
      "CALCULATE NUMBER OF CHARGING STATIONS\n",
      "Number of charging stations:  3\n",
      "NUMBER OF FREE CHARGING STATIONS:  1\n",
      "OVERWRITE INITIAL CHARGING DATA\n",
      "CALCULATE NUMBER OF CHARGING STATIONS\n",
      "Number of charging stations:  3\n",
      "Charging BEVs (nachdem neue Plätze belegt):  [1, 13, 26]\n",
      "AVAILABLE SOLAR POWER:  23.0\n",
      "Restladeenergie bis zur fairen Ladeenergie for BEV mit ID 1:  2.4524999999999997\n",
      "Restladezeit:  19.19347826086956\n",
      "AVAILABLE SOLAR POWER:  23.0\n",
      "Restladeenergie bis zur fairen Ladeenergie for BEV mit ID 13:  2.3500000000000005\n",
      "Restladezeit:  18.39130434782609\n",
      "AVAILABLE SOLAR POWER:  23.0\n",
      "Restladeenergie bis zur fairen Ladeenergie for BEV mit ID 26:  8.09\n",
      "Restladezeit:  63.31304347826086\n",
      "Charging BEVs:  [1, 13, 26]\n",
      "\n",
      "\n",
      "Minute:  555\n",
      "Charging BEVs after updating parking end:  [1, 13, 26]\n",
      "Waiting BEVs:  [31, 37, 41, 47, 49, 3, 5, 7, 8, 12, 16, 17, 18, 19, 24, 25, 32, 34, 35, 39, 46, 48, 4, 10, 15, 20, 23, 27, 36, 43, 44, 45]\n",
      "CALCULATE NUMBER OF CHARGING STATIONS\n",
      "Number of charging stations:  3\n",
      "CALCULATE NUMBER OF CHARGING STATIONS\n",
      "Number of charging stations:  3\n",
      "Charging BEVs (nachdem neue Plätze belegt):  [1, 13, 26]\n",
      "AVAILABLE SOLAR POWER:  31.0\n",
      "Restladeenergie bis zur fairen Ladeenergie for BEV mit ID 1:  0.5358333333333327\n",
      "Restladezeit:  3.1112903225806416\n",
      "Die Restladezeit des BEVS 1 endet vor dem nächsten Interval\n",
      "Ausgewähltes BEV das frei gewordenen Platz belegen darf:  31\n",
      "Ladestart für ausgewähltes BEV:  558.1112903225807\n",
      "10.333333333333334 CHARGING POWER WIRD FÜR NEUES BEV 31 GESPEICHERT: \n",
      "ZEITPUNKT FÜR DAS ES GESPEICHERT WIRD:  558.1112903225807\n",
      "AVAILABLE SOLAR POWER:  31.0\n",
      "Restladeenergie bis zur fairen Ladeenergie for BEV mit ID 13:  0.43333333333333357\n",
      "Restladezeit:  2.516129032258066\n",
      "Die Restladezeit des BEVS 13 endet vor dem nächsten Interval\n",
      "Ausgewähltes BEV das frei gewordenen Platz belegen darf:  37\n",
      "Ladestart für ausgewähltes BEV:  557.516129032258\n",
      "10.333333333333334 CHARGING POWER WIRD FÜR NEUES BEV 37 GESPEICHERT: \n",
      "ZEITPUNKT FÜR DAS ES GESPEICHERT WIRD:  557.516129032258\n",
      "AVAILABLE SOLAR POWER:  31.0\n",
      "Restladeenergie bis zur fairen Ladeenergie for BEV mit ID 26:  6.173333333333333\n",
      "Restladezeit:  35.84516129032257\n",
      "Charging BEVs:  [1, 13, 26]\n",
      "\n",
      "\n",
      "Minute:  570\n",
      "Charging BEVs after updating parking end:  [26, 31, 37]\n",
      "Waiting BEVs:  [41, 47, 49, 3, 5, 7, 8, 12, 16, 17, 18, 19, 24, 25, 32, 34, 35, 39, 46, 48, 4, 10, 15, 20, 23, 27, 36, 43, 44, 45]\n",
      "CALCULATE NUMBER OF CHARGING STATIONS\n",
      "Number of charging stations:  4\n",
      "CALCULATE NUMBER OF CHARGING STATIONS\n",
      "Number of charging stations:  4\n",
      "NUMBER OF FREE CHARGING STATIONS:  1\n",
      "CALCULATE NUMBER OF CHARGING STATIONS\n",
      "Number of charging stations:  4\n",
      "Charging BEVs (nachdem neue Plätze belegt):  [26, 31, 37, 41]\n",
      "AVAILABLE SOLAR POWER:  39.0\n",
      "Restladeenergie bis zur fairen Ladeenergie for BEV mit ID 26:  3.59\n",
      "Restladezeit:  22.092307692307692\n",
      "AVAILABLE SOLAR POWER:  39.0\n",
      "Restladeenergie bis zur fairen Ladeenergie for BEV mit ID 31:  5.295000000000003\n",
      "Restladezeit:  32.584615384615404\n",
      "AVAILABLE SOLAR POWER:  39.0\n",
      "Restladeenergie bis zur fairen Ladeenergie for BEV mit ID 37:  2.4749999999999974\n",
      "Restladezeit:  15.230769230769214\n",
      "AVAILABLE SOLAR POWER:  39.0\n",
      "Restladeenergie bis zur fairen Ladeenergie for BEV mit ID 41:  3.1525\n",
      "Restladezeit:  19.4\n",
      "Charging BEVs:  [26, 31, 37, 41]\n",
      "\n",
      "\n",
      "Minute:  585\n",
      "Charging BEVs after updating parking end:  [26, 31, 37, 41]\n",
      "Waiting BEVs:  [47, 49, 3, 5, 7, 8, 12, 16, 17, 18, 19, 24, 25, 32, 34, 35, 39, 46, 48, 4, 10, 15, 20, 23, 27, 36, 43, 44, 45, 40, 42]\n",
      "CALCULATE NUMBER OF CHARGING STATIONS\n",
      "Number of charging stations:  5\n",
      "CALCULATE NUMBER OF CHARGING STATIONS\n",
      "Number of charging stations:  5\n",
      "NUMBER OF FREE CHARGING STATIONS:  1\n",
      "CALCULATE NUMBER OF CHARGING STATIONS\n",
      "Number of charging stations:  5\n",
      "Charging BEVs (nachdem neue Plätze belegt):  [26, 31, 37, 41, 47]\n",
      "AVAILABLE SOLAR POWER:  47.0\n",
      "Restladeenergie bis zur fairen Ladeenergie for BEV mit ID 26:  1.1524999999999999\n",
      "Restladezeit:  7.356382978723403\n",
      "Die Restladezeit des BEVS 26 endet vor dem nächsten Interval\n",
      "Ausgewähltes BEV das frei gewordenen Platz belegen darf:  49\n",
      "Ladestart für ausgewähltes BEV:  592.3563829787234\n",
      "9.4 CHARGING POWER WIRD FÜR NEUES BEV 49 GESPEICHERT: \n",
      "ZEITPUNKT FÜR DAS ES GESPEICHERT WIRD:  592.3563829787234\n",
      "AVAILABLE SOLAR POWER:  47.0\n",
      "Restladeenergie bis zur fairen Ladeenergie for BEV mit ID 31:  3.3630846774193595\n",
      "Restladezeit:  21.466497940974634\n",
      "AVAILABLE SOLAR POWER:  47.0\n",
      "Restladeenergie bis zur fairen Ladeenergie for BEV mit ID 37:  0.44637096774193097\n",
      "Restladezeit:  2.8491763898421123\n",
      "Die Restladezeit des BEVS 37 endet vor dem nächsten Interval\n",
      "Ausgewähltes BEV das frei gewordenen Platz belegen darf:  3\n",
      "Ladestart für ausgewähltes BEV:  587.8491763898421\n",
      "9.4 CHARGING POWER WIRD FÜR NEUES BEV 3 GESPEICHERT: \n",
      "ZEITPUNKT FÜR DAS ES GESPEICHERT WIRD:  587.8491763898421\n",
      "AVAILABLE SOLAR POWER:  47.0\n",
      "Restladeenergie bis zur fairen Ladeenergie for BEV mit ID 41:  0.7149999999999999\n",
      "Restladezeit:  4.563829787234042\n",
      "Die Restladezeit des BEVS 41 endet vor dem nächsten Interval\n",
      "Ausgewähltes BEV das frei gewordenen Platz belegen darf:  5\n",
      "Ladestart für ausgewähltes BEV:  589.563829787234\n",
      "9.4 CHARGING POWER WIRD FÜR NEUES BEV 5 GESPEICHERT: \n",
      "ZEITPUNKT FÜR DAS ES GESPEICHERT WIRD:  589.563829787234\n",
      "AVAILABLE SOLAR POWER:  47.0\n",
      "Restladeenergie bis zur fairen Ladeenergie for BEV mit ID 47:  4.9675\n",
      "Restladezeit:  31.707446808510642\n",
      "Charging BEVs:  [26, 31, 37, 41, 47]\n",
      "\n",
      "\n",
      "Minute:  600\n",
      "Charging BEVs after updating parking end:  [31, 47, 49, 3, 5]\n",
      "Waiting BEVs:  [7, 8, 12, 16, 17, 18, 19, 24, 25, 32, 34, 35, 39, 46, 48, 4, 10, 15, 20, 23, 27, 36, 43, 44, 45, 40, 42]\n",
      "CALCULATE NUMBER OF CHARGING STATIONS\n",
      "Number of charging stations:  5\n",
      "CALCULATE NUMBER OF CHARGING STATIONS\n",
      "Number of charging stations:  5\n",
      "Charging BEVs (nachdem neue Plätze belegt):  [31, 47, 49, 3, 5]\n",
      "AVAILABLE SOLAR POWER:  50.88\n",
      "Restladeenergie bis zur fairen Ladeenergie for BEV mit ID 31:  1.5005201612903294\n",
      "Restladezeit:  8.84740661138166\n",
      "Die Restladezeit des BEVS 31 endet vor dem nächsten Interval\n",
      "Ausgewähltes BEV das frei gewordenen Platz belegen darf:  7\n",
      "Ladestart für ausgewähltes BEV:  608.8474066113816\n",
      "10.176 CHARGING POWER WIRD FÜR NEUES BEV 7 GESPEICHERT: \n",
      "ZEITPUNKT FÜR DAS ES GESPEICHERT WIRD:  608.8474066113816\n",
      "AVAILABLE SOLAR POWER:  50.88\n",
      "Restladeenergie bis zur fairen Ladeenergie for BEV mit ID 47:  2.6175\n",
      "Restladezeit:  15.433372641509436\n",
      "AVAILABLE SOLAR POWER:  50.88\n",
      "Restladeenergie bis zur fairen Ladeenergie for BEV mit ID 49:  5.397500000000007\n",
      "Restladezeit:  31.824882075471738\n",
      "AVAILABLE SOLAR POWER:  50.88\n",
      "Restladeenergie bis zur fairen Ladeenergie for BEV mit ID 3:  3.168870967741931\n",
      "Restladezeit:  18.68438070602554\n",
      "AVAILABLE SOLAR POWER:  50.88\n",
      "Restladeenergie bis zur fairen Ladeenergie for BEV mit ID 5:  2.432499999999993\n",
      "Restladezeit:  14.34257075471694\n",
      "Die Restladezeit des BEVS 5 endet vor dem nächsten Interval\n",
      "Ausgewähltes BEV das frei gewordenen Platz belegen darf:  8\n",
      "Ladestart für ausgewähltes BEV:  614.3425707547169\n",
      "10.176 CHARGING POWER WIRD FÜR NEUES BEV 8 GESPEICHERT: \n",
      "ZEITPUNKT FÜR DAS ES GESPEICHERT WIRD:  614.3425707547169\n",
      "Charging BEVs:  [31, 47, 49, 3, 5]\n",
      "\n",
      "\n",
      "Minute:  615\n",
      "Charging BEVs after updating parking end:  [47, 49, 3, 7, 8]\n",
      "Waiting BEVs:  [12, 16, 17, 18, 19, 24, 25, 32, 34, 35, 39, 46, 48, 4, 10, 15, 20, 23, 27, 36, 43, 44, 45, 40, 42]\n",
      "CALCULATE NUMBER OF CHARGING STATIONS\n",
      "Number of charging stations:  5\n",
      "CALCULATE NUMBER OF CHARGING STATIONS\n",
      "Number of charging stations:  5\n",
      "Charging BEVs (nachdem neue Plätze belegt):  [47, 49, 3, 7, 8]\n",
      "AVAILABLE SOLAR POWER:  50.62\n",
      "Restladeenergie bis zur fairen Ladeenergie for BEV mit ID 47:  0.07350000000000012\n",
      "Restladezeit:  0.43559857763729826\n",
      "Die Restladezeit des BEVS 47 endet vor dem nächsten Interval\n",
      "Ausgewähltes BEV das frei gewordenen Platz belegen darf:  12\n",
      "Ladestart für ausgewähltes BEV:  615.4355985776373\n",
      "10.123999999999999 CHARGING POWER WIRD FÜR NEUES BEV 12 GESPEICHERT: \n",
      "ZEITPUNKT FÜR DAS ES GESPEICHERT WIRD:  615.4355985776373\n",
      "AVAILABLE SOLAR POWER:  50.62\n",
      "Restladeenergie bis zur fairen Ladeenergie for BEV mit ID 49:  4.101142553191504\n",
      "Restladezeit:  24.305467521877738\n",
      "AVAILABLE SOLAR POWER:  50.62\n",
      "Restladeenergie bis zur fairen Ladeenergie for BEV mit ID 3:  1.108091283459153\n",
      "Restladezeit:  6.567115468940061\n",
      "Die Restladezeit des BEVS 3 endet vor dem nächsten Interval\n",
      "Ausgewähltes BEV das frei gewordenen Platz belegen darf:  16\n",
      "Ladestart für ausgewähltes BEV:  621.5671154689401\n",
      "10.123999999999999 CHARGING POWER WIRD FÜR NEUES BEV 16 GESPEICHERT: \n",
      "ZEITPUNKT FÜR DAS ES GESPEICHERT WIRD:  621.5671154689401\n",
      "AVAILABLE SOLAR POWER:  50.62\n",
      "Restladeenergie bis zur fairen Ladeenergie for BEV mit ID 7:  6.5890201612903265\n",
      "Restladezeit:  39.04990218070127\n",
      "AVAILABLE SOLAR POWER:  50.62\n",
      "Restladeenergie bis zur fairen Ladeenergie for BEV mit ID 8:  4.653499999999989\n",
      "Restladezeit:  27.57902015013822\n",
      "Charging BEVs:  [47, 49, 3, 7, 8]\n",
      "\n",
      "\n",
      "Minute:  630\n",
      "Charging BEVs after updating parking end:  [49, 7, 8, 12, 16]\n",
      "Waiting BEVs:  [17, 18, 19, 24, 25, 32, 34, 35, 39, 46, 48, 4, 10, 15, 20, 23, 27, 36, 43, 44, 45, 40, 42]\n",
      "CALCULATE NUMBER OF CHARGING STATIONS\n",
      "Number of charging stations:  5\n",
      "CALCULATE NUMBER OF CHARGING STATIONS\n",
      "Number of charging stations:  5\n",
      "Charging BEVs (nachdem neue Plätze belegt):  [49, 7, 8, 12, 16]\n",
      "AVAILABLE SOLAR POWER:  50.38\n",
      "Restladeenergie bis zur fairen Ladeenergie for BEV mit ID 49:  2.8114095744681062\n",
      "Restladezeit:  16.74122414331941\n",
      "AVAILABLE SOLAR POWER:  50.38\n",
      "Restladeenergie bis zur fairen Ladeenergie for BEV mit ID 7:  5.550872570184122\n",
      "Restladezeit:  33.05402483237866\n",
      "AVAILABLE SOLAR POWER:  50.38\n",
      "Restladeenergie bis zur fairen Ladeenergie for BEV mit ID 8:  4.542569772012556\n",
      "Restladezeit:  27.049839849221257\n",
      "AVAILABLE SOLAR POWER:  50.38\n",
      "Restladeenergie bis zur fairen Ladeenergie for BEV mit ID 12:  1.6099999999999968\n",
      "Restladezeit:  9.587137753076597\n",
      "Die Restladezeit des BEVS 12 endet vor dem nächsten Interval\n",
      "Ausgewähltes BEV das frei gewordenen Platz belegen darf:  17\n",
      "Ladestart für ausgewähltes BEV:  639.5871377530766\n",
      "10.076 CHARGING POWER WIRD FÜR NEUES BEV 17 GESPEICHERT: \n",
      "ZEITPUNKT FÜR DAS ES GESPEICHERT WIRD:  639.5871377530766\n",
      "AVAILABLE SOLAR POWER:  50.38\n",
      "Restladeenergie bis zur fairen Ladeenergie for BEV mit ID 16:  4.162091283459155\n",
      "Restladezeit:  24.784187872920732\n",
      "Charging BEVs:  [49, 7, 8, 12, 16]\n",
      "\n",
      "\n",
      "Minute:  645\n",
      "Charging BEVs after updating parking end:  [49, 7, 8, 16, 17]\n",
      "Waiting BEVs:  [18, 19, 24, 25, 32, 34, 35, 39, 46, 48, 4, 10, 15, 20, 23, 27, 36, 43, 44, 45, 40, 42]\n",
      "CALCULATE NUMBER OF CHARGING STATIONS\n",
      "Number of charging stations:  5\n",
      "CALCULATE NUMBER OF CHARGING STATIONS\n",
      "Number of charging stations:  5\n"
     ]
    },
    {
     "name": "stdout",
     "output_type": "stream",
     "text": [
      "Charging BEVs (nachdem neue Plätze belegt):  [49, 7, 8, 16, 17]\n",
      "AVAILABLE SOLAR POWER:  50.12\n",
      "Restladeenergie bis zur fairen Ladeenergie for BEV mit ID 49:  1.5277914893617304\n",
      "Restladezeit:  9.144801412779712\n",
      "Die Restladezeit des BEVS 49 endet vor dem nächsten Interval\n",
      "Ausgewähltes BEV das frei gewordenen Platz belegen darf:  18\n",
      "Ladestart für ausgewähltes BEV:  654.1448014127797\n",
      "10.024 CHARGING POWER WIRD FÜR NEUES BEV 18 GESPEICHERT: \n",
      "ZEITPUNKT FÜR DAS ES GESPEICHERT WIRD:  654.1448014127797\n",
      "AVAILABLE SOLAR POWER:  50.12\n",
      "Restladeenergie bis zur fairen Ladeenergie for BEV mit ID 7:  4.517647053788813\n",
      "Restladezeit:  27.040983961225937\n",
      "AVAILABLE SOLAR POWER:  50.12\n",
      "Restladeenergie bis zur fairen Ladeenergie for BEV mit ID 8:  4.432165487421351\n",
      "Restladezeit:  26.52932255040713\n",
      "AVAILABLE SOLAR POWER:  50.12\n",
      "Restladeenergie bis zur fairen Ladeenergie for BEV mit ID 16:  2.745928874543158\n",
      "Restladezeit:  16.43612654355442\n",
      "AVAILABLE SOLAR POWER:  50.12\n",
      "Restladeenergie bis zur fairen Ladeenergie for BEV mit ID 17:  6.978499999999997\n",
      "Restladezeit:  41.77075019952113\n",
      "Charging BEVs:  [49, 7, 8, 16, 17]\n",
      "\n",
      "\n",
      "Minute:  660\n",
      "Charging BEVs after updating parking end:  [7, 8, 16, 17, 18]\n",
      "Waiting BEVs:  [19, 24, 25, 32, 34, 35, 39, 46, 48, 4, 10, 15, 20, 23, 27, 36, 43, 44, 45, 40, 42]\n",
      "CALCULATE NUMBER OF CHARGING STATIONS\n",
      "Number of charging stations:  5\n",
      "CALCULATE NUMBER OF CHARGING STATIONS\n",
      "Number of charging stations:  5\n",
      "Charging BEVs (nachdem neue Plätze belegt):  [7, 8, 16, 17, 18]\n",
      "AVAILABLE SOLAR POWER:  50.62\n",
      "Restladeenergie bis zur fairen Ladeenergie for BEV mit ID 7:  3.4897537849969726\n",
      "Restladezeit:  20.682065102708254\n",
      "AVAILABLE SOLAR POWER:  50.62\n",
      "Restladeenergie bis zur fairen Ladeenergie for BEV mit ID 8:  4.322330974842724\n",
      "Restladezeit:  25.61634319345747\n",
      "AVAILABLE SOLAR POWER:  50.62\n",
      "Restladeenergie bis zur fairen Ladeenergie for BEV mit ID 16:  1.3370749655540797\n",
      "Restladezeit:  7.924189839316949\n",
      "Die Restladezeit des BEVS 16 endet vor dem nächsten Interval\n",
      "Ausgewähltes BEV das frei gewordenen Platz belegen darf:  19\n",
      "Ladestart für ausgewähltes BEV:  667.9241898393169\n",
      "10.123999999999999 CHARGING POWER WIRD FÜR NEUES BEV 19 GESPEICHERT: \n",
      "ZEITPUNKT FÜR DAS ES GESPEICHERT WIRD:  667.9241898393169\n",
      "AVAILABLE SOLAR POWER:  50.62\n",
      "Restladeenergie bis zur fairen Ladeenergie for BEV mit ID 17:  6.074191147280661\n",
      "Restladezeit:  35.99876223200708\n",
      "AVAILABLE SOLAR POWER:  50.62\n",
      "Restladeenergie bis zur fairen Ladeenergie for BEV mit ID 18:  6.331791489361721\n",
      "Restladezeit:  37.525433560026\n",
      "Charging BEVs:  [7, 8, 16, 17, 18]\n",
      "\n",
      "\n",
      "Minute:  675\n",
      "Charging BEVs after updating parking end:  [7, 8, 17, 18, 19]\n",
      "Waiting BEVs:  [24, 25, 32, 34, 35, 39, 46, 48, 4, 10, 15, 20, 23, 27, 36, 43, 44, 45, 40, 42]\n",
      "CALCULATE NUMBER OF CHARGING STATIONS\n",
      "Number of charging stations:  5\n",
      "CALCULATE NUMBER OF CHARGING STATIONS\n",
      "Number of charging stations:  5\n",
      "Charging BEVs (nachdem neue Plätze belegt):  [7, 8, 17, 18, 19]\n",
      "AVAILABLE SOLAR POWER:  51.88\n",
      "Restladeenergie bis zur fairen Ladeenergie for BEV mit ID 7:  2.451606193890769\n",
      "Restladezeit:  14.176597111935827\n",
      "Die Restladezeit des BEVS 7 endet vor dem nächsten Interval\n",
      "Ausgewähltes BEV das frei gewordenen Platz belegen darf:  24\n",
      "Ladestart für ausgewähltes BEV:  689.1765971119358\n",
      "10.376000000000001 CHARGING POWER WIRD FÜR NEUES BEV 24 GESPEICHERT: \n",
      "ZEITPUNKT FÜR DAS ES GESPEICHERT WIRD:  689.1765971119358\n",
      "AVAILABLE SOLAR POWER:  51.88\n",
      "Restladeenergie bis zur fairen Ladeenergie for BEV mit ID 8:  4.211400746855292\n",
      "Restladezeit:  24.352741404328977\n",
      "AVAILABLE SOLAR POWER:  51.88\n",
      "Restladeenergie bis zur fairen Ladeenergie for BEV mit ID 17:  5.1608608574831205\n",
      "Restladezeit:  29.84306586825243\n",
      "AVAILABLE SOLAR POWER:  51.88\n",
      "Restladeenergie bis zur fairen Ladeenergie for BEV mit ID 18:  5.343824314411409\n",
      "Restladezeit:  30.901065811939517\n",
      "AVAILABLE SOLAR POWER:  51.88\n",
      "Restladeenergie bis zur fairen Ladeenergie for BEV mit ID 19:  6.278574965554073\n",
      "Restladezeit:  36.30633172062879\n",
      "Charging BEVs:  [7, 8, 17, 18, 19]\n",
      "\n",
      "\n",
      "Minute:  690\n",
      "Charging BEVs after updating parking end:  [8, 17, 18, 19, 24]\n",
      "Waiting BEVs:  [25, 32, 34, 35, 39, 46, 48, 4, 10, 15, 20, 23, 27, 36, 43, 44, 45, 40, 42]\n",
      "CALCULATE NUMBER OF CHARGING STATIONS\n",
      "Number of charging stations:  5\n",
      "CALCULATE NUMBER OF CHARGING STATIONS\n",
      "Number of charging stations:  5\n",
      "Charging BEVs (nachdem neue Plätze belegt):  [8, 17, 18, 19, 24]\n",
      "AVAILABLE SOLAR POWER:  53.12\n",
      "Restladeenergie bis zur fairen Ladeenergie for BEV mit ID 8:  4.09770931603767\n",
      "Restladezeit:  23.142183637260942\n",
      "AVAILABLE SOLAR POWER:  53.12\n",
      "Restladeenergie bis zur fairen Ladeenergie for BEV mit ID 17:  4.224796546248502\n",
      "Restladezeit:  23.859920253662477\n",
      "AVAILABLE SOLAR POWER:  53.12\n",
      "Restladeenergie bis zur fairen Ladeenergie for BEV mit ID 18:  4.331265305394771\n",
      "Restladezeit:  24.461212191612038\n",
      "AVAILABLE SOLAR POWER:  53.12\n",
      "Restladeenergie bis zur fairen Ladeenergie for BEV mit ID 19:  5.0549315284332765\n",
      "Restladezeit:  28.548182577748175\n",
      "AVAILABLE SOLAR POWER:  53.12\n",
      "Restladeenergie bis zur fairen Ladeenergie for BEV mit ID 24:  7.745106193890772\n",
      "Restladezeit:  43.741187088991566\n",
      "Charging BEVs:  [8, 17, 18, 19, 24]\n",
      "\n",
      "\n",
      "Minute:  705\n",
      "Charging BEVs after updating parking end:  [8, 17, 18, 19, 24]\n",
      "Waiting BEVs:  [25, 32, 34, 35, 39, 46, 48, 4, 10, 15, 20, 23, 27, 36, 43, 44, 45, 40, 42]\n",
      "CALCULATE NUMBER OF CHARGING STATIONS\n",
      "Number of charging stations:  5\n",
      "CALCULATE NUMBER OF CHARGING STATIONS\n",
      "Number of charging stations:  5\n",
      "Charging BEVs (nachdem neue Plätze belegt):  [8, 17, 18, 19, 24]\n",
      "AVAILABLE SOLAR POWER:  54.38\n",
      "Restladeenergie bis zur fairen Ladeenergie for BEV mit ID 8:  3.9813005110062125\n",
      "Restladezeit:  21.96377626520529\n",
      "AVAILABLE SOLAR POWER:  54.38\n",
      "Restladeenergie bis zur fairen Ladeenergie for BEV mit ID 17:  3.2663590710599326\n",
      "Restladezeit:  18.01963444865722\n",
      "AVAILABLE SOLAR POWER:  54.38\n",
      "Restladeenergie bis zur fairen Ladeenergie for BEV mit ID 18:  3.2945048088842883\n",
      "Restladezeit:  18.17490700009721\n",
      "AVAILABLE SOLAR POWER:  54.38\n",
      "Restladeenergie bis zur fairen Ladeenergie for BEV mit ID 19:  3.802041409314991\n",
      "Restladezeit:  20.974851467350074\n",
      "AVAILABLE SOLAR POWER:  54.38\n",
      "Restladeenergie bis zur fairen Ladeenergie for BEV mit ID 24:  7.599308989177546\n",
      "Restladezeit:  41.923366987003746\n",
      "Charging BEVs:  [8, 17, 18, 19, 24]\n",
      "\n",
      "\n",
      "Minute:  720\n",
      "Charging BEVs after updating parking end:  [8, 17, 18, 19, 24]\n",
      "Waiting BEVs:  [32, 34, 35, 39, 46, 48, 4, 10, 15, 20, 23, 27, 36, 43, 44, 45, 40, 42]\n",
      "CALCULATE NUMBER OF CHARGING STATIONS\n",
      "Number of charging stations:  5\n",
      "CALCULATE NUMBER OF CHARGING STATIONS\n",
      "Number of charging stations:  5\n",
      "Charging BEVs (nachdem neue Plätze belegt):  [8, 17, 18, 19, 24]\n",
      "AVAILABLE SOLAR POWER:  52.62\n",
      "Restladeenergie bis zur fairen Ladeenergie for BEV mit ID 8:  3.8621305031445656\n",
      "Restladezeit:  22.01898804529399\n",
      "AVAILABLE SOLAR POWER:  52.62\n",
      "Restladeenergie bis zur fairen Ladeenergie for BEV mit ID 17:  2.2851875744342847\n",
      "Restladezeit:  13.02843543007004\n",
      "Die Restladezeit des BEVS 17 endet vor dem nächsten Interval\n",
      "Ausgewähltes BEV das frei gewordenen Platz belegen darf:  32\n",
      "Ladestart für ausgewähltes BEV:  733.0284354300701\n",
      "10.524 CHARGING POWER WIRD FÜR NEUES BEV 32 GESPEICHERT: \n",
      "ZEITPUNKT FÜR DAS ES GESPEICHERT WIRD:  733.0284354300701\n",
      "AVAILABLE SOLAR POWER:  52.62\n",
      "Restladeenergie bis zur fairen Ladeenergie for BEV mit ID 18:  2.2331524783074803\n",
      "Restladezeit:  12.73177011577811\n",
      "Die Restladezeit des BEVS 18 endet vor dem nächsten Interval\n",
      "Ausgewähltes BEV das frei gewordenen Platz belegen darf:  34\n",
      "Ladestart für ausgewähltes BEV:  732.7317701157781\n",
      "10.524 CHARGING POWER WIRD FÜR NEUES BEV 34 GESPEICHERT: \n",
      "ZEITPUNKT FÜR DAS ES GESPEICHERT WIRD:  732.7317701157781\n",
      "AVAILABLE SOLAR POWER:  52.62\n",
      "Restladeenergie bis zur fairen Ladeenergie for BEV mit ID 19:  2.5194328875218357\n",
      "Restladezeit:  14.36392752292951\n",
      "Die Restladezeit des BEVS 19 endet vor dem nächsten Interval\n",
      "Ausgewähltes BEV das frei gewordenen Platz belegen darf:  35\n",
      "Ladestart für ausgewähltes BEV:  734.3639275229295\n",
      "10.524 CHARGING POWER WIRD FÜR NEUES BEV 35 GESPEICHERT: \n",
      "ZEITPUNKT FÜR DAS ES GESPEICHERT WIRD:  734.3639275229295\n",
      "AVAILABLE SOLAR POWER:  52.62\n",
      "Restladeenergie bis zur fairen Ladeenergie for BEV mit ID 24:  7.450053492334451\n",
      "Restladezeit:  42.47464932915879\n",
      "Charging BEVs:  [8, 17, 18, 19, 24]\n",
      "\n",
      "\n",
      "Minute:  735\n",
      "Charging BEVs after updating parking end:  [8, 24, 32, 34, 35]\n",
      "Waiting BEVs:  [39, 46, 48, 4, 10, 15, 20, 23, 27, 36, 43, 44, 45, 40, 42, 0, 2, 21, 22]\n",
      "CALCULATE NUMBER OF CHARGING STATIONS\n",
      "Number of charging stations:  5\n",
      "CALCULATE NUMBER OF CHARGING STATIONS\n",
      "Number of charging stations:  5\n",
      "Charging BEVs (nachdem neue Plätze belegt):  [8, 24, 32, 34, 35]\n",
      "AVAILABLE SOLAR POWER:  47.88\n",
      "Restladeenergie bis zur fairen Ladeenergie for BEV mit ID 8:  3.7468174135219128\n",
      "Restladezeit:  23.47629958347063\n",
      "AVAILABLE SOLAR POWER:  47.88\n",
      "Restladeenergie bis zur fairen Ladeenergie for BEV mit ID 24:  7.305628625767999\n",
      "Restladezeit:  45.77461544967417\n",
      "AVAILABLE SOLAR POWER:  47.88\n",
      "Restladeenergie bis zur fairen Ladeenergie for BEV mit ID 32:  6.964187574434293\n",
      "Restladezeit:  43.635260491442935\n",
      "AVAILABLE SOLAR POWER:  47.88\n",
      "Restladeenergie bis zur fairen Ladeenergie for BEV mit ID 34:  7.074652478307477\n",
      "Restladezeit:  44.327396480623285\n",
      "AVAILABLE SOLAR POWER:  47.88\n",
      "Restladeenergie bis zur fairen Ladeenergie for BEV mit ID 35:  6.280932887521842\n",
      "Restladezeit:  39.35421608722959\n",
      "Charging BEVs:  [8, 24, 32, 34, 35]\n",
      "\n",
      "\n",
      "Minute:  750\n",
      "Charging BEVs after updating parking end:  [8, 24, 32, 34, 35]\n",
      "Waiting BEVs:  [39, 46, 48, 4, 10, 15, 20, 27, 36, 43, 44, 45, 40, 42, 0, 2, 21, 22]\n",
      "stop parking at interval_minute for  8\n",
      "CALCULATE NUMBER OF CHARGING STATIONS\n",
      "Number of charging stations:  4\n",
      "CALCULATE NUMBER OF CHARGING STATIONS\n",
      "Number of charging stations:  4\n",
      "Charging BEVs (nachdem neue Plätze belegt):  [24, 32, 34, 35]\n",
      "AVAILABLE SOLAR POWER:  43.12\n",
      "Restladeenergie bis zur fairen Ladeenergie for BEV mit ID 24:  7.17421352483296\n",
      "Restladezeit:  39.93068752226137\n",
      "AVAILABLE SOLAR POWER:  43.12\n",
      "Restladeenergie bis zur fairen Ladeenergie for BEV mit ID 32:  6.6495258690734795\n",
      "Restladezeit:  37.01034806534404\n",
      "AVAILABLE SOLAR POWER:  43.12\n",
      "Restladeenergie bis zur fairen Ladeenergie for BEV mit ID 34:  6.712642988785659\n",
      "Restladezeit:  37.361649288231874\n",
      "AVAILABLE SOLAR POWER:  43.12\n",
      "Restladeenergie bis zur fairen Ladeenergie for BEV mit ID 35:  6.179415720181397\n",
      "Restladezeit:  34.393779518634865\n",
      "Charging BEVs:  [24, 32, 34, 35]\n",
      "\n",
      "\n",
      "Minute:  765\n",
      "Charging BEVs after updating parking end:  [24, 32, 34, 35]\n",
      "Waiting BEVs:  [39, 46, 48, 4, 10, 15, 20, 27, 36, 43, 44, 45, 40, 42, 0, 2, 21, 22, 9, 38]\n",
      "CALCULATE NUMBER OF CHARGING STATIONS\n",
      "Number of charging stations:  4\n",
      "CALCULATE NUMBER OF CHARGING STATIONS\n",
      "Number of charging stations:  4\n"
     ]
    },
    {
     "name": "stdout",
     "output_type": "stream",
     "text": [
      "Charging BEVs (nachdem neue Plätze belegt):  [24, 32, 34, 35]\n",
      "AVAILABLE SOLAR POWER:  38.38\n",
      "Restladeenergie bis zur fairen Ladeenergie for BEV mit ID 24:  7.0262754726107675\n",
      "Restladezeit:  43.93710561299072\n",
      "AVAILABLE SOLAR POWER:  38.38\n",
      "Restladeenergie bis zur fairen Ladeenergie for BEV mit ID 32:  6.295301434676072\n",
      "Restladezeit:  39.3661371631646\n",
      "AVAILABLE SOLAR POWER:  38.38\n",
      "Restladeenergie bis zur fairen Ladeenergie for BEV mit ID 34:  6.30511768625379\n",
      "Restladezeit:  39.427520706120625\n",
      "AVAILABLE SOLAR POWER:  38.38\n",
      "Restladeenergie bis zur fairen Ladeenergie for BEV mit ID 35:  6.065134698467738\n",
      "Restladezeit:  37.92684543075188\n",
      "Charging BEVs:  [24, 32, 34, 35]\n",
      "\n",
      "\n",
      "Minute:  780\n",
      "Charging BEVs after updating parking end:  [24, 32, 34, 35]\n",
      "Waiting BEVs:  [39, 46, 48, 4, 10, 15, 20, 27, 36, 43, 44, 45, 40, 42, 0, 2, 21, 22, 9, 38]\n",
      "CALCULATE NUMBER OF CHARGING STATIONS\n",
      "Number of charging stations:  4\n",
      "CALCULATE NUMBER OF CHARGING STATIONS\n",
      "Number of charging stations:  4\n",
      "Charging BEVs (nachdem neue Plätze belegt):  [24, 32, 34, 35]\n",
      "AVAILABLE SOLAR POWER:  36.75\n",
      "Restladeenergie bis zur fairen Ladeenergie for BEV mit ID 24:  6.894599627427842\n",
      "Restladezeit:  45.02595675054917\n",
      "AVAILABLE SOLAR POWER:  36.75\n",
      "Restladeenergie bis zur fairen Ladeenergie for BEV mit ID 32:  5.980015400534781\n",
      "Restladezeit:  39.053161799410816\n",
      "AVAILABLE SOLAR POWER:  36.75\n",
      "Restladeenergie bis zur fairen Ladeenergie for BEV mit ID 34:  5.942389923935303\n",
      "Restladezeit:  38.80744440121014\n",
      "AVAILABLE SOLAR POWER:  36.75\n",
      "Restladeenergie bis zur fairen Ladeenergie for BEV mit ID 35:  5.963416108176221\n",
      "Restladezeit:  38.94475825747736\n",
      "Charging BEVs:  [24, 32, 34, 35]\n",
      "\n",
      "\n",
      "Minute:  795\n",
      "Charging BEVs after updating parking end:  [24, 32, 34, 35]\n",
      "Waiting BEVs:  [39, 46, 48, 4, 10, 15, 20, 27, 36, 43, 44, 40, 42, 0, 2, 21, 22, 9, 38, 6, 11, 14, 28, 29, 30, 33]\n",
      "CALCULATE NUMBER OF CHARGING STATIONS\n",
      "Number of charging stations:  4\n",
      "CALCULATE NUMBER OF CHARGING STATIONS\n",
      "Number of charging stations:  4\n",
      "Charging BEVs (nachdem neue Plätze belegt):  [24, 32, 34, 35]\n",
      "AVAILABLE SOLAR POWER:  38.25\n",
      "Restladeenergie bis zur fairen Ladeenergie for BEV mit ID 24:  6.7685160601930185\n",
      "Restladezeit:  42.46912037768168\n",
      "AVAILABLE SOLAR POWER:  38.25\n",
      "Restladeenergie bis zur fairen Ladeenergie for BEV mit ID 32:  5.6781195757642635\n",
      "Restladezeit:  35.627416945971845\n",
      "AVAILABLE SOLAR POWER:  38.25\n",
      "Restladeenergie bis zur fairen Ladeenergie for BEV mit ID 34:  5.595067222913823\n",
      "Restladezeit:  35.106304143773\n",
      "AVAILABLE SOLAR POWER:  38.25\n",
      "Restladeenergie bis zur fairen Ladeenergie for BEV mit ID 35:  5.8660175101248075\n",
      "Restladezeit:  36.80638437725369\n",
      "Charging BEVs:  [24, 32, 34, 35]\n",
      "\n",
      "\n",
      "Minute:  810\n",
      "Charging BEVs after updating parking end:  [24, 32, 34, 35]\n",
      "Waiting BEVs:  [39, 46, 48, 4, 10, 15, 20, 27, 36, 43, 44, 40, 42, 0, 2, 21, 22, 9, 38, 6, 11, 14, 28, 29, 30, 33]\n",
      "CALCULATE NUMBER OF CHARGING STATIONS\n",
      "Number of charging stations:  4\n",
      "CALCULATE NUMBER OF CHARGING STATIONS\n",
      "Number of charging stations:  4\n",
      "Charging BEVs (nachdem neue Plätze belegt):  [24, 32, 34, 35]\n",
      "AVAILABLE SOLAR POWER:  39.75\n",
      "Restladeenergie bis zur fairen Ladeenergie for BEV mit ID 24:  6.637286224907795\n",
      "Restladezeit:  40.07418098057537\n",
      "AVAILABLE SOLAR POWER:  39.75\n",
      "Restladeenergie bis zur fairen Ladeenergie for BEV mit ID 32:  5.363901472431684\n",
      "Restladezeit:  32.385820210908285\n",
      "AVAILABLE SOLAR POWER:  39.75\n",
      "Restladeenergie bis zur fairen Ladeenergie for BEV mit ID 34:  5.233568085115956\n",
      "Restladezeit:  31.598901645983133\n",
      "AVAILABLE SOLAR POWER:  39.75\n",
      "Restladeenergie bis zur fairen Ladeenergie for BEV mit ID 35:  5.764643459091704\n",
      "Restladezeit:  34.80539446998765\n",
      "Charging BEVs:  [24, 32, 34, 35]\n",
      "\n",
      "\n",
      "Minute:  825\n",
      "Charging BEVs after updating parking end:  [24, 32, 34, 35]\n",
      "Waiting BEVs:  [39, 46, 4, 10, 15, 20, 27, 36, 43, 44, 40, 42, 0, 2, 21, 22, 9, 38, 6, 11, 14, 28, 29, 30, 33]\n",
      "CALCULATE NUMBER OF CHARGING STATIONS\n",
      "Number of charging stations:  4\n",
      "CALCULATE NUMBER OF CHARGING STATIONS\n",
      "Number of charging stations:  4\n",
      "Charging BEVs (nachdem neue Plätze belegt):  [24, 32, 34, 35]\n",
      "AVAILABLE SOLAR POWER:  41.25\n",
      "Restladeenergie bis zur fairen Ladeenergie for BEV mit ID 24:  6.500910121572169\n",
      "Restladezeit:  37.82347707096535\n",
      "AVAILABLE SOLAR POWER:  41.25\n",
      "Restladeenergie bis zur fairen Ladeenergie for BEV mit ID 32:  5.0373610905370425\n",
      "Restladezeit:  29.308282708579156\n",
      "AVAILABLE SOLAR POWER:  41.25\n",
      "Restladeenergie bis zur fairen Ladeenergie for BEV mit ID 34:  4.857892510541703\n",
      "Restladezeit:  28.264101879515362\n",
      "AVAILABLE SOLAR POWER:  41.25\n",
      "Restladeenergie bis zur fairen Ladeenergie for BEV mit ID 35:  5.659293955076909\n",
      "Restladezeit:  32.92680119317474\n",
      "Die Restparkzeit von BEV  35 endet vor dem nächsten Intervall\n",
      "Ausgewähltes BEV das frei gewordenen Platz belegen darf:  39\n",
      "Ladestart für ausgewähltes BEV:  834\n",
      "10.3125 CHARGING POWER WIRD FÜR NEUES BEV 39 GESPEICHERT: \n",
      "ZEITPUNKT FÜR DAS ES GESPEICHERT WIRD:  834\n",
      "Charging BEVs:  [24, 32, 34, 35]\n",
      "\n",
      "\n",
      "Minute:  840\n",
      "Charging BEVs after updating parking end:  [24, 32, 34, 39]\n",
      "Waiting BEVs:  [4, 10, 15, 20, 27, 36, 43, 44, 40, 42, 0, 2, 21, 22, 9, 38, 6, 11, 14, 28, 29, 30, 33]\n",
      "CALCULATE NUMBER OF CHARGING STATIONS\n",
      "Number of charging stations:  4\n",
      "CALCULATE NUMBER OF CHARGING STATIONS\n",
      "Number of charging stations:  4\n",
      "Charging BEVs (nachdem neue Plätze belegt):  [24, 32, 34, 39]\n",
      "AVAILABLE SOLAR POWER:  39.0\n",
      "Restladeenergie bis zur fairen Ladeenergie for BEV mit ID 24:  6.359387750186143\n",
      "Restladezeit:  39.134693847299346\n",
      "AVAILABLE SOLAR POWER:  39.0\n",
      "Restladeenergie bis zur fairen Ladeenergie for BEV mit ID 32:  4.698498430080339\n",
      "Restladezeit:  28.913836492802087\n",
      "AVAILABLE SOLAR POWER:  39.0\n",
      "Restladeenergie bis zur fairen Ladeenergie for BEV mit ID 34:  4.468040499191062\n",
      "Restladezeit:  27.495633841175763\n",
      "AVAILABLE SOLAR POWER:  39.0\n",
      "Restladeenergie bis zur fairen Ladeenergie for BEV mit ID 39:  6.27875\n",
      "Restladezeit:  38.638461538461534\n",
      "Charging BEVs:  [24, 32, 34, 39]\n",
      "\n",
      "\n",
      "Minute:  855\n",
      "Charging BEVs after updating parking end:  [24, 32, 34, 39]\n",
      "Waiting BEVs:  [4, 10, 15, 20, 27, 36, 43, 44, 40, 42, 0, 2, 21, 22, 9, 38, 6, 11, 14, 28, 29, 30, 33]\n",
      "CALCULATE NUMBER OF CHARGING STATIONS\n",
      "Number of charging stations:  3\n",
      "CALCULATE NUMBER OF CHARGING STATIONS\n",
      "Number of charging stations:  3\n",
      "Charging BEVs (nachdem neue Plätze belegt):  [24, 32, 34, 39]\n",
      "AVAILABLE SOLAR POWER:  33.0\n",
      "Restladeenergie bis zur fairen Ladeenergie for BEV mit ID 24:  6.225584780875719\n",
      "Restladezeit:  45.276980224550684\n",
      "AVAILABLE SOLAR POWER:  33.0\n",
      "Restladeenergie bis zur fairen Ladeenergie for BEV mit ID 32:  4.378119187466728\n",
      "Restladezeit:  31.840866817939844\n",
      "AVAILABLE SOLAR POWER:  33.0\n",
      "Restladeenergie bis zur fairen Ladeenergie for BEV mit ID 34:  4.099453143005001\n",
      "Restladezeit:  29.81420467640001\n",
      "AVAILABLE SOLAR POWER:  33.0\n",
      "Restladeenergie bis zur fairen Ladeenergie for BEV mit ID 39:  5.303749999999999\n",
      "Restladezeit:  38.57272727272726\n",
      "Charging BEVs:  [24, 32, 34, 39]\n",
      "\n",
      "\n",
      "Minute:  870\n",
      "Charging BEVs after updating parking end:  [24, 32, 34, 39]\n",
      "Waiting BEVs:  [4, 10, 15, 20, 27, 43, 44, 40, 42, 0, 2, 21, 22, 9, 38, 6, 11, 14, 28, 29, 30, 33]\n",
      "CALCULATE NUMBER OF CHARGING STATIONS\n",
      "Number of charging stations:  3\n",
      "CALCULATE NUMBER OF CHARGING STATIONS\n",
      "Number of charging stations:  3\n",
      "Charging BEVs (nachdem neue Plätze belegt):  [24, 32, 34, 39]\n",
      "AVAILABLE SOLAR POWER:  27.0\n",
      "Restladeenergie bis zur fairen Ladeenergie for BEV mit ID 24:  6.112366883766898\n",
      "Restladezeit:  54.33215007792798\n",
      "AVAILABLE SOLAR POWER:  27.0\n",
      "Restladeenergie bis zur fairen Ladeenergie for BEV mit ID 32:  4.107029059101366\n",
      "Restladezeit:  36.50692496978992\n",
      "AVAILABLE SOLAR POWER:  27.0\n",
      "Restladeenergie bis zur fairen Ladeenergie for BEV mit ID 34:  3.7875715339244884\n",
      "Restladezeit:  33.66730252377323\n",
      "AVAILABLE SOLAR POWER:  27.0\n",
      "Restladeenergie bis zur fairen Ladeenergie for BEV mit ID 39:  4.47875\n",
      "Restladezeit:  39.81111111111111\n",
      "Charging BEVs:  [24, 32, 34, 39]\n",
      "\n",
      "\n",
      "Minute:  885\n",
      "Charging BEVs after updating parking end:  [24, 32, 34, 39]\n",
      "Waiting BEVs:  [4, 10, 15, 27, 43, 44, 40, 42, 0, 2, 21, 22, 9, 38, 6, 11, 14, 28, 29, 30, 33]\n",
      "CALCULATE NUMBER OF CHARGING STATIONS\n",
      "Number of charging stations:  2\n",
      "CALCULATE NUMBER OF CHARGING STATIONS\n",
      "Number of charging stations:  2\n",
      "Charging BEVs (nachdem neue Plätze belegt):  [24, 32, 34, 39]\n",
      "AVAILABLE SOLAR POWER:  21.0\n",
      "Restladeenergie bis zur fairen Ladeenergie for BEV mit ID 24:  6.019734058859681\n",
      "Restladezeit:  68.79696067268208\n",
      "AVAILABLE SOLAR POWER:  21.0\n",
      "Restladeenergie bis zur fairen Ladeenergie for BEV mit ID 32:  3.885228044984251\n",
      "Restladezeit:  44.40260622839144\n",
      "AVAILABLE SOLAR POWER:  21.0\n",
      "Restladeenergie bis zur fairen Ladeenergie for BEV mit ID 34:  3.5323956719495238\n",
      "Restladezeit:  40.3702362508517\n",
      "AVAILABLE SOLAR POWER:  21.0\n",
      "Restladeenergie bis zur fairen Ladeenergie for BEV mit ID 39:  3.803749999999999\n",
      "Restladezeit:  43.47142857142856\n",
      "Die Restparkzeit von BEV  39 endet vor dem nächsten Intervall\n",
      "Ausgewähltes BEV das frei gewordenen Platz belegen darf:  4\n",
      "Ladestart für ausgewähltes BEV:  894\n",
      "5.25 CHARGING POWER WIRD FÜR NEUES BEV 4 GESPEICHERT: \n",
      "ZEITPUNKT FÜR DAS ES GESPEICHERT WIRD:  894\n",
      "Charging BEVs:  [24, 32, 34, 39]\n",
      "\n",
      "\n",
      "Minute:  900\n",
      "Charging BEVs after updating parking end:  [24, 32, 34, 4]\n",
      "Waiting BEVs:  [10, 15, 27, 43, 44, 40, 42, 0, 2, 21, 22, 9, 38, 6, 11, 14, 28, 29, 30, 33]\n",
      "stop parking at interval_minute for  32\n",
      "CALCULATE NUMBER OF CHARGING STATIONS\n",
      "Number of charging stations:  2\n",
      "CALCULATE NUMBER OF CHARGING STATIONS\n",
      "Number of charging stations:  2\n",
      "Charging BEVs (nachdem neue Plätze belegt):  [24, 34, 4]\n",
      "AVAILABLE SOLAR POWER:  16.88\n",
      "Restladeenergie bis zur fairen Ladeenergie for BEV mit ID 24:  5.9476863061540675\n"
     ]
    },
    {
     "name": "stdout",
     "output_type": "stream",
     "text": [
      "Restladezeit:  63.42319520780404\n",
      "AVAILABLE SOLAR POWER:  16.88\n",
      "Restladeenergie bis zur fairen Ladeenergie for BEV mit ID 34:  3.3339255570801063\n",
      "Restladezeit:  35.5513388788163\n",
      "Die Restparkzeit von BEV  34 endet vor dem nächsten Intervall\n",
      "Ausgewähltes BEV das frei gewordenen Platz belegen darf:  10\n",
      "Ladestart für ausgewähltes BEV:  906\n",
      "5.626666666666666 CHARGING POWER WIRD FÜR NEUES BEV 10 GESPEICHERT: \n",
      "ZEITPUNKT FÜR DAS ES GESPEICHERT WIRD:  906\n",
      "AVAILABLE SOLAR POWER:  16.88\n",
      "Restladeenergie bis zur fairen Ladeenergie for BEV mit ID 4:  7.0874999999999995\n",
      "Restladezeit:  75.57760663507109\n",
      "Charging BEVs:  [24, 34, 4]\n",
      "\n",
      "\n",
      "Minute:  915\n",
      "Charging BEVs after updating parking end:  [24, 4, 10]\n",
      "Waiting BEVs:  [15, 27, 43, 40, 42, 0, 2, 21, 22, 9, 38, 6, 11, 14, 28, 29, 30, 33]\n",
      "CALCULATE NUMBER OF CHARGING STATIONS\n",
      "Number of charging stations:  2\n",
      "CALCULATE NUMBER OF CHARGING STATIONS\n",
      "Number of charging stations:  2\n",
      "Charging BEVs (nachdem neue Plätze belegt):  [24, 4, 10]\n",
      "AVAILABLE SOLAR POWER:  14.62\n",
      "Restladeenergie bis zur fairen Ladeenergie for BEV mit ID 24:  5.870469413095607\n",
      "Restladezeit:  72.27664120090351\n",
      "AVAILABLE SOLAR POWER:  14.62\n",
      "Restladeenergie bis zur fairen Ladeenergie for BEV mit ID 4:  6.5248333333333335\n",
      "Restladezeit:  80.33310533515733\n",
      "AVAILABLE SOLAR POWER:  14.62\n",
      "Restladeenergie bis zur fairen Ladeenergie for BEV mit ID 10:  6.7684999999999995\n",
      "Restladezeit:  83.33310533515731\n",
      "Charging BEVs:  [24, 4, 10]\n",
      "\n",
      "\n",
      "Minute:  930\n",
      "Charging BEVs after updating parking end:  [24, 4, 10]\n",
      "Waiting BEVs:  [15, 27, 43, 40, 42, 2, 21, 22, 9, 38, 6, 11, 14, 28, 29, 30, 33]\n",
      "CALCULATE NUMBER OF CHARGING STATIONS\n",
      "Number of charging stations:  2\n",
      "CALCULATE NUMBER OF CHARGING STATIONS\n",
      "Number of charging stations:  2\n",
      "Charging BEVs (nachdem neue Plätze belegt):  [24, 4, 10]\n",
      "AVAILABLE SOLAR POWER:  12.38\n",
      "Restladeenergie bis zur fairen Ladeenergie for BEV mit ID 24:  5.803590800742841\n",
      "Restladezeit:  84.38177254714954\n",
      "AVAILABLE SOLAR POWER:  12.38\n",
      "Restladeenergie bis zur fairen Ladeenergie for BEV mit ID 4:  6.0375\n",
      "Restladezeit:  87.7827140549273\n",
      "AVAILABLE SOLAR POWER:  12.38\n",
      "Restladeenergie bis zur fairen Ladeenergie for BEV mit ID 10:  6.0375\n",
      "Restladezeit:  87.7827140549273\n",
      "Charging BEVs:  [24, 4, 10]\n",
      "\n",
      "\n",
      "Minute:  945\n",
      "Charging BEVs after updating parking end:  [24, 4, 10]\n",
      "Waiting BEVs:  [15, 27, 43, 40, 42, 2, 21, 22, 9, 38, 6, 11, 14, 28, 29, 30, 33]\n",
      "CALCULATE NUMBER OF CHARGING STATIONS\n",
      "Number of charging stations:  1\n",
      "CALCULATE NUMBER OF CHARGING STATIONS\n",
      "Number of charging stations:  1\n",
      "Charging BEVs (nachdem neue Plätze belegt):  [24, 4, 10]\n",
      "AVAILABLE SOLAR POWER:  10.12\n",
      "Restladeenergie bis zur fairen Ladeenergie for BEV mit ID 24:  5.746958979885984\n",
      "Restladezeit:  102.21863798216178\n",
      "AVAILABLE SOLAR POWER:  10.12\n",
      "Restladeenergie bis zur fairen Ladeenergie for BEV mit ID 4:  5.624833333333333\n",
      "Restladezeit:  100.04644268774705\n",
      "Die Restparkzeit von BEV  4 endet vor dem nächsten Intervall\n",
      "Ausgewähltes BEV das frei gewordenen Platz belegen darf:  15\n",
      "Ladestart für ausgewähltes BEV:  948\n",
      "3.373333333333333 CHARGING POWER WIRD FÜR NEUES BEV 15 GESPEICHERT: \n",
      "ZEITPUNKT FÜR DAS ES GESPEICHERT WIRD:  948\n",
      "AVAILABLE SOLAR POWER:  10.12\n",
      "Restladeenergie bis zur fairen Ladeenergie for BEV mit ID 10:  5.4185\n",
      "Restladezeit:  96.37648221343875\n",
      "Charging BEVs:  [24, 4, 10]\n",
      "\n",
      "\n",
      "Minute:  960\n",
      "Charging BEVs after updating parking end:  [24, 10, 15]\n",
      "Waiting BEVs:  [27, 43, 40, 42, 2, 21, 22, 9, 38, 6, 11, 14, 28, 29, 30, 33]\n",
      "stop parking at interval_minute for  24\n",
      "stop parking at interval_minute for  10\n",
      "stop parking at interval_minute for  15\n",
      "CALCULATE NUMBER OF CHARGING STATIONS\n",
      "Number of charging stations:  1\n",
      "CALCULATE NUMBER OF CHARGING STATIONS\n",
      "Number of charging stations:  1\n",
      "NUMBER OF FREE CHARGING STATIONS:  1\n",
      "CALCULATE NUMBER OF CHARGING STATIONS\n",
      "Number of charging stations:  1\n",
      "CALCULATE NUMBER OF CHARGING STATIONS\n",
      "Number of charging stations:  1\n",
      "Charging BEVs (nachdem neue Plätze belegt):  []\n",
      "Charging BEVs:  []\n"
     ]
    }
   ],
   "source": [
    "import distributionAlgorithmPolling\n",
    "import simulationClasses\n",
    "import simulationData\n",
    "import simulationOutputDataVisualisation\n",
    "import distributionAlgorithmForecast\n",
    "import distributionAlgorithmForecastPolling\n",
    "import postOptimization\n",
    "import numpy as np\n",
    "\n",
    "simulation_day = simulationClasses.SimulationDay(anzahl_bevs_pro_tag)\n",
    "bev_data = simulationData.BevData()\n",
    "table_dict = simulationData.TableDict()\n",
    "simulation_data = simulationData.SimulationData()\n",
    "    \n",
    "day_in_minute_interval_steps = list(np.around(np.arange(480, 960 + 1, minute_interval), 1))\n",
    "distributionAlgorithmForecastPolling.init_simulation(day_in_minute_interval_steps, minute_interval, simulation_data, \n",
    "                                                   simulation_day, solarpeakleistung)\n",
    "\n",
    "postOptimization.start_post_optimization(minute_interval, simulation_day, solarpeakleistung, bev_data, table_dict, simulation_data,\n",
    "                ladeleistung_pro_bev)\n",
    "\n",
    "distributionAlgorithmForecastPolling.start_simulation(solarpeakleistung, ladeleistung_pro_bev,\n",
    "                     simulation_day, bev_data, table_dict, simulation_data, minute_interval)\n",
    "    \n",
    "# nochmal ein Durchgang wo frei gewordener Platz belegt wird"
   ]
  },
  {
   "cell_type": "markdown",
   "metadata": {},
   "source": [
    "### Ergebnis Algorithmus"
   ]
  },
  {
   "cell_type": "code",
   "execution_count": 4,
   "metadata": {
    "pycharm": {
     "is_executing": true
    }
   },
   "outputs": [
    {
     "data": {
      "text/markdown": [
       ">**Ergebnis**<br>Geladene BEVs: 36 von 50<br>Aufgeladene Solarenergie insgesamt: 191.76 kWh<br>Ungenutzte Solarenergie insgesamt: 1.97 kWh"
      ],
      "text/plain": [
       "<IPython.core.display.Markdown object>"
      ]
     },
     "execution_count": 4,
     "metadata": {},
     "output_type": "execute_result"
    }
   ],
   "source": [
    "simulationOutputDataVisualisation.print_algorithm_result(bev_data, simulation_data, anzahl_bevs_pro_tag)"
   ]
  },
  {
   "cell_type": "markdown",
   "metadata": {},
   "source": [
    "### Tabellarische Übersicht Park- und Ladeverlauf der BEVs"
   ]
  },
  {
   "cell_type": "code",
   "execution_count": 5,
   "metadata": {
    "pycharm": {
     "is_executing": true
    }
   },
   "outputs": [
    {
     "data": {
      "application/vnd.jupyter.widget-view+json": {
       "model_id": "04525edd2ec04351b28a3d0273a6c7ff",
       "version_major": 2,
       "version_minor": 0
      },
      "text/plain": [
       "interactive(children=(IntSlider(value=480, description='Minute: ', max=960, min=480, step=15), Output()), _dom…"
      ]
     },
     "metadata": {},
     "output_type": "display_data"
    }
   ],
   "source": [
    "simulationOutputDataVisualisation.create_tabular_overview_per_minute_slider(table_dict, minute_interval)"
   ]
  },
  {
   "cell_type": "code",
   "execution_count": 6,
   "metadata": {
    "pycharm": {
     "is_executing": true
    }
   },
   "outputs": [
    {
     "data": {
      "application/vnd.plotly.v1+json": {
       "config": {
        "plotlyServerURL": "https://plot.ly"
       },
       "data": [
        {
         "line": {
          "color": "orange"
         },
         "name": "Verfügbare Solarleistung",
         "type": "scatter",
         "x": [
          480,
          495,
          510,
          525,
          540,
          555,
          570,
          585,
          600,
          615,
          630,
          645,
          660,
          675,
          690,
          705,
          720,
          735,
          750,
          765,
          780,
          795,
          810,
          825,
          840,
          855,
          870,
          885,
          900,
          915,
          930,
          945,
          960
         ],
         "y": [
          -2,
          3.25,
          8.5,
          13.749999999999998,
          19,
          27,
          35,
          43,
          51,
          50.75,
          50.5,
          50.25,
          50,
          51.25,
          52.5,
          53.75,
          55,
          50.25,
          45.5,
          40.75,
          36,
          37.5,
          39,
          40.5,
          42,
          36,
          30,
          24,
          18,
          15.75,
          13.5,
          11.25,
          9
         ]
        },
        {
         "line": {
          "color": "green"
         },
         "mode": "lines",
         "name": "ID BEV 2",
         "type": "scatter",
         "x": [
          932.4959612277868,
          932.4959612277868,
          945,
          960,
          960
         ],
         "y": [
          6.19,
          0,
          5.625,
          0,
          9
         ]
        },
        {
         "line": {
          "color": "green"
         },
         "mode": "lines",
         "name": "ID BEV 6",
         "type": "scatter",
         "x": [
          921.9151846785226,
          921.9151846785226,
          930,
          945,
          945
         ],
         "y": [
          7.31,
          0,
          6.75,
          0,
          11.25
         ]
        },
        {
         "line": {
          "color": "green"
         },
         "mode": "lines",
         "name": "ID BEV 9",
         "type": "scatter",
         "x": [
          887.3725132702516,
          887.3725132702516,
          900,
          915,
          930,
          932.4959612277868,
          932.4959612277868
         ],
         "y": [
          10.5,
          0,
          9,
          7.875,
          13.5,
          0,
          12.38
         ]
        },
        {
         "line": {
          "color": "green"
         },
         "mode": "lines",
         "name": "ID BEV 10",
         "type": "scatter",
         "x": [
          840.9566452699147,
          855,
          870,
          885,
          900,
          906,
          915,
          921.9151846785226,
          921.9151846785226,
          930,
          945,
          945
         ],
         "y": [
          9.75,
          9,
          10,
          8,
          18,
          5.626666666666666,
          13.125,
          0,
          14.62,
          18,
          15,
          0
         ]
        },
        {
         "line": {
          "color": "green"
         },
         "mode": "lines",
         "name": "ID BEV 11",
         "type": "scatter",
         "x": [
          870.8845988152935,
          870.8845988152935,
          885,
          887.3725132702516,
          887.3725132702516
         ],
         "y": [
          9,
          0,
          16,
          0,
          21
         ]
        },
        {
         "line": {
          "color": "green"
         },
         "mode": "lines",
         "name": "ID BEV 14",
         "type": "scatter",
         "x": [
          868.459090909091,
          868.459090909091,
          870,
          885,
          885
         ],
         "y": [
          11,
          0,
          20,
          0,
          24
         ]
        },
        {
         "line": {
          "color": "green"
         },
         "mode": "lines",
         "name": "ID BEV 15",
         "type": "scatter",
         "x": [
          555,
          570,
          585,
          600,
          615,
          630,
          645,
          660,
          675,
          690,
          705,
          720,
          735,
          750,
          765,
          780,
          795,
          810,
          825,
          840,
          855,
          870,
          870.8845988152935,
          870.8845988152935,
          948,
          948
         ],
         "y": [
          5.4,
          7,
          8.6,
          10.2,
          10.15,
          10.1,
          10.05,
          10,
          10.25,
          10.5,
          10.75,
          11,
          10.05,
          9.1,
          10.1875,
          9,
          9.375,
          9.75,
          10.125,
          10.5,
          18,
          30,
          0,
          18,
          3.373333333333333,
          0
         ]
        },
        {
         "line": {
          "color": "green"
         },
         "mode": "lines",
         "name": "ID BEV 17",
         "type": "scatter",
         "x": [
          639.5871377530766,
          645,
          660,
          675,
          690,
          705,
          720,
          733.0284354300701,
          733.0284354300701,
          819.4475986277874,
          825,
          840,
          855,
          868.459090909091,
          868.459090909091
         ],
         "y": [
          10.076,
          20.1,
          20,
          20.5,
          21,
          21.5,
          22,
          10.524,
          0,
          9.9375,
          20.25,
          21,
          27,
          0,
          22
         ]
        },
        {
         "line": {
          "color": "green"
         },
         "mode": "lines",
         "name": "ID BEV 21",
         "type": "scatter",
         "x": [
          831.9563636363637,
          831.9563636363637,
          840,
          855,
          855
         ],
         "y": [
          10.3125,
          0,
          31.5,
          0,
          36
         ]
        },
        {
         "line": {
          "color": "green"
         },
         "mode": "lines",
         "name": "ID BEV 22",
         "type": "scatter",
         "x": [
          720.3752317928123,
          720.3752317928123,
          735,
          750,
          765,
          780,
          795,
          810,
          825,
          840,
          840.9566452699147,
          840.9566452699147
         ],
         "y": [
          10.524,
          0,
          20.1,
          18.2,
          20.375,
          18,
          18.75,
          19.5,
          30.375,
          42,
          0,
          19.5
         ]
        },
        {
         "line": {
          "color": "green"
         },
         "mode": "lines",
         "name": "ID BEV 24",
         "type": "scatter",
         "x": [
          689.1765971119358,
          690,
          705,
          720,
          735,
          750,
          752.4577449822906,
          765,
          780,
          795,
          810,
          825,
          831.9563636363637,
          831.9563636363637,
          840,
          855,
          870,
          885,
          900,
          915,
          930,
          945,
          945
         ],
         "y": [
          10.376000000000001,
          31.5,
          32.25,
          33,
          30.150000000000002,
          29.575,
          10.78,
          30.5625,
          27,
          28.125,
          29.25,
          40.5,
          0,
          20.625,
          52.5,
          45,
          37.5,
          30,
          24,
          18.375,
          22.5,
          18.75,
          0
         ]
        },
        {
         "line": {
          "color": "green"
         },
         "mode": "lines",
         "name": "ID BEV 26",
         "type": "scatter",
         "x": [
          540,
          555,
          570,
          585,
          592.3563829787234,
          592.3563829787234,
          753.5229772234019,
          765,
          780,
          795,
          810,
          819.4475986277874,
          819.4475986277874
         ],
         "y": [
          6.333333333333333,
          14.4,
          15.75,
          17.2,
          9.4,
          0,
          10.78,
          40.75,
          36,
          37.5,
          39,
          0,
          19.875
         ]
        },
        {
         "line": {
          "color": "green"
         },
         "mode": "lines",
         "name": "ID BEV 38",
         "type": "scatter",
         "x": [
          752.4577449822906,
          752.4577449822906,
          752.4577449822906
         ],
         "y": [
          0,
          21.56,
          0
         ]
        },
        {
         "line": {
          "color": "green"
         },
         "mode": "lines",
         "name": "ID BEV 42",
         "type": "scatter",
         "x": [
          630.963567261702,
          630.963567261702,
          645,
          660,
          675,
          690,
          705,
          720,
          735,
          750,
          753.5229772234019,
          753.5229772234019
         ],
         "y": [
          10.076,
          0,
          30.150000000000002,
          30,
          30.75,
          42,
          43,
          44,
          40.2,
          38.675,
          0,
          21.56
         ]
        },
        {
         "line": {
          "color": "green"
         },
         "mode": "lines",
         "name": "ID BEV 1",
         "type": "scatter",
         "x": [
          480,
          495,
          510,
          525,
          540,
          555,
          558.1112903225807,
          558.1112903225807,
          706.277123942626,
          720,
          735,
          750,
          750
         ],
         "y": [
          -2,
          3.25,
          4.25,
          6.875,
          12.666666666666666,
          23.4,
          10.333333333333334,
          0,
          10.876000000000001,
          55,
          50.25,
          0,
          47.775
         ]
        },
        {
         "line": {
          "color": "green"
         },
         "mode": "lines",
         "name": "ID BEV 18",
         "type": "scatter",
         "x": [
          654.1448014127797,
          660,
          675,
          690,
          705,
          707.3942625965428,
          720,
          732.7317701157781,
          732.7317701157781,
          735,
          750,
          750
         ],
         "y": [
          10.024,
          40,
          41,
          52.5,
          53.75,
          10.876000000000001,
          66,
          10.524,
          0,
          60.3,
          0,
          56.875
         ]
        },
        {
         "line": {
          "color": "green"
         },
         "mode": "lines",
         "name": "ID BEV 32",
         "type": "scatter",
         "x": [
          525,
          540,
          555,
          570,
          585,
          600,
          615,
          630,
          645,
          660,
          675,
          690,
          705,
          720,
          720.3752317928123,
          720.3752317928123,
          733.0284354300701,
          735,
          750,
          765,
          780,
          795,
          810,
          825,
          840,
          855,
          870,
          885,
          885
         ],
         "y": [
          13.75,
          22.166666666666664,
          28.799999999999997,
          22.75,
          25.799999999999997,
          20.4,
          20.3,
          20.2,
          40.2,
          50,
          51.25,
          63,
          64.5,
          77,
          0,
          21.048,
          21.048,
          70.35,
          68.25,
          50.9375,
          45,
          46.875,
          48.75,
          50.625,
          63,
          54,
          45,
          36,
          0
         ]
        },
        {
         "line": {
          "color": "green"
         },
         "mode": "lines",
         "name": "ID BEV 20",
         "type": "scatter",
         "x": [
          555,
          555,
          570,
          585,
          600,
          615,
          630,
          645,
          660,
          675,
          690,
          705,
          706.277123942626,
          706.277123942626
         ],
         "y": [
          34.199999999999996,
          0,
          29.75,
          34.4,
          30.599999999999998,
          30.450000000000003,
          30.299999999999997,
          50.25,
          60,
          61.5,
          73.5,
          75.25,
          0,
          21.752000000000002
         ]
        },
        {
         "line": {
          "color": "green"
         },
         "mode": "lines",
         "name": "ID BEV 49",
         "type": "scatter",
         "x": [
          495,
          510,
          525,
          540,
          555,
          570,
          585,
          592.3563829787234,
          600,
          615,
          630,
          645,
          654.1448014127797,
          654.1448014127797,
          660,
          675,
          690,
          705,
          707.3942625965428,
          707.3942625965428
         ],
         "y": [
          6.5,
          12.75,
          20.625,
          31.666666666666664,
          39.599999999999994,
          36.75,
          43,
          18.8,
          40.8,
          40.6,
          40.4,
          60.3,
          20.048,
          0,
          70,
          71.75,
          84,
          86,
          21.752000000000002,
          0
         ]
        },
        {
         "line": {
          "color": "green"
         },
         "mode": "lines",
         "name": "ID BEV 45",
         "type": "scatter",
         "x": [
          555,
          555,
          570,
          585,
          600,
          615,
          630,
          630.963567261702,
          630.963567261702
         ],
         "y": [
          44.99999999999999,
          0,
          43.75,
          51.6,
          51,
          50.75,
          50.5,
          0,
          20.152
         ]
        },
        {
         "line": {
          "color": "green"
         },
         "mode": "lines",
         "name": "ID BEV 13",
         "type": "scatter",
         "x": [
          510,
          510,
          525,
          540,
          555,
          557.516129032258,
          557.516129032258
         ],
         "y": [
          0,
          17,
          27.5,
          38,
          53.99999999999999,
          10.333333333333334,
          0
         ]
        },
        {
         "line": {
          "color": "green"
         },
         "mode": "lines",
         "name": "ID BEV 31",
         "type": "scatter",
         "x": [
          558.1112903225807,
          558.1112903225807,
          570,
          585,
          600,
          608.8474066113816,
          608.8474066113816
         ],
         "y": [
          0,
          20.666666666666668,
          52.5,
          60.2,
          61.2,
          10.176,
          0
         ]
        },
        {
         "line": {
          "color": "green"
         },
         "mode": "lines",
         "name": "ID BEV 37",
         "type": "scatter",
         "x": [
          557.516129032258,
          557.516129032258,
          570,
          585,
          587.8491763898421,
          587.8491763898421
         ],
         "y": [
          0,
          20.666666666666668,
          61.25,
          68.8,
          9.4,
          0
         ]
        },
        {
         "line": {
          "color": "green"
         },
         "mode": "lines",
         "name": "ID BEV 41",
         "type": "scatter",
         "x": [
          570,
          570,
          585,
          589.563829787234,
          589.563829787234
         ],
         "y": [
          0,
          70,
          77.39999999999999,
          9.4,
          0
         ]
        },
        {
         "line": {
          "color": "green"
         },
         "mode": "lines",
         "name": "ID BEV 47",
         "type": "scatter",
         "x": [
          585,
          585,
          600,
          615,
          615.4355985776373,
          615.4355985776373
         ],
         "y": [
          0,
          85.99999999999999,
          71.4,
          60.9,
          10.123999999999999,
          0
         ]
        },
        {
         "line": {
          "color": "green"
         },
         "mode": "lines",
         "name": "ID BEV 3",
         "type": "scatter",
         "x": [
          587.8491763898421,
          587.8491763898421,
          600,
          615,
          621.5671154689401,
          621.5671154689401
         ],
         "y": [
          0,
          18.8,
          81.60000000000001,
          71.05,
          10.123999999999999,
          0
         ]
        },
        {
         "line": {
          "color": "green"
         },
         "mode": "lines",
         "name": "ID BEV 5",
         "type": "scatter",
         "x": [
          589.563829787234,
          589.563829787234,
          600,
          614.3425707547169,
          614.3425707547169
         ],
         "y": [
          0,
          18.8,
          91.80000000000001,
          10.176,
          0
         ]
        },
        {
         "line": {
          "color": "green"
         },
         "mode": "lines",
         "name": "ID BEV 7",
         "type": "scatter",
         "x": [
          608.8474066113816,
          608.8474066113816,
          615,
          630,
          645,
          660,
          675,
          689.1765971119358,
          689.1765971119358
         ],
         "y": [
          0,
          20.352,
          81.2,
          60.6,
          70.35,
          80,
          82,
          20.752000000000002,
          0
         ]
        },
        {
         "line": {
          "color": "green"
         },
         "mode": "lines",
         "name": "ID BEV 8",
         "type": "scatter",
         "x": [
          614.3425707547169,
          614.3425707547169,
          615,
          630,
          645,
          660,
          675,
          690,
          705,
          720,
          735,
          735
         ],
         "y": [
          0,
          20.352,
          91.35000000000001,
          70.7,
          80.39999999999999,
          90,
          92.25,
          94.5,
          96.75,
          88,
          80.39999999999999,
          0
         ]
        },
        {
         "line": {
          "color": "green"
         },
         "mode": "lines",
         "name": "ID BEV 12",
         "type": "scatter",
         "x": [
          615.4355985776373,
          615.4355985776373,
          630,
          639.5871377530766,
          639.5871377530766
         ],
         "y": [
          0,
          20.247999999999998,
          80.8,
          20.152,
          0
         ]
        },
        {
         "line": {
          "color": "green"
         },
         "mode": "lines",
         "name": "ID BEV 16",
         "type": "scatter",
         "x": [
          621.5671154689401,
          621.5671154689401,
          630,
          645,
          660,
          667.9241898393169,
          667.9241898393169
         ],
         "y": [
          0,
          20.247999999999998,
          90.89999999999999,
          90.44999999999999,
          100,
          10.123999999999999,
          0
         ]
        },
        {
         "line": {
          "color": "green"
         },
         "mode": "lines",
         "name": "ID BEV 19",
         "type": "scatter",
         "x": [
          667.9241898393169,
          667.9241898393169,
          675,
          690,
          705,
          720,
          734.3639275229295,
          734.3639275229295
         ],
         "y": [
          0,
          20.247999999999998,
          102.5,
          105,
          107.5,
          99,
          10.524,
          0
         ]
        },
        {
         "line": {
          "color": "green"
         },
         "mode": "lines",
         "name": "ID BEV 34",
         "type": "scatter",
         "x": [
          732.7317701157781,
          732.7317701157781,
          735,
          750,
          765,
          780,
          795,
          810,
          825,
          840,
          855,
          870,
          885,
          900,
          906,
          906
         ],
         "y": [
          0,
          21.048,
          90.44999999999999,
          79.625,
          61.125,
          54,
          56.25,
          58.5,
          60.75,
          73.5,
          63,
          52.5,
          42,
          30,
          11.253333333333332,
          0
         ]
        },
        {
         "line": {
          "color": "green"
         },
         "mode": "lines",
         "name": "ID BEV 35",
         "type": "scatter",
         "x": [
          734.3639275229295,
          734.3639275229295,
          735,
          750,
          765,
          780,
          795,
          810,
          825,
          834,
          834
         ],
         "y": [
          0,
          21.048,
          100.49999999999999,
          91,
          71.3125,
          63,
          65.625,
          68.25,
          70.875,
          10.3125,
          0
         ]
        },
        {
         "line": {
          "color": "green"
         },
         "mode": "lines",
         "name": "ID BEV 39",
         "type": "scatter",
         "x": [
          834,
          834,
          840,
          855,
          870,
          885,
          894,
          894
         ],
         "y": [
          0,
          20.625,
          84,
          72,
          60,
          48,
          5.25,
          0
         ]
        },
        {
         "line": {
          "color": "green"
         },
         "mode": "lines",
         "name": "ID BEV 4",
         "type": "scatter",
         "x": [
          894,
          894,
          900,
          915,
          930,
          945,
          948,
          948
         ],
         "y": [
          0,
          10.5,
          36,
          23.625,
          27,
          22.5,
          6.746666666666666,
          0
         ]
        }
       ],
       "layout": {
        "template": {
         "data": {
          "bar": [
           {
            "error_x": {
             "color": "#2a3f5f"
            },
            "error_y": {
             "color": "#2a3f5f"
            },
            "marker": {
             "line": {
              "color": "white",
              "width": 0.5
             },
             "pattern": {
              "fillmode": "overlay",
              "size": 10,
              "solidity": 0.2
             }
            },
            "type": "bar"
           }
          ],
          "barpolar": [
           {
            "marker": {
             "line": {
              "color": "white",
              "width": 0.5
             },
             "pattern": {
              "fillmode": "overlay",
              "size": 10,
              "solidity": 0.2
             }
            },
            "type": "barpolar"
           }
          ],
          "carpet": [
           {
            "aaxis": {
             "endlinecolor": "#2a3f5f",
             "gridcolor": "#C8D4E3",
             "linecolor": "#C8D4E3",
             "minorgridcolor": "#C8D4E3",
             "startlinecolor": "#2a3f5f"
            },
            "baxis": {
             "endlinecolor": "#2a3f5f",
             "gridcolor": "#C8D4E3",
             "linecolor": "#C8D4E3",
             "minorgridcolor": "#C8D4E3",
             "startlinecolor": "#2a3f5f"
            },
            "type": "carpet"
           }
          ],
          "choropleth": [
           {
            "colorbar": {
             "outlinewidth": 0,
             "ticks": ""
            },
            "type": "choropleth"
           }
          ],
          "contour": [
           {
            "colorbar": {
             "outlinewidth": 0,
             "ticks": ""
            },
            "colorscale": [
             [
              0,
              "#0d0887"
             ],
             [
              0.1111111111111111,
              "#46039f"
             ],
             [
              0.2222222222222222,
              "#7201a8"
             ],
             [
              0.3333333333333333,
              "#9c179e"
             ],
             [
              0.4444444444444444,
              "#bd3786"
             ],
             [
              0.5555555555555556,
              "#d8576b"
             ],
             [
              0.6666666666666666,
              "#ed7953"
             ],
             [
              0.7777777777777778,
              "#fb9f3a"
             ],
             [
              0.8888888888888888,
              "#fdca26"
             ],
             [
              1,
              "#f0f921"
             ]
            ],
            "type": "contour"
           }
          ],
          "contourcarpet": [
           {
            "colorbar": {
             "outlinewidth": 0,
             "ticks": ""
            },
            "type": "contourcarpet"
           }
          ],
          "heatmap": [
           {
            "colorbar": {
             "outlinewidth": 0,
             "ticks": ""
            },
            "colorscale": [
             [
              0,
              "#0d0887"
             ],
             [
              0.1111111111111111,
              "#46039f"
             ],
             [
              0.2222222222222222,
              "#7201a8"
             ],
             [
              0.3333333333333333,
              "#9c179e"
             ],
             [
              0.4444444444444444,
              "#bd3786"
             ],
             [
              0.5555555555555556,
              "#d8576b"
             ],
             [
              0.6666666666666666,
              "#ed7953"
             ],
             [
              0.7777777777777778,
              "#fb9f3a"
             ],
             [
              0.8888888888888888,
              "#fdca26"
             ],
             [
              1,
              "#f0f921"
             ]
            ],
            "type": "heatmap"
           }
          ],
          "heatmapgl": [
           {
            "colorbar": {
             "outlinewidth": 0,
             "ticks": ""
            },
            "colorscale": [
             [
              0,
              "#0d0887"
             ],
             [
              0.1111111111111111,
              "#46039f"
             ],
             [
              0.2222222222222222,
              "#7201a8"
             ],
             [
              0.3333333333333333,
              "#9c179e"
             ],
             [
              0.4444444444444444,
              "#bd3786"
             ],
             [
              0.5555555555555556,
              "#d8576b"
             ],
             [
              0.6666666666666666,
              "#ed7953"
             ],
             [
              0.7777777777777778,
              "#fb9f3a"
             ],
             [
              0.8888888888888888,
              "#fdca26"
             ],
             [
              1,
              "#f0f921"
             ]
            ],
            "type": "heatmapgl"
           }
          ],
          "histogram": [
           {
            "marker": {
             "pattern": {
              "fillmode": "overlay",
              "size": 10,
              "solidity": 0.2
             }
            },
            "type": "histogram"
           }
          ],
          "histogram2d": [
           {
            "colorbar": {
             "outlinewidth": 0,
             "ticks": ""
            },
            "colorscale": [
             [
              0,
              "#0d0887"
             ],
             [
              0.1111111111111111,
              "#46039f"
             ],
             [
              0.2222222222222222,
              "#7201a8"
             ],
             [
              0.3333333333333333,
              "#9c179e"
             ],
             [
              0.4444444444444444,
              "#bd3786"
             ],
             [
              0.5555555555555556,
              "#d8576b"
             ],
             [
              0.6666666666666666,
              "#ed7953"
             ],
             [
              0.7777777777777778,
              "#fb9f3a"
             ],
             [
              0.8888888888888888,
              "#fdca26"
             ],
             [
              1,
              "#f0f921"
             ]
            ],
            "type": "histogram2d"
           }
          ],
          "histogram2dcontour": [
           {
            "colorbar": {
             "outlinewidth": 0,
             "ticks": ""
            },
            "colorscale": [
             [
              0,
              "#0d0887"
             ],
             [
              0.1111111111111111,
              "#46039f"
             ],
             [
              0.2222222222222222,
              "#7201a8"
             ],
             [
              0.3333333333333333,
              "#9c179e"
             ],
             [
              0.4444444444444444,
              "#bd3786"
             ],
             [
              0.5555555555555556,
              "#d8576b"
             ],
             [
              0.6666666666666666,
              "#ed7953"
             ],
             [
              0.7777777777777778,
              "#fb9f3a"
             ],
             [
              0.8888888888888888,
              "#fdca26"
             ],
             [
              1,
              "#f0f921"
             ]
            ],
            "type": "histogram2dcontour"
           }
          ],
          "mesh3d": [
           {
            "colorbar": {
             "outlinewidth": 0,
             "ticks": ""
            },
            "type": "mesh3d"
           }
          ],
          "parcoords": [
           {
            "line": {
             "colorbar": {
              "outlinewidth": 0,
              "ticks": ""
             }
            },
            "type": "parcoords"
           }
          ],
          "pie": [
           {
            "automargin": true,
            "type": "pie"
           }
          ],
          "scatter": [
           {
            "marker": {
             "colorbar": {
              "outlinewidth": 0,
              "ticks": ""
             }
            },
            "type": "scatter"
           }
          ],
          "scatter3d": [
           {
            "line": {
             "colorbar": {
              "outlinewidth": 0,
              "ticks": ""
             }
            },
            "marker": {
             "colorbar": {
              "outlinewidth": 0,
              "ticks": ""
             }
            },
            "type": "scatter3d"
           }
          ],
          "scattercarpet": [
           {
            "marker": {
             "colorbar": {
              "outlinewidth": 0,
              "ticks": ""
             }
            },
            "type": "scattercarpet"
           }
          ],
          "scattergeo": [
           {
            "marker": {
             "colorbar": {
              "outlinewidth": 0,
              "ticks": ""
             }
            },
            "type": "scattergeo"
           }
          ],
          "scattergl": [
           {
            "marker": {
             "colorbar": {
              "outlinewidth": 0,
              "ticks": ""
             }
            },
            "type": "scattergl"
           }
          ],
          "scattermapbox": [
           {
            "marker": {
             "colorbar": {
              "outlinewidth": 0,
              "ticks": ""
             }
            },
            "type": "scattermapbox"
           }
          ],
          "scatterpolar": [
           {
            "marker": {
             "colorbar": {
              "outlinewidth": 0,
              "ticks": ""
             }
            },
            "type": "scatterpolar"
           }
          ],
          "scatterpolargl": [
           {
            "marker": {
             "colorbar": {
              "outlinewidth": 0,
              "ticks": ""
             }
            },
            "type": "scatterpolargl"
           }
          ],
          "scatterternary": [
           {
            "marker": {
             "colorbar": {
              "outlinewidth": 0,
              "ticks": ""
             }
            },
            "type": "scatterternary"
           }
          ],
          "surface": [
           {
            "colorbar": {
             "outlinewidth": 0,
             "ticks": ""
            },
            "colorscale": [
             [
              0,
              "#0d0887"
             ],
             [
              0.1111111111111111,
              "#46039f"
             ],
             [
              0.2222222222222222,
              "#7201a8"
             ],
             [
              0.3333333333333333,
              "#9c179e"
             ],
             [
              0.4444444444444444,
              "#bd3786"
             ],
             [
              0.5555555555555556,
              "#d8576b"
             ],
             [
              0.6666666666666666,
              "#ed7953"
             ],
             [
              0.7777777777777778,
              "#fb9f3a"
             ],
             [
              0.8888888888888888,
              "#fdca26"
             ],
             [
              1,
              "#f0f921"
             ]
            ],
            "type": "surface"
           }
          ],
          "table": [
           {
            "cells": {
             "fill": {
              "color": "#EBF0F8"
             },
             "line": {
              "color": "white"
             }
            },
            "header": {
             "fill": {
              "color": "#C8D4E3"
             },
             "line": {
              "color": "white"
             }
            },
            "type": "table"
           }
          ]
         },
         "layout": {
          "annotationdefaults": {
           "arrowcolor": "#2a3f5f",
           "arrowhead": 0,
           "arrowwidth": 1
          },
          "autotypenumbers": "strict",
          "coloraxis": {
           "colorbar": {
            "outlinewidth": 0,
            "ticks": ""
           }
          },
          "colorscale": {
           "diverging": [
            [
             0,
             "#8e0152"
            ],
            [
             0.1,
             "#c51b7d"
            ],
            [
             0.2,
             "#de77ae"
            ],
            [
             0.3,
             "#f1b6da"
            ],
            [
             0.4,
             "#fde0ef"
            ],
            [
             0.5,
             "#f7f7f7"
            ],
            [
             0.6,
             "#e6f5d0"
            ],
            [
             0.7,
             "#b8e186"
            ],
            [
             0.8,
             "#7fbc41"
            ],
            [
             0.9,
             "#4d9221"
            ],
            [
             1,
             "#276419"
            ]
           ],
           "sequential": [
            [
             0,
             "#0d0887"
            ],
            [
             0.1111111111111111,
             "#46039f"
            ],
            [
             0.2222222222222222,
             "#7201a8"
            ],
            [
             0.3333333333333333,
             "#9c179e"
            ],
            [
             0.4444444444444444,
             "#bd3786"
            ],
            [
             0.5555555555555556,
             "#d8576b"
            ],
            [
             0.6666666666666666,
             "#ed7953"
            ],
            [
             0.7777777777777778,
             "#fb9f3a"
            ],
            [
             0.8888888888888888,
             "#fdca26"
            ],
            [
             1,
             "#f0f921"
            ]
           ],
           "sequentialminus": [
            [
             0,
             "#0d0887"
            ],
            [
             0.1111111111111111,
             "#46039f"
            ],
            [
             0.2222222222222222,
             "#7201a8"
            ],
            [
             0.3333333333333333,
             "#9c179e"
            ],
            [
             0.4444444444444444,
             "#bd3786"
            ],
            [
             0.5555555555555556,
             "#d8576b"
            ],
            [
             0.6666666666666666,
             "#ed7953"
            ],
            [
             0.7777777777777778,
             "#fb9f3a"
            ],
            [
             0.8888888888888888,
             "#fdca26"
            ],
            [
             1,
             "#f0f921"
            ]
           ]
          },
          "colorway": [
           "#636efa",
           "#EF553B",
           "#00cc96",
           "#ab63fa",
           "#FFA15A",
           "#19d3f3",
           "#FF6692",
           "#B6E880",
           "#FF97FF",
           "#FECB52"
          ],
          "font": {
           "color": "#2a3f5f"
          },
          "geo": {
           "bgcolor": "white",
           "lakecolor": "white",
           "landcolor": "white",
           "showlakes": true,
           "showland": true,
           "subunitcolor": "#C8D4E3"
          },
          "hoverlabel": {
           "align": "left"
          },
          "hovermode": "closest",
          "mapbox": {
           "style": "light"
          },
          "paper_bgcolor": "white",
          "plot_bgcolor": "white",
          "polar": {
           "angularaxis": {
            "gridcolor": "#EBF0F8",
            "linecolor": "#EBF0F8",
            "ticks": ""
           },
           "bgcolor": "white",
           "radialaxis": {
            "gridcolor": "#EBF0F8",
            "linecolor": "#EBF0F8",
            "ticks": ""
           }
          },
          "scene": {
           "xaxis": {
            "backgroundcolor": "white",
            "gridcolor": "#DFE8F3",
            "gridwidth": 2,
            "linecolor": "#EBF0F8",
            "showbackground": true,
            "ticks": "",
            "zerolinecolor": "#EBF0F8"
           },
           "yaxis": {
            "backgroundcolor": "white",
            "gridcolor": "#DFE8F3",
            "gridwidth": 2,
            "linecolor": "#EBF0F8",
            "showbackground": true,
            "ticks": "",
            "zerolinecolor": "#EBF0F8"
           },
           "zaxis": {
            "backgroundcolor": "white",
            "gridcolor": "#DFE8F3",
            "gridwidth": 2,
            "linecolor": "#EBF0F8",
            "showbackground": true,
            "ticks": "",
            "zerolinecolor": "#EBF0F8"
           }
          },
          "shapedefaults": {
           "line": {
            "color": "#2a3f5f"
           }
          },
          "ternary": {
           "aaxis": {
            "gridcolor": "#DFE8F3",
            "linecolor": "#A2B1C6",
            "ticks": ""
           },
           "baxis": {
            "gridcolor": "#DFE8F3",
            "linecolor": "#A2B1C6",
            "ticks": ""
           },
           "bgcolor": "white",
           "caxis": {
            "gridcolor": "#DFE8F3",
            "linecolor": "#A2B1C6",
            "ticks": ""
           }
          },
          "title": {
           "x": 0.05
          },
          "xaxis": {
           "automargin": true,
           "gridcolor": "#EBF0F8",
           "linecolor": "#EBF0F8",
           "ticks": "",
           "title": {
            "standoff": 15
           },
           "zerolinecolor": "#EBF0F8",
           "zerolinewidth": 2
          },
          "yaxis": {
           "automargin": true,
           "gridcolor": "#EBF0F8",
           "linecolor": "#EBF0F8",
           "ticks": "",
           "title": {
            "standoff": 15
           },
           "zerolinecolor": "#EBF0F8",
           "zerolinewidth": 2
          }
         }
        },
        "title": {
         "font": {
          "size": 24
         },
         "text": "Ladeleistung pro Ladezeitraum eines BEVs",
         "x": 0.5,
         "xanchor": "center"
        },
        "xaxis": {
         "range": [
          480,
          960
         ],
         "showgrid": true,
         "title": {
          "text": "Minuten"
         }
        },
        "yaxis": {
         "range": [
          0,
          60
         ],
         "title": {
          "text": "Energie in kW"
         }
        }
       }
      },
      "text/html": [
       "<div>                            <div id=\"3c445b34-25dd-49ed-8fa2-11ab8f5826ac\" class=\"plotly-graph-div\" style=\"height:525px; width:100%;\"></div>            <script type=\"text/javascript\">                require([\"plotly\"], function(Plotly) {                    window.PLOTLYENV=window.PLOTLYENV || {};                                    if (document.getElementById(\"3c445b34-25dd-49ed-8fa2-11ab8f5826ac\")) {                    Plotly.newPlot(                        \"3c445b34-25dd-49ed-8fa2-11ab8f5826ac\",                        [{\"line\":{\"color\":\"orange\"},\"name\":\"Verf\\u00fcgbare Solarleistung\",\"x\":[480,495,510,525,540,555,570,585,600,615,630,645,660,675,690,705,720,735,750,765,780,795,810,825,840,855,870,885,900,915,930,945,960],\"y\":[-2.0,3.25,8.5,13.749999999999998,19.0,27.0,35.0,43.0,51.0,50.75,50.5,50.25,50.0,51.25,52.5,53.75,55.0,50.25,45.5,40.75,36.0,37.5,39.0,40.5,42.0,36.0,30.0,24.0,18.0,15.75,13.5,11.25,9.0],\"type\":\"scatter\"},{\"line\":{\"color\":\"green\"},\"mode\":\"lines\",\"name\":\"ID BEV 2\",\"x\":[932.4959612277868,932.4959612277868,945.0,960.0,960.0],\"y\":[6.19,0.0,5.625,0.0,9.0],\"type\":\"scatter\"},{\"line\":{\"color\":\"green\"},\"mode\":\"lines\",\"name\":\"ID BEV 6\",\"x\":[921.9151846785226,921.9151846785226,930.0,945.0,945.0],\"y\":[7.31,0.0,6.75,0.0,11.25],\"type\":\"scatter\"},{\"line\":{\"color\":\"green\"},\"mode\":\"lines\",\"name\":\"ID BEV 9\",\"x\":[887.3725132702516,887.3725132702516,900.0,915.0,930.0,932.4959612277868,932.4959612277868],\"y\":[10.5,0.0,9.0,7.875,13.5,0.0,12.38],\"type\":\"scatter\"},{\"line\":{\"color\":\"green\"},\"mode\":\"lines\",\"name\":\"ID BEV 10\",\"x\":[840.9566452699147,855.0,870.0,885.0,900.0,906.0,915.0,921.9151846785226,921.9151846785226,930.0,945.0,945.0],\"y\":[9.75,9.0,10.0,8.0,18.0,5.626666666666666,13.125,0.0,14.62,18.0,15.0,0.0],\"type\":\"scatter\"},{\"line\":{\"color\":\"green\"},\"mode\":\"lines\",\"name\":\"ID BEV 11\",\"x\":[870.8845988152935,870.8845988152935,885.0,887.3725132702516,887.3725132702516],\"y\":[9.0,0.0,16.0,0.0,21.0],\"type\":\"scatter\"},{\"line\":{\"color\":\"green\"},\"mode\":\"lines\",\"name\":\"ID BEV 14\",\"x\":[868.459090909091,868.459090909091,870.0,885.0,885.0],\"y\":[11.0,0.0,20.0,0.0,24.0],\"type\":\"scatter\"},{\"line\":{\"color\":\"green\"},\"mode\":\"lines\",\"name\":\"ID BEV 15\",\"x\":[555.0,570.0,585.0,600.0,615.0,630.0,645.0,660.0,675.0,690.0,705.0,720.0,735.0,750.0,765.0,780.0,795.0,810.0,825.0,840.0,855.0,870.0,870.8845988152935,870.8845988152935,948.0,948.0],\"y\":[5.4,7.0,8.6,10.2,10.15,10.1,10.05,10.0,10.25,10.5,10.75,11.0,10.05,9.1,10.1875,9.0,9.375,9.75,10.125,10.5,18.0,30.0,0.0,18.0,3.373333333333333,0.0],\"type\":\"scatter\"},{\"line\":{\"color\":\"green\"},\"mode\":\"lines\",\"name\":\"ID BEV 17\",\"x\":[639.5871377530766,645.0,660.0,675.0,690.0,705.0,720.0,733.0284354300701,733.0284354300701,819.4475986277874,825.0,840.0,855.0,868.459090909091,868.459090909091],\"y\":[10.076,20.1,20.0,20.5,21.0,21.5,22.0,10.524,0.0,9.9375,20.25,21.0,27.0,0.0,22.0],\"type\":\"scatter\"},{\"line\":{\"color\":\"green\"},\"mode\":\"lines\",\"name\":\"ID BEV 21\",\"x\":[831.9563636363637,831.9563636363637,840.0,855.0,855.0],\"y\":[10.3125,0.0,31.5,0.0,36.0],\"type\":\"scatter\"},{\"line\":{\"color\":\"green\"},\"mode\":\"lines\",\"name\":\"ID BEV 22\",\"x\":[720.3752317928123,720.3752317928123,735.0,750.0,765.0,780.0,795.0,810.0,825.0,840.0,840.9566452699147,840.9566452699147],\"y\":[10.524,0.0,20.1,18.2,20.375,18.0,18.75,19.5,30.375,42.0,0.0,19.5],\"type\":\"scatter\"},{\"line\":{\"color\":\"green\"},\"mode\":\"lines\",\"name\":\"ID BEV 24\",\"x\":[689.1765971119358,690.0,705.0,720.0,735.0,750.0,752.4577449822906,765.0,780.0,795.0,810.0,825.0,831.9563636363637,831.9563636363637,840.0,855.0,870.0,885.0,900.0,915.0,930.0,945.0,945.0],\"y\":[10.376000000000001,31.5,32.25,33.0,30.150000000000002,29.575,10.78,30.5625,27.0,28.125,29.25,40.5,0.0,20.625,52.5,45.0,37.5,30.0,24.0,18.375,22.5,18.75,0.0],\"type\":\"scatter\"},{\"line\":{\"color\":\"green\"},\"mode\":\"lines\",\"name\":\"ID BEV 26\",\"x\":[540.0,555.0,570.0,585.0,592.3563829787234,592.3563829787234,753.5229772234019,765.0,780.0,795.0,810.0,819.4475986277874,819.4475986277874],\"y\":[6.333333333333333,14.4,15.75,17.2,9.4,0.0,10.78,40.75,36.0,37.5,39.0,0.0,19.875],\"type\":\"scatter\"},{\"line\":{\"color\":\"green\"},\"mode\":\"lines\",\"name\":\"ID BEV 38\",\"x\":[752.4577449822906,752.4577449822906,752.4577449822906],\"y\":[0.0,21.56,0.0],\"type\":\"scatter\"},{\"line\":{\"color\":\"green\"},\"mode\":\"lines\",\"name\":\"ID BEV 42\",\"x\":[630.963567261702,630.963567261702,645.0,660.0,675.0,690.0,705.0,720.0,735.0,750.0,753.5229772234019,753.5229772234019],\"y\":[10.076,0.0,30.150000000000002,30.0,30.75,42.0,43.0,44.0,40.2,38.675,0.0,21.56],\"type\":\"scatter\"},{\"line\":{\"color\":\"green\"},\"mode\":\"lines\",\"name\":\"ID BEV 1\",\"x\":[480.0,495.0,510.0,525.0,540.0,555.0,558.1112903225807,558.1112903225807,706.277123942626,720.0,735.0,750.0,750.0],\"y\":[-2.0,3.25,4.25,6.875,12.666666666666666,23.4,10.333333333333334,0.0,10.876000000000001,55.0,50.25,0.0,47.775],\"type\":\"scatter\"},{\"line\":{\"color\":\"green\"},\"mode\":\"lines\",\"name\":\"ID BEV 18\",\"x\":[654.1448014127797,660.0,675.0,690.0,705.0,707.3942625965428,720.0,732.7317701157781,732.7317701157781,735.0,750.0,750.0],\"y\":[10.024,40.0,41.0,52.5,53.75,10.876000000000001,66.0,10.524,0.0,60.3,0.0,56.875],\"type\":\"scatter\"},{\"line\":{\"color\":\"green\"},\"mode\":\"lines\",\"name\":\"ID BEV 32\",\"x\":[525.0,540.0,555.0,570.0,585.0,600.0,615.0,630.0,645.0,660.0,675.0,690.0,705.0,720.0,720.3752317928123,720.3752317928123,733.0284354300701,735.0,750.0,765.0,780.0,795.0,810.0,825.0,840.0,855.0,870.0,885.0,885.0],\"y\":[13.75,22.166666666666664,28.799999999999997,22.75,25.799999999999997,20.4,20.3,20.2,40.2,50.0,51.25,63.0,64.5,77.0,0.0,21.048,21.048,70.35,68.25,50.9375,45.0,46.875,48.75,50.625,63.0,54.0,45.0,36.0,0.0],\"type\":\"scatter\"},{\"line\":{\"color\":\"green\"},\"mode\":\"lines\",\"name\":\"ID BEV 20\",\"x\":[555.0,555.0,570.0,585.0,600.0,615.0,630.0,645.0,660.0,675.0,690.0,705.0,706.277123942626,706.277123942626],\"y\":[34.199999999999996,0.0,29.75,34.4,30.599999999999998,30.450000000000003,30.299999999999997,50.25,60.0,61.5,73.5,75.25,0.0,21.752000000000002],\"type\":\"scatter\"},{\"line\":{\"color\":\"green\"},\"mode\":\"lines\",\"name\":\"ID BEV 49\",\"x\":[495.0,510.0,525.0,540.0,555.0,570.0,585.0,592.3563829787234,600.0,615.0,630.0,645.0,654.1448014127797,654.1448014127797,660.0,675.0,690.0,705.0,707.3942625965428,707.3942625965428],\"y\":[6.5,12.75,20.625,31.666666666666664,39.599999999999994,36.75,43.0,18.8,40.8,40.6,40.4,60.3,20.048,0.0,70.0,71.75,84.0,86.0,21.752000000000002,0.0],\"type\":\"scatter\"},{\"line\":{\"color\":\"green\"},\"mode\":\"lines\",\"name\":\"ID BEV 45\",\"x\":[555.0,555.0,570.0,585.0,600.0,615.0,630.0,630.963567261702,630.963567261702],\"y\":[44.99999999999999,0.0,43.75,51.6,51.0,50.75,50.5,0.0,20.152],\"type\":\"scatter\"},{\"line\":{\"color\":\"green\"},\"mode\":\"lines\",\"name\":\"ID BEV 13\",\"x\":[510.0,510.0,525.0,540.0,555.0,557.516129032258,557.516129032258],\"y\":[0.0,17.0,27.5,38.0,53.99999999999999,10.333333333333334,0.0],\"type\":\"scatter\"},{\"line\":{\"color\":\"green\"},\"mode\":\"lines\",\"name\":\"ID BEV 31\",\"x\":[558.1112903225807,558.1112903225807,570.0,585.0,600.0,608.8474066113816,608.8474066113816],\"y\":[0.0,20.666666666666668,52.5,60.2,61.2,10.176,0.0],\"type\":\"scatter\"},{\"line\":{\"color\":\"green\"},\"mode\":\"lines\",\"name\":\"ID BEV 37\",\"x\":[557.516129032258,557.516129032258,570.0,585.0,587.8491763898421,587.8491763898421],\"y\":[0.0,20.666666666666668,61.25,68.8,9.4,0.0],\"type\":\"scatter\"},{\"line\":{\"color\":\"green\"},\"mode\":\"lines\",\"name\":\"ID BEV 41\",\"x\":[570.0,570.0,585.0,589.563829787234,589.563829787234],\"y\":[0.0,70.0,77.39999999999999,9.4,0.0],\"type\":\"scatter\"},{\"line\":{\"color\":\"green\"},\"mode\":\"lines\",\"name\":\"ID BEV 47\",\"x\":[585.0,585.0,600.0,615.0,615.4355985776373,615.4355985776373],\"y\":[0.0,85.99999999999999,71.4,60.9,10.123999999999999,0.0],\"type\":\"scatter\"},{\"line\":{\"color\":\"green\"},\"mode\":\"lines\",\"name\":\"ID BEV 3\",\"x\":[587.8491763898421,587.8491763898421,600.0,615.0,621.5671154689401,621.5671154689401],\"y\":[0.0,18.8,81.60000000000001,71.05,10.123999999999999,0.0],\"type\":\"scatter\"},{\"line\":{\"color\":\"green\"},\"mode\":\"lines\",\"name\":\"ID BEV 5\",\"x\":[589.563829787234,589.563829787234,600.0,614.3425707547169,614.3425707547169],\"y\":[0.0,18.8,91.80000000000001,10.176,0.0],\"type\":\"scatter\"},{\"line\":{\"color\":\"green\"},\"mode\":\"lines\",\"name\":\"ID BEV 7\",\"x\":[608.8474066113816,608.8474066113816,615.0,630.0,645.0,660.0,675.0,689.1765971119358,689.1765971119358],\"y\":[0.0,20.352,81.2,60.6,70.35,80.0,82.0,20.752000000000002,0.0],\"type\":\"scatter\"},{\"line\":{\"color\":\"green\"},\"mode\":\"lines\",\"name\":\"ID BEV 8\",\"x\":[614.3425707547169,614.3425707547169,615.0,630.0,645.0,660.0,675.0,690.0,705.0,720.0,735.0,735.0],\"y\":[0.0,20.352,91.35000000000001,70.7,80.39999999999999,90.0,92.25,94.5,96.75,88.0,80.39999999999999,0.0],\"type\":\"scatter\"},{\"line\":{\"color\":\"green\"},\"mode\":\"lines\",\"name\":\"ID BEV 12\",\"x\":[615.4355985776373,615.4355985776373,630.0,639.5871377530766,639.5871377530766],\"y\":[0.0,20.247999999999998,80.8,20.152,0.0],\"type\":\"scatter\"},{\"line\":{\"color\":\"green\"},\"mode\":\"lines\",\"name\":\"ID BEV 16\",\"x\":[621.5671154689401,621.5671154689401,630.0,645.0,660.0,667.9241898393169,667.9241898393169],\"y\":[0.0,20.247999999999998,90.89999999999999,90.44999999999999,100.0,10.123999999999999,0.0],\"type\":\"scatter\"},{\"line\":{\"color\":\"green\"},\"mode\":\"lines\",\"name\":\"ID BEV 19\",\"x\":[667.9241898393169,667.9241898393169,675.0,690.0,705.0,720.0,734.3639275229295,734.3639275229295],\"y\":[0.0,20.247999999999998,102.5,105.0,107.5,99.0,10.524,0.0],\"type\":\"scatter\"},{\"line\":{\"color\":\"green\"},\"mode\":\"lines\",\"name\":\"ID BEV 34\",\"x\":[732.7317701157781,732.7317701157781,735.0,750.0,765.0,780.0,795.0,810.0,825.0,840.0,855.0,870.0,885.0,900.0,906.0,906.0],\"y\":[0.0,21.048,90.44999999999999,79.625,61.125,54.0,56.25,58.5,60.75,73.5,63.0,52.5,42.0,30.0,11.253333333333332,0.0],\"type\":\"scatter\"},{\"line\":{\"color\":\"green\"},\"mode\":\"lines\",\"name\":\"ID BEV 35\",\"x\":[734.3639275229295,734.3639275229295,735.0,750.0,765.0,780.0,795.0,810.0,825.0,834.0,834.0],\"y\":[0.0,21.048,100.49999999999999,91.0,71.3125,63.0,65.625,68.25,70.875,10.3125,0.0],\"type\":\"scatter\"},{\"line\":{\"color\":\"green\"},\"mode\":\"lines\",\"name\":\"ID BEV 39\",\"x\":[834,834,840,855,870,885,894,894],\"y\":[0.0,20.625,84.0,72.0,60.0,48.0,5.25,0.0],\"type\":\"scatter\"},{\"line\":{\"color\":\"green\"},\"mode\":\"lines\",\"name\":\"ID BEV 4\",\"x\":[894,894,900,915,930,945,948,948],\"y\":[0.0,10.5,36.0,23.625,27.0,22.5,6.746666666666666,0.0],\"type\":\"scatter\"}],                        {\"template\":{\"data\":{\"barpolar\":[{\"marker\":{\"line\":{\"color\":\"white\",\"width\":0.5},\"pattern\":{\"fillmode\":\"overlay\",\"size\":10,\"solidity\":0.2}},\"type\":\"barpolar\"}],\"bar\":[{\"error_x\":{\"color\":\"#2a3f5f\"},\"error_y\":{\"color\":\"#2a3f5f\"},\"marker\":{\"line\":{\"color\":\"white\",\"width\":0.5},\"pattern\":{\"fillmode\":\"overlay\",\"size\":10,\"solidity\":0.2}},\"type\":\"bar\"}],\"carpet\":[{\"aaxis\":{\"endlinecolor\":\"#2a3f5f\",\"gridcolor\":\"#C8D4E3\",\"linecolor\":\"#C8D4E3\",\"minorgridcolor\":\"#C8D4E3\",\"startlinecolor\":\"#2a3f5f\"},\"baxis\":{\"endlinecolor\":\"#2a3f5f\",\"gridcolor\":\"#C8D4E3\",\"linecolor\":\"#C8D4E3\",\"minorgridcolor\":\"#C8D4E3\",\"startlinecolor\":\"#2a3f5f\"},\"type\":\"carpet\"}],\"choropleth\":[{\"colorbar\":{\"outlinewidth\":0,\"ticks\":\"\"},\"type\":\"choropleth\"}],\"contourcarpet\":[{\"colorbar\":{\"outlinewidth\":0,\"ticks\":\"\"},\"type\":\"contourcarpet\"}],\"contour\":[{\"colorbar\":{\"outlinewidth\":0,\"ticks\":\"\"},\"colorscale\":[[0.0,\"#0d0887\"],[0.1111111111111111,\"#46039f\"],[0.2222222222222222,\"#7201a8\"],[0.3333333333333333,\"#9c179e\"],[0.4444444444444444,\"#bd3786\"],[0.5555555555555556,\"#d8576b\"],[0.6666666666666666,\"#ed7953\"],[0.7777777777777778,\"#fb9f3a\"],[0.8888888888888888,\"#fdca26\"],[1.0,\"#f0f921\"]],\"type\":\"contour\"}],\"heatmapgl\":[{\"colorbar\":{\"outlinewidth\":0,\"ticks\":\"\"},\"colorscale\":[[0.0,\"#0d0887\"],[0.1111111111111111,\"#46039f\"],[0.2222222222222222,\"#7201a8\"],[0.3333333333333333,\"#9c179e\"],[0.4444444444444444,\"#bd3786\"],[0.5555555555555556,\"#d8576b\"],[0.6666666666666666,\"#ed7953\"],[0.7777777777777778,\"#fb9f3a\"],[0.8888888888888888,\"#fdca26\"],[1.0,\"#f0f921\"]],\"type\":\"heatmapgl\"}],\"heatmap\":[{\"colorbar\":{\"outlinewidth\":0,\"ticks\":\"\"},\"colorscale\":[[0.0,\"#0d0887\"],[0.1111111111111111,\"#46039f\"],[0.2222222222222222,\"#7201a8\"],[0.3333333333333333,\"#9c179e\"],[0.4444444444444444,\"#bd3786\"],[0.5555555555555556,\"#d8576b\"],[0.6666666666666666,\"#ed7953\"],[0.7777777777777778,\"#fb9f3a\"],[0.8888888888888888,\"#fdca26\"],[1.0,\"#f0f921\"]],\"type\":\"heatmap\"}],\"histogram2dcontour\":[{\"colorbar\":{\"outlinewidth\":0,\"ticks\":\"\"},\"colorscale\":[[0.0,\"#0d0887\"],[0.1111111111111111,\"#46039f\"],[0.2222222222222222,\"#7201a8\"],[0.3333333333333333,\"#9c179e\"],[0.4444444444444444,\"#bd3786\"],[0.5555555555555556,\"#d8576b\"],[0.6666666666666666,\"#ed7953\"],[0.7777777777777778,\"#fb9f3a\"],[0.8888888888888888,\"#fdca26\"],[1.0,\"#f0f921\"]],\"type\":\"histogram2dcontour\"}],\"histogram2d\":[{\"colorbar\":{\"outlinewidth\":0,\"ticks\":\"\"},\"colorscale\":[[0.0,\"#0d0887\"],[0.1111111111111111,\"#46039f\"],[0.2222222222222222,\"#7201a8\"],[0.3333333333333333,\"#9c179e\"],[0.4444444444444444,\"#bd3786\"],[0.5555555555555556,\"#d8576b\"],[0.6666666666666666,\"#ed7953\"],[0.7777777777777778,\"#fb9f3a\"],[0.8888888888888888,\"#fdca26\"],[1.0,\"#f0f921\"]],\"type\":\"histogram2d\"}],\"histogram\":[{\"marker\":{\"pattern\":{\"fillmode\":\"overlay\",\"size\":10,\"solidity\":0.2}},\"type\":\"histogram\"}],\"mesh3d\":[{\"colorbar\":{\"outlinewidth\":0,\"ticks\":\"\"},\"type\":\"mesh3d\"}],\"parcoords\":[{\"line\":{\"colorbar\":{\"outlinewidth\":0,\"ticks\":\"\"}},\"type\":\"parcoords\"}],\"pie\":[{\"automargin\":true,\"type\":\"pie\"}],\"scatter3d\":[{\"line\":{\"colorbar\":{\"outlinewidth\":0,\"ticks\":\"\"}},\"marker\":{\"colorbar\":{\"outlinewidth\":0,\"ticks\":\"\"}},\"type\":\"scatter3d\"}],\"scattercarpet\":[{\"marker\":{\"colorbar\":{\"outlinewidth\":0,\"ticks\":\"\"}},\"type\":\"scattercarpet\"}],\"scattergeo\":[{\"marker\":{\"colorbar\":{\"outlinewidth\":0,\"ticks\":\"\"}},\"type\":\"scattergeo\"}],\"scattergl\":[{\"marker\":{\"colorbar\":{\"outlinewidth\":0,\"ticks\":\"\"}},\"type\":\"scattergl\"}],\"scattermapbox\":[{\"marker\":{\"colorbar\":{\"outlinewidth\":0,\"ticks\":\"\"}},\"type\":\"scattermapbox\"}],\"scatterpolargl\":[{\"marker\":{\"colorbar\":{\"outlinewidth\":0,\"ticks\":\"\"}},\"type\":\"scatterpolargl\"}],\"scatterpolar\":[{\"marker\":{\"colorbar\":{\"outlinewidth\":0,\"ticks\":\"\"}},\"type\":\"scatterpolar\"}],\"scatter\":[{\"marker\":{\"colorbar\":{\"outlinewidth\":0,\"ticks\":\"\"}},\"type\":\"scatter\"}],\"scatterternary\":[{\"marker\":{\"colorbar\":{\"outlinewidth\":0,\"ticks\":\"\"}},\"type\":\"scatterternary\"}],\"surface\":[{\"colorbar\":{\"outlinewidth\":0,\"ticks\":\"\"},\"colorscale\":[[0.0,\"#0d0887\"],[0.1111111111111111,\"#46039f\"],[0.2222222222222222,\"#7201a8\"],[0.3333333333333333,\"#9c179e\"],[0.4444444444444444,\"#bd3786\"],[0.5555555555555556,\"#d8576b\"],[0.6666666666666666,\"#ed7953\"],[0.7777777777777778,\"#fb9f3a\"],[0.8888888888888888,\"#fdca26\"],[1.0,\"#f0f921\"]],\"type\":\"surface\"}],\"table\":[{\"cells\":{\"fill\":{\"color\":\"#EBF0F8\"},\"line\":{\"color\":\"white\"}},\"header\":{\"fill\":{\"color\":\"#C8D4E3\"},\"line\":{\"color\":\"white\"}},\"type\":\"table\"}]},\"layout\":{\"annotationdefaults\":{\"arrowcolor\":\"#2a3f5f\",\"arrowhead\":0,\"arrowwidth\":1},\"autotypenumbers\":\"strict\",\"coloraxis\":{\"colorbar\":{\"outlinewidth\":0,\"ticks\":\"\"}},\"colorscale\":{\"diverging\":[[0,\"#8e0152\"],[0.1,\"#c51b7d\"],[0.2,\"#de77ae\"],[0.3,\"#f1b6da\"],[0.4,\"#fde0ef\"],[0.5,\"#f7f7f7\"],[0.6,\"#e6f5d0\"],[0.7,\"#b8e186\"],[0.8,\"#7fbc41\"],[0.9,\"#4d9221\"],[1,\"#276419\"]],\"sequential\":[[0.0,\"#0d0887\"],[0.1111111111111111,\"#46039f\"],[0.2222222222222222,\"#7201a8\"],[0.3333333333333333,\"#9c179e\"],[0.4444444444444444,\"#bd3786\"],[0.5555555555555556,\"#d8576b\"],[0.6666666666666666,\"#ed7953\"],[0.7777777777777778,\"#fb9f3a\"],[0.8888888888888888,\"#fdca26\"],[1.0,\"#f0f921\"]],\"sequentialminus\":[[0.0,\"#0d0887\"],[0.1111111111111111,\"#46039f\"],[0.2222222222222222,\"#7201a8\"],[0.3333333333333333,\"#9c179e\"],[0.4444444444444444,\"#bd3786\"],[0.5555555555555556,\"#d8576b\"],[0.6666666666666666,\"#ed7953\"],[0.7777777777777778,\"#fb9f3a\"],[0.8888888888888888,\"#fdca26\"],[1.0,\"#f0f921\"]]},\"colorway\":[\"#636efa\",\"#EF553B\",\"#00cc96\",\"#ab63fa\",\"#FFA15A\",\"#19d3f3\",\"#FF6692\",\"#B6E880\",\"#FF97FF\",\"#FECB52\"],\"font\":{\"color\":\"#2a3f5f\"},\"geo\":{\"bgcolor\":\"white\",\"lakecolor\":\"white\",\"landcolor\":\"white\",\"showlakes\":true,\"showland\":true,\"subunitcolor\":\"#C8D4E3\"},\"hoverlabel\":{\"align\":\"left\"},\"hovermode\":\"closest\",\"mapbox\":{\"style\":\"light\"},\"paper_bgcolor\":\"white\",\"plot_bgcolor\":\"white\",\"polar\":{\"angularaxis\":{\"gridcolor\":\"#EBF0F8\",\"linecolor\":\"#EBF0F8\",\"ticks\":\"\"},\"bgcolor\":\"white\",\"radialaxis\":{\"gridcolor\":\"#EBF0F8\",\"linecolor\":\"#EBF0F8\",\"ticks\":\"\"}},\"scene\":{\"xaxis\":{\"backgroundcolor\":\"white\",\"gridcolor\":\"#DFE8F3\",\"gridwidth\":2,\"linecolor\":\"#EBF0F8\",\"showbackground\":true,\"ticks\":\"\",\"zerolinecolor\":\"#EBF0F8\"},\"yaxis\":{\"backgroundcolor\":\"white\",\"gridcolor\":\"#DFE8F3\",\"gridwidth\":2,\"linecolor\":\"#EBF0F8\",\"showbackground\":true,\"ticks\":\"\",\"zerolinecolor\":\"#EBF0F8\"},\"zaxis\":{\"backgroundcolor\":\"white\",\"gridcolor\":\"#DFE8F3\",\"gridwidth\":2,\"linecolor\":\"#EBF0F8\",\"showbackground\":true,\"ticks\":\"\",\"zerolinecolor\":\"#EBF0F8\"}},\"shapedefaults\":{\"line\":{\"color\":\"#2a3f5f\"}},\"ternary\":{\"aaxis\":{\"gridcolor\":\"#DFE8F3\",\"linecolor\":\"#A2B1C6\",\"ticks\":\"\"},\"baxis\":{\"gridcolor\":\"#DFE8F3\",\"linecolor\":\"#A2B1C6\",\"ticks\":\"\"},\"bgcolor\":\"white\",\"caxis\":{\"gridcolor\":\"#DFE8F3\",\"linecolor\":\"#A2B1C6\",\"ticks\":\"\"}},\"title\":{\"x\":0.05},\"xaxis\":{\"automargin\":true,\"gridcolor\":\"#EBF0F8\",\"linecolor\":\"#EBF0F8\",\"ticks\":\"\",\"title\":{\"standoff\":15},\"zerolinecolor\":\"#EBF0F8\",\"zerolinewidth\":2},\"yaxis\":{\"automargin\":true,\"gridcolor\":\"#EBF0F8\",\"linecolor\":\"#EBF0F8\",\"ticks\":\"\",\"title\":{\"standoff\":15},\"zerolinecolor\":\"#EBF0F8\",\"zerolinewidth\":2}}},\"xaxis\":{\"range\":[480,960],\"showgrid\":true,\"title\":{\"text\":\"Minuten\"}},\"yaxis\":{\"range\":[0,60],\"title\":{\"text\":\"Energie in kW\"}},\"title\":{\"font\":{\"size\":24},\"text\":\"Ladeleistung pro Ladezeitraum eines BEVs\",\"x\":0.5,\"xanchor\":\"center\"}},                        {\"responsive\": true}                    ).then(function(){\n",
       "                            \n",
       "var gd = document.getElementById('3c445b34-25dd-49ed-8fa2-11ab8f5826ac');\n",
       "var x = new MutationObserver(function (mutations, observer) {{\n",
       "        var display = window.getComputedStyle(gd).display;\n",
       "        if (!display || display === 'none') {{\n",
       "            console.log([gd, 'removed!']);\n",
       "            Plotly.purge(gd);\n",
       "            observer.disconnect();\n",
       "        }}\n",
       "}});\n",
       "\n",
       "// Listen for the removal of the full notebook cells\n",
       "var notebookContainer = gd.closest('#notebook-container');\n",
       "if (notebookContainer) {{\n",
       "    x.observe(notebookContainer, {childList: true});\n",
       "}}\n",
       "\n",
       "// Listen for the clearing of the current output cell\n",
       "var outputEl = gd.closest('.output');\n",
       "if (outputEl) {{\n",
       "    x.observe(outputEl, {childList: true});\n",
       "}}\n",
       "\n",
       "                        })                };                });            </script>        </div>"
      ]
     },
     "metadata": {},
     "output_type": "display_data"
    }
   ],
   "source": [
    "import figureGeneration\n",
    "\n",
    "figureGeneration.create_charging_power_figure(simulation_day, solarpeakleistung, bev_data, minute_interval)"
   ]
  },
  {
   "cell_type": "code",
   "execution_count": 7,
   "metadata": {
    "pycharm": {
     "is_executing": true
    }
   },
   "outputs": [
    {
     "data": {
      "application/vnd.plotly.v1+json": {
       "config": {
        "plotlyServerURL": "https://plot.ly"
       },
       "data": [
        {
         "line": {
          "color": "red"
         },
         "name": "Wartende BEVs",
         "type": "scatter",
         "x": [
          480,
          495,
          510,
          525,
          540,
          555,
          570,
          585,
          600,
          615,
          630,
          645,
          660,
          675,
          690,
          705,
          720,
          735,
          750,
          765,
          780,
          795,
          810,
          825,
          840,
          855,
          870,
          885,
          900,
          915,
          930,
          945,
          960
         ],
         "y": [
          8,
          7,
          24,
          23,
          33,
          32,
          32,
          31,
          27,
          25,
          23,
          22,
          21,
          20,
          19,
          18,
          22,
          18,
          20,
          20,
          26,
          26,
          25,
          24,
          23,
          22,
          21,
          21,
          19,
          17,
          17,
          17,
          0
         ]
        },
        {
         "line": {
          "color": "blue"
         },
         "name": "Ladende BEVs",
         "type": "scatter",
         "x": [
          960,
          945,
          930,
          915,
          900,
          885,
          870,
          855,
          840,
          825,
          810,
          795,
          780,
          765,
          750,
          735,
          720,
          705,
          690,
          675,
          660,
          645,
          630,
          615,
          600,
          585,
          570,
          555,
          540,
          525,
          510,
          495,
          480
         ],
         "y": [
          0,
          3,
          3,
          3,
          3,
          4,
          4,
          4,
          4,
          4,
          4,
          4,
          4,
          4,
          4,
          5,
          5,
          5,
          5,
          5,
          5,
          5,
          5,
          5,
          5,
          5,
          4,
          3,
          3,
          2,
          2,
          1,
          1
         ]
        }
       ],
       "layout": {
        "legend": {
         "tracegroupgap": 0
        },
        "margin": {
         "t": 60
        },
        "template": {
         "data": {
          "bar": [
           {
            "error_x": {
             "color": "#2a3f5f"
            },
            "error_y": {
             "color": "#2a3f5f"
            },
            "marker": {
             "line": {
              "color": "white",
              "width": 0.5
             },
             "pattern": {
              "fillmode": "overlay",
              "size": 10,
              "solidity": 0.2
             }
            },
            "type": "bar"
           }
          ],
          "barpolar": [
           {
            "marker": {
             "line": {
              "color": "white",
              "width": 0.5
             },
             "pattern": {
              "fillmode": "overlay",
              "size": 10,
              "solidity": 0.2
             }
            },
            "type": "barpolar"
           }
          ],
          "carpet": [
           {
            "aaxis": {
             "endlinecolor": "#2a3f5f",
             "gridcolor": "#C8D4E3",
             "linecolor": "#C8D4E3",
             "minorgridcolor": "#C8D4E3",
             "startlinecolor": "#2a3f5f"
            },
            "baxis": {
             "endlinecolor": "#2a3f5f",
             "gridcolor": "#C8D4E3",
             "linecolor": "#C8D4E3",
             "minorgridcolor": "#C8D4E3",
             "startlinecolor": "#2a3f5f"
            },
            "type": "carpet"
           }
          ],
          "choropleth": [
           {
            "colorbar": {
             "outlinewidth": 0,
             "ticks": ""
            },
            "type": "choropleth"
           }
          ],
          "contour": [
           {
            "colorbar": {
             "outlinewidth": 0,
             "ticks": ""
            },
            "colorscale": [
             [
              0,
              "#0d0887"
             ],
             [
              0.1111111111111111,
              "#46039f"
             ],
             [
              0.2222222222222222,
              "#7201a8"
             ],
             [
              0.3333333333333333,
              "#9c179e"
             ],
             [
              0.4444444444444444,
              "#bd3786"
             ],
             [
              0.5555555555555556,
              "#d8576b"
             ],
             [
              0.6666666666666666,
              "#ed7953"
             ],
             [
              0.7777777777777778,
              "#fb9f3a"
             ],
             [
              0.8888888888888888,
              "#fdca26"
             ],
             [
              1,
              "#f0f921"
             ]
            ],
            "type": "contour"
           }
          ],
          "contourcarpet": [
           {
            "colorbar": {
             "outlinewidth": 0,
             "ticks": ""
            },
            "type": "contourcarpet"
           }
          ],
          "heatmap": [
           {
            "colorbar": {
             "outlinewidth": 0,
             "ticks": ""
            },
            "colorscale": [
             [
              0,
              "#0d0887"
             ],
             [
              0.1111111111111111,
              "#46039f"
             ],
             [
              0.2222222222222222,
              "#7201a8"
             ],
             [
              0.3333333333333333,
              "#9c179e"
             ],
             [
              0.4444444444444444,
              "#bd3786"
             ],
             [
              0.5555555555555556,
              "#d8576b"
             ],
             [
              0.6666666666666666,
              "#ed7953"
             ],
             [
              0.7777777777777778,
              "#fb9f3a"
             ],
             [
              0.8888888888888888,
              "#fdca26"
             ],
             [
              1,
              "#f0f921"
             ]
            ],
            "type": "heatmap"
           }
          ],
          "heatmapgl": [
           {
            "colorbar": {
             "outlinewidth": 0,
             "ticks": ""
            },
            "colorscale": [
             [
              0,
              "#0d0887"
             ],
             [
              0.1111111111111111,
              "#46039f"
             ],
             [
              0.2222222222222222,
              "#7201a8"
             ],
             [
              0.3333333333333333,
              "#9c179e"
             ],
             [
              0.4444444444444444,
              "#bd3786"
             ],
             [
              0.5555555555555556,
              "#d8576b"
             ],
             [
              0.6666666666666666,
              "#ed7953"
             ],
             [
              0.7777777777777778,
              "#fb9f3a"
             ],
             [
              0.8888888888888888,
              "#fdca26"
             ],
             [
              1,
              "#f0f921"
             ]
            ],
            "type": "heatmapgl"
           }
          ],
          "histogram": [
           {
            "marker": {
             "pattern": {
              "fillmode": "overlay",
              "size": 10,
              "solidity": 0.2
             }
            },
            "type": "histogram"
           }
          ],
          "histogram2d": [
           {
            "colorbar": {
             "outlinewidth": 0,
             "ticks": ""
            },
            "colorscale": [
             [
              0,
              "#0d0887"
             ],
             [
              0.1111111111111111,
              "#46039f"
             ],
             [
              0.2222222222222222,
              "#7201a8"
             ],
             [
              0.3333333333333333,
              "#9c179e"
             ],
             [
              0.4444444444444444,
              "#bd3786"
             ],
             [
              0.5555555555555556,
              "#d8576b"
             ],
             [
              0.6666666666666666,
              "#ed7953"
             ],
             [
              0.7777777777777778,
              "#fb9f3a"
             ],
             [
              0.8888888888888888,
              "#fdca26"
             ],
             [
              1,
              "#f0f921"
             ]
            ],
            "type": "histogram2d"
           }
          ],
          "histogram2dcontour": [
           {
            "colorbar": {
             "outlinewidth": 0,
             "ticks": ""
            },
            "colorscale": [
             [
              0,
              "#0d0887"
             ],
             [
              0.1111111111111111,
              "#46039f"
             ],
             [
              0.2222222222222222,
              "#7201a8"
             ],
             [
              0.3333333333333333,
              "#9c179e"
             ],
             [
              0.4444444444444444,
              "#bd3786"
             ],
             [
              0.5555555555555556,
              "#d8576b"
             ],
             [
              0.6666666666666666,
              "#ed7953"
             ],
             [
              0.7777777777777778,
              "#fb9f3a"
             ],
             [
              0.8888888888888888,
              "#fdca26"
             ],
             [
              1,
              "#f0f921"
             ]
            ],
            "type": "histogram2dcontour"
           }
          ],
          "mesh3d": [
           {
            "colorbar": {
             "outlinewidth": 0,
             "ticks": ""
            },
            "type": "mesh3d"
           }
          ],
          "parcoords": [
           {
            "line": {
             "colorbar": {
              "outlinewidth": 0,
              "ticks": ""
             }
            },
            "type": "parcoords"
           }
          ],
          "pie": [
           {
            "automargin": true,
            "type": "pie"
           }
          ],
          "scatter": [
           {
            "marker": {
             "colorbar": {
              "outlinewidth": 0,
              "ticks": ""
             }
            },
            "type": "scatter"
           }
          ],
          "scatter3d": [
           {
            "line": {
             "colorbar": {
              "outlinewidth": 0,
              "ticks": ""
             }
            },
            "marker": {
             "colorbar": {
              "outlinewidth": 0,
              "ticks": ""
             }
            },
            "type": "scatter3d"
           }
          ],
          "scattercarpet": [
           {
            "marker": {
             "colorbar": {
              "outlinewidth": 0,
              "ticks": ""
             }
            },
            "type": "scattercarpet"
           }
          ],
          "scattergeo": [
           {
            "marker": {
             "colorbar": {
              "outlinewidth": 0,
              "ticks": ""
             }
            },
            "type": "scattergeo"
           }
          ],
          "scattergl": [
           {
            "marker": {
             "colorbar": {
              "outlinewidth": 0,
              "ticks": ""
             }
            },
            "type": "scattergl"
           }
          ],
          "scattermapbox": [
           {
            "marker": {
             "colorbar": {
              "outlinewidth": 0,
              "ticks": ""
             }
            },
            "type": "scattermapbox"
           }
          ],
          "scatterpolar": [
           {
            "marker": {
             "colorbar": {
              "outlinewidth": 0,
              "ticks": ""
             }
            },
            "type": "scatterpolar"
           }
          ],
          "scatterpolargl": [
           {
            "marker": {
             "colorbar": {
              "outlinewidth": 0,
              "ticks": ""
             }
            },
            "type": "scatterpolargl"
           }
          ],
          "scatterternary": [
           {
            "marker": {
             "colorbar": {
              "outlinewidth": 0,
              "ticks": ""
             }
            },
            "type": "scatterternary"
           }
          ],
          "surface": [
           {
            "colorbar": {
             "outlinewidth": 0,
             "ticks": ""
            },
            "colorscale": [
             [
              0,
              "#0d0887"
             ],
             [
              0.1111111111111111,
              "#46039f"
             ],
             [
              0.2222222222222222,
              "#7201a8"
             ],
             [
              0.3333333333333333,
              "#9c179e"
             ],
             [
              0.4444444444444444,
              "#bd3786"
             ],
             [
              0.5555555555555556,
              "#d8576b"
             ],
             [
              0.6666666666666666,
              "#ed7953"
             ],
             [
              0.7777777777777778,
              "#fb9f3a"
             ],
             [
              0.8888888888888888,
              "#fdca26"
             ],
             [
              1,
              "#f0f921"
             ]
            ],
            "type": "surface"
           }
          ],
          "table": [
           {
            "cells": {
             "fill": {
              "color": "#EBF0F8"
             },
             "line": {
              "color": "white"
             }
            },
            "header": {
             "fill": {
              "color": "#C8D4E3"
             },
             "line": {
              "color": "white"
             }
            },
            "type": "table"
           }
          ]
         },
         "layout": {
          "annotationdefaults": {
           "arrowcolor": "#2a3f5f",
           "arrowhead": 0,
           "arrowwidth": 1
          },
          "autotypenumbers": "strict",
          "coloraxis": {
           "colorbar": {
            "outlinewidth": 0,
            "ticks": ""
           }
          },
          "colorscale": {
           "diverging": [
            [
             0,
             "#8e0152"
            ],
            [
             0.1,
             "#c51b7d"
            ],
            [
             0.2,
             "#de77ae"
            ],
            [
             0.3,
             "#f1b6da"
            ],
            [
             0.4,
             "#fde0ef"
            ],
            [
             0.5,
             "#f7f7f7"
            ],
            [
             0.6,
             "#e6f5d0"
            ],
            [
             0.7,
             "#b8e186"
            ],
            [
             0.8,
             "#7fbc41"
            ],
            [
             0.9,
             "#4d9221"
            ],
            [
             1,
             "#276419"
            ]
           ],
           "sequential": [
            [
             0,
             "#0d0887"
            ],
            [
             0.1111111111111111,
             "#46039f"
            ],
            [
             0.2222222222222222,
             "#7201a8"
            ],
            [
             0.3333333333333333,
             "#9c179e"
            ],
            [
             0.4444444444444444,
             "#bd3786"
            ],
            [
             0.5555555555555556,
             "#d8576b"
            ],
            [
             0.6666666666666666,
             "#ed7953"
            ],
            [
             0.7777777777777778,
             "#fb9f3a"
            ],
            [
             0.8888888888888888,
             "#fdca26"
            ],
            [
             1,
             "#f0f921"
            ]
           ],
           "sequentialminus": [
            [
             0,
             "#0d0887"
            ],
            [
             0.1111111111111111,
             "#46039f"
            ],
            [
             0.2222222222222222,
             "#7201a8"
            ],
            [
             0.3333333333333333,
             "#9c179e"
            ],
            [
             0.4444444444444444,
             "#bd3786"
            ],
            [
             0.5555555555555556,
             "#d8576b"
            ],
            [
             0.6666666666666666,
             "#ed7953"
            ],
            [
             0.7777777777777778,
             "#fb9f3a"
            ],
            [
             0.8888888888888888,
             "#fdca26"
            ],
            [
             1,
             "#f0f921"
            ]
           ]
          },
          "colorway": [
           "#636efa",
           "#EF553B",
           "#00cc96",
           "#ab63fa",
           "#FFA15A",
           "#19d3f3",
           "#FF6692",
           "#B6E880",
           "#FF97FF",
           "#FECB52"
          ],
          "font": {
           "color": "#2a3f5f"
          },
          "geo": {
           "bgcolor": "white",
           "lakecolor": "white",
           "landcolor": "white",
           "showlakes": true,
           "showland": true,
           "subunitcolor": "#C8D4E3"
          },
          "hoverlabel": {
           "align": "left"
          },
          "hovermode": "closest",
          "mapbox": {
           "style": "light"
          },
          "paper_bgcolor": "white",
          "plot_bgcolor": "white",
          "polar": {
           "angularaxis": {
            "gridcolor": "#EBF0F8",
            "linecolor": "#EBF0F8",
            "ticks": ""
           },
           "bgcolor": "white",
           "radialaxis": {
            "gridcolor": "#EBF0F8",
            "linecolor": "#EBF0F8",
            "ticks": ""
           }
          },
          "scene": {
           "xaxis": {
            "backgroundcolor": "white",
            "gridcolor": "#DFE8F3",
            "gridwidth": 2,
            "linecolor": "#EBF0F8",
            "showbackground": true,
            "ticks": "",
            "zerolinecolor": "#EBF0F8"
           },
           "yaxis": {
            "backgroundcolor": "white",
            "gridcolor": "#DFE8F3",
            "gridwidth": 2,
            "linecolor": "#EBF0F8",
            "showbackground": true,
            "ticks": "",
            "zerolinecolor": "#EBF0F8"
           },
           "zaxis": {
            "backgroundcolor": "white",
            "gridcolor": "#DFE8F3",
            "gridwidth": 2,
            "linecolor": "#EBF0F8",
            "showbackground": true,
            "ticks": "",
            "zerolinecolor": "#EBF0F8"
           }
          },
          "shapedefaults": {
           "line": {
            "color": "#2a3f5f"
           }
          },
          "ternary": {
           "aaxis": {
            "gridcolor": "#DFE8F3",
            "linecolor": "#A2B1C6",
            "ticks": ""
           },
           "baxis": {
            "gridcolor": "#DFE8F3",
            "linecolor": "#A2B1C6",
            "ticks": ""
           },
           "bgcolor": "white",
           "caxis": {
            "gridcolor": "#DFE8F3",
            "linecolor": "#A2B1C6",
            "ticks": ""
           }
          },
          "title": {
           "x": 0.05
          },
          "xaxis": {
           "automargin": true,
           "gridcolor": "#EBF0F8",
           "linecolor": "#EBF0F8",
           "ticks": "",
           "title": {
            "standoff": 15
           },
           "zerolinecolor": "#EBF0F8",
           "zerolinewidth": 2
          },
          "yaxis": {
           "automargin": true,
           "gridcolor": "#EBF0F8",
           "linecolor": "#EBF0F8",
           "ticks": "",
           "title": {
            "standoff": 15
           },
           "zerolinecolor": "#EBF0F8",
           "zerolinewidth": 2
          }
         }
        },
        "title": {
         "font": {
          "size": 24
         },
         "text": "Anzahl wartender und ladender BEVs im Tagesverlauf",
         "x": 0.5,
         "xanchor": "center"
        },
        "xaxis": {
         "anchor": "y",
         "domain": [
          0,
          1
         ],
         "title": {
          "text": "Minuten"
         }
        },
        "yaxis": {
         "anchor": "x",
         "domain": [
          0,
          1
         ],
         "title": {
          "text": "Anzahl BEVs"
         }
        }
       }
      },
      "text/html": [
       "<div>                            <div id=\"0ad1e585-b3c9-4f55-8cd2-773d0473f42c\" class=\"plotly-graph-div\" style=\"height:525px; width:100%;\"></div>            <script type=\"text/javascript\">                require([\"plotly\"], function(Plotly) {                    window.PLOTLYENV=window.PLOTLYENV || {};                                    if (document.getElementById(\"0ad1e585-b3c9-4f55-8cd2-773d0473f42c\")) {                    Plotly.newPlot(                        \"0ad1e585-b3c9-4f55-8cd2-773d0473f42c\",                        [{\"line\":{\"color\":\"red\"},\"name\":\"Wartende BEVs\",\"x\":[480,495,510,525,540,555,570,585,600,615,630,645,660,675,690,705,720,735,750,765,780,795,810,825,840,855,870,885,900,915,930,945,960],\"y\":[8,7,24,23,33,32,32,31,27,25,23,22,21,20,19,18,22,18,20,20,26,26,25,24,23,22,21,21,19,17,17,17,0],\"type\":\"scatter\"},{\"line\":{\"color\":\"blue\"},\"name\":\"Ladende BEVs\",\"x\":[960,945,930,915,900,885,870,855,840,825,810,795,780,765,750,735,720,705,690,675,660,645,630,615,600,585,570,555,540,525,510,495,480],\"y\":[0,3,3,3,3,4,4,4,4,4,4,4,4,4,4,5,5,5,5,5,5,5,5,5,5,5,4,3,3,2,2,1,1],\"type\":\"scatter\"}],                        {\"template\":{\"data\":{\"barpolar\":[{\"marker\":{\"line\":{\"color\":\"white\",\"width\":0.5},\"pattern\":{\"fillmode\":\"overlay\",\"size\":10,\"solidity\":0.2}},\"type\":\"barpolar\"}],\"bar\":[{\"error_x\":{\"color\":\"#2a3f5f\"},\"error_y\":{\"color\":\"#2a3f5f\"},\"marker\":{\"line\":{\"color\":\"white\",\"width\":0.5},\"pattern\":{\"fillmode\":\"overlay\",\"size\":10,\"solidity\":0.2}},\"type\":\"bar\"}],\"carpet\":[{\"aaxis\":{\"endlinecolor\":\"#2a3f5f\",\"gridcolor\":\"#C8D4E3\",\"linecolor\":\"#C8D4E3\",\"minorgridcolor\":\"#C8D4E3\",\"startlinecolor\":\"#2a3f5f\"},\"baxis\":{\"endlinecolor\":\"#2a3f5f\",\"gridcolor\":\"#C8D4E3\",\"linecolor\":\"#C8D4E3\",\"minorgridcolor\":\"#C8D4E3\",\"startlinecolor\":\"#2a3f5f\"},\"type\":\"carpet\"}],\"choropleth\":[{\"colorbar\":{\"outlinewidth\":0,\"ticks\":\"\"},\"type\":\"choropleth\"}],\"contourcarpet\":[{\"colorbar\":{\"outlinewidth\":0,\"ticks\":\"\"},\"type\":\"contourcarpet\"}],\"contour\":[{\"colorbar\":{\"outlinewidth\":0,\"ticks\":\"\"},\"colorscale\":[[0.0,\"#0d0887\"],[0.1111111111111111,\"#46039f\"],[0.2222222222222222,\"#7201a8\"],[0.3333333333333333,\"#9c179e\"],[0.4444444444444444,\"#bd3786\"],[0.5555555555555556,\"#d8576b\"],[0.6666666666666666,\"#ed7953\"],[0.7777777777777778,\"#fb9f3a\"],[0.8888888888888888,\"#fdca26\"],[1.0,\"#f0f921\"]],\"type\":\"contour\"}],\"heatmapgl\":[{\"colorbar\":{\"outlinewidth\":0,\"ticks\":\"\"},\"colorscale\":[[0.0,\"#0d0887\"],[0.1111111111111111,\"#46039f\"],[0.2222222222222222,\"#7201a8\"],[0.3333333333333333,\"#9c179e\"],[0.4444444444444444,\"#bd3786\"],[0.5555555555555556,\"#d8576b\"],[0.6666666666666666,\"#ed7953\"],[0.7777777777777778,\"#fb9f3a\"],[0.8888888888888888,\"#fdca26\"],[1.0,\"#f0f921\"]],\"type\":\"heatmapgl\"}],\"heatmap\":[{\"colorbar\":{\"outlinewidth\":0,\"ticks\":\"\"},\"colorscale\":[[0.0,\"#0d0887\"],[0.1111111111111111,\"#46039f\"],[0.2222222222222222,\"#7201a8\"],[0.3333333333333333,\"#9c179e\"],[0.4444444444444444,\"#bd3786\"],[0.5555555555555556,\"#d8576b\"],[0.6666666666666666,\"#ed7953\"],[0.7777777777777778,\"#fb9f3a\"],[0.8888888888888888,\"#fdca26\"],[1.0,\"#f0f921\"]],\"type\":\"heatmap\"}],\"histogram2dcontour\":[{\"colorbar\":{\"outlinewidth\":0,\"ticks\":\"\"},\"colorscale\":[[0.0,\"#0d0887\"],[0.1111111111111111,\"#46039f\"],[0.2222222222222222,\"#7201a8\"],[0.3333333333333333,\"#9c179e\"],[0.4444444444444444,\"#bd3786\"],[0.5555555555555556,\"#d8576b\"],[0.6666666666666666,\"#ed7953\"],[0.7777777777777778,\"#fb9f3a\"],[0.8888888888888888,\"#fdca26\"],[1.0,\"#f0f921\"]],\"type\":\"histogram2dcontour\"}],\"histogram2d\":[{\"colorbar\":{\"outlinewidth\":0,\"ticks\":\"\"},\"colorscale\":[[0.0,\"#0d0887\"],[0.1111111111111111,\"#46039f\"],[0.2222222222222222,\"#7201a8\"],[0.3333333333333333,\"#9c179e\"],[0.4444444444444444,\"#bd3786\"],[0.5555555555555556,\"#d8576b\"],[0.6666666666666666,\"#ed7953\"],[0.7777777777777778,\"#fb9f3a\"],[0.8888888888888888,\"#fdca26\"],[1.0,\"#f0f921\"]],\"type\":\"histogram2d\"}],\"histogram\":[{\"marker\":{\"pattern\":{\"fillmode\":\"overlay\",\"size\":10,\"solidity\":0.2}},\"type\":\"histogram\"}],\"mesh3d\":[{\"colorbar\":{\"outlinewidth\":0,\"ticks\":\"\"},\"type\":\"mesh3d\"}],\"parcoords\":[{\"line\":{\"colorbar\":{\"outlinewidth\":0,\"ticks\":\"\"}},\"type\":\"parcoords\"}],\"pie\":[{\"automargin\":true,\"type\":\"pie\"}],\"scatter3d\":[{\"line\":{\"colorbar\":{\"outlinewidth\":0,\"ticks\":\"\"}},\"marker\":{\"colorbar\":{\"outlinewidth\":0,\"ticks\":\"\"}},\"type\":\"scatter3d\"}],\"scattercarpet\":[{\"marker\":{\"colorbar\":{\"outlinewidth\":0,\"ticks\":\"\"}},\"type\":\"scattercarpet\"}],\"scattergeo\":[{\"marker\":{\"colorbar\":{\"outlinewidth\":0,\"ticks\":\"\"}},\"type\":\"scattergeo\"}],\"scattergl\":[{\"marker\":{\"colorbar\":{\"outlinewidth\":0,\"ticks\":\"\"}},\"type\":\"scattergl\"}],\"scattermapbox\":[{\"marker\":{\"colorbar\":{\"outlinewidth\":0,\"ticks\":\"\"}},\"type\":\"scattermapbox\"}],\"scatterpolargl\":[{\"marker\":{\"colorbar\":{\"outlinewidth\":0,\"ticks\":\"\"}},\"type\":\"scatterpolargl\"}],\"scatterpolar\":[{\"marker\":{\"colorbar\":{\"outlinewidth\":0,\"ticks\":\"\"}},\"type\":\"scatterpolar\"}],\"scatter\":[{\"marker\":{\"colorbar\":{\"outlinewidth\":0,\"ticks\":\"\"}},\"type\":\"scatter\"}],\"scatterternary\":[{\"marker\":{\"colorbar\":{\"outlinewidth\":0,\"ticks\":\"\"}},\"type\":\"scatterternary\"}],\"surface\":[{\"colorbar\":{\"outlinewidth\":0,\"ticks\":\"\"},\"colorscale\":[[0.0,\"#0d0887\"],[0.1111111111111111,\"#46039f\"],[0.2222222222222222,\"#7201a8\"],[0.3333333333333333,\"#9c179e\"],[0.4444444444444444,\"#bd3786\"],[0.5555555555555556,\"#d8576b\"],[0.6666666666666666,\"#ed7953\"],[0.7777777777777778,\"#fb9f3a\"],[0.8888888888888888,\"#fdca26\"],[1.0,\"#f0f921\"]],\"type\":\"surface\"}],\"table\":[{\"cells\":{\"fill\":{\"color\":\"#EBF0F8\"},\"line\":{\"color\":\"white\"}},\"header\":{\"fill\":{\"color\":\"#C8D4E3\"},\"line\":{\"color\":\"white\"}},\"type\":\"table\"}]},\"layout\":{\"annotationdefaults\":{\"arrowcolor\":\"#2a3f5f\",\"arrowhead\":0,\"arrowwidth\":1},\"autotypenumbers\":\"strict\",\"coloraxis\":{\"colorbar\":{\"outlinewidth\":0,\"ticks\":\"\"}},\"colorscale\":{\"diverging\":[[0,\"#8e0152\"],[0.1,\"#c51b7d\"],[0.2,\"#de77ae\"],[0.3,\"#f1b6da\"],[0.4,\"#fde0ef\"],[0.5,\"#f7f7f7\"],[0.6,\"#e6f5d0\"],[0.7,\"#b8e186\"],[0.8,\"#7fbc41\"],[0.9,\"#4d9221\"],[1,\"#276419\"]],\"sequential\":[[0.0,\"#0d0887\"],[0.1111111111111111,\"#46039f\"],[0.2222222222222222,\"#7201a8\"],[0.3333333333333333,\"#9c179e\"],[0.4444444444444444,\"#bd3786\"],[0.5555555555555556,\"#d8576b\"],[0.6666666666666666,\"#ed7953\"],[0.7777777777777778,\"#fb9f3a\"],[0.8888888888888888,\"#fdca26\"],[1.0,\"#f0f921\"]],\"sequentialminus\":[[0.0,\"#0d0887\"],[0.1111111111111111,\"#46039f\"],[0.2222222222222222,\"#7201a8\"],[0.3333333333333333,\"#9c179e\"],[0.4444444444444444,\"#bd3786\"],[0.5555555555555556,\"#d8576b\"],[0.6666666666666666,\"#ed7953\"],[0.7777777777777778,\"#fb9f3a\"],[0.8888888888888888,\"#fdca26\"],[1.0,\"#f0f921\"]]},\"colorway\":[\"#636efa\",\"#EF553B\",\"#00cc96\",\"#ab63fa\",\"#FFA15A\",\"#19d3f3\",\"#FF6692\",\"#B6E880\",\"#FF97FF\",\"#FECB52\"],\"font\":{\"color\":\"#2a3f5f\"},\"geo\":{\"bgcolor\":\"white\",\"lakecolor\":\"white\",\"landcolor\":\"white\",\"showlakes\":true,\"showland\":true,\"subunitcolor\":\"#C8D4E3\"},\"hoverlabel\":{\"align\":\"left\"},\"hovermode\":\"closest\",\"mapbox\":{\"style\":\"light\"},\"paper_bgcolor\":\"white\",\"plot_bgcolor\":\"white\",\"polar\":{\"angularaxis\":{\"gridcolor\":\"#EBF0F8\",\"linecolor\":\"#EBF0F8\",\"ticks\":\"\"},\"bgcolor\":\"white\",\"radialaxis\":{\"gridcolor\":\"#EBF0F8\",\"linecolor\":\"#EBF0F8\",\"ticks\":\"\"}},\"scene\":{\"xaxis\":{\"backgroundcolor\":\"white\",\"gridcolor\":\"#DFE8F3\",\"gridwidth\":2,\"linecolor\":\"#EBF0F8\",\"showbackground\":true,\"ticks\":\"\",\"zerolinecolor\":\"#EBF0F8\"},\"yaxis\":{\"backgroundcolor\":\"white\",\"gridcolor\":\"#DFE8F3\",\"gridwidth\":2,\"linecolor\":\"#EBF0F8\",\"showbackground\":true,\"ticks\":\"\",\"zerolinecolor\":\"#EBF0F8\"},\"zaxis\":{\"backgroundcolor\":\"white\",\"gridcolor\":\"#DFE8F3\",\"gridwidth\":2,\"linecolor\":\"#EBF0F8\",\"showbackground\":true,\"ticks\":\"\",\"zerolinecolor\":\"#EBF0F8\"}},\"shapedefaults\":{\"line\":{\"color\":\"#2a3f5f\"}},\"ternary\":{\"aaxis\":{\"gridcolor\":\"#DFE8F3\",\"linecolor\":\"#A2B1C6\",\"ticks\":\"\"},\"baxis\":{\"gridcolor\":\"#DFE8F3\",\"linecolor\":\"#A2B1C6\",\"ticks\":\"\"},\"bgcolor\":\"white\",\"caxis\":{\"gridcolor\":\"#DFE8F3\",\"linecolor\":\"#A2B1C6\",\"ticks\":\"\"}},\"title\":{\"x\":0.05},\"xaxis\":{\"automargin\":true,\"gridcolor\":\"#EBF0F8\",\"linecolor\":\"#EBF0F8\",\"ticks\":\"\",\"title\":{\"standoff\":15},\"zerolinecolor\":\"#EBF0F8\",\"zerolinewidth\":2},\"yaxis\":{\"automargin\":true,\"gridcolor\":\"#EBF0F8\",\"linecolor\":\"#EBF0F8\",\"ticks\":\"\",\"title\":{\"standoff\":15},\"zerolinecolor\":\"#EBF0F8\",\"zerolinewidth\":2}}},\"xaxis\":{\"anchor\":\"y\",\"domain\":[0.0,1.0],\"title\":{\"text\":\"Minuten\"}},\"yaxis\":{\"anchor\":\"x\",\"domain\":[0.0,1.0],\"title\":{\"text\":\"Anzahl BEVs\"}},\"legend\":{\"tracegroupgap\":0},\"margin\":{\"t\":60},\"title\":{\"font\":{\"size\":24},\"text\":\"Anzahl wartender und ladender BEVs im Tagesverlauf\",\"x\":0.5,\"xanchor\":\"center\"}},                        {\"responsive\": true}                    ).then(function(){\n",
       "                            \n",
       "var gd = document.getElementById('0ad1e585-b3c9-4f55-8cd2-773d0473f42c');\n",
       "var x = new MutationObserver(function (mutations, observer) {{\n",
       "        var display = window.getComputedStyle(gd).display;\n",
       "        if (!display || display === 'none') {{\n",
       "            console.log([gd, 'removed!']);\n",
       "            Plotly.purge(gd);\n",
       "            observer.disconnect();\n",
       "        }}\n",
       "}});\n",
       "\n",
       "// Listen for the removal of the full notebook cells\n",
       "var notebookContainer = gd.closest('#notebook-container');\n",
       "if (notebookContainer) {{\n",
       "    x.observe(notebookContainer, {childList: true});\n",
       "}}\n",
       "\n",
       "// Listen for the clearing of the current output cell\n",
       "var outputEl = gd.closest('.output');\n",
       "if (outputEl) {{\n",
       "    x.observe(outputEl, {childList: true});\n",
       "}}\n",
       "\n",
       "                        })                };                });            </script>        </div>"
      ]
     },
     "metadata": {},
     "output_type": "display_data"
    }
   ],
   "source": [
    "figureGeneration.create_bev_number_figure(simulation_data)"
   ]
  }
 ],
 "metadata": {
  "kernelspec": {
   "display_name": "Python 3 (ipykernel)",
   "language": "python",
   "name": "python3"
  },
  "language_info": {
   "codemirror_mode": {
    "name": "ipython",
    "version": 3
   },
   "file_extension": ".py",
   "mimetype": "text/x-python",
   "name": "python",
   "nbconvert_exporter": "python",
   "pygments_lexer": "ipython3",
   "version": "3.9.5"
  }
 },
 "nbformat": 4,
 "nbformat_minor": 4
}
