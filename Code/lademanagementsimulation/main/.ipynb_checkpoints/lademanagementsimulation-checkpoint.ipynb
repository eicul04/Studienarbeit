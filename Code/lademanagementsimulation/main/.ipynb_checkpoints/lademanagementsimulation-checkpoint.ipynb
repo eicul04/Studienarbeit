{
 "cells": [
  {
   "cell_type": "markdown",
   "metadata": {
    "pycharm": {
     "name": "#%% md\n"
    }
   },
   "source": [
    "# Lademanagementsimulation   \n"
   ]
  },
  {
   "cell_type": "markdown",
   "metadata": {},
   "source": [
    "### Simulations Parameter"
   ]
  },
  {
   "cell_type": "code",
   "execution_count": 1,
   "metadata": {
    "pycharm": {
     "name": "#%%\n"
    }
   },
   "outputs": [],
   "source": [
    "solarpeakleistung = 125 #Einheit Kilowattpeak (kWP)\n",
    "anzahl_bevs_pro_tag = 10\n",
    "ladeleistung_pro_bev = 11 #Einheit kW\n",
    "maximale_ladezeit = 30 #Einheit Minuten\n",
    "minute_interval = 15 #Einheit Minuten"
   ]
  },
  {
   "cell_type": "markdown",
   "metadata": {},
   "source": [
    "### Simulations Eingangsdaten"
   ]
  },
  {
   "cell_type": "code",
   "execution_count": 2,
   "metadata": {
    "pycharm": {
     "is_executing": true,
     "name": "#%%\n"
    }
   },
   "outputs": [
    {
     "data": {
      "text/html": [
       "\n",
       "        <iframe\n",
       "            width=\"100%\"\n",
       "            height=\"650\"\n",
       "            src=\"http://127.0.0.1:8050/\"\n",
       "            frameborder=\"0\"\n",
       "            allowfullscreen\n",
       "            \n",
       "        ></iframe>\n",
       "        "
      ],
      "text/plain": [
       "<IPython.lib.display.IFrame at 0x1827e343730>"
      ]
     },
     "metadata": {},
     "output_type": "display_data"
    }
   ],
   "source": [
    "import simulationInputDataVisualisation\n",
    "simulationInputDataVisualisation.create_jupyter_dash_app(solarpeakleistung)"
   ]
  },
  {
   "cell_type": "markdown",
   "metadata": {},
   "source": [
    "### Verteilungsalgorithmus"
   ]
  },
  {
   "cell_type": "code",
   "execution_count": 3,
   "metadata": {
    "pycharm": {
     "is_executing": true
    }
   },
   "outputs": [
    {
     "name": "stdout",
     "output_type": "stream",
     "text": [
      "START POST OPTIMIZATION\n",
      "charging list per minute dict:  {}\n",
      "\n",
      "\n",
      "OPTIMIZATION DONE\n",
      "BEVs dict:  {0: [(12.5, 3.5), 'wartend', [(865.5681818181818, 94.43181818181824, 0)], [13.7025]], 1: [(8.5, 7.5), 'wartend', [(712.0834865759471, 232.91651342405294, 0)], [42.435]], 2: [(13.0, 3.0), 'wartend', [(820.3094339622642, 64.69056603773583, 0)], [10.792500000000002]], 3: [(13.0, 3.0), 'wartend', [(782.6793135435989, 82.88886827458282, 0)], [10.792500000000002]], 4: [(8.5, 6.2), 'nicht parkend', [], [39.3525]], 5: [(12.5, 3.5), 'wartend', [(770.5263157894736, 84.47368421052636, 0)], [13.7025]], 6: [(8.5, 5.0), 'nicht parkend', [(525.0, 257.67931354359894, 0)], [33.725]], 7: [(8.0, 7.0), 'wartend', [(635.1263736483231, 185.18306031394104, 0)], [40.915]], 8: [(8.0, 7.7), 'nicht parkend', [], [42.7425]], 9: [(8.5, 3.6), 'nicht parkend', [], [26.3375]]}\n",
      "BEVs from post optimization:  [0, 1, 2, 3, 5, 6, 7]\n",
      "\n",
      "\n",
      "Minute:  480\n",
      "charging list per minute dict:  {}\n",
      "Waiting BEVs:  []\n",
      "Charging list after handling overload:  []\n",
      "Waiting BEVs after updating parking end:  [8]\n",
      "Charging BEVs after updating post optimization plan and parking end:  []\n",
      "SET BEV DATA for current minute for ID BEV 8 for minute 480:  0.62\n",
      "Charging BEVs (nachdem neue Plätze belegt):  [8]\n",
      "Restladeenergie bis zur fairen Ladeenergie for BEV mit ID 8:  42.7425\n",
      "Restladezeit:  4136.370967741936\n",
      "Charging BEVs:  [8]\n",
      "\n",
      "\n",
      "Minute:  495\n",
      "charging list per minute dict:  {480: [8]}\n",
      "Waiting BEVs:  []\n",
      "Charging list after handling overload:  [8]\n",
      "Waiting BEVs after updating parking end:  []\n",
      "Charging BEVs after updating post optimization plan and parking end:  [8]\n",
      "charging_list_per_minute_dict  {480: [8]}\n",
      "FUEL Charging BEV:  8\n",
      "SET BEV DATA for current minute for ID BEV 8 for minute 495:  5.87\n",
      "Charging BEVs (nachdem neue Plätze belegt):  [8]\n",
      "Restladeenergie bis zur fairen Ladeenergie for BEV mit ID 8:  42.5875\n",
      "Restladezeit:  435.3066439522998\n",
      "Charging BEVs:  [8]\n",
      "\n",
      "\n",
      "Minute:  510\n",
      "charging list per minute dict:  {480: [8], 495: [8]}\n",
      "Waiting BEVs:  []\n",
      "Charging list after handling overload:  [8]\n",
      "Waiting BEVs after updating parking end:  [4, 9]\n",
      "Charging BEVs after updating post optimization plan and parking end:  [8]\n",
      "charging_list_per_minute_dict  {480: [8], 495: [8]}\n",
      "FUEL Charging BEV:  8\n",
      "SET BEV DATA for current minute for ID BEV 8 for minute 510:  5.56\n",
      "SET BEV DATA for current minute for ID BEV 4 for minute 510:  5.56\n",
      "Charging BEVs (nachdem neue Plätze belegt):  [8, 4]\n",
      "Restladeenergie bis zur fairen Ladeenergie for BEV mit ID 8:  41.12\n",
      "Restladezeit:  443.7410071942446\n",
      "Restladeenergie bis zur fairen Ladeenergie for BEV mit ID 4:  39.3525\n",
      "Restladezeit:  424.66726618705036\n",
      "Charging BEVs:  [8, 4]\n",
      "\n",
      "\n",
      "Minute:  525\n",
      "charging list per minute dict:  {480: [8], 495: [8], 510: [8, 4]}\n",
      "Waiting BEVs:  [9]\n",
      "Charging list after handling overload:  [8, 4]\n",
      "Waiting BEVs after updating parking end:  [9]\n",
      "Charging BEVs after updating post optimization plan and parking end:  [8, 4, 6]\n",
      "charging_list_per_minute_dict  {480: [8], 495: [8], 510: [8, 4]}\n",
      "FUEL Charging BEV:  8\n",
      "FUEL Charging BEV:  4\n",
      "FUEL Charging BEV:  6\n",
      "SET BEV DATA for current minute for ID BEV 8 for minute 525:  5.46\n",
      "SET BEV DATA for current minute for ID BEV 4 for minute 525:  5.46\n",
      "SET BEV DATA for current minute for ID BEV 6 for minute 525:  5.46\n",
      "Charging BEVs (nachdem neue Plätze belegt):  [8, 4, 6]\n",
      "Restladeenergie bis zur fairen Ladeenergie for BEV mit ID 8:  39.73\n",
      "Restladezeit:  436.5934065934066\n",
      "Restladeenergie bis zur fairen Ladeenergie for BEV mit ID 4:  37.9625\n",
      "Restladezeit:  417.17032967032964\n",
      "Restladeenergie bis zur fairen Ladeenergie for BEV mit ID 6:  32.335\n",
      "Restladezeit:  355.32967032967036\n",
      "Charging BEVs:  [8, 4, 6]\n",
      "\n",
      "\n",
      "Minute:  540\n",
      "charging list per minute dict:  {480: [8], 495: [8], 510: [8, 4], 525: [8, 4, 6]}\n",
      "Waiting BEVs:  [9]\n",
      "Charging list after handling overload:  [8, 4, 6]\n",
      "Waiting BEVs after updating parking end:  [9]\n",
      "Charging BEVs after updating post optimization plan and parking end:  [8, 4, 6]\n",
      "charging_list_per_minute_dict  {480: [8], 495: [8], 510: [8, 4], 525: [8, 4, 6]}\n",
      "FUEL Charging BEV:  8\n",
      "FUEL Charging BEV:  4\n",
      "FUEL Charging BEV:  6\n",
      "SET BEV DATA for current minute for ID BEV 8 for minute 540:  7.666666666666667\n",
      "SET BEV DATA for current minute for ID BEV 4 for minute 540:  7.666666666666667\n",
      "SET BEV DATA for current minute for ID BEV 6 for minute 540:  7.666666666666667\n",
      "Charging BEVs (nachdem neue Plätze belegt):  [8, 4, 6]\n",
      "Restladeenergie bis zur fairen Ladeenergie for BEV mit ID 8:  38.365\n",
      "Restladezeit:  300.24782608695654\n",
      "Restladeenergie bis zur fairen Ladeenergie for BEV mit ID 4:  36.5975\n",
      "Restladezeit:  286.4152173913043\n",
      "Restladeenergie bis zur fairen Ladeenergie for BEV mit ID 6:  30.970000000000002\n",
      "Restladezeit:  242.37391304347827\n",
      "Charging BEVs:  [8, 4, 6]\n",
      "\n",
      "\n",
      "Minute:  555\n",
      "charging list per minute dict:  {480: [8], 495: [8], 510: [8, 4], 525: [8, 4, 6], 540: [8, 4, 6]}\n",
      "Waiting BEVs:  [9]\n",
      "Charging list after handling overload:  [8, 4, 6]\n",
      "Waiting BEVs after updating parking end:  [9]\n",
      "Charging BEVs after updating post optimization plan and parking end:  [8, 4, 6]\n",
      "charging_list_per_minute_dict  {480: [8], 495: [8], 510: [8, 4], 525: [8, 4, 6], 540: [8, 4, 6]}\n",
      "FUEL Charging BEV:  8\n",
      "FUEL Charging BEV:  4\n",
      "FUEL Charging BEV:  6\n",
      "SET BEV DATA for current minute for ID BEV 8 for minute 555:  10.333333333333334\n",
      "SET BEV DATA for current minute for ID BEV 4 for minute 555:  10.333333333333334\n",
      "SET BEV DATA for current minute for ID BEV 6 for minute 555:  10.333333333333334\n",
      "Charging BEVs (nachdem neue Plätze belegt):  [8, 4, 6]\n",
      "Restladeenergie bis zur fairen Ladeenergie for BEV mit ID 8:  36.44833333333333\n",
      "Restladezeit:  211.63548387096773\n",
      "Restladeenergie bis zur fairen Ladeenergie for BEV mit ID 4:  34.68083333333333\n",
      "Restladezeit:  201.37258064516126\n",
      "Restladeenergie bis zur fairen Ladeenergie for BEV mit ID 6:  29.053333333333335\n",
      "Restladezeit:  168.69677419354838\n",
      "Charging BEVs:  [8, 4, 6]\n",
      "\n",
      "\n",
      "Minute:  570\n",
      "charging list per minute dict:  {480: [8], 495: [8], 510: [8, 4], 525: [8, 4, 6], 540: [8, 4, 6], 555: [8, 4, 6]}\n",
      "Waiting BEVs:  [9]\n",
      "Charging list after handling overload:  [8, 4, 6]\n",
      "Waiting BEVs after updating parking end:  [9]\n",
      "Charging BEVs after updating post optimization plan and parking end:  [8, 4, 6]\n",
      "charging_list_per_minute_dict  {480: [8], 495: [8], 510: [8, 4], 525: [8, 4, 6], 540: [8, 4, 6], 555: [8, 4, 6]}\n",
      "FUEL Charging BEV:  8\n",
      "FUEL Charging BEV:  4\n",
      "FUEL Charging BEV:  6\n",
      "SET BEV DATA for current minute for ID BEV 8 for minute 570:  9.75\n",
      "SET BEV DATA for current minute for ID BEV 4 for minute 570:  9.75\n",
      "SET BEV DATA for current minute for ID BEV 6 for minute 570:  9.75\n",
      "SET BEV DATA for current minute for ID BEV 9 for minute 570:  9.75\n",
      "Charging BEVs (nachdem neue Plätze belegt):  [8, 4, 6, 9]\n",
      "Restladeenergie bis zur fairen Ladeenergie for BEV mit ID 8:  33.864999999999995\n",
      "Restladezeit:  208.39999999999998\n",
      "Restladeenergie bis zur fairen Ladeenergie for BEV mit ID 4:  32.0975\n",
      "Restladezeit:  197.5230769230769\n",
      "Restladeenergie bis zur fairen Ladeenergie for BEV mit ID 6:  26.47\n",
      "Restladezeit:  162.89230769230767\n",
      "Restladeenergie bis zur fairen Ladeenergie for BEV mit ID 9:  26.3375\n",
      "Restladezeit:  162.07692307692307\n",
      "Charging BEVs:  [8, 4, 6, 9]\n",
      "\n",
      "\n",
      "Minute:  585\n",
      "charging list per minute dict:  {480: [8], 495: [8], 510: [8, 4], 525: [8, 4, 6], 540: [8, 4, 6], 555: [8, 4, 6], 570: [8, 4, 6, 9]}\n",
      "Waiting BEVs:  []\n",
      "Charging list after handling overload:  [8, 4, 6, 9]\n",
      "Waiting BEVs after updating parking end:  []\n",
      "Charging BEVs after updating post optimization plan and parking end:  [8, 4, 6, 9]\n",
      "charging_list_per_minute_dict  {480: [8], 495: [8], 510: [8, 4], 525: [8, 4, 6], 540: [8, 4, 6], 555: [8, 4, 6], 570: [8, 4, 6, 9]}\n",
      "FUEL Charging BEV:  8\n",
      "FUEL Charging BEV:  4\n",
      "FUEL Charging BEV:  6\n",
      "FUEL Charging BEV:  9\n",
      "SET BEV DATA for current minute for ID BEV 8 for minute 585:  11.75\n",
      "SET BEV DATA for current minute for ID BEV 4 for minute 585:  11.75\n",
      "SET BEV DATA for current minute for ID BEV 6 for minute 585:  11.75\n",
      "SET BEV DATA for current minute for ID BEV 9 for minute 585:  11.75\n",
      "Charging BEVs (nachdem neue Plätze belegt):  [8, 4, 6, 9]\n",
      "Restladeenergie bis zur fairen Ladeenergie for BEV mit ID 8:  31.4275\n",
      "Restladezeit:  160.4808510638298\n",
      "Restladeenergie bis zur fairen Ladeenergie for BEV mit ID 4:  29.659999999999997\n",
      "Restladezeit:  151.45531914893616\n",
      "Restladeenergie bis zur fairen Ladeenergie for BEV mit ID 6:  24.0325\n",
      "Restladezeit:  122.71914893617021\n",
      "Restladeenergie bis zur fairen Ladeenergie for BEV mit ID 9:  23.9\n",
      "Restladezeit:  122.04255319148936\n",
      "Charging BEVs:  [8, 4, 6, 9]\n",
      "\n",
      "\n",
      "Minute:  600\n",
      "charging list per minute dict:  {480: [8], 495: [8], 510: [8, 4], 525: [8, 4, 6], 540: [8, 4, 6], 555: [8, 4, 6], 570: [8, 4, 6, 9], 585: [8, 4, 6, 9]}\n",
      "Waiting BEVs:  []\n",
      "Charging list after handling overload:  [8, 4, 6, 9]\n",
      "Waiting BEVs after updating parking end:  []\n",
      "Charging BEVs after updating post optimization plan and parking end:  [8, 4, 6, 9]\n",
      "charging_list_per_minute_dict  {480: [8], 495: [8], 510: [8, 4], 525: [8, 4, 6], 540: [8, 4, 6], 555: [8, 4, 6], 570: [8, 4, 6, 9], 585: [8, 4, 6, 9]}\n",
      "FUEL Charging BEV:  8\n",
      "FUEL Charging BEV:  4\n",
      "FUEL Charging BEV:  6\n",
      "FUEL Charging BEV:  9\n",
      "SET BEV DATA for current minute for ID BEV 8 for minute 600:  12.72\n",
      "SET BEV DATA for current minute for ID BEV 4 for minute 600:  12.72\n",
      "SET BEV DATA for current minute for ID BEV 6 for minute 600:  12.72\n",
      "SET BEV DATA for current minute for ID BEV 9 for minute 600:  12.72\n",
      "Charging BEVs (nachdem neue Plätze belegt):  [8, 4, 6, 9]\n",
      "Restladeenergie bis zur fairen Ladeenergie for BEV mit ID 8:  28.49\n",
      "Restladezeit:  134.38679245283018\n",
      "Restladeenergie bis zur fairen Ladeenergie for BEV mit ID 4:  26.722499999999997\n",
      "Restladezeit:  126.04952830188678\n",
      "Restladeenergie bis zur fairen Ladeenergie for BEV mit ID 6:  21.095\n",
      "Restladezeit:  99.50471698113208\n",
      "Restladeenergie bis zur fairen Ladeenergie for BEV mit ID 9:  20.9625\n",
      "Restladezeit:  98.87971698113206\n",
      "Charging BEVs:  [8, 4, 6, 9]\n",
      "\n",
      "\n",
      "Minute:  615\n",
      "charging list per minute dict:  {480: [8], 495: [8], 510: [8, 4], 525: [8, 4, 6], 540: [8, 4, 6], 555: [8, 4, 6], 570: [8, 4, 6, 9], 585: [8, 4, 6, 9], 600: [8, 4, 6, 9]}\n",
      "Waiting BEVs:  []\n",
      "Charging list after handling overload:  [8, 4, 6, 9]\n",
      "Waiting BEVs after updating parking end:  []\n",
      "Charging BEVs after updating post optimization plan and parking end:  [8, 4, 6, 9]\n",
      "charging_list_per_minute_dict  {480: [8], 495: [8], 510: [8, 4], 525: [8, 4, 6], 540: [8, 4, 6], 555: [8, 4, 6], 570: [8, 4, 6, 9], 585: [8, 4, 6, 9], 600: [8, 4, 6, 9]}\n"
     ]
    },
    {
     "name": "stdout",
     "output_type": "stream",
     "text": [
      "FUEL Charging BEV:  8\n",
      "FUEL Charging BEV:  4\n",
      "FUEL Charging BEV:  6\n",
      "FUEL Charging BEV:  9\n",
      "SET BEV DATA for current minute for ID BEV 8 for minute 615:  12.655\n",
      "SET BEV DATA for current minute for ID BEV 4 for minute 615:  12.655\n",
      "SET BEV DATA for current minute for ID BEV 6 for minute 615:  12.655\n",
      "SET BEV DATA for current minute for ID BEV 9 for minute 615:  12.655\n",
      "Charging BEVs (nachdem neue Plätze belegt):  [8, 4, 6, 9]\n",
      "Restladeenergie bis zur fairen Ladeenergie for BEV mit ID 8:  25.31\n",
      "Restladezeit:  120.0\n",
      "Restladeenergie bis zur fairen Ladeenergie for BEV mit ID 4:  23.542499999999997\n",
      "Restladezeit:  111.61991307783484\n",
      "Restladeenergie bis zur fairen Ladeenergie for BEV mit ID 6:  17.915\n",
      "Restladezeit:  84.93875938364283\n",
      "Restladeenergie bis zur fairen Ladeenergie for BEV mit ID 9:  17.7825\n",
      "Restladezeit:  84.31054919004346\n",
      "Charging BEVs:  [8, 4, 6, 9]\n",
      "\n",
      "\n",
      "Minute:  630\n",
      "charging list per minute dict:  {480: [8], 495: [8], 510: [8, 4], 525: [8, 4, 6], 540: [8, 4, 6], 555: [8, 4, 6], 570: [8, 4, 6, 9], 585: [8, 4, 6, 9], 600: [8, 4, 6, 9], 615: [8, 4, 6, 9]}\n",
      "Waiting BEVs:  []\n",
      "Charging list after handling overload:  [8, 4, 6, 9]\n",
      "SET BEV DATA charging start between intervals for ID BEV 7 for minute 635.1263736483231:  10.076\n",
      "Waiting BEVs after updating parking end:  []\n",
      "Charging BEVs after updating post optimization plan and parking end:  [8, 4, 6, 9]\n",
      "charging_list_per_minute_dict  {480: [8], 495: [8], 510: [8, 4], 525: [8, 4, 6], 540: [8, 4, 6], 555: [8, 4, 6], 570: [8, 4, 6, 9], 585: [8, 4, 6, 9], 600: [8, 4, 6, 9], 615: [8, 4, 6, 9]}\n",
      "FUEL Charging BEV:  8\n",
      "FUEL Charging BEV:  4\n",
      "FUEL Charging BEV:  6\n",
      "FUEL Charging BEV:  9\n",
      "SET BEV DATA for current minute for ID BEV 8 for minute 630:  10.076\n",
      "SET BEV DATA for current minute for ID BEV 4 for minute 630:  10.076\n",
      "SET BEV DATA for current minute for ID BEV 6 for minute 630:  10.076\n",
      "SET BEV DATA for current minute for ID BEV 9 for minute 630:  10.076\n",
      "Charging BEVs (nachdem neue Plätze belegt):  [8, 4, 6, 9]\n",
      "Restladeenergie bis zur fairen Ladeenergie for BEV mit ID 8:  22.14625\n",
      "Restladezeit:  131.87524811433107\n",
      "Restladeenergie bis zur fairen Ladeenergie for BEV mit ID 4:  20.37875\n",
      "Restladezeit:  121.35023818975783\n",
      "Restladeenergie bis zur fairen Ladeenergie for BEV mit ID 6:  14.751250000000002\n",
      "Restladezeit:  87.83991663358476\n",
      "Restladeenergie bis zur fairen Ladeenergie for BEV mit ID 9:  14.618749999999999\n",
      "Restladezeit:  87.05091306073838\n",
      "Charging BEVs:  [8, 4, 6, 9]\n",
      "\n",
      "\n",
      "Minute:  645\n",
      "charging list per minute dict:  {480: [8], 495: [8], 510: [8, 4], 525: [8, 4, 6], 540: [8, 4, 6], 555: [8, 4, 6], 570: [8, 4, 6, 9], 585: [8, 4, 6, 9], 600: [8, 4, 6, 9], 615: [8, 4, 6, 9], 630: [8, 4, 6, 9, 7]}\n",
      "Waiting BEVs:  []\n",
      "Charging list after handling overload:  [8, 4, 6, 9, 7]\n",
      "Waiting BEVs after updating parking end:  []\n",
      "Charging BEVs after updating post optimization plan and parking end:  [8, 4, 6, 9, 7]\n",
      "charging_list_per_minute_dict  {480: [8], 495: [8], 510: [8, 4], 525: [8, 4, 6], 540: [8, 4, 6], 555: [8, 4, 6], 570: [8, 4, 6, 9], 585: [8, 4, 6, 9], 600: [8, 4, 6, 9], 615: [8, 4, 6, 9], 630: [8, 4, 6, 9, 7]}\n",
      "FUEL Charging BEV:  8\n",
      "FUEL Charging BEV:  4\n",
      "FUEL Charging BEV:  6\n",
      "FUEL Charging BEV:  9\n",
      "SET BEV DATA for current minute for ID BEV 8 for minute 645:  10.024\n",
      "SET BEV DATA for current minute for ID BEV 4 for minute 645:  10.024\n",
      "SET BEV DATA for current minute for ID BEV 6 for minute 645:  10.024\n",
      "SET BEV DATA for current minute for ID BEV 9 for minute 645:  10.024\n",
      "SET BEV DATA for current minute for ID BEV 7 for minute 645:  10.024\n",
      "Charging BEVs (nachdem neue Plätze belegt):  [8, 4, 6, 9, 7]\n",
      "Restladeenergie bis zur fairen Ladeenergie for BEV mit ID 8:  19.627249999999997\n",
      "Restladezeit:  117.48154429369512\n",
      "Restladeenergie bis zur fairen Ladeenergie for BEV mit ID 4:  17.85975\n",
      "Restladezeit:  106.90193535514764\n",
      "Restladeenergie bis zur fairen Ladeenergie for BEV mit ID 6:  12.23225\n",
      "Restladezeit:  73.21777733439745\n",
      "Restladeenergie bis zur fairen Ladeenergie for BEV mit ID 9:  12.099749999999998\n",
      "Restladezeit:  72.4246807661612\n",
      "Restladeenergie bis zur fairen Ladeenergie for BEV mit ID 7:  39.25688901467506\n",
      "Restladezeit:  234.977388355996\n",
      "Charging BEVs:  [8, 4, 6, 9, 7]\n",
      "\n",
      "\n",
      "Minute:  660\n",
      "charging list per minute dict:  {480: [8], 495: [8], 510: [8, 4], 525: [8, 4, 6], 540: [8, 4, 6], 555: [8, 4, 6], 570: [8, 4, 6, 9], 585: [8, 4, 6, 9], 600: [8, 4, 6, 9], 615: [8, 4, 6, 9], 630: [8, 4, 6, 9, 7], 645: [8, 4, 6, 9, 7]}\n",
      "Waiting BEVs:  []\n",
      "Charging list after handling overload:  [8, 4, 6, 9, 7]\n",
      "Waiting BEVs after updating parking end:  []\n",
      "Charging BEVs after updating post optimization plan and parking end:  [8, 4, 6, 9, 7]\n",
      "charging_list_per_minute_dict  {480: [8], 495: [8], 510: [8, 4], 525: [8, 4, 6], 540: [8, 4, 6], 555: [8, 4, 6], 570: [8, 4, 6, 9], 585: [8, 4, 6, 9], 600: [8, 4, 6, 9], 615: [8, 4, 6, 9], 630: [8, 4, 6, 9, 7], 645: [8, 4, 6, 9, 7]}\n",
      "FUEL Charging BEV:  8\n",
      "FUEL Charging BEV:  4\n",
      "FUEL Charging BEV:  6\n",
      "FUEL Charging BEV:  9\n",
      "FUEL Charging BEV:  7\n",
      "SET BEV DATA for current minute for ID BEV 8 for minute 660:  10.123999999999999\n",
      "SET BEV DATA for current minute for ID BEV 4 for minute 660:  10.123999999999999\n",
      "SET BEV DATA for current minute for ID BEV 6 for minute 660:  10.123999999999999\n",
      "SET BEV DATA for current minute for ID BEV 9 for minute 660:  10.123999999999999\n",
      "SET BEV DATA for current minute for ID BEV 7 for minute 660:  10.123999999999999\n",
      "Charging BEVs (nachdem neue Plätze belegt):  [8, 4, 6, 9, 7]\n",
      "Restladeenergie bis zur fairen Ladeenergie for BEV mit ID 8:  17.121249999999996\n",
      "Restladezeit:  101.46928091663374\n",
      "Restladeenergie bis zur fairen Ladeenergie for BEV mit ID 4:  15.353749999999998\n",
      "Restladezeit:  90.99417226392731\n",
      "Restladeenergie bis zur fairen Ladeenergie for BEV mit ID 6:  9.72625\n",
      "Restladezeit:  57.64273014618728\n",
      "Restladeenergie bis zur fairen Ladeenergie for BEV mit ID 9:  9.59375\n",
      "Restladezeit:  56.85746740418807\n",
      "Restladeenergie bis zur fairen Ladeenergie for BEV mit ID 7:  36.75088901467506\n",
      "Restladezeit:  217.80455757413114\n",
      "Charging BEVs:  [8, 4, 6, 9, 7]\n",
      "\n",
      "\n",
      "Minute:  675\n",
      "charging list per minute dict:  {480: [8], 495: [8], 510: [8, 4], 525: [8, 4, 6], 540: [8, 4, 6], 555: [8, 4, 6], 570: [8, 4, 6, 9], 585: [8, 4, 6, 9], 600: [8, 4, 6, 9], 615: [8, 4, 6, 9], 630: [8, 4, 6, 9, 7], 645: [8, 4, 6, 9, 7], 660: [8, 4, 6, 9, 7]}\n",
      "Waiting BEVs:  []\n",
      "Charging list after handling overload:  [8, 4, 6, 9, 7]\n",
      "Waiting BEVs after updating parking end:  []\n",
      "Charging BEVs after updating post optimization plan and parking end:  [8, 4, 6, 9, 7]\n",
      "charging_list_per_minute_dict  {480: [8], 495: [8], 510: [8, 4], 525: [8, 4, 6], 540: [8, 4, 6], 555: [8, 4, 6], 570: [8, 4, 6, 9], 585: [8, 4, 6, 9], 600: [8, 4, 6, 9], 615: [8, 4, 6, 9], 630: [8, 4, 6, 9, 7], 645: [8, 4, 6, 9, 7], 660: [8, 4, 6, 9, 7]}\n",
      "FUEL Charging BEV:  8\n",
      "FUEL Charging BEV:  4\n",
      "FUEL Charging BEV:  6\n",
      "FUEL Charging BEV:  9\n",
      "FUEL Charging BEV:  7\n",
      "SET BEV DATA for current minute for ID BEV 8 for minute 675:  10.376000000000001\n",
      "SET BEV DATA for current minute for ID BEV 4 for minute 675:  10.376000000000001\n",
      "SET BEV DATA for current minute for ID BEV 6 for minute 675:  10.376000000000001\n",
      "SET BEV DATA for current minute for ID BEV 9 for minute 675:  10.376000000000001\n",
      "SET BEV DATA for current minute for ID BEV 7 for minute 675:  10.376000000000001\n",
      "Charging BEVs (nachdem neue Plätze belegt):  [8, 4, 6, 9, 7]\n",
      "Restladeenergie bis zur fairen Ladeenergie for BEV mit ID 8:  14.590249999999997\n",
      "Restladezeit:  84.3692174248265\n",
      "Restladeenergie bis zur fairen Ladeenergie for BEV mit ID 4:  12.82275\n",
      "Restladezeit:  74.14851580570546\n",
      "Restladeenergie bis zur fairen Ladeenergie for BEV mit ID 6:  7.1952500000000015\n",
      "Restladezeit:  41.60707401696223\n",
      "Restladeenergie bis zur fairen Ladeenergie for BEV mit ID 9:  7.062750000000001\n",
      "Restladezeit:  40.840882806476486\n",
      "Restladeenergie bis zur fairen Ladeenergie for BEV mit ID 7:  34.21988901467506\n",
      "Restladezeit:  197.87908065540705\n",
      "Charging BEVs:  [8, 4, 6, 9, 7]\n",
      "\n",
      "\n",
      "Minute:  690\n",
      "charging list per minute dict:  {480: [8], 495: [8], 510: [8, 4], 525: [8, 4, 6], 540: [8, 4, 6], 555: [8, 4, 6], 570: [8, 4, 6, 9], 585: [8, 4, 6, 9], 600: [8, 4, 6, 9], 615: [8, 4, 6, 9], 630: [8, 4, 6, 9, 7], 645: [8, 4, 6, 9, 7], 660: [8, 4, 6, 9, 7], 675: [8, 4, 6, 9, 7]}\n",
      "Waiting BEVs:  []\n",
      "Charging list after handling overload:  [8, 4, 6, 9, 7]\n",
      "Waiting BEVs after updating parking end:  []\n",
      "Charging BEVs after updating post optimization plan and parking end:  [8, 4, 6, 9, 7]\n"
     ]
    },
    {
     "name": "stdout",
     "output_type": "stream",
     "text": [
      "charging_list_per_minute_dict  {480: [8], 495: [8], 510: [8, 4], 525: [8, 4, 6], 540: [8, 4, 6], 555: [8, 4, 6], 570: [8, 4, 6, 9], 585: [8, 4, 6, 9], 600: [8, 4, 6, 9], 615: [8, 4, 6, 9], 630: [8, 4, 6, 9, 7], 645: [8, 4, 6, 9, 7], 660: [8, 4, 6, 9, 7], 675: [8, 4, 6, 9, 7]}\n",
      "FUEL Charging BEV:  8\n",
      "FUEL Charging BEV:  4\n",
      "FUEL Charging BEV:  6\n",
      "FUEL Charging BEV:  9\n",
      "FUEL Charging BEV:  7\n",
      "SET BEV DATA for current minute for ID BEV 8 for minute 690:  10.623999999999999\n",
      "SET BEV DATA for current minute for ID BEV 4 for minute 690:  10.623999999999999\n",
      "SET BEV DATA for current minute for ID BEV 6 for minute 690:  10.623999999999999\n",
      "SET BEV DATA for current minute for ID BEV 9 for minute 690:  10.623999999999999\n",
      "SET BEV DATA for current minute for ID BEV 7 for minute 690:  10.623999999999999\n",
      "Charging BEVs (nachdem neue Plätze belegt):  [8, 4, 6, 9, 7]\n",
      "Restladeenergie bis zur fairen Ladeenergie for BEV mit ID 8:  11.996249999999996\n",
      "Restladezeit:  67.74990587349396\n",
      "Restladeenergie bis zur fairen Ladeenergie for BEV mit ID 4:  10.228749999999998\n",
      "Restladezeit:  57.76778990963855\n",
      "Restladeenergie bis zur fairen Ladeenergie for BEV mit ID 6:  4.60125\n",
      "Restladezeit:  25.985975150602414\n",
      "Restladeenergie bis zur fairen Ladeenergie for BEV mit ID 9:  4.46875\n",
      "Restladezeit:  25.237669427710845\n",
      "Restladeenergie bis zur fairen Ladeenergie for BEV mit ID 7:  31.62588901467506\n",
      "Restladezeit:  178.61006597143296\n",
      "Charging BEVs:  [8, 4, 6, 9, 7]\n",
      "\n",
      "\n",
      "Minute:  705\n",
      "charging list per minute dict:  {480: [8], 495: [8], 510: [8, 4], 525: [8, 4, 6], 540: [8, 4, 6], 555: [8, 4, 6], 570: [8, 4, 6, 9], 585: [8, 4, 6, 9], 600: [8, 4, 6, 9], 615: [8, 4, 6, 9], 630: [8, 4, 6, 9, 7], 645: [8, 4, 6, 9, 7], 660: [8, 4, 6, 9, 7], 675: [8, 4, 6, 9, 7], 690: [8, 4, 6, 9, 7]}\n",
      "Waiting BEVs:  []\n",
      "SET BEV DATA after charging time over for ID BEV 8 for minute 705:  10.75\n",
      "Removed from charging list because of overload:  8\n",
      "Charging list after handling overload:  [4, 6, 9, 7]\n",
      "SET BEV DATA charging start between intervals for ID BEV 1 for minute 712.0834865759471:  10.876000000000001\n",
      "Waiting BEVs after updating parking end:  []\n",
      "Charging BEVs after updating post optimization plan and parking end:  [4, 6, 9, 7]\n",
      "charging_list_per_minute_dict  {480: [8], 495: [8], 510: [8, 4], 525: [8, 4, 6], 540: [8, 4, 6], 555: [8, 4, 6], 570: [8, 4, 6, 9], 585: [8, 4, 6, 9], 600: [8, 4, 6, 9], 615: [8, 4, 6, 9], 630: [8, 4, 6, 9, 7], 645: [8, 4, 6, 9, 7], 660: [8, 4, 6, 9, 7], 675: [8, 4, 6, 9, 7], 690: [8, 4, 6, 9, 7]}\n",
      "FUEL Charging BEV:  4\n",
      "FUEL Charging BEV:  6\n",
      "FUEL Charging BEV:  9\n",
      "FUEL Charging BEV:  7\n",
      "SET BEV DATA for current minute for ID BEV 4 for minute 705:  10.876000000000001\n",
      "SET BEV DATA for current minute for ID BEV 6 for minute 705:  10.876000000000001\n",
      "SET BEV DATA for current minute for ID BEV 9 for minute 705:  10.876000000000001\n",
      "SET BEV DATA for current minute for ID BEV 7 for minute 705:  10.876000000000001\n",
      "Charging BEVs (nachdem neue Plätze belegt):  [4, 6, 9, 7]\n",
      "Restladeenergie bis zur fairen Ladeenergie for BEV mit ID 4:  7.572749999999999\n",
      "Restladezeit:  41.77684810592129\n",
      "Restladeenergie bis zur fairen Ladeenergie for BEV mit ID 6:  1.9452500000000015\n",
      "Restladezeit:  10.731426995218836\n",
      "Die Restladezeit des BEVS 6 endet vor dem nächsten Interval\n",
      "SET BEV DATA after charging time over for ID BEV 6 for minute 715.7314269952188:  10.928\n",
      "Restladeenergie bis zur fairen Ladeenergie for BEV mit ID 9:  1.4237000000000002\n",
      "Restladezeit:  7.8541743287973524\n",
      "Die Restladezeit des BEVS 9 endet vor dem nächsten Interval\n",
      "SET BEV DATA after charging time over for ID BEV 9 for minute 712.8541743287974:  10.879999999999999\n",
      "Restladeenergie bis zur fairen Ladeenergie for BEV mit ID 7:  28.29609901467506\n",
      "Restladezeit:  156.1020541449525\n",
      "Charging BEVs:  [4, 6, 9, 7]\n",
      "\n",
      "\n",
      "Minute:  720\n",
      "charging list per minute dict:  {480: [8], 495: [8], 510: [8, 4], 525: [8, 4, 6], 540: [8, 4, 6], 555: [8, 4, 6], 570: [8, 4, 6, 9], 585: [8, 4, 6, 9], 600: [8, 4, 6, 9], 615: [8, 4, 6, 9], 630: [8, 4, 6, 9, 7], 645: [8, 4, 6, 9, 7], 660: [8, 4, 6, 9, 7], 675: [8, 4, 6, 9, 7], 690: [8, 4, 6, 9, 7], 705: [4, 6, 9, 7, 1]}\n",
      "Waiting BEVs:  []\n",
      "Charging list after handling overload:  [4, 7, 1]\n",
      "Waiting BEVs after updating parking end:  []\n",
      "Charging BEVs after updating post optimization plan and parking end:  [4, 7, 1]\n",
      "charging_list_per_minute_dict  {480: [8], 495: [8], 510: [8, 4], 525: [8, 4, 6], 540: [8, 4, 6], 555: [8, 4, 6], 570: [8, 4, 6, 9], 585: [8, 4, 6, 9], 600: [8, 4, 6, 9], 615: [8, 4, 6, 9], 630: [8, 4, 6, 9, 7], 645: [8, 4, 6, 9, 7], 660: [8, 4, 6, 9, 7], 675: [8, 4, 6, 9, 7], 690: [8, 4, 6, 9, 7], 705: [4, 6, 9, 7, 1]}\n",
      "FUEL Charging BEV:  4\n",
      "FUEL Charging BEV:  7\n",
      "SET BEV DATA for current minute for ID BEV 4 for minute 720:  17.54\n",
      "SET BEV DATA for current minute for ID BEV 7 for minute 720:  17.54\n",
      "SET BEV DATA for current minute for ID BEV 1 for minute 720:  17.54\n",
      "Charging BEVs (nachdem neue Plätze belegt):  [4, 7, 1]\n",
      "Restladeenergie bis zur fairen Ladeenergie for BEV mit ID 4:  4.179960000000001\n",
      "Restladezeit:  14.298608893956676\n",
      "Die Restladezeit des BEVS 4 endet vor dem nächsten Interval\n",
      "SET BEV DATA after charging time over for ID BEV 4 for minute 734.2986088939567:  16.823333333333334\n",
      "Restladeenergie bis zur fairen Ladeenergie for BEV mit ID 7:  24.18377901467506\n",
      "Restladezeit:  82.72672410949279\n",
      "Restladeenergie bis zur fairen Ladeenergie for BEV mit ID 1:  39.606680000000004\n",
      "Restladezeit:  135.48465222348918\n",
      "Charging BEVs:  [4, 7, 1]\n",
      "\n",
      "\n",
      "Minute:  735\n",
      "charging list per minute dict:  {480: [8], 495: [8], 510: [8, 4], 525: [8, 4, 6], 540: [8, 4, 6], 555: [8, 4, 6], 570: [8, 4, 6, 9], 585: [8, 4, 6, 9], 600: [8, 4, 6, 9], 615: [8, 4, 6, 9], 630: [8, 4, 6, 9, 7], 645: [8, 4, 6, 9, 7], 660: [8, 4, 6, 9, 7], 675: [8, 4, 6, 9, 7], 690: [8, 4, 6, 9, 7], 705: [4, 6, 9, 7, 1], 720: [4, 7, 1]}\n",
      "Waiting BEVs:  []\n",
      "Charging list after handling overload:  [7, 1]\n",
      "Waiting BEVs after updating parking end:  []\n",
      "Charging BEVs after updating post optimization plan and parking end:  [7, 1]\n",
      "charging_list_per_minute_dict  {480: [8], 495: [8], 510: [8, 4], 525: [8, 4, 6], 540: [8, 4, 6], 555: [8, 4, 6], 570: [8, 4, 6, 9], 585: [8, 4, 6, 9], 600: [8, 4, 6, 9], 615: [8, 4, 6, 9], 630: [8, 4, 6, 9, 7], 645: [8, 4, 6, 9, 7], 660: [8, 4, 6, 9, 7], 675: [8, 4, 6, 9, 7], 690: [8, 4, 6, 9, 7], 705: [4, 6, 9, 7, 1], 720: [4, 7, 1]}\n",
      "FUEL Charging BEV:  7\n",
      "FUEL Charging BEV:  1\n",
      "SET BEV DATA for current minute for ID BEV 7 for minute 735:  23.94\n",
      "SET BEV DATA for current minute for ID BEV 1 for minute 735:  23.94\n",
      "Charging BEVs (nachdem neue Plätze belegt):  [7, 1]\n",
      "Restladeenergie bis zur fairen Ladeenergie for BEV mit ID 7:  19.798779014675063\n",
      "Restladezeit:  49.621000036779606\n",
      "Restladeenergie bis zur fairen Ladeenergie for BEV mit ID 1:  35.221680000000006\n",
      "Restladezeit:  88.27488721804512\n",
      "Charging BEVs:  [7, 1]\n",
      "\n",
      "\n",
      "Minute:  750\n",
      "charging list per minute dict:  {480: [8], 495: [8], 510: [8, 4], 525: [8, 4, 6], 540: [8, 4, 6], 555: [8, 4, 6], 570: [8, 4, 6, 9], 585: [8, 4, 6, 9], 600: [8, 4, 6, 9], 615: [8, 4, 6, 9], 630: [8, 4, 6, 9, 7], 645: [8, 4, 6, 9, 7], 660: [8, 4, 6, 9, 7], 675: [8, 4, 6, 9, 7], 690: [8, 4, 6, 9, 7], 705: [4, 6, 9, 7, 1], 720: [4, 7, 1], 735: [7, 1]}\n",
      "Waiting BEVs:  []\n",
      "Charging list after handling overload:  [7, 1]\n",
      "Waiting BEVs after updating parking end:  []\n",
      "Charging BEVs after updating post optimization plan and parking end:  [7, 1]\n",
      "charging_list_per_minute_dict  {480: [8], 495: [8], 510: [8, 4], 525: [8, 4, 6], 540: [8, 4, 6], 555: [8, 4, 6], 570: [8, 4, 6, 9], 585: [8, 4, 6, 9], 600: [8, 4, 6, 9], 615: [8, 4, 6, 9], 630: [8, 4, 6, 9, 7], 645: [8, 4, 6, 9, 7], 660: [8, 4, 6, 9, 7], 675: [8, 4, 6, 9, 7], 690: [8, 4, 6, 9, 7], 705: [4, 6, 9, 7, 1], 720: [4, 7, 1], 735: [7, 1]}\n",
      "FUEL Charging BEV:  7\n",
      "FUEL Charging BEV:  1\n",
      "SET BEV DATA for current minute for ID BEV 7 for minute 750:  21.56\n",
      "SET BEV DATA for current minute for ID BEV 1 for minute 750:  21.56\n",
      "Charging BEVs (nachdem neue Plätze belegt):  [7, 1]\n",
      "Restladeenergie bis zur fairen Ladeenergie for BEV mit ID 7:  13.813779014675063\n",
      "Restladezeit:  38.4427987421384\n",
      "Restladeenergie bis zur fairen Ladeenergie for BEV mit ID 1:  29.236680000000007\n",
      "Restladezeit:  81.36367346938778\n",
      "Charging BEVs:  [7, 1]\n",
      "\n",
      "\n",
      "Minute:  765\n",
      "charging list per minute dict:  {480: [8], 495: [8], 510: [8, 4], 525: [8, 4, 6], 540: [8, 4, 6], 555: [8, 4, 6], 570: [8, 4, 6, 9], 585: [8, 4, 6, 9], 600: [8, 4, 6, 9], 615: [8, 4, 6, 9], 630: [8, 4, 6, 9, 7], 645: [8, 4, 6, 9, 7], 660: [8, 4, 6, 9, 7], 675: [8, 4, 6, 9, 7], 690: [8, 4, 6, 9, 7], 705: [4, 6, 9, 7, 1], 720: [4, 7, 1], 735: [7, 1], 750: [7, 1]}\n",
      "Waiting BEVs:  []\n",
      "Charging list after handling overload:  [7, 1]\n",
      "SET BEV DATA charging start between intervals for ID BEV 5 for minute 770.5263157894736:  12.793333333333335\n",
      "Waiting BEVs after updating parking end:  []\n",
      "Charging BEVs after updating post optimization plan and parking end:  [7, 1]\n",
      "charging_list_per_minute_dict  {480: [8], 495: [8], 510: [8, 4], 525: [8, 4, 6], 540: [8, 4, 6], 555: [8, 4, 6], 570: [8, 4, 6, 9], 585: [8, 4, 6, 9], 600: [8, 4, 6, 9], 615: [8, 4, 6, 9], 630: [8, 4, 6, 9, 7], 645: [8, 4, 6, 9, 7], 660: [8, 4, 6, 9, 7], 675: [8, 4, 6, 9, 7], 690: [8, 4, 6, 9, 7], 705: [4, 6, 9, 7, 1], 720: [4, 7, 1], 735: [7, 1], 750: [7, 1]}\n",
      "FUEL Charging BEV:  7\n"
     ]
    },
    {
     "name": "stdout",
     "output_type": "stream",
     "text": [
      "FUEL Charging BEV:  1\n",
      "SET BEV DATA for current minute for ID BEV 7 for minute 765:  12.793333333333335\n",
      "SET BEV DATA for current minute for ID BEV 1 for minute 765:  12.793333333333335\n",
      "Charging BEVs (nachdem neue Plätze belegt):  [7, 1]\n",
      "Restladeenergie bis zur fairen Ladeenergie for BEV mit ID 7:  8.423779014675063\n",
      "Restladezeit:  39.50704071499508\n",
      "Restladeenergie bis zur fairen Ladeenergie for BEV mit ID 1:  23.846680000000006\n",
      "Restladezeit:  111.83956227201669\n",
      "Charging BEVs:  [7, 1]\n",
      "\n",
      "\n",
      "Minute:  780\n",
      "charging list per minute dict:  {480: [8], 495: [8], 510: [8, 4], 525: [8, 4, 6], 540: [8, 4, 6], 555: [8, 4, 6], 570: [8, 4, 6, 9], 585: [8, 4, 6, 9], 600: [8, 4, 6, 9], 615: [8, 4, 6, 9], 630: [8, 4, 6, 9, 7], 645: [8, 4, 6, 9, 7], 660: [8, 4, 6, 9, 7], 675: [8, 4, 6, 9, 7], 690: [8, 4, 6, 9, 7], 705: [4, 6, 9, 7, 1], 720: [4, 7, 1], 735: [7, 1], 750: [7, 1], 765: [7, 1, 5]}\n",
      "Waiting BEVs:  []\n",
      "Charging list after handling overload:  [7, 1, 5]\n",
      "SET BEV DATA charging start between intervals for ID BEV 3 for minute 782.6793135435989:  9.1875\n",
      "Waiting BEVs after updating parking end:  []\n",
      "Charging BEVs after updating post optimization plan and parking end:  [7, 1, 5]\n",
      "charging_list_per_minute_dict  {480: [8], 495: [8], 510: [8, 4], 525: [8, 4, 6], 540: [8, 4, 6], 555: [8, 4, 6], 570: [8, 4, 6, 9], 585: [8, 4, 6, 9], 600: [8, 4, 6, 9], 615: [8, 4, 6, 9], 630: [8, 4, 6, 9, 7], 645: [8, 4, 6, 9, 7], 660: [8, 4, 6, 9, 7], 675: [8, 4, 6, 9, 7], 690: [8, 4, 6, 9, 7], 705: [4, 6, 9, 7, 1], 720: [4, 7, 1], 735: [7, 1], 750: [7, 1], 765: [7, 1, 5]}\n",
      "FUEL Charging BEV:  7\n",
      "FUEL Charging BEV:  1\n",
      "SET BEV DATA for current minute for ID BEV 7 for minute 780:  9.1875\n",
      "SET BEV DATA for current minute for ID BEV 1 for minute 780:  9.1875\n",
      "SET BEV DATA for current minute for ID BEV 5 for minute 780:  9.1875\n",
      "Charging BEVs (nachdem neue Plätze belegt):  [7, 1, 5]\n",
      "Restladeenergie bis zur fairen Ladeenergie for BEV mit ID 7:  5.225445681341732\n",
      "Restladezeit:  34.125359551619475\n",
      "Restladeenergie bis zur fairen Ladeenergie for BEV mit ID 1:  20.648346666666672\n",
      "Restladezeit:  134.84634557823134\n",
      "Restladeenergie bis zur fairen Ladeenergie for BEV mit ID 5:  11.682499999999992\n",
      "Restladezeit:  76.29387755102036\n",
      "Charging BEVs:  [7, 1, 5]\n",
      "\n",
      "\n",
      "Minute:  795\n",
      "charging list per minute dict:  {480: [8], 495: [8], 510: [8, 4], 525: [8, 4, 6], 540: [8, 4, 6], 555: [8, 4, 6], 570: [8, 4, 6, 9], 585: [8, 4, 6, 9], 600: [8, 4, 6, 9], 615: [8, 4, 6, 9], 630: [8, 4, 6, 9, 7], 645: [8, 4, 6, 9, 7], 660: [8, 4, 6, 9, 7], 675: [8, 4, 6, 9, 7], 690: [8, 4, 6, 9, 7], 705: [4, 6, 9, 7, 1], 720: [4, 7, 1], 735: [7, 1], 750: [7, 1], 765: [7, 1, 5], 780: [7, 1, 5, 3]}\n",
      "Waiting BEVs:  []\n",
      "Charging list after handling overload:  [7, 1, 5, 3]\n",
      "Waiting BEVs after updating parking end:  []\n",
      "Charging BEVs after updating post optimization plan and parking end:  [7, 1, 5, 3]\n",
      "charging_list_per_minute_dict  {480: [8], 495: [8], 510: [8, 4], 525: [8, 4, 6], 540: [8, 4, 6], 555: [8, 4, 6], 570: [8, 4, 6, 9], 585: [8, 4, 6, 9], 600: [8, 4, 6, 9], 615: [8, 4, 6, 9], 630: [8, 4, 6, 9, 7], 645: [8, 4, 6, 9, 7], 660: [8, 4, 6, 9, 7], 675: [8, 4, 6, 9, 7], 690: [8, 4, 6, 9, 7], 705: [4, 6, 9, 7, 1], 720: [4, 7, 1], 735: [7, 1], 750: [7, 1], 765: [7, 1, 5], 780: [7, 1, 5, 3]}\n",
      "FUEL Charging BEV:  7\n",
      "FUEL Charging BEV:  1\n",
      "FUEL Charging BEV:  5\n",
      "SET BEV DATA for current minute for ID BEV 7 for minute 795:  9.5625\n",
      "SET BEV DATA for current minute for ID BEV 1 for minute 795:  9.5625\n",
      "SET BEV DATA for current minute for ID BEV 5 for minute 795:  9.5625\n",
      "SET BEV DATA for current minute for ID BEV 3 for minute 795:  9.5625\n",
      "Charging BEVs (nachdem neue Plätze belegt):  [7, 1, 5, 3]\n",
      "Restladeenergie bis zur fairen Ladeenergie for BEV mit ID 7:  2.928570681341732\n",
      "Restladezeit:  18.375345451555965\n",
      "Restladeenergie bis zur fairen Ladeenergie for BEV mit ID 1:  18.351471666666672\n",
      "Restladezeit:  115.14648888888892\n",
      "Restladeenergie bis zur fairen Ladeenergie for BEV mit ID 5:  9.385624999999992\n",
      "Restladezeit:  58.89019607843132\n",
      "Restladeenergie bis zur fairen Ladeenergie for BEV mit ID 3:  8.905894886363589\n",
      "Restladezeit:  55.8801247771833\n",
      "Charging BEVs:  [7, 1, 5, 3]\n",
      "\n",
      "\n",
      "Minute:  810\n",
      "charging list per minute dict:  {480: [8], 495: [8], 510: [8, 4], 525: [8, 4, 6], 540: [8, 4, 6], 555: [8, 4, 6], 570: [8, 4, 6, 9], 585: [8, 4, 6, 9], 600: [8, 4, 6, 9], 615: [8, 4, 6, 9], 630: [8, 4, 6, 9, 7], 645: [8, 4, 6, 9, 7], 660: [8, 4, 6, 9, 7], 675: [8, 4, 6, 9, 7], 690: [8, 4, 6, 9, 7], 705: [4, 6, 9, 7, 1], 720: [4, 7, 1], 735: [7, 1], 750: [7, 1], 765: [7, 1, 5], 780: [7, 1, 5, 3], 795: [7, 1, 5, 3]}\n",
      "Waiting BEVs:  []\n",
      "SET BEV DATA after charging time over for ID BEV 7 for minute 810:  9.75\n",
      "Removed from charging list because of overload:  7\n",
      "Charging list after handling overload:  [1, 5, 3]\n",
      "SET BEV DATA charging start between intervals for ID BEV 2 for minute 820.3094339622642:  9.9375\n",
      "BEV 7 CHARGING END FROM POST OPTI in minute\n",
      "Waiting BEVs after updating parking end:  []\n",
      "Charging BEVs after updating post optimization plan and parking end:  [1, 5, 3]\n",
      "charging_list_per_minute_dict  {480: [8], 495: [8], 510: [8, 4], 525: [8, 4, 6], 540: [8, 4, 6], 555: [8, 4, 6], 570: [8, 4, 6, 9], 585: [8, 4, 6, 9], 600: [8, 4, 6, 9], 615: [8, 4, 6, 9], 630: [8, 4, 6, 9, 7], 645: [8, 4, 6, 9, 7], 660: [8, 4, 6, 9, 7], 675: [8, 4, 6, 9, 7], 690: [8, 4, 6, 9, 7], 705: [4, 6, 9, 7, 1], 720: [4, 7, 1], 735: [7, 1], 750: [7, 1], 765: [7, 1, 5], 780: [7, 1, 5, 3], 795: [7, 1, 5, 3]}\n",
      "FUEL Charging BEV:  1\n",
      "FUEL Charging BEV:  5\n",
      "FUEL Charging BEV:  3\n",
      "SET BEV DATA for current minute for ID BEV 1 for minute 810:  9.9375\n",
      "SET BEV DATA for current minute for ID BEV 5 for minute 810:  9.9375\n",
      "SET BEV DATA for current minute for ID BEV 3 for minute 810:  9.9375\n",
      "Charging BEVs (nachdem neue Plätze belegt):  [1, 5, 3]\n",
      "Restladeenergie bis zur fairen Ladeenergie for BEV mit ID 1:  15.960846666666672\n",
      "Restladezeit:  96.36737610062896\n",
      "Restladeenergie bis zur fairen Ladeenergie for BEV mit ID 5:  6.994999999999992\n",
      "Restladezeit:  42.23396226415089\n",
      "Restladeenergie bis zur fairen Ladeenergie for BEV mit ID 3:  6.51526988636359\n",
      "Restladezeit:  39.33747855917639\n",
      "Charging BEVs:  [1, 5, 3]\n",
      "\n",
      "\n",
      "Minute:  825\n",
      "charging list per minute dict:  {480: [8], 495: [8], 510: [8, 4], 525: [8, 4, 6], 540: [8, 4, 6], 555: [8, 4, 6], 570: [8, 4, 6, 9], 585: [8, 4, 6, 9], 600: [8, 4, 6, 9], 615: [8, 4, 6, 9], 630: [8, 4, 6, 9, 7], 645: [8, 4, 6, 9, 7], 660: [8, 4, 6, 9, 7], 675: [8, 4, 6, 9, 7], 690: [8, 4, 6, 9, 7], 705: [4, 6, 9, 7, 1], 720: [4, 7, 1], 735: [7, 1], 750: [7, 1], 765: [7, 1, 5], 780: [7, 1, 5, 3], 795: [7, 1, 5, 3], 810: [1, 5, 3, 2]}\n",
      "Waiting BEVs:  []\n",
      "Charging list after handling overload:  [1, 5, 3, 2]\n",
      "Waiting BEVs after updating parking end:  []\n",
      "Charging BEVs after updating post optimization plan and parking end:  [1, 5, 3, 2]\n",
      "charging_list_per_minute_dict  {480: [8], 495: [8], 510: [8, 4], 525: [8, 4, 6], 540: [8, 4, 6], 555: [8, 4, 6], 570: [8, 4, 6, 9], 585: [8, 4, 6, 9], 600: [8, 4, 6, 9], 615: [8, 4, 6, 9], 630: [8, 4, 6, 9, 7], 645: [8, 4, 6, 9, 7], 660: [8, 4, 6, 9, 7], 675: [8, 4, 6, 9, 7], 690: [8, 4, 6, 9, 7], 705: [4, 6, 9, 7, 1], 720: [4, 7, 1], 735: [7, 1], 750: [7, 1], 765: [7, 1, 5], 780: [7, 1, 5, 3], 795: [7, 1, 5, 3], 810: [1, 5, 3, 2]}\n",
      "FUEL Charging BEV:  1\n",
      "FUEL Charging BEV:  5\n",
      "FUEL Charging BEV:  3\n",
      "SET BEV DATA for current minute for ID BEV 1 for minute 825:  10.3125\n",
      "SET BEV DATA for current minute for ID BEV 5 for minute 825:  10.3125\n",
      "SET BEV DATA for current minute for ID BEV 3 for minute 825:  10.3125\n",
      "SET BEV DATA for current minute for ID BEV 2 for minute 825:  10.3125\n",
      "Charging BEVs (nachdem neue Plätze belegt):  [1, 5, 3, 2]\n",
      "Restladeenergie bis zur fairen Ladeenergie for BEV mit ID 1:  13.476471666666672\n",
      "Restladezeit:  78.40856242424246\n",
      "Restladeenergie bis zur fairen Ladeenergie for BEV mit ID 5:  4.510624999999992\n",
      "Restladezeit:  26.243636363636316\n",
      "Restladeenergie bis zur fairen Ladeenergie for BEV mit ID 3:  4.03089488636359\n",
      "Restladezeit:  23.452479338842704\n",
      "Restladeenergie bis zur fairen Ladeenergie for BEV mit ID 2:  10.015625000000005\n",
      "Restladezeit:  58.2727272727273\n",
      "Charging BEVs:  [1, 5, 3, 2]\n",
      "\n",
      "\n",
      "Minute:  840\n",
      "charging list per minute dict:  {480: [8], 495: [8], 510: [8, 4], 525: [8, 4, 6], 540: [8, 4, 6], 555: [8, 4, 6], 570: [8, 4, 6, 9], 585: [8, 4, 6, 9], 600: [8, 4, 6, 9], 615: [8, 4, 6, 9], 630: [8, 4, 6, 9, 7], 645: [8, 4, 6, 9, 7], 660: [8, 4, 6, 9, 7], 675: [8, 4, 6, 9, 7], 690: [8, 4, 6, 9, 7], 705: [4, 6, 9, 7, 1], 720: [4, 7, 1], 735: [7, 1], 750: [7, 1], 765: [7, 1, 5], 780: [7, 1, 5, 3], 795: [7, 1, 5, 3], 810: [1, 5, 3, 2], 825: [1, 5, 3, 2]}\n",
      "Waiting BEVs:  []\n",
      "Charging list after handling overload:  [1, 5, 3, 2]\n",
      "Waiting BEVs after updating parking end:  []\n",
      "Charging BEVs after updating post optimization plan and parking end:  [1, 5, 3, 2]\n",
      "charging_list_per_minute_dict  {480: [8], 495: [8], 510: [8, 4], 525: [8, 4, 6], 540: [8, 4, 6], 555: [8, 4, 6], 570: [8, 4, 6, 9], 585: [8, 4, 6, 9], 600: [8, 4, 6, 9], 615: [8, 4, 6, 9], 630: [8, 4, 6, 9, 7], 645: [8, 4, 6, 9, 7], 660: [8, 4, 6, 9, 7], 675: [8, 4, 6, 9, 7], 690: [8, 4, 6, 9, 7], 705: [4, 6, 9, 7, 1], 720: [4, 7, 1], 735: [7, 1], 750: [7, 1], 765: [7, 1, 5], 780: [7, 1, 5, 3], 795: [7, 1, 5, 3], 810: [1, 5, 3, 2], 825: [1, 5, 3, 2]}\n",
      "FUEL Charging BEV:  1\n",
      "FUEL Charging BEV:  5\n",
      "FUEL Charging BEV:  3\n",
      "FUEL Charging BEV:  2\n",
      "SET BEV DATA for current minute for ID BEV 1 for minute 840:  9.75\n",
      "SET BEV DATA for current minute for ID BEV 5 for minute 840:  9.75\n",
      "SET BEV DATA for current minute for ID BEV 3 for minute 840:  9.75\n",
      "SET BEV DATA for current minute for ID BEV 2 for minute 840:  9.75\n",
      "Charging BEVs (nachdem neue Plätze belegt):  [1, 5, 3, 2]\n",
      "Restladeenergie bis zur fairen Ladeenergie for BEV mit ID 1:  10.898346666666672\n",
      "Restladezeit:  67.06674871794876\n",
      "Restladeenergie bis zur fairen Ladeenergie for BEV mit ID 5:  1.9324999999999921\n",
      "Restladezeit:  11.892307692307643\n",
      "Die Restladezeit des BEVS 5 endet vor dem nächsten Interval\n",
      "SET BEV DATA after charging time over for ID BEV 5 for minute 851.8923076923077:  9.31\n"
     ]
    },
    {
     "name": "stdout",
     "output_type": "stream",
     "text": [
      "Restladeenergie bis zur fairen Ladeenergie for BEV mit ID 3:  0.9696448863635911\n",
      "Restladezeit:  5.967045454545176\n",
      "Die Restladezeit des BEVS 3 endet vor dem nächsten Interval\n",
      "SET BEV DATA after charging time over for ID BEV 3 for minute 845.9670454545452:  9.9025\n",
      "Restladeenergie bis zur fairen Ladeenergie for BEV mit ID 2:  6.711963778409109\n",
      "Restladezeit:  41.30439248251759\n",
      "Charging BEVs:  [1, 5, 3, 2]\n",
      "\n",
      "\n",
      "Minute:  855\n",
      "charging list per minute dict:  {480: [8], 495: [8], 510: [8, 4], 525: [8, 4, 6], 540: [8, 4, 6], 555: [8, 4, 6], 570: [8, 4, 6, 9], 585: [8, 4, 6, 9], 600: [8, 4, 6, 9], 615: [8, 4, 6, 9], 630: [8, 4, 6, 9, 7], 645: [8, 4, 6, 9, 7], 660: [8, 4, 6, 9, 7], 675: [8, 4, 6, 9, 7], 690: [8, 4, 6, 9, 7], 705: [4, 6, 9, 7, 1], 720: [4, 7, 1], 735: [7, 1], 750: [7, 1], 765: [7, 1, 5], 780: [7, 1, 5, 3], 795: [7, 1, 5, 3], 810: [1, 5, 3, 2], 825: [1, 5, 3, 2], 840: [1, 5, 3, 2]}\n",
      "Waiting BEVs:  []\n",
      "Charging list after handling overload:  [1, 2]\n",
      "SET BEV DATA charging start between intervals for ID BEV 0 for minute 865.5681818181818:  11.0\n",
      "Waiting BEVs after updating parking end:  []\n",
      "Charging BEVs after updating post optimization plan and parking end:  [1, 2]\n",
      "charging_list_per_minute_dict  {480: [8], 495: [8], 510: [8, 4], 525: [8, 4, 6], 540: [8, 4, 6], 555: [8, 4, 6], 570: [8, 4, 6, 9], 585: [8, 4, 6, 9], 600: [8, 4, 6, 9], 615: [8, 4, 6, 9], 630: [8, 4, 6, 9, 7], 645: [8, 4, 6, 9, 7], 660: [8, 4, 6, 9, 7], 675: [8, 4, 6, 9, 7], 690: [8, 4, 6, 9, 7], 705: [4, 6, 9, 7, 1], 720: [4, 7, 1], 735: [7, 1], 750: [7, 1], 765: [7, 1, 5], 780: [7, 1, 5, 3], 795: [7, 1, 5, 3], 810: [1, 5, 3, 2], 825: [1, 5, 3, 2], 840: [1, 5, 3, 2]}\n",
      "FUEL Charging BEV:  1\n",
      "FUEL Charging BEV:  2\n",
      "SET BEV DATA for current minute for ID BEV 1 for minute 855:  11.0\n",
      "SET BEV DATA for current minute for ID BEV 2 for minute 855:  11.0\n",
      "Charging BEVs (nachdem neue Plätze belegt):  [1, 2]\n",
      "Restladeenergie bis zur fairen Ladeenergie for BEV mit ID 1:  7.7353104450757755\n",
      "Restladezeit:  42.19260242768605\n",
      "Restladeenergie bis zur fairen Ladeenergie for BEV mit ID 2:  4.274463778409109\n",
      "Restladezeit:  23.315256973140592\n",
      "Charging BEVs:  [1, 2]\n",
      "\n",
      "\n",
      "Minute:  870\n",
      "charging list per minute dict:  {480: [8], 495: [8], 510: [8, 4], 525: [8, 4, 6], 540: [8, 4, 6], 555: [8, 4, 6], 570: [8, 4, 6, 9], 585: [8, 4, 6, 9], 600: [8, 4, 6, 9], 615: [8, 4, 6, 9], 630: [8, 4, 6, 9, 7], 645: [8, 4, 6, 9, 7], 660: [8, 4, 6, 9, 7], 675: [8, 4, 6, 9, 7], 690: [8, 4, 6, 9, 7], 705: [4, 6, 9, 7, 1], 720: [4, 7, 1], 735: [7, 1], 750: [7, 1], 765: [7, 1, 5], 780: [7, 1, 5, 3], 795: [7, 1, 5, 3], 810: [1, 5, 3, 2], 825: [1, 5, 3, 2], 840: [1, 5, 3, 2], 855: [1, 2, 0]}\n",
      "Waiting BEVs:  []\n",
      "Charging list after handling overload:  [1, 2, 0]\n",
      "Waiting BEVs after updating parking end:  []\n",
      "Charging BEVs after updating post optimization plan and parking end:  [1, 2, 0]\n",
      "charging_list_per_minute_dict  {480: [8], 495: [8], 510: [8, 4], 525: [8, 4, 6], 540: [8, 4, 6], 555: [8, 4, 6], 570: [8, 4, 6, 9], 585: [8, 4, 6, 9], 600: [8, 4, 6, 9], 615: [8, 4, 6, 9], 630: [8, 4, 6, 9, 7], 645: [8, 4, 6, 9, 7], 660: [8, 4, 6, 9, 7], 675: [8, 4, 6, 9, 7], 690: [8, 4, 6, 9, 7], 705: [4, 6, 9, 7, 1], 720: [4, 7, 1], 735: [7, 1], 750: [7, 1], 765: [7, 1, 5], 780: [7, 1, 5, 3], 795: [7, 1, 5, 3], 810: [1, 5, 3, 2], 825: [1, 5, 3, 2], 840: [1, 5, 3, 2], 855: [1, 2, 0]}\n",
      "FUEL Charging BEV:  1\n",
      "FUEL Charging BEV:  2\n",
      "SET BEV DATA for current minute for ID BEV 1 for minute 870:  9.0\n",
      "SET BEV DATA for current minute for ID BEV 2 for minute 870:  9.0\n",
      "SET BEV DATA for current minute for ID BEV 0 for minute 870:  9.0\n",
      "Charging BEVs (nachdem neue Plätze belegt):  [1, 2, 0]\n",
      "Restladeenergie bis zur fairen Ladeenergie for BEV mit ID 1:  4.9853104450757755\n",
      "Restladezeit:  33.23540296717184\n",
      "Restladeenergie bis zur fairen Ladeenergie for BEV mit ID 2:  1.5244637784091086\n",
      "Restladezeit:  10.163091856060724\n",
      "Die Restladezeit des BEVS 2 endet vor dem nächsten Interval\n",
      "SET BEV DATA after charging time over for ID BEV 2 for minute 880.1630918560608:  8.643333333333333\n",
      "Restladeenergie bis zur fairen Ladeenergie for BEV mit ID 0:  12.381845407196954\n",
      "Restladezeit:  82.54563604797968\n",
      "Charging BEVs:  [1, 2, 0]\n",
      "\n",
      "\n",
      "Minute:  885\n",
      "charging list per minute dict:  {480: [8], 495: [8], 510: [8, 4], 525: [8, 4, 6], 540: [8, 4, 6], 555: [8, 4, 6], 570: [8, 4, 6, 9], 585: [8, 4, 6, 9], 600: [8, 4, 6, 9], 615: [8, 4, 6, 9], 630: [8, 4, 6, 9, 7], 645: [8, 4, 6, 9, 7], 660: [8, 4, 6, 9, 7], 675: [8, 4, 6, 9, 7], 690: [8, 4, 6, 9, 7], 705: [4, 6, 9, 7, 1], 720: [4, 7, 1], 735: [7, 1], 750: [7, 1], 765: [7, 1, 5], 780: [7, 1, 5, 3], 795: [7, 1, 5, 3], 810: [1, 5, 3, 2], 825: [1, 5, 3, 2], 840: [1, 5, 3, 2], 855: [1, 2, 0], 870: [1, 2, 0]}\n",
      "Waiting BEVs:  []\n",
      "Charging list after handling overload:  [1, 0]\n",
      "Waiting BEVs after updating parking end:  []\n",
      "Charging BEVs after updating post optimization plan and parking end:  [1, 0]\n",
      "charging_list_per_minute_dict  {480: [8], 495: [8], 510: [8, 4], 525: [8, 4, 6], 540: [8, 4, 6], 555: [8, 4, 6], 570: [8, 4, 6, 9], 585: [8, 4, 6, 9], 600: [8, 4, 6, 9], 615: [8, 4, 6, 9], 630: [8, 4, 6, 9, 7], 645: [8, 4, 6, 9, 7], 660: [8, 4, 6, 9, 7], 675: [8, 4, 6, 9, 7], 690: [8, 4, 6, 9, 7], 705: [4, 6, 9, 7, 1], 720: [4, 7, 1], 735: [7, 1], 750: [7, 1], 765: [7, 1, 5], 780: [7, 1, 5, 3], 795: [7, 1, 5, 3], 810: [1, 5, 3, 2], 825: [1, 5, 3, 2], 840: [1, 5, 3, 2], 855: [1, 2, 0], 870: [1, 2, 0]}\n",
      "FUEL Charging BEV:  1\n",
      "FUEL Charging BEV:  0\n",
      "SET BEV DATA for current minute for ID BEV 1 for minute 885:  10.5\n",
      "SET BEV DATA for current minute for ID BEV 0 for minute 885:  10.5\n",
      "Charging BEVs (nachdem neue Plätze belegt):  [1, 0]\n",
      "Restladeenergie bis zur fairen Ladeenergie for BEV mit ID 1:  2.2271558522727375\n",
      "Restladezeit:  12.726604870129929\n",
      "Die Restladezeit des BEVS 1 endet vor dem nächsten Interval\n",
      "SET BEV DATA after charging time over for ID BEV 1 for minute 897.7266048701299:  9.455\n",
      "Restladeenergie bis zur fairen Ladeenergie for BEV mit ID 0:  9.018267481060583\n",
      "Restladezeit:  51.532957034631906\n",
      "Charging BEVs:  [1, 0]\n",
      "\n",
      "\n",
      "Minute:  900\n",
      "charging list per minute dict:  {480: [8], 495: [8], 510: [8, 4], 525: [8, 4, 6], 540: [8, 4, 6], 555: [8, 4, 6], 570: [8, 4, 6, 9], 585: [8, 4, 6, 9], 600: [8, 4, 6, 9], 615: [8, 4, 6, 9], 630: [8, 4, 6, 9, 7], 645: [8, 4, 6, 9, 7], 660: [8, 4, 6, 9, 7], 675: [8, 4, 6, 9, 7], 690: [8, 4, 6, 9, 7], 705: [4, 6, 9, 7, 1], 720: [4, 7, 1], 735: [7, 1], 750: [7, 1], 765: [7, 1, 5], 780: [7, 1, 5, 3], 795: [7, 1, 5, 3], 810: [1, 5, 3, 2], 825: [1, 5, 3, 2], 840: [1, 5, 3, 2], 855: [1, 2, 0], 870: [1, 2, 0], 885: [1, 0]}\n",
      "Waiting BEVs:  []\n",
      "Charging list after handling overload:  [0]\n",
      "Waiting BEVs after updating parking end:  []\n",
      "Charging BEVs after updating post optimization plan and parking end:  [0]\n",
      "charging_list_per_minute_dict  {480: [8], 495: [8], 510: [8, 4], 525: [8, 4, 6], 540: [8, 4, 6], 555: [8, 4, 6], 570: [8, 4, 6, 9], 585: [8, 4, 6, 9], 600: [8, 4, 6, 9], 615: [8, 4, 6, 9], 630: [8, 4, 6, 9, 7], 645: [8, 4, 6, 9, 7], 660: [8, 4, 6, 9, 7], 675: [8, 4, 6, 9, 7], 690: [8, 4, 6, 9, 7], 705: [4, 6, 9, 7, 1], 720: [4, 7, 1], 735: [7, 1], 750: [7, 1], 765: [7, 1, 5], 780: [7, 1, 5, 3], 795: [7, 1, 5, 3], 810: [1, 5, 3, 2], 825: [1, 5, 3, 2], 840: [1, 5, 3, 2], 855: [1, 2, 0], 870: [1, 2, 0], 885: [1, 0]}\n",
      "FUEL Charging BEV:  0\n",
      "SET BEV DATA for current minute for ID BEV 0 for minute 900:  16.88\n",
      "Charging BEVs (nachdem neue Plätze belegt):  [0]\n",
      "Restladeenergie bis zur fairen Ladeenergie for BEV mit ID 0:  6.393267481060584\n",
      "Restladezeit:  22.72488441135279\n",
      "Charging BEVs:  [0]\n",
      "\n",
      "\n",
      "Minute:  915\n",
      "charging list per minute dict:  {480: [8], 495: [8], 510: [8, 4], 525: [8, 4, 6], 540: [8, 4, 6], 555: [8, 4, 6], 570: [8, 4, 6, 9], 585: [8, 4, 6, 9], 600: [8, 4, 6, 9], 615: [8, 4, 6, 9], 630: [8, 4, 6, 9, 7], 645: [8, 4, 6, 9, 7], 660: [8, 4, 6, 9, 7], 675: [8, 4, 6, 9, 7], 690: [8, 4, 6, 9, 7], 705: [4, 6, 9, 7, 1], 720: [4, 7, 1], 735: [7, 1], 750: [7, 1], 765: [7, 1, 5], 780: [7, 1, 5, 3], 795: [7, 1, 5, 3], 810: [1, 5, 3, 2], 825: [1, 5, 3, 2], 840: [1, 5, 3, 2], 855: [1, 2, 0], 870: [1, 2, 0], 885: [1, 0], 900: [0]}\n",
      "Waiting BEVs:  []\n",
      "Charging list after handling overload:  [0]\n",
      "Waiting BEVs after updating parking end:  []\n",
      "Charging BEVs after updating post optimization plan and parking end:  [0]\n",
      "charging_list_per_minute_dict  {480: [8], 495: [8], 510: [8, 4], 525: [8, 4, 6], 540: [8, 4, 6], 555: [8, 4, 6], 570: [8, 4, 6, 9], 585: [8, 4, 6, 9], 600: [8, 4, 6, 9], 615: [8, 4, 6, 9], 630: [8, 4, 6, 9, 7], 645: [8, 4, 6, 9, 7], 660: [8, 4, 6, 9, 7], 675: [8, 4, 6, 9, 7], 690: [8, 4, 6, 9, 7], 705: [4, 6, 9, 7, 1], 720: [4, 7, 1], 735: [7, 1], 750: [7, 1], 765: [7, 1, 5], 780: [7, 1, 5, 3], 795: [7, 1, 5, 3], 810: [1, 5, 3, 2], 825: [1, 5, 3, 2], 840: [1, 5, 3, 2], 855: [1, 2, 0], 870: [1, 2, 0], 885: [1, 0], 900: [0]}\n",
      "FUEL Charging BEV:  0\n",
      "SET BEV DATA for current minute for ID BEV 0 for minute 915:  14.62\n",
      "Charging BEVs (nachdem neue Plätze belegt):  [0]\n",
      "Restladeenergie bis zur fairen Ladeenergie for BEV mit ID 0:  2.1732674810605843\n",
      "Restladezeit:  8.919018390125517\n",
      "Die Restladezeit des BEVS 0 endet vor dem nächsten Interval\n",
      "SET BEV DATA after charging time over for ID BEV 0 for minute 923.9190183901255:  14.41\n",
      "Charging BEVs:  [0]\n",
      "\n",
      "\n",
      "Minute:  930\n",
      "charging list per minute dict:  {480: [8], 495: [8], 510: [8, 4], 525: [8, 4, 6], 540: [8, 4, 6], 555: [8, 4, 6], 570: [8, 4, 6, 9], 585: [8, 4, 6, 9], 600: [8, 4, 6, 9], 615: [8, 4, 6, 9], 630: [8, 4, 6, 9, 7], 645: [8, 4, 6, 9, 7], 660: [8, 4, 6, 9, 7], 675: [8, 4, 6, 9, 7], 690: [8, 4, 6, 9, 7], 705: [4, 6, 9, 7, 1], 720: [4, 7, 1], 735: [7, 1], 750: [7, 1], 765: [7, 1, 5], 780: [7, 1, 5, 3], 795: [7, 1, 5, 3], 810: [1, 5, 3, 2], 825: [1, 5, 3, 2], 840: [1, 5, 3, 2], 855: [1, 2, 0], 870: [1, 2, 0], 885: [1, 0], 900: [0], 915: [0]}\n",
      "Waiting BEVs:  []\n",
      "Charging list after handling overload:  []\n",
      "Waiting BEVs after updating parking end:  []\n",
      "Charging BEVs after updating post optimization plan and parking end:  []\n",
      "charging_list_per_minute_dict  {480: [8], 495: [8], 510: [8, 4], 525: [8, 4, 6], 540: [8, 4, 6], 555: [8, 4, 6], 570: [8, 4, 6, 9], 585: [8, 4, 6, 9], 600: [8, 4, 6, 9], 615: [8, 4, 6, 9], 630: [8, 4, 6, 9, 7], 645: [8, 4, 6, 9, 7], 660: [8, 4, 6, 9, 7], 675: [8, 4, 6, 9, 7], 690: [8, 4, 6, 9, 7], 705: [4, 6, 9, 7, 1], 720: [4, 7, 1], 735: [7, 1], 750: [7, 1], 765: [7, 1, 5], 780: [7, 1, 5, 3], 795: [7, 1, 5, 3], 810: [1, 5, 3, 2], 825: [1, 5, 3, 2], 840: [1, 5, 3, 2], 855: [1, 2, 0], 870: [1, 2, 0], 885: [1, 0], 900: [0], 915: [0]}\n",
      "Charging BEVs (nachdem neue Plätze belegt):  []\n",
      "Charging BEVs:  []\n",
      "\n",
      "\n",
      "Minute:  945\n",
      "charging list per minute dict:  {480: [8], 495: [8], 510: [8, 4], 525: [8, 4, 6], 540: [8, 4, 6], 555: [8, 4, 6], 570: [8, 4, 6, 9], 585: [8, 4, 6, 9], 600: [8, 4, 6, 9], 615: [8, 4, 6, 9], 630: [8, 4, 6, 9, 7], 645: [8, 4, 6, 9, 7], 660: [8, 4, 6, 9, 7], 675: [8, 4, 6, 9, 7], 690: [8, 4, 6, 9, 7], 705: [4, 6, 9, 7, 1], 720: [4, 7, 1], 735: [7, 1], 750: [7, 1], 765: [7, 1, 5], 780: [7, 1, 5, 3], 795: [7, 1, 5, 3], 810: [1, 5, 3, 2], 825: [1, 5, 3, 2], 840: [1, 5, 3, 2], 855: [1, 2, 0], 870: [1, 2, 0], 885: [1, 0], 900: [0], 915: [0], 930: []}\n",
      "Waiting BEVs:  []\n",
      "Charging list after handling overload:  []\n",
      "Waiting BEVs after updating parking end:  []\n",
      "Charging BEVs after updating post optimization plan and parking end:  []\n",
      "charging_list_per_minute_dict  {480: [8], 495: [8], 510: [8, 4], 525: [8, 4, 6], 540: [8, 4, 6], 555: [8, 4, 6], 570: [8, 4, 6, 9], 585: [8, 4, 6, 9], 600: [8, 4, 6, 9], 615: [8, 4, 6, 9], 630: [8, 4, 6, 9, 7], 645: [8, 4, 6, 9, 7], 660: [8, 4, 6, 9, 7], 675: [8, 4, 6, 9, 7], 690: [8, 4, 6, 9, 7], 705: [4, 6, 9, 7, 1], 720: [4, 7, 1], 735: [7, 1], 750: [7, 1], 765: [7, 1, 5], 780: [7, 1, 5, 3], 795: [7, 1, 5, 3], 810: [1, 5, 3, 2], 825: [1, 5, 3, 2], 840: [1, 5, 3, 2], 855: [1, 2, 0], 870: [1, 2, 0], 885: [1, 0], 900: [0], 915: [0], 930: []}\n",
      "Charging BEVs (nachdem neue Plätze belegt):  []\n",
      "Charging BEVs:  []\n",
      "\n",
      "\n",
      "Minute:  960\n",
      "charging list per minute dict:  {480: [8], 495: [8], 510: [8, 4], 525: [8, 4, 6], 540: [8, 4, 6], 555: [8, 4, 6], 570: [8, 4, 6, 9], 585: [8, 4, 6, 9], 600: [8, 4, 6, 9], 615: [8, 4, 6, 9], 630: [8, 4, 6, 9, 7], 645: [8, 4, 6, 9, 7], 660: [8, 4, 6, 9, 7], 675: [8, 4, 6, 9, 7], 690: [8, 4, 6, 9, 7], 705: [4, 6, 9, 7, 1], 720: [4, 7, 1], 735: [7, 1], 750: [7, 1], 765: [7, 1, 5], 780: [7, 1, 5, 3], 795: [7, 1, 5, 3], 810: [1, 5, 3, 2], 825: [1, 5, 3, 2], 840: [1, 5, 3, 2], 855: [1, 2, 0], 870: [1, 2, 0], 885: [1, 0], 900: [0], 915: [0], 930: [], 945: []}\n",
      "Waiting BEVs:  []\n",
      "Charging list after handling overload:  []\n",
      "Waiting BEVs after updating parking end:  []\n",
      "Charging BEVs after updating post optimization plan and parking end:  []\n",
      "charging_list_per_minute_dict  {480: [8], 495: [8], 510: [8, 4], 525: [8, 4, 6], 540: [8, 4, 6], 555: [8, 4, 6], 570: [8, 4, 6, 9], 585: [8, 4, 6, 9], 600: [8, 4, 6, 9], 615: [8, 4, 6, 9], 630: [8, 4, 6, 9, 7], 645: [8, 4, 6, 9, 7], 660: [8, 4, 6, 9, 7], 675: [8, 4, 6, 9, 7], 690: [8, 4, 6, 9, 7], 705: [4, 6, 9, 7, 1], 720: [4, 7, 1], 735: [7, 1], 750: [7, 1], 765: [7, 1, 5], 780: [7, 1, 5, 3], 795: [7, 1, 5, 3], 810: [1, 5, 3, 2], 825: [1, 5, 3, 2], 840: [1, 5, 3, 2], 855: [1, 2, 0], 870: [1, 2, 0], 885: [1, 0], 900: [0], 915: [0], 930: [], 945: []}\n",
      "Charging BEVs (nachdem neue Plätze belegt):  []\n",
      "Charging BEVs:  []\n",
      "LAST INTERVAL CHECKKKKK\n",
      "stopped_charging_last_interval:  []\n",
      "bevs_charging_start_last_interval_already_fueled:  []\n",
      "charging_list_per_minute_dict  {480: [8], 495: [8], 510: [8, 4], 525: [8, 4, 6], 540: [8, 4, 6], 555: [8, 4, 6], 570: [8, 4, 6, 9], 585: [8, 4, 6, 9], 600: [8, 4, 6, 9], 615: [8, 4, 6, 9], 630: [8, 4, 6, 9, 7], 645: [8, 4, 6, 9, 7], 660: [8, 4, 6, 9, 7], 675: [8, 4, 6, 9, 7], 690: [8, 4, 6, 9, 7], 705: [4, 6, 9, 7, 1], 720: [4, 7, 1], 735: [7, 1], 750: [7, 1], 765: [7, 1, 5], 780: [7, 1, 5, 3], 795: [7, 1, 5, 3], 810: [1, 5, 3, 2], 825: [1, 5, 3, 2], 840: [1, 5, 3, 2], 855: [1, 2, 0], 870: [1, 2, 0], 885: [1, 0], 900: [0], 915: [0], 930: [], 945: [], 960: []}\n"
     ]
    }
   ],
   "source": [
    "import simulationClasses\n",
    "import simulationData\n",
    "import simulationOutputDataVisualisation\n",
    "import distributionAlgorithmForecastPolling\n",
    "import postOptimization\n",
    "import numpy as np\n",
    "\n",
    "simulation_day = simulationClasses.SimulationDay(anzahl_bevs_pro_tag)\n",
    "bev_data = simulationData.BevData()\n",
    "table_dict = simulationData.TableDict()\n",
    "simulation_data = simulationData.SimulationData()\n",
    "    \n",
    "day_in_minute_interval_steps = list(np.around(np.arange(480, 960 + 1, minute_interval), 1))\n",
    "distributionAlgorithmForecastPolling.init_simulation(day_in_minute_interval_steps, minute_interval, simulation_data, \n",
    "                                                   simulation_day, solarpeakleistung)\n",
    "\n",
    "postOptimization.start_post_optimization(minute_interval, simulation_day, solarpeakleistung, bev_data, table_dict, simulation_data,\n",
    "                ladeleistung_pro_bev)\n",
    "\n",
    "distributionAlgorithmForecastPolling.start_simulation(solarpeakleistung, ladeleistung_pro_bev,\n",
    "                     simulation_day, bev_data, table_dict, simulation_data, minute_interval)"
   ]
  },
  {
   "cell_type": "markdown",
   "metadata": {},
   "source": [
    "### Ergebnis Algorithmus"
   ]
  },
  {
   "cell_type": "code",
   "execution_count": 4,
   "metadata": {
    "pycharm": {
     "is_executing": true
    }
   },
   "outputs": [
    {
     "data": {
      "text/markdown": [
       ">**Ergebnis**<br>Geladene BEVs: 10 von 10<br>Verfügbare Solarenergie insgesamt: 276.47 kWh<br>Aufgeladene Solarenergie insgesamt: 266.69 kWh<br>Ungenutzte Solarenergie insgesamt: 9.78 kWh"
      ],
      "text/plain": [
       "<IPython.core.display.Markdown object>"
      ]
     },
     "execution_count": 4,
     "metadata": {},
     "output_type": "execute_result"
    }
   ],
   "source": [
    "simulationOutputDataVisualisation.print_algorithm_result(bev_data, simulation_data, anzahl_bevs_pro_tag, solarpeakleistung, minute_interval)"
   ]
  },
  {
   "cell_type": "markdown",
   "metadata": {},
   "source": [
    "### Tabellarische Übersicht Park- und Ladeverlauf der BEVs"
   ]
  },
  {
   "cell_type": "code",
   "execution_count": 5,
   "metadata": {
    "pycharm": {
     "is_executing": true
    }
   },
   "outputs": [
    {
     "data": {
      "application/vnd.jupyter.widget-view+json": {
       "model_id": "aa1286d6152c43e1b395bcd2345416ea",
       "version_major": 2,
       "version_minor": 0
      },
      "text/plain": [
       "interactive(children=(IntSlider(value=480, description='Minute: ', max=960, min=480, step=15), Output()), _dom…"
      ]
     },
     "metadata": {},
     "output_type": "display_data"
    }
   ],
   "source": [
    "simulationOutputDataVisualisation.create_tabular_overview_per_minute_slider(table_dict, minute_interval)"
   ]
  },
  {
   "cell_type": "code",
   "execution_count": 6,
   "metadata": {
    "pycharm": {
     "is_executing": true
    }
   },
   "outputs": [],
   "source": [
    "import figureGeneration\n",
    "# NICHT MEHR RICHTIG, da BEVs aus post optimization aktuell nicht auf der Warteliste landen\n",
    "# figureGeneration.create_bev_number_figure(simulation_data)"
   ]
  },
  {
   "cell_type": "code",
   "execution_count": 7,
   "metadata": {
    "pycharm": {
     "is_executing": true
    }
   },
   "outputs": [
    {
     "data": {
      "application/vnd.plotly.v1+json": {
       "config": {
        "plotlyServerURL": "https://plot.ly"
       },
       "data": [
        {
         "line": {
          "color": "orange"
         },
         "name": "Verfügbare Solarleistung",
         "type": "scatter",
         "x": [
          480,
          495,
          510,
          525,
          540,
          555,
          570,
          585,
          600,
          615,
          630,
          645,
          660,
          675,
          690,
          705,
          720,
          735,
          750,
          765,
          780,
          795,
          810,
          825,
          840,
          855,
          870,
          885,
          900,
          915,
          930,
          945,
          960
         ],
         "y": [
          -2,
          3.25,
          8.5,
          13.749999999999998,
          19,
          27,
          35,
          43,
          51,
          50.75,
          50.5,
          50.25,
          50,
          51.25,
          52.5,
          53.75,
          55,
          50.25,
          45.5,
          40.75,
          36,
          37.5,
          39,
          40.5,
          42,
          36,
          30,
          24,
          18,
          15.75,
          13.5,
          11.25,
          9
         ]
        },
        {
         "line": {
          "color": "green"
         },
         "mode": "lines",
         "name": "ID BEV 8",
         "type": "scatter",
         "x": [
          480,
          480,
          495,
          510,
          525,
          540,
          555,
          570,
          585,
          600,
          615,
          630,
          645,
          660,
          675,
          690,
          705,
          705
         ],
         "y": [
          0,
          0.62,
          5.87,
          5.56,
          5.46,
          7.666666666666667,
          10.333333333333334,
          9.75,
          11.75,
          12.72,
          12.655,
          10.076,
          10.024,
          10.123999999999999,
          10.376000000000001,
          10.623999999999999,
          10.75,
          0
         ]
        },
        {
         "line": {
          "color": "green"
         },
         "mode": "lines",
         "name": "ID BEV 4",
         "type": "scatter",
         "x": [
          510,
          510,
          525,
          540,
          555,
          570,
          585,
          600,
          615,
          630,
          645,
          660,
          675,
          690,
          705,
          720,
          734.2986088939567,
          734.2986088939567
         ],
         "y": [
          0,
          11.12,
          10.92,
          15.333333333333334,
          20.666666666666668,
          19.5,
          23.5,
          25.44,
          25.31,
          20.152,
          20.048,
          20.247999999999998,
          20.752000000000002,
          21.247999999999998,
          21.626,
          17.54,
          16.823333333333334,
          0
         ]
        },
        {
         "line": {
          "color": "green"
         },
         "mode": "lines",
         "name": "ID BEV 6",
         "type": "scatter",
         "x": [
          525,
          525,
          540,
          555,
          570,
          585,
          600,
          615,
          630,
          645,
          660,
          675,
          690,
          705,
          715.7314269952188,
          715.7314269952188
         ],
         "y": [
          0,
          16.38,
          23,
          31,
          29.25,
          35.25,
          38.160000000000004,
          37.964999999999996,
          30.228,
          30.071999999999996,
          30.371999999999996,
          31.128000000000004,
          31.871999999999996,
          32.502,
          10.928,
          0
         ]
        },
        {
         "line": {
          "color": "green"
         },
         "mode": "lines",
         "name": "ID BEV 9",
         "type": "scatter",
         "x": [
          570,
          570,
          585,
          600,
          615,
          630,
          645,
          660,
          675,
          690,
          705,
          712.8541743287974,
          712.8541743287974
         ],
         "y": [
          0,
          39,
          47,
          50.88,
          50.62,
          40.304,
          40.096,
          40.495999999999995,
          41.504000000000005,
          42.495999999999995,
          43.378,
          10.879999999999999,
          0
         ]
        },
        {
         "line": {
          "color": "green"
         },
         "mode": "lines",
         "name": "ID BEV 7",
         "type": "scatter",
         "x": [
          635.1263736483231,
          635.1263736483231,
          645,
          660,
          675,
          690,
          705,
          720,
          735,
          750,
          765,
          780,
          795,
          810,
          810
         ],
         "y": [
          0,
          10.076,
          50.12,
          50.61999999999999,
          51.88000000000001,
          53.11999999999999,
          54.254000000000005,
          35.08,
          23.94,
          21.56,
          12.793333333333335,
          9.1875,
          9.5625,
          9.75,
          0
         ]
        },
        {
         "line": {
          "color": "green"
         },
         "mode": "lines",
         "name": "ID BEV 1",
         "type": "scatter",
         "x": [
          712.0834865759471,
          712.0834865759471,
          720,
          735,
          750,
          765,
          780,
          795,
          810,
          825,
          840,
          855,
          870,
          885,
          897.7266048701299,
          897.7266048701299
         ],
         "y": [
          0,
          10.876000000000001,
          52.62,
          47.88,
          43.12,
          25.58666666666667,
          18.375,
          19.125,
          19.6875,
          10.3125,
          9.75,
          11,
          9,
          10.5,
          9.455,
          0
         ]
        },
        {
         "line": {
          "color": "green"
         },
         "mode": "lines",
         "name": "ID BEV 5",
         "type": "scatter",
         "x": [
          770.5263157894736,
          770.5263157894736,
          780,
          795,
          810,
          825,
          840,
          851.8923076923077,
          851.8923076923077
         ],
         "y": [
          0,
          12.793333333333335,
          27.5625,
          28.6875,
          29.625,
          20.625,
          19.5,
          9.31,
          0
         ]
        },
        {
         "line": {
          "color": "green"
         },
         "mode": "lines",
         "name": "ID BEV 3",
         "type": "scatter",
         "x": [
          782.6793135435989,
          782.6793135435989,
          795,
          810,
          825,
          840,
          845.9670454545452,
          845.9670454545452
         ],
         "y": [
          0,
          9.1875,
          38.25,
          39.5625,
          30.9375,
          29.25,
          9.9025,
          0
         ]
        },
        {
         "line": {
          "color": "green"
         },
         "mode": "lines",
         "name": "ID BEV 2",
         "type": "scatter",
         "x": [
          820.3094339622642,
          820.3094339622642,
          825,
          840,
          855,
          870,
          880.1630918560608,
          880.1630918560608
         ],
         "y": [
          0,
          9.9375,
          41.25,
          39,
          22,
          18,
          8.643333333333333,
          0
         ]
        },
        {
         "line": {
          "color": "green"
         },
         "mode": "lines",
         "name": "ID BEV 0",
         "type": "scatter",
         "x": [
          865.5681818181818,
          865.5681818181818,
          870,
          885,
          900,
          915,
          923.9190183901255,
          923.9190183901255
         ],
         "y": [
          0,
          11,
          27,
          21,
          16.88,
          14.62,
          14.41,
          0
         ]
        }
       ],
       "layout": {
        "template": {
         "data": {
          "bar": [
           {
            "error_x": {
             "color": "#2a3f5f"
            },
            "error_y": {
             "color": "#2a3f5f"
            },
            "marker": {
             "line": {
              "color": "white",
              "width": 0.5
             },
             "pattern": {
              "fillmode": "overlay",
              "size": 10,
              "solidity": 0.2
             }
            },
            "type": "bar"
           }
          ],
          "barpolar": [
           {
            "marker": {
             "line": {
              "color": "white",
              "width": 0.5
             },
             "pattern": {
              "fillmode": "overlay",
              "size": 10,
              "solidity": 0.2
             }
            },
            "type": "barpolar"
           }
          ],
          "carpet": [
           {
            "aaxis": {
             "endlinecolor": "#2a3f5f",
             "gridcolor": "#C8D4E3",
             "linecolor": "#C8D4E3",
             "minorgridcolor": "#C8D4E3",
             "startlinecolor": "#2a3f5f"
            },
            "baxis": {
             "endlinecolor": "#2a3f5f",
             "gridcolor": "#C8D4E3",
             "linecolor": "#C8D4E3",
             "minorgridcolor": "#C8D4E3",
             "startlinecolor": "#2a3f5f"
            },
            "type": "carpet"
           }
          ],
          "choropleth": [
           {
            "colorbar": {
             "outlinewidth": 0,
             "ticks": ""
            },
            "type": "choropleth"
           }
          ],
          "contour": [
           {
            "colorbar": {
             "outlinewidth": 0,
             "ticks": ""
            },
            "colorscale": [
             [
              0,
              "#0d0887"
             ],
             [
              0.1111111111111111,
              "#46039f"
             ],
             [
              0.2222222222222222,
              "#7201a8"
             ],
             [
              0.3333333333333333,
              "#9c179e"
             ],
             [
              0.4444444444444444,
              "#bd3786"
             ],
             [
              0.5555555555555556,
              "#d8576b"
             ],
             [
              0.6666666666666666,
              "#ed7953"
             ],
             [
              0.7777777777777778,
              "#fb9f3a"
             ],
             [
              0.8888888888888888,
              "#fdca26"
             ],
             [
              1,
              "#f0f921"
             ]
            ],
            "type": "contour"
           }
          ],
          "contourcarpet": [
           {
            "colorbar": {
             "outlinewidth": 0,
             "ticks": ""
            },
            "type": "contourcarpet"
           }
          ],
          "heatmap": [
           {
            "colorbar": {
             "outlinewidth": 0,
             "ticks": ""
            },
            "colorscale": [
             [
              0,
              "#0d0887"
             ],
             [
              0.1111111111111111,
              "#46039f"
             ],
             [
              0.2222222222222222,
              "#7201a8"
             ],
             [
              0.3333333333333333,
              "#9c179e"
             ],
             [
              0.4444444444444444,
              "#bd3786"
             ],
             [
              0.5555555555555556,
              "#d8576b"
             ],
             [
              0.6666666666666666,
              "#ed7953"
             ],
             [
              0.7777777777777778,
              "#fb9f3a"
             ],
             [
              0.8888888888888888,
              "#fdca26"
             ],
             [
              1,
              "#f0f921"
             ]
            ],
            "type": "heatmap"
           }
          ],
          "heatmapgl": [
           {
            "colorbar": {
             "outlinewidth": 0,
             "ticks": ""
            },
            "colorscale": [
             [
              0,
              "#0d0887"
             ],
             [
              0.1111111111111111,
              "#46039f"
             ],
             [
              0.2222222222222222,
              "#7201a8"
             ],
             [
              0.3333333333333333,
              "#9c179e"
             ],
             [
              0.4444444444444444,
              "#bd3786"
             ],
             [
              0.5555555555555556,
              "#d8576b"
             ],
             [
              0.6666666666666666,
              "#ed7953"
             ],
             [
              0.7777777777777778,
              "#fb9f3a"
             ],
             [
              0.8888888888888888,
              "#fdca26"
             ],
             [
              1,
              "#f0f921"
             ]
            ],
            "type": "heatmapgl"
           }
          ],
          "histogram": [
           {
            "marker": {
             "pattern": {
              "fillmode": "overlay",
              "size": 10,
              "solidity": 0.2
             }
            },
            "type": "histogram"
           }
          ],
          "histogram2d": [
           {
            "colorbar": {
             "outlinewidth": 0,
             "ticks": ""
            },
            "colorscale": [
             [
              0,
              "#0d0887"
             ],
             [
              0.1111111111111111,
              "#46039f"
             ],
             [
              0.2222222222222222,
              "#7201a8"
             ],
             [
              0.3333333333333333,
              "#9c179e"
             ],
             [
              0.4444444444444444,
              "#bd3786"
             ],
             [
              0.5555555555555556,
              "#d8576b"
             ],
             [
              0.6666666666666666,
              "#ed7953"
             ],
             [
              0.7777777777777778,
              "#fb9f3a"
             ],
             [
              0.8888888888888888,
              "#fdca26"
             ],
             [
              1,
              "#f0f921"
             ]
            ],
            "type": "histogram2d"
           }
          ],
          "histogram2dcontour": [
           {
            "colorbar": {
             "outlinewidth": 0,
             "ticks": ""
            },
            "colorscale": [
             [
              0,
              "#0d0887"
             ],
             [
              0.1111111111111111,
              "#46039f"
             ],
             [
              0.2222222222222222,
              "#7201a8"
             ],
             [
              0.3333333333333333,
              "#9c179e"
             ],
             [
              0.4444444444444444,
              "#bd3786"
             ],
             [
              0.5555555555555556,
              "#d8576b"
             ],
             [
              0.6666666666666666,
              "#ed7953"
             ],
             [
              0.7777777777777778,
              "#fb9f3a"
             ],
             [
              0.8888888888888888,
              "#fdca26"
             ],
             [
              1,
              "#f0f921"
             ]
            ],
            "type": "histogram2dcontour"
           }
          ],
          "mesh3d": [
           {
            "colorbar": {
             "outlinewidth": 0,
             "ticks": ""
            },
            "type": "mesh3d"
           }
          ],
          "parcoords": [
           {
            "line": {
             "colorbar": {
              "outlinewidth": 0,
              "ticks": ""
             }
            },
            "type": "parcoords"
           }
          ],
          "pie": [
           {
            "automargin": true,
            "type": "pie"
           }
          ],
          "scatter": [
           {
            "marker": {
             "colorbar": {
              "outlinewidth": 0,
              "ticks": ""
             }
            },
            "type": "scatter"
           }
          ],
          "scatter3d": [
           {
            "line": {
             "colorbar": {
              "outlinewidth": 0,
              "ticks": ""
             }
            },
            "marker": {
             "colorbar": {
              "outlinewidth": 0,
              "ticks": ""
             }
            },
            "type": "scatter3d"
           }
          ],
          "scattercarpet": [
           {
            "marker": {
             "colorbar": {
              "outlinewidth": 0,
              "ticks": ""
             }
            },
            "type": "scattercarpet"
           }
          ],
          "scattergeo": [
           {
            "marker": {
             "colorbar": {
              "outlinewidth": 0,
              "ticks": ""
             }
            },
            "type": "scattergeo"
           }
          ],
          "scattergl": [
           {
            "marker": {
             "colorbar": {
              "outlinewidth": 0,
              "ticks": ""
             }
            },
            "type": "scattergl"
           }
          ],
          "scattermapbox": [
           {
            "marker": {
             "colorbar": {
              "outlinewidth": 0,
              "ticks": ""
             }
            },
            "type": "scattermapbox"
           }
          ],
          "scatterpolar": [
           {
            "marker": {
             "colorbar": {
              "outlinewidth": 0,
              "ticks": ""
             }
            },
            "type": "scatterpolar"
           }
          ],
          "scatterpolargl": [
           {
            "marker": {
             "colorbar": {
              "outlinewidth": 0,
              "ticks": ""
             }
            },
            "type": "scatterpolargl"
           }
          ],
          "scatterternary": [
           {
            "marker": {
             "colorbar": {
              "outlinewidth": 0,
              "ticks": ""
             }
            },
            "type": "scatterternary"
           }
          ],
          "surface": [
           {
            "colorbar": {
             "outlinewidth": 0,
             "ticks": ""
            },
            "colorscale": [
             [
              0,
              "#0d0887"
             ],
             [
              0.1111111111111111,
              "#46039f"
             ],
             [
              0.2222222222222222,
              "#7201a8"
             ],
             [
              0.3333333333333333,
              "#9c179e"
             ],
             [
              0.4444444444444444,
              "#bd3786"
             ],
             [
              0.5555555555555556,
              "#d8576b"
             ],
             [
              0.6666666666666666,
              "#ed7953"
             ],
             [
              0.7777777777777778,
              "#fb9f3a"
             ],
             [
              0.8888888888888888,
              "#fdca26"
             ],
             [
              1,
              "#f0f921"
             ]
            ],
            "type": "surface"
           }
          ],
          "table": [
           {
            "cells": {
             "fill": {
              "color": "#EBF0F8"
             },
             "line": {
              "color": "white"
             }
            },
            "header": {
             "fill": {
              "color": "#C8D4E3"
             },
             "line": {
              "color": "white"
             }
            },
            "type": "table"
           }
          ]
         },
         "layout": {
          "annotationdefaults": {
           "arrowcolor": "#2a3f5f",
           "arrowhead": 0,
           "arrowwidth": 1
          },
          "autotypenumbers": "strict",
          "coloraxis": {
           "colorbar": {
            "outlinewidth": 0,
            "ticks": ""
           }
          },
          "colorscale": {
           "diverging": [
            [
             0,
             "#8e0152"
            ],
            [
             0.1,
             "#c51b7d"
            ],
            [
             0.2,
             "#de77ae"
            ],
            [
             0.3,
             "#f1b6da"
            ],
            [
             0.4,
             "#fde0ef"
            ],
            [
             0.5,
             "#f7f7f7"
            ],
            [
             0.6,
             "#e6f5d0"
            ],
            [
             0.7,
             "#b8e186"
            ],
            [
             0.8,
             "#7fbc41"
            ],
            [
             0.9,
             "#4d9221"
            ],
            [
             1,
             "#276419"
            ]
           ],
           "sequential": [
            [
             0,
             "#0d0887"
            ],
            [
             0.1111111111111111,
             "#46039f"
            ],
            [
             0.2222222222222222,
             "#7201a8"
            ],
            [
             0.3333333333333333,
             "#9c179e"
            ],
            [
             0.4444444444444444,
             "#bd3786"
            ],
            [
             0.5555555555555556,
             "#d8576b"
            ],
            [
             0.6666666666666666,
             "#ed7953"
            ],
            [
             0.7777777777777778,
             "#fb9f3a"
            ],
            [
             0.8888888888888888,
             "#fdca26"
            ],
            [
             1,
             "#f0f921"
            ]
           ],
           "sequentialminus": [
            [
             0,
             "#0d0887"
            ],
            [
             0.1111111111111111,
             "#46039f"
            ],
            [
             0.2222222222222222,
             "#7201a8"
            ],
            [
             0.3333333333333333,
             "#9c179e"
            ],
            [
             0.4444444444444444,
             "#bd3786"
            ],
            [
             0.5555555555555556,
             "#d8576b"
            ],
            [
             0.6666666666666666,
             "#ed7953"
            ],
            [
             0.7777777777777778,
             "#fb9f3a"
            ],
            [
             0.8888888888888888,
             "#fdca26"
            ],
            [
             1,
             "#f0f921"
            ]
           ]
          },
          "colorway": [
           "#636efa",
           "#EF553B",
           "#00cc96",
           "#ab63fa",
           "#FFA15A",
           "#19d3f3",
           "#FF6692",
           "#B6E880",
           "#FF97FF",
           "#FECB52"
          ],
          "font": {
           "color": "#2a3f5f"
          },
          "geo": {
           "bgcolor": "white",
           "lakecolor": "white",
           "landcolor": "white",
           "showlakes": true,
           "showland": true,
           "subunitcolor": "#C8D4E3"
          },
          "hoverlabel": {
           "align": "left"
          },
          "hovermode": "closest",
          "mapbox": {
           "style": "light"
          },
          "paper_bgcolor": "white",
          "plot_bgcolor": "white",
          "polar": {
           "angularaxis": {
            "gridcolor": "#EBF0F8",
            "linecolor": "#EBF0F8",
            "ticks": ""
           },
           "bgcolor": "white",
           "radialaxis": {
            "gridcolor": "#EBF0F8",
            "linecolor": "#EBF0F8",
            "ticks": ""
           }
          },
          "scene": {
           "xaxis": {
            "backgroundcolor": "white",
            "gridcolor": "#DFE8F3",
            "gridwidth": 2,
            "linecolor": "#EBF0F8",
            "showbackground": true,
            "ticks": "",
            "zerolinecolor": "#EBF0F8"
           },
           "yaxis": {
            "backgroundcolor": "white",
            "gridcolor": "#DFE8F3",
            "gridwidth": 2,
            "linecolor": "#EBF0F8",
            "showbackground": true,
            "ticks": "",
            "zerolinecolor": "#EBF0F8"
           },
           "zaxis": {
            "backgroundcolor": "white",
            "gridcolor": "#DFE8F3",
            "gridwidth": 2,
            "linecolor": "#EBF0F8",
            "showbackground": true,
            "ticks": "",
            "zerolinecolor": "#EBF0F8"
           }
          },
          "shapedefaults": {
           "line": {
            "color": "#2a3f5f"
           }
          },
          "ternary": {
           "aaxis": {
            "gridcolor": "#DFE8F3",
            "linecolor": "#A2B1C6",
            "ticks": ""
           },
           "baxis": {
            "gridcolor": "#DFE8F3",
            "linecolor": "#A2B1C6",
            "ticks": ""
           },
           "bgcolor": "white",
           "caxis": {
            "gridcolor": "#DFE8F3",
            "linecolor": "#A2B1C6",
            "ticks": ""
           }
          },
          "title": {
           "x": 0.05
          },
          "xaxis": {
           "automargin": true,
           "gridcolor": "#EBF0F8",
           "linecolor": "#EBF0F8",
           "ticks": "",
           "title": {
            "standoff": 15
           },
           "zerolinecolor": "#EBF0F8",
           "zerolinewidth": 2
          },
          "yaxis": {
           "automargin": true,
           "gridcolor": "#EBF0F8",
           "linecolor": "#EBF0F8",
           "ticks": "",
           "title": {
            "standoff": 15
           },
           "zerolinecolor": "#EBF0F8",
           "zerolinewidth": 2
          }
         }
        },
        "title": {
         "font": {
          "size": 24
         },
         "text": "Ladeleistung pro Ladezeitraum eines BEVs",
         "x": 0.5,
         "xanchor": "center"
        },
        "xaxis": {
         "range": [
          480,
          960
         ],
         "showgrid": true,
         "title": {
          "text": "Minuten"
         }
        },
        "yaxis": {
         "range": [
          0,
          60
         ],
         "title": {
          "text": "Energie in kW"
         }
        }
       }
      },
      "text/html": [
       "<div>                            <div id=\"f4185778-45a1-4642-8e1e-9b8783eaba89\" class=\"plotly-graph-div\" style=\"height:525px; width:100%;\"></div>            <script type=\"text/javascript\">                require([\"plotly\"], function(Plotly) {                    window.PLOTLYENV=window.PLOTLYENV || {};                                    if (document.getElementById(\"f4185778-45a1-4642-8e1e-9b8783eaba89\")) {                    Plotly.newPlot(                        \"f4185778-45a1-4642-8e1e-9b8783eaba89\",                        [{\"line\":{\"color\":\"orange\"},\"name\":\"Verf\\u00fcgbare Solarleistung\",\"x\":[480,495,510,525,540,555,570,585,600,615,630,645,660,675,690,705,720,735,750,765,780,795,810,825,840,855,870,885,900,915,930,945,960],\"y\":[-2.0,3.25,8.5,13.749999999999998,19.0,27.0,35.0,43.0,51.0,50.75,50.5,50.25,50.0,51.25,52.5,53.75,55.0,50.25,45.5,40.75,36.0,37.5,39.0,40.5,42.0,36.0,30.0,24.0,18.0,15.75,13.5,11.25,9.0],\"type\":\"scatter\"},{\"line\":{\"color\":\"green\"},\"mode\":\"lines\",\"name\":\"ID BEV 8\",\"x\":[480,480,495,510,525,540,555,570,585,600,615,630,645,660,675,690,705,705],\"y\":[0.0,0.62,5.87,5.56,5.46,7.666666666666667,10.333333333333334,9.75,11.75,12.72,12.655,10.076,10.024,10.123999999999999,10.376000000000001,10.623999999999999,10.75,0.0],\"type\":\"scatter\"},{\"line\":{\"color\":\"green\"},\"mode\":\"lines\",\"name\":\"ID BEV 4\",\"x\":[510.0,510.0,525.0,540.0,555.0,570.0,585.0,600.0,615.0,630.0,645.0,660.0,675.0,690.0,705.0,720.0,734.2986088939567,734.2986088939567],\"y\":[0.0,11.12,10.92,15.333333333333334,20.666666666666668,19.5,23.5,25.44,25.31,20.152,20.048,20.247999999999998,20.752000000000002,21.247999999999998,21.626,17.54,16.823333333333334,0.0],\"type\":\"scatter\"},{\"line\":{\"color\":\"green\"},\"mode\":\"lines\",\"name\":\"ID BEV 6\",\"x\":[525.0,525.0,540.0,555.0,570.0,585.0,600.0,615.0,630.0,645.0,660.0,675.0,690.0,705.0,715.7314269952188,715.7314269952188],\"y\":[0.0,16.38,23.0,31.0,29.25,35.25,38.160000000000004,37.964999999999996,30.228,30.071999999999996,30.371999999999996,31.128000000000004,31.871999999999996,32.502,10.928,0.0],\"type\":\"scatter\"},{\"line\":{\"color\":\"green\"},\"mode\":\"lines\",\"name\":\"ID BEV 9\",\"x\":[570.0,570.0,585.0,600.0,615.0,630.0,645.0,660.0,675.0,690.0,705.0,712.8541743287974,712.8541743287974],\"y\":[0.0,39.0,47.0,50.88,50.62,40.304,40.096,40.495999999999995,41.504000000000005,42.495999999999995,43.378,10.879999999999999,0.0],\"type\":\"scatter\"},{\"line\":{\"color\":\"green\"},\"mode\":\"lines\",\"name\":\"ID BEV 7\",\"x\":[635.1263736483231,635.1263736483231,645.0,660.0,675.0,690.0,705.0,720.0,735.0,750.0,765.0,780.0,795.0,810.0,810.0],\"y\":[0.0,10.076,50.12,50.61999999999999,51.88000000000001,53.11999999999999,54.254000000000005,35.08,23.94,21.56,12.793333333333335,9.1875,9.5625,9.75,0.0],\"type\":\"scatter\"},{\"line\":{\"color\":\"green\"},\"mode\":\"lines\",\"name\":\"ID BEV 1\",\"x\":[712.0834865759471,712.0834865759471,720.0,735.0,750.0,765.0,780.0,795.0,810.0,825.0,840.0,855.0,870.0,885.0,897.7266048701299,897.7266048701299],\"y\":[0.0,10.876000000000001,52.62,47.88,43.12,25.58666666666667,18.375,19.125,19.6875,10.3125,9.75,11.0,9.0,10.5,9.455,0.0],\"type\":\"scatter\"},{\"line\":{\"color\":\"green\"},\"mode\":\"lines\",\"name\":\"ID BEV 5\",\"x\":[770.5263157894736,770.5263157894736,780.0,795.0,810.0,825.0,840.0,851.8923076923077,851.8923076923077],\"y\":[0.0,12.793333333333335,27.5625,28.6875,29.625,20.625,19.5,9.31,0.0],\"type\":\"scatter\"},{\"line\":{\"color\":\"green\"},\"mode\":\"lines\",\"name\":\"ID BEV 3\",\"x\":[782.6793135435989,782.6793135435989,795.0,810.0,825.0,840.0,845.9670454545452,845.9670454545452],\"y\":[0.0,9.1875,38.25,39.5625,30.9375,29.25,9.9025,0.0],\"type\":\"scatter\"},{\"line\":{\"color\":\"green\"},\"mode\":\"lines\",\"name\":\"ID BEV 2\",\"x\":[820.3094339622642,820.3094339622642,825.0,840.0,855.0,870.0,880.1630918560608,880.1630918560608],\"y\":[0.0,9.9375,41.25,39.0,22.0,18.0,8.643333333333333,0.0],\"type\":\"scatter\"},{\"line\":{\"color\":\"green\"},\"mode\":\"lines\",\"name\":\"ID BEV 0\",\"x\":[865.5681818181818,865.5681818181818,870.0,885.0,900.0,915.0,923.9190183901255,923.9190183901255],\"y\":[0.0,11.0,27.0,21.0,16.88,14.62,14.41,0.0],\"type\":\"scatter\"}],                        {\"template\":{\"data\":{\"barpolar\":[{\"marker\":{\"line\":{\"color\":\"white\",\"width\":0.5},\"pattern\":{\"fillmode\":\"overlay\",\"size\":10,\"solidity\":0.2}},\"type\":\"barpolar\"}],\"bar\":[{\"error_x\":{\"color\":\"#2a3f5f\"},\"error_y\":{\"color\":\"#2a3f5f\"},\"marker\":{\"line\":{\"color\":\"white\",\"width\":0.5},\"pattern\":{\"fillmode\":\"overlay\",\"size\":10,\"solidity\":0.2}},\"type\":\"bar\"}],\"carpet\":[{\"aaxis\":{\"endlinecolor\":\"#2a3f5f\",\"gridcolor\":\"#C8D4E3\",\"linecolor\":\"#C8D4E3\",\"minorgridcolor\":\"#C8D4E3\",\"startlinecolor\":\"#2a3f5f\"},\"baxis\":{\"endlinecolor\":\"#2a3f5f\",\"gridcolor\":\"#C8D4E3\",\"linecolor\":\"#C8D4E3\",\"minorgridcolor\":\"#C8D4E3\",\"startlinecolor\":\"#2a3f5f\"},\"type\":\"carpet\"}],\"choropleth\":[{\"colorbar\":{\"outlinewidth\":0,\"ticks\":\"\"},\"type\":\"choropleth\"}],\"contourcarpet\":[{\"colorbar\":{\"outlinewidth\":0,\"ticks\":\"\"},\"type\":\"contourcarpet\"}],\"contour\":[{\"colorbar\":{\"outlinewidth\":0,\"ticks\":\"\"},\"colorscale\":[[0.0,\"#0d0887\"],[0.1111111111111111,\"#46039f\"],[0.2222222222222222,\"#7201a8\"],[0.3333333333333333,\"#9c179e\"],[0.4444444444444444,\"#bd3786\"],[0.5555555555555556,\"#d8576b\"],[0.6666666666666666,\"#ed7953\"],[0.7777777777777778,\"#fb9f3a\"],[0.8888888888888888,\"#fdca26\"],[1.0,\"#f0f921\"]],\"type\":\"contour\"}],\"heatmapgl\":[{\"colorbar\":{\"outlinewidth\":0,\"ticks\":\"\"},\"colorscale\":[[0.0,\"#0d0887\"],[0.1111111111111111,\"#46039f\"],[0.2222222222222222,\"#7201a8\"],[0.3333333333333333,\"#9c179e\"],[0.4444444444444444,\"#bd3786\"],[0.5555555555555556,\"#d8576b\"],[0.6666666666666666,\"#ed7953\"],[0.7777777777777778,\"#fb9f3a\"],[0.8888888888888888,\"#fdca26\"],[1.0,\"#f0f921\"]],\"type\":\"heatmapgl\"}],\"heatmap\":[{\"colorbar\":{\"outlinewidth\":0,\"ticks\":\"\"},\"colorscale\":[[0.0,\"#0d0887\"],[0.1111111111111111,\"#46039f\"],[0.2222222222222222,\"#7201a8\"],[0.3333333333333333,\"#9c179e\"],[0.4444444444444444,\"#bd3786\"],[0.5555555555555556,\"#d8576b\"],[0.6666666666666666,\"#ed7953\"],[0.7777777777777778,\"#fb9f3a\"],[0.8888888888888888,\"#fdca26\"],[1.0,\"#f0f921\"]],\"type\":\"heatmap\"}],\"histogram2dcontour\":[{\"colorbar\":{\"outlinewidth\":0,\"ticks\":\"\"},\"colorscale\":[[0.0,\"#0d0887\"],[0.1111111111111111,\"#46039f\"],[0.2222222222222222,\"#7201a8\"],[0.3333333333333333,\"#9c179e\"],[0.4444444444444444,\"#bd3786\"],[0.5555555555555556,\"#d8576b\"],[0.6666666666666666,\"#ed7953\"],[0.7777777777777778,\"#fb9f3a\"],[0.8888888888888888,\"#fdca26\"],[1.0,\"#f0f921\"]],\"type\":\"histogram2dcontour\"}],\"histogram2d\":[{\"colorbar\":{\"outlinewidth\":0,\"ticks\":\"\"},\"colorscale\":[[0.0,\"#0d0887\"],[0.1111111111111111,\"#46039f\"],[0.2222222222222222,\"#7201a8\"],[0.3333333333333333,\"#9c179e\"],[0.4444444444444444,\"#bd3786\"],[0.5555555555555556,\"#d8576b\"],[0.6666666666666666,\"#ed7953\"],[0.7777777777777778,\"#fb9f3a\"],[0.8888888888888888,\"#fdca26\"],[1.0,\"#f0f921\"]],\"type\":\"histogram2d\"}],\"histogram\":[{\"marker\":{\"pattern\":{\"fillmode\":\"overlay\",\"size\":10,\"solidity\":0.2}},\"type\":\"histogram\"}],\"mesh3d\":[{\"colorbar\":{\"outlinewidth\":0,\"ticks\":\"\"},\"type\":\"mesh3d\"}],\"parcoords\":[{\"line\":{\"colorbar\":{\"outlinewidth\":0,\"ticks\":\"\"}},\"type\":\"parcoords\"}],\"pie\":[{\"automargin\":true,\"type\":\"pie\"}],\"scatter3d\":[{\"line\":{\"colorbar\":{\"outlinewidth\":0,\"ticks\":\"\"}},\"marker\":{\"colorbar\":{\"outlinewidth\":0,\"ticks\":\"\"}},\"type\":\"scatter3d\"}],\"scattercarpet\":[{\"marker\":{\"colorbar\":{\"outlinewidth\":0,\"ticks\":\"\"}},\"type\":\"scattercarpet\"}],\"scattergeo\":[{\"marker\":{\"colorbar\":{\"outlinewidth\":0,\"ticks\":\"\"}},\"type\":\"scattergeo\"}],\"scattergl\":[{\"marker\":{\"colorbar\":{\"outlinewidth\":0,\"ticks\":\"\"}},\"type\":\"scattergl\"}],\"scattermapbox\":[{\"marker\":{\"colorbar\":{\"outlinewidth\":0,\"ticks\":\"\"}},\"type\":\"scattermapbox\"}],\"scatterpolargl\":[{\"marker\":{\"colorbar\":{\"outlinewidth\":0,\"ticks\":\"\"}},\"type\":\"scatterpolargl\"}],\"scatterpolar\":[{\"marker\":{\"colorbar\":{\"outlinewidth\":0,\"ticks\":\"\"}},\"type\":\"scatterpolar\"}],\"scatter\":[{\"marker\":{\"colorbar\":{\"outlinewidth\":0,\"ticks\":\"\"}},\"type\":\"scatter\"}],\"scatterternary\":[{\"marker\":{\"colorbar\":{\"outlinewidth\":0,\"ticks\":\"\"}},\"type\":\"scatterternary\"}],\"surface\":[{\"colorbar\":{\"outlinewidth\":0,\"ticks\":\"\"},\"colorscale\":[[0.0,\"#0d0887\"],[0.1111111111111111,\"#46039f\"],[0.2222222222222222,\"#7201a8\"],[0.3333333333333333,\"#9c179e\"],[0.4444444444444444,\"#bd3786\"],[0.5555555555555556,\"#d8576b\"],[0.6666666666666666,\"#ed7953\"],[0.7777777777777778,\"#fb9f3a\"],[0.8888888888888888,\"#fdca26\"],[1.0,\"#f0f921\"]],\"type\":\"surface\"}],\"table\":[{\"cells\":{\"fill\":{\"color\":\"#EBF0F8\"},\"line\":{\"color\":\"white\"}},\"header\":{\"fill\":{\"color\":\"#C8D4E3\"},\"line\":{\"color\":\"white\"}},\"type\":\"table\"}]},\"layout\":{\"annotationdefaults\":{\"arrowcolor\":\"#2a3f5f\",\"arrowhead\":0,\"arrowwidth\":1},\"autotypenumbers\":\"strict\",\"coloraxis\":{\"colorbar\":{\"outlinewidth\":0,\"ticks\":\"\"}},\"colorscale\":{\"diverging\":[[0,\"#8e0152\"],[0.1,\"#c51b7d\"],[0.2,\"#de77ae\"],[0.3,\"#f1b6da\"],[0.4,\"#fde0ef\"],[0.5,\"#f7f7f7\"],[0.6,\"#e6f5d0\"],[0.7,\"#b8e186\"],[0.8,\"#7fbc41\"],[0.9,\"#4d9221\"],[1,\"#276419\"]],\"sequential\":[[0.0,\"#0d0887\"],[0.1111111111111111,\"#46039f\"],[0.2222222222222222,\"#7201a8\"],[0.3333333333333333,\"#9c179e\"],[0.4444444444444444,\"#bd3786\"],[0.5555555555555556,\"#d8576b\"],[0.6666666666666666,\"#ed7953\"],[0.7777777777777778,\"#fb9f3a\"],[0.8888888888888888,\"#fdca26\"],[1.0,\"#f0f921\"]],\"sequentialminus\":[[0.0,\"#0d0887\"],[0.1111111111111111,\"#46039f\"],[0.2222222222222222,\"#7201a8\"],[0.3333333333333333,\"#9c179e\"],[0.4444444444444444,\"#bd3786\"],[0.5555555555555556,\"#d8576b\"],[0.6666666666666666,\"#ed7953\"],[0.7777777777777778,\"#fb9f3a\"],[0.8888888888888888,\"#fdca26\"],[1.0,\"#f0f921\"]]},\"colorway\":[\"#636efa\",\"#EF553B\",\"#00cc96\",\"#ab63fa\",\"#FFA15A\",\"#19d3f3\",\"#FF6692\",\"#B6E880\",\"#FF97FF\",\"#FECB52\"],\"font\":{\"color\":\"#2a3f5f\"},\"geo\":{\"bgcolor\":\"white\",\"lakecolor\":\"white\",\"landcolor\":\"white\",\"showlakes\":true,\"showland\":true,\"subunitcolor\":\"#C8D4E3\"},\"hoverlabel\":{\"align\":\"left\"},\"hovermode\":\"closest\",\"mapbox\":{\"style\":\"light\"},\"paper_bgcolor\":\"white\",\"plot_bgcolor\":\"white\",\"polar\":{\"angularaxis\":{\"gridcolor\":\"#EBF0F8\",\"linecolor\":\"#EBF0F8\",\"ticks\":\"\"},\"bgcolor\":\"white\",\"radialaxis\":{\"gridcolor\":\"#EBF0F8\",\"linecolor\":\"#EBF0F8\",\"ticks\":\"\"}},\"scene\":{\"xaxis\":{\"backgroundcolor\":\"white\",\"gridcolor\":\"#DFE8F3\",\"gridwidth\":2,\"linecolor\":\"#EBF0F8\",\"showbackground\":true,\"ticks\":\"\",\"zerolinecolor\":\"#EBF0F8\"},\"yaxis\":{\"backgroundcolor\":\"white\",\"gridcolor\":\"#DFE8F3\",\"gridwidth\":2,\"linecolor\":\"#EBF0F8\",\"showbackground\":true,\"ticks\":\"\",\"zerolinecolor\":\"#EBF0F8\"},\"zaxis\":{\"backgroundcolor\":\"white\",\"gridcolor\":\"#DFE8F3\",\"gridwidth\":2,\"linecolor\":\"#EBF0F8\",\"showbackground\":true,\"ticks\":\"\",\"zerolinecolor\":\"#EBF0F8\"}},\"shapedefaults\":{\"line\":{\"color\":\"#2a3f5f\"}},\"ternary\":{\"aaxis\":{\"gridcolor\":\"#DFE8F3\",\"linecolor\":\"#A2B1C6\",\"ticks\":\"\"},\"baxis\":{\"gridcolor\":\"#DFE8F3\",\"linecolor\":\"#A2B1C6\",\"ticks\":\"\"},\"bgcolor\":\"white\",\"caxis\":{\"gridcolor\":\"#DFE8F3\",\"linecolor\":\"#A2B1C6\",\"ticks\":\"\"}},\"title\":{\"x\":0.05},\"xaxis\":{\"automargin\":true,\"gridcolor\":\"#EBF0F8\",\"linecolor\":\"#EBF0F8\",\"ticks\":\"\",\"title\":{\"standoff\":15},\"zerolinecolor\":\"#EBF0F8\",\"zerolinewidth\":2},\"yaxis\":{\"automargin\":true,\"gridcolor\":\"#EBF0F8\",\"linecolor\":\"#EBF0F8\",\"ticks\":\"\",\"title\":{\"standoff\":15},\"zerolinecolor\":\"#EBF0F8\",\"zerolinewidth\":2}}},\"xaxis\":{\"range\":[480,960],\"showgrid\":true,\"title\":{\"text\":\"Minuten\"}},\"yaxis\":{\"range\":[0,60],\"title\":{\"text\":\"Energie in kW\"}},\"title\":{\"font\":{\"size\":24},\"text\":\"Ladeleistung pro Ladezeitraum eines BEVs\",\"x\":0.5,\"xanchor\":\"center\"}},                        {\"responsive\": true}                    ).then(function(){\n",
       "                            \n",
       "var gd = document.getElementById('f4185778-45a1-4642-8e1e-9b8783eaba89');\n",
       "var x = new MutationObserver(function (mutations, observer) {{\n",
       "        var display = window.getComputedStyle(gd).display;\n",
       "        if (!display || display === 'none') {{\n",
       "            console.log([gd, 'removed!']);\n",
       "            Plotly.purge(gd);\n",
       "            observer.disconnect();\n",
       "        }}\n",
       "}});\n",
       "\n",
       "// Listen for the removal of the full notebook cells\n",
       "var notebookContainer = gd.closest('#notebook-container');\n",
       "if (notebookContainer) {{\n",
       "    x.observe(notebookContainer, {childList: true});\n",
       "}}\n",
       "\n",
       "// Listen for the clearing of the current output cell\n",
       "var outputEl = gd.closest('.output');\n",
       "if (outputEl) {{\n",
       "    x.observe(outputEl, {childList: true});\n",
       "}}\n",
       "\n",
       "                        })                };                });            </script>        </div>"
      ]
     },
     "metadata": {},
     "output_type": "display_data"
    }
   ],
   "source": [
    "figureGeneration.create_charging_power_figure(simulation_day, solarpeakleistung, bev_data, minute_interval)"
   ]
  }
 ],
 "metadata": {
  "kernelspec": {
   "display_name": "Python 3 (ipykernel)",
   "language": "python",
   "name": "python3"
  },
  "language_info": {
   "codemirror_mode": {
    "name": "ipython",
    "version": 3
   },
   "file_extension": ".py",
   "mimetype": "text/x-python",
   "name": "python",
   "nbconvert_exporter": "python",
   "pygments_lexer": "ipython3",
   "version": "3.9.5"
  }
 },
 "nbformat": 4,
 "nbformat_minor": 4
}
